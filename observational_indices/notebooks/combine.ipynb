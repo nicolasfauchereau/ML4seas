{
 "cells": [
  {
   "cell_type": "markdown",
   "metadata": {},
   "source": [
    "### combine all observational indices (EMI, IOD, NINO3.4, SAM, SPSD) into one dataframe "
   ]
  },
  {
   "cell_type": "code",
   "execution_count": 11,
   "metadata": {},
   "outputs": [],
   "source": [
    "import pathlib"
   ]
  },
  {
   "cell_type": "code",
   "execution_count": 12,
   "metadata": {},
   "outputs": [],
   "source": [
    "import pandas as pd"
   ]
  },
  {
   "cell_type": "code",
   "execution_count": 13,
   "metadata": {},
   "outputs": [],
   "source": [
    "dpath = pathlib.Path(\"/media/nicolasf/END19101/data/observational_indices\")"
   ]
  },
  {
   "cell_type": "code",
   "execution_count": 14,
   "metadata": {},
   "outputs": [],
   "source": [
    "lfiles = list(dpath.rglob(\"*.csv\"))"
   ]
  },
  {
   "cell_type": "code",
   "execution_count": 15,
   "metadata": {},
   "outputs": [],
   "source": [
    "lfiles.sort()"
   ]
  },
  {
   "cell_type": "code",
   "execution_count": 16,
   "metadata": {},
   "outputs": [
    {
     "data": {
      "text/plain": [
       "[PosixPath('/media/nicolasf/END19101/data/observational_indices/EMI/EMI.csv'),\n",
       " PosixPath('/media/nicolasf/END19101/data/observational_indices/IOD/IOD.csv'),\n",
       " PosixPath('/media/nicolasf/END19101/data/observational_indices/NINO34/NINO34.csv'),\n",
       " PosixPath('/media/nicolasf/END19101/data/observational_indices/SAM/SAM.csv'),\n",
       " PosixPath('/media/nicolasf/END19101/data/observational_indices/SPSD/SPSD.csv')]"
      ]
     },
     "execution_count": 16,
     "metadata": {},
     "output_type": "execute_result"
    }
   ],
   "source": [
    "lfiles"
   ]
  },
  {
   "cell_type": "code",
   "execution_count": 17,
   "metadata": {},
   "outputs": [],
   "source": [
    "ldata = []\n",
    "for f in lfiles: \n",
    "    data = pd.read_csv(f, index_col=0, parse_dates=True)\n",
    "    ldata.append(data)"
   ]
  },
  {
   "cell_type": "code",
   "execution_count": 19,
   "metadata": {},
   "outputs": [],
   "source": [
    "data = pd.concat(ldata, axis=1)"
   ]
  },
  {
   "cell_type": "code",
   "execution_count": 22,
   "metadata": {},
   "outputs": [],
   "source": [
    "data = data.dropna(axis=0)"
   ]
  },
  {
   "cell_type": "code",
   "execution_count": 25,
   "metadata": {},
   "outputs": [
    {
     "data": {
      "text/html": [
       "<div>\n",
       "<style scoped>\n",
       "    .dataframe tbody tr th:only-of-type {\n",
       "        vertical-align: middle;\n",
       "    }\n",
       "\n",
       "    .dataframe tbody tr th {\n",
       "        vertical-align: top;\n",
       "    }\n",
       "\n",
       "    .dataframe thead th {\n",
       "        text-align: right;\n",
       "    }\n",
       "</style>\n",
       "<table border=\"1\" class=\"dataframe\">\n",
       "  <thead>\n",
       "    <tr style=\"text-align: right;\">\n",
       "      <th></th>\n",
       "      <th>EMI</th>\n",
       "      <th>IOD</th>\n",
       "      <th>NINO34</th>\n",
       "      <th>SAM</th>\n",
       "      <th>SPSD</th>\n",
       "    </tr>\n",
       "  </thead>\n",
       "  <tbody>\n",
       "    <tr>\n",
       "      <th>EMI</th>\n",
       "      <td>1.000000</td>\n",
       "      <td>0.208274</td>\n",
       "      <td>0.508892</td>\n",
       "      <td>-0.214303</td>\n",
       "      <td>-0.230506</td>\n",
       "    </tr>\n",
       "    <tr>\n",
       "      <th>IOD</th>\n",
       "      <td>0.208274</td>\n",
       "      <td>1.000000</td>\n",
       "      <td>0.333795</td>\n",
       "      <td>-0.024405</td>\n",
       "      <td>-0.022151</td>\n",
       "    </tr>\n",
       "    <tr>\n",
       "      <th>NINO34</th>\n",
       "      <td>0.508892</td>\n",
       "      <td>0.333795</td>\n",
       "      <td>1.000000</td>\n",
       "      <td>-0.161542</td>\n",
       "      <td>-0.543405</td>\n",
       "    </tr>\n",
       "    <tr>\n",
       "      <th>SAM</th>\n",
       "      <td>-0.214303</td>\n",
       "      <td>-0.024405</td>\n",
       "      <td>-0.161542</td>\n",
       "      <td>1.000000</td>\n",
       "      <td>0.325783</td>\n",
       "    </tr>\n",
       "    <tr>\n",
       "      <th>SPSD</th>\n",
       "      <td>-0.230506</td>\n",
       "      <td>-0.022151</td>\n",
       "      <td>-0.543405</td>\n",
       "      <td>0.325783</td>\n",
       "      <td>1.000000</td>\n",
       "    </tr>\n",
       "  </tbody>\n",
       "</table>\n",
       "</div>"
      ],
      "text/plain": [
       "             EMI       IOD    NINO34       SAM      SPSD\n",
       "EMI     1.000000  0.208274  0.508892 -0.214303 -0.230506\n",
       "IOD     0.208274  1.000000  0.333795 -0.024405 -0.022151\n",
       "NINO34  0.508892  0.333795  1.000000 -0.161542 -0.543405\n",
       "SAM    -0.214303 -0.024405 -0.161542  1.000000  0.325783\n",
       "SPSD   -0.230506 -0.022151 -0.543405  0.325783  1.000000"
      ]
     },
     "execution_count": 25,
     "metadata": {},
     "output_type": "execute_result"
    }
   ],
   "source": [
    "data.corr()"
   ]
  },
  {
   "cell_type": "markdown",
   "metadata": {},
   "source": [
    "### saves to disk "
   ]
  },
  {
   "cell_type": "code",
   "execution_count": 26,
   "metadata": {},
   "outputs": [],
   "source": [
    "data.to_csv(dpath.joinpath(\"observational_indices.csv\"))"
   ]
  },
  {
   "cell_type": "code",
   "execution_count": null,
   "metadata": {},
   "outputs": [],
   "source": []
  }
 ],
 "metadata": {
  "kernelspec": {
   "display_name": "Python 3",
   "language": "python",
   "name": "python3"
  },
  "language_info": {
   "codemirror_mode": {
    "name": "ipython",
    "version": 3
   },
   "file_extension": ".py",
   "mimetype": "text/x-python",
   "name": "python",
   "nbconvert_exporter": "python",
   "pygments_lexer": "ipython3",
   "version": "3.8.5"
  }
 },
 "nbformat": 4,
 "nbformat_minor": 4
}
