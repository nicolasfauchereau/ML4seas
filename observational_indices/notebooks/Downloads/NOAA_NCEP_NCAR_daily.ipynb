{
 "cells": [
  {
   "cell_type": "markdown",
   "metadata": {},
   "source": [
    "# Python code to download the NOAA NCEP NCAR daily reanalysis "
   ]
  },
  {
   "cell_type": "code",
   "execution_count": null,
   "metadata": {},
   "outputs": [],
   "source": [
    "mode = 'download'\n",
    "# mode = 'update'"
   ]
  },
  {
   "cell_type": "code",
   "execution_count": null,
   "metadata": {},
   "outputs": [],
   "source": [
    "import sys"
   ]
  },
  {
   "cell_type": "code",
   "execution_count": null,
   "metadata": {},
   "outputs": [],
   "source": [
    "print(sys.executable)"
   ]
  },
  {
   "cell_type": "code",
   "execution_count": null,
   "metadata": {},
   "outputs": [],
   "source": [
    "import pathlib\n",
    "import ftplib"
   ]
  },
  {
   "cell_type": "code",
   "execution_count": null,
   "metadata": {},
   "outputs": [],
   "source": [
    "import numpy as np \n",
    "import pandas as pd \n",
    "import xarray as xr"
   ]
  },
  {
   "cell_type": "markdown",
   "metadata": {},
   "source": [
    "### set the local path where the data will be downloaded "
   ]
  },
  {
   "cell_type": "markdown",
   "metadata": {},
   "source": [
    "### output directory "
   ]
  },
  {
   "cell_type": "code",
   "execution_count": null,
   "metadata": {},
   "outputs": [],
   "source": [
    "CWD = pathlib.Path.cwd()"
   ]
  },
  {
   "cell_type": "code",
   "execution_count": null,
   "metadata": {},
   "outputs": [],
   "source": [
    "opath = CWD.parents[1] / 'data' / 'NCEP_NCAR' / 'daily'"
   ]
  },
  {
   "cell_type": "code",
   "execution_count": null,
   "metadata": {},
   "outputs": [],
   "source": [
    "if not opath.exists(): \n",
    "    opath.mkdir(parents=True) "
   ]
  },
  {
   "cell_type": "markdown",
   "metadata": {},
   "source": [
    "### set the URL and the location of the datasets on the NOAA server "
   ]
  },
  {
   "cell_type": "code",
   "execution_count": null,
   "metadata": {},
   "outputs": [],
   "source": [
    "url = 'ftp2.psl.noaa.gov'"
   ]
  },
  {
   "cell_type": "code",
   "execution_count": null,
   "metadata": {},
   "outputs": [],
   "source": [
    "folder = 'Datasets/ncep.reanalysis.dailyavgs/pressure'"
   ]
  },
  {
   "cell_type": "markdown",
   "metadata": {},
   "source": [
    "### set the domain for extraction "
   ]
  },
  {
   "cell_type": "code",
   "execution_count": null,
   "metadata": {},
   "outputs": [],
   "source": [
    "latN = 15\n",
    "latS = -60\n",
    "lonW = 155\n",
    "lonE = 235\n",
    "\n",
    "level = 1000"
   ]
  },
  {
   "cell_type": "markdown",
   "metadata": {},
   "source": [
    "### Now connect, get the list of files, and download either the whole dataset or the last file "
   ]
  },
  {
   "cell_type": "code",
   "execution_count": null,
   "metadata": {},
   "outputs": [],
   "source": [
    "with ftplib.FTP(url) as ftp: \n",
    "    \n",
    "    # login \n",
    "    ftp.login()\n",
    "    \n",
    "    # move into the datasets directory \n",
    "    ftp.cwd(folder)\n",
    "    \n",
    "    # get the list of files\n",
    "    filenames = ftp.nlst()\n",
    "    \n",
    "    # select the geopotential files \n",
    "    filenames = [f for f in filenames if 'hgt' in f]\n",
    "    \n",
    "    # if download mode, we download everything (the whole dataset)\n",
    "    if mode == 'download': \n",
    "        for filename in filenames: \n",
    "            if opath.joinpath(filename).exists(): \n",
    "                print(f\"{filename} already downloaded and extracted in {str(local_path)}, skipping to next file\")\n",
    "            else:\n",
    "                with open(opath.joinpath(filename), 'wb') as f:\n",
    "                    ftp.retrbinary('RETR ' + filename, f.write)\n",
    "                if not opath.joinpath(filename).exists(): \n",
    "                    print(f\"download failed for {filename}\")\n",
    "                else:\n",
    "                    print(f\"{filename} successfully downloaded in {str(opath)}, now extracting domain\")\n",
    "                    \n",
    "                    # open the file \n",
    "                    dset = xr.open_dataset(opath.joinpath(filename))\n",
    "                    \n",
    "                    # extract the domain and the level, latN first as goes from N to S \n",
    "                    dset = dset.sel(lon=slice(lonW, lonE), lat=slice(latN, latS), level=level)\n",
    "\n",
    "                    # remove singleton dimension \n",
    "                    dset = dset.squeeze()\n",
    "            \n",
    "                    # flip the latitudes to go from S to N\n",
    "                    dset = dset.sortby('lat')\n",
    "                    \n",
    "                    # remove the file \n",
    "                    opath.joinpath(filename).unlink() \n",
    "                    \n",
    "                    # saves the extracted domain \n",
    "                    dset.to_netcdf(opath.joinpath(filename))\n",
    "                    \n",
    "                    # close the dataset \n",
    "                    dset.close()\n",
    "                    \n",
    "                    if opath.joinpath(filename).exists(): \n",
    "                        print(f\"successfully extracted domain for {str(opath.joinpath(filename))}\")\n",
    "\n",
    "    # if update mode, we only download the last file ... \n",
    "    \n",
    "    elif mode == 'update':\n",
    "        filename = filenames[-1]\n",
    "        with open(opath.joinpath(filename), 'wb') as f:\n",
    "            ftp.retrbinary('RETR ' + filename, f.write)\n",
    "        if not opath.joinpath(filename).exists(): \n",
    "            print(f\"download failed for {filename}\")\n",
    "        else:\n",
    "            print(f\"{filename} successfully downloaded in {str(opath)}, now extracting domain\")\n",
    "\n",
    "             # open the file \n",
    "            dset = xr.open_dataset(opath.joinpath(filename))\n",
    "            \n",
    "            # extract the domain and the level, latN first as goes from N to S\n",
    "            dset = dset.sel(lon=slice(lonW, lonE), lat=slice(latN, latS), level=level)\n",
    "            \n",
    "            # remove singleton dimension \n",
    "            dset = dset.squeeze()\n",
    "            \n",
    "            # flip the latitudes to go from S to N\n",
    "            dset = dset.sortby('lat')\n",
    "\n",
    "            # remove the file \n",
    "            opath.joinpath(filename).unlink() \n",
    "            \n",
    "            # saves the extracted domain \n",
    "            dset.to_netcdf(opath.joinpath(filename))\n",
    "\n",
    "            # close the dataset \n",
    "            dset.close()\n",
    "            \n",
    "            if opath.joinpath(filename).exists(): \n",
    "                print(f\"successfully extracted domain for {str(opath.joinpath(filename))}\")\n",
    "                \n",
    "        "
   ]
  }
 ],
 "metadata": {
  "kernelspec": {
   "display_name": "Python 3",
   "language": "python",
   "name": "python3"
  },
  "language_info": {
   "codemirror_mode": {
    "name": "ipython",
    "version": 3
   },
   "file_extension": ".py",
   "mimetype": "text/x-python",
   "name": "python",
   "nbconvert_exporter": "python",
   "pygments_lexer": "ipython3",
   "version": "3.7.5"
  }
 },
 "nbformat": 4,
 "nbformat_minor": 4
}
