{
 "cells": [
  {
   "cell_type": "markdown",
   "metadata": {},
   "source": [
    "# Python code to download the NOAA OISST v2 HIRES daily SST dataset, uses `ftplib` instead of `curl` via system call "
   ]
  },
  {
   "cell_type": "code",
   "execution_count": null,
   "metadata": {},
   "outputs": [],
   "source": [
    "mode = 'download'\n",
    "# mode = 'update'"
   ]
  },
  {
   "cell_type": "code",
   "execution_count": null,
   "metadata": {},
   "outputs": [],
   "source": [
    "import sys"
   ]
  },
  {
   "cell_type": "code",
   "execution_count": null,
   "metadata": {},
   "outputs": [],
   "source": [
    "print(sys.executable)"
   ]
  },
  {
   "cell_type": "code",
   "execution_count": null,
   "metadata": {},
   "outputs": [],
   "source": [
    "import pathlib\n",
    "import ftplib"
   ]
  },
  {
   "cell_type": "markdown",
   "metadata": {},
   "source": [
    "### set the local path where the data will be downloaded "
   ]
  },
  {
   "cell_type": "code",
   "execution_count": null,
   "metadata": {},
   "outputs": [],
   "source": [
    "local_path = pathlib.Path('./data')"
   ]
  },
  {
   "cell_type": "code",
   "execution_count": null,
   "metadata": {},
   "outputs": [],
   "source": [
    "if not local_path.exists(): \n",
    "    local_path.mkdir(parents=True)"
   ]
  },
  {
   "cell_type": "markdown",
   "metadata": {},
   "source": [
    "### set the URL and the location of the datasets on the NOAA server "
   ]
  },
  {
   "cell_type": "code",
   "execution_count": null,
   "metadata": {},
   "outputs": [],
   "source": [
    "url = 'ftp.cdc.noaa.gov'"
   ]
  },
  {
   "cell_type": "code",
   "execution_count": null,
   "metadata": {},
   "outputs": [],
   "source": [
    "folder = 'Datasets/noaa.oisst.v2.highres/'"
   ]
  },
  {
   "cell_type": "markdown",
   "metadata": {},
   "source": [
    "### Now connect, get the list of files, and download either the whole dataset or the last file "
   ]
  },
  {
   "cell_type": "code",
   "execution_count": null,
   "metadata": {},
   "outputs": [],
   "source": [
    "with ftplib.FTP(url) as ftp: \n",
    "    \n",
    "    # login \n",
    "    ftp.login()\n",
    "    \n",
    "    # move into the datasets directory \n",
    "    ftp.cwd(folder)\n",
    "    \n",
    "    # get the list of files\n",
    "    filenames = ftp.nlst()\n",
    "    \n",
    "    # select only daily SST averages from version 2\n",
    "    filenames = [f for f in filenames if 'sst.day.mean' in f and 'v2' in f]\n",
    "    \n",
    "    # if download mode, we download everything (the whole dataset)\n",
    "    if mode == 'download': \n",
    "        for filename in filenames: \n",
    "            if local_path.joinpath(filename).exists(): \n",
    "                print(f\"{filename} already downloaded in {str(local_path)}, skipping to next file\")\n",
    "            else:\n",
    "                with open(local_path.joinpath(filename), 'wb') as f:\n",
    "                    ftp.retrbinary('RETR ' + filename, f.write)\n",
    "                if not local_path.joinpath(filename).exists(): \n",
    "                    print(f\"download failed for {filename}\")\n",
    "                else:\n",
    "                    print(f\"{filename} successfully downloaded in {str(local_path)}\")\n",
    "\n",
    "    # if update mode, we only download the last file \n",
    "    elif mode == 'update':\n",
    "        filename = filenames[-1]\n",
    "        with open(local_path.joinpath(filename), 'wb') as f:\n",
    "            ftp.retrbinary('RETR ' + filename, f.write)\n",
    "        if not local_path.joinpath(filename).exists(): \n",
    "            print(f\"download failed for {filename}\")\n",
    "        else:\n",
    "            print(f\"{filename} successfully downloaded in {str(local_path)}\")       "
   ]
  },
  {
   "cell_type": "code",
   "execution_count": null,
   "metadata": {},
   "outputs": [],
   "source": []
  }
 ],
 "metadata": {
  "kernelspec": {
   "display_name": "Python 3",
   "language": "python",
   "name": "python3"
  },
  "language_info": {
   "codemirror_mode": {
    "name": "ipython",
    "version": 3
   },
   "file_extension": ".py",
   "mimetype": "text/x-python",
   "name": "python",
   "nbconvert_exporter": "python",
   "pygments_lexer": "ipython3",
   "version": "3.8.5"
  }
 },
 "nbformat": 4,
 "nbformat_minor": 4
}
