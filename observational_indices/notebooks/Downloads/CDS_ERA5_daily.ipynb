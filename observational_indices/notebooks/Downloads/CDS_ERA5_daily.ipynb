{
 "cells": [
  {
   "cell_type": "markdown",
   "metadata": {},
   "source": [
    "# Download ERA5 daily variables for an extended Indian Ocean + Pacific domain (for regimes analysis)"
   ]
  },
  {
   "cell_type": "code",
   "execution_count": 1,
   "metadata": {},
   "outputs": [],
   "source": [
    "import sys "
   ]
  },
  {
   "cell_type": "code",
   "execution_count": 2,
   "metadata": {},
   "outputs": [
    {
     "name": "stdout",
     "output_type": "stream",
     "text": [
      "/home/nicolasf/anaconda3/envs/climlab/bin/python\n"
     ]
    }
   ],
   "source": [
    "print(sys.executable)"
   ]
  },
  {
   "cell_type": "markdown",
   "metadata": {},
   "source": [
    "### imports "
   ]
  },
  {
   "cell_type": "code",
   "execution_count": 3,
   "metadata": {},
   "outputs": [],
   "source": [
    "import pathlib \n",
    "from datetime import datetime, timedelta"
   ]
  },
  {
   "cell_type": "code",
   "execution_count": 4,
   "metadata": {},
   "outputs": [],
   "source": [
    "import numpy as np \n",
    "import pandas as pd\n",
    "import xarray as xr\n",
    "import cdsapi"
   ]
  },
  {
   "cell_type": "code",
   "execution_count": 5,
   "metadata": {},
   "outputs": [],
   "source": [
    "today = datetime.utcnow()"
   ]
  },
  {
   "cell_type": "markdown",
   "metadata": {},
   "source": [
    "### range of dates"
   ]
  },
  {
   "cell_type": "code",
   "execution_count": 6,
   "metadata": {},
   "outputs": [],
   "source": [
    "dates = pd.date_range(start = '1979-01-01', end = today) "
   ]
  },
  {
   "cell_type": "markdown",
   "metadata": {},
   "source": [
    "### output directory "
   ]
  },
  {
   "cell_type": "code",
   "execution_count": 7,
   "metadata": {},
   "outputs": [],
   "source": [
    "CWD = pathlib.Path.cwd()"
   ]
  },
  {
   "cell_type": "code",
   "execution_count": 8,
   "metadata": {},
   "outputs": [],
   "source": [
    "opath = CWD.parents[1] / 'data' / 'ERA5' / 'daily'"
   ]
  },
  {
   "cell_type": "code",
   "execution_count": 9,
   "metadata": {},
   "outputs": [],
   "source": [
    "if not opath.exists(): \n",
    "    opath.mkdir(parents=True) "
   ]
  },
  {
   "cell_type": "markdown",
   "metadata": {},
   "source": [
    "### select the domain here, needs to encompass the NZ region (for the Kidson Types) and the SW Pacific region (for the SW Pacific regimes)"
   ]
  },
  {
   "cell_type": "markdown",
   "metadata": {},
   "source": [
    "the domain for the Kidson Types is: \n",
    "    \n",
    "    \n",
    "+ lonmin = 160  \n",
    "+ latmin = -55  \n",
    "+ lonmax = 185  \n",
    "+ latmax = -25  \n",
    "\n",
    "at level = 1000\n",
    "\n",
    "The domain for the SW Pacific regimes is (quote from the paper): \n",
    "    \n",
    "As such, we used the results of z1000 for domain 4 (−30, 10, 160, 230) to ascribe regional WRs for the SW Pacific, and the domain choice closely follows a region circumscribing the SPCZ (Widlansky et al., 2011)."
   ]
  },
  {
   "cell_type": "code",
   "execution_count": 10,
   "metadata": {},
   "outputs": [],
   "source": [
    "latN = 15\n",
    "latS = -60\n",
    "lonW = 155\n",
    "lonE = 235"
   ]
  },
  {
   "cell_type": "markdown",
   "metadata": {},
   "source": [
    "### variable name "
   ]
  },
  {
   "cell_type": "code",
   "execution_count": 11,
   "metadata": {},
   "outputs": [],
   "source": [
    "var_name = 'geopotential'"
   ]
  },
  {
   "cell_type": "markdown",
   "metadata": {},
   "source": [
    "### level "
   ]
  },
  {
   "cell_type": "code",
   "execution_count": 12,
   "metadata": {},
   "outputs": [],
   "source": [
    "level = 1000 "
   ]
  },
  {
   "cell_type": "markdown",
   "metadata": {},
   "source": [
    "### Now loop over the dates, check whether the file has already been downloaded, and if not downloads "
   ]
  },
  {
   "cell_type": "code",
   "execution_count": 13,
   "metadata": {},
   "outputs": [
    {
     "name": "stdout",
     "output_type": "stream",
     "text": [
      "downloading /home/nicolasf/research/CPP/indices/data/ERA5/daily/ERA5_daily_geopotential_1000_2017-10-11.nc\n"
     ]
    },
    {
     "name": "stderr",
     "output_type": "stream",
     "text": [
      "2020-06-14 12:54:25,424 INFO Welcome to the CDS\n",
      "2020-06-14 12:54:25,425 INFO Sending request to https://cds.climate.copernicus.eu/api/v2/resources/reanalysis-era5-pressure-levels\n",
      "2020-06-14 12:54:27,571 INFO Request is queued\n",
      "2020-06-14 12:54:28,904 INFO Request is running\n",
      "2020-06-14 12:54:30,745 INFO Request is completed\n",
      "2020-06-14 12:54:30,747 INFO Downloading http://136.156.132.153/cache-compute-0002/cache/data8/adaptor.mars.internal-1592096067.919075-25607-13-b647585c-b657-4777-bb57-dee871921d34.nc to /home/nicolasf/research/CPP/indices/data/ERA5/daily/ERA5_daily_geopotential_1000_2017-10-11.nc (192.2K)\n",
      "2020-06-14 12:54:32,595 INFO Download rate 104.1K/s\n"
     ]
    },
    {
     "name": "stdout",
     "output_type": "stream",
     "text": [
      "downloading /home/nicolasf/research/CPP/indices/data/ERA5/daily/ERA5_daily_geopotential_1000_2017-10-12.nc\n"
     ]
    },
    {
     "name": "stderr",
     "output_type": "stream",
     "text": [
      "2020-06-14 12:54:34,434 INFO Welcome to the CDS\n",
      "2020-06-14 12:54:34,435 INFO Sending request to https://cds.climate.copernicus.eu/api/v2/resources/reanalysis-era5-pressure-levels\n",
      "2020-06-14 12:54:35,721 INFO Request is queued\n",
      "2020-06-14 12:54:37,094 INFO Request is running\n",
      "2020-06-14 12:54:38,937 INFO Request is completed\n",
      "2020-06-14 12:54:38,939 INFO Downloading http://136.156.133.42/cache-compute-0014/cache/data5/adaptor.mars.internal-1592096075.8372512-25799-26-313e0bbd-8257-45bc-a1ee-b22e8d9b083a.nc to /home/nicolasf/research/CPP/indices/data/ERA5/daily/ERA5_daily_geopotential_1000_2017-10-12.nc (192.2K)\n",
      "2020-06-14 12:54:40,787 INFO Download rate 104.1K/s\n"
     ]
    },
    {
     "name": "stdout",
     "output_type": "stream",
     "text": [
      "downloading /home/nicolasf/research/CPP/indices/data/ERA5/daily/ERA5_daily_geopotential_1000_2017-10-13.nc\n"
     ]
    },
    {
     "name": "stderr",
     "output_type": "stream",
     "text": [
      "2020-06-14 12:54:42,523 INFO Welcome to the CDS\n",
      "2020-06-14 12:54:42,525 INFO Sending request to https://cds.climate.copernicus.eu/api/v2/resources/reanalysis-era5-pressure-levels\n",
      "2020-06-14 12:54:43,954 INFO Request is queued\n",
      "2020-06-14 12:54:45,285 INFO Request is completed\n",
      "2020-06-14 12:54:45,287 INFO Downloading http://136.156.133.39/cache-compute-0012/cache/data9/adaptor.mars.internal-1592096083.866429-21267-22-31ac9908-34c6-425f-9173-46fd4f6f632d.nc to /home/nicolasf/research/CPP/indices/data/ERA5/daily/ERA5_daily_geopotential_1000_2017-10-13.nc (192.2K)\n",
      "2020-06-14 12:54:47,135 INFO Download rate 104.1K/s\n"
     ]
    },
    {
     "name": "stdout",
     "output_type": "stream",
     "text": [
      "downloading /home/nicolasf/research/CPP/indices/data/ERA5/daily/ERA5_daily_geopotential_1000_2017-10-14.nc\n"
     ]
    },
    {
     "name": "stderr",
     "output_type": "stream",
     "text": [
      "2020-06-14 12:54:48,839 INFO Welcome to the CDS\n",
      "2020-06-14 12:54:48,842 INFO Sending request to https://cds.climate.copernicus.eu/api/v2/resources/reanalysis-era5-pressure-levels\n",
      "2020-06-14 12:54:50,164 INFO Request is queued\n",
      "2020-06-14 12:54:51,531 INFO Request is running\n",
      "2020-06-14 12:54:53,375 INFO Request is completed\n",
      "2020-06-14 12:54:53,377 INFO Downloading http://136.156.132.201/cache-compute-0004/cache/data5/adaptor.mars.internal-1592096090.188194-8143-1-804ca81b-0382-4486-adb2-1a095cffcafe.nc to /home/nicolasf/research/CPP/indices/data/ERA5/daily/ERA5_daily_geopotential_1000_2017-10-14.nc (192.2K)\n",
      "2020-06-14 12:54:55,184 INFO Download rate 106.5K/s\n"
     ]
    },
    {
     "name": "stdout",
     "output_type": "stream",
     "text": [
      "downloading /home/nicolasf/research/CPP/indices/data/ERA5/daily/ERA5_daily_geopotential_1000_2017-10-15.nc\n"
     ]
    },
    {
     "name": "stderr",
     "output_type": "stream",
     "text": [
      "2020-06-14 12:54:57,063 INFO Welcome to the CDS\n",
      "2020-06-14 12:54:57,065 INFO Sending request to https://cds.climate.copernicus.eu/api/v2/resources/reanalysis-era5-pressure-levels\n",
      "2020-06-14 12:54:58,493 INFO Request is queued\n",
      "2020-06-14 12:54:59,825 INFO Request is running\n",
      "2020-06-14 12:55:01,668 INFO Request is completed\n",
      "2020-06-14 12:55:01,670 INFO Downloading http://136.156.132.198/cache-compute-0003/cache/data2/adaptor.mars.internal-1592096098.6778135-16672-3-91e4b5c4-fce1-4733-9413-0cacf65ee0bd.nc to /home/nicolasf/research/CPP/indices/data/ERA5/daily/ERA5_daily_geopotential_1000_2017-10-15.nc (192.2K)\n",
      "2020-06-14 12:55:03,521 INFO Download rate 104K/s  \n"
     ]
    },
    {
     "name": "stdout",
     "output_type": "stream",
     "text": [
      "downloading /home/nicolasf/research/CPP/indices/data/ERA5/daily/ERA5_daily_geopotential_1000_2017-10-16.nc\n"
     ]
    },
    {
     "name": "stderr",
     "output_type": "stream",
     "text": [
      "2020-06-14 12:55:05,152 INFO Welcome to the CDS\n",
      "2020-06-14 12:55:05,153 INFO Sending request to https://cds.climate.copernicus.eu/api/v2/resources/reanalysis-era5-pressure-levels\n",
      "2020-06-14 12:55:06,467 INFO Request is queued\n",
      "2020-06-14 12:55:07,747 INFO Request is completed\n",
      "2020-06-14 12:55:07,748 INFO Downloading http://136.156.133.41/cache-compute-0013/cache/data3/adaptor.mars.internal-1592096106.397272-29639-15-0c45acd7-117e-45f5-95e2-ad19d8bcc3f1.nc to /home/nicolasf/research/CPP/indices/data/ERA5/daily/ERA5_daily_geopotential_1000_2017-10-16.nc (192.2K)\n",
      "2020-06-14 12:55:09,765 INFO Download rate 95.5K/s \n"
     ]
    },
    {
     "name": "stdout",
     "output_type": "stream",
     "text": [
      "downloading /home/nicolasf/research/CPP/indices/data/ERA5/daily/ERA5_daily_geopotential_1000_2017-10-17.nc\n"
     ]
    },
    {
     "name": "stderr",
     "output_type": "stream",
     "text": [
      "2020-06-14 12:55:11,807 INFO Welcome to the CDS\n",
      "2020-06-14 12:55:11,808 INFO Sending request to https://cds.climate.copernicus.eu/api/v2/resources/reanalysis-era5-pressure-levels\n",
      "2020-06-14 12:55:13,238 INFO Request is queued\n",
      "2020-06-14 12:55:14,570 INFO Request is completed\n",
      "2020-06-14 12:55:14,573 INFO Downloading http://136.156.132.153/cache-compute-0002/cache/data8/adaptor.mars.internal-1592096113.176036-397-13-9718e317-23aa-448e-a82e-842494be7be4.nc to /home/nicolasf/research/CPP/indices/data/ERA5/daily/ERA5_daily_geopotential_1000_2017-10-17.nc (192.2K)\n",
      "2020-06-14 12:55:16,419 INFO Download rate 104.3K/s\n"
     ]
    },
    {
     "name": "stdout",
     "output_type": "stream",
     "text": [
      "downloading /home/nicolasf/research/CPP/indices/data/ERA5/daily/ERA5_daily_geopotential_1000_2017-10-18.nc\n"
     ]
    },
    {
     "name": "stderr",
     "output_type": "stream",
     "text": [
      "2020-06-14 12:55:18,054 INFO Welcome to the CDS\n",
      "2020-06-14 12:55:18,055 INFO Sending request to https://cds.climate.copernicus.eu/api/v2/resources/reanalysis-era5-pressure-levels\n",
      "2020-06-14 12:55:19,718 INFO Request is queued\n",
      "2020-06-14 12:55:21,121 INFO Request is running\n",
      "2020-06-14 12:55:22,965 INFO Request is completed\n",
      "2020-06-14 12:55:22,967 INFO Downloading http://136.156.132.201/cache-compute-0004/cache/data7/adaptor.mars.internal-1592096119.6425655-2499-15-70073530-3d61-4872-aba0-e0ecb85ffb39.nc to /home/nicolasf/research/CPP/indices/data/ERA5/daily/ERA5_daily_geopotential_1000_2017-10-18.nc (192.2K)\n",
      "2020-06-14 12:55:24,813 INFO Download rate 104.3K/s\n"
     ]
    },
    {
     "name": "stdout",
     "output_type": "stream",
     "text": [
      "downloading /home/nicolasf/research/CPP/indices/data/ERA5/daily/ERA5_daily_geopotential_1000_2017-10-19.nc\n"
     ]
    },
    {
     "name": "stderr",
     "output_type": "stream",
     "text": [
      "2020-06-14 12:55:26,347 INFO Welcome to the CDS\n",
      "2020-06-14 12:55:26,349 INFO Sending request to https://cds.climate.copernicus.eu/api/v2/resources/reanalysis-era5-pressure-levels\n",
      "2020-06-14 12:55:27,778 INFO Request is queued\n",
      "2020-06-14 12:55:29,109 INFO Request is completed\n",
      "2020-06-14 12:55:29,111 INFO Downloading http://136.156.132.153/cache-compute-0002/cache/data5/adaptor.mars.internal-1592096127.7247531-25774-31-76096188-62ab-4d04-a304-35fa65de3669.nc to /home/nicolasf/research/CPP/indices/data/ERA5/daily/ERA5_daily_geopotential_1000_2017-10-19.nc (192.2K)\n",
      "2020-06-14 12:55:30,958 INFO Download rate 104.2K/s\n"
     ]
    },
    {
     "name": "stdout",
     "output_type": "stream",
     "text": [
      "downloading /home/nicolasf/research/CPP/indices/data/ERA5/daily/ERA5_daily_geopotential_1000_2017-10-20.nc\n"
     ]
    },
    {
     "name": "stderr",
     "output_type": "stream",
     "text": [
      "2020-06-14 12:55:32,695 INFO Welcome to the CDS\n",
      "2020-06-14 12:55:32,696 INFO Sending request to https://cds.climate.copernicus.eu/api/v2/resources/reanalysis-era5-pressure-levels\n",
      "2020-06-14 12:55:33,994 INFO Request is queued\n",
      "2020-06-14 12:55:35,355 INFO Request is running\n",
      "2020-06-14 12:55:37,198 INFO Request is completed\n",
      "2020-06-14 12:55:37,200 INFO Downloading http://136.156.132.110/cache-compute-0001/cache/data3/adaptor.mars.internal-1592096134.431975-5903-7-d5ca7fa5-485e-4bfe-8019-1fda8e4ae40d.nc to /home/nicolasf/research/CPP/indices/data/ERA5/daily/ERA5_daily_geopotential_1000_2017-10-20.nc (192.2K)\n",
      "2020-06-14 12:55:39,048 INFO Download rate 104.1K/s\n"
     ]
    },
    {
     "name": "stdout",
     "output_type": "stream",
     "text": [
      "downloading /home/nicolasf/research/CPP/indices/data/ERA5/daily/ERA5_daily_geopotential_1000_2017-10-21.nc\n"
     ]
    },
    {
     "name": "stderr",
     "output_type": "stream",
     "text": [
      "2020-06-14 12:55:44,332 INFO Welcome to the CDS\n",
      "2020-06-14 12:55:44,332 INFO Sending request to https://cds.climate.copernicus.eu/api/v2/resources/reanalysis-era5-pressure-levels\n",
      "2020-06-14 12:55:48,053 INFO Request is queued\n",
      "2020-06-14 12:55:49,383 INFO Request is running\n",
      "2020-06-14 12:55:51,226 INFO Request is completed\n",
      "2020-06-14 12:55:51,228 INFO Downloading http://136.156.132.201/cache-compute-0004/cache/data0/adaptor.mars.internal-1592096148.2534893-31742-20-2fca0c10-7954-47d7-9f90-f98fdfbf38c9.nc to /home/nicolasf/research/CPP/indices/data/ERA5/daily/ERA5_daily_geopotential_1000_2017-10-21.nc (192.2K)\n",
      "2020-06-14 12:55:53,074 INFO Download rate 104.2K/s\n"
     ]
    },
    {
     "name": "stdout",
     "output_type": "stream",
     "text": [
      "downloading /home/nicolasf/research/CPP/indices/data/ERA5/daily/ERA5_daily_geopotential_1000_2017-10-22.nc\n"
     ]
    },
    {
     "name": "stderr",
     "output_type": "stream",
     "text": [
      "2020-06-14 12:55:54,607 INFO Welcome to the CDS\n",
      "2020-06-14 12:55:54,609 INFO Sending request to https://cds.climate.copernicus.eu/api/v2/resources/reanalysis-era5-pressure-levels\n",
      "2020-06-14 12:55:55,903 INFO Request is queued\n",
      "2020-06-14 12:55:57,269 INFO Request is completed\n",
      "2020-06-14 12:55:57,271 INFO Downloading http://136.156.133.46/cache-compute-0015/cache/data3/adaptor.mars.internal-1592096155.8615594-24905-30-7f2bb571-a1e8-49fa-bdc8-01ca437591c4.nc to /home/nicolasf/research/CPP/indices/data/ERA5/daily/ERA5_daily_geopotential_1000_2017-10-22.nc (192.2K)\n",
      "2020-06-14 12:55:59,116 INFO Download rate 104.2K/s\n"
     ]
    },
    {
     "name": "stdout",
     "output_type": "stream",
     "text": [
      "downloading /home/nicolasf/research/CPP/indices/data/ERA5/daily/ERA5_daily_geopotential_1000_2017-10-23.nc\n"
     ]
    },
    {
     "name": "stderr",
     "output_type": "stream",
     "text": [
      "2020-06-14 12:56:00,854 INFO Welcome to the CDS\n",
      "2020-06-14 12:56:00,855 INFO Sending request to https://cds.climate.copernicus.eu/api/v2/resources/reanalysis-era5-pressure-levels\n",
      "2020-06-14 12:56:02,386 INFO Request is queued\n",
      "2020-06-14 12:56:03,719 INFO Request is completed\n",
      "2020-06-14 12:56:03,720 INFO Downloading http://136.156.132.236/cache-compute-0007/cache/data6/adaptor.mars.internal-1592096162.4136922-4008-13-05d89b56-4e8f-4a39-a4eb-7d3e1db5d196.nc to /home/nicolasf/research/CPP/indices/data/ERA5/daily/ERA5_daily_geopotential_1000_2017-10-23.nc (192.2K)\n",
      "2020-06-14 12:56:05,566 INFO Download rate 104.3K/s\n"
     ]
    },
    {
     "name": "stdout",
     "output_type": "stream",
     "text": [
      "downloading /home/nicolasf/research/CPP/indices/data/ERA5/daily/ERA5_daily_geopotential_1000_2017-10-24.nc\n"
     ]
    },
    {
     "name": "stderr",
     "output_type": "stream",
     "text": [
      "2020-06-14 12:56:07,714 INFO Welcome to the CDS\n",
      "2020-06-14 12:56:07,716 INFO Sending request to https://cds.climate.copernicus.eu/api/v2/resources/reanalysis-era5-pressure-levels\n",
      "2020-06-14 12:56:09,248 INFO Request is queued\n",
      "2020-06-14 12:56:10,579 INFO Request is completed\n",
      "2020-06-14 12:56:10,580 INFO Downloading http://136.156.132.210/cache-compute-0005/cache/data6/adaptor.mars.internal-1592096169.1015983-17009-14-80b81bf5-bd33-469e-9f07-25b6f6b98abe.nc to /home/nicolasf/research/CPP/indices/data/ERA5/daily/ERA5_daily_geopotential_1000_2017-10-24.nc (192.2K)\n",
      "2020-06-14 12:56:12,430 INFO Download rate 104K/s  \n"
     ]
    },
    {
     "name": "stdout",
     "output_type": "stream",
     "text": [
      "downloading /home/nicolasf/research/CPP/indices/data/ERA5/daily/ERA5_daily_geopotential_1000_2017-10-25.nc\n"
     ]
    },
    {
     "name": "stderr",
     "output_type": "stream",
     "text": [
      "2020-06-14 12:56:14,370 INFO Welcome to the CDS\n",
      "2020-06-14 12:56:14,371 INFO Sending request to https://cds.climate.copernicus.eu/api/v2/resources/reanalysis-era5-pressure-levels\n",
      "2020-06-14 12:56:15,646 INFO Request is queued\n",
      "2020-06-14 12:56:17,029 INFO Request is running\n",
      "2020-06-14 12:56:18,872 INFO Request is completed\n",
      "2020-06-14 12:56:18,874 INFO Downloading http://136.156.132.198/cache-compute-0003/cache/data1/adaptor.mars.internal-1592096175.7686524-16672-5-ee3438a3-0f76-4846-bc4f-158653bb987e.nc to /home/nicolasf/research/CPP/indices/data/ERA5/daily/ERA5_daily_geopotential_1000_2017-10-25.nc (192.2K)\n",
      "2020-06-14 12:56:20,618 INFO Download rate 110.3K/s\n"
     ]
    },
    {
     "name": "stdout",
     "output_type": "stream",
     "text": [
      "downloading /home/nicolasf/research/CPP/indices/data/ERA5/daily/ERA5_daily_geopotential_1000_2017-10-26.nc\n"
     ]
    },
    {
     "name": "stderr",
     "output_type": "stream",
     "text": [
      "2020-06-14 12:56:22,766 INFO Welcome to the CDS\n",
      "2020-06-14 12:56:22,767 INFO Sending request to https://cds.climate.copernicus.eu/api/v2/resources/reanalysis-era5-pressure-levels\n",
      "2020-06-14 12:56:24,300 INFO Request is queued\n",
      "2020-06-14 12:56:25,631 INFO Request is running\n",
      "2020-06-14 12:56:27,473 INFO Request is completed\n",
      "2020-06-14 12:56:27,475 INFO Downloading http://136.156.133.32/cache-compute-0009/cache/data4/adaptor.mars.internal-1592096184.236677-27310-13-bb910eb0-f5e4-4d56-8b85-4c3d91e4d10b.nc to /home/nicolasf/research/CPP/indices/data/ERA5/daily/ERA5_daily_geopotential_1000_2017-10-26.nc (192.2K)\n",
      "2020-06-14 12:56:29,018 INFO Download rate 124.7K/s\n"
     ]
    },
    {
     "name": "stdout",
     "output_type": "stream",
     "text": [
      "downloading /home/nicolasf/research/CPP/indices/data/ERA5/daily/ERA5_daily_geopotential_1000_2017-10-27.nc\n"
     ]
    },
    {
     "name": "stderr",
     "output_type": "stream",
     "text": [
      "2020-06-14 12:56:30,650 INFO Welcome to the CDS\n",
      "2020-06-14 12:56:30,652 INFO Sending request to https://cds.climate.copernicus.eu/api/v2/resources/reanalysis-era5-pressure-levels\n",
      "2020-06-14 12:56:32,183 INFO Request is queued\n",
      "2020-06-14 12:56:33,515 INFO Request is running\n",
      "2020-06-14 12:56:35,358 INFO Request is completed\n",
      "2020-06-14 12:56:35,360 INFO Downloading http://136.156.132.198/cache-compute-0003/cache/data9/adaptor.mars.internal-1592096192.7711353-15077-11-e1215132-0d15-4dbc-b769-3fdc45ee9868.nc to /home/nicolasf/research/CPP/indices/data/ERA5/daily/ERA5_daily_geopotential_1000_2017-10-27.nc (192.2K)\n",
      "2020-06-14 12:56:37,309 INFO Download rate 98.7K/s \n"
     ]
    },
    {
     "name": "stdout",
     "output_type": "stream",
     "text": [
      "downloading /home/nicolasf/research/CPP/indices/data/ERA5/daily/ERA5_daily_geopotential_1000_2017-10-28.nc\n"
     ]
    },
    {
     "name": "stderr",
     "output_type": "stream",
     "text": [
      "2020-06-14 12:56:39,149 INFO Welcome to the CDS\n",
      "2020-06-14 12:56:39,150 INFO Sending request to https://cds.climate.copernicus.eu/api/v2/resources/reanalysis-era5-pressure-levels\n",
      "2020-06-14 12:56:40,784 INFO Request is queued\n",
      "2020-06-14 12:56:42,116 INFO Request is running\n",
      "2020-06-14 12:56:43,959 INFO Request is completed\n",
      "2020-06-14 12:56:43,961 INFO Downloading http://136.156.133.25/cache-compute-0008/cache/data6/adaptor.mars.internal-1592096201.6273122-16024-18-046a6ee3-9ae6-4994-9a1c-66a2280c5eff.nc to /home/nicolasf/research/CPP/indices/data/ERA5/daily/ERA5_daily_geopotential_1000_2017-10-28.nc (192.2K)\n",
      "2020-06-14 12:56:45,807 INFO Download rate 104.2K/s\n"
     ]
    },
    {
     "name": "stdout",
     "output_type": "stream",
     "text": [
      "downloading /home/nicolasf/research/CPP/indices/data/ERA5/daily/ERA5_daily_geopotential_1000_2017-10-29.nc\n"
     ]
    },
    {
     "name": "stderr",
     "output_type": "stream",
     "text": [
      "2020-06-14 12:56:47,443 INFO Welcome to the CDS\n",
      "2020-06-14 12:56:47,444 INFO Sending request to https://cds.climate.copernicus.eu/api/v2/resources/reanalysis-era5-pressure-levels\n",
      "2020-06-14 12:56:49,801 INFO Request is queued\n",
      "2020-06-14 12:56:51,127 INFO Request is completed\n",
      "2020-06-14 12:56:51,129 INFO Downloading http://136.156.132.235/cache-compute-0006/cache/data5/adaptor.mars.internal-1592096209.7053742-23366-18-2acf187a-43eb-43a0-bbe2-753bcfac65a1.nc to /home/nicolasf/research/CPP/indices/data/ERA5/daily/ERA5_daily_geopotential_1000_2017-10-29.nc (192.2K)\n",
      "2020-06-14 12:56:54,204 INFO Download rate 62.5K/s \n"
     ]
    },
    {
     "name": "stdout",
     "output_type": "stream",
     "text": [
      "downloading /home/nicolasf/research/CPP/indices/data/ERA5/daily/ERA5_daily_geopotential_1000_2017-10-30.nc\n"
     ]
    },
    {
     "name": "stderr",
     "output_type": "stream",
     "text": [
      "2020-06-14 12:56:56,249 INFO Welcome to the CDS\n",
      "2020-06-14 12:56:56,250 INFO Sending request to https://cds.climate.copernicus.eu/api/v2/resources/reanalysis-era5-pressure-levels\n",
      "2020-06-14 12:56:58,089 INFO Request is queued\n",
      "2020-06-14 12:56:59,420 INFO Request is running\n",
      "2020-06-14 12:57:01,263 INFO Request is completed\n",
      "2020-06-14 12:57:01,265 INFO Downloading http://136.156.133.42/cache-compute-0014/cache/data5/adaptor.mars.internal-1592096218.0594456-26530-26-7aa385bb-9b73-4092-9080-5168c88a2c3b.nc to /home/nicolasf/research/CPP/indices/data/ERA5/daily/ERA5_daily_geopotential_1000_2017-10-30.nc (192.2K)\n",
      "2020-06-14 12:57:03,008 INFO Download rate 110.4K/s\n"
     ]
    },
    {
     "name": "stdout",
     "output_type": "stream",
     "text": [
      "downloading /home/nicolasf/research/CPP/indices/data/ERA5/daily/ERA5_daily_geopotential_1000_2017-10-31.nc\n"
     ]
    },
    {
     "name": "stderr",
     "output_type": "stream",
     "text": [
      "2020-06-14 12:57:05,158 INFO Welcome to the CDS\n",
      "2020-06-14 12:57:05,159 INFO Sending request to https://cds.climate.copernicus.eu/api/v2/resources/reanalysis-era5-pressure-levels\n",
      "2020-06-14 12:57:06,427 INFO Request is queued\n",
      "2020-06-14 12:57:07,817 INFO Request is completed\n",
      "2020-06-14 12:57:07,819 INFO Downloading http://136.156.133.42/cache-compute-0014/cache/data5/adaptor.mars.internal-1592096226.4717577-32152-15-d178a347-548f-469a-a326-aae31c79e643.nc to /home/nicolasf/research/CPP/indices/data/ERA5/daily/ERA5_daily_geopotential_1000_2017-10-31.nc (192.2K)\n",
      "2020-06-14 12:57:09,661 INFO Download rate 104.4K/s\n"
     ]
    },
    {
     "name": "stdout",
     "output_type": "stream",
     "text": [
      "downloading /home/nicolasf/research/CPP/indices/data/ERA5/daily/ERA5_daily_geopotential_1000_2017-11-01.nc\n"
     ]
    },
    {
     "name": "stderr",
     "output_type": "stream",
     "text": [
      "2020-06-14 12:57:11,916 INFO Welcome to the CDS\n",
      "2020-06-14 12:57:11,917 INFO Sending request to https://cds.climate.copernicus.eu/api/v2/resources/reanalysis-era5-pressure-levels\n",
      "2020-06-14 12:57:13,346 INFO Request is queued\n",
      "2020-06-14 12:57:14,676 INFO Request is completed\n",
      "2020-06-14 12:57:14,677 INFO Downloading http://136.156.133.46/cache-compute-0015/cache/data3/adaptor.mars.internal-1592096233.2282827-24905-32-8cae3d95-0579-4d5d-a27d-58d134c105c6.nc to /home/nicolasf/research/CPP/indices/data/ERA5/daily/ERA5_daily_geopotential_1000_2017-11-01.nc (192.2K)\n",
      "2020-06-14 12:57:16,526 INFO Download rate 104K/s  \n"
     ]
    },
    {
     "name": "stdout",
     "output_type": "stream",
     "text": [
      "downloading /home/nicolasf/research/CPP/indices/data/ERA5/daily/ERA5_daily_geopotential_1000_2017-11-02.nc\n"
     ]
    },
    {
     "name": "stderr",
     "output_type": "stream",
     "text": [
      "2020-06-14 12:57:19,079 INFO Welcome to the CDS\n",
      "2020-06-14 12:57:19,080 INFO Sending request to https://cds.climate.copernicus.eu/api/v2/resources/reanalysis-era5-pressure-levels\n",
      "2020-06-14 12:57:20,718 INFO Request is queued\n",
      "2020-06-14 12:57:22,049 INFO Request is running\n",
      "2020-06-14 12:57:23,893 INFO Request is completed\n",
      "2020-06-14 12:57:23,895 INFO Downloading http://136.156.132.110/cache-compute-0001/cache/data6/adaptor.mars.internal-1592096240.653254-31999-19-ed4700f2-27c0-49e8-9dce-226d72db623b.nc to /home/nicolasf/research/CPP/indices/data/ERA5/daily/ERA5_daily_geopotential_1000_2017-11-02.nc (192.2K)\n",
      "2020-06-14 12:57:25,742 INFO Download rate 104.2K/s\n"
     ]
    },
    {
     "name": "stdout",
     "output_type": "stream",
     "text": [
      "downloading /home/nicolasf/research/CPP/indices/data/ERA5/daily/ERA5_daily_geopotential_1000_2017-11-03.nc\n"
     ]
    },
    {
     "name": "stderr",
     "output_type": "stream",
     "text": [
      "2020-06-14 12:57:27,377 INFO Welcome to the CDS\n",
      "2020-06-14 12:57:27,377 INFO Sending request to https://cds.climate.copernicus.eu/api/v2/resources/reanalysis-era5-pressure-levels\n",
      "2020-06-14 12:57:29,113 INFO Request is queued\n",
      "2020-06-14 12:57:30,446 INFO Request is running\n",
      "2020-06-14 12:57:32,289 INFO Request is completed\n",
      "2020-06-14 12:57:32,291 INFO Downloading http://136.156.132.198/cache-compute-0003/cache/data0/adaptor.mars.internal-1592096249.0798929-7176-32-59891b1c-1d61-452d-8541-0f48a03709b5.nc to /home/nicolasf/research/CPP/indices/data/ERA5/daily/ERA5_daily_geopotential_1000_2017-11-03.nc (192.2K)\n",
      "2020-06-14 12:57:34,138 INFO Download rate 104.2K/s\n"
     ]
    },
    {
     "name": "stdout",
     "output_type": "stream",
     "text": [
      "downloading /home/nicolasf/research/CPP/indices/data/ERA5/daily/ERA5_daily_geopotential_1000_2017-11-04.nc\n"
     ]
    },
    {
     "name": "stderr",
     "output_type": "stream",
     "text": [
      "2020-06-14 12:57:36,798 INFO Welcome to the CDS\n",
      "2020-06-14 12:57:36,799 INFO Sending request to https://cds.climate.copernicus.eu/api/v2/resources/reanalysis-era5-pressure-levels\n",
      "2020-06-14 12:57:38,330 INFO Request is queued\n",
      "2020-06-14 12:57:41,504 INFO Request is completed\n",
      "2020-06-14 12:57:41,506 INFO Downloading http://136.156.133.32/cache-compute-0009/cache/data7/adaptor.mars.internal-1592096259.9729183-30944-1-8d6ea5c5-8626-4843-b120-2ea2734c0e88.nc to /home/nicolasf/research/CPP/indices/data/ERA5/daily/ERA5_daily_geopotential_1000_2017-11-04.nc (192.2K)\n",
      "2020-06-14 12:57:43,353 INFO Download rate 104.1K/s\n"
     ]
    },
    {
     "name": "stdout",
     "output_type": "stream",
     "text": [
      "downloading /home/nicolasf/research/CPP/indices/data/ERA5/daily/ERA5_daily_geopotential_1000_2017-11-05.nc\n"
     ]
    },
    {
     "name": "stderr",
     "output_type": "stream",
     "text": [
      "2020-06-14 12:57:45,808 INFO Welcome to the CDS\n",
      "2020-06-14 12:57:45,809 INFO Sending request to https://cds.climate.copernicus.eu/api/v2/resources/reanalysis-era5-pressure-levels\n",
      "2020-06-14 12:57:48,160 INFO Request is queued\n",
      "2020-06-14 12:57:49,491 INFO Request is running\n",
      "2020-06-14 12:57:51,334 INFO Request is completed\n",
      "2020-06-14 12:57:51,336 INFO Downloading http://136.156.133.32/cache-compute-0009/cache/data7/adaptor.mars.internal-1592096268.6445026-30987-1-6afd2b4d-9b9f-4c0b-a18f-dc9a34c1eb07.nc to /home/nicolasf/research/CPP/indices/data/ERA5/daily/ERA5_daily_geopotential_1000_2017-11-05.nc (192.2K)\n",
      "2020-06-14 12:57:53,183 INFO Download rate 104.1K/s\n"
     ]
    },
    {
     "name": "stdout",
     "output_type": "stream",
     "text": [
      "downloading /home/nicolasf/research/CPP/indices/data/ERA5/daily/ERA5_daily_geopotential_1000_2017-11-06.nc\n"
     ]
    },
    {
     "name": "stderr",
     "output_type": "stream",
     "text": [
      "2020-06-14 12:57:54,987 INFO Welcome to the CDS\n",
      "2020-06-14 12:57:54,988 INFO Sending request to https://cds.climate.copernicus.eu/api/v2/resources/reanalysis-era5-pressure-levels\n",
      "2020-06-14 12:57:56,557 INFO Request is queued\n",
      "2020-06-14 12:57:57,887 INFO Request is completed\n",
      "2020-06-14 12:57:57,889 INFO Downloading http://136.156.133.46/cache-compute-0015/cache/data0/adaptor.mars.internal-1592096276.7542088-32135-15-bffc7bc7-419a-46e3-b9da-c5da89529f96.nc to /home/nicolasf/research/CPP/indices/data/ERA5/daily/ERA5_daily_geopotential_1000_2017-11-06.nc (192.2K)\n",
      "2020-06-14 12:57:59,736 INFO Download rate 104.2K/s\n"
     ]
    },
    {
     "name": "stdout",
     "output_type": "stream",
     "text": [
      "downloading /home/nicolasf/research/CPP/indices/data/ERA5/daily/ERA5_daily_geopotential_1000_2017-11-07.nc\n"
     ]
    },
    {
     "name": "stderr",
     "output_type": "stream",
     "text": [
      "2020-06-14 12:58:01,474 INFO Welcome to the CDS\n",
      "2020-06-14 12:58:01,475 INFO Sending request to https://cds.climate.copernicus.eu/api/v2/resources/reanalysis-era5-pressure-levels\n",
      "2020-06-14 12:58:02,983 INFO Request is queued\n",
      "2020-06-14 12:58:04,339 INFO Request is completed\n",
      "2020-06-14 12:58:04,340 INFO Downloading http://136.156.132.201/cache-compute-0004/cache/data0/adaptor.mars.internal-1592096282.966497-2499-20-663dfbea-942f-448c-8297-3ce04b74fc1c.nc to /home/nicolasf/research/CPP/indices/data/ERA5/daily/ERA5_daily_geopotential_1000_2017-11-07.nc (192.2K)\n",
      "2020-06-14 12:58:06,086 INFO Download rate 110.2K/s\n"
     ]
    },
    {
     "name": "stdout",
     "output_type": "stream",
     "text": [
      "downloading /home/nicolasf/research/CPP/indices/data/ERA5/daily/ERA5_daily_geopotential_1000_2017-11-08.nc\n"
     ]
    },
    {
     "name": "stderr",
     "output_type": "stream",
     "text": [
      "2020-06-14 12:58:08,130 INFO Welcome to the CDS\n",
      "2020-06-14 12:58:08,133 INFO Sending request to https://cds.climate.copernicus.eu/api/v2/resources/reanalysis-era5-pressure-levels\n",
      "2020-06-14 12:58:09,560 INFO Request is queued\n",
      "2020-06-14 12:58:10,892 INFO Request is running\n",
      "2020-06-14 12:58:12,736 INFO Request is completed\n",
      "2020-06-14 12:58:12,737 INFO Downloading http://136.156.133.37/cache-compute-0011/cache/data6/adaptor.mars.internal-1592096289.5972695-26982-28-001be8f7-4d41-4b32-be90-700ff91a97e3.nc to /home/nicolasf/research/CPP/indices/data/ERA5/daily/ERA5_daily_geopotential_1000_2017-11-08.nc (192.2K)\n",
      "2020-06-14 12:58:14,579 INFO Download rate 104.5K/s\n"
     ]
    },
    {
     "name": "stdout",
     "output_type": "stream",
     "text": [
      "downloading /home/nicolasf/research/CPP/indices/data/ERA5/daily/ERA5_daily_geopotential_1000_2017-11-09.nc\n"
     ]
    },
    {
     "name": "stderr",
     "output_type": "stream",
     "text": [
      "2020-06-14 12:58:16,731 INFO Welcome to the CDS\n",
      "2020-06-14 12:58:16,732 INFO Sending request to https://cds.climate.copernicus.eu/api/v2/resources/reanalysis-era5-pressure-levels\n",
      "2020-06-14 12:58:18,161 INFO Request is queued\n",
      "2020-06-14 12:58:19,493 INFO Request is running\n",
      "2020-06-14 12:58:21,337 INFO Request is completed\n",
      "2020-06-14 12:58:21,338 INFO Downloading http://136.156.133.25/cache-compute-0008/cache/data3/adaptor.mars.internal-1592096298.1629024-29982-31-678d115e-b8f5-42a3-95ad-ba50f78d1599.nc to /home/nicolasf/research/CPP/indices/data/ERA5/daily/ERA5_daily_geopotential_1000_2017-11-09.nc (192.2K)\n",
      "2020-06-14 12:58:23,186 INFO Download rate 104.1K/s\n"
     ]
    },
    {
     "name": "stdout",
     "output_type": "stream",
     "text": [
      "downloading /home/nicolasf/research/CPP/indices/data/ERA5/daily/ERA5_daily_geopotential_1000_2017-11-10.nc\n"
     ]
    },
    {
     "name": "stderr",
     "output_type": "stream",
     "text": [
      "2020-06-14 12:58:25,948 INFO Welcome to the CDS\n",
      "2020-06-14 12:58:25,949 INFO Sending request to https://cds.climate.copernicus.eu/api/v2/resources/reanalysis-era5-pressure-levels\n",
      "2020-06-14 12:58:27,480 INFO Request is queued\n",
      "2020-06-14 12:58:30,654 INFO Request is completed\n",
      "2020-06-14 12:58:30,656 INFO Downloading http://136.156.133.25/cache-compute-0008/cache/data1/adaptor.mars.internal-1592096308.759284-10029-37-5cf7121b-f74f-44d7-a57f-1e0eb8ae4fbc.nc to /home/nicolasf/research/CPP/indices/data/ERA5/daily/ERA5_daily_geopotential_1000_2017-11-10.nc (192.2K)\n",
      "2020-06-14 12:58:32,503 INFO Download rate 104.2K/s\n"
     ]
    },
    {
     "name": "stdout",
     "output_type": "stream",
     "text": [
      "downloading /home/nicolasf/research/CPP/indices/data/ERA5/daily/ERA5_daily_geopotential_1000_2017-11-11.nc\n"
     ]
    },
    {
     "name": "stderr",
     "output_type": "stream",
     "text": [
      "2020-06-14 12:58:34,548 INFO Welcome to the CDS\n",
      "2020-06-14 12:58:34,549 INFO Sending request to https://cds.climate.copernicus.eu/api/v2/resources/reanalysis-era5-pressure-levels\n",
      "2020-06-14 12:58:36,388 INFO Request is queued\n",
      "2020-06-14 12:58:37,719 INFO Request is running\n",
      "2020-06-14 12:58:39,562 INFO Request is completed\n",
      "2020-06-14 12:58:39,565 INFO Downloading http://136.156.132.153/cache-compute-0002/cache/data8/adaptor.mars.internal-1592096316.4086158-3068-11-6cef9953-b980-46e3-90da-9527f7cee35a.nc to /home/nicolasf/research/CPP/indices/data/ERA5/daily/ERA5_daily_geopotential_1000_2017-11-11.nc (192.2K)\n",
      "2020-06-14 12:58:41,410 INFO Download rate 104.3K/s\n"
     ]
    },
    {
     "name": "stdout",
     "output_type": "stream",
     "text": [
      "downloading /home/nicolasf/research/CPP/indices/data/ERA5/daily/ERA5_daily_geopotential_1000_2017-11-12.nc\n"
     ]
    },
    {
     "name": "stderr",
     "output_type": "stream",
     "text": [
      "2020-06-14 12:58:43,764 INFO Welcome to the CDS\n",
      "2020-06-14 12:58:43,765 INFO Sending request to https://cds.climate.copernicus.eu/api/v2/resources/reanalysis-era5-pressure-levels\n",
      "2020-06-14 12:58:45,083 INFO Request is queued\n",
      "2020-06-14 12:58:46,423 INFO Request is completed\n",
      "2020-06-14 12:58:46,425 INFO Downloading http://136.156.132.236/cache-compute-0007/cache/data8/adaptor.mars.internal-1592096324.980954-29456-32-a5aee31a-679e-4fd9-b8f0-e05edfe39785.nc to /home/nicolasf/research/CPP/indices/data/ERA5/daily/ERA5_daily_geopotential_1000_2017-11-12.nc (192.2K)\n",
      "2020-06-14 12:58:48,273 INFO Download rate 104.1K/s\n"
     ]
    },
    {
     "name": "stdout",
     "output_type": "stream",
     "text": [
      "downloading /home/nicolasf/research/CPP/indices/data/ERA5/daily/ERA5_daily_geopotential_1000_2017-11-13.nc\n"
     ]
    },
    {
     "name": "stderr",
     "output_type": "stream",
     "text": [
      "2020-06-14 12:58:49,908 INFO Welcome to the CDS\n",
      "2020-06-14 12:58:49,909 INFO Sending request to https://cds.climate.copernicus.eu/api/v2/resources/reanalysis-era5-pressure-levels\n",
      "2020-06-14 12:58:51,440 INFO Request is queued\n",
      "2020-06-14 12:58:52,772 INFO Request is completed\n",
      "2020-06-14 12:58:52,774 INFO Downloading http://136.156.133.42/cache-compute-0014/cache/data6/adaptor.mars.internal-1592096331.6222136-28592-22-20cb739a-5218-4231-8eba-5a1557407034.nc to /home/nicolasf/research/CPP/indices/data/ERA5/daily/ERA5_daily_geopotential_1000_2017-11-13.nc (192.2K)\n",
      "2020-06-14 12:58:54,620 INFO Download rate 104.2K/s\n"
     ]
    },
    {
     "name": "stdout",
     "output_type": "stream",
     "text": [
      "downloading /home/nicolasf/research/CPP/indices/data/ERA5/daily/ERA5_daily_geopotential_1000_2017-11-14.nc\n"
     ]
    },
    {
     "name": "stderr",
     "output_type": "stream",
     "text": [
      "2020-06-14 12:58:56,154 INFO Welcome to the CDS\n",
      "2020-06-14 12:58:56,155 INFO Sending request to https://cds.climate.copernicus.eu/api/v2/resources/reanalysis-era5-pressure-levels\n",
      "2020-06-14 12:58:58,507 INFO Request is queued\n",
      "2020-06-14 12:58:59,837 INFO Request is completed\n",
      "2020-06-14 12:58:59,839 INFO Downloading http://136.156.132.110/cache-compute-0001/cache/data6/adaptor.mars.internal-1592096338.5006964-26600-36-0426971d-6dd0-4855-b110-2d35d34ef595.nc to /home/nicolasf/research/CPP/indices/data/ERA5/daily/ERA5_daily_geopotential_1000_2017-11-14.nc (192.2K)\n",
      "2020-06-14 12:59:01,685 INFO Download rate 104.3K/s\n"
     ]
    },
    {
     "name": "stdout",
     "output_type": "stream",
     "text": [
      "downloading /home/nicolasf/research/CPP/indices/data/ERA5/daily/ERA5_daily_geopotential_1000_2017-11-15.nc\n"
     ]
    },
    {
     "name": "stderr",
     "output_type": "stream",
     "text": [
      "2020-06-14 12:59:03,424 INFO Welcome to the CDS\n",
      "2020-06-14 12:59:03,425 INFO Sending request to https://cds.climate.copernicus.eu/api/v2/resources/reanalysis-era5-pressure-levels\n",
      "2020-06-14 12:59:05,059 INFO Request is queued\n",
      "2020-06-14 12:59:06,390 INFO Request is running\n",
      "2020-06-14 12:59:08,233 INFO Request is completed\n",
      "2020-06-14 12:59:08,235 INFO Downloading http://136.156.133.37/cache-compute-0011/cache/data8/adaptor.mars.internal-1592096345.3673735-5219-3-b55ad742-230c-4dba-bbf9-eb4cfa877652.nc to /home/nicolasf/research/CPP/indices/data/ERA5/daily/ERA5_daily_geopotential_1000_2017-11-15.nc (192.2K)\n",
      "2020-06-14 12:59:10,083 INFO Download rate 104.1K/s\n"
     ]
    },
    {
     "name": "stdout",
     "output_type": "stream",
     "text": [
      "downloading /home/nicolasf/research/CPP/indices/data/ERA5/daily/ERA5_daily_geopotential_1000_2017-11-16.nc\n"
     ]
    },
    {
     "name": "stderr",
     "output_type": "stream",
     "text": [
      "2020-06-14 12:59:11,821 INFO Welcome to the CDS\n",
      "2020-06-14 12:59:11,822 INFO Sending request to https://cds.climate.copernicus.eu/api/v2/resources/reanalysis-era5-pressure-levels\n",
      "2020-06-14 12:59:13,099 INFO Request is queued\n",
      "2020-06-14 12:59:14,480 INFO Request is running\n",
      "2020-06-14 12:59:16,323 INFO Request is completed\n",
      "2020-06-14 12:59:16,325 INFO Downloading http://136.156.132.210/cache-compute-0005/cache/data0/adaptor.mars.internal-1592096353.3108642-16194-26-65eff5fa-2f2f-4b4f-b3ee-72f3f595584e.nc to /home/nicolasf/research/CPP/indices/data/ERA5/daily/ERA5_daily_geopotential_1000_2017-11-16.nc (192.2K)\n",
      "2020-06-14 12:59:18,173 INFO Download rate 104.1K/s\n"
     ]
    },
    {
     "name": "stdout",
     "output_type": "stream",
     "text": [
      "downloading /home/nicolasf/research/CPP/indices/data/ERA5/daily/ERA5_daily_geopotential_1000_2017-11-17.nc\n"
     ]
    },
    {
     "name": "stderr",
     "output_type": "stream",
     "text": [
      "2020-06-14 12:59:19,980 INFO Welcome to the CDS\n",
      "2020-06-14 12:59:19,981 INFO Sending request to https://cds.climate.copernicus.eu/api/v2/resources/reanalysis-era5-pressure-levels\n",
      "2020-06-14 12:59:21,274 INFO Request is queued\n",
      "2020-06-14 12:59:22,569 INFO Request is running\n",
      "2020-06-14 12:59:24,412 INFO Request is completed\n",
      "2020-06-14 12:59:24,413 INFO Downloading http://136.156.133.36/cache-compute-0010/cache/data7/adaptor.mars.internal-1592096361.653444-7430-20-8a980c58-8e2b-41f1-8eb3-cc6062323a64.nc to /home/nicolasf/research/CPP/indices/data/ERA5/daily/ERA5_daily_geopotential_1000_2017-11-17.nc (192.2K)\n",
      "2020-06-14 12:59:26,260 INFO Download rate 104.2K/s\n"
     ]
    },
    {
     "name": "stdout",
     "output_type": "stream",
     "text": [
      "downloading /home/nicolasf/research/CPP/indices/data/ERA5/daily/ERA5_daily_geopotential_1000_2017-11-18.nc\n"
     ]
    },
    {
     "name": "stderr",
     "output_type": "stream",
     "text": [
      "2020-06-14 12:59:27,896 INFO Welcome to the CDS\n",
      "2020-06-14 12:59:27,897 INFO Sending request to https://cds.climate.copernicus.eu/api/v2/resources/reanalysis-era5-pressure-levels\n",
      "2020-06-14 12:59:29,142 INFO Request is queued\n",
      "2020-06-14 12:59:30,453 INFO Request is completed\n",
      "2020-06-14 12:59:30,455 INFO Downloading http://136.156.132.236/cache-compute-0007/cache/data6/adaptor.mars.internal-1592096369.0718088-7380-7-59a6ae42-9532-47c1-95b5-3ced8ceacbda.nc to /home/nicolasf/research/CPP/indices/data/ERA5/daily/ERA5_daily_geopotential_1000_2017-11-18.nc (192.2K)\n",
      "2020-06-14 12:59:32,303 INFO Download rate 104.2K/s\n"
     ]
    },
    {
     "name": "stdout",
     "output_type": "stream",
     "text": [
      "downloading /home/nicolasf/research/CPP/indices/data/ERA5/daily/ERA5_daily_geopotential_1000_2017-11-19.nc\n"
     ]
    },
    {
     "name": "stderr",
     "output_type": "stream",
     "text": [
      "2020-06-14 12:59:34,041 INFO Welcome to the CDS\n",
      "2020-06-14 12:59:34,041 INFO Sending request to https://cds.climate.copernicus.eu/api/v2/resources/reanalysis-era5-pressure-levels\n",
      "2020-06-14 12:59:35,315 INFO Request is queued\n",
      "2020-06-14 12:59:36,700 INFO Request is running\n",
      "2020-06-14 12:59:38,543 INFO Request is completed\n",
      "2020-06-14 12:59:38,545 INFO Downloading http://136.156.132.201/cache-compute-0004/cache/data6/adaptor.mars.internal-1592096375.4026961-25915-35-a67e76d6-10d8-469b-9458-17978510f092.nc to /home/nicolasf/research/CPP/indices/data/ERA5/daily/ERA5_daily_geopotential_1000_2017-11-19.nc (192.2K)\n",
      "2020-06-14 12:59:40,389 INFO Download rate 104.3K/s\n"
     ]
    },
    {
     "name": "stdout",
     "output_type": "stream",
     "text": [
      "downloading /home/nicolasf/research/CPP/indices/data/ERA5/daily/ERA5_daily_geopotential_1000_2017-11-20.nc\n"
     ]
    },
    {
     "name": "stderr",
     "output_type": "stream",
     "text": [
      "2020-06-14 12:59:42,232 INFO Welcome to the CDS\n",
      "2020-06-14 12:59:42,233 INFO Sending request to https://cds.climate.copernicus.eu/api/v2/resources/reanalysis-era5-pressure-levels\n",
      "2020-06-14 12:59:43,483 INFO Request is queued\n",
      "2020-06-14 12:59:44,788 INFO Request is completed\n",
      "2020-06-14 12:59:44,789 INFO Downloading http://136.156.132.110/cache-compute-0001/cache/data8/adaptor.mars.internal-1592096383.6001654-3825-22-fc6be15d-b25f-4772-8cd5-cc1b373b1352.nc to /home/nicolasf/research/CPP/indices/data/ERA5/daily/ERA5_daily_geopotential_1000_2017-11-20.nc (192.2K)\n",
      "2020-06-14 12:59:46,635 INFO Download rate 104.2K/s\n"
     ]
    },
    {
     "name": "stdout",
     "output_type": "stream",
     "text": [
      "downloading /home/nicolasf/research/CPP/indices/data/ERA5/daily/ERA5_daily_geopotential_1000_2017-11-21.nc\n"
     ]
    },
    {
     "name": "stderr",
     "output_type": "stream",
     "text": [
      "2020-06-14 12:59:48,273 INFO Welcome to the CDS\n",
      "2020-06-14 12:59:48,274 INFO Sending request to https://cds.climate.copernicus.eu/api/v2/resources/reanalysis-era5-pressure-levels\n",
      "2020-06-14 12:59:49,598 INFO Request is queued\n",
      "2020-06-14 12:59:50,933 INFO Request is running\n",
      "2020-06-14 12:59:52,776 INFO Request is completed\n",
      "2020-06-14 12:59:52,777 INFO Downloading http://136.156.132.105/cache-compute-0000/cache/data9/adaptor.mars.internal-1592096389.7726338-26664-3-544916af-9dce-42d6-ae84-3850257f259a.nc to /home/nicolasf/research/CPP/indices/data/ERA5/daily/ERA5_daily_geopotential_1000_2017-11-21.nc (192.2K)\n",
      "2020-06-14 12:59:54,624 INFO Download rate 104.2K/s\n"
     ]
    },
    {
     "name": "stdout",
     "output_type": "stream",
     "text": [
      "downloading /home/nicolasf/research/CPP/indices/data/ERA5/daily/ERA5_daily_geopotential_1000_2017-11-22.nc\n"
     ]
    },
    {
     "name": "stderr",
     "output_type": "stream",
     "text": [
      "2020-06-14 12:59:56,257 INFO Welcome to the CDS\n",
      "2020-06-14 12:59:56,257 INFO Sending request to https://cds.climate.copernicus.eu/api/v2/resources/reanalysis-era5-pressure-levels\n",
      "2020-06-14 12:59:57,896 INFO Request is queued\n",
      "2020-06-14 12:59:59,226 INFO Request is running\n",
      "2020-06-14 13:00:01,069 INFO Request is completed\n",
      "2020-06-14 13:00:01,070 INFO Downloading http://136.156.133.25/cache-compute-0008/cache/data4/adaptor.mars.internal-1592096398.5351267-12062-34-e9d5a19f-e1be-4366-9071-728c6d9dd0be.nc to /home/nicolasf/research/CPP/indices/data/ERA5/daily/ERA5_daily_geopotential_1000_2017-11-22.nc (192.2K)\n",
      "2020-06-14 13:00:02,920 INFO Download rate 104K/s  \n"
     ]
    },
    {
     "name": "stdout",
     "output_type": "stream",
     "text": [
      "downloading /home/nicolasf/research/CPP/indices/data/ERA5/daily/ERA5_daily_geopotential_1000_2017-11-23.nc\n"
     ]
    },
    {
     "name": "stderr",
     "output_type": "stream",
     "text": [
      "2020-06-14 13:00:04,656 INFO Welcome to the CDS\n",
      "2020-06-14 13:00:04,657 INFO Sending request to https://cds.climate.copernicus.eu/api/v2/resources/reanalysis-era5-pressure-levels\n",
      "2020-06-14 13:00:06,497 INFO Request is queued\n",
      "2020-06-14 13:00:07,828 INFO Request is running\n",
      "2020-06-14 13:00:09,670 INFO Request is completed\n",
      "2020-06-14 13:00:09,670 INFO Downloading http://136.156.133.25/cache-compute-0008/cache/data7/adaptor.mars.internal-1592096407.2739089-12137-28-3c3335cf-34fc-41d5-8510-df6dbb6925a9.nc to /home/nicolasf/research/CPP/indices/data/ERA5/daily/ERA5_daily_geopotential_1000_2017-11-23.nc (192.2K)\n",
      "2020-06-14 13:00:11,520 INFO Download rate 104K/s  \n"
     ]
    },
    {
     "name": "stdout",
     "output_type": "stream",
     "text": [
      "downloading /home/nicolasf/research/CPP/indices/data/ERA5/daily/ERA5_daily_geopotential_1000_2017-11-24.nc\n"
     ]
    },
    {
     "name": "stderr",
     "output_type": "stream",
     "text": [
      "2020-06-14 13:00:13,258 INFO Welcome to the CDS\n",
      "2020-06-14 13:00:13,259 INFO Sending request to https://cds.climate.copernicus.eu/api/v2/resources/reanalysis-era5-pressure-levels\n",
      "2020-06-14 13:00:15,919 INFO Request is queued\n",
      "2020-06-14 13:00:17,247 INFO Request is completed\n",
      "2020-06-14 13:00:17,247 INFO Downloading http://136.156.133.36/cache-compute-0010/cache/data3/adaptor.mars.internal-1592096415.8704643-13834-35-1a7d2989-ab2c-4df9-bd6e-4197ab7506ac.nc to /home/nicolasf/research/CPP/indices/data/ERA5/daily/ERA5_daily_geopotential_1000_2017-11-24.nc (192.2K)\n",
      "2020-06-14 13:00:19,096 INFO Download rate 104K/s  \n"
     ]
    },
    {
     "name": "stdout",
     "output_type": "stream",
     "text": [
      "downloading /home/nicolasf/research/CPP/indices/data/ERA5/daily/ERA5_daily_geopotential_1000_2017-11-25.nc\n"
     ]
    },
    {
     "name": "stderr",
     "output_type": "stream",
     "text": [
      "2020-06-14 13:00:20,938 INFO Welcome to the CDS\n",
      "2020-06-14 13:00:20,939 INFO Sending request to https://cds.climate.copernicus.eu/api/v2/resources/reanalysis-era5-pressure-levels\n",
      "2020-06-14 13:00:22,368 INFO Request is queued\n",
      "2020-06-14 13:00:23,699 INFO Request is running\n",
      "2020-06-14 13:00:25,542 INFO Request is completed\n",
      "2020-06-14 13:00:25,544 INFO Downloading http://136.156.132.201/cache-compute-0004/cache/data7/adaptor.mars.internal-1592096422.51577-9178-5-234c376b-e040-49e4-828c-e44fdb53e33b.nc to /home/nicolasf/research/CPP/indices/data/ERA5/daily/ERA5_daily_geopotential_1000_2017-11-25.nc (192.2K)\n",
      "2020-06-14 13:00:27,393 INFO Download rate 104.1K/s\n"
     ]
    },
    {
     "name": "stdout",
     "output_type": "stream",
     "text": [
      "downloading /home/nicolasf/research/CPP/indices/data/ERA5/daily/ERA5_daily_geopotential_1000_2017-11-26.nc\n"
     ]
    },
    {
     "name": "stderr",
     "output_type": "stream",
     "text": [
      "2020-06-14 13:00:29,129 INFO Welcome to the CDS\n",
      "2020-06-14 13:00:29,130 INFO Sending request to https://cds.climate.copernicus.eu/api/v2/resources/reanalysis-era5-pressure-levels\n",
      "2020-06-14 13:00:32,198 INFO Request is queued\n",
      "2020-06-14 13:00:33,528 INFO Request is running\n",
      "2020-06-14 13:00:35,372 INFO Request is completed\n",
      "2020-06-14 13:00:35,374 INFO Downloading http://136.156.133.25/cache-compute-0008/cache/data3/adaptor.mars.internal-1592096432.4689066-13723-26-eb69fd19-8c11-4282-9dae-3aa639ec7ea4.nc to /home/nicolasf/research/CPP/indices/data/ERA5/daily/ERA5_daily_geopotential_1000_2017-11-26.nc (192.2K)\n",
      "2020-06-14 13:00:37,324 INFO Download rate 98.7K/s \n"
     ]
    },
    {
     "name": "stdout",
     "output_type": "stream",
     "text": [
      "downloading /home/nicolasf/research/CPP/indices/data/ERA5/daily/ERA5_daily_geopotential_1000_2017-11-27.nc\n"
     ]
    },
    {
     "name": "stderr",
     "output_type": "stream",
     "text": [
      "2020-06-14 13:00:38,959 INFO Welcome to the CDS\n",
      "2020-06-14 13:00:38,960 INFO Sending request to https://cds.climate.copernicus.eu/api/v2/resources/reanalysis-era5-pressure-levels\n",
      "2020-06-14 13:00:40,697 INFO Request is queued\n",
      "2020-06-14 13:00:42,028 INFO Request is running\n",
      "2020-06-14 13:00:43,819 INFO Request is completed\n",
      "2020-06-14 13:00:43,822 INFO Downloading http://136.156.133.42/cache-compute-0014/cache/data0/adaptor.mars.internal-1592096441.3524654-938-17-3feb2e99-9ac5-49bc-ab3d-b99d26bf4291.nc to /home/nicolasf/research/CPP/indices/data/ERA5/daily/ERA5_daily_geopotential_1000_2017-11-27.nc (192.2K)\n",
      "2020-06-14 13:00:45,719 INFO Download rate 101.4K/s\n"
     ]
    },
    {
     "name": "stdout",
     "output_type": "stream",
     "text": [
      "downloading /home/nicolasf/research/CPP/indices/data/ERA5/daily/ERA5_daily_geopotential_1000_2017-11-28.nc\n"
     ]
    },
    {
     "name": "stderr",
     "output_type": "stream",
     "text": [
      "2020-06-14 13:00:47,226 INFO Welcome to the CDS\n",
      "2020-06-14 13:00:47,227 INFO Sending request to https://cds.climate.copernicus.eu/api/v2/resources/reanalysis-era5-pressure-levels\n",
      "2020-06-14 13:00:48,543 INFO Request is queued\n",
      "2020-06-14 13:00:49,913 INFO Request is completed\n",
      "2020-06-14 13:00:49,915 INFO Downloading http://136.156.132.236/cache-compute-0007/cache/data7/adaptor.mars.internal-1592096448.4544308-28499-24-e20cdd83-0c3c-458a-8144-2884c4b2317b.nc to /home/nicolasf/research/CPP/indices/data/ERA5/daily/ERA5_daily_geopotential_1000_2017-11-28.nc (192.2K)\n",
      "2020-06-14 13:00:51,762 INFO Download rate 104.2K/s\n"
     ]
    },
    {
     "name": "stdout",
     "output_type": "stream",
     "text": [
      "downloading /home/nicolasf/research/CPP/indices/data/ERA5/daily/ERA5_daily_geopotential_1000_2017-11-29.nc\n"
     ]
    },
    {
     "name": "stderr",
     "output_type": "stream",
     "text": [
      "2020-06-14 13:00:53,500 INFO Welcome to the CDS\n",
      "2020-06-14 13:00:53,500 INFO Sending request to https://cds.climate.copernicus.eu/api/v2/resources/reanalysis-era5-pressure-levels\n",
      "2020-06-14 13:00:55,032 INFO Request is queued\n",
      "2020-06-14 13:00:56,364 INFO Request is running\n",
      "2020-06-14 13:00:58,207 INFO Request is completed\n",
      "2020-06-14 13:00:58,209 INFO Downloading http://136.156.133.42/cache-compute-0014/cache/data2/adaptor.mars.internal-1592096454.9161832-25574-34-563a0a8c-5771-449a-a79b-81bcf65e9e3c.nc to /home/nicolasf/research/CPP/indices/data/ERA5/daily/ERA5_daily_geopotential_1000_2017-11-29.nc (192.2K)\n",
      "2020-06-14 13:01:00,056 INFO Download rate 104.2K/s\n"
     ]
    },
    {
     "name": "stdout",
     "output_type": "stream",
     "text": [
      "downloading /home/nicolasf/research/CPP/indices/data/ERA5/daily/ERA5_daily_geopotential_1000_2017-11-30.nc\n"
     ]
    },
    {
     "name": "stderr",
     "output_type": "stream",
     "text": [
      "2020-06-14 13:01:02,614 INFO Welcome to the CDS\n",
      "2020-06-14 13:01:02,615 INFO Sending request to https://cds.climate.copernicus.eu/api/v2/resources/reanalysis-era5-pressure-levels\n",
      "2020-06-14 13:01:03,900 INFO Request is queued\n",
      "2020-06-14 13:01:05,273 INFO Request is running\n",
      "2020-06-14 13:01:07,116 INFO Request is completed\n",
      "2020-06-14 13:01:07,118 INFO Downloading http://136.156.133.37/cache-compute-0011/cache/data4/adaptor.mars.internal-1592096464.529932-1817-17-02f57628-0d96-4f1a-b71f-c8c9096e6652.nc to /home/nicolasf/research/CPP/indices/data/ERA5/daily/ERA5_daily_geopotential_1000_2017-11-30.nc (192.2K)\n",
      "2020-06-14 13:01:08,964 INFO Download rate 104.2K/s\n"
     ]
    },
    {
     "name": "stdout",
     "output_type": "stream",
     "text": [
      "downloading /home/nicolasf/research/CPP/indices/data/ERA5/daily/ERA5_daily_geopotential_1000_2017-12-01.nc\n"
     ]
    },
    {
     "name": "stderr",
     "output_type": "stream",
     "text": [
      "2020-06-14 13:01:10,702 INFO Welcome to the CDS\n",
      "2020-06-14 13:01:10,704 INFO Sending request to https://cds.climate.copernicus.eu/api/v2/resources/reanalysis-era5-pressure-levels\n",
      "2020-06-14 13:01:11,993 INFO Request is queued\n",
      "2020-06-14 13:01:13,362 INFO Request is running\n",
      "2020-06-14 13:01:15,205 INFO Request is completed\n",
      "2020-06-14 13:01:15,207 INFO Downloading http://136.156.133.36/cache-compute-0010/cache/data6/adaptor.mars.internal-1592096472.0481076-12527-1-cbe00b67-093d-4050-a7c5-75e0a6236166.nc to /home/nicolasf/research/CPP/indices/data/ERA5/daily/ERA5_daily_geopotential_1000_2017-12-01.nc (192.2K)\n",
      "2020-06-14 13:01:17,048 INFO Download rate 104.5K/s\n"
     ]
    },
    {
     "name": "stdout",
     "output_type": "stream",
     "text": [
      "downloading /home/nicolasf/research/CPP/indices/data/ERA5/daily/ERA5_daily_geopotential_1000_2017-12-02.nc\n"
     ]
    },
    {
     "name": "stderr",
     "output_type": "stream",
     "text": [
      "2020-06-14 13:01:18,689 INFO Welcome to the CDS\n",
      "2020-06-14 13:01:18,690 INFO Sending request to https://cds.climate.copernicus.eu/api/v2/resources/reanalysis-era5-pressure-levels\n",
      "2020-06-14 13:01:19,982 INFO Request is queued\n",
      "2020-06-14 13:01:21,349 INFO Request is completed\n",
      "2020-06-14 13:01:21,351 INFO Downloading http://136.156.133.46/cache-compute-0015/cache/data1/adaptor.mars.internal-1592096479.925277-4449-3-a2d9425b-0b98-47b8-b27c-e19e911a9642.nc to /home/nicolasf/research/CPP/indices/data/ERA5/daily/ERA5_daily_geopotential_1000_2017-12-02.nc (192.2K)\n",
      "2020-06-14 13:01:23,198 INFO Download rate 104.2K/s\n"
     ]
    },
    {
     "name": "stdout",
     "output_type": "stream",
     "text": [
      "downloading /home/nicolasf/research/CPP/indices/data/ERA5/daily/ERA5_daily_geopotential_1000_2017-12-03.nc\n"
     ]
    },
    {
     "name": "stderr",
     "output_type": "stream",
     "text": [
      "2020-06-14 13:01:25,346 INFO Welcome to the CDS\n",
      "2020-06-14 13:01:25,347 INFO Sending request to https://cds.climate.copernicus.eu/api/v2/resources/reanalysis-era5-pressure-levels\n",
      "2020-06-14 13:01:26,981 INFO Request is queued\n",
      "2020-06-14 13:01:28,312 INFO Request is running\n",
      "2020-06-14 13:01:30,155 INFO Request is completed\n",
      "2020-06-14 13:01:30,157 INFO Downloading http://136.156.133.39/cache-compute-0012/cache/data8/adaptor.mars.internal-1592096487.085468-12357-19-abc0fb32-c818-41f9-8e39-459451ce0232.nc to /home/nicolasf/research/CPP/indices/data/ERA5/daily/ERA5_daily_geopotential_1000_2017-12-03.nc (192.2K)\n",
      "2020-06-14 13:01:32,107 INFO Download rate 98.6K/s \n"
     ]
    },
    {
     "name": "stdout",
     "output_type": "stream",
     "text": [
      "downloading /home/nicolasf/research/CPP/indices/data/ERA5/daily/ERA5_daily_geopotential_1000_2017-12-04.nc\n"
     ]
    },
    {
     "name": "stderr",
     "output_type": "stream",
     "text": [
      "2020-06-14 13:01:34,866 INFO Welcome to the CDS\n",
      "2020-06-14 13:01:34,867 INFO Sending request to https://cds.climate.copernicus.eu/api/v2/resources/reanalysis-era5-pressure-levels\n",
      "2020-06-14 13:01:36,605 INFO Request is queued\n",
      "2020-06-14 13:01:37,937 INFO Request is completed\n",
      "2020-06-14 13:01:37,939 INFO Downloading http://136.156.132.210/cache-compute-0005/cache/data6/adaptor.mars.internal-1592096496.433389-25017-9-f4c6a20f-2263-4cc0-8486-91f7d4f904c7.nc to /home/nicolasf/research/CPP/indices/data/ERA5/daily/ERA5_daily_geopotential_1000_2017-12-04.nc (192.2K)\n",
      "2020-06-14 13:01:39,889 INFO Download rate 98.7K/s \n"
     ]
    },
    {
     "name": "stdout",
     "output_type": "stream",
     "text": [
      "downloading /home/nicolasf/research/CPP/indices/data/ERA5/daily/ERA5_daily_geopotential_1000_2017-12-05.nc\n"
     ]
    },
    {
     "name": "stderr",
     "output_type": "stream",
     "text": [
      "2020-06-14 13:01:41,524 INFO Welcome to the CDS\n",
      "2020-06-14 13:01:41,525 INFO Sending request to https://cds.climate.copernicus.eu/api/v2/resources/reanalysis-era5-pressure-levels\n",
      "2020-06-14 13:01:43,774 INFO Request is queued\n",
      "2020-06-14 13:01:46,888 INFO Request is completed\n",
      "2020-06-14 13:01:46,890 INFO Downloading http://136.156.132.210/cache-compute-0005/cache/data6/adaptor.mars.internal-1592096504.9730685-16194-30-6ffbca0c-b2b5-4f18-8a35-d56bf7ceb836.nc to /home/nicolasf/research/CPP/indices/data/ERA5/daily/ERA5_daily_geopotential_1000_2017-12-05.nc (192.2K)\n",
      "2020-06-14 13:01:48,899 INFO Download rate 95.8K/s \n"
     ]
    },
    {
     "name": "stdout",
     "output_type": "stream",
     "text": [
      "downloading /home/nicolasf/research/CPP/indices/data/ERA5/daily/ERA5_daily_geopotential_1000_2017-12-06.nc\n"
     ]
    },
    {
     "name": "stderr",
     "output_type": "stream",
     "text": [
      "2020-06-14 13:01:50,638 INFO Welcome to the CDS\n",
      "2020-06-14 13:01:50,639 INFO Sending request to https://cds.climate.copernicus.eu/api/v2/resources/reanalysis-era5-pressure-levels\n",
      "2020-06-14 13:01:52,376 INFO Request is queued\n",
      "2020-06-14 13:01:53,706 INFO Request is running\n",
      "2020-06-14 13:01:55,549 INFO Request is completed\n",
      "2020-06-14 13:01:55,551 INFO Downloading http://136.156.132.198/cache-compute-0003/cache/data6/adaptor.mars.internal-1592096512.3693593-8375-34-60b082a3-12c8-4a46-892b-f43388f7ae54.nc to /home/nicolasf/research/CPP/indices/data/ERA5/daily/ERA5_daily_geopotential_1000_2017-12-06.nc (192.2K)\n",
      "2020-06-14 13:01:57,398 INFO Download rate 104.2K/s\n"
     ]
    },
    {
     "name": "stdout",
     "output_type": "stream",
     "text": [
      "downloading /home/nicolasf/research/CPP/indices/data/ERA5/daily/ERA5_daily_geopotential_1000_2017-12-07.nc\n"
     ]
    },
    {
     "name": "stderr",
     "output_type": "stream",
     "text": [
      "2020-06-14 13:01:59,341 INFO Welcome to the CDS\n",
      "2020-06-14 13:01:59,342 INFO Sending request to https://cds.climate.copernicus.eu/api/v2/resources/reanalysis-era5-pressure-levels\n",
      "2020-06-14 13:02:00,874 INFO Request is queued\n",
      "2020-06-14 13:02:02,308 INFO Request is running\n",
      "2020-06-14 13:02:04,151 INFO Request is completed\n",
      "2020-06-14 13:02:04,153 INFO Downloading http://136.156.132.235/cache-compute-0006/cache/data7/adaptor.mars.internal-1592096522.0316923-23366-26-b85c910f-7009-4849-b1d5-84933333586d.nc to /home/nicolasf/research/CPP/indices/data/ERA5/daily/ERA5_daily_geopotential_1000_2017-12-07.nc (192.2K)\n",
      "2020-06-14 13:02:07,534 INFO Download rate 56.9K/s \n"
     ]
    },
    {
     "name": "stdout",
     "output_type": "stream",
     "text": [
      "downloading /home/nicolasf/research/CPP/indices/data/ERA5/daily/ERA5_daily_geopotential_1000_2017-12-08.nc\n"
     ]
    },
    {
     "name": "stderr",
     "output_type": "stream",
     "text": [
      "2020-06-14 13:02:09,888 INFO Welcome to the CDS\n",
      "2020-06-14 13:02:09,890 INFO Sending request to https://cds.climate.copernicus.eu/api/v2/resources/reanalysis-era5-pressure-levels\n",
      "2020-06-14 13:02:11,728 INFO Request is queued\n",
      "2020-06-14 13:02:13,060 INFO Request is running\n",
      "2020-06-14 13:02:14,903 INFO Request is completed\n",
      "2020-06-14 13:02:14,904 INFO Downloading http://136.156.132.210/cache-compute-0005/cache/data7/adaptor.mars.internal-1592096531.5924768-15531-34-3d66bc9f-fc62-4b95-953f-80823064d6a5.nc to /home/nicolasf/research/CPP/indices/data/ERA5/daily/ERA5_daily_geopotential_1000_2017-12-08.nc (192.2K)\n",
      "2020-06-14 13:02:16,751 INFO Download rate 104.2K/s\n"
     ]
    },
    {
     "name": "stdout",
     "output_type": "stream",
     "text": [
      "downloading /home/nicolasf/research/CPP/indices/data/ERA5/daily/ERA5_daily_geopotential_1000_2017-12-09.nc\n"
     ]
    },
    {
     "name": "stderr",
     "output_type": "stream",
     "text": [
      "2020-06-14 13:02:18,592 INFO Welcome to the CDS\n",
      "2020-06-14 13:02:18,593 INFO Sending request to https://cds.climate.copernicus.eu/api/v2/resources/reanalysis-era5-pressure-levels\n",
      "2020-06-14 13:02:20,022 INFO Request is queued\n",
      "2020-06-14 13:02:21,354 INFO Request is running\n",
      "2020-06-14 13:02:23,197 INFO Request is completed\n",
      "2020-06-14 13:02:23,198 INFO Downloading http://136.156.132.110/cache-compute-0001/cache/data9/adaptor.mars.internal-1592096540.567898-9534-1-2465a678-d018-4f2f-b8c3-9939853e52e1.nc to /home/nicolasf/research/CPP/indices/data/ERA5/daily/ERA5_daily_geopotential_1000_2017-12-09.nc (192.2K)\n",
      "2020-06-14 13:02:25,046 INFO Download rate 104.2K/s\n"
     ]
    },
    {
     "name": "stdout",
     "output_type": "stream",
     "text": [
      "downloading /home/nicolasf/research/CPP/indices/data/ERA5/daily/ERA5_daily_geopotential_1000_2017-12-10.nc\n"
     ]
    },
    {
     "name": "stderr",
     "output_type": "stream",
     "text": [
      "2020-06-14 13:02:26,886 INFO Welcome to the CDS\n",
      "2020-06-14 13:02:26,887 INFO Sending request to https://cds.climate.copernicus.eu/api/v2/resources/reanalysis-era5-pressure-levels\n",
      "2020-06-14 13:02:28,931 INFO Request is queued\n",
      "2020-06-14 13:02:30,262 INFO Request is running\n",
      "2020-06-14 13:02:32,105 INFO Request is completed\n",
      "2020-06-14 13:02:32,107 INFO Downloading http://136.156.132.153/cache-compute-0002/cache/data3/adaptor.mars.internal-1592096549.2583613-3068-17-325cf506-325e-4443-8ba7-c1de65b4042f.nc to /home/nicolasf/research/CPP/indices/data/ERA5/daily/ERA5_daily_geopotential_1000_2017-12-10.nc (192.2K)\n",
      "2020-06-14 13:02:33,953 INFO Download rate 104.2K/s\n"
     ]
    },
    {
     "name": "stdout",
     "output_type": "stream",
     "text": [
      "downloading /home/nicolasf/research/CPP/indices/data/ERA5/daily/ERA5_daily_geopotential_1000_2017-12-11.nc\n"
     ]
    },
    {
     "name": "stderr",
     "output_type": "stream",
     "text": [
      "2020-06-14 13:02:35,795 INFO Welcome to the CDS\n",
      "2020-06-14 13:02:35,796 INFO Sending request to https://cds.climate.copernicus.eu/api/v2/resources/reanalysis-era5-pressure-levels\n",
      "2020-06-14 13:02:37,430 INFO Request is queued\n",
      "2020-06-14 13:02:38,762 INFO Request is running\n",
      "2020-06-14 13:02:43,164 INFO Request is completed\n",
      "2020-06-14 13:02:43,166 INFO Downloading http://136.156.133.25/cache-compute-0008/cache/data9/adaptor.mars.internal-1592096558.2317276-21306-13-1a9e9159-ecdf-46d2-9a23-440d7ddc9d86.nc to /home/nicolasf/research/CPP/indices/data/ERA5/daily/ERA5_daily_geopotential_1000_2017-12-11.nc (192.2K)\n",
      "2020-06-14 13:02:45,011 INFO Download rate 104.3K/s\n"
     ]
    },
    {
     "name": "stdout",
     "output_type": "stream",
     "text": [
      "downloading /home/nicolasf/research/CPP/indices/data/ERA5/daily/ERA5_daily_geopotential_1000_2017-12-12.nc\n"
     ]
    },
    {
     "name": "stderr",
     "output_type": "stream",
     "text": [
      "2020-06-14 13:02:46,956 INFO Welcome to the CDS\n",
      "2020-06-14 13:02:46,958 INFO Sending request to https://cds.climate.copernicus.eu/api/v2/resources/reanalysis-era5-pressure-levels\n",
      "2020-06-14 13:02:48,899 INFO Request is queued\n",
      "2020-06-14 13:02:50,230 INFO Request is running\n",
      "2020-06-14 13:02:52,073 INFO Request is completed\n",
      "2020-06-14 13:02:52,074 INFO Downloading http://136.156.132.201/cache-compute-0004/cache/data9/adaptor.mars.internal-1592096569.2903957-9120-9-18379075-b445-4f69-9664-a9b4f7055c27.nc to /home/nicolasf/research/CPP/indices/data/ERA5/daily/ERA5_daily_geopotential_1000_2017-12-12.nc (192.2K)\n",
      "2020-06-14 13:02:53,923 INFO Download rate 104.1K/s\n"
     ]
    },
    {
     "name": "stdout",
     "output_type": "stream",
     "text": [
      "downloading /home/nicolasf/research/CPP/indices/data/ERA5/daily/ERA5_daily_geopotential_1000_2017-12-13.nc\n"
     ]
    },
    {
     "name": "stderr",
     "output_type": "stream",
     "text": [
      "2020-06-14 13:02:55,455 INFO Welcome to the CDS\n",
      "2020-06-14 13:02:55,456 INFO Sending request to https://cds.climate.copernicus.eu/api/v2/resources/reanalysis-era5-pressure-levels\n",
      "2020-06-14 13:02:56,729 INFO Request is queued\n",
      "2020-06-14 13:02:58,116 INFO Request is running\n",
      "2020-06-14 13:02:59,958 INFO Request is completed\n",
      "2020-06-14 13:02:59,960 INFO Downloading http://136.156.133.32/cache-compute-0009/cache/data6/adaptor.mars.internal-1592096577.2089372-30944-9-e57fe9e2-51a9-48af-8f41-a86b1f0fbcfa.nc to /home/nicolasf/research/CPP/indices/data/ERA5/daily/ERA5_daily_geopotential_1000_2017-12-13.nc (192.2K)\n",
      "2020-06-14 13:03:01,806 INFO Download rate 104.2K/s\n"
     ]
    },
    {
     "name": "stdout",
     "output_type": "stream",
     "text": [
      "downloading /home/nicolasf/research/CPP/indices/data/ERA5/daily/ERA5_daily_geopotential_1000_2017-12-14.nc\n"
     ]
    },
    {
     "name": "stderr",
     "output_type": "stream",
     "text": [
      "2020-06-14 13:03:05,797 INFO Welcome to the CDS\n",
      "2020-06-14 13:03:05,798 INFO Sending request to https://cds.climate.copernicus.eu/api/v2/resources/reanalysis-era5-pressure-levels\n",
      "2020-06-14 13:03:07,335 INFO Request is queued\n",
      "2020-06-14 13:03:08,661 INFO Request is running\n",
      "2020-06-14 13:03:10,505 INFO Request is completed\n",
      "2020-06-14 13:03:10,506 INFO Downloading http://136.156.132.236/cache-compute-0007/cache/data7/adaptor.mars.internal-1592096587.7659538-4257-24-21eca25d-e2e4-4def-835a-37e743683e03.nc to /home/nicolasf/research/CPP/indices/data/ERA5/daily/ERA5_daily_geopotential_1000_2017-12-14.nc (192.2K)\n",
      "2020-06-14 13:03:12,320 INFO Download rate 106.1K/s\n"
     ]
    },
    {
     "name": "stdout",
     "output_type": "stream",
     "text": [
      "downloading /home/nicolasf/research/CPP/indices/data/ERA5/daily/ERA5_daily_geopotential_1000_2017-12-15.nc\n"
     ]
    },
    {
     "name": "stderr",
     "output_type": "stream",
     "text": [
      "2020-06-14 13:03:15,014 INFO Welcome to the CDS\n",
      "2020-06-14 13:03:15,014 INFO Sending request to https://cds.climate.copernicus.eu/api/v2/resources/reanalysis-era5-pressure-levels\n",
      "2020-06-14 13:03:16,648 INFO Request is queued\n",
      "2020-06-14 13:03:17,979 INFO Request is running\n",
      "2020-06-14 13:03:19,823 INFO Request is completed\n",
      "2020-06-14 13:03:19,825 INFO Downloading http://136.156.132.105/cache-compute-0000/cache/data6/adaptor.mars.internal-1592096596.952426-26384-9-e377eba2-5552-404d-bd5f-9ae44dfbf284.nc to /home/nicolasf/research/CPP/indices/data/ERA5/daily/ERA5_daily_geopotential_1000_2017-12-15.nc (192.2K)\n",
      "2020-06-14 13:03:21,672 INFO Download rate 104.2K/s\n"
     ]
    },
    {
     "name": "stdout",
     "output_type": "stream",
     "text": [
      "downloading /home/nicolasf/research/CPP/indices/data/ERA5/daily/ERA5_daily_geopotential_1000_2017-12-16.nc\n"
     ]
    },
    {
     "name": "stderr",
     "output_type": "stream",
     "text": [
      "2020-06-14 13:03:23,410 INFO Welcome to the CDS\n",
      "2020-06-14 13:03:23,411 INFO Sending request to https://cds.climate.copernicus.eu/api/v2/resources/reanalysis-era5-pressure-levels\n",
      "2020-06-14 13:03:24,845 INFO Request is queued\n",
      "2020-06-14 13:03:26,172 INFO Request is running\n",
      "2020-06-14 13:03:28,014 INFO Request is completed\n",
      "2020-06-14 13:03:28,016 INFO Downloading http://136.156.133.46/cache-compute-0015/cache/data5/adaptor.mars.internal-1592096605.7861626-3458-11-7f079700-483d-4f98-8f8b-348577f430c3.nc to /home/nicolasf/research/CPP/indices/data/ERA5/daily/ERA5_daily_geopotential_1000_2017-12-16.nc (192.2K)\n",
      "2020-06-14 13:03:29,864 INFO Download rate 104.1K/s\n"
     ]
    },
    {
     "name": "stdout",
     "output_type": "stream",
     "text": [
      "downloading /home/nicolasf/research/CPP/indices/data/ERA5/daily/ERA5_daily_geopotential_1000_2017-12-17.nc\n"
     ]
    },
    {
     "name": "stderr",
     "output_type": "stream",
     "text": [
      "2020-06-14 13:03:32,523 INFO Welcome to the CDS\n",
      "2020-06-14 13:03:32,524 INFO Sending request to https://cds.climate.copernicus.eu/api/v2/resources/reanalysis-era5-pressure-levels\n",
      "2020-06-14 13:03:34,158 INFO Request is queued\n",
      "2020-06-14 13:03:35,489 INFO Request is running\n",
      "2020-06-14 13:03:37,333 INFO Request is completed\n",
      "2020-06-14 13:03:37,335 INFO Downloading http://136.156.133.42/cache-compute-0014/cache/data8/adaptor.mars.internal-1592096614.446647-30965-28-bcb5262c-647f-4f2a-aaf2-c8089d166751.nc to /home/nicolasf/research/CPP/indices/data/ERA5/daily/ERA5_daily_geopotential_1000_2017-12-17.nc (192.2K)\n",
      "2020-06-14 13:03:39,182 INFO Download rate 104.2K/s\n"
     ]
    },
    {
     "name": "stdout",
     "output_type": "stream",
     "text": [
      "downloading /home/nicolasf/research/CPP/indices/data/ERA5/daily/ERA5_daily_geopotential_1000_2017-12-18.nc\n"
     ]
    },
    {
     "name": "stderr",
     "output_type": "stream",
     "text": [
      "2020-06-14 13:03:40,890 INFO Welcome to the CDS\n",
      "2020-06-14 13:03:40,891 INFO Sending request to https://cds.climate.copernicus.eu/api/v2/resources/reanalysis-era5-pressure-levels\n",
      "2020-06-14 13:03:43,273 INFO Request is queued\n",
      "2020-06-14 13:03:44,562 INFO Request is running\n",
      "2020-06-14 13:03:46,446 INFO Request is completed\n",
      "2020-06-14 13:03:46,448 INFO Downloading http://136.156.132.153/cache-compute-0002/cache/data8/adaptor.mars.internal-1592096623.4783664-27707-26-ba770fcc-3b4c-4fc8-a1ca-e51999cb8ba8.nc to /home/nicolasf/research/CPP/indices/data/ERA5/daily/ERA5_daily_geopotential_1000_2017-12-18.nc (192.2K)\n",
      "2020-06-14 13:03:48,293 INFO Download rate 104.2K/s\n"
     ]
    },
    {
     "name": "stdout",
     "output_type": "stream",
     "text": [
      "downloading /home/nicolasf/research/CPP/indices/data/ERA5/daily/ERA5_daily_geopotential_1000_2017-12-19.nc\n"
     ]
    },
    {
     "name": "stderr",
     "output_type": "stream",
     "text": [
      "2020-06-14 13:03:49,928 INFO Welcome to the CDS\n",
      "2020-06-14 13:03:49,928 INFO Sending request to https://cds.climate.copernicus.eu/api/v2/resources/reanalysis-era5-pressure-levels\n",
      "2020-06-14 13:03:51,361 INFO Request is queued\n",
      "2020-06-14 13:03:52,692 INFO Request is running\n",
      "2020-06-14 13:03:54,535 INFO Request is completed\n",
      "2020-06-14 13:03:54,537 INFO Downloading http://136.156.133.42/cache-compute-0014/cache/data5/adaptor.mars.internal-1592096631.301434-32152-25-87534660-6898-45ca-b283-abe0431dc360.nc to /home/nicolasf/research/CPP/indices/data/ERA5/daily/ERA5_daily_geopotential_1000_2017-12-19.nc (192.2K)\n",
      "2020-06-14 13:03:56,321 INFO Download rate 107.9K/s\n"
     ]
    },
    {
     "name": "stdout",
     "output_type": "stream",
     "text": [
      "downloading /home/nicolasf/research/CPP/indices/data/ERA5/daily/ERA5_daily_geopotential_1000_2017-12-20.nc\n"
     ]
    },
    {
     "name": "stderr",
     "output_type": "stream",
     "text": [
      "2020-06-14 13:03:58,529 INFO Welcome to the CDS\n",
      "2020-06-14 13:03:58,530 INFO Sending request to https://cds.climate.copernicus.eu/api/v2/resources/reanalysis-era5-pressure-levels\n",
      "2020-06-14 13:04:00,473 INFO Request is queued\n",
      "2020-06-14 13:04:01,806 INFO Request is running\n",
      "2020-06-14 13:04:03,649 INFO Request is completed\n",
      "2020-06-14 13:04:03,651 INFO Downloading http://136.156.133.37/cache-compute-0011/cache/data2/adaptor.mars.internal-1592096640.2903943-4462-13-f5245928-98ee-4914-bf2a-5513b594dba7.nc to /home/nicolasf/research/CPP/indices/data/ERA5/daily/ERA5_daily_geopotential_1000_2017-12-20.nc (192.2K)\n",
      "2020-06-14 13:04:05,499 INFO Download rate 104.1K/s\n"
     ]
    },
    {
     "name": "stdout",
     "output_type": "stream",
     "text": [
      "downloading /home/nicolasf/research/CPP/indices/data/ERA5/daily/ERA5_daily_geopotential_1000_2017-12-21.nc\n"
     ]
    },
    {
     "name": "stderr",
     "output_type": "stream",
     "text": [
      "2020-06-14 13:04:07,748 INFO Welcome to the CDS\n",
      "2020-06-14 13:04:07,749 INFO Sending request to https://cds.climate.copernicus.eu/api/v2/resources/reanalysis-era5-pressure-levels\n",
      "2020-06-14 13:04:09,281 INFO Request is queued\n",
      "2020-06-14 13:04:10,613 INFO Request is running\n",
      "2020-06-14 13:04:12,455 INFO Request is completed\n",
      "2020-06-14 13:04:12,457 INFO Downloading http://136.156.133.41/cache-compute-0013/cache/data4/adaptor.mars.internal-1592096649.9763541-3284-17-a4744acb-2351-4a34-bad6-4bf015342619.nc to /home/nicolasf/research/CPP/indices/data/ERA5/daily/ERA5_daily_geopotential_1000_2017-12-21.nc (192.2K)\n",
      "2020-06-14 13:04:14,304 INFO Download rate 104.2K/s\n"
     ]
    },
    {
     "name": "stdout",
     "output_type": "stream",
     "text": [
      "downloading /home/nicolasf/research/CPP/indices/data/ERA5/daily/ERA5_daily_geopotential_1000_2017-12-22.nc\n"
     ]
    },
    {
     "name": "stderr",
     "output_type": "stream",
     "text": [
      "2020-06-14 13:04:16,110 INFO Welcome to the CDS\n",
      "2020-06-14 13:04:16,111 INFO Sending request to https://cds.climate.copernicus.eu/api/v2/resources/reanalysis-era5-pressure-levels\n",
      "2020-06-14 13:04:17,401 INFO Request is queued\n",
      "2020-06-14 13:04:18,702 INFO Request is completed\n",
      "2020-06-14 13:04:18,704 INFO Downloading http://136.156.132.235/cache-compute-0006/cache/data6/adaptor.mars.internal-1592096657.424903-28073-11-e1a55628-ff70-4fcd-aa43-2a76e63c0cae.nc to /home/nicolasf/research/CPP/indices/data/ERA5/daily/ERA5_daily_geopotential_1000_2017-12-22.nc (192.2K)\n",
      "2020-06-14 13:04:21,982 INFO Download rate 58.7K/s \n"
     ]
    },
    {
     "name": "stdout",
     "output_type": "stream",
     "text": [
      "downloading /home/nicolasf/research/CPP/indices/data/ERA5/daily/ERA5_daily_geopotential_1000_2017-12-23.nc\n"
     ]
    },
    {
     "name": "stderr",
     "output_type": "stream",
     "text": [
      "2020-06-14 13:04:23,620 INFO Welcome to the CDS\n",
      "2020-06-14 13:04:23,621 INFO Sending request to https://cds.climate.copernicus.eu/api/v2/resources/reanalysis-era5-pressure-levels\n",
      "2020-06-14 13:04:24,921 INFO Request is queued\n",
      "2020-06-14 13:04:26,279 INFO Request is running\n",
      "2020-06-14 13:04:28,123 INFO Request is completed\n",
      "2020-06-14 13:04:28,125 INFO Downloading http://136.156.132.210/cache-compute-0005/cache/data9/adaptor.mars.internal-1592096664.8324633-24481-15-854329a9-88c9-4e33-a182-0502aea24630.nc to /home/nicolasf/research/CPP/indices/data/ERA5/daily/ERA5_daily_geopotential_1000_2017-12-23.nc (192.2K)\n",
      "2020-06-14 13:04:29,972 INFO Download rate 104.1K/s\n"
     ]
    },
    {
     "name": "stdout",
     "output_type": "stream",
     "text": [
      "downloading /home/nicolasf/research/CPP/indices/data/ERA5/daily/ERA5_daily_geopotential_1000_2017-12-24.nc\n"
     ]
    },
    {
     "name": "stderr",
     "output_type": "stream",
     "text": [
      "2020-06-14 13:04:31,608 INFO Welcome to the CDS\n",
      "2020-06-14 13:04:31,609 INFO Sending request to https://cds.climate.copernicus.eu/api/v2/resources/reanalysis-era5-pressure-levels\n",
      "2020-06-14 13:04:33,652 INFO Request is queued\n",
      "2020-06-14 13:04:34,983 INFO Request is running\n",
      "2020-06-14 13:04:36,766 INFO Request is completed\n",
      "2020-06-14 13:04:36,768 INFO Downloading http://136.156.133.25/cache-compute-0008/cache/data0/adaptor.mars.internal-1592096673.6629186-24172-3-5996f9db-1a7e-47cb-ace1-1160d374984f.nc to /home/nicolasf/research/CPP/indices/data/ERA5/daily/ERA5_daily_geopotential_1000_2017-12-24.nc (192.2K)\n",
      "2020-06-14 13:04:38,675 INFO Download rate 101K/s  \n"
     ]
    },
    {
     "name": "stdout",
     "output_type": "stream",
     "text": [
      "downloading /home/nicolasf/research/CPP/indices/data/ERA5/daily/ERA5_daily_geopotential_1000_2017-12-25.nc\n"
     ]
    },
    {
     "name": "stderr",
     "output_type": "stream",
     "text": [
      "2020-06-14 13:04:40,415 INFO Welcome to the CDS\n",
      "2020-06-14 13:04:40,415 INFO Sending request to https://cds.climate.copernicus.eu/api/v2/resources/reanalysis-era5-pressure-levels\n",
      "2020-06-14 13:04:41,946 INFO Request is queued\n",
      "2020-06-14 13:04:43,277 INFO Request is completed\n",
      "2020-06-14 13:04:43,279 INFO Downloading http://136.156.133.36/cache-compute-0010/cache/data6/adaptor.mars.internal-1592096682.028682-4291-28-c31bc58b-3fb6-4096-82dd-8283147d4146.nc to /home/nicolasf/research/CPP/indices/data/ERA5/daily/ERA5_daily_geopotential_1000_2017-12-25.nc (192.2K)\n",
      "2020-06-14 13:04:45,127 INFO Download rate 104.1K/s\n"
     ]
    },
    {
     "name": "stdout",
     "output_type": "stream",
     "text": [
      "downloading /home/nicolasf/research/CPP/indices/data/ERA5/daily/ERA5_daily_geopotential_1000_2017-12-26.nc\n"
     ]
    },
    {
     "name": "stderr",
     "output_type": "stream",
     "text": [
      "2020-06-14 13:04:47,274 INFO Welcome to the CDS\n",
      "2020-06-14 13:04:47,275 INFO Sending request to https://cds.climate.copernicus.eu/api/v2/resources/reanalysis-era5-pressure-levels\n",
      "2020-06-14 13:04:48,909 INFO Request is queued\n",
      "2020-06-14 13:04:50,241 INFO Request is running\n",
      "2020-06-14 13:04:52,027 INFO Request is completed\n",
      "2020-06-14 13:04:52,029 INFO Downloading http://136.156.133.25/cache-compute-0008/cache/data1/adaptor.mars.internal-1592096689.3344512-12986-36-a4f043c1-c566-49ce-a2a2-85afac18754a.nc to /home/nicolasf/research/CPP/indices/data/ERA5/daily/ERA5_daily_geopotential_1000_2017-12-26.nc (192.2K)\n",
      "2020-06-14 13:04:53,927 INFO Download rate 101.4K/s\n"
     ]
    },
    {
     "name": "stdout",
     "output_type": "stream",
     "text": [
      "downloading /home/nicolasf/research/CPP/indices/data/ERA5/daily/ERA5_daily_geopotential_1000_2017-12-27.nc\n"
     ]
    },
    {
     "name": "stderr",
     "output_type": "stream",
     "text": [
      "2020-06-14 13:04:56,328 INFO Welcome to the CDS\n",
      "2020-06-14 13:04:56,329 INFO Sending request to https://cds.climate.copernicus.eu/api/v2/resources/reanalysis-era5-pressure-levels\n",
      "2020-06-14 13:04:58,739 INFO Request is queued\n",
      "2020-06-14 13:05:01,914 INFO Request is completed\n",
      "2020-06-14 13:05:01,916 INFO Downloading http://136.156.133.37/cache-compute-0011/cache/data8/adaptor.mars.internal-1592096700.0428228-7653-3-5ae65d7f-face-4b27-a7f0-77ab701bebe4.nc to /home/nicolasf/research/CPP/indices/data/ERA5/daily/ERA5_daily_geopotential_1000_2017-12-27.nc (192.2K)\n",
      "2020-06-14 13:05:03,758 INFO Download rate 104.5K/s\n"
     ]
    },
    {
     "name": "stdout",
     "output_type": "stream",
     "text": [
      "downloading /home/nicolasf/research/CPP/indices/data/ERA5/daily/ERA5_daily_geopotential_1000_2017-12-28.nc\n"
     ]
    },
    {
     "name": "stderr",
     "output_type": "stream",
     "text": [
      "2020-06-14 13:05:05,911 INFO Welcome to the CDS\n",
      "2020-06-14 13:05:05,913 INFO Sending request to https://cds.climate.copernicus.eu/api/v2/resources/reanalysis-era5-pressure-levels\n",
      "2020-06-14 13:05:07,752 INFO Request is queued\n",
      "2020-06-14 13:05:09,081 INFO Request is running\n",
      "2020-06-14 13:05:13,485 INFO Request is completed\n",
      "2020-06-14 13:05:13,487 INFO Downloading http://136.156.133.37/cache-compute-0011/cache/data7/adaptor.mars.internal-1592096708.9493542-8058-1-216cc9b7-c235-41fe-bd3a-71d35d61a447.nc to /home/nicolasf/research/CPP/indices/data/ERA5/daily/ERA5_daily_geopotential_1000_2017-12-28.nc (192.2K)\n",
      "2020-06-14 13:05:15,335 INFO Download rate 104.1K/s\n"
     ]
    },
    {
     "name": "stdout",
     "output_type": "stream",
     "text": [
      "downloading /home/nicolasf/research/CPP/indices/data/ERA5/daily/ERA5_daily_geopotential_1000_2017-12-29.nc\n"
     ]
    },
    {
     "name": "stderr",
     "output_type": "stream",
     "text": [
      "2020-06-14 13:05:17,891 INFO Welcome to the CDS\n",
      "2020-06-14 13:05:17,892 INFO Sending request to https://cds.climate.copernicus.eu/api/v2/resources/reanalysis-era5-pressure-levels\n",
      "2020-06-14 13:05:19,321 INFO Request is queued\n",
      "2020-06-14 13:05:20,653 INFO Request is running\n",
      "2020-06-14 13:05:22,497 INFO Request is completed\n",
      "2020-06-14 13:05:22,499 INFO Downloading http://136.156.132.201/cache-compute-0004/cache/data5/adaptor.mars.internal-1592096719.9218931-31651-30-1e177026-d342-4d6a-bc06-78fb8613d766.nc to /home/nicolasf/research/CPP/indices/data/ERA5/daily/ERA5_daily_geopotential_1000_2017-12-29.nc (192.2K)\n",
      "2020-06-14 13:05:24,344 INFO Download rate 104.2K/s\n"
     ]
    },
    {
     "name": "stdout",
     "output_type": "stream",
     "text": [
      "downloading /home/nicolasf/research/CPP/indices/data/ERA5/daily/ERA5_daily_geopotential_1000_2017-12-30.nc\n"
     ]
    },
    {
     "name": "stderr",
     "output_type": "stream",
     "text": [
      "2020-06-14 13:05:26,493 INFO Welcome to the CDS\n",
      "2020-06-14 13:05:26,494 INFO Sending request to https://cds.climate.copernicus.eu/api/v2/resources/reanalysis-era5-pressure-levels\n",
      "2020-06-14 13:05:28,128 INFO Request is queued\n",
      "2020-06-14 13:05:29,459 INFO Request is running\n",
      "2020-06-14 13:05:31,302 INFO Request is completed\n",
      "2020-06-14 13:05:31,304 INFO Downloading http://136.156.132.153/cache-compute-0002/cache/data5/adaptor.mars.internal-1592096728.6799014-28827-32-ad8c6ad9-e8de-4d07-be99-682056f871d2.nc to /home/nicolasf/research/CPP/indices/data/ERA5/daily/ERA5_daily_geopotential_1000_2017-12-30.nc (192.2K)\n",
      "2020-06-14 13:05:33,049 INFO Download rate 110.3K/s\n"
     ]
    },
    {
     "name": "stdout",
     "output_type": "stream",
     "text": [
      "downloading /home/nicolasf/research/CPP/indices/data/ERA5/daily/ERA5_daily_geopotential_1000_2017-12-31.nc\n"
     ]
    },
    {
     "name": "stderr",
     "output_type": "stream",
     "text": [
      "2020-06-14 13:05:35,401 INFO Welcome to the CDS\n",
      "2020-06-14 13:05:35,402 INFO Sending request to https://cds.climate.copernicus.eu/api/v2/resources/reanalysis-era5-pressure-levels\n",
      "2020-06-14 13:05:37,139 INFO Request is queued\n",
      "2020-06-14 13:05:38,469 INFO Request is running\n",
      "2020-06-14 13:05:40,313 INFO Request is completed\n",
      "2020-06-14 13:05:40,315 INFO Downloading http://136.156.132.201/cache-compute-0004/cache/data1/adaptor.mars.internal-1592096737.3501906-9106-13-8452d121-01c6-4856-a7a0-f4e1dc94a70d.nc to /home/nicolasf/research/CPP/indices/data/ERA5/daily/ERA5_daily_geopotential_1000_2017-12-31.nc (192.2K)\n",
      "2020-06-14 13:05:42,059 INFO Download rate 110.3K/s\n"
     ]
    },
    {
     "name": "stdout",
     "output_type": "stream",
     "text": [
      "downloading /home/nicolasf/research/CPP/indices/data/ERA5/daily/ERA5_daily_geopotential_1000_2018-01-01.nc\n"
     ]
    },
    {
     "name": "stderr",
     "output_type": "stream",
     "text": [
      "2020-06-14 13:05:44,413 INFO Welcome to the CDS\n",
      "2020-06-14 13:05:44,413 INFO Sending request to https://cds.climate.copernicus.eu/api/v2/resources/reanalysis-era5-pressure-levels\n",
      "2020-06-14 13:05:46,457 INFO Request is queued\n",
      "2020-06-14 13:05:47,789 INFO Request is running\n",
      "2020-06-14 13:05:49,631 INFO Request is completed\n",
      "2020-06-14 13:05:49,634 INFO Downloading http://136.156.133.36/cache-compute-0010/cache/data3/adaptor.mars.internal-1592096747.4479327-13397-5-cb5e436c-2aab-439f-8f84-e52303894f5e.nc to /home/nicolasf/research/CPP/indices/data/ERA5/daily/ERA5_daily_geopotential_1000_2018-01-01.nc (192.2K)\n",
      "2020-06-14 13:05:51,479 INFO Download rate 104.3K/s\n"
     ]
    },
    {
     "name": "stdout",
     "output_type": "stream",
     "text": [
      "downloading /home/nicolasf/research/CPP/indices/data/ERA5/daily/ERA5_daily_geopotential_1000_2018-01-02.nc\n"
     ]
    },
    {
     "name": "stderr",
     "output_type": "stream",
     "text": [
      "2020-06-14 13:05:53,526 INFO Welcome to the CDS\n",
      "2020-06-14 13:05:53,527 INFO Sending request to https://cds.climate.copernicus.eu/api/v2/resources/reanalysis-era5-pressure-levels\n",
      "2020-06-14 13:05:55,161 INFO Request is queued\n",
      "2020-06-14 13:05:56,492 INFO Request is running\n",
      "2020-06-14 13:05:58,335 INFO Request is completed\n",
      "2020-06-14 13:05:58,337 INFO Downloading http://136.156.133.46/cache-compute-0015/cache/data9/adaptor.mars.internal-1592096755.7836869-5016-7-d7b21a01-d8ed-497b-861e-a6c9f1ce74d0.nc to /home/nicolasf/research/CPP/indices/data/ERA5/daily/ERA5_daily_geopotential_1000_2018-01-02.nc (192.2K)\n",
      "2020-06-14 13:06:00,185 INFO Download rate 104.2K/s\n"
     ]
    },
    {
     "name": "stdout",
     "output_type": "stream",
     "text": [
      "downloading /home/nicolasf/research/CPP/indices/data/ERA5/daily/ERA5_daily_geopotential_1000_2018-01-03.nc\n"
     ]
    },
    {
     "name": "stderr",
     "output_type": "stream",
     "text": [
      "2020-06-14 13:06:02,229 INFO Welcome to the CDS\n",
      "2020-06-14 13:06:02,230 INFO Sending request to https://cds.climate.copernicus.eu/api/v2/resources/reanalysis-era5-pressure-levels\n",
      "2020-06-14 13:06:03,967 INFO Request is queued\n",
      "2020-06-14 13:06:05,298 INFO Request is running\n",
      "2020-06-14 13:06:07,142 INFO Request is completed\n",
      "2020-06-14 13:06:07,143 INFO Downloading http://136.156.133.41/cache-compute-0013/cache/data8/adaptor.mars.internal-1592096764.6884625-6267-7-d00848d4-ad55-4601-845b-850c803e522b.nc to /home/nicolasf/research/CPP/indices/data/ERA5/daily/ERA5_daily_geopotential_1000_2018-01-03.nc (192.2K)\n",
      "2020-06-14 13:06:08,992 INFO Download rate 104.1K/s\n"
     ]
    },
    {
     "name": "stdout",
     "output_type": "stream",
     "text": [
      "downloading /home/nicolasf/research/CPP/indices/data/ERA5/daily/ERA5_daily_geopotential_1000_2018-01-04.nc\n"
     ]
    },
    {
     "name": "stderr",
     "output_type": "stream",
     "text": [
      "2020-06-14 13:06:10,933 INFO Welcome to the CDS\n",
      "2020-06-14 13:06:10,934 INFO Sending request to https://cds.climate.copernicus.eu/api/v2/resources/reanalysis-era5-pressure-levels\n",
      "2020-06-14 13:06:12,876 INFO Request is queued\n",
      "2020-06-14 13:06:14,207 INFO Request is running\n",
      "2020-06-14 13:06:16,050 INFO Request is completed\n",
      "2020-06-14 13:06:16,052 INFO Downloading http://136.156.132.210/cache-compute-0005/cache/data0/adaptor.mars.internal-1592096773.4458976-26383-7-b988d7eb-4ce2-481e-bee4-8bba60ac741f.nc to /home/nicolasf/research/CPP/indices/data/ERA5/daily/ERA5_daily_geopotential_1000_2018-01-04.nc (192.2K)\n",
      "2020-06-14 13:06:17,901 INFO Download rate 104.1K/s\n"
     ]
    },
    {
     "name": "stdout",
     "output_type": "stream",
     "text": [
      "downloading /home/nicolasf/research/CPP/indices/data/ERA5/daily/ERA5_daily_geopotential_1000_2018-01-05.nc\n"
     ]
    },
    {
     "name": "stderr",
     "output_type": "stream",
     "text": [
      "2020-06-14 13:06:19,708 INFO Welcome to the CDS\n",
      "2020-06-14 13:06:19,708 INFO Sending request to https://cds.climate.copernicus.eu/api/v2/resources/reanalysis-era5-pressure-levels\n",
      "2020-06-14 13:06:21,786 INFO Request is queued\n",
      "2020-06-14 13:06:23,116 INFO Request is running\n",
      "2020-06-14 13:06:24,959 INFO Request is completed\n",
      "2020-06-14 13:06:24,961 INFO Downloading http://136.156.132.210/cache-compute-0005/cache/data4/adaptor.mars.internal-1592096781.7725594-18999-32-9a27b493-a912-4049-9588-14c8c870f749.nc to /home/nicolasf/research/CPP/indices/data/ERA5/daily/ERA5_daily_geopotential_1000_2018-01-05.nc (192.2K)\n",
      "2020-06-14 13:06:26,809 INFO Download rate 104.1K/s\n"
     ]
    },
    {
     "name": "stdout",
     "output_type": "stream",
     "text": [
      "downloading /home/nicolasf/research/CPP/indices/data/ERA5/daily/ERA5_daily_geopotential_1000_2018-01-06.nc\n"
     ]
    },
    {
     "name": "stderr",
     "output_type": "stream",
     "text": [
      "2020-06-14 13:06:28,649 INFO Welcome to the CDS\n",
      "2020-06-14 13:06:28,650 INFO Sending request to https://cds.climate.copernicus.eu/api/v2/resources/reanalysis-era5-pressure-levels\n",
      "2020-06-14 13:06:30,283 INFO Request is queued\n",
      "2020-06-14 13:06:31,565 INFO Request is running\n",
      "2020-06-14 13:06:33,355 INFO Request is completed\n",
      "2020-06-14 13:06:33,356 INFO Downloading http://136.156.132.105/cache-compute-0000/cache/data9/adaptor.mars.internal-1592096790.6016574-28980-3-2c37685a-46af-4402-9071-6b64237c1da4.nc to /home/nicolasf/research/CPP/indices/data/ERA5/daily/ERA5_daily_geopotential_1000_2018-01-06.nc (192.2K)\n",
      "2020-06-14 13:06:35,204 INFO Download rate 104K/s  \n"
     ]
    },
    {
     "name": "stdout",
     "output_type": "stream",
     "text": [
      "downloading /home/nicolasf/research/CPP/indices/data/ERA5/daily/ERA5_daily_geopotential_1000_2018-01-07.nc\n"
     ]
    },
    {
     "name": "stderr",
     "output_type": "stream",
     "text": [
      "2020-06-14 13:06:37,046 INFO Welcome to the CDS\n",
      "2020-06-14 13:06:37,047 INFO Sending request to https://cds.climate.copernicus.eu/api/v2/resources/reanalysis-era5-pressure-levels\n",
      "2020-06-14 13:06:38,988 INFO Request is queued\n",
      "2020-06-14 13:06:40,319 INFO Request is running\n",
      "2020-06-14 13:06:42,162 INFO Request is completed\n",
      "2020-06-14 13:06:42,164 INFO Downloading http://136.156.133.39/cache-compute-0012/cache/data1/adaptor.mars.internal-1592096798.929779-28727-24-5a46dc1e-d2d4-44fb-892f-5099b817d7b7.nc to /home/nicolasf/research/CPP/indices/data/ERA5/daily/ERA5_daily_geopotential_1000_2018-01-07.nc (192.2K)\n",
      "2020-06-14 13:06:44,010 INFO Download rate 104.2K/s\n"
     ]
    },
    {
     "name": "stdout",
     "output_type": "stream",
     "text": [
      "downloading /home/nicolasf/research/CPP/indices/data/ERA5/daily/ERA5_daily_geopotential_1000_2018-01-08.nc\n"
     ]
    },
    {
     "name": "stderr",
     "output_type": "stream",
     "text": [
      "2020-06-14 13:06:46,057 INFO Welcome to the CDS\n",
      "2020-06-14 13:06:46,058 INFO Sending request to https://cds.climate.copernicus.eu/api/v2/resources/reanalysis-era5-pressure-levels\n",
      "2020-06-14 13:06:47,589 INFO Request is queued\n",
      "2020-06-14 13:06:48,921 INFO Request is running\n",
      "2020-06-14 13:06:50,763 INFO Request is completed\n",
      "2020-06-14 13:06:50,765 INFO Downloading http://136.156.133.36/cache-compute-0010/cache/data6/adaptor.mars.internal-1592096807.516293-30410-30-24532c98-b530-46b5-9934-bb8fa34ae543.nc to /home/nicolasf/research/CPP/indices/data/ERA5/daily/ERA5_daily_geopotential_1000_2018-01-08.nc (192.2K)\n",
      "2020-06-14 13:06:52,614 INFO Download rate 104.1K/s\n"
     ]
    },
    {
     "name": "stdout",
     "output_type": "stream",
     "text": [
      "downloading /home/nicolasf/research/CPP/indices/data/ERA5/daily/ERA5_daily_geopotential_1000_2018-01-09.nc\n"
     ]
    },
    {
     "name": "stderr",
     "output_type": "stream",
     "text": [
      "2020-06-14 13:06:54,555 INFO Welcome to the CDS\n",
      "2020-06-14 13:06:54,556 INFO Sending request to https://cds.climate.copernicus.eu/api/v2/resources/reanalysis-era5-pressure-levels\n",
      "2020-06-14 13:06:56,088 INFO Request is queued\n",
      "2020-06-14 13:06:57,420 INFO Request is running\n",
      "2020-06-14 13:06:59,264 INFO Request is completed\n",
      "2020-06-14 13:06:59,265 INFO Downloading http://136.156.132.210/cache-compute-0005/cache/data9/adaptor.mars.internal-1592096816.9261725-28045-3-b8163460-95d9-4798-b99f-168e75b06b7c.nc to /home/nicolasf/research/CPP/indices/data/ERA5/daily/ERA5_daily_geopotential_1000_2018-01-09.nc (192.2K)\n",
      "2020-06-14 13:07:01,110 INFO Download rate 104.3K/s\n"
     ]
    },
    {
     "name": "stdout",
     "output_type": "stream",
     "text": [
      "downloading /home/nicolasf/research/CPP/indices/data/ERA5/daily/ERA5_daily_geopotential_1000_2018-01-10.nc\n"
     ]
    },
    {
     "name": "stderr",
     "output_type": "stream",
     "text": [
      "2020-06-14 13:07:03,260 INFO Welcome to the CDS\n",
      "2020-06-14 13:07:03,261 INFO Sending request to https://cds.climate.copernicus.eu/api/v2/resources/reanalysis-era5-pressure-levels\n",
      "2020-06-14 13:07:10,629 INFO Request is queued\n",
      "2020-06-14 13:07:13,804 INFO Request is running\n",
      "2020-06-14 13:07:16,363 INFO Request is completed\n",
      "2020-06-14 13:07:16,365 INFO Downloading http://136.156.132.236/cache-compute-0007/cache/data4/adaptor.mars.internal-1592096832.856655-4008-29-971ee038-cbf5-4a7f-901f-ee133002ac82.nc to /home/nicolasf/research/CPP/indices/data/ERA5/daily/ERA5_daily_geopotential_1000_2018-01-10.nc (192.2K)\n",
      "2020-06-14 13:07:18,211 INFO Download rate 104.2K/s\n"
     ]
    },
    {
     "name": "stdout",
     "output_type": "stream",
     "text": [
      "downloading /home/nicolasf/research/CPP/indices/data/ERA5/daily/ERA5_daily_geopotential_1000_2018-01-11.nc\n"
     ]
    },
    {
     "name": "stderr",
     "output_type": "stream",
     "text": [
      "2020-06-14 13:07:20,565 INFO Welcome to the CDS\n",
      "2020-06-14 13:07:20,566 INFO Sending request to https://cds.climate.copernicus.eu/api/v2/resources/reanalysis-era5-pressure-levels\n",
      "2020-06-14 13:07:22,918 INFO Request is queued\n",
      "2020-06-14 13:07:24,248 INFO Request is running\n",
      "2020-06-14 13:07:28,651 INFO Request is completed\n",
      "2020-06-14 13:07:28,653 INFO Downloading http://136.156.133.42/cache-compute-0014/cache/data6/adaptor.mars.internal-1592096843.7498314-7788-1-e46652b5-f95e-4876-8665-ea0e4a237606.nc to /home/nicolasf/research/CPP/indices/data/ERA5/daily/ERA5_daily_geopotential_1000_2018-01-11.nc (192.2K)\n",
      "2020-06-14 13:07:30,393 INFO Download rate 110.6K/s\n"
     ]
    },
    {
     "name": "stdout",
     "output_type": "stream",
     "text": [
      "downloading /home/nicolasf/research/CPP/indices/data/ERA5/daily/ERA5_daily_geopotential_1000_2018-01-12.nc\n"
     ]
    },
    {
     "name": "stderr",
     "output_type": "stream",
     "text": [
      "2020-06-14 13:07:32,853 INFO Welcome to the CDS\n",
      "2020-06-14 13:07:32,854 INFO Sending request to https://cds.climate.copernicus.eu/api/v2/resources/reanalysis-era5-pressure-levels\n",
      "2020-06-14 13:07:35,206 INFO Request is queued\n",
      "2020-06-14 13:07:38,379 INFO Request is running\n",
      "2020-06-14 13:07:40,939 INFO Request is completed\n",
      "2020-06-14 13:07:40,941 INFO Downloading http://136.156.132.201/cache-compute-0004/cache/data0/adaptor.mars.internal-1592096857.1386964-8160-19-273579df-c0e8-475a-852f-dd5dfae88665.nc to /home/nicolasf/research/CPP/indices/data/ERA5/daily/ERA5_daily_geopotential_1000_2018-01-12.nc (192.2K)\n",
      "2020-06-14 13:07:42,789 INFO Download rate 104.1K/s\n"
     ]
    },
    {
     "name": "stdout",
     "output_type": "stream",
     "text": [
      "downloading /home/nicolasf/research/CPP/indices/data/ERA5/daily/ERA5_daily_geopotential_1000_2018-01-13.nc\n"
     ]
    },
    {
     "name": "stderr",
     "output_type": "stream",
     "text": [
      "2020-06-14 13:07:44,526 INFO Welcome to the CDS\n",
      "2020-06-14 13:07:44,527 INFO Sending request to https://cds.climate.copernicus.eu/api/v2/resources/reanalysis-era5-pressure-levels\n",
      "2020-06-14 13:07:45,956 INFO Request is queued\n",
      "2020-06-14 13:07:47,288 INFO Request is completed\n",
      "2020-06-14 13:07:47,290 INFO Downloading http://136.156.133.37/cache-compute-0011/cache/data7/adaptor.mars.internal-1592096865.8399353-8838-1-05463b9d-111e-41f7-9673-3884971c8f14.nc to /home/nicolasf/research/CPP/indices/data/ERA5/daily/ERA5_daily_geopotential_1000_2018-01-13.nc (192.2K)\n",
      "2020-06-14 13:07:49,139 INFO Download rate 104.1K/s\n"
     ]
    },
    {
     "name": "stdout",
     "output_type": "stream",
     "text": [
      "downloading /home/nicolasf/research/CPP/indices/data/ERA5/daily/ERA5_daily_geopotential_1000_2018-01-14.nc\n"
     ]
    },
    {
     "name": "stderr",
     "output_type": "stream",
     "text": [
      "2020-06-14 13:07:51,079 INFO Welcome to the CDS\n",
      "2020-06-14 13:07:51,081 INFO Sending request to https://cds.climate.copernicus.eu/api/v2/resources/reanalysis-era5-pressure-levels\n",
      "2020-06-14 13:07:53,023 INFO Request is queued\n",
      "2020-06-14 13:07:54,354 INFO Request is completed\n",
      "2020-06-14 13:07:54,355 INFO Downloading http://136.156.132.105/cache-compute-0000/cache/data0/adaptor.mars.internal-1592096872.9589796-23226-28-0d17910d-2746-4fc8-94c6-4e498a8fa5d2.nc to /home/nicolasf/research/CPP/indices/data/ERA5/daily/ERA5_daily_geopotential_1000_2018-01-14.nc (192.2K)\n",
      "2020-06-14 13:07:56,202 INFO Download rate 104.2K/s\n"
     ]
    },
    {
     "name": "stdout",
     "output_type": "stream",
     "text": [
      "downloading /home/nicolasf/research/CPP/indices/data/ERA5/daily/ERA5_daily_geopotential_1000_2018-01-15.nc\n"
     ]
    },
    {
     "name": "stderr",
     "output_type": "stream",
     "text": [
      "2020-06-14 13:07:58,043 INFO Welcome to the CDS\n",
      "2020-06-14 13:07:58,044 INFO Sending request to https://cds.climate.copernicus.eu/api/v2/resources/reanalysis-era5-pressure-levels\n",
      "2020-06-14 13:07:59,678 INFO Request is queued\n",
      "2020-06-14 13:08:01,010 INFO Request is running\n",
      "2020-06-14 13:08:02,852 INFO Request is completed\n",
      "2020-06-14 13:08:02,854 INFO Downloading http://136.156.133.41/cache-compute-0013/cache/data8/adaptor.mars.internal-1592096879.7444363-7585-3-59bb3b4a-3573-458d-a493-394ebb85d3c6.nc to /home/nicolasf/research/CPP/indices/data/ERA5/daily/ERA5_daily_geopotential_1000_2018-01-15.nc (192.2K)\n",
      "2020-06-14 13:08:04,703 INFO Download rate 104.1K/s\n"
     ]
    },
    {
     "name": "stdout",
     "output_type": "stream",
     "text": [
      "downloading /home/nicolasf/research/CPP/indices/data/ERA5/daily/ERA5_daily_geopotential_1000_2018-01-16.nc\n"
     ]
    },
    {
     "name": "stderr",
     "output_type": "stream",
     "text": [
      "2020-06-14 13:08:06,645 INFO Welcome to the CDS\n",
      "2020-06-14 13:08:06,645 INFO Sending request to https://cds.climate.copernicus.eu/api/v2/resources/reanalysis-era5-pressure-levels\n",
      "2020-06-14 13:08:08,177 INFO Request is queued\n",
      "2020-06-14 13:08:09,509 INFO Request is completed\n",
      "2020-06-14 13:08:09,511 INFO Downloading http://136.156.132.210/cache-compute-0005/cache/data9/adaptor.mars.internal-1592096888.012286-28369-3-1091af7c-2f7c-4265-b8fa-752276feeb6b.nc to /home/nicolasf/research/CPP/indices/data/ERA5/daily/ERA5_daily_geopotential_1000_2018-01-16.nc (192.2K)\n",
      "2020-06-14 13:08:11,360 INFO Download rate 104K/s  \n"
     ]
    },
    {
     "name": "stdout",
     "output_type": "stream",
     "text": [
      "downloading /home/nicolasf/research/CPP/indices/data/ERA5/daily/ERA5_daily_geopotential_1000_2018-01-17.nc\n"
     ]
    },
    {
     "name": "stderr",
     "output_type": "stream",
     "text": [
      "2020-06-14 13:08:13,609 INFO Welcome to the CDS\n",
      "2020-06-14 13:08:13,609 INFO Sending request to https://cds.climate.copernicus.eu/api/v2/resources/reanalysis-era5-pressure-levels\n",
      "2020-06-14 13:08:15,755 INFO Request is queued\n",
      "2020-06-14 13:08:17,086 INFO Request is running\n",
      "2020-06-14 13:08:18,929 INFO Request is completed\n",
      "2020-06-14 13:08:18,931 INFO Downloading http://136.156.133.39/cache-compute-0012/cache/data7/adaptor.mars.internal-1592096896.0353749-20519-32-41361ef6-ed55-4344-94c5-61f31e0a3cae.nc to /home/nicolasf/research/CPP/indices/data/ERA5/daily/ERA5_daily_geopotential_1000_2018-01-17.nc (192.2K)\n",
      "2020-06-14 13:08:20,780 INFO Download rate 104.1K/s\n"
     ]
    },
    {
     "name": "stdout",
     "output_type": "stream",
     "text": [
      "downloading /home/nicolasf/research/CPP/indices/data/ERA5/daily/ERA5_daily_geopotential_1000_2018-01-18.nc\n"
     ]
    },
    {
     "name": "stderr",
     "output_type": "stream",
     "text": [
      "2020-06-14 13:08:22,722 INFO Welcome to the CDS\n",
      "2020-06-14 13:08:22,723 INFO Sending request to https://cds.climate.copernicus.eu/api/v2/resources/reanalysis-era5-pressure-levels\n",
      "2020-06-14 13:08:24,664 INFO Request is queued\n",
      "2020-06-14 13:08:25,995 INFO Request is running\n",
      "2020-06-14 13:08:27,838 INFO Request is completed\n",
      "2020-06-14 13:08:27,840 INFO Downloading http://136.156.132.110/cache-compute-0001/cache/data1/adaptor.mars.internal-1592096905.0987675-9534-9-c5ae3234-ac1e-4402-8333-2215d280a83c.nc to /home/nicolasf/research/CPP/indices/data/ERA5/daily/ERA5_daily_geopotential_1000_2018-01-18.nc (192.2K)\n",
      "2020-06-14 13:08:29,687 INFO Download rate 104.2K/s\n"
     ]
    },
    {
     "name": "stdout",
     "output_type": "stream",
     "text": [
      "downloading /home/nicolasf/research/CPP/indices/data/ERA5/daily/ERA5_daily_geopotential_1000_2018-01-19.nc\n"
     ]
    },
    {
     "name": "stderr",
     "output_type": "stream",
     "text": [
      "2020-06-14 13:08:32,041 INFO Welcome to the CDS\n",
      "2020-06-14 13:08:32,042 INFO Sending request to https://cds.climate.copernicus.eu/api/v2/resources/reanalysis-era5-pressure-levels\n",
      "2020-06-14 13:08:34,187 INFO Request is queued\n",
      "2020-06-14 13:08:35,518 INFO Request is running\n",
      "2020-06-14 13:08:37,361 INFO Request is completed\n",
      "2020-06-14 13:08:37,363 INFO Downloading http://136.156.132.153/cache-compute-0002/cache/data8/adaptor.mars.internal-1592096914.9410923-3068-26-caadd907-a71b-4aa9-86e5-04884f61fc48.nc to /home/nicolasf/research/CPP/indices/data/ERA5/daily/ERA5_daily_geopotential_1000_2018-01-19.nc (192.2K)\n",
      "2020-06-14 13:08:39,209 INFO Download rate 104.2K/s\n"
     ]
    },
    {
     "name": "stdout",
     "output_type": "stream",
     "text": [
      "downloading /home/nicolasf/research/CPP/indices/data/ERA5/daily/ERA5_daily_geopotential_1000_2018-01-20.nc\n"
     ]
    },
    {
     "name": "stderr",
     "output_type": "stream",
     "text": [
      "2020-06-14 13:08:40,948 INFO Welcome to the CDS\n",
      "2020-06-14 13:08:40,949 INFO Sending request to https://cds.climate.copernicus.eu/api/v2/resources/reanalysis-era5-pressure-levels\n",
      "2020-06-14 13:08:43,096 INFO Request is queued\n",
      "2020-06-14 13:08:46,270 INFO Request is completed\n",
      "2020-06-14 13:08:46,272 INFO Downloading http://136.156.133.41/cache-compute-0013/cache/data2/adaptor.mars.internal-1592096924.4288423-3856-22-9436c04d-d4b7-4962-99aa-2382cab50fbb.nc to /home/nicolasf/research/CPP/indices/data/ERA5/daily/ERA5_daily_geopotential_1000_2018-01-20.nc (192.2K)\n",
      "2020-06-14 13:08:48,118 INFO Download rate 104.3K/s\n"
     ]
    },
    {
     "name": "stdout",
     "output_type": "stream",
     "text": [
      "downloading /home/nicolasf/research/CPP/indices/data/ERA5/daily/ERA5_daily_geopotential_1000_2018-01-21.nc\n"
     ]
    },
    {
     "name": "stderr",
     "output_type": "stream",
     "text": [
      "2020-06-14 13:08:50,779 INFO Welcome to the CDS\n",
      "2020-06-14 13:08:50,780 INFO Sending request to https://cds.climate.copernicus.eu/api/v2/resources/reanalysis-era5-pressure-levels\n",
      "2020-06-14 13:08:52,926 INFO Request is queued\n",
      "2020-06-14 13:08:54,257 INFO Request is running\n",
      "2020-06-14 13:08:58,660 INFO Request is completed\n",
      "2020-06-14 13:08:58,662 INFO Downloading http://136.156.132.153/cache-compute-0002/cache/data5/adaptor.mars.internal-1592096934.117444-25607-34-0c974b61-00bb-459a-b1ff-fccf528cdffc.nc to /home/nicolasf/research/CPP/indices/data/ERA5/daily/ERA5_daily_geopotential_1000_2018-01-21.nc (192.2K)\n",
      "2020-06-14 13:09:00,508 INFO Download rate 104.2K/s\n"
     ]
    },
    {
     "name": "stdout",
     "output_type": "stream",
     "text": [
      "downloading /home/nicolasf/research/CPP/indices/data/ERA5/daily/ERA5_daily_geopotential_1000_2018-01-22.nc\n"
     ]
    },
    {
     "name": "stderr",
     "output_type": "stream",
     "text": [
      "2020-06-14 13:09:02,453 INFO Welcome to the CDS\n",
      "2020-06-14 13:09:02,454 INFO Sending request to https://cds.climate.copernicus.eu/api/v2/resources/reanalysis-era5-pressure-levels\n",
      "2020-06-14 13:09:04,293 INFO Request is queued\n",
      "2020-06-14 13:09:07,466 INFO Request is running\n",
      "2020-06-14 13:09:10,027 INFO Request is completed\n",
      "2020-06-14 13:09:10,028 INFO Downloading http://136.156.133.36/cache-compute-0010/cache/data0/adaptor.mars.internal-1592096946.2772348-13003-11-d072d25d-dcd3-40af-9c82-cdfd3ffd1121.nc to /home/nicolasf/research/CPP/indices/data/ERA5/daily/ERA5_daily_geopotential_1000_2018-01-22.nc (192.2K)\n",
      "2020-06-14 13:09:11,878 INFO Download rate 104K/s  \n"
     ]
    },
    {
     "name": "stdout",
     "output_type": "stream",
     "text": [
      "downloading /home/nicolasf/research/CPP/indices/data/ERA5/daily/ERA5_daily_geopotential_1000_2018-01-23.nc\n"
     ]
    },
    {
     "name": "stderr",
     "output_type": "stream",
     "text": [
      "2020-06-14 13:09:13,922 INFO Welcome to the CDS\n",
      "2020-06-14 13:09:13,923 INFO Sending request to https://cds.climate.copernicus.eu/api/v2/resources/reanalysis-era5-pressure-levels\n",
      "2020-06-14 13:09:15,966 INFO Request is queued\n",
      "2020-06-14 13:09:17,297 INFO Request is running\n",
      "2020-06-14 13:09:19,140 INFO Request is completed\n",
      "2020-06-14 13:09:19,142 INFO Downloading http://136.156.132.236/cache-compute-0007/cache/data8/adaptor.mars.internal-1592096956.3167267-4498-32-5e83173e-005d-465d-bbb8-0291561e8a43.nc to /home/nicolasf/research/CPP/indices/data/ERA5/daily/ERA5_daily_geopotential_1000_2018-01-23.nc (192.2K)\n",
      "2020-06-14 13:09:20,990 INFO Download rate 104.1K/s\n"
     ]
    },
    {
     "name": "stdout",
     "output_type": "stream",
     "text": [
      "downloading /home/nicolasf/research/CPP/indices/data/ERA5/daily/ERA5_daily_geopotential_1000_2018-01-24.nc\n"
     ]
    },
    {
     "name": "stderr",
     "output_type": "stream",
     "text": [
      "2020-06-14 13:09:22,830 INFO Welcome to the CDS\n",
      "2020-06-14 13:09:22,832 INFO Sending request to https://cds.climate.copernicus.eu/api/v2/resources/reanalysis-era5-pressure-levels\n",
      "2020-06-14 13:09:24,465 INFO Request is queued\n",
      "2020-06-14 13:09:25,796 INFO Request is running\n",
      "2020-06-14 13:09:27,640 INFO Request is completed\n",
      "2020-06-14 13:09:27,641 INFO Downloading http://136.156.133.36/cache-compute-0010/cache/data9/adaptor.mars.internal-1592096965.0625265-7430-34-c56f57e8-284a-4b5a-af5c-398597fb230a.nc to /home/nicolasf/research/CPP/indices/data/ERA5/daily/ERA5_daily_geopotential_1000_2018-01-24.nc (192.2K)\n",
      "2020-06-14 13:09:29,488 INFO Download rate 104.2K/s\n"
     ]
    },
    {
     "name": "stdout",
     "output_type": "stream",
     "text": [
      "downloading /home/nicolasf/research/CPP/indices/data/ERA5/daily/ERA5_daily_geopotential_1000_2018-01-25.nc\n"
     ]
    },
    {
     "name": "stderr",
     "output_type": "stream",
     "text": [
      "2020-06-14 13:09:31,431 INFO Welcome to the CDS\n",
      "2020-06-14 13:09:31,432 INFO Sending request to https://cds.climate.copernicus.eu/api/v2/resources/reanalysis-era5-pressure-levels\n",
      "2020-06-14 13:09:32,964 INFO Request is queued\n",
      "2020-06-14 13:09:34,295 INFO Request is running\n",
      "2020-06-14 13:09:36,138 INFO Request is completed\n",
      "2020-06-14 13:09:36,140 INFO Downloading http://136.156.132.153/cache-compute-0002/cache/data5/adaptor.mars.internal-1592096973.3529584-27603-34-6d810d39-7f2b-438f-b26a-0596e0483c61.nc to /home/nicolasf/research/CPP/indices/data/ERA5/daily/ERA5_daily_geopotential_1000_2018-01-25.nc (192.2K)\n",
      "2020-06-14 13:09:37,987 INFO Download rate 104.3K/s\n"
     ]
    },
    {
     "name": "stdout",
     "output_type": "stream",
     "text": [
      "downloading /home/nicolasf/research/CPP/indices/data/ERA5/daily/ERA5_daily_geopotential_1000_2018-01-26.nc\n"
     ]
    },
    {
     "name": "stderr",
     "output_type": "stream",
     "text": [
      "2020-06-14 13:09:39,726 INFO Welcome to the CDS\n",
      "2020-06-14 13:09:39,728 INFO Sending request to https://cds.climate.copernicus.eu/api/v2/resources/reanalysis-era5-pressure-levels\n",
      "2020-06-14 13:09:41,156 INFO Request is queued\n",
      "2020-06-14 13:09:42,487 INFO Request is running\n",
      "2020-06-14 13:09:44,331 INFO Request is completed\n",
      "2020-06-14 13:09:44,332 INFO Downloading http://136.156.133.42/cache-compute-0014/cache/data6/adaptor.mars.internal-1592096982.2700703-25041-36-b5702bc6-0cd5-4a1c-89ff-1655df0706ad.nc to /home/nicolasf/research/CPP/indices/data/ERA5/daily/ERA5_daily_geopotential_1000_2018-01-26.nc (192.2K)\n",
      "2020-06-14 13:09:46,183 INFO Download rate 104K/s  \n"
     ]
    },
    {
     "name": "stdout",
     "output_type": "stream",
     "text": [
      "downloading /home/nicolasf/research/CPP/indices/data/ERA5/daily/ERA5_daily_geopotential_1000_2018-01-27.nc\n"
     ]
    },
    {
     "name": "stderr",
     "output_type": "stream",
     "text": [
      "2020-06-14 13:09:48,122 INFO Welcome to the CDS\n",
      "2020-06-14 13:09:48,123 INFO Sending request to https://cds.climate.copernicus.eu/api/v2/resources/reanalysis-era5-pressure-levels\n",
      "2020-06-14 13:09:49,860 INFO Request is queued\n",
      "2020-06-14 13:09:51,191 INFO Request is running\n",
      "2020-06-14 13:09:53,034 INFO Request is completed\n",
      "2020-06-14 13:09:53,036 INFO Downloading http://136.156.132.110/cache-compute-0001/cache/data4/adaptor.mars.internal-1592096990.5004735-4182-32-5cc541b0-96a2-447d-9342-46808114dbac.nc to /home/nicolasf/research/CPP/indices/data/ERA5/daily/ERA5_daily_geopotential_1000_2018-01-27.nc (192.2K)\n",
      "2020-06-14 13:09:54,882 INFO Download rate 104.3K/s\n"
     ]
    },
    {
     "name": "stdout",
     "output_type": "stream",
     "text": [
      "downloading /home/nicolasf/research/CPP/indices/data/ERA5/daily/ERA5_daily_geopotential_1000_2018-01-28.nc\n"
     ]
    },
    {
     "name": "stderr",
     "output_type": "stream",
     "text": [
      "2020-06-14 13:09:56,725 INFO Welcome to the CDS\n",
      "2020-06-14 13:09:56,726 INFO Sending request to https://cds.climate.copernicus.eu/api/v2/resources/reanalysis-era5-pressure-levels\n",
      "2020-06-14 13:09:58,154 INFO Request is queued\n",
      "2020-06-14 13:09:59,485 INFO Request is completed\n",
      "2020-06-14 13:09:59,487 INFO Downloading http://136.156.132.201/cache-compute-0004/cache/data1/adaptor.mars.internal-1592096998.0231588-6086-24-5215c815-5a8f-4d30-97cf-211d5c9e5a1c.nc to /home/nicolasf/research/CPP/indices/data/ERA5/daily/ERA5_daily_geopotential_1000_2018-01-28.nc (192.2K)\n",
      "2020-06-14 13:10:01,336 INFO Download rate 104.1K/s\n"
     ]
    },
    {
     "name": "stdout",
     "output_type": "stream",
     "text": [
      "downloading /home/nicolasf/research/CPP/indices/data/ERA5/daily/ERA5_daily_geopotential_1000_2018-01-29.nc\n"
     ]
    },
    {
     "name": "stderr",
     "output_type": "stream",
     "text": [
      "2020-06-14 13:10:03,278 INFO Welcome to the CDS\n",
      "2020-06-14 13:10:03,279 INFO Sending request to https://cds.climate.copernicus.eu/api/v2/resources/reanalysis-era5-pressure-levels\n",
      "2020-06-14 13:10:04,708 INFO Request is queued\n",
      "2020-06-14 13:10:06,039 INFO Request is running\n",
      "2020-06-14 13:10:07,883 INFO Request is completed\n",
      "2020-06-14 13:10:07,885 INFO Downloading http://136.156.132.198/cache-compute-0003/cache/data6/adaptor.mars.internal-1592097004.82115-18806-15-be3286f9-f4e4-4ddd-9b73-cd54497e973a.nc to /home/nicolasf/research/CPP/indices/data/ERA5/daily/ERA5_daily_geopotential_1000_2018-01-29.nc (192.2K)\n",
      "2020-06-14 13:10:09,728 INFO Download rate 104.4K/s\n"
     ]
    },
    {
     "name": "stdout",
     "output_type": "stream",
     "text": [
      "downloading /home/nicolasf/research/CPP/indices/data/ERA5/daily/ERA5_daily_geopotential_1000_2018-01-30.nc\n"
     ]
    },
    {
     "name": "stderr",
     "output_type": "stream",
     "text": [
      "2020-06-14 13:10:13,416 INFO Welcome to the CDS\n",
      "2020-06-14 13:10:13,417 INFO Sending request to https://cds.climate.copernicus.eu/api/v2/resources/reanalysis-era5-pressure-levels\n",
      "2020-06-14 13:10:14,948 INFO Request is queued\n",
      "2020-06-14 13:10:16,279 INFO Request is completed\n",
      "2020-06-14 13:10:16,281 INFO Downloading http://136.156.133.41/cache-compute-0013/cache/data2/adaptor.mars.internal-1592097014.8554432-4210-21-359f64a9-ffbc-4993-bfd8-21d7117b19db.nc to /home/nicolasf/research/CPP/indices/data/ERA5/daily/ERA5_daily_geopotential_1000_2018-01-30.nc (192.2K)\n",
      "2020-06-14 13:10:18,128 INFO Download rate 104.2K/s\n"
     ]
    },
    {
     "name": "stdout",
     "output_type": "stream",
     "text": [
      "downloading /home/nicolasf/research/CPP/indices/data/ERA5/daily/ERA5_daily_geopotential_1000_2018-01-31.nc\n"
     ]
    },
    {
     "name": "stderr",
     "output_type": "stream",
     "text": [
      "2020-06-14 13:10:19,867 INFO Welcome to the CDS\n",
      "2020-06-14 13:10:19,867 INFO Sending request to https://cds.climate.copernicus.eu/api/v2/resources/reanalysis-era5-pressure-levels\n",
      "2020-06-14 13:10:23,857 INFO Request is queued\n",
      "2020-06-14 13:10:25,188 INFO Request is running\n",
      "2020-06-14 13:10:27,031 INFO Request is completed\n",
      "2020-06-14 13:10:27,033 INFO Downloading http://136.156.133.37/cache-compute-0011/cache/data6/adaptor.mars.internal-1592097024.3627803-8838-5-42831539-9f65-4d39-9ef4-1a17e77c8148.nc to /home/nicolasf/research/CPP/indices/data/ERA5/daily/ERA5_daily_geopotential_1000_2018-01-31.nc (192.2K)\n",
      "2020-06-14 13:10:28,881 INFO Download rate 104.2K/s\n"
     ]
    },
    {
     "name": "stdout",
     "output_type": "stream",
     "text": [
      "downloading /home/nicolasf/research/CPP/indices/data/ERA5/daily/ERA5_daily_geopotential_1000_2018-02-01.nc\n"
     ]
    },
    {
     "name": "stderr",
     "output_type": "stream",
     "text": [
      "2020-06-14 13:10:30,516 INFO Welcome to the CDS\n",
      "2020-06-14 13:10:30,517 INFO Sending request to https://cds.climate.copernicus.eu/api/v2/resources/reanalysis-era5-pressure-levels\n",
      "2020-06-14 13:10:32,982 INFO Request is queued\n",
      "2020-06-14 13:10:34,302 INFO Request is running\n",
      "2020-06-14 13:10:36,145 INFO Request is completed\n",
      "2020-06-14 13:10:36,147 INFO Downloading http://136.156.133.36/cache-compute-0010/cache/data0/adaptor.mars.internal-1592097033.2051528-7419-36-573e7abd-4403-4acf-8216-4750c0301be4.nc to /home/nicolasf/research/CPP/indices/data/ERA5/daily/ERA5_daily_geopotential_1000_2018-02-01.nc (192.2K)\n",
      "2020-06-14 13:10:37,995 INFO Download rate 104.2K/s\n"
     ]
    },
    {
     "name": "stdout",
     "output_type": "stream",
     "text": [
      "downloading /home/nicolasf/research/CPP/indices/data/ERA5/daily/ERA5_daily_geopotential_1000_2018-02-02.nc\n"
     ]
    },
    {
     "name": "stderr",
     "output_type": "stream",
     "text": [
      "2020-06-14 13:10:41,064 INFO Welcome to the CDS\n",
      "2020-06-14 13:10:41,065 INFO Sending request to https://cds.climate.copernicus.eu/api/v2/resources/reanalysis-era5-pressure-levels\n",
      "2020-06-14 13:10:42,386 INFO Request is queued\n",
      "2020-06-14 13:10:43,667 INFO Request is completed\n",
      "2020-06-14 13:10:43,669 INFO Downloading http://136.156.133.42/cache-compute-0014/cache/data2/adaptor.mars.internal-1592097042.3407564-6133-13-b623a20b-eeaa-4d46-9b0b-5a28f6539a2e.nc to /home/nicolasf/research/CPP/indices/data/ERA5/daily/ERA5_daily_geopotential_1000_2018-02-02.nc (192.2K)\n",
      "2020-06-14 13:10:45,570 INFO Download rate 101.2K/s\n"
     ]
    },
    {
     "name": "stdout",
     "output_type": "stream",
     "text": [
      "downloading /home/nicolasf/research/CPP/indices/data/ERA5/daily/ERA5_daily_geopotential_1000_2018-02-03.nc\n"
     ]
    },
    {
     "name": "stderr",
     "output_type": "stream",
     "text": [
      "2020-06-14 13:10:47,209 INFO Welcome to the CDS\n",
      "2020-06-14 13:10:47,210 INFO Sending request to https://cds.climate.copernicus.eu/api/v2/resources/reanalysis-era5-pressure-levels\n",
      "2020-06-14 13:10:48,843 INFO Request is queued\n",
      "2020-06-14 13:10:50,174 INFO Request is running\n",
      "2020-06-14 13:10:52,016 INFO Request is completed\n",
      "2020-06-14 13:10:52,018 INFO Downloading http://136.156.133.42/cache-compute-0014/cache/data2/adaptor.mars.internal-1592097049.204967-4992-13-68ecae2b-97a6-4d6b-a8d4-2b29b461ddb3.nc to /home/nicolasf/research/CPP/indices/data/ERA5/daily/ERA5_daily_geopotential_1000_2018-02-03.nc (192.2K)\n",
      "2020-06-14 13:10:53,865 INFO Download rate 104.2K/s\n"
     ]
    },
    {
     "name": "stdout",
     "output_type": "stream",
     "text": [
      "downloading /home/nicolasf/research/CPP/indices/data/ERA5/daily/ERA5_daily_geopotential_1000_2018-02-04.nc\n"
     ]
    },
    {
     "name": "stderr",
     "output_type": "stream",
     "text": [
      "2020-06-14 13:10:55,809 INFO Welcome to the CDS\n",
      "2020-06-14 13:10:55,810 INFO Sending request to https://cds.climate.copernicus.eu/api/v2/resources/reanalysis-era5-pressure-levels\n",
      "2020-06-14 13:10:57,116 INFO Request is queued\n",
      "2020-06-14 13:10:58,468 INFO Request is running\n",
      "2020-06-14 13:11:00,311 INFO Request is completed\n",
      "2020-06-14 13:11:00,313 INFO Downloading http://136.156.132.110/cache-compute-0001/cache/data7/adaptor.mars.internal-1592097057.5368047-12090-7-01bfbb9d-e4f2-4244-8abc-95a31dfec613.nc to /home/nicolasf/research/CPP/indices/data/ERA5/daily/ERA5_daily_geopotential_1000_2018-02-04.nc (192.2K)\n",
      "2020-06-14 13:11:02,465 INFO Download rate 89.4K/s \n"
     ]
    },
    {
     "name": "stdout",
     "output_type": "stream",
     "text": [
      "downloading /home/nicolasf/research/CPP/indices/data/ERA5/daily/ERA5_daily_geopotential_1000_2018-02-05.nc\n"
     ]
    },
    {
     "name": "stderr",
     "output_type": "stream",
     "text": [
      "2020-06-14 13:11:04,103 INFO Welcome to the CDS\n",
      "2020-06-14 13:11:04,104 INFO Sending request to https://cds.climate.copernicus.eu/api/v2/resources/reanalysis-era5-pressure-levels\n",
      "2020-06-14 13:11:06,250 INFO Request is queued\n",
      "2020-06-14 13:11:07,582 INFO Request is completed\n",
      "2020-06-14 13:11:07,584 INFO Downloading http://136.156.133.25/cache-compute-0008/cache/data5/adaptor.mars.internal-1592097065.9453638-26748-1-caa5aff8-984c-4d01-b9d4-31cad7fc0f90.nc to /home/nicolasf/research/CPP/indices/data/ERA5/daily/ERA5_daily_geopotential_1000_2018-02-05.nc (192.2K)\n",
      "2020-06-14 13:11:09,431 INFO Download rate 104.2K/s\n"
     ]
    },
    {
     "name": "stdout",
     "output_type": "stream",
     "text": [
      "downloading /home/nicolasf/research/CPP/indices/data/ERA5/daily/ERA5_daily_geopotential_1000_2018-02-06.nc\n"
     ]
    },
    {
     "name": "stderr",
     "output_type": "stream",
     "text": [
      "2020-06-14 13:11:11,066 INFO Welcome to the CDS\n",
      "2020-06-14 13:11:11,067 INFO Sending request to https://cds.climate.copernicus.eu/api/v2/resources/reanalysis-era5-pressure-levels\n",
      "2020-06-14 13:11:12,394 INFO Request is queued\n",
      "2020-06-14 13:11:13,724 INFO Request is completed\n",
      "2020-06-14 13:11:13,725 INFO Downloading http://136.156.132.235/cache-compute-0006/cache/data1/adaptor.mars.internal-1592097072.3290308-27825-20-3c614808-3cc6-4fdb-bf5c-642ead6c3b41.nc to /home/nicolasf/research/CPP/indices/data/ERA5/daily/ERA5_daily_geopotential_1000_2018-02-06.nc (192.2K)\n",
      "2020-06-14 13:11:17,109 INFO Download rate 56.8K/s \n"
     ]
    },
    {
     "name": "stdout",
     "output_type": "stream",
     "text": [
      "downloading /home/nicolasf/research/CPP/indices/data/ERA5/daily/ERA5_daily_geopotential_1000_2018-02-07.nc\n"
     ]
    },
    {
     "name": "stderr",
     "output_type": "stream",
     "text": [
      "2020-06-14 13:11:18,746 INFO Welcome to the CDS\n",
      "2020-06-14 13:11:18,746 INFO Sending request to https://cds.climate.copernicus.eu/api/v2/resources/reanalysis-era5-pressure-levels\n",
      "2020-06-14 13:11:21,303 INFO Request is queued\n",
      "2020-06-14 13:11:22,634 INFO Request is running\n",
      "2020-06-14 13:11:24,477 INFO Request is completed\n",
      "2020-06-14 13:11:24,479 INFO Downloading http://136.156.133.32/cache-compute-0009/cache/data8/adaptor.mars.internal-1592097082.0015533-3349-5-b42c1df2-e3e1-408a-8cd1-46d4caf75e16.nc to /home/nicolasf/research/CPP/indices/data/ERA5/daily/ERA5_daily_geopotential_1000_2018-02-07.nc (192.2K)\n",
      "2020-06-14 13:11:26,431 INFO Download rate 98.6K/s \n"
     ]
    },
    {
     "name": "stdout",
     "output_type": "stream",
     "text": [
      "downloading /home/nicolasf/research/CPP/indices/data/ERA5/daily/ERA5_daily_geopotential_1000_2018-02-08.nc\n"
     ]
    },
    {
     "name": "stderr",
     "output_type": "stream",
     "text": [
      "2020-06-14 13:11:28,475 INFO Welcome to the CDS\n",
      "2020-06-14 13:11:28,475 INFO Sending request to https://cds.climate.copernicus.eu/api/v2/resources/reanalysis-era5-pressure-levels\n",
      "2020-06-14 13:11:30,827 INFO Request is queued\n",
      "2020-06-14 13:11:32,117 INFO Request is running\n",
      "2020-06-14 13:11:34,001 INFO Request is completed\n",
      "2020-06-14 13:11:34,003 INFO Downloading http://136.156.133.25/cache-compute-0008/cache/data3/adaptor.mars.internal-1592097091.4996831-25571-7-ef763612-c302-4a34-b44a-1e36e3a90691.nc to /home/nicolasf/research/CPP/indices/data/ERA5/daily/ERA5_daily_geopotential_1000_2018-02-08.nc (192.2K)\n",
      "2020-06-14 13:11:35,850 INFO Download rate 104.2K/s\n"
     ]
    },
    {
     "name": "stdout",
     "output_type": "stream",
     "text": [
      "downloading /home/nicolasf/research/CPP/indices/data/ERA5/daily/ERA5_daily_geopotential_1000_2018-02-09.nc\n"
     ]
    },
    {
     "name": "stderr",
     "output_type": "stream",
     "text": [
      "2020-06-14 13:11:37,793 INFO Welcome to the CDS\n",
      "2020-06-14 13:11:37,794 INFO Sending request to https://cds.climate.copernicus.eu/api/v2/resources/reanalysis-era5-pressure-levels\n",
      "2020-06-14 13:11:39,531 INFO Request is queued\n",
      "2020-06-14 13:11:40,861 INFO Request is running\n",
      "2020-06-14 13:11:42,705 INFO Request is completed\n",
      "2020-06-14 13:11:42,709 INFO Downloading http://136.156.133.37/cache-compute-0011/cache/data4/adaptor.mars.internal-1592097100.1083972-5960-17-5e0c4c0b-2112-444b-96be-acb556217158.nc to /home/nicolasf/research/CPP/indices/data/ERA5/daily/ERA5_daily_geopotential_1000_2018-02-09.nc (192.2K)\n",
      "2020-06-14 13:11:44,551 INFO Download rate 104.5K/s\n"
     ]
    },
    {
     "name": "stdout",
     "output_type": "stream",
     "text": [
      "downloading /home/nicolasf/research/CPP/indices/data/ERA5/daily/ERA5_daily_geopotential_1000_2018-02-10.nc\n"
     ]
    },
    {
     "name": "stderr",
     "output_type": "stream",
     "text": [
      "2020-06-14 13:11:46,599 INFO Welcome to the CDS\n",
      "2020-06-14 13:11:46,600 INFO Sending request to https://cds.climate.copernicus.eu/api/v2/resources/reanalysis-era5-pressure-levels\n",
      "2020-06-14 13:11:48,337 INFO Request is queued\n",
      "2020-06-14 13:11:49,668 INFO Request is running\n",
      "2020-06-14 13:11:51,511 INFO Request is completed\n",
      "2020-06-14 13:11:51,513 INFO Downloading http://136.156.133.46/cache-compute-0015/cache/data3/adaptor.mars.internal-1592097108.3242064-865-31-94babef7-aa2b-4f91-ae1b-81c8b6e6cc8c.nc to /home/nicolasf/research/CPP/indices/data/ERA5/daily/ERA5_daily_geopotential_1000_2018-02-10.nc (192.2K)\n",
      "2020-06-14 13:11:53,361 INFO Download rate 104.1K/s\n"
     ]
    },
    {
     "name": "stdout",
     "output_type": "stream",
     "text": [
      "downloading /home/nicolasf/research/CPP/indices/data/ERA5/daily/ERA5_daily_geopotential_1000_2018-02-11.nc\n"
     ]
    },
    {
     "name": "stderr",
     "output_type": "stream",
     "text": [
      "2020-06-14 13:11:55,713 INFO Welcome to the CDS\n",
      "2020-06-14 13:11:55,714 INFO Sending request to https://cds.climate.copernicus.eu/api/v2/resources/reanalysis-era5-pressure-levels\n",
      "2020-06-14 13:11:57,860 INFO Request is queued\n",
      "2020-06-14 13:12:01,035 INFO Request is running\n",
      "2020-06-14 13:12:03,594 INFO Request is completed\n",
      "2020-06-14 13:12:03,596 INFO Downloading http://136.156.133.46/cache-compute-0015/cache/data9/adaptor.mars.internal-1592097119.0742857-7272-7-e2b0c010-dfa0-4212-9ddc-c4e06091c1a2.nc to /home/nicolasf/research/CPP/indices/data/ERA5/daily/ERA5_daily_geopotential_1000_2018-02-11.nc (192.2K)\n",
      "2020-06-14 13:12:05,442 INFO Download rate 104.2K/s\n"
     ]
    },
    {
     "name": "stdout",
     "output_type": "stream",
     "text": [
      "downloading /home/nicolasf/research/CPP/indices/data/ERA5/daily/ERA5_daily_geopotential_1000_2018-02-12.nc\n"
     ]
    },
    {
     "name": "stderr",
     "output_type": "stream",
     "text": [
      "2020-06-14 13:12:08,001 INFO Welcome to the CDS\n",
      "2020-06-14 13:12:08,002 INFO Sending request to https://cds.climate.copernicus.eu/api/v2/resources/reanalysis-era5-pressure-levels\n",
      "2020-06-14 13:12:10,153 INFO Request is queued\n",
      "2020-06-14 13:12:13,323 INFO Request is running\n",
      "2020-06-14 13:12:15,882 INFO Request is completed\n",
      "2020-06-14 13:12:15,884 INFO Downloading http://136.156.133.42/cache-compute-0014/cache/data2/adaptor.mars.internal-1592097132.0765762-6720-13-d7b0fdaa-63b8-4895-b448-9152dbae4b58.nc to /home/nicolasf/research/CPP/indices/data/ERA5/daily/ERA5_daily_geopotential_1000_2018-02-12.nc (192.2K)\n",
      "2020-06-14 13:12:17,733 INFO Download rate 104K/s  \n"
     ]
    },
    {
     "name": "stdout",
     "output_type": "stream",
     "text": [
      "downloading /home/nicolasf/research/CPP/indices/data/ERA5/daily/ERA5_daily_geopotential_1000_2018-02-13.nc\n"
     ]
    },
    {
     "name": "stderr",
     "output_type": "stream",
     "text": [
      "2020-06-14 13:12:22,132 INFO Welcome to the CDS\n",
      "2020-06-14 13:12:22,133 INFO Sending request to https://cds.climate.copernicus.eu/api/v2/resources/reanalysis-era5-pressure-levels\n",
      "2020-06-14 13:12:23,665 INFO Request is queued\n",
      "2020-06-14 13:12:26,839 INFO Request is completed\n",
      "2020-06-14 13:12:26,841 INFO Downloading http://136.156.133.46/cache-compute-0015/cache/data6/adaptor.mars.internal-1592097145.002288-19421-32-2587f874-f6b1-46db-aac5-10b23060ec4d.nc to /home/nicolasf/research/CPP/indices/data/ERA5/daily/ERA5_daily_geopotential_1000_2018-02-13.nc (192.2K)\n",
      "2020-06-14 13:12:28,688 INFO Download rate 104.1K/s\n"
     ]
    },
    {
     "name": "stdout",
     "output_type": "stream",
     "text": [
      "downloading /home/nicolasf/research/CPP/indices/data/ERA5/daily/ERA5_daily_geopotential_1000_2018-02-14.nc\n"
     ]
    },
    {
     "name": "stderr",
     "output_type": "stream",
     "text": [
      "2020-06-14 13:12:30,631 INFO Welcome to the CDS\n",
      "2020-06-14 13:12:30,632 INFO Sending request to https://cds.climate.copernicus.eu/api/v2/resources/reanalysis-era5-pressure-levels\n",
      "2020-06-14 13:12:33,188 INFO Request is queued\n",
      "2020-06-14 13:12:34,519 INFO Request is completed\n",
      "2020-06-14 13:12:34,521 INFO Downloading http://136.156.133.42/cache-compute-0014/cache/data0/adaptor.mars.internal-1592097153.1595929-4434-24-88f9d450-014e-4523-a654-ee2e9043f3b8.nc to /home/nicolasf/research/CPP/indices/data/ERA5/daily/ERA5_daily_geopotential_1000_2018-02-14.nc (192.2K)\n",
      "2020-06-14 13:12:36,368 INFO Download rate 104.2K/s\n"
     ]
    },
    {
     "name": "stdout",
     "output_type": "stream",
     "text": [
      "downloading /home/nicolasf/research/CPP/indices/data/ERA5/daily/ERA5_daily_geopotential_1000_2018-02-15.nc\n"
     ]
    },
    {
     "name": "stderr",
     "output_type": "stream",
     "text": [
      "2020-06-14 13:12:39,336 INFO Welcome to the CDS\n",
      "2020-06-14 13:12:39,337 INFO Sending request to https://cds.climate.copernicus.eu/api/v2/resources/reanalysis-era5-pressure-levels\n",
      "2020-06-14 13:12:41,483 INFO Request is queued\n",
      "2020-06-14 13:12:42,814 INFO Request is running\n",
      "2020-06-14 13:12:44,657 INFO Request is completed\n",
      "2020-06-14 13:12:44,659 INFO Downloading http://136.156.133.37/cache-compute-0011/cache/data7/adaptor.mars.internal-1592097161.5365472-9317-7-ed899c87-e01d-477e-940f-3078ca91962b.nc to /home/nicolasf/research/CPP/indices/data/ERA5/daily/ERA5_daily_geopotential_1000_2018-02-15.nc (192.2K)\n",
      "2020-06-14 13:12:46,506 INFO Download rate 104.2K/s\n"
     ]
    },
    {
     "name": "stdout",
     "output_type": "stream",
     "text": [
      "downloading /home/nicolasf/research/CPP/indices/data/ERA5/daily/ERA5_daily_geopotential_1000_2018-02-16.nc\n"
     ]
    },
    {
     "name": "stderr",
     "output_type": "stream",
     "text": [
      "2020-06-14 13:12:48,858 INFO Welcome to the CDS\n",
      "2020-06-14 13:12:48,859 INFO Sending request to https://cds.climate.copernicus.eu/api/v2/resources/reanalysis-era5-pressure-levels\n",
      "2020-06-14 13:12:50,275 INFO Request is queued\n",
      "2020-06-14 13:12:51,620 INFO Request is running\n",
      "2020-06-14 13:12:53,463 INFO Request is completed\n",
      "2020-06-14 13:12:53,465 INFO Downloading http://136.156.132.236/cache-compute-0007/cache/data1/adaptor.mars.internal-1592097170.5149403-4257-38-23475704-e3d2-4f05-a695-a65f4cec6e56.nc to /home/nicolasf/research/CPP/indices/data/ERA5/daily/ERA5_daily_geopotential_1000_2018-02-16.nc (192.2K)\n",
      "2020-06-14 13:12:55,312 INFO Download rate 104.2K/s\n"
     ]
    },
    {
     "name": "stdout",
     "output_type": "stream",
     "text": [
      "downloading /home/nicolasf/research/CPP/indices/data/ERA5/daily/ERA5_daily_geopotential_1000_2018-02-17.nc\n"
     ]
    },
    {
     "name": "stderr",
     "output_type": "stream",
     "text": [
      "2020-06-14 13:12:57,358 INFO Welcome to the CDS\n",
      "2020-06-14 13:12:57,359 INFO Sending request to https://cds.climate.copernicus.eu/api/v2/resources/reanalysis-era5-pressure-levels\n",
      "2020-06-14 13:12:59,300 INFO Request is queued\n",
      "2020-06-14 13:13:00,631 INFO Request is running\n",
      "2020-06-14 13:13:02,413 INFO Request is completed\n",
      "2020-06-14 13:13:02,415 INFO Downloading http://136.156.132.105/cache-compute-0000/cache/data3/adaptor.mars.internal-1592097179.8990424-23226-36-c1f8468c-4cba-41a6-b39f-a6d3f8489c78.nc to /home/nicolasf/research/CPP/indices/data/ERA5/daily/ERA5_daily_geopotential_1000_2018-02-17.nc (192.2K)\n",
      "2020-06-14 13:13:04,220 INFO Download rate 106.6K/s\n"
     ]
    },
    {
     "name": "stdout",
     "output_type": "stream",
     "text": [
      "downloading /home/nicolasf/research/CPP/indices/data/ERA5/daily/ERA5_daily_geopotential_1000_2018-02-18.nc\n"
     ]
    },
    {
     "name": "stderr",
     "output_type": "stream",
     "text": [
      "2020-06-14 13:13:06,677 INFO Welcome to the CDS\n",
      "2020-06-14 13:13:06,677 INFO Sending request to https://cds.climate.copernicus.eu/api/v2/resources/reanalysis-era5-pressure-levels\n",
      "2020-06-14 13:13:08,311 INFO Request is queued\n",
      "2020-06-14 13:13:09,642 INFO Request is running\n",
      "2020-06-14 13:13:11,485 INFO Request is completed\n",
      "2020-06-14 13:13:11,488 INFO Downloading http://136.156.133.42/cache-compute-0014/cache/data0/adaptor.mars.internal-1592097188.5896623-6133-17-080b10de-804a-4f0d-b446-be7afa9e0c44.nc to /home/nicolasf/research/CPP/indices/data/ERA5/daily/ERA5_daily_geopotential_1000_2018-02-18.nc (192.2K)\n",
      "2020-06-14 13:13:13,335 INFO Download rate 104.1K/s\n"
     ]
    },
    {
     "name": "stdout",
     "output_type": "stream",
     "text": [
      "downloading /home/nicolasf/research/CPP/indices/data/ERA5/daily/ERA5_daily_geopotential_1000_2018-02-19.nc\n"
     ]
    },
    {
     "name": "stderr",
     "output_type": "stream",
     "text": [
      "2020-06-14 13:13:15,483 INFO Welcome to the CDS\n",
      "2020-06-14 13:13:15,483 INFO Sending request to https://cds.climate.copernicus.eu/api/v2/resources/reanalysis-era5-pressure-levels\n",
      "2020-06-14 13:13:17,220 INFO Request is queued\n",
      "2020-06-14 13:13:18,654 INFO Request is running\n",
      "2020-06-14 13:13:20,497 INFO Request is completed\n",
      "2020-06-14 13:13:20,499 INFO Downloading http://136.156.133.42/cache-compute-0014/cache/data4/adaptor.mars.internal-1592097197.7930038-9504-3-c13f16f4-82d8-4021-beb0-45178df03e10.nc to /home/nicolasf/research/CPP/indices/data/ERA5/daily/ERA5_daily_geopotential_1000_2018-02-19.nc (192.2K)\n",
      "2020-06-14 13:13:22,345 INFO Download rate 104.2K/s\n"
     ]
    },
    {
     "name": "stdout",
     "output_type": "stream",
     "text": [
      "downloading /home/nicolasf/research/CPP/indices/data/ERA5/daily/ERA5_daily_geopotential_1000_2018-02-20.nc\n"
     ]
    },
    {
     "name": "stderr",
     "output_type": "stream",
     "text": [
      "2020-06-14 13:13:23,981 INFO Welcome to the CDS\n",
      "2020-06-14 13:13:23,982 INFO Sending request to https://cds.climate.copernicus.eu/api/v2/resources/reanalysis-era5-pressure-levels\n",
      "2020-06-14 13:13:26,026 INFO Request is queued\n",
      "2020-06-14 13:13:27,358 INFO Request is running\n",
      "2020-06-14 13:13:29,201 INFO Request is completed\n",
      "2020-06-14 13:13:29,203 INFO Downloading http://136.156.133.46/cache-compute-0015/cache/data3/adaptor.mars.internal-1592097206.5891411-24888-32-56ba4880-0fe0-4fa2-bfeb-339608c3f29c.nc to /home/nicolasf/research/CPP/indices/data/ERA5/daily/ERA5_daily_geopotential_1000_2018-02-20.nc (192.2K)\n",
      "2020-06-14 13:13:31,049 INFO Download rate 104.2K/s\n"
     ]
    },
    {
     "name": "stdout",
     "output_type": "stream",
     "text": [
      "downloading /home/nicolasf/research/CPP/indices/data/ERA5/daily/ERA5_daily_geopotential_1000_2018-02-21.nc\n"
     ]
    },
    {
     "name": "stderr",
     "output_type": "stream",
     "text": [
      "2020-06-14 13:13:32,686 INFO Welcome to the CDS\n",
      "2020-06-14 13:13:32,687 INFO Sending request to https://cds.climate.copernicus.eu/api/v2/resources/reanalysis-era5-pressure-levels\n",
      "2020-06-14 13:13:34,321 INFO Request is queued\n",
      "2020-06-14 13:13:35,652 INFO Request is running\n",
      "2020-06-14 13:13:37,495 INFO Request is completed\n",
      "2020-06-14 13:13:37,497 INFO Downloading http://136.156.133.39/cache-compute-0012/cache/data6/adaptor.mars.internal-1592097214.2844703-1646-11-fb58e835-444c-4bae-aff4-5be391b8e5a6.nc to /home/nicolasf/research/CPP/indices/data/ERA5/daily/ERA5_daily_geopotential_1000_2018-02-21.nc (192.2K)\n",
      "2020-06-14 13:13:39,344 INFO Download rate 104.2K/s\n"
     ]
    },
    {
     "name": "stdout",
     "output_type": "stream",
     "text": [
      "downloading /home/nicolasf/research/CPP/indices/data/ERA5/daily/ERA5_daily_geopotential_1000_2018-02-22.nc\n"
     ]
    },
    {
     "name": "stderr",
     "output_type": "stream",
     "text": [
      "2020-06-14 13:13:41,185 INFO Welcome to the CDS\n",
      "2020-06-14 13:13:41,186 INFO Sending request to https://cds.climate.copernicus.eu/api/v2/resources/reanalysis-era5-pressure-levels\n",
      "2020-06-14 13:13:42,922 INFO Request is queued\n",
      "2020-06-14 13:13:44,254 INFO Request is running\n",
      "2020-06-14 13:13:46,097 INFO Request is completed\n",
      "2020-06-14 13:13:46,099 INFO Downloading http://136.156.132.201/cache-compute-0004/cache/data0/adaptor.mars.internal-1592097223.9374785-13365-7-ee72aa65-cef6-48e0-9c95-41051b52183f.nc to /home/nicolasf/research/CPP/indices/data/ERA5/daily/ERA5_daily_geopotential_1000_2018-02-22.nc (192.2K)\n",
      "2020-06-14 13:13:47,947 INFO Download rate 104.1K/s\n"
     ]
    },
    {
     "name": "stdout",
     "output_type": "stream",
     "text": [
      "downloading /home/nicolasf/research/CPP/indices/data/ERA5/daily/ERA5_daily_geopotential_1000_2018-02-23.nc\n"
     ]
    },
    {
     "name": "stderr",
     "output_type": "stream",
     "text": [
      "2020-06-14 13:13:49,787 INFO Welcome to the CDS\n",
      "2020-06-14 13:13:49,787 INFO Sending request to https://cds.climate.copernicus.eu/api/v2/resources/reanalysis-era5-pressure-levels\n",
      "2020-06-14 13:13:51,422 INFO Request is queued\n",
      "2020-06-14 13:13:52,754 INFO Request is running\n",
      "2020-06-14 13:13:54,596 INFO Request is completed\n",
      "2020-06-14 13:13:54,598 INFO Downloading http://136.156.132.153/cache-compute-0002/cache/data6/adaptor.mars.internal-1592097231.6692958-9746-7-c1345923-f88f-4ac8-929e-68db15b2c4e6.nc to /home/nicolasf/research/CPP/indices/data/ERA5/daily/ERA5_daily_geopotential_1000_2018-02-23.nc (192.2K)\n",
      "2020-06-14 13:13:56,444 INFO Download rate 104.2K/s\n"
     ]
    },
    {
     "name": "stdout",
     "output_type": "stream",
     "text": [
      "downloading /home/nicolasf/research/CPP/indices/data/ERA5/daily/ERA5_daily_geopotential_1000_2018-02-24.nc\n"
     ]
    },
    {
     "name": "stderr",
     "output_type": "stream",
     "text": [
      "2020-06-14 13:13:58,286 INFO Welcome to the CDS\n",
      "2020-06-14 13:13:58,288 INFO Sending request to https://cds.climate.copernicus.eu/api/v2/resources/reanalysis-era5-pressure-levels\n",
      "2020-06-14 13:13:59,575 INFO Request is queued\n",
      "2020-06-14 13:14:02,788 INFO Request is running\n",
      "2020-06-14 13:14:05,451 INFO Request is completed\n",
      "2020-06-14 13:14:05,453 INFO Downloading http://136.156.132.201/cache-compute-0004/cache/data5/adaptor.mars.internal-1592097240.8162737-8157-30-052fe860-c040-47d8-b528-73caa8279a01.nc to /home/nicolasf/research/CPP/indices/data/ERA5/daily/ERA5_daily_geopotential_1000_2018-02-24.nc (192.2K)\n",
      "2020-06-14 13:14:07,300 INFO Download rate 104.1K/s\n"
     ]
    },
    {
     "name": "stdout",
     "output_type": "stream",
     "text": [
      "downloading /home/nicolasf/research/CPP/indices/data/ERA5/daily/ERA5_daily_geopotential_1000_2018-02-25.nc\n"
     ]
    },
    {
     "name": "stderr",
     "output_type": "stream",
     "text": [
      "2020-06-14 13:14:09,039 INFO Welcome to the CDS\n",
      "2020-06-14 13:14:09,039 INFO Sending request to https://cds.climate.copernicus.eu/api/v2/resources/reanalysis-era5-pressure-levels\n",
      "2020-06-14 13:14:10,468 INFO Request is queued\n",
      "2020-06-14 13:14:11,799 INFO Request is running\n",
      "2020-06-14 13:14:13,588 INFO Request is completed\n",
      "2020-06-14 13:14:13,591 INFO Downloading http://136.156.133.25/cache-compute-0008/cache/data5/adaptor.mars.internal-1592097250.8688018-29930-1-2546d1e3-baf9-493f-84fb-d3d07c5a68bc.nc to /home/nicolasf/research/CPP/indices/data/ERA5/daily/ERA5_daily_geopotential_1000_2018-02-25.nc (192.2K)\n",
      "2020-06-14 13:14:15,488 INFO Download rate 101.4K/s\n"
     ]
    },
    {
     "name": "stdout",
     "output_type": "stream",
     "text": [
      "downloading /home/nicolasf/research/CPP/indices/data/ERA5/daily/ERA5_daily_geopotential_1000_2018-02-26.nc\n"
     ]
    },
    {
     "name": "stderr",
     "output_type": "stream",
     "text": [
      "2020-06-14 13:14:17,538 INFO Welcome to the CDS\n",
      "2020-06-14 13:14:17,538 INFO Sending request to https://cds.climate.copernicus.eu/api/v2/resources/reanalysis-era5-pressure-levels\n",
      "2020-06-14 13:14:18,898 INFO Request is queued\n",
      "2020-06-14 13:14:20,195 INFO Request is completed\n",
      "2020-06-14 13:14:20,197 INFO Downloading http://136.156.133.39/cache-compute-0012/cache/data2/adaptor.mars.internal-1592097258.8832161-29728-32-157acd6f-5c95-4d85-84bb-4947ee7c97cb.nc to /home/nicolasf/research/CPP/indices/data/ERA5/daily/ERA5_daily_geopotential_1000_2018-02-26.nc (192.2K)\n",
      "2020-06-14 13:14:22,047 INFO Download rate 104K/s  \n"
     ]
    },
    {
     "name": "stdout",
     "output_type": "stream",
     "text": [
      "downloading /home/nicolasf/research/CPP/indices/data/ERA5/daily/ERA5_daily_geopotential_1000_2018-02-27.nc\n"
     ]
    },
    {
     "name": "stderr",
     "output_type": "stream",
     "text": [
      "2020-06-14 13:14:23,784 INFO Welcome to the CDS\n",
      "2020-06-14 13:14:23,785 INFO Sending request to https://cds.climate.copernicus.eu/api/v2/resources/reanalysis-era5-pressure-levels\n",
      "2020-06-14 13:14:25,316 INFO Request is queued\n",
      "2020-06-14 13:14:26,647 INFO Request is running\n",
      "2020-06-14 13:14:28,491 INFO Request is completed\n",
      "2020-06-14 13:14:28,492 INFO Downloading http://136.156.132.235/cache-compute-0006/cache/data5/adaptor.mars.internal-1592097265.2179856-30596-15-a651b50c-3d05-4dd5-a22e-022da0bc4307.nc to /home/nicolasf/research/CPP/indices/data/ERA5/daily/ERA5_daily_geopotential_1000_2018-02-27.nc (192.2K)\n",
      "2020-06-14 13:14:31,874 INFO Download rate 56.9K/s \n"
     ]
    },
    {
     "name": "stdout",
     "output_type": "stream",
     "text": [
      "downloading /home/nicolasf/research/CPP/indices/data/ERA5/daily/ERA5_daily_geopotential_1000_2018-02-28.nc\n"
     ]
    },
    {
     "name": "stderr",
     "output_type": "stream",
     "text": [
      "2020-06-14 13:14:33,922 INFO Welcome to the CDS\n",
      "2020-06-14 13:14:33,923 INFO Sending request to https://cds.climate.copernicus.eu/api/v2/resources/reanalysis-era5-pressure-levels\n",
      "2020-06-14 13:14:35,351 INFO Request is queued\n",
      "2020-06-14 13:14:38,526 INFO Request is completed\n",
      "2020-06-14 13:14:38,528 INFO Downloading http://136.156.133.42/cache-compute-0014/cache/data0/adaptor.mars.internal-1592097276.5576305-4992-20-45b4cdeb-80be-42ab-b654-188df7a33504.nc to /home/nicolasf/research/CPP/indices/data/ERA5/daily/ERA5_daily_geopotential_1000_2018-02-28.nc (192.2K)\n",
      "2020-06-14 13:14:40,373 INFO Download rate 104.2K/s\n"
     ]
    },
    {
     "name": "stdout",
     "output_type": "stream",
     "text": [
      "downloading /home/nicolasf/research/CPP/indices/data/ERA5/daily/ERA5_daily_geopotential_1000_2018-03-01.nc\n"
     ]
    },
    {
     "name": "stderr",
     "output_type": "stream",
     "text": [
      "2020-06-14 13:14:42,217 INFO Welcome to the CDS\n",
      "2020-06-14 13:14:42,218 INFO Sending request to https://cds.climate.copernicus.eu/api/v2/resources/reanalysis-era5-pressure-levels\n",
      "2020-06-14 13:14:43,748 INFO Request is queued\n",
      "2020-06-14 13:14:45,080 INFO Request is running\n",
      "2020-06-14 13:14:46,923 INFO Request is completed\n",
      "2020-06-14 13:14:46,925 INFO Downloading http://136.156.133.46/cache-compute-0015/cache/data4/adaptor.mars.internal-1592097284.273364-8636-5-a0458ef9-06fe-4fbc-b9b7-afd37fc45bd3.nc to /home/nicolasf/research/CPP/indices/data/ERA5/daily/ERA5_daily_geopotential_1000_2018-03-01.nc (192.2K)\n",
      "2020-06-14 13:14:48,772 INFO Download rate 104.2K/s\n"
     ]
    },
    {
     "name": "stdout",
     "output_type": "stream",
     "text": [
      "downloading /home/nicolasf/research/CPP/indices/data/ERA5/daily/ERA5_daily_geopotential_1000_2018-03-02.nc\n"
     ]
    },
    {
     "name": "stderr",
     "output_type": "stream",
     "text": [
      "2020-06-14 13:14:51,329 INFO Welcome to the CDS\n",
      "2020-06-14 13:14:51,330 INFO Sending request to https://cds.climate.copernicus.eu/api/v2/resources/reanalysis-era5-pressure-levels\n",
      "2020-06-14 13:14:52,582 INFO Request is queued\n",
      "2020-06-14 13:14:53,886 INFO Request is completed\n",
      "2020-06-14 13:14:53,888 INFO Downloading http://136.156.133.36/cache-compute-0010/cache/data0/adaptor.mars.internal-1592097292.546954-15517-11-7cf897d5-72e3-44d0-9745-995c98331e57.nc to /home/nicolasf/research/CPP/indices/data/ERA5/daily/ERA5_daily_geopotential_1000_2018-03-02.nc (192.2K)\n",
      "2020-06-14 13:14:55,731 INFO Download rate 104.4K/s\n"
     ]
    },
    {
     "name": "stdout",
     "output_type": "stream",
     "text": [
      "downloading /home/nicolasf/research/CPP/indices/data/ERA5/daily/ERA5_daily_geopotential_1000_2018-03-03.nc\n"
     ]
    },
    {
     "name": "stderr",
     "output_type": "stream",
     "text": [
      "2020-06-14 13:14:57,576 INFO Welcome to the CDS\n",
      "2020-06-14 13:14:57,577 INFO Sending request to https://cds.climate.copernicus.eu/api/v2/resources/reanalysis-era5-pressure-levels\n",
      "2020-06-14 13:14:59,416 INFO Request is queued\n",
      "2020-06-14 13:15:00,747 INFO Request is running\n",
      "2020-06-14 13:15:02,590 INFO Request is completed\n",
      "2020-06-14 13:15:02,592 INFO Downloading http://136.156.132.105/cache-compute-0000/cache/data5/adaptor.mars.internal-1592097300.1262574-29217-15-e607ac38-df4e-48be-a662-1ea617675b14.nc to /home/nicolasf/research/CPP/indices/data/ERA5/daily/ERA5_daily_geopotential_1000_2018-03-03.nc (192.2K)\n",
      "2020-06-14 13:15:04,441 INFO Download rate 104.1K/s\n"
     ]
    },
    {
     "name": "stdout",
     "output_type": "stream",
     "text": [
      "downloading /home/nicolasf/research/CPP/indices/data/ERA5/daily/ERA5_daily_geopotential_1000_2018-03-04.nc\n"
     ]
    },
    {
     "name": "stderr",
     "output_type": "stream",
     "text": [
      "2020-06-14 13:15:06,280 INFO Welcome to the CDS\n",
      "2020-06-14 13:15:06,280 INFO Sending request to https://cds.climate.copernicus.eu/api/v2/resources/reanalysis-era5-pressure-levels\n",
      "2020-06-14 13:15:07,812 INFO Request is queued\n",
      "2020-06-14 13:15:09,144 INFO Request is completed\n",
      "2020-06-14 13:15:09,145 INFO Downloading http://136.156.132.105/cache-compute-0000/cache/data5/adaptor.mars.internal-1592097307.7398465-25500-23-41095be8-7257-47de-b33a-32fd447d3951.nc to /home/nicolasf/research/CPP/indices/data/ERA5/daily/ERA5_daily_geopotential_1000_2018-03-04.nc (192.2K)\n",
      "2020-06-14 13:15:10,994 INFO Download rate 104.1K/s\n"
     ]
    },
    {
     "name": "stdout",
     "output_type": "stream",
     "text": [
      "downloading /home/nicolasf/research/CPP/indices/data/ERA5/daily/ERA5_daily_geopotential_1000_2018-03-05.nc\n"
     ]
    },
    {
     "name": "stderr",
     "output_type": "stream",
     "text": [
      "2020-06-14 13:15:12,866 INFO Welcome to the CDS\n",
      "2020-06-14 13:15:12,866 INFO Sending request to https://cds.climate.copernicus.eu/api/v2/resources/reanalysis-era5-pressure-levels\n",
      "2020-06-14 13:15:15,084 INFO Request is queued\n",
      "2020-06-14 13:15:18,257 INFO Request is running\n",
      "2020-06-14 13:15:20,817 INFO Request is completed\n",
      "2020-06-14 13:15:20,819 INFO Downloading http://136.156.133.25/cache-compute-0008/cache/data1/adaptor.mars.internal-1592097316.6682382-17668-20-c95455c0-f3d7-46b2-aae6-0f625effe5eb.nc to /home/nicolasf/research/CPP/indices/data/ERA5/daily/ERA5_daily_geopotential_1000_2018-03-05.nc (192.2K)\n",
      "2020-06-14 13:15:22,665 INFO Download rate 104.2K/s\n"
     ]
    },
    {
     "name": "stdout",
     "output_type": "stream",
     "text": [
      "downloading /home/nicolasf/research/CPP/indices/data/ERA5/daily/ERA5_daily_geopotential_1000_2018-03-06.nc\n"
     ]
    },
    {
     "name": "stderr",
     "output_type": "stream",
     "text": [
      "2020-06-14 13:15:25,224 INFO Welcome to the CDS\n",
      "2020-06-14 13:15:25,224 INFO Sending request to https://cds.climate.copernicus.eu/api/v2/resources/reanalysis-era5-pressure-levels\n",
      "2020-06-14 13:15:26,756 INFO Request is queued\n",
      "2020-06-14 13:15:28,088 INFO Request is running\n",
      "2020-06-14 13:15:29,931 INFO Request is completed\n",
      "2020-06-14 13:15:29,932 INFO Downloading http://136.156.132.201/cache-compute-0004/cache/data5/adaptor.mars.internal-1592097327.5185547-6638-38-8445486a-09be-46ab-905f-b311846e856c.nc to /home/nicolasf/research/CPP/indices/data/ERA5/daily/ERA5_daily_geopotential_1000_2018-03-06.nc (192.2K)\n",
      "2020-06-14 13:15:31,785 INFO Download rate 103.9K/s\n"
     ]
    },
    {
     "name": "stdout",
     "output_type": "stream",
     "text": [
      "downloading /home/nicolasf/research/CPP/indices/data/ERA5/daily/ERA5_daily_geopotential_1000_2018-03-07.nc\n"
     ]
    },
    {
     "name": "stderr",
     "output_type": "stream",
     "text": [
      "2020-06-14 13:15:33,928 INFO Welcome to the CDS\n",
      "2020-06-14 13:15:33,930 INFO Sending request to https://cds.climate.copernicus.eu/api/v2/resources/reanalysis-era5-pressure-levels\n",
      "2020-06-14 13:15:35,972 INFO Request is queued\n",
      "2020-06-14 13:15:37,304 INFO Request is running\n",
      "2020-06-14 13:15:39,146 INFO Request is completed\n",
      "2020-06-14 13:15:39,148 INFO Downloading http://136.156.132.201/cache-compute-0004/cache/data0/adaptor.mars.internal-1592097336.7787807-13988-7-6159d250-97af-4971-a773-0968861b13f1.nc to /home/nicolasf/research/CPP/indices/data/ERA5/daily/ERA5_daily_geopotential_1000_2018-03-07.nc (192.2K)\n",
      "2020-06-14 13:15:40,996 INFO Download rate 104.1K/s\n"
     ]
    },
    {
     "name": "stdout",
     "output_type": "stream",
     "text": [
      "downloading /home/nicolasf/research/CPP/indices/data/ERA5/daily/ERA5_daily_geopotential_1000_2018-03-08.nc\n"
     ]
    },
    {
     "name": "stderr",
     "output_type": "stream",
     "text": [
      "2020-06-14 13:15:43,257 INFO Welcome to the CDS\n",
      "2020-06-14 13:15:43,258 INFO Sending request to https://cds.climate.copernicus.eu/api/v2/resources/reanalysis-era5-pressure-levels\n",
      "2020-06-14 13:15:44,676 INFO Request is queued\n",
      "2020-06-14 13:15:46,007 INFO Request is running\n",
      "2020-06-14 13:15:47,954 INFO Request is completed\n",
      "2020-06-14 13:15:47,955 INFO Downloading http://136.156.132.105/cache-compute-0000/cache/data7/adaptor.mars.internal-1592097345.2215247-31320-7-f5045f4d-e371-4f24-8a1a-814dd3f99779.nc to /home/nicolasf/research/CPP/indices/data/ERA5/daily/ERA5_daily_geopotential_1000_2018-03-08.nc (192.2K)\n",
      "2020-06-14 13:15:49,803 INFO Download rate 104.2K/s\n"
     ]
    },
    {
     "name": "stdout",
     "output_type": "stream",
     "text": [
      "downloading /home/nicolasf/research/CPP/indices/data/ERA5/daily/ERA5_daily_geopotential_1000_2018-03-09.nc\n"
     ]
    },
    {
     "name": "stderr",
     "output_type": "stream",
     "text": [
      "2020-06-14 13:15:51,746 INFO Welcome to the CDS\n",
      "2020-06-14 13:15:51,747 INFO Sending request to https://cds.climate.copernicus.eu/api/v2/resources/reanalysis-era5-pressure-levels\n",
      "2020-06-14 13:15:53,483 INFO Request is queued\n",
      "2020-06-14 13:15:54,815 INFO Request is running\n",
      "2020-06-14 13:15:56,657 INFO Request is completed\n",
      "2020-06-14 13:15:56,659 INFO Downloading http://136.156.132.105/cache-compute-0000/cache/data9/adaptor.mars.internal-1592097354.5665576-4120-3-b312047a-fafd-4704-8e27-9f5d554b350e.nc to /home/nicolasf/research/CPP/indices/data/ERA5/daily/ERA5_daily_geopotential_1000_2018-03-09.nc (192.2K)\n",
      "2020-06-14 13:15:58,507 INFO Download rate 104.1K/s\n"
     ]
    },
    {
     "name": "stdout",
     "output_type": "stream",
     "text": [
      "downloading /home/nicolasf/research/CPP/indices/data/ERA5/daily/ERA5_daily_geopotential_1000_2018-03-10.nc\n"
     ]
    },
    {
     "name": "stderr",
     "output_type": "stream",
     "text": [
      "2020-06-14 13:16:00,450 INFO Welcome to the CDS\n",
      "2020-06-14 13:16:00,451 INFO Sending request to https://cds.climate.copernicus.eu/api/v2/resources/reanalysis-era5-pressure-levels\n",
      "2020-06-14 13:16:01,742 INFO Request is queued\n",
      "2020-06-14 13:16:03,108 INFO Request is running\n",
      "2020-06-14 13:16:04,952 INFO Request is completed\n",
      "2020-06-14 13:16:04,954 INFO Downloading http://136.156.132.105/cache-compute-0000/cache/data4/adaptor.mars.internal-1592097362.1062849-32212-5-23dc18f5-a2b8-44a6-9e10-23d4b184c769.nc to /home/nicolasf/research/CPP/indices/data/ERA5/daily/ERA5_daily_geopotential_1000_2018-03-10.nc (192.2K)\n",
      "2020-06-14 13:16:06,494 INFO Download rate 124.9K/s\n"
     ]
    },
    {
     "name": "stdout",
     "output_type": "stream",
     "text": [
      "downloading /home/nicolasf/research/CPP/indices/data/ERA5/daily/ERA5_daily_geopotential_1000_2018-03-11.nc\n"
     ]
    },
    {
     "name": "stderr",
     "output_type": "stream",
     "text": [
      "2020-06-14 13:16:08,130 INFO Welcome to the CDS\n",
      "2020-06-14 13:16:08,131 INFO Sending request to https://cds.climate.copernicus.eu/api/v2/resources/reanalysis-era5-pressure-levels\n",
      "2020-06-14 13:16:09,559 INFO Request is queued\n",
      "2020-06-14 13:16:10,891 INFO Request is running\n",
      "2020-06-14 13:16:12,734 INFO Request is completed\n",
      "2020-06-14 13:16:12,736 INFO Downloading http://136.156.132.198/cache-compute-0003/cache/data6/adaptor.mars.internal-1592097370.3395612-11240-19-0fee274c-e5d1-4cbf-bba9-53ce4f339162.nc to /home/nicolasf/research/CPP/indices/data/ERA5/daily/ERA5_daily_geopotential_1000_2018-03-11.nc (192.2K)\n",
      "2020-06-14 13:16:14,584 INFO Download rate 104.1K/s\n"
     ]
    },
    {
     "name": "stdout",
     "output_type": "stream",
     "text": [
      "downloading /home/nicolasf/research/CPP/indices/data/ERA5/daily/ERA5_daily_geopotential_1000_2018-03-12.nc\n"
     ]
    },
    {
     "name": "stderr",
     "output_type": "stream",
     "text": [
      "2020-06-14 13:16:16,424 INFO Welcome to the CDS\n",
      "2020-06-14 13:16:16,424 INFO Sending request to https://cds.climate.copernicus.eu/api/v2/resources/reanalysis-era5-pressure-levels\n",
      "2020-06-14 13:16:18,162 INFO Request is queued\n",
      "2020-06-14 13:16:19,492 INFO Request is completed\n",
      "2020-06-14 13:16:19,494 INFO Downloading http://136.156.132.153/cache-compute-0002/cache/data6/adaptor.mars.internal-1592097378.2319016-10580-7-60603831-ac7a-4f62-b020-b0f0a46a684e.nc to /home/nicolasf/research/CPP/indices/data/ERA5/daily/ERA5_daily_geopotential_1000_2018-03-12.nc (192.2K)\n",
      "2020-06-14 13:16:21,338 INFO Download rate 104.3K/s\n"
     ]
    },
    {
     "name": "stdout",
     "output_type": "stream",
     "text": [
      "downloading /home/nicolasf/research/CPP/indices/data/ERA5/daily/ERA5_daily_geopotential_1000_2018-03-13.nc\n"
     ]
    },
    {
     "name": "stderr",
     "output_type": "stream",
     "text": [
      "2020-06-14 13:16:22,978 INFO Welcome to the CDS\n",
      "2020-06-14 13:16:22,978 INFO Sending request to https://cds.climate.copernicus.eu/api/v2/resources/reanalysis-era5-pressure-levels\n",
      "2020-06-14 13:16:25,125 INFO Request is queued\n",
      "2020-06-14 13:16:26,456 INFO Request is running\n",
      "2020-06-14 13:16:28,299 INFO Request is completed\n",
      "2020-06-14 13:16:28,301 INFO Downloading http://136.156.133.42/cache-compute-0014/cache/data5/adaptor.mars.internal-1592097385.6805396-7788-15-850961af-776b-43c7-979b-9c8e286eaba8.nc to /home/nicolasf/research/CPP/indices/data/ERA5/daily/ERA5_daily_geopotential_1000_2018-03-13.nc (192.2K)\n",
      "2020-06-14 13:16:30,146 INFO Download rate 104.2K/s\n"
     ]
    },
    {
     "name": "stdout",
     "output_type": "stream",
     "text": [
      "downloading /home/nicolasf/research/CPP/indices/data/ERA5/daily/ERA5_daily_geopotential_1000_2018-03-14.nc\n"
     ]
    },
    {
     "name": "stderr",
     "output_type": "stream",
     "text": [
      "2020-06-14 13:16:32,194 INFO Welcome to the CDS\n",
      "2020-06-14 13:16:32,194 INFO Sending request to https://cds.climate.copernicus.eu/api/v2/resources/reanalysis-era5-pressure-levels\n",
      "2020-06-14 13:16:34,341 INFO Request is queued\n",
      "2020-06-14 13:16:40,075 INFO Request is running\n",
      "2020-06-14 13:16:43,761 INFO Request is completed\n",
      "2020-06-14 13:16:43,763 INFO Downloading http://136.156.133.42/cache-compute-0014/cache/data5/adaptor.mars.internal-1592097398.471745-7822-15-6db5b484-2de8-40d0-bbfb-bff166534f55.nc to /home/nicolasf/research/CPP/indices/data/ERA5/daily/ERA5_daily_geopotential_1000_2018-03-14.nc (192.2K)\n",
      "2020-06-14 13:16:45,714 INFO Download rate 98.6K/s \n"
     ]
    },
    {
     "name": "stdout",
     "output_type": "stream",
     "text": [
      "downloading /home/nicolasf/research/CPP/indices/data/ERA5/daily/ERA5_daily_geopotential_1000_2018-03-15.nc\n"
     ]
    },
    {
     "name": "stderr",
     "output_type": "stream",
     "text": [
      "2020-06-14 13:16:49,089 INFO Welcome to the CDS\n",
      "2020-06-14 13:16:49,090 INFO Sending request to https://cds.climate.copernicus.eu/api/v2/resources/reanalysis-era5-pressure-levels\n",
      "2020-06-14 13:16:51,911 INFO Request is queued\n",
      "2020-06-14 13:16:55,128 INFO Request is running\n",
      "2020-06-14 13:16:57,688 INFO Request is completed\n",
      "2020-06-14 13:16:57,690 INFO Downloading http://136.156.133.36/cache-compute-0010/cache/data5/adaptor.mars.internal-1592097414.2346387-17203-7-3e2fdbbd-3a48-4f2b-b4cc-bf75d97f7bb6.nc to /home/nicolasf/research/CPP/indices/data/ERA5/daily/ERA5_daily_geopotential_1000_2018-03-15.nc (192.2K)\n",
      "2020-06-14 13:16:59,638 INFO Download rate 98.8K/s \n"
     ]
    },
    {
     "name": "stdout",
     "output_type": "stream",
     "text": [
      "downloading /home/nicolasf/research/CPP/indices/data/ERA5/daily/ERA5_daily_geopotential_1000_2018-03-16.nc\n"
     ]
    },
    {
     "name": "stderr",
     "output_type": "stream",
     "text": [
      "2020-06-14 13:17:01,787 INFO Welcome to the CDS\n",
      "2020-06-14 13:17:01,788 INFO Sending request to https://cds.climate.copernicus.eu/api/v2/resources/reanalysis-era5-pressure-levels\n",
      "2020-06-14 13:17:03,526 INFO Request is queued\n",
      "2020-06-14 13:17:06,699 INFO Request is completed\n",
      "2020-06-14 13:17:06,701 INFO Downloading http://136.156.133.37/cache-compute-0011/cache/data9/adaptor.mars.internal-1592097424.831726-8864-15-814dff50-ce79-4b14-8711-68b79c36ea6a.nc to /home/nicolasf/research/CPP/indices/data/ERA5/daily/ERA5_daily_geopotential_1000_2018-03-16.nc (192.2K)\n",
      "2020-06-14 13:17:08,548 INFO Download rate 104.2K/s\n"
     ]
    },
    {
     "name": "stdout",
     "output_type": "stream",
     "text": [
      "downloading /home/nicolasf/research/CPP/indices/data/ERA5/daily/ERA5_daily_geopotential_1000_2018-03-17.nc\n"
     ]
    },
    {
     "name": "stderr",
     "output_type": "stream",
     "text": [
      "2020-06-14 13:17:10,389 INFO Welcome to the CDS\n",
      "2020-06-14 13:17:10,390 INFO Sending request to https://cds.climate.copernicus.eu/api/v2/resources/reanalysis-era5-pressure-levels\n",
      "2020-06-14 13:17:11,819 INFO Request is queued\n",
      "2020-06-14 13:17:13,150 INFO Request is completed\n",
      "2020-06-14 13:17:13,152 INFO Downloading http://136.156.133.25/cache-compute-0008/cache/data5/adaptor.mars.internal-1592097431.7119122-27035-9-ec4bc1a3-7c8f-40e0-b81b-05f52dbfc43e.nc to /home/nicolasf/research/CPP/indices/data/ERA5/daily/ERA5_daily_geopotential_1000_2018-03-17.nc (192.2K)\n",
      "2020-06-14 13:17:15,000 INFO Download rate 104.2K/s\n"
     ]
    },
    {
     "name": "stdout",
     "output_type": "stream",
     "text": [
      "downloading /home/nicolasf/research/CPP/indices/data/ERA5/daily/ERA5_daily_geopotential_1000_2018-03-18.nc\n"
     ]
    },
    {
     "name": "stderr",
     "output_type": "stream",
     "text": [
      "2020-06-14 13:17:16,840 INFO Welcome to the CDS\n",
      "2020-06-14 13:17:16,841 INFO Sending request to https://cds.climate.copernicus.eu/api/v2/resources/reanalysis-era5-pressure-levels\n",
      "2020-06-14 13:17:18,475 INFO Request is queued\n",
      "2020-06-14 13:17:19,807 INFO Request is completed\n",
      "2020-06-14 13:17:19,808 INFO Downloading http://136.156.132.198/cache-compute-0003/cache/data9/adaptor.mars.internal-1592097438.4811218-22428-7-3b47bc15-b51e-44a2-ad8b-aa459b1ff2d3.nc to /home/nicolasf/research/CPP/indices/data/ERA5/daily/ERA5_daily_geopotential_1000_2018-03-18.nc (192.2K)\n",
      "2020-06-14 13:17:21,657 INFO Download rate 104.1K/s\n"
     ]
    },
    {
     "name": "stdout",
     "output_type": "stream",
     "text": [
      "downloading /home/nicolasf/research/CPP/indices/data/ERA5/daily/ERA5_daily_geopotential_1000_2018-03-19.nc\n"
     ]
    },
    {
     "name": "stderr",
     "output_type": "stream",
     "text": [
      "2020-06-14 13:17:23,496 INFO Welcome to the CDS\n",
      "2020-06-14 13:17:23,497 INFO Sending request to https://cds.climate.copernicus.eu/api/v2/resources/reanalysis-era5-pressure-levels\n",
      "2020-06-14 13:17:24,926 INFO Request is queued\n",
      "2020-06-14 13:17:26,258 INFO Request is completed\n",
      "2020-06-14 13:17:26,259 INFO Downloading http://136.156.132.210/cache-compute-0005/cache/data2/adaptor.mars.internal-1592097444.8443627-28555-17-5fee8365-c3a1-44da-8539-cfae59720da7.nc to /home/nicolasf/research/CPP/indices/data/ERA5/daily/ERA5_daily_geopotential_1000_2018-03-19.nc (192.2K)\n",
      "2020-06-14 13:17:28,107 INFO Download rate 104.1K/s\n"
     ]
    },
    {
     "name": "stdout",
     "output_type": "stream",
     "text": [
      "downloading /home/nicolasf/research/CPP/indices/data/ERA5/daily/ERA5_daily_geopotential_1000_2018-03-20.nc\n"
     ]
    },
    {
     "name": "stderr",
     "output_type": "stream",
     "text": [
      "2020-06-14 13:17:29,641 INFO Welcome to the CDS\n",
      "2020-06-14 13:17:29,642 INFO Sending request to https://cds.climate.copernicus.eu/api/v2/resources/reanalysis-era5-pressure-levels\n",
      "2020-06-14 13:17:34,245 INFO Request is queued\n",
      "2020-06-14 13:17:35,576 INFO Request is running\n",
      "2020-06-14 13:17:37,420 INFO Request is completed\n",
      "2020-06-14 13:17:37,421 INFO Downloading http://136.156.132.201/cache-compute-0004/cache/data1/adaptor.mars.internal-1592097454.8439784-8514-34-1c63b6d0-3c85-4af5-8815-78706dd60770.nc to /home/nicolasf/research/CPP/indices/data/ERA5/daily/ERA5_daily_geopotential_1000_2018-03-20.nc (192.2K)\n",
      "2020-06-14 13:17:39,268 INFO Download rate 104.2K/s\n"
     ]
    },
    {
     "name": "stdout",
     "output_type": "stream",
     "text": [
      "downloading /home/nicolasf/research/CPP/indices/data/ERA5/daily/ERA5_daily_geopotential_1000_2018-03-21.nc\n"
     ]
    },
    {
     "name": "stderr",
     "output_type": "stream",
     "text": [
      "2020-06-14 13:17:40,904 INFO Welcome to the CDS\n",
      "2020-06-14 13:17:40,904 INFO Sending request to https://cds.climate.copernicus.eu/api/v2/resources/reanalysis-era5-pressure-levels\n",
      "2020-06-14 13:17:42,847 INFO Request is queued\n",
      "2020-06-14 13:17:44,178 INFO Request is running\n",
      "2020-06-14 13:17:45,960 INFO Request is completed\n",
      "2020-06-14 13:17:45,962 INFO Downloading http://136.156.133.36/cache-compute-0010/cache/data0/adaptor.mars.internal-1592097463.5122428-15517-15-5f3b6ef9-50a0-420e-a655-4547940bd1bb.nc to /home/nicolasf/research/CPP/indices/data/ERA5/daily/ERA5_daily_geopotential_1000_2018-03-21.nc (192.2K)\n",
      "2020-06-14 13:17:47,768 INFO Download rate 106.6K/s\n"
     ]
    },
    {
     "name": "stdout",
     "output_type": "stream",
     "text": [
      "downloading /home/nicolasf/research/CPP/indices/data/ERA5/daily/ERA5_daily_geopotential_1000_2018-03-22.nc\n"
     ]
    },
    {
     "name": "stderr",
     "output_type": "stream",
     "text": [
      "2020-06-14 13:17:49,302 INFO Welcome to the CDS\n",
      "2020-06-14 13:17:49,302 INFO Sending request to https://cds.climate.copernicus.eu/api/v2/resources/reanalysis-era5-pressure-levels\n",
      "2020-06-14 13:17:50,834 INFO Request is queued\n",
      "2020-06-14 13:17:52,165 INFO Request is running\n",
      "2020-06-14 13:17:54,008 INFO Request is completed\n",
      "2020-06-14 13:17:54,010 INFO Downloading http://136.156.133.46/cache-compute-0015/cache/data8/adaptor.mars.internal-1592097471.4474707-14434-1-d8a3fe18-768a-4f89-9ef4-10602c0713f0.nc to /home/nicolasf/research/CPP/indices/data/ERA5/daily/ERA5_daily_geopotential_1000_2018-03-22.nc (192.2K)\n",
      "2020-06-14 13:17:55,855 INFO Download rate 104.3K/s\n"
     ]
    },
    {
     "name": "stdout",
     "output_type": "stream",
     "text": [
      "downloading /home/nicolasf/research/CPP/indices/data/ERA5/daily/ERA5_daily_geopotential_1000_2018-03-23.nc\n"
     ]
    },
    {
     "name": "stderr",
     "output_type": "stream",
     "text": [
      "2020-06-14 13:17:57,903 INFO Welcome to the CDS\n",
      "2020-06-14 13:17:57,904 INFO Sending request to https://cds.climate.copernicus.eu/api/v2/resources/reanalysis-era5-pressure-levels\n",
      "2020-06-14 13:18:00,358 INFO Request is queued\n",
      "2020-06-14 13:18:01,688 INFO Request is running\n",
      "2020-06-14 13:18:03,531 INFO Request is completed\n",
      "2020-06-14 13:18:03,533 INFO Downloading http://136.156.133.32/cache-compute-0009/cache/data0/adaptor.mars.internal-1592097480.8519552-533-22-f544da56-e134-407f-9b28-9e2932050bba.nc to /home/nicolasf/research/CPP/indices/data/ERA5/daily/ERA5_daily_geopotential_1000_2018-03-23.nc (192.2K)\n",
      "2020-06-14 13:18:05,381 INFO Download rate 104.2K/s\n"
     ]
    },
    {
     "name": "stdout",
     "output_type": "stream",
     "text": [
      "downloading /home/nicolasf/research/CPP/indices/data/ERA5/daily/ERA5_daily_geopotential_1000_2018-03-24.nc\n"
     ]
    },
    {
     "name": "stderr",
     "output_type": "stream",
     "text": [
      "2020-06-14 13:18:07,016 INFO Welcome to the CDS\n",
      "2020-06-14 13:18:07,017 INFO Sending request to https://cds.climate.copernicus.eu/api/v2/resources/reanalysis-era5-pressure-levels\n",
      "2020-06-14 13:18:08,446 INFO Request is queued\n",
      "2020-06-14 13:18:11,621 INFO Request is completed\n",
      "2020-06-14 13:18:11,622 INFO Downloading http://136.156.132.201/cache-compute-0004/cache/data5/adaptor.mars.internal-1592097489.7890608-19873-1-aff07f1f-312e-47f0-a253-e196331a6dd7.nc to /home/nicolasf/research/CPP/indices/data/ERA5/daily/ERA5_daily_geopotential_1000_2018-03-24.nc (192.2K)\n",
      "2020-06-14 13:18:13,470 INFO Download rate 104.1K/s\n"
     ]
    },
    {
     "name": "stdout",
     "output_type": "stream",
     "text": [
      "downloading /home/nicolasf/research/CPP/indices/data/ERA5/daily/ERA5_daily_geopotential_1000_2018-03-25.nc\n"
     ]
    },
    {
     "name": "stderr",
     "output_type": "stream",
     "text": [
      "2020-06-14 13:18:15,310 INFO Welcome to the CDS\n",
      "2020-06-14 13:18:15,311 INFO Sending request to https://cds.climate.copernicus.eu/api/v2/resources/reanalysis-era5-pressure-levels\n",
      "2020-06-14 13:18:16,946 INFO Request is queued\n",
      "2020-06-14 13:18:18,277 INFO Request is running\n",
      "2020-06-14 13:18:20,063 INFO Request is completed\n",
      "2020-06-14 13:18:20,065 INFO Downloading http://136.156.133.42/cache-compute-0014/cache/data4/adaptor.mars.internal-1592097497.6529148-14390-3-7feb1d08-7a58-4e01-9892-0875e830132e.nc to /home/nicolasf/research/CPP/indices/data/ERA5/daily/ERA5_daily_geopotential_1000_2018-03-25.nc (192.2K)\n",
      "2020-06-14 13:18:21,870 INFO Download rate 106.6K/s\n"
     ]
    },
    {
     "name": "stdout",
     "output_type": "stream",
     "text": [
      "downloading /home/nicolasf/research/CPP/indices/data/ERA5/daily/ERA5_daily_geopotential_1000_2018-03-26.nc\n"
     ]
    },
    {
     "name": "stderr",
     "output_type": "stream",
     "text": [
      "2020-06-14 13:18:23,605 INFO Welcome to the CDS\n",
      "2020-06-14 13:18:23,606 INFO Sending request to https://cds.climate.copernicus.eu/api/v2/resources/reanalysis-era5-pressure-levels\n",
      "2020-06-14 13:18:25,035 INFO Request is queued\n",
      "2020-06-14 13:18:26,367 INFO Request is completed\n",
      "2020-06-14 13:18:26,369 INFO Downloading http://136.156.132.198/cache-compute-0003/cache/data4/adaptor.mars.internal-1592097504.983904-14188-33-84814563-1646-4b96-8b4d-7f765bc2efef.nc to /home/nicolasf/research/CPP/indices/data/ERA5/daily/ERA5_daily_geopotential_1000_2018-03-26.nc (192.2K)\n",
      "2020-06-14 13:18:28,217 INFO Download rate 104.1K/s\n"
     ]
    },
    {
     "name": "stdout",
     "output_type": "stream",
     "text": [
      "downloading /home/nicolasf/research/CPP/indices/data/ERA5/daily/ERA5_daily_geopotential_1000_2018-03-27.nc\n"
     ]
    },
    {
     "name": "stderr",
     "output_type": "stream",
     "text": [
      "2020-06-14 13:18:30,128 INFO Welcome to the CDS\n",
      "2020-06-14 13:18:30,129 INFO Sending request to https://cds.climate.copernicus.eu/api/v2/resources/reanalysis-era5-pressure-levels\n",
      "2020-06-14 13:18:32,921 INFO Request is queued\n",
      "2020-06-14 13:18:34,252 INFO Request is running\n",
      "2020-06-14 13:18:36,095 INFO Request is completed\n",
      "2020-06-14 13:18:36,097 INFO Downloading http://136.156.133.36/cache-compute-0010/cache/data6/adaptor.mars.internal-1592097513.187344-12100-30-62b28a66-eb47-44c5-a56e-f9813e93fab7.nc to /home/nicolasf/research/CPP/indices/data/ERA5/daily/ERA5_daily_geopotential_1000_2018-03-27.nc (192.2K)\n",
      "2020-06-14 13:18:37,943 INFO Download rate 104.2K/s\n"
     ]
    },
    {
     "name": "stdout",
     "output_type": "stream",
     "text": [
      "downloading /home/nicolasf/research/CPP/indices/data/ERA5/daily/ERA5_daily_geopotential_1000_2018-03-28.nc\n"
     ]
    },
    {
     "name": "stderr",
     "output_type": "stream",
     "text": [
      "2020-06-14 13:18:39,580 INFO Welcome to the CDS\n",
      "2020-06-14 13:18:39,580 INFO Sending request to https://cds.climate.copernicus.eu/api/v2/resources/reanalysis-era5-pressure-levels\n",
      "2020-06-14 13:18:41,010 INFO Request is queued\n",
      "2020-06-14 13:18:42,341 INFO Request is running\n",
      "2020-06-14 13:18:46,745 INFO Request is completed\n",
      "2020-06-14 13:18:46,747 INFO Downloading http://136.156.132.210/cache-compute-0005/cache/data6/adaptor.mars.internal-1592097522.7242033-30031-13-d27b5c6d-c259-44a0-8ea1-35973aef169a.nc to /home/nicolasf/research/CPP/indices/data/ERA5/daily/ERA5_daily_geopotential_1000_2018-03-28.nc (192.2K)\n",
      "2020-06-14 13:18:48,592 INFO Download rate 104.3K/s\n"
     ]
    },
    {
     "name": "stdout",
     "output_type": "stream",
     "text": [
      "downloading /home/nicolasf/research/CPP/indices/data/ERA5/daily/ERA5_daily_geopotential_1000_2018-03-29.nc\n"
     ]
    },
    {
     "name": "stderr",
     "output_type": "stream",
     "text": [
      "2020-06-14 13:18:50,399 INFO Welcome to the CDS\n",
      "2020-06-14 13:18:50,400 INFO Sending request to https://cds.climate.copernicus.eu/api/v2/resources/reanalysis-era5-pressure-levels\n",
      "2020-06-14 13:18:52,277 INFO Request is queued\n",
      "2020-06-14 13:18:58,009 INFO Request is running\n",
      "2020-06-14 13:19:01,694 INFO Request is completed\n",
      "2020-06-14 13:19:01,695 INFO Downloading http://136.156.133.37/cache-compute-0011/cache/data7/adaptor.mars.internal-1592097536.8320968-14854-7-de021335-0d72-4f5d-835f-4c62a8e60118.nc to /home/nicolasf/research/CPP/indices/data/ERA5/daily/ERA5_daily_geopotential_1000_2018-03-29.nc (192.2K)\n",
      "2020-06-14 13:19:03,544 INFO Download rate 104K/s  \n"
     ]
    },
    {
     "name": "stdout",
     "output_type": "stream",
     "text": [
      "downloading /home/nicolasf/research/CPP/indices/data/ERA5/daily/ERA5_daily_geopotential_1000_2018-03-30.nc\n"
     ]
    },
    {
     "name": "stderr",
     "output_type": "stream",
     "text": [
      "2020-06-14 13:19:05,385 INFO Welcome to the CDS\n",
      "2020-06-14 13:19:05,386 INFO Sending request to https://cds.climate.copernicus.eu/api/v2/resources/reanalysis-era5-pressure-levels\n",
      "2020-06-14 13:19:07,327 INFO Request is queued\n",
      "2020-06-14 13:19:08,663 INFO Request is completed\n",
      "2020-06-14 13:19:08,664 INFO Downloading http://136.156.132.105/cache-compute-0000/cache/data4/adaptor.mars.internal-1592097547.2897475-25440-38-1ab773b8-c42a-411d-af72-7881dcecc6cb.nc to /home/nicolasf/research/CPP/indices/data/ERA5/daily/ERA5_daily_geopotential_1000_2018-03-30.nc (192.2K)\n",
      "2020-06-14 13:19:10,508 INFO Download rate 104.4K/s\n"
     ]
    },
    {
     "name": "stdout",
     "output_type": "stream",
     "text": [
      "downloading /home/nicolasf/research/CPP/indices/data/ERA5/daily/ERA5_daily_geopotential_1000_2018-03-31.nc\n"
     ]
    },
    {
     "name": "stderr",
     "output_type": "stream",
     "text": [
      "2020-06-14 13:19:12,348 INFO Welcome to the CDS\n",
      "2020-06-14 13:19:12,350 INFO Sending request to https://cds.climate.copernicus.eu/api/v2/resources/reanalysis-era5-pressure-levels\n",
      "2020-06-14 13:19:14,700 INFO Request is queued\n",
      "2020-06-14 13:19:16,031 INFO Request is running\n",
      "2020-06-14 13:19:17,874 INFO Request is completed\n",
      "2020-06-14 13:19:17,876 INFO Downloading http://136.156.133.39/cache-compute-0012/cache/data6/adaptor.mars.internal-1592097554.5723815-4446-11-4f743c45-2601-4a1c-b9a8-4b4decf94949.nc to /home/nicolasf/research/CPP/indices/data/ERA5/daily/ERA5_daily_geopotential_1000_2018-03-31.nc (192.2K)\n",
      "2020-06-14 13:19:19,724 INFO Download rate 104.2K/s\n"
     ]
    },
    {
     "name": "stdout",
     "output_type": "stream",
     "text": [
      "downloading /home/nicolasf/research/CPP/indices/data/ERA5/daily/ERA5_daily_geopotential_1000_2018-04-01.nc\n"
     ]
    },
    {
     "name": "stderr",
     "output_type": "stream",
     "text": [
      "2020-06-14 13:19:21,770 INFO Welcome to the CDS\n",
      "2020-06-14 13:19:21,772 INFO Sending request to https://cds.climate.copernicus.eu/api/v2/resources/reanalysis-era5-pressure-levels\n",
      "2020-06-14 13:19:22,998 INFO Request is queued\n",
      "2020-06-14 13:19:24,326 INFO Request is running\n",
      "2020-06-14 13:19:26,169 INFO Request is completed\n",
      "2020-06-14 13:19:26,170 INFO Downloading http://136.156.133.41/cache-compute-0013/cache/data8/adaptor.mars.internal-1592097562.9554079-15582-3-b3559520-0654-4ab2-935e-28b8afa240ee.nc to /home/nicolasf/research/CPP/indices/data/ERA5/daily/ERA5_daily_geopotential_1000_2018-04-01.nc (192.2K)\n",
      "2020-06-14 13:19:28,018 INFO Download rate 104.1K/s\n"
     ]
    },
    {
     "name": "stdout",
     "output_type": "stream",
     "text": [
      "downloading /home/nicolasf/research/CPP/indices/data/ERA5/daily/ERA5_daily_geopotential_1000_2018-04-02.nc\n"
     ]
    },
    {
     "name": "stderr",
     "output_type": "stream",
     "text": [
      "2020-06-14 13:19:32,931 INFO Welcome to the CDS\n",
      "2020-06-14 13:19:32,931 INFO Sending request to https://cds.climate.copernicus.eu/api/v2/resources/reanalysis-era5-pressure-levels\n",
      "2020-06-14 13:19:34,210 INFO Request is queued\n",
      "2020-06-14 13:19:35,590 INFO Request is running\n",
      "2020-06-14 13:19:37,433 INFO Request is completed\n",
      "2020-06-14 13:19:37,435 INFO Downloading http://136.156.133.39/cache-compute-0012/cache/data5/adaptor.mars.internal-1592097574.2151334-3723-15-25f1844a-1c9b-4d12-86b2-e0a3e83f6e96.nc to /home/nicolasf/research/CPP/indices/data/ERA5/daily/ERA5_daily_geopotential_1000_2018-04-02.nc (192.2K)\n",
      "2020-06-14 13:19:39,248 INFO Download rate 106.1K/s\n"
     ]
    },
    {
     "name": "stdout",
     "output_type": "stream",
     "text": [
      "downloading /home/nicolasf/research/CPP/indices/data/ERA5/daily/ERA5_daily_geopotential_1000_2018-04-03.nc\n"
     ]
    },
    {
     "name": "stderr",
     "output_type": "stream",
     "text": [
      "2020-06-14 13:19:41,225 INFO Welcome to the CDS\n",
      "2020-06-14 13:19:41,226 INFO Sending request to https://cds.climate.copernicus.eu/api/v2/resources/reanalysis-era5-pressure-levels\n",
      "2020-06-14 13:19:42,497 INFO Request is queued\n",
      "2020-06-14 13:19:43,884 INFO Request is running\n",
      "2020-06-14 13:19:45,727 INFO Request is completed\n",
      "2020-06-14 13:19:45,729 INFO Downloading http://136.156.133.25/cache-compute-0008/cache/data1/adaptor.mars.internal-1592097582.5200324-21908-36-d1ab6959-bdf8-4bb2-8699-42302248fd05.nc to /home/nicolasf/research/CPP/indices/data/ERA5/daily/ERA5_daily_geopotential_1000_2018-04-03.nc (192.2K)\n",
      "2020-06-14 13:19:47,270 INFO Download rate 124.9K/s\n"
     ]
    },
    {
     "name": "stdout",
     "output_type": "stream",
     "text": [
      "downloading /home/nicolasf/research/CPP/indices/data/ERA5/daily/ERA5_daily_geopotential_1000_2018-04-04.nc\n"
     ]
    },
    {
     "name": "stderr",
     "output_type": "stream",
     "text": [
      "2020-06-14 13:19:49,111 INFO Welcome to the CDS\n",
      "2020-06-14 13:19:49,112 INFO Sending request to https://cds.climate.copernicus.eu/api/v2/resources/reanalysis-era5-pressure-levels\n",
      "2020-06-14 13:19:50,434 INFO Request is queued\n",
      "2020-06-14 13:19:51,769 INFO Request is running\n",
      "2020-06-14 13:19:53,612 INFO Request is completed\n",
      "2020-06-14 13:19:53,614 INFO Downloading http://136.156.132.153/cache-compute-0002/cache/data0/adaptor.mars.internal-1592097590.6048489-9989-15-caa19256-9993-443e-99ea-311515d6b042.nc to /home/nicolasf/research/CPP/indices/data/ERA5/daily/ERA5_daily_geopotential_1000_2018-04-04.nc (192.2K)\n",
      "2020-06-14 13:19:55,460 INFO Download rate 104.2K/s\n"
     ]
    },
    {
     "name": "stdout",
     "output_type": "stream",
     "text": [
      "downloading /home/nicolasf/research/CPP/indices/data/ERA5/daily/ERA5_daily_geopotential_1000_2018-04-05.nc\n"
     ]
    },
    {
     "name": "stderr",
     "output_type": "stream",
     "text": [
      "2020-06-14 13:19:57,302 INFO Welcome to the CDS\n",
      "2020-06-14 13:19:57,303 INFO Sending request to https://cds.climate.copernicus.eu/api/v2/resources/reanalysis-era5-pressure-levels\n",
      "2020-06-14 13:19:58,531 INFO Request is queued\n",
      "2020-06-14 13:19:59,858 INFO Request is running\n",
      "2020-06-14 13:20:01,702 INFO Request is completed\n",
      "2020-06-14 13:20:01,704 INFO Downloading http://136.156.133.36/cache-compute-0010/cache/data7/adaptor.mars.internal-1592097598.7584465-14733-22-9faff870-e5f0-4ccd-96f5-daa472fbe7d8.nc to /home/nicolasf/research/CPP/indices/data/ERA5/daily/ERA5_daily_geopotential_1000_2018-04-05.nc (192.2K)\n",
      "2020-06-14 13:20:03,550 INFO Download rate 104.2K/s\n"
     ]
    },
    {
     "name": "stdout",
     "output_type": "stream",
     "text": [
      "downloading /home/nicolasf/research/CPP/indices/data/ERA5/daily/ERA5_daily_geopotential_1000_2018-04-06.nc\n"
     ]
    },
    {
     "name": "stderr",
     "output_type": "stream",
     "text": [
      "2020-06-14 13:20:05,187 INFO Welcome to the CDS\n",
      "2020-06-14 13:20:05,188 INFO Sending request to https://cds.climate.copernicus.eu/api/v2/resources/reanalysis-era5-pressure-levels\n",
      "2020-06-14 13:20:06,617 INFO Request is queued\n",
      "2020-06-14 13:20:07,948 INFO Request is running\n",
      "2020-06-14 13:20:09,791 INFO Request is completed\n",
      "2020-06-14 13:20:09,793 INFO Downloading http://136.156.133.42/cache-compute-0014/cache/data1/adaptor.mars.internal-1592097606.885001-11273-11-966b98f7-e26f-463d-a689-597a854688e0.nc to /home/nicolasf/research/CPP/indices/data/ERA5/daily/ERA5_daily_geopotential_1000_2018-04-06.nc (192.2K)\n",
      "2020-06-14 13:20:11,641 INFO Download rate 104.1K/s\n"
     ]
    },
    {
     "name": "stdout",
     "output_type": "stream",
     "text": [
      "downloading /home/nicolasf/research/CPP/indices/data/ERA5/daily/ERA5_daily_geopotential_1000_2018-04-07.nc\n"
     ]
    },
    {
     "name": "stderr",
     "output_type": "stream",
     "text": [
      "2020-06-14 13:20:13,276 INFO Welcome to the CDS\n",
      "2020-06-14 13:20:13,277 INFO Sending request to https://cds.climate.copernicus.eu/api/v2/resources/reanalysis-era5-pressure-levels\n",
      "2020-06-14 13:20:14,808 INFO Request is queued\n",
      "2020-06-14 13:20:16,140 INFO Request is completed\n",
      "2020-06-14 13:20:16,140 INFO Downloading http://136.156.133.41/cache-compute-0013/cache/data5/adaptor.mars.internal-1592097614.6627336-15458-5-e19cf2bb-555b-4d24-8e91-ec083306ecc0.nc to /home/nicolasf/research/CPP/indices/data/ERA5/daily/ERA5_daily_geopotential_1000_2018-04-07.nc (192.2K)\n",
      "2020-06-14 13:20:17,991 INFO Download rate 103.9K/s\n"
     ]
    },
    {
     "name": "stdout",
     "output_type": "stream",
     "text": [
      "downloading /home/nicolasf/research/CPP/indices/data/ERA5/daily/ERA5_daily_geopotential_1000_2018-04-08.nc\n"
     ]
    },
    {
     "name": "stderr",
     "output_type": "stream",
     "text": [
      "2020-06-14 13:20:19,523 INFO Welcome to the CDS\n",
      "2020-06-14 13:20:19,525 INFO Sending request to https://cds.climate.copernicus.eu/api/v2/resources/reanalysis-era5-pressure-levels\n",
      "2020-06-14 13:20:20,752 INFO Request is queued\n",
      "2020-06-14 13:20:22,080 INFO Request is completed\n",
      "2020-06-14 13:20:22,081 INFO Downloading http://136.156.132.210/cache-compute-0005/cache/data3/adaptor.mars.internal-1592097620.952772-5809-1-614ee278-164b-46f6-ad75-e26cc67f1b26.nc to /home/nicolasf/research/CPP/indices/data/ERA5/daily/ERA5_daily_geopotential_1000_2018-04-08.nc (192.2K)\n",
      "2020-06-14 13:20:23,927 INFO Download rate 104.2K/s\n"
     ]
    },
    {
     "name": "stdout",
     "output_type": "stream",
     "text": [
      "downloading /home/nicolasf/research/CPP/indices/data/ERA5/daily/ERA5_daily_geopotential_1000_2018-04-09.nc\n"
     ]
    },
    {
     "name": "stderr",
     "output_type": "stream",
     "text": [
      "2020-06-14 13:20:25,769 INFO Welcome to the CDS\n",
      "2020-06-14 13:20:25,770 INFO Sending request to https://cds.climate.copernicus.eu/api/v2/resources/reanalysis-era5-pressure-levels\n",
      "2020-06-14 13:20:27,055 INFO Request is queued\n",
      "2020-06-14 13:20:28,429 INFO Request is running\n",
      "2020-06-14 13:20:30,271 INFO Request is completed\n",
      "2020-06-14 13:20:30,273 INFO Downloading http://136.156.133.25/cache-compute-0008/cache/data6/adaptor.mars.internal-1592097627.418403-26626-18-ba12fbf0-5524-4c86-8258-831a752a0bf0.nc to /home/nicolasf/research/CPP/indices/data/ERA5/daily/ERA5_daily_geopotential_1000_2018-04-09.nc (192.2K)\n",
      "2020-06-14 13:20:32,121 INFO Download rate 104.1K/s\n"
     ]
    },
    {
     "name": "stdout",
     "output_type": "stream",
     "text": [
      "downloading /home/nicolasf/research/CPP/indices/data/ERA5/daily/ERA5_daily_geopotential_1000_2018-04-10.nc\n"
     ]
    },
    {
     "name": "stderr",
     "output_type": "stream",
     "text": [
      "2020-06-14 13:20:33,757 INFO Welcome to the CDS\n",
      "2020-06-14 13:20:33,757 INFO Sending request to https://cds.climate.copernicus.eu/api/v2/resources/reanalysis-era5-pressure-levels\n",
      "2020-06-14 13:20:35,021 INFO Request is queued\n",
      "2020-06-14 13:20:36,416 INFO Request is completed\n",
      "2020-06-14 13:20:36,418 INFO Downloading http://136.156.132.210/cache-compute-0005/cache/data4/adaptor.mars.internal-1592097635.0952322-27421-28-eaf0ea02-ee8c-4e6b-85dc-e7a93a531daf.nc to /home/nicolasf/research/CPP/indices/data/ERA5/daily/ERA5_daily_geopotential_1000_2018-04-10.nc (192.2K)\n",
      "2020-06-14 13:20:38,266 INFO Download rate 104.1K/s\n"
     ]
    },
    {
     "name": "stdout",
     "output_type": "stream",
     "text": [
      "downloading /home/nicolasf/research/CPP/indices/data/ERA5/daily/ERA5_daily_geopotential_1000_2018-04-11.nc\n"
     ]
    },
    {
     "name": "stderr",
     "output_type": "stream",
     "text": [
      "2020-06-14 13:20:39,798 INFO Welcome to the CDS\n",
      "2020-06-14 13:20:39,799 INFO Sending request to https://cds.climate.copernicus.eu/api/v2/resources/reanalysis-era5-pressure-levels\n",
      "2020-06-14 13:20:41,031 INFO Request is queued\n",
      "2020-06-14 13:20:42,355 INFO Request is completed\n",
      "2020-06-14 13:20:42,357 INFO Downloading http://136.156.132.201/cache-compute-0004/cache/data1/adaptor.mars.internal-1592097641.0015612-11696-24-fa59eebc-1feb-4d1e-86b2-27578d559306.nc to /home/nicolasf/research/CPP/indices/data/ERA5/daily/ERA5_daily_geopotential_1000_2018-04-11.nc (192.2K)\n",
      "2020-06-14 13:20:44,204 INFO Download rate 104.1K/s\n"
     ]
    },
    {
     "name": "stdout",
     "output_type": "stream",
     "text": [
      "downloading /home/nicolasf/research/CPP/indices/data/ERA5/daily/ERA5_daily_geopotential_1000_2018-04-12.nc\n"
     ]
    },
    {
     "name": "stderr",
     "output_type": "stream",
     "text": [
      "2020-06-14 13:20:45,840 INFO Welcome to the CDS\n",
      "2020-06-14 13:20:45,840 INFO Sending request to https://cds.climate.copernicus.eu/api/v2/resources/reanalysis-era5-pressure-levels\n",
      "2020-06-14 13:20:47,117 INFO Request is queued\n",
      "2020-06-14 13:20:48,499 INFO Request is completed\n",
      "2020-06-14 13:20:48,501 INFO Downloading http://136.156.132.110/cache-compute-0001/cache/data7/adaptor.mars.internal-1592097647.1116674-12258-18-47aaba6d-4442-4781-874e-77209eb9af96.nc to /home/nicolasf/research/CPP/indices/data/ERA5/daily/ERA5_daily_geopotential_1000_2018-04-12.nc (192.2K)\n",
      "2020-06-14 13:20:50,349 INFO Download rate 104.1K/s\n"
     ]
    },
    {
     "name": "stdout",
     "output_type": "stream",
     "text": [
      "downloading /home/nicolasf/research/CPP/indices/data/ERA5/daily/ERA5_daily_geopotential_1000_2018-04-13.nc\n"
     ]
    },
    {
     "name": "stderr",
     "output_type": "stream",
     "text": [
      "2020-06-14 13:20:52,189 INFO Welcome to the CDS\n",
      "2020-06-14 13:20:52,189 INFO Sending request to https://cds.climate.copernicus.eu/api/v2/resources/reanalysis-era5-pressure-levels\n",
      "2020-06-14 13:20:53,469 INFO Request is queued\n",
      "2020-06-14 13:20:54,848 INFO Request is running\n",
      "2020-06-14 13:20:56,691 INFO Request is completed\n",
      "2020-06-14 13:20:56,693 INFO Downloading http://136.156.132.235/cache-compute-0006/cache/data0/adaptor.mars.internal-1592097653.9575448-31118-24-7025580b-90a3-42c4-83e9-e12ce665ca87.nc to /home/nicolasf/research/CPP/indices/data/ERA5/daily/ERA5_daily_geopotential_1000_2018-04-13.nc (192.2K)\n",
      "2020-06-14 13:21:00,074 INFO Download rate 56.9K/s \n"
     ]
    },
    {
     "name": "stdout",
     "output_type": "stream",
     "text": [
      "downloading /home/nicolasf/research/CPP/indices/data/ERA5/daily/ERA5_daily_geopotential_1000_2018-04-14.nc\n"
     ]
    },
    {
     "name": "stderr",
     "output_type": "stream",
     "text": [
      "2020-06-14 13:21:01,610 INFO Welcome to the CDS\n",
      "2020-06-14 13:21:01,611 INFO Sending request to https://cds.climate.copernicus.eu/api/v2/resources/reanalysis-era5-pressure-levels\n",
      "2020-06-14 13:21:02,884 INFO Request is queued\n",
      "2020-06-14 13:21:04,269 INFO Request is completed\n",
      "2020-06-14 13:21:04,271 INFO Downloading http://136.156.133.39/cache-compute-0012/cache/data1/adaptor.mars.internal-1592097662.95596-1646-24-9de2e1e6-9c8b-4e8c-adea-e77cc4b73c25.nc to /home/nicolasf/research/CPP/indices/data/ERA5/daily/ERA5_daily_geopotential_1000_2018-04-14.nc (192.2K)\n",
      "2020-06-14 13:21:06,119 INFO Download rate 104.1K/s\n"
     ]
    },
    {
     "name": "stdout",
     "output_type": "stream",
     "text": [
      "downloading /home/nicolasf/research/CPP/indices/data/ERA5/daily/ERA5_daily_geopotential_1000_2018-04-15.nc\n"
     ]
    },
    {
     "name": "stderr",
     "output_type": "stream",
     "text": [
      "2020-06-14 13:21:07,958 INFO Welcome to the CDS\n",
      "2020-06-14 13:21:07,959 INFO Sending request to https://cds.climate.copernicus.eu/api/v2/resources/reanalysis-era5-pressure-levels\n",
      "2020-06-14 13:21:09,260 INFO Request is queued\n",
      "2020-06-14 13:21:10,618 INFO Request is running\n",
      "2020-06-14 13:21:12,461 INFO Request is completed\n",
      "2020-06-14 13:21:12,463 INFO Downloading http://136.156.132.105/cache-compute-0000/cache/data6/adaptor.mars.internal-1592097669.6941447-30652-19-5ad5c085-c764-4fa3-a956-f27038e6d332.nc to /home/nicolasf/research/CPP/indices/data/ERA5/daily/ERA5_daily_geopotential_1000_2018-04-15.nc (192.2K)\n",
      "2020-06-14 13:21:14,310 INFO Download rate 104.2K/s\n"
     ]
    },
    {
     "name": "stdout",
     "output_type": "stream",
     "text": [
      "downloading /home/nicolasf/research/CPP/indices/data/ERA5/daily/ERA5_daily_geopotential_1000_2018-04-16.nc\n"
     ]
    },
    {
     "name": "stderr",
     "output_type": "stream",
     "text": [
      "2020-06-14 13:21:15,945 INFO Welcome to the CDS\n",
      "2020-06-14 13:21:15,946 INFO Sending request to https://cds.climate.copernicus.eu/api/v2/resources/reanalysis-era5-pressure-levels\n",
      "2020-06-14 13:21:17,317 INFO Request is queued\n",
      "2020-06-14 13:21:18,605 INFO Request is running\n",
      "2020-06-14 13:21:20,449 INFO Request is completed\n",
      "2020-06-14 13:21:20,451 INFO Downloading http://136.156.133.41/cache-compute-0013/cache/data8/adaptor.mars.internal-1592097677.6203766-16730-1-a138d340-46b4-4eff-b556-c18ce20e0261.nc to /home/nicolasf/research/CPP/indices/data/ERA5/daily/ERA5_daily_geopotential_1000_2018-04-16.nc (192.2K)\n",
      "2020-06-14 13:21:22,298 INFO Download rate 104.1K/s\n"
     ]
    },
    {
     "name": "stdout",
     "output_type": "stream",
     "text": [
      "downloading /home/nicolasf/research/CPP/indices/data/ERA5/daily/ERA5_daily_geopotential_1000_2018-04-17.nc\n"
     ]
    },
    {
     "name": "stderr",
     "output_type": "stream",
     "text": [
      "2020-06-14 13:21:24,240 INFO Welcome to the CDS\n",
      "2020-06-14 13:21:24,241 INFO Sending request to https://cds.climate.copernicus.eu/api/v2/resources/reanalysis-era5-pressure-levels\n",
      "2020-06-14 13:21:25,575 INFO Request is queued\n",
      "2020-06-14 13:21:26,899 INFO Request is running\n",
      "2020-06-14 13:21:28,742 INFO Request is completed\n",
      "2020-06-14 13:21:28,745 INFO Downloading http://136.156.133.32/cache-compute-0009/cache/data0/adaptor.mars.internal-1592097685.5414343-30276-36-2e357a63-282c-4d08-94bb-4a2fca0a7778.nc to /home/nicolasf/research/CPP/indices/data/ERA5/daily/ERA5_daily_geopotential_1000_2018-04-17.nc (192.2K)\n",
      "2020-06-14 13:21:30,591 INFO Download rate 104.2K/s\n"
     ]
    },
    {
     "name": "stdout",
     "output_type": "stream",
     "text": [
      "downloading /home/nicolasf/research/CPP/indices/data/ERA5/daily/ERA5_daily_geopotential_1000_2018-04-18.nc\n"
     ]
    },
    {
     "name": "stderr",
     "output_type": "stream",
     "text": [
      "2020-06-14 13:21:32,228 INFO Welcome to the CDS\n",
      "2020-06-14 13:21:32,230 INFO Sending request to https://cds.climate.copernicus.eu/api/v2/resources/reanalysis-era5-pressure-levels\n",
      "2020-06-14 13:21:33,760 INFO Request is queued\n",
      "2020-06-14 13:21:35,091 INFO Request is completed\n",
      "2020-06-14 13:21:35,093 INFO Downloading http://136.156.133.32/cache-compute-0009/cache/data8/adaptor.mars.internal-1592097693.6673887-31026-38-5917716b-64e1-4c84-aa24-239c9ab7584a.nc to /home/nicolasf/research/CPP/indices/data/ERA5/daily/ERA5_daily_geopotential_1000_2018-04-18.nc (192.2K)\n",
      "2020-06-14 13:21:36,939 INFO Download rate 104.2K/s\n"
     ]
    },
    {
     "name": "stdout",
     "output_type": "stream",
     "text": [
      "downloading /home/nicolasf/research/CPP/indices/data/ERA5/daily/ERA5_daily_geopotential_1000_2018-04-19.nc\n"
     ]
    },
    {
     "name": "stderr",
     "output_type": "stream",
     "text": [
      "2020-06-14 13:21:38,577 INFO Welcome to the CDS\n",
      "2020-06-14 13:21:38,578 INFO Sending request to https://cds.climate.copernicus.eu/api/v2/resources/reanalysis-era5-pressure-levels\n",
      "2020-06-14 13:21:39,869 INFO Request is queued\n",
      "2020-06-14 13:21:41,236 INFO Request is completed\n",
      "2020-06-14 13:21:41,237 INFO Downloading http://136.156.133.36/cache-compute-0010/cache/data1/adaptor.mars.internal-1592097700.1292946-20643-13-26f2f914-437e-4d85-8262-8bc21a3dfc23.nc to /home/nicolasf/research/CPP/indices/data/ERA5/daily/ERA5_daily_geopotential_1000_2018-04-19.nc (192.2K)\n",
      "2020-06-14 13:21:43,089 INFO Download rate 104K/s  \n"
     ]
    },
    {
     "name": "stdout",
     "output_type": "stream",
     "text": [
      "downloading /home/nicolasf/research/CPP/indices/data/ERA5/daily/ERA5_daily_geopotential_1000_2018-04-20.nc\n"
     ]
    },
    {
     "name": "stderr",
     "output_type": "stream",
     "text": [
      "2020-06-14 13:21:44,619 INFO Welcome to the CDS\n",
      "2020-06-14 13:21:44,620 INFO Sending request to https://cds.climate.copernicus.eu/api/v2/resources/reanalysis-era5-pressure-levels\n",
      "2020-06-14 13:21:46,253 INFO Request is queued\n",
      "2020-06-14 13:21:47,534 INFO Request is completed\n",
      "2020-06-14 13:21:47,536 INFO Downloading http://136.156.132.198/cache-compute-0003/cache/data2/adaptor.mars.internal-1592097706.3135085-29263-3-a0a4f2d7-fe81-42e2-929b-cd603383468b.nc to /home/nicolasf/research/CPP/indices/data/ERA5/daily/ERA5_daily_geopotential_1000_2018-04-20.nc (192.2K)\n",
      "2020-06-14 13:21:49,434 INFO Download rate 101.4K/s\n"
     ]
    },
    {
     "name": "stdout",
     "output_type": "stream",
     "text": [
      "downloading /home/nicolasf/research/CPP/indices/data/ERA5/daily/ERA5_daily_geopotential_1000_2018-04-21.nc\n"
     ]
    },
    {
     "name": "stderr",
     "output_type": "stream",
     "text": [
      "2020-06-14 13:21:51,551 INFO Welcome to the CDS\n",
      "2020-06-14 13:21:51,553 INFO Sending request to https://cds.climate.copernicus.eu/api/v2/resources/reanalysis-era5-pressure-levels\n",
      "2020-06-14 13:21:53,523 INFO Request is queued\n",
      "2020-06-14 13:21:54,855 INFO Request is running\n",
      "2020-06-14 13:21:56,698 INFO Request is completed\n",
      "2020-06-14 13:21:56,700 INFO Downloading http://136.156.133.32/cache-compute-0009/cache/data7/adaptor.mars.internal-1592097714.4306898-11826-1-477e0754-af79-47a8-b964-52388b102b96.nc to /home/nicolasf/research/CPP/indices/data/ERA5/daily/ERA5_daily_geopotential_1000_2018-04-21.nc (192.2K)\n",
      "2020-06-14 13:21:58,548 INFO Download rate 104.1K/s\n"
     ]
    },
    {
     "name": "stdout",
     "output_type": "stream",
     "text": [
      "downloading /home/nicolasf/research/CPP/indices/data/ERA5/daily/ERA5_daily_geopotential_1000_2018-04-22.nc\n"
     ]
    },
    {
     "name": "stderr",
     "output_type": "stream",
     "text": [
      "2020-06-14 13:22:01,002 INFO Welcome to the CDS\n",
      "2020-06-14 13:22:01,003 INFO Sending request to https://cds.climate.copernicus.eu/api/v2/resources/reanalysis-era5-pressure-levels\n",
      "2020-06-14 13:22:02,395 INFO Request is queued\n",
      "2020-06-14 13:22:03,764 INFO Request is running\n",
      "2020-06-14 13:22:05,606 INFO Request is completed\n",
      "2020-06-14 13:22:05,608 INFO Downloading http://136.156.133.39/cache-compute-0012/cache/data5/adaptor.mars.internal-1592097722.3875556-3787-20-1028fafb-15b0-4ffe-b0ff-01ccfae59d53.nc to /home/nicolasf/research/CPP/indices/data/ERA5/daily/ERA5_daily_geopotential_1000_2018-04-22.nc (192.2K)\n",
      "2020-06-14 13:22:07,455 INFO Download rate 104.2K/s\n"
     ]
    },
    {
     "name": "stdout",
     "output_type": "stream",
     "text": [
      "downloading /home/nicolasf/research/CPP/indices/data/ERA5/daily/ERA5_daily_geopotential_1000_2018-04-23.nc\n"
     ]
    },
    {
     "name": "stderr",
     "output_type": "stream",
     "text": [
      "2020-06-14 13:22:09,297 INFO Welcome to the CDS\n",
      "2020-06-14 13:22:09,298 INFO Sending request to https://cds.climate.copernicus.eu/api/v2/resources/reanalysis-era5-pressure-levels\n",
      "2020-06-14 13:22:10,570 INFO Request is queued\n",
      "2020-06-14 13:22:11,856 INFO Request is completed\n",
      "2020-06-14 13:22:11,858 INFO Downloading http://136.156.132.201/cache-compute-0004/cache/data7/adaptor.mars.internal-1592097730.5330138-15674-16-1bffc8b9-6630-4657-8f00-b504f409d95c.nc to /home/nicolasf/research/CPP/indices/data/ERA5/daily/ERA5_daily_geopotential_1000_2018-04-23.nc (192.2K)\n",
      "2020-06-14 13:22:13,701 INFO Download rate 104.5K/s\n"
     ]
    },
    {
     "name": "stdout",
     "output_type": "stream",
     "text": [
      "downloading /home/nicolasf/research/CPP/indices/data/ERA5/daily/ERA5_daily_geopotential_1000_2018-04-24.nc\n"
     ]
    },
    {
     "name": "stderr",
     "output_type": "stream",
     "text": [
      "2020-06-14 13:22:16,154 INFO Welcome to the CDS\n",
      "2020-06-14 13:22:16,155 INFO Sending request to https://cds.climate.copernicus.eu/api/v2/resources/reanalysis-era5-pressure-levels\n",
      "2020-06-14 13:22:17,587 INFO Request is queued\n",
      "2020-06-14 13:22:18,919 INFO Request is running\n",
      "2020-06-14 13:22:20,762 INFO Request is completed\n",
      "2020-06-14 13:22:20,764 INFO Downloading http://136.156.133.46/cache-compute-0015/cache/data1/adaptor.mars.internal-1592097738.5407758-15669-3-49828c9a-6d19-49a9-ae39-09cbc66edb11.nc to /home/nicolasf/research/CPP/indices/data/ERA5/daily/ERA5_daily_geopotential_1000_2018-04-24.nc (192.2K)\n",
      "2020-06-14 13:22:22,610 INFO Download rate 104.2K/s\n"
     ]
    },
    {
     "name": "stdout",
     "output_type": "stream",
     "text": [
      "downloading /home/nicolasf/research/CPP/indices/data/ERA5/daily/ERA5_daily_geopotential_1000_2018-04-25.nc\n"
     ]
    },
    {
     "name": "stderr",
     "output_type": "stream",
     "text": [
      "2020-06-14 13:22:24,657 INFO Welcome to the CDS\n",
      "2020-06-14 13:22:24,658 INFO Sending request to https://cds.climate.copernicus.eu/api/v2/resources/reanalysis-era5-pressure-levels\n",
      "2020-06-14 13:22:25,963 INFO Request is queued\n",
      "2020-06-14 13:22:27,316 INFO Request is running\n",
      "2020-06-14 13:22:29,159 INFO Request is completed\n",
      "2020-06-14 13:22:29,161 INFO Downloading http://136.156.132.235/cache-compute-0006/cache/data7/adaptor.mars.internal-1592097746.911636-8744-1-9956dd51-5d35-47d9-9666-85fcb822908e.nc to /home/nicolasf/research/CPP/indices/data/ERA5/daily/ERA5_daily_geopotential_1000_2018-04-25.nc (192.2K)\n",
      "2020-06-14 13:22:32,539 INFO Download rate 56.9K/s \n"
     ]
    },
    {
     "name": "stdout",
     "output_type": "stream",
     "text": [
      "downloading /home/nicolasf/research/CPP/indices/data/ERA5/daily/ERA5_daily_geopotential_1000_2018-04-26.nc\n"
     ]
    },
    {
     "name": "stderr",
     "output_type": "stream",
     "text": [
      "2020-06-14 13:22:34,180 INFO Welcome to the CDS\n",
      "2020-06-14 13:22:34,180 INFO Sending request to https://cds.climate.copernicus.eu/api/v2/resources/reanalysis-era5-pressure-levels\n",
      "2020-06-14 13:22:35,731 INFO Request is queued\n",
      "2020-06-14 13:22:37,044 INFO Request is running\n",
      "2020-06-14 13:22:38,887 INFO Request is completed\n",
      "2020-06-14 13:22:38,889 INFO Downloading http://136.156.133.36/cache-compute-0010/cache/data7/adaptor.mars.internal-1592097756.114703-15517-21-0581c780-5d0c-4df0-9944-e15b6c7b642a.nc to /home/nicolasf/research/CPP/indices/data/ERA5/daily/ERA5_daily_geopotential_1000_2018-04-26.nc (192.2K)\n",
      "2020-06-14 13:22:41,041 INFO Download rate 89.4K/s \n"
     ]
    },
    {
     "name": "stdout",
     "output_type": "stream",
     "text": [
      "downloading /home/nicolasf/research/CPP/indices/data/ERA5/daily/ERA5_daily_geopotential_1000_2018-04-27.nc\n"
     ]
    },
    {
     "name": "stderr",
     "output_type": "stream",
     "text": [
      "2020-06-14 13:22:42,679 INFO Welcome to the CDS\n",
      "2020-06-14 13:22:42,680 INFO Sending request to https://cds.climate.copernicus.eu/api/v2/resources/reanalysis-era5-pressure-levels\n",
      "2020-06-14 13:22:44,109 INFO Request is queued\n",
      "2020-06-14 13:22:45,440 INFO Request is running\n",
      "2020-06-14 13:22:47,284 INFO Request is completed\n",
      "2020-06-14 13:22:47,286 INFO Downloading http://136.156.133.46/cache-compute-0015/cache/data1/adaptor.mars.internal-1592097764.5107465-15792-3-6e96cec4-b267-463f-8f32-1f6911a7f79a.nc to /home/nicolasf/research/CPP/indices/data/ERA5/daily/ERA5_daily_geopotential_1000_2018-04-27.nc (192.2K)\n",
      "2020-06-14 13:22:49,135 INFO Download rate 104K/s  \n"
     ]
    },
    {
     "name": "stdout",
     "output_type": "stream",
     "text": [
      "downloading /home/nicolasf/research/CPP/indices/data/ERA5/daily/ERA5_daily_geopotential_1000_2018-04-28.nc\n"
     ]
    },
    {
     "name": "stderr",
     "output_type": "stream",
     "text": [
      "2020-06-14 13:22:50,974 INFO Welcome to the CDS\n",
      "2020-06-14 13:22:50,975 INFO Sending request to https://cds.climate.copernicus.eu/api/v2/resources/reanalysis-era5-pressure-levels\n",
      "2020-06-14 13:22:52,403 INFO Request is queued\n",
      "2020-06-14 13:22:53,735 INFO Request is running\n",
      "2020-06-14 13:22:55,578 INFO Request is completed\n",
      "2020-06-14 13:22:55,579 INFO Downloading http://136.156.133.41/cache-compute-0013/cache/data4/adaptor.mars.internal-1592097772.7328558-10258-18-f0b22746-ed62-493c-9b73-de1e20eb1e48.nc to /home/nicolasf/research/CPP/indices/data/ERA5/daily/ERA5_daily_geopotential_1000_2018-04-28.nc (192.2K)\n",
      "2020-06-14 13:22:57,398 INFO Download rate 105.7K/s\n"
     ]
    },
    {
     "name": "stdout",
     "output_type": "stream",
     "text": [
      "downloading /home/nicolasf/research/CPP/indices/data/ERA5/daily/ERA5_daily_geopotential_1000_2018-04-29.nc\n"
     ]
    },
    {
     "name": "stderr",
     "output_type": "stream",
     "text": [
      "2020-06-14 13:22:59,064 INFO Welcome to the CDS\n",
      "2020-06-14 13:22:59,065 INFO Sending request to https://cds.climate.copernicus.eu/api/v2/resources/reanalysis-era5-pressure-levels\n",
      "2020-06-14 13:23:01,108 INFO Request is queued\n",
      "2020-06-14 13:23:02,439 INFO Request is running\n",
      "2020-06-14 13:23:04,282 INFO Request is completed\n",
      "2020-06-14 13:23:04,285 INFO Downloading http://136.156.132.201/cache-compute-0004/cache/data1/adaptor.mars.internal-1592097781.1777177-13295-11-bec1dda3-fb8c-4b22-a54f-7a10fe1d0551.nc to /home/nicolasf/research/CPP/indices/data/ERA5/daily/ERA5_daily_geopotential_1000_2018-04-29.nc (192.2K)\n",
      "2020-06-14 13:23:06,130 INFO Download rate 104.3K/s\n"
     ]
    },
    {
     "name": "stdout",
     "output_type": "stream",
     "text": [
      "downloading /home/nicolasf/research/CPP/indices/data/ERA5/daily/ERA5_daily_geopotential_1000_2018-04-30.nc\n"
     ]
    },
    {
     "name": "stderr",
     "output_type": "stream",
     "text": [
      "2020-06-14 13:23:07,767 INFO Welcome to the CDS\n",
      "2020-06-14 13:23:07,768 INFO Sending request to https://cds.climate.copernicus.eu/api/v2/resources/reanalysis-era5-pressure-levels\n",
      "2020-06-14 13:23:09,034 INFO Request is queued\n",
      "2020-06-14 13:23:10,425 INFO Request is running\n",
      "2020-06-14 13:23:12,270 INFO Request is completed\n",
      "2020-06-14 13:23:12,272 INFO Downloading http://136.156.132.198/cache-compute-0003/cache/data3/adaptor.mars.internal-1592097789.1305788-22146-24-451ded2c-aed2-46f4-b429-bc59dbcc2eb0.nc to /home/nicolasf/research/CPP/indices/data/ERA5/daily/ERA5_daily_geopotential_1000_2018-04-30.nc (192.2K)\n",
      "2020-06-14 13:23:14,119 INFO Download rate 104.2K/s\n"
     ]
    },
    {
     "name": "stdout",
     "output_type": "stream",
     "text": [
      "downloading /home/nicolasf/research/CPP/indices/data/ERA5/daily/ERA5_daily_geopotential_1000_2018-05-01.nc\n"
     ]
    },
    {
     "name": "stderr",
     "output_type": "stream",
     "text": [
      "2020-06-14 13:23:15,653 INFO Welcome to the CDS\n",
      "2020-06-14 13:23:15,654 INFO Sending request to https://cds.climate.copernicus.eu/api/v2/resources/reanalysis-era5-pressure-levels\n",
      "2020-06-14 13:23:16,967 INFO Request is queued\n",
      "2020-06-14 13:23:18,311 INFO Request is completed\n",
      "2020-06-14 13:23:18,313 INFO Downloading http://136.156.132.210/cache-compute-0005/cache/data6/adaptor.mars.internal-1592097797.085109-30031-22-5e0456bd-19fc-4bda-a7fd-5c0676edfcd1.nc to /home/nicolasf/research/CPP/indices/data/ERA5/daily/ERA5_daily_geopotential_1000_2018-05-01.nc (192.2K)\n",
      "2020-06-14 13:23:20,161 INFO Download rate 104.1K/s\n"
     ]
    },
    {
     "name": "stdout",
     "output_type": "stream",
     "text": [
      "downloading /home/nicolasf/research/CPP/indices/data/ERA5/daily/ERA5_daily_geopotential_1000_2018-05-02.nc\n"
     ]
    },
    {
     "name": "stderr",
     "output_type": "stream",
     "text": [
      "2020-06-14 13:23:21,694 INFO Welcome to the CDS\n",
      "2020-06-14 13:23:21,695 INFO Sending request to https://cds.climate.copernicus.eu/api/v2/resources/reanalysis-era5-pressure-levels\n",
      "2020-06-14 13:23:22,958 INFO Request is queued\n",
      "2020-06-14 13:23:24,353 INFO Request is completed\n",
      "2020-06-14 13:23:24,355 INFO Downloading http://136.156.132.201/cache-compute-0004/cache/data4/adaptor.mars.internal-1592097802.9689403-21338-3-dd693256-5b60-4dbc-b2fa-829157f29e61.nc to /home/nicolasf/research/CPP/indices/data/ERA5/daily/ERA5_daily_geopotential_1000_2018-05-02.nc (192.2K)\n",
      "2020-06-14 13:23:25,899 INFO Download rate 124.6K/s\n"
     ]
    },
    {
     "name": "stdout",
     "output_type": "stream",
     "text": [
      "downloading /home/nicolasf/research/CPP/indices/data/ERA5/daily/ERA5_daily_geopotential_1000_2018-05-03.nc\n"
     ]
    },
    {
     "name": "stderr",
     "output_type": "stream",
     "text": [
      "2020-06-14 13:23:27,531 INFO Welcome to the CDS\n",
      "2020-06-14 13:23:27,532 INFO Sending request to https://cds.climate.copernicus.eu/api/v2/resources/reanalysis-era5-pressure-levels\n",
      "2020-06-14 13:23:28,961 INFO Request is queued\n",
      "2020-06-14 13:23:30,293 INFO Request is running\n",
      "2020-06-14 13:23:32,134 INFO Request is completed\n",
      "2020-06-14 13:23:32,134 INFO Downloading http://136.156.132.105/cache-compute-0000/cache/data7/adaptor.mars.internal-1592097809.503634-5450-11-eebb9dd0-8a72-4a25-b9f8-1caa9b2881ec.nc to /home/nicolasf/research/CPP/indices/data/ERA5/daily/ERA5_daily_geopotential_1000_2018-05-03.nc (192.2K)\n",
      "2020-06-14 13:23:33,983 INFO Download rate 104K/s  \n"
     ]
    },
    {
     "name": "stdout",
     "output_type": "stream",
     "text": [
      "downloading /home/nicolasf/research/CPP/indices/data/ERA5/daily/ERA5_daily_geopotential_1000_2018-05-04.nc\n"
     ]
    },
    {
     "name": "stderr",
     "output_type": "stream",
     "text": [
      "2020-06-14 13:23:35,621 INFO Welcome to the CDS\n",
      "2020-06-14 13:23:35,622 INFO Sending request to https://cds.climate.copernicus.eu/api/v2/resources/reanalysis-era5-pressure-levels\n",
      "2020-06-14 13:23:37,358 INFO Request is queued\n",
      "2020-06-14 13:23:38,689 INFO Request is completed\n",
      "2020-06-14 13:23:38,691 INFO Downloading http://136.156.133.37/cache-compute-0011/cache/data7/adaptor.mars.internal-1592097817.225076-6477-37-890c455e-aee0-4c8c-98d7-eac21e6c3379.nc to /home/nicolasf/research/CPP/indices/data/ERA5/daily/ERA5_daily_geopotential_1000_2018-05-04.nc (192.2K)\n",
      "2020-06-14 13:23:40,539 INFO Download rate 104.1K/s\n"
     ]
    },
    {
     "name": "stdout",
     "output_type": "stream",
     "text": [
      "downloading /home/nicolasf/research/CPP/indices/data/ERA5/daily/ERA5_daily_geopotential_1000_2018-05-05.nc\n"
     ]
    },
    {
     "name": "stderr",
     "output_type": "stream",
     "text": [
      "2020-06-14 13:23:42,171 INFO Welcome to the CDS\n",
      "2020-06-14 13:23:42,172 INFO Sending request to https://cds.climate.copernicus.eu/api/v2/resources/reanalysis-era5-pressure-levels\n",
      "2020-06-14 13:23:43,706 INFO Request is queued\n",
      "2020-06-14 13:23:45,038 INFO Request is completed\n",
      "2020-06-14 13:23:45,040 INFO Downloading http://136.156.133.36/cache-compute-0010/cache/data5/adaptor.mars.internal-1592097823.606481-16951-20-2c329bf3-8e24-478e-8667-72d0c099c7bc.nc to /home/nicolasf/research/CPP/indices/data/ERA5/daily/ERA5_daily_geopotential_1000_2018-05-05.nc (192.2K)\n",
      "2020-06-14 13:23:46,892 INFO Download rate 103.9K/s\n"
     ]
    },
    {
     "name": "stdout",
     "output_type": "stream",
     "text": [
      "downloading /home/nicolasf/research/CPP/indices/data/ERA5/daily/ERA5_daily_geopotential_1000_2018-05-06.nc\n"
     ]
    },
    {
     "name": "stderr",
     "output_type": "stream",
     "text": [
      "2020-06-14 13:23:48,421 INFO Welcome to the CDS\n",
      "2020-06-14 13:23:48,422 INFO Sending request to https://cds.climate.copernicus.eu/api/v2/resources/reanalysis-era5-pressure-levels\n",
      "2020-06-14 13:23:50,664 INFO Request is queued\n",
      "2020-06-14 13:23:52,001 INFO Request is running\n",
      "2020-06-14 13:23:53,844 INFO Request is completed\n",
      "2020-06-14 13:23:53,846 INFO Downloading http://136.156.132.153/cache-compute-0002/cache/data7/adaptor.mars.internal-1592097831.2474153-17505-5-1799408b-c491-4ccd-8b3f-f4885f2f17c9.nc to /home/nicolasf/research/CPP/indices/data/ERA5/daily/ERA5_daily_geopotential_1000_2018-05-06.nc (192.2K)\n",
      "2020-06-14 13:23:55,694 INFO Download rate 104.2K/s\n"
     ]
    },
    {
     "name": "stdout",
     "output_type": "stream",
     "text": [
      "downloading /home/nicolasf/research/CPP/indices/data/ERA5/daily/ERA5_daily_geopotential_1000_2018-05-07.nc\n"
     ]
    },
    {
     "name": "stderr",
     "output_type": "stream",
     "text": [
      "2020-06-14 13:23:57,535 INFO Welcome to the CDS\n",
      "2020-06-14 13:23:57,535 INFO Sending request to https://cds.climate.copernicus.eu/api/v2/resources/reanalysis-era5-pressure-levels\n",
      "2020-06-14 13:23:59,476 INFO Request is queued\n",
      "2020-06-14 13:24:00,808 INFO Request is running\n",
      "2020-06-14 13:24:02,651 INFO Request is completed\n",
      "2020-06-14 13:24:02,653 INFO Downloading http://136.156.132.210/cache-compute-0005/cache/data4/adaptor.mars.internal-1592097839.7178087-29949-24-81c74c6e-a9a6-420d-9c2d-5a6ba999d081.nc to /home/nicolasf/research/CPP/indices/data/ERA5/daily/ERA5_daily_geopotential_1000_2018-05-07.nc (192.2K)\n",
      "2020-06-14 13:24:04,463 INFO Download rate 106.3K/s\n"
     ]
    },
    {
     "name": "stdout",
     "output_type": "stream",
     "text": [
      "downloading /home/nicolasf/research/CPP/indices/data/ERA5/daily/ERA5_daily_geopotential_1000_2018-05-08.nc\n"
     ]
    },
    {
     "name": "stderr",
     "output_type": "stream",
     "text": [
      "2020-06-14 13:24:06,136 INFO Welcome to the CDS\n",
      "2020-06-14 13:24:06,137 INFO Sending request to https://cds.climate.copernicus.eu/api/v2/resources/reanalysis-era5-pressure-levels\n",
      "2020-06-14 13:24:07,459 INFO Request is queued\n",
      "2020-06-14 13:24:08,795 INFO Request is completed\n",
      "2020-06-14 13:24:08,797 INFO Downloading http://136.156.133.32/cache-compute-0009/cache/data7/adaptor.mars.internal-1592097847.4733965-12557-1-3d2a8e26-968e-48ae-a61f-74be118468f4.nc to /home/nicolasf/research/CPP/indices/data/ERA5/daily/ERA5_daily_geopotential_1000_2018-05-08.nc (192.2K)\n",
      "2020-06-14 13:24:10,644 INFO Download rate 104.1K/s\n"
     ]
    },
    {
     "name": "stdout",
     "output_type": "stream",
     "text": [
      "downloading /home/nicolasf/research/CPP/indices/data/ERA5/daily/ERA5_daily_geopotential_1000_2018-05-09.nc\n"
     ]
    },
    {
     "name": "stderr",
     "output_type": "stream",
     "text": [
      "2020-06-14 13:24:12,382 INFO Welcome to the CDS\n",
      "2020-06-14 13:24:12,383 INFO Sending request to https://cds.climate.copernicus.eu/api/v2/resources/reanalysis-era5-pressure-levels\n",
      "2020-06-14 13:24:14,530 INFO Request is queued\n",
      "2020-06-14 13:24:15,861 INFO Request is running\n",
      "2020-06-14 13:24:17,704 INFO Request is completed\n",
      "2020-06-14 13:24:17,706 INFO Downloading http://136.156.132.236/cache-compute-0007/cache/data6/adaptor.mars.internal-1592097854.684534-19344-7-ab05d87f-34be-44f2-90b8-fe30937064e3.nc to /home/nicolasf/research/CPP/indices/data/ERA5/daily/ERA5_daily_geopotential_1000_2018-05-09.nc (192.2K)\n",
      "2020-06-14 13:24:19,551 INFO Download rate 104.2K/s\n"
     ]
    },
    {
     "name": "stdout",
     "output_type": "stream",
     "text": [
      "downloading /home/nicolasf/research/CPP/indices/data/ERA5/daily/ERA5_daily_geopotential_1000_2018-05-10.nc\n"
     ]
    },
    {
     "name": "stderr",
     "output_type": "stream",
     "text": [
      "2020-06-14 13:24:21,599 INFO Welcome to the CDS\n",
      "2020-06-14 13:24:21,600 INFO Sending request to https://cds.climate.copernicus.eu/api/v2/resources/reanalysis-era5-pressure-levels\n",
      "2020-06-14 13:24:22,825 INFO Request is queued\n",
      "2020-06-14 13:24:24,155 INFO Request is completed\n",
      "2020-06-14 13:24:24,157 INFO Downloading http://136.156.133.25/cache-compute-0008/cache/data5/adaptor.mars.internal-1592097862.8302877-1126-9-ee52326a-dc6f-45ac-9d1c-cf58d851355c.nc to /home/nicolasf/research/CPP/indices/data/ERA5/daily/ERA5_daily_geopotential_1000_2018-05-10.nc (192.2K)\n",
      "2020-06-14 13:24:25,973 INFO Download rate 106K/s  \n"
     ]
    },
    {
     "name": "stdout",
     "output_type": "stream",
     "text": [
      "downloading /home/nicolasf/research/CPP/indices/data/ERA5/daily/ERA5_daily_geopotential_1000_2018-05-11.nc\n"
     ]
    },
    {
     "name": "stderr",
     "output_type": "stream",
     "text": [
      "2020-06-14 13:24:27,743 INFO Welcome to the CDS\n",
      "2020-06-14 13:24:27,744 INFO Sending request to https://cds.climate.copernicus.eu/api/v2/resources/reanalysis-era5-pressure-levels\n",
      "2020-06-14 13:24:28,987 INFO Request is queued\n",
      "2020-06-14 13:24:30,299 INFO Request is running\n",
      "2020-06-14 13:24:32,143 INFO Request is completed\n",
      "2020-06-14 13:24:32,144 INFO Downloading http://136.156.132.110/cache-compute-0001/cache/data3/adaptor.mars.internal-1592097869.4844267-12090-30-99a938aa-ea16-45fb-87bf-ab569aafa660.nc to /home/nicolasf/research/CPP/indices/data/ERA5/daily/ERA5_daily_geopotential_1000_2018-05-11.nc (192.2K)\n",
      "2020-06-14 13:24:33,992 INFO Download rate 104.2K/s\n"
     ]
    },
    {
     "name": "stdout",
     "output_type": "stream",
     "text": [
      "downloading /home/nicolasf/research/CPP/indices/data/ERA5/daily/ERA5_daily_geopotential_1000_2018-05-12.nc\n"
     ]
    },
    {
     "name": "stderr",
     "output_type": "stream",
     "text": [
      "2020-06-14 13:24:35,833 INFO Welcome to the CDS\n",
      "2020-06-14 13:24:35,833 INFO Sending request to https://cds.climate.copernicus.eu/api/v2/resources/reanalysis-era5-pressure-levels\n",
      "2020-06-14 13:24:37,102 INFO Request is queued\n",
      "2020-06-14 13:24:38,491 INFO Request is completed\n",
      "2020-06-14 13:24:38,493 INFO Downloading http://136.156.133.36/cache-compute-0010/cache/data5/adaptor.mars.internal-1592097877.0929873-23279-9-141db35e-1f78-4582-993f-4afe304147e3.nc to /home/nicolasf/research/CPP/indices/data/ERA5/daily/ERA5_daily_geopotential_1000_2018-05-12.nc (192.2K)\n",
      "2020-06-14 13:24:40,341 INFO Download rate 104.1K/s\n"
     ]
    },
    {
     "name": "stdout",
     "output_type": "stream",
     "text": [
      "downloading /home/nicolasf/research/CPP/indices/data/ERA5/daily/ERA5_daily_geopotential_1000_2018-05-13.nc\n"
     ]
    },
    {
     "name": "stderr",
     "output_type": "stream",
     "text": [
      "2020-06-14 13:24:42,795 INFO Welcome to the CDS\n",
      "2020-06-14 13:24:42,796 INFO Sending request to https://cds.climate.copernicus.eu/api/v2/resources/reanalysis-era5-pressure-levels\n",
      "2020-06-14 13:24:44,328 INFO Request is queued\n",
      "2020-06-14 13:24:45,659 INFO Request is running\n",
      "2020-06-14 13:24:47,503 INFO Request is completed\n",
      "2020-06-14 13:24:47,505 INFO Downloading http://136.156.133.39/cache-compute-0012/cache/data9/adaptor.mars.internal-1592097884.954419-4424-22-074a093c-1797-46b6-abcb-ca37c1ad1538.nc to /home/nicolasf/research/CPP/indices/data/ERA5/daily/ERA5_daily_geopotential_1000_2018-05-13.nc (192.2K)\n",
      "2020-06-14 13:24:49,353 INFO Download rate 104.1K/s\n"
     ]
    },
    {
     "name": "stdout",
     "output_type": "stream",
     "text": [
      "downloading /home/nicolasf/research/CPP/indices/data/ERA5/daily/ERA5_daily_geopotential_1000_2018-05-14.nc\n"
     ]
    },
    {
     "name": "stderr",
     "output_type": "stream",
     "text": [
      "2020-06-14 13:24:50,988 INFO Welcome to the CDS\n",
      "2020-06-14 13:24:50,989 INFO Sending request to https://cds.climate.copernicus.eu/api/v2/resources/reanalysis-era5-pressure-levels\n",
      "2020-06-14 13:24:52,213 INFO Request is queued\n",
      "2020-06-14 13:24:53,544 INFO Request is completed\n",
      "2020-06-14 13:24:53,546 INFO Downloading http://136.156.133.32/cache-compute-0009/cache/data1/adaptor.mars.internal-1592097892.1658158-9337-18-556dd11e-5054-423b-a2be-1b23941028ce.nc to /home/nicolasf/research/CPP/indices/data/ERA5/daily/ERA5_daily_geopotential_1000_2018-05-14.nc (192.2K)\n",
      "2020-06-14 13:24:55,392 INFO Download rate 104.2K/s\n"
     ]
    },
    {
     "name": "stdout",
     "output_type": "stream",
     "text": [
      "downloading /home/nicolasf/research/CPP/indices/data/ERA5/daily/ERA5_daily_geopotential_1000_2018-05-15.nc\n"
     ]
    },
    {
     "name": "stderr",
     "output_type": "stream",
     "text": [
      "2020-06-14 13:24:57,029 INFO Welcome to the CDS\n",
      "2020-06-14 13:24:57,030 INFO Sending request to https://cds.climate.copernicus.eu/api/v2/resources/reanalysis-era5-pressure-levels\n",
      "2020-06-14 13:24:58,459 INFO Request is queued\n",
      "2020-06-14 13:24:59,791 INFO Request is completed\n",
      "2020-06-14 13:24:59,792 INFO Downloading http://136.156.133.42/cache-compute-0014/cache/data9/adaptor.mars.internal-1592097898.369362-16856-7-b95c9f54-3b0f-422d-a835-b471d878863c.nc to /home/nicolasf/research/CPP/indices/data/ERA5/daily/ERA5_daily_geopotential_1000_2018-05-15.nc (192.2K)\n",
      "2020-06-14 13:25:01,640 INFO Download rate 104.1K/s\n"
     ]
    },
    {
     "name": "stdout",
     "output_type": "stream",
     "text": [
      "downloading /home/nicolasf/research/CPP/indices/data/ERA5/daily/ERA5_daily_geopotential_1000_2018-05-16.nc\n"
     ]
    },
    {
     "name": "stderr",
     "output_type": "stream",
     "text": [
      "2020-06-14 13:25:03,276 INFO Welcome to the CDS\n",
      "2020-06-14 13:25:03,277 INFO Sending request to https://cds.climate.copernicus.eu/api/v2/resources/reanalysis-era5-pressure-levels\n",
      "2020-06-14 13:25:04,501 INFO Request is queued\n",
      "2020-06-14 13:25:05,832 INFO Request is completed\n",
      "2020-06-14 13:25:05,835 INFO Downloading http://136.156.133.41/cache-compute-0013/cache/data7/adaptor.mars.internal-1592097904.454901-16145-11-e12d57b0-d3dd-4b1a-b252-7a636ca9f82a.nc to /home/nicolasf/research/CPP/indices/data/ERA5/daily/ERA5_daily_geopotential_1000_2018-05-16.nc (192.2K)\n",
      "2020-06-14 13:25:07,683 INFO Download rate 104.1K/s\n"
     ]
    },
    {
     "name": "stdout",
     "output_type": "stream",
     "text": [
      "downloading /home/nicolasf/research/CPP/indices/data/ERA5/daily/ERA5_daily_geopotential_1000_2018-05-17.nc\n"
     ]
    },
    {
     "name": "stderr",
     "output_type": "stream",
     "text": [
      "2020-06-14 13:25:09,419 INFO Welcome to the CDS\n",
      "2020-06-14 13:25:09,420 INFO Sending request to https://cds.climate.copernicus.eu/api/v2/resources/reanalysis-era5-pressure-levels\n",
      "2020-06-14 13:25:11,157 INFO Request is queued\n",
      "2020-06-14 13:25:12,488 INFO Request is running\n",
      "2020-06-14 13:25:14,275 INFO Request is completed\n",
      "2020-06-14 13:25:14,277 INFO Downloading http://136.156.132.235/cache-compute-0006/cache/data7/adaptor.mars.internal-1592097911.3934712-7344-13-dc8b827d-f875-4e09-8628-523abba94cd0.nc to /home/nicolasf/research/CPP/indices/data/ERA5/daily/ERA5_daily_geopotential_1000_2018-05-17.nc (192.2K)\n",
      "2020-06-14 13:25:17,612 INFO Download rate 57.7K/s \n"
     ]
    },
    {
     "name": "stdout",
     "output_type": "stream",
     "text": [
      "downloading /home/nicolasf/research/CPP/indices/data/ERA5/daily/ERA5_daily_geopotential_1000_2018-05-18.nc\n"
     ]
    },
    {
     "name": "stderr",
     "output_type": "stream",
     "text": [
      "2020-06-14 13:25:19,968 INFO Welcome to the CDS\n",
      "2020-06-14 13:25:19,969 INFO Sending request to https://cds.climate.copernicus.eu/api/v2/resources/reanalysis-era5-pressure-levels\n",
      "2020-06-14 13:25:21,198 INFO Request is queued\n",
      "2020-06-14 13:25:22,524 INFO Request is completed\n",
      "2020-06-14 13:25:22,525 INFO Downloading http://136.156.132.198/cache-compute-0003/cache/data9/adaptor.mars.internal-1592097921.1855755-29332-11-fc6790e7-db9e-4dba-bdea-36f7670f704c.nc to /home/nicolasf/research/CPP/indices/data/ERA5/daily/ERA5_daily_geopotential_1000_2018-05-18.nc (192.2K)\n",
      "2020-06-14 13:25:24,371 INFO Download rate 104.2K/s\n"
     ]
    },
    {
     "name": "stdout",
     "output_type": "stream",
     "text": [
      "downloading /home/nicolasf/research/CPP/indices/data/ERA5/daily/ERA5_daily_geopotential_1000_2018-05-19.nc\n"
     ]
    },
    {
     "name": "stderr",
     "output_type": "stream",
     "text": [
      "2020-06-14 13:25:26,009 INFO Welcome to the CDS\n",
      "2020-06-14 13:25:26,010 INFO Sending request to https://cds.climate.copernicus.eu/api/v2/resources/reanalysis-era5-pressure-levels\n",
      "2020-06-14 13:25:27,243 INFO Request is queued\n",
      "2020-06-14 13:25:28,566 INFO Request is running\n",
      "2020-06-14 13:25:30,409 INFO Request is completed\n",
      "2020-06-14 13:25:30,411 INFO Downloading http://136.156.132.235/cache-compute-0006/cache/data5/adaptor.mars.internal-1592097927.8075697-6147-18-721a32fa-90fc-4315-a7ed-d1d964263bfa.nc to /home/nicolasf/research/CPP/indices/data/ERA5/daily/ERA5_daily_geopotential_1000_2018-05-19.nc (192.2K)\n",
      "2020-06-14 13:25:33,791 INFO Download rate 56.9K/s \n"
     ]
    },
    {
     "name": "stdout",
     "output_type": "stream",
     "text": [
      "downloading /home/nicolasf/research/CPP/indices/data/ERA5/daily/ERA5_daily_geopotential_1000_2018-05-20.nc\n"
     ]
    },
    {
     "name": "stderr",
     "output_type": "stream",
     "text": [
      "2020-06-14 13:25:35,328 INFO Welcome to the CDS\n",
      "2020-06-14 13:25:35,328 INFO Sending request to https://cds.climate.copernicus.eu/api/v2/resources/reanalysis-era5-pressure-levels\n",
      "2020-06-14 13:25:36,559 INFO Request is queued\n",
      "2020-06-14 13:25:37,884 INFO Request is running\n",
      "2020-06-14 13:25:39,665 INFO Request is completed\n",
      "2020-06-14 13:25:39,667 INFO Downloading http://136.156.132.210/cache-compute-0005/cache/data3/adaptor.mars.internal-1592097937.2092266-7869-1-4fca5b8e-d7c8-4c34-9b09-7fda048a6a49.nc to /home/nicolasf/research/CPP/indices/data/ERA5/daily/ERA5_daily_geopotential_1000_2018-05-20.nc (192.2K)\n",
      "2020-06-14 13:25:41,548 INFO Download rate 102.2K/s\n"
     ]
    },
    {
     "name": "stdout",
     "output_type": "stream",
     "text": [
      "downloading /home/nicolasf/research/CPP/indices/data/ERA5/daily/ERA5_daily_geopotential_1000_2018-05-21.nc\n"
     ]
    },
    {
     "name": "stderr",
     "output_type": "stream",
     "text": [
      "2020-06-14 13:25:43,109 INFO Welcome to the CDS\n",
      "2020-06-14 13:25:43,110 INFO Sending request to https://cds.climate.copernicus.eu/api/v2/resources/reanalysis-era5-pressure-levels\n",
      "2020-06-14 13:25:44,404 INFO Request is queued\n",
      "2020-06-14 13:25:45,769 INFO Request is completed\n",
      "2020-06-14 13:25:45,771 INFO Downloading http://136.156.133.39/cache-compute-0012/cache/data1/adaptor.mars.internal-1592097944.5591002-4446-24-13791217-7a09-4ef3-a1e6-b0ff3b3ec0bc.nc to /home/nicolasf/research/CPP/indices/data/ERA5/daily/ERA5_daily_geopotential_1000_2018-05-21.nc (192.2K)\n",
      "2020-06-14 13:25:47,619 INFO Download rate 104.1K/s\n"
     ]
    },
    {
     "name": "stdout",
     "output_type": "stream",
     "text": [
      "downloading /home/nicolasf/research/CPP/indices/data/ERA5/daily/ERA5_daily_geopotential_1000_2018-05-22.nc\n"
     ]
    },
    {
     "name": "stderr",
     "output_type": "stream",
     "text": [
      "2020-06-14 13:25:49,151 INFO Welcome to the CDS\n",
      "2020-06-14 13:25:49,151 INFO Sending request to https://cds.climate.copernicus.eu/api/v2/resources/reanalysis-era5-pressure-levels\n",
      "2020-06-14 13:25:51,606 INFO Request is queued\n",
      "2020-06-14 13:25:52,937 INFO Request is completed\n",
      "2020-06-14 13:25:52,939 INFO Downloading http://136.156.132.153/cache-compute-0002/cache/data2/adaptor.mars.internal-1592097951.3600192-4631-31-abd3e7f7-5506-4165-8bb2-e4540e8603a9.nc to /home/nicolasf/research/CPP/indices/data/ERA5/daily/ERA5_daily_geopotential_1000_2018-05-22.nc (192.2K)\n",
      "2020-06-14 13:25:54,785 INFO Download rate 104.3K/s\n"
     ]
    },
    {
     "name": "stdout",
     "output_type": "stream",
     "text": [
      "downloading /home/nicolasf/research/CPP/indices/data/ERA5/daily/ERA5_daily_geopotential_1000_2018-05-23.nc\n"
     ]
    },
    {
     "name": "stderr",
     "output_type": "stream",
     "text": [
      "2020-06-14 13:25:56,422 INFO Welcome to the CDS\n",
      "2020-06-14 13:25:56,422 INFO Sending request to https://cds.climate.copernicus.eu/api/v2/resources/reanalysis-era5-pressure-levels\n",
      "2020-06-14 13:25:57,660 INFO Request is queued\n",
      "2020-06-14 13:25:58,979 INFO Request is completed\n",
      "2020-06-14 13:25:58,981 INFO Downloading http://136.156.133.41/cache-compute-0013/cache/data3/adaptor.mars.internal-1592097957.6203067-10239-24-dcb7c599-9d63-4c08-b85c-f94fe0f9ebf2.nc to /home/nicolasf/research/CPP/indices/data/ERA5/daily/ERA5_daily_geopotential_1000_2018-05-23.nc (192.2K)\n",
      "2020-06-14 13:26:00,827 INFO Download rate 104.3K/s\n"
     ]
    },
    {
     "name": "stdout",
     "output_type": "stream",
     "text": [
      "downloading /home/nicolasf/research/CPP/indices/data/ERA5/daily/ERA5_daily_geopotential_1000_2018-05-24.nc\n"
     ]
    },
    {
     "name": "stderr",
     "output_type": "stream",
     "text": [
      "2020-06-14 13:26:02,668 INFO Welcome to the CDS\n",
      "2020-06-14 13:26:02,668 INFO Sending request to https://cds.climate.copernicus.eu/api/v2/resources/reanalysis-era5-pressure-levels\n",
      "2020-06-14 13:26:04,303 INFO Request is queued\n",
      "2020-06-14 13:26:05,634 INFO Request is completed\n",
      "2020-06-14 13:26:05,636 INFO Downloading http://136.156.133.36/cache-compute-0010/cache/data0/adaptor.mars.internal-1592097964.5581858-22147-18-6011262c-83dd-489a-b553-17c5c64dafa1.nc to /home/nicolasf/research/CPP/indices/data/ERA5/daily/ERA5_daily_geopotential_1000_2018-05-24.nc (192.2K)\n",
      "2020-06-14 13:26:07,482 INFO Download rate 104.3K/s\n"
     ]
    },
    {
     "name": "stdout",
     "output_type": "stream",
     "text": [
      "downloading /home/nicolasf/research/CPP/indices/data/ERA5/daily/ERA5_daily_geopotential_1000_2018-05-25.nc\n"
     ]
    },
    {
     "name": "stderr",
     "output_type": "stream",
     "text": [
      "2020-06-14 13:26:09,119 INFO Welcome to the CDS\n",
      "2020-06-14 13:26:09,120 INFO Sending request to https://cds.climate.copernicus.eu/api/v2/resources/reanalysis-era5-pressure-levels\n",
      "2020-06-14 13:26:10,427 INFO Request is queued\n",
      "2020-06-14 13:26:11,779 INFO Request is running\n",
      "2020-06-14 13:26:13,622 INFO Request is completed\n",
      "2020-06-14 13:26:13,624 INFO Downloading http://136.156.132.198/cache-compute-0003/cache/data3/adaptor.mars.internal-1592097970.867298-22428-24-635d6646-552b-48d1-a247-31bb74c29ff2.nc to /home/nicolasf/research/CPP/indices/data/ERA5/daily/ERA5_daily_geopotential_1000_2018-05-25.nc (192.2K)\n",
      "2020-06-14 13:26:15,470 INFO Download rate 104.2K/s\n"
     ]
    },
    {
     "name": "stdout",
     "output_type": "stream",
     "text": [
      "downloading /home/nicolasf/research/CPP/indices/data/ERA5/daily/ERA5_daily_geopotential_1000_2018-05-26.nc\n"
     ]
    },
    {
     "name": "stderr",
     "output_type": "stream",
     "text": [
      "2020-06-14 13:26:17,308 INFO Welcome to the CDS\n",
      "2020-06-14 13:26:17,309 INFO Sending request to https://cds.climate.copernicus.eu/api/v2/resources/reanalysis-era5-pressure-levels\n",
      "2020-06-14 13:26:18,631 INFO Request is queued\n",
      "2020-06-14 13:26:19,970 INFO Request is completed\n",
      "2020-06-14 13:26:19,972 INFO Downloading http://136.156.132.236/cache-compute-0007/cache/data4/adaptor.mars.internal-1592097978.6159134-17183-22-1c4bd973-89a0-485c-828c-d9514f393a2e.nc to /home/nicolasf/research/CPP/indices/data/ERA5/daily/ERA5_daily_geopotential_1000_2018-05-26.nc (192.2K)\n",
      "2020-06-14 13:26:21,820 INFO Download rate 104.1K/s\n"
     ]
    },
    {
     "name": "stdout",
     "output_type": "stream",
     "text": [
      "downloading /home/nicolasf/research/CPP/indices/data/ERA5/daily/ERA5_daily_geopotential_1000_2018-05-27.nc\n"
     ]
    },
    {
     "name": "stderr",
     "output_type": "stream",
     "text": [
      "2020-06-14 13:26:23,456 INFO Welcome to the CDS\n",
      "2020-06-14 13:26:23,456 INFO Sending request to https://cds.climate.copernicus.eu/api/v2/resources/reanalysis-era5-pressure-levels\n",
      "2020-06-14 13:26:25,398 INFO Request is queued\n",
      "2020-06-14 13:26:26,729 INFO Request is running\n",
      "2020-06-14 13:26:28,572 INFO Request is completed\n",
      "2020-06-14 13:26:28,575 INFO Downloading http://136.156.133.46/cache-compute-0015/cache/data9/adaptor.mars.internal-1592097985.7209196-14400-18-a0fdba20-74b8-4fcc-aa5d-4c68e858c72c.nc to /home/nicolasf/research/CPP/indices/data/ERA5/daily/ERA5_daily_geopotential_1000_2018-05-27.nc (192.2K)\n",
      "2020-06-14 13:26:30,421 INFO Download rate 104.2K/s\n"
     ]
    },
    {
     "name": "stdout",
     "output_type": "stream",
     "text": [
      "downloading /home/nicolasf/research/CPP/indices/data/ERA5/daily/ERA5_daily_geopotential_1000_2018-05-28.nc\n"
     ]
    },
    {
     "name": "stderr",
     "output_type": "stream",
     "text": [
      "2020-06-14 13:26:32,161 INFO Welcome to the CDS\n",
      "2020-06-14 13:26:32,161 INFO Sending request to https://cds.climate.copernicus.eu/api/v2/resources/reanalysis-era5-pressure-levels\n",
      "2020-06-14 13:26:33,446 INFO Request is queued\n",
      "2020-06-14 13:26:34,819 INFO Request is running\n",
      "2020-06-14 13:26:36,662 INFO Request is completed\n",
      "2020-06-14 13:26:36,665 INFO Downloading http://136.156.132.153/cache-compute-0002/cache/data3/adaptor.mars.internal-1592097994.503128-9746-30-a114a732-ad7c-48e7-b395-3bb1d7f4e40e.nc to /home/nicolasf/research/CPP/indices/data/ERA5/daily/ERA5_daily_geopotential_1000_2018-05-28.nc (192.2K)\n",
      "2020-06-14 13:26:38,512 INFO Download rate 104.1K/s\n"
     ]
    },
    {
     "name": "stdout",
     "output_type": "stream",
     "text": [
      "downloading /home/nicolasf/research/CPP/indices/data/ERA5/daily/ERA5_daily_geopotential_1000_2018-05-29.nc\n"
     ]
    },
    {
     "name": "stderr",
     "output_type": "stream",
     "text": [
      "2020-06-14 13:26:40,454 INFO Welcome to the CDS\n",
      "2020-06-14 13:26:40,455 INFO Sending request to https://cds.climate.copernicus.eu/api/v2/resources/reanalysis-era5-pressure-levels\n",
      "2020-06-14 13:26:41,735 INFO Request is queued\n",
      "2020-06-14 13:26:43,113 INFO Request is running\n",
      "2020-06-14 13:26:44,956 INFO Request is completed\n",
      "2020-06-14 13:26:44,959 INFO Downloading http://136.156.133.46/cache-compute-0015/cache/data9/adaptor.mars.internal-1592098001.975817-16605-7-6d334dda-2229-4ae2-8bce-f1fe6455e1cb.nc to /home/nicolasf/research/CPP/indices/data/ERA5/daily/ERA5_daily_geopotential_1000_2018-05-29.nc (192.2K)\n",
      "2020-06-14 13:26:46,910 INFO Download rate 98.6K/s \n"
     ]
    },
    {
     "name": "stdout",
     "output_type": "stream",
     "text": [
      "downloading /home/nicolasf/research/CPP/indices/data/ERA5/daily/ERA5_daily_geopotential_1000_2018-05-30.nc\n"
     ]
    },
    {
     "name": "stderr",
     "output_type": "stream",
     "text": [
      "2020-06-14 13:26:48,442 INFO Welcome to the CDS\n",
      "2020-06-14 13:26:48,443 INFO Sending request to https://cds.climate.copernicus.eu/api/v2/resources/reanalysis-era5-pressure-levels\n",
      "2020-06-14 13:26:49,871 INFO Request is queued\n",
      "2020-06-14 13:26:51,203 INFO Request is completed\n",
      "2020-06-14 13:26:51,204 INFO Downloading http://136.156.132.105/cache-compute-0000/cache/data2/adaptor.mars.internal-1592098010.0640466-5146-18-a97bab38-20af-430e-9953-1b4b9fbc193f.nc to /home/nicolasf/research/CPP/indices/data/ERA5/daily/ERA5_daily_geopotential_1000_2018-05-30.nc (192.2K)\n",
      "2020-06-14 13:26:53,053 INFO Download rate 104.1K/s\n"
     ]
    },
    {
     "name": "stdout",
     "output_type": "stream",
     "text": [
      "downloading /home/nicolasf/research/CPP/indices/data/ERA5/daily/ERA5_daily_geopotential_1000_2018-05-31.nc\n"
     ]
    },
    {
     "name": "stderr",
     "output_type": "stream",
     "text": [
      "2020-06-14 13:26:54,995 INFO Welcome to the CDS\n",
      "2020-06-14 13:26:54,996 INFO Sending request to https://cds.climate.copernicus.eu/api/v2/resources/reanalysis-era5-pressure-levels\n",
      "2020-06-14 13:26:57,040 INFO Request is queued\n",
      "2020-06-14 13:26:58,371 INFO Request is running\n",
      "2020-06-14 13:27:00,316 INFO Request is completed\n",
      "2020-06-14 13:27:00,319 INFO Downloading http://136.156.132.153/cache-compute-0002/cache/data3/adaptor.mars.internal-1592098017.920103-9963-30-1c65cc00-2672-421f-aa23-39310c9f2d82.nc to /home/nicolasf/research/CPP/indices/data/ERA5/daily/ERA5_daily_geopotential_1000_2018-05-31.nc (192.2K)\n",
      "2020-06-14 13:27:02,165 INFO Download rate 104.2K/s\n"
     ]
    },
    {
     "name": "stdout",
     "output_type": "stream",
     "text": [
      "downloading /home/nicolasf/research/CPP/indices/data/ERA5/daily/ERA5_daily_geopotential_1000_2018-06-01.nc\n"
     ]
    },
    {
     "name": "stderr",
     "output_type": "stream",
     "text": [
      "2020-06-14 13:27:03,904 INFO Welcome to the CDS\n",
      "2020-06-14 13:27:03,906 INFO Sending request to https://cds.climate.copernicus.eu/api/v2/resources/reanalysis-era5-pressure-levels\n",
      "2020-06-14 13:27:05,539 INFO Request is queued\n",
      "2020-06-14 13:27:06,870 INFO Request is running\n",
      "2020-06-14 13:27:08,713 INFO Request is completed\n",
      "2020-06-14 13:27:08,715 INFO Downloading http://136.156.132.210/cache-compute-0005/cache/data0/adaptor.mars.internal-1592098026.3022394-7204-7-934aab3c-b2be-4bca-9c3f-4a5463220530.nc to /home/nicolasf/research/CPP/indices/data/ERA5/daily/ERA5_daily_geopotential_1000_2018-06-01.nc (192.2K)\n",
      "2020-06-14 13:27:10,562 INFO Download rate 104.2K/s\n"
     ]
    },
    {
     "name": "stdout",
     "output_type": "stream",
     "text": [
      "downloading /home/nicolasf/research/CPP/indices/data/ERA5/daily/ERA5_daily_geopotential_1000_2018-06-02.nc\n"
     ]
    },
    {
     "name": "stderr",
     "output_type": "stream",
     "text": [
      "2020-06-14 13:27:13,120 INFO Welcome to the CDS\n",
      "2020-06-14 13:27:13,121 INFO Sending request to https://cds.climate.copernicus.eu/api/v2/resources/reanalysis-era5-pressure-levels\n",
      "2020-06-14 13:27:14,756 INFO Request is queued\n",
      "2020-06-14 13:27:16,086 INFO Request is running\n",
      "2020-06-14 13:27:17,929 INFO Request is completed\n",
      "2020-06-14 13:27:17,932 INFO Downloading http://136.156.133.36/cache-compute-0010/cache/data7/adaptor.mars.internal-1592098035.5500884-21234-23-fd191ca9-88a3-498c-b010-fcf59d0a560a.nc to /home/nicolasf/research/CPP/indices/data/ERA5/daily/ERA5_daily_geopotential_1000_2018-06-02.nc (192.2K)\n",
      "2020-06-14 13:27:19,779 INFO Download rate 104.1K/s\n"
     ]
    },
    {
     "name": "stdout",
     "output_type": "stream",
     "text": [
      "downloading /home/nicolasf/research/CPP/indices/data/ERA5/daily/ERA5_daily_geopotential_1000_2018-06-03.nc\n"
     ]
    },
    {
     "name": "stderr",
     "output_type": "stream",
     "text": [
      "2020-06-14 13:27:21,722 INFO Welcome to the CDS\n",
      "2020-06-14 13:27:21,724 INFO Sending request to https://cds.climate.copernicus.eu/api/v2/resources/reanalysis-era5-pressure-levels\n",
      "2020-06-14 13:27:23,254 INFO Request is queued\n",
      "2020-06-14 13:27:24,586 INFO Request is running\n",
      "2020-06-14 13:27:26,429 INFO Request is completed\n",
      "2020-06-14 13:27:26,431 INFO Downloading http://136.156.133.42/cache-compute-0014/cache/data8/adaptor.mars.internal-1592098043.2896404-9540-27-3d7c5c16-2d49-4a1c-bf97-f4286229fd36.nc to /home/nicolasf/research/CPP/indices/data/ERA5/daily/ERA5_daily_geopotential_1000_2018-06-03.nc (192.2K)\n",
      "2020-06-14 13:27:28,379 INFO Download rate 98.7K/s \n"
     ]
    },
    {
     "name": "stdout",
     "output_type": "stream",
     "text": [
      "downloading /home/nicolasf/research/CPP/indices/data/ERA5/daily/ERA5_daily_geopotential_1000_2018-06-04.nc\n"
     ]
    },
    {
     "name": "stderr",
     "output_type": "stream",
     "text": [
      "2020-06-14 13:27:30,221 INFO Welcome to the CDS\n",
      "2020-06-14 13:27:30,222 INFO Sending request to https://cds.climate.copernicus.eu/api/v2/resources/reanalysis-era5-pressure-levels\n",
      "2020-06-14 13:27:33,290 INFO Request is queued\n",
      "2020-06-14 13:27:34,621 INFO Request is completed\n",
      "2020-06-14 13:27:34,623 INFO Downloading http://136.156.132.110/cache-compute-0001/cache/data7/adaptor.mars.internal-1592098053.1326742-12727-28-6333120b-1839-4605-99a9-d2afcdaf7011.nc to /home/nicolasf/research/CPP/indices/data/ERA5/daily/ERA5_daily_geopotential_1000_2018-06-04.nc (192.2K)\n",
      "2020-06-14 13:27:36,468 INFO Download rate 104.3K/s\n"
     ]
    },
    {
     "name": "stdout",
     "output_type": "stream",
     "text": [
      "downloading /home/nicolasf/research/CPP/indices/data/ERA5/daily/ERA5_daily_geopotential_1000_2018-06-05.nc\n"
     ]
    },
    {
     "name": "stderr",
     "output_type": "stream",
     "text": [
      "2020-06-14 13:27:38,516 INFO Welcome to the CDS\n",
      "2020-06-14 13:27:38,517 INFO Sending request to https://cds.climate.copernicus.eu/api/v2/resources/reanalysis-era5-pressure-levels\n",
      "2020-06-14 13:27:40,048 INFO Request is queued\n",
      "2020-06-14 13:27:41,380 INFO Request is running\n",
      "2020-06-14 13:27:43,223 INFO Request is completed\n",
      "2020-06-14 13:27:43,225 INFO Downloading http://136.156.132.198/cache-compute-0003/cache/data2/adaptor.mars.internal-1592098060.4549818-31550-3-dc0c53f3-c67f-496a-88b5-6fe1bae598a2.nc to /home/nicolasf/research/CPP/indices/data/ERA5/daily/ERA5_daily_geopotential_1000_2018-06-05.nc (192.2K)\n",
      "2020-06-14 13:27:45,072 INFO Download rate 104.2K/s\n"
     ]
    },
    {
     "name": "stdout",
     "output_type": "stream",
     "text": [
      "downloading /home/nicolasf/research/CPP/indices/data/ERA5/daily/ERA5_daily_geopotential_1000_2018-06-06.nc\n"
     ]
    },
    {
     "name": "stderr",
     "output_type": "stream",
     "text": [
      "2020-06-14 13:27:47,425 INFO Welcome to the CDS\n",
      "2020-06-14 13:27:47,426 INFO Sending request to https://cds.climate.copernicus.eu/api/v2/resources/reanalysis-era5-pressure-levels\n",
      "2020-06-14 13:27:49,162 INFO Request is queued\n",
      "2020-06-14 13:27:50,495 INFO Request is running\n",
      "2020-06-14 13:27:52,336 INFO Request is completed\n",
      "2020-06-14 13:27:52,338 INFO Downloading http://136.156.133.41/cache-compute-0013/cache/data4/adaptor.mars.internal-1592098069.556159-16730-14-91040e73-87a5-4774-b247-1139f8b1fb61.nc to /home/nicolasf/research/CPP/indices/data/ERA5/daily/ERA5_daily_geopotential_1000_2018-06-06.nc (192.2K)\n",
      "2020-06-14 13:27:54,185 INFO Download rate 104.2K/s\n"
     ]
    },
    {
     "name": "stdout",
     "output_type": "stream",
     "text": [
      "downloading /home/nicolasf/research/CPP/indices/data/ERA5/daily/ERA5_daily_geopotential_1000_2018-06-07.nc\n"
     ]
    },
    {
     "name": "stderr",
     "output_type": "stream",
     "text": [
      "2020-06-14 13:27:56,129 INFO Welcome to the CDS\n",
      "2020-06-14 13:27:56,130 INFO Sending request to https://cds.climate.copernicus.eu/api/v2/resources/reanalysis-era5-pressure-levels\n",
      "2020-06-14 13:27:57,661 INFO Request is queued\n",
      "2020-06-14 13:27:58,992 INFO Request is completed\n",
      "2020-06-14 13:27:58,994 INFO Downloading http://136.156.133.46/cache-compute-0015/cache/data9/adaptor.mars.internal-1592098077.8092763-17070-7-9f415667-1dfd-4d8d-a27b-f1b82835895a.nc to /home/nicolasf/research/CPP/indices/data/ERA5/daily/ERA5_daily_geopotential_1000_2018-06-07.nc (192.2K)\n",
      "2020-06-14 13:28:00,840 INFO Download rate 104.3K/s\n"
     ]
    },
    {
     "name": "stdout",
     "output_type": "stream",
     "text": [
      "downloading /home/nicolasf/research/CPP/indices/data/ERA5/daily/ERA5_daily_geopotential_1000_2018-06-08.nc\n"
     ]
    },
    {
     "name": "stderr",
     "output_type": "stream",
     "text": [
      "2020-06-14 13:28:02,477 INFO Welcome to the CDS\n",
      "2020-06-14 13:28:02,478 INFO Sending request to https://cds.climate.copernicus.eu/api/v2/resources/reanalysis-era5-pressure-levels\n",
      "2020-06-14 13:28:03,722 INFO Request is queued\n",
      "2020-06-14 13:28:05,011 INFO Request is running\n",
      "2020-06-14 13:28:06,877 INFO Request is completed\n",
      "2020-06-14 13:28:06,879 INFO Downloading http://136.156.132.210/cache-compute-0005/cache/data7/adaptor.mars.internal-1592098083.9604876-6634-11-f4a0395d-d285-4ecd-b573-2c98efea7b10.nc to /home/nicolasf/research/CPP/indices/data/ERA5/daily/ERA5_daily_geopotential_1000_2018-06-08.nc (192.2K)\n",
      "2020-06-14 13:28:08,725 INFO Download rate 104.2K/s\n"
     ]
    },
    {
     "name": "stdout",
     "output_type": "stream",
     "text": [
      "downloading /home/nicolasf/research/CPP/indices/data/ERA5/daily/ERA5_daily_geopotential_1000_2018-06-09.nc\n"
     ]
    },
    {
     "name": "stderr",
     "output_type": "stream",
     "text": [
      "2020-06-14 13:28:10,462 INFO Welcome to the CDS\n",
      "2020-06-14 13:28:10,463 INFO Sending request to https://cds.climate.copernicus.eu/api/v2/resources/reanalysis-era5-pressure-levels\n",
      "2020-06-14 13:28:12,202 INFO Request is queued\n",
      "2020-06-14 13:28:13,533 INFO Request is completed\n",
      "2020-06-14 13:28:13,535 INFO Downloading http://136.156.132.110/cache-compute-0001/cache/data5/adaptor.mars.internal-1592098092.3526053-21426-5-e3b21bb8-6b10-4815-8db4-383aff78074a.nc to /home/nicolasf/research/CPP/indices/data/ERA5/daily/ERA5_daily_geopotential_1000_2018-06-09.nc (192.2K)\n",
      "2020-06-14 13:28:15,382 INFO Download rate 104.2K/s\n"
     ]
    },
    {
     "name": "stdout",
     "output_type": "stream",
     "text": [
      "downloading /home/nicolasf/research/CPP/indices/data/ERA5/daily/ERA5_daily_geopotential_1000_2018-06-10.nc\n"
     ]
    },
    {
     "name": "stderr",
     "output_type": "stream",
     "text": [
      "2020-06-14 13:28:16,913 INFO Welcome to the CDS\n",
      "2020-06-14 13:28:16,913 INFO Sending request to https://cds.climate.copernicus.eu/api/v2/resources/reanalysis-era5-pressure-levels\n",
      "2020-06-14 13:28:18,148 INFO Request is queued\n",
      "2020-06-14 13:28:19,473 INFO Request is completed\n",
      "2020-06-14 13:28:19,475 INFO Downloading http://136.156.132.235/cache-compute-0006/cache/data7/adaptor.mars.internal-1592098098.2931013-483-30-7dc73f9b-8a13-4382-b042-62e56cce44e0.nc to /home/nicolasf/research/CPP/indices/data/ERA5/daily/ERA5_daily_geopotential_1000_2018-06-10.nc (192.2K)\n",
      "2020-06-14 13:28:22,855 INFO Download rate 56.9K/s \n"
     ]
    },
    {
     "name": "stdout",
     "output_type": "stream",
     "text": [
      "downloading /home/nicolasf/research/CPP/indices/data/ERA5/daily/ERA5_daily_geopotential_1000_2018-06-11.nc\n"
     ]
    },
    {
     "name": "stderr",
     "output_type": "stream",
     "text": [
      "2020-06-14 13:28:24,494 INFO Welcome to the CDS\n",
      "2020-06-14 13:28:24,495 INFO Sending request to https://cds.climate.copernicus.eu/api/v2/resources/reanalysis-era5-pressure-levels\n",
      "2020-06-14 13:28:26,438 INFO Request is queued\n",
      "2020-06-14 13:28:27,768 INFO Request is running\n",
      "2020-06-14 13:28:29,611 INFO Request is completed\n",
      "2020-06-14 13:28:29,612 INFO Downloading http://136.156.132.235/cache-compute-0006/cache/data6/adaptor.mars.internal-1592098106.6236753-10483-3-f182f64a-a1e6-4ed9-ba72-69aaad00e952.nc to /home/nicolasf/research/CPP/indices/data/ERA5/daily/ERA5_daily_geopotential_1000_2018-06-11.nc (192.2K)\n",
      "2020-06-14 13:28:32,994 INFO Download rate 56.9K/s \n"
     ]
    },
    {
     "name": "stdout",
     "output_type": "stream",
     "text": [
      "downloading /home/nicolasf/research/CPP/indices/data/ERA5/daily/ERA5_daily_geopotential_1000_2018-06-12.nc\n"
     ]
    },
    {
     "name": "stderr",
     "output_type": "stream",
     "text": [
      "2020-06-14 13:28:34,940 INFO Welcome to the CDS\n",
      "2020-06-14 13:28:34,941 INFO Sending request to https://cds.climate.copernicus.eu/api/v2/resources/reanalysis-era5-pressure-levels\n",
      "2020-06-14 13:28:36,472 INFO Request is queued\n",
      "2020-06-14 13:28:37,804 INFO Request is completed\n",
      "2020-06-14 13:28:37,805 INFO Downloading http://136.156.133.42/cache-compute-0014/cache/data2/adaptor.mars.internal-1592098116.46976-17046-14-4201eddb-09cb-4ac7-a832-0f58f6dd1d4a.nc to /home/nicolasf/research/CPP/indices/data/ERA5/daily/ERA5_daily_geopotential_1000_2018-06-12.nc (192.2K)\n",
      "2020-06-14 13:28:39,755 INFO Download rate 98.7K/s \n"
     ]
    },
    {
     "name": "stdout",
     "output_type": "stream",
     "text": [
      "downloading /home/nicolasf/research/CPP/indices/data/ERA5/daily/ERA5_daily_geopotential_1000_2018-06-13.nc\n"
     ]
    },
    {
     "name": "stderr",
     "output_type": "stream",
     "text": [
      "2020-06-14 13:28:42,005 INFO Welcome to the CDS\n",
      "2020-06-14 13:28:42,006 INFO Sending request to https://cds.climate.copernicus.eu/api/v2/resources/reanalysis-era5-pressure-levels\n",
      "2020-06-14 13:28:43,538 INFO Request is queued\n",
      "2020-06-14 13:28:44,869 INFO Request is running\n",
      "2020-06-14 13:28:46,712 INFO Request is completed\n",
      "2020-06-14 13:28:46,714 INFO Downloading http://136.156.132.235/cache-compute-0006/cache/data4/adaptor.mars.internal-1592098123.7933052-9703-7-d9b8603c-6b40-45a4-93e3-e5b10f2d36c2.nc to /home/nicolasf/research/CPP/indices/data/ERA5/daily/ERA5_daily_geopotential_1000_2018-06-13.nc (192.2K)\n",
      "2020-06-14 13:28:50,058 INFO Download rate 57.5K/s \n"
     ]
    },
    {
     "name": "stdout",
     "output_type": "stream",
     "text": [
      "downloading /home/nicolasf/research/CPP/indices/data/ERA5/daily/ERA5_daily_geopotential_1000_2018-06-14.nc\n"
     ]
    },
    {
     "name": "stderr",
     "output_type": "stream",
     "text": [
      "2020-06-14 13:28:51,901 INFO Welcome to the CDS\n",
      "2020-06-14 13:28:51,902 INFO Sending request to https://cds.climate.copernicus.eu/api/v2/resources/reanalysis-era5-pressure-levels\n",
      "2020-06-14 13:28:53,472 INFO Request is queued\n",
      "2020-06-14 13:28:54,802 INFO Request is running\n",
      "2020-06-14 13:28:56,645 INFO Request is completed\n",
      "2020-06-14 13:28:56,647 INFO Downloading http://136.156.133.36/cache-compute-0010/cache/data0/adaptor.mars.internal-1592098134.4353979-23297-16-58ebf481-852c-45df-9bf4-877658a11fb5.nc to /home/nicolasf/research/CPP/indices/data/ERA5/daily/ERA5_daily_geopotential_1000_2018-06-14.nc (192.2K)\n",
      "2020-06-14 13:28:58,493 INFO Download rate 104.2K/s\n"
     ]
    },
    {
     "name": "stdout",
     "output_type": "stream",
     "text": [
      "downloading /home/nicolasf/research/CPP/indices/data/ERA5/daily/ERA5_daily_geopotential_1000_2018-06-15.nc\n"
     ]
    },
    {
     "name": "stderr",
     "output_type": "stream",
     "text": [
      "2020-06-14 13:29:00,233 INFO Welcome to the CDS\n",
      "2020-06-14 13:29:00,234 INFO Sending request to https://cds.climate.copernicus.eu/api/v2/resources/reanalysis-era5-pressure-levels\n",
      "2020-06-14 13:29:01,868 INFO Request is queued\n",
      "2020-06-14 13:29:03,199 INFO Request is completed\n",
      "2020-06-14 13:29:03,201 INFO Downloading http://136.156.133.25/cache-compute-0008/cache/data3/adaptor.mars.internal-1592098141.785959-26748-26-d56cb221-6937-4a4b-ad53-21d7abcf67df.nc to /home/nicolasf/research/CPP/indices/data/ERA5/daily/ERA5_daily_geopotential_1000_2018-06-15.nc (192.2K)\n",
      "2020-06-14 13:29:05,051 INFO Download rate 104K/s  \n"
     ]
    },
    {
     "name": "stdout",
     "output_type": "stream",
     "text": [
      "downloading /home/nicolasf/research/CPP/indices/data/ERA5/daily/ERA5_daily_geopotential_1000_2018-06-16.nc\n"
     ]
    },
    {
     "name": "stderr",
     "output_type": "stream",
     "text": [
      "2020-06-14 13:29:06,889 INFO Welcome to the CDS\n",
      "2020-06-14 13:29:06,890 INFO Sending request to https://cds.climate.copernicus.eu/api/v2/resources/reanalysis-era5-pressure-levels\n",
      "2020-06-14 13:29:08,145 INFO Request is queued\n",
      "2020-06-14 13:29:09,446 INFO Request is completed\n",
      "2020-06-14 13:29:09,448 INFO Downloading http://136.156.132.201/cache-compute-0004/cache/data7/adaptor.mars.internal-1592098148.1022859-19873-22-2ec90498-d6fc-42d4-b897-0d393e352f31.nc to /home/nicolasf/research/CPP/indices/data/ERA5/daily/ERA5_daily_geopotential_1000_2018-06-16.nc (192.2K)\n",
      "2020-06-14 13:29:11,296 INFO Download rate 104.1K/s\n"
     ]
    },
    {
     "name": "stdout",
     "output_type": "stream",
     "text": [
      "downloading /home/nicolasf/research/CPP/indices/data/ERA5/daily/ERA5_daily_geopotential_1000_2018-06-17.nc\n"
     ]
    },
    {
     "name": "stderr",
     "output_type": "stream",
     "text": [
      "2020-06-14 13:29:12,830 INFO Welcome to the CDS\n",
      "2020-06-14 13:29:12,831 INFO Sending request to https://cds.climate.copernicus.eu/api/v2/resources/reanalysis-era5-pressure-levels\n",
      "2020-06-14 13:29:14,142 INFO Request is queued\n",
      "2020-06-14 13:29:15,590 INFO Request is completed\n",
      "2020-06-14 13:29:15,592 INFO Downloading http://136.156.132.110/cache-compute-0001/cache/data3/adaptor.mars.internal-1592098154.0975282-21262-7-7c119692-4966-4036-be20-09579f091ca2.nc to /home/nicolasf/research/CPP/indices/data/ERA5/daily/ERA5_daily_geopotential_1000_2018-06-17.nc (192.2K)\n",
      "2020-06-14 13:29:17,441 INFO Download rate 104.1K/s\n"
     ]
    },
    {
     "name": "stdout",
     "output_type": "stream",
     "text": [
      "downloading /home/nicolasf/research/CPP/indices/data/ERA5/daily/ERA5_daily_geopotential_1000_2018-06-18.nc\n"
     ]
    },
    {
     "name": "stderr",
     "output_type": "stream",
     "text": [
      "2020-06-14 13:29:19,076 INFO Welcome to the CDS\n",
      "2020-06-14 13:29:19,077 INFO Sending request to https://cds.climate.copernicus.eu/api/v2/resources/reanalysis-era5-pressure-levels\n",
      "2020-06-14 13:29:20,506 INFO Request is queued\n",
      "2020-06-14 13:29:21,837 INFO Request is running\n",
      "2020-06-14 13:29:23,680 INFO Request is completed\n",
      "2020-06-14 13:29:23,682 INFO Downloading http://136.156.133.41/cache-compute-0013/cache/data0/adaptor.mars.internal-1592098160.536101-18107-9-e4b46e43-17d0-4b3b-9c3f-eba62563f596.nc to /home/nicolasf/research/CPP/indices/data/ERA5/daily/ERA5_daily_geopotential_1000_2018-06-18.nc (192.2K)\n",
      "2020-06-14 13:29:25,530 INFO Download rate 104.1K/s\n"
     ]
    },
    {
     "name": "stdout",
     "output_type": "stream",
     "text": [
      "downloading /home/nicolasf/research/CPP/indices/data/ERA5/daily/ERA5_daily_geopotential_1000_2018-06-19.nc\n"
     ]
    },
    {
     "name": "stderr",
     "output_type": "stream",
     "text": [
      "2020-06-14 13:29:27,370 INFO Welcome to the CDS\n",
      "2020-06-14 13:29:27,371 INFO Sending request to https://cds.climate.copernicus.eu/api/v2/resources/reanalysis-era5-pressure-levels\n",
      "2020-06-14 13:29:28,631 INFO Request is queued\n",
      "2020-06-14 13:29:30,029 INFO Request is running\n",
      "2020-06-14 13:29:31,873 INFO Request is completed\n",
      "2020-06-14 13:29:31,874 INFO Downloading http://136.156.132.210/cache-compute-0005/cache/data7/adaptor.mars.internal-1592098168.6176548-30015-35-28e23087-67dd-428e-b729-436f6af2cf24.nc to /home/nicolasf/research/CPP/indices/data/ERA5/daily/ERA5_daily_geopotential_1000_2018-06-19.nc (192.2K)\n",
      "2020-06-14 13:29:33,721 INFO Download rate 104.2K/s\n"
     ]
    },
    {
     "name": "stdout",
     "output_type": "stream",
     "text": [
      "downloading /home/nicolasf/research/CPP/indices/data/ERA5/daily/ERA5_daily_geopotential_1000_2018-06-20.nc\n"
     ]
    },
    {
     "name": "stderr",
     "output_type": "stream",
     "text": [
      "2020-06-14 13:29:35,256 INFO Welcome to the CDS\n",
      "2020-06-14 13:29:35,257 INFO Sending request to https://cds.climate.copernicus.eu/api/v2/resources/reanalysis-era5-pressure-levels\n",
      "2020-06-14 13:29:36,481 INFO Request is queued\n",
      "2020-06-14 13:29:37,812 INFO Request is running\n",
      "2020-06-14 13:29:39,655 INFO Request is completed\n",
      "2020-06-14 13:29:39,657 INFO Downloading http://136.156.132.201/cache-compute-0004/cache/data7/adaptor.mars.internal-1592098176.640864-21338-16-f1609163-a7cf-4359-a57c-a13712ac48de.nc to /home/nicolasf/research/CPP/indices/data/ERA5/daily/ERA5_daily_geopotential_1000_2018-06-20.nc (192.2K)\n",
      "2020-06-14 13:29:41,505 INFO Download rate 104.1K/s\n"
     ]
    },
    {
     "name": "stdout",
     "output_type": "stream",
     "text": [
      "downloading /home/nicolasf/research/CPP/indices/data/ERA5/daily/ERA5_daily_geopotential_1000_2018-06-21.nc\n"
     ]
    },
    {
     "name": "stderr",
     "output_type": "stream",
     "text": [
      "2020-06-14 13:29:43,141 INFO Welcome to the CDS\n",
      "2020-06-14 13:29:43,142 INFO Sending request to https://cds.climate.copernicus.eu/api/v2/resources/reanalysis-era5-pressure-levels\n",
      "2020-06-14 13:29:44,366 INFO Request is queued\n",
      "2020-06-14 13:29:45,697 INFO Request is completed\n",
      "2020-06-14 13:29:45,699 INFO Downloading http://136.156.133.32/cache-compute-0009/cache/data7/adaptor.mars.internal-1592098184.4557128-14620-1-e2f6c743-d0b9-4145-868f-1b6113e8ed9b.nc to /home/nicolasf/research/CPP/indices/data/ERA5/daily/ERA5_daily_geopotential_1000_2018-06-21.nc (192.2K)\n",
      "2020-06-14 13:29:47,548 INFO Download rate 104.1K/s\n"
     ]
    },
    {
     "name": "stdout",
     "output_type": "stream",
     "text": [
      "downloading /home/nicolasf/research/CPP/indices/data/ERA5/daily/ERA5_daily_geopotential_1000_2018-06-22.nc\n"
     ]
    },
    {
     "name": "stderr",
     "output_type": "stream",
     "text": [
      "2020-06-14 13:29:49,180 INFO Welcome to the CDS\n",
      "2020-06-14 13:29:49,181 INFO Sending request to https://cds.climate.copernicus.eu/api/v2/resources/reanalysis-era5-pressure-levels\n",
      "2020-06-14 13:29:50,408 INFO Request is queued\n",
      "2020-06-14 13:29:51,739 INFO Request is completed\n",
      "2020-06-14 13:29:51,741 INFO Downloading http://136.156.133.41/cache-compute-0013/cache/data2/adaptor.mars.internal-1592098190.6295075-16398-20-89bda73b-d293-4ac2-b4f3-a5f8cb3c9cc8.nc to /home/nicolasf/research/CPP/indices/data/ERA5/daily/ERA5_daily_geopotential_1000_2018-06-22.nc (192.2K)\n",
      "2020-06-14 13:29:53,588 INFO Download rate 104.1K/s\n"
     ]
    },
    {
     "name": "stdout",
     "output_type": "stream",
     "text": [
      "downloading /home/nicolasf/research/CPP/indices/data/ERA5/daily/ERA5_daily_geopotential_1000_2018-06-23.nc\n"
     ]
    },
    {
     "name": "stderr",
     "output_type": "stream",
     "text": [
      "2020-06-14 13:29:55,224 INFO Welcome to the CDS\n",
      "2020-06-14 13:29:55,225 INFO Sending request to https://cds.climate.copernicus.eu/api/v2/resources/reanalysis-era5-pressure-levels\n",
      "2020-06-14 13:29:56,524 INFO Request is queued\n",
      "2020-06-14 13:29:57,883 INFO Request is running\n",
      "2020-06-14 13:29:59,727 INFO Request is completed\n",
      "2020-06-14 13:29:59,729 INFO Downloading http://136.156.132.105/cache-compute-0000/cache/data0/adaptor.mars.internal-1592098196.856388-4466-28-60ec12bc-e8af-4b38-a209-4464d47cec6b.nc to /home/nicolasf/research/CPP/indices/data/ERA5/daily/ERA5_daily_geopotential_1000_2018-06-23.nc (192.2K)\n",
      "2020-06-14 13:30:01,576 INFO Download rate 104.2K/s\n"
     ]
    },
    {
     "name": "stdout",
     "output_type": "stream",
     "text": [
      "downloading /home/nicolasf/research/CPP/indices/data/ERA5/daily/ERA5_daily_geopotential_1000_2018-06-24.nc\n"
     ]
    },
    {
     "name": "stderr",
     "output_type": "stream",
     "text": [
      "2020-06-14 13:30:03,211 INFO Welcome to the CDS\n",
      "2020-06-14 13:30:03,212 INFO Sending request to https://cds.climate.copernicus.eu/api/v2/resources/reanalysis-era5-pressure-levels\n",
      "2020-06-14 13:30:04,641 INFO Request is queued\n",
      "2020-06-14 13:30:05,974 INFO Request is completed\n",
      "2020-06-14 13:30:05,975 INFO Downloading http://136.156.133.41/cache-compute-0013/cache/data8/adaptor.mars.internal-1592098204.5532818-18644-7-4f5c20e5-f690-4377-bee9-93e26bd4c7b4.nc to /home/nicolasf/research/CPP/indices/data/ERA5/daily/ERA5_daily_geopotential_1000_2018-06-24.nc (192.2K)\n",
      "2020-06-14 13:30:07,822 INFO Download rate 104.2K/s\n"
     ]
    },
    {
     "name": "stdout",
     "output_type": "stream",
     "text": [
      "downloading /home/nicolasf/research/CPP/indices/data/ERA5/daily/ERA5_daily_geopotential_1000_2018-06-25.nc\n"
     ]
    },
    {
     "name": "stderr",
     "output_type": "stream",
     "text": [
      "2020-06-14 13:30:11,199 INFO Welcome to the CDS\n",
      "2020-06-14 13:30:11,200 INFO Sending request to https://cds.climate.copernicus.eu/api/v2/resources/reanalysis-era5-pressure-levels\n",
      "2020-06-14 13:30:12,511 INFO Request is queued\n",
      "2020-06-14 13:30:13,860 INFO Request is completed\n",
      "2020-06-14 13:30:13,863 INFO Downloading http://136.156.132.236/cache-compute-0007/cache/data4/adaptor.mars.internal-1592098212.5532212-13003-31-54dd773f-6fb0-4343-acea-ce3d7aa450e4.nc to /home/nicolasf/research/CPP/indices/data/ERA5/daily/ERA5_daily_geopotential_1000_2018-06-25.nc (192.2K)\n",
      "2020-06-14 13:30:15,705 INFO Download rate 104.4K/s\n"
     ]
    },
    {
     "name": "stdout",
     "output_type": "stream",
     "text": [
      "downloading /home/nicolasf/research/CPP/indices/data/ERA5/daily/ERA5_daily_geopotential_1000_2018-06-26.nc\n"
     ]
    },
    {
     "name": "stderr",
     "output_type": "stream",
     "text": [
      "2020-06-14 13:30:17,445 INFO Welcome to the CDS\n",
      "2020-06-14 13:30:17,446 INFO Sending request to https://cds.climate.copernicus.eu/api/v2/resources/reanalysis-era5-pressure-levels\n",
      "2020-06-14 13:30:18,737 INFO Request is queued\n",
      "2020-06-14 13:30:20,109 INFO Request is completed\n",
      "2020-06-14 13:30:20,112 INFO Downloading http://136.156.132.198/cache-compute-0003/cache/data3/adaptor.mars.internal-1592098218.6872969-29958-18-6183180a-1550-4219-902c-4f6e68be3e91.nc to /home/nicolasf/research/CPP/indices/data/ERA5/daily/ERA5_daily_geopotential_1000_2018-06-26.nc (192.2K)\n",
      "2020-06-14 13:30:21,954 INFO Download rate 104.4K/s\n"
     ]
    },
    {
     "name": "stdout",
     "output_type": "stream",
     "text": [
      "downloading /home/nicolasf/research/CPP/indices/data/ERA5/daily/ERA5_daily_geopotential_1000_2018-06-27.nc\n"
     ]
    },
    {
     "name": "stderr",
     "output_type": "stream",
     "text": [
      "2020-06-14 13:30:23,590 INFO Welcome to the CDS\n",
      "2020-06-14 13:30:23,591 INFO Sending request to https://cds.climate.copernicus.eu/api/v2/resources/reanalysis-era5-pressure-levels\n",
      "2020-06-14 13:30:24,924 INFO Request is queued\n",
      "2020-06-14 13:30:26,249 INFO Request is completed\n",
      "2020-06-14 13:30:26,251 INFO Downloading http://136.156.132.236/cache-compute-0007/cache/data4/adaptor.mars.internal-1592098225.0296783-6559-15-a332bf37-7731-4da4-b3dc-ecee97257d3c.nc to /home/nicolasf/research/CPP/indices/data/ERA5/daily/ERA5_daily_geopotential_1000_2018-06-27.nc (192.2K)\n",
      "2020-06-14 13:30:28,098 INFO Download rate 104.1K/s\n"
     ]
    },
    {
     "name": "stdout",
     "output_type": "stream",
     "text": [
      "downloading /home/nicolasf/research/CPP/indices/data/ERA5/daily/ERA5_daily_geopotential_1000_2018-06-28.nc\n"
     ]
    },
    {
     "name": "stderr",
     "output_type": "stream",
     "text": [
      "2020-06-14 13:30:30,115 INFO Welcome to the CDS\n",
      "2020-06-14 13:30:30,116 INFO Sending request to https://cds.climate.copernicus.eu/api/v2/resources/reanalysis-era5-pressure-levels\n",
      "2020-06-14 13:30:32,701 INFO Request is queued\n",
      "2020-06-14 13:30:34,031 INFO Request is running\n",
      "2020-06-14 13:30:35,875 INFO Request is completed\n",
      "2020-06-14 13:30:35,877 INFO Downloading http://136.156.133.46/cache-compute-0015/cache/data6/adaptor.mars.internal-1592098232.745489-15669-20-8e9e97d0-72ee-4c9f-a32e-9c1847ccdb68.nc to /home/nicolasf/research/CPP/indices/data/ERA5/daily/ERA5_daily_geopotential_1000_2018-06-28.nc (192.2K)\n",
      "2020-06-14 13:30:37,722 INFO Download rate 104.3K/s\n"
     ]
    },
    {
     "name": "stdout",
     "output_type": "stream",
     "text": [
      "downloading /home/nicolasf/research/CPP/indices/data/ERA5/daily/ERA5_daily_geopotential_1000_2018-06-29.nc\n"
     ]
    },
    {
     "name": "stderr",
     "output_type": "stream",
     "text": [
      "2020-06-14 13:30:39,463 INFO Welcome to the CDS\n",
      "2020-06-14 13:30:39,464 INFO Sending request to https://cds.climate.copernicus.eu/api/v2/resources/reanalysis-era5-pressure-levels\n",
      "2020-06-14 13:30:40,746 INFO Request is queued\n",
      "2020-06-14 13:30:42,122 INFO Request is completed\n",
      "2020-06-14 13:30:42,124 INFO Downloading http://136.156.132.210/cache-compute-0005/cache/data6/adaptor.mars.internal-1592098240.9739883-9068-5-7221fbb8-37d8-4508-92ac-f2ecb8d5857d.nc to /home/nicolasf/research/CPP/indices/data/ERA5/daily/ERA5_daily_geopotential_1000_2018-06-29.nc (192.2K)\n",
      "2020-06-14 13:30:43,866 INFO Download rate 110.4K/s\n"
     ]
    },
    {
     "name": "stdout",
     "output_type": "stream",
     "text": [
      "downloading /home/nicolasf/research/CPP/indices/data/ERA5/daily/ERA5_daily_geopotential_1000_2018-06-30.nc\n"
     ]
    },
    {
     "name": "stderr",
     "output_type": "stream",
     "text": [
      "2020-06-14 13:30:45,392 INFO Welcome to the CDS\n",
      "2020-06-14 13:30:45,393 INFO Sending request to https://cds.climate.copernicus.eu/api/v2/resources/reanalysis-era5-pressure-levels\n",
      "2020-06-14 13:30:46,741 INFO Request is queued\n",
      "2020-06-14 13:30:48,061 INFO Request is running\n",
      "2020-06-14 13:30:49,904 INFO Request is completed\n",
      "2020-06-14 13:30:49,906 INFO Downloading http://136.156.133.32/cache-compute-0009/cache/data6/adaptor.mars.internal-1592098247.279945-13478-9-2432b28b-c907-4070-ad0f-30d3088c6c64.nc to /home/nicolasf/research/CPP/indices/data/ERA5/daily/ERA5_daily_geopotential_1000_2018-06-30.nc (192.2K)\n",
      "2020-06-14 13:30:51,753 INFO Download rate 104.1K/s\n"
     ]
    },
    {
     "name": "stdout",
     "output_type": "stream",
     "text": [
      "downloading /home/nicolasf/research/CPP/indices/data/ERA5/daily/ERA5_daily_geopotential_1000_2018-07-01.nc\n"
     ]
    },
    {
     "name": "stderr",
     "output_type": "stream",
     "text": [
      "2020-06-14 13:30:53,287 INFO Welcome to the CDS\n",
      "2020-06-14 13:30:53,288 INFO Sending request to https://cds.climate.copernicus.eu/api/v2/resources/reanalysis-era5-pressure-levels\n",
      "2020-06-14 13:30:55,024 INFO Request is queued\n",
      "2020-06-14 13:30:56,356 INFO Request is completed\n",
      "2020-06-14 13:30:56,358 INFO Downloading http://136.156.132.198/cache-compute-0003/cache/data8/adaptor.mars.internal-1592098254.9168983-29060-21-a0cfdf7d-0c00-401a-bacb-c18d3db4a15a.nc to /home/nicolasf/research/CPP/indices/data/ERA5/daily/ERA5_daily_geopotential_1000_2018-07-01.nc (192.2K)\n",
      "2020-06-14 13:30:58,203 INFO Download rate 104.3K/s\n"
     ]
    },
    {
     "name": "stdout",
     "output_type": "stream",
     "text": [
      "downloading /home/nicolasf/research/CPP/indices/data/ERA5/daily/ERA5_daily_geopotential_1000_2018-07-02.nc\n"
     ]
    },
    {
     "name": "stderr",
     "output_type": "stream",
     "text": [
      "2020-06-14 13:30:59,943 INFO Welcome to the CDS\n",
      "2020-06-14 13:30:59,944 INFO Sending request to https://cds.climate.copernicus.eu/api/v2/resources/reanalysis-era5-pressure-levels\n",
      "2020-06-14 13:31:01,373 INFO Request is queued\n",
      "2020-06-14 13:31:02,813 INFO Request is completed\n",
      "2020-06-14 13:31:02,815 INFO Downloading http://136.156.133.41/cache-compute-0013/cache/data5/adaptor.mars.internal-1592098261.5694196-19599-5-4f48ecc1-24f3-42f3-91f8-aa2affc5b853.nc to /home/nicolasf/research/CPP/indices/data/ERA5/daily/ERA5_daily_geopotential_1000_2018-07-02.nc (192.2K)\n",
      "2020-06-14 13:31:04,657 INFO Download rate 104.4K/s\n"
     ]
    },
    {
     "name": "stdout",
     "output_type": "stream",
     "text": [
      "downloading /home/nicolasf/research/CPP/indices/data/ERA5/daily/ERA5_daily_geopotential_1000_2018-07-03.nc\n"
     ]
    },
    {
     "name": "stderr",
     "output_type": "stream",
     "text": [
      "2020-06-14 13:31:06,292 INFO Welcome to the CDS\n",
      "2020-06-14 13:31:06,294 INFO Sending request to https://cds.climate.copernicus.eu/api/v2/resources/reanalysis-era5-pressure-levels\n",
      "2020-06-14 13:31:07,581 INFO Request is queued\n",
      "2020-06-14 13:31:08,952 INFO Request is completed\n",
      "2020-06-14 13:31:08,954 INFO Downloading http://136.156.132.210/cache-compute-0005/cache/data9/adaptor.mars.internal-1592098267.6793115-7204-16-37f12bc2-716e-4874-917b-b360bbe312a6.nc to /home/nicolasf/research/CPP/indices/data/ERA5/daily/ERA5_daily_geopotential_1000_2018-07-03.nc (192.2K)\n",
      "2020-06-14 13:31:10,800 INFO Download rate 104.2K/s\n"
     ]
    },
    {
     "name": "stdout",
     "output_type": "stream",
     "text": [
      "downloading /home/nicolasf/research/CPP/indices/data/ERA5/daily/ERA5_daily_geopotential_1000_2018-07-04.nc\n"
     ]
    },
    {
     "name": "stderr",
     "output_type": "stream",
     "text": [
      "2020-06-14 13:31:12,538 INFO Welcome to the CDS\n",
      "2020-06-14 13:31:12,540 INFO Sending request to https://cds.climate.copernicus.eu/api/v2/resources/reanalysis-era5-pressure-levels\n",
      "2020-06-14 13:31:14,071 INFO Request is queued\n",
      "2020-06-14 13:31:15,402 INFO Request is running\n",
      "2020-06-14 13:31:17,244 INFO Request is completed\n",
      "2020-06-14 13:31:17,245 INFO Downloading http://136.156.133.37/cache-compute-0011/cache/data2/adaptor.mars.internal-1592098274.1293428-18643-14-37ac6fe8-a7aa-450a-8c80-1ada89842802.nc to /home/nicolasf/research/CPP/indices/data/ERA5/daily/ERA5_daily_geopotential_1000_2018-07-04.nc (192.2K)\n",
      "2020-06-14 13:31:19,097 INFO Download rate 103.8K/s\n"
     ]
    },
    {
     "name": "stdout",
     "output_type": "stream",
     "text": [
      "downloading /home/nicolasf/research/CPP/indices/data/ERA5/daily/ERA5_daily_geopotential_1000_2018-07-05.nc\n"
     ]
    },
    {
     "name": "stderr",
     "output_type": "stream",
     "text": [
      "2020-06-14 13:31:20,936 INFO Welcome to the CDS\n",
      "2020-06-14 13:31:20,937 INFO Sending request to https://cds.climate.copernicus.eu/api/v2/resources/reanalysis-era5-pressure-levels\n",
      "2020-06-14 13:31:22,214 INFO Request is queued\n",
      "2020-06-14 13:31:23,595 INFO Request is completed\n",
      "2020-06-14 13:31:23,597 INFO Downloading http://136.156.132.105/cache-compute-0000/cache/data6/adaptor.mars.internal-1592098282.1512215-6434-20-2417ebd5-9f42-4731-bdfe-327eeebeb55a.nc to /home/nicolasf/research/CPP/indices/data/ERA5/daily/ERA5_daily_geopotential_1000_2018-07-05.nc (192.2K)\n",
      "2020-06-14 13:31:25,445 INFO Download rate 104.1K/s\n"
     ]
    },
    {
     "name": "stdout",
     "output_type": "stream",
     "text": [
      "downloading /home/nicolasf/research/CPP/indices/data/ERA5/daily/ERA5_daily_geopotential_1000_2018-07-06.nc\n"
     ]
    },
    {
     "name": "stderr",
     "output_type": "stream",
     "text": [
      "2020-06-14 13:31:27,080 INFO Welcome to the CDS\n",
      "2020-06-14 13:31:27,081 INFO Sending request to https://cds.climate.copernicus.eu/api/v2/resources/reanalysis-era5-pressure-levels\n",
      "2020-06-14 13:31:28,715 INFO Request is queued\n",
      "2020-06-14 13:31:30,046 INFO Request is completed\n",
      "2020-06-14 13:31:30,048 INFO Downloading http://136.156.133.41/cache-compute-0013/cache/data8/adaptor.mars.internal-1592098288.9733112-19369-7-6cd4539e-e559-4f0a-a7e7-fc6bd51ed72e.nc to /home/nicolasf/research/CPP/indices/data/ERA5/daily/ERA5_daily_geopotential_1000_2018-07-06.nc (192.2K)\n",
      "2020-06-14 13:31:31,896 INFO Download rate 104.1K/s\n"
     ]
    },
    {
     "name": "stdout",
     "output_type": "stream",
     "text": [
      "downloading /home/nicolasf/research/CPP/indices/data/ERA5/daily/ERA5_daily_geopotential_1000_2018-07-07.nc\n"
     ]
    },
    {
     "name": "stderr",
     "output_type": "stream",
     "text": [
      "2020-06-14 13:31:34,146 INFO Welcome to the CDS\n",
      "2020-06-14 13:31:34,146 INFO Sending request to https://cds.climate.copernicus.eu/api/v2/resources/reanalysis-era5-pressure-levels\n",
      "2020-06-14 13:31:35,463 INFO Request is queued\n",
      "2020-06-14 13:31:36,805 INFO Request is running\n",
      "2020-06-14 13:31:38,648 INFO Request is completed\n",
      "2020-06-14 13:31:38,650 INFO Downloading http://136.156.133.42/cache-compute-0014/cache/data6/adaptor.mars.internal-1592098296.1466448-20862-1-9d0e4731-4bb6-4c09-8514-0e1d12dc8795.nc to /home/nicolasf/research/CPP/indices/data/ERA5/daily/ERA5_daily_geopotential_1000_2018-07-07.nc (192.2K)\n",
      "2020-06-14 13:31:40,497 INFO Download rate 104.2K/s\n"
     ]
    },
    {
     "name": "stdout",
     "output_type": "stream",
     "text": [
      "downloading /home/nicolasf/research/CPP/indices/data/ERA5/daily/ERA5_daily_geopotential_1000_2018-07-08.nc\n"
     ]
    },
    {
     "name": "stderr",
     "output_type": "stream",
     "text": [
      "2020-06-14 13:31:42,338 INFO Welcome to the CDS\n",
      "2020-06-14 13:31:42,338 INFO Sending request to https://cds.climate.copernicus.eu/api/v2/resources/reanalysis-era5-pressure-levels\n",
      "2020-06-14 13:31:43,870 INFO Request is queued\n",
      "2020-06-14 13:31:45,203 INFO Request is completed\n",
      "2020-06-14 13:31:45,204 INFO Downloading http://136.156.132.110/cache-compute-0001/cache/data4/adaptor.mars.internal-1592098304.1022658-17486-33-5cf6dc4a-6b4b-4579-98b8-08702f210fe7.nc to /home/nicolasf/research/CPP/indices/data/ERA5/daily/ERA5_daily_geopotential_1000_2018-07-08.nc (192.2K)\n",
      "2020-06-14 13:31:47,051 INFO Download rate 104.2K/s\n"
     ]
    },
    {
     "name": "stdout",
     "output_type": "stream",
     "text": [
      "downloading /home/nicolasf/research/CPP/indices/data/ERA5/daily/ERA5_daily_geopotential_1000_2018-07-09.nc\n"
     ]
    },
    {
     "name": "stderr",
     "output_type": "stream",
     "text": [
      "2020-06-14 13:31:48,687 INFO Welcome to the CDS\n",
      "2020-06-14 13:31:48,687 INFO Sending request to https://cds.climate.copernicus.eu/api/v2/resources/reanalysis-era5-pressure-levels\n",
      "2020-06-14 13:31:50,117 INFO Request is queued\n",
      "2020-06-14 13:31:51,447 INFO Request is running\n",
      "2020-06-14 13:31:53,227 INFO Request is completed\n",
      "2020-06-14 13:31:53,229 INFO Downloading http://136.156.133.39/cache-compute-0012/cache/data7/adaptor.mars.internal-1592098310.469908-9694-31-56bddfc2-670a-4a67-9434-8d9361b5c4eb.nc to /home/nicolasf/research/CPP/indices/data/ERA5/daily/ERA5_daily_geopotential_1000_2018-07-09.nc (192.2K)\n",
      "2020-06-14 13:31:55,139 INFO Download rate 100.7K/s\n"
     ]
    },
    {
     "name": "stdout",
     "output_type": "stream",
     "text": [
      "downloading /home/nicolasf/research/CPP/indices/data/ERA5/daily/ERA5_daily_geopotential_1000_2018-07-10.nc\n"
     ]
    },
    {
     "name": "stderr",
     "output_type": "stream",
     "text": [
      "2020-06-14 13:31:56,674 INFO Welcome to the CDS\n",
      "2020-06-14 13:31:56,675 INFO Sending request to https://cds.climate.copernicus.eu/api/v2/resources/reanalysis-era5-pressure-levels\n",
      "2020-06-14 13:31:58,104 INFO Request is queued\n",
      "2020-06-14 13:31:59,436 INFO Request is running\n",
      "2020-06-14 13:32:01,279 INFO Request is completed\n",
      "2020-06-14 13:32:01,281 INFO Downloading http://136.156.133.42/cache-compute-0014/cache/data7/adaptor.mars.internal-1592098318.9956841-19520-5-cae457c6-9c8e-4ddf-958f-3a65f2900eda.nc to /home/nicolasf/research/CPP/indices/data/ERA5/daily/ERA5_daily_geopotential_1000_2018-07-10.nc (192.2K)\n",
      "2020-06-14 13:32:03,125 INFO Download rate 104.3K/s\n"
     ]
    },
    {
     "name": "stdout",
     "output_type": "stream",
     "text": [
      "downloading /home/nicolasf/research/CPP/indices/data/ERA5/daily/ERA5_daily_geopotential_1000_2018-07-11.nc\n"
     ]
    },
    {
     "name": "stderr",
     "output_type": "stream",
     "text": [
      "2020-06-14 13:32:04,969 INFO Welcome to the CDS\n",
      "2020-06-14 13:32:04,970 INFO Sending request to https://cds.climate.copernicus.eu/api/v2/resources/reanalysis-era5-pressure-levels\n",
      "2020-06-14 13:32:06,399 INFO Request is queued\n",
      "2020-06-14 13:32:07,731 INFO Request is running\n",
      "2020-06-14 13:32:09,574 INFO Request is completed\n",
      "2020-06-14 13:32:09,576 INFO Downloading http://136.156.132.210/cache-compute-0005/cache/data2/adaptor.mars.internal-1592098326.9440682-7204-18-38554c6b-2284-43b8-b65f-21a6c3e895f8.nc to /home/nicolasf/research/CPP/indices/data/ERA5/daily/ERA5_daily_geopotential_1000_2018-07-11.nc (192.2K)\n",
      "2020-06-14 13:32:11,424 INFO Download rate 104.1K/s\n"
     ]
    },
    {
     "name": "stdout",
     "output_type": "stream",
     "text": [
      "downloading /home/nicolasf/research/CPP/indices/data/ERA5/daily/ERA5_daily_geopotential_1000_2018-07-12.nc\n"
     ]
    },
    {
     "name": "stderr",
     "output_type": "stream",
     "text": [
      "2020-06-14 13:32:12,957 INFO Welcome to the CDS\n",
      "2020-06-14 13:32:12,958 INFO Sending request to https://cds.climate.copernicus.eu/api/v2/resources/reanalysis-era5-pressure-levels\n",
      "2020-06-14 13:32:14,207 INFO Request is queued\n",
      "2020-06-14 13:32:15,513 INFO Request is completed\n",
      "2020-06-14 13:32:15,515 INFO Downloading http://136.156.132.210/cache-compute-0005/cache/data2/adaptor.mars.internal-1592098334.3075619-7387-18-70c5dcc3-0990-4485-8235-bc0d70c6955e.nc to /home/nicolasf/research/CPP/indices/data/ERA5/daily/ERA5_daily_geopotential_1000_2018-07-12.nc (192.2K)\n",
      "2020-06-14 13:32:17,356 INFO Download rate 104.5K/s\n"
     ]
    },
    {
     "name": "stdout",
     "output_type": "stream",
     "text": [
      "downloading /home/nicolasf/research/CPP/indices/data/ERA5/daily/ERA5_daily_geopotential_1000_2018-07-13.nc\n"
     ]
    },
    {
     "name": "stderr",
     "output_type": "stream",
     "text": [
      "2020-06-14 13:32:18,999 INFO Welcome to the CDS\n",
      "2020-06-14 13:32:19,000 INFO Sending request to https://cds.climate.copernicus.eu/api/v2/resources/reanalysis-era5-pressure-levels\n",
      "2020-06-14 13:32:20,428 INFO Request is queued\n",
      "2020-06-14 13:32:21,760 INFO Request is running\n",
      "2020-06-14 13:32:23,603 INFO Request is completed\n",
      "2020-06-14 13:32:23,605 INFO Downloading http://136.156.132.236/cache-compute-0007/cache/data9/adaptor.mars.internal-1592098340.7902987-17183-35-c3192fa4-e9cd-4725-aab8-320df1c8c510.nc to /home/nicolasf/research/CPP/indices/data/ERA5/daily/ERA5_daily_geopotential_1000_2018-07-13.nc (192.2K)\n",
      "2020-06-14 13:32:25,451 INFO Download rate 104.2K/s\n"
     ]
    },
    {
     "name": "stdout",
     "output_type": "stream",
     "text": [
      "downloading /home/nicolasf/research/CPP/indices/data/ERA5/daily/ERA5_daily_geopotential_1000_2018-07-14.nc\n"
     ]
    },
    {
     "name": "stderr",
     "output_type": "stream",
     "text": [
      "2020-06-14 13:32:27,088 INFO Welcome to the CDS\n",
      "2020-06-14 13:32:27,089 INFO Sending request to https://cds.climate.copernicus.eu/api/v2/resources/reanalysis-era5-pressure-levels\n",
      "2020-06-14 13:32:28,621 INFO Request is queued\n",
      "2020-06-14 13:32:29,952 INFO Request is running\n",
      "2020-06-14 13:32:31,796 INFO Request is completed\n",
      "2020-06-14 13:32:31,798 INFO Downloading http://136.156.133.25/cache-compute-0008/cache/data3/adaptor.mars.internal-1592098349.3199623-24764-31-f012f6ad-ed53-4762-b47f-d7dfd6641e3d.nc to /home/nicolasf/research/CPP/indices/data/ERA5/daily/ERA5_daily_geopotential_1000_2018-07-14.nc (192.2K)\n",
      "2020-06-14 13:32:33,646 INFO Download rate 104.1K/s\n"
     ]
    },
    {
     "name": "stdout",
     "output_type": "stream",
     "text": [
      "downloading /home/nicolasf/research/CPP/indices/data/ERA5/daily/ERA5_daily_geopotential_1000_2018-07-15.nc\n"
     ]
    },
    {
     "name": "stderr",
     "output_type": "stream",
     "text": [
      "2020-06-14 13:32:35,485 INFO Welcome to the CDS\n",
      "2020-06-14 13:32:35,486 INFO Sending request to https://cds.climate.copernicus.eu/api/v2/resources/reanalysis-era5-pressure-levels\n",
      "2020-06-14 13:32:37,426 INFO Request is queued\n",
      "2020-06-14 13:32:38,759 INFO Request is completed\n",
      "2020-06-14 13:32:38,761 INFO Downloading http://136.156.133.42/cache-compute-0014/cache/data2/adaptor.mars.internal-1592098357.3698828-9043-32-a4d9171d-db51-455e-97ab-3a70b24a1976.nc to /home/nicolasf/research/CPP/indices/data/ERA5/daily/ERA5_daily_geopotential_1000_2018-07-15.nc (192.2K)\n",
      "2020-06-14 13:32:40,609 INFO Download rate 104.1K/s\n"
     ]
    },
    {
     "name": "stdout",
     "output_type": "stream",
     "text": [
      "downloading /home/nicolasf/research/CPP/indices/data/ERA5/daily/ERA5_daily_geopotential_1000_2018-07-16.nc\n"
     ]
    },
    {
     "name": "stderr",
     "output_type": "stream",
     "text": [
      "2020-06-14 13:32:43,063 INFO Welcome to the CDS\n",
      "2020-06-14 13:32:43,064 INFO Sending request to https://cds.climate.copernicus.eu/api/v2/resources/reanalysis-era5-pressure-levels\n",
      "2020-06-14 13:32:44,800 INFO Request is queued\n",
      "2020-06-14 13:32:46,082 INFO Request is completed\n",
      "2020-06-14 13:32:46,084 INFO Downloading http://136.156.133.39/cache-compute-0012/cache/data8/adaptor.mars.internal-1592098365.006269-13824-9-d3b2884b-d1e0-4164-a159-3e862d23cebc.nc to /home/nicolasf/research/CPP/indices/data/ERA5/daily/ERA5_daily_geopotential_1000_2018-07-16.nc (192.2K)\n",
      "2020-06-14 13:32:47,982 INFO Download rate 101.4K/s\n"
     ]
    },
    {
     "name": "stdout",
     "output_type": "stream",
     "text": [
      "downloading /home/nicolasf/research/CPP/indices/data/ERA5/daily/ERA5_daily_geopotential_1000_2018-07-17.nc\n"
     ]
    },
    {
     "name": "stderr",
     "output_type": "stream",
     "text": [
      "2020-06-14 13:32:50,743 INFO Welcome to the CDS\n",
      "2020-06-14 13:32:50,744 INFO Sending request to https://cds.climate.copernicus.eu/api/v2/resources/reanalysis-era5-pressure-levels\n",
      "2020-06-14 13:32:52,480 INFO Request is queued\n",
      "2020-06-14 13:32:53,812 INFO Request is completed\n",
      "2020-06-14 13:32:53,814 INFO Downloading http://136.156.132.153/cache-compute-0002/cache/data0/adaptor.mars.internal-1592098372.3960986-21333-3-ef7c31c8-8df9-45ff-829e-e28b33fdd57b.nc to /home/nicolasf/research/CPP/indices/data/ERA5/daily/ERA5_daily_geopotential_1000_2018-07-17.nc (192.2K)\n",
      "2020-06-14 13:32:55,660 INFO Download rate 104.2K/s\n"
     ]
    },
    {
     "name": "stdout",
     "output_type": "stream",
     "text": [
      "downloading /home/nicolasf/research/CPP/indices/data/ERA5/daily/ERA5_daily_geopotential_1000_2018-07-18.nc\n"
     ]
    },
    {
     "name": "stderr",
     "output_type": "stream",
     "text": [
      "2020-06-14 13:32:57,196 INFO Welcome to the CDS\n",
      "2020-06-14 13:32:57,196 INFO Sending request to https://cds.climate.copernicus.eu/api/v2/resources/reanalysis-era5-pressure-levels\n",
      "2020-06-14 13:32:58,932 INFO Request is queued\n",
      "2020-06-14 13:33:00,263 INFO Request is completed\n",
      "2020-06-14 13:33:00,265 INFO Downloading http://136.156.133.39/cache-compute-0012/cache/data2/adaptor.mars.internal-1592098378.8758907-9694-33-9f04c336-11df-4728-b00c-3af5e0f510d4.nc to /home/nicolasf/research/CPP/indices/data/ERA5/daily/ERA5_daily_geopotential_1000_2018-07-18.nc (192.2K)\n",
      "2020-06-14 13:33:02,113 INFO Download rate 104.1K/s\n"
     ]
    },
    {
     "name": "stdout",
     "output_type": "stream",
     "text": [
      "downloading /home/nicolasf/research/CPP/indices/data/ERA5/daily/ERA5_daily_geopotential_1000_2018-07-19.nc\n"
     ]
    },
    {
     "name": "stderr",
     "output_type": "stream",
     "text": [
      "2020-06-14 13:33:05,388 INFO Welcome to the CDS\n",
      "2020-06-14 13:33:05,388 INFO Sending request to https://cds.climate.copernicus.eu/api/v2/resources/reanalysis-era5-pressure-levels\n",
      "2020-06-14 13:33:07,022 INFO Request is queued\n",
      "2020-06-14 13:33:08,354 INFO Request is running\n",
      "2020-06-14 13:33:10,197 INFO Request is completed\n",
      "2020-06-14 13:33:10,198 INFO Downloading http://136.156.132.236/cache-compute-0007/cache/data3/adaptor.mars.internal-1592098387.372309-23874-1-216d377d-95de-450b-91ef-e03cfbd310c5.nc to /home/nicolasf/research/CPP/indices/data/ERA5/daily/ERA5_daily_geopotential_1000_2018-07-19.nc (192.2K)\n",
      "2020-06-14 13:33:12,045 INFO Download rate 104.2K/s\n"
     ]
    },
    {
     "name": "stdout",
     "output_type": "stream",
     "text": [
      "downloading /home/nicolasf/research/CPP/indices/data/ERA5/daily/ERA5_daily_geopotential_1000_2018-07-20.nc\n"
     ]
    },
    {
     "name": "stderr",
     "output_type": "stream",
     "text": [
      "2020-06-14 13:33:13,682 INFO Welcome to the CDS\n",
      "2020-06-14 13:33:13,682 INFO Sending request to https://cds.climate.copernicus.eu/api/v2/resources/reanalysis-era5-pressure-levels\n",
      "2020-06-14 13:33:15,090 INFO Request is queued\n",
      "2020-06-14 13:33:16,378 INFO Request is completed\n",
      "2020-06-14 13:33:16,380 INFO Downloading http://136.156.132.201/cache-compute-0004/cache/data1/adaptor.mars.internal-1592098395.0408278-21266-24-c0a971e6-cd47-4cd4-afc1-30bc1a1f4f3e.nc to /home/nicolasf/research/CPP/indices/data/ERA5/daily/ERA5_daily_geopotential_1000_2018-07-20.nc (192.2K)\n",
      "2020-06-14 13:33:18,293 INFO Download rate 100.5K/s\n"
     ]
    },
    {
     "name": "stdout",
     "output_type": "stream",
     "text": [
      "downloading /home/nicolasf/research/CPP/indices/data/ERA5/daily/ERA5_daily_geopotential_1000_2018-07-21.nc\n"
     ]
    },
    {
     "name": "stderr",
     "output_type": "stream",
     "text": [
      "2020-06-14 13:33:19,794 INFO Welcome to the CDS\n",
      "2020-06-14 13:33:19,795 INFO Sending request to https://cds.climate.copernicus.eu/api/v2/resources/reanalysis-era5-pressure-levels\n",
      "2020-06-14 13:33:21,150 INFO Request is queued\n",
      "2020-06-14 13:33:22,485 INFO Request is running\n",
      "2020-06-14 13:33:24,328 INFO Request is completed\n",
      "2020-06-14 13:33:24,330 INFO Downloading http://136.156.132.153/cache-compute-0002/cache/data8/adaptor.mars.internal-1592098401.9247785-19514-14-f51910fa-077f-4eae-bf0d-8b22b61d2543.nc to /home/nicolasf/research/CPP/indices/data/ERA5/daily/ERA5_daily_geopotential_1000_2018-07-21.nc (192.2K)\n",
      "2020-06-14 13:33:26,177 INFO Download rate 104.2K/s\n"
     ]
    },
    {
     "name": "stdout",
     "output_type": "stream",
     "text": [
      "downloading /home/nicolasf/research/CPP/indices/data/ERA5/daily/ERA5_daily_geopotential_1000_2018-07-22.nc\n"
     ]
    },
    {
     "name": "stderr",
     "output_type": "stream",
     "text": [
      "2020-06-14 13:33:27,813 INFO Welcome to the CDS\n",
      "2020-06-14 13:33:27,814 INFO Sending request to https://cds.climate.copernicus.eu/api/v2/resources/reanalysis-era5-pressure-levels\n",
      "2020-06-14 13:33:29,448 INFO Request is queued\n",
      "2020-06-14 13:33:30,779 INFO Request is running\n",
      "2020-06-14 13:33:32,623 INFO Request is completed\n",
      "2020-06-14 13:33:32,625 INFO Downloading http://136.156.133.37/cache-compute-0011/cache/data3/adaptor.mars.internal-1592098409.9329114-20158-9-af4fd08e-1f01-4c62-9ad0-b55cb7aa39de.nc to /home/nicolasf/research/CPP/indices/data/ERA5/daily/ERA5_daily_geopotential_1000_2018-07-22.nc (192.2K)\n",
      "2020-06-14 13:33:34,472 INFO Download rate 104.2K/s\n"
     ]
    },
    {
     "name": "stdout",
     "output_type": "stream",
     "text": [
      "downloading /home/nicolasf/research/CPP/indices/data/ERA5/daily/ERA5_daily_geopotential_1000_2018-07-23.nc\n"
     ]
    },
    {
     "name": "stderr",
     "output_type": "stream",
     "text": [
      "2020-06-14 13:33:36,006 INFO Welcome to the CDS\n",
      "2020-06-14 13:33:36,007 INFO Sending request to https://cds.climate.copernicus.eu/api/v2/resources/reanalysis-era5-pressure-levels\n",
      "2020-06-14 13:33:37,641 INFO Request is queued\n",
      "2020-06-14 13:33:38,972 INFO Request is completed\n",
      "2020-06-14 13:33:38,974 INFO Downloading http://136.156.132.153/cache-compute-0002/cache/data3/adaptor.mars.internal-1592098417.5545104-18647-19-6d7608ae-4b3f-47ec-bfcf-8430cff80953.nc to /home/nicolasf/research/CPP/indices/data/ERA5/daily/ERA5_daily_geopotential_1000_2018-07-23.nc (192.2K)\n",
      "2020-06-14 13:33:40,923 INFO Download rate 98.7K/s \n"
     ]
    },
    {
     "name": "stdout",
     "output_type": "stream",
     "text": [
      "downloading /home/nicolasf/research/CPP/indices/data/ERA5/daily/ERA5_daily_geopotential_1000_2018-07-24.nc\n"
     ]
    },
    {
     "name": "stderr",
     "output_type": "stream",
     "text": [
      "2020-06-14 13:33:42,560 INFO Welcome to the CDS\n",
      "2020-06-14 13:33:42,561 INFO Sending request to https://cds.climate.copernicus.eu/api/v2/resources/reanalysis-era5-pressure-levels\n",
      "2020-06-14 13:33:43,989 INFO Request is queued\n",
      "2020-06-14 13:33:45,322 INFO Request is running\n",
      "2020-06-14 13:33:47,164 INFO Request is completed\n",
      "2020-06-14 13:33:47,166 INFO Downloading http://136.156.132.198/cache-compute-0003/cache/data9/adaptor.mars.internal-1592098424.1382902-474-7-bd6de267-903d-4413-8117-56871ce47bd0.nc to /home/nicolasf/research/CPP/indices/data/ERA5/daily/ERA5_daily_geopotential_1000_2018-07-24.nc (192.2K)\n",
      "2020-06-14 13:33:49,014 INFO Download rate 104.1K/s\n"
     ]
    },
    {
     "name": "stdout",
     "output_type": "stream",
     "text": [
      "downloading /home/nicolasf/research/CPP/indices/data/ERA5/daily/ERA5_daily_geopotential_1000_2018-07-25.nc\n"
     ]
    },
    {
     "name": "stderr",
     "output_type": "stream",
     "text": [
      "2020-06-14 13:33:50,649 INFO Welcome to the CDS\n",
      "2020-06-14 13:33:50,650 INFO Sending request to https://cds.climate.copernicus.eu/api/v2/resources/reanalysis-era5-pressure-levels\n",
      "2020-06-14 13:33:51,950 INFO Request is queued\n",
      "2020-06-14 13:33:53,307 INFO Request is running\n",
      "2020-06-14 13:33:55,152 INFO Request is completed\n",
      "2020-06-14 13:33:55,153 INFO Downloading http://136.156.133.46/cache-compute-0015/cache/data9/adaptor.mars.internal-1592098432.276737-14410-28-1adc4faa-d2fd-428d-9c8e-20c1218b58d5.nc to /home/nicolasf/research/CPP/indices/data/ERA5/daily/ERA5_daily_geopotential_1000_2018-07-25.nc (192.2K)\n",
      "2020-06-14 13:33:56,999 INFO Download rate 104.3K/s\n"
     ]
    },
    {
     "name": "stdout",
     "output_type": "stream",
     "text": [
      "downloading /home/nicolasf/research/CPP/indices/data/ERA5/daily/ERA5_daily_geopotential_1000_2018-07-26.nc\n"
     ]
    },
    {
     "name": "stderr",
     "output_type": "stream",
     "text": [
      "2020-06-14 13:33:58,943 INFO Welcome to the CDS\n",
      "2020-06-14 13:33:58,944 INFO Sending request to https://cds.climate.copernicus.eu/api/v2/resources/reanalysis-era5-pressure-levels\n",
      "2020-06-14 13:34:00,988 INFO Request is queued\n",
      "2020-06-14 13:34:02,320 INFO Request is running\n",
      "2020-06-14 13:34:04,163 INFO Request is completed\n",
      "2020-06-14 13:34:04,165 INFO Downloading http://136.156.133.41/cache-compute-0013/cache/data4/adaptor.mars.internal-1592098441.1727822-18555-14-89ea5fa2-0f7e-4b75-8e5a-4b40a266e386.nc to /home/nicolasf/research/CPP/indices/data/ERA5/daily/ERA5_daily_geopotential_1000_2018-07-26.nc (192.2K)\n",
      "2020-06-14 13:34:06,115 INFO Download rate 98.6K/s \n"
     ]
    },
    {
     "name": "stdout",
     "output_type": "stream",
     "text": [
      "downloading /home/nicolasf/research/CPP/indices/data/ERA5/daily/ERA5_daily_geopotential_1000_2018-07-27.nc\n"
     ]
    },
    {
     "name": "stderr",
     "output_type": "stream",
     "text": [
      "2020-06-14 13:34:07,750 INFO Welcome to the CDS\n",
      "2020-06-14 13:34:07,751 INFO Sending request to https://cds.climate.copernicus.eu/api/v2/resources/reanalysis-era5-pressure-levels\n",
      "2020-06-14 13:34:09,898 INFO Request is queued\n",
      "2020-06-14 13:34:11,229 INFO Request is completed\n",
      "2020-06-14 13:34:11,231 INFO Downloading http://136.156.133.46/cache-compute-0015/cache/data8/adaptor.mars.internal-1592098449.717127-20729-1-e13396e2-a231-468c-b1ff-7afca1f93b72.nc to /home/nicolasf/research/CPP/indices/data/ERA5/daily/ERA5_daily_geopotential_1000_2018-07-27.nc (192.2K)\n",
      "2020-06-14 13:34:13,048 INFO Download rate 105.9K/s\n"
     ]
    },
    {
     "name": "stdout",
     "output_type": "stream",
     "text": [
      "downloading /home/nicolasf/research/CPP/indices/data/ERA5/daily/ERA5_daily_geopotential_1000_2018-07-28.nc\n"
     ]
    },
    {
     "name": "stderr",
     "output_type": "stream",
     "text": [
      "2020-06-14 13:34:14,713 INFO Welcome to the CDS\n",
      "2020-06-14 13:34:14,714 INFO Sending request to https://cds.climate.copernicus.eu/api/v2/resources/reanalysis-era5-pressure-levels\n",
      "2020-06-14 13:34:16,246 INFO Request is queued\n",
      "2020-06-14 13:34:17,576 INFO Request is completed\n",
      "2020-06-14 13:34:17,577 INFO Downloading http://136.156.132.210/cache-compute-0005/cache/data4/adaptor.mars.internal-1592098456.2820778-6634-24-4f574df5-3068-4764-9646-aa8cc8e65b84.nc to /home/nicolasf/research/CPP/indices/data/ERA5/daily/ERA5_daily_geopotential_1000_2018-07-28.nc (192.2K)\n",
      "2020-06-14 13:34:19,531 INFO Download rate 98.4K/s \n"
     ]
    },
    {
     "name": "stdout",
     "output_type": "stream",
     "text": [
      "downloading /home/nicolasf/research/CPP/indices/data/ERA5/daily/ERA5_daily_geopotential_1000_2018-07-29.nc\n"
     ]
    },
    {
     "name": "stderr",
     "output_type": "stream",
     "text": [
      "2020-06-14 13:34:21,137 INFO Welcome to the CDS\n",
      "2020-06-14 13:34:21,137 INFO Sending request to https://cds.climate.copernicus.eu/api/v2/resources/reanalysis-era5-pressure-levels\n",
      "2020-06-14 13:34:22,391 INFO Request is queued\n",
      "2020-06-14 13:34:23,722 INFO Request is completed\n",
      "2020-06-14 13:34:23,724 INFO Downloading http://136.156.133.39/cache-compute-0012/cache/data9/adaptor.mars.internal-1592098462.491026-16086-1-22f5ca2a-5887-4802-828f-45166bc2322f.nc to /home/nicolasf/research/CPP/indices/data/ERA5/daily/ERA5_daily_geopotential_1000_2018-07-29.nc (192.2K)\n",
      "2020-06-14 13:34:25,573 INFO Download rate 104.1K/s\n"
     ]
    },
    {
     "name": "stdout",
     "output_type": "stream",
     "text": [
      "downloading /home/nicolasf/research/CPP/indices/data/ERA5/daily/ERA5_daily_geopotential_1000_2018-07-30.nc\n"
     ]
    },
    {
     "name": "stderr",
     "output_type": "stream",
     "text": [
      "2020-06-14 13:34:27,207 INFO Welcome to the CDS\n",
      "2020-06-14 13:34:27,208 INFO Sending request to https://cds.climate.copernicus.eu/api/v2/resources/reanalysis-era5-pressure-levels\n",
      "2020-06-14 13:34:28,526 INFO Request is queued\n",
      "2020-06-14 13:34:29,866 INFO Request is completed\n",
      "2020-06-14 13:34:29,868 INFO Downloading http://136.156.132.235/cache-compute-0006/cache/data7/adaptor.mars.internal-1592098468.6042397-7789-31-fd9effc3-133b-409c-89e3-0eec6d1e2d3b.nc to /home/nicolasf/research/CPP/indices/data/ERA5/daily/ERA5_daily_geopotential_1000_2018-07-30.nc (192.2K)\n",
      "2020-06-14 13:34:33,252 INFO Download rate 56.8K/s \n"
     ]
    },
    {
     "name": "stdout",
     "output_type": "stream",
     "text": [
      "downloading /home/nicolasf/research/CPP/indices/data/ERA5/daily/ERA5_daily_geopotential_1000_2018-07-31.nc\n"
     ]
    },
    {
     "name": "stderr",
     "output_type": "stream",
     "text": [
      "2020-06-14 13:34:34,785 INFO Welcome to the CDS\n",
      "2020-06-14 13:34:34,785 INFO Sending request to https://cds.climate.copernicus.eu/api/v2/resources/reanalysis-era5-pressure-levels\n",
      "2020-06-14 13:34:36,035 INFO Request is queued\n",
      "2020-06-14 13:34:37,342 INFO Request is completed\n",
      "2020-06-14 13:34:37,343 INFO Downloading http://136.156.132.210/cache-compute-0005/cache/data7/adaptor.mars.internal-1592098476.005051-9342-11-3bffcf17-0aba-4c25-a1b6-87d789a5563f.nc to /home/nicolasf/research/CPP/indices/data/ERA5/daily/ERA5_daily_geopotential_1000_2018-07-31.nc (192.2K)\n",
      "2020-06-14 13:34:39,189 INFO Download rate 104.3K/s\n"
     ]
    },
    {
     "name": "stdout",
     "output_type": "stream",
     "text": [
      "downloading /home/nicolasf/research/CPP/indices/data/ERA5/daily/ERA5_daily_geopotential_1000_2018-08-01.nc\n"
     ]
    },
    {
     "name": "stderr",
     "output_type": "stream",
     "text": [
      "2020-06-14 13:34:41,544 INFO Welcome to the CDS\n",
      "2020-06-14 13:34:41,544 INFO Sending request to https://cds.climate.copernicus.eu/api/v2/resources/reanalysis-era5-pressure-levels\n",
      "2020-06-14 13:34:42,769 INFO Request is queued\n",
      "2020-06-14 13:34:44,100 INFO Request is completed\n",
      "2020-06-14 13:34:44,102 INFO Downloading http://136.156.133.32/cache-compute-0009/cache/data6/adaptor.mars.internal-1592098482.8782682-14940-9-94ca8f06-46f6-4626-8b8e-f4a7d16bd1ce.nc to /home/nicolasf/research/CPP/indices/data/ERA5/daily/ERA5_daily_geopotential_1000_2018-08-01.nc (192.2K)\n",
      "2020-06-14 13:34:45,947 INFO Download rate 104.3K/s\n"
     ]
    },
    {
     "name": "stdout",
     "output_type": "stream",
     "text": [
      "downloading /home/nicolasf/research/CPP/indices/data/ERA5/daily/ERA5_daily_geopotential_1000_2018-08-02.nc\n"
     ]
    },
    {
     "name": "stderr",
     "output_type": "stream",
     "text": [
      "2020-06-14 13:34:47,585 INFO Welcome to the CDS\n",
      "2020-06-14 13:34:47,586 INFO Sending request to https://cds.climate.copernicus.eu/api/v2/resources/reanalysis-era5-pressure-levels\n",
      "2020-06-14 13:34:48,972 INFO Request is queued\n",
      "2020-06-14 13:34:50,346 INFO Request is completed\n",
      "2020-06-14 13:34:50,348 INFO Downloading http://136.156.132.110/cache-compute-0001/cache/data4/adaptor.mars.internal-1592098489.086878-22335-14-2bbf60ed-8cf5-4ef4-9feb-3e6fc142e2f4.nc to /home/nicolasf/research/CPP/indices/data/ERA5/daily/ERA5_daily_geopotential_1000_2018-08-02.nc (192.2K)\n",
      "2020-06-14 13:34:52,197 INFO Download rate 104.1K/s\n"
     ]
    },
    {
     "name": "stdout",
     "output_type": "stream",
     "text": [
      "downloading /home/nicolasf/research/CPP/indices/data/ERA5/daily/ERA5_daily_geopotential_1000_2018-08-03.nc\n"
     ]
    },
    {
     "name": "stderr",
     "output_type": "stream",
     "text": [
      "2020-06-14 13:34:53,832 INFO Welcome to the CDS\n",
      "2020-06-14 13:34:53,832 INFO Sending request to https://cds.climate.copernicus.eu/api/v2/resources/reanalysis-era5-pressure-levels\n",
      "2020-06-14 13:34:55,057 INFO Request is queued\n",
      "2020-06-14 13:34:56,389 INFO Request is completed\n",
      "2020-06-14 13:34:56,390 INFO Downloading http://136.156.133.37/cache-compute-0011/cache/data0/adaptor.mars.internal-1592098494.9919932-17720-21-ba7ac403-08be-4969-a9a5-5f475c276f80.nc to /home/nicolasf/research/CPP/indices/data/ERA5/daily/ERA5_daily_geopotential_1000_2018-08-03.nc (192.2K)\n",
      "2020-06-14 13:34:58,236 INFO Download rate 104.2K/s\n"
     ]
    },
    {
     "name": "stdout",
     "output_type": "stream",
     "text": [
      "downloading /home/nicolasf/research/CPP/indices/data/ERA5/daily/ERA5_daily_geopotential_1000_2018-08-04.nc\n"
     ]
    },
    {
     "name": "stderr",
     "output_type": "stream",
     "text": [
      "2020-06-14 13:34:59,771 INFO Welcome to the CDS\n",
      "2020-06-14 13:34:59,772 INFO Sending request to https://cds.climate.copernicus.eu/api/v2/resources/reanalysis-era5-pressure-levels\n",
      "2020-06-14 13:35:01,028 INFO Request is queued\n",
      "2020-06-14 13:35:02,328 INFO Request is completed\n",
      "2020-06-14 13:35:02,329 INFO Downloading http://136.156.133.41/cache-compute-0013/cache/data6/adaptor.mars.internal-1592098501.060329-16398-31-bfd55a9a-1523-40ad-92ae-ab4d873fd58a.nc to /home/nicolasf/research/CPP/indices/data/ERA5/daily/ERA5_daily_geopotential_1000_2018-08-04.nc (192.2K)\n",
      "2020-06-14 13:35:04,178 INFO Download rate 104.1K/s\n"
     ]
    },
    {
     "name": "stdout",
     "output_type": "stream",
     "text": [
      "downloading /home/nicolasf/research/CPP/indices/data/ERA5/daily/ERA5_daily_geopotential_1000_2018-08-05.nc\n"
     ]
    },
    {
     "name": "stderr",
     "output_type": "stream",
     "text": [
      "2020-06-14 13:35:05,915 INFO Welcome to the CDS\n",
      "2020-06-14 13:35:05,916 INFO Sending request to https://cds.climate.copernicus.eu/api/v2/resources/reanalysis-era5-pressure-levels\n",
      "2020-06-14 13:35:07,166 INFO Request is queued\n",
      "2020-06-14 13:35:08,472 INFO Request is completed\n",
      "2020-06-14 13:35:08,474 INFO Downloading http://136.156.133.37/cache-compute-0011/cache/data3/adaptor.mars.internal-1592098507.1258345-17740-26-b939d9ba-57f6-4b9a-ad42-b1a9b5b38a91.nc to /home/nicolasf/research/CPP/indices/data/ERA5/daily/ERA5_daily_geopotential_1000_2018-08-05.nc (192.2K)\n",
      "2020-06-14 13:35:10,321 INFO Download rate 104.2K/s\n"
     ]
    },
    {
     "name": "stdout",
     "output_type": "stream",
     "text": [
      "downloading /home/nicolasf/research/CPP/indices/data/ERA5/daily/ERA5_daily_geopotential_1000_2018-08-06.nc\n"
     ]
    },
    {
     "name": "stderr",
     "output_type": "stream",
     "text": [
      "2020-06-14 13:35:11,855 INFO Welcome to the CDS\n",
      "2020-06-14 13:35:11,856 INFO Sending request to https://cds.climate.copernicus.eu/api/v2/resources/reanalysis-era5-pressure-levels\n",
      "2020-06-14 13:35:13,112 INFO Request is queued\n",
      "2020-06-14 13:35:14,410 INFO Request is completed\n",
      "2020-06-14 13:35:14,410 INFO Downloading http://136.156.132.210/cache-compute-0005/cache/data0/adaptor.mars.internal-1592098513.1866167-6634-26-d8dbbf9a-a903-4e85-8d42-c4044f571338.nc to /home/nicolasf/research/CPP/indices/data/ERA5/daily/ERA5_daily_geopotential_1000_2018-08-06.nc (192.2K)\n",
      "2020-06-14 13:35:16,261 INFO Download rate 103.9K/s\n"
     ]
    },
    {
     "name": "stdout",
     "output_type": "stream",
     "text": [
      "downloading /home/nicolasf/research/CPP/indices/data/ERA5/daily/ERA5_daily_geopotential_1000_2018-08-07.nc\n"
     ]
    },
    {
     "name": "stderr",
     "output_type": "stream",
     "text": [
      "2020-06-14 13:35:17,896 INFO Welcome to the CDS\n",
      "2020-06-14 13:35:17,897 INFO Sending request to https://cds.climate.copernicus.eu/api/v2/resources/reanalysis-era5-pressure-levels\n",
      "2020-06-14 13:35:19,326 INFO Request is queued\n",
      "2020-06-14 13:35:20,658 INFO Request is running\n",
      "2020-06-14 13:35:22,501 INFO Request is completed\n",
      "2020-06-14 13:35:22,503 INFO Downloading http://136.156.132.235/cache-compute-0006/cache/data4/adaptor.mars.internal-1592098519.42361-12803-5-8d86bd92-2bb5-4f1f-944a-4cd48282dbc5.nc to /home/nicolasf/research/CPP/indices/data/ERA5/daily/ERA5_daily_geopotential_1000_2018-08-07.nc (192.2K)\n",
      "2020-06-14 13:35:25,884 INFO Download rate 56.9K/s \n"
     ]
    },
    {
     "name": "stdout",
     "output_type": "stream",
     "text": [
      "downloading /home/nicolasf/research/CPP/indices/data/ERA5/daily/ERA5_daily_geopotential_1000_2018-08-08.nc\n"
     ]
    },
    {
     "name": "stderr",
     "output_type": "stream",
     "text": [
      "2020-06-14 13:35:27,522 INFO Welcome to the CDS\n",
      "2020-06-14 13:35:27,523 INFO Sending request to https://cds.climate.copernicus.eu/api/v2/resources/reanalysis-era5-pressure-levels\n",
      "2020-06-14 13:35:28,755 INFO Request is queued\n",
      "2020-06-14 13:35:30,079 INFO Request is completed\n",
      "2020-06-14 13:35:30,080 INFO Downloading http://136.156.133.37/cache-compute-0011/cache/data9/adaptor.mars.internal-1592098528.7109883-19666-16-fc20abb7-f60b-4e2e-befc-5c54667cfcf1.nc to /home/nicolasf/research/CPP/indices/data/ERA5/daily/ERA5_daily_geopotential_1000_2018-08-08.nc (192.2K)\n",
      "2020-06-14 13:35:31,860 INFO Download rate 108.2K/s\n"
     ]
    },
    {
     "name": "stdout",
     "output_type": "stream",
     "text": [
      "downloading /home/nicolasf/research/CPP/indices/data/ERA5/daily/ERA5_daily_geopotential_1000_2018-08-09.nc\n"
     ]
    },
    {
     "name": "stderr",
     "output_type": "stream",
     "text": [
      "2020-06-14 13:35:33,459 INFO Welcome to the CDS\n",
      "2020-06-14 13:35:33,460 INFO Sending request to https://cds.climate.copernicus.eu/api/v2/resources/reanalysis-era5-pressure-levels\n",
      "2020-06-14 13:35:34,891 INFO Request is queued\n",
      "2020-06-14 13:35:36,223 INFO Request is completed\n",
      "2020-06-14 13:35:36,225 INFO Downloading http://136.156.133.37/cache-compute-0011/cache/data2/adaptor.mars.internal-1592098534.8748937-20158-14-aefbfb39-4735-42e3-821f-4929e22f1ddb.nc to /home/nicolasf/research/CPP/indices/data/ERA5/daily/ERA5_daily_geopotential_1000_2018-08-09.nc (192.2K)\n",
      "2020-06-14 13:35:38,071 INFO Download rate 104.2K/s\n"
     ]
    },
    {
     "name": "stdout",
     "output_type": "stream",
     "text": [
      "downloading /home/nicolasf/research/CPP/indices/data/ERA5/daily/ERA5_daily_geopotential_1000_2018-08-10.nc\n"
     ]
    },
    {
     "name": "stderr",
     "output_type": "stream",
     "text": [
      "2020-06-14 13:35:39,708 INFO Welcome to the CDS\n",
      "2020-06-14 13:35:39,709 INFO Sending request to https://cds.climate.copernicus.eu/api/v2/resources/reanalysis-era5-pressure-levels\n",
      "2020-06-14 13:35:40,999 INFO Request is queued\n",
      "2020-06-14 13:35:42,369 INFO Request is completed\n",
      "2020-06-14 13:35:42,370 INFO Downloading http://136.156.132.110/cache-compute-0001/cache/data8/adaptor.mars.internal-1592098540.9691713-21155-22-2d4e8de9-67f2-4c76-8745-58b3183a630b.nc to /home/nicolasf/research/CPP/indices/data/ERA5/daily/ERA5_daily_geopotential_1000_2018-08-10.nc (192.2K)\n",
      "2020-06-14 13:35:44,113 INFO Download rate 110.4K/s\n"
     ]
    },
    {
     "name": "stdout",
     "output_type": "stream",
     "text": [
      "downloading /home/nicolasf/research/CPP/indices/data/ERA5/daily/ERA5_daily_geopotential_1000_2018-08-11.nc\n"
     ]
    },
    {
     "name": "stderr",
     "output_type": "stream",
     "text": [
      "2020-06-14 13:35:45,955 INFO Welcome to the CDS\n",
      "2020-06-14 13:35:45,956 INFO Sending request to https://cds.climate.copernicus.eu/api/v2/resources/reanalysis-era5-pressure-levels\n",
      "2020-06-14 13:35:47,384 INFO Request is queued\n",
      "2020-06-14 13:35:48,716 INFO Request is running\n",
      "2020-06-14 13:35:50,559 INFO Request is completed\n",
      "2020-06-14 13:35:50,561 INFO Downloading http://136.156.132.210/cache-compute-0005/cache/data3/adaptor.mars.internal-1592098547.3093941-12045-1-562b3b94-3699-492d-ba4c-4f85920856d7.nc to /home/nicolasf/research/CPP/indices/data/ERA5/daily/ERA5_daily_geopotential_1000_2018-08-11.nc (192.2K)\n",
      "2020-06-14 13:35:52,409 INFO Download rate 104.1K/s\n"
     ]
    },
    {
     "name": "stdout",
     "output_type": "stream",
     "text": [
      "downloading /home/nicolasf/research/CPP/indices/data/ERA5/daily/ERA5_daily_geopotential_1000_2018-08-12.nc\n"
     ]
    },
    {
     "name": "stderr",
     "output_type": "stream",
     "text": [
      "2020-06-14 13:35:54,147 INFO Welcome to the CDS\n",
      "2020-06-14 13:35:54,148 INFO Sending request to https://cds.climate.copernicus.eu/api/v2/resources/reanalysis-era5-pressure-levels\n",
      "2020-06-14 13:35:55,385 INFO Request is queued\n",
      "2020-06-14 13:35:56,704 INFO Request is running\n",
      "2020-06-14 13:35:58,547 INFO Request is completed\n",
      "2020-06-14 13:35:58,549 INFO Downloading http://136.156.133.37/cache-compute-0011/cache/data9/adaptor.mars.internal-1592098556.0637026-18413-24-53f91edd-7686-4a87-9921-fa8748c9107c.nc to /home/nicolasf/research/CPP/indices/data/ERA5/daily/ERA5_daily_geopotential_1000_2018-08-12.nc (192.2K)\n",
      "2020-06-14 13:36:00,394 INFO Download rate 104.3K/s\n"
     ]
    },
    {
     "name": "stdout",
     "output_type": "stream",
     "text": [
      "downloading /home/nicolasf/research/CPP/indices/data/ERA5/daily/ERA5_daily_geopotential_1000_2018-08-13.nc\n"
     ]
    },
    {
     "name": "stderr",
     "output_type": "stream",
     "text": [
      "2020-06-14 13:36:01,929 INFO Welcome to the CDS\n",
      "2020-06-14 13:36:01,930 INFO Sending request to https://cds.climate.copernicus.eu/api/v2/resources/reanalysis-era5-pressure-levels\n",
      "2020-06-14 13:36:03,206 INFO Request is queued\n",
      "2020-06-14 13:36:04,589 INFO Request is completed\n",
      "2020-06-14 13:36:04,591 INFO Downloading http://136.156.133.46/cache-compute-0015/cache/data4/adaptor.mars.internal-1592098563.3857832-20729-5-431a7c15-e1c9-4930-bf8e-4cb2c8d5ee61.nc to /home/nicolasf/research/CPP/indices/data/ERA5/daily/ERA5_daily_geopotential_1000_2018-08-13.nc (192.2K)\n",
      "2020-06-14 13:36:06,439 INFO Download rate 104.1K/s\n"
     ]
    },
    {
     "name": "stdout",
     "output_type": "stream",
     "text": [
      "downloading /home/nicolasf/research/CPP/indices/data/ERA5/daily/ERA5_daily_geopotential_1000_2018-08-14.nc\n"
     ]
    },
    {
     "name": "stderr",
     "output_type": "stream",
     "text": [
      "2020-06-14 13:36:08,381 INFO Welcome to the CDS\n",
      "2020-06-14 13:36:08,382 INFO Sending request to https://cds.climate.copernicus.eu/api/v2/resources/reanalysis-era5-pressure-levels\n",
      "2020-06-14 13:36:09,661 INFO Request is queued\n",
      "2020-06-14 13:36:11,040 INFO Request is running\n",
      "2020-06-14 13:36:12,883 INFO Request is completed\n",
      "2020-06-14 13:36:12,885 INFO Downloading http://136.156.132.201/cache-compute-0004/cache/data1/adaptor.mars.internal-1592098569.6120286-21602-29-3104737a-b46e-4a95-8267-6cb0d145f8b7.nc to /home/nicolasf/research/CPP/indices/data/ERA5/daily/ERA5_daily_geopotential_1000_2018-08-14.nc (192.2K)\n",
      "2020-06-14 13:36:14,732 INFO Download rate 104.2K/s\n"
     ]
    },
    {
     "name": "stdout",
     "output_type": "stream",
     "text": [
      "downloading /home/nicolasf/research/CPP/indices/data/ERA5/daily/ERA5_daily_geopotential_1000_2018-08-15.nc\n"
     ]
    },
    {
     "name": "stderr",
     "output_type": "stream",
     "text": [
      "2020-06-14 13:36:16,368 INFO Welcome to the CDS\n",
      "2020-06-14 13:36:16,369 INFO Sending request to https://cds.climate.copernicus.eu/api/v2/resources/reanalysis-era5-pressure-levels\n",
      "2020-06-14 13:36:17,594 INFO Request is queued\n",
      "2020-06-14 13:36:18,925 INFO Request is completed\n",
      "2020-06-14 13:36:18,927 INFO Downloading http://136.156.133.32/cache-compute-0009/cache/data1/adaptor.mars.internal-1592098577.6236281-12557-25-34c9d6a6-94b9-4362-b2d5-b6fc37ccb9ed.nc to /home/nicolasf/research/CPP/indices/data/ERA5/daily/ERA5_daily_geopotential_1000_2018-08-15.nc (192.2K)\n",
      "2020-06-14 13:36:20,778 INFO Download rate 103.9K/s\n"
     ]
    },
    {
     "name": "stdout",
     "output_type": "stream",
     "text": [
      "downloading /home/nicolasf/research/CPP/indices/data/ERA5/daily/ERA5_daily_geopotential_1000_2018-08-16.nc\n"
     ]
    },
    {
     "name": "stderr",
     "output_type": "stream",
     "text": [
      "2020-06-14 13:36:22,410 INFO Welcome to the CDS\n",
      "2020-06-14 13:36:22,410 INFO Sending request to https://cds.climate.copernicus.eu/api/v2/resources/reanalysis-era5-pressure-levels\n",
      "2020-06-14 13:36:23,711 INFO Request is queued\n",
      "2020-06-14 13:36:25,069 INFO Request is completed\n",
      "2020-06-14 13:36:25,071 INFO Downloading http://136.156.133.42/cache-compute-0014/cache/data7/adaptor.mars.internal-1592098583.799452-21900-5-cfae287b-e8a6-4272-a308-3793d7dd1785.nc to /home/nicolasf/research/CPP/indices/data/ERA5/daily/ERA5_daily_geopotential_1000_2018-08-16.nc (192.2K)\n",
      "2020-06-14 13:36:26,918 INFO Download rate 104.2K/s\n"
     ]
    },
    {
     "name": "stdout",
     "output_type": "stream",
     "text": [
      "downloading /home/nicolasf/research/CPP/indices/data/ERA5/daily/ERA5_daily_geopotential_1000_2018-08-17.nc\n"
     ]
    },
    {
     "name": "stderr",
     "output_type": "stream",
     "text": [
      "2020-06-14 13:36:28,554 INFO Welcome to the CDS\n",
      "2020-06-14 13:36:28,555 INFO Sending request to https://cds.climate.copernicus.eu/api/v2/resources/reanalysis-era5-pressure-levels\n",
      "2020-06-14 13:36:29,984 INFO Request is queued\n",
      "2020-06-14 13:36:31,316 INFO Request is completed\n",
      "2020-06-14 13:36:31,318 INFO Downloading http://136.156.133.42/cache-compute-0014/cache/data0/adaptor.mars.internal-1592098590.2037897-18190-24-3cdd528f-a88c-4d0b-b593-00cd3e7cefe6.nc to /home/nicolasf/research/CPP/indices/data/ERA5/daily/ERA5_daily_geopotential_1000_2018-08-17.nc (192.2K)\n",
      "2020-06-14 13:36:33,168 INFO Download rate 104.1K/s\n"
     ]
    },
    {
     "name": "stdout",
     "output_type": "stream",
     "text": [
      "downloading /home/nicolasf/research/CPP/indices/data/ERA5/daily/ERA5_daily_geopotential_1000_2018-08-18.nc\n"
     ]
    },
    {
     "name": "stderr",
     "output_type": "stream",
     "text": [
      "2020-06-14 13:36:34,699 INFO Welcome to the CDS\n",
      "2020-06-14 13:36:34,699 INFO Sending request to https://cds.climate.copernicus.eu/api/v2/resources/reanalysis-era5-pressure-levels\n",
      "2020-06-14 13:36:36,128 INFO Request is queued\n",
      "2020-06-14 13:36:37,460 INFO Request is running\n",
      "2020-06-14 13:36:39,303 INFO Request is completed\n",
      "2020-06-14 13:36:39,305 INFO Downloading http://136.156.132.201/cache-compute-0004/cache/data5/adaptor.mars.internal-1592098596.3467739-21338-31-11eb389a-16c3-415b-bdc0-4d239e344931.nc to /home/nicolasf/research/CPP/indices/data/ERA5/daily/ERA5_daily_geopotential_1000_2018-08-18.nc (192.2K)\n",
      "2020-06-14 13:36:41,153 INFO Download rate 104.1K/s\n"
     ]
    },
    {
     "name": "stdout",
     "output_type": "stream",
     "text": [
      "downloading /home/nicolasf/research/CPP/indices/data/ERA5/daily/ERA5_daily_geopotential_1000_2018-08-19.nc\n"
     ]
    },
    {
     "name": "stderr",
     "output_type": "stream",
     "text": [
      "2020-06-14 13:36:42,789 INFO Welcome to the CDS\n",
      "2020-06-14 13:36:42,789 INFO Sending request to https://cds.climate.copernicus.eu/api/v2/resources/reanalysis-era5-pressure-levels\n",
      "2020-06-14 13:36:44,187 INFO Request is queued\n",
      "2020-06-14 13:36:45,490 INFO Request is running\n",
      "2020-06-14 13:36:47,290 INFO Request is completed\n",
      "2020-06-14 13:36:47,292 INFO Downloading http://136.156.132.110/cache-compute-0001/cache/data5/adaptor.mars.internal-1592098604.6950414-24758-5-3a6cff87-9043-426a-a080-2c5f59c1d3bd.nc to /home/nicolasf/research/CPP/indices/data/ERA5/daily/ERA5_daily_geopotential_1000_2018-08-19.nc (192.2K)\n",
      "2020-06-14 13:36:49,143 INFO Download rate 104K/s  \n"
     ]
    },
    {
     "name": "stdout",
     "output_type": "stream",
     "text": [
      "downloading /home/nicolasf/research/CPP/indices/data/ERA5/daily/ERA5_daily_geopotential_1000_2018-08-20.nc\n"
     ]
    },
    {
     "name": "stderr",
     "output_type": "stream",
     "text": [
      "2020-06-14 13:36:51,186 INFO Welcome to the CDS\n",
      "2020-06-14 13:36:51,186 INFO Sending request to https://cds.climate.copernicus.eu/api/v2/resources/reanalysis-era5-pressure-levels\n",
      "2020-06-14 13:36:52,642 INFO Request is queued\n",
      "2020-06-14 13:36:53,947 INFO Request is completed\n",
      "2020-06-14 13:36:53,949 INFO Downloading http://136.156.133.42/cache-compute-0014/cache/data6/adaptor.mars.internal-1592098612.6933987-22732-1-9a245aa6-b818-4a7d-bb6a-02f1252125ff.nc to /home/nicolasf/research/CPP/indices/data/ERA5/daily/ERA5_daily_geopotential_1000_2018-08-20.nc (192.2K)\n",
      "2020-06-14 13:36:55,797 INFO Download rate 104.1K/s\n"
     ]
    },
    {
     "name": "stdout",
     "output_type": "stream",
     "text": [
      "downloading /home/nicolasf/research/CPP/indices/data/ERA5/daily/ERA5_daily_geopotential_1000_2018-08-21.nc\n"
     ]
    },
    {
     "name": "stderr",
     "output_type": "stream",
     "text": [
      "2020-06-14 13:36:57,534 INFO Welcome to the CDS\n",
      "2020-06-14 13:36:57,535 INFO Sending request to https://cds.climate.copernicus.eu/api/v2/resources/reanalysis-era5-pressure-levels\n",
      "2020-06-14 13:36:58,964 INFO Request is queued\n",
      "2020-06-14 13:37:00,296 INFO Request is completed\n",
      "2020-06-14 13:37:00,297 INFO Downloading http://136.156.133.39/cache-compute-0012/cache/data6/adaptor.mars.internal-1592098619.1109521-16730-3-87fcdaa6-62e5-4e64-b9f9-bbc4cc1ca138.nc to /home/nicolasf/research/CPP/indices/data/ERA5/daily/ERA5_daily_geopotential_1000_2018-08-21.nc (192.2K)\n",
      "2020-06-14 13:37:02,145 INFO Download rate 104.1K/s\n"
     ]
    },
    {
     "name": "stdout",
     "output_type": "stream",
     "text": [
      "downloading /home/nicolasf/research/CPP/indices/data/ERA5/daily/ERA5_daily_geopotential_1000_2018-08-22.nc\n"
     ]
    },
    {
     "name": "stderr",
     "output_type": "stream",
     "text": [
      "2020-06-14 13:37:03,986 INFO Welcome to the CDS\n",
      "2020-06-14 13:37:03,988 INFO Sending request to https://cds.climate.copernicus.eu/api/v2/resources/reanalysis-era5-pressure-levels\n",
      "2020-06-14 13:37:05,415 INFO Request is queued\n",
      "2020-06-14 13:37:06,747 INFO Request is completed\n",
      "2020-06-14 13:37:06,749 INFO Downloading http://136.156.132.110/cache-compute-0001/cache/data4/adaptor.mars.internal-1592098625.3838341-25341-3-96fcb170-a2b7-4706-a8fe-aeb98e60dba5.nc to /home/nicolasf/research/CPP/indices/data/ERA5/daily/ERA5_daily_geopotential_1000_2018-08-22.nc (192.2K)\n",
      "2020-06-14 13:37:08,598 INFO Download rate 104K/s  \n"
     ]
    },
    {
     "name": "stdout",
     "output_type": "stream",
     "text": [
      "downloading /home/nicolasf/research/CPP/indices/data/ERA5/daily/ERA5_daily_geopotential_1000_2018-08-23.nc\n"
     ]
    },
    {
     "name": "stderr",
     "output_type": "stream",
     "text": [
      "2020-06-14 13:37:10,232 INFO Welcome to the CDS\n",
      "2020-06-14 13:37:10,233 INFO Sending request to https://cds.climate.copernicus.eu/api/v2/resources/reanalysis-era5-pressure-levels\n",
      "2020-06-14 13:37:11,560 INFO Request is queued\n",
      "2020-06-14 13:37:12,891 INFO Request is completed\n",
      "2020-06-14 13:37:12,893 INFO Downloading http://136.156.133.32/cache-compute-0009/cache/data0/adaptor.mars.internal-1592098631.6576557-12557-27-b2fde0f2-ce39-487b-9271-4611a85aee02.nc to /home/nicolasf/research/CPP/indices/data/ERA5/daily/ERA5_daily_geopotential_1000_2018-08-23.nc (192.2K)\n",
      "2020-06-14 13:37:14,741 INFO Download rate 104.1K/s\n"
     ]
    },
    {
     "name": "stdout",
     "output_type": "stream",
     "text": [
      "downloading /home/nicolasf/research/CPP/indices/data/ERA5/daily/ERA5_daily_geopotential_1000_2018-08-24.nc\n"
     ]
    },
    {
     "name": "stderr",
     "output_type": "stream",
     "text": [
      "2020-06-14 13:37:16,377 INFO Welcome to the CDS\n",
      "2020-06-14 13:37:16,378 INFO Sending request to https://cds.climate.copernicus.eu/api/v2/resources/reanalysis-era5-pressure-levels\n",
      "2020-06-14 13:37:17,909 INFO Request is queued\n",
      "2020-06-14 13:37:19,240 INFO Request is completed\n",
      "2020-06-14 13:37:19,242 INFO Downloading http://136.156.132.235/cache-compute-0006/cache/data6/adaptor.mars.internal-1592098637.9200814-14092-3-ca77890d-bcb9-41d1-bda5-f3f73954fe90.nc to /home/nicolasf/research/CPP/indices/data/ERA5/daily/ERA5_daily_geopotential_1000_2018-08-24.nc (192.2K)\n",
      "2020-06-14 13:37:22,520 INFO Download rate 58.7K/s \n"
     ]
    },
    {
     "name": "stdout",
     "output_type": "stream",
     "text": [
      "downloading /home/nicolasf/research/CPP/indices/data/ERA5/daily/ERA5_daily_geopotential_1000_2018-08-25.nc\n"
     ]
    },
    {
     "name": "stderr",
     "output_type": "stream",
     "text": [
      "2020-06-14 13:37:24,364 INFO Welcome to the CDS\n",
      "2020-06-14 13:37:24,365 INFO Sending request to https://cds.climate.copernicus.eu/api/v2/resources/reanalysis-era5-pressure-levels\n",
      "2020-06-14 13:37:25,999 INFO Request is queued\n",
      "2020-06-14 13:37:27,330 INFO Request is running\n",
      "2020-06-14 13:37:29,173 INFO Request is completed\n",
      "2020-06-14 13:37:29,175 INFO Downloading http://136.156.132.210/cache-compute-0005/cache/data4/adaptor.mars.internal-1592098646.1638503-7411-29-618f9dde-c8a6-445b-982d-df06ffa2184a.nc to /home/nicolasf/research/CPP/indices/data/ERA5/daily/ERA5_daily_geopotential_1000_2018-08-25.nc (192.2K)\n",
      "2020-06-14 13:37:31,021 INFO Download rate 104.2K/s\n"
     ]
    },
    {
     "name": "stdout",
     "output_type": "stream",
     "text": [
      "downloading /home/nicolasf/research/CPP/indices/data/ERA5/daily/ERA5_daily_geopotential_1000_2018-08-26.nc\n"
     ]
    },
    {
     "name": "stderr",
     "output_type": "stream",
     "text": [
      "2020-06-14 13:37:32,659 INFO Welcome to the CDS\n",
      "2020-06-14 13:37:32,659 INFO Sending request to https://cds.climate.copernicus.eu/api/v2/resources/reanalysis-era5-pressure-levels\n",
      "2020-06-14 13:37:34,191 INFO Request is queued\n",
      "2020-06-14 13:37:35,522 INFO Request is running\n",
      "2020-06-14 13:37:37,366 INFO Request is completed\n",
      "2020-06-14 13:37:37,368 INFO Downloading http://136.156.133.36/cache-compute-0010/cache/data0/adaptor.mars.internal-1592098654.502112-25173-27-f5ed0977-f722-4fab-8977-5f0ded7962d4.nc to /home/nicolasf/research/CPP/indices/data/ERA5/daily/ERA5_daily_geopotential_1000_2018-08-26.nc (192.2K)\n",
      "2020-06-14 13:37:39,213 INFO Download rate 104.3K/s\n"
     ]
    },
    {
     "name": "stdout",
     "output_type": "stream",
     "text": [
      "downloading /home/nicolasf/research/CPP/indices/data/ERA5/daily/ERA5_daily_geopotential_1000_2018-08-27.nc\n"
     ]
    },
    {
     "name": "stderr",
     "output_type": "stream",
     "text": [
      "2020-06-14 13:37:41,567 INFO Welcome to the CDS\n",
      "2020-06-14 13:37:41,568 INFO Sending request to https://cds.climate.copernicus.eu/api/v2/resources/reanalysis-era5-pressure-levels\n",
      "2020-06-14 13:37:42,997 INFO Request is queued\n",
      "2020-06-14 13:37:44,329 INFO Request is completed\n",
      "2020-06-14 13:37:44,331 INFO Downloading http://136.156.132.110/cache-compute-0001/cache/data3/adaptor.mars.internal-1592098663.0693214-24758-7-3256e759-6e92-4598-8f68-dd4edf37ee4a.nc to /home/nicolasf/research/CPP/indices/data/ERA5/daily/ERA5_daily_geopotential_1000_2018-08-27.nc (192.2K)\n",
      "2020-06-14 13:37:46,181 INFO Download rate 104K/s  \n"
     ]
    },
    {
     "name": "stdout",
     "output_type": "stream",
     "text": [
      "downloading /home/nicolasf/research/CPP/indices/data/ERA5/daily/ERA5_daily_geopotential_1000_2018-08-28.nc\n"
     ]
    },
    {
     "name": "stderr",
     "output_type": "stream",
     "text": [
      "2020-06-14 13:37:47,814 INFO Welcome to the CDS\n",
      "2020-06-14 13:37:47,815 INFO Sending request to https://cds.climate.copernicus.eu/api/v2/resources/reanalysis-era5-pressure-levels\n",
      "2020-06-14 13:37:49,244 INFO Request is queued\n",
      "2020-06-14 13:37:50,575 INFO Request is running\n",
      "2020-06-14 13:37:52,360 INFO Request is completed\n",
      "2020-06-14 13:37:52,360 INFO Downloading http://136.156.132.235/cache-compute-0006/cache/data0/adaptor.mars.internal-1592098669.350111-10226-24-ee7775cc-a5f9-42e5-ae7e-8e7db6573461.nc to /home/nicolasf/research/CPP/indices/data/ERA5/daily/ERA5_daily_geopotential_1000_2018-08-28.nc (192.2K)\n",
      "2020-06-14 13:37:55,700 INFO Download rate 57.6K/s \n"
     ]
    },
    {
     "name": "stdout",
     "output_type": "stream",
     "text": [
      "downloading /home/nicolasf/research/CPP/indices/data/ERA5/daily/ERA5_daily_geopotential_1000_2018-08-29.nc\n"
     ]
    },
    {
     "name": "stderr",
     "output_type": "stream",
     "text": [
      "2020-06-14 13:37:57,850 INFO Welcome to the CDS\n",
      "2020-06-14 13:37:57,851 INFO Sending request to https://cds.climate.copernicus.eu/api/v2/resources/reanalysis-era5-pressure-levels\n",
      "2020-06-14 13:37:59,689 INFO Request is queued\n",
      "2020-06-14 13:38:01,020 INFO Request is running\n",
      "2020-06-14 13:38:02,863 INFO Request is completed\n",
      "2020-06-14 13:38:02,865 INFO Downloading http://136.156.133.32/cache-compute-0009/cache/data9/adaptor.mars.internal-1592098679.9957895-12117-33-eaffc7b7-0a65-4c09-ae9e-a24a510c4f08.nc to /home/nicolasf/research/CPP/indices/data/ERA5/daily/ERA5_daily_geopotential_1000_2018-08-29.nc (192.2K)\n",
      "2020-06-14 13:38:04,712 INFO Download rate 104.2K/s\n"
     ]
    },
    {
     "name": "stdout",
     "output_type": "stream",
     "text": [
      "downloading /home/nicolasf/research/CPP/indices/data/ERA5/daily/ERA5_daily_geopotential_1000_2018-08-30.nc\n"
     ]
    },
    {
     "name": "stderr",
     "output_type": "stream",
     "text": [
      "2020-06-14 13:38:07,066 INFO Welcome to the CDS\n",
      "2020-06-14 13:38:07,067 INFO Sending request to https://cds.climate.copernicus.eu/api/v2/resources/reanalysis-era5-pressure-levels\n",
      "2020-06-14 13:38:08,354 INFO Request is queued\n",
      "2020-06-14 13:38:09,724 INFO Request is running\n",
      "2020-06-14 13:38:11,567 INFO Request is completed\n",
      "2020-06-14 13:38:11,569 INFO Downloading http://136.156.133.25/cache-compute-0008/cache/data9/adaptor.mars.internal-1592098688.536151-4174-13-40e55318-5420-4169-85af-bf192ed93dd1.nc to /home/nicolasf/research/CPP/indices/data/ERA5/daily/ERA5_daily_geopotential_1000_2018-08-30.nc (192.2K)\n",
      "2020-06-14 13:38:13,417 INFO Download rate 104.2K/s\n"
     ]
    },
    {
     "name": "stdout",
     "output_type": "stream",
     "text": [
      "downloading /home/nicolasf/research/CPP/indices/data/ERA5/daily/ERA5_daily_geopotential_1000_2018-08-31.nc\n"
     ]
    },
    {
     "name": "stderr",
     "output_type": "stream",
     "text": [
      "2020-06-14 13:38:15,463 INFO Welcome to the CDS\n",
      "2020-06-14 13:38:15,464 INFO Sending request to https://cds.climate.copernicus.eu/api/v2/resources/reanalysis-era5-pressure-levels\n",
      "2020-06-14 13:38:17,098 INFO Request is queued\n",
      "2020-06-14 13:38:18,429 INFO Request is running\n",
      "2020-06-14 13:38:20,272 INFO Request is completed\n",
      "2020-06-14 13:38:20,274 INFO Downloading http://136.156.133.39/cache-compute-0012/cache/data1/adaptor.mars.internal-1592098698.1852987-16792-5-5fd9a163-404d-4813-a64c-c6babb7f97b3.nc to /home/nicolasf/research/CPP/indices/data/ERA5/daily/ERA5_daily_geopotential_1000_2018-08-31.nc (192.2K)\n",
      "2020-06-14 13:38:22,119 INFO Download rate 104.3K/s\n"
     ]
    },
    {
     "name": "stdout",
     "output_type": "stream",
     "text": [
      "downloading /home/nicolasf/research/CPP/indices/data/ERA5/daily/ERA5_daily_geopotential_1000_2018-09-01.nc\n"
     ]
    },
    {
     "name": "stderr",
     "output_type": "stream",
     "text": [
      "2020-06-14 13:38:23,688 INFO Welcome to the CDS\n",
      "2020-06-14 13:38:23,689 INFO Sending request to https://cds.climate.copernicus.eu/api/v2/resources/reanalysis-era5-pressure-levels\n",
      "2020-06-14 13:38:25,042 INFO Request is queued\n",
      "2020-06-14 13:38:26,417 INFO Request is running\n",
      "2020-06-14 13:38:28,260 INFO Request is completed\n",
      "2020-06-14 13:38:28,262 INFO Downloading http://136.156.133.37/cache-compute-0011/cache/data0/adaptor.mars.internal-1592098705.1982608-19666-22-fee7381f-d97d-4c12-b4e2-5cca30c0ef62.nc to /home/nicolasf/research/CPP/indices/data/ERA5/daily/ERA5_daily_geopotential_1000_2018-09-01.nc (192.2K)\n",
      "2020-06-14 13:38:30,108 INFO Download rate 104.2K/s\n"
     ]
    },
    {
     "name": "stdout",
     "output_type": "stream",
     "text": [
      "downloading /home/nicolasf/research/CPP/indices/data/ERA5/daily/ERA5_daily_geopotential_1000_2018-09-02.nc\n"
     ]
    },
    {
     "name": "stderr",
     "output_type": "stream",
     "text": [
      "2020-06-14 13:38:31,847 INFO Welcome to the CDS\n",
      "2020-06-14 13:38:31,848 INFO Sending request to https://cds.climate.copernicus.eu/api/v2/resources/reanalysis-era5-pressure-levels\n",
      "2020-06-14 13:38:33,277 INFO Request is queued\n",
      "2020-06-14 13:38:34,608 INFO Request is completed\n",
      "2020-06-14 13:38:34,611 INFO Downloading http://136.156.133.36/cache-compute-0010/cache/data0/adaptor.mars.internal-1592098713.2159576-28426-12-e6c31bbb-f90a-4610-97e4-0eb8439ec779.nc to /home/nicolasf/research/CPP/indices/data/ERA5/daily/ERA5_daily_geopotential_1000_2018-09-02.nc (192.2K)\n",
      "2020-06-14 13:38:36,458 INFO Download rate 104.1K/s\n"
     ]
    },
    {
     "name": "stdout",
     "output_type": "stream",
     "text": [
      "downloading /home/nicolasf/research/CPP/indices/data/ERA5/daily/ERA5_daily_geopotential_1000_2018-09-03.nc\n"
     ]
    },
    {
     "name": "stderr",
     "output_type": "stream",
     "text": [
      "2020-06-14 13:38:38,193 INFO Welcome to the CDS\n",
      "2020-06-14 13:38:38,194 INFO Sending request to https://cds.climate.copernicus.eu/api/v2/resources/reanalysis-era5-pressure-levels\n",
      "2020-06-14 13:38:39,728 INFO Request is queued\n",
      "2020-06-14 13:38:41,060 INFO Request is completed\n",
      "2020-06-14 13:38:41,062 INFO Downloading http://136.156.132.110/cache-compute-0001/cache/data7/adaptor.mars.internal-1592098719.611037-21155-29-5389d863-3d8f-485a-b86e-90e131005155.nc to /home/nicolasf/research/CPP/indices/data/ERA5/daily/ERA5_daily_geopotential_1000_2018-09-03.nc (192.2K)\n",
      "2020-06-14 13:38:42,910 INFO Download rate 104.1K/s\n"
     ]
    },
    {
     "name": "stdout",
     "output_type": "stream",
     "text": [
      "downloading /home/nicolasf/research/CPP/indices/data/ERA5/daily/ERA5_daily_geopotential_1000_2018-09-04.nc\n"
     ]
    },
    {
     "name": "stderr",
     "output_type": "stream",
     "text": [
      "2020-06-14 13:38:44,443 INFO Welcome to the CDS\n",
      "2020-06-14 13:38:44,443 INFO Sending request to https://cds.climate.copernicus.eu/api/v2/resources/reanalysis-era5-pressure-levels\n",
      "2020-06-14 13:38:45,975 INFO Request is queued\n",
      "2020-06-14 13:38:47,306 INFO Request is running\n",
      "2020-06-14 13:38:49,150 INFO Request is completed\n",
      "2020-06-14 13:38:49,152 INFO Downloading http://136.156.132.198/cache-compute-0003/cache/data5/adaptor.mars.internal-1592098725.9215465-31550-27-c3d92a34-005b-4289-9beb-fd33a12ee97b.nc to /home/nicolasf/research/CPP/indices/data/ERA5/daily/ERA5_daily_geopotential_1000_2018-09-04.nc (192.2K)\n",
      "2020-06-14 13:38:51,000 INFO Download rate 104.1K/s\n"
     ]
    },
    {
     "name": "stdout",
     "output_type": "stream",
     "text": [
      "downloading /home/nicolasf/research/CPP/indices/data/ERA5/daily/ERA5_daily_geopotential_1000_2018-09-05.nc\n"
     ]
    },
    {
     "name": "stderr",
     "output_type": "stream",
     "text": [
      "2020-06-14 13:38:52,635 INFO Welcome to the CDS\n",
      "2020-06-14 13:38:52,635 INFO Sending request to https://cds.climate.copernicus.eu/api/v2/resources/reanalysis-era5-pressure-levels\n",
      "2020-06-14 13:38:54,166 INFO Request is queued\n",
      "2020-06-14 13:38:55,499 INFO Request is completed\n",
      "2020-06-14 13:38:55,500 INFO Downloading http://136.156.133.39/cache-compute-0012/cache/data9/adaptor.mars.internal-1592098734.412154-13824-22-f503f6f2-ae3b-41eb-bcb5-518067497d3b.nc to /home/nicolasf/research/CPP/indices/data/ERA5/daily/ERA5_daily_geopotential_1000_2018-09-05.nc (192.2K)\n",
      "2020-06-14 13:38:57,347 INFO Download rate 104.2K/s\n"
     ]
    },
    {
     "name": "stdout",
     "output_type": "stream",
     "text": [
      "downloading /home/nicolasf/research/CPP/indices/data/ERA5/daily/ERA5_daily_geopotential_1000_2018-09-06.nc\n"
     ]
    },
    {
     "name": "stderr",
     "output_type": "stream",
     "text": [
      "2020-06-14 13:38:58,984 INFO Welcome to the CDS\n",
      "2020-06-14 13:38:58,984 INFO Sending request to https://cds.climate.copernicus.eu/api/v2/resources/reanalysis-era5-pressure-levels\n",
      "2020-06-14 13:39:00,823 INFO Request is queued\n",
      "2020-06-14 13:39:02,155 INFO Request is completed\n",
      "2020-06-14 13:39:02,156 INFO Downloading http://136.156.133.41/cache-compute-0013/cache/data5/adaptor.mars.internal-1592098740.6441562-22569-5-385dc5ba-f592-4fab-9c79-4b6b221ed2ab.nc to /home/nicolasf/research/CPP/indices/data/ERA5/daily/ERA5_daily_geopotential_1000_2018-09-06.nc (192.2K)\n",
      "2020-06-14 13:39:04,105 INFO Download rate 98.7K/s \n"
     ]
    },
    {
     "name": "stdout",
     "output_type": "stream",
     "text": [
      "downloading /home/nicolasf/research/CPP/indices/data/ERA5/daily/ERA5_daily_geopotential_1000_2018-09-07.nc\n"
     ]
    },
    {
     "name": "stderr",
     "output_type": "stream",
     "text": [
      "2020-06-14 13:39:05,742 INFO Welcome to the CDS\n",
      "2020-06-14 13:39:05,742 INFO Sending request to https://cds.climate.copernicus.eu/api/v2/resources/reanalysis-era5-pressure-levels\n",
      "2020-06-14 13:39:07,162 INFO Request is queued\n",
      "2020-06-14 13:39:08,506 INFO Request is running\n",
      "2020-06-14 13:39:10,347 INFO Request is completed\n",
      "2020-06-14 13:39:10,349 INFO Downloading http://136.156.132.153/cache-compute-0002/cache/data8/adaptor.mars.internal-1592098747.4253378-22100-12-2fa02b2b-9f39-4cb7-a585-be99610d055f.nc to /home/nicolasf/research/CPP/indices/data/ERA5/daily/ERA5_daily_geopotential_1000_2018-09-07.nc (192.2K)\n",
      "2020-06-14 13:39:12,503 INFO Download rate 89.3K/s \n"
     ]
    },
    {
     "name": "stdout",
     "output_type": "stream",
     "text": [
      "downloading /home/nicolasf/research/CPP/indices/data/ERA5/daily/ERA5_daily_geopotential_1000_2018-09-08.nc\n"
     ]
    },
    {
     "name": "stderr",
     "output_type": "stream",
     "text": [
      "2020-06-14 13:39:14,139 INFO Welcome to the CDS\n",
      "2020-06-14 13:39:14,141 INFO Sending request to https://cds.climate.copernicus.eu/api/v2/resources/reanalysis-era5-pressure-levels\n",
      "2020-06-14 13:39:15,658 INFO Request is queued\n",
      "2020-06-14 13:39:17,003 INFO Request is running\n",
      "2020-06-14 13:39:18,846 INFO Request is completed\n",
      "2020-06-14 13:39:18,848 INFO Downloading http://136.156.133.42/cache-compute-0014/cache/data7/adaptor.mars.internal-1592098755.9277039-17218-35-8594cef6-66ba-4d22-ad37-51922392147e.nc to /home/nicolasf/research/CPP/indices/data/ERA5/daily/ERA5_daily_geopotential_1000_2018-09-08.nc (192.2K)\n",
      "2020-06-14 13:39:20,694 INFO Download rate 104.2K/s\n"
     ]
    },
    {
     "name": "stdout",
     "output_type": "stream",
     "text": [
      "downloading /home/nicolasf/research/CPP/indices/data/ERA5/daily/ERA5_daily_geopotential_1000_2018-09-09.nc\n"
     ]
    },
    {
     "name": "stderr",
     "output_type": "stream",
     "text": [
      "2020-06-14 13:39:22,332 INFO Welcome to the CDS\n",
      "2020-06-14 13:39:22,332 INFO Sending request to https://cds.climate.copernicus.eu/api/v2/resources/reanalysis-era5-pressure-levels\n",
      "2020-06-14 13:39:23,761 INFO Request is queued\n",
      "2020-06-14 13:39:25,092 INFO Request is completed\n",
      "2020-06-14 13:39:25,093 INFO Downloading http://136.156.133.39/cache-compute-0012/cache/data8/adaptor.mars.internal-1592098763.6615398-16494-9-776b1807-08cd-4850-b8a2-ddf766eb40c2.nc to /home/nicolasf/research/CPP/indices/data/ERA5/daily/ERA5_daily_geopotential_1000_2018-09-09.nc (192.2K)\n",
      "2020-06-14 13:39:26,943 INFO Download rate 103.9K/s\n"
     ]
    },
    {
     "name": "stdout",
     "output_type": "stream",
     "text": [
      "downloading /home/nicolasf/research/CPP/indices/data/ERA5/daily/ERA5_daily_geopotential_1000_2018-09-10.nc\n"
     ]
    },
    {
     "name": "stderr",
     "output_type": "stream",
     "text": [
      "2020-06-14 13:39:28,681 INFO Welcome to the CDS\n",
      "2020-06-14 13:39:28,682 INFO Sending request to https://cds.climate.copernicus.eu/api/v2/resources/reanalysis-era5-pressure-levels\n",
      "2020-06-14 13:39:30,110 INFO Request is queued\n",
      "2020-06-14 13:39:31,442 INFO Request is completed\n",
      "2020-06-14 13:39:31,444 INFO Downloading http://136.156.132.153/cache-compute-0002/cache/data3/adaptor.mars.internal-1592098770.079551-20636-18-b8854df3-558d-4f7f-b625-432035ea38fe.nc to /home/nicolasf/research/CPP/indices/data/ERA5/daily/ERA5_daily_geopotential_1000_2018-09-10.nc (192.2K)\n",
      "2020-06-14 13:39:33,398 INFO Download rate 98.4K/s \n"
     ]
    },
    {
     "name": "stdout",
     "output_type": "stream",
     "text": [
      "downloading /home/nicolasf/research/CPP/indices/data/ERA5/daily/ERA5_daily_geopotential_1000_2018-09-11.nc\n"
     ]
    },
    {
     "name": "stderr",
     "output_type": "stream",
     "text": [
      "2020-06-14 13:39:35,132 INFO Welcome to the CDS\n",
      "2020-06-14 13:39:35,132 INFO Sending request to https://cds.climate.copernicus.eu/api/v2/resources/reanalysis-era5-pressure-levels\n",
      "2020-06-14 13:39:36,456 INFO Request is queued\n",
      "2020-06-14 13:39:37,791 INFO Request is completed\n",
      "2020-06-14 13:39:37,792 INFO Downloading http://136.156.133.42/cache-compute-0014/cache/data2/adaptor.mars.internal-1592098776.4237528-18190-31-64da26da-273e-42da-9499-00650ea9d9f7.nc to /home/nicolasf/research/CPP/indices/data/ERA5/daily/ERA5_daily_geopotential_1000_2018-09-11.nc (192.2K)\n",
      "2020-06-14 13:39:39,639 INFO Download rate 104.2K/s\n"
     ]
    },
    {
     "name": "stdout",
     "output_type": "stream",
     "text": [
      "downloading /home/nicolasf/research/CPP/indices/data/ERA5/daily/ERA5_daily_geopotential_1000_2018-09-12.nc\n"
     ]
    },
    {
     "name": "stderr",
     "output_type": "stream",
     "text": [
      "2020-06-14 13:39:41,276 INFO Welcome to the CDS\n",
      "2020-06-14 13:39:41,276 INFO Sending request to https://cds.climate.copernicus.eu/api/v2/resources/reanalysis-era5-pressure-levels\n",
      "2020-06-14 13:39:42,706 INFO Request is queued\n",
      "2020-06-14 13:39:44,037 INFO Request is completed\n",
      "2020-06-14 13:39:44,039 INFO Downloading http://136.156.133.46/cache-compute-0015/cache/data4/adaptor.mars.internal-1592098782.945342-18542-24-754fef56-63ab-44f3-9346-0e00a8cdce9a.nc to /home/nicolasf/research/CPP/indices/data/ERA5/daily/ERA5_daily_geopotential_1000_2018-09-12.nc (192.2K)\n",
      "2020-06-14 13:39:45,889 INFO Download rate 104K/s  \n"
     ]
    },
    {
     "name": "stdout",
     "output_type": "stream",
     "text": [
      "downloading /home/nicolasf/research/CPP/indices/data/ERA5/daily/ERA5_daily_geopotential_1000_2018-09-13.nc\n"
     ]
    },
    {
     "name": "stderr",
     "output_type": "stream",
     "text": [
      "2020-06-14 13:39:47,522 INFO Welcome to the CDS\n",
      "2020-06-14 13:39:47,523 INFO Sending request to https://cds.climate.copernicus.eu/api/v2/resources/reanalysis-era5-pressure-levels\n",
      "2020-06-14 13:39:48,750 INFO Request is queued\n",
      "2020-06-14 13:39:50,079 INFO Request is running\n",
      "2020-06-14 13:39:51,862 INFO Request is completed\n",
      "2020-06-14 13:39:51,863 INFO Downloading http://136.156.132.110/cache-compute-0001/cache/data3/adaptor.mars.internal-1592098788.8152087-24758-11-c6b9b9ae-d649-47b3-89af-2ef70755f198.nc to /home/nicolasf/research/CPP/indices/data/ERA5/daily/ERA5_daily_geopotential_1000_2018-09-13.nc (192.2K)\n",
      "2020-06-14 13:39:54,076 INFO Download rate 87K/s   \n"
     ]
    },
    {
     "name": "stdout",
     "output_type": "stream",
     "text": [
      "downloading /home/nicolasf/research/CPP/indices/data/ERA5/daily/ERA5_daily_geopotential_1000_2018-09-14.nc\n"
     ]
    },
    {
     "name": "stderr",
     "output_type": "stream",
     "text": [
      "2020-06-14 13:39:55,817 INFO Welcome to the CDS\n",
      "2020-06-14 13:39:55,817 INFO Sending request to https://cds.climate.copernicus.eu/api/v2/resources/reanalysis-era5-pressure-levels\n",
      "2020-06-14 13:39:57,066 INFO Request is queued\n",
      "2020-06-14 13:39:58,374 INFO Request is running\n",
      "2020-06-14 13:40:00,217 INFO Request is completed\n",
      "2020-06-14 13:40:00,219 INFO Downloading http://136.156.133.25/cache-compute-0008/cache/data3/adaptor.mars.internal-1592098797.6487892-5063-21-96b233d8-1a29-467a-bc4a-2cbf4ba6e5b1.nc to /home/nicolasf/research/CPP/indices/data/ERA5/daily/ERA5_daily_geopotential_1000_2018-09-14.nc (192.2K)\n",
      "2020-06-14 13:40:02,066 INFO Download rate 104.2K/s\n"
     ]
    },
    {
     "name": "stdout",
     "output_type": "stream",
     "text": [
      "downloading /home/nicolasf/research/CPP/indices/data/ERA5/daily/ERA5_daily_geopotential_1000_2018-09-15.nc\n"
     ]
    },
    {
     "name": "stderr",
     "output_type": "stream",
     "text": [
      "2020-06-14 13:40:03,907 INFO Welcome to the CDS\n",
      "2020-06-14 13:40:03,907 INFO Sending request to https://cds.climate.copernicus.eu/api/v2/resources/reanalysis-era5-pressure-levels\n",
      "2020-06-14 13:40:05,337 INFO Request is queued\n",
      "2020-06-14 13:40:08,452 INFO Request is completed\n",
      "2020-06-14 13:40:08,453 INFO Downloading http://136.156.133.37/cache-compute-0011/cache/data2/adaptor.mars.internal-1592098806.585759-21971-14-c9c056ec-f7ab-4e40-98c3-2b90bb989462.nc to /home/nicolasf/research/CPP/indices/data/ERA5/daily/ERA5_daily_geopotential_1000_2018-09-15.nc (192.2K)\n",
      "2020-06-14 13:40:10,460 INFO Download rate 95.9K/s \n"
     ]
    },
    {
     "name": "stdout",
     "output_type": "stream",
     "text": [
      "downloading /home/nicolasf/research/CPP/indices/data/ERA5/daily/ERA5_daily_geopotential_1000_2018-09-16.nc\n"
     ]
    },
    {
     "name": "stderr",
     "output_type": "stream",
     "text": [
      "2020-06-14 13:40:12,099 INFO Welcome to the CDS\n",
      "2020-06-14 13:40:12,099 INFO Sending request to https://cds.climate.copernicus.eu/api/v2/resources/reanalysis-era5-pressure-levels\n",
      "2020-06-14 13:40:13,528 INFO Request is queued\n",
      "2020-06-14 13:40:14,860 INFO Request is running\n",
      "2020-06-14 13:40:16,704 INFO Request is completed\n",
      "2020-06-14 13:40:16,706 INFO Downloading http://136.156.132.110/cache-compute-0001/cache/data6/adaptor.mars.internal-1592098813.9019208-19776-22-9d1c49b0-e7db-4aa6-8f14-6196d3d22f47.nc to /home/nicolasf/research/CPP/indices/data/ERA5/daily/ERA5_daily_geopotential_1000_2018-09-16.nc (192.2K)\n",
      "2020-06-14 13:40:18,553 INFO Download rate 104.1K/s\n"
     ]
    },
    {
     "name": "stdout",
     "output_type": "stream",
     "text": [
      "downloading /home/nicolasf/research/CPP/indices/data/ERA5/daily/ERA5_daily_geopotential_1000_2018-09-17.nc\n"
     ]
    },
    {
     "name": "stderr",
     "output_type": "stream",
     "text": [
      "2020-06-14 13:40:20,189 INFO Welcome to the CDS\n",
      "2020-06-14 13:40:20,190 INFO Sending request to https://cds.climate.copernicus.eu/api/v2/resources/reanalysis-era5-pressure-levels\n",
      "2020-06-14 13:40:21,439 INFO Request is queued\n",
      "2020-06-14 13:40:22,745 INFO Request is running\n",
      "2020-06-14 13:40:24,589 INFO Request is completed\n",
      "2020-06-14 13:40:24,590 INFO Downloading http://136.156.133.36/cache-compute-0010/cache/data0/adaptor.mars.internal-1592098821.7247953-26368-27-234fc13d-f405-4335-a74b-12033a925fe0.nc to /home/nicolasf/research/CPP/indices/data/ERA5/daily/ERA5_daily_geopotential_1000_2018-09-17.nc (192.2K)\n",
      "2020-06-14 13:40:26,436 INFO Download rate 104.3K/s\n"
     ]
    },
    {
     "name": "stdout",
     "output_type": "stream",
     "text": [
      "downloading /home/nicolasf/research/CPP/indices/data/ERA5/daily/ERA5_daily_geopotential_1000_2018-09-18.nc\n"
     ]
    },
    {
     "name": "stderr",
     "output_type": "stream",
     "text": [
      "2020-06-14 13:40:27,972 INFO Welcome to the CDS\n",
      "2020-06-14 13:40:27,972 INFO Sending request to https://cds.climate.copernicus.eu/api/v2/resources/reanalysis-era5-pressure-levels\n",
      "2020-06-14 13:40:31,756 INFO Request is queued\n",
      "2020-06-14 13:40:33,088 INFO Request is running\n",
      "2020-06-14 13:40:34,931 INFO Request is completed\n",
      "2020-06-14 13:40:34,933 INFO Downloading http://136.156.132.210/cache-compute-0005/cache/data6/adaptor.mars.internal-1592098832.455089-9680-22-f47d0beb-fd5d-450c-a52b-9ed4e2a3a9de.nc to /home/nicolasf/research/CPP/indices/data/ERA5/daily/ERA5_daily_geopotential_1000_2018-09-18.nc (192.2K)\n",
      "2020-06-14 13:40:36,783 INFO Download rate 104K/s  \n"
     ]
    },
    {
     "name": "stdout",
     "output_type": "stream",
     "text": [
      "downloading /home/nicolasf/research/CPP/indices/data/ERA5/daily/ERA5_daily_geopotential_1000_2018-09-19.nc\n"
     ]
    },
    {
     "name": "stderr",
     "output_type": "stream",
     "text": [
      "2020-06-14 13:40:38,416 INFO Welcome to the CDS\n",
      "2020-06-14 13:40:38,417 INFO Sending request to https://cds.climate.copernicus.eu/api/v2/resources/reanalysis-era5-pressure-levels\n",
      "2020-06-14 13:40:39,846 INFO Request is queued\n",
      "2020-06-14 13:40:41,178 INFO Request is completed\n",
      "2020-06-14 13:40:41,180 INFO Downloading http://136.156.132.105/cache-compute-0000/cache/data7/adaptor.mars.internal-1592098839.8076222-12357-11-f8c646e7-1382-4fc2-815d-20358212ee75.nc to /home/nicolasf/research/CPP/indices/data/ERA5/daily/ERA5_daily_geopotential_1000_2018-09-19.nc (192.2K)\n",
      "2020-06-14 13:40:42,993 INFO Download rate 106.1K/s\n"
     ]
    },
    {
     "name": "stdout",
     "output_type": "stream",
     "text": [
      "downloading /home/nicolasf/research/CPP/indices/data/ERA5/daily/ERA5_daily_geopotential_1000_2018-09-20.nc\n"
     ]
    },
    {
     "name": "stderr",
     "output_type": "stream",
     "text": [
      "2020-06-14 13:40:44,560 INFO Welcome to the CDS\n",
      "2020-06-14 13:40:44,561 INFO Sending request to https://cds.climate.copernicus.eu/api/v2/resources/reanalysis-era5-pressure-levels\n",
      "2020-06-14 13:40:45,990 INFO Request is queued\n",
      "2020-06-14 13:40:47,322 INFO Request is completed\n",
      "2020-06-14 13:40:47,324 INFO Downloading http://136.156.132.236/cache-compute-0007/cache/data2/adaptor.mars.internal-1592098845.8898747-26013-5-2c870ce4-912d-44c7-9021-f77dbf3aa0fe.nc to /home/nicolasf/research/CPP/indices/data/ERA5/daily/ERA5_daily_geopotential_1000_2018-09-20.nc (192.2K)\n",
      "2020-06-14 13:40:49,171 INFO Download rate 104.2K/s\n"
     ]
    },
    {
     "name": "stdout",
     "output_type": "stream",
     "text": [
      "downloading /home/nicolasf/research/CPP/indices/data/ERA5/daily/ERA5_daily_geopotential_1000_2018-09-21.nc\n"
     ]
    },
    {
     "name": "stderr",
     "output_type": "stream",
     "text": [
      "2020-06-14 13:40:51,012 INFO Welcome to the CDS\n",
      "2020-06-14 13:40:51,013 INFO Sending request to https://cds.climate.copernicus.eu/api/v2/resources/reanalysis-era5-pressure-levels\n",
      "2020-06-14 13:40:52,310 INFO Request is queued\n",
      "2020-06-14 13:40:53,671 INFO Request is running\n",
      "2020-06-14 13:40:55,514 INFO Request is completed\n",
      "2020-06-14 13:40:55,516 INFO Downloading http://136.156.133.42/cache-compute-0014/cache/data4/adaptor.mars.internal-1592098852.999329-23802-3-5aa999a6-5f4d-42be-a1df-135f4dfd1ce7.nc to /home/nicolasf/research/CPP/indices/data/ERA5/daily/ERA5_daily_geopotential_1000_2018-09-21.nc (192.2K)\n",
      "2020-06-14 13:40:57,364 INFO Download rate 104.1K/s\n"
     ]
    },
    {
     "name": "stdout",
     "output_type": "stream",
     "text": [
      "downloading /home/nicolasf/research/CPP/indices/data/ERA5/daily/ERA5_daily_geopotential_1000_2018-09-22.nc\n"
     ]
    },
    {
     "name": "stderr",
     "output_type": "stream",
     "text": [
      "2020-06-14 13:40:59,204 INFO Welcome to the CDS\n",
      "2020-06-14 13:40:59,205 INFO Sending request to https://cds.climate.copernicus.eu/api/v2/resources/reanalysis-era5-pressure-levels\n",
      "2020-06-14 13:41:00,497 INFO Request is queued\n",
      "2020-06-14 13:41:01,863 INFO Request is running\n",
      "2020-06-14 13:41:03,706 INFO Request is completed\n",
      "2020-06-14 13:41:03,708 INFO Downloading http://136.156.133.25/cache-compute-0008/cache/data1/adaptor.mars.internal-1592098860.7877562-6374-20-db0a8980-7d3b-46d2-8e8c-7e040f0f77d9.nc to /home/nicolasf/research/CPP/indices/data/ERA5/daily/ERA5_daily_geopotential_1000_2018-09-22.nc (192.2K)\n",
      "2020-06-14 13:41:05,658 INFO Download rate 98.7K/s \n"
     ]
    },
    {
     "name": "stdout",
     "output_type": "stream",
     "text": [
      "downloading /home/nicolasf/research/CPP/indices/data/ERA5/daily/ERA5_daily_geopotential_1000_2018-09-23.nc\n"
     ]
    },
    {
     "name": "stderr",
     "output_type": "stream",
     "text": [
      "2020-06-14 13:41:07,294 INFO Welcome to the CDS\n",
      "2020-06-14 13:41:07,295 INFO Sending request to https://cds.climate.copernicus.eu/api/v2/resources/reanalysis-era5-pressure-levels\n",
      "2020-06-14 13:41:08,552 INFO Request is queued\n",
      "2020-06-14 13:41:09,850 INFO Request is completed\n",
      "2020-06-14 13:41:09,852 INFO Downloading http://136.156.132.105/cache-compute-0000/cache/data2/adaptor.mars.internal-1592098868.8642175-9926-18-442bb064-f37c-45c9-b32d-f72c9af51613.nc to /home/nicolasf/research/CPP/indices/data/ERA5/daily/ERA5_daily_geopotential_1000_2018-09-23.nc (192.2K)\n",
      "2020-06-14 13:41:11,698 INFO Download rate 104.2K/s\n"
     ]
    },
    {
     "name": "stdout",
     "output_type": "stream",
     "text": [
      "downloading /home/nicolasf/research/CPP/indices/data/ERA5/daily/ERA5_daily_geopotential_1000_2018-09-24.nc\n"
     ]
    },
    {
     "name": "stderr",
     "output_type": "stream",
     "text": [
      "2020-06-14 13:41:13,234 INFO Welcome to the CDS\n",
      "2020-06-14 13:41:13,235 INFO Sending request to https://cds.climate.copernicus.eu/api/v2/resources/reanalysis-era5-pressure-levels\n",
      "2020-06-14 13:41:14,663 INFO Request is queued\n",
      "2020-06-14 13:41:15,995 INFO Request is completed\n",
      "2020-06-14 13:41:15,997 INFO Downloading http://136.156.132.235/cache-compute-0006/cache/data5/adaptor.mars.internal-1592098874.738284-12803-18-df887a8a-c439-4e32-9892-37fd10b5a453.nc to /home/nicolasf/research/CPP/indices/data/ERA5/daily/ERA5_daily_geopotential_1000_2018-09-24.nc (192.2K)\n",
      "2020-06-14 13:41:19,072 INFO Download rate 62.5K/s \n"
     ]
    },
    {
     "name": "stdout",
     "output_type": "stream",
     "text": [
      "downloading /home/nicolasf/research/CPP/indices/data/ERA5/daily/ERA5_daily_geopotential_1000_2018-09-25.nc\n"
     ]
    },
    {
     "name": "stderr",
     "output_type": "stream",
     "text": [
      "2020-06-14 13:41:20,606 INFO Welcome to the CDS\n",
      "2020-06-14 13:41:20,607 INFO Sending request to https://cds.climate.copernicus.eu/api/v2/resources/reanalysis-era5-pressure-levels\n",
      "2020-06-14 13:41:21,831 INFO Request is queued\n",
      "2020-06-14 13:41:23,118 INFO Request is completed\n",
      "2020-06-14 13:41:23,120 INFO Downloading http://136.156.132.198/cache-compute-0003/cache/data6/adaptor.mars.internal-1592098881.8347356-2418-16-4060abb0-1e9b-4af8-b600-ecced3c7bc8c.nc to /home/nicolasf/research/CPP/indices/data/ERA5/daily/ERA5_daily_geopotential_1000_2018-09-25.nc (192.2K)\n",
      "2020-06-14 13:41:25,011 INFO Download rate 101.8K/s\n"
     ]
    },
    {
     "name": "stdout",
     "output_type": "stream",
     "text": [
      "downloading /home/nicolasf/research/CPP/indices/data/ERA5/daily/ERA5_daily_geopotential_1000_2018-09-26.nc\n"
     ]
    },
    {
     "name": "stderr",
     "output_type": "stream",
     "text": [
      "2020-06-14 13:41:26,647 INFO Welcome to the CDS\n",
      "2020-06-14 13:41:26,648 INFO Sending request to https://cds.climate.copernicus.eu/api/v2/resources/reanalysis-era5-pressure-levels\n",
      "2020-06-14 13:41:27,873 INFO Request is queued\n",
      "2020-06-14 13:41:29,204 INFO Request is running\n",
      "2020-06-14 13:41:31,047 INFO Request is completed\n",
      "2020-06-14 13:41:31,049 INFO Downloading http://136.156.132.201/cache-compute-0004/cache/data5/adaptor.mars.internal-1592098888.2739716-7907-31-f79549a4-23fb-4768-b3fd-59dc7940fefb.nc to /home/nicolasf/research/CPP/indices/data/ERA5/daily/ERA5_daily_geopotential_1000_2018-09-26.nc (192.2K)\n",
      "2020-06-14 13:41:32,863 INFO Download rate 106.1K/s\n"
     ]
    },
    {
     "name": "stdout",
     "output_type": "stream",
     "text": [
      "downloading /home/nicolasf/research/CPP/indices/data/ERA5/daily/ERA5_daily_geopotential_1000_2018-09-27.nc\n"
     ]
    },
    {
     "name": "stderr",
     "output_type": "stream",
     "text": [
      "2020-06-14 13:41:35,045 INFO Welcome to the CDS\n",
      "2020-06-14 13:41:35,046 INFO Sending request to https://cds.climate.copernicus.eu/api/v2/resources/reanalysis-era5-pressure-levels\n",
      "2020-06-14 13:41:36,885 INFO Request is queued\n",
      "2020-06-14 13:41:38,216 INFO Request is running\n",
      "2020-06-14 13:41:42,619 INFO Request is completed\n",
      "2020-06-14 13:41:42,621 INFO Downloading http://136.156.133.42/cache-compute-0014/cache/data9/adaptor.mars.internal-1592098897.0241735-23423-7-084028e8-0368-468c-9fcf-7695dcce8fb6.nc to /home/nicolasf/research/CPP/indices/data/ERA5/daily/ERA5_daily_geopotential_1000_2018-09-27.nc (192.2K)\n",
      "2020-06-14 13:41:44,570 INFO Download rate 98.7K/s \n"
     ]
    },
    {
     "name": "stdout",
     "output_type": "stream",
     "text": [
      "downloading /home/nicolasf/research/CPP/indices/data/ERA5/daily/ERA5_daily_geopotential_1000_2018-09-28.nc\n"
     ]
    },
    {
     "name": "stderr",
     "output_type": "stream",
     "text": [
      "2020-06-14 13:41:46,104 INFO Welcome to the CDS\n",
      "2020-06-14 13:41:46,105 INFO Sending request to https://cds.climate.copernicus.eu/api/v2/resources/reanalysis-era5-pressure-levels\n",
      "2020-06-14 13:41:47,339 INFO Request is queued\n",
      "2020-06-14 13:41:48,660 INFO Request is running\n",
      "2020-06-14 13:41:50,504 INFO Request is completed\n",
      "2020-06-14 13:41:50,506 INFO Downloading http://136.156.132.210/cache-compute-0005/cache/data6/adaptor.mars.internal-1592098907.911176-12045-14-ec2a6d18-5374-426a-b480-7d269297e619.nc to /home/nicolasf/research/CPP/indices/data/ERA5/daily/ERA5_daily_geopotential_1000_2018-09-28.nc (192.2K)\n",
      "2020-06-14 13:41:52,352 INFO Download rate 104.2K/s\n"
     ]
    },
    {
     "name": "stdout",
     "output_type": "stream",
     "text": [
      "downloading /home/nicolasf/research/CPP/indices/data/ERA5/daily/ERA5_daily_geopotential_1000_2018-09-29.nc\n"
     ]
    },
    {
     "name": "stderr",
     "output_type": "stream",
     "text": [
      "2020-06-14 13:41:54,091 INFO Welcome to the CDS\n",
      "2020-06-14 13:41:54,092 INFO Sending request to https://cds.climate.copernicus.eu/api/v2/resources/reanalysis-era5-pressure-levels\n",
      "2020-06-14 13:41:55,727 INFO Request is queued\n",
      "2020-06-14 13:41:57,058 INFO Request is completed\n",
      "2020-06-14 13:41:57,059 INFO Downloading http://136.156.132.153/cache-compute-0002/cache/data8/adaptor.mars.internal-1592098915.7789319-18382-28-a0eada90-7850-4171-bd22-688422fb99f3.nc to /home/nicolasf/research/CPP/indices/data/ERA5/daily/ERA5_daily_geopotential_1000_2018-09-29.nc (192.2K)\n",
      "2020-06-14 13:41:58,907 INFO Download rate 104.1K/s\n"
     ]
    },
    {
     "name": "stdout",
     "output_type": "stream",
     "text": [
      "downloading /home/nicolasf/research/CPP/indices/data/ERA5/daily/ERA5_daily_geopotential_1000_2018-09-30.nc\n"
     ]
    },
    {
     "name": "stderr",
     "output_type": "stream",
     "text": [
      "2020-06-14 13:42:00,748 INFO Welcome to the CDS\n",
      "2020-06-14 13:42:00,749 INFO Sending request to https://cds.climate.copernicus.eu/api/v2/resources/reanalysis-era5-pressure-levels\n",
      "2020-06-14 13:42:01,978 INFO Request is queued\n",
      "2020-06-14 13:42:05,148 INFO Request is completed\n",
      "2020-06-14 13:42:05,149 INFO Downloading http://136.156.132.153/cache-compute-0002/cache/data4/adaptor.mars.internal-1592098923.2770302-21333-22-11d9c5d3-c394-4c80-aede-50efd2365a51.nc to /home/nicolasf/research/CPP/indices/data/ERA5/daily/ERA5_daily_geopotential_1000_2018-09-30.nc (192.2K)\n",
      "2020-06-14 13:42:06,997 INFO Download rate 104.1K/s\n"
     ]
    },
    {
     "name": "stdout",
     "output_type": "stream",
     "text": [
      "downloading /home/nicolasf/research/CPP/indices/data/ERA5/daily/ERA5_daily_geopotential_1000_2018-10-01.nc\n"
     ]
    },
    {
     "name": "stderr",
     "output_type": "stream",
     "text": [
      "2020-06-14 13:42:08,530 INFO Welcome to the CDS\n",
      "2020-06-14 13:42:08,531 INFO Sending request to https://cds.climate.copernicus.eu/api/v2/resources/reanalysis-era5-pressure-levels\n",
      "2020-06-14 13:42:09,791 INFO Request is queued\n",
      "2020-06-14 13:42:11,087 INFO Request is completed\n",
      "2020-06-14 13:42:11,089 INFO Downloading http://136.156.133.42/cache-compute-0014/cache/data4/adaptor.mars.internal-1592098929.7911692-24317-3-52d96f3a-db66-4e88-ad4f-1b3cd61ea827.nc to /home/nicolasf/research/CPP/indices/data/ERA5/daily/ERA5_daily_geopotential_1000_2018-10-01.nc (192.2K)\n",
      "2020-06-14 13:42:12,936 INFO Download rate 104.2K/s\n"
     ]
    },
    {
     "name": "stdout",
     "output_type": "stream",
     "text": [
      "downloading /home/nicolasf/research/CPP/indices/data/ERA5/daily/ERA5_daily_geopotential_1000_2018-10-02.nc\n"
     ]
    },
    {
     "name": "stderr",
     "output_type": "stream",
     "text": [
      "2020-06-14 13:42:14,571 INFO Welcome to the CDS\n",
      "2020-06-14 13:42:14,572 INFO Sending request to https://cds.climate.copernicus.eu/api/v2/resources/reanalysis-era5-pressure-levels\n",
      "2020-06-14 13:42:16,002 INFO Request is queued\n",
      "2020-06-14 13:42:17,333 INFO Request is running\n",
      "2020-06-14 13:42:19,176 INFO Request is completed\n",
      "2020-06-14 13:42:19,178 INFO Downloading http://136.156.132.105/cache-compute-0000/cache/data6/adaptor.mars.internal-1592098936.2945652-9926-21-fe9b73c4-83e5-45b6-8116-e8d42cdff8c5.nc to /home/nicolasf/research/CPP/indices/data/ERA5/daily/ERA5_daily_geopotential_1000_2018-10-02.nc (192.2K)\n",
      "2020-06-14 13:42:21,027 INFO Download rate 104.1K/s\n"
     ]
    },
    {
     "name": "stdout",
     "output_type": "stream",
     "text": [
      "downloading /home/nicolasf/research/CPP/indices/data/ERA5/daily/ERA5_daily_geopotential_1000_2018-10-03.nc\n"
     ]
    },
    {
     "name": "stderr",
     "output_type": "stream",
     "text": [
      "2020-06-14 13:42:22,636 INFO Welcome to the CDS\n",
      "2020-06-14 13:42:22,637 INFO Sending request to https://cds.climate.copernicus.eu/api/v2/resources/reanalysis-era5-pressure-levels\n",
      "2020-06-14 13:42:24,193 INFO Request is queued\n",
      "2020-06-14 13:42:25,525 INFO Request is completed\n",
      "2020-06-14 13:42:25,527 INFO Downloading http://136.156.133.25/cache-compute-0008/cache/data0/adaptor.mars.internal-1592098944.334792-9821-3-d073e58c-9d45-4c0a-bb86-c393871b445e.nc to /home/nicolasf/research/CPP/indices/data/ERA5/daily/ERA5_daily_geopotential_1000_2018-10-03.nc (192.2K)\n",
      "2020-06-14 13:42:27,373 INFO Download rate 104.2K/s\n"
     ]
    },
    {
     "name": "stdout",
     "output_type": "stream",
     "text": [
      "downloading /home/nicolasf/research/CPP/indices/data/ERA5/daily/ERA5_daily_geopotential_1000_2018-10-04.nc\n"
     ]
    },
    {
     "name": "stderr",
     "output_type": "stream",
     "text": [
      "2020-06-14 13:42:30,341 INFO Welcome to the CDS\n",
      "2020-06-14 13:42:30,342 INFO Sending request to https://cds.climate.copernicus.eu/api/v2/resources/reanalysis-era5-pressure-levels\n",
      "2020-06-14 13:42:33,410 INFO Request is queued\n",
      "2020-06-14 13:42:34,742 INFO Request is running\n",
      "2020-06-14 13:42:36,585 INFO Request is completed\n",
      "2020-06-14 13:42:36,587 INFO Downloading http://136.156.133.41/cache-compute-0013/cache/data8/adaptor.mars.internal-1592098953.3316746-23589-7-8ff48436-5685-474d-ad1a-b8a2749a2ba7.nc to /home/nicolasf/research/CPP/indices/data/ERA5/daily/ERA5_daily_geopotential_1000_2018-10-04.nc (192.2K)\n",
      "2020-06-14 13:42:38,433 INFO Download rate 104.2K/s\n"
     ]
    },
    {
     "name": "stdout",
     "output_type": "stream",
     "text": [
      "downloading /home/nicolasf/research/CPP/indices/data/ERA5/daily/ERA5_daily_geopotential_1000_2018-10-05.nc\n"
     ]
    },
    {
     "name": "stderr",
     "output_type": "stream",
     "text": [
      "2020-06-14 13:42:40,275 INFO Welcome to the CDS\n",
      "2020-06-14 13:42:40,275 INFO Sending request to https://cds.climate.copernicus.eu/api/v2/resources/reanalysis-era5-pressure-levels\n",
      "2020-06-14 13:42:42,115 INFO Request is queued\n",
      "2020-06-14 13:42:43,446 INFO Request is running\n",
      "2020-06-14 13:42:45,289 INFO Request is completed\n",
      "2020-06-14 13:42:45,291 INFO Downloading http://136.156.132.210/cache-compute-0005/cache/data3/adaptor.mars.internal-1592098962.2106662-14527-1-2489029b-9305-4167-87ae-96651cb41600.nc to /home/nicolasf/research/CPP/indices/data/ERA5/daily/ERA5_daily_geopotential_1000_2018-10-05.nc (192.2K)\n",
      "2020-06-14 13:42:47,137 INFO Download rate 104.2K/s\n"
     ]
    },
    {
     "name": "stdout",
     "output_type": "stream",
     "text": [
      "downloading /home/nicolasf/research/CPP/indices/data/ERA5/daily/ERA5_daily_geopotential_1000_2018-10-06.nc\n"
     ]
    },
    {
     "name": "stderr",
     "output_type": "stream",
     "text": [
      "2020-06-14 13:42:49,388 INFO Welcome to the CDS\n",
      "2020-06-14 13:42:49,389 INFO Sending request to https://cds.climate.copernicus.eu/api/v2/resources/reanalysis-era5-pressure-levels\n",
      "2020-06-14 13:42:50,688 INFO Request is queued\n",
      "2020-06-14 13:42:52,047 INFO Request is running\n",
      "2020-06-14 13:42:56,451 INFO Request is completed\n",
      "2020-06-14 13:42:56,453 INFO Downloading http://136.156.132.110/cache-compute-0001/cache/data5/adaptor.mars.internal-1592098971.2862773-23503-25-ad5d4d63-422d-4233-a1cd-a641d4326e04.nc to /home/nicolasf/research/CPP/indices/data/ERA5/daily/ERA5_daily_geopotential_1000_2018-10-06.nc (192.2K)\n",
      "2020-06-14 13:42:58,299 INFO Download rate 104.3K/s\n"
     ]
    },
    {
     "name": "stdout",
     "output_type": "stream",
     "text": [
      "downloading /home/nicolasf/research/CPP/indices/data/ERA5/daily/ERA5_daily_geopotential_1000_2018-10-07.nc\n"
     ]
    },
    {
     "name": "stderr",
     "output_type": "stream",
     "text": [
      "2020-06-14 13:43:00,141 INFO Welcome to the CDS\n",
      "2020-06-14 13:43:00,142 INFO Sending request to https://cds.climate.copernicus.eu/api/v2/resources/reanalysis-era5-pressure-levels\n",
      "2020-06-14 13:43:01,981 INFO Request is queued\n",
      "2020-06-14 13:43:03,312 INFO Request is running\n",
      "2020-06-14 13:43:05,155 INFO Request is completed\n",
      "2020-06-14 13:43:05,157 INFO Downloading http://136.156.132.235/cache-compute-0006/cache/data4/adaptor.mars.internal-1592098981.8786309-15198-7-75b6f6ed-86f2-4b10-a4f1-97d08998ba7b.nc to /home/nicolasf/research/CPP/indices/data/ERA5/daily/ERA5_daily_geopotential_1000_2018-10-07.nc (192.2K)\n",
      "2020-06-14 13:43:08,538 INFO Download rate 56.9K/s \n"
     ]
    },
    {
     "name": "stdout",
     "output_type": "stream",
     "text": [
      "downloading /home/nicolasf/research/CPP/indices/data/ERA5/daily/ERA5_daily_geopotential_1000_2018-10-08.nc\n"
     ]
    },
    {
     "name": "stderr",
     "output_type": "stream",
     "text": [
      "2020-06-14 13:43:10,176 INFO Welcome to the CDS\n",
      "2020-06-14 13:43:10,177 INFO Sending request to https://cds.climate.copernicus.eu/api/v2/resources/reanalysis-era5-pressure-levels\n",
      "2020-06-14 13:43:11,811 INFO Request is queued\n",
      "2020-06-14 13:43:13,142 INFO Request is running\n",
      "2020-06-14 13:43:14,986 INFO Request is completed\n",
      "2020-06-14 13:43:14,988 INFO Downloading http://136.156.132.201/cache-compute-0004/cache/data6/adaptor.mars.internal-1592098991.9851172-26508-18-2fdb9c24-2e07-4bc0-9745-d9e70acad4e8.nc to /home/nicolasf/research/CPP/indices/data/ERA5/daily/ERA5_daily_geopotential_1000_2018-10-08.nc (192.2K)\n",
      "2020-06-14 13:43:16,837 INFO Download rate 104.1K/s\n"
     ]
    },
    {
     "name": "stdout",
     "output_type": "stream",
     "text": [
      "downloading /home/nicolasf/research/CPP/indices/data/ERA5/daily/ERA5_daily_geopotential_1000_2018-10-09.nc\n"
     ]
    },
    {
     "name": "stderr",
     "output_type": "stream",
     "text": [
      "2020-06-14 13:43:18,573 INFO Welcome to the CDS\n",
      "2020-06-14 13:43:18,574 INFO Sending request to https://cds.climate.copernicus.eu/api/v2/resources/reanalysis-era5-pressure-levels\n",
      "2020-06-14 13:43:19,859 INFO Request is queued\n",
      "2020-06-14 13:43:21,232 INFO Request is running\n",
      "2020-06-14 13:43:23,076 INFO Request is completed\n",
      "2020-06-14 13:43:23,078 INFO Downloading http://136.156.132.236/cache-compute-0007/cache/data4/adaptor.mars.internal-1592099000.0082457-22606-29-3444d408-e128-42c1-99bd-c98194eb399b.nc to /home/nicolasf/research/CPP/indices/data/ERA5/daily/ERA5_daily_geopotential_1000_2018-10-09.nc (192.2K)\n",
      "2020-06-14 13:43:24,925 INFO Download rate 104.2K/s\n"
     ]
    },
    {
     "name": "stdout",
     "output_type": "stream",
     "text": [
      "downloading /home/nicolasf/research/CPP/indices/data/ERA5/daily/ERA5_daily_geopotential_1000_2018-10-10.nc\n"
     ]
    },
    {
     "name": "stderr",
     "output_type": "stream",
     "text": [
      "2020-06-14 13:43:26,871 INFO Welcome to the CDS\n",
      "2020-06-14 13:43:26,871 INFO Sending request to https://cds.climate.copernicus.eu/api/v2/resources/reanalysis-era5-pressure-levels\n",
      "2020-06-14 13:43:28,135 INFO Request is queued\n",
      "2020-06-14 13:43:29,527 INFO Request is completed\n",
      "2020-06-14 13:43:29,529 INFO Downloading http://136.156.132.105/cache-compute-0000/cache/data2/adaptor.mars.internal-1592099008.1024632-9926-23-5d4e313f-4cfd-4d53-8c4b-8d80c61e48a1.nc to /home/nicolasf/research/CPP/indices/data/ERA5/daily/ERA5_daily_geopotential_1000_2018-10-10.nc (192.2K)\n",
      "2020-06-14 13:43:31,376 INFO Download rate 104.2K/s\n"
     ]
    },
    {
     "name": "stdout",
     "output_type": "stream",
     "text": [
      "downloading /home/nicolasf/research/CPP/indices/data/ERA5/daily/ERA5_daily_geopotential_1000_2018-10-11.nc\n"
     ]
    },
    {
     "name": "stderr",
     "output_type": "stream",
     "text": [
      "2020-06-14 13:43:32,906 INFO Welcome to the CDS\n",
      "2020-06-14 13:43:32,907 INFO Sending request to https://cds.climate.copernicus.eu/api/v2/resources/reanalysis-era5-pressure-levels\n",
      "2020-06-14 13:43:34,338 INFO Request is queued\n",
      "2020-06-14 13:43:35,671 INFO Request is running\n",
      "2020-06-14 13:43:37,514 INFO Request is completed\n",
      "2020-06-14 13:43:37,516 INFO Downloading http://136.156.132.105/cache-compute-0000/cache/data3/adaptor.mars.internal-1592099015.2860773-8862-35-6d363413-15a0-4e14-ad95-40038d53bd71.nc to /home/nicolasf/research/CPP/indices/data/ERA5/daily/ERA5_daily_geopotential_1000_2018-10-11.nc (192.2K)\n",
      "2020-06-14 13:43:39,365 INFO Download rate 104K/s  \n"
     ]
    },
    {
     "name": "stdout",
     "output_type": "stream",
     "text": [
      "downloading /home/nicolasf/research/CPP/indices/data/ERA5/daily/ERA5_daily_geopotential_1000_2018-10-12.nc\n"
     ]
    },
    {
     "name": "stderr",
     "output_type": "stream",
     "text": [
      "2020-06-14 13:43:40,999 INFO Welcome to the CDS\n",
      "2020-06-14 13:43:41,000 INFO Sending request to https://cds.climate.copernicus.eu/api/v2/resources/reanalysis-era5-pressure-levels\n",
      "2020-06-14 13:43:42,272 INFO Request is queued\n",
      "2020-06-14 13:43:43,659 INFO Request is running\n",
      "2020-06-14 13:43:45,501 INFO Request is completed\n",
      "2020-06-14 13:43:45,504 INFO Downloading http://136.156.133.36/cache-compute-0010/cache/data0/adaptor.mars.internal-1592099022.6726475-29116-18-8efc7b7b-0657-41d3-b072-2f122b9e905b.nc to /home/nicolasf/research/CPP/indices/data/ERA5/daily/ERA5_daily_geopotential_1000_2018-10-12.nc (192.2K)\n",
      "2020-06-14 13:43:47,349 INFO Download rate 104.2K/s\n"
     ]
    },
    {
     "name": "stdout",
     "output_type": "stream",
     "text": [
      "downloading /home/nicolasf/research/CPP/indices/data/ERA5/daily/ERA5_daily_geopotential_1000_2018-10-13.nc\n"
     ]
    },
    {
     "name": "stderr",
     "output_type": "stream",
     "text": [
      "2020-06-14 13:43:49,910 INFO Welcome to the CDS\n",
      "2020-06-14 13:43:49,911 INFO Sending request to https://cds.climate.copernicus.eu/api/v2/resources/reanalysis-era5-pressure-levels\n",
      "2020-06-14 13:43:51,543 INFO Request is queued\n",
      "2020-06-14 13:43:52,874 INFO Request is running\n",
      "2020-06-14 13:43:54,718 INFO Request is completed\n",
      "2020-06-14 13:43:54,720 INFO Downloading http://136.156.133.37/cache-compute-0011/cache/data2/adaptor.mars.internal-1592099031.4707386-20158-30-a0f06030-195f-47a5-959e-6b67bac903a3.nc to /home/nicolasf/research/CPP/indices/data/ERA5/daily/ERA5_daily_geopotential_1000_2018-10-13.nc (192.2K)\n",
      "2020-06-14 13:43:56,566 INFO Download rate 104.2K/s\n"
     ]
    },
    {
     "name": "stdout",
     "output_type": "stream",
     "text": [
      "downloading /home/nicolasf/research/CPP/indices/data/ERA5/daily/ERA5_daily_geopotential_1000_2018-10-14.nc\n"
     ]
    },
    {
     "name": "stderr",
     "output_type": "stream",
     "text": [
      "2020-06-14 13:43:58,305 INFO Welcome to the CDS\n",
      "2020-06-14 13:43:58,306 INFO Sending request to https://cds.climate.copernicus.eu/api/v2/resources/reanalysis-era5-pressure-levels\n",
      "2020-06-14 13:44:00,351 INFO Request is queued\n",
      "2020-06-14 13:44:01,683 INFO Request is running\n",
      "2020-06-14 13:44:03,524 INFO Request is completed\n",
      "2020-06-14 13:44:03,526 INFO Downloading http://136.156.133.39/cache-compute-0012/cache/data8/adaptor.mars.internal-1592099040.559271-13428-35-e14a2ddc-ea32-4e5c-b70c-364eb72bc9f6.nc to /home/nicolasf/research/CPP/indices/data/ERA5/daily/ERA5_daily_geopotential_1000_2018-10-14.nc (192.2K)\n",
      "2020-06-14 13:44:05,373 INFO Download rate 104.2K/s\n"
     ]
    },
    {
     "name": "stdout",
     "output_type": "stream",
     "text": [
      "downloading /home/nicolasf/research/CPP/indices/data/ERA5/daily/ERA5_daily_geopotential_1000_2018-10-15.nc\n"
     ]
    },
    {
     "name": "stderr",
     "output_type": "stream",
     "text": [
      "2020-06-14 13:44:07,009 INFO Welcome to the CDS\n",
      "2020-06-14 13:44:07,010 INFO Sending request to https://cds.climate.copernicus.eu/api/v2/resources/reanalysis-era5-pressure-levels\n",
      "2020-06-14 13:44:08,266 INFO Request is queued\n",
      "2020-06-14 13:44:09,566 INFO Request is running\n",
      "2020-06-14 13:44:11,409 INFO Request is completed\n",
      "2020-06-14 13:44:11,412 INFO Downloading http://136.156.132.210/cache-compute-0005/cache/data6/adaptor.mars.internal-1592099048.300485-11396-22-44e0520f-5010-4c57-a84b-9aa0c85e2e43.nc to /home/nicolasf/research/CPP/indices/data/ERA5/daily/ERA5_daily_geopotential_1000_2018-10-15.nc (192.2K)\n",
      "2020-06-14 13:44:13,258 INFO Download rate 104.2K/s\n"
     ]
    },
    {
     "name": "stdout",
     "output_type": "stream",
     "text": [
      "downloading /home/nicolasf/research/CPP/indices/data/ERA5/daily/ERA5_daily_geopotential_1000_2018-10-16.nc\n"
     ]
    },
    {
     "name": "stderr",
     "output_type": "stream",
     "text": [
      "2020-06-14 13:44:14,895 INFO Welcome to the CDS\n",
      "2020-06-14 13:44:14,895 INFO Sending request to https://cds.climate.copernicus.eu/api/v2/resources/reanalysis-era5-pressure-levels\n",
      "2020-06-14 13:44:16,174 INFO Request is queued\n",
      "2020-06-14 13:44:17,553 INFO Request is running\n",
      "2020-06-14 13:44:19,397 INFO Request is completed\n",
      "2020-06-14 13:44:19,399 INFO Downloading http://136.156.132.210/cache-compute-0005/cache/data0/adaptor.mars.internal-1592099056.5097156-13659-7-0e7277a1-38f8-4946-b549-c64f9c1b5b3b.nc to /home/nicolasf/research/CPP/indices/data/ERA5/daily/ERA5_daily_geopotential_1000_2018-10-16.nc (192.2K)\n",
      "2020-06-14 13:44:21,247 INFO Download rate 104.1K/s\n"
     ]
    },
    {
     "name": "stdout",
     "output_type": "stream",
     "text": [
      "downloading /home/nicolasf/research/CPP/indices/data/ERA5/daily/ERA5_daily_geopotential_1000_2018-10-17.nc\n"
     ]
    },
    {
     "name": "stderr",
     "output_type": "stream",
     "text": [
      "2020-06-14 13:44:22,809 INFO Welcome to the CDS\n",
      "2020-06-14 13:44:22,809 INFO Sending request to https://cds.climate.copernicus.eu/api/v2/resources/reanalysis-era5-pressure-levels\n",
      "2020-06-14 13:44:24,517 INFO Request is queued\n",
      "2020-06-14 13:44:25,849 INFO Request is completed\n",
      "2020-06-14 13:44:25,851 INFO Downloading http://136.156.133.36/cache-compute-0010/cache/data6/adaptor.mars.internal-1592099064.6250577-28186-25-a3f23e49-4ace-4480-9071-95fee10f0e35.nc to /home/nicolasf/research/CPP/indices/data/ERA5/daily/ERA5_daily_geopotential_1000_2018-10-17.nc (192.2K)\n",
      "2020-06-14 13:44:27,695 INFO Download rate 104.3K/s\n"
     ]
    },
    {
     "name": "stdout",
     "output_type": "stream",
     "text": [
      "downloading /home/nicolasf/research/CPP/indices/data/ERA5/daily/ERA5_daily_geopotential_1000_2018-10-18.nc\n"
     ]
    },
    {
     "name": "stderr",
     "output_type": "stream",
     "text": [
      "2020-06-14 13:44:29,538 INFO Welcome to the CDS\n",
      "2020-06-14 13:44:29,539 INFO Sending request to https://cds.climate.copernicus.eu/api/v2/resources/reanalysis-era5-pressure-levels\n",
      "2020-06-14 13:44:31,378 INFO Request is queued\n",
      "2020-06-14 13:44:32,709 INFO Request is running\n",
      "2020-06-14 13:44:34,552 INFO Request is completed\n",
      "2020-06-14 13:44:34,554 INFO Downloading http://136.156.133.41/cache-compute-0013/cache/data4/adaptor.mars.internal-1592099071.6898036-23195-14-6116f2f5-98b3-4e44-b810-97b1cda0407b.nc to /home/nicolasf/research/CPP/indices/data/ERA5/daily/ERA5_daily_geopotential_1000_2018-10-18.nc (192.2K)\n",
      "2020-06-14 13:44:36,400 INFO Download rate 104.2K/s\n"
     ]
    },
    {
     "name": "stdout",
     "output_type": "stream",
     "text": [
      "downloading /home/nicolasf/research/CPP/indices/data/ERA5/daily/ERA5_daily_geopotential_1000_2018-10-19.nc\n"
     ]
    },
    {
     "name": "stderr",
     "output_type": "stream",
     "text": [
      "2020-06-14 13:44:38,037 INFO Welcome to the CDS\n",
      "2020-06-14 13:44:38,038 INFO Sending request to https://cds.climate.copernicus.eu/api/v2/resources/reanalysis-era5-pressure-levels\n",
      "2020-06-14 13:44:39,979 INFO Request is queued\n",
      "2020-06-14 13:44:41,311 INFO Request is running\n",
      "2020-06-14 13:44:43,154 INFO Request is completed\n",
      "2020-06-14 13:44:43,155 INFO Downloading http://136.156.132.236/cache-compute-0007/cache/data7/adaptor.mars.internal-1592099080.1585844-24054-25-2bc895ee-ef64-435d-baf8-cf18226b9f80.nc to /home/nicolasf/research/CPP/indices/data/ERA5/daily/ERA5_daily_geopotential_1000_2018-10-19.nc (192.2K)\n",
      "2020-06-14 13:44:45,002 INFO Download rate 104.2K/s\n"
     ]
    },
    {
     "name": "stdout",
     "output_type": "stream",
     "text": [
      "downloading /home/nicolasf/research/CPP/indices/data/ERA5/daily/ERA5_daily_geopotential_1000_2018-10-20.nc\n"
     ]
    },
    {
     "name": "stderr",
     "output_type": "stream",
     "text": [
      "2020-06-14 13:44:46,742 INFO Welcome to the CDS\n",
      "2020-06-14 13:44:46,742 INFO Sending request to https://cds.climate.copernicus.eu/api/v2/resources/reanalysis-era5-pressure-levels\n",
      "2020-06-14 13:44:48,581 INFO Request is queued\n",
      "2020-06-14 13:44:49,912 INFO Request is running\n",
      "2020-06-14 13:44:51,756 INFO Request is completed\n",
      "2020-06-14 13:44:51,758 INFO Downloading http://136.156.133.46/cache-compute-0015/cache/data1/adaptor.mars.internal-1592099088.9789937-20918-21-59577b84-abfc-42fa-92f1-40086f9c3073.nc to /home/nicolasf/research/CPP/indices/data/ERA5/daily/ERA5_daily_geopotential_1000_2018-10-20.nc (192.2K)\n",
      "2020-06-14 13:44:53,605 INFO Download rate 104.1K/s\n"
     ]
    },
    {
     "name": "stdout",
     "output_type": "stream",
     "text": [
      "downloading /home/nicolasf/research/CPP/indices/data/ERA5/daily/ERA5_daily_geopotential_1000_2018-10-21.nc\n"
     ]
    },
    {
     "name": "stderr",
     "output_type": "stream",
     "text": [
      "2020-06-14 13:44:55,446 INFO Welcome to the CDS\n",
      "2020-06-14 13:44:55,446 INFO Sending request to https://cds.climate.copernicus.eu/api/v2/resources/reanalysis-era5-pressure-levels\n",
      "2020-06-14 13:44:56,978 INFO Request is queued\n",
      "2020-06-14 13:44:58,310 INFO Request is completed\n",
      "2020-06-14 13:44:58,312 INFO Downloading http://136.156.132.201/cache-compute-0004/cache/data1/adaptor.mars.internal-1592099096.9213698-25154-29-47956677-34e4-490b-a1e9-15ec2bc92667.nc to /home/nicolasf/research/CPP/indices/data/ERA5/daily/ERA5_daily_geopotential_1000_2018-10-21.nc (192.2K)\n",
      "2020-06-14 13:45:00,160 INFO Download rate 104.1K/s\n"
     ]
    },
    {
     "name": "stdout",
     "output_type": "stream",
     "text": [
      "downloading /home/nicolasf/research/CPP/indices/data/ERA5/daily/ERA5_daily_geopotential_1000_2018-10-22.nc\n"
     ]
    },
    {
     "name": "stderr",
     "output_type": "stream",
     "text": [
      "2020-06-14 13:45:01,897 INFO Welcome to the CDS\n",
      "2020-06-14 13:45:01,898 INFO Sending request to https://cds.climate.copernicus.eu/api/v2/resources/reanalysis-era5-pressure-levels\n",
      "2020-06-14 13:45:04,556 INFO Request is queued\n",
      "2020-06-14 13:45:05,887 INFO Request is completed\n",
      "2020-06-14 13:45:05,889 INFO Downloading http://136.156.133.46/cache-compute-0015/cache/data9/adaptor.mars.internal-1592099104.4229345-23790-7-1876f2cd-0e8b-4b2b-bcbf-881ee6c62f48.nc to /home/nicolasf/research/CPP/indices/data/ERA5/daily/ERA5_daily_geopotential_1000_2018-10-22.nc (192.2K)\n",
      "2020-06-14 13:45:07,699 INFO Download rate 106.3K/s\n"
     ]
    },
    {
     "name": "stdout",
     "output_type": "stream",
     "text": [
      "downloading /home/nicolasf/research/CPP/indices/data/ERA5/daily/ERA5_daily_geopotential_1000_2018-10-23.nc\n"
     ]
    },
    {
     "name": "stderr",
     "output_type": "stream",
     "text": [
      "2020-06-14 13:45:09,372 INFO Welcome to the CDS\n",
      "2020-06-14 13:45:09,374 INFO Sending request to https://cds.climate.copernicus.eu/api/v2/resources/reanalysis-era5-pressure-levels\n",
      "2020-06-14 13:45:11,008 INFO Request is queued\n",
      "2020-06-14 13:45:12,339 INFO Request is completed\n",
      "2020-06-14 13:45:12,341 INFO Downloading http://136.156.133.37/cache-compute-0011/cache/data2/adaptor.mars.internal-1592099111.2115917-19828-35-d84b44ce-598b-4fcf-8698-ada968d2e33c.nc to /home/nicolasf/research/CPP/indices/data/ERA5/daily/ERA5_daily_geopotential_1000_2018-10-23.nc (192.2K)\n",
      "2020-06-14 13:45:14,189 INFO Download rate 104.1K/s\n"
     ]
    },
    {
     "name": "stdout",
     "output_type": "stream",
     "text": [
      "downloading /home/nicolasf/research/CPP/indices/data/ERA5/daily/ERA5_daily_geopotential_1000_2018-10-24.nc\n"
     ]
    },
    {
     "name": "stderr",
     "output_type": "stream",
     "text": [
      "2020-06-14 13:45:15,721 INFO Welcome to the CDS\n",
      "2020-06-14 13:45:15,722 INFO Sending request to https://cds.climate.copernicus.eu/api/v2/resources/reanalysis-era5-pressure-levels\n",
      "2020-06-14 13:45:17,152 INFO Request is queued\n",
      "2020-06-14 13:45:18,482 INFO Request is running\n",
      "2020-06-14 13:45:20,326 INFO Request is completed\n",
      "2020-06-14 13:45:20,327 INFO Downloading http://136.156.133.32/cache-compute-0009/cache/data7/adaptor.mars.internal-1592099117.4775908-23995-1-1307b191-304d-43ff-a263-209c66b8b883.nc to /home/nicolasf/research/CPP/indices/data/ERA5/daily/ERA5_daily_geopotential_1000_2018-10-24.nc (192.2K)\n",
      "2020-06-14 13:45:22,176 INFO Download rate 104.1K/s\n"
     ]
    },
    {
     "name": "stdout",
     "output_type": "stream",
     "text": [
      "downloading /home/nicolasf/research/CPP/indices/data/ERA5/daily/ERA5_daily_geopotential_1000_2018-10-25.nc\n"
     ]
    },
    {
     "name": "stderr",
     "output_type": "stream",
     "text": [
      "2020-06-14 13:45:23,709 INFO Welcome to the CDS\n",
      "2020-06-14 13:45:23,710 INFO Sending request to https://cds.climate.copernicus.eu/api/v2/resources/reanalysis-era5-pressure-levels\n",
      "2020-06-14 13:45:25,139 INFO Request is queued\n",
      "2020-06-14 13:45:26,470 INFO Request is completed\n",
      "2020-06-14 13:45:26,471 INFO Downloading http://136.156.133.41/cache-compute-0013/cache/data4/adaptor.mars.internal-1592099125.2398512-22569-18-d93dba8f-f871-446c-b27c-4576426b0d32.nc to /home/nicolasf/research/CPP/indices/data/ERA5/daily/ERA5_daily_geopotential_1000_2018-10-25.nc (192.2K)\n",
      "2020-06-14 13:45:28,321 INFO Download rate 104K/s  \n"
     ]
    },
    {
     "name": "stdout",
     "output_type": "stream",
     "text": [
      "downloading /home/nicolasf/research/CPP/indices/data/ERA5/daily/ERA5_daily_geopotential_1000_2018-10-26.nc\n"
     ]
    },
    {
     "name": "stderr",
     "output_type": "stream",
     "text": [
      "2020-06-14 13:45:30,263 INFO Welcome to the CDS\n",
      "2020-06-14 13:45:30,263 INFO Sending request to https://cds.climate.copernicus.eu/api/v2/resources/reanalysis-era5-pressure-levels\n",
      "2020-06-14 13:45:33,126 INFO Request is queued\n",
      "2020-06-14 13:45:34,457 INFO Request is running\n",
      "2020-06-14 13:45:36,300 INFO Request is completed\n",
      "2020-06-14 13:45:36,302 INFO Downloading http://136.156.132.110/cache-compute-0001/cache/data5/adaptor.mars.internal-1592099133.4640498-24527-25-c1cb51d1-7357-4cb0-bdad-11114182b805.nc to /home/nicolasf/research/CPP/indices/data/ERA5/daily/ERA5_daily_geopotential_1000_2018-10-26.nc (192.2K)\n",
      "2020-06-14 13:45:38,149 INFO Download rate 104.2K/s\n"
     ]
    },
    {
     "name": "stdout",
     "output_type": "stream",
     "text": [
      "downloading /home/nicolasf/research/CPP/indices/data/ERA5/daily/ERA5_daily_geopotential_1000_2018-10-27.nc\n"
     ]
    },
    {
     "name": "stderr",
     "output_type": "stream",
     "text": [
      "2020-06-14 13:45:40,810 INFO Welcome to the CDS\n",
      "2020-06-14 13:45:40,810 INFO Sending request to https://cds.climate.copernicus.eu/api/v2/resources/reanalysis-era5-pressure-levels\n",
      "2020-06-14 13:45:42,444 INFO Request is queued\n",
      "2020-06-14 13:45:43,729 INFO Request is completed\n",
      "2020-06-14 13:45:43,732 INFO Downloading http://136.156.133.39/cache-compute-0012/cache/data5/adaptor.mars.internal-1592099142.3580043-16792-20-76cc09a4-1bc3-4f5a-8e4c-c2f47218537b.nc to /home/nicolasf/research/CPP/indices/data/ERA5/daily/ERA5_daily_geopotential_1000_2018-10-27.nc (192.2K)\n",
      "2020-06-14 13:45:45,625 INFO Download rate 101.7K/s\n"
     ]
    },
    {
     "name": "stdout",
     "output_type": "stream",
     "text": [
      "downloading /home/nicolasf/research/CPP/indices/data/ERA5/daily/ERA5_daily_geopotential_1000_2018-10-28.nc\n"
     ]
    },
    {
     "name": "stderr",
     "output_type": "stream",
     "text": [
      "2020-06-14 13:45:47,466 INFO Welcome to the CDS\n",
      "2020-06-14 13:45:47,466 INFO Sending request to https://cds.climate.copernicus.eu/api/v2/resources/reanalysis-era5-pressure-levels\n",
      "2020-06-14 13:45:48,776 INFO Request is queued\n",
      "2020-06-14 13:45:50,125 INFO Request is running\n",
      "2020-06-14 13:45:51,914 INFO Request is completed\n",
      "2020-06-14 13:45:51,916 INFO Downloading http://136.156.133.41/cache-compute-0013/cache/data4/adaptor.mars.internal-1592099148.9654722-22832-18-583d16e3-4227-402b-a1ac-6ec4a607842f.nc to /home/nicolasf/research/CPP/indices/data/ERA5/daily/ERA5_daily_geopotential_1000_2018-10-28.nc (192.2K)\n",
      "2020-06-14 13:45:53,914 INFO Download rate 96.3K/s \n"
     ]
    },
    {
     "name": "stdout",
     "output_type": "stream",
     "text": [
      "downloading /home/nicolasf/research/CPP/indices/data/ERA5/daily/ERA5_daily_geopotential_1000_2018-10-29.nc\n"
     ]
    },
    {
     "name": "stderr",
     "output_type": "stream",
     "text": [
      "2020-06-14 13:45:55,556 INFO Welcome to the CDS\n",
      "2020-06-14 13:45:55,557 INFO Sending request to https://cds.climate.copernicus.eu/api/v2/resources/reanalysis-era5-pressure-levels\n",
      "2020-06-14 13:45:56,985 INFO Request is queued\n",
      "2020-06-14 13:45:58,317 INFO Request is completed\n",
      "2020-06-14 13:45:58,319 INFO Downloading http://136.156.133.42/cache-compute-0014/cache/data7/adaptor.mars.internal-1592099157.0444624-22245-22-be20a64a-d25c-44e2-9e72-b6161fbe8c40.nc to /home/nicolasf/research/CPP/indices/data/ERA5/daily/ERA5_daily_geopotential_1000_2018-10-29.nc (192.2K)\n",
      "2020-06-14 13:46:00,168 INFO Download rate 104K/s  \n"
     ]
    },
    {
     "name": "stdout",
     "output_type": "stream",
     "text": [
      "downloading /home/nicolasf/research/CPP/indices/data/ERA5/daily/ERA5_daily_geopotential_1000_2018-10-30.nc\n"
     ]
    },
    {
     "name": "stderr",
     "output_type": "stream",
     "text": [
      "2020-06-14 13:46:01,802 INFO Welcome to the CDS\n",
      "2020-06-14 13:46:01,803 INFO Sending request to https://cds.climate.copernicus.eu/api/v2/resources/reanalysis-era5-pressure-levels\n",
      "2020-06-14 13:46:03,099 INFO Request is queued\n",
      "2020-06-14 13:46:04,461 INFO Request is completed\n",
      "2020-06-14 13:46:04,463 INFO Downloading http://136.156.133.46/cache-compute-0015/cache/data9/adaptor.mars.internal-1592099163.189065-23790-10-e616f2e6-3358-4e0c-9137-3f61abb12fee.nc to /home/nicolasf/research/CPP/indices/data/ERA5/daily/ERA5_daily_geopotential_1000_2018-10-30.nc (192.2K)\n",
      "2020-06-14 13:46:06,311 INFO Download rate 104.1K/s\n"
     ]
    },
    {
     "name": "stdout",
     "output_type": "stream",
     "text": [
      "downloading /home/nicolasf/research/CPP/indices/data/ERA5/daily/ERA5_daily_geopotential_1000_2018-10-31.nc\n"
     ]
    },
    {
     "name": "stderr",
     "output_type": "stream",
     "text": [
      "2020-06-14 13:46:08,253 INFO Welcome to the CDS\n",
      "2020-06-14 13:46:08,254 INFO Sending request to https://cds.climate.copernicus.eu/api/v2/resources/reanalysis-era5-pressure-levels\n",
      "2020-06-14 13:46:09,786 INFO Request is queued\n",
      "2020-06-14 13:46:11,117 INFO Request is running\n",
      "2020-06-14 13:46:12,960 INFO Request is completed\n",
      "2020-06-14 13:46:12,963 INFO Downloading http://136.156.132.210/cache-compute-0005/cache/data6/adaptor.mars.internal-1592099169.9582431-12045-23-6e210ffb-e874-4089-a273-715ad8f38e7f.nc to /home/nicolasf/research/CPP/indices/data/ERA5/daily/ERA5_daily_geopotential_1000_2018-10-31.nc (192.2K)\n",
      "2020-06-14 13:46:14,810 INFO Download rate 104.2K/s\n"
     ]
    },
    {
     "name": "stdout",
     "output_type": "stream",
     "text": [
      "downloading /home/nicolasf/research/CPP/indices/data/ERA5/daily/ERA5_daily_geopotential_1000_2018-11-01.nc\n"
     ]
    },
    {
     "name": "stderr",
     "output_type": "stream",
     "text": [
      "2020-06-14 13:46:16,446 INFO Welcome to the CDS\n",
      "2020-06-14 13:46:16,446 INFO Sending request to https://cds.climate.copernicus.eu/api/v2/resources/reanalysis-era5-pressure-levels\n",
      "2020-06-14 13:46:17,745 INFO Request is queued\n",
      "2020-06-14 13:46:19,103 INFO Request is completed\n",
      "2020-06-14 13:46:19,103 INFO Downloading http://136.156.132.201/cache-compute-0004/cache/data1/adaptor.mars.internal-1592099177.7408943-28591-12-557d2f42-d71f-4bc7-a067-4bfcfe1bb6da.nc to /home/nicolasf/research/CPP/indices/data/ERA5/daily/ERA5_daily_geopotential_1000_2018-11-01.nc (192.2K)\n",
      "2020-06-14 13:46:20,953 INFO Download rate 104K/s  \n"
     ]
    },
    {
     "name": "stdout",
     "output_type": "stream",
     "text": [
      "downloading /home/nicolasf/research/CPP/indices/data/ERA5/daily/ERA5_daily_geopotential_1000_2018-11-02.nc\n"
     ]
    },
    {
     "name": "stderr",
     "output_type": "stream",
     "text": [
      "2020-06-14 13:46:22,590 INFO Welcome to the CDS\n",
      "2020-06-14 13:46:22,591 INFO Sending request to https://cds.climate.copernicus.eu/api/v2/resources/reanalysis-era5-pressure-levels\n",
      "2020-06-14 13:46:23,915 INFO Request is queued\n",
      "2020-06-14 13:46:25,248 INFO Request is completed\n",
      "2020-06-14 13:46:25,250 INFO Downloading http://136.156.132.236/cache-compute-0007/cache/data6/adaptor.mars.internal-1592099184.0897012-28013-7-65569207-855d-45ed-8636-f50831e86682.nc to /home/nicolasf/research/CPP/indices/data/ERA5/daily/ERA5_daily_geopotential_1000_2018-11-02.nc (192.2K)\n",
      "2020-06-14 13:46:27,099 INFO Download rate 104.1K/s\n"
     ]
    },
    {
     "name": "stdout",
     "output_type": "stream",
     "text": [
      "downloading /home/nicolasf/research/CPP/indices/data/ERA5/daily/ERA5_daily_geopotential_1000_2018-11-03.nc\n"
     ]
    },
    {
     "name": "stderr",
     "output_type": "stream",
     "text": [
      "2020-06-14 13:46:28,939 INFO Welcome to the CDS\n",
      "2020-06-14 13:46:28,939 INFO Sending request to https://cds.climate.copernicus.eu/api/v2/resources/reanalysis-era5-pressure-levels\n",
      "2020-06-14 13:46:30,368 INFO Request is queued\n",
      "2020-06-14 13:46:31,700 INFO Request is completed\n",
      "2020-06-14 13:46:31,702 INFO Downloading http://136.156.132.153/cache-compute-0002/cache/data8/adaptor.mars.internal-1592099190.2783165-22100-26-c3ad8c8c-4f1b-441a-94a4-4e08a5cfb73b.nc to /home/nicolasf/research/CPP/indices/data/ERA5/daily/ERA5_daily_geopotential_1000_2018-11-03.nc (192.2K)\n",
      "2020-06-14 13:46:33,550 INFO Download rate 104.1K/s\n"
     ]
    },
    {
     "name": "stdout",
     "output_type": "stream",
     "text": [
      "downloading /home/nicolasf/research/CPP/indices/data/ERA5/daily/ERA5_daily_geopotential_1000_2018-11-04.nc\n"
     ]
    },
    {
     "name": "stderr",
     "output_type": "stream",
     "text": [
      "2020-06-14 13:46:35,463 INFO Welcome to the CDS\n",
      "2020-06-14 13:46:35,463 INFO Sending request to https://cds.climate.copernicus.eu/api/v2/resources/reanalysis-era5-pressure-levels\n",
      "2020-06-14 13:46:37,230 INFO Request is queued\n",
      "2020-06-14 13:46:38,562 INFO Request is completed\n",
      "2020-06-14 13:46:38,564 INFO Downloading http://136.156.133.37/cache-compute-0011/cache/data9/adaptor.mars.internal-1592099197.1739035-21515-25-9265bc60-266d-4b61-94ac-4b12b76aa2e3.nc to /home/nicolasf/research/CPP/indices/data/ERA5/daily/ERA5_daily_geopotential_1000_2018-11-04.nc (192.2K)\n",
      "2020-06-14 13:46:40,410 INFO Download rate 104.2K/s\n"
     ]
    },
    {
     "name": "stdout",
     "output_type": "stream",
     "text": [
      "downloading /home/nicolasf/research/CPP/indices/data/ERA5/daily/ERA5_daily_geopotential_1000_2018-11-05.nc\n"
     ]
    },
    {
     "name": "stderr",
     "output_type": "stream",
     "text": [
      "2020-06-14 13:46:42,046 INFO Welcome to the CDS\n",
      "2020-06-14 13:46:42,046 INFO Sending request to https://cds.climate.copernicus.eu/api/v2/resources/reanalysis-era5-pressure-levels\n",
      "2020-06-14 13:46:43,308 INFO Request is queued\n",
      "2020-06-14 13:46:44,706 INFO Request is running\n",
      "2020-06-14 13:46:46,548 INFO Request is completed\n",
      "2020-06-14 13:46:46,550 INFO Downloading http://136.156.133.41/cache-compute-0013/cache/data8/adaptor.mars.internal-1592099203.4424105-29432-3-6855eb0e-8fc5-4e53-8e2b-a1645bffcd6b.nc to /home/nicolasf/research/CPP/indices/data/ERA5/daily/ERA5_daily_geopotential_1000_2018-11-05.nc (192.2K)\n",
      "2020-06-14 13:46:48,397 INFO Download rate 104.2K/s\n"
     ]
    },
    {
     "name": "stdout",
     "output_type": "stream",
     "text": [
      "downloading /home/nicolasf/research/CPP/indices/data/ERA5/daily/ERA5_daily_geopotential_1000_2018-11-06.nc\n"
     ]
    },
    {
     "name": "stderr",
     "output_type": "stream",
     "text": [
      "2020-06-14 13:46:50,341 INFO Welcome to the CDS\n",
      "2020-06-14 13:46:50,342 INFO Sending request to https://cds.climate.copernicus.eu/api/v2/resources/reanalysis-era5-pressure-levels\n",
      "2020-06-14 13:46:51,873 INFO Request is queued\n",
      "2020-06-14 13:46:53,166 INFO Request is running\n",
      "2020-06-14 13:46:55,048 INFO Request is completed\n",
      "2020-06-14 13:46:55,049 INFO Downloading http://136.156.133.25/cache-compute-0008/cache/data2/adaptor.mars.internal-1592099212.1382747-9843-12-6ca80e1d-ae47-4677-8ece-762da11509a4.nc to /home/nicolasf/research/CPP/indices/data/ERA5/daily/ERA5_daily_geopotential_1000_2018-11-06.nc (192.2K)\n",
      "2020-06-14 13:46:56,897 INFO Download rate 104.2K/s\n"
     ]
    },
    {
     "name": "stdout",
     "output_type": "stream",
     "text": [
      "downloading /home/nicolasf/research/CPP/indices/data/ERA5/daily/ERA5_daily_geopotential_1000_2018-11-07.nc\n"
     ]
    },
    {
     "name": "stderr",
     "output_type": "stream",
     "text": [
      "2020-06-14 13:46:58,738 INFO Welcome to the CDS\n",
      "2020-06-14 13:46:58,739 INFO Sending request to https://cds.climate.copernicus.eu/api/v2/resources/reanalysis-era5-pressure-levels\n",
      "2020-06-14 13:47:00,270 INFO Request is queued\n",
      "2020-06-14 13:47:01,602 INFO Request is running\n",
      "2020-06-14 13:47:03,445 INFO Request is completed\n",
      "2020-06-14 13:47:03,447 INFO Downloading http://136.156.133.46/cache-compute-0015/cache/data4/adaptor.mars.internal-1592099220.9317-21375-25-872a638f-a413-4607-b5a9-aed9313dcf31.nc to /home/nicolasf/research/CPP/indices/data/ERA5/daily/ERA5_daily_geopotential_1000_2018-11-07.nc (192.2K)\n",
      "2020-06-14 13:47:05,294 INFO Download rate 104.1K/s\n"
     ]
    },
    {
     "name": "stdout",
     "output_type": "stream",
     "text": [
      "downloading /home/nicolasf/research/CPP/indices/data/ERA5/daily/ERA5_daily_geopotential_1000_2018-11-08.nc\n"
     ]
    },
    {
     "name": "stderr",
     "output_type": "stream",
     "text": [
      "2020-06-14 13:47:06,930 INFO Welcome to the CDS\n",
      "2020-06-14 13:47:06,931 INFO Sending request to https://cds.climate.copernicus.eu/api/v2/resources/reanalysis-era5-pressure-levels\n",
      "2020-06-14 13:47:08,667 INFO Request is queued\n",
      "2020-06-14 13:47:09,998 INFO Request is running\n",
      "2020-06-14 13:47:11,841 INFO Request is completed\n",
      "2020-06-14 13:47:11,843 INFO Downloading http://136.156.132.105/cache-compute-0000/cache/data9/adaptor.mars.internal-1592099229.109154-12402-3-05afbc88-9357-4adf-8d10-b172a27afcee.nc to /home/nicolasf/research/CPP/indices/data/ERA5/daily/ERA5_daily_geopotential_1000_2018-11-08.nc (192.2K)\n",
      "2020-06-14 13:47:13,689 INFO Download rate 104.2K/s\n"
     ]
    },
    {
     "name": "stdout",
     "output_type": "stream",
     "text": [
      "downloading /home/nicolasf/research/CPP/indices/data/ERA5/daily/ERA5_daily_geopotential_1000_2018-11-09.nc\n"
     ]
    },
    {
     "name": "stderr",
     "output_type": "stream",
     "text": [
      "2020-06-14 13:47:15,501 INFO Welcome to the CDS\n",
      "2020-06-14 13:47:15,502 INFO Sending request to https://cds.climate.copernicus.eu/api/v2/resources/reanalysis-era5-pressure-levels\n",
      "2020-06-14 13:47:17,064 INFO Request is queued\n",
      "2020-06-14 13:47:18,396 INFO Request is running\n",
      "2020-06-14 13:47:20,239 INFO Request is completed\n",
      "2020-06-14 13:47:20,240 INFO Downloading http://136.156.133.25/cache-compute-0008/cache/data5/adaptor.mars.internal-1592099237.318636-10562-10-b9151c87-0a43-431b-ba18-a9e75a4d75a8.nc to /home/nicolasf/research/CPP/indices/data/ERA5/daily/ERA5_daily_geopotential_1000_2018-11-09.nc (192.2K)\n",
      "2020-06-14 13:47:22,088 INFO Download rate 104.1K/s\n"
     ]
    },
    {
     "name": "stdout",
     "output_type": "stream",
     "text": [
      "downloading /home/nicolasf/research/CPP/indices/data/ERA5/daily/ERA5_daily_geopotential_1000_2018-11-10.nc\n"
     ]
    },
    {
     "name": "stderr",
     "output_type": "stream",
     "text": [
      "2020-06-14 13:47:23,724 INFO Welcome to the CDS\n",
      "2020-06-14 13:47:23,725 INFO Sending request to https://cds.climate.copernicus.eu/api/v2/resources/reanalysis-era5-pressure-levels\n",
      "2020-06-14 13:47:25,153 INFO Request is queued\n",
      "2020-06-14 13:47:26,486 INFO Request is running\n",
      "2020-06-14 13:47:28,328 INFO Request is completed\n",
      "2020-06-14 13:47:28,330 INFO Downloading http://136.156.133.42/cache-compute-0014/cache/data1/adaptor.mars.internal-1592099245.6103435-21256-11-677a6f39-ad20-4a2e-a98e-42ac5db55c59.nc to /home/nicolasf/research/CPP/indices/data/ERA5/daily/ERA5_daily_geopotential_1000_2018-11-10.nc (192.2K)\n",
      "2020-06-14 13:47:30,177 INFO Download rate 104.1K/s\n"
     ]
    },
    {
     "name": "stdout",
     "output_type": "stream",
     "text": [
      "downloading /home/nicolasf/research/CPP/indices/data/ERA5/daily/ERA5_daily_geopotential_1000_2018-11-11.nc\n"
     ]
    },
    {
     "name": "stderr",
     "output_type": "stream",
     "text": [
      "2020-06-14 13:47:32,121 INFO Welcome to the CDS\n",
      "2020-06-14 13:47:32,122 INFO Sending request to https://cds.climate.copernicus.eu/api/v2/resources/reanalysis-era5-pressure-levels\n",
      "2020-06-14 13:47:33,587 INFO Request is queued\n",
      "2020-06-14 13:47:34,985 INFO Request is completed\n",
      "2020-06-14 13:47:34,986 INFO Downloading http://136.156.133.37/cache-compute-0011/cache/data7/adaptor.mars.internal-1592099253.8696682-30919-1-897013f5-f27c-4487-815f-44362d288013.nc to /home/nicolasf/research/CPP/indices/data/ERA5/daily/ERA5_daily_geopotential_1000_2018-11-11.nc (192.2K)\n",
      "2020-06-14 13:47:36,834 INFO Download rate 104.1K/s\n"
     ]
    },
    {
     "name": "stdout",
     "output_type": "stream",
     "text": [
      "downloading /home/nicolasf/research/CPP/indices/data/ERA5/daily/ERA5_daily_geopotential_1000_2018-11-12.nc\n"
     ]
    },
    {
     "name": "stderr",
     "output_type": "stream",
     "text": [
      "2020-06-14 13:47:38,471 INFO Welcome to the CDS\n",
      "2020-06-14 13:47:38,471 INFO Sending request to https://cds.climate.copernicus.eu/api/v2/resources/reanalysis-era5-pressure-levels\n",
      "2020-06-14 13:47:40,105 INFO Request is queued\n",
      "2020-06-14 13:47:41,436 INFO Request is running\n",
      "2020-06-14 13:47:43,279 INFO Request is completed\n",
      "2020-06-14 13:47:43,280 INFO Downloading http://136.156.133.41/cache-compute-0013/cache/data2/adaptor.mars.internal-1592099260.502519-23195-20-d9d307de-ec8c-4984-bb45-eeb46cdd3b57.nc to /home/nicolasf/research/CPP/indices/data/ERA5/daily/ERA5_daily_geopotential_1000_2018-11-12.nc (192.2K)\n",
      "2020-06-14 13:47:45,127 INFO Download rate 104.2K/s\n"
     ]
    },
    {
     "name": "stdout",
     "output_type": "stream",
     "text": [
      "downloading /home/nicolasf/research/CPP/indices/data/ERA5/daily/ERA5_daily_geopotential_1000_2018-11-13.nc\n"
     ]
    },
    {
     "name": "stderr",
     "output_type": "stream",
     "text": [
      "2020-06-14 13:47:47,174 INFO Welcome to the CDS\n",
      "2020-06-14 13:47:47,175 INFO Sending request to https://cds.climate.copernicus.eu/api/v2/resources/reanalysis-era5-pressure-levels\n",
      "2020-06-14 13:47:48,604 INFO Request is queued\n",
      "2020-06-14 13:47:49,935 INFO Request is running\n",
      "2020-06-14 13:47:51,777 INFO Request is completed\n",
      "2020-06-14 13:47:51,777 INFO Downloading http://136.156.132.110/cache-compute-0001/cache/data3/adaptor.mars.internal-1592099268.7383988-31963-7-a12e286a-cba1-430b-b640-910153ee5cd2.nc to /home/nicolasf/research/CPP/indices/data/ERA5/daily/ERA5_daily_geopotential_1000_2018-11-13.nc (192.2K)\n",
      "2020-06-14 13:47:53,626 INFO Download rate 104K/s  \n"
     ]
    },
    {
     "name": "stdout",
     "output_type": "stream",
     "text": [
      "downloading /home/nicolasf/research/CPP/indices/data/ERA5/daily/ERA5_daily_geopotential_1000_2018-11-14.nc\n"
     ]
    },
    {
     "name": "stderr",
     "output_type": "stream",
     "text": [
      "2020-06-14 13:47:55,366 INFO Welcome to the CDS\n",
      "2020-06-14 13:47:55,367 INFO Sending request to https://cds.climate.copernicus.eu/api/v2/resources/reanalysis-era5-pressure-levels\n",
      "2020-06-14 13:47:57,513 INFO Request is queued\n",
      "2020-06-14 13:47:58,844 INFO Request is completed\n",
      "2020-06-14 13:47:58,846 INFO Downloading http://136.156.132.105/cache-compute-0000/cache/data0/adaptor.mars.internal-1592099277.5757205-11937-29-2f5dcd9a-9d45-4930-be51-874ebb8ff1f7.nc to /home/nicolasf/research/CPP/indices/data/ERA5/daily/ERA5_daily_geopotential_1000_2018-11-14.nc (192.2K)\n",
      "2020-06-14 13:48:00,692 INFO Download rate 104.2K/s\n"
     ]
    },
    {
     "name": "stdout",
     "output_type": "stream",
     "text": [
      "downloading /home/nicolasf/research/CPP/indices/data/ERA5/daily/ERA5_daily_geopotential_1000_2018-11-15.nc\n"
     ]
    },
    {
     "name": "stderr",
     "output_type": "stream",
     "text": [
      "2020-06-14 13:48:02,329 INFO Welcome to the CDS\n",
      "2020-06-14 13:48:02,330 INFO Sending request to https://cds.climate.copernicus.eu/api/v2/resources/reanalysis-era5-pressure-levels\n",
      "2020-06-14 13:48:04,579 INFO Request is queued\n",
      "2020-06-14 13:48:05,910 INFO Request is completed\n",
      "2020-06-14 13:48:05,912 INFO Downloading http://136.156.133.37/cache-compute-0011/cache/data6/adaptor.mars.internal-1592099284.3849478-29955-5-288ba364-44dc-454a-a5b6-9118bc39fb82.nc to /home/nicolasf/research/CPP/indices/data/ERA5/daily/ERA5_daily_geopotential_1000_2018-11-15.nc (192.2K)\n",
      "2020-06-14 13:48:07,758 INFO Download rate 104.3K/s\n"
     ]
    },
    {
     "name": "stdout",
     "output_type": "stream",
     "text": [
      "downloading /home/nicolasf/research/CPP/indices/data/ERA5/daily/ERA5_daily_geopotential_1000_2018-11-16.nc\n"
     ]
    },
    {
     "name": "stderr",
     "output_type": "stream",
     "text": [
      "2020-06-14 13:48:09,395 INFO Welcome to the CDS\n",
      "2020-06-14 13:48:09,396 INFO Sending request to https://cds.climate.copernicus.eu/api/v2/resources/reanalysis-era5-pressure-levels\n",
      "2020-06-14 13:48:11,132 INFO Request is queued\n",
      "2020-06-14 13:48:12,464 INFO Request is completed\n",
      "2020-06-14 13:48:12,465 INFO Downloading http://136.156.133.46/cache-compute-0015/cache/data1/adaptor.mars.internal-1592099291.2479212-29544-3-468f8eee-f134-41ac-ba95-b389cc954265.nc to /home/nicolasf/research/CPP/indices/data/ERA5/daily/ERA5_daily_geopotential_1000_2018-11-16.nc (192.2K)\n",
      "2020-06-14 13:48:14,312 INFO Download rate 104.2K/s\n"
     ]
    },
    {
     "name": "stdout",
     "output_type": "stream",
     "text": [
      "downloading /home/nicolasf/research/CPP/indices/data/ERA5/daily/ERA5_daily_geopotential_1000_2018-11-17.nc\n"
     ]
    },
    {
     "name": "stderr",
     "output_type": "stream",
     "text": [
      "2020-06-14 13:48:16,051 INFO Welcome to the CDS\n",
      "2020-06-14 13:48:16,052 INFO Sending request to https://cds.climate.copernicus.eu/api/v2/resources/reanalysis-era5-pressure-levels\n",
      "2020-06-14 13:48:17,686 INFO Request is queued\n",
      "2020-06-14 13:48:19,017 INFO Request is running\n",
      "2020-06-14 13:48:20,861 INFO Request is completed\n",
      "2020-06-14 13:48:20,863 INFO Downloading http://136.156.132.236/cache-compute-0007/cache/data1/adaptor.mars.internal-1592099298.8142157-26289-18-cb9dc1c0-914e-44a3-a9ca-be9c933e56e4.nc to /home/nicolasf/research/CPP/indices/data/ERA5/daily/ERA5_daily_geopotential_1000_2018-11-17.nc (192.2K)\n",
      "2020-06-14 13:48:22,711 INFO Download rate 104.1K/s\n"
     ]
    },
    {
     "name": "stdout",
     "output_type": "stream",
     "text": [
      "downloading /home/nicolasf/research/CPP/indices/data/ERA5/daily/ERA5_daily_geopotential_1000_2018-11-18.nc\n"
     ]
    },
    {
     "name": "stderr",
     "output_type": "stream",
     "text": [
      "2020-06-14 13:48:24,653 INFO Welcome to the CDS\n",
      "2020-06-14 13:48:24,654 INFO Sending request to https://cds.climate.copernicus.eu/api/v2/resources/reanalysis-era5-pressure-levels\n",
      "2020-06-14 13:48:26,391 INFO Request is queued\n",
      "2020-06-14 13:48:27,721 INFO Request is running\n",
      "2020-06-14 13:48:29,565 INFO Request is completed\n",
      "2020-06-14 13:48:29,566 INFO Downloading http://136.156.133.46/cache-compute-0015/cache/data5/adaptor.mars.internal-1592099306.8949647-24513-11-1909cf5c-d70b-45a2-b666-7c4d1249fffe.nc to /home/nicolasf/research/CPP/indices/data/ERA5/daily/ERA5_daily_geopotential_1000_2018-11-18.nc (192.2K)\n",
      "2020-06-14 13:48:31,414 INFO Download rate 104.1K/s\n"
     ]
    },
    {
     "name": "stdout",
     "output_type": "stream",
     "text": [
      "downloading /home/nicolasf/research/CPP/indices/data/ERA5/daily/ERA5_daily_geopotential_1000_2018-11-19.nc\n"
     ]
    },
    {
     "name": "stderr",
     "output_type": "stream",
     "text": [
      "2020-06-14 13:48:32,947 INFO Welcome to the CDS\n",
      "2020-06-14 13:48:32,948 INFO Sending request to https://cds.climate.copernicus.eu/api/v2/resources/reanalysis-era5-pressure-levels\n",
      "2020-06-14 13:48:34,684 INFO Request is queued\n",
      "2020-06-14 13:48:35,985 INFO Request is running\n",
      "2020-06-14 13:48:37,859 INFO Request is completed\n",
      "2020-06-14 13:48:37,861 INFO Downloading http://136.156.133.42/cache-compute-0014/cache/data7/adaptor.mars.internal-1592099315.1979141-22728-23-2a1ecd70-4454-484a-99f1-7d68778fdb71.nc to /home/nicolasf/research/CPP/indices/data/ERA5/daily/ERA5_daily_geopotential_1000_2018-11-19.nc (192.2K)\n",
      "2020-06-14 13:48:39,709 INFO Download rate 104.1K/s\n"
     ]
    },
    {
     "name": "stdout",
     "output_type": "stream",
     "text": [
      "downloading /home/nicolasf/research/CPP/indices/data/ERA5/daily/ERA5_daily_geopotential_1000_2018-11-20.nc\n"
     ]
    },
    {
     "name": "stderr",
     "output_type": "stream",
     "text": [
      "2020-06-14 13:48:41,652 INFO Welcome to the CDS\n",
      "2020-06-14 13:48:41,653 INFO Sending request to https://cds.climate.copernicus.eu/api/v2/resources/reanalysis-era5-pressure-levels\n",
      "2020-06-14 13:48:43,593 INFO Request is queued\n",
      "2020-06-14 13:48:44,925 INFO Request is running\n",
      "2020-06-14 13:48:46,768 INFO Request is completed\n",
      "2020-06-14 13:48:46,770 INFO Downloading http://136.156.133.37/cache-compute-0011/cache/data9/adaptor.mars.internal-1592099324.2509074-23761-20-aff5b9ae-96a1-4d22-9fbe-6d40c2df5eee.nc to /home/nicolasf/research/CPP/indices/data/ERA5/daily/ERA5_daily_geopotential_1000_2018-11-20.nc (192.2K)\n",
      "2020-06-14 13:48:48,618 INFO Download rate 104.1K/s\n"
     ]
    },
    {
     "name": "stdout",
     "output_type": "stream",
     "text": [
      "downloading /home/nicolasf/research/CPP/indices/data/ERA5/daily/ERA5_daily_geopotential_1000_2018-11-21.nc\n"
     ]
    },
    {
     "name": "stderr",
     "output_type": "stream",
     "text": [
      "2020-06-14 13:48:50,460 INFO Welcome to the CDS\n",
      "2020-06-14 13:48:50,460 INFO Sending request to https://cds.climate.copernicus.eu/api/v2/resources/reanalysis-era5-pressure-levels\n",
      "2020-06-14 13:48:52,504 INFO Request is queued\n",
      "2020-06-14 13:48:53,834 INFO Request is running\n",
      "2020-06-14 13:48:55,677 INFO Request is completed\n",
      "2020-06-14 13:48:55,679 INFO Downloading http://136.156.132.105/cache-compute-0000/cache/data8/adaptor.mars.internal-1592099332.739162-11863-31-61d7e533-c748-4fb8-919a-8d50f70f1f4e.nc to /home/nicolasf/research/CPP/indices/data/ERA5/daily/ERA5_daily_geopotential_1000_2018-11-21.nc (192.2K)\n",
      "2020-06-14 13:48:57,525 INFO Download rate 104.2K/s\n"
     ]
    },
    {
     "name": "stdout",
     "output_type": "stream",
     "text": [
      "downloading /home/nicolasf/research/CPP/indices/data/ERA5/daily/ERA5_daily_geopotential_1000_2018-11-22.nc\n"
     ]
    },
    {
     "name": "stderr",
     "output_type": "stream",
     "text": [
      "2020-06-14 13:48:59,162 INFO Welcome to the CDS\n",
      "2020-06-14 13:48:59,163 INFO Sending request to https://cds.climate.copernicus.eu/api/v2/resources/reanalysis-era5-pressure-levels\n",
      "2020-06-14 13:49:00,592 INFO Request is queued\n",
      "2020-06-14 13:49:01,923 INFO Request is completed\n",
      "2020-06-14 13:49:01,925 INFO Downloading http://136.156.132.235/cache-compute-0006/cache/data7/adaptor.mars.internal-1592099340.550469-22306-1-106b4070-fca3-49c6-9656-dc4b603067fe.nc to /home/nicolasf/research/CPP/indices/data/ERA5/daily/ERA5_daily_geopotential_1000_2018-11-22.nc (192.2K)\n",
      "2020-06-14 13:49:05,306 INFO Download rate 56.9K/s \n"
     ]
    },
    {
     "name": "stdout",
     "output_type": "stream",
     "text": [
      "downloading /home/nicolasf/research/CPP/indices/data/ERA5/daily/ERA5_daily_geopotential_1000_2018-11-23.nc\n"
     ]
    },
    {
     "name": "stderr",
     "output_type": "stream",
     "text": [
      "2020-06-14 13:49:06,945 INFO Welcome to the CDS\n",
      "2020-06-14 13:49:06,946 INFO Sending request to https://cds.climate.copernicus.eu/api/v2/resources/reanalysis-era5-pressure-levels\n",
      "2020-06-14 13:49:08,375 INFO Request is queued\n",
      "2020-06-14 13:49:09,705 INFO Request is completed\n",
      "2020-06-14 13:49:09,705 INFO Downloading http://136.156.133.46/cache-compute-0015/cache/data3/adaptor.mars.internal-1592099348.3041594-20918-30-6a5f158b-9def-432d-ab90-ff06ca135d77.nc to /home/nicolasf/research/CPP/indices/data/ERA5/daily/ERA5_daily_geopotential_1000_2018-11-23.nc (192.2K)\n",
      "2020-06-14 13:49:11,556 INFO Download rate 103.9K/s\n"
     ]
    },
    {
     "name": "stdout",
     "output_type": "stream",
     "text": [
      "downloading /home/nicolasf/research/CPP/indices/data/ERA5/daily/ERA5_daily_geopotential_1000_2018-11-24.nc\n"
     ]
    },
    {
     "name": "stderr",
     "output_type": "stream",
     "text": [
      "2020-06-14 13:49:13,191 INFO Welcome to the CDS\n",
      "2020-06-14 13:49:13,192 INFO Sending request to https://cds.climate.copernicus.eu/api/v2/resources/reanalysis-era5-pressure-levels\n",
      "2020-06-14 13:49:14,622 INFO Request is queued\n",
      "2020-06-14 13:49:15,953 INFO Request is completed\n",
      "2020-06-14 13:49:15,954 INFO Downloading http://136.156.132.110/cache-compute-0001/cache/data3/adaptor.mars.internal-1592099354.6351955-27151-16-1fbc92e6-d821-4e27-b894-78458dd19fd2.nc to /home/nicolasf/research/CPP/indices/data/ERA5/daily/ERA5_daily_geopotential_1000_2018-11-24.nc (192.2K)\n",
      "2020-06-14 13:49:17,801 INFO Download rate 104.2K/s\n"
     ]
    },
    {
     "name": "stdout",
     "output_type": "stream",
     "text": [
      "downloading /home/nicolasf/research/CPP/indices/data/ERA5/daily/ERA5_daily_geopotential_1000_2018-11-25.nc\n"
     ]
    },
    {
     "name": "stderr",
     "output_type": "stream",
     "text": [
      "2020-06-14 13:49:19,950 INFO Welcome to the CDS\n",
      "2020-06-14 13:49:19,951 INFO Sending request to https://cds.climate.copernicus.eu/api/v2/resources/reanalysis-era5-pressure-levels\n",
      "2020-06-14 13:49:21,223 INFO Request is queued\n",
      "2020-06-14 13:49:22,609 INFO Request is completed\n",
      "2020-06-14 13:49:22,611 INFO Downloading http://136.156.132.105/cache-compute-0000/cache/data4/adaptor.mars.internal-1592099361.3426497-21551-1-34637490-974b-4a5d-a959-dd4be8774d3e.nc to /home/nicolasf/research/CPP/indices/data/ERA5/daily/ERA5_daily_geopotential_1000_2018-11-25.nc (192.2K)\n",
      "2020-06-14 13:49:24,560 INFO Download rate 98.7K/s \n"
     ]
    },
    {
     "name": "stdout",
     "output_type": "stream",
     "text": [
      "downloading /home/nicolasf/research/CPP/indices/data/ERA5/daily/ERA5_daily_geopotential_1000_2018-11-26.nc\n"
     ]
    },
    {
     "name": "stderr",
     "output_type": "stream",
     "text": [
      "2020-06-14 13:49:26,196 INFO Welcome to the CDS\n",
      "2020-06-14 13:49:26,196 INFO Sending request to https://cds.climate.copernicus.eu/api/v2/resources/reanalysis-era5-pressure-levels\n",
      "2020-06-14 13:49:27,516 INFO Request is queued\n",
      "2020-06-14 13:49:28,855 INFO Request is running\n",
      "2020-06-14 13:49:30,699 INFO Request is completed\n",
      "2020-06-14 13:49:30,700 INFO Downloading http://136.156.132.235/cache-compute-0006/cache/data4/adaptor.mars.internal-1592099367.5498052-13129-33-39cb3843-bf60-47a8-a00b-28dfe62e79f5.nc to /home/nicolasf/research/CPP/indices/data/ERA5/daily/ERA5_daily_geopotential_1000_2018-11-26.nc (192.2K)\n",
      "2020-06-14 13:49:34,081 INFO Download rate 56.9K/s \n"
     ]
    },
    {
     "name": "stdout",
     "output_type": "stream",
     "text": [
      "downloading /home/nicolasf/research/CPP/indices/data/ERA5/daily/ERA5_daily_geopotential_1000_2018-11-27.nc\n"
     ]
    },
    {
     "name": "stderr",
     "output_type": "stream",
     "text": [
      "2020-06-14 13:49:36,027 INFO Welcome to the CDS\n",
      "2020-06-14 13:49:36,028 INFO Sending request to https://cds.climate.copernicus.eu/api/v2/resources/reanalysis-era5-pressure-levels\n",
      "2020-06-14 13:49:37,457 INFO Request is queued\n",
      "2020-06-14 13:49:38,788 INFO Request is completed\n",
      "2020-06-14 13:49:38,790 INFO Downloading http://136.156.133.32/cache-compute-0009/cache/data1/adaptor.mars.internal-1592099377.4885132-18758-18-027d76fa-b0ef-4cc9-b0c5-cb80131092f5.nc to /home/nicolasf/research/CPP/indices/data/ERA5/daily/ERA5_daily_geopotential_1000_2018-11-27.nc (192.2K)\n",
      "2020-06-14 13:49:40,638 INFO Download rate 104.1K/s\n"
     ]
    },
    {
     "name": "stdout",
     "output_type": "stream",
     "text": [
      "downloading /home/nicolasf/research/CPP/indices/data/ERA5/daily/ERA5_daily_geopotential_1000_2018-11-28.nc\n"
     ]
    },
    {
     "name": "stderr",
     "output_type": "stream",
     "text": [
      "2020-06-14 13:49:42,273 INFO Welcome to the CDS\n",
      "2020-06-14 13:49:42,274 INFO Sending request to https://cds.climate.copernicus.eu/api/v2/resources/reanalysis-era5-pressure-levels\n",
      "2020-06-14 13:49:43,521 INFO Request is queued\n",
      "2020-06-14 13:49:44,830 INFO Request is running\n",
      "2020-06-14 13:49:46,673 INFO Request is completed\n",
      "2020-06-14 13:49:46,675 INFO Downloading http://136.156.133.46/cache-compute-0015/cache/data6/adaptor.mars.internal-1592099383.6873636-14434-20-108c8509-0b9c-4ebd-8e71-37133824a835.nc to /home/nicolasf/research/CPP/indices/data/ERA5/daily/ERA5_daily_geopotential_1000_2018-11-28.nc (192.2K)\n",
      "2020-06-14 13:49:48,487 INFO Download rate 106.2K/s\n"
     ]
    },
    {
     "name": "stdout",
     "output_type": "stream",
     "text": [
      "downloading /home/nicolasf/research/CPP/indices/data/ERA5/daily/ERA5_daily_geopotential_1000_2018-11-29.nc\n"
     ]
    },
    {
     "name": "stderr",
     "output_type": "stream",
     "text": [
      "2020-06-14 13:49:50,056 INFO Welcome to the CDS\n",
      "2020-06-14 13:49:50,056 INFO Sending request to https://cds.climate.copernicus.eu/api/v2/resources/reanalysis-era5-pressure-levels\n",
      "2020-06-14 13:49:51,588 INFO Request is queued\n",
      "2020-06-14 13:49:52,871 INFO Request is completed\n",
      "2020-06-14 13:49:52,873 INFO Downloading http://136.156.132.153/cache-compute-0002/cache/data4/adaptor.mars.internal-1592099391.5699668-23419-23-58a906a6-6d66-45df-aa2f-c03a10936491.nc to /home/nicolasf/research/CPP/indices/data/ERA5/daily/ERA5_daily_geopotential_1000_2018-11-29.nc (192.2K)\n",
      "2020-06-14 13:49:54,770 INFO Download rate 101.4K/s\n"
     ]
    },
    {
     "name": "stdout",
     "output_type": "stream",
     "text": [
      "downloading /home/nicolasf/research/CPP/indices/data/ERA5/daily/ERA5_daily_geopotential_1000_2018-11-30.nc\n"
     ]
    },
    {
     "name": "stderr",
     "output_type": "stream",
     "text": [
      "2020-06-14 13:49:56,405 INFO Welcome to the CDS\n",
      "2020-06-14 13:49:56,406 INFO Sending request to https://cds.climate.copernicus.eu/api/v2/resources/reanalysis-era5-pressure-levels\n",
      "2020-06-14 13:49:57,704 INFO Request is queued\n",
      "2020-06-14 13:49:59,064 INFO Request is running\n",
      "2020-06-14 13:50:00,907 INFO Request is completed\n",
      "2020-06-14 13:50:00,910 INFO Downloading http://136.156.133.25/cache-compute-0008/cache/data0/adaptor.mars.internal-1592099398.124295-16426-3-7714a729-a60f-43ab-9ba6-583775261194.nc to /home/nicolasf/research/CPP/indices/data/ERA5/daily/ERA5_daily_geopotential_1000_2018-11-30.nc (192.2K)\n",
      "2020-06-14 13:50:02,758 INFO Download rate 104.1K/s\n"
     ]
    },
    {
     "name": "stdout",
     "output_type": "stream",
     "text": [
      "downloading /home/nicolasf/research/CPP/indices/data/ERA5/daily/ERA5_daily_geopotential_1000_2018-12-01.nc\n"
     ]
    },
    {
     "name": "stderr",
     "output_type": "stream",
     "text": [
      "2020-06-14 13:50:04,394 INFO Welcome to the CDS\n",
      "2020-06-14 13:50:04,396 INFO Sending request to https://cds.climate.copernicus.eu/api/v2/resources/reanalysis-era5-pressure-levels\n",
      "2020-06-14 13:50:06,027 INFO Request is queued\n",
      "2020-06-14 13:50:07,359 INFO Request is completed\n",
      "2020-06-14 13:50:07,360 INFO Downloading http://136.156.132.201/cache-compute-0004/cache/data1/adaptor.mars.internal-1592099405.939498-24120-28-3e4e7343-c53d-4105-b633-7b46cff09a7b.nc to /home/nicolasf/research/CPP/indices/data/ERA5/daily/ERA5_daily_geopotential_1000_2018-12-01.nc (192.2K)\n",
      "2020-06-14 13:50:09,208 INFO Download rate 104.1K/s\n"
     ]
    },
    {
     "name": "stdout",
     "output_type": "stream",
     "text": [
      "downloading /home/nicolasf/research/CPP/indices/data/ERA5/daily/ERA5_daily_geopotential_1000_2018-12-02.nc\n"
     ]
    },
    {
     "name": "stderr",
     "output_type": "stream",
     "text": [
      "2020-06-14 13:50:10,741 INFO Welcome to the CDS\n",
      "2020-06-14 13:50:10,742 INFO Sending request to https://cds.climate.copernicus.eu/api/v2/resources/reanalysis-era5-pressure-levels\n",
      "2020-06-14 13:50:12,175 INFO Request is queued\n",
      "2020-06-14 13:50:13,502 INFO Request is completed\n",
      "2020-06-14 13:50:13,504 INFO Downloading http://136.156.133.46/cache-compute-0015/cache/data9/adaptor.mars.internal-1592099412.2861562-21878-29-5caad021-594a-4326-bd8e-e30c06b6a3c4.nc to /home/nicolasf/research/CPP/indices/data/ERA5/daily/ERA5_daily_geopotential_1000_2018-12-02.nc (192.2K)\n",
      "2020-06-14 13:50:15,353 INFO Download rate 104K/s  \n"
     ]
    },
    {
     "name": "stdout",
     "output_type": "stream",
     "text": [
      "downloading /home/nicolasf/research/CPP/indices/data/ERA5/daily/ERA5_daily_geopotential_1000_2018-12-03.nc\n"
     ]
    },
    {
     "name": "stderr",
     "output_type": "stream",
     "text": [
      "2020-06-14 13:50:16,988 INFO Welcome to the CDS\n",
      "2020-06-14 13:50:16,989 INFO Sending request to https://cds.climate.copernicus.eu/api/v2/resources/reanalysis-era5-pressure-levels\n",
      "2020-06-14 13:50:18,725 INFO Request is queued\n",
      "2020-06-14 13:50:20,055 INFO Request is completed\n",
      "2020-06-14 13:50:20,055 INFO Downloading http://136.156.133.25/cache-compute-0008/cache/data3/adaptor.mars.internal-1592099418.8171687-15881-7-35f3c95c-28dc-4a4b-811e-88f7c011d1eb.nc to /home/nicolasf/research/CPP/indices/data/ERA5/daily/ERA5_daily_geopotential_1000_2018-12-03.nc (192.2K)\n",
      "2020-06-14 13:50:21,903 INFO Download rate 104K/s  \n"
     ]
    },
    {
     "name": "stdout",
     "output_type": "stream",
     "text": [
      "downloading /home/nicolasf/research/CPP/indices/data/ERA5/daily/ERA5_daily_geopotential_1000_2018-12-04.nc\n"
     ]
    },
    {
     "name": "stderr",
     "output_type": "stream",
     "text": [
      "2020-06-14 13:50:23,542 INFO Welcome to the CDS\n",
      "2020-06-14 13:50:23,543 INFO Sending request to https://cds.climate.copernicus.eu/api/v2/resources/reanalysis-era5-pressure-levels\n",
      "2020-06-14 13:50:24,970 INFO Request is queued\n",
      "2020-06-14 13:50:26,303 INFO Request is running\n",
      "2020-06-14 13:50:28,146 INFO Request is completed\n",
      "2020-06-14 13:50:28,147 INFO Downloading http://136.156.133.25/cache-compute-0008/cache/data2/adaptor.mars.internal-1592099425.147135-7760-31-551dc44b-e953-4597-b296-e718fb6853ac.nc to /home/nicolasf/research/CPP/indices/data/ERA5/daily/ERA5_daily_geopotential_1000_2018-12-04.nc (192.2K)\n",
      "2020-06-14 13:50:29,998 INFO Download rate 104K/s  \n"
     ]
    },
    {
     "name": "stdout",
     "output_type": "stream",
     "text": [
      "downloading /home/nicolasf/research/CPP/indices/data/ERA5/daily/ERA5_daily_geopotential_1000_2018-12-05.nc\n"
     ]
    },
    {
     "name": "stderr",
     "output_type": "stream",
     "text": [
      "2020-06-14 13:50:31,631 INFO Welcome to the CDS\n",
      "2020-06-14 13:50:31,632 INFO Sending request to https://cds.climate.copernicus.eu/api/v2/resources/reanalysis-era5-pressure-levels\n",
      "2020-06-14 13:50:33,778 INFO Request is queued\n",
      "2020-06-14 13:50:35,109 INFO Request is running\n",
      "2020-06-14 13:50:36,896 INFO Request is completed\n",
      "2020-06-14 13:50:36,898 INFO Downloading http://136.156.132.235/cache-compute-0006/cache/data9/adaptor.mars.internal-1592099433.9032815-21404-9-07d18b4a-96ff-440c-b2dd-f2b77f945685.nc to /home/nicolasf/research/CPP/indices/data/ERA5/daily/ERA5_daily_geopotential_1000_2018-12-05.nc (192.2K)\n",
      "2020-06-14 13:50:40,028 INFO Download rate 61.4K/s \n"
     ]
    },
    {
     "name": "stdout",
     "output_type": "stream",
     "text": [
      "downloading /home/nicolasf/research/CPP/indices/data/ERA5/daily/ERA5_daily_geopotential_1000_2018-12-06.nc\n"
     ]
    },
    {
     "name": "stderr",
     "output_type": "stream",
     "text": [
      "2020-06-14 13:50:41,666 INFO Welcome to the CDS\n",
      "2020-06-14 13:50:41,667 INFO Sending request to https://cds.climate.copernicus.eu/api/v2/resources/reanalysis-era5-pressure-levels\n",
      "2020-06-14 13:50:43,049 INFO Request is queued\n",
      "2020-06-14 13:50:44,364 INFO Request is running\n",
      "2020-06-14 13:50:46,169 INFO Request is completed\n",
      "2020-06-14 13:50:46,171 INFO Downloading http://136.156.132.198/cache-compute-0003/cache/data3/adaptor.mars.internal-1592099443.3567598-3983-29-dd9659b0-6988-4339-a536-31a3b8042ec6.nc to /home/nicolasf/research/CPP/indices/data/ERA5/daily/ERA5_daily_geopotential_1000_2018-12-06.nc (192.2K)\n",
      "2020-06-14 13:50:48,021 INFO Download rate 104K/s  \n"
     ]
    },
    {
     "name": "stdout",
     "output_type": "stream",
     "text": [
      "downloading /home/nicolasf/research/CPP/indices/data/ERA5/daily/ERA5_daily_geopotential_1000_2018-12-07.nc\n"
     ]
    },
    {
     "name": "stderr",
     "output_type": "stream",
     "text": [
      "2020-06-14 13:50:49,654 INFO Welcome to the CDS\n",
      "2020-06-14 13:50:49,655 INFO Sending request to https://cds.climate.copernicus.eu/api/v2/resources/reanalysis-era5-pressure-levels\n",
      "2020-06-14 13:50:50,968 INFO Request is queued\n",
      "2020-06-14 13:50:52,313 INFO Request is completed\n",
      "2020-06-14 13:50:52,315 INFO Downloading http://136.156.133.42/cache-compute-0014/cache/data7/adaptor.mars.internal-1592099450.9706194-30928-5-af20beab-bda5-44cb-b6f5-45007c24b347.nc to /home/nicolasf/research/CPP/indices/data/ERA5/daily/ERA5_daily_geopotential_1000_2018-12-07.nc (192.2K)\n",
      "2020-06-14 13:50:53,756 INFO Download rate 133.5K/s\n"
     ]
    },
    {
     "name": "stdout",
     "output_type": "stream",
     "text": [
      "downloading /home/nicolasf/research/CPP/indices/data/ERA5/daily/ERA5_daily_geopotential_1000_2018-12-08.nc\n"
     ]
    },
    {
     "name": "stderr",
     "output_type": "stream",
     "text": [
      "2020-06-14 13:50:55,286 INFO Welcome to the CDS\n",
      "2020-06-14 13:50:55,288 INFO Sending request to https://cds.climate.copernicus.eu/api/v2/resources/reanalysis-era5-pressure-levels\n",
      "2020-06-14 13:50:56,524 INFO Request is queued\n",
      "2020-06-14 13:51:02,246 INFO Request is completed\n",
      "2020-06-14 13:51:02,248 INFO Downloading http://136.156.132.210/cache-compute-0005/cache/data7/adaptor.mars.internal-1592099459.7266662-18882-12-fd2cf106-d701-442f-8cc7-c034b974a5df.nc to /home/nicolasf/research/CPP/indices/data/ERA5/daily/ERA5_daily_geopotential_1000_2018-12-08.nc (192.2K)\n",
      "2020-06-14 13:51:04,096 INFO Download rate 104.1K/s\n"
     ]
    },
    {
     "name": "stdout",
     "output_type": "stream",
     "text": [
      "downloading /home/nicolasf/research/CPP/indices/data/ERA5/daily/ERA5_daily_geopotential_1000_2018-12-09.nc\n"
     ]
    },
    {
     "name": "stderr",
     "output_type": "stream",
     "text": [
      "2020-06-14 13:51:05,731 INFO Welcome to the CDS\n",
      "2020-06-14 13:51:05,732 INFO Sending request to https://cds.climate.copernicus.eu/api/v2/resources/reanalysis-era5-pressure-levels\n",
      "2020-06-14 13:51:07,161 INFO Request is queued\n",
      "2020-06-14 13:51:08,492 INFO Request is completed\n",
      "2020-06-14 13:51:08,494 INFO Downloading http://136.156.133.41/cache-compute-0013/cache/data7/adaptor.mars.internal-1592099467.200278-29497-12-4e85cc1c-1828-4b2e-9fa1-455f2b4cc6a1.nc to /home/nicolasf/research/CPP/indices/data/ERA5/daily/ERA5_daily_geopotential_1000_2018-12-09.nc (192.2K)\n",
      "2020-06-14 13:51:10,341 INFO Download rate 104.1K/s\n"
     ]
    },
    {
     "name": "stdout",
     "output_type": "stream",
     "text": [
      "downloading /home/nicolasf/research/CPP/indices/data/ERA5/daily/ERA5_daily_geopotential_1000_2018-12-10.nc\n"
     ]
    },
    {
     "name": "stderr",
     "output_type": "stream",
     "text": [
      "2020-06-14 13:51:12,080 INFO Welcome to the CDS\n",
      "2020-06-14 13:51:12,080 INFO Sending request to https://cds.climate.copernicus.eu/api/v2/resources/reanalysis-era5-pressure-levels\n",
      "2020-06-14 13:51:13,377 INFO Request is queued\n",
      "2020-06-14 13:51:14,665 INFO Request is running\n",
      "2020-06-14 13:51:16,480 INFO Request is completed\n",
      "2020-06-14 13:51:16,481 INFO Downloading http://136.156.132.153/cache-compute-0002/cache/data6/adaptor.mars.internal-1592099473.3863773-31414-7-09cf4d0a-393f-47b0-84e3-58350ced34fd.nc to /home/nicolasf/research/CPP/indices/data/ERA5/daily/ERA5_daily_geopotential_1000_2018-12-10.nc (192.2K)\n",
      "2020-06-14 13:51:18,329 INFO Download rate 104.1K/s\n"
     ]
    },
    {
     "name": "stdout",
     "output_type": "stream",
     "text": [
      "downloading /home/nicolasf/research/CPP/indices/data/ERA5/daily/ERA5_daily_geopotential_1000_2018-12-11.nc\n"
     ]
    },
    {
     "name": "stderr",
     "output_type": "stream",
     "text": [
      "2020-06-14 13:51:20,029 INFO Welcome to the CDS\n",
      "2020-06-14 13:51:20,030 INFO Sending request to https://cds.climate.copernicus.eu/api/v2/resources/reanalysis-era5-pressure-levels\n",
      "2020-06-14 13:51:21,364 INFO Request is queued\n",
      "2020-06-14 13:51:22,726 INFO Request is completed\n",
      "2020-06-14 13:51:22,728 INFO Downloading http://136.156.132.153/cache-compute-0002/cache/data3/adaptor.mars.internal-1592099481.3384914-20636-33-e0e4bcf4-0d78-438a-93d0-30061fd7029f.nc to /home/nicolasf/research/CPP/indices/data/ERA5/daily/ERA5_daily_geopotential_1000_2018-12-11.nc (192.2K)\n",
      "2020-06-14 13:51:24,576 INFO Download rate 104.1K/s\n"
     ]
    },
    {
     "name": "stdout",
     "output_type": "stream",
     "text": [
      "downloading /home/nicolasf/research/CPP/indices/data/ERA5/daily/ERA5_daily_geopotential_1000_2018-12-12.nc\n"
     ]
    },
    {
     "name": "stderr",
     "output_type": "stream",
     "text": [
      "2020-06-14 13:51:26,314 INFO Welcome to the CDS\n",
      "2020-06-14 13:51:26,315 INFO Sending request to https://cds.climate.copernicus.eu/api/v2/resources/reanalysis-era5-pressure-levels\n",
      "2020-06-14 13:51:27,629 INFO Request is queued\n",
      "2020-06-14 13:51:28,973 INFO Request is running\n",
      "2020-06-14 13:51:30,816 INFO Request is completed\n",
      "2020-06-14 13:51:30,818 INFO Downloading http://136.156.133.36/cache-compute-0010/cache/data4/adaptor.mars.internal-1592099487.6038215-5394-7-ec4f532b-f4cc-47ab-b1a5-b40cb19088a5.nc to /home/nicolasf/research/CPP/indices/data/ERA5/daily/ERA5_daily_geopotential_1000_2018-12-12.nc (192.2K)\n",
      "2020-06-14 13:51:32,663 INFO Download rate 104.2K/s\n"
     ]
    },
    {
     "name": "stdout",
     "output_type": "stream",
     "text": [
      "downloading /home/nicolasf/research/CPP/indices/data/ERA5/daily/ERA5_daily_geopotential_1000_2018-12-13.nc\n"
     ]
    },
    {
     "name": "stderr",
     "output_type": "stream",
     "text": [
      "2020-06-14 13:51:34,301 INFO Welcome to the CDS\n",
      "2020-06-14 13:51:34,302 INFO Sending request to https://cds.climate.copernicus.eu/api/v2/resources/reanalysis-era5-pressure-levels\n",
      "2020-06-14 13:51:35,730 INFO Request is queued\n",
      "2020-06-14 13:51:37,063 INFO Request is running\n",
      "2020-06-14 13:51:38,906 INFO Request is completed\n",
      "2020-06-14 13:51:38,907 INFO Downloading http://136.156.132.110/cache-compute-0001/cache/data3/adaptor.mars.internal-1592099495.9779587-1167-7-414c13b2-61d7-4622-9575-991ec0bf6f05.nc to /home/nicolasf/research/CPP/indices/data/ERA5/daily/ERA5_daily_geopotential_1000_2018-12-13.nc (192.2K)\n",
      "2020-06-14 13:51:40,756 INFO Download rate 104.1K/s\n"
     ]
    },
    {
     "name": "stdout",
     "output_type": "stream",
     "text": [
      "downloading /home/nicolasf/research/CPP/indices/data/ERA5/daily/ERA5_daily_geopotential_1000_2018-12-14.nc\n"
     ]
    },
    {
     "name": "stderr",
     "output_type": "stream",
     "text": [
      "2020-06-14 13:51:42,391 INFO Welcome to the CDS\n",
      "2020-06-14 13:51:42,392 INFO Sending request to https://cds.climate.copernicus.eu/api/v2/resources/reanalysis-era5-pressure-levels\n",
      "2020-06-14 13:51:43,923 INFO Request is queued\n",
      "2020-06-14 13:51:45,255 INFO Request is completed\n",
      "2020-06-14 13:51:45,257 INFO Downloading http://136.156.132.235/cache-compute-0006/cache/data3/adaptor.mars.internal-1592099504.0234468-14377-28-e1fd2bf1-692d-4efa-8bef-e3b08c8dba6c.nc to /home/nicolasf/research/CPP/indices/data/ERA5/daily/ERA5_daily_geopotential_1000_2018-12-14.nc (192.2K)\n",
      "2020-06-14 13:51:48,637 INFO Download rate 56.9K/s \n"
     ]
    },
    {
     "name": "stdout",
     "output_type": "stream",
     "text": [
      "downloading /home/nicolasf/research/CPP/indices/data/ERA5/daily/ERA5_daily_geopotential_1000_2018-12-15.nc\n"
     ]
    },
    {
     "name": "stderr",
     "output_type": "stream",
     "text": [
      "2020-06-14 13:51:50,276 INFO Welcome to the CDS\n",
      "2020-06-14 13:51:50,276 INFO Sending request to https://cds.climate.copernicus.eu/api/v2/resources/reanalysis-era5-pressure-levels\n",
      "2020-06-14 13:51:51,706 INFO Request is queued\n",
      "2020-06-14 13:51:52,995 INFO Request is running\n",
      "2020-06-14 13:51:54,881 INFO Request is completed\n",
      "2020-06-14 13:51:54,883 INFO Downloading http://136.156.133.25/cache-compute-0008/cache/data2/adaptor.mars.internal-1592099512.0761096-15639-12-b1150abf-5adc-4d1a-9802-449369fdecfa.nc to /home/nicolasf/research/CPP/indices/data/ERA5/daily/ERA5_daily_geopotential_1000_2018-12-15.nc (192.2K)\n",
      "2020-06-14 13:51:56,728 INFO Download rate 104.3K/s\n"
     ]
    },
    {
     "name": "stdout",
     "output_type": "stream",
     "text": [
      "downloading /home/nicolasf/research/CPP/indices/data/ERA5/daily/ERA5_daily_geopotential_1000_2018-12-16.nc\n"
     ]
    },
    {
     "name": "stderr",
     "output_type": "stream",
     "text": [
      "2020-06-14 13:51:58,366 INFO Welcome to the CDS\n",
      "2020-06-14 13:51:58,367 INFO Sending request to https://cds.climate.copernicus.eu/api/v2/resources/reanalysis-era5-pressure-levels\n",
      "2020-06-14 13:52:00,001 INFO Request is queued\n",
      "2020-06-14 13:52:01,332 INFO Request is running\n",
      "2020-06-14 13:52:03,175 INFO Request is completed\n",
      "2020-06-14 13:52:03,177 INFO Downloading http://136.156.132.236/cache-compute-0007/cache/data0/adaptor.mars.internal-1592099520.3142958-26260-27-d2a4fa8a-bf6a-4dac-a4f1-6325d02fa9fc.nc to /home/nicolasf/research/CPP/indices/data/ERA5/daily/ERA5_daily_geopotential_1000_2018-12-16.nc (192.2K)\n",
      "2020-06-14 13:52:05,027 INFO Download rate 104K/s  \n"
     ]
    },
    {
     "name": "stdout",
     "output_type": "stream",
     "text": [
      "downloading /home/nicolasf/research/CPP/indices/data/ERA5/daily/ERA5_daily_geopotential_1000_2018-12-17.nc\n"
     ]
    },
    {
     "name": "stderr",
     "output_type": "stream",
     "text": [
      "2020-06-14 13:52:07,276 INFO Welcome to the CDS\n",
      "2020-06-14 13:52:07,277 INFO Sending request to https://cds.climate.copernicus.eu/api/v2/resources/reanalysis-era5-pressure-levels\n",
      "2020-06-14 13:52:09,728 INFO Request is queued\n",
      "2020-06-14 13:52:11,060 INFO Request is completed\n",
      "2020-06-14 13:52:11,062 INFO Downloading http://136.156.133.36/cache-compute-0010/cache/data3/adaptor.mars.internal-1592099529.8335447-6671-3-b71d42d5-925e-4093-9245-2e3107043574.nc to /home/nicolasf/research/CPP/indices/data/ERA5/daily/ERA5_daily_geopotential_1000_2018-12-17.nc (192.2K)\n",
      "2020-06-14 13:52:12,910 INFO Download rate 104.1K/s\n"
     ]
    },
    {
     "name": "stdout",
     "output_type": "stream",
     "text": [
      "downloading /home/nicolasf/research/CPP/indices/data/ERA5/daily/ERA5_daily_geopotential_1000_2018-12-18.nc\n"
     ]
    },
    {
     "name": "stderr",
     "output_type": "stream",
     "text": [
      "2020-06-14 13:52:14,647 INFO Welcome to the CDS\n",
      "2020-06-14 13:52:14,648 INFO Sending request to https://cds.climate.copernicus.eu/api/v2/resources/reanalysis-era5-pressure-levels\n",
      "2020-06-14 13:52:16,077 INFO Request is queued\n",
      "2020-06-14 13:52:17,409 INFO Request is running\n",
      "2020-06-14 13:52:19,252 INFO Request is completed\n",
      "2020-06-14 13:52:19,253 INFO Downloading http://136.156.132.210/cache-compute-0005/cache/data9/adaptor.mars.internal-1592099536.2518213-21220-3-b54e125b-bc96-457f-bb58-66b107dd74c2.nc to /home/nicolasf/research/CPP/indices/data/ERA5/daily/ERA5_daily_geopotential_1000_2018-12-18.nc (192.2K)\n",
      "2020-06-14 13:52:21,103 INFO Download rate 104K/s  \n"
     ]
    },
    {
     "name": "stdout",
     "output_type": "stream",
     "text": [
      "downloading /home/nicolasf/research/CPP/indices/data/ERA5/daily/ERA5_daily_geopotential_1000_2018-12-19.nc\n"
     ]
    },
    {
     "name": "stderr",
     "output_type": "stream",
     "text": [
      "2020-06-14 13:52:23,214 INFO Welcome to the CDS\n",
      "2020-06-14 13:52:23,215 INFO Sending request to https://cds.climate.copernicus.eu/api/v2/resources/reanalysis-era5-pressure-levels\n",
      "2020-06-14 13:52:24,679 INFO Request is queued\n",
      "2020-06-14 13:52:26,011 INFO Request is running\n",
      "2020-06-14 13:52:27,854 INFO Request is completed\n",
      "2020-06-14 13:52:27,855 INFO Downloading http://136.156.133.37/cache-compute-0011/cache/data4/adaptor.mars.internal-1592099544.6078432-28406-18-bd7e3d3e-2bed-4465-817b-f0a5f0298064.nc to /home/nicolasf/research/CPP/indices/data/ERA5/daily/ERA5_daily_geopotential_1000_2018-12-19.nc (192.2K)\n",
      "2020-06-14 13:52:29,704 INFO Download rate 104.1K/s\n"
     ]
    },
    {
     "name": "stdout",
     "output_type": "stream",
     "text": [
      "downloading /home/nicolasf/research/CPP/indices/data/ERA5/daily/ERA5_daily_geopotential_1000_2018-12-20.nc\n"
     ]
    },
    {
     "name": "stderr",
     "output_type": "stream",
     "text": [
      "2020-06-14 13:52:32,261 INFO Welcome to the CDS\n",
      "2020-06-14 13:52:32,262 INFO Sending request to https://cds.climate.copernicus.eu/api/v2/resources/reanalysis-era5-pressure-levels\n",
      "2020-06-14 13:52:33,998 INFO Request is queued\n",
      "2020-06-14 13:52:35,329 INFO Request is completed\n",
      "2020-06-14 13:52:35,331 INFO Downloading http://136.156.133.37/cache-compute-0011/cache/data7/adaptor.mars.internal-1592099554.0869703-30919-11-96c95c17-30de-4325-9740-2be71eb6a074.nc to /home/nicolasf/research/CPP/indices/data/ERA5/daily/ERA5_daily_geopotential_1000_2018-12-20.nc (192.2K)\n",
      "2020-06-14 13:52:37,178 INFO Download rate 104.2K/s\n"
     ]
    },
    {
     "name": "stdout",
     "output_type": "stream",
     "text": [
      "downloading /home/nicolasf/research/CPP/indices/data/ERA5/daily/ERA5_daily_geopotential_1000_2018-12-21.nc\n"
     ]
    },
    {
     "name": "stderr",
     "output_type": "stream",
     "text": [
      "2020-06-14 13:52:39,633 INFO Welcome to the CDS\n",
      "2020-06-14 13:52:39,635 INFO Sending request to https://cds.climate.copernicus.eu/api/v2/resources/reanalysis-era5-pressure-levels\n",
      "2020-06-14 13:52:41,678 INFO Request is queued\n",
      "2020-06-14 13:52:43,009 INFO Request is completed\n",
      "2020-06-14 13:52:43,011 INFO Downloading http://136.156.132.236/cache-compute-0007/cache/data3/adaptor.mars.internal-1592099561.512189-775-9-416ab1a1-f5db-4817-b582-928dc00422c2.nc to /home/nicolasf/research/CPP/indices/data/ERA5/daily/ERA5_daily_geopotential_1000_2018-12-21.nc (192.2K)\n",
      "2020-06-14 13:52:44,859 INFO Download rate 104.1K/s\n"
     ]
    },
    {
     "name": "stdout",
     "output_type": "stream",
     "text": [
      "downloading /home/nicolasf/research/CPP/indices/data/ERA5/daily/ERA5_daily_geopotential_1000_2018-12-22.nc\n"
     ]
    },
    {
     "name": "stderr",
     "output_type": "stream",
     "text": [
      "2020-06-14 13:52:46,495 INFO Welcome to the CDS\n",
      "2020-06-14 13:52:46,496 INFO Sending request to https://cds.climate.copernicus.eu/api/v2/resources/reanalysis-era5-pressure-levels\n",
      "2020-06-14 13:52:47,822 INFO Request is queued\n",
      "2020-06-14 13:52:49,154 INFO Request is running\n",
      "2020-06-14 13:52:50,997 INFO Request is completed\n",
      "2020-06-14 13:52:50,999 INFO Downloading http://136.156.133.32/cache-compute-0009/cache/data9/adaptor.mars.internal-1592099568.018073-17585-33-ac6f0a1f-d9d4-4702-9711-8b0b5a9202bf.nc to /home/nicolasf/research/CPP/indices/data/ERA5/daily/ERA5_daily_geopotential_1000_2018-12-22.nc (192.2K)\n",
      "2020-06-14 13:52:52,846 INFO Download rate 104.1K/s\n"
     ]
    },
    {
     "name": "stdout",
     "output_type": "stream",
     "text": [
      "downloading /home/nicolasf/research/CPP/indices/data/ERA5/daily/ERA5_daily_geopotential_1000_2018-12-23.nc\n"
     ]
    },
    {
     "name": "stderr",
     "output_type": "stream",
     "text": [
      "2020-06-14 13:52:54,584 INFO Welcome to the CDS\n",
      "2020-06-14 13:52:54,585 INFO Sending request to https://cds.climate.copernicus.eu/api/v2/resources/reanalysis-era5-pressure-levels\n",
      "2020-06-14 13:52:56,731 INFO Request is queued\n",
      "2020-06-14 13:52:58,063 INFO Request is completed\n",
      "2020-06-14 13:52:58,064 INFO Downloading http://136.156.132.235/cache-compute-0006/cache/data9/adaptor.mars.internal-1592099576.753142-22330-9-cc875804-a6bd-453f-a81f-917ee3f4b850.nc to /home/nicolasf/research/CPP/indices/data/ERA5/daily/ERA5_daily_geopotential_1000_2018-12-23.nc (192.2K)\n",
      "2020-06-14 13:53:01,445 INFO Download rate 56.9K/s \n"
     ]
    },
    {
     "name": "stdout",
     "output_type": "stream",
     "text": [
      "downloading /home/nicolasf/research/CPP/indices/data/ERA5/daily/ERA5_daily_geopotential_1000_2018-12-24.nc\n"
     ]
    },
    {
     "name": "stderr",
     "output_type": "stream",
     "text": [
      "2020-06-14 13:53:03,084 INFO Welcome to the CDS\n",
      "2020-06-14 13:53:03,084 INFO Sending request to https://cds.climate.copernicus.eu/api/v2/resources/reanalysis-era5-pressure-levels\n",
      "2020-06-14 13:53:05,025 INFO Request is queued\n",
      "2020-06-14 13:53:08,200 INFO Request is completed\n",
      "2020-06-14 13:53:08,202 INFO Downloading http://136.156.133.36/cache-compute-0010/cache/data6/adaptor.mars.internal-1592099586.3691554-7161-1-a3a7932d-cd7c-4cd5-8b9e-1b550864831a.nc to /home/nicolasf/research/CPP/indices/data/ERA5/daily/ERA5_daily_geopotential_1000_2018-12-24.nc (192.2K)\n",
      "2020-06-14 13:53:10,048 INFO Download rate 104.2K/s\n"
     ]
    },
    {
     "name": "stdout",
     "output_type": "stream",
     "text": [
      "downloading /home/nicolasf/research/CPP/indices/data/ERA5/daily/ERA5_daily_geopotential_1000_2018-12-25.nc\n"
     ]
    },
    {
     "name": "stderr",
     "output_type": "stream",
     "text": [
      "2020-06-14 13:53:11,788 INFO Welcome to the CDS\n",
      "2020-06-14 13:53:11,788 INFO Sending request to https://cds.climate.copernicus.eu/api/v2/resources/reanalysis-era5-pressure-levels\n",
      "2020-06-14 13:53:13,217 INFO Request is queued\n",
      "2020-06-14 13:53:14,547 INFO Request is completed\n",
      "2020-06-14 13:53:14,548 INFO Downloading http://136.156.133.46/cache-compute-0015/cache/data0/adaptor.mars.internal-1592099593.1895423-29080-16-6c3ac403-4af7-4377-83ba-3dd7a3c8e028.nc to /home/nicolasf/research/CPP/indices/data/ERA5/daily/ERA5_daily_geopotential_1000_2018-12-25.nc (192.2K)\n",
      "2020-06-14 13:53:16,399 INFO Download rate 103.9K/s\n"
     ]
    },
    {
     "name": "stdout",
     "output_type": "stream",
     "text": [
      "downloading /home/nicolasf/research/CPP/indices/data/ERA5/daily/ERA5_daily_geopotential_1000_2018-12-26.nc\n"
     ]
    },
    {
     "name": "stderr",
     "output_type": "stream",
     "text": [
      "2020-06-14 13:53:17,973 INFO Welcome to the CDS\n",
      "2020-06-14 13:53:17,974 INFO Sending request to https://cds.climate.copernicus.eu/api/v2/resources/reanalysis-era5-pressure-levels\n",
      "2020-06-14 13:53:20,079 INFO Request is queued\n",
      "2020-06-14 13:53:21,410 INFO Request is running\n",
      "2020-06-14 13:53:23,254 INFO Request is completed\n",
      "2020-06-14 13:53:23,255 INFO Downloading http://136.156.132.198/cache-compute-0003/cache/data6/adaptor.mars.internal-1592099600.2366834-11086-16-3c02f194-1dd1-4c5e-9b8b-204c599fabee.nc to /home/nicolasf/research/CPP/indices/data/ERA5/daily/ERA5_daily_geopotential_1000_2018-12-26.nc (192.2K)\n",
      "2020-06-14 13:53:25,105 INFO Download rate 104K/s  \n"
     ]
    },
    {
     "name": "stdout",
     "output_type": "stream",
     "text": [
      "downloading /home/nicolasf/research/CPP/indices/data/ERA5/daily/ERA5_daily_geopotential_1000_2018-12-27.nc\n"
     ]
    },
    {
     "name": "stderr",
     "output_type": "stream",
     "text": [
      "2020-06-14 13:53:28,377 INFO Welcome to the CDS\n",
      "2020-06-14 13:53:28,378 INFO Sending request to https://cds.climate.copernicus.eu/api/v2/resources/reanalysis-era5-pressure-levels\n",
      "2020-06-14 13:53:30,012 INFO Request is queued\n",
      "2020-06-14 13:53:31,343 INFO Request is running\n",
      "2020-06-14 13:53:33,186 INFO Request is completed\n",
      "2020-06-14 13:53:33,188 INFO Downloading http://136.156.132.110/cache-compute-0001/cache/data5/adaptor.mars.internal-1592099610.5880268-2394-5-309562d6-d4ff-4cd3-bdb8-7efe7d653dd9.nc to /home/nicolasf/research/CPP/indices/data/ERA5/daily/ERA5_daily_geopotential_1000_2018-12-27.nc (192.2K)\n",
      "2020-06-14 13:53:35,037 INFO Download rate 104K/s  \n"
     ]
    },
    {
     "name": "stdout",
     "output_type": "stream",
     "text": [
      "downloading /home/nicolasf/research/CPP/indices/data/ERA5/daily/ERA5_daily_geopotential_1000_2018-12-28.nc\n"
     ]
    },
    {
     "name": "stderr",
     "output_type": "stream",
     "text": [
      "2020-06-14 13:53:37,081 INFO Welcome to the CDS\n",
      "2020-06-14 13:53:37,082 INFO Sending request to https://cds.climate.copernicus.eu/api/v2/resources/reanalysis-era5-pressure-levels\n",
      "2020-06-14 13:53:39,740 INFO Request is queued\n",
      "2020-06-14 13:53:41,071 INFO Request is running\n",
      "2020-06-14 13:53:42,914 INFO Request is completed\n",
      "2020-06-14 13:53:42,916 INFO Downloading http://136.156.132.235/cache-compute-0006/cache/data5/adaptor.mars.internal-1592099620.019174-21404-16-e2ba6387-1b98-4d4a-b8ba-b8c405289734.nc to /home/nicolasf/research/CPP/indices/data/ERA5/daily/ERA5_daily_geopotential_1000_2018-12-28.nc (192.2K)\n",
      "2020-06-14 13:53:46,298 INFO Download rate 56.9K/s \n"
     ]
    },
    {
     "name": "stdout",
     "output_type": "stream",
     "text": [
      "downloading /home/nicolasf/research/CPP/indices/data/ERA5/daily/ERA5_daily_geopotential_1000_2018-12-29.nc\n"
     ]
    },
    {
     "name": "stderr",
     "output_type": "stream",
     "text": [
      "2020-06-14 13:53:48,346 INFO Welcome to the CDS\n",
      "2020-06-14 13:53:48,347 INFO Sending request to https://cds.climate.copernicus.eu/api/v2/resources/reanalysis-era5-pressure-levels\n",
      "2020-06-14 13:53:50,185 INFO Request is queued\n",
      "2020-06-14 13:53:51,516 INFO Request is running\n",
      "2020-06-14 13:53:53,306 INFO Request is completed\n",
      "2020-06-14 13:53:53,307 INFO Downloading http://136.156.133.46/cache-compute-0015/cache/data9/adaptor.mars.internal-1592099631.3272183-31916-1-909b652b-024d-438a-b76a-a65bebda3b27.nc to /home/nicolasf/research/CPP/indices/data/ERA5/daily/ERA5_daily_geopotential_1000_2018-12-29.nc (192.2K)\n",
      "2020-06-14 13:53:55,207 INFO Download rate 101.3K/s\n"
     ]
    },
    {
     "name": "stdout",
     "output_type": "stream",
     "text": [
      "downloading /home/nicolasf/research/CPP/indices/data/ERA5/daily/ERA5_daily_geopotential_1000_2018-12-30.nc\n"
     ]
    },
    {
     "name": "stderr",
     "output_type": "stream",
     "text": [
      "2020-06-14 13:53:56,742 INFO Welcome to the CDS\n",
      "2020-06-14 13:53:56,743 INFO Sending request to https://cds.climate.copernicus.eu/api/v2/resources/reanalysis-era5-pressure-levels\n",
      "2020-06-14 13:53:58,262 INFO Request is queued\n",
      "2020-06-14 13:53:59,606 INFO Request is completed\n",
      "2020-06-14 13:53:59,608 INFO Downloading http://136.156.132.210/cache-compute-0005/cache/data4/adaptor.mars.internal-1592099638.238758-7204-28-95abdfd2-5e2f-43af-817a-192be4918139.nc to /home/nicolasf/research/CPP/indices/data/ERA5/daily/ERA5_daily_geopotential_1000_2018-12-30.nc (192.2K)\n",
      "2020-06-14 13:54:01,454 INFO Download rate 104.3K/s\n"
     ]
    },
    {
     "name": "stdout",
     "output_type": "stream",
     "text": [
      "downloading /home/nicolasf/research/CPP/indices/data/ERA5/daily/ERA5_daily_geopotential_1000_2018-12-31.nc\n"
     ]
    },
    {
     "name": "stderr",
     "output_type": "stream",
     "text": [
      "2020-06-14 13:54:03,091 INFO Welcome to the CDS\n",
      "2020-06-14 13:54:03,092 INFO Sending request to https://cds.climate.copernicus.eu/api/v2/resources/reanalysis-era5-pressure-levels\n",
      "2020-06-14 13:54:04,336 INFO Request is queued\n",
      "2020-06-14 13:54:05,647 INFO Request is completed\n",
      "2020-06-14 13:54:05,649 INFO Downloading http://136.156.132.235/cache-compute-0006/cache/data5/adaptor.mars.internal-1592099644.4623878-22330-11-4100221a-ee7c-45cc-829d-353533b6a5b6.nc to /home/nicolasf/research/CPP/indices/data/ERA5/daily/ERA5_daily_geopotential_1000_2018-12-31.nc (192.2K)\n",
      "2020-06-14 13:54:08,725 INFO Download rate 62.5K/s \n"
     ]
    },
    {
     "name": "stdout",
     "output_type": "stream",
     "text": [
      "downloading /home/nicolasf/research/CPP/indices/data/ERA5/daily/ERA5_daily_geopotential_1000_2019-01-01.nc\n"
     ]
    },
    {
     "name": "stderr",
     "output_type": "stream",
     "text": [
      "2020-06-14 13:54:10,771 INFO Welcome to the CDS\n",
      "2020-06-14 13:54:10,772 INFO Sending request to https://cds.climate.copernicus.eu/api/v2/resources/reanalysis-era5-pressure-levels\n",
      "2020-06-14 13:54:12,201 INFO Request is queued\n",
      "2020-06-14 13:54:13,532 INFO Request is completed\n",
      "2020-06-14 13:54:13,535 INFO Downloading http://136.156.133.42/cache-compute-0014/cache/data1/adaptor.mars.internal-1592099652.1825671-30951-11-6d16d508-22cb-48ef-8a42-0535374f024b.nc to /home/nicolasf/research/CPP/indices/data/ERA5/daily/ERA5_daily_geopotential_1000_2019-01-01.nc (192.2K)\n",
      "2020-06-14 13:54:15,384 INFO Download rate 104K/s  \n"
     ]
    },
    {
     "name": "stdout",
     "output_type": "stream",
     "text": [
      "downloading /home/nicolasf/research/CPP/indices/data/ERA5/daily/ERA5_daily_geopotential_1000_2019-01-02.nc\n"
     ]
    },
    {
     "name": "stderr",
     "output_type": "stream",
     "text": [
      "2020-06-14 13:54:17,222 INFO Welcome to the CDS\n",
      "2020-06-14 13:54:17,223 INFO Sending request to https://cds.climate.copernicus.eu/api/v2/resources/reanalysis-era5-pressure-levels\n",
      "2020-06-14 13:54:18,596 INFO Request is queued\n",
      "2020-06-14 13:54:19,984 INFO Request is completed\n",
      "2020-06-14 13:54:19,986 INFO Downloading http://136.156.133.46/cache-compute-0015/cache/data0/adaptor.mars.internal-1592099658.630398-29544-16-654d4726-f22e-4ee8-be28-3a740df80c67.nc to /home/nicolasf/research/CPP/indices/data/ERA5/daily/ERA5_daily_geopotential_1000_2019-01-02.nc (192.2K)\n",
      "2020-06-14 13:54:21,832 INFO Download rate 104.2K/s\n"
     ]
    },
    {
     "name": "stdout",
     "output_type": "stream",
     "text": [
      "downloading /home/nicolasf/research/CPP/indices/data/ERA5/daily/ERA5_daily_geopotential_1000_2019-01-03.nc\n"
     ]
    },
    {
     "name": "stderr",
     "output_type": "stream",
     "text": [
      "2020-06-14 13:54:23,468 INFO Welcome to the CDS\n",
      "2020-06-14 13:54:23,469 INFO Sending request to https://cds.climate.copernicus.eu/api/v2/resources/reanalysis-era5-pressure-levels\n",
      "2020-06-14 13:54:24,722 INFO Request is queued\n",
      "2020-06-14 13:54:26,026 INFO Request is completed\n",
      "2020-06-14 13:54:26,028 INFO Downloading http://136.156.132.110/cache-compute-0001/cache/data6/adaptor.mars.internal-1592099664.7524536-32078-20-3bad7719-1038-4f18-874b-445156bdd68d.nc to /home/nicolasf/research/CPP/indices/data/ERA5/daily/ERA5_daily_geopotential_1000_2019-01-03.nc (192.2K)\n",
      "2020-06-14 13:54:27,875 INFO Download rate 104.1K/s\n"
     ]
    },
    {
     "name": "stdout",
     "output_type": "stream",
     "text": [
      "downloading /home/nicolasf/research/CPP/indices/data/ERA5/daily/ERA5_daily_geopotential_1000_2019-01-04.nc\n"
     ]
    },
    {
     "name": "stderr",
     "output_type": "stream",
     "text": [
      "2020-06-14 13:54:29,510 INFO Welcome to the CDS\n",
      "2020-06-14 13:54:29,511 INFO Sending request to https://cds.climate.copernicus.eu/api/v2/resources/reanalysis-era5-pressure-levels\n",
      "2020-06-14 13:54:31,043 INFO Request is queued\n",
      "2020-06-14 13:54:32,375 INFO Request is completed\n",
      "2020-06-14 13:54:32,377 INFO Downloading http://136.156.132.201/cache-compute-0004/cache/data5/adaptor.mars.internal-1592099670.920674-28200-31-77b04c37-63c1-4dc3-a78b-2763edf00f3e.nc to /home/nicolasf/research/CPP/indices/data/ERA5/daily/ERA5_daily_geopotential_1000_2019-01-04.nc (192.2K)\n",
      "2020-06-14 13:54:34,226 INFO Download rate 104.1K/s\n"
     ]
    },
    {
     "name": "stdout",
     "output_type": "stream",
     "text": [
      "downloading /home/nicolasf/research/CPP/indices/data/ERA5/daily/ERA5_daily_geopotential_1000_2019-01-05.nc\n"
     ]
    },
    {
     "name": "stderr",
     "output_type": "stream",
     "text": [
      "2020-06-14 13:54:35,860 INFO Welcome to the CDS\n",
      "2020-06-14 13:54:35,860 INFO Sending request to https://cds.climate.copernicus.eu/api/v2/resources/reanalysis-era5-pressure-levels\n",
      "2020-06-14 13:54:37,160 INFO Request is queued\n",
      "2020-06-14 13:54:38,449 INFO Request is completed\n",
      "2020-06-14 13:54:38,451 INFO Downloading http://136.156.133.39/cache-compute-0012/cache/data4/adaptor.mars.internal-1592099677.1461596-26130-7-44deb713-30a4-4db5-945a-231a4f96af8f.nc to /home/nicolasf/research/CPP/indices/data/ERA5/daily/ERA5_daily_geopotential_1000_2019-01-05.nc (192.2K)\n",
      "2020-06-14 13:54:40,366 INFO Download rate 100.4K/s\n"
     ]
    },
    {
     "name": "stdout",
     "output_type": "stream",
     "text": [
      "downloading /home/nicolasf/research/CPP/indices/data/ERA5/daily/ERA5_daily_geopotential_1000_2019-01-06.nc\n"
     ]
    },
    {
     "name": "stderr",
     "output_type": "stream",
     "text": [
      "2020-06-14 13:54:42,106 INFO Welcome to the CDS\n",
      "2020-06-14 13:54:42,107 INFO Sending request to https://cds.climate.copernicus.eu/api/v2/resources/reanalysis-era5-pressure-levels\n",
      "2020-06-14 13:54:43,373 INFO Request is queued\n",
      "2020-06-14 13:54:44,662 INFO Request is completed\n",
      "2020-06-14 13:54:44,664 INFO Downloading http://136.156.132.236/cache-compute-0007/cache/data7/adaptor.mars.internal-1592099683.3933904-28013-25-3a8f4227-a594-4396-a5ee-2d0212babb16.nc to /home/nicolasf/research/CPP/indices/data/ERA5/daily/ERA5_daily_geopotential_1000_2019-01-06.nc (192.2K)\n",
      "2020-06-14 13:54:46,511 INFO Download rate 104.2K/s\n"
     ]
    },
    {
     "name": "stdout",
     "output_type": "stream",
     "text": [
      "downloading /home/nicolasf/research/CPP/indices/data/ERA5/daily/ERA5_daily_geopotential_1000_2019-01-07.nc\n"
     ]
    },
    {
     "name": "stderr",
     "output_type": "stream",
     "text": [
      "2020-06-14 13:54:48,148 INFO Welcome to the CDS\n",
      "2020-06-14 13:54:48,148 INFO Sending request to https://cds.climate.copernicus.eu/api/v2/resources/reanalysis-era5-pressure-levels\n",
      "2020-06-14 13:54:49,432 INFO Request is queued\n",
      "2020-06-14 13:54:50,807 INFO Request is completed\n",
      "2020-06-14 13:54:50,809 INFO Downloading http://136.156.133.42/cache-compute-0014/cache/data8/adaptor.mars.internal-1592099689.6481886-24317-29-8859f04d-fbd4-4a81-82dc-cad0068e925a.nc to /home/nicolasf/research/CPP/indices/data/ERA5/daily/ERA5_daily_geopotential_1000_2019-01-07.nc (192.2K)\n",
      "2020-06-14 13:54:52,657 INFO Download rate 104.1K/s\n"
     ]
    },
    {
     "name": "stdout",
     "output_type": "stream",
     "text": [
      "downloading /home/nicolasf/research/CPP/indices/data/ERA5/daily/ERA5_daily_geopotential_1000_2019-01-08.nc\n"
     ]
    },
    {
     "name": "stderr",
     "output_type": "stream",
     "text": [
      "2020-06-14 13:54:54,291 INFO Welcome to the CDS\n",
      "2020-06-14 13:54:54,292 INFO Sending request to https://cds.climate.copernicus.eu/api/v2/resources/reanalysis-era5-pressure-levels\n",
      "2020-06-14 13:54:55,550 INFO Request is queued\n",
      "2020-06-14 13:54:56,848 INFO Request is completed\n",
      "2020-06-14 13:54:56,850 INFO Downloading http://136.156.132.210/cache-compute-0005/cache/data6/adaptor.mars.internal-1592099695.5460355-7204-30-2529d97f-e211-4cd6-859a-6b83fcb5ec28.nc to /home/nicolasf/research/CPP/indices/data/ERA5/daily/ERA5_daily_geopotential_1000_2019-01-08.nc (192.2K)\n",
      "2020-06-14 13:54:58,697 INFO Download rate 104.2K/s\n"
     ]
    },
    {
     "name": "stdout",
     "output_type": "stream",
     "text": [
      "downloading /home/nicolasf/research/CPP/indices/data/ERA5/daily/ERA5_daily_geopotential_1000_2019-01-09.nc\n"
     ]
    },
    {
     "name": "stderr",
     "output_type": "stream",
     "text": [
      "2020-06-14 13:55:00,436 INFO Welcome to the CDS\n",
      "2020-06-14 13:55:00,436 INFO Sending request to https://cds.climate.copernicus.eu/api/v2/resources/reanalysis-era5-pressure-levels\n",
      "2020-06-14 13:55:01,671 INFO Request is queued\n",
      "2020-06-14 13:55:02,992 INFO Request is running\n",
      "2020-06-14 13:55:04,836 INFO Request is completed\n",
      "2020-06-14 13:55:04,837 INFO Downloading http://136.156.132.210/cache-compute-0005/cache/data7/adaptor.mars.internal-1592099702.1342518-20819-12-a756e91b-e4a7-4d75-83ec-ca703ebd23be.nc to /home/nicolasf/research/CPP/indices/data/ERA5/daily/ERA5_daily_geopotential_1000_2019-01-09.nc (192.2K)\n",
      "2020-06-14 13:55:06,686 INFO Download rate 104.1K/s\n"
     ]
    },
    {
     "name": "stdout",
     "output_type": "stream",
     "text": [
      "downloading /home/nicolasf/research/CPP/indices/data/ERA5/daily/ERA5_daily_geopotential_1000_2019-01-10.nc\n"
     ]
    },
    {
     "name": "stderr",
     "output_type": "stream",
     "text": [
      "2020-06-14 13:55:08,320 INFO Welcome to the CDS\n",
      "2020-06-14 13:55:08,321 INFO Sending request to https://cds.climate.copernicus.eu/api/v2/resources/reanalysis-era5-pressure-levels\n",
      "2020-06-14 13:55:09,751 INFO Request is queued\n",
      "2020-06-14 13:55:11,082 INFO Request is completed\n",
      "2020-06-14 13:55:11,084 INFO Downloading http://136.156.132.201/cache-compute-0004/cache/data0/adaptor.mars.internal-1592099709.7741892-5091-7-be4f7eaf-50af-4cf1-b963-91f35e5a7287.nc to /home/nicolasf/research/CPP/indices/data/ERA5/daily/ERA5_daily_geopotential_1000_2019-01-10.nc (192.2K)\n",
      "2020-06-14 13:55:12,932 INFO Download rate 104.1K/s\n"
     ]
    },
    {
     "name": "stdout",
     "output_type": "stream",
     "text": [
      "downloading /home/nicolasf/research/CPP/indices/data/ERA5/daily/ERA5_daily_geopotential_1000_2019-01-11.nc\n"
     ]
    },
    {
     "name": "stderr",
     "output_type": "stream",
     "text": [
      "2020-06-14 13:55:14,978 INFO Welcome to the CDS\n",
      "2020-06-14 13:55:14,978 INFO Sending request to https://cds.climate.copernicus.eu/api/v2/resources/reanalysis-era5-pressure-levels\n",
      "2020-06-14 13:55:16,240 INFO Request is queued\n",
      "2020-06-14 13:55:17,533 INFO Request is completed\n",
      "2020-06-14 13:55:17,535 INFO Downloading http://136.156.133.36/cache-compute-0010/cache/data5/adaptor.mars.internal-1592099716.3567083-4824-20-585825a9-4987-4009-aae7-eed5f51ffbd5.nc to /home/nicolasf/research/CPP/indices/data/ERA5/daily/ERA5_daily_geopotential_1000_2019-01-11.nc (192.2K)\n",
      "2020-06-14 13:55:19,382 INFO Download rate 104.2K/s\n"
     ]
    },
    {
     "name": "stdout",
     "output_type": "stream",
     "text": [
      "downloading /home/nicolasf/research/CPP/indices/data/ERA5/daily/ERA5_daily_geopotential_1000_2019-01-12.nc\n"
     ]
    },
    {
     "name": "stderr",
     "output_type": "stream",
     "text": [
      "2020-06-14 13:55:21,019 INFO Welcome to the CDS\n",
      "2020-06-14 13:55:21,021 INFO Sending request to https://cds.climate.copernicus.eu/api/v2/resources/reanalysis-era5-pressure-levels\n",
      "2020-06-14 13:55:22,257 INFO Request is queued\n",
      "2020-06-14 13:55:23,575 INFO Request is completed\n",
      "2020-06-14 13:55:23,577 INFO Downloading http://136.156.132.210/cache-compute-0005/cache/data6/adaptor.mars.internal-1592099722.2064488-21220-9-34d2f7be-0106-4cfb-8c0a-04dc0e2c97cf.nc to /home/nicolasf/research/CPP/indices/data/ERA5/daily/ERA5_daily_geopotential_1000_2019-01-12.nc (192.2K)\n",
      "2020-06-14 13:55:25,424 INFO Download rate 104.2K/s\n"
     ]
    },
    {
     "name": "stdout",
     "output_type": "stream",
     "text": [
      "downloading /home/nicolasf/research/CPP/indices/data/ERA5/daily/ERA5_daily_geopotential_1000_2019-01-13.nc\n"
     ]
    },
    {
     "name": "stderr",
     "output_type": "stream",
     "text": [
      "2020-06-14 13:55:27,060 INFO Welcome to the CDS\n",
      "2020-06-14 13:55:27,061 INFO Sending request to https://cds.climate.copernicus.eu/api/v2/resources/reanalysis-era5-pressure-levels\n",
      "2020-06-14 13:55:28,592 INFO Request is queued\n",
      "2020-06-14 13:55:29,925 INFO Request is completed\n",
      "2020-06-14 13:55:29,927 INFO Downloading http://136.156.132.201/cache-compute-0004/cache/data4/adaptor.mars.internal-1592099728.4574451-28302-33-a0e3b9b2-93fe-4d76-86d8-53516027e7fb.nc to /home/nicolasf/research/CPP/indices/data/ERA5/daily/ERA5_daily_geopotential_1000_2019-01-13.nc (192.2K)\n",
      "2020-06-14 13:55:31,774 INFO Download rate 104.2K/s\n"
     ]
    },
    {
     "name": "stdout",
     "output_type": "stream",
     "text": [
      "downloading /home/nicolasf/research/CPP/indices/data/ERA5/daily/ERA5_daily_geopotential_1000_2019-01-14.nc\n"
     ]
    },
    {
     "name": "stderr",
     "output_type": "stream",
     "text": [
      "2020-06-14 13:55:33,410 INFO Welcome to the CDS\n",
      "2020-06-14 13:55:33,410 INFO Sending request to https://cds.climate.copernicus.eu/api/v2/resources/reanalysis-era5-pressure-levels\n",
      "2020-06-14 13:55:34,942 INFO Request is queued\n",
      "2020-06-14 13:55:36,274 INFO Request is completed\n",
      "2020-06-14 13:55:36,275 INFO Downloading http://136.156.132.236/cache-compute-0007/cache/data8/adaptor.mars.internal-1592099734.9964414-1389-11-990f1a7e-d902-4c2d-9543-c7773042b988.nc to /home/nicolasf/research/CPP/indices/data/ERA5/daily/ERA5_daily_geopotential_1000_2019-01-14.nc (192.2K)\n",
      "2020-06-14 13:55:38,122 INFO Download rate 104.2K/s\n"
     ]
    },
    {
     "name": "stdout",
     "output_type": "stream",
     "text": [
      "downloading /home/nicolasf/research/CPP/indices/data/ERA5/daily/ERA5_daily_geopotential_1000_2019-01-15.nc\n"
     ]
    },
    {
     "name": "stderr",
     "output_type": "stream",
     "text": [
      "2020-06-14 13:55:39,759 INFO Welcome to the CDS\n",
      "2020-06-14 13:55:39,759 INFO Sending request to https://cds.climate.copernicus.eu/api/v2/resources/reanalysis-era5-pressure-levels\n",
      "2020-06-14 13:55:41,290 INFO Request is queued\n",
      "2020-06-14 13:55:42,623 INFO Request is running\n",
      "2020-06-14 13:55:44,465 INFO Request is completed\n",
      "2020-06-14 13:55:44,467 INFO Downloading http://136.156.133.46/cache-compute-0015/cache/data4/adaptor.mars.internal-1592099741.4320467-30483-14-0705a232-8a9e-452e-9db8-03c293efa056.nc to /home/nicolasf/research/CPP/indices/data/ERA5/daily/ERA5_daily_geopotential_1000_2019-01-15.nc (192.2K)\n",
      "2020-06-14 13:55:46,314 INFO Download rate 104.2K/s\n"
     ]
    },
    {
     "name": "stdout",
     "output_type": "stream",
     "text": [
      "downloading /home/nicolasf/research/CPP/indices/data/ERA5/daily/ERA5_daily_geopotential_1000_2019-01-16.nc\n"
     ]
    },
    {
     "name": "stderr",
     "output_type": "stream",
     "text": [
      "2020-06-14 13:55:48,053 INFO Welcome to the CDS\n",
      "2020-06-14 13:55:48,054 INFO Sending request to https://cds.climate.copernicus.eu/api/v2/resources/reanalysis-era5-pressure-levels\n",
      "2020-06-14 13:55:49,689 INFO Request is queued\n",
      "2020-06-14 13:55:51,019 INFO Request is completed\n",
      "2020-06-14 13:55:51,021 INFO Downloading http://136.156.133.41/cache-compute-0013/cache/data0/adaptor.mars.internal-1592099749.6393738-31864-9-1417c459-45cb-4525-bb1e-41907a0d87d4.nc to /home/nicolasf/research/CPP/indices/data/ERA5/daily/ERA5_daily_geopotential_1000_2019-01-16.nc (192.2K)\n",
      "2020-06-14 13:55:52,868 INFO Download rate 104.1K/s\n"
     ]
    },
    {
     "name": "stdout",
     "output_type": "stream",
     "text": [
      "downloading /home/nicolasf/research/CPP/indices/data/ERA5/daily/ERA5_daily_geopotential_1000_2019-01-17.nc\n"
     ]
    },
    {
     "name": "stderr",
     "output_type": "stream",
     "text": [
      "2020-06-14 13:55:54,504 INFO Welcome to the CDS\n",
      "2020-06-14 13:55:54,504 INFO Sending request to https://cds.climate.copernicus.eu/api/v2/resources/reanalysis-era5-pressure-levels\n",
      "2020-06-14 13:55:55,934 INFO Request is queued\n",
      "2020-06-14 13:55:57,265 INFO Request is completed\n",
      "2020-06-14 13:55:57,267 INFO Downloading http://136.156.132.153/cache-compute-0002/cache/data6/adaptor.mars.internal-1592099755.7849255-10375-31-30d1546f-b296-4a02-9625-0f604611d950.nc to /home/nicolasf/research/CPP/indices/data/ERA5/daily/ERA5_daily_geopotential_1000_2019-01-17.nc (192.2K)\n",
      "2020-06-14 13:55:59,115 INFO Download rate 104.1K/s\n"
     ]
    },
    {
     "name": "stdout",
     "output_type": "stream",
     "text": [
      "downloading /home/nicolasf/research/CPP/indices/data/ERA5/daily/ERA5_daily_geopotential_1000_2019-01-18.nc\n"
     ]
    },
    {
     "name": "stderr",
     "output_type": "stream",
     "text": [
      "2020-06-14 13:56:00,752 INFO Welcome to the CDS\n",
      "2020-06-14 13:56:00,752 INFO Sending request to https://cds.climate.copernicus.eu/api/v2/resources/reanalysis-era5-pressure-levels\n",
      "2020-06-14 13:56:02,023 INFO Request is queued\n",
      "2020-06-14 13:56:03,409 INFO Request is completed\n",
      "2020-06-14 13:56:03,411 INFO Downloading http://136.156.133.25/cache-compute-0008/cache/data2/adaptor.mars.internal-1592099762.144144-6979-31-9fb703fd-1b67-4b19-983d-673dca89e295.nc to /home/nicolasf/research/CPP/indices/data/ERA5/daily/ERA5_daily_geopotential_1000_2019-01-18.nc (192.2K)\n",
      "2020-06-14 13:56:05,259 INFO Download rate 104.1K/s\n"
     ]
    },
    {
     "name": "stdout",
     "output_type": "stream",
     "text": [
      "downloading /home/nicolasf/research/CPP/indices/data/ERA5/daily/ERA5_daily_geopotential_1000_2019-01-19.nc\n"
     ]
    },
    {
     "name": "stderr",
     "output_type": "stream",
     "text": [
      "2020-06-14 13:56:07,203 INFO Welcome to the CDS\n",
      "2020-06-14 13:56:07,204 INFO Sending request to https://cds.climate.copernicus.eu/api/v2/resources/reanalysis-era5-pressure-levels\n",
      "2020-06-14 13:56:08,486 INFO Request is queued\n",
      "2020-06-14 13:56:09,861 INFO Request is running\n",
      "2020-06-14 13:56:11,704 INFO Request is completed\n",
      "2020-06-14 13:56:11,706 INFO Downloading http://136.156.132.110/cache-compute-0001/cache/data4/adaptor.mars.internal-1592099768.6075454-1981-14-54b45ab4-9d79-44d0-beaa-0476af9b7356.nc to /home/nicolasf/research/CPP/indices/data/ERA5/daily/ERA5_daily_geopotential_1000_2019-01-19.nc (192.2K)\n",
      "2020-06-14 13:56:13,556 INFO Download rate 104.1K/s\n"
     ]
    },
    {
     "name": "stdout",
     "output_type": "stream",
     "text": [
      "downloading /home/nicolasf/research/CPP/indices/data/ERA5/daily/ERA5_daily_geopotential_1000_2019-01-20.nc\n"
     ]
    },
    {
     "name": "stderr",
     "output_type": "stream",
     "text": [
      "2020-06-14 13:56:15,189 INFO Welcome to the CDS\n",
      "2020-06-14 13:56:15,189 INFO Sending request to https://cds.climate.copernicus.eu/api/v2/resources/reanalysis-era5-pressure-levels\n",
      "2020-06-14 13:56:16,473 INFO Request is queued\n",
      "2020-06-14 13:56:17,848 INFO Request is completed\n",
      "2020-06-14 13:56:17,850 INFO Downloading http://136.156.132.153/cache-compute-0002/cache/data0/adaptor.mars.internal-1592099776.573103-31850-16-71fd951c-34cb-41db-a4da-17048919f0f4.nc to /home/nicolasf/research/CPP/indices/data/ERA5/daily/ERA5_daily_geopotential_1000_2019-01-20.nc (192.2K)\n",
      "2020-06-14 13:56:19,697 INFO Download rate 104.2K/s\n"
     ]
    },
    {
     "name": "stdout",
     "output_type": "stream",
     "text": [
      "downloading /home/nicolasf/research/CPP/indices/data/ERA5/daily/ERA5_daily_geopotential_1000_2019-01-21.nc\n"
     ]
    },
    {
     "name": "stderr",
     "output_type": "stream",
     "text": [
      "2020-06-14 13:56:21,950 INFO Welcome to the CDS\n",
      "2020-06-14 13:56:21,951 INFO Sending request to https://cds.climate.copernicus.eu/api/v2/resources/reanalysis-era5-pressure-levels\n",
      "2020-06-14 13:56:23,192 INFO Request is queued\n",
      "2020-06-14 13:56:26,347 INFO Request is completed\n",
      "2020-06-14 13:56:26,349 INFO Downloading http://136.156.132.153/cache-compute-0002/cache/data5/adaptor.mars.internal-1592099785.0458748-781-9-9e746d5c-5f95-475a-b93f-de88d8aeb436.nc to /home/nicolasf/research/CPP/indices/data/ERA5/daily/ERA5_daily_geopotential_1000_2019-01-21.nc (192.2K)\n",
      "2020-06-14 13:56:28,196 INFO Download rate 104.2K/s\n"
     ]
    },
    {
     "name": "stdout",
     "output_type": "stream",
     "text": [
      "downloading /home/nicolasf/research/CPP/indices/data/ERA5/daily/ERA5_daily_geopotential_1000_2019-01-22.nc\n"
     ]
    },
    {
     "name": "stderr",
     "output_type": "stream",
     "text": [
      "2020-06-14 13:56:29,935 INFO Welcome to the CDS\n",
      "2020-06-14 13:56:29,935 INFO Sending request to https://cds.climate.copernicus.eu/api/v2/resources/reanalysis-era5-pressure-levels\n",
      "2020-06-14 13:56:33,004 INFO Request is queued\n",
      "2020-06-14 13:56:34,335 INFO Request is completed\n",
      "2020-06-14 13:56:34,337 INFO Downloading http://136.156.132.236/cache-compute-0007/cache/data6/adaptor.mars.internal-1592099792.9569418-1389-14-1e5fadcc-d819-4476-b44d-05378be6935a.nc to /home/nicolasf/research/CPP/indices/data/ERA5/daily/ERA5_daily_geopotential_1000_2019-01-22.nc (192.2K)\n",
      "2020-06-14 13:56:36,182 INFO Download rate 104.3K/s\n"
     ]
    },
    {
     "name": "stdout",
     "output_type": "stream",
     "text": [
      "downloading /home/nicolasf/research/CPP/indices/data/ERA5/daily/ERA5_daily_geopotential_1000_2019-01-23.nc\n"
     ]
    },
    {
     "name": "stderr",
     "output_type": "stream",
     "text": [
      "2020-06-14 13:56:41,507 INFO Welcome to the CDS\n",
      "2020-06-14 13:56:41,507 INFO Sending request to https://cds.climate.copernicus.eu/api/v2/resources/reanalysis-era5-pressure-levels\n",
      "2020-06-14 13:56:43,756 INFO Request is queued\n",
      "2020-06-14 13:56:45,087 INFO Request is running\n",
      "2020-06-14 13:56:46,930 INFO Request is completed\n",
      "2020-06-14 13:56:46,933 INFO Downloading http://136.156.133.46/cache-compute-0015/cache/data9/adaptor.mars.internal-1592099803.967312-31916-7-bd794579-4503-47d1-a800-075b78aa74dc.nc to /home/nicolasf/research/CPP/indices/data/ERA5/daily/ERA5_daily_geopotential_1000_2019-01-23.nc (192.2K)\n",
      "2020-06-14 13:56:48,780 INFO Download rate 104.1K/s\n"
     ]
    },
    {
     "name": "stdout",
     "output_type": "stream",
     "text": [
      "downloading /home/nicolasf/research/CPP/indices/data/ERA5/daily/ERA5_daily_geopotential_1000_2019-01-24.nc\n"
     ]
    },
    {
     "name": "stderr",
     "output_type": "stream",
     "text": [
      "2020-06-14 13:56:50,518 INFO Welcome to the CDS\n",
      "2020-06-14 13:56:50,518 INFO Sending request to https://cds.climate.copernicus.eu/api/v2/resources/reanalysis-era5-pressure-levels\n",
      "2020-06-14 13:56:52,357 INFO Request is queued\n",
      "2020-06-14 13:56:53,689 INFO Request is running\n",
      "2020-06-14 13:56:55,532 INFO Request is completed\n",
      "2020-06-14 13:56:55,534 INFO Downloading http://136.156.133.36/cache-compute-0010/cache/data6/adaptor.mars.internal-1592099812.5608485-28447-30-2fe8c58e-5943-469f-a096-1f6d97c3afb5.nc to /home/nicolasf/research/CPP/indices/data/ERA5/daily/ERA5_daily_geopotential_1000_2019-01-24.nc (192.2K)\n",
      "2020-06-14 13:56:57,380 INFO Download rate 104.2K/s\n"
     ]
    },
    {
     "name": "stdout",
     "output_type": "stream",
     "text": [
      "downloading /home/nicolasf/research/CPP/indices/data/ERA5/daily/ERA5_daily_geopotential_1000_2019-01-25.nc\n"
     ]
    },
    {
     "name": "stderr",
     "output_type": "stream",
     "text": [
      "2020-06-14 13:56:59,120 INFO Welcome to the CDS\n",
      "2020-06-14 13:56:59,120 INFO Sending request to https://cds.climate.copernicus.eu/api/v2/resources/reanalysis-era5-pressure-levels\n",
      "2020-06-14 13:57:00,514 INFO Request is queued\n",
      "2020-06-14 13:57:03,724 INFO Request is completed\n",
      "2020-06-14 13:57:03,726 INFO Downloading http://136.156.132.105/cache-compute-0000/cache/data5/adaptor.mars.internal-1592099822.1866505-19674-25-4b84520b-7a32-4cae-8db5-ff66920849ca.nc to /home/nicolasf/research/CPP/indices/data/ERA5/daily/ERA5_daily_geopotential_1000_2019-01-25.nc (192.2K)\n",
      "2020-06-14 13:57:05,574 INFO Download rate 104.1K/s\n"
     ]
    },
    {
     "name": "stdout",
     "output_type": "stream",
     "text": [
      "downloading /home/nicolasf/research/CPP/indices/data/ERA5/daily/ERA5_daily_geopotential_1000_2019-01-26.nc\n"
     ]
    },
    {
     "name": "stderr",
     "output_type": "stream",
     "text": [
      "2020-06-14 13:57:07,209 INFO Welcome to the CDS\n",
      "2020-06-14 13:57:07,209 INFO Sending request to https://cds.climate.copernicus.eu/api/v2/resources/reanalysis-era5-pressure-levels\n",
      "2020-06-14 13:57:09,561 INFO Request is queued\n",
      "2020-06-14 13:57:10,847 INFO Request is running\n",
      "2020-06-14 13:57:12,736 INFO Request is completed\n",
      "2020-06-14 13:57:12,737 INFO Downloading http://136.156.132.236/cache-compute-0007/cache/data3/adaptor.mars.internal-1592099829.621575-32589-22-05c3e01e-55ad-44c0-bc23-13bee767804f.nc to /home/nicolasf/research/CPP/indices/data/ERA5/daily/ERA5_daily_geopotential_1000_2019-01-26.nc (192.2K)\n",
      "2020-06-14 13:57:14,583 INFO Download rate 104.2K/s\n"
     ]
    },
    {
     "name": "stdout",
     "output_type": "stream",
     "text": [
      "downloading /home/nicolasf/research/CPP/indices/data/ERA5/daily/ERA5_daily_geopotential_1000_2019-01-27.nc\n"
     ]
    },
    {
     "name": "stderr",
     "output_type": "stream",
     "text": [
      "2020-06-14 13:57:16,220 INFO Welcome to the CDS\n",
      "2020-06-14 13:57:16,221 INFO Sending request to https://cds.climate.copernicus.eu/api/v2/resources/reanalysis-era5-pressure-levels\n",
      "2020-06-14 13:57:17,856 INFO Request is queued\n",
      "2020-06-14 13:57:19,141 INFO Request is running\n",
      "2020-06-14 13:57:21,030 INFO Request is completed\n",
      "2020-06-14 13:57:21,032 INFO Downloading http://136.156.132.153/cache-compute-0002/cache/data3/adaptor.mars.internal-1592099838.2122347-25710-31-718038c4-b302-4ff2-81b6-9bb310c67a04.nc to /home/nicolasf/research/CPP/indices/data/ERA5/daily/ERA5_daily_geopotential_1000_2019-01-27.nc (192.2K)\n",
      "2020-06-14 13:57:22,878 INFO Download rate 104.2K/s\n"
     ]
    },
    {
     "name": "stdout",
     "output_type": "stream",
     "text": [
      "downloading /home/nicolasf/research/CPP/indices/data/ERA5/daily/ERA5_daily_geopotential_1000_2019-01-28.nc\n"
     ]
    },
    {
     "name": "stderr",
     "output_type": "stream",
     "text": [
      "2020-06-14 13:57:24,515 INFO Welcome to the CDS\n",
      "2020-06-14 13:57:24,516 INFO Sending request to https://cds.climate.copernicus.eu/api/v2/resources/reanalysis-era5-pressure-levels\n",
      "2020-06-14 13:57:26,048 INFO Request is queued\n",
      "2020-06-14 13:57:27,379 INFO Request is completed\n",
      "2020-06-14 13:57:27,381 INFO Downloading http://136.156.132.153/cache-compute-0002/cache/data5/adaptor.mars.internal-1592099845.9935088-1148-9-79116055-c4f0-4157-98ce-27a4fef43390.nc to /home/nicolasf/research/CPP/indices/data/ERA5/daily/ERA5_daily_geopotential_1000_2019-01-28.nc (192.2K)\n",
      "2020-06-14 13:57:29,192 INFO Download rate 106.3K/s\n"
     ]
    },
    {
     "name": "stdout",
     "output_type": "stream",
     "text": [
      "downloading /home/nicolasf/research/CPP/indices/data/ERA5/daily/ERA5_daily_geopotential_1000_2019-01-29.nc\n"
     ]
    },
    {
     "name": "stderr",
     "output_type": "stream",
     "text": [
      "2020-06-14 13:57:31,070 INFO Welcome to the CDS\n",
      "2020-06-14 13:57:31,070 INFO Sending request to https://cds.climate.copernicus.eu/api/v2/resources/reanalysis-era5-pressure-levels\n",
      "2020-06-14 13:57:33,216 INFO Request is queued\n",
      "2020-06-14 13:57:34,547 INFO Request is running\n",
      "2020-06-14 13:57:36,390 INFO Request is completed\n",
      "2020-06-14 13:57:36,392 INFO Downloading http://136.156.133.41/cache-compute-0013/cache/data6/adaptor.mars.internal-1592099853.7303073-25297-30-991b515f-272b-4d7f-a97d-cd6a967e4349.nc to /home/nicolasf/research/CPP/indices/data/ERA5/daily/ERA5_daily_geopotential_1000_2019-01-29.nc (192.2K)\n",
      "2020-06-14 13:57:38,240 INFO Download rate 104.1K/s\n"
     ]
    },
    {
     "name": "stdout",
     "output_type": "stream",
     "text": [
      "downloading /home/nicolasf/research/CPP/indices/data/ERA5/daily/ERA5_daily_geopotential_1000_2019-01-30.nc\n"
     ]
    },
    {
     "name": "stderr",
     "output_type": "stream",
     "text": [
      "2020-06-14 13:57:39,979 INFO Welcome to the CDS\n",
      "2020-06-14 13:57:39,979 INFO Sending request to https://cds.climate.copernicus.eu/api/v2/resources/reanalysis-era5-pressure-levels\n",
      "2020-06-14 13:57:43,047 INFO Request is queued\n",
      "2020-06-14 13:57:44,378 INFO Request is running\n",
      "2020-06-14 13:57:46,220 INFO Request is completed\n",
      "2020-06-14 13:57:46,222 INFO Downloading http://136.156.133.41/cache-compute-0013/cache/data5/adaptor.mars.internal-1592099863.4363344-23589-36-69985e7a-423c-4878-b7c1-0b1717d73548.nc to /home/nicolasf/research/CPP/indices/data/ERA5/daily/ERA5_daily_geopotential_1000_2019-01-30.nc (192.2K)\n",
      "2020-06-14 13:57:48,069 INFO Download rate 104.2K/s\n"
     ]
    },
    {
     "name": "stdout",
     "output_type": "stream",
     "text": [
      "downloading /home/nicolasf/research/CPP/indices/data/ERA5/daily/ERA5_daily_geopotential_1000_2019-01-31.nc\n"
     ]
    },
    {
     "name": "stderr",
     "output_type": "stream",
     "text": [
      "2020-06-14 13:57:49,706 INFO Welcome to the CDS\n",
      "2020-06-14 13:57:49,706 INFO Sending request to https://cds.climate.copernicus.eu/api/v2/resources/reanalysis-era5-pressure-levels\n",
      "2020-06-14 13:57:51,238 INFO Request is queued\n",
      "2020-06-14 13:57:52,571 INFO Request is running\n",
      "2020-06-14 13:57:54,413 INFO Request is completed\n",
      "2020-06-14 13:57:54,415 INFO Downloading http://136.156.132.235/cache-compute-0006/cache/data4/adaptor.mars.internal-1592099871.462844-24874-5-834d92d2-d661-4b81-ba93-730e8d11f56d.nc to /home/nicolasf/research/CPP/indices/data/ERA5/daily/ERA5_daily_geopotential_1000_2019-01-31.nc (192.2K)\n",
      "2020-06-14 13:57:57,796 INFO Download rate 56.9K/s \n"
     ]
    },
    {
     "name": "stdout",
     "output_type": "stream",
     "text": [
      "downloading /home/nicolasf/research/CPP/indices/data/ERA5/daily/ERA5_daily_geopotential_1000_2019-02-01.nc\n"
     ]
    },
    {
     "name": "stderr",
     "output_type": "stream",
     "text": [
      "2020-06-14 13:58:01,176 INFO Welcome to the CDS\n",
      "2020-06-14 13:58:01,176 INFO Sending request to https://cds.climate.copernicus.eu/api/v2/resources/reanalysis-era5-pressure-levels\n",
      "2020-06-14 13:58:02,484 INFO Request is queued\n",
      "2020-06-14 13:58:03,834 INFO Request is completed\n",
      "2020-06-14 13:58:03,836 INFO Downloading http://136.156.133.41/cache-compute-0013/cache/data1/adaptor.mars.internal-1592099882.4498014-29432-27-8906cda2-af76-4e49-9bab-8c43aca2e0c3.nc to /home/nicolasf/research/CPP/indices/data/ERA5/daily/ERA5_daily_geopotential_1000_2019-02-01.nc (192.2K)\n",
      "2020-06-14 13:58:05,685 INFO Download rate 104K/s  \n"
     ]
    },
    {
     "name": "stdout",
     "output_type": "stream",
     "text": [
      "downloading /home/nicolasf/research/CPP/indices/data/ERA5/daily/ERA5_daily_geopotential_1000_2019-02-02.nc\n"
     ]
    },
    {
     "name": "stderr",
     "output_type": "stream",
     "text": [
      "2020-06-14 13:58:07,524 INFO Welcome to the CDS\n",
      "2020-06-14 13:58:07,524 INFO Sending request to https://cds.climate.copernicus.eu/api/v2/resources/reanalysis-era5-pressure-levels\n",
      "2020-06-14 13:58:09,056 INFO Request is queued\n",
      "2020-06-14 13:58:10,388 INFO Request is running\n",
      "2020-06-14 13:58:12,231 INFO Request is completed\n",
      "2020-06-14 13:58:12,233 INFO Downloading http://136.156.132.153/cache-compute-0002/cache/data8/adaptor.mars.internal-1592099889.1479237-27000-26-6d116594-64c7-4336-a18d-e1371f7be953.nc to /home/nicolasf/research/CPP/indices/data/ERA5/daily/ERA5_daily_geopotential_1000_2019-02-02.nc (192.2K)\n",
      "2020-06-14 13:58:14,087 INFO Download rate 103.8K/s\n"
     ]
    },
    {
     "name": "stdout",
     "output_type": "stream",
     "text": [
      "downloading /home/nicolasf/research/CPP/indices/data/ERA5/daily/ERA5_daily_geopotential_1000_2019-02-03.nc\n"
     ]
    },
    {
     "name": "stderr",
     "output_type": "stream",
     "text": [
      "2020-06-14 13:58:16,023 INFO Welcome to the CDS\n",
      "2020-06-14 13:58:16,024 INFO Sending request to https://cds.climate.copernicus.eu/api/v2/resources/reanalysis-era5-pressure-levels\n",
      "2020-06-14 13:58:17,555 INFO Request is queued\n",
      "2020-06-14 13:58:18,887 INFO Request is completed\n",
      "2020-06-14 13:58:18,889 INFO Downloading http://136.156.132.210/cache-compute-0005/cache/data4/adaptor.mars.internal-1592099897.543067-14527-33-950c59df-856d-453d-b30d-c9a33dd8e966.nc to /home/nicolasf/research/CPP/indices/data/ERA5/daily/ERA5_daily_geopotential_1000_2019-02-03.nc (192.2K)\n",
      "2020-06-14 13:58:20,737 INFO Download rate 104.1K/s\n"
     ]
    },
    {
     "name": "stdout",
     "output_type": "stream",
     "text": [
      "downloading /home/nicolasf/research/CPP/indices/data/ERA5/daily/ERA5_daily_geopotential_1000_2019-02-04.nc\n"
     ]
    },
    {
     "name": "stderr",
     "output_type": "stream",
     "text": [
      "2020-06-14 13:58:22,680 INFO Welcome to the CDS\n",
      "2020-06-14 13:58:22,681 INFO Sending request to https://cds.climate.copernicus.eu/api/v2/resources/reanalysis-era5-pressure-levels\n",
      "2020-06-14 13:58:24,519 INFO Request is queued\n",
      "2020-06-14 13:58:25,851 INFO Request is running\n",
      "2020-06-14 13:58:27,693 INFO Request is completed\n",
      "2020-06-14 13:58:27,695 INFO Downloading http://136.156.133.37/cache-compute-0011/cache/data7/adaptor.mars.internal-1592099904.9940567-25098-11-6e9c4aab-6c8c-4756-93ad-1a7f32973dd5.nc to /home/nicolasf/research/CPP/indices/data/ERA5/daily/ERA5_daily_geopotential_1000_2019-02-04.nc (192.2K)\n",
      "2020-06-14 13:58:29,541 INFO Download rate 104.2K/s\n"
     ]
    },
    {
     "name": "stdout",
     "output_type": "stream",
     "text": [
      "downloading /home/nicolasf/research/CPP/indices/data/ERA5/daily/ERA5_daily_geopotential_1000_2019-02-05.nc\n"
     ]
    },
    {
     "name": "stderr",
     "output_type": "stream",
     "text": [
      "2020-06-14 13:58:31,961 INFO Welcome to the CDS\n",
      "2020-06-14 13:58:31,962 INFO Sending request to https://cds.climate.copernicus.eu/api/v2/resources/reanalysis-era5-pressure-levels\n",
      "2020-06-14 13:58:33,633 INFO Request is queued\n",
      "2020-06-14 13:58:34,964 INFO Request is running\n",
      "2020-06-14 13:58:36,807 INFO Request is completed\n",
      "2020-06-14 13:58:36,809 INFO Downloading http://136.156.133.25/cache-compute-0008/cache/data3/adaptor.mars.internal-1592099913.5351684-10562-32-ca79c819-17e5-4ece-b91d-d1973e59185a.nc to /home/nicolasf/research/CPP/indices/data/ERA5/daily/ERA5_daily_geopotential_1000_2019-02-05.nc (192.2K)\n",
      "2020-06-14 13:58:38,656 INFO Download rate 104.2K/s\n"
     ]
    },
    {
     "name": "stdout",
     "output_type": "stream",
     "text": [
      "downloading /home/nicolasf/research/CPP/indices/data/ERA5/daily/ERA5_daily_geopotential_1000_2019-02-06.nc\n"
     ]
    },
    {
     "name": "stderr",
     "output_type": "stream",
     "text": [
      "2020-06-14 13:58:40,498 INFO Welcome to the CDS\n",
      "2020-06-14 13:58:40,498 INFO Sending request to https://cds.climate.copernicus.eu/api/v2/resources/reanalysis-era5-pressure-levels\n",
      "2020-06-14 13:58:42,337 INFO Request is queued\n",
      "2020-06-14 13:58:43,668 INFO Request is running\n",
      "2020-06-14 13:58:45,511 INFO Request is completed\n",
      "2020-06-14 13:58:45,513 INFO Downloading http://136.156.133.42/cache-compute-0014/cache/data4/adaptor.mars.internal-1592099922.4109087-2205-3-4f4123d6-34ee-44f1-aca2-dd9c8838b3a6.nc to /home/nicolasf/research/CPP/indices/data/ERA5/daily/ERA5_daily_geopotential_1000_2019-02-06.nc (192.2K)\n",
      "2020-06-14 13:58:47,358 INFO Download rate 104.3K/s\n"
     ]
    },
    {
     "name": "stdout",
     "output_type": "stream",
     "text": [
      "downloading /home/nicolasf/research/CPP/indices/data/ERA5/daily/ERA5_daily_geopotential_1000_2019-02-07.nc\n"
     ]
    },
    {
     "name": "stderr",
     "output_type": "stream",
     "text": [
      "2020-06-14 13:58:49,407 INFO Welcome to the CDS\n",
      "2020-06-14 13:58:49,407 INFO Sending request to https://cds.climate.copernicus.eu/api/v2/resources/reanalysis-era5-pressure-levels\n",
      "2020-06-14 13:58:51,143 INFO Request is queued\n",
      "2020-06-14 13:58:52,475 INFO Request is completed\n",
      "2020-06-14 13:58:52,477 INFO Downloading http://136.156.133.42/cache-compute-0014/cache/data4/adaptor.mars.internal-1592099931.3817797-2250-3-4636c3b4-0811-4e69-9271-d2c10ae96cc3.nc to /home/nicolasf/research/CPP/indices/data/ERA5/daily/ERA5_daily_geopotential_1000_2019-02-07.nc (192.2K)\n",
      "2020-06-14 13:58:54,323 INFO Download rate 104.2K/s\n"
     ]
    },
    {
     "name": "stdout",
     "output_type": "stream",
     "text": [
      "downloading /home/nicolasf/research/CPP/indices/data/ERA5/daily/ERA5_daily_geopotential_1000_2019-02-08.nc\n"
     ]
    },
    {
     "name": "stderr",
     "output_type": "stream",
     "text": [
      "2020-06-14 13:58:56,268 INFO Welcome to the CDS\n",
      "2020-06-14 13:58:56,268 INFO Sending request to https://cds.climate.copernicus.eu/api/v2/resources/reanalysis-era5-pressure-levels\n",
      "2020-06-14 13:58:57,902 INFO Request is queued\n",
      "2020-06-14 13:58:59,233 INFO Request is running\n",
      "2020-06-14 13:59:01,049 INFO Request is completed\n",
      "2020-06-14 13:59:01,051 INFO Downloading http://136.156.132.201/cache-compute-0004/cache/data7/adaptor.mars.internal-1592099938.070641-3727-22-61da569f-c7b7-47de-9011-7011f7ba7287.nc to /home/nicolasf/research/CPP/indices/data/ERA5/daily/ERA5_daily_geopotential_1000_2019-02-08.nc (192.2K)\n",
      "2020-06-14 13:59:02,926 INFO Download rate 102.6K/s\n"
     ]
    },
    {
     "name": "stdout",
     "output_type": "stream",
     "text": [
      "downloading /home/nicolasf/research/CPP/indices/data/ERA5/daily/ERA5_daily_geopotential_1000_2019-02-09.nc\n"
     ]
    },
    {
     "name": "stderr",
     "output_type": "stream",
     "text": [
      "2020-06-14 13:59:04,562 INFO Welcome to the CDS\n",
      "2020-06-14 13:59:04,562 INFO Sending request to https://cds.climate.copernicus.eu/api/v2/resources/reanalysis-era5-pressure-levels\n",
      "2020-06-14 13:59:06,094 INFO Request is queued\n",
      "2020-06-14 13:59:07,426 INFO Request is running\n",
      "2020-06-14 13:59:09,268 INFO Request is completed\n",
      "2020-06-14 13:59:09,270 INFO Downloading http://136.156.132.110/cache-compute-0001/cache/data9/adaptor.mars.internal-1592099946.2021708-5570-1-28513428-6e67-4d7d-be68-099b535a78cb.nc to /home/nicolasf/research/CPP/indices/data/ERA5/daily/ERA5_daily_geopotential_1000_2019-02-09.nc (192.2K)\n",
      "2020-06-14 13:59:11,118 INFO Download rate 104.1K/s\n"
     ]
    },
    {
     "name": "stdout",
     "output_type": "stream",
     "text": [
      "downloading /home/nicolasf/research/CPP/indices/data/ERA5/daily/ERA5_daily_geopotential_1000_2019-02-10.nc\n"
     ]
    },
    {
     "name": "stderr",
     "output_type": "stream",
     "text": [
      "2020-06-14 13:59:12,754 INFO Welcome to the CDS\n",
      "2020-06-14 13:59:12,754 INFO Sending request to https://cds.climate.copernicus.eu/api/v2/resources/reanalysis-era5-pressure-levels\n",
      "2020-06-14 13:59:14,024 INFO Request is queued\n",
      "2020-06-14 13:59:15,413 INFO Request is completed\n",
      "2020-06-14 13:59:15,415 INFO Downloading http://136.156.132.210/cache-compute-0005/cache/data0/adaptor.mars.internal-1592099954.0044646-22687-7-4571f5a6-87ac-43bb-8760-1c067ab79b4f.nc to /home/nicolasf/research/CPP/indices/data/ERA5/daily/ERA5_daily_geopotential_1000_2019-02-10.nc (192.2K)\n",
      "2020-06-14 13:59:17,257 INFO Download rate 104.4K/s\n"
     ]
    },
    {
     "name": "stdout",
     "output_type": "stream",
     "text": [
      "downloading /home/nicolasf/research/CPP/indices/data/ERA5/daily/ERA5_daily_geopotential_1000_2019-02-11.nc\n"
     ]
    },
    {
     "name": "stderr",
     "output_type": "stream",
     "text": [
      "2020-06-14 13:59:19,103 INFO Welcome to the CDS\n",
      "2020-06-14 13:59:19,104 INFO Sending request to https://cds.climate.copernicus.eu/api/v2/resources/reanalysis-era5-pressure-levels\n",
      "2020-06-14 13:59:21,356 INFO Request is queued\n",
      "2020-06-14 13:59:22,683 INFO Request is completed\n",
      "2020-06-14 13:59:22,685 INFO Downloading http://136.156.133.25/cache-compute-0008/cache/data3/adaptor.mars.internal-1592099961.0528302-15698-26-fff34b71-bec3-48a8-b08a-79ad28ae4a38.nc to /home/nicolasf/research/CPP/indices/data/ERA5/daily/ERA5_daily_geopotential_1000_2019-02-11.nc (192.2K)\n",
      "2020-06-14 13:59:24,531 INFO Download rate 104.2K/s\n"
     ]
    },
    {
     "name": "stdout",
     "output_type": "stream",
     "text": [
      "downloading /home/nicolasf/research/CPP/indices/data/ERA5/daily/ERA5_daily_geopotential_1000_2019-02-12.nc\n"
     ]
    },
    {
     "name": "stderr",
     "output_type": "stream",
     "text": [
      "2020-06-14 13:59:26,373 INFO Welcome to the CDS\n",
      "2020-06-14 13:59:26,374 INFO Sending request to https://cds.climate.copernicus.eu/api/v2/resources/reanalysis-era5-pressure-levels\n",
      "2020-06-14 13:59:27,684 INFO Request is queued\n",
      "2020-06-14 13:59:29,032 INFO Request is running\n",
      "2020-06-14 13:59:30,875 INFO Request is completed\n",
      "2020-06-14 13:59:30,878 INFO Downloading http://136.156.133.41/cache-compute-0013/cache/data7/adaptor.mars.internal-1592099967.9947004-458-11-d0192031-ec4c-4719-9c83-008d8dbc10de.nc to /home/nicolasf/research/CPP/indices/data/ERA5/daily/ERA5_daily_geopotential_1000_2019-02-12.nc (192.2K)\n",
      "2020-06-14 13:59:32,829 INFO Download rate 98.6K/s \n"
     ]
    },
    {
     "name": "stdout",
     "output_type": "stream",
     "text": [
      "downloading /home/nicolasf/research/CPP/indices/data/ERA5/daily/ERA5_daily_geopotential_1000_2019-02-13.nc\n"
     ]
    },
    {
     "name": "stderr",
     "output_type": "stream",
     "text": [
      "2020-06-14 13:59:34,463 INFO Welcome to the CDS\n",
      "2020-06-14 13:59:34,463 INFO Sending request to https://cds.climate.copernicus.eu/api/v2/resources/reanalysis-era5-pressure-levels\n",
      "2020-06-14 13:59:36,098 INFO Request is queued\n",
      "2020-06-14 13:59:37,429 INFO Request is completed\n",
      "2020-06-14 13:59:37,432 INFO Downloading http://136.156.132.210/cache-compute-0005/cache/data6/adaptor.mars.internal-1592099976.1289835-20257-22-3c28742c-5376-45f7-81e5-c4a2764ea367.nc to /home/nicolasf/research/CPP/indices/data/ERA5/daily/ERA5_daily_geopotential_1000_2019-02-13.nc (192.2K)\n",
      "2020-06-14 13:59:39,585 INFO Download rate 89.3K/s \n"
     ]
    },
    {
     "name": "stdout",
     "output_type": "stream",
     "text": [
      "downloading /home/nicolasf/research/CPP/indices/data/ERA5/daily/ERA5_daily_geopotential_1000_2019-02-14.nc\n"
     ]
    },
    {
     "name": "stderr",
     "output_type": "stream",
     "text": [
      "2020-06-14 13:59:41,324 INFO Welcome to the CDS\n",
      "2020-06-14 13:59:41,324 INFO Sending request to https://cds.climate.copernicus.eu/api/v2/resources/reanalysis-era5-pressure-levels\n",
      "2020-06-14 13:59:43,063 INFO Request is queued\n",
      "2020-06-14 13:59:44,392 INFO Request is running\n",
      "2020-06-14 13:59:46,236 INFO Request is completed\n",
      "2020-06-14 13:59:46,238 INFO Downloading http://136.156.133.39/cache-compute-0012/cache/data5/adaptor.mars.internal-1592099983.0343819-26130-18-ae441b4b-5d5b-4341-8626-68aa6d025fbe.nc to /home/nicolasf/research/CPP/indices/data/ERA5/daily/ERA5_daily_geopotential_1000_2019-02-14.nc (192.2K)\n",
      "2020-06-14 13:59:48,083 INFO Download rate 104.3K/s\n"
     ]
    },
    {
     "name": "stdout",
     "output_type": "stream",
     "text": [
      "downloading /home/nicolasf/research/CPP/indices/data/ERA5/daily/ERA5_daily_geopotential_1000_2019-02-15.nc\n"
     ]
    },
    {
     "name": "stderr",
     "output_type": "stream",
     "text": [
      "2020-06-14 13:59:49,721 INFO Welcome to the CDS\n",
      "2020-06-14 13:59:49,721 INFO Sending request to https://cds.climate.copernicus.eu/api/v2/resources/reanalysis-era5-pressure-levels\n",
      "2020-06-14 13:59:50,980 INFO Request is queued\n",
      "2020-06-14 13:59:52,277 INFO Request is completed\n",
      "2020-06-14 13:59:52,279 INFO Downloading http://136.156.133.41/cache-compute-0013/cache/data0/adaptor.mars.internal-1592099991.2150009-825-9-6e4caf2e-c0de-4e51-8fde-f3c476ccc777.nc to /home/nicolasf/research/CPP/indices/data/ERA5/daily/ERA5_daily_geopotential_1000_2019-02-15.nc (192.2K)\n",
      "2020-06-14 13:59:54,126 INFO Download rate 104.2K/s\n"
     ]
    },
    {
     "name": "stdout",
     "output_type": "stream",
     "text": [
      "downloading /home/nicolasf/research/CPP/indices/data/ERA5/daily/ERA5_daily_geopotential_1000_2019-02-16.nc\n"
     ]
    },
    {
     "name": "stderr",
     "output_type": "stream",
     "text": [
      "2020-06-14 13:59:56,172 INFO Welcome to the CDS\n",
      "2020-06-14 13:59:56,174 INFO Sending request to https://cds.climate.copernicus.eu/api/v2/resources/reanalysis-era5-pressure-levels\n",
      "2020-06-14 13:59:57,418 INFO Request is queued\n",
      "2020-06-14 13:59:58,729 INFO Request is completed\n",
      "2020-06-14 13:59:58,730 INFO Downloading http://136.156.132.236/cache-compute-0007/cache/data7/adaptor.mars.internal-1592099997.4820578-775-24-e09545b0-7179-48c6-80cf-d665df233752.nc to /home/nicolasf/research/CPP/indices/data/ERA5/daily/ERA5_daily_geopotential_1000_2019-02-16.nc (192.2K)\n",
      "2020-06-14 14:00:00,579 INFO Download rate 104.1K/s\n"
     ]
    },
    {
     "name": "stdout",
     "output_type": "stream",
     "text": [
      "downloading /home/nicolasf/research/CPP/indices/data/ERA5/daily/ERA5_daily_geopotential_1000_2019-02-17.nc\n"
     ]
    },
    {
     "name": "stderr",
     "output_type": "stream",
     "text": [
      "2020-06-14 14:00:02,419 INFO Welcome to the CDS\n",
      "2020-06-14 14:00:02,420 INFO Sending request to https://cds.climate.copernicus.eu/api/v2/resources/reanalysis-era5-pressure-levels\n",
      "2020-06-14 14:00:03,951 INFO Request is queued\n",
      "2020-06-14 14:00:05,282 INFO Request is running\n",
      "2020-06-14 14:00:07,126 INFO Request is completed\n",
      "2020-06-14 14:00:07,128 INFO Downloading http://136.156.133.42/cache-compute-0014/cache/data0/adaptor.mars.internal-1592100003.9359126-30911-24-ac374ffa-2e0a-4887-9b6e-396db93062cb.nc to /home/nicolasf/research/CPP/indices/data/ERA5/daily/ERA5_daily_geopotential_1000_2019-02-17.nc (192.2K)\n",
      "2020-06-14 14:00:08,972 INFO Download rate 104.3K/s\n"
     ]
    },
    {
     "name": "stdout",
     "output_type": "stream",
     "text": [
      "downloading /home/nicolasf/research/CPP/indices/data/ERA5/daily/ERA5_daily_geopotential_1000_2019-02-18.nc\n"
     ]
    },
    {
     "name": "stderr",
     "output_type": "stream",
     "text": [
      "2020-06-14 14:00:11,021 INFO Welcome to the CDS\n",
      "2020-06-14 14:00:11,021 INFO Sending request to https://cds.climate.copernicus.eu/api/v2/resources/reanalysis-era5-pressure-levels\n",
      "2020-06-14 14:00:12,338 INFO Request is queued\n",
      "2020-06-14 14:00:13,679 INFO Request is running\n",
      "2020-06-14 14:00:15,522 INFO Request is completed\n",
      "2020-06-14 14:00:15,524 INFO Downloading http://136.156.133.39/cache-compute-0012/cache/data0/adaptor.mars.internal-1592100012.5332694-27368-14-bd6aa168-d0d4-4b40-82fb-d7e7d84f00ec.nc to /home/nicolasf/research/CPP/indices/data/ERA5/daily/ERA5_daily_geopotential_1000_2019-02-18.nc (192.2K)\n",
      "2020-06-14 14:00:17,331 INFO Download rate 106.5K/s\n"
     ]
    },
    {
     "name": "stdout",
     "output_type": "stream",
     "text": [
      "downloading /home/nicolasf/research/CPP/indices/data/ERA5/daily/ERA5_daily_geopotential_1000_2019-02-19.nc\n"
     ]
    },
    {
     "name": "stderr",
     "output_type": "stream",
     "text": [
      "2020-06-14 14:00:18,906 INFO Welcome to the CDS\n",
      "2020-06-14 14:00:18,906 INFO Sending request to https://cds.climate.copernicus.eu/api/v2/resources/reanalysis-era5-pressure-levels\n",
      "2020-06-14 14:00:20,189 INFO Request is queued\n",
      "2020-06-14 14:00:21,563 INFO Request is running\n",
      "2020-06-14 14:00:23,409 INFO Request is completed\n",
      "2020-06-14 14:00:23,411 INFO Downloading http://136.156.133.42/cache-compute-0014/cache/data7/adaptor.mars.internal-1592100020.5627792-24488-36-2eb8c0bc-2f02-4c80-81a5-1694acff3814.nc to /home/nicolasf/research/CPP/indices/data/ERA5/daily/ERA5_daily_geopotential_1000_2019-02-19.nc (192.2K)\n",
      "2020-06-14 14:00:25,256 INFO Download rate 104.3K/s\n"
     ]
    },
    {
     "name": "stdout",
     "output_type": "stream",
     "text": [
      "downloading /home/nicolasf/research/CPP/indices/data/ERA5/daily/ERA5_daily_geopotential_1000_2019-02-20.nc\n"
     ]
    },
    {
     "name": "stderr",
     "output_type": "stream",
     "text": [
      "2020-06-14 14:00:30,477 INFO Welcome to the CDS\n",
      "2020-06-14 14:00:30,477 INFO Sending request to https://cds.climate.copernicus.eu/api/v2/resources/reanalysis-era5-pressure-levels\n",
      "2020-06-14 14:00:33,238 INFO Request is queued\n",
      "2020-06-14 14:00:34,569 INFO Request is running\n",
      "2020-06-14 14:00:36,412 INFO Request is completed\n",
      "2020-06-14 14:00:36,415 INFO Downloading http://136.156.133.46/cache-compute-0015/cache/data6/adaptor.mars.internal-1592100033.1585312-31192-20-4b0f7590-a877-4ec6-85e2-2e376c38af2a.nc to /home/nicolasf/research/CPP/indices/data/ERA5/daily/ERA5_daily_geopotential_1000_2019-02-20.nc (192.2K)\n",
      "2020-06-14 14:00:38,262 INFO Download rate 104.2K/s\n"
     ]
    },
    {
     "name": "stdout",
     "output_type": "stream",
     "text": [
      "downloading /home/nicolasf/research/CPP/indices/data/ERA5/daily/ERA5_daily_geopotential_1000_2019-02-21.nc\n"
     ]
    },
    {
     "name": "stderr",
     "output_type": "stream",
     "text": [
      "2020-06-14 14:00:39,863 INFO Welcome to the CDS\n",
      "2020-06-14 14:00:39,863 INFO Sending request to https://cds.climate.copernicus.eu/api/v2/resources/reanalysis-era5-pressure-levels\n",
      "2020-06-14 14:00:41,201 INFO Request is queued\n",
      "2020-06-14 14:00:42,518 INFO Request is running\n",
      "2020-06-14 14:00:44,400 INFO Request is completed\n",
      "2020-06-14 14:00:44,402 INFO Downloading http://136.156.132.153/cache-compute-0002/cache/data0/adaptor.mars.internal-1592100041.9764023-4300-3-8a01c14a-7f00-4ef0-a421-9d8b7c88050b.nc to /home/nicolasf/research/CPP/indices/data/ERA5/daily/ERA5_daily_geopotential_1000_2019-02-21.nc (192.2K)\n",
      "2020-06-14 14:00:46,251 INFO Download rate 104.1K/s\n"
     ]
    },
    {
     "name": "stdout",
     "output_type": "stream",
     "text": [
      "downloading /home/nicolasf/research/CPP/indices/data/ERA5/daily/ERA5_daily_geopotential_1000_2019-02-22.nc\n"
     ]
    },
    {
     "name": "stderr",
     "output_type": "stream",
     "text": [
      "2020-06-14 14:00:47,987 INFO Welcome to the CDS\n",
      "2020-06-14 14:00:47,988 INFO Sending request to https://cds.climate.copernicus.eu/api/v2/resources/reanalysis-era5-pressure-levels\n",
      "2020-06-14 14:00:49,521 INFO Request is queued\n",
      "2020-06-14 14:00:50,851 INFO Request is running\n",
      "2020-06-14 14:00:52,694 INFO Request is completed\n",
      "2020-06-14 14:00:52,696 INFO Downloading http://136.156.133.46/cache-compute-0015/cache/data2/adaptor.mars.internal-1592100049.7516828-30483-26-bcedcc85-a868-45ed-a4f4-15dc6a75bcba.nc to /home/nicolasf/research/CPP/indices/data/ERA5/daily/ERA5_daily_geopotential_1000_2019-02-22.nc (192.2K)\n",
      "2020-06-14 14:00:54,543 INFO Download rate 104.2K/s\n"
     ]
    },
    {
     "name": "stdout",
     "output_type": "stream",
     "text": [
      "downloading /home/nicolasf/research/CPP/indices/data/ERA5/daily/ERA5_daily_geopotential_1000_2019-02-23.nc\n"
     ]
    },
    {
     "name": "stderr",
     "output_type": "stream",
     "text": [
      "2020-06-14 14:00:56,282 INFO Welcome to the CDS\n",
      "2020-06-14 14:00:56,282 INFO Sending request to https://cds.climate.copernicus.eu/api/v2/resources/reanalysis-era5-pressure-levels\n",
      "2020-06-14 14:00:57,917 INFO Request is queued\n",
      "2020-06-14 14:00:59,248 INFO Request is running\n",
      "2020-06-14 14:01:01,091 INFO Request is completed\n",
      "2020-06-14 14:01:01,093 INFO Downloading http://136.156.133.36/cache-compute-0010/cache/data5/adaptor.mars.internal-1592100057.9420493-7161-20-2bd10c00-b13e-4dd8-9071-56459ccac1f2.nc to /home/nicolasf/research/CPP/indices/data/ERA5/daily/ERA5_daily_geopotential_1000_2019-02-23.nc (192.2K)\n",
      "2020-06-14 14:01:02,940 INFO Download rate 104.2K/s\n"
     ]
    },
    {
     "name": "stdout",
     "output_type": "stream",
     "text": [
      "downloading /home/nicolasf/research/CPP/indices/data/ERA5/daily/ERA5_daily_geopotential_1000_2019-02-24.nc\n"
     ]
    },
    {
     "name": "stderr",
     "output_type": "stream",
     "text": [
      "2020-06-14 14:01:04,577 INFO Welcome to the CDS\n",
      "2020-06-14 14:01:04,578 INFO Sending request to https://cds.climate.copernicus.eu/api/v2/resources/reanalysis-era5-pressure-levels\n",
      "2020-06-14 14:01:06,109 INFO Request is queued\n",
      "2020-06-14 14:01:07,440 INFO Request is completed\n",
      "2020-06-14 14:01:07,442 INFO Downloading http://136.156.133.46/cache-compute-0015/cache/data9/adaptor.mars.internal-1592100066.2381604-1514-7-4a1dc91c-7aed-457a-bcf1-31541e14af55.nc to /home/nicolasf/research/CPP/indices/data/ERA5/daily/ERA5_daily_geopotential_1000_2019-02-24.nc (192.2K)\n",
      "2020-06-14 14:01:09,291 INFO Download rate 104.1K/s\n"
     ]
    },
    {
     "name": "stdout",
     "output_type": "stream",
     "text": [
      "downloading /home/nicolasf/research/CPP/indices/data/ERA5/daily/ERA5_daily_geopotential_1000_2019-02-25.nc\n"
     ]
    },
    {
     "name": "stderr",
     "output_type": "stream",
     "text": [
      "2020-06-14 14:01:11,233 INFO Welcome to the CDS\n",
      "2020-06-14 14:01:11,233 INFO Sending request to https://cds.climate.copernicus.eu/api/v2/resources/reanalysis-era5-pressure-levels\n",
      "2020-06-14 14:01:12,662 INFO Request is queued\n",
      "2020-06-14 14:01:13,994 INFO Request is completed\n",
      "2020-06-14 14:01:13,997 INFO Downloading http://136.156.132.198/cache-compute-0003/cache/data3/adaptor.mars.internal-1592100072.6196253-12057-29-9db8342a-30b9-498d-b47b-a5cd4b1a84d5.nc to /home/nicolasf/research/CPP/indices/data/ERA5/daily/ERA5_daily_geopotential_1000_2019-02-25.nc (192.2K)\n",
      "2020-06-14 14:01:15,916 INFO Download rate 100.2K/s\n"
     ]
    },
    {
     "name": "stdout",
     "output_type": "stream",
     "text": [
      "downloading /home/nicolasf/research/CPP/indices/data/ERA5/daily/ERA5_daily_geopotential_1000_2019-02-26.nc\n"
     ]
    },
    {
     "name": "stderr",
     "output_type": "stream",
     "text": [
      "2020-06-14 14:01:17,582 INFO Welcome to the CDS\n",
      "2020-06-14 14:01:17,584 INFO Sending request to https://cds.climate.copernicus.eu/api/v2/resources/reanalysis-era5-pressure-levels\n",
      "2020-06-14 14:01:19,216 INFO Request is queued\n",
      "2020-06-14 14:01:20,498 INFO Request is completed\n",
      "2020-06-14 14:01:20,499 INFO Downloading http://136.156.132.110/cache-compute-0001/cache/data6/adaptor.mars.internal-1592100079.0739508-3359-20-aa921a0f-60c3-4b59-b4f4-3967dc942ddb.nc to /home/nicolasf/research/CPP/indices/data/ERA5/daily/ERA5_daily_geopotential_1000_2019-02-26.nc (192.2K)\n",
      "2020-06-14 14:01:22,397 INFO Download rate 101.3K/s\n"
     ]
    },
    {
     "name": "stdout",
     "output_type": "stream",
     "text": [
      "downloading /home/nicolasf/research/CPP/indices/data/ERA5/daily/ERA5_daily_geopotential_1000_2019-02-27.nc\n"
     ]
    },
    {
     "name": "stderr",
     "output_type": "stream",
     "text": [
      "2020-06-14 14:01:23,930 INFO Welcome to the CDS\n",
      "2020-06-14 14:01:23,931 INFO Sending request to https://cds.climate.copernicus.eu/api/v2/resources/reanalysis-era5-pressure-levels\n",
      "2020-06-14 14:01:25,463 INFO Request is queued\n",
      "2020-06-14 14:01:26,794 INFO Request is running\n",
      "2020-06-14 14:01:28,637 INFO Request is completed\n",
      "2020-06-14 14:01:28,639 INFO Downloading http://136.156.133.39/cache-compute-0012/cache/data5/adaptor.mars.internal-1592100085.8931599-27100-20-18acca23-c118-40dd-a83a-f5ce0786e0f2.nc to /home/nicolasf/research/CPP/indices/data/ERA5/daily/ERA5_daily_geopotential_1000_2019-02-27.nc (192.2K)\n",
      "2020-06-14 14:01:30,487 INFO Download rate 104.1K/s\n"
     ]
    },
    {
     "name": "stdout",
     "output_type": "stream",
     "text": [
      "downloading /home/nicolasf/research/CPP/indices/data/ERA5/daily/ERA5_daily_geopotential_1000_2019-02-28.nc\n"
     ]
    },
    {
     "name": "stderr",
     "output_type": "stream",
     "text": [
      "2020-06-14 14:01:32,532 INFO Welcome to the CDS\n",
      "2020-06-14 14:01:32,532 INFO Sending request to https://cds.climate.copernicus.eu/api/v2/resources/reanalysis-era5-pressure-levels\n",
      "2020-06-14 14:01:33,834 INFO Request is queued\n",
      "2020-06-14 14:01:35,191 INFO Request is running\n",
      "2020-06-14 14:01:37,035 INFO Request is completed\n",
      "2020-06-14 14:01:37,036 INFO Downloading http://136.156.132.235/cache-compute-0006/cache/data7/adaptor.mars.internal-1592100094.181255-22330-31-bc3629ee-8748-4b5b-8d73-c5c6bc896931.nc to /home/nicolasf/research/CPP/indices/data/ERA5/daily/ERA5_daily_geopotential_1000_2019-02-28.nc (192.2K)\n",
      "2020-06-14 14:01:40,416 INFO Download rate 56.9K/s \n"
     ]
    },
    {
     "name": "stdout",
     "output_type": "stream",
     "text": [
      "downloading /home/nicolasf/research/CPP/indices/data/ERA5/daily/ERA5_daily_geopotential_1000_2019-03-01.nc\n"
     ]
    },
    {
     "name": "stderr",
     "output_type": "stream",
     "text": [
      "2020-06-14 14:01:42,157 INFO Welcome to the CDS\n",
      "2020-06-14 14:01:42,158 INFO Sending request to https://cds.climate.copernicus.eu/api/v2/resources/reanalysis-era5-pressure-levels\n",
      "2020-06-14 14:01:43,589 INFO Request is queued\n",
      "2020-06-14 14:01:44,919 INFO Request is running\n",
      "2020-06-14 14:01:46,703 INFO Request is completed\n",
      "2020-06-14 14:01:46,705 INFO Downloading http://136.156.132.236/cache-compute-0007/cache/data9/adaptor.mars.internal-1592100103.5000753-6357-3-9bd9039f-0635-48a7-82ee-880a4cff928c.nc to /home/nicolasf/research/CPP/indices/data/ERA5/daily/ERA5_daily_geopotential_1000_2019-03-01.nc (192.2K)\n",
      "2020-06-14 14:01:48,611 INFO Download rate 101K/s  \n"
     ]
    },
    {
     "name": "stdout",
     "output_type": "stream",
     "text": [
      "downloading /home/nicolasf/research/CPP/indices/data/ERA5/daily/ERA5_daily_geopotential_1000_2019-03-02.nc\n"
     ]
    },
    {
     "name": "stderr",
     "output_type": "stream",
     "text": [
      "2020-06-14 14:01:51,886 INFO Welcome to the CDS\n",
      "2020-06-14 14:01:51,887 INFO Sending request to https://cds.climate.copernicus.eu/api/v2/resources/reanalysis-era5-pressure-levels\n",
      "2020-06-14 14:01:53,726 INFO Request is queued\n",
      "2020-06-14 14:01:55,011 INFO Request is running\n",
      "2020-06-14 14:01:56,901 INFO Request is completed\n",
      "2020-06-14 14:01:56,902 INFO Downloading http://136.156.133.41/cache-compute-0013/cache/data5/adaptor.mars.internal-1592100114.5096984-3837-5-ecad052f-2783-4eb0-b5f9-751f434417fc.nc to /home/nicolasf/research/CPP/indices/data/ERA5/daily/ERA5_daily_geopotential_1000_2019-03-02.nc (192.2K)\n",
      "2020-06-14 14:01:58,750 INFO Download rate 104.1K/s\n"
     ]
    },
    {
     "name": "stdout",
     "output_type": "stream",
     "text": [
      "downloading /home/nicolasf/research/CPP/indices/data/ERA5/daily/ERA5_daily_geopotential_1000_2019-03-03.nc\n"
     ]
    },
    {
     "name": "stderr",
     "output_type": "stream",
     "text": [
      "2020-06-14 14:02:00,965 INFO Welcome to the CDS\n",
      "2020-06-14 14:02:00,966 INFO Sending request to https://cds.climate.copernicus.eu/api/v2/resources/reanalysis-era5-pressure-levels\n",
      "2020-06-14 14:02:03,249 INFO Request is queued\n",
      "2020-06-14 14:02:04,580 INFO Request is running\n",
      "2020-06-14 14:02:06,424 INFO Request is completed\n",
      "2020-06-14 14:02:06,425 INFO Downloading http://136.156.132.153/cache-compute-0002/cache/data5/adaptor.mars.internal-1592100123.7121227-3973-9-03227799-8057-4e27-b12c-f54fd3258b5c.nc to /home/nicolasf/research/CPP/indices/data/ERA5/daily/ERA5_daily_geopotential_1000_2019-03-03.nc (192.2K)\n",
      "2020-06-14 14:02:08,272 INFO Download rate 104.2K/s\n"
     ]
    },
    {
     "name": "stdout",
     "output_type": "stream",
     "text": [
      "downloading /home/nicolasf/research/CPP/indices/data/ERA5/daily/ERA5_daily_geopotential_1000_2019-03-04.nc\n"
     ]
    },
    {
     "name": "stderr",
     "output_type": "stream",
     "text": [
      "2020-06-14 14:02:11,549 INFO Welcome to the CDS\n",
      "2020-06-14 14:02:11,550 INFO Sending request to https://cds.climate.copernicus.eu/api/v2/resources/reanalysis-era5-pressure-levels\n",
      "2020-06-14 14:02:13,079 INFO Request is queued\n",
      "2020-06-14 14:02:14,411 INFO Request is running\n",
      "2020-06-14 14:02:16,254 INFO Request is completed\n",
      "2020-06-14 14:02:16,256 INFO Downloading http://136.156.133.32/cache-compute-0009/cache/data9/adaptor.mars.internal-1592100133.07836-25341-33-e6ad6533-32a4-4371-9c4a-d98ac2cdf231.nc to /home/nicolasf/research/CPP/indices/data/ERA5/daily/ERA5_daily_geopotential_1000_2019-03-04.nc (192.2K)\n",
      "2020-06-14 14:02:18,105 INFO Download rate 104.1K/s\n"
     ]
    },
    {
     "name": "stdout",
     "output_type": "stream",
     "text": [
      "downloading /home/nicolasf/research/CPP/indices/data/ERA5/daily/ERA5_daily_geopotential_1000_2019-03-05.nc\n"
     ]
    },
    {
     "name": "stderr",
     "output_type": "stream",
     "text": [
      "2020-06-14 14:02:19,843 INFO Welcome to the CDS\n",
      "2020-06-14 14:02:19,844 INFO Sending request to https://cds.climate.copernicus.eu/api/v2/resources/reanalysis-era5-pressure-levels\n",
      "2020-06-14 14:02:22,603 INFO Request is queued\n",
      "2020-06-14 14:02:25,778 INFO Request is completed\n",
      "2020-06-14 14:02:25,780 INFO Downloading http://136.156.133.32/cache-compute-0009/cache/data6/adaptor.mars.internal-1592100143.8703032-18771-17-bc977496-4a71-4911-8ef6-43e7cdcad4f5.nc to /home/nicolasf/research/CPP/indices/data/ERA5/daily/ERA5_daily_geopotential_1000_2019-03-05.nc (192.2K)\n",
      "2020-06-14 14:02:27,626 INFO Download rate 104.2K/s\n"
     ]
    },
    {
     "name": "stdout",
     "output_type": "stream",
     "text": [
      "downloading /home/nicolasf/research/CPP/indices/data/ERA5/daily/ERA5_daily_geopotential_1000_2019-03-06.nc\n"
     ]
    },
    {
     "name": "stderr",
     "output_type": "stream",
     "text": [
      "2020-06-14 14:02:29,469 INFO Welcome to the CDS\n",
      "2020-06-14 14:02:29,469 INFO Sending request to https://cds.climate.copernicus.eu/api/v2/resources/reanalysis-era5-pressure-levels\n",
      "2020-06-14 14:02:30,764 INFO Request is queued\n",
      "2020-06-14 14:02:32,128 INFO Request is running\n",
      "2020-06-14 14:02:33,971 INFO Request is completed\n",
      "2020-06-14 14:02:33,972 INFO Downloading http://136.156.132.235/cache-compute-0006/cache/data7/adaptor.mars.internal-1592100151.2258728-23394-26-9a065772-0fa4-4b29-a3c2-4221ba6ad984.nc to /home/nicolasf/research/CPP/indices/data/ERA5/daily/ERA5_daily_geopotential_1000_2019-03-06.nc (192.2K)\n",
      "2020-06-14 14:02:37,354 INFO Download rate 56.9K/s \n"
     ]
    },
    {
     "name": "stdout",
     "output_type": "stream",
     "text": [
      "downloading /home/nicolasf/research/CPP/indices/data/ERA5/daily/ERA5_daily_geopotential_1000_2019-03-07.nc\n"
     ]
    },
    {
     "name": "stderr",
     "output_type": "stream",
     "text": [
      "2020-06-14 14:02:38,889 INFO Welcome to the CDS\n",
      "2020-06-14 14:02:38,890 INFO Sending request to https://cds.climate.copernicus.eu/api/v2/resources/reanalysis-era5-pressure-levels\n",
      "2020-06-14 14:02:40,525 INFO Request is queued\n",
      "2020-06-14 14:02:41,856 INFO Request is running\n",
      "2020-06-14 14:02:43,699 INFO Request is completed\n",
      "2020-06-14 14:02:43,701 INFO Downloading http://136.156.132.201/cache-compute-0004/cache/data9/adaptor.mars.internal-1592100161.0202434-7928-9-9d6e269b-0301-4ccf-a812-beb147f83dad.nc to /home/nicolasf/research/CPP/indices/data/ERA5/daily/ERA5_daily_geopotential_1000_2019-03-07.nc (192.2K)\n",
      "2020-06-14 14:02:45,548 INFO Download rate 104.2K/s\n"
     ]
    },
    {
     "name": "stdout",
     "output_type": "stream",
     "text": [
      "downloading /home/nicolasf/research/CPP/indices/data/ERA5/daily/ERA5_daily_geopotential_1000_2019-03-08.nc\n"
     ]
    },
    {
     "name": "stderr",
     "output_type": "stream",
     "text": [
      "2020-06-14 14:02:47,594 INFO Welcome to the CDS\n",
      "2020-06-14 14:02:47,594 INFO Sending request to https://cds.climate.copernicus.eu/api/v2/resources/reanalysis-era5-pressure-levels\n",
      "2020-06-14 14:02:50,867 INFO Request is queued\n",
      "2020-06-14 14:02:52,199 INFO Request is running\n",
      "2020-06-14 14:02:56,602 INFO Request is completed\n",
      "2020-06-14 14:02:56,604 INFO Downloading http://136.156.132.235/cache-compute-0006/cache/data5/adaptor.mars.internal-1592100172.0172665-22330-33-99a843f3-b3b1-42bb-a840-5a66ed4b6733.nc to /home/nicolasf/research/CPP/indices/data/ERA5/daily/ERA5_daily_geopotential_1000_2019-03-08.nc (192.2K)\n",
      "2020-06-14 14:02:59,986 INFO Download rate 56.9K/s \n"
     ]
    },
    {
     "name": "stdout",
     "output_type": "stream",
     "text": [
      "downloading /home/nicolasf/research/CPP/indices/data/ERA5/daily/ERA5_daily_geopotential_1000_2019-03-09.nc\n"
     ]
    },
    {
     "name": "stderr",
     "output_type": "stream",
     "text": [
      "2020-06-14 14:03:02,546 INFO Welcome to the CDS\n",
      "2020-06-14 14:03:02,547 INFO Sending request to https://cds.climate.copernicus.eu/api/v2/resources/reanalysis-era5-pressure-levels\n",
      "2020-06-14 14:03:04,691 INFO Request is queued\n",
      "2020-06-14 14:03:07,867 INFO Request is running\n",
      "2020-06-14 14:03:10,425 INFO Request is completed\n",
      "2020-06-14 14:03:10,426 INFO Downloading http://136.156.132.236/cache-compute-0007/cache/data6/adaptor.mars.internal-1592100186.0081596-4923-13-5816b08d-bd15-4cc7-a2de-f1c2aa5e5c23.nc to /home/nicolasf/research/CPP/indices/data/ERA5/daily/ERA5_daily_geopotential_1000_2019-03-09.nc (192.2K)\n",
      "2020-06-14 14:03:12,278 INFO Download rate 103.8K/s\n"
     ]
    },
    {
     "name": "stdout",
     "output_type": "stream",
     "text": [
      "downloading /home/nicolasf/research/CPP/indices/data/ERA5/daily/ERA5_daily_geopotential_1000_2019-03-10.nc\n"
     ]
    },
    {
     "name": "stderr",
     "output_type": "stream",
     "text": [
      "2020-06-14 14:03:14,834 INFO Welcome to the CDS\n",
      "2020-06-14 14:03:14,834 INFO Sending request to https://cds.climate.copernicus.eu/api/v2/resources/reanalysis-era5-pressure-levels\n",
      "2020-06-14 14:03:16,365 INFO Request is queued\n",
      "2020-06-14 14:03:17,698 INFO Request is running\n",
      "2020-06-14 14:03:22,101 INFO Request is completed\n",
      "2020-06-14 14:03:22,103 INFO Downloading http://136.156.132.153/cache-compute-0002/cache/data5/adaptor.mars.internal-1592100197.5403092-31831-33-453ef61b-a25b-46be-ab14-e62158e74be2.nc to /home/nicolasf/research/CPP/indices/data/ERA5/daily/ERA5_daily_geopotential_1000_2019-03-10.nc (192.2K)\n",
      "2020-06-14 14:03:23,950 INFO Download rate 104.1K/s\n"
     ]
    },
    {
     "name": "stdout",
     "output_type": "stream",
     "text": [
      "downloading /home/nicolasf/research/CPP/indices/data/ERA5/daily/ERA5_daily_geopotential_1000_2019-03-11.nc\n"
     ]
    },
    {
     "name": "stderr",
     "output_type": "stream",
     "text": [
      "2020-06-14 14:03:26,508 INFO Welcome to the CDS\n",
      "2020-06-14 14:03:26,509 INFO Sending request to https://cds.climate.copernicus.eu/api/v2/resources/reanalysis-era5-pressure-levels\n",
      "2020-06-14 14:03:28,145 INFO Request is queued\n",
      "2020-06-14 14:03:29,474 INFO Request is running\n",
      "2020-06-14 14:03:31,318 INFO Request is completed\n",
      "2020-06-14 14:03:31,320 INFO Downloading http://136.156.132.153/cache-compute-0002/cache/data6/adaptor.mars.internal-1592100208.4972122-1148-24-7cabb4d7-81ef-464d-8a96-0db084a8d6e6.nc to /home/nicolasf/research/CPP/indices/data/ERA5/daily/ERA5_daily_geopotential_1000_2019-03-11.nc (192.2K)\n",
      "2020-06-14 14:03:33,165 INFO Download rate 104.2K/s\n"
     ]
    },
    {
     "name": "stdout",
     "output_type": "stream",
     "text": [
      "downloading /home/nicolasf/research/CPP/indices/data/ERA5/daily/ERA5_daily_geopotential_1000_2019-03-12.nc\n"
     ]
    },
    {
     "name": "stderr",
     "output_type": "stream",
     "text": [
      "2020-06-14 14:03:36,340 INFO Welcome to the CDS\n",
      "2020-06-14 14:03:36,340 INFO Sending request to https://cds.climate.copernicus.eu/api/v2/resources/reanalysis-era5-pressure-levels\n",
      "2020-06-14 14:03:39,100 INFO Request is queued\n",
      "2020-06-14 14:03:40,432 INFO Request is running\n",
      "2020-06-14 14:03:44,835 INFO Request is completed\n",
      "2020-06-14 14:03:44,837 INFO Downloading http://136.156.132.210/cache-compute-0005/cache/data2/adaptor.mars.internal-1592100220.3673491-14521-20-b63d3164-c30b-4353-998c-1cdbb5b4a220.nc to /home/nicolasf/research/CPP/indices/data/ERA5/daily/ERA5_daily_geopotential_1000_2019-03-12.nc (192.2K)\n",
      "2020-06-14 14:03:46,685 INFO Download rate 104.1K/s\n"
     ]
    },
    {
     "name": "stdout",
     "output_type": "stream",
     "text": [
      "downloading /home/nicolasf/research/CPP/indices/data/ERA5/daily/ERA5_daily_geopotential_1000_2019-03-13.nc\n"
     ]
    },
    {
     "name": "stderr",
     "output_type": "stream",
     "text": [
      "2020-06-14 14:03:49,243 INFO Welcome to the CDS\n",
      "2020-06-14 14:03:49,244 INFO Sending request to https://cds.climate.copernicus.eu/api/v2/resources/reanalysis-era5-pressure-levels\n",
      "2020-06-14 14:03:52,927 INFO Request is queued\n",
      "2020-06-14 14:03:56,100 INFO Request is running\n",
      "2020-06-14 14:03:58,660 INFO Request is completed\n",
      "2020-06-14 14:03:58,662 INFO Downloading http://136.156.132.235/cache-compute-0006/cache/data3/adaptor.mars.internal-1592100234.4472146-23383-28-3bd318a1-f09d-4ff9-b090-7fddc156526a.nc to /home/nicolasf/research/CPP/indices/data/ERA5/daily/ERA5_daily_geopotential_1000_2019-03-13.nc (192.2K)\n",
      "2020-06-14 14:04:02,042 INFO Download rate 56.9K/s \n"
     ]
    },
    {
     "name": "stdout",
     "output_type": "stream",
     "text": [
      "downloading /home/nicolasf/research/CPP/indices/data/ERA5/daily/ERA5_daily_geopotential_1000_2019-03-14.nc\n"
     ]
    },
    {
     "name": "stderr",
     "output_type": "stream",
     "text": [
      "2020-06-14 14:04:04,603 INFO Welcome to the CDS\n",
      "2020-06-14 14:04:04,604 INFO Sending request to https://cds.climate.copernicus.eu/api/v2/resources/reanalysis-era5-pressure-levels\n",
      "2020-06-14 14:04:06,750 INFO Request is queued\n",
      "2020-06-14 14:04:09,925 INFO Request is running\n",
      "2020-06-14 14:04:12,485 INFO Request is completed\n",
      "2020-06-14 14:04:12,486 INFO Downloading http://136.156.133.37/cache-compute-0011/cache/data6/adaptor.mars.internal-1592100248.2442503-4730-5-23b6238c-4479-4c8a-967f-a6af1b208f63.nc to /home/nicolasf/research/CPP/indices/data/ERA5/daily/ERA5_daily_geopotential_1000_2019-03-14.nc (192.2K)\n",
      "2020-06-14 14:04:14,336 INFO Download rate 104.1K/s\n"
     ]
    },
    {
     "name": "stdout",
     "output_type": "stream",
     "text": [
      "downloading /home/nicolasf/research/CPP/indices/data/ERA5/daily/ERA5_daily_geopotential_1000_2019-03-15.nc\n"
     ]
    },
    {
     "name": "stderr",
     "output_type": "stream",
     "text": [
      "2020-06-14 14:04:16,175 INFO Welcome to the CDS\n",
      "2020-06-14 14:04:16,176 INFO Sending request to https://cds.climate.copernicus.eu/api/v2/resources/reanalysis-era5-pressure-levels\n",
      "2020-06-14 14:04:17,451 INFO Request is queued\n",
      "2020-06-14 14:04:18,834 INFO Request is running\n",
      "2020-06-14 14:04:23,238 INFO Request is completed\n",
      "2020-06-14 14:04:23,240 INFO Downloading http://136.156.133.42/cache-compute-0014/cache/data0/adaptor.mars.internal-1592100258.5506968-1219-20-29bf49b8-de8d-4766-afe4-a8ed9bf20630.nc to /home/nicolasf/research/CPP/indices/data/ERA5/daily/ERA5_daily_geopotential_1000_2019-03-15.nc (192.2K)\n",
      "2020-06-14 14:04:25,087 INFO Download rate 104.1K/s\n"
     ]
    },
    {
     "name": "stdout",
     "output_type": "stream",
     "text": [
      "downloading /home/nicolasf/research/CPP/indices/data/ERA5/daily/ERA5_daily_geopotential_1000_2019-03-16.nc\n"
     ]
    },
    {
     "name": "stderr",
     "output_type": "stream",
     "text": [
      "2020-06-14 14:04:27,337 INFO Welcome to the CDS\n",
      "2020-06-14 14:04:27,338 INFO Sending request to https://cds.climate.copernicus.eu/api/v2/resources/reanalysis-era5-pressure-levels\n",
      "2020-06-14 14:04:28,767 INFO Request is queued\n",
      "2020-06-14 14:04:30,098 INFO Request is running\n",
      "2020-06-14 14:04:31,880 INFO Request is completed\n",
      "2020-06-14 14:04:31,882 INFO Downloading http://136.156.133.42/cache-compute-0014/cache/data7/adaptor.mars.internal-1592100268.745227-30951-35-b1e3584c-8ddd-4c89-8db5-4a6cb83a33ac.nc to /home/nicolasf/research/CPP/indices/data/ERA5/daily/ERA5_daily_geopotential_1000_2019-03-16.nc (192.2K)\n",
      "2020-06-14 14:04:33,688 INFO Download rate 106.5K/s\n"
     ]
    },
    {
     "name": "stdout",
     "output_type": "stream",
     "text": [
      "downloading /home/nicolasf/research/CPP/indices/data/ERA5/daily/ERA5_daily_geopotential_1000_2019-03-17.nc\n"
     ]
    },
    {
     "name": "stderr",
     "output_type": "stream",
     "text": [
      "2020-06-14 14:04:35,735 INFO Welcome to the CDS\n",
      "2020-06-14 14:04:35,735 INFO Sending request to https://cds.climate.copernicus.eu/api/v2/resources/reanalysis-era5-pressure-levels\n",
      "2020-06-14 14:04:38,087 INFO Request is queued\n",
      "2020-06-14 14:04:39,417 INFO Request is running\n",
      "2020-06-14 14:04:43,821 INFO Request is completed\n",
      "2020-06-14 14:04:43,823 INFO Downloading http://136.156.132.201/cache-compute-0004/cache/data1/adaptor.mars.internal-1592100279.099652-5091-28-97397fc7-3388-49a8-9c32-6a6dcca66788.nc to /home/nicolasf/research/CPP/indices/data/ERA5/daily/ERA5_daily_geopotential_1000_2019-03-17.nc (192.2K)\n",
      "2020-06-14 14:04:45,670 INFO Download rate 104.2K/s\n"
     ]
    },
    {
     "name": "stdout",
     "output_type": "stream",
     "text": [
      "downloading /home/nicolasf/research/CPP/indices/data/ERA5/daily/ERA5_daily_geopotential_1000_2019-03-18.nc\n"
     ]
    },
    {
     "name": "stderr",
     "output_type": "stream",
     "text": [
      "2020-06-14 14:04:47,819 INFO Welcome to the CDS\n",
      "2020-06-14 14:04:47,820 INFO Sending request to https://cds.climate.copernicus.eu/api/v2/resources/reanalysis-era5-pressure-levels\n",
      "2020-06-14 14:04:50,068 INFO Request is queued\n",
      "2020-06-14 14:04:53,242 INFO Request is running\n",
      "2020-06-14 14:04:55,803 INFO Request is completed\n",
      "2020-06-14 14:04:55,804 INFO Downloading http://136.156.133.39/cache-compute-0012/cache/data1/adaptor.mars.internal-1592100292.237724-30426-5-d4d0ea5b-8d22-416c-8f02-50c579e22e1f.nc to /home/nicolasf/research/CPP/indices/data/ERA5/daily/ERA5_daily_geopotential_1000_2019-03-18.nc (192.2K)\n",
      "2020-06-14 14:04:57,652 INFO Download rate 104.1K/s\n"
     ]
    },
    {
     "name": "stdout",
     "output_type": "stream",
     "text": [
      "downloading /home/nicolasf/research/CPP/indices/data/ERA5/daily/ERA5_daily_geopotential_1000_2019-03-19.nc\n"
     ]
    },
    {
     "name": "stderr",
     "output_type": "stream",
     "text": [
      "2020-06-14 14:05:00,516 INFO Welcome to the CDS\n",
      "2020-06-14 14:05:00,517 INFO Sending request to https://cds.climate.copernicus.eu/api/v2/resources/reanalysis-era5-pressure-levels\n",
      "2020-06-14 14:05:02,662 INFO Request is queued\n",
      "2020-06-14 14:05:03,995 INFO Request is running\n",
      "2020-06-14 14:05:08,398 INFO Request is completed\n",
      "2020-06-14 14:05:08,400 INFO Downloading http://136.156.133.39/cache-compute-0012/cache/data2/adaptor.mars.internal-1592100303.6832206-25771-33-451f41cc-745b-498d-8964-4cd304559a41.nc to /home/nicolasf/research/CPP/indices/data/ERA5/daily/ERA5_daily_geopotential_1000_2019-03-19.nc (192.2K)\n",
      "2020-06-14 14:05:10,249 INFO Download rate 104.1K/s\n"
     ]
    },
    {
     "name": "stdout",
     "output_type": "stream",
     "text": [
      "downloading /home/nicolasf/research/CPP/indices/data/ERA5/daily/ERA5_daily_geopotential_1000_2019-03-20.nc\n"
     ]
    },
    {
     "name": "stderr",
     "output_type": "stream",
     "text": [
      "2020-06-14 14:05:12,600 INFO Welcome to the CDS\n",
      "2020-06-14 14:05:12,601 INFO Sending request to https://cds.climate.copernicus.eu/api/v2/resources/reanalysis-era5-pressure-levels\n",
      "2020-06-14 14:05:14,952 INFO Request is queued\n",
      "2020-06-14 14:05:16,283 INFO Request is running\n",
      "2020-06-14 14:05:18,127 INFO Request is completed\n",
      "2020-06-14 14:05:18,129 INFO Downloading http://136.156.132.105/cache-compute-0000/cache/data8/adaptor.mars.internal-1592100315.5612216-21551-31-cde98278-aa2d-41ee-82e6-84ed56e25676.nc to /home/nicolasf/research/CPP/indices/data/ERA5/daily/ERA5_daily_geopotential_1000_2019-03-20.nc (192.2K)\n",
      "2020-06-14 14:05:19,975 INFO Download rate 104.2K/s\n"
     ]
    },
    {
     "name": "stdout",
     "output_type": "stream",
     "text": [
      "downloading /home/nicolasf/research/CPP/indices/data/ERA5/daily/ERA5_daily_geopotential_1000_2019-03-21.nc\n"
     ]
    },
    {
     "name": "stderr",
     "output_type": "stream",
     "text": [
      "2020-06-14 14:05:22,399 INFO Welcome to the CDS\n",
      "2020-06-14 14:05:22,401 INFO Sending request to https://cds.climate.copernicus.eu/api/v2/resources/reanalysis-era5-pressure-levels\n",
      "2020-06-14 14:05:24,475 INFO Request is queued\n",
      "2020-06-14 14:05:27,650 INFO Request is completed\n",
      "2020-06-14 14:05:27,652 INFO Downloading http://136.156.132.201/cache-compute-0004/cache/data6/adaptor.mars.internal-1592100326.042416-3727-37-5b853e6a-e964-44ad-8503-26e363f2f60d.nc to /home/nicolasf/research/CPP/indices/data/ERA5/daily/ERA5_daily_geopotential_1000_2019-03-21.nc (192.2K)\n",
      "2020-06-14 14:05:29,500 INFO Download rate 104.1K/s\n"
     ]
    },
    {
     "name": "stdout",
     "output_type": "stream",
     "text": [
      "downloading /home/nicolasf/research/CPP/indices/data/ERA5/daily/ERA5_daily_geopotential_1000_2019-03-22.nc\n"
     ]
    },
    {
     "name": "stderr",
     "output_type": "stream",
     "text": [
      "2020-06-14 14:05:31,442 INFO Welcome to the CDS\n",
      "2020-06-14 14:05:31,443 INFO Sending request to https://cds.climate.copernicus.eu/api/v2/resources/reanalysis-era5-pressure-levels\n",
      "2020-06-14 14:05:33,385 INFO Request is queued\n",
      "2020-06-14 14:05:34,716 INFO Request is running\n",
      "2020-06-14 14:05:36,559 INFO Request is completed\n",
      "2020-06-14 14:05:36,561 INFO Downloading http://136.156.132.201/cache-compute-0004/cache/data1/adaptor.mars.internal-1592100333.8916085-7928-13-f3aa0a2b-fc23-46a6-9bcc-e83c19740c23.nc to /home/nicolasf/research/CPP/indices/data/ERA5/daily/ERA5_daily_geopotential_1000_2019-03-22.nc (192.2K)\n",
      "2020-06-14 14:05:38,407 INFO Download rate 104.3K/s\n"
     ]
    },
    {
     "name": "stdout",
     "output_type": "stream",
     "text": [
      "downloading /home/nicolasf/research/CPP/indices/data/ERA5/daily/ERA5_daily_geopotential_1000_2019-03-23.nc\n"
     ]
    },
    {
     "name": "stderr",
     "output_type": "stream",
     "text": [
      "2020-06-14 14:05:40,147 INFO Welcome to the CDS\n",
      "2020-06-14 14:05:40,148 INFO Sending request to https://cds.climate.copernicus.eu/api/v2/resources/reanalysis-era5-pressure-levels\n",
      "2020-06-14 14:05:42,294 INFO Request is queued\n",
      "2020-06-14 14:05:43,578 INFO Request is running\n",
      "2020-06-14 14:05:45,469 INFO Request is completed\n",
      "2020-06-14 14:05:45,471 INFO Downloading http://136.156.132.201/cache-compute-0004/cache/data7/adaptor.mars.internal-1592100343.2801642-7612-15-df40377e-581b-4535-8113-f78b7de84983.nc to /home/nicolasf/research/CPP/indices/data/ERA5/daily/ERA5_daily_geopotential_1000_2019-03-23.nc (192.2K)\n",
      "2020-06-14 14:05:47,318 INFO Download rate 104.1K/s\n"
     ]
    },
    {
     "name": "stdout",
     "output_type": "stream",
     "text": [
      "downloading /home/nicolasf/research/CPP/indices/data/ERA5/daily/ERA5_daily_geopotential_1000_2019-03-24.nc\n"
     ]
    },
    {
     "name": "stderr",
     "output_type": "stream",
     "text": [
      "2020-06-14 14:05:49,671 INFO Welcome to the CDS\n",
      "2020-06-14 14:05:49,672 INFO Sending request to https://cds.climate.copernicus.eu/api/v2/resources/reanalysis-era5-pressure-levels\n",
      "2020-06-14 14:05:53,355 INFO Request is queued\n",
      "2020-06-14 14:05:56,528 INFO Request is running\n",
      "2020-06-14 14:05:59,088 INFO Request is completed\n",
      "2020-06-14 14:05:59,090 INFO Downloading http://136.156.132.201/cache-compute-0004/cache/data7/adaptor.mars.internal-1592100355.1762788-5738-26-4de7b608-e23f-43fa-a4b4-c082cf023b1d.nc to /home/nicolasf/research/CPP/indices/data/ERA5/daily/ERA5_daily_geopotential_1000_2019-03-24.nc (192.2K)\n",
      "2020-06-14 14:06:00,936 INFO Download rate 104.2K/s\n"
     ]
    },
    {
     "name": "stdout",
     "output_type": "stream",
     "text": [
      "downloading /home/nicolasf/research/CPP/indices/data/ERA5/daily/ERA5_daily_geopotential_1000_2019-03-25.nc\n"
     ]
    },
    {
     "name": "stderr",
     "output_type": "stream",
     "text": [
      "2020-06-14 14:06:03,187 INFO Welcome to the CDS\n",
      "2020-06-14 14:06:03,188 INFO Sending request to https://cds.climate.copernicus.eu/api/v2/resources/reanalysis-era5-pressure-levels\n",
      "2020-06-14 14:06:05,338 INFO Request is queued\n",
      "2020-06-14 14:06:06,665 INFO Request is running\n",
      "2020-06-14 14:06:08,510 INFO Request is completed\n",
      "2020-06-14 14:06:08,512 INFO Downloading http://136.156.132.201/cache-compute-0004/cache/data1/adaptor.mars.internal-1592100365.8853717-6220-24-74d78f08-ac9f-434b-b758-463ec1252c59.nc to /home/nicolasf/research/CPP/indices/data/ERA5/daily/ERA5_daily_geopotential_1000_2019-03-25.nc (192.2K)\n",
      "2020-06-14 14:06:10,358 INFO Download rate 104.2K/s\n"
     ]
    },
    {
     "name": "stdout",
     "output_type": "stream",
     "text": [
      "downloading /home/nicolasf/research/CPP/indices/data/ERA5/daily/ERA5_daily_geopotential_1000_2019-03-26.nc\n"
     ]
    },
    {
     "name": "stderr",
     "output_type": "stream",
     "text": [
      "2020-06-14 14:06:12,303 INFO Welcome to the CDS\n",
      "2020-06-14 14:06:12,303 INFO Sending request to https://cds.climate.copernicus.eu/api/v2/resources/reanalysis-era5-pressure-levels\n",
      "2020-06-14 14:06:14,246 INFO Request is queued\n",
      "2020-06-14 14:06:15,575 INFO Request is running\n",
      "2020-06-14 14:06:17,419 INFO Request is completed\n",
      "2020-06-14 14:06:17,421 INFO Downloading http://136.156.133.36/cache-compute-0010/cache/data3/adaptor.mars.internal-1592100374.3555436-6278-35-16dc4f3f-0287-4392-b9d7-d4db06cab7b4.nc to /home/nicolasf/research/CPP/indices/data/ERA5/daily/ERA5_daily_geopotential_1000_2019-03-26.nc (192.2K)\n",
      "2020-06-14 14:06:19,269 INFO Download rate 104.2K/s\n"
     ]
    },
    {
     "name": "stdout",
     "output_type": "stream",
     "text": [
      "downloading /home/nicolasf/research/CPP/indices/data/ERA5/daily/ERA5_daily_geopotential_1000_2019-03-27.nc\n"
     ]
    },
    {
     "name": "stderr",
     "output_type": "stream",
     "text": [
      "2020-06-14 14:06:21,929 INFO Welcome to the CDS\n",
      "2020-06-14 14:06:21,929 INFO Sending request to https://cds.climate.copernicus.eu/api/v2/resources/reanalysis-era5-pressure-levels\n",
      "2020-06-14 14:06:23,358 INFO Request is queued\n",
      "2020-06-14 14:06:24,690 INFO Request is running\n",
      "2020-06-14 14:06:26,534 INFO Request is completed\n",
      "2020-06-14 14:06:26,535 INFO Downloading http://136.156.132.210/cache-compute-0005/cache/data4/adaptor.mars.internal-1592100383.9693496-21220-33-d072f8af-17f3-492e-ab84-7f0501c46b57.nc to /home/nicolasf/research/CPP/indices/data/ERA5/daily/ERA5_daily_geopotential_1000_2019-03-27.nc (192.2K)\n",
      "2020-06-14 14:06:28,382 INFO Download rate 104.2K/s\n"
     ]
    },
    {
     "name": "stdout",
     "output_type": "stream",
     "text": [
      "downloading /home/nicolasf/research/CPP/indices/data/ERA5/daily/ERA5_daily_geopotential_1000_2019-03-28.nc\n"
     ]
    },
    {
     "name": "stderr",
     "output_type": "stream",
     "text": [
      "2020-06-14 14:06:30,223 INFO Welcome to the CDS\n",
      "2020-06-14 14:06:30,224 INFO Sending request to https://cds.climate.copernicus.eu/api/v2/resources/reanalysis-era5-pressure-levels\n",
      "2020-06-14 14:06:34,828 INFO Request is queued\n",
      "2020-06-14 14:06:36,159 INFO Request is running\n",
      "2020-06-14 14:06:40,563 INFO Request is completed\n",
      "2020-06-14 14:06:40,564 INFO Downloading http://136.156.133.25/cache-compute-0008/cache/data9/adaptor.mars.internal-1592100396.6031582-20209-15-96152eb0-006d-4fda-916f-6085b9e9b92d.nc to /home/nicolasf/research/CPP/indices/data/ERA5/daily/ERA5_daily_geopotential_1000_2019-03-28.nc (192.2K)\n",
      "2020-06-14 14:06:42,413 INFO Download rate 104.1K/s\n"
     ]
    },
    {
     "name": "stdout",
     "output_type": "stream",
     "text": [
      "downloading /home/nicolasf/research/CPP/indices/data/ERA5/daily/ERA5_daily_geopotential_1000_2019-03-29.nc\n"
     ]
    },
    {
     "name": "stderr",
     "output_type": "stream",
     "text": [
      "2020-06-14 14:06:44,458 INFO Welcome to the CDS\n",
      "2020-06-14 14:06:44,458 INFO Sending request to https://cds.climate.copernicus.eu/api/v2/resources/reanalysis-era5-pressure-levels\n",
      "2020-06-14 14:06:47,116 INFO Request is queued\n",
      "2020-06-14 14:06:48,447 INFO Request is running\n",
      "2020-06-14 14:06:52,851 INFO Request is completed\n",
      "2020-06-14 14:06:52,853 INFO Downloading http://136.156.133.37/cache-compute-0011/cache/data7/adaptor.mars.internal-1592100408.2014422-4553-11-b43bfc40-75db-4aa8-a829-de7298b73263.nc to /home/nicolasf/research/CPP/indices/data/ERA5/daily/ERA5_daily_geopotential_1000_2019-03-29.nc (192.2K)\n",
      "2020-06-14 14:06:55,004 INFO Download rate 89.4K/s \n"
     ]
    },
    {
     "name": "stdout",
     "output_type": "stream",
     "text": [
      "downloading /home/nicolasf/research/CPP/indices/data/ERA5/daily/ERA5_daily_geopotential_1000_2019-03-30.nc\n"
     ]
    },
    {
     "name": "stderr",
     "output_type": "stream",
     "text": [
      "2020-06-14 14:06:58,488 INFO Welcome to the CDS\n",
      "2020-06-14 14:06:58,490 INFO Sending request to https://cds.climate.copernicus.eu/api/v2/resources/reanalysis-era5-pressure-levels\n",
      "2020-06-14 14:07:00,941 INFO Request is queued\n",
      "2020-06-14 14:07:04,115 INFO Request is running\n",
      "2020-06-14 14:07:06,676 INFO Request is completed\n",
      "2020-06-14 14:07:06,678 INFO Downloading http://136.156.133.25/cache-compute-0008/cache/data5/adaptor.mars.internal-1592100423.1097078-22963-1-0266d0cd-e8b4-4cab-8a4a-2ed1f54707cf.nc to /home/nicolasf/research/CPP/indices/data/ERA5/daily/ERA5_daily_geopotential_1000_2019-03-30.nc (192.2K)\n",
      "2020-06-14 14:07:08,523 INFO Download rate 104.3K/s\n"
     ]
    },
    {
     "name": "stdout",
     "output_type": "stream",
     "text": [
      "downloading /home/nicolasf/research/CPP/indices/data/ERA5/daily/ERA5_daily_geopotential_1000_2019-03-31.nc\n"
     ]
    },
    {
     "name": "stderr",
     "output_type": "stream",
     "text": [
      "2020-06-14 14:07:10,776 INFO Welcome to the CDS\n",
      "2020-06-14 14:07:10,778 INFO Sending request to https://cds.climate.copernicus.eu/api/v2/resources/reanalysis-era5-pressure-levels\n",
      "2020-06-14 14:07:12,928 INFO Request is queued\n",
      "2020-06-14 14:07:14,253 INFO Request is running\n",
      "2020-06-14 14:07:16,097 INFO Request is completed\n",
      "2020-06-14 14:07:16,099 INFO Downloading http://136.156.132.105/cache-compute-0000/cache/data8/adaptor.mars.internal-1592100433.7196066-22900-31-fb2d7db8-3f6b-4ca6-b470-b4c2e8e8b4a9.nc to /home/nicolasf/research/CPP/indices/data/ERA5/daily/ERA5_daily_geopotential_1000_2019-03-31.nc (192.2K)\n",
      "2020-06-14 14:07:17,945 INFO Download rate 104.2K/s\n"
     ]
    },
    {
     "name": "stdout",
     "output_type": "stream",
     "text": [
      "downloading /home/nicolasf/research/CPP/indices/data/ERA5/daily/ERA5_daily_geopotential_1000_2019-04-01.nc\n"
     ]
    },
    {
     "name": "stderr",
     "output_type": "stream",
     "text": [
      "2020-06-14 14:07:20,607 INFO Welcome to the CDS\n",
      "2020-06-14 14:07:20,608 INFO Sending request to https://cds.climate.copernicus.eu/api/v2/resources/reanalysis-era5-pressure-levels\n",
      "2020-06-14 14:07:24,002 INFO Request is queued\n",
      "2020-06-14 14:07:27,156 INFO Request is running\n",
      "2020-06-14 14:07:29,717 INFO Request is completed\n",
      "2020-06-14 14:07:29,719 INFO Downloading http://136.156.132.105/cache-compute-0000/cache/data2/adaptor.mars.internal-1592100446.0059059-25363-18-8ce1e175-8a00-4e3f-be30-ee2e357538b0.nc to /home/nicolasf/research/CPP/indices/data/ERA5/daily/ERA5_daily_geopotential_1000_2019-04-01.nc (192.2K)\n",
      "2020-06-14 14:07:31,531 INFO Download rate 106.2K/s\n"
     ]
    },
    {
     "name": "stdout",
     "output_type": "stream",
     "text": [
      "downloading /home/nicolasf/research/CPP/indices/data/ERA5/daily/ERA5_daily_geopotential_1000_2019-04-02.nc\n"
     ]
    },
    {
     "name": "stderr",
     "output_type": "stream",
     "text": [
      "2020-06-14 14:07:34,533 INFO Welcome to the CDS\n",
      "2020-06-14 14:07:34,534 INFO Sending request to https://cds.climate.copernicus.eu/api/v2/resources/reanalysis-era5-pressure-levels\n",
      "2020-06-14 14:07:37,193 INFO Request is queued\n",
      "2020-06-14 14:07:38,523 INFO Request is running\n",
      "2020-06-14 14:07:40,367 INFO Request is completed\n",
      "2020-06-14 14:07:40,368 INFO Downloading http://136.156.132.153/cache-compute-0002/cache/data6/adaptor.mars.internal-1592100458.1117818-5849-7-aad9e795-4a7e-4426-a38b-1cde46bc57b0.nc to /home/nicolasf/research/CPP/indices/data/ERA5/daily/ERA5_daily_geopotential_1000_2019-04-02.nc (192.2K)\n",
      "2020-06-14 14:07:42,215 INFO Download rate 104.2K/s\n"
     ]
    },
    {
     "name": "stdout",
     "output_type": "stream",
     "text": [
      "downloading /home/nicolasf/research/CPP/indices/data/ERA5/daily/ERA5_daily_geopotential_1000_2019-04-03.nc\n"
     ]
    },
    {
     "name": "stderr",
     "output_type": "stream",
     "text": [
      "2020-06-14 14:07:44,876 INFO Welcome to the CDS\n",
      "2020-06-14 14:07:44,876 INFO Sending request to https://cds.climate.copernicus.eu/api/v2/resources/reanalysis-era5-pressure-levels\n",
      "2020-06-14 14:07:47,023 INFO Request is queued\n",
      "2020-06-14 14:07:48,354 INFO Request is running\n",
      "2020-06-14 14:07:52,758 INFO Request is completed\n",
      "2020-06-14 14:07:52,760 INFO Downloading http://136.156.133.46/cache-compute-0015/cache/data3/adaptor.mars.internal-1592100468.1433437-31756-30-b7d6e3ec-ce3c-4755-8ea0-15fe28db45cf.nc to /home/nicolasf/research/CPP/indices/data/ERA5/daily/ERA5_daily_geopotential_1000_2019-04-03.nc (192.2K)\n",
      "2020-06-14 14:07:54,607 INFO Download rate 104.1K/s\n"
     ]
    },
    {
     "name": "stdout",
     "output_type": "stream",
     "text": [
      "downloading /home/nicolasf/research/CPP/indices/data/ERA5/daily/ERA5_daily_geopotential_1000_2019-04-04.nc\n"
     ]
    },
    {
     "name": "stderr",
     "output_type": "stream",
     "text": [
      "2020-06-14 14:07:56,243 INFO Welcome to the CDS\n",
      "2020-06-14 14:07:56,244 INFO Sending request to https://cds.climate.copernicus.eu/api/v2/resources/reanalysis-era5-pressure-levels\n",
      "2020-06-14 14:07:58,698 INFO Request is queued\n",
      "2020-06-14 14:08:00,028 INFO Request is running\n",
      "2020-06-14 14:08:01,871 INFO Request is completed\n",
      "2020-06-14 14:08:01,873 INFO Downloading http://136.156.133.39/cache-compute-0012/cache/data9/adaptor.mars.internal-1592100479.0819507-22268-24-f660a11f-d8bb-48fe-bc4d-2b26b7c5019d.nc to /home/nicolasf/research/CPP/indices/data/ERA5/daily/ERA5_daily_geopotential_1000_2019-04-04.nc (192.2K)\n",
      "2020-06-14 14:08:03,650 INFO Download rate 108.3K/s\n"
     ]
    },
    {
     "name": "stdout",
     "output_type": "stream",
     "text": [
      "downloading /home/nicolasf/research/CPP/indices/data/ERA5/daily/ERA5_daily_geopotential_1000_2019-04-05.nc\n"
     ]
    },
    {
     "name": "stderr",
     "output_type": "stream",
     "text": [
      "2020-06-14 14:08:06,074 INFO Welcome to the CDS\n",
      "2020-06-14 14:08:06,075 INFO Sending request to https://cds.climate.copernicus.eu/api/v2/resources/reanalysis-era5-pressure-levels\n",
      "2020-06-14 14:08:07,709 INFO Request is queued\n",
      "2020-06-14 14:08:09,040 INFO Request is running\n",
      "2020-06-14 14:08:10,883 INFO Request is completed\n",
      "2020-06-14 14:08:10,885 INFO Downloading http://136.156.133.32/cache-compute-0009/cache/data0/adaptor.mars.internal-1592100487.9548707-28309-22-1c4b93b3-3baa-4261-aebc-06665c1181fb.nc to /home/nicolasf/research/CPP/indices/data/ERA5/daily/ERA5_daily_geopotential_1000_2019-04-05.nc (192.2K)\n",
      "2020-06-14 14:08:12,696 INFO Download rate 106.2K/s\n"
     ]
    },
    {
     "name": "stdout",
     "output_type": "stream",
     "text": [
      "downloading /home/nicolasf/research/CPP/indices/data/ERA5/daily/ERA5_daily_geopotential_1000_2019-04-06.nc\n"
     ]
    },
    {
     "name": "stderr",
     "output_type": "stream",
     "text": [
      "2020-06-14 14:08:15,290 INFO Welcome to the CDS\n",
      "2020-06-14 14:08:15,290 INFO Sending request to https://cds.climate.copernicus.eu/api/v2/resources/reanalysis-era5-pressure-levels\n",
      "2020-06-14 14:08:16,603 INFO Request is queued\n",
      "2020-06-14 14:08:17,949 INFO Request is running\n",
      "2020-06-14 14:08:19,792 INFO Request is completed\n",
      "2020-06-14 14:08:19,795 INFO Downloading http://136.156.132.105/cache-compute-0000/cache/data4/adaptor.mars.internal-1592100497.3169136-26345-13-8c95d121-0dac-411e-8a64-aa62614b1c6f.nc to /home/nicolasf/research/CPP/indices/data/ERA5/daily/ERA5_daily_geopotential_1000_2019-04-06.nc (192.2K)\n",
      "2020-06-14 14:08:21,642 INFO Download rate 104.2K/s\n"
     ]
    },
    {
     "name": "stdout",
     "output_type": "stream",
     "text": [
      "downloading /home/nicolasf/research/CPP/indices/data/ERA5/daily/ERA5_daily_geopotential_1000_2019-04-07.nc\n"
     ]
    },
    {
     "name": "stderr",
     "output_type": "stream",
     "text": [
      "2020-06-14 14:08:23,483 INFO Welcome to the CDS\n",
      "2020-06-14 14:08:23,484 INFO Sending request to https://cds.climate.copernicus.eu/api/v2/resources/reanalysis-era5-pressure-levels\n",
      "2020-06-14 14:08:25,424 INFO Request is queued\n",
      "2020-06-14 14:08:28,599 INFO Request is completed\n",
      "2020-06-14 14:08:28,600 INFO Downloading http://136.156.132.198/cache-compute-0003/cache/data9/adaptor.mars.internal-1592100506.8481245-16887-11-d2069ab3-a8ab-49ed-8f79-c4f4aba0320f.nc to /home/nicolasf/research/CPP/indices/data/ERA5/daily/ERA5_daily_geopotential_1000_2019-04-07.nc (192.2K)\n",
      "2020-06-14 14:08:30,447 INFO Download rate 104.2K/s\n"
     ]
    },
    {
     "name": "stdout",
     "output_type": "stream",
     "text": [
      "downloading /home/nicolasf/research/CPP/indices/data/ERA5/daily/ERA5_daily_geopotential_1000_2019-04-08.nc\n"
     ]
    },
    {
     "name": "stderr",
     "output_type": "stream",
     "text": [
      "2020-06-14 14:08:31,952 INFO Welcome to the CDS\n",
      "2020-06-14 14:08:31,953 INFO Sending request to https://cds.climate.copernicus.eu/api/v2/resources/reanalysis-era5-pressure-levels\n",
      "2020-06-14 14:08:33,617 INFO Request is queued\n",
      "2020-06-14 14:08:34,948 INFO Request is running\n",
      "2020-06-14 14:08:39,352 INFO Request is completed\n",
      "2020-06-14 14:08:39,354 INFO Downloading http://136.156.133.41/cache-compute-0013/cache/data8/adaptor.mars.internal-1592100514.6823444-5110-7-892dcf4e-e067-400a-abf0-6bfab41c4b4d.nc to /home/nicolasf/research/CPP/indices/data/ERA5/daily/ERA5_daily_geopotential_1000_2019-04-08.nc (192.2K)\n",
      "2020-06-14 14:08:41,201 INFO Download rate 104.2K/s\n"
     ]
    },
    {
     "name": "stdout",
     "output_type": "stream",
     "text": [
      "downloading /home/nicolasf/research/CPP/indices/data/ERA5/daily/ERA5_daily_geopotential_1000_2019-04-09.nc\n"
     ]
    },
    {
     "name": "stderr",
     "output_type": "stream",
     "text": [
      "2020-06-14 14:08:43,042 INFO Welcome to the CDS\n",
      "2020-06-14 14:08:43,043 INFO Sending request to https://cds.climate.copernicus.eu/api/v2/resources/reanalysis-era5-pressure-levels\n",
      "2020-06-14 14:08:45,086 INFO Request is queued\n",
      "2020-06-14 14:08:46,418 INFO Request is running\n",
      "2020-06-14 14:08:50,821 INFO Request is completed\n",
      "2020-06-14 14:08:50,822 INFO Downloading http://136.156.133.42/cache-compute-0014/cache/data4/adaptor.mars.internal-1592100525.8220582-6383-3-6775818e-3b76-48ce-953e-4e1127c5aaee.nc to /home/nicolasf/research/CPP/indices/data/ERA5/daily/ERA5_daily_geopotential_1000_2019-04-09.nc (192.2K)\n",
      "2020-06-14 14:08:52,670 INFO Download rate 104.1K/s\n"
     ]
    },
    {
     "name": "stdout",
     "output_type": "stream",
     "text": [
      "downloading /home/nicolasf/research/CPP/indices/data/ERA5/daily/ERA5_daily_geopotential_1000_2019-04-10.nc\n"
     ]
    },
    {
     "name": "stderr",
     "output_type": "stream",
     "text": [
      "2020-06-14 14:08:57,072 INFO Welcome to the CDS\n",
      "2020-06-14 14:08:57,072 INFO Sending request to https://cds.climate.copernicus.eu/api/v2/resources/reanalysis-era5-pressure-levels\n",
      "2020-06-14 14:08:59,525 INFO Request is queued\n",
      "2020-06-14 14:09:00,856 INFO Request is running\n",
      "2020-06-14 14:09:02,699 INFO Request is completed\n",
      "2020-06-14 14:09:02,701 INFO Downloading http://136.156.132.110/cache-compute-0001/cache/data4/adaptor.mars.internal-1592100540.53399-6788-13-b46a9106-c332-4400-aa82-b94660b6311c.nc to /home/nicolasf/research/CPP/indices/data/ERA5/daily/ERA5_daily_geopotential_1000_2019-04-10.nc (192.2K)\n",
      "2020-06-14 14:09:04,552 INFO Download rate 103.9K/s\n"
     ]
    },
    {
     "name": "stdout",
     "output_type": "stream",
     "text": [
      "downloading /home/nicolasf/research/CPP/indices/data/ERA5/daily/ERA5_daily_geopotential_1000_2019-04-11.nc\n"
     ]
    },
    {
     "name": "stderr",
     "output_type": "stream",
     "text": [
      "2020-06-14 14:09:06,697 INFO Welcome to the CDS\n",
      "2020-06-14 14:09:06,697 INFO Sending request to https://cds.climate.copernicus.eu/api/v2/resources/reanalysis-era5-pressure-levels\n",
      "2020-06-14 14:09:08,742 INFO Request is queued\n",
      "2020-06-14 14:09:10,073 INFO Request is running\n",
      "2020-06-14 14:09:11,916 INFO Request is completed\n",
      "2020-06-14 14:09:11,918 INFO Downloading http://136.156.133.41/cache-compute-0013/cache/data6/adaptor.mars.internal-1592100549.5119507-427-31-35e4f31b-04a5-4bea-9623-8e0bdda4a551.nc to /home/nicolasf/research/CPP/indices/data/ERA5/daily/ERA5_daily_geopotential_1000_2019-04-11.nc (192.2K)\n",
      "2020-06-14 14:09:13,768 INFO Download rate 104K/s  \n"
     ]
    },
    {
     "name": "stdout",
     "output_type": "stream",
     "text": [
      "downloading /home/nicolasf/research/CPP/indices/data/ERA5/daily/ERA5_daily_geopotential_1000_2019-04-12.nc\n"
     ]
    },
    {
     "name": "stderr",
     "output_type": "stream",
     "text": [
      "2020-06-14 14:09:15,606 INFO Welcome to the CDS\n",
      "2020-06-14 14:09:15,607 INFO Sending request to https://cds.climate.copernicus.eu/api/v2/resources/reanalysis-era5-pressure-levels\n",
      "2020-06-14 14:09:17,651 INFO Request is queued\n",
      "2020-06-14 14:09:18,982 INFO Request is running\n",
      "2020-06-14 14:09:20,825 INFO Request is completed\n",
      "2020-06-14 14:09:20,827 INFO Downloading http://136.156.132.198/cache-compute-0003/cache/data3/adaptor.mars.internal-1592100557.6749458-9168-15-76db3208-929b-47b3-bbc4-0105fdcd75b1.nc to /home/nicolasf/research/CPP/indices/data/ERA5/daily/ERA5_daily_geopotential_1000_2019-04-12.nc (192.2K)\n",
      "2020-06-14 14:09:22,673 INFO Download rate 104.2K/s\n"
     ]
    },
    {
     "name": "stdout",
     "output_type": "stream",
     "text": [
      "downloading /home/nicolasf/research/CPP/indices/data/ERA5/daily/ERA5_daily_geopotential_1000_2019-04-13.nc\n"
     ]
    },
    {
     "name": "stderr",
     "output_type": "stream",
     "text": [
      "2020-06-14 14:09:27,382 INFO Welcome to the CDS\n",
      "2020-06-14 14:09:27,383 INFO Sending request to https://cds.climate.copernicus.eu/api/v2/resources/reanalysis-era5-pressure-levels\n",
      "2020-06-14 14:09:28,704 INFO Request is queued\n",
      "2020-06-14 14:09:30,042 INFO Request is running\n",
      "2020-06-14 14:09:31,885 INFO Request is completed\n",
      "2020-06-14 14:09:31,887 INFO Downloading http://136.156.133.25/cache-compute-0008/cache/data1/adaptor.mars.internal-1592100569.6352088-20209-20-581e974e-6ad3-493c-bcf7-ae8140d85f7a.nc to /home/nicolasf/research/CPP/indices/data/ERA5/daily/ERA5_daily_geopotential_1000_2019-04-13.nc (192.2K)\n",
      "2020-06-14 14:09:33,732 INFO Download rate 104.3K/s\n"
     ]
    },
    {
     "name": "stdout",
     "output_type": "stream",
     "text": [
      "downloading /home/nicolasf/research/CPP/indices/data/ERA5/daily/ERA5_daily_geopotential_1000_2019-04-14.nc\n"
     ]
    },
    {
     "name": "stderr",
     "output_type": "stream",
     "text": [
      "2020-06-14 14:09:35,472 INFO Welcome to the CDS\n",
      "2020-06-14 14:09:35,473 INFO Sending request to https://cds.climate.copernicus.eu/api/v2/resources/reanalysis-era5-pressure-levels\n",
      "2020-06-14 14:09:37,620 INFO Request is queued\n",
      "2020-06-14 14:09:38,907 INFO Request is running\n",
      "2020-06-14 14:09:40,794 INFO Request is completed\n",
      "2020-06-14 14:09:40,796 INFO Downloading http://136.156.132.210/cache-compute-0005/cache/data6/adaptor.mars.internal-1592100578.3345597-19544-32-9d72dedf-fd03-4802-ad52-a87f8effb291.nc to /home/nicolasf/research/CPP/indices/data/ERA5/daily/ERA5_daily_geopotential_1000_2019-04-14.nc (192.2K)\n",
      "2020-06-14 14:09:42,644 INFO Download rate 104.2K/s\n"
     ]
    },
    {
     "name": "stdout",
     "output_type": "stream",
     "text": [
      "downloading /home/nicolasf/research/CPP/indices/data/ERA5/daily/ERA5_daily_geopotential_1000_2019-04-15.nc\n"
     ]
    },
    {
     "name": "stderr",
     "output_type": "stream",
     "text": [
      "2020-06-14 14:09:44,484 INFO Welcome to the CDS\n",
      "2020-06-14 14:09:44,484 INFO Sending request to https://cds.climate.copernicus.eu/api/v2/resources/reanalysis-era5-pressure-levels\n",
      "2020-06-14 14:09:46,528 INFO Request is queued\n",
      "2020-06-14 14:09:48,037 INFO Request is running\n",
      "2020-06-14 14:09:49,908 INFO Request is completed\n",
      "2020-06-14 14:09:49,910 INFO Downloading http://136.156.132.235/cache-compute-0006/cache/data3/adaptor.mars.internal-1592100587.1697803-24874-27-9fafd4fc-689a-4f0d-83b5-63bf60d97b0f.nc to /home/nicolasf/research/CPP/indices/data/ERA5/daily/ERA5_daily_geopotential_1000_2019-04-15.nc (192.2K)\n",
      "2020-06-14 14:09:53,291 INFO Download rate 56.9K/s \n"
     ]
    },
    {
     "name": "stdout",
     "output_type": "stream",
     "text": [
      "downloading /home/nicolasf/research/CPP/indices/data/ERA5/daily/ERA5_daily_geopotential_1000_2019-04-16.nc\n"
     ]
    },
    {
     "name": "stderr",
     "output_type": "stream",
     "text": [
      "2020-06-14 14:09:55,237 INFO Welcome to the CDS\n",
      "2020-06-14 14:09:55,237 INFO Sending request to https://cds.climate.copernicus.eu/api/v2/resources/reanalysis-era5-pressure-levels\n",
      "2020-06-14 14:09:56,605 INFO Request is queued\n",
      "2020-06-14 14:09:57,998 INFO Request is running\n",
      "2020-06-14 14:09:59,841 INFO Request is completed\n",
      "2020-06-14 14:09:59,843 INFO Downloading http://136.156.132.198/cache-compute-0003/cache/data0/adaptor.mars.internal-1592100597.1374137-13914-33-3d820be5-2262-4e3f-a05d-fa14cfb436ef.nc to /home/nicolasf/research/CPP/indices/data/ERA5/daily/ERA5_daily_geopotential_1000_2019-04-16.nc (192.2K)\n",
      "2020-06-14 14:10:01,690 INFO Download rate 104.2K/s\n"
     ]
    },
    {
     "name": "stdout",
     "output_type": "stream",
     "text": [
      "downloading /home/nicolasf/research/CPP/indices/data/ERA5/daily/ERA5_daily_geopotential_1000_2019-04-17.nc\n"
     ]
    },
    {
     "name": "stderr",
     "output_type": "stream",
     "text": [
      "2020-06-14 14:10:03,326 INFO Welcome to the CDS\n",
      "2020-06-14 14:10:03,327 INFO Sending request to https://cds.climate.copernicus.eu/api/v2/resources/reanalysis-era5-pressure-levels\n",
      "2020-06-14 14:10:04,756 INFO Request is queued\n",
      "2020-06-14 14:10:06,088 INFO Request is running\n",
      "2020-06-14 14:10:07,931 INFO Request is completed\n",
      "2020-06-14 14:10:07,933 INFO Downloading http://136.156.132.210/cache-compute-0005/cache/data2/adaptor.mars.internal-1592100605.3426967-24590-18-d32a80d0-3353-4ddb-b24a-64a99bf63afd.nc to /home/nicolasf/research/CPP/indices/data/ERA5/daily/ERA5_daily_geopotential_1000_2019-04-17.nc (192.2K)\n",
      "2020-06-14 14:10:10,087 INFO Download rate 89.3K/s \n"
     ]
    },
    {
     "name": "stdout",
     "output_type": "stream",
     "text": [
      "downloading /home/nicolasf/research/CPP/indices/data/ERA5/daily/ERA5_daily_geopotential_1000_2019-04-18.nc\n"
     ]
    },
    {
     "name": "stderr",
     "output_type": "stream",
     "text": [
      "2020-06-14 14:10:11,928 INFO Welcome to the CDS\n",
      "2020-06-14 14:10:11,929 INFO Sending request to https://cds.climate.copernicus.eu/api/v2/resources/reanalysis-era5-pressure-levels\n",
      "2020-06-14 14:10:13,358 INFO Request is queued\n",
      "2020-06-14 14:10:14,690 INFO Request is completed\n",
      "2020-06-14 14:10:14,691 INFO Downloading http://136.156.133.36/cache-compute-0010/cache/data7/adaptor.mars.internal-1592100613.4630837-8097-22-5091993a-d5a7-4d6e-8bbe-5a50e291ee84.nc to /home/nicolasf/research/CPP/indices/data/ERA5/daily/ERA5_daily_geopotential_1000_2019-04-18.nc (192.2K)\n",
      "2020-06-14 14:10:16,539 INFO Download rate 104.2K/s\n"
     ]
    },
    {
     "name": "stdout",
     "output_type": "stream",
     "text": [
      "downloading /home/nicolasf/research/CPP/indices/data/ERA5/daily/ERA5_daily_geopotential_1000_2019-04-19.nc\n"
     ]
    },
    {
     "name": "stderr",
     "output_type": "stream",
     "text": [
      "2020-06-14 14:10:18,175 INFO Welcome to the CDS\n",
      "2020-06-14 14:10:18,176 INFO Sending request to https://cds.climate.copernicus.eu/api/v2/resources/reanalysis-era5-pressure-levels\n",
      "2020-06-14 14:10:19,492 INFO Request is queued\n",
      "2020-06-14 14:10:20,834 INFO Request is running\n",
      "2020-06-14 14:10:22,677 INFO Request is completed\n",
      "2020-06-14 14:10:22,679 INFO Downloading http://136.156.133.39/cache-compute-0012/cache/data0/adaptor.mars.internal-1592100619.6721144-30426-13-ff273799-da27-47f5-a127-6793b94779e4.nc to /home/nicolasf/research/CPP/indices/data/ERA5/daily/ERA5_daily_geopotential_1000_2019-04-19.nc (192.2K)\n",
      "2020-06-14 14:10:24,527 INFO Download rate 104.1K/s\n"
     ]
    },
    {
     "name": "stdout",
     "output_type": "stream",
     "text": [
      "downloading /home/nicolasf/research/CPP/indices/data/ERA5/daily/ERA5_daily_geopotential_1000_2019-04-20.nc\n"
     ]
    },
    {
     "name": "stderr",
     "output_type": "stream",
     "text": [
      "2020-06-14 14:10:26,162 INFO Welcome to the CDS\n",
      "2020-06-14 14:10:26,163 INFO Sending request to https://cds.climate.copernicus.eu/api/v2/resources/reanalysis-era5-pressure-levels\n",
      "2020-06-14 14:10:27,411 INFO Request is queued\n",
      "2020-06-14 14:10:28,719 INFO Request is running\n",
      "2020-06-14 14:10:30,562 INFO Request is completed\n",
      "2020-06-14 14:10:30,564 INFO Downloading http://136.156.132.210/cache-compute-0005/cache/data4/adaptor.mars.internal-1592100627.9513593-14521-31-619d9b87-3738-409d-941d-99e63f78b74f.nc to /home/nicolasf/research/CPP/indices/data/ERA5/daily/ERA5_daily_geopotential_1000_2019-04-20.nc (192.2K)\n",
      "2020-06-14 14:10:32,509 INFO Download rate 98.9K/s \n"
     ]
    },
    {
     "name": "stdout",
     "output_type": "stream",
     "text": [
      "downloading /home/nicolasf/research/CPP/indices/data/ERA5/daily/ERA5_daily_geopotential_1000_2019-04-21.nc\n"
     ]
    },
    {
     "name": "stderr",
     "output_type": "stream",
     "text": [
      "2020-06-14 14:10:34,048 INFO Welcome to the CDS\n",
      "2020-06-14 14:10:34,048 INFO Sending request to https://cds.climate.copernicus.eu/api/v2/resources/reanalysis-era5-pressure-levels\n",
      "2020-06-14 14:10:35,319 INFO Request is queued\n",
      "2020-06-14 14:10:36,706 INFO Request is running\n",
      "2020-06-14 14:10:38,549 INFO Request is completed\n",
      "2020-06-14 14:10:38,552 INFO Downloading http://136.156.132.236/cache-compute-0007/cache/data0/adaptor.mars.internal-1592100635.4506145-21947-25-1092b663-3f87-4367-98ba-2c9d69961da8.nc to /home/nicolasf/research/CPP/indices/data/ERA5/daily/ERA5_daily_geopotential_1000_2019-04-21.nc (192.2K)\n",
      "2020-06-14 14:10:40,397 INFO Download rate 104.3K/s\n"
     ]
    },
    {
     "name": "stdout",
     "output_type": "stream",
     "text": [
      "downloading /home/nicolasf/research/CPP/indices/data/ERA5/daily/ERA5_daily_geopotential_1000_2019-04-22.nc\n"
     ]
    },
    {
     "name": "stderr",
     "output_type": "stream",
     "text": [
      "2020-06-14 14:10:42,120 INFO Welcome to the CDS\n",
      "2020-06-14 14:10:42,121 INFO Sending request to https://cds.climate.copernicus.eu/api/v2/resources/reanalysis-era5-pressure-levels\n",
      "2020-06-14 14:10:43,373 INFO Request is queued\n",
      "2020-06-14 14:10:44,657 INFO Request is completed\n",
      "2020-06-14 14:10:44,658 INFO Downloading http://136.156.132.201/cache-compute-0004/cache/data9/adaptor.mars.internal-1592100643.3473942-10257-9-5f2a47c5-95c5-464d-9a6e-6b04c6a96d8e.nc to /home/nicolasf/research/CPP/indices/data/ERA5/daily/ERA5_daily_geopotential_1000_2019-04-22.nc (192.2K)\n",
      "2020-06-14 14:10:46,543 INFO Download rate 102.1K/s\n"
     ]
    },
    {
     "name": "stdout",
     "output_type": "stream",
     "text": [
      "downloading /home/nicolasf/research/CPP/indices/data/ERA5/daily/ERA5_daily_geopotential_1000_2019-04-23.nc\n"
     ]
    },
    {
     "name": "stderr",
     "output_type": "stream",
     "text": [
      "2020-06-14 14:10:48,179 INFO Welcome to the CDS\n",
      "2020-06-14 14:10:48,179 INFO Sending request to https://cds.climate.copernicus.eu/api/v2/resources/reanalysis-era5-pressure-levels\n",
      "2020-06-14 14:10:49,609 INFO Request is queued\n",
      "2020-06-14 14:10:50,940 INFO Request is completed\n",
      "2020-06-14 14:10:50,942 INFO Downloading http://136.156.132.235/cache-compute-0006/cache/data9/adaptor.mars.internal-1592100649.9025955-11241-9-779a8d20-0a67-4ae7-a174-7f0388466264.nc to /home/nicolasf/research/CPP/indices/data/ERA5/daily/ERA5_daily_geopotential_1000_2019-04-23.nc (192.2K)\n",
      "2020-06-14 14:10:54,325 INFO Download rate 56.9K/s \n"
     ]
    },
    {
     "name": "stdout",
     "output_type": "stream",
     "text": [
      "downloading /home/nicolasf/research/CPP/indices/data/ERA5/daily/ERA5_daily_geopotential_1000_2019-04-24.nc\n"
     ]
    },
    {
     "name": "stderr",
     "output_type": "stream",
     "text": [
      "2020-06-14 14:10:55,859 INFO Welcome to the CDS\n",
      "2020-06-14 14:10:55,860 INFO Sending request to https://cds.climate.copernicus.eu/api/v2/resources/reanalysis-era5-pressure-levels\n",
      "2020-06-14 14:10:57,289 INFO Request is queued\n",
      "2020-06-14 14:10:58,621 INFO Request is completed\n",
      "2020-06-14 14:10:58,623 INFO Downloading http://136.156.132.210/cache-compute-0005/cache/data6/adaptor.mars.internal-1592100657.4988172-22687-29-c9c3ca0e-f999-4778-974c-62e17a8bddfb.nc to /home/nicolasf/research/CPP/indices/data/ERA5/daily/ERA5_daily_geopotential_1000_2019-04-24.nc (192.2K)\n",
      "2020-06-14 14:11:00,576 INFO Download rate 98.5K/s \n"
     ]
    },
    {
     "name": "stdout",
     "output_type": "stream",
     "text": [
      "downloading /home/nicolasf/research/CPP/indices/data/ERA5/daily/ERA5_daily_geopotential_1000_2019-04-25.nc\n"
     ]
    },
    {
     "name": "stderr",
     "output_type": "stream",
     "text": [
      "2020-06-14 14:11:02,106 INFO Welcome to the CDS\n",
      "2020-06-14 14:11:02,107 INFO Sending request to https://cds.climate.copernicus.eu/api/v2/resources/reanalysis-era5-pressure-levels\n",
      "2020-06-14 14:11:03,350 INFO Request is queued\n",
      "2020-06-14 14:11:04,662 INFO Request is running\n",
      "2020-06-14 14:11:06,506 INFO Request is completed\n",
      "2020-06-14 14:11:06,507 INFO Downloading http://136.156.133.46/cache-compute-0015/cache/data4/adaptor.mars.internal-1592100663.6619568-5849-5-a817950a-76a6-4042-a0b7-51f5c7bf8ae1.nc to /home/nicolasf/research/CPP/indices/data/ERA5/daily/ERA5_daily_geopotential_1000_2019-04-25.nc (192.2K)\n",
      "2020-06-14 14:11:08,354 INFO Download rate 104.2K/s\n"
     ]
    },
    {
     "name": "stdout",
     "output_type": "stream",
     "text": [
      "downloading /home/nicolasf/research/CPP/indices/data/ERA5/daily/ERA5_daily_geopotential_1000_2019-04-26.nc\n"
     ]
    },
    {
     "name": "stderr",
     "output_type": "stream",
     "text": [
      "2020-06-14 14:11:10,503 INFO Welcome to the CDS\n",
      "2020-06-14 14:11:10,505 INFO Sending request to https://cds.climate.copernicus.eu/api/v2/resources/reanalysis-era5-pressure-levels\n",
      "2020-06-14 14:11:11,831 INFO Request is queued\n",
      "2020-06-14 14:11:13,162 INFO Request is running\n",
      "2020-06-14 14:11:15,005 INFO Request is completed\n",
      "2020-06-14 14:11:15,007 INFO Downloading http://136.156.133.39/cache-compute-0012/cache/data5/adaptor.mars.internal-1592100671.8050482-30426-16-d4accde2-642b-4e71-b4cc-d67a34e5d3fc.nc to /home/nicolasf/research/CPP/indices/data/ERA5/daily/ERA5_daily_geopotential_1000_2019-04-26.nc (192.2K)\n",
      "2020-06-14 14:11:16,853 INFO Download rate 104.2K/s\n"
     ]
    },
    {
     "name": "stdout",
     "output_type": "stream",
     "text": [
      "downloading /home/nicolasf/research/CPP/indices/data/ERA5/daily/ERA5_daily_geopotential_1000_2019-04-27.nc\n"
     ]
    },
    {
     "name": "stderr",
     "output_type": "stream",
     "text": [
      "2020-06-14 14:11:18,696 INFO Welcome to the CDS\n",
      "2020-06-14 14:11:18,698 INFO Sending request to https://cds.climate.copernicus.eu/api/v2/resources/reanalysis-era5-pressure-levels\n",
      "2020-06-14 14:11:20,843 INFO Request is queued\n",
      "2020-06-14 14:11:22,173 INFO Request is completed\n",
      "2020-06-14 14:11:22,175 INFO Downloading http://136.156.132.210/cache-compute-0005/cache/data6/adaptor.mars.internal-1592100680.85714-14521-33-0bd93cbf-a871-4bb9-b667-d6531368734f.nc to /home/nicolasf/research/CPP/indices/data/ERA5/daily/ERA5_daily_geopotential_1000_2019-04-27.nc (192.2K)\n",
      "2020-06-14 14:11:24,021 INFO Download rate 104.2K/s\n"
     ]
    },
    {
     "name": "stdout",
     "output_type": "stream",
     "text": [
      "downloading /home/nicolasf/research/CPP/indices/data/ERA5/daily/ERA5_daily_geopotential_1000_2019-04-28.nc\n"
     ]
    },
    {
     "name": "stderr",
     "output_type": "stream",
     "text": [
      "2020-06-14 14:11:25,658 INFO Welcome to the CDS\n",
      "2020-06-14 14:11:25,659 INFO Sending request to https://cds.climate.copernicus.eu/api/v2/resources/reanalysis-era5-pressure-levels\n",
      "2020-06-14 14:11:27,089 INFO Request is queued\n",
      "2020-06-14 14:11:28,420 INFO Request is running\n",
      "2020-06-14 14:11:30,263 INFO Request is completed\n",
      "2020-06-14 14:11:30,265 INFO Downloading http://136.156.133.42/cache-compute-0014/cache/data8/adaptor.mars.internal-1592100687.3420093-2250-27-cb2444e6-1d59-4458-bc20-d6bb7d10fba8.nc to /home/nicolasf/research/CPP/indices/data/ERA5/daily/ERA5_daily_geopotential_1000_2019-04-28.nc (192.2K)\n",
      "2020-06-14 14:11:32,116 INFO Download rate 103.9K/s\n"
     ]
    },
    {
     "name": "stdout",
     "output_type": "stream",
     "text": [
      "downloading /home/nicolasf/research/CPP/indices/data/ERA5/daily/ERA5_daily_geopotential_1000_2019-04-29.nc\n"
     ]
    },
    {
     "name": "stderr",
     "output_type": "stream",
     "text": [
      "2020-06-14 14:11:33,851 INFO Welcome to the CDS\n",
      "2020-06-14 14:11:33,852 INFO Sending request to https://cds.climate.copernicus.eu/api/v2/resources/reanalysis-era5-pressure-levels\n",
      "2020-06-14 14:11:35,282 INFO Request is queued\n",
      "2020-06-14 14:11:36,613 INFO Request is running\n",
      "2020-06-14 14:11:38,455 INFO Request is completed\n",
      "2020-06-14 14:11:38,457 INFO Downloading http://136.156.133.41/cache-compute-0013/cache/data7/adaptor.mars.internal-1592100695.6768177-29581-26-ff0c07a5-5d23-4c8e-adc9-5d36d367f32c.nc to /home/nicolasf/research/CPP/indices/data/ERA5/daily/ERA5_daily_geopotential_1000_2019-04-29.nc (192.2K)\n",
      "2020-06-14 14:11:40,306 INFO Download rate 104.1K/s\n"
     ]
    },
    {
     "name": "stdout",
     "output_type": "stream",
     "text": [
      "downloading /home/nicolasf/research/CPP/indices/data/ERA5/daily/ERA5_daily_geopotential_1000_2019-04-30.nc\n"
     ]
    },
    {
     "name": "stderr",
     "output_type": "stream",
     "text": [
      "2020-06-14 14:11:41,941 INFO Welcome to the CDS\n",
      "2020-06-14 14:11:41,941 INFO Sending request to https://cds.climate.copernicus.eu/api/v2/resources/reanalysis-era5-pressure-levels\n",
      "2020-06-14 14:11:43,259 INFO Request is queued\n",
      "2020-06-14 14:11:44,600 INFO Request is running\n",
      "2020-06-14 14:11:46,443 INFO Request is completed\n",
      "2020-06-14 14:11:46,445 INFO Downloading http://136.156.133.42/cache-compute-0014/cache/data2/adaptor.mars.internal-1592100704.2033775-1882-30-455a38da-dd98-403d-b3e2-e354540d7049.nc to /home/nicolasf/research/CPP/indices/data/ERA5/daily/ERA5_daily_geopotential_1000_2019-04-30.nc (192.2K)\n",
      "2020-06-14 14:11:48,292 INFO Download rate 104.2K/s\n"
     ]
    },
    {
     "name": "stdout",
     "output_type": "stream",
     "text": [
      "downloading /home/nicolasf/research/CPP/indices/data/ERA5/daily/ERA5_daily_geopotential_1000_2019-05-01.nc\n"
     ]
    },
    {
     "name": "stderr",
     "output_type": "stream",
     "text": [
      "2020-06-14 14:11:50,646 INFO Welcome to the CDS\n",
      "2020-06-14 14:11:50,647 INFO Sending request to https://cds.climate.copernicus.eu/api/v2/resources/reanalysis-era5-pressure-levels\n",
      "2020-06-14 14:11:52,075 INFO Request is queued\n",
      "2020-06-14 14:11:53,406 INFO Request is running\n",
      "2020-06-14 14:11:55,250 INFO Request is completed\n",
      "2020-06-14 14:11:55,252 INFO Downloading http://136.156.132.235/cache-compute-0006/cache/data4/adaptor.mars.internal-1592100712.439765-26953-21-02264b49-3de0-4ea3-a3e0-205be7e44687.nc to /home/nicolasf/research/CPP/indices/data/ERA5/daily/ERA5_daily_geopotential_1000_2019-05-01.nc (192.2K)\n",
      "2020-06-14 14:11:58,633 INFO Download rate 56.9K/s \n"
     ]
    },
    {
     "name": "stdout",
     "output_type": "stream",
     "text": [
      "downloading /home/nicolasf/research/CPP/indices/data/ERA5/daily/ERA5_daily_geopotential_1000_2019-05-02.nc\n"
     ]
    },
    {
     "name": "stderr",
     "output_type": "stream",
     "text": [
      "2020-06-14 14:12:00,681 INFO Welcome to the CDS\n",
      "2020-06-14 14:12:00,682 INFO Sending request to https://cds.climate.copernicus.eu/api/v2/resources/reanalysis-era5-pressure-levels\n",
      "2020-06-14 14:12:02,623 INFO Request is queued\n",
      "2020-06-14 14:12:03,953 INFO Request is completed\n",
      "2020-06-14 14:12:03,953 INFO Downloading http://136.156.132.198/cache-compute-0003/cache/data9/adaptor.mars.internal-1592100722.4956615-19159-7-4eae0a1c-c05e-4911-b096-c5125ff38685.nc to /home/nicolasf/research/CPP/indices/data/ERA5/daily/ERA5_daily_geopotential_1000_2019-05-02.nc (192.2K)\n",
      "2020-06-14 14:12:05,802 INFO Download rate 104K/s  \n"
     ]
    },
    {
     "name": "stdout",
     "output_type": "stream",
     "text": [
      "downloading /home/nicolasf/research/CPP/indices/data/ERA5/daily/ERA5_daily_geopotential_1000_2019-05-03.nc\n"
     ]
    },
    {
     "name": "stderr",
     "output_type": "stream",
     "text": [
      "2020-06-14 14:12:07,746 INFO Welcome to the CDS\n",
      "2020-06-14 14:12:07,747 INFO Sending request to https://cds.climate.copernicus.eu/api/v2/resources/reanalysis-era5-pressure-levels\n",
      "2020-06-14 14:12:09,688 INFO Request is queued\n",
      "2020-06-14 14:12:11,020 INFO Request is running\n",
      "2020-06-14 14:12:12,863 INFO Request is completed\n",
      "2020-06-14 14:12:12,866 INFO Downloading http://136.156.133.39/cache-compute-0012/cache/data5/adaptor.mars.internal-1592100730.586783-30426-18-ee8427c3-b45f-44d6-b5ba-090261819d64.nc to /home/nicolasf/research/CPP/indices/data/ERA5/daily/ERA5_daily_geopotential_1000_2019-05-03.nc (192.2K)\n",
      "2020-06-14 14:12:14,712 INFO Download rate 104.2K/s\n"
     ]
    },
    {
     "name": "stdout",
     "output_type": "stream",
     "text": [
      "downloading /home/nicolasf/research/CPP/indices/data/ERA5/daily/ERA5_daily_geopotential_1000_2019-05-04.nc\n"
     ]
    },
    {
     "name": "stderr",
     "output_type": "stream",
     "text": [
      "2020-06-14 14:12:16,553 INFO Welcome to the CDS\n",
      "2020-06-14 14:12:16,554 INFO Sending request to https://cds.climate.copernicus.eu/api/v2/resources/reanalysis-era5-pressure-levels\n",
      "2020-06-14 14:12:17,861 INFO Request is queued\n",
      "2020-06-14 14:12:19,212 INFO Request is running\n",
      "2020-06-14 14:12:21,055 INFO Request is completed\n",
      "2020-06-14 14:12:21,057 INFO Downloading http://136.156.132.110/cache-compute-0001/cache/data5/adaptor.mars.internal-1592100738.7202396-6122-24-8549a170-4eae-472c-845c-e94640843f4f.nc to /home/nicolasf/research/CPP/indices/data/ERA5/daily/ERA5_daily_geopotential_1000_2019-05-04.nc (192.2K)\n",
      "2020-06-14 14:12:22,904 INFO Download rate 104.2K/s\n"
     ]
    },
    {
     "name": "stdout",
     "output_type": "stream",
     "text": [
      "downloading /home/nicolasf/research/CPP/indices/data/ERA5/daily/ERA5_daily_geopotential_1000_2019-05-05.nc\n"
     ]
    },
    {
     "name": "stderr",
     "output_type": "stream",
     "text": [
      "2020-06-14 14:12:24,747 INFO Welcome to the CDS\n",
      "2020-06-14 14:12:24,748 INFO Sending request to https://cds.climate.copernicus.eu/api/v2/resources/reanalysis-era5-pressure-levels\n",
      "2020-06-14 14:12:26,586 INFO Request is queued\n",
      "2020-06-14 14:12:27,917 INFO Request is running\n",
      "2020-06-14 14:12:29,760 INFO Request is completed\n",
      "2020-06-14 14:12:29,762 INFO Downloading http://136.156.132.210/cache-compute-0005/cache/data6/adaptor.mars.internal-1592100747.236186-24217-22-660046a0-14e0-44d2-b318-7e7e20553cf4.nc to /home/nicolasf/research/CPP/indices/data/ERA5/daily/ERA5_daily_geopotential_1000_2019-05-05.nc (192.2K)\n",
      "2020-06-14 14:12:31,609 INFO Download rate 104.2K/s\n"
     ]
    },
    {
     "name": "stdout",
     "output_type": "stream",
     "text": [
      "downloading /home/nicolasf/research/CPP/indices/data/ERA5/daily/ERA5_daily_geopotential_1000_2019-05-06.nc\n"
     ]
    },
    {
     "name": "stderr",
     "output_type": "stream",
     "text": [
      "2020-06-14 14:12:33,964 INFO Welcome to the CDS\n",
      "2020-06-14 14:12:33,964 INFO Sending request to https://cds.climate.copernicus.eu/api/v2/resources/reanalysis-era5-pressure-levels\n",
      "2020-06-14 14:12:35,269 INFO Request is queued\n",
      "2020-06-14 14:12:36,621 INFO Request is running\n",
      "2020-06-14 14:12:38,464 INFO Request is completed\n",
      "2020-06-14 14:12:38,466 INFO Downloading http://136.156.133.39/cache-compute-0012/cache/data6/adaptor.mars.internal-1592100755.305025-31763-11-273f7fc1-2cc0-4f02-a37e-38ad989625f2.nc to /home/nicolasf/research/CPP/indices/data/ERA5/daily/ERA5_daily_geopotential_1000_2019-05-06.nc (192.2K)\n",
      "2020-06-14 14:12:40,318 INFO Download rate 103.9K/s\n"
     ]
    },
    {
     "name": "stdout",
     "output_type": "stream",
     "text": [
      "downloading /home/nicolasf/research/CPP/indices/data/ERA5/daily/ERA5_daily_geopotential_1000_2019-05-07.nc\n"
     ]
    },
    {
     "name": "stderr",
     "output_type": "stream",
     "text": [
      "2020-06-14 14:12:42,871 INFO Welcome to the CDS\n",
      "2020-06-14 14:12:42,872 INFO Sending request to https://cds.climate.copernicus.eu/api/v2/resources/reanalysis-era5-pressure-levels\n",
      "2020-06-14 14:12:44,403 INFO Request is queued\n",
      "2020-06-14 14:12:45,735 INFO Request is completed\n",
      "2020-06-14 14:12:45,736 INFO Downloading http://136.156.133.37/cache-compute-0011/cache/data7/adaptor.mars.internal-1592100764.3594866-8886-1-7576bf92-7890-4b13-804a-c465bf09b8aa.nc to /home/nicolasf/research/CPP/indices/data/ERA5/daily/ERA5_daily_geopotential_1000_2019-05-07.nc (192.2K)\n",
      "2020-06-14 14:12:47,585 INFO Download rate 104.1K/s\n"
     ]
    },
    {
     "name": "stdout",
     "output_type": "stream",
     "text": [
      "downloading /home/nicolasf/research/CPP/indices/data/ERA5/daily/ERA5_daily_geopotential_1000_2019-05-08.nc\n"
     ]
    },
    {
     "name": "stderr",
     "output_type": "stream",
     "text": [
      "2020-06-14 14:12:49,118 INFO Welcome to the CDS\n",
      "2020-06-14 14:12:49,119 INFO Sending request to https://cds.climate.copernicus.eu/api/v2/resources/reanalysis-era5-pressure-levels\n",
      "2020-06-14 14:12:50,343 INFO Request is queued\n",
      "2020-06-14 14:12:51,782 INFO Request is running\n",
      "2020-06-14 14:12:53,620 INFO Request is completed\n",
      "2020-06-14 14:12:53,622 INFO Downloading http://136.156.133.39/cache-compute-0012/cache/data6/adaptor.mars.internal-1592100771.1478019-1097-3-240db9f4-feb4-43c1-97bf-03ea1291fc94.nc to /home/nicolasf/research/CPP/indices/data/ERA5/daily/ERA5_daily_geopotential_1000_2019-05-08.nc (192.2K)\n",
      "2020-06-14 14:12:55,470 INFO Download rate 104.1K/s\n"
     ]
    },
    {
     "name": "stdout",
     "output_type": "stream",
     "text": [
      "downloading /home/nicolasf/research/CPP/indices/data/ERA5/daily/ERA5_daily_geopotential_1000_2019-05-09.nc\n"
     ]
    },
    {
     "name": "stderr",
     "output_type": "stream",
     "text": [
      "2020-06-14 14:12:57,105 INFO Welcome to the CDS\n",
      "2020-06-14 14:12:57,106 INFO Sending request to https://cds.climate.copernicus.eu/api/v2/resources/reanalysis-era5-pressure-levels\n",
      "2020-06-14 14:12:59,150 INFO Request is queued\n",
      "2020-06-14 14:13:00,481 INFO Request is running\n",
      "2020-06-14 14:13:02,324 INFO Request is completed\n",
      "2020-06-14 14:13:02,326 INFO Downloading http://136.156.132.153/cache-compute-0002/cache/data0/adaptor.mars.internal-1592100779.3117998-9046-3-17d5d74c-e215-4420-9862-9a7953ca5412.nc to /home/nicolasf/research/CPP/indices/data/ERA5/daily/ERA5_daily_geopotential_1000_2019-05-09.nc (192.2K)\n",
      "2020-06-14 14:13:04,171 INFO Download rate 104.3K/s\n"
     ]
    },
    {
     "name": "stdout",
     "output_type": "stream",
     "text": [
      "downloading /home/nicolasf/research/CPP/indices/data/ERA5/daily/ERA5_daily_geopotential_1000_2019-05-10.nc\n"
     ]
    },
    {
     "name": "stderr",
     "output_type": "stream",
     "text": [
      "2020-06-14 14:13:06,527 INFO Welcome to the CDS\n",
      "2020-06-14 14:13:06,528 INFO Sending request to https://cds.climate.copernicus.eu/api/v2/resources/reanalysis-era5-pressure-levels\n",
      "2020-06-14 14:13:07,833 INFO Request is queued\n",
      "2020-06-14 14:13:09,185 INFO Request is running\n",
      "2020-06-14 14:13:11,028 INFO Request is completed\n",
      "2020-06-14 14:13:11,030 INFO Downloading http://136.156.132.153/cache-compute-0002/cache/data8/adaptor.mars.internal-1592100788.2875276-7361-11-ace5732e-e7a0-462a-9f4d-f6dc043ac53c.nc to /home/nicolasf/research/CPP/indices/data/ERA5/daily/ERA5_daily_geopotential_1000_2019-05-10.nc (192.2K)\n",
      "2020-06-14 14:13:12,878 INFO Download rate 104.1K/s\n"
     ]
    },
    {
     "name": "stdout",
     "output_type": "stream",
     "text": [
      "downloading /home/nicolasf/research/CPP/indices/data/ERA5/daily/ERA5_daily_geopotential_1000_2019-05-11.nc\n"
     ]
    },
    {
     "name": "stderr",
     "output_type": "stream",
     "text": [
      "2020-06-14 14:13:15,128 INFO Welcome to the CDS\n",
      "2020-06-14 14:13:15,129 INFO Sending request to https://cds.climate.copernicus.eu/api/v2/resources/reanalysis-era5-pressure-levels\n",
      "2020-06-14 14:13:16,763 INFO Request is queued\n",
      "2020-06-14 14:13:19,876 INFO Request is running\n",
      "2020-06-14 14:13:22,498 INFO Request is completed\n",
      "2020-06-14 14:13:22,500 INFO Downloading http://136.156.133.25/cache-compute-0008/cache/data6/adaptor.mars.internal-1592100797.994737-21921-18-f86acd00-3549-42ff-bac9-c8526ca624b1.nc to /home/nicolasf/research/CPP/indices/data/ERA5/daily/ERA5_daily_geopotential_1000_2019-05-11.nc (192.2K)\n",
      "2020-06-14 14:13:24,345 INFO Download rate 104.3K/s\n"
     ]
    },
    {
     "name": "stdout",
     "output_type": "stream",
     "text": [
      "downloading /home/nicolasf/research/CPP/indices/data/ERA5/daily/ERA5_daily_geopotential_1000_2019-05-12.nc\n"
     ]
    },
    {
     "name": "stderr",
     "output_type": "stream",
     "text": [
      "2020-06-14 14:13:27,007 INFO Welcome to the CDS\n",
      "2020-06-14 14:13:27,008 INFO Sending request to https://cds.climate.copernicus.eu/api/v2/resources/reanalysis-era5-pressure-levels\n",
      "2020-06-14 14:13:29,257 INFO Request is queued\n",
      "2020-06-14 14:13:30,588 INFO Request is running\n",
      "2020-06-14 14:13:32,431 INFO Request is completed\n",
      "2020-06-14 14:13:32,433 INFO Downloading http://136.156.133.32/cache-compute-0009/cache/data0/adaptor.mars.internal-1592100809.848946-29556-26-eca01cba-370f-454e-b208-bce02141ef5a.nc to /home/nicolasf/research/CPP/indices/data/ERA5/daily/ERA5_daily_geopotential_1000_2019-05-12.nc (192.2K)\n",
      "2020-06-14 14:13:34,280 INFO Download rate 104.2K/s\n"
     ]
    },
    {
     "name": "stdout",
     "output_type": "stream",
     "text": [
      "downloading /home/nicolasf/research/CPP/indices/data/ERA5/daily/ERA5_daily_geopotential_1000_2019-05-13.nc\n"
     ]
    },
    {
     "name": "stderr",
     "output_type": "stream",
     "text": [
      "2020-06-14 14:13:36,634 INFO Welcome to the CDS\n",
      "2020-06-14 14:13:36,634 INFO Sending request to https://cds.climate.copernicus.eu/api/v2/resources/reanalysis-era5-pressure-levels\n",
      "2020-06-14 14:13:38,780 INFO Request is queued\n",
      "2020-06-14 14:13:40,111 INFO Request is running\n",
      "2020-06-14 14:13:44,514 INFO Request is completed\n",
      "2020-06-14 14:13:44,516 INFO Downloading http://136.156.132.198/cache-compute-0003/cache/data8/adaptor.mars.internal-1592100819.528169-16887-21-7c3e4dd4-3066-496a-8d9d-01773d0ea83e.nc to /home/nicolasf/research/CPP/indices/data/ERA5/daily/ERA5_daily_geopotential_1000_2019-05-13.nc (192.2K)\n",
      "2020-06-14 14:13:46,365 INFO Download rate 104.1K/s\n"
     ]
    },
    {
     "name": "stdout",
     "output_type": "stream",
     "text": [
      "downloading /home/nicolasf/research/CPP/indices/data/ERA5/daily/ERA5_daily_geopotential_1000_2019-05-14.nc\n"
     ]
    },
    {
     "name": "stderr",
     "output_type": "stream",
     "text": [
      "2020-06-14 14:13:47,897 INFO Welcome to the CDS\n",
      "2020-06-14 14:13:47,898 INFO Sending request to https://cds.climate.copernicus.eu/api/v2/resources/reanalysis-era5-pressure-levels\n",
      "2020-06-14 14:13:49,839 INFO Request is queued\n",
      "2020-06-14 14:13:51,171 INFO Request is running\n",
      "2020-06-14 14:13:53,014 INFO Request is completed\n",
      "2020-06-14 14:13:53,016 INFO Downloading http://136.156.133.39/cache-compute-0012/cache/data5/adaptor.mars.internal-1592100830.279998-30959-18-a579870e-1cb5-446a-a0c3-b20cceeee7df.nc to /home/nicolasf/research/CPP/indices/data/ERA5/daily/ERA5_daily_geopotential_1000_2019-05-14.nc (192.2K)\n",
      "2020-06-14 14:13:54,863 INFO Download rate 104.2K/s\n"
     ]
    },
    {
     "name": "stdout",
     "output_type": "stream",
     "text": [
      "downloading /home/nicolasf/research/CPP/indices/data/ERA5/daily/ERA5_daily_geopotential_1000_2019-05-15.nc\n"
     ]
    },
    {
     "name": "stderr",
     "output_type": "stream",
     "text": [
      "2020-06-14 14:13:56,807 INFO Welcome to the CDS\n",
      "2020-06-14 14:13:56,807 INFO Sending request to https://cds.climate.copernicus.eu/api/v2/resources/reanalysis-era5-pressure-levels\n",
      "2020-06-14 14:13:58,747 INFO Request is queued\n",
      "2020-06-14 14:14:00,079 INFO Request is completed\n",
      "2020-06-14 14:14:00,081 INFO Downloading http://136.156.133.41/cache-compute-0013/cache/data2/adaptor.mars.internal-1592100838.8451371-4644-20-3ec37428-0763-4911-a1a2-22e37dbf153a.nc to /home/nicolasf/research/CPP/indices/data/ERA5/daily/ERA5_daily_geopotential_1000_2019-05-15.nc (192.2K)\n",
      "2020-06-14 14:14:01,932 INFO Download rate 104K/s  \n"
     ]
    },
    {
     "name": "stdout",
     "output_type": "stream",
     "text": [
      "downloading /home/nicolasf/research/CPP/indices/data/ERA5/daily/ERA5_daily_geopotential_1000_2019-05-16.nc\n"
     ]
    },
    {
     "name": "stderr",
     "output_type": "stream",
     "text": [
      "2020-06-14 14:14:03,766 INFO Welcome to the CDS\n",
      "2020-06-14 14:14:03,767 INFO Sending request to https://cds.climate.copernicus.eu/api/v2/resources/reanalysis-era5-pressure-levels\n",
      "2020-06-14 14:14:05,199 INFO Request is queued\n",
      "2020-06-14 14:14:06,531 INFO Request is completed\n",
      "2020-06-14 14:14:06,533 INFO Downloading http://136.156.132.235/cache-compute-0006/cache/data6/adaptor.mars.internal-1592100845.2444923-31523-3-4a6bb102-dc59-433d-b01c-2d8d4d7196a6.nc to /home/nicolasf/research/CPP/indices/data/ERA5/daily/ERA5_daily_geopotential_1000_2019-05-16.nc (192.2K)\n",
      "2020-06-14 14:14:09,914 INFO Download rate 56.9K/s \n"
     ]
    },
    {
     "name": "stdout",
     "output_type": "stream",
     "text": [
      "downloading /home/nicolasf/research/CPP/indices/data/ERA5/daily/ERA5_daily_geopotential_1000_2019-05-17.nc\n"
     ]
    },
    {
     "name": "stderr",
     "output_type": "stream",
     "text": [
      "2020-06-14 14:14:11,552 INFO Welcome to the CDS\n",
      "2020-06-14 14:14:11,553 INFO Sending request to https://cds.climate.copernicus.eu/api/v2/resources/reanalysis-era5-pressure-levels\n",
      "2020-06-14 14:14:12,800 INFO Request is queued\n",
      "2020-06-14 14:14:14,109 INFO Request is completed\n",
      "2020-06-14 14:14:14,110 INFO Downloading http://136.156.132.235/cache-compute-0006/cache/data4/adaptor.mars.internal-1592100852.7819622-27488-22-80a634e8-c07f-4884-9d2e-039ead51249a.nc to /home/nicolasf/research/CPP/indices/data/ERA5/daily/ERA5_daily_geopotential_1000_2019-05-17.nc (192.2K)\n",
      "2020-06-14 14:14:17,186 INFO Download rate 62.5K/s \n"
     ]
    },
    {
     "name": "stdout",
     "output_type": "stream",
     "text": [
      "downloading /home/nicolasf/research/CPP/indices/data/ERA5/daily/ERA5_daily_geopotential_1000_2019-05-18.nc\n"
     ]
    },
    {
     "name": "stderr",
     "output_type": "stream",
     "text": [
      "2020-06-14 14:14:19,028 INFO Welcome to the CDS\n",
      "2020-06-14 14:14:19,029 INFO Sending request to https://cds.climate.copernicus.eu/api/v2/resources/reanalysis-era5-pressure-levels\n",
      "2020-06-14 14:14:20,560 INFO Request is queued\n",
      "2020-06-14 14:14:21,892 INFO Request is completed\n",
      "2020-06-14 14:14:21,894 INFO Downloading http://136.156.132.105/cache-compute-0000/cache/data5/adaptor.mars.internal-1592100860.4616587-26441-23-e10e56f0-bf5c-45f8-b483-0b658d4f9cd8.nc to /home/nicolasf/research/CPP/indices/data/ERA5/daily/ERA5_daily_geopotential_1000_2019-05-18.nc (192.2K)\n",
      "2020-06-14 14:14:23,740 INFO Download rate 104.2K/s\n"
     ]
    },
    {
     "name": "stdout",
     "output_type": "stream",
     "text": [
      "downloading /home/nicolasf/research/CPP/indices/data/ERA5/daily/ERA5_daily_geopotential_1000_2019-05-19.nc\n"
     ]
    },
    {
     "name": "stderr",
     "output_type": "stream",
     "text": [
      "2020-06-14 14:14:25,377 INFO Welcome to the CDS\n",
      "2020-06-14 14:14:25,377 INFO Sending request to https://cds.climate.copernicus.eu/api/v2/resources/reanalysis-era5-pressure-levels\n",
      "2020-06-14 14:14:26,807 INFO Request is queued\n",
      "2020-06-14 14:14:28,138 INFO Request is completed\n",
      "2020-06-14 14:14:28,140 INFO Downloading http://136.156.133.25/cache-compute-0008/cache/data3/adaptor.mars.internal-1592100866.6944203-24711-7-03c56f29-63e1-4336-99d7-3bab3256f471.nc to /home/nicolasf/research/CPP/indices/data/ERA5/daily/ERA5_daily_geopotential_1000_2019-05-19.nc (192.2K)\n",
      "2020-06-14 14:14:29,988 INFO Download rate 104.1K/s\n"
     ]
    },
    {
     "name": "stdout",
     "output_type": "stream",
     "text": [
      "downloading /home/nicolasf/research/CPP/indices/data/ERA5/daily/ERA5_daily_geopotential_1000_2019-05-20.nc\n"
     ]
    },
    {
     "name": "stderr",
     "output_type": "stream",
     "text": [
      "2020-06-14 14:14:31,624 INFO Welcome to the CDS\n",
      "2020-06-14 14:14:31,625 INFO Sending request to https://cds.climate.copernicus.eu/api/v2/resources/reanalysis-era5-pressure-levels\n",
      "2020-06-14 14:14:33,772 INFO Request is queued\n",
      "2020-06-14 14:14:35,101 INFO Request is completed\n",
      "2020-06-14 14:14:35,103 INFO Downloading http://136.156.132.236/cache-compute-0007/cache/data3/adaptor.mars.internal-1592100873.4487906-9420-9-a2a88459-1169-4bf3-93f6-e6cf71a6d7ce.nc to /home/nicolasf/research/CPP/indices/data/ERA5/daily/ERA5_daily_geopotential_1000_2019-05-20.nc (192.2K)\n",
      "2020-06-14 14:14:36,950 INFO Download rate 104.2K/s\n"
     ]
    },
    {
     "name": "stdout",
     "output_type": "stream",
     "text": [
      "downloading /home/nicolasf/research/CPP/indices/data/ERA5/daily/ERA5_daily_geopotential_1000_2019-05-21.nc\n"
     ]
    },
    {
     "name": "stderr",
     "output_type": "stream",
     "text": [
      "2020-06-14 14:14:38,484 INFO Welcome to the CDS\n",
      "2020-06-14 14:14:38,485 INFO Sending request to https://cds.climate.copernicus.eu/api/v2/resources/reanalysis-era5-pressure-levels\n",
      "2020-06-14 14:14:39,745 INFO Request is queued\n",
      "2020-06-14 14:14:41,041 INFO Request is completed\n",
      "2020-06-14 14:14:41,043 INFO Downloading http://136.156.133.41/cache-compute-0013/cache/data8/adaptor.mars.internal-1592100879.8100195-2294-33-3426c41b-e081-4885-a612-5aa2d21241af.nc to /home/nicolasf/research/CPP/indices/data/ERA5/daily/ERA5_daily_geopotential_1000_2019-05-21.nc (192.2K)\n",
      "2020-06-14 14:14:42,890 INFO Download rate 104.2K/s\n"
     ]
    },
    {
     "name": "stdout",
     "output_type": "stream",
     "text": [
      "downloading /home/nicolasf/research/CPP/indices/data/ERA5/daily/ERA5_daily_geopotential_1000_2019-05-22.nc\n"
     ]
    },
    {
     "name": "stderr",
     "output_type": "stream",
     "text": [
      "2020-06-14 14:14:44,526 INFO Welcome to the CDS\n",
      "2020-06-14 14:14:44,527 INFO Sending request to https://cds.climate.copernicus.eu/api/v2/resources/reanalysis-era5-pressure-levels\n",
      "2020-06-14 14:14:45,753 INFO Request is queued\n",
      "2020-06-14 14:14:47,083 INFO Request is completed\n",
      "2020-06-14 14:14:47,084 INFO Downloading http://136.156.133.41/cache-compute-0013/cache/data3/adaptor.mars.internal-1592100885.653508-4258-23-8c65df4e-eedc-449e-9422-8e697b9a9259.nc to /home/nicolasf/research/CPP/indices/data/ERA5/daily/ERA5_daily_geopotential_1000_2019-05-22.nc (192.2K)\n",
      "2020-06-14 14:14:48,932 INFO Download rate 104.1K/s\n"
     ]
    },
    {
     "name": "stdout",
     "output_type": "stream",
     "text": [
      "downloading /home/nicolasf/research/CPP/indices/data/ERA5/daily/ERA5_daily_geopotential_1000_2019-05-23.nc\n"
     ]
    },
    {
     "name": "stderr",
     "output_type": "stream",
     "text": [
      "2020-06-14 14:14:50,466 INFO Welcome to the CDS\n",
      "2020-06-14 14:14:50,466 INFO Sending request to https://cds.climate.copernicus.eu/api/v2/resources/reanalysis-era5-pressure-levels\n",
      "2020-06-14 14:14:51,746 INFO Request is queued\n",
      "2020-06-14 14:14:53,124 INFO Request is completed\n",
      "2020-06-14 14:14:53,126 INFO Downloading http://136.156.132.201/cache-compute-0004/cache/data4/adaptor.mars.internal-1592100891.6798377-7612-33-4fe3740f-35d4-4975-81dc-7e54f4424b42.nc to /home/nicolasf/research/CPP/indices/data/ERA5/daily/ERA5_daily_geopotential_1000_2019-05-23.nc (192.2K)\n",
      "2020-06-14 14:14:54,978 INFO Download rate 103.9K/s\n"
     ]
    },
    {
     "name": "stdout",
     "output_type": "stream",
     "text": [
      "downloading /home/nicolasf/research/CPP/indices/data/ERA5/daily/ERA5_daily_geopotential_1000_2019-05-24.nc\n"
     ]
    },
    {
     "name": "stderr",
     "output_type": "stream",
     "text": [
      "2020-06-14 14:14:56,610 INFO Welcome to the CDS\n",
      "2020-06-14 14:14:56,610 INFO Sending request to https://cds.climate.copernicus.eu/api/v2/resources/reanalysis-era5-pressure-levels\n",
      "2020-06-14 14:14:57,887 INFO Request is queued\n",
      "2020-06-14 14:14:59,269 INFO Request is completed\n",
      "2020-06-14 14:14:59,271 INFO Downloading http://136.156.133.46/cache-compute-0015/cache/data5/adaptor.mars.internal-1592100897.8619869-6166-11-b8b7f65f-c217-45d1-8894-a79c7a60ab90.nc to /home/nicolasf/research/CPP/indices/data/ERA5/daily/ERA5_daily_geopotential_1000_2019-05-24.nc (192.2K)\n",
      "2020-06-14 14:15:01,119 INFO Download rate 104.2K/s\n"
     ]
    },
    {
     "name": "stdout",
     "output_type": "stream",
     "text": [
      "downloading /home/nicolasf/research/CPP/indices/data/ERA5/daily/ERA5_daily_geopotential_1000_2019-05-25.nc\n"
     ]
    },
    {
     "name": "stderr",
     "output_type": "stream",
     "text": [
      "2020-06-14 14:15:02,719 INFO Welcome to the CDS\n",
      "2020-06-14 14:15:02,721 INFO Sending request to https://cds.climate.copernicus.eu/api/v2/resources/reanalysis-era5-pressure-levels\n",
      "2020-06-14 14:15:03,979 INFO Request is queued\n",
      "2020-06-14 14:15:05,262 INFO Request is running\n",
      "2020-06-14 14:15:07,154 INFO Request is completed\n",
      "2020-06-14 14:15:07,156 INFO Downloading http://136.156.132.105/cache-compute-0000/cache/data7/adaptor.mars.internal-1592100904.4503944-29367-11-158cfbe0-c93b-4c06-8b85-964738a5a26e.nc to /home/nicolasf/research/CPP/indices/data/ERA5/daily/ERA5_daily_geopotential_1000_2019-05-25.nc (192.2K)\n",
      "2020-06-14 14:15:09,004 INFO Download rate 104.1K/s\n"
     ]
    },
    {
     "name": "stdout",
     "output_type": "stream",
     "text": [
      "downloading /home/nicolasf/research/CPP/indices/data/ERA5/daily/ERA5_daily_geopotential_1000_2019-05-26.nc\n"
     ]
    },
    {
     "name": "stderr",
     "output_type": "stream",
     "text": [
      "2020-06-14 14:15:10,844 INFO Welcome to the CDS\n",
      "2020-06-14 14:15:10,845 INFO Sending request to https://cds.climate.copernicus.eu/api/v2/resources/reanalysis-era5-pressure-levels\n",
      "2020-06-14 14:15:12,274 INFO Request is queued\n",
      "2020-06-14 14:15:13,606 INFO Request is completed\n",
      "2020-06-14 14:15:13,608 INFO Downloading http://136.156.132.201/cache-compute-0004/cache/data5/adaptor.mars.internal-1592100912.270586-17183-1-7bfa3dbe-45ad-4fa5-bf75-f56d56ad6d47.nc to /home/nicolasf/research/CPP/indices/data/ERA5/daily/ERA5_daily_geopotential_1000_2019-05-26.nc (192.2K)\n",
      "2020-06-14 14:15:15,455 INFO Download rate 104.2K/s\n"
     ]
    },
    {
     "name": "stdout",
     "output_type": "stream",
     "text": [
      "downloading /home/nicolasf/research/CPP/indices/data/ERA5/daily/ERA5_daily_geopotential_1000_2019-05-27.nc\n"
     ]
    },
    {
     "name": "stderr",
     "output_type": "stream",
     "text": [
      "2020-06-14 14:15:17,091 INFO Welcome to the CDS\n",
      "2020-06-14 14:15:17,091 INFO Sending request to https://cds.climate.copernicus.eu/api/v2/resources/reanalysis-era5-pressure-levels\n",
      "2020-06-14 14:15:18,364 INFO Request is queued\n",
      "2020-06-14 14:15:19,750 INFO Request is completed\n",
      "2020-06-14 14:15:19,751 INFO Downloading http://136.156.133.42/cache-compute-0014/cache/data4/adaptor.mars.internal-1592100918.5967767-12543-3-a5610496-e81d-4871-85d3-940016da1fe7.nc to /home/nicolasf/research/CPP/indices/data/ERA5/daily/ERA5_daily_geopotential_1000_2019-05-27.nc (192.2K)\n",
      "2020-06-14 14:15:21,904 INFO Download rate 89.4K/s \n"
     ]
    },
    {
     "name": "stdout",
     "output_type": "stream",
     "text": [
      "downloading /home/nicolasf/research/CPP/indices/data/ERA5/daily/ERA5_daily_geopotential_1000_2019-05-28.nc\n"
     ]
    },
    {
     "name": "stderr",
     "output_type": "stream",
     "text": [
      "2020-06-14 14:15:23,407 INFO Welcome to the CDS\n",
      "2020-06-14 14:15:23,407 INFO Sending request to https://cds.climate.copernicus.eu/api/v2/resources/reanalysis-era5-pressure-levels\n",
      "2020-06-14 14:15:24,649 INFO Request is queued\n",
      "2020-06-14 14:15:25,996 INFO Request is completed\n",
      "2020-06-14 14:15:25,998 INFO Downloading http://136.156.133.32/cache-compute-0009/cache/data8/adaptor.mars.internal-1592100924.5765727-31352-20-16f2159b-4842-4668-8a0c-c4b815dd9032.nc to /home/nicolasf/research/CPP/indices/data/ERA5/daily/ERA5_daily_geopotential_1000_2019-05-28.nc (192.2K)\n",
      "2020-06-14 14:15:27,848 INFO Download rate 104K/s  \n"
     ]
    },
    {
     "name": "stdout",
     "output_type": "stream",
     "text": [
      "downloading /home/nicolasf/research/CPP/indices/data/ERA5/daily/ERA5_daily_geopotential_1000_2019-05-29.nc\n"
     ]
    },
    {
     "name": "stderr",
     "output_type": "stream",
     "text": [
      "2020-06-14 14:15:29,481 INFO Welcome to the CDS\n",
      "2020-06-14 14:15:29,482 INFO Sending request to https://cds.climate.copernicus.eu/api/v2/resources/reanalysis-era5-pressure-levels\n",
      "2020-06-14 14:15:31,116 INFO Request is queued\n",
      "2020-06-14 14:15:32,447 INFO Request is completed\n",
      "2020-06-14 14:15:32,449 INFO Downloading http://136.156.132.153/cache-compute-0002/cache/data3/adaptor.mars.internal-1592100930.9901826-6983-18-74650ee7-ac5c-4639-ada5-478043b088b8.nc to /home/nicolasf/research/CPP/indices/data/ERA5/daily/ERA5_daily_geopotential_1000_2019-05-29.nc (192.2K)\n",
      "2020-06-14 14:15:34,299 INFO Download rate 104K/s  \n"
     ]
    },
    {
     "name": "stdout",
     "output_type": "stream",
     "text": [
      "downloading /home/nicolasf/research/CPP/indices/data/ERA5/daily/ERA5_daily_geopotential_1000_2019-05-30.nc\n"
     ]
    },
    {
     "name": "stderr",
     "output_type": "stream",
     "text": [
      "2020-06-14 14:15:35,830 INFO Welcome to the CDS\n",
      "2020-06-14 14:15:35,831 INFO Sending request to https://cds.climate.copernicus.eu/api/v2/resources/reanalysis-era5-pressure-levels\n",
      "2020-06-14 14:15:37,249 INFO Request is queued\n",
      "2020-06-14 14:15:38,594 INFO Request is completed\n",
      "2020-06-14 14:15:38,595 INFO Downloading http://136.156.133.25/cache-compute-0008/cache/data6/adaptor.mars.internal-1592100937.4320269-22963-18-e25f4288-7c28-49dc-9649-fd7971f6f47c.nc to /home/nicolasf/research/CPP/indices/data/ERA5/daily/ERA5_daily_geopotential_1000_2019-05-30.nc (192.2K)\n",
      "2020-06-14 14:15:40,440 INFO Download rate 104.3K/s\n"
     ]
    },
    {
     "name": "stdout",
     "output_type": "stream",
     "text": [
      "downloading /home/nicolasf/research/CPP/indices/data/ERA5/daily/ERA5_daily_geopotential_1000_2019-05-31.nc\n"
     ]
    },
    {
     "name": "stderr",
     "output_type": "stream",
     "text": [
      "2020-06-14 14:15:42,077 INFO Welcome to the CDS\n",
      "2020-06-14 14:15:42,077 INFO Sending request to https://cds.climate.copernicus.eu/api/v2/resources/reanalysis-era5-pressure-levels\n",
      "2020-06-14 14:15:43,305 INFO Request is queued\n",
      "2020-06-14 14:15:44,634 INFO Request is completed\n",
      "2020-06-14 14:15:44,635 INFO Downloading http://136.156.132.201/cache-compute-0004/cache/data7/adaptor.mars.internal-1592100943.3297484-14660-5-915641b9-aeb1-4333-b7c6-7c4f265bd70a.nc to /home/nicolasf/research/CPP/indices/data/ERA5/daily/ERA5_daily_geopotential_1000_2019-05-31.nc (192.2K)\n",
      "2020-06-14 14:15:46,483 INFO Download rate 104.1K/s\n"
     ]
    },
    {
     "name": "stdout",
     "output_type": "stream",
     "text": [
      "downloading /home/nicolasf/research/CPP/indices/data/ERA5/daily/ERA5_daily_geopotential_1000_2019-06-01.nc\n"
     ]
    },
    {
     "name": "stderr",
     "output_type": "stream",
     "text": [
      "2020-06-14 14:15:48,016 INFO Welcome to the CDS\n",
      "2020-06-14 14:15:48,018 INFO Sending request to https://cds.climate.copernicus.eu/api/v2/resources/reanalysis-era5-pressure-levels\n",
      "2020-06-14 14:15:49,312 INFO Request is queued\n",
      "2020-06-14 14:15:50,675 INFO Request is completed\n",
      "2020-06-14 14:15:50,677 INFO Downloading http://136.156.133.46/cache-compute-0015/cache/data5/adaptor.mars.internal-1592100949.3271291-6460-11-747bf797-8815-4096-a018-f3a10646ded0.nc to /home/nicolasf/research/CPP/indices/data/ERA5/daily/ERA5_daily_geopotential_1000_2019-06-01.nc (192.2K)\n",
      "2020-06-14 14:15:52,527 INFO Download rate 104K/s  \n"
     ]
    },
    {
     "name": "stdout",
     "output_type": "stream",
     "text": [
      "downloading /home/nicolasf/research/CPP/indices/data/ERA5/daily/ERA5_daily_geopotential_1000_2019-06-02.nc\n"
     ]
    },
    {
     "name": "stderr",
     "output_type": "stream",
     "text": [
      "2020-06-14 14:15:54,038 INFO Welcome to the CDS\n",
      "2020-06-14 14:15:54,039 INFO Sending request to https://cds.climate.copernicus.eu/api/v2/resources/reanalysis-era5-pressure-levels\n",
      "2020-06-14 14:15:55,313 INFO Request is queued\n",
      "2020-06-14 14:15:56,615 INFO Request is completed\n",
      "2020-06-14 14:15:56,616 INFO Downloading http://136.156.133.25/cache-compute-0008/cache/data0/adaptor.mars.internal-1592100955.4804938-29721-3-32694114-fb0d-4b2b-81f0-3c60feae70ac.nc to /home/nicolasf/research/CPP/indices/data/ERA5/daily/ERA5_daily_geopotential_1000_2019-06-02.nc (192.2K)\n",
      "2020-06-14 14:15:58,465 INFO Download rate 104.1K/s\n"
     ]
    },
    {
     "name": "stdout",
     "output_type": "stream",
     "text": [
      "downloading /home/nicolasf/research/CPP/indices/data/ERA5/daily/ERA5_daily_geopotential_1000_2019-06-03.nc\n"
     ]
    },
    {
     "name": "stderr",
     "output_type": "stream",
     "text": [
      "2020-06-14 14:15:59,997 INFO Welcome to the CDS\n",
      "2020-06-14 14:15:59,998 INFO Sending request to https://cds.climate.copernicus.eu/api/v2/resources/reanalysis-era5-pressure-levels\n",
      "2020-06-14 14:16:01,262 INFO Request is queued\n",
      "2020-06-14 14:16:02,554 INFO Request is completed\n",
      "2020-06-14 14:16:02,556 INFO Downloading http://136.156.132.236/cache-compute-0007/cache/data6/adaptor.mars.internal-1592100961.4937854-9393-14-3aafc0c0-422c-43f6-a9d5-a918fc22679e.nc to /home/nicolasf/research/CPP/indices/data/ERA5/daily/ERA5_daily_geopotential_1000_2019-06-03.nc (192.2K)\n",
      "2020-06-14 14:16:04,403 INFO Download rate 104.2K/s\n"
     ]
    },
    {
     "name": "stdout",
     "output_type": "stream",
     "text": [
      "downloading /home/nicolasf/research/CPP/indices/data/ERA5/daily/ERA5_daily_geopotential_1000_2019-06-04.nc\n"
     ]
    },
    {
     "name": "stderr",
     "output_type": "stream",
     "text": [
      "2020-06-14 14:16:06,039 INFO Welcome to the CDS\n",
      "2020-06-14 14:16:06,040 INFO Sending request to https://cds.climate.copernicus.eu/api/v2/resources/reanalysis-era5-pressure-levels\n",
      "2020-06-14 14:16:13,921 INFO Request is queued\n",
      "2020-06-14 14:16:15,251 INFO Request is completed\n",
      "2020-06-14 14:16:15,253 INFO Downloading http://136.156.132.105/cache-compute-0000/cache/data0/adaptor.mars.internal-1592100973.6814764-26441-27-f8019927-d0fa-417f-b513-0e6f11d4db26.nc to /home/nicolasf/research/CPP/indices/data/ERA5/daily/ERA5_daily_geopotential_1000_2019-06-04.nc (192.2K)\n",
      "2020-06-14 14:16:17,099 INFO Download rate 104.3K/s\n"
     ]
    },
    {
     "name": "stdout",
     "output_type": "stream",
     "text": [
      "downloading /home/nicolasf/research/CPP/indices/data/ERA5/daily/ERA5_daily_geopotential_1000_2019-06-05.nc\n"
     ]
    },
    {
     "name": "stderr",
     "output_type": "stream",
     "text": [
      "2020-06-14 14:16:18,634 INFO Welcome to the CDS\n",
      "2020-06-14 14:16:18,635 INFO Sending request to https://cds.climate.copernicus.eu/api/v2/resources/reanalysis-era5-pressure-levels\n",
      "2020-06-14 14:16:19,878 INFO Request is queued\n",
      "2020-06-14 14:16:21,191 INFO Request is completed\n",
      "2020-06-14 14:16:21,193 INFO Downloading http://136.156.133.42/cache-compute-0014/cache/data6/adaptor.mars.internal-1592100979.9172158-9090-15-c851a851-d4b3-425b-9107-b0008214f991.nc to /home/nicolasf/research/CPP/indices/data/ERA5/daily/ERA5_daily_geopotential_1000_2019-06-05.nc (192.2K)\n",
      "2020-06-14 14:16:23,040 INFO Download rate 104.1K/s\n"
     ]
    },
    {
     "name": "stdout",
     "output_type": "stream",
     "text": [
      "downloading /home/nicolasf/research/CPP/indices/data/ERA5/daily/ERA5_daily_geopotential_1000_2019-06-06.nc\n"
     ]
    },
    {
     "name": "stderr",
     "output_type": "stream",
     "text": [
      "2020-06-14 14:16:24,574 INFO Welcome to the CDS\n",
      "2020-06-14 14:16:24,575 INFO Sending request to https://cds.climate.copernicus.eu/api/v2/resources/reanalysis-era5-pressure-levels\n",
      "2020-06-14 14:16:25,816 INFO Request is queued\n",
      "2020-06-14 14:16:27,131 INFO Request is completed\n",
      "2020-06-14 14:16:27,132 INFO Downloading http://136.156.133.42/cache-compute-0014/cache/data4/adaptor.mars.internal-1592100985.753874-13295-3-f4603fd2-69bc-45d2-9bd0-c2cc1fd6505d.nc to /home/nicolasf/research/CPP/indices/data/ERA5/daily/ERA5_daily_geopotential_1000_2019-06-06.nc (192.2K)\n",
      "2020-06-14 14:16:28,943 INFO Download rate 106.3K/s\n"
     ]
    },
    {
     "name": "stdout",
     "output_type": "stream",
     "text": [
      "downloading /home/nicolasf/research/CPP/indices/data/ERA5/daily/ERA5_daily_geopotential_1000_2019-06-07.nc\n"
     ]
    },
    {
     "name": "stderr",
     "output_type": "stream",
     "text": [
      "2020-06-14 14:16:30,616 INFO Welcome to the CDS\n",
      "2020-06-14 14:16:30,617 INFO Sending request to https://cds.climate.copernicus.eu/api/v2/resources/reanalysis-era5-pressure-levels\n",
      "2020-06-14 14:16:32,967 INFO Request is queued\n",
      "2020-06-14 14:16:34,299 INFO Request is completed\n",
      "2020-06-14 14:16:34,300 INFO Downloading http://136.156.133.36/cache-compute-0010/cache/data3/adaptor.mars.internal-1592100992.9598455-13397-34-7bed08cf-a882-4a40-b90a-4a69b7ef29ec.nc to /home/nicolasf/research/CPP/indices/data/ERA5/daily/ERA5_daily_geopotential_1000_2019-06-07.nc (192.2K)\n",
      "2020-06-14 14:16:36,148 INFO Download rate 104.2K/s\n"
     ]
    },
    {
     "name": "stdout",
     "output_type": "stream",
     "text": [
      "downloading /home/nicolasf/research/CPP/indices/data/ERA5/daily/ERA5_daily_geopotential_1000_2019-06-08.nc\n"
     ]
    },
    {
     "name": "stderr",
     "output_type": "stream",
     "text": [
      "2020-06-14 14:16:37,784 INFO Welcome to the CDS\n",
      "2020-06-14 14:16:37,786 INFO Sending request to https://cds.climate.copernicus.eu/api/v2/resources/reanalysis-era5-pressure-levels\n",
      "2020-06-14 14:16:39,108 INFO Request is queued\n",
      "2020-06-14 14:16:40,443 INFO Request is completed\n",
      "2020-06-14 14:16:40,445 INFO Downloading http://136.156.133.25/cache-compute-0008/cache/data9/adaptor.mars.internal-1592100999.1044583-24080-16-486579ec-7474-4c9f-aa8d-964d390bfd5a.nc to /home/nicolasf/research/CPP/indices/data/ERA5/daily/ERA5_daily_geopotential_1000_2019-06-08.nc (192.2K)\n",
      "2020-06-14 14:16:42,290 INFO Download rate 104.2K/s\n"
     ]
    },
    {
     "name": "stdout",
     "output_type": "stream",
     "text": [
      "downloading /home/nicolasf/research/CPP/indices/data/ERA5/daily/ERA5_daily_geopotential_1000_2019-06-09.nc\n"
     ]
    },
    {
     "name": "stderr",
     "output_type": "stream",
     "text": [
      "2020-06-14 14:16:43,929 INFO Welcome to the CDS\n",
      "2020-06-14 14:16:43,929 INFO Sending request to https://cds.climate.copernicus.eu/api/v2/resources/reanalysis-era5-pressure-levels\n",
      "2020-06-14 14:16:45,206 INFO Request is queued\n",
      "2020-06-14 14:16:46,492 INFO Request is completed\n",
      "2020-06-14 14:16:46,493 INFO Downloading http://136.156.133.32/cache-compute-0009/cache/data0/adaptor.mars.internal-1592101005.4391112-31109-21-294bc121-42fb-4b88-b494-42b967a76258.nc to /home/nicolasf/research/CPP/indices/data/ERA5/daily/ERA5_daily_geopotential_1000_2019-06-09.nc (192.2K)\n",
      "2020-06-14 14:16:48,334 INFO Download rate 104.5K/s\n"
     ]
    },
    {
     "name": "stdout",
     "output_type": "stream",
     "text": [
      "downloading /home/nicolasf/research/CPP/indices/data/ERA5/daily/ERA5_daily_geopotential_1000_2019-06-10.nc\n"
     ]
    },
    {
     "name": "stderr",
     "output_type": "stream",
     "text": [
      "2020-06-14 14:16:50,175 INFO Welcome to the CDS\n",
      "2020-06-14 14:16:50,175 INFO Sending request to https://cds.climate.copernicus.eu/api/v2/resources/reanalysis-era5-pressure-levels\n",
      "2020-06-14 14:16:51,707 INFO Request is queued\n",
      "2020-06-14 14:16:53,039 INFO Request is running\n",
      "2020-06-14 14:16:54,882 INFO Request is completed\n",
      "2020-06-14 14:16:54,884 INFO Downloading http://136.156.133.42/cache-compute-0014/cache/data7/adaptor.mars.internal-1592101012.1273942-12988-5-c8216922-8854-4960-bfc9-9b0d85562fb8.nc to /home/nicolasf/research/CPP/indices/data/ERA5/daily/ERA5_daily_geopotential_1000_2019-06-10.nc (192.2K)\n",
      "2020-06-14 14:16:56,731 INFO Download rate 104.2K/s\n"
     ]
    },
    {
     "name": "stdout",
     "output_type": "stream",
     "text": [
      "downloading /home/nicolasf/research/CPP/indices/data/ERA5/daily/ERA5_daily_geopotential_1000_2019-06-11.nc\n"
     ]
    },
    {
     "name": "stderr",
     "output_type": "stream",
     "text": [
      "2020-06-14 14:16:58,675 INFO Welcome to the CDS\n",
      "2020-06-14 14:16:58,675 INFO Sending request to https://cds.climate.copernicus.eu/api/v2/resources/reanalysis-era5-pressure-levels\n",
      "2020-06-14 14:16:59,936 INFO Request is queued\n",
      "2020-06-14 14:17:01,232 INFO Request is running\n",
      "2020-06-14 14:17:03,074 INFO Request is completed\n",
      "2020-06-14 14:17:03,076 INFO Downloading http://136.156.133.42/cache-compute-0014/cache/data0/adaptor.mars.internal-1592101020.4098105-6426-20-6d5f33ca-7580-4e74-8365-49b71df11af1.nc to /home/nicolasf/research/CPP/indices/data/ERA5/daily/ERA5_daily_geopotential_1000_2019-06-11.nc (192.2K)\n",
      "2020-06-14 14:17:04,923 INFO Download rate 104.2K/s\n"
     ]
    },
    {
     "name": "stdout",
     "output_type": "stream",
     "text": [
      "downloading /home/nicolasf/research/CPP/indices/data/ERA5/daily/ERA5_daily_geopotential_1000_2019-06-12.nc\n"
     ]
    },
    {
     "name": "stderr",
     "output_type": "stream",
     "text": [
      "2020-06-14 14:17:06,560 INFO Welcome to the CDS\n",
      "2020-06-14 14:17:06,561 INFO Sending request to https://cds.climate.copernicus.eu/api/v2/resources/reanalysis-era5-pressure-levels\n",
      "2020-06-14 14:17:08,091 INFO Request is queued\n",
      "2020-06-14 14:17:11,266 INFO Request is completed\n",
      "2020-06-14 14:17:11,268 INFO Downloading http://136.156.132.110/cache-compute-0001/cache/data4/adaptor.mars.internal-1592101029.5688615-15679-3-15b225c7-5240-40d6-8e6d-08ccae53d9ef.nc to /home/nicolasf/research/CPP/indices/data/ERA5/daily/ERA5_daily_geopotential_1000_2019-06-12.nc (192.2K)\n",
      "2020-06-14 14:17:13,115 INFO Download rate 104.1K/s\n"
     ]
    },
    {
     "name": "stdout",
     "output_type": "stream",
     "text": [
      "downloading /home/nicolasf/research/CPP/indices/data/ERA5/daily/ERA5_daily_geopotential_1000_2019-06-13.nc\n"
     ]
    },
    {
     "name": "stderr",
     "output_type": "stream",
     "text": [
      "2020-06-14 14:17:14,751 INFO Welcome to the CDS\n",
      "2020-06-14 14:17:14,752 INFO Sending request to https://cds.climate.copernicus.eu/api/v2/resources/reanalysis-era5-pressure-levels\n",
      "2020-06-14 14:17:16,592 INFO Request is queued\n",
      "2020-06-14 14:17:17,922 INFO Request is running\n",
      "2020-06-14 14:17:19,766 INFO Request is completed\n",
      "2020-06-14 14:17:19,767 INFO Downloading http://136.156.132.110/cache-compute-0001/cache/data4/adaptor.mars.internal-1592101037.3292608-5570-32-b416bb73-5f21-4d95-87aa-c4711a3a1352.nc to /home/nicolasf/research/CPP/indices/data/ERA5/daily/ERA5_daily_geopotential_1000_2019-06-13.nc (192.2K)\n",
      "2020-06-14 14:17:21,616 INFO Download rate 104.1K/s\n"
     ]
    },
    {
     "name": "stdout",
     "output_type": "stream",
     "text": [
      "downloading /home/nicolasf/research/CPP/indices/data/ERA5/daily/ERA5_daily_geopotential_1000_2019-06-14.nc\n"
     ]
    },
    {
     "name": "stderr",
     "output_type": "stream",
     "text": [
      "2020-06-14 14:17:23,355 INFO Welcome to the CDS\n",
      "2020-06-14 14:17:23,356 INFO Sending request to https://cds.climate.copernicus.eu/api/v2/resources/reanalysis-era5-pressure-levels\n",
      "2020-06-14 14:17:24,988 INFO Request is queued\n",
      "2020-06-14 14:17:26,320 INFO Request is running\n",
      "2020-06-14 14:17:28,163 INFO Request is completed\n",
      "2020-06-14 14:17:28,165 INFO Downloading http://136.156.133.42/cache-compute-0014/cache/data7/adaptor.mars.internal-1592101045.1194541-13278-5-577a97ca-49ea-45ac-ae36-a0dad1a42f5a.nc to /home/nicolasf/research/CPP/indices/data/ERA5/daily/ERA5_daily_geopotential_1000_2019-06-14.nc (192.2K)\n",
      "2020-06-14 14:17:30,013 INFO Download rate 104.1K/s\n"
     ]
    },
    {
     "name": "stdout",
     "output_type": "stream",
     "text": [
      "downloading /home/nicolasf/research/CPP/indices/data/ERA5/daily/ERA5_daily_geopotential_1000_2019-06-15.nc\n"
     ]
    },
    {
     "name": "stderr",
     "output_type": "stream",
     "text": [
      "2020-06-14 14:17:31,922 INFO Welcome to the CDS\n",
      "2020-06-14 14:17:31,923 INFO Sending request to https://cds.climate.copernicus.eu/api/v2/resources/reanalysis-era5-pressure-levels\n",
      "2020-06-14 14:17:34,409 INFO Request is queued\n",
      "2020-06-14 14:17:35,740 INFO Request is running\n",
      "2020-06-14 14:17:37,584 INFO Request is completed\n",
      "2020-06-14 14:17:37,586 INFO Downloading http://136.156.133.41/cache-compute-0013/cache/data0/adaptor.mars.internal-1592101054.976841-9872-9-5e1b8a06-2c5c-4e48-ba13-d4f30e54af2a.nc to /home/nicolasf/research/CPP/indices/data/ERA5/daily/ERA5_daily_geopotential_1000_2019-06-15.nc (192.2K)\n",
      "2020-06-14 14:17:39,434 INFO Download rate 104.1K/s\n"
     ]
    },
    {
     "name": "stdout",
     "output_type": "stream",
     "text": [
      "downloading /home/nicolasf/research/CPP/indices/data/ERA5/daily/ERA5_daily_geopotential_1000_2019-06-16.nc\n"
     ]
    },
    {
     "name": "stderr",
     "output_type": "stream",
     "text": [
      "2020-06-14 14:17:40,967 INFO Welcome to the CDS\n",
      "2020-06-14 14:17:40,968 INFO Sending request to https://cds.climate.copernicus.eu/api/v2/resources/reanalysis-era5-pressure-levels\n",
      "2020-06-14 14:17:42,499 INFO Request is queued\n",
      "2020-06-14 14:17:43,830 INFO Request is running\n",
      "2020-06-14 14:17:45,673 INFO Request is completed\n",
      "2020-06-14 14:17:45,675 INFO Downloading http://136.156.133.25/cache-compute-0008/cache/data6/adaptor.mars.internal-1592101062.6410887-24069-18-b9d8efe6-2379-45aa-942a-76e483775f08.nc to /home/nicolasf/research/CPP/indices/data/ERA5/daily/ERA5_daily_geopotential_1000_2019-06-16.nc (192.2K)\n",
      "2020-06-14 14:17:47,523 INFO Download rate 104.1K/s\n"
     ]
    },
    {
     "name": "stdout",
     "output_type": "stream",
     "text": [
      "downloading /home/nicolasf/research/CPP/indices/data/ERA5/daily/ERA5_daily_geopotential_1000_2019-06-17.nc\n"
     ]
    },
    {
     "name": "stderr",
     "output_type": "stream",
     "text": [
      "2020-06-14 14:17:49,773 INFO Welcome to the CDS\n",
      "2020-06-14 14:17:49,774 INFO Sending request to https://cds.climate.copernicus.eu/api/v2/resources/reanalysis-era5-pressure-levels\n",
      "2020-06-14 14:17:51,047 INFO Request is queued\n",
      "2020-06-14 14:17:52,432 INFO Request is running\n",
      "2020-06-14 14:17:54,275 INFO Request is completed\n",
      "2020-06-14 14:17:54,277 INFO Downloading http://136.156.133.25/cache-compute-0008/cache/data5/adaptor.mars.internal-1592101071.8320634-30833-1-f667af16-b267-4a4f-847a-33f2a29c58d6.nc to /home/nicolasf/research/CPP/indices/data/ERA5/daily/ERA5_daily_geopotential_1000_2019-06-17.nc (192.2K)\n",
      "2020-06-14 14:17:56,124 INFO Download rate 104.2K/s\n"
     ]
    },
    {
     "name": "stdout",
     "output_type": "stream",
     "text": [
      "downloading /home/nicolasf/research/CPP/indices/data/ERA5/daily/ERA5_daily_geopotential_1000_2019-06-18.nc\n"
     ]
    },
    {
     "name": "stderr",
     "output_type": "stream",
     "text": [
      "2020-06-14 14:17:57,760 INFO Welcome to the CDS\n",
      "2020-06-14 14:17:57,761 INFO Sending request to https://cds.climate.copernicus.eu/api/v2/resources/reanalysis-era5-pressure-levels\n",
      "2020-06-14 14:17:59,293 INFO Request is queued\n",
      "2020-06-14 14:18:00,625 INFO Request is completed\n",
      "2020-06-14 14:18:00,626 INFO Downloading http://136.156.133.42/cache-compute-0014/cache/data1/adaptor.mars.internal-1592101079.4340897-11084-9-dc5583ec-d682-439d-9b65-41a537b33c1a.nc to /home/nicolasf/research/CPP/indices/data/ERA5/daily/ERA5_daily_geopotential_1000_2019-06-18.nc (192.2K)\n",
      "2020-06-14 14:18:02,475 INFO Download rate 104.1K/s\n"
     ]
    },
    {
     "name": "stdout",
     "output_type": "stream",
     "text": [
      "downloading /home/nicolasf/research/CPP/indices/data/ERA5/daily/ERA5_daily_geopotential_1000_2019-06-19.nc\n"
     ]
    },
    {
     "name": "stderr",
     "output_type": "stream",
     "text": [
      "2020-06-14 14:18:04,110 INFO Welcome to the CDS\n",
      "2020-06-14 14:18:04,110 INFO Sending request to https://cds.climate.copernicus.eu/api/v2/resources/reanalysis-era5-pressure-levels\n",
      "2020-06-14 14:18:05,344 INFO Request is queued\n",
      "2020-06-14 14:18:06,666 INFO Request is completed\n",
      "2020-06-14 14:18:06,668 INFO Downloading http://136.156.133.39/cache-compute-0012/cache/data0/adaptor.mars.internal-1592101085.5775962-1101-14-030cfa80-7340-40de-9a9d-dca8c069ae56.nc to /home/nicolasf/research/CPP/indices/data/ERA5/daily/ERA5_daily_geopotential_1000_2019-06-19.nc (192.2K)\n",
      "2020-06-14 14:18:08,516 INFO Download rate 104.1K/s\n"
     ]
    },
    {
     "name": "stdout",
     "output_type": "stream",
     "text": [
      "downloading /home/nicolasf/research/CPP/indices/data/ERA5/daily/ERA5_daily_geopotential_1000_2019-06-20.nc\n"
     ]
    },
    {
     "name": "stderr",
     "output_type": "stream",
     "text": [
      "2020-06-14 14:18:10,148 INFO Welcome to the CDS\n",
      "2020-06-14 14:18:10,149 INFO Sending request to https://cds.climate.copernicus.eu/api/v2/resources/reanalysis-era5-pressure-levels\n",
      "2020-06-14 14:18:11,425 INFO Request is queued\n",
      "2020-06-14 14:18:12,811 INFO Request is running\n",
      "2020-06-14 14:18:14,654 INFO Request is completed\n",
      "2020-06-14 14:18:14,656 INFO Downloading http://136.156.133.46/cache-compute-0015/cache/data0/adaptor.mars.internal-1592101091.5404325-14104-15-b559477b-83af-43c3-bfc8-eecbb8115f77.nc to /home/nicolasf/research/CPP/indices/data/ERA5/daily/ERA5_daily_geopotential_1000_2019-06-20.nc (192.2K)\n",
      "2020-06-14 14:18:16,505 INFO Download rate 104.1K/s\n"
     ]
    },
    {
     "name": "stdout",
     "output_type": "stream",
     "text": [
      "downloading /home/nicolasf/research/CPP/indices/data/ERA5/daily/ERA5_daily_geopotential_1000_2019-06-21.nc\n"
     ]
    },
    {
     "name": "stderr",
     "output_type": "stream",
     "text": [
      "2020-06-14 14:18:18,549 INFO Welcome to the CDS\n",
      "2020-06-14 14:18:18,549 INFO Sending request to https://cds.climate.copernicus.eu/api/v2/resources/reanalysis-era5-pressure-levels\n",
      "2020-06-14 14:18:19,852 INFO Request is queued\n",
      "2020-06-14 14:18:21,207 INFO Request is completed\n",
      "2020-06-14 14:18:21,209 INFO Downloading http://136.156.133.37/cache-compute-0011/cache/data8/adaptor.mars.internal-1592101100.1164246-14114-3-39acfaef-99c6-4d43-950a-3e9c3b82f492.nc to /home/nicolasf/research/CPP/indices/data/ERA5/daily/ERA5_daily_geopotential_1000_2019-06-21.nc (192.2K)\n",
      "2020-06-14 14:18:23,361 INFO Download rate 89.4K/s \n"
     ]
    },
    {
     "name": "stdout",
     "output_type": "stream",
     "text": [
      "downloading /home/nicolasf/research/CPP/indices/data/ERA5/daily/ERA5_daily_geopotential_1000_2019-06-22.nc\n"
     ]
    },
    {
     "name": "stderr",
     "output_type": "stream",
     "text": [
      "2020-06-14 14:18:25,201 INFO Welcome to the CDS\n",
      "2020-06-14 14:18:25,201 INFO Sending request to https://cds.climate.copernicus.eu/api/v2/resources/reanalysis-era5-pressure-levels\n",
      "2020-06-14 14:18:26,517 INFO Request is queued\n",
      "2020-06-14 14:18:27,863 INFO Request is running\n",
      "2020-06-14 14:18:29,707 INFO Request is completed\n",
      "2020-06-14 14:18:29,710 INFO Downloading http://136.156.133.37/cache-compute-0011/cache/data0/adaptor.mars.internal-1592101106.9155562-6006-22-6e86edfb-cf34-40d6-983a-118306b68d02.nc to /home/nicolasf/research/CPP/indices/data/ERA5/daily/ERA5_daily_geopotential_1000_2019-06-22.nc (192.2K)\n",
      "2020-06-14 14:18:31,556 INFO Download rate 104.2K/s\n"
     ]
    },
    {
     "name": "stdout",
     "output_type": "stream",
     "text": [
      "downloading /home/nicolasf/research/CPP/indices/data/ERA5/daily/ERA5_daily_geopotential_1000_2019-06-23.nc\n"
     ]
    },
    {
     "name": "stderr",
     "output_type": "stream",
     "text": [
      "2020-06-14 14:18:33,192 INFO Welcome to the CDS\n",
      "2020-06-14 14:18:33,192 INFO Sending request to https://cds.climate.copernicus.eu/api/v2/resources/reanalysis-era5-pressure-levels\n",
      "2020-06-14 14:18:34,622 INFO Request is queued\n",
      "2020-06-14 14:18:35,954 INFO Request is running\n",
      "2020-06-14 14:18:37,797 INFO Request is completed\n",
      "2020-06-14 14:18:37,798 INFO Downloading http://136.156.133.32/cache-compute-0009/cache/data7/adaptor.mars.internal-1592101114.71106-8634-1-23d2cee4-0bb8-4644-a0c1-3f0c9100b295.nc to /home/nicolasf/research/CPP/indices/data/ERA5/daily/ERA5_daily_geopotential_1000_2019-06-23.nc (192.2K)\n",
      "2020-06-14 14:18:39,751 INFO Download rate 98.5K/s \n"
     ]
    },
    {
     "name": "stdout",
     "output_type": "stream",
     "text": [
      "downloading /home/nicolasf/research/CPP/indices/data/ERA5/daily/ERA5_daily_geopotential_1000_2019-06-24.nc\n"
     ]
    },
    {
     "name": "stderr",
     "output_type": "stream",
     "text": [
      "2020-06-14 14:18:41,384 INFO Welcome to the CDS\n",
      "2020-06-14 14:18:41,385 INFO Sending request to https://cds.climate.copernicus.eu/api/v2/resources/reanalysis-era5-pressure-levels\n",
      "2020-06-14 14:18:43,224 INFO Request is queued\n",
      "2020-06-14 14:18:44,555 INFO Request is completed\n",
      "2020-06-14 14:18:44,557 INFO Downloading http://136.156.132.153/cache-compute-0002/cache/data8/adaptor.mars.internal-1592101123.2051435-6501-26-8abd6903-3972-4e08-bc56-65be5aa3c253.nc to /home/nicolasf/research/CPP/indices/data/ERA5/daily/ERA5_daily_geopotential_1000_2019-06-24.nc (192.2K)\n",
      "2020-06-14 14:18:46,403 INFO Download rate 104.2K/s\n"
     ]
    },
    {
     "name": "stdout",
     "output_type": "stream",
     "text": [
      "downloading /home/nicolasf/research/CPP/indices/data/ERA5/daily/ERA5_daily_geopotential_1000_2019-06-25.nc\n"
     ]
    },
    {
     "name": "stderr",
     "output_type": "stream",
     "text": [
      "2020-06-14 14:18:48,348 INFO Welcome to the CDS\n",
      "2020-06-14 14:18:48,349 INFO Sending request to https://cds.climate.copernicus.eu/api/v2/resources/reanalysis-era5-pressure-levels\n",
      "2020-06-14 14:18:49,573 INFO Request is queued\n",
      "2020-06-14 14:18:50,904 INFO Request is completed\n",
      "2020-06-14 14:18:50,906 INFO Downloading http://136.156.133.42/cache-compute-0014/cache/data7/adaptor.mars.internal-1592101129.468797-4486-36-41d9c290-9bb6-4e6f-a57c-14c5dc3d1955.nc to /home/nicolasf/research/CPP/indices/data/ERA5/daily/ERA5_daily_geopotential_1000_2019-06-25.nc (192.2K)\n",
      "2020-06-14 14:18:52,752 INFO Download rate 104.2K/s\n"
     ]
    },
    {
     "name": "stdout",
     "output_type": "stream",
     "text": [
      "downloading /home/nicolasf/research/CPP/indices/data/ERA5/daily/ERA5_daily_geopotential_1000_2019-06-26.nc\n"
     ]
    },
    {
     "name": "stderr",
     "output_type": "stream",
     "text": [
      "2020-06-14 14:18:55,209 INFO Welcome to the CDS\n",
      "2020-06-14 14:18:55,210 INFO Sending request to https://cds.climate.copernicus.eu/api/v2/resources/reanalysis-era5-pressure-levels\n",
      "2020-06-14 14:18:58,892 INFO Request is queued\n",
      "2020-06-14 14:19:00,223 INFO Request is running\n",
      "2020-06-14 14:19:02,066 INFO Request is completed\n",
      "2020-06-14 14:19:02,068 INFO Downloading http://136.156.133.36/cache-compute-0010/cache/data1/adaptor.mars.internal-1592101139.4839892-14293-13-e659afce-9c10-4054-93c9-2eb18be30613.nc to /home/nicolasf/research/CPP/indices/data/ERA5/daily/ERA5_daily_geopotential_1000_2019-06-26.nc (192.2K)\n",
      "2020-06-14 14:19:03,913 INFO Download rate 104.3K/s\n"
     ]
    },
    {
     "name": "stdout",
     "output_type": "stream",
     "text": [
      "downloading /home/nicolasf/research/CPP/indices/data/ERA5/daily/ERA5_daily_geopotential_1000_2019-06-27.nc\n"
     ]
    },
    {
     "name": "stderr",
     "output_type": "stream",
     "text": [
      "2020-06-14 14:19:05,551 INFO Welcome to the CDS\n",
      "2020-06-14 14:19:05,552 INFO Sending request to https://cds.climate.copernicus.eu/api/v2/resources/reanalysis-era5-pressure-levels\n",
      "2020-06-14 14:19:06,852 INFO Request is queued\n",
      "2020-06-14 14:19:08,210 INFO Request is completed\n",
      "2020-06-14 14:19:08,212 INFO Downloading http://136.156.132.105/cache-compute-0000/cache/data6/adaptor.mars.internal-1592101146.9402232-29360-20-38f2b8bc-a091-453b-8bb1-5097caf6165f.nc to /home/nicolasf/research/CPP/indices/data/ERA5/daily/ERA5_daily_geopotential_1000_2019-06-27.nc (192.2K)\n",
      "2020-06-14 14:19:10,061 INFO Download rate 104K/s  \n"
     ]
    },
    {
     "name": "stdout",
     "output_type": "stream",
     "text": [
      "downloading /home/nicolasf/research/CPP/indices/data/ERA5/daily/ERA5_daily_geopotential_1000_2019-06-28.nc\n"
     ]
    },
    {
     "name": "stderr",
     "output_type": "stream",
     "text": [
      "2020-06-14 14:19:11,695 INFO Welcome to the CDS\n",
      "2020-06-14 14:19:11,696 INFO Sending request to https://cds.climate.copernicus.eu/api/v2/resources/reanalysis-era5-pressure-levels\n",
      "2020-06-14 14:19:13,111 INFO Request is queued\n",
      "2020-06-14 14:19:14,457 INFO Request is running\n",
      "2020-06-14 14:19:16,300 INFO Request is completed\n",
      "2020-06-14 14:19:16,302 INFO Downloading http://136.156.132.105/cache-compute-0000/cache/data4/adaptor.mars.internal-1592101153.0939777-30097-16-8afa6276-9c46-49b1-95eb-977499cd8880.nc to /home/nicolasf/research/CPP/indices/data/ERA5/daily/ERA5_daily_geopotential_1000_2019-06-28.nc (192.2K)\n",
      "2020-06-14 14:19:18,149 INFO Download rate 104.2K/s\n"
     ]
    },
    {
     "name": "stdout",
     "output_type": "stream",
     "text": [
      "downloading /home/nicolasf/research/CPP/indices/data/ERA5/daily/ERA5_daily_geopotential_1000_2019-06-29.nc\n"
     ]
    },
    {
     "name": "stderr",
     "output_type": "stream",
     "text": [
      "2020-06-14 14:19:19,786 INFO Welcome to the CDS\n",
      "2020-06-14 14:19:19,787 INFO Sending request to https://cds.climate.copernicus.eu/api/v2/resources/reanalysis-era5-pressure-levels\n",
      "2020-06-14 14:19:21,034 INFO Request is queued\n",
      "2020-06-14 14:19:22,342 INFO Request is completed\n",
      "2020-06-14 14:19:22,344 INFO Downloading http://136.156.132.110/cache-compute-0001/cache/data6/adaptor.mars.internal-1592101161.0152283-5570-36-121e9d1e-dc28-43a4-95d9-3c440cfdfcb3.nc to /home/nicolasf/research/CPP/indices/data/ERA5/daily/ERA5_daily_geopotential_1000_2019-06-29.nc (192.2K)\n",
      "2020-06-14 14:19:24,190 INFO Download rate 104.3K/s\n"
     ]
    },
    {
     "name": "stdout",
     "output_type": "stream",
     "text": [
      "downloading /home/nicolasf/research/CPP/indices/data/ERA5/daily/ERA5_daily_geopotential_1000_2019-06-30.nc\n"
     ]
    },
    {
     "name": "stderr",
     "output_type": "stream",
     "text": [
      "2020-06-14 14:19:25,723 INFO Welcome to the CDS\n",
      "2020-06-14 14:19:25,723 INFO Sending request to https://cds.climate.copernicus.eu/api/v2/resources/reanalysis-era5-pressure-levels\n",
      "2020-06-14 14:19:27,010 INFO Request is queued\n",
      "2020-06-14 14:19:28,384 INFO Request is completed\n",
      "2020-06-14 14:19:28,386 INFO Downloading http://136.156.132.198/cache-compute-0003/cache/data1/adaptor.mars.internal-1592101166.956436-26094-5-7b5f66dd-04f9-4d2d-85b0-88ac48f4e70a.nc to /home/nicolasf/research/CPP/indices/data/ERA5/daily/ERA5_daily_geopotential_1000_2019-06-30.nc (192.2K)\n",
      "2020-06-14 14:19:30,233 INFO Download rate 104.2K/s\n"
     ]
    },
    {
     "name": "stdout",
     "output_type": "stream",
     "text": [
      "downloading /home/nicolasf/research/CPP/indices/data/ERA5/daily/ERA5_daily_geopotential_1000_2019-07-01.nc\n"
     ]
    },
    {
     "name": "stderr",
     "output_type": "stream",
     "text": [
      "2020-06-14 14:19:31,868 INFO Welcome to the CDS\n",
      "2020-06-14 14:19:31,869 INFO Sending request to https://cds.climate.copernicus.eu/api/v2/resources/reanalysis-era5-pressure-levels\n",
      "2020-06-14 14:19:33,606 INFO Request is queued\n",
      "2020-06-14 14:19:34,937 INFO Request is completed\n",
      "2020-06-14 14:19:34,939 INFO Downloading http://136.156.133.42/cache-compute-0014/cache/data1/adaptor.mars.internal-1592101173.5388994-13295-9-15588ef1-5b86-4579-9cde-79ce2ce95375.nc to /home/nicolasf/research/CPP/indices/data/ERA5/daily/ERA5_daily_geopotential_1000_2019-07-01.nc (192.2K)\n",
      "2020-06-14 14:19:36,786 INFO Download rate 104.2K/s\n"
     ]
    },
    {
     "name": "stdout",
     "output_type": "stream",
     "text": [
      "downloading /home/nicolasf/research/CPP/indices/data/ERA5/daily/ERA5_daily_geopotential_1000_2019-07-02.nc\n"
     ]
    },
    {
     "name": "stderr",
     "output_type": "stream",
     "text": [
      "2020-06-14 14:19:38,422 INFO Welcome to the CDS\n",
      "2020-06-14 14:19:38,423 INFO Sending request to https://cds.climate.copernicus.eu/api/v2/resources/reanalysis-era5-pressure-levels\n",
      "2020-06-14 14:19:39,648 INFO Request is queued\n",
      "2020-06-14 14:19:40,979 INFO Request is completed\n",
      "2020-06-14 14:19:40,981 INFO Downloading http://136.156.132.198/cache-compute-0003/cache/data1/adaptor.mars.internal-1592101179.7908006-26161-5-090ca198-fcad-462a-a07f-adba00506f2d.nc to /home/nicolasf/research/CPP/indices/data/ERA5/daily/ERA5_daily_geopotential_1000_2019-07-02.nc (192.2K)\n",
      "2020-06-14 14:19:42,827 INFO Download rate 104.2K/s\n"
     ]
    },
    {
     "name": "stdout",
     "output_type": "stream",
     "text": [
      "downloading /home/nicolasf/research/CPP/indices/data/ERA5/daily/ERA5_daily_geopotential_1000_2019-07-03.nc\n"
     ]
    },
    {
     "name": "stderr",
     "output_type": "stream",
     "text": [
      "2020-06-14 14:19:44,464 INFO Welcome to the CDS\n",
      "2020-06-14 14:19:44,465 INFO Sending request to https://cds.climate.copernicus.eu/api/v2/resources/reanalysis-era5-pressure-levels\n",
      "2020-06-14 14:19:45,766 INFO Request is queued\n",
      "2020-06-14 14:19:47,123 INFO Request is completed\n",
      "2020-06-14 14:19:47,125 INFO Downloading http://136.156.132.236/cache-compute-0007/cache/data9/adaptor.mars.internal-1592101185.834352-16403-3-c5901b49-5350-43d3-8b87-235962ff9500.nc to /home/nicolasf/research/CPP/indices/data/ERA5/daily/ERA5_daily_geopotential_1000_2019-07-03.nc (192.2K)\n",
      "2020-06-14 14:19:48,971 INFO Download rate 104.2K/s\n"
     ]
    },
    {
     "name": "stdout",
     "output_type": "stream",
     "text": [
      "downloading /home/nicolasf/research/CPP/indices/data/ERA5/daily/ERA5_daily_geopotential_1000_2019-07-04.nc\n"
     ]
    },
    {
     "name": "stderr",
     "output_type": "stream",
     "text": [
      "2020-06-14 14:19:50,609 INFO Welcome to the CDS\n",
      "2020-06-14 14:19:50,610 INFO Sending request to https://cds.climate.copernicus.eu/api/v2/resources/reanalysis-era5-pressure-levels\n",
      "2020-06-14 14:19:51,834 INFO Request is queued\n",
      "2020-06-14 14:19:53,165 INFO Request is completed\n",
      "2020-06-14 14:19:53,167 INFO Downloading http://136.156.132.105/cache-compute-0000/cache/data7/adaptor.mars.internal-1592101191.7219408-27346-31-6f7ffb82-6a48-403d-9908-2049b7da491e.nc to /home/nicolasf/research/CPP/indices/data/ERA5/daily/ERA5_daily_geopotential_1000_2019-07-04.nc (192.2K)\n",
      "2020-06-14 14:19:55,013 INFO Download rate 104.2K/s\n"
     ]
    },
    {
     "name": "stdout",
     "output_type": "stream",
     "text": [
      "downloading /home/nicolasf/research/CPP/indices/data/ERA5/daily/ERA5_daily_geopotential_1000_2019-07-05.nc\n"
     ]
    },
    {
     "name": "stderr",
     "output_type": "stream",
     "text": [
      "2020-06-14 14:19:56,652 INFO Welcome to the CDS\n",
      "2020-06-14 14:19:56,652 INFO Sending request to https://cds.climate.copernicus.eu/api/v2/resources/reanalysis-era5-pressure-levels\n",
      "2020-06-14 14:19:58,387 INFO Request is queued\n",
      "2020-06-14 14:19:59,718 INFO Request is completed\n",
      "2020-06-14 14:19:59,720 INFO Downloading http://136.156.133.36/cache-compute-0010/cache/data3/adaptor.mars.internal-1592101198.3226786-20308-3-65ac5957-c346-49c7-94d2-c18a148f4d49.nc to /home/nicolasf/research/CPP/indices/data/ERA5/daily/ERA5_daily_geopotential_1000_2019-07-05.nc (192.2K)\n",
      "2020-06-14 14:20:01,568 INFO Download rate 104.1K/s\n"
     ]
    },
    {
     "name": "stdout",
     "output_type": "stream",
     "text": [
      "downloading /home/nicolasf/research/CPP/indices/data/ERA5/daily/ERA5_daily_geopotential_1000_2019-07-06.nc\n"
     ]
    },
    {
     "name": "stderr",
     "output_type": "stream",
     "text": [
      "2020-06-14 14:20:03,204 INFO Welcome to the CDS\n",
      "2020-06-14 14:20:03,204 INFO Sending request to https://cds.climate.copernicus.eu/api/v2/resources/reanalysis-era5-pressure-levels\n",
      "2020-06-14 14:20:04,635 INFO Request is queued\n",
      "2020-06-14 14:20:05,965 INFO Request is completed\n",
      "2020-06-14 14:20:05,967 INFO Downloading http://136.156.133.37/cache-compute-0011/cache/data4/adaptor.mars.internal-1592101204.4920611-8518-18-05818c97-f660-4e72-bb71-38492bd88aa0.nc to /home/nicolasf/research/CPP/indices/data/ERA5/daily/ERA5_daily_geopotential_1000_2019-07-06.nc (192.2K)\n",
      "2020-06-14 14:20:08,116 INFO Download rate 89.5K/s \n"
     ]
    },
    {
     "name": "stdout",
     "output_type": "stream",
     "text": [
      "downloading /home/nicolasf/research/CPP/indices/data/ERA5/daily/ERA5_daily_geopotential_1000_2019-07-07.nc\n"
     ]
    },
    {
     "name": "stderr",
     "output_type": "stream",
     "text": [
      "2020-06-14 14:20:09,656 INFO Welcome to the CDS\n",
      "2020-06-14 14:20:09,656 INFO Sending request to https://cds.climate.copernicus.eu/api/v2/resources/reanalysis-era5-pressure-levels\n",
      "2020-06-14 14:20:10,881 INFO Request is queued\n",
      "2020-06-14 14:20:12,212 INFO Request is completed\n",
      "2020-06-14 14:20:12,214 INFO Downloading http://136.156.132.198/cache-compute-0003/cache/data9/adaptor.mars.internal-1592101210.8314114-26094-7-4ccd6679-ab30-42b8-82f7-ed3959bc9f43.nc to /home/nicolasf/research/CPP/indices/data/ERA5/daily/ERA5_daily_geopotential_1000_2019-07-07.nc (192.2K)\n",
      "2020-06-14 14:20:14,061 INFO Download rate 104.2K/s\n"
     ]
    },
    {
     "name": "stdout",
     "output_type": "stream",
     "text": [
      "downloading /home/nicolasf/research/CPP/indices/data/ERA5/daily/ERA5_daily_geopotential_1000_2019-07-08.nc\n"
     ]
    },
    {
     "name": "stderr",
     "output_type": "stream",
     "text": [
      "2020-06-14 14:20:15,902 INFO Welcome to the CDS\n",
      "2020-06-14 14:20:15,903 INFO Sending request to https://cds.climate.copernicus.eu/api/v2/resources/reanalysis-era5-pressure-levels\n",
      "2020-06-14 14:20:17,167 INFO Request is queued\n",
      "2020-06-14 14:20:18,663 INFO Request is completed\n",
      "2020-06-14 14:20:18,665 INFO Downloading http://136.156.133.41/cache-compute-0013/cache/data3/adaptor.mars.internal-1592101217.3446035-9872-16-51646c1e-39a0-4b5a-9289-cfcae2c10313.nc to /home/nicolasf/research/CPP/indices/data/ERA5/daily/ERA5_daily_geopotential_1000_2019-07-08.nc (192.2K)\n",
      "2020-06-14 14:20:20,514 INFO Download rate 104.1K/s\n"
     ]
    },
    {
     "name": "stdout",
     "output_type": "stream",
     "text": [
      "downloading /home/nicolasf/research/CPP/indices/data/ERA5/daily/ERA5_daily_geopotential_1000_2019-07-09.nc\n"
     ]
    },
    {
     "name": "stderr",
     "output_type": "stream",
     "text": [
      "2020-06-14 14:20:22,149 INFO Welcome to the CDS\n",
      "2020-06-14 14:20:22,149 INFO Sending request to https://cds.climate.copernicus.eu/api/v2/resources/reanalysis-era5-pressure-levels\n",
      "2020-06-14 14:20:23,401 INFO Request is queued\n",
      "2020-06-14 14:20:24,683 INFO Request is completed\n",
      "2020-06-14 14:20:24,685 INFO Downloading http://136.156.133.25/cache-compute-0008/cache/data9/adaptor.mars.internal-1592101223.389728-29524-14-b00db911-2486-4ac4-86bf-a538b40b3f17.nc to /home/nicolasf/research/CPP/indices/data/ERA5/daily/ERA5_daily_geopotential_1000_2019-07-09.nc (192.2K)\n",
      "2020-06-14 14:20:26,555 INFO Download rate 102.9K/s\n"
     ]
    },
    {
     "name": "stdout",
     "output_type": "stream",
     "text": [
      "downloading /home/nicolasf/research/CPP/indices/data/ERA5/daily/ERA5_daily_geopotential_1000_2019-07-10.nc\n"
     ]
    },
    {
     "name": "stderr",
     "output_type": "stream",
     "text": [
      "2020-06-14 14:20:28,190 INFO Welcome to the CDS\n",
      "2020-06-14 14:20:28,190 INFO Sending request to https://cds.climate.copernicus.eu/api/v2/resources/reanalysis-era5-pressure-levels\n",
      "2020-06-14 14:20:29,416 INFO Request is queued\n",
      "2020-06-14 14:20:30,747 INFO Request is completed\n",
      "2020-06-14 14:20:30,750 INFO Downloading http://136.156.132.201/cache-compute-0004/cache/data1/adaptor.mars.internal-1592101229.4312086-6325-34-4f69d463-f62d-40ec-8bc4-4fb54420d82a.nc to /home/nicolasf/research/CPP/indices/data/ERA5/daily/ERA5_daily_geopotential_1000_2019-07-10.nc (192.2K)\n",
      "2020-06-14 14:20:32,293 INFO Download rate 124.6K/s\n"
     ]
    },
    {
     "name": "stdout",
     "output_type": "stream",
     "text": [
      "downloading /home/nicolasf/research/CPP/indices/data/ERA5/daily/ERA5_daily_geopotential_1000_2019-07-11.nc\n"
     ]
    },
    {
     "name": "stderr",
     "output_type": "stream",
     "text": [
      "2020-06-14 14:20:33,926 INFO Welcome to the CDS\n",
      "2020-06-14 14:20:33,926 INFO Sending request to https://cds.climate.copernicus.eu/api/v2/resources/reanalysis-era5-pressure-levels\n",
      "2020-06-14 14:20:35,161 INFO Request is queued\n",
      "2020-06-14 14:20:36,481 INFO Request is completed\n",
      "2020-06-14 14:20:36,483 INFO Downloading http://136.156.132.236/cache-compute-0007/cache/data3/adaptor.mars.internal-1592101235.1553504-15657-9-bd513d74-1404-435b-89f4-495fe3cc4c56.nc to /home/nicolasf/research/CPP/indices/data/ERA5/daily/ERA5_daily_geopotential_1000_2019-07-11.nc (192.2K)\n",
      "2020-06-14 14:20:38,330 INFO Download rate 104.2K/s\n"
     ]
    },
    {
     "name": "stdout",
     "output_type": "stream",
     "text": [
      "downloading /home/nicolasf/research/CPP/indices/data/ERA5/daily/ERA5_daily_geopotential_1000_2019-07-12.nc\n"
     ]
    },
    {
     "name": "stderr",
     "output_type": "stream",
     "text": [
      "2020-06-14 14:20:39,969 INFO Welcome to the CDS\n",
      "2020-06-14 14:20:39,969 INFO Sending request to https://cds.climate.copernicus.eu/api/v2/resources/reanalysis-era5-pressure-levels\n",
      "2020-06-14 14:20:41,250 INFO Request is queued\n",
      "2020-06-14 14:20:42,626 INFO Request is completed\n",
      "2020-06-14 14:20:42,628 INFO Downloading http://136.156.133.46/cache-compute-0015/cache/data0/adaptor.mars.internal-1592101241.4795208-10112-16-2cebc3c4-81fd-4758-9633-e5c40ead4487.nc to /home/nicolasf/research/CPP/indices/data/ERA5/daily/ERA5_daily_geopotential_1000_2019-07-12.nc (192.2K)\n",
      "2020-06-14 14:20:44,473 INFO Download rate 104.3K/s\n"
     ]
    },
    {
     "name": "stdout",
     "output_type": "stream",
     "text": [
      "downloading /home/nicolasf/research/CPP/indices/data/ERA5/daily/ERA5_daily_geopotential_1000_2019-07-13.nc\n"
     ]
    },
    {
     "name": "stderr",
     "output_type": "stream",
     "text": [
      "2020-06-14 14:20:46,008 INFO Welcome to the CDS\n",
      "2020-06-14 14:20:46,008 INFO Sending request to https://cds.climate.copernicus.eu/api/v2/resources/reanalysis-era5-pressure-levels\n",
      "2020-06-14 14:20:47,540 INFO Request is queued\n",
      "2020-06-14 14:20:48,872 INFO Request is completed\n",
      "2020-06-14 14:20:48,874 INFO Downloading http://136.156.132.105/cache-compute-0000/cache/data6/adaptor.mars.internal-1592101247.3927062-30278-20-142e9cf6-e487-456b-b058-c3488743cc0b.nc to /home/nicolasf/research/CPP/indices/data/ERA5/daily/ERA5_daily_geopotential_1000_2019-07-13.nc (192.2K)\n",
      "2020-06-14 14:20:50,719 INFO Download rate 104.3K/s\n"
     ]
    },
    {
     "name": "stdout",
     "output_type": "stream",
     "text": [
      "downloading /home/nicolasf/research/CPP/indices/data/ERA5/daily/ERA5_daily_geopotential_1000_2019-07-14.nc\n"
     ]
    },
    {
     "name": "stderr",
     "output_type": "stream",
     "text": [
      "2020-06-14 14:20:52,357 INFO Welcome to the CDS\n",
      "2020-06-14 14:20:52,358 INFO Sending request to https://cds.climate.copernicus.eu/api/v2/resources/reanalysis-era5-pressure-levels\n",
      "2020-06-14 14:20:54,402 INFO Request is queued\n",
      "2020-06-14 14:20:55,733 INFO Request is running\n",
      "2020-06-14 14:20:57,576 INFO Request is completed\n",
      "2020-06-14 14:20:57,578 INFO Downloading http://136.156.133.39/cache-compute-0012/cache/data5/adaptor.mars.internal-1592101254.2609658-2532-18-5be2fbd2-b082-4bf9-8144-2936772f4b69.nc to /home/nicolasf/research/CPP/indices/data/ERA5/daily/ERA5_daily_geopotential_1000_2019-07-14.nc (192.2K)\n",
      "2020-06-14 14:20:59,425 INFO Download rate 104.2K/s\n"
     ]
    },
    {
     "name": "stdout",
     "output_type": "stream",
     "text": [
      "downloading /home/nicolasf/research/CPP/indices/data/ERA5/daily/ERA5_daily_geopotential_1000_2019-07-15.nc\n"
     ]
    },
    {
     "name": "stderr",
     "output_type": "stream",
     "text": [
      "2020-06-14 14:21:01,061 INFO Welcome to the CDS\n",
      "2020-06-14 14:21:01,062 INFO Sending request to https://cds.climate.copernicus.eu/api/v2/resources/reanalysis-era5-pressure-levels\n",
      "2020-06-14 14:21:02,372 INFO Request is queued\n",
      "2020-06-14 14:21:03,721 INFO Request is completed\n",
      "2020-06-14 14:21:03,722 INFO Downloading http://136.156.132.105/cache-compute-0000/cache/data1/adaptor.mars.internal-1592101262.4997857-29276-27-8684df4a-f466-4b84-992c-08e96747ecfc.nc to /home/nicolasf/research/CPP/indices/data/ERA5/daily/ERA5_daily_geopotential_1000_2019-07-15.nc (192.2K)\n",
      "2020-06-14 14:21:05,572 INFO Download rate 104K/s  \n"
     ]
    },
    {
     "name": "stdout",
     "output_type": "stream",
     "text": [
      "downloading /home/nicolasf/research/CPP/indices/data/ERA5/daily/ERA5_daily_geopotential_1000_2019-07-16.nc\n"
     ]
    },
    {
     "name": "stderr",
     "output_type": "stream",
     "text": [
      "2020-06-14 14:21:07,206 INFO Welcome to the CDS\n",
      "2020-06-14 14:21:07,207 INFO Sending request to https://cds.climate.copernicus.eu/api/v2/resources/reanalysis-era5-pressure-levels\n",
      "2020-06-14 14:21:08,635 INFO Request is queued\n",
      "2020-06-14 14:21:09,967 INFO Request is completed\n",
      "2020-06-14 14:21:09,969 INFO Downloading http://136.156.133.41/cache-compute-0013/cache/data5/adaptor.mars.internal-1592101268.6176023-5387-28-f605f0d5-ab74-4260-abe0-403db7d275c0.nc to /home/nicolasf/research/CPP/indices/data/ERA5/daily/ERA5_daily_geopotential_1000_2019-07-16.nc (192.2K)\n",
      "2020-06-14 14:21:11,818 INFO Download rate 104.1K/s\n"
     ]
    },
    {
     "name": "stdout",
     "output_type": "stream",
     "text": [
      "downloading /home/nicolasf/research/CPP/indices/data/ERA5/daily/ERA5_daily_geopotential_1000_2019-07-17.nc\n"
     ]
    },
    {
     "name": "stderr",
     "output_type": "stream",
     "text": [
      "2020-06-14 14:21:13,452 INFO Welcome to the CDS\n",
      "2020-06-14 14:21:13,453 INFO Sending request to https://cds.climate.copernicus.eu/api/v2/resources/reanalysis-era5-pressure-levels\n",
      "2020-06-14 14:21:14,780 INFO Request is queued\n",
      "2020-06-14 14:21:16,111 INFO Request is completed\n",
      "2020-06-14 14:21:16,113 INFO Downloading http://136.156.133.41/cache-compute-0013/cache/data5/adaptor.mars.internal-1592101274.85247-5110-35-6e1b9802-1850-4d7c-a2ce-081c4531a457.nc to /home/nicolasf/research/CPP/indices/data/ERA5/daily/ERA5_daily_geopotential_1000_2019-07-17.nc (192.2K)\n",
      "2020-06-14 14:21:17,960 INFO Download rate 104.1K/s\n"
     ]
    },
    {
     "name": "stdout",
     "output_type": "stream",
     "text": [
      "downloading /home/nicolasf/research/CPP/indices/data/ERA5/daily/ERA5_daily_geopotential_1000_2019-07-18.nc\n"
     ]
    },
    {
     "name": "stderr",
     "output_type": "stream",
     "text": [
      "2020-06-14 14:21:19,494 INFO Welcome to the CDS\n",
      "2020-06-14 14:21:19,496 INFO Sending request to https://cds.climate.copernicus.eu/api/v2/resources/reanalysis-era5-pressure-levels\n",
      "2020-06-14 14:21:20,748 INFO Request is queued\n",
      "2020-06-14 14:21:22,050 INFO Request is completed\n",
      "2020-06-14 14:21:22,053 INFO Downloading http://136.156.133.46/cache-compute-0015/cache/data2/adaptor.mars.internal-1592101280.7246165-1239-27-6cb7573c-e217-4bc8-9b2d-a652ce39d745.nc to /home/nicolasf/research/CPP/indices/data/ERA5/daily/ERA5_daily_geopotential_1000_2019-07-18.nc (192.2K)\n",
      "2020-06-14 14:21:23,898 INFO Download rate 104.3K/s\n"
     ]
    },
    {
     "name": "stdout",
     "output_type": "stream",
     "text": [
      "downloading /home/nicolasf/research/CPP/indices/data/ERA5/daily/ERA5_daily_geopotential_1000_2019-07-19.nc\n"
     ]
    },
    {
     "name": "stderr",
     "output_type": "stream",
     "text": [
      "2020-06-14 14:21:25,535 INFO Welcome to the CDS\n",
      "2020-06-14 14:21:25,536 INFO Sending request to https://cds.climate.copernicus.eu/api/v2/resources/reanalysis-era5-pressure-levels\n",
      "2020-06-14 14:21:26,966 INFO Request is queued\n",
      "2020-06-14 14:21:28,247 INFO Request is completed\n",
      "2020-06-14 14:21:28,249 INFO Downloading http://136.156.132.201/cache-compute-0004/cache/data6/adaptor.mars.internal-1592101286.9677-29314-18-3b1336ca-f16d-481b-98ef-b45d69026f37.nc to /home/nicolasf/research/CPP/indices/data/ERA5/daily/ERA5_daily_geopotential_1000_2019-07-19.nc (192.2K)\n",
      "2020-06-14 14:21:30,146 INFO Download rate 101.4K/s\n"
     ]
    },
    {
     "name": "stdout",
     "output_type": "stream",
     "text": [
      "downloading /home/nicolasf/research/CPP/indices/data/ERA5/daily/ERA5_daily_geopotential_1000_2019-07-20.nc\n"
     ]
    },
    {
     "name": "stderr",
     "output_type": "stream",
     "text": [
      "2020-06-14 14:21:31,782 INFO Welcome to the CDS\n",
      "2020-06-14 14:21:31,783 INFO Sending request to https://cds.climate.copernicus.eu/api/v2/resources/reanalysis-era5-pressure-levels\n",
      "2020-06-14 14:21:33,212 INFO Request is queued\n",
      "2020-06-14 14:21:34,544 INFO Request is running\n",
      "2020-06-14 14:21:36,387 INFO Request is completed\n",
      "2020-06-14 14:21:36,389 INFO Downloading http://136.156.133.36/cache-compute-0010/cache/data1/adaptor.mars.internal-1592101293.1985695-23328-13-1f6cb54c-9fc6-46f2-bfb9-23d4c722439c.nc to /home/nicolasf/research/CPP/indices/data/ERA5/daily/ERA5_daily_geopotential_1000_2019-07-20.nc (192.2K)\n",
      "2020-06-14 14:21:38,231 INFO Download rate 104.5K/s\n"
     ]
    },
    {
     "name": "stdout",
     "output_type": "stream",
     "text": [
      "downloading /home/nicolasf/research/CPP/indices/data/ERA5/daily/ERA5_daily_geopotential_1000_2019-07-21.nc\n"
     ]
    },
    {
     "name": "stderr",
     "output_type": "stream",
     "text": [
      "2020-06-14 14:21:39,872 INFO Welcome to the CDS\n",
      "2020-06-14 14:21:39,873 INFO Sending request to https://cds.climate.copernicus.eu/api/v2/resources/reanalysis-era5-pressure-levels\n",
      "2020-06-14 14:21:41,188 INFO Request is queued\n",
      "2020-06-14 14:21:42,531 INFO Request is running\n",
      "2020-06-14 14:21:44,374 INFO Request is completed\n",
      "2020-06-14 14:21:44,376 INFO Downloading http://136.156.133.46/cache-compute-0015/cache/data8/adaptor.mars.internal-1592101301.616254-14398-1-0b7cf8b1-83ad-47cb-84b0-9df4fec71568.nc to /home/nicolasf/research/CPP/indices/data/ERA5/daily/ERA5_daily_geopotential_1000_2019-07-21.nc (192.2K)\n",
      "2020-06-14 14:21:46,224 INFO Download rate 104.1K/s\n"
     ]
    },
    {
     "name": "stdout",
     "output_type": "stream",
     "text": [
      "downloading /home/nicolasf/research/CPP/indices/data/ERA5/daily/ERA5_daily_geopotential_1000_2019-07-22.nc\n"
     ]
    },
    {
     "name": "stderr",
     "output_type": "stream",
     "text": [
      "2020-06-14 14:21:47,961 INFO Welcome to the CDS\n",
      "2020-06-14 14:21:47,962 INFO Sending request to https://cds.climate.copernicus.eu/api/v2/resources/reanalysis-era5-pressure-levels\n",
      "2020-06-14 14:21:49,494 INFO Request is queued\n",
      "2020-06-14 14:21:50,826 INFO Request is completed\n",
      "2020-06-14 14:21:50,828 INFO Downloading http://136.156.133.42/cache-compute-0014/cache/data9/adaptor.mars.internal-1592101309.4165568-14980-7-f89e28e5-efcf-4a0d-b263-23bbb77e4e88.nc to /home/nicolasf/research/CPP/indices/data/ERA5/daily/ERA5_daily_geopotential_1000_2019-07-22.nc (192.2K)\n",
      "2020-06-14 14:21:52,674 INFO Download rate 104.3K/s\n"
     ]
    },
    {
     "name": "stdout",
     "output_type": "stream",
     "text": [
      "downloading /home/nicolasf/research/CPP/indices/data/ERA5/daily/ERA5_daily_geopotential_1000_2019-07-23.nc\n"
     ]
    },
    {
     "name": "stderr",
     "output_type": "stream",
     "text": [
      "2020-06-14 14:21:54,310 INFO Welcome to the CDS\n",
      "2020-06-14 14:21:54,311 INFO Sending request to https://cds.climate.copernicus.eu/api/v2/resources/reanalysis-era5-pressure-levels\n",
      "2020-06-14 14:21:55,946 INFO Request is queued\n",
      "2020-06-14 14:21:57,279 INFO Request is running\n",
      "2020-06-14 14:21:59,120 INFO Request is completed\n",
      "2020-06-14 14:21:59,122 INFO Downloading http://136.156.132.210/cache-compute-0005/cache/data3/adaptor.mars.internal-1592101316.0237637-4461-1-e7a852d8-f2d2-4f49-b045-7d4ab50b97e9.nc to /home/nicolasf/research/CPP/indices/data/ERA5/daily/ERA5_daily_geopotential_1000_2019-07-23.nc (192.2K)\n",
      "2020-06-14 14:22:00,970 INFO Download rate 104.1K/s\n"
     ]
    },
    {
     "name": "stdout",
     "output_type": "stream",
     "text": [
      "downloading /home/nicolasf/research/CPP/indices/data/ERA5/daily/ERA5_daily_geopotential_1000_2019-07-24.nc\n"
     ]
    },
    {
     "name": "stderr",
     "output_type": "stream",
     "text": [
      "2020-06-14 14:22:03,219 INFO Welcome to the CDS\n",
      "2020-06-14 14:22:03,220 INFO Sending request to https://cds.climate.copernicus.eu/api/v2/resources/reanalysis-era5-pressure-levels\n",
      "2020-06-14 14:22:04,650 INFO Request is queued\n",
      "2020-06-14 14:22:05,981 INFO Request is running\n",
      "2020-06-14 14:22:07,826 INFO Request is completed\n",
      "2020-06-14 14:22:07,828 INFO Downloading http://136.156.132.105/cache-compute-0000/cache/data7/adaptor.mars.internal-1592101325.0174923-28171-33-e4350056-096a-4bbc-8262-8539d00dd64f.nc to /home/nicolasf/research/CPP/indices/data/ERA5/daily/ERA5_daily_geopotential_1000_2019-07-24.nc (192.2K)\n",
      "2020-06-14 14:22:09,675 INFO Download rate 104.2K/s\n"
     ]
    },
    {
     "name": "stdout",
     "output_type": "stream",
     "text": [
      "downloading /home/nicolasf/research/CPP/indices/data/ERA5/daily/ERA5_daily_geopotential_1000_2019-07-25.nc\n"
     ]
    },
    {
     "name": "stderr",
     "output_type": "stream",
     "text": [
      "2020-06-14 14:22:11,412 INFO Welcome to the CDS\n",
      "2020-06-14 14:22:11,412 INFO Sending request to https://cds.climate.copernicus.eu/api/v2/resources/reanalysis-era5-pressure-levels\n",
      "2020-06-14 14:22:12,842 INFO Request is queued\n",
      "2020-06-14 14:22:14,174 INFO Request is completed\n",
      "2020-06-14 14:22:14,175 INFO Downloading http://136.156.132.210/cache-compute-0005/cache/data6/adaptor.mars.internal-1592101332.773227-3428-9-598de16f-6132-4ec7-bf4f-b36bc8044696.nc to /home/nicolasf/research/CPP/indices/data/ERA5/daily/ERA5_daily_geopotential_1000_2019-07-25.nc (192.2K)\n",
      "2020-06-14 14:22:16,125 INFO Download rate 98.7K/s \n"
     ]
    },
    {
     "name": "stdout",
     "output_type": "stream",
     "text": [
      "downloading /home/nicolasf/research/CPP/indices/data/ERA5/daily/ERA5_daily_geopotential_1000_2019-07-26.nc\n"
     ]
    },
    {
     "name": "stderr",
     "output_type": "stream",
     "text": [
      "2020-06-14 14:22:17,659 INFO Welcome to the CDS\n",
      "2020-06-14 14:22:17,659 INFO Sending request to https://cds.climate.copernicus.eu/api/v2/resources/reanalysis-era5-pressure-levels\n",
      "2020-06-14 14:22:19,088 INFO Request is queued\n",
      "2020-06-14 14:22:20,420 INFO Request is completed\n",
      "2020-06-14 14:22:20,422 INFO Downloading http://136.156.132.236/cache-compute-0007/cache/data4/adaptor.mars.internal-1592101338.9769719-9393-29-883eba48-e110-4bb9-a7c5-fe51728e900b.nc to /home/nicolasf/research/CPP/indices/data/ERA5/daily/ERA5_daily_geopotential_1000_2019-07-26.nc (192.2K)\n",
      "2020-06-14 14:22:22,268 INFO Download rate 104.2K/s\n"
     ]
    },
    {
     "name": "stdout",
     "output_type": "stream",
     "text": [
      "downloading /home/nicolasf/research/CPP/indices/data/ERA5/daily/ERA5_daily_geopotential_1000_2019-07-27.nc\n"
     ]
    },
    {
     "name": "stderr",
     "output_type": "stream",
     "text": [
      "2020-06-14 14:22:24,520 INFO Welcome to the CDS\n",
      "2020-06-14 14:22:24,521 INFO Sending request to https://cds.climate.copernicus.eu/api/v2/resources/reanalysis-era5-pressure-levels\n",
      "2020-06-14 14:22:25,766 INFO Request is queued\n",
      "2020-06-14 14:22:27,076 INFO Request is running\n",
      "2020-06-14 14:22:28,919 INFO Request is completed\n",
      "2020-06-14 14:22:28,921 INFO Downloading http://136.156.133.39/cache-compute-0012/cache/data4/adaptor.mars.internal-1592101345.909571-9030-7-563b867c-b208-4dd6-8751-667a1780382d.nc to /home/nicolasf/research/CPP/indices/data/ERA5/daily/ERA5_daily_geopotential_1000_2019-07-27.nc (192.2K)\n",
      "2020-06-14 14:22:30,769 INFO Download rate 104.1K/s\n"
     ]
    },
    {
     "name": "stdout",
     "output_type": "stream",
     "text": [
      "downloading /home/nicolasf/research/CPP/indices/data/ERA5/daily/ERA5_daily_geopotential_1000_2019-07-28.nc\n"
     ]
    },
    {
     "name": "stderr",
     "output_type": "stream",
     "text": [
      "2020-06-14 14:22:32,402 INFO Welcome to the CDS\n",
      "2020-06-14 14:22:32,403 INFO Sending request to https://cds.climate.copernicus.eu/api/v2/resources/reanalysis-era5-pressure-levels\n",
      "2020-06-14 14:22:33,938 INFO Request is queued\n",
      "2020-06-14 14:22:35,269 INFO Request is running\n",
      "2020-06-14 14:22:37,050 INFO Request is completed\n",
      "2020-06-14 14:22:37,052 INFO Downloading http://136.156.133.36/cache-compute-0010/cache/data6/adaptor.mars.internal-1592101354.4885938-13003-23-75e4fce0-5a96-449c-840a-ea4e5c5371e6.nc to /home/nicolasf/research/CPP/indices/data/ERA5/daily/ERA5_daily_geopotential_1000_2019-07-28.nc (192.2K)\n",
      "2020-06-14 14:22:38,959 INFO Download rate 100.9K/s\n"
     ]
    },
    {
     "name": "stdout",
     "output_type": "stream",
     "text": [
      "downloading /home/nicolasf/research/CPP/indices/data/ERA5/daily/ERA5_daily_geopotential_1000_2019-07-29.nc\n"
     ]
    },
    {
     "name": "stderr",
     "output_type": "stream",
     "text": [
      "2020-06-14 14:22:40,904 INFO Welcome to the CDS\n",
      "2020-06-14 14:22:40,905 INFO Sending request to https://cds.climate.copernicus.eu/api/v2/resources/reanalysis-era5-pressure-levels\n",
      "2020-06-14 14:22:42,539 INFO Request is queued\n",
      "2020-06-14 14:22:43,870 INFO Request is completed\n",
      "2020-06-14 14:22:43,872 INFO Downloading http://136.156.132.236/cache-compute-0007/cache/data6/adaptor.mars.internal-1592101362.4597123-15968-14-c5cd3ec8-e9f2-4a60-b4c1-6906b0449289.nc to /home/nicolasf/research/CPP/indices/data/ERA5/daily/ERA5_daily_geopotential_1000_2019-07-29.nc (192.2K)\n",
      "2020-06-14 14:22:45,720 INFO Download rate 104.1K/s\n"
     ]
    },
    {
     "name": "stdout",
     "output_type": "stream",
     "text": [
      "downloading /home/nicolasf/research/CPP/indices/data/ERA5/daily/ERA5_daily_geopotential_1000_2019-07-30.nc\n"
     ]
    },
    {
     "name": "stderr",
     "output_type": "stream",
     "text": [
      "2020-06-14 14:22:47,221 INFO Welcome to the CDS\n",
      "2020-06-14 14:22:47,222 INFO Sending request to https://cds.climate.copernicus.eu/api/v2/resources/reanalysis-era5-pressure-levels\n",
      "2020-06-14 14:22:48,610 INFO Request is queued\n",
      "2020-06-14 14:22:49,912 INFO Request is completed\n",
      "2020-06-14 14:22:49,914 INFO Downloading http://136.156.132.236/cache-compute-0007/cache/data9/adaptor.mars.internal-1592101368.7998147-8084-35-14deb208-d20d-44d6-8565-a213b77be7ab.nc to /home/nicolasf/research/CPP/indices/data/ERA5/daily/ERA5_daily_geopotential_1000_2019-07-30.nc (192.2K)\n",
      "2020-06-14 14:22:51,762 INFO Download rate 104.1K/s\n"
     ]
    },
    {
     "name": "stdout",
     "output_type": "stream",
     "text": [
      "downloading /home/nicolasf/research/CPP/indices/data/ERA5/daily/ERA5_daily_geopotential_1000_2019-07-31.nc\n"
     ]
    },
    {
     "name": "stderr",
     "output_type": "stream",
     "text": [
      "2020-06-14 14:22:53,397 INFO Welcome to the CDS\n",
      "2020-06-14 14:22:53,398 INFO Sending request to https://cds.climate.copernicus.eu/api/v2/resources/reanalysis-era5-pressure-levels\n",
      "2020-06-14 14:22:54,753 INFO Request is queued\n",
      "2020-06-14 14:22:56,058 INFO Request is completed\n",
      "2020-06-14 14:22:56,060 INFO Downloading http://136.156.133.41/cache-compute-0013/cache/data3/adaptor.mars.internal-1592101374.6931477-13576-16-ba0c5d30-bfa5-4fac-9e85-52fd57227127.nc to /home/nicolasf/research/CPP/indices/data/ERA5/daily/ERA5_daily_geopotential_1000_2019-07-31.nc (192.2K)\n",
      "2020-06-14 14:22:57,906 INFO Download rate 104.2K/s\n"
     ]
    },
    {
     "name": "stdout",
     "output_type": "stream",
     "text": [
      "downloading /home/nicolasf/research/CPP/indices/data/ERA5/daily/ERA5_daily_geopotential_1000_2019-08-01.nc\n"
     ]
    },
    {
     "name": "stderr",
     "output_type": "stream",
     "text": [
      "2020-06-14 14:22:59,439 INFO Welcome to the CDS\n",
      "2020-06-14 14:22:59,440 INFO Sending request to https://cds.climate.copernicus.eu/api/v2/resources/reanalysis-era5-pressure-levels\n",
      "2020-06-14 14:23:00,971 INFO Request is queued\n",
      "2020-06-14 14:23:02,303 INFO Request is completed\n",
      "2020-06-14 14:23:02,305 INFO Downloading http://136.156.132.110/cache-compute-0001/cache/data4/adaptor.mars.internal-1592101381.0131671-9658-31-189227c1-f760-44b9-8de6-24a08b5b2712.nc to /home/nicolasf/research/CPP/indices/data/ERA5/daily/ERA5_daily_geopotential_1000_2019-08-01.nc (192.2K)\n",
      "2020-06-14 14:23:04,152 INFO Download rate 104.1K/s\n"
     ]
    },
    {
     "name": "stdout",
     "output_type": "stream",
     "text": [
      "downloading /home/nicolasf/research/CPP/indices/data/ERA5/daily/ERA5_daily_geopotential_1000_2019-08-02.nc\n"
     ]
    },
    {
     "name": "stderr",
     "output_type": "stream",
     "text": [
      "2020-06-14 14:23:05,890 INFO Welcome to the CDS\n",
      "2020-06-14 14:23:05,891 INFO Sending request to https://cds.climate.copernicus.eu/api/v2/resources/reanalysis-era5-pressure-levels\n",
      "2020-06-14 14:23:07,525 INFO Request is queued\n",
      "2020-06-14 14:23:08,857 INFO Request is completed\n",
      "2020-06-14 14:23:08,859 INFO Downloading http://136.156.132.105/cache-compute-0000/cache/data4/adaptor.mars.internal-1592101387.4981406-6903-1-c09c3436-5c21-44cf-8462-58274f980a76.nc to /home/nicolasf/research/CPP/indices/data/ERA5/daily/ERA5_daily_geopotential_1000_2019-08-02.nc (192.2K)\n",
      "2020-06-14 14:23:10,707 INFO Download rate 104.1K/s\n"
     ]
    },
    {
     "name": "stdout",
     "output_type": "stream",
     "text": [
      "downloading /home/nicolasf/research/CPP/indices/data/ERA5/daily/ERA5_daily_geopotential_1000_2019-08-03.nc\n"
     ]
    },
    {
     "name": "stderr",
     "output_type": "stream",
     "text": [
      "2020-06-14 14:23:12,444 INFO Welcome to the CDS\n",
      "2020-06-14 14:23:12,444 INFO Sending request to https://cds.climate.copernicus.eu/api/v2/resources/reanalysis-era5-pressure-levels\n",
      "2020-06-14 14:23:14,796 INFO Request is queued\n",
      "2020-06-14 14:23:16,127 INFO Request is running\n",
      "2020-06-14 14:23:17,919 INFO Request is completed\n",
      "2020-06-14 14:23:17,921 INFO Downloading http://136.156.132.198/cache-compute-0003/cache/data9/adaptor.mars.internal-1592101395.0480192-27527-7-41c426fa-9575-45ff-a0ab-d506656fbdb2.nc to /home/nicolasf/research/CPP/indices/data/ERA5/daily/ERA5_daily_geopotential_1000_2019-08-03.nc (192.2K)\n",
      "2020-06-14 14:23:19,514 INFO Download rate 120.8K/s\n"
     ]
    },
    {
     "name": "stdout",
     "output_type": "stream",
     "text": [
      "downloading /home/nicolasf/research/CPP/indices/data/ERA5/daily/ERA5_daily_geopotential_1000_2019-08-04.nc\n"
     ]
    },
    {
     "name": "stderr",
     "output_type": "stream",
     "text": [
      "2020-06-14 14:23:21,865 INFO Welcome to the CDS\n",
      "2020-06-14 14:23:21,866 INFO Sending request to https://cds.climate.copernicus.eu/api/v2/resources/reanalysis-era5-pressure-levels\n",
      "2020-06-14 14:23:23,705 INFO Request is queued\n",
      "2020-06-14 14:23:25,036 INFO Request is completed\n",
      "2020-06-14 14:23:25,038 INFO Downloading http://136.156.133.36/cache-compute-0010/cache/data6/adaptor.mars.internal-1592101403.7938142-13253-31-6f43ba77-5fdd-42e6-8489-487e47639548.nc to /home/nicolasf/research/CPP/indices/data/ERA5/daily/ERA5_daily_geopotential_1000_2019-08-04.nc (192.2K)\n",
      "2020-06-14 14:23:26,884 INFO Download rate 104.2K/s\n"
     ]
    },
    {
     "name": "stdout",
     "output_type": "stream",
     "text": [
      "downloading /home/nicolasf/research/CPP/indices/data/ERA5/daily/ERA5_daily_geopotential_1000_2019-08-05.nc\n"
     ]
    },
    {
     "name": "stderr",
     "output_type": "stream",
     "text": [
      "2020-06-14 14:23:28,522 INFO Welcome to the CDS\n",
      "2020-06-14 14:23:28,523 INFO Sending request to https://cds.climate.copernicus.eu/api/v2/resources/reanalysis-era5-pressure-levels\n",
      "2020-06-14 14:23:29,951 INFO Request is queued\n",
      "2020-06-14 14:23:31,283 INFO Request is completed\n",
      "2020-06-14 14:23:31,284 INFO Downloading http://136.156.133.42/cache-compute-0014/cache/data0/adaptor.mars.internal-1592101409.8981128-13295-20-bf91d6e9-a703-45a9-a8a2-7a6b38a57179.nc to /home/nicolasf/research/CPP/indices/data/ERA5/daily/ERA5_daily_geopotential_1000_2019-08-05.nc (192.2K)\n",
      "2020-06-14 14:23:33,030 INFO Download rate 110.3K/s\n"
     ]
    },
    {
     "name": "stdout",
     "output_type": "stream",
     "text": [
      "downloading /home/nicolasf/research/CPP/indices/data/ERA5/daily/ERA5_daily_geopotential_1000_2019-08-06.nc\n"
     ]
    },
    {
     "name": "stderr",
     "output_type": "stream",
     "text": [
      "2020-06-14 14:23:34,562 INFO Welcome to the CDS\n",
      "2020-06-14 14:23:34,564 INFO Sending request to https://cds.climate.copernicus.eu/api/v2/resources/reanalysis-era5-pressure-levels\n",
      "2020-06-14 14:23:36,095 INFO Request is queued\n",
      "2020-06-14 14:23:37,427 INFO Request is running\n",
      "2020-06-14 14:23:39,270 INFO Request is completed\n",
      "2020-06-14 14:23:39,272 INFO Downloading http://136.156.133.32/cache-compute-0009/cache/data6/adaptor.mars.internal-1592101416.0684755-7770-15-c7382b42-f0c3-4bf7-b823-81699ef59e32.nc to /home/nicolasf/research/CPP/indices/data/ERA5/daily/ERA5_daily_geopotential_1000_2019-08-06.nc (192.2K)\n",
      "2020-06-14 14:23:41,118 INFO Download rate 104.2K/s\n"
     ]
    },
    {
     "name": "stdout",
     "output_type": "stream",
     "text": [
      "downloading /home/nicolasf/research/CPP/indices/data/ERA5/daily/ERA5_daily_geopotential_1000_2019-08-07.nc\n"
     ]
    },
    {
     "name": "stderr",
     "output_type": "stream",
     "text": [
      "2020-06-14 14:23:42,857 INFO Welcome to the CDS\n",
      "2020-06-14 14:23:42,858 INFO Sending request to https://cds.climate.copernicus.eu/api/v2/resources/reanalysis-era5-pressure-levels\n",
      "2020-06-14 14:23:44,390 INFO Request is queued\n",
      "2020-06-14 14:23:45,721 INFO Request is completed\n",
      "2020-06-14 14:23:45,724 INFO Downloading http://136.156.133.25/cache-compute-0008/cache/data9/adaptor.mars.internal-1592101424.2277763-30833-15-bf631de7-d189-44a5-b22f-61a9c420a452.nc to /home/nicolasf/research/CPP/indices/data/ERA5/daily/ERA5_daily_geopotential_1000_2019-08-07.nc (192.2K)\n",
      "2020-06-14 14:23:47,571 INFO Download rate 104.2K/s\n"
     ]
    },
    {
     "name": "stdout",
     "output_type": "stream",
     "text": [
      "downloading /home/nicolasf/research/CPP/indices/data/ERA5/daily/ERA5_daily_geopotential_1000_2019-08-08.nc\n"
     ]
    },
    {
     "name": "stderr",
     "output_type": "stream",
     "text": [
      "2020-06-14 14:23:49,616 INFO Welcome to the CDS\n",
      "2020-06-14 14:23:49,617 INFO Sending request to https://cds.climate.copernicus.eu/api/v2/resources/reanalysis-era5-pressure-levels\n",
      "2020-06-14 14:23:50,843 INFO Request is queued\n",
      "2020-06-14 14:23:52,173 INFO Request is running\n",
      "2020-06-14 14:23:54,016 INFO Request is completed\n",
      "2020-06-14 14:23:54,018 INFO Downloading http://136.156.132.105/cache-compute-0000/cache/data7/adaptor.mars.internal-1592101430.822459-29360-33-7ced393e-531e-4fae-8f44-d28ff53d3272.nc to /home/nicolasf/research/CPP/indices/data/ERA5/daily/ERA5_daily_geopotential_1000_2019-08-08.nc (192.2K)\n",
      "2020-06-14 14:23:55,864 INFO Download rate 104.2K/s\n"
     ]
    },
    {
     "name": "stdout",
     "output_type": "stream",
     "text": [
      "downloading /home/nicolasf/research/CPP/indices/data/ERA5/daily/ERA5_daily_geopotential_1000_2019-08-09.nc\n"
     ]
    },
    {
     "name": "stderr",
     "output_type": "stream",
     "text": [
      "2020-06-14 14:23:57,502 INFO Welcome to the CDS\n",
      "2020-06-14 14:23:57,503 INFO Sending request to https://cds.climate.copernicus.eu/api/v2/resources/reanalysis-era5-pressure-levels\n",
      "2020-06-14 14:23:59,033 INFO Request is queued\n",
      "2020-06-14 14:24:00,365 INFO Request is running\n",
      "2020-06-14 14:24:02,208 INFO Request is completed\n",
      "2020-06-14 14:24:02,210 INFO Downloading http://136.156.132.236/cache-compute-0007/cache/data0/adaptor.mars.internal-1592101439.2931185-9909-21-c0384f79-e904-4fe8-a0a8-7cf5c4323955.nc to /home/nicolasf/research/CPP/indices/data/ERA5/daily/ERA5_daily_geopotential_1000_2019-08-09.nc (192.2K)\n",
      "2020-06-14 14:24:04,057 INFO Download rate 104.1K/s\n"
     ]
    },
    {
     "name": "stdout",
     "output_type": "stream",
     "text": [
      "downloading /home/nicolasf/research/CPP/indices/data/ERA5/daily/ERA5_daily_geopotential_1000_2019-08-10.nc\n"
     ]
    },
    {
     "name": "stderr",
     "output_type": "stream",
     "text": [
      "2020-06-14 14:24:05,592 INFO Welcome to the CDS\n",
      "2020-06-14 14:24:05,593 INFO Sending request to https://cds.climate.copernicus.eu/api/v2/resources/reanalysis-era5-pressure-levels\n",
      "2020-06-14 14:24:06,911 INFO Request is queued\n",
      "2020-06-14 14:24:08,251 INFO Request is completed\n",
      "2020-06-14 14:24:08,253 INFO Downloading http://136.156.133.25/cache-compute-0008/cache/data7/adaptor.mars.internal-1592101446.8525429-25037-29-03923556-6da0-4e73-b27e-49e1fdfbfc9b.nc to /home/nicolasf/research/CPP/indices/data/ERA5/daily/ERA5_daily_geopotential_1000_2019-08-10.nc (192.2K)\n",
      "2020-06-14 14:24:10,100 INFO Download rate 104.1K/s\n"
     ]
    },
    {
     "name": "stdout",
     "output_type": "stream",
     "text": [
      "downloading /home/nicolasf/research/CPP/indices/data/ERA5/daily/ERA5_daily_geopotential_1000_2019-08-11.nc\n"
     ]
    },
    {
     "name": "stderr",
     "output_type": "stream",
     "text": [
      "2020-06-14 14:24:12,657 INFO Welcome to the CDS\n",
      "2020-06-14 14:24:12,658 INFO Sending request to https://cds.climate.copernicus.eu/api/v2/resources/reanalysis-era5-pressure-levels\n",
      "2020-06-14 14:24:14,190 INFO Request is queued\n",
      "2020-06-14 14:24:15,520 INFO Request is completed\n",
      "2020-06-14 14:24:15,522 INFO Downloading http://136.156.133.25/cache-compute-0008/cache/data9/adaptor.mars.internal-1592101454.037841-32631-5-3157effc-f8e2-4a30-a1df-6ad92653c75d.nc to /home/nicolasf/research/CPP/indices/data/ERA5/daily/ERA5_daily_geopotential_1000_2019-08-11.nc (192.2K)\n",
      "2020-06-14 14:24:17,368 INFO Download rate 104.2K/s\n"
     ]
    },
    {
     "name": "stdout",
     "output_type": "stream",
     "text": [
      "downloading /home/nicolasf/research/CPP/indices/data/ERA5/daily/ERA5_daily_geopotential_1000_2019-08-12.nc\n"
     ]
    },
    {
     "name": "stderr",
     "output_type": "stream",
     "text": [
      "2020-06-14 14:24:18,864 INFO Welcome to the CDS\n",
      "2020-06-14 14:24:18,865 INFO Sending request to https://cds.climate.copernicus.eu/api/v2/resources/reanalysis-era5-pressure-levels\n",
      "2020-06-14 14:24:20,142 INFO Request is queued\n",
      "2020-06-14 14:24:21,460 INFO Request is completed\n",
      "2020-06-14 14:24:21,462 INFO Downloading http://136.156.133.25/cache-compute-0008/cache/data6/adaptor.mars.internal-1592101460.06103-30776-18-f89e9ae3-d23e-4be0-ae01-ca6ea3423c47.nc to /home/nicolasf/research/CPP/indices/data/ERA5/daily/ERA5_daily_geopotential_1000_2019-08-12.nc (192.2K)\n",
      "2020-06-14 14:24:23,310 INFO Download rate 104.1K/s\n"
     ]
    },
    {
     "name": "stdout",
     "output_type": "stream",
     "text": [
      "downloading /home/nicolasf/research/CPP/indices/data/ERA5/daily/ERA5_daily_geopotential_1000_2019-08-13.nc\n"
     ]
    },
    {
     "name": "stderr",
     "output_type": "stream",
     "text": [
      "2020-06-14 14:24:25,252 INFO Welcome to the CDS\n",
      "2020-06-14 14:24:25,253 INFO Sending request to https://cds.climate.copernicus.eu/api/v2/resources/reanalysis-era5-pressure-levels\n",
      "2020-06-14 14:24:26,681 INFO Request is queued\n",
      "2020-06-14 14:24:28,013 INFO Request is completed\n",
      "2020-06-14 14:24:28,015 INFO Downloading http://136.156.132.198/cache-compute-0003/cache/data1/adaptor.mars.internal-1592101466.5781357-28187-5-3a303836-ade9-43af-9bf4-180ef5385143.nc to /home/nicolasf/research/CPP/indices/data/ERA5/daily/ERA5_daily_geopotential_1000_2019-08-13.nc (192.2K)\n",
      "2020-06-14 14:24:29,861 INFO Download rate 104.2K/s\n"
     ]
    },
    {
     "name": "stdout",
     "output_type": "stream",
     "text": [
      "downloading /home/nicolasf/research/CPP/indices/data/ERA5/daily/ERA5_daily_geopotential_1000_2019-08-14.nc\n"
     ]
    },
    {
     "name": "stderr",
     "output_type": "stream",
     "text": [
      "2020-06-14 14:24:31,499 INFO Welcome to the CDS\n",
      "2020-06-14 14:24:31,500 INFO Sending request to https://cds.climate.copernicus.eu/api/v2/resources/reanalysis-era5-pressure-levels\n",
      "2020-06-14 14:24:33,440 INFO Request is queued\n",
      "2020-06-14 14:24:34,772 INFO Request is completed\n",
      "2020-06-14 14:24:34,774 INFO Downloading http://136.156.132.236/cache-compute-0007/cache/data9/adaptor.mars.internal-1592101473.3389087-18310-3-196e2271-b23d-4aee-8611-e6a9d1557ee7.nc to /home/nicolasf/research/CPP/indices/data/ERA5/daily/ERA5_daily_geopotential_1000_2019-08-14.nc (192.2K)\n",
      "2020-06-14 14:24:36,620 INFO Download rate 104.2K/s\n"
     ]
    },
    {
     "name": "stdout",
     "output_type": "stream",
     "text": [
      "downloading /home/nicolasf/research/CPP/indices/data/ERA5/daily/ERA5_daily_geopotential_1000_2019-08-15.nc\n"
     ]
    },
    {
     "name": "stderr",
     "output_type": "stream",
     "text": [
      "2020-06-14 14:24:38,155 INFO Welcome to the CDS\n",
      "2020-06-14 14:24:38,156 INFO Sending request to https://cds.climate.copernicus.eu/api/v2/resources/reanalysis-era5-pressure-levels\n",
      "2020-06-14 14:24:39,427 INFO Request is queued\n",
      "2020-06-14 14:24:40,814 INFO Request is completed\n",
      "2020-06-14 14:24:40,816 INFO Downloading http://136.156.133.25/cache-compute-0008/cache/data1/adaptor.mars.internal-1592101479.3829703-29721-24-550e3e17-1d4a-4f0c-a1b7-336a44ec8bdb.nc to /home/nicolasf/research/CPP/indices/data/ERA5/daily/ERA5_daily_geopotential_1000_2019-08-15.nc (192.2K)\n",
      "2020-06-14 14:24:42,663 INFO Download rate 104.2K/s\n"
     ]
    },
    {
     "name": "stdout",
     "output_type": "stream",
     "text": [
      "downloading /home/nicolasf/research/CPP/indices/data/ERA5/daily/ERA5_daily_geopotential_1000_2019-08-16.nc\n"
     ]
    },
    {
     "name": "stderr",
     "output_type": "stream",
     "text": [
      "2020-06-14 14:24:44,197 INFO Welcome to the CDS\n",
      "2020-06-14 14:24:44,198 INFO Sending request to https://cds.climate.copernicus.eu/api/v2/resources/reanalysis-era5-pressure-levels\n",
      "2020-06-14 14:24:45,598 INFO Request is queued\n",
      "2020-06-14 14:24:46,958 INFO Request is completed\n",
      "2020-06-14 14:24:46,960 INFO Downloading http://136.156.133.32/cache-compute-0009/cache/data2/adaptor.mars.internal-1592101485.5558913-10929-3-6e07546f-e475-45a3-a8d9-09936a12ac52.nc to /home/nicolasf/research/CPP/indices/data/ERA5/daily/ERA5_daily_geopotential_1000_2019-08-16.nc (192.2K)\n",
      "2020-06-14 14:24:48,809 INFO Download rate 104.1K/s\n"
     ]
    },
    {
     "name": "stdout",
     "output_type": "stream",
     "text": [
      "downloading /home/nicolasf/research/CPP/indices/data/ERA5/daily/ERA5_daily_geopotential_1000_2019-08-17.nc\n"
     ]
    },
    {
     "name": "stderr",
     "output_type": "stream",
     "text": [
      "2020-06-14 14:24:50,343 INFO Welcome to the CDS\n",
      "2020-06-14 14:24:50,343 INFO Sending request to https://cds.climate.copernicus.eu/api/v2/resources/reanalysis-era5-pressure-levels\n",
      "2020-06-14 14:24:51,584 INFO Request is queued\n",
      "2020-06-14 14:24:52,897 INFO Request is completed\n",
      "2020-06-14 14:24:52,899 INFO Downloading http://136.156.132.198/cache-compute-0003/cache/data1/adaptor.mars.internal-1592101491.5218756-28458-5-ba9769e7-d5ac-4599-b430-61be62133fed.nc to /home/nicolasf/research/CPP/indices/data/ERA5/daily/ERA5_daily_geopotential_1000_2019-08-17.nc (192.2K)\n",
      "2020-06-14 14:24:54,745 INFO Download rate 104.2K/s\n"
     ]
    },
    {
     "name": "stdout",
     "output_type": "stream",
     "text": [
      "downloading /home/nicolasf/research/CPP/indices/data/ERA5/daily/ERA5_daily_geopotential_1000_2019-08-18.nc\n"
     ]
    },
    {
     "name": "stderr",
     "output_type": "stream",
     "text": [
      "2020-06-14 14:24:56,588 INFO Welcome to the CDS\n",
      "2020-06-14 14:24:56,588 INFO Sending request to https://cds.climate.copernicus.eu/api/v2/resources/reanalysis-era5-pressure-levels\n",
      "2020-06-14 14:24:57,846 INFO Request is queued\n",
      "2020-06-14 14:24:59,144 INFO Request is running\n",
      "2020-06-14 14:25:00,988 INFO Request is completed\n",
      "2020-06-14 14:25:00,989 INFO Downloading http://136.156.132.110/cache-compute-0001/cache/data9/adaptor.mars.internal-1592101498.1058958-19537-1-56fbb996-03fa-4c4b-a950-02aeaee98c15.nc to /home/nicolasf/research/CPP/indices/data/ERA5/daily/ERA5_daily_geopotential_1000_2019-08-18.nc (192.2K)\n",
      "2020-06-14 14:25:02,837 INFO Download rate 104.1K/s\n"
     ]
    },
    {
     "name": "stdout",
     "output_type": "stream",
     "text": [
      "downloading /home/nicolasf/research/CPP/indices/data/ERA5/daily/ERA5_daily_geopotential_1000_2019-08-19.nc\n"
     ]
    },
    {
     "name": "stderr",
     "output_type": "stream",
     "text": [
      "2020-06-14 14:25:04,677 INFO Welcome to the CDS\n",
      "2020-06-14 14:25:04,677 INFO Sending request to https://cds.climate.copernicus.eu/api/v2/resources/reanalysis-era5-pressure-levels\n",
      "2020-06-14 14:25:05,915 INFO Request is queued\n",
      "2020-06-14 14:25:07,234 INFO Request is completed\n",
      "2020-06-14 14:25:07,235 INFO Downloading http://136.156.132.110/cache-compute-0001/cache/data9/adaptor.mars.internal-1592101506.227073-19546-1-1cdd2b9c-5cd2-4fec-b9e0-9ffb8fe5ab90.nc to /home/nicolasf/research/CPP/indices/data/ERA5/daily/ERA5_daily_geopotential_1000_2019-08-19.nc (192.2K)\n",
      "2020-06-14 14:25:09,082 INFO Download rate 104.2K/s\n"
     ]
    },
    {
     "name": "stdout",
     "output_type": "stream",
     "text": [
      "downloading /home/nicolasf/research/CPP/indices/data/ERA5/daily/ERA5_daily_geopotential_1000_2019-08-20.nc\n"
     ]
    },
    {
     "name": "stderr",
     "output_type": "stream",
     "text": [
      "2020-06-14 14:25:10,719 INFO Welcome to the CDS\n",
      "2020-06-14 14:25:10,721 INFO Sending request to https://cds.climate.copernicus.eu/api/v2/resources/reanalysis-era5-pressure-levels\n",
      "2020-06-14 14:25:11,949 INFO Request is queued\n",
      "2020-06-14 14:25:13,275 INFO Request is running\n",
      "2020-06-14 14:25:15,119 INFO Request is completed\n",
      "2020-06-14 14:25:15,121 INFO Downloading http://136.156.132.236/cache-compute-0007/cache/data4/adaptor.mars.internal-1592101512.1433327-18879-1-1fe7c693-3be0-44a8-94d0-3940dc6acbb3.nc to /home/nicolasf/research/CPP/indices/data/ERA5/daily/ERA5_daily_geopotential_1000_2019-08-20.nc (192.2K)\n",
      "2020-06-14 14:25:16,967 INFO Download rate 104.2K/s\n"
     ]
    },
    {
     "name": "stdout",
     "output_type": "stream",
     "text": [
      "downloading /home/nicolasf/research/CPP/indices/data/ERA5/daily/ERA5_daily_geopotential_1000_2019-08-21.nc\n"
     ]
    },
    {
     "name": "stderr",
     "output_type": "stream",
     "text": [
      "2020-06-14 14:25:18,502 INFO Welcome to the CDS\n",
      "2020-06-14 14:25:18,502 INFO Sending request to https://cds.climate.copernicus.eu/api/v2/resources/reanalysis-era5-pressure-levels\n",
      "2020-06-14 14:25:19,738 INFO Request is queued\n",
      "2020-06-14 14:25:21,058 INFO Request is completed\n",
      "2020-06-14 14:25:21,060 INFO Downloading http://136.156.133.36/cache-compute-0010/cache/data6/adaptor.mars.internal-1592101519.902497-14293-30-3c6f72c2-b370-48bd-b089-5b234e39c6a0.nc to /home/nicolasf/research/CPP/indices/data/ERA5/daily/ERA5_daily_geopotential_1000_2019-08-21.nc (192.2K)\n",
      "2020-06-14 14:25:22,907 INFO Download rate 104.1K/s\n"
     ]
    },
    {
     "name": "stdout",
     "output_type": "stream",
     "text": [
      "downloading /home/nicolasf/research/CPP/indices/data/ERA5/daily/ERA5_daily_geopotential_1000_2019-08-22.nc\n"
     ]
    },
    {
     "name": "stderr",
     "output_type": "stream",
     "text": [
      "2020-06-14 14:25:24,441 INFO Welcome to the CDS\n",
      "2020-06-14 14:25:24,441 INFO Sending request to https://cds.climate.copernicus.eu/api/v2/resources/reanalysis-era5-pressure-levels\n",
      "2020-06-14 14:25:25,708 INFO Request is queued\n",
      "2020-06-14 14:25:27,100 INFO Request is completed\n",
      "2020-06-14 14:25:27,102 INFO Downloading http://136.156.132.153/cache-compute-0002/cache/data1/adaptor.mars.internal-1592101525.797548-8711-36-8592f528-fda5-4961-b3e2-0083507bc751.nc to /home/nicolasf/research/CPP/indices/data/ERA5/daily/ERA5_daily_geopotential_1000_2019-08-22.nc (192.2K)\n",
      "2020-06-14 14:25:28,949 INFO Download rate 104.1K/s\n"
     ]
    },
    {
     "name": "stdout",
     "output_type": "stream",
     "text": [
      "downloading /home/nicolasf/research/CPP/indices/data/ERA5/daily/ERA5_daily_geopotential_1000_2019-08-23.nc\n"
     ]
    },
    {
     "name": "stderr",
     "output_type": "stream",
     "text": [
      "2020-06-14 14:25:30,688 INFO Welcome to the CDS\n",
      "2020-06-14 14:25:30,688 INFO Sending request to https://cds.climate.copernicus.eu/api/v2/resources/reanalysis-era5-pressure-levels\n",
      "2020-06-14 14:25:33,349 INFO Request is queued\n",
      "2020-06-14 14:25:34,678 INFO Request is completed\n",
      "2020-06-14 14:25:34,679 INFO Downloading http://136.156.133.37/cache-compute-0011/cache/data6/adaptor.mars.internal-1592101533.1389182-8518-27-b9ec4bb8-0e0f-450f-8b9d-02803b38e959.nc to /home/nicolasf/research/CPP/indices/data/ERA5/daily/ERA5_daily_geopotential_1000_2019-08-23.nc (192.2K)\n",
      "2020-06-14 14:25:36,527 INFO Download rate 104.1K/s\n"
     ]
    },
    {
     "name": "stdout",
     "output_type": "stream",
     "text": [
      "downloading /home/nicolasf/research/CPP/indices/data/ERA5/daily/ERA5_daily_geopotential_1000_2019-08-24.nc\n"
     ]
    },
    {
     "name": "stderr",
     "output_type": "stream",
     "text": [
      "2020-06-14 14:25:38,163 INFO Welcome to the CDS\n",
      "2020-06-14 14:25:38,163 INFO Sending request to https://cds.climate.copernicus.eu/api/v2/resources/reanalysis-era5-pressure-levels\n",
      "2020-06-14 14:25:39,900 INFO Request is queued\n",
      "2020-06-14 14:25:41,231 INFO Request is running\n",
      "2020-06-14 14:25:43,022 INFO Request is completed\n",
      "2020-06-14 14:25:43,024 INFO Downloading http://136.156.132.210/cache-compute-0005/cache/data9/adaptor.mars.internal-1592101540.4289439-3758-16-6e7d7875-ebe8-4b9a-a1da-a77d94f0ada3.nc to /home/nicolasf/research/CPP/indices/data/ERA5/daily/ERA5_daily_geopotential_1000_2019-08-24.nc (192.2K)\n",
      "2020-06-14 14:25:44,924 INFO Download rate 101.3K/s\n"
     ]
    },
    {
     "name": "stdout",
     "output_type": "stream",
     "text": [
      "downloading /home/nicolasf/research/CPP/indices/data/ERA5/daily/ERA5_daily_geopotential_1000_2019-08-25.nc\n"
     ]
    },
    {
     "name": "stderr",
     "output_type": "stream",
     "text": [
      "2020-06-14 14:25:46,560 INFO Welcome to the CDS\n",
      "2020-06-14 14:25:46,560 INFO Sending request to https://cds.climate.copernicus.eu/api/v2/resources/reanalysis-era5-pressure-levels\n",
      "2020-06-14 14:25:47,820 INFO Request is queued\n",
      "2020-06-14 14:25:49,116 INFO Request is completed\n",
      "2020-06-14 14:25:49,119 INFO Downloading http://136.156.133.39/cache-compute-0012/cache/data6/adaptor.mars.internal-1592101548.158567-9387-11-32ef4f9b-6355-40ea-b8c8-ddf8bf0516df.nc to /home/nicolasf/research/CPP/indices/data/ERA5/daily/ERA5_daily_geopotential_1000_2019-08-25.nc (192.2K)\n",
      "2020-06-14 14:25:50,964 INFO Download rate 104.2K/s\n"
     ]
    },
    {
     "name": "stdout",
     "output_type": "stream",
     "text": [
      "downloading /home/nicolasf/research/CPP/indices/data/ERA5/daily/ERA5_daily_geopotential_1000_2019-08-26.nc\n"
     ]
    },
    {
     "name": "stderr",
     "output_type": "stream",
     "text": [
      "2020-06-14 14:25:52,602 INFO Welcome to the CDS\n",
      "2020-06-14 14:25:52,602 INFO Sending request to https://cds.climate.copernicus.eu/api/v2/resources/reanalysis-era5-pressure-levels\n",
      "2020-06-14 14:25:53,977 INFO Request is queued\n",
      "2020-06-14 14:25:55,362 INFO Request is running\n",
      "2020-06-14 14:25:57,206 INFO Request is completed\n",
      "2020-06-14 14:25:57,208 INFO Downloading http://136.156.133.37/cache-compute-0011/cache/data7/adaptor.mars.internal-1592101554.1985147-15987-12-66eb4ae3-a7b0-4230-878b-e67d4b51dc2a.nc to /home/nicolasf/research/CPP/indices/data/ERA5/daily/ERA5_daily_geopotential_1000_2019-08-26.nc (192.2K)\n",
      "2020-06-14 14:25:59,360 INFO Download rate 89.4K/s \n"
     ]
    },
    {
     "name": "stdout",
     "output_type": "stream",
     "text": [
      "downloading /home/nicolasf/research/CPP/indices/data/ERA5/daily/ERA5_daily_geopotential_1000_2019-08-27.nc\n"
     ]
    },
    {
     "name": "stderr",
     "output_type": "stream",
     "text": [
      "2020-06-14 14:26:00,999 INFO Welcome to the CDS\n",
      "2020-06-14 14:26:01,000 INFO Sending request to https://cds.climate.copernicus.eu/api/v2/resources/reanalysis-era5-pressure-levels\n",
      "2020-06-14 14:26:02,326 INFO Request is queued\n",
      "2020-06-14 14:26:03,658 INFO Request is completed\n",
      "2020-06-14 14:26:03,660 INFO Downloading http://136.156.133.41/cache-compute-0013/cache/data3/adaptor.mars.internal-1592101562.297756-13576-25-28fc7984-19c9-4200-8257-84b0c8dffb41.nc to /home/nicolasf/research/CPP/indices/data/ERA5/daily/ERA5_daily_geopotential_1000_2019-08-27.nc (192.2K)\n",
      "2020-06-14 14:26:05,507 INFO Download rate 104.2K/s\n"
     ]
    },
    {
     "name": "stdout",
     "output_type": "stream",
     "text": [
      "downloading /home/nicolasf/research/CPP/indices/data/ERA5/daily/ERA5_daily_geopotential_1000_2019-08-28.nc\n"
     ]
    },
    {
     "name": "stderr",
     "output_type": "stream",
     "text": [
      "2020-06-14 14:26:07,242 INFO Welcome to the CDS\n",
      "2020-06-14 14:26:07,242 INFO Sending request to https://cds.climate.copernicus.eu/api/v2/resources/reanalysis-era5-pressure-levels\n",
      "2020-06-14 14:26:08,564 INFO Request is queued\n",
      "2020-06-14 14:26:09,855 INFO Request is completed\n",
      "2020-06-14 14:26:09,857 INFO Downloading http://136.156.133.36/cache-compute-0010/cache/data0/adaptor.mars.internal-1592101568.4683068-20402-16-c856da10-882c-4845-8e3b-361a75d8401b.nc to /home/nicolasf/research/CPP/indices/data/ERA5/daily/ERA5_daily_geopotential_1000_2019-08-28.nc (192.2K)\n",
      "2020-06-14 14:26:11,754 INFO Download rate 101.4K/s\n"
     ]
    },
    {
     "name": "stdout",
     "output_type": "stream",
     "text": [
      "downloading /home/nicolasf/research/CPP/indices/data/ERA5/daily/ERA5_daily_geopotential_1000_2019-08-29.nc\n"
     ]
    },
    {
     "name": "stderr",
     "output_type": "stream",
     "text": [
      "2020-06-14 14:26:13,389 INFO Welcome to the CDS\n",
      "2020-06-14 14:26:13,390 INFO Sending request to https://cds.climate.copernicus.eu/api/v2/resources/reanalysis-era5-pressure-levels\n",
      "2020-06-14 14:26:14,752 INFO Request is queued\n",
      "2020-06-14 14:26:16,149 INFO Request is completed\n",
      "2020-06-14 14:26:16,150 INFO Downloading http://136.156.132.210/cache-compute-0005/cache/data0/adaptor.mars.internal-1592101574.6979065-1375-27-dfc3afb6-050c-45c3-be8c-cd3a7ee225e9.nc to /home/nicolasf/research/CPP/indices/data/ERA5/daily/ERA5_daily_geopotential_1000_2019-08-29.nc (192.2K)\n",
      "2020-06-14 14:26:18,001 INFO Download rate 103.9K/s\n"
     ]
    },
    {
     "name": "stdout",
     "output_type": "stream",
     "text": [
      "downloading /home/nicolasf/research/CPP/indices/data/ERA5/daily/ERA5_daily_geopotential_1000_2019-08-30.nc\n"
     ]
    },
    {
     "name": "stderr",
     "output_type": "stream",
     "text": [
      "2020-06-14 14:26:19,534 INFO Welcome to the CDS\n",
      "2020-06-14 14:26:19,535 INFO Sending request to https://cds.climate.copernicus.eu/api/v2/resources/reanalysis-era5-pressure-levels\n",
      "2020-06-14 14:26:20,791 INFO Request is queued\n",
      "2020-06-14 14:26:22,090 INFO Request is running\n",
      "2020-06-14 14:26:23,933 INFO Request is completed\n",
      "2020-06-14 14:26:23,935 INFO Downloading http://136.156.132.201/cache-compute-0004/cache/data7/adaptor.mars.internal-1592101581.1342933-18601-22-5e830327-9e3d-4638-a1e3-614394f543e6.nc to /home/nicolasf/research/CPP/indices/data/ERA5/daily/ERA5_daily_geopotential_1000_2019-08-30.nc (192.2K)\n",
      "2020-06-14 14:26:25,782 INFO Download rate 104.3K/s\n"
     ]
    },
    {
     "name": "stdout",
     "output_type": "stream",
     "text": [
      "downloading /home/nicolasf/research/CPP/indices/data/ERA5/daily/ERA5_daily_geopotential_1000_2019-08-31.nc\n"
     ]
    },
    {
     "name": "stderr",
     "output_type": "stream",
     "text": [
      "2020-06-14 14:26:27,414 INFO Welcome to the CDS\n",
      "2020-06-14 14:26:27,415 INFO Sending request to https://cds.climate.copernicus.eu/api/v2/resources/reanalysis-era5-pressure-levels\n",
      "2020-06-14 14:26:28,848 INFO Request is queued\n",
      "2020-06-14 14:26:30,181 INFO Request is completed\n",
      "2020-06-14 14:26:30,183 INFO Downloading http://136.156.132.105/cache-compute-0000/cache/data9/adaptor.mars.internal-1592101588.9308639-7866-3-e5f1960f-dffe-4cf3-bfe8-2c2484925815.nc to /home/nicolasf/research/CPP/indices/data/ERA5/daily/ERA5_daily_geopotential_1000_2019-08-31.nc (192.2K)\n",
      "2020-06-14 14:26:31,997 INFO Download rate 106.1K/s\n"
     ]
    },
    {
     "name": "stdout",
     "output_type": "stream",
     "text": [
      "downloading /home/nicolasf/research/CPP/indices/data/ERA5/daily/ERA5_daily_geopotential_1000_2019-09-01.nc\n"
     ]
    },
    {
     "name": "stderr",
     "output_type": "stream",
     "text": [
      "2020-06-14 14:26:33,563 INFO Welcome to the CDS\n",
      "2020-06-14 14:26:33,564 INFO Sending request to https://cds.climate.copernicus.eu/api/v2/resources/reanalysis-era5-pressure-levels\n",
      "2020-06-14 14:26:34,877 INFO Request is queued\n",
      "2020-06-14 14:26:36,222 INFO Request is running\n",
      "2020-06-14 14:26:38,065 INFO Request is completed\n",
      "2020-06-14 14:26:38,067 INFO Downloading http://136.156.133.37/cache-compute-0011/cache/data3/adaptor.mars.internal-1592101595.0694883-16537-9-583aec66-64a2-4983-b9d5-02ebd35d039d.nc to /home/nicolasf/research/CPP/indices/data/ERA5/daily/ERA5_daily_geopotential_1000_2019-09-01.nc (192.2K)\n",
      "2020-06-14 14:26:39,914 INFO Download rate 104.2K/s\n"
     ]
    },
    {
     "name": "stdout",
     "output_type": "stream",
     "text": [
      "downloading /home/nicolasf/research/CPP/indices/data/ERA5/daily/ERA5_daily_geopotential_1000_2019-09-02.nc\n"
     ]
    },
    {
     "name": "stderr",
     "output_type": "stream",
     "text": [
      "2020-06-14 14:26:41,960 INFO Welcome to the CDS\n",
      "2020-06-14 14:26:41,961 INFO Sending request to https://cds.climate.copernicus.eu/api/v2/resources/reanalysis-era5-pressure-levels\n",
      "2020-06-14 14:26:43,389 INFO Request is queued\n",
      "2020-06-14 14:26:44,721 INFO Request is completed\n",
      "2020-06-14 14:26:44,723 INFO Downloading http://136.156.132.236/cache-compute-0007/cache/data7/adaptor.mars.internal-1592101603.2941606-15968-24-a93857f9-52f3-4450-a9e7-1c213f5899c1.nc to /home/nicolasf/research/CPP/indices/data/ERA5/daily/ERA5_daily_geopotential_1000_2019-09-02.nc (192.2K)\n",
      "2020-06-14 14:26:46,571 INFO Download rate 104.1K/s\n"
     ]
    },
    {
     "name": "stdout",
     "output_type": "stream",
     "text": [
      "downloading /home/nicolasf/research/CPP/indices/data/ERA5/daily/ERA5_daily_geopotential_1000_2019-09-03.nc\n"
     ]
    },
    {
     "name": "stderr",
     "output_type": "stream",
     "text": [
      "2020-06-14 14:26:48,311 INFO Welcome to the CDS\n",
      "2020-06-14 14:26:48,312 INFO Sending request to https://cds.climate.copernicus.eu/api/v2/resources/reanalysis-era5-pressure-levels\n",
      "2020-06-14 14:26:49,841 INFO Request is queued\n",
      "2020-06-14 14:26:51,172 INFO Request is running\n",
      "2020-06-14 14:26:53,016 INFO Request is completed\n",
      "2020-06-14 14:26:53,017 INFO Downloading http://136.156.133.25/cache-compute-0008/cache/data9/adaptor.mars.internal-1592101610.224091-1257-5-77aca58e-c72f-429e-bb58-ef83a996a71f.nc to /home/nicolasf/research/CPP/indices/data/ERA5/daily/ERA5_daily_geopotential_1000_2019-09-03.nc (192.2K)\n",
      "2020-06-14 14:26:54,866 INFO Download rate 104.1K/s\n"
     ]
    },
    {
     "name": "stdout",
     "output_type": "stream",
     "text": [
      "downloading /home/nicolasf/research/CPP/indices/data/ERA5/daily/ERA5_daily_geopotential_1000_2019-09-04.nc\n"
     ]
    },
    {
     "name": "stderr",
     "output_type": "stream",
     "text": [
      "2020-06-14 14:26:56,606 INFO Welcome to the CDS\n",
      "2020-06-14 14:26:56,607 INFO Sending request to https://cds.climate.copernicus.eu/api/v2/resources/reanalysis-era5-pressure-levels\n",
      "2020-06-14 14:26:58,136 INFO Request is queued\n",
      "2020-06-14 14:26:59,467 INFO Request is completed\n",
      "2020-06-14 14:26:59,469 INFO Downloading http://136.156.133.46/cache-compute-0015/cache/data1/adaptor.mars.internal-1592101618.0426126-16226-3-fda5547c-7269-4326-9063-56e87746d224.nc to /home/nicolasf/research/CPP/indices/data/ERA5/daily/ERA5_daily_geopotential_1000_2019-09-04.nc (192.2K)\n",
      "2020-06-14 14:27:01,316 INFO Download rate 104.2K/s\n"
     ]
    },
    {
     "name": "stdout",
     "output_type": "stream",
     "text": [
      "downloading /home/nicolasf/research/CPP/indices/data/ERA5/daily/ERA5_daily_geopotential_1000_2019-09-05.nc\n"
     ]
    },
    {
     "name": "stderr",
     "output_type": "stream",
     "text": [
      "2020-06-14 14:27:02,952 INFO Welcome to the CDS\n",
      "2020-06-14 14:27:02,953 INFO Sending request to https://cds.climate.copernicus.eu/api/v2/resources/reanalysis-era5-pressure-levels\n",
      "2020-06-14 14:27:13,189 INFO Request is queued\n",
      "2020-06-14 14:27:14,473 INFO Request is running\n",
      "2020-06-14 14:27:16,365 INFO Request is completed\n",
      "2020-06-14 14:27:16,367 INFO Downloading http://136.156.133.25/cache-compute-0008/cache/data3/adaptor.mars.internal-1592101634.0379415-962-7-0c754510-add6-48bb-9502-1936322f0297.nc to /home/nicolasf/research/CPP/indices/data/ERA5/daily/ERA5_daily_geopotential_1000_2019-09-05.nc (192.2K)\n",
      "2020-06-14 14:27:18,216 INFO Download rate 104K/s  \n"
     ]
    },
    {
     "name": "stdout",
     "output_type": "stream",
     "text": [
      "downloading /home/nicolasf/research/CPP/indices/data/ERA5/daily/ERA5_daily_geopotential_1000_2019-09-06.nc\n"
     ]
    },
    {
     "name": "stderr",
     "output_type": "stream",
     "text": [
      "2020-06-14 14:27:19,747 INFO Welcome to the CDS\n",
      "2020-06-14 14:27:19,748 INFO Sending request to https://cds.climate.copernicus.eu/api/v2/resources/reanalysis-era5-pressure-levels\n",
      "2020-06-14 14:27:24,556 INFO Request is queued\n",
      "2020-06-14 14:27:25,887 INFO Request is running\n",
      "2020-06-14 14:27:27,730 INFO Request is completed\n",
      "2020-06-14 14:27:27,732 INFO Downloading http://136.156.132.153/cache-compute-0002/cache/data5/adaptor.mars.internal-1592101644.7039232-19175-1-35f6380c-c760-4367-b0a2-2667476a0f44.nc to /home/nicolasf/research/CPP/indices/data/ERA5/daily/ERA5_daily_geopotential_1000_2019-09-06.nc (192.2K)\n",
      "2020-06-14 14:27:29,580 INFO Download rate 104.1K/s\n"
     ]
    },
    {
     "name": "stdout",
     "output_type": "stream",
     "text": [
      "downloading /home/nicolasf/research/CPP/indices/data/ERA5/daily/ERA5_daily_geopotential_1000_2019-09-07.nc\n"
     ]
    },
    {
     "name": "stderr",
     "output_type": "stream",
     "text": [
      "2020-06-14 14:27:31,624 INFO Welcome to the CDS\n",
      "2020-06-14 14:27:31,625 INFO Sending request to https://cds.climate.copernicus.eu/api/v2/resources/reanalysis-era5-pressure-levels\n",
      "2020-06-14 14:27:33,772 INFO Request is queued\n",
      "2020-06-14 14:27:35,103 INFO Request is completed\n",
      "2020-06-14 14:27:35,105 INFO Downloading http://136.156.132.153/cache-compute-0002/cache/data5/adaptor.mars.internal-1592101653.90758-13699-33-9202d575-546a-4e82-8249-39d8195a9b96.nc to /home/nicolasf/research/CPP/indices/data/ERA5/daily/ERA5_daily_geopotential_1000_2019-09-07.nc (192.2K)\n",
      "2020-06-14 14:27:37,055 INFO Download rate 98.7K/s \n"
     ]
    },
    {
     "name": "stdout",
     "output_type": "stream",
     "text": [
      "downloading /home/nicolasf/research/CPP/indices/data/ERA5/daily/ERA5_daily_geopotential_1000_2019-09-08.nc\n"
     ]
    },
    {
     "name": "stderr",
     "output_type": "stream",
     "text": [
      "2020-06-14 14:27:38,690 INFO Welcome to the CDS\n",
      "2020-06-14 14:27:38,691 INFO Sending request to https://cds.climate.copernicus.eu/api/v2/resources/reanalysis-era5-pressure-levels\n",
      "2020-06-14 14:27:40,427 INFO Request is queued\n",
      "2020-06-14 14:27:41,760 INFO Request is completed\n",
      "2020-06-14 14:27:41,763 INFO Downloading http://136.156.132.210/cache-compute-0005/cache/data5/adaptor.mars.internal-1592101660.3340356-10660-32-94239db7-4c33-41e6-bb5a-7c6926cd8a4e.nc to /home/nicolasf/research/CPP/indices/data/ERA5/daily/ERA5_daily_geopotential_1000_2019-09-08.nc (192.2K)\n",
      "2020-06-14 14:27:43,607 INFO Download rate 104.3K/s\n"
     ]
    },
    {
     "name": "stdout",
     "output_type": "stream",
     "text": [
      "downloading /home/nicolasf/research/CPP/indices/data/ERA5/daily/ERA5_daily_geopotential_1000_2019-09-09.nc\n"
     ]
    },
    {
     "name": "stderr",
     "output_type": "stream",
     "text": [
      "2020-06-14 14:27:45,551 INFO Welcome to the CDS\n",
      "2020-06-14 14:27:45,552 INFO Sending request to https://cds.climate.copernicus.eu/api/v2/resources/reanalysis-era5-pressure-levels\n",
      "2020-06-14 14:27:46,981 INFO Request is queued\n",
      "2020-06-14 14:27:48,313 INFO Request is completed\n",
      "2020-06-14 14:27:48,315 INFO Downloading http://136.156.132.105/cache-compute-0000/cache/data7/adaptor.mars.internal-1592101667.132465-6568-12-0ad58414-3e56-4963-8a4d-d0171013698b.nc to /home/nicolasf/research/CPP/indices/data/ERA5/daily/ERA5_daily_geopotential_1000_2019-09-09.nc (192.2K)\n",
      "2020-06-14 14:27:50,163 INFO Download rate 104.1K/s\n"
     ]
    },
    {
     "name": "stdout",
     "output_type": "stream",
     "text": [
      "downloading /home/nicolasf/research/CPP/indices/data/ERA5/daily/ERA5_daily_geopotential_1000_2019-09-10.nc\n"
     ]
    },
    {
     "name": "stderr",
     "output_type": "stream",
     "text": [
      "2020-06-14 14:27:51,799 INFO Welcome to the CDS\n",
      "2020-06-14 14:27:51,799 INFO Sending request to https://cds.climate.copernicus.eu/api/v2/resources/reanalysis-era5-pressure-levels\n",
      "2020-06-14 14:27:58,963 INFO Request is queued\n",
      "2020-06-14 14:28:00,294 INFO Request is running\n",
      "2020-06-14 14:28:02,137 INFO Request is completed\n",
      "2020-06-14 14:28:02,139 INFO Downloading http://136.156.133.25/cache-compute-0008/cache/data7/adaptor.mars.internal-1592101679.234951-30416-29-dc3bb1ab-ee81-459d-b56a-2e503dd86b6b.nc to /home/nicolasf/research/CPP/indices/data/ERA5/daily/ERA5_daily_geopotential_1000_2019-09-10.nc (192.2K)\n",
      "2020-06-14 14:28:03,990 INFO Download rate 103.9K/s\n"
     ]
    },
    {
     "name": "stdout",
     "output_type": "stream",
     "text": [
      "downloading /home/nicolasf/research/CPP/indices/data/ERA5/daily/ERA5_daily_geopotential_1000_2019-09-11.nc\n"
     ]
    },
    {
     "name": "stderr",
     "output_type": "stream",
     "text": [
      "2020-06-14 14:28:05,725 INFO Welcome to the CDS\n",
      "2020-06-14 14:28:05,725 INFO Sending request to https://cds.climate.copernicus.eu/api/v2/resources/reanalysis-era5-pressure-levels\n",
      "2020-06-14 14:28:06,964 INFO Request is queued\n",
      "2020-06-14 14:28:08,281 INFO Request is completed\n",
      "2020-06-14 14:28:08,284 INFO Downloading http://136.156.132.105/cache-compute-0000/cache/data7/adaptor.mars.internal-1592101687.0115352-3413-29-29686997-9dac-43e6-a914-da3dc145ba32.nc to /home/nicolasf/research/CPP/indices/data/ERA5/daily/ERA5_daily_geopotential_1000_2019-09-11.nc (192.2K)\n",
      "2020-06-14 14:28:10,130 INFO Download rate 104.2K/s\n"
     ]
    },
    {
     "name": "stdout",
     "output_type": "stream",
     "text": [
      "downloading /home/nicolasf/research/CPP/indices/data/ERA5/daily/ERA5_daily_geopotential_1000_2019-09-12.nc\n"
     ]
    },
    {
     "name": "stderr",
     "output_type": "stream",
     "text": [
      "2020-06-14 14:28:12,893 INFO Welcome to the CDS\n",
      "2020-06-14 14:28:12,893 INFO Sending request to https://cds.climate.copernicus.eu/api/v2/resources/reanalysis-era5-pressure-levels\n",
      "2020-06-14 14:28:14,630 INFO Request is queued\n",
      "2020-06-14 14:28:15,961 INFO Request is running\n",
      "2020-06-14 14:28:17,804 INFO Request is completed\n",
      "2020-06-14 14:28:17,806 INFO Downloading http://136.156.132.235/cache-compute-0006/cache/data9/adaptor.mars.internal-1592101694.5785563-7816-9-3f5086b5-df3c-4e67-92bc-ef5ec52ab36e.nc to /home/nicolasf/research/CPP/indices/data/ERA5/daily/ERA5_daily_geopotential_1000_2019-09-12.nc (192.2K)\n",
      "2020-06-14 14:28:21,189 INFO Download rate 56.9K/s \n"
     ]
    },
    {
     "name": "stdout",
     "output_type": "stream",
     "text": [
      "downloading /home/nicolasf/research/CPP/indices/data/ERA5/daily/ERA5_daily_geopotential_1000_2019-09-13.nc\n"
     ]
    },
    {
     "name": "stderr",
     "output_type": "stream",
     "text": [
      "2020-06-14 14:28:23,133 INFO Welcome to the CDS\n",
      "2020-06-14 14:28:23,134 INFO Sending request to https://cds.climate.copernicus.eu/api/v2/resources/reanalysis-era5-pressure-levels\n",
      "2020-06-14 14:28:24,421 INFO Request is queued\n",
      "2020-06-14 14:28:25,792 INFO Request is completed\n",
      "2020-06-14 14:28:25,794 INFO Downloading http://136.156.132.153/cache-compute-0002/cache/data7/adaptor.mars.internal-1592101704.4381144-18762-5-bee7a126-a8c8-4124-a2d8-11539ed34ad3.nc to /home/nicolasf/research/CPP/indices/data/ERA5/daily/ERA5_daily_geopotential_1000_2019-09-13.nc (192.2K)\n",
      "2020-06-14 14:28:27,634 INFO Download rate 104.5K/s\n"
     ]
    },
    {
     "name": "stdout",
     "output_type": "stream",
     "text": [
      "downloading /home/nicolasf/research/CPP/indices/data/ERA5/daily/ERA5_daily_geopotential_1000_2019-09-14.nc\n"
     ]
    },
    {
     "name": "stderr",
     "output_type": "stream",
     "text": [
      "2020-06-14 14:28:29,175 INFO Welcome to the CDS\n",
      "2020-06-14 14:28:29,175 INFO Sending request to https://cds.climate.copernicus.eu/api/v2/resources/reanalysis-era5-pressure-levels\n",
      "2020-06-14 14:28:30,498 INFO Request is queued\n",
      "2020-06-14 14:28:31,834 INFO Request is completed\n",
      "2020-06-14 14:28:31,836 INFO Downloading http://136.156.133.39/cache-compute-0012/cache/data8/adaptor.mars.internal-1592101710.7083943-24786-35-dfb335be-b7ce-4058-8f36-c46d1bd4fb22.nc to /home/nicolasf/research/CPP/indices/data/ERA5/daily/ERA5_daily_geopotential_1000_2019-09-14.nc (192.2K)\n",
      "2020-06-14 14:28:33,684 INFO Download rate 104.1K/s\n"
     ]
    },
    {
     "name": "stdout",
     "output_type": "stream",
     "text": [
      "downloading /home/nicolasf/research/CPP/indices/data/ERA5/daily/ERA5_daily_geopotential_1000_2019-09-15.nc\n"
     ]
    },
    {
     "name": "stderr",
     "output_type": "stream",
     "text": [
      "2020-06-14 14:28:35,524 INFO Welcome to the CDS\n",
      "2020-06-14 14:28:35,525 INFO Sending request to https://cds.climate.copernicus.eu/api/v2/resources/reanalysis-era5-pressure-levels\n",
      "2020-06-14 14:28:37,056 INFO Request is queued\n",
      "2020-06-14 14:28:38,388 INFO Request is completed\n",
      "2020-06-14 14:28:38,390 INFO Downloading http://136.156.132.198/cache-compute-0003/cache/data6/adaptor.mars.internal-1592101716.9298902-27550-19-b10d5882-5263-4801-9213-f8f8f3cca6f9.nc to /home/nicolasf/research/CPP/indices/data/ERA5/daily/ERA5_daily_geopotential_1000_2019-09-15.nc (192.2K)\n",
      "2020-06-14 14:28:40,238 INFO Download rate 104.1K/s\n"
     ]
    },
    {
     "name": "stdout",
     "output_type": "stream",
     "text": [
      "downloading /home/nicolasf/research/CPP/indices/data/ERA5/daily/ERA5_daily_geopotential_1000_2019-09-16.nc\n"
     ]
    },
    {
     "name": "stderr",
     "output_type": "stream",
     "text": [
      "2020-06-14 14:28:41,873 INFO Welcome to the CDS\n",
      "2020-06-14 14:28:41,874 INFO Sending request to https://cds.climate.copernicus.eu/api/v2/resources/reanalysis-era5-pressure-levels\n",
      "2020-06-14 14:28:43,508 INFO Request is queued\n",
      "2020-06-14 14:28:44,839 INFO Request is completed\n",
      "2020-06-14 14:28:44,841 INFO Downloading http://136.156.132.198/cache-compute-0003/cache/data3/adaptor.mars.internal-1592101723.4643872-26161-25-df3730a4-1585-4a7b-a64a-82f8d2278493.nc to /home/nicolasf/research/CPP/indices/data/ERA5/daily/ERA5_daily_geopotential_1000_2019-09-16.nc (192.2K)\n",
      "2020-06-14 14:28:46,691 INFO Download rate 104K/s  \n"
     ]
    },
    {
     "name": "stdout",
     "output_type": "stream",
     "text": [
      "downloading /home/nicolasf/research/CPP/indices/data/ERA5/daily/ERA5_daily_geopotential_1000_2019-09-17.nc\n"
     ]
    },
    {
     "name": "stderr",
     "output_type": "stream",
     "text": [
      "2020-06-14 14:28:48,222 INFO Welcome to the CDS\n",
      "2020-06-14 14:28:48,222 INFO Sending request to https://cds.climate.copernicus.eu/api/v2/resources/reanalysis-era5-pressure-levels\n",
      "2020-06-14 14:28:49,857 INFO Request is queued\n",
      "2020-06-14 14:28:51,189 INFO Request is running\n",
      "2020-06-14 14:28:53,031 INFO Request is completed\n",
      "2020-06-14 14:28:53,033 INFO Downloading http://136.156.132.105/cache-compute-0000/cache/data6/adaptor.mars.internal-1592101729.780902-8094-7-9fe9324a-e082-48fb-b9e6-5275339a4c66.nc to /home/nicolasf/research/CPP/indices/data/ERA5/daily/ERA5_daily_geopotential_1000_2019-09-17.nc (192.2K)\n",
      "2020-06-14 14:28:54,882 INFO Download rate 104.1K/s\n"
     ]
    },
    {
     "name": "stdout",
     "output_type": "stream",
     "text": [
      "downloading /home/nicolasf/research/CPP/indices/data/ERA5/daily/ERA5_daily_geopotential_1000_2019-09-18.nc\n"
     ]
    },
    {
     "name": "stderr",
     "output_type": "stream",
     "text": [
      "2020-06-14 14:28:56,414 INFO Welcome to the CDS\n",
      "2020-06-14 14:28:56,415 INFO Sending request to https://cds.climate.copernicus.eu/api/v2/resources/reanalysis-era5-pressure-levels\n",
      "2020-06-14 14:28:58,561 INFO Request is queued\n",
      "2020-06-14 14:28:59,892 INFO Request is completed\n",
      "2020-06-14 14:28:59,894 INFO Downloading http://136.156.133.37/cache-compute-0011/cache/data0/adaptor.mars.internal-1592101738.4376528-15180-22-328050ca-ae3e-43c6-8009-edd096f87fbc.nc to /home/nicolasf/research/CPP/indices/data/ERA5/daily/ERA5_daily_geopotential_1000_2019-09-18.nc (192.2K)\n",
      "2020-06-14 14:29:01,742 INFO Download rate 104.1K/s\n"
     ]
    },
    {
     "name": "stdout",
     "output_type": "stream",
     "text": [
      "downloading /home/nicolasf/research/CPP/indices/data/ERA5/daily/ERA5_daily_geopotential_1000_2019-09-19.nc\n"
     ]
    },
    {
     "name": "stderr",
     "output_type": "stream",
     "text": [
      "2020-06-14 14:29:03,377 INFO Welcome to the CDS\n",
      "2020-06-14 14:29:03,378 INFO Sending request to https://cds.climate.copernicus.eu/api/v2/resources/reanalysis-era5-pressure-levels\n",
      "2020-06-14 14:29:04,604 INFO Request is queued\n",
      "2020-06-14 14:29:05,934 INFO Request is completed\n",
      "2020-06-14 14:29:05,936 INFO Downloading http://136.156.133.41/cache-compute-0013/cache/data6/adaptor.mars.internal-1592101744.523418-13576-31-f16216be-e98c-4471-a6da-9a520338c863.nc to /home/nicolasf/research/CPP/indices/data/ERA5/daily/ERA5_daily_geopotential_1000_2019-09-19.nc (192.2K)\n",
      "2020-06-14 14:29:07,782 INFO Download rate 104.3K/s\n"
     ]
    },
    {
     "name": "stdout",
     "output_type": "stream",
     "text": [
      "downloading /home/nicolasf/research/CPP/indices/data/ERA5/daily/ERA5_daily_geopotential_1000_2019-09-20.nc\n"
     ]
    },
    {
     "name": "stderr",
     "output_type": "stream",
     "text": [
      "2020-06-14 14:29:09,418 INFO Welcome to the CDS\n",
      "2020-06-14 14:29:09,419 INFO Sending request to https://cds.climate.copernicus.eu/api/v2/resources/reanalysis-era5-pressure-levels\n",
      "2020-06-14 14:29:16,993 INFO Request is queued\n",
      "2020-06-14 14:29:18,324 INFO Request is completed\n",
      "2020-06-14 14:29:18,326 INFO Downloading http://136.156.132.105/cache-compute-0000/cache/data7/adaptor.mars.internal-1592101756.8235052-25147-32-48372edd-7fa3-4199-b9c4-21a1b22501bd.nc to /home/nicolasf/research/CPP/indices/data/ERA5/daily/ERA5_daily_geopotential_1000_2019-09-20.nc (192.2K)\n",
      "2020-06-14 14:29:20,174 INFO Download rate 104.1K/s\n"
     ]
    },
    {
     "name": "stdout",
     "output_type": "stream",
     "text": [
      "downloading /home/nicolasf/research/CPP/indices/data/ERA5/daily/ERA5_daily_geopotential_1000_2019-09-21.nc\n"
     ]
    },
    {
     "name": "stderr",
     "output_type": "stream",
     "text": [
      "2020-06-14 14:29:21,810 INFO Welcome to the CDS\n",
      "2020-06-14 14:29:21,810 INFO Sending request to https://cds.climate.copernicus.eu/api/v2/resources/reanalysis-era5-pressure-levels\n",
      "2020-06-14 14:29:23,036 INFO Request is queued\n",
      "2020-06-14 14:29:24,367 INFO Request is completed\n",
      "2020-06-14 14:29:24,369 INFO Downloading http://136.156.132.201/cache-compute-0004/cache/data5/adaptor.mars.internal-1592101763.150051-22289-3-8c65bc4c-9b7a-430b-b7a9-a25b65ffd9af.nc to /home/nicolasf/research/CPP/indices/data/ERA5/daily/ERA5_daily_geopotential_1000_2019-09-21.nc (192.2K)\n",
      "2020-06-14 14:29:26,216 INFO Download rate 104.2K/s\n"
     ]
    },
    {
     "name": "stdout",
     "output_type": "stream",
     "text": [
      "downloading /home/nicolasf/research/CPP/indices/data/ERA5/daily/ERA5_daily_geopotential_1000_2019-09-22.nc\n"
     ]
    },
    {
     "name": "stderr",
     "output_type": "stream",
     "text": [
      "2020-06-14 14:29:28,364 INFO Welcome to the CDS\n",
      "2020-06-14 14:29:28,364 INFO Sending request to https://cds.climate.copernicus.eu/api/v2/resources/reanalysis-era5-pressure-levels\n",
      "2020-06-14 14:29:29,660 INFO Request is queued\n",
      "2020-06-14 14:29:31,022 INFO Request is running\n",
      "2020-06-14 14:29:32,866 INFO Request is completed\n",
      "2020-06-14 14:29:32,868 INFO Downloading http://136.156.133.41/cache-compute-0013/cache/data1/adaptor.mars.internal-1592101770.113369-14666-27-92bd12b9-50be-44b5-96e9-61f72cfe4a16.nc to /home/nicolasf/research/CPP/indices/data/ERA5/daily/ERA5_daily_geopotential_1000_2019-09-22.nc (192.2K)\n",
      "2020-06-14 14:29:34,714 INFO Download rate 104.2K/s\n"
     ]
    },
    {
     "name": "stdout",
     "output_type": "stream",
     "text": [
      "downloading /home/nicolasf/research/CPP/indices/data/ERA5/daily/ERA5_daily_geopotential_1000_2019-09-23.nc\n"
     ]
    },
    {
     "name": "stderr",
     "output_type": "stream",
     "text": [
      "2020-06-14 14:29:36,249 INFO Welcome to the CDS\n",
      "2020-06-14 14:29:36,250 INFO Sending request to https://cds.climate.copernicus.eu/api/v2/resources/reanalysis-era5-pressure-levels\n",
      "2020-06-14 14:29:37,781 INFO Request is queued\n",
      "2020-06-14 14:29:39,113 INFO Request is running\n",
      "2020-06-14 14:29:40,956 INFO Request is completed\n",
      "2020-06-14 14:29:40,957 INFO Downloading http://136.156.133.32/cache-compute-0009/cache/data7/adaptor.mars.internal-1592101777.9011562-8634-29-af98f526-8616-463f-9d25-3838dda44869.nc to /home/nicolasf/research/CPP/indices/data/ERA5/daily/ERA5_daily_geopotential_1000_2019-09-23.nc (192.2K)\n",
      "2020-06-14 14:29:42,804 INFO Download rate 104.2K/s\n"
     ]
    },
    {
     "name": "stdout",
     "output_type": "stream",
     "text": [
      "downloading /home/nicolasf/research/CPP/indices/data/ERA5/daily/ERA5_daily_geopotential_1000_2019-09-24.nc\n"
     ]
    },
    {
     "name": "stderr",
     "output_type": "stream",
     "text": [
      "2020-06-14 14:29:44,645 INFO Welcome to the CDS\n",
      "2020-06-14 14:29:44,646 INFO Sending request to https://cds.climate.copernicus.eu/api/v2/resources/reanalysis-era5-pressure-levels\n",
      "2020-06-14 14:29:45,917 INFO Request is queued\n",
      "2020-06-14 14:29:47,304 INFO Request is completed\n",
      "2020-06-14 14:29:47,307 INFO Downloading http://136.156.132.198/cache-compute-0003/cache/data6/adaptor.mars.internal-1592101785.839059-27916-20-e9f8625b-3f46-4b5d-9f9d-08723bb6ddce.nc to /home/nicolasf/research/CPP/indices/data/ERA5/daily/ERA5_daily_geopotential_1000_2019-09-24.nc (192.2K)\n",
      "2020-06-14 14:29:49,155 INFO Download rate 104.1K/s\n"
     ]
    },
    {
     "name": "stdout",
     "output_type": "stream",
     "text": [
      "downloading /home/nicolasf/research/CPP/indices/data/ERA5/daily/ERA5_daily_geopotential_1000_2019-09-25.nc\n"
     ]
    },
    {
     "name": "stderr",
     "output_type": "stream",
     "text": [
      "2020-06-14 14:29:50,790 INFO Welcome to the CDS\n",
      "2020-06-14 14:29:50,791 INFO Sending request to https://cds.climate.copernicus.eu/api/v2/resources/reanalysis-era5-pressure-levels\n",
      "2020-06-14 14:29:52,055 INFO Request is queued\n",
      "2020-06-14 14:29:53,449 INFO Request is running\n",
      "2020-06-14 14:29:55,235 INFO Request is completed\n",
      "2020-06-14 14:29:55,237 INFO Downloading http://136.156.132.236/cache-compute-0007/cache/data8/adaptor.mars.internal-1592101791.9659784-18879-12-33bdeb88-323d-422e-a1b6-98338c647fd5.nc to /home/nicolasf/research/CPP/indices/data/ERA5/daily/ERA5_daily_geopotential_1000_2019-09-25.nc (192.2K)\n",
      "2020-06-14 14:29:57,142 INFO Download rate 101K/s  \n"
     ]
    },
    {
     "name": "stdout",
     "output_type": "stream",
     "text": [
      "downloading /home/nicolasf/research/CPP/indices/data/ERA5/daily/ERA5_daily_geopotential_1000_2019-09-26.nc\n"
     ]
    },
    {
     "name": "stderr",
     "output_type": "stream",
     "text": [
      "2020-06-14 14:29:58,776 INFO Welcome to the CDS\n",
      "2020-06-14 14:29:58,777 INFO Sending request to https://cds.climate.copernicus.eu/api/v2/resources/reanalysis-era5-pressure-levels\n",
      "2020-06-14 14:30:00,002 INFO Request is queued\n",
      "2020-06-14 14:30:01,333 INFO Request is running\n",
      "2020-06-14 14:30:03,177 INFO Request is completed\n",
      "2020-06-14 14:30:03,179 INFO Downloading http://136.156.133.36/cache-compute-0010/cache/data0/adaptor.mars.internal-1592101800.314938-22571-12-5ac2c583-a4e3-4487-98ff-283d5fc4941b.nc to /home/nicolasf/research/CPP/indices/data/ERA5/daily/ERA5_daily_geopotential_1000_2019-09-26.nc (192.2K)\n",
      "2020-06-14 14:30:05,026 INFO Download rate 104.1K/s\n"
     ]
    },
    {
     "name": "stdout",
     "output_type": "stream",
     "text": [
      "downloading /home/nicolasf/research/CPP/indices/data/ERA5/daily/ERA5_daily_geopotential_1000_2019-09-27.nc\n"
     ]
    },
    {
     "name": "stderr",
     "output_type": "stream",
     "text": [
      "2020-06-14 14:30:06,662 INFO Welcome to the CDS\n",
      "2020-06-14 14:30:06,663 INFO Sending request to https://cds.climate.copernicus.eu/api/v2/resources/reanalysis-era5-pressure-levels\n",
      "2020-06-14 14:30:07,887 INFO Request is queued\n",
      "2020-06-14 14:30:09,220 INFO Request is completed\n",
      "2020-06-14 14:30:09,222 INFO Downloading http://136.156.132.236/cache-compute-0007/cache/data9/adaptor.mars.internal-1592101807.8484356-20317-3-85f2f915-1281-41d1-ba3b-e2d74859ba9e.nc to /home/nicolasf/research/CPP/indices/data/ERA5/daily/ERA5_daily_geopotential_1000_2019-09-27.nc (192.2K)\n",
      "2020-06-14 14:30:10,767 INFO Download rate 124.5K/s\n"
     ]
    },
    {
     "name": "stdout",
     "output_type": "stream",
     "text": [
      "downloading /home/nicolasf/research/CPP/indices/data/ERA5/daily/ERA5_daily_geopotential_1000_2019-09-28.nc\n"
     ]
    },
    {
     "name": "stderr",
     "output_type": "stream",
     "text": [
      "2020-06-14 14:30:12,396 INFO Welcome to the CDS\n",
      "2020-06-14 14:30:12,397 INFO Sending request to https://cds.climate.copernicus.eu/api/v2/resources/reanalysis-era5-pressure-levels\n",
      "2020-06-14 14:30:13,658 INFO Request is queued\n",
      "2020-06-14 14:30:15,056 INFO Request is completed\n",
      "2020-06-14 14:30:15,059 INFO Downloading http://136.156.132.105/cache-compute-0000/cache/data2/adaptor.mars.internal-1592101813.5942001-6903-18-b5dc07c6-57f2-4a3e-b422-6abb2e1a98b2.nc to /home/nicolasf/research/CPP/indices/data/ERA5/daily/ERA5_daily_geopotential_1000_2019-09-28.nc (192.2K)\n",
      "2020-06-14 14:30:16,907 INFO Download rate 104.1K/s\n"
     ]
    },
    {
     "name": "stdout",
     "output_type": "stream",
     "text": [
      "downloading /home/nicolasf/research/CPP/indices/data/ERA5/daily/ERA5_daily_geopotential_1000_2019-09-29.nc\n"
     ]
    },
    {
     "name": "stderr",
     "output_type": "stream",
     "text": [
      "2020-06-14 14:30:18,540 INFO Welcome to the CDS\n",
      "2020-06-14 14:30:18,541 INFO Sending request to https://cds.climate.copernicus.eu/api/v2/resources/reanalysis-era5-pressure-levels\n",
      "2020-06-14 14:30:20,175 INFO Request is queued\n",
      "2020-06-14 14:30:21,507 INFO Request is completed\n",
      "2020-06-14 14:30:21,509 INFO Downloading http://136.156.133.25/cache-compute-0008/cache/data5/adaptor.mars.internal-1592101820.1081142-3885-1-c68fceb3-8192-44a1-b369-f73e71d99e51.nc to /home/nicolasf/research/CPP/indices/data/ERA5/daily/ERA5_daily_geopotential_1000_2019-09-29.nc (192.2K)\n",
      "2020-06-14 14:30:23,458 INFO Download rate 98.7K/s \n"
     ]
    },
    {
     "name": "stdout",
     "output_type": "stream",
     "text": [
      "downloading /home/nicolasf/research/CPP/indices/data/ERA5/daily/ERA5_daily_geopotential_1000_2019-09-30.nc\n"
     ]
    },
    {
     "name": "stderr",
     "output_type": "stream",
     "text": [
      "2020-06-14 14:30:25,262 INFO Welcome to the CDS\n",
      "2020-06-14 14:30:25,263 INFO Sending request to https://cds.climate.copernicus.eu/api/v2/resources/reanalysis-era5-pressure-levels\n",
      "2020-06-14 14:30:26,545 INFO Request is queued\n",
      "2020-06-14 14:30:27,855 INFO Request is running\n",
      "2020-06-14 14:30:35,945 INFO Request is completed\n",
      "2020-06-14 14:30:35,947 INFO Downloading http://136.156.133.32/cache-compute-0009/cache/data2/adaptor.mars.internal-1592101826.552741-8634-31-504b2b27-6d47-44a4-8125-b50c6d4e90b8.nc to /home/nicolasf/research/CPP/indices/data/ERA5/daily/ERA5_daily_geopotential_1000_2019-09-30.nc (192.2K)\n",
      "2020-06-14 14:30:37,794 INFO Download rate 104.2K/s\n"
     ]
    },
    {
     "name": "stdout",
     "output_type": "stream",
     "text": [
      "downloading /home/nicolasf/research/CPP/indices/data/ERA5/daily/ERA5_daily_geopotential_1000_2019-10-01.nc\n"
     ]
    },
    {
     "name": "stderr",
     "output_type": "stream",
     "text": [
      "2020-06-14 14:30:39,333 INFO Welcome to the CDS\n",
      "2020-06-14 14:30:39,334 INFO Sending request to https://cds.climate.copernicus.eu/api/v2/resources/reanalysis-era5-pressure-levels\n",
      "2020-06-14 14:30:40,609 INFO Request is queued\n",
      "2020-06-14 14:30:41,987 INFO Request is completed\n",
      "2020-06-14 14:30:41,989 INFO Downloading http://136.156.133.46/cache-compute-0015/cache/data3/adaptor.mars.internal-1592101840.874221-15749-14-297abe62-45b2-4087-a3c2-182aeb6156cd.nc to /home/nicolasf/research/CPP/indices/data/ERA5/daily/ERA5_daily_geopotential_1000_2019-10-01.nc (192.2K)\n",
      "2020-06-14 14:30:43,836 INFO Download rate 104.2K/s\n"
     ]
    },
    {
     "name": "stdout",
     "output_type": "stream",
     "text": [
      "downloading /home/nicolasf/research/CPP/indices/data/ERA5/daily/ERA5_daily_geopotential_1000_2019-10-02.nc\n"
     ]
    },
    {
     "name": "stderr",
     "output_type": "stream",
     "text": [
      "2020-06-14 14:30:45,473 INFO Welcome to the CDS\n",
      "2020-06-14 14:30:45,474 INFO Sending request to https://cds.climate.copernicus.eu/api/v2/resources/reanalysis-era5-pressure-levels\n",
      "2020-06-14 14:30:46,762 INFO Request is queued\n",
      "2020-06-14 14:30:48,131 INFO Request is completed\n",
      "2020-06-14 14:30:48,133 INFO Downloading http://136.156.133.41/cache-compute-0013/cache/data8/adaptor.mars.internal-1592101846.836878-18092-7-8362bbd9-9530-4d9c-983e-b683c1505dfe.nc to /home/nicolasf/research/CPP/indices/data/ERA5/daily/ERA5_daily_geopotential_1000_2019-10-02.nc (192.2K)\n",
      "2020-06-14 14:30:49,982 INFO Download rate 104.1K/s\n"
     ]
    },
    {
     "name": "stdout",
     "output_type": "stream",
     "text": [
      "downloading /home/nicolasf/research/CPP/indices/data/ERA5/daily/ERA5_daily_geopotential_1000_2019-10-03.nc\n"
     ]
    },
    {
     "name": "stderr",
     "output_type": "stream",
     "text": [
      "2020-06-14 14:30:51,514 INFO Welcome to the CDS\n",
      "2020-06-14 14:30:51,515 INFO Sending request to https://cds.climate.copernicus.eu/api/v2/resources/reanalysis-era5-pressure-levels\n",
      "2020-06-14 14:30:52,759 INFO Request is queued\n",
      "2020-06-14 14:30:54,070 INFO Request is completed\n",
      "2020-06-14 14:30:54,072 INFO Downloading http://136.156.132.105/cache-compute-0000/cache/data7/adaptor.mars.internal-1592101852.8918338-7774-12-1063ddc5-726d-4f6c-8f9e-dc02faec7872.nc to /home/nicolasf/research/CPP/indices/data/ERA5/daily/ERA5_daily_geopotential_1000_2019-10-03.nc (192.2K)\n",
      "2020-06-14 14:30:55,922 INFO Download rate 104K/s  \n"
     ]
    },
    {
     "name": "stdout",
     "output_type": "stream",
     "text": [
      "downloading /home/nicolasf/research/CPP/indices/data/ERA5/daily/ERA5_daily_geopotential_1000_2019-10-04.nc\n"
     ]
    },
    {
     "name": "stderr",
     "output_type": "stream",
     "text": [
      "2020-06-14 14:30:57,556 INFO Welcome to the CDS\n",
      "2020-06-14 14:30:57,557 INFO Sending request to https://cds.climate.copernicus.eu/api/v2/resources/reanalysis-era5-pressure-levels\n",
      "2020-06-14 14:30:58,811 INFO Request is queued\n",
      "2020-06-14 14:31:00,113 INFO Request is completed\n",
      "2020-06-14 14:31:00,114 INFO Downloading http://136.156.133.32/cache-compute-0009/cache/data6/adaptor.mars.internal-1592101858.9318533-11048-16-43ce351b-5a12-40c7-b09f-c96d36448c70.nc to /home/nicolasf/research/CPP/indices/data/ERA5/daily/ERA5_daily_geopotential_1000_2019-10-04.nc (192.2K)\n",
      "2020-06-14 14:31:01,962 INFO Download rate 104.1K/s\n"
     ]
    },
    {
     "name": "stdout",
     "output_type": "stream",
     "text": [
      "downloading /home/nicolasf/research/CPP/indices/data/ERA5/daily/ERA5_daily_geopotential_1000_2019-10-05.nc\n"
     ]
    },
    {
     "name": "stderr",
     "output_type": "stream",
     "text": [
      "2020-06-14 14:31:03,598 INFO Welcome to the CDS\n",
      "2020-06-14 14:31:03,599 INFO Sending request to https://cds.climate.copernicus.eu/api/v2/resources/reanalysis-era5-pressure-levels\n",
      "2020-06-14 14:31:04,906 INFO Request is queued\n",
      "2020-06-14 14:31:06,256 INFO Request is completed\n",
      "2020-06-14 14:31:06,258 INFO Downloading http://136.156.133.46/cache-compute-0015/cache/data4/adaptor.mars.internal-1592101864.9079025-12492-36-c6c341f6-1dc7-4a57-9140-f56e4b1542e9.nc to /home/nicolasf/research/CPP/indices/data/ERA5/daily/ERA5_daily_geopotential_1000_2019-10-05.nc (192.2K)\n",
      "2020-06-14 14:31:08,103 INFO Download rate 104.3K/s\n"
     ]
    },
    {
     "name": "stdout",
     "output_type": "stream",
     "text": [
      "downloading /home/nicolasf/research/CPP/indices/data/ERA5/daily/ERA5_daily_geopotential_1000_2019-10-06.nc\n"
     ]
    },
    {
     "name": "stderr",
     "output_type": "stream",
     "text": [
      "2020-06-14 14:31:09,639 INFO Welcome to the CDS\n",
      "2020-06-14 14:31:09,640 INFO Sending request to https://cds.climate.copernicus.eu/api/v2/resources/reanalysis-era5-pressure-levels\n",
      "2020-06-14 14:31:10,955 INFO Request is queued\n",
      "2020-06-14 14:31:12,298 INFO Request is completed\n",
      "2020-06-14 14:31:12,300 INFO Downloading http://136.156.132.198/cache-compute-0003/cache/data6/adaptor.mars.internal-1592101870.9031854-28458-20-547eebca-0f59-4314-ab64-9b14be956d82.nc to /home/nicolasf/research/CPP/indices/data/ERA5/daily/ERA5_daily_geopotential_1000_2019-10-06.nc (192.2K)\n",
      "2020-06-14 14:31:14,248 INFO Download rate 98.7K/s \n"
     ]
    },
    {
     "name": "stdout",
     "output_type": "stream",
     "text": [
      "downloading /home/nicolasf/research/CPP/indices/data/ERA5/daily/ERA5_daily_geopotential_1000_2019-10-07.nc\n"
     ]
    },
    {
     "name": "stderr",
     "output_type": "stream",
     "text": [
      "2020-06-14 14:31:15,784 INFO Welcome to the CDS\n",
      "2020-06-14 14:31:15,785 INFO Sending request to https://cds.climate.copernicus.eu/api/v2/resources/reanalysis-era5-pressure-levels\n",
      "2020-06-14 14:31:17,022 INFO Request is queued\n",
      "2020-06-14 14:31:18,340 INFO Request is running\n",
      "2020-06-14 14:31:20,183 INFO Request is completed\n",
      "2020-06-14 14:31:20,185 INFO Downloading http://136.156.132.110/cache-compute-0001/cache/data9/adaptor.mars.internal-1592101877.124052-22114-1-1394275e-6d74-4615-8fbb-ee3d08e67f95.nc to /home/nicolasf/research/CPP/indices/data/ERA5/daily/ERA5_daily_geopotential_1000_2019-10-07.nc (192.2K)\n",
      "2020-06-14 14:31:22,034 INFO Download rate 104.1K/s\n"
     ]
    },
    {
     "name": "stdout",
     "output_type": "stream",
     "text": [
      "downloading /home/nicolasf/research/CPP/indices/data/ERA5/daily/ERA5_daily_geopotential_1000_2019-10-08.nc\n"
     ]
    },
    {
     "name": "stderr",
     "output_type": "stream",
     "text": [
      "2020-06-14 14:31:23,771 INFO Welcome to the CDS\n",
      "2020-06-14 14:31:23,771 INFO Sending request to https://cds.climate.copernicus.eu/api/v2/resources/reanalysis-era5-pressure-levels\n",
      "2020-06-14 14:31:25,246 INFO Request is queued\n",
      "2020-06-14 14:31:26,635 INFO Request is completed\n",
      "2020-06-14 14:31:26,637 INFO Downloading http://136.156.133.36/cache-compute-0010/cache/data6/adaptor.mars.internal-1592101885.1921039-21323-25-dba3b5d8-7151-4d8a-a398-bf56c78978af.nc to /home/nicolasf/research/CPP/indices/data/ERA5/daily/ERA5_daily_geopotential_1000_2019-10-08.nc (192.2K)\n",
      "2020-06-14 14:31:28,586 INFO Download rate 98.7K/s \n"
     ]
    },
    {
     "name": "stdout",
     "output_type": "stream",
     "text": [
      "downloading /home/nicolasf/research/CPP/indices/data/ERA5/daily/ERA5_daily_geopotential_1000_2019-10-09.nc\n"
     ]
    },
    {
     "name": "stderr",
     "output_type": "stream",
     "text": [
      "2020-06-14 14:31:30,633 INFO Welcome to the CDS\n",
      "2020-06-14 14:31:30,633 INFO Sending request to https://cds.climate.copernicus.eu/api/v2/resources/reanalysis-era5-pressure-levels\n",
      "2020-06-14 14:31:33,701 INFO Request is queued\n",
      "2020-06-14 14:31:35,031 INFO Request is running\n",
      "2020-06-14 14:31:36,875 INFO Request is completed\n",
      "2020-06-14 14:31:36,877 INFO Downloading http://136.156.132.110/cache-compute-0001/cache/data8/adaptor.mars.internal-1592101893.7471857-18531-22-cde725cf-3042-4222-a926-3bb51eccc483.nc to /home/nicolasf/research/CPP/indices/data/ERA5/daily/ERA5_daily_geopotential_1000_2019-10-09.nc (192.2K)\n",
      "2020-06-14 14:31:38,718 INFO Download rate 104.5K/s\n"
     ]
    },
    {
     "name": "stdout",
     "output_type": "stream",
     "text": [
      "downloading /home/nicolasf/research/CPP/indices/data/ERA5/daily/ERA5_daily_geopotential_1000_2019-10-10.nc\n"
     ]
    },
    {
     "name": "stderr",
     "output_type": "stream",
     "text": [
      "2020-06-14 14:31:40,258 INFO Welcome to the CDS\n",
      "2020-06-14 14:31:40,260 INFO Sending request to https://cds.climate.copernicus.eu/api/v2/resources/reanalysis-era5-pressure-levels\n",
      "2020-06-14 14:31:41,515 INFO Request is queued\n",
      "2020-06-14 14:31:42,817 INFO Request is completed\n",
      "2020-06-14 14:31:42,819 INFO Downloading http://136.156.132.236/cache-compute-0007/cache/data0/adaptor.mars.internal-1592101901.6953259-18310-20-51ca72ec-4100-4737-972b-53470998fb9c.nc to /home/nicolasf/research/CPP/indices/data/ERA5/daily/ERA5_daily_geopotential_1000_2019-10-10.nc (192.2K)\n",
      "2020-06-14 14:31:44,662 INFO Download rate 104.4K/s\n"
     ]
    },
    {
     "name": "stdout",
     "output_type": "stream",
     "text": [
      "downloading /home/nicolasf/research/CPP/indices/data/ERA5/daily/ERA5_daily_geopotential_1000_2019-10-11.nc\n"
     ]
    },
    {
     "name": "stderr",
     "output_type": "stream",
     "text": [
      "2020-06-14 14:31:46,197 INFO Welcome to the CDS\n",
      "2020-06-14 14:31:46,198 INFO Sending request to https://cds.climate.copernicus.eu/api/v2/resources/reanalysis-era5-pressure-levels\n",
      "2020-06-14 14:31:47,422 INFO Request is queued\n",
      "2020-06-14 14:31:48,753 INFO Request is completed\n",
      "2020-06-14 14:31:48,754 INFO Downloading http://136.156.133.39/cache-compute-0012/cache/data1/adaptor.mars.internal-1592101907.5265372-8811-29-6ecda980-55e7-4386-9a95-2a183e8fbb8f.nc to /home/nicolasf/research/CPP/indices/data/ERA5/daily/ERA5_daily_geopotential_1000_2019-10-11.nc (192.2K)\n",
      "2020-06-14 14:31:50,601 INFO Download rate 104.1K/s\n"
     ]
    },
    {
     "name": "stdout",
     "output_type": "stream",
     "text": [
      "downloading /home/nicolasf/research/CPP/indices/data/ERA5/daily/ERA5_daily_geopotential_1000_2019-10-12.nc\n"
     ]
    },
    {
     "name": "stderr",
     "output_type": "stream",
     "text": [
      "2020-06-14 14:31:52,341 INFO Welcome to the CDS\n",
      "2020-06-14 14:31:52,342 INFO Sending request to https://cds.climate.copernicus.eu/api/v2/resources/reanalysis-era5-pressure-levels\n",
      "2020-06-14 14:31:53,771 INFO Request is queued\n",
      "2020-06-14 14:31:55,102 INFO Request is completed\n",
      "2020-06-14 14:31:55,104 INFO Downloading http://136.156.132.153/cache-compute-0002/cache/data5/adaptor.mars.internal-1592101913.6530063-21052-1-e5d5bf2e-8860-4941-b0a5-081b6dc345bd.nc to /home/nicolasf/research/CPP/indices/data/ERA5/daily/ERA5_daily_geopotential_1000_2019-10-12.nc (192.2K)\n",
      "2020-06-14 14:31:56,950 INFO Download rate 104.2K/s\n"
     ]
    },
    {
     "name": "stdout",
     "output_type": "stream",
     "text": [
      "downloading /home/nicolasf/research/CPP/indices/data/ERA5/daily/ERA5_daily_geopotential_1000_2019-10-13.nc\n"
     ]
    },
    {
     "name": "stderr",
     "output_type": "stream",
     "text": [
      "2020-06-14 14:31:58,485 INFO Welcome to the CDS\n",
      "2020-06-14 14:31:58,485 INFO Sending request to https://cds.climate.copernicus.eu/api/v2/resources/reanalysis-era5-pressure-levels\n",
      "2020-06-14 14:31:59,775 INFO Request is queued\n",
      "2020-06-14 14:32:01,144 INFO Request is running\n",
      "2020-06-14 14:32:02,987 INFO Request is completed\n",
      "2020-06-14 14:32:02,989 INFO Downloading http://136.156.133.32/cache-compute-0009/cache/data7/adaptor.mars.internal-1592101919.7710235-9521-29-12b4e53a-7866-4f10-97b2-b76004994958.nc to /home/nicolasf/research/CPP/indices/data/ERA5/daily/ERA5_daily_geopotential_1000_2019-10-13.nc (192.2K)\n",
      "2020-06-14 14:32:04,838 INFO Download rate 104.1K/s\n"
     ]
    },
    {
     "name": "stdout",
     "output_type": "stream",
     "text": [
      "downloading /home/nicolasf/research/CPP/indices/data/ERA5/daily/ERA5_daily_geopotential_1000_2019-10-14.nc\n"
     ]
    },
    {
     "name": "stderr",
     "output_type": "stream",
     "text": [
      "2020-06-14 14:32:06,473 INFO Welcome to the CDS\n",
      "2020-06-14 14:32:06,474 INFO Sending request to https://cds.climate.copernicus.eu/api/v2/resources/reanalysis-era5-pressure-levels\n",
      "2020-06-14 14:32:07,796 INFO Request is queued\n",
      "2020-06-14 14:32:09,131 INFO Request is completed\n",
      "2020-06-14 14:32:09,133 INFO Downloading http://136.156.133.41/cache-compute-0013/cache/data6/adaptor.mars.internal-1592101927.8891907-14666-31-df6c207b-05a5-4fed-a74c-09e6280e86c7.nc to /home/nicolasf/research/CPP/indices/data/ERA5/daily/ERA5_daily_geopotential_1000_2019-10-14.nc (192.2K)\n",
      "2020-06-14 14:32:10,981 INFO Download rate 104.1K/s\n"
     ]
    },
    {
     "name": "stdout",
     "output_type": "stream",
     "text": [
      "downloading /home/nicolasf/research/CPP/indices/data/ERA5/daily/ERA5_daily_geopotential_1000_2019-10-15.nc\n"
     ]
    },
    {
     "name": "stderr",
     "output_type": "stream",
     "text": [
      "2020-06-14 14:32:12,617 INFO Welcome to the CDS\n",
      "2020-06-14 14:32:12,618 INFO Sending request to https://cds.climate.copernicus.eu/api/v2/resources/reanalysis-era5-pressure-levels\n",
      "2020-06-14 14:32:14,252 INFO Request is queued\n",
      "2020-06-14 14:32:15,583 INFO Request is completed\n",
      "2020-06-14 14:32:15,585 INFO Downloading http://136.156.133.32/cache-compute-0009/cache/data2/adaptor.mars.internal-1592101934.2637796-13992-3-2c4d113b-8c6a-4be8-b298-758cd038bbc5.nc to /home/nicolasf/research/CPP/indices/data/ERA5/daily/ERA5_daily_geopotential_1000_2019-10-15.nc (192.2K)\n",
      "2020-06-14 14:32:17,431 INFO Download rate 104.2K/s\n"
     ]
    },
    {
     "name": "stdout",
     "output_type": "stream",
     "text": [
      "downloading /home/nicolasf/research/CPP/indices/data/ERA5/daily/ERA5_daily_geopotential_1000_2019-10-16.nc\n"
     ]
    },
    {
     "name": "stderr",
     "output_type": "stream",
     "text": [
      "2020-06-14 14:32:19,068 INFO Welcome to the CDS\n",
      "2020-06-14 14:32:19,069 INFO Sending request to https://cds.climate.copernicus.eu/api/v2/resources/reanalysis-era5-pressure-levels\n",
      "2020-06-14 14:32:20,353 INFO Request is queued\n",
      "2020-06-14 14:32:21,727 INFO Request is completed\n",
      "2020-06-14 14:32:21,729 INFO Downloading http://136.156.133.36/cache-compute-0010/cache/data0/adaptor.mars.internal-1592101940.4404325-22926-16-0f131c8a-3fb9-49e6-8681-fbda4cd7bf70.nc to /home/nicolasf/research/CPP/indices/data/ERA5/daily/ERA5_daily_geopotential_1000_2019-10-16.nc (192.2K)\n",
      "2020-06-14 14:32:23,578 INFO Download rate 104K/s  \n"
     ]
    },
    {
     "name": "stdout",
     "output_type": "stream",
     "text": [
      "downloading /home/nicolasf/research/CPP/indices/data/ERA5/daily/ERA5_daily_geopotential_1000_2019-10-17.nc\n"
     ]
    },
    {
     "name": "stderr",
     "output_type": "stream",
     "text": [
      "2020-06-14 14:32:25,930 INFO Welcome to the CDS\n",
      "2020-06-14 14:32:25,931 INFO Sending request to https://cds.climate.copernicus.eu/api/v2/resources/reanalysis-era5-pressure-levels\n",
      "2020-06-14 14:32:28,076 INFO Request is queued\n",
      "2020-06-14 14:32:29,407 INFO Request is completed\n",
      "2020-06-14 14:32:29,409 INFO Downloading http://136.156.133.37/cache-compute-0011/cache/data9/adaptor.mars.internal-1592101947.984444-16211-25-a48f0b74-3d70-4433-9ef6-2b8ff36909c3.nc to /home/nicolasf/research/CPP/indices/data/ERA5/daily/ERA5_daily_geopotential_1000_2019-10-17.nc (192.2K)\n",
      "2020-06-14 14:32:31,254 INFO Download rate 104.3K/s\n"
     ]
    },
    {
     "name": "stdout",
     "output_type": "stream",
     "text": [
      "downloading /home/nicolasf/research/CPP/indices/data/ERA5/daily/ERA5_daily_geopotential_1000_2019-10-18.nc\n"
     ]
    },
    {
     "name": "stderr",
     "output_type": "stream",
     "text": [
      "2020-06-14 14:32:32,790 INFO Welcome to the CDS\n",
      "2020-06-14 14:32:32,790 INFO Sending request to https://cds.climate.copernicus.eu/api/v2/resources/reanalysis-era5-pressure-levels\n",
      "2020-06-14 14:32:34,028 INFO Request is queued\n",
      "2020-06-14 14:32:35,346 INFO Request is completed\n",
      "2020-06-14 14:32:35,348 INFO Downloading http://136.156.133.41/cache-compute-0013/cache/data8/adaptor.mars.internal-1592101954.1005504-19019-7-48263c21-0f64-4679-a0d9-510941b9a00d.nc to /home/nicolasf/research/CPP/indices/data/ERA5/daily/ERA5_daily_geopotential_1000_2019-10-18.nc (192.2K)\n",
      "2020-06-14 14:32:37,194 INFO Download rate 104.2K/s\n"
     ]
    },
    {
     "name": "stdout",
     "output_type": "stream",
     "text": [
      "downloading /home/nicolasf/research/CPP/indices/data/ERA5/daily/ERA5_daily_geopotential_1000_2019-10-19.nc\n"
     ]
    },
    {
     "name": "stderr",
     "output_type": "stream",
     "text": [
      "2020-06-14 14:32:38,832 INFO Welcome to the CDS\n",
      "2020-06-14 14:32:38,832 INFO Sending request to https://cds.climate.copernicus.eu/api/v2/resources/reanalysis-era5-pressure-levels\n",
      "2020-06-14 14:32:40,261 INFO Request is queued\n",
      "2020-06-14 14:32:41,594 INFO Request is completed\n",
      "2020-06-14 14:32:41,596 INFO Downloading http://136.156.132.235/cache-compute-0006/cache/data1/adaptor.mars.internal-1592101960.4157064-7829-20-d69ec491-7f57-482d-8274-4968fbbf4d3d.nc to /home/nicolasf/research/CPP/indices/data/ERA5/daily/ERA5_daily_geopotential_1000_2019-10-19.nc (192.2K)\n",
      "2020-06-14 14:32:44,976 INFO Download rate 56.9K/s \n"
     ]
    },
    {
     "name": "stdout",
     "output_type": "stream",
     "text": [
      "downloading /home/nicolasf/research/CPP/indices/data/ERA5/daily/ERA5_daily_geopotential_1000_2019-10-20.nc\n"
     ]
    },
    {
     "name": "stderr",
     "output_type": "stream",
     "text": [
      "2020-06-14 14:32:46,574 INFO Welcome to the CDS\n",
      "2020-06-14 14:32:46,575 INFO Sending request to https://cds.climate.copernicus.eu/api/v2/resources/reanalysis-era5-pressure-levels\n",
      "2020-06-14 14:32:47,845 INFO Request is queued\n",
      "2020-06-14 14:32:49,169 INFO Request is running\n",
      "2020-06-14 14:32:51,015 INFO Request is completed\n",
      "2020-06-14 14:32:51,016 INFO Downloading http://136.156.132.105/cache-compute-0000/cache/data7/adaptor.mars.internal-1592101968.2912605-9023-12-674e1dbd-d804-4657-8b8a-d5c6013753d6.nc to /home/nicolasf/research/CPP/indices/data/ERA5/daily/ERA5_daily_geopotential_1000_2019-10-20.nc (192.2K)\n",
      "2020-06-14 14:32:52,867 INFO Download rate 104K/s  \n"
     ]
    },
    {
     "name": "stdout",
     "output_type": "stream",
     "text": [
      "downloading /home/nicolasf/research/CPP/indices/data/ERA5/daily/ERA5_daily_geopotential_1000_2019-10-21.nc\n"
     ]
    },
    {
     "name": "stderr",
     "output_type": "stream",
     "text": [
      "2020-06-14 14:32:54,807 INFO Welcome to the CDS\n",
      "2020-06-14 14:32:54,808 INFO Sending request to https://cds.climate.copernicus.eu/api/v2/resources/reanalysis-era5-pressure-levels\n",
      "2020-06-14 14:32:56,032 INFO Request is queued\n",
      "2020-06-14 14:32:57,363 INFO Request is running\n",
      "2020-06-14 14:32:59,206 INFO Request is completed\n",
      "2020-06-14 14:32:59,209 INFO Downloading http://136.156.132.110/cache-compute-0001/cache/data4/adaptor.mars.internal-1592101976.425378-17556-29-4d000cc3-2946-4148-a4c2-2d181e001b56.nc to /home/nicolasf/research/CPP/indices/data/ERA5/daily/ERA5_daily_geopotential_1000_2019-10-21.nc (192.2K)\n",
      "2020-06-14 14:33:01,058 INFO Download rate 104K/s  \n"
     ]
    },
    {
     "name": "stdout",
     "output_type": "stream",
     "text": [
      "downloading /home/nicolasf/research/CPP/indices/data/ERA5/daily/ERA5_daily_geopotential_1000_2019-10-22.nc\n"
     ]
    },
    {
     "name": "stderr",
     "output_type": "stream",
     "text": [
      "2020-06-14 14:33:03,203 INFO Welcome to the CDS\n",
      "2020-06-14 14:33:03,204 INFO Sending request to https://cds.climate.copernicus.eu/api/v2/resources/reanalysis-era5-pressure-levels\n",
      "2020-06-14 14:33:04,633 INFO Request is queued\n",
      "2020-06-14 14:33:05,965 INFO Request is completed\n",
      "2020-06-14 14:33:05,967 INFO Downloading http://136.156.132.105/cache-compute-0000/cache/data4/adaptor.mars.internal-1592101984.5324578-10478-5-c3e6b42a-3f6a-4db0-8dda-9dd5a6e0cdf2.nc to /home/nicolasf/research/CPP/indices/data/ERA5/daily/ERA5_daily_geopotential_1000_2019-10-22.nc (192.2K)\n",
      "2020-06-14 14:33:07,814 INFO Download rate 104.2K/s\n"
     ]
    },
    {
     "name": "stdout",
     "output_type": "stream",
     "text": [
      "downloading /home/nicolasf/research/CPP/indices/data/ERA5/daily/ERA5_daily_geopotential_1000_2019-10-23.nc\n"
     ]
    },
    {
     "name": "stderr",
     "output_type": "stream",
     "text": [
      "2020-06-14 14:33:09,447 INFO Welcome to the CDS\n",
      "2020-06-14 14:33:09,448 INFO Sending request to https://cds.climate.copernicus.eu/api/v2/resources/reanalysis-era5-pressure-levels\n",
      "2020-06-14 14:33:10,880 INFO Request is queued\n",
      "2020-06-14 14:33:12,211 INFO Request is completed\n",
      "2020-06-14 14:33:12,213 INFO Downloading http://136.156.133.25/cache-compute-0008/cache/data1/adaptor.mars.internal-1592101990.788041-1231-20-5a236b01-79b2-468e-b662-c03241d2ebc7.nc to /home/nicolasf/research/CPP/indices/data/ERA5/daily/ERA5_daily_geopotential_1000_2019-10-23.nc (192.2K)\n",
      "2020-06-14 14:33:14,030 INFO Download rate 105.9K/s\n"
     ]
    },
    {
     "name": "stdout",
     "output_type": "stream",
     "text": [
      "downloading /home/nicolasf/research/CPP/indices/data/ERA5/daily/ERA5_daily_geopotential_1000_2019-10-24.nc\n"
     ]
    },
    {
     "name": "stderr",
     "output_type": "stream",
     "text": [
      "2020-06-14 14:33:16,005 INFO Welcome to the CDS\n",
      "2020-06-14 14:33:16,006 INFO Sending request to https://cds.climate.copernicus.eu/api/v2/resources/reanalysis-era5-pressure-levels\n",
      "2020-06-14 14:33:17,233 INFO Request is queued\n",
      "2020-06-14 14:33:18,560 INFO Request is completed\n",
      "2020-06-14 14:33:18,562 INFO Downloading http://136.156.132.235/cache-compute-0006/cache/data7/adaptor.mars.internal-1592101997.1583145-7154-27-a8bcf1fd-d837-49cf-81d9-55be578f7da8.nc to /home/nicolasf/research/CPP/indices/data/ERA5/daily/ERA5_daily_geopotential_1000_2019-10-24.nc (192.2K)\n",
      "2020-06-14 14:33:21,943 INFO Download rate 56.9K/s \n"
     ]
    },
    {
     "name": "stdout",
     "output_type": "stream",
     "text": [
      "downloading /home/nicolasf/research/CPP/indices/data/ERA5/daily/ERA5_daily_geopotential_1000_2019-10-25.nc\n"
     ]
    },
    {
     "name": "stderr",
     "output_type": "stream",
     "text": [
      "2020-06-14 14:33:24,299 INFO Welcome to the CDS\n",
      "2020-06-14 14:33:24,300 INFO Sending request to https://cds.climate.copernicus.eu/api/v2/resources/reanalysis-era5-pressure-levels\n",
      "2020-06-14 14:33:25,626 INFO Request is queued\n",
      "2020-06-14 14:33:26,958 INFO Request is running\n",
      "2020-06-14 14:33:28,801 INFO Request is completed\n",
      "2020-06-14 14:33:28,803 INFO Downloading http://136.156.132.236/cache-compute-0007/cache/data3/adaptor.mars.internal-1592102005.8766193-21360-5-a624e399-a0f8-4292-bec8-01928f3518ac.nc to /home/nicolasf/research/CPP/indices/data/ERA5/daily/ERA5_daily_geopotential_1000_2019-10-25.nc (192.2K)\n",
      "2020-06-14 14:33:30,650 INFO Download rate 104.1K/s\n"
     ]
    },
    {
     "name": "stdout",
     "output_type": "stream",
     "text": [
      "downloading /home/nicolasf/research/CPP/indices/data/ERA5/daily/ERA5_daily_geopotential_1000_2019-10-26.nc\n"
     ]
    },
    {
     "name": "stderr",
     "output_type": "stream",
     "text": [
      "2020-06-14 14:33:32,464 INFO Welcome to the CDS\n",
      "2020-06-14 14:33:32,465 INFO Sending request to https://cds.climate.copernicus.eu/api/v2/resources/reanalysis-era5-pressure-levels\n",
      "2020-06-14 14:33:34,126 INFO Request is queued\n",
      "2020-06-14 14:33:35,457 INFO Request is running\n",
      "2020-06-14 14:33:37,300 INFO Request is completed\n",
      "2020-06-14 14:33:37,302 INFO Downloading http://136.156.132.198/cache-compute-0003/cache/data2/adaptor.mars.internal-1592102014.2041855-32233-3-46988bbf-917a-40cb-a944-73b261398398.nc to /home/nicolasf/research/CPP/indices/data/ERA5/daily/ERA5_daily_geopotential_1000_2019-10-26.nc (192.2K)\n",
      "2020-06-14 14:33:39,148 INFO Download rate 104.2K/s\n"
     ]
    },
    {
     "name": "stdout",
     "output_type": "stream",
     "text": [
      "downloading /home/nicolasf/research/CPP/indices/data/ERA5/daily/ERA5_daily_geopotential_1000_2019-10-27.nc\n"
     ]
    },
    {
     "name": "stderr",
     "output_type": "stream",
     "text": [
      "2020-06-14 14:33:41,092 INFO Welcome to the CDS\n",
      "2020-06-14 14:33:41,093 INFO Sending request to https://cds.climate.copernicus.eu/api/v2/resources/reanalysis-era5-pressure-levels\n",
      "2020-06-14 14:33:42,373 INFO Request is queued\n",
      "2020-06-14 14:33:43,751 INFO Request is completed\n",
      "2020-06-14 14:33:43,753 INFO Downloading http://136.156.132.153/cache-compute-0002/cache/data6/adaptor.mars.internal-1592102022.5634208-20771-7-c54dd13c-3a3c-47ff-9869-b508bb31d88a.nc to /home/nicolasf/research/CPP/indices/data/ERA5/daily/ERA5_daily_geopotential_1000_2019-10-27.nc (192.2K)\n",
      "2020-06-14 14:33:45,601 INFO Download rate 104.2K/s\n"
     ]
    },
    {
     "name": "stdout",
     "output_type": "stream",
     "text": [
      "downloading /home/nicolasf/research/CPP/indices/data/ERA5/daily/ERA5_daily_geopotential_1000_2019-10-28.nc\n"
     ]
    },
    {
     "name": "stderr",
     "output_type": "stream",
     "text": [
      "2020-06-14 14:33:47,236 INFO Welcome to the CDS\n",
      "2020-06-14 14:33:47,237 INFO Sending request to https://cds.climate.copernicus.eu/api/v2/resources/reanalysis-era5-pressure-levels\n",
      "2020-06-14 14:33:48,872 INFO Request is queued\n",
      "2020-06-14 14:33:51,987 INFO Request is completed\n",
      "2020-06-14 14:33:51,989 INFO Downloading http://136.156.132.198/cache-compute-0003/cache/data0/adaptor.mars.internal-1592102030.1774786-27519-33-442d1ffa-ec05-4e41-8bc4-bfbbfbfb0afc.nc to /home/nicolasf/research/CPP/indices/data/ERA5/daily/ERA5_daily_geopotential_1000_2019-10-28.nc (192.2K)\n",
      "2020-06-14 14:33:53,895 INFO Download rate 101K/s  \n"
     ]
    },
    {
     "name": "stdout",
     "output_type": "stream",
     "text": [
      "downloading /home/nicolasf/research/CPP/indices/data/ERA5/daily/ERA5_daily_geopotential_1000_2019-10-29.nc\n"
     ]
    },
    {
     "name": "stderr",
     "output_type": "stream",
     "text": [
      "2020-06-14 14:33:55,498 INFO Welcome to the CDS\n",
      "2020-06-14 14:33:55,499 INFO Sending request to https://cds.climate.copernicus.eu/api/v2/resources/reanalysis-era5-pressure-levels\n",
      "2020-06-14 14:33:57,474 INFO Request is queued\n",
      "2020-06-14 14:33:58,805 INFO Request is completed\n",
      "2020-06-14 14:33:58,807 INFO Downloading http://136.156.133.25/cache-compute-0008/cache/data1/adaptor.mars.internal-1592102037.4123147-1361-20-28a38db5-b0b7-41db-b94c-5e92fc38567e.nc to /home/nicolasf/research/CPP/indices/data/ERA5/daily/ERA5_daily_geopotential_1000_2019-10-29.nc (192.2K)\n",
      "2020-06-14 14:34:00,652 INFO Download rate 104.3K/s\n"
     ]
    },
    {
     "name": "stdout",
     "output_type": "stream",
     "text": [
      "downloading /home/nicolasf/research/CPP/indices/data/ERA5/daily/ERA5_daily_geopotential_1000_2019-10-30.nc\n"
     ]
    },
    {
     "name": "stderr",
     "output_type": "stream",
     "text": [
      "2020-06-14 14:34:02,187 INFO Welcome to the CDS\n",
      "2020-06-14 14:34:02,188 INFO Sending request to https://cds.climate.copernicus.eu/api/v2/resources/reanalysis-era5-pressure-levels\n",
      "2020-06-14 14:34:03,617 INFO Request is queued\n",
      "2020-06-14 14:34:04,948 INFO Request is completed\n",
      "2020-06-14 14:34:04,950 INFO Downloading http://136.156.133.25/cache-compute-0008/cache/data2/adaptor.mars.internal-1592102043.4980342-32335-31-7ae65a1e-6aa6-4171-9764-bbcfab72590e.nc to /home/nicolasf/research/CPP/indices/data/ERA5/daily/ERA5_daily_geopotential_1000_2019-10-30.nc (192.2K)\n",
      "2020-06-14 14:34:06,800 INFO Download rate 104K/s  \n"
     ]
    },
    {
     "name": "stdout",
     "output_type": "stream",
     "text": [
      "downloading /home/nicolasf/research/CPP/indices/data/ERA5/daily/ERA5_daily_geopotential_1000_2019-10-31.nc\n"
     ]
    },
    {
     "name": "stderr",
     "output_type": "stream",
     "text": [
      "2020-06-14 14:34:08,433 INFO Welcome to the CDS\n",
      "2020-06-14 14:34:08,434 INFO Sending request to https://cds.climate.copernicus.eu/api/v2/resources/reanalysis-era5-pressure-levels\n",
      "2020-06-14 14:34:09,673 INFO Request is queued\n",
      "2020-06-14 14:34:10,991 INFO Request is completed\n",
      "2020-06-14 14:34:10,993 INFO Downloading http://136.156.133.37/cache-compute-0011/cache/data2/adaptor.mars.internal-1592102049.7516286-14887-36-b9e71b1f-fbd7-4071-9f12-dd09ab9702b7.nc to /home/nicolasf/research/CPP/indices/data/ERA5/daily/ERA5_daily_geopotential_1000_2019-10-31.nc (192.2K)\n",
      "2020-06-14 14:34:12,841 INFO Download rate 104.1K/s\n"
     ]
    },
    {
     "name": "stdout",
     "output_type": "stream",
     "text": [
      "downloading /home/nicolasf/research/CPP/indices/data/ERA5/daily/ERA5_daily_geopotential_1000_2019-11-01.nc\n"
     ]
    },
    {
     "name": "stderr",
     "output_type": "stream",
     "text": [
      "2020-06-14 14:34:14,578 INFO Welcome to the CDS\n",
      "2020-06-14 14:34:14,579 INFO Sending request to https://cds.climate.copernicus.eu/api/v2/resources/reanalysis-era5-pressure-levels\n",
      "2020-06-14 14:34:15,868 INFO Request is queued\n",
      "2020-06-14 14:34:17,235 INFO Request is completed\n",
      "2020-06-14 14:34:17,236 INFO Downloading http://136.156.133.36/cache-compute-0010/cache/data3/adaptor.mars.internal-1592102055.798388-26043-3-5315a63a-9ab1-4843-bb39-8e95cb1f787d.nc to /home/nicolasf/research/CPP/indices/data/ERA5/daily/ERA5_daily_geopotential_1000_2019-11-01.nc (192.2K)\n",
      "2020-06-14 14:34:19,087 INFO Download rate 103.9K/s\n"
     ]
    },
    {
     "name": "stdout",
     "output_type": "stream",
     "text": [
      "downloading /home/nicolasf/research/CPP/indices/data/ERA5/daily/ERA5_daily_geopotential_1000_2019-11-02.nc\n"
     ]
    },
    {
     "name": "stderr",
     "output_type": "stream",
     "text": [
      "2020-06-14 14:34:20,620 INFO Welcome to the CDS\n",
      "2020-06-14 14:34:20,621 INFO Sending request to https://cds.climate.copernicus.eu/api/v2/resources/reanalysis-era5-pressure-levels\n",
      "2020-06-14 14:34:21,896 INFO Request is queued\n",
      "2020-06-14 14:34:23,279 INFO Request is completed\n",
      "2020-06-14 14:34:23,281 INFO Downloading http://136.156.133.46/cache-compute-0015/cache/data1/adaptor.mars.internal-1592102061.8962655-19460-3-2e24f10c-51bf-470b-8330-593aa7134c48.nc to /home/nicolasf/research/CPP/indices/data/ERA5/daily/ERA5_daily_geopotential_1000_2019-11-02.nc (192.2K)\n",
      "2020-06-14 14:34:25,230 INFO Download rate 98.7K/s \n"
     ]
    },
    {
     "name": "stdout",
     "output_type": "stream",
     "text": [
      "downloading /home/nicolasf/research/CPP/indices/data/ERA5/daily/ERA5_daily_geopotential_1000_2019-11-03.nc\n"
     ]
    },
    {
     "name": "stderr",
     "output_type": "stream",
     "text": [
      "2020-06-14 14:34:26,763 INFO Welcome to the CDS\n",
      "2020-06-14 14:34:26,764 INFO Sending request to https://cds.climate.copernicus.eu/api/v2/resources/reanalysis-era5-pressure-levels\n",
      "2020-06-14 14:34:28,017 INFO Request is queued\n",
      "2020-06-14 14:34:29,318 INFO Request is completed\n",
      "2020-06-14 14:34:29,319 INFO Downloading http://136.156.132.210/cache-compute-0005/cache/data6/adaptor.mars.internal-1592102067.958975-8293-9-398fcccf-becc-4923-b7b3-0ec03f164022.nc to /home/nicolasf/research/CPP/indices/data/ERA5/daily/ERA5_daily_geopotential_1000_2019-11-03.nc (192.2K)\n",
      "2020-06-14 14:34:31,168 INFO Download rate 104K/s  \n"
     ]
    },
    {
     "name": "stdout",
     "output_type": "stream",
     "text": [
      "downloading /home/nicolasf/research/CPP/indices/data/ERA5/daily/ERA5_daily_geopotential_1000_2019-11-04.nc\n"
     ]
    },
    {
     "name": "stderr",
     "output_type": "stream",
     "text": [
      "2020-06-14 14:34:32,808 INFO Welcome to the CDS\n",
      "2020-06-14 14:34:32,809 INFO Sending request to https://cds.climate.copernicus.eu/api/v2/resources/reanalysis-era5-pressure-levels\n",
      "2020-06-14 14:34:34,235 INFO Request is queued\n",
      "2020-06-14 14:34:35,567 INFO Request is completed\n",
      "2020-06-14 14:34:35,569 INFO Downloading http://136.156.133.42/cache-compute-0014/cache/data6/adaptor.mars.internal-1592102074.1399353-8568-37-35dc91f5-92b4-4b69-81ca-fe450dbad605.nc to /home/nicolasf/research/CPP/indices/data/ERA5/daily/ERA5_daily_geopotential_1000_2019-11-04.nc (192.2K)\n",
      "2020-06-14 14:34:37,416 INFO Download rate 104.1K/s\n"
     ]
    },
    {
     "name": "stdout",
     "output_type": "stream",
     "text": [
      "downloading /home/nicolasf/research/CPP/indices/data/ERA5/daily/ERA5_daily_geopotential_1000_2019-11-05.nc\n"
     ]
    },
    {
     "name": "stderr",
     "output_type": "stream",
     "text": [
      "2020-06-14 14:34:39,052 INFO Welcome to the CDS\n",
      "2020-06-14 14:34:39,053 INFO Sending request to https://cds.climate.copernicus.eu/api/v2/resources/reanalysis-era5-pressure-levels\n",
      "2020-06-14 14:34:40,322 INFO Request is queued\n",
      "2020-06-14 14:34:41,711 INFO Request is completed\n",
      "2020-06-14 14:34:41,713 INFO Downloading http://136.156.132.105/cache-compute-0000/cache/data4/adaptor.mars.internal-1592102080.2892814-9089-16-921f202e-4f28-4029-9de5-59a465964aa7.nc to /home/nicolasf/research/CPP/indices/data/ERA5/daily/ERA5_daily_geopotential_1000_2019-11-05.nc (192.2K)\n",
      "2020-06-14 14:34:43,560 INFO Download rate 104.2K/s\n"
     ]
    },
    {
     "name": "stdout",
     "output_type": "stream",
     "text": [
      "downloading /home/nicolasf/research/CPP/indices/data/ERA5/daily/ERA5_daily_geopotential_1000_2019-11-06.nc\n"
     ]
    },
    {
     "name": "stderr",
     "output_type": "stream",
     "text": [
      "2020-06-14 14:34:45,094 INFO Welcome to the CDS\n",
      "2020-06-14 14:34:45,095 INFO Sending request to https://cds.climate.copernicus.eu/api/v2/resources/reanalysis-era5-pressure-levels\n",
      "2020-06-14 14:34:46,319 INFO Request is queued\n",
      "2020-06-14 14:34:47,650 INFO Request is completed\n",
      "2020-06-14 14:34:47,652 INFO Downloading http://136.156.133.42/cache-compute-0014/cache/data2/adaptor.mars.internal-1592102086.3480895-16832-13-4b198bee-971a-499e-a191-1730f8713d21.nc to /home/nicolasf/research/CPP/indices/data/ERA5/daily/ERA5_daily_geopotential_1000_2019-11-06.nc (192.2K)\n",
      "2020-06-14 14:34:49,501 INFO Download rate 104.1K/s\n"
     ]
    },
    {
     "name": "stdout",
     "output_type": "stream",
     "text": [
      "downloading /home/nicolasf/research/CPP/indices/data/ERA5/daily/ERA5_daily_geopotential_1000_2019-11-07.nc\n"
     ]
    },
    {
     "name": "stderr",
     "output_type": "stream",
     "text": [
      "2020-06-14 14:34:51,033 INFO Welcome to the CDS\n",
      "2020-06-14 14:34:51,034 INFO Sending request to https://cds.climate.copernicus.eu/api/v2/resources/reanalysis-era5-pressure-levels\n",
      "2020-06-14 14:34:52,258 INFO Request is queued\n",
      "2020-06-14 14:34:53,589 INFO Request is completed\n",
      "2020-06-14 14:34:53,591 INFO Downloading http://136.156.133.39/cache-compute-0012/cache/data1/adaptor.mars.internal-1592102092.1794624-10515-24-edf273cd-7f22-4958-a11b-c989c6129864.nc to /home/nicolasf/research/CPP/indices/data/ERA5/daily/ERA5_daily_geopotential_1000_2019-11-07.nc (192.2K)\n",
      "2020-06-14 14:34:55,440 INFO Download rate 104K/s  \n"
     ]
    },
    {
     "name": "stdout",
     "output_type": "stream",
     "text": [
      "downloading /home/nicolasf/research/CPP/indices/data/ERA5/daily/ERA5_daily_geopotential_1000_2019-11-08.nc\n"
     ]
    },
    {
     "name": "stderr",
     "output_type": "stream",
     "text": [
      "2020-06-14 14:34:56,972 INFO Welcome to the CDS\n",
      "2020-06-14 14:34:56,973 INFO Sending request to https://cds.climate.copernicus.eu/api/v2/resources/reanalysis-era5-pressure-levels\n",
      "2020-06-14 14:34:58,505 INFO Request is queued\n",
      "2020-06-14 14:34:59,836 INFO Request is completed\n",
      "2020-06-14 14:34:59,838 INFO Downloading http://136.156.132.210/cache-compute-0005/cache/data6/adaptor.mars.internal-1592102098.5173485-8513-9-c55f54e0-68c8-41a3-a586-f5f12691e1e8.nc to /home/nicolasf/research/CPP/indices/data/ERA5/daily/ERA5_daily_geopotential_1000_2019-11-08.nc (192.2K)\n",
      "2020-06-14 14:35:01,686 INFO Download rate 104.1K/s\n"
     ]
    },
    {
     "name": "stdout",
     "output_type": "stream",
     "text": [
      "downloading /home/nicolasf/research/CPP/indices/data/ERA5/daily/ERA5_daily_geopotential_1000_2019-11-09.nc\n"
     ]
    },
    {
     "name": "stderr",
     "output_type": "stream",
     "text": [
      "2020-06-14 14:35:03,424 INFO Welcome to the CDS\n",
      "2020-06-14 14:35:03,427 INFO Sending request to https://cds.climate.copernicus.eu/api/v2/resources/reanalysis-era5-pressure-levels\n",
      "2020-06-14 14:35:04,684 INFO Request is queued\n",
      "2020-06-14 14:35:05,980 INFO Request is running\n",
      "2020-06-14 14:35:07,823 INFO Request is completed\n",
      "2020-06-14 14:35:07,825 INFO Downloading http://136.156.133.46/cache-compute-0015/cache/data3/adaptor.mars.internal-1592102105.0047305-17818-14-e89c1152-b632-4ca0-b9d4-857263dc66bd.nc to /home/nicolasf/research/CPP/indices/data/ERA5/daily/ERA5_daily_geopotential_1000_2019-11-09.nc (192.2K)\n",
      "2020-06-14 14:35:09,674 INFO Download rate 104.1K/s\n"
     ]
    },
    {
     "name": "stdout",
     "output_type": "stream",
     "text": [
      "downloading /home/nicolasf/research/CPP/indices/data/ERA5/daily/ERA5_daily_geopotential_1000_2019-11-10.nc\n"
     ]
    },
    {
     "name": "stderr",
     "output_type": "stream",
     "text": [
      "2020-06-14 14:35:11,309 INFO Welcome to the CDS\n",
      "2020-06-14 14:35:11,310 INFO Sending request to https://cds.climate.copernicus.eu/api/v2/resources/reanalysis-era5-pressure-levels\n",
      "2020-06-14 14:35:12,613 INFO Request is queued\n",
      "2020-06-14 14:35:13,967 INFO Request is completed\n",
      "2020-06-14 14:35:13,969 INFO Downloading http://136.156.132.210/cache-compute-0005/cache/data6/adaptor.mars.internal-1592102112.5632176-8679-9-af558670-db88-49e3-aa1b-a154b016f495.nc to /home/nicolasf/research/CPP/indices/data/ERA5/daily/ERA5_daily_geopotential_1000_2019-11-10.nc (192.2K)\n",
      "2020-06-14 14:35:15,816 INFO Download rate 104.2K/s\n"
     ]
    },
    {
     "name": "stdout",
     "output_type": "stream",
     "text": [
      "downloading /home/nicolasf/research/CPP/indices/data/ERA5/daily/ERA5_daily_geopotential_1000_2019-11-11.nc\n"
     ]
    },
    {
     "name": "stderr",
     "output_type": "stream",
     "text": [
      "2020-06-14 14:35:17,350 INFO Welcome to the CDS\n",
      "2020-06-14 14:35:17,351 INFO Sending request to https://cds.climate.copernicus.eu/api/v2/resources/reanalysis-era5-pressure-levels\n",
      "2020-06-14 14:35:18,659 INFO Request is queued\n",
      "2020-06-14 14:35:20,009 INFO Request is completed\n",
      "2020-06-14 14:35:20,011 INFO Downloading http://136.156.132.201/cache-compute-0004/cache/data1/adaptor.mars.internal-1592102118.5942435-21385-13-775be0f7-def5-44fd-8f52-73cf28ffacf9.nc to /home/nicolasf/research/CPP/indices/data/ERA5/daily/ERA5_daily_geopotential_1000_2019-11-11.nc (192.2K)\n",
      "2020-06-14 14:35:21,857 INFO Download rate 104.2K/s\n"
     ]
    },
    {
     "name": "stdout",
     "output_type": "stream",
     "text": [
      "downloading /home/nicolasf/research/CPP/indices/data/ERA5/daily/ERA5_daily_geopotential_1000_2019-11-12.nc\n"
     ]
    },
    {
     "name": "stderr",
     "output_type": "stream",
     "text": [
      "2020-06-14 14:35:23,495 INFO Welcome to the CDS\n",
      "2020-06-14 14:35:23,496 INFO Sending request to https://cds.climate.copernicus.eu/api/v2/resources/reanalysis-era5-pressure-levels\n",
      "2020-06-14 14:35:24,730 INFO Request is queued\n",
      "2020-06-14 14:35:26,051 INFO Request is completed\n",
      "2020-06-14 14:35:26,053 INFO Downloading http://136.156.133.39/cache-compute-0012/cache/data5/adaptor.mars.internal-1592102124.6823933-12070-18-16bbf057-d1b4-4f79-8ffb-1e2901f71cca.nc to /home/nicolasf/research/CPP/indices/data/ERA5/daily/ERA5_daily_geopotential_1000_2019-11-12.nc (192.2K)\n",
      "2020-06-14 14:35:27,901 INFO Download rate 104.1K/s\n"
     ]
    },
    {
     "name": "stdout",
     "output_type": "stream",
     "text": [
      "downloading /home/nicolasf/research/CPP/indices/data/ERA5/daily/ERA5_daily_geopotential_1000_2019-11-13.nc\n"
     ]
    },
    {
     "name": "stderr",
     "output_type": "stream",
     "text": [
      "2020-06-14 14:35:29,434 INFO Welcome to the CDS\n",
      "2020-06-14 14:35:29,434 INFO Sending request to https://cds.climate.copernicus.eu/api/v2/resources/reanalysis-era5-pressure-levels\n",
      "2020-06-14 14:35:31,786 INFO Request is queued\n",
      "2020-06-14 14:35:33,077 INFO Request is completed\n",
      "2020-06-14 14:35:33,079 INFO Downloading http://136.156.133.36/cache-compute-0010/cache/data0/adaptor.mars.internal-1592102131.7065842-23381-18-7f1bf37b-d613-4852-aeeb-a243b14db3fc.nc to /home/nicolasf/research/CPP/indices/data/ERA5/daily/ERA5_daily_geopotential_1000_2019-11-13.nc (192.2K)\n",
      "2020-06-14 14:35:34,966 INFO Download rate 102K/s  \n"
     ]
    },
    {
     "name": "stdout",
     "output_type": "stream",
     "text": [
      "downloading /home/nicolasf/research/CPP/indices/data/ERA5/daily/ERA5_daily_geopotential_1000_2019-11-14.nc\n"
     ]
    },
    {
     "name": "stderr",
     "output_type": "stream",
     "text": [
      "2020-06-14 14:35:36,500 INFO Welcome to the CDS\n",
      "2020-06-14 14:35:36,500 INFO Sending request to https://cds.climate.copernicus.eu/api/v2/resources/reanalysis-era5-pressure-levels\n",
      "2020-06-14 14:35:37,732 INFO Request is queued\n",
      "2020-06-14 14:35:39,056 INFO Request is completed\n",
      "2020-06-14 14:35:39,058 INFO Downloading http://136.156.133.37/cache-compute-0011/cache/data7/adaptor.mars.internal-1592102137.90727-20937-7-a0c5ca5a-07d2-4899-95c1-78a466906f7c.nc to /home/nicolasf/research/CPP/indices/data/ERA5/daily/ERA5_daily_geopotential_1000_2019-11-14.nc (192.2K)\n",
      "2020-06-14 14:35:40,903 INFO Download rate 104.3K/s\n"
     ]
    },
    {
     "name": "stdout",
     "output_type": "stream",
     "text": [
      "downloading /home/nicolasf/research/CPP/indices/data/ERA5/daily/ERA5_daily_geopotential_1000_2019-11-15.nc\n"
     ]
    },
    {
     "name": "stderr",
     "output_type": "stream",
     "text": [
      "2020-06-14 14:35:42,541 INFO Welcome to the CDS\n",
      "2020-06-14 14:35:42,542 INFO Sending request to https://cds.climate.copernicus.eu/api/v2/resources/reanalysis-era5-pressure-levels\n",
      "2020-06-14 14:35:43,790 INFO Request is queued\n",
      "2020-06-14 14:35:45,098 INFO Request is running\n",
      "2020-06-14 14:36:06,604 INFO Request is completed\n",
      "2020-06-14 14:36:06,606 INFO Downloading http://136.156.133.32/cache-compute-0009/cache/data8/adaptor.mars.internal-1592102143.7838566-14056-11-2f79bc3b-bdc1-4f33-8b65-afb26234a2a7.nc to /home/nicolasf/research/CPP/indices/data/ERA5/daily/ERA5_daily_geopotential_1000_2019-11-15.nc (192.2K)\n",
      "2020-06-14 14:36:08,454 INFO Download rate 104.2K/s\n"
     ]
    },
    {
     "name": "stdout",
     "output_type": "stream",
     "text": [
      "downloading /home/nicolasf/research/CPP/indices/data/ERA5/daily/ERA5_daily_geopotential_1000_2019-11-16.nc\n"
     ]
    },
    {
     "name": "stderr",
     "output_type": "stream",
     "text": [
      "2020-06-14 14:36:13,264 INFO Welcome to the CDS\n",
      "2020-06-14 14:36:13,265 INFO Sending request to https://cds.climate.copernicus.eu/api/v2/resources/reanalysis-era5-pressure-levels\n",
      "2020-06-14 14:36:14,502 INFO Request is queued\n",
      "2020-06-14 14:36:15,818 INFO Request is completed\n",
      "2020-06-14 14:36:15,820 INFO Downloading http://136.156.133.41/cache-compute-0013/cache/data4/adaptor.mars.internal-1592102174.4596472-19022-16-0eced3cf-6a27-4233-b100-769759eecf23.nc to /home/nicolasf/research/CPP/indices/data/ERA5/daily/ERA5_daily_geopotential_1000_2019-11-16.nc (192.2K)\n",
      "2020-06-14 14:36:17,668 INFO Download rate 104.2K/s\n"
     ]
    },
    {
     "name": "stdout",
     "output_type": "stream",
     "text": [
      "downloading /home/nicolasf/research/CPP/indices/data/ERA5/daily/ERA5_daily_geopotential_1000_2019-11-17.nc\n"
     ]
    },
    {
     "name": "stderr",
     "output_type": "stream",
     "text": [
      "2020-06-14 14:36:20,226 INFO Welcome to the CDS\n",
      "2020-06-14 14:36:20,228 INFO Sending request to https://cds.climate.copernicus.eu/api/v2/resources/reanalysis-era5-pressure-levels\n",
      "2020-06-14 14:36:21,478 INFO Request is queued\n",
      "2020-06-14 14:36:22,782 INFO Request is completed\n",
      "2020-06-14 14:36:22,784 INFO Downloading http://136.156.132.153/cache-compute-0002/cache/data8/adaptor.mars.internal-1592102181.505113-20771-13-ccd00f3b-06cd-43d9-980e-8d822de3ba8a.nc to /home/nicolasf/research/CPP/indices/data/ERA5/daily/ERA5_daily_geopotential_1000_2019-11-17.nc (192.2K)\n",
      "2020-06-14 14:36:24,631 INFO Download rate 104.2K/s\n"
     ]
    },
    {
     "name": "stdout",
     "output_type": "stream",
     "text": [
      "downloading /home/nicolasf/research/CPP/indices/data/ERA5/daily/ERA5_daily_geopotential_1000_2019-11-18.nc\n"
     ]
    },
    {
     "name": "stderr",
     "output_type": "stream",
     "text": [
      "2020-06-14 14:36:26,267 INFO Welcome to the CDS\n",
      "2020-06-14 14:36:26,267 INFO Sending request to https://cds.climate.copernicus.eu/api/v2/resources/reanalysis-era5-pressure-levels\n",
      "2020-06-14 14:36:27,702 INFO Request is queued\n",
      "2020-06-14 14:36:29,028 INFO Request is completed\n",
      "2020-06-14 14:36:29,030 INFO Downloading http://136.156.132.110/cache-compute-0001/cache/data5/adaptor.mars.internal-1592102187.5872889-18430-35-69d7f9cf-94e8-4679-9135-5d74bbdced6b.nc to /home/nicolasf/research/CPP/indices/data/ERA5/daily/ERA5_daily_geopotential_1000_2019-11-18.nc (192.2K)\n",
      "2020-06-14 14:36:30,878 INFO Download rate 104.1K/s\n"
     ]
    },
    {
     "name": "stdout",
     "output_type": "stream",
     "text": [
      "downloading /home/nicolasf/research/CPP/indices/data/ERA5/daily/ERA5_daily_geopotential_1000_2019-11-19.nc\n"
     ]
    },
    {
     "name": "stderr",
     "output_type": "stream",
     "text": [
      "2020-06-14 14:36:33,231 INFO Welcome to the CDS\n",
      "2020-06-14 14:36:33,231 INFO Sending request to https://cds.climate.copernicus.eu/api/v2/resources/reanalysis-era5-pressure-levels\n",
      "2020-06-14 14:36:34,543 INFO Request is queued\n",
      "2020-06-14 14:36:35,889 INFO Request is running\n",
      "2020-06-14 14:36:37,732 INFO Request is completed\n",
      "2020-06-14 14:36:37,734 INFO Downloading http://136.156.132.153/cache-compute-0002/cache/data0/adaptor.mars.internal-1592102194.7857003-19337-16-4c8ca15a-79c1-4c20-a11b-d685dc8f88f7.nc to /home/nicolasf/research/CPP/indices/data/ERA5/daily/ERA5_daily_geopotential_1000_2019-11-19.nc (192.2K)\n",
      "2020-06-14 14:36:39,584 INFO Download rate 104K/s  \n"
     ]
    },
    {
     "name": "stdout",
     "output_type": "stream",
     "text": [
      "downloading /home/nicolasf/research/CPP/indices/data/ERA5/daily/ERA5_daily_geopotential_1000_2019-11-20.nc\n"
     ]
    },
    {
     "name": "stderr",
     "output_type": "stream",
     "text": [
      "2020-06-14 14:36:41,320 INFO Welcome to the CDS\n",
      "2020-06-14 14:36:41,320 INFO Sending request to https://cds.climate.copernicus.eu/api/v2/resources/reanalysis-era5-pressure-levels\n",
      "2020-06-14 14:36:42,736 INFO Request is queued\n",
      "2020-06-14 14:36:44,081 INFO Request is running\n",
      "2020-06-14 14:36:45,924 INFO Request is completed\n",
      "2020-06-14 14:36:45,926 INFO Downloading http://136.156.132.201/cache-compute-0004/cache/data6/adaptor.mars.internal-1592102202.8308663-22358-18-395ff33a-386b-4201-8e83-ff474896e85d.nc to /home/nicolasf/research/CPP/indices/data/ERA5/daily/ERA5_daily_geopotential_1000_2019-11-20.nc (192.2K)\n",
      "2020-06-14 14:36:47,772 INFO Download rate 104.2K/s\n"
     ]
    },
    {
     "name": "stdout",
     "output_type": "stream",
     "text": [
      "downloading /home/nicolasf/research/CPP/indices/data/ERA5/daily/ERA5_daily_geopotential_1000_2019-11-21.nc\n"
     ]
    },
    {
     "name": "stderr",
     "output_type": "stream",
     "text": [
      "2020-06-14 14:36:52,175 INFO Welcome to the CDS\n",
      "2020-06-14 14:36:52,176 INFO Sending request to https://cds.climate.copernicus.eu/api/v2/resources/reanalysis-era5-pressure-levels\n",
      "2020-06-14 14:36:53,604 INFO Request is queued\n",
      "2020-06-14 14:36:54,936 INFO Request is completed\n",
      "2020-06-14 14:36:54,938 INFO Downloading http://136.156.132.201/cache-compute-0004/cache/data7/adaptor.mars.internal-1592102213.472231-24465-5-ee158268-4fdc-4351-a32d-b502d5d4769b.nc to /home/nicolasf/research/CPP/indices/data/ERA5/daily/ERA5_daily_geopotential_1000_2019-11-21.nc (192.2K)\n",
      "2020-06-14 14:36:56,761 INFO Download rate 105.5K/s\n"
     ]
    },
    {
     "name": "stdout",
     "output_type": "stream",
     "text": [
      "downloading /home/nicolasf/research/CPP/indices/data/ERA5/daily/ERA5_daily_geopotential_1000_2019-11-22.nc\n"
     ]
    },
    {
     "name": "stderr",
     "output_type": "stream",
     "text": [
      "2020-06-14 14:36:58,318 INFO Welcome to the CDS\n",
      "2020-06-14 14:36:58,319 INFO Sending request to https://cds.climate.copernicus.eu/api/v2/resources/reanalysis-era5-pressure-levels\n",
      "2020-06-14 14:36:59,553 INFO Request is queued\n",
      "2020-06-14 14:37:00,875 INFO Request is completed\n",
      "2020-06-14 14:37:00,877 INFO Downloading http://136.156.133.41/cache-compute-0013/cache/data7/adaptor.mars.internal-1592102219.6420155-20230-11-56016bf4-542a-4297-9f24-4d0f0c058512.nc to /home/nicolasf/research/CPP/indices/data/ERA5/daily/ERA5_daily_geopotential_1000_2019-11-22.nc (192.2K)\n",
      "2020-06-14 14:37:02,723 INFO Download rate 104.2K/s\n"
     ]
    },
    {
     "name": "stdout",
     "output_type": "stream",
     "text": [
      "downloading /home/nicolasf/research/CPP/indices/data/ERA5/daily/ERA5_daily_geopotential_1000_2019-11-23.nc\n"
     ]
    },
    {
     "name": "stderr",
     "output_type": "stream",
     "text": [
      "2020-06-14 14:37:04,360 INFO Welcome to the CDS\n",
      "2020-06-14 14:37:04,361 INFO Sending request to https://cds.climate.copernicus.eu/api/v2/resources/reanalysis-era5-pressure-levels\n",
      "2020-06-14 14:37:05,995 INFO Request is queued\n",
      "2020-06-14 14:37:07,327 INFO Request is completed\n",
      "2020-06-14 14:37:07,329 INFO Downloading http://136.156.132.235/cache-compute-0006/cache/data7/adaptor.mars.internal-1592102226.0347424-7816-31-1c0f88f4-29e1-4e1d-b94c-5a846b095b52.nc to /home/nicolasf/research/CPP/indices/data/ERA5/daily/ERA5_daily_geopotential_1000_2019-11-23.nc (192.2K)\n",
      "2020-06-14 14:37:10,710 INFO Download rate 56.9K/s \n"
     ]
    },
    {
     "name": "stdout",
     "output_type": "stream",
     "text": [
      "downloading /home/nicolasf/research/CPP/indices/data/ERA5/daily/ERA5_daily_geopotential_1000_2019-11-24.nc\n"
     ]
    },
    {
     "name": "stderr",
     "output_type": "stream",
     "text": [
      "2020-06-14 14:37:12,245 INFO Welcome to the CDS\n",
      "2020-06-14 14:37:12,246 INFO Sending request to https://cds.climate.copernicus.eu/api/v2/resources/reanalysis-era5-pressure-levels\n",
      "2020-06-14 14:37:13,516 INFO Request is queued\n",
      "2020-06-14 14:37:14,904 INFO Request is running\n",
      "2020-06-14 14:37:16,747 INFO Request is completed\n",
      "2020-06-14 14:37:16,749 INFO Downloading http://136.156.133.37/cache-compute-0011/cache/data7/adaptor.mars.internal-1592102233.5272534-22485-1-c8792fcb-5ebb-4b9d-b686-808fd2b15b3b.nc to /home/nicolasf/research/CPP/indices/data/ERA5/daily/ERA5_daily_geopotential_1000_2019-11-24.nc (192.2K)\n",
      "2020-06-14 14:37:18,596 INFO Download rate 104.2K/s\n"
     ]
    },
    {
     "name": "stdout",
     "output_type": "stream",
     "text": [
      "downloading /home/nicolasf/research/CPP/indices/data/ERA5/daily/ERA5_daily_geopotential_1000_2019-11-25.nc\n"
     ]
    },
    {
     "name": "stderr",
     "output_type": "stream",
     "text": [
      "2020-06-14 14:37:20,437 INFO Welcome to the CDS\n",
      "2020-06-14 14:37:20,438 INFO Sending request to https://cds.climate.copernicus.eu/api/v2/resources/reanalysis-era5-pressure-levels\n",
      "2020-06-14 14:37:21,783 INFO Request is queued\n",
      "2020-06-14 14:37:23,095 INFO Request is running\n",
      "2020-06-14 14:37:24,939 INFO Request is completed\n",
      "2020-06-14 14:37:24,941 INFO Downloading http://136.156.133.39/cache-compute-0012/cache/data9/adaptor.mars.internal-1592102242.1803136-15369-1-811e9130-81a4-417f-8586-3a4288efbc45.nc to /home/nicolasf/research/CPP/indices/data/ERA5/daily/ERA5_daily_geopotential_1000_2019-11-25.nc (192.2K)\n",
      "2020-06-14 14:37:26,786 INFO Download rate 104.3K/s\n"
     ]
    },
    {
     "name": "stdout",
     "output_type": "stream",
     "text": [
      "downloading /home/nicolasf/research/CPP/indices/data/ERA5/daily/ERA5_daily_geopotential_1000_2019-11-26.nc\n"
     ]
    },
    {
     "name": "stderr",
     "output_type": "stream",
     "text": [
      "2020-06-14 14:37:28,629 INFO Welcome to the CDS\n",
      "2020-06-14 14:37:28,630 INFO Sending request to https://cds.climate.copernicus.eu/api/v2/resources/reanalysis-era5-pressure-levels\n",
      "2020-06-14 14:37:29,878 INFO Request is queued\n",
      "2020-06-14 14:37:31,185 INFO Request is running\n",
      "2020-06-14 14:37:33,028 INFO Request is completed\n",
      "2020-06-14 14:37:33,030 INFO Downloading http://136.156.132.110/cache-compute-0001/cache/data3/adaptor.mars.internal-1592102250.4605455-22114-16-7e4d38ae-5408-40e5-b3fc-fe434eae62c6.nc to /home/nicolasf/research/CPP/indices/data/ERA5/daily/ERA5_daily_geopotential_1000_2019-11-26.nc (192.2K)\n",
      "2020-06-14 14:37:34,878 INFO Download rate 104.2K/s\n"
     ]
    },
    {
     "name": "stdout",
     "output_type": "stream",
     "text": [
      "downloading /home/nicolasf/research/CPP/indices/data/ERA5/daily/ERA5_daily_geopotential_1000_2019-11-27.nc\n"
     ]
    },
    {
     "name": "stderr",
     "output_type": "stream",
     "text": [
      "2020-06-14 14:37:36,821 INFO Welcome to the CDS\n",
      "2020-06-14 14:37:36,822 INFO Sending request to https://cds.climate.copernicus.eu/api/v2/resources/reanalysis-era5-pressure-levels\n",
      "2020-06-14 14:37:38,968 INFO Request is queued\n",
      "2020-06-14 14:37:40,299 INFO Request is completed\n",
      "2020-06-14 14:37:40,301 INFO Downloading http://136.156.132.201/cache-compute-0004/cache/data0/adaptor.mars.internal-1592102258.8812246-22358-20-dce881bd-5821-4528-9209-ba608385049e.nc to /home/nicolasf/research/CPP/indices/data/ERA5/daily/ERA5_daily_geopotential_1000_2019-11-27.nc (192.2K)\n",
      "2020-06-14 14:37:42,146 INFO Download rate 104.3K/s\n"
     ]
    },
    {
     "name": "stdout",
     "output_type": "stream",
     "text": [
      "downloading /home/nicolasf/research/CPP/indices/data/ERA5/daily/ERA5_daily_geopotential_1000_2019-11-28.nc\n"
     ]
    },
    {
     "name": "stderr",
     "output_type": "stream",
     "text": [
      "2020-06-14 14:37:43,645 INFO Welcome to the CDS\n",
      "2020-06-14 14:37:43,646 INFO Sending request to https://cds.climate.copernicus.eu/api/v2/resources/reanalysis-era5-pressure-levels\n",
      "2020-06-14 14:37:45,419 INFO Request is queued\n",
      "2020-06-14 14:37:46,750 INFO Request is running\n",
      "2020-06-14 14:37:48,696 INFO Request is completed\n",
      "2020-06-14 14:37:48,699 INFO Downloading http://136.156.132.236/cache-compute-0007/cache/data3/adaptor.mars.internal-1592102266.0445218-18879-31-3ea29114-f749-473f-a076-b9690cf80f7d.nc to /home/nicolasf/research/CPP/indices/data/ERA5/daily/ERA5_daily_geopotential_1000_2019-11-28.nc (192.2K)\n",
      "2020-06-14 14:37:50,546 INFO Download rate 104.1K/s\n"
     ]
    },
    {
     "name": "stdout",
     "output_type": "stream",
     "text": [
      "downloading /home/nicolasf/research/CPP/indices/data/ERA5/daily/ERA5_daily_geopotential_1000_2019-11-29.nc\n"
     ]
    },
    {
     "name": "stderr",
     "output_type": "stream",
     "text": [
      "2020-06-14 14:37:52,385 INFO Welcome to the CDS\n",
      "2020-06-14 14:37:52,386 INFO Sending request to https://cds.climate.copernicus.eu/api/v2/resources/reanalysis-era5-pressure-levels\n",
      "2020-06-14 14:37:53,918 INFO Request is queued\n",
      "2020-06-14 14:37:55,250 INFO Request is running\n",
      "2020-06-14 14:37:57,093 INFO Request is completed\n",
      "2020-06-14 14:37:57,095 INFO Downloading http://136.156.133.42/cache-compute-0014/cache/data0/adaptor.mars.internal-1592102273.9625828-19008-18-e8d8ae8f-c171-42d4-a8a3-49df4c3d2c74.nc to /home/nicolasf/research/CPP/indices/data/ERA5/daily/ERA5_daily_geopotential_1000_2019-11-29.nc (192.2K)\n",
      "2020-06-14 14:37:58,943 INFO Download rate 104.1K/s\n"
     ]
    },
    {
     "name": "stdout",
     "output_type": "stream",
     "text": [
      "downloading /home/nicolasf/research/CPP/indices/data/ERA5/daily/ERA5_daily_geopotential_1000_2019-11-30.nc\n"
     ]
    },
    {
     "name": "stderr",
     "output_type": "stream",
     "text": [
      "2020-06-14 14:38:00,782 INFO Welcome to the CDS\n",
      "2020-06-14 14:38:00,783 INFO Sending request to https://cds.climate.copernicus.eu/api/v2/resources/reanalysis-era5-pressure-levels\n",
      "2020-06-14 14:38:02,041 INFO Request is queued\n",
      "2020-06-14 14:38:03,339 INFO Request is running\n",
      "2020-06-14 14:38:05,182 INFO Request is completed\n",
      "2020-06-14 14:38:05,184 INFO Downloading http://136.156.133.39/cache-compute-0012/cache/data9/adaptor.mars.internal-1592102282.3597128-11540-22-3c3858de-5da6-466e-a64d-bcf8bab02c41.nc to /home/nicolasf/research/CPP/indices/data/ERA5/daily/ERA5_daily_geopotential_1000_2019-11-30.nc (192.2K)\n",
      "2020-06-14 14:38:07,032 INFO Download rate 104.1K/s\n"
     ]
    },
    {
     "name": "stdout",
     "output_type": "stream",
     "text": [
      "downloading /home/nicolasf/research/CPP/indices/data/ERA5/daily/ERA5_daily_geopotential_1000_2019-12-01.nc\n"
     ]
    },
    {
     "name": "stderr",
     "output_type": "stream",
     "text": [
      "2020-06-14 14:38:08,668 INFO Welcome to the CDS\n",
      "2020-06-14 14:38:08,668 INFO Sending request to https://cds.climate.copernicus.eu/api/v2/resources/reanalysis-era5-pressure-levels\n",
      "2020-06-14 14:38:10,404 INFO Request is queued\n",
      "2020-06-14 14:38:11,736 INFO Request is completed\n",
      "2020-06-14 14:38:11,738 INFO Downloading http://136.156.132.201/cache-compute-0004/cache/data7/adaptor.mars.internal-1592102290.5942576-21833-27-985494ff-b7e9-47b5-a157-2931f598d7c4.nc to /home/nicolasf/research/CPP/indices/data/ERA5/daily/ERA5_daily_geopotential_1000_2019-12-01.nc (192.2K)\n",
      "2020-06-14 14:38:13,585 INFO Download rate 104.1K/s\n"
     ]
    },
    {
     "name": "stdout",
     "output_type": "stream",
     "text": [
      "downloading /home/nicolasf/research/CPP/indices/data/ERA5/daily/ERA5_daily_geopotential_1000_2019-12-02.nc\n"
     ]
    },
    {
     "name": "stderr",
     "output_type": "stream",
     "text": [
      "2020-06-14 14:38:15,119 INFO Welcome to the CDS\n",
      "2020-06-14 14:38:15,120 INFO Sending request to https://cds.climate.copernicus.eu/api/v2/resources/reanalysis-era5-pressure-levels\n",
      "2020-06-14 14:38:16,548 INFO Request is queued\n",
      "2020-06-14 14:38:17,880 INFO Request is completed\n",
      "2020-06-14 14:38:17,882 INFO Downloading http://136.156.133.46/cache-compute-0015/cache/data8/adaptor.mars.internal-1592102296.391166-21143-1-a8def468-f609-425f-9715-fbde272fa12b.nc to /home/nicolasf/research/CPP/indices/data/ERA5/daily/ERA5_daily_geopotential_1000_2019-12-02.nc (192.2K)\n",
      "2020-06-14 14:38:19,729 INFO Download rate 104.1K/s\n"
     ]
    },
    {
     "name": "stdout",
     "output_type": "stream",
     "text": [
      "downloading /home/nicolasf/research/CPP/indices/data/ERA5/daily/ERA5_daily_geopotential_1000_2019-12-03.nc\n"
     ]
    },
    {
     "name": "stderr",
     "output_type": "stream",
     "text": [
      "2020-06-14 14:38:21,672 INFO Welcome to the CDS\n",
      "2020-06-14 14:38:21,673 INFO Sending request to https://cds.climate.copernicus.eu/api/v2/resources/reanalysis-era5-pressure-levels\n",
      "2020-06-14 14:38:22,992 INFO Request is queued\n",
      "2020-06-14 14:38:24,331 INFO Request is running\n",
      "2020-06-14 14:38:26,174 INFO Request is completed\n",
      "2020-06-14 14:38:26,176 INFO Downloading http://136.156.133.37/cache-compute-0011/cache/data7/adaptor.mars.internal-1592102303.3995485-22917-1-1bd7ba76-321a-4a54-9bce-0781284caf53.nc to /home/nicolasf/research/CPP/indices/data/ERA5/daily/ERA5_daily_geopotential_1000_2019-12-03.nc (192.2K)\n",
      "2020-06-14 14:38:28,329 INFO Download rate 89.4K/s \n"
     ]
    },
    {
     "name": "stdout",
     "output_type": "stream",
     "text": [
      "downloading /home/nicolasf/research/CPP/indices/data/ERA5/daily/ERA5_daily_geopotential_1000_2019-12-04.nc\n"
     ]
    },
    {
     "name": "stderr",
     "output_type": "stream",
     "text": [
      "2020-06-14 14:38:29,967 INFO Welcome to the CDS\n",
      "2020-06-14 14:38:29,968 INFO Sending request to https://cds.climate.copernicus.eu/api/v2/resources/reanalysis-era5-pressure-levels\n",
      "2020-06-14 14:38:31,199 INFO Request is queued\n",
      "2020-06-14 14:38:32,522 INFO Request is completed\n",
      "2020-06-14 14:38:32,523 INFO Downloading http://136.156.132.210/cache-compute-0005/cache/data0/adaptor.mars.internal-1592102311.108955-10130-7-938eb925-b5cd-4fb0-8c52-730230c809ea.nc to /home/nicolasf/research/CPP/indices/data/ERA5/daily/ERA5_daily_geopotential_1000_2019-12-04.nc (192.2K)\n",
      "2020-06-14 14:38:34,374 INFO Download rate 103.9K/s\n"
     ]
    },
    {
     "name": "stdout",
     "output_type": "stream",
     "text": [
      "downloading /home/nicolasf/research/CPP/indices/data/ERA5/daily/ERA5_daily_geopotential_1000_2019-12-05.nc\n"
     ]
    },
    {
     "name": "stderr",
     "output_type": "stream",
     "text": [
      "2020-06-14 14:38:36,008 INFO Welcome to the CDS\n",
      "2020-06-14 14:38:36,009 INFO Sending request to https://cds.climate.copernicus.eu/api/v2/resources/reanalysis-era5-pressure-levels\n",
      "2020-06-14 14:38:37,438 INFO Request is queued\n",
      "2020-06-14 14:38:38,769 INFO Request is running\n",
      "2020-06-14 14:38:40,611 INFO Request is completed\n",
      "2020-06-14 14:38:40,612 INFO Downloading http://136.156.133.25/cache-compute-0008/cache/data0/adaptor.mars.internal-1592102317.4671514-6783-3-b0403561-7097-4860-b8ed-58b016c21883.nc to /home/nicolasf/research/CPP/indices/data/ERA5/daily/ERA5_daily_geopotential_1000_2019-12-05.nc (192.2K)\n",
      "2020-06-14 14:38:42,461 INFO Download rate 104K/s  \n"
     ]
    },
    {
     "name": "stdout",
     "output_type": "stream",
     "text": [
      "downloading /home/nicolasf/research/CPP/indices/data/ERA5/daily/ERA5_daily_geopotential_1000_2019-12-06.nc\n"
     ]
    },
    {
     "name": "stderr",
     "output_type": "stream",
     "text": [
      "2020-06-14 14:38:44,097 INFO Welcome to the CDS\n",
      "2020-06-14 14:38:44,098 INFO Sending request to https://cds.climate.copernicus.eu/api/v2/resources/reanalysis-era5-pressure-levels\n",
      "2020-06-14 14:38:46,553 INFO Request is queued\n",
      "2020-06-14 14:38:47,883 INFO Request is running\n",
      "2020-06-14 14:38:49,726 INFO Request is completed\n",
      "2020-06-14 14:38:49,728 INFO Downloading http://136.156.133.41/cache-compute-0013/cache/data1/adaptor.mars.internal-1592102326.4340513-18092-27-5322d28c-473d-44ae-bbad-9717073e5943.nc to /home/nicolasf/research/CPP/indices/data/ERA5/daily/ERA5_daily_geopotential_1000_2019-12-06.nc (192.2K)\n",
      "2020-06-14 14:38:51,575 INFO Download rate 104.2K/s\n"
     ]
    },
    {
     "name": "stdout",
     "output_type": "stream",
     "text": [
      "downloading /home/nicolasf/research/CPP/indices/data/ERA5/daily/ERA5_daily_geopotential_1000_2019-12-07.nc\n"
     ]
    },
    {
     "name": "stderr",
     "output_type": "stream",
     "text": [
      "2020-06-14 14:38:53,314 INFO Welcome to the CDS\n",
      "2020-06-14 14:38:53,315 INFO Sending request to https://cds.climate.copernicus.eu/api/v2/resources/reanalysis-era5-pressure-levels\n",
      "2020-06-14 14:38:54,949 INFO Request is queued\n",
      "2020-06-14 14:38:56,280 INFO Request is running\n",
      "2020-06-14 14:38:58,123 INFO Request is completed\n",
      "2020-06-14 14:38:58,125 INFO Downloading http://136.156.133.32/cache-compute-0009/cache/data1/adaptor.mars.internal-1592102335.2835903-14092-18-650e46b1-dd75-4ea6-acfd-e3df76a885d1.nc to /home/nicolasf/research/CPP/indices/data/ERA5/daily/ERA5_daily_geopotential_1000_2019-12-07.nc (192.2K)\n",
      "2020-06-14 14:38:59,667 INFO Download rate 124.9K/s\n"
     ]
    },
    {
     "name": "stdout",
     "output_type": "stream",
     "text": [
      "downloading /home/nicolasf/research/CPP/indices/data/ERA5/daily/ERA5_daily_geopotential_1000_2019-12-08.nc\n"
     ]
    },
    {
     "name": "stderr",
     "output_type": "stream",
     "text": [
      "2020-06-14 14:39:01,199 INFO Welcome to the CDS\n",
      "2020-06-14 14:39:01,201 INFO Sending request to https://cds.climate.copernicus.eu/api/v2/resources/reanalysis-era5-pressure-levels\n",
      "2020-06-14 14:39:02,478 INFO Request is queued\n",
      "2020-06-14 14:39:03,858 INFO Request is completed\n",
      "2020-06-14 14:39:03,860 INFO Downloading http://136.156.132.235/cache-compute-0006/cache/data9/adaptor.mars.internal-1592102342.598088-7829-36-a978d270-5401-4724-8114-f89084e0f407.nc to /home/nicolasf/research/CPP/indices/data/ERA5/daily/ERA5_daily_geopotential_1000_2019-12-08.nc (192.2K)\n",
      "2020-06-14 14:39:06,935 INFO Download rate 62.6K/s \n"
     ]
    },
    {
     "name": "stdout",
     "output_type": "stream",
     "text": [
      "downloading /home/nicolasf/research/CPP/indices/data/ERA5/daily/ERA5_daily_geopotential_1000_2019-12-09.nc\n"
     ]
    },
    {
     "name": "stderr",
     "output_type": "stream",
     "text": [
      "2020-06-14 14:39:08,571 INFO Welcome to the CDS\n",
      "2020-06-14 14:39:08,572 INFO Sending request to https://cds.climate.copernicus.eu/api/v2/resources/reanalysis-era5-pressure-levels\n",
      "2020-06-14 14:39:09,844 INFO Request is queued\n",
      "2020-06-14 14:39:11,231 INFO Request is completed\n",
      "2020-06-14 14:39:11,233 INFO Downloading http://136.156.132.105/cache-compute-0000/cache/data3/adaptor.mars.internal-1592102349.8398075-9023-27-3a353693-9a95-44d6-b341-61f50b33e2a3.nc to /home/nicolasf/research/CPP/indices/data/ERA5/daily/ERA5_daily_geopotential_1000_2019-12-09.nc (192.2K)\n",
      "2020-06-14 14:39:13,044 INFO Download rate 106.2K/s\n"
     ]
    },
    {
     "name": "stdout",
     "output_type": "stream",
     "text": [
      "downloading /home/nicolasf/research/CPP/indices/data/ERA5/daily/ERA5_daily_geopotential_1000_2019-12-10.nc\n"
     ]
    },
    {
     "name": "stderr",
     "output_type": "stream",
     "text": [
      "2020-06-14 14:39:14,613 INFO Welcome to the CDS\n",
      "2020-06-14 14:39:14,614 INFO Sending request to https://cds.climate.copernicus.eu/api/v2/resources/reanalysis-era5-pressure-levels\n",
      "2020-06-14 14:39:15,924 INFO Request is queued\n",
      "2020-06-14 14:39:17,271 INFO Request is completed\n",
      "2020-06-14 14:39:17,271 INFO Downloading http://136.156.133.25/cache-compute-0008/cache/data2/adaptor.mars.internal-1592102355.8469646-3885-22-c218a43b-e3ae-4262-af47-f0751426c474.nc to /home/nicolasf/research/CPP/indices/data/ERA5/daily/ERA5_daily_geopotential_1000_2019-12-10.nc (192.2K)\n",
      "2020-06-14 14:39:19,121 INFO Download rate 103.9K/s\n"
     ]
    },
    {
     "name": "stdout",
     "output_type": "stream",
     "text": [
      "downloading /home/nicolasf/research/CPP/indices/data/ERA5/daily/ERA5_daily_geopotential_1000_2019-12-11.nc\n"
     ]
    },
    {
     "name": "stderr",
     "output_type": "stream",
     "text": [
      "2020-06-14 14:39:20,655 INFO Welcome to the CDS\n",
      "2020-06-14 14:39:20,656 INFO Sending request to https://cds.climate.copernicus.eu/api/v2/resources/reanalysis-era5-pressure-levels\n",
      "2020-06-14 14:39:21,881 INFO Request is queued\n",
      "2020-06-14 14:39:23,211 INFO Request is completed\n",
      "2020-06-14 14:39:23,213 INFO Downloading http://136.156.132.210/cache-compute-0005/cache/data9/adaptor.mars.internal-1592102361.873809-8923-15-20b9c535-61bf-4517-a456-44647580b864.nc to /home/nicolasf/research/CPP/indices/data/ERA5/daily/ERA5_daily_geopotential_1000_2019-12-11.nc (192.2K)\n",
      "2020-06-14 14:39:25,060 INFO Download rate 104.2K/s\n"
     ]
    },
    {
     "name": "stdout",
     "output_type": "stream",
     "text": [
      "downloading /home/nicolasf/research/CPP/indices/data/ERA5/daily/ERA5_daily_geopotential_1000_2019-12-12.nc\n"
     ]
    },
    {
     "name": "stderr",
     "output_type": "stream",
     "text": [
      "2020-06-14 14:39:26,595 INFO Welcome to the CDS\n",
      "2020-06-14 14:39:26,595 INFO Sending request to https://cds.climate.copernicus.eu/api/v2/resources/reanalysis-era5-pressure-levels\n",
      "2020-06-14 14:39:27,819 INFO Request is queued\n",
      "2020-06-14 14:39:29,150 INFO Request is completed\n",
      "2020-06-14 14:39:29,152 INFO Downloading http://136.156.132.198/cache-compute-0003/cache/data3/adaptor.mars.internal-1592102367.7498004-28187-31-d599c10e-1a7d-4971-9308-1113024ced92.nc to /home/nicolasf/research/CPP/indices/data/ERA5/daily/ERA5_daily_geopotential_1000_2019-12-12.nc (192.2K)\n",
      "2020-06-14 14:39:30,998 INFO Download rate 104.3K/s\n"
     ]
    },
    {
     "name": "stdout",
     "output_type": "stream",
     "text": [
      "downloading /home/nicolasf/research/CPP/indices/data/ERA5/daily/ERA5_daily_geopotential_1000_2019-12-13.nc\n"
     ]
    },
    {
     "name": "stderr",
     "output_type": "stream",
     "text": [
      "2020-06-14 14:39:32,533 INFO Welcome to the CDS\n",
      "2020-06-14 14:39:32,534 INFO Sending request to https://cds.climate.copernicus.eu/api/v2/resources/reanalysis-era5-pressure-levels\n",
      "2020-06-14 14:39:34,065 INFO Request is queued\n",
      "2020-06-14 14:39:35,397 INFO Request is completed\n",
      "2020-06-14 14:39:35,399 INFO Downloading http://136.156.132.235/cache-compute-0006/cache/data9/adaptor.mars.internal-1592102373.902658-8042-35-9abbc9e1-edb2-4f52-9814-65228dfb1237.nc to /home/nicolasf/research/CPP/indices/data/ERA5/daily/ERA5_daily_geopotential_1000_2019-12-13.nc (192.2K)\n",
      "2020-06-14 14:39:38,780 INFO Download rate 56.9K/s \n"
     ]
    },
    {
     "name": "stdout",
     "output_type": "stream",
     "text": [
      "downloading /home/nicolasf/research/CPP/indices/data/ERA5/daily/ERA5_daily_geopotential_1000_2019-12-14.nc\n"
     ]
    },
    {
     "name": "stderr",
     "output_type": "stream",
     "text": [
      "2020-06-14 14:39:40,316 INFO Welcome to the CDS\n",
      "2020-06-14 14:39:40,316 INFO Sending request to https://cds.climate.copernicus.eu/api/v2/resources/reanalysis-era5-pressure-levels\n",
      "2020-06-14 14:39:41,547 INFO Request is queued\n",
      "2020-06-14 14:39:42,872 INFO Request is completed\n",
      "2020-06-14 14:39:42,874 INFO Downloading http://136.156.132.198/cache-compute-0003/cache/data3/adaptor.mars.internal-1592102381.544581-29181-18-17656f21-b6bb-4fdf-9eb3-a9b0ef3b6c8d.nc to /home/nicolasf/research/CPP/indices/data/ERA5/daily/ERA5_daily_geopotential_1000_2019-12-14.nc (192.2K)\n",
      "2020-06-14 14:39:44,720 INFO Download rate 104.2K/s\n"
     ]
    },
    {
     "name": "stdout",
     "output_type": "stream",
     "text": [
      "downloading /home/nicolasf/research/CPP/indices/data/ERA5/daily/ERA5_daily_geopotential_1000_2019-12-15.nc\n"
     ]
    },
    {
     "name": "stderr",
     "output_type": "stream",
     "text": [
      "2020-06-14 14:39:46,357 INFO Welcome to the CDS\n",
      "2020-06-14 14:39:46,357 INFO Sending request to https://cds.climate.copernicus.eu/api/v2/resources/reanalysis-era5-pressure-levels\n",
      "2020-06-14 14:39:47,630 INFO Request is queued\n",
      "2020-06-14 14:39:49,016 INFO Request is completed\n",
      "2020-06-14 14:39:49,019 INFO Downloading http://136.156.133.46/cache-compute-0015/cache/data0/adaptor.mars.internal-1592102387.8082817-19460-16-b813f6b5-1782-43ce-a0ce-14b0397f716f.nc to /home/nicolasf/research/CPP/indices/data/ERA5/daily/ERA5_daily_geopotential_1000_2019-12-15.nc (192.2K)\n",
      "2020-06-14 14:39:51,170 INFO Download rate 89.4K/s \n"
     ]
    },
    {
     "name": "stdout",
     "output_type": "stream",
     "text": [
      "downloading /home/nicolasf/research/CPP/indices/data/ERA5/daily/ERA5_daily_geopotential_1000_2019-12-16.nc\n"
     ]
    },
    {
     "name": "stderr",
     "output_type": "stream",
     "text": [
      "2020-06-14 14:39:52,706 INFO Welcome to the CDS\n",
      "2020-06-14 14:39:52,707 INFO Sending request to https://cds.climate.copernicus.eu/api/v2/resources/reanalysis-era5-pressure-levels\n",
      "2020-06-14 14:39:53,938 INFO Request is queued\n",
      "2020-06-14 14:39:55,263 INFO Request is running\n",
      "2020-06-14 14:39:57,106 INFO Request is completed\n",
      "2020-06-14 14:39:57,108 INFO Downloading http://136.156.133.41/cache-compute-0013/cache/data4/adaptor.mars.internal-1592102393.9529538-20307-18-dd9e52cd-e375-4abf-9b28-ec79eb31f567.nc to /home/nicolasf/research/CPP/indices/data/ERA5/daily/ERA5_daily_geopotential_1000_2019-12-16.nc (192.2K)\n",
      "2020-06-14 14:39:58,955 INFO Download rate 104.2K/s\n"
     ]
    },
    {
     "name": "stdout",
     "output_type": "stream",
     "text": [
      "downloading /home/nicolasf/research/CPP/indices/data/ERA5/daily/ERA5_daily_geopotential_1000_2019-12-17.nc\n"
     ]
    },
    {
     "name": "stderr",
     "output_type": "stream",
     "text": [
      "2020-06-14 14:40:00,489 INFO Welcome to the CDS\n",
      "2020-06-14 14:40:00,489 INFO Sending request to https://cds.climate.copernicus.eu/api/v2/resources/reanalysis-era5-pressure-levels\n",
      "2020-06-14 14:40:01,918 INFO Request is queued\n",
      "2020-06-14 14:40:03,250 INFO Request is completed\n",
      "2020-06-14 14:40:03,251 INFO Downloading http://136.156.132.105/cache-compute-0000/cache/data5/adaptor.mars.internal-1592102401.7828548-8606-25-f969f0d2-1428-407e-80e0-142046a2183b.nc to /home/nicolasf/research/CPP/indices/data/ERA5/daily/ERA5_daily_geopotential_1000_2019-12-17.nc (192.2K)\n",
      "2020-06-14 14:40:05,100 INFO Download rate 104.1K/s\n"
     ]
    },
    {
     "name": "stdout",
     "output_type": "stream",
     "text": [
      "downloading /home/nicolasf/research/CPP/indices/data/ERA5/daily/ERA5_daily_geopotential_1000_2019-12-18.nc\n"
     ]
    },
    {
     "name": "stderr",
     "output_type": "stream",
     "text": [
      "2020-06-14 14:40:06,735 INFO Welcome to the CDS\n",
      "2020-06-14 14:40:06,736 INFO Sending request to https://cds.climate.copernicus.eu/api/v2/resources/reanalysis-era5-pressure-levels\n",
      "2020-06-14 14:40:08,011 INFO Request is queued\n",
      "2020-06-14 14:40:09,394 INFO Request is completed\n",
      "2020-06-14 14:40:09,396 INFO Downloading http://136.156.133.32/cache-compute-0009/cache/data2/adaptor.mars.internal-1592102407.9660652-12168-31-9fdcd551-920a-4466-8b01-508c4b2cb3b0.nc to /home/nicolasf/research/CPP/indices/data/ERA5/daily/ERA5_daily_geopotential_1000_2019-12-18.nc (192.2K)\n",
      "2020-06-14 14:40:11,243 INFO Download rate 104.2K/s\n"
     ]
    },
    {
     "name": "stdout",
     "output_type": "stream",
     "text": [
      "downloading /home/nicolasf/research/CPP/indices/data/ERA5/daily/ERA5_daily_geopotential_1000_2019-12-19.nc\n"
     ]
    },
    {
     "name": "stderr",
     "output_type": "stream",
     "text": [
      "2020-06-14 14:40:12,982 INFO Welcome to the CDS\n",
      "2020-06-14 14:40:12,983 INFO Sending request to https://cds.climate.copernicus.eu/api/v2/resources/reanalysis-era5-pressure-levels\n",
      "2020-06-14 14:40:14,284 INFO Request is queued\n",
      "2020-06-14 14:40:15,641 INFO Request is completed\n",
      "2020-06-14 14:40:15,644 INFO Downloading http://136.156.132.110/cache-compute-0001/cache/data9/adaptor.mars.internal-1592102414.3564057-25291-1-dabf8a0b-6421-43af-8e57-b4e5d090cb20.nc to /home/nicolasf/research/CPP/indices/data/ERA5/daily/ERA5_daily_geopotential_1000_2019-12-19.nc (192.2K)\n",
      "2020-06-14 14:40:17,492 INFO Download rate 104.1K/s\n"
     ]
    },
    {
     "name": "stdout",
     "output_type": "stream",
     "text": [
      "downloading /home/nicolasf/research/CPP/indices/data/ERA5/daily/ERA5_daily_geopotential_1000_2019-12-20.nc\n"
     ]
    },
    {
     "name": "stderr",
     "output_type": "stream",
     "text": [
      "2020-06-14 14:40:19,125 INFO Welcome to the CDS\n",
      "2020-06-14 14:40:19,126 INFO Sending request to https://cds.climate.copernicus.eu/api/v2/resources/reanalysis-era5-pressure-levels\n",
      "2020-06-14 14:40:20,435 INFO Request is queued\n",
      "2020-06-14 14:40:21,785 INFO Request is completed\n",
      "2020-06-14 14:40:21,787 INFO Downloading http://136.156.133.36/cache-compute-0010/cache/data0/adaptor.mars.internal-1592102420.3363512-25142-16-b9573932-4e41-42a2-9b81-131803ac3ed0.nc to /home/nicolasf/research/CPP/indices/data/ERA5/daily/ERA5_daily_geopotential_1000_2019-12-20.nc (192.2K)\n",
      "2020-06-14 14:40:23,634 INFO Download rate 104.1K/s\n"
     ]
    },
    {
     "name": "stdout",
     "output_type": "stream",
     "text": [
      "downloading /home/nicolasf/research/CPP/indices/data/ERA5/daily/ERA5_daily_geopotential_1000_2019-12-21.nc\n"
     ]
    },
    {
     "name": "stderr",
     "output_type": "stream",
     "text": [
      "2020-06-14 14:40:25,167 INFO Welcome to the CDS\n",
      "2020-06-14 14:40:25,168 INFO Sending request to https://cds.climate.copernicus.eu/api/v2/resources/reanalysis-era5-pressure-levels\n",
      "2020-06-14 14:40:26,466 INFO Request is queued\n",
      "2020-06-14 14:40:27,826 INFO Request is completed\n",
      "2020-06-14 14:40:27,828 INFO Downloading http://136.156.132.235/cache-compute-0006/cache/data4/adaptor.mars.internal-1592102426.413565-10689-22-a4c996e3-9cfc-402e-b896-6ec704746bd1.nc to /home/nicolasf/research/CPP/indices/data/ERA5/daily/ERA5_daily_geopotential_1000_2019-12-21.nc (192.2K)\n",
      "2020-06-14 14:40:31,205 INFO Download rate 57K/s   \n"
     ]
    },
    {
     "name": "stdout",
     "output_type": "stream",
     "text": [
      "downloading /home/nicolasf/research/CPP/indices/data/ERA5/daily/ERA5_daily_geopotential_1000_2019-12-22.nc\n"
     ]
    },
    {
     "name": "stderr",
     "output_type": "stream",
     "text": [
      "2020-06-14 14:40:32,950 INFO Welcome to the CDS\n",
      "2020-06-14 14:40:32,951 INFO Sending request to https://cds.climate.copernicus.eu/api/v2/resources/reanalysis-era5-pressure-levels\n",
      "2020-06-14 14:40:34,245 INFO Request is queued\n",
      "2020-06-14 14:40:35,608 INFO Request is completed\n",
      "2020-06-14 14:40:35,611 INFO Downloading http://136.156.132.201/cache-compute-0004/cache/data1/adaptor.mars.internal-1592102434.242364-23323-25-9a1724c1-87d3-4563-ad29-29cb92f560f3.nc to /home/nicolasf/research/CPP/indices/data/ERA5/daily/ERA5_daily_geopotential_1000_2019-12-22.nc (192.2K)\n",
      "2020-06-14 14:40:37,430 INFO Download rate 105.7K/s\n"
     ]
    },
    {
     "name": "stdout",
     "output_type": "stream",
     "text": [
      "downloading /home/nicolasf/research/CPP/indices/data/ERA5/daily/ERA5_daily_geopotential_1000_2019-12-23.nc\n"
     ]
    },
    {
     "name": "stderr",
     "output_type": "stream",
     "text": [
      "2020-06-14 14:40:39,094 INFO Welcome to the CDS\n",
      "2020-06-14 14:40:39,094 INFO Sending request to https://cds.climate.copernicus.eu/api/v2/resources/reanalysis-era5-pressure-levels\n",
      "2020-06-14 14:40:40,386 INFO Request is queued\n",
      "2020-06-14 14:40:41,753 INFO Request is running\n",
      "2020-06-14 14:40:43,601 INFO Request is completed\n",
      "2020-06-14 14:40:43,603 INFO Downloading http://136.156.133.39/cache-compute-0012/cache/data5/adaptor.mars.internal-1592102440.4923012-12675-21-80000723-939b-43ac-adbe-24e27346fd77.nc to /home/nicolasf/research/CPP/indices/data/ERA5/daily/ERA5_daily_geopotential_1000_2019-12-23.nc (192.2K)\n",
      "2020-06-14 14:40:45,443 INFO Download rate 104.5K/s\n"
     ]
    },
    {
     "name": "stdout",
     "output_type": "stream",
     "text": [
      "downloading /home/nicolasf/research/CPP/indices/data/ERA5/daily/ERA5_daily_geopotential_1000_2019-12-24.nc\n"
     ]
    },
    {
     "name": "stderr",
     "output_type": "stream",
     "text": [
      "2020-06-14 14:40:46,980 INFO Welcome to the CDS\n",
      "2020-06-14 14:40:46,980 INFO Sending request to https://cds.climate.copernicus.eu/api/v2/resources/reanalysis-era5-pressure-levels\n",
      "2020-06-14 14:40:48,275 INFO Request is queued\n",
      "2020-06-14 14:40:49,637 INFO Request is completed\n",
      "2020-06-14 14:40:49,639 INFO Downloading http://136.156.133.41/cache-compute-0013/cache/data9/adaptor.mars.internal-1592102448.39834-20681-18-c87f9854-c78b-46df-9a07-5bc93cd2be67.nc to /home/nicolasf/research/CPP/indices/data/ERA5/daily/ERA5_daily_geopotential_1000_2019-12-24.nc (192.2K)\n",
      "2020-06-14 14:40:51,482 INFO Download rate 104.5K/s\n"
     ]
    },
    {
     "name": "stdout",
     "output_type": "stream",
     "text": [
      "downloading /home/nicolasf/research/CPP/indices/data/ERA5/daily/ERA5_daily_geopotential_1000_2019-12-25.nc\n"
     ]
    },
    {
     "name": "stderr",
     "output_type": "stream",
     "text": [
      "2020-06-14 14:40:53,328 INFO Welcome to the CDS\n",
      "2020-06-14 14:40:53,329 INFO Sending request to https://cds.climate.copernicus.eu/api/v2/resources/reanalysis-era5-pressure-levels\n",
      "2020-06-14 14:40:54,581 INFO Request is queued\n",
      "2020-06-14 14:40:55,872 INFO Request is completed\n",
      "2020-06-14 14:40:55,874 INFO Downloading http://136.156.133.37/cache-compute-0011/cache/data7/adaptor.mars.internal-1592102454.6821356-22903-7-aa819486-be3b-4b62-9b05-943590bf725b.nc to /home/nicolasf/research/CPP/indices/data/ERA5/daily/ERA5_daily_geopotential_1000_2019-12-25.nc (192.2K)\n",
      "2020-06-14 14:40:57,734 INFO Download rate 103.4K/s\n"
     ]
    },
    {
     "name": "stdout",
     "output_type": "stream",
     "text": [
      "downloading /home/nicolasf/research/CPP/indices/data/ERA5/daily/ERA5_daily_geopotential_1000_2019-12-26.nc\n"
     ]
    },
    {
     "name": "stderr",
     "output_type": "stream",
     "text": [
      "2020-06-14 14:40:59,472 INFO Welcome to the CDS\n",
      "2020-06-14 14:40:59,472 INFO Sending request to https://cds.climate.copernicus.eu/api/v2/resources/reanalysis-era5-pressure-levels\n",
      "2020-06-14 14:41:00,757 INFO Request is queued\n",
      "2020-06-14 14:41:02,131 INFO Request is completed\n",
      "2020-06-14 14:41:02,133 INFO Downloading http://136.156.133.41/cache-compute-0013/cache/data1/adaptor.mars.internal-1592102460.701156-19041-25-8723a5e7-8ce6-4892-8eb8-98426e4f032f.nc to /home/nicolasf/research/CPP/indices/data/ERA5/daily/ERA5_daily_geopotential_1000_2019-12-26.nc (192.2K)\n",
      "2020-06-14 14:41:03,982 INFO Download rate 104.1K/s\n"
     ]
    },
    {
     "name": "stdout",
     "output_type": "stream",
     "text": [
      "downloading /home/nicolasf/research/CPP/indices/data/ERA5/daily/ERA5_daily_geopotential_1000_2019-12-27.nc\n"
     ]
    },
    {
     "name": "stderr",
     "output_type": "stream",
     "text": [
      "2020-06-14 14:41:05,718 INFO Welcome to the CDS\n",
      "2020-06-14 14:41:05,718 INFO Sending request to https://cds.climate.copernicus.eu/api/v2/resources/reanalysis-era5-pressure-levels\n",
      "2020-06-14 14:41:06,953 INFO Request is queued\n",
      "2020-06-14 14:41:08,274 INFO Request is completed\n",
      "2020-06-14 14:41:08,276 INFO Downloading http://136.156.133.25/cache-compute-0008/cache/data5/adaptor.mars.internal-1592102466.9537919-8103-1-42663ad9-d112-4e9d-b311-4bb858fe6830.nc to /home/nicolasf/research/CPP/indices/data/ERA5/daily/ERA5_daily_geopotential_1000_2019-12-27.nc (192.2K)\n",
      "2020-06-14 14:41:10,122 INFO Download rate 104.2K/s\n"
     ]
    },
    {
     "name": "stdout",
     "output_type": "stream",
     "text": [
      "downloading /home/nicolasf/research/CPP/indices/data/ERA5/daily/ERA5_daily_geopotential_1000_2019-12-28.nc\n"
     ]
    },
    {
     "name": "stderr",
     "output_type": "stream",
     "text": [
      "2020-06-14 14:41:11,657 INFO Welcome to the CDS\n",
      "2020-06-14 14:41:11,659 INFO Sending request to https://cds.climate.copernicus.eu/api/v2/resources/reanalysis-era5-pressure-levels\n",
      "2020-06-14 14:41:12,931 INFO Request is queued\n",
      "2020-06-14 14:41:14,316 INFO Request is completed\n",
      "2020-06-14 14:41:14,318 INFO Downloading http://136.156.132.201/cache-compute-0004/cache/data0/adaptor.mars.internal-1592102472.946403-22358-29-4d88632c-884f-444e-a515-791d3a3ec12d.nc to /home/nicolasf/research/CPP/indices/data/ERA5/daily/ERA5_daily_geopotential_1000_2019-12-28.nc (192.2K)\n",
      "2020-06-14 14:41:16,165 INFO Download rate 104.2K/s\n"
     ]
    },
    {
     "name": "stdout",
     "output_type": "stream",
     "text": [
      "downloading /home/nicolasf/research/CPP/indices/data/ERA5/daily/ERA5_daily_geopotential_1000_2019-12-29.nc\n"
     ]
    },
    {
     "name": "stderr",
     "output_type": "stream",
     "text": [
      "2020-06-14 14:41:17,699 INFO Welcome to the CDS\n",
      "2020-06-14 14:41:17,699 INFO Sending request to https://cds.climate.copernicus.eu/api/v2/resources/reanalysis-era5-pressure-levels\n",
      "2020-06-14 14:41:18,937 INFO Request is queued\n",
      "2020-06-14 14:41:20,255 INFO Request is completed\n",
      "2020-06-14 14:41:20,257 INFO Downloading http://136.156.132.201/cache-compute-0004/cache/data7/adaptor.mars.internal-1592102479.016115-24465-16-cce537b5-659f-41b2-85a3-6c8339dae436.nc to /home/nicolasf/research/CPP/indices/data/ERA5/daily/ERA5_daily_geopotential_1000_2019-12-29.nc (192.2K)\n",
      "2020-06-14 14:41:22,103 INFO Download rate 104.2K/s\n"
     ]
    },
    {
     "name": "stdout",
     "output_type": "stream",
     "text": [
      "downloading /home/nicolasf/research/CPP/indices/data/ERA5/daily/ERA5_daily_geopotential_1000_2019-12-30.nc\n"
     ]
    },
    {
     "name": "stderr",
     "output_type": "stream",
     "text": [
      "2020-06-14 14:41:23,638 INFO Welcome to the CDS\n",
      "2020-06-14 14:41:23,639 INFO Sending request to https://cds.climate.copernicus.eu/api/v2/resources/reanalysis-era5-pressure-levels\n",
      "2020-06-14 14:41:24,866 INFO Request is queued\n",
      "2020-06-14 14:41:26,152 INFO Request is running\n",
      "2020-06-14 14:41:28,038 INFO Request is completed\n",
      "2020-06-14 14:41:28,040 INFO Downloading http://136.156.132.235/cache-compute-0006/cache/data0/adaptor.mars.internal-1592102485.2037964-781-24-f97d9aab-dd12-4301-922c-28ca7ca4ce39.nc to /home/nicolasf/research/CPP/indices/data/ERA5/daily/ERA5_daily_geopotential_1000_2019-12-30.nc (192.2K)\n",
      "2020-06-14 14:41:31,420 INFO Download rate 56.9K/s \n"
     ]
    },
    {
     "name": "stdout",
     "output_type": "stream",
     "text": [
      "downloading /home/nicolasf/research/CPP/indices/data/ERA5/daily/ERA5_daily_geopotential_1000_2019-12-31.nc\n"
     ]
    },
    {
     "name": "stderr",
     "output_type": "stream",
     "text": [
      "2020-06-14 14:41:33,059 INFO Welcome to the CDS\n",
      "2020-06-14 14:41:33,060 INFO Sending request to https://cds.climate.copernicus.eu/api/v2/resources/reanalysis-era5-pressure-levels\n",
      "2020-06-14 14:41:34,366 INFO Request is queued\n",
      "2020-06-14 14:41:35,718 INFO Request is completed\n",
      "2020-06-14 14:41:35,720 INFO Downloading http://136.156.132.105/cache-compute-0000/cache/data7/adaptor.mars.internal-1592102494.279105-8530-33-14cd944b-bcd3-4508-90e9-518b9adc2f36.nc to /home/nicolasf/research/CPP/indices/data/ERA5/daily/ERA5_daily_geopotential_1000_2019-12-31.nc (192.2K)\n",
      "2020-06-14 14:41:37,566 INFO Download rate 104.2K/s\n"
     ]
    },
    {
     "name": "stdout",
     "output_type": "stream",
     "text": [
      "downloading /home/nicolasf/research/CPP/indices/data/ERA5/daily/ERA5_daily_geopotential_1000_2020-01-01.nc\n"
     ]
    },
    {
     "name": "stderr",
     "output_type": "stream",
     "text": [
      "2020-06-14 14:41:39,305 INFO Welcome to the CDS\n",
      "2020-06-14 14:41:39,306 INFO Sending request to https://cds.climate.copernicus.eu/api/v2/resources/reanalysis-era5-pressure-levels\n",
      "2020-06-14 14:41:40,530 INFO Request is queued\n",
      "2020-06-14 14:41:41,862 INFO Request is completed\n",
      "2020-06-14 14:41:41,864 INFO Downloading http://136.156.132.210/cache-compute-0005/cache/data6/adaptor.mars.internal-1592102500.4459336-9076-21-7dc55938-0d2b-4306-ab30-e272c0f66384.nc to /home/nicolasf/research/CPP/indices/data/ERA5/daily/ERA5_daily_geopotential_1000_2020-01-01.nc (192.2K)\n",
      "2020-06-14 14:41:43,713 INFO Download rate 104.1K/s\n"
     ]
    },
    {
     "name": "stdout",
     "output_type": "stream",
     "text": [
      "downloading /home/nicolasf/research/CPP/indices/data/ERA5/daily/ERA5_daily_geopotential_1000_2020-01-02.nc\n"
     ]
    },
    {
     "name": "stderr",
     "output_type": "stream",
     "text": [
      "2020-06-14 14:41:45,552 INFO Welcome to the CDS\n",
      "2020-06-14 14:41:45,553 INFO Sending request to https://cds.climate.copernicus.eu/api/v2/resources/reanalysis-era5-pressure-levels\n",
      "2020-06-14 14:41:50,260 INFO Request is queued\n",
      "2020-06-14 14:41:51,590 INFO Request is running\n",
      "2020-06-14 14:41:53,433 INFO Request is completed\n",
      "2020-06-14 14:41:53,435 INFO Downloading http://136.156.133.25/cache-compute-0008/cache/data1/adaptor.mars.internal-1592102510.5385754-5423-20-1138a94f-1de5-468d-b591-a4a5c9c4c016.nc to /home/nicolasf/research/CPP/indices/data/ERA5/daily/ERA5_daily_geopotential_1000_2020-01-02.nc (192.2K)\n",
      "2020-06-14 14:41:55,281 INFO Download rate 104.2K/s\n"
     ]
    },
    {
     "name": "stdout",
     "output_type": "stream",
     "text": [
      "downloading /home/nicolasf/research/CPP/indices/data/ERA5/daily/ERA5_daily_geopotential_1000_2020-01-03.nc\n"
     ]
    },
    {
     "name": "stderr",
     "output_type": "stream",
     "text": [
      "2020-06-14 14:41:56,885 INFO Welcome to the CDS\n",
      "2020-06-14 14:41:56,886 INFO Sending request to https://cds.climate.copernicus.eu/api/v2/resources/reanalysis-era5-pressure-levels\n",
      "2020-06-14 14:41:58,143 INFO Request is queued\n",
      "2020-06-14 14:41:59,475 INFO Request is completed\n",
      "2020-06-14 14:41:59,477 INFO Downloading http://136.156.132.105/cache-compute-0000/cache/data7/adaptor.mars.internal-1592102518.0574403-9089-33-b8283ac7-8f9e-4f15-9f31-728ca2c25f42.nc to /home/nicolasf/research/CPP/indices/data/ERA5/daily/ERA5_daily_geopotential_1000_2020-01-03.nc (192.2K)\n",
      "2020-06-14 14:42:01,427 INFO Download rate 98.7K/s \n"
     ]
    },
    {
     "name": "stdout",
     "output_type": "stream",
     "text": [
      "downloading /home/nicolasf/research/CPP/indices/data/ERA5/daily/ERA5_daily_geopotential_1000_2020-01-04.nc\n"
     ]
    },
    {
     "name": "stderr",
     "output_type": "stream",
     "text": [
      "2020-06-14 14:42:03,062 INFO Welcome to the CDS\n",
      "2020-06-14 14:42:03,063 INFO Sending request to https://cds.climate.copernicus.eu/api/v2/resources/reanalysis-era5-pressure-levels\n",
      "2020-06-14 14:42:05,005 INFO Request is queued\n",
      "2020-06-14 14:42:06,335 INFO Request is running\n",
      "2020-06-14 14:42:08,179 INFO Request is completed\n",
      "2020-06-14 14:42:08,181 INFO Downloading http://136.156.133.25/cache-compute-0008/cache/data0/adaptor.mars.internal-1592102525.39105-8103-3-3bf2eb06-b6ae-47e5-a2be-488eafb717ab.nc to /home/nicolasf/research/CPP/indices/data/ERA5/daily/ERA5_daily_geopotential_1000_2020-01-04.nc (192.2K)\n",
      "2020-06-14 14:42:10,027 INFO Download rate 104.2K/s\n"
     ]
    },
    {
     "name": "stdout",
     "output_type": "stream",
     "text": [
      "downloading /home/nicolasf/research/CPP/indices/data/ERA5/daily/ERA5_daily_geopotential_1000_2020-01-05.nc\n"
     ]
    },
    {
     "name": "stderr",
     "output_type": "stream",
     "text": [
      "2020-06-14 14:42:12,790 INFO Welcome to the CDS\n",
      "2020-06-14 14:42:12,791 INFO Sending request to https://cds.climate.copernicus.eu/api/v2/resources/reanalysis-era5-pressure-levels\n",
      "2020-06-14 14:42:14,425 INFO Request is queued\n",
      "2020-06-14 14:42:17,600 INFO Request is running\n",
      "2020-06-14 14:42:20,160 INFO Request is completed\n",
      "2020-06-14 14:42:20,161 INFO Downloading http://136.156.132.201/cache-compute-0004/cache/data7/adaptor.mars.internal-1592102536.0689647-27075-5-427cda91-451f-4ab3-9893-5bce32877139.nc to /home/nicolasf/research/CPP/indices/data/ERA5/daily/ERA5_daily_geopotential_1000_2020-01-05.nc (192.2K)\n",
      "2020-06-14 14:42:22,008 INFO Download rate 104.2K/s\n"
     ]
    },
    {
     "name": "stdout",
     "output_type": "stream",
     "text": [
      "downloading /home/nicolasf/research/CPP/indices/data/ERA5/daily/ERA5_daily_geopotential_1000_2020-01-06.nc\n"
     ]
    },
    {
     "name": "stderr",
     "output_type": "stream",
     "text": [
      "2020-06-14 14:42:23,747 INFO Welcome to the CDS\n",
      "2020-06-14 14:42:23,748 INFO Sending request to https://cds.climate.copernicus.eu/api/v2/resources/reanalysis-era5-pressure-levels\n",
      "2020-06-14 14:42:25,898 INFO Request is queued\n",
      "2020-06-14 14:42:27,225 INFO Request is running\n",
      "2020-06-14 14:42:29,068 INFO Request is completed\n",
      "2020-06-14 14:42:29,070 INFO Downloading http://136.156.132.236/cache-compute-0007/cache/data9/adaptor.mars.internal-1592102546.3350408-23029-3-a7ff352d-9227-49c5-afa7-a8fc83bb3cff.nc to /home/nicolasf/research/CPP/indices/data/ERA5/daily/ERA5_daily_geopotential_1000_2020-01-06.nc (192.2K)\n",
      "2020-06-14 14:42:30,918 INFO Download rate 104.1K/s\n"
     ]
    },
    {
     "name": "stdout",
     "output_type": "stream",
     "text": [
      "downloading /home/nicolasf/research/CPP/indices/data/ERA5/daily/ERA5_daily_geopotential_1000_2020-01-07.nc\n"
     ]
    },
    {
     "name": "stderr",
     "output_type": "stream",
     "text": [
      "2020-06-14 14:42:34,193 INFO Welcome to the CDS\n",
      "2020-06-14 14:42:34,193 INFO Sending request to https://cds.climate.copernicus.eu/api/v2/resources/reanalysis-era5-pressure-levels\n",
      "2020-06-14 14:42:36,339 INFO Request is queued\n",
      "2020-06-14 14:42:37,669 INFO Request is running\n",
      "2020-06-14 14:42:39,513 INFO Request is completed\n",
      "2020-06-14 14:42:39,515 INFO Downloading http://136.156.132.210/cache-compute-0005/cache/data6/adaptor.mars.internal-1592102556.8883784-7716-31-c1469f11-b776-4804-8e0b-0abbd654403c.nc to /home/nicolasf/research/CPP/indices/data/ERA5/daily/ERA5_daily_geopotential_1000_2020-01-07.nc (192.2K)\n",
      "2020-06-14 14:42:41,363 INFO Download rate 104.2K/s\n"
     ]
    },
    {
     "name": "stdout",
     "output_type": "stream",
     "text": [
      "downloading /home/nicolasf/research/CPP/indices/data/ERA5/daily/ERA5_daily_geopotential_1000_2020-01-08.nc\n"
     ]
    },
    {
     "name": "stderr",
     "output_type": "stream",
     "text": [
      "2020-06-14 14:42:42,998 INFO Welcome to the CDS\n",
      "2020-06-14 14:42:42,999 INFO Sending request to https://cds.climate.copernicus.eu/api/v2/resources/reanalysis-era5-pressure-levels\n",
      "2020-06-14 14:42:44,262 INFO Request is queued\n",
      "2020-06-14 14:42:45,658 INFO Request is completed\n",
      "2020-06-14 14:42:45,660 INFO Downloading http://136.156.133.37/cache-compute-0011/cache/data7/adaptor.mars.internal-1592102564.3739467-23634-7-9847fcbf-324a-49ea-8f5c-dae21dcbee38.nc to /home/nicolasf/research/CPP/indices/data/ERA5/daily/ERA5_daily_geopotential_1000_2020-01-08.nc (192.2K)\n",
      "2020-06-14 14:42:47,811 INFO Download rate 89.4K/s \n"
     ]
    },
    {
     "name": "stdout",
     "output_type": "stream",
     "text": [
      "downloading /home/nicolasf/research/CPP/indices/data/ERA5/daily/ERA5_daily_geopotential_1000_2020-01-09.nc\n"
     ]
    },
    {
     "name": "stderr",
     "output_type": "stream",
     "text": [
      "2020-06-14 14:42:49,655 INFO Welcome to the CDS\n",
      "2020-06-14 14:42:49,655 INFO Sending request to https://cds.climate.copernicus.eu/api/v2/resources/reanalysis-era5-pressure-levels\n",
      "2020-06-14 14:42:50,923 INFO Request is queued\n",
      "2020-06-14 14:42:52,314 INFO Request is running\n",
      "2020-06-14 14:42:54,157 INFO Request is completed\n",
      "2020-06-14 14:42:54,158 INFO Downloading http://136.156.132.105/cache-compute-0000/cache/data0/adaptor.mars.internal-1592102571.0073612-8606-32-927b8645-bf1e-4da3-a226-4161df5bad03.nc to /home/nicolasf/research/CPP/indices/data/ERA5/daily/ERA5_daily_geopotential_1000_2020-01-09.nc (192.2K)\n",
      "2020-06-14 14:42:55,976 INFO Download rate 105.9K/s\n"
     ]
    },
    {
     "name": "stdout",
     "output_type": "stream",
     "text": [
      "downloading /home/nicolasf/research/CPP/indices/data/ERA5/daily/ERA5_daily_geopotential_1000_2020-01-10.nc\n"
     ]
    },
    {
     "name": "stderr",
     "output_type": "stream",
     "text": [
      "2020-06-14 14:42:59,895 INFO Welcome to the CDS\n",
      "2020-06-14 14:42:59,896 INFO Sending request to https://cds.climate.copernicus.eu/api/v2/resources/reanalysis-era5-pressure-levels\n",
      "2020-06-14 14:43:02,143 INFO Request is queued\n",
      "2020-06-14 14:43:03,475 INFO Request is running\n",
      "2020-06-14 14:43:05,318 INFO Request is completed\n",
      "2020-06-14 14:43:05,321 INFO Downloading http://136.156.133.32/cache-compute-0009/cache/data0/adaptor.mars.internal-1592102582.6724007-14322-27-9707f77b-337b-45c6-9b77-f9fd7530b017.nc to /home/nicolasf/research/CPP/indices/data/ERA5/daily/ERA5_daily_geopotential_1000_2020-01-10.nc (192.2K)\n",
      "2020-06-14 14:43:07,168 INFO Download rate 104.1K/s\n"
     ]
    },
    {
     "name": "stdout",
     "output_type": "stream",
     "text": [
      "downloading /home/nicolasf/research/CPP/indices/data/ERA5/daily/ERA5_daily_geopotential_1000_2020-01-11.nc\n"
     ]
    },
    {
     "name": "stderr",
     "output_type": "stream",
     "text": [
      "2020-06-14 14:43:09,722 INFO Welcome to the CDS\n",
      "2020-06-14 14:43:09,723 INFO Sending request to https://cds.climate.copernicus.eu/api/v2/resources/reanalysis-era5-pressure-levels\n",
      "2020-06-14 14:43:11,155 INFO Request is queued\n",
      "2020-06-14 14:43:12,487 INFO Request is completed\n",
      "2020-06-14 14:43:12,488 INFO Downloading http://136.156.132.210/cache-compute-0005/cache/data4/adaptor.mars.internal-1592102591.3152714-8923-24-2e0d8bf5-c682-4380-b48d-f328e7480a22.nc to /home/nicolasf/research/CPP/indices/data/ERA5/daily/ERA5_daily_geopotential_1000_2020-01-11.nc (192.2K)\n",
      "2020-06-14 14:43:14,337 INFO Download rate 104.1K/s\n"
     ]
    },
    {
     "name": "stdout",
     "output_type": "stream",
     "text": [
      "downloading /home/nicolasf/research/CPP/indices/data/ERA5/daily/ERA5_daily_geopotential_1000_2020-01-12.nc\n"
     ]
    },
    {
     "name": "stderr",
     "output_type": "stream",
     "text": [
      "2020-06-14 14:43:15,972 INFO Welcome to the CDS\n",
      "2020-06-14 14:43:15,973 INFO Sending request to https://cds.climate.copernicus.eu/api/v2/resources/reanalysis-era5-pressure-levels\n",
      "2020-06-14 14:43:19,040 INFO Request is queued\n",
      "2020-06-14 14:43:20,327 INFO Request is running\n",
      "2020-06-14 14:43:22,215 INFO Request is completed\n",
      "2020-06-14 14:43:22,217 INFO Downloading http://136.156.132.110/cache-compute-0001/cache/data5/adaptor.mars.internal-1592102599.92935-19502-35-bd403a04-cc01-47b3-8d1b-500fc1de2df4.nc to /home/nicolasf/research/CPP/indices/data/ERA5/daily/ERA5_daily_geopotential_1000_2020-01-12.nc (192.2K)\n",
      "2020-06-14 14:43:24,065 INFO Download rate 104.1K/s\n"
     ]
    },
    {
     "name": "stdout",
     "output_type": "stream",
     "text": [
      "downloading /home/nicolasf/research/CPP/indices/data/ERA5/daily/ERA5_daily_geopotential_1000_2020-01-13.nc\n"
     ]
    },
    {
     "name": "stderr",
     "output_type": "stream",
     "text": [
      "2020-06-14 14:43:27,031 INFO Welcome to the CDS\n",
      "2020-06-14 14:43:27,032 INFO Sending request to https://cds.climate.copernicus.eu/api/v2/resources/reanalysis-era5-pressure-levels\n",
      "2020-06-14 14:43:29,178 INFO Request is queued\n",
      "2020-06-14 14:43:30,510 INFO Request is running\n",
      "2020-06-14 14:43:32,353 INFO Request is completed\n",
      "2020-06-14 14:43:32,354 INFO Downloading http://136.156.132.235/cache-compute-0006/cache/data3/adaptor.mars.internal-1592102609.2315478-10598-29-021c7aeb-498a-4366-8195-8fb4dbc94e7e.nc to /home/nicolasf/research/CPP/indices/data/ERA5/daily/ERA5_daily_geopotential_1000_2020-01-13.nc (192.2K)\n",
      "2020-06-14 14:43:35,838 INFO Download rate 55.2K/s \n"
     ]
    },
    {
     "name": "stdout",
     "output_type": "stream",
     "text": [
      "downloading /home/nicolasf/research/CPP/indices/data/ERA5/daily/ERA5_daily_geopotential_1000_2020-01-14.nc\n"
     ]
    },
    {
     "name": "stderr",
     "output_type": "stream",
     "text": [
      "2020-06-14 14:43:38,090 INFO Welcome to the CDS\n",
      "2020-06-14 14:43:38,091 INFO Sending request to https://cds.climate.copernicus.eu/api/v2/resources/reanalysis-era5-pressure-levels\n",
      "2020-06-14 14:43:39,930 INFO Request is queued\n",
      "2020-06-14 14:43:43,104 INFO Request is running\n",
      "2020-06-14 14:43:45,665 INFO Request is completed\n",
      "2020-06-14 14:43:45,667 INFO Downloading http://136.156.132.201/cache-compute-0004/cache/data5/adaptor.mars.internal-1592102622.2823522-23133-31-fa66fa9e-9b39-4987-951f-6fc95bd51b3e.nc to /home/nicolasf/research/CPP/indices/data/ERA5/daily/ERA5_daily_geopotential_1000_2020-01-14.nc (192.2K)\n",
      "2020-06-14 14:43:47,515 INFO Download rate 104.1K/s\n"
     ]
    },
    {
     "name": "stdout",
     "output_type": "stream",
     "text": [
      "downloading /home/nicolasf/research/CPP/indices/data/ERA5/daily/ERA5_daily_geopotential_1000_2020-01-15.nc\n"
     ]
    },
    {
     "name": "stderr",
     "output_type": "stream",
     "text": [
      "2020-06-14 14:43:49,355 INFO Welcome to the CDS\n",
      "2020-06-14 14:43:49,356 INFO Sending request to https://cds.climate.copernicus.eu/api/v2/resources/reanalysis-era5-pressure-levels\n",
      "2020-06-14 14:43:51,911 INFO Request is queued\n",
      "2020-06-14 14:43:55,085 INFO Request is running\n",
      "2020-06-14 14:43:57,646 INFO Request is completed\n",
      "2020-06-14 14:43:57,648 INFO Downloading http://136.156.133.25/cache-compute-0008/cache/data3/adaptor.mars.internal-1592102634.2305737-7854-7-31032528-ed76-4c8f-b5b3-8a98dce6ef35.nc to /home/nicolasf/research/CPP/indices/data/ERA5/daily/ERA5_daily_geopotential_1000_2020-01-15.nc (192.2K)\n",
      "2020-06-14 14:43:59,495 INFO Download rate 104.2K/s\n"
     ]
    },
    {
     "name": "stdout",
     "output_type": "stream",
     "text": [
      "downloading /home/nicolasf/research/CPP/indices/data/ERA5/daily/ERA5_daily_geopotential_1000_2020-01-16.nc\n"
     ]
    },
    {
     "name": "stderr",
     "output_type": "stream",
     "text": [
      "2020-06-14 14:44:03,076 INFO Welcome to the CDS\n",
      "2020-06-14 14:44:03,076 INFO Sending request to https://cds.climate.copernicus.eu/api/v2/resources/reanalysis-era5-pressure-levels\n",
      "2020-06-14 14:44:04,609 INFO Request is queued\n",
      "2020-06-14 14:44:07,783 INFO Request is running\n",
      "2020-06-14 14:44:10,343 INFO Request is completed\n",
      "2020-06-14 14:44:10,345 INFO Downloading http://136.156.132.236/cache-compute-0007/cache/data0/adaptor.mars.internal-1592102646.548203-21780-27-619d450c-0114-498d-8a74-aaa35786c6a8.nc to /home/nicolasf/research/CPP/indices/data/ERA5/daily/ERA5_daily_geopotential_1000_2020-01-16.nc (192.2K)\n",
      "2020-06-14 14:44:12,187 INFO Download rate 104.5K/s\n"
     ]
    },
    {
     "name": "stdout",
     "output_type": "stream",
     "text": [
      "downloading /home/nicolasf/research/CPP/indices/data/ERA5/daily/ERA5_daily_geopotential_1000_2020-01-17.nc\n"
     ]
    },
    {
     "name": "stderr",
     "output_type": "stream",
     "text": [
      "2020-06-14 14:44:14,033 INFO Welcome to the CDS\n",
      "2020-06-14 14:44:14,034 INFO Sending request to https://cds.climate.copernicus.eu/api/v2/resources/reanalysis-era5-pressure-levels\n",
      "2020-06-14 14:44:16,180 INFO Request is queued\n",
      "2020-06-14 14:44:19,354 INFO Request is completed\n",
      "2020-06-14 14:44:19,357 INFO Downloading http://136.156.132.201/cache-compute-0004/cache/data7/adaptor.mars.internal-1592102657.4009745-23739-17-9b5c9136-f426-4bd6-9bc4-a7f3b315c832.nc to /home/nicolasf/research/CPP/indices/data/ERA5/daily/ERA5_daily_geopotential_1000_2020-01-17.nc (192.2K)\n",
      "2020-06-14 14:44:21,203 INFO Download rate 104.3K/s\n"
     ]
    },
    {
     "name": "stdout",
     "output_type": "stream",
     "text": [
      "downloading /home/nicolasf/research/CPP/indices/data/ERA5/daily/ERA5_daily_geopotential_1000_2020-01-18.nc\n"
     ]
    },
    {
     "name": "stderr",
     "output_type": "stream",
     "text": [
      "2020-06-14 14:44:23,045 INFO Welcome to the CDS\n",
      "2020-06-14 14:44:23,046 INFO Sending request to https://cds.climate.copernicus.eu/api/v2/resources/reanalysis-era5-pressure-levels\n",
      "2020-06-14 14:44:25,396 INFO Request is queued\n",
      "2020-06-14 14:44:28,571 INFO Request is completed\n",
      "2020-06-14 14:44:28,573 INFO Downloading http://136.156.133.32/cache-compute-0009/cache/data1/adaptor.mars.internal-1592102666.8401864-15912-18-ec6459bb-c40f-4d2b-ab4a-6488cb0a8a0c.nc to /home/nicolasf/research/CPP/indices/data/ERA5/daily/ERA5_daily_geopotential_1000_2020-01-18.nc (192.2K)\n",
      "2020-06-14 14:44:30,419 INFO Download rate 104.2K/s\n"
     ]
    },
    {
     "name": "stdout",
     "output_type": "stream",
     "text": [
      "downloading /home/nicolasf/research/CPP/indices/data/ERA5/daily/ERA5_daily_geopotential_1000_2020-01-19.nc\n"
     ]
    },
    {
     "name": "stderr",
     "output_type": "stream",
     "text": [
      "2020-06-14 14:44:32,773 INFO Welcome to the CDS\n",
      "2020-06-14 14:44:32,773 INFO Sending request to https://cds.climate.copernicus.eu/api/v2/resources/reanalysis-era5-pressure-levels\n",
      "2020-06-14 14:44:35,535 INFO Request is queued\n",
      "2020-06-14 14:44:36,865 INFO Request is running\n",
      "2020-06-14 14:44:38,708 INFO Request is completed\n",
      "2020-06-14 14:44:38,711 INFO Downloading http://136.156.133.42/cache-compute-0014/cache/data9/adaptor.mars.internal-1592102675.85018-23093-7-95c7bc89-bcc9-4f81-8329-7aa52cbfbe94.nc to /home/nicolasf/research/CPP/indices/data/ERA5/daily/ERA5_daily_geopotential_1000_2020-01-19.nc (192.2K)\n",
      "2020-06-14 14:44:40,556 INFO Download rate 104.3K/s\n"
     ]
    },
    {
     "name": "stdout",
     "output_type": "stream",
     "text": [
      "downloading /home/nicolasf/research/CPP/indices/data/ERA5/daily/ERA5_daily_geopotential_1000_2020-01-20.nc\n"
     ]
    },
    {
     "name": "stderr",
     "output_type": "stream",
     "text": [
      "2020-06-14 14:44:42,603 INFO Welcome to the CDS\n",
      "2020-06-14 14:44:42,604 INFO Sending request to https://cds.climate.copernicus.eu/api/v2/resources/reanalysis-era5-pressure-levels\n",
      "2020-06-14 14:44:44,751 INFO Request is queued\n",
      "2020-06-14 14:44:46,081 INFO Request is running\n",
      "2020-06-14 14:44:47,924 INFO Request is completed\n",
      "2020-06-14 14:44:47,926 INFO Downloading http://136.156.133.37/cache-compute-0011/cache/data2/adaptor.mars.internal-1592102685.390305-23008-14-c7665a48-3ad6-4c63-88e1-c03bd7da1925.nc to /home/nicolasf/research/CPP/indices/data/ERA5/daily/ERA5_daily_geopotential_1000_2020-01-20.nc (192.2K)\n",
      "2020-06-14 14:44:49,772 INFO Download rate 104.2K/s\n"
     ]
    },
    {
     "name": "stdout",
     "output_type": "stream",
     "text": [
      "downloading /home/nicolasf/research/CPP/indices/data/ERA5/daily/ERA5_daily_geopotential_1000_2020-01-21.nc\n"
     ]
    },
    {
     "name": "stderr",
     "output_type": "stream",
     "text": [
      "2020-06-14 14:44:51,615 INFO Welcome to the CDS\n",
      "2020-06-14 14:44:51,615 INFO Sending request to https://cds.climate.copernicus.eu/api/v2/resources/reanalysis-era5-pressure-levels\n",
      "2020-06-14 14:44:54,274 INFO Request is queued\n",
      "2020-06-14 14:44:55,604 INFO Request is running\n",
      "2020-06-14 14:44:57,550 INFO Request is completed\n",
      "2020-06-14 14:44:57,553 INFO Downloading http://136.156.133.32/cache-compute-0009/cache/data8/adaptor.mars.internal-1592102694.9223232-14856-21-d1c8c05f-e3f7-470e-ac18-d1f21b5c660f.nc to /home/nicolasf/research/CPP/indices/data/ERA5/daily/ERA5_daily_geopotential_1000_2020-01-21.nc (192.2K)\n",
      "2020-06-14 14:44:59,401 INFO Download rate 104.1K/s\n"
     ]
    },
    {
     "name": "stdout",
     "output_type": "stream",
     "text": [
      "downloading /home/nicolasf/research/CPP/indices/data/ERA5/daily/ERA5_daily_geopotential_1000_2020-01-22.nc\n"
     ]
    },
    {
     "name": "stderr",
     "output_type": "stream",
     "text": [
      "2020-06-14 14:45:01,650 INFO Welcome to the CDS\n",
      "2020-06-14 14:45:01,650 INFO Sending request to https://cds.climate.copernicus.eu/api/v2/resources/reanalysis-era5-pressure-levels\n",
      "2020-06-14 14:45:02,894 INFO Request is queued\n",
      "2020-06-14 14:45:06,049 INFO Request is running\n",
      "2020-06-14 14:45:08,609 INFO Request is completed\n",
      "2020-06-14 14:45:08,611 INFO Downloading http://136.156.132.198/cache-compute-0003/cache/data3/adaptor.mars.internal-1592102704.8797028-29181-31-90e9cb86-403a-465d-af50-31aec2af1f28.nc to /home/nicolasf/research/CPP/indices/data/ERA5/daily/ERA5_daily_geopotential_1000_2020-01-22.nc (192.2K)\n",
      "2020-06-14 14:45:10,454 INFO Download rate 104.4K/s\n"
     ]
    },
    {
     "name": "stdout",
     "output_type": "stream",
     "text": [
      "downloading /home/nicolasf/research/CPP/indices/data/ERA5/daily/ERA5_daily_geopotential_1000_2020-01-23.nc\n"
     ]
    },
    {
     "name": "stderr",
     "output_type": "stream",
     "text": [
      "2020-06-14 14:45:12,811 INFO Welcome to the CDS\n",
      "2020-06-14 14:45:12,812 INFO Sending request to https://cds.climate.copernicus.eu/api/v2/resources/reanalysis-era5-pressure-levels\n",
      "2020-06-14 14:45:14,856 INFO Request is queued\n",
      "2020-06-14 14:45:16,187 INFO Request is running\n",
      "2020-06-14 14:45:18,030 INFO Request is completed\n",
      "2020-06-14 14:45:18,032 INFO Downloading http://136.156.133.37/cache-compute-0011/cache/data8/adaptor.mars.internal-1592102715.1351879-26348-3-24639ac1-2157-4734-813c-f028c921f778.nc to /home/nicolasf/research/CPP/indices/data/ERA5/daily/ERA5_daily_geopotential_1000_2020-01-23.nc (192.2K)\n",
      "2020-06-14 14:45:19,879 INFO Download rate 104.2K/s\n"
     ]
    },
    {
     "name": "stdout",
     "output_type": "stream",
     "text": [
      "downloading /home/nicolasf/research/CPP/indices/data/ERA5/daily/ERA5_daily_geopotential_1000_2020-01-24.nc\n"
     ]
    },
    {
     "name": "stderr",
     "output_type": "stream",
     "text": [
      "2020-06-14 14:45:21,721 INFO Welcome to the CDS\n",
      "2020-06-14 14:45:21,722 INFO Sending request to https://cds.climate.copernicus.eu/api/v2/resources/reanalysis-era5-pressure-levels\n",
      "2020-06-14 14:45:23,355 INFO Request is queued\n",
      "2020-06-14 14:45:24,686 INFO Request is running\n",
      "2020-06-14 14:45:26,530 INFO Request is completed\n",
      "2020-06-14 14:45:26,532 INFO Downloading http://136.156.133.25/cache-compute-0008/cache/data5/adaptor.mars.internal-1592102724.4081712-13095-1-bdf376ec-ea91-4b51-b2cc-aa11892d172a.nc to /home/nicolasf/research/CPP/indices/data/ERA5/daily/ERA5_daily_geopotential_1000_2020-01-24.nc (192.2K)\n",
      "2020-06-14 14:45:28,378 INFO Download rate 104.3K/s\n"
     ]
    },
    {
     "name": "stdout",
     "output_type": "stream",
     "text": [
      "downloading /home/nicolasf/research/CPP/indices/data/ERA5/daily/ERA5_daily_geopotential_1000_2020-01-25.nc\n"
     ]
    },
    {
     "name": "stderr",
     "output_type": "stream",
     "text": [
      "2020-06-14 14:45:30,219 INFO Welcome to the CDS\n",
      "2020-06-14 14:45:30,220 INFO Sending request to https://cds.climate.copernicus.eu/api/v2/resources/reanalysis-era5-pressure-levels\n",
      "2020-06-14 14:45:31,503 INFO Request is queued\n",
      "2020-06-14 14:45:32,878 INFO Request is running\n",
      "2020-06-14 14:45:34,722 INFO Request is completed\n",
      "2020-06-14 14:45:34,723 INFO Downloading http://136.156.133.39/cache-compute-0012/cache/data1/adaptor.mars.internal-1592102731.4772997-17455-5-d5072222-6950-46bd-9b04-968fbfc07272.nc to /home/nicolasf/research/CPP/indices/data/ERA5/daily/ERA5_daily_geopotential_1000_2020-01-25.nc (192.2K)\n",
      "2020-06-14 14:45:36,572 INFO Download rate 104.1K/s\n"
     ]
    },
    {
     "name": "stdout",
     "output_type": "stream",
     "text": [
      "downloading /home/nicolasf/research/CPP/indices/data/ERA5/daily/ERA5_daily_geopotential_1000_2020-01-26.nc\n"
     ]
    },
    {
     "name": "stderr",
     "output_type": "stream",
     "text": [
      "2020-06-14 14:45:38,822 INFO Welcome to the CDS\n",
      "2020-06-14 14:45:38,823 INFO Sending request to https://cds.climate.copernicus.eu/api/v2/resources/reanalysis-era5-pressure-levels\n",
      "2020-06-14 14:45:40,251 INFO Request is queued\n",
      "2020-06-14 14:45:41,583 INFO Request is running\n",
      "2020-06-14 14:45:43,426 INFO Request is completed\n",
      "2020-06-14 14:45:43,428 INFO Downloading http://136.156.133.46/cache-compute-0015/cache/data9/adaptor.mars.internal-1592102740.3503191-20821-18-bb5de34a-7018-41ce-bfa0-4085c9984292.nc to /home/nicolasf/research/CPP/indices/data/ERA5/daily/ERA5_daily_geopotential_1000_2020-01-26.nc (192.2K)\n",
      "2020-06-14 14:45:45,277 INFO Download rate 104.1K/s\n"
     ]
    },
    {
     "name": "stdout",
     "output_type": "stream",
     "text": [
      "downloading /home/nicolasf/research/CPP/indices/data/ERA5/daily/ERA5_daily_geopotential_1000_2020-01-27.nc\n"
     ]
    },
    {
     "name": "stderr",
     "output_type": "stream",
     "text": [
      "2020-06-14 14:45:46,910 INFO Welcome to the CDS\n",
      "2020-06-14 14:45:46,911 INFO Sending request to https://cds.climate.copernicus.eu/api/v2/resources/reanalysis-era5-pressure-levels\n",
      "2020-06-14 14:45:48,443 INFO Request is queued\n",
      "2020-06-14 14:45:49,775 INFO Request is running\n",
      "2020-06-14 14:45:51,618 INFO Request is completed\n",
      "2020-06-14 14:45:51,620 INFO Downloading http://136.156.133.46/cache-compute-0015/cache/data9/adaptor.mars.internal-1592102748.896765-21839-9-cb918d5e-33f2-4203-a51f-00086afdccf6.nc to /home/nicolasf/research/CPP/indices/data/ERA5/daily/ERA5_daily_geopotential_1000_2020-01-27.nc (192.2K)\n",
      "2020-06-14 14:45:53,468 INFO Download rate 104.1K/s\n"
     ]
    },
    {
     "name": "stdout",
     "output_type": "stream",
     "text": [
      "downloading /home/nicolasf/research/CPP/indices/data/ERA5/daily/ERA5_daily_geopotential_1000_2020-01-28.nc\n"
     ]
    },
    {
     "name": "stderr",
     "output_type": "stream",
     "text": [
      "2020-06-14 14:46:01,247 INFO Welcome to the CDS\n",
      "2020-06-14 14:46:01,248 INFO Sending request to https://cds.climate.copernicus.eu/api/v2/resources/reanalysis-era5-pressure-levels\n",
      "2020-06-14 14:46:02,572 INFO Request is queued\n",
      "2020-06-14 14:46:03,906 INFO Request is running\n",
      "2020-06-14 14:46:05,749 INFO Request is completed\n",
      "2020-06-14 14:46:05,751 INFO Downloading http://136.156.132.153/cache-compute-0002/cache/data4/adaptor.mars.internal-1592102762.5515203-20019-33-1cf1fd2f-c8a9-44b0-852f-0e7117758587.nc to /home/nicolasf/research/CPP/indices/data/ERA5/daily/ERA5_daily_geopotential_1000_2020-01-28.nc (192.2K)\n",
      "2020-06-14 14:46:07,696 INFO Download rate 98.9K/s \n"
     ]
    },
    {
     "name": "stdout",
     "output_type": "stream",
     "text": [
      "downloading /home/nicolasf/research/CPP/indices/data/ERA5/daily/ERA5_daily_geopotential_1000_2020-01-29.nc\n"
     ]
    },
    {
     "name": "stderr",
     "output_type": "stream",
     "text": [
      "2020-06-14 14:46:09,203 INFO Welcome to the CDS\n",
      "2020-06-14 14:46:09,204 INFO Sending request to https://cds.climate.copernicus.eu/api/v2/resources/reanalysis-era5-pressure-levels\n",
      "2020-06-14 14:46:10,547 INFO Request is queued\n",
      "2020-06-14 14:46:11,893 INFO Request is running\n",
      "2020-06-14 14:46:13,736 INFO Request is completed\n",
      "2020-06-14 14:46:13,738 INFO Downloading http://136.156.132.235/cache-compute-0006/cache/data9/adaptor.mars.internal-1592102770.9396229-9967-34-47b49029-6dc4-4987-b427-a1a68a48506d.nc to /home/nicolasf/research/CPP/indices/data/ERA5/daily/ERA5_daily_geopotential_1000_2020-01-29.nc (192.2K)\n",
      "2020-06-14 14:46:17,119 INFO Download rate 56.9K/s \n"
     ]
    },
    {
     "name": "stdout",
     "output_type": "stream",
     "text": [
      "downloading /home/nicolasf/research/CPP/indices/data/ERA5/daily/ERA5_daily_geopotential_1000_2020-01-30.nc\n"
     ]
    },
    {
     "name": "stderr",
     "output_type": "stream",
     "text": [
      "2020-06-14 14:46:18,756 INFO Welcome to the CDS\n",
      "2020-06-14 14:46:18,757 INFO Sending request to https://cds.climate.copernicus.eu/api/v2/resources/reanalysis-era5-pressure-levels\n",
      "2020-06-14 14:46:20,290 INFO Request is queued\n",
      "2020-06-14 14:46:21,621 INFO Request is completed\n",
      "2020-06-14 14:46:21,623 INFO Downloading http://136.156.133.39/cache-compute-0012/cache/data5/adaptor.mars.internal-1592102780.244002-15640-18-84ac0181-b931-41de-9dcc-e6b12a7c629f.nc to /home/nicolasf/research/CPP/indices/data/ERA5/daily/ERA5_daily_geopotential_1000_2020-01-30.nc (192.2K)\n",
      "2020-06-14 14:46:23,468 INFO Download rate 104.2K/s\n"
     ]
    },
    {
     "name": "stdout",
     "output_type": "stream",
     "text": [
      "downloading /home/nicolasf/research/CPP/indices/data/ERA5/daily/ERA5_daily_geopotential_1000_2020-01-31.nc\n"
     ]
    },
    {
     "name": "stderr",
     "output_type": "stream",
     "text": [
      "2020-06-14 14:46:25,106 INFO Welcome to the CDS\n",
      "2020-06-14 14:46:25,107 INFO Sending request to https://cds.climate.copernicus.eu/api/v2/resources/reanalysis-era5-pressure-levels\n",
      "2020-06-14 14:46:26,638 INFO Request is queued\n",
      "2020-06-14 14:46:27,971 INFO Request is completed\n",
      "2020-06-14 14:46:27,972 INFO Downloading http://136.156.132.153/cache-compute-0002/cache/data0/adaptor.mars.internal-1592102786.5603962-23883-16-0312892f-ad44-479c-913a-bc3aa5664496.nc to /home/nicolasf/research/CPP/indices/data/ERA5/daily/ERA5_daily_geopotential_1000_2020-01-31.nc (192.2K)\n",
      "2020-06-14 14:46:29,821 INFO Download rate 104.1K/s\n"
     ]
    },
    {
     "name": "stdout",
     "output_type": "stream",
     "text": [
      "downloading /home/nicolasf/research/CPP/indices/data/ERA5/daily/ERA5_daily_geopotential_1000_2020-02-01.nc\n"
     ]
    },
    {
     "name": "stderr",
     "output_type": "stream",
     "text": [
      "2020-06-14 14:46:31,558 INFO Welcome to the CDS\n",
      "2020-06-14 14:46:31,558 INFO Sending request to https://cds.climate.copernicus.eu/api/v2/resources/reanalysis-era5-pressure-levels\n",
      "2020-06-14 14:46:33,807 INFO Request is queued\n",
      "2020-06-14 14:46:36,982 INFO Request is running\n",
      "2020-06-14 14:46:39,542 INFO Request is completed\n",
      "2020-06-14 14:46:39,543 INFO Downloading http://136.156.132.105/cache-compute-0000/cache/data4/adaptor.mars.internal-1592102795.582589-17972-5-b1a6128e-a964-4538-9760-58ba7f1f9789.nc to /home/nicolasf/research/CPP/indices/data/ERA5/daily/ERA5_daily_geopotential_1000_2020-02-01.nc (192.2K)\n",
      "2020-06-14 14:46:41,390 INFO Download rate 104.2K/s\n"
     ]
    },
    {
     "name": "stdout",
     "output_type": "stream",
     "text": [
      "downloading /home/nicolasf/research/CPP/indices/data/ERA5/daily/ERA5_daily_geopotential_1000_2020-02-02.nc\n"
     ]
    },
    {
     "name": "stderr",
     "output_type": "stream",
     "text": [
      "2020-06-14 14:46:43,949 INFO Welcome to the CDS\n",
      "2020-06-14 14:46:43,949 INFO Sending request to https://cds.climate.copernicus.eu/api/v2/resources/reanalysis-era5-pressure-levels\n",
      "2020-06-14 14:46:46,095 INFO Request is queued\n",
      "2020-06-14 14:46:47,427 INFO Request is running\n",
      "2020-06-14 14:46:49,206 INFO Request is completed\n",
      "2020-06-14 14:46:49,208 INFO Downloading http://136.156.132.198/cache-compute-0003/cache/data7/adaptor.mars.internal-1592102806.624757-400-25-6919b396-4528-4af0-b09a-11a603d14df2.nc to /home/nicolasf/research/CPP/indices/data/ERA5/daily/ERA5_daily_geopotential_1000_2020-02-02.nc (192.2K)\n",
      "2020-06-14 14:46:51,118 INFO Download rate 100.7K/s\n"
     ]
    },
    {
     "name": "stdout",
     "output_type": "stream",
     "text": [
      "downloading /home/nicolasf/research/CPP/indices/data/ERA5/daily/ERA5_daily_geopotential_1000_2020-02-03.nc\n"
     ]
    },
    {
     "name": "stderr",
     "output_type": "stream",
     "text": [
      "2020-06-14 14:46:53,677 INFO Welcome to the CDS\n",
      "2020-06-14 14:46:53,679 INFO Sending request to https://cds.climate.copernicus.eu/api/v2/resources/reanalysis-era5-pressure-levels\n",
      "2020-06-14 14:46:55,106 INFO Request is queued\n",
      "2020-06-14 14:46:56,438 INFO Request is running\n",
      "2020-06-14 14:46:58,281 INFO Request is completed\n",
      "2020-06-14 14:46:58,283 INFO Downloading http://136.156.132.105/cache-compute-0000/cache/data2/adaptor.mars.internal-1592102815.4700508-13484-18-bd74a364-d3bd-44b6-a36f-fc44f903e83d.nc to /home/nicolasf/research/CPP/indices/data/ERA5/daily/ERA5_daily_geopotential_1000_2020-02-03.nc (192.2K)\n",
      "2020-06-14 14:47:00,131 INFO Download rate 104.1K/s\n"
     ]
    },
    {
     "name": "stdout",
     "output_type": "stream",
     "text": [
      "downloading /home/nicolasf/research/CPP/indices/data/ERA5/daily/ERA5_daily_geopotential_1000_2020-02-04.nc\n"
     ]
    },
    {
     "name": "stderr",
     "output_type": "stream",
     "text": [
      "2020-06-14 14:47:01,870 INFO Welcome to the CDS\n",
      "2020-06-14 14:47:01,870 INFO Sending request to https://cds.climate.copernicus.eu/api/v2/resources/reanalysis-era5-pressure-levels\n",
      "2020-06-14 14:47:03,401 INFO Request is queued\n",
      "2020-06-14 14:47:04,682 INFO Request is running\n",
      "2020-06-14 14:47:06,473 INFO Request is completed\n",
      "2020-06-14 14:47:06,476 INFO Downloading http://136.156.132.210/cache-compute-0005/cache/data0/adaptor.mars.internal-1592102823.9200604-10130-22-77dd2ac4-5dac-4275-9ffb-b4006612aad3.nc to /home/nicolasf/research/CPP/indices/data/ERA5/daily/ERA5_daily_geopotential_1000_2020-02-04.nc (192.2K)\n",
      "2020-06-14 14:47:08,325 INFO Download rate 104.1K/s\n"
     ]
    },
    {
     "name": "stdout",
     "output_type": "stream",
     "text": [
      "downloading /home/nicolasf/research/CPP/indices/data/ERA5/daily/ERA5_daily_geopotential_1000_2020-02-05.nc\n"
     ]
    },
    {
     "name": "stderr",
     "output_type": "stream",
     "text": [
      "2020-06-14 14:47:10,673 INFO Welcome to the CDS\n",
      "2020-06-14 14:47:10,673 INFO Sending request to https://cds.climate.copernicus.eu/api/v2/resources/reanalysis-era5-pressure-levels\n",
      "2020-06-14 14:47:11,960 INFO Request is queued\n",
      "2020-06-14 14:47:13,333 INFO Request is running\n",
      "2020-06-14 14:47:15,177 INFO Request is completed\n",
      "2020-06-14 14:47:15,179 INFO Downloading http://136.156.133.41/cache-compute-0013/cache/data8/adaptor.mars.internal-1592102832.3197858-28633-3-367110b4-638d-43c4-8184-b76791d5a19e.nc to /home/nicolasf/research/CPP/indices/data/ERA5/daily/ERA5_daily_geopotential_1000_2020-02-05.nc (192.2K)\n",
      "2020-06-14 14:47:17,027 INFO Download rate 104.1K/s\n"
     ]
    },
    {
     "name": "stdout",
     "output_type": "stream",
     "text": [
      "downloading /home/nicolasf/research/CPP/indices/data/ERA5/daily/ERA5_daily_geopotential_1000_2020-02-06.nc\n"
     ]
    },
    {
     "name": "stderr",
     "output_type": "stream",
     "text": [
      "2020-06-14 14:47:18,662 INFO Welcome to the CDS\n",
      "2020-06-14 14:47:18,663 INFO Sending request to https://cds.climate.copernicus.eu/api/v2/resources/reanalysis-era5-pressure-levels\n",
      "2020-06-14 14:47:20,400 INFO Request is queued\n",
      "2020-06-14 14:47:23,574 INFO Request is running\n",
      "2020-06-14 14:47:26,134 INFO Request is completed\n",
      "2020-06-14 14:47:26,137 INFO Downloading http://136.156.133.46/cache-compute-0015/cache/data9/adaptor.mars.internal-1592102842.252574-22852-9-c1ee79b8-858e-4da3-bb58-5bb17e1b7506.nc to /home/nicolasf/research/CPP/indices/data/ERA5/daily/ERA5_daily_geopotential_1000_2020-02-06.nc (192.2K)\n",
      "2020-06-14 14:47:28,087 INFO Download rate 98.7K/s \n"
     ]
    },
    {
     "name": "stdout",
     "output_type": "stream",
     "text": [
      "downloading /home/nicolasf/research/CPP/indices/data/ERA5/daily/ERA5_daily_geopotential_1000_2020-02-07.nc\n"
     ]
    },
    {
     "name": "stderr",
     "output_type": "stream",
     "text": [
      "2020-06-14 14:47:30,337 INFO Welcome to the CDS\n",
      "2020-06-14 14:47:30,337 INFO Sending request to https://cds.climate.copernicus.eu/api/v2/resources/reanalysis-era5-pressure-levels\n",
      "2020-06-14 14:47:33,712 INFO Request is queued\n",
      "2020-06-14 14:47:35,043 INFO Request is running\n",
      "2020-06-14 14:47:36,886 INFO Request is completed\n",
      "2020-06-14 14:47:36,888 INFO Downloading http://136.156.132.235/cache-compute-0006/cache/data5/adaptor.mars.internal-1592102853.3961353-13660-16-1a0fb8b6-a66d-484e-84cc-2f05fc5a493a.nc to /home/nicolasf/research/CPP/indices/data/ERA5/daily/ERA5_daily_geopotential_1000_2020-02-07.nc (192.2K)\n",
      "2020-06-14 14:47:40,270 INFO Download rate 56.9K/s \n"
     ]
    },
    {
     "name": "stdout",
     "output_type": "stream",
     "text": [
      "downloading /home/nicolasf/research/CPP/indices/data/ERA5/daily/ERA5_daily_geopotential_1000_2020-02-08.nc\n"
     ]
    },
    {
     "name": "stderr",
     "output_type": "stream",
     "text": [
      "2020-06-14 14:47:42,215 INFO Welcome to the CDS\n",
      "2020-06-14 14:47:42,215 INFO Sending request to https://cds.climate.copernicus.eu/api/v2/resources/reanalysis-era5-pressure-levels\n",
      "2020-06-14 14:47:43,471 INFO Request is queued\n",
      "2020-06-14 14:47:44,771 INFO Request is running\n",
      "2020-06-14 14:47:46,614 INFO Request is completed\n",
      "2020-06-14 14:47:46,616 INFO Downloading http://136.156.132.236/cache-compute-0007/cache/data1/adaptor.mars.internal-1592102863.8687353-24038-18-4f8dd8ac-4fae-48fe-8df4-f04b85c98f83.nc to /home/nicolasf/research/CPP/indices/data/ERA5/daily/ERA5_daily_geopotential_1000_2020-02-08.nc (192.2K)\n",
      "2020-06-14 14:47:48,464 INFO Download rate 104.1K/s\n"
     ]
    },
    {
     "name": "stdout",
     "output_type": "stream",
     "text": [
      "downloading /home/nicolasf/research/CPP/indices/data/ERA5/daily/ERA5_daily_geopotential_1000_2020-02-09.nc\n"
     ]
    },
    {
     "name": "stderr",
     "output_type": "stream",
     "text": [
      "2020-06-14 14:47:50,273 INFO Welcome to the CDS\n",
      "2020-06-14 14:47:50,273 INFO Sending request to https://cds.climate.copernicus.eu/api/v2/resources/reanalysis-era5-pressure-levels\n",
      "2020-06-14 14:47:51,822 INFO Request is queued\n",
      "2020-06-14 14:47:53,168 INFO Request is running\n",
      "2020-06-14 14:47:55,011 INFO Request is completed\n",
      "2020-06-14 14:47:55,013 INFO Downloading http://136.156.133.25/cache-compute-0008/cache/data2/adaptor.mars.internal-1592102872.2767339-8319-11-03d51c9c-f05c-46fe-ae72-6c0d93737f38.nc to /home/nicolasf/research/CPP/indices/data/ERA5/daily/ERA5_daily_geopotential_1000_2020-02-09.nc (192.2K)\n",
      "2020-06-14 14:47:56,862 INFO Download rate 104K/s  \n"
     ]
    },
    {
     "name": "stdout",
     "output_type": "stream",
     "text": [
      "downloading /home/nicolasf/research/CPP/indices/data/ERA5/daily/ERA5_daily_geopotential_1000_2020-02-10.nc\n"
     ]
    },
    {
     "name": "stderr",
     "output_type": "stream",
     "text": [
      "2020-06-14 14:47:58,497 INFO Welcome to the CDS\n",
      "2020-06-14 14:47:58,497 INFO Sending request to https://cds.climate.copernicus.eu/api/v2/resources/reanalysis-era5-pressure-levels\n",
      "2020-06-14 14:48:00,133 INFO Request is queued\n",
      "2020-06-14 14:48:01,463 INFO Request is running\n",
      "2020-06-14 14:48:03,306 INFO Request is completed\n",
      "2020-06-14 14:48:03,308 INFO Downloading http://136.156.132.235/cache-compute-0006/cache/data5/adaptor.mars.internal-1592102879.9978065-13733-16-564c137b-442d-4162-8a07-f30d6d1c85bb.nc to /home/nicolasf/research/CPP/indices/data/ERA5/daily/ERA5_daily_geopotential_1000_2020-02-10.nc (192.2K)\n",
      "2020-06-14 14:48:06,689 INFO Download rate 56.9K/s \n"
     ]
    },
    {
     "name": "stdout",
     "output_type": "stream",
     "text": [
      "downloading /home/nicolasf/research/CPP/indices/data/ERA5/daily/ERA5_daily_geopotential_1000_2020-02-11.nc\n"
     ]
    },
    {
     "name": "stderr",
     "output_type": "stream",
     "text": [
      "2020-06-14 14:48:08,430 INFO Welcome to the CDS\n",
      "2020-06-14 14:48:08,430 INFO Sending request to https://cds.climate.copernicus.eu/api/v2/resources/reanalysis-era5-pressure-levels\n",
      "2020-06-14 14:48:10,269 INFO Request is queued\n",
      "2020-06-14 14:48:11,600 INFO Request is completed\n",
      "2020-06-14 14:48:11,602 INFO Downloading http://136.156.132.235/cache-compute-0006/cache/data4/adaptor.mars.internal-1592102890.230548-12774-21-da782703-6eaf-411c-b422-c08a47c10467.nc to /home/nicolasf/research/CPP/indices/data/ERA5/daily/ERA5_daily_geopotential_1000_2020-02-11.nc (192.2K)\n",
      "2020-06-14 14:48:14,984 INFO Download rate 56.9K/s \n"
     ]
    },
    {
     "name": "stdout",
     "output_type": "stream",
     "text": [
      "downloading /home/nicolasf/research/CPP/indices/data/ERA5/daily/ERA5_daily_geopotential_1000_2020-02-12.nc\n"
     ]
    },
    {
     "name": "stderr",
     "output_type": "stream",
     "text": [
      "2020-06-14 14:48:16,519 INFO Welcome to the CDS\n",
      "2020-06-14 14:48:16,520 INFO Sending request to https://cds.climate.copernicus.eu/api/v2/resources/reanalysis-era5-pressure-levels\n",
      "2020-06-14 14:48:17,832 INFO Request is queued\n",
      "2020-06-14 14:48:19,178 INFO Request is running\n",
      "2020-06-14 14:48:21,022 INFO Request is completed\n",
      "2020-06-14 14:48:21,024 INFO Downloading http://136.156.132.201/cache-compute-0004/cache/data5/adaptor.mars.internal-1592102897.7977304-1427-1-c0b484fb-405e-4411-ac02-cf98aec1040c.nc to /home/nicolasf/research/CPP/indices/data/ERA5/daily/ERA5_daily_geopotential_1000_2020-02-12.nc (192.2K)\n",
      "2020-06-14 14:48:22,973 INFO Download rate 98.7K/s \n"
     ]
    },
    {
     "name": "stdout",
     "output_type": "stream",
     "text": [
      "downloading /home/nicolasf/research/CPP/indices/data/ERA5/daily/ERA5_daily_geopotential_1000_2020-02-13.nc\n"
     ]
    },
    {
     "name": "stderr",
     "output_type": "stream",
     "text": [
      "2020-06-14 14:48:25,019 INFO Welcome to the CDS\n",
      "2020-06-14 14:48:25,020 INFO Sending request to https://cds.climate.copernicus.eu/api/v2/resources/reanalysis-era5-pressure-levels\n",
      "2020-06-14 14:48:26,448 INFO Request is queued\n",
      "2020-06-14 14:48:27,780 INFO Request is completed\n",
      "2020-06-14 14:48:27,782 INFO Downloading http://136.156.133.39/cache-compute-0012/cache/data9/adaptor.mars.internal-1592102906.493473-15640-22-334ccd23-0915-426e-81be-f2135cd19684.nc to /home/nicolasf/research/CPP/indices/data/ERA5/daily/ERA5_daily_geopotential_1000_2020-02-13.nc (192.2K)\n",
      "2020-06-14 14:48:29,629 INFO Download rate 104.1K/s\n"
     ]
    },
    {
     "name": "stdout",
     "output_type": "stream",
     "text": [
      "downloading /home/nicolasf/research/CPP/indices/data/ERA5/daily/ERA5_daily_geopotential_1000_2020-02-14.nc\n"
     ]
    },
    {
     "name": "stderr",
     "output_type": "stream",
     "text": [
      "2020-06-14 14:48:31,265 INFO Welcome to the CDS\n",
      "2020-06-14 14:48:31,266 INFO Sending request to https://cds.climate.copernicus.eu/api/v2/resources/reanalysis-era5-pressure-levels\n",
      "2020-06-14 14:48:33,923 INFO Request is queued\n",
      "2020-06-14 14:48:35,208 INFO Request is running\n",
      "2020-06-14 14:48:37,098 INFO Request is completed\n",
      "2020-06-14 14:48:37,100 INFO Downloading http://136.156.132.110/cache-compute-0001/cache/data4/adaptor.mars.internal-1592102913.7461302-22993-31-ca23c5e2-233a-4014-9a3d-0f6cc04b2eec.nc to /home/nicolasf/research/CPP/indices/data/ERA5/daily/ERA5_daily_geopotential_1000_2020-02-14.nc (192.2K)\n",
      "2020-06-14 14:48:38,948 INFO Download rate 104.1K/s\n"
     ]
    },
    {
     "name": "stdout",
     "output_type": "stream",
     "text": [
      "downloading /home/nicolasf/research/CPP/indices/data/ERA5/daily/ERA5_daily_geopotential_1000_2020-02-15.nc\n"
     ]
    },
    {
     "name": "stderr",
     "output_type": "stream",
     "text": [
      "2020-06-14 14:48:40,481 INFO Welcome to the CDS\n",
      "2020-06-14 14:48:40,482 INFO Sending request to https://cds.climate.copernicus.eu/api/v2/resources/reanalysis-era5-pressure-levels\n",
      "2020-06-14 14:48:41,911 INFO Request is queued\n",
      "2020-06-14 14:48:43,242 INFO Request is completed\n",
      "2020-06-14 14:48:43,244 INFO Downloading http://136.156.133.25/cache-compute-0008/cache/data0/adaptor.mars.internal-1592102922.0771687-14073-3-d5e9f9f0-865f-475c-ad10-ce4b89a635cf.nc to /home/nicolasf/research/CPP/indices/data/ERA5/daily/ERA5_daily_geopotential_1000_2020-02-15.nc (192.2K)\n",
      "2020-06-14 14:48:45,092 INFO Download rate 104.1K/s\n"
     ]
    },
    {
     "name": "stdout",
     "output_type": "stream",
     "text": [
      "downloading /home/nicolasf/research/CPP/indices/data/ERA5/daily/ERA5_daily_geopotential_1000_2020-02-16.nc\n"
     ]
    },
    {
     "name": "stderr",
     "output_type": "stream",
     "text": [
      "2020-06-14 14:48:46,625 INFO Welcome to the CDS\n",
      "2020-06-14 14:48:46,626 INFO Sending request to https://cds.climate.copernicus.eu/api/v2/resources/reanalysis-era5-pressure-levels\n",
      "2020-06-14 14:48:48,364 INFO Request is queued\n",
      "2020-06-14 14:48:49,692 INFO Request is running\n",
      "2020-06-14 14:48:51,537 INFO Request is completed\n",
      "2020-06-14 14:48:51,539 INFO Downloading http://136.156.133.46/cache-compute-0015/cache/data1/adaptor.mars.internal-1592102928.899651-21143-22-e892f5b8-50fc-4ae8-ac82-216bf7e1df02.nc to /home/nicolasf/research/CPP/indices/data/ERA5/daily/ERA5_daily_geopotential_1000_2020-02-16.nc (192.2K)\n",
      "2020-06-14 14:48:53,385 INFO Download rate 104.2K/s\n"
     ]
    },
    {
     "name": "stdout",
     "output_type": "stream",
     "text": [
      "downloading /home/nicolasf/research/CPP/indices/data/ERA5/daily/ERA5_daily_geopotential_1000_2020-02-17.nc\n"
     ]
    },
    {
     "name": "stderr",
     "output_type": "stream",
     "text": [
      "2020-06-14 14:48:55,739 INFO Welcome to the CDS\n",
      "2020-06-14 14:48:55,740 INFO Sending request to https://cds.climate.copernicus.eu/api/v2/resources/reanalysis-era5-pressure-levels\n",
      "2020-06-14 14:48:56,964 INFO Request is queued\n",
      "2020-06-14 14:48:58,295 INFO Request is running\n",
      "2020-06-14 14:49:00,138 INFO Request is completed\n",
      "2020-06-14 14:49:00,141 INFO Downloading http://136.156.132.236/cache-compute-0007/cache/data4/adaptor.mars.internal-1592102936.9949982-24664-15-e5201205-999c-497b-bef7-c45610b06e02.nc to /home/nicolasf/research/CPP/indices/data/ERA5/daily/ERA5_daily_geopotential_1000_2020-02-17.nc (192.2K)\n",
      "2020-06-14 14:49:01,986 INFO Download rate 104.3K/s\n"
     ]
    },
    {
     "name": "stdout",
     "output_type": "stream",
     "text": [
      "downloading /home/nicolasf/research/CPP/indices/data/ERA5/daily/ERA5_daily_geopotential_1000_2020-02-18.nc\n"
     ]
    },
    {
     "name": "stderr",
     "output_type": "stream",
     "text": [
      "2020-06-14 14:49:03,490 INFO Welcome to the CDS\n",
      "2020-06-14 14:49:03,491 INFO Sending request to https://cds.climate.copernicus.eu/api/v2/resources/reanalysis-era5-pressure-levels\n",
      "2020-06-14 14:49:04,764 INFO Request is queued\n",
      "2020-06-14 14:49:06,078 INFO Request is completed\n",
      "2020-06-14 14:49:06,080 INFO Downloading http://136.156.133.32/cache-compute-0009/cache/data8/adaptor.mars.internal-1592102944.7409058-19339-11-a565ab34-5a31-452f-873b-fe72bcd8cd64.nc to /home/nicolasf/research/CPP/indices/data/ERA5/daily/ERA5_daily_geopotential_1000_2020-02-18.nc (192.2K)\n",
      "2020-06-14 14:49:07,927 INFO Download rate 104.2K/s\n"
     ]
    },
    {
     "name": "stdout",
     "output_type": "stream",
     "text": [
      "downloading /home/nicolasf/research/CPP/indices/data/ERA5/daily/ERA5_daily_geopotential_1000_2020-02-19.nc\n"
     ]
    },
    {
     "name": "stderr",
     "output_type": "stream",
     "text": [
      "2020-06-14 14:49:09,564 INFO Welcome to the CDS\n",
      "2020-06-14 14:49:09,565 INFO Sending request to https://cds.climate.copernicus.eu/api/v2/resources/reanalysis-era5-pressure-levels\n",
      "2020-06-14 14:49:10,814 INFO Request is queued\n",
      "2020-06-14 14:49:12,119 INFO Request is running\n",
      "2020-06-14 14:49:13,962 INFO Request is completed\n",
      "2020-06-14 14:49:13,962 INFO Downloading http://136.156.132.210/cache-compute-0005/cache/data9/adaptor.mars.internal-1592102951.057305-27719-15-92ebb37c-7c24-49c9-8c8c-3e095a301d2d.nc to /home/nicolasf/research/CPP/indices/data/ERA5/daily/ERA5_daily_geopotential_1000_2020-02-19.nc (192.2K)\n",
      "2020-06-14 14:49:15,811 INFO Download rate 104K/s  \n"
     ]
    },
    {
     "name": "stdout",
     "output_type": "stream",
     "text": [
      "downloading /home/nicolasf/research/CPP/indices/data/ERA5/daily/ERA5_daily_geopotential_1000_2020-02-20.nc\n"
     ]
    },
    {
     "name": "stderr",
     "output_type": "stream",
     "text": [
      "2020-06-14 14:49:17,448 INFO Welcome to the CDS\n",
      "2020-06-14 14:49:17,449 INFO Sending request to https://cds.climate.copernicus.eu/api/v2/resources/reanalysis-era5-pressure-levels\n",
      "2020-06-14 14:49:18,878 INFO Request is queued\n",
      "2020-06-14 14:49:20,209 INFO Request is completed\n",
      "2020-06-14 14:49:20,211 INFO Downloading http://136.156.133.39/cache-compute-0012/cache/data8/adaptor.mars.internal-1592102958.8300116-21626-9-7a6f0ff4-e87b-4815-a6ea-6213ef32e6cf.nc to /home/nicolasf/research/CPP/indices/data/ERA5/daily/ERA5_daily_geopotential_1000_2020-02-20.nc (192.2K)\n",
      "2020-06-14 14:49:22,060 INFO Download rate 104.1K/s\n"
     ]
    },
    {
     "name": "stdout",
     "output_type": "stream",
     "text": [
      "downloading /home/nicolasf/research/CPP/indices/data/ERA5/daily/ERA5_daily_geopotential_1000_2020-02-21.nc\n"
     ]
    },
    {
     "name": "stderr",
     "output_type": "stream",
     "text": [
      "2020-06-14 14:49:23,797 INFO Welcome to the CDS\n",
      "2020-06-14 14:49:23,798 INFO Sending request to https://cds.climate.copernicus.eu/api/v2/resources/reanalysis-era5-pressure-levels\n",
      "2020-06-14 14:49:25,046 INFO Request is queued\n",
      "2020-06-14 14:49:26,354 INFO Request is running\n",
      "2020-06-14 14:49:28,197 INFO Request is completed\n",
      "2020-06-14 14:49:28,199 INFO Downloading http://136.156.133.46/cache-compute-0015/cache/data4/adaptor.mars.internal-1592102965.4547384-16226-26-d09a1e70-0983-4352-8a6d-6a4225ead221.nc to /home/nicolasf/research/CPP/indices/data/ERA5/daily/ERA5_daily_geopotential_1000_2020-02-21.nc (192.2K)\n",
      "2020-06-14 14:49:30,046 INFO Download rate 104.1K/s\n"
     ]
    },
    {
     "name": "stdout",
     "output_type": "stream",
     "text": [
      "downloading /home/nicolasf/research/CPP/indices/data/ERA5/daily/ERA5_daily_geopotential_1000_2020-02-22.nc\n"
     ]
    },
    {
     "name": "stderr",
     "output_type": "stream",
     "text": [
      "2020-06-14 14:49:31,682 INFO Welcome to the CDS\n",
      "2020-06-14 14:49:31,683 INFO Sending request to https://cds.climate.copernicus.eu/api/v2/resources/reanalysis-era5-pressure-levels\n",
      "2020-06-14 14:49:33,317 INFO Request is queued\n",
      "2020-06-14 14:49:34,603 INFO Request is running\n",
      "2020-06-14 14:49:36,491 INFO Request is completed\n",
      "2020-06-14 14:49:36,493 INFO Downloading http://136.156.133.46/cache-compute-0015/cache/data9/adaptor.mars.internal-1592102973.4636917-28062-7-44d51b04-da6a-451a-9b6d-e0912064f14e.nc to /home/nicolasf/research/CPP/indices/data/ERA5/daily/ERA5_daily_geopotential_1000_2020-02-22.nc (192.2K)\n",
      "2020-06-14 14:49:38,302 INFO Download rate 106.3K/s\n"
     ]
    },
    {
     "name": "stdout",
     "output_type": "stream",
     "text": [
      "downloading /home/nicolasf/research/CPP/indices/data/ERA5/daily/ERA5_daily_geopotential_1000_2020-02-23.nc\n"
     ]
    },
    {
     "name": "stderr",
     "output_type": "stream",
     "text": [
      "2020-06-14 14:49:39,874 INFO Welcome to the CDS\n",
      "2020-06-14 14:49:39,875 INFO Sending request to https://cds.climate.copernicus.eu/api/v2/resources/reanalysis-era5-pressure-levels\n",
      "2020-06-14 14:49:41,128 INFO Request is queued\n",
      "2020-06-14 14:49:42,432 INFO Request is completed\n",
      "2020-06-14 14:49:42,433 INFO Downloading http://136.156.132.153/cache-compute-0002/cache/data7/adaptor.mars.internal-1592102981.2265165-30859-5-3bef431c-c599-43a1-b027-d826e5898f3a.nc to /home/nicolasf/research/CPP/indices/data/ERA5/daily/ERA5_daily_geopotential_1000_2020-02-23.nc (192.2K)\n",
      "2020-06-14 14:49:44,278 INFO Download rate 104.2K/s\n"
     ]
    },
    {
     "name": "stdout",
     "output_type": "stream",
     "text": [
      "downloading /home/nicolasf/research/CPP/indices/data/ERA5/daily/ERA5_daily_geopotential_1000_2020-02-24.nc\n"
     ]
    },
    {
     "name": "stderr",
     "output_type": "stream",
     "text": [
      "2020-06-14 14:49:47,451 INFO Welcome to the CDS\n",
      "2020-06-14 14:49:47,452 INFO Sending request to https://cds.climate.copernicus.eu/api/v2/resources/reanalysis-era5-pressure-levels\n",
      "2020-06-14 14:49:48,769 INFO Request is queued\n",
      "2020-06-14 14:49:50,111 INFO Request is completed\n",
      "2020-06-14 14:49:50,113 INFO Downloading http://136.156.133.32/cache-compute-0009/cache/data8/adaptor.mars.internal-1592102988.8346481-23734-5-ec4c8725-7337-4215-8157-ee507ff741a0.nc to /home/nicolasf/research/CPP/indices/data/ERA5/daily/ERA5_daily_geopotential_1000_2020-02-24.nc (192.2K)\n",
      "2020-06-14 14:49:51,959 INFO Download rate 104.2K/s\n"
     ]
    },
    {
     "name": "stdout",
     "output_type": "stream",
     "text": [
      "downloading /home/nicolasf/research/CPP/indices/data/ERA5/daily/ERA5_daily_geopotential_1000_2020-02-25.nc\n"
     ]
    },
    {
     "name": "stderr",
     "output_type": "stream",
     "text": [
      "2020-06-14 14:49:53,596 INFO Welcome to the CDS\n",
      "2020-06-14 14:49:53,597 INFO Sending request to https://cds.climate.copernicus.eu/api/v2/resources/reanalysis-era5-pressure-levels\n",
      "2020-06-14 14:49:54,840 INFO Request is queued\n",
      "2020-06-14 14:49:56,152 INFO Request is running\n",
      "2020-06-14 14:49:57,995 INFO Request is completed\n",
      "2020-06-14 14:49:57,997 INFO Downloading http://136.156.133.25/cache-compute-0008/cache/data5/adaptor.mars.internal-1592102994.9412682-14810-1-01cf44a5-8156-4f78-b1a2-f88bf666ed20.nc to /home/nicolasf/research/CPP/indices/data/ERA5/daily/ERA5_daily_geopotential_1000_2020-02-25.nc (192.2K)\n",
      "2020-06-14 14:49:59,848 INFO Download rate 103.9K/s\n"
     ]
    },
    {
     "name": "stdout",
     "output_type": "stream",
     "text": [
      "downloading /home/nicolasf/research/CPP/indices/data/ERA5/daily/ERA5_daily_geopotential_1000_2020-02-26.nc\n"
     ]
    },
    {
     "name": "stderr",
     "output_type": "stream",
     "text": [
      "2020-06-14 14:50:01,481 INFO Welcome to the CDS\n",
      "2020-06-14 14:50:01,482 INFO Sending request to https://cds.climate.copernicus.eu/api/v2/resources/reanalysis-era5-pressure-levels\n",
      "2020-06-14 14:50:02,910 INFO Request is queued\n",
      "2020-06-14 14:50:04,242 INFO Request is running\n",
      "2020-06-14 14:50:06,085 INFO Request is completed\n",
      "2020-06-14 14:50:06,087 INFO Downloading http://136.156.132.110/cache-compute-0001/cache/data3/adaptor.mars.internal-1592103003.2896948-19701-7-af9d2cf4-0e63-4336-98cf-c34540baae50.nc to /home/nicolasf/research/CPP/indices/data/ERA5/daily/ERA5_daily_geopotential_1000_2020-02-26.nc (192.2K)\n",
      "2020-06-14 14:50:07,935 INFO Download rate 104.1K/s\n"
     ]
    },
    {
     "name": "stdout",
     "output_type": "stream",
     "text": [
      "downloading /home/nicolasf/research/CPP/indices/data/ERA5/daily/ERA5_daily_geopotential_1000_2020-02-27.nc\n"
     ]
    },
    {
     "name": "stderr",
     "output_type": "stream",
     "text": [
      "2020-06-14 14:50:09,570 INFO Welcome to the CDS\n",
      "2020-06-14 14:50:09,571 INFO Sending request to https://cds.climate.copernicus.eu/api/v2/resources/reanalysis-era5-pressure-levels\n",
      "2020-06-14 14:50:11,000 INFO Request is queued\n",
      "2020-06-14 14:50:12,332 INFO Request is completed\n",
      "2020-06-14 14:50:12,334 INFO Downloading http://136.156.133.25/cache-compute-0008/cache/data5/adaptor.mars.internal-1592103011.103971-14995-1-0689c5b7-a515-49e7-83fc-a6cd82585f18.nc to /home/nicolasf/research/CPP/indices/data/ERA5/daily/ERA5_daily_geopotential_1000_2020-02-27.nc (192.2K)\n",
      "2020-06-14 14:50:14,180 INFO Download rate 104.2K/s\n"
     ]
    },
    {
     "name": "stdout",
     "output_type": "stream",
     "text": [
      "downloading /home/nicolasf/research/CPP/indices/data/ERA5/daily/ERA5_daily_geopotential_1000_2020-02-28.nc\n"
     ]
    },
    {
     "name": "stderr",
     "output_type": "stream",
     "text": [
      "2020-06-14 14:50:15,817 INFO Welcome to the CDS\n",
      "2020-06-14 14:50:15,818 INFO Sending request to https://cds.climate.copernicus.eu/api/v2/resources/reanalysis-era5-pressure-levels\n",
      "2020-06-14 14:50:17,098 INFO Request is queued\n",
      "2020-06-14 14:50:18,476 INFO Request is completed\n",
      "2020-06-14 14:50:18,478 INFO Downloading http://136.156.132.236/cache-compute-0007/cache/data9/adaptor.mars.internal-1592103017.0621736-31084-3-f58f5853-2bcf-4cab-95e0-0840501ce7c8.nc to /home/nicolasf/research/CPP/indices/data/ERA5/daily/ERA5_daily_geopotential_1000_2020-02-28.nc (192.2K)\n",
      "2020-06-14 14:50:20,325 INFO Download rate 104.2K/s\n"
     ]
    },
    {
     "name": "stdout",
     "output_type": "stream",
     "text": [
      "downloading /home/nicolasf/research/CPP/indices/data/ERA5/daily/ERA5_daily_geopotential_1000_2020-02-29.nc\n"
     ]
    },
    {
     "name": "stderr",
     "output_type": "stream",
     "text": [
      "2020-06-14 14:50:21,961 INFO Welcome to the CDS\n",
      "2020-06-14 14:50:21,962 INFO Sending request to https://cds.climate.copernicus.eu/api/v2/resources/reanalysis-era5-pressure-levels\n",
      "2020-06-14 14:50:23,229 INFO Request is queued\n",
      "2020-06-14 14:50:24,620 INFO Request is completed\n",
      "2020-06-14 14:50:24,622 INFO Downloading http://136.156.133.25/cache-compute-0008/cache/data2/adaptor.mars.internal-1592103023.3185172-7193-23-868fdb5d-ac6e-4804-a4ee-dd679f59bb9b.nc to /home/nicolasf/research/CPP/indices/data/ERA5/daily/ERA5_daily_geopotential_1000_2020-02-29.nc (192.2K)\n",
      "2020-06-14 14:50:26,437 INFO Download rate 106.1K/s\n"
     ]
    },
    {
     "name": "stdout",
     "output_type": "stream",
     "text": [
      "downloading /home/nicolasf/research/CPP/indices/data/ERA5/daily/ERA5_daily_geopotential_1000_2020-03-01.nc\n"
     ]
    },
    {
     "name": "stderr",
     "output_type": "stream",
     "text": [
      "2020-06-14 14:50:28,003 INFO Welcome to the CDS\n",
      "2020-06-14 14:50:28,003 INFO Sending request to https://cds.climate.copernicus.eu/api/v2/resources/reanalysis-era5-pressure-levels\n",
      "2020-06-14 14:50:29,294 INFO Request is queued\n",
      "2020-06-14 14:50:30,662 INFO Request is running\n",
      "2020-06-14 14:50:32,504 INFO Request is completed\n",
      "2020-06-14 14:50:32,504 INFO Downloading http://136.156.132.198/cache-compute-0003/cache/data3/adaptor.mars.internal-1592103029.565931-1161-29-a579a363-f8b0-441a-9269-889fdd536c0e.nc to /home/nicolasf/research/CPP/indices/data/ERA5/daily/ERA5_daily_geopotential_1000_2020-03-01.nc (192.2K)\n",
      "2020-06-14 14:50:34,349 INFO Download rate 104.3K/s\n"
     ]
    },
    {
     "name": "stdout",
     "output_type": "stream",
     "text": [
      "downloading /home/nicolasf/research/CPP/indices/data/ERA5/daily/ERA5_daily_geopotential_1000_2020-03-02.nc\n"
     ]
    },
    {
     "name": "stderr",
     "output_type": "stream",
     "text": [
      "2020-06-14 14:50:35,990 INFO Welcome to the CDS\n",
      "2020-06-14 14:50:35,991 INFO Sending request to https://cds.climate.copernicus.eu/api/v2/resources/reanalysis-era5-pressure-levels\n",
      "2020-06-14 14:50:37,247 INFO Request is queued\n",
      "2020-06-14 14:50:38,546 INFO Request is running\n",
      "2020-06-14 14:50:40,389 INFO Request is completed\n",
      "2020-06-14 14:50:40,391 INFO Downloading http://136.156.132.153/cache-compute-0002/cache/data6/adaptor.mars.internal-1592103037.300307-30859-7-123570c5-27a7-4b9c-86c7-017abcca7658.nc to /home/nicolasf/research/CPP/indices/data/ERA5/daily/ERA5_daily_geopotential_1000_2020-03-02.nc (192.2K)\n",
      "2020-06-14 14:50:42,241 INFO Download rate 104K/s  \n"
     ]
    },
    {
     "name": "stdout",
     "output_type": "stream",
     "text": [
      "downloading /home/nicolasf/research/CPP/indices/data/ERA5/daily/ERA5_daily_geopotential_1000_2020-03-03.nc\n"
     ]
    },
    {
     "name": "stderr",
     "output_type": "stream",
     "text": [
      "2020-06-14 14:50:43,875 INFO Welcome to the CDS\n",
      "2020-06-14 14:50:43,876 INFO Sending request to https://cds.climate.copernicus.eu/api/v2/resources/reanalysis-era5-pressure-levels\n",
      "2020-06-14 14:50:45,408 INFO Request is queued\n",
      "2020-06-14 14:50:46,739 INFO Request is completed\n",
      "2020-06-14 14:50:46,740 INFO Downloading http://136.156.133.32/cache-compute-0009/cache/data4/adaptor.mars.internal-1592103045.4987607-18657-14-a7c92367-87e3-4b39-8d99-5cddc6f5f3b5.nc to /home/nicolasf/research/CPP/indices/data/ERA5/daily/ERA5_daily_geopotential_1000_2020-03-03.nc (192.2K)\n",
      "2020-06-14 14:50:48,586 INFO Download rate 104.3K/s\n"
     ]
    },
    {
     "name": "stdout",
     "output_type": "stream",
     "text": [
      "downloading /home/nicolasf/research/CPP/indices/data/ERA5/daily/ERA5_daily_geopotential_1000_2020-03-04.nc\n"
     ]
    },
    {
     "name": "stderr",
     "output_type": "stream",
     "text": [
      "2020-06-14 14:50:50,224 INFO Welcome to the CDS\n",
      "2020-06-14 14:50:50,225 INFO Sending request to https://cds.climate.copernicus.eu/api/v2/resources/reanalysis-era5-pressure-levels\n",
      "2020-06-14 14:50:51,523 INFO Request is queued\n",
      "2020-06-14 14:50:52,883 INFO Request is completed\n",
      "2020-06-14 14:50:52,884 INFO Downloading http://136.156.132.210/cache-compute-0005/cache/data7/adaptor.mars.internal-1592103051.6833687-17085-11-cbe2a641-812f-4404-9497-dc65100df68a.nc to /home/nicolasf/research/CPP/indices/data/ERA5/daily/ERA5_daily_geopotential_1000_2020-03-04.nc (192.2K)\n",
      "2020-06-14 14:50:54,733 INFO Download rate 104.1K/s\n"
     ]
    },
    {
     "name": "stdout",
     "output_type": "stream",
     "text": [
      "downloading /home/nicolasf/research/CPP/indices/data/ERA5/daily/ERA5_daily_geopotential_1000_2020-03-05.nc\n"
     ]
    },
    {
     "name": "stderr",
     "output_type": "stream",
     "text": [
      "2020-06-14 14:50:56,367 INFO Welcome to the CDS\n",
      "2020-06-14 14:50:56,368 INFO Sending request to https://cds.climate.copernicus.eu/api/v2/resources/reanalysis-era5-pressure-levels\n",
      "2020-06-14 14:50:57,618 INFO Request is queued\n",
      "2020-06-14 14:50:58,924 INFO Request is completed\n",
      "2020-06-14 14:50:58,926 INFO Downloading http://136.156.133.32/cache-compute-0009/cache/data1/adaptor.mars.internal-1592103057.7601006-17122-24-5ca9f94d-5431-4040-b866-7563b49df605.nc to /home/nicolasf/research/CPP/indices/data/ERA5/daily/ERA5_daily_geopotential_1000_2020-03-05.nc (192.2K)\n",
      "2020-06-14 14:51:00,775 INFO Download rate 104.1K/s\n"
     ]
    },
    {
     "name": "stdout",
     "output_type": "stream",
     "text": [
      "downloading /home/nicolasf/research/CPP/indices/data/ERA5/daily/ERA5_daily_geopotential_1000_2020-03-06.nc\n"
     ]
    },
    {
     "name": "stderr",
     "output_type": "stream",
     "text": [
      "2020-06-14 14:51:02,410 INFO Welcome to the CDS\n",
      "2020-06-14 14:51:02,410 INFO Sending request to https://cds.climate.copernicus.eu/api/v2/resources/reanalysis-era5-pressure-levels\n",
      "2020-06-14 14:51:03,840 INFO Request is queued\n",
      "2020-06-14 14:51:05,171 INFO Request is completed\n",
      "2020-06-14 14:51:05,173 INFO Downloading http://136.156.132.235/cache-compute-0006/cache/data4/adaptor.mars.internal-1592103063.876184-20716-5-6c60b94e-0c61-40c0-ac13-1c92bb9af170.nc to /home/nicolasf/research/CPP/indices/data/ERA5/daily/ERA5_daily_geopotential_1000_2020-03-06.nc (192.2K)\n",
      "2020-06-14 14:51:08,554 INFO Download rate 56.9K/s \n"
     ]
    },
    {
     "name": "stdout",
     "output_type": "stream",
     "text": [
      "downloading /home/nicolasf/research/CPP/indices/data/ERA5/daily/ERA5_daily_geopotential_1000_2020-03-07.nc\n"
     ]
    },
    {
     "name": "stderr",
     "output_type": "stream",
     "text": [
      "2020-06-14 14:51:10,090 INFO Welcome to the CDS\n",
      "2020-06-14 14:51:10,092 INFO Sending request to https://cds.climate.copernicus.eu/api/v2/resources/reanalysis-era5-pressure-levels\n",
      "2020-06-14 14:51:11,519 INFO Request is queued\n",
      "2020-06-14 14:51:12,850 INFO Request is completed\n",
      "2020-06-14 14:51:12,850 INFO Downloading http://136.156.132.201/cache-compute-0004/cache/data5/adaptor.mars.internal-1592103071.4804287-2345-3-37113ff9-2148-4f6d-a4d1-f39ebceea293.nc to /home/nicolasf/research/CPP/indices/data/ERA5/daily/ERA5_daily_geopotential_1000_2020-03-07.nc (192.2K)\n",
      "2020-06-14 14:51:14,701 INFO Download rate 103.9K/s\n"
     ]
    },
    {
     "name": "stdout",
     "output_type": "stream",
     "text": [
      "downloading /home/nicolasf/research/CPP/indices/data/ERA5/daily/ERA5_daily_geopotential_1000_2020-03-08.nc\n"
     ]
    },
    {
     "name": "stderr",
     "output_type": "stream",
     "text": [
      "2020-06-14 14:51:16,336 INFO Welcome to the CDS\n",
      "2020-06-14 14:51:16,336 INFO Sending request to https://cds.climate.copernicus.eu/api/v2/resources/reanalysis-era5-pressure-levels\n",
      "2020-06-14 14:51:18,074 INFO Request is queued\n",
      "2020-06-14 14:51:19,405 INFO Request is completed\n",
      "2020-06-14 14:51:19,406 INFO Downloading http://136.156.133.41/cache-compute-0013/cache/data8/adaptor.mars.internal-1592103078.2107143-30970-1-aba8ba68-5bca-4e3d-bd51-9901582c46b4.nc to /home/nicolasf/research/CPP/indices/data/ERA5/daily/ERA5_daily_geopotential_1000_2020-03-08.nc (192.2K)\n",
      "2020-06-14 14:51:21,253 INFO Download rate 104.2K/s\n"
     ]
    },
    {
     "name": "stdout",
     "output_type": "stream",
     "text": [
      "downloading /home/nicolasf/research/CPP/indices/data/ERA5/daily/ERA5_daily_geopotential_1000_2020-03-09.nc\n"
     ]
    },
    {
     "name": "stderr",
     "output_type": "stream",
     "text": [
      "2020-06-14 14:51:23,095 INFO Welcome to the CDS\n",
      "2020-06-14 14:51:23,095 INFO Sending request to https://cds.climate.copernicus.eu/api/v2/resources/reanalysis-era5-pressure-levels\n",
      "2020-06-14 14:51:24,375 INFO Request is queued\n",
      "2020-06-14 14:51:25,753 INFO Request is completed\n",
      "2020-06-14 14:51:25,755 INFO Downloading http://136.156.132.105/cache-compute-0000/cache/data4/adaptor.mars.internal-1592103084.4024248-17806-16-01db4310-2ac7-44f7-9881-69fb9a4a2620.nc to /home/nicolasf/research/CPP/indices/data/ERA5/daily/ERA5_daily_geopotential_1000_2020-03-09.nc (192.2K)\n",
      "2020-06-14 14:51:27,603 INFO Download rate 104.1K/s\n"
     ]
    },
    {
     "name": "stdout",
     "output_type": "stream",
     "text": [
      "downloading /home/nicolasf/research/CPP/indices/data/ERA5/daily/ERA5_daily_geopotential_1000_2020-03-10.nc\n"
     ]
    },
    {
     "name": "stderr",
     "output_type": "stream",
     "text": [
      "2020-06-14 14:51:29,239 INFO Welcome to the CDS\n",
      "2020-06-14 14:51:29,239 INFO Sending request to https://cds.climate.copernicus.eu/api/v2/resources/reanalysis-era5-pressure-levels\n",
      "2020-06-14 14:51:30,975 INFO Request is queued\n",
      "2020-06-14 14:51:32,307 INFO Request is running\n",
      "2020-06-14 14:51:34,150 INFO Request is completed\n",
      "2020-06-14 14:51:34,152 INFO Downloading http://136.156.132.110/cache-compute-0001/cache/data8/adaptor.mars.internal-1592103091.183303-25632-22-125c686e-8b90-4846-8bef-540bd08a44ed.nc to /home/nicolasf/research/CPP/indices/data/ERA5/daily/ERA5_daily_geopotential_1000_2020-03-10.nc (192.2K)\n",
      "2020-06-14 14:51:35,998 INFO Download rate 104.2K/s\n"
     ]
    },
    {
     "name": "stdout",
     "output_type": "stream",
     "text": [
      "downloading /home/nicolasf/research/CPP/indices/data/ERA5/daily/ERA5_daily_geopotential_1000_2020-03-11.nc\n"
     ]
    },
    {
     "name": "stderr",
     "output_type": "stream",
     "text": [
      "2020-06-14 14:51:37,636 INFO Welcome to the CDS\n",
      "2020-06-14 14:51:37,636 INFO Sending request to https://cds.climate.copernicus.eu/api/v2/resources/reanalysis-era5-pressure-levels\n",
      "2020-06-14 14:51:38,893 INFO Request is queued\n",
      "2020-06-14 14:51:40,192 INFO Request is running\n",
      "2020-06-14 14:51:42,035 INFO Request is completed\n",
      "2020-06-14 14:51:42,037 INFO Downloading http://136.156.132.110/cache-compute-0001/cache/data6/adaptor.mars.internal-1592103099.0634837-25291-25-ae5bb88f-3176-4532-af8a-89626726ed00.nc to /home/nicolasf/research/CPP/indices/data/ERA5/daily/ERA5_daily_geopotential_1000_2020-03-11.nc (192.2K)\n",
      "2020-06-14 14:51:43,884 INFO Download rate 104.2K/s\n"
     ]
    },
    {
     "name": "stdout",
     "output_type": "stream",
     "text": [
      "downloading /home/nicolasf/research/CPP/indices/data/ERA5/daily/ERA5_daily_geopotential_1000_2020-03-12.nc\n"
     ]
    },
    {
     "name": "stderr",
     "output_type": "stream",
     "text": [
      "2020-06-14 14:51:45,624 INFO Welcome to the CDS\n",
      "2020-06-14 14:51:45,624 INFO Sending request to https://cds.climate.copernicus.eu/api/v2/resources/reanalysis-era5-pressure-levels\n",
      "2020-06-14 14:51:47,155 INFO Request is queued\n",
      "2020-06-14 14:51:48,487 INFO Request is running\n",
      "2020-06-14 14:51:50,330 INFO Request is completed\n",
      "2020-06-14 14:51:50,332 INFO Downloading http://136.156.132.105/cache-compute-0000/cache/data4/adaptor.mars.internal-1592103107.2137356-10478-38-a7317f6a-a241-46c1-af32-caa9d2b66544.nc to /home/nicolasf/research/CPP/indices/data/ERA5/daily/ERA5_daily_geopotential_1000_2020-03-12.nc (192.2K)\n",
      "2020-06-14 14:51:52,178 INFO Download rate 104.2K/s\n"
     ]
    },
    {
     "name": "stdout",
     "output_type": "stream",
     "text": [
      "downloading /home/nicolasf/research/CPP/indices/data/ERA5/daily/ERA5_daily_geopotential_1000_2020-03-13.nc\n"
     ]
    },
    {
     "name": "stderr",
     "output_type": "stream",
     "text": [
      "2020-06-14 14:51:54,021 INFO Welcome to the CDS\n",
      "2020-06-14 14:51:54,021 INFO Sending request to https://cds.climate.copernicus.eu/api/v2/resources/reanalysis-era5-pressure-levels\n",
      "2020-06-14 14:51:56,064 INFO Request is queued\n",
      "2020-06-14 14:51:57,396 INFO Request is running\n",
      "2020-06-14 14:51:59,239 INFO Request is completed\n",
      "2020-06-14 14:51:59,241 INFO Downloading http://136.156.133.25/cache-compute-0008/cache/data3/adaptor.mars.internal-1592103116.3135226-20554-26-2662768b-ea95-429c-ba68-d431336666e0.nc to /home/nicolasf/research/CPP/indices/data/ERA5/daily/ERA5_daily_geopotential_1000_2020-03-13.nc (192.2K)\n",
      "2020-06-14 14:52:01,091 INFO Download rate 104K/s  \n"
     ]
    },
    {
     "name": "stdout",
     "output_type": "stream",
     "text": [
      "downloading /home/nicolasf/research/CPP/indices/data/ERA5/daily/ERA5_daily_geopotential_1000_2020-03-14.nc\n"
     ]
    },
    {
     "name": "stderr",
     "output_type": "stream",
     "text": [
      "2020-06-14 14:52:02,724 INFO Welcome to the CDS\n",
      "2020-06-14 14:52:02,725 INFO Sending request to https://cds.climate.copernicus.eu/api/v2/resources/reanalysis-era5-pressure-levels\n",
      "2020-06-14 14:52:04,359 INFO Request is queued\n",
      "2020-06-14 14:52:05,690 INFO Request is running\n",
      "2020-06-14 14:52:07,534 INFO Request is completed\n",
      "2020-06-14 14:52:07,535 INFO Downloading http://136.156.133.41/cache-compute-0013/cache/data8/adaptor.mars.internal-1592103124.6808941-30153-7-e6a13898-e147-4035-a90a-d3ddecc640e3.nc to /home/nicolasf/research/CPP/indices/data/ERA5/daily/ERA5_daily_geopotential_1000_2020-03-14.nc (192.2K)\n",
      "2020-06-14 14:52:09,383 INFO Download rate 104.2K/s\n"
     ]
    },
    {
     "name": "stdout",
     "output_type": "stream",
     "text": [
      "downloading /home/nicolasf/research/CPP/indices/data/ERA5/daily/ERA5_daily_geopotential_1000_2020-03-15.nc\n"
     ]
    },
    {
     "name": "stderr",
     "output_type": "stream",
     "text": [
      "2020-06-14 14:52:11,429 INFO Welcome to the CDS\n",
      "2020-06-14 14:52:11,429 INFO Sending request to https://cds.climate.copernicus.eu/api/v2/resources/reanalysis-era5-pressure-levels\n",
      "2020-06-14 14:52:17,569 INFO Request is queued\n",
      "2020-06-14 14:52:18,900 INFO Request is completed\n",
      "2020-06-14 14:52:18,902 INFO Downloading http://136.156.133.46/cache-compute-0015/cache/data3/adaptor.mars.internal-1592103137.4468167-28062-14-279de1f2-d35e-4450-8ec0-61aa004a855c.nc to /home/nicolasf/research/CPP/indices/data/ERA5/daily/ERA5_daily_geopotential_1000_2020-03-15.nc (192.2K)\n",
      "2020-06-14 14:52:20,753 INFO Download rate 103.9K/s\n"
     ]
    },
    {
     "name": "stdout",
     "output_type": "stream",
     "text": [
      "downloading /home/nicolasf/research/CPP/indices/data/ERA5/daily/ERA5_daily_geopotential_1000_2020-03-16.nc\n"
     ]
    },
    {
     "name": "stderr",
     "output_type": "stream",
     "text": [
      "2020-06-14 14:52:22,795 INFO Welcome to the CDS\n",
      "2020-06-14 14:52:22,796 INFO Sending request to https://cds.climate.copernicus.eu/api/v2/resources/reanalysis-era5-pressure-levels\n",
      "2020-06-14 14:52:24,224 INFO Request is queued\n",
      "2020-06-14 14:52:25,556 INFO Request is completed\n",
      "2020-06-14 14:52:25,559 INFO Downloading http://136.156.132.153/cache-compute-0002/cache/data8/adaptor.mars.internal-1592103144.3858907-30859-12-1f3b3c29-a10b-4409-b333-914585c019ac.nc to /home/nicolasf/research/CPP/indices/data/ERA5/daily/ERA5_daily_geopotential_1000_2020-03-16.nc (192.2K)\n",
      "2020-06-14 14:52:27,101 INFO Download rate 124.8K/s\n"
     ]
    },
    {
     "name": "stdout",
     "output_type": "stream",
     "text": [
      "downloading /home/nicolasf/research/CPP/indices/data/ERA5/daily/ERA5_daily_geopotential_1000_2020-03-17.nc\n"
     ]
    },
    {
     "name": "stderr",
     "output_type": "stream",
     "text": [
      "2020-06-14 14:52:28,734 INFO Welcome to the CDS\n",
      "2020-06-14 14:52:28,734 INFO Sending request to https://cds.climate.copernicus.eu/api/v2/resources/reanalysis-era5-pressure-levels\n",
      "2020-06-14 14:52:30,010 INFO Request is queued\n",
      "2020-06-14 14:52:31,296 INFO Request is running\n",
      "2020-06-14 14:52:33,134 INFO Request is completed\n",
      "2020-06-14 14:52:33,136 INFO Downloading http://136.156.133.39/cache-compute-0012/cache/data3/adaptor.mars.internal-1592103150.482337-31875-24-c708b69e-7211-48fe-bea3-39f17fbe92c2.nc to /home/nicolasf/research/CPP/indices/data/ERA5/daily/ERA5_daily_geopotential_1000_2020-03-17.nc (192.2K)\n",
      "2020-06-14 14:52:34,978 INFO Download rate 104.5K/s\n"
     ]
    },
    {
     "name": "stdout",
     "output_type": "stream",
     "text": [
      "downloading /home/nicolasf/research/CPP/indices/data/ERA5/daily/ERA5_daily_geopotential_1000_2020-03-18.nc\n"
     ]
    },
    {
     "name": "stderr",
     "output_type": "stream",
     "text": [
      "2020-06-14 14:52:36,619 INFO Welcome to the CDS\n",
      "2020-06-14 14:52:36,619 INFO Sending request to https://cds.climate.copernicus.eu/api/v2/resources/reanalysis-era5-pressure-levels\n",
      "2020-06-14 14:52:37,847 INFO Request is queued\n",
      "2020-06-14 14:52:39,175 INFO Request is running\n",
      "2020-06-14 14:52:41,019 INFO Request is completed\n",
      "2020-06-14 14:52:41,021 INFO Downloading http://136.156.132.198/cache-compute-0003/cache/data6/adaptor.mars.internal-1592103158.2124639-1228-35-dd3e6b8c-c172-457b-a3c8-99ba63e48105.nc to /home/nicolasf/research/CPP/indices/data/ERA5/daily/ERA5_daily_geopotential_1000_2020-03-18.nc (192.2K)\n",
      "2020-06-14 14:52:42,866 INFO Download rate 104.2K/s\n"
     ]
    },
    {
     "name": "stdout",
     "output_type": "stream",
     "text": [
      "downloading /home/nicolasf/research/CPP/indices/data/ERA5/daily/ERA5_daily_geopotential_1000_2020-03-19.nc\n"
     ]
    },
    {
     "name": "stderr",
     "output_type": "stream",
     "text": [
      "2020-06-14 14:52:44,606 INFO Welcome to the CDS\n",
      "2020-06-14 14:52:44,607 INFO Sending request to https://cds.climate.copernicus.eu/api/v2/resources/reanalysis-era5-pressure-levels\n",
      "2020-06-14 14:52:46,139 INFO Request is queued\n",
      "2020-06-14 14:52:47,470 INFO Request is running\n",
      "2020-06-14 14:52:49,313 INFO Request is completed\n",
      "2020-06-14 14:52:49,315 INFO Downloading http://136.156.132.201/cache-compute-0004/cache/data7/adaptor.mars.internal-1592103166.0144744-27075-27-a873d9c6-903e-496c-aa60-b13c6b1b425a.nc to /home/nicolasf/research/CPP/indices/data/ERA5/daily/ERA5_daily_geopotential_1000_2020-03-19.nc (192.2K)\n",
      "2020-06-14 14:52:51,161 INFO Download rate 104.2K/s\n"
     ]
    },
    {
     "name": "stdout",
     "output_type": "stream",
     "text": [
      "downloading /home/nicolasf/research/CPP/indices/data/ERA5/daily/ERA5_daily_geopotential_1000_2020-03-20.nc\n"
     ]
    },
    {
     "name": "stderr",
     "output_type": "stream",
     "text": [
      "2020-06-14 14:52:52,798 INFO Welcome to the CDS\n",
      "2020-06-14 14:52:52,799 INFO Sending request to https://cds.climate.copernicus.eu/api/v2/resources/reanalysis-era5-pressure-levels\n",
      "2020-06-14 14:52:54,228 INFO Request is queued\n",
      "2020-06-14 14:52:55,559 INFO Request is running\n",
      "2020-06-14 14:52:57,402 INFO Request is completed\n",
      "2020-06-14 14:52:57,405 INFO Downloading http://136.156.133.41/cache-compute-0013/cache/data8/adaptor.mars.internal-1592103174.5022645-30483-7-8051d18a-d2e6-45dd-b515-4ed02032ca4f.nc to /home/nicolasf/research/CPP/indices/data/ERA5/daily/ERA5_daily_geopotential_1000_2020-03-20.nc (192.2K)\n",
      "2020-06-14 14:52:59,254 INFO Download rate 104.1K/s\n"
     ]
    },
    {
     "name": "stdout",
     "output_type": "stream",
     "text": [
      "downloading /home/nicolasf/research/CPP/indices/data/ERA5/daily/ERA5_daily_geopotential_1000_2020-03-21.nc\n"
     ]
    },
    {
     "name": "stderr",
     "output_type": "stream",
     "text": [
      "2020-06-14 14:53:00,889 INFO Welcome to the CDS\n",
      "2020-06-14 14:53:00,889 INFO Sending request to https://cds.climate.copernicus.eu/api/v2/resources/reanalysis-era5-pressure-levels\n",
      "2020-06-14 14:53:02,318 INFO Request is queued\n",
      "2020-06-14 14:53:03,650 INFO Request is completed\n",
      "2020-06-14 14:53:03,651 INFO Downloading http://136.156.133.42/cache-compute-0014/cache/data1/adaptor.mars.internal-1592103182.4595878-29953-9-ef087978-798e-4bfd-b282-e37218efbc1e.nc to /home/nicolasf/research/CPP/indices/data/ERA5/daily/ERA5_daily_geopotential_1000_2020-03-21.nc (192.2K)\n",
      "2020-06-14 14:53:05,466 INFO Download rate 106K/s  \n"
     ]
    },
    {
     "name": "stdout",
     "output_type": "stream",
     "text": [
      "downloading /home/nicolasf/research/CPP/indices/data/ERA5/daily/ERA5_daily_geopotential_1000_2020-03-22.nc\n"
     ]
    },
    {
     "name": "stderr",
     "output_type": "stream",
     "text": [
      "2020-06-14 14:53:07,134 INFO Welcome to the CDS\n",
      "2020-06-14 14:53:07,135 INFO Sending request to https://cds.climate.copernicus.eu/api/v2/resources/reanalysis-era5-pressure-levels\n",
      "2020-06-14 14:53:08,667 INFO Request is queued\n",
      "2020-06-14 14:53:09,998 INFO Request is completed\n",
      "2020-06-14 14:53:10,000 INFO Downloading http://136.156.132.110/cache-compute-0001/cache/data1/adaptor.mars.internal-1592103188.5770068-32299-9-476f320c-60c0-4c62-b34e-da495862a123.nc to /home/nicolasf/research/CPP/indices/data/ERA5/daily/ERA5_daily_geopotential_1000_2020-03-22.nc (192.2K)\n",
      "2020-06-14 14:53:11,847 INFO Download rate 104.2K/s\n"
     ]
    },
    {
     "name": "stdout",
     "output_type": "stream",
     "text": [
      "downloading /home/nicolasf/research/CPP/indices/data/ERA5/daily/ERA5_daily_geopotential_1000_2020-03-23.nc\n"
     ]
    },
    {
     "name": "stderr",
     "output_type": "stream",
     "text": [
      "2020-06-14 14:53:14,098 INFO Welcome to the CDS\n",
      "2020-06-14 14:53:14,099 INFO Sending request to https://cds.climate.copernicus.eu/api/v2/resources/reanalysis-era5-pressure-levels\n",
      "2020-06-14 14:53:15,353 INFO Request is queued\n",
      "2020-06-14 14:53:18,497 INFO Request is completed\n",
      "2020-06-14 14:53:18,499 INFO Downloading http://136.156.133.42/cache-compute-0014/cache/data0/adaptor.mars.internal-1592103196.9552133-23249-24-e0bfc263-ad4a-44d2-901c-0d2a5eb56465.nc to /home/nicolasf/research/CPP/indices/data/ERA5/daily/ERA5_daily_geopotential_1000_2020-03-23.nc (192.2K)\n",
      "2020-06-14 14:53:20,347 INFO Download rate 104.1K/s\n"
     ]
    },
    {
     "name": "stdout",
     "output_type": "stream",
     "text": [
      "downloading /home/nicolasf/research/CPP/indices/data/ERA5/daily/ERA5_daily_geopotential_1000_2020-03-24.nc\n"
     ]
    },
    {
     "name": "stderr",
     "output_type": "stream",
     "text": [
      "2020-06-14 14:53:22,393 INFO Welcome to the CDS\n",
      "2020-06-14 14:53:22,394 INFO Sending request to https://cds.climate.copernicus.eu/api/v2/resources/reanalysis-era5-pressure-levels\n",
      "2020-06-14 14:53:23,925 INFO Request is queued\n",
      "2020-06-14 14:53:25,256 INFO Request is running\n",
      "2020-06-14 14:53:27,099 INFO Request is completed\n",
      "2020-06-14 14:53:27,102 INFO Downloading http://136.156.133.41/cache-compute-0013/cache/data8/adaptor.mars.internal-1592103204.4469485-31372-3-d3452cd1-513f-4d7d-a7e6-31060af8e28f.nc to /home/nicolasf/research/CPP/indices/data/ERA5/daily/ERA5_daily_geopotential_1000_2020-03-24.nc (192.2K)\n",
      "2020-06-14 14:53:28,950 INFO Download rate 104.1K/s\n"
     ]
    },
    {
     "name": "stdout",
     "output_type": "stream",
     "text": [
      "downloading /home/nicolasf/research/CPP/indices/data/ERA5/daily/ERA5_daily_geopotential_1000_2020-03-25.nc\n"
     ]
    },
    {
     "name": "stderr",
     "output_type": "stream",
     "text": [
      "2020-06-14 14:53:30,584 INFO Welcome to the CDS\n",
      "2020-06-14 14:53:30,585 INFO Sending request to https://cds.climate.copernicus.eu/api/v2/resources/reanalysis-era5-pressure-levels\n",
      "2020-06-14 14:53:33,448 INFO Request is queued\n",
      "2020-06-14 14:53:34,780 INFO Request is running\n",
      "2020-06-14 14:53:36,567 INFO Request is completed\n",
      "2020-06-14 14:53:36,569 INFO Downloading http://136.156.132.210/cache-compute-0005/cache/data7/adaptor.mars.internal-1592103213.4080443-12218-11-b3c4832d-414e-4e00-8101-751772343874.nc to /home/nicolasf/research/CPP/indices/data/ERA5/daily/ERA5_daily_geopotential_1000_2020-03-25.nc (192.2K)\n",
      "2020-06-14 14:53:38,333 INFO Download rate 109.1K/s\n"
     ]
    },
    {
     "name": "stdout",
     "output_type": "stream",
     "text": [
      "downloading /home/nicolasf/research/CPP/indices/data/ERA5/daily/ERA5_daily_geopotential_1000_2020-03-26.nc\n"
     ]
    },
    {
     "name": "stderr",
     "output_type": "stream",
     "text": [
      "2020-06-14 14:53:40,620 INFO Welcome to the CDS\n",
      "2020-06-14 14:53:40,621 INFO Sending request to https://cds.climate.copernicus.eu/api/v2/resources/reanalysis-era5-pressure-levels\n",
      "2020-06-14 14:53:42,050 INFO Request is queued\n",
      "2020-06-14 14:53:43,381 INFO Request is completed\n",
      "2020-06-14 14:53:43,383 INFO Downloading http://136.156.132.110/cache-compute-0001/cache/data5/adaptor.mars.internal-1592103221.9062269-26030-24-55b63c49-b3de-413b-964b-a2a9d7087c70.nc to /home/nicolasf/research/CPP/indices/data/ERA5/daily/ERA5_daily_geopotential_1000_2020-03-26.nc (192.2K)\n",
      "2020-06-14 14:53:45,338 INFO Download rate 98.4K/s \n"
     ]
    },
    {
     "name": "stdout",
     "output_type": "stream",
     "text": [
      "downloading /home/nicolasf/research/CPP/indices/data/ERA5/daily/ERA5_daily_geopotential_1000_2020-03-27.nc\n"
     ]
    },
    {
     "name": "stderr",
     "output_type": "stream",
     "text": [
      "2020-06-14 14:53:47,481 INFO Welcome to the CDS\n",
      "2020-06-14 14:53:47,482 INFO Sending request to https://cds.climate.copernicus.eu/api/v2/resources/reanalysis-era5-pressure-levels\n",
      "2020-06-14 14:54:08,166 INFO Request is queued\n",
      "2020-06-14 14:54:09,493 INFO Request is running\n",
      "2020-06-14 14:54:13,899 INFO Request is completed\n",
      "2020-06-14 14:54:13,901 INFO Downloading http://136.156.132.198/cache-compute-0003/cache/data0/adaptor.mars.internal-1592103249.276867-11173-9-c0d90316-8509-48e0-91de-fc7885e6cfe7.nc to /home/nicolasf/research/CPP/indices/data/ERA5/daily/ERA5_daily_geopotential_1000_2020-03-27.nc (192.2K)\n",
      "2020-06-14 14:54:15,747 INFO Download rate 104.2K/s\n"
     ]
    },
    {
     "name": "stdout",
     "output_type": "stream",
     "text": [
      "downloading /home/nicolasf/research/CPP/indices/data/ERA5/daily/ERA5_daily_geopotential_1000_2020-03-28.nc\n"
     ]
    },
    {
     "name": "stderr",
     "output_type": "stream",
     "text": [
      "2020-06-14 14:54:17,382 INFO Welcome to the CDS\n",
      "2020-06-14 14:54:17,383 INFO Sending request to https://cds.climate.copernicus.eu/api/v2/resources/reanalysis-era5-pressure-levels\n",
      "2020-06-14 14:54:18,679 INFO Request is queued\n",
      "2020-06-14 14:54:20,041 INFO Request is running\n",
      "2020-06-14 14:54:21,884 INFO Request is completed\n",
      "2020-06-14 14:54:21,886 INFO Downloading http://136.156.133.39/cache-compute-0012/cache/data4/adaptor.mars.internal-1592103258.9828413-24111-7-8d175f36-3a32-486a-957f-0fca13a41fe7.nc to /home/nicolasf/research/CPP/indices/data/ERA5/daily/ERA5_daily_geopotential_1000_2020-03-28.nc (192.2K)\n",
      "2020-06-14 14:54:23,732 INFO Download rate 104.3K/s\n"
     ]
    },
    {
     "name": "stdout",
     "output_type": "stream",
     "text": [
      "downloading /home/nicolasf/research/CPP/indices/data/ERA5/daily/ERA5_daily_geopotential_1000_2020-03-29.nc\n"
     ]
    },
    {
     "name": "stderr",
     "output_type": "stream",
     "text": [
      "2020-06-14 14:54:25,471 INFO Welcome to the CDS\n",
      "2020-06-14 14:54:25,472 INFO Sending request to https://cds.climate.copernicus.eu/api/v2/resources/reanalysis-era5-pressure-levels\n",
      "2020-06-14 14:54:26,757 INFO Request is queued\n",
      "2020-06-14 14:54:28,132 INFO Request is running\n",
      "2020-06-14 14:54:29,974 INFO Request is completed\n",
      "2020-06-14 14:54:29,976 INFO Downloading http://136.156.133.25/cache-compute-0008/cache/data6/adaptor.mars.internal-1592103267.016524-13095-18-b421c676-93af-4913-a6d9-9428577c9188.nc to /home/nicolasf/research/CPP/indices/data/ERA5/daily/ERA5_daily_geopotential_1000_2020-03-29.nc (192.2K)\n",
      "2020-06-14 14:54:31,824 INFO Download rate 104.1K/s\n"
     ]
    },
    {
     "name": "stdout",
     "output_type": "stream",
     "text": [
      "downloading /home/nicolasf/research/CPP/indices/data/ERA5/daily/ERA5_daily_geopotential_1000_2020-03-30.nc\n"
     ]
    },
    {
     "name": "stderr",
     "output_type": "stream",
     "text": [
      "2020-06-14 14:54:33,561 INFO Welcome to the CDS\n",
      "2020-06-14 14:54:33,562 INFO Sending request to https://cds.climate.copernicus.eu/api/v2/resources/reanalysis-era5-pressure-levels\n",
      "2020-06-14 14:54:34,890 INFO Request is queued\n",
      "2020-06-14 14:54:36,220 INFO Request is completed\n",
      "2020-06-14 14:54:36,222 INFO Downloading http://136.156.133.37/cache-compute-0011/cache/data6/adaptor.mars.internal-1592103274.984285-31651-5-8042b8b6-b2a0-42c9-b636-3bf4f419341b.nc to /home/nicolasf/research/CPP/indices/data/ERA5/daily/ERA5_daily_geopotential_1000_2020-03-30.nc (192.2K)\n",
      "2020-06-14 14:54:38,374 INFO Download rate 89.4K/s \n"
     ]
    },
    {
     "name": "stdout",
     "output_type": "stream",
     "text": [
      "downloading /home/nicolasf/research/CPP/indices/data/ERA5/daily/ERA5_daily_geopotential_1000_2020-03-31.nc\n"
     ]
    },
    {
     "name": "stderr",
     "output_type": "stream",
     "text": [
      "2020-06-14 14:54:40,013 INFO Welcome to the CDS\n",
      "2020-06-14 14:54:40,014 INFO Sending request to https://cds.climate.copernicus.eu/api/v2/resources/reanalysis-era5-pressure-levels\n",
      "2020-06-14 14:54:41,308 INFO Request is queued\n",
      "2020-06-14 14:54:42,672 INFO Request is running\n",
      "2020-06-14 14:54:44,515 INFO Request is completed\n",
      "2020-06-14 14:54:44,517 INFO Downloading http://136.156.132.236/cache-compute-0007/cache/data4/adaptor.mars.internal-1592103281.5397036-24664-28-d53cb6a2-df07-4b89-9a5d-5ac15a747bc1.nc to /home/nicolasf/research/CPP/indices/data/ERA5/daily/ERA5_daily_geopotential_1000_2020-03-31.nc (192.2K)\n",
      "2020-06-14 14:54:46,363 INFO Download rate 104.3K/s\n"
     ]
    },
    {
     "name": "stdout",
     "output_type": "stream",
     "text": [
      "downloading /home/nicolasf/research/CPP/indices/data/ERA5/daily/ERA5_daily_geopotential_1000_2020-04-01.nc\n"
     ]
    },
    {
     "name": "stderr",
     "output_type": "stream",
     "text": [
      "2020-06-14 14:54:48,000 INFO Welcome to the CDS\n",
      "2020-06-14 14:54:48,001 INFO Sending request to https://cds.climate.copernicus.eu/api/v2/resources/reanalysis-era5-pressure-levels\n",
      "2020-06-14 14:54:49,295 INFO Request is queued\n",
      "2020-06-14 14:54:50,660 INFO Request is completed\n",
      "2020-06-14 14:54:50,662 INFO Downloading http://136.156.133.41/cache-compute-0013/cache/data0/adaptor.mars.internal-1592103289.2625682-29603-10-a084172f-13a2-4d4a-b6af-68a243c28f36.nc to /home/nicolasf/research/CPP/indices/data/ERA5/daily/ERA5_daily_geopotential_1000_2020-04-01.nc (192.2K)\n",
      "2020-06-14 14:54:52,477 INFO Download rate 106K/s  \n"
     ]
    },
    {
     "name": "stdout",
     "output_type": "stream",
     "text": [
      "downloading /home/nicolasf/research/CPP/indices/data/ERA5/daily/ERA5_daily_geopotential_1000_2020-04-02.nc\n"
     ]
    },
    {
     "name": "stderr",
     "output_type": "stream",
     "text": [
      "2020-06-14 14:54:54,144 INFO Welcome to the CDS\n",
      "2020-06-14 14:54:54,145 INFO Sending request to https://cds.climate.copernicus.eu/api/v2/resources/reanalysis-era5-pressure-levels\n",
      "2020-06-14 14:54:55,436 INFO Request is queued\n",
      "2020-06-14 14:54:56,803 INFO Request is running\n",
      "2020-06-14 14:54:58,646 INFO Request is completed\n",
      "2020-06-14 14:54:58,648 INFO Downloading http://136.156.133.42/cache-compute-0014/cache/data2/adaptor.mars.internal-1592103295.3723447-19008-34-adb73fa2-cfc9-49ce-bebb-6fcb80cd4841.nc to /home/nicolasf/research/CPP/indices/data/ERA5/daily/ERA5_daily_geopotential_1000_2020-04-02.nc (192.2K)\n",
      "2020-06-14 14:55:00,494 INFO Download rate 104.3K/s\n"
     ]
    },
    {
     "name": "stdout",
     "output_type": "stream",
     "text": [
      "downloading /home/nicolasf/research/CPP/indices/data/ERA5/daily/ERA5_daily_geopotential_1000_2020-04-03.nc\n"
     ]
    },
    {
     "name": "stderr",
     "output_type": "stream",
     "text": [
      "2020-06-14 14:55:02,132 INFO Welcome to the CDS\n",
      "2020-06-14 14:55:02,133 INFO Sending request to https://cds.climate.copernicus.eu/api/v2/resources/reanalysis-era5-pressure-levels\n",
      "2020-06-14 14:55:03,561 INFO Request is queued\n",
      "2020-06-14 14:55:04,893 INFO Request is running\n",
      "2020-06-14 14:55:06,736 INFO Request is completed\n",
      "2020-06-14 14:55:06,738 INFO Downloading http://136.156.132.236/cache-compute-0007/cache/data9/adaptor.mars.internal-1592103303.7398555-23834-35-628bde11-d208-484d-b234-36eba24063a5.nc to /home/nicolasf/research/CPP/indices/data/ERA5/daily/ERA5_daily_geopotential_1000_2020-04-03.nc (192.2K)\n",
      "2020-06-14 14:55:08,586 INFO Download rate 104.1K/s\n"
     ]
    },
    {
     "name": "stdout",
     "output_type": "stream",
     "text": [
      "downloading /home/nicolasf/research/CPP/indices/data/ERA5/daily/ERA5_daily_geopotential_1000_2020-04-04.nc\n"
     ]
    },
    {
     "name": "stderr",
     "output_type": "stream",
     "text": [
      "2020-06-14 14:55:10,223 INFO Welcome to the CDS\n",
      "2020-06-14 14:55:10,224 INFO Sending request to https://cds.climate.copernicus.eu/api/v2/resources/reanalysis-era5-pressure-levels\n",
      "2020-06-14 14:55:11,651 INFO Request is queued\n",
      "2020-06-14 14:55:12,983 INFO Request is completed\n",
      "2020-06-14 14:55:12,984 INFO Downloading http://136.156.133.36/cache-compute-0010/cache/data6/adaptor.mars.internal-1592103311.7174137-5836-1-e0721fd9-981a-4310-a010-b434be563db6.nc to /home/nicolasf/research/CPP/indices/data/ERA5/daily/ERA5_daily_geopotential_1000_2020-04-04.nc (192.2K)\n",
      "2020-06-14 14:55:14,832 INFO Download rate 104.2K/s\n"
     ]
    },
    {
     "name": "stdout",
     "output_type": "stream",
     "text": [
      "downloading /home/nicolasf/research/CPP/indices/data/ERA5/daily/ERA5_daily_geopotential_1000_2020-04-05.nc\n"
     ]
    },
    {
     "name": "stderr",
     "output_type": "stream",
     "text": [
      "2020-06-14 14:55:17,389 INFO Welcome to the CDS\n",
      "2020-06-14 14:55:17,390 INFO Sending request to https://cds.climate.copernicus.eu/api/v2/resources/reanalysis-era5-pressure-levels\n",
      "2020-06-14 14:55:18,819 INFO Request is queued\n",
      "2020-06-14 14:55:20,149 INFO Request is completed\n",
      "2020-06-14 14:55:20,150 INFO Downloading http://136.156.132.201/cache-compute-0004/cache/data1/adaptor.mars.internal-1592103318.7992945-6242-35-9028e029-cb00-44d8-a331-0607b467a1be.nc to /home/nicolasf/research/CPP/indices/data/ERA5/daily/ERA5_daily_geopotential_1000_2020-04-05.nc (192.2K)\n",
      "2020-06-14 14:55:22,001 INFO Download rate 103.8K/s\n"
     ]
    },
    {
     "name": "stdout",
     "output_type": "stream",
     "text": [
      "downloading /home/nicolasf/research/CPP/indices/data/ERA5/daily/ERA5_daily_geopotential_1000_2020-04-06.nc\n"
     ]
    },
    {
     "name": "stderr",
     "output_type": "stream",
     "text": [
      "2020-06-14 14:55:23,841 INFO Welcome to the CDS\n",
      "2020-06-14 14:55:23,842 INFO Sending request to https://cds.climate.copernicus.eu/api/v2/resources/reanalysis-era5-pressure-levels\n",
      "2020-06-14 14:55:25,578 INFO Request is queued\n",
      "2020-06-14 14:55:26,909 INFO Request is running\n",
      "2020-06-14 14:55:28,752 INFO Request is completed\n",
      "2020-06-14 14:55:28,754 INFO Downloading http://136.156.133.32/cache-compute-0009/cache/data1/adaptor.mars.internal-1592103325.583168-23734-18-13221268-e8e0-4d87-9b24-c39f83bb172e.nc to /home/nicolasf/research/CPP/indices/data/ERA5/daily/ERA5_daily_geopotential_1000_2020-04-06.nc (192.2K)\n",
      "2020-06-14 14:55:30,602 INFO Download rate 104.2K/s\n"
     ]
    },
    {
     "name": "stdout",
     "output_type": "stream",
     "text": [
      "downloading /home/nicolasf/research/CPP/indices/data/ERA5/daily/ERA5_daily_geopotential_1000_2020-04-07.nc\n"
     ]
    },
    {
     "name": "stderr",
     "output_type": "stream",
     "text": [
      "2020-06-14 14:55:32,135 INFO Welcome to the CDS\n",
      "2020-06-14 14:55:32,136 INFO Sending request to https://cds.climate.copernicus.eu/api/v2/resources/reanalysis-era5-pressure-levels\n",
      "2020-06-14 14:55:33,975 INFO Request is queued\n",
      "2020-06-14 14:55:35,306 INFO Request is running\n",
      "2020-06-14 14:55:37,149 INFO Request is completed\n",
      "2020-06-14 14:55:37,152 INFO Downloading http://136.156.132.105/cache-compute-0000/cache/data0/adaptor.mars.internal-1592103334.19302-14985-29-1d3beee5-1f72-4ca1-aee6-1a6f70e8b87d.nc to /home/nicolasf/research/CPP/indices/data/ERA5/daily/ERA5_daily_geopotential_1000_2020-04-07.nc (192.2K)\n",
      "2020-06-14 14:55:38,999 INFO Download rate 104.1K/s\n"
     ]
    },
    {
     "name": "stdout",
     "output_type": "stream",
     "text": [
      "downloading /home/nicolasf/research/CPP/indices/data/ERA5/daily/ERA5_daily_geopotential_1000_2020-04-08.nc\n"
     ]
    },
    {
     "name": "stderr",
     "output_type": "stream",
     "text": [
      "2020-06-14 14:55:40,579 INFO Welcome to the CDS\n",
      "2020-06-14 14:55:40,580 INFO Sending request to https://cds.climate.copernicus.eu/api/v2/resources/reanalysis-era5-pressure-levels\n",
      "2020-06-14 14:55:42,064 INFO Request is queued\n",
      "2020-06-14 14:55:43,397 INFO Request is completed\n",
      "2020-06-14 14:55:43,399 INFO Downloading http://136.156.133.32/cache-compute-0009/cache/data8/adaptor.mars.internal-1592103342.1331103-24896-11-da77b431-c60e-4b08-b439-ee32fe0d88fb.nc to /home/nicolasf/research/CPP/indices/data/ERA5/daily/ERA5_daily_geopotential_1000_2020-04-08.nc (192.2K)\n",
      "2020-06-14 14:55:45,245 INFO Download rate 104.2K/s\n"
     ]
    },
    {
     "name": "stdout",
     "output_type": "stream",
     "text": [
      "downloading /home/nicolasf/research/CPP/indices/data/ERA5/daily/ERA5_daily_geopotential_1000_2020-04-09.nc\n"
     ]
    },
    {
     "name": "stderr",
     "output_type": "stream",
     "text": [
      "2020-06-14 14:55:46,983 INFO Welcome to the CDS\n",
      "2020-06-14 14:55:46,984 INFO Sending request to https://cds.climate.copernicus.eu/api/v2/resources/reanalysis-era5-pressure-levels\n",
      "2020-06-14 14:55:48,413 INFO Request is queued\n",
      "2020-06-14 14:55:49,745 INFO Request is running\n",
      "2020-06-14 14:55:51,691 INFO Request is completed\n",
      "2020-06-14 14:55:51,693 INFO Downloading http://136.156.133.41/cache-compute-0013/cache/data2/adaptor.mars.internal-1592103348.529739-28633-22-e8d9e319-01ce-4cc6-8d80-3f4746d52dbc.nc to /home/nicolasf/research/CPP/indices/data/ERA5/daily/ERA5_daily_geopotential_1000_2020-04-09.nc (192.2K)\n",
      "2020-06-14 14:55:53,541 INFO Download rate 104.1K/s\n"
     ]
    },
    {
     "name": "stdout",
     "output_type": "stream",
     "text": [
      "downloading /home/nicolasf/research/CPP/indices/data/ERA5/daily/ERA5_daily_geopotential_1000_2020-04-10.nc\n"
     ]
    },
    {
     "name": "stderr",
     "output_type": "stream",
     "text": [
      "2020-06-14 14:55:55,688 INFO Welcome to the CDS\n",
      "2020-06-14 14:55:55,689 INFO Sending request to https://cds.climate.copernicus.eu/api/v2/resources/reanalysis-era5-pressure-levels\n",
      "2020-06-14 14:55:57,835 INFO Request is queued\n",
      "2020-06-14 14:55:59,166 INFO Request is completed\n",
      "2020-06-14 14:55:59,167 INFO Downloading http://136.156.133.41/cache-compute-0013/cache/data4/adaptor.mars.internal-1592103357.802745-30153-16-abec17b9-f206-4724-8a8b-d34f6d54932a.nc to /home/nicolasf/research/CPP/indices/data/ERA5/daily/ERA5_daily_geopotential_1000_2020-04-10.nc (192.2K)\n",
      "2020-06-14 14:56:00,982 INFO Download rate 106K/s  \n"
     ]
    },
    {
     "name": "stdout",
     "output_type": "stream",
     "text": [
      "downloading /home/nicolasf/research/CPP/indices/data/ERA5/daily/ERA5_daily_geopotential_1000_2020-04-11.nc\n"
     ]
    },
    {
     "name": "stderr",
     "output_type": "stream",
     "text": [
      "2020-06-14 14:56:02,549 INFO Welcome to the CDS\n",
      "2020-06-14 14:56:02,550 INFO Sending request to https://cds.climate.copernicus.eu/api/v2/resources/reanalysis-era5-pressure-levels\n",
      "2020-06-14 14:56:03,778 INFO Request is queued\n",
      "2020-06-14 14:56:05,105 INFO Request is running\n",
      "2020-06-14 14:56:06,948 INFO Request is completed\n",
      "2020-06-14 14:56:06,950 INFO Downloading http://136.156.133.32/cache-compute-0009/cache/data2/adaptor.mars.internal-1592103363.973799-25737-7-8b2f7c2f-5098-4929-9900-9c051f5e67c4.nc to /home/nicolasf/research/CPP/indices/data/ERA5/daily/ERA5_daily_geopotential_1000_2020-04-11.nc (192.2K)\n",
      "2020-06-14 14:56:08,797 INFO Download rate 104.1K/s\n"
     ]
    },
    {
     "name": "stdout",
     "output_type": "stream",
     "text": [
      "downloading /home/nicolasf/research/CPP/indices/data/ERA5/daily/ERA5_daily_geopotential_1000_2020-04-12.nc\n"
     ]
    },
    {
     "name": "stderr",
     "output_type": "stream",
     "text": [
      "2020-06-14 14:56:10,430 INFO Welcome to the CDS\n",
      "2020-06-14 14:56:10,431 INFO Sending request to https://cds.climate.copernicus.eu/api/v2/resources/reanalysis-era5-pressure-levels\n",
      "2020-06-14 14:56:11,701 INFO Request is queued\n",
      "2020-06-14 14:56:13,093 INFO Request is running\n",
      "2020-06-14 14:56:14,935 INFO Request is completed\n",
      "2020-06-14 14:56:14,937 INFO Downloading http://136.156.132.105/cache-compute-0000/cache/data7/adaptor.mars.internal-1592103371.6399791-7844-31-85500710-4241-42c2-810d-8829ae921fa4.nc to /home/nicolasf/research/CPP/indices/data/ERA5/daily/ERA5_daily_geopotential_1000_2020-04-12.nc (192.2K)\n",
      "2020-06-14 14:56:16,785 INFO Download rate 104.2K/s\n"
     ]
    },
    {
     "name": "stdout",
     "output_type": "stream",
     "text": [
      "downloading /home/nicolasf/research/CPP/indices/data/ERA5/daily/ERA5_daily_geopotential_1000_2020-04-13.nc\n"
     ]
    },
    {
     "name": "stderr",
     "output_type": "stream",
     "text": [
      "2020-06-14 14:56:18,421 INFO Welcome to the CDS\n",
      "2020-06-14 14:56:18,421 INFO Sending request to https://cds.climate.copernicus.eu/api/v2/resources/reanalysis-era5-pressure-levels\n",
      "2020-06-14 14:56:23,640 INFO Request is queued\n",
      "2020-06-14 14:56:24,971 INFO Request is running\n",
      "2020-06-14 14:56:26,758 INFO Request is completed\n",
      "2020-06-14 14:56:26,760 INFO Downloading http://136.156.132.236/cache-compute-0007/cache/data8/adaptor.mars.internal-1592103383.9727225-31854-11-305ecb9d-3590-4165-aecc-78016b656afa.nc to /home/nicolasf/research/CPP/indices/data/ERA5/daily/ERA5_daily_geopotential_1000_2020-04-13.nc (192.2K)\n",
      "2020-06-14 14:56:28,562 INFO Download rate 106.7K/s\n"
     ]
    },
    {
     "name": "stdout",
     "output_type": "stream",
     "text": [
      "downloading /home/nicolasf/research/CPP/indices/data/ERA5/daily/ERA5_daily_geopotential_1000_2020-04-14.nc\n"
     ]
    },
    {
     "name": "stderr",
     "output_type": "stream",
     "text": [
      "2020-06-14 14:56:30,299 INFO Welcome to the CDS\n",
      "2020-06-14 14:56:30,300 INFO Sending request to https://cds.climate.copernicus.eu/api/v2/resources/reanalysis-era5-pressure-levels\n",
      "2020-06-14 14:56:31,729 INFO Request is queued\n",
      "2020-06-14 14:56:33,061 INFO Request is running\n",
      "2020-06-14 14:56:34,904 INFO Request is completed\n",
      "2020-06-14 14:56:34,906 INFO Downloading http://136.156.132.153/cache-compute-0002/cache/data0/adaptor.mars.internal-1592103391.9264646-1023-3-bfa9eeee-4c71-45ce-b008-db4b8750a60b.nc to /home/nicolasf/research/CPP/indices/data/ERA5/daily/ERA5_daily_geopotential_1000_2020-04-14.nc (192.2K)\n",
      "2020-06-14 14:56:36,747 INFO Download rate 104.5K/s\n"
     ]
    },
    {
     "name": "stdout",
     "output_type": "stream",
     "text": [
      "downloading /home/nicolasf/research/CPP/indices/data/ERA5/daily/ERA5_daily_geopotential_1000_2020-04-15.nc\n"
     ]
    },
    {
     "name": "stderr",
     "output_type": "stream",
     "text": [
      "2020-06-14 14:56:39,311 INFO Welcome to the CDS\n",
      "2020-06-14 14:56:39,312 INFO Sending request to https://cds.climate.copernicus.eu/api/v2/resources/reanalysis-era5-pressure-levels\n",
      "2020-06-14 14:56:40,582 INFO Request is queued\n",
      "2020-06-14 14:56:41,970 INFO Request is running\n",
      "2020-06-14 14:56:43,813 INFO Request is completed\n",
      "2020-06-14 14:56:43,814 INFO Downloading http://136.156.132.235/cache-compute-0006/cache/data7/adaptor.mars.internal-1592103400.968227-13676-13-da698458-b69c-4502-9e99-20158b21a270.nc to /home/nicolasf/research/CPP/indices/data/ERA5/daily/ERA5_daily_geopotential_1000_2020-04-15.nc (192.2K)\n",
      "2020-06-14 14:56:46,889 INFO Download rate 62.5K/s \n"
     ]
    },
    {
     "name": "stdout",
     "output_type": "stream",
     "text": [
      "downloading /home/nicolasf/research/CPP/indices/data/ERA5/daily/ERA5_daily_geopotential_1000_2020-04-16.nc\n"
     ]
    },
    {
     "name": "stderr",
     "output_type": "stream",
     "text": [
      "2020-06-14 14:56:48,730 INFO Welcome to the CDS\n",
      "2020-06-14 14:56:48,730 INFO Sending request to https://cds.climate.copernicus.eu/api/v2/resources/reanalysis-era5-pressure-levels\n",
      "2020-06-14 14:56:50,164 INFO Request is queued\n",
      "2020-06-14 14:56:51,493 INFO Request is running\n",
      "2020-06-14 14:56:53,336 INFO Request is completed\n",
      "2020-06-14 14:56:53,338 INFO Downloading http://136.156.132.210/cache-compute-0005/cache/data6/adaptor.mars.internal-1592103410.9186747-21083-5-aa70d631-0406-4836-89ea-f5bd4deb2878.nc to /home/nicolasf/research/CPP/indices/data/ERA5/daily/ERA5_daily_geopotential_1000_2020-04-16.nc (192.2K)\n",
      "2020-06-14 14:56:55,186 INFO Download rate 104.1K/s\n"
     ]
    },
    {
     "name": "stdout",
     "output_type": "stream",
     "text": [
      "downloading /home/nicolasf/research/CPP/indices/data/ERA5/daily/ERA5_daily_geopotential_1000_2020-04-17.nc\n"
     ]
    },
    {
     "name": "stderr",
     "output_type": "stream",
     "text": [
      "2020-06-14 14:56:57,231 INFO Welcome to the CDS\n",
      "2020-06-14 14:56:57,231 INFO Sending request to https://cds.climate.copernicus.eu/api/v2/resources/reanalysis-era5-pressure-levels\n",
      "2020-06-14 14:56:58,662 INFO Request is queued\n",
      "2020-06-14 14:56:59,992 INFO Request is running\n",
      "2020-06-14 14:57:01,835 INFO Request is completed\n",
      "2020-06-14 14:57:01,837 INFO Downloading http://136.156.132.210/cache-compute-0005/cache/data2/adaptor.mars.internal-1592103418.7798274-18685-18-5a55d8de-7ad1-4b58-b22d-2d8de101e75a.nc to /home/nicolasf/research/CPP/indices/data/ERA5/daily/ERA5_daily_geopotential_1000_2020-04-17.nc (192.2K)\n",
      "2020-06-14 14:57:03,685 INFO Download rate 104.1K/s\n"
     ]
    },
    {
     "name": "stdout",
     "output_type": "stream",
     "text": [
      "downloading /home/nicolasf/research/CPP/indices/data/ERA5/daily/ERA5_daily_geopotential_1000_2020-04-18.nc\n"
     ]
    },
    {
     "name": "stderr",
     "output_type": "stream",
     "text": [
      "2020-06-14 14:57:05,731 INFO Welcome to the CDS\n",
      "2020-06-14 14:57:05,731 INFO Sending request to https://cds.climate.copernicus.eu/api/v2/resources/reanalysis-era5-pressure-levels\n",
      "2020-06-14 14:57:07,264 INFO Request is queued\n",
      "2020-06-14 14:57:08,594 INFO Request is completed\n",
      "2020-06-14 14:57:08,596 INFO Downloading http://136.156.133.39/cache-compute-0012/cache/data5/adaptor.mars.internal-1592103427.2459693-23800-15-b652e343-d571-4738-87fd-bcac96899bbf.nc to /home/nicolasf/research/CPP/indices/data/ERA5/daily/ERA5_daily_geopotential_1000_2020-04-18.nc (192.2K)\n",
      "2020-06-14 14:57:10,444 INFO Download rate 104.2K/s\n"
     ]
    },
    {
     "name": "stdout",
     "output_type": "stream",
     "text": [
      "downloading /home/nicolasf/research/CPP/indices/data/ERA5/daily/ERA5_daily_geopotential_1000_2020-04-19.nc\n"
     ]
    },
    {
     "name": "stderr",
     "output_type": "stream",
     "text": [
      "2020-06-14 14:57:12,285 INFO Welcome to the CDS\n",
      "2020-06-14 14:57:12,286 INFO Sending request to https://cds.climate.copernicus.eu/api/v2/resources/reanalysis-era5-pressure-levels\n",
      "2020-06-14 14:57:15,250 INFO Request is queued\n",
      "2020-06-14 14:57:16,580 INFO Request is running\n",
      "2020-06-14 14:57:18,424 INFO Request is completed\n",
      "2020-06-14 14:57:18,427 INFO Downloading http://136.156.133.32/cache-compute-0009/cache/data6/adaptor.mars.internal-1592103436.10227-25786-9-b0862616-6174-4bd5-bb8c-1926fafe6add.nc to /home/nicolasf/research/CPP/indices/data/ERA5/daily/ERA5_daily_geopotential_1000_2020-04-19.nc (192.2K)\n",
      "2020-06-14 14:57:20,374 INFO Download rate 98.8K/s \n"
     ]
    },
    {
     "name": "stdout",
     "output_type": "stream",
     "text": [
      "downloading /home/nicolasf/research/CPP/indices/data/ERA5/daily/ERA5_daily_geopotential_1000_2020-04-20.nc\n"
     ]
    },
    {
     "name": "stderr",
     "output_type": "stream",
     "text": [
      "2020-06-14 14:57:22,012 INFO Welcome to the CDS\n",
      "2020-06-14 14:57:22,012 INFO Sending request to https://cds.climate.copernicus.eu/api/v2/resources/reanalysis-era5-pressure-levels\n",
      "2020-06-14 14:57:23,318 INFO Request is queued\n",
      "2020-06-14 14:57:24,671 INFO Request is completed\n",
      "2020-06-14 14:57:24,673 INFO Downloading http://136.156.133.25/cache-compute-0008/cache/data6/adaptor.mars.internal-1592103443.486726-14810-18-91e09404-d29e-447a-a453-17226ad5616c.nc to /home/nicolasf/research/CPP/indices/data/ERA5/daily/ERA5_daily_geopotential_1000_2020-04-20.nc (192.2K)\n",
      "2020-06-14 14:57:26,521 INFO Download rate 104.1K/s\n"
     ]
    },
    {
     "name": "stdout",
     "output_type": "stream",
     "text": [
      "downloading /home/nicolasf/research/CPP/indices/data/ERA5/daily/ERA5_daily_geopotential_1000_2020-04-21.nc\n"
     ]
    },
    {
     "name": "stderr",
     "output_type": "stream",
     "text": [
      "2020-06-14 14:57:28,156 INFO Welcome to the CDS\n",
      "2020-06-14 14:57:28,157 INFO Sending request to https://cds.climate.copernicus.eu/api/v2/resources/reanalysis-era5-pressure-levels\n",
      "2020-06-14 14:57:29,688 INFO Request is queued\n",
      "2020-06-14 14:57:31,020 INFO Request is running\n",
      "2020-06-14 14:57:32,863 INFO Request is completed\n",
      "2020-06-14 14:57:32,865 INFO Downloading http://136.156.132.198/cache-compute-0003/cache/data0/adaptor.mars.internal-1592103450.7448769-12574-9-008f6bbc-64c5-4bb2-861d-c3273a9799b8.nc to /home/nicolasf/research/CPP/indices/data/ERA5/daily/ERA5_daily_geopotential_1000_2020-04-21.nc (192.2K)\n",
      "2020-06-14 14:57:34,711 INFO Download rate 104.2K/s\n"
     ]
    },
    {
     "name": "stdout",
     "output_type": "stream",
     "text": [
      "downloading /home/nicolasf/research/CPP/indices/data/ERA5/daily/ERA5_daily_geopotential_1000_2020-04-22.nc\n"
     ]
    },
    {
     "name": "stderr",
     "output_type": "stream",
     "text": [
      "2020-06-14 14:57:36,553 INFO Welcome to the CDS\n",
      "2020-06-14 14:57:36,553 INFO Sending request to https://cds.climate.copernicus.eu/api/v2/resources/reanalysis-era5-pressure-levels\n",
      "2020-06-14 14:57:37,983 INFO Request is queued\n",
      "2020-06-14 14:57:39,314 INFO Request is running\n",
      "2020-06-14 14:57:41,157 INFO Request is completed\n",
      "2020-06-14 14:57:41,159 INFO Downloading http://136.156.132.235/cache-compute-0006/cache/data7/adaptor.mars.internal-1592103458.2547483-13860-28-0fb65755-22e2-42e7-a19c-c38c13abf83a.nc to /home/nicolasf/research/CPP/indices/data/ERA5/daily/ERA5_daily_geopotential_1000_2020-04-22.nc (192.2K)\n",
      "2020-06-14 14:57:44,645 INFO Download rate 55.2K/s \n"
     ]
    },
    {
     "name": "stdout",
     "output_type": "stream",
     "text": [
      "downloading /home/nicolasf/research/CPP/indices/data/ERA5/daily/ERA5_daily_geopotential_1000_2020-04-23.nc\n"
     ]
    },
    {
     "name": "stderr",
     "output_type": "stream",
     "text": [
      "2020-06-14 14:57:46,281 INFO Welcome to the CDS\n",
      "2020-06-14 14:57:46,282 INFO Sending request to https://cds.climate.copernicus.eu/api/v2/resources/reanalysis-era5-pressure-levels\n",
      "2020-06-14 14:57:47,711 INFO Request is queued\n",
      "2020-06-14 14:57:49,043 INFO Request is running\n",
      "2020-06-14 14:57:50,886 INFO Request is completed\n",
      "2020-06-14 14:57:50,888 INFO Downloading http://136.156.132.105/cache-compute-0000/cache/data7/adaptor.mars.internal-1592103468.0223536-15102-33-6ff9c742-dd57-4851-ab1e-cd16e3f69d2b.nc to /home/nicolasf/research/CPP/indices/data/ERA5/daily/ERA5_daily_geopotential_1000_2020-04-23.nc (192.2K)\n",
      "2020-06-14 14:57:52,736 INFO Download rate 104.1K/s\n"
     ]
    },
    {
     "name": "stdout",
     "output_type": "stream",
     "text": [
      "downloading /home/nicolasf/research/CPP/indices/data/ERA5/daily/ERA5_daily_geopotential_1000_2020-04-24.nc\n"
     ]
    },
    {
     "name": "stderr",
     "output_type": "stream",
     "text": [
      "2020-06-14 14:57:54,368 INFO Welcome to the CDS\n",
      "2020-06-14 14:57:54,368 INFO Sending request to https://cds.climate.copernicus.eu/api/v2/resources/reanalysis-era5-pressure-levels\n",
      "2020-06-14 14:57:55,639 INFO Request is queued\n",
      "2020-06-14 14:57:56,921 INFO Request is running\n",
      "2020-06-14 14:57:58,771 INFO Request is completed\n",
      "2020-06-14 14:57:58,773 INFO Downloading http://136.156.133.46/cache-compute-0015/cache/data6/adaptor.mars.internal-1592103476.0338857-29586-18-16c4979e-4d56-4a32-bc29-62d36171f013.nc to /home/nicolasf/research/CPP/indices/data/ERA5/daily/ERA5_daily_geopotential_1000_2020-04-24.nc (192.2K)\n",
      "2020-06-14 14:58:00,619 INFO Download rate 104.2K/s\n"
     ]
    },
    {
     "name": "stdout",
     "output_type": "stream",
     "text": [
      "downloading /home/nicolasf/research/CPP/indices/data/ERA5/daily/ERA5_daily_geopotential_1000_2020-04-25.nc\n"
     ]
    },
    {
     "name": "stderr",
     "output_type": "stream",
     "text": [
      "2020-06-14 14:58:02,359 INFO Welcome to the CDS\n",
      "2020-06-14 14:58:02,359 INFO Sending request to https://cds.climate.copernicus.eu/api/v2/resources/reanalysis-era5-pressure-levels\n",
      "2020-06-14 14:58:04,096 INFO Request is queued\n",
      "2020-06-14 14:58:05,427 INFO Request is running\n",
      "2020-06-14 14:58:07,270 INFO Request is completed\n",
      "2020-06-14 14:58:07,272 INFO Downloading http://136.156.132.235/cache-compute-0006/cache/data6/adaptor.mars.internal-1592103484.3464146-22178-12-a18a7ad7-b88d-4379-9fb1-ee5529efe2da.nc to /home/nicolasf/research/CPP/indices/data/ERA5/daily/ERA5_daily_geopotential_1000_2020-04-25.nc (192.2K)\n",
      "2020-06-14 14:58:10,654 INFO Download rate 56.9K/s \n"
     ]
    },
    {
     "name": "stdout",
     "output_type": "stream",
     "text": [
      "downloading /home/nicolasf/research/CPP/indices/data/ERA5/daily/ERA5_daily_geopotential_1000_2020-04-26.nc\n"
     ]
    },
    {
     "name": "stderr",
     "output_type": "stream",
     "text": [
      "2020-06-14 14:58:12,292 INFO Welcome to the CDS\n",
      "2020-06-14 14:58:12,292 INFO Sending request to https://cds.climate.copernicus.eu/api/v2/resources/reanalysis-era5-pressure-levels\n",
      "2020-06-14 14:58:13,824 INFO Request is queued\n",
      "2020-06-14 14:58:15,156 INFO Request is running\n",
      "2020-06-14 14:58:16,999 INFO Request is completed\n",
      "2020-06-14 14:58:17,000 INFO Downloading http://136.156.133.32/cache-compute-0009/cache/data1/adaptor.mars.internal-1592103494.0456626-24330-18-447022d5-95bf-4447-91b0-310acb6642ab.nc to /home/nicolasf/research/CPP/indices/data/ERA5/daily/ERA5_daily_geopotential_1000_2020-04-26.nc (192.2K)\n",
      "2020-06-14 14:58:18,846 INFO Download rate 104.2K/s\n"
     ]
    },
    {
     "name": "stdout",
     "output_type": "stream",
     "text": [
      "downloading /home/nicolasf/research/CPP/indices/data/ERA5/daily/ERA5_daily_geopotential_1000_2020-04-27.nc\n"
     ]
    },
    {
     "name": "stderr",
     "output_type": "stream",
     "text": [
      "2020-06-14 14:58:20,894 INFO Welcome to the CDS\n",
      "2020-06-14 14:58:20,894 INFO Sending request to https://cds.climate.copernicus.eu/api/v2/resources/reanalysis-era5-pressure-levels\n",
      "2020-06-14 14:58:22,190 INFO Request is queued\n",
      "2020-06-14 14:58:23,552 INFO Request is running\n",
      "2020-06-14 14:58:25,395 INFO Request is completed\n",
      "2020-06-14 14:58:25,397 INFO Downloading http://136.156.132.153/cache-compute-0002/cache/data1/adaptor.mars.internal-1592103502.3793943-24808-35-6372a6ed-00df-4bc7-83d5-533cea35ffac.nc to /home/nicolasf/research/CPP/indices/data/ERA5/daily/ERA5_daily_geopotential_1000_2020-04-27.nc (192.2K)\n",
      "2020-06-14 14:58:27,184 INFO Download rate 107.6K/s\n"
     ]
    },
    {
     "name": "stdout",
     "output_type": "stream",
     "text": [
      "downloading /home/nicolasf/research/CPP/indices/data/ERA5/daily/ERA5_daily_geopotential_1000_2020-04-28.nc\n"
     ]
    },
    {
     "name": "stderr",
     "output_type": "stream",
     "text": [
      "2020-06-14 14:58:28,880 INFO Welcome to the CDS\n",
      "2020-06-14 14:58:28,881 INFO Sending request to https://cds.climate.copernicus.eu/api/v2/resources/reanalysis-era5-pressure-levels\n",
      "2020-06-14 14:58:30,198 INFO Request is queued\n",
      "2020-06-14 14:58:31,539 INFO Request is running\n",
      "2020-06-14 14:58:33,383 INFO Request is completed\n",
      "2020-06-14 14:58:33,385 INFO Downloading http://136.156.133.32/cache-compute-0009/cache/data9/adaptor.mars.internal-1592103510.416202-19339-33-b0847838-60fe-4fec-b2f5-88cda79f2b32.nc to /home/nicolasf/research/CPP/indices/data/ERA5/daily/ERA5_daily_geopotential_1000_2020-04-28.nc (192.2K)\n",
      "2020-06-14 14:58:35,232 INFO Download rate 104.1K/s\n"
     ]
    },
    {
     "name": "stdout",
     "output_type": "stream",
     "text": [
      "downloading /home/nicolasf/research/CPP/indices/data/ERA5/daily/ERA5_daily_geopotential_1000_2020-04-29.nc\n"
     ]
    },
    {
     "name": "stderr",
     "output_type": "stream",
     "text": [
      "2020-06-14 14:58:36,966 INFO Welcome to the CDS\n",
      "2020-06-14 14:58:36,967 INFO Sending request to https://cds.climate.copernicus.eu/api/v2/resources/reanalysis-era5-pressure-levels\n",
      "2020-06-14 14:58:38,249 INFO Request is queued\n",
      "2020-06-14 14:58:39,630 INFO Request is running\n",
      "2020-06-14 14:58:41,472 INFO Request is completed\n",
      "2020-06-14 14:58:41,475 INFO Downloading http://136.156.132.110/cache-compute-0001/cache/data5/adaptor.mars.internal-1592103519.341032-31873-25-822d5fb4-78d0-4d33-a18b-92c326bc9119.nc to /home/nicolasf/research/CPP/indices/data/ERA5/daily/ERA5_daily_geopotential_1000_2020-04-29.nc (192.2K)\n",
      "2020-06-14 14:58:43,322 INFO Download rate 104.1K/s\n"
     ]
    },
    {
     "name": "stdout",
     "output_type": "stream",
     "text": [
      "downloading /home/nicolasf/research/CPP/indices/data/ERA5/daily/ERA5_daily_geopotential_1000_2020-04-30.nc\n"
     ]
    },
    {
     "name": "stderr",
     "output_type": "stream",
     "text": [
      "2020-06-14 14:58:44,958 INFO Welcome to the CDS\n",
      "2020-06-14 14:58:44,958 INFO Sending request to https://cds.climate.copernicus.eu/api/v2/resources/reanalysis-era5-pressure-levels\n",
      "2020-06-14 14:58:46,387 INFO Request is queued\n",
      "2020-06-14 14:58:47,719 INFO Request is running\n",
      "2020-06-14 14:58:49,562 INFO Request is completed\n",
      "2020-06-14 14:58:49,564 INFO Downloading http://136.156.133.41/cache-compute-0013/cache/data2/adaptor.mars.internal-1592103526.8881457-30483-20-b909166e-b1eb-4c3c-a91e-c096944983e3.nc to /home/nicolasf/research/CPP/indices/data/ERA5/daily/ERA5_daily_geopotential_1000_2020-04-30.nc (192.2K)\n",
      "2020-06-14 14:58:51,411 INFO Download rate 104.1K/s\n"
     ]
    },
    {
     "name": "stdout",
     "output_type": "stream",
     "text": [
      "downloading /home/nicolasf/research/CPP/indices/data/ERA5/daily/ERA5_daily_geopotential_1000_2020-05-01.nc\n"
     ]
    },
    {
     "name": "stderr",
     "output_type": "stream",
     "text": [
      "2020-06-14 14:58:53,048 INFO Welcome to the CDS\n",
      "2020-06-14 14:58:53,048 INFO Sending request to https://cds.climate.copernicus.eu/api/v2/resources/reanalysis-era5-pressure-levels\n",
      "2020-06-14 14:58:54,477 INFO Request is queued\n",
      "2020-06-14 14:58:55,808 INFO Request is completed\n",
      "2020-06-14 14:58:55,810 INFO Downloading http://136.156.132.201/cache-compute-0004/cache/data6/adaptor.mars.internal-1592103534.4470787-2345-17-822b2cf0-4fc8-4656-a7c8-577032ec8712.nc to /home/nicolasf/research/CPP/indices/data/ERA5/daily/ERA5_daily_geopotential_1000_2020-05-01.nc (192.2K)\n",
      "2020-06-14 14:58:57,657 INFO Download rate 104.2K/s\n"
     ]
    },
    {
     "name": "stdout",
     "output_type": "stream",
     "text": [
      "downloading /home/nicolasf/research/CPP/indices/data/ERA5/daily/ERA5_daily_geopotential_1000_2020-05-02.nc\n"
     ]
    },
    {
     "name": "stderr",
     "output_type": "stream",
     "text": [
      "2020-06-14 14:58:59,394 INFO Welcome to the CDS\n",
      "2020-06-14 14:58:59,395 INFO Sending request to https://cds.climate.copernicus.eu/api/v2/resources/reanalysis-era5-pressure-levels\n",
      "2020-06-14 14:59:00,928 INFO Request is queued\n",
      "2020-06-14 14:59:02,260 INFO Request is running\n",
      "2020-06-14 14:59:04,103 INFO Request is completed\n",
      "2020-06-14 14:59:04,105 INFO Downloading http://136.156.133.36/cache-compute-0010/cache/data5/adaptor.mars.internal-1592103541.0161386-5836-9-ccb3df40-558c-4f8b-a6e3-b025d624e8d4.nc to /home/nicolasf/research/CPP/indices/data/ERA5/daily/ERA5_daily_geopotential_1000_2020-05-02.nc (192.2K)\n",
      "2020-06-14 14:59:05,950 INFO Download rate 104.3K/s\n"
     ]
    },
    {
     "name": "stdout",
     "output_type": "stream",
     "text": [
      "downloading /home/nicolasf/research/CPP/indices/data/ERA5/daily/ERA5_daily_geopotential_1000_2020-05-03.nc\n"
     ]
    },
    {
     "name": "stderr",
     "output_type": "stream",
     "text": [
      "2020-06-14 14:59:07,589 INFO Welcome to the CDS\n",
      "2020-06-14 14:59:07,591 INFO Sending request to https://cds.climate.copernicus.eu/api/v2/resources/reanalysis-era5-pressure-levels\n",
      "2020-06-14 14:59:08,879 INFO Request is queued\n",
      "2020-06-14 14:59:10,247 INFO Request is running\n",
      "2020-06-14 14:59:12,090 INFO Request is completed\n",
      "2020-06-14 14:59:12,092 INFO Downloading http://136.156.132.210/cache-compute-0005/cache/data0/adaptor.mars.internal-1592103549.3909922-21175-7-813aa62b-67ce-45c3-ae7e-566d5deaf666.nc to /home/nicolasf/research/CPP/indices/data/ERA5/daily/ERA5_daily_geopotential_1000_2020-05-03.nc (192.2K)\n",
      "2020-06-14 14:59:13,938 INFO Download rate 104.2K/s\n"
     ]
    },
    {
     "name": "stdout",
     "output_type": "stream",
     "text": [
      "downloading /home/nicolasf/research/CPP/indices/data/ERA5/daily/ERA5_daily_geopotential_1000_2020-05-04.nc\n"
     ]
    },
    {
     "name": "stderr",
     "output_type": "stream",
     "text": [
      "2020-06-14 14:59:15,576 INFO Welcome to the CDS\n",
      "2020-06-14 14:59:15,576 INFO Sending request to https://cds.climate.copernicus.eu/api/v2/resources/reanalysis-era5-pressure-levels\n",
      "2020-06-14 14:59:17,210 INFO Request is queued\n",
      "2020-06-14 14:59:18,542 INFO Request is completed\n",
      "2020-06-14 14:59:18,543 INFO Downloading http://136.156.133.46/cache-compute-0015/cache/data5/adaptor.mars.internal-1592103557.485031-31098-12-66da1e99-abbd-4102-86eb-afb75308602e.nc to /home/nicolasf/research/CPP/indices/data/ERA5/daily/ERA5_daily_geopotential_1000_2020-05-04.nc (192.2K)\n",
      "2020-06-14 14:59:20,390 INFO Download rate 104.2K/s\n"
     ]
    },
    {
     "name": "stdout",
     "output_type": "stream",
     "text": [
      "downloading /home/nicolasf/research/CPP/indices/data/ERA5/daily/ERA5_daily_geopotential_1000_2020-05-05.nc\n"
     ]
    },
    {
     "name": "stderr",
     "output_type": "stream",
     "text": [
      "2020-06-14 14:59:21,925 INFO Welcome to the CDS\n",
      "2020-06-14 14:59:21,925 INFO Sending request to https://cds.climate.copernicus.eu/api/v2/resources/reanalysis-era5-pressure-levels\n",
      "2020-06-14 14:59:24,891 INFO Request is queued\n",
      "2020-06-14 14:59:26,222 INFO Request is completed\n",
      "2020-06-14 14:59:26,224 INFO Downloading http://136.156.132.210/cache-compute-0005/cache/data6/adaptor.mars.internal-1592103564.7412677-17085-31-5c9de05a-909d-4b37-bba5-b9ba209a7e38.nc to /home/nicolasf/research/CPP/indices/data/ERA5/daily/ERA5_daily_geopotential_1000_2020-05-05.nc (192.2K)\n",
      "2020-06-14 14:59:28,069 INFO Download rate 104.2K/s\n"
     ]
    },
    {
     "name": "stdout",
     "output_type": "stream",
     "text": [
      "downloading /home/nicolasf/research/CPP/indices/data/ERA5/daily/ERA5_daily_geopotential_1000_2020-05-06.nc\n"
     ]
    },
    {
     "name": "stderr",
     "output_type": "stream",
     "text": [
      "2020-06-14 14:59:29,707 INFO Welcome to the CDS\n",
      "2020-06-14 14:59:29,708 INFO Sending request to https://cds.climate.copernicus.eu/api/v2/resources/reanalysis-era5-pressure-levels\n",
      "2020-06-14 14:59:31,027 INFO Request is queued\n",
      "2020-06-14 14:59:32,366 INFO Request is completed\n",
      "2020-06-14 14:59:32,368 INFO Downloading http://136.156.132.210/cache-compute-0005/cache/data6/adaptor.mars.internal-1592103571.0369313-27719-37-7359c4ab-01e6-4c52-bf0d-dae5c5ae000b.nc to /home/nicolasf/research/CPP/indices/data/ERA5/daily/ERA5_daily_geopotential_1000_2020-05-06.nc (192.2K)\n",
      "2020-06-14 14:59:34,214 INFO Download rate 104.2K/s\n"
     ]
    },
    {
     "name": "stdout",
     "output_type": "stream",
     "text": [
      "downloading /home/nicolasf/research/CPP/indices/data/ERA5/daily/ERA5_daily_geopotential_1000_2020-05-07.nc\n"
     ]
    },
    {
     "name": "stderr",
     "output_type": "stream",
     "text": [
      "2020-06-14 14:59:37,798 INFO Welcome to the CDS\n",
      "2020-06-14 14:59:37,798 INFO Sending request to https://cds.climate.copernicus.eu/api/v2/resources/reanalysis-era5-pressure-levels\n",
      "2020-06-14 14:59:39,329 INFO Request is queued\n",
      "2020-06-14 14:59:40,661 INFO Request is completed\n",
      "2020-06-14 14:59:40,662 INFO Downloading http://136.156.132.236/cache-compute-0007/cache/data4/adaptor.mars.internal-1592103579.3925686-2210-1-db216ca4-cc02-456c-acca-839e70243c5d.nc to /home/nicolasf/research/CPP/indices/data/ERA5/daily/ERA5_daily_geopotential_1000_2020-05-07.nc (192.2K)\n",
      "2020-06-14 14:59:42,506 INFO Download rate 104.3K/s\n"
     ]
    },
    {
     "name": "stdout",
     "output_type": "stream",
     "text": [
      "downloading /home/nicolasf/research/CPP/indices/data/ERA5/daily/ERA5_daily_geopotential_1000_2020-05-08.nc\n"
     ]
    },
    {
     "name": "stderr",
     "output_type": "stream",
     "text": [
      "2020-06-14 14:59:44,351 INFO Welcome to the CDS\n",
      "2020-06-14 14:59:44,351 INFO Sending request to https://cds.climate.copernicus.eu/api/v2/resources/reanalysis-era5-pressure-levels\n",
      "2020-06-14 14:59:45,780 INFO Request is queued\n",
      "2020-06-14 14:59:47,112 INFO Request is completed\n",
      "2020-06-14 14:59:47,114 INFO Downloading http://136.156.132.110/cache-compute-0001/cache/data4/adaptor.mars.internal-1592103585.6831214-3662-3-ddea4e04-c3b8-4f2d-922c-62c82ee0df08.nc to /home/nicolasf/research/CPP/indices/data/ERA5/daily/ERA5_daily_geopotential_1000_2020-05-08.nc (192.2K)\n",
      "2020-06-14 14:59:48,961 INFO Download rate 104.1K/s\n"
     ]
    },
    {
     "name": "stdout",
     "output_type": "stream",
     "text": [
      "downloading /home/nicolasf/research/CPP/indices/data/ERA5/daily/ERA5_daily_geopotential_1000_2020-05-09.nc\n"
     ]
    },
    {
     "name": "stderr",
     "output_type": "stream",
     "text": [
      "2020-06-14 14:59:50,700 INFO Welcome to the CDS\n",
      "2020-06-14 14:59:50,700 INFO Sending request to https://cds.climate.copernicus.eu/api/v2/resources/reanalysis-era5-pressure-levels\n",
      "2020-06-14 14:59:52,129 INFO Request is queued\n",
      "2020-06-14 14:59:53,461 INFO Request is completed\n",
      "2020-06-14 14:59:53,463 INFO Downloading http://136.156.133.46/cache-compute-0015/cache/data4/adaptor.mars.internal-1592103591.9686542-29586-22-608024de-5923-4587-868d-75d5f53870c4.nc to /home/nicolasf/research/CPP/indices/data/ERA5/daily/ERA5_daily_geopotential_1000_2020-05-09.nc (192.2K)\n",
      "2020-06-14 14:59:55,310 INFO Download rate 104.2K/s\n"
     ]
    },
    {
     "name": "stdout",
     "output_type": "stream",
     "text": [
      "downloading /home/nicolasf/research/CPP/indices/data/ERA5/daily/ERA5_daily_geopotential_1000_2020-05-10.nc\n"
     ]
    },
    {
     "name": "stderr",
     "output_type": "stream",
     "text": [
      "2020-06-14 14:59:57,765 INFO Welcome to the CDS\n",
      "2020-06-14 14:59:57,766 INFO Sending request to https://cds.climate.copernicus.eu/api/v2/resources/reanalysis-era5-pressure-levels\n",
      "2020-06-14 14:59:59,078 INFO Request is queued\n",
      "2020-06-14 15:00:00,424 INFO Request is completed\n",
      "2020-06-14 15:00:00,426 INFO Downloading http://136.156.133.25/cache-compute-0008/cache/data9/adaptor.mars.internal-1592103599.208695-17594-5-6f83ca0d-4fcd-4846-95f1-48e3ff8f5d1a.nc to /home/nicolasf/research/CPP/indices/data/ERA5/daily/ERA5_daily_geopotential_1000_2020-05-10.nc (192.2K)\n",
      "2020-06-14 15:00:02,273 INFO Download rate 104.2K/s\n"
     ]
    },
    {
     "name": "stdout",
     "output_type": "stream",
     "text": [
      "downloading /home/nicolasf/research/CPP/indices/data/ERA5/daily/ERA5_daily_geopotential_1000_2020-05-11.nc\n"
     ]
    },
    {
     "name": "stderr",
     "output_type": "stream",
     "text": [
      "2020-06-14 15:00:03,909 INFO Welcome to the CDS\n",
      "2020-06-14 15:00:03,909 INFO Sending request to https://cds.climate.copernicus.eu/api/v2/resources/reanalysis-era5-pressure-levels\n",
      "2020-06-14 15:00:05,211 INFO Request is queued\n",
      "2020-06-14 15:00:06,568 INFO Request is completed\n",
      "2020-06-14 15:00:06,570 INFO Downloading http://136.156.132.105/cache-compute-0000/cache/data4/adaptor.mars.internal-1592103605.2920527-25557-1-1c8a0d82-2c18-47c1-9a42-c2ac1b0b4ec3.nc to /home/nicolasf/research/CPP/indices/data/ERA5/daily/ERA5_daily_geopotential_1000_2020-05-11.nc (192.2K)\n",
      "2020-06-14 15:00:08,416 INFO Download rate 104.3K/s\n"
     ]
    },
    {
     "name": "stdout",
     "output_type": "stream",
     "text": [
      "downloading /home/nicolasf/research/CPP/indices/data/ERA5/daily/ERA5_daily_geopotential_1000_2020-05-12.nc\n"
     ]
    },
    {
     "name": "stderr",
     "output_type": "stream",
     "text": [
      "2020-06-14 15:00:10,054 INFO Welcome to the CDS\n",
      "2020-06-14 15:00:10,055 INFO Sending request to https://cds.climate.copernicus.eu/api/v2/resources/reanalysis-era5-pressure-levels\n",
      "2020-06-14 15:00:12,815 INFO Request is queued\n",
      "2020-06-14 15:00:14,146 INFO Request is completed\n",
      "2020-06-14 15:00:14,148 INFO Downloading http://136.156.133.39/cache-compute-0012/cache/data5/adaptor.mars.internal-1592103612.7162614-24986-16-568f5149-7dcb-44d1-ac64-a3bf037f963f.nc to /home/nicolasf/research/CPP/indices/data/ERA5/daily/ERA5_daily_geopotential_1000_2020-05-12.nc (192.2K)\n",
      "2020-06-14 15:00:15,994 INFO Download rate 104.2K/s\n"
     ]
    },
    {
     "name": "stdout",
     "output_type": "stream",
     "text": [
      "downloading /home/nicolasf/research/CPP/indices/data/ERA5/daily/ERA5_daily_geopotential_1000_2020-05-13.nc\n"
     ]
    },
    {
     "name": "stderr",
     "output_type": "stream",
     "text": [
      "2020-06-14 15:00:17,631 INFO Welcome to the CDS\n",
      "2020-06-14 15:00:17,632 INFO Sending request to https://cds.climate.copernicus.eu/api/v2/resources/reanalysis-era5-pressure-levels\n",
      "2020-06-14 15:00:19,163 INFO Request is queued\n",
      "2020-06-14 15:00:20,495 INFO Request is completed\n",
      "2020-06-14 15:00:20,497 INFO Downloading http://136.156.132.153/cache-compute-0002/cache/data6/adaptor.mars.internal-1592103619.3474352-1344-9-d0e1f02a-66ae-4af8-9d97-1bb8612b4985.nc to /home/nicolasf/research/CPP/indices/data/ERA5/daily/ERA5_daily_geopotential_1000_2020-05-13.nc (192.2K)\n",
      "2020-06-14 15:00:22,345 INFO Download rate 104.2K/s\n"
     ]
    },
    {
     "name": "stdout",
     "output_type": "stream",
     "text": [
      "downloading /home/nicolasf/research/CPP/indices/data/ERA5/daily/ERA5_daily_geopotential_1000_2020-05-14.nc\n"
     ]
    },
    {
     "name": "stderr",
     "output_type": "stream",
     "text": [
      "2020-06-14 15:00:23,981 INFO Welcome to the CDS\n",
      "2020-06-14 15:00:23,981 INFO Sending request to https://cds.climate.copernicus.eu/api/v2/resources/reanalysis-era5-pressure-levels\n",
      "2020-06-14 15:00:25,209 INFO Request is queued\n",
      "2020-06-14 15:00:26,536 INFO Request is running\n",
      "2020-06-14 15:00:28,380 INFO Request is completed\n",
      "2020-06-14 15:00:28,382 INFO Downloading http://136.156.132.105/cache-compute-0000/cache/data9/adaptor.mars.internal-1592103625.4632182-25326-3-d6f6d513-f34a-486d-ac25-1db0f42c720d.nc to /home/nicolasf/research/CPP/indices/data/ERA5/daily/ERA5_daily_geopotential_1000_2020-05-14.nc (192.2K)\n",
      "2020-06-14 15:00:30,229 INFO Download rate 104.1K/s\n"
     ]
    },
    {
     "name": "stdout",
     "output_type": "stream",
     "text": [
      "downloading /home/nicolasf/research/CPP/indices/data/ERA5/daily/ERA5_daily_geopotential_1000_2020-05-15.nc\n"
     ]
    },
    {
     "name": "stderr",
     "output_type": "stream",
     "text": [
      "2020-06-14 15:00:31,931 INFO Welcome to the CDS\n",
      "2020-06-14 15:00:31,931 INFO Sending request to https://cds.climate.copernicus.eu/api/v2/resources/reanalysis-era5-pressure-levels\n",
      "2020-06-14 15:00:33,602 INFO Request is queued\n",
      "2020-06-14 15:00:34,933 INFO Request is running\n",
      "2020-06-14 15:00:36,746 INFO Request is completed\n",
      "2020-06-14 15:00:36,748 INFO Downloading http://136.156.133.37/cache-compute-0011/cache/data7/adaptor.mars.internal-1592103633.6352253-26348-37-76ac2185-9e53-4cef-b89a-576fed9e07a3.nc to /home/nicolasf/research/CPP/indices/data/ERA5/daily/ERA5_daily_geopotential_1000_2020-05-15.nc (192.2K)\n",
      "2020-06-14 15:00:38,625 INFO Download rate 102.5K/s\n"
     ]
    },
    {
     "name": "stdout",
     "output_type": "stream",
     "text": [
      "downloading /home/nicolasf/research/CPP/indices/data/ERA5/daily/ERA5_daily_geopotential_1000_2020-05-16.nc\n"
     ]
    },
    {
     "name": "stderr",
     "output_type": "stream",
     "text": [
      "2020-06-14 15:00:40,364 INFO Welcome to the CDS\n",
      "2020-06-14 15:00:40,365 INFO Sending request to https://cds.climate.copernicus.eu/api/v2/resources/reanalysis-era5-pressure-levels\n",
      "2020-06-14 15:00:42,101 INFO Request is queued\n",
      "2020-06-14 15:00:43,433 INFO Request is running\n",
      "2020-06-14 15:00:45,276 INFO Request is completed\n",
      "2020-06-14 15:00:45,278 INFO Downloading http://136.156.133.41/cache-compute-0013/cache/data7/adaptor.mars.internal-1592103642.1667087-32387-12-7327374f-22dc-4c59-9299-5850782373fd.nc to /home/nicolasf/research/CPP/indices/data/ERA5/daily/ERA5_daily_geopotential_1000_2020-05-16.nc (192.2K)\n",
      "2020-06-14 15:00:47,126 INFO Download rate 104.1K/s\n"
     ]
    },
    {
     "name": "stdout",
     "output_type": "stream",
     "text": [
      "downloading /home/nicolasf/research/CPP/indices/data/ERA5/daily/ERA5_daily_geopotential_1000_2020-05-17.nc\n"
     ]
    },
    {
     "name": "stderr",
     "output_type": "stream",
     "text": [
      "2020-06-14 15:00:48,761 INFO Welcome to the CDS\n",
      "2020-06-14 15:00:48,762 INFO Sending request to https://cds.climate.copernicus.eu/api/v2/resources/reanalysis-era5-pressure-levels\n",
      "2020-06-14 15:00:50,295 INFO Request is queued\n",
      "2020-06-14 15:00:51,625 INFO Request is running\n",
      "2020-06-14 15:00:53,468 INFO Request is completed\n",
      "2020-06-14 15:00:53,470 INFO Downloading http://136.156.132.153/cache-compute-0002/cache/data8/adaptor.mars.internal-1592103651.126122-21052-26-3514ad7f-a690-45e0-aff9-050439d501c4.nc to /home/nicolasf/research/CPP/indices/data/ERA5/daily/ERA5_daily_geopotential_1000_2020-05-17.nc (192.2K)\n",
      "2020-06-14 15:00:55,317 INFO Download rate 104.2K/s\n"
     ]
    },
    {
     "name": "stdout",
     "output_type": "stream",
     "text": [
      "downloading /home/nicolasf/research/CPP/indices/data/ERA5/daily/ERA5_daily_geopotential_1000_2020-05-18.nc\n"
     ]
    },
    {
     "name": "stderr",
     "output_type": "stream",
     "text": [
      "2020-06-14 15:00:57,328 INFO Welcome to the CDS\n",
      "2020-06-14 15:00:57,328 INFO Sending request to https://cds.climate.copernicus.eu/api/v2/resources/reanalysis-era5-pressure-levels\n",
      "2020-06-14 15:00:59,510 INFO Request is queued\n",
      "2020-06-14 15:01:00,841 INFO Request is running\n",
      "2020-06-14 15:01:02,684 INFO Request is completed\n",
      "2020-06-14 15:01:02,686 INFO Downloading http://136.156.133.37/cache-compute-0011/cache/data7/adaptor.mars.internal-1592103659.5905516-3473-1-65ab26ca-32de-4f44-95a6-58723d624052.nc to /home/nicolasf/research/CPP/indices/data/ERA5/daily/ERA5_daily_geopotential_1000_2020-05-18.nc (192.2K)\n",
      "2020-06-14 15:01:04,535 INFO Download rate 104.1K/s\n"
     ]
    },
    {
     "name": "stdout",
     "output_type": "stream",
     "text": [
      "downloading /home/nicolasf/research/CPP/indices/data/ERA5/daily/ERA5_daily_geopotential_1000_2020-05-19.nc\n"
     ]
    },
    {
     "name": "stderr",
     "output_type": "stream",
     "text": [
      "2020-06-14 15:01:06,169 INFO Welcome to the CDS\n",
      "2020-06-14 15:01:06,170 INFO Sending request to https://cds.climate.copernicus.eu/api/v2/resources/reanalysis-era5-pressure-levels\n",
      "2020-06-14 15:01:07,489 INFO Request is queued\n",
      "2020-06-14 15:01:08,828 INFO Request is running\n",
      "2020-06-14 15:01:10,671 INFO Request is completed\n",
      "2020-06-14 15:01:10,673 INFO Downloading http://136.156.133.25/cache-compute-0008/cache/data5/adaptor.mars.internal-1592103667.593442-17817-9-d86da536-cb48-458b-8821-0d3e1877e1bb.nc to /home/nicolasf/research/CPP/indices/data/ERA5/daily/ERA5_daily_geopotential_1000_2020-05-19.nc (192.2K)\n",
      "2020-06-14 15:01:12,521 INFO Download rate 104.1K/s\n"
     ]
    },
    {
     "name": "stdout",
     "output_type": "stream",
     "text": [
      "downloading /home/nicolasf/research/CPP/indices/data/ERA5/daily/ERA5_daily_geopotential_1000_2020-05-20.nc\n"
     ]
    },
    {
     "name": "stderr",
     "output_type": "stream",
     "text": [
      "2020-06-14 15:01:14,260 INFO Welcome to the CDS\n",
      "2020-06-14 15:01:14,261 INFO Sending request to https://cds.climate.copernicus.eu/api/v2/resources/reanalysis-era5-pressure-levels\n",
      "2020-06-14 15:01:15,533 INFO Request is queued\n",
      "2020-06-14 15:01:16,918 INFO Request is running\n",
      "2020-06-14 15:01:18,761 INFO Request is completed\n",
      "2020-06-14 15:01:18,763 INFO Downloading http://136.156.132.105/cache-compute-0000/cache/data4/adaptor.mars.internal-1592103675.704412-25647-5-2f35b33e-1e41-4ccd-816c-8d63a1384b2f.nc to /home/nicolasf/research/CPP/indices/data/ERA5/daily/ERA5_daily_geopotential_1000_2020-05-20.nc (192.2K)\n",
      "2020-06-14 15:01:20,610 INFO Download rate 104.2K/s\n"
     ]
    },
    {
     "name": "stdout",
     "output_type": "stream",
     "text": [
      "downloading /home/nicolasf/research/CPP/indices/data/ERA5/daily/ERA5_daily_geopotential_1000_2020-05-21.nc\n"
     ]
    },
    {
     "name": "stderr",
     "output_type": "stream",
     "text": [
      "2020-06-14 15:01:22,246 INFO Welcome to the CDS\n",
      "2020-06-14 15:01:22,247 INFO Sending request to https://cds.climate.copernicus.eu/api/v2/resources/reanalysis-era5-pressure-levels\n",
      "2020-06-14 15:01:24,394 INFO Request is queued\n",
      "2020-06-14 15:01:25,725 INFO Request is running\n",
      "2020-06-14 15:01:27,568 INFO Request is completed\n",
      "2020-06-14 15:01:27,570 INFO Downloading http://136.156.132.110/cache-compute-0001/cache/data4/adaptor.mars.internal-1592103684.6981306-32299-31-09f96169-288f-4426-9168-b00c8294c2d9.nc to /home/nicolasf/research/CPP/indices/data/ERA5/daily/ERA5_daily_geopotential_1000_2020-05-21.nc (192.2K)\n",
      "2020-06-14 15:01:29,418 INFO Download rate 104.1K/s\n"
     ]
    },
    {
     "name": "stdout",
     "output_type": "stream",
     "text": [
      "downloading /home/nicolasf/research/CPP/indices/data/ERA5/daily/ERA5_daily_geopotential_1000_2020-05-22.nc\n"
     ]
    },
    {
     "name": "stderr",
     "output_type": "stream",
     "text": [
      "2020-06-14 15:01:30,951 INFO Welcome to the CDS\n",
      "2020-06-14 15:01:30,952 INFO Sending request to https://cds.climate.copernicus.eu/api/v2/resources/reanalysis-era5-pressure-levels\n",
      "2020-06-14 15:01:33,303 INFO Request is queued\n",
      "2020-06-14 15:01:36,477 INFO Request is running\n",
      "2020-06-14 15:01:39,037 INFO Request is completed\n",
      "2020-06-14 15:01:39,039 INFO Downloading http://136.156.133.46/cache-compute-0015/cache/data9/adaptor.mars.internal-1592103696.0636559-305-9-937cacc4-7da8-4889-b238-d0af8f6f4751.nc to /home/nicolasf/research/CPP/indices/data/ERA5/daily/ERA5_daily_geopotential_1000_2020-05-22.nc (192.2K)\n",
      "2020-06-14 15:01:40,888 INFO Download rate 104.1K/s\n"
     ]
    },
    {
     "name": "stdout",
     "output_type": "stream",
     "text": [
      "downloading /home/nicolasf/research/CPP/indices/data/ERA5/daily/ERA5_daily_geopotential_1000_2020-05-23.nc\n"
     ]
    },
    {
     "name": "stderr",
     "output_type": "stream",
     "text": [
      "2020-06-14 15:01:42,551 INFO Welcome to the CDS\n",
      "2020-06-14 15:01:42,551 INFO Sending request to https://cds.climate.copernicus.eu/api/v2/resources/reanalysis-era5-pressure-levels\n",
      "2020-06-14 15:01:43,952 INFO Request is queued\n",
      "2020-06-14 15:01:45,283 INFO Request is completed\n",
      "2020-06-14 15:01:45,285 INFO Downloading http://136.156.132.153/cache-compute-0002/cache/data0/adaptor.mars.internal-1592103703.9489825-1344-16-7c3aa8d2-a862-49f5-9ef9-fdaa14c7a979.nc to /home/nicolasf/research/CPP/indices/data/ERA5/daily/ERA5_daily_geopotential_1000_2020-05-23.nc (192.2K)\n",
      "2020-06-14 15:01:47,136 INFO Download rate 104K/s  \n"
     ]
    },
    {
     "name": "stdout",
     "output_type": "stream",
     "text": [
      "downloading /home/nicolasf/research/CPP/indices/data/ERA5/daily/ERA5_daily_geopotential_1000_2020-05-24.nc\n"
     ]
    },
    {
     "name": "stderr",
     "output_type": "stream",
     "text": [
      "2020-06-14 15:01:49,178 INFO Welcome to the CDS\n",
      "2020-06-14 15:01:49,179 INFO Sending request to https://cds.climate.copernicus.eu/api/v2/resources/reanalysis-era5-pressure-levels\n",
      "2020-06-14 15:01:51,120 INFO Request is queued\n",
      "2020-06-14 15:01:52,410 INFO Request is running\n",
      "2020-06-14 15:01:54,295 INFO Request is completed\n",
      "2020-06-14 15:01:54,297 INFO Downloading http://136.156.132.235/cache-compute-0006/cache/data5/adaptor.mars.internal-1592103711.348254-22971-18-cc3207f3-5af9-4824-8215-37c5da5a51b9.nc to /home/nicolasf/research/CPP/indices/data/ERA5/daily/ERA5_daily_geopotential_1000_2020-05-24.nc (192.2K)\n",
      "2020-06-14 15:01:57,678 INFO Download rate 56.9K/s \n"
     ]
    },
    {
     "name": "stdout",
     "output_type": "stream",
     "text": [
      "downloading /home/nicolasf/research/CPP/indices/data/ERA5/daily/ERA5_daily_geopotential_1000_2020-05-25.nc\n"
     ]
    },
    {
     "name": "stderr",
     "output_type": "stream",
     "text": [
      "2020-06-14 15:01:59,588 INFO Welcome to the CDS\n",
      "2020-06-14 15:01:59,589 INFO Sending request to https://cds.climate.copernicus.eu/api/v2/resources/reanalysis-era5-pressure-levels\n",
      "2020-06-14 15:02:02,795 INFO Request is queued\n",
      "2020-06-14 15:02:04,126 INFO Request is running\n",
      "2020-06-14 15:02:05,968 INFO Request is completed\n",
      "2020-06-14 15:02:05,970 INFO Downloading http://136.156.132.235/cache-compute-0006/cache/data7/adaptor.mars.internal-1592103723.0911367-23625-13-9733f1d5-2b9a-4976-8122-d27cd522b728.nc to /home/nicolasf/research/CPP/indices/data/ERA5/daily/ERA5_daily_geopotential_1000_2020-05-25.nc (192.2K)\n",
      "2020-06-14 15:02:09,045 INFO Download rate 62.6K/s \n"
     ]
    },
    {
     "name": "stdout",
     "output_type": "stream",
     "text": [
      "downloading /home/nicolasf/research/CPP/indices/data/ERA5/daily/ERA5_daily_geopotential_1000_2020-05-26.nc\n"
     ]
    },
    {
     "name": "stderr",
     "output_type": "stream",
     "text": [
      "2020-06-14 15:02:10,887 INFO Welcome to the CDS\n",
      "2020-06-14 15:02:10,888 INFO Sending request to https://cds.climate.copernicus.eu/api/v2/resources/reanalysis-era5-pressure-levels\n",
      "2020-06-14 15:02:12,932 INFO Request is queued\n",
      "2020-06-14 15:02:14,263 INFO Request is running\n",
      "2020-06-14 15:02:16,106 INFO Request is completed\n",
      "2020-06-14 15:02:16,108 INFO Downloading http://136.156.133.25/cache-compute-0008/cache/data4/adaptor.mars.internal-1592103732.96097-14381-35-72a8cfd9-4195-4269-a836-13a464ffeec6.nc to /home/nicolasf/research/CPP/indices/data/ERA5/daily/ERA5_daily_geopotential_1000_2020-05-26.nc (192.2K)\n",
      "2020-06-14 15:02:17,958 INFO Download rate 104K/s  \n"
     ]
    },
    {
     "name": "stdout",
     "output_type": "stream",
     "text": [
      "downloading /home/nicolasf/research/CPP/indices/data/ERA5/daily/ERA5_daily_geopotential_1000_2020-05-27.nc\n"
     ]
    },
    {
     "name": "stderr",
     "output_type": "stream",
     "text": [
      "2020-06-14 15:02:20,002 INFO Welcome to the CDS\n",
      "2020-06-14 15:02:20,003 INFO Sending request to https://cds.climate.copernicus.eu/api/v2/resources/reanalysis-era5-pressure-levels\n",
      "2020-06-14 15:02:22,463 INFO Request is queued\n",
      "2020-06-14 15:02:23,786 INFO Request is running\n",
      "2020-06-14 15:02:28,190 INFO Request is completed\n",
      "2020-06-14 15:02:28,192 INFO Downloading http://136.156.133.41/cache-compute-0013/cache/data2/adaptor.mars.internal-1592103743.3927536-29513-23-efe13684-24c0-4c72-b9e1-bbc6ef0d4cfb.nc to /home/nicolasf/research/CPP/indices/data/ERA5/daily/ERA5_daily_geopotential_1000_2020-05-27.nc (192.2K)\n",
      "2020-06-14 15:02:30,040 INFO Download rate 104.1K/s\n"
     ]
    },
    {
     "name": "stdout",
     "output_type": "stream",
     "text": [
      "downloading /home/nicolasf/research/CPP/indices/data/ERA5/daily/ERA5_daily_geopotential_1000_2020-05-28.nc\n"
     ]
    },
    {
     "name": "stderr",
     "output_type": "stream",
     "text": [
      "2020-06-14 15:02:33,211 INFO Welcome to the CDS\n",
      "2020-06-14 15:02:33,212 INFO Sending request to https://cds.climate.copernicus.eu/api/v2/resources/reanalysis-era5-pressure-levels\n",
      "2020-06-14 15:02:39,045 INFO Request is queued\n",
      "2020-06-14 15:02:42,219 INFO Request is running\n",
      "2020-06-14 15:02:48,465 INFO Request is completed\n",
      "2020-06-14 15:02:48,467 INFO Downloading http://136.156.133.42/cache-compute-0014/cache/data5/adaptor.mars.internal-1592103760.3876498-30987-25-c0f7af21-cb68-4e0c-a7ce-0a415213f7f2.nc to /home/nicolasf/research/CPP/indices/data/ERA5/daily/ERA5_daily_geopotential_1000_2020-05-28.nc (192.2K)\n",
      "2020-06-14 15:02:50,313 INFO Download rate 104.2K/s\n"
     ]
    },
    {
     "name": "stdout",
     "output_type": "stream",
     "text": [
      "downloading /home/nicolasf/research/CPP/indices/data/ERA5/daily/ERA5_daily_geopotential_1000_2020-05-29.nc\n"
     ]
    },
    {
     "name": "stderr",
     "output_type": "stream",
     "text": [
      "2020-06-14 15:02:53,794 INFO Welcome to the CDS\n",
      "2020-06-14 15:02:53,795 INFO Sending request to https://cds.climate.copernicus.eu/api/v2/resources/reanalysis-era5-pressure-levels\n",
      "2020-06-14 15:02:56,248 INFO Request is queued\n",
      "2020-06-14 15:02:59,422 INFO Request is running\n",
      "2020-06-14 15:03:11,096 INFO Request is completed\n",
      "2020-06-14 15:03:11,098 INFO Downloading http://136.156.133.25/cache-compute-0008/cache/data5/adaptor.mars.internal-1592103778.4299939-18172-9-98dd00ae-7b1d-40e9-842f-fa69c40bc436.nc to /home/nicolasf/research/CPP/indices/data/ERA5/daily/ERA5_daily_geopotential_1000_2020-05-29.nc (192.2K)\n",
      "2020-06-14 15:03:12,945 INFO Download rate 104.1K/s\n",
      "2020-06-14 15:03:43,253 WARNING DELETE https://cds.climate.copernicus.eu/api/v2/tasks/98dd00ae-7b1d-40e9-842f-fa69c40bc436 returns 504 Gateway Time-out\n"
     ]
    },
    {
     "name": "stdout",
     "output_type": "stream",
     "text": [
      "downloading /home/nicolasf/research/CPP/indices/data/ERA5/daily/ERA5_daily_geopotential_1000_2020-05-30.nc\n"
     ]
    },
    {
     "name": "stderr",
     "output_type": "stream",
     "text": [
      "2020-06-14 15:03:44,485 INFO Welcome to the CDS\n",
      "2020-06-14 15:03:44,486 INFO Sending request to https://cds.climate.copernicus.eu/api/v2/resources/reanalysis-era5-pressure-levels\n",
      "2020-06-14 15:04:09,979 INFO Request is queued\n",
      "2020-06-14 15:04:19,398 INFO Request is running\n",
      "2020-06-14 15:04:32,813 INFO Request is completed\n",
      "2020-06-14 15:04:32,815 INFO Downloading http://136.156.133.42/cache-compute-0014/cache/data1/adaptor.mars.internal-1592103855.7227962-936-11-19478db3-fab5-45bd-a72e-b1603aeaecb9.nc to /home/nicolasf/research/CPP/indices/data/ERA5/daily/ERA5_daily_geopotential_1000_2020-05-30.nc (192.2K)\n",
      "2020-06-14 15:04:34,664 INFO Download rate 104.1K/s\n"
     ]
    },
    {
     "name": "stdout",
     "output_type": "stream",
     "text": [
      "downloading /home/nicolasf/research/CPP/indices/data/ERA5/daily/ERA5_daily_geopotential_1000_2020-05-31.nc\n"
     ]
    },
    {
     "name": "stderr",
     "output_type": "stream",
     "text": [
      "2020-06-14 15:04:36,607 INFO Welcome to the CDS\n",
      "2020-06-14 15:04:36,607 INFO Sending request to https://cds.climate.copernicus.eu/api/v2/resources/reanalysis-era5-pressure-levels\n",
      "2020-06-14 15:04:39,777 INFO Request is queued\n",
      "2020-06-14 15:04:41,062 INFO Request is running\n",
      "2020-06-14 15:04:42,951 INFO Request is completed\n",
      "2020-06-14 15:04:42,953 INFO Downloading http://136.156.133.36/cache-compute-0010/cache/data0/adaptor.mars.internal-1592103880.8486755-7276-11-c84cc296-e202-4c59-9f4c-9c71f185333d.nc to /home/nicolasf/research/CPP/indices/data/ERA5/daily/ERA5_daily_geopotential_1000_2020-05-31.nc (192.2K)\n",
      "2020-06-14 15:04:44,797 INFO Download rate 104.4K/s\n"
     ]
    },
    {
     "name": "stdout",
     "output_type": "stream",
     "text": [
      "downloading /home/nicolasf/research/CPP/indices/data/ERA5/daily/ERA5_daily_geopotential_1000_2020-06-01.nc\n"
     ]
    },
    {
     "name": "stderr",
     "output_type": "stream",
     "text": [
      "2020-06-14 15:04:47,152 INFO Welcome to the CDS\n",
      "2020-06-14 15:04:47,153 INFO Sending request to https://cds.climate.copernicus.eu/api/v2/resources/reanalysis-era5-pressure-levels\n",
      "2020-06-14 15:04:49,607 INFO Request is queued\n",
      "2020-06-14 15:04:52,781 INFO Request is running\n",
      "2020-06-14 15:04:55,341 INFO Request is completed\n",
      "2020-06-14 15:04:55,343 INFO Downloading http://136.156.132.235/cache-compute-0006/cache/data1/adaptor.mars.internal-1592103891.7227902-23202-20-c21ae268-da3f-46d4-9c4b-8683faa5796e.nc to /home/nicolasf/research/CPP/indices/data/ERA5/daily/ERA5_daily_geopotential_1000_2020-06-01.nc (192.2K)\n",
      "2020-06-14 15:04:58,724 INFO Download rate 56.9K/s \n"
     ]
    },
    {
     "name": "stdout",
     "output_type": "stream",
     "text": [
      "downloading /home/nicolasf/research/CPP/indices/data/ERA5/daily/ERA5_daily_geopotential_1000_2020-06-02.nc\n"
     ]
    },
    {
     "name": "stderr",
     "output_type": "stream",
     "text": [
      "2020-06-14 15:05:01,591 INFO Welcome to the CDS\n",
      "2020-06-14 15:05:01,592 INFO Sending request to https://cds.climate.copernicus.eu/api/v2/resources/reanalysis-era5-pressure-levels\n",
      "2020-06-14 15:05:03,021 INFO Request is queued\n",
      "2020-06-14 15:05:04,352 INFO Request is running\n",
      "2020-06-14 15:05:06,196 INFO Request is completed\n",
      "2020-06-14 15:05:06,198 INFO Downloading http://136.156.133.42/cache-compute-0014/cache/data2/adaptor.mars.internal-1592103903.8890889-29953-29-83500678-8f44-499e-b2d3-004712a6935e.nc to /home/nicolasf/research/CPP/indices/data/ERA5/daily/ERA5_daily_geopotential_1000_2020-06-02.nc (192.2K)\n",
      "2020-06-14 15:05:08,044 INFO Download rate 104.2K/s\n"
     ]
    },
    {
     "name": "stdout",
     "output_type": "stream",
     "text": [
      "downloading /home/nicolasf/research/CPP/indices/data/ERA5/daily/ERA5_daily_geopotential_1000_2020-06-03.nc\n"
     ]
    },
    {
     "name": "stderr",
     "output_type": "stream",
     "text": [
      "2020-06-14 15:05:19,102 INFO Welcome to the CDS\n",
      "2020-06-14 15:05:19,103 INFO Sending request to https://cds.climate.copernicus.eu/api/v2/resources/reanalysis-era5-pressure-levels\n",
      "2020-06-14 15:05:20,327 INFO Request is queued\n",
      "2020-06-14 15:05:21,658 INFO Request is completed\n",
      "2020-06-14 15:05:21,660 INFO Downloading http://136.156.132.236/cache-compute-0007/cache/data4/adaptor.mars.internal-1592103920.2726178-31854-30-cdabd39b-ab0d-4f04-9c06-5f3bce323024.nc to /home/nicolasf/research/CPP/indices/data/ERA5/daily/ERA5_daily_geopotential_1000_2020-06-03.nc (192.2K)\n",
      "2020-06-14 15:05:23,507 INFO Download rate 104.2K/s\n"
     ]
    },
    {
     "name": "stdout",
     "output_type": "stream",
     "text": [
      "downloading /home/nicolasf/research/CPP/indices/data/ERA5/daily/ERA5_daily_geopotential_1000_2020-06-04.nc\n"
     ]
    },
    {
     "name": "stderr",
     "output_type": "stream",
     "text": [
      "2020-06-14 15:05:25,143 INFO Welcome to the CDS\n",
      "2020-06-14 15:05:25,144 INFO Sending request to https://cds.climate.copernicus.eu/api/v2/resources/reanalysis-era5-pressure-levels\n",
      "2020-06-14 15:05:26,675 INFO Request is queued\n",
      "2020-06-14 15:05:29,851 INFO Request is completed\n",
      "2020-06-14 15:05:29,853 INFO Downloading http://136.156.132.235/cache-compute-0006/cache/data0/adaptor.mars.internal-1592103927.847078-22144-20-c0823e35-41fb-418b-9a32-3629d3de92a0.nc to /home/nicolasf/research/CPP/indices/data/ERA5/daily/ERA5_daily_geopotential_1000_2020-06-04.nc (192.2K)\n",
      "2020-06-14 15:05:33,233 INFO Download rate 56.9K/s \n"
     ]
    },
    {
     "name": "stdout",
     "output_type": "stream",
     "text": [
      "downloading /home/nicolasf/research/CPP/indices/data/ERA5/daily/ERA5_daily_geopotential_1000_2020-06-05.nc\n"
     ]
    },
    {
     "name": "stderr",
     "output_type": "stream",
     "text": [
      "2020-06-14 15:05:34,872 INFO Welcome to the CDS\n",
      "2020-06-14 15:05:34,873 INFO Sending request to https://cds.climate.copernicus.eu/api/v2/resources/reanalysis-era5-pressure-levels\n",
      "2020-06-14 15:05:36,097 INFO Request is queued\n",
      "2020-06-14 15:05:37,428 INFO Request is running\n",
      "2020-06-14 15:05:39,270 INFO Request is completed\n",
      "2020-06-14 15:05:39,270 INFO Downloading http://136.156.132.105/cache-compute-0000/cache/data4/adaptor.mars.internal-1592103936.6056516-25326-13-497d4b80-f4b2-4197-8eaf-9aa94510460a.nc to /home/nicolasf/research/CPP/indices/data/ERA5/daily/ERA5_daily_geopotential_1000_2020-06-05.nc (192.2K)\n",
      "2020-06-14 15:05:41,120 INFO Download rate 104K/s  \n"
     ]
    },
    {
     "name": "stdout",
     "output_type": "stream",
     "text": [
      "downloading /home/nicolasf/research/CPP/indices/data/ERA5/daily/ERA5_daily_geopotential_1000_2020-06-06.nc\n"
     ]
    },
    {
     "name": "stderr",
     "output_type": "stream",
     "text": [
      "2020-06-14 15:05:43,026 INFO Welcome to the CDS\n",
      "2020-06-14 15:05:43,027 INFO Sending request to https://cds.climate.copernicus.eu/api/v2/resources/reanalysis-era5-pressure-levels\n",
      "2020-06-14 15:05:44,391 INFO Request is queued\n",
      "2020-06-14 15:05:45,723 INFO Request is running\n",
      "2020-06-14 15:05:47,566 INFO Request is completed\n",
      "2020-06-14 15:05:47,568 INFO Downloading http://136.156.133.41/cache-compute-0013/cache/data5/adaptor.mars.internal-1592103944.2813356-30153-29-3ecc8228-8886-44ba-93d3-83cae6fb7fc7.nc to /home/nicolasf/research/CPP/indices/data/ERA5/daily/ERA5_daily_geopotential_1000_2020-06-06.nc (192.2K)\n",
      "2020-06-14 15:05:49,415 INFO Download rate 104.2K/s\n"
     ]
    },
    {
     "name": "stdout",
     "output_type": "stream",
     "text": [
      "downloading /home/nicolasf/research/CPP/indices/data/ERA5/daily/ERA5_daily_geopotential_1000_2020-06-07.nc\n"
     ]
    },
    {
     "name": "stderr",
     "output_type": "stream",
     "text": [
      "2020-06-14 15:05:51,052 INFO Welcome to the CDS\n",
      "2020-06-14 15:05:51,053 INFO Sending request to https://cds.climate.copernicus.eu/api/v2/resources/reanalysis-era5-pressure-levels\n",
      "2020-06-14 15:05:52,686 INFO Request is queued\n",
      "2020-06-14 15:05:54,017 INFO Request is completed\n",
      "2020-06-14 15:05:54,019 INFO Downloading http://136.156.133.46/cache-compute-0015/cache/data8/adaptor.mars.internal-1592103952.7109818-29586-35-4bbc78a0-facb-4807-93a1-c70fcaa35921.nc to /home/nicolasf/research/CPP/indices/data/ERA5/daily/ERA5_daily_geopotential_1000_2020-06-07.nc (192.2K)\n",
      "2020-06-14 15:05:55,830 INFO Download rate 106.2K/s\n"
     ]
    },
    {
     "name": "stdout",
     "output_type": "stream",
     "text": [
      "downloading /home/nicolasf/research/CPP/indices/data/ERA5/daily/ERA5_daily_geopotential_1000_2020-06-08.nc\n"
     ]
    },
    {
     "name": "stderr",
     "output_type": "stream",
     "text": [
      "2020-06-14 15:05:57,368 INFO Welcome to the CDS\n",
      "2020-06-14 15:05:57,369 INFO Sending request to https://cds.climate.copernicus.eu/api/v2/resources/reanalysis-era5-pressure-levels\n",
      "2020-06-14 15:05:58,830 INFO Request is queued\n",
      "2020-06-14 15:06:00,162 INFO Request is completed\n",
      "2020-06-14 15:06:00,163 INFO Downloading http://136.156.133.32/cache-compute-0009/cache/data2/adaptor.mars.internal-1592103958.674715-25737-29-d06ef505-1335-458a-a972-723bd686bc60.nc to /home/nicolasf/research/CPP/indices/data/ERA5/daily/ERA5_daily_geopotential_1000_2020-06-08.nc (192.2K)\n",
      "2020-06-14 15:06:02,011 INFO Download rate 104.1K/s\n"
     ]
    },
    {
     "name": "stdout",
     "output_type": "stream",
     "text": [
      "downloading /home/nicolasf/research/CPP/indices/data/ERA5/daily/ERA5_daily_geopotential_1000_2020-06-09.nc\n"
     ]
    },
    {
     "name": "stderr",
     "output_type": "stream",
     "text": [
      "2020-06-14 15:06:04,057 INFO Welcome to the CDS\n",
      "2020-06-14 15:06:04,058 INFO Sending request to https://cds.climate.copernicus.eu/api/v2/resources/reanalysis-era5-pressure-levels\n",
      "2020-06-14 15:06:35,285 WARNING Recovering from HTTP error [504 Gateway Time-out], attemps 0 of 500\n",
      "2020-06-14 15:06:35,288 WARNING Retrying in 120 seconds\n",
      "2020-06-14 15:08:35,392 INFO Retrying now...\n",
      "2020-06-14 15:08:36,693 INFO Request is queued\n",
      "2020-06-14 15:08:38,065 INFO Request is running\n",
      "2020-06-14 15:08:39,906 INFO Request is failed\n",
      "2020-06-14 15:08:39,907 ERROR Message: no data is available within your requested subset\n",
      "2020-06-14 15:08:39,908 ERROR Reason:  Request returned no data\n",
      "2020-06-14 15:08:39,908 ERROR   Traceback (most recent call last):\n",
      "2020-06-14 15:08:39,908 ERROR     File \"/opt/cdstoolbox/cdscompute/cdscompute/cdshandlers/services/handler.py\", line 49, in handle_request\n",
      "2020-06-14 15:08:39,909 ERROR       result = cached(context.method, proc, context, context.args, context.kwargs)\n",
      "2020-06-14 15:08:39,909 ERROR     File \"/opt/cdstoolbox/cdscompute/cdscompute/caching.py\", line 108, in cached\n",
      "2020-06-14 15:08:39,910 ERROR       result = proc(context, *context.args, **context.kwargs)\n",
      "2020-06-14 15:08:39,911 ERROR     File \"/opt/cdstoolbox/cdscompute/cdscompute/services.py\", line 118, in __call__\n",
      "2020-06-14 15:08:39,911 ERROR       return p(*args, **kwargs)\n",
      "2020-06-14 15:08:39,912 ERROR     File \"/opt/cdstoolbox/cdscompute/cdscompute/services.py\", line 59, in __call__\n",
      "2020-06-14 15:08:39,912 ERROR       return self.proc(context, *args, **kwargs)\n",
      "2020-06-14 15:08:39,912 ERROR     File \"/home/cds/cdsservices/services/mars.py\", line 347, in internal\n",
      "2020-06-14 15:08:39,913 ERROR       return mars(context, request, **kwargs)\n",
      "2020-06-14 15:08:39,914 ERROR     File \"/home/cds/cdsservices/services/mars.py\", line 48, in mars\n",
      "2020-06-14 15:08:39,914 ERROR       execute_mars(context, requests)\n",
      "2020-06-14 15:08:39,914 ERROR     File \"/home/cds/cdsservices/services/mars.py\", line 196, in execute_mars\n",
      "2020-06-14 15:08:39,915 ERROR       raise NoDataException(\"Request returned no data\", '')\n",
      "2020-06-14 15:08:39,916 ERROR   cdsinf.exceptions.NoDataException: Request returned no data\n"
     ]
    },
    {
     "ename": "Exception",
     "evalue": "no data is available within your requested subset. Request returned no data.",
     "output_type": "error",
     "traceback": [
      "\u001b[0;31m---------------------------------------------------------------------------\u001b[0m",
      "\u001b[0;31mException\u001b[0m                                 Traceback (most recent call last)",
      "\u001b[0;32m<ipython-input-13-c1eb8ac0aa30>\u001b[0m in \u001b[0;36m<module>\u001b[0;34m\u001b[0m\n\u001b[1;32m     28\u001b[0m                 ],\n\u001b[1;32m     29\u001b[0m             },\n\u001b[0;32m---> 30\u001b[0;31m             fname_out)\n\u001b[0m\u001b[1;32m     31\u001b[0m \u001b[0;34m\u001b[0m\u001b[0m\n\u001b[1;32m     32\u001b[0m         \u001b[0;31m# if the file has been downloaded successfully, delete the data on the CDS server\u001b[0m\u001b[0;34m\u001b[0m\u001b[0;34m\u001b[0m\u001b[0;34m\u001b[0m\u001b[0m\n",
      "\u001b[0;32m~/anaconda3/envs/climlab/lib/python3.7/site-packages/cdsapi/api.py\u001b[0m in \u001b[0;36mretrieve\u001b[0;34m(self, name, request, target)\u001b[0m\n\u001b[1;32m    315\u001b[0m \u001b[0;34m\u001b[0m\u001b[0m\n\u001b[1;32m    316\u001b[0m     \u001b[0;32mdef\u001b[0m \u001b[0mretrieve\u001b[0m\u001b[0;34m(\u001b[0m\u001b[0mself\u001b[0m\u001b[0;34m,\u001b[0m \u001b[0mname\u001b[0m\u001b[0;34m,\u001b[0m \u001b[0mrequest\u001b[0m\u001b[0;34m,\u001b[0m \u001b[0mtarget\u001b[0m\u001b[0;34m=\u001b[0m\u001b[0;32mNone\u001b[0m\u001b[0;34m)\u001b[0m\u001b[0;34m:\u001b[0m\u001b[0;34m\u001b[0m\u001b[0;34m\u001b[0m\u001b[0m\n\u001b[0;32m--> 317\u001b[0;31m         \u001b[0mresult\u001b[0m \u001b[0;34m=\u001b[0m \u001b[0mself\u001b[0m\u001b[0;34m.\u001b[0m\u001b[0m_api\u001b[0m\u001b[0;34m(\u001b[0m\u001b[0;34m'%s/resources/%s'\u001b[0m \u001b[0;34m%\u001b[0m \u001b[0;34m(\u001b[0m\u001b[0mself\u001b[0m\u001b[0;34m.\u001b[0m\u001b[0murl\u001b[0m\u001b[0;34m,\u001b[0m \u001b[0mname\u001b[0m\u001b[0;34m)\u001b[0m\u001b[0;34m,\u001b[0m \u001b[0mrequest\u001b[0m\u001b[0;34m,\u001b[0m \u001b[0;34m'POST'\u001b[0m\u001b[0;34m)\u001b[0m\u001b[0;34m\u001b[0m\u001b[0;34m\u001b[0m\u001b[0m\n\u001b[0m\u001b[1;32m    318\u001b[0m         \u001b[0;32mif\u001b[0m \u001b[0mtarget\u001b[0m \u001b[0;32mis\u001b[0m \u001b[0;32mnot\u001b[0m \u001b[0;32mNone\u001b[0m\u001b[0;34m:\u001b[0m\u001b[0;34m\u001b[0m\u001b[0;34m\u001b[0m\u001b[0m\n\u001b[1;32m    319\u001b[0m             \u001b[0mresult\u001b[0m\u001b[0;34m.\u001b[0m\u001b[0mdownload\u001b[0m\u001b[0;34m(\u001b[0m\u001b[0mtarget\u001b[0m\u001b[0;34m)\u001b[0m\u001b[0;34m\u001b[0m\u001b[0;34m\u001b[0m\u001b[0m\n",
      "\u001b[0;32m~/anaconda3/envs/climlab/lib/python3.7/site-packages/cdsapi/api.py\u001b[0m in \u001b[0;36m_api\u001b[0;34m(self, url, request, method)\u001b[0m\n\u001b[1;32m    456\u001b[0m                         \u001b[0;32mbreak\u001b[0m\u001b[0;34m\u001b[0m\u001b[0;34m\u001b[0m\u001b[0m\n\u001b[1;32m    457\u001b[0m                     \u001b[0mself\u001b[0m\u001b[0;34m.\u001b[0m\u001b[0merror\u001b[0m\u001b[0;34m(\u001b[0m\u001b[0;34m\"  %s\"\u001b[0m\u001b[0;34m,\u001b[0m \u001b[0mn\u001b[0m\u001b[0;34m)\u001b[0m\u001b[0;34m\u001b[0m\u001b[0;34m\u001b[0m\u001b[0m\n\u001b[0;32m--> 458\u001b[0;31m                 \u001b[0;32mraise\u001b[0m \u001b[0mException\u001b[0m\u001b[0;34m(\u001b[0m\u001b[0;34m\"%s. %s.\"\u001b[0m \u001b[0;34m%\u001b[0m \u001b[0;34m(\u001b[0m\u001b[0mreply\u001b[0m\u001b[0;34m[\u001b[0m\u001b[0;34m'error'\u001b[0m\u001b[0;34m]\u001b[0m\u001b[0;34m.\u001b[0m\u001b[0mget\u001b[0m\u001b[0;34m(\u001b[0m\u001b[0;34m'message'\u001b[0m\u001b[0;34m)\u001b[0m\u001b[0;34m,\u001b[0m \u001b[0mreply\u001b[0m\u001b[0;34m[\u001b[0m\u001b[0;34m'error'\u001b[0m\u001b[0;34m]\u001b[0m\u001b[0;34m.\u001b[0m\u001b[0mget\u001b[0m\u001b[0;34m(\u001b[0m\u001b[0;34m'reason'\u001b[0m\u001b[0;34m)\u001b[0m\u001b[0;34m)\u001b[0m\u001b[0;34m)\u001b[0m\u001b[0;34m\u001b[0m\u001b[0;34m\u001b[0m\u001b[0m\n\u001b[0m\u001b[1;32m    459\u001b[0m \u001b[0;34m\u001b[0m\u001b[0m\n\u001b[1;32m    460\u001b[0m             \u001b[0;32mraise\u001b[0m \u001b[0mException\u001b[0m\u001b[0;34m(\u001b[0m\u001b[0;34m'Unknown API state [%s]'\u001b[0m \u001b[0;34m%\u001b[0m \u001b[0;34m(\u001b[0m\u001b[0mreply\u001b[0m\u001b[0;34m[\u001b[0m\u001b[0;34m'state'\u001b[0m\u001b[0;34m]\u001b[0m\u001b[0;34m,\u001b[0m\u001b[0;34m)\u001b[0m\u001b[0;34m)\u001b[0m\u001b[0;34m\u001b[0m\u001b[0;34m\u001b[0m\u001b[0m\n",
      "\u001b[0;31mException\u001b[0m: no data is available within your requested subset. Request returned no data."
     ]
    }
   ],
   "source": [
    "for date in dates:\n",
    "    \n",
    "    fname_out = opath.joinpath(f\"ERA5_daily_{var_name}_{level}_{date:%Y-%m-%d}.nc\")\n",
    "    \n",
    "    if fname_out.exists():\n",
    "        \n",
    "        pass\n",
    "    \n",
    "    else:\n",
    "    \n",
    "        print(f\"downloading {fname_out}\")\n",
    "\n",
    "        c = cdsapi.Client()\n",
    "\n",
    "        data = c.retrieve(\n",
    "            'reanalysis-era5-pressure-levels',\n",
    "            {\n",
    "                'product_type': 'reanalysis',\n",
    "                'variable': var_name,\n",
    "                'pressure_level': str(level),\n",
    "                'year': str(date.year),\n",
    "                'month': str(date.month).zfill(2),\n",
    "                'day': str(date.day).zfill(2),\n",
    "                'time': '00:00',\n",
    "                'format': 'netcdf',\n",
    "                'area': [\n",
    "                    latN, lonW, latS, lonE,\n",
    "                ],\n",
    "            },\n",
    "            fname_out)\n",
    "        \n",
    "        # if the file has been downloaded successfully, delete the data on the CDS server  \n",
    "        if fname_out.exists(): \n",
    "            data.delete()"
   ]
  },
  {
   "cell_type": "code",
   "execution_count": null,
   "metadata": {},
   "outputs": [],
   "source": []
  }
 ],
 "metadata": {
  "kernelspec": {
   "display_name": "Python 3",
   "language": "python",
   "name": "python3"
  },
  "language_info": {
   "codemirror_mode": {
    "name": "ipython",
    "version": 3
   },
   "file_extension": ".py",
   "mimetype": "text/x-python",
   "name": "python",
   "nbconvert_exporter": "python",
   "pygments_lexer": "ipython3",
   "version": "3.8.5"
  }
 },
 "nbformat": 4,
 "nbformat_minor": 4
}
