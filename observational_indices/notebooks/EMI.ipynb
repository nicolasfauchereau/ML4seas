{
 "cells": [
  {
   "cell_type": "markdown",
   "metadata": {},
   "source": [
    "# Calculates the El Nino Modoki index (EMI)"
   ]
  },
  {
   "cell_type": "code",
   "execution_count": 3,
   "metadata": {},
   "outputs": [],
   "source": [
    "import sys"
   ]
  },
  {
   "cell_type": "code",
   "execution_count": 4,
   "metadata": {},
   "outputs": [
    {
     "name": "stdout",
     "output_type": "stream",
     "text": [
      "/home/nicolasf/anaconda3/envs/pangeo/bin/python\n"
     ]
    }
   ],
   "source": [
    "print(sys.executable)"
   ]
  },
  {
   "cell_type": "code",
   "execution_count": 5,
   "metadata": {},
   "outputs": [],
   "source": [
    "%matplotlib inline\n",
    "from matplotlib import pyplot as plt"
   ]
  },
  {
   "cell_type": "code",
   "execution_count": 6,
   "metadata": {},
   "outputs": [],
   "source": [
    "import pathlib"
   ]
  },
  {
   "cell_type": "code",
   "execution_count": 7,
   "metadata": {},
   "outputs": [],
   "source": [
    "from datetime import timedelta"
   ]
  },
  {
   "cell_type": "code",
   "execution_count": 8,
   "metadata": {},
   "outputs": [],
   "source": [
    "import numpy as np\n",
    "import pandas as pd"
   ]
  },
  {
   "cell_type": "code",
   "execution_count": 9,
   "metadata": {},
   "outputs": [],
   "source": [
    "from cartopy import crs as ccrs"
   ]
  },
  {
   "cell_type": "code",
   "execution_count": 10,
   "metadata": {},
   "outputs": [],
   "source": [
    "from pandas.plotting import register_matplotlib_converters\n",
    "register_matplotlib_converters()"
   ]
  },
  {
   "cell_type": "code",
   "execution_count": 11,
   "metadata": {},
   "outputs": [],
   "source": [
    "from scipy.stats import zscore"
   ]
  },
  {
   "cell_type": "code",
   "execution_count": 12,
   "metadata": {},
   "outputs": [],
   "source": [
    "import xarray as xr"
   ]
  },
  {
   "cell_type": "code",
   "execution_count": 13,
   "metadata": {},
   "outputs": [],
   "source": [
    "HOME = pathlib.Path.home()"
   ]
  },
  {
   "cell_type": "code",
   "execution_count": 14,
   "metadata": {},
   "outputs": [],
   "source": [
    "dpath = HOME.joinpath(\"research/CPP/indices/data/ERSSTV5\")"
   ]
  },
  {
   "cell_type": "code",
   "execution_count": 15,
   "metadata": {},
   "outputs": [],
   "source": [
    "lfiles_ersst = list(dpath.glob(\"*.nc\"))"
   ]
  },
  {
   "cell_type": "code",
   "execution_count": 16,
   "metadata": {},
   "outputs": [],
   "source": [
    "lfiles_ersst.sort()"
   ]
  },
  {
   "cell_type": "code",
   "execution_count": 17,
   "metadata": {},
   "outputs": [
    {
     "data": {
      "text/plain": [
       "PosixPath('/home/nicolasf/research/CPP/indices/data/ERSSTV5/ersst.v5.185401.nc')"
      ]
     },
     "execution_count": 17,
     "metadata": {},
     "output_type": "execute_result"
    }
   ],
   "source": [
    "lfiles_ersst[0]"
   ]
  },
  {
   "cell_type": "code",
   "execution_count": 18,
   "metadata": {},
   "outputs": [
    {
     "data": {
      "text/plain": [
       "PosixPath('/home/nicolasf/research/CPP/indices/data/ERSSTV5/ersst.v5.202003.nc')"
      ]
     },
     "execution_count": 18,
     "metadata": {},
     "output_type": "execute_result"
    }
   ],
   "source": [
    "lfiles_ersst[-1]"
   ]
  },
  {
   "cell_type": "markdown",
   "metadata": {},
   "source": [
    "### keep only 1950 onwards "
   ]
  },
  {
   "cell_type": "code",
   "execution_count": 19,
   "metadata": {},
   "outputs": [],
   "source": [
    "start_year = 1950"
   ]
  },
  {
   "cell_type": "code",
   "execution_count": 20,
   "metadata": {},
   "outputs": [
    {
     "data": {
      "text/plain": [
       "1164"
      ]
     },
     "execution_count": 20,
     "metadata": {},
     "output_type": "execute_result"
    }
   ],
   "source": [
    "(start_year - 1854 + 1) * 12"
   ]
  },
  {
   "cell_type": "code",
   "execution_count": 21,
   "metadata": {},
   "outputs": [],
   "source": [
    "lfiles_ersst = lfiles_ersst[(start_year - 1854) * 12:]"
   ]
  },
  {
   "cell_type": "code",
   "execution_count": 22,
   "metadata": {},
   "outputs": [
    {
     "data": {
      "text/plain": [
       "PosixPath('/home/nicolasf/research/CPP/indices/data/ERSSTV5/ersst.v5.195001.nc')"
      ]
     },
     "execution_count": 22,
     "metadata": {},
     "output_type": "execute_result"
    }
   ],
   "source": [
    "lfiles_ersst[0]"
   ]
  },
  {
   "cell_type": "code",
   "execution_count": 23,
   "metadata": {},
   "outputs": [
    {
     "data": {
      "text/plain": [
       "PosixPath('/home/nicolasf/research/CPP/indices/data/ERSSTV5/ersst.v5.202003.nc')"
      ]
     },
     "execution_count": 23,
     "metadata": {},
     "output_type": "execute_result"
    }
   ],
   "source": [
    "lfiles_ersst[-1]"
   ]
  },
  {
   "cell_type": "code",
   "execution_count": 24,
   "metadata": {},
   "outputs": [],
   "source": [
    "d = []\n",
    "for fname in lfiles_ersst:\n",
    "#     print(f\"opening {fname}\")\n",
    "    dset = xr.open_dataset(fname, decode_times=False)\n",
    "    dset = dset.squeeze() \n",
    "    if 'lev' in dset.coords:\n",
    "        dset = dset.drop('lev')\n",
    "    dset = dset.sel(lat=slice(-30,30), lon=slice(100,300))\n",
    "    d.append(dset)"
   ]
  },
  {
   "cell_type": "code",
   "execution_count": 25,
   "metadata": {},
   "outputs": [],
   "source": [
    "dset = xr.concat(d, dim='time')"
   ]
  },
  {
   "cell_type": "code",
   "execution_count": 26,
   "metadata": {},
   "outputs": [
    {
     "data": {
      "text/html": [
       "<div><svg style=\"position: absolute; width: 0; height: 0; overflow: hidden\">\n",
       "<defs>\n",
       "<symbol id=\"icon-database\" viewBox=\"0 0 32 32\">\n",
       "<path d=\"M16 0c-8.837 0-16 2.239-16 5v4c0 2.761 7.163 5 16 5s16-2.239 16-5v-4c0-2.761-7.163-5-16-5z\"></path>\n",
       "<path d=\"M16 17c-8.837 0-16-2.239-16-5v6c0 2.761 7.163 5 16 5s16-2.239 16-5v-6c0 2.761-7.163 5-16 5z\"></path>\n",
       "<path d=\"M16 26c-8.837 0-16-2.239-16-5v6c0 2.761 7.163 5 16 5s16-2.239 16-5v-6c0 2.761-7.163 5-16 5z\"></path>\n",
       "</symbol>\n",
       "<symbol id=\"icon-file-text2\" viewBox=\"0 0 32 32\">\n",
       "<path d=\"M28.681 7.159c-0.694-0.947-1.662-2.053-2.724-3.116s-2.169-2.030-3.116-2.724c-1.612-1.182-2.393-1.319-2.841-1.319h-15.5c-1.378 0-2.5 1.121-2.5 2.5v27c0 1.378 1.122 2.5 2.5 2.5h23c1.378 0 2.5-1.122 2.5-2.5v-19.5c0-0.448-0.137-1.23-1.319-2.841zM24.543 5.457c0.959 0.959 1.712 1.825 2.268 2.543h-4.811v-4.811c0.718 0.556 1.584 1.309 2.543 2.268zM28 29.5c0 0.271-0.229 0.5-0.5 0.5h-23c-0.271 0-0.5-0.229-0.5-0.5v-27c0-0.271 0.229-0.5 0.5-0.5 0 0 15.499-0 15.5 0v7c0 0.552 0.448 1 1 1h7v19.5z\"></path>\n",
       "<path d=\"M23 26h-14c-0.552 0-1-0.448-1-1s0.448-1 1-1h14c0.552 0 1 0.448 1 1s-0.448 1-1 1z\"></path>\n",
       "<path d=\"M23 22h-14c-0.552 0-1-0.448-1-1s0.448-1 1-1h14c0.552 0 1 0.448 1 1s-0.448 1-1 1z\"></path>\n",
       "<path d=\"M23 18h-14c-0.552 0-1-0.448-1-1s0.448-1 1-1h14c0.552 0 1 0.448 1 1s-0.448 1-1 1z\"></path>\n",
       "</symbol>\n",
       "</defs>\n",
       "</svg>\n",
       "<style>/* CSS stylesheet for displaying xarray objects in jupyterlab.\n",
       " *\n",
       " */\n",
       "\n",
       ":root {\n",
       "  --xr-font-color0: var(--jp-content-font-color0, rgba(0, 0, 0, 1));\n",
       "  --xr-font-color2: var(--jp-content-font-color2, rgba(0, 0, 0, 0.54));\n",
       "  --xr-font-color3: var(--jp-content-font-color3, rgba(0, 0, 0, 0.38));\n",
       "  --xr-border-color: var(--jp-border-color2, #e0e0e0);\n",
       "  --xr-disabled-color: var(--jp-layout-color3, #bdbdbd);\n",
       "  --xr-background-color: var(--jp-layout-color0, white);\n",
       "  --xr-background-color-row-even: var(--jp-layout-color1, white);\n",
       "  --xr-background-color-row-odd: var(--jp-layout-color2, #eeeeee);\n",
       "}\n",
       "\n",
       "html[theme=dark],\n",
       "body.vscode-dark {\n",
       "  --xr-font-color0: rgba(255, 255, 255, 1);\n",
       "  --xr-font-color2: rgba(255, 255, 255, 0.54);\n",
       "  --xr-font-color3: rgba(255, 255, 255, 0.38);\n",
       "  --xr-border-color: #1F1F1F;\n",
       "  --xr-disabled-color: #515151;\n",
       "  --xr-background-color: #111111;\n",
       "  --xr-background-color-row-even: #111111;\n",
       "  --xr-background-color-row-odd: #313131;\n",
       "}\n",
       "\n",
       ".xr-wrap {\n",
       "  display: block;\n",
       "  min-width: 300px;\n",
       "  max-width: 700px;\n",
       "}\n",
       "\n",
       ".xr-text-repr-fallback {\n",
       "  /* fallback to plain text repr when CSS is not injected (untrusted notebook) */\n",
       "  display: none;\n",
       "}\n",
       "\n",
       ".xr-header {\n",
       "  padding-top: 6px;\n",
       "  padding-bottom: 6px;\n",
       "  margin-bottom: 4px;\n",
       "  border-bottom: solid 1px var(--xr-border-color);\n",
       "}\n",
       "\n",
       ".xr-header > div,\n",
       ".xr-header > ul {\n",
       "  display: inline;\n",
       "  margin-top: 0;\n",
       "  margin-bottom: 0;\n",
       "}\n",
       "\n",
       ".xr-obj-type,\n",
       ".xr-array-name {\n",
       "  margin-left: 2px;\n",
       "  margin-right: 10px;\n",
       "}\n",
       "\n",
       ".xr-obj-type {\n",
       "  color: var(--xr-font-color2);\n",
       "}\n",
       "\n",
       ".xr-sections {\n",
       "  padding-left: 0 !important;\n",
       "  display: grid;\n",
       "  grid-template-columns: 150px auto auto 1fr 20px 20px;\n",
       "}\n",
       "\n",
       ".xr-section-item {\n",
       "  display: contents;\n",
       "}\n",
       "\n",
       ".xr-section-item input {\n",
       "  display: none;\n",
       "}\n",
       "\n",
       ".xr-section-item input + label {\n",
       "  color: var(--xr-disabled-color);\n",
       "}\n",
       "\n",
       ".xr-section-item input:enabled + label {\n",
       "  cursor: pointer;\n",
       "  color: var(--xr-font-color2);\n",
       "}\n",
       "\n",
       ".xr-section-item input:enabled + label:hover {\n",
       "  color: var(--xr-font-color0);\n",
       "}\n",
       "\n",
       ".xr-section-summary {\n",
       "  grid-column: 1;\n",
       "  color: var(--xr-font-color2);\n",
       "  font-weight: 500;\n",
       "}\n",
       "\n",
       ".xr-section-summary > span {\n",
       "  display: inline-block;\n",
       "  padding-left: 0.5em;\n",
       "}\n",
       "\n",
       ".xr-section-summary-in:disabled + label {\n",
       "  color: var(--xr-font-color2);\n",
       "}\n",
       "\n",
       ".xr-section-summary-in + label:before {\n",
       "  display: inline-block;\n",
       "  content: '►';\n",
       "  font-size: 11px;\n",
       "  width: 15px;\n",
       "  text-align: center;\n",
       "}\n",
       "\n",
       ".xr-section-summary-in:disabled + label:before {\n",
       "  color: var(--xr-disabled-color);\n",
       "}\n",
       "\n",
       ".xr-section-summary-in:checked + label:before {\n",
       "  content: '▼';\n",
       "}\n",
       "\n",
       ".xr-section-summary-in:checked + label > span {\n",
       "  display: none;\n",
       "}\n",
       "\n",
       ".xr-section-summary,\n",
       ".xr-section-inline-details {\n",
       "  padding-top: 4px;\n",
       "  padding-bottom: 4px;\n",
       "}\n",
       "\n",
       ".xr-section-inline-details {\n",
       "  grid-column: 2 / -1;\n",
       "}\n",
       "\n",
       ".xr-section-details {\n",
       "  display: none;\n",
       "  grid-column: 1 / -1;\n",
       "  margin-bottom: 5px;\n",
       "}\n",
       "\n",
       ".xr-section-summary-in:checked ~ .xr-section-details {\n",
       "  display: contents;\n",
       "}\n",
       "\n",
       ".xr-array-wrap {\n",
       "  grid-column: 1 / -1;\n",
       "  display: grid;\n",
       "  grid-template-columns: 20px auto;\n",
       "}\n",
       "\n",
       ".xr-array-wrap > label {\n",
       "  grid-column: 1;\n",
       "  vertical-align: top;\n",
       "}\n",
       "\n",
       ".xr-preview {\n",
       "  color: var(--xr-font-color3);\n",
       "}\n",
       "\n",
       ".xr-array-preview,\n",
       ".xr-array-data {\n",
       "  padding: 0 5px !important;\n",
       "  grid-column: 2;\n",
       "}\n",
       "\n",
       ".xr-array-data,\n",
       ".xr-array-in:checked ~ .xr-array-preview {\n",
       "  display: none;\n",
       "}\n",
       "\n",
       ".xr-array-in:checked ~ .xr-array-data,\n",
       ".xr-array-preview {\n",
       "  display: inline-block;\n",
       "}\n",
       "\n",
       ".xr-dim-list {\n",
       "  display: inline-block !important;\n",
       "  list-style: none;\n",
       "  padding: 0 !important;\n",
       "  margin: 0;\n",
       "}\n",
       "\n",
       ".xr-dim-list li {\n",
       "  display: inline-block;\n",
       "  padding: 0;\n",
       "  margin: 0;\n",
       "}\n",
       "\n",
       ".xr-dim-list:before {\n",
       "  content: '(';\n",
       "}\n",
       "\n",
       ".xr-dim-list:after {\n",
       "  content: ')';\n",
       "}\n",
       "\n",
       ".xr-dim-list li:not(:last-child):after {\n",
       "  content: ',';\n",
       "  padding-right: 5px;\n",
       "}\n",
       "\n",
       ".xr-has-index {\n",
       "  font-weight: bold;\n",
       "}\n",
       "\n",
       ".xr-var-list,\n",
       ".xr-var-item {\n",
       "  display: contents;\n",
       "}\n",
       "\n",
       ".xr-var-item > div,\n",
       ".xr-var-item label,\n",
       ".xr-var-item > .xr-var-name span {\n",
       "  background-color: var(--xr-background-color-row-even);\n",
       "  margin-bottom: 0;\n",
       "}\n",
       "\n",
       ".xr-var-item > .xr-var-name:hover span {\n",
       "  padding-right: 5px;\n",
       "}\n",
       "\n",
       ".xr-var-list > li:nth-child(odd) > div,\n",
       ".xr-var-list > li:nth-child(odd) > label,\n",
       ".xr-var-list > li:nth-child(odd) > .xr-var-name span {\n",
       "  background-color: var(--xr-background-color-row-odd);\n",
       "}\n",
       "\n",
       ".xr-var-name {\n",
       "  grid-column: 1;\n",
       "}\n",
       "\n",
       ".xr-var-dims {\n",
       "  grid-column: 2;\n",
       "}\n",
       "\n",
       ".xr-var-dtype {\n",
       "  grid-column: 3;\n",
       "  text-align: right;\n",
       "  color: var(--xr-font-color2);\n",
       "}\n",
       "\n",
       ".xr-var-preview {\n",
       "  grid-column: 4;\n",
       "}\n",
       "\n",
       ".xr-var-name,\n",
       ".xr-var-dims,\n",
       ".xr-var-dtype,\n",
       ".xr-preview,\n",
       ".xr-attrs dt {\n",
       "  white-space: nowrap;\n",
       "  overflow: hidden;\n",
       "  text-overflow: ellipsis;\n",
       "  padding-right: 10px;\n",
       "}\n",
       "\n",
       ".xr-var-name:hover,\n",
       ".xr-var-dims:hover,\n",
       ".xr-var-dtype:hover,\n",
       ".xr-attrs dt:hover {\n",
       "  overflow: visible;\n",
       "  width: auto;\n",
       "  z-index: 1;\n",
       "}\n",
       "\n",
       ".xr-var-attrs,\n",
       ".xr-var-data {\n",
       "  display: none;\n",
       "  background-color: var(--xr-background-color) !important;\n",
       "  padding-bottom: 5px !important;\n",
       "}\n",
       "\n",
       ".xr-var-attrs-in:checked ~ .xr-var-attrs,\n",
       ".xr-var-data-in:checked ~ .xr-var-data {\n",
       "  display: block;\n",
       "}\n",
       "\n",
       ".xr-var-data > table {\n",
       "  float: right;\n",
       "}\n",
       "\n",
       ".xr-var-name span,\n",
       ".xr-var-data,\n",
       ".xr-attrs {\n",
       "  padding-left: 25px !important;\n",
       "}\n",
       "\n",
       ".xr-attrs,\n",
       ".xr-var-attrs,\n",
       ".xr-var-data {\n",
       "  grid-column: 1 / -1;\n",
       "}\n",
       "\n",
       "dl.xr-attrs {\n",
       "  padding: 0;\n",
       "  margin: 0;\n",
       "  display: grid;\n",
       "  grid-template-columns: 125px auto;\n",
       "}\n",
       "\n",
       ".xr-attrs dt, dd {\n",
       "  padding: 0;\n",
       "  margin: 0;\n",
       "  float: left;\n",
       "  padding-right: 10px;\n",
       "  width: auto;\n",
       "}\n",
       "\n",
       ".xr-attrs dt {\n",
       "  font-weight: normal;\n",
       "  grid-column: 1;\n",
       "}\n",
       "\n",
       ".xr-attrs dt:hover span {\n",
       "  display: inline-block;\n",
       "  background: var(--xr-background-color);\n",
       "  padding-right: 10px;\n",
       "}\n",
       "\n",
       ".xr-attrs dd {\n",
       "  grid-column: 2;\n",
       "  white-space: pre-wrap;\n",
       "  word-break: break-all;\n",
       "}\n",
       "\n",
       ".xr-icon-database,\n",
       ".xr-icon-file-text2 {\n",
       "  display: inline-block;\n",
       "  vertical-align: middle;\n",
       "  width: 1em;\n",
       "  height: 1.5em !important;\n",
       "  stroke-width: 0;\n",
       "  stroke: currentColor;\n",
       "  fill: currentColor;\n",
       "}\n",
       "</style><pre class='xr-text-repr-fallback'>&lt;xarray.Dataset&gt;\n",
       "Dimensions:  (lat: 31, lon: 101, time: 843)\n",
       "Coordinates:\n",
       "  * lat      (lat) float64 -30.0 -28.0 -26.0 -24.0 -22.0 ... 24.0 26.0 28.0 30.0\n",
       "  * lon      (lon) float64 100.0 102.0 104.0 106.0 ... 294.0 296.0 298.0 300.0\n",
       "  * time     (time) float64 0.0 0.0 0.0 0.0 ... 5.369e+04 5.369e+04 5.369e+04\n",
       "Data variables:\n",
       "    sst      (time, lat, lon) float32 21.657005 21.630663 ... 21.737593\n",
       "    ssta     (time, lat, lon) float32 0.4796524 0.5450363 ... 0.95321846\n",
       "Attributes:\n",
       "    Conventions:                CF-1.6, ACDD-1.3\n",
       "    metadata_link:              https://doi.org/10.7289/V5T72FNM\n",
       "    id:                         ersst.v5.195001\n",
       "    naming_authority:           gov.noaa.ncei\n",
       "    title:                      NOAA ERSSTv5 (in situ only)\n",
       "    summary:                    ERSST.v5 is developped based on v4 after revi...\n",
       "    institution:                NOAA/NESDIS/NCEI/CCOG\n",
       "    creator_name:               Boyin Huang\n",
       "    creator_email:              boyin.huang@noaa.gov\n",
       "    date_created:               2017-06-30T12:18:00Z\n",
       "    date_modified:              2017-06-30T12:18:00Z\n",
       "    product_version:            Version 5\n",
       "    history:                    Fri Jun 30 12:32:44 2017: ncatted -O -a _Fill...\n",
       "    creator_url:                https://www.ncei.noaa.gov\n",
       "    license:                    No constraints on data access or use\n",
       "    time_coverage_start:        1950-01-01T00:00:00Z\n",
       "    time_coverage_end:          1950-02-01T00:00:00Z\n",
       "    geospatial_lon_min:         -1.0\n",
       "    geospatial_lon_max:         359.0\n",
       "    geospatial_lat_min:         -89.0\n",
       "    geospatial_lat_max:         89.0\n",
       "    geospatial_lat_units:       degrees_north\n",
       "    geospatial_lat_resolution:  2.0\n",
       "    geospatial_lon_units:       degrees_east\n",
       "    geospatial_lon_resolution:  2.0\n",
       "    spatial_resolution:         2.0 degree grid\n",
       "    cdm_data_type:              Grid\n",
       "    processing_level:           NOAA Level 4\n",
       "    standard_name_vocabulary:   CF Standard Name Table (v40, 25 January 2017)\n",
       "    keywords:                   Earth Science &gt; Oceans &gt; Ocean Temperature &gt; ...\n",
       "    keywords_vocabulary:        NASA Global Change Master Directory (GCMD) Sc...\n",
       "    project:                    NOAA Extended Reconstructed Sea Surface Tempe...\n",
       "    platform:                   Ship and Buoy SSTs from ICOADS R3.0 and NCEP GTS\n",
       "    instrument:                 Conventional thermometers\n",
       "    source:                     In situ data: ICOADS R3.0 before 2015, NCEP i...\n",
       "    comment:                    SSTs were observed by conventional thermomete...\n",
       "    references:                 Huang et al, 2017: Extended Reconstructed Sea...\n",
       "    climatology:                Climatology is based on 1971-2000 SST, Xue, Y...</pre><div class='xr-wrap' hidden><div class='xr-header'><div class='xr-obj-type'>xarray.Dataset</div></div><ul class='xr-sections'><li class='xr-section-item'><input id='section-2e80da7f-b9e4-4b29-b442-ec33ad79c77e' class='xr-section-summary-in' type='checkbox' disabled ><label for='section-2e80da7f-b9e4-4b29-b442-ec33ad79c77e' class='xr-section-summary'  title='Expand/collapse section'>Dimensions:</label><div class='xr-section-inline-details'><ul class='xr-dim-list'><li><span class='xr-has-index'>lat</span>: 31</li><li><span class='xr-has-index'>lon</span>: 101</li><li><span class='xr-has-index'>time</span>: 843</li></ul></div><div class='xr-section-details'></div></li><li class='xr-section-item'><input id='section-7018b654-995e-4b1c-9e15-fdea7a087e9d' class='xr-section-summary-in' type='checkbox'  checked><label for='section-7018b654-995e-4b1c-9e15-fdea7a087e9d' class='xr-section-summary' >Coordinates: <span>(3)</span></label><div class='xr-section-inline-details'></div><div class='xr-section-details'><ul class='xr-var-list'><li class='xr-var-item'><div class='xr-var-name'><span class='xr-has-index'>lat</span></div><div class='xr-var-dims'>(lat)</div><div class='xr-var-dtype'>float64</div><div class='xr-var-preview xr-preview'>-30.0 -28.0 -26.0 ... 28.0 30.0</div><input id='attrs-dc800a59-8abd-4a6a-8d81-df6739f737bd' class='xr-var-attrs-in' type='checkbox' ><label for='attrs-dc800a59-8abd-4a6a-8d81-df6739f737bd' title='Show/Hide attributes'><svg class='icon xr-icon-file-text2'><use xlink:href='#icon-file-text2'></use></svg></label><input id='data-eb9f4fde-9a90-4ecd-a1b7-7a320f3006d3' class='xr-var-data-in' type='checkbox'><label for='data-eb9f4fde-9a90-4ecd-a1b7-7a320f3006d3' title='Show/Hide data repr'><svg class='icon xr-icon-database'><use xlink:href='#icon-database'></use></svg></label><div class='xr-var-attrs'><dl class='xr-attrs'><dt><span>units :</span></dt><dd>degrees_north</dd><dt><span>long_name :</span></dt><dd>Latitude</dd><dt><span>standard_name :</span></dt><dd>latitude</dd><dt><span>axis :</span></dt><dd>Y</dd><dt><span>comment :</span></dt><dd>Uniform grid from -88 to 88 by 2</dd></dl></div><div class='xr-var-data'><pre>array([-30., -28., -26., -24., -22., -20., -18., -16., -14., -12., -10.,  -8.,\n",
       "        -6.,  -4.,  -2.,   0.,   2.,   4.,   6.,   8.,  10.,  12.,  14.,  16.,\n",
       "        18.,  20.,  22.,  24.,  26.,  28.,  30.])</pre></div></li><li class='xr-var-item'><div class='xr-var-name'><span class='xr-has-index'>lon</span></div><div class='xr-var-dims'>(lon)</div><div class='xr-var-dtype'>float64</div><div class='xr-var-preview xr-preview'>100.0 102.0 104.0 ... 298.0 300.0</div><input id='attrs-3f70a6e4-783b-4f13-8c2f-2b83b6e47387' class='xr-var-attrs-in' type='checkbox' ><label for='attrs-3f70a6e4-783b-4f13-8c2f-2b83b6e47387' title='Show/Hide attributes'><svg class='icon xr-icon-file-text2'><use xlink:href='#icon-file-text2'></use></svg></label><input id='data-eb63ff22-0361-4371-b0d8-729ec8972663' class='xr-var-data-in' type='checkbox'><label for='data-eb63ff22-0361-4371-b0d8-729ec8972663' title='Show/Hide data repr'><svg class='icon xr-icon-database'><use xlink:href='#icon-database'></use></svg></label><div class='xr-var-attrs'><dl class='xr-attrs'><dt><span>units :</span></dt><dd>degrees_east</dd><dt><span>long_name :</span></dt><dd>Longitude</dd><dt><span>standard_name :</span></dt><dd>longitude</dd><dt><span>axis :</span></dt><dd>X</dd><dt><span>comment :</span></dt><dd>Uniform grid from 0 to 358 by 2</dd></dl></div><div class='xr-var-data'><pre>array([100., 102., 104., 106., 108., 110., 112., 114., 116., 118., 120., 122.,\n",
       "       124., 126., 128., 130., 132., 134., 136., 138., 140., 142., 144., 146.,\n",
       "       148., 150., 152., 154., 156., 158., 160., 162., 164., 166., 168., 170.,\n",
       "       172., 174., 176., 178., 180., 182., 184., 186., 188., 190., 192., 194.,\n",
       "       196., 198., 200., 202., 204., 206., 208., 210., 212., 214., 216., 218.,\n",
       "       220., 222., 224., 226., 228., 230., 232., 234., 236., 238., 240., 242.,\n",
       "       244., 246., 248., 250., 252., 254., 256., 258., 260., 262., 264., 266.,\n",
       "       268., 270., 272., 274., 276., 278., 280., 282., 284., 286., 288., 290.,\n",
       "       292., 294., 296., 298., 300.])</pre></div></li><li class='xr-var-item'><div class='xr-var-name'><span class='xr-has-index'>time</span></div><div class='xr-var-dims'>(time)</div><div class='xr-var-dtype'>float64</div><div class='xr-var-preview xr-preview'>0.0 0.0 0.0 ... 5.369e+04 5.369e+04</div><input id='attrs-c3f3e532-3593-4609-a16e-c71e5f2e6079' class='xr-var-attrs-in' type='checkbox' ><label for='attrs-c3f3e532-3593-4609-a16e-c71e5f2e6079' title='Show/Hide attributes'><svg class='icon xr-icon-file-text2'><use xlink:href='#icon-file-text2'></use></svg></label><input id='data-d56906f5-8018-4249-8c9c-f9d24275f1a3' class='xr-var-data-in' type='checkbox'><label for='data-d56906f5-8018-4249-8c9c-f9d24275f1a3' title='Show/Hide data repr'><svg class='icon xr-icon-database'><use xlink:href='#icon-database'></use></svg></label><div class='xr-var-attrs'><dl class='xr-attrs'><dt><span>standard_name :</span></dt><dd>time</dd><dt><span>axis :</span></dt><dd>T</dd><dt><span>delta_t :</span></dt><dd>0000-01-00</dd><dt><span>avg_period :</span></dt><dd>0000-01-00</dd></dl></div><div class='xr-var-data'><pre>array([    0.,     0.,     0., ..., 53691., 53691., 53691.])</pre></div></li></ul></div></li><li class='xr-section-item'><input id='section-871e6ea4-b6b6-40e4-816b-1e143b5044f8' class='xr-section-summary-in' type='checkbox'  checked><label for='section-871e6ea4-b6b6-40e4-816b-1e143b5044f8' class='xr-section-summary' >Data variables: <span>(2)</span></label><div class='xr-section-inline-details'></div><div class='xr-section-details'><ul class='xr-var-list'><li class='xr-var-item'><div class='xr-var-name'><span>sst</span></div><div class='xr-var-dims'>(time, lat, lon)</div><div class='xr-var-dtype'>float32</div><div class='xr-var-preview xr-preview'>21.657005 21.630663 ... 21.737593</div><input id='attrs-a8db82c3-18cd-4ecb-8127-5ba7abc83a7e' class='xr-var-attrs-in' type='checkbox' ><label for='attrs-a8db82c3-18cd-4ecb-8127-5ba7abc83a7e' title='Show/Hide attributes'><svg class='icon xr-icon-file-text2'><use xlink:href='#icon-file-text2'></use></svg></label><input id='data-ebc4e6f6-97dc-4147-88a3-9ba0bc9d1ac9' class='xr-var-data-in' type='checkbox'><label for='data-ebc4e6f6-97dc-4147-88a3-9ba0bc9d1ac9' title='Show/Hide data repr'><svg class='icon xr-icon-database'><use xlink:href='#icon-database'></use></svg></label><div class='xr-var-attrs'><dl class='xr-attrs'><dt><span>long_name :</span></dt><dd>Extended reconstructed sea surface temperature</dd><dt><span>standard_name :</span></dt><dd>sea_surface_temperature</dd><dt><span>units :</span></dt><dd>degree_C</dd><dt><span>valid_min :</span></dt><dd>-3.0</dd><dt><span>valid_max :</span></dt><dd>45.0</dd></dl></div><div class='xr-var-data'><pre>array([[[21.657005, 21.630663, 21.70986 , ...,       nan,       nan,\n",
       "               nan],\n",
       "        [22.454716, 22.404537, 22.485788, ...,       nan,       nan,\n",
       "               nan],\n",
       "        [23.210505, 23.12676 , 23.205439, ...,       nan,       nan,\n",
       "               nan],\n",
       "        ...,\n",
       "        [      nan,       nan,       nan, ..., 23.232748, 23.101763,\n",
       "         22.965668],\n",
       "        [      nan,       nan,       nan, ..., 22.608603, 22.521927,\n",
       "         22.366844],\n",
       "        [      nan,       nan,       nan, ..., 21.944994, 21.843386,\n",
       "         21.650068]],\n",
       "\n",
       "       [[21.822695, 21.727882, 21.772291, ...,       nan,       nan,\n",
       "               nan],\n",
       "        [22.660194, 22.572197, 22.642437, ...,       nan,       nan,\n",
       "               nan],\n",
       "        [23.457705, 23.403852, 23.533932, ...,       nan,       nan,\n",
       "               nan],\n",
       "...\n",
       "        [      nan,       nan,       nan, ..., 24.320715, 24.314837,\n",
       "         24.274473],\n",
       "        [      nan,       nan,       nan, ..., 23.075077, 23.126495,\n",
       "         23.126228],\n",
       "        [      nan,       nan,       nan, ..., 21.841095, 21.894848,\n",
       "         21.857111]],\n",
       "\n",
       "       [[21.901209, 21.72361 , 21.63787 , ...,       nan,       nan,\n",
       "               nan],\n",
       "        [22.850328, 22.713999, 22.663445, ...,       nan,       nan,\n",
       "               nan],\n",
       "        [23.731153, 23.662828, 23.704405, ...,       nan,       nan,\n",
       "               nan],\n",
       "        ...,\n",
       "        [      nan,       nan,       nan, ..., 23.986818, 24.064066,\n",
       "         24.092407],\n",
       "        [      nan,       nan,       nan, ..., 22.784721, 22.923798,\n",
       "         23.006693],\n",
       "        [      nan,       nan,       nan, ..., 21.55174 , 21.681665,\n",
       "         21.737593]]], dtype=float32)</pre></div></li><li class='xr-var-item'><div class='xr-var-name'><span>ssta</span></div><div class='xr-var-dims'>(time, lat, lon)</div><div class='xr-var-dtype'>float32</div><div class='xr-var-preview xr-preview'>0.4796524 0.5450363 ... 0.95321846</div><input id='attrs-16e06c97-900e-4e73-81d4-db1603a68060' class='xr-var-attrs-in' type='checkbox' ><label for='attrs-16e06c97-900e-4e73-81d4-db1603a68060' title='Show/Hide attributes'><svg class='icon xr-icon-file-text2'><use xlink:href='#icon-file-text2'></use></svg></label><input id='data-e84fd505-5537-4957-90e3-5c937081e183' class='xr-var-data-in' type='checkbox'><label for='data-e84fd505-5537-4957-90e3-5c937081e183' title='Show/Hide data repr'><svg class='icon xr-icon-database'><use xlink:href='#icon-database'></use></svg></label><div class='xr-var-attrs'><dl class='xr-attrs'><dt><span>long_name :</span></dt><dd>Extended reconstructed SST anomalies</dd><dt><span>units :</span></dt><dd>degree_C</dd><dt><span>valid_min :</span></dt><dd>-12.0</dd><dt><span>valid_max :</span></dt><dd>12.0</dd></dl></div><div class='xr-var-data'><pre>array([[[ 0.4796524 ,  0.5450363 ,  0.6626091 , ...,         nan,\n",
       "                 nan,         nan],\n",
       "        [ 0.46144676,  0.5155182 ,  0.63866425, ...,         nan,\n",
       "                 nan,         nan],\n",
       "        [ 0.4864006 ,  0.5174675 ,  0.63204384, ...,         nan,\n",
       "                 nan,         nan],\n",
       "        ...,\n",
       "        [        nan,         nan,         nan, ..., -0.5425205 ,\n",
       "         -0.63798904, -0.7662506 ],\n",
       "        [        nan,         nan,         nan, ..., -0.06010246,\n",
       "         -0.15167809, -0.32876015],\n",
       "        [        nan,         nan,         nan, ...,  0.39680672,\n",
       "          0.24959373,  0.03644371]],\n",
       "\n",
       "       [[ 0.1432972 ,  0.15506744,  0.22760391, ...,         nan,\n",
       "                 nan,         nan],\n",
       "        [ 0.20561028,  0.22130013,  0.300354  , ...,         nan,\n",
       "                 nan,         nan],\n",
       "        [ 0.31245232,  0.33955956,  0.43914032, ...,         nan,\n",
       "                 nan,         nan],\n",
       "...\n",
       "        [        nan,         nan,         nan, ...,  1.0497341 ,\n",
       "          1.0756283 ,  1.0450783 ],\n",
       "        [        nan,         nan,         nan, ...,  1.0137024 ,\n",
       "          1.0427246 ,  1.0009766 ],\n",
       "        [        nan,         nan,         nan, ...,  1.0077839 ,\n",
       "          0.9957237 ,  0.9054241 ]],\n",
       "\n",
       "       [[ 0.35350037,  0.23865128,  0.14257812, ...,         nan,\n",
       "                 nan,         nan],\n",
       "        [ 0.39901733,  0.31722832,  0.23888016, ...,         nan,\n",
       "                 nan,         nan],\n",
       "        [ 0.48700905,  0.443079  ,  0.41498756, ...,         nan,\n",
       "                 nan,         nan],\n",
       "        ...,\n",
       "        [        nan,         nan,         nan, ...,  0.78375626,\n",
       "          0.8923588 ,  0.9379692 ],\n",
       "        [        nan,         nan,         nan, ...,  0.8372612 ,\n",
       "          0.9521713 ,  0.9896717 ],\n",
       "        [        nan,         nan,         nan, ...,  0.88038445,\n",
       "          0.9572277 ,  0.95321846]]], dtype=float32)</pre></div></li></ul></div></li><li class='xr-section-item'><input id='section-dd903898-8eb5-4aee-9ad3-c5332b4f01ec' class='xr-section-summary-in' type='checkbox'  ><label for='section-dd903898-8eb5-4aee-9ad3-c5332b4f01ec' class='xr-section-summary' >Attributes: <span>(38)</span></label><div class='xr-section-inline-details'></div><div class='xr-section-details'><dl class='xr-attrs'><dt><span>Conventions :</span></dt><dd>CF-1.6, ACDD-1.3</dd><dt><span>metadata_link :</span></dt><dd>https://doi.org/10.7289/V5T72FNM</dd><dt><span>id :</span></dt><dd>ersst.v5.195001</dd><dt><span>naming_authority :</span></dt><dd>gov.noaa.ncei</dd><dt><span>title :</span></dt><dd>NOAA ERSSTv5 (in situ only)</dd><dt><span>summary :</span></dt><dd>ERSST.v5 is developped based on v4 after revisions of 8 parameters using updated data sets and advanced knowledge of ERSST analysis</dd><dt><span>institution :</span></dt><dd>NOAA/NESDIS/NCEI/CCOG</dd><dt><span>creator_name :</span></dt><dd>Boyin Huang</dd><dt><span>creator_email :</span></dt><dd>boyin.huang@noaa.gov</dd><dt><span>date_created :</span></dt><dd>2017-06-30T12:18:00Z</dd><dt><span>date_modified :</span></dt><dd>2017-06-30T12:18:00Z</dd><dt><span>product_version :</span></dt><dd>Version 5</dd><dt><span>history :</span></dt><dd>Fri Jun 30 12:32:44 2017: ncatted -O -a _FillValue,ssta,o,f,-999.0 ssta.nc\n",
       "Version 5 based on Version 4</dd><dt><span>creator_url :</span></dt><dd>https://www.ncei.noaa.gov</dd><dt><span>license :</span></dt><dd>No constraints on data access or use</dd><dt><span>time_coverage_start :</span></dt><dd>1950-01-01T00:00:00Z</dd><dt><span>time_coverage_end :</span></dt><dd>1950-02-01T00:00:00Z</dd><dt><span>geospatial_lon_min :</span></dt><dd>-1.0</dd><dt><span>geospatial_lon_max :</span></dt><dd>359.0</dd><dt><span>geospatial_lat_min :</span></dt><dd>-89.0</dd><dt><span>geospatial_lat_max :</span></dt><dd>89.0</dd><dt><span>geospatial_lat_units :</span></dt><dd>degrees_north</dd><dt><span>geospatial_lat_resolution :</span></dt><dd>2.0</dd><dt><span>geospatial_lon_units :</span></dt><dd>degrees_east</dd><dt><span>geospatial_lon_resolution :</span></dt><dd>2.0</dd><dt><span>spatial_resolution :</span></dt><dd>2.0 degree grid</dd><dt><span>cdm_data_type :</span></dt><dd>Grid</dd><dt><span>processing_level :</span></dt><dd>NOAA Level 4</dd><dt><span>standard_name_vocabulary :</span></dt><dd>CF Standard Name Table (v40, 25 January 2017)</dd><dt><span>keywords :</span></dt><dd>Earth Science &gt; Oceans &gt; Ocean Temperature &gt; Sea Surface Temperature</dd><dt><span>keywords_vocabulary :</span></dt><dd>NASA Global Change Master Directory (GCMD) Science Keywords</dd><dt><span>project :</span></dt><dd>NOAA Extended Reconstructed Sea Surface Temperature (ERSST)</dd><dt><span>platform :</span></dt><dd>Ship and Buoy SSTs from ICOADS R3.0 and NCEP GTS</dd><dt><span>instrument :</span></dt><dd>Conventional thermometers</dd><dt><span>source :</span></dt><dd>In situ data: ICOADS R3.0 before 2015, NCEP in situ GTS from 2016 to present, and Argo SST from 1999 to present. Ice data: HadISST2 ice before 2015, and NCEP ice after 2015.</dd><dt><span>comment :</span></dt><dd>SSTs were observed by conventional thermometers in Buckets (in sulated or un-insulated canvas and wooded buckets), Engine Room Intakers, or floats and drifters</dd><dt><span>references :</span></dt><dd>Huang et al, 2017: Extended Reconstructed Sea Surface Temperatures Version 5 (ERSSTv5): Upgrades, Validations, and Intercomparisons. Journal of Climate, https://doi.org/10.1175/JCLI-D-16-0836.1</dd><dt><span>climatology :</span></dt><dd>Climatology is based on 1971-2000 SST, Xue, Y., T. M. Smith, and R. W. Reynolds, 2003: Interdecadal changes of 30-yr SST normals during 1871.2000. Journal of Climate, 16, 1601-1612.</dd></dl></div></li></ul></div></div>"
      ],
      "text/plain": [
       "<xarray.Dataset>\n",
       "Dimensions:  (lat: 31, lon: 101, time: 843)\n",
       "Coordinates:\n",
       "  * lat      (lat) float64 -30.0 -28.0 -26.0 -24.0 -22.0 ... 24.0 26.0 28.0 30.0\n",
       "  * lon      (lon) float64 100.0 102.0 104.0 106.0 ... 294.0 296.0 298.0 300.0\n",
       "  * time     (time) float64 0.0 0.0 0.0 0.0 ... 5.369e+04 5.369e+04 5.369e+04\n",
       "Data variables:\n",
       "    sst      (time, lat, lon) float32 21.657005 21.630663 ... 21.737593\n",
       "    ssta     (time, lat, lon) float32 0.4796524 0.5450363 ... 0.95321846\n",
       "Attributes:\n",
       "    Conventions:                CF-1.6, ACDD-1.3\n",
       "    metadata_link:              https://doi.org/10.7289/V5T72FNM\n",
       "    id:                         ersst.v5.195001\n",
       "    naming_authority:           gov.noaa.ncei\n",
       "    title:                      NOAA ERSSTv5 (in situ only)\n",
       "    summary:                    ERSST.v5 is developped based on v4 after revi...\n",
       "    institution:                NOAA/NESDIS/NCEI/CCOG\n",
       "    creator_name:               Boyin Huang\n",
       "    creator_email:              boyin.huang@noaa.gov\n",
       "    date_created:               2017-06-30T12:18:00Z\n",
       "    date_modified:              2017-06-30T12:18:00Z\n",
       "    product_version:            Version 5\n",
       "    history:                    Fri Jun 30 12:32:44 2017: ncatted -O -a _Fill...\n",
       "    creator_url:                https://www.ncei.noaa.gov\n",
       "    license:                    No constraints on data access or use\n",
       "    time_coverage_start:        1950-01-01T00:00:00Z\n",
       "    time_coverage_end:          1950-02-01T00:00:00Z\n",
       "    geospatial_lon_min:         -1.0\n",
       "    geospatial_lon_max:         359.0\n",
       "    geospatial_lat_min:         -89.0\n",
       "    geospatial_lat_max:         89.0\n",
       "    geospatial_lat_units:       degrees_north\n",
       "    geospatial_lat_resolution:  2.0\n",
       "    geospatial_lon_units:       degrees_east\n",
       "    geospatial_lon_resolution:  2.0\n",
       "    spatial_resolution:         2.0 degree grid\n",
       "    cdm_data_type:              Grid\n",
       "    processing_level:           NOAA Level 4\n",
       "    standard_name_vocabulary:   CF Standard Name Table (v40, 25 January 2017)\n",
       "    keywords:                   Earth Science > Oceans > Ocean Temperature > ...\n",
       "    keywords_vocabulary:        NASA Global Change Master Directory (GCMD) Sc...\n",
       "    project:                    NOAA Extended Reconstructed Sea Surface Tempe...\n",
       "    platform:                   Ship and Buoy SSTs from ICOADS R3.0 and NCEP GTS\n",
       "    instrument:                 Conventional thermometers\n",
       "    source:                     In situ data: ICOADS R3.0 before 2015, NCEP i...\n",
       "    comment:                    SSTs were observed by conventional thermomete...\n",
       "    references:                 Huang et al, 2017: Extended Reconstructed Sea...\n",
       "    climatology:                Climatology is based on 1971-2000 SST, Xue, Y..."
      ]
     },
     "execution_count": 26,
     "metadata": {},
     "output_type": "execute_result"
    }
   ],
   "source": [
    "dset"
   ]
  },
  {
   "cell_type": "code",
   "execution_count": 27,
   "metadata": {},
   "outputs": [],
   "source": [
    "dset['time'] = (('time'), pd.date_range(start=f'{start_year}-01-01', periods=len(dset['time']), freq='MS'))"
   ]
  },
  {
   "cell_type": "markdown",
   "metadata": {},
   "source": [
    "### calculates the anomalies with respect to the 1981-2010 normal"
   ]
  },
  {
   "cell_type": "code",
   "execution_count": 28,
   "metadata": {},
   "outputs": [],
   "source": [
    "def demean(x): \n",
    "    return x - x.sel(time=slice('1981','2010')).mean(dim='time')"
   ]
  },
  {
   "cell_type": "code",
   "execution_count": 29,
   "metadata": {},
   "outputs": [],
   "source": [
    "dset_anoms = dset.groupby('time.month').apply(demean)[['sst']]"
   ]
  },
  {
   "cell_type": "code",
   "execution_count": 30,
   "metadata": {
    "collapsed": false,
    "jupyter": {
     "outputs_hidden": false
    }
   },
   "outputs": [],
   "source": [
    "dom_A = dset_anoms.sel(lat=slice(-10., 10.), lon=slice(165., 220.)).mean(dim='lat').mean(dim='lon')\n",
    "dom_B = dset_anoms.sel(lat=slice(-15., 5.), lon=slice(250., 290.)).mean(dim='lat').mean(dim='lon')\n",
    "dom_C = dset_anoms.sel(lat=slice(-10., 20.), lon=slice(125., 145.)).mean(dim='lat').mean(dim='lon')"
   ]
  },
  {
   "cell_type": "code",
   "execution_count": 31,
   "metadata": {
    "collapsed": false,
    "jupyter": {
     "outputs_hidden": false
    }
   },
   "outputs": [],
   "source": [
    "EMI = dom_A-0.5*dom_B-0.5*dom_C"
   ]
  },
  {
   "cell_type": "code",
   "execution_count": 32,
   "metadata": {},
   "outputs": [],
   "source": [
    "EMI = EMI.to_dataframe()"
   ]
  },
  {
   "cell_type": "code",
   "execution_count": 33,
   "metadata": {},
   "outputs": [],
   "source": [
    "EMI.columns = ['EMI']"
   ]
  },
  {
   "cell_type": "code",
   "execution_count": 34,
   "metadata": {},
   "outputs": [
    {
     "data": {
      "text/plain": [
       "<AxesSubplot:xlabel='time'>"
      ]
     },
     "execution_count": 34,
     "metadata": {},
     "output_type": "execute_result"
    },
    {
     "data": {
      "image/png": "[encoded data removed]",
      "text/plain": [
       "<Figure size 432x288 with 1 Axes>"
      ]
     },
     "metadata": {
      "needs_background": "light"
     },
     "output_type": "display_data"
    }
   ],
   "source": [
    "EMI.plot()"
   ]
  },
  {
   "cell_type": "markdown",
   "metadata": {},
   "source": [
    "### for comparison with the JAMSTEC EMI"
   ]
  },
  {
   "cell_type": "code",
   "execution_count": 35,
   "metadata": {
    "collapsed": false,
    "jupyter": {
     "outputs_hidden": false
    }
   },
   "outputs": [
    {
     "data": {
      "text/html": [
       "<div>\n",
       "<style scoped>\n",
       "    .dataframe tbody tr th:only-of-type {\n",
       "        vertical-align: middle;\n",
       "    }\n",
       "\n",
       "    .dataframe tbody tr th {\n",
       "        vertical-align: top;\n",
       "    }\n",
       "\n",
       "    .dataframe thead th {\n",
       "        text-align: right;\n",
       "    }\n",
       "</style>\n",
       "<table border=\"1\" class=\"dataframe\">\n",
       "  <thead>\n",
       "    <tr style=\"text-align: right;\">\n",
       "      <th></th>\n",
       "      <th>year</th>\n",
       "      <th>month</th>\n",
       "      <th>day</th>\n",
       "      <th>time</th>\n",
       "      <th>Box_A</th>\n",
       "      <th>Box_B</th>\n",
       "      <th>Box_C</th>\n",
       "      <th>EMI</th>\n",
       "    </tr>\n",
       "  </thead>\n",
       "  <tbody>\n",
       "    <tr>\n",
       "      <th>1870-01-16</th>\n",
       "      <td>1870</td>\n",
       "      <td>1</td>\n",
       "      <td>16</td>\n",
       "      <td>0</td>\n",
       "      <td>-0.236928</td>\n",
       "      <td>-0.962961</td>\n",
       "      <td>0.313880</td>\n",
       "      <td>0.087613</td>\n",
       "    </tr>\n",
       "    <tr>\n",
       "      <th>1870-02-16</th>\n",
       "      <td>1870</td>\n",
       "      <td>2</td>\n",
       "      <td>16</td>\n",
       "      <td>0</td>\n",
       "      <td>-0.893361</td>\n",
       "      <td>-0.675769</td>\n",
       "      <td>0.184265</td>\n",
       "      <td>-0.647609</td>\n",
       "    </tr>\n",
       "    <tr>\n",
       "      <th>1870-03-16</th>\n",
       "      <td>1870</td>\n",
       "      <td>3</td>\n",
       "      <td>16</td>\n",
       "      <td>0</td>\n",
       "      <td>-0.710367</td>\n",
       "      <td>-0.356447</td>\n",
       "      <td>0.174618</td>\n",
       "      <td>-0.619452</td>\n",
       "    </tr>\n",
       "    <tr>\n",
       "      <th>1870-04-16</th>\n",
       "      <td>1870</td>\n",
       "      <td>4</td>\n",
       "      <td>16</td>\n",
       "      <td>0</td>\n",
       "      <td>-0.734068</td>\n",
       "      <td>-0.337298</td>\n",
       "      <td>0.001341</td>\n",
       "      <td>-0.566090</td>\n",
       "    </tr>\n",
       "    <tr>\n",
       "      <th>1870-05-16</th>\n",
       "      <td>1870</td>\n",
       "      <td>5</td>\n",
       "      <td>16</td>\n",
       "      <td>0</td>\n",
       "      <td>-0.804244</td>\n",
       "      <td>-0.605928</td>\n",
       "      <td>-0.115931</td>\n",
       "      <td>-0.443315</td>\n",
       "    </tr>\n",
       "  </tbody>\n",
       "</table>\n",
       "</div>"
      ],
      "text/plain": [
       "            year  month  day  time     Box_A     Box_B     Box_C       EMI\n",
       "1870-01-16  1870      1   16     0 -0.236928 -0.962961  0.313880  0.087613\n",
       "1870-02-16  1870      2   16     0 -0.893361 -0.675769  0.184265 -0.647609\n",
       "1870-03-16  1870      3   16     0 -0.710367 -0.356447  0.174618 -0.619452\n",
       "1870-04-16  1870      4   16     0 -0.734068 -0.337298  0.001341 -0.566090\n",
       "1870-05-16  1870      5   16     0 -0.804244 -0.605928 -0.115931 -0.443315"
      ]
     },
     "execution_count": 35,
     "metadata": {},
     "output_type": "execute_result"
    }
   ],
   "source": [
    "url = 'http://www.jamstec.go.jp/frsgc/research/d1/iod/DATA/emi.monthly.txt'\n",
    "\n",
    "jamstect_EMI = pd.read_table(url, header=None, sep=r'[:, \\s*]', skiprows=1, engine='python')\n",
    "\n",
    "jamstect_EMI.columns = ['year','month','day','time','Box_A','Box_B','Box_C','EMI']\n",
    "\n",
    "jamstect_EMI.index = pd.to_datetime(jamstect_EMI[['year','month','day']])\n",
    "\n",
    "jamstect_EMI.head()"
   ]
  },
  {
   "cell_type": "markdown",
   "metadata": {},
   "source": [
    "### shift the index to be the beginning of the month "
   ]
  },
  {
   "cell_type": "code",
   "execution_count": 36,
   "metadata": {},
   "outputs": [],
   "source": [
    "jamstect_EMI.index = jamstect_EMI.index.to_pydatetime() - timedelta(days=15)"
   ]
  },
  {
   "cell_type": "code",
   "execution_count": 37,
   "metadata": {},
   "outputs": [
    {
     "data": {
      "text/html": [
       "<div>\n",
       "<style scoped>\n",
       "    .dataframe tbody tr th:only-of-type {\n",
       "        vertical-align: middle;\n",
       "    }\n",
       "\n",
       "    .dataframe tbody tr th {\n",
       "        vertical-align: top;\n",
       "    }\n",
       "\n",
       "    .dataframe thead th {\n",
       "        text-align: right;\n",
       "    }\n",
       "</style>\n",
       "<table border=\"1\" class=\"dataframe\">\n",
       "  <thead>\n",
       "    <tr style=\"text-align: right;\">\n",
       "      <th></th>\n",
       "      <th>year</th>\n",
       "      <th>month</th>\n",
       "      <th>day</th>\n",
       "      <th>time</th>\n",
       "      <th>Box_A</th>\n",
       "      <th>Box_B</th>\n",
       "      <th>Box_C</th>\n",
       "      <th>EMI</th>\n",
       "    </tr>\n",
       "  </thead>\n",
       "  <tbody>\n",
       "    <tr>\n",
       "      <th>1870-01-01</th>\n",
       "      <td>1870</td>\n",
       "      <td>1</td>\n",
       "      <td>16</td>\n",
       "      <td>0</td>\n",
       "      <td>-0.236928</td>\n",
       "      <td>-0.962961</td>\n",
       "      <td>0.313880</td>\n",
       "      <td>0.087613</td>\n",
       "    </tr>\n",
       "    <tr>\n",
       "      <th>1870-02-01</th>\n",
       "      <td>1870</td>\n",
       "      <td>2</td>\n",
       "      <td>16</td>\n",
       "      <td>0</td>\n",
       "      <td>-0.893361</td>\n",
       "      <td>-0.675769</td>\n",
       "      <td>0.184265</td>\n",
       "      <td>-0.647609</td>\n",
       "    </tr>\n",
       "    <tr>\n",
       "      <th>1870-03-01</th>\n",
       "      <td>1870</td>\n",
       "      <td>3</td>\n",
       "      <td>16</td>\n",
       "      <td>0</td>\n",
       "      <td>-0.710367</td>\n",
       "      <td>-0.356447</td>\n",
       "      <td>0.174618</td>\n",
       "      <td>-0.619452</td>\n",
       "    </tr>\n",
       "    <tr>\n",
       "      <th>1870-04-01</th>\n",
       "      <td>1870</td>\n",
       "      <td>4</td>\n",
       "      <td>16</td>\n",
       "      <td>0</td>\n",
       "      <td>-0.734068</td>\n",
       "      <td>-0.337298</td>\n",
       "      <td>0.001341</td>\n",
       "      <td>-0.566090</td>\n",
       "    </tr>\n",
       "    <tr>\n",
       "      <th>1870-05-01</th>\n",
       "      <td>1870</td>\n",
       "      <td>5</td>\n",
       "      <td>16</td>\n",
       "      <td>0</td>\n",
       "      <td>-0.804244</td>\n",
       "      <td>-0.605928</td>\n",
       "      <td>-0.115931</td>\n",
       "      <td>-0.443315</td>\n",
       "    </tr>\n",
       "  </tbody>\n",
       "</table>\n",
       "</div>"
      ],
      "text/plain": [
       "            year  month  day  time     Box_A     Box_B     Box_C       EMI\n",
       "1870-01-01  1870      1   16     0 -0.236928 -0.962961  0.313880  0.087613\n",
       "1870-02-01  1870      2   16     0 -0.893361 -0.675769  0.184265 -0.647609\n",
       "1870-03-01  1870      3   16     0 -0.710367 -0.356447  0.174618 -0.619452\n",
       "1870-04-01  1870      4   16     0 -0.734068 -0.337298  0.001341 -0.566090\n",
       "1870-05-01  1870      5   16     0 -0.804244 -0.605928 -0.115931 -0.443315"
      ]
     },
     "execution_count": 37,
     "metadata": {},
     "output_type": "execute_result"
    }
   ],
   "source": [
    "jamstect_EMI.head()"
   ]
  },
  {
   "cell_type": "code",
   "execution_count": 38,
   "metadata": {},
   "outputs": [],
   "source": [
    "jamstect_EMI = pd.concat([jamstect_EMI.loc[:,'EMI'], EMI.loc[:,'EMI']], axis=1, join='inner')"
   ]
  },
  {
   "cell_type": "markdown",
   "metadata": {},
   "source": [
    "### correlation between the JAMSTEC EMI and our newly calculated EMI "
   ]
  },
  {
   "cell_type": "code",
   "execution_count": 39,
   "metadata": {},
   "outputs": [
    {
     "data": {
      "text/html": [
       "<div>\n",
       "<style scoped>\n",
       "    .dataframe tbody tr th:only-of-type {\n",
       "        vertical-align: middle;\n",
       "    }\n",
       "\n",
       "    .dataframe tbody tr th {\n",
       "        vertical-align: top;\n",
       "    }\n",
       "\n",
       "    .dataframe thead th {\n",
       "        text-align: right;\n",
       "    }\n",
       "</style>\n",
       "<table border=\"1\" class=\"dataframe\">\n",
       "  <thead>\n",
       "    <tr style=\"text-align: right;\">\n",
       "      <th></th>\n",
       "      <th>EMI</th>\n",
       "      <th>EMI</th>\n",
       "    </tr>\n",
       "  </thead>\n",
       "  <tbody>\n",
       "    <tr>\n",
       "      <th>EMI</th>\n",
       "      <td>1.000000</td>\n",
       "      <td>0.959795</td>\n",
       "    </tr>\n",
       "    <tr>\n",
       "      <th>EMI</th>\n",
       "      <td>0.959795</td>\n",
       "      <td>1.000000</td>\n",
       "    </tr>\n",
       "  </tbody>\n",
       "</table>\n",
       "</div>"
      ],
      "text/plain": [
       "          EMI       EMI\n",
       "EMI  1.000000  0.959795\n",
       "EMI  0.959795  1.000000"
      ]
     },
     "execution_count": 39,
     "metadata": {},
     "output_type": "execute_result"
    }
   ],
   "source": [
    "jamstect_EMI.corr()"
   ]
  },
  {
   "cell_type": "code",
   "execution_count": 40,
   "metadata": {},
   "outputs": [
    {
     "data": {
      "text/plain": [
       "<AxesSubplot:>"
      ]
     },
     "execution_count": 40,
     "metadata": {},
     "output_type": "execute_result"
    },
    {
     "data": {
      "image/png": "[encoded data removed]",
      "text/plain": [
       "<Figure size 432x288 with 1 Axes>"
      ]
     },
     "metadata": {
      "needs_background": "light"
     },
     "output_type": "display_data"
    }
   ],
   "source": [
    "jamstect_EMI.plot()"
   ]
  },
  {
   "cell_type": "markdown",
   "metadata": {},
   "source": [
    "### calculates the 3 months running means "
   ]
  },
  {
   "cell_type": "code",
   "execution_count": 41,
   "metadata": {},
   "outputs": [],
   "source": [
    "EMI = EMI.rolling(window=3).mean()"
   ]
  },
  {
   "cell_type": "markdown",
   "metadata": {},
   "source": [
    "### standardize the seasonal anomalies"
   ]
  },
  {
   "cell_type": "code",
   "execution_count": 42,
   "metadata": {
    "collapsed": false,
    "jupyter": {
     "outputs_hidden": false
    }
   },
   "outputs": [],
   "source": [
    "from scipy.stats import zscore"
   ]
  },
  {
   "cell_type": "code",
   "execution_count": 43,
   "metadata": {},
   "outputs": [],
   "source": [
    "EMI = EMI.dropna()"
   ]
  },
  {
   "cell_type": "code",
   "execution_count": 44,
   "metadata": {
    "collapsed": false,
    "jupyter": {
     "outputs_hidden": false
    }
   },
   "outputs": [],
   "source": [
    "EMI = EMI.assign(EMIstd = zscore(EMI))"
   ]
  },
  {
   "cell_type": "code",
   "execution_count": 45,
   "metadata": {
    "collapsed": false,
    "jupyter": {
     "outputs_hidden": false
    }
   },
   "outputs": [
    {
     "data": {
      "text/html": [
       "<div>\n",
       "<style scoped>\n",
       "    .dataframe tbody tr th:only-of-type {\n",
       "        vertical-align: middle;\n",
       "    }\n",
       "\n",
       "    .dataframe tbody tr th {\n",
       "        vertical-align: top;\n",
       "    }\n",
       "\n",
       "    .dataframe thead th {\n",
       "        text-align: right;\n",
       "    }\n",
       "</style>\n",
       "<table border=\"1\" class=\"dataframe\">\n",
       "  <thead>\n",
       "    <tr style=\"text-align: right;\">\n",
       "      <th></th>\n",
       "      <th>EMI</th>\n",
       "      <th>EMIstd</th>\n",
       "    </tr>\n",
       "    <tr>\n",
       "      <th>time</th>\n",
       "      <th></th>\n",
       "      <th></th>\n",
       "    </tr>\n",
       "  </thead>\n",
       "  <tbody>\n",
       "    <tr>\n",
       "      <th>1950-03-01</th>\n",
       "      <td>-0.427952</td>\n",
       "      <td>-1.040381</td>\n",
       "    </tr>\n",
       "    <tr>\n",
       "      <th>1950-04-01</th>\n",
       "      <td>-0.555731</td>\n",
       "      <td>-1.317305</td>\n",
       "    </tr>\n",
       "    <tr>\n",
       "      <th>1950-05-01</th>\n",
       "      <td>-0.536969</td>\n",
       "      <td>-1.276643</td>\n",
       "    </tr>\n",
       "    <tr>\n",
       "      <th>1950-06-01</th>\n",
       "      <td>-0.296496</td>\n",
       "      <td>-0.755487</td>\n",
       "    </tr>\n",
       "    <tr>\n",
       "      <th>1950-07-01</th>\n",
       "      <td>-0.178073</td>\n",
       "      <td>-0.498841</td>\n",
       "    </tr>\n",
       "  </tbody>\n",
       "</table>\n",
       "</div>"
      ],
      "text/plain": [
       "                 EMI    EMIstd\n",
       "time                          \n",
       "1950-03-01 -0.427952 -1.040381\n",
       "1950-04-01 -0.555731 -1.317305\n",
       "1950-05-01 -0.536969 -1.276643\n",
       "1950-06-01 -0.296496 -0.755487\n",
       "1950-07-01 -0.178073 -0.498841"
      ]
     },
     "execution_count": 45,
     "metadata": {},
     "output_type": "execute_result"
    }
   ],
   "source": [
    "EMI.head()"
   ]
  },
  {
   "cell_type": "markdown",
   "metadata": {},
   "source": [
    "### assign the categories"
   ]
  },
  {
   "cell_type": "code",
   "execution_count": 46,
   "metadata": {},
   "outputs": [],
   "source": [
    "EMI.loc[:, 'cat'] = 0"
   ]
  },
  {
   "cell_type": "code",
   "execution_count": 47,
   "metadata": {
    "collapsed": false,
    "jupyter": {
     "outputs_hidden": false
    }
   },
   "outputs": [
    {
     "data": {
      "text/plain": [
       "<AxesSubplot:>"
      ]
     },
     "execution_count": 47,
     "metadata": {},
     "output_type": "execute_result"
    },
    {
     "data": {
      "image/png": "[encoded data removed]",
      "text/plain": [
       "<Figure size 432x288 with 1 Axes>"
      ]
     },
     "metadata": {
      "needs_background": "light"
     },
     "output_type": "display_data"
    }
   ],
   "source": [
    "EMI.EMIstd.hist()"
   ]
  },
  {
   "cell_type": "code",
   "execution_count": 48,
   "metadata": {
    "collapsed": false,
    "jupyter": {
     "outputs_hidden": false
    }
   },
   "outputs": [
    {
     "data": {
      "text/plain": [
       "EMI      -0.340633\n",
       "EMIstd   -0.851141\n",
       "cat       0.000000\n",
       "Name: 0.2, dtype: float64"
      ]
     },
     "execution_count": 48,
     "metadata": {},
     "output_type": "execute_result"
    }
   ],
   "source": [
    "EMI.quantile(.2)"
   ]
  },
  {
   "cell_type": "code",
   "execution_count": 49,
   "metadata": {
    "collapsed": false,
    "jupyter": {
     "outputs_hidden": false
    }
   },
   "outputs": [
    {
     "data": {
      "text/plain": [
       "EMI       0.428109\n",
       "EMIstd    0.814887\n",
       "cat       0.000000\n",
       "Name: 0.8, dtype: float64"
      ]
     },
     "execution_count": 49,
     "metadata": {},
     "output_type": "execute_result"
    }
   ],
   "source": [
    "EMI.quantile(.8)"
   ]
  },
  {
   "cell_type": "code",
   "execution_count": 50,
   "metadata": {
    "collapsed": false,
    "jupyter": {
     "outputs_hidden": false
    }
   },
   "outputs": [
    {
     "data": {
      "text/plain": [
       "EMI      -0.585178\n",
       "EMIstd   -1.381123\n",
       "cat       0.000000\n",
       "Name: 0.1, dtype: float64"
      ]
     },
     "execution_count": 50,
     "metadata": {},
     "output_type": "execute_result"
    }
   ],
   "source": [
    "EMI.quantile(.1)"
   ]
  },
  {
   "cell_type": "code",
   "execution_count": 51,
   "metadata": {
    "collapsed": false,
    "jupyter": {
     "outputs_hidden": false
    }
   },
   "outputs": [
    {
     "data": {
      "text/plain": [
       "EMI       0.590485\n",
       "EMIstd    1.166790\n",
       "cat       0.000000\n",
       "Name: 0.9, dtype: float64"
      ]
     },
     "execution_count": 51,
     "metadata": {},
     "output_type": "execute_result"
    }
   ],
   "source": [
    "EMI.quantile(.9)"
   ]
  },
  {
   "cell_type": "code",
   "execution_count": 52,
   "metadata": {},
   "outputs": [],
   "source": [
    "lev0 = 1\n",
    "lev1 = 1.5"
   ]
  },
  {
   "cell_type": "code",
   "execution_count": 53,
   "metadata": {},
   "outputs": [],
   "source": [
    "EMI.loc[EMI['EMIstd'] >= lev0, 'cat'] = 1"
   ]
  },
  {
   "cell_type": "code",
   "execution_count": 54,
   "metadata": {},
   "outputs": [],
   "source": [
    "EMI.loc[EMI['EMIstd'] <= -lev0, 'cat'] = -1"
   ]
  },
  {
   "cell_type": "code",
   "execution_count": 55,
   "metadata": {},
   "outputs": [],
   "source": [
    "EMI.loc[EMI['EMIstd'] >= lev1, 'cat'] = 2"
   ]
  },
  {
   "cell_type": "code",
   "execution_count": 56,
   "metadata": {},
   "outputs": [],
   "source": [
    "EMI.loc[EMI['EMIstd'] <= -lev1, 'cat'] = -2"
   ]
  },
  {
   "cell_type": "code",
   "execution_count": 57,
   "metadata": {},
   "outputs": [],
   "source": [
    "EMI.loc[:, 'category'] = 'Neutral'\n",
    "\n",
    "EMI.loc[EMI['EMIstd'] >= lev0, 'category'] = 'EMI+'\n",
    "EMI.loc[EMI['EMIstd'] <= -lev0, 'category'] = 'EMI-'\n",
    "\n",
    "EMI.loc[EMI['EMIstd'] >= lev1, 'category'] = 'EMI++'\n",
    "EMI.loc[EMI['EMIstd'] <= -lev1, 'category'] = 'EMI--'"
   ]
  },
  {
   "cell_type": "code",
   "execution_count": 58,
   "metadata": {
    "collapsed": false,
    "jupyter": {
     "outputs_hidden": false
    }
   },
   "outputs": [
    {
     "data": {
      "text/html": [
       "<div>\n",
       "<style scoped>\n",
       "    .dataframe tbody tr th:only-of-type {\n",
       "        vertical-align: middle;\n",
       "    }\n",
       "\n",
       "    .dataframe tbody tr th {\n",
       "        vertical-align: top;\n",
       "    }\n",
       "\n",
       "    .dataframe thead th {\n",
       "        text-align: right;\n",
       "    }\n",
       "</style>\n",
       "<table border=\"1\" class=\"dataframe\">\n",
       "  <thead>\n",
       "    <tr style=\"text-align: right;\">\n",
       "      <th></th>\n",
       "      <th>EMI</th>\n",
       "      <th>EMIstd</th>\n",
       "      <th>cat</th>\n",
       "      <th>category</th>\n",
       "    </tr>\n",
       "    <tr>\n",
       "      <th>time</th>\n",
       "      <th></th>\n",
       "      <th></th>\n",
       "      <th></th>\n",
       "      <th></th>\n",
       "    </tr>\n",
       "  </thead>\n",
       "  <tbody>\n",
       "    <tr>\n",
       "      <th>1950-03-01</th>\n",
       "      <td>-0.427952</td>\n",
       "      <td>-1.040381</td>\n",
       "      <td>-1</td>\n",
       "      <td>EMI-</td>\n",
       "    </tr>\n",
       "    <tr>\n",
       "      <th>1950-04-01</th>\n",
       "      <td>-0.555731</td>\n",
       "      <td>-1.317305</td>\n",
       "      <td>-1</td>\n",
       "      <td>EMI-</td>\n",
       "    </tr>\n",
       "    <tr>\n",
       "      <th>1950-05-01</th>\n",
       "      <td>-0.536969</td>\n",
       "      <td>-1.276643</td>\n",
       "      <td>-1</td>\n",
       "      <td>EMI-</td>\n",
       "    </tr>\n",
       "    <tr>\n",
       "      <th>1950-06-01</th>\n",
       "      <td>-0.296496</td>\n",
       "      <td>-0.755487</td>\n",
       "      <td>0</td>\n",
       "      <td>Neutral</td>\n",
       "    </tr>\n",
       "    <tr>\n",
       "      <th>1950-07-01</th>\n",
       "      <td>-0.178073</td>\n",
       "      <td>-0.498841</td>\n",
       "      <td>0</td>\n",
       "      <td>Neutral</td>\n",
       "    </tr>\n",
       "  </tbody>\n",
       "</table>\n",
       "</div>"
      ],
      "text/plain": [
       "                 EMI    EMIstd  cat category\n",
       "time                                        \n",
       "1950-03-01 -0.427952 -1.040381   -1     EMI-\n",
       "1950-04-01 -0.555731 -1.317305   -1     EMI-\n",
       "1950-05-01 -0.536969 -1.276643   -1     EMI-\n",
       "1950-06-01 -0.296496 -0.755487    0  Neutral\n",
       "1950-07-01 -0.178073 -0.498841    0  Neutral"
      ]
     },
     "execution_count": 58,
     "metadata": {},
     "output_type": "execute_result"
    }
   ],
   "source": [
    "EMI.head()"
   ]
  },
  {
   "cell_type": "markdown",
   "metadata": {},
   "source": [
    "### offset to the end of the month "
   ]
  },
  {
   "cell_type": "code",
   "execution_count": 59,
   "metadata": {},
   "outputs": [],
   "source": [
    "EMI.index = EMI.index + pd.offsets.MonthEnd(0)"
   ]
  },
  {
   "cell_type": "code",
   "execution_count": 60,
   "metadata": {},
   "outputs": [
    {
     "data": {
      "text/html": [
       "<div>\n",
       "<style scoped>\n",
       "    .dataframe tbody tr th:only-of-type {\n",
       "        vertical-align: middle;\n",
       "    }\n",
       "\n",
       "    .dataframe tbody tr th {\n",
       "        vertical-align: top;\n",
       "    }\n",
       "\n",
       "    .dataframe thead th {\n",
       "        text-align: right;\n",
       "    }\n",
       "</style>\n",
       "<table border=\"1\" class=\"dataframe\">\n",
       "  <thead>\n",
       "    <tr style=\"text-align: right;\">\n",
       "      <th></th>\n",
       "      <th>EMI</th>\n",
       "      <th>EMIstd</th>\n",
       "      <th>cat</th>\n",
       "      <th>category</th>\n",
       "    </tr>\n",
       "    <tr>\n",
       "      <th>time</th>\n",
       "      <th></th>\n",
       "      <th></th>\n",
       "      <th></th>\n",
       "      <th></th>\n",
       "    </tr>\n",
       "  </thead>\n",
       "  <tbody>\n",
       "    <tr>\n",
       "      <th>1950-03-31</th>\n",
       "      <td>-0.427952</td>\n",
       "      <td>-1.040381</td>\n",
       "      <td>-1</td>\n",
       "      <td>EMI-</td>\n",
       "    </tr>\n",
       "    <tr>\n",
       "      <th>1950-04-30</th>\n",
       "      <td>-0.555731</td>\n",
       "      <td>-1.317305</td>\n",
       "      <td>-1</td>\n",
       "      <td>EMI-</td>\n",
       "    </tr>\n",
       "    <tr>\n",
       "      <th>1950-05-31</th>\n",
       "      <td>-0.536969</td>\n",
       "      <td>-1.276643</td>\n",
       "      <td>-1</td>\n",
       "      <td>EMI-</td>\n",
       "    </tr>\n",
       "    <tr>\n",
       "      <th>1950-06-30</th>\n",
       "      <td>-0.296496</td>\n",
       "      <td>-0.755487</td>\n",
       "      <td>0</td>\n",
       "      <td>Neutral</td>\n",
       "    </tr>\n",
       "    <tr>\n",
       "      <th>1950-07-31</th>\n",
       "      <td>-0.178073</td>\n",
       "      <td>-0.498841</td>\n",
       "      <td>0</td>\n",
       "      <td>Neutral</td>\n",
       "    </tr>\n",
       "    <tr>\n",
       "      <th>...</th>\n",
       "      <td>...</td>\n",
       "      <td>...</td>\n",
       "      <td>...</td>\n",
       "      <td>...</td>\n",
       "    </tr>\n",
       "    <tr>\n",
       "      <th>2019-11-30</th>\n",
       "      <td>0.775338</td>\n",
       "      <td>1.567406</td>\n",
       "      <td>2</td>\n",
       "      <td>EMI++</td>\n",
       "    </tr>\n",
       "    <tr>\n",
       "      <th>2019-12-31</th>\n",
       "      <td>0.707239</td>\n",
       "      <td>1.419821</td>\n",
       "      <td>1</td>\n",
       "      <td>EMI+</td>\n",
       "    </tr>\n",
       "    <tr>\n",
       "      <th>2020-01-31</th>\n",
       "      <td>0.592096</td>\n",
       "      <td>1.170281</td>\n",
       "      <td>1</td>\n",
       "      <td>EMI+</td>\n",
       "    </tr>\n",
       "    <tr>\n",
       "      <th>2020-02-29</th>\n",
       "      <td>0.477777</td>\n",
       "      <td>0.922528</td>\n",
       "      <td>0</td>\n",
       "      <td>Neutral</td>\n",
       "    </tr>\n",
       "    <tr>\n",
       "      <th>2020-03-31</th>\n",
       "      <td>0.423151</td>\n",
       "      <td>0.804140</td>\n",
       "      <td>0</td>\n",
       "      <td>Neutral</td>\n",
       "    </tr>\n",
       "  </tbody>\n",
       "</table>\n",
       "<p>841 rows × 4 columns</p>\n",
       "</div>"
      ],
      "text/plain": [
       "                 EMI    EMIstd  cat category\n",
       "time                                        \n",
       "1950-03-31 -0.427952 -1.040381   -1     EMI-\n",
       "1950-04-30 -0.555731 -1.317305   -1     EMI-\n",
       "1950-05-31 -0.536969 -1.276643   -1     EMI-\n",
       "1950-06-30 -0.296496 -0.755487    0  Neutral\n",
       "1950-07-31 -0.178073 -0.498841    0  Neutral\n",
       "...              ...       ...  ...      ...\n",
       "2019-11-30  0.775338  1.567406    2    EMI++\n",
       "2019-12-31  0.707239  1.419821    1     EMI+\n",
       "2020-01-31  0.592096  1.170281    1     EMI+\n",
       "2020-02-29  0.477777  0.922528    0  Neutral\n",
       "2020-03-31  0.423151  0.804140    0  Neutral\n",
       "\n",
       "[841 rows x 4 columns]"
      ]
     },
     "execution_count": 60,
     "metadata": {},
     "output_type": "execute_result"
    }
   ],
   "source": [
    "EMI"
   ]
  },
  {
   "cell_type": "markdown",
   "metadata": {},
   "source": [
    "### selects only the EMI, get rid of the other calculates variables "
   ]
  },
  {
   "cell_type": "code",
   "execution_count": 61,
   "metadata": {},
   "outputs": [],
   "source": [
    "EMI = EMI.loc[:,['EMI']]"
   ]
  },
  {
   "cell_type": "markdown",
   "metadata": {},
   "source": [
    "### saves to disk "
   ]
  },
  {
   "cell_type": "code",
   "execution_count": 62,
   "metadata": {},
   "outputs": [],
   "source": [
    "opath = pathlib.Path(\"/media/nicolasf/END19101/data/observational_indices/EMI\")"
   ]
  },
  {
   "cell_type": "code",
   "execution_count": 63,
   "metadata": {},
   "outputs": [
    {
     "data": {
      "text/html": [
       "<div>\n",
       "<style scoped>\n",
       "    .dataframe tbody tr th:only-of-type {\n",
       "        vertical-align: middle;\n",
       "    }\n",
       "\n",
       "    .dataframe tbody tr th {\n",
       "        vertical-align: top;\n",
       "    }\n",
       "\n",
       "    .dataframe thead th {\n",
       "        text-align: right;\n",
       "    }\n",
       "</style>\n",
       "<table border=\"1\" class=\"dataframe\">\n",
       "  <thead>\n",
       "    <tr style=\"text-align: right;\">\n",
       "      <th></th>\n",
       "      <th>EMI</th>\n",
       "    </tr>\n",
       "    <tr>\n",
       "      <th>time</th>\n",
       "      <th></th>\n",
       "    </tr>\n",
       "  </thead>\n",
       "  <tbody>\n",
       "    <tr>\n",
       "      <th>1950-03-31</th>\n",
       "      <td>-0.427952</td>\n",
       "    </tr>\n",
       "    <tr>\n",
       "      <th>1950-04-30</th>\n",
       "      <td>-0.555731</td>\n",
       "    </tr>\n",
       "    <tr>\n",
       "      <th>1950-05-31</th>\n",
       "      <td>-0.536969</td>\n",
       "    </tr>\n",
       "    <tr>\n",
       "      <th>1950-06-30</th>\n",
       "      <td>-0.296496</td>\n",
       "    </tr>\n",
       "    <tr>\n",
       "      <th>1950-07-31</th>\n",
       "      <td>-0.178073</td>\n",
       "    </tr>\n",
       "    <tr>\n",
       "      <th>...</th>\n",
       "      <td>...</td>\n",
       "    </tr>\n",
       "    <tr>\n",
       "      <th>2019-11-30</th>\n",
       "      <td>0.775338</td>\n",
       "    </tr>\n",
       "    <tr>\n",
       "      <th>2019-12-31</th>\n",
       "      <td>0.707239</td>\n",
       "    </tr>\n",
       "    <tr>\n",
       "      <th>2020-01-31</th>\n",
       "      <td>0.592096</td>\n",
       "    </tr>\n",
       "    <tr>\n",
       "      <th>2020-02-29</th>\n",
       "      <td>0.477777</td>\n",
       "    </tr>\n",
       "    <tr>\n",
       "      <th>2020-03-31</th>\n",
       "      <td>0.423151</td>\n",
       "    </tr>\n",
       "  </tbody>\n",
       "</table>\n",
       "<p>841 rows × 1 columns</p>\n",
       "</div>"
      ],
      "text/plain": [
       "                 EMI\n",
       "time                \n",
       "1950-03-31 -0.427952\n",
       "1950-04-30 -0.555731\n",
       "1950-05-31 -0.536969\n",
       "1950-06-30 -0.296496\n",
       "1950-07-31 -0.178073\n",
       "...              ...\n",
       "2019-11-30  0.775338\n",
       "2019-12-31  0.707239\n",
       "2020-01-31  0.592096\n",
       "2020-02-29  0.477777\n",
       "2020-03-31  0.423151\n",
       "\n",
       "[841 rows x 1 columns]"
      ]
     },
     "execution_count": 63,
     "metadata": {},
     "output_type": "execute_result"
    }
   ],
   "source": [
    "EMI"
   ]
  },
  {
   "cell_type": "code",
   "execution_count": 64,
   "metadata": {},
   "outputs": [],
   "source": [
    "EMI.to_csv(opath.joinpath(\"EMI.csv\"))"
   ]
  },
  {
   "cell_type": "markdown",
   "metadata": {},
   "source": [
    "### now calculates and plot the composite anomalies"
   ]
  },
  {
   "cell_type": "code",
   "execution_count": 58,
   "metadata": {
    "collapsed": false,
    "jupyter": {
     "outputs_hidden": false
    }
   },
   "outputs": [
    {
     "data": {
      "text/html": [
       "<div><svg style=\"position: absolute; width: 0; height: 0; overflow: hidden\">\n",
       "<defs>\n",
       "<symbol id=\"icon-database\" viewBox=\"0 0 32 32\">\n",
       "<path d=\"M16 0c-8.837 0-16 2.239-16 5v4c0 2.761 7.163 5 16 5s16-2.239 16-5v-4c0-2.761-7.163-5-16-5z\"></path>\n",
       "<path d=\"M16 17c-8.837 0-16-2.239-16-5v6c0 2.761 7.163 5 16 5s16-2.239 16-5v-6c0 2.761-7.163 5-16 5z\"></path>\n",
       "<path d=\"M16 26c-8.837 0-16-2.239-16-5v6c0 2.761 7.163 5 16 5s16-2.239 16-5v-6c0 2.761-7.163 5-16 5z\"></path>\n",
       "</symbol>\n",
       "<symbol id=\"icon-file-text2\" viewBox=\"0 0 32 32\">\n",
       "<path d=\"M28.681 7.159c-0.694-0.947-1.662-2.053-2.724-3.116s-2.169-2.030-3.116-2.724c-1.612-1.182-2.393-1.319-2.841-1.319h-15.5c-1.378 0-2.5 1.121-2.5 2.5v27c0 1.378 1.122 2.5 2.5 2.5h23c1.378 0 2.5-1.122 2.5-2.5v-19.5c0-0.448-0.137-1.23-1.319-2.841zM24.543 5.457c0.959 0.959 1.712 1.825 2.268 2.543h-4.811v-4.811c0.718 0.556 1.584 1.309 2.543 2.268zM28 29.5c0 0.271-0.229 0.5-0.5 0.5h-23c-0.271 0-0.5-0.229-0.5-0.5v-27c0-0.271 0.229-0.5 0.5-0.5 0 0 15.499-0 15.5 0v7c0 0.552 0.448 1 1 1h7v19.5z\"></path>\n",
       "<path d=\"M23 26h-14c-0.552 0-1-0.448-1-1s0.448-1 1-1h14c0.552 0 1 0.448 1 1s-0.448 1-1 1z\"></path>\n",
       "<path d=\"M23 22h-14c-0.552 0-1-0.448-1-1s0.448-1 1-1h14c0.552 0 1 0.448 1 1s-0.448 1-1 1z\"></path>\n",
       "<path d=\"M23 18h-14c-0.552 0-1-0.448-1-1s0.448-1 1-1h14c0.552 0 1 0.448 1 1s-0.448 1-1 1z\"></path>\n",
       "</symbol>\n",
       "</defs>\n",
       "</svg>\n",
       "<style>/* CSS stylesheet for displaying xarray objects in jupyterlab.\n",
       " *\n",
       " */\n",
       "\n",
       ":root {\n",
       "  --xr-font-color0: var(--jp-content-font-color0, rgba(0, 0, 0, 1));\n",
       "  --xr-font-color2: var(--jp-content-font-color2, rgba(0, 0, 0, 0.54));\n",
       "  --xr-font-color3: var(--jp-content-font-color3, rgba(0, 0, 0, 0.38));\n",
       "  --xr-border-color: var(--jp-border-color2, #e0e0e0);\n",
       "  --xr-disabled-color: var(--jp-layout-color3, #bdbdbd);\n",
       "  --xr-background-color: var(--jp-layout-color0, white);\n",
       "  --xr-background-color-row-even: var(--jp-layout-color1, white);\n",
       "  --xr-background-color-row-odd: var(--jp-layout-color2, #eeeeee);\n",
       "}\n",
       "\n",
       "html[theme=dark],\n",
       "body.vscode-dark {\n",
       "  --xr-font-color0: rgba(255, 255, 255, 1);\n",
       "  --xr-font-color2: rgba(255, 255, 255, 0.54);\n",
       "  --xr-font-color3: rgba(255, 255, 255, 0.38);\n",
       "  --xr-border-color: #1F1F1F;\n",
       "  --xr-disabled-color: #515151;\n",
       "  --xr-background-color: #111111;\n",
       "  --xr-background-color-row-even: #111111;\n",
       "  --xr-background-color-row-odd: #313131;\n",
       "}\n",
       "\n",
       ".xr-wrap {\n",
       "  display: block;\n",
       "  min-width: 300px;\n",
       "  max-width: 700px;\n",
       "}\n",
       "\n",
       ".xr-text-repr-fallback {\n",
       "  /* fallback to plain text repr when CSS is not injected (untrusted notebook) */\n",
       "  display: none;\n",
       "}\n",
       "\n",
       ".xr-header {\n",
       "  padding-top: 6px;\n",
       "  padding-bottom: 6px;\n",
       "  margin-bottom: 4px;\n",
       "  border-bottom: solid 1px var(--xr-border-color);\n",
       "}\n",
       "\n",
       ".xr-header > div,\n",
       ".xr-header > ul {\n",
       "  display: inline;\n",
       "  margin-top: 0;\n",
       "  margin-bottom: 0;\n",
       "}\n",
       "\n",
       ".xr-obj-type,\n",
       ".xr-array-name {\n",
       "  margin-left: 2px;\n",
       "  margin-right: 10px;\n",
       "}\n",
       "\n",
       ".xr-obj-type {\n",
       "  color: var(--xr-font-color2);\n",
       "}\n",
       "\n",
       ".xr-sections {\n",
       "  padding-left: 0 !important;\n",
       "  display: grid;\n",
       "  grid-template-columns: 150px auto auto 1fr 20px 20px;\n",
       "}\n",
       "\n",
       ".xr-section-item {\n",
       "  display: contents;\n",
       "}\n",
       "\n",
       ".xr-section-item input {\n",
       "  display: none;\n",
       "}\n",
       "\n",
       ".xr-section-item input + label {\n",
       "  color: var(--xr-disabled-color);\n",
       "}\n",
       "\n",
       ".xr-section-item input:enabled + label {\n",
       "  cursor: pointer;\n",
       "  color: var(--xr-font-color2);\n",
       "}\n",
       "\n",
       ".xr-section-item input:enabled + label:hover {\n",
       "  color: var(--xr-font-color0);\n",
       "}\n",
       "\n",
       ".xr-section-summary {\n",
       "  grid-column: 1;\n",
       "  color: var(--xr-font-color2);\n",
       "  font-weight: 500;\n",
       "}\n",
       "\n",
       ".xr-section-summary > span {\n",
       "  display: inline-block;\n",
       "  padding-left: 0.5em;\n",
       "}\n",
       "\n",
       ".xr-section-summary-in:disabled + label {\n",
       "  color: var(--xr-font-color2);\n",
       "}\n",
       "\n",
       ".xr-section-summary-in + label:before {\n",
       "  display: inline-block;\n",
       "  content: '►';\n",
       "  font-size: 11px;\n",
       "  width: 15px;\n",
       "  text-align: center;\n",
       "}\n",
       "\n",
       ".xr-section-summary-in:disabled + label:before {\n",
       "  color: var(--xr-disabled-color);\n",
       "}\n",
       "\n",
       ".xr-section-summary-in:checked + label:before {\n",
       "  content: '▼';\n",
       "}\n",
       "\n",
       ".xr-section-summary-in:checked + label > span {\n",
       "  display: none;\n",
       "}\n",
       "\n",
       ".xr-section-summary,\n",
       ".xr-section-inline-details {\n",
       "  padding-top: 4px;\n",
       "  padding-bottom: 4px;\n",
       "}\n",
       "\n",
       ".xr-section-inline-details {\n",
       "  grid-column: 2 / -1;\n",
       "}\n",
       "\n",
       ".xr-section-details {\n",
       "  display: none;\n",
       "  grid-column: 1 / -1;\n",
       "  margin-bottom: 5px;\n",
       "}\n",
       "\n",
       ".xr-section-summary-in:checked ~ .xr-section-details {\n",
       "  display: contents;\n",
       "}\n",
       "\n",
       ".xr-array-wrap {\n",
       "  grid-column: 1 / -1;\n",
       "  display: grid;\n",
       "  grid-template-columns: 20px auto;\n",
       "}\n",
       "\n",
       ".xr-array-wrap > label {\n",
       "  grid-column: 1;\n",
       "  vertical-align: top;\n",
       "}\n",
       "\n",
       ".xr-preview {\n",
       "  color: var(--xr-font-color3);\n",
       "}\n",
       "\n",
       ".xr-array-preview,\n",
       ".xr-array-data {\n",
       "  padding: 0 5px !important;\n",
       "  grid-column: 2;\n",
       "}\n",
       "\n",
       ".xr-array-data,\n",
       ".xr-array-in:checked ~ .xr-array-preview {\n",
       "  display: none;\n",
       "}\n",
       "\n",
       ".xr-array-in:checked ~ .xr-array-data,\n",
       ".xr-array-preview {\n",
       "  display: inline-block;\n",
       "}\n",
       "\n",
       ".xr-dim-list {\n",
       "  display: inline-block !important;\n",
       "  list-style: none;\n",
       "  padding: 0 !important;\n",
       "  margin: 0;\n",
       "}\n",
       "\n",
       ".xr-dim-list li {\n",
       "  display: inline-block;\n",
       "  padding: 0;\n",
       "  margin: 0;\n",
       "}\n",
       "\n",
       ".xr-dim-list:before {\n",
       "  content: '(';\n",
       "}\n",
       "\n",
       ".xr-dim-list:after {\n",
       "  content: ')';\n",
       "}\n",
       "\n",
       ".xr-dim-list li:not(:last-child):after {\n",
       "  content: ',';\n",
       "  padding-right: 5px;\n",
       "}\n",
       "\n",
       ".xr-has-index {\n",
       "  font-weight: bold;\n",
       "}\n",
       "\n",
       ".xr-var-list,\n",
       ".xr-var-item {\n",
       "  display: contents;\n",
       "}\n",
       "\n",
       ".xr-var-item > div,\n",
       ".xr-var-item label,\n",
       ".xr-var-item > .xr-var-name span {\n",
       "  background-color: var(--xr-background-color-row-even);\n",
       "  margin-bottom: 0;\n",
       "}\n",
       "\n",
       ".xr-var-item > .xr-var-name:hover span {\n",
       "  padding-right: 5px;\n",
       "}\n",
       "\n",
       ".xr-var-list > li:nth-child(odd) > div,\n",
       ".xr-var-list > li:nth-child(odd) > label,\n",
       ".xr-var-list > li:nth-child(odd) > .xr-var-name span {\n",
       "  background-color: var(--xr-background-color-row-odd);\n",
       "}\n",
       "\n",
       ".xr-var-name {\n",
       "  grid-column: 1;\n",
       "}\n",
       "\n",
       ".xr-var-dims {\n",
       "  grid-column: 2;\n",
       "}\n",
       "\n",
       ".xr-var-dtype {\n",
       "  grid-column: 3;\n",
       "  text-align: right;\n",
       "  color: var(--xr-font-color2);\n",
       "}\n",
       "\n",
       ".xr-var-preview {\n",
       "  grid-column: 4;\n",
       "}\n",
       "\n",
       ".xr-var-name,\n",
       ".xr-var-dims,\n",
       ".xr-var-dtype,\n",
       ".xr-preview,\n",
       ".xr-attrs dt {\n",
       "  white-space: nowrap;\n",
       "  overflow: hidden;\n",
       "  text-overflow: ellipsis;\n",
       "  padding-right: 10px;\n",
       "}\n",
       "\n",
       ".xr-var-name:hover,\n",
       ".xr-var-dims:hover,\n",
       ".xr-var-dtype:hover,\n",
       ".xr-attrs dt:hover {\n",
       "  overflow: visible;\n",
       "  width: auto;\n",
       "  z-index: 1;\n",
       "}\n",
       "\n",
       ".xr-var-attrs,\n",
       ".xr-var-data {\n",
       "  display: none;\n",
       "  background-color: var(--xr-background-color) !important;\n",
       "  padding-bottom: 5px !important;\n",
       "}\n",
       "\n",
       ".xr-var-attrs-in:checked ~ .xr-var-attrs,\n",
       ".xr-var-data-in:checked ~ .xr-var-data {\n",
       "  display: block;\n",
       "}\n",
       "\n",
       ".xr-var-data > table {\n",
       "  float: right;\n",
       "}\n",
       "\n",
       ".xr-var-name span,\n",
       ".xr-var-data,\n",
       ".xr-attrs {\n",
       "  padding-left: 25px !important;\n",
       "}\n",
       "\n",
       ".xr-attrs,\n",
       ".xr-var-attrs,\n",
       ".xr-var-data {\n",
       "  grid-column: 1 / -1;\n",
       "}\n",
       "\n",
       "dl.xr-attrs {\n",
       "  padding: 0;\n",
       "  margin: 0;\n",
       "  display: grid;\n",
       "  grid-template-columns: 125px auto;\n",
       "}\n",
       "\n",
       ".xr-attrs dt, dd {\n",
       "  padding: 0;\n",
       "  margin: 0;\n",
       "  float: left;\n",
       "  padding-right: 10px;\n",
       "  width: auto;\n",
       "}\n",
       "\n",
       ".xr-attrs dt {\n",
       "  font-weight: normal;\n",
       "  grid-column: 1;\n",
       "}\n",
       "\n",
       ".xr-attrs dt:hover span {\n",
       "  display: inline-block;\n",
       "  background: var(--xr-background-color);\n",
       "  padding-right: 10px;\n",
       "}\n",
       "\n",
       ".xr-attrs dd {\n",
       "  grid-column: 2;\n",
       "  white-space: pre-wrap;\n",
       "  word-break: break-all;\n",
       "}\n",
       "\n",
       ".xr-icon-database,\n",
       ".xr-icon-file-text2 {\n",
       "  display: inline-block;\n",
       "  vertical-align: middle;\n",
       "  width: 1em;\n",
       "  height: 1.5em !important;\n",
       "  stroke-width: 0;\n",
       "  stroke: currentColor;\n",
       "  fill: currentColor;\n",
       "}\n",
       "</style><pre class='xr-text-repr-fallback'>&lt;xarray.Dataset&gt;\n",
       "Dimensions:  (lat: 31, lon: 101, time: 843)\n",
       "Coordinates:\n",
       "  * lat      (lat) float64 -30.0 -28.0 -26.0 -24.0 -22.0 ... 24.0 26.0 28.0 30.0\n",
       "  * lon      (lon) float64 100.0 102.0 104.0 106.0 ... 294.0 296.0 298.0 300.0\n",
       "  * time     (time) datetime64[ns] 1950-01-01 1950-02-01 ... 2020-03-01\n",
       "Data variables:\n",
       "    sst      (time, lat, lon) float32 0.5244713 0.62719727 ... 0.75855255</pre><div class='xr-wrap' hidden><div class='xr-header'><div class='xr-obj-type'>xarray.Dataset</div></div><ul class='xr-sections'><li class='xr-section-item'><input id='section-efc4baee-fb30-43ca-964e-c8bd2b8c86ff' class='xr-section-summary-in' type='checkbox' disabled ><label for='section-efc4baee-fb30-43ca-964e-c8bd2b8c86ff' class='xr-section-summary'  title='Expand/collapse section'>Dimensions:</label><div class='xr-section-inline-details'><ul class='xr-dim-list'><li><span class='xr-has-index'>lat</span>: 31</li><li><span class='xr-has-index'>lon</span>: 101</li><li><span class='xr-has-index'>time</span>: 843</li></ul></div><div class='xr-section-details'></div></li><li class='xr-section-item'><input id='section-ed901bd8-2b3a-425c-aad0-ef521f8d15b5' class='xr-section-summary-in' type='checkbox'  checked><label for='section-ed901bd8-2b3a-425c-aad0-ef521f8d15b5' class='xr-section-summary' >Coordinates: <span>(3)</span></label><div class='xr-section-inline-details'></div><div class='xr-section-details'><ul class='xr-var-list'><li class='xr-var-item'><div class='xr-var-name'><span class='xr-has-index'>lat</span></div><div class='xr-var-dims'>(lat)</div><div class='xr-var-dtype'>float64</div><div class='xr-var-preview xr-preview'>-30.0 -28.0 -26.0 ... 28.0 30.0</div><input id='attrs-2ddfcf96-f5b4-4c7d-82c4-bfd556ccb34c' class='xr-var-attrs-in' type='checkbox' ><label for='attrs-2ddfcf96-f5b4-4c7d-82c4-bfd556ccb34c' title='Show/Hide attributes'><svg class='icon xr-icon-file-text2'><use xlink:href='#icon-file-text2'></use></svg></label><input id='data-22c698c6-b835-4b73-818f-6f00bcef6066' class='xr-var-data-in' type='checkbox'><label for='data-22c698c6-b835-4b73-818f-6f00bcef6066' title='Show/Hide data repr'><svg class='icon xr-icon-database'><use xlink:href='#icon-database'></use></svg></label><div class='xr-var-attrs'><dl class='xr-attrs'><dt><span>units :</span></dt><dd>degrees_north</dd><dt><span>long_name :</span></dt><dd>Latitude</dd><dt><span>standard_name :</span></dt><dd>latitude</dd><dt><span>axis :</span></dt><dd>Y</dd><dt><span>comment :</span></dt><dd>Uniform grid from -88 to 88 by 2</dd></dl></div><div class='xr-var-data'><pre>array([-30., -28., -26., -24., -22., -20., -18., -16., -14., -12., -10.,  -8.,\n",
       "        -6.,  -4.,  -2.,   0.,   2.,   4.,   6.,   8.,  10.,  12.,  14.,  16.,\n",
       "        18.,  20.,  22.,  24.,  26.,  28.,  30.])</pre></div></li><li class='xr-var-item'><div class='xr-var-name'><span class='xr-has-index'>lon</span></div><div class='xr-var-dims'>(lon)</div><div class='xr-var-dtype'>float64</div><div class='xr-var-preview xr-preview'>100.0 102.0 104.0 ... 298.0 300.0</div><input id='attrs-cbb6752e-5e5a-4ee8-8e43-a351c39c816a' class='xr-var-attrs-in' type='checkbox' ><label for='attrs-cbb6752e-5e5a-4ee8-8e43-a351c39c816a' title='Show/Hide attributes'><svg class='icon xr-icon-file-text2'><use xlink:href='#icon-file-text2'></use></svg></label><input id='data-b10431a8-0068-49d8-9ad6-456857af1163' class='xr-var-data-in' type='checkbox'><label for='data-b10431a8-0068-49d8-9ad6-456857af1163' title='Show/Hide data repr'><svg class='icon xr-icon-database'><use xlink:href='#icon-database'></use></svg></label><div class='xr-var-attrs'><dl class='xr-attrs'><dt><span>units :</span></dt><dd>degrees_east</dd><dt><span>long_name :</span></dt><dd>Longitude</dd><dt><span>standard_name :</span></dt><dd>longitude</dd><dt><span>axis :</span></dt><dd>X</dd><dt><span>comment :</span></dt><dd>Uniform grid from 0 to 358 by 2</dd></dl></div><div class='xr-var-data'><pre>array([100., 102., 104., 106., 108., 110., 112., 114., 116., 118., 120., 122.,\n",
       "       124., 126., 128., 130., 132., 134., 136., 138., 140., 142., 144., 146.,\n",
       "       148., 150., 152., 154., 156., 158., 160., 162., 164., 166., 168., 170.,\n",
       "       172., 174., 176., 178., 180., 182., 184., 186., 188., 190., 192., 194.,\n",
       "       196., 198., 200., 202., 204., 206., 208., 210., 212., 214., 216., 218.,\n",
       "       220., 222., 224., 226., 228., 230., 232., 234., 236., 238., 240., 242.,\n",
       "       244., 246., 248., 250., 252., 254., 256., 258., 260., 262., 264., 266.,\n",
       "       268., 270., 272., 274., 276., 278., 280., 282., 284., 286., 288., 290.,\n",
       "       292., 294., 296., 298., 300.])</pre></div></li><li class='xr-var-item'><div class='xr-var-name'><span class='xr-has-index'>time</span></div><div class='xr-var-dims'>(time)</div><div class='xr-var-dtype'>datetime64[ns]</div><div class='xr-var-preview xr-preview'>1950-01-01 ... 2020-03-01</div><input id='attrs-52dad226-691c-446e-a218-28397e8f6252' class='xr-var-attrs-in' type='checkbox' disabled><label for='attrs-52dad226-691c-446e-a218-28397e8f6252' title='Show/Hide attributes'><svg class='icon xr-icon-file-text2'><use xlink:href='#icon-file-text2'></use></svg></label><input id='data-474a6c6a-930e-478d-84de-30efbf86877a' class='xr-var-data-in' type='checkbox'><label for='data-474a6c6a-930e-478d-84de-30efbf86877a' title='Show/Hide data repr'><svg class='icon xr-icon-database'><use xlink:href='#icon-database'></use></svg></label><div class='xr-var-attrs'><dl class='xr-attrs'></dl></div><div class='xr-var-data'><pre>array([&#x27;1950-01-01T00:00:00.000000000&#x27;, &#x27;1950-02-01T00:00:00.000000000&#x27;,\n",
       "       &#x27;1950-03-01T00:00:00.000000000&#x27;, ..., &#x27;2020-01-01T00:00:00.000000000&#x27;,\n",
       "       &#x27;2020-02-01T00:00:00.000000000&#x27;, &#x27;2020-03-01T00:00:00.000000000&#x27;],\n",
       "      dtype=&#x27;datetime64[ns]&#x27;)</pre></div></li></ul></div></li><li class='xr-section-item'><input id='section-01e0ebd5-7a94-4cce-82c0-d73d7cf3180e' class='xr-section-summary-in' type='checkbox'  checked><label for='section-01e0ebd5-7a94-4cce-82c0-d73d7cf3180e' class='xr-section-summary' >Data variables: <span>(1)</span></label><div class='xr-section-inline-details'></div><div class='xr-section-details'><ul class='xr-var-list'><li class='xr-var-item'><div class='xr-var-name'><span>sst</span></div><div class='xr-var-dims'>(time, lat, lon)</div><div class='xr-var-dtype'>float32</div><div class='xr-var-preview xr-preview'>0.5244713 0.62719727 ... 0.75855255</div><input id='attrs-03a9fd3e-66c6-4220-84c0-db3d02e1671d' class='xr-var-attrs-in' type='checkbox' disabled><label for='attrs-03a9fd3e-66c6-4220-84c0-db3d02e1671d' title='Show/Hide attributes'><svg class='icon xr-icon-file-text2'><use xlink:href='#icon-file-text2'></use></svg></label><input id='data-1e9db69e-da5c-4c73-b57d-4c542b4d116d' class='xr-var-data-in' type='checkbox'><label for='data-1e9db69e-da5c-4c73-b57d-4c542b4d116d' title='Show/Hide data repr'><svg class='icon xr-icon-database'><use xlink:href='#icon-database'></use></svg></label><div class='xr-var-attrs'><dl class='xr-attrs'></dl></div><div class='xr-var-data'><pre>array([[[ 0.5244713 ,  0.62719727,  0.7851944 , ...,         nan,\n",
       "                 nan,         nan],\n",
       "        [ 0.56443787,  0.6456642 ,  0.794714  , ...,         nan,\n",
       "                 nan,         nan],\n",
       "        [ 0.62371826,  0.6722698 ,  0.805603  , ...,         nan,\n",
       "                 nan,         nan],\n",
       "        ...,\n",
       "        [        nan,         nan,         nan, ..., -0.8885937 ,\n",
       "         -1.006176  , -1.1223049 ],\n",
       "        [        nan,         nan,         nan, ..., -0.36753845,\n",
       "         -0.47472382, -0.63811874],\n",
       "        [        nan,         nan,         nan, ...,  0.16896248,\n",
       "          0.02679253, -0.16637039]],\n",
       "\n",
       "       [[ 0.14455414,  0.18637848,  0.29170036, ...,         nan,\n",
       "                 nan,         nan],\n",
       "        [ 0.26234627,  0.30068016,  0.39941406, ...,         nan,\n",
       "                 nan,         nan],\n",
       "        [ 0.40076065,  0.4414463 ,  0.5540905 , ...,         nan,\n",
       "                 nan,         nan],\n",
       "...\n",
       "        [        nan,         nan,         nan, ...,  0.6469097 ,\n",
       "          0.6464386 ,  0.62962914],\n",
       "        [        nan,         nan,         nan, ...,  0.6659851 ,\n",
       "          0.6706619 ,  0.6400089 ],\n",
       "        [        nan,         nan,         nan, ...,  0.7625904 ,\n",
       "          0.74487877,  0.6681576 ]],\n",
       "\n",
       "       [[ 0.398592  ,  0.30164337,  0.21389961, ...,         nan,\n",
       "                 nan,         nan],\n",
       "        [ 0.47601128,  0.40616226,  0.32563782, ...,         nan,\n",
       "                 nan,         nan],\n",
       "        [ 0.5782795 ,  0.5372505 ,  0.5015316 , ...,         nan,\n",
       "                 nan,         nan],\n",
       "        ...,\n",
       "        [        nan,         nan,         nan, ...,  0.3873539 ,\n",
       "          0.4626007 ,  0.5132408 ],\n",
       "        [        nan,         nan,         nan, ...,  0.5181618 ,\n",
       "          0.6009884 ,  0.64102745],\n",
       "        [        nan,         nan,         nan, ...,  0.69735336,\n",
       "          0.7579632 ,  0.75855255]]], dtype=float32)</pre></div></li></ul></div></li><li class='xr-section-item'><input id='section-7dba2405-b578-4465-8725-4a5b05bde069' class='xr-section-summary-in' type='checkbox' disabled ><label for='section-7dba2405-b578-4465-8725-4a5b05bde069' class='xr-section-summary'  title='Expand/collapse section'>Attributes: <span>(0)</span></label><div class='xr-section-inline-details'></div><div class='xr-section-details'><dl class='xr-attrs'></dl></div></li></ul></div></div>"
      ],
      "text/plain": [
       "<xarray.Dataset>\n",
       "Dimensions:  (lat: 31, lon: 101, time: 843)\n",
       "Coordinates:\n",
       "  * lat      (lat) float64 -30.0 -28.0 -26.0 -24.0 -22.0 ... 24.0 26.0 28.0 30.0\n",
       "  * lon      (lon) float64 100.0 102.0 104.0 106.0 ... 294.0 296.0 298.0 300.0\n",
       "  * time     (time) datetime64[ns] 1950-01-01 1950-02-01 ... 2020-03-01\n",
       "Data variables:\n",
       "    sst      (time, lat, lon) float32 0.5244713 0.62719727 ... 0.75855255"
      ]
     },
     "execution_count": 58,
     "metadata": {},
     "output_type": "execute_result"
    }
   ],
   "source": [
    "dset_anoms"
   ]
  },
  {
   "cell_type": "code",
   "execution_count": 59,
   "metadata": {},
   "outputs": [],
   "source": [
    "dset_anoms = dset_anoms[['sst']]"
   ]
  },
  {
   "cell_type": "code",
   "execution_count": 60,
   "metadata": {
    "collapsed": false,
    "jupyter": {
     "outputs_hidden": false
    }
   },
   "outputs": [
    {
     "data": {
      "text/plain": [
       "<matplotlib.collections.QuadMesh at 0x7f56e2d970a0>"
      ]
     },
     "execution_count": 60,
     "metadata": {},
     "output_type": "execute_result"
    },
    {
     "data": {
      "image/png": "[encoded data removed]",
      "text/plain": [
       "<Figure size 432x288 with 2 Axes>"
      ]
     },
     "metadata": {
      "needs_background": "light"
     },
     "output_type": "display_data"
    }
   ],
   "source": [
    "dset_anoms['sst'][-1,:,:].plot()"
   ]
  },
  {
   "cell_type": "code",
   "execution_count": 61,
   "metadata": {},
   "outputs": [],
   "source": [
    "from scipy.signal import detrend"
   ]
  },
  {
   "cell_type": "code",
   "execution_count": 62,
   "metadata": {},
   "outputs": [],
   "source": [
    "def detrend_xarray(x): \n",
    "    if np.all(np.isnan(x)): \n",
    "        pass\n",
    "    else: \n",
    "        x = detrend(x)\n",
    "    return x"
   ]
  },
  {
   "cell_type": "code",
   "execution_count": 63,
   "metadata": {
    "collapsed": false,
    "jupyter": {
     "outputs_hidden": false
    }
   },
   "outputs": [],
   "source": [
    "dset_anoms['sst_det'] = (('time', 'lat', 'lon'), np.apply_along_axis(detrend_xarray, 0, dset_anoms['sst'].data))"
   ]
  },
  {
   "cell_type": "code",
   "execution_count": 64,
   "metadata": {
    "collapsed": false,
    "jupyter": {
     "outputs_hidden": false
    }
   },
   "outputs": [
    {
     "data": {
      "text/plain": [
       "<matplotlib.collections.QuadMesh at 0x7f56e4f547c0>"
      ]
     },
     "execution_count": 64,
     "metadata": {},
     "output_type": "execute_result"
    },
    {
     "data": {
      "image/png": "[encoded data removed]",
      "text/plain": [
       "<Figure size 432x288 with 2 Axes>"
      ]
     },
     "metadata": {
      "needs_background": "light"
     },
     "output_type": "display_data"
    }
   ],
   "source": [
    "dset_anoms['sst_det'][0,:,:].plot()"
   ]
  },
  {
   "cell_type": "code",
   "execution_count": 65,
   "metadata": {
    "collapsed": false,
    "jupyter": {
     "outputs_hidden": false
    }
   },
   "outputs": [
    {
     "data": {
      "text/html": [
       "<div><svg style=\"position: absolute; width: 0; height: 0; overflow: hidden\">\n",
       "<defs>\n",
       "<symbol id=\"icon-database\" viewBox=\"0 0 32 32\">\n",
       "<path d=\"M16 0c-8.837 0-16 2.239-16 5v4c0 2.761 7.163 5 16 5s16-2.239 16-5v-4c0-2.761-7.163-5-16-5z\"></path>\n",
       "<path d=\"M16 17c-8.837 0-16-2.239-16-5v6c0 2.761 7.163 5 16 5s16-2.239 16-5v-6c0 2.761-7.163 5-16 5z\"></path>\n",
       "<path d=\"M16 26c-8.837 0-16-2.239-16-5v6c0 2.761 7.163 5 16 5s16-2.239 16-5v-6c0 2.761-7.163 5-16 5z\"></path>\n",
       "</symbol>\n",
       "<symbol id=\"icon-file-text2\" viewBox=\"0 0 32 32\">\n",
       "<path d=\"M28.681 7.159c-0.694-0.947-1.662-2.053-2.724-3.116s-2.169-2.030-3.116-2.724c-1.612-1.182-2.393-1.319-2.841-1.319h-15.5c-1.378 0-2.5 1.121-2.5 2.5v27c0 1.378 1.122 2.5 2.5 2.5h23c1.378 0 2.5-1.122 2.5-2.5v-19.5c0-0.448-0.137-1.23-1.319-2.841zM24.543 5.457c0.959 0.959 1.712 1.825 2.268 2.543h-4.811v-4.811c0.718 0.556 1.584 1.309 2.543 2.268zM28 29.5c0 0.271-0.229 0.5-0.5 0.5h-23c-0.271 0-0.5-0.229-0.5-0.5v-27c0-0.271 0.229-0.5 0.5-0.5 0 0 15.499-0 15.5 0v7c0 0.552 0.448 1 1 1h7v19.5z\"></path>\n",
       "<path d=\"M23 26h-14c-0.552 0-1-0.448-1-1s0.448-1 1-1h14c0.552 0 1 0.448 1 1s-0.448 1-1 1z\"></path>\n",
       "<path d=\"M23 22h-14c-0.552 0-1-0.448-1-1s0.448-1 1-1h14c0.552 0 1 0.448 1 1s-0.448 1-1 1z\"></path>\n",
       "<path d=\"M23 18h-14c-0.552 0-1-0.448-1-1s0.448-1 1-1h14c0.552 0 1 0.448 1 1s-0.448 1-1 1z\"></path>\n",
       "</symbol>\n",
       "</defs>\n",
       "</svg>\n",
       "<style>/* CSS stylesheet for displaying xarray objects in jupyterlab.\n",
       " *\n",
       " */\n",
       "\n",
       ":root {\n",
       "  --xr-font-color0: var(--jp-content-font-color0, rgba(0, 0, 0, 1));\n",
       "  --xr-font-color2: var(--jp-content-font-color2, rgba(0, 0, 0, 0.54));\n",
       "  --xr-font-color3: var(--jp-content-font-color3, rgba(0, 0, 0, 0.38));\n",
       "  --xr-border-color: var(--jp-border-color2, #e0e0e0);\n",
       "  --xr-disabled-color: var(--jp-layout-color3, #bdbdbd);\n",
       "  --xr-background-color: var(--jp-layout-color0, white);\n",
       "  --xr-background-color-row-even: var(--jp-layout-color1, white);\n",
       "  --xr-background-color-row-odd: var(--jp-layout-color2, #eeeeee);\n",
       "}\n",
       "\n",
       "html[theme=dark],\n",
       "body.vscode-dark {\n",
       "  --xr-font-color0: rgba(255, 255, 255, 1);\n",
       "  --xr-font-color2: rgba(255, 255, 255, 0.54);\n",
       "  --xr-font-color3: rgba(255, 255, 255, 0.38);\n",
       "  --xr-border-color: #1F1F1F;\n",
       "  --xr-disabled-color: #515151;\n",
       "  --xr-background-color: #111111;\n",
       "  --xr-background-color-row-even: #111111;\n",
       "  --xr-background-color-row-odd: #313131;\n",
       "}\n",
       "\n",
       ".xr-wrap {\n",
       "  display: block;\n",
       "  min-width: 300px;\n",
       "  max-width: 700px;\n",
       "}\n",
       "\n",
       ".xr-text-repr-fallback {\n",
       "  /* fallback to plain text repr when CSS is not injected (untrusted notebook) */\n",
       "  display: none;\n",
       "}\n",
       "\n",
       ".xr-header {\n",
       "  padding-top: 6px;\n",
       "  padding-bottom: 6px;\n",
       "  margin-bottom: 4px;\n",
       "  border-bottom: solid 1px var(--xr-border-color);\n",
       "}\n",
       "\n",
       ".xr-header > div,\n",
       ".xr-header > ul {\n",
       "  display: inline;\n",
       "  margin-top: 0;\n",
       "  margin-bottom: 0;\n",
       "}\n",
       "\n",
       ".xr-obj-type,\n",
       ".xr-array-name {\n",
       "  margin-left: 2px;\n",
       "  margin-right: 10px;\n",
       "}\n",
       "\n",
       ".xr-obj-type {\n",
       "  color: var(--xr-font-color2);\n",
       "}\n",
       "\n",
       ".xr-sections {\n",
       "  padding-left: 0 !important;\n",
       "  display: grid;\n",
       "  grid-template-columns: 150px auto auto 1fr 20px 20px;\n",
       "}\n",
       "\n",
       ".xr-section-item {\n",
       "  display: contents;\n",
       "}\n",
       "\n",
       ".xr-section-item input {\n",
       "  display: none;\n",
       "}\n",
       "\n",
       ".xr-section-item input + label {\n",
       "  color: var(--xr-disabled-color);\n",
       "}\n",
       "\n",
       ".xr-section-item input:enabled + label {\n",
       "  cursor: pointer;\n",
       "  color: var(--xr-font-color2);\n",
       "}\n",
       "\n",
       ".xr-section-item input:enabled + label:hover {\n",
       "  color: var(--xr-font-color0);\n",
       "}\n",
       "\n",
       ".xr-section-summary {\n",
       "  grid-column: 1;\n",
       "  color: var(--xr-font-color2);\n",
       "  font-weight: 500;\n",
       "}\n",
       "\n",
       ".xr-section-summary > span {\n",
       "  display: inline-block;\n",
       "  padding-left: 0.5em;\n",
       "}\n",
       "\n",
       ".xr-section-summary-in:disabled + label {\n",
       "  color: var(--xr-font-color2);\n",
       "}\n",
       "\n",
       ".xr-section-summary-in + label:before {\n",
       "  display: inline-block;\n",
       "  content: '►';\n",
       "  font-size: 11px;\n",
       "  width: 15px;\n",
       "  text-align: center;\n",
       "}\n",
       "\n",
       ".xr-section-summary-in:disabled + label:before {\n",
       "  color: var(--xr-disabled-color);\n",
       "}\n",
       "\n",
       ".xr-section-summary-in:checked + label:before {\n",
       "  content: '▼';\n",
       "}\n",
       "\n",
       ".xr-section-summary-in:checked + label > span {\n",
       "  display: none;\n",
       "}\n",
       "\n",
       ".xr-section-summary,\n",
       ".xr-section-inline-details {\n",
       "  padding-top: 4px;\n",
       "  padding-bottom: 4px;\n",
       "}\n",
       "\n",
       ".xr-section-inline-details {\n",
       "  grid-column: 2 / -1;\n",
       "}\n",
       "\n",
       ".xr-section-details {\n",
       "  display: none;\n",
       "  grid-column: 1 / -1;\n",
       "  margin-bottom: 5px;\n",
       "}\n",
       "\n",
       ".xr-section-summary-in:checked ~ .xr-section-details {\n",
       "  display: contents;\n",
       "}\n",
       "\n",
       ".xr-array-wrap {\n",
       "  grid-column: 1 / -1;\n",
       "  display: grid;\n",
       "  grid-template-columns: 20px auto;\n",
       "}\n",
       "\n",
       ".xr-array-wrap > label {\n",
       "  grid-column: 1;\n",
       "  vertical-align: top;\n",
       "}\n",
       "\n",
       ".xr-preview {\n",
       "  color: var(--xr-font-color3);\n",
       "}\n",
       "\n",
       ".xr-array-preview,\n",
       ".xr-array-data {\n",
       "  padding: 0 5px !important;\n",
       "  grid-column: 2;\n",
       "}\n",
       "\n",
       ".xr-array-data,\n",
       ".xr-array-in:checked ~ .xr-array-preview {\n",
       "  display: none;\n",
       "}\n",
       "\n",
       ".xr-array-in:checked ~ .xr-array-data,\n",
       ".xr-array-preview {\n",
       "  display: inline-block;\n",
       "}\n",
       "\n",
       ".xr-dim-list {\n",
       "  display: inline-block !important;\n",
       "  list-style: none;\n",
       "  padding: 0 !important;\n",
       "  margin: 0;\n",
       "}\n",
       "\n",
       ".xr-dim-list li {\n",
       "  display: inline-block;\n",
       "  padding: 0;\n",
       "  margin: 0;\n",
       "}\n",
       "\n",
       ".xr-dim-list:before {\n",
       "  content: '(';\n",
       "}\n",
       "\n",
       ".xr-dim-list:after {\n",
       "  content: ')';\n",
       "}\n",
       "\n",
       ".xr-dim-list li:not(:last-child):after {\n",
       "  content: ',';\n",
       "  padding-right: 5px;\n",
       "}\n",
       "\n",
       ".xr-has-index {\n",
       "  font-weight: bold;\n",
       "}\n",
       "\n",
       ".xr-var-list,\n",
       ".xr-var-item {\n",
       "  display: contents;\n",
       "}\n",
       "\n",
       ".xr-var-item > div,\n",
       ".xr-var-item label,\n",
       ".xr-var-item > .xr-var-name span {\n",
       "  background-color: var(--xr-background-color-row-even);\n",
       "  margin-bottom: 0;\n",
       "}\n",
       "\n",
       ".xr-var-item > .xr-var-name:hover span {\n",
       "  padding-right: 5px;\n",
       "}\n",
       "\n",
       ".xr-var-list > li:nth-child(odd) > div,\n",
       ".xr-var-list > li:nth-child(odd) > label,\n",
       ".xr-var-list > li:nth-child(odd) > .xr-var-name span {\n",
       "  background-color: var(--xr-background-color-row-odd);\n",
       "}\n",
       "\n",
       ".xr-var-name {\n",
       "  grid-column: 1;\n",
       "}\n",
       "\n",
       ".xr-var-dims {\n",
       "  grid-column: 2;\n",
       "}\n",
       "\n",
       ".xr-var-dtype {\n",
       "  grid-column: 3;\n",
       "  text-align: right;\n",
       "  color: var(--xr-font-color2);\n",
       "}\n",
       "\n",
       ".xr-var-preview {\n",
       "  grid-column: 4;\n",
       "}\n",
       "\n",
       ".xr-var-name,\n",
       ".xr-var-dims,\n",
       ".xr-var-dtype,\n",
       ".xr-preview,\n",
       ".xr-attrs dt {\n",
       "  white-space: nowrap;\n",
       "  overflow: hidden;\n",
       "  text-overflow: ellipsis;\n",
       "  padding-right: 10px;\n",
       "}\n",
       "\n",
       ".xr-var-name:hover,\n",
       ".xr-var-dims:hover,\n",
       ".xr-var-dtype:hover,\n",
       ".xr-attrs dt:hover {\n",
       "  overflow: visible;\n",
       "  width: auto;\n",
       "  z-index: 1;\n",
       "}\n",
       "\n",
       ".xr-var-attrs,\n",
       ".xr-var-data {\n",
       "  display: none;\n",
       "  background-color: var(--xr-background-color) !important;\n",
       "  padding-bottom: 5px !important;\n",
       "}\n",
       "\n",
       ".xr-var-attrs-in:checked ~ .xr-var-attrs,\n",
       ".xr-var-data-in:checked ~ .xr-var-data {\n",
       "  display: block;\n",
       "}\n",
       "\n",
       ".xr-var-data > table {\n",
       "  float: right;\n",
       "}\n",
       "\n",
       ".xr-var-name span,\n",
       ".xr-var-data,\n",
       ".xr-attrs {\n",
       "  padding-left: 25px !important;\n",
       "}\n",
       "\n",
       ".xr-attrs,\n",
       ".xr-var-attrs,\n",
       ".xr-var-data {\n",
       "  grid-column: 1 / -1;\n",
       "}\n",
       "\n",
       "dl.xr-attrs {\n",
       "  padding: 0;\n",
       "  margin: 0;\n",
       "  display: grid;\n",
       "  grid-template-columns: 125px auto;\n",
       "}\n",
       "\n",
       ".xr-attrs dt, dd {\n",
       "  padding: 0;\n",
       "  margin: 0;\n",
       "  float: left;\n",
       "  padding-right: 10px;\n",
       "  width: auto;\n",
       "}\n",
       "\n",
       ".xr-attrs dt {\n",
       "  font-weight: normal;\n",
       "  grid-column: 1;\n",
       "}\n",
       "\n",
       ".xr-attrs dt:hover span {\n",
       "  display: inline-block;\n",
       "  background: var(--xr-background-color);\n",
       "  padding-right: 10px;\n",
       "}\n",
       "\n",
       ".xr-attrs dd {\n",
       "  grid-column: 2;\n",
       "  white-space: pre-wrap;\n",
       "  word-break: break-all;\n",
       "}\n",
       "\n",
       ".xr-icon-database,\n",
       ".xr-icon-file-text2 {\n",
       "  display: inline-block;\n",
       "  vertical-align: middle;\n",
       "  width: 1em;\n",
       "  height: 1.5em !important;\n",
       "  stroke-width: 0;\n",
       "  stroke: currentColor;\n",
       "  fill: currentColor;\n",
       "}\n",
       "</style><pre class='xr-text-repr-fallback'>&lt;xarray.Dataset&gt;\n",
       "Dimensions:  (lat: 31, lon: 101, time: 843)\n",
       "Coordinates:\n",
       "  * lat      (lat) float64 -30.0 -28.0 -26.0 -24.0 -22.0 ... 24.0 26.0 28.0 30.0\n",
       "  * lon      (lon) float64 100.0 102.0 104.0 106.0 ... 294.0 296.0 298.0 300.0\n",
       "  * time     (time) datetime64[ns] 1950-01-01 1950-02-01 ... 2020-03-01\n",
       "Data variables:\n",
       "    sst      (time, lat, lon) float32 0.5244713 0.62719727 ... 0.75855255\n",
       "    sst_det  (time, lat, lon) float32 1.3162715 1.390501 ... 0.35405833</pre><div class='xr-wrap' hidden><div class='xr-header'><div class='xr-obj-type'>xarray.Dataset</div></div><ul class='xr-sections'><li class='xr-section-item'><input id='section-b6cf71c5-be9d-4f69-b095-3aa878b452fc' class='xr-section-summary-in' type='checkbox' disabled ><label for='section-b6cf71c5-be9d-4f69-b095-3aa878b452fc' class='xr-section-summary'  title='Expand/collapse section'>Dimensions:</label><div class='xr-section-inline-details'><ul class='xr-dim-list'><li><span class='xr-has-index'>lat</span>: 31</li><li><span class='xr-has-index'>lon</span>: 101</li><li><span class='xr-has-index'>time</span>: 843</li></ul></div><div class='xr-section-details'></div></li><li class='xr-section-item'><input id='section-f6ce3cad-a2a7-48aa-ad6e-e9b842281332' class='xr-section-summary-in' type='checkbox'  checked><label for='section-f6ce3cad-a2a7-48aa-ad6e-e9b842281332' class='xr-section-summary' >Coordinates: <span>(3)</span></label><div class='xr-section-inline-details'></div><div class='xr-section-details'><ul class='xr-var-list'><li class='xr-var-item'><div class='xr-var-name'><span class='xr-has-index'>lat</span></div><div class='xr-var-dims'>(lat)</div><div class='xr-var-dtype'>float64</div><div class='xr-var-preview xr-preview'>-30.0 -28.0 -26.0 ... 28.0 30.0</div><input id='attrs-3ae0e959-7093-419a-9589-78adf744d554' class='xr-var-attrs-in' type='checkbox' ><label for='attrs-3ae0e959-7093-419a-9589-78adf744d554' title='Show/Hide attributes'><svg class='icon xr-icon-file-text2'><use xlink:href='#icon-file-text2'></use></svg></label><input id='data-e6777dd3-4805-489d-ae62-f180cf68b9e9' class='xr-var-data-in' type='checkbox'><label for='data-e6777dd3-4805-489d-ae62-f180cf68b9e9' title='Show/Hide data repr'><svg class='icon xr-icon-database'><use xlink:href='#icon-database'></use></svg></label><div class='xr-var-attrs'><dl class='xr-attrs'><dt><span>units :</span></dt><dd>degrees_north</dd><dt><span>long_name :</span></dt><dd>Latitude</dd><dt><span>standard_name :</span></dt><dd>latitude</dd><dt><span>axis :</span></dt><dd>Y</dd><dt><span>comment :</span></dt><dd>Uniform grid from -88 to 88 by 2</dd></dl></div><div class='xr-var-data'><pre>array([-30., -28., -26., -24., -22., -20., -18., -16., -14., -12., -10.,  -8.,\n",
       "        -6.,  -4.,  -2.,   0.,   2.,   4.,   6.,   8.,  10.,  12.,  14.,  16.,\n",
       "        18.,  20.,  22.,  24.,  26.,  28.,  30.])</pre></div></li><li class='xr-var-item'><div class='xr-var-name'><span class='xr-has-index'>lon</span></div><div class='xr-var-dims'>(lon)</div><div class='xr-var-dtype'>float64</div><div class='xr-var-preview xr-preview'>100.0 102.0 104.0 ... 298.0 300.0</div><input id='attrs-4157913a-0047-48a9-aa04-4fc0a6155f19' class='xr-var-attrs-in' type='checkbox' ><label for='attrs-4157913a-0047-48a9-aa04-4fc0a6155f19' title='Show/Hide attributes'><svg class='icon xr-icon-file-text2'><use xlink:href='#icon-file-text2'></use></svg></label><input id='data-2ca8d0c2-99ae-4282-a64c-a3327677e7d8' class='xr-var-data-in' type='checkbox'><label for='data-2ca8d0c2-99ae-4282-a64c-a3327677e7d8' title='Show/Hide data repr'><svg class='icon xr-icon-database'><use xlink:href='#icon-database'></use></svg></label><div class='xr-var-attrs'><dl class='xr-attrs'><dt><span>units :</span></dt><dd>degrees_east</dd><dt><span>long_name :</span></dt><dd>Longitude</dd><dt><span>standard_name :</span></dt><dd>longitude</dd><dt><span>axis :</span></dt><dd>X</dd><dt><span>comment :</span></dt><dd>Uniform grid from 0 to 358 by 2</dd></dl></div><div class='xr-var-data'><pre>array([100., 102., 104., 106., 108., 110., 112., 114., 116., 118., 120., 122.,\n",
       "       124., 126., 128., 130., 132., 134., 136., 138., 140., 142., 144., 146.,\n",
       "       148., 150., 152., 154., 156., 158., 160., 162., 164., 166., 168., 170.,\n",
       "       172., 174., 176., 178., 180., 182., 184., 186., 188., 190., 192., 194.,\n",
       "       196., 198., 200., 202., 204., 206., 208., 210., 212., 214., 216., 218.,\n",
       "       220., 222., 224., 226., 228., 230., 232., 234., 236., 238., 240., 242.,\n",
       "       244., 246., 248., 250., 252., 254., 256., 258., 260., 262., 264., 266.,\n",
       "       268., 270., 272., 274., 276., 278., 280., 282., 284., 286., 288., 290.,\n",
       "       292., 294., 296., 298., 300.])</pre></div></li><li class='xr-var-item'><div class='xr-var-name'><span class='xr-has-index'>time</span></div><div class='xr-var-dims'>(time)</div><div class='xr-var-dtype'>datetime64[ns]</div><div class='xr-var-preview xr-preview'>1950-01-01 ... 2020-03-01</div><input id='attrs-854d83fa-941d-4759-b79e-e9458d33d477' class='xr-var-attrs-in' type='checkbox' disabled><label for='attrs-854d83fa-941d-4759-b79e-e9458d33d477' title='Show/Hide attributes'><svg class='icon xr-icon-file-text2'><use xlink:href='#icon-file-text2'></use></svg></label><input id='data-d962063e-55b3-49f9-acb5-f358b88985ea' class='xr-var-data-in' type='checkbox'><label for='data-d962063e-55b3-49f9-acb5-f358b88985ea' title='Show/Hide data repr'><svg class='icon xr-icon-database'><use xlink:href='#icon-database'></use></svg></label><div class='xr-var-attrs'><dl class='xr-attrs'></dl></div><div class='xr-var-data'><pre>array([&#x27;1950-01-01T00:00:00.000000000&#x27;, &#x27;1950-02-01T00:00:00.000000000&#x27;,\n",
       "       &#x27;1950-03-01T00:00:00.000000000&#x27;, ..., &#x27;2020-01-01T00:00:00.000000000&#x27;,\n",
       "       &#x27;2020-02-01T00:00:00.000000000&#x27;, &#x27;2020-03-01T00:00:00.000000000&#x27;],\n",
       "      dtype=&#x27;datetime64[ns]&#x27;)</pre></div></li></ul></div></li><li class='xr-section-item'><input id='section-06f97462-13df-4707-b0a3-cbcc2a29a39b' class='xr-section-summary-in' type='checkbox'  checked><label for='section-06f97462-13df-4707-b0a3-cbcc2a29a39b' class='xr-section-summary' >Data variables: <span>(2)</span></label><div class='xr-section-inline-details'></div><div class='xr-section-details'><ul class='xr-var-list'><li class='xr-var-item'><div class='xr-var-name'><span>sst</span></div><div class='xr-var-dims'>(time, lat, lon)</div><div class='xr-var-dtype'>float32</div><div class='xr-var-preview xr-preview'>0.5244713 0.62719727 ... 0.75855255</div><input id='attrs-6f4720fb-e7ba-4de1-b07d-abc5361b2e3e' class='xr-var-attrs-in' type='checkbox' disabled><label for='attrs-6f4720fb-e7ba-4de1-b07d-abc5361b2e3e' title='Show/Hide attributes'><svg class='icon xr-icon-file-text2'><use xlink:href='#icon-file-text2'></use></svg></label><input id='data-058de716-f8f8-430c-8d22-3166fbf3db85' class='xr-var-data-in' type='checkbox'><label for='data-058de716-f8f8-430c-8d22-3166fbf3db85' title='Show/Hide data repr'><svg class='icon xr-icon-database'><use xlink:href='#icon-database'></use></svg></label><div class='xr-var-attrs'><dl class='xr-attrs'></dl></div><div class='xr-var-data'><pre>array([[[ 0.5244713 ,  0.62719727,  0.7851944 , ...,         nan,\n",
       "                 nan,         nan],\n",
       "        [ 0.56443787,  0.6456642 ,  0.794714  , ...,         nan,\n",
       "                 nan,         nan],\n",
       "        [ 0.62371826,  0.6722698 ,  0.805603  , ...,         nan,\n",
       "                 nan,         nan],\n",
       "        ...,\n",
       "        [        nan,         nan,         nan, ..., -0.8885937 ,\n",
       "         -1.006176  , -1.1223049 ],\n",
       "        [        nan,         nan,         nan, ..., -0.36753845,\n",
       "         -0.47472382, -0.63811874],\n",
       "        [        nan,         nan,         nan, ...,  0.16896248,\n",
       "          0.02679253, -0.16637039]],\n",
       "\n",
       "       [[ 0.14455414,  0.18637848,  0.29170036, ...,         nan,\n",
       "                 nan,         nan],\n",
       "        [ 0.26234627,  0.30068016,  0.39941406, ...,         nan,\n",
       "                 nan,         nan],\n",
       "        [ 0.40076065,  0.4414463 ,  0.5540905 , ...,         nan,\n",
       "                 nan,         nan],\n",
       "...\n",
       "        [        nan,         nan,         nan, ...,  0.6469097 ,\n",
       "          0.6464386 ,  0.62962914],\n",
       "        [        nan,         nan,         nan, ...,  0.6659851 ,\n",
       "          0.6706619 ,  0.6400089 ],\n",
       "        [        nan,         nan,         nan, ...,  0.7625904 ,\n",
       "          0.74487877,  0.6681576 ]],\n",
       "\n",
       "       [[ 0.398592  ,  0.30164337,  0.21389961, ...,         nan,\n",
       "                 nan,         nan],\n",
       "        [ 0.47601128,  0.40616226,  0.32563782, ...,         nan,\n",
       "                 nan,         nan],\n",
       "        [ 0.5782795 ,  0.5372505 ,  0.5015316 , ...,         nan,\n",
       "                 nan,         nan],\n",
       "        ...,\n",
       "        [        nan,         nan,         nan, ...,  0.3873539 ,\n",
       "          0.4626007 ,  0.5132408 ],\n",
       "        [        nan,         nan,         nan, ...,  0.5181618 ,\n",
       "          0.6009884 ,  0.64102745],\n",
       "        [        nan,         nan,         nan, ...,  0.69735336,\n",
       "          0.7579632 ,  0.75855255]]], dtype=float32)</pre></div></li><li class='xr-var-item'><div class='xr-var-name'><span>sst_det</span></div><div class='xr-var-dims'>(time, lat, lon)</div><div class='xr-var-dtype'>float32</div><div class='xr-var-preview xr-preview'>1.3162715 1.390501 ... 0.35405833</div><input id='attrs-b7c0c12a-8fdd-4ccb-8cc8-676213bdd067' class='xr-var-attrs-in' type='checkbox' disabled><label for='attrs-b7c0c12a-8fdd-4ccb-8cc8-676213bdd067' title='Show/Hide attributes'><svg class='icon xr-icon-file-text2'><use xlink:href='#icon-file-text2'></use></svg></label><input id='data-be4eb023-93f3-4693-a086-39fdb10c22b6' class='xr-var-data-in' type='checkbox'><label for='data-be4eb023-93f3-4693-a086-39fdb10c22b6' title='Show/Hide data repr'><svg class='icon xr-icon-database'><use xlink:href='#icon-database'></use></svg></label><div class='xr-var-attrs'><dl class='xr-attrs'></dl></div><div class='xr-var-data'><pre>array([[[ 1.31627154e+00,  1.39050102e+00,  1.50123632e+00, ...,\n",
       "                     nan,             nan,             nan],\n",
       "        [ 1.32686985e+00,  1.38211083e+00,  1.48451293e+00, ...,\n",
       "                     nan,             nan,             nan],\n",
       "        [ 1.35776711e+00,  1.38071406e+00,  1.46562374e+00, ...,\n",
       "                     nan,             nan,             nan],\n",
       "        ...,\n",
       "        [            nan,             nan,             nan, ...,\n",
       "         -5.17475247e-01, -5.91248751e-01, -6.64236546e-01],\n",
       "        [            nan,             nan,             nan, ...,\n",
       "         -1.61514878e-02, -9.09729600e-02, -2.12403804e-01],\n",
       "        [            nan,             nan,             nan, ...,\n",
       "          5.06272912e-01,  3.97017568e-01,  2.43665278e-01]],\n",
       "\n",
       "       [[ 9.34890449e-01,  9.48274076e-01,  1.00642872e+00, ...,\n",
       "                     nan,             nan,             nan],\n",
       "        [ 1.02334690e+00,  1.03574967e+00,  1.08793020e+00, ...,\n",
       "                     nan,             nan,             nan],\n",
       "        [ 1.13342333e+00,  1.14856231e+00,  1.21287501e+00, ...,\n",
       "                     nan,             nan,             nan],\n",
       "...\n",
       "          3.37291390e-01,  3.17916512e-01,  2.85856605e-01],\n",
       "        [            nan,             nan,             nan, ...,\n",
       "          3.27243656e-01,  3.17317098e-01,  2.72317082e-01],\n",
       "        [            nan,             nan,             nan, ...,\n",
       "          3.80458325e-01,  3.49072814e-01,  2.64630735e-01]],\n",
       "\n",
       "       [[-4.22549844e-02, -1.20694995e-01, -1.76111400e-01, ...,\n",
       "                     nan,             nan,             nan],\n",
       "        [ 3.31652164e-02, -1.68099999e-02, -6.47261739e-02, ...,\n",
       "                     nan,             nan,             nan],\n",
       "        [ 1.45214856e-01,  1.27297103e-01,  1.20663762e-01, ...,\n",
       "                     nan,             nan,             nan],\n",
       "        ...,\n",
       "        [            nan,             nan,             nan, ...,\n",
       "          7.69261420e-02,  1.33194625e-01,  1.68514848e-01],\n",
       "        [            nan,             nan,             nan, ...,\n",
       "          1.78599685e-01,  2.46767074e-01,  2.72392184e-01],\n",
       "        [            nan,             nan,             nan, ...,\n",
       "          3.14365834e-01,  3.61246347e-01,  3.54058325e-01]]],\n",
       "      dtype=float32)</pre></div></li></ul></div></li><li class='xr-section-item'><input id='section-39785469-09d3-4d90-8014-6fd2af817d40' class='xr-section-summary-in' type='checkbox' disabled ><label for='section-39785469-09d3-4d90-8014-6fd2af817d40' class='xr-section-summary'  title='Expand/collapse section'>Attributes: <span>(0)</span></label><div class='xr-section-inline-details'></div><div class='xr-section-details'><dl class='xr-attrs'></dl></div></li></ul></div></div>"
      ],
      "text/plain": [
       "<xarray.Dataset>\n",
       "Dimensions:  (lat: 31, lon: 101, time: 843)\n",
       "Coordinates:\n",
       "  * lat      (lat) float64 -30.0 -28.0 -26.0 -24.0 -22.0 ... 24.0 26.0 28.0 30.0\n",
       "  * lon      (lon) float64 100.0 102.0 104.0 106.0 ... 294.0 296.0 298.0 300.0\n",
       "  * time     (time) datetime64[ns] 1950-01-01 1950-02-01 ... 2020-03-01\n",
       "Data variables:\n",
       "    sst      (time, lat, lon) float32 0.5244713 0.62719727 ... 0.75855255\n",
       "    sst_det  (time, lat, lon) float32 1.3162715 1.390501 ... 0.35405833"
      ]
     },
     "execution_count": 65,
     "metadata": {},
     "output_type": "execute_result"
    }
   ],
   "source": [
    "dset_anoms"
   ]
  },
  {
   "cell_type": "markdown",
   "metadata": {},
   "source": [
    "### now calculates the 3 months running means "
   ]
  },
  {
   "cell_type": "code",
   "execution_count": 66,
   "metadata": {
    "collapsed": false,
    "jupyter": {
     "outputs_hidden": false
    }
   },
   "outputs": [],
   "source": [
    "dset_anoms['sst_det_seas'] = (('time', 'lat', 'lon'), dset_anoms['sst_det'].rolling(time=3).mean())"
   ]
  },
  {
   "cell_type": "code",
   "execution_count": 67,
   "metadata": {
    "collapsed": false,
    "jupyter": {
     "outputs_hidden": false
    }
   },
   "outputs": [
    {
     "data": {
      "text/html": [
       "<div>\n",
       "<style scoped>\n",
       "    .dataframe tbody tr th:only-of-type {\n",
       "        vertical-align: middle;\n",
       "    }\n",
       "\n",
       "    .dataframe tbody tr th {\n",
       "        vertical-align: top;\n",
       "    }\n",
       "\n",
       "    .dataframe thead th {\n",
       "        text-align: right;\n",
       "    }\n",
       "</style>\n",
       "<table border=\"1\" class=\"dataframe\">\n",
       "  <thead>\n",
       "    <tr style=\"text-align: right;\">\n",
       "      <th></th>\n",
       "      <th>EMI</th>\n",
       "      <th>EMIstd</th>\n",
       "      <th>cat</th>\n",
       "      <th>category</th>\n",
       "    </tr>\n",
       "    <tr>\n",
       "      <th>time</th>\n",
       "      <th></th>\n",
       "      <th></th>\n",
       "      <th></th>\n",
       "      <th></th>\n",
       "    </tr>\n",
       "  </thead>\n",
       "  <tbody>\n",
       "    <tr>\n",
       "      <th>1950-03-01</th>\n",
       "      <td>-0.427952</td>\n",
       "      <td>-1.040381</td>\n",
       "      <td>-1</td>\n",
       "      <td>EMI-</td>\n",
       "    </tr>\n",
       "    <tr>\n",
       "      <th>1950-04-01</th>\n",
       "      <td>-0.555731</td>\n",
       "      <td>-1.317305</td>\n",
       "      <td>-1</td>\n",
       "      <td>EMI-</td>\n",
       "    </tr>\n",
       "    <tr>\n",
       "      <th>1950-05-01</th>\n",
       "      <td>-0.536969</td>\n",
       "      <td>-1.276643</td>\n",
       "      <td>-1</td>\n",
       "      <td>EMI-</td>\n",
       "    </tr>\n",
       "    <tr>\n",
       "      <th>1950-06-01</th>\n",
       "      <td>-0.296496</td>\n",
       "      <td>-0.755487</td>\n",
       "      <td>0</td>\n",
       "      <td>Neutral</td>\n",
       "    </tr>\n",
       "    <tr>\n",
       "      <th>1950-07-01</th>\n",
       "      <td>-0.178073</td>\n",
       "      <td>-0.498841</td>\n",
       "      <td>0</td>\n",
       "      <td>Neutral</td>\n",
       "    </tr>\n",
       "  </tbody>\n",
       "</table>\n",
       "</div>"
      ],
      "text/plain": [
       "                 EMI    EMIstd  cat category\n",
       "time                                        \n",
       "1950-03-01 -0.427952 -1.040381   -1     EMI-\n",
       "1950-04-01 -0.555731 -1.317305   -1     EMI-\n",
       "1950-05-01 -0.536969 -1.276643   -1     EMI-\n",
       "1950-06-01 -0.296496 -0.755487    0  Neutral\n",
       "1950-07-01 -0.178073 -0.498841    0  Neutral"
      ]
     },
     "execution_count": 67,
     "metadata": {},
     "output_type": "execute_result"
    }
   ],
   "source": [
    "EMI.head()"
   ]
  },
  {
   "cell_type": "markdown",
   "metadata": {},
   "source": [
    "### selects the positive and negative sample from the EMI category "
   ]
  },
  {
   "cell_type": "code",
   "execution_count": 68,
   "metadata": {
    "collapsed": false,
    "jupyter": {
     "outputs_hidden": false
    }
   },
   "outputs": [],
   "source": [
    "idpos = EMI.loc[EMI['category'] == 'EMI++',:]\n",
    "idneg = EMI.loc[EMI['category'] == 'EMI--',:]"
   ]
  },
  {
   "cell_type": "code",
   "execution_count": 69,
   "metadata": {
    "collapsed": false,
    "jupyter": {
     "outputs_hidden": false
    }
   },
   "outputs": [
    {
     "data": {
      "text/plain": [
       "<matplotlib.collections.QuadMesh at 0x7f56e2bb7160>"
      ]
     },
     "execution_count": 69,
     "metadata": {},
     "output_type": "execute_result"
    },
    {
     "data": {
      "image/png": "[encoded data removed]",
      "text/plain": [
       "<Figure size 432x288 with 2 Axes>"
      ]
     },
     "metadata": {
      "needs_background": "light"
     },
     "output_type": "display_data"
    }
   ],
   "source": [
    "dset_anoms.sel(time=idpos.index).mean('time')['sst_det_seas'].plot()"
   ]
  },
  {
   "cell_type": "code",
   "execution_count": 70,
   "metadata": {
    "collapsed": false,
    "jupyter": {
     "outputs_hidden": false
    }
   },
   "outputs": [
    {
     "data": {
      "text/plain": [
       "<matplotlib.collections.QuadMesh at 0x7f56e2b97580>"
      ]
     },
     "execution_count": 70,
     "metadata": {},
     "output_type": "execute_result"
    },
    {
     "data": {
      "image/png": "[encoded data removed]",
      "text/plain": [
       "<Figure size 432x288 with 2 Axes>"
      ]
     },
     "metadata": {
      "needs_background": "light"
     },
     "output_type": "display_data"
    }
   ],
   "source": [
    "dset_anoms.sel(time=idneg.index).mean('time')['sst_det_seas'].plot()"
   ]
  },
  {
   "cell_type": "code",
   "execution_count": 71,
   "metadata": {},
   "outputs": [],
   "source": [
    "compos_pos = dset_anoms.sel(time=idpos.index).mean('time')['sst_det_seas'].data\n",
    "compos_neg = dset_anoms.sel(time=idneg.index).mean('time')['sst_det_seas'].data"
   ]
  }
 ],
 "metadata": {
  "anaconda-cloud": {},
  "kernelspec": {
   "display_name": "Python 3",
   "language": "python",
   "name": "python3"
  },
  "language_info": {
   "codemirror_mode": {
    "name": "ipython",
    "version": 3
   },
   "file_extension": ".py",
   "mimetype": "text/x-python",
   "name": "python",
   "nbconvert_exporter": "python",
   "pygments_lexer": "ipython3",
   "version": "3.8.5"
  },
  "latex_envs": {
   "bibliofile": "biblio.bib",
   "cite_by": "apalike",
   "current_citInitial": 1,
   "eqLabelWithNumbers": true,
   "eqNumInitial": 0
  },
  "toc": {
   "colors": {
    "hover_highlight": "#DAA520",
    "running_highlight": "#FF0000",
    "selected_highlight": "#FFD700"
   },
   "moveMenuLeft": true,
   "nav_menu": {
    "height": "66px",
    "width": "252px"
   },
   "navigate_menu": true,
   "number_sections": true,
   "sideBar": true,
   "threshold": 4,
   "toc_cell": false,
   "toc_section_display": "block",
   "toc_window_display": false
  }
 },
 "nbformat": 4,
 "nbformat_minor": 4
}
