{
 "cells": [
  {
   "cell_type": "markdown",
   "metadata": {},
   "source": [
    "# calculate Indian Ocean dipole index\n"
   ]
  },
  {
   "cell_type": "code",
   "execution_count": 1,
   "metadata": {},
   "outputs": [],
   "source": [
    "%matplotlib inline\n",
    "from matplotlib import pyplot as plt"
   ]
  },
  {
   "cell_type": "code",
   "execution_count": 2,
   "metadata": {},
   "outputs": [],
   "source": [
    "import os\n",
    "import sys\n",
    "from glob import glob\n",
    "import numpy as np\n",
    "import pandas as pd\n",
    "from datetime import (datetime, timedelta)\n",
    "from dateutil import parser"
   ]
  },
  {
   "cell_type": "code",
   "execution_count": 4,
   "metadata": {},
   "outputs": [],
   "source": [
    "import xarray as xr"
   ]
  },
  {
   "cell_type": "code",
   "execution_count": 8,
   "metadata": {},
   "outputs": [],
   "source": [
    "def read_netcdfs(files, dim, transform_func=None):\n",
    "    def process_one_path(path):\n",
    "        # use a context manager, to ensure the file gets closed after use\n",
    "        with xr.open_dataset(path) as ds:\n",
    "            # transform_func should do some sort of selection or\n",
    "            # aggregation\n",
    "            if transform_func is not None:\n",
    "                ds = transform_func(ds)\n",
    "            # load all data from the transformed dataset, to ensure we can\n",
    "            # use it after closing each original file\n",
    "            ds.load()\n",
    "            return ds\n",
    "\n",
    "    paths = sorted(glob(files))\n",
    "    datasets = [process_one_path(p) for p in paths]\n",
    "    dset = xr.concat(datasets, dim)\n",
    "    return dset"
   ]
  },
  {
   "cell_type": "code",
   "execution_count": 10,
   "metadata": {},
   "outputs": [],
   "source": [
    "lfiles = glob('/Volumes/GDATA/data/SST/ERSST/V5/*.nc')"
   ]
  },
  {
   "cell_type": "code",
   "execution_count": 11,
   "metadata": {},
   "outputs": [],
   "source": [
    "lfiles.sort() "
   ]
  },
  {
   "cell_type": "code",
   "execution_count": 13,
   "metadata": {},
   "outputs": [],
   "source": [
    "dset = xr.open_mfdataset(lfiles, concat_dim='time')"
   ]
  },
  {
   "cell_type": "code",
   "execution_count": 14,
   "metadata": {},
   "outputs": [
    {
     "data": {
      "text/plain": [
       "<xarray.Dataset>\n",
       "Dimensions:  (lat: 89, lev: 1, lon: 180, time: 812)\n",
       "Coordinates:\n",
       "  * lat      (lat) float64 -88.0 -86.0 -84.0 -82.0 -80.0 -78.0 -76.0 -74.0 ...\n",
       "  * lev      (lev) float64 0.0\n",
       "  * lon      (lon) float64 0.0 2.0 4.0 6.0 8.0 10.0 12.0 14.0 16.0 18.0 20.0 ...\n",
       "  * time     (time) datetime64[ns] 1950-01-01 1950-02-01 1950-03-01 ...\n",
       "Data variables:\n",
       "    sst      (time, lev, lat, lon) float64 dask.array<shape=(812, 1, 89, 180), chunksize=(1, 1, 89, 180)>\n",
       "    ssta     (time, lev, lat, lon) float64 dask.array<shape=(812, 1, 89, 180), chunksize=(1, 1, 89, 180)>\n",
       "Attributes:\n",
       "    Conventions:                CF-1.6, ACDD-1.3\n",
       "    metadata_link:              https://doi.org/10.7289/V5T72FNM\n",
       "    id:                         ersst.v5.195001\n",
       "    naming_authority:           gov.noaa.ncei\n",
       "    title:                      NOAA ERSSTv5 (in situ only)\n",
       "    summary:                    ERSST.v5 is developped based on v4 after revi...\n",
       "    institution:                NOAA/NESDIS/NCEI/CCOG\n",
       "    creator_name:               Boyin Huang\n",
       "    creator_email:              boyin.huang@noaa.gov\n",
       "    date_created:               2017-06-30T12:18:00Z\n",
       "    date_modified:              2017-06-30T12:18:00Z\n",
       "    product_version:            Version 5\n",
       "    history:                    Fri Jun 30 12:32:44 2017: ncatted -O -a _Fill...\n",
       "    creator_url:                https://www.ncei.noaa.gov\n",
       "    license:                    No constraints on data access or use\n",
       "    time_coverage_start:        1950-01-01T00:00:00Z\n",
       "    time_coverage_end:          1950-02-01T00:00:00Z\n",
       "    geospatial_lon_min:         -1.0\n",
       "    geospatial_lon_max:         359.0\n",
       "    geospatial_lat_min:         -89.0\n",
       "    geospatial_lat_max:         89.0\n",
       "    geospatial_lat_units:       degrees_north\n",
       "    geospatial_lat_resolution:  2.0\n",
       "    geospatial_lon_units:       degrees_east\n",
       "    geospatial_lon_resolution:  2.0\n",
       "    spatial_resolution:         2.0 degree grid\n",
       "    cdm_data_type:              Grid\n",
       "    processing_level:           NOAA Level 4\n",
       "    standard_name_vocabulary:   CF Standard Name Table (v40, 25 January 2017)\n",
       "    keywords:                   Earth Science > Oceans > Ocean Temperature > ...\n",
       "    keywords_vocabulary:        NASA Global Change Master Directory (GCMD) Sc...\n",
       "    project:                    NOAA Extended Reconstructed Sea Surface Tempe...\n",
       "    platform:                   Ship and Buoy SSTs from ICOADS R3.0 and NCEP GTS\n",
       "    instrument:                 Conventional thermometers\n",
       "    source:                     In situ data: ICOADS R3.0 before 2015, NCEP i...\n",
       "    comment:                    SSTs were observed by conventional thermomete...\n",
       "    references:                 Huang et al, 2017: Extended Reconstructed Sea...\n",
       "    climatology:                Climatology is based on 1971-2000 SST, Xue, Y..."
      ]
     },
     "execution_count": 14,
     "metadata": {},
     "output_type": "execute_result"
    }
   ],
   "source": [
    "dset"
   ]
  },
  {
   "cell_type": "code",
   "execution_count": 15,
   "metadata": {},
   "outputs": [],
   "source": [
    "def demean(x): \n",
    "    return x - x.sel(time=slice('1981','2010')).mean('time')"
   ]
  },
  {
   "cell_type": "code",
   "execution_count": 16,
   "metadata": {},
   "outputs": [],
   "source": [
    "sst_anoms = dset['sst'].groupby('time.month').apply(demean)"
   ]
  },
  {
   "cell_type": "code",
   "execution_count": 17,
   "metadata": {},
   "outputs": [],
   "source": [
    "EAST = sst_anoms.sel(lon=slice(90, 110), lat=slice(-10,0)).mean('lat').mean('lon')\n",
    "WEST = sst_anoms.sel(lon=slice(50, 70), lat=slice(-10,10)).mean('lat').mean('lon')"
   ]
  },
  {
   "cell_type": "code",
   "execution_count": 18,
   "metadata": {},
   "outputs": [],
   "source": [
    "time = EAST['time'].values"
   ]
  },
  {
   "cell_type": "code",
   "execution_count": 19,
   "metadata": {},
   "outputs": [],
   "source": [
    "from scipy.stats import zscore"
   ]
  },
  {
   "cell_type": "code",
   "execution_count": 20,
   "metadata": {},
   "outputs": [
    {
     "name": "stderr",
     "output_type": "stream",
     "text": [
      "/Users/nicolasf/anaconda3/envs/IOOS/lib/python3.5/site-packages/dask/array/numpy_compat.py:46: RuntimeWarning: invalid value encountered in true_divide\n",
      "  x = np.divide(x1, x2, out)\n"
     ]
    }
   ],
   "source": [
    "EAST = zscore(EAST.values.flatten())"
   ]
  },
  {
   "cell_type": "code",
   "execution_count": 21,
   "metadata": {
    "scrolled": true
   },
   "outputs": [
    {
     "name": "stderr",
     "output_type": "stream",
     "text": [
      "/Users/nicolasf/anaconda3/envs/IOOS/lib/python3.5/site-packages/dask/array/numpy_compat.py:46: RuntimeWarning: invalid value encountered in true_divide\n",
      "  x = np.divide(x1, x2, out)\n"
     ]
    }
   ],
   "source": [
    "WEST = zscore(WEST.values.flatten())"
   ]
  },
  {
   "cell_type": "code",
   "execution_count": 22,
   "metadata": {},
   "outputs": [],
   "source": [
    "DMI = pd.DataFrame({'east':EAST, 'west':WEST}, index=time)"
   ]
  },
  {
   "cell_type": "code",
   "execution_count": 23,
   "metadata": {},
   "outputs": [],
   "source": [
    "DMI = DMI.assign(dmi = DMI.west - DMI.east)"
   ]
  },
  {
   "cell_type": "code",
   "execution_count": 25,
   "metadata": {},
   "outputs": [
    {
     "data": {
      "text/plain": [
       "<matplotlib.axes._subplots.AxesSubplot at 0x121228f98>"
      ]
     },
     "execution_count": 25,
     "metadata": {},
     "output_type": "execute_result"
    },
    {
     "data": {
      "image/png": "[encoded data removed]",
      "text/plain": [
       "<matplotlib.figure.Figure at 0x10b43f5c0>"
      ]
     },
     "metadata": {},
     "output_type": "display_data"
    }
   ],
   "source": [
    "DMI.plot()"
   ]
  },
  {
   "cell_type": "code",
   "execution_count": 26,
   "metadata": {},
   "outputs": [
    {
     "name": "stdout",
     "output_type": "stream",
     "text": [
      "SAM_monthly_1950_2016_1981_2010_Clim_EOF_NCEP1.csv\n"
     ]
    }
   ],
   "source": [
    "!ls ../../data/climate_drivers/"
   ]
  },
  {
   "cell_type": "code",
   "execution_count": 27,
   "metadata": {},
   "outputs": [],
   "source": [
    "DMI.to_csv('../../data/climate_drivers/IOD_monthly_1950_2016_1981_2010_Clim_ERSSTv5.csv')"
   ]
  },
  {
   "cell_type": "code",
   "execution_count": null,
   "metadata": {},
   "outputs": [],
   "source": []
  }
 ],
 "metadata": {
  "kernelspec": {
   "display_name": "Python 3",
   "language": "python",
   "name": "python3"
  },
  "language_info": {
   "codemirror_mode": {
    "name": "ipython",
    "version": 3
   },
   "file_extension": ".py",
   "mimetype": "text/x-python",
   "name": "python",
   "nbconvert_exporter": "python",
   "pygments_lexer": "ipython3",
   "version": "3.5.5"
  },
  "latex_envs": {
   "LaTeX_envs_menu_present": true,
   "autocomplete": true,
   "bibliofile": "biblio.bib",
   "cite_by": "apalike",
   "current_citInitial": 1,
   "eqLabelWithNumbers": true,
   "eqNumInitial": 0,
   "hotkeys": {
    "equation": "Ctrl-E",
    "itemize": "Ctrl-I"
   },
   "labels_anchors": false,
   "latex_user_defs": false,
   "report_style_numbering": false,
   "user_envs_cfg": false
  }
 },
 "nbformat": 4,
 "nbformat_minor": 2
}
