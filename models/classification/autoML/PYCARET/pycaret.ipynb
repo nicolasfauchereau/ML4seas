{
 "cells": [
  {
   "cell_type": "code",
   "execution_count": 1,
   "metadata": {},
   "outputs": [],
   "source": [
    "# Parameters \n",
    "\n",
    "region_name = 'NNI'\n",
    "var_name = 'TMEAN'\n",
    "target_type = 'cat3_categories'\n",
    "GCM = 'NCEP_CFSv2'\n",
    "# GCM = 'All'\n",
    "standardized = False"
   ]
  },
  {
   "cell_type": "markdown",
   "metadata": {},
   "source": [
    "### check first what the executable is "
   ]
  },
  {
   "cell_type": "code",
   "execution_count": 2,
   "metadata": {},
   "outputs": [
    {
     "name": "stdout",
     "output_type": "stream",
     "text": [
      "/home/nicolasf/anaconda3/envs/ML/bin/python\n"
     ]
    }
   ],
   "source": [
    "import sys \n",
    "print(sys.executable)"
   ]
  },
  {
   "cell_type": "code",
   "execution_count": 3,
   "metadata": {},
   "outputs": [],
   "source": [
    "%matplotlib inline"
   ]
  },
  {
   "cell_type": "code",
   "execution_count": 4,
   "metadata": {},
   "outputs": [],
   "source": [
    "import pathlib"
   ]
  },
  {
   "cell_type": "code",
   "execution_count": 5,
   "metadata": {},
   "outputs": [],
   "source": [
    "HOME = pathlib.Path.home()"
   ]
  },
  {
   "cell_type": "code",
   "execution_count": 6,
   "metadata": {},
   "outputs": [],
   "source": [
    "from matplotlib import pyplot as plt"
   ]
  },
  {
   "cell_type": "code",
   "execution_count": 7,
   "metadata": {},
   "outputs": [],
   "source": [
    "import numpy as np \n",
    "import pandas as pd"
   ]
  },
  {
   "cell_type": "code",
   "execution_count": 8,
   "metadata": {},
   "outputs": [],
   "source": [
    "from pycaret import datasets"
   ]
  },
  {
   "cell_type": "code",
   "execution_count": 9,
   "metadata": {},
   "outputs": [],
   "source": [
    "from pycaret.classification import *"
   ]
  },
  {
   "cell_type": "code",
   "execution_count": 10,
   "metadata": {},
   "outputs": [],
   "source": [
    "sys.path.append('/home/nicolasf/research/Smart_Ideas/code/ml4seas')"
   ]
  },
  {
   "cell_type": "code",
   "execution_count": 11,
   "metadata": {},
   "outputs": [],
   "source": [
    "from evaluation import calc_accuracy_sco\n",
    "from GCM import prepare_data_CSV_to_CARET"
   ]
  },
  {
   "cell_type": "code",
   "execution_count": 12,
   "metadata": {},
   "outputs": [],
   "source": [
    "dpath = HOME / 'research' / 'Smart_Ideas' / 'outputs' / 'CSVs'"
   ]
  },
  {
   "cell_type": "code",
   "execution_count": 13,
   "metadata": {},
   "outputs": [
    {
     "data": {
      "text/plain": [
       "[PosixPath('/home/nicolasf/research/Smart_Ideas/outputs/CSVs/GCMs_std_and_targets_cat3_and_anomalies_RAIN_test_set.csv'),\n",
       " PosixPath('/home/nicolasf/research/Smart_Ideas/outputs/CSVs/GCMs_and_targets_cat3_and_anomalies_TMEAN_training_set.csv'),\n",
       " PosixPath('/home/nicolasf/research/Smart_Ideas/outputs/CSVs/GCMs_std_and_targets_cat3_and_anomalies_TMEAN_training_set.csv'),\n",
       " PosixPath('/home/nicolasf/research/Smart_Ideas/outputs/CSVs/GCMs_and_targets_cat3_and_anomalies_RAIN_test_set.csv'),\n",
       " PosixPath('/home/nicolasf/research/Smart_Ideas/outputs/CSVs/GCMs_std_and_targets_cat3_and_anomalies_RAIN_training_set.csv'),\n",
       " PosixPath('/home/nicolasf/research/Smart_Ideas/outputs/CSVs/GCMs_std_and_targets_cat3_and_anomalies_TMEAN_test_set.csv'),\n",
       " PosixPath('/home/nicolasf/research/Smart_Ideas/outputs/CSVs/GCMs_and_targets_cat3_and_anomalies_TMEAN_test_set.csv'),\n",
       " PosixPath('/home/nicolasf/research/Smart_Ideas/outputs/CSVs/GCMs_and_targets_cat3_and_anomalies_RAIN_training_set.csv')]"
      ]
     },
     "execution_count": 13,
     "metadata": {},
     "output_type": "execute_result"
    }
   ],
   "source": [
    "list(dpath.glob(\"*.csv\"))"
   ]
  },
  {
   "cell_type": "code",
   "execution_count": 14,
   "metadata": {},
   "outputs": [],
   "source": [
    "if standardized: \n",
    "    train_data = pd.read_csv(dpath / f'GCMs_std_and_targets_cat3_and_anomalies_{var_name}_training_set.csv', index_col=0, parse_dates=True) \n",
    "    test_data = pd.read_csv(dpath / f'GCMs_std_and_targets_cat3_and_anomalies_{var_name}_test_set.csv', index_col=0, parse_dates=True)\n",
    "else: \n",
    "    train_data = pd.read_csv(dpath / f'GCMs_and_targets_cat3_and_anomalies_{var_name}_training_set.csv', index_col=0, parse_dates=True) \n",
    "    test_data = pd.read_csv(dpath / f'GCMs_and_targets_cat3_and_anomalies_{var_name}_test_set.csv', index_col=0, parse_dates=True)    "
   ]
  },
  {
   "cell_type": "markdown",
   "metadata": {},
   "source": [
    "### get the training data "
   ]
  },
  {
   "cell_type": "code",
   "execution_count": 15,
   "metadata": {},
   "outputs": [],
   "source": [
    "train_data, GCMs_name_train, scaler, pca = prepare_data_CSV_to_CARET(train_data, GCM=GCM, region_name=region_name, target_type=target_type, scaling=True, doPCA=True)"
   ]
  },
  {
   "cell_type": "code",
   "execution_count": 16,
   "metadata": {},
   "outputs": [
    {
     "data": {
      "text/plain": [
       "(420, 35)"
      ]
     },
     "execution_count": 16,
     "metadata": {},
     "output_type": "execute_result"
    }
   ],
   "source": [
    "train_data.shape"
   ]
  },
  {
   "cell_type": "code",
   "execution_count": 17,
   "metadata": {},
   "outputs": [
    {
     "data": {
      "text/plain": [
       "Index(['PC1', 'PC2', 'PC3', 'PC4', 'PC5', 'PC6', 'PC7', 'PC8', 'PC9', 'PC10',\n",
       "       'PC11', 'PC12', 'PC13', 'PC14', 'PC15', 'PC16', 'PC17', 'PC18', 'PC19',\n",
       "       'PC20', 'PC21', 'PC22', 'PC23', 'PC24', 'PC25', 'PC26', 'PC27', 'PC28',\n",
       "       'PC29', 'PC30', 'PC31', 'PC32', 'PC33', 'PC34', 'NNI_cat3_categories'],\n",
       "      dtype='object')"
      ]
     },
     "execution_count": 17,
     "metadata": {},
     "output_type": "execute_result"
    }
   ],
   "source": [
    "train_data.columns"
   ]
  },
  {
   "cell_type": "markdown",
   "metadata": {},
   "source": [
    "### get the test data  "
   ]
  },
  {
   "cell_type": "code",
   "execution_count": 18,
   "metadata": {},
   "outputs": [],
   "source": [
    "test_data, GCMs_name_test, _, _ = prepare_data_CSV_to_CARET(test_data, GCM=GCM, region_name=region_name, target_type=target_type, scaling=False, doPCA=False)"
   ]
  },
  {
   "cell_type": "code",
   "execution_count": 19,
   "metadata": {},
   "outputs": [
    {
     "data": {
      "text/plain": [
       "(33, 4930)"
      ]
     },
     "execution_count": 19,
     "metadata": {},
     "output_type": "execute_result"
    }
   ],
   "source": [
    "test_data.shape"
   ]
  },
  {
   "cell_type": "markdown",
   "metadata": {},
   "source": [
    "### the scalers and pca objects trained on the training data are available, for transformation of the test data (avoid information leakage)"
   ]
  },
  {
   "cell_type": "code",
   "execution_count": 20,
   "metadata": {},
   "outputs": [
    {
     "data": {
      "text/plain": [
       "StandardScaler(copy=True, with_mean=True, with_std=True)"
      ]
     },
     "execution_count": 20,
     "metadata": {},
     "output_type": "execute_result"
    }
   ],
   "source": [
    "scaler"
   ]
  },
  {
   "cell_type": "code",
   "execution_count": 21,
   "metadata": {},
   "outputs": [
    {
     "data": {
      "text/plain": [
       "PCA(copy=True, iterated_power='auto', n_components=0.9, random_state=None,\n",
       "    svd_solver='auto', tol=0.0, whiten=False)"
      ]
     },
     "execution_count": 21,
     "metadata": {},
     "output_type": "execute_result"
    }
   ],
   "source": [
    "pca"
   ]
  },
  {
   "cell_type": "markdown",
   "metadata": {},
   "source": [
    "### set up the PYCARET experiment, use only the training set (cross validation will be used to evaluate the models)"
   ]
  },
  {
   "cell_type": "markdown",
   "metadata": {},
   "source": [
    "### Note that the first time around, the argument `silent` is left to the default (False) so that the user can verify the data type of each column after the first run and if data types correctly interpreted, `silent` can be set to True"
   ]
  },
  {
   "cell_type": "code",
   "execution_count": 22,
   "metadata": {},
   "outputs": [],
   "source": [
    "silent = False"
   ]
  },
  {
   "cell_type": "code",
   "execution_count": 23,
   "metadata": {},
   "outputs": [
    {
     "name": "stdout",
     "output_type": "stream",
     "text": [
      " \n",
      "Setup Succesfully Completed!\n"
     ]
    },
    {
     "data": {
      "text/html": [
       "<style  type=\"text/css\" >\n",
       "</style><table id=\"T_92440fe0_8914_11ea_935e_e5e31f01e20b\" ><thead>    <tr>        <th class=\"blank level0\" ></th>        <th class=\"col_heading level0 col0\" >Description</th>        <th class=\"col_heading level0 col1\" >Value</th>    </tr></thead><tbody>\n",
       "                <tr>\n",
       "                        <th id=\"T_92440fe0_8914_11ea_935e_e5e31f01e20blevel0_row0\" class=\"row_heading level0 row0\" >0</th>\n",
       "                        <td id=\"T_92440fe0_8914_11ea_935e_e5e31f01e20brow0_col0\" class=\"data row0 col0\" >session_id</td>\n",
       "                        <td id=\"T_92440fe0_8914_11ea_935e_e5e31f01e20brow0_col1\" class=\"data row0 col1\" >123</td>\n",
       "            </tr>\n",
       "            <tr>\n",
       "                        <th id=\"T_92440fe0_8914_11ea_935e_e5e31f01e20blevel0_row1\" class=\"row_heading level0 row1\" >1</th>\n",
       "                        <td id=\"T_92440fe0_8914_11ea_935e_e5e31f01e20brow1_col0\" class=\"data row1 col0\" >Target Type</td>\n",
       "                        <td id=\"T_92440fe0_8914_11ea_935e_e5e31f01e20brow1_col1\" class=\"data row1 col1\" >Multiclass</td>\n",
       "            </tr>\n",
       "            <tr>\n",
       "                        <th id=\"T_92440fe0_8914_11ea_935e_e5e31f01e20blevel0_row2\" class=\"row_heading level0 row2\" >2</th>\n",
       "                        <td id=\"T_92440fe0_8914_11ea_935e_e5e31f01e20brow2_col0\" class=\"data row2 col0\" >Label Encoded</td>\n",
       "                        <td id=\"T_92440fe0_8914_11ea_935e_e5e31f01e20brow2_col1\" class=\"data row2 col1\" >None</td>\n",
       "            </tr>\n",
       "            <tr>\n",
       "                        <th id=\"T_92440fe0_8914_11ea_935e_e5e31f01e20blevel0_row3\" class=\"row_heading level0 row3\" >3</th>\n",
       "                        <td id=\"T_92440fe0_8914_11ea_935e_e5e31f01e20brow3_col0\" class=\"data row3 col0\" >Original Data</td>\n",
       "                        <td id=\"T_92440fe0_8914_11ea_935e_e5e31f01e20brow3_col1\" class=\"data row3 col1\" >(420, 35)</td>\n",
       "            </tr>\n",
       "            <tr>\n",
       "                        <th id=\"T_92440fe0_8914_11ea_935e_e5e31f01e20blevel0_row4\" class=\"row_heading level0 row4\" >4</th>\n",
       "                        <td id=\"T_92440fe0_8914_11ea_935e_e5e31f01e20brow4_col0\" class=\"data row4 col0\" >Missing Values </td>\n",
       "                        <td id=\"T_92440fe0_8914_11ea_935e_e5e31f01e20brow4_col1\" class=\"data row4 col1\" >False</td>\n",
       "            </tr>\n",
       "            <tr>\n",
       "                        <th id=\"T_92440fe0_8914_11ea_935e_e5e31f01e20blevel0_row5\" class=\"row_heading level0 row5\" >5</th>\n",
       "                        <td id=\"T_92440fe0_8914_11ea_935e_e5e31f01e20brow5_col0\" class=\"data row5 col0\" >Numeric Features </td>\n",
       "                        <td id=\"T_92440fe0_8914_11ea_935e_e5e31f01e20brow5_col1\" class=\"data row5 col1\" >34</td>\n",
       "            </tr>\n",
       "            <tr>\n",
       "                        <th id=\"T_92440fe0_8914_11ea_935e_e5e31f01e20blevel0_row6\" class=\"row_heading level0 row6\" >6</th>\n",
       "                        <td id=\"T_92440fe0_8914_11ea_935e_e5e31f01e20brow6_col0\" class=\"data row6 col0\" >Categorical Features </td>\n",
       "                        <td id=\"T_92440fe0_8914_11ea_935e_e5e31f01e20brow6_col1\" class=\"data row6 col1\" >0</td>\n",
       "            </tr>\n",
       "            <tr>\n",
       "                        <th id=\"T_92440fe0_8914_11ea_935e_e5e31f01e20blevel0_row7\" class=\"row_heading level0 row7\" >7</th>\n",
       "                        <td id=\"T_92440fe0_8914_11ea_935e_e5e31f01e20brow7_col0\" class=\"data row7 col0\" >Ordinal Features </td>\n",
       "                        <td id=\"T_92440fe0_8914_11ea_935e_e5e31f01e20brow7_col1\" class=\"data row7 col1\" >False</td>\n",
       "            </tr>\n",
       "            <tr>\n",
       "                        <th id=\"T_92440fe0_8914_11ea_935e_e5e31f01e20blevel0_row8\" class=\"row_heading level0 row8\" >8</th>\n",
       "                        <td id=\"T_92440fe0_8914_11ea_935e_e5e31f01e20brow8_col0\" class=\"data row8 col0\" >High Cardinality Features </td>\n",
       "                        <td id=\"T_92440fe0_8914_11ea_935e_e5e31f01e20brow8_col1\" class=\"data row8 col1\" >False</td>\n",
       "            </tr>\n",
       "            <tr>\n",
       "                        <th id=\"T_92440fe0_8914_11ea_935e_e5e31f01e20blevel0_row9\" class=\"row_heading level0 row9\" >9</th>\n",
       "                        <td id=\"T_92440fe0_8914_11ea_935e_e5e31f01e20brow9_col0\" class=\"data row9 col0\" >High Cardinality Method </td>\n",
       "                        <td id=\"T_92440fe0_8914_11ea_935e_e5e31f01e20brow9_col1\" class=\"data row9 col1\" >None</td>\n",
       "            </tr>\n",
       "            <tr>\n",
       "                        <th id=\"T_92440fe0_8914_11ea_935e_e5e31f01e20blevel0_row10\" class=\"row_heading level0 row10\" >10</th>\n",
       "                        <td id=\"T_92440fe0_8914_11ea_935e_e5e31f01e20brow10_col0\" class=\"data row10 col0\" >Sampled Data</td>\n",
       "                        <td id=\"T_92440fe0_8914_11ea_935e_e5e31f01e20brow10_col1\" class=\"data row10 col1\" >(420, 35)</td>\n",
       "            </tr>\n",
       "            <tr>\n",
       "                        <th id=\"T_92440fe0_8914_11ea_935e_e5e31f01e20blevel0_row11\" class=\"row_heading level0 row11\" >11</th>\n",
       "                        <td id=\"T_92440fe0_8914_11ea_935e_e5e31f01e20brow11_col0\" class=\"data row11 col0\" >Transformed Train Set</td>\n",
       "                        <td id=\"T_92440fe0_8914_11ea_935e_e5e31f01e20brow11_col1\" class=\"data row11 col1\" >(293, 34)</td>\n",
       "            </tr>\n",
       "            <tr>\n",
       "                        <th id=\"T_92440fe0_8914_11ea_935e_e5e31f01e20blevel0_row12\" class=\"row_heading level0 row12\" >12</th>\n",
       "                        <td id=\"T_92440fe0_8914_11ea_935e_e5e31f01e20brow12_col0\" class=\"data row12 col0\" >Transformed Test Set</td>\n",
       "                        <td id=\"T_92440fe0_8914_11ea_935e_e5e31f01e20brow12_col1\" class=\"data row12 col1\" >(127, 34)</td>\n",
       "            </tr>\n",
       "            <tr>\n",
       "                        <th id=\"T_92440fe0_8914_11ea_935e_e5e31f01e20blevel0_row13\" class=\"row_heading level0 row13\" >13</th>\n",
       "                        <td id=\"T_92440fe0_8914_11ea_935e_e5e31f01e20brow13_col0\" class=\"data row13 col0\" >Numeric Imputer </td>\n",
       "                        <td id=\"T_92440fe0_8914_11ea_935e_e5e31f01e20brow13_col1\" class=\"data row13 col1\" >mean</td>\n",
       "            </tr>\n",
       "            <tr>\n",
       "                        <th id=\"T_92440fe0_8914_11ea_935e_e5e31f01e20blevel0_row14\" class=\"row_heading level0 row14\" >14</th>\n",
       "                        <td id=\"T_92440fe0_8914_11ea_935e_e5e31f01e20brow14_col0\" class=\"data row14 col0\" >Categorical Imputer </td>\n",
       "                        <td id=\"T_92440fe0_8914_11ea_935e_e5e31f01e20brow14_col1\" class=\"data row14 col1\" >constant</td>\n",
       "            </tr>\n",
       "            <tr>\n",
       "                        <th id=\"T_92440fe0_8914_11ea_935e_e5e31f01e20blevel0_row15\" class=\"row_heading level0 row15\" >15</th>\n",
       "                        <td id=\"T_92440fe0_8914_11ea_935e_e5e31f01e20brow15_col0\" class=\"data row15 col0\" >Normalize </td>\n",
       "                        <td id=\"T_92440fe0_8914_11ea_935e_e5e31f01e20brow15_col1\" class=\"data row15 col1\" >False</td>\n",
       "            </tr>\n",
       "            <tr>\n",
       "                        <th id=\"T_92440fe0_8914_11ea_935e_e5e31f01e20blevel0_row16\" class=\"row_heading level0 row16\" >16</th>\n",
       "                        <td id=\"T_92440fe0_8914_11ea_935e_e5e31f01e20brow16_col0\" class=\"data row16 col0\" >Normalize Method </td>\n",
       "                        <td id=\"T_92440fe0_8914_11ea_935e_e5e31f01e20brow16_col1\" class=\"data row16 col1\" >None</td>\n",
       "            </tr>\n",
       "            <tr>\n",
       "                        <th id=\"T_92440fe0_8914_11ea_935e_e5e31f01e20blevel0_row17\" class=\"row_heading level0 row17\" >17</th>\n",
       "                        <td id=\"T_92440fe0_8914_11ea_935e_e5e31f01e20brow17_col0\" class=\"data row17 col0\" >Transformation </td>\n",
       "                        <td id=\"T_92440fe0_8914_11ea_935e_e5e31f01e20brow17_col1\" class=\"data row17 col1\" >False</td>\n",
       "            </tr>\n",
       "            <tr>\n",
       "                        <th id=\"T_92440fe0_8914_11ea_935e_e5e31f01e20blevel0_row18\" class=\"row_heading level0 row18\" >18</th>\n",
       "                        <td id=\"T_92440fe0_8914_11ea_935e_e5e31f01e20brow18_col0\" class=\"data row18 col0\" >Transformation Method </td>\n",
       "                        <td id=\"T_92440fe0_8914_11ea_935e_e5e31f01e20brow18_col1\" class=\"data row18 col1\" >None</td>\n",
       "            </tr>\n",
       "            <tr>\n",
       "                        <th id=\"T_92440fe0_8914_11ea_935e_e5e31f01e20blevel0_row19\" class=\"row_heading level0 row19\" >19</th>\n",
       "                        <td id=\"T_92440fe0_8914_11ea_935e_e5e31f01e20brow19_col0\" class=\"data row19 col0\" >PCA </td>\n",
       "                        <td id=\"T_92440fe0_8914_11ea_935e_e5e31f01e20brow19_col1\" class=\"data row19 col1\" >False</td>\n",
       "            </tr>\n",
       "            <tr>\n",
       "                        <th id=\"T_92440fe0_8914_11ea_935e_e5e31f01e20blevel0_row20\" class=\"row_heading level0 row20\" >20</th>\n",
       "                        <td id=\"T_92440fe0_8914_11ea_935e_e5e31f01e20brow20_col0\" class=\"data row20 col0\" >PCA Method </td>\n",
       "                        <td id=\"T_92440fe0_8914_11ea_935e_e5e31f01e20brow20_col1\" class=\"data row20 col1\" >None</td>\n",
       "            </tr>\n",
       "            <tr>\n",
       "                        <th id=\"T_92440fe0_8914_11ea_935e_e5e31f01e20blevel0_row21\" class=\"row_heading level0 row21\" >21</th>\n",
       "                        <td id=\"T_92440fe0_8914_11ea_935e_e5e31f01e20brow21_col0\" class=\"data row21 col0\" >PCA Components </td>\n",
       "                        <td id=\"T_92440fe0_8914_11ea_935e_e5e31f01e20brow21_col1\" class=\"data row21 col1\" >None</td>\n",
       "            </tr>\n",
       "            <tr>\n",
       "                        <th id=\"T_92440fe0_8914_11ea_935e_e5e31f01e20blevel0_row22\" class=\"row_heading level0 row22\" >22</th>\n",
       "                        <td id=\"T_92440fe0_8914_11ea_935e_e5e31f01e20brow22_col0\" class=\"data row22 col0\" >Ignore Low Variance </td>\n",
       "                        <td id=\"T_92440fe0_8914_11ea_935e_e5e31f01e20brow22_col1\" class=\"data row22 col1\" >False</td>\n",
       "            </tr>\n",
       "            <tr>\n",
       "                        <th id=\"T_92440fe0_8914_11ea_935e_e5e31f01e20blevel0_row23\" class=\"row_heading level0 row23\" >23</th>\n",
       "                        <td id=\"T_92440fe0_8914_11ea_935e_e5e31f01e20brow23_col0\" class=\"data row23 col0\" >Combine Rare Levels </td>\n",
       "                        <td id=\"T_92440fe0_8914_11ea_935e_e5e31f01e20brow23_col1\" class=\"data row23 col1\" >False</td>\n",
       "            </tr>\n",
       "            <tr>\n",
       "                        <th id=\"T_92440fe0_8914_11ea_935e_e5e31f01e20blevel0_row24\" class=\"row_heading level0 row24\" >24</th>\n",
       "                        <td id=\"T_92440fe0_8914_11ea_935e_e5e31f01e20brow24_col0\" class=\"data row24 col0\" >Rare Level Threshold </td>\n",
       "                        <td id=\"T_92440fe0_8914_11ea_935e_e5e31f01e20brow24_col1\" class=\"data row24 col1\" >None</td>\n",
       "            </tr>\n",
       "            <tr>\n",
       "                        <th id=\"T_92440fe0_8914_11ea_935e_e5e31f01e20blevel0_row25\" class=\"row_heading level0 row25\" >25</th>\n",
       "                        <td id=\"T_92440fe0_8914_11ea_935e_e5e31f01e20brow25_col0\" class=\"data row25 col0\" >Numeric Binning </td>\n",
       "                        <td id=\"T_92440fe0_8914_11ea_935e_e5e31f01e20brow25_col1\" class=\"data row25 col1\" >False</td>\n",
       "            </tr>\n",
       "            <tr>\n",
       "                        <th id=\"T_92440fe0_8914_11ea_935e_e5e31f01e20blevel0_row26\" class=\"row_heading level0 row26\" >26</th>\n",
       "                        <td id=\"T_92440fe0_8914_11ea_935e_e5e31f01e20brow26_col0\" class=\"data row26 col0\" >Remove Outliers </td>\n",
       "                        <td id=\"T_92440fe0_8914_11ea_935e_e5e31f01e20brow26_col1\" class=\"data row26 col1\" >False</td>\n",
       "            </tr>\n",
       "            <tr>\n",
       "                        <th id=\"T_92440fe0_8914_11ea_935e_e5e31f01e20blevel0_row27\" class=\"row_heading level0 row27\" >27</th>\n",
       "                        <td id=\"T_92440fe0_8914_11ea_935e_e5e31f01e20brow27_col0\" class=\"data row27 col0\" >Outliers Threshold </td>\n",
       "                        <td id=\"T_92440fe0_8914_11ea_935e_e5e31f01e20brow27_col1\" class=\"data row27 col1\" >None</td>\n",
       "            </tr>\n",
       "            <tr>\n",
       "                        <th id=\"T_92440fe0_8914_11ea_935e_e5e31f01e20blevel0_row28\" class=\"row_heading level0 row28\" >28</th>\n",
       "                        <td id=\"T_92440fe0_8914_11ea_935e_e5e31f01e20brow28_col0\" class=\"data row28 col0\" >Remove Multicollinearity </td>\n",
       "                        <td id=\"T_92440fe0_8914_11ea_935e_e5e31f01e20brow28_col1\" class=\"data row28 col1\" >False</td>\n",
       "            </tr>\n",
       "            <tr>\n",
       "                        <th id=\"T_92440fe0_8914_11ea_935e_e5e31f01e20blevel0_row29\" class=\"row_heading level0 row29\" >29</th>\n",
       "                        <td id=\"T_92440fe0_8914_11ea_935e_e5e31f01e20brow29_col0\" class=\"data row29 col0\" >Multicollinearity Threshold </td>\n",
       "                        <td id=\"T_92440fe0_8914_11ea_935e_e5e31f01e20brow29_col1\" class=\"data row29 col1\" >None</td>\n",
       "            </tr>\n",
       "            <tr>\n",
       "                        <th id=\"T_92440fe0_8914_11ea_935e_e5e31f01e20blevel0_row30\" class=\"row_heading level0 row30\" >30</th>\n",
       "                        <td id=\"T_92440fe0_8914_11ea_935e_e5e31f01e20brow30_col0\" class=\"data row30 col0\" >Clustering </td>\n",
       "                        <td id=\"T_92440fe0_8914_11ea_935e_e5e31f01e20brow30_col1\" class=\"data row30 col1\" >False</td>\n",
       "            </tr>\n",
       "            <tr>\n",
       "                        <th id=\"T_92440fe0_8914_11ea_935e_e5e31f01e20blevel0_row31\" class=\"row_heading level0 row31\" >31</th>\n",
       "                        <td id=\"T_92440fe0_8914_11ea_935e_e5e31f01e20brow31_col0\" class=\"data row31 col0\" >Clustering Iteration </td>\n",
       "                        <td id=\"T_92440fe0_8914_11ea_935e_e5e31f01e20brow31_col1\" class=\"data row31 col1\" >None</td>\n",
       "            </tr>\n",
       "            <tr>\n",
       "                        <th id=\"T_92440fe0_8914_11ea_935e_e5e31f01e20blevel0_row32\" class=\"row_heading level0 row32\" >32</th>\n",
       "                        <td id=\"T_92440fe0_8914_11ea_935e_e5e31f01e20brow32_col0\" class=\"data row32 col0\" >Polynomial Features </td>\n",
       "                        <td id=\"T_92440fe0_8914_11ea_935e_e5e31f01e20brow32_col1\" class=\"data row32 col1\" >False</td>\n",
       "            </tr>\n",
       "            <tr>\n",
       "                        <th id=\"T_92440fe0_8914_11ea_935e_e5e31f01e20blevel0_row33\" class=\"row_heading level0 row33\" >33</th>\n",
       "                        <td id=\"T_92440fe0_8914_11ea_935e_e5e31f01e20brow33_col0\" class=\"data row33 col0\" >Polynomial Degree </td>\n",
       "                        <td id=\"T_92440fe0_8914_11ea_935e_e5e31f01e20brow33_col1\" class=\"data row33 col1\" >None</td>\n",
       "            </tr>\n",
       "            <tr>\n",
       "                        <th id=\"T_92440fe0_8914_11ea_935e_e5e31f01e20blevel0_row34\" class=\"row_heading level0 row34\" >34</th>\n",
       "                        <td id=\"T_92440fe0_8914_11ea_935e_e5e31f01e20brow34_col0\" class=\"data row34 col0\" >Trignometry Features </td>\n",
       "                        <td id=\"T_92440fe0_8914_11ea_935e_e5e31f01e20brow34_col1\" class=\"data row34 col1\" >False</td>\n",
       "            </tr>\n",
       "            <tr>\n",
       "                        <th id=\"T_92440fe0_8914_11ea_935e_e5e31f01e20blevel0_row35\" class=\"row_heading level0 row35\" >35</th>\n",
       "                        <td id=\"T_92440fe0_8914_11ea_935e_e5e31f01e20brow35_col0\" class=\"data row35 col0\" >Polynomial Threshold </td>\n",
       "                        <td id=\"T_92440fe0_8914_11ea_935e_e5e31f01e20brow35_col1\" class=\"data row35 col1\" >None</td>\n",
       "            </tr>\n",
       "            <tr>\n",
       "                        <th id=\"T_92440fe0_8914_11ea_935e_e5e31f01e20blevel0_row36\" class=\"row_heading level0 row36\" >36</th>\n",
       "                        <td id=\"T_92440fe0_8914_11ea_935e_e5e31f01e20brow36_col0\" class=\"data row36 col0\" >Group Features </td>\n",
       "                        <td id=\"T_92440fe0_8914_11ea_935e_e5e31f01e20brow36_col1\" class=\"data row36 col1\" >False</td>\n",
       "            </tr>\n",
       "            <tr>\n",
       "                        <th id=\"T_92440fe0_8914_11ea_935e_e5e31f01e20blevel0_row37\" class=\"row_heading level0 row37\" >37</th>\n",
       "                        <td id=\"T_92440fe0_8914_11ea_935e_e5e31f01e20brow37_col0\" class=\"data row37 col0\" >Feature Selection </td>\n",
       "                        <td id=\"T_92440fe0_8914_11ea_935e_e5e31f01e20brow37_col1\" class=\"data row37 col1\" >False</td>\n",
       "            </tr>\n",
       "            <tr>\n",
       "                        <th id=\"T_92440fe0_8914_11ea_935e_e5e31f01e20blevel0_row38\" class=\"row_heading level0 row38\" >38</th>\n",
       "                        <td id=\"T_92440fe0_8914_11ea_935e_e5e31f01e20brow38_col0\" class=\"data row38 col0\" >Features Selection Threshold </td>\n",
       "                        <td id=\"T_92440fe0_8914_11ea_935e_e5e31f01e20brow38_col1\" class=\"data row38 col1\" >None</td>\n",
       "            </tr>\n",
       "            <tr>\n",
       "                        <th id=\"T_92440fe0_8914_11ea_935e_e5e31f01e20blevel0_row39\" class=\"row_heading level0 row39\" >39</th>\n",
       "                        <td id=\"T_92440fe0_8914_11ea_935e_e5e31f01e20brow39_col0\" class=\"data row39 col0\" >Feature Interaction </td>\n",
       "                        <td id=\"T_92440fe0_8914_11ea_935e_e5e31f01e20brow39_col1\" class=\"data row39 col1\" >False</td>\n",
       "            </tr>\n",
       "            <tr>\n",
       "                        <th id=\"T_92440fe0_8914_11ea_935e_e5e31f01e20blevel0_row40\" class=\"row_heading level0 row40\" >40</th>\n",
       "                        <td id=\"T_92440fe0_8914_11ea_935e_e5e31f01e20brow40_col0\" class=\"data row40 col0\" >Feature Ratio </td>\n",
       "                        <td id=\"T_92440fe0_8914_11ea_935e_e5e31f01e20brow40_col1\" class=\"data row40 col1\" >False</td>\n",
       "            </tr>\n",
       "            <tr>\n",
       "                        <th id=\"T_92440fe0_8914_11ea_935e_e5e31f01e20blevel0_row41\" class=\"row_heading level0 row41\" >41</th>\n",
       "                        <td id=\"T_92440fe0_8914_11ea_935e_e5e31f01e20brow41_col0\" class=\"data row41 col0\" >Interaction Threshold </td>\n",
       "                        <td id=\"T_92440fe0_8914_11ea_935e_e5e31f01e20brow41_col1\" class=\"data row41 col1\" >None</td>\n",
       "            </tr>\n",
       "    </tbody></table>"
      ],
      "text/plain": [
       "<pandas.io.formats.style.Styler at 0x7fbc1406ec90>"
      ]
     },
     "metadata": {},
     "output_type": "display_data"
    }
   ],
   "source": [
    "exp_clf = setup(data = train_data, target = f'{region_name}_{target_type}', session_id=123,\n",
    "                  normalize = False, \n",
    "                  transformation = False, \n",
    "                  pca=False, silent=silent)"
   ]
  },
  {
   "cell_type": "markdown",
   "metadata": {},
   "source": [
    "### quick comparison of the models, if `turbo` is set to False, then all models (including the ones expensive to train) are considered "
   ]
  },
  {
   "cell_type": "code",
   "execution_count": 24,
   "metadata": {},
   "outputs": [],
   "source": [
    "df_compare_models = compare_models(turbo=False)"
   ]
  },
  {
   "cell_type": "code",
   "execution_count": 25,
   "metadata": {},
   "outputs": [
    {
     "data": {
      "text/html": [
       "<div>\n",
       "<style scoped>\n",
       "    .dataframe tbody tr th:only-of-type {\n",
       "        vertical-align: middle;\n",
       "    }\n",
       "\n",
       "    .dataframe tbody tr th {\n",
       "        vertical-align: top;\n",
       "    }\n",
       "\n",
       "    .dataframe thead th {\n",
       "        text-align: right;\n",
       "    }\n",
       "</style>\n",
       "<table border=\"1\" class=\"dataframe\">\n",
       "  <thead>\n",
       "    <tr style=\"text-align: right;\">\n",
       "      <th></th>\n",
       "      <th>Model</th>\n",
       "      <th>Accuracy</th>\n",
       "      <th>AUC</th>\n",
       "      <th>Recall</th>\n",
       "      <th>Prec.</th>\n",
       "      <th>F1</th>\n",
       "      <th>Kappa</th>\n",
       "    </tr>\n",
       "  </thead>\n",
       "  <tbody>\n",
       "    <tr>\n",
       "      <th>0</th>\n",
       "      <td>MLP Classifier</td>\n",
       "      <td>0.6141</td>\n",
       "      <td>0.0</td>\n",
       "      <td>0.6031</td>\n",
       "      <td>0.6086</td>\n",
       "      <td>0.6027</td>\n",
       "      <td>0.4167</td>\n",
       "    </tr>\n",
       "    <tr>\n",
       "      <th>1</th>\n",
       "      <td>Extra Trees Classifier</td>\n",
       "      <td>0.5940</td>\n",
       "      <td>0.0</td>\n",
       "      <td>0.5801</td>\n",
       "      <td>0.5641</td>\n",
       "      <td>0.5697</td>\n",
       "      <td>0.3823</td>\n",
       "    </tr>\n",
       "    <tr>\n",
       "      <th>2</th>\n",
       "      <td>CatBoost Classifier</td>\n",
       "      <td>0.5533</td>\n",
       "      <td>0.0</td>\n",
       "      <td>0.5403</td>\n",
       "      <td>0.5403</td>\n",
       "      <td>0.5386</td>\n",
       "      <td>0.3240</td>\n",
       "    </tr>\n",
       "    <tr>\n",
       "      <th>3</th>\n",
       "      <td>Quadratic Discriminant Analysis</td>\n",
       "      <td>0.5501</td>\n",
       "      <td>0.0</td>\n",
       "      <td>0.5423</td>\n",
       "      <td>0.5474</td>\n",
       "      <td>0.5405</td>\n",
       "      <td>0.3229</td>\n",
       "    </tr>\n",
       "    <tr>\n",
       "      <th>4</th>\n",
       "      <td>K Neighbors Classifier</td>\n",
       "      <td>0.5353</td>\n",
       "      <td>0.0</td>\n",
       "      <td>0.5201</td>\n",
       "      <td>0.5171</td>\n",
       "      <td>0.5140</td>\n",
       "      <td>0.2921</td>\n",
       "    </tr>\n",
       "    <tr>\n",
       "      <th>5</th>\n",
       "      <td>Light Gradient Boosting Machine</td>\n",
       "      <td>0.5153</td>\n",
       "      <td>0.0</td>\n",
       "      <td>0.5050</td>\n",
       "      <td>0.5112</td>\n",
       "      <td>0.5066</td>\n",
       "      <td>0.2672</td>\n",
       "    </tr>\n",
       "    <tr>\n",
       "      <th>6</th>\n",
       "      <td>Linear Discriminant Analysis</td>\n",
       "      <td>0.5086</td>\n",
       "      <td>0.0</td>\n",
       "      <td>0.4977</td>\n",
       "      <td>0.4895</td>\n",
       "      <td>0.4934</td>\n",
       "      <td>0.2579</td>\n",
       "    </tr>\n",
       "    <tr>\n",
       "      <th>7</th>\n",
       "      <td>Ridge Classifier</td>\n",
       "      <td>0.5085</td>\n",
       "      <td>0.0</td>\n",
       "      <td>0.4967</td>\n",
       "      <td>0.4912</td>\n",
       "      <td>0.4896</td>\n",
       "      <td>0.2565</td>\n",
       "    </tr>\n",
       "    <tr>\n",
       "      <th>8</th>\n",
       "      <td>Random Forest Classifier</td>\n",
       "      <td>0.5025</td>\n",
       "      <td>0.0</td>\n",
       "      <td>0.4880</td>\n",
       "      <td>0.4906</td>\n",
       "      <td>0.4822</td>\n",
       "      <td>0.2402</td>\n",
       "    </tr>\n",
       "    <tr>\n",
       "      <th>9</th>\n",
       "      <td>Logistic Regression</td>\n",
       "      <td>0.5018</td>\n",
       "      <td>0.0</td>\n",
       "      <td>0.4893</td>\n",
       "      <td>0.4859</td>\n",
       "      <td>0.4860</td>\n",
       "      <td>0.2474</td>\n",
       "    </tr>\n",
       "    <tr>\n",
       "      <th>10</th>\n",
       "      <td>Gradient Boosting Classifier</td>\n",
       "      <td>0.4954</td>\n",
       "      <td>0.0</td>\n",
       "      <td>0.4869</td>\n",
       "      <td>0.4850</td>\n",
       "      <td>0.4851</td>\n",
       "      <td>0.2383</td>\n",
       "    </tr>\n",
       "    <tr>\n",
       "      <th>11</th>\n",
       "      <td>Extreme Gradient Boosting</td>\n",
       "      <td>0.4913</td>\n",
       "      <td>0.0</td>\n",
       "      <td>0.4821</td>\n",
       "      <td>0.4804</td>\n",
       "      <td>0.4803</td>\n",
       "      <td>0.2314</td>\n",
       "    </tr>\n",
       "    <tr>\n",
       "      <th>12</th>\n",
       "      <td>Naive Bayes</td>\n",
       "      <td>0.4644</td>\n",
       "      <td>0.0</td>\n",
       "      <td>0.4565</td>\n",
       "      <td>0.4693</td>\n",
       "      <td>0.4574</td>\n",
       "      <td>0.1930</td>\n",
       "    </tr>\n",
       "    <tr>\n",
       "      <th>13</th>\n",
       "      <td>Decision Tree Classifier</td>\n",
       "      <td>0.4639</td>\n",
       "      <td>0.0</td>\n",
       "      <td>0.4409</td>\n",
       "      <td>0.4624</td>\n",
       "      <td>0.4231</td>\n",
       "      <td>0.1720</td>\n",
       "    </tr>\n",
       "    <tr>\n",
       "      <th>14</th>\n",
       "      <td>SVM - Linear Kernel</td>\n",
       "      <td>0.4639</td>\n",
       "      <td>0.0</td>\n",
       "      <td>0.4485</td>\n",
       "      <td>0.4514</td>\n",
       "      <td>0.4493</td>\n",
       "      <td>0.1868</td>\n",
       "    </tr>\n",
       "    <tr>\n",
       "      <th>15</th>\n",
       "      <td>Ada Boost Classifier</td>\n",
       "      <td>0.4029</td>\n",
       "      <td>0.0</td>\n",
       "      <td>0.3957</td>\n",
       "      <td>0.4039</td>\n",
       "      <td>0.3953</td>\n",
       "      <td>0.1008</td>\n",
       "    </tr>\n",
       "    <tr>\n",
       "      <th>16</th>\n",
       "      <td>SVM - Radial Kernel</td>\n",
       "      <td>0.3755</td>\n",
       "      <td>0.0</td>\n",
       "      <td>0.3333</td>\n",
       "      <td>0.1410</td>\n",
       "      <td>0.2051</td>\n",
       "      <td>0.0000</td>\n",
       "    </tr>\n",
       "    <tr>\n",
       "      <th>17</th>\n",
       "      <td>Gaussian Process Classifier</td>\n",
       "      <td>0.3755</td>\n",
       "      <td>0.0</td>\n",
       "      <td>0.3333</td>\n",
       "      <td>0.1410</td>\n",
       "      <td>0.2051</td>\n",
       "      <td>0.0000</td>\n",
       "    </tr>\n",
       "  </tbody>\n",
       "</table>\n",
       "</div>"
      ],
      "text/plain": [
       "                              Model  Accuracy  AUC  Recall   Prec.      F1  \\\n",
       "0                    MLP Classifier    0.6141  0.0  0.6031  0.6086  0.6027   \n",
       "1            Extra Trees Classifier    0.5940  0.0  0.5801  0.5641  0.5697   \n",
       "2               CatBoost Classifier    0.5533  0.0  0.5403  0.5403  0.5386   \n",
       "3   Quadratic Discriminant Analysis    0.5501  0.0  0.5423  0.5474  0.5405   \n",
       "4            K Neighbors Classifier    0.5353  0.0  0.5201  0.5171  0.5140   \n",
       "5   Light Gradient Boosting Machine    0.5153  0.0  0.5050  0.5112  0.5066   \n",
       "6      Linear Discriminant Analysis    0.5086  0.0  0.4977  0.4895  0.4934   \n",
       "7                  Ridge Classifier    0.5085  0.0  0.4967  0.4912  0.4896   \n",
       "8          Random Forest Classifier    0.5025  0.0  0.4880  0.4906  0.4822   \n",
       "9               Logistic Regression    0.5018  0.0  0.4893  0.4859  0.4860   \n",
       "10     Gradient Boosting Classifier    0.4954  0.0  0.4869  0.4850  0.4851   \n",
       "11        Extreme Gradient Boosting    0.4913  0.0  0.4821  0.4804  0.4803   \n",
       "12                      Naive Bayes    0.4644  0.0  0.4565  0.4693  0.4574   \n",
       "13         Decision Tree Classifier    0.4639  0.0  0.4409  0.4624  0.4231   \n",
       "14              SVM - Linear Kernel    0.4639  0.0  0.4485  0.4514  0.4493   \n",
       "15             Ada Boost Classifier    0.4029  0.0  0.3957  0.4039  0.3953   \n",
       "16              SVM - Radial Kernel    0.3755  0.0  0.3333  0.1410  0.2051   \n",
       "17      Gaussian Process Classifier    0.3755  0.0  0.3333  0.1410  0.2051   \n",
       "\n",
       "     Kappa  \n",
       "0   0.4167  \n",
       "1   0.3823  \n",
       "2   0.3240  \n",
       "3   0.3229  \n",
       "4   0.2921  \n",
       "5   0.2672  \n",
       "6   0.2579  \n",
       "7   0.2565  \n",
       "8   0.2402  \n",
       "9   0.2474  \n",
       "10  0.2383  \n",
       "11  0.2314  \n",
       "12  0.1930  \n",
       "13  0.1720  \n",
       "14  0.1868  \n",
       "15  0.1008  \n",
       "16  0.0000  \n",
       "17  0.0000  "
      ]
     },
     "execution_count": 25,
     "metadata": {},
     "output_type": "execute_result"
    }
   ],
   "source": [
    "df_compare_models.data"
   ]
  },
  {
   "cell_type": "code",
   "execution_count": 26,
   "metadata": {},
   "outputs": [
    {
     "data": {
      "text/html": [
       "<div>\n",
       "<style scoped>\n",
       "    .dataframe tbody tr th:only-of-type {\n",
       "        vertical-align: middle;\n",
       "    }\n",
       "\n",
       "    .dataframe tbody tr th {\n",
       "        vertical-align: top;\n",
       "    }\n",
       "\n",
       "    .dataframe thead th {\n",
       "        text-align: right;\n",
       "    }\n",
       "</style>\n",
       "<table border=\"1\" class=\"dataframe\">\n",
       "  <thead>\n",
       "    <tr style=\"text-align: right;\">\n",
       "      <th></th>\n",
       "      <th>Model</th>\n",
       "      <th>Accuracy</th>\n",
       "      <th>AUC</th>\n",
       "      <th>Recall</th>\n",
       "      <th>Prec.</th>\n",
       "      <th>F1</th>\n",
       "      <th>Kappa</th>\n",
       "    </tr>\n",
       "  </thead>\n",
       "  <tbody>\n",
       "    <tr>\n",
       "      <th>0</th>\n",
       "      <td>MLP Classifier</td>\n",
       "      <td>0.6141</td>\n",
       "      <td>0.0</td>\n",
       "      <td>0.6031</td>\n",
       "      <td>0.6086</td>\n",
       "      <td>0.6027</td>\n",
       "      <td>0.4167</td>\n",
       "    </tr>\n",
       "  </tbody>\n",
       "</table>\n",
       "</div>"
      ],
      "text/plain": [
       "            Model  Accuracy  AUC  Recall   Prec.      F1   Kappa\n",
       "0  MLP Classifier    0.6141  0.0  0.6031  0.6086  0.6027  0.4167"
      ]
     },
     "execution_count": 26,
     "metadata": {},
     "output_type": "execute_result"
    }
   ],
   "source": [
    "df_compare_models.data.loc[[0],:]"
   ]
  },
  {
   "cell_type": "code",
   "execution_count": 27,
   "metadata": {},
   "outputs": [],
   "source": [
    "methods = pd.read_csv('./methods.csv', index_col=0)"
   ]
  },
  {
   "cell_type": "code",
   "execution_count": 28,
   "metadata": {},
   "outputs": [],
   "source": [
    "best_model = methods.loc[df_compare_models.data.loc[[0],'Model'],'Abbr'].values[0]"
   ]
  },
  {
   "cell_type": "code",
   "execution_count": 29,
   "metadata": {},
   "outputs": [
    {
     "name": "stdout",
     "output_type": "stream",
     "text": [
      "the best model is mlp\n"
     ]
    }
   ],
   "source": [
    "print(f\"the best model is {best_model}\")"
   ]
  },
  {
   "cell_type": "code",
   "execution_count": 30,
   "metadata": {},
   "outputs": [
    {
     "data": {
      "text/html": [
       "<div>\n",
       "<style scoped>\n",
       "    .dataframe tbody tr th:only-of-type {\n",
       "        vertical-align: middle;\n",
       "    }\n",
       "\n",
       "    .dataframe tbody tr th {\n",
       "        vertical-align: top;\n",
       "    }\n",
       "\n",
       "    .dataframe thead th {\n",
       "        text-align: right;\n",
       "    }\n",
       "</style>\n",
       "<table border=\"1\" class=\"dataframe\">\n",
       "  <thead>\n",
       "    <tr style=\"text-align: right;\">\n",
       "      <th></th>\n",
       "      <th>Accuracy</th>\n",
       "      <th>AUC</th>\n",
       "      <th>Recall</th>\n",
       "      <th>Prec.</th>\n",
       "      <th>F1</th>\n",
       "      <th>Kappa</th>\n",
       "    </tr>\n",
       "  </thead>\n",
       "  <tbody>\n",
       "    <tr>\n",
       "      <th>0</th>\n",
       "      <td>0.7333</td>\n",
       "      <td>0.0</td>\n",
       "      <td>0.7283</td>\n",
       "      <td>0.7333</td>\n",
       "      <td>0.7333</td>\n",
       "      <td>0.5987</td>\n",
       "    </tr>\n",
       "    <tr>\n",
       "      <th>1</th>\n",
       "      <td>0.5333</td>\n",
       "      <td>0.0</td>\n",
       "      <td>0.5269</td>\n",
       "      <td>0.5437</td>\n",
       "      <td>0.5348</td>\n",
       "      <td>0.2953</td>\n",
       "    </tr>\n",
       "    <tr>\n",
       "      <th>2</th>\n",
       "      <td>0.6333</td>\n",
       "      <td>0.0</td>\n",
       "      <td>0.6239</td>\n",
       "      <td>0.6378</td>\n",
       "      <td>0.6327</td>\n",
       "      <td>0.4482</td>\n",
       "    </tr>\n",
       "    <tr>\n",
       "      <th>3</th>\n",
       "      <td>0.5517</td>\n",
       "      <td>0.0</td>\n",
       "      <td>0.5253</td>\n",
       "      <td>0.5252</td>\n",
       "      <td>0.5215</td>\n",
       "      <td>0.3120</td>\n",
       "    </tr>\n",
       "    <tr>\n",
       "      <th>4</th>\n",
       "      <td>0.4483</td>\n",
       "      <td>0.0</td>\n",
       "      <td>0.4478</td>\n",
       "      <td>0.4490</td>\n",
       "      <td>0.4448</td>\n",
       "      <td>0.1744</td>\n",
       "    </tr>\n",
       "    <tr>\n",
       "      <th>5</th>\n",
       "      <td>0.8276</td>\n",
       "      <td>0.0</td>\n",
       "      <td>0.8148</td>\n",
       "      <td>0.8641</td>\n",
       "      <td>0.8047</td>\n",
       "      <td>0.7383</td>\n",
       "    </tr>\n",
       "    <tr>\n",
       "      <th>6</th>\n",
       "      <td>0.5172</td>\n",
       "      <td>0.0</td>\n",
       "      <td>0.4882</td>\n",
       "      <td>0.4571</td>\n",
       "      <td>0.4785</td>\n",
       "      <td>0.2645</td>\n",
       "    </tr>\n",
       "    <tr>\n",
       "      <th>7</th>\n",
       "      <td>0.6207</td>\n",
       "      <td>0.0</td>\n",
       "      <td>0.6061</td>\n",
       "      <td>0.6124</td>\n",
       "      <td>0.6121</td>\n",
       "      <td>0.4242</td>\n",
       "    </tr>\n",
       "    <tr>\n",
       "      <th>8</th>\n",
       "      <td>0.5517</td>\n",
       "      <td>0.0</td>\n",
       "      <td>0.5522</td>\n",
       "      <td>0.5415</td>\n",
       "      <td>0.5435</td>\n",
       "      <td>0.3268</td>\n",
       "    </tr>\n",
       "    <tr>\n",
       "      <th>9</th>\n",
       "      <td>0.7241</td>\n",
       "      <td>0.0</td>\n",
       "      <td>0.7172</td>\n",
       "      <td>0.7216</td>\n",
       "      <td>0.7216</td>\n",
       "      <td>0.5842</td>\n",
       "    </tr>\n",
       "    <tr>\n",
       "      <th>Mean</th>\n",
       "      <td>0.6141</td>\n",
       "      <td>0.0</td>\n",
       "      <td>0.6031</td>\n",
       "      <td>0.6086</td>\n",
       "      <td>0.6027</td>\n",
       "      <td>0.4167</td>\n",
       "    </tr>\n",
       "    <tr>\n",
       "      <th>SD</th>\n",
       "      <td>0.1111</td>\n",
       "      <td>0.0</td>\n",
       "      <td>0.1121</td>\n",
       "      <td>0.1259</td>\n",
       "      <td>0.1132</td>\n",
       "      <td>0.1677</td>\n",
       "    </tr>\n",
       "  </tbody>\n",
       "</table>\n",
       "</div>"
      ],
      "text/plain": [
       "      Accuracy  AUC  Recall   Prec.      F1   Kappa\n",
       "0       0.7333  0.0  0.7283  0.7333  0.7333  0.5987\n",
       "1       0.5333  0.0  0.5269  0.5437  0.5348  0.2953\n",
       "2       0.6333  0.0  0.6239  0.6378  0.6327  0.4482\n",
       "3       0.5517  0.0  0.5253  0.5252  0.5215  0.3120\n",
       "4       0.4483  0.0  0.4478  0.4490  0.4448  0.1744\n",
       "5       0.8276  0.0  0.8148  0.8641  0.8047  0.7383\n",
       "6       0.5172  0.0  0.4882  0.4571  0.4785  0.2645\n",
       "7       0.6207  0.0  0.6061  0.6124  0.6121  0.4242\n",
       "8       0.5517  0.0  0.5522  0.5415  0.5435  0.3268\n",
       "9       0.7241  0.0  0.7172  0.7216  0.7216  0.5842\n",
       "Mean    0.6141  0.0  0.6031  0.6086  0.6027  0.4167\n",
       "SD      0.1111  0.0  0.1121  0.1259  0.1132  0.1677"
      ]
     },
     "metadata": {},
     "output_type": "display_data"
    }
   ],
   "source": [
    "best_model_m = create_model(best_model)"
   ]
  },
  {
   "cell_type": "markdown",
   "metadata": {},
   "source": [
    "### first pathway: tune the best model "
   ]
  },
  {
   "cell_type": "code",
   "execution_count": 33,
   "metadata": {},
   "outputs": [
    {
     "data": {
      "text/html": [
       "<div>\n",
       "<style scoped>\n",
       "    .dataframe tbody tr th:only-of-type {\n",
       "        vertical-align: middle;\n",
       "    }\n",
       "\n",
       "    .dataframe tbody tr th {\n",
       "        vertical-align: top;\n",
       "    }\n",
       "\n",
       "    .dataframe thead th {\n",
       "        text-align: right;\n",
       "    }\n",
       "</style>\n",
       "<table border=\"1\" class=\"dataframe\">\n",
       "  <thead>\n",
       "    <tr style=\"text-align: right;\">\n",
       "      <th></th>\n",
       "      <th>Accuracy</th>\n",
       "      <th>AUC</th>\n",
       "      <th>Recall</th>\n",
       "      <th>Prec.</th>\n",
       "      <th>F1</th>\n",
       "      <th>Kappa</th>\n",
       "    </tr>\n",
       "  </thead>\n",
       "  <tbody>\n",
       "    <tr>\n",
       "      <th>0</th>\n",
       "      <td>0.7667</td>\n",
       "      <td>0.0</td>\n",
       "      <td>0.7660</td>\n",
       "      <td>0.7601</td>\n",
       "      <td>0.7543</td>\n",
       "      <td>0.6482</td>\n",
       "    </tr>\n",
       "    <tr>\n",
       "      <th>1</th>\n",
       "      <td>0.5333</td>\n",
       "      <td>0.0</td>\n",
       "      <td>0.5343</td>\n",
       "      <td>0.5262</td>\n",
       "      <td>0.5224</td>\n",
       "      <td>0.3012</td>\n",
       "    </tr>\n",
       "    <tr>\n",
       "      <th>2</th>\n",
       "      <td>0.6667</td>\n",
       "      <td>0.0</td>\n",
       "      <td>0.6579</td>\n",
       "      <td>0.6625</td>\n",
       "      <td>0.6634</td>\n",
       "      <td>0.4966</td>\n",
       "    </tr>\n",
       "    <tr>\n",
       "      <th>3</th>\n",
       "      <td>0.5517</td>\n",
       "      <td>0.0</td>\n",
       "      <td>0.5253</td>\n",
       "      <td>0.5115</td>\n",
       "      <td>0.5206</td>\n",
       "      <td>0.3145</td>\n",
       "    </tr>\n",
       "    <tr>\n",
       "      <th>4</th>\n",
       "      <td>0.5172</td>\n",
       "      <td>0.0</td>\n",
       "      <td>0.5084</td>\n",
       "      <td>0.5124</td>\n",
       "      <td>0.5121</td>\n",
       "      <td>0.2750</td>\n",
       "    </tr>\n",
       "    <tr>\n",
       "      <th>5</th>\n",
       "      <td>0.7586</td>\n",
       "      <td>0.0</td>\n",
       "      <td>0.7407</td>\n",
       "      <td>0.7635</td>\n",
       "      <td>0.7398</td>\n",
       "      <td>0.6322</td>\n",
       "    </tr>\n",
       "    <tr>\n",
       "      <th>6</th>\n",
       "      <td>0.4138</td>\n",
       "      <td>0.0</td>\n",
       "      <td>0.3973</td>\n",
       "      <td>0.3980</td>\n",
       "      <td>0.4053</td>\n",
       "      <td>0.1133</td>\n",
       "    </tr>\n",
       "    <tr>\n",
       "      <th>7</th>\n",
       "      <td>0.7586</td>\n",
       "      <td>0.0</td>\n",
       "      <td>0.7475</td>\n",
       "      <td>0.7709</td>\n",
       "      <td>0.7517</td>\n",
       "      <td>0.6322</td>\n",
       "    </tr>\n",
       "    <tr>\n",
       "      <th>8</th>\n",
       "      <td>0.6207</td>\n",
       "      <td>0.0</td>\n",
       "      <td>0.6195</td>\n",
       "      <td>0.6207</td>\n",
       "      <td>0.6207</td>\n",
       "      <td>0.4283</td>\n",
       "    </tr>\n",
       "    <tr>\n",
       "      <th>9</th>\n",
       "      <td>0.6552</td>\n",
       "      <td>0.0</td>\n",
       "      <td>0.6566</td>\n",
       "      <td>0.6674</td>\n",
       "      <td>0.6575</td>\n",
       "      <td>0.4840</td>\n",
       "    </tr>\n",
       "    <tr>\n",
       "      <th>Mean</th>\n",
       "      <td>0.6243</td>\n",
       "      <td>0.0</td>\n",
       "      <td>0.6154</td>\n",
       "      <td>0.6193</td>\n",
       "      <td>0.6148</td>\n",
       "      <td>0.4326</td>\n",
       "    </tr>\n",
       "    <tr>\n",
       "      <th>SD</th>\n",
       "      <td>0.1133</td>\n",
       "      <td>0.0</td>\n",
       "      <td>0.1154</td>\n",
       "      <td>0.1219</td>\n",
       "      <td>0.1140</td>\n",
       "      <td>0.1706</td>\n",
       "    </tr>\n",
       "  </tbody>\n",
       "</table>\n",
       "</div>"
      ],
      "text/plain": [
       "      Accuracy  AUC  Recall   Prec.      F1   Kappa\n",
       "0       0.7667  0.0  0.7660  0.7601  0.7543  0.6482\n",
       "1       0.5333  0.0  0.5343  0.5262  0.5224  0.3012\n",
       "2       0.6667  0.0  0.6579  0.6625  0.6634  0.4966\n",
       "3       0.5517  0.0  0.5253  0.5115  0.5206  0.3145\n",
       "4       0.5172  0.0  0.5084  0.5124  0.5121  0.2750\n",
       "5       0.7586  0.0  0.7407  0.7635  0.7398  0.6322\n",
       "6       0.4138  0.0  0.3973  0.3980  0.4053  0.1133\n",
       "7       0.7586  0.0  0.7475  0.7709  0.7517  0.6322\n",
       "8       0.6207  0.0  0.6195  0.6207  0.6207  0.4283\n",
       "9       0.6552  0.0  0.6566  0.6674  0.6575  0.4840\n",
       "Mean    0.6243  0.0  0.6154  0.6193  0.6148  0.4326\n",
       "SD      0.1133  0.0  0.1154  0.1219  0.1140  0.1706"
      ]
     },
     "metadata": {},
     "output_type": "display_data"
    }
   ],
   "source": [
    "tuned_best_model = tune_model(best_model)"
   ]
  },
  {
   "cell_type": "code",
   "execution_count": 32,
   "metadata": {},
   "outputs": [],
   "source": [
    "# tuned_best_model = tune_model(best_model, ensemble=True, method='Bagging')"
   ]
  },
  {
   "cell_type": "markdown",
   "metadata": {},
   "source": [
    "### finalize the tuned best model"
   ]
  },
  {
   "cell_type": "code",
   "execution_count": null,
   "metadata": {},
   "outputs": [],
   "source": [
    "finalized_tune_best_model = finalize_model(tuned_best_model)"
   ]
  },
  {
   "cell_type": "markdown",
   "metadata": {},
   "source": [
    "### Now prediction on the test data "
   ]
  },
  {
   "cell_type": "code",
   "execution_count": null,
   "metadata": {},
   "outputs": [],
   "source": [
    "test_data.shape"
   ]
  },
  {
   "cell_type": "code",
   "execution_count": null,
   "metadata": {},
   "outputs": [],
   "source": [
    "test_data.head()"
   ]
  },
  {
   "cell_type": "markdown",
   "metadata": {},
   "source": [
    "### transform the test data first (standardization using the scaler 'fitted' on the training data)"
   ]
  },
  {
   "cell_type": "code",
   "execution_count": null,
   "metadata": {},
   "outputs": [],
   "source": [
    "x = scaler.transform(test_data.iloc[:,:-1]) "
   ]
  },
  {
   "cell_type": "markdown",
   "metadata": {},
   "source": [
    "### now perform PCA on scaled GCM outputs in the test set "
   ]
  },
  {
   "cell_type": "code",
   "execution_count": null,
   "metadata": {},
   "outputs": [],
   "source": [
    "x = pca.transform(x)"
   ]
  },
  {
   "cell_type": "code",
   "execution_count": null,
   "metadata": {},
   "outputs": [],
   "source": [
    "x.shape"
   ]
  },
  {
   "cell_type": "code",
   "execution_count": null,
   "metadata": {},
   "outputs": [],
   "source": [
    "train_data.shape"
   ]
  },
  {
   "cell_type": "markdown",
   "metadata": {},
   "source": [
    "### make a dataframe using the indices of test data and columns of train_data "
   ]
  },
  {
   "cell_type": "code",
   "execution_count": null,
   "metadata": {},
   "outputs": [],
   "source": [
    "test_data_df = pd.DataFrame(x, index=test_data.index, columns=train_data.columns[:-1])"
   ]
  },
  {
   "cell_type": "code",
   "execution_count": null,
   "metadata": {},
   "outputs": [],
   "source": [
    "test_data_df.shape"
   ]
  },
  {
   "cell_type": "markdown",
   "metadata": {},
   "source": [
    "### and now add the target column "
   ]
  },
  {
   "cell_type": "code",
   "execution_count": null,
   "metadata": {},
   "outputs": [],
   "source": [
    "test_data.columns[-1]"
   ]
  },
  {
   "cell_type": "code",
   "execution_count": null,
   "metadata": {},
   "outputs": [],
   "source": [
    "test_data_df.loc[:,f\"{region_name}_{target_type}\"] = test_data.loc[:,f\"{region_name}_{target_type}\"]"
   ]
  },
  {
   "cell_type": "markdown",
   "metadata": {},
   "source": [
    "### Now score the best tuned learner on the test data "
   ]
  },
  {
   "cell_type": "code",
   "execution_count": null,
   "metadata": {},
   "outputs": [],
   "source": [
    "finalized_tune_best_model.score(test_data_df.iloc[:,:-1], test_data.iloc[:,-1])"
   ]
  },
  {
   "cell_type": "markdown",
   "metadata": {},
   "source": [
    "### Now blend all the models "
   ]
  },
  {
   "cell_type": "code",
   "execution_count": null,
   "metadata": {},
   "outputs": [],
   "source": [
    "blend_all = blend_models(method='soft', turbo=False)"
   ]
  },
  {
   "cell_type": "code",
   "execution_count": null,
   "metadata": {},
   "outputs": [],
   "source": [
    "finalized_blend_all = finalize_model(blend_all)"
   ]
  },
  {
   "cell_type": "code",
   "execution_count": null,
   "metadata": {},
   "outputs": [],
   "source": [
    "finalized_blend_all.score(test_data_df.iloc[:,:-1], test_data.iloc[:,-1])"
   ]
  },
  {
   "cell_type": "markdown",
   "metadata": {},
   "source": [
    "### third approach: blend the N best models (note that cannot use catboost)"
   ]
  },
  {
   "cell_type": "code",
   "execution_count": null,
   "metadata": {},
   "outputs": [],
   "source": [
    "df_compare_models.data.loc[0:5,:]"
   ]
  },
  {
   "cell_type": "code",
   "execution_count": null,
   "metadata": {},
   "outputs": [],
   "source": [
    "df_compare_models.data.shape"
   ]
  },
  {
   "cell_type": "markdown",
   "metadata": {},
   "source": [
    "### build the list of best N models "
   ]
  },
  {
   "cell_type": "code",
   "execution_count": null,
   "metadata": {},
   "outputs": [],
   "source": [
    "n_models = 3"
   ]
  },
  {
   "cell_type": "code",
   "execution_count": null,
   "metadata": {},
   "outputs": [],
   "source": [
    "list_models = []\n",
    "blend_models_names = []"
   ]
  },
  {
   "cell_type": "code",
   "execution_count": null,
   "metadata": {},
   "outputs": [],
   "source": [
    "tune = False "
   ]
  },
  {
   "cell_type": "code",
   "execution_count": null,
   "metadata": {},
   "outputs": [],
   "source": [
    "i = 0\n",
    "while len(list_models) < n_models: \n",
    "    mod_name = methods.loc[df_compare_models.data.loc[i, 'Model'],'Abbr'] \n",
    "    print(f\"model ranked {i+1} is {mod_name} ====================\\n\")\n",
    "    if mod_name != 'catboost': \n",
    "        print(f\"building model: {mod_name}\")\n",
    "        if tune: \n",
    "            mod = tune_model(mod_name, ensemble=True, method='Bagging')\n",
    "        else: \n",
    "            mod =  create_model(mod_name)\n",
    "        list_models.append(mod)\n",
    "        blend_models_names.append(mod_name)\n",
    "    else: \n",
    "        print(f\"skipping catboost ... \")\n",
    "        pass\n",
    "    i += 1"
   ]
  },
  {
   "cell_type": "markdown",
   "metadata": {},
   "source": [
    "### soft voting enable the use of the `predict_proba` method for the blended ensemble "
   ]
  },
  {
   "cell_type": "markdown",
   "metadata": {},
   "source": [
    "#### names of the models in the blend"
   ]
  },
  {
   "cell_type": "code",
   "execution_count": null,
   "metadata": {},
   "outputs": [],
   "source": [
    "print(f\"models in the blend: {', '.join(blend_models_names)}\")"
   ]
  },
  {
   "cell_type": "code",
   "execution_count": null,
   "metadata": {},
   "outputs": [],
   "source": [
    "blend_specific = blend_models(estimator_list = list_models, method='soft', turbo=False)"
   ]
  },
  {
   "cell_type": "markdown",
   "metadata": {},
   "source": [
    "### finalize the blend specific model "
   ]
  },
  {
   "cell_type": "code",
   "execution_count": null,
   "metadata": {},
   "outputs": [],
   "source": [
    "finalized_blend_specific = finalize_model(blend_specific)"
   ]
  },
  {
   "cell_type": "code",
   "execution_count": null,
   "metadata": {},
   "outputs": [],
   "source": [
    "finalized_blend_specific.score(test_data_df.iloc[:,:-1], test_data.iloc[:,-1])"
   ]
  },
  {
   "cell_type": "markdown",
   "metadata": {},
   "source": [
    "### selects the best model overall "
   ]
  },
  {
   "cell_type": "code",
   "execution_count": null,
   "metadata": {},
   "outputs": [],
   "source": [
    "y_hat_probs = finalized_tune_best_model.predict_proba(test_data_df.iloc[:,:-1])"
   ]
  },
  {
   "cell_type": "code",
   "execution_count": null,
   "metadata": {},
   "outputs": [],
   "source": [
    "df_verif = test_data.iloc[:,[-1]]"
   ]
  },
  {
   "cell_type": "code",
   "execution_count": null,
   "metadata": {},
   "outputs": [],
   "source": [
    "df_verif.columns = [0]"
   ]
  },
  {
   "cell_type": "code",
   "execution_count": null,
   "metadata": {},
   "outputs": [],
   "source": [
    "y_hat_probs_df = pd.DataFrame(y_hat_probs, index=df_verif.index, columns=[1,2,3])"
   ]
  },
  {
   "cell_type": "code",
   "execution_count": null,
   "metadata": {},
   "outputs": [],
   "source": [
    "y_hat_probs_df = y_hat_probs_df * 100."
   ]
  },
  {
   "cell_type": "code",
   "execution_count": null,
   "metadata": {},
   "outputs": [],
   "source": [
    "df_verif = pd.concat([df_verif, y_hat_probs_df], axis=1)"
   ]
  },
  {
   "cell_type": "code",
   "execution_count": null,
   "metadata": {},
   "outputs": [],
   "source": [
    "df_verif.head()"
   ]
  },
  {
   "cell_type": "code",
   "execution_count": null,
   "metadata": {},
   "outputs": [],
   "source": [
    "df_verif.loc[:,0] = df_verif.loc[:,0].astype(np.int)"
   ]
  },
  {
   "cell_type": "code",
   "execution_count": null,
   "metadata": {},
   "outputs": [],
   "source": [
    "sco_acc = calc_accuracy_sco(df_verif, tolerance=True)"
   ]
  },
  {
   "cell_type": "code",
   "execution_count": null,
   "metadata": {},
   "outputs": [],
   "source": [
    "sco_acc"
   ]
  },
  {
   "cell_type": "markdown",
   "metadata": {},
   "source": [
    "### if we have trained over all the GCMs, then the instances are repeated in time, we deal with that by computing the mode (~= majority vote)"
   ]
  },
  {
   "cell_type": "code",
   "execution_count": null,
   "metadata": {},
   "outputs": [],
   "source": [
    "if GCM == 'All':\n",
    "    maj_ = []\n",
    "    for date in df_verif.index.unique(): \n",
    "        print(f\"{date:%Y-%m} number of available GCMs: {len(df_verif.loc[date,:])}\")\n",
    "#         print(df_verif.loc[date,4].mode())\n",
    "        maj_.append(df_verif.loc[date,4].mode()[0])\n",
    "\n",
    "    maj = np.array(maj_)\n",
    "    \n",
    "    df = df_verif.loc[~df_verif.index.duplicated(keep='first')]\n",
    "    \n",
    "    (df.loc[:,0].values == maj).sum() / len(df)"
   ]
  },
  {
   "cell_type": "code",
   "execution_count": null,
   "metadata": {},
   "outputs": [],
   "source": [
    "import ppscore as pps"
   ]
  },
  {
   "cell_type": "code",
   "execution_count": null,
   "metadata": {},
   "outputs": [],
   "source": [
    "train_data.columns"
   ]
  },
  {
   "cell_type": "code",
   "execution_count": null,
   "metadata": {},
   "outputs": [],
   "source": [
    "ppscore = []\n",
    "for pc in train_data.columns[:-1]: \n",
    "    ppscore.append(pps.score(train_data, pc, \"NNI_cat3_categories\")['ppscore']) "
   ]
  },
  {
   "cell_type": "code",
   "execution_count": null,
   "metadata": {},
   "outputs": [],
   "source": []
  }
 ],
 "metadata": {
  "kernelspec": {
   "display_name": "Python 3",
   "language": "python",
   "name": "python3"
  },
  "language_info": {
   "codemirror_mode": {
    "name": "ipython",
    "version": 3
   },
   "file_extension": ".py",
   "mimetype": "text/x-python",
   "name": "python",
   "nbconvert_exporter": "python",
   "pygments_lexer": "ipython3",
   "version": "3.7.5"
  }
 },
 "nbformat": 4,
 "nbformat_minor": 4
}
