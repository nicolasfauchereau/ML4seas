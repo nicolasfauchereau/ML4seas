{
 "cells": [
  {
   "cell_type": "code",
   "execution_count": 1,
   "metadata": {},
   "outputs": [],
   "source": [
    "# Parameters \n",
    "\n",
    "region_name = 'NNI'\n",
    "var_name = 'TMEAN'\n",
    "target_type = 'cat3_categories'\n",
    "# GCM = 'UKMO'\n",
    "GCM = 'All'\n",
    "standardized = False"
   ]
  },
  {
   "cell_type": "code",
   "execution_count": 2,
   "metadata": {},
   "outputs": [],
   "source": [
    "%matplotlib inline"
   ]
  },
  {
   "cell_type": "code",
   "execution_count": 3,
   "metadata": {},
   "outputs": [],
   "source": [
    "import os \n",
    "import sys \n",
    "import pathlib"
   ]
  },
  {
   "cell_type": "code",
   "execution_count": 4,
   "metadata": {},
   "outputs": [],
   "source": [
    "HOME = pathlib.Path.home()"
   ]
  },
  {
   "cell_type": "code",
   "execution_count": 5,
   "metadata": {},
   "outputs": [],
   "source": [
    "from matplotlib import pyplot as plt"
   ]
  },
  {
   "cell_type": "code",
   "execution_count": 6,
   "metadata": {},
   "outputs": [],
   "source": [
    "import numpy as np \n",
    "import pandas as pd"
   ]
  },
  {
   "cell_type": "code",
   "execution_count": 7,
   "metadata": {},
   "outputs": [],
   "source": [
    "from pycaret import datasets"
   ]
  },
  {
   "cell_type": "code",
   "execution_count": 8,
   "metadata": {},
   "outputs": [],
   "source": [
    "from pycaret.classification import *"
   ]
  },
  {
   "cell_type": "code",
   "execution_count": 9,
   "metadata": {},
   "outputs": [],
   "source": [
    "sys.path.append('/home/nicolasf/research/Smart_Ideas/code/ml4seas')"
   ]
  },
  {
   "cell_type": "code",
   "execution_count": 10,
   "metadata": {},
   "outputs": [],
   "source": [
    "from evaluation import calc_accuracy_sco"
   ]
  },
  {
   "cell_type": "code",
   "execution_count": 11,
   "metadata": {},
   "outputs": [],
   "source": [
    "dpath = HOME / 'research' / 'Smart_Ideas' / 'outputs' / 'CSVs'"
   ]
  },
  {
   "cell_type": "code",
   "execution_count": 12,
   "metadata": {},
   "outputs": [
    {
     "data": {
      "text/plain": [
       "[PosixPath('/home/nicolasf/research/Smart_Ideas/outputs/CSVs/GCMs_std_and_targets_cat3_and_anomalies_RAIN_test_set.csv'),\n",
       " PosixPath('/home/nicolasf/research/Smart_Ideas/outputs/CSVs/GCMs_and_targets_cat3_and_anomalies_TMEAN_training_set.csv'),\n",
       " PosixPath('/home/nicolasf/research/Smart_Ideas/outputs/CSVs/GCMs_std_and_targets_cat3_and_anomalies_TMEAN_training_set.csv'),\n",
       " PosixPath('/home/nicolasf/research/Smart_Ideas/outputs/CSVs/GCMs_and_targets_cat3_and_anomalies_RAIN_test_set.csv'),\n",
       " PosixPath('/home/nicolasf/research/Smart_Ideas/outputs/CSVs/GCMs_std_and_targets_cat3_and_anomalies_RAIN_training_set.csv'),\n",
       " PosixPath('/home/nicolasf/research/Smart_Ideas/outputs/CSVs/GCMs_std_and_targets_cat3_and_anomalies_TMEAN_test_set.csv'),\n",
       " PosixPath('/home/nicolasf/research/Smart_Ideas/outputs/CSVs/GCMs_and_targets_cat3_and_anomalies_TMEAN_test_set.csv'),\n",
       " PosixPath('/home/nicolasf/research/Smart_Ideas/outputs/CSVs/GCMs_and_targets_cat3_and_anomalies_RAIN_training_set.csv')]"
      ]
     },
     "execution_count": 12,
     "metadata": {},
     "output_type": "execute_result"
    }
   ],
   "source": [
    "list(dpath.glob(\"*.csv\"))"
   ]
  },
  {
   "cell_type": "code",
   "execution_count": 13,
   "metadata": {},
   "outputs": [],
   "source": [
    "if standardized: \n",
    "    train_data = pd.read_csv(dpath / f'GCMs_std_and_targets_cat3_and_anomalies_{var_name}_training_set.csv', index_col=0, parse_dates=True) \n",
    "    test_data = pd.read_csv(dpath / f'GCMs_std_and_targets_cat3_and_anomalies_{var_name}_test_set.csv', index_col=0, parse_dates=True)\n",
    "else: \n",
    "    train_data = pd.read_csv(dpath / f'GCMs_and_targets_cat3_and_anomalies_{var_name}_training_set.csv', index_col=0, parse_dates=True) \n",
    "    test_data = pd.read_csv(dpath / f'GCMs_and_targets_cat3_and_anomalies_{var_name}_test_set.csv', index_col=0, parse_dates=True)    "
   ]
  },
  {
   "cell_type": "markdown",
   "metadata": {},
   "source": [
    "### small function that prepares the data for ingestion in `PyCARET` "
   ]
  },
  {
   "cell_type": "code",
   "execution_count": 14,
   "metadata": {},
   "outputs": [],
   "source": [
    "# %%writefile ../../../../ml4seas/GCM/prepare_data_CSV_to_CARET.py\n",
    "def prepare_data_CSV_to_CARET(data, gcm_index=-13, GCM='All', region_name=None, target_type=None, scaling=True, doPCA=True, n_components=0.9): \n",
    "    \"\"\"\n",
    "    Small function that prepares the data initially contained in the \n",
    "    processed CSV files for ingestion into PyCARET\n",
    "    \n",
    "    Arguments\n",
    "    --------- \n",
    "    \n",
    "    - gcm_index : negative index (always) indicating what \n",
    "            is the last column containing the predictor variable \n",
    "            default is -12 for the 'ext_regional' geographical \n",
    "            domain \n",
    "    - GCM: 'All' or specific GCM in ['CMCC', 'CanCM4i', 'CanSIPSv2', \n",
    "                                    'DWD', 'ECMWF', 'GEM_NEMO', 'JMA',\n",
    "                                    'METEO_FRANCE', 'NASA_GEOSS2S', 'NCEP_CFSv2', 'UKMO']\n",
    "    - region_name : ['NNI','WNI','ENI','NSI','WSI','ESI']\n",
    "    - target_type : 'cat3_category' or 'anomalies'\n",
    "    \n",
    "    Return\n",
    "    ------\n",
    "    \n",
    "    - data : the data filtered by GCM (if not 'All'), region_name and target type \n",
    "    - GCM_index: the GCMs index \n",
    "\n",
    "    \"\"\"\n",
    "    \n",
    "    import numpy as np \n",
    "    import pandas as pd \n",
    "    from sklearn.preprocessing import  StandardScaler \n",
    "    from sklearn.decomposition import PCA\n",
    "\n",
    "    # extract one GCM if not 'All'\n",
    "    if GCM != 'All': \n",
    "        data = data.query(f\"GCM == '{GCM}'\") \n",
    "    \n",
    "    # GCM name and associated index\n",
    "    GCMs_name = data.loc[:,['GCM']]  \n",
    "    \n",
    "    # GCM (features)\n",
    "    GCM_data = data.iloc[:,0:gcm_index]\n",
    "    \n",
    "    # associated index\n",
    "    index = GCM_data.index\n",
    "    \n",
    "    # associated column names \n",
    "    cols = GCM_data.columns\n",
    "\n",
    "    # target variable \n",
    "    target = data.loc[:,[f'{region_name}_{target_type}']]\n",
    "    \n",
    "    # get the values for X \n",
    "    X = GCM_data.values\n",
    "    \n",
    "    if scaling:\n",
    "        scaler = StandardScaler()\n",
    "        X = scaler.fit_transform(X)\n",
    "    else: \n",
    "        scaler = None\n",
    "    \n",
    "    if doPCA: \n",
    "        pca = PCA(n_components=n_components)\n",
    "        pca = pca.fit(X)\n",
    "        X = pca.transform(X)\n",
    "        npcs = X.shape[1]\n",
    "    else: \n",
    "        pca = None\n",
    "\n",
    "    # now casts X into a DataFrame\n",
    "    if doPCA: \n",
    "        df = pd.DataFrame(X, index=index, columns=[f\"PC{i}\" for i in range(1, npcs+1)])\n",
    "    else: \n",
    "        df = pd.DataFrame(GCM_data.values, index=index, columns=cols)\n",
    "        \n",
    "    # add the target variable \n",
    "    data = pd.concat([df, target], axis=1)\n",
    "    \n",
    "    return data, GCMs_name, scaler, pca"
   ]
  },
  {
   "cell_type": "code",
   "execution_count": 15,
   "metadata": {},
   "outputs": [],
   "source": [
    "train_data, GCMs_name_train, scaler, pca = prepare_data_CSV_to_CARET(train_data, GCM=GCM, region_name=region_name, target_type=target_type, scaling=True, doPCA=True)"
   ]
  },
  {
   "cell_type": "code",
   "execution_count": 16,
   "metadata": {},
   "outputs": [
    {
     "data": {
      "text/plain": [
       "(3982, 61)"
      ]
     },
     "execution_count": 16,
     "metadata": {},
     "output_type": "execute_result"
    }
   ],
   "source": [
    "train_data.shape"
   ]
  },
  {
   "cell_type": "code",
   "execution_count": 17,
   "metadata": {},
   "outputs": [
    {
     "data": {
      "text/plain": [
       "Index(['PC1', 'PC2', 'PC3', 'PC4', 'PC5', 'PC6', 'PC7', 'PC8', 'PC9', 'PC10',\n",
       "       'PC11', 'PC12', 'PC13', 'PC14', 'PC15', 'PC16', 'PC17', 'PC18', 'PC19',\n",
       "       'PC20', 'PC21', 'PC22', 'PC23', 'PC24', 'PC25', 'PC26', 'PC27', 'PC28',\n",
       "       'PC29', 'PC30', 'PC31', 'PC32', 'PC33', 'PC34', 'PC35', 'PC36', 'PC37',\n",
       "       'PC38', 'PC39', 'PC40', 'PC41', 'PC42', 'PC43', 'PC44', 'PC45', 'PC46',\n",
       "       'PC47', 'PC48', 'PC49', 'PC50', 'PC51', 'PC52', 'PC53', 'PC54', 'PC55',\n",
       "       'PC56', 'PC57', 'PC58', 'PC59', 'PC60', 'NNI_cat3_categories'],\n",
       "      dtype='object')"
      ]
     },
     "execution_count": 17,
     "metadata": {},
     "output_type": "execute_result"
    }
   ],
   "source": [
    "train_data.columns"
   ]
  },
  {
   "cell_type": "code",
   "execution_count": 18,
   "metadata": {},
   "outputs": [],
   "source": [
    "test_data, GCMs_name_test, _, _ = prepare_data_CSV_to_CARET(test_data, GCM=GCM, region_name=region_name, target_type=target_type, scaling=False, doPCA=False)"
   ]
  },
  {
   "cell_type": "code",
   "execution_count": 19,
   "metadata": {},
   "outputs": [
    {
     "data": {
      "text/plain": [
       "(303, 4930)"
      ]
     },
     "execution_count": 19,
     "metadata": {},
     "output_type": "execute_result"
    }
   ],
   "source": [
    "test_data.shape"
   ]
  },
  {
   "cell_type": "code",
   "execution_count": 20,
   "metadata": {},
   "outputs": [
    {
     "data": {
      "text/plain": [
       "StandardScaler(copy=True, with_mean=True, with_std=True)"
      ]
     },
     "execution_count": 20,
     "metadata": {},
     "output_type": "execute_result"
    }
   ],
   "source": [
    "scaler"
   ]
  },
  {
   "cell_type": "code",
   "execution_count": 21,
   "metadata": {},
   "outputs": [
    {
     "data": {
      "text/plain": [
       "PCA(copy=True, iterated_power='auto', n_components=0.9, random_state=None,\n",
       "    svd_solver='auto', tol=0.0, whiten=False)"
      ]
     },
     "execution_count": 21,
     "metadata": {},
     "output_type": "execute_result"
    }
   ],
   "source": [
    "pca"
   ]
  },
  {
   "cell_type": "markdown",
   "metadata": {},
   "source": [
    "### set up the PYCARET experiment, use only the training set (cross validation will be used to evaluate the models)"
   ]
  },
  {
   "cell_type": "markdown",
   "metadata": {},
   "source": [
    "### Note that the first time around, the argument `silent` is left to the default (False) so that the user can verify the data type of each column after the first run and if data types correctly interpreted, `silent` can be set to True"
   ]
  },
  {
   "cell_type": "code",
   "execution_count": 22,
   "metadata": {},
   "outputs": [],
   "source": [
    "silent = True"
   ]
  },
  {
   "cell_type": "code",
   "execution_count": 23,
   "metadata": {},
   "outputs": [
    {
     "name": "stdout",
     "output_type": "stream",
     "text": [
      " \n",
      "Setup Succesfully Completed!\n"
     ]
    },
    {
     "data": {
      "text/html": [
       "<style  type=\"text/css\" >\n",
       "</style><table id=\"T_538eeb56_85dd_11ea_b13c_3ffe6be5b364\" ><thead>    <tr>        <th class=\"blank level0\" ></th>        <th class=\"col_heading level0 col0\" >Description</th>        <th class=\"col_heading level0 col1\" >Value</th>    </tr></thead><tbody>\n",
       "                <tr>\n",
       "                        <th id=\"T_538eeb56_85dd_11ea_b13c_3ffe6be5b364level0_row0\" class=\"row_heading level0 row0\" >0</th>\n",
       "                        <td id=\"T_538eeb56_85dd_11ea_b13c_3ffe6be5b364row0_col0\" class=\"data row0 col0\" >session_id</td>\n",
       "                        <td id=\"T_538eeb56_85dd_11ea_b13c_3ffe6be5b364row0_col1\" class=\"data row0 col1\" >123</td>\n",
       "            </tr>\n",
       "            <tr>\n",
       "                        <th id=\"T_538eeb56_85dd_11ea_b13c_3ffe6be5b364level0_row1\" class=\"row_heading level0 row1\" >1</th>\n",
       "                        <td id=\"T_538eeb56_85dd_11ea_b13c_3ffe6be5b364row1_col0\" class=\"data row1 col0\" >Target Type</td>\n",
       "                        <td id=\"T_538eeb56_85dd_11ea_b13c_3ffe6be5b364row1_col1\" class=\"data row1 col1\" >Multiclass</td>\n",
       "            </tr>\n",
       "            <tr>\n",
       "                        <th id=\"T_538eeb56_85dd_11ea_b13c_3ffe6be5b364level0_row2\" class=\"row_heading level0 row2\" >2</th>\n",
       "                        <td id=\"T_538eeb56_85dd_11ea_b13c_3ffe6be5b364row2_col0\" class=\"data row2 col0\" >Label Encoded</td>\n",
       "                        <td id=\"T_538eeb56_85dd_11ea_b13c_3ffe6be5b364row2_col1\" class=\"data row2 col1\" >None</td>\n",
       "            </tr>\n",
       "            <tr>\n",
       "                        <th id=\"T_538eeb56_85dd_11ea_b13c_3ffe6be5b364level0_row3\" class=\"row_heading level0 row3\" >3</th>\n",
       "                        <td id=\"T_538eeb56_85dd_11ea_b13c_3ffe6be5b364row3_col0\" class=\"data row3 col0\" >Original Data</td>\n",
       "                        <td id=\"T_538eeb56_85dd_11ea_b13c_3ffe6be5b364row3_col1\" class=\"data row3 col1\" >(3982, 61)</td>\n",
       "            </tr>\n",
       "            <tr>\n",
       "                        <th id=\"T_538eeb56_85dd_11ea_b13c_3ffe6be5b364level0_row4\" class=\"row_heading level0 row4\" >4</th>\n",
       "                        <td id=\"T_538eeb56_85dd_11ea_b13c_3ffe6be5b364row4_col0\" class=\"data row4 col0\" >Missing Values </td>\n",
       "                        <td id=\"T_538eeb56_85dd_11ea_b13c_3ffe6be5b364row4_col1\" class=\"data row4 col1\" >False</td>\n",
       "            </tr>\n",
       "            <tr>\n",
       "                        <th id=\"T_538eeb56_85dd_11ea_b13c_3ffe6be5b364level0_row5\" class=\"row_heading level0 row5\" >5</th>\n",
       "                        <td id=\"T_538eeb56_85dd_11ea_b13c_3ffe6be5b364row5_col0\" class=\"data row5 col0\" >Numeric Features </td>\n",
       "                        <td id=\"T_538eeb56_85dd_11ea_b13c_3ffe6be5b364row5_col1\" class=\"data row5 col1\" >60</td>\n",
       "            </tr>\n",
       "            <tr>\n",
       "                        <th id=\"T_538eeb56_85dd_11ea_b13c_3ffe6be5b364level0_row6\" class=\"row_heading level0 row6\" >6</th>\n",
       "                        <td id=\"T_538eeb56_85dd_11ea_b13c_3ffe6be5b364row6_col0\" class=\"data row6 col0\" >Categorical Features </td>\n",
       "                        <td id=\"T_538eeb56_85dd_11ea_b13c_3ffe6be5b364row6_col1\" class=\"data row6 col1\" >0</td>\n",
       "            </tr>\n",
       "            <tr>\n",
       "                        <th id=\"T_538eeb56_85dd_11ea_b13c_3ffe6be5b364level0_row7\" class=\"row_heading level0 row7\" >7</th>\n",
       "                        <td id=\"T_538eeb56_85dd_11ea_b13c_3ffe6be5b364row7_col0\" class=\"data row7 col0\" >Ordinal Features </td>\n",
       "                        <td id=\"T_538eeb56_85dd_11ea_b13c_3ffe6be5b364row7_col1\" class=\"data row7 col1\" >False</td>\n",
       "            </tr>\n",
       "            <tr>\n",
       "                        <th id=\"T_538eeb56_85dd_11ea_b13c_3ffe6be5b364level0_row8\" class=\"row_heading level0 row8\" >8</th>\n",
       "                        <td id=\"T_538eeb56_85dd_11ea_b13c_3ffe6be5b364row8_col0\" class=\"data row8 col0\" >High Cardinality Features </td>\n",
       "                        <td id=\"T_538eeb56_85dd_11ea_b13c_3ffe6be5b364row8_col1\" class=\"data row8 col1\" >False</td>\n",
       "            </tr>\n",
       "            <tr>\n",
       "                        <th id=\"T_538eeb56_85dd_11ea_b13c_3ffe6be5b364level0_row9\" class=\"row_heading level0 row9\" >9</th>\n",
       "                        <td id=\"T_538eeb56_85dd_11ea_b13c_3ffe6be5b364row9_col0\" class=\"data row9 col0\" >High Cardinality Method </td>\n",
       "                        <td id=\"T_538eeb56_85dd_11ea_b13c_3ffe6be5b364row9_col1\" class=\"data row9 col1\" >None</td>\n",
       "            </tr>\n",
       "            <tr>\n",
       "                        <th id=\"T_538eeb56_85dd_11ea_b13c_3ffe6be5b364level0_row10\" class=\"row_heading level0 row10\" >10</th>\n",
       "                        <td id=\"T_538eeb56_85dd_11ea_b13c_3ffe6be5b364row10_col0\" class=\"data row10 col0\" >Sampled Data</td>\n",
       "                        <td id=\"T_538eeb56_85dd_11ea_b13c_3ffe6be5b364row10_col1\" class=\"data row10 col1\" >(3982, 61)</td>\n",
       "            </tr>\n",
       "            <tr>\n",
       "                        <th id=\"T_538eeb56_85dd_11ea_b13c_3ffe6be5b364level0_row11\" class=\"row_heading level0 row11\" >11</th>\n",
       "                        <td id=\"T_538eeb56_85dd_11ea_b13c_3ffe6be5b364row11_col0\" class=\"data row11 col0\" >Transformed Train Set</td>\n",
       "                        <td id=\"T_538eeb56_85dd_11ea_b13c_3ffe6be5b364row11_col1\" class=\"data row11 col1\" >(2787, 60)</td>\n",
       "            </tr>\n",
       "            <tr>\n",
       "                        <th id=\"T_538eeb56_85dd_11ea_b13c_3ffe6be5b364level0_row12\" class=\"row_heading level0 row12\" >12</th>\n",
       "                        <td id=\"T_538eeb56_85dd_11ea_b13c_3ffe6be5b364row12_col0\" class=\"data row12 col0\" >Transformed Test Set</td>\n",
       "                        <td id=\"T_538eeb56_85dd_11ea_b13c_3ffe6be5b364row12_col1\" class=\"data row12 col1\" >(1195, 60)</td>\n",
       "            </tr>\n",
       "            <tr>\n",
       "                        <th id=\"T_538eeb56_85dd_11ea_b13c_3ffe6be5b364level0_row13\" class=\"row_heading level0 row13\" >13</th>\n",
       "                        <td id=\"T_538eeb56_85dd_11ea_b13c_3ffe6be5b364row13_col0\" class=\"data row13 col0\" >Numeric Imputer </td>\n",
       "                        <td id=\"T_538eeb56_85dd_11ea_b13c_3ffe6be5b364row13_col1\" class=\"data row13 col1\" >mean</td>\n",
       "            </tr>\n",
       "            <tr>\n",
       "                        <th id=\"T_538eeb56_85dd_11ea_b13c_3ffe6be5b364level0_row14\" class=\"row_heading level0 row14\" >14</th>\n",
       "                        <td id=\"T_538eeb56_85dd_11ea_b13c_3ffe6be5b364row14_col0\" class=\"data row14 col0\" >Categorical Imputer </td>\n",
       "                        <td id=\"T_538eeb56_85dd_11ea_b13c_3ffe6be5b364row14_col1\" class=\"data row14 col1\" >constant</td>\n",
       "            </tr>\n",
       "            <tr>\n",
       "                        <th id=\"T_538eeb56_85dd_11ea_b13c_3ffe6be5b364level0_row15\" class=\"row_heading level0 row15\" >15</th>\n",
       "                        <td id=\"T_538eeb56_85dd_11ea_b13c_3ffe6be5b364row15_col0\" class=\"data row15 col0\" >Normalize </td>\n",
       "                        <td id=\"T_538eeb56_85dd_11ea_b13c_3ffe6be5b364row15_col1\" class=\"data row15 col1\" >False</td>\n",
       "            </tr>\n",
       "            <tr>\n",
       "                        <th id=\"T_538eeb56_85dd_11ea_b13c_3ffe6be5b364level0_row16\" class=\"row_heading level0 row16\" >16</th>\n",
       "                        <td id=\"T_538eeb56_85dd_11ea_b13c_3ffe6be5b364row16_col0\" class=\"data row16 col0\" >Normalize Method </td>\n",
       "                        <td id=\"T_538eeb56_85dd_11ea_b13c_3ffe6be5b364row16_col1\" class=\"data row16 col1\" >None</td>\n",
       "            </tr>\n",
       "            <tr>\n",
       "                        <th id=\"T_538eeb56_85dd_11ea_b13c_3ffe6be5b364level0_row17\" class=\"row_heading level0 row17\" >17</th>\n",
       "                        <td id=\"T_538eeb56_85dd_11ea_b13c_3ffe6be5b364row17_col0\" class=\"data row17 col0\" >Transformation </td>\n",
       "                        <td id=\"T_538eeb56_85dd_11ea_b13c_3ffe6be5b364row17_col1\" class=\"data row17 col1\" >False</td>\n",
       "            </tr>\n",
       "            <tr>\n",
       "                        <th id=\"T_538eeb56_85dd_11ea_b13c_3ffe6be5b364level0_row18\" class=\"row_heading level0 row18\" >18</th>\n",
       "                        <td id=\"T_538eeb56_85dd_11ea_b13c_3ffe6be5b364row18_col0\" class=\"data row18 col0\" >Transformation Method </td>\n",
       "                        <td id=\"T_538eeb56_85dd_11ea_b13c_3ffe6be5b364row18_col1\" class=\"data row18 col1\" >None</td>\n",
       "            </tr>\n",
       "            <tr>\n",
       "                        <th id=\"T_538eeb56_85dd_11ea_b13c_3ffe6be5b364level0_row19\" class=\"row_heading level0 row19\" >19</th>\n",
       "                        <td id=\"T_538eeb56_85dd_11ea_b13c_3ffe6be5b364row19_col0\" class=\"data row19 col0\" >PCA </td>\n",
       "                        <td id=\"T_538eeb56_85dd_11ea_b13c_3ffe6be5b364row19_col1\" class=\"data row19 col1\" >False</td>\n",
       "            </tr>\n",
       "            <tr>\n",
       "                        <th id=\"T_538eeb56_85dd_11ea_b13c_3ffe6be5b364level0_row20\" class=\"row_heading level0 row20\" >20</th>\n",
       "                        <td id=\"T_538eeb56_85dd_11ea_b13c_3ffe6be5b364row20_col0\" class=\"data row20 col0\" >PCA Method </td>\n",
       "                        <td id=\"T_538eeb56_85dd_11ea_b13c_3ffe6be5b364row20_col1\" class=\"data row20 col1\" >None</td>\n",
       "            </tr>\n",
       "            <tr>\n",
       "                        <th id=\"T_538eeb56_85dd_11ea_b13c_3ffe6be5b364level0_row21\" class=\"row_heading level0 row21\" >21</th>\n",
       "                        <td id=\"T_538eeb56_85dd_11ea_b13c_3ffe6be5b364row21_col0\" class=\"data row21 col0\" >PCA Components </td>\n",
       "                        <td id=\"T_538eeb56_85dd_11ea_b13c_3ffe6be5b364row21_col1\" class=\"data row21 col1\" >None</td>\n",
       "            </tr>\n",
       "            <tr>\n",
       "                        <th id=\"T_538eeb56_85dd_11ea_b13c_3ffe6be5b364level0_row22\" class=\"row_heading level0 row22\" >22</th>\n",
       "                        <td id=\"T_538eeb56_85dd_11ea_b13c_3ffe6be5b364row22_col0\" class=\"data row22 col0\" >Ignore Low Variance </td>\n",
       "                        <td id=\"T_538eeb56_85dd_11ea_b13c_3ffe6be5b364row22_col1\" class=\"data row22 col1\" >False</td>\n",
       "            </tr>\n",
       "            <tr>\n",
       "                        <th id=\"T_538eeb56_85dd_11ea_b13c_3ffe6be5b364level0_row23\" class=\"row_heading level0 row23\" >23</th>\n",
       "                        <td id=\"T_538eeb56_85dd_11ea_b13c_3ffe6be5b364row23_col0\" class=\"data row23 col0\" >Combine Rare Levels </td>\n",
       "                        <td id=\"T_538eeb56_85dd_11ea_b13c_3ffe6be5b364row23_col1\" class=\"data row23 col1\" >False</td>\n",
       "            </tr>\n",
       "            <tr>\n",
       "                        <th id=\"T_538eeb56_85dd_11ea_b13c_3ffe6be5b364level0_row24\" class=\"row_heading level0 row24\" >24</th>\n",
       "                        <td id=\"T_538eeb56_85dd_11ea_b13c_3ffe6be5b364row24_col0\" class=\"data row24 col0\" >Rare Level Threshold </td>\n",
       "                        <td id=\"T_538eeb56_85dd_11ea_b13c_3ffe6be5b364row24_col1\" class=\"data row24 col1\" >None</td>\n",
       "            </tr>\n",
       "            <tr>\n",
       "                        <th id=\"T_538eeb56_85dd_11ea_b13c_3ffe6be5b364level0_row25\" class=\"row_heading level0 row25\" >25</th>\n",
       "                        <td id=\"T_538eeb56_85dd_11ea_b13c_3ffe6be5b364row25_col0\" class=\"data row25 col0\" >Numeric Binning </td>\n",
       "                        <td id=\"T_538eeb56_85dd_11ea_b13c_3ffe6be5b364row25_col1\" class=\"data row25 col1\" >False</td>\n",
       "            </tr>\n",
       "            <tr>\n",
       "                        <th id=\"T_538eeb56_85dd_11ea_b13c_3ffe6be5b364level0_row26\" class=\"row_heading level0 row26\" >26</th>\n",
       "                        <td id=\"T_538eeb56_85dd_11ea_b13c_3ffe6be5b364row26_col0\" class=\"data row26 col0\" >Remove Outliers </td>\n",
       "                        <td id=\"T_538eeb56_85dd_11ea_b13c_3ffe6be5b364row26_col1\" class=\"data row26 col1\" >False</td>\n",
       "            </tr>\n",
       "            <tr>\n",
       "                        <th id=\"T_538eeb56_85dd_11ea_b13c_3ffe6be5b364level0_row27\" class=\"row_heading level0 row27\" >27</th>\n",
       "                        <td id=\"T_538eeb56_85dd_11ea_b13c_3ffe6be5b364row27_col0\" class=\"data row27 col0\" >Outliers Threshold </td>\n",
       "                        <td id=\"T_538eeb56_85dd_11ea_b13c_3ffe6be5b364row27_col1\" class=\"data row27 col1\" >None</td>\n",
       "            </tr>\n",
       "            <tr>\n",
       "                        <th id=\"T_538eeb56_85dd_11ea_b13c_3ffe6be5b364level0_row28\" class=\"row_heading level0 row28\" >28</th>\n",
       "                        <td id=\"T_538eeb56_85dd_11ea_b13c_3ffe6be5b364row28_col0\" class=\"data row28 col0\" >Remove Multicollinearity </td>\n",
       "                        <td id=\"T_538eeb56_85dd_11ea_b13c_3ffe6be5b364row28_col1\" class=\"data row28 col1\" >False</td>\n",
       "            </tr>\n",
       "            <tr>\n",
       "                        <th id=\"T_538eeb56_85dd_11ea_b13c_3ffe6be5b364level0_row29\" class=\"row_heading level0 row29\" >29</th>\n",
       "                        <td id=\"T_538eeb56_85dd_11ea_b13c_3ffe6be5b364row29_col0\" class=\"data row29 col0\" >Multicollinearity Threshold </td>\n",
       "                        <td id=\"T_538eeb56_85dd_11ea_b13c_3ffe6be5b364row29_col1\" class=\"data row29 col1\" >None</td>\n",
       "            </tr>\n",
       "            <tr>\n",
       "                        <th id=\"T_538eeb56_85dd_11ea_b13c_3ffe6be5b364level0_row30\" class=\"row_heading level0 row30\" >30</th>\n",
       "                        <td id=\"T_538eeb56_85dd_11ea_b13c_3ffe6be5b364row30_col0\" class=\"data row30 col0\" >Clustering </td>\n",
       "                        <td id=\"T_538eeb56_85dd_11ea_b13c_3ffe6be5b364row30_col1\" class=\"data row30 col1\" >False</td>\n",
       "            </tr>\n",
       "            <tr>\n",
       "                        <th id=\"T_538eeb56_85dd_11ea_b13c_3ffe6be5b364level0_row31\" class=\"row_heading level0 row31\" >31</th>\n",
       "                        <td id=\"T_538eeb56_85dd_11ea_b13c_3ffe6be5b364row31_col0\" class=\"data row31 col0\" >Clustering Iteration </td>\n",
       "                        <td id=\"T_538eeb56_85dd_11ea_b13c_3ffe6be5b364row31_col1\" class=\"data row31 col1\" >None</td>\n",
       "            </tr>\n",
       "            <tr>\n",
       "                        <th id=\"T_538eeb56_85dd_11ea_b13c_3ffe6be5b364level0_row32\" class=\"row_heading level0 row32\" >32</th>\n",
       "                        <td id=\"T_538eeb56_85dd_11ea_b13c_3ffe6be5b364row32_col0\" class=\"data row32 col0\" >Polynomial Features </td>\n",
       "                        <td id=\"T_538eeb56_85dd_11ea_b13c_3ffe6be5b364row32_col1\" class=\"data row32 col1\" >False</td>\n",
       "            </tr>\n",
       "            <tr>\n",
       "                        <th id=\"T_538eeb56_85dd_11ea_b13c_3ffe6be5b364level0_row33\" class=\"row_heading level0 row33\" >33</th>\n",
       "                        <td id=\"T_538eeb56_85dd_11ea_b13c_3ffe6be5b364row33_col0\" class=\"data row33 col0\" >Polynomial Degree </td>\n",
       "                        <td id=\"T_538eeb56_85dd_11ea_b13c_3ffe6be5b364row33_col1\" class=\"data row33 col1\" >None</td>\n",
       "            </tr>\n",
       "            <tr>\n",
       "                        <th id=\"T_538eeb56_85dd_11ea_b13c_3ffe6be5b364level0_row34\" class=\"row_heading level0 row34\" >34</th>\n",
       "                        <td id=\"T_538eeb56_85dd_11ea_b13c_3ffe6be5b364row34_col0\" class=\"data row34 col0\" >Trignometry Features </td>\n",
       "                        <td id=\"T_538eeb56_85dd_11ea_b13c_3ffe6be5b364row34_col1\" class=\"data row34 col1\" >False</td>\n",
       "            </tr>\n",
       "            <tr>\n",
       "                        <th id=\"T_538eeb56_85dd_11ea_b13c_3ffe6be5b364level0_row35\" class=\"row_heading level0 row35\" >35</th>\n",
       "                        <td id=\"T_538eeb56_85dd_11ea_b13c_3ffe6be5b364row35_col0\" class=\"data row35 col0\" >Polynomial Threshold </td>\n",
       "                        <td id=\"T_538eeb56_85dd_11ea_b13c_3ffe6be5b364row35_col1\" class=\"data row35 col1\" >None</td>\n",
       "            </tr>\n",
       "            <tr>\n",
       "                        <th id=\"T_538eeb56_85dd_11ea_b13c_3ffe6be5b364level0_row36\" class=\"row_heading level0 row36\" >36</th>\n",
       "                        <td id=\"T_538eeb56_85dd_11ea_b13c_3ffe6be5b364row36_col0\" class=\"data row36 col0\" >Group Features </td>\n",
       "                        <td id=\"T_538eeb56_85dd_11ea_b13c_3ffe6be5b364row36_col1\" class=\"data row36 col1\" >False</td>\n",
       "            </tr>\n",
       "            <tr>\n",
       "                        <th id=\"T_538eeb56_85dd_11ea_b13c_3ffe6be5b364level0_row37\" class=\"row_heading level0 row37\" >37</th>\n",
       "                        <td id=\"T_538eeb56_85dd_11ea_b13c_3ffe6be5b364row37_col0\" class=\"data row37 col0\" >Feature Selection </td>\n",
       "                        <td id=\"T_538eeb56_85dd_11ea_b13c_3ffe6be5b364row37_col1\" class=\"data row37 col1\" >False</td>\n",
       "            </tr>\n",
       "            <tr>\n",
       "                        <th id=\"T_538eeb56_85dd_11ea_b13c_3ffe6be5b364level0_row38\" class=\"row_heading level0 row38\" >38</th>\n",
       "                        <td id=\"T_538eeb56_85dd_11ea_b13c_3ffe6be5b364row38_col0\" class=\"data row38 col0\" >Features Selection Threshold </td>\n",
       "                        <td id=\"T_538eeb56_85dd_11ea_b13c_3ffe6be5b364row38_col1\" class=\"data row38 col1\" >None</td>\n",
       "            </tr>\n",
       "            <tr>\n",
       "                        <th id=\"T_538eeb56_85dd_11ea_b13c_3ffe6be5b364level0_row39\" class=\"row_heading level0 row39\" >39</th>\n",
       "                        <td id=\"T_538eeb56_85dd_11ea_b13c_3ffe6be5b364row39_col0\" class=\"data row39 col0\" >Feature Interaction </td>\n",
       "                        <td id=\"T_538eeb56_85dd_11ea_b13c_3ffe6be5b364row39_col1\" class=\"data row39 col1\" >False</td>\n",
       "            </tr>\n",
       "            <tr>\n",
       "                        <th id=\"T_538eeb56_85dd_11ea_b13c_3ffe6be5b364level0_row40\" class=\"row_heading level0 row40\" >40</th>\n",
       "                        <td id=\"T_538eeb56_85dd_11ea_b13c_3ffe6be5b364row40_col0\" class=\"data row40 col0\" >Feature Ratio </td>\n",
       "                        <td id=\"T_538eeb56_85dd_11ea_b13c_3ffe6be5b364row40_col1\" class=\"data row40 col1\" >False</td>\n",
       "            </tr>\n",
       "            <tr>\n",
       "                        <th id=\"T_538eeb56_85dd_11ea_b13c_3ffe6be5b364level0_row41\" class=\"row_heading level0 row41\" >41</th>\n",
       "                        <td id=\"T_538eeb56_85dd_11ea_b13c_3ffe6be5b364row41_col0\" class=\"data row41 col0\" >Interaction Threshold </td>\n",
       "                        <td id=\"T_538eeb56_85dd_11ea_b13c_3ffe6be5b364row41_col1\" class=\"data row41 col1\" >None</td>\n",
       "            </tr>\n",
       "    </tbody></table>"
      ],
      "text/plain": [
       "<pandas.io.formats.style.Styler at 0x7fe0de2f5a10>"
      ]
     },
     "metadata": {},
     "output_type": "display_data"
    }
   ],
   "source": [
    "exp_clf = setup(data = train_data, target = f'{region_name}_{target_type}', session_id=123,\n",
    "                  normalize = False, \n",
    "                  transformation = False, \n",
    "                  pca=False, silent=silent)"
   ]
  },
  {
   "cell_type": "markdown",
   "metadata": {},
   "source": [
    "### quick comparison of the models, if `turbo` is set to False, then all models (including the ones expensive to train) are considered "
   ]
  },
  {
   "cell_type": "code",
   "execution_count": 24,
   "metadata": {},
   "outputs": [],
   "source": [
    "df_compare_models = compare_models(turbo=False)"
   ]
  },
  {
   "cell_type": "code",
   "execution_count": 25,
   "metadata": {},
   "outputs": [
    {
     "data": {
      "text/html": [
       "<div>\n",
       "<style scoped>\n",
       "    .dataframe tbody tr th:only-of-type {\n",
       "        vertical-align: middle;\n",
       "    }\n",
       "\n",
       "    .dataframe tbody tr th {\n",
       "        vertical-align: top;\n",
       "    }\n",
       "\n",
       "    .dataframe thead th {\n",
       "        text-align: right;\n",
       "    }\n",
       "</style>\n",
       "<table border=\"1\" class=\"dataframe\">\n",
       "  <thead>\n",
       "    <tr style=\"text-align: right;\">\n",
       "      <th></th>\n",
       "      <th>Model</th>\n",
       "      <th>Accuracy</th>\n",
       "      <th>AUC</th>\n",
       "      <th>Recall</th>\n",
       "      <th>Prec.</th>\n",
       "      <th>F1</th>\n",
       "      <th>Kappa</th>\n",
       "    </tr>\n",
       "  </thead>\n",
       "  <tbody>\n",
       "    <tr>\n",
       "      <th>0</th>\n",
       "      <td>K Neighbors Classifier</td>\n",
       "      <td>0.7811</td>\n",
       "      <td>0.0</td>\n",
       "      <td>0.7732</td>\n",
       "      <td>0.7820</td>\n",
       "      <td>0.7805</td>\n",
       "      <td>0.6668</td>\n",
       "    </tr>\n",
       "    <tr>\n",
       "      <th>1</th>\n",
       "      <td>MLP Classifier</td>\n",
       "      <td>0.7754</td>\n",
       "      <td>0.0</td>\n",
       "      <td>0.7687</td>\n",
       "      <td>0.7757</td>\n",
       "      <td>0.7749</td>\n",
       "      <td>0.6592</td>\n",
       "    </tr>\n",
       "    <tr>\n",
       "      <th>2</th>\n",
       "      <td>CatBoost Classifier</td>\n",
       "      <td>0.7485</td>\n",
       "      <td>0.0</td>\n",
       "      <td>0.7380</td>\n",
       "      <td>0.7463</td>\n",
       "      <td>0.7452</td>\n",
       "      <td>0.6167</td>\n",
       "    </tr>\n",
       "    <tr>\n",
       "      <th>3</th>\n",
       "      <td>Light Gradient Boosting Machine</td>\n",
       "      <td>0.7374</td>\n",
       "      <td>0.0</td>\n",
       "      <td>0.7274</td>\n",
       "      <td>0.7353</td>\n",
       "      <td>0.7346</td>\n",
       "      <td>0.6003</td>\n",
       "    </tr>\n",
       "    <tr>\n",
       "      <th>4</th>\n",
       "      <td>Extra Trees Classifier</td>\n",
       "      <td>0.7305</td>\n",
       "      <td>0.0</td>\n",
       "      <td>0.7147</td>\n",
       "      <td>0.7306</td>\n",
       "      <td>0.7240</td>\n",
       "      <td>0.5859</td>\n",
       "    </tr>\n",
       "    <tr>\n",
       "      <th>5</th>\n",
       "      <td>Quadratic Discriminant Analysis</td>\n",
       "      <td>0.7079</td>\n",
       "      <td>0.0</td>\n",
       "      <td>0.7094</td>\n",
       "      <td>0.7248</td>\n",
       "      <td>0.7116</td>\n",
       "      <td>0.5616</td>\n",
       "    </tr>\n",
       "    <tr>\n",
       "      <th>6</th>\n",
       "      <td>Gradient Boosting Classifier</td>\n",
       "      <td>0.6717</td>\n",
       "      <td>0.0</td>\n",
       "      <td>0.6573</td>\n",
       "      <td>0.6667</td>\n",
       "      <td>0.6663</td>\n",
       "      <td>0.4986</td>\n",
       "    </tr>\n",
       "    <tr>\n",
       "      <th>7</th>\n",
       "      <td>Extreme Gradient Boosting</td>\n",
       "      <td>0.6663</td>\n",
       "      <td>0.0</td>\n",
       "      <td>0.6532</td>\n",
       "      <td>0.6613</td>\n",
       "      <td>0.6605</td>\n",
       "      <td>0.4907</td>\n",
       "    </tr>\n",
       "    <tr>\n",
       "      <th>8</th>\n",
       "      <td>Random Forest Classifier</td>\n",
       "      <td>0.6329</td>\n",
       "      <td>0.0</td>\n",
       "      <td>0.6116</td>\n",
       "      <td>0.6291</td>\n",
       "      <td>0.6233</td>\n",
       "      <td>0.4342</td>\n",
       "    </tr>\n",
       "    <tr>\n",
       "      <th>9</th>\n",
       "      <td>Ridge Classifier</td>\n",
       "      <td>0.6021</td>\n",
       "      <td>0.0</td>\n",
       "      <td>0.5847</td>\n",
       "      <td>0.5915</td>\n",
       "      <td>0.5910</td>\n",
       "      <td>0.3898</td>\n",
       "    </tr>\n",
       "    <tr>\n",
       "      <th>10</th>\n",
       "      <td>Logistic Regression</td>\n",
       "      <td>0.5992</td>\n",
       "      <td>0.0</td>\n",
       "      <td>0.5822</td>\n",
       "      <td>0.5896</td>\n",
       "      <td>0.5898</td>\n",
       "      <td>0.3862</td>\n",
       "    </tr>\n",
       "    <tr>\n",
       "      <th>11</th>\n",
       "      <td>Linear Discriminant Analysis</td>\n",
       "      <td>0.5985</td>\n",
       "      <td>0.0</td>\n",
       "      <td>0.5822</td>\n",
       "      <td>0.5894</td>\n",
       "      <td>0.5903</td>\n",
       "      <td>0.3856</td>\n",
       "    </tr>\n",
       "    <tr>\n",
       "      <th>12</th>\n",
       "      <td>Ada Boost Classifier</td>\n",
       "      <td>0.5963</td>\n",
       "      <td>0.0</td>\n",
       "      <td>0.5811</td>\n",
       "      <td>0.5908</td>\n",
       "      <td>0.5905</td>\n",
       "      <td>0.3835</td>\n",
       "    </tr>\n",
       "    <tr>\n",
       "      <th>13</th>\n",
       "      <td>Naive Bayes</td>\n",
       "      <td>0.5659</td>\n",
       "      <td>0.0</td>\n",
       "      <td>0.5666</td>\n",
       "      <td>0.6023</td>\n",
       "      <td>0.5721</td>\n",
       "      <td>0.3501</td>\n",
       "    </tr>\n",
       "    <tr>\n",
       "      <th>14</th>\n",
       "      <td>Decision Tree Classifier</td>\n",
       "      <td>0.5310</td>\n",
       "      <td>0.0</td>\n",
       "      <td>0.4965</td>\n",
       "      <td>0.5405</td>\n",
       "      <td>0.5023</td>\n",
       "      <td>0.2610</td>\n",
       "    </tr>\n",
       "    <tr>\n",
       "      <th>15</th>\n",
       "      <td>SVM - Linear Kernel</td>\n",
       "      <td>0.5217</td>\n",
       "      <td>0.0</td>\n",
       "      <td>0.5088</td>\n",
       "      <td>0.5185</td>\n",
       "      <td>0.5175</td>\n",
       "      <td>0.2731</td>\n",
       "    </tr>\n",
       "    <tr>\n",
       "      <th>16</th>\n",
       "      <td>SVM - Radial Kernel</td>\n",
       "      <td>0.4008</td>\n",
       "      <td>0.0</td>\n",
       "      <td>0.3333</td>\n",
       "      <td>0.1606</td>\n",
       "      <td>0.2293</td>\n",
       "      <td>0.0000</td>\n",
       "    </tr>\n",
       "    <tr>\n",
       "      <th>17</th>\n",
       "      <td>Gaussian Process Classifier</td>\n",
       "      <td>0.4008</td>\n",
       "      <td>0.0</td>\n",
       "      <td>0.3333</td>\n",
       "      <td>0.1606</td>\n",
       "      <td>0.2293</td>\n",
       "      <td>0.0000</td>\n",
       "    </tr>\n",
       "  </tbody>\n",
       "</table>\n",
       "</div>"
      ],
      "text/plain": [
       "                              Model  Accuracy  AUC  Recall   Prec.      F1  \\\n",
       "0            K Neighbors Classifier    0.7811  0.0  0.7732  0.7820  0.7805   \n",
       "1                    MLP Classifier    0.7754  0.0  0.7687  0.7757  0.7749   \n",
       "2               CatBoost Classifier    0.7485  0.0  0.7380  0.7463  0.7452   \n",
       "3   Light Gradient Boosting Machine    0.7374  0.0  0.7274  0.7353  0.7346   \n",
       "4            Extra Trees Classifier    0.7305  0.0  0.7147  0.7306  0.7240   \n",
       "5   Quadratic Discriminant Analysis    0.7079  0.0  0.7094  0.7248  0.7116   \n",
       "6      Gradient Boosting Classifier    0.6717  0.0  0.6573  0.6667  0.6663   \n",
       "7         Extreme Gradient Boosting    0.6663  0.0  0.6532  0.6613  0.6605   \n",
       "8          Random Forest Classifier    0.6329  0.0  0.6116  0.6291  0.6233   \n",
       "9                  Ridge Classifier    0.6021  0.0  0.5847  0.5915  0.5910   \n",
       "10              Logistic Regression    0.5992  0.0  0.5822  0.5896  0.5898   \n",
       "11     Linear Discriminant Analysis    0.5985  0.0  0.5822  0.5894  0.5903   \n",
       "12             Ada Boost Classifier    0.5963  0.0  0.5811  0.5908  0.5905   \n",
       "13                      Naive Bayes    0.5659  0.0  0.5666  0.6023  0.5721   \n",
       "14         Decision Tree Classifier    0.5310  0.0  0.4965  0.5405  0.5023   \n",
       "15              SVM - Linear Kernel    0.5217  0.0  0.5088  0.5185  0.5175   \n",
       "16              SVM - Radial Kernel    0.4008  0.0  0.3333  0.1606  0.2293   \n",
       "17      Gaussian Process Classifier    0.4008  0.0  0.3333  0.1606  0.2293   \n",
       "\n",
       "     Kappa  \n",
       "0   0.6668  \n",
       "1   0.6592  \n",
       "2   0.6167  \n",
       "3   0.6003  \n",
       "4   0.5859  \n",
       "5   0.5616  \n",
       "6   0.4986  \n",
       "7   0.4907  \n",
       "8   0.4342  \n",
       "9   0.3898  \n",
       "10  0.3862  \n",
       "11  0.3856  \n",
       "12  0.3835  \n",
       "13  0.3501  \n",
       "14  0.2610  \n",
       "15  0.2731  \n",
       "16  0.0000  \n",
       "17  0.0000  "
      ]
     },
     "execution_count": 25,
     "metadata": {},
     "output_type": "execute_result"
    }
   ],
   "source": [
    "df_compare_models.data"
   ]
  },
  {
   "cell_type": "code",
   "execution_count": 26,
   "metadata": {},
   "outputs": [
    {
     "data": {
      "text/html": [
       "<div>\n",
       "<style scoped>\n",
       "    .dataframe tbody tr th:only-of-type {\n",
       "        vertical-align: middle;\n",
       "    }\n",
       "\n",
       "    .dataframe tbody tr th {\n",
       "        vertical-align: top;\n",
       "    }\n",
       "\n",
       "    .dataframe thead th {\n",
       "        text-align: right;\n",
       "    }\n",
       "</style>\n",
       "<table border=\"1\" class=\"dataframe\">\n",
       "  <thead>\n",
       "    <tr style=\"text-align: right;\">\n",
       "      <th></th>\n",
       "      <th>Model</th>\n",
       "      <th>Accuracy</th>\n",
       "      <th>AUC</th>\n",
       "      <th>Recall</th>\n",
       "      <th>Prec.</th>\n",
       "      <th>F1</th>\n",
       "      <th>Kappa</th>\n",
       "    </tr>\n",
       "  </thead>\n",
       "  <tbody>\n",
       "    <tr>\n",
       "      <th>0</th>\n",
       "      <td>K Neighbors Classifier</td>\n",
       "      <td>0.7811</td>\n",
       "      <td>0.0</td>\n",
       "      <td>0.7732</td>\n",
       "      <td>0.782</td>\n",
       "      <td>0.7805</td>\n",
       "      <td>0.6668</td>\n",
       "    </tr>\n",
       "  </tbody>\n",
       "</table>\n",
       "</div>"
      ],
      "text/plain": [
       "                    Model  Accuracy  AUC  Recall  Prec.      F1   Kappa\n",
       "0  K Neighbors Classifier    0.7811  0.0  0.7732  0.782  0.7805  0.6668"
      ]
     },
     "execution_count": 26,
     "metadata": {},
     "output_type": "execute_result"
    }
   ],
   "source": [
    "df_compare_models.data.loc[[0],:]"
   ]
  },
  {
   "cell_type": "code",
   "execution_count": 27,
   "metadata": {},
   "outputs": [],
   "source": [
    "methods = pd.read_csv('./methods.csv', index_col=0)"
   ]
  },
  {
   "cell_type": "code",
   "execution_count": 28,
   "metadata": {},
   "outputs": [],
   "source": [
    "best_model = methods.loc[df_compare_models.data.loc[[0],'Model'],'Abbr'].values[0]"
   ]
  },
  {
   "cell_type": "code",
   "execution_count": 29,
   "metadata": {},
   "outputs": [
    {
     "name": "stdout",
     "output_type": "stream",
     "text": [
      "the best model is knn\n"
     ]
    }
   ],
   "source": [
    "print(f\"the best model is {best_model}\")"
   ]
  },
  {
   "cell_type": "code",
   "execution_count": 30,
   "metadata": {},
   "outputs": [
    {
     "data": {
      "text/html": [
       "<div>\n",
       "<style scoped>\n",
       "    .dataframe tbody tr th:only-of-type {\n",
       "        vertical-align: middle;\n",
       "    }\n",
       "\n",
       "    .dataframe tbody tr th {\n",
       "        vertical-align: top;\n",
       "    }\n",
       "\n",
       "    .dataframe thead th {\n",
       "        text-align: right;\n",
       "    }\n",
       "</style>\n",
       "<table border=\"1\" class=\"dataframe\">\n",
       "  <thead>\n",
       "    <tr style=\"text-align: right;\">\n",
       "      <th></th>\n",
       "      <th>Accuracy</th>\n",
       "      <th>AUC</th>\n",
       "      <th>Recall</th>\n",
       "      <th>Prec.</th>\n",
       "      <th>F1</th>\n",
       "      <th>Kappa</th>\n",
       "    </tr>\n",
       "  </thead>\n",
       "  <tbody>\n",
       "    <tr>\n",
       "      <th>0</th>\n",
       "      <td>0.7384</td>\n",
       "      <td>0.0</td>\n",
       "      <td>0.7263</td>\n",
       "      <td>0.7374</td>\n",
       "      <td>0.7373</td>\n",
       "      <td>0.6017</td>\n",
       "    </tr>\n",
       "    <tr>\n",
       "      <th>1</th>\n",
       "      <td>0.7670</td>\n",
       "      <td>0.0</td>\n",
       "      <td>0.7602</td>\n",
       "      <td>0.7714</td>\n",
       "      <td>0.7675</td>\n",
       "      <td>0.6449</td>\n",
       "    </tr>\n",
       "    <tr>\n",
       "      <th>2</th>\n",
       "      <td>0.7778</td>\n",
       "      <td>0.0</td>\n",
       "      <td>0.7725</td>\n",
       "      <td>0.7782</td>\n",
       "      <td>0.7777</td>\n",
       "      <td>0.6621</td>\n",
       "    </tr>\n",
       "    <tr>\n",
       "      <th>3</th>\n",
       "      <td>0.7993</td>\n",
       "      <td>0.0</td>\n",
       "      <td>0.7926</td>\n",
       "      <td>0.7998</td>\n",
       "      <td>0.7992</td>\n",
       "      <td>0.6948</td>\n",
       "    </tr>\n",
       "    <tr>\n",
       "      <th>4</th>\n",
       "      <td>0.8065</td>\n",
       "      <td>0.0</td>\n",
       "      <td>0.8007</td>\n",
       "      <td>0.8051</td>\n",
       "      <td>0.8048</td>\n",
       "      <td>0.7051</td>\n",
       "    </tr>\n",
       "    <tr>\n",
       "      <th>5</th>\n",
       "      <td>0.8244</td>\n",
       "      <td>0.0</td>\n",
       "      <td>0.8154</td>\n",
       "      <td>0.8235</td>\n",
       "      <td>0.8232</td>\n",
       "      <td>0.7324</td>\n",
       "    </tr>\n",
       "    <tr>\n",
       "      <th>6</th>\n",
       "      <td>0.7670</td>\n",
       "      <td>0.0</td>\n",
       "      <td>0.7595</td>\n",
       "      <td>0.7723</td>\n",
       "      <td>0.7682</td>\n",
       "      <td>0.6464</td>\n",
       "    </tr>\n",
       "    <tr>\n",
       "      <th>7</th>\n",
       "      <td>0.7806</td>\n",
       "      <td>0.0</td>\n",
       "      <td>0.7675</td>\n",
       "      <td>0.7765</td>\n",
       "      <td>0.7772</td>\n",
       "      <td>0.6656</td>\n",
       "    </tr>\n",
       "    <tr>\n",
       "      <th>8</th>\n",
       "      <td>0.7518</td>\n",
       "      <td>0.0</td>\n",
       "      <td>0.7404</td>\n",
       "      <td>0.7559</td>\n",
       "      <td>0.7507</td>\n",
       "      <td>0.6207</td>\n",
       "    </tr>\n",
       "    <tr>\n",
       "      <th>9</th>\n",
       "      <td>0.7986</td>\n",
       "      <td>0.0</td>\n",
       "      <td>0.7968</td>\n",
       "      <td>0.7999</td>\n",
       "      <td>0.7991</td>\n",
       "      <td>0.6944</td>\n",
       "    </tr>\n",
       "    <tr>\n",
       "      <th>Mean</th>\n",
       "      <td>0.7811</td>\n",
       "      <td>0.0</td>\n",
       "      <td>0.7732</td>\n",
       "      <td>0.7820</td>\n",
       "      <td>0.7805</td>\n",
       "      <td>0.6668</td>\n",
       "    </tr>\n",
       "    <tr>\n",
       "      <th>SD</th>\n",
       "      <td>0.0250</td>\n",
       "      <td>0.0</td>\n",
       "      <td>0.0267</td>\n",
       "      <td>0.0241</td>\n",
       "      <td>0.0249</td>\n",
       "      <td>0.0382</td>\n",
       "    </tr>\n",
       "  </tbody>\n",
       "</table>\n",
       "</div>"
      ],
      "text/plain": [
       "      Accuracy  AUC  Recall   Prec.      F1   Kappa\n",
       "0       0.7384  0.0  0.7263  0.7374  0.7373  0.6017\n",
       "1       0.7670  0.0  0.7602  0.7714  0.7675  0.6449\n",
       "2       0.7778  0.0  0.7725  0.7782  0.7777  0.6621\n",
       "3       0.7993  0.0  0.7926  0.7998  0.7992  0.6948\n",
       "4       0.8065  0.0  0.8007  0.8051  0.8048  0.7051\n",
       "5       0.8244  0.0  0.8154  0.8235  0.8232  0.7324\n",
       "6       0.7670  0.0  0.7595  0.7723  0.7682  0.6464\n",
       "7       0.7806  0.0  0.7675  0.7765  0.7772  0.6656\n",
       "8       0.7518  0.0  0.7404  0.7559  0.7507  0.6207\n",
       "9       0.7986  0.0  0.7968  0.7999  0.7991  0.6944\n",
       "Mean    0.7811  0.0  0.7732  0.7820  0.7805  0.6668\n",
       "SD      0.0250  0.0  0.0267  0.0241  0.0249  0.0382"
      ]
     },
     "metadata": {},
     "output_type": "display_data"
    }
   ],
   "source": [
    "best_model_m = create_model(best_model)"
   ]
  },
  {
   "cell_type": "markdown",
   "metadata": {},
   "source": [
    "### first pathway: tune the best model "
   ]
  },
  {
   "cell_type": "code",
   "execution_count": 31,
   "metadata": {},
   "outputs": [
    {
     "data": {
      "text/html": [
       "<div>\n",
       "<style scoped>\n",
       "    .dataframe tbody tr th:only-of-type {\n",
       "        vertical-align: middle;\n",
       "    }\n",
       "\n",
       "    .dataframe tbody tr th {\n",
       "        vertical-align: top;\n",
       "    }\n",
       "\n",
       "    .dataframe thead th {\n",
       "        text-align: right;\n",
       "    }\n",
       "</style>\n",
       "<table border=\"1\" class=\"dataframe\">\n",
       "  <thead>\n",
       "    <tr style=\"text-align: right;\">\n",
       "      <th></th>\n",
       "      <th>Accuracy</th>\n",
       "      <th>AUC</th>\n",
       "      <th>Recall</th>\n",
       "      <th>Prec.</th>\n",
       "      <th>F1</th>\n",
       "      <th>Kappa</th>\n",
       "    </tr>\n",
       "  </thead>\n",
       "  <tbody>\n",
       "    <tr>\n",
       "      <th>0</th>\n",
       "      <td>0.7384</td>\n",
       "      <td>0.0</td>\n",
       "      <td>0.7268</td>\n",
       "      <td>0.7389</td>\n",
       "      <td>0.7374</td>\n",
       "      <td>0.6012</td>\n",
       "    </tr>\n",
       "    <tr>\n",
       "      <th>1</th>\n",
       "      <td>0.7742</td>\n",
       "      <td>0.0</td>\n",
       "      <td>0.7724</td>\n",
       "      <td>0.7763</td>\n",
       "      <td>0.7750</td>\n",
       "      <td>0.6572</td>\n",
       "    </tr>\n",
       "    <tr>\n",
       "      <th>2</th>\n",
       "      <td>0.7993</td>\n",
       "      <td>0.0</td>\n",
       "      <td>0.7920</td>\n",
       "      <td>0.7985</td>\n",
       "      <td>0.7982</td>\n",
       "      <td>0.6942</td>\n",
       "    </tr>\n",
       "    <tr>\n",
       "      <th>3</th>\n",
       "      <td>0.8029</td>\n",
       "      <td>0.0</td>\n",
       "      <td>0.7952</td>\n",
       "      <td>0.8025</td>\n",
       "      <td>0.8019</td>\n",
       "      <td>0.6997</td>\n",
       "    </tr>\n",
       "    <tr>\n",
       "      <th>4</th>\n",
       "      <td>0.7921</td>\n",
       "      <td>0.0</td>\n",
       "      <td>0.7805</td>\n",
       "      <td>0.7908</td>\n",
       "      <td>0.7899</td>\n",
       "      <td>0.6826</td>\n",
       "    </tr>\n",
       "    <tr>\n",
       "      <th>5</th>\n",
       "      <td>0.7634</td>\n",
       "      <td>0.0</td>\n",
       "      <td>0.7532</td>\n",
       "      <td>0.7627</td>\n",
       "      <td>0.7615</td>\n",
       "      <td>0.6388</td>\n",
       "    </tr>\n",
       "    <tr>\n",
       "      <th>6</th>\n",
       "      <td>0.7670</td>\n",
       "      <td>0.0</td>\n",
       "      <td>0.7641</td>\n",
       "      <td>0.7727</td>\n",
       "      <td>0.7692</td>\n",
       "      <td>0.6476</td>\n",
       "    </tr>\n",
       "    <tr>\n",
       "      <th>7</th>\n",
       "      <td>0.8094</td>\n",
       "      <td>0.0</td>\n",
       "      <td>0.8019</td>\n",
       "      <td>0.8108</td>\n",
       "      <td>0.8094</td>\n",
       "      <td>0.7102</td>\n",
       "    </tr>\n",
       "    <tr>\n",
       "      <th>8</th>\n",
       "      <td>0.7914</td>\n",
       "      <td>0.0</td>\n",
       "      <td>0.7803</td>\n",
       "      <td>0.7903</td>\n",
       "      <td>0.7866</td>\n",
       "      <td>0.6810</td>\n",
       "    </tr>\n",
       "    <tr>\n",
       "      <th>9</th>\n",
       "      <td>0.7734</td>\n",
       "      <td>0.0</td>\n",
       "      <td>0.7728</td>\n",
       "      <td>0.7720</td>\n",
       "      <td>0.7725</td>\n",
       "      <td>0.6561</td>\n",
       "    </tr>\n",
       "    <tr>\n",
       "      <th>Mean</th>\n",
       "      <td>0.7811</td>\n",
       "      <td>0.0</td>\n",
       "      <td>0.7739</td>\n",
       "      <td>0.7815</td>\n",
       "      <td>0.7802</td>\n",
       "      <td>0.6669</td>\n",
       "    </tr>\n",
       "    <tr>\n",
       "      <th>SD</th>\n",
       "      <td>0.0207</td>\n",
       "      <td>0.0</td>\n",
       "      <td>0.0210</td>\n",
       "      <td>0.0203</td>\n",
       "      <td>0.0204</td>\n",
       "      <td>0.0314</td>\n",
       "    </tr>\n",
       "  </tbody>\n",
       "</table>\n",
       "</div>"
      ],
      "text/plain": [
       "      Accuracy  AUC  Recall   Prec.      F1   Kappa\n",
       "0       0.7384  0.0  0.7268  0.7389  0.7374  0.6012\n",
       "1       0.7742  0.0  0.7724  0.7763  0.7750  0.6572\n",
       "2       0.7993  0.0  0.7920  0.7985  0.7982  0.6942\n",
       "3       0.8029  0.0  0.7952  0.8025  0.8019  0.6997\n",
       "4       0.7921  0.0  0.7805  0.7908  0.7899  0.6826\n",
       "5       0.7634  0.0  0.7532  0.7627  0.7615  0.6388\n",
       "6       0.7670  0.0  0.7641  0.7727  0.7692  0.6476\n",
       "7       0.8094  0.0  0.8019  0.8108  0.8094  0.7102\n",
       "8       0.7914  0.0  0.7803  0.7903  0.7866  0.6810\n",
       "9       0.7734  0.0  0.7728  0.7720  0.7725  0.6561\n",
       "Mean    0.7811  0.0  0.7739  0.7815  0.7802  0.6669\n",
       "SD      0.0207  0.0  0.0210  0.0203  0.0204  0.0314"
      ]
     },
     "metadata": {},
     "output_type": "display_data"
    }
   ],
   "source": [
    "tuned_best_model = tune_model(best_model)"
   ]
  },
  {
   "cell_type": "code",
   "execution_count": 32,
   "metadata": {},
   "outputs": [
    {
     "data": {
      "text/plain": [
       "(303, 4930)"
      ]
     },
     "execution_count": 32,
     "metadata": {},
     "output_type": "execute_result"
    }
   ],
   "source": [
    "test_data.shape"
   ]
  },
  {
   "cell_type": "code",
   "execution_count": 33,
   "metadata": {},
   "outputs": [
    {
     "data": {
      "text/html": [
       "<div>\n",
       "<style scoped>\n",
       "    .dataframe tbody tr th:only-of-type {\n",
       "        vertical-align: middle;\n",
       "    }\n",
       "\n",
       "    .dataframe tbody tr th {\n",
       "        vertical-align: top;\n",
       "    }\n",
       "\n",
       "    .dataframe thead th {\n",
       "        text-align: right;\n",
       "    }\n",
       "</style>\n",
       "<table border=\"1\" class=\"dataframe\">\n",
       "  <thead>\n",
       "    <tr style=\"text-align: right;\">\n",
       "      <th></th>\n",
       "      <th>(-70.0, 70.0)</th>\n",
       "      <th>(-70.0, 72.5)</th>\n",
       "      <th>(-70.0, 75.0)</th>\n",
       "      <th>(-70.0, 77.5)</th>\n",
       "      <th>(-70.0, 80.0)</th>\n",
       "      <th>(-70.0, 82.5)</th>\n",
       "      <th>(-70.0, 85.0)</th>\n",
       "      <th>(-70.0, 87.5)</th>\n",
       "      <th>(-70.0, 90.0)</th>\n",
       "      <th>(-70.0, 92.5)</th>\n",
       "      <th>...</th>\n",
       "      <th>(60.0, 280.0)</th>\n",
       "      <th>(60.0, 282.5)</th>\n",
       "      <th>(60.0, 285.0)</th>\n",
       "      <th>(60.0, 287.5)</th>\n",
       "      <th>(60.0, 290.0)</th>\n",
       "      <th>(60.0, 292.5)</th>\n",
       "      <th>(60.0, 295.0)</th>\n",
       "      <th>(60.0, 297.5)</th>\n",
       "      <th>(60.0, 300.0)</th>\n",
       "      <th>NNI_cat3_categories</th>\n",
       "    </tr>\n",
       "  </thead>\n",
       "  <tbody>\n",
       "    <tr>\n",
       "      <th>2017-04-30</th>\n",
       "      <td>0.350412</td>\n",
       "      <td>0.609415</td>\n",
       "      <td>0.402756</td>\n",
       "      <td>0.494441</td>\n",
       "      <td>0.545367</td>\n",
       "      <td>0.577342</td>\n",
       "      <td>0.595652</td>\n",
       "      <td>0.551609</td>\n",
       "      <td>0.509443</td>\n",
       "      <td>0.442834</td>\n",
       "      <td>...</td>\n",
       "      <td>-0.187773</td>\n",
       "      <td>-0.346976</td>\n",
       "      <td>-0.421439</td>\n",
       "      <td>-0.445218</td>\n",
       "      <td>-0.466354</td>\n",
       "      <td>-0.518676</td>\n",
       "      <td>-0.528607</td>\n",
       "      <td>-0.416464</td>\n",
       "      <td>-0.623176</td>\n",
       "      <td>3.0</td>\n",
       "    </tr>\n",
       "    <tr>\n",
       "      <th>2017-05-31</th>\n",
       "      <td>0.167277</td>\n",
       "      <td>0.057477</td>\n",
       "      <td>-0.028681</td>\n",
       "      <td>0.093749</td>\n",
       "      <td>0.113651</td>\n",
       "      <td>0.133755</td>\n",
       "      <td>0.125145</td>\n",
       "      <td>0.153855</td>\n",
       "      <td>0.207044</td>\n",
       "      <td>0.253551</td>\n",
       "      <td>...</td>\n",
       "      <td>0.641738</td>\n",
       "      <td>0.679107</td>\n",
       "      <td>0.567584</td>\n",
       "      <td>0.559127</td>\n",
       "      <td>0.376234</td>\n",
       "      <td>0.254220</td>\n",
       "      <td>0.379830</td>\n",
       "      <td>0.270595</td>\n",
       "      <td>0.055050</td>\n",
       "      <td>3.0</td>\n",
       "    </tr>\n",
       "    <tr>\n",
       "      <th>2017-06-30</th>\n",
       "      <td>-0.037492</td>\n",
       "      <td>-0.200014</td>\n",
       "      <td>-0.077527</td>\n",
       "      <td>0.049841</td>\n",
       "      <td>0.124295</td>\n",
       "      <td>0.196644</td>\n",
       "      <td>0.237064</td>\n",
       "      <td>0.281379</td>\n",
       "      <td>0.293671</td>\n",
       "      <td>0.282525</td>\n",
       "      <td>...</td>\n",
       "      <td>-0.026262</td>\n",
       "      <td>-0.112167</td>\n",
       "      <td>-0.145194</td>\n",
       "      <td>-0.129408</td>\n",
       "      <td>-0.066313</td>\n",
       "      <td>-0.177321</td>\n",
       "      <td>-0.259453</td>\n",
       "      <td>-0.087841</td>\n",
       "      <td>-0.179672</td>\n",
       "      <td>3.0</td>\n",
       "    </tr>\n",
       "    <tr>\n",
       "      <th>2017-07-31</th>\n",
       "      <td>0.241020</td>\n",
       "      <td>0.126914</td>\n",
       "      <td>0.265512</td>\n",
       "      <td>0.330046</td>\n",
       "      <td>0.428405</td>\n",
       "      <td>0.540412</td>\n",
       "      <td>0.607662</td>\n",
       "      <td>0.652604</td>\n",
       "      <td>0.647708</td>\n",
       "      <td>0.654470</td>\n",
       "      <td>...</td>\n",
       "      <td>0.183818</td>\n",
       "      <td>0.048670</td>\n",
       "      <td>-0.025598</td>\n",
       "      <td>0.033960</td>\n",
       "      <td>-0.108763</td>\n",
       "      <td>-0.028818</td>\n",
       "      <td>0.147046</td>\n",
       "      <td>0.062604</td>\n",
       "      <td>0.059510</td>\n",
       "      <td>2.0</td>\n",
       "    </tr>\n",
       "    <tr>\n",
       "      <th>2017-08-31</th>\n",
       "      <td>0.347808</td>\n",
       "      <td>0.327610</td>\n",
       "      <td>0.384274</td>\n",
       "      <td>0.453615</td>\n",
       "      <td>0.468264</td>\n",
       "      <td>0.500675</td>\n",
       "      <td>0.520086</td>\n",
       "      <td>0.535890</td>\n",
       "      <td>0.554246</td>\n",
       "      <td>0.594686</td>\n",
       "      <td>...</td>\n",
       "      <td>-0.206735</td>\n",
       "      <td>-0.482101</td>\n",
       "      <td>-0.519860</td>\n",
       "      <td>-0.337142</td>\n",
       "      <td>-0.322366</td>\n",
       "      <td>-0.332399</td>\n",
       "      <td>-0.375129</td>\n",
       "      <td>-0.291196</td>\n",
       "      <td>-0.264078</td>\n",
       "      <td>3.0</td>\n",
       "    </tr>\n",
       "  </tbody>\n",
       "</table>\n",
       "<p>5 rows × 4930 columns</p>\n",
       "</div>"
      ],
      "text/plain": [
       "            (-70.0, 70.0)  (-70.0, 72.5)  (-70.0, 75.0)  (-70.0, 77.5)  \\\n",
       "2017-04-30       0.350412       0.609415       0.402756       0.494441   \n",
       "2017-05-31       0.167277       0.057477      -0.028681       0.093749   \n",
       "2017-06-30      -0.037492      -0.200014      -0.077527       0.049841   \n",
       "2017-07-31       0.241020       0.126914       0.265512       0.330046   \n",
       "2017-08-31       0.347808       0.327610       0.384274       0.453615   \n",
       "\n",
       "            (-70.0, 80.0)  (-70.0, 82.5)  (-70.0, 85.0)  (-70.0, 87.5)  \\\n",
       "2017-04-30       0.545367       0.577342       0.595652       0.551609   \n",
       "2017-05-31       0.113651       0.133755       0.125145       0.153855   \n",
       "2017-06-30       0.124295       0.196644       0.237064       0.281379   \n",
       "2017-07-31       0.428405       0.540412       0.607662       0.652604   \n",
       "2017-08-31       0.468264       0.500675       0.520086       0.535890   \n",
       "\n",
       "            (-70.0, 90.0)  (-70.0, 92.5)  ...  (60.0, 280.0)  (60.0, 282.5)  \\\n",
       "2017-04-30       0.509443       0.442834  ...      -0.187773      -0.346976   \n",
       "2017-05-31       0.207044       0.253551  ...       0.641738       0.679107   \n",
       "2017-06-30       0.293671       0.282525  ...      -0.026262      -0.112167   \n",
       "2017-07-31       0.647708       0.654470  ...       0.183818       0.048670   \n",
       "2017-08-31       0.554246       0.594686  ...      -0.206735      -0.482101   \n",
       "\n",
       "            (60.0, 285.0)  (60.0, 287.5)  (60.0, 290.0)  (60.0, 292.5)  \\\n",
       "2017-04-30      -0.421439      -0.445218      -0.466354      -0.518676   \n",
       "2017-05-31       0.567584       0.559127       0.376234       0.254220   \n",
       "2017-06-30      -0.145194      -0.129408      -0.066313      -0.177321   \n",
       "2017-07-31      -0.025598       0.033960      -0.108763      -0.028818   \n",
       "2017-08-31      -0.519860      -0.337142      -0.322366      -0.332399   \n",
       "\n",
       "            (60.0, 295.0)  (60.0, 297.5)  (60.0, 300.0)  NNI_cat3_categories  \n",
       "2017-04-30      -0.528607      -0.416464      -0.623176                  3.0  \n",
       "2017-05-31       0.379830       0.270595       0.055050                  3.0  \n",
       "2017-06-30      -0.259453      -0.087841      -0.179672                  3.0  \n",
       "2017-07-31       0.147046       0.062604       0.059510                  2.0  \n",
       "2017-08-31      -0.375129      -0.291196      -0.264078                  3.0  \n",
       "\n",
       "[5 rows x 4930 columns]"
      ]
     },
     "execution_count": 33,
     "metadata": {},
     "output_type": "execute_result"
    }
   ],
   "source": [
    "test_data.head()"
   ]
  },
  {
   "cell_type": "code",
   "execution_count": 34,
   "metadata": {},
   "outputs": [
    {
     "data": {
      "text/plain": [
       "(-70.0, 70.0)          0.168105\n",
       "(-70.0, 72.5)          0.090345\n",
       "(-70.0, 75.0)          0.301747\n",
       "(-70.0, 77.5)          0.382694\n",
       "(-70.0, 80.0)          0.204185\n",
       "                         ...   \n",
       "(60.0, 292.5)         -0.022449\n",
       "(60.0, 295.0)         -0.132095\n",
       "(60.0, 297.5)         -0.130461\n",
       "(60.0, 300.0)          0.028341\n",
       "NNI_cat3_categories    2.914191\n",
       "Length: 4930, dtype: float64"
      ]
     },
     "execution_count": 34,
     "metadata": {},
     "output_type": "execute_result"
    }
   ],
   "source": [
    "test_data.mean()"
   ]
  },
  {
   "cell_type": "markdown",
   "metadata": {},
   "source": [
    "### transform the test data first (standardization using the scaler 'fitted' on the training data)"
   ]
  },
  {
   "cell_type": "code",
   "execution_count": 35,
   "metadata": {},
   "outputs": [],
   "source": [
    "x = scaler.transform(test_data.drop(f\"{region_name}_{target_type}\", axis=1))"
   ]
  },
  {
   "cell_type": "markdown",
   "metadata": {},
   "source": [
    "### now perform PCA on scaled GCM outputs in the test set "
   ]
  },
  {
   "cell_type": "code",
   "execution_count": 36,
   "metadata": {},
   "outputs": [],
   "source": [
    "x = pca.transform(x)"
   ]
  },
  {
   "cell_type": "code",
   "execution_count": 37,
   "metadata": {},
   "outputs": [
    {
     "data": {
      "text/plain": [
       "(303, 60)"
      ]
     },
     "execution_count": 37,
     "metadata": {},
     "output_type": "execute_result"
    }
   ],
   "source": [
    "x.shape"
   ]
  },
  {
   "cell_type": "code",
   "execution_count": 38,
   "metadata": {},
   "outputs": [
    {
     "data": {
      "text/plain": [
       "(3982, 61)"
      ]
     },
     "execution_count": 38,
     "metadata": {},
     "output_type": "execute_result"
    }
   ],
   "source": [
    "train_data.shape"
   ]
  },
  {
   "cell_type": "markdown",
   "metadata": {},
   "source": [
    "### make a dataframe using the indices of test data and columns of train_data "
   ]
  },
  {
   "cell_type": "code",
   "execution_count": 39,
   "metadata": {},
   "outputs": [],
   "source": [
    "test_data_df = pd.DataFrame(x, index=test_data.index, columns=train_data.columns[:-1])"
   ]
  },
  {
   "cell_type": "code",
   "execution_count": 40,
   "metadata": {},
   "outputs": [
    {
     "data": {
      "text/plain": [
       "(303, 60)"
      ]
     },
     "execution_count": 40,
     "metadata": {},
     "output_type": "execute_result"
    }
   ],
   "source": [
    "test_data_df.shape"
   ]
  },
  {
   "cell_type": "markdown",
   "metadata": {},
   "source": [
    "### and now add the target column "
   ]
  },
  {
   "cell_type": "code",
   "execution_count": 41,
   "metadata": {},
   "outputs": [
    {
     "data": {
      "text/plain": [
       "'NNI_cat3_categories'"
      ]
     },
     "execution_count": 41,
     "metadata": {},
     "output_type": "execute_result"
    }
   ],
   "source": [
    "test_data.columns[-1]"
   ]
  },
  {
   "cell_type": "code",
   "execution_count": 42,
   "metadata": {},
   "outputs": [],
   "source": [
    "test_data_df.loc[:,f\"{region_name}_{target_type}\"] = test_data.iloc[:,-1]"
   ]
  },
  {
   "cell_type": "markdown",
   "metadata": {},
   "source": [
    "### Now apply the prediction method the \"best model\" model to the test data "
   ]
  },
  {
   "cell_type": "code",
   "execution_count": 43,
   "metadata": {},
   "outputs": [],
   "source": [
    "y_hat = best_model_m.predict(test_data_df.iloc[:,:-1])"
   ]
  },
  {
   "cell_type": "code",
   "execution_count": 44,
   "metadata": {},
   "outputs": [
    {
     "data": {
      "text/plain": [
       "0.5874587458745875"
      ]
     },
     "execution_count": 44,
     "metadata": {},
     "output_type": "execute_result"
    }
   ],
   "source": [
    "(test_data.iloc[:,-1].values == y_hat).sum() / len(y_hat)"
   ]
  },
  {
   "cell_type": "markdown",
   "metadata": {},
   "source": [
    "### Now blend all the models "
   ]
  },
  {
   "cell_type": "code",
   "execution_count": 45,
   "metadata": {},
   "outputs": [
    {
     "data": {
      "text/html": [
       "<div>\n",
       "<style scoped>\n",
       "    .dataframe tbody tr th:only-of-type {\n",
       "        vertical-align: middle;\n",
       "    }\n",
       "\n",
       "    .dataframe tbody tr th {\n",
       "        vertical-align: top;\n",
       "    }\n",
       "\n",
       "    .dataframe thead th {\n",
       "        text-align: right;\n",
       "    }\n",
       "</style>\n",
       "<table border=\"1\" class=\"dataframe\">\n",
       "  <thead>\n",
       "    <tr style=\"text-align: right;\">\n",
       "      <th></th>\n",
       "      <th>Accuracy</th>\n",
       "      <th>AUC</th>\n",
       "      <th>Recall</th>\n",
       "      <th>Prec.</th>\n",
       "      <th>F1</th>\n",
       "      <th>Kappa</th>\n",
       "    </tr>\n",
       "  </thead>\n",
       "  <tbody>\n",
       "    <tr>\n",
       "      <th>0</th>\n",
       "      <td>0.6559</td>\n",
       "      <td>0.0</td>\n",
       "      <td>0.6423</td>\n",
       "      <td>0.6547</td>\n",
       "      <td>0.6542</td>\n",
       "      <td>0.4752</td>\n",
       "    </tr>\n",
       "    <tr>\n",
       "      <th>1</th>\n",
       "      <td>0.7455</td>\n",
       "      <td>0.0</td>\n",
       "      <td>0.7375</td>\n",
       "      <td>0.7481</td>\n",
       "      <td>0.7455</td>\n",
       "      <td>0.6128</td>\n",
       "    </tr>\n",
       "    <tr>\n",
       "      <th>2</th>\n",
       "      <td>0.6738</td>\n",
       "      <td>0.0</td>\n",
       "      <td>0.6621</td>\n",
       "      <td>0.6686</td>\n",
       "      <td>0.6693</td>\n",
       "      <td>0.5048</td>\n",
       "    </tr>\n",
       "    <tr>\n",
       "      <th>3</th>\n",
       "      <td>0.6953</td>\n",
       "      <td>0.0</td>\n",
       "      <td>0.6895</td>\n",
       "      <td>0.6934</td>\n",
       "      <td>0.6936</td>\n",
       "      <td>0.5382</td>\n",
       "    </tr>\n",
       "    <tr>\n",
       "      <th>4</th>\n",
       "      <td>0.7061</td>\n",
       "      <td>0.0</td>\n",
       "      <td>0.6962</td>\n",
       "      <td>0.7000</td>\n",
       "      <td>0.7014</td>\n",
       "      <td>0.5531</td>\n",
       "    </tr>\n",
       "    <tr>\n",
       "      <th>5</th>\n",
       "      <td>0.6810</td>\n",
       "      <td>0.0</td>\n",
       "      <td>0.6672</td>\n",
       "      <td>0.6772</td>\n",
       "      <td>0.6787</td>\n",
       "      <td>0.5144</td>\n",
       "    </tr>\n",
       "    <tr>\n",
       "      <th>6</th>\n",
       "      <td>0.6918</td>\n",
       "      <td>0.0</td>\n",
       "      <td>0.6844</td>\n",
       "      <td>0.6946</td>\n",
       "      <td>0.6928</td>\n",
       "      <td>0.5340</td>\n",
       "    </tr>\n",
       "    <tr>\n",
       "      <th>7</th>\n",
       "      <td>0.6727</td>\n",
       "      <td>0.0</td>\n",
       "      <td>0.6603</td>\n",
       "      <td>0.6666</td>\n",
       "      <td>0.6685</td>\n",
       "      <td>0.5019</td>\n",
       "    </tr>\n",
       "    <tr>\n",
       "      <th>8</th>\n",
       "      <td>0.6835</td>\n",
       "      <td>0.0</td>\n",
       "      <td>0.6717</td>\n",
       "      <td>0.6823</td>\n",
       "      <td>0.6780</td>\n",
       "      <td>0.5194</td>\n",
       "    </tr>\n",
       "    <tr>\n",
       "      <th>9</th>\n",
       "      <td>0.7122</td>\n",
       "      <td>0.0</td>\n",
       "      <td>0.7062</td>\n",
       "      <td>0.7120</td>\n",
       "      <td>0.7102</td>\n",
       "      <td>0.5648</td>\n",
       "    </tr>\n",
       "    <tr>\n",
       "      <th>Mean</th>\n",
       "      <td>0.6918</td>\n",
       "      <td>0.0</td>\n",
       "      <td>0.6818</td>\n",
       "      <td>0.6898</td>\n",
       "      <td>0.6892</td>\n",
       "      <td>0.5318</td>\n",
       "    </tr>\n",
       "    <tr>\n",
       "      <th>SD</th>\n",
       "      <td>0.0238</td>\n",
       "      <td>0.0</td>\n",
       "      <td>0.0259</td>\n",
       "      <td>0.0254</td>\n",
       "      <td>0.0247</td>\n",
       "      <td>0.0366</td>\n",
       "    </tr>\n",
       "  </tbody>\n",
       "</table>\n",
       "</div>"
      ],
      "text/plain": [
       "      Accuracy  AUC  Recall   Prec.      F1   Kappa\n",
       "0       0.6559  0.0  0.6423  0.6547  0.6542  0.4752\n",
       "1       0.7455  0.0  0.7375  0.7481  0.7455  0.6128\n",
       "2       0.6738  0.0  0.6621  0.6686  0.6693  0.5048\n",
       "3       0.6953  0.0  0.6895  0.6934  0.6936  0.5382\n",
       "4       0.7061  0.0  0.6962  0.7000  0.7014  0.5531\n",
       "5       0.6810  0.0  0.6672  0.6772  0.6787  0.5144\n",
       "6       0.6918  0.0  0.6844  0.6946  0.6928  0.5340\n",
       "7       0.6727  0.0  0.6603  0.6666  0.6685  0.5019\n",
       "8       0.6835  0.0  0.6717  0.6823  0.6780  0.5194\n",
       "9       0.7122  0.0  0.7062  0.7120  0.7102  0.5648\n",
       "Mean    0.6918  0.0  0.6818  0.6898  0.6892  0.5318\n",
       "SD      0.0238  0.0  0.0259  0.0254  0.0247  0.0366"
      ]
     },
     "metadata": {},
     "output_type": "display_data"
    }
   ],
   "source": [
    "blend_all = blend_models()"
   ]
  },
  {
   "cell_type": "code",
   "execution_count": 46,
   "metadata": {},
   "outputs": [],
   "source": [
    "y_hat = blend_all.predict(test_data_df.iloc[:,:-1])"
   ]
  },
  {
   "cell_type": "code",
   "execution_count": 47,
   "metadata": {},
   "outputs": [
    {
     "data": {
      "text/plain": [
       "0.6072607260726073"
      ]
     },
     "execution_count": 47,
     "metadata": {},
     "output_type": "execute_result"
    }
   ],
   "source": [
    "(test_data.iloc[:,-1].values == y_hat).sum() / len(y_hat)"
   ]
  },
  {
   "cell_type": "markdown",
   "metadata": {},
   "source": [
    "### third approach: blend the 3 best models (note that cannot use catboost)"
   ]
  },
  {
   "cell_type": "code",
   "execution_count": 48,
   "metadata": {},
   "outputs": [
    {
     "data": {
      "text/html": [
       "<div>\n",
       "<style scoped>\n",
       "    .dataframe tbody tr th:only-of-type {\n",
       "        vertical-align: middle;\n",
       "    }\n",
       "\n",
       "    .dataframe tbody tr th {\n",
       "        vertical-align: top;\n",
       "    }\n",
       "\n",
       "    .dataframe thead th {\n",
       "        text-align: right;\n",
       "    }\n",
       "</style>\n",
       "<table border=\"1\" class=\"dataframe\">\n",
       "  <thead>\n",
       "    <tr style=\"text-align: right;\">\n",
       "      <th></th>\n",
       "      <th>Model</th>\n",
       "      <th>Accuracy</th>\n",
       "      <th>AUC</th>\n",
       "      <th>Recall</th>\n",
       "      <th>Prec.</th>\n",
       "      <th>F1</th>\n",
       "      <th>Kappa</th>\n",
       "    </tr>\n",
       "  </thead>\n",
       "  <tbody>\n",
       "    <tr>\n",
       "      <th>0</th>\n",
       "      <td>K Neighbors Classifier</td>\n",
       "      <td>0.7811</td>\n",
       "      <td>0.0</td>\n",
       "      <td>0.7732</td>\n",
       "      <td>0.7820</td>\n",
       "      <td>0.7805</td>\n",
       "      <td>0.6668</td>\n",
       "    </tr>\n",
       "    <tr>\n",
       "      <th>1</th>\n",
       "      <td>MLP Classifier</td>\n",
       "      <td>0.7754</td>\n",
       "      <td>0.0</td>\n",
       "      <td>0.7687</td>\n",
       "      <td>0.7757</td>\n",
       "      <td>0.7749</td>\n",
       "      <td>0.6592</td>\n",
       "    </tr>\n",
       "    <tr>\n",
       "      <th>2</th>\n",
       "      <td>CatBoost Classifier</td>\n",
       "      <td>0.7485</td>\n",
       "      <td>0.0</td>\n",
       "      <td>0.7380</td>\n",
       "      <td>0.7463</td>\n",
       "      <td>0.7452</td>\n",
       "      <td>0.6167</td>\n",
       "    </tr>\n",
       "    <tr>\n",
       "      <th>3</th>\n",
       "      <td>Light Gradient Boosting Machine</td>\n",
       "      <td>0.7374</td>\n",
       "      <td>0.0</td>\n",
       "      <td>0.7274</td>\n",
       "      <td>0.7353</td>\n",
       "      <td>0.7346</td>\n",
       "      <td>0.6003</td>\n",
       "    </tr>\n",
       "    <tr>\n",
       "      <th>4</th>\n",
       "      <td>Extra Trees Classifier</td>\n",
       "      <td>0.7305</td>\n",
       "      <td>0.0</td>\n",
       "      <td>0.7147</td>\n",
       "      <td>0.7306</td>\n",
       "      <td>0.7240</td>\n",
       "      <td>0.5859</td>\n",
       "    </tr>\n",
       "    <tr>\n",
       "      <th>5</th>\n",
       "      <td>Quadratic Discriminant Analysis</td>\n",
       "      <td>0.7079</td>\n",
       "      <td>0.0</td>\n",
       "      <td>0.7094</td>\n",
       "      <td>0.7248</td>\n",
       "      <td>0.7116</td>\n",
       "      <td>0.5616</td>\n",
       "    </tr>\n",
       "  </tbody>\n",
       "</table>\n",
       "</div>"
      ],
      "text/plain": [
       "                             Model  Accuracy  AUC  Recall   Prec.      F1  \\\n",
       "0           K Neighbors Classifier    0.7811  0.0  0.7732  0.7820  0.7805   \n",
       "1                   MLP Classifier    0.7754  0.0  0.7687  0.7757  0.7749   \n",
       "2              CatBoost Classifier    0.7485  0.0  0.7380  0.7463  0.7452   \n",
       "3  Light Gradient Boosting Machine    0.7374  0.0  0.7274  0.7353  0.7346   \n",
       "4           Extra Trees Classifier    0.7305  0.0  0.7147  0.7306  0.7240   \n",
       "5  Quadratic Discriminant Analysis    0.7079  0.0  0.7094  0.7248  0.7116   \n",
       "\n",
       "    Kappa  \n",
       "0  0.6668  \n",
       "1  0.6592  \n",
       "2  0.6167  \n",
       "3  0.6003  \n",
       "4  0.5859  \n",
       "5  0.5616  "
      ]
     },
     "execution_count": 48,
     "metadata": {},
     "output_type": "execute_result"
    }
   ],
   "source": [
    "df_compare_models.data.loc[0:5,:]"
   ]
  },
  {
   "cell_type": "code",
   "execution_count": 76,
   "metadata": {},
   "outputs": [
    {
     "data": {
      "text/plain": [
       "(18, 7)"
      ]
     },
     "execution_count": 76,
     "metadata": {},
     "output_type": "execute_result"
    }
   ],
   "source": [
    "df_compare_models.data.shape"
   ]
  },
  {
   "cell_type": "markdown",
   "metadata": {},
   "source": [
    "### build the list of best N models "
   ]
  },
  {
   "cell_type": "code",
   "execution_count": 102,
   "metadata": {},
   "outputs": [],
   "source": [
    "n_models = 5"
   ]
  },
  {
   "cell_type": "code",
   "execution_count": 103,
   "metadata": {},
   "outputs": [],
   "source": [
    "list_models = []\n",
    "blend_models_names = []"
   ]
  },
  {
   "cell_type": "code",
   "execution_count": 104,
   "metadata": {},
   "outputs": [
    {
     "data": {
      "text/html": [
       "<div>\n",
       "<style scoped>\n",
       "    .dataframe tbody tr th:only-of-type {\n",
       "        vertical-align: middle;\n",
       "    }\n",
       "\n",
       "    .dataframe tbody tr th {\n",
       "        vertical-align: top;\n",
       "    }\n",
       "\n",
       "    .dataframe thead th {\n",
       "        text-align: right;\n",
       "    }\n",
       "</style>\n",
       "<table border=\"1\" class=\"dataframe\">\n",
       "  <thead>\n",
       "    <tr style=\"text-align: right;\">\n",
       "      <th></th>\n",
       "      <th>Accuracy</th>\n",
       "      <th>AUC</th>\n",
       "      <th>Recall</th>\n",
       "      <th>Prec.</th>\n",
       "      <th>F1</th>\n",
       "      <th>Kappa</th>\n",
       "    </tr>\n",
       "  </thead>\n",
       "  <tbody>\n",
       "    <tr>\n",
       "      <th>0</th>\n",
       "      <td>0.6918</td>\n",
       "      <td>0.0</td>\n",
       "      <td>0.6925</td>\n",
       "      <td>0.7048</td>\n",
       "      <td>0.6948</td>\n",
       "      <td>0.5373</td>\n",
       "    </tr>\n",
       "    <tr>\n",
       "      <th>1</th>\n",
       "      <td>0.7061</td>\n",
       "      <td>0.0</td>\n",
       "      <td>0.7102</td>\n",
       "      <td>0.7197</td>\n",
       "      <td>0.7093</td>\n",
       "      <td>0.5579</td>\n",
       "    </tr>\n",
       "    <tr>\n",
       "      <th>2</th>\n",
       "      <td>0.7061</td>\n",
       "      <td>0.0</td>\n",
       "      <td>0.7096</td>\n",
       "      <td>0.7316</td>\n",
       "      <td>0.7111</td>\n",
       "      <td>0.5603</td>\n",
       "    </tr>\n",
       "    <tr>\n",
       "      <th>3</th>\n",
       "      <td>0.7240</td>\n",
       "      <td>0.0</td>\n",
       "      <td>0.7238</td>\n",
       "      <td>0.7396</td>\n",
       "      <td>0.7277</td>\n",
       "      <td>0.5852</td>\n",
       "    </tr>\n",
       "    <tr>\n",
       "      <th>4</th>\n",
       "      <td>0.7204</td>\n",
       "      <td>0.0</td>\n",
       "      <td>0.7191</td>\n",
       "      <td>0.7300</td>\n",
       "      <td>0.7228</td>\n",
       "      <td>0.5796</td>\n",
       "    </tr>\n",
       "    <tr>\n",
       "      <th>5</th>\n",
       "      <td>0.7025</td>\n",
       "      <td>0.0</td>\n",
       "      <td>0.7032</td>\n",
       "      <td>0.7216</td>\n",
       "      <td>0.7073</td>\n",
       "      <td>0.5539</td>\n",
       "    </tr>\n",
       "    <tr>\n",
       "      <th>6</th>\n",
       "      <td>0.7097</td>\n",
       "      <td>0.0</td>\n",
       "      <td>0.7144</td>\n",
       "      <td>0.7396</td>\n",
       "      <td>0.7143</td>\n",
       "      <td>0.5656</td>\n",
       "    </tr>\n",
       "    <tr>\n",
       "      <th>7</th>\n",
       "      <td>0.6691</td>\n",
       "      <td>0.0</td>\n",
       "      <td>0.6704</td>\n",
       "      <td>0.6882</td>\n",
       "      <td>0.6740</td>\n",
       "      <td>0.5040</td>\n",
       "    </tr>\n",
       "    <tr>\n",
       "      <th>8</th>\n",
       "      <td>0.7338</td>\n",
       "      <td>0.0</td>\n",
       "      <td>0.7312</td>\n",
       "      <td>0.7490</td>\n",
       "      <td>0.7381</td>\n",
       "      <td>0.5990</td>\n",
       "    </tr>\n",
       "    <tr>\n",
       "      <th>9</th>\n",
       "      <td>0.7158</td>\n",
       "      <td>0.0</td>\n",
       "      <td>0.7191</td>\n",
       "      <td>0.7241</td>\n",
       "      <td>0.7163</td>\n",
       "      <td>0.5735</td>\n",
       "    </tr>\n",
       "    <tr>\n",
       "      <th>Mean</th>\n",
       "      <td>0.7079</td>\n",
       "      <td>0.0</td>\n",
       "      <td>0.7094</td>\n",
       "      <td>0.7248</td>\n",
       "      <td>0.7116</td>\n",
       "      <td>0.5616</td>\n",
       "    </tr>\n",
       "    <tr>\n",
       "      <th>SD</th>\n",
       "      <td>0.0172</td>\n",
       "      <td>0.0</td>\n",
       "      <td>0.0165</td>\n",
       "      <td>0.0170</td>\n",
       "      <td>0.0168</td>\n",
       "      <td>0.0253</td>\n",
       "    </tr>\n",
       "  </tbody>\n",
       "</table>\n",
       "</div>"
      ],
      "text/plain": [
       "      Accuracy  AUC  Recall   Prec.      F1   Kappa\n",
       "0       0.6918  0.0  0.6925  0.7048  0.6948  0.5373\n",
       "1       0.7061  0.0  0.7102  0.7197  0.7093  0.5579\n",
       "2       0.7061  0.0  0.7096  0.7316  0.7111  0.5603\n",
       "3       0.7240  0.0  0.7238  0.7396  0.7277  0.5852\n",
       "4       0.7204  0.0  0.7191  0.7300  0.7228  0.5796\n",
       "5       0.7025  0.0  0.7032  0.7216  0.7073  0.5539\n",
       "6       0.7097  0.0  0.7144  0.7396  0.7143  0.5656\n",
       "7       0.6691  0.0  0.6704  0.6882  0.6740  0.5040\n",
       "8       0.7338  0.0  0.7312  0.7490  0.7381  0.5990\n",
       "9       0.7158  0.0  0.7191  0.7241  0.7163  0.5735\n",
       "Mean    0.7079  0.0  0.7094  0.7248  0.7116  0.5616\n",
       "SD      0.0172  0.0  0.0165  0.0170  0.0168  0.0253"
      ]
     },
     "metadata": {},
     "output_type": "display_data"
    }
   ],
   "source": [
    "i = 0\n",
    "while len(list_models) < n_models: \n",
    "    mod_name = methods.loc[df_compare_models.data.loc[i, 'Model'],'Abbr'] \n",
    "    print(f\"model ranked {i+1} is {mod_name} ====================\\n\")\n",
    "    if mod_name != 'catboost': \n",
    "        print(f\"building model: {mod_name}\")\n",
    "        mod =  create_model(mod_name)\n",
    "        list_models.append(mod)\n",
    "        blend_models_names.append(mod_name)\n",
    "    else: \n",
    "        pass\n",
    "    i += 1"
   ]
  },
  {
   "cell_type": "markdown",
   "metadata": {},
   "source": [
    "### soft voting enable the use of the `predict_proba` method for the blended ensemble "
   ]
  },
  {
   "cell_type": "markdown",
   "metadata": {},
   "source": [
    "#### names of the models in the blend"
   ]
  },
  {
   "cell_type": "code",
   "execution_count": 105,
   "metadata": {},
   "outputs": [
    {
     "name": "stdout",
     "output_type": "stream",
     "text": [
      "models in the blend: knn, mlp, lightgbm, et, qda\n"
     ]
    }
   ],
   "source": [
    "print(f\"models in the blend: {', '.join(blend_models_names)}\")"
   ]
  },
  {
   "cell_type": "code",
   "execution_count": null,
   "metadata": {},
   "outputs": [
    {
     "data": {
      "application/vnd.jupyter.widget-view+json": {
       "model_id": "eb752cd53e8c4dac8d48f414ca6e63fe",
       "version_major": 2,
       "version_minor": 0
      },
      "text/plain": [
       "IntProgress(value=0, description='Processing: ', max=14)"
      ]
     },
     "metadata": {},
     "output_type": "display_data"
    },
    {
     "data": {
      "text/html": [
       "<div>\n",
       "<style scoped>\n",
       "    .dataframe tbody tr th:only-of-type {\n",
       "        vertical-align: middle;\n",
       "    }\n",
       "\n",
       "    .dataframe tbody tr th {\n",
       "        vertical-align: top;\n",
       "    }\n",
       "\n",
       "    .dataframe thead th {\n",
       "        text-align: right;\n",
       "    }\n",
       "</style>\n",
       "<table border=\"1\" class=\"dataframe\">\n",
       "  <thead>\n",
       "    <tr style=\"text-align: right;\">\n",
       "      <th></th>\n",
       "      <th></th>\n",
       "      <th></th>\n",
       "    </tr>\n",
       "    <tr>\n",
       "      <th></th>\n",
       "      <th></th>\n",
       "      <th></th>\n",
       "    </tr>\n",
       "  </thead>\n",
       "  <tbody>\n",
       "    <tr>\n",
       "      <th>Initiated</th>\n",
       "      <td>. . . . . . . . . . . . . . . . . .</td>\n",
       "      <td>16:02:00</td>\n",
       "    </tr>\n",
       "    <tr>\n",
       "      <th>Status</th>\n",
       "      <td>. . . . . . . . . . . . . . . . . .</td>\n",
       "      <td>Fitting Fold 3 of 10</td>\n",
       "    </tr>\n",
       "    <tr>\n",
       "      <th>ETC</th>\n",
       "      <td>. . . . . . . . . . . . . . . . . .</td>\n",
       "      <td>1.1 Minutes Remaining</td>\n",
       "    </tr>\n",
       "  </tbody>\n",
       "</table>\n",
       "</div>"
      ],
      "text/plain": [
       "                                                                     \n",
       "                                                                     \n",
       "Initiated  . . . . . . . . . . . . . . . . . .               16:02:00\n",
       "Status     . . . . . . . . . . . . . . . . . .   Fitting Fold 3 of 10\n",
       "ETC        . . . . . . . . . . . . . . . . . .  1.1 Minutes Remaining"
      ]
     },
     "metadata": {},
     "output_type": "display_data"
    },
    {
     "data": {
      "text/html": [
       "<div>\n",
       "<style scoped>\n",
       "    .dataframe tbody tr th:only-of-type {\n",
       "        vertical-align: middle;\n",
       "    }\n",
       "\n",
       "    .dataframe tbody tr th {\n",
       "        vertical-align: top;\n",
       "    }\n",
       "\n",
       "    .dataframe thead th {\n",
       "        text-align: right;\n",
       "    }\n",
       "</style>\n",
       "<table border=\"1\" class=\"dataframe\">\n",
       "  <thead>\n",
       "    <tr style=\"text-align: right;\">\n",
       "      <th></th>\n",
       "      <th>Accuracy</th>\n",
       "      <th>AUC</th>\n",
       "      <th>Recall</th>\n",
       "      <th>Prec.</th>\n",
       "      <th>F1</th>\n",
       "      <th>Kappa</th>\n",
       "    </tr>\n",
       "  </thead>\n",
       "  <tbody>\n",
       "    <tr>\n",
       "      <th>0</th>\n",
       "      <td>0.7634</td>\n",
       "      <td>0</td>\n",
       "      <td>0.7546</td>\n",
       "      <td>0.766</td>\n",
       "      <td>0.7644</td>\n",
       "      <td>0.6410</td>\n",
       "    </tr>\n",
       "    <tr>\n",
       "      <th>1</th>\n",
       "      <td>0.8029</td>\n",
       "      <td>0</td>\n",
       "      <td>0.8002</td>\n",
       "      <td>0.808</td>\n",
       "      <td>0.8045</td>\n",
       "      <td>0.7014</td>\n",
       "    </tr>\n",
       "  </tbody>\n",
       "</table>\n",
       "</div>"
      ],
      "text/plain": [
       "   Accuracy AUC  Recall  Prec.      F1   Kappa\n",
       "0    0.7634   0  0.7546  0.766  0.7644  0.6410\n",
       "1    0.8029   0  0.8002  0.808  0.8045  0.7014"
      ]
     },
     "metadata": {},
     "output_type": "display_data"
    }
   ],
   "source": [
    "blend_specific = blend_models(estimator_list = list_models, method='soft')"
   ]
  },
  {
   "cell_type": "code",
   "execution_count": null,
   "metadata": {},
   "outputs": [],
   "source": [
    "y_hat = blend_specific.predict(test_data_df.iloc[:,:-1])"
   ]
  },
  {
   "cell_type": "code",
   "execution_count": null,
   "metadata": {},
   "outputs": [],
   "source": [
    "y_hat_probs = blend_specific.predict_proba(test_data_df.iloc[:,:-1])"
   ]
  },
  {
   "cell_type": "code",
   "execution_count": null,
   "metadata": {},
   "outputs": [],
   "source": [
    "(test_data.iloc[:,-1].values == y_hat).sum() / len(y_hat)"
   ]
  },
  {
   "cell_type": "markdown",
   "metadata": {},
   "source": [
    "### Now calculate the majority vote "
   ]
  },
  {
   "cell_type": "markdown",
   "metadata": {},
   "source": [
    "### and calculate the \"SCO\" version of the accuracy over the test period, need to use the `predict_proba` method"
   ]
  },
  {
   "cell_type": "code",
   "execution_count": null,
   "metadata": {},
   "outputs": [],
   "source": [
    "df_verif = test_data.iloc[:,[-1]]"
   ]
  },
  {
   "cell_type": "code",
   "execution_count": null,
   "metadata": {},
   "outputs": [],
   "source": [
    "df_verif.columns = [0]"
   ]
  },
  {
   "cell_type": "code",
   "execution_count": null,
   "metadata": {},
   "outputs": [],
   "source": [
    "y_hat_probs_df = pd.DataFrame(y_hat_probs, index=df_verif.index, columns=[1,2,3])"
   ]
  },
  {
   "cell_type": "code",
   "execution_count": null,
   "metadata": {},
   "outputs": [],
   "source": [
    "y_hat_probs_df = y_hat_probs_df * 100."
   ]
  },
  {
   "cell_type": "code",
   "execution_count": null,
   "metadata": {},
   "outputs": [],
   "source": [
    "df_verif = pd.concat([df_verif, y_hat_probs_df], axis=1)"
   ]
  },
  {
   "cell_type": "code",
   "execution_count": null,
   "metadata": {},
   "outputs": [],
   "source": [
    "df_verif.loc[:,0] = df_verif.loc[:,0].astype(np.int)"
   ]
  },
  {
   "cell_type": "code",
   "execution_count": null,
   "metadata": {},
   "outputs": [],
   "source": [
    "sco_acc = calc_accuracy_sco(df_verif, tolerance=True)"
   ]
  },
  {
   "cell_type": "code",
   "execution_count": null,
   "metadata": {},
   "outputs": [],
   "source": [
    "sco_acc"
   ]
  },
  {
   "cell_type": "code",
   "execution_count": null,
   "metadata": {},
   "outputs": [],
   "source": [
    "len(df_verif.index.unique())"
   ]
  },
  {
   "cell_type": "code",
   "execution_count": null,
   "metadata": {},
   "outputs": [],
   "source": [
    "y_hat.shape"
   ]
  },
  {
   "cell_type": "code",
   "execution_count": null,
   "metadata": {},
   "outputs": [],
   "source": [
    "df_verif.shape"
   ]
  },
  {
   "cell_type": "code",
   "execution_count": null,
   "metadata": {},
   "outputs": [],
   "source": [
    "df_verif.loc[:,4] = y_hat"
   ]
  },
  {
   "cell_type": "code",
   "execution_count": null,
   "metadata": {},
   "outputs": [],
   "source": [
    "df_verif = df_verif.dropna()"
   ]
  },
  {
   "cell_type": "code",
   "execution_count": null,
   "metadata": {},
   "outputs": [],
   "source": [
    "df_verif.index.unique().shape"
   ]
  },
  {
   "cell_type": "code",
   "execution_count": null,
   "metadata": {},
   "outputs": [],
   "source": [
    "maj_ = []\n",
    "for date in df_verif.index.unique(): \n",
    "    print(f\"{date:%Y-%m} number of available GCMs: {len(df_verif.loc[date,:])}\")\n",
    "    print(df_verif.loc[date,4].mode())\n",
    "    maj_.append(df_verif.loc[date,4].mode()[0])"
   ]
  },
  {
   "cell_type": "code",
   "execution_count": null,
   "metadata": {},
   "outputs": [],
   "source": [
    "maj = np.array(maj_)"
   ]
  },
  {
   "cell_type": "code",
   "execution_count": null,
   "metadata": {},
   "outputs": [],
   "source": [
    "len(maj)"
   ]
  },
  {
   "cell_type": "code",
   "execution_count": null,
   "metadata": {},
   "outputs": [],
   "source": [
    "df = df_verif.loc[~df_verif.index.duplicated(keep='first')]"
   ]
  },
  {
   "cell_type": "code",
   "execution_count": null,
   "metadata": {},
   "outputs": [],
   "source": [
    "(df.loc[:,0].values == maj).sum() / len(df)"
   ]
  },
  {
   "cell_type": "code",
   "execution_count": null,
   "metadata": {},
   "outputs": [],
   "source": []
  }
 ],
 "metadata": {
  "kernelspec": {
   "display_name": "Python 3",
   "language": "python",
   "name": "python3"
  },
  "language_info": {
   "codemirror_mode": {
    "name": "ipython",
    "version": 3
   },
   "file_extension": ".py",
   "mimetype": "text/x-python",
   "name": "python",
   "nbconvert_exporter": "python",
   "pygments_lexer": "ipython3",
   "version": "3.7.5"
  }
 },
 "nbformat": 4,
 "nbformat_minor": 4
}
