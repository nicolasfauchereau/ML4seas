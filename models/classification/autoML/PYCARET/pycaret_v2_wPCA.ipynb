{
 "cells": [
  {
   "cell_type": "code",
   "execution_count": 1,
   "metadata": {},
   "outputs": [],
   "source": [
    "# Parameters \n",
    "\n",
    "region_name = 'WSI'\n",
    "var_name = 'TMEAN'\n",
    "target_type = 'cat3_categories'\n",
    "GCM = 'ECMWF'\n",
    "# GCM = 'All'\n",
    "standardized = False\n",
    "# whether or not to shuffle the training data, especially recommended if GCM == 'All'\n",
    "shuffle_train = True "
   ]
  },
  {
   "cell_type": "markdown",
   "metadata": {},
   "source": [
    "### check first what the executable is "
   ]
  },
  {
   "cell_type": "code",
   "execution_count": 2,
   "metadata": {},
   "outputs": [
    {
     "name": "stdout",
     "output_type": "stream",
     "text": [
      "/home/nicolasf/anaconda3/envs/pycaret/bin/python\n"
     ]
    }
   ],
   "source": [
    "import sys \n",
    "print(sys.executable)"
   ]
  },
  {
   "cell_type": "code",
   "execution_count": 3,
   "metadata": {},
   "outputs": [],
   "source": [
    "%matplotlib inline"
   ]
  },
  {
   "cell_type": "code",
   "execution_count": 4,
   "metadata": {},
   "outputs": [],
   "source": [
    "import pathlib"
   ]
  },
  {
   "cell_type": "code",
   "execution_count": 5,
   "metadata": {},
   "outputs": [],
   "source": [
    "HOME = pathlib.Path.home()"
   ]
  },
  {
   "cell_type": "code",
   "execution_count": 6,
   "metadata": {},
   "outputs": [],
   "source": [
    "from matplotlib import pyplot as plt"
   ]
  },
  {
   "cell_type": "code",
   "execution_count": 7,
   "metadata": {},
   "outputs": [],
   "source": [
    "import numpy as np \n",
    "import pandas as pd"
   ]
  },
  {
   "cell_type": "code",
   "execution_count": 8,
   "metadata": {},
   "outputs": [],
   "source": [
    "import pycaret"
   ]
  },
  {
   "cell_type": "code",
   "execution_count": 9,
   "metadata": {},
   "outputs": [
    {
     "data": {
      "text/plain": [
       "'2.0.0'"
      ]
     },
     "execution_count": 9,
     "metadata": {},
     "output_type": "execute_result"
    }
   ],
   "source": [
    "pycaret.__version__"
   ]
  },
  {
   "cell_type": "code",
   "execution_count": 10,
   "metadata": {},
   "outputs": [],
   "source": [
    "from pycaret import datasets"
   ]
  },
  {
   "cell_type": "code",
   "execution_count": 11,
   "metadata": {},
   "outputs": [],
   "source": [
    "from pycaret.classification import *"
   ]
  },
  {
   "cell_type": "markdown",
   "metadata": {},
   "source": [
    "### list of models"
   ]
  },
  {
   "cell_type": "code",
   "execution_count": 12,
   "metadata": {},
   "outputs": [],
   "source": [
    "df_models = models()"
   ]
  },
  {
   "cell_type": "code",
   "execution_count": 13,
   "metadata": {},
   "outputs": [
    {
     "data": {
      "text/html": [
       "<div>\n",
       "<style scoped>\n",
       "    .dataframe tbody tr th:only-of-type {\n",
       "        vertical-align: middle;\n",
       "    }\n",
       "\n",
       "    .dataframe tbody tr th {\n",
       "        vertical-align: top;\n",
       "    }\n",
       "\n",
       "    .dataframe thead th {\n",
       "        text-align: right;\n",
       "    }\n",
       "</style>\n",
       "<table border=\"1\" class=\"dataframe\">\n",
       "  <thead>\n",
       "    <tr style=\"text-align: right;\">\n",
       "      <th></th>\n",
       "      <th>Name</th>\n",
       "      <th>Reference</th>\n",
       "      <th>Turbo</th>\n",
       "    </tr>\n",
       "    <tr>\n",
       "      <th>ID</th>\n",
       "      <th></th>\n",
       "      <th></th>\n",
       "      <th></th>\n",
       "    </tr>\n",
       "  </thead>\n",
       "  <tbody>\n",
       "    <tr>\n",
       "      <th>lr</th>\n",
       "      <td>Logistic Regression</td>\n",
       "      <td>sklearn.linear_model.LogisticRegression</td>\n",
       "      <td>True</td>\n",
       "    </tr>\n",
       "    <tr>\n",
       "      <th>knn</th>\n",
       "      <td>K Neighbors Classifier</td>\n",
       "      <td>sklearn.neighbors.KNeighborsClassifier</td>\n",
       "      <td>True</td>\n",
       "    </tr>\n",
       "    <tr>\n",
       "      <th>nb</th>\n",
       "      <td>Naive Bayes</td>\n",
       "      <td>sklearn.naive_bayes.GaussianNB</td>\n",
       "      <td>True</td>\n",
       "    </tr>\n",
       "    <tr>\n",
       "      <th>dt</th>\n",
       "      <td>Decision Tree Classifier</td>\n",
       "      <td>sklearn.tree.DecisionTreeClassifier</td>\n",
       "      <td>True</td>\n",
       "    </tr>\n",
       "    <tr>\n",
       "      <th>svm</th>\n",
       "      <td>SVM - Linear Kernel</td>\n",
       "      <td>sklearn.linear_model.SGDClassifier</td>\n",
       "      <td>True</td>\n",
       "    </tr>\n",
       "    <tr>\n",
       "      <th>rbfsvm</th>\n",
       "      <td>SVM - Radial Kernel</td>\n",
       "      <td>sklearn.svm.SVC</td>\n",
       "      <td>False</td>\n",
       "    </tr>\n",
       "    <tr>\n",
       "      <th>gpc</th>\n",
       "      <td>Gaussian Process Classifier</td>\n",
       "      <td>sklearn.gaussian_process.GPC</td>\n",
       "      <td>False</td>\n",
       "    </tr>\n",
       "    <tr>\n",
       "      <th>mlp</th>\n",
       "      <td>MLP Classifier</td>\n",
       "      <td>sklearn.neural_network.MLPClassifier</td>\n",
       "      <td>False</td>\n",
       "    </tr>\n",
       "    <tr>\n",
       "      <th>ridge</th>\n",
       "      <td>Ridge Classifier</td>\n",
       "      <td>sklearn.linear_model.RidgeClassifier</td>\n",
       "      <td>True</td>\n",
       "    </tr>\n",
       "    <tr>\n",
       "      <th>rf</th>\n",
       "      <td>Random Forest Classifier</td>\n",
       "      <td>sklearn.ensemble.RandomForestClassifier</td>\n",
       "      <td>True</td>\n",
       "    </tr>\n",
       "    <tr>\n",
       "      <th>qda</th>\n",
       "      <td>Quadratic Discriminant Analysis</td>\n",
       "      <td>sklearn.discriminant_analysis.QDA</td>\n",
       "      <td>True</td>\n",
       "    </tr>\n",
       "    <tr>\n",
       "      <th>ada</th>\n",
       "      <td>Ada Boost Classifier</td>\n",
       "      <td>sklearn.ensemble.AdaBoostClassifier</td>\n",
       "      <td>True</td>\n",
       "    </tr>\n",
       "    <tr>\n",
       "      <th>gbc</th>\n",
       "      <td>Gradient Boosting Classifier</td>\n",
       "      <td>sklearn.ensemble.GradientBoostingClassifier</td>\n",
       "      <td>True</td>\n",
       "    </tr>\n",
       "    <tr>\n",
       "      <th>lda</th>\n",
       "      <td>Linear Discriminant Analysis</td>\n",
       "      <td>sklearn.discriminant_analysis.LDA</td>\n",
       "      <td>True</td>\n",
       "    </tr>\n",
       "    <tr>\n",
       "      <th>et</th>\n",
       "      <td>Extra Trees Classifier</td>\n",
       "      <td>sklearn.ensemble.ExtraTreesClassifier</td>\n",
       "      <td>True</td>\n",
       "    </tr>\n",
       "    <tr>\n",
       "      <th>xgboost</th>\n",
       "      <td>Extreme Gradient Boosting</td>\n",
       "      <td>xgboost.readthedocs.io</td>\n",
       "      <td>True</td>\n",
       "    </tr>\n",
       "    <tr>\n",
       "      <th>lightgbm</th>\n",
       "      <td>Light Gradient Boosting Machine</td>\n",
       "      <td>github.com/microsoft/LightGBM</td>\n",
       "      <td>True</td>\n",
       "    </tr>\n",
       "    <tr>\n",
       "      <th>catboost</th>\n",
       "      <td>CatBoost Classifier</td>\n",
       "      <td>catboost.ai</td>\n",
       "      <td>True</td>\n",
       "    </tr>\n",
       "  </tbody>\n",
       "</table>\n",
       "</div>"
      ],
      "text/plain": [
       "                                     Name  \\\n",
       "ID                                          \n",
       "lr                    Logistic Regression   \n",
       "knn                K Neighbors Classifier   \n",
       "nb                            Naive Bayes   \n",
       "dt               Decision Tree Classifier   \n",
       "svm                   SVM - Linear Kernel   \n",
       "rbfsvm                SVM - Radial Kernel   \n",
       "gpc           Gaussian Process Classifier   \n",
       "mlp                        MLP Classifier   \n",
       "ridge                    Ridge Classifier   \n",
       "rf               Random Forest Classifier   \n",
       "qda       Quadratic Discriminant Analysis   \n",
       "ada                  Ada Boost Classifier   \n",
       "gbc          Gradient Boosting Classifier   \n",
       "lda          Linear Discriminant Analysis   \n",
       "et                 Extra Trees Classifier   \n",
       "xgboost         Extreme Gradient Boosting   \n",
       "lightgbm  Light Gradient Boosting Machine   \n",
       "catboost              CatBoost Classifier   \n",
       "\n",
       "                                            Reference  Turbo  \n",
       "ID                                                            \n",
       "lr            sklearn.linear_model.LogisticRegression   True  \n",
       "knn            sklearn.neighbors.KNeighborsClassifier   True  \n",
       "nb                     sklearn.naive_bayes.GaussianNB   True  \n",
       "dt                sklearn.tree.DecisionTreeClassifier   True  \n",
       "svm                sklearn.linear_model.SGDClassifier   True  \n",
       "rbfsvm                                sklearn.svm.SVC  False  \n",
       "gpc                      sklearn.gaussian_process.GPC  False  \n",
       "mlp              sklearn.neural_network.MLPClassifier  False  \n",
       "ridge            sklearn.linear_model.RidgeClassifier   True  \n",
       "rf            sklearn.ensemble.RandomForestClassifier   True  \n",
       "qda                 sklearn.discriminant_analysis.QDA   True  \n",
       "ada               sklearn.ensemble.AdaBoostClassifier   True  \n",
       "gbc       sklearn.ensemble.GradientBoostingClassifier   True  \n",
       "lda                 sklearn.discriminant_analysis.LDA   True  \n",
       "et              sklearn.ensemble.ExtraTreesClassifier   True  \n",
       "xgboost                        xgboost.readthedocs.io   True  \n",
       "lightgbm                github.com/microsoft/LightGBM   True  \n",
       "catboost                                  catboost.ai   True  "
      ]
     },
     "execution_count": 13,
     "metadata": {},
     "output_type": "execute_result"
    }
   ],
   "source": [
    "df_models"
   ]
  },
  {
   "cell_type": "markdown",
   "metadata": {},
   "source": [
    "### add the local utilities "
   ]
  },
  {
   "cell_type": "code",
   "execution_count": 14,
   "metadata": {},
   "outputs": [],
   "source": [
    "sys.path.append('/home/nicolasf/research/Smart_Ideas/code/ml4seas')"
   ]
  },
  {
   "cell_type": "code",
   "execution_count": 15,
   "metadata": {},
   "outputs": [
    {
     "name": "stdout",
     "output_type": "stream",
     "text": [
      "xesmf is not installed, using method `interp_like` for interpolation\n"
     ]
    }
   ],
   "source": [
    "from evaluation import calc_accuracy_sco\n",
    "from GCM import prepare_data_CSV_to_CARET"
   ]
  },
  {
   "cell_type": "code",
   "execution_count": 16,
   "metadata": {},
   "outputs": [],
   "source": [
    "dpath = HOME / 'research' / 'Smart_Ideas' / 'outputs' / 'CSVs'"
   ]
  },
  {
   "cell_type": "code",
   "execution_count": 17,
   "metadata": {},
   "outputs": [
    {
     "data": {
      "text/plain": [
       "[PosixPath('/home/nicolasf/research/Smart_Ideas/outputs/CSVs/GCMs_std_and_targets_cat3_and_anomalies_TMEAN_test_set.csv'),\n",
       " PosixPath('/home/nicolasf/research/Smart_Ideas/outputs/CSVs/GCMs_std_and_targets_cat3_and_anomalies_RAIN_test_set.csv'),\n",
       " PosixPath('/home/nicolasf/research/Smart_Ideas/outputs/CSVs/GCMs_std_and_targets_cat3_and_anomalies_TMEAN_training_set.csv'),\n",
       " PosixPath('/home/nicolasf/research/Smart_Ideas/outputs/CSVs/GCMs_std_and_targets_cat3_and_anomalies_RAIN_training_set.csv'),\n",
       " PosixPath('/home/nicolasf/research/Smart_Ideas/outputs/CSVs/GCMs_and_targets_cat3_and_anomalies_RAIN_training_set.csv'),\n",
       " PosixPath('/home/nicolasf/research/Smart_Ideas/outputs/CSVs/GCMs_and_targets_cat3_and_anomalies_TMEAN_training_set.csv'),\n",
       " PosixPath('/home/nicolasf/research/Smart_Ideas/outputs/CSVs/GCMs_and_targets_cat3_and_anomalies_TMEAN_test_set.csv'),\n",
       " PosixPath('/home/nicolasf/research/Smart_Ideas/outputs/CSVs/GCMs_and_targets_cat3_and_anomalies_RAIN_test_set.csv')]"
      ]
     },
     "execution_count": 17,
     "metadata": {},
     "output_type": "execute_result"
    }
   ],
   "source": [
    "list(dpath.glob(\"*.csv\"))"
   ]
  },
  {
   "cell_type": "code",
   "execution_count": 18,
   "metadata": {},
   "outputs": [],
   "source": [
    "if standardized: \n",
    "    train_data = pd.read_csv(dpath / f'GCMs_std_and_targets_cat3_and_anomalies_{var_name}_training_set.csv', index_col=0, parse_dates=True) \n",
    "    test_data = pd.read_csv(dpath / f'GCMs_std_and_targets_cat3_and_anomalies_{var_name}_test_set.csv', index_col=0, parse_dates=True)\n",
    "else: \n",
    "    train_data = pd.read_csv(dpath / f'GCMs_and_targets_cat3_and_anomalies_{var_name}_training_set.csv', index_col=0, parse_dates=True) \n",
    "    test_data = pd.read_csv(dpath / f'GCMs_and_targets_cat3_and_anomalies_{var_name}_test_set.csv', index_col=0, parse_dates=True)    "
   ]
  },
  {
   "cell_type": "markdown",
   "metadata": {},
   "source": [
    "### get the training data "
   ]
  },
  {
   "cell_type": "markdown",
   "metadata": {},
   "source": [
    "### first run and return just the scaler and the pca fitted on the training data "
   ]
  },
  {
   "cell_type": "code",
   "execution_count": 19,
   "metadata": {},
   "outputs": [],
   "source": [
    "_, _, scaler, pca = prepare_data_CSV_to_CARET(train_data, \\\n",
    "                                             GCM=GCM, \\\n",
    "                                             region_name=region_name, \\\n",
    "                                             target_type=target_type, \\\n",
    "                                             scaling=True, \\\n",
    "                                             doPCA=True)"
   ]
  },
  {
   "cell_type": "markdown",
   "metadata": {},
   "source": [
    "### then return the raw data "
   ]
  },
  {
   "cell_type": "code",
   "execution_count": 20,
   "metadata": {},
   "outputs": [],
   "source": [
    "train_data, GCMs_name_train, _, _ = prepare_data_CSV_to_CARET(train_data, \\\n",
    "                                                             GCM=GCM, \\\n",
    "                                                             region_name=region_name, \\\n",
    "                                                             target_type=target_type, \\\n",
    "                                                             scaling=False, \\\n",
    "                                                             doPCA=False)"
   ]
  },
  {
   "cell_type": "markdown",
   "metadata": {},
   "source": [
    "### check the number of missing months if any "
   ]
  },
  {
   "cell_type": "code",
   "execution_count": 21,
   "metadata": {},
   "outputs": [
    {
     "name": "stdout",
     "output_type": "stream",
     "text": [
      "Length of record consistent\n"
     ]
    }
   ],
   "source": [
    "if GCM != 'All': \n",
    "    if len(pd.date_range(start=train_data.index[0], end=train_data.index[-1], freq='M')) == len(train_data): \n",
    "        print(\"Length of record consistent\")\n",
    "    else:\n",
    "        print(\"Length of record not consistent, check the data\")"
   ]
  },
  {
   "cell_type": "markdown",
   "metadata": {},
   "source": [
    "### whether or not to shuffle the training data, especially recommended if GCM == 'All'"
   ]
  },
  {
   "cell_type": "code",
   "execution_count": 22,
   "metadata": {},
   "outputs": [
    {
     "data": {
      "text/plain": [
       "True"
      ]
     },
     "execution_count": 22,
     "metadata": {},
     "output_type": "execute_result"
    }
   ],
   "source": [
    "shuffle_train"
   ]
  },
  {
   "cell_type": "code",
   "execution_count": 23,
   "metadata": {},
   "outputs": [],
   "source": [
    "if shuffle_train: \n",
    "    train_data = train_data.sample(frac=1., random_state=42, axis=0)"
   ]
  },
  {
   "cell_type": "markdown",
   "metadata": {},
   "source": [
    "### get the test data, no scaling or PCA "
   ]
  },
  {
   "cell_type": "code",
   "execution_count": 24,
   "metadata": {},
   "outputs": [],
   "source": [
    "test_data, GCMs_name_test, _, _ = prepare_data_CSV_to_CARET(test_data, GCM=GCM, region_name=region_name, target_type=target_type, scaling=False, doPCA=False)"
   ]
  },
  {
   "cell_type": "code",
   "execution_count": 25,
   "metadata": {},
   "outputs": [
    {
     "data": {
      "text/plain": [
       "(33, 4930)"
      ]
     },
     "execution_count": 25,
     "metadata": {},
     "output_type": "execute_result"
    }
   ],
   "source": [
    "test_data.shape"
   ]
  },
  {
   "cell_type": "markdown",
   "metadata": {},
   "source": [
    "### the scalers and pca objects trained on the training data are available, for transformation of the test data (avoid information leakage)"
   ]
  },
  {
   "cell_type": "code",
   "execution_count": 26,
   "metadata": {},
   "outputs": [
    {
     "data": {
      "text/plain": [
       "StandardScaler()"
      ]
     },
     "execution_count": 26,
     "metadata": {},
     "output_type": "execute_result"
    }
   ],
   "source": [
    "scaler"
   ]
  },
  {
   "cell_type": "code",
   "execution_count": 27,
   "metadata": {},
   "outputs": [
    {
     "data": {
      "text/plain": [
       "PCA(n_components=0.9)"
      ]
     },
     "execution_count": 27,
     "metadata": {},
     "output_type": "execute_result"
    }
   ],
   "source": [
    "pca"
   ]
  },
  {
   "cell_type": "markdown",
   "metadata": {},
   "source": [
    "### set up the test data set "
   ]
  },
  {
   "cell_type": "code",
   "execution_count": 28,
   "metadata": {},
   "outputs": [
    {
     "data": {
      "text/plain": [
       "(33, 4930)"
      ]
     },
     "execution_count": 28,
     "metadata": {},
     "output_type": "execute_result"
    }
   ],
   "source": [
    "test_data.shape"
   ]
  },
  {
   "cell_type": "code",
   "execution_count": 29,
   "metadata": {},
   "outputs": [
    {
     "data": {
      "text/html": [
       "<div>\n",
       "<style scoped>\n",
       "    .dataframe tbody tr th:only-of-type {\n",
       "        vertical-align: middle;\n",
       "    }\n",
       "\n",
       "    .dataframe tbody tr th {\n",
       "        vertical-align: top;\n",
       "    }\n",
       "\n",
       "    .dataframe thead th {\n",
       "        text-align: right;\n",
       "    }\n",
       "</style>\n",
       "<table border=\"1\" class=\"dataframe\">\n",
       "  <thead>\n",
       "    <tr style=\"text-align: right;\">\n",
       "      <th></th>\n",
       "      <th>(-70.0, 70.0)</th>\n",
       "      <th>(-70.0, 72.5)</th>\n",
       "      <th>(-70.0, 75.0)</th>\n",
       "      <th>(-70.0, 77.5)</th>\n",
       "      <th>(-70.0, 80.0)</th>\n",
       "      <th>(-70.0, 82.5)</th>\n",
       "      <th>(-70.0, 85.0)</th>\n",
       "      <th>(-70.0, 87.5)</th>\n",
       "      <th>(-70.0, 90.0)</th>\n",
       "      <th>(-70.0, 92.5)</th>\n",
       "      <th>...</th>\n",
       "      <th>(60.0, 280.0)</th>\n",
       "      <th>(60.0, 282.5)</th>\n",
       "      <th>(60.0, 285.0)</th>\n",
       "      <th>(60.0, 287.5)</th>\n",
       "      <th>(60.0, 290.0)</th>\n",
       "      <th>(60.0, 292.5)</th>\n",
       "      <th>(60.0, 295.0)</th>\n",
       "      <th>(60.0, 297.5)</th>\n",
       "      <th>(60.0, 300.0)</th>\n",
       "      <th>WSI_cat3_categories</th>\n",
       "    </tr>\n",
       "  </thead>\n",
       "  <tbody>\n",
       "    <tr>\n",
       "      <th>2017-04-30</th>\n",
       "      <td>0.350412</td>\n",
       "      <td>0.609415</td>\n",
       "      <td>0.402756</td>\n",
       "      <td>0.494441</td>\n",
       "      <td>0.545367</td>\n",
       "      <td>0.577342</td>\n",
       "      <td>0.595652</td>\n",
       "      <td>0.551609</td>\n",
       "      <td>0.509443</td>\n",
       "      <td>0.442834</td>\n",
       "      <td>...</td>\n",
       "      <td>-0.187773</td>\n",
       "      <td>-0.346976</td>\n",
       "      <td>-0.421439</td>\n",
       "      <td>-0.445218</td>\n",
       "      <td>-0.466354</td>\n",
       "      <td>-0.518676</td>\n",
       "      <td>-0.528607</td>\n",
       "      <td>-0.416464</td>\n",
       "      <td>-0.623176</td>\n",
       "      <td>2.0</td>\n",
       "    </tr>\n",
       "    <tr>\n",
       "      <th>2017-05-31</th>\n",
       "      <td>0.167277</td>\n",
       "      <td>0.057477</td>\n",
       "      <td>-0.028681</td>\n",
       "      <td>0.093749</td>\n",
       "      <td>0.113651</td>\n",
       "      <td>0.133755</td>\n",
       "      <td>0.125145</td>\n",
       "      <td>0.153855</td>\n",
       "      <td>0.207044</td>\n",
       "      <td>0.253551</td>\n",
       "      <td>...</td>\n",
       "      <td>0.641738</td>\n",
       "      <td>0.679107</td>\n",
       "      <td>0.567584</td>\n",
       "      <td>0.559127</td>\n",
       "      <td>0.376234</td>\n",
       "      <td>0.254220</td>\n",
       "      <td>0.379830</td>\n",
       "      <td>0.270595</td>\n",
       "      <td>0.055050</td>\n",
       "      <td>2.0</td>\n",
       "    </tr>\n",
       "    <tr>\n",
       "      <th>2017-06-30</th>\n",
       "      <td>-0.037492</td>\n",
       "      <td>-0.200014</td>\n",
       "      <td>-0.077527</td>\n",
       "      <td>0.049841</td>\n",
       "      <td>0.124295</td>\n",
       "      <td>0.196644</td>\n",
       "      <td>0.237064</td>\n",
       "      <td>0.281379</td>\n",
       "      <td>0.293671</td>\n",
       "      <td>0.282525</td>\n",
       "      <td>...</td>\n",
       "      <td>-0.026262</td>\n",
       "      <td>-0.112167</td>\n",
       "      <td>-0.145194</td>\n",
       "      <td>-0.129408</td>\n",
       "      <td>-0.066313</td>\n",
       "      <td>-0.177321</td>\n",
       "      <td>-0.259453</td>\n",
       "      <td>-0.087841</td>\n",
       "      <td>-0.179672</td>\n",
       "      <td>2.0</td>\n",
       "    </tr>\n",
       "    <tr>\n",
       "      <th>2017-07-31</th>\n",
       "      <td>0.241020</td>\n",
       "      <td>0.126914</td>\n",
       "      <td>0.265512</td>\n",
       "      <td>0.330046</td>\n",
       "      <td>0.428405</td>\n",
       "      <td>0.540412</td>\n",
       "      <td>0.607662</td>\n",
       "      <td>0.652604</td>\n",
       "      <td>0.647708</td>\n",
       "      <td>0.654470</td>\n",
       "      <td>...</td>\n",
       "      <td>0.183818</td>\n",
       "      <td>0.048670</td>\n",
       "      <td>-0.025598</td>\n",
       "      <td>0.033960</td>\n",
       "      <td>-0.108763</td>\n",
       "      <td>-0.028818</td>\n",
       "      <td>0.147046</td>\n",
       "      <td>0.062604</td>\n",
       "      <td>0.059510</td>\n",
       "      <td>2.0</td>\n",
       "    </tr>\n",
       "    <tr>\n",
       "      <th>2017-08-31</th>\n",
       "      <td>0.347808</td>\n",
       "      <td>0.327610</td>\n",
       "      <td>0.384274</td>\n",
       "      <td>0.453615</td>\n",
       "      <td>0.468264</td>\n",
       "      <td>0.500675</td>\n",
       "      <td>0.520086</td>\n",
       "      <td>0.535890</td>\n",
       "      <td>0.554246</td>\n",
       "      <td>0.594686</td>\n",
       "      <td>...</td>\n",
       "      <td>-0.206735</td>\n",
       "      <td>-0.482101</td>\n",
       "      <td>-0.519860</td>\n",
       "      <td>-0.337142</td>\n",
       "      <td>-0.322366</td>\n",
       "      <td>-0.332399</td>\n",
       "      <td>-0.375129</td>\n",
       "      <td>-0.291196</td>\n",
       "      <td>-0.264078</td>\n",
       "      <td>3.0</td>\n",
       "    </tr>\n",
       "  </tbody>\n",
       "</table>\n",
       "<p>5 rows × 4930 columns</p>\n",
       "</div>"
      ],
      "text/plain": [
       "            (-70.0, 70.0)  (-70.0, 72.5)  (-70.0, 75.0)  (-70.0, 77.5)  \\\n",
       "2017-04-30       0.350412       0.609415       0.402756       0.494441   \n",
       "2017-05-31       0.167277       0.057477      -0.028681       0.093749   \n",
       "2017-06-30      -0.037492      -0.200014      -0.077527       0.049841   \n",
       "2017-07-31       0.241020       0.126914       0.265512       0.330046   \n",
       "2017-08-31       0.347808       0.327610       0.384274       0.453615   \n",
       "\n",
       "            (-70.0, 80.0)  (-70.0, 82.5)  (-70.0, 85.0)  (-70.0, 87.5)  \\\n",
       "2017-04-30       0.545367       0.577342       0.595652       0.551609   \n",
       "2017-05-31       0.113651       0.133755       0.125145       0.153855   \n",
       "2017-06-30       0.124295       0.196644       0.237064       0.281379   \n",
       "2017-07-31       0.428405       0.540412       0.607662       0.652604   \n",
       "2017-08-31       0.468264       0.500675       0.520086       0.535890   \n",
       "\n",
       "            (-70.0, 90.0)  (-70.0, 92.5)  ...  (60.0, 280.0)  (60.0, 282.5)  \\\n",
       "2017-04-30       0.509443       0.442834  ...      -0.187773      -0.346976   \n",
       "2017-05-31       0.207044       0.253551  ...       0.641738       0.679107   \n",
       "2017-06-30       0.293671       0.282525  ...      -0.026262      -0.112167   \n",
       "2017-07-31       0.647708       0.654470  ...       0.183818       0.048670   \n",
       "2017-08-31       0.554246       0.594686  ...      -0.206735      -0.482101   \n",
       "\n",
       "            (60.0, 285.0)  (60.0, 287.5)  (60.0, 290.0)  (60.0, 292.5)  \\\n",
       "2017-04-30      -0.421439      -0.445218      -0.466354      -0.518676   \n",
       "2017-05-31       0.567584       0.559127       0.376234       0.254220   \n",
       "2017-06-30      -0.145194      -0.129408      -0.066313      -0.177321   \n",
       "2017-07-31      -0.025598       0.033960      -0.108763      -0.028818   \n",
       "2017-08-31      -0.519860      -0.337142      -0.322366      -0.332399   \n",
       "\n",
       "            (60.0, 295.0)  (60.0, 297.5)  (60.0, 300.0)  WSI_cat3_categories  \n",
       "2017-04-30      -0.528607      -0.416464      -0.623176                  2.0  \n",
       "2017-05-31       0.379830       0.270595       0.055050                  2.0  \n",
       "2017-06-30      -0.259453      -0.087841      -0.179672                  2.0  \n",
       "2017-07-31       0.147046       0.062604       0.059510                  2.0  \n",
       "2017-08-31      -0.375129      -0.291196      -0.264078                  3.0  \n",
       "\n",
       "[5 rows x 4930 columns]"
      ]
     },
     "execution_count": 29,
     "metadata": {},
     "output_type": "execute_result"
    }
   ],
   "source": [
    "test_data.head()"
   ]
  },
  {
   "cell_type": "markdown",
   "metadata": {},
   "source": [
    "### transform the test data first (standardization using the scaler 'fitted' on the training data)"
   ]
  },
  {
   "cell_type": "code",
   "execution_count": 30,
   "metadata": {},
   "outputs": [],
   "source": [
    "x = scaler.transform(test_data.iloc[:,:-1]) "
   ]
  },
  {
   "cell_type": "markdown",
   "metadata": {},
   "source": [
    "### now perform PCA on scaled GCM outputs in the test set "
   ]
  },
  {
   "cell_type": "code",
   "execution_count": 31,
   "metadata": {},
   "outputs": [],
   "source": [
    "x = pca.transform(x)"
   ]
  },
  {
   "cell_type": "code",
   "execution_count": 32,
   "metadata": {},
   "outputs": [
    {
     "data": {
      "text/plain": [
       "(33, 33)"
      ]
     },
     "execution_count": 32,
     "metadata": {},
     "output_type": "execute_result"
    }
   ],
   "source": [
    "x.shape"
   ]
  },
  {
   "cell_type": "code",
   "execution_count": 33,
   "metadata": {},
   "outputs": [
    {
     "data": {
      "text/plain": [
       "(286, 4930)"
      ]
     },
     "execution_count": 33,
     "metadata": {},
     "output_type": "execute_result"
    }
   ],
   "source": [
    "train_data.shape"
   ]
  },
  {
   "cell_type": "code",
   "execution_count": 34,
   "metadata": {},
   "outputs": [
    {
     "data": {
      "text/plain": [
       "33"
      ]
     },
     "execution_count": 34,
     "metadata": {},
     "output_type": "execute_result"
    }
   ],
   "source": [
    "len(pca.components_)"
   ]
  },
  {
   "cell_type": "markdown",
   "metadata": {},
   "source": [
    "### make a dataframe using the indices of test data and columns of train_data "
   ]
  },
  {
   "cell_type": "code",
   "execution_count": 35,
   "metadata": {},
   "outputs": [],
   "source": [
    "test_data_df = pd.DataFrame(x, index=test_data.index, columns=[f'Component_{i}' for i in range(1, len(pca.components_) + 1)]) "
   ]
  },
  {
   "cell_type": "code",
   "execution_count": 36,
   "metadata": {},
   "outputs": [
    {
     "data": {
      "text/plain": [
       "(33, 33)"
      ]
     },
     "execution_count": 36,
     "metadata": {},
     "output_type": "execute_result"
    }
   ],
   "source": [
    "test_data_df.shape"
   ]
  },
  {
   "cell_type": "markdown",
   "metadata": {},
   "source": [
    "### and now add the target column "
   ]
  },
  {
   "cell_type": "code",
   "execution_count": 37,
   "metadata": {},
   "outputs": [
    {
     "data": {
      "text/plain": [
       "'WSI_cat3_categories'"
      ]
     },
     "execution_count": 37,
     "metadata": {},
     "output_type": "execute_result"
    }
   ],
   "source": [
    "test_data.columns[-1]"
   ]
  },
  {
   "cell_type": "code",
   "execution_count": 38,
   "metadata": {},
   "outputs": [],
   "source": [
    "test_data_df.loc[:,f\"{region_name}_{target_type}\"] = test_data.loc[:,f\"{region_name}_{target_type}\"]"
   ]
  },
  {
   "cell_type": "code",
   "execution_count": 39,
   "metadata": {},
   "outputs": [],
   "source": [
    "if shuffle_train: \n",
    "    test_data_df = test_data_df.sample(frac=1., random_state=42, axis=0)"
   ]
  },
  {
   "cell_type": "markdown",
   "metadata": {},
   "source": [
    "### set up the PYCARET experiment, use only the training set (cross validation will be used to evaluate the models)"
   ]
  },
  {
   "cell_type": "markdown",
   "metadata": {},
   "source": [
    "### Note that the first time around, the argument `silent` is left to the default (False) so that the user can verify the data type of each column after the first run and if data types correctly interpreted, `silent` can be set to True"
   ]
  },
  {
   "cell_type": "code",
   "execution_count": 40,
   "metadata": {},
   "outputs": [],
   "source": [
    "# silent = False\n",
    "silent = True "
   ]
  },
  {
   "cell_type": "code",
   "execution_count": 41,
   "metadata": {},
   "outputs": [],
   "source": [
    "log_name = f\"{GCM}_pred_{region_name}_{var_name}_{target_type}_target_std_{str(standardized)}_suffle_train_{str(shuffle_train)}\""
   ]
  },
  {
   "cell_type": "code",
   "execution_count": 42,
   "metadata": {},
   "outputs": [
    {
     "name": "stdout",
     "output_type": "stream",
     "text": [
      "experiment on MLFlow in ECMWF_pred_WSI_TMEAN_cat3_categories_target_std_False_suffle_train_True\n"
     ]
    }
   ],
   "source": [
    "print(f\"experiment on MLFlow in {log_name}\")"
   ]
  },
  {
   "cell_type": "code",
   "execution_count": 43,
   "metadata": {},
   "outputs": [
    {
     "name": "stdout",
     "output_type": "stream",
     "text": [
      "Setup Succesfully Completed!\n"
     ]
    },
    {
     "data": {
      "text/html": [
       "<style  type=\"text/css\" >\n",
       "    #T_db5c40f6_e36b_11ea_bb2c_185680dbed6drow15_col1 {\n",
       "            background-color:  lightgreen;\n",
       "        }    #T_db5c40f6_e36b_11ea_bb2c_185680dbed6drow19_col1 {\n",
       "            background-color:  lightgreen;\n",
       "        }</style><table id=\"T_db5c40f6_e36b_11ea_bb2c_185680dbed6d\" ><thead>    <tr>        <th class=\"blank level0\" ></th>        <th class=\"col_heading level0 col0\" >Description</th>        <th class=\"col_heading level0 col1\" >Value</th>    </tr></thead><tbody>\n",
       "                <tr>\n",
       "                        <th id=\"T_db5c40f6_e36b_11ea_bb2c_185680dbed6dlevel0_row0\" class=\"row_heading level0 row0\" >0</th>\n",
       "                        <td id=\"T_db5c40f6_e36b_11ea_bb2c_185680dbed6drow0_col0\" class=\"data row0 col0\" >session_id</td>\n",
       "                        <td id=\"T_db5c40f6_e36b_11ea_bb2c_185680dbed6drow0_col1\" class=\"data row0 col1\" >123</td>\n",
       "            </tr>\n",
       "            <tr>\n",
       "                        <th id=\"T_db5c40f6_e36b_11ea_bb2c_185680dbed6dlevel0_row1\" class=\"row_heading level0 row1\" >1</th>\n",
       "                        <td id=\"T_db5c40f6_e36b_11ea_bb2c_185680dbed6drow1_col0\" class=\"data row1 col0\" >Target Type</td>\n",
       "                        <td id=\"T_db5c40f6_e36b_11ea_bb2c_185680dbed6drow1_col1\" class=\"data row1 col1\" >Multiclass</td>\n",
       "            </tr>\n",
       "            <tr>\n",
       "                        <th id=\"T_db5c40f6_e36b_11ea_bb2c_185680dbed6dlevel0_row2\" class=\"row_heading level0 row2\" >2</th>\n",
       "                        <td id=\"T_db5c40f6_e36b_11ea_bb2c_185680dbed6drow2_col0\" class=\"data row2 col0\" >Label Encoded</td>\n",
       "                        <td id=\"T_db5c40f6_e36b_11ea_bb2c_185680dbed6drow2_col1\" class=\"data row2 col1\" >None</td>\n",
       "            </tr>\n",
       "            <tr>\n",
       "                        <th id=\"T_db5c40f6_e36b_11ea_bb2c_185680dbed6dlevel0_row3\" class=\"row_heading level0 row3\" >3</th>\n",
       "                        <td id=\"T_db5c40f6_e36b_11ea_bb2c_185680dbed6drow3_col0\" class=\"data row3 col0\" >Original Data</td>\n",
       "                        <td id=\"T_db5c40f6_e36b_11ea_bb2c_185680dbed6drow3_col1\" class=\"data row3 col1\" >(286, 4930)</td>\n",
       "            </tr>\n",
       "            <tr>\n",
       "                        <th id=\"T_db5c40f6_e36b_11ea_bb2c_185680dbed6dlevel0_row4\" class=\"row_heading level0 row4\" >4</th>\n",
       "                        <td id=\"T_db5c40f6_e36b_11ea_bb2c_185680dbed6drow4_col0\" class=\"data row4 col0\" >Missing Values </td>\n",
       "                        <td id=\"T_db5c40f6_e36b_11ea_bb2c_185680dbed6drow4_col1\" class=\"data row4 col1\" >False</td>\n",
       "            </tr>\n",
       "            <tr>\n",
       "                        <th id=\"T_db5c40f6_e36b_11ea_bb2c_185680dbed6dlevel0_row5\" class=\"row_heading level0 row5\" >5</th>\n",
       "                        <td id=\"T_db5c40f6_e36b_11ea_bb2c_185680dbed6drow5_col0\" class=\"data row5 col0\" >Numeric Features </td>\n",
       "                        <td id=\"T_db5c40f6_e36b_11ea_bb2c_185680dbed6drow5_col1\" class=\"data row5 col1\" >4929</td>\n",
       "            </tr>\n",
       "            <tr>\n",
       "                        <th id=\"T_db5c40f6_e36b_11ea_bb2c_185680dbed6dlevel0_row6\" class=\"row_heading level0 row6\" >6</th>\n",
       "                        <td id=\"T_db5c40f6_e36b_11ea_bb2c_185680dbed6drow6_col0\" class=\"data row6 col0\" >Categorical Features </td>\n",
       "                        <td id=\"T_db5c40f6_e36b_11ea_bb2c_185680dbed6drow6_col1\" class=\"data row6 col1\" >0</td>\n",
       "            </tr>\n",
       "            <tr>\n",
       "                        <th id=\"T_db5c40f6_e36b_11ea_bb2c_185680dbed6dlevel0_row7\" class=\"row_heading level0 row7\" >7</th>\n",
       "                        <td id=\"T_db5c40f6_e36b_11ea_bb2c_185680dbed6drow7_col0\" class=\"data row7 col0\" >Ordinal Features </td>\n",
       "                        <td id=\"T_db5c40f6_e36b_11ea_bb2c_185680dbed6drow7_col1\" class=\"data row7 col1\" >False</td>\n",
       "            </tr>\n",
       "            <tr>\n",
       "                        <th id=\"T_db5c40f6_e36b_11ea_bb2c_185680dbed6dlevel0_row8\" class=\"row_heading level0 row8\" >8</th>\n",
       "                        <td id=\"T_db5c40f6_e36b_11ea_bb2c_185680dbed6drow8_col0\" class=\"data row8 col0\" >High Cardinality Features </td>\n",
       "                        <td id=\"T_db5c40f6_e36b_11ea_bb2c_185680dbed6drow8_col1\" class=\"data row8 col1\" >False</td>\n",
       "            </tr>\n",
       "            <tr>\n",
       "                        <th id=\"T_db5c40f6_e36b_11ea_bb2c_185680dbed6dlevel0_row9\" class=\"row_heading level0 row9\" >9</th>\n",
       "                        <td id=\"T_db5c40f6_e36b_11ea_bb2c_185680dbed6drow9_col0\" class=\"data row9 col0\" >High Cardinality Method </td>\n",
       "                        <td id=\"T_db5c40f6_e36b_11ea_bb2c_185680dbed6drow9_col1\" class=\"data row9 col1\" >None</td>\n",
       "            </tr>\n",
       "            <tr>\n",
       "                        <th id=\"T_db5c40f6_e36b_11ea_bb2c_185680dbed6dlevel0_row10\" class=\"row_heading level0 row10\" >10</th>\n",
       "                        <td id=\"T_db5c40f6_e36b_11ea_bb2c_185680dbed6drow10_col0\" class=\"data row10 col0\" >Sampled Data</td>\n",
       "                        <td id=\"T_db5c40f6_e36b_11ea_bb2c_185680dbed6drow10_col1\" class=\"data row10 col1\" >(286, 4930)</td>\n",
       "            </tr>\n",
       "            <tr>\n",
       "                        <th id=\"T_db5c40f6_e36b_11ea_bb2c_185680dbed6dlevel0_row11\" class=\"row_heading level0 row11\" >11</th>\n",
       "                        <td id=\"T_db5c40f6_e36b_11ea_bb2c_185680dbed6drow11_col0\" class=\"data row11 col0\" >Transformed Train Set</td>\n",
       "                        <td id=\"T_db5c40f6_e36b_11ea_bb2c_185680dbed6drow11_col1\" class=\"data row11 col1\" >(200, 33)</td>\n",
       "            </tr>\n",
       "            <tr>\n",
       "                        <th id=\"T_db5c40f6_e36b_11ea_bb2c_185680dbed6dlevel0_row12\" class=\"row_heading level0 row12\" >12</th>\n",
       "                        <td id=\"T_db5c40f6_e36b_11ea_bb2c_185680dbed6drow12_col0\" class=\"data row12 col0\" >Transformed Test Set</td>\n",
       "                        <td id=\"T_db5c40f6_e36b_11ea_bb2c_185680dbed6drow12_col1\" class=\"data row12 col1\" >(86, 33)</td>\n",
       "            </tr>\n",
       "            <tr>\n",
       "                        <th id=\"T_db5c40f6_e36b_11ea_bb2c_185680dbed6dlevel0_row13\" class=\"row_heading level0 row13\" >13</th>\n",
       "                        <td id=\"T_db5c40f6_e36b_11ea_bb2c_185680dbed6drow13_col0\" class=\"data row13 col0\" >Numeric Imputer </td>\n",
       "                        <td id=\"T_db5c40f6_e36b_11ea_bb2c_185680dbed6drow13_col1\" class=\"data row13 col1\" >mean</td>\n",
       "            </tr>\n",
       "            <tr>\n",
       "                        <th id=\"T_db5c40f6_e36b_11ea_bb2c_185680dbed6dlevel0_row14\" class=\"row_heading level0 row14\" >14</th>\n",
       "                        <td id=\"T_db5c40f6_e36b_11ea_bb2c_185680dbed6drow14_col0\" class=\"data row14 col0\" >Categorical Imputer </td>\n",
       "                        <td id=\"T_db5c40f6_e36b_11ea_bb2c_185680dbed6drow14_col1\" class=\"data row14 col1\" >constant</td>\n",
       "            </tr>\n",
       "            <tr>\n",
       "                        <th id=\"T_db5c40f6_e36b_11ea_bb2c_185680dbed6dlevel0_row15\" class=\"row_heading level0 row15\" >15</th>\n",
       "                        <td id=\"T_db5c40f6_e36b_11ea_bb2c_185680dbed6drow15_col0\" class=\"data row15 col0\" >Normalize </td>\n",
       "                        <td id=\"T_db5c40f6_e36b_11ea_bb2c_185680dbed6drow15_col1\" class=\"data row15 col1\" >True</td>\n",
       "            </tr>\n",
       "            <tr>\n",
       "                        <th id=\"T_db5c40f6_e36b_11ea_bb2c_185680dbed6dlevel0_row16\" class=\"row_heading level0 row16\" >16</th>\n",
       "                        <td id=\"T_db5c40f6_e36b_11ea_bb2c_185680dbed6drow16_col0\" class=\"data row16 col0\" >Normalize Method </td>\n",
       "                        <td id=\"T_db5c40f6_e36b_11ea_bb2c_185680dbed6drow16_col1\" class=\"data row16 col1\" >zscore</td>\n",
       "            </tr>\n",
       "            <tr>\n",
       "                        <th id=\"T_db5c40f6_e36b_11ea_bb2c_185680dbed6dlevel0_row17\" class=\"row_heading level0 row17\" >17</th>\n",
       "                        <td id=\"T_db5c40f6_e36b_11ea_bb2c_185680dbed6drow17_col0\" class=\"data row17 col0\" >Transformation </td>\n",
       "                        <td id=\"T_db5c40f6_e36b_11ea_bb2c_185680dbed6drow17_col1\" class=\"data row17 col1\" >False</td>\n",
       "            </tr>\n",
       "            <tr>\n",
       "                        <th id=\"T_db5c40f6_e36b_11ea_bb2c_185680dbed6dlevel0_row18\" class=\"row_heading level0 row18\" >18</th>\n",
       "                        <td id=\"T_db5c40f6_e36b_11ea_bb2c_185680dbed6drow18_col0\" class=\"data row18 col0\" >Transformation Method </td>\n",
       "                        <td id=\"T_db5c40f6_e36b_11ea_bb2c_185680dbed6drow18_col1\" class=\"data row18 col1\" >None</td>\n",
       "            </tr>\n",
       "            <tr>\n",
       "                        <th id=\"T_db5c40f6_e36b_11ea_bb2c_185680dbed6dlevel0_row19\" class=\"row_heading level0 row19\" >19</th>\n",
       "                        <td id=\"T_db5c40f6_e36b_11ea_bb2c_185680dbed6drow19_col0\" class=\"data row19 col0\" >PCA </td>\n",
       "                        <td id=\"T_db5c40f6_e36b_11ea_bb2c_185680dbed6drow19_col1\" class=\"data row19 col1\" >True</td>\n",
       "            </tr>\n",
       "            <tr>\n",
       "                        <th id=\"T_db5c40f6_e36b_11ea_bb2c_185680dbed6dlevel0_row20\" class=\"row_heading level0 row20\" >20</th>\n",
       "                        <td id=\"T_db5c40f6_e36b_11ea_bb2c_185680dbed6drow20_col0\" class=\"data row20 col0\" >PCA Method </td>\n",
       "                        <td id=\"T_db5c40f6_e36b_11ea_bb2c_185680dbed6drow20_col1\" class=\"data row20 col1\" >linear</td>\n",
       "            </tr>\n",
       "            <tr>\n",
       "                        <th id=\"T_db5c40f6_e36b_11ea_bb2c_185680dbed6dlevel0_row21\" class=\"row_heading level0 row21\" >21</th>\n",
       "                        <td id=\"T_db5c40f6_e36b_11ea_bb2c_185680dbed6drow21_col0\" class=\"data row21 col0\" >PCA Components </td>\n",
       "                        <td id=\"T_db5c40f6_e36b_11ea_bb2c_185680dbed6drow21_col1\" class=\"data row21 col1\" >33</td>\n",
       "            </tr>\n",
       "            <tr>\n",
       "                        <th id=\"T_db5c40f6_e36b_11ea_bb2c_185680dbed6dlevel0_row22\" class=\"row_heading level0 row22\" >22</th>\n",
       "                        <td id=\"T_db5c40f6_e36b_11ea_bb2c_185680dbed6drow22_col0\" class=\"data row22 col0\" >Ignore Low Variance </td>\n",
       "                        <td id=\"T_db5c40f6_e36b_11ea_bb2c_185680dbed6drow22_col1\" class=\"data row22 col1\" >False</td>\n",
       "            </tr>\n",
       "            <tr>\n",
       "                        <th id=\"T_db5c40f6_e36b_11ea_bb2c_185680dbed6dlevel0_row23\" class=\"row_heading level0 row23\" >23</th>\n",
       "                        <td id=\"T_db5c40f6_e36b_11ea_bb2c_185680dbed6drow23_col0\" class=\"data row23 col0\" >Combine Rare Levels </td>\n",
       "                        <td id=\"T_db5c40f6_e36b_11ea_bb2c_185680dbed6drow23_col1\" class=\"data row23 col1\" >False</td>\n",
       "            </tr>\n",
       "            <tr>\n",
       "                        <th id=\"T_db5c40f6_e36b_11ea_bb2c_185680dbed6dlevel0_row24\" class=\"row_heading level0 row24\" >24</th>\n",
       "                        <td id=\"T_db5c40f6_e36b_11ea_bb2c_185680dbed6drow24_col0\" class=\"data row24 col0\" >Rare Level Threshold </td>\n",
       "                        <td id=\"T_db5c40f6_e36b_11ea_bb2c_185680dbed6drow24_col1\" class=\"data row24 col1\" >None</td>\n",
       "            </tr>\n",
       "            <tr>\n",
       "                        <th id=\"T_db5c40f6_e36b_11ea_bb2c_185680dbed6dlevel0_row25\" class=\"row_heading level0 row25\" >25</th>\n",
       "                        <td id=\"T_db5c40f6_e36b_11ea_bb2c_185680dbed6drow25_col0\" class=\"data row25 col0\" >Numeric Binning </td>\n",
       "                        <td id=\"T_db5c40f6_e36b_11ea_bb2c_185680dbed6drow25_col1\" class=\"data row25 col1\" >False</td>\n",
       "            </tr>\n",
       "            <tr>\n",
       "                        <th id=\"T_db5c40f6_e36b_11ea_bb2c_185680dbed6dlevel0_row26\" class=\"row_heading level0 row26\" >26</th>\n",
       "                        <td id=\"T_db5c40f6_e36b_11ea_bb2c_185680dbed6drow26_col0\" class=\"data row26 col0\" >Remove Outliers </td>\n",
       "                        <td id=\"T_db5c40f6_e36b_11ea_bb2c_185680dbed6drow26_col1\" class=\"data row26 col1\" >False</td>\n",
       "            </tr>\n",
       "            <tr>\n",
       "                        <th id=\"T_db5c40f6_e36b_11ea_bb2c_185680dbed6dlevel0_row27\" class=\"row_heading level0 row27\" >27</th>\n",
       "                        <td id=\"T_db5c40f6_e36b_11ea_bb2c_185680dbed6drow27_col0\" class=\"data row27 col0\" >Outliers Threshold </td>\n",
       "                        <td id=\"T_db5c40f6_e36b_11ea_bb2c_185680dbed6drow27_col1\" class=\"data row27 col1\" >None</td>\n",
       "            </tr>\n",
       "            <tr>\n",
       "                        <th id=\"T_db5c40f6_e36b_11ea_bb2c_185680dbed6dlevel0_row28\" class=\"row_heading level0 row28\" >28</th>\n",
       "                        <td id=\"T_db5c40f6_e36b_11ea_bb2c_185680dbed6drow28_col0\" class=\"data row28 col0\" >Remove Multicollinearity </td>\n",
       "                        <td id=\"T_db5c40f6_e36b_11ea_bb2c_185680dbed6drow28_col1\" class=\"data row28 col1\" >False</td>\n",
       "            </tr>\n",
       "            <tr>\n",
       "                        <th id=\"T_db5c40f6_e36b_11ea_bb2c_185680dbed6dlevel0_row29\" class=\"row_heading level0 row29\" >29</th>\n",
       "                        <td id=\"T_db5c40f6_e36b_11ea_bb2c_185680dbed6drow29_col0\" class=\"data row29 col0\" >Multicollinearity Threshold </td>\n",
       "                        <td id=\"T_db5c40f6_e36b_11ea_bb2c_185680dbed6drow29_col1\" class=\"data row29 col1\" >None</td>\n",
       "            </tr>\n",
       "            <tr>\n",
       "                        <th id=\"T_db5c40f6_e36b_11ea_bb2c_185680dbed6dlevel0_row30\" class=\"row_heading level0 row30\" >30</th>\n",
       "                        <td id=\"T_db5c40f6_e36b_11ea_bb2c_185680dbed6drow30_col0\" class=\"data row30 col0\" >Clustering </td>\n",
       "                        <td id=\"T_db5c40f6_e36b_11ea_bb2c_185680dbed6drow30_col1\" class=\"data row30 col1\" >False</td>\n",
       "            </tr>\n",
       "            <tr>\n",
       "                        <th id=\"T_db5c40f6_e36b_11ea_bb2c_185680dbed6dlevel0_row31\" class=\"row_heading level0 row31\" >31</th>\n",
       "                        <td id=\"T_db5c40f6_e36b_11ea_bb2c_185680dbed6drow31_col0\" class=\"data row31 col0\" >Clustering Iteration </td>\n",
       "                        <td id=\"T_db5c40f6_e36b_11ea_bb2c_185680dbed6drow31_col1\" class=\"data row31 col1\" >None</td>\n",
       "            </tr>\n",
       "            <tr>\n",
       "                        <th id=\"T_db5c40f6_e36b_11ea_bb2c_185680dbed6dlevel0_row32\" class=\"row_heading level0 row32\" >32</th>\n",
       "                        <td id=\"T_db5c40f6_e36b_11ea_bb2c_185680dbed6drow32_col0\" class=\"data row32 col0\" >Polynomial Features </td>\n",
       "                        <td id=\"T_db5c40f6_e36b_11ea_bb2c_185680dbed6drow32_col1\" class=\"data row32 col1\" >False</td>\n",
       "            </tr>\n",
       "            <tr>\n",
       "                        <th id=\"T_db5c40f6_e36b_11ea_bb2c_185680dbed6dlevel0_row33\" class=\"row_heading level0 row33\" >33</th>\n",
       "                        <td id=\"T_db5c40f6_e36b_11ea_bb2c_185680dbed6drow33_col0\" class=\"data row33 col0\" >Polynomial Degree </td>\n",
       "                        <td id=\"T_db5c40f6_e36b_11ea_bb2c_185680dbed6drow33_col1\" class=\"data row33 col1\" >None</td>\n",
       "            </tr>\n",
       "            <tr>\n",
       "                        <th id=\"T_db5c40f6_e36b_11ea_bb2c_185680dbed6dlevel0_row34\" class=\"row_heading level0 row34\" >34</th>\n",
       "                        <td id=\"T_db5c40f6_e36b_11ea_bb2c_185680dbed6drow34_col0\" class=\"data row34 col0\" >Trignometry Features </td>\n",
       "                        <td id=\"T_db5c40f6_e36b_11ea_bb2c_185680dbed6drow34_col1\" class=\"data row34 col1\" >False</td>\n",
       "            </tr>\n",
       "            <tr>\n",
       "                        <th id=\"T_db5c40f6_e36b_11ea_bb2c_185680dbed6dlevel0_row35\" class=\"row_heading level0 row35\" >35</th>\n",
       "                        <td id=\"T_db5c40f6_e36b_11ea_bb2c_185680dbed6drow35_col0\" class=\"data row35 col0\" >Polynomial Threshold </td>\n",
       "                        <td id=\"T_db5c40f6_e36b_11ea_bb2c_185680dbed6drow35_col1\" class=\"data row35 col1\" >None</td>\n",
       "            </tr>\n",
       "            <tr>\n",
       "                        <th id=\"T_db5c40f6_e36b_11ea_bb2c_185680dbed6dlevel0_row36\" class=\"row_heading level0 row36\" >36</th>\n",
       "                        <td id=\"T_db5c40f6_e36b_11ea_bb2c_185680dbed6drow36_col0\" class=\"data row36 col0\" >Group Features </td>\n",
       "                        <td id=\"T_db5c40f6_e36b_11ea_bb2c_185680dbed6drow36_col1\" class=\"data row36 col1\" >False</td>\n",
       "            </tr>\n",
       "            <tr>\n",
       "                        <th id=\"T_db5c40f6_e36b_11ea_bb2c_185680dbed6dlevel0_row37\" class=\"row_heading level0 row37\" >37</th>\n",
       "                        <td id=\"T_db5c40f6_e36b_11ea_bb2c_185680dbed6drow37_col0\" class=\"data row37 col0\" >Feature Selection </td>\n",
       "                        <td id=\"T_db5c40f6_e36b_11ea_bb2c_185680dbed6drow37_col1\" class=\"data row37 col1\" >False</td>\n",
       "            </tr>\n",
       "            <tr>\n",
       "                        <th id=\"T_db5c40f6_e36b_11ea_bb2c_185680dbed6dlevel0_row38\" class=\"row_heading level0 row38\" >38</th>\n",
       "                        <td id=\"T_db5c40f6_e36b_11ea_bb2c_185680dbed6drow38_col0\" class=\"data row38 col0\" >Features Selection Threshold </td>\n",
       "                        <td id=\"T_db5c40f6_e36b_11ea_bb2c_185680dbed6drow38_col1\" class=\"data row38 col1\" >None</td>\n",
       "            </tr>\n",
       "            <tr>\n",
       "                        <th id=\"T_db5c40f6_e36b_11ea_bb2c_185680dbed6dlevel0_row39\" class=\"row_heading level0 row39\" >39</th>\n",
       "                        <td id=\"T_db5c40f6_e36b_11ea_bb2c_185680dbed6drow39_col0\" class=\"data row39 col0\" >Feature Interaction </td>\n",
       "                        <td id=\"T_db5c40f6_e36b_11ea_bb2c_185680dbed6drow39_col1\" class=\"data row39 col1\" >False</td>\n",
       "            </tr>\n",
       "            <tr>\n",
       "                        <th id=\"T_db5c40f6_e36b_11ea_bb2c_185680dbed6dlevel0_row40\" class=\"row_heading level0 row40\" >40</th>\n",
       "                        <td id=\"T_db5c40f6_e36b_11ea_bb2c_185680dbed6drow40_col0\" class=\"data row40 col0\" >Feature Ratio </td>\n",
       "                        <td id=\"T_db5c40f6_e36b_11ea_bb2c_185680dbed6drow40_col1\" class=\"data row40 col1\" >False</td>\n",
       "            </tr>\n",
       "            <tr>\n",
       "                        <th id=\"T_db5c40f6_e36b_11ea_bb2c_185680dbed6dlevel0_row41\" class=\"row_heading level0 row41\" >41</th>\n",
       "                        <td id=\"T_db5c40f6_e36b_11ea_bb2c_185680dbed6drow41_col0\" class=\"data row41 col0\" >Interaction Threshold </td>\n",
       "                        <td id=\"T_db5c40f6_e36b_11ea_bb2c_185680dbed6drow41_col1\" class=\"data row41 col1\" >None</td>\n",
       "            </tr>\n",
       "            <tr>\n",
       "                        <th id=\"T_db5c40f6_e36b_11ea_bb2c_185680dbed6dlevel0_row42\" class=\"row_heading level0 row42\" >42</th>\n",
       "                        <td id=\"T_db5c40f6_e36b_11ea_bb2c_185680dbed6drow42_col0\" class=\"data row42 col0\" >Fix Imbalance</td>\n",
       "                        <td id=\"T_db5c40f6_e36b_11ea_bb2c_185680dbed6drow42_col1\" class=\"data row42 col1\" >False</td>\n",
       "            </tr>\n",
       "            <tr>\n",
       "                        <th id=\"T_db5c40f6_e36b_11ea_bb2c_185680dbed6dlevel0_row43\" class=\"row_heading level0 row43\" >43</th>\n",
       "                        <td id=\"T_db5c40f6_e36b_11ea_bb2c_185680dbed6drow43_col0\" class=\"data row43 col0\" >Fix Imbalance Method</td>\n",
       "                        <td id=\"T_db5c40f6_e36b_11ea_bb2c_185680dbed6drow43_col1\" class=\"data row43 col1\" >SMOTE</td>\n",
       "            </tr>\n",
       "    </tbody></table>"
      ],
      "text/plain": [
       "<pandas.io.formats.style.Styler at 0x7f1151fb5340>"
      ]
     },
     "metadata": {},
     "output_type": "display_data"
    }
   ],
   "source": [
    "exp_clf = setup(data = train_data, \\\n",
    "                target = f'{region_name}_{target_type}', \\\n",
    "                session_id=123, \\\n",
    "                log_experiment=True, \\\n",
    "                experiment_name=log_name, \\\n",
    "                normalize = True, \\\n",
    "                transformation = False, \\\n",
    "                pca=True, \\\n",
    "                pca_method='linear', \\\n",
    "                pca_components=len(pca.components_), \\\n",
    "                silent=silent)"
   ]
  },
  {
   "cell_type": "markdown",
   "metadata": {},
   "source": [
    "### quick comparison of the models, if `turbo` is set to False, then all models (including the ones expensive to train) are considered "
   ]
  },
  {
   "cell_type": "markdown",
   "metadata": {},
   "source": [
    "### select the best 5 "
   ]
  },
  {
   "cell_type": "code",
   "execution_count": 44,
   "metadata": {},
   "outputs": [
    {
     "data": {
      "text/html": [
       "<style  type=\"text/css\" >\n",
       "    #T_3bba79fe_e36c_11ea_bb2c_185680dbed6d th {\n",
       "          text-align: left;\n",
       "    }    #T_3bba79fe_e36c_11ea_bb2c_185680dbed6drow0_col0 {\n",
       "            text-align:  left;\n",
       "        }    #T_3bba79fe_e36c_11ea_bb2c_185680dbed6drow0_col1 {\n",
       "            background-color:  yellow;\n",
       "            text-align:  left;\n",
       "        }    #T_3bba79fe_e36c_11ea_bb2c_185680dbed6drow0_col2 {\n",
       "            text-align:  left;\n",
       "        }    #T_3bba79fe_e36c_11ea_bb2c_185680dbed6drow0_col3 {\n",
       "            background-color:  yellow;\n",
       "            text-align:  left;\n",
       "        }    #T_3bba79fe_e36c_11ea_bb2c_185680dbed6drow0_col4 {\n",
       "            : ;\n",
       "            text-align:  left;\n",
       "        }    #T_3bba79fe_e36c_11ea_bb2c_185680dbed6drow0_col5 {\n",
       "            background-color:  yellow;\n",
       "            text-align:  left;\n",
       "        }    #T_3bba79fe_e36c_11ea_bb2c_185680dbed6drow0_col6 {\n",
       "            background-color:  yellow;\n",
       "            text-align:  left;\n",
       "        }    #T_3bba79fe_e36c_11ea_bb2c_185680dbed6drow0_col7 {\n",
       "            background-color:  yellow;\n",
       "            text-align:  left;\n",
       "        }    #T_3bba79fe_e36c_11ea_bb2c_185680dbed6drow0_col8 {\n",
       "            background-color:  lightgrey;\n",
       "            text-align:  left;\n",
       "        }    #T_3bba79fe_e36c_11ea_bb2c_185680dbed6drow1_col0 {\n",
       "            text-align:  left;\n",
       "        }    #T_3bba79fe_e36c_11ea_bb2c_185680dbed6drow1_col1 {\n",
       "            : ;\n",
       "            text-align:  left;\n",
       "        }    #T_3bba79fe_e36c_11ea_bb2c_185680dbed6drow1_col2 {\n",
       "            text-align:  left;\n",
       "        }    #T_3bba79fe_e36c_11ea_bb2c_185680dbed6drow1_col3 {\n",
       "            : ;\n",
       "            text-align:  left;\n",
       "        }    #T_3bba79fe_e36c_11ea_bb2c_185680dbed6drow1_col4 {\n",
       "            : ;\n",
       "            text-align:  left;\n",
       "        }    #T_3bba79fe_e36c_11ea_bb2c_185680dbed6drow1_col5 {\n",
       "            : ;\n",
       "            text-align:  left;\n",
       "        }    #T_3bba79fe_e36c_11ea_bb2c_185680dbed6drow1_col6 {\n",
       "            : ;\n",
       "            text-align:  left;\n",
       "        }    #T_3bba79fe_e36c_11ea_bb2c_185680dbed6drow1_col7 {\n",
       "            : ;\n",
       "            text-align:  left;\n",
       "        }    #T_3bba79fe_e36c_11ea_bb2c_185680dbed6drow1_col8 {\n",
       "            background-color:  lightgrey;\n",
       "            text-align:  left;\n",
       "        }    #T_3bba79fe_e36c_11ea_bb2c_185680dbed6drow2_col0 {\n",
       "            text-align:  left;\n",
       "        }    #T_3bba79fe_e36c_11ea_bb2c_185680dbed6drow2_col1 {\n",
       "            : ;\n",
       "            text-align:  left;\n",
       "        }    #T_3bba79fe_e36c_11ea_bb2c_185680dbed6drow2_col2 {\n",
       "            text-align:  left;\n",
       "        }    #T_3bba79fe_e36c_11ea_bb2c_185680dbed6drow2_col3 {\n",
       "            : ;\n",
       "            text-align:  left;\n",
       "        }    #T_3bba79fe_e36c_11ea_bb2c_185680dbed6drow2_col4 {\n",
       "            : ;\n",
       "            text-align:  left;\n",
       "        }    #T_3bba79fe_e36c_11ea_bb2c_185680dbed6drow2_col5 {\n",
       "            : ;\n",
       "            text-align:  left;\n",
       "        }    #T_3bba79fe_e36c_11ea_bb2c_185680dbed6drow2_col6 {\n",
       "            : ;\n",
       "            text-align:  left;\n",
       "        }    #T_3bba79fe_e36c_11ea_bb2c_185680dbed6drow2_col7 {\n",
       "            : ;\n",
       "            text-align:  left;\n",
       "        }    #T_3bba79fe_e36c_11ea_bb2c_185680dbed6drow2_col8 {\n",
       "            background-color:  lightgrey;\n",
       "            text-align:  left;\n",
       "        }    #T_3bba79fe_e36c_11ea_bb2c_185680dbed6drow3_col0 {\n",
       "            text-align:  left;\n",
       "        }    #T_3bba79fe_e36c_11ea_bb2c_185680dbed6drow3_col1 {\n",
       "            : ;\n",
       "            text-align:  left;\n",
       "        }    #T_3bba79fe_e36c_11ea_bb2c_185680dbed6drow3_col2 {\n",
       "            text-align:  left;\n",
       "        }    #T_3bba79fe_e36c_11ea_bb2c_185680dbed6drow3_col3 {\n",
       "            : ;\n",
       "            text-align:  left;\n",
       "        }    #T_3bba79fe_e36c_11ea_bb2c_185680dbed6drow3_col4 {\n",
       "            : ;\n",
       "            text-align:  left;\n",
       "        }    #T_3bba79fe_e36c_11ea_bb2c_185680dbed6drow3_col5 {\n",
       "            : ;\n",
       "            text-align:  left;\n",
       "        }    #T_3bba79fe_e36c_11ea_bb2c_185680dbed6drow3_col6 {\n",
       "            : ;\n",
       "            text-align:  left;\n",
       "        }    #T_3bba79fe_e36c_11ea_bb2c_185680dbed6drow3_col7 {\n",
       "            : ;\n",
       "            text-align:  left;\n",
       "        }    #T_3bba79fe_e36c_11ea_bb2c_185680dbed6drow3_col8 {\n",
       "            background-color:  lightgrey;\n",
       "            text-align:  left;\n",
       "        }    #T_3bba79fe_e36c_11ea_bb2c_185680dbed6drow4_col0 {\n",
       "            text-align:  left;\n",
       "        }    #T_3bba79fe_e36c_11ea_bb2c_185680dbed6drow4_col1 {\n",
       "            : ;\n",
       "            text-align:  left;\n",
       "        }    #T_3bba79fe_e36c_11ea_bb2c_185680dbed6drow4_col2 {\n",
       "            text-align:  left;\n",
       "        }    #T_3bba79fe_e36c_11ea_bb2c_185680dbed6drow4_col3 {\n",
       "            : ;\n",
       "            text-align:  left;\n",
       "        }    #T_3bba79fe_e36c_11ea_bb2c_185680dbed6drow4_col4 {\n",
       "            : ;\n",
       "            text-align:  left;\n",
       "        }    #T_3bba79fe_e36c_11ea_bb2c_185680dbed6drow4_col5 {\n",
       "            : ;\n",
       "            text-align:  left;\n",
       "        }    #T_3bba79fe_e36c_11ea_bb2c_185680dbed6drow4_col6 {\n",
       "            : ;\n",
       "            text-align:  left;\n",
       "        }    #T_3bba79fe_e36c_11ea_bb2c_185680dbed6drow4_col7 {\n",
       "            : ;\n",
       "            text-align:  left;\n",
       "        }    #T_3bba79fe_e36c_11ea_bb2c_185680dbed6drow4_col8 {\n",
       "            background-color:  lightgrey;\n",
       "            text-align:  left;\n",
       "        }    #T_3bba79fe_e36c_11ea_bb2c_185680dbed6drow5_col0 {\n",
       "            text-align:  left;\n",
       "        }    #T_3bba79fe_e36c_11ea_bb2c_185680dbed6drow5_col1 {\n",
       "            : ;\n",
       "            text-align:  left;\n",
       "        }    #T_3bba79fe_e36c_11ea_bb2c_185680dbed6drow5_col2 {\n",
       "            text-align:  left;\n",
       "        }    #T_3bba79fe_e36c_11ea_bb2c_185680dbed6drow5_col3 {\n",
       "            : ;\n",
       "            text-align:  left;\n",
       "        }    #T_3bba79fe_e36c_11ea_bb2c_185680dbed6drow5_col4 {\n",
       "            background-color:  yellow;\n",
       "            text-align:  left;\n",
       "        }    #T_3bba79fe_e36c_11ea_bb2c_185680dbed6drow5_col5 {\n",
       "            : ;\n",
       "            text-align:  left;\n",
       "        }    #T_3bba79fe_e36c_11ea_bb2c_185680dbed6drow5_col6 {\n",
       "            : ;\n",
       "            text-align:  left;\n",
       "        }    #T_3bba79fe_e36c_11ea_bb2c_185680dbed6drow5_col7 {\n",
       "            : ;\n",
       "            text-align:  left;\n",
       "        }    #T_3bba79fe_e36c_11ea_bb2c_185680dbed6drow5_col8 {\n",
       "            background-color:  lightgrey;\n",
       "            text-align:  left;\n",
       "        }    #T_3bba79fe_e36c_11ea_bb2c_185680dbed6drow6_col0 {\n",
       "            text-align:  left;\n",
       "        }    #T_3bba79fe_e36c_11ea_bb2c_185680dbed6drow6_col1 {\n",
       "            : ;\n",
       "            text-align:  left;\n",
       "        }    #T_3bba79fe_e36c_11ea_bb2c_185680dbed6drow6_col2 {\n",
       "            text-align:  left;\n",
       "        }    #T_3bba79fe_e36c_11ea_bb2c_185680dbed6drow6_col3 {\n",
       "            : ;\n",
       "            text-align:  left;\n",
       "        }    #T_3bba79fe_e36c_11ea_bb2c_185680dbed6drow6_col4 {\n",
       "            : ;\n",
       "            text-align:  left;\n",
       "        }    #T_3bba79fe_e36c_11ea_bb2c_185680dbed6drow6_col5 {\n",
       "            : ;\n",
       "            text-align:  left;\n",
       "        }    #T_3bba79fe_e36c_11ea_bb2c_185680dbed6drow6_col6 {\n",
       "            : ;\n",
       "            text-align:  left;\n",
       "        }    #T_3bba79fe_e36c_11ea_bb2c_185680dbed6drow6_col7 {\n",
       "            : ;\n",
       "            text-align:  left;\n",
       "        }    #T_3bba79fe_e36c_11ea_bb2c_185680dbed6drow6_col8 {\n",
       "            background-color:  lightgrey;\n",
       "            text-align:  left;\n",
       "        }    #T_3bba79fe_e36c_11ea_bb2c_185680dbed6drow7_col0 {\n",
       "            text-align:  left;\n",
       "        }    #T_3bba79fe_e36c_11ea_bb2c_185680dbed6drow7_col1 {\n",
       "            : ;\n",
       "            text-align:  left;\n",
       "        }    #T_3bba79fe_e36c_11ea_bb2c_185680dbed6drow7_col2 {\n",
       "            text-align:  left;\n",
       "        }    #T_3bba79fe_e36c_11ea_bb2c_185680dbed6drow7_col3 {\n",
       "            : ;\n",
       "            text-align:  left;\n",
       "        }    #T_3bba79fe_e36c_11ea_bb2c_185680dbed6drow7_col4 {\n",
       "            : ;\n",
       "            text-align:  left;\n",
       "        }    #T_3bba79fe_e36c_11ea_bb2c_185680dbed6drow7_col5 {\n",
       "            : ;\n",
       "            text-align:  left;\n",
       "        }    #T_3bba79fe_e36c_11ea_bb2c_185680dbed6drow7_col6 {\n",
       "            : ;\n",
       "            text-align:  left;\n",
       "        }    #T_3bba79fe_e36c_11ea_bb2c_185680dbed6drow7_col7 {\n",
       "            : ;\n",
       "            text-align:  left;\n",
       "        }    #T_3bba79fe_e36c_11ea_bb2c_185680dbed6drow7_col8 {\n",
       "            background-color:  lightgrey;\n",
       "            text-align:  left;\n",
       "        }    #T_3bba79fe_e36c_11ea_bb2c_185680dbed6drow8_col0 {\n",
       "            text-align:  left;\n",
       "        }    #T_3bba79fe_e36c_11ea_bb2c_185680dbed6drow8_col1 {\n",
       "            : ;\n",
       "            text-align:  left;\n",
       "        }    #T_3bba79fe_e36c_11ea_bb2c_185680dbed6drow8_col2 {\n",
       "            text-align:  left;\n",
       "        }    #T_3bba79fe_e36c_11ea_bb2c_185680dbed6drow8_col3 {\n",
       "            : ;\n",
       "            text-align:  left;\n",
       "        }    #T_3bba79fe_e36c_11ea_bb2c_185680dbed6drow8_col4 {\n",
       "            : ;\n",
       "            text-align:  left;\n",
       "        }    #T_3bba79fe_e36c_11ea_bb2c_185680dbed6drow8_col5 {\n",
       "            : ;\n",
       "            text-align:  left;\n",
       "        }    #T_3bba79fe_e36c_11ea_bb2c_185680dbed6drow8_col6 {\n",
       "            : ;\n",
       "            text-align:  left;\n",
       "        }    #T_3bba79fe_e36c_11ea_bb2c_185680dbed6drow8_col7 {\n",
       "            : ;\n",
       "            text-align:  left;\n",
       "        }    #T_3bba79fe_e36c_11ea_bb2c_185680dbed6drow8_col8 {\n",
       "            background-color:  lightgrey;\n",
       "            text-align:  left;\n",
       "        }    #T_3bba79fe_e36c_11ea_bb2c_185680dbed6drow9_col0 {\n",
       "            text-align:  left;\n",
       "        }    #T_3bba79fe_e36c_11ea_bb2c_185680dbed6drow9_col1 {\n",
       "            : ;\n",
       "            text-align:  left;\n",
       "        }    #T_3bba79fe_e36c_11ea_bb2c_185680dbed6drow9_col2 {\n",
       "            text-align:  left;\n",
       "        }    #T_3bba79fe_e36c_11ea_bb2c_185680dbed6drow9_col3 {\n",
       "            : ;\n",
       "            text-align:  left;\n",
       "        }    #T_3bba79fe_e36c_11ea_bb2c_185680dbed6drow9_col4 {\n",
       "            : ;\n",
       "            text-align:  left;\n",
       "        }    #T_3bba79fe_e36c_11ea_bb2c_185680dbed6drow9_col5 {\n",
       "            : ;\n",
       "            text-align:  left;\n",
       "        }    #T_3bba79fe_e36c_11ea_bb2c_185680dbed6drow9_col6 {\n",
       "            : ;\n",
       "            text-align:  left;\n",
       "        }    #T_3bba79fe_e36c_11ea_bb2c_185680dbed6drow9_col7 {\n",
       "            : ;\n",
       "            text-align:  left;\n",
       "        }    #T_3bba79fe_e36c_11ea_bb2c_185680dbed6drow9_col8 {\n",
       "            background-color:  lightgrey;\n",
       "            text-align:  left;\n",
       "        }    #T_3bba79fe_e36c_11ea_bb2c_185680dbed6drow10_col0 {\n",
       "            text-align:  left;\n",
       "        }    #T_3bba79fe_e36c_11ea_bb2c_185680dbed6drow10_col1 {\n",
       "            : ;\n",
       "            text-align:  left;\n",
       "        }    #T_3bba79fe_e36c_11ea_bb2c_185680dbed6drow10_col2 {\n",
       "            text-align:  left;\n",
       "        }    #T_3bba79fe_e36c_11ea_bb2c_185680dbed6drow10_col3 {\n",
       "            : ;\n",
       "            text-align:  left;\n",
       "        }    #T_3bba79fe_e36c_11ea_bb2c_185680dbed6drow10_col4 {\n",
       "            : ;\n",
       "            text-align:  left;\n",
       "        }    #T_3bba79fe_e36c_11ea_bb2c_185680dbed6drow10_col5 {\n",
       "            : ;\n",
       "            text-align:  left;\n",
       "        }    #T_3bba79fe_e36c_11ea_bb2c_185680dbed6drow10_col6 {\n",
       "            : ;\n",
       "            text-align:  left;\n",
       "        }    #T_3bba79fe_e36c_11ea_bb2c_185680dbed6drow10_col7 {\n",
       "            : ;\n",
       "            text-align:  left;\n",
       "        }    #T_3bba79fe_e36c_11ea_bb2c_185680dbed6drow10_col8 {\n",
       "            background-color:  lightgrey;\n",
       "            text-align:  left;\n",
       "        }    #T_3bba79fe_e36c_11ea_bb2c_185680dbed6drow11_col0 {\n",
       "            text-align:  left;\n",
       "        }    #T_3bba79fe_e36c_11ea_bb2c_185680dbed6drow11_col1 {\n",
       "            : ;\n",
       "            text-align:  left;\n",
       "        }    #T_3bba79fe_e36c_11ea_bb2c_185680dbed6drow11_col2 {\n",
       "            text-align:  left;\n",
       "        }    #T_3bba79fe_e36c_11ea_bb2c_185680dbed6drow11_col3 {\n",
       "            : ;\n",
       "            text-align:  left;\n",
       "        }    #T_3bba79fe_e36c_11ea_bb2c_185680dbed6drow11_col4 {\n",
       "            : ;\n",
       "            text-align:  left;\n",
       "        }    #T_3bba79fe_e36c_11ea_bb2c_185680dbed6drow11_col5 {\n",
       "            : ;\n",
       "            text-align:  left;\n",
       "        }    #T_3bba79fe_e36c_11ea_bb2c_185680dbed6drow11_col6 {\n",
       "            : ;\n",
       "            text-align:  left;\n",
       "        }    #T_3bba79fe_e36c_11ea_bb2c_185680dbed6drow11_col7 {\n",
       "            : ;\n",
       "            text-align:  left;\n",
       "        }    #T_3bba79fe_e36c_11ea_bb2c_185680dbed6drow11_col8 {\n",
       "            background-color:  lightgrey;\n",
       "            text-align:  left;\n",
       "        }    #T_3bba79fe_e36c_11ea_bb2c_185680dbed6drow12_col0 {\n",
       "            text-align:  left;\n",
       "        }    #T_3bba79fe_e36c_11ea_bb2c_185680dbed6drow12_col1 {\n",
       "            : ;\n",
       "            text-align:  left;\n",
       "        }    #T_3bba79fe_e36c_11ea_bb2c_185680dbed6drow12_col2 {\n",
       "            text-align:  left;\n",
       "        }    #T_3bba79fe_e36c_11ea_bb2c_185680dbed6drow12_col3 {\n",
       "            : ;\n",
       "            text-align:  left;\n",
       "        }    #T_3bba79fe_e36c_11ea_bb2c_185680dbed6drow12_col4 {\n",
       "            : ;\n",
       "            text-align:  left;\n",
       "        }    #T_3bba79fe_e36c_11ea_bb2c_185680dbed6drow12_col5 {\n",
       "            : ;\n",
       "            text-align:  left;\n",
       "        }    #T_3bba79fe_e36c_11ea_bb2c_185680dbed6drow12_col6 {\n",
       "            : ;\n",
       "            text-align:  left;\n",
       "        }    #T_3bba79fe_e36c_11ea_bb2c_185680dbed6drow12_col7 {\n",
       "            : ;\n",
       "            text-align:  left;\n",
       "        }    #T_3bba79fe_e36c_11ea_bb2c_185680dbed6drow12_col8 {\n",
       "            background-color:  lightgrey;\n",
       "            text-align:  left;\n",
       "        }    #T_3bba79fe_e36c_11ea_bb2c_185680dbed6drow13_col0 {\n",
       "            text-align:  left;\n",
       "        }    #T_3bba79fe_e36c_11ea_bb2c_185680dbed6drow13_col1 {\n",
       "            : ;\n",
       "            text-align:  left;\n",
       "        }    #T_3bba79fe_e36c_11ea_bb2c_185680dbed6drow13_col2 {\n",
       "            text-align:  left;\n",
       "        }    #T_3bba79fe_e36c_11ea_bb2c_185680dbed6drow13_col3 {\n",
       "            : ;\n",
       "            text-align:  left;\n",
       "        }    #T_3bba79fe_e36c_11ea_bb2c_185680dbed6drow13_col4 {\n",
       "            : ;\n",
       "            text-align:  left;\n",
       "        }    #T_3bba79fe_e36c_11ea_bb2c_185680dbed6drow13_col5 {\n",
       "            : ;\n",
       "            text-align:  left;\n",
       "        }    #T_3bba79fe_e36c_11ea_bb2c_185680dbed6drow13_col6 {\n",
       "            : ;\n",
       "            text-align:  left;\n",
       "        }    #T_3bba79fe_e36c_11ea_bb2c_185680dbed6drow13_col7 {\n",
       "            : ;\n",
       "            text-align:  left;\n",
       "        }    #T_3bba79fe_e36c_11ea_bb2c_185680dbed6drow13_col8 {\n",
       "            background-color:  lightgrey;\n",
       "            text-align:  left;\n",
       "        }    #T_3bba79fe_e36c_11ea_bb2c_185680dbed6drow14_col0 {\n",
       "            text-align:  left;\n",
       "        }    #T_3bba79fe_e36c_11ea_bb2c_185680dbed6drow14_col1 {\n",
       "            : ;\n",
       "            text-align:  left;\n",
       "        }    #T_3bba79fe_e36c_11ea_bb2c_185680dbed6drow14_col2 {\n",
       "            text-align:  left;\n",
       "        }    #T_3bba79fe_e36c_11ea_bb2c_185680dbed6drow14_col3 {\n",
       "            : ;\n",
       "            text-align:  left;\n",
       "        }    #T_3bba79fe_e36c_11ea_bb2c_185680dbed6drow14_col4 {\n",
       "            : ;\n",
       "            text-align:  left;\n",
       "        }    #T_3bba79fe_e36c_11ea_bb2c_185680dbed6drow14_col5 {\n",
       "            : ;\n",
       "            text-align:  left;\n",
       "        }    #T_3bba79fe_e36c_11ea_bb2c_185680dbed6drow14_col6 {\n",
       "            : ;\n",
       "            text-align:  left;\n",
       "        }    #T_3bba79fe_e36c_11ea_bb2c_185680dbed6drow14_col7 {\n",
       "            : ;\n",
       "            text-align:  left;\n",
       "        }    #T_3bba79fe_e36c_11ea_bb2c_185680dbed6drow14_col8 {\n",
       "            background-color:  lightgrey;\n",
       "            text-align:  left;\n",
       "        }    #T_3bba79fe_e36c_11ea_bb2c_185680dbed6drow15_col0 {\n",
       "            text-align:  left;\n",
       "        }    #T_3bba79fe_e36c_11ea_bb2c_185680dbed6drow15_col1 {\n",
       "            : ;\n",
       "            text-align:  left;\n",
       "        }    #T_3bba79fe_e36c_11ea_bb2c_185680dbed6drow15_col2 {\n",
       "            text-align:  left;\n",
       "        }    #T_3bba79fe_e36c_11ea_bb2c_185680dbed6drow15_col3 {\n",
       "            : ;\n",
       "            text-align:  left;\n",
       "        }    #T_3bba79fe_e36c_11ea_bb2c_185680dbed6drow15_col4 {\n",
       "            : ;\n",
       "            text-align:  left;\n",
       "        }    #T_3bba79fe_e36c_11ea_bb2c_185680dbed6drow15_col5 {\n",
       "            : ;\n",
       "            text-align:  left;\n",
       "        }    #T_3bba79fe_e36c_11ea_bb2c_185680dbed6drow15_col6 {\n",
       "            : ;\n",
       "            text-align:  left;\n",
       "        }    #T_3bba79fe_e36c_11ea_bb2c_185680dbed6drow15_col7 {\n",
       "            : ;\n",
       "            text-align:  left;\n",
       "        }    #T_3bba79fe_e36c_11ea_bb2c_185680dbed6drow15_col8 {\n",
       "            background-color:  lightgrey;\n",
       "            text-align:  left;\n",
       "        }    #T_3bba79fe_e36c_11ea_bb2c_185680dbed6drow16_col0 {\n",
       "            text-align:  left;\n",
       "        }    #T_3bba79fe_e36c_11ea_bb2c_185680dbed6drow16_col1 {\n",
       "            : ;\n",
       "            text-align:  left;\n",
       "        }    #T_3bba79fe_e36c_11ea_bb2c_185680dbed6drow16_col2 {\n",
       "            text-align:  left;\n",
       "        }    #T_3bba79fe_e36c_11ea_bb2c_185680dbed6drow16_col3 {\n",
       "            : ;\n",
       "            text-align:  left;\n",
       "        }    #T_3bba79fe_e36c_11ea_bb2c_185680dbed6drow16_col4 {\n",
       "            : ;\n",
       "            text-align:  left;\n",
       "        }    #T_3bba79fe_e36c_11ea_bb2c_185680dbed6drow16_col5 {\n",
       "            : ;\n",
       "            text-align:  left;\n",
       "        }    #T_3bba79fe_e36c_11ea_bb2c_185680dbed6drow16_col6 {\n",
       "            : ;\n",
       "            text-align:  left;\n",
       "        }    #T_3bba79fe_e36c_11ea_bb2c_185680dbed6drow16_col7 {\n",
       "            : ;\n",
       "            text-align:  left;\n",
       "        }    #T_3bba79fe_e36c_11ea_bb2c_185680dbed6drow16_col8 {\n",
       "            background-color:  lightgrey;\n",
       "            text-align:  left;\n",
       "        }    #T_3bba79fe_e36c_11ea_bb2c_185680dbed6drow17_col0 {\n",
       "            text-align:  left;\n",
       "        }    #T_3bba79fe_e36c_11ea_bb2c_185680dbed6drow17_col1 {\n",
       "            : ;\n",
       "            text-align:  left;\n",
       "        }    #T_3bba79fe_e36c_11ea_bb2c_185680dbed6drow17_col2 {\n",
       "            text-align:  left;\n",
       "        }    #T_3bba79fe_e36c_11ea_bb2c_185680dbed6drow17_col3 {\n",
       "            : ;\n",
       "            text-align:  left;\n",
       "        }    #T_3bba79fe_e36c_11ea_bb2c_185680dbed6drow17_col4 {\n",
       "            : ;\n",
       "            text-align:  left;\n",
       "        }    #T_3bba79fe_e36c_11ea_bb2c_185680dbed6drow17_col5 {\n",
       "            : ;\n",
       "            text-align:  left;\n",
       "        }    #T_3bba79fe_e36c_11ea_bb2c_185680dbed6drow17_col6 {\n",
       "            : ;\n",
       "            text-align:  left;\n",
       "        }    #T_3bba79fe_e36c_11ea_bb2c_185680dbed6drow17_col7 {\n",
       "            : ;\n",
       "            text-align:  left;\n",
       "        }    #T_3bba79fe_e36c_11ea_bb2c_185680dbed6drow17_col8 {\n",
       "            background-color:  lightgrey;\n",
       "            text-align:  left;\n",
       "        }</style><table id=\"T_3bba79fe_e36c_11ea_bb2c_185680dbed6d\" ><thead>    <tr>        <th class=\"blank level0\" ></th>        <th class=\"col_heading level0 col0\" >Model</th>        <th class=\"col_heading level0 col1\" >Accuracy</th>        <th class=\"col_heading level0 col2\" >AUC</th>        <th class=\"col_heading level0 col3\" >Recall</th>        <th class=\"col_heading level0 col4\" >Prec.</th>        <th class=\"col_heading level0 col5\" >F1</th>        <th class=\"col_heading level0 col6\" >Kappa</th>        <th class=\"col_heading level0 col7\" >MCC</th>        <th class=\"col_heading level0 col8\" >TT (Sec)</th>    </tr></thead><tbody>\n",
       "                <tr>\n",
       "                        <th id=\"T_3bba79fe_e36c_11ea_bb2c_185680dbed6dlevel0_row0\" class=\"row_heading level0 row0\" >0</th>\n",
       "                        <td id=\"T_3bba79fe_e36c_11ea_bb2c_185680dbed6drow0_col0\" class=\"data row0 col0\" >CatBoost Classifier</td>\n",
       "                        <td id=\"T_3bba79fe_e36c_11ea_bb2c_185680dbed6drow0_col1\" class=\"data row0 col1\" >0.5800</td>\n",
       "                        <td id=\"T_3bba79fe_e36c_11ea_bb2c_185680dbed6drow0_col2\" class=\"data row0 col2\" >0.0000</td>\n",
       "                        <td id=\"T_3bba79fe_e36c_11ea_bb2c_185680dbed6drow0_col3\" class=\"data row0 col3\" >0.5536</td>\n",
       "                        <td id=\"T_3bba79fe_e36c_11ea_bb2c_185680dbed6drow0_col4\" class=\"data row0 col4\" >0.5877</td>\n",
       "                        <td id=\"T_3bba79fe_e36c_11ea_bb2c_185680dbed6drow0_col5\" class=\"data row0 col5\" >0.5618</td>\n",
       "                        <td id=\"T_3bba79fe_e36c_11ea_bb2c_185680dbed6drow0_col6\" class=\"data row0 col6\" >0.3516</td>\n",
       "                        <td id=\"T_3bba79fe_e36c_11ea_bb2c_185680dbed6drow0_col7\" class=\"data row0 col7\" >0.3652</td>\n",
       "                        <td id=\"T_3bba79fe_e36c_11ea_bb2c_185680dbed6drow0_col8\" class=\"data row0 col8\" >4.0877</td>\n",
       "            </tr>\n",
       "            <tr>\n",
       "                        <th id=\"T_3bba79fe_e36c_11ea_bb2c_185680dbed6dlevel0_row1\" class=\"row_heading level0 row1\" >1</th>\n",
       "                        <td id=\"T_3bba79fe_e36c_11ea_bb2c_185680dbed6drow1_col0\" class=\"data row1 col0\" >Extra Trees Classifier</td>\n",
       "                        <td id=\"T_3bba79fe_e36c_11ea_bb2c_185680dbed6drow1_col1\" class=\"data row1 col1\" >0.5650</td>\n",
       "                        <td id=\"T_3bba79fe_e36c_11ea_bb2c_185680dbed6drow1_col2\" class=\"data row1 col2\" >0.0000</td>\n",
       "                        <td id=\"T_3bba79fe_e36c_11ea_bb2c_185680dbed6drow1_col3\" class=\"data row1 col3\" >0.5338</td>\n",
       "                        <td id=\"T_3bba79fe_e36c_11ea_bb2c_185680dbed6drow1_col4\" class=\"data row1 col4\" >0.5760</td>\n",
       "                        <td id=\"T_3bba79fe_e36c_11ea_bb2c_185680dbed6drow1_col5\" class=\"data row1 col5\" >0.5421</td>\n",
       "                        <td id=\"T_3bba79fe_e36c_11ea_bb2c_185680dbed6drow1_col6\" class=\"data row1 col6\" >0.3217</td>\n",
       "                        <td id=\"T_3bba79fe_e36c_11ea_bb2c_185680dbed6drow1_col7\" class=\"data row1 col7\" >0.3343</td>\n",
       "                        <td id=\"T_3bba79fe_e36c_11ea_bb2c_185680dbed6drow1_col8\" class=\"data row1 col8\" >0.2153</td>\n",
       "            </tr>\n",
       "            <tr>\n",
       "                        <th id=\"T_3bba79fe_e36c_11ea_bb2c_185680dbed6dlevel0_row2\" class=\"row_heading level0 row2\" >2</th>\n",
       "                        <td id=\"T_3bba79fe_e36c_11ea_bb2c_185680dbed6drow2_col0\" class=\"data row2 col0\" >Light Gradient Boosting Machine</td>\n",
       "                        <td id=\"T_3bba79fe_e36c_11ea_bb2c_185680dbed6drow2_col1\" class=\"data row2 col1\" >0.5600</td>\n",
       "                        <td id=\"T_3bba79fe_e36c_11ea_bb2c_185680dbed6drow2_col2\" class=\"data row2 col2\" >0.0000</td>\n",
       "                        <td id=\"T_3bba79fe_e36c_11ea_bb2c_185680dbed6drow2_col3\" class=\"data row2 col3\" >0.5381</td>\n",
       "                        <td id=\"T_3bba79fe_e36c_11ea_bb2c_185680dbed6drow2_col4\" class=\"data row2 col4\" >0.5679</td>\n",
       "                        <td id=\"T_3bba79fe_e36c_11ea_bb2c_185680dbed6drow2_col5\" class=\"data row2 col5\" >0.5490</td>\n",
       "                        <td id=\"T_3bba79fe_e36c_11ea_bb2c_185680dbed6drow2_col6\" class=\"data row2 col6\" >0.3264</td>\n",
       "                        <td id=\"T_3bba79fe_e36c_11ea_bb2c_185680dbed6drow2_col7\" class=\"data row2 col7\" >0.3372</td>\n",
       "                        <td id=\"T_3bba79fe_e36c_11ea_bb2c_185680dbed6drow2_col8\" class=\"data row2 col8\" >0.0852</td>\n",
       "            </tr>\n",
       "            <tr>\n",
       "                        <th id=\"T_3bba79fe_e36c_11ea_bb2c_185680dbed6dlevel0_row3\" class=\"row_heading level0 row3\" >3</th>\n",
       "                        <td id=\"T_3bba79fe_e36c_11ea_bb2c_185680dbed6drow3_col0\" class=\"data row3 col0\" >Extreme Gradient Boosting</td>\n",
       "                        <td id=\"T_3bba79fe_e36c_11ea_bb2c_185680dbed6drow3_col1\" class=\"data row3 col1\" >0.5550</td>\n",
       "                        <td id=\"T_3bba79fe_e36c_11ea_bb2c_185680dbed6drow3_col2\" class=\"data row3 col2\" >0.0000</td>\n",
       "                        <td id=\"T_3bba79fe_e36c_11ea_bb2c_185680dbed6drow3_col3\" class=\"data row3 col3\" >0.5430</td>\n",
       "                        <td id=\"T_3bba79fe_e36c_11ea_bb2c_185680dbed6drow3_col4\" class=\"data row3 col4\" >0.5731</td>\n",
       "                        <td id=\"T_3bba79fe_e36c_11ea_bb2c_185680dbed6drow3_col5\" class=\"data row3 col5\" >0.5490</td>\n",
       "                        <td id=\"T_3bba79fe_e36c_11ea_bb2c_185680dbed6drow3_col6\" class=\"data row3 col6\" >0.3235</td>\n",
       "                        <td id=\"T_3bba79fe_e36c_11ea_bb2c_185680dbed6drow3_col7\" class=\"data row3 col7\" >0.3327</td>\n",
       "                        <td id=\"T_3bba79fe_e36c_11ea_bb2c_185680dbed6drow3_col8\" class=\"data row3 col8\" >0.1243</td>\n",
       "            </tr>\n",
       "            <tr>\n",
       "                        <th id=\"T_3bba79fe_e36c_11ea_bb2c_185680dbed6dlevel0_row4\" class=\"row_heading level0 row4\" >4</th>\n",
       "                        <td id=\"T_3bba79fe_e36c_11ea_bb2c_185680dbed6drow4_col0\" class=\"data row4 col0\" >MLP Classifier</td>\n",
       "                        <td id=\"T_3bba79fe_e36c_11ea_bb2c_185680dbed6drow4_col1\" class=\"data row4 col1\" >0.5550</td>\n",
       "                        <td id=\"T_3bba79fe_e36c_11ea_bb2c_185680dbed6drow4_col2\" class=\"data row4 col2\" >0.0000</td>\n",
       "                        <td id=\"T_3bba79fe_e36c_11ea_bb2c_185680dbed6drow4_col3\" class=\"data row4 col3\" >0.5407</td>\n",
       "                        <td id=\"T_3bba79fe_e36c_11ea_bb2c_185680dbed6drow4_col4\" class=\"data row4 col4\" >0.5714</td>\n",
       "                        <td id=\"T_3bba79fe_e36c_11ea_bb2c_185680dbed6drow4_col5\" class=\"data row4 col5\" >0.5486</td>\n",
       "                        <td id=\"T_3bba79fe_e36c_11ea_bb2c_185680dbed6drow4_col6\" class=\"data row4 col6\" >0.3231</td>\n",
       "                        <td id=\"T_3bba79fe_e36c_11ea_bb2c_185680dbed6drow4_col7\" class=\"data row4 col7\" >0.3313</td>\n",
       "                        <td id=\"T_3bba79fe_e36c_11ea_bb2c_185680dbed6drow4_col8\" class=\"data row4 col8\" >1.1797</td>\n",
       "            </tr>\n",
       "            <tr>\n",
       "                        <th id=\"T_3bba79fe_e36c_11ea_bb2c_185680dbed6dlevel0_row5\" class=\"row_heading level0 row5\" >5</th>\n",
       "                        <td id=\"T_3bba79fe_e36c_11ea_bb2c_185680dbed6drow5_col0\" class=\"data row5 col0\" >K Neighbors Classifier</td>\n",
       "                        <td id=\"T_3bba79fe_e36c_11ea_bb2c_185680dbed6drow5_col1\" class=\"data row5 col1\" >0.5450</td>\n",
       "                        <td id=\"T_3bba79fe_e36c_11ea_bb2c_185680dbed6drow5_col2\" class=\"data row5 col2\" >0.0000</td>\n",
       "                        <td id=\"T_3bba79fe_e36c_11ea_bb2c_185680dbed6drow5_col3\" class=\"data row5 col3\" >0.5195</td>\n",
       "                        <td id=\"T_3bba79fe_e36c_11ea_bb2c_185680dbed6drow5_col4\" class=\"data row5 col4\" >0.5923</td>\n",
       "                        <td id=\"T_3bba79fe_e36c_11ea_bb2c_185680dbed6drow5_col5\" class=\"data row5 col5\" >0.5303</td>\n",
       "                        <td id=\"T_3bba79fe_e36c_11ea_bb2c_185680dbed6drow5_col6\" class=\"data row5 col6\" >0.2924</td>\n",
       "                        <td id=\"T_3bba79fe_e36c_11ea_bb2c_185680dbed6drow5_col7\" class=\"data row5 col7\" >0.3049</td>\n",
       "                        <td id=\"T_3bba79fe_e36c_11ea_bb2c_185680dbed6drow5_col8\" class=\"data row5 col8\" >0.0069</td>\n",
       "            </tr>\n",
       "            <tr>\n",
       "                        <th id=\"T_3bba79fe_e36c_11ea_bb2c_185680dbed6dlevel0_row6\" class=\"row_heading level0 row6\" >6</th>\n",
       "                        <td id=\"T_3bba79fe_e36c_11ea_bb2c_185680dbed6drow6_col0\" class=\"data row6 col0\" >Quadratic Discriminant Analysis</td>\n",
       "                        <td id=\"T_3bba79fe_e36c_11ea_bb2c_185680dbed6drow6_col1\" class=\"data row6 col1\" >0.5450</td>\n",
       "                        <td id=\"T_3bba79fe_e36c_11ea_bb2c_185680dbed6drow6_col2\" class=\"data row6 col2\" >0.0000</td>\n",
       "                        <td id=\"T_3bba79fe_e36c_11ea_bb2c_185680dbed6drow6_col3\" class=\"data row6 col3\" >0.5185</td>\n",
       "                        <td id=\"T_3bba79fe_e36c_11ea_bb2c_185680dbed6drow6_col4\" class=\"data row6 col4\" >0.5580</td>\n",
       "                        <td id=\"T_3bba79fe_e36c_11ea_bb2c_185680dbed6drow6_col5\" class=\"data row6 col5\" >0.5246</td>\n",
       "                        <td id=\"T_3bba79fe_e36c_11ea_bb2c_185680dbed6drow6_col6\" class=\"data row6 col6\" >0.2922</td>\n",
       "                        <td id=\"T_3bba79fe_e36c_11ea_bb2c_185680dbed6drow6_col7\" class=\"data row6 col7\" >0.3029</td>\n",
       "                        <td id=\"T_3bba79fe_e36c_11ea_bb2c_185680dbed6drow6_col8\" class=\"data row6 col8\" >0.0078</td>\n",
       "            </tr>\n",
       "            <tr>\n",
       "                        <th id=\"T_3bba79fe_e36c_11ea_bb2c_185680dbed6dlevel0_row7\" class=\"row_heading level0 row7\" >7</th>\n",
       "                        <td id=\"T_3bba79fe_e36c_11ea_bb2c_185680dbed6drow7_col0\" class=\"data row7 col0\" >Gradient Boosting Classifier</td>\n",
       "                        <td id=\"T_3bba79fe_e36c_11ea_bb2c_185680dbed6drow7_col1\" class=\"data row7 col1\" >0.5300</td>\n",
       "                        <td id=\"T_3bba79fe_e36c_11ea_bb2c_185680dbed6drow7_col2\" class=\"data row7 col2\" >0.0000</td>\n",
       "                        <td id=\"T_3bba79fe_e36c_11ea_bb2c_185680dbed6drow7_col3\" class=\"data row7 col3\" >0.5160</td>\n",
       "                        <td id=\"T_3bba79fe_e36c_11ea_bb2c_185680dbed6drow7_col4\" class=\"data row7 col4\" >0.5388</td>\n",
       "                        <td id=\"T_3bba79fe_e36c_11ea_bb2c_185680dbed6drow7_col5\" class=\"data row7 col5\" >0.5215</td>\n",
       "                        <td id=\"T_3bba79fe_e36c_11ea_bb2c_185680dbed6drow7_col6\" class=\"data row7 col6\" >0.2821</td>\n",
       "                        <td id=\"T_3bba79fe_e36c_11ea_bb2c_185680dbed6drow7_col7\" class=\"data row7 col7\" >0.2881</td>\n",
       "                        <td id=\"T_3bba79fe_e36c_11ea_bb2c_185680dbed6drow7_col8\" class=\"data row7 col8\" >0.4300</td>\n",
       "            </tr>\n",
       "            <tr>\n",
       "                        <th id=\"T_3bba79fe_e36c_11ea_bb2c_185680dbed6dlevel0_row8\" class=\"row_heading level0 row8\" >8</th>\n",
       "                        <td id=\"T_3bba79fe_e36c_11ea_bb2c_185680dbed6drow8_col0\" class=\"data row8 col0\" >Logistic Regression</td>\n",
       "                        <td id=\"T_3bba79fe_e36c_11ea_bb2c_185680dbed6drow8_col1\" class=\"data row8 col1\" >0.5050</td>\n",
       "                        <td id=\"T_3bba79fe_e36c_11ea_bb2c_185680dbed6drow8_col2\" class=\"data row8 col2\" >0.0000</td>\n",
       "                        <td id=\"T_3bba79fe_e36c_11ea_bb2c_185680dbed6drow8_col3\" class=\"data row8 col3\" >0.4917</td>\n",
       "                        <td id=\"T_3bba79fe_e36c_11ea_bb2c_185680dbed6drow8_col4\" class=\"data row8 col4\" >0.5135</td>\n",
       "                        <td id=\"T_3bba79fe_e36c_11ea_bb2c_185680dbed6drow8_col5\" class=\"data row8 col5\" >0.4967</td>\n",
       "                        <td id=\"T_3bba79fe_e36c_11ea_bb2c_185680dbed6drow8_col6\" class=\"data row8 col6\" >0.2451</td>\n",
       "                        <td id=\"T_3bba79fe_e36c_11ea_bb2c_185680dbed6drow8_col7\" class=\"data row8 col7\" >0.2538</td>\n",
       "                        <td id=\"T_3bba79fe_e36c_11ea_bb2c_185680dbed6drow8_col8\" class=\"data row8 col8\" >0.0386</td>\n",
       "            </tr>\n",
       "            <tr>\n",
       "                        <th id=\"T_3bba79fe_e36c_11ea_bb2c_185680dbed6dlevel0_row9\" class=\"row_heading level0 row9\" >9</th>\n",
       "                        <td id=\"T_3bba79fe_e36c_11ea_bb2c_185680dbed6drow9_col0\" class=\"data row9 col0\" >Linear Discriminant Analysis</td>\n",
       "                        <td id=\"T_3bba79fe_e36c_11ea_bb2c_185680dbed6drow9_col1\" class=\"data row9 col1\" >0.5000</td>\n",
       "                        <td id=\"T_3bba79fe_e36c_11ea_bb2c_185680dbed6drow9_col2\" class=\"data row9 col2\" >0.0000</td>\n",
       "                        <td id=\"T_3bba79fe_e36c_11ea_bb2c_185680dbed6drow9_col3\" class=\"data row9 col3\" >0.4828</td>\n",
       "                        <td id=\"T_3bba79fe_e36c_11ea_bb2c_185680dbed6drow9_col4\" class=\"data row9 col4\" >0.5028</td>\n",
       "                        <td id=\"T_3bba79fe_e36c_11ea_bb2c_185680dbed6drow9_col5\" class=\"data row9 col5\" >0.4897</td>\n",
       "                        <td id=\"T_3bba79fe_e36c_11ea_bb2c_185680dbed6drow9_col6\" class=\"data row9 col6\" >0.2357</td>\n",
       "                        <td id=\"T_3bba79fe_e36c_11ea_bb2c_185680dbed6drow9_col7\" class=\"data row9 col7\" >0.2438</td>\n",
       "                        <td id=\"T_3bba79fe_e36c_11ea_bb2c_185680dbed6drow9_col8\" class=\"data row9 col8\" >0.0095</td>\n",
       "            </tr>\n",
       "            <tr>\n",
       "                        <th id=\"T_3bba79fe_e36c_11ea_bb2c_185680dbed6dlevel0_row10\" class=\"row_heading level0 row10\" >10</th>\n",
       "                        <td id=\"T_3bba79fe_e36c_11ea_bb2c_185680dbed6drow10_col0\" class=\"data row10 col0\" >Ridge Classifier</td>\n",
       "                        <td id=\"T_3bba79fe_e36c_11ea_bb2c_185680dbed6drow10_col1\" class=\"data row10 col1\" >0.4900</td>\n",
       "                        <td id=\"T_3bba79fe_e36c_11ea_bb2c_185680dbed6drow10_col2\" class=\"data row10 col2\" >0.0000</td>\n",
       "                        <td id=\"T_3bba79fe_e36c_11ea_bb2c_185680dbed6drow10_col3\" class=\"data row10 col3\" >0.4713</td>\n",
       "                        <td id=\"T_3bba79fe_e36c_11ea_bb2c_185680dbed6drow10_col4\" class=\"data row10 col4\" >0.4930</td>\n",
       "                        <td id=\"T_3bba79fe_e36c_11ea_bb2c_185680dbed6drow10_col5\" class=\"data row10 col5\" >0.4804</td>\n",
       "                        <td id=\"T_3bba79fe_e36c_11ea_bb2c_185680dbed6drow10_col6\" class=\"data row10 col6\" >0.2185</td>\n",
       "                        <td id=\"T_3bba79fe_e36c_11ea_bb2c_185680dbed6drow10_col7\" class=\"data row10 col7\" >0.2262</td>\n",
       "                        <td id=\"T_3bba79fe_e36c_11ea_bb2c_185680dbed6drow10_col8\" class=\"data row10 col8\" >0.0225</td>\n",
       "            </tr>\n",
       "            <tr>\n",
       "                        <th id=\"T_3bba79fe_e36c_11ea_bb2c_185680dbed6dlevel0_row11\" class=\"row_heading level0 row11\" >11</th>\n",
       "                        <td id=\"T_3bba79fe_e36c_11ea_bb2c_185680dbed6drow11_col0\" class=\"data row11 col0\" >Naive Bayes</td>\n",
       "                        <td id=\"T_3bba79fe_e36c_11ea_bb2c_185680dbed6drow11_col1\" class=\"data row11 col1\" >0.4800</td>\n",
       "                        <td id=\"T_3bba79fe_e36c_11ea_bb2c_185680dbed6drow11_col2\" class=\"data row11 col2\" >0.0000</td>\n",
       "                        <td id=\"T_3bba79fe_e36c_11ea_bb2c_185680dbed6drow11_col3\" class=\"data row11 col3\" >0.4585</td>\n",
       "                        <td id=\"T_3bba79fe_e36c_11ea_bb2c_185680dbed6drow11_col4\" class=\"data row11 col4\" >0.4846</td>\n",
       "                        <td id=\"T_3bba79fe_e36c_11ea_bb2c_185680dbed6drow11_col5\" class=\"data row11 col5\" >0.4691</td>\n",
       "                        <td id=\"T_3bba79fe_e36c_11ea_bb2c_185680dbed6drow11_col6\" class=\"data row11 col6\" >0.2064</td>\n",
       "                        <td id=\"T_3bba79fe_e36c_11ea_bb2c_185680dbed6drow11_col7\" class=\"data row11 col7\" >0.2150</td>\n",
       "                        <td id=\"T_3bba79fe_e36c_11ea_bb2c_185680dbed6drow11_col8\" class=\"data row11 col8\" >0.0063</td>\n",
       "            </tr>\n",
       "            <tr>\n",
       "                        <th id=\"T_3bba79fe_e36c_11ea_bb2c_185680dbed6dlevel0_row12\" class=\"row_heading level0 row12\" >12</th>\n",
       "                        <td id=\"T_3bba79fe_e36c_11ea_bb2c_185680dbed6drow12_col0\" class=\"data row12 col0\" >SVM - Linear Kernel</td>\n",
       "                        <td id=\"T_3bba79fe_e36c_11ea_bb2c_185680dbed6drow12_col1\" class=\"data row12 col1\" >0.4800</td>\n",
       "                        <td id=\"T_3bba79fe_e36c_11ea_bb2c_185680dbed6drow12_col2\" class=\"data row12 col2\" >0.0000</td>\n",
       "                        <td id=\"T_3bba79fe_e36c_11ea_bb2c_185680dbed6drow12_col3\" class=\"data row12 col3\" >0.4536</td>\n",
       "                        <td id=\"T_3bba79fe_e36c_11ea_bb2c_185680dbed6drow12_col4\" class=\"data row12 col4\" >0.4602</td>\n",
       "                        <td id=\"T_3bba79fe_e36c_11ea_bb2c_185680dbed6drow12_col5\" class=\"data row12 col5\" >0.4582</td>\n",
       "                        <td id=\"T_3bba79fe_e36c_11ea_bb2c_185680dbed6drow12_col6\" class=\"data row12 col6\" >0.1959</td>\n",
       "                        <td id=\"T_3bba79fe_e36c_11ea_bb2c_185680dbed6drow12_col7\" class=\"data row12 col7\" >0.2029</td>\n",
       "                        <td id=\"T_3bba79fe_e36c_11ea_bb2c_185680dbed6drow12_col8\" class=\"data row12 col8\" >0.0085</td>\n",
       "            </tr>\n",
       "            <tr>\n",
       "                        <th id=\"T_3bba79fe_e36c_11ea_bb2c_185680dbed6dlevel0_row13\" class=\"row_heading level0 row13\" >13</th>\n",
       "                        <td id=\"T_3bba79fe_e36c_11ea_bb2c_185680dbed6drow13_col0\" class=\"data row13 col0\" >Ada Boost Classifier</td>\n",
       "                        <td id=\"T_3bba79fe_e36c_11ea_bb2c_185680dbed6drow13_col1\" class=\"data row13 col1\" >0.4650</td>\n",
       "                        <td id=\"T_3bba79fe_e36c_11ea_bb2c_185680dbed6drow13_col2\" class=\"data row13 col2\" >0.0000</td>\n",
       "                        <td id=\"T_3bba79fe_e36c_11ea_bb2c_185680dbed6drow13_col3\" class=\"data row13 col3\" >0.4418</td>\n",
       "                        <td id=\"T_3bba79fe_e36c_11ea_bb2c_185680dbed6drow13_col4\" class=\"data row13 col4\" >0.4835</td>\n",
       "                        <td id=\"T_3bba79fe_e36c_11ea_bb2c_185680dbed6drow13_col5\" class=\"data row13 col5\" >0.4571</td>\n",
       "                        <td id=\"T_3bba79fe_e36c_11ea_bb2c_185680dbed6drow13_col6\" class=\"data row13 col6\" >0.1798</td>\n",
       "                        <td id=\"T_3bba79fe_e36c_11ea_bb2c_185680dbed6drow13_col7\" class=\"data row13 col7\" >0.1835</td>\n",
       "                        <td id=\"T_3bba79fe_e36c_11ea_bb2c_185680dbed6drow13_col8\" class=\"data row13 col8\" >0.1978</td>\n",
       "            </tr>\n",
       "            <tr>\n",
       "                        <th id=\"T_3bba79fe_e36c_11ea_bb2c_185680dbed6dlevel0_row14\" class=\"row_heading level0 row14\" >14</th>\n",
       "                        <td id=\"T_3bba79fe_e36c_11ea_bb2c_185680dbed6drow14_col0\" class=\"data row14 col0\" >Decision Tree Classifier</td>\n",
       "                        <td id=\"T_3bba79fe_e36c_11ea_bb2c_185680dbed6drow14_col1\" class=\"data row14 col1\" >0.4600</td>\n",
       "                        <td id=\"T_3bba79fe_e36c_11ea_bb2c_185680dbed6drow14_col2\" class=\"data row14 col2\" >0.0000</td>\n",
       "                        <td id=\"T_3bba79fe_e36c_11ea_bb2c_185680dbed6drow14_col3\" class=\"data row14 col3\" >0.4285</td>\n",
       "                        <td id=\"T_3bba79fe_e36c_11ea_bb2c_185680dbed6drow14_col4\" class=\"data row14 col4\" >0.4449</td>\n",
       "                        <td id=\"T_3bba79fe_e36c_11ea_bb2c_185680dbed6drow14_col5\" class=\"data row14 col5\" >0.4261</td>\n",
       "                        <td id=\"T_3bba79fe_e36c_11ea_bb2c_185680dbed6drow14_col6\" class=\"data row14 col6\" >0.1516</td>\n",
       "                        <td id=\"T_3bba79fe_e36c_11ea_bb2c_185680dbed6drow14_col7\" class=\"data row14 col7\" >0.1626</td>\n",
       "                        <td id=\"T_3bba79fe_e36c_11ea_bb2c_185680dbed6drow14_col8\" class=\"data row14 col8\" >0.0127</td>\n",
       "            </tr>\n",
       "            <tr>\n",
       "                        <th id=\"T_3bba79fe_e36c_11ea_bb2c_185680dbed6dlevel0_row15\" class=\"row_heading level0 row15\" >15</th>\n",
       "                        <td id=\"T_3bba79fe_e36c_11ea_bb2c_185680dbed6drow15_col0\" class=\"data row15 col0\" >Random Forest Classifier</td>\n",
       "                        <td id=\"T_3bba79fe_e36c_11ea_bb2c_185680dbed6drow15_col1\" class=\"data row15 col1\" >0.4500</td>\n",
       "                        <td id=\"T_3bba79fe_e36c_11ea_bb2c_185680dbed6drow15_col2\" class=\"data row15 col2\" >0.0000</td>\n",
       "                        <td id=\"T_3bba79fe_e36c_11ea_bb2c_185680dbed6drow15_col3\" class=\"data row15 col3\" >0.4206</td>\n",
       "                        <td id=\"T_3bba79fe_e36c_11ea_bb2c_185680dbed6drow15_col4\" class=\"data row15 col4\" >0.4699</td>\n",
       "                        <td id=\"T_3bba79fe_e36c_11ea_bb2c_185680dbed6drow15_col5\" class=\"data row15 col5\" >0.4284</td>\n",
       "                        <td id=\"T_3bba79fe_e36c_11ea_bb2c_185680dbed6drow15_col6\" class=\"data row15 col6\" >0.1387</td>\n",
       "                        <td id=\"T_3bba79fe_e36c_11ea_bb2c_185680dbed6drow15_col7\" class=\"data row15 col7\" >0.1442</td>\n",
       "                        <td id=\"T_3bba79fe_e36c_11ea_bb2c_185680dbed6drow15_col8\" class=\"data row15 col8\" >0.1320</td>\n",
       "            </tr>\n",
       "            <tr>\n",
       "                        <th id=\"T_3bba79fe_e36c_11ea_bb2c_185680dbed6dlevel0_row16\" class=\"row_heading level0 row16\" >16</th>\n",
       "                        <td id=\"T_3bba79fe_e36c_11ea_bb2c_185680dbed6drow16_col0\" class=\"data row16 col0\" >SVM - Radial Kernel</td>\n",
       "                        <td id=\"T_3bba79fe_e36c_11ea_bb2c_185680dbed6drow16_col1\" class=\"data row16 col1\" >0.4000</td>\n",
       "                        <td id=\"T_3bba79fe_e36c_11ea_bb2c_185680dbed6drow16_col2\" class=\"data row16 col2\" >0.0000</td>\n",
       "                        <td id=\"T_3bba79fe_e36c_11ea_bb2c_185680dbed6drow16_col3\" class=\"data row16 col3\" >0.3333</td>\n",
       "                        <td id=\"T_3bba79fe_e36c_11ea_bb2c_185680dbed6drow16_col4\" class=\"data row16 col4\" >0.1600</td>\n",
       "                        <td id=\"T_3bba79fe_e36c_11ea_bb2c_185680dbed6drow16_col5\" class=\"data row16 col5\" >0.2286</td>\n",
       "                        <td id=\"T_3bba79fe_e36c_11ea_bb2c_185680dbed6drow16_col6\" class=\"data row16 col6\" >0.0000</td>\n",
       "                        <td id=\"T_3bba79fe_e36c_11ea_bb2c_185680dbed6drow16_col7\" class=\"data row16 col7\" >0.0000</td>\n",
       "                        <td id=\"T_3bba79fe_e36c_11ea_bb2c_185680dbed6drow16_col8\" class=\"data row16 col8\" >0.0326</td>\n",
       "            </tr>\n",
       "            <tr>\n",
       "                        <th id=\"T_3bba79fe_e36c_11ea_bb2c_185680dbed6dlevel0_row17\" class=\"row_heading level0 row17\" >17</th>\n",
       "                        <td id=\"T_3bba79fe_e36c_11ea_bb2c_185680dbed6drow17_col0\" class=\"data row17 col0\" >Gaussian Process Classifier</td>\n",
       "                        <td id=\"T_3bba79fe_e36c_11ea_bb2c_185680dbed6drow17_col1\" class=\"data row17 col1\" >0.4000</td>\n",
       "                        <td id=\"T_3bba79fe_e36c_11ea_bb2c_185680dbed6drow17_col2\" class=\"data row17 col2\" >0.0000</td>\n",
       "                        <td id=\"T_3bba79fe_e36c_11ea_bb2c_185680dbed6drow17_col3\" class=\"data row17 col3\" >0.3333</td>\n",
       "                        <td id=\"T_3bba79fe_e36c_11ea_bb2c_185680dbed6drow17_col4\" class=\"data row17 col4\" >0.1600</td>\n",
       "                        <td id=\"T_3bba79fe_e36c_11ea_bb2c_185680dbed6drow17_col5\" class=\"data row17 col5\" >0.2286</td>\n",
       "                        <td id=\"T_3bba79fe_e36c_11ea_bb2c_185680dbed6drow17_col6\" class=\"data row17 col6\" >0.0000</td>\n",
       "                        <td id=\"T_3bba79fe_e36c_11ea_bb2c_185680dbed6drow17_col7\" class=\"data row17 col7\" >0.0000</td>\n",
       "                        <td id=\"T_3bba79fe_e36c_11ea_bb2c_185680dbed6drow17_col8\" class=\"data row17 col8\" >0.0881</td>\n",
       "            </tr>\n",
       "    </tbody></table>"
      ],
      "text/plain": [
       "<pandas.io.formats.style.Styler at 0x7f11bd4c63a0>"
      ]
     },
     "metadata": {},
     "output_type": "display_data"
    }
   ],
   "source": [
    "top5 = compare_models(turbo=False, n_select=5) "
   ]
  },
  {
   "cell_type": "code",
   "execution_count": 45,
   "metadata": {},
   "outputs": [],
   "source": [
    "table_top5 = pull()"
   ]
  },
  {
   "cell_type": "code",
   "execution_count": 46,
   "metadata": {},
   "outputs": [
    {
     "data": {
      "text/plain": [
       "5"
      ]
     },
     "execution_count": 46,
     "metadata": {},
     "output_type": "execute_result"
    }
   ],
   "source": [
    "len(top5)"
   ]
  },
  {
   "cell_type": "code",
   "execution_count": null,
   "metadata": {},
   "outputs": [
    {
     "data": {
      "text/html": [
       "<style  type=\"text/css\" >\n",
       "    #T_96b97b5c_e36c_11ea_bb2c_185680dbed6drow10_col0 {\n",
       "            background:  yellow;\n",
       "        }    #T_96b97b5c_e36c_11ea_bb2c_185680dbed6drow10_col1 {\n",
       "            background:  yellow;\n",
       "        }    #T_96b97b5c_e36c_11ea_bb2c_185680dbed6drow10_col2 {\n",
       "            background:  yellow;\n",
       "        }    #T_96b97b5c_e36c_11ea_bb2c_185680dbed6drow10_col3 {\n",
       "            background:  yellow;\n",
       "        }    #T_96b97b5c_e36c_11ea_bb2c_185680dbed6drow10_col4 {\n",
       "            background:  yellow;\n",
       "        }    #T_96b97b5c_e36c_11ea_bb2c_185680dbed6drow10_col5 {\n",
       "            background:  yellow;\n",
       "        }    #T_96b97b5c_e36c_11ea_bb2c_185680dbed6drow10_col6 {\n",
       "            background:  yellow;\n",
       "        }</style><table id=\"T_96b97b5c_e36c_11ea_bb2c_185680dbed6d\" ><thead>    <tr>        <th class=\"blank level0\" ></th>        <th class=\"col_heading level0 col0\" >Accuracy</th>        <th class=\"col_heading level0 col1\" >AUC</th>        <th class=\"col_heading level0 col2\" >Recall</th>        <th class=\"col_heading level0 col3\" >Prec.</th>        <th class=\"col_heading level0 col4\" >F1</th>        <th class=\"col_heading level0 col5\" >Kappa</th>        <th class=\"col_heading level0 col6\" >MCC</th>    </tr></thead><tbody>\n",
       "                <tr>\n",
       "                        <th id=\"T_96b97b5c_e36c_11ea_bb2c_185680dbed6dlevel0_row0\" class=\"row_heading level0 row0\" >0</th>\n",
       "                        <td id=\"T_96b97b5c_e36c_11ea_bb2c_185680dbed6drow0_col0\" class=\"data row0 col0\" >0.6500</td>\n",
       "                        <td id=\"T_96b97b5c_e36c_11ea_bb2c_185680dbed6drow0_col1\" class=\"data row0 col1\" >0.0000</td>\n",
       "                        <td id=\"T_96b97b5c_e36c_11ea_bb2c_185680dbed6drow0_col2\" class=\"data row0 col2\" >0.6250</td>\n",
       "                        <td id=\"T_96b97b5c_e36c_11ea_bb2c_185680dbed6drow0_col3\" class=\"data row0 col3\" >0.6311</td>\n",
       "                        <td id=\"T_96b97b5c_e36c_11ea_bb2c_185680dbed6drow0_col4\" class=\"data row0 col4\" >0.6385</td>\n",
       "                        <td id=\"T_96b97b5c_e36c_11ea_bb2c_185680dbed6drow0_col5\" class=\"data row0 col5\" >0.4656</td>\n",
       "                        <td id=\"T_96b97b5c_e36c_11ea_bb2c_185680dbed6drow0_col6\" class=\"data row0 col6\" >0.4675</td>\n",
       "            </tr>\n",
       "            <tr>\n",
       "                        <th id=\"T_96b97b5c_e36c_11ea_bb2c_185680dbed6dlevel0_row1\" class=\"row_heading level0 row1\" >1</th>\n",
       "                        <td id=\"T_96b97b5c_e36c_11ea_bb2c_185680dbed6drow1_col0\" class=\"data row1 col0\" >0.5000</td>\n",
       "                        <td id=\"T_96b97b5c_e36c_11ea_bb2c_185680dbed6drow1_col1\" class=\"data row1 col1\" >0.0000</td>\n",
       "                        <td id=\"T_96b97b5c_e36c_11ea_bb2c_185680dbed6drow1_col2\" class=\"data row1 col2\" >0.4861</td>\n",
       "                        <td id=\"T_96b97b5c_e36c_11ea_bb2c_185680dbed6drow1_col3\" class=\"data row1 col3\" >0.5000</td>\n",
       "                        <td id=\"T_96b97b5c_e36c_11ea_bb2c_185680dbed6drow1_col4\" class=\"data row1 col4\" >0.4949</td>\n",
       "                        <td id=\"T_96b97b5c_e36c_11ea_bb2c_185680dbed6drow1_col5\" class=\"data row1 col5\" >0.2308</td>\n",
       "                        <td id=\"T_96b97b5c_e36c_11ea_bb2c_185680dbed6drow1_col6\" class=\"data row1 col6\" >0.2335</td>\n",
       "            </tr>\n",
       "            <tr>\n",
       "                        <th id=\"T_96b97b5c_e36c_11ea_bb2c_185680dbed6dlevel0_row2\" class=\"row_heading level0 row2\" >2</th>\n",
       "                        <td id=\"T_96b97b5c_e36c_11ea_bb2c_185680dbed6drow2_col0\" class=\"data row2 col0\" >0.5000</td>\n",
       "                        <td id=\"T_96b97b5c_e36c_11ea_bb2c_185680dbed6drow2_col1\" class=\"data row2 col1\" >0.0000</td>\n",
       "                        <td id=\"T_96b97b5c_e36c_11ea_bb2c_185680dbed6drow2_col2\" class=\"data row2 col2\" >0.4595</td>\n",
       "                        <td id=\"T_96b97b5c_e36c_11ea_bb2c_185680dbed6drow2_col3\" class=\"data row2 col3\" >0.4733</td>\n",
       "                        <td id=\"T_96b97b5c_e36c_11ea_bb2c_185680dbed6drow2_col4\" class=\"data row2 col4\" >0.4792</td>\n",
       "                        <td id=\"T_96b97b5c_e36c_11ea_bb2c_185680dbed6drow2_col5\" class=\"data row2 col5\" >0.2188</td>\n",
       "                        <td id=\"T_96b97b5c_e36c_11ea_bb2c_185680dbed6drow2_col6\" class=\"data row2 col6\" >0.2224</td>\n",
       "            </tr>\n",
       "            <tr>\n",
       "                        <th id=\"T_96b97b5c_e36c_11ea_bb2c_185680dbed6dlevel0_row3\" class=\"row_heading level0 row3\" >3</th>\n",
       "                        <td id=\"T_96b97b5c_e36c_11ea_bb2c_185680dbed6drow3_col0\" class=\"data row3 col0\" >0.4500</td>\n",
       "                        <td id=\"T_96b97b5c_e36c_11ea_bb2c_185680dbed6drow3_col1\" class=\"data row3 col1\" >0.0000</td>\n",
       "                        <td id=\"T_96b97b5c_e36c_11ea_bb2c_185680dbed6drow3_col2\" class=\"data row3 col2\" >0.4369</td>\n",
       "                        <td id=\"T_96b97b5c_e36c_11ea_bb2c_185680dbed6drow3_col3\" class=\"data row3 col3\" >0.4882</td>\n",
       "                        <td id=\"T_96b97b5c_e36c_11ea_bb2c_185680dbed6drow3_col4\" class=\"data row3 col4\" >0.4603</td>\n",
       "                        <td id=\"T_96b97b5c_e36c_11ea_bb2c_185680dbed6drow3_col5\" class=\"data row3 col5\" >0.1822</td>\n",
       "                        <td id=\"T_96b97b5c_e36c_11ea_bb2c_185680dbed6drow3_col6\" class=\"data row3 col6\" >0.1870</td>\n",
       "            </tr>\n",
       "            <tr>\n",
       "                        <th id=\"T_96b97b5c_e36c_11ea_bb2c_185680dbed6dlevel0_row4\" class=\"row_heading level0 row4\" >4</th>\n",
       "                        <td id=\"T_96b97b5c_e36c_11ea_bb2c_185680dbed6drow4_col0\" class=\"data row4 col0\" >0.4000</td>\n",
       "                        <td id=\"T_96b97b5c_e36c_11ea_bb2c_185680dbed6drow4_col1\" class=\"data row4 col1\" >0.0000</td>\n",
       "                        <td id=\"T_96b97b5c_e36c_11ea_bb2c_185680dbed6drow4_col2\" class=\"data row4 col2\" >0.4012</td>\n",
       "                        <td id=\"T_96b97b5c_e36c_11ea_bb2c_185680dbed6drow4_col3\" class=\"data row4 col3\" >0.4881</td>\n",
       "                        <td id=\"T_96b97b5c_e36c_11ea_bb2c_185680dbed6drow4_col4\" class=\"data row4 col4\" >0.4146</td>\n",
       "                        <td id=\"T_96b97b5c_e36c_11ea_bb2c_185680dbed6drow4_col5\" class=\"data row4 col5\" >0.1111</td>\n",
       "                        <td id=\"T_96b97b5c_e36c_11ea_bb2c_185680dbed6drow4_col6\" class=\"data row4 col6\" >0.1163</td>\n",
       "            </tr>\n",
       "            <tr>\n",
       "                        <th id=\"T_96b97b5c_e36c_11ea_bb2c_185680dbed6dlevel0_row5\" class=\"row_heading level0 row5\" >5</th>\n",
       "                        <td id=\"T_96b97b5c_e36c_11ea_bb2c_185680dbed6drow5_col0\" class=\"data row5 col0\" >0.6500</td>\n",
       "                        <td id=\"T_96b97b5c_e36c_11ea_bb2c_185680dbed6drow5_col1\" class=\"data row5 col1\" >0.0000</td>\n",
       "                        <td id=\"T_96b97b5c_e36c_11ea_bb2c_185680dbed6drow5_col2\" class=\"data row5 col2\" >0.6536</td>\n",
       "                        <td id=\"T_96b97b5c_e36c_11ea_bb2c_185680dbed6drow5_col3\" class=\"data row5 col3\" >0.6217</td>\n",
       "                        <td id=\"T_96b97b5c_e36c_11ea_bb2c_185680dbed6drow5_col4\" class=\"data row5 col4\" >0.6202</td>\n",
       "                        <td id=\"T_96b97b5c_e36c_11ea_bb2c_185680dbed6drow5_col5\" class=\"data row5 col5\" >0.4656</td>\n",
       "                        <td id=\"T_96b97b5c_e36c_11ea_bb2c_185680dbed6drow5_col6\" class=\"data row5 col6\" >0.4786</td>\n",
       "            </tr>\n",
       "            <tr>\n",
       "                        <th id=\"T_96b97b5c_e36c_11ea_bb2c_185680dbed6dlevel0_row6\" class=\"row_heading level0 row6\" >6</th>\n",
       "                        <td id=\"T_96b97b5c_e36c_11ea_bb2c_185680dbed6drow6_col0\" class=\"data row6 col0\" >0.3500</td>\n",
       "                        <td id=\"T_96b97b5c_e36c_11ea_bb2c_185680dbed6drow6_col1\" class=\"data row6 col1\" >0.0000</td>\n",
       "                        <td id=\"T_96b97b5c_e36c_11ea_bb2c_185680dbed6drow6_col2\" class=\"data row6 col2\" >0.3464</td>\n",
       "                        <td id=\"T_96b97b5c_e36c_11ea_bb2c_185680dbed6drow6_col3\" class=\"data row6 col3\" >0.3083</td>\n",
       "                        <td id=\"T_96b97b5c_e36c_11ea_bb2c_185680dbed6drow6_col4\" class=\"data row6 col4\" >0.3064</td>\n",
       "                        <td id=\"T_96b97b5c_e36c_11ea_bb2c_185680dbed6drow6_col5\" class=\"data row6 col5\" >0.0152</td>\n",
       "                        <td id=\"T_96b97b5c_e36c_11ea_bb2c_185680dbed6drow6_col6\" class=\"data row6 col6\" >0.0165</td>\n",
       "            </tr>\n",
       "            <tr>\n",
       "                        <th id=\"T_96b97b5c_e36c_11ea_bb2c_185680dbed6dlevel0_row7\" class=\"row_heading level0 row7\" >7</th>\n",
       "                        <td id=\"T_96b97b5c_e36c_11ea_bb2c_185680dbed6drow7_col0\" class=\"data row7 col0\" >0.5000</td>\n",
       "                        <td id=\"T_96b97b5c_e36c_11ea_bb2c_185680dbed6drow7_col1\" class=\"data row7 col1\" >0.0000</td>\n",
       "                        <td id=\"T_96b97b5c_e36c_11ea_bb2c_185680dbed6drow7_col2\" class=\"data row7 col2\" >0.4595</td>\n",
       "                        <td id=\"T_96b97b5c_e36c_11ea_bb2c_185680dbed6drow7_col3\" class=\"data row7 col3\" >0.4917</td>\n",
       "                        <td id=\"T_96b97b5c_e36c_11ea_bb2c_185680dbed6drow7_col4\" class=\"data row7 col4\" >0.4939</td>\n",
       "                        <td id=\"T_96b97b5c_e36c_11ea_bb2c_185680dbed6drow7_col5\" class=\"data row7 col5\" >0.2337</td>\n",
       "                        <td id=\"T_96b97b5c_e36c_11ea_bb2c_185680dbed6drow7_col6\" class=\"data row7 col6\" >0.2346</td>\n",
       "            </tr>\n",
       "            <tr>\n",
       "                        <th id=\"T_96b97b5c_e36c_11ea_bb2c_185680dbed6dlevel0_row8\" class=\"row_heading level0 row8\" >8</th>\n",
       "                        <td id=\"T_96b97b5c_e36c_11ea_bb2c_185680dbed6drow8_col0\" class=\"data row8 col0\" >0.6000</td>\n",
       "                        <td id=\"T_96b97b5c_e36c_11ea_bb2c_185680dbed6drow8_col1\" class=\"data row8 col1\" >0.0000</td>\n",
       "                        <td id=\"T_96b97b5c_e36c_11ea_bb2c_185680dbed6drow8_col2\" class=\"data row8 col2\" >0.6119</td>\n",
       "                        <td id=\"T_96b97b5c_e36c_11ea_bb2c_185680dbed6drow8_col3\" class=\"data row8 col3\" >0.5800</td>\n",
       "                        <td id=\"T_96b97b5c_e36c_11ea_bb2c_185680dbed6drow8_col4\" class=\"data row8 col4\" >0.5833</td>\n",
       "                        <td id=\"T_96b97b5c_e36c_11ea_bb2c_185680dbed6drow8_col5\" class=\"data row8 col5\" >0.3846</td>\n",
       "                        <td id=\"T_96b97b5c_e36c_11ea_bb2c_185680dbed6drow8_col6\" class=\"data row8 col6\" >0.3907</td>\n",
       "            </tr>\n",
       "            <tr>\n",
       "                        <th id=\"T_96b97b5c_e36c_11ea_bb2c_185680dbed6dlevel0_row9\" class=\"row_heading level0 row9\" >9</th>\n",
       "                        <td id=\"T_96b97b5c_e36c_11ea_bb2c_185680dbed6drow9_col0\" class=\"data row9 col0\" >0.5500</td>\n",
       "                        <td id=\"T_96b97b5c_e36c_11ea_bb2c_185680dbed6drow9_col1\" class=\"data row9 col1\" >0.0000</td>\n",
       "                        <td id=\"T_96b97b5c_e36c_11ea_bb2c_185680dbed6drow9_col2\" class=\"data row9 col2\" >0.5262</td>\n",
       "                        <td id=\"T_96b97b5c_e36c_11ea_bb2c_185680dbed6drow9_col3\" class=\"data row9 col3\" >0.5417</td>\n",
       "                        <td id=\"T_96b97b5c_e36c_11ea_bb2c_185680dbed6drow9_col4\" class=\"data row9 col4\" >0.5435</td>\n",
       "                        <td id=\"T_96b97b5c_e36c_11ea_bb2c_185680dbed6drow9_col5\" class=\"data row9 col5\" >0.3050</td>\n",
       "                        <td id=\"T_96b97b5c_e36c_11ea_bb2c_185680dbed6drow9_col6\" class=\"data row9 col6\" >0.3062</td>\n",
       "            </tr>\n",
       "            <tr>\n",
       "                        <th id=\"T_96b97b5c_e36c_11ea_bb2c_185680dbed6dlevel0_row10\" class=\"row_heading level0 row10\" >Mean</th>\n",
       "                        <td id=\"T_96b97b5c_e36c_11ea_bb2c_185680dbed6drow10_col0\" class=\"data row10 col0\" >0.5150</td>\n",
       "                        <td id=\"T_96b97b5c_e36c_11ea_bb2c_185680dbed6drow10_col1\" class=\"data row10 col1\" >0.0000</td>\n",
       "                        <td id=\"T_96b97b5c_e36c_11ea_bb2c_185680dbed6drow10_col2\" class=\"data row10 col2\" >0.5006</td>\n",
       "                        <td id=\"T_96b97b5c_e36c_11ea_bb2c_185680dbed6drow10_col3\" class=\"data row10 col3\" >0.5124</td>\n",
       "                        <td id=\"T_96b97b5c_e36c_11ea_bb2c_185680dbed6drow10_col4\" class=\"data row10 col4\" >0.5035</td>\n",
       "                        <td id=\"T_96b97b5c_e36c_11ea_bb2c_185680dbed6drow10_col5\" class=\"data row10 col5\" >0.2613</td>\n",
       "                        <td id=\"T_96b97b5c_e36c_11ea_bb2c_185680dbed6drow10_col6\" class=\"data row10 col6\" >0.2653</td>\n",
       "            </tr>\n",
       "            <tr>\n",
       "                        <th id=\"T_96b97b5c_e36c_11ea_bb2c_185680dbed6dlevel0_row11\" class=\"row_heading level0 row11\" >SD</th>\n",
       "                        <td id=\"T_96b97b5c_e36c_11ea_bb2c_185680dbed6drow11_col0\" class=\"data row11 col0\" >0.0950</td>\n",
       "                        <td id=\"T_96b97b5c_e36c_11ea_bb2c_185680dbed6drow11_col1\" class=\"data row11 col1\" >0.0000</td>\n",
       "                        <td id=\"T_96b97b5c_e36c_11ea_bb2c_185680dbed6drow11_col2\" class=\"data row11 col2\" >0.0965</td>\n",
       "                        <td id=\"T_96b97b5c_e36c_11ea_bb2c_185680dbed6drow11_col3\" class=\"data row11 col3\" >0.0874</td>\n",
       "                        <td id=\"T_96b97b5c_e36c_11ea_bb2c_185680dbed6drow11_col4\" class=\"data row11 col4\" >0.0944</td>\n",
       "                        <td id=\"T_96b97b5c_e36c_11ea_bb2c_185680dbed6drow11_col5\" class=\"data row11 col5\" >0.1391</td>\n",
       "                        <td id=\"T_96b97b5c_e36c_11ea_bb2c_185680dbed6drow11_col6\" class=\"data row11 col6\" >0.1406</td>\n",
       "            </tr>\n",
       "    </tbody></table>"
      ],
      "text/plain": [
       "<pandas.io.formats.style.Styler at 0x7f11bd153340>"
      ]
     },
     "metadata": {},
     "output_type": "display_data"
    },
    {
     "data": {
      "application/vnd.jupyter.widget-view+json": {
       "model_id": "23164dacba704ac5be26e686a764dbb2",
       "version_major": 2,
       "version_minor": 0
      },
      "text/plain": [
       "IntProgress(value=0, description='Processing: ', max=16)"
      ]
     },
     "metadata": {},
     "output_type": "display_data"
    },
    {
     "data": {
      "text/html": [
       "<div>\n",
       "<style scoped>\n",
       "    .dataframe tbody tr th:only-of-type {\n",
       "        vertical-align: middle;\n",
       "    }\n",
       "\n",
       "    .dataframe tbody tr th {\n",
       "        vertical-align: top;\n",
       "    }\n",
       "\n",
       "    .dataframe thead th {\n",
       "        text-align: right;\n",
       "    }\n",
       "</style>\n",
       "<table border=\"1\" class=\"dataframe\">\n",
       "  <thead>\n",
       "    <tr style=\"text-align: right;\">\n",
       "      <th></th>\n",
       "      <th></th>\n",
       "      <th></th>\n",
       "    </tr>\n",
       "    <tr>\n",
       "      <th></th>\n",
       "      <th></th>\n",
       "      <th></th>\n",
       "    </tr>\n",
       "  </thead>\n",
       "  <tbody>\n",
       "    <tr>\n",
       "      <th>Initiated</th>\n",
       "      <td>. . . . . . . . . . . . . . . . . .</td>\n",
       "      <td>17:10:11</td>\n",
       "    </tr>\n",
       "    <tr>\n",
       "      <th>Status</th>\n",
       "      <td>. . . . . . . . . . . . . . . . . .</td>\n",
       "      <td>Searching Hyperparameters</td>\n",
       "    </tr>\n",
       "    <tr>\n",
       "      <th>ETC</th>\n",
       "      <td>. . . . . . . . . . . . . . . . . .</td>\n",
       "      <td>Calculating ETC</td>\n",
       "    </tr>\n",
       "  </tbody>\n",
       "</table>\n",
       "</div>"
      ],
      "text/plain": [
       "                                                                         \n",
       "                                                                         \n",
       "Initiated  . . . . . . . . . . . . . . . . . .                   17:10:11\n",
       "Status     . . . . . . . . . . . . . . . . . .  Searching Hyperparameters\n",
       "ETC        . . . . . . . . . . . . . . . . . .            Calculating ETC"
      ]
     },
     "metadata": {},
     "output_type": "display_data"
    },
    {
     "data": {
      "text/html": [
       "<div>\n",
       "<style scoped>\n",
       "    .dataframe tbody tr th:only-of-type {\n",
       "        vertical-align: middle;\n",
       "    }\n",
       "\n",
       "    .dataframe tbody tr th {\n",
       "        vertical-align: top;\n",
       "    }\n",
       "\n",
       "    .dataframe thead th {\n",
       "        text-align: right;\n",
       "    }\n",
       "</style>\n",
       "<table border=\"1\" class=\"dataframe\">\n",
       "  <thead>\n",
       "    <tr style=\"text-align: right;\">\n",
       "      <th></th>\n",
       "      <th>Accuracy</th>\n",
       "      <th>AUC</th>\n",
       "      <th>Recall</th>\n",
       "      <th>Prec.</th>\n",
       "      <th>F1</th>\n",
       "      <th>Kappa</th>\n",
       "      <th>MCC</th>\n",
       "    </tr>\n",
       "  </thead>\n",
       "  <tbody>\n",
       "  </tbody>\n",
       "</table>\n",
       "</div>"
      ],
      "text/plain": [
       "Empty DataFrame\n",
       "Columns: [Accuracy, AUC, Recall, Prec., F1, Kappa, MCC]\n",
       "Index: []"
      ]
     },
     "metadata": {},
     "output_type": "display_data"
    }
   ],
   "source": [
    "tuned_top5 = [tune_model(i) for i in top5]"
   ]
  },
  {
   "cell_type": "code",
   "execution_count": null,
   "metadata": {},
   "outputs": [],
   "source": [
    "table_tuned_top5 = pull()"
   ]
  },
  {
   "cell_type": "markdown",
   "metadata": {},
   "source": [
    "### score the models on the test data "
   ]
  },
  {
   "cell_type": "code",
   "execution_count": null,
   "metadata": {},
   "outputs": [],
   "source": [
    "def score(model): \n",
    "    try: \n",
    "        return model.score(test_data_df.iloc[:,:-1], test_data.iloc[:,-1])\n",
    "    except: \n",
    "        return np.nan"
   ]
  },
  {
   "cell_type": "code",
   "execution_count": null,
   "metadata": {},
   "outputs": [],
   "source": [
    "scores = []\n",
    "for model in tuned_top5: \n",
    "    try:\n",
    "        scores.append(score(model)) \n",
    "    except:\n",
    "        print(f\"could not evaluate model {model} on the test set\")\n",
    "        pass"
   ]
  },
  {
   "cell_type": "code",
   "execution_count": null,
   "metadata": {},
   "outputs": [],
   "source": [
    "scores"
   ]
  },
  {
   "cell_type": "markdown",
   "metadata": {},
   "source": [
    "### finalize (i.e. retrain on the whole training set)"
   ]
  },
  {
   "cell_type": "code",
   "execution_count": null,
   "metadata": {},
   "outputs": [],
   "source": [
    "tuned_top5_finalized = list(map(finalize_model, tuned_top5))"
   ]
  },
  {
   "cell_type": "code",
   "execution_count": null,
   "metadata": {},
   "outputs": [],
   "source": [
    "list(map(score, tuned_top5_finalized))"
   ]
  },
  {
   "cell_type": "markdown",
   "metadata": {},
   "source": [
    "### blend all models in the libary"
   ]
  },
  {
   "cell_type": "markdown",
   "metadata": {},
   "source": [
    "Blending models is a method of ensembling which uses consensus among estimators to generate final predictions. The idea behind blending is to combine different machine learning algorithms and use a majority vote or the average predicted probabilities in case of classification to predict the final outcome. Blending models in PyCaret is as simple as writing blend_models. This function can be used to blend specific trained models that can be passed using estimator_list parameter within blend_models or if no list is passed, it will use all the models in model library. In case of Classification, method parameter can be used to define ‘soft‘ or ‘hard‘ where soft uses predicted probabilities for voting and hard uses predicted labels. This functions returns a table with k-fold cross validated scores of common evaluation metrics along with trained model object. The evaluation metrics used are:"
   ]
  },
  {
   "cell_type": "code",
   "execution_count": null,
   "metadata": {},
   "outputs": [],
   "source": [
    "blender = blend_models(method='soft')"
   ]
  },
  {
   "cell_type": "code",
   "execution_count": null,
   "metadata": {},
   "outputs": [],
   "source": [
    "table_blender = pull()"
   ]
  },
  {
   "cell_type": "markdown",
   "metadata": {},
   "source": [
    "### score the blender on the test data "
   ]
  },
  {
   "cell_type": "code",
   "execution_count": null,
   "metadata": {},
   "outputs": [],
   "source": [
    "score(blender)"
   ]
  },
  {
   "cell_type": "markdown",
   "metadata": {},
   "source": [
    "------"
   ]
  },
  {
   "cell_type": "markdown",
   "metadata": {},
   "source": [
    "### Now re-tune the best model "
   ]
  },
  {
   "cell_type": "code",
   "execution_count": null,
   "metadata": {},
   "outputs": [],
   "source": [
    "best_model = tune_model(top5[0], choose_better=True)"
   ]
  },
  {
   "cell_type": "code",
   "execution_count": null,
   "metadata": {},
   "outputs": [],
   "source": [
    "table_best_model = pull()"
   ]
  },
  {
   "cell_type": "markdown",
   "metadata": {},
   "source": [
    "### score over the test set "
   ]
  },
  {
   "cell_type": "code",
   "execution_count": null,
   "metadata": {},
   "outputs": [],
   "source": [
    "score(best_model)"
   ]
  },
  {
   "cell_type": "markdown",
   "metadata": {},
   "source": [
    "### retrain the model over the whole training set "
   ]
  },
  {
   "cell_type": "code",
   "execution_count": null,
   "metadata": {},
   "outputs": [],
   "source": [
    "retrained_best_model = finalize_model(best_model)"
   ]
  },
  {
   "cell_type": "code",
   "execution_count": null,
   "metadata": {},
   "outputs": [],
   "source": [
    "score(retrained_best_model)"
   ]
  },
  {
   "cell_type": "markdown",
   "metadata": {},
   "source": [
    "### Now save the notebook in HTML and rename to reflect the parameters of the experiment "
   ]
  },
  {
   "cell_type": "code",
   "execution_count": null,
   "metadata": {},
   "outputs": [],
   "source": [
    "notebook_name='pycaret_v2_wPCA.ipynb'"
   ]
  },
  {
   "cell_type": "code",
   "execution_count": null,
   "metadata": {},
   "outputs": [],
   "source": [
    "!jupyter nbconvert --to html {notebook_name}"
   ]
  },
  {
   "cell_type": "code",
   "execution_count": null,
   "metadata": {},
   "outputs": [],
   "source": [
    "savepath = pathlib.Path('./saved_notebooks/')"
   ]
  },
  {
   "cell_type": "code",
   "execution_count": null,
   "metadata": {},
   "outputs": [],
   "source": [
    "if not savepath.exists(): \n",
    "    savepath.mkdir(parents=True)"
   ]
  },
  {
   "cell_type": "code",
   "execution_count": null,
   "metadata": {},
   "outputs": [],
   "source": [
    "output_name = savepath.joinpath(f\"pycaret_classification_{log_name}.html\")"
   ]
  },
  {
   "cell_type": "code",
   "execution_count": null,
   "metadata": {},
   "outputs": [],
   "source": [
    "pathlib.Path('./pycaret_v2_wPCA.html').rename(output_name)"
   ]
  },
  {
   "cell_type": "code",
   "execution_count": null,
   "metadata": {},
   "outputs": [],
   "source": []
  }
 ],
 "metadata": {
  "kernelspec": {
   "display_name": "Python 3",
   "language": "python",
   "name": "python3"
  },
  "language_info": {
   "codemirror_mode": {
    "name": "ipython",
    "version": 3
   },
   "file_extension": ".py",
   "mimetype": "text/x-python",
   "name": "python",
   "nbconvert_exporter": "python",
   "pygments_lexer": "ipython3",
   "version": "3.8.5"
  }
 },
 "nbformat": 4,
 "nbformat_minor": 4
}
