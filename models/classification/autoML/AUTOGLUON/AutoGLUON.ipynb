{
 "cells": [
  {
   "cell_type": "markdown",
   "metadata": {},
   "source": [
    "## AUTOGLUON experiments using the formatted CSV files as inputs"
   ]
  },
  {
   "cell_type": "markdown",
   "metadata": {},
   "source": [
    "### check the environment first "
   ]
  },
  {
   "cell_type": "code",
   "execution_count": 1,
   "metadata": {},
   "outputs": [],
   "source": [
    "import sys"
   ]
  },
  {
   "cell_type": "code",
   "execution_count": 2,
   "metadata": {},
   "outputs": [
    {
     "name": "stdout",
     "output_type": "stream",
     "text": [
      "/home/nicolasf/anaconda3/envs/ML/bin/python\n"
     ]
    }
   ],
   "source": [
    "print(sys.executable) "
   ]
  },
  {
   "cell_type": "code",
   "execution_count": 3,
   "metadata": {},
   "outputs": [],
   "source": [
    "# Parameters \n",
    "\n",
    "GCM = 'ECMWF'\n",
    "var_name = 'TMEAN'\n",
    "target_type = 'cat3_categories'\n",
    "region_name = 'NNI'\n",
    "skpca = True \n",
    "standardized = False"
   ]
  },
  {
   "cell_type": "markdown",
   "metadata": {},
   "source": [
    "### load external modules "
   ]
  },
  {
   "cell_type": "code",
   "execution_count": 4,
   "metadata": {},
   "outputs": [],
   "source": [
    "%matplotlib inline"
   ]
  },
  {
   "cell_type": "code",
   "execution_count": 5,
   "metadata": {},
   "outputs": [],
   "source": [
    "import os\n",
    "import pathlib\n",
    "from shutil import copytree, rmtree"
   ]
  },
  {
   "cell_type": "code",
   "execution_count": 6,
   "metadata": {},
   "outputs": [],
   "source": [
    "from datetime import datetime, timedelta\n",
    "from dateutil.relativedelta import relativedelta"
   ]
  },
  {
   "cell_type": "code",
   "execution_count": 7,
   "metadata": {},
   "outputs": [],
   "source": [
    "HOME = pathlib.Path.home()"
   ]
  },
  {
   "cell_type": "code",
   "execution_count": 8,
   "metadata": {},
   "outputs": [],
   "source": [
    "from matplotlib import pyplot as plt"
   ]
  },
  {
   "cell_type": "code",
   "execution_count": 9,
   "metadata": {},
   "outputs": [],
   "source": [
    "import proplot as plot"
   ]
  },
  {
   "cell_type": "code",
   "execution_count": 10,
   "metadata": {},
   "outputs": [],
   "source": [
    "import numpy as np\n",
    "import pandas as pd"
   ]
  },
  {
   "cell_type": "code",
   "execution_count": 11,
   "metadata": {},
   "outputs": [],
   "source": [
    "import sklearn \n",
    "from sklearn.preprocessing import StandardScaler\n",
    "from sklearn.decomposition import pca"
   ]
  },
  {
   "cell_type": "markdown",
   "metadata": {},
   "source": [
    "### import autogluon, tabular prediction, see [https://autogluon.mxnet.io/tutorials/tabular_prediction/tabular-quickstart.html](https://autogluon.mxnet.io/tutorials/tabular_prediction/tabular-quickstart.html)"
   ]
  },
  {
   "cell_type": "code",
   "execution_count": 12,
   "metadata": {},
   "outputs": [
    {
     "name": "stderr",
     "output_type": "stream",
     "text": [
      "/home/nicolasf/anaconda3/envs/ML/lib/python3.7/site-packages/mxnet/optimizer/optimizer.py:167: UserWarning: WARNING: New optimizer gluonnlp.optimizer.lamb.LAMB is overriding existing optimizer mxnet.optimizer.optimizer.LAMB\n",
      "  Optimizer.opt_registry[name].__name__))\n"
     ]
    }
   ],
   "source": [
    "import autogluon as ag\n",
    "from autogluon import TabularPrediction as task"
   ]
  },
  {
   "cell_type": "markdown",
   "metadata": {},
   "source": [
    "### load local modules "
   ]
  },
  {
   "cell_type": "code",
   "execution_count": 13,
   "metadata": {},
   "outputs": [],
   "source": [
    "sys.path.append('../../../../ml4seas/')"
   ]
  },
  {
   "cell_type": "code",
   "execution_count": 14,
   "metadata": {},
   "outputs": [],
   "source": [
    "from GCM import prepare_data_CSV_to_AUTOML"
   ]
  },
  {
   "cell_type": "code",
   "execution_count": 15,
   "metadata": {},
   "outputs": [],
   "source": [
    "dpath = HOME / 'research' / 'Smart_Ideas' / 'outputs' / 'CSVs'"
   ]
  },
  {
   "cell_type": "code",
   "execution_count": 16,
   "metadata": {},
   "outputs": [
    {
     "data": {
      "text/plain": [
       "[PosixPath('/home/nicolasf/research/Smart_Ideas/outputs/CSVs/GCMs_std_and_targets_cat3_and_anomalies_RAIN_test_set.csv'),\n",
       " PosixPath('/home/nicolasf/research/Smart_Ideas/outputs/CSVs/GCMs_and_targets_cat3_and_anomalies_TMEAN_training_set.csv'),\n",
       " PosixPath('/home/nicolasf/research/Smart_Ideas/outputs/CSVs/GCMs_std_and_targets_cat3_and_anomalies_TMEAN_training_set.csv'),\n",
       " PosixPath('/home/nicolasf/research/Smart_Ideas/outputs/CSVs/GCMs_and_targets_cat3_and_anomalies_RAIN_test_set.csv'),\n",
       " PosixPath('/home/nicolasf/research/Smart_Ideas/outputs/CSVs/GCMs_std_and_targets_cat3_and_anomalies_RAIN_training_set.csv'),\n",
       " PosixPath('/home/nicolasf/research/Smart_Ideas/outputs/CSVs/GCMs_std_and_targets_cat3_and_anomalies_TMEAN_test_set.csv'),\n",
       " PosixPath('/home/nicolasf/research/Smart_Ideas/outputs/CSVs/GCMs_and_targets_cat3_and_anomalies_TMEAN_test_set.csv'),\n",
       " PosixPath('/home/nicolasf/research/Smart_Ideas/outputs/CSVs/GCMs_and_targets_cat3_and_anomalies_RAIN_training_set.csv')]"
      ]
     },
     "execution_count": 16,
     "metadata": {},
     "output_type": "execute_result"
    }
   ],
   "source": [
    "list(dpath.glob(\"*.csv\"))"
   ]
  },
  {
   "cell_type": "code",
   "execution_count": 17,
   "metadata": {},
   "outputs": [],
   "source": [
    "if standardized: \n",
    "    train_data = pd.read_csv(dpath / f'GCMs_std_and_targets_cat3_and_anomalies_{var_name}_training_set.csv', index_col=0, parse_dates=True) \n",
    "    test_data = pd.read_csv(dpath / f'GCMs_std_and_targets_cat3_and_anomalies_{var_name}_test_set.csv', index_col=0, parse_dates=True)\n",
    "else: \n",
    "    train_data = pd.read_csv(dpath / f'GCMs_and_targets_cat3_and_anomalies_{var_name}_training_set.csv', index_col=0, parse_dates=True) \n",
    "    test_data = pd.read_csv(dpath / f'GCMs_and_targets_cat3_and_anomalies_{var_name}_test_set.csv', index_col=0, parse_dates=True)    "
   ]
  },
  {
   "cell_type": "markdown",
   "metadata": {},
   "source": [
    "### get the training data "
   ]
  },
  {
   "cell_type": "code",
   "execution_count": 18,
   "metadata": {},
   "outputs": [
    {
     "name": "stderr",
     "output_type": "stream",
     "text": [
      "Note: NumExpr detected 12 cores but \"NUMEXPR_MAX_THREADS\" not set, so enforcing safe limit of 8.\n",
      "NumExpr defaulting to 8 threads.\n"
     ]
    }
   ],
   "source": [
    "train_data, GCMs_name_train, _, _ = prepare_data_CSV_to_AUTOML(train_data, GCM=GCM, region_name=region_name, target_type=target_type, scaling=False, doPCA=False)"
   ]
  },
  {
   "cell_type": "code",
   "execution_count": 19,
   "metadata": {},
   "outputs": [
    {
     "data": {
      "text/plain": [
       "(288, 4930)"
      ]
     },
     "execution_count": 19,
     "metadata": {},
     "output_type": "execute_result"
    }
   ],
   "source": [
    "train_data.shape"
   ]
  },
  {
   "cell_type": "code",
   "execution_count": 20,
   "metadata": {},
   "outputs": [
    {
     "data": {
      "text/plain": [
       "Index(['(-70.0, 70.0)', '(-70.0, 72.5)', '(-70.0, 75.0)', '(-70.0, 77.5)',\n",
       "       '(-70.0, 80.0)', '(-70.0, 82.5)', '(-70.0, 85.0)', '(-70.0, 87.5)',\n",
       "       '(-70.0, 90.0)', '(-70.0, 92.5)',\n",
       "       ...\n",
       "       '(60.0, 280.0)', '(60.0, 282.5)', '(60.0, 285.0)', '(60.0, 287.5)',\n",
       "       '(60.0, 290.0)', '(60.0, 292.5)', '(60.0, 295.0)', '(60.0, 297.5)',\n",
       "       '(60.0, 300.0)', 'NNI_cat3_categories'],\n",
       "      dtype='object', length=4930)"
      ]
     },
     "execution_count": 20,
     "metadata": {},
     "output_type": "execute_result"
    }
   ],
   "source": [
    "train_data.columns"
   ]
  },
  {
   "cell_type": "markdown",
   "metadata": {},
   "source": [
    "### get the test data  "
   ]
  },
  {
   "cell_type": "code",
   "execution_count": 21,
   "metadata": {},
   "outputs": [],
   "source": [
    "test_data, GCMs_name_test, _, _ = prepare_data_CSV_to_AUTOML(test_data, GCM=GCM, region_name=region_name, target_type=target_type, scaling=False, doPCA=False)"
   ]
  },
  {
   "cell_type": "code",
   "execution_count": 22,
   "metadata": {},
   "outputs": [
    {
     "data": {
      "text/plain": [
       "(33, 4930)"
      ]
     },
     "execution_count": 22,
     "metadata": {},
     "output_type": "execute_result"
    }
   ],
   "source": [
    "test_data.shape"
   ]
  },
  {
   "cell_type": "markdown",
   "metadata": {},
   "source": [
    "### stratified k-fold "
   ]
  },
  {
   "cell_type": "code",
   "execution_count": 23,
   "metadata": {},
   "outputs": [],
   "source": [
    "from sklearn.model_selection import StratifiedKFold"
   ]
  },
  {
   "cell_type": "markdown",
   "metadata": {},
   "source": [
    "### the percentage of variance to keep "
   ]
  },
  {
   "cell_type": "code",
   "execution_count": 24,
   "metadata": {},
   "outputs": [],
   "source": [
    "percent_variance = 0.9"
   ]
  },
  {
   "cell_type": "markdown",
   "metadata": {},
   "source": [
    "### root path for saving the parameters of all the AUTOGLUON experiments "
   ]
  },
  {
   "cell_type": "code",
   "execution_count": 25,
   "metadata": {},
   "outputs": [],
   "source": [
    "saved_models = pathlib.Path('./saved_models/AUTOGLUON_v2/')"
   ]
  },
  {
   "cell_type": "code",
   "execution_count": 26,
   "metadata": {},
   "outputs": [],
   "source": [
    "opath = saved_models.joinpath(f'./autogluon_exp_SKPCA_{GCM}_pred_{region_name}_reg_{var_name}_targetvar_{target_type}_target_type')"
   ]
  },
  {
   "cell_type": "code",
   "execution_count": 27,
   "metadata": {},
   "outputs": [],
   "source": [
    "if not opath.exists(): \n",
    "    opath.mkdir(parents=True)"
   ]
  },
  {
   "cell_type": "markdown",
   "metadata": {},
   "source": [
    "### checks on the shape and content of the training and test data "
   ]
  },
  {
   "cell_type": "code",
   "execution_count": 28,
   "metadata": {},
   "outputs": [
    {
     "data": {
      "text/plain": [
       "(288, 4930)"
      ]
     },
     "execution_count": 28,
     "metadata": {},
     "output_type": "execute_result"
    }
   ],
   "source": [
    "train_data.shape"
   ]
  },
  {
   "cell_type": "code",
   "execution_count": 29,
   "metadata": {},
   "outputs": [
    {
     "data": {
      "text/plain": [
       "Index(['(-70.0, 70.0)', '(-70.0, 72.5)', '(-70.0, 75.0)', '(-70.0, 77.5)',\n",
       "       '(-70.0, 80.0)', '(-70.0, 82.5)', '(-70.0, 85.0)', '(-70.0, 87.5)',\n",
       "       '(-70.0, 90.0)', '(-70.0, 92.5)',\n",
       "       ...\n",
       "       '(60.0, 280.0)', '(60.0, 282.5)', '(60.0, 285.0)', '(60.0, 287.5)',\n",
       "       '(60.0, 290.0)', '(60.0, 292.5)', '(60.0, 295.0)', '(60.0, 297.5)',\n",
       "       '(60.0, 300.0)', 'NNI_cat3_categories'],\n",
       "      dtype='object', length=4930)"
      ]
     },
     "execution_count": 29,
     "metadata": {},
     "output_type": "execute_result"
    }
   ],
   "source": [
    "train_data.columns"
   ]
  },
  {
   "cell_type": "code",
   "execution_count": 30,
   "metadata": {},
   "outputs": [
    {
     "name": "stdout",
     "output_type": "stream",
     "text": [
      "NNI_cat3_categories\n"
     ]
    }
   ],
   "source": [
    "target_col = f\"{region_name}_{target_type}\"; print(target_col)"
   ]
  },
  {
   "cell_type": "markdown",
   "metadata": {},
   "source": [
    "### initialise a stratified K-Fold object, which will return train and test indices "
   ]
  },
  {
   "cell_type": "code",
   "execution_count": 31,
   "metadata": {},
   "outputs": [],
   "source": [
    "kfold = StratifiedKFold(n_splits=10).split(train_data.drop(labels=[target_col],axis=1).values, train_data.loc[:,target_col].values)"
   ]
  },
  {
   "cell_type": "code",
   "execution_count": 32,
   "metadata": {},
   "outputs": [],
   "source": [
    "test_indices = []\n",
    "# y_preds = []\n",
    "# leader_board = []\n",
    "# perfs = []\n",
    "\n",
    "# for k, (train, test) in enumerate(kfold):\n",
    "    \n",
    "#     X_train = train_data.drop(labels=[target_col],axis=1).iloc[train,:]\n",
    "    \n",
    "#     y_train = train_data.loc[:,target_col].iloc[train,]\n",
    "    \n",
    "#     X_test = train_data.drop(labels=[target_col],axis=1).iloc[test,:]\n",
    "    \n",
    "#     y_test = X_df.loc[:,target_col].iloc[test,]\n",
    "    \n",
    "#     df_train = X_train.copy() \n",
    "#     df_train.loc[:, target_col] = y_train\n",
    "    \n",
    "#     df_test = X_test.copy() \n",
    "#     df_test.loc[:,target_col] = y_test\n",
    "    \n",
    "    \n",
    "#      # fit the task predictor on the training set DataFrame \n",
    "#     predictor = task.fit(train_data=df_train, label=target_col, auto_stack=True, output_directory=opath)\n",
    "    \n",
    "#     # predict the probabilities for each class from the test set features DataFrame (droping the target values column)\n",
    "#     # y_pred_proba = predictor.predict_proba(df_test.drop(labels=[region_name],axis=1))\n",
    "    \n",
    "#     # predict the class value itself\n",
    "#     y_pred = predictor.predict(df_test.drop(labels=[target_col],axis=1))\n",
    "    \n",
    "#     # records the probabilities for the classes on the test set \n",
    "#     y_preds.append(y_pred)\n",
    "    \n",
    "#     # get the leaderboard DataFrame \n",
    "#     d = predictor.leaderboard(silent=True)\n",
    "    \n",
    "#     # records the leaderboard DataFrame \n",
    "#     leader_board.append(d)\n",
    "    \n",
    "#     perfs.append(predictor.evaluate_predictions(y_true=y_test, y_pred=y_pred, auxiliary_metrics=True, silent=True))\n",
    "    \n",
    "#     print(f\"EXITING FOLD {k} ---- \")   "
   ]
  },
  {
   "cell_type": "code",
   "execution_count": 33,
   "metadata": {},
   "outputs": [
    {
     "name": "stderr",
     "output_type": "stream",
     "text": [
      "Beginning AutoGluon training ...\n",
      "AutoGluon will save models to saved_models/AUTOGLUON_v2/autogluon_exp_SKPCA_ECMWF_pred_NNI_reg_TMEAN_targetvar_cat3_categories_target_type/\n",
      "Train Data Rows:    258\n",
      "Train Data Columns: 35\n",
      "Preprocessing data ...\n",
      "Here are the first 10 unique label values in your data:  [1 2 3]\n",
      "AutoGluon infers your prediction problem is: multiclass  (because dtype of label-column == int, but few unique label-values observed)\n",
      "If this is wrong, please specify `problem_type` argument in fit() instead (You may specify problem_type as one of: ['binary', 'multiclass', 'regression'])\n",
      "\n",
      "Feature Generator processed 258 data points with 34 features\n",
      "Original Features:\n",
      "\tfloat features: 34\n",
      "Generated Features:\n",
      "\tint features: 0\n",
      "All Features:\n",
      "\tfloat features: 34\n",
      "\tint features: 0\n",
      "\tData preprocessing and feature engineering runtime = 0.08s ...\n",
      "AutoGluon will gauge predictive performance using evaluation metric: accuracy\n",
      "To change this, specify the eval_metric argument of fit()\n",
      "AutoGluon will early stop models using evaluation metric: accuracy\n"
     ]
    },
    {
     "name": "stdout",
     "output_type": "stream",
     "text": [
      "ENTERING FOLD 0 ---- \n"
     ]
    },
    {
     "name": "stderr",
     "output_type": "stream",
     "text": [
      "/home/nicolasf/anaconda3/envs/ML/lib/python3.7/imp.py:342: DeprecationWarning: Using or importing the ABCs from 'collections' instead of from 'collections.abc' is deprecated since Python 3.3,and in 3.9 it will stop working\n",
      "  return _load(spec)\n",
      "Fitting model: RandomForestClassifierGini_STACKER_l0 ...\n",
      "\t0.6085\t = Validation accuracy score\n",
      "\t2.63s\t = Training runtime\n",
      "\t0.76s\t = Validation runtime\n",
      "Fitting model: RandomForestClassifierEntr_STACKER_l0 ...\n",
      "\t0.6202\t = Validation accuracy score\n",
      "\t2.67s\t = Training runtime\n",
      "\t0.65s\t = Validation runtime\n",
      "Fitting model: ExtraTreesClassifierGini_STACKER_l0 ...\n",
      "\t0.6124\t = Validation accuracy score\n",
      "\t2.13s\t = Training runtime\n",
      "\t0.7s\t = Validation runtime\n",
      "Fitting model: ExtraTreesClassifierEntr_STACKER_l0 ...\n",
      "\t0.6279\t = Validation accuracy score\n",
      "\t2.12s\t = Training runtime\n",
      "\t0.55s\t = Validation runtime\n",
      "Fitting model: KNeighborsClassifierUnif_STACKER_l0 ...\n",
      "\t0.6434\t = Validation accuracy score\n",
      "\t0.18s\t = Training runtime\n",
      "\t0.58s\t = Validation runtime\n",
      "Fitting model: KNeighborsClassifierDist_STACKER_l0 ...\n",
      "\t0.6744\t = Validation accuracy score\n",
      "\t0.16s\t = Training runtime\n",
      "\t0.58s\t = Validation runtime\n",
      "Fitting model: LightGBMClassifier_STACKER_l0 ...\n",
      "\t0.6357\t = Validation accuracy score\n",
      "\t1.24s\t = Training runtime\n",
      "\t0.03s\t = Validation runtime\n",
      "Fitting model: CatboostClassifier_STACKER_l0 ...\n",
      "\t0.6589\t = Validation accuracy score\n",
      "\t4.57s\t = Training runtime\n",
      "\t0.04s\t = Validation runtime\n",
      "Fitting model: NeuralNetClassifier_STACKER_l0 ...\n",
      "\t0.6589\t = Validation accuracy score\n",
      "\t24.91s\t = Training runtime\n",
      "\t0.53s\t = Validation runtime\n",
      "Fitting model: LightGBMClassifierCustom_STACKER_l0 ...\n",
      "\t0.6395\t = Validation accuracy score\n",
      "\t3.79s\t = Training runtime\n",
      "\t0.03s\t = Validation runtime\n",
      "Fitting model: weighted_ensemble_k0_l1 ...\n",
      "\t0.6899\t = Validation accuracy score\n",
      "\t0.38s\t = Training runtime\n",
      "\t0.0s\t = Validation runtime\n",
      "AutoGluon training complete, total runtime = 50.38s ...\n",
      "Beginning AutoGluon training ...\n",
      "AutoGluon will save models to saved_models/AUTOGLUON_v2/autogluon_exp_SKPCA_ECMWF_pred_NNI_reg_TMEAN_targetvar_cat3_categories_target_type/\n",
      "Train Data Rows:    258\n",
      "Train Data Columns: 33\n",
      "Preprocessing data ...\n"
     ]
    },
    {
     "name": "stdout",
     "output_type": "stream",
     "text": [
      "EXITING FOLD 0 ---- \n",
      "ENTERING FOLD 1 ---- \n"
     ]
    },
    {
     "name": "stderr",
     "output_type": "stream",
     "text": [
      "Here are the first 10 unique label values in your data:  [1 2 3]\n",
      "AutoGluon infers your prediction problem is: multiclass  (because dtype of label-column == int, but few unique label-values observed)\n",
      "If this is wrong, please specify `problem_type` argument in fit() instead (You may specify problem_type as one of: ['binary', 'multiclass', 'regression'])\n",
      "\n",
      "Feature Generator processed 258 data points with 32 features\n",
      "Original Features:\n",
      "\tfloat features: 32\n",
      "Generated Features:\n",
      "\tint features: 0\n",
      "All Features:\n",
      "\tfloat features: 32\n",
      "\tint features: 0\n",
      "\tData preprocessing and feature engineering runtime = 0.13s ...\n",
      "AutoGluon will gauge predictive performance using evaluation metric: accuracy\n",
      "To change this, specify the eval_metric argument of fit()\n",
      "AutoGluon will early stop models using evaluation metric: accuracy\n",
      "Fitting model: RandomForestClassifierGini_STACKER_l0 ...\n",
      "\t0.6047\t = Validation accuracy score\n",
      "\t2.67s\t = Training runtime\n",
      "\t0.87s\t = Validation runtime\n",
      "Fitting model: RandomForestClassifierEntr_STACKER_l0 ...\n",
      "\t0.6008\t = Validation accuracy score\n",
      "\t2.68s\t = Training runtime\n",
      "\t0.74s\t = Validation runtime\n",
      "Fitting model: ExtraTreesClassifierGini_STACKER_l0 ...\n",
      "\t0.5969\t = Validation accuracy score\n",
      "\t2.14s\t = Training runtime\n",
      "\t0.55s\t = Validation runtime\n",
      "Fitting model: ExtraTreesClassifierEntr_STACKER_l0 ...\n",
      "\t0.6357\t = Validation accuracy score\n",
      "\t2.13s\t = Training runtime\n",
      "\t0.57s\t = Validation runtime\n",
      "Fitting model: KNeighborsClassifierUnif_STACKER_l0 ...\n",
      "\t0.6124\t = Validation accuracy score\n",
      "\t0.18s\t = Training runtime\n",
      "\t0.58s\t = Validation runtime\n",
      "Fitting model: KNeighborsClassifierDist_STACKER_l0 ...\n",
      "\t0.6589\t = Validation accuracy score\n",
      "\t0.19s\t = Training runtime\n",
      "\t0.58s\t = Validation runtime\n",
      "Fitting model: LightGBMClassifier_STACKER_l0 ...\n",
      "\t0.6434\t = Validation accuracy score\n",
      "\t1.54s\t = Training runtime\n",
      "\t0.03s\t = Validation runtime\n",
      "Fitting model: CatboostClassifier_STACKER_l0 ...\n",
      "\t0.6667\t = Validation accuracy score\n",
      "\t4.7s\t = Training runtime\n",
      "\t0.03s\t = Validation runtime\n",
      "Fitting model: NeuralNetClassifier_STACKER_l0 ...\n",
      "\t0.6589\t = Validation accuracy score\n",
      "\t12.61s\t = Training runtime\n",
      "\t0.48s\t = Validation runtime\n",
      "Fitting model: LightGBMClassifierCustom_STACKER_l0 ...\n",
      "\t0.6008\t = Validation accuracy score\n",
      "\t4.42s\t = Training runtime\n",
      "\t0.03s\t = Validation runtime\n",
      "Fitting model: weighted_ensemble_k0_l1 ...\n",
      "\t0.6667\t = Validation accuracy score\n",
      "\t0.38s\t = Training runtime\n",
      "\t0.0s\t = Validation runtime\n",
      "AutoGluon training complete, total runtime = 39.34s ...\n",
      "Beginning AutoGluon training ...\n",
      "AutoGluon will save models to saved_models/AUTOGLUON_v2/autogluon_exp_SKPCA_ECMWF_pred_NNI_reg_TMEAN_targetvar_cat3_categories_target_type/\n",
      "Train Data Rows:    259\n",
      "Train Data Columns: 33\n",
      "Preprocessing data ...\n",
      "Here are the first 10 unique label values in your data:  [1 2 3]\n",
      "AutoGluon infers your prediction problem is: multiclass  (because dtype of label-column == int, but few unique label-values observed)\n",
      "If this is wrong, please specify `problem_type` argument in fit() instead (You may specify problem_type as one of: ['binary', 'multiclass', 'regression'])\n",
      "\n",
      "Feature Generator processed 259 data points with 32 features\n",
      "Original Features:\n",
      "\tfloat features: 32\n",
      "Generated Features:\n",
      "\tint features: 0\n",
      "All Features:\n",
      "\tfloat features: 32\n",
      "\tint features: 0\n",
      "\tData preprocessing and feature engineering runtime = 0.06s ...\n",
      "AutoGluon will gauge predictive performance using evaluation metric: accuracy\n",
      "To change this, specify the eval_metric argument of fit()\n",
      "AutoGluon will early stop models using evaluation metric: accuracy\n",
      "Fitting model: RandomForestClassifierGini_STACKER_l0 ...\n"
     ]
    },
    {
     "name": "stdout",
     "output_type": "stream",
     "text": [
      "EXITING FOLD 1 ---- \n",
      "ENTERING FOLD 2 ---- \n"
     ]
    },
    {
     "name": "stderr",
     "output_type": "stream",
     "text": [
      "\t0.6448\t = Validation accuracy score\n",
      "\t2.63s\t = Training runtime\n",
      "\t0.76s\t = Validation runtime\n",
      "Fitting model: RandomForestClassifierEntr_STACKER_l0 ...\n",
      "\t0.6293\t = Validation accuracy score\n",
      "\t2.66s\t = Training runtime\n",
      "\t0.84s\t = Validation runtime\n",
      "Fitting model: ExtraTreesClassifierGini_STACKER_l0 ...\n",
      "\t0.6293\t = Validation accuracy score\n",
      "\t2.13s\t = Training runtime\n",
      "\t0.6s\t = Validation runtime\n",
      "Fitting model: ExtraTreesClassifierEntr_STACKER_l0 ...\n",
      "\t0.6293\t = Validation accuracy score\n",
      "\t2.17s\t = Training runtime\n",
      "\t0.55s\t = Validation runtime\n",
      "Fitting model: KNeighborsClassifierUnif_STACKER_l0 ...\n",
      "\t0.6178\t = Validation accuracy score\n",
      "\t0.18s\t = Training runtime\n",
      "\t0.59s\t = Validation runtime\n",
      "Fitting model: KNeighborsClassifierDist_STACKER_l0 ...\n",
      "\t0.6448\t = Validation accuracy score\n",
      "\t0.21s\t = Training runtime\n",
      "\t0.6s\t = Validation runtime\n",
      "Fitting model: LightGBMClassifier_STACKER_l0 ...\n",
      "\t0.6332\t = Validation accuracy score\n",
      "\t1.6s\t = Training runtime\n",
      "\t0.03s\t = Validation runtime\n",
      "Fitting model: CatboostClassifier_STACKER_l0 ...\n",
      "\t0.668\t = Validation accuracy score\n",
      "\t4.51s\t = Training runtime\n",
      "\t0.03s\t = Validation runtime\n",
      "Fitting model: NeuralNetClassifier_STACKER_l0 ...\n",
      "\t0.6873\t = Validation accuracy score\n",
      "\t24.06s\t = Training runtime\n",
      "\t0.51s\t = Validation runtime\n",
      "Fitting model: LightGBMClassifierCustom_STACKER_l0 ...\n",
      "\t0.6216\t = Validation accuracy score\n",
      "\t4.34s\t = Training runtime\n",
      "\t0.03s\t = Validation runtime\n",
      "Fitting model: weighted_ensemble_k0_l1 ...\n",
      "\t0.695\t = Validation accuracy score\n",
      "\t0.38s\t = Training runtime\n",
      "\t0.0s\t = Validation runtime\n",
      "AutoGluon training complete, total runtime = 50.6s ...\n",
      "Beginning AutoGluon training ...\n",
      "AutoGluon will save models to saved_models/AUTOGLUON_v2/autogluon_exp_SKPCA_ECMWF_pred_NNI_reg_TMEAN_targetvar_cat3_categories_target_type/\n",
      "Train Data Rows:    259\n",
      "Train Data Columns: 32\n",
      "Preprocessing data ...\n",
      "Here are the first 10 unique label values in your data:  [1 2 3]\n",
      "AutoGluon infers your prediction problem is: multiclass  (because dtype of label-column == int, but few unique label-values observed)\n",
      "If this is wrong, please specify `problem_type` argument in fit() instead (You may specify problem_type as one of: ['binary', 'multiclass', 'regression'])\n",
      "\n",
      "Feature Generator processed 259 data points with 31 features\n",
      "Original Features:\n",
      "\tfloat features: 31\n",
      "Generated Features:\n",
      "\tint features: 0\n",
      "All Features:\n",
      "\tfloat features: 31\n",
      "\tint features: 0\n",
      "\tData preprocessing and feature engineering runtime = 0.09s ...\n",
      "AutoGluon will gauge predictive performance using evaluation metric: accuracy\n",
      "To change this, specify the eval_metric argument of fit()\n",
      "AutoGluon will early stop models using evaluation metric: accuracy\n",
      "Fitting model: RandomForestClassifierGini_STACKER_l0 ...\n"
     ]
    },
    {
     "name": "stdout",
     "output_type": "stream",
     "text": [
      "EXITING FOLD 2 ---- \n",
      "ENTERING FOLD 3 ---- \n"
     ]
    },
    {
     "name": "stderr",
     "output_type": "stream",
     "text": [
      "\t0.6332\t = Validation accuracy score\n",
      "\t2.65s\t = Training runtime\n",
      "\t0.85s\t = Validation runtime\n",
      "Fitting model: RandomForestClassifierEntr_STACKER_l0 ...\n",
      "\t0.6255\t = Validation accuracy score\n",
      "\t2.68s\t = Training runtime\n",
      "\t0.84s\t = Validation runtime\n",
      "Fitting model: ExtraTreesClassifierGini_STACKER_l0 ...\n",
      "\t0.6602\t = Validation accuracy score\n",
      "\t2.15s\t = Training runtime\n",
      "\t0.55s\t = Validation runtime\n",
      "Fitting model: ExtraTreesClassifierEntr_STACKER_l0 ...\n",
      "\t0.668\t = Validation accuracy score\n",
      "\t2.13s\t = Training runtime\n",
      "\t0.57s\t = Validation runtime\n",
      "Fitting model: KNeighborsClassifierUnif_STACKER_l0 ...\n",
      "\t0.61\t = Validation accuracy score\n",
      "\t0.17s\t = Training runtime\n",
      "\t0.58s\t = Validation runtime\n",
      "Fitting model: KNeighborsClassifierDist_STACKER_l0 ...\n",
      "\t0.6371\t = Validation accuracy score\n",
      "\t0.17s\t = Training runtime\n",
      "\t0.58s\t = Validation runtime\n",
      "Fitting model: LightGBMClassifier_STACKER_l0 ...\n",
      "\t0.6525\t = Validation accuracy score\n",
      "\t1.54s\t = Training runtime\n",
      "\t0.02s\t = Validation runtime\n",
      "Fitting model: CatboostClassifier_STACKER_l0 ...\n",
      "\t0.7066\t = Validation accuracy score\n",
      "\t4.54s\t = Training runtime\n",
      "\t0.04s\t = Validation runtime\n",
      "Fitting model: NeuralNetClassifier_STACKER_l0 ...\n",
      "\t0.6988\t = Validation accuracy score\n",
      "\t10.04s\t = Training runtime\n",
      "\t0.48s\t = Validation runtime\n",
      "Fitting model: LightGBMClassifierCustom_STACKER_l0 ...\n",
      "\t0.6486\t = Validation accuracy score\n",
      "\t4.03s\t = Training runtime\n",
      "\t0.03s\t = Validation runtime\n",
      "Fitting model: weighted_ensemble_k0_l1 ...\n",
      "\t0.7066\t = Validation accuracy score\n",
      "\t0.37s\t = Training runtime\n",
      "\t0.0s\t = Validation runtime\n",
      "AutoGluon training complete, total runtime = 36.58s ...\n",
      "Beginning AutoGluon training ...\n",
      "AutoGluon will save models to saved_models/AUTOGLUON_v2/autogluon_exp_SKPCA_ECMWF_pred_NNI_reg_TMEAN_targetvar_cat3_categories_target_type/\n",
      "Train Data Rows:    259\n",
      "Train Data Columns: 32\n",
      "Preprocessing data ...\n",
      "Here are the first 10 unique label values in your data:  [1 2 3]\n",
      "AutoGluon infers your prediction problem is: multiclass  (because dtype of label-column == int, but few unique label-values observed)\n",
      "If this is wrong, please specify `problem_type` argument in fit() instead (You may specify problem_type as one of: ['binary', 'multiclass', 'regression'])\n",
      "\n",
      "Feature Generator processed 259 data points with 31 features\n",
      "Original Features:\n",
      "\tfloat features: 31\n",
      "Generated Features:\n",
      "\tint features: 0\n",
      "All Features:\n",
      "\tfloat features: 31\n",
      "\tint features: 0\n",
      "\tData preprocessing and feature engineering runtime = 0.07s ...\n",
      "AutoGluon will gauge predictive performance using evaluation metric: accuracy\n",
      "To change this, specify the eval_metric argument of fit()\n",
      "AutoGluon will early stop models using evaluation metric: accuracy\n",
      "Fitting model: RandomForestClassifierGini_STACKER_l0 ...\n"
     ]
    },
    {
     "name": "stdout",
     "output_type": "stream",
     "text": [
      "EXITING FOLD 3 ---- \n",
      "ENTERING FOLD 4 ---- \n"
     ]
    },
    {
     "name": "stderr",
     "output_type": "stream",
     "text": [
      "\t0.6332\t = Validation accuracy score\n",
      "\t2.63s\t = Training runtime\n",
      "\t0.65s\t = Validation runtime\n",
      "Fitting model: RandomForestClassifierEntr_STACKER_l0 ...\n",
      "\t0.5985\t = Validation accuracy score\n",
      "\t2.67s\t = Training runtime\n",
      "\t0.73s\t = Validation runtime\n",
      "Fitting model: ExtraTreesClassifierGini_STACKER_l0 ...\n",
      "\t0.6062\t = Validation accuracy score\n",
      "\t2.15s\t = Training runtime\n",
      "\t0.55s\t = Validation runtime\n",
      "Fitting model: ExtraTreesClassifierEntr_STACKER_l0 ...\n",
      "\t0.61\t = Validation accuracy score\n",
      "\t2.13s\t = Training runtime\n",
      "\t0.55s\t = Validation runtime\n",
      "Fitting model: KNeighborsClassifierUnif_STACKER_l0 ...\n",
      "\t0.5985\t = Validation accuracy score\n",
      "\t0.18s\t = Training runtime\n",
      "\t0.59s\t = Validation runtime\n",
      "Fitting model: KNeighborsClassifierDist_STACKER_l0 ...\n",
      "\t0.61\t = Validation accuracy score\n",
      "\t0.19s\t = Training runtime\n",
      "\t0.59s\t = Validation runtime\n",
      "Fitting model: LightGBMClassifier_STACKER_l0 ...\n",
      "\t0.6564\t = Validation accuracy score\n",
      "\t1.36s\t = Training runtime\n",
      "\t0.03s\t = Validation runtime\n",
      "Fitting model: CatboostClassifier_STACKER_l0 ...\n",
      "\t0.6602\t = Validation accuracy score\n",
      "\t4.81s\t = Training runtime\n",
      "\t0.03s\t = Validation runtime\n",
      "Fitting model: NeuralNetClassifier_STACKER_l0 ...\n",
      "\t0.6293\t = Validation accuracy score\n",
      "\t8.31s\t = Training runtime\n",
      "\t0.49s\t = Validation runtime\n",
      "Fitting model: LightGBMClassifierCustom_STACKER_l0 ...\n",
      "\t0.6293\t = Validation accuracy score\n",
      "\t4.41s\t = Training runtime\n",
      "\t0.03s\t = Validation runtime\n",
      "Fitting model: weighted_ensemble_k0_l1 ...\n",
      "\t0.6602\t = Validation accuracy score\n",
      "\t0.37s\t = Training runtime\n",
      "\t0.0s\t = Validation runtime\n",
      "AutoGluon training complete, total runtime = 34.64s ...\n",
      "Beginning AutoGluon training ...\n",
      "AutoGluon will save models to saved_models/AUTOGLUON_v2/autogluon_exp_SKPCA_ECMWF_pred_NNI_reg_TMEAN_targetvar_cat3_categories_target_type/\n",
      "Train Data Rows:    259\n",
      "Train Data Columns: 32\n",
      "Preprocessing data ...\n",
      "Here are the first 10 unique label values in your data:  [1 2 3]\n",
      "AutoGluon infers your prediction problem is: multiclass  (because dtype of label-column == int, but few unique label-values observed)\n",
      "If this is wrong, please specify `problem_type` argument in fit() instead (You may specify problem_type as one of: ['binary', 'multiclass', 'regression'])\n",
      "\n"
     ]
    },
    {
     "name": "stdout",
     "output_type": "stream",
     "text": [
      "EXITING FOLD 4 ---- \n",
      "ENTERING FOLD 5 ---- \n"
     ]
    },
    {
     "name": "stderr",
     "output_type": "stream",
     "text": [
      "Feature Generator processed 259 data points with 31 features\n",
      "Original Features:\n",
      "\tfloat features: 31\n",
      "Generated Features:\n",
      "\tint features: 0\n",
      "All Features:\n",
      "\tfloat features: 31\n",
      "\tint features: 0\n",
      "\tData preprocessing and feature engineering runtime = 0.1s ...\n",
      "AutoGluon will gauge predictive performance using evaluation metric: accuracy\n",
      "To change this, specify the eval_metric argument of fit()\n",
      "AutoGluon will early stop models using evaluation metric: accuracy\n",
      "Fitting model: RandomForestClassifierGini_STACKER_l0 ...\n",
      "\t0.5946\t = Validation accuracy score\n",
      "\t2.61s\t = Training runtime\n",
      "\t0.77s\t = Validation runtime\n",
      "Fitting model: RandomForestClassifierEntr_STACKER_l0 ...\n",
      "\t0.5985\t = Validation accuracy score\n",
      "\t2.67s\t = Training runtime\n",
      "\t0.73s\t = Validation runtime\n",
      "Fitting model: ExtraTreesClassifierGini_STACKER_l0 ...\n",
      "\t0.6139\t = Validation accuracy score\n",
      "\t2.18s\t = Training runtime\n",
      "\t0.69s\t = Validation runtime\n",
      "Fitting model: ExtraTreesClassifierEntr_STACKER_l0 ...\n",
      "\t0.6332\t = Validation accuracy score\n",
      "\t2.14s\t = Training runtime\n",
      "\t0.7s\t = Validation runtime\n",
      "Fitting model: KNeighborsClassifierUnif_STACKER_l0 ...\n",
      "\t0.5869\t = Validation accuracy score\n",
      "\t0.17s\t = Training runtime\n",
      "\t0.58s\t = Validation runtime\n",
      "Fitting model: KNeighborsClassifierDist_STACKER_l0 ...\n",
      "\t0.6062\t = Validation accuracy score\n",
      "\t0.19s\t = Training runtime\n",
      "\t0.58s\t = Validation runtime\n",
      "Fitting model: LightGBMClassifier_STACKER_l0 ...\n",
      "\t0.6371\t = Validation accuracy score\n",
      "\t1.38s\t = Training runtime\n",
      "\t0.02s\t = Validation runtime\n",
      "Fitting model: CatboostClassifier_STACKER_l0 ...\n",
      "\t0.6448\t = Validation accuracy score\n",
      "\t4.28s\t = Training runtime\n",
      "\t0.06s\t = Validation runtime\n",
      "Fitting model: NeuralNetClassifier_STACKER_l0 ...\n",
      "\t0.6564\t = Validation accuracy score\n",
      "\t12.94s\t = Training runtime\n",
      "\t0.51s\t = Validation runtime\n",
      "Fitting model: LightGBMClassifierCustom_STACKER_l0 ...\n",
      "\t0.6255\t = Validation accuracy score\n",
      "\t4.09s\t = Training runtime\n",
      "\t0.03s\t = Validation runtime\n",
      "Fitting model: weighted_ensemble_k0_l1 ...\n",
      "\t0.6718\t = Validation accuracy score\n",
      "\t0.36s\t = Training runtime\n",
      "\t0.0s\t = Validation runtime\n",
      "AutoGluon training complete, total runtime = 39.06s ...\n",
      "Beginning AutoGluon training ...\n",
      "AutoGluon will save models to saved_models/AUTOGLUON_v2/autogluon_exp_SKPCA_ECMWF_pred_NNI_reg_TMEAN_targetvar_cat3_categories_target_type/\n",
      "Train Data Rows:    259\n",
      "Train Data Columns: 33\n",
      "Preprocessing data ...\n",
      "Here are the first 10 unique label values in your data:  [1 2 3]\n",
      "AutoGluon infers your prediction problem is: multiclass  (because dtype of label-column == int, but few unique label-values observed)\n",
      "If this is wrong, please specify `problem_type` argument in fit() instead (You may specify problem_type as one of: ['binary', 'multiclass', 'regression'])\n",
      "\n",
      "Feature Generator processed 259 data points with 32 features\n",
      "Original Features:\n",
      "\tfloat features: 32\n",
      "Generated Features:\n",
      "\tint features: 0\n",
      "All Features:\n",
      "\tfloat features: 32\n",
      "\tint features: 0\n",
      "\tData preprocessing and feature engineering runtime = 0.09s ...\n",
      "AutoGluon will gauge predictive performance using evaluation metric: accuracy\n",
      "To change this, specify the eval_metric argument of fit()\n",
      "AutoGluon will early stop models using evaluation metric: accuracy\n",
      "Fitting model: RandomForestClassifierGini_STACKER_l0 ...\n"
     ]
    },
    {
     "name": "stdout",
     "output_type": "stream",
     "text": [
      "EXITING FOLD 5 ---- \n",
      "ENTERING FOLD 6 ---- \n"
     ]
    },
    {
     "name": "stderr",
     "output_type": "stream",
     "text": [
      "\t0.5444\t = Validation accuracy score\n",
      "\t2.61s\t = Training runtime\n",
      "\t1.07s\t = Validation runtime\n",
      "Fitting model: RandomForestClassifierEntr_STACKER_l0 ...\n",
      "\t0.5753\t = Validation accuracy score\n",
      "\t2.69s\t = Training runtime\n",
      "\t0.83s\t = Validation runtime\n",
      "Fitting model: ExtraTreesClassifierGini_STACKER_l0 ...\n",
      "\t0.5714\t = Validation accuracy score\n",
      "\t2.12s\t = Training runtime\n",
      "\t0.59s\t = Validation runtime\n",
      "Fitting model: ExtraTreesClassifierEntr_STACKER_l0 ...\n",
      "\t0.5676\t = Validation accuracy score\n",
      "\t2.14s\t = Training runtime\n",
      "\t0.58s\t = Validation runtime\n",
      "Fitting model: KNeighborsClassifierUnif_STACKER_l0 ...\n",
      "\t0.5444\t = Validation accuracy score\n",
      "\t0.18s\t = Training runtime\n",
      "\t0.59s\t = Validation runtime\n",
      "Fitting model: KNeighborsClassifierDist_STACKER_l0 ...\n",
      "\t0.556\t = Validation accuracy score\n",
      "\t0.21s\t = Training runtime\n",
      "\t0.59s\t = Validation runtime\n",
      "Fitting model: LightGBMClassifier_STACKER_l0 ...\n",
      "\t0.5869\t = Validation accuracy score\n",
      "\t1.33s\t = Training runtime\n",
      "\t0.03s\t = Validation runtime\n",
      "Fitting model: CatboostClassifier_STACKER_l0 ...\n",
      "\t0.5985\t = Validation accuracy score\n",
      "\t3.96s\t = Training runtime\n",
      "\t0.04s\t = Validation runtime\n",
      "Fitting model: NeuralNetClassifier_STACKER_l0 ...\n",
      "\t0.6255\t = Validation accuracy score\n",
      "\t10.74s\t = Training runtime\n",
      "\t0.48s\t = Validation runtime\n",
      "Fitting model: LightGBMClassifierCustom_STACKER_l0 ...\n",
      "\t0.5753\t = Validation accuracy score\n",
      "\t4.57s\t = Training runtime\n",
      "\t0.03s\t = Validation runtime\n",
      "Fitting model: weighted_ensemble_k0_l1 ...\n",
      "\t0.6255\t = Validation accuracy score\n",
      "\t0.36s\t = Training runtime\n",
      "\t0.0s\t = Validation runtime\n",
      "AutoGluon training complete, total runtime = 36.96s ...\n",
      "Beginning AutoGluon training ...\n",
      "AutoGluon will save models to saved_models/AUTOGLUON_v2/autogluon_exp_SKPCA_ECMWF_pred_NNI_reg_TMEAN_targetvar_cat3_categories_target_type/\n",
      "Train Data Rows:    260\n",
      "Train Data Columns: 32\n",
      "Preprocessing data ...\n",
      "Here are the first 10 unique label values in your data:  [1 2 3]\n",
      "AutoGluon infers your prediction problem is: multiclass  (because dtype of label-column == int, but few unique label-values observed)\n",
      "If this is wrong, please specify `problem_type` argument in fit() instead (You may specify problem_type as one of: ['binary', 'multiclass', 'regression'])\n",
      "\n"
     ]
    },
    {
     "name": "stdout",
     "output_type": "stream",
     "text": [
      "EXITING FOLD 6 ---- \n",
      "ENTERING FOLD 7 ---- \n"
     ]
    },
    {
     "name": "stderr",
     "output_type": "stream",
     "text": [
      "Feature Generator processed 260 data points with 31 features\n",
      "Original Features:\n",
      "\tfloat features: 31\n",
      "Generated Features:\n",
      "\tint features: 0\n",
      "All Features:\n",
      "\tfloat features: 31\n",
      "\tint features: 0\n",
      "\tData preprocessing and feature engineering runtime = 0.09s ...\n",
      "AutoGluon will gauge predictive performance using evaluation metric: accuracy\n",
      "To change this, specify the eval_metric argument of fit()\n",
      "AutoGluon will early stop models using evaluation metric: accuracy\n",
      "Fitting model: RandomForestClassifierGini_STACKER_l0 ...\n",
      "\t0.6154\t = Validation accuracy score\n",
      "\t2.66s\t = Training runtime\n",
      "\t0.84s\t = Validation runtime\n",
      "Fitting model: RandomForestClassifierEntr_STACKER_l0 ...\n",
      "\t0.6\t = Validation accuracy score\n",
      "\t2.64s\t = Training runtime\n",
      "\t0.72s\t = Validation runtime\n",
      "Fitting model: ExtraTreesClassifierGini_STACKER_l0 ...\n",
      "\t0.6269\t = Validation accuracy score\n",
      "\t2.16s\t = Training runtime\n",
      "\t0.57s\t = Validation runtime\n",
      "Fitting model: ExtraTreesClassifierEntr_STACKER_l0 ...\n",
      "\t0.6154\t = Validation accuracy score\n",
      "\t2.14s\t = Training runtime\n",
      "\t0.61s\t = Validation runtime\n",
      "Fitting model: KNeighborsClassifierUnif_STACKER_l0 ...\n",
      "\t0.5846\t = Validation accuracy score\n",
      "\t0.18s\t = Training runtime\n",
      "\t0.59s\t = Validation runtime\n",
      "Fitting model: KNeighborsClassifierDist_STACKER_l0 ...\n",
      "\t0.6077\t = Validation accuracy score\n",
      "\t0.17s\t = Training runtime\n",
      "\t0.58s\t = Validation runtime\n",
      "Fitting model: LightGBMClassifier_STACKER_l0 ...\n",
      "\t0.6385\t = Validation accuracy score\n",
      "\t1.57s\t = Training runtime\n",
      "\t0.02s\t = Validation runtime\n",
      "Fitting model: CatboostClassifier_STACKER_l0 ...\n",
      "\t0.6154\t = Validation accuracy score\n",
      "\t3.39s\t = Training runtime\n",
      "\t0.03s\t = Validation runtime\n",
      "Fitting model: NeuralNetClassifier_STACKER_l0 ...\n",
      "\t0.65\t = Validation accuracy score\n",
      "\t12.54s\t = Training runtime\n",
      "\t0.58s\t = Validation runtime\n",
      "Fitting model: LightGBMClassifierCustom_STACKER_l0 ...\n",
      "\t0.6269\t = Validation accuracy score\n",
      "\t4.99s\t = Training runtime\n",
      "\t0.02s\t = Validation runtime\n",
      "Fitting model: weighted_ensemble_k0_l1 ...\n",
      "\t0.6615\t = Validation accuracy score\n",
      "\t0.34s\t = Training runtime\n",
      "\t0.0s\t = Validation runtime\n",
      "AutoGluon training complete, total runtime = 38.66s ...\n",
      "Beginning AutoGluon training ...\n",
      "AutoGluon will save models to saved_models/AUTOGLUON_v2/autogluon_exp_SKPCA_ECMWF_pred_NNI_reg_TMEAN_targetvar_cat3_categories_target_type/\n",
      "Train Data Rows:    260\n",
      "Train Data Columns: 33\n",
      "Preprocessing data ...\n",
      "Here are the first 10 unique label values in your data:  [1 2 3]\n",
      "AutoGluon infers your prediction problem is: multiclass  (because dtype of label-column == int, but few unique label-values observed)\n",
      "If this is wrong, please specify `problem_type` argument in fit() instead (You may specify problem_type as one of: ['binary', 'multiclass', 'regression'])\n",
      "\n",
      "Feature Generator processed 260 data points with 32 features\n",
      "Original Features:\n",
      "\tfloat features: 32\n",
      "Generated Features:\n",
      "\tint features: 0\n",
      "All Features:\n",
      "\tfloat features: 32\n",
      "\tint features: 0\n",
      "\tData preprocessing and feature engineering runtime = 0.07s ...\n",
      "AutoGluon will gauge predictive performance using evaluation metric: accuracy\n",
      "To change this, specify the eval_metric argument of fit()\n",
      "AutoGluon will early stop models using evaluation metric: accuracy\n",
      "Fitting model: RandomForestClassifierGini_STACKER_l0 ...\n"
     ]
    },
    {
     "name": "stdout",
     "output_type": "stream",
     "text": [
      "EXITING FOLD 7 ---- \n",
      "ENTERING FOLD 8 ---- \n"
     ]
    },
    {
     "name": "stderr",
     "output_type": "stream",
     "text": [
      "\t0.6269\t = Validation accuracy score\n",
      "\t2.56s\t = Training runtime\n",
      "\t0.71s\t = Validation runtime\n",
      "Fitting model: RandomForestClassifierEntr_STACKER_l0 ...\n",
      "\t0.6192\t = Validation accuracy score\n",
      "\t2.59s\t = Training runtime\n",
      "\t0.62s\t = Validation runtime\n",
      "Fitting model: ExtraTreesClassifierGini_STACKER_l0 ...\n",
      "\t0.6154\t = Validation accuracy score\n",
      "\t2.14s\t = Training runtime\n",
      "\t0.57s\t = Validation runtime\n",
      "Fitting model: ExtraTreesClassifierEntr_STACKER_l0 ...\n",
      "\t0.6192\t = Validation accuracy score\n",
      "\t2.13s\t = Training runtime\n",
      "\t0.55s\t = Validation runtime\n",
      "Fitting model: KNeighborsClassifierUnif_STACKER_l0 ...\n",
      "\t0.6115\t = Validation accuracy score\n",
      "\t0.15s\t = Training runtime\n",
      "\t0.58s\t = Validation runtime\n",
      "Fitting model: KNeighborsClassifierDist_STACKER_l0 ...\n",
      "\t0.6192\t = Validation accuracy score\n",
      "\t0.19s\t = Training runtime\n",
      "\t0.58s\t = Validation runtime\n",
      "Fitting model: LightGBMClassifier_STACKER_l0 ...\n",
      "\t0.6385\t = Validation accuracy score\n",
      "\t1.51s\t = Training runtime\n",
      "\t0.03s\t = Validation runtime\n",
      "Fitting model: CatboostClassifier_STACKER_l0 ...\n",
      "\t0.6538\t = Validation accuracy score\n",
      "\t4.15s\t = Training runtime\n",
      "\t0.03s\t = Validation runtime\n",
      "Fitting model: NeuralNetClassifier_STACKER_l0 ...\n",
      "\t0.6346\t = Validation accuracy score\n",
      "\t18.75s\t = Training runtime\n",
      "\t0.48s\t = Validation runtime\n",
      "Fitting model: LightGBMClassifierCustom_STACKER_l0 ...\n",
      "\t0.6346\t = Validation accuracy score\n",
      "\t5.85s\t = Training runtime\n",
      "\t0.03s\t = Validation runtime\n",
      "Fitting model: weighted_ensemble_k0_l1 ...\n",
      "\t0.6538\t = Validation accuracy score\n",
      "\t0.33s\t = Training runtime\n",
      "\t0.0s\t = Validation runtime\n",
      "AutoGluon training complete, total runtime = 45.76s ...\n",
      "/home/nicolasf/anaconda3/envs/ML/lib/python3.7/site-packages/sklearn/metrics/classification.py:1437: UndefinedMetricWarning: Precision and F-score are ill-defined and being set to 0.0 in labels with no predicted samples.\n",
      "  'precision', 'predicted', average, warn_for)\n",
      "Beginning AutoGluon training ...\n",
      "AutoGluon will save models to saved_models/AUTOGLUON_v2/autogluon_exp_SKPCA_ECMWF_pred_NNI_reg_TMEAN_targetvar_cat3_categories_target_type/\n",
      "Train Data Rows:    261\n",
      "Train Data Columns: 35\n",
      "Preprocessing data ...\n",
      "Here are the first 10 unique label values in your data:  [1 2 3]\n",
      "AutoGluon infers your prediction problem is: multiclass  (because dtype of label-column == int, but few unique label-values observed)\n",
      "If this is wrong, please specify `problem_type` argument in fit() instead (You may specify problem_type as one of: ['binary', 'multiclass', 'regression'])\n",
      "\n",
      "Feature Generator processed 261 data points with 34 features\n",
      "Original Features:\n",
      "\tfloat features: 34\n",
      "Generated Features:\n",
      "\tint features: 0\n",
      "All Features:\n",
      "\tfloat features: 34\n",
      "\tint features: 0\n",
      "\tData preprocessing and feature engineering runtime = 0.11s ...\n",
      "AutoGluon will gauge predictive performance using evaluation metric: accuracy\n",
      "To change this, specify the eval_metric argument of fit()\n",
      "AutoGluon will early stop models using evaluation metric: accuracy\n",
      "Fitting model: RandomForestClassifierGini_STACKER_l0 ...\n"
     ]
    },
    {
     "name": "stdout",
     "output_type": "stream",
     "text": [
      "EXITING FOLD 8 ---- \n",
      "ENTERING FOLD 9 ---- \n"
     ]
    },
    {
     "name": "stderr",
     "output_type": "stream",
     "text": [
      "\t0.5824\t = Validation accuracy score\n",
      "\t2.65s\t = Training runtime\n",
      "\t0.65s\t = Validation runtime\n",
      "Fitting model: RandomForestClassifierEntr_STACKER_l0 ...\n",
      "\t0.5556\t = Validation accuracy score\n",
      "\t2.65s\t = Training runtime\n",
      "\t0.72s\t = Validation runtime\n",
      "Fitting model: ExtraTreesClassifierGini_STACKER_l0 ...\n",
      "\t0.6169\t = Validation accuracy score\n",
      "\t2.15s\t = Training runtime\n",
      "\t0.55s\t = Validation runtime\n",
      "Fitting model: ExtraTreesClassifierEntr_STACKER_l0 ...\n",
      "\t0.5939\t = Validation accuracy score\n",
      "\t2.14s\t = Training runtime\n",
      "\t0.57s\t = Validation runtime\n",
      "Fitting model: KNeighborsClassifierUnif_STACKER_l0 ...\n",
      "\t0.5977\t = Validation accuracy score\n",
      "\t0.16s\t = Training runtime\n",
      "\t0.58s\t = Validation runtime\n",
      "Fitting model: KNeighborsClassifierDist_STACKER_l0 ...\n",
      "\t0.6169\t = Validation accuracy score\n",
      "\t0.17s\t = Training runtime\n",
      "\t0.58s\t = Validation runtime\n",
      "Fitting model: LightGBMClassifier_STACKER_l0 ...\n",
      "\t0.6054\t = Validation accuracy score\n",
      "\t1.75s\t = Training runtime\n",
      "\t0.03s\t = Validation runtime\n",
      "Fitting model: CatboostClassifier_STACKER_l0 ...\n",
      "\t0.6322\t = Validation accuracy score\n",
      "\t3.76s\t = Training runtime\n",
      "\t0.04s\t = Validation runtime\n",
      "Fitting model: NeuralNetClassifier_STACKER_l0 ...\n",
      "\t0.636\t = Validation accuracy score\n",
      "\t14.47s\t = Training runtime\n",
      "\t0.53s\t = Validation runtime\n",
      "Fitting model: LightGBMClassifierCustom_STACKER_l0 ...\n",
      "\t0.5862\t = Validation accuracy score\n",
      "\t4.77s\t = Training runtime\n",
      "\t0.03s\t = Validation runtime\n",
      "Fitting model: weighted_ensemble_k0_l1 ...\n",
      "\t0.6437\t = Validation accuracy score\n",
      "\t0.33s\t = Training runtime\n",
      "\t0.0s\t = Validation runtime\n",
      "AutoGluon training complete, total runtime = 40.65s ...\n"
     ]
    },
    {
     "name": "stdout",
     "output_type": "stream",
     "text": [
      "EXITING FOLD 9 ---- \n"
     ]
    },
    {
     "name": "stderr",
     "output_type": "stream",
     "text": [
      "/home/nicolasf/anaconda3/envs/ML/lib/python3.7/site-packages/sklearn/metrics/classification.py:1437: UndefinedMetricWarning: Precision and F-score are ill-defined and being set to 0.0 in labels with no predicted samples.\n",
      "  'precision', 'predicted', average, warn_for)\n"
     ]
    }
   ],
   "source": [
    "test_indices = []\n",
    "y_preds = []\n",
    "leader_board = []\n",
    "perfs = []\n",
    "\n",
    "for k, (train, test) in enumerate(kfold):\n",
    "    \n",
    "    print(f\"ENTERING FOLD {k} ---- \")\n",
    "    \n",
    "    # saves the test indices\n",
    "    test_indices.append(test)\n",
    "    \n",
    "    # get the numpy array containing the training set initial features (grid points)\n",
    "    X_train = train_data.drop(labels=[target_col],axis=1).values[train]\n",
    "    \n",
    "    # get the numpy array containing the training set target values (y)\n",
    "    y_train =  train_data.loc[:,target_col].values[train]\n",
    "    \n",
    "    # get the numpy array containing the test set initial features (grid points)\n",
    "    X_test = train_data.drop(labels=[target_col],axis=1).values[test]\n",
    "    \n",
    "    # get the numpy array containing the test set target values (y)\n",
    "    y_test = train_data.loc[:,target_col].values[test]\n",
    "    \n",
    "    # -----------\n",
    "    # standardize \n",
    "    \n",
    "    # initialise the scaler (standard scaler)\n",
    "    scaler = StandardScaler() \n",
    "    \n",
    "    # fit on the training set features array, and transform to obtain standardized values\n",
    "    X_train_std = scaler.fit_transform(X_train)\n",
    "    \n",
    "    # apply the transformation on the test set initial features \n",
    "    X_test_std = scaler.transform(X_test)\n",
    "    \n",
    "    # -----------------------------\n",
    "    # Principal Component Analysis \n",
    "    \n",
    "    # instantiate the pca class, with percent of variance to keep  \n",
    "    \n",
    "    skpca = pca.PCA(n_components=percent_variance)\n",
    "    \n",
    "    # fit on the training initial (standardized) fedatures array, and transform to obtain the PCs\n",
    "    X_train_PC = skpca.fit_transform(X_train_std)\n",
    "    \n",
    "    # apply the transformation on the test set standardized features \n",
    "    X_test_PC = skpca.transform(X_test_std)\n",
    "    \n",
    "    # assign the training set PCs to a DataFrame \n",
    "    df_train = pd.DataFrame(X_train_PC) \n",
    "    \n",
    "    # add the target values to the training DataFrame \n",
    "    df_train.loc[:,target_col] = y_train\n",
    "    \n",
    "    # assign the test set Pcs to a DataFrame \n",
    "    df_test = pd.DataFrame(X_test_PC) \n",
    "    \n",
    "    # add the target values to the test DataFrame\n",
    "    df_test.loc[:,target_col] = y_test\n",
    "    \n",
    "    # fit the task predictor on the training set DataFrame \n",
    "    predictor = task.fit(train_data=df_train, label=target_col, auto_stack=True, output_directory=opath)\n",
    "    \n",
    "    # predict the probabilities for each class from the test set features DataFrame (droping the target values column)\n",
    "#     y_pred_proba = predictor.predict_proba(df_test.drop(labels=[region_name],axis=1))\n",
    "    \n",
    "    # predict the class value itself\n",
    "    y_pred = predictor.predict(df_test.drop(labels=[target_col],axis=1))\n",
    "    \n",
    "    # records the probabilities for the classes on the test set \n",
    "    y_preds.append(y_pred)\n",
    "    \n",
    "    # get the leaderboard DataFrame \n",
    "    d = predictor.leaderboard(silent=True)\n",
    "    \n",
    "    # records the leaderboard DataFrame \n",
    "    leader_board.append(d)\n",
    "    \n",
    "    perfs.append(predictor.evaluate_predictions(y_true=y_test, y_pred=y_pred, auxiliary_metrics=True, silent=True))\n",
    "    \n",
    "    print(f\"EXITING FOLD {k} ---- \")"
   ]
  },
  {
   "cell_type": "code",
   "execution_count": null,
   "metadata": {},
   "outputs": [],
   "source": []
  },
  {
   "cell_type": "code",
   "execution_count": null,
   "metadata": {},
   "outputs": [],
   "source": []
  },
  {
   "cell_type": "code",
   "execution_count": null,
   "metadata": {},
   "outputs": [],
   "source": []
  },
  {
   "cell_type": "code",
   "execution_count": null,
   "metadata": {},
   "outputs": [],
   "source": []
  },
  {
   "cell_type": "code",
   "execution_count": null,
   "metadata": {},
   "outputs": [],
   "source": []
  },
  {
   "cell_type": "code",
   "execution_count": null,
   "metadata": {},
   "outputs": [],
   "source": []
  },
  {
   "cell_type": "code",
   "execution_count": null,
   "metadata": {},
   "outputs": [],
   "source": []
  },
  {
   "cell_type": "code",
   "execution_count": null,
   "metadata": {},
   "outputs": [],
   "source": []
  },
  {
   "cell_type": "code",
   "execution_count": null,
   "metadata": {},
   "outputs": [],
   "source": []
  },
  {
   "cell_type": "code",
   "execution_count": null,
   "metadata": {},
   "outputs": [],
   "source": []
  },
  {
   "cell_type": "code",
   "execution_count": null,
   "metadata": {},
   "outputs": [],
   "source": []
  },
  {
   "cell_type": "code",
   "execution_count": null,
   "metadata": {},
   "outputs": [],
   "source": []
  },
  {
   "cell_type": "code",
   "execution_count": 34,
   "metadata": {},
   "outputs": [
    {
     "data": {
      "text/plain": [
       "10"
      ]
     },
     "execution_count": 34,
     "metadata": {},
     "output_type": "execute_result"
    }
   ],
   "source": [
    "len(leader_board)"
   ]
  },
  {
   "cell_type": "code",
   "execution_count": 35,
   "metadata": {},
   "outputs": [],
   "source": [
    "top = []\n",
    "for i in range(len(leader_board)): \n",
    "    top.append(leader_board[i].iloc[[0],:])"
   ]
  },
  {
   "cell_type": "code",
   "execution_count": 36,
   "metadata": {},
   "outputs": [],
   "source": [
    "top = pd.concat(top, axis=0)"
   ]
  },
  {
   "cell_type": "code",
   "execution_count": 37,
   "metadata": {},
   "outputs": [
    {
     "data": {
      "text/html": [
       "<div>\n",
       "<style scoped>\n",
       "    .dataframe tbody tr th:only-of-type {\n",
       "        vertical-align: middle;\n",
       "    }\n",
       "\n",
       "    .dataframe tbody tr th {\n",
       "        vertical-align: top;\n",
       "    }\n",
       "\n",
       "    .dataframe thead th {\n",
       "        text-align: right;\n",
       "    }\n",
       "</style>\n",
       "<table border=\"1\" class=\"dataframe\">\n",
       "  <thead>\n",
       "    <tr style=\"text-align: right;\">\n",
       "      <th></th>\n",
       "      <th>model</th>\n",
       "      <th>score_val</th>\n",
       "      <th>fit_time</th>\n",
       "      <th>pred_time_val</th>\n",
       "      <th>stack_level</th>\n",
       "    </tr>\n",
       "  </thead>\n",
       "  <tbody>\n",
       "    <tr>\n",
       "      <th>10</th>\n",
       "      <td>weighted_ensemble_k0_l1</td>\n",
       "      <td>0.689922</td>\n",
       "      <td>0.383616</td>\n",
       "      <td>0.000739</td>\n",
       "      <td>1</td>\n",
       "    </tr>\n",
       "    <tr>\n",
       "      <th>10</th>\n",
       "      <td>weighted_ensemble_k0_l1</td>\n",
       "      <td>0.666667</td>\n",
       "      <td>0.384336</td>\n",
       "      <td>0.000791</td>\n",
       "      <td>1</td>\n",
       "    </tr>\n",
       "    <tr>\n",
       "      <th>10</th>\n",
       "      <td>weighted_ensemble_k0_l1</td>\n",
       "      <td>0.694981</td>\n",
       "      <td>0.382756</td>\n",
       "      <td>0.000773</td>\n",
       "      <td>1</td>\n",
       "    </tr>\n",
       "    <tr>\n",
       "      <th>10</th>\n",
       "      <td>weighted_ensemble_k0_l1</td>\n",
       "      <td>0.706564</td>\n",
       "      <td>0.367373</td>\n",
       "      <td>0.000731</td>\n",
       "      <td>1</td>\n",
       "    </tr>\n",
       "    <tr>\n",
       "      <th>10</th>\n",
       "      <td>weighted_ensemble_k0_l1</td>\n",
       "      <td>0.660232</td>\n",
       "      <td>0.374954</td>\n",
       "      <td>0.000756</td>\n",
       "      <td>1</td>\n",
       "    </tr>\n",
       "    <tr>\n",
       "      <th>10</th>\n",
       "      <td>weighted_ensemble_k0_l1</td>\n",
       "      <td>0.671815</td>\n",
       "      <td>0.357203</td>\n",
       "      <td>0.000745</td>\n",
       "      <td>1</td>\n",
       "    </tr>\n",
       "    <tr>\n",
       "      <th>10</th>\n",
       "      <td>weighted_ensemble_k0_l1</td>\n",
       "      <td>0.625483</td>\n",
       "      <td>0.355526</td>\n",
       "      <td>0.000756</td>\n",
       "      <td>1</td>\n",
       "    </tr>\n",
       "    <tr>\n",
       "      <th>10</th>\n",
       "      <td>weighted_ensemble_k0_l1</td>\n",
       "      <td>0.661538</td>\n",
       "      <td>0.344448</td>\n",
       "      <td>0.000738</td>\n",
       "      <td>1</td>\n",
       "    </tr>\n",
       "    <tr>\n",
       "      <th>10</th>\n",
       "      <td>weighted_ensemble_k0_l1</td>\n",
       "      <td>0.653846</td>\n",
       "      <td>0.331419</td>\n",
       "      <td>0.000798</td>\n",
       "      <td>1</td>\n",
       "    </tr>\n",
       "    <tr>\n",
       "      <th>10</th>\n",
       "      <td>weighted_ensemble_k0_l1</td>\n",
       "      <td>0.643678</td>\n",
       "      <td>0.325032</td>\n",
       "      <td>0.000819</td>\n",
       "      <td>1</td>\n",
       "    </tr>\n",
       "  </tbody>\n",
       "</table>\n",
       "</div>"
      ],
      "text/plain": [
       "                      model  score_val  fit_time  pred_time_val  stack_level\n",
       "10  weighted_ensemble_k0_l1   0.689922  0.383616       0.000739            1\n",
       "10  weighted_ensemble_k0_l1   0.666667  0.384336       0.000791            1\n",
       "10  weighted_ensemble_k0_l1   0.694981  0.382756       0.000773            1\n",
       "10  weighted_ensemble_k0_l1   0.706564  0.367373       0.000731            1\n",
       "10  weighted_ensemble_k0_l1   0.660232  0.374954       0.000756            1\n",
       "10  weighted_ensemble_k0_l1   0.671815  0.357203       0.000745            1\n",
       "10  weighted_ensemble_k0_l1   0.625483  0.355526       0.000756            1\n",
       "10  weighted_ensemble_k0_l1   0.661538  0.344448       0.000738            1\n",
       "10  weighted_ensemble_k0_l1   0.653846  0.331419       0.000798            1\n",
       "10  weighted_ensemble_k0_l1   0.643678  0.325032       0.000819            1"
      ]
     },
     "execution_count": 37,
     "metadata": {},
     "output_type": "execute_result"
    }
   ],
   "source": [
    "top"
   ]
  },
  {
   "cell_type": "code",
   "execution_count": null,
   "metadata": {},
   "outputs": [],
   "source": []
  }
 ],
 "metadata": {
  "kernelspec": {
   "display_name": "Python 3",
   "language": "python",
   "name": "python3"
  },
  "language_info": {
   "codemirror_mode": {
    "name": "ipython",
    "version": 3
   },
   "file_extension": ".py",
   "mimetype": "text/x-python",
   "name": "python",
   "nbconvert_exporter": "python",
   "pygments_lexer": "ipython3",
   "version": "3.7.5"
  }
 },
 "nbformat": 4,
 "nbformat_minor": 4
}
