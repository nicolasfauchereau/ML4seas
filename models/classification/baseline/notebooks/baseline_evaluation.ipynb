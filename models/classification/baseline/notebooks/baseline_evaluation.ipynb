{
 "cells": [
  {
   "cell_type": "code",
   "execution_count": 1,
   "metadata": {},
   "outputs": [],
   "source": [
    "# Parameters \n",
    "GCM = 'ECMWF'\n",
    "var_X = 't2m'\n",
    "target_var = 'TMEAN'"
   ]
  },
  {
   "cell_type": "markdown",
   "metadata": {},
   "source": [
    "+ UKMO  \n",
    "+ ECMWF  \n",
    "+ METEO_FRANCE   \n",
    "+ DWD   \n",
    "+ CMCC     \n",
    "+ NCEP_CFSv2    \n",
    "+ CanCM4i  \n",
    "+ CanSIPSv2  \n",
    "+ GEM_NEMO   \n",
    "+ NASA_GEOSS2S      \n",
    "+ JMA   "
   ]
  },
  {
   "cell_type": "code",
   "execution_count": 2,
   "metadata": {},
   "outputs": [],
   "source": [
    "GCMs = ['UKMO', 'ECMWF', 'METEO_FRANCE', 'DWD', 'CMCC', 'NCEP_CFSv2', 'CanSIPSv2', 'GEM_NEMO', 'NASA_GEOSS2S','JMA']   "
   ]
  },
  {
   "cell_type": "code",
   "execution_count": 3,
   "metadata": {},
   "outputs": [],
   "source": [
    "import sys\n",
    "import pathlib"
   ]
  },
  {
   "cell_type": "code",
   "execution_count": 4,
   "metadata": {},
   "outputs": [],
   "source": [
    "import numpy as np\n",
    "import pandas as pd"
   ]
  },
  {
   "cell_type": "code",
   "execution_count": 5,
   "metadata": {},
   "outputs": [],
   "source": [
    "sys.path.append('../../../../ml4seas/')"
   ]
  },
  {
   "cell_type": "code",
   "execution_count": 6,
   "metadata": {},
   "outputs": [],
   "source": [
    "HOME = pathlib.Path.home()"
   ]
  },
  {
   "cell_type": "code",
   "execution_count": 7,
   "metadata": {},
   "outputs": [],
   "source": [
    "dpath_target = HOME / 'research' / 'Smart_Ideas' / 'outputs' / 'targets' / 'NZ_regions' / 'NZ_6_regions'"
   ]
  },
  {
   "cell_type": "code",
   "execution_count": 8,
   "metadata": {},
   "outputs": [],
   "source": [
    "targets = []\n",
    "for reg in ['NNI','WNI','ENI','NSI','WSI','ESI']: \n",
    "    target = pd.read_csv(dpath_target / target_var / reg / f'TS_NZ_region_{reg}_{target_var}_3_quantiles_anoms.csv', index_col=0, parse_dates=True)\n",
    "    target.columns = pd.MultiIndex.from_product([[reg],target.columns])\n",
    "    targets.append(target)"
   ]
  },
  {
   "cell_type": "code",
   "execution_count": 9,
   "metadata": {},
   "outputs": [],
   "source": [
    "targets = pd.concat(targets, axis=1)"
   ]
  },
  {
   "cell_type": "code",
   "execution_count": 10,
   "metadata": {},
   "outputs": [],
   "source": [
    "targets_anomalies = targets.loc[:, (slice(None), [\"anomalies\"])]"
   ]
  },
  {
   "cell_type": "code",
   "execution_count": 11,
   "metadata": {},
   "outputs": [],
   "source": [
    "target_terciles = targets.loc[:, (slice(None), [\"cat_3\"])]"
   ]
  },
  {
   "cell_type": "code",
   "execution_count": 12,
   "metadata": {},
   "outputs": [],
   "source": [
    "targets_anomalies.columns = targets_anomalies.columns.droplevel(1)"
   ]
  },
  {
   "cell_type": "code",
   "execution_count": 13,
   "metadata": {},
   "outputs": [],
   "source": [
    "target_terciles.columns = target_terciles.columns.droplevel(1)"
   ]
  },
  {
   "cell_type": "code",
   "execution_count": 40,
   "metadata": {},
   "outputs": [
    {
     "name": "stdout",
     "output_type": "stream",
     "text": [
      "Metrics for GCM UKMO:\n",
      "\n",
      "accuracy for NNI TMEAN for regional TS derived from UKMO = 0.50, Pearson's R = +0.38\n",
      "accuracy for WNI TMEAN for regional TS derived from UKMO = 0.50, Pearson's R = +0.37\n",
      "accuracy for ENI TMEAN for regional TS derived from UKMO = 0.42, Pearson's R = +0.30\n",
      "accuracy for NSI TMEAN for regional TS derived from UKMO = 0.58, Pearson's R = +0.35\n",
      "accuracy for WSI TMEAN for regional TS derived from UKMO = 0.58, Pearson's R = +0.33\n",
      "accuracy for ESI TMEAN for regional TS derived from UKMO = 0.46, Pearson's R = +0.25\n",
      "\n",
      "------------------------------------------------------------------------------------------------------------------\n",
      "\n",
      "Metrics for GCM ECMWF:\n",
      "\n",
      "accuracy for NNI TMEAN for regional TS derived from ECMWF = 0.50, Pearson's R = +0.41\n",
      "accuracy for WNI TMEAN for regional TS derived from ECMWF = 0.50, Pearson's R = +0.41\n",
      "accuracy for ENI TMEAN for regional TS derived from ECMWF = 0.50, Pearson's R = +0.33\n",
      "accuracy for NSI TMEAN for regional TS derived from ECMWF = 0.67, Pearson's R = +0.40\n",
      "accuracy for WSI TMEAN for regional TS derived from ECMWF = 0.58, Pearson's R = +0.35\n",
      "accuracy for ESI TMEAN for regional TS derived from ECMWF = 0.38, Pearson's R = +0.26\n",
      "\n",
      "------------------------------------------------------------------------------------------------------------------\n",
      "\n",
      "Metrics for GCM METEO_FRANCE:\n",
      "\n",
      "accuracy for NNI TMEAN for regional TS derived from METEO_FRANCE = 0.67, Pearson's R = +0.38\n",
      "accuracy for WNI TMEAN for regional TS derived from METEO_FRANCE = 0.54, Pearson's R = +0.35\n",
      "accuracy for ENI TMEAN for regional TS derived from METEO_FRANCE = 0.54, Pearson's R = +0.31\n",
      "accuracy for NSI TMEAN for regional TS derived from METEO_FRANCE = 0.62, Pearson's R = +0.37\n",
      "accuracy for WSI TMEAN for regional TS derived from METEO_FRANCE = 0.58, Pearson's R = +0.31\n",
      "accuracy for ESI TMEAN for regional TS derived from METEO_FRANCE = 0.50, Pearson's R = +0.23\n",
      "\n",
      "------------------------------------------------------------------------------------------------------------------\n",
      "\n",
      "Metrics for GCM DWD:\n",
      "\n",
      "accuracy for NNI TMEAN for regional TS derived from DWD = 0.58, Pearson's R = +0.35\n",
      "accuracy for WNI TMEAN for regional TS derived from DWD = 0.50, Pearson's R = +0.31\n",
      "accuracy for ENI TMEAN for regional TS derived from DWD = 0.50, Pearson's R = +0.27\n",
      "accuracy for NSI TMEAN for regional TS derived from DWD = 0.58, Pearson's R = +0.34\n",
      "accuracy for WSI TMEAN for regional TS derived from DWD = 0.58, Pearson's R = +0.30\n",
      "accuracy for ESI TMEAN for regional TS derived from DWD = 0.29, Pearson's R = +0.19\n",
      "\n",
      "------------------------------------------------------------------------------------------------------------------\n",
      "\n",
      "Metrics for GCM CMCC:\n",
      "\n",
      "accuracy for NNI TMEAN for regional TS derived from CMCC = 0.58, Pearson's R = +0.43\n",
      "accuracy for WNI TMEAN for regional TS derived from CMCC = 0.67, Pearson's R = +0.42\n",
      "accuracy for ENI TMEAN for regional TS derived from CMCC = 0.58, Pearson's R = +0.37\n",
      "accuracy for NSI TMEAN for regional TS derived from CMCC = 0.67, Pearson's R = +0.38\n",
      "accuracy for WSI TMEAN for regional TS derived from CMCC = 0.58, Pearson's R = +0.37\n",
      "accuracy for ESI TMEAN for regional TS derived from CMCC = 0.50, Pearson's R = +0.26\n",
      "\n",
      "------------------------------------------------------------------------------------------------------------------\n",
      "\n",
      "Metrics for GCM NCEP_CFSv2:\n",
      "\n",
      "accuracy for NNI TMEAN for regional TS derived from NCEP_CFSv2 = 0.71, Pearson's R = +0.52\n",
      "accuracy for WNI TMEAN for regional TS derived from NCEP_CFSv2 = 0.63, Pearson's R = +0.51\n",
      "accuracy for ENI TMEAN for regional TS derived from NCEP_CFSv2 = 0.69, Pearson's R = +0.42\n",
      "accuracy for NSI TMEAN for regional TS derived from NCEP_CFSv2 = 0.69, Pearson's R = +0.47\n",
      "accuracy for WSI TMEAN for regional TS derived from NCEP_CFSv2 = 0.71, Pearson's R = +0.44\n",
      "accuracy for ESI TMEAN for regional TS derived from NCEP_CFSv2 = 0.60, Pearson's R = +0.37\n",
      "\n",
      "------------------------------------------------------------------------------------------------------------------\n",
      "\n",
      "Metrics for GCM CanSIPSv2:\n",
      "\n",
      "accuracy for NNI TMEAN for regional TS derived from CanSIPSv2 = 0.50, Pearson's R = +0.50\n",
      "accuracy for WNI TMEAN for regional TS derived from CanSIPSv2 = 0.42, Pearson's R = +0.48\n",
      "accuracy for ENI TMEAN for regional TS derived from CanSIPSv2 = 0.42, Pearson's R = +0.37\n",
      "accuracy for NSI TMEAN for regional TS derived from CanSIPSv2 = 0.53, Pearson's R = +0.47\n",
      "accuracy for WSI TMEAN for regional TS derived from CanSIPSv2 = 0.47, Pearson's R = +0.42\n",
      "accuracy for ESI TMEAN for regional TS derived from CanSIPSv2 = 0.47, Pearson's R = +0.31\n",
      "\n",
      "------------------------------------------------------------------------------------------------------------------\n",
      "\n",
      "Metrics for GCM GEM_NEMO:\n",
      "\n",
      "accuracy for NNI TMEAN for regional TS derived from GEM_NEMO = 0.56, Pearson's R = +0.49\n",
      "accuracy for WNI TMEAN for regional TS derived from GEM_NEMO = 0.53, Pearson's R = +0.46\n",
      "accuracy for ENI TMEAN for regional TS derived from GEM_NEMO = 0.56, Pearson's R = +0.36\n",
      "accuracy for NSI TMEAN for regional TS derived from GEM_NEMO = 0.47, Pearson's R = +0.45\n",
      "accuracy for WSI TMEAN for regional TS derived from GEM_NEMO = 0.47, Pearson's R = +0.42\n",
      "accuracy for ESI TMEAN for regional TS derived from GEM_NEMO = 0.50, Pearson's R = +0.32\n",
      "\n",
      "------------------------------------------------------------------------------------------------------------------\n",
      "\n",
      "Metrics for GCM NASA_GEOSS2S:\n",
      "\n",
      "accuracy for NNI TMEAN for regional TS derived from NASA_GEOSS2S = 0.56, Pearson's R = +0.44\n",
      "accuracy for WNI TMEAN for regional TS derived from NASA_GEOSS2S = 0.44, Pearson's R = +0.40\n",
      "accuracy for ENI TMEAN for regional TS derived from NASA_GEOSS2S = 0.39, Pearson's R = +0.31\n",
      "accuracy for NSI TMEAN for regional TS derived from NASA_GEOSS2S = 0.47, Pearson's R = +0.40\n",
      "accuracy for WSI TMEAN for regional TS derived from NASA_GEOSS2S = 0.47, Pearson's R = +0.35\n",
      "accuracy for ESI TMEAN for regional TS derived from NASA_GEOSS2S = 0.36, Pearson's R = +0.26\n",
      "\n",
      "------------------------------------------------------------------------------------------------------------------\n",
      "\n",
      "Metrics for GCM JMA:\n",
      "\n",
      "accuracy for NNI TMEAN for regional TS derived from JMA = 0.50, Pearson's R = +0.48\n",
      "accuracy for WNI TMEAN for regional TS derived from JMA = 0.45, Pearson's R = +0.45\n",
      "accuracy for ENI TMEAN for regional TS derived from JMA = 0.45, Pearson's R = +0.37\n",
      "accuracy for NSI TMEAN for regional TS derived from JMA = 0.55, Pearson's R = +0.42\n",
      "accuracy for WSI TMEAN for regional TS derived from JMA = 0.55, Pearson's R = +0.36\n",
      "accuracy for ESI TMEAN for regional TS derived from JMA = 0.34, Pearson's R = +0.27\n",
      "\n",
      "------------------------------------------------------------------------------------------------------------------\n",
      "\n"
     ]
    }
   ],
   "source": [
    "acc_month_GCM = {}\n",
    "\n",
    "for GCM in GCMs:\n",
    "    print(f'Metrics for GCM {GCM}:\\n')\n",
    "    \n",
    "    acc_month = {}\n",
    "    \n",
    "    for region_name in ['NNI','WNI','ENI','NSI','WSI','ESI']: \n",
    "        dpath_gcm = HOME / 'research' / 'Smart_Ideas'/ 'outputs' / 'targets' / 'GCMs' / 'NZ_6_regions' / GCM / var_X.upper() / region_name\n",
    "        gcm_ts = pd.read_csv(dpath_gcm / f'TS_NZ_region_{region_name}_{GCM}_{var_X.upper()}_3_quantiles_anoms.csv', index_col=0)  \n",
    "        tobs_cat = target_terciles.loc[:,[region_name]]\n",
    "        tobs_anoms = targets_anomalies.loc[:,[region_name]]\n",
    "        all_ts_terciles = gcm_ts.merge(tobs_cat, left_index=True, right_index=True)\n",
    "        all_ts_anoms = gcm_ts.merge(tobs_anoms, left_index=True, right_index=True)\n",
    "        acc = (all_ts_terciles.loc[:,'cat_3'] == all_ts_terciles.loc[:,region_name]).sum() / len(all_ts_terciles)\n",
    "        \n",
    "        \n",
    "        \n",
    "        l_acc = []\n",
    "        \n",
    "        for m in range(1, 13): \n",
    "            df = all_ts_terciles.loc[all_ts_terciles.index.month==m]\n",
    "            acc = (df.loc[:,'cat_3'] == df.loc[:,region_name]).sum() / len(df)\n",
    "            l_acc.append(acc)\n",
    "        \n",
    "        acc_month[region_name] = np.array(l_acc)\n",
    "        \n",
    "        R = all_ts_anoms.loc[:,['anomalies', region_name]].corr().iloc[0,1]\n",
    "        print(f\"accuracy for {region_name} {target_var} for regional TS derived from {GCM} = {acc:4.2f}, Pearson's R = {R:+4.2f}\")\n",
    "    \n",
    "    print(\"\\n------------------------------------------------------------------------------------------------------------------\\n\")\n",
    "    \n",
    "    acc_month_GCM[GCM] = acc_month"
   ]
  },
  {
   "cell_type": "code",
   "execution_count": 39,
   "metadata": {},
   "outputs": [
    {
     "data": {
      "text/plain": [
       "{'UKMO': {'ESI': array([0.375     , 0.29166667, 0.16666667, 0.39130435, 0.45833333,\n",
       "         0.41666667, 0.45833333, 0.5       , 0.375     , 0.375     ,\n",
       "         0.58333333, 0.45833333])},\n",
       " 'ECMWF': {'ESI': array([0.41666667, 0.29166667, 0.16666667, 0.33333333, 0.54166667,\n",
       "         0.45833333, 0.45833333, 0.5       , 0.29166667, 0.54166667,\n",
       "         0.54166667, 0.375     ])},\n",
       " 'METEO_FRANCE': {'ESI': array([0.54166667, 0.33333333, 0.29166667, 0.33333333, 0.58333333,\n",
       "         0.41666667, 0.54166667, 0.45833333, 0.375     , 0.58333333,\n",
       "         0.5       , 0.5       ])},\n",
       " 'DWD': {'ESI': array([0.375     , 0.29166667, 0.125     , 0.29166667, 0.45833333,\n",
       "         0.41666667, 0.5       , 0.45833333, 0.41666667, 0.375     ,\n",
       "         0.58333333, 0.29166667])},\n",
       " 'CMCC': {'ESI': array([0.5       , 0.375     , 0.25      , 0.33333333, 0.77777778,\n",
       "         0.375     , 0.58333333, 0.41666667, 0.375     , 0.5       ,\n",
       "         0.54166667, 0.5       ])},\n",
       " 'NCEP_CFSv2': {'ESI': array([0.37142857, 0.48571429, 0.34285714, 0.42857143, 0.48571429,\n",
       "         0.51428571, 0.42857143, 0.48571429, 0.42857143, 0.34285714,\n",
       "         0.48571429, 0.6       ])},\n",
       " 'CanSIPSv2': {'ESI': array([0.36111111, 0.33333333, 0.38888889, 0.30555556, 0.44444444,\n",
       "         0.44444444, 0.44444444, 0.47222222, 0.47222222, 0.38888889,\n",
       "         0.47222222, 0.47222222])},\n",
       " 'GEM_NEMO': {'ESI': array([0.36111111, 0.36111111, 0.36111111, 0.41666667, 0.44444444,\n",
       "         0.52777778, 0.52777778, 0.47222222, 0.41666667, 0.38888889,\n",
       "         0.41666667, 0.5       ])},\n",
       " 'NASA_GEOSS2S': {'ESI': array([0.41666667, 0.27777778, 0.36111111, 0.42857143, 0.44444444,\n",
       "         0.22222222, 0.52777778, 0.38888889, 0.52777778, 0.36111111,\n",
       "         0.47222222, 0.36111111])},\n",
       " 'JMA': {'ESI': array([0.47368421, 0.42105263, 0.34210526, 0.36842105, 0.44736842,\n",
       "         0.42105263, 0.44736842, 0.39473684, 0.47368421, 0.36842105,\n",
       "         0.5       , 0.34210526])}}"
      ]
     },
     "execution_count": 39,
     "metadata": {},
     "output_type": "execute_result"
    }
   ],
   "source": [
    "acc_month_GCM"
   ]
  },
  {
   "cell_type": "code",
   "execution_count": 41,
   "metadata": {},
   "outputs": [],
   "source": [
    "df_acc_month = []\n",
    "for GCM in GCMs: \n",
    "    df_acc_month.append(pd.DataFrame(acc_month_GCM[GCM]))"
   ]
  },
  {
   "cell_type": "code",
   "execution_count": 50,
   "metadata": {},
   "outputs": [
    {
     "data": {
      "text/plain": [
       "<matplotlib.axes._subplots.AxesSubplot at 0x7f38889d1210>"
      ]
     },
     "execution_count": 50,
     "metadata": {},
     "output_type": "execute_result"
    },
    {
     "data": {
      "image/png": "[encoded data removed]",
      "text/plain": [
       "<Figure size 432x288 with 1 Axes>"
      ]
     },
     "metadata": {
      "needs_background": "light"
     },
     "output_type": "display_data"
    }
   ],
   "source": [
    "pd.DataFrame(acc_month_GCM['NCEP_CFSv2']).plot()"
   ]
  },
  {
   "cell_type": "code",
   "execution_count": null,
   "metadata": {},
   "outputs": [],
   "source": []
  },
  {
   "cell_type": "code",
   "execution_count": null,
   "metadata": {},
   "outputs": [],
   "source": []
  },
  {
   "cell_type": "code",
   "execution_count": null,
   "metadata": {},
   "outputs": [],
   "source": []
  }
 ],
 "metadata": {
  "kernelspec": {
   "display_name": "Python 3",
   "language": "python",
   "name": "python3"
  },
  "language_info": {
   "codemirror_mode": {
    "name": "ipython",
    "version": 3
   },
   "file_extension": ".py",
   "mimetype": "text/x-python",
   "name": "python",
   "nbconvert_exporter": "python",
   "pygments_lexer": "ipython3",
   "version": "3.7.5"
  }
 },
 "nbformat": 4,
 "nbformat_minor": 4
}
