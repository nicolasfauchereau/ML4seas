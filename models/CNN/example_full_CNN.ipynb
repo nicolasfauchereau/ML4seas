{
 "cells": [
  {
   "cell_type": "code",
   "execution_count": 162,
   "metadata": {},
   "outputs": [],
   "source": [
    "%matplotlib inline"
   ]
  },
  {
   "cell_type": "code",
   "execution_count": 163,
   "metadata": {},
   "outputs": [],
   "source": [
    "from matplotlib import pyplot as plt "
   ]
  },
  {
   "cell_type": "code",
   "execution_count": 164,
   "metadata": {},
   "outputs": [
    {
     "name": "stdout",
     "output_type": "stream",
     "text": [
      "The autoreload extension is already loaded. To reload it, use:\n",
      "  %reload_ext autoreload\n"
     ]
    }
   ],
   "source": [
    "%load_ext autoreload"
   ]
  },
  {
   "cell_type": "code",
   "execution_count": 165,
   "metadata": {},
   "outputs": [],
   "source": [
    "%autoreload 2 "
   ]
  },
  {
   "cell_type": "code",
   "execution_count": 166,
   "metadata": {},
   "outputs": [],
   "source": [
    "%matplotlib inline"
   ]
  },
  {
   "cell_type": "code",
   "execution_count": 167,
   "metadata": {},
   "outputs": [],
   "source": [
    "import pathlib"
   ]
  },
  {
   "cell_type": "code",
   "execution_count": 168,
   "metadata": {},
   "outputs": [],
   "source": [
    "CWD = pathlib.Path.cwd()"
   ]
  },
  {
   "cell_type": "code",
   "execution_count": 169,
   "metadata": {},
   "outputs": [],
   "source": [
    "import sys"
   ]
  },
  {
   "cell_type": "code",
   "execution_count": 170,
   "metadata": {},
   "outputs": [],
   "source": [
    "import time"
   ]
  },
  {
   "cell_type": "code",
   "execution_count": 171,
   "metadata": {},
   "outputs": [],
   "source": [
    "sys.path.append('../../ml4seas/')"
   ]
  },
  {
   "cell_type": "code",
   "execution_count": 172,
   "metadata": {},
   "outputs": [],
   "source": [
    "import numpy as np \n",
    "import pandas as pd \n",
    "import xarray as xr"
   ]
  },
  {
   "cell_type": "code",
   "execution_count": 173,
   "metadata": {},
   "outputs": [],
   "source": [
    "import tensorflow as tf\n",
    "import tensorflow.keras as keras\n",
    "from tensorflow.keras.layers import *\n",
    "from tensorflow.keras.models import Model\n",
    "import tensorflow.keras.backend as K"
   ]
  },
  {
   "cell_type": "code",
   "execution_count": 174,
   "metadata": {},
   "outputs": [
    {
     "data": {
      "text/plain": [
       "[PhysicalDevice(name='/physical_device:GPU:0', device_type='GPU')]"
      ]
     },
     "execution_count": 174,
     "metadata": {},
     "output_type": "execute_result"
    }
   ],
   "source": [
    "tf.config.list_physical_devices('GPU')"
   ]
  },
  {
   "cell_type": "code",
   "execution_count": 175,
   "metadata": {},
   "outputs": [],
   "source": [
    "from NN import *"
   ]
  },
  {
   "cell_type": "markdown",
   "metadata": {},
   "source": [
    "### some parameters for the model and the logs "
   ]
  },
  {
   "cell_type": "code",
   "execution_count": 176,
   "metadata": {},
   "outputs": [],
   "source": [
    "if len(tf.config.list_physical_devices('GPU')) >= 1: \n",
    "    compute = 'GPU'\n",
    "else: \n",
    "    compute = 'CPU'"
   ]
  },
  {
   "cell_type": "code",
   "execution_count": 177,
   "metadata": {},
   "outputs": [
    {
     "name": "stdout",
     "output_type": "stream",
     "text": [
      "using the GPU\n"
     ]
    }
   ],
   "source": [
    "print(f\"using the {compute}\")"
   ]
  },
  {
   "cell_type": "code",
   "execution_count": 178,
   "metadata": {},
   "outputs": [],
   "source": [
    "batch_size=32"
   ]
  },
  {
   "cell_type": "code",
   "execution_count": 179,
   "metadata": {},
   "outputs": [],
   "source": [
    "padd = 8"
   ]
  },
  {
   "cell_type": "code",
   "execution_count": 180,
   "metadata": {},
   "outputs": [],
   "source": [
    "input_shape = (180, 360, 1) # last for the number of channels "
   ]
  },
  {
   "cell_type": "code",
   "execution_count": 181,
   "metadata": {},
   "outputs": [],
   "source": [
    "resize_shape = (176, 360) # to be evenly divided by the padd"
   ]
  },
  {
   "cell_type": "code",
   "execution_count": 182,
   "metadata": {},
   "outputs": [],
   "source": [
    "n_epochs = 20 # number of epochs "
   ]
  },
  {
   "cell_type": "markdown",
   "metadata": {},
   "source": [
    "### list the files "
   ]
  },
  {
   "cell_type": "code",
   "execution_count": 183,
   "metadata": {},
   "outputs": [],
   "source": [
    "dpath = pathlib.Path('../../../data/GCMs/processed/hindcasts/CDS/CMCC/T2M/')"
   ]
  },
  {
   "cell_type": "code",
   "execution_count": 184,
   "metadata": {},
   "outputs": [],
   "source": [
    "lfiles = list(dpath.glob(\"CMCC_T2M_seasonal_anomalies_????_??.nc\"))"
   ]
  },
  {
   "cell_type": "code",
   "execution_count": 185,
   "metadata": {},
   "outputs": [],
   "source": [
    "lfiles.sort()"
   ]
  },
  {
   "cell_type": "code",
   "execution_count": 186,
   "metadata": {},
   "outputs": [],
   "source": [
    "dset = xr.open_mfdataset(lfiles, concat_dim='time', combine='nested', parallel=True)"
   ]
  },
  {
   "cell_type": "code",
   "execution_count": 187,
   "metadata": {},
   "outputs": [
    {
     "data": {
      "text/html": [
       "<div><svg style=\"position: absolute; width: 0; height: 0; overflow: hidden\">\n",
       "<defs>\n",
       "<symbol id=\"icon-database\" viewBox=\"0 0 32 32\">\n",
       "<path d=\"M16 0c-8.837 0-16 2.239-16 5v4c0 2.761 7.163 5 16 5s16-2.239 16-5v-4c0-2.761-7.163-5-16-5z\"></path>\n",
       "<path d=\"M16 17c-8.837 0-16-2.239-16-5v6c0 2.761 7.163 5 16 5s16-2.239 16-5v-6c0 2.761-7.163 5-16 5z\"></path>\n",
       "<path d=\"M16 26c-8.837 0-16-2.239-16-5v6c0 2.761 7.163 5 16 5s16-2.239 16-5v-6c0 2.761-7.163 5-16 5z\"></path>\n",
       "</symbol>\n",
       "<symbol id=\"icon-file-text2\" viewBox=\"0 0 32 32\">\n",
       "<path d=\"M28.681 7.159c-0.694-0.947-1.662-2.053-2.724-3.116s-2.169-2.030-3.116-2.724c-1.612-1.182-2.393-1.319-2.841-1.319h-15.5c-1.378 0-2.5 1.121-2.5 2.5v27c0 1.378 1.122 2.5 2.5 2.5h23c1.378 0 2.5-1.122 2.5-2.5v-19.5c0-0.448-0.137-1.23-1.319-2.841zM24.543 5.457c0.959 0.959 1.712 1.825 2.268 2.543h-4.811v-4.811c0.718 0.556 1.584 1.309 2.543 2.268zM28 29.5c0 0.271-0.229 0.5-0.5 0.5h-23c-0.271 0-0.5-0.229-0.5-0.5v-27c0-0.271 0.229-0.5 0.5-0.5 0 0 15.499-0 15.5 0v7c0 0.552 0.448 1 1 1h7v19.5z\"></path>\n",
       "<path d=\"M23 26h-14c-0.552 0-1-0.448-1-1s0.448-1 1-1h14c0.552 0 1 0.448 1 1s-0.448 1-1 1z\"></path>\n",
       "<path d=\"M23 22h-14c-0.552 0-1-0.448-1-1s0.448-1 1-1h14c0.552 0 1 0.448 1 1s-0.448 1-1 1z\"></path>\n",
       "<path d=\"M23 18h-14c-0.552 0-1-0.448-1-1s0.448-1 1-1h14c0.552 0 1 0.448 1 1s-0.448 1-1 1z\"></path>\n",
       "</symbol>\n",
       "</defs>\n",
       "</svg>\n",
       "<style>/* CSS stylesheet for displaying xarray objects in jupyterlab.\n",
       " *\n",
       " */\n",
       "\n",
       ":root {\n",
       "  --xr-font-color0: var(--jp-content-font-color0, rgba(0, 0, 0, 1));\n",
       "  --xr-font-color2: var(--jp-content-font-color2, rgba(0, 0, 0, 0.54));\n",
       "  --xr-font-color3: var(--jp-content-font-color3, rgba(0, 0, 0, 0.38));\n",
       "  --xr-border-color: var(--jp-border-color2, #e0e0e0);\n",
       "  --xr-disabled-color: var(--jp-layout-color3, #bdbdbd);\n",
       "  --xr-background-color: var(--jp-layout-color0, white);\n",
       "  --xr-background-color-row-even: var(--jp-layout-color1, white);\n",
       "  --xr-background-color-row-odd: var(--jp-layout-color2, #eeeeee);\n",
       "}\n",
       "\n",
       "html[theme=dark],\n",
       "body.vscode-dark {\n",
       "  --xr-font-color0: rgba(255, 255, 255, 1);\n",
       "  --xr-font-color2: rgba(255, 255, 255, 0.54);\n",
       "  --xr-font-color3: rgba(255, 255, 255, 0.38);\n",
       "  --xr-border-color: #1F1F1F;\n",
       "  --xr-disabled-color: #515151;\n",
       "  --xr-background-color: #111111;\n",
       "  --xr-background-color-row-even: #111111;\n",
       "  --xr-background-color-row-odd: #313131;\n",
       "}\n",
       "\n",
       ".xr-wrap {\n",
       "  display: block;\n",
       "  min-width: 300px;\n",
       "  max-width: 700px;\n",
       "}\n",
       "\n",
       ".xr-text-repr-fallback {\n",
       "  /* fallback to plain text repr when CSS is not injected (untrusted notebook) */\n",
       "  display: none;\n",
       "}\n",
       "\n",
       ".xr-header {\n",
       "  padding-top: 6px;\n",
       "  padding-bottom: 6px;\n",
       "  margin-bottom: 4px;\n",
       "  border-bottom: solid 1px var(--xr-border-color);\n",
       "}\n",
       "\n",
       ".xr-header > div,\n",
       ".xr-header > ul {\n",
       "  display: inline;\n",
       "  margin-top: 0;\n",
       "  margin-bottom: 0;\n",
       "}\n",
       "\n",
       ".xr-obj-type,\n",
       ".xr-array-name {\n",
       "  margin-left: 2px;\n",
       "  margin-right: 10px;\n",
       "}\n",
       "\n",
       ".xr-obj-type {\n",
       "  color: var(--xr-font-color2);\n",
       "}\n",
       "\n",
       ".xr-sections {\n",
       "  padding-left: 0 !important;\n",
       "  display: grid;\n",
       "  grid-template-columns: 150px auto auto 1fr 20px 20px;\n",
       "}\n",
       "\n",
       ".xr-section-item {\n",
       "  display: contents;\n",
       "}\n",
       "\n",
       ".xr-section-item input {\n",
       "  display: none;\n",
       "}\n",
       "\n",
       ".xr-section-item input + label {\n",
       "  color: var(--xr-disabled-color);\n",
       "}\n",
       "\n",
       ".xr-section-item input:enabled + label {\n",
       "  cursor: pointer;\n",
       "  color: var(--xr-font-color2);\n",
       "}\n",
       "\n",
       ".xr-section-item input:enabled + label:hover {\n",
       "  color: var(--xr-font-color0);\n",
       "}\n",
       "\n",
       ".xr-section-summary {\n",
       "  grid-column: 1;\n",
       "  color: var(--xr-font-color2);\n",
       "  font-weight: 500;\n",
       "}\n",
       "\n",
       ".xr-section-summary > span {\n",
       "  display: inline-block;\n",
       "  padding-left: 0.5em;\n",
       "}\n",
       "\n",
       ".xr-section-summary-in:disabled + label {\n",
       "  color: var(--xr-font-color2);\n",
       "}\n",
       "\n",
       ".xr-section-summary-in + label:before {\n",
       "  display: inline-block;\n",
       "  content: '►';\n",
       "  font-size: 11px;\n",
       "  width: 15px;\n",
       "  text-align: center;\n",
       "}\n",
       "\n",
       ".xr-section-summary-in:disabled + label:before {\n",
       "  color: var(--xr-disabled-color);\n",
       "}\n",
       "\n",
       ".xr-section-summary-in:checked + label:before {\n",
       "  content: '▼';\n",
       "}\n",
       "\n",
       ".xr-section-summary-in:checked + label > span {\n",
       "  display: none;\n",
       "}\n",
       "\n",
       ".xr-section-summary,\n",
       ".xr-section-inline-details {\n",
       "  padding-top: 4px;\n",
       "  padding-bottom: 4px;\n",
       "}\n",
       "\n",
       ".xr-section-inline-details {\n",
       "  grid-column: 2 / -1;\n",
       "}\n",
       "\n",
       ".xr-section-details {\n",
       "  display: none;\n",
       "  grid-column: 1 / -1;\n",
       "  margin-bottom: 5px;\n",
       "}\n",
       "\n",
       ".xr-section-summary-in:checked ~ .xr-section-details {\n",
       "  display: contents;\n",
       "}\n",
       "\n",
       ".xr-array-wrap {\n",
       "  grid-column: 1 / -1;\n",
       "  display: grid;\n",
       "  grid-template-columns: 20px auto;\n",
       "}\n",
       "\n",
       ".xr-array-wrap > label {\n",
       "  grid-column: 1;\n",
       "  vertical-align: top;\n",
       "}\n",
       "\n",
       ".xr-preview {\n",
       "  color: var(--xr-font-color3);\n",
       "}\n",
       "\n",
       ".xr-array-preview,\n",
       ".xr-array-data {\n",
       "  padding: 0 5px !important;\n",
       "  grid-column: 2;\n",
       "}\n",
       "\n",
       ".xr-array-data,\n",
       ".xr-array-in:checked ~ .xr-array-preview {\n",
       "  display: none;\n",
       "}\n",
       "\n",
       ".xr-array-in:checked ~ .xr-array-data,\n",
       ".xr-array-preview {\n",
       "  display: inline-block;\n",
       "}\n",
       "\n",
       ".xr-dim-list {\n",
       "  display: inline-block !important;\n",
       "  list-style: none;\n",
       "  padding: 0 !important;\n",
       "  margin: 0;\n",
       "}\n",
       "\n",
       ".xr-dim-list li {\n",
       "  display: inline-block;\n",
       "  padding: 0;\n",
       "  margin: 0;\n",
       "}\n",
       "\n",
       ".xr-dim-list:before {\n",
       "  content: '(';\n",
       "}\n",
       "\n",
       ".xr-dim-list:after {\n",
       "  content: ')';\n",
       "}\n",
       "\n",
       ".xr-dim-list li:not(:last-child):after {\n",
       "  content: ',';\n",
       "  padding-right: 5px;\n",
       "}\n",
       "\n",
       ".xr-has-index {\n",
       "  font-weight: bold;\n",
       "}\n",
       "\n",
       ".xr-var-list,\n",
       ".xr-var-item {\n",
       "  display: contents;\n",
       "}\n",
       "\n",
       ".xr-var-item > div,\n",
       ".xr-var-item label,\n",
       ".xr-var-item > .xr-var-name span {\n",
       "  background-color: var(--xr-background-color-row-even);\n",
       "  margin-bottom: 0;\n",
       "}\n",
       "\n",
       ".xr-var-item > .xr-var-name:hover span {\n",
       "  padding-right: 5px;\n",
       "}\n",
       "\n",
       ".xr-var-list > li:nth-child(odd) > div,\n",
       ".xr-var-list > li:nth-child(odd) > label,\n",
       ".xr-var-list > li:nth-child(odd) > .xr-var-name span {\n",
       "  background-color: var(--xr-background-color-row-odd);\n",
       "}\n",
       "\n",
       ".xr-var-name {\n",
       "  grid-column: 1;\n",
       "}\n",
       "\n",
       ".xr-var-dims {\n",
       "  grid-column: 2;\n",
       "}\n",
       "\n",
       ".xr-var-dtype {\n",
       "  grid-column: 3;\n",
       "  text-align: right;\n",
       "  color: var(--xr-font-color2);\n",
       "}\n",
       "\n",
       ".xr-var-preview {\n",
       "  grid-column: 4;\n",
       "}\n",
       "\n",
       ".xr-var-name,\n",
       ".xr-var-dims,\n",
       ".xr-var-dtype,\n",
       ".xr-preview,\n",
       ".xr-attrs dt {\n",
       "  white-space: nowrap;\n",
       "  overflow: hidden;\n",
       "  text-overflow: ellipsis;\n",
       "  padding-right: 10px;\n",
       "}\n",
       "\n",
       ".xr-var-name:hover,\n",
       ".xr-var-dims:hover,\n",
       ".xr-var-dtype:hover,\n",
       ".xr-attrs dt:hover {\n",
       "  overflow: visible;\n",
       "  width: auto;\n",
       "  z-index: 1;\n",
       "}\n",
       "\n",
       ".xr-var-attrs,\n",
       ".xr-var-data {\n",
       "  display: none;\n",
       "  background-color: var(--xr-background-color) !important;\n",
       "  padding-bottom: 5px !important;\n",
       "}\n",
       "\n",
       ".xr-var-attrs-in:checked ~ .xr-var-attrs,\n",
       ".xr-var-data-in:checked ~ .xr-var-data {\n",
       "  display: block;\n",
       "}\n",
       "\n",
       ".xr-var-data > table {\n",
       "  float: right;\n",
       "}\n",
       "\n",
       ".xr-var-name span,\n",
       ".xr-var-data,\n",
       ".xr-attrs {\n",
       "  padding-left: 25px !important;\n",
       "}\n",
       "\n",
       ".xr-attrs,\n",
       ".xr-var-attrs,\n",
       ".xr-var-data {\n",
       "  grid-column: 1 / -1;\n",
       "}\n",
       "\n",
       "dl.xr-attrs {\n",
       "  padding: 0;\n",
       "  margin: 0;\n",
       "  display: grid;\n",
       "  grid-template-columns: 125px auto;\n",
       "}\n",
       "\n",
       ".xr-attrs dt, dd {\n",
       "  padding: 0;\n",
       "  margin: 0;\n",
       "  float: left;\n",
       "  padding-right: 10px;\n",
       "  width: auto;\n",
       "}\n",
       "\n",
       ".xr-attrs dt {\n",
       "  font-weight: normal;\n",
       "  grid-column: 1;\n",
       "}\n",
       "\n",
       ".xr-attrs dt:hover span {\n",
       "  display: inline-block;\n",
       "  background: var(--xr-background-color);\n",
       "  padding-right: 10px;\n",
       "}\n",
       "\n",
       ".xr-attrs dd {\n",
       "  grid-column: 2;\n",
       "  white-space: pre-wrap;\n",
       "  word-break: break-all;\n",
       "}\n",
       "\n",
       ".xr-icon-database,\n",
       ".xr-icon-file-text2 {\n",
       "  display: inline-block;\n",
       "  vertical-align: middle;\n",
       "  width: 1em;\n",
       "  height: 1.5em !important;\n",
       "  stroke-width: 0;\n",
       "  stroke: currentColor;\n",
       "  fill: currentColor;\n",
       "}\n",
       "</style><pre class='xr-text-repr-fallback'>&lt;xarray.Dataset&gt;\n",
       "Dimensions:              (lat: 180, lon: 360, member: 40, step: 3, time: 288)\n",
       "Coordinates:\n",
       "  * step                 (step) int64 3 4 5\n",
       "  * lat                  (lat) float64 -89.5 -88.5 -87.5 ... 87.5 88.5 89.5\n",
       "  * lon                  (lon) float64 0.5 1.5 2.5 3.5 ... 357.5 358.5 359.5\n",
       "  * member               (member) int64 0 1 2 3 4 5 6 7 ... 33 34 35 36 37 38 39\n",
       "  * time                 (time) datetime64[ns] 1993-01-01 ... 2016-12-01\n",
       "    month                (time) int64 1 2 3 4 5 6 7 8 9 ... 4 5 6 7 8 9 10 11 12\n",
       "Data variables:\n",
       "    t2m                  (time, member, step, lat, lon) float32 dask.array&lt;chunksize=(1, 40, 3, 180, 360), meta=np.ndarray&gt;\n",
       "    forecast_valid_time  (time, step) datetime64[ns] dask.array&lt;chunksize=(1, 3), meta=np.ndarray&gt;</pre><div class='xr-wrap' hidden><div class='xr-header'><div class='xr-obj-type'>xarray.Dataset</div></div><ul class='xr-sections'><li class='xr-section-item'><input id='section-7a1426b2-21df-4d0b-b182-b744761010a4' class='xr-section-summary-in' type='checkbox' disabled ><label for='section-7a1426b2-21df-4d0b-b182-b744761010a4' class='xr-section-summary'  title='Expand/collapse section'>Dimensions:</label><div class='xr-section-inline-details'><ul class='xr-dim-list'><li><span class='xr-has-index'>lat</span>: 180</li><li><span class='xr-has-index'>lon</span>: 360</li><li><span class='xr-has-index'>member</span>: 40</li><li><span class='xr-has-index'>step</span>: 3</li><li><span class='xr-has-index'>time</span>: 288</li></ul></div><div class='xr-section-details'></div></li><li class='xr-section-item'><input id='section-460747f9-1ea5-4243-ba68-e780c55ebdd2' class='xr-section-summary-in' type='checkbox'  checked><label for='section-460747f9-1ea5-4243-ba68-e780c55ebdd2' class='xr-section-summary' >Coordinates: <span>(6)</span></label><div class='xr-section-inline-details'></div><div class='xr-section-details'><ul class='xr-var-list'><li class='xr-var-item'><div class='xr-var-name'><span class='xr-has-index'>step</span></div><div class='xr-var-dims'>(step)</div><div class='xr-var-dtype'>int64</div><div class='xr-var-preview xr-preview'>3 4 5</div><input id='attrs-280027fc-a737-408e-8748-2f51a863612b' class='xr-var-attrs-in' type='checkbox' disabled><label for='attrs-280027fc-a737-408e-8748-2f51a863612b' title='Show/Hide attributes'><svg class='icon xr-icon-file-text2'><use xlink:href='#icon-file-text2'></use></svg></label><input id='data-15aed815-46ba-4b00-8a9f-f7d843dc2c87' class='xr-var-data-in' type='checkbox'><label for='data-15aed815-46ba-4b00-8a9f-f7d843dc2c87' title='Show/Hide data repr'><svg class='icon xr-icon-database'><use xlink:href='#icon-database'></use></svg></label><div class='xr-var-attrs'><dl class='xr-attrs'></dl></div><div class='xr-var-data'><pre>array([3, 4, 5])</pre></div></li><li class='xr-var-item'><div class='xr-var-name'><span class='xr-has-index'>lat</span></div><div class='xr-var-dims'>(lat)</div><div class='xr-var-dtype'>float64</div><div class='xr-var-preview xr-preview'>-89.5 -88.5 -87.5 ... 88.5 89.5</div><input id='attrs-3542f454-403a-4c95-84d6-1f6633fb3067' class='xr-var-attrs-in' type='checkbox' ><label for='attrs-3542f454-403a-4c95-84d6-1f6633fb3067' title='Show/Hide attributes'><svg class='icon xr-icon-file-text2'><use xlink:href='#icon-file-text2'></use></svg></label><input id='data-38f3e3c2-06b1-468e-a87d-03314627ec51' class='xr-var-data-in' type='checkbox'><label for='data-38f3e3c2-06b1-468e-a87d-03314627ec51' title='Show/Hide data repr'><svg class='icon xr-icon-database'><use xlink:href='#icon-database'></use></svg></label><div class='xr-var-attrs'><dl class='xr-attrs'><dt><span>units :</span></dt><dd>degrees_north</dd><dt><span>standard_name :</span></dt><dd>latitude</dd><dt><span>long_name :</span></dt><dd>latitude</dd><dt><span>stored_direction :</span></dt><dd>decreasing</dd></dl></div><div class='xr-var-data'><pre>array([-89.5, -88.5, -87.5, -86.5, -85.5, -84.5, -83.5, -82.5, -81.5, -80.5,\n",
       "       -79.5, -78.5, -77.5, -76.5, -75.5, -74.5, -73.5, -72.5, -71.5, -70.5,\n",
       "       -69.5, -68.5, -67.5, -66.5, -65.5, -64.5, -63.5, -62.5, -61.5, -60.5,\n",
       "       -59.5, -58.5, -57.5, -56.5, -55.5, -54.5, -53.5, -52.5, -51.5, -50.5,\n",
       "       -49.5, -48.5, -47.5, -46.5, -45.5, -44.5, -43.5, -42.5, -41.5, -40.5,\n",
       "       -39.5, -38.5, -37.5, -36.5, -35.5, -34.5, -33.5, -32.5, -31.5, -30.5,\n",
       "       -29.5, -28.5, -27.5, -26.5, -25.5, -24.5, -23.5, -22.5, -21.5, -20.5,\n",
       "       -19.5, -18.5, -17.5, -16.5, -15.5, -14.5, -13.5, -12.5, -11.5, -10.5,\n",
       "        -9.5,  -8.5,  -7.5,  -6.5,  -5.5,  -4.5,  -3.5,  -2.5,  -1.5,  -0.5,\n",
       "         0.5,   1.5,   2.5,   3.5,   4.5,   5.5,   6.5,   7.5,   8.5,   9.5,\n",
       "        10.5,  11.5,  12.5,  13.5,  14.5,  15.5,  16.5,  17.5,  18.5,  19.5,\n",
       "        20.5,  21.5,  22.5,  23.5,  24.5,  25.5,  26.5,  27.5,  28.5,  29.5,\n",
       "        30.5,  31.5,  32.5,  33.5,  34.5,  35.5,  36.5,  37.5,  38.5,  39.5,\n",
       "        40.5,  41.5,  42.5,  43.5,  44.5,  45.5,  46.5,  47.5,  48.5,  49.5,\n",
       "        50.5,  51.5,  52.5,  53.5,  54.5,  55.5,  56.5,  57.5,  58.5,  59.5,\n",
       "        60.5,  61.5,  62.5,  63.5,  64.5,  65.5,  66.5,  67.5,  68.5,  69.5,\n",
       "        70.5,  71.5,  72.5,  73.5,  74.5,  75.5,  76.5,  77.5,  78.5,  79.5,\n",
       "        80.5,  81.5,  82.5,  83.5,  84.5,  85.5,  86.5,  87.5,  88.5,  89.5])</pre></div></li><li class='xr-var-item'><div class='xr-var-name'><span class='xr-has-index'>lon</span></div><div class='xr-var-dims'>(lon)</div><div class='xr-var-dtype'>float64</div><div class='xr-var-preview xr-preview'>0.5 1.5 2.5 ... 357.5 358.5 359.5</div><input id='attrs-b7b5a509-aaa6-4e37-a847-82d701f89492' class='xr-var-attrs-in' type='checkbox' ><label for='attrs-b7b5a509-aaa6-4e37-a847-82d701f89492' title='Show/Hide attributes'><svg class='icon xr-icon-file-text2'><use xlink:href='#icon-file-text2'></use></svg></label><input id='data-30a8cf48-f0f6-4c2c-9dbe-a445c6db5fa8' class='xr-var-data-in' type='checkbox'><label for='data-30a8cf48-f0f6-4c2c-9dbe-a445c6db5fa8' title='Show/Hide data repr'><svg class='icon xr-icon-database'><use xlink:href='#icon-database'></use></svg></label><div class='xr-var-attrs'><dl class='xr-attrs'><dt><span>units :</span></dt><dd>degrees_east</dd><dt><span>standard_name :</span></dt><dd>longitude</dd><dt><span>long_name :</span></dt><dd>longitude</dd></dl></div><div class='xr-var-data'><pre>array([  0.5,   1.5,   2.5, ..., 357.5, 358.5, 359.5])</pre></div></li><li class='xr-var-item'><div class='xr-var-name'><span class='xr-has-index'>member</span></div><div class='xr-var-dims'>(member)</div><div class='xr-var-dtype'>int64</div><div class='xr-var-preview xr-preview'>0 1 2 3 4 5 6 ... 34 35 36 37 38 39</div><input id='attrs-27c4947d-563b-40e8-8436-bc8d92e4b566' class='xr-var-attrs-in' type='checkbox' ><label for='attrs-27c4947d-563b-40e8-8436-bc8d92e4b566' title='Show/Hide attributes'><svg class='icon xr-icon-file-text2'><use xlink:href='#icon-file-text2'></use></svg></label><input id='data-f74de78f-276d-4ef5-bf89-8412a4351fc6' class='xr-var-data-in' type='checkbox'><label for='data-f74de78f-276d-4ef5-bf89-8412a4351fc6' title='Show/Hide data repr'><svg class='icon xr-icon-database'><use xlink:href='#icon-database'></use></svg></label><div class='xr-var-attrs'><dl class='xr-attrs'><dt><span>long_name :</span></dt><dd>ensemble member numerical id</dd><dt><span>units :</span></dt><dd>1</dd><dt><span>standard_name :</span></dt><dd>realization</dd></dl></div><div class='xr-var-data'><pre>array([ 0,  1,  2,  3,  4,  5,  6,  7,  8,  9, 10, 11, 12, 13, 14, 15, 16, 17,\n",
       "       18, 19, 20, 21, 22, 23, 24, 25, 26, 27, 28, 29, 30, 31, 32, 33, 34, 35,\n",
       "       36, 37, 38, 39])</pre></div></li><li class='xr-var-item'><div class='xr-var-name'><span class='xr-has-index'>time</span></div><div class='xr-var-dims'>(time)</div><div class='xr-var-dtype'>datetime64[ns]</div><div class='xr-var-preview xr-preview'>1993-01-01 ... 2016-12-01</div><input id='attrs-667c45aa-1be8-47de-a644-39911e2319d2' class='xr-var-attrs-in' type='checkbox' ><label for='attrs-667c45aa-1be8-47de-a644-39911e2319d2' title='Show/Hide attributes'><svg class='icon xr-icon-file-text2'><use xlink:href='#icon-file-text2'></use></svg></label><input id='data-83f621dc-54b6-4cab-a969-3fc8cd7cf06b' class='xr-var-data-in' type='checkbox'><label for='data-83f621dc-54b6-4cab-a969-3fc8cd7cf06b' title='Show/Hide data repr'><svg class='icon xr-icon-database'><use xlink:href='#icon-database'></use></svg></label><div class='xr-var-attrs'><dl class='xr-attrs'><dt><span>long_name :</span></dt><dd>initial time of forecast</dd><dt><span>standard_name :</span></dt><dd>forecast_reference_time</dd></dl></div><div class='xr-var-data'><pre>array([&#x27;1993-01-01T00:00:00.000000000&#x27;, &#x27;1993-02-01T00:00:00.000000000&#x27;,\n",
       "       &#x27;1993-03-01T00:00:00.000000000&#x27;, ..., &#x27;2016-10-01T00:00:00.000000000&#x27;,\n",
       "       &#x27;2016-11-01T00:00:00.000000000&#x27;, &#x27;2016-12-01T00:00:00.000000000&#x27;],\n",
       "      dtype=&#x27;datetime64[ns]&#x27;)</pre></div></li><li class='xr-var-item'><div class='xr-var-name'><span>month</span></div><div class='xr-var-dims'>(time)</div><div class='xr-var-dtype'>int64</div><div class='xr-var-preview xr-preview'>1 2 3 4 5 6 7 ... 6 7 8 9 10 11 12</div><input id='attrs-b3b1ef2d-ffb7-4aac-8db8-8908556a15b2' class='xr-var-attrs-in' type='checkbox' disabled><label for='attrs-b3b1ef2d-ffb7-4aac-8db8-8908556a15b2' title='Show/Hide attributes'><svg class='icon xr-icon-file-text2'><use xlink:href='#icon-file-text2'></use></svg></label><input id='data-cf24bb55-5150-43a9-802e-3f9861c43132' class='xr-var-data-in' type='checkbox'><label for='data-cf24bb55-5150-43a9-802e-3f9861c43132' title='Show/Hide data repr'><svg class='icon xr-icon-database'><use xlink:href='#icon-database'></use></svg></label><div class='xr-var-attrs'><dl class='xr-attrs'></dl></div><div class='xr-var-data'><pre>array([ 1,  2,  3,  4,  5,  6,  7,  8,  9, 10, 11, 12,  1,  2,  3,  4,  5,\n",
       "        6,  7,  8,  9, 10, 11, 12,  1,  2,  3,  4,  5,  6,  7,  8,  9, 10,\n",
       "       11, 12,  1,  2,  3,  4,  5,  6,  7,  8,  9, 10, 11, 12,  1,  2,  3,\n",
       "        4,  5,  6,  7,  8,  9, 10, 11, 12,  1,  2,  3,  4,  5,  6,  7,  8,\n",
       "        9, 10, 11, 12,  1,  2,  3,  4,  5,  6,  7,  8,  9, 10, 11, 12,  1,\n",
       "        2,  3,  4,  5,  6,  7,  8,  9, 10, 11, 12,  1,  2,  3,  4,  5,  6,\n",
       "        7,  8,  9, 10, 11, 12,  1,  2,  3,  4,  5,  6,  7,  8,  9, 10, 11,\n",
       "       12,  1,  2,  3,  4,  5,  6,  7,  8,  9, 10, 11, 12,  1,  2,  3,  4,\n",
       "        5,  6,  7,  8,  9, 10, 11, 12,  1,  2,  3,  4,  5,  6,  7,  8,  9,\n",
       "       10, 11, 12,  1,  2,  3,  4,  5,  6,  7,  8,  9, 10, 11, 12,  1,  2,\n",
       "        3,  4,  5,  6,  7,  8,  9, 10, 11, 12,  1,  2,  3,  4,  5,  6,  7,\n",
       "        8,  9, 10, 11, 12,  1,  2,  3,  4,  5,  6,  7,  8,  9, 10, 11, 12,\n",
       "        1,  2,  3,  4,  5,  6,  7,  8,  9, 10, 11, 12,  1,  2,  3,  4,  5,\n",
       "        6,  7,  8,  9, 10, 11, 12,  1,  2,  3,  4,  5,  6,  7,  8,  9, 10,\n",
       "       11, 12,  1,  2,  3,  4,  5,  6,  7,  8,  9, 10, 11, 12,  1,  2,  3,\n",
       "        4,  5,  6,  7,  8,  9, 10, 11, 12,  1,  2,  3,  4,  5,  6,  7,  8,\n",
       "        9, 10, 11, 12,  1,  2,  3,  4,  5,  6,  7,  8,  9, 10, 11, 12])</pre></div></li></ul></div></li><li class='xr-section-item'><input id='section-ebfe8bb2-3a85-47e6-a8e5-709e71bf9ea0' class='xr-section-summary-in' type='checkbox'  checked><label for='section-ebfe8bb2-3a85-47e6-a8e5-709e71bf9ea0' class='xr-section-summary' >Data variables: <span>(2)</span></label><div class='xr-section-inline-details'></div><div class='xr-section-details'><ul class='xr-var-list'><li class='xr-var-item'><div class='xr-var-name'><span>t2m</span></div><div class='xr-var-dims'>(time, member, step, lat, lon)</div><div class='xr-var-dtype'>float32</div><div class='xr-var-preview xr-preview'>dask.array&lt;chunksize=(1, 40, 3, 180, 360), meta=np.ndarray&gt;</div><input id='attrs-544b8408-01d7-4c97-afa4-8fe1c83b5509' class='xr-var-attrs-in' type='checkbox' disabled><label for='attrs-544b8408-01d7-4c97-afa4-8fe1c83b5509' title='Show/Hide attributes'><svg class='icon xr-icon-file-text2'><use xlink:href='#icon-file-text2'></use></svg></label><input id='data-90be157d-8c4b-44c6-b623-a7b365f81757' class='xr-var-data-in' type='checkbox'><label for='data-90be157d-8c4b-44c6-b623-a7b365f81757' title='Show/Hide data repr'><svg class='icon xr-icon-database'><use xlink:href='#icon-database'></use></svg></label><div class='xr-var-attrs'><dl class='xr-attrs'></dl></div><div class='xr-var-data'><table>\n",
       "<tr>\n",
       "<td>\n",
       "<table>\n",
       "  <thead>\n",
       "    <tr><td> </td><th> Array </th><th> Chunk </th></tr>\n",
       "  </thead>\n",
       "  <tbody>\n",
       "    <tr><th> Bytes </th><td> 8.96 GB </td> <td> 31.10 MB </td></tr>\n",
       "    <tr><th> Shape </th><td> (288, 40, 3, 180, 360) </td> <td> (1, 40, 3, 180, 360) </td></tr>\n",
       "    <tr><th> Count </th><td> 1152 Tasks </td><td> 288 Chunks </td></tr>\n",
       "    <tr><th> Type </th><td> float32 </td><td> numpy.ndarray </td></tr>\n",
       "  </tbody>\n",
       "</table>\n",
       "</td>\n",
       "<td>\n",
       "<svg width=\"402\" height=\"146\" style=\"stroke:rgb(0,0,0);stroke-width:1\" >\n",
       "\n",
       "  <!-- Horizontal lines -->\n",
       "  <line x1=\"0\" y1=\"0\" x2=\"39\" y2=\"0\" style=\"stroke-width:2\" />\n",
       "  <line x1=\"0\" y1=\"0\" x2=\"39\" y2=\"0\" />\n",
       "  <line x1=\"0\" y1=\"0\" x2=\"39\" y2=\"0\" />\n",
       "  <line x1=\"0\" y1=\"1\" x2=\"39\" y2=\"1\" />\n",
       "  <line x1=\"0\" y1=\"1\" x2=\"39\" y2=\"1\" />\n",
       "  <line x1=\"0\" y1=\"1\" x2=\"39\" y2=\"1\" />\n",
       "  <line x1=\"0\" y1=\"2\" x2=\"39\" y2=\"2\" />\n",
       "  <line x1=\"0\" y1=\"2\" x2=\"39\" y2=\"2\" />\n",
       "  <line x1=\"0\" y1=\"2\" x2=\"39\" y2=\"2\" />\n",
       "  <line x1=\"0\" y1=\"3\" x2=\"39\" y2=\"3\" />\n",
       "  <line x1=\"0\" y1=\"3\" x2=\"39\" y2=\"3\" />\n",
       "  <line x1=\"0\" y1=\"3\" x2=\"39\" y2=\"3\" />\n",
       "  <line x1=\"0\" y1=\"4\" x2=\"39\" y2=\"4\" />\n",
       "  <line x1=\"0\" y1=\"4\" x2=\"39\" y2=\"4\" />\n",
       "  <line x1=\"0\" y1=\"4\" x2=\"39\" y2=\"4\" />\n",
       "  <line x1=\"0\" y1=\"5\" x2=\"39\" y2=\"5\" />\n",
       "  <line x1=\"0\" y1=\"5\" x2=\"39\" y2=\"5\" />\n",
       "  <line x1=\"0\" y1=\"5\" x2=\"39\" y2=\"5\" />\n",
       "  <line x1=\"0\" y1=\"6\" x2=\"39\" y2=\"6\" />\n",
       "  <line x1=\"0\" y1=\"6\" x2=\"39\" y2=\"6\" />\n",
       "  <line x1=\"0\" y1=\"6\" x2=\"39\" y2=\"6\" />\n",
       "  <line x1=\"0\" y1=\"7\" x2=\"39\" y2=\"7\" />\n",
       "  <line x1=\"0\" y1=\"7\" x2=\"39\" y2=\"7\" />\n",
       "  <line x1=\"0\" y1=\"7\" x2=\"39\" y2=\"7\" />\n",
       "  <line x1=\"0\" y1=\"8\" x2=\"39\" y2=\"8\" />\n",
       "  <line x1=\"0\" y1=\"8\" x2=\"39\" y2=\"8\" />\n",
       "  <line x1=\"0\" y1=\"8\" x2=\"39\" y2=\"8\" />\n",
       "  <line x1=\"0\" y1=\"9\" x2=\"39\" y2=\"9\" />\n",
       "  <line x1=\"0\" y1=\"9\" x2=\"39\" y2=\"9\" />\n",
       "  <line x1=\"0\" y1=\"9\" x2=\"39\" y2=\"9\" />\n",
       "  <line x1=\"0\" y1=\"10\" x2=\"39\" y2=\"10\" />\n",
       "  <line x1=\"0\" y1=\"10\" x2=\"39\" y2=\"10\" />\n",
       "  <line x1=\"0\" y1=\"10\" x2=\"39\" y2=\"10\" />\n",
       "  <line x1=\"0\" y1=\"11\" x2=\"39\" y2=\"11\" />\n",
       "  <line x1=\"0\" y1=\"11\" x2=\"39\" y2=\"11\" />\n",
       "  <line x1=\"0\" y1=\"11\" x2=\"39\" y2=\"11\" />\n",
       "  <line x1=\"0\" y1=\"12\" x2=\"39\" y2=\"12\" />\n",
       "  <line x1=\"0\" y1=\"12\" x2=\"39\" y2=\"12\" />\n",
       "  <line x1=\"0\" y1=\"12\" x2=\"39\" y2=\"12\" />\n",
       "  <line x1=\"0\" y1=\"13\" x2=\"39\" y2=\"13\" />\n",
       "  <line x1=\"0\" y1=\"13\" x2=\"39\" y2=\"13\" />\n",
       "  <line x1=\"0\" y1=\"13\" x2=\"39\" y2=\"13\" />\n",
       "  <line x1=\"0\" y1=\"14\" x2=\"39\" y2=\"14\" />\n",
       "  <line x1=\"0\" y1=\"14\" x2=\"39\" y2=\"14\" />\n",
       "  <line x1=\"0\" y1=\"14\" x2=\"39\" y2=\"14\" />\n",
       "  <line x1=\"0\" y1=\"15\" x2=\"39\" y2=\"15\" />\n",
       "  <line x1=\"0\" y1=\"15\" x2=\"39\" y2=\"15\" />\n",
       "  <line x1=\"0\" y1=\"15\" x2=\"39\" y2=\"15\" />\n",
       "  <line x1=\"0\" y1=\"16\" x2=\"39\" y2=\"16\" />\n",
       "  <line x1=\"0\" y1=\"16\" x2=\"39\" y2=\"16\" />\n",
       "  <line x1=\"0\" y1=\"16\" x2=\"39\" y2=\"16\" />\n",
       "  <line x1=\"0\" y1=\"17\" x2=\"39\" y2=\"17\" />\n",
       "  <line x1=\"0\" y1=\"17\" x2=\"39\" y2=\"17\" />\n",
       "  <line x1=\"0\" y1=\"17\" x2=\"39\" y2=\"17\" />\n",
       "  <line x1=\"0\" y1=\"18\" x2=\"39\" y2=\"18\" />\n",
       "  <line x1=\"0\" y1=\"18\" x2=\"39\" y2=\"18\" />\n",
       "  <line x1=\"0\" y1=\"18\" x2=\"39\" y2=\"18\" />\n",
       "  <line x1=\"0\" y1=\"19\" x2=\"39\" y2=\"19\" />\n",
       "  <line x1=\"0\" y1=\"19\" x2=\"39\" y2=\"19\" />\n",
       "  <line x1=\"0\" y1=\"19\" x2=\"39\" y2=\"19\" />\n",
       "  <line x1=\"0\" y1=\"20\" x2=\"39\" y2=\"20\" />\n",
       "  <line x1=\"0\" y1=\"20\" x2=\"39\" y2=\"20\" />\n",
       "  <line x1=\"0\" y1=\"20\" x2=\"39\" y2=\"20\" />\n",
       "  <line x1=\"0\" y1=\"21\" x2=\"39\" y2=\"21\" />\n",
       "  <line x1=\"0\" y1=\"21\" x2=\"39\" y2=\"21\" />\n",
       "  <line x1=\"0\" y1=\"21\" x2=\"39\" y2=\"21\" />\n",
       "  <line x1=\"0\" y1=\"22\" x2=\"39\" y2=\"22\" />\n",
       "  <line x1=\"0\" y1=\"22\" x2=\"39\" y2=\"22\" />\n",
       "  <line x1=\"0\" y1=\"22\" x2=\"39\" y2=\"22\" />\n",
       "  <line x1=\"0\" y1=\"23\" x2=\"39\" y2=\"23\" />\n",
       "  <line x1=\"0\" y1=\"23\" x2=\"39\" y2=\"23\" />\n",
       "  <line x1=\"0\" y1=\"23\" x2=\"39\" y2=\"23\" />\n",
       "  <line x1=\"0\" y1=\"24\" x2=\"39\" y2=\"24\" />\n",
       "  <line x1=\"0\" y1=\"24\" x2=\"39\" y2=\"24\" />\n",
       "  <line x1=\"0\" y1=\"24\" x2=\"39\" y2=\"24\" />\n",
       "  <line x1=\"0\" y1=\"25\" x2=\"39\" y2=\"25\" />\n",
       "  <line x1=\"0\" y1=\"25\" x2=\"39\" y2=\"25\" />\n",
       "  <line x1=\"0\" y1=\"25\" x2=\"39\" y2=\"25\" />\n",
       "  <line x1=\"0\" y1=\"26\" x2=\"39\" y2=\"26\" />\n",
       "  <line x1=\"0\" y1=\"26\" x2=\"39\" y2=\"26\" />\n",
       "  <line x1=\"0\" y1=\"26\" x2=\"39\" y2=\"26\" />\n",
       "  <line x1=\"0\" y1=\"27\" x2=\"39\" y2=\"27\" />\n",
       "  <line x1=\"0\" y1=\"27\" x2=\"39\" y2=\"27\" />\n",
       "  <line x1=\"0\" y1=\"27\" x2=\"39\" y2=\"27\" />\n",
       "  <line x1=\"0\" y1=\"28\" x2=\"39\" y2=\"28\" />\n",
       "  <line x1=\"0\" y1=\"28\" x2=\"39\" y2=\"28\" />\n",
       "  <line x1=\"0\" y1=\"28\" x2=\"39\" y2=\"28\" />\n",
       "  <line x1=\"0\" y1=\"29\" x2=\"39\" y2=\"29\" />\n",
       "  <line x1=\"0\" y1=\"29\" x2=\"39\" y2=\"29\" />\n",
       "  <line x1=\"0\" y1=\"29\" x2=\"39\" y2=\"29\" />\n",
       "  <line x1=\"0\" y1=\"30\" x2=\"39\" y2=\"30\" />\n",
       "  <line x1=\"0\" y1=\"30\" x2=\"39\" y2=\"30\" />\n",
       "  <line x1=\"0\" y1=\"30\" x2=\"39\" y2=\"30\" />\n",
       "  <line x1=\"0\" y1=\"31\" x2=\"39\" y2=\"31\" />\n",
       "  <line x1=\"0\" y1=\"31\" x2=\"39\" y2=\"31\" />\n",
       "  <line x1=\"0\" y1=\"31\" x2=\"39\" y2=\"31\" />\n",
       "  <line x1=\"0\" y1=\"32\" x2=\"39\" y2=\"32\" />\n",
       "  <line x1=\"0\" y1=\"32\" x2=\"39\" y2=\"32\" />\n",
       "  <line x1=\"0\" y1=\"32\" x2=\"39\" y2=\"32\" />\n",
       "  <line x1=\"0\" y1=\"33\" x2=\"39\" y2=\"33\" />\n",
       "  <line x1=\"0\" y1=\"33\" x2=\"39\" y2=\"33\" />\n",
       "  <line x1=\"0\" y1=\"33\" x2=\"39\" y2=\"33\" />\n",
       "  <line x1=\"0\" y1=\"34\" x2=\"39\" y2=\"34\" />\n",
       "  <line x1=\"0\" y1=\"34\" x2=\"39\" y2=\"34\" />\n",
       "  <line x1=\"0\" y1=\"34\" x2=\"39\" y2=\"34\" />\n",
       "  <line x1=\"0\" y1=\"35\" x2=\"39\" y2=\"35\" />\n",
       "  <line x1=\"0\" y1=\"35\" x2=\"39\" y2=\"35\" />\n",
       "  <line x1=\"0\" y1=\"35\" x2=\"39\" y2=\"35\" />\n",
       "  <line x1=\"0\" y1=\"36\" x2=\"39\" y2=\"36\" />\n",
       "  <line x1=\"0\" y1=\"36\" x2=\"39\" y2=\"36\" />\n",
       "  <line x1=\"0\" y1=\"36\" x2=\"39\" y2=\"36\" />\n",
       "  <line x1=\"0\" y1=\"37\" x2=\"39\" y2=\"37\" />\n",
       "  <line x1=\"0\" y1=\"37\" x2=\"39\" y2=\"37\" />\n",
       "  <line x1=\"0\" y1=\"37\" x2=\"39\" y2=\"37\" />\n",
       "  <line x1=\"0\" y1=\"38\" x2=\"39\" y2=\"38\" />\n",
       "  <line x1=\"0\" y1=\"38\" x2=\"39\" y2=\"38\" />\n",
       "  <line x1=\"0\" y1=\"38\" x2=\"39\" y2=\"38\" />\n",
       "  <line x1=\"0\" y1=\"39\" x2=\"39\" y2=\"39\" />\n",
       "  <line x1=\"0\" y1=\"39\" x2=\"39\" y2=\"39\" />\n",
       "  <line x1=\"0\" y1=\"39\" x2=\"39\" y2=\"39\" />\n",
       "  <line x1=\"0\" y1=\"40\" x2=\"39\" y2=\"40\" />\n",
       "  <line x1=\"0\" y1=\"40\" x2=\"39\" y2=\"40\" />\n",
       "  <line x1=\"0\" y1=\"40\" x2=\"39\" y2=\"40\" />\n",
       "  <line x1=\"0\" y1=\"41\" x2=\"39\" y2=\"41\" />\n",
       "  <line x1=\"0\" y1=\"41\" x2=\"39\" y2=\"41\" />\n",
       "  <line x1=\"0\" y1=\"41\" x2=\"39\" y2=\"41\" />\n",
       "  <line x1=\"0\" y1=\"42\" x2=\"39\" y2=\"42\" />\n",
       "  <line x1=\"0\" y1=\"42\" x2=\"39\" y2=\"42\" />\n",
       "  <line x1=\"0\" y1=\"42\" x2=\"39\" y2=\"42\" />\n",
       "  <line x1=\"0\" y1=\"43\" x2=\"39\" y2=\"43\" />\n",
       "  <line x1=\"0\" y1=\"43\" x2=\"39\" y2=\"43\" />\n",
       "  <line x1=\"0\" y1=\"43\" x2=\"39\" y2=\"43\" />\n",
       "  <line x1=\"0\" y1=\"44\" x2=\"39\" y2=\"44\" />\n",
       "  <line x1=\"0\" y1=\"44\" x2=\"39\" y2=\"44\" />\n",
       "  <line x1=\"0\" y1=\"44\" x2=\"39\" y2=\"44\" />\n",
       "  <line x1=\"0\" y1=\"45\" x2=\"39\" y2=\"45\" />\n",
       "  <line x1=\"0\" y1=\"45\" x2=\"39\" y2=\"45\" />\n",
       "  <line x1=\"0\" y1=\"45\" x2=\"39\" y2=\"45\" />\n",
       "  <line x1=\"0\" y1=\"46\" x2=\"39\" y2=\"46\" />\n",
       "  <line x1=\"0\" y1=\"46\" x2=\"39\" y2=\"46\" />\n",
       "  <line x1=\"0\" y1=\"46\" x2=\"39\" y2=\"46\" />\n",
       "  <line x1=\"0\" y1=\"47\" x2=\"39\" y2=\"47\" />\n",
       "  <line x1=\"0\" y1=\"47\" x2=\"39\" y2=\"47\" />\n",
       "  <line x1=\"0\" y1=\"47\" x2=\"39\" y2=\"47\" />\n",
       "  <line x1=\"0\" y1=\"48\" x2=\"39\" y2=\"48\" />\n",
       "  <line x1=\"0\" y1=\"48\" x2=\"39\" y2=\"48\" />\n",
       "  <line x1=\"0\" y1=\"48\" x2=\"39\" y2=\"48\" />\n",
       "  <line x1=\"0\" y1=\"49\" x2=\"39\" y2=\"49\" />\n",
       "  <line x1=\"0\" y1=\"49\" x2=\"39\" y2=\"49\" />\n",
       "  <line x1=\"0\" y1=\"49\" x2=\"39\" y2=\"49\" />\n",
       "  <line x1=\"0\" y1=\"50\" x2=\"39\" y2=\"50\" />\n",
       "  <line x1=\"0\" y1=\"50\" x2=\"39\" y2=\"50\" />\n",
       "  <line x1=\"0\" y1=\"50\" x2=\"39\" y2=\"50\" />\n",
       "  <line x1=\"0\" y1=\"51\" x2=\"39\" y2=\"51\" />\n",
       "  <line x1=\"0\" y1=\"51\" x2=\"39\" y2=\"51\" />\n",
       "  <line x1=\"0\" y1=\"51\" x2=\"39\" y2=\"51\" />\n",
       "  <line x1=\"0\" y1=\"52\" x2=\"39\" y2=\"52\" />\n",
       "  <line x1=\"0\" y1=\"52\" x2=\"39\" y2=\"52\" />\n",
       "  <line x1=\"0\" y1=\"52\" x2=\"39\" y2=\"52\" />\n",
       "  <line x1=\"0\" y1=\"53\" x2=\"39\" y2=\"53\" />\n",
       "  <line x1=\"0\" y1=\"53\" x2=\"39\" y2=\"53\" />\n",
       "  <line x1=\"0\" y1=\"53\" x2=\"39\" y2=\"53\" />\n",
       "  <line x1=\"0\" y1=\"54\" x2=\"39\" y2=\"54\" />\n",
       "  <line x1=\"0\" y1=\"54\" x2=\"39\" y2=\"54\" />\n",
       "  <line x1=\"0\" y1=\"54\" x2=\"39\" y2=\"54\" />\n",
       "  <line x1=\"0\" y1=\"55\" x2=\"39\" y2=\"55\" />\n",
       "  <line x1=\"0\" y1=\"55\" x2=\"39\" y2=\"55\" />\n",
       "  <line x1=\"0\" y1=\"55\" x2=\"39\" y2=\"55\" />\n",
       "  <line x1=\"0\" y1=\"56\" x2=\"39\" y2=\"56\" />\n",
       "  <line x1=\"0\" y1=\"56\" x2=\"39\" y2=\"56\" />\n",
       "  <line x1=\"0\" y1=\"56\" x2=\"39\" y2=\"56\" />\n",
       "  <line x1=\"0\" y1=\"57\" x2=\"39\" y2=\"57\" />\n",
       "  <line x1=\"0\" y1=\"57\" x2=\"39\" y2=\"57\" />\n",
       "  <line x1=\"0\" y1=\"57\" x2=\"39\" y2=\"57\" />\n",
       "  <line x1=\"0\" y1=\"58\" x2=\"39\" y2=\"58\" />\n",
       "  <line x1=\"0\" y1=\"58\" x2=\"39\" y2=\"58\" />\n",
       "  <line x1=\"0\" y1=\"58\" x2=\"39\" y2=\"58\" />\n",
       "  <line x1=\"0\" y1=\"59\" x2=\"39\" y2=\"59\" />\n",
       "  <line x1=\"0\" y1=\"59\" x2=\"39\" y2=\"59\" />\n",
       "  <line x1=\"0\" y1=\"59\" x2=\"39\" y2=\"59\" />\n",
       "  <line x1=\"0\" y1=\"60\" x2=\"39\" y2=\"60\" />\n",
       "  <line x1=\"0\" y1=\"60\" x2=\"39\" y2=\"60\" />\n",
       "  <line x1=\"0\" y1=\"60\" x2=\"39\" y2=\"60\" />\n",
       "  <line x1=\"0\" y1=\"61\" x2=\"39\" y2=\"61\" />\n",
       "  <line x1=\"0\" y1=\"61\" x2=\"39\" y2=\"61\" />\n",
       "  <line x1=\"0\" y1=\"61\" x2=\"39\" y2=\"61\" />\n",
       "  <line x1=\"0\" y1=\"62\" x2=\"39\" y2=\"62\" />\n",
       "  <line x1=\"0\" y1=\"62\" x2=\"39\" y2=\"62\" />\n",
       "  <line x1=\"0\" y1=\"62\" x2=\"39\" y2=\"62\" />\n",
       "  <line x1=\"0\" y1=\"63\" x2=\"39\" y2=\"63\" />\n",
       "  <line x1=\"0\" y1=\"63\" x2=\"39\" y2=\"63\" />\n",
       "  <line x1=\"0\" y1=\"63\" x2=\"39\" y2=\"63\" />\n",
       "  <line x1=\"0\" y1=\"64\" x2=\"39\" y2=\"64\" />\n",
       "  <line x1=\"0\" y1=\"64\" x2=\"39\" y2=\"64\" />\n",
       "  <line x1=\"0\" y1=\"64\" x2=\"39\" y2=\"64\" />\n",
       "  <line x1=\"0\" y1=\"65\" x2=\"39\" y2=\"65\" />\n",
       "  <line x1=\"0\" y1=\"65\" x2=\"39\" y2=\"65\" />\n",
       "  <line x1=\"0\" y1=\"65\" x2=\"39\" y2=\"65\" />\n",
       "  <line x1=\"0\" y1=\"66\" x2=\"39\" y2=\"66\" />\n",
       "  <line x1=\"0\" y1=\"66\" x2=\"39\" y2=\"66\" />\n",
       "  <line x1=\"0\" y1=\"66\" x2=\"39\" y2=\"66\" />\n",
       "  <line x1=\"0\" y1=\"67\" x2=\"39\" y2=\"67\" />\n",
       "  <line x1=\"0\" y1=\"67\" x2=\"39\" y2=\"67\" />\n",
       "  <line x1=\"0\" y1=\"67\" x2=\"39\" y2=\"67\" />\n",
       "  <line x1=\"0\" y1=\"68\" x2=\"39\" y2=\"68\" />\n",
       "  <line x1=\"0\" y1=\"68\" x2=\"39\" y2=\"68\" />\n",
       "  <line x1=\"0\" y1=\"68\" x2=\"39\" y2=\"68\" />\n",
       "  <line x1=\"0\" y1=\"69\" x2=\"39\" y2=\"69\" />\n",
       "  <line x1=\"0\" y1=\"69\" x2=\"39\" y2=\"69\" />\n",
       "  <line x1=\"0\" y1=\"69\" x2=\"39\" y2=\"69\" />\n",
       "  <line x1=\"0\" y1=\"70\" x2=\"39\" y2=\"70\" />\n",
       "  <line x1=\"0\" y1=\"70\" x2=\"39\" y2=\"70\" />\n",
       "  <line x1=\"0\" y1=\"70\" x2=\"39\" y2=\"70\" />\n",
       "  <line x1=\"0\" y1=\"71\" x2=\"39\" y2=\"71\" />\n",
       "  <line x1=\"0\" y1=\"71\" x2=\"39\" y2=\"71\" />\n",
       "  <line x1=\"0\" y1=\"71\" x2=\"39\" y2=\"71\" />\n",
       "  <line x1=\"0\" y1=\"72\" x2=\"39\" y2=\"72\" />\n",
       "  <line x1=\"0\" y1=\"72\" x2=\"39\" y2=\"72\" />\n",
       "  <line x1=\"0\" y1=\"72\" x2=\"39\" y2=\"72\" />\n",
       "  <line x1=\"0\" y1=\"73\" x2=\"39\" y2=\"73\" />\n",
       "  <line x1=\"0\" y1=\"73\" x2=\"39\" y2=\"73\" />\n",
       "  <line x1=\"0\" y1=\"73\" x2=\"39\" y2=\"73\" />\n",
       "  <line x1=\"0\" y1=\"74\" x2=\"39\" y2=\"74\" />\n",
       "  <line x1=\"0\" y1=\"74\" x2=\"39\" y2=\"74\" />\n",
       "  <line x1=\"0\" y1=\"74\" x2=\"39\" y2=\"74\" />\n",
       "  <line x1=\"0\" y1=\"75\" x2=\"39\" y2=\"75\" />\n",
       "  <line x1=\"0\" y1=\"75\" x2=\"39\" y2=\"75\" />\n",
       "  <line x1=\"0\" y1=\"75\" x2=\"39\" y2=\"75\" />\n",
       "  <line x1=\"0\" y1=\"76\" x2=\"39\" y2=\"76\" />\n",
       "  <line x1=\"0\" y1=\"76\" x2=\"39\" y2=\"76\" />\n",
       "  <line x1=\"0\" y1=\"76\" x2=\"39\" y2=\"76\" />\n",
       "  <line x1=\"0\" y1=\"77\" x2=\"39\" y2=\"77\" />\n",
       "  <line x1=\"0\" y1=\"77\" x2=\"39\" y2=\"77\" />\n",
       "  <line x1=\"0\" y1=\"77\" x2=\"39\" y2=\"77\" />\n",
       "  <line x1=\"0\" y1=\"78\" x2=\"39\" y2=\"78\" />\n",
       "  <line x1=\"0\" y1=\"78\" x2=\"39\" y2=\"78\" />\n",
       "  <line x1=\"0\" y1=\"78\" x2=\"39\" y2=\"78\" />\n",
       "  <line x1=\"0\" y1=\"79\" x2=\"39\" y2=\"79\" />\n",
       "  <line x1=\"0\" y1=\"79\" x2=\"39\" y2=\"79\" />\n",
       "  <line x1=\"0\" y1=\"79\" x2=\"39\" y2=\"79\" />\n",
       "  <line x1=\"0\" y1=\"80\" x2=\"39\" y2=\"80\" />\n",
       "  <line x1=\"0\" y1=\"80\" x2=\"39\" y2=\"80\" />\n",
       "  <line x1=\"0\" y1=\"80\" x2=\"39\" y2=\"80\" />\n",
       "  <line x1=\"0\" y1=\"81\" x2=\"39\" y2=\"81\" />\n",
       "  <line x1=\"0\" y1=\"81\" x2=\"39\" y2=\"81\" />\n",
       "  <line x1=\"0\" y1=\"81\" x2=\"39\" y2=\"81\" />\n",
       "  <line x1=\"0\" y1=\"82\" x2=\"39\" y2=\"82\" />\n",
       "  <line x1=\"0\" y1=\"82\" x2=\"39\" y2=\"82\" />\n",
       "  <line x1=\"0\" y1=\"82\" x2=\"39\" y2=\"82\" />\n",
       "  <line x1=\"0\" y1=\"83\" x2=\"39\" y2=\"83\" />\n",
       "  <line x1=\"0\" y1=\"83\" x2=\"39\" y2=\"83\" />\n",
       "  <line x1=\"0\" y1=\"83\" x2=\"39\" y2=\"83\" />\n",
       "  <line x1=\"0\" y1=\"84\" x2=\"39\" y2=\"84\" />\n",
       "  <line x1=\"0\" y1=\"84\" x2=\"39\" y2=\"84\" />\n",
       "  <line x1=\"0\" y1=\"84\" x2=\"39\" y2=\"84\" />\n",
       "  <line x1=\"0\" y1=\"85\" x2=\"39\" y2=\"85\" />\n",
       "  <line x1=\"0\" y1=\"85\" x2=\"39\" y2=\"85\" />\n",
       "  <line x1=\"0\" y1=\"85\" x2=\"39\" y2=\"85\" />\n",
       "  <line x1=\"0\" y1=\"86\" x2=\"39\" y2=\"86\" />\n",
       "  <line x1=\"0\" y1=\"86\" x2=\"39\" y2=\"86\" />\n",
       "  <line x1=\"0\" y1=\"86\" x2=\"39\" y2=\"86\" />\n",
       "  <line x1=\"0\" y1=\"87\" x2=\"39\" y2=\"87\" />\n",
       "  <line x1=\"0\" y1=\"87\" x2=\"39\" y2=\"87\" />\n",
       "  <line x1=\"0\" y1=\"87\" x2=\"39\" y2=\"87\" />\n",
       "  <line x1=\"0\" y1=\"88\" x2=\"39\" y2=\"88\" />\n",
       "  <line x1=\"0\" y1=\"88\" x2=\"39\" y2=\"88\" />\n",
       "  <line x1=\"0\" y1=\"88\" x2=\"39\" y2=\"88\" />\n",
       "  <line x1=\"0\" y1=\"89\" x2=\"39\" y2=\"89\" />\n",
       "  <line x1=\"0\" y1=\"89\" x2=\"39\" y2=\"89\" />\n",
       "  <line x1=\"0\" y1=\"89\" x2=\"39\" y2=\"89\" />\n",
       "  <line x1=\"0\" y1=\"90\" x2=\"39\" y2=\"90\" />\n",
       "  <line x1=\"0\" y1=\"90\" x2=\"39\" y2=\"90\" />\n",
       "  <line x1=\"0\" y1=\"90\" x2=\"39\" y2=\"90\" />\n",
       "  <line x1=\"0\" y1=\"91\" x2=\"39\" y2=\"91\" />\n",
       "  <line x1=\"0\" y1=\"91\" x2=\"39\" y2=\"91\" />\n",
       "  <line x1=\"0\" y1=\"91\" x2=\"39\" y2=\"91\" />\n",
       "  <line x1=\"0\" y1=\"92\" x2=\"39\" y2=\"92\" />\n",
       "  <line x1=\"0\" y1=\"92\" x2=\"39\" y2=\"92\" />\n",
       "  <line x1=\"0\" y1=\"92\" x2=\"39\" y2=\"92\" />\n",
       "  <line x1=\"0\" y1=\"93\" x2=\"39\" y2=\"93\" />\n",
       "  <line x1=\"0\" y1=\"93\" x2=\"39\" y2=\"93\" />\n",
       "  <line x1=\"0\" y1=\"93\" x2=\"39\" y2=\"93\" />\n",
       "  <line x1=\"0\" y1=\"94\" x2=\"39\" y2=\"94\" />\n",
       "  <line x1=\"0\" y1=\"94\" x2=\"39\" y2=\"94\" />\n",
       "  <line x1=\"0\" y1=\"94\" x2=\"39\" y2=\"94\" />\n",
       "  <line x1=\"0\" y1=\"95\" x2=\"39\" y2=\"95\" />\n",
       "  <line x1=\"0\" y1=\"95\" x2=\"39\" y2=\"95\" />\n",
       "  <line x1=\"0\" y1=\"95\" x2=\"39\" y2=\"95\" />\n",
       "  <line x1=\"0\" y1=\"96\" x2=\"39\" y2=\"96\" style=\"stroke-width:2\" />\n",
       "\n",
       "  <!-- Vertical lines -->\n",
       "  <line x1=\"0\" y1=\"0\" x2=\"0\" y2=\"96\" style=\"stroke-width:2\" />\n",
       "  <line x1=\"39\" y1=\"0\" x2=\"39\" y2=\"96\" style=\"stroke-width:2\" />\n",
       "\n",
       "  <!-- Colored Rectangle -->\n",
       "  <polygon points=\"0.000000,0.000000 39.172278,0.000000 39.172278,96.000000 0.000000,96.000000\" style=\"fill:#ECB172A0;stroke-width:0\"/>\n",
       "\n",
       "  <!-- Text -->\n",
       "  <text x=\"19.586139\" y=\"116.000000\" font-size=\"1.0rem\" font-weight=\"100\" text-anchor=\"middle\" >40</text>\n",
       "  <text x=\"59.172278\" y=\"48.000000\" font-size=\"1.0rem\" font-weight=\"100\" text-anchor=\"middle\" transform=\"rotate(-90,59.172278,48.000000)\">288</text>\n",
       "\n",
       "\n",
       "  <!-- Horizontal lines -->\n",
       "  <line x1=\"109\" y1=\"0\" x2=\"123\" y2=\"14\" style=\"stroke-width:2\" />\n",
       "  <line x1=\"109\" y1=\"60\" x2=\"123\" y2=\"74\" style=\"stroke-width:2\" />\n",
       "\n",
       "  <!-- Vertical lines -->\n",
       "  <line x1=\"109\" y1=\"0\" x2=\"109\" y2=\"60\" style=\"stroke-width:2\" />\n",
       "  <line x1=\"123\" y1=\"14\" x2=\"123\" y2=\"74\" style=\"stroke-width:2\" />\n",
       "\n",
       "  <!-- Colored Rectangle -->\n",
       "  <polygon points=\"109.000000,0.000000 123.948598,14.948598 123.948598,74.948598 109.000000,60.000000\" style=\"fill:#ECB172A0;stroke-width:0\"/>\n",
       "\n",
       "  <!-- Horizontal lines -->\n",
       "  <line x1=\"109\" y1=\"0\" x2=\"229\" y2=\"0\" style=\"stroke-width:2\" />\n",
       "  <line x1=\"123\" y1=\"14\" x2=\"243\" y2=\"14\" style=\"stroke-width:2\" />\n",
       "\n",
       "  <!-- Vertical lines -->\n",
       "  <line x1=\"109\" y1=\"0\" x2=\"123\" y2=\"14\" style=\"stroke-width:2\" />\n",
       "  <line x1=\"229\" y1=\"0\" x2=\"243\" y2=\"14\" style=\"stroke-width:2\" />\n",
       "\n",
       "  <!-- Colored Rectangle -->\n",
       "  <polygon points=\"109.000000,0.000000 229.000000,0.000000 243.948598,14.948598 123.948598,14.948598\" style=\"fill:#ECB172A0;stroke-width:0\"/>\n",
       "\n",
       "  <!-- Horizontal lines -->\n",
       "  <line x1=\"123\" y1=\"14\" x2=\"243\" y2=\"14\" style=\"stroke-width:2\" />\n",
       "  <line x1=\"123\" y1=\"74\" x2=\"243\" y2=\"74\" style=\"stroke-width:2\" />\n",
       "\n",
       "  <!-- Vertical lines -->\n",
       "  <line x1=\"123\" y1=\"14\" x2=\"123\" y2=\"74\" style=\"stroke-width:2\" />\n",
       "  <line x1=\"243\" y1=\"14\" x2=\"243\" y2=\"74\" style=\"stroke-width:2\" />\n",
       "\n",
       "  <!-- Colored Rectangle -->\n",
       "  <polygon points=\"123.948598,14.948598 243.948598,14.948598 243.948598,74.948598 123.948598,74.948598\" style=\"fill:#ECB172A0;stroke-width:0\"/>\n",
       "\n",
       "  <!-- Text -->\n",
       "  <text x=\"183.948598\" y=\"94.948598\" font-size=\"1.0rem\" font-weight=\"100\" text-anchor=\"middle\" >360</text>\n",
       "  <text x=\"263.948598\" y=\"44.948598\" font-size=\"1.0rem\" font-weight=\"100\" text-anchor=\"middle\" transform=\"rotate(-90,263.948598,44.948598)\">180</text>\n",
       "  <text x=\"106.474299\" y=\"87.474299\" font-size=\"1.0rem\" font-weight=\"100\" text-anchor=\"middle\" transform=\"rotate(45,106.474299,87.474299)\">3</text>\n",
       "</svg>\n",
       "</td>\n",
       "</tr>\n",
       "</table></div></li><li class='xr-var-item'><div class='xr-var-name'><span>forecast_valid_time</span></div><div class='xr-var-dims'>(time, step)</div><div class='xr-var-dtype'>datetime64[ns]</div><div class='xr-var-preview xr-preview'>dask.array&lt;chunksize=(1, 3), meta=np.ndarray&gt;</div><input id='attrs-131476fc-8463-40fe-a005-4bc0ba923cc5' class='xr-var-attrs-in' type='checkbox' disabled><label for='attrs-131476fc-8463-40fe-a005-4bc0ba923cc5' title='Show/Hide attributes'><svg class='icon xr-icon-file-text2'><use xlink:href='#icon-file-text2'></use></svg></label><input id='data-496040b5-e4d7-4455-8263-82760a4669c0' class='xr-var-data-in' type='checkbox'><label for='data-496040b5-e4d7-4455-8263-82760a4669c0' title='Show/Hide data repr'><svg class='icon xr-icon-database'><use xlink:href='#icon-database'></use></svg></label><div class='xr-var-attrs'><dl class='xr-attrs'></dl></div><div class='xr-var-data'><table>\n",
       "<tr>\n",
       "<td>\n",
       "<table>\n",
       "  <thead>\n",
       "    <tr><td> </td><th> Array </th><th> Chunk </th></tr>\n",
       "  </thead>\n",
       "  <tbody>\n",
       "    <tr><th> Bytes </th><td> 6.91 kB </td> <td> 24 B </td></tr>\n",
       "    <tr><th> Shape </th><td> (288, 3) </td> <td> (1, 3) </td></tr>\n",
       "    <tr><th> Count </th><td> 1152 Tasks </td><td> 288 Chunks </td></tr>\n",
       "    <tr><th> Type </th><td> datetime64[ns] </td><td> numpy.ndarray </td></tr>\n",
       "  </tbody>\n",
       "</table>\n",
       "</td>\n",
       "<td>\n",
       "<svg width=\"75\" height=\"170\" style=\"stroke:rgb(0,0,0);stroke-width:1\" >\n",
       "\n",
       "  <!-- Horizontal lines -->\n",
       "  <line x1=\"0\" y1=\"0\" x2=\"25\" y2=\"0\" style=\"stroke-width:2\" />\n",
       "  <line x1=\"0\" y1=\"0\" x2=\"25\" y2=\"0\" />\n",
       "  <line x1=\"0\" y1=\"0\" x2=\"25\" y2=\"0\" />\n",
       "  <line x1=\"0\" y1=\"1\" x2=\"25\" y2=\"1\" />\n",
       "  <line x1=\"0\" y1=\"1\" x2=\"25\" y2=\"1\" />\n",
       "  <line x1=\"0\" y1=\"2\" x2=\"25\" y2=\"2\" />\n",
       "  <line x1=\"0\" y1=\"2\" x2=\"25\" y2=\"2\" />\n",
       "  <line x1=\"0\" y1=\"2\" x2=\"25\" y2=\"2\" />\n",
       "  <line x1=\"0\" y1=\"3\" x2=\"25\" y2=\"3\" />\n",
       "  <line x1=\"0\" y1=\"3\" x2=\"25\" y2=\"3\" />\n",
       "  <line x1=\"0\" y1=\"4\" x2=\"25\" y2=\"4\" />\n",
       "  <line x1=\"0\" y1=\"4\" x2=\"25\" y2=\"4\" />\n",
       "  <line x1=\"0\" y1=\"5\" x2=\"25\" y2=\"5\" />\n",
       "  <line x1=\"0\" y1=\"5\" x2=\"25\" y2=\"5\" />\n",
       "  <line x1=\"0\" y1=\"5\" x2=\"25\" y2=\"5\" />\n",
       "  <line x1=\"0\" y1=\"6\" x2=\"25\" y2=\"6\" />\n",
       "  <line x1=\"0\" y1=\"6\" x2=\"25\" y2=\"6\" />\n",
       "  <line x1=\"0\" y1=\"7\" x2=\"25\" y2=\"7\" />\n",
       "  <line x1=\"0\" y1=\"7\" x2=\"25\" y2=\"7\" />\n",
       "  <line x1=\"0\" y1=\"7\" x2=\"25\" y2=\"7\" />\n",
       "  <line x1=\"0\" y1=\"8\" x2=\"25\" y2=\"8\" />\n",
       "  <line x1=\"0\" y1=\"8\" x2=\"25\" y2=\"8\" />\n",
       "  <line x1=\"0\" y1=\"9\" x2=\"25\" y2=\"9\" />\n",
       "  <line x1=\"0\" y1=\"9\" x2=\"25\" y2=\"9\" />\n",
       "  <line x1=\"0\" y1=\"10\" x2=\"25\" y2=\"10\" />\n",
       "  <line x1=\"0\" y1=\"10\" x2=\"25\" y2=\"10\" />\n",
       "  <line x1=\"0\" y1=\"10\" x2=\"25\" y2=\"10\" />\n",
       "  <line x1=\"0\" y1=\"11\" x2=\"25\" y2=\"11\" />\n",
       "  <line x1=\"0\" y1=\"11\" x2=\"25\" y2=\"11\" />\n",
       "  <line x1=\"0\" y1=\"12\" x2=\"25\" y2=\"12\" />\n",
       "  <line x1=\"0\" y1=\"12\" x2=\"25\" y2=\"12\" />\n",
       "  <line x1=\"0\" y1=\"12\" x2=\"25\" y2=\"12\" />\n",
       "  <line x1=\"0\" y1=\"13\" x2=\"25\" y2=\"13\" />\n",
       "  <line x1=\"0\" y1=\"13\" x2=\"25\" y2=\"13\" />\n",
       "  <line x1=\"0\" y1=\"14\" x2=\"25\" y2=\"14\" />\n",
       "  <line x1=\"0\" y1=\"14\" x2=\"25\" y2=\"14\" />\n",
       "  <line x1=\"0\" y1=\"15\" x2=\"25\" y2=\"15\" />\n",
       "  <line x1=\"0\" y1=\"15\" x2=\"25\" y2=\"15\" />\n",
       "  <line x1=\"0\" y1=\"15\" x2=\"25\" y2=\"15\" />\n",
       "  <line x1=\"0\" y1=\"16\" x2=\"25\" y2=\"16\" />\n",
       "  <line x1=\"0\" y1=\"16\" x2=\"25\" y2=\"16\" />\n",
       "  <line x1=\"0\" y1=\"17\" x2=\"25\" y2=\"17\" />\n",
       "  <line x1=\"0\" y1=\"17\" x2=\"25\" y2=\"17\" />\n",
       "  <line x1=\"0\" y1=\"17\" x2=\"25\" y2=\"17\" />\n",
       "  <line x1=\"0\" y1=\"18\" x2=\"25\" y2=\"18\" />\n",
       "  <line x1=\"0\" y1=\"18\" x2=\"25\" y2=\"18\" />\n",
       "  <line x1=\"0\" y1=\"19\" x2=\"25\" y2=\"19\" />\n",
       "  <line x1=\"0\" y1=\"19\" x2=\"25\" y2=\"19\" />\n",
       "  <line x1=\"0\" y1=\"20\" x2=\"25\" y2=\"20\" />\n",
       "  <line x1=\"0\" y1=\"20\" x2=\"25\" y2=\"20\" />\n",
       "  <line x1=\"0\" y1=\"20\" x2=\"25\" y2=\"20\" />\n",
       "  <line x1=\"0\" y1=\"21\" x2=\"25\" y2=\"21\" />\n",
       "  <line x1=\"0\" y1=\"21\" x2=\"25\" y2=\"21\" />\n",
       "  <line x1=\"0\" y1=\"22\" x2=\"25\" y2=\"22\" />\n",
       "  <line x1=\"0\" y1=\"22\" x2=\"25\" y2=\"22\" />\n",
       "  <line x1=\"0\" y1=\"22\" x2=\"25\" y2=\"22\" />\n",
       "  <line x1=\"0\" y1=\"23\" x2=\"25\" y2=\"23\" />\n",
       "  <line x1=\"0\" y1=\"23\" x2=\"25\" y2=\"23\" />\n",
       "  <line x1=\"0\" y1=\"24\" x2=\"25\" y2=\"24\" />\n",
       "  <line x1=\"0\" y1=\"24\" x2=\"25\" y2=\"24\" />\n",
       "  <line x1=\"0\" y1=\"25\" x2=\"25\" y2=\"25\" />\n",
       "  <line x1=\"0\" y1=\"25\" x2=\"25\" y2=\"25\" />\n",
       "  <line x1=\"0\" y1=\"25\" x2=\"25\" y2=\"25\" />\n",
       "  <line x1=\"0\" y1=\"26\" x2=\"25\" y2=\"26\" />\n",
       "  <line x1=\"0\" y1=\"26\" x2=\"25\" y2=\"26\" />\n",
       "  <line x1=\"0\" y1=\"27\" x2=\"25\" y2=\"27\" />\n",
       "  <line x1=\"0\" y1=\"27\" x2=\"25\" y2=\"27\" />\n",
       "  <line x1=\"0\" y1=\"27\" x2=\"25\" y2=\"27\" />\n",
       "  <line x1=\"0\" y1=\"28\" x2=\"25\" y2=\"28\" />\n",
       "  <line x1=\"0\" y1=\"28\" x2=\"25\" y2=\"28\" />\n",
       "  <line x1=\"0\" y1=\"29\" x2=\"25\" y2=\"29\" />\n",
       "  <line x1=\"0\" y1=\"29\" x2=\"25\" y2=\"29\" />\n",
       "  <line x1=\"0\" y1=\"30\" x2=\"25\" y2=\"30\" />\n",
       "  <line x1=\"0\" y1=\"30\" x2=\"25\" y2=\"30\" />\n",
       "  <line x1=\"0\" y1=\"30\" x2=\"25\" y2=\"30\" />\n",
       "  <line x1=\"0\" y1=\"31\" x2=\"25\" y2=\"31\" />\n",
       "  <line x1=\"0\" y1=\"31\" x2=\"25\" y2=\"31\" />\n",
       "  <line x1=\"0\" y1=\"32\" x2=\"25\" y2=\"32\" />\n",
       "  <line x1=\"0\" y1=\"32\" x2=\"25\" y2=\"32\" />\n",
       "  <line x1=\"0\" y1=\"32\" x2=\"25\" y2=\"32\" />\n",
       "  <line x1=\"0\" y1=\"33\" x2=\"25\" y2=\"33\" />\n",
       "  <line x1=\"0\" y1=\"33\" x2=\"25\" y2=\"33\" />\n",
       "  <line x1=\"0\" y1=\"34\" x2=\"25\" y2=\"34\" />\n",
       "  <line x1=\"0\" y1=\"34\" x2=\"25\" y2=\"34\" />\n",
       "  <line x1=\"0\" y1=\"35\" x2=\"25\" y2=\"35\" />\n",
       "  <line x1=\"0\" y1=\"35\" x2=\"25\" y2=\"35\" />\n",
       "  <line x1=\"0\" y1=\"35\" x2=\"25\" y2=\"35\" />\n",
       "  <line x1=\"0\" y1=\"36\" x2=\"25\" y2=\"36\" />\n",
       "  <line x1=\"0\" y1=\"36\" x2=\"25\" y2=\"36\" />\n",
       "  <line x1=\"0\" y1=\"37\" x2=\"25\" y2=\"37\" />\n",
       "  <line x1=\"0\" y1=\"37\" x2=\"25\" y2=\"37\" />\n",
       "  <line x1=\"0\" y1=\"37\" x2=\"25\" y2=\"37\" />\n",
       "  <line x1=\"0\" y1=\"38\" x2=\"25\" y2=\"38\" />\n",
       "  <line x1=\"0\" y1=\"38\" x2=\"25\" y2=\"38\" />\n",
       "  <line x1=\"0\" y1=\"39\" x2=\"25\" y2=\"39\" />\n",
       "  <line x1=\"0\" y1=\"39\" x2=\"25\" y2=\"39\" />\n",
       "  <line x1=\"0\" y1=\"40\" x2=\"25\" y2=\"40\" />\n",
       "  <line x1=\"0\" y1=\"40\" x2=\"25\" y2=\"40\" />\n",
       "  <line x1=\"0\" y1=\"40\" x2=\"25\" y2=\"40\" />\n",
       "  <line x1=\"0\" y1=\"41\" x2=\"25\" y2=\"41\" />\n",
       "  <line x1=\"0\" y1=\"41\" x2=\"25\" y2=\"41\" />\n",
       "  <line x1=\"0\" y1=\"42\" x2=\"25\" y2=\"42\" />\n",
       "  <line x1=\"0\" y1=\"42\" x2=\"25\" y2=\"42\" />\n",
       "  <line x1=\"0\" y1=\"42\" x2=\"25\" y2=\"42\" />\n",
       "  <line x1=\"0\" y1=\"43\" x2=\"25\" y2=\"43\" />\n",
       "  <line x1=\"0\" y1=\"43\" x2=\"25\" y2=\"43\" />\n",
       "  <line x1=\"0\" y1=\"44\" x2=\"25\" y2=\"44\" />\n",
       "  <line x1=\"0\" y1=\"44\" x2=\"25\" y2=\"44\" />\n",
       "  <line x1=\"0\" y1=\"45\" x2=\"25\" y2=\"45\" />\n",
       "  <line x1=\"0\" y1=\"45\" x2=\"25\" y2=\"45\" />\n",
       "  <line x1=\"0\" y1=\"45\" x2=\"25\" y2=\"45\" />\n",
       "  <line x1=\"0\" y1=\"46\" x2=\"25\" y2=\"46\" />\n",
       "  <line x1=\"0\" y1=\"46\" x2=\"25\" y2=\"46\" />\n",
       "  <line x1=\"0\" y1=\"47\" x2=\"25\" y2=\"47\" />\n",
       "  <line x1=\"0\" y1=\"47\" x2=\"25\" y2=\"47\" />\n",
       "  <line x1=\"0\" y1=\"47\" x2=\"25\" y2=\"47\" />\n",
       "  <line x1=\"0\" y1=\"48\" x2=\"25\" y2=\"48\" />\n",
       "  <line x1=\"0\" y1=\"48\" x2=\"25\" y2=\"48\" />\n",
       "  <line x1=\"0\" y1=\"49\" x2=\"25\" y2=\"49\" />\n",
       "  <line x1=\"0\" y1=\"49\" x2=\"25\" y2=\"49\" />\n",
       "  <line x1=\"0\" y1=\"50\" x2=\"25\" y2=\"50\" />\n",
       "  <line x1=\"0\" y1=\"50\" x2=\"25\" y2=\"50\" />\n",
       "  <line x1=\"0\" y1=\"50\" x2=\"25\" y2=\"50\" />\n",
       "  <line x1=\"0\" y1=\"51\" x2=\"25\" y2=\"51\" />\n",
       "  <line x1=\"0\" y1=\"51\" x2=\"25\" y2=\"51\" />\n",
       "  <line x1=\"0\" y1=\"52\" x2=\"25\" y2=\"52\" />\n",
       "  <line x1=\"0\" y1=\"52\" x2=\"25\" y2=\"52\" />\n",
       "  <line x1=\"0\" y1=\"52\" x2=\"25\" y2=\"52\" />\n",
       "  <line x1=\"0\" y1=\"53\" x2=\"25\" y2=\"53\" />\n",
       "  <line x1=\"0\" y1=\"53\" x2=\"25\" y2=\"53\" />\n",
       "  <line x1=\"0\" y1=\"54\" x2=\"25\" y2=\"54\" />\n",
       "  <line x1=\"0\" y1=\"54\" x2=\"25\" y2=\"54\" />\n",
       "  <line x1=\"0\" y1=\"55\" x2=\"25\" y2=\"55\" />\n",
       "  <line x1=\"0\" y1=\"55\" x2=\"25\" y2=\"55\" />\n",
       "  <line x1=\"0\" y1=\"55\" x2=\"25\" y2=\"55\" />\n",
       "  <line x1=\"0\" y1=\"56\" x2=\"25\" y2=\"56\" />\n",
       "  <line x1=\"0\" y1=\"56\" x2=\"25\" y2=\"56\" />\n",
       "  <line x1=\"0\" y1=\"57\" x2=\"25\" y2=\"57\" />\n",
       "  <line x1=\"0\" y1=\"57\" x2=\"25\" y2=\"57\" />\n",
       "  <line x1=\"0\" y1=\"57\" x2=\"25\" y2=\"57\" />\n",
       "  <line x1=\"0\" y1=\"58\" x2=\"25\" y2=\"58\" />\n",
       "  <line x1=\"0\" y1=\"58\" x2=\"25\" y2=\"58\" />\n",
       "  <line x1=\"0\" y1=\"59\" x2=\"25\" y2=\"59\" />\n",
       "  <line x1=\"0\" y1=\"59\" x2=\"25\" y2=\"59\" />\n",
       "  <line x1=\"0\" y1=\"60\" x2=\"25\" y2=\"60\" />\n",
       "  <line x1=\"0\" y1=\"60\" x2=\"25\" y2=\"60\" />\n",
       "  <line x1=\"0\" y1=\"60\" x2=\"25\" y2=\"60\" />\n",
       "  <line x1=\"0\" y1=\"61\" x2=\"25\" y2=\"61\" />\n",
       "  <line x1=\"0\" y1=\"61\" x2=\"25\" y2=\"61\" />\n",
       "  <line x1=\"0\" y1=\"62\" x2=\"25\" y2=\"62\" />\n",
       "  <line x1=\"0\" y1=\"62\" x2=\"25\" y2=\"62\" />\n",
       "  <line x1=\"0\" y1=\"62\" x2=\"25\" y2=\"62\" />\n",
       "  <line x1=\"0\" y1=\"63\" x2=\"25\" y2=\"63\" />\n",
       "  <line x1=\"0\" y1=\"63\" x2=\"25\" y2=\"63\" />\n",
       "  <line x1=\"0\" y1=\"64\" x2=\"25\" y2=\"64\" />\n",
       "  <line x1=\"0\" y1=\"64\" x2=\"25\" y2=\"64\" />\n",
       "  <line x1=\"0\" y1=\"65\" x2=\"25\" y2=\"65\" />\n",
       "  <line x1=\"0\" y1=\"65\" x2=\"25\" y2=\"65\" />\n",
       "  <line x1=\"0\" y1=\"65\" x2=\"25\" y2=\"65\" />\n",
       "  <line x1=\"0\" y1=\"66\" x2=\"25\" y2=\"66\" />\n",
       "  <line x1=\"0\" y1=\"66\" x2=\"25\" y2=\"66\" />\n",
       "  <line x1=\"0\" y1=\"67\" x2=\"25\" y2=\"67\" />\n",
       "  <line x1=\"0\" y1=\"67\" x2=\"25\" y2=\"67\" />\n",
       "  <line x1=\"0\" y1=\"67\" x2=\"25\" y2=\"67\" />\n",
       "  <line x1=\"0\" y1=\"68\" x2=\"25\" y2=\"68\" />\n",
       "  <line x1=\"0\" y1=\"68\" x2=\"25\" y2=\"68\" />\n",
       "  <line x1=\"0\" y1=\"69\" x2=\"25\" y2=\"69\" />\n",
       "  <line x1=\"0\" y1=\"69\" x2=\"25\" y2=\"69\" />\n",
       "  <line x1=\"0\" y1=\"70\" x2=\"25\" y2=\"70\" />\n",
       "  <line x1=\"0\" y1=\"70\" x2=\"25\" y2=\"70\" />\n",
       "  <line x1=\"0\" y1=\"70\" x2=\"25\" y2=\"70\" />\n",
       "  <line x1=\"0\" y1=\"71\" x2=\"25\" y2=\"71\" />\n",
       "  <line x1=\"0\" y1=\"71\" x2=\"25\" y2=\"71\" />\n",
       "  <line x1=\"0\" y1=\"72\" x2=\"25\" y2=\"72\" />\n",
       "  <line x1=\"0\" y1=\"72\" x2=\"25\" y2=\"72\" />\n",
       "  <line x1=\"0\" y1=\"72\" x2=\"25\" y2=\"72\" />\n",
       "  <line x1=\"0\" y1=\"73\" x2=\"25\" y2=\"73\" />\n",
       "  <line x1=\"0\" y1=\"73\" x2=\"25\" y2=\"73\" />\n",
       "  <line x1=\"0\" y1=\"74\" x2=\"25\" y2=\"74\" />\n",
       "  <line x1=\"0\" y1=\"74\" x2=\"25\" y2=\"74\" />\n",
       "  <line x1=\"0\" y1=\"75\" x2=\"25\" y2=\"75\" />\n",
       "  <line x1=\"0\" y1=\"75\" x2=\"25\" y2=\"75\" />\n",
       "  <line x1=\"0\" y1=\"75\" x2=\"25\" y2=\"75\" />\n",
       "  <line x1=\"0\" y1=\"76\" x2=\"25\" y2=\"76\" />\n",
       "  <line x1=\"0\" y1=\"76\" x2=\"25\" y2=\"76\" />\n",
       "  <line x1=\"0\" y1=\"77\" x2=\"25\" y2=\"77\" />\n",
       "  <line x1=\"0\" y1=\"77\" x2=\"25\" y2=\"77\" />\n",
       "  <line x1=\"0\" y1=\"77\" x2=\"25\" y2=\"77\" />\n",
       "  <line x1=\"0\" y1=\"78\" x2=\"25\" y2=\"78\" />\n",
       "  <line x1=\"0\" y1=\"78\" x2=\"25\" y2=\"78\" />\n",
       "  <line x1=\"0\" y1=\"79\" x2=\"25\" y2=\"79\" />\n",
       "  <line x1=\"0\" y1=\"79\" x2=\"25\" y2=\"79\" />\n",
       "  <line x1=\"0\" y1=\"80\" x2=\"25\" y2=\"80\" />\n",
       "  <line x1=\"0\" y1=\"80\" x2=\"25\" y2=\"80\" />\n",
       "  <line x1=\"0\" y1=\"80\" x2=\"25\" y2=\"80\" />\n",
       "  <line x1=\"0\" y1=\"81\" x2=\"25\" y2=\"81\" />\n",
       "  <line x1=\"0\" y1=\"81\" x2=\"25\" y2=\"81\" />\n",
       "  <line x1=\"0\" y1=\"82\" x2=\"25\" y2=\"82\" />\n",
       "  <line x1=\"0\" y1=\"82\" x2=\"25\" y2=\"82\" />\n",
       "  <line x1=\"0\" y1=\"82\" x2=\"25\" y2=\"82\" />\n",
       "  <line x1=\"0\" y1=\"83\" x2=\"25\" y2=\"83\" />\n",
       "  <line x1=\"0\" y1=\"83\" x2=\"25\" y2=\"83\" />\n",
       "  <line x1=\"0\" y1=\"84\" x2=\"25\" y2=\"84\" />\n",
       "  <line x1=\"0\" y1=\"84\" x2=\"25\" y2=\"84\" />\n",
       "  <line x1=\"0\" y1=\"85\" x2=\"25\" y2=\"85\" />\n",
       "  <line x1=\"0\" y1=\"85\" x2=\"25\" y2=\"85\" />\n",
       "  <line x1=\"0\" y1=\"85\" x2=\"25\" y2=\"85\" />\n",
       "  <line x1=\"0\" y1=\"86\" x2=\"25\" y2=\"86\" />\n",
       "  <line x1=\"0\" y1=\"86\" x2=\"25\" y2=\"86\" />\n",
       "  <line x1=\"0\" y1=\"87\" x2=\"25\" y2=\"87\" />\n",
       "  <line x1=\"0\" y1=\"87\" x2=\"25\" y2=\"87\" />\n",
       "  <line x1=\"0\" y1=\"87\" x2=\"25\" y2=\"87\" />\n",
       "  <line x1=\"0\" y1=\"88\" x2=\"25\" y2=\"88\" />\n",
       "  <line x1=\"0\" y1=\"88\" x2=\"25\" y2=\"88\" />\n",
       "  <line x1=\"0\" y1=\"89\" x2=\"25\" y2=\"89\" />\n",
       "  <line x1=\"0\" y1=\"89\" x2=\"25\" y2=\"89\" />\n",
       "  <line x1=\"0\" y1=\"90\" x2=\"25\" y2=\"90\" />\n",
       "  <line x1=\"0\" y1=\"90\" x2=\"25\" y2=\"90\" />\n",
       "  <line x1=\"0\" y1=\"90\" x2=\"25\" y2=\"90\" />\n",
       "  <line x1=\"0\" y1=\"91\" x2=\"25\" y2=\"91\" />\n",
       "  <line x1=\"0\" y1=\"91\" x2=\"25\" y2=\"91\" />\n",
       "  <line x1=\"0\" y1=\"92\" x2=\"25\" y2=\"92\" />\n",
       "  <line x1=\"0\" y1=\"92\" x2=\"25\" y2=\"92\" />\n",
       "  <line x1=\"0\" y1=\"92\" x2=\"25\" y2=\"92\" />\n",
       "  <line x1=\"0\" y1=\"93\" x2=\"25\" y2=\"93\" />\n",
       "  <line x1=\"0\" y1=\"93\" x2=\"25\" y2=\"93\" />\n",
       "  <line x1=\"0\" y1=\"94\" x2=\"25\" y2=\"94\" />\n",
       "  <line x1=\"0\" y1=\"94\" x2=\"25\" y2=\"94\" />\n",
       "  <line x1=\"0\" y1=\"95\" x2=\"25\" y2=\"95\" />\n",
       "  <line x1=\"0\" y1=\"95\" x2=\"25\" y2=\"95\" />\n",
       "  <line x1=\"0\" y1=\"95\" x2=\"25\" y2=\"95\" />\n",
       "  <line x1=\"0\" y1=\"96\" x2=\"25\" y2=\"96\" />\n",
       "  <line x1=\"0\" y1=\"96\" x2=\"25\" y2=\"96\" />\n",
       "  <line x1=\"0\" y1=\"97\" x2=\"25\" y2=\"97\" />\n",
       "  <line x1=\"0\" y1=\"97\" x2=\"25\" y2=\"97\" />\n",
       "  <line x1=\"0\" y1=\"97\" x2=\"25\" y2=\"97\" />\n",
       "  <line x1=\"0\" y1=\"98\" x2=\"25\" y2=\"98\" />\n",
       "  <line x1=\"0\" y1=\"98\" x2=\"25\" y2=\"98\" />\n",
       "  <line x1=\"0\" y1=\"99\" x2=\"25\" y2=\"99\" />\n",
       "  <line x1=\"0\" y1=\"99\" x2=\"25\" y2=\"99\" />\n",
       "  <line x1=\"0\" y1=\"100\" x2=\"25\" y2=\"100\" />\n",
       "  <line x1=\"0\" y1=\"100\" x2=\"25\" y2=\"100\" />\n",
       "  <line x1=\"0\" y1=\"100\" x2=\"25\" y2=\"100\" />\n",
       "  <line x1=\"0\" y1=\"101\" x2=\"25\" y2=\"101\" />\n",
       "  <line x1=\"0\" y1=\"101\" x2=\"25\" y2=\"101\" />\n",
       "  <line x1=\"0\" y1=\"102\" x2=\"25\" y2=\"102\" />\n",
       "  <line x1=\"0\" y1=\"102\" x2=\"25\" y2=\"102\" />\n",
       "  <line x1=\"0\" y1=\"102\" x2=\"25\" y2=\"102\" />\n",
       "  <line x1=\"0\" y1=\"103\" x2=\"25\" y2=\"103\" />\n",
       "  <line x1=\"0\" y1=\"103\" x2=\"25\" y2=\"103\" />\n",
       "  <line x1=\"0\" y1=\"104\" x2=\"25\" y2=\"104\" />\n",
       "  <line x1=\"0\" y1=\"104\" x2=\"25\" y2=\"104\" />\n",
       "  <line x1=\"0\" y1=\"105\" x2=\"25\" y2=\"105\" />\n",
       "  <line x1=\"0\" y1=\"105\" x2=\"25\" y2=\"105\" />\n",
       "  <line x1=\"0\" y1=\"105\" x2=\"25\" y2=\"105\" />\n",
       "  <line x1=\"0\" y1=\"106\" x2=\"25\" y2=\"106\" />\n",
       "  <line x1=\"0\" y1=\"106\" x2=\"25\" y2=\"106\" />\n",
       "  <line x1=\"0\" y1=\"107\" x2=\"25\" y2=\"107\" />\n",
       "  <line x1=\"0\" y1=\"107\" x2=\"25\" y2=\"107\" />\n",
       "  <line x1=\"0\" y1=\"107\" x2=\"25\" y2=\"107\" />\n",
       "  <line x1=\"0\" y1=\"108\" x2=\"25\" y2=\"108\" />\n",
       "  <line x1=\"0\" y1=\"108\" x2=\"25\" y2=\"108\" />\n",
       "  <line x1=\"0\" y1=\"109\" x2=\"25\" y2=\"109\" />\n",
       "  <line x1=\"0\" y1=\"109\" x2=\"25\" y2=\"109\" />\n",
       "  <line x1=\"0\" y1=\"110\" x2=\"25\" y2=\"110\" />\n",
       "  <line x1=\"0\" y1=\"110\" x2=\"25\" y2=\"110\" />\n",
       "  <line x1=\"0\" y1=\"110\" x2=\"25\" y2=\"110\" />\n",
       "  <line x1=\"0\" y1=\"111\" x2=\"25\" y2=\"111\" />\n",
       "  <line x1=\"0\" y1=\"111\" x2=\"25\" y2=\"111\" />\n",
       "  <line x1=\"0\" y1=\"112\" x2=\"25\" y2=\"112\" />\n",
       "  <line x1=\"0\" y1=\"112\" x2=\"25\" y2=\"112\" />\n",
       "  <line x1=\"0\" y1=\"112\" x2=\"25\" y2=\"112\" />\n",
       "  <line x1=\"0\" y1=\"113\" x2=\"25\" y2=\"113\" />\n",
       "  <line x1=\"0\" y1=\"113\" x2=\"25\" y2=\"113\" />\n",
       "  <line x1=\"0\" y1=\"114\" x2=\"25\" y2=\"114\" />\n",
       "  <line x1=\"0\" y1=\"114\" x2=\"25\" y2=\"114\" />\n",
       "  <line x1=\"0\" y1=\"115\" x2=\"25\" y2=\"115\" />\n",
       "  <line x1=\"0\" y1=\"115\" x2=\"25\" y2=\"115\" />\n",
       "  <line x1=\"0\" y1=\"115\" x2=\"25\" y2=\"115\" />\n",
       "  <line x1=\"0\" y1=\"116\" x2=\"25\" y2=\"116\" />\n",
       "  <line x1=\"0\" y1=\"116\" x2=\"25\" y2=\"116\" />\n",
       "  <line x1=\"0\" y1=\"117\" x2=\"25\" y2=\"117\" />\n",
       "  <line x1=\"0\" y1=\"117\" x2=\"25\" y2=\"117\" />\n",
       "  <line x1=\"0\" y1=\"117\" x2=\"25\" y2=\"117\" />\n",
       "  <line x1=\"0\" y1=\"118\" x2=\"25\" y2=\"118\" />\n",
       "  <line x1=\"0\" y1=\"118\" x2=\"25\" y2=\"118\" />\n",
       "  <line x1=\"0\" y1=\"119\" x2=\"25\" y2=\"119\" />\n",
       "  <line x1=\"0\" y1=\"119\" x2=\"25\" y2=\"119\" />\n",
       "  <line x1=\"0\" y1=\"120\" x2=\"25\" y2=\"120\" style=\"stroke-width:2\" />\n",
       "\n",
       "  <!-- Vertical lines -->\n",
       "  <line x1=\"0\" y1=\"0\" x2=\"0\" y2=\"120\" style=\"stroke-width:2\" />\n",
       "  <line x1=\"25\" y1=\"0\" x2=\"25\" y2=\"120\" style=\"stroke-width:2\" />\n",
       "\n",
       "  <!-- Colored Rectangle -->\n",
       "  <polygon points=\"0.000000,0.000000 25.609134,0.000000 25.609134,120.000000 0.000000,120.000000\" style=\"fill:#ECB172A0;stroke-width:0\"/>\n",
       "\n",
       "  <!-- Text -->\n",
       "  <text x=\"12.804567\" y=\"140.000000\" font-size=\"1.0rem\" font-weight=\"100\" text-anchor=\"middle\" >3</text>\n",
       "  <text x=\"45.609134\" y=\"60.000000\" font-size=\"1.0rem\" font-weight=\"100\" text-anchor=\"middle\" transform=\"rotate(-90,45.609134,60.000000)\">288</text>\n",
       "</svg>\n",
       "</td>\n",
       "</tr>\n",
       "</table></div></li></ul></div></li><li class='xr-section-item'><input id='section-385211cf-cd2d-4fa5-9a19-de8464f7aa66' class='xr-section-summary-in' type='checkbox' disabled ><label for='section-385211cf-cd2d-4fa5-9a19-de8464f7aa66' class='xr-section-summary'  title='Expand/collapse section'>Attributes: <span>(0)</span></label><div class='xr-section-inline-details'></div><div class='xr-section-details'><dl class='xr-attrs'></dl></div></li></ul></div></div>"
      ],
      "text/plain": [
       "<xarray.Dataset>\n",
       "Dimensions:              (lat: 180, lon: 360, member: 40, step: 3, time: 288)\n",
       "Coordinates:\n",
       "  * step                 (step) int64 3 4 5\n",
       "  * lat                  (lat) float64 -89.5 -88.5 -87.5 ... 87.5 88.5 89.5\n",
       "  * lon                  (lon) float64 0.5 1.5 2.5 3.5 ... 357.5 358.5 359.5\n",
       "  * member               (member) int64 0 1 2 3 4 5 6 7 ... 33 34 35 36 37 38 39\n",
       "  * time                 (time) datetime64[ns] 1993-01-01 ... 2016-12-01\n",
       "    month                (time) int64 1 2 3 4 5 6 7 8 9 ... 4 5 6 7 8 9 10 11 12\n",
       "Data variables:\n",
       "    t2m                  (time, member, step, lat, lon) float32 dask.array<chunksize=(1, 40, 3, 180, 360), meta=np.ndarray>\n",
       "    forecast_valid_time  (time, step) datetime64[ns] dask.array<chunksize=(1, 3), meta=np.ndarray>"
      ]
     },
     "execution_count": 187,
     "metadata": {},
     "output_type": "execute_result"
    }
   ],
   "source": [
    "dset"
   ]
  },
  {
   "cell_type": "markdown",
   "metadata": {},
   "source": [
    "### selects the training set "
   ]
  },
  {
   "cell_type": "code",
   "execution_count": 188,
   "metadata": {},
   "outputs": [],
   "source": [
    "dset_train = dset.sel(time=slice('1993','2010'))"
   ]
  },
  {
   "cell_type": "code",
   "execution_count": 189,
   "metadata": {},
   "outputs": [],
   "source": [
    "dset_val = dset.sel(time=slice('2011',None))"
   ]
  },
  {
   "cell_type": "markdown",
   "metadata": {},
   "source": [
    "### select one step (leadtime = 3 months), and only t2m "
   ]
  },
  {
   "cell_type": "code",
   "execution_count": 190,
   "metadata": {},
   "outputs": [],
   "source": [
    "dset_train = dset_train[['t2m']].sel(step=3)"
   ]
  },
  {
   "cell_type": "code",
   "execution_count": 191,
   "metadata": {},
   "outputs": [],
   "source": [
    "dset_val = dset_val[['t2m']].sel(step=3)"
   ]
  },
  {
   "cell_type": "markdown",
   "metadata": {},
   "source": [
    "### concatenate all the members long the first dimension, to increase number of instances "
   ]
  },
  {
   "cell_type": "code",
   "execution_count": 192,
   "metadata": {},
   "outputs": [],
   "source": [
    "dset_train = dset_train.stack(instance=('time','member'))"
   ]
  },
  {
   "cell_type": "code",
   "execution_count": 193,
   "metadata": {},
   "outputs": [],
   "source": [
    "dset_val = dset_val.stack(instance=('time','member'))"
   ]
  },
  {
   "cell_type": "markdown",
   "metadata": {},
   "source": [
    "### get the repeated datetimes (will be useful to sample repeatedly in Yds)"
   ]
  },
  {
   "cell_type": "code",
   "execution_count": 194,
   "metadata": {},
   "outputs": [],
   "source": [
    "rdatetimes_train = dset_train.indexes[\"instance\"].get_level_values(0)"
   ]
  },
  {
   "cell_type": "code",
   "execution_count": 195,
   "metadata": {},
   "outputs": [],
   "source": [
    "rdatetimes_val = dset_val.indexes[\"instance\"].get_level_values(0)"
   ]
  },
  {
   "cell_type": "markdown",
   "metadata": {},
   "source": [
    "### transpose to have the instances as the first dimension "
   ]
  },
  {
   "cell_type": "code",
   "execution_count": 196,
   "metadata": {},
   "outputs": [],
   "source": [
    "dset_train = dset_train.transpose('instance','lat','lon')"
   ]
  },
  {
   "cell_type": "code",
   "execution_count": 197,
   "metadata": {},
   "outputs": [],
   "source": [
    "dset_val = dset_val.transpose('instance','lat','lon')"
   ]
  },
  {
   "cell_type": "markdown",
   "metadata": {},
   "source": [
    "### Generate data for tensorflow "
   ]
  },
  {
   "cell_type": "code",
   "execution_count": 198,
   "metadata": {},
   "outputs": [],
   "source": [
    "data_train = XrDataGenerator(dset_train, dset_train, {'t2m':None}, 't2m', norm=True, batch_size=batch_size, mean=None, std=None, shuffle=True, load=False)"
   ]
  },
  {
   "cell_type": "code",
   "execution_count": 199,
   "metadata": {},
   "outputs": [],
   "source": [
    "data_val = XrDataGenerator(dset_val, dset_val, {'t2m':None}, 't2m', norm=True, batch_size=batch_size, mean=data_train.mean, std=data_train.std, shuffle=True, load=False)"
   ]
  },
  {
   "cell_type": "markdown",
   "metadata": {},
   "source": [
    "### checks the shape (should be (batch_size, (input_shape), channels)) "
   ]
  },
  {
   "cell_type": "code",
   "execution_count": 200,
   "metadata": {},
   "outputs": [
    {
     "data": {
      "text/plain": [
       "(32, 180, 360, 1)"
      ]
     },
     "execution_count": 200,
     "metadata": {},
     "output_type": "execute_result"
    }
   ],
   "source": [
    "data_train[0][0].shape"
   ]
  },
  {
   "cell_type": "code",
   "execution_count": 201,
   "metadata": {},
   "outputs": [
    {
     "data": {
      "text/plain": [
       "(32, 180, 360, 1)"
      ]
     },
     "execution_count": 201,
     "metadata": {},
     "output_type": "execute_result"
    }
   ],
   "source": [
    "data_val[0][0].shape"
   ]
  },
  {
   "cell_type": "markdown",
   "metadata": {},
   "source": [
    "### build the model "
   ]
  },
  {
   "cell_type": "code",
   "execution_count": 202,
   "metadata": {},
   "outputs": [],
   "source": [
    "# Input placeholder\n",
    "original = Input(shape=(180,360,1))\n",
    "\n",
    "# Resize to have dimensions divisible by 8\n",
    "resized = ResizeLayer(newsize=(176,360))(original)\n",
    "\n",
    "# # Wrap-around in longitude for periodic boundary conditions\n",
    "\n",
    "padded = PeriodicPadding2D(padd)(resized)\n",
    "\n",
    "# Encoding layers\n",
    "x = Conv2D(16, (3, 3), padding='same')(padded)\n",
    "x = LeakyReLU()(x)\n",
    "x = Conv2D(8, (3, 3), strides= (2,2), padding='valid')(x)\n",
    "x = LeakyReLU()(x)\n",
    "x = Conv2D(8, (3, 3), strides= (2,2), padding='valid')(x)\n",
    "x = LeakyReLU()(x)\n",
    "x = Conv2D(8, (3, 3), strides= (2,2), padding='valid')(x)\n",
    "x = LeakyReLU()(x)\n",
    "\n",
    "encoded = x\n",
    "\n",
    "# Decoding layers\n",
    "x = Conv2DTranspose(8, (3, 3),  strides= (2,2), padding='valid')(encoded)\n",
    "x = LeakyReLU()(x)\n",
    "x = Conv2DTranspose(8, (3, 3),  strides= (2,2), padding='valid')(x)\n",
    "x = LeakyReLU()(x)\n",
    "x = Conv2DTranspose(8, (3, 3),  strides= (2,2), padding='valid')(x)\n",
    "x = LeakyReLU()(x)\n",
    "decoded = Conv2D(1, (3, 3), padding='same')(x)\n",
    "\n",
    "# Strip the longitude wrap-around\n",
    "pruned = PrunePeriodicPadding2D(padd)(decoded)\n",
    "\n",
    "outsize = ResizeLayer(newsize=(180,360))(pruned)\n"
   ]
  },
  {
   "cell_type": "code",
   "execution_count": 203,
   "metadata": {},
   "outputs": [],
   "source": [
    "autoencoder = Model(original,outsize)"
   ]
  },
  {
   "cell_type": "code",
   "execution_count": 204,
   "metadata": {},
   "outputs": [
    {
     "name": "stdout",
     "output_type": "stream",
     "text": [
      "Model: \"model\"\n",
      "________________________________________________________________________________________________________________________\n",
      "Layer (type)                                          Output Shape                                    Param #           \n",
      "========================================================================================================================\n",
      "input_1 (InputLayer)                                  [(None, 180, 360, 1)]                           0                 \n",
      "________________________________________________________________________________________________________________________\n",
      "resize_layer (ResizeLayer)                            (None, 176, 360, 1)                             0                 \n",
      "________________________________________________________________________________________________________________________\n",
      "periodic_padding2d (PeriodicPadding2D)                (None, 192, 376, 1)                             0                 \n",
      "________________________________________________________________________________________________________________________\n",
      "conv2d (Conv2D)                                       (None, 192, 376, 16)                            160               \n",
      "________________________________________________________________________________________________________________________\n",
      "leaky_re_lu (LeakyReLU)                               (None, 192, 376, 16)                            0                 \n",
      "________________________________________________________________________________________________________________________\n",
      "conv2d_1 (Conv2D)                                     (None, 95, 187, 8)                              1160              \n",
      "________________________________________________________________________________________________________________________\n",
      "leaky_re_lu_1 (LeakyReLU)                             (None, 95, 187, 8)                              0                 \n",
      "________________________________________________________________________________________________________________________\n",
      "conv2d_2 (Conv2D)                                     (None, 47, 93, 8)                               584               \n",
      "________________________________________________________________________________________________________________________\n",
      "leaky_re_lu_2 (LeakyReLU)                             (None, 47, 93, 8)                               0                 \n",
      "________________________________________________________________________________________________________________________\n",
      "conv2d_3 (Conv2D)                                     (None, 23, 46, 8)                               584               \n",
      "________________________________________________________________________________________________________________________\n",
      "leaky_re_lu_3 (LeakyReLU)                             (None, 23, 46, 8)                               0                 \n",
      "________________________________________________________________________________________________________________________\n",
      "conv2d_transpose (Conv2DTranspose)                    (None, 47, 93, 8)                               584               \n",
      "________________________________________________________________________________________________________________________\n",
      "leaky_re_lu_4 (LeakyReLU)                             (None, 47, 93, 8)                               0                 \n",
      "________________________________________________________________________________________________________________________\n",
      "conv2d_transpose_1 (Conv2DTranspose)                  (None, 95, 187, 8)                              584               \n",
      "________________________________________________________________________________________________________________________\n",
      "leaky_re_lu_5 (LeakyReLU)                             (None, 95, 187, 8)                              0                 \n",
      "________________________________________________________________________________________________________________________\n",
      "conv2d_transpose_2 (Conv2DTranspose)                  (None, 191, 375, 8)                             584               \n",
      "________________________________________________________________________________________________________________________\n",
      "leaky_re_lu_6 (LeakyReLU)                             (None, 191, 375, 8)                             0                 \n",
      "________________________________________________________________________________________________________________________\n",
      "conv2d_4 (Conv2D)                                     (None, 191, 375, 1)                             73                \n",
      "________________________________________________________________________________________________________________________\n",
      "prune_periodic_padding2d (PrunePeriodicPadding2D)     (None, 175, 359, 1)                             0                 \n",
      "________________________________________________________________________________________________________________________\n",
      "resize_layer_1 (ResizeLayer)                          (None, 180, 360, 1)                             0                 \n",
      "========================================================================================================================\n",
      "Total params: 4,313\n",
      "Trainable params: 4,313\n",
      "Non-trainable params: 0\n",
      "________________________________________________________________________________________________________________________\n"
     ]
    }
   ],
   "source": [
    "autoencoder.summary(line_length=120)"
   ]
  },
  {
   "cell_type": "markdown",
   "metadata": {},
   "source": [
    "### build the callbacks "
   ]
  },
  {
   "cell_type": "code",
   "execution_count": 205,
   "metadata": {},
   "outputs": [],
   "source": [
    "run_id = time.strftime(\"run_%Y_%m_%d-%H_%M_%S\")"
   ]
  },
  {
   "cell_type": "markdown",
   "metadata": {},
   "source": [
    "### checkpoint "
   ]
  },
  {
   "cell_type": "code",
   "execution_count": 206,
   "metadata": {},
   "outputs": [],
   "source": [
    "checkpoint_cb = keras.callbacks.ModelCheckpoint(f\"./autoencoder_checkpoint_{run_id}_{compute}_fullCNN.h5\", save_best_only=True)"
   ]
  },
  {
   "cell_type": "markdown",
   "metadata": {},
   "source": [
    "### early stopping "
   ]
  },
  {
   "cell_type": "code",
   "execution_count": 207,
   "metadata": {},
   "outputs": [],
   "source": [
    "early_stopping_cb = keras.callbacks.EarlyStopping(patience=10, restore_best_weights=True)"
   ]
  },
  {
   "cell_type": "code",
   "execution_count": 208,
   "metadata": {},
   "outputs": [],
   "source": [
    "import os"
   ]
  },
  {
   "cell_type": "code",
   "execution_count": 209,
   "metadata": {},
   "outputs": [],
   "source": [
    "root_logdir = os.path.join(os.curdir, \"my_logs\")"
   ]
  },
  {
   "cell_type": "code",
   "execution_count": 210,
   "metadata": {},
   "outputs": [
    {
     "data": {
      "text/plain": [
       "'./my_logs/run_2020_08_05-16_54_38'"
      ]
     },
     "execution_count": 210,
     "metadata": {},
     "output_type": "execute_result"
    }
   ],
   "source": [
    "def get_run_logdir(run_id):\n",
    "    return os.path.join(root_logdir, run_id)\n",
    "\n",
    "run_logdir = get_run_logdir(run_id)\n",
    "run_logdir"
   ]
  },
  {
   "cell_type": "code",
   "execution_count": 211,
   "metadata": {},
   "outputs": [],
   "source": [
    "keras.backend.clear_session()\n",
    "np.random.seed(42)\n",
    "tf.random.set_seed(42)"
   ]
  },
  {
   "cell_type": "code",
   "execution_count": 212,
   "metadata": {},
   "outputs": [],
   "source": [
    "tensorboard_cb = keras.callbacks.TensorBoard(run_logdir)"
   ]
  },
  {
   "cell_type": "markdown",
   "metadata": {},
   "source": [
    "### compile "
   ]
  },
  {
   "cell_type": "code",
   "execution_count": 213,
   "metadata": {},
   "outputs": [],
   "source": [
    "autoencoder.compile(optimizer='adam', loss='mean_squared_error')"
   ]
  },
  {
   "cell_type": "code",
   "execution_count": 214,
   "metadata": {},
   "outputs": [
    {
     "name": "stdout",
     "output_type": "stream",
     "text": [
      "Model: \"model\"\n",
      "________________________________________________________________________________________________________________________\n",
      "Layer (type)                                          Output Shape                                    Param #           \n",
      "========================================================================================================================\n",
      "input_1 (InputLayer)                                  [(None, 180, 360, 1)]                           0                 \n",
      "________________________________________________________________________________________________________________________\n",
      "resize_layer (ResizeLayer)                            (None, 176, 360, 1)                             0                 \n",
      "________________________________________________________________________________________________________________________\n",
      "periodic_padding2d (PeriodicPadding2D)                (None, 192, 376, 1)                             0                 \n",
      "________________________________________________________________________________________________________________________\n",
      "conv2d (Conv2D)                                       (None, 192, 376, 16)                            160               \n",
      "________________________________________________________________________________________________________________________\n",
      "leaky_re_lu (LeakyReLU)                               (None, 192, 376, 16)                            0                 \n",
      "________________________________________________________________________________________________________________________\n",
      "conv2d_1 (Conv2D)                                     (None, 95, 187, 8)                              1160              \n",
      "________________________________________________________________________________________________________________________\n",
      "leaky_re_lu_1 (LeakyReLU)                             (None, 95, 187, 8)                              0                 \n",
      "________________________________________________________________________________________________________________________\n",
      "conv2d_2 (Conv2D)                                     (None, 47, 93, 8)                               584               \n",
      "________________________________________________________________________________________________________________________\n",
      "leaky_re_lu_2 (LeakyReLU)                             (None, 47, 93, 8)                               0                 \n",
      "________________________________________________________________________________________________________________________\n",
      "conv2d_3 (Conv2D)                                     (None, 23, 46, 8)                               584               \n",
      "________________________________________________________________________________________________________________________\n",
      "leaky_re_lu_3 (LeakyReLU)                             (None, 23, 46, 8)                               0                 \n",
      "________________________________________________________________________________________________________________________\n",
      "conv2d_transpose (Conv2DTranspose)                    (None, 47, 93, 8)                               584               \n",
      "________________________________________________________________________________________________________________________\n",
      "leaky_re_lu_4 (LeakyReLU)                             (None, 47, 93, 8)                               0                 \n",
      "________________________________________________________________________________________________________________________\n",
      "conv2d_transpose_1 (Conv2DTranspose)                  (None, 95, 187, 8)                              584               \n",
      "________________________________________________________________________________________________________________________\n",
      "leaky_re_lu_5 (LeakyReLU)                             (None, 95, 187, 8)                              0                 \n",
      "________________________________________________________________________________________________________________________\n",
      "conv2d_transpose_2 (Conv2DTranspose)                  (None, 191, 375, 8)                             584               \n",
      "________________________________________________________________________________________________________________________\n",
      "leaky_re_lu_6 (LeakyReLU)                             (None, 191, 375, 8)                             0                 \n",
      "________________________________________________________________________________________________________________________\n",
      "conv2d_4 (Conv2D)                                     (None, 191, 375, 1)                             73                \n",
      "________________________________________________________________________________________________________________________\n",
      "prune_periodic_padding2d (PrunePeriodicPadding2D)     (None, 175, 359, 1)                             0                 \n",
      "________________________________________________________________________________________________________________________\n",
      "resize_layer_1 (ResizeLayer)                          (None, 180, 360, 1)                             0                 \n",
      "========================================================================================================================\n",
      "Total params: 4,313\n",
      "Trainable params: 4,313\n",
      "Non-trainable params: 0\n",
      "________________________________________________________________________________________________________________________\n"
     ]
    }
   ],
   "source": [
    "autoencoder.summary(line_length=120)"
   ]
  },
  {
   "cell_type": "markdown",
   "metadata": {},
   "source": [
    "### fit "
   ]
  },
  {
   "cell_type": "markdown",
   "metadata": {},
   "source": [
    "### Note: run tensorboard with: \n",
    "        \n",
    "```\n",
    "tensorboard --logdir=./my_logs  --port=6006\n",
    "```\n",
    "<hr>"
   ]
  },
  {
   "cell_type": "code",
   "execution_count": 215,
   "metadata": {},
   "outputs": [],
   "source": [
    "# autoencoder.fit_generator(generator=data_train,\n",
    "#                     validation_data=data_val,\n",
    "#                     use_multiprocessing=True,\n",
    "#                     workers=6,epochs=n_epochs, \n",
    "#                     callbacks=[checkpoint_cb, early_stopping_cb, tensorboard_cb])"
   ]
  },
  {
   "cell_type": "code",
   "execution_count": 216,
   "metadata": {},
   "outputs": [
    {
     "name": "stdout",
     "output_type": "stream",
     "text": [
      "Epoch 1/20\n",
      "270/270 [==============================] - 165s 611ms/step - loss: 0.4546 - val_loss: 0.0682\n",
      "Epoch 2/20\n",
      "270/270 [==============================] - 166s 616ms/step - loss: 0.0598 - val_loss: 0.0424\n",
      "Epoch 3/20\n",
      "270/270 [==============================] - 165s 610ms/step - loss: 0.0421 - val_loss: 0.0343\n",
      "Epoch 4/20\n",
      "270/270 [==============================] - 165s 611ms/step - loss: 0.0359 - val_loss: 0.0313\n",
      "Epoch 5/20\n",
      "270/270 [==============================] - 167s 618ms/step - loss: 0.0330 - val_loss: 0.0297\n",
      "Epoch 6/20\n",
      "270/270 [==============================] - 165s 612ms/step - loss: 0.0310 - val_loss: 0.0281\n",
      "Epoch 7/20\n",
      "270/270 [==============================] - 165s 611ms/step - loss: 0.0294 - val_loss: 0.0273\n",
      "Epoch 8/20\n",
      "270/270 [==============================] - 166s 615ms/step - loss: 0.0282 - val_loss: 0.0261\n",
      "Epoch 9/20\n",
      "270/270 [==============================] - 163s 602ms/step - loss: 0.0270 - val_loss: 0.0256\n",
      "Epoch 10/20\n",
      "270/270 [==============================] - 165s 613ms/step - loss: 0.0261 - val_loss: 0.0246\n",
      "Epoch 11/20\n",
      "270/270 [==============================] - 164s 609ms/step - loss: 0.0254 - val_loss: 0.0241\n",
      "Epoch 12/20\n",
      "270/270 [==============================] - 162s 601ms/step - loss: 0.0248 - val_loss: 0.0235\n",
      "Epoch 13/20\n",
      "270/270 [==============================] - 165s 612ms/step - loss: 0.0242 - val_loss: 0.0226\n",
      "Epoch 14/20\n",
      "270/270 [==============================] - 165s 612ms/step - loss: 0.0237 - val_loss: 0.0225\n",
      "Epoch 15/20\n",
      "270/270 [==============================] - 166s 614ms/step - loss: 0.0233 - val_loss: 0.0223\n",
      "Epoch 16/20\n",
      "270/270 [==============================] - 166s 616ms/step - loss: 0.0229 - val_loss: 0.0219\n",
      "Epoch 17/20\n",
      "270/270 [==============================] - 165s 613ms/step - loss: 0.0225 - val_loss: 0.0217\n",
      "Epoch 18/20\n",
      "270/270 [==============================] - 165s 610ms/step - loss: 0.0223 - val_loss: 0.0215\n",
      "Epoch 19/20\n",
      "270/270 [==============================] - 171s 632ms/step - loss: 0.0220 - val_loss: 0.0210\n",
      "Epoch 20/20\n",
      "270/270 [==============================] - 166s 616ms/step - loss: 0.0218 - val_loss: 0.0208\n"
     ]
    }
   ],
   "source": [
    "history = autoencoder.fit(data_train, validation_data=data_val, epochs=n_epochs, callbacks=[checkpoint_cb, early_stopping_cb, tensorboard_cb])"
   ]
  },
  {
   "cell_type": "markdown",
   "metadata": {},
   "source": [
    "### save model "
   ]
  },
  {
   "cell_type": "code",
   "execution_count": 217,
   "metadata": {},
   "outputs": [],
   "source": [
    "saved_model = CWD / f\"saved_autoencoder_{run_id}_{n_epochs}_epochs_{compute}_fullCNN\" "
   ]
  },
  {
   "cell_type": "code",
   "execution_count": 218,
   "metadata": {},
   "outputs": [
    {
     "name": "stdout",
     "output_type": "stream",
     "text": [
      "INFO:tensorflow:Assets written to: /home/nicolasf/research/Smart_Ideas/code/models/CNN/saved_autoencoder_run_2020_08_05-16_54_38_20_epochs_GPU_fullCNN/assets\n"
     ]
    }
   ],
   "source": [
    "keras.models.save_model(autoencoder, saved_model)"
   ]
  },
  {
   "cell_type": "markdown",
   "metadata": {},
   "source": [
    "### save history file "
   ]
  },
  {
   "cell_type": "code",
   "execution_count": 219,
   "metadata": {},
   "outputs": [],
   "source": [
    "import pickle"
   ]
  },
  {
   "cell_type": "code",
   "execution_count": 220,
   "metadata": {},
   "outputs": [],
   "source": [
    "saved_history = CWD / f\"saved_history_{run_id}_{n_epochs}_epochs_{compute}.pkl\" "
   ]
  },
  {
   "cell_type": "code",
   "execution_count": 221,
   "metadata": {},
   "outputs": [],
   "source": [
    "pickle.dump(autoencoder.history.history, open(saved_history, \"wb\"))"
   ]
  },
  {
   "cell_type": "markdown",
   "metadata": {},
   "source": [
    "### Some plots "
   ]
  },
  {
   "cell_type": "markdown",
   "metadata": {},
   "source": [
    "### validation data first batch "
   ]
  },
  {
   "cell_type": "code",
   "execution_count": 222,
   "metadata": {},
   "outputs": [
    {
     "data": {
      "text/plain": [
       "(32, 180, 360, 1)"
      ]
     },
     "execution_count": 222,
     "metadata": {},
     "output_type": "execute_result"
    }
   ],
   "source": [
    "data_val[0][0].shape"
   ]
  },
  {
   "cell_type": "markdown",
   "metadata": {},
   "source": [
    "### take one from the batch "
   ]
  },
  {
   "cell_type": "code",
   "execution_count": 223,
   "metadata": {},
   "outputs": [],
   "source": [
    "i = 10"
   ]
  },
  {
   "cell_type": "code",
   "execution_count": 224,
   "metadata": {},
   "outputs": [],
   "source": [
    "X = data_val[0][0][i:i+1,:,:,:]"
   ]
  },
  {
   "cell_type": "code",
   "execution_count": 225,
   "metadata": {},
   "outputs": [
    {
     "data": {
      "text/plain": [
       "(1, 180, 360, 1)"
      ]
     },
     "execution_count": 225,
     "metadata": {},
     "output_type": "execute_result"
    }
   ],
   "source": [
    "X.shape"
   ]
  },
  {
   "cell_type": "code",
   "execution_count": 226,
   "metadata": {},
   "outputs": [],
   "source": [
    "pred = autoencoder.predict(X)"
   ]
  },
  {
   "cell_type": "code",
   "execution_count": 227,
   "metadata": {},
   "outputs": [
    {
     "data": {
      "text/plain": [
       "(1, 180, 360, 1)"
      ]
     },
     "execution_count": 227,
     "metadata": {},
     "output_type": "execute_result"
    }
   ],
   "source": [
    "pred.shape"
   ]
  },
  {
   "cell_type": "code",
   "execution_count": 228,
   "metadata": {},
   "outputs": [],
   "source": [
    "pred = pred.squeeze()"
   ]
  },
  {
   "cell_type": "code",
   "execution_count": 229,
   "metadata": {},
   "outputs": [
    {
     "data": {
      "text/plain": [
       "<matplotlib.colorbar.Colorbar at 0x7f58b8152970>"
      ]
     },
     "execution_count": 229,
     "metadata": {},
     "output_type": "execute_result"
    },
    {
     "data": {
      "image/png": "[encoded data removed]",
      "text/plain": [
       "<Figure size 720x720 with 2 Axes>"
      ]
     },
     "metadata": {
      "needs_background": "light"
     },
     "output_type": "display_data"
    }
   ],
   "source": [
    "f, ax = plt.subplots(figsize=(10,10))\n",
    "im = ax.imshow(data_val[0][0][i,::-1,:,0], vmin=-5, vmax=5, cmap=plt.cm.RdBu_r)\n",
    "plt.colorbar(im, shrink=0.4)"
   ]
  },
  {
   "cell_type": "code",
   "execution_count": 230,
   "metadata": {},
   "outputs": [
    {
     "data": {
      "text/plain": [
       "<matplotlib.colorbar.Colorbar at 0x7f5b1419de80>"
      ]
     },
     "execution_count": 230,
     "metadata": {},
     "output_type": "execute_result"
    },
    {
     "data": {
      "image/png": "[encoded data removed]",
      "text/plain": [
       "<Figure size 720x720 with 2 Axes>"
      ]
     },
     "metadata": {
      "needs_background": "light"
     },
     "output_type": "display_data"
    }
   ],
   "source": [
    "f, ax = plt.subplots(figsize=(10,10))\n",
    "im = ax.imshow(pred[::-1,:], vmin=-5, vmax=5, cmap=plt.cm.RdBu_r)  \n",
    "plt.colorbar(im, shrink=0.4)"
   ]
  },
  {
   "cell_type": "markdown",
   "metadata": {},
   "source": [
    "### Plots the training and validation loss "
   ]
  },
  {
   "cell_type": "code",
   "execution_count": 231,
   "metadata": {},
   "outputs": [
    {
     "data": {
      "image/png": "[encoded data removed]",
      "text/plain": [
       "<Figure size 432x288 with 1 Axes>"
      ]
     },
     "metadata": {
      "needs_background": "light"
     },
     "output_type": "display_data"
    }
   ],
   "source": [
    "f, ax = plt.subplots()\n",
    "pd.DataFrame(history.history).plot(ax=ax, marker='o')\n",
    "ax.grid(ls=':')"
   ]
  },
  {
   "cell_type": "code",
   "execution_count": 232,
   "metadata": {},
   "outputs": [
    {
     "data": {
      "text/html": [
       "<div>\n",
       "<style scoped>\n",
       "    .dataframe tbody tr th:only-of-type {\n",
       "        vertical-align: middle;\n",
       "    }\n",
       "\n",
       "    .dataframe tbody tr th {\n",
       "        vertical-align: top;\n",
       "    }\n",
       "\n",
       "    .dataframe thead th {\n",
       "        text-align: right;\n",
       "    }\n",
       "</style>\n",
       "<table border=\"1\" class=\"dataframe\">\n",
       "  <thead>\n",
       "    <tr style=\"text-align: right;\">\n",
       "      <th></th>\n",
       "      <th>loss</th>\n",
       "      <th>val_loss</th>\n",
       "    </tr>\n",
       "  </thead>\n",
       "  <tbody>\n",
       "    <tr>\n",
       "      <th>0</th>\n",
       "      <td>0.454577</td>\n",
       "      <td>0.068162</td>\n",
       "    </tr>\n",
       "    <tr>\n",
       "      <th>1</th>\n",
       "      <td>0.059769</td>\n",
       "      <td>0.042361</td>\n",
       "    </tr>\n",
       "    <tr>\n",
       "      <th>2</th>\n",
       "      <td>0.042068</td>\n",
       "      <td>0.034293</td>\n",
       "    </tr>\n",
       "    <tr>\n",
       "      <th>3</th>\n",
       "      <td>0.035921</td>\n",
       "      <td>0.031348</td>\n",
       "    </tr>\n",
       "    <tr>\n",
       "      <th>4</th>\n",
       "      <td>0.032975</td>\n",
       "      <td>0.029699</td>\n",
       "    </tr>\n",
       "    <tr>\n",
       "      <th>5</th>\n",
       "      <td>0.030996</td>\n",
       "      <td>0.028086</td>\n",
       "    </tr>\n",
       "    <tr>\n",
       "      <th>6</th>\n",
       "      <td>0.029428</td>\n",
       "      <td>0.027267</td>\n",
       "    </tr>\n",
       "    <tr>\n",
       "      <th>7</th>\n",
       "      <td>0.028153</td>\n",
       "      <td>0.026061</td>\n",
       "    </tr>\n",
       "    <tr>\n",
       "      <th>8</th>\n",
       "      <td>0.027028</td>\n",
       "      <td>0.025611</td>\n",
       "    </tr>\n",
       "    <tr>\n",
       "      <th>9</th>\n",
       "      <td>0.026116</td>\n",
       "      <td>0.024566</td>\n",
       "    </tr>\n",
       "    <tr>\n",
       "      <th>10</th>\n",
       "      <td>0.025364</td>\n",
       "      <td>0.024063</td>\n",
       "    </tr>\n",
       "    <tr>\n",
       "      <th>11</th>\n",
       "      <td>0.024764</td>\n",
       "      <td>0.023512</td>\n",
       "    </tr>\n",
       "    <tr>\n",
       "      <th>12</th>\n",
       "      <td>0.024160</td>\n",
       "      <td>0.022614</td>\n",
       "    </tr>\n",
       "    <tr>\n",
       "      <th>13</th>\n",
       "      <td>0.023712</td>\n",
       "      <td>0.022542</td>\n",
       "    </tr>\n",
       "    <tr>\n",
       "      <th>14</th>\n",
       "      <td>0.023252</td>\n",
       "      <td>0.022290</td>\n",
       "    </tr>\n",
       "    <tr>\n",
       "      <th>15</th>\n",
       "      <td>0.022908</td>\n",
       "      <td>0.021935</td>\n",
       "    </tr>\n",
       "    <tr>\n",
       "      <th>16</th>\n",
       "      <td>0.022537</td>\n",
       "      <td>0.021694</td>\n",
       "    </tr>\n",
       "    <tr>\n",
       "      <th>17</th>\n",
       "      <td>0.022281</td>\n",
       "      <td>0.021520</td>\n",
       "    </tr>\n",
       "    <tr>\n",
       "      <th>18</th>\n",
       "      <td>0.021964</td>\n",
       "      <td>0.020974</td>\n",
       "    </tr>\n",
       "    <tr>\n",
       "      <th>19</th>\n",
       "      <td>0.021795</td>\n",
       "      <td>0.020809</td>\n",
       "    </tr>\n",
       "  </tbody>\n",
       "</table>\n",
       "</div>"
      ],
      "text/plain": [
       "        loss  val_loss\n",
       "0   0.454577  0.068162\n",
       "1   0.059769  0.042361\n",
       "2   0.042068  0.034293\n",
       "3   0.035921  0.031348\n",
       "4   0.032975  0.029699\n",
       "5   0.030996  0.028086\n",
       "6   0.029428  0.027267\n",
       "7   0.028153  0.026061\n",
       "8   0.027028  0.025611\n",
       "9   0.026116  0.024566\n",
       "10  0.025364  0.024063\n",
       "11  0.024764  0.023512\n",
       "12  0.024160  0.022614\n",
       "13  0.023712  0.022542\n",
       "14  0.023252  0.022290\n",
       "15  0.022908  0.021935\n",
       "16  0.022537  0.021694\n",
       "17  0.022281  0.021520\n",
       "18  0.021964  0.020974\n",
       "19  0.021795  0.020809"
      ]
     },
     "execution_count": 232,
     "metadata": {},
     "output_type": "execute_result"
    }
   ],
   "source": [
    "pd.DataFrame(history.history)"
   ]
  },
  {
   "cell_type": "markdown",
   "metadata": {},
   "source": [
    "### load a previously saved model (20 epochs, but with adadelta optim) "
   ]
  },
  {
   "cell_type": "code",
   "execution_count": 233,
   "metadata": {},
   "outputs": [],
   "source": [
    "with open('./saved_history_run_2020_08_05-12_23_37_20_epochs.pkl', 'rb') as f: \n",
    "    history = pickle.load(f)"
   ]
  },
  {
   "cell_type": "code",
   "execution_count": 234,
   "metadata": {},
   "outputs": [
    {
     "data": {
      "text/html": [
       "<div>\n",
       "<style scoped>\n",
       "    .dataframe tbody tr th:only-of-type {\n",
       "        vertical-align: middle;\n",
       "    }\n",
       "\n",
       "    .dataframe tbody tr th {\n",
       "        vertical-align: top;\n",
       "    }\n",
       "\n",
       "    .dataframe thead th {\n",
       "        text-align: right;\n",
       "    }\n",
       "</style>\n",
       "<table border=\"1\" class=\"dataframe\">\n",
       "  <thead>\n",
       "    <tr style=\"text-align: right;\">\n",
       "      <th></th>\n",
       "      <th>loss</th>\n",
       "      <th>val_loss</th>\n",
       "    </tr>\n",
       "  </thead>\n",
       "  <tbody>\n",
       "    <tr>\n",
       "      <th>0</th>\n",
       "      <td>2.184552</td>\n",
       "      <td>1.664793</td>\n",
       "    </tr>\n",
       "    <tr>\n",
       "      <th>1</th>\n",
       "      <td>2.153686</td>\n",
       "      <td>1.632631</td>\n",
       "    </tr>\n",
       "    <tr>\n",
       "      <th>2</th>\n",
       "      <td>2.105614</td>\n",
       "      <td>1.566928</td>\n",
       "    </tr>\n",
       "    <tr>\n",
       "      <th>3</th>\n",
       "      <td>1.823752</td>\n",
       "      <td>1.207865</td>\n",
       "    </tr>\n",
       "    <tr>\n",
       "      <th>4</th>\n",
       "      <td>1.136532</td>\n",
       "      <td>0.859549</td>\n",
       "    </tr>\n",
       "    <tr>\n",
       "      <th>5</th>\n",
       "      <td>0.770167</td>\n",
       "      <td>0.517464</td>\n",
       "    </tr>\n",
       "    <tr>\n",
       "      <th>6</th>\n",
       "      <td>0.549028</td>\n",
       "      <td>0.409080</td>\n",
       "    </tr>\n",
       "    <tr>\n",
       "      <th>7</th>\n",
       "      <td>0.490587</td>\n",
       "      <td>0.377374</td>\n",
       "    </tr>\n",
       "    <tr>\n",
       "      <th>8</th>\n",
       "      <td>0.456456</td>\n",
       "      <td>0.351919</td>\n",
       "    </tr>\n",
       "    <tr>\n",
       "      <th>9</th>\n",
       "      <td>0.427613</td>\n",
       "      <td>0.329715</td>\n",
       "    </tr>\n",
       "    <tr>\n",
       "      <th>10</th>\n",
       "      <td>0.402433</td>\n",
       "      <td>0.310090</td>\n",
       "    </tr>\n",
       "    <tr>\n",
       "      <th>11</th>\n",
       "      <td>0.380085</td>\n",
       "      <td>0.292583</td>\n",
       "    </tr>\n",
       "    <tr>\n",
       "      <th>12</th>\n",
       "      <td>0.359980</td>\n",
       "      <td>0.276820</td>\n",
       "    </tr>\n",
       "    <tr>\n",
       "      <th>13</th>\n",
       "      <td>0.342068</td>\n",
       "      <td>0.263387</td>\n",
       "    </tr>\n",
       "    <tr>\n",
       "      <th>14</th>\n",
       "      <td>0.326474</td>\n",
       "      <td>0.252248</td>\n",
       "    </tr>\n",
       "    <tr>\n",
       "      <th>15</th>\n",
       "      <td>0.313381</td>\n",
       "      <td>0.243116</td>\n",
       "    </tr>\n",
       "    <tr>\n",
       "      <th>16</th>\n",
       "      <td>0.302509</td>\n",
       "      <td>0.235541</td>\n",
       "    </tr>\n",
       "    <tr>\n",
       "      <th>17</th>\n",
       "      <td>0.293301</td>\n",
       "      <td>0.229334</td>\n",
       "    </tr>\n",
       "    <tr>\n",
       "      <th>18</th>\n",
       "      <td>0.285320</td>\n",
       "      <td>0.224044</td>\n",
       "    </tr>\n",
       "    <tr>\n",
       "      <th>19</th>\n",
       "      <td>0.278156</td>\n",
       "      <td>0.219460</td>\n",
       "    </tr>\n",
       "  </tbody>\n",
       "</table>\n",
       "</div>"
      ],
      "text/plain": [
       "        loss  val_loss\n",
       "0   2.184552  1.664793\n",
       "1   2.153686  1.632631\n",
       "2   2.105614  1.566928\n",
       "3   1.823752  1.207865\n",
       "4   1.136532  0.859549\n",
       "5   0.770167  0.517464\n",
       "6   0.549028  0.409080\n",
       "7   0.490587  0.377374\n",
       "8   0.456456  0.351919\n",
       "9   0.427613  0.329715\n",
       "10  0.402433  0.310090\n",
       "11  0.380085  0.292583\n",
       "12  0.359980  0.276820\n",
       "13  0.342068  0.263387\n",
       "14  0.326474  0.252248\n",
       "15  0.313381  0.243116\n",
       "16  0.302509  0.235541\n",
       "17  0.293301  0.229334\n",
       "18  0.285320  0.224044\n",
       "19  0.278156  0.219460"
      ]
     },
     "execution_count": 234,
     "metadata": {},
     "output_type": "execute_result"
    }
   ],
   "source": [
    "pd.DataFrame(history)"
   ]
  },
  {
   "cell_type": "code",
   "execution_count": null,
   "metadata": {},
   "outputs": [],
   "source": []
  }
 ],
 "metadata": {
  "kernelspec": {
   "display_name": "Python 3",
   "language": "python",
   "name": "python3"
  },
  "language_info": {
   "codemirror_mode": {
    "name": "ipython",
    "version": 3
   },
   "file_extension": ".py",
   "mimetype": "text/x-python",
   "name": "python",
   "nbconvert_exporter": "python",
   "pygments_lexer": "ipython3",
   "version": "3.8.3"
  }
 },
 "nbformat": 4,
 "nbformat_minor": 4
}
