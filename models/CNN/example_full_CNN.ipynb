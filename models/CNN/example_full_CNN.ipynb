{
 "cells": [
  {
   "cell_type": "code",
   "execution_count": 1,
   "metadata": {},
   "outputs": [],
   "source": [
    "%matplotlib inline"
   ]
  },
  {
   "cell_type": "code",
   "execution_count": 2,
   "metadata": {},
   "outputs": [],
   "source": [
    "from matplotlib import pyplot as plt "
   ]
  },
  {
   "cell_type": "code",
   "execution_count": 3,
   "metadata": {},
   "outputs": [],
   "source": [
    "%load_ext autoreload"
   ]
  },
  {
   "cell_type": "code",
   "execution_count": 4,
   "metadata": {},
   "outputs": [],
   "source": [
    "%autoreload 2 "
   ]
  },
  {
   "cell_type": "code",
   "execution_count": 5,
   "metadata": {},
   "outputs": [],
   "source": [
    "%matplotlib inline"
   ]
  },
  {
   "cell_type": "code",
   "execution_count": 6,
   "metadata": {},
   "outputs": [],
   "source": [
    "import pathlib"
   ]
  },
  {
   "cell_type": "code",
   "execution_count": 7,
   "metadata": {},
   "outputs": [],
   "source": [
    "CWD = pathlib.Path.cwd()"
   ]
  },
  {
   "cell_type": "code",
   "execution_count": 8,
   "metadata": {},
   "outputs": [],
   "source": [
    "import sys"
   ]
  },
  {
   "cell_type": "code",
   "execution_count": 9,
   "metadata": {},
   "outputs": [],
   "source": [
    "import time"
   ]
  },
  {
   "cell_type": "code",
   "execution_count": 10,
   "metadata": {},
   "outputs": [],
   "source": [
    "sys.path.append('../../ml4seas/')"
   ]
  },
  {
   "cell_type": "code",
   "execution_count": 11,
   "metadata": {},
   "outputs": [],
   "source": [
    "import numpy as np \n",
    "import pandas as pd \n",
    "import xarray as xr"
   ]
  },
  {
   "cell_type": "code",
   "execution_count": 12,
   "metadata": {},
   "outputs": [],
   "source": [
    "import tensorflow as tf\n",
    "import tensorflow.keras as keras\n",
    "from tensorflow.keras.layers import *\n",
    "from tensorflow.keras.models import Model\n",
    "import tensorflow.keras.backend as K"
   ]
  },
  {
   "cell_type": "code",
   "execution_count": 13,
   "metadata": {},
   "outputs": [
    {
     "data": {
      "text/plain": [
       "[PhysicalDevice(name='/physical_device:GPU:0', device_type='GPU')]"
      ]
     },
     "execution_count": 13,
     "metadata": {},
     "output_type": "execute_result"
    }
   ],
   "source": [
    "tf.config.list_physical_devices('GPU')"
   ]
  },
  {
   "cell_type": "code",
   "execution_count": 14,
   "metadata": {},
   "outputs": [],
   "source": [
    "from NN import *"
   ]
  },
  {
   "cell_type": "markdown",
   "metadata": {},
   "source": [
    "### some parameters for the model and the logs "
   ]
  },
  {
   "cell_type": "code",
   "execution_count": 15,
   "metadata": {},
   "outputs": [],
   "source": [
    "if len(tf.config.list_physical_devices('GPU')) >= 1: \n",
    "    compute = 'GPU'\n",
    "else: \n",
    "    compute = 'CPU'"
   ]
  },
  {
   "cell_type": "code",
   "execution_count": 16,
   "metadata": {},
   "outputs": [
    {
     "name": "stdout",
     "output_type": "stream",
     "text": [
      "using the GPU\n"
     ]
    }
   ],
   "source": [
    "print(f\"using the {compute}\")"
   ]
  },
  {
   "cell_type": "code",
   "execution_count": 17,
   "metadata": {},
   "outputs": [],
   "source": [
    "batch_size=32"
   ]
  },
  {
   "cell_type": "code",
   "execution_count": 18,
   "metadata": {},
   "outputs": [],
   "source": [
    "padd = 8"
   ]
  },
  {
   "cell_type": "code",
   "execution_count": 19,
   "metadata": {},
   "outputs": [],
   "source": [
    "input_shape = (181, 360, 1) # last for the number of channels "
   ]
  },
  {
   "cell_type": "code",
   "execution_count": 28,
   "metadata": {},
   "outputs": [],
   "source": [
    "resize_shape = (padd * round(input_shape[0]/padd), padd * round(input_shape[1]/padd)) # to be evenly divided by the padd"
   ]
  },
  {
   "cell_type": "code",
   "execution_count": 29,
   "metadata": {},
   "outputs": [
    {
     "data": {
      "text/plain": [
       "(184, 360)"
      ]
     },
     "execution_count": 29,
     "metadata": {},
     "output_type": "execute_result"
    }
   ],
   "source": [
    "resize_shape"
   ]
  },
  {
   "cell_type": "code",
   "execution_count": 30,
   "metadata": {},
   "outputs": [],
   "source": [
    "n_epochs = 20 # number of epochs "
   ]
  },
  {
   "cell_type": "markdown",
   "metadata": {},
   "source": [
    "### list the files "
   ]
  },
  {
   "cell_type": "code",
   "execution_count": 31,
   "metadata": {},
   "outputs": [],
   "source": [
    "dpath = pathlib.Path('/media/nicolasf/END19101/data/GCMs/processed/hindcasts/CDS/ECMWF/T2M/')"
   ]
  },
  {
   "cell_type": "code",
   "execution_count": 32,
   "metadata": {},
   "outputs": [],
   "source": [
    "lfiles = list(dpath.glob(\"ECMWF_T2M_seasonal_anomalies_????_??.nc\"))"
   ]
  },
  {
   "cell_type": "code",
   "execution_count": 33,
   "metadata": {},
   "outputs": [],
   "source": [
    "lfiles.sort()"
   ]
  },
  {
   "cell_type": "code",
   "execution_count": 34,
   "metadata": {},
   "outputs": [],
   "source": [
    "dset = xr.open_mfdataset(lfiles, concat_dim='time', combine='nested', parallel=True)"
   ]
  },
  {
   "cell_type": "code",
   "execution_count": 35,
   "metadata": {},
   "outputs": [
    {
     "data": {
      "text/html": [
       "<div><svg style=\"position: absolute; width: 0; height: 0; overflow: hidden\">\n",
       "<defs>\n",
       "<symbol id=\"icon-database\" viewBox=\"0 0 32 32\">\n",
       "<path d=\"M16 0c-8.837 0-16 2.239-16 5v4c0 2.761 7.163 5 16 5s16-2.239 16-5v-4c0-2.761-7.163-5-16-5z\"></path>\n",
       "<path d=\"M16 17c-8.837 0-16-2.239-16-5v6c0 2.761 7.163 5 16 5s16-2.239 16-5v-6c0 2.761-7.163 5-16 5z\"></path>\n",
       "<path d=\"M16 26c-8.837 0-16-2.239-16-5v6c0 2.761 7.163 5 16 5s16-2.239 16-5v-6c0 2.761-7.163 5-16 5z\"></path>\n",
       "</symbol>\n",
       "<symbol id=\"icon-file-text2\" viewBox=\"0 0 32 32\">\n",
       "<path d=\"M28.681 7.159c-0.694-0.947-1.662-2.053-2.724-3.116s-2.169-2.030-3.116-2.724c-1.612-1.182-2.393-1.319-2.841-1.319h-15.5c-1.378 0-2.5 1.121-2.5 2.5v27c0 1.378 1.122 2.5 2.5 2.5h23c1.378 0 2.5-1.122 2.5-2.5v-19.5c0-0.448-0.137-1.23-1.319-2.841zM24.543 5.457c0.959 0.959 1.712 1.825 2.268 2.543h-4.811v-4.811c0.718 0.556 1.584 1.309 2.543 2.268zM28 29.5c0 0.271-0.229 0.5-0.5 0.5h-23c-0.271 0-0.5-0.229-0.5-0.5v-27c0-0.271 0.229-0.5 0.5-0.5 0 0 15.499-0 15.5 0v7c0 0.552 0.448 1 1 1h7v19.5z\"></path>\n",
       "<path d=\"M23 26h-14c-0.552 0-1-0.448-1-1s0.448-1 1-1h14c0.552 0 1 0.448 1 1s-0.448 1-1 1z\"></path>\n",
       "<path d=\"M23 22h-14c-0.552 0-1-0.448-1-1s0.448-1 1-1h14c0.552 0 1 0.448 1 1s-0.448 1-1 1z\"></path>\n",
       "<path d=\"M23 18h-14c-0.552 0-1-0.448-1-1s0.448-1 1-1h14c0.552 0 1 0.448 1 1s-0.448 1-1 1z\"></path>\n",
       "</symbol>\n",
       "</defs>\n",
       "</svg>\n",
       "<style>/* CSS stylesheet for displaying xarray objects in jupyterlab.\n",
       " *\n",
       " */\n",
       "\n",
       ":root {\n",
       "  --xr-font-color0: var(--jp-content-font-color0, rgba(0, 0, 0, 1));\n",
       "  --xr-font-color2: var(--jp-content-font-color2, rgba(0, 0, 0, 0.54));\n",
       "  --xr-font-color3: var(--jp-content-font-color3, rgba(0, 0, 0, 0.38));\n",
       "  --xr-border-color: var(--jp-border-color2, #e0e0e0);\n",
       "  --xr-disabled-color: var(--jp-layout-color3, #bdbdbd);\n",
       "  --xr-background-color: var(--jp-layout-color0, white);\n",
       "  --xr-background-color-row-even: var(--jp-layout-color1, white);\n",
       "  --xr-background-color-row-odd: var(--jp-layout-color2, #eeeeee);\n",
       "}\n",
       "\n",
       "html[theme=dark],\n",
       "body.vscode-dark {\n",
       "  --xr-font-color0: rgba(255, 255, 255, 1);\n",
       "  --xr-font-color2: rgba(255, 255, 255, 0.54);\n",
       "  --xr-font-color3: rgba(255, 255, 255, 0.38);\n",
       "  --xr-border-color: #1F1F1F;\n",
       "  --xr-disabled-color: #515151;\n",
       "  --xr-background-color: #111111;\n",
       "  --xr-background-color-row-even: #111111;\n",
       "  --xr-background-color-row-odd: #313131;\n",
       "}\n",
       "\n",
       ".xr-wrap {\n",
       "  display: block;\n",
       "  min-width: 300px;\n",
       "  max-width: 700px;\n",
       "}\n",
       "\n",
       ".xr-text-repr-fallback {\n",
       "  /* fallback to plain text repr when CSS is not injected (untrusted notebook) */\n",
       "  display: none;\n",
       "}\n",
       "\n",
       ".xr-header {\n",
       "  padding-top: 6px;\n",
       "  padding-bottom: 6px;\n",
       "  margin-bottom: 4px;\n",
       "  border-bottom: solid 1px var(--xr-border-color);\n",
       "}\n",
       "\n",
       ".xr-header > div,\n",
       ".xr-header > ul {\n",
       "  display: inline;\n",
       "  margin-top: 0;\n",
       "  margin-bottom: 0;\n",
       "}\n",
       "\n",
       ".xr-obj-type,\n",
       ".xr-array-name {\n",
       "  margin-left: 2px;\n",
       "  margin-right: 10px;\n",
       "}\n",
       "\n",
       ".xr-obj-type {\n",
       "  color: var(--xr-font-color2);\n",
       "}\n",
       "\n",
       ".xr-sections {\n",
       "  padding-left: 0 !important;\n",
       "  display: grid;\n",
       "  grid-template-columns: 150px auto auto 1fr 20px 20px;\n",
       "}\n",
       "\n",
       ".xr-section-item {\n",
       "  display: contents;\n",
       "}\n",
       "\n",
       ".xr-section-item input {\n",
       "  display: none;\n",
       "}\n",
       "\n",
       ".xr-section-item input + label {\n",
       "  color: var(--xr-disabled-color);\n",
       "}\n",
       "\n",
       ".xr-section-item input:enabled + label {\n",
       "  cursor: pointer;\n",
       "  color: var(--xr-font-color2);\n",
       "}\n",
       "\n",
       ".xr-section-item input:enabled + label:hover {\n",
       "  color: var(--xr-font-color0);\n",
       "}\n",
       "\n",
       ".xr-section-summary {\n",
       "  grid-column: 1;\n",
       "  color: var(--xr-font-color2);\n",
       "  font-weight: 500;\n",
       "}\n",
       "\n",
       ".xr-section-summary > span {\n",
       "  display: inline-block;\n",
       "  padding-left: 0.5em;\n",
       "}\n",
       "\n",
       ".xr-section-summary-in:disabled + label {\n",
       "  color: var(--xr-font-color2);\n",
       "}\n",
       "\n",
       ".xr-section-summary-in + label:before {\n",
       "  display: inline-block;\n",
       "  content: '►';\n",
       "  font-size: 11px;\n",
       "  width: 15px;\n",
       "  text-align: center;\n",
       "}\n",
       "\n",
       ".xr-section-summary-in:disabled + label:before {\n",
       "  color: var(--xr-disabled-color);\n",
       "}\n",
       "\n",
       ".xr-section-summary-in:checked + label:before {\n",
       "  content: '▼';\n",
       "}\n",
       "\n",
       ".xr-section-summary-in:checked + label > span {\n",
       "  display: none;\n",
       "}\n",
       "\n",
       ".xr-section-summary,\n",
       ".xr-section-inline-details {\n",
       "  padding-top: 4px;\n",
       "  padding-bottom: 4px;\n",
       "}\n",
       "\n",
       ".xr-section-inline-details {\n",
       "  grid-column: 2 / -1;\n",
       "}\n",
       "\n",
       ".xr-section-details {\n",
       "  display: none;\n",
       "  grid-column: 1 / -1;\n",
       "  margin-bottom: 5px;\n",
       "}\n",
       "\n",
       ".xr-section-summary-in:checked ~ .xr-section-details {\n",
       "  display: contents;\n",
       "}\n",
       "\n",
       ".xr-array-wrap {\n",
       "  grid-column: 1 / -1;\n",
       "  display: grid;\n",
       "  grid-template-columns: 20px auto;\n",
       "}\n",
       "\n",
       ".xr-array-wrap > label {\n",
       "  grid-column: 1;\n",
       "  vertical-align: top;\n",
       "}\n",
       "\n",
       ".xr-preview {\n",
       "  color: var(--xr-font-color3);\n",
       "}\n",
       "\n",
       ".xr-array-preview,\n",
       ".xr-array-data {\n",
       "  padding: 0 5px !important;\n",
       "  grid-column: 2;\n",
       "}\n",
       "\n",
       ".xr-array-data,\n",
       ".xr-array-in:checked ~ .xr-array-preview {\n",
       "  display: none;\n",
       "}\n",
       "\n",
       ".xr-array-in:checked ~ .xr-array-data,\n",
       ".xr-array-preview {\n",
       "  display: inline-block;\n",
       "}\n",
       "\n",
       ".xr-dim-list {\n",
       "  display: inline-block !important;\n",
       "  list-style: none;\n",
       "  padding: 0 !important;\n",
       "  margin: 0;\n",
       "}\n",
       "\n",
       ".xr-dim-list li {\n",
       "  display: inline-block;\n",
       "  padding: 0;\n",
       "  margin: 0;\n",
       "}\n",
       "\n",
       ".xr-dim-list:before {\n",
       "  content: '(';\n",
       "}\n",
       "\n",
       ".xr-dim-list:after {\n",
       "  content: ')';\n",
       "}\n",
       "\n",
       ".xr-dim-list li:not(:last-child):after {\n",
       "  content: ',';\n",
       "  padding-right: 5px;\n",
       "}\n",
       "\n",
       ".xr-has-index {\n",
       "  font-weight: bold;\n",
       "}\n",
       "\n",
       ".xr-var-list,\n",
       ".xr-var-item {\n",
       "  display: contents;\n",
       "}\n",
       "\n",
       ".xr-var-item > div,\n",
       ".xr-var-item label,\n",
       ".xr-var-item > .xr-var-name span {\n",
       "  background-color: var(--xr-background-color-row-even);\n",
       "  margin-bottom: 0;\n",
       "}\n",
       "\n",
       ".xr-var-item > .xr-var-name:hover span {\n",
       "  padding-right: 5px;\n",
       "}\n",
       "\n",
       ".xr-var-list > li:nth-child(odd) > div,\n",
       ".xr-var-list > li:nth-child(odd) > label,\n",
       ".xr-var-list > li:nth-child(odd) > .xr-var-name span {\n",
       "  background-color: var(--xr-background-color-row-odd);\n",
       "}\n",
       "\n",
       ".xr-var-name {\n",
       "  grid-column: 1;\n",
       "}\n",
       "\n",
       ".xr-var-dims {\n",
       "  grid-column: 2;\n",
       "}\n",
       "\n",
       ".xr-var-dtype {\n",
       "  grid-column: 3;\n",
       "  text-align: right;\n",
       "  color: var(--xr-font-color2);\n",
       "}\n",
       "\n",
       ".xr-var-preview {\n",
       "  grid-column: 4;\n",
       "}\n",
       "\n",
       ".xr-var-name,\n",
       ".xr-var-dims,\n",
       ".xr-var-dtype,\n",
       ".xr-preview,\n",
       ".xr-attrs dt {\n",
       "  white-space: nowrap;\n",
       "  overflow: hidden;\n",
       "  text-overflow: ellipsis;\n",
       "  padding-right: 10px;\n",
       "}\n",
       "\n",
       ".xr-var-name:hover,\n",
       ".xr-var-dims:hover,\n",
       ".xr-var-dtype:hover,\n",
       ".xr-attrs dt:hover {\n",
       "  overflow: visible;\n",
       "  width: auto;\n",
       "  z-index: 1;\n",
       "}\n",
       "\n",
       ".xr-var-attrs,\n",
       ".xr-var-data {\n",
       "  display: none;\n",
       "  background-color: var(--xr-background-color) !important;\n",
       "  padding-bottom: 5px !important;\n",
       "}\n",
       "\n",
       ".xr-var-attrs-in:checked ~ .xr-var-attrs,\n",
       ".xr-var-data-in:checked ~ .xr-var-data {\n",
       "  display: block;\n",
       "}\n",
       "\n",
       ".xr-var-data > table {\n",
       "  float: right;\n",
       "}\n",
       "\n",
       ".xr-var-name span,\n",
       ".xr-var-data,\n",
       ".xr-attrs {\n",
       "  padding-left: 25px !important;\n",
       "}\n",
       "\n",
       ".xr-attrs,\n",
       ".xr-var-attrs,\n",
       ".xr-var-data {\n",
       "  grid-column: 1 / -1;\n",
       "}\n",
       "\n",
       "dl.xr-attrs {\n",
       "  padding: 0;\n",
       "  margin: 0;\n",
       "  display: grid;\n",
       "  grid-template-columns: 125px auto;\n",
       "}\n",
       "\n",
       ".xr-attrs dt, dd {\n",
       "  padding: 0;\n",
       "  margin: 0;\n",
       "  float: left;\n",
       "  padding-right: 10px;\n",
       "  width: auto;\n",
       "}\n",
       "\n",
       ".xr-attrs dt {\n",
       "  font-weight: normal;\n",
       "  grid-column: 1;\n",
       "}\n",
       "\n",
       ".xr-attrs dt:hover span {\n",
       "  display: inline-block;\n",
       "  background: var(--xr-background-color);\n",
       "  padding-right: 10px;\n",
       "}\n",
       "\n",
       ".xr-attrs dd {\n",
       "  grid-column: 2;\n",
       "  white-space: pre-wrap;\n",
       "  word-break: break-all;\n",
       "}\n",
       "\n",
       ".xr-icon-database,\n",
       ".xr-icon-file-text2 {\n",
       "  display: inline-block;\n",
       "  vertical-align: middle;\n",
       "  width: 1em;\n",
       "  height: 1.5em !important;\n",
       "  stroke-width: 0;\n",
       "  stroke: currentColor;\n",
       "  fill: currentColor;\n",
       "}\n",
       "</style><pre class='xr-text-repr-fallback'>&lt;xarray.Dataset&gt;\n",
       "Dimensions:     (lat: 181, lon: 360, member: 25, step: 3, time: 288)\n",
       "Coordinates:\n",
       "    surface     int64 0\n",
       "  * lat         (lat) float64 -90.0 -89.0 -88.0 -87.0 ... 87.0 88.0 89.0 90.0\n",
       "  * lon         (lon) float64 0.0 1.0 2.0 3.0 4.0 ... 356.0 357.0 358.0 359.0\n",
       "  * step        (step) int64 3 4 5\n",
       "  * member      (member) int64 0 1 2 3 4 5 6 7 8 ... 16 17 18 19 20 21 22 23 24\n",
       "  * time        (time) datetime64[ns] 1993-01-01 1993-02-01 ... 2016-12-01\n",
       "    valid_time  (time, step) datetime64[ns] dask.array&lt;chunksize=(1, 3), meta=np.ndarray&gt;\n",
       "    month       (time) int64 1 2 3 4 5 6 7 8 9 10 11 ... 3 4 5 6 7 8 9 10 11 12\n",
       "Data variables:\n",
       "    t2m         (time, member, step, lat, lon) float32 dask.array&lt;chunksize=(1, 25, 3, 181, 360), meta=np.ndarray&gt;</pre><div class='xr-wrap' hidden><div class='xr-header'><div class='xr-obj-type'>xarray.Dataset</div></div><ul class='xr-sections'><li class='xr-section-item'><input id='section-460326ff-07ba-4f01-a6f5-1d2f1348fc0b' class='xr-section-summary-in' type='checkbox' disabled ><label for='section-460326ff-07ba-4f01-a6f5-1d2f1348fc0b' class='xr-section-summary'  title='Expand/collapse section'>Dimensions:</label><div class='xr-section-inline-details'><ul class='xr-dim-list'><li><span class='xr-has-index'>lat</span>: 181</li><li><span class='xr-has-index'>lon</span>: 360</li><li><span class='xr-has-index'>member</span>: 25</li><li><span class='xr-has-index'>step</span>: 3</li><li><span class='xr-has-index'>time</span>: 288</li></ul></div><div class='xr-section-details'></div></li><li class='xr-section-item'><input id='section-92e84fcb-4511-4b61-91fb-81eb6038fbe2' class='xr-section-summary-in' type='checkbox'  checked><label for='section-92e84fcb-4511-4b61-91fb-81eb6038fbe2' class='xr-section-summary' >Coordinates: <span>(8)</span></label><div class='xr-section-inline-details'></div><div class='xr-section-details'><ul class='xr-var-list'><li class='xr-var-item'><div class='xr-var-name'><span>surface</span></div><div class='xr-var-dims'>()</div><div class='xr-var-dtype'>int64</div><div class='xr-var-preview xr-preview'>0</div><input id='attrs-75c3fca4-5c13-498e-b9e6-24eab3343329' class='xr-var-attrs-in' type='checkbox' ><label for='attrs-75c3fca4-5c13-498e-b9e6-24eab3343329' title='Show/Hide attributes'><svg class='icon xr-icon-file-text2'><use xlink:href='#icon-file-text2'></use></svg></label><input id='data-edad4f56-6c9a-409a-8b00-87d61ec1d07e' class='xr-var-data-in' type='checkbox'><label for='data-edad4f56-6c9a-409a-8b00-87d61ec1d07e' title='Show/Hide data repr'><svg class='icon xr-icon-database'><use xlink:href='#icon-database'></use></svg></label><div class='xr-var-attrs'><dl class='xr-attrs'><dt><span>long_name :</span></dt><dd>original GRIB coordinate for key: level(surface)</dd><dt><span>units :</span></dt><dd>1</dd></dl></div><div class='xr-var-data'><pre>array(0)</pre></div></li><li class='xr-var-item'><div class='xr-var-name'><span class='xr-has-index'>lat</span></div><div class='xr-var-dims'>(lat)</div><div class='xr-var-dtype'>float64</div><div class='xr-var-preview xr-preview'>-90.0 -89.0 -88.0 ... 89.0 90.0</div><input id='attrs-8a9f6344-2696-4a1b-9baf-4516dfcc015f' class='xr-var-attrs-in' type='checkbox' ><label for='attrs-8a9f6344-2696-4a1b-9baf-4516dfcc015f' title='Show/Hide attributes'><svg class='icon xr-icon-file-text2'><use xlink:href='#icon-file-text2'></use></svg></label><input id='data-b9b2872a-a8a5-4fa0-bd68-38078030102d' class='xr-var-data-in' type='checkbox'><label for='data-b9b2872a-a8a5-4fa0-bd68-38078030102d' title='Show/Hide data repr'><svg class='icon xr-icon-database'><use xlink:href='#icon-database'></use></svg></label><div class='xr-var-attrs'><dl class='xr-attrs'><dt><span>units :</span></dt><dd>degrees_north</dd><dt><span>standard_name :</span></dt><dd>latitude</dd><dt><span>long_name :</span></dt><dd>latitude</dd><dt><span>stored_direction :</span></dt><dd>decreasing</dd></dl></div><div class='xr-var-data'><pre>array([-90., -89., -88., -87., -86., -85., -84., -83., -82., -81., -80., -79.,\n",
       "       -78., -77., -76., -75., -74., -73., -72., -71., -70., -69., -68., -67.,\n",
       "       -66., -65., -64., -63., -62., -61., -60., -59., -58., -57., -56., -55.,\n",
       "       -54., -53., -52., -51., -50., -49., -48., -47., -46., -45., -44., -43.,\n",
       "       -42., -41., -40., -39., -38., -37., -36., -35., -34., -33., -32., -31.,\n",
       "       -30., -29., -28., -27., -26., -25., -24., -23., -22., -21., -20., -19.,\n",
       "       -18., -17., -16., -15., -14., -13., -12., -11., -10.,  -9.,  -8.,  -7.,\n",
       "        -6.,  -5.,  -4.,  -3.,  -2.,  -1.,   0.,   1.,   2.,   3.,   4.,   5.,\n",
       "         6.,   7.,   8.,   9.,  10.,  11.,  12.,  13.,  14.,  15.,  16.,  17.,\n",
       "        18.,  19.,  20.,  21.,  22.,  23.,  24.,  25.,  26.,  27.,  28.,  29.,\n",
       "        30.,  31.,  32.,  33.,  34.,  35.,  36.,  37.,  38.,  39.,  40.,  41.,\n",
       "        42.,  43.,  44.,  45.,  46.,  47.,  48.,  49.,  50.,  51.,  52.,  53.,\n",
       "        54.,  55.,  56.,  57.,  58.,  59.,  60.,  61.,  62.,  63.,  64.,  65.,\n",
       "        66.,  67.,  68.,  69.,  70.,  71.,  72.,  73.,  74.,  75.,  76.,  77.,\n",
       "        78.,  79.,  80.,  81.,  82.,  83.,  84.,  85.,  86.,  87.,  88.,  89.,\n",
       "        90.])</pre></div></li><li class='xr-var-item'><div class='xr-var-name'><span class='xr-has-index'>lon</span></div><div class='xr-var-dims'>(lon)</div><div class='xr-var-dtype'>float64</div><div class='xr-var-preview xr-preview'>0.0 1.0 2.0 ... 357.0 358.0 359.0</div><input id='attrs-5d5cc80d-7742-4a65-86bb-215a8399b1a2' class='xr-var-attrs-in' type='checkbox' ><label for='attrs-5d5cc80d-7742-4a65-86bb-215a8399b1a2' title='Show/Hide attributes'><svg class='icon xr-icon-file-text2'><use xlink:href='#icon-file-text2'></use></svg></label><input id='data-73f52620-6280-4d31-9d9b-eb70083beb88' class='xr-var-data-in' type='checkbox'><label for='data-73f52620-6280-4d31-9d9b-eb70083beb88' title='Show/Hide data repr'><svg class='icon xr-icon-database'><use xlink:href='#icon-database'></use></svg></label><div class='xr-var-attrs'><dl class='xr-attrs'><dt><span>units :</span></dt><dd>degrees_east</dd><dt><span>standard_name :</span></dt><dd>longitude</dd><dt><span>long_name :</span></dt><dd>longitude</dd></dl></div><div class='xr-var-data'><pre>array([  0.,   1.,   2., ..., 357., 358., 359.])</pre></div></li><li class='xr-var-item'><div class='xr-var-name'><span class='xr-has-index'>step</span></div><div class='xr-var-dims'>(step)</div><div class='xr-var-dtype'>int64</div><div class='xr-var-preview xr-preview'>3 4 5</div><input id='attrs-5bad3d50-78cf-4a55-85f1-d96c330d3245' class='xr-var-attrs-in' type='checkbox' disabled><label for='attrs-5bad3d50-78cf-4a55-85f1-d96c330d3245' title='Show/Hide attributes'><svg class='icon xr-icon-file-text2'><use xlink:href='#icon-file-text2'></use></svg></label><input id='data-0e5ef346-dd93-4fcb-b23c-ba35f0d89185' class='xr-var-data-in' type='checkbox'><label for='data-0e5ef346-dd93-4fcb-b23c-ba35f0d89185' title='Show/Hide data repr'><svg class='icon xr-icon-database'><use xlink:href='#icon-database'></use></svg></label><div class='xr-var-attrs'><dl class='xr-attrs'></dl></div><div class='xr-var-data'><pre>array([3, 4, 5])</pre></div></li><li class='xr-var-item'><div class='xr-var-name'><span class='xr-has-index'>member</span></div><div class='xr-var-dims'>(member)</div><div class='xr-var-dtype'>int64</div><div class='xr-var-preview xr-preview'>0 1 2 3 4 5 6 ... 19 20 21 22 23 24</div><input id='attrs-8d5446fa-23b7-43c0-938e-b034b0427b7b' class='xr-var-attrs-in' type='checkbox' ><label for='attrs-8d5446fa-23b7-43c0-938e-b034b0427b7b' title='Show/Hide attributes'><svg class='icon xr-icon-file-text2'><use xlink:href='#icon-file-text2'></use></svg></label><input id='data-0f9f693d-668b-41aa-ace0-d7ff8bb924d1' class='xr-var-data-in' type='checkbox'><label for='data-0f9f693d-668b-41aa-ace0-d7ff8bb924d1' title='Show/Hide data repr'><svg class='icon xr-icon-database'><use xlink:href='#icon-database'></use></svg></label><div class='xr-var-attrs'><dl class='xr-attrs'><dt><span>long_name :</span></dt><dd>ensemble member numerical id</dd><dt><span>units :</span></dt><dd>1</dd><dt><span>standard_name :</span></dt><dd>realization</dd></dl></div><div class='xr-var-data'><pre>array([ 0,  1,  2,  3,  4,  5,  6,  7,  8,  9, 10, 11, 12, 13, 14, 15, 16, 17,\n",
       "       18, 19, 20, 21, 22, 23, 24])</pre></div></li><li class='xr-var-item'><div class='xr-var-name'><span class='xr-has-index'>time</span></div><div class='xr-var-dims'>(time)</div><div class='xr-var-dtype'>datetime64[ns]</div><div class='xr-var-preview xr-preview'>1993-01-01 ... 2016-12-01</div><input id='attrs-47564be8-558c-4b9e-af19-0c47c927a450' class='xr-var-attrs-in' type='checkbox' ><label for='attrs-47564be8-558c-4b9e-af19-0c47c927a450' title='Show/Hide attributes'><svg class='icon xr-icon-file-text2'><use xlink:href='#icon-file-text2'></use></svg></label><input id='data-92971670-c3f7-4cd9-afb4-b17f19b0224f' class='xr-var-data-in' type='checkbox'><label for='data-92971670-c3f7-4cd9-afb4-b17f19b0224f' title='Show/Hide data repr'><svg class='icon xr-icon-database'><use xlink:href='#icon-database'></use></svg></label><div class='xr-var-attrs'><dl class='xr-attrs'><dt><span>long_name :</span></dt><dd>initial time of forecast</dd><dt><span>standard_name :</span></dt><dd>forecast_reference_time</dd></dl></div><div class='xr-var-data'><pre>array([&#x27;1993-01-01T00:00:00.000000000&#x27;, &#x27;1993-02-01T00:00:00.000000000&#x27;,\n",
       "       &#x27;1993-03-01T00:00:00.000000000&#x27;, ..., &#x27;2016-10-01T00:00:00.000000000&#x27;,\n",
       "       &#x27;2016-11-01T00:00:00.000000000&#x27;, &#x27;2016-12-01T00:00:00.000000000&#x27;],\n",
       "      dtype=&#x27;datetime64[ns]&#x27;)</pre></div></li><li class='xr-var-item'><div class='xr-var-name'><span>valid_time</span></div><div class='xr-var-dims'>(time, step)</div><div class='xr-var-dtype'>datetime64[ns]</div><div class='xr-var-preview xr-preview'>dask.array&lt;chunksize=(1, 3), meta=np.ndarray&gt;</div><input id='attrs-d8e42e2a-7f92-43c4-96a1-8a35aec18cc3' class='xr-var-attrs-in' type='checkbox' ><label for='attrs-d8e42e2a-7f92-43c4-96a1-8a35aec18cc3' title='Show/Hide attributes'><svg class='icon xr-icon-file-text2'><use xlink:href='#icon-file-text2'></use></svg></label><input id='data-5fa73552-bc9c-4491-855e-c60b1730bfc0' class='xr-var-data-in' type='checkbox'><label for='data-5fa73552-bc9c-4491-855e-c60b1730bfc0' title='Show/Hide data repr'><svg class='icon xr-icon-database'><use xlink:href='#icon-database'></use></svg></label><div class='xr-var-attrs'><dl class='xr-attrs'><dt><span>standard_name :</span></dt><dd>time</dd><dt><span>long_name :</span></dt><dd>time</dd></dl></div><div class='xr-var-data'><table>\n",
       "<tr>\n",
       "<td>\n",
       "<table>\n",
       "  <thead>\n",
       "    <tr><td> </td><th> Array </th><th> Chunk </th></tr>\n",
       "  </thead>\n",
       "  <tbody>\n",
       "    <tr><th> Bytes </th><td> 6.91 kB </td> <td> 24 B </td></tr>\n",
       "    <tr><th> Shape </th><td> (288, 3) </td> <td> (1, 3) </td></tr>\n",
       "    <tr><th> Count </th><td> 1148 Tasks </td><td> 288 Chunks </td></tr>\n",
       "    <tr><th> Type </th><td> datetime64[ns] </td><td> numpy.ndarray </td></tr>\n",
       "  </tbody>\n",
       "</table>\n",
       "</td>\n",
       "<td>\n",
       "<svg width=\"75\" height=\"170\" style=\"stroke:rgb(0,0,0);stroke-width:1\" >\n",
       "\n",
       "  <!-- Horizontal lines -->\n",
       "  <line x1=\"0\" y1=\"0\" x2=\"25\" y2=\"0\" style=\"stroke-width:2\" />\n",
       "  <line x1=\"0\" y1=\"0\" x2=\"25\" y2=\"0\" />\n",
       "  <line x1=\"0\" y1=\"0\" x2=\"25\" y2=\"0\" />\n",
       "  <line x1=\"0\" y1=\"1\" x2=\"25\" y2=\"1\" />\n",
       "  <line x1=\"0\" y1=\"1\" x2=\"25\" y2=\"1\" />\n",
       "  <line x1=\"0\" y1=\"2\" x2=\"25\" y2=\"2\" />\n",
       "  <line x1=\"0\" y1=\"2\" x2=\"25\" y2=\"2\" />\n",
       "  <line x1=\"0\" y1=\"2\" x2=\"25\" y2=\"2\" />\n",
       "  <line x1=\"0\" y1=\"3\" x2=\"25\" y2=\"3\" />\n",
       "  <line x1=\"0\" y1=\"3\" x2=\"25\" y2=\"3\" />\n",
       "  <line x1=\"0\" y1=\"4\" x2=\"25\" y2=\"4\" />\n",
       "  <line x1=\"0\" y1=\"4\" x2=\"25\" y2=\"4\" />\n",
       "  <line x1=\"0\" y1=\"5\" x2=\"25\" y2=\"5\" />\n",
       "  <line x1=\"0\" y1=\"5\" x2=\"25\" y2=\"5\" />\n",
       "  <line x1=\"0\" y1=\"5\" x2=\"25\" y2=\"5\" />\n",
       "  <line x1=\"0\" y1=\"6\" x2=\"25\" y2=\"6\" />\n",
       "  <line x1=\"0\" y1=\"6\" x2=\"25\" y2=\"6\" />\n",
       "  <line x1=\"0\" y1=\"7\" x2=\"25\" y2=\"7\" />\n",
       "  <line x1=\"0\" y1=\"7\" x2=\"25\" y2=\"7\" />\n",
       "  <line x1=\"0\" y1=\"7\" x2=\"25\" y2=\"7\" />\n",
       "  <line x1=\"0\" y1=\"8\" x2=\"25\" y2=\"8\" />\n",
       "  <line x1=\"0\" y1=\"8\" x2=\"25\" y2=\"8\" />\n",
       "  <line x1=\"0\" y1=\"9\" x2=\"25\" y2=\"9\" />\n",
       "  <line x1=\"0\" y1=\"9\" x2=\"25\" y2=\"9\" />\n",
       "  <line x1=\"0\" y1=\"10\" x2=\"25\" y2=\"10\" />\n",
       "  <line x1=\"0\" y1=\"10\" x2=\"25\" y2=\"10\" />\n",
       "  <line x1=\"0\" y1=\"10\" x2=\"25\" y2=\"10\" />\n",
       "  <line x1=\"0\" y1=\"11\" x2=\"25\" y2=\"11\" />\n",
       "  <line x1=\"0\" y1=\"11\" x2=\"25\" y2=\"11\" />\n",
       "  <line x1=\"0\" y1=\"12\" x2=\"25\" y2=\"12\" />\n",
       "  <line x1=\"0\" y1=\"12\" x2=\"25\" y2=\"12\" />\n",
       "  <line x1=\"0\" y1=\"12\" x2=\"25\" y2=\"12\" />\n",
       "  <line x1=\"0\" y1=\"13\" x2=\"25\" y2=\"13\" />\n",
       "  <line x1=\"0\" y1=\"13\" x2=\"25\" y2=\"13\" />\n",
       "  <line x1=\"0\" y1=\"14\" x2=\"25\" y2=\"14\" />\n",
       "  <line x1=\"0\" y1=\"14\" x2=\"25\" y2=\"14\" />\n",
       "  <line x1=\"0\" y1=\"15\" x2=\"25\" y2=\"15\" />\n",
       "  <line x1=\"0\" y1=\"15\" x2=\"25\" y2=\"15\" />\n",
       "  <line x1=\"0\" y1=\"15\" x2=\"25\" y2=\"15\" />\n",
       "  <line x1=\"0\" y1=\"16\" x2=\"25\" y2=\"16\" />\n",
       "  <line x1=\"0\" y1=\"16\" x2=\"25\" y2=\"16\" />\n",
       "  <line x1=\"0\" y1=\"17\" x2=\"25\" y2=\"17\" />\n",
       "  <line x1=\"0\" y1=\"17\" x2=\"25\" y2=\"17\" />\n",
       "  <line x1=\"0\" y1=\"17\" x2=\"25\" y2=\"17\" />\n",
       "  <line x1=\"0\" y1=\"18\" x2=\"25\" y2=\"18\" />\n",
       "  <line x1=\"0\" y1=\"18\" x2=\"25\" y2=\"18\" />\n",
       "  <line x1=\"0\" y1=\"19\" x2=\"25\" y2=\"19\" />\n",
       "  <line x1=\"0\" y1=\"19\" x2=\"25\" y2=\"19\" />\n",
       "  <line x1=\"0\" y1=\"20\" x2=\"25\" y2=\"20\" />\n",
       "  <line x1=\"0\" y1=\"20\" x2=\"25\" y2=\"20\" />\n",
       "  <line x1=\"0\" y1=\"20\" x2=\"25\" y2=\"20\" />\n",
       "  <line x1=\"0\" y1=\"21\" x2=\"25\" y2=\"21\" />\n",
       "  <line x1=\"0\" y1=\"21\" x2=\"25\" y2=\"21\" />\n",
       "  <line x1=\"0\" y1=\"22\" x2=\"25\" y2=\"22\" />\n",
       "  <line x1=\"0\" y1=\"22\" x2=\"25\" y2=\"22\" />\n",
       "  <line x1=\"0\" y1=\"22\" x2=\"25\" y2=\"22\" />\n",
       "  <line x1=\"0\" y1=\"23\" x2=\"25\" y2=\"23\" />\n",
       "  <line x1=\"0\" y1=\"23\" x2=\"25\" y2=\"23\" />\n",
       "  <line x1=\"0\" y1=\"24\" x2=\"25\" y2=\"24\" />\n",
       "  <line x1=\"0\" y1=\"24\" x2=\"25\" y2=\"24\" />\n",
       "  <line x1=\"0\" y1=\"25\" x2=\"25\" y2=\"25\" />\n",
       "  <line x1=\"0\" y1=\"25\" x2=\"25\" y2=\"25\" />\n",
       "  <line x1=\"0\" y1=\"25\" x2=\"25\" y2=\"25\" />\n",
       "  <line x1=\"0\" y1=\"26\" x2=\"25\" y2=\"26\" />\n",
       "  <line x1=\"0\" y1=\"26\" x2=\"25\" y2=\"26\" />\n",
       "  <line x1=\"0\" y1=\"27\" x2=\"25\" y2=\"27\" />\n",
       "  <line x1=\"0\" y1=\"27\" x2=\"25\" y2=\"27\" />\n",
       "  <line x1=\"0\" y1=\"27\" x2=\"25\" y2=\"27\" />\n",
       "  <line x1=\"0\" y1=\"28\" x2=\"25\" y2=\"28\" />\n",
       "  <line x1=\"0\" y1=\"28\" x2=\"25\" y2=\"28\" />\n",
       "  <line x1=\"0\" y1=\"29\" x2=\"25\" y2=\"29\" />\n",
       "  <line x1=\"0\" y1=\"29\" x2=\"25\" y2=\"29\" />\n",
       "  <line x1=\"0\" y1=\"30\" x2=\"25\" y2=\"30\" />\n",
       "  <line x1=\"0\" y1=\"30\" x2=\"25\" y2=\"30\" />\n",
       "  <line x1=\"0\" y1=\"30\" x2=\"25\" y2=\"30\" />\n",
       "  <line x1=\"0\" y1=\"31\" x2=\"25\" y2=\"31\" />\n",
       "  <line x1=\"0\" y1=\"31\" x2=\"25\" y2=\"31\" />\n",
       "  <line x1=\"0\" y1=\"32\" x2=\"25\" y2=\"32\" />\n",
       "  <line x1=\"0\" y1=\"32\" x2=\"25\" y2=\"32\" />\n",
       "  <line x1=\"0\" y1=\"32\" x2=\"25\" y2=\"32\" />\n",
       "  <line x1=\"0\" y1=\"33\" x2=\"25\" y2=\"33\" />\n",
       "  <line x1=\"0\" y1=\"33\" x2=\"25\" y2=\"33\" />\n",
       "  <line x1=\"0\" y1=\"34\" x2=\"25\" y2=\"34\" />\n",
       "  <line x1=\"0\" y1=\"34\" x2=\"25\" y2=\"34\" />\n",
       "  <line x1=\"0\" y1=\"35\" x2=\"25\" y2=\"35\" />\n",
       "  <line x1=\"0\" y1=\"35\" x2=\"25\" y2=\"35\" />\n",
       "  <line x1=\"0\" y1=\"35\" x2=\"25\" y2=\"35\" />\n",
       "  <line x1=\"0\" y1=\"36\" x2=\"25\" y2=\"36\" />\n",
       "  <line x1=\"0\" y1=\"36\" x2=\"25\" y2=\"36\" />\n",
       "  <line x1=\"0\" y1=\"37\" x2=\"25\" y2=\"37\" />\n",
       "  <line x1=\"0\" y1=\"37\" x2=\"25\" y2=\"37\" />\n",
       "  <line x1=\"0\" y1=\"37\" x2=\"25\" y2=\"37\" />\n",
       "  <line x1=\"0\" y1=\"38\" x2=\"25\" y2=\"38\" />\n",
       "  <line x1=\"0\" y1=\"38\" x2=\"25\" y2=\"38\" />\n",
       "  <line x1=\"0\" y1=\"39\" x2=\"25\" y2=\"39\" />\n",
       "  <line x1=\"0\" y1=\"39\" x2=\"25\" y2=\"39\" />\n",
       "  <line x1=\"0\" y1=\"40\" x2=\"25\" y2=\"40\" />\n",
       "  <line x1=\"0\" y1=\"40\" x2=\"25\" y2=\"40\" />\n",
       "  <line x1=\"0\" y1=\"40\" x2=\"25\" y2=\"40\" />\n",
       "  <line x1=\"0\" y1=\"41\" x2=\"25\" y2=\"41\" />\n",
       "  <line x1=\"0\" y1=\"41\" x2=\"25\" y2=\"41\" />\n",
       "  <line x1=\"0\" y1=\"42\" x2=\"25\" y2=\"42\" />\n",
       "  <line x1=\"0\" y1=\"42\" x2=\"25\" y2=\"42\" />\n",
       "  <line x1=\"0\" y1=\"42\" x2=\"25\" y2=\"42\" />\n",
       "  <line x1=\"0\" y1=\"43\" x2=\"25\" y2=\"43\" />\n",
       "  <line x1=\"0\" y1=\"43\" x2=\"25\" y2=\"43\" />\n",
       "  <line x1=\"0\" y1=\"44\" x2=\"25\" y2=\"44\" />\n",
       "  <line x1=\"0\" y1=\"44\" x2=\"25\" y2=\"44\" />\n",
       "  <line x1=\"0\" y1=\"45\" x2=\"25\" y2=\"45\" />\n",
       "  <line x1=\"0\" y1=\"45\" x2=\"25\" y2=\"45\" />\n",
       "  <line x1=\"0\" y1=\"45\" x2=\"25\" y2=\"45\" />\n",
       "  <line x1=\"0\" y1=\"46\" x2=\"25\" y2=\"46\" />\n",
       "  <line x1=\"0\" y1=\"46\" x2=\"25\" y2=\"46\" />\n",
       "  <line x1=\"0\" y1=\"47\" x2=\"25\" y2=\"47\" />\n",
       "  <line x1=\"0\" y1=\"47\" x2=\"25\" y2=\"47\" />\n",
       "  <line x1=\"0\" y1=\"47\" x2=\"25\" y2=\"47\" />\n",
       "  <line x1=\"0\" y1=\"48\" x2=\"25\" y2=\"48\" />\n",
       "  <line x1=\"0\" y1=\"48\" x2=\"25\" y2=\"48\" />\n",
       "  <line x1=\"0\" y1=\"49\" x2=\"25\" y2=\"49\" />\n",
       "  <line x1=\"0\" y1=\"49\" x2=\"25\" y2=\"49\" />\n",
       "  <line x1=\"0\" y1=\"50\" x2=\"25\" y2=\"50\" />\n",
       "  <line x1=\"0\" y1=\"50\" x2=\"25\" y2=\"50\" />\n",
       "  <line x1=\"0\" y1=\"50\" x2=\"25\" y2=\"50\" />\n",
       "  <line x1=\"0\" y1=\"51\" x2=\"25\" y2=\"51\" />\n",
       "  <line x1=\"0\" y1=\"51\" x2=\"25\" y2=\"51\" />\n",
       "  <line x1=\"0\" y1=\"52\" x2=\"25\" y2=\"52\" />\n",
       "  <line x1=\"0\" y1=\"52\" x2=\"25\" y2=\"52\" />\n",
       "  <line x1=\"0\" y1=\"52\" x2=\"25\" y2=\"52\" />\n",
       "  <line x1=\"0\" y1=\"53\" x2=\"25\" y2=\"53\" />\n",
       "  <line x1=\"0\" y1=\"53\" x2=\"25\" y2=\"53\" />\n",
       "  <line x1=\"0\" y1=\"54\" x2=\"25\" y2=\"54\" />\n",
       "  <line x1=\"0\" y1=\"54\" x2=\"25\" y2=\"54\" />\n",
       "  <line x1=\"0\" y1=\"55\" x2=\"25\" y2=\"55\" />\n",
       "  <line x1=\"0\" y1=\"55\" x2=\"25\" y2=\"55\" />\n",
       "  <line x1=\"0\" y1=\"55\" x2=\"25\" y2=\"55\" />\n",
       "  <line x1=\"0\" y1=\"56\" x2=\"25\" y2=\"56\" />\n",
       "  <line x1=\"0\" y1=\"56\" x2=\"25\" y2=\"56\" />\n",
       "  <line x1=\"0\" y1=\"57\" x2=\"25\" y2=\"57\" />\n",
       "  <line x1=\"0\" y1=\"57\" x2=\"25\" y2=\"57\" />\n",
       "  <line x1=\"0\" y1=\"57\" x2=\"25\" y2=\"57\" />\n",
       "  <line x1=\"0\" y1=\"58\" x2=\"25\" y2=\"58\" />\n",
       "  <line x1=\"0\" y1=\"58\" x2=\"25\" y2=\"58\" />\n",
       "  <line x1=\"0\" y1=\"59\" x2=\"25\" y2=\"59\" />\n",
       "  <line x1=\"0\" y1=\"59\" x2=\"25\" y2=\"59\" />\n",
       "  <line x1=\"0\" y1=\"60\" x2=\"25\" y2=\"60\" />\n",
       "  <line x1=\"0\" y1=\"60\" x2=\"25\" y2=\"60\" />\n",
       "  <line x1=\"0\" y1=\"60\" x2=\"25\" y2=\"60\" />\n",
       "  <line x1=\"0\" y1=\"61\" x2=\"25\" y2=\"61\" />\n",
       "  <line x1=\"0\" y1=\"61\" x2=\"25\" y2=\"61\" />\n",
       "  <line x1=\"0\" y1=\"62\" x2=\"25\" y2=\"62\" />\n",
       "  <line x1=\"0\" y1=\"62\" x2=\"25\" y2=\"62\" />\n",
       "  <line x1=\"0\" y1=\"62\" x2=\"25\" y2=\"62\" />\n",
       "  <line x1=\"0\" y1=\"63\" x2=\"25\" y2=\"63\" />\n",
       "  <line x1=\"0\" y1=\"63\" x2=\"25\" y2=\"63\" />\n",
       "  <line x1=\"0\" y1=\"64\" x2=\"25\" y2=\"64\" />\n",
       "  <line x1=\"0\" y1=\"64\" x2=\"25\" y2=\"64\" />\n",
       "  <line x1=\"0\" y1=\"65\" x2=\"25\" y2=\"65\" />\n",
       "  <line x1=\"0\" y1=\"65\" x2=\"25\" y2=\"65\" />\n",
       "  <line x1=\"0\" y1=\"65\" x2=\"25\" y2=\"65\" />\n",
       "  <line x1=\"0\" y1=\"66\" x2=\"25\" y2=\"66\" />\n",
       "  <line x1=\"0\" y1=\"66\" x2=\"25\" y2=\"66\" />\n",
       "  <line x1=\"0\" y1=\"67\" x2=\"25\" y2=\"67\" />\n",
       "  <line x1=\"0\" y1=\"67\" x2=\"25\" y2=\"67\" />\n",
       "  <line x1=\"0\" y1=\"67\" x2=\"25\" y2=\"67\" />\n",
       "  <line x1=\"0\" y1=\"68\" x2=\"25\" y2=\"68\" />\n",
       "  <line x1=\"0\" y1=\"68\" x2=\"25\" y2=\"68\" />\n",
       "  <line x1=\"0\" y1=\"69\" x2=\"25\" y2=\"69\" />\n",
       "  <line x1=\"0\" y1=\"69\" x2=\"25\" y2=\"69\" />\n",
       "  <line x1=\"0\" y1=\"70\" x2=\"25\" y2=\"70\" />\n",
       "  <line x1=\"0\" y1=\"70\" x2=\"25\" y2=\"70\" />\n",
       "  <line x1=\"0\" y1=\"70\" x2=\"25\" y2=\"70\" />\n",
       "  <line x1=\"0\" y1=\"71\" x2=\"25\" y2=\"71\" />\n",
       "  <line x1=\"0\" y1=\"71\" x2=\"25\" y2=\"71\" />\n",
       "  <line x1=\"0\" y1=\"72\" x2=\"25\" y2=\"72\" />\n",
       "  <line x1=\"0\" y1=\"72\" x2=\"25\" y2=\"72\" />\n",
       "  <line x1=\"0\" y1=\"72\" x2=\"25\" y2=\"72\" />\n",
       "  <line x1=\"0\" y1=\"73\" x2=\"25\" y2=\"73\" />\n",
       "  <line x1=\"0\" y1=\"73\" x2=\"25\" y2=\"73\" />\n",
       "  <line x1=\"0\" y1=\"74\" x2=\"25\" y2=\"74\" />\n",
       "  <line x1=\"0\" y1=\"74\" x2=\"25\" y2=\"74\" />\n",
       "  <line x1=\"0\" y1=\"75\" x2=\"25\" y2=\"75\" />\n",
       "  <line x1=\"0\" y1=\"75\" x2=\"25\" y2=\"75\" />\n",
       "  <line x1=\"0\" y1=\"75\" x2=\"25\" y2=\"75\" />\n",
       "  <line x1=\"0\" y1=\"76\" x2=\"25\" y2=\"76\" />\n",
       "  <line x1=\"0\" y1=\"76\" x2=\"25\" y2=\"76\" />\n",
       "  <line x1=\"0\" y1=\"77\" x2=\"25\" y2=\"77\" />\n",
       "  <line x1=\"0\" y1=\"77\" x2=\"25\" y2=\"77\" />\n",
       "  <line x1=\"0\" y1=\"77\" x2=\"25\" y2=\"77\" />\n",
       "  <line x1=\"0\" y1=\"78\" x2=\"25\" y2=\"78\" />\n",
       "  <line x1=\"0\" y1=\"78\" x2=\"25\" y2=\"78\" />\n",
       "  <line x1=\"0\" y1=\"79\" x2=\"25\" y2=\"79\" />\n",
       "  <line x1=\"0\" y1=\"79\" x2=\"25\" y2=\"79\" />\n",
       "  <line x1=\"0\" y1=\"80\" x2=\"25\" y2=\"80\" />\n",
       "  <line x1=\"0\" y1=\"80\" x2=\"25\" y2=\"80\" />\n",
       "  <line x1=\"0\" y1=\"80\" x2=\"25\" y2=\"80\" />\n",
       "  <line x1=\"0\" y1=\"81\" x2=\"25\" y2=\"81\" />\n",
       "  <line x1=\"0\" y1=\"81\" x2=\"25\" y2=\"81\" />\n",
       "  <line x1=\"0\" y1=\"82\" x2=\"25\" y2=\"82\" />\n",
       "  <line x1=\"0\" y1=\"82\" x2=\"25\" y2=\"82\" />\n",
       "  <line x1=\"0\" y1=\"82\" x2=\"25\" y2=\"82\" />\n",
       "  <line x1=\"0\" y1=\"83\" x2=\"25\" y2=\"83\" />\n",
       "  <line x1=\"0\" y1=\"83\" x2=\"25\" y2=\"83\" />\n",
       "  <line x1=\"0\" y1=\"84\" x2=\"25\" y2=\"84\" />\n",
       "  <line x1=\"0\" y1=\"84\" x2=\"25\" y2=\"84\" />\n",
       "  <line x1=\"0\" y1=\"85\" x2=\"25\" y2=\"85\" />\n",
       "  <line x1=\"0\" y1=\"85\" x2=\"25\" y2=\"85\" />\n",
       "  <line x1=\"0\" y1=\"85\" x2=\"25\" y2=\"85\" />\n",
       "  <line x1=\"0\" y1=\"86\" x2=\"25\" y2=\"86\" />\n",
       "  <line x1=\"0\" y1=\"86\" x2=\"25\" y2=\"86\" />\n",
       "  <line x1=\"0\" y1=\"87\" x2=\"25\" y2=\"87\" />\n",
       "  <line x1=\"0\" y1=\"87\" x2=\"25\" y2=\"87\" />\n",
       "  <line x1=\"0\" y1=\"87\" x2=\"25\" y2=\"87\" />\n",
       "  <line x1=\"0\" y1=\"88\" x2=\"25\" y2=\"88\" />\n",
       "  <line x1=\"0\" y1=\"88\" x2=\"25\" y2=\"88\" />\n",
       "  <line x1=\"0\" y1=\"89\" x2=\"25\" y2=\"89\" />\n",
       "  <line x1=\"0\" y1=\"89\" x2=\"25\" y2=\"89\" />\n",
       "  <line x1=\"0\" y1=\"90\" x2=\"25\" y2=\"90\" />\n",
       "  <line x1=\"0\" y1=\"90\" x2=\"25\" y2=\"90\" />\n",
       "  <line x1=\"0\" y1=\"90\" x2=\"25\" y2=\"90\" />\n",
       "  <line x1=\"0\" y1=\"91\" x2=\"25\" y2=\"91\" />\n",
       "  <line x1=\"0\" y1=\"91\" x2=\"25\" y2=\"91\" />\n",
       "  <line x1=\"0\" y1=\"92\" x2=\"25\" y2=\"92\" />\n",
       "  <line x1=\"0\" y1=\"92\" x2=\"25\" y2=\"92\" />\n",
       "  <line x1=\"0\" y1=\"92\" x2=\"25\" y2=\"92\" />\n",
       "  <line x1=\"0\" y1=\"93\" x2=\"25\" y2=\"93\" />\n",
       "  <line x1=\"0\" y1=\"93\" x2=\"25\" y2=\"93\" />\n",
       "  <line x1=\"0\" y1=\"94\" x2=\"25\" y2=\"94\" />\n",
       "  <line x1=\"0\" y1=\"94\" x2=\"25\" y2=\"94\" />\n",
       "  <line x1=\"0\" y1=\"95\" x2=\"25\" y2=\"95\" />\n",
       "  <line x1=\"0\" y1=\"95\" x2=\"25\" y2=\"95\" />\n",
       "  <line x1=\"0\" y1=\"95\" x2=\"25\" y2=\"95\" />\n",
       "  <line x1=\"0\" y1=\"96\" x2=\"25\" y2=\"96\" />\n",
       "  <line x1=\"0\" y1=\"96\" x2=\"25\" y2=\"96\" />\n",
       "  <line x1=\"0\" y1=\"97\" x2=\"25\" y2=\"97\" />\n",
       "  <line x1=\"0\" y1=\"97\" x2=\"25\" y2=\"97\" />\n",
       "  <line x1=\"0\" y1=\"97\" x2=\"25\" y2=\"97\" />\n",
       "  <line x1=\"0\" y1=\"98\" x2=\"25\" y2=\"98\" />\n",
       "  <line x1=\"0\" y1=\"98\" x2=\"25\" y2=\"98\" />\n",
       "  <line x1=\"0\" y1=\"99\" x2=\"25\" y2=\"99\" />\n",
       "  <line x1=\"0\" y1=\"99\" x2=\"25\" y2=\"99\" />\n",
       "  <line x1=\"0\" y1=\"100\" x2=\"25\" y2=\"100\" />\n",
       "  <line x1=\"0\" y1=\"100\" x2=\"25\" y2=\"100\" />\n",
       "  <line x1=\"0\" y1=\"100\" x2=\"25\" y2=\"100\" />\n",
       "  <line x1=\"0\" y1=\"101\" x2=\"25\" y2=\"101\" />\n",
       "  <line x1=\"0\" y1=\"101\" x2=\"25\" y2=\"101\" />\n",
       "  <line x1=\"0\" y1=\"102\" x2=\"25\" y2=\"102\" />\n",
       "  <line x1=\"0\" y1=\"102\" x2=\"25\" y2=\"102\" />\n",
       "  <line x1=\"0\" y1=\"102\" x2=\"25\" y2=\"102\" />\n",
       "  <line x1=\"0\" y1=\"103\" x2=\"25\" y2=\"103\" />\n",
       "  <line x1=\"0\" y1=\"103\" x2=\"25\" y2=\"103\" />\n",
       "  <line x1=\"0\" y1=\"104\" x2=\"25\" y2=\"104\" />\n",
       "  <line x1=\"0\" y1=\"104\" x2=\"25\" y2=\"104\" />\n",
       "  <line x1=\"0\" y1=\"105\" x2=\"25\" y2=\"105\" />\n",
       "  <line x1=\"0\" y1=\"105\" x2=\"25\" y2=\"105\" />\n",
       "  <line x1=\"0\" y1=\"105\" x2=\"25\" y2=\"105\" />\n",
       "  <line x1=\"0\" y1=\"106\" x2=\"25\" y2=\"106\" />\n",
       "  <line x1=\"0\" y1=\"106\" x2=\"25\" y2=\"106\" />\n",
       "  <line x1=\"0\" y1=\"107\" x2=\"25\" y2=\"107\" />\n",
       "  <line x1=\"0\" y1=\"107\" x2=\"25\" y2=\"107\" />\n",
       "  <line x1=\"0\" y1=\"107\" x2=\"25\" y2=\"107\" />\n",
       "  <line x1=\"0\" y1=\"108\" x2=\"25\" y2=\"108\" />\n",
       "  <line x1=\"0\" y1=\"108\" x2=\"25\" y2=\"108\" />\n",
       "  <line x1=\"0\" y1=\"109\" x2=\"25\" y2=\"109\" />\n",
       "  <line x1=\"0\" y1=\"109\" x2=\"25\" y2=\"109\" />\n",
       "  <line x1=\"0\" y1=\"110\" x2=\"25\" y2=\"110\" />\n",
       "  <line x1=\"0\" y1=\"110\" x2=\"25\" y2=\"110\" />\n",
       "  <line x1=\"0\" y1=\"110\" x2=\"25\" y2=\"110\" />\n",
       "  <line x1=\"0\" y1=\"111\" x2=\"25\" y2=\"111\" />\n",
       "  <line x1=\"0\" y1=\"111\" x2=\"25\" y2=\"111\" />\n",
       "  <line x1=\"0\" y1=\"112\" x2=\"25\" y2=\"112\" />\n",
       "  <line x1=\"0\" y1=\"112\" x2=\"25\" y2=\"112\" />\n",
       "  <line x1=\"0\" y1=\"112\" x2=\"25\" y2=\"112\" />\n",
       "  <line x1=\"0\" y1=\"113\" x2=\"25\" y2=\"113\" />\n",
       "  <line x1=\"0\" y1=\"113\" x2=\"25\" y2=\"113\" />\n",
       "  <line x1=\"0\" y1=\"114\" x2=\"25\" y2=\"114\" />\n",
       "  <line x1=\"0\" y1=\"114\" x2=\"25\" y2=\"114\" />\n",
       "  <line x1=\"0\" y1=\"115\" x2=\"25\" y2=\"115\" />\n",
       "  <line x1=\"0\" y1=\"115\" x2=\"25\" y2=\"115\" />\n",
       "  <line x1=\"0\" y1=\"115\" x2=\"25\" y2=\"115\" />\n",
       "  <line x1=\"0\" y1=\"116\" x2=\"25\" y2=\"116\" />\n",
       "  <line x1=\"0\" y1=\"116\" x2=\"25\" y2=\"116\" />\n",
       "  <line x1=\"0\" y1=\"117\" x2=\"25\" y2=\"117\" />\n",
       "  <line x1=\"0\" y1=\"117\" x2=\"25\" y2=\"117\" />\n",
       "  <line x1=\"0\" y1=\"117\" x2=\"25\" y2=\"117\" />\n",
       "  <line x1=\"0\" y1=\"118\" x2=\"25\" y2=\"118\" />\n",
       "  <line x1=\"0\" y1=\"118\" x2=\"25\" y2=\"118\" />\n",
       "  <line x1=\"0\" y1=\"119\" x2=\"25\" y2=\"119\" />\n",
       "  <line x1=\"0\" y1=\"119\" x2=\"25\" y2=\"119\" />\n",
       "  <line x1=\"0\" y1=\"120\" x2=\"25\" y2=\"120\" style=\"stroke-width:2\" />\n",
       "\n",
       "  <!-- Vertical lines -->\n",
       "  <line x1=\"0\" y1=\"0\" x2=\"0\" y2=\"120\" style=\"stroke-width:2\" />\n",
       "  <line x1=\"25\" y1=\"0\" x2=\"25\" y2=\"120\" style=\"stroke-width:2\" />\n",
       "\n",
       "  <!-- Colored Rectangle -->\n",
       "  <polygon points=\"0.000000,0.000000 25.609134,0.000000 25.609134,120.000000 0.000000,120.000000\" style=\"fill:#ECB172A0;stroke-width:0\"/>\n",
       "\n",
       "  <!-- Text -->\n",
       "  <text x=\"12.804567\" y=\"140.000000\" font-size=\"1.0rem\" font-weight=\"100\" text-anchor=\"middle\" >3</text>\n",
       "  <text x=\"45.609134\" y=\"60.000000\" font-size=\"1.0rem\" font-weight=\"100\" text-anchor=\"middle\" transform=\"rotate(-90,45.609134,60.000000)\">288</text>\n",
       "</svg>\n",
       "</td>\n",
       "</tr>\n",
       "</table></div></li><li class='xr-var-item'><div class='xr-var-name'><span>month</span></div><div class='xr-var-dims'>(time)</div><div class='xr-var-dtype'>int64</div><div class='xr-var-preview xr-preview'>1 2 3 4 5 6 7 ... 6 7 8 9 10 11 12</div><input id='attrs-c24f651e-9324-4ce9-9b1c-4b481210ba5b' class='xr-var-attrs-in' type='checkbox' disabled><label for='attrs-c24f651e-9324-4ce9-9b1c-4b481210ba5b' title='Show/Hide attributes'><svg class='icon xr-icon-file-text2'><use xlink:href='#icon-file-text2'></use></svg></label><input id='data-a4fef046-b9a6-4b3b-bb17-394f67cfed87' class='xr-var-data-in' type='checkbox'><label for='data-a4fef046-b9a6-4b3b-bb17-394f67cfed87' title='Show/Hide data repr'><svg class='icon xr-icon-database'><use xlink:href='#icon-database'></use></svg></label><div class='xr-var-attrs'><dl class='xr-attrs'></dl></div><div class='xr-var-data'><pre>array([ 1,  2,  3,  4,  5,  6,  7,  8,  9, 10, 11, 12,  1,  2,  3,  4,  5,\n",
       "        6,  7,  8,  9, 10, 11, 12,  1,  2,  3,  4,  5,  6,  7,  8,  9, 10,\n",
       "       11, 12,  1,  2,  3,  4,  5,  6,  7,  8,  9, 10, 11, 12,  1,  2,  3,\n",
       "        4,  5,  6,  7,  8,  9, 10, 11, 12,  1,  2,  3,  4,  5,  6,  7,  8,\n",
       "        9, 10, 11, 12,  1,  2,  3,  4,  5,  6,  7,  8,  9, 10, 11, 12,  1,\n",
       "        2,  3,  4,  5,  6,  7,  8,  9, 10, 11, 12,  1,  2,  3,  4,  5,  6,\n",
       "        7,  8,  9, 10, 11, 12,  1,  2,  3,  4,  5,  6,  7,  8,  9, 10, 11,\n",
       "       12,  1,  2,  3,  4,  5,  6,  7,  8,  9, 10, 11, 12,  1,  2,  3,  4,\n",
       "        5,  6,  7,  8,  9, 10, 11, 12,  1,  2,  3,  4,  5,  6,  7,  8,  9,\n",
       "       10, 11, 12,  1,  2,  3,  4,  5,  6,  7,  8,  9, 10, 11, 12,  1,  2,\n",
       "        3,  4,  5,  6,  7,  8,  9, 10, 11, 12,  1,  2,  3,  4,  5,  6,  7,\n",
       "        8,  9, 10, 11, 12,  1,  2,  3,  4,  5,  6,  7,  8,  9, 10, 11, 12,\n",
       "        1,  2,  3,  4,  5,  6,  7,  8,  9, 10, 11, 12,  1,  2,  3,  4,  5,\n",
       "        6,  7,  8,  9, 10, 11, 12,  1,  2,  3,  4,  5,  6,  7,  8,  9, 10,\n",
       "       11, 12,  1,  2,  3,  4,  5,  6,  7,  8,  9, 10, 11, 12,  1,  2,  3,\n",
       "        4,  5,  6,  7,  8,  9, 10, 11, 12,  1,  2,  3,  4,  5,  6,  7,  8,\n",
       "        9, 10, 11, 12,  1,  2,  3,  4,  5,  6,  7,  8,  9, 10, 11, 12])</pre></div></li></ul></div></li><li class='xr-section-item'><input id='section-f64a28de-6794-434a-b7d9-6b39a3a2ef8e' class='xr-section-summary-in' type='checkbox'  checked><label for='section-f64a28de-6794-434a-b7d9-6b39a3a2ef8e' class='xr-section-summary' >Data variables: <span>(1)</span></label><div class='xr-section-inline-details'></div><div class='xr-section-details'><ul class='xr-var-list'><li class='xr-var-item'><div class='xr-var-name'><span>t2m</span></div><div class='xr-var-dims'>(time, member, step, lat, lon)</div><div class='xr-var-dtype'>float32</div><div class='xr-var-preview xr-preview'>dask.array&lt;chunksize=(1, 25, 3, 181, 360), meta=np.ndarray&gt;</div><input id='attrs-b7dff005-18ce-4c07-9b5a-b828375130d9' class='xr-var-attrs-in' type='checkbox' disabled><label for='attrs-b7dff005-18ce-4c07-9b5a-b828375130d9' title='Show/Hide attributes'><svg class='icon xr-icon-file-text2'><use xlink:href='#icon-file-text2'></use></svg></label><input id='data-0dee6a38-cbe4-4fc0-acb6-b2b4c1926e9f' class='xr-var-data-in' type='checkbox'><label for='data-0dee6a38-cbe4-4fc0-acb6-b2b4c1926e9f' title='Show/Hide data repr'><svg class='icon xr-icon-database'><use xlink:href='#icon-database'></use></svg></label><div class='xr-var-attrs'><dl class='xr-attrs'></dl></div><div class='xr-var-data'><table>\n",
       "<tr>\n",
       "<td>\n",
       "<table>\n",
       "  <thead>\n",
       "    <tr><td> </td><th> Array </th><th> Chunk </th></tr>\n",
       "  </thead>\n",
       "  <tbody>\n",
       "    <tr><th> Bytes </th><td> 5.63 GB </td> <td> 19.55 MB </td></tr>\n",
       "    <tr><th> Shape </th><td> (288, 25, 3, 181, 360) </td> <td> (1, 25, 3, 181, 360) </td></tr>\n",
       "    <tr><th> Count </th><td> 1152 Tasks </td><td> 288 Chunks </td></tr>\n",
       "    <tr><th> Type </th><td> float32 </td><td> numpy.ndarray </td></tr>\n",
       "  </tbody>\n",
       "</table>\n",
       "</td>\n",
       "<td>\n",
       "<svg width=\"396\" height=\"146\" style=\"stroke:rgb(0,0,0);stroke-width:1\" >\n",
       "\n",
       "  <!-- Horizontal lines -->\n",
       "  <line x1=\"0\" y1=\"0\" x2=\"36\" y2=\"0\" style=\"stroke-width:2\" />\n",
       "  <line x1=\"0\" y1=\"0\" x2=\"36\" y2=\"0\" />\n",
       "  <line x1=\"0\" y1=\"0\" x2=\"36\" y2=\"0\" />\n",
       "  <line x1=\"0\" y1=\"1\" x2=\"36\" y2=\"1\" />\n",
       "  <line x1=\"0\" y1=\"1\" x2=\"36\" y2=\"1\" />\n",
       "  <line x1=\"0\" y1=\"1\" x2=\"36\" y2=\"1\" />\n",
       "  <line x1=\"0\" y1=\"2\" x2=\"36\" y2=\"2\" />\n",
       "  <line x1=\"0\" y1=\"2\" x2=\"36\" y2=\"2\" />\n",
       "  <line x1=\"0\" y1=\"2\" x2=\"36\" y2=\"2\" />\n",
       "  <line x1=\"0\" y1=\"3\" x2=\"36\" y2=\"3\" />\n",
       "  <line x1=\"0\" y1=\"3\" x2=\"36\" y2=\"3\" />\n",
       "  <line x1=\"0\" y1=\"3\" x2=\"36\" y2=\"3\" />\n",
       "  <line x1=\"0\" y1=\"4\" x2=\"36\" y2=\"4\" />\n",
       "  <line x1=\"0\" y1=\"4\" x2=\"36\" y2=\"4\" />\n",
       "  <line x1=\"0\" y1=\"4\" x2=\"36\" y2=\"4\" />\n",
       "  <line x1=\"0\" y1=\"5\" x2=\"36\" y2=\"5\" />\n",
       "  <line x1=\"0\" y1=\"5\" x2=\"36\" y2=\"5\" />\n",
       "  <line x1=\"0\" y1=\"5\" x2=\"36\" y2=\"5\" />\n",
       "  <line x1=\"0\" y1=\"6\" x2=\"36\" y2=\"6\" />\n",
       "  <line x1=\"0\" y1=\"6\" x2=\"36\" y2=\"6\" />\n",
       "  <line x1=\"0\" y1=\"6\" x2=\"36\" y2=\"6\" />\n",
       "  <line x1=\"0\" y1=\"7\" x2=\"36\" y2=\"7\" />\n",
       "  <line x1=\"0\" y1=\"7\" x2=\"36\" y2=\"7\" />\n",
       "  <line x1=\"0\" y1=\"7\" x2=\"36\" y2=\"7\" />\n",
       "  <line x1=\"0\" y1=\"8\" x2=\"36\" y2=\"8\" />\n",
       "  <line x1=\"0\" y1=\"8\" x2=\"36\" y2=\"8\" />\n",
       "  <line x1=\"0\" y1=\"8\" x2=\"36\" y2=\"8\" />\n",
       "  <line x1=\"0\" y1=\"9\" x2=\"36\" y2=\"9\" />\n",
       "  <line x1=\"0\" y1=\"9\" x2=\"36\" y2=\"9\" />\n",
       "  <line x1=\"0\" y1=\"9\" x2=\"36\" y2=\"9\" />\n",
       "  <line x1=\"0\" y1=\"10\" x2=\"36\" y2=\"10\" />\n",
       "  <line x1=\"0\" y1=\"10\" x2=\"36\" y2=\"10\" />\n",
       "  <line x1=\"0\" y1=\"10\" x2=\"36\" y2=\"10\" />\n",
       "  <line x1=\"0\" y1=\"11\" x2=\"36\" y2=\"11\" />\n",
       "  <line x1=\"0\" y1=\"11\" x2=\"36\" y2=\"11\" />\n",
       "  <line x1=\"0\" y1=\"11\" x2=\"36\" y2=\"11\" />\n",
       "  <line x1=\"0\" y1=\"12\" x2=\"36\" y2=\"12\" />\n",
       "  <line x1=\"0\" y1=\"12\" x2=\"36\" y2=\"12\" />\n",
       "  <line x1=\"0\" y1=\"12\" x2=\"36\" y2=\"12\" />\n",
       "  <line x1=\"0\" y1=\"13\" x2=\"36\" y2=\"13\" />\n",
       "  <line x1=\"0\" y1=\"13\" x2=\"36\" y2=\"13\" />\n",
       "  <line x1=\"0\" y1=\"13\" x2=\"36\" y2=\"13\" />\n",
       "  <line x1=\"0\" y1=\"14\" x2=\"36\" y2=\"14\" />\n",
       "  <line x1=\"0\" y1=\"14\" x2=\"36\" y2=\"14\" />\n",
       "  <line x1=\"0\" y1=\"14\" x2=\"36\" y2=\"14\" />\n",
       "  <line x1=\"0\" y1=\"15\" x2=\"36\" y2=\"15\" />\n",
       "  <line x1=\"0\" y1=\"15\" x2=\"36\" y2=\"15\" />\n",
       "  <line x1=\"0\" y1=\"15\" x2=\"36\" y2=\"15\" />\n",
       "  <line x1=\"0\" y1=\"16\" x2=\"36\" y2=\"16\" />\n",
       "  <line x1=\"0\" y1=\"16\" x2=\"36\" y2=\"16\" />\n",
       "  <line x1=\"0\" y1=\"16\" x2=\"36\" y2=\"16\" />\n",
       "  <line x1=\"0\" y1=\"17\" x2=\"36\" y2=\"17\" />\n",
       "  <line x1=\"0\" y1=\"17\" x2=\"36\" y2=\"17\" />\n",
       "  <line x1=\"0\" y1=\"17\" x2=\"36\" y2=\"17\" />\n",
       "  <line x1=\"0\" y1=\"18\" x2=\"36\" y2=\"18\" />\n",
       "  <line x1=\"0\" y1=\"18\" x2=\"36\" y2=\"18\" />\n",
       "  <line x1=\"0\" y1=\"18\" x2=\"36\" y2=\"18\" />\n",
       "  <line x1=\"0\" y1=\"19\" x2=\"36\" y2=\"19\" />\n",
       "  <line x1=\"0\" y1=\"19\" x2=\"36\" y2=\"19\" />\n",
       "  <line x1=\"0\" y1=\"19\" x2=\"36\" y2=\"19\" />\n",
       "  <line x1=\"0\" y1=\"20\" x2=\"36\" y2=\"20\" />\n",
       "  <line x1=\"0\" y1=\"20\" x2=\"36\" y2=\"20\" />\n",
       "  <line x1=\"0\" y1=\"20\" x2=\"36\" y2=\"20\" />\n",
       "  <line x1=\"0\" y1=\"21\" x2=\"36\" y2=\"21\" />\n",
       "  <line x1=\"0\" y1=\"21\" x2=\"36\" y2=\"21\" />\n",
       "  <line x1=\"0\" y1=\"21\" x2=\"36\" y2=\"21\" />\n",
       "  <line x1=\"0\" y1=\"22\" x2=\"36\" y2=\"22\" />\n",
       "  <line x1=\"0\" y1=\"22\" x2=\"36\" y2=\"22\" />\n",
       "  <line x1=\"0\" y1=\"22\" x2=\"36\" y2=\"22\" />\n",
       "  <line x1=\"0\" y1=\"23\" x2=\"36\" y2=\"23\" />\n",
       "  <line x1=\"0\" y1=\"23\" x2=\"36\" y2=\"23\" />\n",
       "  <line x1=\"0\" y1=\"23\" x2=\"36\" y2=\"23\" />\n",
       "  <line x1=\"0\" y1=\"24\" x2=\"36\" y2=\"24\" />\n",
       "  <line x1=\"0\" y1=\"24\" x2=\"36\" y2=\"24\" />\n",
       "  <line x1=\"0\" y1=\"24\" x2=\"36\" y2=\"24\" />\n",
       "  <line x1=\"0\" y1=\"25\" x2=\"36\" y2=\"25\" />\n",
       "  <line x1=\"0\" y1=\"25\" x2=\"36\" y2=\"25\" />\n",
       "  <line x1=\"0\" y1=\"25\" x2=\"36\" y2=\"25\" />\n",
       "  <line x1=\"0\" y1=\"26\" x2=\"36\" y2=\"26\" />\n",
       "  <line x1=\"0\" y1=\"26\" x2=\"36\" y2=\"26\" />\n",
       "  <line x1=\"0\" y1=\"26\" x2=\"36\" y2=\"26\" />\n",
       "  <line x1=\"0\" y1=\"27\" x2=\"36\" y2=\"27\" />\n",
       "  <line x1=\"0\" y1=\"27\" x2=\"36\" y2=\"27\" />\n",
       "  <line x1=\"0\" y1=\"27\" x2=\"36\" y2=\"27\" />\n",
       "  <line x1=\"0\" y1=\"28\" x2=\"36\" y2=\"28\" />\n",
       "  <line x1=\"0\" y1=\"28\" x2=\"36\" y2=\"28\" />\n",
       "  <line x1=\"0\" y1=\"28\" x2=\"36\" y2=\"28\" />\n",
       "  <line x1=\"0\" y1=\"29\" x2=\"36\" y2=\"29\" />\n",
       "  <line x1=\"0\" y1=\"29\" x2=\"36\" y2=\"29\" />\n",
       "  <line x1=\"0\" y1=\"29\" x2=\"36\" y2=\"29\" />\n",
       "  <line x1=\"0\" y1=\"30\" x2=\"36\" y2=\"30\" />\n",
       "  <line x1=\"0\" y1=\"30\" x2=\"36\" y2=\"30\" />\n",
       "  <line x1=\"0\" y1=\"30\" x2=\"36\" y2=\"30\" />\n",
       "  <line x1=\"0\" y1=\"31\" x2=\"36\" y2=\"31\" />\n",
       "  <line x1=\"0\" y1=\"31\" x2=\"36\" y2=\"31\" />\n",
       "  <line x1=\"0\" y1=\"31\" x2=\"36\" y2=\"31\" />\n",
       "  <line x1=\"0\" y1=\"32\" x2=\"36\" y2=\"32\" />\n",
       "  <line x1=\"0\" y1=\"32\" x2=\"36\" y2=\"32\" />\n",
       "  <line x1=\"0\" y1=\"32\" x2=\"36\" y2=\"32\" />\n",
       "  <line x1=\"0\" y1=\"33\" x2=\"36\" y2=\"33\" />\n",
       "  <line x1=\"0\" y1=\"33\" x2=\"36\" y2=\"33\" />\n",
       "  <line x1=\"0\" y1=\"33\" x2=\"36\" y2=\"33\" />\n",
       "  <line x1=\"0\" y1=\"34\" x2=\"36\" y2=\"34\" />\n",
       "  <line x1=\"0\" y1=\"34\" x2=\"36\" y2=\"34\" />\n",
       "  <line x1=\"0\" y1=\"34\" x2=\"36\" y2=\"34\" />\n",
       "  <line x1=\"0\" y1=\"35\" x2=\"36\" y2=\"35\" />\n",
       "  <line x1=\"0\" y1=\"35\" x2=\"36\" y2=\"35\" />\n",
       "  <line x1=\"0\" y1=\"35\" x2=\"36\" y2=\"35\" />\n",
       "  <line x1=\"0\" y1=\"36\" x2=\"36\" y2=\"36\" />\n",
       "  <line x1=\"0\" y1=\"36\" x2=\"36\" y2=\"36\" />\n",
       "  <line x1=\"0\" y1=\"36\" x2=\"36\" y2=\"36\" />\n",
       "  <line x1=\"0\" y1=\"37\" x2=\"36\" y2=\"37\" />\n",
       "  <line x1=\"0\" y1=\"37\" x2=\"36\" y2=\"37\" />\n",
       "  <line x1=\"0\" y1=\"37\" x2=\"36\" y2=\"37\" />\n",
       "  <line x1=\"0\" y1=\"38\" x2=\"36\" y2=\"38\" />\n",
       "  <line x1=\"0\" y1=\"38\" x2=\"36\" y2=\"38\" />\n",
       "  <line x1=\"0\" y1=\"38\" x2=\"36\" y2=\"38\" />\n",
       "  <line x1=\"0\" y1=\"39\" x2=\"36\" y2=\"39\" />\n",
       "  <line x1=\"0\" y1=\"39\" x2=\"36\" y2=\"39\" />\n",
       "  <line x1=\"0\" y1=\"39\" x2=\"36\" y2=\"39\" />\n",
       "  <line x1=\"0\" y1=\"40\" x2=\"36\" y2=\"40\" />\n",
       "  <line x1=\"0\" y1=\"40\" x2=\"36\" y2=\"40\" />\n",
       "  <line x1=\"0\" y1=\"40\" x2=\"36\" y2=\"40\" />\n",
       "  <line x1=\"0\" y1=\"41\" x2=\"36\" y2=\"41\" />\n",
       "  <line x1=\"0\" y1=\"41\" x2=\"36\" y2=\"41\" />\n",
       "  <line x1=\"0\" y1=\"41\" x2=\"36\" y2=\"41\" />\n",
       "  <line x1=\"0\" y1=\"42\" x2=\"36\" y2=\"42\" />\n",
       "  <line x1=\"0\" y1=\"42\" x2=\"36\" y2=\"42\" />\n",
       "  <line x1=\"0\" y1=\"42\" x2=\"36\" y2=\"42\" />\n",
       "  <line x1=\"0\" y1=\"43\" x2=\"36\" y2=\"43\" />\n",
       "  <line x1=\"0\" y1=\"43\" x2=\"36\" y2=\"43\" />\n",
       "  <line x1=\"0\" y1=\"43\" x2=\"36\" y2=\"43\" />\n",
       "  <line x1=\"0\" y1=\"44\" x2=\"36\" y2=\"44\" />\n",
       "  <line x1=\"0\" y1=\"44\" x2=\"36\" y2=\"44\" />\n",
       "  <line x1=\"0\" y1=\"44\" x2=\"36\" y2=\"44\" />\n",
       "  <line x1=\"0\" y1=\"45\" x2=\"36\" y2=\"45\" />\n",
       "  <line x1=\"0\" y1=\"45\" x2=\"36\" y2=\"45\" />\n",
       "  <line x1=\"0\" y1=\"45\" x2=\"36\" y2=\"45\" />\n",
       "  <line x1=\"0\" y1=\"46\" x2=\"36\" y2=\"46\" />\n",
       "  <line x1=\"0\" y1=\"46\" x2=\"36\" y2=\"46\" />\n",
       "  <line x1=\"0\" y1=\"46\" x2=\"36\" y2=\"46\" />\n",
       "  <line x1=\"0\" y1=\"47\" x2=\"36\" y2=\"47\" />\n",
       "  <line x1=\"0\" y1=\"47\" x2=\"36\" y2=\"47\" />\n",
       "  <line x1=\"0\" y1=\"47\" x2=\"36\" y2=\"47\" />\n",
       "  <line x1=\"0\" y1=\"48\" x2=\"36\" y2=\"48\" />\n",
       "  <line x1=\"0\" y1=\"48\" x2=\"36\" y2=\"48\" />\n",
       "  <line x1=\"0\" y1=\"48\" x2=\"36\" y2=\"48\" />\n",
       "  <line x1=\"0\" y1=\"49\" x2=\"36\" y2=\"49\" />\n",
       "  <line x1=\"0\" y1=\"49\" x2=\"36\" y2=\"49\" />\n",
       "  <line x1=\"0\" y1=\"49\" x2=\"36\" y2=\"49\" />\n",
       "  <line x1=\"0\" y1=\"50\" x2=\"36\" y2=\"50\" />\n",
       "  <line x1=\"0\" y1=\"50\" x2=\"36\" y2=\"50\" />\n",
       "  <line x1=\"0\" y1=\"50\" x2=\"36\" y2=\"50\" />\n",
       "  <line x1=\"0\" y1=\"51\" x2=\"36\" y2=\"51\" />\n",
       "  <line x1=\"0\" y1=\"51\" x2=\"36\" y2=\"51\" />\n",
       "  <line x1=\"0\" y1=\"51\" x2=\"36\" y2=\"51\" />\n",
       "  <line x1=\"0\" y1=\"52\" x2=\"36\" y2=\"52\" />\n",
       "  <line x1=\"0\" y1=\"52\" x2=\"36\" y2=\"52\" />\n",
       "  <line x1=\"0\" y1=\"52\" x2=\"36\" y2=\"52\" />\n",
       "  <line x1=\"0\" y1=\"53\" x2=\"36\" y2=\"53\" />\n",
       "  <line x1=\"0\" y1=\"53\" x2=\"36\" y2=\"53\" />\n",
       "  <line x1=\"0\" y1=\"53\" x2=\"36\" y2=\"53\" />\n",
       "  <line x1=\"0\" y1=\"54\" x2=\"36\" y2=\"54\" />\n",
       "  <line x1=\"0\" y1=\"54\" x2=\"36\" y2=\"54\" />\n",
       "  <line x1=\"0\" y1=\"54\" x2=\"36\" y2=\"54\" />\n",
       "  <line x1=\"0\" y1=\"55\" x2=\"36\" y2=\"55\" />\n",
       "  <line x1=\"0\" y1=\"55\" x2=\"36\" y2=\"55\" />\n",
       "  <line x1=\"0\" y1=\"55\" x2=\"36\" y2=\"55\" />\n",
       "  <line x1=\"0\" y1=\"56\" x2=\"36\" y2=\"56\" />\n",
       "  <line x1=\"0\" y1=\"56\" x2=\"36\" y2=\"56\" />\n",
       "  <line x1=\"0\" y1=\"56\" x2=\"36\" y2=\"56\" />\n",
       "  <line x1=\"0\" y1=\"57\" x2=\"36\" y2=\"57\" />\n",
       "  <line x1=\"0\" y1=\"57\" x2=\"36\" y2=\"57\" />\n",
       "  <line x1=\"0\" y1=\"57\" x2=\"36\" y2=\"57\" />\n",
       "  <line x1=\"0\" y1=\"58\" x2=\"36\" y2=\"58\" />\n",
       "  <line x1=\"0\" y1=\"58\" x2=\"36\" y2=\"58\" />\n",
       "  <line x1=\"0\" y1=\"58\" x2=\"36\" y2=\"58\" />\n",
       "  <line x1=\"0\" y1=\"59\" x2=\"36\" y2=\"59\" />\n",
       "  <line x1=\"0\" y1=\"59\" x2=\"36\" y2=\"59\" />\n",
       "  <line x1=\"0\" y1=\"59\" x2=\"36\" y2=\"59\" />\n",
       "  <line x1=\"0\" y1=\"60\" x2=\"36\" y2=\"60\" />\n",
       "  <line x1=\"0\" y1=\"60\" x2=\"36\" y2=\"60\" />\n",
       "  <line x1=\"0\" y1=\"60\" x2=\"36\" y2=\"60\" />\n",
       "  <line x1=\"0\" y1=\"61\" x2=\"36\" y2=\"61\" />\n",
       "  <line x1=\"0\" y1=\"61\" x2=\"36\" y2=\"61\" />\n",
       "  <line x1=\"0\" y1=\"61\" x2=\"36\" y2=\"61\" />\n",
       "  <line x1=\"0\" y1=\"62\" x2=\"36\" y2=\"62\" />\n",
       "  <line x1=\"0\" y1=\"62\" x2=\"36\" y2=\"62\" />\n",
       "  <line x1=\"0\" y1=\"62\" x2=\"36\" y2=\"62\" />\n",
       "  <line x1=\"0\" y1=\"63\" x2=\"36\" y2=\"63\" />\n",
       "  <line x1=\"0\" y1=\"63\" x2=\"36\" y2=\"63\" />\n",
       "  <line x1=\"0\" y1=\"63\" x2=\"36\" y2=\"63\" />\n",
       "  <line x1=\"0\" y1=\"64\" x2=\"36\" y2=\"64\" />\n",
       "  <line x1=\"0\" y1=\"64\" x2=\"36\" y2=\"64\" />\n",
       "  <line x1=\"0\" y1=\"64\" x2=\"36\" y2=\"64\" />\n",
       "  <line x1=\"0\" y1=\"65\" x2=\"36\" y2=\"65\" />\n",
       "  <line x1=\"0\" y1=\"65\" x2=\"36\" y2=\"65\" />\n",
       "  <line x1=\"0\" y1=\"65\" x2=\"36\" y2=\"65\" />\n",
       "  <line x1=\"0\" y1=\"66\" x2=\"36\" y2=\"66\" />\n",
       "  <line x1=\"0\" y1=\"66\" x2=\"36\" y2=\"66\" />\n",
       "  <line x1=\"0\" y1=\"66\" x2=\"36\" y2=\"66\" />\n",
       "  <line x1=\"0\" y1=\"67\" x2=\"36\" y2=\"67\" />\n",
       "  <line x1=\"0\" y1=\"67\" x2=\"36\" y2=\"67\" />\n",
       "  <line x1=\"0\" y1=\"67\" x2=\"36\" y2=\"67\" />\n",
       "  <line x1=\"0\" y1=\"68\" x2=\"36\" y2=\"68\" />\n",
       "  <line x1=\"0\" y1=\"68\" x2=\"36\" y2=\"68\" />\n",
       "  <line x1=\"0\" y1=\"68\" x2=\"36\" y2=\"68\" />\n",
       "  <line x1=\"0\" y1=\"69\" x2=\"36\" y2=\"69\" />\n",
       "  <line x1=\"0\" y1=\"69\" x2=\"36\" y2=\"69\" />\n",
       "  <line x1=\"0\" y1=\"69\" x2=\"36\" y2=\"69\" />\n",
       "  <line x1=\"0\" y1=\"70\" x2=\"36\" y2=\"70\" />\n",
       "  <line x1=\"0\" y1=\"70\" x2=\"36\" y2=\"70\" />\n",
       "  <line x1=\"0\" y1=\"70\" x2=\"36\" y2=\"70\" />\n",
       "  <line x1=\"0\" y1=\"71\" x2=\"36\" y2=\"71\" />\n",
       "  <line x1=\"0\" y1=\"71\" x2=\"36\" y2=\"71\" />\n",
       "  <line x1=\"0\" y1=\"71\" x2=\"36\" y2=\"71\" />\n",
       "  <line x1=\"0\" y1=\"72\" x2=\"36\" y2=\"72\" />\n",
       "  <line x1=\"0\" y1=\"72\" x2=\"36\" y2=\"72\" />\n",
       "  <line x1=\"0\" y1=\"72\" x2=\"36\" y2=\"72\" />\n",
       "  <line x1=\"0\" y1=\"73\" x2=\"36\" y2=\"73\" />\n",
       "  <line x1=\"0\" y1=\"73\" x2=\"36\" y2=\"73\" />\n",
       "  <line x1=\"0\" y1=\"73\" x2=\"36\" y2=\"73\" />\n",
       "  <line x1=\"0\" y1=\"74\" x2=\"36\" y2=\"74\" />\n",
       "  <line x1=\"0\" y1=\"74\" x2=\"36\" y2=\"74\" />\n",
       "  <line x1=\"0\" y1=\"74\" x2=\"36\" y2=\"74\" />\n",
       "  <line x1=\"0\" y1=\"75\" x2=\"36\" y2=\"75\" />\n",
       "  <line x1=\"0\" y1=\"75\" x2=\"36\" y2=\"75\" />\n",
       "  <line x1=\"0\" y1=\"75\" x2=\"36\" y2=\"75\" />\n",
       "  <line x1=\"0\" y1=\"76\" x2=\"36\" y2=\"76\" />\n",
       "  <line x1=\"0\" y1=\"76\" x2=\"36\" y2=\"76\" />\n",
       "  <line x1=\"0\" y1=\"76\" x2=\"36\" y2=\"76\" />\n",
       "  <line x1=\"0\" y1=\"77\" x2=\"36\" y2=\"77\" />\n",
       "  <line x1=\"0\" y1=\"77\" x2=\"36\" y2=\"77\" />\n",
       "  <line x1=\"0\" y1=\"77\" x2=\"36\" y2=\"77\" />\n",
       "  <line x1=\"0\" y1=\"78\" x2=\"36\" y2=\"78\" />\n",
       "  <line x1=\"0\" y1=\"78\" x2=\"36\" y2=\"78\" />\n",
       "  <line x1=\"0\" y1=\"78\" x2=\"36\" y2=\"78\" />\n",
       "  <line x1=\"0\" y1=\"79\" x2=\"36\" y2=\"79\" />\n",
       "  <line x1=\"0\" y1=\"79\" x2=\"36\" y2=\"79\" />\n",
       "  <line x1=\"0\" y1=\"79\" x2=\"36\" y2=\"79\" />\n",
       "  <line x1=\"0\" y1=\"80\" x2=\"36\" y2=\"80\" />\n",
       "  <line x1=\"0\" y1=\"80\" x2=\"36\" y2=\"80\" />\n",
       "  <line x1=\"0\" y1=\"80\" x2=\"36\" y2=\"80\" />\n",
       "  <line x1=\"0\" y1=\"81\" x2=\"36\" y2=\"81\" />\n",
       "  <line x1=\"0\" y1=\"81\" x2=\"36\" y2=\"81\" />\n",
       "  <line x1=\"0\" y1=\"81\" x2=\"36\" y2=\"81\" />\n",
       "  <line x1=\"0\" y1=\"82\" x2=\"36\" y2=\"82\" />\n",
       "  <line x1=\"0\" y1=\"82\" x2=\"36\" y2=\"82\" />\n",
       "  <line x1=\"0\" y1=\"82\" x2=\"36\" y2=\"82\" />\n",
       "  <line x1=\"0\" y1=\"83\" x2=\"36\" y2=\"83\" />\n",
       "  <line x1=\"0\" y1=\"83\" x2=\"36\" y2=\"83\" />\n",
       "  <line x1=\"0\" y1=\"83\" x2=\"36\" y2=\"83\" />\n",
       "  <line x1=\"0\" y1=\"84\" x2=\"36\" y2=\"84\" />\n",
       "  <line x1=\"0\" y1=\"84\" x2=\"36\" y2=\"84\" />\n",
       "  <line x1=\"0\" y1=\"84\" x2=\"36\" y2=\"84\" />\n",
       "  <line x1=\"0\" y1=\"85\" x2=\"36\" y2=\"85\" />\n",
       "  <line x1=\"0\" y1=\"85\" x2=\"36\" y2=\"85\" />\n",
       "  <line x1=\"0\" y1=\"85\" x2=\"36\" y2=\"85\" />\n",
       "  <line x1=\"0\" y1=\"86\" x2=\"36\" y2=\"86\" />\n",
       "  <line x1=\"0\" y1=\"86\" x2=\"36\" y2=\"86\" />\n",
       "  <line x1=\"0\" y1=\"86\" x2=\"36\" y2=\"86\" />\n",
       "  <line x1=\"0\" y1=\"87\" x2=\"36\" y2=\"87\" />\n",
       "  <line x1=\"0\" y1=\"87\" x2=\"36\" y2=\"87\" />\n",
       "  <line x1=\"0\" y1=\"87\" x2=\"36\" y2=\"87\" />\n",
       "  <line x1=\"0\" y1=\"88\" x2=\"36\" y2=\"88\" />\n",
       "  <line x1=\"0\" y1=\"88\" x2=\"36\" y2=\"88\" />\n",
       "  <line x1=\"0\" y1=\"88\" x2=\"36\" y2=\"88\" />\n",
       "  <line x1=\"0\" y1=\"89\" x2=\"36\" y2=\"89\" />\n",
       "  <line x1=\"0\" y1=\"89\" x2=\"36\" y2=\"89\" />\n",
       "  <line x1=\"0\" y1=\"89\" x2=\"36\" y2=\"89\" />\n",
       "  <line x1=\"0\" y1=\"90\" x2=\"36\" y2=\"90\" />\n",
       "  <line x1=\"0\" y1=\"90\" x2=\"36\" y2=\"90\" />\n",
       "  <line x1=\"0\" y1=\"90\" x2=\"36\" y2=\"90\" />\n",
       "  <line x1=\"0\" y1=\"91\" x2=\"36\" y2=\"91\" />\n",
       "  <line x1=\"0\" y1=\"91\" x2=\"36\" y2=\"91\" />\n",
       "  <line x1=\"0\" y1=\"91\" x2=\"36\" y2=\"91\" />\n",
       "  <line x1=\"0\" y1=\"92\" x2=\"36\" y2=\"92\" />\n",
       "  <line x1=\"0\" y1=\"92\" x2=\"36\" y2=\"92\" />\n",
       "  <line x1=\"0\" y1=\"92\" x2=\"36\" y2=\"92\" />\n",
       "  <line x1=\"0\" y1=\"93\" x2=\"36\" y2=\"93\" />\n",
       "  <line x1=\"0\" y1=\"93\" x2=\"36\" y2=\"93\" />\n",
       "  <line x1=\"0\" y1=\"93\" x2=\"36\" y2=\"93\" />\n",
       "  <line x1=\"0\" y1=\"94\" x2=\"36\" y2=\"94\" />\n",
       "  <line x1=\"0\" y1=\"94\" x2=\"36\" y2=\"94\" />\n",
       "  <line x1=\"0\" y1=\"94\" x2=\"36\" y2=\"94\" />\n",
       "  <line x1=\"0\" y1=\"95\" x2=\"36\" y2=\"95\" />\n",
       "  <line x1=\"0\" y1=\"95\" x2=\"36\" y2=\"95\" />\n",
       "  <line x1=\"0\" y1=\"95\" x2=\"36\" y2=\"95\" />\n",
       "  <line x1=\"0\" y1=\"96\" x2=\"36\" y2=\"96\" style=\"stroke-width:2\" />\n",
       "\n",
       "  <!-- Vertical lines -->\n",
       "  <line x1=\"0\" y1=\"0\" x2=\"0\" y2=\"96\" style=\"stroke-width:2\" />\n",
       "  <line x1=\"36\" y1=\"0\" x2=\"36\" y2=\"96\" style=\"stroke-width:2\" />\n",
       "\n",
       "  <!-- Colored Rectangle -->\n",
       "  <polygon points=\"0.000000,0.000000 36.491890,0.000000 36.491890,96.000000 0.000000,96.000000\" style=\"fill:#ECB172A0;stroke-width:0\"/>\n",
       "\n",
       "  <!-- Text -->\n",
       "  <text x=\"18.245945\" y=\"116.000000\" font-size=\"1.0rem\" font-weight=\"100\" text-anchor=\"middle\" >25</text>\n",
       "  <text x=\"56.491890\" y=\"48.000000\" font-size=\"1.0rem\" font-weight=\"100\" text-anchor=\"middle\" transform=\"rotate(-90,56.491890,48.000000)\">288</text>\n",
       "\n",
       "\n",
       "  <!-- Horizontal lines -->\n",
       "  <line x1=\"106\" y1=\"0\" x2=\"120\" y2=\"14\" style=\"stroke-width:2\" />\n",
       "  <line x1=\"106\" y1=\"60\" x2=\"120\" y2=\"75\" style=\"stroke-width:2\" />\n",
       "\n",
       "  <!-- Vertical lines -->\n",
       "  <line x1=\"106\" y1=\"0\" x2=\"106\" y2=\"60\" style=\"stroke-width:2\" />\n",
       "  <line x1=\"120\" y1=\"14\" x2=\"120\" y2=\"75\" style=\"stroke-width:2\" />\n",
       "\n",
       "  <!-- Colored Rectangle -->\n",
       "  <polygon points=\"106.000000,0.000000 120.948598,14.948598 120.948598,75.281931 106.000000,60.333333\" style=\"fill:#ECB172A0;stroke-width:0\"/>\n",
       "\n",
       "  <!-- Horizontal lines -->\n",
       "  <line x1=\"106\" y1=\"0\" x2=\"226\" y2=\"0\" style=\"stroke-width:2\" />\n",
       "  <line x1=\"120\" y1=\"14\" x2=\"240\" y2=\"14\" style=\"stroke-width:2\" />\n",
       "\n",
       "  <!-- Vertical lines -->\n",
       "  <line x1=\"106\" y1=\"0\" x2=\"120\" y2=\"14\" style=\"stroke-width:2\" />\n",
       "  <line x1=\"226\" y1=\"0\" x2=\"240\" y2=\"14\" style=\"stroke-width:2\" />\n",
       "\n",
       "  <!-- Colored Rectangle -->\n",
       "  <polygon points=\"106.000000,0.000000 226.000000,0.000000 240.948598,14.948598 120.948598,14.948598\" style=\"fill:#ECB172A0;stroke-width:0\"/>\n",
       "\n",
       "  <!-- Horizontal lines -->\n",
       "  <line x1=\"120\" y1=\"14\" x2=\"240\" y2=\"14\" style=\"stroke-width:2\" />\n",
       "  <line x1=\"120\" y1=\"75\" x2=\"240\" y2=\"75\" style=\"stroke-width:2\" />\n",
       "\n",
       "  <!-- Vertical lines -->\n",
       "  <line x1=\"120\" y1=\"14\" x2=\"120\" y2=\"75\" style=\"stroke-width:2\" />\n",
       "  <line x1=\"240\" y1=\"14\" x2=\"240\" y2=\"75\" style=\"stroke-width:2\" />\n",
       "\n",
       "  <!-- Colored Rectangle -->\n",
       "  <polygon points=\"120.948598,14.948598 240.948598,14.948598 240.948598,75.281931 120.948598,75.281931\" style=\"fill:#ECB172A0;stroke-width:0\"/>\n",
       "\n",
       "  <!-- Text -->\n",
       "  <text x=\"180.948598\" y=\"95.281931\" font-size=\"1.0rem\" font-weight=\"100\" text-anchor=\"middle\" >360</text>\n",
       "  <text x=\"260.948598\" y=\"45.115265\" font-size=\"1.0rem\" font-weight=\"100\" text-anchor=\"middle\" transform=\"rotate(-90,260.948598,45.115265)\">181</text>\n",
       "  <text x=\"103.474299\" y=\"87.807632\" font-size=\"1.0rem\" font-weight=\"100\" text-anchor=\"middle\" transform=\"rotate(45,103.474299,87.807632)\">3</text>\n",
       "</svg>\n",
       "</td>\n",
       "</tr>\n",
       "</table></div></li></ul></div></li><li class='xr-section-item'><input id='section-5cbbbfdd-271b-4db4-a0b7-f093bf578092' class='xr-section-summary-in' type='checkbox' disabled ><label for='section-5cbbbfdd-271b-4db4-a0b7-f093bf578092' class='xr-section-summary'  title='Expand/collapse section'>Attributes: <span>(0)</span></label><div class='xr-section-inline-details'></div><div class='xr-section-details'><dl class='xr-attrs'></dl></div></li></ul></div></div>"
      ],
      "text/plain": [
       "<xarray.Dataset>\n",
       "Dimensions:     (lat: 181, lon: 360, member: 25, step: 3, time: 288)\n",
       "Coordinates:\n",
       "    surface     int64 0\n",
       "  * lat         (lat) float64 -90.0 -89.0 -88.0 -87.0 ... 87.0 88.0 89.0 90.0\n",
       "  * lon         (lon) float64 0.0 1.0 2.0 3.0 4.0 ... 356.0 357.0 358.0 359.0\n",
       "  * step        (step) int64 3 4 5\n",
       "  * member      (member) int64 0 1 2 3 4 5 6 7 8 ... 16 17 18 19 20 21 22 23 24\n",
       "  * time        (time) datetime64[ns] 1993-01-01 1993-02-01 ... 2016-12-01\n",
       "    valid_time  (time, step) datetime64[ns] dask.array<chunksize=(1, 3), meta=np.ndarray>\n",
       "    month       (time) int64 1 2 3 4 5 6 7 8 9 10 11 ... 3 4 5 6 7 8 9 10 11 12\n",
       "Data variables:\n",
       "    t2m         (time, member, step, lat, lon) float32 dask.array<chunksize=(1, 25, 3, 181, 360), meta=np.ndarray>"
      ]
     },
     "execution_count": 35,
     "metadata": {},
     "output_type": "execute_result"
    }
   ],
   "source": [
    "dset"
   ]
  },
  {
   "cell_type": "markdown",
   "metadata": {},
   "source": [
    "### selects the training set "
   ]
  },
  {
   "cell_type": "code",
   "execution_count": 36,
   "metadata": {},
   "outputs": [],
   "source": [
    "dset_train = dset.sel(time=slice('1993','2010'))"
   ]
  },
  {
   "cell_type": "code",
   "execution_count": 37,
   "metadata": {},
   "outputs": [],
   "source": [
    "dset_val = dset.sel(time=slice('2011',None))"
   ]
  },
  {
   "cell_type": "markdown",
   "metadata": {},
   "source": [
    "### select one step (leadtime = 3 months), and only t2m "
   ]
  },
  {
   "cell_type": "code",
   "execution_count": 38,
   "metadata": {},
   "outputs": [],
   "source": [
    "dset_train = dset_train[['t2m']].sel(step=3)"
   ]
  },
  {
   "cell_type": "code",
   "execution_count": 39,
   "metadata": {},
   "outputs": [],
   "source": [
    "dset_val = dset_val[['t2m']].sel(step=3)"
   ]
  },
  {
   "cell_type": "markdown",
   "metadata": {},
   "source": [
    "### concatenate all the members long the first dimension, to increase number of instances "
   ]
  },
  {
   "cell_type": "code",
   "execution_count": 40,
   "metadata": {},
   "outputs": [],
   "source": [
    "dset_train = dset_train.stack(instance=('time','member'))"
   ]
  },
  {
   "cell_type": "code",
   "execution_count": 41,
   "metadata": {},
   "outputs": [],
   "source": [
    "dset_val = dset_val.stack(instance=('time','member'))"
   ]
  },
  {
   "cell_type": "markdown",
   "metadata": {},
   "source": [
    "### get the repeated datetimes (will be useful to sample repeatedly in Yds)"
   ]
  },
  {
   "cell_type": "code",
   "execution_count": 42,
   "metadata": {},
   "outputs": [],
   "source": [
    "rdatetimes_train = dset_train.indexes[\"instance\"].get_level_values(0)"
   ]
  },
  {
   "cell_type": "code",
   "execution_count": 43,
   "metadata": {},
   "outputs": [],
   "source": [
    "rdatetimes_val = dset_val.indexes[\"instance\"].get_level_values(0)"
   ]
  },
  {
   "cell_type": "markdown",
   "metadata": {},
   "source": [
    "### transpose to have the instances as the first dimension "
   ]
  },
  {
   "cell_type": "code",
   "execution_count": 44,
   "metadata": {},
   "outputs": [],
   "source": [
    "dset_train = dset_train.transpose('instance','lat','lon')"
   ]
  },
  {
   "cell_type": "code",
   "execution_count": 45,
   "metadata": {},
   "outputs": [],
   "source": [
    "dset_val = dset_val.transpose('instance','lat','lon')"
   ]
  },
  {
   "cell_type": "markdown",
   "metadata": {},
   "source": [
    "### Generate data for tensorflow "
   ]
  },
  {
   "cell_type": "code",
   "execution_count": 46,
   "metadata": {},
   "outputs": [],
   "source": [
    "data_train = XrDataGenerator(dset_train, dset_train, {'t2m':None}, 't2m', norm=True, batch_size=batch_size, mean=None, std=None, shuffle=True, load=False)"
   ]
  },
  {
   "cell_type": "code",
   "execution_count": 47,
   "metadata": {},
   "outputs": [],
   "source": [
    "data_val = XrDataGenerator(dset_val, dset_val, {'t2m':None}, 't2m', norm=True, batch_size=batch_size, mean=data_train.mean, std=data_train.std, shuffle=True, load=False)"
   ]
  },
  {
   "cell_type": "markdown",
   "metadata": {},
   "source": [
    "### checks the shape (should be (batch_size, (input_shape), channels)) "
   ]
  },
  {
   "cell_type": "code",
   "execution_count": 48,
   "metadata": {},
   "outputs": [
    {
     "data": {
      "text/plain": [
       "(32, 181, 360, 1)"
      ]
     },
     "execution_count": 48,
     "metadata": {},
     "output_type": "execute_result"
    }
   ],
   "source": [
    "data_train[0][0].shape"
   ]
  },
  {
   "cell_type": "code",
   "execution_count": 49,
   "metadata": {},
   "outputs": [
    {
     "data": {
      "text/plain": [
       "(32, 181, 360, 1)"
      ]
     },
     "execution_count": 49,
     "metadata": {},
     "output_type": "execute_result"
    }
   ],
   "source": [
    "data_val[0][0].shape"
   ]
  },
  {
   "cell_type": "markdown",
   "metadata": {},
   "source": [
    "### build the model "
   ]
  },
  {
   "cell_type": "code",
   "execution_count": 50,
   "metadata": {},
   "outputs": [],
   "source": [
    "from numba import cuda\n",
    "device = cuda.get_current_device(); \n",
    "device.reset()"
   ]
  },
  {
   "cell_type": "code",
   "execution_count": 52,
   "metadata": {},
   "outputs": [],
   "source": [
    "# Input placeholder\n",
    "original = Input(shape=input_shape)\n",
    "\n",
    "# Resize to have dimensions divisible by 8\n",
    "resized = ResizeLayer(newsize=resize_shape)(original)\n",
    "\n",
    "# # Wrap-around in longitude for periodic boundary conditions\n",
    "\n",
    "padded = PeriodicPadding2D(padd)(resized)\n",
    "\n",
    "# Encoding layers\n",
    "x = Conv2D(16, (3, 3), padding='same')(padded)\n",
    "x = LeakyReLU()(x)\n",
    "x = Conv2D(8, (3, 3), strides= (2,2), padding='valid')(x)\n",
    "x = LeakyReLU()(x)\n",
    "x = Conv2D(8, (3, 3), strides= (2,2), padding='valid')(x)\n",
    "x = LeakyReLU()(x)\n",
    "x = Conv2D(8, (3, 3), strides= (2,2), padding='valid')(x)\n",
    "x = LeakyReLU()(x)\n",
    "\n",
    "encoded = x\n",
    "\n",
    "# Decoding layers\n",
    "x = Conv2DTranspose(8, (3, 3),  strides= (2,2), padding='valid')(encoded)\n",
    "x = LeakyReLU()(x)\n",
    "x = Conv2DTranspose(8, (3, 3),  strides= (2,2), padding='valid')(x)\n",
    "x = LeakyReLU()(x)\n",
    "x = Conv2DTranspose(8, (3, 3),  strides= (2,2), padding='valid')(x)\n",
    "x = LeakyReLU()(x)\n",
    "decoded = Conv2D(1, (3, 3), padding='same')(x)\n",
    "\n",
    "# Strip the longitude wrap-around\n",
    "pruned = PrunePeriodicPadding2D(padd)(decoded)\n",
    "\n",
    "outsize = ResizeLayer(newsize=input_shape[:2])(pruned)\n"
   ]
  },
  {
   "cell_type": "code",
   "execution_count": 53,
   "metadata": {},
   "outputs": [],
   "source": [
    "autoencoder = Model(original,outsize)"
   ]
  },
  {
   "cell_type": "code",
   "execution_count": 54,
   "metadata": {},
   "outputs": [
    {
     "name": "stdout",
     "output_type": "stream",
     "text": [
      "Model: \"model\"\n",
      "________________________________________________________________________________________________________________________\n",
      "Layer (type)                                          Output Shape                                    Param #           \n",
      "========================================================================================================================\n",
      "input_2 (InputLayer)                                  [(None, 181, 360, 1)]                           0                 \n",
      "________________________________________________________________________________________________________________________\n",
      "resize_layer (ResizeLayer)                            (None, 184, 360, 1)                             0                 \n",
      "________________________________________________________________________________________________________________________\n",
      "periodic_padding2d (PeriodicPadding2D)                (None, 200, 376, 1)                             0                 \n",
      "________________________________________________________________________________________________________________________\n",
      "conv2d (Conv2D)                                       (None, 200, 376, 16)                            160               \n",
      "________________________________________________________________________________________________________________________\n",
      "leaky_re_lu (LeakyReLU)                               (None, 200, 376, 16)                            0                 \n",
      "________________________________________________________________________________________________________________________\n",
      "conv2d_1 (Conv2D)                                     (None, 99, 187, 8)                              1160              \n",
      "________________________________________________________________________________________________________________________\n",
      "leaky_re_lu_1 (LeakyReLU)                             (None, 99, 187, 8)                              0                 \n",
      "________________________________________________________________________________________________________________________\n",
      "conv2d_2 (Conv2D)                                     (None, 49, 93, 8)                               584               \n",
      "________________________________________________________________________________________________________________________\n",
      "leaky_re_lu_2 (LeakyReLU)                             (None, 49, 93, 8)                               0                 \n",
      "________________________________________________________________________________________________________________________\n",
      "conv2d_3 (Conv2D)                                     (None, 24, 46, 8)                               584               \n",
      "________________________________________________________________________________________________________________________\n",
      "leaky_re_lu_3 (LeakyReLU)                             (None, 24, 46, 8)                               0                 \n",
      "________________________________________________________________________________________________________________________\n",
      "conv2d_transpose (Conv2DTranspose)                    (None, 49, 93, 8)                               584               \n",
      "________________________________________________________________________________________________________________________\n",
      "leaky_re_lu_4 (LeakyReLU)                             (None, 49, 93, 8)                               0                 \n",
      "________________________________________________________________________________________________________________________\n",
      "conv2d_transpose_1 (Conv2DTranspose)                  (None, 99, 187, 8)                              584               \n",
      "________________________________________________________________________________________________________________________\n",
      "leaky_re_lu_5 (LeakyReLU)                             (None, 99, 187, 8)                              0                 \n",
      "________________________________________________________________________________________________________________________\n",
      "conv2d_transpose_2 (Conv2DTranspose)                  (None, 199, 375, 8)                             584               \n",
      "________________________________________________________________________________________________________________________\n",
      "leaky_re_lu_6 (LeakyReLU)                             (None, 199, 375, 8)                             0                 \n",
      "________________________________________________________________________________________________________________________\n",
      "conv2d_4 (Conv2D)                                     (None, 199, 375, 1)                             73                \n",
      "________________________________________________________________________________________________________________________\n",
      "prune_periodic_padding2d (PrunePeriodicPadding2D)     (None, 183, 359, 1)                             0                 \n",
      "________________________________________________________________________________________________________________________\n",
      "resize_layer_1 (ResizeLayer)                          (None, 181, 360, 1)                             0                 \n",
      "========================================================================================================================\n",
      "Total params: 4,313\n",
      "Trainable params: 4,313\n",
      "Non-trainable params: 0\n",
      "________________________________________________________________________________________________________________________\n"
     ]
    }
   ],
   "source": [
    "autoencoder.summary(line_length=120)"
   ]
  },
  {
   "cell_type": "markdown",
   "metadata": {},
   "source": [
    "### build the callbacks "
   ]
  },
  {
   "cell_type": "code",
   "execution_count": 55,
   "metadata": {},
   "outputs": [],
   "source": [
    "run_id = time.strftime(\"run_%Y_%m_%d-%H_%M_%S\")"
   ]
  },
  {
   "cell_type": "markdown",
   "metadata": {},
   "source": [
    "### checkpoint "
   ]
  },
  {
   "cell_type": "code",
   "execution_count": 56,
   "metadata": {},
   "outputs": [],
   "source": [
    "checkpoint_cb = keras.callbacks.ModelCheckpoint(f\"./autoencoder_checkpoint_{run_id}_{compute}_fullCNN.h5\", save_best_only=True)"
   ]
  },
  {
   "cell_type": "markdown",
   "metadata": {},
   "source": [
    "### early stopping "
   ]
  },
  {
   "cell_type": "code",
   "execution_count": 57,
   "metadata": {},
   "outputs": [],
   "source": [
    "early_stopping_cb = keras.callbacks.EarlyStopping(patience=10, restore_best_weights=True)"
   ]
  },
  {
   "cell_type": "code",
   "execution_count": 58,
   "metadata": {},
   "outputs": [],
   "source": [
    "import os"
   ]
  },
  {
   "cell_type": "code",
   "execution_count": 59,
   "metadata": {},
   "outputs": [],
   "source": [
    "root_logdir = os.path.join(os.curdir, \"my_logs\")"
   ]
  },
  {
   "cell_type": "code",
   "execution_count": 60,
   "metadata": {},
   "outputs": [
    {
     "data": {
      "text/plain": [
       "'./my_logs/run_2020_08_10-16_10_41'"
      ]
     },
     "execution_count": 60,
     "metadata": {},
     "output_type": "execute_result"
    }
   ],
   "source": [
    "def get_run_logdir(run_id):\n",
    "    return os.path.join(root_logdir, run_id)\n",
    "\n",
    "run_logdir = get_run_logdir(run_id)\n",
    "run_logdir"
   ]
  },
  {
   "cell_type": "code",
   "execution_count": 61,
   "metadata": {},
   "outputs": [],
   "source": [
    "keras.backend.clear_session()\n",
    "np.random.seed(42)\n",
    "tf.random.set_seed(42)"
   ]
  },
  {
   "cell_type": "code",
   "execution_count": 62,
   "metadata": {},
   "outputs": [],
   "source": [
    "tensorboard_cb = keras.callbacks.TensorBoard(run_logdir)"
   ]
  },
  {
   "cell_type": "markdown",
   "metadata": {},
   "source": [
    "### compile "
   ]
  },
  {
   "cell_type": "code",
   "execution_count": 63,
   "metadata": {},
   "outputs": [],
   "source": [
    "autoencoder.compile(optimizer='adam', loss='mean_squared_error')"
   ]
  },
  {
   "cell_type": "code",
   "execution_count": 64,
   "metadata": {},
   "outputs": [
    {
     "name": "stdout",
     "output_type": "stream",
     "text": [
      "Model: \"model\"\n",
      "________________________________________________________________________________________________________________________\n",
      "Layer (type)                                          Output Shape                                    Param #           \n",
      "========================================================================================================================\n",
      "input_2 (InputLayer)                                  [(None, 181, 360, 1)]                           0                 \n",
      "________________________________________________________________________________________________________________________\n",
      "resize_layer (ResizeLayer)                            (None, 184, 360, 1)                             0                 \n",
      "________________________________________________________________________________________________________________________\n",
      "periodic_padding2d (PeriodicPadding2D)                (None, 200, 376, 1)                             0                 \n",
      "________________________________________________________________________________________________________________________\n",
      "conv2d (Conv2D)                                       (None, 200, 376, 16)                            160               \n",
      "________________________________________________________________________________________________________________________\n",
      "leaky_re_lu (LeakyReLU)                               (None, 200, 376, 16)                            0                 \n",
      "________________________________________________________________________________________________________________________\n",
      "conv2d_1 (Conv2D)                                     (None, 99, 187, 8)                              1160              \n",
      "________________________________________________________________________________________________________________________\n",
      "leaky_re_lu_1 (LeakyReLU)                             (None, 99, 187, 8)                              0                 \n",
      "________________________________________________________________________________________________________________________\n",
      "conv2d_2 (Conv2D)                                     (None, 49, 93, 8)                               584               \n",
      "________________________________________________________________________________________________________________________\n",
      "leaky_re_lu_2 (LeakyReLU)                             (None, 49, 93, 8)                               0                 \n",
      "________________________________________________________________________________________________________________________\n",
      "conv2d_3 (Conv2D)                                     (None, 24, 46, 8)                               584               \n",
      "________________________________________________________________________________________________________________________\n",
      "leaky_re_lu_3 (LeakyReLU)                             (None, 24, 46, 8)                               0                 \n",
      "________________________________________________________________________________________________________________________\n",
      "conv2d_transpose (Conv2DTranspose)                    (None, 49, 93, 8)                               584               \n",
      "________________________________________________________________________________________________________________________\n",
      "leaky_re_lu_4 (LeakyReLU)                             (None, 49, 93, 8)                               0                 \n",
      "________________________________________________________________________________________________________________________\n",
      "conv2d_transpose_1 (Conv2DTranspose)                  (None, 99, 187, 8)                              584               \n",
      "________________________________________________________________________________________________________________________\n",
      "leaky_re_lu_5 (LeakyReLU)                             (None, 99, 187, 8)                              0                 \n",
      "________________________________________________________________________________________________________________________\n",
      "conv2d_transpose_2 (Conv2DTranspose)                  (None, 199, 375, 8)                             584               \n",
      "________________________________________________________________________________________________________________________\n",
      "leaky_re_lu_6 (LeakyReLU)                             (None, 199, 375, 8)                             0                 \n",
      "________________________________________________________________________________________________________________________\n",
      "conv2d_4 (Conv2D)                                     (None, 199, 375, 1)                             73                \n",
      "________________________________________________________________________________________________________________________\n",
      "prune_periodic_padding2d (PrunePeriodicPadding2D)     (None, 183, 359, 1)                             0                 \n",
      "________________________________________________________________________________________________________________________\n",
      "resize_layer_1 (ResizeLayer)                          (None, 181, 360, 1)                             0                 \n",
      "========================================================================================================================\n",
      "Total params: 4,313\n",
      "Trainable params: 4,313\n",
      "Non-trainable params: 0\n",
      "________________________________________________________________________________________________________________________\n"
     ]
    }
   ],
   "source": [
    "autoencoder.summary(line_length=120)"
   ]
  },
  {
   "cell_type": "markdown",
   "metadata": {},
   "source": [
    "### fit "
   ]
  },
  {
   "cell_type": "markdown",
   "metadata": {},
   "source": [
    "### Note: run tensorboard with: \n",
    "        \n",
    "```\n",
    "tensorboard --logdir=./my_logs  --port=6006\n",
    "```\n",
    "<hr>"
   ]
  },
  {
   "cell_type": "code",
   "execution_count": 65,
   "metadata": {},
   "outputs": [],
   "source": [
    "# autoencoder.fit_generator(generator=data_train,\n",
    "#                     validation_data=data_val,\n",
    "#                     use_multiprocessing=True,\n",
    "#                     workers=6,epochs=n_epochs, \n",
    "#                     callbacks=[checkpoint_cb, early_stopping_cb, tensorboard_cb])"
   ]
  },
  {
   "cell_type": "code",
   "execution_count": 66,
   "metadata": {},
   "outputs": [
    {
     "name": "stdout",
     "output_type": "stream",
     "text": [
      "Epoch 1/20\n",
      "169/169 [==============================] - 63s 371ms/step - loss: 0.3977 - val_loss: 0.0967\n",
      "Epoch 2/20\n",
      "169/169 [==============================] - 60s 353ms/step - loss: 0.0754 - val_loss: 0.0642\n",
      "Epoch 3/20\n",
      "169/169 [==============================] - 62s 367ms/step - loss: 0.0595 - val_loss: 0.0566\n",
      "Epoch 4/20\n",
      "169/169 [==============================] - 61s 358ms/step - loss: 0.0523 - val_loss: 0.0489\n",
      "Epoch 5/20\n",
      "169/169 [==============================] - 59s 351ms/step - loss: 0.0456 - val_loss: 0.0442\n",
      "Epoch 6/20\n",
      "169/169 [==============================] - 60s 353ms/step - loss: 0.0423 - val_loss: 0.0417\n",
      "Epoch 7/20\n",
      "169/169 [==============================] - 59s 351ms/step - loss: 0.0401 - val_loss: 0.0398\n",
      "Epoch 8/20\n",
      "169/169 [==============================] - 60s 354ms/step - loss: 0.0385 - val_loss: 0.0385\n",
      "Epoch 9/20\n",
      "169/169 [==============================] - 60s 353ms/step - loss: 0.0371 - val_loss: 0.0371\n",
      "Epoch 10/20\n",
      "169/169 [==============================] - 60s 352ms/step - loss: 0.0357 - val_loss: 0.0356\n",
      "Epoch 11/20\n",
      "169/169 [==============================] - 60s 357ms/step - loss: 0.0345 - val_loss: 0.0346\n",
      "Epoch 12/20\n",
      "169/169 [==============================] - 60s 353ms/step - loss: 0.0336 - val_loss: 0.0337\n",
      "Epoch 13/20\n",
      "169/169 [==============================] - 60s 358ms/step - loss: 0.0329 - val_loss: 0.0331\n",
      "Epoch 14/20\n",
      "169/169 [==============================] - 60s 352ms/step - loss: 0.0323 - val_loss: 0.0327\n",
      "Epoch 15/20\n",
      "169/169 [==============================] - 60s 356ms/step - loss: 0.0319 - val_loss: 0.0322\n",
      "Epoch 16/20\n",
      "169/169 [==============================] - 60s 352ms/step - loss: 0.0315 - val_loss: 0.0320\n",
      "Epoch 17/20\n",
      "169/169 [==============================] - 60s 353ms/step - loss: 0.0312 - val_loss: 0.0317\n",
      "Epoch 18/20\n",
      "169/169 [==============================] - 60s 354ms/step - loss: 0.0309 - val_loss: 0.0312\n",
      "Epoch 19/20\n",
      "169/169 [==============================] - 60s 352ms/step - loss: 0.0306 - val_loss: 0.0315\n",
      "Epoch 20/20\n",
      "169/169 [==============================] - 60s 354ms/step - loss: 0.0303 - val_loss: 0.0307\n"
     ]
    }
   ],
   "source": [
    "history = autoencoder.fit(data_train, validation_data=data_val, epochs=n_epochs, callbacks=[checkpoint_cb, early_stopping_cb, tensorboard_cb])"
   ]
  },
  {
   "cell_type": "markdown",
   "metadata": {},
   "source": [
    "### save model "
   ]
  },
  {
   "cell_type": "code",
   "execution_count": 67,
   "metadata": {},
   "outputs": [],
   "source": [
    "saved_model = CWD / f\"saved_autoencoder_{run_id}_{n_epochs}_epochs_{compute}_fullCNN\" "
   ]
  },
  {
   "cell_type": "code",
   "execution_count": 68,
   "metadata": {},
   "outputs": [
    {
     "name": "stdout",
     "output_type": "stream",
     "text": [
      "WARNING:tensorflow:From /home/nicolasf/anaconda3/envs/TF_GPU/lib/python3.8/site-packages/tensorflow/python/ops/resource_variable_ops.py:1813: calling BaseResourceVariable.__init__ (from tensorflow.python.ops.resource_variable_ops) with constraint is deprecated and will be removed in a future version.\n",
      "Instructions for updating:\n",
      "If using Keras pass *_constraint arguments to layers.\n",
      "INFO:tensorflow:Assets written to: /home/nicolasf/research/Smart_Ideas/code/models/CNN/saved_autoencoder_run_2020_08_10-16_10_41_20_epochs_GPU_fullCNN/assets\n"
     ]
    }
   ],
   "source": [
    "keras.models.save_model(autoencoder, saved_model)"
   ]
  },
  {
   "cell_type": "markdown",
   "metadata": {},
   "source": [
    "### save history file "
   ]
  },
  {
   "cell_type": "code",
   "execution_count": 69,
   "metadata": {},
   "outputs": [],
   "source": [
    "import pickle"
   ]
  },
  {
   "cell_type": "code",
   "execution_count": 70,
   "metadata": {},
   "outputs": [],
   "source": [
    "saved_history = CWD / f\"saved_history_{run_id}_{n_epochs}_epochs_{compute}.pkl\" "
   ]
  },
  {
   "cell_type": "code",
   "execution_count": 71,
   "metadata": {},
   "outputs": [],
   "source": [
    "pickle.dump(autoencoder.history.history, open(saved_history, \"wb\"))"
   ]
  },
  {
   "cell_type": "markdown",
   "metadata": {},
   "source": [
    "### Some plots "
   ]
  },
  {
   "cell_type": "markdown",
   "metadata": {},
   "source": [
    "### validation data first batch "
   ]
  },
  {
   "cell_type": "code",
   "execution_count": 72,
   "metadata": {},
   "outputs": [
    {
     "data": {
      "text/plain": [
       "(32, 181, 360, 1)"
      ]
     },
     "execution_count": 72,
     "metadata": {},
     "output_type": "execute_result"
    }
   ],
   "source": [
    "data_val[0][0].shape"
   ]
  },
  {
   "cell_type": "markdown",
   "metadata": {},
   "source": [
    "### take one from the batch "
   ]
  },
  {
   "cell_type": "code",
   "execution_count": 73,
   "metadata": {},
   "outputs": [],
   "source": [
    "i = 10"
   ]
  },
  {
   "cell_type": "code",
   "execution_count": 74,
   "metadata": {},
   "outputs": [],
   "source": [
    "X = data_val[0][0][i:i+1,:,:,:]"
   ]
  },
  {
   "cell_type": "code",
   "execution_count": 75,
   "metadata": {},
   "outputs": [
    {
     "data": {
      "text/plain": [
       "(1, 181, 360, 1)"
      ]
     },
     "execution_count": 75,
     "metadata": {},
     "output_type": "execute_result"
    }
   ],
   "source": [
    "X.shape"
   ]
  },
  {
   "cell_type": "code",
   "execution_count": 76,
   "metadata": {},
   "outputs": [],
   "source": [
    "pred = autoencoder.predict(X)"
   ]
  },
  {
   "cell_type": "code",
   "execution_count": 77,
   "metadata": {},
   "outputs": [
    {
     "data": {
      "text/plain": [
       "(1, 181, 360, 1)"
      ]
     },
     "execution_count": 77,
     "metadata": {},
     "output_type": "execute_result"
    }
   ],
   "source": [
    "pred.shape"
   ]
  },
  {
   "cell_type": "code",
   "execution_count": 78,
   "metadata": {},
   "outputs": [],
   "source": [
    "pred = pred.squeeze()"
   ]
  },
  {
   "cell_type": "code",
   "execution_count": 79,
   "metadata": {},
   "outputs": [
    {
     "data": {
      "text/plain": [
       "<matplotlib.colorbar.Colorbar at 0x7f6718524490>"
      ]
     },
     "execution_count": 79,
     "metadata": {},
     "output_type": "execute_result"
    },
    {
     "data": {
      "image/png": "[encoded data removed]",
      "text/plain": [
       "<Figure size 720x720 with 2 Axes>"
      ]
     },
     "metadata": {
      "needs_background": "light"
     },
     "output_type": "display_data"
    }
   ],
   "source": [
    "f, ax = plt.subplots(figsize=(10,10))\n",
    "im = ax.imshow(data_val[0][0][i,::-1,:,0], vmin=-5, vmax=5, cmap=plt.cm.RdBu_r)\n",
    "plt.colorbar(im, shrink=0.4)"
   ]
  },
  {
   "cell_type": "code",
   "execution_count": 80,
   "metadata": {},
   "outputs": [
    {
     "data": {
      "text/plain": [
       "<matplotlib.colorbar.Colorbar at 0x7f67188c40d0>"
      ]
     },
     "execution_count": 80,
     "metadata": {},
     "output_type": "execute_result"
    },
    {
     "data": {
      "image/png": "[encoded data removed]",
      "text/plain": [
       "<Figure size 720x720 with 2 Axes>"
      ]
     },
     "metadata": {
      "needs_background": "light"
     },
     "output_type": "display_data"
    }
   ],
   "source": [
    "f, ax = plt.subplots(figsize=(10,10))\n",
    "im = ax.imshow(pred[::-1,:], vmin=-5, vmax=5, cmap=plt.cm.RdBu_r)  \n",
    "plt.colorbar(im, shrink=0.4)"
   ]
  },
  {
   "cell_type": "markdown",
   "metadata": {},
   "source": [
    "### Plots the training and validation loss "
   ]
  },
  {
   "cell_type": "code",
   "execution_count": 81,
   "metadata": {},
   "outputs": [
    {
     "data": {
      "image/png": "[encoded data removed]",
      "text/plain": [
       "<Figure size 432x288 with 1 Axes>"
      ]
     },
     "metadata": {
      "needs_background": "light"
     },
     "output_type": "display_data"
    }
   ],
   "source": [
    "f, ax = plt.subplots()\n",
    "pd.DataFrame(history.history).plot(ax=ax, marker='o')\n",
    "ax.grid(ls=':')"
   ]
  },
  {
   "cell_type": "code",
   "execution_count": 82,
   "metadata": {},
   "outputs": [
    {
     "data": {
      "text/html": [
       "<div>\n",
       "<style scoped>\n",
       "    .dataframe tbody tr th:only-of-type {\n",
       "        vertical-align: middle;\n",
       "    }\n",
       "\n",
       "    .dataframe tbody tr th {\n",
       "        vertical-align: top;\n",
       "    }\n",
       "\n",
       "    .dataframe thead th {\n",
       "        text-align: right;\n",
       "    }\n",
       "</style>\n",
       "<table border=\"1\" class=\"dataframe\">\n",
       "  <thead>\n",
       "    <tr style=\"text-align: right;\">\n",
       "      <th></th>\n",
       "      <th>loss</th>\n",
       "      <th>val_loss</th>\n",
       "    </tr>\n",
       "  </thead>\n",
       "  <tbody>\n",
       "    <tr>\n",
       "      <th>0</th>\n",
       "      <td>0.397713</td>\n",
       "      <td>0.096706</td>\n",
       "    </tr>\n",
       "    <tr>\n",
       "      <th>1</th>\n",
       "      <td>0.075403</td>\n",
       "      <td>0.064170</td>\n",
       "    </tr>\n",
       "    <tr>\n",
       "      <th>2</th>\n",
       "      <td>0.059488</td>\n",
       "      <td>0.056641</td>\n",
       "    </tr>\n",
       "    <tr>\n",
       "      <th>3</th>\n",
       "      <td>0.052319</td>\n",
       "      <td>0.048877</td>\n",
       "    </tr>\n",
       "    <tr>\n",
       "      <th>4</th>\n",
       "      <td>0.045604</td>\n",
       "      <td>0.044217</td>\n",
       "    </tr>\n",
       "    <tr>\n",
       "      <th>5</th>\n",
       "      <td>0.042275</td>\n",
       "      <td>0.041705</td>\n",
       "    </tr>\n",
       "    <tr>\n",
       "      <th>6</th>\n",
       "      <td>0.040108</td>\n",
       "      <td>0.039840</td>\n",
       "    </tr>\n",
       "    <tr>\n",
       "      <th>7</th>\n",
       "      <td>0.038503</td>\n",
       "      <td>0.038482</td>\n",
       "    </tr>\n",
       "    <tr>\n",
       "      <th>8</th>\n",
       "      <td>0.037059</td>\n",
       "      <td>0.037065</td>\n",
       "    </tr>\n",
       "    <tr>\n",
       "      <th>9</th>\n",
       "      <td>0.035663</td>\n",
       "      <td>0.035623</td>\n",
       "    </tr>\n",
       "    <tr>\n",
       "      <th>10</th>\n",
       "      <td>0.034468</td>\n",
       "      <td>0.034568</td>\n",
       "    </tr>\n",
       "    <tr>\n",
       "      <th>11</th>\n",
       "      <td>0.033571</td>\n",
       "      <td>0.033700</td>\n",
       "    </tr>\n",
       "    <tr>\n",
       "      <th>12</th>\n",
       "      <td>0.032871</td>\n",
       "      <td>0.033105</td>\n",
       "    </tr>\n",
       "    <tr>\n",
       "      <th>13</th>\n",
       "      <td>0.032334</td>\n",
       "      <td>0.032700</td>\n",
       "    </tr>\n",
       "    <tr>\n",
       "      <th>14</th>\n",
       "      <td>0.031901</td>\n",
       "      <td>0.032194</td>\n",
       "    </tr>\n",
       "    <tr>\n",
       "      <th>15</th>\n",
       "      <td>0.031517</td>\n",
       "      <td>0.032048</td>\n",
       "    </tr>\n",
       "    <tr>\n",
       "      <th>16</th>\n",
       "      <td>0.031192</td>\n",
       "      <td>0.031676</td>\n",
       "    </tr>\n",
       "    <tr>\n",
       "      <th>17</th>\n",
       "      <td>0.030891</td>\n",
       "      <td>0.031233</td>\n",
       "    </tr>\n",
       "    <tr>\n",
       "      <th>18</th>\n",
       "      <td>0.030590</td>\n",
       "      <td>0.031454</td>\n",
       "    </tr>\n",
       "    <tr>\n",
       "      <th>19</th>\n",
       "      <td>0.030308</td>\n",
       "      <td>0.030737</td>\n",
       "    </tr>\n",
       "  </tbody>\n",
       "</table>\n",
       "</div>"
      ],
      "text/plain": [
       "        loss  val_loss\n",
       "0   0.397713  0.096706\n",
       "1   0.075403  0.064170\n",
       "2   0.059488  0.056641\n",
       "3   0.052319  0.048877\n",
       "4   0.045604  0.044217\n",
       "5   0.042275  0.041705\n",
       "6   0.040108  0.039840\n",
       "7   0.038503  0.038482\n",
       "8   0.037059  0.037065\n",
       "9   0.035663  0.035623\n",
       "10  0.034468  0.034568\n",
       "11  0.033571  0.033700\n",
       "12  0.032871  0.033105\n",
       "13  0.032334  0.032700\n",
       "14  0.031901  0.032194\n",
       "15  0.031517  0.032048\n",
       "16  0.031192  0.031676\n",
       "17  0.030891  0.031233\n",
       "18  0.030590  0.031454\n",
       "19  0.030308  0.030737"
      ]
     },
     "execution_count": 82,
     "metadata": {},
     "output_type": "execute_result"
    }
   ],
   "source": [
    "pd.DataFrame(history.history)"
   ]
  }
 ],
 "metadata": {
  "kernelspec": {
   "display_name": "Python 3",
   "language": "python",
   "name": "python3"
  },
  "language_info": {
   "codemirror_mode": {
    "name": "ipython",
    "version": 3
   },
   "file_extension": ".py",
   "mimetype": "text/x-python",
   "name": "python",
   "nbconvert_exporter": "python",
   "pygments_lexer": "ipython3",
   "version": "3.8.3"
  }
 },
 "nbformat": 4,
 "nbformat_minor": 4
}
