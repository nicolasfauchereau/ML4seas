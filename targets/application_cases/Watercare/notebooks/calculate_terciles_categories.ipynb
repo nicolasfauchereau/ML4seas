{
 "cells": [
  {
   "cell_type": "code",
   "execution_count": 62,
   "metadata": {},
   "outputs": [],
   "source": [
    "application = 'Watercare'"
   ]
  },
  {
   "cell_type": "code",
   "execution_count": 63,
   "metadata": {},
   "outputs": [],
   "source": [
    "%matplotlib inline "
   ]
  },
  {
   "cell_type": "code",
   "execution_count": 64,
   "metadata": {},
   "outputs": [],
   "source": [
    "import pathlib"
   ]
  },
  {
   "cell_type": "code",
   "execution_count": 65,
   "metadata": {},
   "outputs": [],
   "source": [
    "from matplotlib import pyplot as plt "
   ]
  },
  {
   "cell_type": "code",
   "execution_count": 66,
   "metadata": {},
   "outputs": [],
   "source": [
    "import pandas as pd"
   ]
  },
  {
   "cell_type": "code",
   "execution_count": 67,
   "metadata": {},
   "outputs": [],
   "source": [
    "import numpy as np"
   ]
  },
  {
   "cell_type": "code",
   "execution_count": 68,
   "metadata": {},
   "outputs": [],
   "source": [
    "HOME = pathlib.Path.home()"
   ]
  },
  {
   "cell_type": "code",
   "execution_count": 69,
   "metadata": {},
   "outputs": [],
   "source": [
    "varname = 'RAIN_BC'"
   ]
  },
  {
   "cell_type": "code",
   "execution_count": 70,
   "metadata": {},
   "outputs": [],
   "source": [
    "stat = 'min'"
   ]
  },
  {
   "cell_type": "code",
   "execution_count": 71,
   "metadata": {},
   "outputs": [],
   "source": [
    "ipath = HOME.joinpath(f\"research/Smart_Ideas/outputs/targets/application_cases/{application}/SEASONAL/{varname}\")"
   ]
  },
  {
   "cell_type": "code",
   "execution_count": 72,
   "metadata": {},
   "outputs": [],
   "source": [
    "data = pd.read_csv(ipath.joinpath(f\"Seasonal_{varname}_{stat}_mean.csv\"), index_col=0, parse_dates=True)"
   ]
  },
  {
   "cell_type": "code",
   "execution_count": 73,
   "metadata": {},
   "outputs": [],
   "source": [
    "clim = data.loc['1981':'2010',:]"
   ]
  },
  {
   "cell_type": "code",
   "execution_count": 74,
   "metadata": {},
   "outputs": [
    {
     "data": {
      "text/html": [
       "<div>\n",
       "<style scoped>\n",
       "    .dataframe tbody tr th:only-of-type {\n",
       "        vertical-align: middle;\n",
       "    }\n",
       "\n",
       "    .dataframe tbody tr th {\n",
       "        vertical-align: top;\n",
       "    }\n",
       "\n",
       "    .dataframe thead th {\n",
       "        text-align: right;\n",
       "    }\n",
       "</style>\n",
       "<table border=\"1\" class=\"dataframe\">\n",
       "  <thead>\n",
       "    <tr style=\"text-align: right;\">\n",
       "      <th></th>\n",
       "      <th>Hunuas</th>\n",
       "      <th>Waitakere</th>\n",
       "    </tr>\n",
       "  </thead>\n",
       "  <tbody>\n",
       "    <tr>\n",
       "      <th>0.333333</th>\n",
       "      <td>3.522628</td>\n",
       "      <td>3.725182</td>\n",
       "    </tr>\n",
       "    <tr>\n",
       "      <th>0.666667</th>\n",
       "      <td>4.894695</td>\n",
       "      <td>5.099092</td>\n",
       "    </tr>\n",
       "  </tbody>\n",
       "</table>\n",
       "</div>"
      ],
      "text/plain": [
       "            Hunuas  Waitakere\n",
       "0.333333  3.522628   3.725182\n",
       "0.666667  4.894695   5.099092"
      ]
     },
     "execution_count": 74,
     "metadata": {},
     "output_type": "execute_result"
    }
   ],
   "source": [
    "clim.quantile(q=[1/3, 2/3])"
   ]
  },
  {
   "cell_type": "markdown",
   "metadata": {},
   "source": [
    "### now calculates the categories "
   ]
  },
  {
   "cell_type": "markdown",
   "metadata": {},
   "source": [
    "### function to make terciles given a Pandas Series"
   ]
  },
  {
   "cell_type": "code",
   "execution_count": 75,
   "metadata": {},
   "outputs": [],
   "source": [
    "def make_terciles(ts_series, climyears=['1981','2010'], num_quantiles=3): \n",
    "\n",
    "    if type(climyears[0] != str) or type(climyears[0] != str): \n",
    "        climyears = list(map(str, climyears))\n",
    "    \n",
    "    quantiles_dict = {}\n",
    "\n",
    "    quant_values = np.linspace(0, 1, num_quantiles + 1, endpoint=True)\n",
    "    \n",
    "    quant_values = quant_values[1:-1]\n",
    "    \n",
    "    col_labs = [f\"Q{int(x)}\" for x in (quant_values*100)]\n",
    "    \n",
    "    ts_series_cat = []\n",
    "\n",
    "    quantiles_list = []\n",
    "\n",
    "    for month in range(1, 13):\n",
    "\n",
    "        ts_series_m = ts_series[ts_series.index.month == month]\n",
    "\n",
    "        clim = ts_series_m.loc[climyears[0]:climyears[1],]\n",
    "\n",
    "        quantiles = [clim.quantile(q=q) for q in quant_values.tolist()]\n",
    "\n",
    "        quantiles_list.append(quantiles.copy())\n",
    "\n",
    "        quantiles.insert(0, -np.inf)\n",
    "\n",
    "        quantiles.append(np.inf)\n",
    "\n",
    "        ts_series_m_cats = pd.cut(ts_series_m, quantiles, labels=list(range(1, num_quantiles + 1)))\n",
    "\n",
    "        ts_series_cat.append(ts_series_m_cats)\n",
    "\n",
    "        del(quantiles)\n",
    "\n",
    "    ts_series_cat = pd.concat(ts_series_cat, axis=0)\n",
    "\n",
    "    ts_series_cat = ts_series_cat.sort_index()\n",
    "    \n",
    "    return ts_series_cat\n",
    "\n",
    "def demean(x, climyears=['1981','2010']): \n",
    "    \n",
    "    if type(climyears[0] != str) or type(climyears[0] != str): \n",
    "        climyears = list(map(str, climyears))\n",
    "    \n",
    "    return x - x.loc[climyears[0]:climyears[1],:].mean()"
   ]
  },
  {
   "cell_type": "code",
   "execution_count": 76,
   "metadata": {},
   "outputs": [],
   "source": [
    "num_quantiles = 3"
   ]
  },
  {
   "cell_type": "code",
   "execution_count": 77,
   "metadata": {},
   "outputs": [],
   "source": [
    "terciles_categories = data.apply(make_terciles, **{'climyears':[1981, 2010], 'num_quantiles':num_quantiles})"
   ]
  },
  {
   "cell_type": "code",
   "execution_count": 78,
   "metadata": {},
   "outputs": [],
   "source": [
    "anoms = data.groupby(data.index.month).apply(demean, **{'climyears':[1981, 2010]})"
   ]
  },
  {
   "cell_type": "code",
   "execution_count": 79,
   "metadata": {},
   "outputs": [],
   "source": [
    "df_all = pd.concat([terciles_categories, anoms], axis=1)"
   ]
  },
  {
   "cell_type": "code",
   "execution_count": 80,
   "metadata": {},
   "outputs": [
    {
     "data": {
      "text/html": [
       "<div>\n",
       "<style scoped>\n",
       "    .dataframe tbody tr th:only-of-type {\n",
       "        vertical-align: middle;\n",
       "    }\n",
       "\n",
       "    .dataframe tbody tr th {\n",
       "        vertical-align: top;\n",
       "    }\n",
       "\n",
       "    .dataframe thead th {\n",
       "        text-align: right;\n",
       "    }\n",
       "</style>\n",
       "<table border=\"1\" class=\"dataframe\">\n",
       "  <thead>\n",
       "    <tr style=\"text-align: right;\">\n",
       "      <th></th>\n",
       "      <th>Hunuas</th>\n",
       "      <th>Waitakere</th>\n",
       "      <th>Hunuas</th>\n",
       "      <th>Waitakere</th>\n",
       "    </tr>\n",
       "    <tr>\n",
       "      <th>time</th>\n",
       "      <th></th>\n",
       "      <th></th>\n",
       "      <th></th>\n",
       "      <th></th>\n",
       "    </tr>\n",
       "  </thead>\n",
       "  <tbody>\n",
       "    <tr>\n",
       "      <th>1979-03-31</th>\n",
       "      <td>3</td>\n",
       "      <td>3</td>\n",
       "      <td>1.849094</td>\n",
       "      <td>2.195274</td>\n",
       "    </tr>\n",
       "    <tr>\n",
       "      <th>1979-04-30</th>\n",
       "      <td>3</td>\n",
       "      <td>3</td>\n",
       "      <td>2.975399</td>\n",
       "      <td>3.564075</td>\n",
       "    </tr>\n",
       "    <tr>\n",
       "      <th>1979-05-31</th>\n",
       "      <td>3</td>\n",
       "      <td>3</td>\n",
       "      <td>0.831179</td>\n",
       "      <td>2.332098</td>\n",
       "    </tr>\n",
       "    <tr>\n",
       "      <th>1979-06-30</th>\n",
       "      <td>3</td>\n",
       "      <td>3</td>\n",
       "      <td>0.695597</td>\n",
       "      <td>2.404820</td>\n",
       "    </tr>\n",
       "    <tr>\n",
       "      <th>1979-07-31</th>\n",
       "      <td>3</td>\n",
       "      <td>3</td>\n",
       "      <td>2.061085</td>\n",
       "      <td>3.218922</td>\n",
       "    </tr>\n",
       "  </tbody>\n",
       "</table>\n",
       "</div>"
      ],
      "text/plain": [
       "            Hunuas  Waitakere    Hunuas  Waitakere\n",
       "time                                              \n",
       "1979-03-31       3          3  1.849094   2.195274\n",
       "1979-04-30       3          3  2.975399   3.564075\n",
       "1979-05-31       3          3  0.831179   2.332098\n",
       "1979-06-30       3          3  0.695597   2.404820\n",
       "1979-07-31       3          3  2.061085   3.218922"
      ]
     },
     "execution_count": 80,
     "metadata": {},
     "output_type": "execute_result"
    }
   ],
   "source": [
    "df_all.head()"
   ]
  },
  {
   "cell_type": "code",
   "execution_count": 81,
   "metadata": {},
   "outputs": [],
   "source": [
    "columns = ['Hunas_cat3', 'Waitakere_cat3', 'Hunas_anomalies', 'Waitakere_anomalies']"
   ]
  },
  {
   "cell_type": "code",
   "execution_count": 82,
   "metadata": {},
   "outputs": [],
   "source": [
    "df_all.columns = columns"
   ]
  },
  {
   "cell_type": "code",
   "execution_count": 83,
   "metadata": {},
   "outputs": [
    {
     "data": {
      "text/html": [
       "<div>\n",
       "<style scoped>\n",
       "    .dataframe tbody tr th:only-of-type {\n",
       "        vertical-align: middle;\n",
       "    }\n",
       "\n",
       "    .dataframe tbody tr th {\n",
       "        vertical-align: top;\n",
       "    }\n",
       "\n",
       "    .dataframe thead th {\n",
       "        text-align: right;\n",
       "    }\n",
       "</style>\n",
       "<table border=\"1\" class=\"dataframe\">\n",
       "  <thead>\n",
       "    <tr style=\"text-align: right;\">\n",
       "      <th></th>\n",
       "      <th>Hunas_cat3</th>\n",
       "      <th>Waitakere_cat3</th>\n",
       "      <th>Hunas_anomalies</th>\n",
       "      <th>Waitakere_anomalies</th>\n",
       "    </tr>\n",
       "    <tr>\n",
       "      <th>time</th>\n",
       "      <th></th>\n",
       "      <th></th>\n",
       "      <th></th>\n",
       "      <th></th>\n",
       "    </tr>\n",
       "  </thead>\n",
       "  <tbody>\n",
       "    <tr>\n",
       "      <th>1979-03-31</th>\n",
       "      <td>3</td>\n",
       "      <td>3</td>\n",
       "      <td>1.849094</td>\n",
       "      <td>2.195274</td>\n",
       "    </tr>\n",
       "    <tr>\n",
       "      <th>1979-04-30</th>\n",
       "      <td>3</td>\n",
       "      <td>3</td>\n",
       "      <td>2.975399</td>\n",
       "      <td>3.564075</td>\n",
       "    </tr>\n",
       "    <tr>\n",
       "      <th>1979-05-31</th>\n",
       "      <td>3</td>\n",
       "      <td>3</td>\n",
       "      <td>0.831179</td>\n",
       "      <td>2.332098</td>\n",
       "    </tr>\n",
       "    <tr>\n",
       "      <th>1979-06-30</th>\n",
       "      <td>3</td>\n",
       "      <td>3</td>\n",
       "      <td>0.695597</td>\n",
       "      <td>2.404820</td>\n",
       "    </tr>\n",
       "    <tr>\n",
       "      <th>1979-07-31</th>\n",
       "      <td>3</td>\n",
       "      <td>3</td>\n",
       "      <td>2.061085</td>\n",
       "      <td>3.218922</td>\n",
       "    </tr>\n",
       "  </tbody>\n",
       "</table>\n",
       "</div>"
      ],
      "text/plain": [
       "           Hunas_cat3 Waitakere_cat3  Hunas_anomalies  Waitakere_anomalies\n",
       "time                                                                      \n",
       "1979-03-31          3              3         1.849094             2.195274\n",
       "1979-04-30          3              3         2.975399             3.564075\n",
       "1979-05-31          3              3         0.831179             2.332098\n",
       "1979-06-30          3              3         0.695597             2.404820\n",
       "1979-07-31          3              3         2.061085             3.218922"
      ]
     },
     "execution_count": 83,
     "metadata": {},
     "output_type": "execute_result"
    }
   ],
   "source": [
    "df_all.head()"
   ]
  },
  {
   "cell_type": "markdown",
   "metadata": {},
   "source": [
    "### the categories are now encoded as a categorical variable"
   ]
  },
  {
   "cell_type": "code",
   "execution_count": 84,
   "metadata": {},
   "outputs": [
    {
     "data": {
      "text/plain": [
       "time\n",
       "1979-03-31    3\n",
       "1979-04-30    3\n",
       "1979-05-31    3\n",
       "1979-06-30    3\n",
       "1979-07-31    3\n",
       "             ..\n",
       "2019-08-31    1\n",
       "2019-09-30    3\n",
       "2019-10-31    3\n",
       "2019-11-30    2\n",
       "2019-12-31    1\n",
       "Name: Hunas_cat3, Length: 490, dtype: int64"
      ]
     },
     "execution_count": 84,
     "metadata": {},
     "output_type": "execute_result"
    }
   ],
   "source": [
    "df_all.Hunas_cat3.astype(np.int)"
   ]
  },
  {
   "cell_type": "markdown",
   "metadata": {},
   "source": [
    "### saves to disk "
   ]
  },
  {
   "cell_type": "code",
   "execution_count": 85,
   "metadata": {},
   "outputs": [],
   "source": [
    "df_all.to_csv(ipath.joinpath(f\"Seasonal_{varname}_{stat}_anomalies_and_Q{num_quantiles}_categories.csv\"))"
   ]
  },
  {
   "cell_type": "code",
   "execution_count": null,
   "metadata": {},
   "outputs": [],
   "source": []
  },
  {
   "cell_type": "code",
   "execution_count": null,
   "metadata": {},
   "outputs": [],
   "source": []
  }
 ],
 "metadata": {
  "kernelspec": {
   "display_name": "Python 3",
   "language": "python",
   "name": "python3"
  },
  "language_info": {
   "codemirror_mode": {
    "name": "ipython",
    "version": 3
   },
   "file_extension": ".py",
   "mimetype": "text/x-python",
   "name": "python",
   "nbconvert_exporter": "python",
   "pygments_lexer": "ipython3",
   "version": "3.8.5"
  }
 },
 "nbformat": 4,
 "nbformat_minor": 4
}
