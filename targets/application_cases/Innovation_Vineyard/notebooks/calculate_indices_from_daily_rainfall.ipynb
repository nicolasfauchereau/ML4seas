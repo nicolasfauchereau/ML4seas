{
 "cells": [
  {
   "cell_type": "code",
   "execution_count": 16,
   "metadata": {},
   "outputs": [],
   "source": [
    "application = 'Innovation_Vineyards'"
   ]
  },
  {
   "cell_type": "code",
   "execution_count": 17,
   "metadata": {},
   "outputs": [],
   "source": [
    "%matplotlib inline"
   ]
  },
  {
   "cell_type": "code",
   "execution_count": 18,
   "metadata": {},
   "outputs": [],
   "source": [
    "import pathlib\n",
    "from calendar import month_abbr"
   ]
  },
  {
   "cell_type": "code",
   "execution_count": 19,
   "metadata": {},
   "outputs": [],
   "source": [
    "from matplotlib import pyplot as plt "
   ]
  },
  {
   "cell_type": "code",
   "execution_count": 20,
   "metadata": {},
   "outputs": [],
   "source": [
    "import pandas as pd"
   ]
  },
  {
   "cell_type": "code",
   "execution_count": 21,
   "metadata": {},
   "outputs": [],
   "source": [
    "import numpy as np"
   ]
  },
  {
   "cell_type": "code",
   "execution_count": 22,
   "metadata": {},
   "outputs": [],
   "source": [
    "HOME = pathlib.Path.home()"
   ]
  },
  {
   "cell_type": "code",
   "execution_count": 23,
   "metadata": {},
   "outputs": [],
   "source": [
    "def demean(x): \n",
    "    return x - x.loc['1981':'2010',:].mean() "
   ]
  },
  {
   "cell_type": "markdown",
   "metadata": {},
   "source": [
    "### some definitions here "
   ]
  },
  {
   "cell_type": "code",
   "execution_count": 24,
   "metadata": {},
   "outputs": [],
   "source": [
    "exceedances = [1,5,10,15,20,25,30,35,40,45,50,55,60]"
   ]
  },
  {
   "cell_type": "code",
   "execution_count": 25,
   "metadata": {},
   "outputs": [],
   "source": [
    "varname = 'RAIN_BC'"
   ]
  },
  {
   "cell_type": "code",
   "execution_count": 26,
   "metadata": {},
   "outputs": [],
   "source": [
    "dpath = HOME.joinpath(f\"research/Smart_Ideas/outputs/targets/application_cases/{application}/DAILY/{varname}\")"
   ]
  },
  {
   "cell_type": "code",
   "execution_count": 27,
   "metadata": {},
   "outputs": [],
   "source": [
    "lfiles = list(dpath.glob(\"*.csv\"))"
   ]
  },
  {
   "cell_type": "code",
   "execution_count": 28,
   "metadata": {},
   "outputs": [
    {
     "data": {
      "image/png": "[encoded data removed]",
      "text/plain": [
       "<Figure size 432x288 with 1 Axes>"
      ]
     },
     "metadata": {
      "needs_background": "light"
     },
     "output_type": "display_data"
    }
   ],
   "source": [
    "dpath = HOME.joinpath(f\"research/Smart_Ideas/outputs/targets/application_cases/{application}/DAILY/{varname}\")\n",
    "\n",
    "lfiles = list(dpath.glob(\"*.csv\"))\n",
    "\n",
    "data = pd.read_csv(dpath.joinpath(f\"Daily_{varname}.csv\"), index_col=0, parse_dates=True)\n",
    "\n",
    "### remove the lat and lon \n",
    "data = data.iloc[:,[-1]]\n",
    "\n",
    "## ----------------------------------------------------------------------------------------------- \n",
    "## calculates the seasonal averages \n",
    "df_m = data.resample('1M').mean()\n",
    "\n",
    "df_s = df_m.rolling(window=3, min_periods=3).mean()\n",
    "\n",
    "df_s = df_s.iloc[2:,:]\n",
    "\n",
    "opath_seasonal = HOME.joinpath(f\"research/Smart_Ideas/outputs/targets/application_cases/{application}/SEASONAL/{varname}\")\n",
    "\n",
    "if not opath_seasonal.exists(): \n",
    "    opath_seasonal.mkdir(parents=True)\n",
    "\n",
    "df_s.to_csv(opath_seasonal.joinpath(f\"Seasonal_{varname}_mean.csv\"))\n",
    "\n",
    "### calculates the anomalies and saves to disk \n",
    "anoms = df_s.groupby(df_s.index.month).apply(demean)\n",
    "\n",
    "anoms.to_csv(opath_seasonal.joinpath(f\"Seasonal_{varname}_anomalies.csv\"))\n",
    "\n",
    "## ----------------------------------------------------------------------------------------------- \n",
    "## now calculates the exceedances (nb of days ABOVE threshold)\n",
    "for thresh in exceedances: \n",
    "\n",
    "    ### keep all the instances where values exceed thresholds, the other are set to `np.NaN`\n",
    "    df = data.where((data >= thresh))\n",
    "\n",
    "    ### set all instances that are non-null to 1\n",
    "    df = df.where(df.isnull(), 1)\n",
    "\n",
    "    ### number of days per month above the threshold\n",
    "    df_m = df.resample('1M').sum()\n",
    "\n",
    "    ### adds the number of days in month, in case we want to calculate the proportion \n",
    "    df_m.loc[:,'ndays'] = df_m.index.days_in_month \n",
    "\n",
    "    ### 3 months rolling accumulation \n",
    "    df_s = df_m.rolling(window=3, min_periods=3).sum()\n",
    "\n",
    "    ### remove the missing values \n",
    "    df_s = df_s.iloc[2:,:]\n",
    "\n",
    "    ### saves to disk \n",
    "    df_s.to_csv(opath_seasonal.joinpath(f\"Seasonal_{varname}_nbdays_over_{thresh}mm.csv\"))\n",
    "\n",
    "    ### plots the seasonal distribution of the number of days below threshold (1981-2010 climatology)\n",
    "    clim = df_s.loc['1981':'2010',:]\n",
    "\n",
    "    f, ax = plt.subplots()\n",
    "    clim.groupby(clim.index.month).mean().iloc[:,:-1].plot(ax=ax, marker='o')\n",
    "    ax.grid(ls=':')\n",
    "    ax.set_xticks(np.arange(1,12+1))\n",
    "    ax.set_xticklabels(month_abbr[1:]); \n",
    "    ax.set_title(f\"Seasonal distribution of {varname} nb days >= {thresh} mm\")\n",
    "    f.savefig(f'../figures/seasonal_distribution_{varname}_above_{thresh}mm.png', dpi=200, bbox_inches='tight')\n",
    "    plt.close(f)\n",
    "\n",
    "# calculate number of days BELOW threshold \n",
    "thresh = 0.1\n",
    "\n",
    "### keep all the instances where values exceed thresholds, the other are set to `np.NaN`\n",
    "df = data.where((data < thresh))\n",
    "\n",
    "### set all instances that are non-null to 1\n",
    "df = df.where(df.isnull(), 1)\n",
    "\n",
    "### number of days per month above or below the threshold\n",
    "df_m = df.resample('1M').sum()\n",
    "\n",
    "### adds the number of days in month, in case we want to calculate the proportion \n",
    "df_m.loc[:,'ndays'] = df_m.index.days_in_month \n",
    "\n",
    "### 3 months rolling accumulation \n",
    "df_s = df_m.rolling(window=3, min_periods=3).sum()\n",
    "\n",
    "### remove the missing values \n",
    "df_s = df_s.iloc[2:,:]\n",
    "\n",
    "### saves to disk \n",
    "df_s.to_csv(opath_seasonal.joinpath(f\"Seasonal_{varname}_nbdays_below_{thresh}mm.csv\"))\n",
    "\n",
    "### plots the seasonal distribution of the number of days below threshold \n",
    "clim = df_s.loc['1981':'2010',:]\n",
    "\n",
    "f, ax = plt.subplots()\n",
    "clim.groupby(clim.index.month).mean().iloc[:,:-1].plot(ax=ax, marker='o')\n",
    "ax.grid(ls=':')\n",
    "ax.set_xticks(np.arange(1,12+1))\n",
    "ax.set_xticklabels(month_abbr[1:]); \n",
    "ax.set_title(f\"Seasonal distribution of {varname} nb days < {thresh} mm\")\n",
    "f.savefig(f'../figures/seasonal_distribution_{varname}_below_{thresh}mm.png', dpi=200, bbox_inches='tight')"
   ]
  },
  {
   "cell_type": "code",
   "execution_count": null,
   "metadata": {},
   "outputs": [],
   "source": []
  }
 ],
 "metadata": {
  "kernelspec": {
   "display_name": "Python 3",
   "language": "python",
   "name": "python3"
  },
  "language_info": {
   "codemirror_mode": {
    "name": "ipython",
    "version": 3
   },
   "file_extension": ".py",
   "mimetype": "text/x-python",
   "name": "python",
   "nbconvert_exporter": "python",
   "pygments_lexer": "ipython3",
   "version": "3.8.5"
  }
 },
 "nbformat": 4,
 "nbformat_minor": 4
}
