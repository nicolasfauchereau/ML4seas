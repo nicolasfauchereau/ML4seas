{
 "cells": [
  {
   "cell_type": "markdown",
   "metadata": {},
   "source": [
    "# calculates the seasonal anomalies and the seasonal tercile categories from the gridded GCM"
   ]
  },
  {
   "cell_type": "code",
   "execution_count": 1,
   "metadata": {},
   "outputs": [],
   "source": [
    "# Paramaters \n",
    "provider = 'IRI'\n",
    "stage_in = 'processed'\n",
    "period = 'hindcasts'\n",
    "GCM = 'NASA_GEOSS2S'\n",
    "var_name = 'PRECIP'\n",
    "step = 3\n",
    "remove_tmp = True"
   ]
  },
  {
   "cell_type": "code",
   "execution_count": 2,
   "metadata": {},
   "outputs": [],
   "source": [
    "# gcms = ['NCEP_CFSv2','CanCM4i','CanSIPSv2', 'GEM_NEMO', 'NASA_GEOSS2S']"
   ]
  },
  {
   "cell_type": "code",
   "execution_count": 3,
   "metadata": {},
   "outputs": [],
   "source": [
    "%matplotlib inline "
   ]
  },
  {
   "cell_type": "code",
   "execution_count": 4,
   "metadata": {},
   "outputs": [],
   "source": [
    "from matplotlib import pyplot as plt"
   ]
  },
  {
   "cell_type": "code",
   "execution_count": 5,
   "metadata": {},
   "outputs": [],
   "source": [
    "import sys"
   ]
  },
  {
   "cell_type": "code",
   "execution_count": 6,
   "metadata": {},
   "outputs": [],
   "source": [
    "sys.path.append('../../utils')"
   ]
  },
  {
   "cell_type": "markdown",
   "metadata": {},
   "source": [
    "### set the root directory for loading the GCM outputs files "
   ]
  },
  {
   "cell_type": "code",
   "execution_count": 7,
   "metadata": {},
   "outputs": [],
   "source": [
    "from set_root_dir import set_root_dir"
   ]
  },
  {
   "cell_type": "code",
   "execution_count": 8,
   "metadata": {},
   "outputs": [],
   "source": [
    "dpath = set_root_dir(root='gdata')"
   ]
  },
  {
   "cell_type": "code",
   "execution_count": 9,
   "metadata": {},
   "outputs": [
    {
     "name": "stdout",
     "output_type": "stream",
     "text": [
      "/media/nicolasf/GDATA/END19101/Working/data\n"
     ]
    }
   ],
   "source": [
    "print(dpath)"
   ]
  },
  {
   "cell_type": "code",
   "execution_count": 10,
   "metadata": {},
   "outputs": [],
   "source": [
    "import os\n",
    "import pathlib\n",
    "from subprocess import call\n",
    "import shutil"
   ]
  },
  {
   "cell_type": "code",
   "execution_count": 11,
   "metadata": {},
   "outputs": [],
   "source": [
    "import salem \n",
    "import geopandas as gpd "
   ]
  },
  {
   "cell_type": "code",
   "execution_count": 12,
   "metadata": {},
   "outputs": [],
   "source": [
    "import numpy as np\n",
    "import pandas as pd "
   ]
  },
  {
   "cell_type": "code",
   "execution_count": 13,
   "metadata": {
    "collapsed": false,
    "jupyter": {
     "outputs_hidden": false
    }
   },
   "outputs": [],
   "source": [
    "import xarray as xr"
   ]
  },
  {
   "cell_type": "code",
   "execution_count": 14,
   "metadata": {},
   "outputs": [],
   "source": [
    "from cartopy import crs as ccrs"
   ]
  },
  {
   "cell_type": "code",
   "execution_count": 15,
   "metadata": {},
   "outputs": [],
   "source": [
    "from datetime import datetime, timedelta"
   ]
  },
  {
   "cell_type": "code",
   "execution_count": 16,
   "metadata": {},
   "outputs": [],
   "source": [
    "import calendar"
   ]
  },
  {
   "cell_type": "code",
   "execution_count": 17,
   "metadata": {},
   "outputs": [],
   "source": [
    "import dateutil"
   ]
  },
  {
   "cell_type": "markdown",
   "metadata": {},
   "source": [
    "### function to calculate the anomalies with respect to the 1981 - 2010 climatology "
   ]
  },
  {
   "cell_type": "code",
   "execution_count": 18,
   "metadata": {
    "collapsed": false,
    "jupyter": {
     "outputs_hidden": false
    }
   },
   "outputs": [],
   "source": [
    "def demean(x): \n",
    "    return x - x.loc['1981':'2010',].mean()"
   ]
  },
  {
   "cell_type": "code",
   "execution_count": 19,
   "metadata": {},
   "outputs": [
    {
     "data": {
      "text/plain": [
       "'PRECIP'"
      ]
     },
     "execution_count": 19,
     "metadata": {},
     "output_type": "execute_result"
    }
   ],
   "source": [
    "var_name"
   ]
  },
  {
   "cell_type": "code",
   "execution_count": 20,
   "metadata": {},
   "outputs": [
    {
     "data": {
      "text/plain": [
       "'NASA_GEOSS2S'"
      ]
     },
     "execution_count": 20,
     "metadata": {},
     "output_type": "execute_result"
    }
   ],
   "source": [
    "GCM"
   ]
  },
  {
   "cell_type": "markdown",
   "metadata": {},
   "source": [
    "### set the home directory "
   ]
  },
  {
   "cell_type": "code",
   "execution_count": 21,
   "metadata": {},
   "outputs": [],
   "source": [
    "HOME = pathlib.Path.home() "
   ]
  },
  {
   "cell_type": "markdown",
   "metadata": {},
   "source": [
    "### set the working directory "
   ]
  },
  {
   "cell_type": "code",
   "execution_count": 22,
   "metadata": {},
   "outputs": [],
   "source": [
    "CWD = pathlib.Path.cwd()"
   ]
  },
  {
   "cell_type": "markdown",
   "metadata": {},
   "source": [
    "#### input path for the GCM outputs "
   ]
  },
  {
   "cell_type": "code",
   "execution_count": 23,
   "metadata": {},
   "outputs": [],
   "source": [
    "ipath = dpath / 'GCMs' / stage_in / period / provider / GCM / var_name"
   ]
  },
  {
   "cell_type": "code",
   "execution_count": 24,
   "metadata": {},
   "outputs": [
    {
     "data": {
      "text/plain": [
       "PosixPath('/media/nicolasf/GDATA/END19101/Working/data/GCMs/processed/hindcasts/IRI/NASA_GEOSS2S/PRECIP')"
      ]
     },
     "execution_count": 24,
     "metadata": {},
     "output_type": "execute_result"
    }
   ],
   "source": [
    "ipath"
   ]
  },
  {
   "cell_type": "code",
   "execution_count": 25,
   "metadata": {},
   "outputs": [],
   "source": [
    "lfiles_gcm = list(ipath.glob(f\"{GCM}_{var_name}_seasonal_anomalies_????_??.nc\")) "
   ]
  },
  {
   "cell_type": "code",
   "execution_count": 26,
   "metadata": {},
   "outputs": [],
   "source": [
    "lfiles_gcm.sort()"
   ]
  },
  {
   "cell_type": "code",
   "execution_count": 27,
   "metadata": {},
   "outputs": [
    {
     "data": {
      "text/plain": [
       "PosixPath('/media/nicolasf/GDATA/END19101/Working/data/GCMs/processed/hindcasts/IRI/NASA_GEOSS2S/PRECIP/NASA_GEOSS2S_PRECIP_seasonal_anomalies_1981_02.nc')"
      ]
     },
     "execution_count": 27,
     "metadata": {},
     "output_type": "execute_result"
    }
   ],
   "source": [
    "lfiles_gcm[0]"
   ]
  },
  {
   "cell_type": "code",
   "execution_count": 28,
   "metadata": {},
   "outputs": [
    {
     "data": {
      "text/plain": [
       "PosixPath('/media/nicolasf/GDATA/END19101/Working/data/GCMs/processed/hindcasts/IRI/NASA_GEOSS2S/PRECIP/NASA_GEOSS2S_PRECIP_seasonal_anomalies_2016_12.nc')"
      ]
     },
     "execution_count": 28,
     "metadata": {},
     "output_type": "execute_result"
    }
   ],
   "source": [
    "lfiles_gcm[-1]"
   ]
  },
  {
   "cell_type": "code",
   "execution_count": 29,
   "metadata": {},
   "outputs": [],
   "source": [
    "ncks = \"/home/nicolasf/anaconda3/envs/NCO/bin/ncks\""
   ]
  },
  {
   "cell_type": "code",
   "execution_count": 30,
   "metadata": {},
   "outputs": [],
   "source": [
    "tmp_path = pathlib.Path.home() / 'data' / 'tmp'"
   ]
  },
  {
   "cell_type": "code",
   "execution_count": 31,
   "metadata": {},
   "outputs": [],
   "source": [
    "if not tmp_path.exists(): \n",
    "    tmp_path.mkdir(parents=True)"
   ]
  },
  {
   "cell_type": "markdown",
   "metadata": {},
   "source": [
    "### read files one by one (with SALEM), calculates the ensemble mean, select the step (3) extract the domain"
   ]
  },
  {
   "cell_type": "code",
   "execution_count": 32,
   "metadata": {},
   "outputs": [
    {
     "name": "stdout",
     "output_type": "stream",
     "text": [
      "processed NASA_GEOSS2S_PRECIP_seasonal_anomalies_1981_02.nc, ret code 0\n",
      "processed NASA_GEOSS2S_PRECIP_seasonal_anomalies_1981_03.nc, ret code 0\n",
      "processed NASA_GEOSS2S_PRECIP_seasonal_anomalies_1981_04.nc, ret code 0\n",
      "processed NASA_GEOSS2S_PRECIP_seasonal_anomalies_1981_05.nc, ret code 0\n",
      "processed NASA_GEOSS2S_PRECIP_seasonal_anomalies_1981_06.nc, ret code 0\n",
      "processed NASA_GEOSS2S_PRECIP_seasonal_anomalies_1981_07.nc, ret code 0\n",
      "processed NASA_GEOSS2S_PRECIP_seasonal_anomalies_1981_08.nc, ret code 0\n",
      "processed NASA_GEOSS2S_PRECIP_seasonal_anomalies_1981_09.nc, ret code 0\n",
      "processed NASA_GEOSS2S_PRECIP_seasonal_anomalies_1981_10.nc, ret code 0\n",
      "processed NASA_GEOSS2S_PRECIP_seasonal_anomalies_1981_11.nc, ret code 0\n",
      "processed NASA_GEOSS2S_PRECIP_seasonal_anomalies_1981_12.nc, ret code 0\n",
      "processed NASA_GEOSS2S_PRECIP_seasonal_anomalies_1982_01.nc, ret code 0\n",
      "processed NASA_GEOSS2S_PRECIP_seasonal_anomalies_1982_02.nc, ret code 0\n",
      "processed NASA_GEOSS2S_PRECIP_seasonal_anomalies_1982_03.nc, ret code 0\n",
      "processed NASA_GEOSS2S_PRECIP_seasonal_anomalies_1982_04.nc, ret code 0\n",
      "processed NASA_GEOSS2S_PRECIP_seasonal_anomalies_1982_05.nc, ret code 0\n",
      "processed NASA_GEOSS2S_PRECIP_seasonal_anomalies_1982_06.nc, ret code 0\n",
      "processed NASA_GEOSS2S_PRECIP_seasonal_anomalies_1982_07.nc, ret code 0\n",
      "processed NASA_GEOSS2S_PRECIP_seasonal_anomalies_1982_08.nc, ret code 0\n",
      "processed NASA_GEOSS2S_PRECIP_seasonal_anomalies_1982_09.nc, ret code 0\n",
      "processed NASA_GEOSS2S_PRECIP_seasonal_anomalies_1982_10.nc, ret code 0\n",
      "processed NASA_GEOSS2S_PRECIP_seasonal_anomalies_1982_11.nc, ret code 0\n",
      "processed NASA_GEOSS2S_PRECIP_seasonal_anomalies_1982_12.nc, ret code 0\n",
      "processed NASA_GEOSS2S_PRECIP_seasonal_anomalies_1983_01.nc, ret code 0\n",
      "processed NASA_GEOSS2S_PRECIP_seasonal_anomalies_1983_02.nc, ret code 0\n",
      "processed NASA_GEOSS2S_PRECIP_seasonal_anomalies_1983_03.nc, ret code 0\n",
      "processed NASA_GEOSS2S_PRECIP_seasonal_anomalies_1983_04.nc, ret code 0\n",
      "processed NASA_GEOSS2S_PRECIP_seasonal_anomalies_1983_05.nc, ret code 0\n",
      "processed NASA_GEOSS2S_PRECIP_seasonal_anomalies_1983_06.nc, ret code 0\n",
      "processed NASA_GEOSS2S_PRECIP_seasonal_anomalies_1983_07.nc, ret code 0\n",
      "processed NASA_GEOSS2S_PRECIP_seasonal_anomalies_1983_08.nc, ret code 0\n",
      "processed NASA_GEOSS2S_PRECIP_seasonal_anomalies_1983_09.nc, ret code 0\n",
      "processed NASA_GEOSS2S_PRECIP_seasonal_anomalies_1983_10.nc, ret code 0\n",
      "processed NASA_GEOSS2S_PRECIP_seasonal_anomalies_1983_11.nc, ret code 0\n",
      "processed NASA_GEOSS2S_PRECIP_seasonal_anomalies_1983_12.nc, ret code 0\n",
      "processed NASA_GEOSS2S_PRECIP_seasonal_anomalies_1984_01.nc, ret code 0\n",
      "processed NASA_GEOSS2S_PRECIP_seasonal_anomalies_1984_02.nc, ret code 0\n",
      "processed NASA_GEOSS2S_PRECIP_seasonal_anomalies_1984_03.nc, ret code 0\n",
      "processed NASA_GEOSS2S_PRECIP_seasonal_anomalies_1984_04.nc, ret code 0\n",
      "processed NASA_GEOSS2S_PRECIP_seasonal_anomalies_1984_05.nc, ret code 0\n",
      "processed NASA_GEOSS2S_PRECIP_seasonal_anomalies_1984_06.nc, ret code 0\n",
      "processed NASA_GEOSS2S_PRECIP_seasonal_anomalies_1984_07.nc, ret code 0\n",
      "processed NASA_GEOSS2S_PRECIP_seasonal_anomalies_1984_08.nc, ret code 0\n",
      "processed NASA_GEOSS2S_PRECIP_seasonal_anomalies_1984_09.nc, ret code 0\n",
      "processed NASA_GEOSS2S_PRECIP_seasonal_anomalies_1984_10.nc, ret code 0\n",
      "processed NASA_GEOSS2S_PRECIP_seasonal_anomalies_1984_11.nc, ret code 0\n",
      "processed NASA_GEOSS2S_PRECIP_seasonal_anomalies_1984_12.nc, ret code 0\n",
      "processed NASA_GEOSS2S_PRECIP_seasonal_anomalies_1985_01.nc, ret code 0\n",
      "processed NASA_GEOSS2S_PRECIP_seasonal_anomalies_1985_02.nc, ret code 0\n",
      "processed NASA_GEOSS2S_PRECIP_seasonal_anomalies_1985_03.nc, ret code 0\n",
      "processed NASA_GEOSS2S_PRECIP_seasonal_anomalies_1985_04.nc, ret code 0\n",
      "processed NASA_GEOSS2S_PRECIP_seasonal_anomalies_1985_05.nc, ret code 0\n",
      "processed NASA_GEOSS2S_PRECIP_seasonal_anomalies_1985_06.nc, ret code 0\n",
      "processed NASA_GEOSS2S_PRECIP_seasonal_anomalies_1985_07.nc, ret code 0\n",
      "processed NASA_GEOSS2S_PRECIP_seasonal_anomalies_1985_08.nc, ret code 0\n",
      "processed NASA_GEOSS2S_PRECIP_seasonal_anomalies_1985_09.nc, ret code 0\n",
      "processed NASA_GEOSS2S_PRECIP_seasonal_anomalies_1985_10.nc, ret code 0\n",
      "processed NASA_GEOSS2S_PRECIP_seasonal_anomalies_1985_11.nc, ret code 0\n",
      "processed NASA_GEOSS2S_PRECIP_seasonal_anomalies_1985_12.nc, ret code 0\n",
      "processed NASA_GEOSS2S_PRECIP_seasonal_anomalies_1986_01.nc, ret code 0\n",
      "processed NASA_GEOSS2S_PRECIP_seasonal_anomalies_1986_02.nc, ret code 0\n",
      "processed NASA_GEOSS2S_PRECIP_seasonal_anomalies_1986_03.nc, ret code 0\n",
      "processed NASA_GEOSS2S_PRECIP_seasonal_anomalies_1986_04.nc, ret code 0\n",
      "processed NASA_GEOSS2S_PRECIP_seasonal_anomalies_1986_05.nc, ret code 0\n",
      "processed NASA_GEOSS2S_PRECIP_seasonal_anomalies_1986_06.nc, ret code 0\n",
      "processed NASA_GEOSS2S_PRECIP_seasonal_anomalies_1986_07.nc, ret code 0\n",
      "processed NASA_GEOSS2S_PRECIP_seasonal_anomalies_1986_08.nc, ret code 0\n",
      "processed NASA_GEOSS2S_PRECIP_seasonal_anomalies_1986_09.nc, ret code 0\n",
      "processed NASA_GEOSS2S_PRECIP_seasonal_anomalies_1986_10.nc, ret code 0\n",
      "processed NASA_GEOSS2S_PRECIP_seasonal_anomalies_1986_11.nc, ret code 0\n",
      "processed NASA_GEOSS2S_PRECIP_seasonal_anomalies_1986_12.nc, ret code 0\n",
      "processed NASA_GEOSS2S_PRECIP_seasonal_anomalies_1987_01.nc, ret code 0\n",
      "processed NASA_GEOSS2S_PRECIP_seasonal_anomalies_1987_02.nc, ret code 0\n",
      "processed NASA_GEOSS2S_PRECIP_seasonal_anomalies_1987_03.nc, ret code 0\n",
      "processed NASA_GEOSS2S_PRECIP_seasonal_anomalies_1987_04.nc, ret code 0\n",
      "processed NASA_GEOSS2S_PRECIP_seasonal_anomalies_1987_05.nc, ret code 0\n",
      "processed NASA_GEOSS2S_PRECIP_seasonal_anomalies_1987_06.nc, ret code 0\n",
      "processed NASA_GEOSS2S_PRECIP_seasonal_anomalies_1987_07.nc, ret code 0\n",
      "processed NASA_GEOSS2S_PRECIP_seasonal_anomalies_1987_08.nc, ret code 0\n",
      "processed NASA_GEOSS2S_PRECIP_seasonal_anomalies_1987_09.nc, ret code 0\n",
      "processed NASA_GEOSS2S_PRECIP_seasonal_anomalies_1987_10.nc, ret code 0\n",
      "processed NASA_GEOSS2S_PRECIP_seasonal_anomalies_1987_11.nc, ret code 0\n",
      "processed NASA_GEOSS2S_PRECIP_seasonal_anomalies_1987_12.nc, ret code 0\n",
      "processed NASA_GEOSS2S_PRECIP_seasonal_anomalies_1988_01.nc, ret code 0\n",
      "processed NASA_GEOSS2S_PRECIP_seasonal_anomalies_1988_02.nc, ret code 0\n",
      "processed NASA_GEOSS2S_PRECIP_seasonal_anomalies_1988_03.nc, ret code 0\n",
      "processed NASA_GEOSS2S_PRECIP_seasonal_anomalies_1988_04.nc, ret code 0\n",
      "processed NASA_GEOSS2S_PRECIP_seasonal_anomalies_1988_05.nc, ret code 0\n",
      "processed NASA_GEOSS2S_PRECIP_seasonal_anomalies_1988_06.nc, ret code 0\n",
      "processed NASA_GEOSS2S_PRECIP_seasonal_anomalies_1988_07.nc, ret code 0\n",
      "processed NASA_GEOSS2S_PRECIP_seasonal_anomalies_1988_08.nc, ret code 0\n",
      "processed NASA_GEOSS2S_PRECIP_seasonal_anomalies_1988_09.nc, ret code 0\n",
      "processed NASA_GEOSS2S_PRECIP_seasonal_anomalies_1988_10.nc, ret code 0\n",
      "processed NASA_GEOSS2S_PRECIP_seasonal_anomalies_1988_11.nc, ret code 0\n",
      "processed NASA_GEOSS2S_PRECIP_seasonal_anomalies_1988_12.nc, ret code 0\n",
      "processed NASA_GEOSS2S_PRECIP_seasonal_anomalies_1989_01.nc, ret code 0\n",
      "processed NASA_GEOSS2S_PRECIP_seasonal_anomalies_1989_02.nc, ret code 0\n",
      "processed NASA_GEOSS2S_PRECIP_seasonal_anomalies_1989_03.nc, ret code 0\n",
      "processed NASA_GEOSS2S_PRECIP_seasonal_anomalies_1989_04.nc, ret code 0\n",
      "processed NASA_GEOSS2S_PRECIP_seasonal_anomalies_1989_05.nc, ret code 0\n",
      "processed NASA_GEOSS2S_PRECIP_seasonal_anomalies_1989_06.nc, ret code 0\n",
      "processed NASA_GEOSS2S_PRECIP_seasonal_anomalies_1989_07.nc, ret code 0\n",
      "processed NASA_GEOSS2S_PRECIP_seasonal_anomalies_1989_08.nc, ret code 0\n",
      "processed NASA_GEOSS2S_PRECIP_seasonal_anomalies_1989_09.nc, ret code 0\n",
      "processed NASA_GEOSS2S_PRECIP_seasonal_anomalies_1989_10.nc, ret code 0\n",
      "processed NASA_GEOSS2S_PRECIP_seasonal_anomalies_1989_11.nc, ret code 0\n",
      "processed NASA_GEOSS2S_PRECIP_seasonal_anomalies_1989_12.nc, ret code 0\n",
      "processed NASA_GEOSS2S_PRECIP_seasonal_anomalies_1990_01.nc, ret code 0\n",
      "processed NASA_GEOSS2S_PRECIP_seasonal_anomalies_1990_02.nc, ret code 0\n",
      "processed NASA_GEOSS2S_PRECIP_seasonal_anomalies_1990_03.nc, ret code 0\n",
      "processed NASA_GEOSS2S_PRECIP_seasonal_anomalies_1990_04.nc, ret code 0\n",
      "processed NASA_GEOSS2S_PRECIP_seasonal_anomalies_1990_05.nc, ret code 0\n",
      "processed NASA_GEOSS2S_PRECIP_seasonal_anomalies_1990_06.nc, ret code 0\n",
      "processed NASA_GEOSS2S_PRECIP_seasonal_anomalies_1990_07.nc, ret code 0\n",
      "processed NASA_GEOSS2S_PRECIP_seasonal_anomalies_1990_08.nc, ret code 0\n",
      "processed NASA_GEOSS2S_PRECIP_seasonal_anomalies_1990_09.nc, ret code 0\n",
      "processed NASA_GEOSS2S_PRECIP_seasonal_anomalies_1990_10.nc, ret code 0\n",
      "processed NASA_GEOSS2S_PRECIP_seasonal_anomalies_1990_11.nc, ret code 0\n",
      "processed NASA_GEOSS2S_PRECIP_seasonal_anomalies_1990_12.nc, ret code 0\n",
      "processed NASA_GEOSS2S_PRECIP_seasonal_anomalies_1991_01.nc, ret code 0\n",
      "processed NASA_GEOSS2S_PRECIP_seasonal_anomalies_1991_02.nc, ret code 0\n",
      "processed NASA_GEOSS2S_PRECIP_seasonal_anomalies_1991_03.nc, ret code 0\n",
      "processed NASA_GEOSS2S_PRECIP_seasonal_anomalies_1991_04.nc, ret code 0\n",
      "processed NASA_GEOSS2S_PRECIP_seasonal_anomalies_1991_05.nc, ret code 0\n",
      "processed NASA_GEOSS2S_PRECIP_seasonal_anomalies_1991_06.nc, ret code 0\n",
      "processed NASA_GEOSS2S_PRECIP_seasonal_anomalies_1991_07.nc, ret code 0\n",
      "processed NASA_GEOSS2S_PRECIP_seasonal_anomalies_1991_08.nc, ret code 0\n",
      "processed NASA_GEOSS2S_PRECIP_seasonal_anomalies_1991_09.nc, ret code 0\n",
      "processed NASA_GEOSS2S_PRECIP_seasonal_anomalies_1991_10.nc, ret code 0\n",
      "processed NASA_GEOSS2S_PRECIP_seasonal_anomalies_1991_11.nc, ret code 0\n",
      "processed NASA_GEOSS2S_PRECIP_seasonal_anomalies_1991_12.nc, ret code 0\n",
      "processed NASA_GEOSS2S_PRECIP_seasonal_anomalies_1992_01.nc, ret code 0\n",
      "processed NASA_GEOSS2S_PRECIP_seasonal_anomalies_1992_02.nc, ret code 0\n",
      "processed NASA_GEOSS2S_PRECIP_seasonal_anomalies_1992_03.nc, ret code 0\n",
      "processed NASA_GEOSS2S_PRECIP_seasonal_anomalies_1992_04.nc, ret code 0\n",
      "processed NASA_GEOSS2S_PRECIP_seasonal_anomalies_1992_05.nc, ret code 0\n",
      "processed NASA_GEOSS2S_PRECIP_seasonal_anomalies_1992_06.nc, ret code 0\n",
      "processed NASA_GEOSS2S_PRECIP_seasonal_anomalies_1992_07.nc, ret code 0\n",
      "processed NASA_GEOSS2S_PRECIP_seasonal_anomalies_1992_08.nc, ret code 0\n",
      "processed NASA_GEOSS2S_PRECIP_seasonal_anomalies_1992_09.nc, ret code 0\n",
      "processed NASA_GEOSS2S_PRECIP_seasonal_anomalies_1992_10.nc, ret code 0\n",
      "processed NASA_GEOSS2S_PRECIP_seasonal_anomalies_1992_11.nc, ret code 0\n",
      "processed NASA_GEOSS2S_PRECIP_seasonal_anomalies_1992_12.nc, ret code 0\n",
      "processed NASA_GEOSS2S_PRECIP_seasonal_anomalies_1993_01.nc, ret code 0\n",
      "processed NASA_GEOSS2S_PRECIP_seasonal_anomalies_1993_02.nc, ret code 0\n",
      "processed NASA_GEOSS2S_PRECIP_seasonal_anomalies_1993_03.nc, ret code 0\n",
      "processed NASA_GEOSS2S_PRECIP_seasonal_anomalies_1993_04.nc, ret code 0\n",
      "processed NASA_GEOSS2S_PRECIP_seasonal_anomalies_1993_05.nc, ret code 0\n",
      "processed NASA_GEOSS2S_PRECIP_seasonal_anomalies_1993_06.nc, ret code 0\n",
      "processed NASA_GEOSS2S_PRECIP_seasonal_anomalies_1993_07.nc, ret code 0\n",
      "processed NASA_GEOSS2S_PRECIP_seasonal_anomalies_1993_08.nc, ret code 0\n",
      "processed NASA_GEOSS2S_PRECIP_seasonal_anomalies_1993_09.nc, ret code 0\n",
      "processed NASA_GEOSS2S_PRECIP_seasonal_anomalies_1993_10.nc, ret code 0\n",
      "processed NASA_GEOSS2S_PRECIP_seasonal_anomalies_1993_11.nc, ret code 0\n",
      "processed NASA_GEOSS2S_PRECIP_seasonal_anomalies_1993_12.nc, ret code 0\n",
      "processed NASA_GEOSS2S_PRECIP_seasonal_anomalies_1994_01.nc, ret code 0\n",
      "processed NASA_GEOSS2S_PRECIP_seasonal_anomalies_1994_02.nc, ret code 0\n",
      "processed NASA_GEOSS2S_PRECIP_seasonal_anomalies_1994_03.nc, ret code 0\n",
      "processed NASA_GEOSS2S_PRECIP_seasonal_anomalies_1994_04.nc, ret code 0\n",
      "processed NASA_GEOSS2S_PRECIP_seasonal_anomalies_1994_05.nc, ret code 0\n",
      "processed NASA_GEOSS2S_PRECIP_seasonal_anomalies_1994_06.nc, ret code 0\n",
      "processed NASA_GEOSS2S_PRECIP_seasonal_anomalies_1994_07.nc, ret code 0\n",
      "processed NASA_GEOSS2S_PRECIP_seasonal_anomalies_1994_08.nc, ret code 0\n",
      "processed NASA_GEOSS2S_PRECIP_seasonal_anomalies_1994_09.nc, ret code 0\n",
      "processed NASA_GEOSS2S_PRECIP_seasonal_anomalies_1994_10.nc, ret code 0\n",
      "processed NASA_GEOSS2S_PRECIP_seasonal_anomalies_1994_11.nc, ret code 0\n",
      "processed NASA_GEOSS2S_PRECIP_seasonal_anomalies_1994_12.nc, ret code 0\n",
      "processed NASA_GEOSS2S_PRECIP_seasonal_anomalies_1995_01.nc, ret code 0\n",
      "processed NASA_GEOSS2S_PRECIP_seasonal_anomalies_1995_02.nc, ret code 0\n",
      "processed NASA_GEOSS2S_PRECIP_seasonal_anomalies_1995_03.nc, ret code 0\n",
      "processed NASA_GEOSS2S_PRECIP_seasonal_anomalies_1995_04.nc, ret code 0\n",
      "processed NASA_GEOSS2S_PRECIP_seasonal_anomalies_1995_05.nc, ret code 0\n",
      "processed NASA_GEOSS2S_PRECIP_seasonal_anomalies_1995_06.nc, ret code 0\n",
      "processed NASA_GEOSS2S_PRECIP_seasonal_anomalies_1995_07.nc, ret code 0\n",
      "processed NASA_GEOSS2S_PRECIP_seasonal_anomalies_1995_08.nc, ret code 0\n",
      "processed NASA_GEOSS2S_PRECIP_seasonal_anomalies_1995_09.nc, ret code 0\n",
      "processed NASA_GEOSS2S_PRECIP_seasonal_anomalies_1995_10.nc, ret code 0\n",
      "processed NASA_GEOSS2S_PRECIP_seasonal_anomalies_1995_11.nc, ret code 0\n",
      "processed NASA_GEOSS2S_PRECIP_seasonal_anomalies_1995_12.nc, ret code 0\n",
      "processed NASA_GEOSS2S_PRECIP_seasonal_anomalies_1996_01.nc, ret code 0\n",
      "processed NASA_GEOSS2S_PRECIP_seasonal_anomalies_1996_02.nc, ret code 0\n",
      "processed NASA_GEOSS2S_PRECIP_seasonal_anomalies_1996_03.nc, ret code 0\n",
      "processed NASA_GEOSS2S_PRECIP_seasonal_anomalies_1996_04.nc, ret code 0\n",
      "processed NASA_GEOSS2S_PRECIP_seasonal_anomalies_1996_05.nc, ret code 0\n",
      "processed NASA_GEOSS2S_PRECIP_seasonal_anomalies_1996_06.nc, ret code 0\n",
      "processed NASA_GEOSS2S_PRECIP_seasonal_anomalies_1996_07.nc, ret code 0\n",
      "processed NASA_GEOSS2S_PRECIP_seasonal_anomalies_1996_08.nc, ret code 0\n",
      "processed NASA_GEOSS2S_PRECIP_seasonal_anomalies_1996_09.nc, ret code 0\n",
      "processed NASA_GEOSS2S_PRECIP_seasonal_anomalies_1996_10.nc, ret code 0\n",
      "processed NASA_GEOSS2S_PRECIP_seasonal_anomalies_1996_11.nc, ret code 0\n",
      "processed NASA_GEOSS2S_PRECIP_seasonal_anomalies_1996_12.nc, ret code 0\n",
      "processed NASA_GEOSS2S_PRECIP_seasonal_anomalies_1997_01.nc, ret code 0\n",
      "processed NASA_GEOSS2S_PRECIP_seasonal_anomalies_1997_02.nc, ret code 0\n",
      "processed NASA_GEOSS2S_PRECIP_seasonal_anomalies_1997_03.nc, ret code 0\n",
      "processed NASA_GEOSS2S_PRECIP_seasonal_anomalies_1997_04.nc, ret code 0\n",
      "processed NASA_GEOSS2S_PRECIP_seasonal_anomalies_1997_05.nc, ret code 0\n",
      "processed NASA_GEOSS2S_PRECIP_seasonal_anomalies_1997_06.nc, ret code 0\n",
      "processed NASA_GEOSS2S_PRECIP_seasonal_anomalies_1997_07.nc, ret code 0\n",
      "processed NASA_GEOSS2S_PRECIP_seasonal_anomalies_1997_08.nc, ret code 0\n",
      "processed NASA_GEOSS2S_PRECIP_seasonal_anomalies_1997_09.nc, ret code 0\n",
      "processed NASA_GEOSS2S_PRECIP_seasonal_anomalies_1997_10.nc, ret code 0\n",
      "processed NASA_GEOSS2S_PRECIP_seasonal_anomalies_1997_11.nc, ret code 0\n",
      "processed NASA_GEOSS2S_PRECIP_seasonal_anomalies_1997_12.nc, ret code 0\n",
      "processed NASA_GEOSS2S_PRECIP_seasonal_anomalies_1998_01.nc, ret code 0\n",
      "processed NASA_GEOSS2S_PRECIP_seasonal_anomalies_1998_02.nc, ret code 0\n",
      "processed NASA_GEOSS2S_PRECIP_seasonal_anomalies_1998_03.nc, ret code 0\n",
      "processed NASA_GEOSS2S_PRECIP_seasonal_anomalies_1998_04.nc, ret code 0\n",
      "processed NASA_GEOSS2S_PRECIP_seasonal_anomalies_1998_05.nc, ret code 0\n",
      "processed NASA_GEOSS2S_PRECIP_seasonal_anomalies_1998_06.nc, ret code 0\n",
      "processed NASA_GEOSS2S_PRECIP_seasonal_anomalies_1998_07.nc, ret code 0\n",
      "processed NASA_GEOSS2S_PRECIP_seasonal_anomalies_1998_08.nc, ret code 0\n",
      "processed NASA_GEOSS2S_PRECIP_seasonal_anomalies_1998_09.nc, ret code 0\n",
      "processed NASA_GEOSS2S_PRECIP_seasonal_anomalies_1998_10.nc, ret code 0\n",
      "processed NASA_GEOSS2S_PRECIP_seasonal_anomalies_1998_11.nc, ret code 0\n",
      "processed NASA_GEOSS2S_PRECIP_seasonal_anomalies_1998_12.nc, ret code 0\n",
      "processed NASA_GEOSS2S_PRECIP_seasonal_anomalies_1999_01.nc, ret code 0\n",
      "processed NASA_GEOSS2S_PRECIP_seasonal_anomalies_1999_02.nc, ret code 0\n",
      "processed NASA_GEOSS2S_PRECIP_seasonal_anomalies_1999_03.nc, ret code 0\n",
      "processed NASA_GEOSS2S_PRECIP_seasonal_anomalies_1999_04.nc, ret code 0\n",
      "processed NASA_GEOSS2S_PRECIP_seasonal_anomalies_1999_05.nc, ret code 0\n",
      "processed NASA_GEOSS2S_PRECIP_seasonal_anomalies_1999_06.nc, ret code 0\n",
      "processed NASA_GEOSS2S_PRECIP_seasonal_anomalies_1999_07.nc, ret code 0\n",
      "processed NASA_GEOSS2S_PRECIP_seasonal_anomalies_1999_08.nc, ret code 0\n",
      "processed NASA_GEOSS2S_PRECIP_seasonal_anomalies_1999_09.nc, ret code 0\n",
      "processed NASA_GEOSS2S_PRECIP_seasonal_anomalies_1999_10.nc, ret code 0\n",
      "processed NASA_GEOSS2S_PRECIP_seasonal_anomalies_1999_11.nc, ret code 0\n",
      "processed NASA_GEOSS2S_PRECIP_seasonal_anomalies_1999_12.nc, ret code 0\n",
      "processed NASA_GEOSS2S_PRECIP_seasonal_anomalies_2000_01.nc, ret code 0\n",
      "processed NASA_GEOSS2S_PRECIP_seasonal_anomalies_2000_02.nc, ret code 0\n",
      "processed NASA_GEOSS2S_PRECIP_seasonal_anomalies_2000_03.nc, ret code 0\n",
      "processed NASA_GEOSS2S_PRECIP_seasonal_anomalies_2000_04.nc, ret code 0\n",
      "processed NASA_GEOSS2S_PRECIP_seasonal_anomalies_2000_05.nc, ret code 0\n",
      "processed NASA_GEOSS2S_PRECIP_seasonal_anomalies_2000_06.nc, ret code 0\n",
      "processed NASA_GEOSS2S_PRECIP_seasonal_anomalies_2000_07.nc, ret code 0\n",
      "processed NASA_GEOSS2S_PRECIP_seasonal_anomalies_2000_08.nc, ret code 0\n",
      "processed NASA_GEOSS2S_PRECIP_seasonal_anomalies_2000_09.nc, ret code 0\n",
      "processed NASA_GEOSS2S_PRECIP_seasonal_anomalies_2000_10.nc, ret code 0\n",
      "processed NASA_GEOSS2S_PRECIP_seasonal_anomalies_2000_11.nc, ret code 0\n",
      "processed NASA_GEOSS2S_PRECIP_seasonal_anomalies_2000_12.nc, ret code 0\n",
      "processed NASA_GEOSS2S_PRECIP_seasonal_anomalies_2001_01.nc, ret code 0\n",
      "processed NASA_GEOSS2S_PRECIP_seasonal_anomalies_2001_02.nc, ret code 0\n",
      "processed NASA_GEOSS2S_PRECIP_seasonal_anomalies_2001_03.nc, ret code 0\n",
      "processed NASA_GEOSS2S_PRECIP_seasonal_anomalies_2001_04.nc, ret code 0\n",
      "processed NASA_GEOSS2S_PRECIP_seasonal_anomalies_2001_05.nc, ret code 0\n",
      "processed NASA_GEOSS2S_PRECIP_seasonal_anomalies_2001_06.nc, ret code 0\n",
      "processed NASA_GEOSS2S_PRECIP_seasonal_anomalies_2001_07.nc, ret code 0\n",
      "processed NASA_GEOSS2S_PRECIP_seasonal_anomalies_2001_08.nc, ret code 0\n",
      "processed NASA_GEOSS2S_PRECIP_seasonal_anomalies_2001_09.nc, ret code 0\n",
      "processed NASA_GEOSS2S_PRECIP_seasonal_anomalies_2001_10.nc, ret code 0\n",
      "processed NASA_GEOSS2S_PRECIP_seasonal_anomalies_2001_11.nc, ret code 0\n",
      "processed NASA_GEOSS2S_PRECIP_seasonal_anomalies_2001_12.nc, ret code 0\n",
      "processed NASA_GEOSS2S_PRECIP_seasonal_anomalies_2002_01.nc, ret code 0\n",
      "processed NASA_GEOSS2S_PRECIP_seasonal_anomalies_2002_02.nc, ret code 0\n",
      "processed NASA_GEOSS2S_PRECIP_seasonal_anomalies_2002_03.nc, ret code 0\n",
      "processed NASA_GEOSS2S_PRECIP_seasonal_anomalies_2002_04.nc, ret code 0\n",
      "processed NASA_GEOSS2S_PRECIP_seasonal_anomalies_2002_05.nc, ret code 0\n",
      "processed NASA_GEOSS2S_PRECIP_seasonal_anomalies_2002_06.nc, ret code 0\n",
      "processed NASA_GEOSS2S_PRECIP_seasonal_anomalies_2002_07.nc, ret code 0\n",
      "processed NASA_GEOSS2S_PRECIP_seasonal_anomalies_2002_08.nc, ret code 0\n",
      "processed NASA_GEOSS2S_PRECIP_seasonal_anomalies_2002_09.nc, ret code 0\n",
      "processed NASA_GEOSS2S_PRECIP_seasonal_anomalies_2002_10.nc, ret code 0\n",
      "processed NASA_GEOSS2S_PRECIP_seasonal_anomalies_2002_11.nc, ret code 0\n",
      "processed NASA_GEOSS2S_PRECIP_seasonal_anomalies_2002_12.nc, ret code 0\n",
      "processed NASA_GEOSS2S_PRECIP_seasonal_anomalies_2003_01.nc, ret code 0\n",
      "processed NASA_GEOSS2S_PRECIP_seasonal_anomalies_2003_02.nc, ret code 0\n",
      "processed NASA_GEOSS2S_PRECIP_seasonal_anomalies_2003_03.nc, ret code 0\n",
      "processed NASA_GEOSS2S_PRECIP_seasonal_anomalies_2003_04.nc, ret code 0\n",
      "processed NASA_GEOSS2S_PRECIP_seasonal_anomalies_2003_05.nc, ret code 0\n",
      "processed NASA_GEOSS2S_PRECIP_seasonal_anomalies_2003_06.nc, ret code 0\n",
      "processed NASA_GEOSS2S_PRECIP_seasonal_anomalies_2003_07.nc, ret code 0\n",
      "processed NASA_GEOSS2S_PRECIP_seasonal_anomalies_2003_08.nc, ret code 0\n",
      "processed NASA_GEOSS2S_PRECIP_seasonal_anomalies_2003_09.nc, ret code 0\n",
      "processed NASA_GEOSS2S_PRECIP_seasonal_anomalies_2003_10.nc, ret code 0\n",
      "processed NASA_GEOSS2S_PRECIP_seasonal_anomalies_2003_11.nc, ret code 0\n",
      "processed NASA_GEOSS2S_PRECIP_seasonal_anomalies_2003_12.nc, ret code 0\n",
      "processed NASA_GEOSS2S_PRECIP_seasonal_anomalies_2004_01.nc, ret code 0\n",
      "processed NASA_GEOSS2S_PRECIP_seasonal_anomalies_2004_02.nc, ret code 0\n",
      "processed NASA_GEOSS2S_PRECIP_seasonal_anomalies_2004_03.nc, ret code 0\n",
      "processed NASA_GEOSS2S_PRECIP_seasonal_anomalies_2004_04.nc, ret code 0\n",
      "processed NASA_GEOSS2S_PRECIP_seasonal_anomalies_2004_05.nc, ret code 0\n",
      "processed NASA_GEOSS2S_PRECIP_seasonal_anomalies_2004_06.nc, ret code 0\n",
      "processed NASA_GEOSS2S_PRECIP_seasonal_anomalies_2004_07.nc, ret code 0\n",
      "processed NASA_GEOSS2S_PRECIP_seasonal_anomalies_2004_08.nc, ret code 0\n",
      "processed NASA_GEOSS2S_PRECIP_seasonal_anomalies_2004_09.nc, ret code 0\n",
      "processed NASA_GEOSS2S_PRECIP_seasonal_anomalies_2004_10.nc, ret code 0\n",
      "processed NASA_GEOSS2S_PRECIP_seasonal_anomalies_2004_11.nc, ret code 0\n",
      "processed NASA_GEOSS2S_PRECIP_seasonal_anomalies_2004_12.nc, ret code 0\n",
      "processed NASA_GEOSS2S_PRECIP_seasonal_anomalies_2005_01.nc, ret code 0\n",
      "processed NASA_GEOSS2S_PRECIP_seasonal_anomalies_2005_02.nc, ret code 0\n",
      "processed NASA_GEOSS2S_PRECIP_seasonal_anomalies_2005_03.nc, ret code 0\n",
      "processed NASA_GEOSS2S_PRECIP_seasonal_anomalies_2005_04.nc, ret code 0\n",
      "processed NASA_GEOSS2S_PRECIP_seasonal_anomalies_2005_05.nc, ret code 0\n",
      "processed NASA_GEOSS2S_PRECIP_seasonal_anomalies_2005_06.nc, ret code 0\n",
      "processed NASA_GEOSS2S_PRECIP_seasonal_anomalies_2005_07.nc, ret code 0\n",
      "processed NASA_GEOSS2S_PRECIP_seasonal_anomalies_2005_08.nc, ret code 0\n",
      "processed NASA_GEOSS2S_PRECIP_seasonal_anomalies_2005_09.nc, ret code 0\n",
      "processed NASA_GEOSS2S_PRECIP_seasonal_anomalies_2005_10.nc, ret code 0\n",
      "processed NASA_GEOSS2S_PRECIP_seasonal_anomalies_2005_11.nc, ret code 0\n",
      "processed NASA_GEOSS2S_PRECIP_seasonal_anomalies_2005_12.nc, ret code 0\n",
      "processed NASA_GEOSS2S_PRECIP_seasonal_anomalies_2006_01.nc, ret code 0\n",
      "processed NASA_GEOSS2S_PRECIP_seasonal_anomalies_2006_02.nc, ret code 0\n",
      "processed NASA_GEOSS2S_PRECIP_seasonal_anomalies_2006_03.nc, ret code 0\n",
      "processed NASA_GEOSS2S_PRECIP_seasonal_anomalies_2006_04.nc, ret code 0\n",
      "processed NASA_GEOSS2S_PRECIP_seasonal_anomalies_2006_05.nc, ret code 0\n",
      "processed NASA_GEOSS2S_PRECIP_seasonal_anomalies_2006_06.nc, ret code 0\n",
      "processed NASA_GEOSS2S_PRECIP_seasonal_anomalies_2006_07.nc, ret code 0\n",
      "processed NASA_GEOSS2S_PRECIP_seasonal_anomalies_2006_08.nc, ret code 0\n",
      "processed NASA_GEOSS2S_PRECIP_seasonal_anomalies_2006_09.nc, ret code 0\n",
      "processed NASA_GEOSS2S_PRECIP_seasonal_anomalies_2006_10.nc, ret code 0\n",
      "processed NASA_GEOSS2S_PRECIP_seasonal_anomalies_2006_11.nc, ret code 0\n",
      "processed NASA_GEOSS2S_PRECIP_seasonal_anomalies_2006_12.nc, ret code 0\n",
      "processed NASA_GEOSS2S_PRECIP_seasonal_anomalies_2007_01.nc, ret code 0\n",
      "processed NASA_GEOSS2S_PRECIP_seasonal_anomalies_2007_02.nc, ret code 0\n",
      "processed NASA_GEOSS2S_PRECIP_seasonal_anomalies_2007_03.nc, ret code 0\n",
      "processed NASA_GEOSS2S_PRECIP_seasonal_anomalies_2007_04.nc, ret code 0\n",
      "processed NASA_GEOSS2S_PRECIP_seasonal_anomalies_2007_05.nc, ret code 0\n",
      "processed NASA_GEOSS2S_PRECIP_seasonal_anomalies_2007_06.nc, ret code 0\n",
      "processed NASA_GEOSS2S_PRECIP_seasonal_anomalies_2007_07.nc, ret code 0\n",
      "processed NASA_GEOSS2S_PRECIP_seasonal_anomalies_2007_08.nc, ret code 0\n",
      "processed NASA_GEOSS2S_PRECIP_seasonal_anomalies_2007_09.nc, ret code 0\n",
      "processed NASA_GEOSS2S_PRECIP_seasonal_anomalies_2007_10.nc, ret code 0\n",
      "processed NASA_GEOSS2S_PRECIP_seasonal_anomalies_2007_11.nc, ret code 0\n",
      "processed NASA_GEOSS2S_PRECIP_seasonal_anomalies_2007_12.nc, ret code 0\n",
      "processed NASA_GEOSS2S_PRECIP_seasonal_anomalies_2008_01.nc, ret code 0\n",
      "processed NASA_GEOSS2S_PRECIP_seasonal_anomalies_2008_02.nc, ret code 0\n",
      "processed NASA_GEOSS2S_PRECIP_seasonal_anomalies_2008_03.nc, ret code 0\n",
      "processed NASA_GEOSS2S_PRECIP_seasonal_anomalies_2008_04.nc, ret code 0\n",
      "processed NASA_GEOSS2S_PRECIP_seasonal_anomalies_2008_05.nc, ret code 0\n",
      "processed NASA_GEOSS2S_PRECIP_seasonal_anomalies_2008_06.nc, ret code 0\n",
      "processed NASA_GEOSS2S_PRECIP_seasonal_anomalies_2008_07.nc, ret code 0\n",
      "processed NASA_GEOSS2S_PRECIP_seasonal_anomalies_2008_08.nc, ret code 0\n",
      "processed NASA_GEOSS2S_PRECIP_seasonal_anomalies_2008_09.nc, ret code 0\n",
      "processed NASA_GEOSS2S_PRECIP_seasonal_anomalies_2008_10.nc, ret code 0\n",
      "processed NASA_GEOSS2S_PRECIP_seasonal_anomalies_2008_11.nc, ret code 0\n",
      "processed NASA_GEOSS2S_PRECIP_seasonal_anomalies_2008_12.nc, ret code 0\n",
      "processed NASA_GEOSS2S_PRECIP_seasonal_anomalies_2009_01.nc, ret code 0\n",
      "processed NASA_GEOSS2S_PRECIP_seasonal_anomalies_2009_02.nc, ret code 0\n",
      "processed NASA_GEOSS2S_PRECIP_seasonal_anomalies_2009_03.nc, ret code 0\n",
      "processed NASA_GEOSS2S_PRECIP_seasonal_anomalies_2009_04.nc, ret code 0\n",
      "processed NASA_GEOSS2S_PRECIP_seasonal_anomalies_2009_05.nc, ret code 0\n",
      "processed NASA_GEOSS2S_PRECIP_seasonal_anomalies_2009_06.nc, ret code 0\n",
      "processed NASA_GEOSS2S_PRECIP_seasonal_anomalies_2009_07.nc, ret code 0\n",
      "processed NASA_GEOSS2S_PRECIP_seasonal_anomalies_2009_08.nc, ret code 0\n",
      "processed NASA_GEOSS2S_PRECIP_seasonal_anomalies_2009_09.nc, ret code 0\n",
      "processed NASA_GEOSS2S_PRECIP_seasonal_anomalies_2009_10.nc, ret code 0\n",
      "processed NASA_GEOSS2S_PRECIP_seasonal_anomalies_2009_11.nc, ret code 0\n",
      "processed NASA_GEOSS2S_PRECIP_seasonal_anomalies_2009_12.nc, ret code 0\n",
      "processed NASA_GEOSS2S_PRECIP_seasonal_anomalies_2010_01.nc, ret code 0\n",
      "processed NASA_GEOSS2S_PRECIP_seasonal_anomalies_2010_02.nc, ret code 0\n",
      "processed NASA_GEOSS2S_PRECIP_seasonal_anomalies_2010_03.nc, ret code 0\n",
      "processed NASA_GEOSS2S_PRECIP_seasonal_anomalies_2010_04.nc, ret code 0\n",
      "processed NASA_GEOSS2S_PRECIP_seasonal_anomalies_2010_05.nc, ret code 0\n",
      "processed NASA_GEOSS2S_PRECIP_seasonal_anomalies_2010_06.nc, ret code 0\n",
      "processed NASA_GEOSS2S_PRECIP_seasonal_anomalies_2010_07.nc, ret code 0\n",
      "processed NASA_GEOSS2S_PRECIP_seasonal_anomalies_2010_08.nc, ret code 0\n",
      "processed NASA_GEOSS2S_PRECIP_seasonal_anomalies_2010_09.nc, ret code 0\n",
      "processed NASA_GEOSS2S_PRECIP_seasonal_anomalies_2010_10.nc, ret code 0\n",
      "processed NASA_GEOSS2S_PRECIP_seasonal_anomalies_2010_11.nc, ret code 0\n",
      "processed NASA_GEOSS2S_PRECIP_seasonal_anomalies_2010_12.nc, ret code 0\n",
      "processed NASA_GEOSS2S_PRECIP_seasonal_anomalies_2011_01.nc, ret code 0\n",
      "processed NASA_GEOSS2S_PRECIP_seasonal_anomalies_2011_02.nc, ret code 0\n",
      "processed NASA_GEOSS2S_PRECIP_seasonal_anomalies_2011_03.nc, ret code 0\n",
      "processed NASA_GEOSS2S_PRECIP_seasonal_anomalies_2011_04.nc, ret code 0\n",
      "processed NASA_GEOSS2S_PRECIP_seasonal_anomalies_2011_05.nc, ret code 0\n",
      "processed NASA_GEOSS2S_PRECIP_seasonal_anomalies_2011_06.nc, ret code 0\n",
      "processed NASA_GEOSS2S_PRECIP_seasonal_anomalies_2011_07.nc, ret code 0\n",
      "processed NASA_GEOSS2S_PRECIP_seasonal_anomalies_2011_08.nc, ret code 0\n",
      "processed NASA_GEOSS2S_PRECIP_seasonal_anomalies_2011_09.nc, ret code 0\n",
      "processed NASA_GEOSS2S_PRECIP_seasonal_anomalies_2011_10.nc, ret code 0\n",
      "processed NASA_GEOSS2S_PRECIP_seasonal_anomalies_2011_11.nc, ret code 0\n",
      "processed NASA_GEOSS2S_PRECIP_seasonal_anomalies_2011_12.nc, ret code 0\n",
      "processed NASA_GEOSS2S_PRECIP_seasonal_anomalies_2012_01.nc, ret code 0\n",
      "processed NASA_GEOSS2S_PRECIP_seasonal_anomalies_2012_02.nc, ret code 0\n",
      "processed NASA_GEOSS2S_PRECIP_seasonal_anomalies_2012_03.nc, ret code 0\n",
      "processed NASA_GEOSS2S_PRECIP_seasonal_anomalies_2012_04.nc, ret code 0\n",
      "processed NASA_GEOSS2S_PRECIP_seasonal_anomalies_2012_05.nc, ret code 0\n",
      "processed NASA_GEOSS2S_PRECIP_seasonal_anomalies_2012_06.nc, ret code 0\n",
      "processed NASA_GEOSS2S_PRECIP_seasonal_anomalies_2012_07.nc, ret code 0\n",
      "processed NASA_GEOSS2S_PRECIP_seasonal_anomalies_2012_08.nc, ret code 0\n",
      "processed NASA_GEOSS2S_PRECIP_seasonal_anomalies_2012_09.nc, ret code 0\n",
      "processed NASA_GEOSS2S_PRECIP_seasonal_anomalies_2012_10.nc, ret code 0\n",
      "processed NASA_GEOSS2S_PRECIP_seasonal_anomalies_2012_11.nc, ret code 0\n",
      "processed NASA_GEOSS2S_PRECIP_seasonal_anomalies_2012_12.nc, ret code 0\n",
      "processed NASA_GEOSS2S_PRECIP_seasonal_anomalies_2013_01.nc, ret code 0\n",
      "processed NASA_GEOSS2S_PRECIP_seasonal_anomalies_2013_02.nc, ret code 0\n",
      "processed NASA_GEOSS2S_PRECIP_seasonal_anomalies_2013_03.nc, ret code 0\n",
      "processed NASA_GEOSS2S_PRECIP_seasonal_anomalies_2013_04.nc, ret code 0\n",
      "processed NASA_GEOSS2S_PRECIP_seasonal_anomalies_2013_05.nc, ret code 0\n",
      "processed NASA_GEOSS2S_PRECIP_seasonal_anomalies_2013_06.nc, ret code 0\n",
      "processed NASA_GEOSS2S_PRECIP_seasonal_anomalies_2013_07.nc, ret code 0\n",
      "processed NASA_GEOSS2S_PRECIP_seasonal_anomalies_2013_08.nc, ret code 0\n",
      "processed NASA_GEOSS2S_PRECIP_seasonal_anomalies_2013_09.nc, ret code 0\n",
      "processed NASA_GEOSS2S_PRECIP_seasonal_anomalies_2013_10.nc, ret code 0\n",
      "processed NASA_GEOSS2S_PRECIP_seasonal_anomalies_2013_11.nc, ret code 0\n",
      "processed NASA_GEOSS2S_PRECIP_seasonal_anomalies_2013_12.nc, ret code 0\n",
      "processed NASA_GEOSS2S_PRECIP_seasonal_anomalies_2014_01.nc, ret code 0\n",
      "processed NASA_GEOSS2S_PRECIP_seasonal_anomalies_2014_02.nc, ret code 0\n",
      "processed NASA_GEOSS2S_PRECIP_seasonal_anomalies_2014_03.nc, ret code 0\n",
      "processed NASA_GEOSS2S_PRECIP_seasonal_anomalies_2014_04.nc, ret code 0\n",
      "processed NASA_GEOSS2S_PRECIP_seasonal_anomalies_2014_05.nc, ret code 0\n",
      "processed NASA_GEOSS2S_PRECIP_seasonal_anomalies_2014_06.nc, ret code 0\n",
      "processed NASA_GEOSS2S_PRECIP_seasonal_anomalies_2014_07.nc, ret code 0\n",
      "processed NASA_GEOSS2S_PRECIP_seasonal_anomalies_2014_08.nc, ret code 0\n",
      "processed NASA_GEOSS2S_PRECIP_seasonal_anomalies_2014_09.nc, ret code 0\n",
      "processed NASA_GEOSS2S_PRECIP_seasonal_anomalies_2014_10.nc, ret code 0\n",
      "processed NASA_GEOSS2S_PRECIP_seasonal_anomalies_2014_11.nc, ret code 0\n",
      "processed NASA_GEOSS2S_PRECIP_seasonal_anomalies_2014_12.nc, ret code 0\n",
      "processed NASA_GEOSS2S_PRECIP_seasonal_anomalies_2015_01.nc, ret code 0\n",
      "processed NASA_GEOSS2S_PRECIP_seasonal_anomalies_2015_02.nc, ret code 0\n",
      "processed NASA_GEOSS2S_PRECIP_seasonal_anomalies_2015_03.nc, ret code 0\n",
      "processed NASA_GEOSS2S_PRECIP_seasonal_anomalies_2015_04.nc, ret code 0\n",
      "processed NASA_GEOSS2S_PRECIP_seasonal_anomalies_2015_05.nc, ret code 0\n",
      "processed NASA_GEOSS2S_PRECIP_seasonal_anomalies_2015_06.nc, ret code 0\n",
      "processed NASA_GEOSS2S_PRECIP_seasonal_anomalies_2015_07.nc, ret code 0\n",
      "processed NASA_GEOSS2S_PRECIP_seasonal_anomalies_2015_08.nc, ret code 0\n",
      "processed NASA_GEOSS2S_PRECIP_seasonal_anomalies_2015_09.nc, ret code 0\n",
      "processed NASA_GEOSS2S_PRECIP_seasonal_anomalies_2015_10.nc, ret code 0\n",
      "processed NASA_GEOSS2S_PRECIP_seasonal_anomalies_2015_11.nc, ret code 0\n",
      "processed NASA_GEOSS2S_PRECIP_seasonal_anomalies_2015_12.nc, ret code 0\n",
      "processed NASA_GEOSS2S_PRECIP_seasonal_anomalies_2016_01.nc, ret code 0\n",
      "processed NASA_GEOSS2S_PRECIP_seasonal_anomalies_2016_02.nc, ret code 0\n",
      "processed NASA_GEOSS2S_PRECIP_seasonal_anomalies_2016_03.nc, ret code 0\n",
      "processed NASA_GEOSS2S_PRECIP_seasonal_anomalies_2016_04.nc, ret code 0\n",
      "processed NASA_GEOSS2S_PRECIP_seasonal_anomalies_2016_05.nc, ret code 0\n",
      "processed NASA_GEOSS2S_PRECIP_seasonal_anomalies_2016_06.nc, ret code 0\n",
      "processed NASA_GEOSS2S_PRECIP_seasonal_anomalies_2016_07.nc, ret code 0\n",
      "processed NASA_GEOSS2S_PRECIP_seasonal_anomalies_2016_08.nc, ret code 0\n",
      "processed NASA_GEOSS2S_PRECIP_seasonal_anomalies_2016_09.nc, ret code 0\n",
      "processed NASA_GEOSS2S_PRECIP_seasonal_anomalies_2016_10.nc, ret code 0\n",
      "processed NASA_GEOSS2S_PRECIP_seasonal_anomalies_2016_11.nc, ret code 0\n",
      "processed NASA_GEOSS2S_PRECIP_seasonal_anomalies_2016_12.nc, ret code 0\n"
     ]
    }
   ],
   "source": [
    "for fname in lfiles_gcm: \n",
    "    cmd = f\"{ncks} -d lat,-50.,-20. -d lon,100.,180. -d step,{step}.,{step}. {str(fname)} {str(tmp_path / fname.name)}\"\n",
    "    r = call(cmd, shell=True)\n",
    "    print(f\"processed {fname.name}, ret code {r}\")"
   ]
  },
  {
   "cell_type": "code",
   "execution_count": 33,
   "metadata": {},
   "outputs": [],
   "source": [
    "lfiles_tmp = list(tmp_path.glob(f\"{GCM}_{var_name}_seasonal_anomalies_????_??.nc\")) "
   ]
  },
  {
   "cell_type": "code",
   "execution_count": 34,
   "metadata": {},
   "outputs": [],
   "source": [
    "lfiles_tmp.sort()"
   ]
  },
  {
   "cell_type": "code",
   "execution_count": 35,
   "metadata": {},
   "outputs": [
    {
     "data": {
      "text/plain": [
       "PosixPath('/home/nicolasf/data/tmp/NASA_GEOSS2S_PRECIP_seasonal_anomalies_1981_02.nc')"
      ]
     },
     "execution_count": 35,
     "metadata": {},
     "output_type": "execute_result"
    }
   ],
   "source": [
    "lfiles_tmp[0]"
   ]
  },
  {
   "cell_type": "code",
   "execution_count": 36,
   "metadata": {},
   "outputs": [
    {
     "data": {
      "text/plain": [
       "PosixPath('/home/nicolasf/data/tmp/NASA_GEOSS2S_PRECIP_seasonal_anomalies_2016_12.nc')"
      ]
     },
     "execution_count": 36,
     "metadata": {},
     "output_type": "execute_result"
    }
   ],
   "source": [
    "lfiles_tmp[-1]"
   ]
  },
  {
   "cell_type": "code",
   "execution_count": 37,
   "metadata": {},
   "outputs": [],
   "source": [
    "dset_l = []\n",
    "time_l = []\n",
    "for fname in lfiles_tmp: \n",
    "    dset = salem.open_xr_dataset(fname)\n",
    "    # here make sure that we drop potentially conflicting variables and coordinates\n",
    "    if 'surface' in dset.variables: \n",
    "        dset = dset.drop('surface') \n",
    "    if 'valid_time' in dset.coords: \n",
    "        dset = dset.drop('valid_time')\n",
    "    dset = dset.mean('member') \n",
    "    dset = dset.sel(step=step)\n",
    "    time = pd.to_datetime(dset.time.data) + dateutil.relativedelta.relativedelta(month=step + 1)\n",
    "    time_l.append(time)\n",
    "    dset_l.append(dset)"
   ]
  },
  {
   "cell_type": "code",
   "execution_count": 38,
   "metadata": {},
   "outputs": [],
   "source": [
    "dset = xr.concat(dset_l, dim='time')"
   ]
  },
  {
   "cell_type": "code",
   "execution_count": 39,
   "metadata": {},
   "outputs": [
    {
     "data": {
      "text/html": [
       "<pre>&lt;xarray.Dataset&gt;\n",
       "Dimensions:  (lat: 31, lon: 81, time: 431)\n",
       "Coordinates:\n",
       "    step     int64 3\n",
       "  * lon      (lon) float32 100.0 101.0 102.0 103.0 ... 177.0 178.0 179.0 180.0\n",
       "  * lat      (lat) float32 -50.0 -49.0 -48.0 -47.0 ... -23.0 -22.0 -21.0 -20.0\n",
       "    month    (time) int64 2 3 4 5 6 7 8 9 10 11 12 ... 2 3 4 5 6 7 8 9 10 11 12\n",
       "  * time     (time) datetime64[ns] 1981-02-01 1981-03-01 ... 2016-12-01\n",
       "Data variables:\n",
       "    precip   (time, lat, lon) float32 0.14178991 0.023297489 ... -0.09685099</pre>"
      ],
      "text/plain": [
       "<xarray.Dataset>\n",
       "Dimensions:  (lat: 31, lon: 81, time: 431)\n",
       "Coordinates:\n",
       "    step     int64 3\n",
       "  * lon      (lon) float32 100.0 101.0 102.0 103.0 ... 177.0 178.0 179.0 180.0\n",
       "  * lat      (lat) float32 -50.0 -49.0 -48.0 -47.0 ... -23.0 -22.0 -21.0 -20.0\n",
       "    month    (time) int64 2 3 4 5 6 7 8 9 10 11 12 ... 2 3 4 5 6 7 8 9 10 11 12\n",
       "  * time     (time) datetime64[ns] 1981-02-01 1981-03-01 ... 2016-12-01\n",
       "Data variables:\n",
       "    precip   (time, lat, lon) float32 0.14178991 0.023297489 ... -0.09685099"
      ]
     },
     "execution_count": 39,
     "metadata": {},
     "output_type": "execute_result"
    }
   ],
   "source": [
    "dset"
   ]
  },
  {
   "cell_type": "markdown",
   "metadata": {},
   "source": [
    "### only needed if the forecast period is mistakenly included in the hindcast folder "
   ]
  },
  {
   "cell_type": "code",
   "execution_count": 40,
   "metadata": {},
   "outputs": [],
   "source": [
    "if pd.to_datetime(dset.time[-1].data).year > 2016: \n",
    "    dset = dset.sel(time=slice(None, '2016')) # only needed if "
   ]
  },
  {
   "cell_type": "markdown",
   "metadata": {},
   "source": [
    "### shift the time index, to reflect the actual forecast valid time "
   ]
  },
  {
   "cell_type": "code",
   "execution_count": 41,
   "metadata": {},
   "outputs": [],
   "source": [
    "dset['time'] = dset.time.to_index().shift(step + 1, freq='M')"
   ]
  },
  {
   "cell_type": "code",
   "execution_count": 42,
   "metadata": {},
   "outputs": [
    {
     "data": {
      "text/plain": [
       "array('1981-05-31T00:00:00.000000000', dtype='datetime64[ns]')"
      ]
     },
     "execution_count": 42,
     "metadata": {},
     "output_type": "execute_result"
    }
   ],
   "source": [
    "dset.time[0].data"
   ]
  },
  {
   "cell_type": "code",
   "execution_count": 43,
   "metadata": {},
   "outputs": [
    {
     "data": {
      "text/plain": [
       "array('2017-03-31T00:00:00.000000000', dtype='datetime64[ns]')"
      ]
     },
     "execution_count": 43,
     "metadata": {},
     "output_type": "execute_result"
    }
   ],
   "source": [
    "dset.time[-1].data"
   ]
  },
  {
   "cell_type": "code",
   "execution_count": 44,
   "metadata": {},
   "outputs": [
    {
     "data": {
      "text/html": [
       "<pre>&lt;xarray.Dataset&gt;\n",
       "Dimensions:  (lat: 31, lon: 81, time: 431)\n",
       "Coordinates:\n",
       "    step     int64 3\n",
       "  * lon      (lon) float32 100.0 101.0 102.0 103.0 ... 177.0 178.0 179.0 180.0\n",
       "  * lat      (lat) float32 -50.0 -49.0 -48.0 -47.0 ... -23.0 -22.0 -21.0 -20.0\n",
       "    month    (time) int64 2 3 4 5 6 7 8 9 10 11 12 ... 2 3 4 5 6 7 8 9 10 11 12\n",
       "  * time     (time) datetime64[ns] 1981-05-31 1981-06-30 ... 2017-03-31\n",
       "Data variables:\n",
       "    precip   (time, lat, lon) float32 0.14178991 0.023297489 ... -0.09685099</pre>"
      ],
      "text/plain": [
       "<xarray.Dataset>\n",
       "Dimensions:  (lat: 31, lon: 81, time: 431)\n",
       "Coordinates:\n",
       "    step     int64 3\n",
       "  * lon      (lon) float32 100.0 101.0 102.0 103.0 ... 177.0 178.0 179.0 180.0\n",
       "  * lat      (lat) float32 -50.0 -49.0 -48.0 -47.0 ... -23.0 -22.0 -21.0 -20.0\n",
       "    month    (time) int64 2 3 4 5 6 7 8 9 10 11 12 ... 2 3 4 5 6 7 8 9 10 11 12\n",
       "  * time     (time) datetime64[ns] 1981-05-31 1981-06-30 ... 2017-03-31\n",
       "Data variables:\n",
       "    precip   (time, lat, lon) float32 0.14178991 0.023297489 ... -0.09685099"
      ]
     },
     "execution_count": 44,
     "metadata": {},
     "output_type": "execute_result"
    }
   ],
   "source": [
    "dset"
   ]
  },
  {
   "cell_type": "markdown",
   "metadata": {},
   "source": [
    "### reads the NZ 6 regions shapefiles "
   ]
  },
  {
   "cell_type": "code",
   "execution_count": 45,
   "metadata": {},
   "outputs": [],
   "source": [
    "nz_regions = gpd.read_file(set_root_dir(root='local') / 'shapefiles' / 'NZ_regions' / 'NZ_6_regions' / 'NZ_regions_corrected.shp') "
   ]
  },
  {
   "cell_type": "code",
   "execution_count": 46,
   "metadata": {},
   "outputs": [
    {
     "data": {
      "text/html": [
       "<div>\n",
       "<style scoped>\n",
       "    .dataframe tbody tr th:only-of-type {\n",
       "        vertical-align: middle;\n",
       "    }\n",
       "\n",
       "    .dataframe tbody tr th {\n",
       "        vertical-align: top;\n",
       "    }\n",
       "\n",
       "    .dataframe thead th {\n",
       "        text-align: right;\n",
       "    }\n",
       "</style>\n",
       "<table border=\"1\" class=\"dataframe\">\n",
       "  <thead>\n",
       "    <tr style=\"text-align: right;\">\n",
       "      <th></th>\n",
       "      <th>OBJECTID</th>\n",
       "      <th>Id</th>\n",
       "      <th>gridcode</th>\n",
       "      <th>Shape_Leng</th>\n",
       "      <th>Shape_Area</th>\n",
       "      <th>Location</th>\n",
       "      <th>geometry</th>\n",
       "    </tr>\n",
       "  </thead>\n",
       "  <tbody>\n",
       "    <tr>\n",
       "      <th>0</th>\n",
       "      <td>1</td>\n",
       "      <td>1</td>\n",
       "      <td>1</td>\n",
       "      <td>85.215338</td>\n",
       "      <td>5.032753</td>\n",
       "      <td>NNI</td>\n",
       "      <td>MULTIPOLYGON (((174.70530 -38.17377, 174.70545...</td>\n",
       "    </tr>\n",
       "    <tr>\n",
       "      <th>1</th>\n",
       "      <td>2</td>\n",
       "      <td>2</td>\n",
       "      <td>2</td>\n",
       "      <td>12.336015</td>\n",
       "      <td>2.994028</td>\n",
       "      <td>WNI</td>\n",
       "      <td>MULTIPOLYGON (((175.13516 -41.37745, 175.13507...</td>\n",
       "    </tr>\n",
       "    <tr>\n",
       "      <th>2</th>\n",
       "      <td>3</td>\n",
       "      <td>3</td>\n",
       "      <td>3</td>\n",
       "      <td>14.235493</td>\n",
       "      <td>3.775388</td>\n",
       "      <td>ENI</td>\n",
       "      <td>MULTIPOLYGON (((175.85595 -41.35970, 175.85595...</td>\n",
       "    </tr>\n",
       "    <tr>\n",
       "      <th>3</th>\n",
       "      <td>4</td>\n",
       "      <td>4</td>\n",
       "      <td>4</td>\n",
       "      <td>34.656463</td>\n",
       "      <td>3.066280</td>\n",
       "      <td>NSI</td>\n",
       "      <td>MULTIPOLYGON (((171.32620 -42.12355, 171.32602...</td>\n",
       "    </tr>\n",
       "    <tr>\n",
       "      <th>4</th>\n",
       "      <td>5</td>\n",
       "      <td>5</td>\n",
       "      <td>6</td>\n",
       "      <td>20.191504</td>\n",
       "      <td>4.827228</td>\n",
       "      <td>ESI</td>\n",
       "      <td>MULTIPOLYGON (((170.21675 -46.05955, 170.21609...</td>\n",
       "    </tr>\n",
       "    <tr>\n",
       "      <th>5</th>\n",
       "      <td>6</td>\n",
       "      <td>6</td>\n",
       "      <td>5</td>\n",
       "      <td>42.941379</td>\n",
       "      <td>9.057410</td>\n",
       "      <td>WSI</td>\n",
       "      <td>MULTIPOLYGON (((169.20749 -46.66371, 169.20742...</td>\n",
       "    </tr>\n",
       "  </tbody>\n",
       "</table>\n",
       "</div>"
      ],
      "text/plain": [
       "   OBJECTID  Id  gridcode  Shape_Leng  Shape_Area Location  \\\n",
       "0         1   1         1   85.215338    5.032753      NNI   \n",
       "1         2   2         2   12.336015    2.994028      WNI   \n",
       "2         3   3         3   14.235493    3.775388      ENI   \n",
       "3         4   4         4   34.656463    3.066280      NSI   \n",
       "4         5   5         6   20.191504    4.827228      ESI   \n",
       "5         6   6         5   42.941379    9.057410      WSI   \n",
       "\n",
       "                                            geometry  \n",
       "0  MULTIPOLYGON (((174.70530 -38.17377, 174.70545...  \n",
       "1  MULTIPOLYGON (((175.13516 -41.37745, 175.13507...  \n",
       "2  MULTIPOLYGON (((175.85595 -41.35970, 175.85595...  \n",
       "3  MULTIPOLYGON (((171.32620 -42.12355, 171.32602...  \n",
       "4  MULTIPOLYGON (((170.21675 -46.05955, 170.21609...  \n",
       "5  MULTIPOLYGON (((169.20749 -46.66371, 169.20742...  "
      ]
     },
     "execution_count": 46,
     "metadata": {},
     "output_type": "execute_result"
    }
   ],
   "source": [
    "nz_regions"
   ]
  },
  {
   "cell_type": "code",
   "execution_count": 47,
   "metadata": {},
   "outputs": [],
   "source": [
    "nz_regions = nz_regions.to_crs(epsg=4326)"
   ]
  },
  {
   "cell_type": "code",
   "execution_count": 48,
   "metadata": {},
   "outputs": [
    {
     "data": {
      "text/plain": [
       "{'init': 'epsg:4326', 'no_defs': True}"
      ]
     },
     "execution_count": 48,
     "metadata": {},
     "output_type": "execute_result"
    }
   ],
   "source": [
    "nz_regions.crs"
   ]
  },
  {
   "cell_type": "code",
   "execution_count": 49,
   "metadata": {},
   "outputs": [],
   "source": [
    "opath_root = HOME / 'research' / 'Smart_Ideas' / 'outputs' / 'targets' / 'GCMs' / 'NZ_6_regions' / GCM / var_name"
   ]
  },
  {
   "cell_type": "code",
   "execution_count": 50,
   "metadata": {},
   "outputs": [],
   "source": [
    "if not opath_root.exists(): \n",
    "    opath_root.mkdir(parents=True)"
   ]
  },
  {
   "cell_type": "markdown",
   "metadata": {},
   "source": [
    "### defines the number of quantiles we want "
   ]
  },
  {
   "cell_type": "code",
   "execution_count": 51,
   "metadata": {},
   "outputs": [],
   "source": [
    "num_quantiles = 3"
   ]
  },
  {
   "cell_type": "code",
   "execution_count": 52,
   "metadata": {},
   "outputs": [],
   "source": [
    "quant_values = np.linspace(0, 1, num_quantiles + 1, endpoint=True)"
   ]
  },
  {
   "cell_type": "code",
   "execution_count": 53,
   "metadata": {},
   "outputs": [],
   "source": [
    "quant_values = quant_values[1:-1]"
   ]
  },
  {
   "cell_type": "code",
   "execution_count": 54,
   "metadata": {},
   "outputs": [
    {
     "data": {
      "text/plain": [
       "array([0.33333333, 0.66666667])"
      ]
     },
     "execution_count": 54,
     "metadata": {},
     "output_type": "execute_result"
    }
   ],
   "source": [
    "quant_values"
   ]
  },
  {
   "cell_type": "code",
   "execution_count": 55,
   "metadata": {},
   "outputs": [],
   "source": [
    "col_labs = [f\"Q{int(x)}\" for x in (quant_values*100)]"
   ]
  },
  {
   "cell_type": "code",
   "execution_count": 56,
   "metadata": {},
   "outputs": [
    {
     "data": {
      "text/plain": [
       "['Q33', 'Q66']"
      ]
     },
     "execution_count": 56,
     "metadata": {},
     "output_type": "execute_result"
    }
   ],
   "source": [
    "col_labs"
   ]
  },
  {
   "cell_type": "markdown",
   "metadata": {},
   "source": [
    "### plots the regions for the GCMs grid "
   ]
  },
  {
   "cell_type": "code",
   "execution_count": 57,
   "metadata": {},
   "outputs": [
    {
     "data": {
      "image/png": "[encoded data removed]",
      "text/plain": [
       "<Figure size 720x360 with 2 Axes>"
      ]
     },
     "metadata": {
      "needs_background": "light"
     },
     "output_type": "display_data"
    },
    {
     "data": {
      "image/png": "[encoded data removed]",
      "text/plain": [
       "<Figure size 720x360 with 2 Axes>"
      ]
     },
     "metadata": {
      "needs_background": "light"
     },
     "output_type": "display_data"
    },
    {
     "data": {
      "image/png": "[encoded data removed]",
      "text/plain": [
       "<Figure size 720x360 with 2 Axes>"
      ]
     },
     "metadata": {
      "needs_background": "light"
     },
     "output_type": "display_data"
    },
    {
     "data": {
      "image/png": "[encoded data removed]",
      "text/plain": [
       "<Figure size 720x360 with 2 Axes>"
      ]
     },
     "metadata": {
      "needs_background": "light"
     },
     "output_type": "display_data"
    },
    {
     "data": {
      "image/png": "[encoded data removed]",
      "text/plain": [
       "<Figure size 720x360 with 2 Axes>"
      ]
     },
     "metadata": {
      "needs_background": "light"
     },
     "output_type": "display_data"
    },
    {
     "data": {
      "image/png": "[encoded data removed]",
      "text/plain": [
       "<Figure size 720x360 with 2 Axes>"
      ]
     },
     "metadata": {
      "needs_background": "light"
     },
     "output_type": "display_data"
    }
   ],
   "source": [
    "for region_name in nz_regions.Location.values:\n",
    "    \n",
    "    shape = nz_regions.query(f\"Location == '{region_name}'\")\n",
    "    \n",
    "    f, axes = plt.subplots(figsize=(10, 5), ncols=2, subplot_kw={'projection':ccrs.PlateCarree(central_longitude=180)}) \n",
    "\n",
    "    region = dset.salem.subset(shape=shape, margin=2)\n",
    "\n",
    "    region[var_name.lower()][0,:,:].plot(ax=axes[0], transform=ccrs.PlateCarree(), add_colorbar=False, cmap='binary')\n",
    "\n",
    "    axes[0].coastlines(resolution='10m')\n",
    "\n",
    "    axes[0].set_title(f'{GCM} region {region_name} subset')\n",
    "\n",
    "    if ((region.dims['lat'] > 1) & (region.dims['lon'] > 1)):\n",
    "\n",
    "        region = region.salem.roi(shape=shape, all_touched=True)\n",
    "\n",
    "        region[var_name.lower()][0,:,:].plot(ax=axes[1], transform=ccrs.PlateCarree(), add_colorbar=False, cmap='binary')\n",
    "\n",
    "        axes[1].coastlines(resolution='10m')\n",
    "\n",
    "        axes[1].set_title(f'{GCM}, region {region_name} ROI')\n",
    "\n",
    "    f.savefig(CWD.parents[2] / 'figures' / f'subset_and_ROI_map_{GCM}_{region_name}.png', dpi=200, bbox_inches='tight')"
   ]
  },
  {
   "cell_type": "markdown",
   "metadata": {},
   "source": [
    "### Now loops over the regions names, extract, calculate regional index and save to file "
   ]
  },
  {
   "cell_type": "code",
   "execution_count": 58,
   "metadata": {},
   "outputs": [
    {
     "name": "stdout",
     "output_type": "stream",
     "text": [
      "region NNI processed for variable PRECIP in NASA_GEOSS2S\n",
      "region WNI processed for variable PRECIP in NASA_GEOSS2S\n",
      "region ENI processed for variable PRECIP in NASA_GEOSS2S\n",
      "region NSI processed for variable PRECIP in NASA_GEOSS2S\n",
      "region ESI processed for variable PRECIP in NASA_GEOSS2S\n",
      "region WSI processed for variable PRECIP in NASA_GEOSS2S\n"
     ]
    }
   ],
   "source": [
    "quantiles_dict = {}\n",
    "\n",
    "for region_name in nz_regions.Location.values: \n",
    "    \n",
    "    shape = nz_regions.query(f\"Location == '{region_name}'\")\n",
    "    \n",
    "    region = dset.salem.subset(shape=shape, margin=1)\n",
    "    \n",
    "    if ((region.dims['lat'] > 1) & (region.dims['lon'] > 1)):\n",
    "\n",
    "        region = region.salem.roi(shape=shape, all_touched=True)\n",
    "        \n",
    "    else: \n",
    "        \n",
    "        print(f\"Warning: region {region_name} boundaries do not allow the ROI to be calculated\")\n",
    "    \n",
    "    # if there's useless dimension 'Z', drop from the dataset \n",
    "    \n",
    "    if 'Z' in region.dims: \n",
    "        region = region.sel(Z = region.Z.data[0])\n",
    "        region = region.drop('Z')\n",
    "    \n",
    "    ts = region.mean(dim=['lat','lon'])\n",
    "    \n",
    "    ts_df = ts[var_name.lower()].to_dataframe()\n",
    "            \n",
    "    ts_series = ts_df.loc[:,var_name.lower()]\n",
    "    \n",
    "    ts_series_cat = []\n",
    "    \n",
    "    quantiles_list = []\n",
    "    \n",
    "    for month in range(1, 13):\n",
    "        \n",
    "        ts_series_m = ts_series[ts_series.index.month == month]\n",
    "        \n",
    "        clim = ts_series_m.loc['1993':'2016']\n",
    "        \n",
    "        quantiles = [clim.quantile(q=q) for q in quant_values.tolist()]\n",
    "        \n",
    "        quantiles_list.append(quantiles.copy())\n",
    "        \n",
    "        quantiles.insert(0, -np.inf)\n",
    "        \n",
    "        quantiles.append(np.inf)\n",
    "        \n",
    "        ts_series_m_cats = pd.cut(ts_series_m, quantiles, labels=list(range(1, num_quantiles + 1)))\n",
    "        \n",
    "        ts_series_cat.append(ts_series_m_cats)\n",
    "        \n",
    "        del(quantiles)\n",
    "     \n",
    "    quantiles_dict[region_name]  = np.array(quantiles_list)\n",
    "    \n",
    "    ts_series_cat = pd.concat(ts_series_cat, axis=0)\n",
    "    \n",
    "    ts_series_cat = ts_series_cat.sort_index()\n",
    "    \n",
    "    ts_df.loc[:,f'cat_{num_quantiles}'] = ts_series_cat\n",
    "    \n",
    "    ts_df.loc[:,'anomalies'] = ts_df.loc[:,var_name.lower()]\n",
    "    \n",
    "    ts_df = ts_df.loc[:,['month',f'cat_{num_quantiles}','anomalies']]\n",
    "    \n",
    "    opath = opath_root / region_name \n",
    "    \n",
    "    if not opath.exists(): \n",
    "        opath.mkdir(parents=True)\n",
    "        \n",
    "    ts_df.to_csv(opath / f'TS_NZ_region_{region_name}_{GCM}_{var_name}_{num_quantiles}_quantiles_anoms.csv')\n",
    "    \n",
    "    #descriptive statistics per quantile category \n",
    "    \n",
    "    ts_df.groupby(ts_df.loc[:,f'cat_{num_quantiles}']).describe().to_csv(opath / f'descriptive_stats_{region_name}_{GCM}_{var_name}_{num_quantiles}.csv')\n",
    "    \n",
    "    print(f\"region {region_name} processed for variable {var_name} in {GCM}\")\n",
    "    "
   ]
  },
  {
   "cell_type": "code",
   "execution_count": 59,
   "metadata": {},
   "outputs": [
    {
     "data": {
      "text/plain": [
       "PosixPath('/home/nicolasf/research/Smart_Ideas/outputs/targets/GCMs/NZ_6_regions/NASA_GEOSS2S/PRECIP/WSI')"
      ]
     },
     "execution_count": 59,
     "metadata": {},
     "output_type": "execute_result"
    }
   ],
   "source": [
    "opath"
   ]
  },
  {
   "cell_type": "markdown",
   "metadata": {},
   "source": [
    "### saves the climatological terciles calculated from the VCSN regional aggregates"
   ]
  },
  {
   "cell_type": "code",
   "execution_count": 60,
   "metadata": {},
   "outputs": [],
   "source": [
    "quantiles_list = []\n",
    "for region_name in nz_regions.Location.values: \n",
    "    df = pd.DataFrame(quantiles_dict[region_name])\n",
    "    df.index = range(1, 13)\n",
    "    df.index.name = 'season'\n",
    "    df.columns = pd.MultiIndex.from_product([[region_name],col_labs])\n",
    "    quantiles_list.append(df)"
   ]
  },
  {
   "cell_type": "code",
   "execution_count": 61,
   "metadata": {},
   "outputs": [],
   "source": [
    "quantiles_df = pd.concat(quantiles_list, axis=1)"
   ]
  },
  {
   "cell_type": "code",
   "execution_count": 62,
   "metadata": {},
   "outputs": [
    {
     "data": {
      "text/plain": [
       "PosixPath('/home/nicolasf/research/Smart_Ideas/outputs/targets/GCMs/NZ_6_regions/NASA_GEOSS2S/PRECIP/WSI')"
      ]
     },
     "execution_count": 62,
     "metadata": {},
     "output_type": "execute_result"
    }
   ],
   "source": [
    "opath"
   ]
  },
  {
   "cell_type": "code",
   "execution_count": 63,
   "metadata": {},
   "outputs": [],
   "source": [
    "quantiles_df.to_csv(opath.parent / f'Climatological_quantiles_{num_quantiles}_cat_{var_name}.csv')"
   ]
  },
  {
   "cell_type": "code",
   "execution_count": 64,
   "metadata": {},
   "outputs": [
    {
     "data": {
      "text/html": [
       "<div>\n",
       "<style scoped>\n",
       "    .dataframe tbody tr th:only-of-type {\n",
       "        vertical-align: middle;\n",
       "    }\n",
       "\n",
       "    .dataframe tbody tr th {\n",
       "        vertical-align: top;\n",
       "    }\n",
       "\n",
       "    .dataframe thead tr th {\n",
       "        text-align: left;\n",
       "    }\n",
       "\n",
       "    .dataframe thead tr:last-of-type th {\n",
       "        text-align: right;\n",
       "    }\n",
       "</style>\n",
       "<table border=\"1\" class=\"dataframe\">\n",
       "  <thead>\n",
       "    <tr>\n",
       "      <th></th>\n",
       "      <th colspan=\"2\" halign=\"left\">NNI</th>\n",
       "      <th colspan=\"2\" halign=\"left\">WNI</th>\n",
       "      <th colspan=\"2\" halign=\"left\">ENI</th>\n",
       "      <th colspan=\"2\" halign=\"left\">NSI</th>\n",
       "      <th colspan=\"2\" halign=\"left\">ESI</th>\n",
       "      <th colspan=\"2\" halign=\"left\">WSI</th>\n",
       "    </tr>\n",
       "    <tr>\n",
       "      <th></th>\n",
       "      <th>Q33</th>\n",
       "      <th>Q66</th>\n",
       "      <th>Q33</th>\n",
       "      <th>Q66</th>\n",
       "      <th>Q33</th>\n",
       "      <th>Q66</th>\n",
       "      <th>Q33</th>\n",
       "      <th>Q66</th>\n",
       "      <th>Q33</th>\n",
       "      <th>Q66</th>\n",
       "      <th>Q33</th>\n",
       "      <th>Q66</th>\n",
       "    </tr>\n",
       "    <tr>\n",
       "      <th>season</th>\n",
       "      <th></th>\n",
       "      <th></th>\n",
       "      <th></th>\n",
       "      <th></th>\n",
       "      <th></th>\n",
       "      <th></th>\n",
       "      <th></th>\n",
       "      <th></th>\n",
       "      <th></th>\n",
       "      <th></th>\n",
       "      <th></th>\n",
       "      <th></th>\n",
       "    </tr>\n",
       "  </thead>\n",
       "  <tbody>\n",
       "    <tr>\n",
       "      <th>1</th>\n",
       "      <td>-0.332150</td>\n",
       "      <td>0.313672</td>\n",
       "      <td>-0.300115</td>\n",
       "      <td>0.086857</td>\n",
       "      <td>-0.335317</td>\n",
       "      <td>0.243085</td>\n",
       "      <td>-0.267336</td>\n",
       "      <td>0.282418</td>\n",
       "      <td>-0.264167</td>\n",
       "      <td>0.155774</td>\n",
       "      <td>-0.303286</td>\n",
       "      <td>0.096172</td>\n",
       "    </tr>\n",
       "    <tr>\n",
       "      <th>2</th>\n",
       "      <td>-0.286726</td>\n",
       "      <td>0.263928</td>\n",
       "      <td>-0.106194</td>\n",
       "      <td>0.181469</td>\n",
       "      <td>-0.233902</td>\n",
       "      <td>0.181436</td>\n",
       "      <td>-0.238034</td>\n",
       "      <td>0.232701</td>\n",
       "      <td>-0.121321</td>\n",
       "      <td>0.077767</td>\n",
       "      <td>-0.202580</td>\n",
       "      <td>0.221782</td>\n",
       "    </tr>\n",
       "    <tr>\n",
       "      <th>3</th>\n",
       "      <td>-0.399160</td>\n",
       "      <td>0.222830</td>\n",
       "      <td>-0.209376</td>\n",
       "      <td>0.138363</td>\n",
       "      <td>-0.328138</td>\n",
       "      <td>0.302027</td>\n",
       "      <td>-0.384007</td>\n",
       "      <td>0.152902</td>\n",
       "      <td>-0.269747</td>\n",
       "      <td>0.108559</td>\n",
       "      <td>-0.220376</td>\n",
       "      <td>0.065551</td>\n",
       "    </tr>\n",
       "    <tr>\n",
       "      <th>4</th>\n",
       "      <td>-0.355622</td>\n",
       "      <td>0.166019</td>\n",
       "      <td>-0.364847</td>\n",
       "      <td>0.139228</td>\n",
       "      <td>-0.366686</td>\n",
       "      <td>0.143561</td>\n",
       "      <td>-0.239802</td>\n",
       "      <td>0.197164</td>\n",
       "      <td>-0.178641</td>\n",
       "      <td>0.016915</td>\n",
       "      <td>-0.265264</td>\n",
       "      <td>0.292326</td>\n",
       "    </tr>\n",
       "    <tr>\n",
       "      <th>5</th>\n",
       "      <td>-0.144327</td>\n",
       "      <td>0.078251</td>\n",
       "      <td>-0.093468</td>\n",
       "      <td>0.066902</td>\n",
       "      <td>-0.192534</td>\n",
       "      <td>0.093516</td>\n",
       "      <td>-0.260475</td>\n",
       "      <td>0.249403</td>\n",
       "      <td>-0.166994</td>\n",
       "      <td>0.084285</td>\n",
       "      <td>-0.195093</td>\n",
       "      <td>0.154921</td>\n",
       "    </tr>\n",
       "    <tr>\n",
       "      <th>6</th>\n",
       "      <td>-0.261612</td>\n",
       "      <td>0.168958</td>\n",
       "      <td>-0.175973</td>\n",
       "      <td>0.092731</td>\n",
       "      <td>-0.218595</td>\n",
       "      <td>0.146081</td>\n",
       "      <td>-0.106111</td>\n",
       "      <td>0.235883</td>\n",
       "      <td>-0.122868</td>\n",
       "      <td>0.150695</td>\n",
       "      <td>-0.215069</td>\n",
       "      <td>0.221289</td>\n",
       "    </tr>\n",
       "    <tr>\n",
       "      <th>7</th>\n",
       "      <td>-0.175431</td>\n",
       "      <td>0.073111</td>\n",
       "      <td>-0.116100</td>\n",
       "      <td>0.087702</td>\n",
       "      <td>-0.220086</td>\n",
       "      <td>0.071470</td>\n",
       "      <td>-0.147610</td>\n",
       "      <td>0.185750</td>\n",
       "      <td>-0.133684</td>\n",
       "      <td>0.152808</td>\n",
       "      <td>-0.271402</td>\n",
       "      <td>0.056785</td>\n",
       "    </tr>\n",
       "    <tr>\n",
       "      <th>8</th>\n",
       "      <td>-0.180473</td>\n",
       "      <td>0.051848</td>\n",
       "      <td>-0.091003</td>\n",
       "      <td>0.016043</td>\n",
       "      <td>-0.130368</td>\n",
       "      <td>0.100801</td>\n",
       "      <td>-0.149031</td>\n",
       "      <td>0.093369</td>\n",
       "      <td>-0.106882</td>\n",
       "      <td>0.087490</td>\n",
       "      <td>-0.275839</td>\n",
       "      <td>0.135110</td>\n",
       "    </tr>\n",
       "    <tr>\n",
       "      <th>9</th>\n",
       "      <td>-0.131592</td>\n",
       "      <td>0.068624</td>\n",
       "      <td>-0.139051</td>\n",
       "      <td>0.129827</td>\n",
       "      <td>-0.099715</td>\n",
       "      <td>0.067950</td>\n",
       "      <td>-0.106835</td>\n",
       "      <td>0.219985</td>\n",
       "      <td>-0.118286</td>\n",
       "      <td>0.093154</td>\n",
       "      <td>-0.094502</td>\n",
       "      <td>0.192720</td>\n",
       "    </tr>\n",
       "    <tr>\n",
       "      <th>10</th>\n",
       "      <td>-0.201774</td>\n",
       "      <td>0.190229</td>\n",
       "      <td>-0.096955</td>\n",
       "      <td>0.159411</td>\n",
       "      <td>-0.200248</td>\n",
       "      <td>0.191624</td>\n",
       "      <td>-0.282946</td>\n",
       "      <td>0.128945</td>\n",
       "      <td>-0.131361</td>\n",
       "      <td>0.107965</td>\n",
       "      <td>-0.150096</td>\n",
       "      <td>0.257004</td>\n",
       "    </tr>\n",
       "    <tr>\n",
       "      <th>11</th>\n",
       "      <td>-0.074891</td>\n",
       "      <td>0.104619</td>\n",
       "      <td>-0.155498</td>\n",
       "      <td>0.147301</td>\n",
       "      <td>-0.093346</td>\n",
       "      <td>0.076660</td>\n",
       "      <td>-0.122904</td>\n",
       "      <td>0.154276</td>\n",
       "      <td>-0.060263</td>\n",
       "      <td>0.087000</td>\n",
       "      <td>-0.072876</td>\n",
       "      <td>0.152351</td>\n",
       "    </tr>\n",
       "    <tr>\n",
       "      <th>12</th>\n",
       "      <td>-0.104170</td>\n",
       "      <td>0.080485</td>\n",
       "      <td>-0.143591</td>\n",
       "      <td>0.143520</td>\n",
       "      <td>-0.112639</td>\n",
       "      <td>0.166503</td>\n",
       "      <td>-0.142956</td>\n",
       "      <td>0.205013</td>\n",
       "      <td>-0.097060</td>\n",
       "      <td>0.122410</td>\n",
       "      <td>-0.178374</td>\n",
       "      <td>0.157006</td>\n",
       "    </tr>\n",
       "  </tbody>\n",
       "</table>\n",
       "</div>"
      ],
      "text/plain": [
       "             NNI                 WNI                 ENI                 NSI  \\\n",
       "             Q33       Q66       Q33       Q66       Q33       Q66       Q33   \n",
       "season                                                                         \n",
       "1      -0.332150  0.313672 -0.300115  0.086857 -0.335317  0.243085 -0.267336   \n",
       "2      -0.286726  0.263928 -0.106194  0.181469 -0.233902  0.181436 -0.238034   \n",
       "3      -0.399160  0.222830 -0.209376  0.138363 -0.328138  0.302027 -0.384007   \n",
       "4      -0.355622  0.166019 -0.364847  0.139228 -0.366686  0.143561 -0.239802   \n",
       "5      -0.144327  0.078251 -0.093468  0.066902 -0.192534  0.093516 -0.260475   \n",
       "6      -0.261612  0.168958 -0.175973  0.092731 -0.218595  0.146081 -0.106111   \n",
       "7      -0.175431  0.073111 -0.116100  0.087702 -0.220086  0.071470 -0.147610   \n",
       "8      -0.180473  0.051848 -0.091003  0.016043 -0.130368  0.100801 -0.149031   \n",
       "9      -0.131592  0.068624 -0.139051  0.129827 -0.099715  0.067950 -0.106835   \n",
       "10     -0.201774  0.190229 -0.096955  0.159411 -0.200248  0.191624 -0.282946   \n",
       "11     -0.074891  0.104619 -0.155498  0.147301 -0.093346  0.076660 -0.122904   \n",
       "12     -0.104170  0.080485 -0.143591  0.143520 -0.112639  0.166503 -0.142956   \n",
       "\n",
       "                       ESI                 WSI            \n",
       "             Q66       Q33       Q66       Q33       Q66  \n",
       "season                                                    \n",
       "1       0.282418 -0.264167  0.155774 -0.303286  0.096172  \n",
       "2       0.232701 -0.121321  0.077767 -0.202580  0.221782  \n",
       "3       0.152902 -0.269747  0.108559 -0.220376  0.065551  \n",
       "4       0.197164 -0.178641  0.016915 -0.265264  0.292326  \n",
       "5       0.249403 -0.166994  0.084285 -0.195093  0.154921  \n",
       "6       0.235883 -0.122868  0.150695 -0.215069  0.221289  \n",
       "7       0.185750 -0.133684  0.152808 -0.271402  0.056785  \n",
       "8       0.093369 -0.106882  0.087490 -0.275839  0.135110  \n",
       "9       0.219985 -0.118286  0.093154 -0.094502  0.192720  \n",
       "10      0.128945 -0.131361  0.107965 -0.150096  0.257004  \n",
       "11      0.154276 -0.060263  0.087000 -0.072876  0.152351  \n",
       "12      0.205013 -0.097060  0.122410 -0.178374  0.157006  "
      ]
     },
     "execution_count": 64,
     "metadata": {},
     "output_type": "execute_result"
    }
   ],
   "source": [
    "quantiles_df"
   ]
  },
  {
   "cell_type": "markdown",
   "metadata": {},
   "source": [
    "### plots the anomalies and the categories "
   ]
  },
  {
   "cell_type": "code",
   "execution_count": 65,
   "metadata": {},
   "outputs": [
    {
     "data": {
      "image/png": "[encoded data removed]",
      "text/plain": [
       "<Figure size 576x360 with 1 Axes>"
      ]
     },
     "metadata": {
      "needs_background": "light"
     },
     "output_type": "display_data"
    }
   ],
   "source": [
    "f, ax = plt.subplots(figsize=(8,5))\n",
    "ts_df.anomalies.plot(lw=1, color='k', zorder=0)\n",
    "cats = pd.to_numeric(ts_df.cat_3)\n",
    "[ax.axvline(x, color='steelblue', alpha=0.5,lw=1.5, zorder=-10) for x in cats.loc[(cats == 1),].index];\n",
    "[ax.axvline(x, color='k', alpha=0.2, lw=1.5, zorder=-10) for x in cats.loc[(cats == 2),].index];\n",
    "[ax.axvline(x, color='coral', alpha=0.5,lw=1.5, zorder=-10) for x in cats.loc[(cats == 3),].index];\n",
    "f.savefig('/home/nicolasf/Desktop/essai.png', dpi=200, bbox_inches='tight')"
   ]
  },
  {
   "cell_type": "code",
   "execution_count": 66,
   "metadata": {},
   "outputs": [
    {
     "data": {
      "text/plain": [
       "PosixPath('/home/nicolasf/data/tmp')"
      ]
     },
     "execution_count": 66,
     "metadata": {},
     "output_type": "execute_result"
    }
   ],
   "source": [
    "tmp_path"
   ]
  },
  {
   "cell_type": "code",
   "execution_count": 67,
   "metadata": {},
   "outputs": [],
   "source": [
    "if remove_tmp: \n",
    "    shutil.rmtree(tmp_path)"
   ]
  },
  {
   "cell_type": "code",
   "execution_count": 68,
   "metadata": {},
   "outputs": [
    {
     "name": "stdout",
     "output_type": "stream",
     "text": [
      "\n",
      "\n",
      "\n",
      "PROCESSING FINISHED FOR NASA_GEOSS2S -> PRECIP\n"
     ]
    }
   ],
   "source": [
    "print(f\"\\n\\n\\nPROCESSING FINISHED FOR {GCM} -> {var_name}\")"
   ]
  },
  {
   "cell_type": "code",
   "execution_count": null,
   "metadata": {},
   "outputs": [],
   "source": []
  }
 ],
 "metadata": {
  "kernelspec": {
   "display_name": "Python 3",
   "language": "python",
   "name": "python3"
  },
  "language_info": {
   "codemirror_mode": {
    "name": "ipython",
    "version": 3
   },
   "file_extension": ".py",
   "mimetype": "text/x-python",
   "name": "python",
   "nbconvert_exporter": "python",
   "pygments_lexer": "ipython3",
   "version": "3.7.5"
  },
  "latex_envs": {
   "bibliofile": "biblio.bib",
   "cite_by": "apalike",
   "current_citInitial": 1,
   "eqLabelWithNumbers": true,
   "eqNumInitial": 0
  }
 },
 "nbformat": 4,
 "nbformat_minor": 4
}
