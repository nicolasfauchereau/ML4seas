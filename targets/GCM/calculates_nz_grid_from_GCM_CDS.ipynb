{
 "cells": [
  {
   "cell_type": "markdown",
   "metadata": {},
   "source": [
    "# calculates the seasonal anomalies and the seasonal tercile categories from the gridded GCM"
   ]
  },
  {
   "cell_type": "code",
   "execution_count": 1,
   "metadata": {},
   "outputs": [],
   "source": [
    "# Paramaters \n",
    "provider = 'CDS'\n",
    "stage_in = 'processed'\n",
    "period = 'hindcasts'\n",
    "GCM = 'UKMO'\n",
    "var_name = 'PRECIP'\n",
    "step = 3\n",
    "remove_tmp = True"
   ]
  },
  {
   "cell_type": "code",
   "execution_count": 2,
   "metadata": {},
   "outputs": [],
   "source": [
    "nz_domain = {}\n",
    "nz_domain['lat_min'] = -50.\n",
    "nz_domain['lat_max'] = -20.\n",
    "nz_domain['lon_min'] = 100.\n",
    "nz_domain['lon_max'] = 180."
   ]
  },
  {
   "cell_type": "code",
   "execution_count": 3,
   "metadata": {},
   "outputs": [],
   "source": [
    "%matplotlib inline "
   ]
  },
  {
   "cell_type": "code",
   "execution_count": 4,
   "metadata": {},
   "outputs": [],
   "source": [
    "from matplotlib import pyplot as plt"
   ]
  },
  {
   "cell_type": "code",
   "execution_count": 5,
   "metadata": {},
   "outputs": [],
   "source": [
    "import sys"
   ]
  },
  {
   "cell_type": "code",
   "execution_count": 6,
   "metadata": {},
   "outputs": [],
   "source": [
    "sys.path.append('../../utils')"
   ]
  },
  {
   "cell_type": "markdown",
   "metadata": {},
   "source": [
    "### set the root directory for loading the GCM outputs files "
   ]
  },
  {
   "cell_type": "code",
   "execution_count": 7,
   "metadata": {},
   "outputs": [],
   "source": [
    "from set_root_dir import set_root_dir"
   ]
  },
  {
   "cell_type": "code",
   "execution_count": 8,
   "metadata": {},
   "outputs": [],
   "source": [
    "dpath = set_root_dir(root='gdata')"
   ]
  },
  {
   "cell_type": "code",
   "execution_count": 9,
   "metadata": {},
   "outputs": [
    {
     "name": "stdout",
     "output_type": "stream",
     "text": [
      "/media/nicolasf/GDATA/END19101/Working/data\n"
     ]
    }
   ],
   "source": [
    "print(dpath)"
   ]
  },
  {
   "cell_type": "code",
   "execution_count": 10,
   "metadata": {},
   "outputs": [],
   "source": [
    "import os\n",
    "import pathlib\n",
    "from subprocess import call\n",
    "import shutil"
   ]
  },
  {
   "cell_type": "code",
   "execution_count": 11,
   "metadata": {},
   "outputs": [],
   "source": [
    "import salem \n",
    "import geopandas as gpd "
   ]
  },
  {
   "cell_type": "code",
   "execution_count": 12,
   "metadata": {},
   "outputs": [],
   "source": [
    "import numpy as np\n",
    "import pandas as pd "
   ]
  },
  {
   "cell_type": "code",
   "execution_count": 13,
   "metadata": {
    "collapsed": false,
    "jupyter": {
     "outputs_hidden": false
    }
   },
   "outputs": [],
   "source": [
    "import xarray as xr"
   ]
  },
  {
   "cell_type": "code",
   "execution_count": 14,
   "metadata": {},
   "outputs": [],
   "source": [
    "from cartopy import crs as ccrs"
   ]
  },
  {
   "cell_type": "code",
   "execution_count": 15,
   "metadata": {},
   "outputs": [],
   "source": [
    "from datetime import datetime, timedelta"
   ]
  },
  {
   "cell_type": "code",
   "execution_count": 16,
   "metadata": {},
   "outputs": [],
   "source": [
    "import calendar"
   ]
  },
  {
   "cell_type": "code",
   "execution_count": 17,
   "metadata": {},
   "outputs": [],
   "source": [
    "import dateutil"
   ]
  },
  {
   "cell_type": "markdown",
   "metadata": {},
   "source": [
    "### function to calculate the anomalies with respect to the 1981 - 2010 climatology "
   ]
  },
  {
   "cell_type": "code",
   "execution_count": 18,
   "metadata": {
    "collapsed": false,
    "jupyter": {
     "outputs_hidden": false
    }
   },
   "outputs": [],
   "source": [
    "def demean(x): \n",
    "    return x - x.loc['1981':'2010',].mean()"
   ]
  },
  {
   "cell_type": "code",
   "execution_count": 19,
   "metadata": {},
   "outputs": [
    {
     "data": {
      "text/plain": [
       "'PRECIP'"
      ]
     },
     "execution_count": 19,
     "metadata": {},
     "output_type": "execute_result"
    }
   ],
   "source": [
    "var_name"
   ]
  },
  {
   "cell_type": "code",
   "execution_count": 20,
   "metadata": {},
   "outputs": [
    {
     "data": {
      "text/plain": [
       "'UKMO'"
      ]
     },
     "execution_count": 20,
     "metadata": {},
     "output_type": "execute_result"
    }
   ],
   "source": [
    "GCM"
   ]
  },
  {
   "cell_type": "markdown",
   "metadata": {},
   "source": [
    "### set the home directory "
   ]
  },
  {
   "cell_type": "code",
   "execution_count": 21,
   "metadata": {},
   "outputs": [],
   "source": [
    "HOME = pathlib.Path.home() "
   ]
  },
  {
   "cell_type": "markdown",
   "metadata": {},
   "source": [
    "### set the working directory "
   ]
  },
  {
   "cell_type": "code",
   "execution_count": 22,
   "metadata": {},
   "outputs": [],
   "source": [
    "CWD = pathlib.Path.cwd()"
   ]
  },
  {
   "cell_type": "markdown",
   "metadata": {},
   "source": [
    "#### input path for the GCM outputs "
   ]
  },
  {
   "cell_type": "code",
   "execution_count": 23,
   "metadata": {},
   "outputs": [],
   "source": [
    "ipath = dpath / 'GCMs' / stage_in / period / provider / GCM / var_name"
   ]
  },
  {
   "cell_type": "code",
   "execution_count": 24,
   "metadata": {},
   "outputs": [
    {
     "data": {
      "text/plain": [
       "PosixPath('/media/nicolasf/GDATA/END19101/Working/data/GCMs/processed/hindcasts/CDS/UKMO/PRECIP')"
      ]
     },
     "execution_count": 24,
     "metadata": {},
     "output_type": "execute_result"
    }
   ],
   "source": [
    "ipath"
   ]
  },
  {
   "cell_type": "code",
   "execution_count": 25,
   "metadata": {},
   "outputs": [],
   "source": [
    "lfiles_gcm = list(ipath.glob(f\"{GCM}_{var_name}_seasonal_anomalies_????_??.nc\")) "
   ]
  },
  {
   "cell_type": "code",
   "execution_count": 26,
   "metadata": {},
   "outputs": [],
   "source": [
    "lfiles_gcm.sort()"
   ]
  },
  {
   "cell_type": "code",
   "execution_count": 27,
   "metadata": {},
   "outputs": [
    {
     "data": {
      "text/plain": [
       "PosixPath('/media/nicolasf/GDATA/END19101/Working/data/GCMs/processed/hindcasts/CDS/UKMO/PRECIP/UKMO_PRECIP_seasonal_anomalies_1993_02.nc')"
      ]
     },
     "execution_count": 27,
     "metadata": {},
     "output_type": "execute_result"
    }
   ],
   "source": [
    "lfiles_gcm[0]"
   ]
  },
  {
   "cell_type": "code",
   "execution_count": 28,
   "metadata": {},
   "outputs": [
    {
     "data": {
      "text/plain": [
       "PosixPath('/media/nicolasf/GDATA/END19101/Working/data/GCMs/processed/hindcasts/CDS/UKMO/PRECIP/UKMO_PRECIP_seasonal_anomalies_2016_12.nc')"
      ]
     },
     "execution_count": 28,
     "metadata": {},
     "output_type": "execute_result"
    }
   ],
   "source": [
    "lfiles_gcm[-1]"
   ]
  },
  {
   "cell_type": "code",
   "execution_count": 29,
   "metadata": {},
   "outputs": [],
   "source": [
    "ncks = \"/home/nicolasf/anaconda3/envs/NCO/bin/ncks\""
   ]
  },
  {
   "cell_type": "code",
   "execution_count": 30,
   "metadata": {},
   "outputs": [],
   "source": [
    "tmp_path = pathlib.Path.home() / 'data' / 'tmp'"
   ]
  },
  {
   "cell_type": "code",
   "execution_count": 31,
   "metadata": {},
   "outputs": [],
   "source": [
    "if not tmp_path.exists(): \n",
    "    tmp_path.mkdir(parents=True)"
   ]
  },
  {
   "cell_type": "markdown",
   "metadata": {},
   "source": [
    "### read files one by one (with SALEM), calculates the ensemble mean, select the step (3) extract the domain"
   ]
  },
  {
   "cell_type": "code",
   "execution_count": 32,
   "metadata": {},
   "outputs": [
    {
     "name": "stdout",
     "output_type": "stream",
     "text": [
      "processed UKMO_PRECIP_seasonal_anomalies_1993_02.nc, ret code 0\n",
      "processed UKMO_PRECIP_seasonal_anomalies_1993_03.nc, ret code 0\n",
      "processed UKMO_PRECIP_seasonal_anomalies_1993_04.nc, ret code 0\n",
      "processed UKMO_PRECIP_seasonal_anomalies_1993_05.nc, ret code 0\n",
      "processed UKMO_PRECIP_seasonal_anomalies_1993_06.nc, ret code 0\n",
      "processed UKMO_PRECIP_seasonal_anomalies_1993_07.nc, ret code 0\n",
      "processed UKMO_PRECIP_seasonal_anomalies_1993_08.nc, ret code 0\n",
      "processed UKMO_PRECIP_seasonal_anomalies_1993_09.nc, ret code 0\n",
      "processed UKMO_PRECIP_seasonal_anomalies_1993_10.nc, ret code 0\n",
      "processed UKMO_PRECIP_seasonal_anomalies_1993_11.nc, ret code 0\n",
      "processed UKMO_PRECIP_seasonal_anomalies_1993_12.nc, ret code 0\n",
      "processed UKMO_PRECIP_seasonal_anomalies_1994_01.nc, ret code 0\n",
      "processed UKMO_PRECIP_seasonal_anomalies_1994_02.nc, ret code 0\n",
      "processed UKMO_PRECIP_seasonal_anomalies_1994_03.nc, ret code 0\n",
      "processed UKMO_PRECIP_seasonal_anomalies_1994_04.nc, ret code 0\n",
      "processed UKMO_PRECIP_seasonal_anomalies_1994_05.nc, ret code 0\n",
      "processed UKMO_PRECIP_seasonal_anomalies_1994_06.nc, ret code 0\n",
      "processed UKMO_PRECIP_seasonal_anomalies_1994_07.nc, ret code 0\n",
      "processed UKMO_PRECIP_seasonal_anomalies_1994_08.nc, ret code 0\n",
      "processed UKMO_PRECIP_seasonal_anomalies_1994_09.nc, ret code 0\n",
      "processed UKMO_PRECIP_seasonal_anomalies_1994_10.nc, ret code 0\n",
      "processed UKMO_PRECIP_seasonal_anomalies_1994_11.nc, ret code 0\n",
      "processed UKMO_PRECIP_seasonal_anomalies_1994_12.nc, ret code 0\n",
      "processed UKMO_PRECIP_seasonal_anomalies_1995_01.nc, ret code 0\n",
      "processed UKMO_PRECIP_seasonal_anomalies_1995_02.nc, ret code 0\n",
      "processed UKMO_PRECIP_seasonal_anomalies_1995_03.nc, ret code 0\n",
      "processed UKMO_PRECIP_seasonal_anomalies_1995_04.nc, ret code 0\n",
      "processed UKMO_PRECIP_seasonal_anomalies_1995_05.nc, ret code 0\n",
      "processed UKMO_PRECIP_seasonal_anomalies_1995_06.nc, ret code 0\n",
      "processed UKMO_PRECIP_seasonal_anomalies_1995_07.nc, ret code 0\n",
      "processed UKMO_PRECIP_seasonal_anomalies_1995_08.nc, ret code 0\n",
      "processed UKMO_PRECIP_seasonal_anomalies_1995_09.nc, ret code 0\n",
      "processed UKMO_PRECIP_seasonal_anomalies_1995_10.nc, ret code 0\n",
      "processed UKMO_PRECIP_seasonal_anomalies_1995_11.nc, ret code 0\n",
      "processed UKMO_PRECIP_seasonal_anomalies_1995_12.nc, ret code 0\n",
      "processed UKMO_PRECIP_seasonal_anomalies_1996_01.nc, ret code 0\n",
      "processed UKMO_PRECIP_seasonal_anomalies_1996_02.nc, ret code 0\n",
      "processed UKMO_PRECIP_seasonal_anomalies_1996_03.nc, ret code 0\n",
      "processed UKMO_PRECIP_seasonal_anomalies_1996_04.nc, ret code 0\n",
      "processed UKMO_PRECIP_seasonal_anomalies_1996_05.nc, ret code 0\n",
      "processed UKMO_PRECIP_seasonal_anomalies_1996_06.nc, ret code 0\n",
      "processed UKMO_PRECIP_seasonal_anomalies_1996_07.nc, ret code 0\n",
      "processed UKMO_PRECIP_seasonal_anomalies_1996_08.nc, ret code 0\n",
      "processed UKMO_PRECIP_seasonal_anomalies_1996_09.nc, ret code 0\n",
      "processed UKMO_PRECIP_seasonal_anomalies_1996_10.nc, ret code 0\n",
      "processed UKMO_PRECIP_seasonal_anomalies_1996_11.nc, ret code 0\n",
      "processed UKMO_PRECIP_seasonal_anomalies_1996_12.nc, ret code 0\n",
      "processed UKMO_PRECIP_seasonal_anomalies_1997_01.nc, ret code 0\n",
      "processed UKMO_PRECIP_seasonal_anomalies_1997_02.nc, ret code 0\n",
      "processed UKMO_PRECIP_seasonal_anomalies_1997_03.nc, ret code 0\n",
      "processed UKMO_PRECIP_seasonal_anomalies_1997_04.nc, ret code 0\n",
      "processed UKMO_PRECIP_seasonal_anomalies_1997_05.nc, ret code 0\n",
      "processed UKMO_PRECIP_seasonal_anomalies_1997_06.nc, ret code 0\n",
      "processed UKMO_PRECIP_seasonal_anomalies_1997_07.nc, ret code 0\n",
      "processed UKMO_PRECIP_seasonal_anomalies_1997_08.nc, ret code 0\n",
      "processed UKMO_PRECIP_seasonal_anomalies_1997_09.nc, ret code 0\n",
      "processed UKMO_PRECIP_seasonal_anomalies_1997_10.nc, ret code 0\n",
      "processed UKMO_PRECIP_seasonal_anomalies_1997_11.nc, ret code 0\n",
      "processed UKMO_PRECIP_seasonal_anomalies_1997_12.nc, ret code 0\n",
      "processed UKMO_PRECIP_seasonal_anomalies_1998_01.nc, ret code 0\n",
      "processed UKMO_PRECIP_seasonal_anomalies_1998_02.nc, ret code 0\n",
      "processed UKMO_PRECIP_seasonal_anomalies_1998_03.nc, ret code 0\n",
      "processed UKMO_PRECIP_seasonal_anomalies_1998_04.nc, ret code 0\n",
      "processed UKMO_PRECIP_seasonal_anomalies_1998_05.nc, ret code 0\n",
      "processed UKMO_PRECIP_seasonal_anomalies_1998_06.nc, ret code 0\n",
      "processed UKMO_PRECIP_seasonal_anomalies_1998_07.nc, ret code 0\n",
      "processed UKMO_PRECIP_seasonal_anomalies_1998_08.nc, ret code 0\n",
      "processed UKMO_PRECIP_seasonal_anomalies_1998_09.nc, ret code 0\n",
      "processed UKMO_PRECIP_seasonal_anomalies_1998_10.nc, ret code 0\n",
      "processed UKMO_PRECIP_seasonal_anomalies_1998_11.nc, ret code 0\n",
      "processed UKMO_PRECIP_seasonal_anomalies_1998_12.nc, ret code 0\n",
      "processed UKMO_PRECIP_seasonal_anomalies_1999_01.nc, ret code 0\n",
      "processed UKMO_PRECIP_seasonal_anomalies_1999_02.nc, ret code 0\n",
      "processed UKMO_PRECIP_seasonal_anomalies_1999_03.nc, ret code 0\n",
      "processed UKMO_PRECIP_seasonal_anomalies_1999_04.nc, ret code 0\n",
      "processed UKMO_PRECIP_seasonal_anomalies_1999_05.nc, ret code 0\n",
      "processed UKMO_PRECIP_seasonal_anomalies_1999_06.nc, ret code 0\n",
      "processed UKMO_PRECIP_seasonal_anomalies_1999_07.nc, ret code 0\n",
      "processed UKMO_PRECIP_seasonal_anomalies_1999_08.nc, ret code 0\n",
      "processed UKMO_PRECIP_seasonal_anomalies_1999_09.nc, ret code 0\n",
      "processed UKMO_PRECIP_seasonal_anomalies_1999_10.nc, ret code 0\n",
      "processed UKMO_PRECIP_seasonal_anomalies_1999_11.nc, ret code 0\n",
      "processed UKMO_PRECIP_seasonal_anomalies_1999_12.nc, ret code 0\n",
      "processed UKMO_PRECIP_seasonal_anomalies_2000_01.nc, ret code 0\n",
      "processed UKMO_PRECIP_seasonal_anomalies_2000_02.nc, ret code 0\n",
      "processed UKMO_PRECIP_seasonal_anomalies_2000_03.nc, ret code 0\n",
      "processed UKMO_PRECIP_seasonal_anomalies_2000_04.nc, ret code 0\n",
      "processed UKMO_PRECIP_seasonal_anomalies_2000_05.nc, ret code 0\n",
      "processed UKMO_PRECIP_seasonal_anomalies_2000_06.nc, ret code 0\n",
      "processed UKMO_PRECIP_seasonal_anomalies_2000_07.nc, ret code 0\n",
      "processed UKMO_PRECIP_seasonal_anomalies_2000_08.nc, ret code 0\n",
      "processed UKMO_PRECIP_seasonal_anomalies_2000_09.nc, ret code 0\n",
      "processed UKMO_PRECIP_seasonal_anomalies_2000_10.nc, ret code 0\n",
      "processed UKMO_PRECIP_seasonal_anomalies_2000_11.nc, ret code 0\n",
      "processed UKMO_PRECIP_seasonal_anomalies_2000_12.nc, ret code 0\n",
      "processed UKMO_PRECIP_seasonal_anomalies_2001_01.nc, ret code 0\n",
      "processed UKMO_PRECIP_seasonal_anomalies_2001_02.nc, ret code 0\n",
      "processed UKMO_PRECIP_seasonal_anomalies_2001_03.nc, ret code 0\n",
      "processed UKMO_PRECIP_seasonal_anomalies_2001_04.nc, ret code 0\n",
      "processed UKMO_PRECIP_seasonal_anomalies_2001_05.nc, ret code 0\n",
      "processed UKMO_PRECIP_seasonal_anomalies_2001_06.nc, ret code 0\n",
      "processed UKMO_PRECIP_seasonal_anomalies_2001_07.nc, ret code 0\n",
      "processed UKMO_PRECIP_seasonal_anomalies_2001_08.nc, ret code 0\n",
      "processed UKMO_PRECIP_seasonal_anomalies_2001_09.nc, ret code 0\n",
      "processed UKMO_PRECIP_seasonal_anomalies_2001_10.nc, ret code 0\n",
      "processed UKMO_PRECIP_seasonal_anomalies_2001_11.nc, ret code 0\n",
      "processed UKMO_PRECIP_seasonal_anomalies_2001_12.nc, ret code 0\n",
      "processed UKMO_PRECIP_seasonal_anomalies_2002_01.nc, ret code 0\n",
      "processed UKMO_PRECIP_seasonal_anomalies_2002_02.nc, ret code 0\n",
      "processed UKMO_PRECIP_seasonal_anomalies_2002_03.nc, ret code 0\n",
      "processed UKMO_PRECIP_seasonal_anomalies_2002_04.nc, ret code 0\n",
      "processed UKMO_PRECIP_seasonal_anomalies_2002_05.nc, ret code 0\n",
      "processed UKMO_PRECIP_seasonal_anomalies_2002_06.nc, ret code 0\n",
      "processed UKMO_PRECIP_seasonal_anomalies_2002_07.nc, ret code 0\n",
      "processed UKMO_PRECIP_seasonal_anomalies_2002_08.nc, ret code 0\n",
      "processed UKMO_PRECIP_seasonal_anomalies_2002_09.nc, ret code 0\n",
      "processed UKMO_PRECIP_seasonal_anomalies_2002_10.nc, ret code 0\n",
      "processed UKMO_PRECIP_seasonal_anomalies_2002_11.nc, ret code 0\n",
      "processed UKMO_PRECIP_seasonal_anomalies_2002_12.nc, ret code 0\n",
      "processed UKMO_PRECIP_seasonal_anomalies_2003_01.nc, ret code 0\n",
      "processed UKMO_PRECIP_seasonal_anomalies_2003_02.nc, ret code 0\n",
      "processed UKMO_PRECIP_seasonal_anomalies_2003_03.nc, ret code 0\n",
      "processed UKMO_PRECIP_seasonal_anomalies_2003_04.nc, ret code 0\n",
      "processed UKMO_PRECIP_seasonal_anomalies_2003_05.nc, ret code 0\n",
      "processed UKMO_PRECIP_seasonal_anomalies_2003_06.nc, ret code 0\n",
      "processed UKMO_PRECIP_seasonal_anomalies_2003_07.nc, ret code 0\n",
      "processed UKMO_PRECIP_seasonal_anomalies_2003_08.nc, ret code 0\n",
      "processed UKMO_PRECIP_seasonal_anomalies_2003_09.nc, ret code 0\n",
      "processed UKMO_PRECIP_seasonal_anomalies_2003_10.nc, ret code 0\n",
      "processed UKMO_PRECIP_seasonal_anomalies_2003_11.nc, ret code 0\n",
      "processed UKMO_PRECIP_seasonal_anomalies_2003_12.nc, ret code 0\n",
      "processed UKMO_PRECIP_seasonal_anomalies_2004_01.nc, ret code 0\n",
      "processed UKMO_PRECIP_seasonal_anomalies_2004_02.nc, ret code 0\n",
      "processed UKMO_PRECIP_seasonal_anomalies_2004_03.nc, ret code 0\n",
      "processed UKMO_PRECIP_seasonal_anomalies_2004_04.nc, ret code 0\n",
      "processed UKMO_PRECIP_seasonal_anomalies_2004_05.nc, ret code 0\n",
      "processed UKMO_PRECIP_seasonal_anomalies_2004_06.nc, ret code 0\n",
      "processed UKMO_PRECIP_seasonal_anomalies_2004_07.nc, ret code 0\n",
      "processed UKMO_PRECIP_seasonal_anomalies_2004_08.nc, ret code 0\n",
      "processed UKMO_PRECIP_seasonal_anomalies_2004_09.nc, ret code 0\n",
      "processed UKMO_PRECIP_seasonal_anomalies_2004_10.nc, ret code 0\n",
      "processed UKMO_PRECIP_seasonal_anomalies_2004_11.nc, ret code 0\n",
      "processed UKMO_PRECIP_seasonal_anomalies_2004_12.nc, ret code 0\n",
      "processed UKMO_PRECIP_seasonal_anomalies_2005_01.nc, ret code 0\n",
      "processed UKMO_PRECIP_seasonal_anomalies_2005_02.nc, ret code 0\n",
      "processed UKMO_PRECIP_seasonal_anomalies_2005_03.nc, ret code 0\n",
      "processed UKMO_PRECIP_seasonal_anomalies_2005_04.nc, ret code 0\n",
      "processed UKMO_PRECIP_seasonal_anomalies_2005_05.nc, ret code 0\n",
      "processed UKMO_PRECIP_seasonal_anomalies_2005_06.nc, ret code 0\n",
      "processed UKMO_PRECIP_seasonal_anomalies_2005_07.nc, ret code 0\n",
      "processed UKMO_PRECIP_seasonal_anomalies_2005_08.nc, ret code 0\n",
      "processed UKMO_PRECIP_seasonal_anomalies_2005_09.nc, ret code 0\n",
      "processed UKMO_PRECIP_seasonal_anomalies_2005_10.nc, ret code 0\n",
      "processed UKMO_PRECIP_seasonal_anomalies_2005_11.nc, ret code 0\n",
      "processed UKMO_PRECIP_seasonal_anomalies_2005_12.nc, ret code 0\n",
      "processed UKMO_PRECIP_seasonal_anomalies_2006_01.nc, ret code 0\n",
      "processed UKMO_PRECIP_seasonal_anomalies_2006_02.nc, ret code 0\n",
      "processed UKMO_PRECIP_seasonal_anomalies_2006_03.nc, ret code 0\n",
      "processed UKMO_PRECIP_seasonal_anomalies_2006_04.nc, ret code 0\n",
      "processed UKMO_PRECIP_seasonal_anomalies_2006_05.nc, ret code 0\n",
      "processed UKMO_PRECIP_seasonal_anomalies_2006_06.nc, ret code 0\n",
      "processed UKMO_PRECIP_seasonal_anomalies_2006_07.nc, ret code 0\n",
      "processed UKMO_PRECIP_seasonal_anomalies_2006_08.nc, ret code 0\n",
      "processed UKMO_PRECIP_seasonal_anomalies_2006_09.nc, ret code 0\n",
      "processed UKMO_PRECIP_seasonal_anomalies_2006_10.nc, ret code 0\n",
      "processed UKMO_PRECIP_seasonal_anomalies_2006_11.nc, ret code 0\n",
      "processed UKMO_PRECIP_seasonal_anomalies_2006_12.nc, ret code 0\n",
      "processed UKMO_PRECIP_seasonal_anomalies_2007_01.nc, ret code 0\n",
      "processed UKMO_PRECIP_seasonal_anomalies_2007_02.nc, ret code 0\n",
      "processed UKMO_PRECIP_seasonal_anomalies_2007_03.nc, ret code 0\n",
      "processed UKMO_PRECIP_seasonal_anomalies_2007_04.nc, ret code 0\n",
      "processed UKMO_PRECIP_seasonal_anomalies_2007_05.nc, ret code 0\n",
      "processed UKMO_PRECIP_seasonal_anomalies_2007_06.nc, ret code 0\n",
      "processed UKMO_PRECIP_seasonal_anomalies_2007_07.nc, ret code 0\n",
      "processed UKMO_PRECIP_seasonal_anomalies_2007_08.nc, ret code 0\n",
      "processed UKMO_PRECIP_seasonal_anomalies_2007_09.nc, ret code 0\n",
      "processed UKMO_PRECIP_seasonal_anomalies_2007_10.nc, ret code 0\n",
      "processed UKMO_PRECIP_seasonal_anomalies_2007_11.nc, ret code 0\n",
      "processed UKMO_PRECIP_seasonal_anomalies_2007_12.nc, ret code 0\n",
      "processed UKMO_PRECIP_seasonal_anomalies_2008_01.nc, ret code 0\n",
      "processed UKMO_PRECIP_seasonal_anomalies_2008_02.nc, ret code 0\n",
      "processed UKMO_PRECIP_seasonal_anomalies_2008_03.nc, ret code 0\n",
      "processed UKMO_PRECIP_seasonal_anomalies_2008_04.nc, ret code 0\n",
      "processed UKMO_PRECIP_seasonal_anomalies_2008_05.nc, ret code 0\n",
      "processed UKMO_PRECIP_seasonal_anomalies_2008_06.nc, ret code 0\n",
      "processed UKMO_PRECIP_seasonal_anomalies_2008_07.nc, ret code 0\n",
      "processed UKMO_PRECIP_seasonal_anomalies_2008_08.nc, ret code 0\n",
      "processed UKMO_PRECIP_seasonal_anomalies_2008_09.nc, ret code 0\n",
      "processed UKMO_PRECIP_seasonal_anomalies_2008_10.nc, ret code 0\n",
      "processed UKMO_PRECIP_seasonal_anomalies_2008_11.nc, ret code 0\n",
      "processed UKMO_PRECIP_seasonal_anomalies_2008_12.nc, ret code 0\n",
      "processed UKMO_PRECIP_seasonal_anomalies_2009_01.nc, ret code 0\n",
      "processed UKMO_PRECIP_seasonal_anomalies_2009_02.nc, ret code 0\n",
      "processed UKMO_PRECIP_seasonal_anomalies_2009_03.nc, ret code 0\n",
      "processed UKMO_PRECIP_seasonal_anomalies_2009_04.nc, ret code 0\n",
      "processed UKMO_PRECIP_seasonal_anomalies_2009_05.nc, ret code 0\n",
      "processed UKMO_PRECIP_seasonal_anomalies_2009_06.nc, ret code 0\n",
      "processed UKMO_PRECIP_seasonal_anomalies_2009_07.nc, ret code 0\n",
      "processed UKMO_PRECIP_seasonal_anomalies_2009_08.nc, ret code 0\n",
      "processed UKMO_PRECIP_seasonal_anomalies_2009_09.nc, ret code 0\n",
      "processed UKMO_PRECIP_seasonal_anomalies_2009_10.nc, ret code 0\n",
      "processed UKMO_PRECIP_seasonal_anomalies_2009_11.nc, ret code 0\n",
      "processed UKMO_PRECIP_seasonal_anomalies_2009_12.nc, ret code 0\n",
      "processed UKMO_PRECIP_seasonal_anomalies_2010_01.nc, ret code 0\n",
      "processed UKMO_PRECIP_seasonal_anomalies_2010_02.nc, ret code 0\n",
      "processed UKMO_PRECIP_seasonal_anomalies_2010_03.nc, ret code 0\n",
      "processed UKMO_PRECIP_seasonal_anomalies_2010_04.nc, ret code 0\n",
      "processed UKMO_PRECIP_seasonal_anomalies_2010_05.nc, ret code 0\n",
      "processed UKMO_PRECIP_seasonal_anomalies_2010_06.nc, ret code 0\n",
      "processed UKMO_PRECIP_seasonal_anomalies_2010_07.nc, ret code 0\n",
      "processed UKMO_PRECIP_seasonal_anomalies_2010_08.nc, ret code 0\n",
      "processed UKMO_PRECIP_seasonal_anomalies_2010_09.nc, ret code 0\n",
      "processed UKMO_PRECIP_seasonal_anomalies_2010_10.nc, ret code 0\n",
      "processed UKMO_PRECIP_seasonal_anomalies_2010_11.nc, ret code 0\n",
      "processed UKMO_PRECIP_seasonal_anomalies_2010_12.nc, ret code 0\n",
      "processed UKMO_PRECIP_seasonal_anomalies_2011_01.nc, ret code 0\n",
      "processed UKMO_PRECIP_seasonal_anomalies_2011_02.nc, ret code 0\n",
      "processed UKMO_PRECIP_seasonal_anomalies_2011_03.nc, ret code 0\n",
      "processed UKMO_PRECIP_seasonal_anomalies_2011_04.nc, ret code 0\n",
      "processed UKMO_PRECIP_seasonal_anomalies_2011_05.nc, ret code 0\n",
      "processed UKMO_PRECIP_seasonal_anomalies_2011_06.nc, ret code 0\n",
      "processed UKMO_PRECIP_seasonal_anomalies_2011_07.nc, ret code 0\n",
      "processed UKMO_PRECIP_seasonal_anomalies_2011_08.nc, ret code 0\n",
      "processed UKMO_PRECIP_seasonal_anomalies_2011_09.nc, ret code 0\n",
      "processed UKMO_PRECIP_seasonal_anomalies_2011_10.nc, ret code 0\n",
      "processed UKMO_PRECIP_seasonal_anomalies_2011_11.nc, ret code 0\n",
      "processed UKMO_PRECIP_seasonal_anomalies_2011_12.nc, ret code 0\n",
      "processed UKMO_PRECIP_seasonal_anomalies_2012_01.nc, ret code 0\n",
      "processed UKMO_PRECIP_seasonal_anomalies_2012_02.nc, ret code 0\n",
      "processed UKMO_PRECIP_seasonal_anomalies_2012_03.nc, ret code 0\n",
      "processed UKMO_PRECIP_seasonal_anomalies_2012_04.nc, ret code 0\n",
      "processed UKMO_PRECIP_seasonal_anomalies_2012_05.nc, ret code 0\n",
      "processed UKMO_PRECIP_seasonal_anomalies_2012_06.nc, ret code 0\n",
      "processed UKMO_PRECIP_seasonal_anomalies_2012_07.nc, ret code 0\n",
      "processed UKMO_PRECIP_seasonal_anomalies_2012_08.nc, ret code 0\n",
      "processed UKMO_PRECIP_seasonal_anomalies_2012_09.nc, ret code 0\n",
      "processed UKMO_PRECIP_seasonal_anomalies_2012_10.nc, ret code 0\n",
      "processed UKMO_PRECIP_seasonal_anomalies_2012_11.nc, ret code 0\n",
      "processed UKMO_PRECIP_seasonal_anomalies_2012_12.nc, ret code 0\n",
      "processed UKMO_PRECIP_seasonal_anomalies_2013_01.nc, ret code 0\n",
      "processed UKMO_PRECIP_seasonal_anomalies_2013_02.nc, ret code 0\n",
      "processed UKMO_PRECIP_seasonal_anomalies_2013_03.nc, ret code 0\n",
      "processed UKMO_PRECIP_seasonal_anomalies_2013_04.nc, ret code 0\n",
      "processed UKMO_PRECIP_seasonal_anomalies_2013_05.nc, ret code 0\n",
      "processed UKMO_PRECIP_seasonal_anomalies_2013_06.nc, ret code 0\n",
      "processed UKMO_PRECIP_seasonal_anomalies_2013_07.nc, ret code 0\n",
      "processed UKMO_PRECIP_seasonal_anomalies_2013_08.nc, ret code 0\n",
      "processed UKMO_PRECIP_seasonal_anomalies_2013_09.nc, ret code 0\n",
      "processed UKMO_PRECIP_seasonal_anomalies_2013_10.nc, ret code 0\n",
      "processed UKMO_PRECIP_seasonal_anomalies_2013_11.nc, ret code 0\n",
      "processed UKMO_PRECIP_seasonal_anomalies_2013_12.nc, ret code 0\n",
      "processed UKMO_PRECIP_seasonal_anomalies_2014_01.nc, ret code 0\n",
      "processed UKMO_PRECIP_seasonal_anomalies_2014_02.nc, ret code 0\n",
      "processed UKMO_PRECIP_seasonal_anomalies_2014_03.nc, ret code 0\n",
      "processed UKMO_PRECIP_seasonal_anomalies_2014_04.nc, ret code 0\n",
      "processed UKMO_PRECIP_seasonal_anomalies_2014_05.nc, ret code 0\n",
      "processed UKMO_PRECIP_seasonal_anomalies_2014_06.nc, ret code 0\n",
      "processed UKMO_PRECIP_seasonal_anomalies_2014_07.nc, ret code 0\n",
      "processed UKMO_PRECIP_seasonal_anomalies_2014_08.nc, ret code 0\n",
      "processed UKMO_PRECIP_seasonal_anomalies_2014_09.nc, ret code 0\n",
      "processed UKMO_PRECIP_seasonal_anomalies_2014_10.nc, ret code 0\n",
      "processed UKMO_PRECIP_seasonal_anomalies_2014_11.nc, ret code 0\n",
      "processed UKMO_PRECIP_seasonal_anomalies_2014_12.nc, ret code 0\n",
      "processed UKMO_PRECIP_seasonal_anomalies_2015_01.nc, ret code 0\n",
      "processed UKMO_PRECIP_seasonal_anomalies_2015_02.nc, ret code 0\n",
      "processed UKMO_PRECIP_seasonal_anomalies_2015_03.nc, ret code 0\n",
      "processed UKMO_PRECIP_seasonal_anomalies_2015_04.nc, ret code 0\n",
      "processed UKMO_PRECIP_seasonal_anomalies_2015_05.nc, ret code 0\n",
      "processed UKMO_PRECIP_seasonal_anomalies_2015_06.nc, ret code 0\n",
      "processed UKMO_PRECIP_seasonal_anomalies_2015_07.nc, ret code 0\n",
      "processed UKMO_PRECIP_seasonal_anomalies_2015_08.nc, ret code 0\n",
      "processed UKMO_PRECIP_seasonal_anomalies_2015_09.nc, ret code 0\n",
      "processed UKMO_PRECIP_seasonal_anomalies_2015_10.nc, ret code 0\n",
      "processed UKMO_PRECIP_seasonal_anomalies_2015_11.nc, ret code 0\n",
      "processed UKMO_PRECIP_seasonal_anomalies_2015_12.nc, ret code 0\n",
      "processed UKMO_PRECIP_seasonal_anomalies_2016_01.nc, ret code 0\n",
      "processed UKMO_PRECIP_seasonal_anomalies_2016_02.nc, ret code 0\n",
      "processed UKMO_PRECIP_seasonal_anomalies_2016_03.nc, ret code 0\n",
      "processed UKMO_PRECIP_seasonal_anomalies_2016_04.nc, ret code 0\n",
      "processed UKMO_PRECIP_seasonal_anomalies_2016_05.nc, ret code 0\n",
      "processed UKMO_PRECIP_seasonal_anomalies_2016_06.nc, ret code 0\n",
      "processed UKMO_PRECIP_seasonal_anomalies_2016_07.nc, ret code 0\n",
      "processed UKMO_PRECIP_seasonal_anomalies_2016_08.nc, ret code 0\n",
      "processed UKMO_PRECIP_seasonal_anomalies_2016_09.nc, ret code 0\n",
      "processed UKMO_PRECIP_seasonal_anomalies_2016_10.nc, ret code 0\n",
      "processed UKMO_PRECIP_seasonal_anomalies_2016_11.nc, ret code 0\n",
      "processed UKMO_PRECIP_seasonal_anomalies_2016_12.nc, ret code 0\n"
     ]
    }
   ],
   "source": [
    "for fname in lfiles_gcm: \n",
    "    cmd = f\"{ncks} -d lat,{nz_domain['lat_min']},{nz_domain['lat_max']} -d lon,{nz_domain['lon_min']},{nz_domain['lon_max']} -d step,{step}.,{step}. {str(fname)} {str(tmp_path / fname.name)}\"\n",
    "    r = call(cmd, shell=True)\n",
    "    print(f\"processed {fname.name}, ret code {r}\")"
   ]
  },
  {
   "cell_type": "code",
   "execution_count": 33,
   "metadata": {},
   "outputs": [],
   "source": [
    "lfiles_tmp = list(tmp_path.glob(f\"{GCM}_{var_name}_seasonal_anomalies_????_??.nc\")) "
   ]
  },
  {
   "cell_type": "code",
   "execution_count": 34,
   "metadata": {},
   "outputs": [],
   "source": [
    "lfiles_tmp.sort()"
   ]
  },
  {
   "cell_type": "code",
   "execution_count": 35,
   "metadata": {},
   "outputs": [
    {
     "data": {
      "text/plain": [
       "PosixPath('/home/nicolasf/data/tmp/UKMO_PRECIP_seasonal_anomalies_1993_02.nc')"
      ]
     },
     "execution_count": 35,
     "metadata": {},
     "output_type": "execute_result"
    }
   ],
   "source": [
    "lfiles_tmp[0]"
   ]
  },
  {
   "cell_type": "code",
   "execution_count": 36,
   "metadata": {},
   "outputs": [
    {
     "data": {
      "text/plain": [
       "PosixPath('/home/nicolasf/data/tmp/UKMO_PRECIP_seasonal_anomalies_2016_12.nc')"
      ]
     },
     "execution_count": 36,
     "metadata": {},
     "output_type": "execute_result"
    }
   ],
   "source": [
    "lfiles_tmp[-1]"
   ]
  },
  {
   "cell_type": "markdown",
   "metadata": {},
   "source": [
    "### load the dataset, DO NOT calculate the ensemble average, as it could be good to increase the number of samples ..."
   ]
  },
  {
   "cell_type": "code",
   "execution_count": 37,
   "metadata": {},
   "outputs": [],
   "source": [
    "dset_l = []\n",
    "time_l = []\n",
    "for fname in lfiles_tmp: \n",
    "    dset = salem.open_xr_dataset(fname)\n",
    "    # here make sure that we drop potentially conflicting variables and coordinates\n",
    "    if 'surface' in dset.variables: \n",
    "        dset = dset.drop('surface') \n",
    "    if 'valid_time' in dset.coords: \n",
    "        dset = dset.drop('valid_time')\n",
    "#     dset = dset.mean('member') \n",
    "    dset = dset.sel(step=step)\n",
    "    time = pd.to_datetime(dset.time.data) + dateutil.relativedelta.relativedelta(month=step + 1)\n",
    "    time_l.append(time)\n",
    "    dset_l.append(dset)"
   ]
  },
  {
   "cell_type": "code",
   "execution_count": 38,
   "metadata": {},
   "outputs": [],
   "source": [
    "dset = xr.concat(dset_l, dim='time')"
   ]
  },
  {
   "cell_type": "code",
   "execution_count": 39,
   "metadata": {},
   "outputs": [
    {
     "data": {
      "text/html": [
       "<pre>&lt;xarray.Dataset&gt;\n",
       "Dimensions:  (lat: 30, lon: 80, member: 28, time: 287)\n",
       "Coordinates:\n",
       "    step     int64 3\n",
       "  * lat      (lat) float64 -49.5 -48.5 -47.5 -46.5 ... -23.5 -22.5 -21.5 -20.5\n",
       "  * member   (member) int64 0 1 2 3 4 5 6 7 8 9 ... 19 20 21 22 23 24 25 26 27\n",
       "  * lon      (lon) float64 100.5 101.5 102.5 103.5 ... 176.5 177.5 178.5 179.5\n",
       "    month    (time) int64 2 3 4 5 6 7 8 9 10 11 12 ... 2 3 4 5 6 7 8 9 10 11 12\n",
       "  * time     (time) datetime64[ns] 1993-02-01 1993-03-01 ... 2016-12-01\n",
       "Data variables:\n",
       "    precip   (time, member, lat, lon) float32 3.896865e-10 ... 2.670916e-09\n",
       "Attributes:\n",
       "    history:     Wed Mar 25 11:18:56 2020: /home/nicolasf/anaconda3/envs/NCO/...\n",
       "    NCO:         netCDF Operators version 4.8.1 (Homepage = http://nco.sf.net...\n",
       "    pyproj_srs:  +units=m +proj=latlong +datum=WGS84 </pre>"
      ],
      "text/plain": [
       "<xarray.Dataset>\n",
       "Dimensions:  (lat: 30, lon: 80, member: 28, time: 287)\n",
       "Coordinates:\n",
       "    step     int64 3\n",
       "  * lat      (lat) float64 -49.5 -48.5 -47.5 -46.5 ... -23.5 -22.5 -21.5 -20.5\n",
       "  * member   (member) int64 0 1 2 3 4 5 6 7 8 9 ... 19 20 21 22 23 24 25 26 27\n",
       "  * lon      (lon) float64 100.5 101.5 102.5 103.5 ... 176.5 177.5 178.5 179.5\n",
       "    month    (time) int64 2 3 4 5 6 7 8 9 10 11 12 ... 2 3 4 5 6 7 8 9 10 11 12\n",
       "  * time     (time) datetime64[ns] 1993-02-01 1993-03-01 ... 2016-12-01\n",
       "Data variables:\n",
       "    precip   (time, member, lat, lon) float32 3.896865e-10 ... 2.670916e-09\n",
       "Attributes:\n",
       "    history:     Wed Mar 25 11:18:56 2020: /home/nicolasf/anaconda3/envs/NCO/...\n",
       "    NCO:         netCDF Operators version 4.8.1 (Homepage = http://nco.sf.net...\n",
       "    pyproj_srs:  +units=m +proj=latlong +datum=WGS84 "
      ]
     },
     "execution_count": 39,
     "metadata": {},
     "output_type": "execute_result"
    }
   ],
   "source": [
    "dset"
   ]
  },
  {
   "cell_type": "markdown",
   "metadata": {},
   "source": [
    "### open the target grid (1x1) onto which all the GCM will be interpolated (but for the JMA ?)"
   ]
  },
  {
   "cell_type": "code",
   "execution_count": 40,
   "metadata": {},
   "outputs": [],
   "source": [
    "target_grid = xr.open_dataset(pathlib.Path(set_root_dir(root='local') / 'GCMs' / 'target_grid' / 'target_grid_1x1.nc'))"
   ]
  },
  {
   "cell_type": "code",
   "execution_count": 41,
   "metadata": {},
   "outputs": [
    {
     "data": {
      "text/html": [
       "<pre>&lt;xarray.Dataset&gt;\n",
       "Dimensions:  (lat: 180, lon: 360)\n",
       "Coordinates:\n",
       "  * lat      (lat) float64 -89.5 -88.5 -87.5 -86.5 -85.5 ... 86.5 87.5 88.5 89.5\n",
       "  * lon      (lon) float64 0.5 1.5 2.5 3.5 4.5 ... 355.5 356.5 357.5 358.5 359.5\n",
       "Data variables:\n",
       "    *empty*</pre>"
      ],
      "text/plain": [
       "<xarray.Dataset>\n",
       "Dimensions:  (lat: 180, lon: 360)\n",
       "Coordinates:\n",
       "  * lat      (lat) float64 -89.5 -88.5 -87.5 -86.5 -85.5 ... 86.5 87.5 88.5 89.5\n",
       "  * lon      (lon) float64 0.5 1.5 2.5 3.5 4.5 ... 355.5 356.5 357.5 358.5 359.5\n",
       "Data variables:\n",
       "    *empty*"
      ]
     },
     "execution_count": 41,
     "metadata": {},
     "output_type": "execute_result"
    }
   ],
   "source": [
    "target_grid"
   ]
  },
  {
   "cell_type": "code",
   "execution_count": 42,
   "metadata": {},
   "outputs": [],
   "source": [
    "target_grid = target_grid.sel(lat=slice(nz_domain['lat_min'], nz_domain['lat_max']), lon=slice(nz_domain['lon_min'], nz_domain['lon_max']))"
   ]
  },
  {
   "cell_type": "code",
   "execution_count": 43,
   "metadata": {},
   "outputs": [
    {
     "data": {
      "text/html": [
       "<pre>&lt;xarray.Dataset&gt;\n",
       "Dimensions:  (lat: 30, lon: 80)\n",
       "Coordinates:\n",
       "  * lat      (lat) float64 -49.5 -48.5 -47.5 -46.5 ... -23.5 -22.5 -21.5 -20.5\n",
       "  * lon      (lon) float64 100.5 101.5 102.5 103.5 ... 176.5 177.5 178.5 179.5\n",
       "Data variables:\n",
       "    *empty*</pre>"
      ],
      "text/plain": [
       "<xarray.Dataset>\n",
       "Dimensions:  (lat: 30, lon: 80)\n",
       "Coordinates:\n",
       "  * lat      (lat) float64 -49.5 -48.5 -47.5 -46.5 ... -23.5 -22.5 -21.5 -20.5\n",
       "  * lon      (lon) float64 100.5 101.5 102.5 103.5 ... 176.5 177.5 178.5 179.5\n",
       "Data variables:\n",
       "    *empty*"
      ]
     },
     "execution_count": 43,
     "metadata": {},
     "output_type": "execute_result"
    }
   ],
   "source": [
    "target_grid"
   ]
  },
  {
   "cell_type": "code",
   "execution_count": 44,
   "metadata": {},
   "outputs": [],
   "source": [
    "dset = dset.interp_like(target_grid)"
   ]
  },
  {
   "cell_type": "code",
   "execution_count": 45,
   "metadata": {},
   "outputs": [
    {
     "data": {
      "text/html": [
       "<pre>&lt;xarray.Dataset&gt;\n",
       "Dimensions:  (lat: 30, lon: 80, member: 28, time: 287)\n",
       "Coordinates:\n",
       "    step     int64 3\n",
       "  * member   (member) int64 0 1 2 3 4 5 6 7 8 9 ... 19 20 21 22 23 24 25 26 27\n",
       "    month    (time) int64 2 3 4 5 6 7 8 9 10 11 12 ... 2 3 4 5 6 7 8 9 10 11 12\n",
       "  * time     (time) datetime64[ns] 1993-02-01 1993-03-01 ... 2016-12-01\n",
       "  * lat      (lat) float64 -49.5 -48.5 -47.5 -46.5 ... -23.5 -22.5 -21.5 -20.5\n",
       "  * lon      (lon) float64 100.5 101.5 102.5 103.5 ... 176.5 177.5 178.5 179.5\n",
       "Data variables:\n",
       "    precip   (time, member, lat, lon) float64 3.897e-10 -1.028e-09 ... 2.671e-09\n",
       "Attributes:\n",
       "    history:     Wed Mar 25 11:18:56 2020: /home/nicolasf/anaconda3/envs/NCO/...\n",
       "    NCO:         netCDF Operators version 4.8.1 (Homepage = http://nco.sf.net...\n",
       "    pyproj_srs:  +units=m +proj=latlong +datum=WGS84 </pre>"
      ],
      "text/plain": [
       "<xarray.Dataset>\n",
       "Dimensions:  (lat: 30, lon: 80, member: 28, time: 287)\n",
       "Coordinates:\n",
       "    step     int64 3\n",
       "  * member   (member) int64 0 1 2 3 4 5 6 7 8 9 ... 19 20 21 22 23 24 25 26 27\n",
       "    month    (time) int64 2 3 4 5 6 7 8 9 10 11 12 ... 2 3 4 5 6 7 8 9 10 11 12\n",
       "  * time     (time) datetime64[ns] 1993-02-01 1993-03-01 ... 2016-12-01\n",
       "  * lat      (lat) float64 -49.5 -48.5 -47.5 -46.5 ... -23.5 -22.5 -21.5 -20.5\n",
       "  * lon      (lon) float64 100.5 101.5 102.5 103.5 ... 176.5 177.5 178.5 179.5\n",
       "Data variables:\n",
       "    precip   (time, member, lat, lon) float64 3.897e-10 -1.028e-09 ... 2.671e-09\n",
       "Attributes:\n",
       "    history:     Wed Mar 25 11:18:56 2020: /home/nicolasf/anaconda3/envs/NCO/...\n",
       "    NCO:         netCDF Operators version 4.8.1 (Homepage = http://nco.sf.net...\n",
       "    pyproj_srs:  +units=m +proj=latlong +datum=WGS84 "
      ]
     },
     "execution_count": 45,
     "metadata": {},
     "output_type": "execute_result"
    }
   ],
   "source": [
    "dset"
   ]
  },
  {
   "cell_type": "markdown",
   "metadata": {},
   "source": [
    "### only needed if the forecast period is mistakenly included in the hindcast folder "
   ]
  },
  {
   "cell_type": "code",
   "execution_count": 46,
   "metadata": {},
   "outputs": [],
   "source": [
    "if pd.to_datetime(dset.time[-1].data).year > 2016: \n",
    "    dset = dset.sel(time=slice(None, '2016')) # only needed if "
   ]
  },
  {
   "cell_type": "code",
   "execution_count": 47,
   "metadata": {},
   "outputs": [
    {
     "data": {
      "text/html": [
       "<pre>&lt;xarray.Dataset&gt;\n",
       "Dimensions:  (lat: 30, lon: 80, member: 28, time: 287)\n",
       "Coordinates:\n",
       "    step     int64 3\n",
       "  * member   (member) int64 0 1 2 3 4 5 6 7 8 9 ... 19 20 21 22 23 24 25 26 27\n",
       "    month    (time) int64 2 3 4 5 6 7 8 9 10 11 12 ... 2 3 4 5 6 7 8 9 10 11 12\n",
       "  * time     (time) datetime64[ns] 1993-02-01 1993-03-01 ... 2016-12-01\n",
       "  * lat      (lat) float64 -49.5 -48.5 -47.5 -46.5 ... -23.5 -22.5 -21.5 -20.5\n",
       "  * lon      (lon) float64 100.5 101.5 102.5 103.5 ... 176.5 177.5 178.5 179.5\n",
       "Data variables:\n",
       "    precip   (time, member, lat, lon) float64 3.897e-10 -1.028e-09 ... 2.671e-09\n",
       "Attributes:\n",
       "    history:     Wed Mar 25 11:18:56 2020: /home/nicolasf/anaconda3/envs/NCO/...\n",
       "    NCO:         netCDF Operators version 4.8.1 (Homepage = http://nco.sf.net...\n",
       "    pyproj_srs:  +units=m +proj=latlong +datum=WGS84 </pre>"
      ],
      "text/plain": [
       "<xarray.Dataset>\n",
       "Dimensions:  (lat: 30, lon: 80, member: 28, time: 287)\n",
       "Coordinates:\n",
       "    step     int64 3\n",
       "  * member   (member) int64 0 1 2 3 4 5 6 7 8 9 ... 19 20 21 22 23 24 25 26 27\n",
       "    month    (time) int64 2 3 4 5 6 7 8 9 10 11 12 ... 2 3 4 5 6 7 8 9 10 11 12\n",
       "  * time     (time) datetime64[ns] 1993-02-01 1993-03-01 ... 2016-12-01\n",
       "  * lat      (lat) float64 -49.5 -48.5 -47.5 -46.5 ... -23.5 -22.5 -21.5 -20.5\n",
       "  * lon      (lon) float64 100.5 101.5 102.5 103.5 ... 176.5 177.5 178.5 179.5\n",
       "Data variables:\n",
       "    precip   (time, member, lat, lon) float64 3.897e-10 -1.028e-09 ... 2.671e-09\n",
       "Attributes:\n",
       "    history:     Wed Mar 25 11:18:56 2020: /home/nicolasf/anaconda3/envs/NCO/...\n",
       "    NCO:         netCDF Operators version 4.8.1 (Homepage = http://nco.sf.net...\n",
       "    pyproj_srs:  +units=m +proj=latlong +datum=WGS84 "
      ]
     },
     "execution_count": 47,
     "metadata": {},
     "output_type": "execute_result"
    }
   ],
   "source": [
    "dset"
   ]
  },
  {
   "cell_type": "markdown",
   "metadata": {},
   "source": [
    "### shift the time index, to reflect the actual forecast valid time "
   ]
  },
  {
   "cell_type": "code",
   "execution_count": 48,
   "metadata": {},
   "outputs": [],
   "source": [
    "dset['time'] = dset.time.to_index().shift(step + 1, freq='M')"
   ]
  },
  {
   "cell_type": "code",
   "execution_count": 49,
   "metadata": {},
   "outputs": [
    {
     "data": {
      "text/plain": [
       "array('1993-05-31T00:00:00.000000000', dtype='datetime64[ns]')"
      ]
     },
     "execution_count": 49,
     "metadata": {},
     "output_type": "execute_result"
    }
   ],
   "source": [
    "dset.time[0].data"
   ]
  },
  {
   "cell_type": "code",
   "execution_count": 50,
   "metadata": {},
   "outputs": [
    {
     "data": {
      "text/plain": [
       "array('2017-03-31T00:00:00.000000000', dtype='datetime64[ns]')"
      ]
     },
     "execution_count": 50,
     "metadata": {},
     "output_type": "execute_result"
    }
   ],
   "source": [
    "dset.time[-1].data"
   ]
  },
  {
   "cell_type": "markdown",
   "metadata": {},
   "source": [
    "### reads the NZ 'melted' shapefile, see commented code below for how to dissolve shapes"
   ]
  },
  {
   "cell_type": "code",
   "execution_count": 51,
   "metadata": {},
   "outputs": [],
   "source": [
    "# nz_regions = gpd.read_file(set_root_dir(root='local') / 'shapefiles' / 'NZ_regions' / 'NZ_6_regions' / 'NZ_regions_corrected.shp') \n",
    "\n",
    "# nz_regions\n",
    "\n",
    "# nz_regions = nz_regions.to_crs(epsg=4326)\n",
    "\n",
    "# nz_regions.crs\n",
    "\n",
    "# nz_regions.loc[:,'reg'] = 1\n",
    "\n",
    "# nz = nz_regions.dissolve(by='reg')\n",
    "\n",
    "# nz.loc[:,'Location'] = 'NZ'\n",
    "\n",
    "# nz.to_file(set_root_dir(root='local') / 'shapefiles' / \"NZ.json\", driver=\"GeoJSON\")"
   ]
  },
  {
   "cell_type": "code",
   "execution_count": 52,
   "metadata": {},
   "outputs": [],
   "source": [
    "nz = gpd.read_file(set_root_dir(root='local') / 'shapefiles' / \"NZ.json\") "
   ]
  },
  {
   "cell_type": "code",
   "execution_count": 53,
   "metadata": {},
   "outputs": [
    {
     "data": {
      "text/plain": [
       "<matplotlib.axes._subplots.AxesSubplot at 0x7f686458b0d0>"
      ]
     },
     "execution_count": 53,
     "metadata": {},
     "output_type": "execute_result"
    },
    {
     "data": {
      "image/png": "[encoded data removed]",
      "text/plain": [
       "<Figure size 432x288 with 1 Axes>"
      ]
     },
     "metadata": {
      "needs_background": "light"
     },
     "output_type": "display_data"
    }
   ],
   "source": [
    "nz.plot()"
   ]
  },
  {
   "cell_type": "markdown",
   "metadata": {},
   "source": [
    "### check the CRS "
   ]
  },
  {
   "cell_type": "code",
   "execution_count": 54,
   "metadata": {},
   "outputs": [],
   "source": [
    "if not (nz.crs['init'] == 'epsg:4326'): \n",
    "    print('\\n\\nWARNING: the CRS for NZ is not lat lon! ')"
   ]
  },
  {
   "cell_type": "markdown",
   "metadata": {},
   "source": [
    "### defines the output path "
   ]
  },
  {
   "cell_type": "code",
   "execution_count": 55,
   "metadata": {},
   "outputs": [],
   "source": [
    "opath = HOME / 'research' / 'Smart_Ideas' / 'outputs' / 'targets' / 'GCMs' / 'NZ_shape_grid' / GCM / var_name"
   ]
  },
  {
   "cell_type": "code",
   "execution_count": 56,
   "metadata": {},
   "outputs": [],
   "source": [
    "if not opath.exists(): \n",
    "    opath.mkdir(parents=True)"
   ]
  },
  {
   "cell_type": "markdown",
   "metadata": {},
   "source": [
    "### extract and plots the regions subset and ROIs, just plot the first member of the ensemble ... "
   ]
  },
  {
   "cell_type": "code",
   "execution_count": 57,
   "metadata": {},
   "outputs": [
    {
     "data": {
      "image/png": "[encoded data removed]",
      "text/plain": [
       "<Figure size 720x360 with 2 Axes>"
      ]
     },
     "metadata": {
      "needs_background": "light"
     },
     "output_type": "display_data"
    }
   ],
   "source": [
    "f, axes = plt.subplots(figsize=(10, 5), ncols=2, subplot_kw={'projection':ccrs.PlateCarree(central_longitude=180)}) \n",
    "\n",
    "nat = dset.salem.subset(shape=nz, margin=2)\n",
    "\n",
    "nat[var_name.lower()][0,0,:,:].plot(ax=axes[0], transform=ccrs.PlateCarree(), add_colorbar=False, cmap='binary')\n",
    "\n",
    "axes[0].coastlines(resolution='10m')\n",
    "\n",
    "axes[0].set_title(f'{GCM} NZ subset')\n",
    "\n",
    "if ((nat.dims['lat'] > 1) & (nat.dims['lon'] > 1)):\n",
    "\n",
    "    nat = nat.salem.roi(shape=nz, all_touched=True)\n",
    "\n",
    "    nat[var_name.lower()][0,0,:,:].plot(ax=axes[1], transform=ccrs.PlateCarree(), add_colorbar=False, cmap='binary')\n",
    "\n",
    "    axes[1].coastlines(resolution='10m')\n",
    "\n",
    "    axes[1].set_title(f'{GCM}, NZ ROI')\n",
    "\n",
    "f.savefig(CWD.parents[2] / 'figures' / f'subset_and_ROI_map_{GCM}_NZ.png', dpi=200, bbox_inches='tight')"
   ]
  },
  {
   "cell_type": "markdown",
   "metadata": {},
   "source": [
    "### saves to disk "
   ]
  },
  {
   "cell_type": "code",
   "execution_count": 58,
   "metadata": {},
   "outputs": [
    {
     "data": {
      "text/plain": [
       "Timestamp('1993-05-31 00:00:00')"
      ]
     },
     "execution_count": 58,
     "metadata": {},
     "output_type": "execute_result"
    }
   ],
   "source": [
    "pd.to_datetime(nat.time[0].data)"
   ]
  },
  {
   "cell_type": "code",
   "execution_count": 59,
   "metadata": {},
   "outputs": [
    {
     "data": {
      "text/plain": [
       "Timestamp('2017-03-31 00:00:00')"
      ]
     },
     "execution_count": 59,
     "metadata": {},
     "output_type": "execute_result"
    }
   ],
   "source": [
    "pd.to_datetime(nat.time[-1].data)"
   ]
  },
  {
   "cell_type": "code",
   "execution_count": 60,
   "metadata": {},
   "outputs": [],
   "source": [
    "nat.to_netcdf(opath / f\"NZ_nat_{GCM}_{var_name}_{pd.to_datetime(nat.time[0].data):%Y-%m}_{pd.to_datetime(nat.time[-1].data):%Y-%m}.nc\") "
   ]
  },
  {
   "cell_type": "code",
   "execution_count": 62,
   "metadata": {},
   "outputs": [
    {
     "name": "stdout",
     "output_type": "stream",
     "text": [
      "\n",
      "\n",
      "\n",
      "PROCESSING FINISHED FOR UKMO -> PRECIP\n"
     ]
    }
   ],
   "source": [
    "print(f\"\\n\\n\\nPROCESSING FINISHED FOR {GCM} -> {var_name}\")"
   ]
  },
  {
   "cell_type": "code",
   "execution_count": 63,
   "metadata": {},
   "outputs": [
    {
     "name": "stdout",
     "output_type": "stream",
     "text": [
      "/home/nicolasf/research/Smart_Ideas/code/targets/GCM\n"
     ]
    }
   ],
   "source": [
    "!pwd"
   ]
  },
  {
   "cell_type": "code",
   "execution_count": null,
   "metadata": {},
   "outputs": [],
   "source": []
  }
 ],
 "metadata": {
  "kernelspec": {
   "display_name": "Python 3",
   "language": "python",
   "name": "python3"
  },
  "language_info": {
   "codemirror_mode": {
    "name": "ipython",
    "version": 3
   },
   "file_extension": ".py",
   "mimetype": "text/x-python",
   "name": "python",
   "nbconvert_exporter": "python",
   "pygments_lexer": "ipython3",
   "version": "3.7.5"
  },
  "latex_envs": {
   "bibliofile": "biblio.bib",
   "cite_by": "apalike",
   "current_citInitial": 1,
   "eqLabelWithNumbers": true,
   "eqNumInitial": 0
  }
 },
 "nbformat": 4,
 "nbformat_minor": 4
}
