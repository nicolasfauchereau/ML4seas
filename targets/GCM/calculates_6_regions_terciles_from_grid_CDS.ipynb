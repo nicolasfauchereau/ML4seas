{
 "cells": [
  {
   "cell_type": "markdown",
   "metadata": {},
   "source": [
    "# calculates the seasonal anomalies and the seasonal tercile categories from the gridded GCM"
   ]
  },
  {
   "cell_type": "code",
   "execution_count": 1,
   "metadata": {},
   "outputs": [],
   "source": [
    "# Paramaters \n",
    "provider = 'IRI'\n",
    "stage_in = 'processed'\n",
    "period = 'hindcasts'\n",
    "GCM = 'NCEP_C'\n",
    "var_name = 'T2M'\n",
    "step = 3\n",
    "remove_tmp = True"
   ]
  },
  {
   "cell_type": "code",
   "execution_count": 2,
   "metadata": {},
   "outputs": [],
   "source": [
    "%matplotlib inline "
   ]
  },
  {
   "cell_type": "code",
   "execution_count": 3,
   "metadata": {},
   "outputs": [],
   "source": [
    "from matplotlib import pyplot as plt"
   ]
  },
  {
   "cell_type": "code",
   "execution_count": 4,
   "metadata": {},
   "outputs": [],
   "source": [
    "import sys"
   ]
  },
  {
   "cell_type": "code",
   "execution_count": 5,
   "metadata": {},
   "outputs": [],
   "source": [
    "sys.path.append('../../utils')"
   ]
  },
  {
   "cell_type": "markdown",
   "metadata": {},
   "source": [
    "### set the root directory for loading the GCM outputs files "
   ]
  },
  {
   "cell_type": "code",
   "execution_count": 6,
   "metadata": {},
   "outputs": [],
   "source": [
    "from set_root_dir import set_root_dir"
   ]
  },
  {
   "cell_type": "code",
   "execution_count": 7,
   "metadata": {},
   "outputs": [],
   "source": [
    "dpath = set_root_dir(root='gdata')"
   ]
  },
  {
   "cell_type": "code",
   "execution_count": 8,
   "metadata": {},
   "outputs": [
    {
     "name": "stdout",
     "output_type": "stream",
     "text": [
      "/media/nicolasf/GDATA/END19101/Working/data\n"
     ]
    }
   ],
   "source": [
    "print(dpath)"
   ]
  },
  {
   "cell_type": "code",
   "execution_count": 9,
   "metadata": {},
   "outputs": [],
   "source": [
    "import os\n",
    "import pathlib\n",
    "from subprocess import call\n",
    "import shutil"
   ]
  },
  {
   "cell_type": "code",
   "execution_count": 10,
   "metadata": {},
   "outputs": [],
   "source": [
    "import salem \n",
    "import geopandas as gpd "
   ]
  },
  {
   "cell_type": "code",
   "execution_count": 11,
   "metadata": {},
   "outputs": [],
   "source": [
    "import numpy as np\n",
    "import pandas as pd "
   ]
  },
  {
   "cell_type": "code",
   "execution_count": 12,
   "metadata": {
    "collapsed": false,
    "jupyter": {
     "outputs_hidden": false
    }
   },
   "outputs": [],
   "source": [
    "import xarray as xr"
   ]
  },
  {
   "cell_type": "code",
   "execution_count": 13,
   "metadata": {},
   "outputs": [],
   "source": [
    "from cartopy import crs as ccrs"
   ]
  },
  {
   "cell_type": "code",
   "execution_count": 14,
   "metadata": {},
   "outputs": [],
   "source": [
    "from datetime import datetime, timedelta"
   ]
  },
  {
   "cell_type": "code",
   "execution_count": 15,
   "metadata": {},
   "outputs": [],
   "source": [
    "import calendar"
   ]
  },
  {
   "cell_type": "code",
   "execution_count": 16,
   "metadata": {},
   "outputs": [],
   "source": [
    "import dateutil"
   ]
  },
  {
   "cell_type": "markdown",
   "metadata": {},
   "source": [
    "### function to calculate the anomalies with respect to the 1981 - 2010 climatology "
   ]
  },
  {
   "cell_type": "code",
   "execution_count": 17,
   "metadata": {
    "collapsed": false,
    "jupyter": {
     "outputs_hidden": false
    }
   },
   "outputs": [],
   "source": [
    "def demean(x): \n",
    "    return x - x.loc['1981':'2010',].mean()"
   ]
  },
  {
   "cell_type": "code",
   "execution_count": 18,
   "metadata": {},
   "outputs": [
    {
     "data": {
      "text/plain": [
       "'T2M'"
      ]
     },
     "execution_count": 18,
     "metadata": {},
     "output_type": "execute_result"
    }
   ],
   "source": [
    "var_name"
   ]
  },
  {
   "cell_type": "code",
   "execution_count": 19,
   "metadata": {},
   "outputs": [
    {
     "data": {
      "text/plain": [
       "'CMCC'"
      ]
     },
     "execution_count": 19,
     "metadata": {},
     "output_type": "execute_result"
    }
   ],
   "source": [
    "GCM"
   ]
  },
  {
   "cell_type": "markdown",
   "metadata": {},
   "source": [
    "### set the home directory "
   ]
  },
  {
   "cell_type": "code",
   "execution_count": 20,
   "metadata": {},
   "outputs": [],
   "source": [
    "HOME = pathlib.Path.home() "
   ]
  },
  {
   "cell_type": "markdown",
   "metadata": {},
   "source": [
    "### set the working directory "
   ]
  },
  {
   "cell_type": "code",
   "execution_count": 21,
   "metadata": {},
   "outputs": [],
   "source": [
    "CWD = pathlib.Path.cwd()"
   ]
  },
  {
   "cell_type": "markdown",
   "metadata": {},
   "source": [
    "#### input path for the GCM outputs "
   ]
  },
  {
   "cell_type": "code",
   "execution_count": 22,
   "metadata": {},
   "outputs": [],
   "source": [
    "ipath = dpath / 'GCMs' / stage_in / period / provider / GCM / var_name"
   ]
  },
  {
   "cell_type": "code",
   "execution_count": 23,
   "metadata": {},
   "outputs": [
    {
     "data": {
      "text/plain": [
       "PosixPath('/media/nicolasf/GDATA/END19101/Working/data/GCMs/processed/hindcasts/CDS/CMCC/T2M')"
      ]
     },
     "execution_count": 23,
     "metadata": {},
     "output_type": "execute_result"
    }
   ],
   "source": [
    "ipath"
   ]
  },
  {
   "cell_type": "code",
   "execution_count": 24,
   "metadata": {},
   "outputs": [],
   "source": [
    "lfiles_gcm = list(ipath.glob(f\"{GCM}_{var_name}_seasonal_anomalies_????_??.nc\")) "
   ]
  },
  {
   "cell_type": "code",
   "execution_count": 25,
   "metadata": {},
   "outputs": [],
   "source": [
    "lfiles_gcm.sort()"
   ]
  },
  {
   "cell_type": "code",
   "execution_count": 26,
   "metadata": {},
   "outputs": [
    {
     "data": {
      "text/plain": [
       "PosixPath('/media/nicolasf/GDATA/END19101/Working/data/GCMs/processed/hindcasts/CDS/CMCC/T2M/CMCC_T2M_seasonal_anomalies_1993_01.nc')"
      ]
     },
     "execution_count": 26,
     "metadata": {},
     "output_type": "execute_result"
    }
   ],
   "source": [
    "lfiles_gcm[0]"
   ]
  },
  {
   "cell_type": "code",
   "execution_count": 27,
   "metadata": {},
   "outputs": [
    {
     "data": {
      "text/plain": [
       "PosixPath('/media/nicolasf/GDATA/END19101/Working/data/GCMs/processed/hindcasts/CDS/CMCC/T2M/CMCC_T2M_seasonal_anomalies_2016_12.nc')"
      ]
     },
     "execution_count": 27,
     "metadata": {},
     "output_type": "execute_result"
    }
   ],
   "source": [
    "lfiles_gcm[-1]"
   ]
  },
  {
   "cell_type": "code",
   "execution_count": 28,
   "metadata": {},
   "outputs": [],
   "source": [
    "ncks = \"/home/nicolasf/anaconda3/envs/NCO/bin/ncks\""
   ]
  },
  {
   "cell_type": "code",
   "execution_count": 29,
   "metadata": {},
   "outputs": [],
   "source": [
    "tmp_path = pathlib.Path.home() / 'data' / 'tmp'"
   ]
  },
  {
   "cell_type": "code",
   "execution_count": 30,
   "metadata": {},
   "outputs": [],
   "source": [
    "if not tmp_path.exists(): \n",
    "    tmp_path.mkdir(parents=True)"
   ]
  },
  {
   "cell_type": "markdown",
   "metadata": {},
   "source": [
    "### read files one by one (with SALEM), calculates the ensemble mean, select the step (3) extract the domain"
   ]
  },
  {
   "cell_type": "code",
   "execution_count": 31,
   "metadata": {},
   "outputs": [
    {
     "name": "stdout",
     "output_type": "stream",
     "text": [
      "processed CMCC_T2M_seasonal_anomalies_1993_01.nc, ret code 0\n",
      "processed CMCC_T2M_seasonal_anomalies_1993_02.nc, ret code 0\n",
      "processed CMCC_T2M_seasonal_anomalies_1993_03.nc, ret code 0\n",
      "processed CMCC_T2M_seasonal_anomalies_1993_04.nc, ret code 0\n",
      "processed CMCC_T2M_seasonal_anomalies_1993_05.nc, ret code 0\n",
      "processed CMCC_T2M_seasonal_anomalies_1993_06.nc, ret code 0\n",
      "processed CMCC_T2M_seasonal_anomalies_1993_07.nc, ret code 0\n",
      "processed CMCC_T2M_seasonal_anomalies_1993_08.nc, ret code 0\n",
      "processed CMCC_T2M_seasonal_anomalies_1993_09.nc, ret code 0\n",
      "processed CMCC_T2M_seasonal_anomalies_1993_10.nc, ret code 0\n",
      "processed CMCC_T2M_seasonal_anomalies_1993_11.nc, ret code 0\n",
      "processed CMCC_T2M_seasonal_anomalies_1993_12.nc, ret code 0\n",
      "processed CMCC_T2M_seasonal_anomalies_1994_01.nc, ret code 0\n",
      "processed CMCC_T2M_seasonal_anomalies_1994_02.nc, ret code 0\n",
      "processed CMCC_T2M_seasonal_anomalies_1994_03.nc, ret code 0\n",
      "processed CMCC_T2M_seasonal_anomalies_1994_04.nc, ret code 0\n",
      "processed CMCC_T2M_seasonal_anomalies_1994_05.nc, ret code 0\n",
      "processed CMCC_T2M_seasonal_anomalies_1994_06.nc, ret code 0\n",
      "processed CMCC_T2M_seasonal_anomalies_1994_07.nc, ret code 0\n",
      "processed CMCC_T2M_seasonal_anomalies_1994_08.nc, ret code 0\n",
      "processed CMCC_T2M_seasonal_anomalies_1994_09.nc, ret code 0\n",
      "processed CMCC_T2M_seasonal_anomalies_1994_10.nc, ret code 0\n",
      "processed CMCC_T2M_seasonal_anomalies_1994_11.nc, ret code 0\n",
      "processed CMCC_T2M_seasonal_anomalies_1994_12.nc, ret code 0\n",
      "processed CMCC_T2M_seasonal_anomalies_1995_01.nc, ret code 0\n",
      "processed CMCC_T2M_seasonal_anomalies_1995_02.nc, ret code 0\n",
      "processed CMCC_T2M_seasonal_anomalies_1995_03.nc, ret code 0\n",
      "processed CMCC_T2M_seasonal_anomalies_1995_04.nc, ret code 0\n",
      "processed CMCC_T2M_seasonal_anomalies_1995_05.nc, ret code 0\n",
      "processed CMCC_T2M_seasonal_anomalies_1995_06.nc, ret code 0\n",
      "processed CMCC_T2M_seasonal_anomalies_1995_07.nc, ret code 0\n",
      "processed CMCC_T2M_seasonal_anomalies_1995_08.nc, ret code 0\n",
      "processed CMCC_T2M_seasonal_anomalies_1995_09.nc, ret code 0\n",
      "processed CMCC_T2M_seasonal_anomalies_1995_10.nc, ret code 0\n",
      "processed CMCC_T2M_seasonal_anomalies_1995_11.nc, ret code 0\n",
      "processed CMCC_T2M_seasonal_anomalies_1995_12.nc, ret code 0\n",
      "processed CMCC_T2M_seasonal_anomalies_1996_01.nc, ret code 0\n",
      "processed CMCC_T2M_seasonal_anomalies_1996_02.nc, ret code 0\n",
      "processed CMCC_T2M_seasonal_anomalies_1996_03.nc, ret code 0\n",
      "processed CMCC_T2M_seasonal_anomalies_1996_04.nc, ret code 0\n",
      "processed CMCC_T2M_seasonal_anomalies_1996_05.nc, ret code 0\n",
      "processed CMCC_T2M_seasonal_anomalies_1996_06.nc, ret code 0\n",
      "processed CMCC_T2M_seasonal_anomalies_1996_07.nc, ret code 0\n",
      "processed CMCC_T2M_seasonal_anomalies_1996_08.nc, ret code 0\n",
      "processed CMCC_T2M_seasonal_anomalies_1996_09.nc, ret code 0\n",
      "processed CMCC_T2M_seasonal_anomalies_1996_10.nc, ret code 0\n",
      "processed CMCC_T2M_seasonal_anomalies_1996_11.nc, ret code 0\n",
      "processed CMCC_T2M_seasonal_anomalies_1996_12.nc, ret code 0\n",
      "processed CMCC_T2M_seasonal_anomalies_1997_01.nc, ret code 0\n",
      "processed CMCC_T2M_seasonal_anomalies_1997_02.nc, ret code 0\n",
      "processed CMCC_T2M_seasonal_anomalies_1997_03.nc, ret code 0\n",
      "processed CMCC_T2M_seasonal_anomalies_1997_04.nc, ret code 0\n",
      "processed CMCC_T2M_seasonal_anomalies_1997_05.nc, ret code 0\n",
      "processed CMCC_T2M_seasonal_anomalies_1997_06.nc, ret code 0\n",
      "processed CMCC_T2M_seasonal_anomalies_1997_07.nc, ret code 0\n",
      "processed CMCC_T2M_seasonal_anomalies_1997_08.nc, ret code 0\n",
      "processed CMCC_T2M_seasonal_anomalies_1997_09.nc, ret code 0\n",
      "processed CMCC_T2M_seasonal_anomalies_1997_10.nc, ret code 0\n",
      "processed CMCC_T2M_seasonal_anomalies_1997_11.nc, ret code 0\n",
      "processed CMCC_T2M_seasonal_anomalies_1997_12.nc, ret code 0\n",
      "processed CMCC_T2M_seasonal_anomalies_1998_01.nc, ret code 0\n",
      "processed CMCC_T2M_seasonal_anomalies_1998_02.nc, ret code 0\n",
      "processed CMCC_T2M_seasonal_anomalies_1998_03.nc, ret code 0\n",
      "processed CMCC_T2M_seasonal_anomalies_1998_04.nc, ret code 0\n",
      "processed CMCC_T2M_seasonal_anomalies_1998_05.nc, ret code 0\n",
      "processed CMCC_T2M_seasonal_anomalies_1998_06.nc, ret code 0\n",
      "processed CMCC_T2M_seasonal_anomalies_1998_07.nc, ret code 0\n",
      "processed CMCC_T2M_seasonal_anomalies_1998_08.nc, ret code 0\n",
      "processed CMCC_T2M_seasonal_anomalies_1998_09.nc, ret code 0\n",
      "processed CMCC_T2M_seasonal_anomalies_1998_10.nc, ret code 0\n",
      "processed CMCC_T2M_seasonal_anomalies_1998_11.nc, ret code 0\n",
      "processed CMCC_T2M_seasonal_anomalies_1998_12.nc, ret code 0\n",
      "processed CMCC_T2M_seasonal_anomalies_1999_01.nc, ret code 0\n",
      "processed CMCC_T2M_seasonal_anomalies_1999_02.nc, ret code 0\n",
      "processed CMCC_T2M_seasonal_anomalies_1999_03.nc, ret code 0\n",
      "processed CMCC_T2M_seasonal_anomalies_1999_04.nc, ret code 0\n",
      "processed CMCC_T2M_seasonal_anomalies_1999_05.nc, ret code 0\n",
      "processed CMCC_T2M_seasonal_anomalies_1999_06.nc, ret code 0\n",
      "processed CMCC_T2M_seasonal_anomalies_1999_07.nc, ret code 0\n",
      "processed CMCC_T2M_seasonal_anomalies_1999_08.nc, ret code 0\n",
      "processed CMCC_T2M_seasonal_anomalies_1999_09.nc, ret code 0\n",
      "processed CMCC_T2M_seasonal_anomalies_1999_10.nc, ret code 0\n",
      "processed CMCC_T2M_seasonal_anomalies_1999_11.nc, ret code 0\n",
      "processed CMCC_T2M_seasonal_anomalies_1999_12.nc, ret code 0\n",
      "processed CMCC_T2M_seasonal_anomalies_2000_01.nc, ret code 0\n",
      "processed CMCC_T2M_seasonal_anomalies_2000_02.nc, ret code 0\n",
      "processed CMCC_T2M_seasonal_anomalies_2000_03.nc, ret code 0\n",
      "processed CMCC_T2M_seasonal_anomalies_2000_04.nc, ret code 0\n",
      "processed CMCC_T2M_seasonal_anomalies_2000_05.nc, ret code 0\n",
      "processed CMCC_T2M_seasonal_anomalies_2000_06.nc, ret code 0\n",
      "processed CMCC_T2M_seasonal_anomalies_2000_07.nc, ret code 0\n",
      "processed CMCC_T2M_seasonal_anomalies_2000_08.nc, ret code 0\n",
      "processed CMCC_T2M_seasonal_anomalies_2000_09.nc, ret code 0\n",
      "processed CMCC_T2M_seasonal_anomalies_2000_10.nc, ret code 0\n",
      "processed CMCC_T2M_seasonal_anomalies_2000_11.nc, ret code 0\n",
      "processed CMCC_T2M_seasonal_anomalies_2000_12.nc, ret code 0\n",
      "processed CMCC_T2M_seasonal_anomalies_2001_01.nc, ret code 0\n",
      "processed CMCC_T2M_seasonal_anomalies_2001_02.nc, ret code 0\n",
      "processed CMCC_T2M_seasonal_anomalies_2001_03.nc, ret code 0\n",
      "processed CMCC_T2M_seasonal_anomalies_2001_04.nc, ret code 0\n",
      "processed CMCC_T2M_seasonal_anomalies_2001_05.nc, ret code 0\n",
      "processed CMCC_T2M_seasonal_anomalies_2001_06.nc, ret code 0\n",
      "processed CMCC_T2M_seasonal_anomalies_2001_07.nc, ret code 0\n",
      "processed CMCC_T2M_seasonal_anomalies_2001_08.nc, ret code 0\n",
      "processed CMCC_T2M_seasonal_anomalies_2001_09.nc, ret code 0\n",
      "processed CMCC_T2M_seasonal_anomalies_2001_10.nc, ret code 0\n",
      "processed CMCC_T2M_seasonal_anomalies_2001_11.nc, ret code 0\n",
      "processed CMCC_T2M_seasonal_anomalies_2001_12.nc, ret code 0\n",
      "processed CMCC_T2M_seasonal_anomalies_2002_01.nc, ret code 0\n",
      "processed CMCC_T2M_seasonal_anomalies_2002_03.nc, ret code 0\n",
      "processed CMCC_T2M_seasonal_anomalies_2002_04.nc, ret code 0\n",
      "processed CMCC_T2M_seasonal_anomalies_2002_05.nc, ret code 0\n",
      "processed CMCC_T2M_seasonal_anomalies_2002_06.nc, ret code 0\n",
      "processed CMCC_T2M_seasonal_anomalies_2002_07.nc, ret code 0\n",
      "processed CMCC_T2M_seasonal_anomalies_2002_08.nc, ret code 0\n",
      "processed CMCC_T2M_seasonal_anomalies_2002_09.nc, ret code 0\n",
      "processed CMCC_T2M_seasonal_anomalies_2002_10.nc, ret code 0\n",
      "processed CMCC_T2M_seasonal_anomalies_2002_11.nc, ret code 0\n",
      "processed CMCC_T2M_seasonal_anomalies_2002_12.nc, ret code 0\n",
      "processed CMCC_T2M_seasonal_anomalies_2003_01.nc, ret code 0\n",
      "processed CMCC_T2M_seasonal_anomalies_2003_03.nc, ret code 0\n",
      "processed CMCC_T2M_seasonal_anomalies_2003_04.nc, ret code 0\n",
      "processed CMCC_T2M_seasonal_anomalies_2003_05.nc, ret code 0\n",
      "processed CMCC_T2M_seasonal_anomalies_2003_06.nc, ret code 0\n",
      "processed CMCC_T2M_seasonal_anomalies_2003_07.nc, ret code 0\n",
      "processed CMCC_T2M_seasonal_anomalies_2003_08.nc, ret code 0\n",
      "processed CMCC_T2M_seasonal_anomalies_2003_09.nc, ret code 0\n",
      "processed CMCC_T2M_seasonal_anomalies_2003_10.nc, ret code 0\n",
      "processed CMCC_T2M_seasonal_anomalies_2003_11.nc, ret code 0\n",
      "processed CMCC_T2M_seasonal_anomalies_2003_12.nc, ret code 0\n",
      "processed CMCC_T2M_seasonal_anomalies_2004_01.nc, ret code 0\n",
      "processed CMCC_T2M_seasonal_anomalies_2004_03.nc, ret code 0\n",
      "processed CMCC_T2M_seasonal_anomalies_2004_04.nc, ret code 0\n",
      "processed CMCC_T2M_seasonal_anomalies_2004_05.nc, ret code 0\n",
      "processed CMCC_T2M_seasonal_anomalies_2004_06.nc, ret code 0\n",
      "processed CMCC_T2M_seasonal_anomalies_2004_07.nc, ret code 0\n",
      "processed CMCC_T2M_seasonal_anomalies_2004_08.nc, ret code 0\n",
      "processed CMCC_T2M_seasonal_anomalies_2004_09.nc, ret code 0\n",
      "processed CMCC_T2M_seasonal_anomalies_2004_10.nc, ret code 0\n",
      "processed CMCC_T2M_seasonal_anomalies_2004_11.nc, ret code 0\n",
      "processed CMCC_T2M_seasonal_anomalies_2004_12.nc, ret code 0\n",
      "processed CMCC_T2M_seasonal_anomalies_2005_01.nc, ret code 0\n",
      "processed CMCC_T2M_seasonal_anomalies_2005_03.nc, ret code 0\n",
      "processed CMCC_T2M_seasonal_anomalies_2005_04.nc, ret code 0\n",
      "processed CMCC_T2M_seasonal_anomalies_2005_05.nc, ret code 0\n",
      "processed CMCC_T2M_seasonal_anomalies_2005_06.nc, ret code 0\n",
      "processed CMCC_T2M_seasonal_anomalies_2005_07.nc, ret code 0\n",
      "processed CMCC_T2M_seasonal_anomalies_2005_08.nc, ret code 0\n",
      "processed CMCC_T2M_seasonal_anomalies_2005_09.nc, ret code 0\n",
      "processed CMCC_T2M_seasonal_anomalies_2005_10.nc, ret code 0\n",
      "processed CMCC_T2M_seasonal_anomalies_2005_11.nc, ret code 0\n",
      "processed CMCC_T2M_seasonal_anomalies_2005_12.nc, ret code 0\n",
      "processed CMCC_T2M_seasonal_anomalies_2006_01.nc, ret code 0\n",
      "processed CMCC_T2M_seasonal_anomalies_2006_03.nc, ret code 0\n",
      "processed CMCC_T2M_seasonal_anomalies_2006_04.nc, ret code 0\n",
      "processed CMCC_T2M_seasonal_anomalies_2006_05.nc, ret code 0\n",
      "processed CMCC_T2M_seasonal_anomalies_2006_06.nc, ret code 0\n",
      "processed CMCC_T2M_seasonal_anomalies_2006_07.nc, ret code 0\n",
      "processed CMCC_T2M_seasonal_anomalies_2006_08.nc, ret code 0\n",
      "processed CMCC_T2M_seasonal_anomalies_2006_09.nc, ret code 0\n",
      "processed CMCC_T2M_seasonal_anomalies_2006_10.nc, ret code 0\n",
      "processed CMCC_T2M_seasonal_anomalies_2006_11.nc, ret code 0\n",
      "processed CMCC_T2M_seasonal_anomalies_2006_12.nc, ret code 0\n",
      "processed CMCC_T2M_seasonal_anomalies_2007_01.nc, ret code 0\n",
      "processed CMCC_T2M_seasonal_anomalies_2007_03.nc, ret code 0\n",
      "processed CMCC_T2M_seasonal_anomalies_2007_04.nc, ret code 0\n",
      "processed CMCC_T2M_seasonal_anomalies_2007_05.nc, ret code 0\n",
      "processed CMCC_T2M_seasonal_anomalies_2007_06.nc, ret code 0\n",
      "processed CMCC_T2M_seasonal_anomalies_2007_07.nc, ret code 0\n",
      "processed CMCC_T2M_seasonal_anomalies_2007_08.nc, ret code 0\n",
      "processed CMCC_T2M_seasonal_anomalies_2007_09.nc, ret code 0\n",
      "processed CMCC_T2M_seasonal_anomalies_2007_10.nc, ret code 0\n",
      "processed CMCC_T2M_seasonal_anomalies_2007_11.nc, ret code 0\n",
      "processed CMCC_T2M_seasonal_anomalies_2007_12.nc, ret code 0\n",
      "processed CMCC_T2M_seasonal_anomalies_2008_01.nc, ret code 0\n",
      "processed CMCC_T2M_seasonal_anomalies_2008_03.nc, ret code 0\n",
      "processed CMCC_T2M_seasonal_anomalies_2008_04.nc, ret code 0\n",
      "processed CMCC_T2M_seasonal_anomalies_2008_05.nc, ret code 0\n",
      "processed CMCC_T2M_seasonal_anomalies_2008_06.nc, ret code 0\n",
      "processed CMCC_T2M_seasonal_anomalies_2008_07.nc, ret code 0\n",
      "processed CMCC_T2M_seasonal_anomalies_2008_08.nc, ret code 0\n",
      "processed CMCC_T2M_seasonal_anomalies_2008_09.nc, ret code 0\n",
      "processed CMCC_T2M_seasonal_anomalies_2008_10.nc, ret code 0\n",
      "processed CMCC_T2M_seasonal_anomalies_2008_11.nc, ret code 0\n",
      "processed CMCC_T2M_seasonal_anomalies_2008_12.nc, ret code 0\n",
      "processed CMCC_T2M_seasonal_anomalies_2009_01.nc, ret code 0\n",
      "processed CMCC_T2M_seasonal_anomalies_2009_03.nc, ret code 0\n",
      "processed CMCC_T2M_seasonal_anomalies_2009_04.nc, ret code 0\n",
      "processed CMCC_T2M_seasonal_anomalies_2009_05.nc, ret code 0\n",
      "processed CMCC_T2M_seasonal_anomalies_2009_06.nc, ret code 0\n",
      "processed CMCC_T2M_seasonal_anomalies_2009_07.nc, ret code 0\n",
      "processed CMCC_T2M_seasonal_anomalies_2009_08.nc, ret code 0\n",
      "processed CMCC_T2M_seasonal_anomalies_2009_09.nc, ret code 0\n",
      "processed CMCC_T2M_seasonal_anomalies_2009_10.nc, ret code 0\n",
      "processed CMCC_T2M_seasonal_anomalies_2009_11.nc, ret code 0\n",
      "processed CMCC_T2M_seasonal_anomalies_2009_12.nc, ret code 0\n",
      "processed CMCC_T2M_seasonal_anomalies_2010_01.nc, ret code 0\n",
      "processed CMCC_T2M_seasonal_anomalies_2010_03.nc, ret code 0\n",
      "processed CMCC_T2M_seasonal_anomalies_2010_04.nc, ret code 0\n",
      "processed CMCC_T2M_seasonal_anomalies_2010_05.nc, ret code 0\n",
      "processed CMCC_T2M_seasonal_anomalies_2010_06.nc, ret code 0\n",
      "processed CMCC_T2M_seasonal_anomalies_2010_07.nc, ret code 0\n",
      "processed CMCC_T2M_seasonal_anomalies_2010_08.nc, ret code 0\n",
      "processed CMCC_T2M_seasonal_anomalies_2010_09.nc, ret code 0\n",
      "processed CMCC_T2M_seasonal_anomalies_2010_10.nc, ret code 0\n",
      "processed CMCC_T2M_seasonal_anomalies_2010_11.nc, ret code 0\n",
      "processed CMCC_T2M_seasonal_anomalies_2010_12.nc, ret code 0\n",
      "processed CMCC_T2M_seasonal_anomalies_2011_01.nc, ret code 0\n",
      "processed CMCC_T2M_seasonal_anomalies_2011_03.nc, ret code 0\n",
      "processed CMCC_T2M_seasonal_anomalies_2011_04.nc, ret code 0\n",
      "processed CMCC_T2M_seasonal_anomalies_2011_05.nc, ret code 0\n",
      "processed CMCC_T2M_seasonal_anomalies_2011_06.nc, ret code 0\n",
      "processed CMCC_T2M_seasonal_anomalies_2011_07.nc, ret code 0\n",
      "processed CMCC_T2M_seasonal_anomalies_2011_08.nc, ret code 0\n",
      "processed CMCC_T2M_seasonal_anomalies_2011_09.nc, ret code 0\n",
      "processed CMCC_T2M_seasonal_anomalies_2011_10.nc, ret code 0\n",
      "processed CMCC_T2M_seasonal_anomalies_2011_11.nc, ret code 0\n",
      "processed CMCC_T2M_seasonal_anomalies_2011_12.nc, ret code 0\n",
      "processed CMCC_T2M_seasonal_anomalies_2012_01.nc, ret code 0\n",
      "processed CMCC_T2M_seasonal_anomalies_2012_03.nc, ret code 0\n",
      "processed CMCC_T2M_seasonal_anomalies_2012_04.nc, ret code 0\n",
      "processed CMCC_T2M_seasonal_anomalies_2012_05.nc, ret code 0\n",
      "processed CMCC_T2M_seasonal_anomalies_2012_06.nc, ret code 0\n",
      "processed CMCC_T2M_seasonal_anomalies_2012_07.nc, ret code 0\n",
      "processed CMCC_T2M_seasonal_anomalies_2012_08.nc, ret code 0\n",
      "processed CMCC_T2M_seasonal_anomalies_2012_09.nc, ret code 0\n",
      "processed CMCC_T2M_seasonal_anomalies_2012_10.nc, ret code 0\n",
      "processed CMCC_T2M_seasonal_anomalies_2012_11.nc, ret code 0\n",
      "processed CMCC_T2M_seasonal_anomalies_2012_12.nc, ret code 0\n",
      "processed CMCC_T2M_seasonal_anomalies_2013_01.nc, ret code 0\n",
      "processed CMCC_T2M_seasonal_anomalies_2013_03.nc, ret code 0\n",
      "processed CMCC_T2M_seasonal_anomalies_2013_04.nc, ret code 0\n",
      "processed CMCC_T2M_seasonal_anomalies_2013_05.nc, ret code 0\n",
      "processed CMCC_T2M_seasonal_anomalies_2013_06.nc, ret code 0\n",
      "processed CMCC_T2M_seasonal_anomalies_2013_07.nc, ret code 0\n",
      "processed CMCC_T2M_seasonal_anomalies_2013_08.nc, ret code 0\n",
      "processed CMCC_T2M_seasonal_anomalies_2013_09.nc, ret code 0\n",
      "processed CMCC_T2M_seasonal_anomalies_2013_10.nc, ret code 0\n",
      "processed CMCC_T2M_seasonal_anomalies_2013_11.nc, ret code 0\n",
      "processed CMCC_T2M_seasonal_anomalies_2013_12.nc, ret code 0\n",
      "processed CMCC_T2M_seasonal_anomalies_2014_01.nc, ret code 0\n",
      "processed CMCC_T2M_seasonal_anomalies_2014_03.nc, ret code 0\n",
      "processed CMCC_T2M_seasonal_anomalies_2014_04.nc, ret code 0\n",
      "processed CMCC_T2M_seasonal_anomalies_2014_05.nc, ret code 0\n",
      "processed CMCC_T2M_seasonal_anomalies_2014_06.nc, ret code 0\n",
      "processed CMCC_T2M_seasonal_anomalies_2014_07.nc, ret code 0\n",
      "processed CMCC_T2M_seasonal_anomalies_2014_08.nc, ret code 0\n",
      "processed CMCC_T2M_seasonal_anomalies_2014_09.nc, ret code 0\n",
      "processed CMCC_T2M_seasonal_anomalies_2014_10.nc, ret code 0\n",
      "processed CMCC_T2M_seasonal_anomalies_2014_11.nc, ret code 0\n",
      "processed CMCC_T2M_seasonal_anomalies_2014_12.nc, ret code 0\n",
      "processed CMCC_T2M_seasonal_anomalies_2015_01.nc, ret code 0\n",
      "processed CMCC_T2M_seasonal_anomalies_2015_03.nc, ret code 0\n",
      "processed CMCC_T2M_seasonal_anomalies_2015_04.nc, ret code 0\n",
      "processed CMCC_T2M_seasonal_anomalies_2015_05.nc, ret code 0\n",
      "processed CMCC_T2M_seasonal_anomalies_2015_06.nc, ret code 0\n",
      "processed CMCC_T2M_seasonal_anomalies_2015_07.nc, ret code 0\n",
      "processed CMCC_T2M_seasonal_anomalies_2015_08.nc, ret code 0\n",
      "processed CMCC_T2M_seasonal_anomalies_2015_09.nc, ret code 0\n",
      "processed CMCC_T2M_seasonal_anomalies_2015_10.nc, ret code 0\n",
      "processed CMCC_T2M_seasonal_anomalies_2015_11.nc, ret code 0\n",
      "processed CMCC_T2M_seasonal_anomalies_2015_12.nc, ret code 0\n",
      "processed CMCC_T2M_seasonal_anomalies_2016_01.nc, ret code 0\n",
      "processed CMCC_T2M_seasonal_anomalies_2016_03.nc, ret code 0\n",
      "processed CMCC_T2M_seasonal_anomalies_2016_04.nc, ret code 0\n",
      "processed CMCC_T2M_seasonal_anomalies_2016_05.nc, ret code 0\n",
      "processed CMCC_T2M_seasonal_anomalies_2016_06.nc, ret code 0\n",
      "processed CMCC_T2M_seasonal_anomalies_2016_07.nc, ret code 0\n",
      "processed CMCC_T2M_seasonal_anomalies_2016_08.nc, ret code 0\n",
      "processed CMCC_T2M_seasonal_anomalies_2016_09.nc, ret code 0\n",
      "processed CMCC_T2M_seasonal_anomalies_2016_10.nc, ret code 0\n",
      "processed CMCC_T2M_seasonal_anomalies_2016_11.nc, ret code 0\n",
      "processed CMCC_T2M_seasonal_anomalies_2016_12.nc, ret code 0\n"
     ]
    }
   ],
   "source": [
    "for fname in lfiles_gcm: \n",
    "    cmd = f\"{ncks} -d lat,-50.,-20. -d lon,100.,180. -d step,{step}.,{step}. {str(fname)} {str(tmp_path / fname.name)}\"\n",
    "    r = call(cmd, shell=True)\n",
    "    print(f\"processed {fname.name}, ret code {r}\")"
   ]
  },
  {
   "cell_type": "code",
   "execution_count": 32,
   "metadata": {},
   "outputs": [],
   "source": [
    "lfiles_tmp = list(tmp_path.glob(f\"{GCM}_{var_name}_seasonal_anomalies_????_??.nc\")) "
   ]
  },
  {
   "cell_type": "code",
   "execution_count": 33,
   "metadata": {},
   "outputs": [],
   "source": [
    "lfiles_tmp.sort()"
   ]
  },
  {
   "cell_type": "code",
   "execution_count": 34,
   "metadata": {},
   "outputs": [
    {
     "data": {
      "text/plain": [
       "PosixPath('/home/nicolasf/data/tmp/CMCC_T2M_seasonal_anomalies_1993_01.nc')"
      ]
     },
     "execution_count": 34,
     "metadata": {},
     "output_type": "execute_result"
    }
   ],
   "source": [
    "lfiles_tmp[0]"
   ]
  },
  {
   "cell_type": "code",
   "execution_count": 35,
   "metadata": {},
   "outputs": [
    {
     "data": {
      "text/plain": [
       "PosixPath('/home/nicolasf/data/tmp/CMCC_T2M_seasonal_anomalies_2016_12.nc')"
      ]
     },
     "execution_count": 35,
     "metadata": {},
     "output_type": "execute_result"
    }
   ],
   "source": [
    "lfiles_tmp[-1]"
   ]
  },
  {
   "cell_type": "code",
   "execution_count": 36,
   "metadata": {},
   "outputs": [],
   "source": [
    "dset_l = []\n",
    "time_l = []\n",
    "for fname in lfiles_tmp: \n",
    "    dset = salem.open_xr_dataset(fname)\n",
    "    # here make sure that we drop potentially conflicting variables and coordinates\n",
    "    if 'surface' in dset.variables: \n",
    "        dset = dset.drop('surface') \n",
    "    if 'valid_time' in dset.coords: \n",
    "        dset = dset.drop('valid_time')\n",
    "    dset = dset.mean('member') \n",
    "    dset = dset.sel(step=step)\n",
    "    time = pd.to_datetime(dset.time.data) + dateutil.relativedelta.relativedelta(month=step + 1)\n",
    "    time_l.append(time)\n",
    "    dset_l.append(dset)"
   ]
  },
  {
   "cell_type": "code",
   "execution_count": 37,
   "metadata": {},
   "outputs": [],
   "source": [
    "dset = xr.concat(dset_l, dim='time')"
   ]
  },
  {
   "cell_type": "code",
   "execution_count": 38,
   "metadata": {},
   "outputs": [
    {
     "data": {
      "text/html": [
       "<pre>&lt;xarray.Dataset&gt;\n",
       "Dimensions:  (lat: 30, lon: 80, time: 273)\n",
       "Coordinates:\n",
       "    step     int64 3\n",
       "  * lon      (lon) float64 100.5 101.5 102.5 103.5 ... 176.5 177.5 178.5 179.5\n",
       "  * lat      (lat) float64 -49.5 -48.5 -47.5 -46.5 ... -23.5 -22.5 -21.5 -20.5\n",
       "    month    (time) int64 1 2 3 4 5 6 7 8 9 10 11 ... 1 3 4 5 6 7 8 9 10 11 12\n",
       "  * time     (time) datetime64[ns] 1993-01-01 1993-02-01 ... 2016-12-01\n",
       "Data variables:\n",
       "    t2m      (time, lat, lon) float32 0.24410859 0.27689284 ... 0.15147857</pre>"
      ],
      "text/plain": [
       "<xarray.Dataset>\n",
       "Dimensions:  (lat: 30, lon: 80, time: 273)\n",
       "Coordinates:\n",
       "    step     int64 3\n",
       "  * lon      (lon) float64 100.5 101.5 102.5 103.5 ... 176.5 177.5 178.5 179.5\n",
       "  * lat      (lat) float64 -49.5 -48.5 -47.5 -46.5 ... -23.5 -22.5 -21.5 -20.5\n",
       "    month    (time) int64 1 2 3 4 5 6 7 8 9 10 11 ... 1 3 4 5 6 7 8 9 10 11 12\n",
       "  * time     (time) datetime64[ns] 1993-01-01 1993-02-01 ... 2016-12-01\n",
       "Data variables:\n",
       "    t2m      (time, lat, lon) float32 0.24410859 0.27689284 ... 0.15147857"
      ]
     },
     "execution_count": 38,
     "metadata": {},
     "output_type": "execute_result"
    }
   ],
   "source": [
    "dset"
   ]
  },
  {
   "cell_type": "code",
   "execution_count": 39,
   "metadata": {},
   "outputs": [
    {
     "data": {
      "text/plain": [
       "array('1993-01-01T00:00:00.000000000', dtype='datetime64[ns]')"
      ]
     },
     "execution_count": 39,
     "metadata": {},
     "output_type": "execute_result"
    }
   ],
   "source": [
    "dset.time[0].data"
   ]
  },
  {
   "cell_type": "code",
   "execution_count": 40,
   "metadata": {},
   "outputs": [
    {
     "data": {
      "text/plain": [
       "array('2016-12-01T00:00:00.000000000', dtype='datetime64[ns]')"
      ]
     },
     "execution_count": 40,
     "metadata": {},
     "output_type": "execute_result"
    }
   ],
   "source": [
    "dset.time[-1].data"
   ]
  },
  {
   "cell_type": "markdown",
   "metadata": {},
   "source": [
    "### shift the time index, to reflect the actual forecast valid time "
   ]
  },
  {
   "cell_type": "code",
   "execution_count": 41,
   "metadata": {},
   "outputs": [],
   "source": [
    "dset['time'] = dset.time.to_index().shift(step + 1, freq='M')"
   ]
  },
  {
   "cell_type": "code",
   "execution_count": 42,
   "metadata": {},
   "outputs": [
    {
     "data": {
      "text/plain": [
       "array('1993-04-30T00:00:00.000000000', dtype='datetime64[ns]')"
      ]
     },
     "execution_count": 42,
     "metadata": {},
     "output_type": "execute_result"
    }
   ],
   "source": [
    "dset.time[0].data"
   ]
  },
  {
   "cell_type": "code",
   "execution_count": 43,
   "metadata": {},
   "outputs": [
    {
     "data": {
      "text/plain": [
       "array('2017-03-31T00:00:00.000000000', dtype='datetime64[ns]')"
      ]
     },
     "execution_count": 43,
     "metadata": {},
     "output_type": "execute_result"
    }
   ],
   "source": [
    "dset.time[-1].data"
   ]
  },
  {
   "cell_type": "markdown",
   "metadata": {},
   "source": [
    "### reads the NZ 6 regions shapefiles "
   ]
  },
  {
   "cell_type": "code",
   "execution_count": 44,
   "metadata": {},
   "outputs": [],
   "source": [
    "nz_regions = gpd.read_file(set_root_dir(root='local') / 'shapefiles' / 'NZ_regions' / 'NZ_6_regions' / 'NZ_regions_corrected.shp') "
   ]
  },
  {
   "cell_type": "code",
   "execution_count": 45,
   "metadata": {},
   "outputs": [
    {
     "data": {
      "text/html": [
       "<div>\n",
       "<style scoped>\n",
       "    .dataframe tbody tr th:only-of-type {\n",
       "        vertical-align: middle;\n",
       "    }\n",
       "\n",
       "    .dataframe tbody tr th {\n",
       "        vertical-align: top;\n",
       "    }\n",
       "\n",
       "    .dataframe thead th {\n",
       "        text-align: right;\n",
       "    }\n",
       "</style>\n",
       "<table border=\"1\" class=\"dataframe\">\n",
       "  <thead>\n",
       "    <tr style=\"text-align: right;\">\n",
       "      <th></th>\n",
       "      <th>OBJECTID</th>\n",
       "      <th>Id</th>\n",
       "      <th>gridcode</th>\n",
       "      <th>Shape_Leng</th>\n",
       "      <th>Shape_Area</th>\n",
       "      <th>Location</th>\n",
       "      <th>geometry</th>\n",
       "    </tr>\n",
       "  </thead>\n",
       "  <tbody>\n",
       "    <tr>\n",
       "      <th>0</th>\n",
       "      <td>1</td>\n",
       "      <td>1</td>\n",
       "      <td>1</td>\n",
       "      <td>85.215338</td>\n",
       "      <td>5.032753</td>\n",
       "      <td>NNI</td>\n",
       "      <td>MULTIPOLYGON (((174.70530 -38.17377, 174.70545...</td>\n",
       "    </tr>\n",
       "    <tr>\n",
       "      <th>1</th>\n",
       "      <td>2</td>\n",
       "      <td>2</td>\n",
       "      <td>2</td>\n",
       "      <td>12.336015</td>\n",
       "      <td>2.994028</td>\n",
       "      <td>WNI</td>\n",
       "      <td>MULTIPOLYGON (((175.13516 -41.37745, 175.13507...</td>\n",
       "    </tr>\n",
       "    <tr>\n",
       "      <th>2</th>\n",
       "      <td>3</td>\n",
       "      <td>3</td>\n",
       "      <td>3</td>\n",
       "      <td>14.235493</td>\n",
       "      <td>3.775388</td>\n",
       "      <td>ENI</td>\n",
       "      <td>MULTIPOLYGON (((175.85595 -41.35970, 175.85595...</td>\n",
       "    </tr>\n",
       "    <tr>\n",
       "      <th>3</th>\n",
       "      <td>4</td>\n",
       "      <td>4</td>\n",
       "      <td>4</td>\n",
       "      <td>34.656463</td>\n",
       "      <td>3.066280</td>\n",
       "      <td>NSI</td>\n",
       "      <td>MULTIPOLYGON (((171.32620 -42.12355, 171.32602...</td>\n",
       "    </tr>\n",
       "    <tr>\n",
       "      <th>4</th>\n",
       "      <td>5</td>\n",
       "      <td>5</td>\n",
       "      <td>6</td>\n",
       "      <td>20.191504</td>\n",
       "      <td>4.827228</td>\n",
       "      <td>ESI</td>\n",
       "      <td>MULTIPOLYGON (((170.21675 -46.05955, 170.21609...</td>\n",
       "    </tr>\n",
       "    <tr>\n",
       "      <th>5</th>\n",
       "      <td>6</td>\n",
       "      <td>6</td>\n",
       "      <td>5</td>\n",
       "      <td>42.941379</td>\n",
       "      <td>9.057410</td>\n",
       "      <td>WSI</td>\n",
       "      <td>MULTIPOLYGON (((169.20749 -46.66371, 169.20742...</td>\n",
       "    </tr>\n",
       "  </tbody>\n",
       "</table>\n",
       "</div>"
      ],
      "text/plain": [
       "   OBJECTID  Id  gridcode  Shape_Leng  Shape_Area Location  \\\n",
       "0         1   1         1   85.215338    5.032753      NNI   \n",
       "1         2   2         2   12.336015    2.994028      WNI   \n",
       "2         3   3         3   14.235493    3.775388      ENI   \n",
       "3         4   4         4   34.656463    3.066280      NSI   \n",
       "4         5   5         6   20.191504    4.827228      ESI   \n",
       "5         6   6         5   42.941379    9.057410      WSI   \n",
       "\n",
       "                                            geometry  \n",
       "0  MULTIPOLYGON (((174.70530 -38.17377, 174.70545...  \n",
       "1  MULTIPOLYGON (((175.13516 -41.37745, 175.13507...  \n",
       "2  MULTIPOLYGON (((175.85595 -41.35970, 175.85595...  \n",
       "3  MULTIPOLYGON (((171.32620 -42.12355, 171.32602...  \n",
       "4  MULTIPOLYGON (((170.21675 -46.05955, 170.21609...  \n",
       "5  MULTIPOLYGON (((169.20749 -46.66371, 169.20742...  "
      ]
     },
     "execution_count": 45,
     "metadata": {},
     "output_type": "execute_result"
    }
   ],
   "source": [
    "nz_regions"
   ]
  },
  {
   "cell_type": "code",
   "execution_count": 46,
   "metadata": {},
   "outputs": [],
   "source": [
    "nz_regions = nz_regions.to_crs(epsg=4326)"
   ]
  },
  {
   "cell_type": "code",
   "execution_count": 47,
   "metadata": {},
   "outputs": [
    {
     "data": {
      "text/plain": [
       "{'init': 'epsg:4326', 'no_defs': True}"
      ]
     },
     "execution_count": 47,
     "metadata": {},
     "output_type": "execute_result"
    }
   ],
   "source": [
    "nz_regions.crs"
   ]
  },
  {
   "cell_type": "code",
   "execution_count": 48,
   "metadata": {},
   "outputs": [],
   "source": [
    "opath_root = HOME / 'research' / 'Smart_Ideas' / 'outputs' / 'targets' / 'GCMs' / 'NZ_6_regions' / GCM / var_name"
   ]
  },
  {
   "cell_type": "code",
   "execution_count": 49,
   "metadata": {},
   "outputs": [],
   "source": [
    "if not opath_root.exists(): \n",
    "    opath_root.mkdir(parents=True)"
   ]
  },
  {
   "cell_type": "markdown",
   "metadata": {},
   "source": [
    "### defines the number of quantiles we want "
   ]
  },
  {
   "cell_type": "code",
   "execution_count": 50,
   "metadata": {},
   "outputs": [],
   "source": [
    "num_quantiles = 3"
   ]
  },
  {
   "cell_type": "code",
   "execution_count": 51,
   "metadata": {},
   "outputs": [],
   "source": [
    "quant_values = np.linspace(0, 1, num_quantiles + 1, endpoint=True)"
   ]
  },
  {
   "cell_type": "code",
   "execution_count": 52,
   "metadata": {},
   "outputs": [],
   "source": [
    "quant_values = quant_values[1:-1]"
   ]
  },
  {
   "cell_type": "code",
   "execution_count": 53,
   "metadata": {},
   "outputs": [
    {
     "data": {
      "text/plain": [
       "array([0.33333333, 0.66666667])"
      ]
     },
     "execution_count": 53,
     "metadata": {},
     "output_type": "execute_result"
    }
   ],
   "source": [
    "quant_values"
   ]
  },
  {
   "cell_type": "code",
   "execution_count": 54,
   "metadata": {},
   "outputs": [],
   "source": [
    "col_labs = [f\"Q{int(x)}\" for x in (quant_values*100)]"
   ]
  },
  {
   "cell_type": "code",
   "execution_count": 55,
   "metadata": {},
   "outputs": [
    {
     "data": {
      "text/plain": [
       "['Q33', 'Q66']"
      ]
     },
     "execution_count": 55,
     "metadata": {},
     "output_type": "execute_result"
    }
   ],
   "source": [
    "col_labs"
   ]
  },
  {
   "cell_type": "markdown",
   "metadata": {},
   "source": [
    "### plots the regions subset and ROIs"
   ]
  },
  {
   "cell_type": "code",
   "execution_count": 56,
   "metadata": {},
   "outputs": [
    {
     "data": {
      "image/png": "[encoded data removed]",
      "text/plain": [
       "<Figure size 720x360 with 2 Axes>"
      ]
     },
     "metadata": {
      "needs_background": "light"
     },
     "output_type": "display_data"
    },
    {
     "data": {
      "image/png": "[encoded data removed]",
      "text/plain": [
       "<Figure size 720x360 with 2 Axes>"
      ]
     },
     "metadata": {
      "needs_background": "light"
     },
     "output_type": "display_data"
    },
    {
     "data": {
      "image/png": "[encoded data removed]",
      "text/plain": [
       "<Figure size 720x360 with 2 Axes>"
      ]
     },
     "metadata": {
      "needs_background": "light"
     },
     "output_type": "display_data"
    },
    {
     "data": {
      "image/png": "[encoded data removed]",
      "text/plain": [
       "<Figure size 720x360 with 2 Axes>"
      ]
     },
     "metadata": {
      "needs_background": "light"
     },
     "output_type": "display_data"
    },
    {
     "data": {
      "image/png": "[encoded data removed]",
      "text/plain": [
       "<Figure size 720x360 with 2 Axes>"
      ]
     },
     "metadata": {
      "needs_background": "light"
     },
     "output_type": "display_data"
    },
    {
     "data": {
      "image/png": "[encoded data removed]",
      "text/plain": [
       "<Figure size 720x360 with 2 Axes>"
      ]
     },
     "metadata": {
      "needs_background": "light"
     },
     "output_type": "display_data"
    }
   ],
   "source": [
    "for region_name in nz_regions.Location.values:\n",
    "    \n",
    "    shape = nz_regions.query(f\"Location == '{region_name}'\")\n",
    "    \n",
    "    f, axes = plt.subplots(figsize=(10, 5), ncols=2, subplot_kw={'projection':ccrs.PlateCarree(central_longitude=180)}) \n",
    "\n",
    "    region = dset.salem.subset(shape=shape, margin=1)\n",
    "\n",
    "    region[var_name.lower()][0,:,:].plot(ax=axes[0], transform=ccrs.PlateCarree(), add_colorbar=False, cmap='binary')\n",
    "\n",
    "    axes[0].coastlines(resolution='10m')\n",
    "\n",
    "    axes[0].set_title(f'{GCM} region {region_name} subset')\n",
    "\n",
    "    if ((region.dims['lat'] > 1) & (region.dims['lon'] > 1)):\n",
    "\n",
    "        region = region.salem.roi(shape=shape, all_touched=True)\n",
    "\n",
    "        region[var_name.lower()][0,:,:].plot(ax=axes[1], transform=ccrs.PlateCarree(), add_colorbar=False, cmap='binary')\n",
    "\n",
    "        axes[1].coastlines(resolution='10m')\n",
    "\n",
    "        axes[1].set_title(f'{GCM}, region {region_name} ROI')\n",
    "\n",
    "    f.savefig(CWD.parents[2] / 'figures' / f'subset_and_ROI_map_{GCM}_{region_name}.png', dpi=200, bbox_inches='tight')"
   ]
  },
  {
   "cell_type": "markdown",
   "metadata": {},
   "source": [
    "### Now loops over the regions names, extract, calculate regional index and save to file "
   ]
  },
  {
   "cell_type": "code",
   "execution_count": 57,
   "metadata": {},
   "outputs": [
    {
     "name": "stdout",
     "output_type": "stream",
     "text": [
      "region NNI processed for variable T2M\n",
      "region WNI processed for variable T2M\n",
      "region ENI processed for variable T2M\n",
      "region NSI processed for variable T2M\n",
      "region ESI processed for variable T2M\n",
      "region WSI processed for variable T2M\n"
     ]
    }
   ],
   "source": [
    "quantiles_dict = {}\n",
    "\n",
    "for region_name in nz_regions.Location.values: \n",
    "    \n",
    "    shape = nz_regions.query(f\"Location == '{region_name}'\")\n",
    "    \n",
    "    region = dset.salem.subset(shape=shape, margin=1)\n",
    "    \n",
    "    if ((region.dims['lat'] > 1) & (region.dims['lon'] > 1)):\n",
    "\n",
    "        region = region.salem.roi(shape=shape, all_touched=True)\n",
    "        \n",
    "    else: \n",
    "        \n",
    "        print(f\"Warning: region {region_name} boundaries do not allow the ROI to be calculated\")\n",
    "        \n",
    "    ts = region.mean(dim=['lat','lon'])\n",
    "    \n",
    "    ts_df = ts[var_name.lower()].to_dataframe()\n",
    "            \n",
    "    ts_series = ts_df.loc[:,var_name.lower()]\n",
    "    \n",
    "    ts_series_cat = []\n",
    "    \n",
    "    quantiles_list = []\n",
    "    \n",
    "    for month in range(1, 13):\n",
    "        \n",
    "        ts_series_m = ts_series[ts_series.index.month == month]\n",
    "        \n",
    "        clim = ts_series_m.loc['1993':'2016']\n",
    "        \n",
    "        quantiles = [clim.quantile(q=q) for q in quant_values.tolist()]\n",
    "        \n",
    "        quantiles_list.append(quantiles.copy())\n",
    "        \n",
    "        quantiles.insert(0, -np.inf)\n",
    "        \n",
    "        quantiles.append(np.inf)\n",
    "        \n",
    "        ts_series_m_cats = pd.cut(ts_series_m, quantiles, labels=list(range(1, num_quantiles + 1)))\n",
    "        \n",
    "        ts_series_cat.append(ts_series_m_cats)\n",
    "        \n",
    "        del(quantiles)\n",
    "     \n",
    "    quantiles_dict[region_name]  = np.array(quantiles_list)\n",
    "    \n",
    "    ts_series_cat = pd.concat(ts_series_cat, axis=0)\n",
    "    \n",
    "    ts_series_cat = ts_series_cat.sort_index()\n",
    "    \n",
    "    ts_df.loc[:,f'cat_{num_quantiles}'] = ts_series_cat\n",
    "    \n",
    "    ts_df.loc[:,'anomalies'] = ts_df.loc[:,var_name.lower()]\n",
    "    \n",
    "    ts_df = ts_df.loc[:,['month',f'cat_{num_quantiles}','anomalies']]\n",
    "    \n",
    "    opath = opath_root / region_name \n",
    "    \n",
    "    if not opath.exists(): \n",
    "        opath.mkdir(parents=True)\n",
    "        \n",
    "    ts_df.to_csv(opath / f'TS_NZ_region_{region_name}_{GCM}_{var_name}_{num_quantiles}_quantiles_anoms.csv')\n",
    "    \n",
    "    #descriptive statistics per quantile category \n",
    "    \n",
    "    ts_df.groupby(ts_df.loc[:,f'cat_{num_quantiles}']).describe().to_csv(opath / f'descriptive_stats_{region_name}_{GCM}_{var_name}_{num_quantiles}.csv')\n",
    "    \n",
    "    print(f\"region {region_name} processed for variable {var_name}\")\n",
    "    "
   ]
  },
  {
   "cell_type": "code",
   "execution_count": 58,
   "metadata": {},
   "outputs": [
    {
     "data": {
      "text/plain": [
       "PosixPath('/home/nicolasf/research/Smart_Ideas/outputs/targets/GCMs/NZ_6_regions/CMCC/T2M/WSI')"
      ]
     },
     "execution_count": 58,
     "metadata": {},
     "output_type": "execute_result"
    }
   ],
   "source": [
    "opath"
   ]
  },
  {
   "cell_type": "markdown",
   "metadata": {},
   "source": [
    "### saves the climatological terciles calculated from the VCSN regional aggregates"
   ]
  },
  {
   "cell_type": "code",
   "execution_count": 59,
   "metadata": {},
   "outputs": [],
   "source": [
    "quantiles_list = []\n",
    "for region_name in nz_regions.Location.values: \n",
    "    df = pd.DataFrame(quantiles_dict[region_name])\n",
    "    df.index = range(1, 13)\n",
    "    df.index.name = 'season'\n",
    "    df.columns = pd.MultiIndex.from_product([[region_name],col_labs])\n",
    "    quantiles_list.append(df)"
   ]
  },
  {
   "cell_type": "code",
   "execution_count": 60,
   "metadata": {},
   "outputs": [],
   "source": [
    "quantiles_df = pd.concat(quantiles_list, axis=1)"
   ]
  },
  {
   "cell_type": "code",
   "execution_count": 61,
   "metadata": {},
   "outputs": [
    {
     "data": {
      "text/plain": [
       "PosixPath('/home/nicolasf/research/Smart_Ideas/outputs/targets/GCMs/NZ_6_regions/CMCC/T2M/WSI')"
      ]
     },
     "execution_count": 61,
     "metadata": {},
     "output_type": "execute_result"
    }
   ],
   "source": [
    "opath"
   ]
  },
  {
   "cell_type": "code",
   "execution_count": 62,
   "metadata": {},
   "outputs": [],
   "source": [
    "quantiles_df.to_csv(opath.parent / f'Climatological_quantiles_{num_quantiles}_cat_{var_name}.csv')"
   ]
  },
  {
   "cell_type": "code",
   "execution_count": 63,
   "metadata": {},
   "outputs": [
    {
     "data": {
      "text/html": [
       "<div>\n",
       "<style scoped>\n",
       "    .dataframe tbody tr th:only-of-type {\n",
       "        vertical-align: middle;\n",
       "    }\n",
       "\n",
       "    .dataframe tbody tr th {\n",
       "        vertical-align: top;\n",
       "    }\n",
       "\n",
       "    .dataframe thead tr th {\n",
       "        text-align: left;\n",
       "    }\n",
       "\n",
       "    .dataframe thead tr:last-of-type th {\n",
       "        text-align: right;\n",
       "    }\n",
       "</style>\n",
       "<table border=\"1\" class=\"dataframe\">\n",
       "  <thead>\n",
       "    <tr>\n",
       "      <th></th>\n",
       "      <th colspan=\"2\" halign=\"left\">NNI</th>\n",
       "      <th colspan=\"2\" halign=\"left\">WNI</th>\n",
       "      <th colspan=\"2\" halign=\"left\">ENI</th>\n",
       "      <th colspan=\"2\" halign=\"left\">NSI</th>\n",
       "      <th colspan=\"2\" halign=\"left\">ESI</th>\n",
       "      <th colspan=\"2\" halign=\"left\">WSI</th>\n",
       "    </tr>\n",
       "    <tr>\n",
       "      <th></th>\n",
       "      <th>Q33</th>\n",
       "      <th>Q66</th>\n",
       "      <th>Q33</th>\n",
       "      <th>Q66</th>\n",
       "      <th>Q33</th>\n",
       "      <th>Q66</th>\n",
       "      <th>Q33</th>\n",
       "      <th>Q66</th>\n",
       "      <th>Q33</th>\n",
       "      <th>Q66</th>\n",
       "      <th>Q33</th>\n",
       "      <th>Q66</th>\n",
       "    </tr>\n",
       "    <tr>\n",
       "      <th>season</th>\n",
       "      <th></th>\n",
       "      <th></th>\n",
       "      <th></th>\n",
       "      <th></th>\n",
       "      <th></th>\n",
       "      <th></th>\n",
       "      <th></th>\n",
       "      <th></th>\n",
       "      <th></th>\n",
       "      <th></th>\n",
       "      <th></th>\n",
       "      <th></th>\n",
       "    </tr>\n",
       "  </thead>\n",
       "  <tbody>\n",
       "    <tr>\n",
       "      <th>1</th>\n",
       "      <td>-0.072565</td>\n",
       "      <td>0.123443</td>\n",
       "      <td>-0.090336</td>\n",
       "      <td>0.150580</td>\n",
       "      <td>-0.113462</td>\n",
       "      <td>0.135904</td>\n",
       "      <td>-0.097852</td>\n",
       "      <td>0.172856</td>\n",
       "      <td>-0.092127</td>\n",
       "      <td>0.166709</td>\n",
       "      <td>-0.107542</td>\n",
       "      <td>0.202329</td>\n",
       "    </tr>\n",
       "    <tr>\n",
       "      <th>2</th>\n",
       "      <td>-0.115445</td>\n",
       "      <td>0.039733</td>\n",
       "      <td>-0.137377</td>\n",
       "      <td>0.094576</td>\n",
       "      <td>-0.113127</td>\n",
       "      <td>0.061532</td>\n",
       "      <td>-0.104371</td>\n",
       "      <td>0.102956</td>\n",
       "      <td>-0.116796</td>\n",
       "      <td>0.080193</td>\n",
       "      <td>-0.096370</td>\n",
       "      <td>0.113955</td>\n",
       "    </tr>\n",
       "    <tr>\n",
       "      <th>3</th>\n",
       "      <td>-0.184989</td>\n",
       "      <td>0.135070</td>\n",
       "      <td>-0.233230</td>\n",
       "      <td>0.175465</td>\n",
       "      <td>-0.148558</td>\n",
       "      <td>0.074554</td>\n",
       "      <td>-0.226887</td>\n",
       "      <td>0.147810</td>\n",
       "      <td>-0.181723</td>\n",
       "      <td>0.091089</td>\n",
       "      <td>-0.173854</td>\n",
       "      <td>0.116934</td>\n",
       "    </tr>\n",
       "    <tr>\n",
       "      <th>4</th>\n",
       "      <td>-0.094665</td>\n",
       "      <td>0.100971</td>\n",
       "      <td>-0.088160</td>\n",
       "      <td>0.039584</td>\n",
       "      <td>-0.074215</td>\n",
       "      <td>0.057996</td>\n",
       "      <td>-0.112186</td>\n",
       "      <td>0.072716</td>\n",
       "      <td>-0.113877</td>\n",
       "      <td>0.068122</td>\n",
       "      <td>-0.138988</td>\n",
       "      <td>0.069063</td>\n",
       "    </tr>\n",
       "    <tr>\n",
       "      <th>5</th>\n",
       "      <td>-0.204499</td>\n",
       "      <td>-0.130593</td>\n",
       "      <td>-0.204818</td>\n",
       "      <td>-0.147202</td>\n",
       "      <td>-0.185352</td>\n",
       "      <td>-0.052683</td>\n",
       "      <td>-0.230175</td>\n",
       "      <td>-0.169444</td>\n",
       "      <td>-0.225201</td>\n",
       "      <td>-0.123515</td>\n",
       "      <td>-0.225674</td>\n",
       "      <td>-0.138643</td>\n",
       "    </tr>\n",
       "    <tr>\n",
       "      <th>6</th>\n",
       "      <td>-0.133122</td>\n",
       "      <td>0.097609</td>\n",
       "      <td>-0.148978</td>\n",
       "      <td>0.080495</td>\n",
       "      <td>-0.135789</td>\n",
       "      <td>0.089692</td>\n",
       "      <td>-0.127359</td>\n",
       "      <td>0.047625</td>\n",
       "      <td>-0.102159</td>\n",
       "      <td>0.057830</td>\n",
       "      <td>-0.141892</td>\n",
       "      <td>0.077216</td>\n",
       "    </tr>\n",
       "    <tr>\n",
       "      <th>7</th>\n",
       "      <td>-0.144687</td>\n",
       "      <td>0.079546</td>\n",
       "      <td>-0.171211</td>\n",
       "      <td>0.065496</td>\n",
       "      <td>-0.177706</td>\n",
       "      <td>0.080006</td>\n",
       "      <td>-0.145398</td>\n",
       "      <td>0.078995</td>\n",
       "      <td>-0.151617</td>\n",
       "      <td>0.036188</td>\n",
       "      <td>-0.156416</td>\n",
       "      <td>0.045293</td>\n",
       "    </tr>\n",
       "    <tr>\n",
       "      <th>8</th>\n",
       "      <td>-0.103549</td>\n",
       "      <td>0.168818</td>\n",
       "      <td>-0.142336</td>\n",
       "      <td>0.182758</td>\n",
       "      <td>-0.127693</td>\n",
       "      <td>0.175806</td>\n",
       "      <td>-0.116225</td>\n",
       "      <td>0.162408</td>\n",
       "      <td>-0.082623</td>\n",
       "      <td>0.098571</td>\n",
       "      <td>-0.112150</td>\n",
       "      <td>0.139194</td>\n",
       "    </tr>\n",
       "    <tr>\n",
       "      <th>9</th>\n",
       "      <td>-0.124340</td>\n",
       "      <td>0.080678</td>\n",
       "      <td>-0.152049</td>\n",
       "      <td>0.106982</td>\n",
       "      <td>-0.131157</td>\n",
       "      <td>0.046562</td>\n",
       "      <td>-0.137662</td>\n",
       "      <td>0.120266</td>\n",
       "      <td>-0.156214</td>\n",
       "      <td>0.127693</td>\n",
       "      <td>-0.140855</td>\n",
       "      <td>0.146149</td>\n",
       "    </tr>\n",
       "    <tr>\n",
       "      <th>10</th>\n",
       "      <td>-0.101070</td>\n",
       "      <td>0.085900</td>\n",
       "      <td>-0.120683</td>\n",
       "      <td>0.078421</td>\n",
       "      <td>-0.173045</td>\n",
       "      <td>0.046914</td>\n",
       "      <td>-0.073167</td>\n",
       "      <td>0.093080</td>\n",
       "      <td>-0.067325</td>\n",
       "      <td>0.115573</td>\n",
       "      <td>-0.042450</td>\n",
       "      <td>0.145106</td>\n",
       "    </tr>\n",
       "    <tr>\n",
       "      <th>11</th>\n",
       "      <td>-0.154744</td>\n",
       "      <td>0.156698</td>\n",
       "      <td>-0.127174</td>\n",
       "      <td>0.183373</td>\n",
       "      <td>-0.152481</td>\n",
       "      <td>0.137461</td>\n",
       "      <td>-0.097253</td>\n",
       "      <td>0.178847</td>\n",
       "      <td>-0.108247</td>\n",
       "      <td>0.123514</td>\n",
       "      <td>-0.055904</td>\n",
       "      <td>0.145117</td>\n",
       "    </tr>\n",
       "    <tr>\n",
       "      <th>12</th>\n",
       "      <td>-0.176030</td>\n",
       "      <td>0.220679</td>\n",
       "      <td>-0.225695</td>\n",
       "      <td>0.285404</td>\n",
       "      <td>-0.161518</td>\n",
       "      <td>0.200128</td>\n",
       "      <td>-0.211112</td>\n",
       "      <td>0.261601</td>\n",
       "      <td>-0.183488</td>\n",
       "      <td>0.238690</td>\n",
       "      <td>-0.212501</td>\n",
       "      <td>0.224001</td>\n",
       "    </tr>\n",
       "  </tbody>\n",
       "</table>\n",
       "</div>"
      ],
      "text/plain": [
       "             NNI                 WNI                 ENI                 NSI  \\\n",
       "             Q33       Q66       Q33       Q66       Q33       Q66       Q33   \n",
       "season                                                                         \n",
       "1      -0.072565  0.123443 -0.090336  0.150580 -0.113462  0.135904 -0.097852   \n",
       "2      -0.115445  0.039733 -0.137377  0.094576 -0.113127  0.061532 -0.104371   \n",
       "3      -0.184989  0.135070 -0.233230  0.175465 -0.148558  0.074554 -0.226887   \n",
       "4      -0.094665  0.100971 -0.088160  0.039584 -0.074215  0.057996 -0.112186   \n",
       "5      -0.204499 -0.130593 -0.204818 -0.147202 -0.185352 -0.052683 -0.230175   \n",
       "6      -0.133122  0.097609 -0.148978  0.080495 -0.135789  0.089692 -0.127359   \n",
       "7      -0.144687  0.079546 -0.171211  0.065496 -0.177706  0.080006 -0.145398   \n",
       "8      -0.103549  0.168818 -0.142336  0.182758 -0.127693  0.175806 -0.116225   \n",
       "9      -0.124340  0.080678 -0.152049  0.106982 -0.131157  0.046562 -0.137662   \n",
       "10     -0.101070  0.085900 -0.120683  0.078421 -0.173045  0.046914 -0.073167   \n",
       "11     -0.154744  0.156698 -0.127174  0.183373 -0.152481  0.137461 -0.097253   \n",
       "12     -0.176030  0.220679 -0.225695  0.285404 -0.161518  0.200128 -0.211112   \n",
       "\n",
       "                       ESI                 WSI            \n",
       "             Q66       Q33       Q66       Q33       Q66  \n",
       "season                                                    \n",
       "1       0.172856 -0.092127  0.166709 -0.107542  0.202329  \n",
       "2       0.102956 -0.116796  0.080193 -0.096370  0.113955  \n",
       "3       0.147810 -0.181723  0.091089 -0.173854  0.116934  \n",
       "4       0.072716 -0.113877  0.068122 -0.138988  0.069063  \n",
       "5      -0.169444 -0.225201 -0.123515 -0.225674 -0.138643  \n",
       "6       0.047625 -0.102159  0.057830 -0.141892  0.077216  \n",
       "7       0.078995 -0.151617  0.036188 -0.156416  0.045293  \n",
       "8       0.162408 -0.082623  0.098571 -0.112150  0.139194  \n",
       "9       0.120266 -0.156214  0.127693 -0.140855  0.146149  \n",
       "10      0.093080 -0.067325  0.115573 -0.042450  0.145106  \n",
       "11      0.178847 -0.108247  0.123514 -0.055904  0.145117  \n",
       "12      0.261601 -0.183488  0.238690 -0.212501  0.224001  "
      ]
     },
     "execution_count": 63,
     "metadata": {},
     "output_type": "execute_result"
    }
   ],
   "source": [
    "quantiles_df"
   ]
  },
  {
   "cell_type": "markdown",
   "metadata": {},
   "source": [
    "### plots the anomalies and the categories "
   ]
  },
  {
   "cell_type": "code",
   "execution_count": 64,
   "metadata": {},
   "outputs": [
    {
     "data": {
      "image/png": "[encoded data removed]",
      "text/plain": [
       "<Figure size 576x360 with 1 Axes>"
      ]
     },
     "metadata": {
      "needs_background": "light"
     },
     "output_type": "display_data"
    }
   ],
   "source": [
    "f, ax = plt.subplots(figsize=(8,5))\n",
    "ts_df.anomalies.plot(lw=1, color='k', zorder=0)\n",
    "cats = pd.to_numeric(ts_df.cat_3)\n",
    "[ax.axvline(x, color='steelblue', alpha=0.5,lw=1.5, zorder=-10) for x in cats.loc[(cats == 1),].index];\n",
    "[ax.axvline(x, color='k', alpha=0.2, lw=1.5, zorder=-10) for x in cats.loc[(cats == 2),].index];\n",
    "[ax.axvline(x, color='coral', alpha=0.5,lw=1.5, zorder=-10) for x in cats.loc[(cats == 3),].index];\n",
    "f.savefig('/home/nicolasf/Desktop/essai.png', dpi=200, bbox_inches='tight')"
   ]
  },
  {
   "cell_type": "code",
   "execution_count": 65,
   "metadata": {},
   "outputs": [
    {
     "data": {
      "text/plain": [
       "PosixPath('/home/nicolasf/data/tmp')"
      ]
     },
     "execution_count": 65,
     "metadata": {},
     "output_type": "execute_result"
    }
   ],
   "source": [
    "tmp_path"
   ]
  },
  {
   "cell_type": "code",
   "execution_count": 66,
   "metadata": {},
   "outputs": [],
   "source": [
    "if remove_tmp: \n",
    "    shutil.rmtree(tmp_path)"
   ]
  },
  {
   "cell_type": "code",
   "execution_count": null,
   "metadata": {},
   "outputs": [],
   "source": []
  }
 ],
 "metadata": {
  "kernelspec": {
   "display_name": "Python 3",
   "language": "python",
   "name": "python3"
  },
  "language_info": {
   "codemirror_mode": {
    "name": "ipython",
    "version": 3
   },
   "file_extension": ".py",
   "mimetype": "text/x-python",
   "name": "python",
   "nbconvert_exporter": "python",
   "pygments_lexer": "ipython3",
   "version": "3.7.5"
  },
  "latex_envs": {
   "bibliofile": "biblio.bib",
   "cite_by": "apalike",
   "current_citInitial": 1,
   "eqLabelWithNumbers": true,
   "eqNumInitial": 0
  }
 },
 "nbformat": 4,
 "nbformat_minor": 4
}
