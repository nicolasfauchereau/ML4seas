{
 "cells": [
  {
   "cell_type": "markdown",
   "metadata": {},
   "source": [
    "### transform the target variables from CSV to netcdf, and saves to disk "
   ]
  },
  {
   "cell_type": "code",
   "execution_count": null,
   "metadata": {},
   "outputs": [],
   "source": [
    "%load_ext autoreload\n",
    "%autoreload 2"
   ]
  },
  {
   "cell_type": "code",
   "execution_count": 2,
   "metadata": {},
   "outputs": [],
   "source": [
    "%matplotlib inline\n",
    "\n",
    "### os \n",
    "import os \n",
    "import sys\n",
    "\n",
    "### datetimes \n",
    "from datetime import datetime, timedelta\n",
    "\n",
    "### scipy \n",
    "import numpy as np \n",
    "import pandas as pd\n",
    "import xarray as xr\n",
    "\n",
    "### plotting \n",
    "from matplotlib import pyplot as plt\n",
    "import cartopy.crs as ccrs"
   ]
  },
  {
   "cell_type": "code",
   "execution_count": 3,
   "metadata": {},
   "outputs": [],
   "source": [
    "import pathlib\n",
    "\n",
    "HOME = pathlib.Path.home()\n",
    "CWD = pathlib.Path.cwd() "
   ]
  },
  {
   "cell_type": "markdown",
   "metadata": {},
   "source": [
    "### paths where the CSV files with the target variables (time-series of seasonal anomalies and categories) reside"
   ]
  },
  {
   "cell_type": "code",
   "execution_count": 4,
   "metadata": {},
   "outputs": [],
   "source": [
    "csv_paths = HOME.joinpath('research/Smart_Ideas/outputs/targets/NZ_regions/NZ_6_regions')"
   ]
  },
  {
   "cell_type": "markdown",
   "metadata": {},
   "source": [
    "### list of variables "
   ]
  },
  {
   "cell_type": "code",
   "execution_count": 5,
   "metadata": {},
   "outputs": [],
   "source": [
    "list_vars = ['RAIN','TMEAN','SOILM'] "
   ]
  },
  {
   "cell_type": "markdown",
   "metadata": {},
   "source": [
    "### list of regions"
   ]
  },
  {
   "cell_type": "code",
   "execution_count": 6,
   "metadata": {},
   "outputs": [],
   "source": [
    "list_regions = ['NNI','WNI','ENI','NSI','WSI','ESI']"
   ]
  },
  {
   "cell_type": "code",
   "execution_count": 7,
   "metadata": {},
   "outputs": [],
   "source": [
    "for var_name in list_vars: \n",
    "    \n",
    "    # get the terciles \n",
    "    num_quantiles = 3\n",
    "    \n",
    "    dset_terciles = []\n",
    "    \n",
    "    for region_name in list_regions: \n",
    "        lfiles = list(csv_paths.joinpath(f\"{var_name}/{region_name}\").glob(f\"TS_NZ_region_*_{num_quantiles}_quantiles_*_regionmask.csv\")) \n",
    "        data = pd.read_csv(lfiles[0], index_col=0, parse_dates=True)\n",
    "        data = data.to_xarray()\n",
    "        dset_terciles.append(data)\n",
    "    dset_terciles = xr.concat(dset_terciles, pd.Index(list_regions, name='region'))\n",
    "\n",
    "    # get the quintiles\n",
    "    num_quantiles = 5\n",
    "    \n",
    "    dset_quintiles = []\n",
    "    \n",
    "    for region_name in list_regions: \n",
    "        lfiles = list(csv_paths.joinpath(f\"{var_name}/{region_name}\").glob(f\"TS_NZ_region_*_{num_quantiles}_quantiles_*_regionmask.csv\")) \n",
    "        data = pd.read_csv(lfiles[0], index_col=0, parse_dates=True)\n",
    "        data = data.to_xarray()\n",
    "        dset_quintiles.append(data)\n",
    "        \n",
    "    dset_quintiles = xr.concat(dset_quintiles, pd.Index(list_regions, name='region'))\n",
    "    \n",
    "    # merge \n",
    "    dset_target = xr.merge([dset_terciles, dset_quintiles['cat_5']])\n",
    "    \n",
    "    # saves to disk (several locations)\n",
    "    \n",
    "    # local drive \n",
    "    dset_target.to_netcdf(HOME.joinpath(f\"research/Smart_Ideas/outputs/targets/NZ_regions/NZ_6_regions/{var_name}/NZ_6_regions_{var_name}_terciles_and_quintiles.nc\")) \n",
    "\n",
    "    # media \n",
    "    dpath = pathlib.Path('/media/nicolasf/END19101/outputs/targets/NZ_regions/NZ_6_regions') \n",
    "    \n",
    "    dset_target.to_netcdf(dpath.joinpath(f\"{var_name}/NZ_6_regions_{var_name}_terciles_and_quintiles.nc\"))  "
   ]
  }
 ],
 "metadata": {
  "kernelspec": {
   "display_name": "Python 3",
   "language": "python",
   "name": "python3"
  },
  "language_info": {
   "codemirror_mode": {
    "name": "ipython",
    "version": 3
   },
   "file_extension": ".py",
   "mimetype": "text/x-python",
   "name": "python",
   "nbconvert_exporter": "python",
   "pygments_lexer": "ipython3",
   "version": "3.8.5"
  }
 },
 "nbformat": 4,
 "nbformat_minor": 4
}
