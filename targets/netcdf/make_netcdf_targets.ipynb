{
 "cells": [
  {
   "cell_type": "markdown",
   "metadata": {},
   "source": [
    "### transform the target variables from CSV to netcdf, and saves to disk "
   ]
  },
  {
   "cell_type": "code",
   "execution_count": 1,
   "metadata": {},
   "outputs": [],
   "source": [
    "%load_ext autoreload\n",
    "%autoreload 2"
   ]
  },
  {
   "cell_type": "code",
   "execution_count": 2,
   "metadata": {},
   "outputs": [],
   "source": [
    "%matplotlib inline\n",
    "\n",
    "### os \n",
    "import os \n",
    "import sys\n",
    "\n",
    "### datetimes \n",
    "from datetime import datetime, timedelta\n",
    "\n",
    "### scipy \n",
    "import numpy as np \n",
    "import pandas as pd\n",
    "import xarray as xr\n",
    "\n",
    "### plotting \n",
    "from matplotlib import pyplot as plt\n",
    "import cartopy.crs as ccrs"
   ]
  },
  {
   "cell_type": "code",
   "execution_count": 3,
   "metadata": {},
   "outputs": [],
   "source": [
    "import pathlib\n",
    "\n",
    "HOME = pathlib.Path.home()\n",
    "CWD = pathlib.Path.cwd() "
   ]
  },
  {
   "cell_type": "markdown",
   "metadata": {},
   "source": [
    "### paths where the CSV files with the target variables (time-series of seasonal anomalies and categories) reside"
   ]
  },
  {
   "cell_type": "code",
   "execution_count": 4,
   "metadata": {},
   "outputs": [],
   "source": [
    "csv_paths = HOME.joinpath('research/Smart_Ideas/outputs/targets/NZ_regions/NZ_6_regions')"
   ]
  },
  {
   "cell_type": "markdown",
   "metadata": {},
   "source": [
    "### list of variables "
   ]
  },
  {
   "cell_type": "code",
   "execution_count": 5,
   "metadata": {},
   "outputs": [],
   "source": [
    "list_vars = ['RAIN','TMEAN','SOILM'] "
   ]
  },
  {
   "cell_type": "markdown",
   "metadata": {},
   "source": [
    "### list of regions"
   ]
  },
  {
   "cell_type": "code",
   "execution_count": 6,
   "metadata": {},
   "outputs": [],
   "source": [
    "list_regions = ['NNI','WNI','ENI','NSI','WSI','ESI']"
   ]
  },
  {
   "cell_type": "code",
   "execution_count": 8,
   "metadata": {},
   "outputs": [
    {
     "name": "stdout",
     "output_type": "stream",
     "text": [
      "reading: TS_NZ_region_NNI_RAIN_3_quantiles_anoms_regionmask.csv\n",
      "reading: TS_NZ_region_WNI_RAIN_3_quantiles_anoms_regionmask.csv\n",
      "reading: TS_NZ_region_ENI_RAIN_3_quantiles_anoms_regionmask.csv\n",
      "reading: TS_NZ_region_NSI_RAIN_3_quantiles_anoms_regionmask.csv\n",
      "reading: TS_NZ_region_WSI_RAIN_3_quantiles_anoms_regionmask.csv\n",
      "reading: TS_NZ_region_ESI_RAIN_3_quantiles_anoms_regionmask.csv\n",
      "reading: TS_NZ_region_NNI_RAIN_5_quantiles_anoms_regionmask.csv\n",
      "reading: TS_NZ_region_WNI_RAIN_5_quantiles_anoms_regionmask.csv\n",
      "reading: TS_NZ_region_ENI_RAIN_5_quantiles_anoms_regionmask.csv\n",
      "reading: TS_NZ_region_NSI_RAIN_5_quantiles_anoms_regionmask.csv\n",
      "reading: TS_NZ_region_WSI_RAIN_5_quantiles_anoms_regionmask.csv\n",
      "reading: TS_NZ_region_ESI_RAIN_5_quantiles_anoms_regionmask.csv\n",
      "reading: TS_NZ_region_NNI_TMEAN_3_quantiles_anoms_regionmask.csv\n",
      "reading: TS_NZ_region_WNI_TMEAN_3_quantiles_anoms_regionmask.csv\n",
      "reading: TS_NZ_region_ENI_TMEAN_3_quantiles_anoms_regionmask.csv\n",
      "reading: TS_NZ_region_NSI_TMEAN_3_quantiles_anoms_regionmask.csv\n",
      "reading: TS_NZ_region_WSI_TMEAN_3_quantiles_anoms_regionmask.csv\n",
      "reading: TS_NZ_region_ESI_TMEAN_3_quantiles_anoms_regionmask.csv\n",
      "reading: TS_NZ_region_NNI_TMEAN_5_quantiles_anoms_regionmask.csv\n",
      "reading: TS_NZ_region_WNI_TMEAN_5_quantiles_anoms_regionmask.csv\n",
      "reading: TS_NZ_region_ENI_TMEAN_5_quantiles_anoms_regionmask.csv\n",
      "reading: TS_NZ_region_NSI_TMEAN_5_quantiles_anoms_regionmask.csv\n",
      "reading: TS_NZ_region_WSI_TMEAN_5_quantiles_anoms_regionmask.csv\n",
      "reading: TS_NZ_region_ESI_TMEAN_5_quantiles_anoms_regionmask.csv\n",
      "reading: TS_NZ_region_NNI_SOILM_3_quantiles_anoms_regionmask.csv\n",
      "reading: TS_NZ_region_WNI_SOILM_3_quantiles_anoms_regionmask.csv\n",
      "reading: TS_NZ_region_ENI_SOILM_3_quantiles_anoms_regionmask.csv\n",
      "reading: TS_NZ_region_NSI_SOILM_3_quantiles_anoms_regionmask.csv\n",
      "reading: TS_NZ_region_WSI_SOILM_3_quantiles_anoms_regionmask.csv\n",
      "reading: TS_NZ_region_ESI_SOILM_3_quantiles_anoms_regionmask.csv\n",
      "reading: TS_NZ_region_NNI_SOILM_5_quantiles_anoms_regionmask.csv\n",
      "reading: TS_NZ_region_WNI_SOILM_5_quantiles_anoms_regionmask.csv\n",
      "reading: TS_NZ_region_ENI_SOILM_5_quantiles_anoms_regionmask.csv\n",
      "reading: TS_NZ_region_NSI_SOILM_5_quantiles_anoms_regionmask.csv\n",
      "reading: TS_NZ_region_WSI_SOILM_5_quantiles_anoms_regionmask.csv\n",
      "reading: TS_NZ_region_ESI_SOILM_5_quantiles_anoms_regionmask.csv\n"
     ]
    }
   ],
   "source": [
    "for var_name in list_vars: \n",
    "    \n",
    "    # get the terciles \n",
    "    num_quantiles = 3\n",
    "    \n",
    "    dset_terciles = []\n",
    "    \n",
    "    for region_name in list_regions: \n",
    "        fname = csv_paths.joinpath(f\"{var_name}/{region_name}/TS_NZ_region_{region_name}_{var_name}_{num_quantiles}_quantiles_anoms_regionmask.csv\")\n",
    "        print(f\"reading: {fname.name}\")\n",
    "        data = pd.read_csv(fname, index_col=0, parse_dates=True)\n",
    "        data = data.to_xarray()\n",
    "        dset_terciles.append(data)\n",
    "    dset_terciles = xr.concat(dset_terciles, pd.Index(list_regions, name='region'))\n",
    "\n",
    "    # get the quintiles\n",
    "    num_quantiles = 5\n",
    "    \n",
    "    dset_quintiles = []\n",
    "    \n",
    "    for region_name in list_regions: \n",
    "        fname = csv_paths.joinpath(f\"{var_name}/{region_name}/TS_NZ_region_{region_name}_{var_name}_{num_quantiles}_quantiles_anoms_regionmask.csv\")\n",
    "        print(f\"reading: {fname.name}\")\n",
    "        data = pd.read_csv(fname, index_col=0, parse_dates=True)\n",
    "        data = data.to_xarray()\n",
    "        dset_quintiles.append(data)\n",
    "        \n",
    "    dset_quintiles = xr.concat(dset_quintiles, pd.Index(list_regions, name='region'))\n",
    "    \n",
    "    # merge \n",
    "    dset_target = xr.merge([dset_terciles, dset_quintiles['cat_5']])\n",
    "    \n",
    "    # saves to disk (several locations)\n",
    "    \n",
    "    # local drive \n",
    "    dset_target.to_netcdf(HOME.joinpath(f\"research/Smart_Ideas/outputs/targets/NZ_regions/NZ_6_regions/{var_name}/NZ_6_regions_{var_name}_terciles_and_quintiles.nc\")) \n",
    "\n",
    "    # media \n",
    "    dpath = pathlib.Path('/media/nicolasf/END19101/outputs/targets/NZ_regions/NZ_6_regions') \n",
    "    \n",
    "    dset_target.to_netcdf(dpath.joinpath(f\"{var_name}/NZ_6_regions_{var_name}_terciles_and_quintiles.nc\"))  "
   ]
  },
  {
   "cell_type": "code",
   "execution_count": null,
   "metadata": {},
   "outputs": [],
   "source": []
  }
 ],
 "metadata": {
  "kernelspec": {
   "display_name": "Python 3",
   "language": "python",
   "name": "python3"
  },
  "language_info": {
   "codemirror_mode": {
    "name": "ipython",
    "version": 3
   },
   "file_extension": ".py",
   "mimetype": "text/x-python",
   "name": "python",
   "nbconvert_exporter": "python",
   "pygments_lexer": "ipython3",
   "version": "3.8.5"
  }
 },
 "nbformat": 4,
 "nbformat_minor": 4
}
