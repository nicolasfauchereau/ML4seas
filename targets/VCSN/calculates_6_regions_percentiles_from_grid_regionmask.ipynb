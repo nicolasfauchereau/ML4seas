{
 "cells": [
  {
   "cell_type": "markdown",
   "metadata": {},
   "source": [
    "# calculates the seasonal anomalies and the seasonal percentile categories from the gridded VCSN monthly files, using the NZ 6 regions masks and the [regionmask](https://regionmask.readthedocs.io/) library"
   ]
  },
  {
   "cell_type": "markdown",
   "metadata": {},
   "source": [
    "### enter the variable name here "
   ]
  },
  {
   "cell_type": "code",
   "execution_count": null,
   "metadata": {},
   "outputs": [],
   "source": [
    "var_name = 'Rain_bc'\n",
    "# var_name = 'Tmin_N'\n",
    "# var_name = 'Tmax_N'\n",
    "# var_name = 'Tmean_N'\n",
    "# var_name = 'SoilM'\n",
    "# var_name = 'Wind'\n",
    "# var_name = 'Rad'"
   ]
  },
  {
   "cell_type": "markdown",
   "metadata": {},
   "source": [
    "variable name should be in:  \n",
    "\n",
    "+ original VCSN variables:  \n",
    "\n",
    "['MSLP', 'PET', 'Rain', 'RH', 'SoilM',\n",
    "       'ETmp', 'Rad', 'TMax', 'Tmin', 'VP', 'Wind', 'Rain_bc', 'Tmax_N',\n",
    "       'Tmin_N'] \n",
    "\n",
    "or: \n",
    "\n",
    "+ derived variables: \n",
    "\n",
    "    + Tmean:  (Tmin + Tmax) / 2 \n",
    "    + Tmean_N: (Tmin_N + Tmax_N) / 2 )"
   ]
  },
  {
   "cell_type": "code",
   "execution_count": null,
   "metadata": {},
   "outputs": [],
   "source": [
    "import os\n",
    "import sys\n",
    "import pathlib"
   ]
  },
  {
   "cell_type": "code",
   "execution_count": 3,
   "metadata": {
    "collapsed": false,
    "jupyter": {
     "outputs_hidden": false
    }
   },
   "outputs": [],
   "source": [
    "%matplotlib inline\n",
    "from matplotlib import pyplot as plt\n",
    "\n",
    "import numpy as np\n",
    "import pandas as pd\n",
    "from itertools import product"
   ]
  },
  {
   "cell_type": "code",
   "execution_count": 4,
   "metadata": {},
   "outputs": [],
   "source": [
    "import salem\n",
    "import geopandas as gpd"
   ]
  },
  {
   "cell_type": "code",
   "execution_count": 5,
   "metadata": {
    "collapsed": false,
    "jupyter": {
     "outputs_hidden": false
    }
   },
   "outputs": [],
   "source": [
    "import xarray as xr"
   ]
  },
  {
   "cell_type": "markdown",
   "metadata": {},
   "source": [
    "### path definitions "
   ]
  },
  {
   "cell_type": "code",
   "execution_count": 6,
   "metadata": {},
   "outputs": [],
   "source": [
    "HOME = pathlib.Path.home()"
   ]
  },
  {
   "cell_type": "code",
   "execution_count": 7,
   "metadata": {},
   "outputs": [],
   "source": [
    "CWD = pathlib.Path.cwd() "
   ]
  },
  {
   "cell_type": "markdown",
   "metadata": {},
   "source": [
    "### path to the mask dataset (for regionmask)"
   ]
  },
  {
   "cell_type": "code",
   "execution_count": 8,
   "metadata": {},
   "outputs": [],
   "source": [
    "mask_path = pathlib.Path('/media/nicolasf/END19101/data/VCSN/')"
   ]
  },
  {
   "cell_type": "markdown",
   "metadata": {},
   "source": [
    "### path to the VCSN data "
   ]
  },
  {
   "cell_type": "code",
   "execution_count": 9,
   "metadata": {},
   "outputs": [],
   "source": [
    "vcsn_path = HOME.joinpath(f'operational/VCSN/data/NC/MONTHLY/{var_name.upper()}')"
   ]
  },
  {
   "cell_type": "markdown",
   "metadata": {},
   "source": [
    "### output path root for the CSV files "
   ]
  },
  {
   "cell_type": "code",
   "execution_count": 10,
   "metadata": {},
   "outputs": [],
   "source": [
    "csv_path = HOME.joinpath(\"research/Smart_Ideas/outputs/targets/NZ_regions/NZ_6_regions\")"
   ]
  },
  {
   "cell_type": "markdown",
   "metadata": {},
   "source": [
    "### function to calculate the anomalies with respect to the 1981 - 2010 climatology "
   ]
  },
  {
   "cell_type": "code",
   "execution_count": 11,
   "metadata": {
    "collapsed": false,
    "jupyter": {
     "outputs_hidden": false
    }
   },
   "outputs": [],
   "source": [
    "def demean(x): \n",
    "    return x - x.loc['1981':'2010',].mean()"
   ]
  },
  {
   "cell_type": "markdown",
   "metadata": {},
   "source": [
    "### big_var is the simplified version of the variable, so Rain_bc --> RAIN, Tmin_N --> TMIN ..."
   ]
  },
  {
   "cell_type": "code",
   "execution_count": 12,
   "metadata": {},
   "outputs": [],
   "source": [
    "big_var = var_name.split('_')[0].upper()"
   ]
  },
  {
   "cell_type": "code",
   "execution_count": 13,
   "metadata": {},
   "outputs": [],
   "source": [
    "HOME = pathlib.Path.home()"
   ]
  },
  {
   "cell_type": "markdown",
   "metadata": {},
   "source": [
    "### open the VCSN monthly dataset "
   ]
  },
  {
   "cell_type": "code",
   "execution_count": 14,
   "metadata": {},
   "outputs": [
    {
     "data": {
      "text/plain": [
       "PosixPath('/home/nicolasf/operational/VCSN/data/NC/MONTHLY/RAIN_BC')"
      ]
     },
     "execution_count": 14,
     "metadata": {},
     "output_type": "execute_result"
    }
   ],
   "source": [
    "vcsn_path"
   ]
  },
  {
   "cell_type": "code",
   "execution_count": 15,
   "metadata": {
    "collapsed": false,
    "jupyter": {
     "outputs_hidden": false
    }
   },
   "outputs": [],
   "source": [
    "dset = xr.open_dataset(vcsn_path.joinpath(f'VCSN_gridded_{var_name}_1979-01_2019-12.nc')) "
   ]
  },
  {
   "cell_type": "code",
   "execution_count": 16,
   "metadata": {},
   "outputs": [
    {
     "data": {
      "text/html": [
       "<div><svg style=\"position: absolute; width: 0; height: 0; overflow: hidden\">\n",
       "<defs>\n",
       "<symbol id=\"icon-database\" viewBox=\"0 0 32 32\">\n",
       "<path d=\"M16 0c-8.837 0-16 2.239-16 5v4c0 2.761 7.163 5 16 5s16-2.239 16-5v-4c0-2.761-7.163-5-16-5z\"></path>\n",
       "<path d=\"M16 17c-8.837 0-16-2.239-16-5v6c0 2.761 7.163 5 16 5s16-2.239 16-5v-6c0 2.761-7.163 5-16 5z\"></path>\n",
       "<path d=\"M16 26c-8.837 0-16-2.239-16-5v6c0 2.761 7.163 5 16 5s16-2.239 16-5v-6c0 2.761-7.163 5-16 5z\"></path>\n",
       "</symbol>\n",
       "<symbol id=\"icon-file-text2\" viewBox=\"0 0 32 32\">\n",
       "<path d=\"M28.681 7.159c-0.694-0.947-1.662-2.053-2.724-3.116s-2.169-2.030-3.116-2.724c-1.612-1.182-2.393-1.319-2.841-1.319h-15.5c-1.378 0-2.5 1.121-2.5 2.5v27c0 1.378 1.122 2.5 2.5 2.5h23c1.378 0 2.5-1.122 2.5-2.5v-19.5c0-0.448-0.137-1.23-1.319-2.841zM24.543 5.457c0.959 0.959 1.712 1.825 2.268 2.543h-4.811v-4.811c0.718 0.556 1.584 1.309 2.543 2.268zM28 29.5c0 0.271-0.229 0.5-0.5 0.5h-23c-0.271 0-0.5-0.229-0.5-0.5v-27c0-0.271 0.229-0.5 0.5-0.5 0 0 15.499-0 15.5 0v7c0 0.552 0.448 1 1 1h7v19.5z\"></path>\n",
       "<path d=\"M23 26h-14c-0.552 0-1-0.448-1-1s0.448-1 1-1h14c0.552 0 1 0.448 1 1s-0.448 1-1 1z\"></path>\n",
       "<path d=\"M23 22h-14c-0.552 0-1-0.448-1-1s0.448-1 1-1h14c0.552 0 1 0.448 1 1s-0.448 1-1 1z\"></path>\n",
       "<path d=\"M23 18h-14c-0.552 0-1-0.448-1-1s0.448-1 1-1h14c0.552 0 1 0.448 1 1s-0.448 1-1 1z\"></path>\n",
       "</symbol>\n",
       "</defs>\n",
       "</svg>\n",
       "<style>/* CSS stylesheet for displaying xarray objects in jupyterlab.\n",
       " *\n",
       " */\n",
       "\n",
       ":root {\n",
       "  --xr-font-color0: var(--jp-content-font-color0, rgba(0, 0, 0, 1));\n",
       "  --xr-font-color2: var(--jp-content-font-color2, rgba(0, 0, 0, 0.54));\n",
       "  --xr-font-color3: var(--jp-content-font-color3, rgba(0, 0, 0, 0.38));\n",
       "  --xr-border-color: var(--jp-border-color2, #e0e0e0);\n",
       "  --xr-disabled-color: var(--jp-layout-color3, #bdbdbd);\n",
       "  --xr-background-color: var(--jp-layout-color0, white);\n",
       "  --xr-background-color-row-even: var(--jp-layout-color1, white);\n",
       "  --xr-background-color-row-odd: var(--jp-layout-color2, #eeeeee);\n",
       "}\n",
       "\n",
       "html[theme=dark],\n",
       "body.vscode-dark {\n",
       "  --xr-font-color0: rgba(255, 255, 255, 1);\n",
       "  --xr-font-color2: rgba(255, 255, 255, 0.54);\n",
       "  --xr-font-color3: rgba(255, 255, 255, 0.38);\n",
       "  --xr-border-color: #1F1F1F;\n",
       "  --xr-disabled-color: #515151;\n",
       "  --xr-background-color: #111111;\n",
       "  --xr-background-color-row-even: #111111;\n",
       "  --xr-background-color-row-odd: #313131;\n",
       "}\n",
       "\n",
       ".xr-wrap {\n",
       "  display: block;\n",
       "  min-width: 300px;\n",
       "  max-width: 700px;\n",
       "}\n",
       "\n",
       ".xr-text-repr-fallback {\n",
       "  /* fallback to plain text repr when CSS is not injected (untrusted notebook) */\n",
       "  display: none;\n",
       "}\n",
       "\n",
       ".xr-header {\n",
       "  padding-top: 6px;\n",
       "  padding-bottom: 6px;\n",
       "  margin-bottom: 4px;\n",
       "  border-bottom: solid 1px var(--xr-border-color);\n",
       "}\n",
       "\n",
       ".xr-header > div,\n",
       ".xr-header > ul {\n",
       "  display: inline;\n",
       "  margin-top: 0;\n",
       "  margin-bottom: 0;\n",
       "}\n",
       "\n",
       ".xr-obj-type,\n",
       ".xr-array-name {\n",
       "  margin-left: 2px;\n",
       "  margin-right: 10px;\n",
       "}\n",
       "\n",
       ".xr-obj-type {\n",
       "  color: var(--xr-font-color2);\n",
       "}\n",
       "\n",
       ".xr-sections {\n",
       "  padding-left: 0 !important;\n",
       "  display: grid;\n",
       "  grid-template-columns: 150px auto auto 1fr 20px 20px;\n",
       "}\n",
       "\n",
       ".xr-section-item {\n",
       "  display: contents;\n",
       "}\n",
       "\n",
       ".xr-section-item input {\n",
       "  display: none;\n",
       "}\n",
       "\n",
       ".xr-section-item input + label {\n",
       "  color: var(--xr-disabled-color);\n",
       "}\n",
       "\n",
       ".xr-section-item input:enabled + label {\n",
       "  cursor: pointer;\n",
       "  color: var(--xr-font-color2);\n",
       "}\n",
       "\n",
       ".xr-section-item input:enabled + label:hover {\n",
       "  color: var(--xr-font-color0);\n",
       "}\n",
       "\n",
       ".xr-section-summary {\n",
       "  grid-column: 1;\n",
       "  color: var(--xr-font-color2);\n",
       "  font-weight: 500;\n",
       "}\n",
       "\n",
       ".xr-section-summary > span {\n",
       "  display: inline-block;\n",
       "  padding-left: 0.5em;\n",
       "}\n",
       "\n",
       ".xr-section-summary-in:disabled + label {\n",
       "  color: var(--xr-font-color2);\n",
       "}\n",
       "\n",
       ".xr-section-summary-in + label:before {\n",
       "  display: inline-block;\n",
       "  content: '►';\n",
       "  font-size: 11px;\n",
       "  width: 15px;\n",
       "  text-align: center;\n",
       "}\n",
       "\n",
       ".xr-section-summary-in:disabled + label:before {\n",
       "  color: var(--xr-disabled-color);\n",
       "}\n",
       "\n",
       ".xr-section-summary-in:checked + label:before {\n",
       "  content: '▼';\n",
       "}\n",
       "\n",
       ".xr-section-summary-in:checked + label > span {\n",
       "  display: none;\n",
       "}\n",
       "\n",
       ".xr-section-summary,\n",
       ".xr-section-inline-details {\n",
       "  padding-top: 4px;\n",
       "  padding-bottom: 4px;\n",
       "}\n",
       "\n",
       ".xr-section-inline-details {\n",
       "  grid-column: 2 / -1;\n",
       "}\n",
       "\n",
       ".xr-section-details {\n",
       "  display: none;\n",
       "  grid-column: 1 / -1;\n",
       "  margin-bottom: 5px;\n",
       "}\n",
       "\n",
       ".xr-section-summary-in:checked ~ .xr-section-details {\n",
       "  display: contents;\n",
       "}\n",
       "\n",
       ".xr-array-wrap {\n",
       "  grid-column: 1 / -1;\n",
       "  display: grid;\n",
       "  grid-template-columns: 20px auto;\n",
       "}\n",
       "\n",
       ".xr-array-wrap > label {\n",
       "  grid-column: 1;\n",
       "  vertical-align: top;\n",
       "}\n",
       "\n",
       ".xr-preview {\n",
       "  color: var(--xr-font-color3);\n",
       "}\n",
       "\n",
       ".xr-array-preview,\n",
       ".xr-array-data {\n",
       "  padding: 0 5px !important;\n",
       "  grid-column: 2;\n",
       "}\n",
       "\n",
       ".xr-array-data,\n",
       ".xr-array-in:checked ~ .xr-array-preview {\n",
       "  display: none;\n",
       "}\n",
       "\n",
       ".xr-array-in:checked ~ .xr-array-data,\n",
       ".xr-array-preview {\n",
       "  display: inline-block;\n",
       "}\n",
       "\n",
       ".xr-dim-list {\n",
       "  display: inline-block !important;\n",
       "  list-style: none;\n",
       "  padding: 0 !important;\n",
       "  margin: 0;\n",
       "}\n",
       "\n",
       ".xr-dim-list li {\n",
       "  display: inline-block;\n",
       "  padding: 0;\n",
       "  margin: 0;\n",
       "}\n",
       "\n",
       ".xr-dim-list:before {\n",
       "  content: '(';\n",
       "}\n",
       "\n",
       ".xr-dim-list:after {\n",
       "  content: ')';\n",
       "}\n",
       "\n",
       ".xr-dim-list li:not(:last-child):after {\n",
       "  content: ',';\n",
       "  padding-right: 5px;\n",
       "}\n",
       "\n",
       ".xr-has-index {\n",
       "  font-weight: bold;\n",
       "}\n",
       "\n",
       ".xr-var-list,\n",
       ".xr-var-item {\n",
       "  display: contents;\n",
       "}\n",
       "\n",
       ".xr-var-item > div,\n",
       ".xr-var-item label,\n",
       ".xr-var-item > .xr-var-name span {\n",
       "  background-color: var(--xr-background-color-row-even);\n",
       "  margin-bottom: 0;\n",
       "}\n",
       "\n",
       ".xr-var-item > .xr-var-name:hover span {\n",
       "  padding-right: 5px;\n",
       "}\n",
       "\n",
       ".xr-var-list > li:nth-child(odd) > div,\n",
       ".xr-var-list > li:nth-child(odd) > label,\n",
       ".xr-var-list > li:nth-child(odd) > .xr-var-name span {\n",
       "  background-color: var(--xr-background-color-row-odd);\n",
       "}\n",
       "\n",
       ".xr-var-name {\n",
       "  grid-column: 1;\n",
       "}\n",
       "\n",
       ".xr-var-dims {\n",
       "  grid-column: 2;\n",
       "}\n",
       "\n",
       ".xr-var-dtype {\n",
       "  grid-column: 3;\n",
       "  text-align: right;\n",
       "  color: var(--xr-font-color2);\n",
       "}\n",
       "\n",
       ".xr-var-preview {\n",
       "  grid-column: 4;\n",
       "}\n",
       "\n",
       ".xr-var-name,\n",
       ".xr-var-dims,\n",
       ".xr-var-dtype,\n",
       ".xr-preview,\n",
       ".xr-attrs dt {\n",
       "  white-space: nowrap;\n",
       "  overflow: hidden;\n",
       "  text-overflow: ellipsis;\n",
       "  padding-right: 10px;\n",
       "}\n",
       "\n",
       ".xr-var-name:hover,\n",
       ".xr-var-dims:hover,\n",
       ".xr-var-dtype:hover,\n",
       ".xr-attrs dt:hover {\n",
       "  overflow: visible;\n",
       "  width: auto;\n",
       "  z-index: 1;\n",
       "}\n",
       "\n",
       ".xr-var-attrs,\n",
       ".xr-var-data {\n",
       "  display: none;\n",
       "  background-color: var(--xr-background-color) !important;\n",
       "  padding-bottom: 5px !important;\n",
       "}\n",
       "\n",
       ".xr-var-attrs-in:checked ~ .xr-var-attrs,\n",
       ".xr-var-data-in:checked ~ .xr-var-data {\n",
       "  display: block;\n",
       "}\n",
       "\n",
       ".xr-var-data > table {\n",
       "  float: right;\n",
       "}\n",
       "\n",
       ".xr-var-name span,\n",
       ".xr-var-data,\n",
       ".xr-attrs {\n",
       "  padding-left: 25px !important;\n",
       "}\n",
       "\n",
       ".xr-attrs,\n",
       ".xr-var-attrs,\n",
       ".xr-var-data {\n",
       "  grid-column: 1 / -1;\n",
       "}\n",
       "\n",
       "dl.xr-attrs {\n",
       "  padding: 0;\n",
       "  margin: 0;\n",
       "  display: grid;\n",
       "  grid-template-columns: 125px auto;\n",
       "}\n",
       "\n",
       ".xr-attrs dt, dd {\n",
       "  padding: 0;\n",
       "  margin: 0;\n",
       "  float: left;\n",
       "  padding-right: 10px;\n",
       "  width: auto;\n",
       "}\n",
       "\n",
       ".xr-attrs dt {\n",
       "  font-weight: normal;\n",
       "  grid-column: 1;\n",
       "}\n",
       "\n",
       ".xr-attrs dt:hover span {\n",
       "  display: inline-block;\n",
       "  background: var(--xr-background-color);\n",
       "  padding-right: 10px;\n",
       "}\n",
       "\n",
       ".xr-attrs dd {\n",
       "  grid-column: 2;\n",
       "  white-space: pre-wrap;\n",
       "  word-break: break-all;\n",
       "}\n",
       "\n",
       ".xr-icon-database,\n",
       ".xr-icon-file-text2 {\n",
       "  display: inline-block;\n",
       "  vertical-align: middle;\n",
       "  width: 1em;\n",
       "  height: 1.5em !important;\n",
       "  stroke-width: 0;\n",
       "  stroke: currentColor;\n",
       "  fill: currentColor;\n",
       "}\n",
       "</style><pre class='xr-text-repr-fallback'>&lt;xarray.Dataset&gt;\n",
       "Dimensions:  (lat: 257, lon: 241, time: 492)\n",
       "Coordinates:\n",
       "  * time     (time) datetime64[ns] 1979-01-31 1979-02-28 ... 2019-12-31\n",
       "  * lon      (lon) float64 166.5 166.5 166.6 166.6 ... 178.3 178.4 178.4 178.5\n",
       "  * lat      (lat) float64 -47.27 -47.23 -47.17 -47.12 ... -34.52 -34.48 -34.42\n",
       "Data variables:\n",
       "    Rain_bc  (time, lat, lon) float64 ...\n",
       "    agent    (lat, lon) float32 nan nan nan nan nan nan ... nan nan nan nan nan\n",
       "    mask     (lat, lon) float64 nan nan nan nan nan nan ... nan nan nan nan nan</pre><div class='xr-wrap' hidden><div class='xr-header'><div class='xr-obj-type'>xarray.Dataset</div></div><ul class='xr-sections'><li class='xr-section-item'><input id='section-f060e517-3f29-44f3-8a67-f44d7907fea6' class='xr-section-summary-in' type='checkbox' disabled ><label for='section-f060e517-3f29-44f3-8a67-f44d7907fea6' class='xr-section-summary'  title='Expand/collapse section'>Dimensions:</label><div class='xr-section-inline-details'><ul class='xr-dim-list'><li><span class='xr-has-index'>lat</span>: 257</li><li><span class='xr-has-index'>lon</span>: 241</li><li><span class='xr-has-index'>time</span>: 492</li></ul></div><div class='xr-section-details'></div></li><li class='xr-section-item'><input id='section-0d9fdf10-06e9-4ae7-a037-cb1d9a05d8db' class='xr-section-summary-in' type='checkbox'  checked><label for='section-0d9fdf10-06e9-4ae7-a037-cb1d9a05d8db' class='xr-section-summary' >Coordinates: <span>(3)</span></label><div class='xr-section-inline-details'></div><div class='xr-section-details'><ul class='xr-var-list'><li class='xr-var-item'><div class='xr-var-name'><span class='xr-has-index'>time</span></div><div class='xr-var-dims'>(time)</div><div class='xr-var-dtype'>datetime64[ns]</div><div class='xr-var-preview xr-preview'>1979-01-31 ... 2019-12-31</div><input id='attrs-7ed19627-6b45-42fd-909a-bdce8c659533' class='xr-var-attrs-in' type='checkbox' disabled><label for='attrs-7ed19627-6b45-42fd-909a-bdce8c659533' title='Show/Hide attributes'><svg class='icon xr-icon-file-text2'><use xlink:href='#icon-file-text2'></use></svg></label><input id='data-50caf22e-ff05-427c-a78d-fbe30c72d5fe' class='xr-var-data-in' type='checkbox'><label for='data-50caf22e-ff05-427c-a78d-fbe30c72d5fe' title='Show/Hide data repr'><svg class='icon xr-icon-database'><use xlink:href='#icon-database'></use></svg></label><div class='xr-var-attrs'><dl class='xr-attrs'></dl></div><div class='xr-var-data'><pre>array([&#x27;1979-01-31T00:00:00.000000000&#x27;, &#x27;1979-02-28T00:00:00.000000000&#x27;,\n",
       "       &#x27;1979-03-31T00:00:00.000000000&#x27;, ..., &#x27;2019-10-31T00:00:00.000000000&#x27;,\n",
       "       &#x27;2019-11-30T00:00:00.000000000&#x27;, &#x27;2019-12-31T00:00:00.000000000&#x27;],\n",
       "      dtype=&#x27;datetime64[ns]&#x27;)</pre></div></li><li class='xr-var-item'><div class='xr-var-name'><span class='xr-has-index'>lon</span></div><div class='xr-var-dims'>(lon)</div><div class='xr-var-dtype'>float64</div><div class='xr-var-preview xr-preview'>166.5 166.5 166.6 ... 178.4 178.5</div><input id='attrs-e756c662-f565-4d16-9109-467e4d0282c6' class='xr-var-attrs-in' type='checkbox' disabled><label for='attrs-e756c662-f565-4d16-9109-467e4d0282c6' title='Show/Hide attributes'><svg class='icon xr-icon-file-text2'><use xlink:href='#icon-file-text2'></use></svg></label><input id='data-221e3141-45ca-442e-9de8-4ef9f0938ffd' class='xr-var-data-in' type='checkbox'><label for='data-221e3141-45ca-442e-9de8-4ef9f0938ffd' title='Show/Hide data repr'><svg class='icon xr-icon-database'><use xlink:href='#icon-database'></use></svg></label><div class='xr-var-attrs'><dl class='xr-attrs'></dl></div><div class='xr-var-data'><pre>array([166.475, 166.525, 166.575, ..., 178.375, 178.425, 178.475])</pre></div></li><li class='xr-var-item'><div class='xr-var-name'><span class='xr-has-index'>lat</span></div><div class='xr-var-dims'>(lat)</div><div class='xr-var-dtype'>float64</div><div class='xr-var-preview xr-preview'>-47.27 -47.23 ... -34.48 -34.42</div><input id='attrs-ee21c795-3016-459c-9411-4a9a0814be4d' class='xr-var-attrs-in' type='checkbox' disabled><label for='attrs-ee21c795-3016-459c-9411-4a9a0814be4d' title='Show/Hide attributes'><svg class='icon xr-icon-file-text2'><use xlink:href='#icon-file-text2'></use></svg></label><input id='data-3dd02bce-88a7-4051-83e1-1c5aa94d9a5f' class='xr-var-data-in' type='checkbox'><label for='data-3dd02bce-88a7-4051-83e1-1c5aa94d9a5f' title='Show/Hide data repr'><svg class='icon xr-icon-database'><use xlink:href='#icon-database'></use></svg></label><div class='xr-var-attrs'><dl class='xr-attrs'></dl></div><div class='xr-var-data'><pre>array([-47.275, -47.225, -47.175, ..., -34.525, -34.475, -34.425])</pre></div></li></ul></div></li><li class='xr-section-item'><input id='section-282dee29-68e3-44da-8f2d-b482fdd004dd' class='xr-section-summary-in' type='checkbox'  checked><label for='section-282dee29-68e3-44da-8f2d-b482fdd004dd' class='xr-section-summary' >Data variables: <span>(3)</span></label><div class='xr-section-inline-details'></div><div class='xr-section-details'><ul class='xr-var-list'><li class='xr-var-item'><div class='xr-var-name'><span>Rain_bc</span></div><div class='xr-var-dims'>(time, lat, lon)</div><div class='xr-var-dtype'>float64</div><div class='xr-var-preview xr-preview'>...</div><input id='attrs-bcfaf947-9622-4be7-ba02-b4aa7d8445d4' class='xr-var-attrs-in' type='checkbox' disabled><label for='attrs-bcfaf947-9622-4be7-ba02-b4aa7d8445d4' title='Show/Hide attributes'><svg class='icon xr-icon-file-text2'><use xlink:href='#icon-file-text2'></use></svg></label><input id='data-cbd8cba5-a5e4-4583-9eb3-b0601fe562b5' class='xr-var-data-in' type='checkbox'><label for='data-cbd8cba5-a5e4-4583-9eb3-b0601fe562b5' title='Show/Hide data repr'><svg class='icon xr-icon-database'><use xlink:href='#icon-database'></use></svg></label><div class='xr-var-attrs'><dl class='xr-attrs'></dl></div><div class='xr-var-data'><pre>[30473004 values with dtype=float64]</pre></div></li><li class='xr-var-item'><div class='xr-var-name'><span>agent</span></div><div class='xr-var-dims'>(lat, lon)</div><div class='xr-var-dtype'>float32</div><div class='xr-var-preview xr-preview'>...</div><input id='attrs-5f8321fa-e28e-41a7-b6b9-4526a2cfa0c2' class='xr-var-attrs-in' type='checkbox' disabled><label for='attrs-5f8321fa-e28e-41a7-b6b9-4526a2cfa0c2' title='Show/Hide attributes'><svg class='icon xr-icon-file-text2'><use xlink:href='#icon-file-text2'></use></svg></label><input id='data-4533624f-968d-450d-be10-fa63d03f2380' class='xr-var-data-in' type='checkbox'><label for='data-4533624f-968d-450d-be10-fa63d03f2380' title='Show/Hide data repr'><svg class='icon xr-icon-database'><use xlink:href='#icon-database'></use></svg></label><div class='xr-var-attrs'><dl class='xr-attrs'></dl></div><div class='xr-var-data'><pre>array([[nan, nan, nan, ..., nan, nan, nan],\n",
       "       [nan, nan, nan, ..., nan, nan, nan],\n",
       "       [nan, nan, nan, ..., nan, nan, nan],\n",
       "       ...,\n",
       "       [nan, nan, nan, ..., nan, nan, nan],\n",
       "       [nan, nan, nan, ..., nan, nan, nan],\n",
       "       [nan, nan, nan, ..., nan, nan, nan]], dtype=float32)</pre></div></li><li class='xr-var-item'><div class='xr-var-name'><span>mask</span></div><div class='xr-var-dims'>(lat, lon)</div><div class='xr-var-dtype'>float64</div><div class='xr-var-preview xr-preview'>...</div><input id='attrs-756747b7-5842-4f59-b26f-0b0bfc440a39' class='xr-var-attrs-in' type='checkbox' disabled><label for='attrs-756747b7-5842-4f59-b26f-0b0bfc440a39' title='Show/Hide attributes'><svg class='icon xr-icon-file-text2'><use xlink:href='#icon-file-text2'></use></svg></label><input id='data-d8d38069-84ff-4b46-ab1d-3fbad5d3b84c' class='xr-var-data-in' type='checkbox'><label for='data-d8d38069-84ff-4b46-ab1d-3fbad5d3b84c' title='Show/Hide data repr'><svg class='icon xr-icon-database'><use xlink:href='#icon-database'></use></svg></label><div class='xr-var-attrs'><dl class='xr-attrs'></dl></div><div class='xr-var-data'><pre>array([[nan, nan, nan, ..., nan, nan, nan],\n",
       "       [nan, nan, nan, ..., nan, nan, nan],\n",
       "       [nan, nan, nan, ..., nan, nan, nan],\n",
       "       ...,\n",
       "       [nan, nan, nan, ..., nan, nan, nan],\n",
       "       [nan, nan, nan, ..., nan, nan, nan],\n",
       "       [nan, nan, nan, ..., nan, nan, nan]])</pre></div></li></ul></div></li><li class='xr-section-item'><input id='section-96b1e415-b11a-46da-b2f7-ec8af68acfff' class='xr-section-summary-in' type='checkbox' disabled ><label for='section-96b1e415-b11a-46da-b2f7-ec8af68acfff' class='xr-section-summary'  title='Expand/collapse section'>Attributes: <span>(0)</span></label><div class='xr-section-inline-details'></div><div class='xr-section-details'><dl class='xr-attrs'></dl></div></li></ul></div></div>"
      ],
      "text/plain": [
       "<xarray.Dataset>\n",
       "Dimensions:  (lat: 257, lon: 241, time: 492)\n",
       "Coordinates:\n",
       "  * time     (time) datetime64[ns] 1979-01-31 1979-02-28 ... 2019-12-31\n",
       "  * lon      (lon) float64 166.5 166.5 166.6 166.6 ... 178.3 178.4 178.4 178.5\n",
       "  * lat      (lat) float64 -47.27 -47.23 -47.17 -47.12 ... -34.52 -34.48 -34.42\n",
       "Data variables:\n",
       "    Rain_bc  (time, lat, lon) float64 ...\n",
       "    agent    (lat, lon) float32 ...\n",
       "    mask     (lat, lon) float64 ..."
      ]
     },
     "execution_count": 16,
     "metadata": {},
     "output_type": "execute_result"
    }
   ],
   "source": [
    "dset"
   ]
  },
  {
   "cell_type": "markdown",
   "metadata": {},
   "source": [
    "### calculates the seasonal average (or sum if rainfall ..)"
   ]
  },
  {
   "cell_type": "code",
   "execution_count": 17,
   "metadata": {},
   "outputs": [],
   "source": [
    "if \"Rain\" in var_name: \n",
    "    dset = dset.rolling(time=3, min_periods=3).sum()\n",
    "else: \n",
    "    dset = dset.rolling(time=3, min_periods=3).mean()"
   ]
  },
  {
   "cell_type": "markdown",
   "metadata": {},
   "source": [
    "### get rid of first 2 time-steps now missing "
   ]
  },
  {
   "cell_type": "code",
   "execution_count": 18,
   "metadata": {},
   "outputs": [],
   "source": [
    "dset = dset.isel(time=slice(2,None))"
   ]
  },
  {
   "cell_type": "markdown",
   "metadata": {},
   "source": [
    "### reads the mask dataset "
   ]
  },
  {
   "cell_type": "code",
   "execution_count": 19,
   "metadata": {},
   "outputs": [],
   "source": [
    "regions_mask = xr.open_dataset(mask_path.joinpath(\"NZ_6_regions_mask.nc\"))  "
   ]
  },
  {
   "cell_type": "code",
   "execution_count": 20,
   "metadata": {},
   "outputs": [
    {
     "data": {
      "text/plain": [
       "<matplotlib.collections.QuadMesh at 0x7f8524a85cd0>"
      ]
     },
     "execution_count": 20,
     "metadata": {},
     "output_type": "execute_result"
    },
    {
     "data": {
      "image/png": "[encoded data removed]",
      "text/plain": [
       "<Figure size 432x288 with 2 Axes>"
      ]
     },
     "metadata": {
      "needs_background": "light"
     },
     "output_type": "display_data"
    }
   ],
   "source": [
    "regions_mask['region'].plot()"
   ]
  },
  {
   "cell_type": "markdown",
   "metadata": {},
   "source": [
    "### defines the number of quantiles we want "
   ]
  },
  {
   "cell_type": "code",
   "execution_count": 21,
   "metadata": {},
   "outputs": [],
   "source": [
    "num_quantiles = 3"
   ]
  },
  {
   "cell_type": "code",
   "execution_count": 22,
   "metadata": {},
   "outputs": [],
   "source": [
    "quant_values = np.linspace(0, 1, num_quantiles + 1, endpoint=True)"
   ]
  },
  {
   "cell_type": "code",
   "execution_count": 23,
   "metadata": {},
   "outputs": [],
   "source": [
    "quant_values = quant_values[1:-1]"
   ]
  },
  {
   "cell_type": "code",
   "execution_count": 24,
   "metadata": {},
   "outputs": [
    {
     "data": {
      "text/plain": [
       "array([0.33333333, 0.66666667])"
      ]
     },
     "execution_count": 24,
     "metadata": {},
     "output_type": "execute_result"
    }
   ],
   "source": [
    "quant_values"
   ]
  },
  {
   "cell_type": "code",
   "execution_count": 25,
   "metadata": {},
   "outputs": [],
   "source": [
    "col_labs = [f\"Q{int(x)}\" for x in (quant_values*100)]"
   ]
  },
  {
   "cell_type": "code",
   "execution_count": 26,
   "metadata": {},
   "outputs": [
    {
     "data": {
      "text/plain": [
       "['Q33', 'Q66']"
      ]
     },
     "execution_count": 26,
     "metadata": {},
     "output_type": "execute_result"
    }
   ],
   "source": [
    "col_labs"
   ]
  },
  {
   "cell_type": "code",
   "execution_count": 27,
   "metadata": {},
   "outputs": [],
   "source": [
    "list_regions = ['NNI','ENI','WNI','NSI','WSI','ESI'] "
   ]
  },
  {
   "cell_type": "code",
   "execution_count": 28,
   "metadata": {},
   "outputs": [
    {
     "name": "stdout",
     "output_type": "stream",
     "text": [
      "region NNI processed for variable RAIN\n",
      "region ENI processed for variable RAIN\n",
      "region WNI processed for variable RAIN\n",
      "region NSI processed for variable RAIN\n",
      "region WSI processed for variable RAIN\n",
      "region ESI processed for variable RAIN\n"
     ]
    }
   ],
   "source": [
    "quantiles_dict = {}\n",
    "\n",
    "for i, region_name in enumerate(list_regions): \n",
    "\n",
    "    # create a copy of the original dataset \n",
    "    region = dset.copy() \n",
    "    \n",
    "    # get the mask for the region \n",
    "    region['mask'] = regions_mask[region_name] \n",
    "    \n",
    "    # multiply the gridded values by the mask \n",
    "    region = region[var_name] * region['mask']\n",
    "        \n",
    "    # calculate the regional average \n",
    "    ts = region.mean(dim=['lat','lon'])\n",
    "    \n",
    "    # casts the resulting time-series into a dataframe \n",
    "    ts_df = ts.to_dataframe(name=var_name)\n",
    "    ts_series = ts_df.loc[:,var_name]\n",
    "    \n",
    "    # now loop over each month (i.e. season) to calculate the percentiles-based categories\n",
    "    \n",
    "    ts_series_cat = []\n",
    "    \n",
    "    quantiles_list = []\n",
    "    \n",
    "    for month in range(1, 13):\n",
    "        \n",
    "        # extract the values for the month \n",
    "        ts_series_m = ts_series[ts_series.index.month == month]\n",
    "        \n",
    "        # subset to get the climatological period (1981 - 2010)\n",
    "        clim = ts_series_m.loc['1981':'2010']\n",
    "        \n",
    "        # calculates the climatological quantiles \n",
    "        quantiles = [clim.quantile(q=q) for q in quant_values.tolist()]\n",
    "        \n",
    "        quantiles_list.append(quantiles.copy())\n",
    "        \n",
    "        quantiles.insert(0, -np.inf)\n",
    "        \n",
    "        quantiles.append(np.inf)\n",
    "        \n",
    "        # use [pd.cut](https://pandas.pydata.org/pandas-docs/stable/reference/api/pandas.cut.html) to derive the categories\n",
    "        ts_series_m_cats = pd.cut(ts_series_m, quantiles, labels=list(range(1, num_quantiles + 1)))\n",
    "        \n",
    "        ts_series_cat.append(ts_series_m_cats)\n",
    "        \n",
    "        del(quantiles)\n",
    "     \n",
    "    quantiles_dict[region_name]  = np.array(quantiles_list)\n",
    "    \n",
    "    # concatenate the monthly time-series of quantile categories \n",
    "    ts_series_cat = pd.concat(ts_series_cat, axis=0)\n",
    "    \n",
    "    # sort in chronological order \n",
    "    ts_series_cat = ts_series_cat.sort_index()\n",
    "    \n",
    "    # add the column to the dataframe \n",
    "    ts_df.loc[:,f'cat_{num_quantiles}'] = ts_series_cat\n",
    "    \n",
    "    # calculates the anomalies with respect to the 1981 - 2010 climatology \n",
    "    ts_df.loc[:,'anomalies'] = ts_df.loc[:,var_name].groupby(ts_df.index.month).apply(demean)\n",
    "    \n",
    "    opath = csv_path.joinpath(f\"{big_var}/{region_name}\") \n",
    "    \n",
    "    if not opath.exists(): \n",
    "        opath.mkdir(parents=True)\n",
    "        \n",
    "    # saves the time-series to csv \n",
    "    ts_df.to_csv(opath / f'TS_NZ_region_{region_name}_{big_var}_{num_quantiles}_quantiles_anoms_regionmask.csv')\n",
    "    \n",
    "    # calculate the descriptive statistics per quantile category, and saves to disk\n",
    "    ts_df.groupby(ts_df.loc[:,f'cat_{num_quantiles}']).describe().to_csv(opath / f'descriptive_stats_{region_name}__{big_var}_{num_quantiles}_regionmask.csv')\n",
    "    \n",
    "    print(f\"region {region_name} processed for variable {big_var}\")\n",
    "    "
   ]
  },
  {
   "cell_type": "markdown",
   "metadata": {},
   "source": [
    "### saves the climatological terciles calculated from the VCSN regional aggregates"
   ]
  },
  {
   "cell_type": "code",
   "execution_count": 29,
   "metadata": {},
   "outputs": [],
   "source": [
    "quantiles_list = []\n",
    "for region_name in ['NNI','ENI','WNI','NSI','WSI','ESI']: \n",
    "    df = pd.DataFrame(quantiles_dict[region_name])\n",
    "    df.index = range(1, 13)\n",
    "    df.index.name = 'season'\n",
    "    df.columns = pd.MultiIndex.from_product([[region_name],col_labs])\n",
    "    quantiles_list.append(df)"
   ]
  },
  {
   "cell_type": "code",
   "execution_count": 30,
   "metadata": {},
   "outputs": [],
   "source": [
    "quantiles_df = pd.concat(quantiles_list, axis=1)"
   ]
  },
  {
   "cell_type": "code",
   "execution_count": 31,
   "metadata": {},
   "outputs": [
    {
     "data": {
      "text/html": [
       "<div>\n",
       "<style scoped>\n",
       "    .dataframe tbody tr th:only-of-type {\n",
       "        vertical-align: middle;\n",
       "    }\n",
       "\n",
       "    .dataframe tbody tr th {\n",
       "        vertical-align: top;\n",
       "    }\n",
       "\n",
       "    .dataframe thead tr th {\n",
       "        text-align: left;\n",
       "    }\n",
       "\n",
       "    .dataframe thead tr:last-of-type th {\n",
       "        text-align: right;\n",
       "    }\n",
       "</style>\n",
       "<table border=\"1\" class=\"dataframe\">\n",
       "  <thead>\n",
       "    <tr>\n",
       "      <th></th>\n",
       "      <th colspan=\"2\" halign=\"left\">NNI</th>\n",
       "      <th colspan=\"2\" halign=\"left\">ENI</th>\n",
       "      <th colspan=\"2\" halign=\"left\">WNI</th>\n",
       "      <th colspan=\"2\" halign=\"left\">NSI</th>\n",
       "      <th colspan=\"2\" halign=\"left\">WSI</th>\n",
       "      <th colspan=\"2\" halign=\"left\">ESI</th>\n",
       "    </tr>\n",
       "    <tr>\n",
       "      <th></th>\n",
       "      <th>Q33</th>\n",
       "      <th>Q66</th>\n",
       "      <th>Q33</th>\n",
       "      <th>Q66</th>\n",
       "      <th>Q33</th>\n",
       "      <th>Q66</th>\n",
       "      <th>Q33</th>\n",
       "      <th>Q66</th>\n",
       "      <th>Q33</th>\n",
       "      <th>Q66</th>\n",
       "      <th>Q33</th>\n",
       "      <th>Q66</th>\n",
       "    </tr>\n",
       "    <tr>\n",
       "      <th>season</th>\n",
       "      <th></th>\n",
       "      <th></th>\n",
       "      <th></th>\n",
       "      <th></th>\n",
       "      <th></th>\n",
       "      <th></th>\n",
       "      <th></th>\n",
       "      <th></th>\n",
       "      <th></th>\n",
       "      <th></th>\n",
       "      <th></th>\n",
       "      <th></th>\n",
       "    </tr>\n",
       "  </thead>\n",
       "  <tbody>\n",
       "    <tr>\n",
       "      <th>1</th>\n",
       "      <td>285.578719</td>\n",
       "      <td>331.434094</td>\n",
       "      <td>274.071498</td>\n",
       "      <td>321.114051</td>\n",
       "      <td>348.547639</td>\n",
       "      <td>398.892444</td>\n",
       "      <td>475.969852</td>\n",
       "      <td>574.902207</td>\n",
       "      <td>666.891961</td>\n",
       "      <td>828.101792</td>\n",
       "      <td>159.669420</td>\n",
       "      <td>187.538355</td>\n",
       "    </tr>\n",
       "    <tr>\n",
       "      <th>2</th>\n",
       "      <td>248.614824</td>\n",
       "      <td>332.961545</td>\n",
       "      <td>242.464384</td>\n",
       "      <td>294.581959</td>\n",
       "      <td>295.180472</td>\n",
       "      <td>360.714583</td>\n",
       "      <td>426.636183</td>\n",
       "      <td>496.996647</td>\n",
       "      <td>631.723299</td>\n",
       "      <td>757.693632</td>\n",
       "      <td>152.523030</td>\n",
       "      <td>183.801887</td>\n",
       "    </tr>\n",
       "    <tr>\n",
       "      <th>3</th>\n",
       "      <td>257.872955</td>\n",
       "      <td>331.864638</td>\n",
       "      <td>252.638276</td>\n",
       "      <td>314.941268</td>\n",
       "      <td>254.790694</td>\n",
       "      <td>333.436500</td>\n",
       "      <td>381.583990</td>\n",
       "      <td>475.379352</td>\n",
       "      <td>569.079393</td>\n",
       "      <td>691.313376</td>\n",
       "      <td>144.039688</td>\n",
       "      <td>175.020052</td>\n",
       "    </tr>\n",
       "    <tr>\n",
       "      <th>4</th>\n",
       "      <td>280.820774</td>\n",
       "      <td>357.495994</td>\n",
       "      <td>259.313076</td>\n",
       "      <td>345.683910</td>\n",
       "      <td>265.718528</td>\n",
       "      <td>329.222389</td>\n",
       "      <td>387.624057</td>\n",
       "      <td>487.872897</td>\n",
       "      <td>570.435051</td>\n",
       "      <td>641.627560</td>\n",
       "      <td>145.346857</td>\n",
       "      <td>179.942113</td>\n",
       "    </tr>\n",
       "    <tr>\n",
       "      <th>5</th>\n",
       "      <td>310.691531</td>\n",
       "      <td>383.596231</td>\n",
       "      <td>289.668528</td>\n",
       "      <td>372.407979</td>\n",
       "      <td>320.333417</td>\n",
       "      <td>365.917083</td>\n",
       "      <td>417.176167</td>\n",
       "      <td>541.006901</td>\n",
       "      <td>612.730836</td>\n",
       "      <td>732.603221</td>\n",
       "      <td>146.581281</td>\n",
       "      <td>185.115896</td>\n",
       "    </tr>\n",
       "    <tr>\n",
       "      <th>6</th>\n",
       "      <td>395.004699</td>\n",
       "      <td>458.729074</td>\n",
       "      <td>318.613320</td>\n",
       "      <td>418.895479</td>\n",
       "      <td>390.115250</td>\n",
       "      <td>449.128333</td>\n",
       "      <td>512.332188</td>\n",
       "      <td>596.659933</td>\n",
       "      <td>599.421303</td>\n",
       "      <td>719.665989</td>\n",
       "      <td>141.534597</td>\n",
       "      <td>173.201697</td>\n",
       "    </tr>\n",
       "    <tr>\n",
       "      <th>7</th>\n",
       "      <td>429.187813</td>\n",
       "      <td>519.727045</td>\n",
       "      <td>379.785705</td>\n",
       "      <td>454.729255</td>\n",
       "      <td>430.036611</td>\n",
       "      <td>506.477111</td>\n",
       "      <td>509.858899</td>\n",
       "      <td>627.580330</td>\n",
       "      <td>599.957059</td>\n",
       "      <td>702.473053</td>\n",
       "      <td>142.917126</td>\n",
       "      <td>186.110407</td>\n",
       "    </tr>\n",
       "    <tr>\n",
       "      <th>8</th>\n",
       "      <td>442.625135</td>\n",
       "      <td>540.716362</td>\n",
       "      <td>388.526241</td>\n",
       "      <td>491.319060</td>\n",
       "      <td>426.706083</td>\n",
       "      <td>536.590472</td>\n",
       "      <td>539.103856</td>\n",
       "      <td>631.099329</td>\n",
       "      <td>578.169024</td>\n",
       "      <td>663.131737</td>\n",
       "      <td>145.206078</td>\n",
       "      <td>183.140900</td>\n",
       "    </tr>\n",
       "    <tr>\n",
       "      <th>9</th>\n",
       "      <td>420.142512</td>\n",
       "      <td>512.264993</td>\n",
       "      <td>372.338652</td>\n",
       "      <td>450.974978</td>\n",
       "      <td>420.091361</td>\n",
       "      <td>510.486667</td>\n",
       "      <td>508.980469</td>\n",
       "      <td>677.420900</td>\n",
       "      <td>574.940815</td>\n",
       "      <td>688.731551</td>\n",
       "      <td>130.852727</td>\n",
       "      <td>180.975117</td>\n",
       "    </tr>\n",
       "    <tr>\n",
       "      <th>10</th>\n",
       "      <td>366.112610</td>\n",
       "      <td>444.964080</td>\n",
       "      <td>313.277261</td>\n",
       "      <td>379.599113</td>\n",
       "      <td>430.042889</td>\n",
       "      <td>506.402250</td>\n",
       "      <td>580.510701</td>\n",
       "      <td>689.385806</td>\n",
       "      <td>631.834865</td>\n",
       "      <td>751.095164</td>\n",
       "      <td>138.864571</td>\n",
       "      <td>181.066667</td>\n",
       "    </tr>\n",
       "    <tr>\n",
       "      <th>11</th>\n",
       "      <td>320.408249</td>\n",
       "      <td>391.336021</td>\n",
       "      <td>300.891999</td>\n",
       "      <td>341.651840</td>\n",
       "      <td>390.515556</td>\n",
       "      <td>467.428417</td>\n",
       "      <td>556.109863</td>\n",
       "      <td>668.662531</td>\n",
       "      <td>635.004418</td>\n",
       "      <td>788.016551</td>\n",
       "      <td>158.610667</td>\n",
       "      <td>180.487896</td>\n",
       "    </tr>\n",
       "    <tr>\n",
       "      <th>12</th>\n",
       "      <td>308.974561</td>\n",
       "      <td>388.192681</td>\n",
       "      <td>272.977726</td>\n",
       "      <td>340.542176</td>\n",
       "      <td>405.116083</td>\n",
       "      <td>454.167000</td>\n",
       "      <td>561.510673</td>\n",
       "      <td>679.760883</td>\n",
       "      <td>693.675058</td>\n",
       "      <td>841.154451</td>\n",
       "      <td>165.492606</td>\n",
       "      <td>207.053385</td>\n",
       "    </tr>\n",
       "  </tbody>\n",
       "</table>\n",
       "</div>"
      ],
      "text/plain": [
       "               NNI                     ENI                     WNI  \\\n",
       "               Q33         Q66         Q33         Q66         Q33   \n",
       "season                                                               \n",
       "1       285.578719  331.434094  274.071498  321.114051  348.547639   \n",
       "2       248.614824  332.961545  242.464384  294.581959  295.180472   \n",
       "3       257.872955  331.864638  252.638276  314.941268  254.790694   \n",
       "4       280.820774  357.495994  259.313076  345.683910  265.718528   \n",
       "5       310.691531  383.596231  289.668528  372.407979  320.333417   \n",
       "6       395.004699  458.729074  318.613320  418.895479  390.115250   \n",
       "7       429.187813  519.727045  379.785705  454.729255  430.036611   \n",
       "8       442.625135  540.716362  388.526241  491.319060  426.706083   \n",
       "9       420.142512  512.264993  372.338652  450.974978  420.091361   \n",
       "10      366.112610  444.964080  313.277261  379.599113  430.042889   \n",
       "11      320.408249  391.336021  300.891999  341.651840  390.515556   \n",
       "12      308.974561  388.192681  272.977726  340.542176  405.116083   \n",
       "\n",
       "                           NSI                     WSI              \\\n",
       "               Q66         Q33         Q66         Q33         Q66   \n",
       "season                                                               \n",
       "1       398.892444  475.969852  574.902207  666.891961  828.101792   \n",
       "2       360.714583  426.636183  496.996647  631.723299  757.693632   \n",
       "3       333.436500  381.583990  475.379352  569.079393  691.313376   \n",
       "4       329.222389  387.624057  487.872897  570.435051  641.627560   \n",
       "5       365.917083  417.176167  541.006901  612.730836  732.603221   \n",
       "6       449.128333  512.332188  596.659933  599.421303  719.665989   \n",
       "7       506.477111  509.858899  627.580330  599.957059  702.473053   \n",
       "8       536.590472  539.103856  631.099329  578.169024  663.131737   \n",
       "9       510.486667  508.980469  677.420900  574.940815  688.731551   \n",
       "10      506.402250  580.510701  689.385806  631.834865  751.095164   \n",
       "11      467.428417  556.109863  668.662531  635.004418  788.016551   \n",
       "12      454.167000  561.510673  679.760883  693.675058  841.154451   \n",
       "\n",
       "               ESI              \n",
       "               Q33         Q66  \n",
       "season                          \n",
       "1       159.669420  187.538355  \n",
       "2       152.523030  183.801887  \n",
       "3       144.039688  175.020052  \n",
       "4       145.346857  179.942113  \n",
       "5       146.581281  185.115896  \n",
       "6       141.534597  173.201697  \n",
       "7       142.917126  186.110407  \n",
       "8       145.206078  183.140900  \n",
       "9       130.852727  180.975117  \n",
       "10      138.864571  181.066667  \n",
       "11      158.610667  180.487896  \n",
       "12      165.492606  207.053385  "
      ]
     },
     "execution_count": 31,
     "metadata": {},
     "output_type": "execute_result"
    }
   ],
   "source": [
    "quantiles_df"
   ]
  },
  {
   "cell_type": "markdown",
   "metadata": {},
   "source": [
    "### saves the quantile climatology "
   ]
  },
  {
   "cell_type": "code",
   "execution_count": 32,
   "metadata": {},
   "outputs": [],
   "source": [
    "quantiles_df.to_csv(opath.parent / f'Climatological_quantiles_{num_quantiles}_cat_{big_var}_regionmask.csv')"
   ]
  },
  {
   "cell_type": "markdown",
   "metadata": {},
   "source": [
    "### Now do some comparisons between previous calculations of the tercile categories and the one using regionmask"
   ]
  },
  {
   "cell_type": "code",
   "execution_count": 33,
   "metadata": {},
   "outputs": [
    {
     "data": {
      "text/plain": [
       "PosixPath('/home/nicolasf/research/Smart_Ideas/outputs/targets/NZ_regions/NZ_6_regions/RAIN')"
      ]
     },
     "execution_count": 33,
     "metadata": {},
     "output_type": "execute_result"
    }
   ],
   "source": [
    "opath.parent"
   ]
  },
  {
   "cell_type": "code",
   "execution_count": 34,
   "metadata": {},
   "outputs": [
    {
     "name": "stdout",
     "output_type": "stream",
     "text": [
      "percent matching categories, RAIN, NNI = 0.9938775510204082\n",
      "percent matching categories, RAIN, ENI = 0.9857142857142858\n",
      "percent matching categories, RAIN, WNI = 0.9836734693877551\n",
      "percent matching categories, RAIN, NSI = 0.9816326530612245\n",
      "percent matching categories, RAIN, WSI = 1.0\n",
      "percent matching categories, RAIN, ESI = 0.9816326530612245\n"
     ]
    }
   ],
   "source": [
    "for region_name in list_regions: \n",
    "    df_orig = pd.read_csv(csv_path.joinpath(f\"{big_var}/{region_name}/TS_NZ_region_{region_name}_{big_var}_{num_quantiles}_quantiles_anoms.csv\"), index_col=0, parse_dates=True)\n",
    "    df_reg_mask = pd.read_csv(csv_path.joinpath(f\"{big_var}/{region_name}/TS_NZ_region_{region_name}_{big_var}_{num_quantiles}_quantiles_anoms_regionmask.csv\"), index_col=0, parse_dates=True)\n",
    "    print(f\"percent matching categories, {big_var}, {region_name} = {(df_orig.cat_3 == df_reg_mask.cat_3).sum() / len(df_orig)}\")"
   ]
  }
 ],
 "metadata": {
  "kernelspec": {
   "display_name": "Python 3",
   "language": "python",
   "name": "python3"
  },
  "language_info": {
   "codemirror_mode": {
    "name": "ipython",
    "version": 3
   },
   "file_extension": ".py",
   "mimetype": "text/x-python",
   "name": "python",
   "nbconvert_exporter": "python",
   "pygments_lexer": "ipython3",
   "version": "3.8.5"
  },
  "latex_envs": {
   "bibliofile": "biblio.bib",
   "cite_by": "apalike",
   "current_citInitial": 1,
   "eqLabelWithNumbers": true,
   "eqNumInitial": 0
  }
 },
 "nbformat": 4,
 "nbformat_minor": 4
}
