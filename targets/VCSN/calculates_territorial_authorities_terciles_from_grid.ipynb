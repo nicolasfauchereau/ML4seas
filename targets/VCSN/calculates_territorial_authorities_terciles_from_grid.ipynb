{
 "cells": [
  {
   "cell_type": "markdown",
   "metadata": {},
   "source": [
    "# calculates the seasonal anomalies and the seasonal tercile categories from the gridded VCSN monthly files, using the NZ territorial authorities shapefile"
   ]
  },
  {
   "cell_type": "markdown",
   "metadata": {},
   "source": [
    "The shapefiles were downloaded from: \n",
    "    \n",
    "[https://koordinates.com/layer/4241-nz-territorial-authorities-2012-yearly-pattern/](https://koordinates.com/layer/4241-nz-territorial-authorities-2012-yearly-pattern/)"
   ]
  },
  {
   "cell_type": "code",
   "execution_count": 1,
   "metadata": {},
   "outputs": [],
   "source": [
    "# Paramaters \n",
    "\n",
    "# var_name = 'Rain_bc'\n",
    "# var_name = 'Tmin_N'\n",
    "# var_name = 'Tmax_N'\n",
    "# var_name = 'Tmean_N'\n",
    "# var_name = 'SoilM'\n",
    "# var_name = 'Wind'\n",
    "var_name = 'Rad'"
   ]
  },
  {
   "cell_type": "markdown",
   "metadata": {},
   "source": [
    "in ['Agent', 'Lat', 'Longt', 'Date', 'MSLP', 'PET', 'Rain', 'RH', 'SoilM',\n",
    "       'ETmp', 'Rad', 'TMax', 'Tmin', 'VP', 'Wind', 'Rain_bc', 'Tmax_N',\n",
    "       'Tmin_N']"
   ]
  },
  {
   "cell_type": "code",
   "execution_count": 2,
   "metadata": {},
   "outputs": [],
   "source": [
    "import os\n",
    "import sys\n",
    "import pathlib"
   ]
  },
  {
   "cell_type": "code",
   "execution_count": 3,
   "metadata": {
    "collapsed": false,
    "jupyter": {
     "outputs_hidden": false
    }
   },
   "outputs": [],
   "source": [
    "%matplotlib inline\n",
    "from matplotlib import pyplot as plt\n",
    "import proplot as plot\n",
    "\n",
    "import numpy as np\n",
    "import pandas as pd\n",
    "from scipy.spatial import cKDTree\n",
    "from itertools import product"
   ]
  },
  {
   "cell_type": "code",
   "execution_count": 4,
   "metadata": {},
   "outputs": [],
   "source": [
    "import salem\n",
    "import geopandas as gpd"
   ]
  },
  {
   "cell_type": "code",
   "execution_count": 5,
   "metadata": {
    "collapsed": false,
    "jupyter": {
     "outputs_hidden": false
    }
   },
   "outputs": [],
   "source": [
    "import xarray as xr"
   ]
  },
  {
   "cell_type": "markdown",
   "metadata": {},
   "source": [
    "### function to calculate the anomalies with respect to the 1981 - 2010 climatology "
   ]
  },
  {
   "cell_type": "code",
   "execution_count": 6,
   "metadata": {
    "collapsed": false,
    "jupyter": {
     "outputs_hidden": false
    }
   },
   "outputs": [],
   "source": [
    "def demean(x): \n",
    "    return x - x.loc['1981':'2010',].mean()"
   ]
  },
  {
   "cell_type": "code",
   "execution_count": 7,
   "metadata": {},
   "outputs": [
    {
     "data": {
      "text/plain": [
       "'Rad'"
      ]
     },
     "execution_count": 7,
     "metadata": {},
     "output_type": "execute_result"
    }
   ],
   "source": [
    "var_name"
   ]
  },
  {
   "cell_type": "code",
   "execution_count": 8,
   "metadata": {},
   "outputs": [],
   "source": [
    "big_var = var_name.split('_')[0].upper()"
   ]
  },
  {
   "cell_type": "code",
   "execution_count": 9,
   "metadata": {},
   "outputs": [],
   "source": [
    "HOME = pathlib.Path.home()"
   ]
  },
  {
   "cell_type": "code",
   "execution_count": 10,
   "metadata": {},
   "outputs": [],
   "source": [
    "dpath = HOME / 'operational/VCSN/data/NC/MONTHLY/' / var_name.upper()"
   ]
  },
  {
   "cell_type": "code",
   "execution_count": 11,
   "metadata": {},
   "outputs": [
    {
     "data": {
      "text/plain": [
       "'RAD'"
      ]
     },
     "execution_count": 11,
     "metadata": {},
     "output_type": "execute_result"
    }
   ],
   "source": [
    "var_name.upper()"
   ]
  },
  {
   "cell_type": "code",
   "execution_count": 12,
   "metadata": {
    "collapsed": false,
    "jupyter": {
     "outputs_hidden": false
    }
   },
   "outputs": [],
   "source": [
    "dset = salem.open_xr_dataset(dpath / f'VCSN_gridded_{var_name}_1979-01_2019-12.nc') "
   ]
  },
  {
   "cell_type": "code",
   "execution_count": 13,
   "metadata": {},
   "outputs": [
    {
     "data": {
      "text/html": [
       "<pre>&lt;xarray.Dataset&gt;\n",
       "Dimensions:  (lat: 257, lon: 241, time: 492)\n",
       "Coordinates:\n",
       "  * time     (time) datetime64[ns] 1979-01-31 1979-02-28 ... 2019-12-31\n",
       "  * lat      (lat) float64 -47.27 -47.23 -47.17 -47.12 ... -34.52 -34.48 -34.42\n",
       "  * lon      (lon) float64 166.5 166.5 166.6 166.6 ... 178.3 178.4 178.4 178.5\n",
       "Data variables:\n",
       "    Rad      (time, lat, lon) float64 ...\n",
       "    agent    (lat, lon) float32 ...\n",
       "Attributes:\n",
       "    pyproj_srs:  +units=m +proj=latlong +datum=WGS84 </pre>"
      ],
      "text/plain": [
       "<xarray.Dataset>\n",
       "Dimensions:  (lat: 257, lon: 241, time: 492)\n",
       "Coordinates:\n",
       "  * time     (time) datetime64[ns] 1979-01-31 1979-02-28 ... 2019-12-31\n",
       "  * lat      (lat) float64 -47.27 -47.23 -47.17 -47.12 ... -34.52 -34.48 -34.42\n",
       "  * lon      (lon) float64 166.5 166.5 166.6 166.6 ... 178.3 178.4 178.4 178.5\n",
       "Data variables:\n",
       "    Rad      (time, lat, lon) float64 ...\n",
       "    agent    (lat, lon) float32 ...\n",
       "Attributes:\n",
       "    pyproj_srs:  +units=m +proj=latlong +datum=WGS84 "
      ]
     },
     "execution_count": 13,
     "metadata": {},
     "output_type": "execute_result"
    }
   ],
   "source": [
    "dset"
   ]
  },
  {
   "cell_type": "markdown",
   "metadata": {},
   "source": [
    "### calculates the seasonal average (or sum if Rain_bc is the variable )"
   ]
  },
  {
   "cell_type": "code",
   "execution_count": 14,
   "metadata": {},
   "outputs": [],
   "source": [
    "if var_name == 'Rain_bc': \n",
    "    dset = dset.rolling(time=3, min_periods=3).sum()\n",
    "else: \n",
    "    dset = dset.rolling(time=3, min_periods=3).mean()"
   ]
  },
  {
   "cell_type": "code",
   "execution_count": 15,
   "metadata": {},
   "outputs": [],
   "source": [
    "dset = dset.isel(time=slice(2,None))"
   ]
  },
  {
   "cell_type": "code",
   "execution_count": 16,
   "metadata": {},
   "outputs": [],
   "source": [
    "nz_regions = gpd.read_file(HOME / 'research' / 'Smart_Ideas' / 'data' / 'shapefiles' / 'NZ_districts' / 'nz-territorial-authorities-2012-yearly-pattern.shp') "
   ]
  },
  {
   "cell_type": "code",
   "execution_count": 17,
   "metadata": {},
   "outputs": [
    {
     "data": {
      "text/html": [
       "<div>\n",
       "<style scoped>\n",
       "    .dataframe tbody tr th:only-of-type {\n",
       "        vertical-align: middle;\n",
       "    }\n",
       "\n",
       "    .dataframe tbody tr th {\n",
       "        vertical-align: top;\n",
       "    }\n",
       "\n",
       "    .dataframe thead th {\n",
       "        text-align: right;\n",
       "    }\n",
       "</style>\n",
       "<table border=\"1\" class=\"dataframe\">\n",
       "  <thead>\n",
       "    <tr style=\"text-align: right;\">\n",
       "      <th></th>\n",
       "      <th>TA12</th>\n",
       "      <th>NAME</th>\n",
       "      <th>geometry</th>\n",
       "    </tr>\n",
       "  </thead>\n",
       "  <tbody>\n",
       "    <tr>\n",
       "      <th>0</th>\n",
       "      <td>001</td>\n",
       "      <td>Far North District</td>\n",
       "      <td>MULTIPOLYGON (((173.16053 -35.31148, 173.16045...</td>\n",
       "    </tr>\n",
       "    <tr>\n",
       "      <th>1</th>\n",
       "      <td>002</td>\n",
       "      <td>Whangarei District</td>\n",
       "      <td>MULTIPOLYGON (((174.69731 -35.99219, 174.69782...</td>\n",
       "    </tr>\n",
       "    <tr>\n",
       "      <th>2</th>\n",
       "      <td>003</td>\n",
       "      <td>Kaipara District</td>\n",
       "      <td>MULTIPOLYGON (((174.27348 -36.28929, 174.27354...</td>\n",
       "    </tr>\n",
       "    <tr>\n",
       "      <th>3</th>\n",
       "      <td>011</td>\n",
       "      <td>Thames-Coromandel District</td>\n",
       "      <td>MULTIPOLYGON (((175.90054 -37.22147, 175.90049...</td>\n",
       "    </tr>\n",
       "    <tr>\n",
       "      <th>4</th>\n",
       "      <td>012</td>\n",
       "      <td>Hauraki District</td>\n",
       "      <td>MULTIPOLYGON (((175.53358 -37.16871, 175.53400...</td>\n",
       "    </tr>\n",
       "  </tbody>\n",
       "</table>\n",
       "</div>"
      ],
      "text/plain": [
       "  TA12                        NAME  \\\n",
       "0  001          Far North District   \n",
       "1  002          Whangarei District   \n",
       "2  003            Kaipara District   \n",
       "3  011  Thames-Coromandel District   \n",
       "4  012            Hauraki District   \n",
       "\n",
       "                                            geometry  \n",
       "0  MULTIPOLYGON (((173.16053 -35.31148, 173.16045...  \n",
       "1  MULTIPOLYGON (((174.69731 -35.99219, 174.69782...  \n",
       "2  MULTIPOLYGON (((174.27348 -36.28929, 174.27354...  \n",
       "3  MULTIPOLYGON (((175.90054 -37.22147, 175.90049...  \n",
       "4  MULTIPOLYGON (((175.53358 -37.16871, 175.53400...  "
      ]
     },
     "execution_count": 17,
     "metadata": {},
     "output_type": "execute_result"
    }
   ],
   "source": [
    "nz_regions.head()"
   ]
  },
  {
   "cell_type": "code",
   "execution_count": 18,
   "metadata": {},
   "outputs": [
    {
     "data": {
      "text/html": [
       "<div>\n",
       "<style scoped>\n",
       "    .dataframe tbody tr th:only-of-type {\n",
       "        vertical-align: middle;\n",
       "    }\n",
       "\n",
       "    .dataframe tbody tr th {\n",
       "        vertical-align: top;\n",
       "    }\n",
       "\n",
       "    .dataframe thead th {\n",
       "        text-align: right;\n",
       "    }\n",
       "</style>\n",
       "<table border=\"1\" class=\"dataframe\">\n",
       "  <thead>\n",
       "    <tr style=\"text-align: right;\">\n",
       "      <th></th>\n",
       "      <th>TA12</th>\n",
       "      <th>NAME</th>\n",
       "      <th>geometry</th>\n",
       "    </tr>\n",
       "  </thead>\n",
       "  <tbody>\n",
       "    <tr>\n",
       "      <th>62</th>\n",
       "      <td>074</td>\n",
       "      <td>Gore District</td>\n",
       "      <td>POLYGON ((168.99659 -45.79218, 168.99744 -45.7...</td>\n",
       "    </tr>\n",
       "    <tr>\n",
       "      <th>63</th>\n",
       "      <td>075</td>\n",
       "      <td>Invercargill City</td>\n",
       "      <td>MULTIPOLYGON (((168.41352 -46.65071, 168.41355...</td>\n",
       "    </tr>\n",
       "    <tr>\n",
       "      <th>64</th>\n",
       "      <td>076</td>\n",
       "      <td>Auckland</td>\n",
       "      <td>POLYGON ((175.08383 -35.69983, 175.09081 -35.7...</td>\n",
       "    </tr>\n",
       "    <tr>\n",
       "      <th>65</th>\n",
       "      <td>060</td>\n",
       "      <td>Christchurch City</td>\n",
       "      <td>POLYGON ((172.70029 -43.39091, 172.70038 -43.3...</td>\n",
       "    </tr>\n",
       "    <tr>\n",
       "      <th>66</th>\n",
       "      <td>999</td>\n",
       "      <td>Area Outside Territorial Authority</td>\n",
       "      <td>MULTIPOLYGON (((176.02181 -36.37127, 176.02408...</td>\n",
       "    </tr>\n",
       "  </tbody>\n",
       "</table>\n",
       "</div>"
      ],
      "text/plain": [
       "   TA12                                NAME  \\\n",
       "62  074                       Gore District   \n",
       "63  075                   Invercargill City   \n",
       "64  076                            Auckland   \n",
       "65  060                   Christchurch City   \n",
       "66  999  Area Outside Territorial Authority   \n",
       "\n",
       "                                             geometry  \n",
       "62  POLYGON ((168.99659 -45.79218, 168.99744 -45.7...  \n",
       "63  MULTIPOLYGON (((168.41352 -46.65071, 168.41355...  \n",
       "64  POLYGON ((175.08383 -35.69983, 175.09081 -35.7...  \n",
       "65  POLYGON ((172.70029 -43.39091, 172.70038 -43.3...  \n",
       "66  MULTIPOLYGON (((176.02181 -36.37127, 176.02408...  "
      ]
     },
     "execution_count": 18,
     "metadata": {},
     "output_type": "execute_result"
    }
   ],
   "source": [
    "nz_regions.tail()"
   ]
  },
  {
   "cell_type": "markdown",
   "metadata": {},
   "source": [
    "### remove the area outside Territorial Authority"
   ]
  },
  {
   "cell_type": "code",
   "execution_count": 19,
   "metadata": {},
   "outputs": [],
   "source": [
    "nz_regions = nz_regions.iloc[:-1,:]"
   ]
  },
  {
   "cell_type": "code",
   "execution_count": 20,
   "metadata": {},
   "outputs": [
    {
     "data": {
      "image/png": "[encoded data removed]",
      "text/plain": [
       "<Figure size 640x480 with 1 Axes>"
      ]
     },
     "metadata": {
      "image/png": {
       "height": 480,
       "width": 640
      }
     },
     "output_type": "display_data"
    }
   ],
   "source": [
    "f, ax = plt.subplots()\n",
    "nz_regions.plot(cmap=plt.cm.Accent, figsize=(10,15), lw=2, edgecolor=\"black\", linewidth=.5, ax=ax)\n",
    "ax.set_title('NZ Territorial Authorities')\n",
    "ax.set_ylabel('Latitude')\n",
    "ax.set_xlabel('Longitude')\n",
    "f.savefig(HOME / 'research' / 'Smart_Ideas' / 'figures' / 'NZ_TA_loc.png', dpi=200, bbox_inches='tight')"
   ]
  },
  {
   "cell_type": "code",
   "execution_count": 21,
   "metadata": {},
   "outputs": [
    {
     "data": {
      "text/plain": [
       "array(['Far North District', 'Whangarei District', 'Kaipara District',\n",
       "       'Thames-Coromandel District', 'Hauraki District',\n",
       "       'Waikato District', 'Matamata-Piako District', 'Hamilton City',\n",
       "       'Waipa District', 'Otorohanga District', 'South Waikato District',\n",
       "       'Waitomo District', 'Taupo District',\n",
       "       'Western Bay of Plenty District', 'Tauranga City',\n",
       "       'Rotorua District', 'Whakatane District', 'Stratford District',\n",
       "       'South Taranaki District', 'Ruapehu District', 'Wanganui District',\n",
       "       'Rangitikei District', 'Manawatu District',\n",
       "       'Palmerston North City', 'Tararua District',\n",
       "       'New Plymouth District', 'Horowhenua District',\n",
       "       'Kapiti Coast District', 'Porirua City', 'Kawerau District',\n",
       "       'Opotiki District', 'Gisborne District', 'Wairoa District',\n",
       "       'Hastings District', 'Napier City', \"Central Hawke's Bay District\",\n",
       "       'Upper Hutt City', 'Lower Hutt City', 'Wellington City',\n",
       "       'Masterton District', 'Carterton District',\n",
       "       'South Wairarapa District', 'Tasman District', 'Nelson City',\n",
       "       'Marlborough District', 'Kaikoura District', 'Buller District',\n",
       "       'Grey District', 'Westland District', 'Hurunui District',\n",
       "       'Waimakariri District', 'Selwyn District', 'Ashburton District',\n",
       "       'Timaru District', 'Mackenzie District', 'Waimate District',\n",
       "       'Waitaki District', 'Central Otago District',\n",
       "       'Queenstown-Lakes District', 'Dunedin City', 'Clutha District',\n",
       "       'Southland District', 'Gore District', 'Invercargill City',\n",
       "       'Auckland', 'Christchurch City'], dtype=object)"
      ]
     },
     "execution_count": 21,
     "metadata": {},
     "output_type": "execute_result"
    }
   ],
   "source": [
    "nz_regions.NAME.values"
   ]
  },
  {
   "cell_type": "markdown",
   "metadata": {},
   "source": [
    "### sanitize the names of the territorial authorities "
   ]
  },
  {
   "cell_type": "code",
   "execution_count": 22,
   "metadata": {},
   "outputs": [],
   "source": [
    "nz_regions.loc[:,'NAME'] = nz_regions.loc[:,'NAME'].str.replace(' District','').str.replace(\"'\",'').str.replace(' ','_')"
   ]
  },
  {
   "cell_type": "code",
   "execution_count": 23,
   "metadata": {},
   "outputs": [
    {
     "data": {
      "text/plain": [
       "array(['Far_North', 'Whangarei', 'Kaipara', 'Thames-Coromandel',\n",
       "       'Hauraki', 'Waikato', 'Matamata-Piako', 'Hamilton_City', 'Waipa',\n",
       "       'Otorohanga', 'South_Waikato', 'Waitomo', 'Taupo',\n",
       "       'Western_Bay_of_Plenty', 'Tauranga_City', 'Rotorua', 'Whakatane',\n",
       "       'Stratford', 'South_Taranaki', 'Ruapehu', 'Wanganui', 'Rangitikei',\n",
       "       'Manawatu', 'Palmerston_North_City', 'Tararua', 'New_Plymouth',\n",
       "       'Horowhenua', 'Kapiti_Coast', 'Porirua_City', 'Kawerau', 'Opotiki',\n",
       "       'Gisborne', 'Wairoa', 'Hastings', 'Napier_City',\n",
       "       'Central_Hawkes_Bay', 'Upper_Hutt_City', 'Lower_Hutt_City',\n",
       "       'Wellington_City', 'Masterton', 'Carterton', 'South_Wairarapa',\n",
       "       'Tasman', 'Nelson_City', 'Marlborough', 'Kaikoura', 'Buller',\n",
       "       'Grey', 'Westland', 'Hurunui', 'Waimakariri', 'Selwyn',\n",
       "       'Ashburton', 'Timaru', 'Mackenzie', 'Waimate', 'Waitaki',\n",
       "       'Central_Otago', 'Queenstown-Lakes', 'Dunedin_City', 'Clutha',\n",
       "       'Southland', 'Gore', 'Invercargill_City', 'Auckland',\n",
       "       'Christchurch_City'], dtype=object)"
      ]
     },
     "execution_count": 23,
     "metadata": {},
     "output_type": "execute_result"
    }
   ],
   "source": [
    "nz_regions.NAME.values"
   ]
  },
  {
   "cell_type": "markdown",
   "metadata": {},
   "source": [
    "### creates the folder for the outputs if not already there "
   ]
  },
  {
   "cell_type": "code",
   "execution_count": 24,
   "metadata": {},
   "outputs": [],
   "source": [
    "opath_root = HOME / 'research' / 'Smart_Ideas' / 'outputs' / 'targets' / 'NZ_territorial_authorities'"
   ]
  },
  {
   "cell_type": "code",
   "execution_count": 25,
   "metadata": {},
   "outputs": [],
   "source": [
    "if not opath_root.exists(): \n",
    "    opath_root.mkdir(parents=True)"
   ]
  },
  {
   "cell_type": "markdown",
   "metadata": {},
   "source": [
    "### defines the number of quantiles we want "
   ]
  },
  {
   "cell_type": "code",
   "execution_count": 26,
   "metadata": {},
   "outputs": [],
   "source": [
    "num_quantiles = 3"
   ]
  },
  {
   "cell_type": "code",
   "execution_count": 27,
   "metadata": {},
   "outputs": [],
   "source": [
    "quant_values = np.linspace(0, 1, num_quantiles + 1, endpoint=True)"
   ]
  },
  {
   "cell_type": "code",
   "execution_count": 28,
   "metadata": {},
   "outputs": [],
   "source": [
    "quant_values = quant_values[1:-1]"
   ]
  },
  {
   "cell_type": "code",
   "execution_count": 29,
   "metadata": {},
   "outputs": [
    {
     "data": {
      "text/plain": [
       "array([0.33333333, 0.66666667])"
      ]
     },
     "execution_count": 29,
     "metadata": {},
     "output_type": "execute_result"
    }
   ],
   "source": [
    "quant_values"
   ]
  },
  {
   "cell_type": "code",
   "execution_count": 30,
   "metadata": {},
   "outputs": [],
   "source": [
    "col_labs = [f\"Q{int(x)}\" for x in (quant_values*100)]"
   ]
  },
  {
   "cell_type": "code",
   "execution_count": 31,
   "metadata": {},
   "outputs": [
    {
     "data": {
      "text/plain": [
       "['Q33', 'Q66']"
      ]
     },
     "execution_count": 31,
     "metadata": {},
     "output_type": "execute_result"
    }
   ],
   "source": [
    "col_labs"
   ]
  },
  {
   "cell_type": "code",
   "execution_count": 32,
   "metadata": {},
   "outputs": [
    {
     "name": "stdout",
     "output_type": "stream",
     "text": [
      "region Far_North processed for variable RAD\n",
      "region Whangarei processed for variable RAD\n",
      "region Kaipara processed for variable RAD\n",
      "region Thames-Coromandel processed for variable RAD\n",
      "region Hauraki processed for variable RAD\n",
      "region Waikato processed for variable RAD\n",
      "region Matamata-Piako processed for variable RAD\n",
      "region Hamilton_City processed for variable RAD\n",
      "region Waipa processed for variable RAD\n",
      "region Otorohanga processed for variable RAD\n",
      "region South_Waikato processed for variable RAD\n",
      "region Waitomo processed for variable RAD\n",
      "region Taupo processed for variable RAD\n",
      "region Western_Bay_of_Plenty processed for variable RAD\n",
      "region Tauranga_City processed for variable RAD\n",
      "region Rotorua processed for variable RAD\n",
      "region Whakatane processed for variable RAD\n",
      "region Stratford processed for variable RAD\n",
      "region South_Taranaki processed for variable RAD\n",
      "region Ruapehu processed for variable RAD\n",
      "region Wanganui processed for variable RAD\n",
      "region Rangitikei processed for variable RAD\n",
      "region Manawatu processed for variable RAD\n",
      "region Palmerston_North_City processed for variable RAD\n",
      "region Tararua processed for variable RAD\n",
      "region New_Plymouth processed for variable RAD\n",
      "region Horowhenua processed for variable RAD\n",
      "region Kapiti_Coast processed for variable RAD\n",
      "region Porirua_City processed for variable RAD\n",
      "region Kawerau processed for variable RAD\n",
      "region Opotiki processed for variable RAD\n",
      "region Gisborne processed for variable RAD\n",
      "region Wairoa processed for variable RAD\n",
      "region Hastings processed for variable RAD\n",
      "region Napier_City processed for variable RAD\n",
      "region Central_Hawkes_Bay processed for variable RAD\n",
      "region Upper_Hutt_City processed for variable RAD\n",
      "region Lower_Hutt_City processed for variable RAD\n",
      "region Wellington_City processed for variable RAD\n",
      "region Masterton processed for variable RAD\n",
      "region Carterton processed for variable RAD\n",
      "region South_Wairarapa processed for variable RAD\n",
      "region Tasman processed for variable RAD\n",
      "region Nelson_City processed for variable RAD\n",
      "region Marlborough processed for variable RAD\n",
      "region Kaikoura processed for variable RAD\n",
      "region Buller processed for variable RAD\n",
      "region Grey processed for variable RAD\n",
      "region Westland processed for variable RAD\n",
      "region Hurunui processed for variable RAD\n",
      "region Waimakariri processed for variable RAD\n",
      "region Selwyn processed for variable RAD\n",
      "region Ashburton processed for variable RAD\n",
      "region Timaru processed for variable RAD\n",
      "region Mackenzie processed for variable RAD\n",
      "region Waimate processed for variable RAD\n",
      "region Waitaki processed for variable RAD\n",
      "region Central_Otago processed for variable RAD\n",
      "region Queenstown-Lakes processed for variable RAD\n",
      "region Dunedin_City processed for variable RAD\n",
      "region Clutha processed for variable RAD\n",
      "region Southland processed for variable RAD\n",
      "region Gore processed for variable RAD\n",
      "region Invercargill_City processed for variable RAD\n",
      "region Auckland processed for variable RAD\n",
      "region Christchurch_City processed for variable RAD\n"
     ]
    }
   ],
   "source": [
    "quantiles_dict = {}\n",
    "\n",
    "for i, region_name in enumerate(nz_regions.NAME): \n",
    "    \n",
    "    shape = nz_regions.query(f\"NAME == '{region_name}'\")\n",
    "    \n",
    "    region = dset.salem.subset(shape=shape)\n",
    "    \n",
    "    # here test whether there are more than one grid point in the \n",
    "    # resulting dataset, if yes then extract the ROI\n",
    "    \n",
    "    if ((region.dims['lat'] > 1) & (region.dims['lon'] > 1)):\n",
    "\n",
    "        region = region.salem.roi(shape=shape, all_touched=True)\n",
    "        \n",
    "    agents = region.agent.stack(z=('lat', 'lon')).dropna(dim='z')\n",
    "    \n",
    "    n_agents = len(agents)\n",
    "        \n",
    "    ts = region.mean(dim=['lat','lon'])\n",
    "    \n",
    "    ts_df = ts[var_name].to_dataframe()\n",
    "            \n",
    "    ts_series = ts_df.loc[:,var_name]\n",
    "    \n",
    "    ts_series_cat = []\n",
    "    \n",
    "    quantiles_list = []\n",
    "    \n",
    "    for month in range(1, 13):\n",
    "        \n",
    "        ts_series_m = ts_series[ts_series.index.month == month]\n",
    "        \n",
    "        clim = ts_series_m.loc['1981':'2010']\n",
    "        \n",
    "        quantiles = [clim.quantile(q=q) for q in quant_values.tolist()]\n",
    "        \n",
    "        quantiles_list.append(quantiles.copy())\n",
    "        \n",
    "        quantiles.insert(0, -np.inf)\n",
    "        \n",
    "        quantiles.append(np.inf)\n",
    "        \n",
    "        ts_series_m_cats = pd.cut(ts_series_m, quantiles, labels=list(range(1, num_quantiles + 1)))\n",
    "        \n",
    "        ts_series_cat.append(ts_series_m_cats)\n",
    "        \n",
    "        del(quantiles)\n",
    "     \n",
    "    quantiles_dict[region_name]  = np.array(quantiles_list)\n",
    "    \n",
    "    ts_series_cat = pd.concat(ts_series_cat, axis=0)\n",
    "    \n",
    "    ts_series_cat = ts_series_cat.sort_index()\n",
    "    \n",
    "    ts_df.loc[:,'n_agents'] = n_agents\n",
    "    \n",
    "    ts_df.loc[:,f'cat_{num_quantiles}'] = ts_series_cat\n",
    "    \n",
    "    ts_df.loc[:,'anomalies'] = ts_df.loc[:,var_name].groupby(ts_df.index.month).apply(demean)\n",
    "    \n",
    "    opath = opath_root / big_var / region_name \n",
    "    \n",
    "    if not opath.exists(): \n",
    "        opath.mkdir(parents=True)\n",
    "        \n",
    "    ts_df.to_csv(opath / f'TS_NZ_region_{region_name}_{big_var}_{num_quantiles}_quantiles_anoms.csv')\n",
    "    \n",
    "    #descriptive statistics per quantile category \n",
    "    \n",
    "    ts_df.groupby(ts_df.loc[:,f'cat_{num_quantiles}']).describe().to_csv(opath / f'descriptive_stats_{region_name}__{big_var}_{num_quantiles}.csv')\n",
    "    \n",
    "    print(f\"region {region_name} processed for variable {big_var}\")\n",
    "    "
   ]
  },
  {
   "cell_type": "markdown",
   "metadata": {},
   "source": [
    "### saves the climatological terciles calculated from the VCSN regional aggregates"
   ]
  },
  {
   "cell_type": "code",
   "execution_count": 33,
   "metadata": {},
   "outputs": [],
   "source": [
    "quantiles_list = []\n",
    "for region_name in nz_regions.NAME: \n",
    "    df = pd.DataFrame(quantiles_dict[region_name])\n",
    "    df.index = range(1, 13)\n",
    "    df.index.name = 'season'\n",
    "    df.columns = pd.MultiIndex.from_product([[region_name],col_labs])\n",
    "    quantiles_list.append(df)"
   ]
  },
  {
   "cell_type": "code",
   "execution_count": 34,
   "metadata": {},
   "outputs": [],
   "source": [
    "quantiles_df = pd.concat(quantiles_list, axis=1)"
   ]
  },
  {
   "cell_type": "code",
   "execution_count": 35,
   "metadata": {},
   "outputs": [
    {
     "data": {
      "text/html": [
       "<div>\n",
       "<style scoped>\n",
       "    .dataframe tbody tr th:only-of-type {\n",
       "        vertical-align: middle;\n",
       "    }\n",
       "\n",
       "    .dataframe tbody tr th {\n",
       "        vertical-align: top;\n",
       "    }\n",
       "\n",
       "    .dataframe thead tr th {\n",
       "        text-align: left;\n",
       "    }\n",
       "\n",
       "    .dataframe thead tr:last-of-type th {\n",
       "        text-align: right;\n",
       "    }\n",
       "</style>\n",
       "<table border=\"1\" class=\"dataframe\">\n",
       "  <thead>\n",
       "    <tr>\n",
       "      <th></th>\n",
       "      <th colspan=\"2\" halign=\"left\">Far_North</th>\n",
       "      <th colspan=\"2\" halign=\"left\">Whangarei</th>\n",
       "      <th colspan=\"2\" halign=\"left\">Kaipara</th>\n",
       "      <th colspan=\"2\" halign=\"left\">Thames-Coromandel</th>\n",
       "      <th colspan=\"2\" halign=\"left\">Hauraki</th>\n",
       "      <th>...</th>\n",
       "      <th colspan=\"2\" halign=\"left\">Southland</th>\n",
       "      <th colspan=\"2\" halign=\"left\">Gore</th>\n",
       "      <th colspan=\"2\" halign=\"left\">Invercargill_City</th>\n",
       "      <th colspan=\"2\" halign=\"left\">Auckland</th>\n",
       "      <th colspan=\"2\" halign=\"left\">Christchurch_City</th>\n",
       "    </tr>\n",
       "    <tr>\n",
       "      <th></th>\n",
       "      <th>Q33</th>\n",
       "      <th>Q66</th>\n",
       "      <th>Q33</th>\n",
       "      <th>Q66</th>\n",
       "      <th>Q33</th>\n",
       "      <th>Q66</th>\n",
       "      <th>Q33</th>\n",
       "      <th>Q66</th>\n",
       "      <th>Q33</th>\n",
       "      <th>Q66</th>\n",
       "      <th>...</th>\n",
       "      <th>Q33</th>\n",
       "      <th>Q66</th>\n",
       "      <th>Q33</th>\n",
       "      <th>Q66</th>\n",
       "      <th>Q33</th>\n",
       "      <th>Q66</th>\n",
       "      <th>Q33</th>\n",
       "      <th>Q66</th>\n",
       "      <th>Q33</th>\n",
       "      <th>Q66</th>\n",
       "    </tr>\n",
       "    <tr>\n",
       "      <th>season</th>\n",
       "      <th></th>\n",
       "      <th></th>\n",
       "      <th></th>\n",
       "      <th></th>\n",
       "      <th></th>\n",
       "      <th></th>\n",
       "      <th></th>\n",
       "      <th></th>\n",
       "      <th></th>\n",
       "      <th></th>\n",
       "      <th></th>\n",
       "      <th></th>\n",
       "      <th></th>\n",
       "      <th></th>\n",
       "      <th></th>\n",
       "      <th></th>\n",
       "      <th></th>\n",
       "      <th></th>\n",
       "      <th></th>\n",
       "      <th></th>\n",
       "      <th></th>\n",
       "    </tr>\n",
       "  </thead>\n",
       "  <tbody>\n",
       "    <tr>\n",
       "      <th>1</th>\n",
       "      <td>20.519761</td>\n",
       "      <td>21.142662</td>\n",
       "      <td>20.460350</td>\n",
       "      <td>21.471264</td>\n",
       "      <td>20.521475</td>\n",
       "      <td>21.681567</td>\n",
       "      <td>20.301005</td>\n",
       "      <td>21.595679</td>\n",
       "      <td>20.483717</td>\n",
       "      <td>21.324518</td>\n",
       "      <td>...</td>\n",
       "      <td>19.664198</td>\n",
       "      <td>20.466217</td>\n",
       "      <td>19.908553</td>\n",
       "      <td>20.717273</td>\n",
       "      <td>19.868776</td>\n",
       "      <td>20.547210</td>\n",
       "      <td>20.256165</td>\n",
       "      <td>21.845097</td>\n",
       "      <td>21.280866</td>\n",
       "      <td>22.407444</td>\n",
       "    </tr>\n",
       "    <tr>\n",
       "      <th>2</th>\n",
       "      <td>20.110617</td>\n",
       "      <td>20.721105</td>\n",
       "      <td>20.138727</td>\n",
       "      <td>20.917647</td>\n",
       "      <td>20.351172</td>\n",
       "      <td>21.087937</td>\n",
       "      <td>20.063338</td>\n",
       "      <td>21.285786</td>\n",
       "      <td>20.279063</td>\n",
       "      <td>20.984384</td>\n",
       "      <td>...</td>\n",
       "      <td>19.311080</td>\n",
       "      <td>19.935739</td>\n",
       "      <td>19.257038</td>\n",
       "      <td>19.988782</td>\n",
       "      <td>19.086920</td>\n",
       "      <td>19.702360</td>\n",
       "      <td>20.113982</td>\n",
       "      <td>21.296532</td>\n",
       "      <td>20.409679</td>\n",
       "      <td>21.388805</td>\n",
       "    </tr>\n",
       "    <tr>\n",
       "      <th>3</th>\n",
       "      <td>18.305378</td>\n",
       "      <td>18.935801</td>\n",
       "      <td>18.260208</td>\n",
       "      <td>19.094506</td>\n",
       "      <td>18.472003</td>\n",
       "      <td>19.147771</td>\n",
       "      <td>18.291206</td>\n",
       "      <td>19.199943</td>\n",
       "      <td>18.484982</td>\n",
       "      <td>19.048958</td>\n",
       "      <td>...</td>\n",
       "      <td>16.605109</td>\n",
       "      <td>17.101249</td>\n",
       "      <td>16.572070</td>\n",
       "      <td>17.263739</td>\n",
       "      <td>16.172726</td>\n",
       "      <td>16.659068</td>\n",
       "      <td>18.551103</td>\n",
       "      <td>19.508163</td>\n",
       "      <td>17.757943</td>\n",
       "      <td>18.566956</td>\n",
       "    </tr>\n",
       "    <tr>\n",
       "      <th>4</th>\n",
       "      <td>15.085015</td>\n",
       "      <td>15.686684</td>\n",
       "      <td>15.007090</td>\n",
       "      <td>15.747432</td>\n",
       "      <td>14.977970</td>\n",
       "      <td>15.857406</td>\n",
       "      <td>14.836285</td>\n",
       "      <td>15.654151</td>\n",
       "      <td>14.788543</td>\n",
       "      <td>15.704818</td>\n",
       "      <td>...</td>\n",
       "      <td>12.622976</td>\n",
       "      <td>13.061594</td>\n",
       "      <td>12.878420</td>\n",
       "      <td>13.439409</td>\n",
       "      <td>12.226238</td>\n",
       "      <td>12.458898</td>\n",
       "      <td>15.065487</td>\n",
       "      <td>16.040138</td>\n",
       "      <td>13.643034</td>\n",
       "      <td>14.311450</td>\n",
       "    </tr>\n",
       "    <tr>\n",
       "      <th>5</th>\n",
       "      <td>11.613641</td>\n",
       "      <td>11.834904</td>\n",
       "      <td>11.331272</td>\n",
       "      <td>12.029686</td>\n",
       "      <td>11.231400</td>\n",
       "      <td>12.092357</td>\n",
       "      <td>11.182457</td>\n",
       "      <td>12.055913</td>\n",
       "      <td>11.312413</td>\n",
       "      <td>11.685284</td>\n",
       "      <td>...</td>\n",
       "      <td>8.400513</td>\n",
       "      <td>8.818104</td>\n",
       "      <td>8.847471</td>\n",
       "      <td>9.083286</td>\n",
       "      <td>8.057938</td>\n",
       "      <td>8.367719</td>\n",
       "      <td>11.407900</td>\n",
       "      <td>12.284566</td>\n",
       "      <td>9.592012</td>\n",
       "      <td>9.997561</td>\n",
       "    </tr>\n",
       "    <tr>\n",
       "      <th>6</th>\n",
       "      <td>8.874058</td>\n",
       "      <td>9.124477</td>\n",
       "      <td>8.659582</td>\n",
       "      <td>9.010024</td>\n",
       "      <td>8.578384</td>\n",
       "      <td>9.004569</td>\n",
       "      <td>8.310441</td>\n",
       "      <td>8.950902</td>\n",
       "      <td>8.217495</td>\n",
       "      <td>8.697834</td>\n",
       "      <td>...</td>\n",
       "      <td>5.454732</td>\n",
       "      <td>5.642259</td>\n",
       "      <td>5.805250</td>\n",
       "      <td>5.984429</td>\n",
       "      <td>5.176362</td>\n",
       "      <td>5.411875</td>\n",
       "      <td>8.446227</td>\n",
       "      <td>8.982111</td>\n",
       "      <td>6.448088</td>\n",
       "      <td>6.642015</td>\n",
       "    </tr>\n",
       "    <tr>\n",
       "      <th>7</th>\n",
       "      <td>7.657338</td>\n",
       "      <td>7.954284</td>\n",
       "      <td>7.388428</td>\n",
       "      <td>7.867460</td>\n",
       "      <td>7.255982</td>\n",
       "      <td>7.791165</td>\n",
       "      <td>6.805582</td>\n",
       "      <td>7.407984</td>\n",
       "      <td>6.874048</td>\n",
       "      <td>7.279657</td>\n",
       "      <td>...</td>\n",
       "      <td>4.137281</td>\n",
       "      <td>4.316663</td>\n",
       "      <td>4.480373</td>\n",
       "      <td>4.699959</td>\n",
       "      <td>4.050845</td>\n",
       "      <td>4.227188</td>\n",
       "      <td>7.066766</td>\n",
       "      <td>7.665736</td>\n",
       "      <td>4.922414</td>\n",
       "      <td>5.213863</td>\n",
       "    </tr>\n",
       "    <tr>\n",
       "      <th>8</th>\n",
       "      <td>8.094044</td>\n",
       "      <td>8.506086</td>\n",
       "      <td>7.883187</td>\n",
       "      <td>8.442196</td>\n",
       "      <td>7.797009</td>\n",
       "      <td>8.357805</td>\n",
       "      <td>7.372516</td>\n",
       "      <td>7.919811</td>\n",
       "      <td>7.234783</td>\n",
       "      <td>7.843194</td>\n",
       "      <td>...</td>\n",
       "      <td>4.842860</td>\n",
       "      <td>4.997320</td>\n",
       "      <td>5.198408</td>\n",
       "      <td>5.388131</td>\n",
       "      <td>4.728517</td>\n",
       "      <td>4.977428</td>\n",
       "      <td>7.728579</td>\n",
       "      <td>8.179217</td>\n",
       "      <td>5.545916</td>\n",
       "      <td>5.846281</td>\n",
       "    </tr>\n",
       "    <tr>\n",
       "      <th>9</th>\n",
       "      <td>10.414929</td>\n",
       "      <td>10.789989</td>\n",
       "      <td>10.128839</td>\n",
       "      <td>10.714038</td>\n",
       "      <td>10.085013</td>\n",
       "      <td>10.573855</td>\n",
       "      <td>9.533800</td>\n",
       "      <td>10.248671</td>\n",
       "      <td>9.420406</td>\n",
       "      <td>10.015850</td>\n",
       "      <td>...</td>\n",
       "      <td>7.107918</td>\n",
       "      <td>7.466044</td>\n",
       "      <td>7.705701</td>\n",
       "      <td>7.994474</td>\n",
       "      <td>7.128879</td>\n",
       "      <td>7.462737</td>\n",
       "      <td>9.982872</td>\n",
       "      <td>10.363734</td>\n",
       "      <td>8.068350</td>\n",
       "      <td>8.506674</td>\n",
       "    </tr>\n",
       "    <tr>\n",
       "      <th>10</th>\n",
       "      <td>13.363294</td>\n",
       "      <td>13.989268</td>\n",
       "      <td>13.028680</td>\n",
       "      <td>13.793435</td>\n",
       "      <td>12.870139</td>\n",
       "      <td>13.649485</td>\n",
       "      <td>12.943042</td>\n",
       "      <td>13.429575</td>\n",
       "      <td>12.625769</td>\n",
       "      <td>13.190887</td>\n",
       "      <td>...</td>\n",
       "      <td>10.836601</td>\n",
       "      <td>11.130759</td>\n",
       "      <td>11.314927</td>\n",
       "      <td>11.770277</td>\n",
       "      <td>10.750542</td>\n",
       "      <td>11.192679</td>\n",
       "      <td>13.161588</td>\n",
       "      <td>13.556023</td>\n",
       "      <td>11.997871</td>\n",
       "      <td>12.786718</td>\n",
       "    </tr>\n",
       "    <tr>\n",
       "      <th>11</th>\n",
       "      <td>16.407696</td>\n",
       "      <td>17.045054</td>\n",
       "      <td>16.375410</td>\n",
       "      <td>17.064523</td>\n",
       "      <td>16.402002</td>\n",
       "      <td>17.146031</td>\n",
       "      <td>16.168955</td>\n",
       "      <td>16.822137</td>\n",
       "      <td>15.993578</td>\n",
       "      <td>16.722854</td>\n",
       "      <td>...</td>\n",
       "      <td>14.819341</td>\n",
       "      <td>15.419276</td>\n",
       "      <td>15.355337</td>\n",
       "      <td>16.011816</td>\n",
       "      <td>14.866272</td>\n",
       "      <td>15.594997</td>\n",
       "      <td>16.281458</td>\n",
       "      <td>16.913227</td>\n",
       "      <td>16.540309</td>\n",
       "      <td>17.199184</td>\n",
       "    </tr>\n",
       "    <tr>\n",
       "      <th>12</th>\n",
       "      <td>18.793710</td>\n",
       "      <td>19.603421</td>\n",
       "      <td>19.003887</td>\n",
       "      <td>19.889408</td>\n",
       "      <td>18.996934</td>\n",
       "      <td>19.813535</td>\n",
       "      <td>18.901751</td>\n",
       "      <td>19.719786</td>\n",
       "      <td>18.750382</td>\n",
       "      <td>19.532784</td>\n",
       "      <td>...</td>\n",
       "      <td>18.168846</td>\n",
       "      <td>18.640015</td>\n",
       "      <td>18.633747</td>\n",
       "      <td>19.217089</td>\n",
       "      <td>18.535499</td>\n",
       "      <td>19.004763</td>\n",
       "      <td>18.888810</td>\n",
       "      <td>19.766438</td>\n",
       "      <td>19.549003</td>\n",
       "      <td>20.568070</td>\n",
       "    </tr>\n",
       "  </tbody>\n",
       "</table>\n",
       "<p>12 rows × 132 columns</p>\n",
       "</div>"
      ],
      "text/plain": [
       "        Far_North             Whangarei               Kaipara             \\\n",
       "              Q33        Q66        Q33        Q66        Q33        Q66   \n",
       "season                                                                     \n",
       "1       20.519761  21.142662  20.460350  21.471264  20.521475  21.681567   \n",
       "2       20.110617  20.721105  20.138727  20.917647  20.351172  21.087937   \n",
       "3       18.305378  18.935801  18.260208  19.094506  18.472003  19.147771   \n",
       "4       15.085015  15.686684  15.007090  15.747432  14.977970  15.857406   \n",
       "5       11.613641  11.834904  11.331272  12.029686  11.231400  12.092357   \n",
       "6        8.874058   9.124477   8.659582   9.010024   8.578384   9.004569   \n",
       "7        7.657338   7.954284   7.388428   7.867460   7.255982   7.791165   \n",
       "8        8.094044   8.506086   7.883187   8.442196   7.797009   8.357805   \n",
       "9       10.414929  10.789989  10.128839  10.714038  10.085013  10.573855   \n",
       "10      13.363294  13.989268  13.028680  13.793435  12.870139  13.649485   \n",
       "11      16.407696  17.045054  16.375410  17.064523  16.402002  17.146031   \n",
       "12      18.793710  19.603421  19.003887  19.889408  18.996934  19.813535   \n",
       "\n",
       "       Thames-Coromandel               Hauraki             ...  Southland  \\\n",
       "                     Q33        Q66        Q33        Q66  ...        Q33   \n",
       "season                                                     ...              \n",
       "1              20.301005  21.595679  20.483717  21.324518  ...  19.664198   \n",
       "2              20.063338  21.285786  20.279063  20.984384  ...  19.311080   \n",
       "3              18.291206  19.199943  18.484982  19.048958  ...  16.605109   \n",
       "4              14.836285  15.654151  14.788543  15.704818  ...  12.622976   \n",
       "5              11.182457  12.055913  11.312413  11.685284  ...   8.400513   \n",
       "6               8.310441   8.950902   8.217495   8.697834  ...   5.454732   \n",
       "7               6.805582   7.407984   6.874048   7.279657  ...   4.137281   \n",
       "8               7.372516   7.919811   7.234783   7.843194  ...   4.842860   \n",
       "9               9.533800  10.248671   9.420406  10.015850  ...   7.107918   \n",
       "10             12.943042  13.429575  12.625769  13.190887  ...  10.836601   \n",
       "11             16.168955  16.822137  15.993578  16.722854  ...  14.819341   \n",
       "12             18.901751  19.719786  18.750382  19.532784  ...  18.168846   \n",
       "\n",
       "                        Gore            Invercargill_City             \\\n",
       "              Q66        Q33        Q66               Q33        Q66   \n",
       "season                                                                 \n",
       "1       20.466217  19.908553  20.717273         19.868776  20.547210   \n",
       "2       19.935739  19.257038  19.988782         19.086920  19.702360   \n",
       "3       17.101249  16.572070  17.263739         16.172726  16.659068   \n",
       "4       13.061594  12.878420  13.439409         12.226238  12.458898   \n",
       "5        8.818104   8.847471   9.083286          8.057938   8.367719   \n",
       "6        5.642259   5.805250   5.984429          5.176362   5.411875   \n",
       "7        4.316663   4.480373   4.699959          4.050845   4.227188   \n",
       "8        4.997320   5.198408   5.388131          4.728517   4.977428   \n",
       "9        7.466044   7.705701   7.994474          7.128879   7.462737   \n",
       "10      11.130759  11.314927  11.770277         10.750542  11.192679   \n",
       "11      15.419276  15.355337  16.011816         14.866272  15.594997   \n",
       "12      18.640015  18.633747  19.217089         18.535499  19.004763   \n",
       "\n",
       "         Auckland            Christchurch_City             \n",
       "              Q33        Q66               Q33        Q66  \n",
       "season                                                     \n",
       "1       20.256165  21.845097         21.280866  22.407444  \n",
       "2       20.113982  21.296532         20.409679  21.388805  \n",
       "3       18.551103  19.508163         17.757943  18.566956  \n",
       "4       15.065487  16.040138         13.643034  14.311450  \n",
       "5       11.407900  12.284566          9.592012   9.997561  \n",
       "6        8.446227   8.982111          6.448088   6.642015  \n",
       "7        7.066766   7.665736          4.922414   5.213863  \n",
       "8        7.728579   8.179217          5.545916   5.846281  \n",
       "9        9.982872  10.363734          8.068350   8.506674  \n",
       "10      13.161588  13.556023         11.997871  12.786718  \n",
       "11      16.281458  16.913227         16.540309  17.199184  \n",
       "12      18.888810  19.766438         19.549003  20.568070  \n",
       "\n",
       "[12 rows x 132 columns]"
      ]
     },
     "execution_count": 35,
     "metadata": {},
     "output_type": "execute_result"
    }
   ],
   "source": [
    "quantiles_df"
   ]
  },
  {
   "cell_type": "code",
   "execution_count": 37,
   "metadata": {},
   "outputs": [],
   "source": [
    "quantiles_df.to_csv(opath.parent / f'Climatological_quantiles_{num_quantiles}_cat_{big_var}.csv')"
   ]
  }
 ],
 "metadata": {
  "kernelspec": {
   "display_name": "Python 3",
   "language": "python",
   "name": "python3"
  },
  "language_info": {
   "codemirror_mode": {
    "name": "ipython",
    "version": 3
   },
   "file_extension": ".py",
   "mimetype": "text/x-python",
   "name": "python",
   "nbconvert_exporter": "python",
   "pygments_lexer": "ipython3",
   "version": "3.7.5"
  },
  "latex_envs": {
   "bibliofile": "biblio.bib",
   "cite_by": "apalike",
   "current_citInitial": 1,
   "eqLabelWithNumbers": true,
   "eqNumInitial": 0
  }
 },
 "nbformat": 4,
 "nbformat_minor": 4
}
