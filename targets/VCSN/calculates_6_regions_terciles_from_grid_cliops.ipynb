{
 "cells": [
  {
   "cell_type": "markdown",
   "metadata": {},
   "source": [
    "# calculates the seasonal anomalies and the seasonal tercile categories from the gridded VCSN monthly files, using the NZ 6 regions shapefiles, and using the 'CLIOPS' methodology "
   ]
  },
  {
   "cell_type": "code",
   "execution_count": 1,
   "metadata": {},
   "outputs": [],
   "source": [
    "# Paramaters \n",
    "\n",
    "# var_name = 'Rain_bc'\n",
    "# var_name = 'Tmin_N'\n",
    "# var_name = 'Tmax_N'\n",
    "var_name = 'Tmean'\n",
    "# var_name = 'SoilM'\n",
    "# var_name = 'Wind'\n",
    "# var_name = 'Rad'"
   ]
  },
  {
   "cell_type": "markdown",
   "metadata": {},
   "source": [
    "in ['Agent', 'Lat', 'Longt', 'Date', 'MSLP', 'PET', 'Rain', 'RH', 'SoilM',\n",
    "       'ETmp', 'Rad', 'TMax', 'Tmin', 'VP', 'Wind', 'Rain_bc', 'Tmax_N',\n",
    "       'Tmin_N']"
   ]
  },
  {
   "cell_type": "code",
   "execution_count": 2,
   "metadata": {},
   "outputs": [],
   "source": [
    "import os\n",
    "import sys\n",
    "import pathlib"
   ]
  },
  {
   "cell_type": "code",
   "execution_count": 3,
   "metadata": {
    "collapsed": false,
    "jupyter": {
     "outputs_hidden": false
    }
   },
   "outputs": [],
   "source": [
    "%matplotlib inline\n",
    "from matplotlib import pyplot as plt\n",
    "\n",
    "import numpy as np\n",
    "import pandas as pd\n",
    "from scipy.spatial import cKDTree\n",
    "from itertools import product"
   ]
  },
  {
   "cell_type": "code",
   "execution_count": 4,
   "metadata": {},
   "outputs": [],
   "source": [
    "import salem\n",
    "import geopandas as gpd"
   ]
  },
  {
   "cell_type": "code",
   "execution_count": 5,
   "metadata": {
    "collapsed": false,
    "jupyter": {
     "outputs_hidden": false
    }
   },
   "outputs": [],
   "source": [
    "import xarray as xr"
   ]
  },
  {
   "cell_type": "markdown",
   "metadata": {},
   "source": [
    "### function to calculate the anomalies with respect to the 1981 - 2010 climatology "
   ]
  },
  {
   "cell_type": "code",
   "execution_count": 6,
   "metadata": {
    "collapsed": false,
    "jupyter": {
     "outputs_hidden": false
    }
   },
   "outputs": [],
   "source": [
    "def demean(x): \n",
    "    return x - x.loc['1981':'2010',].mean()"
   ]
  },
  {
   "cell_type": "code",
   "execution_count": 7,
   "metadata": {},
   "outputs": [
    {
     "data": {
      "text/plain": [
       "'Tmean'"
      ]
     },
     "execution_count": 7,
     "metadata": {},
     "output_type": "execute_result"
    }
   ],
   "source": [
    "var_name"
   ]
  },
  {
   "cell_type": "markdown",
   "metadata": {},
   "source": [
    "### big_var is the simplified version of the variable, so Rain_bc --> RAIN"
   ]
  },
  {
   "cell_type": "code",
   "execution_count": 8,
   "metadata": {},
   "outputs": [],
   "source": [
    "big_var = var_name.split('_')[0].upper()"
   ]
  },
  {
   "cell_type": "code",
   "execution_count": 9,
   "metadata": {},
   "outputs": [],
   "source": [
    "HOME = pathlib.Path.home()"
   ]
  },
  {
   "cell_type": "code",
   "execution_count": 10,
   "metadata": {},
   "outputs": [],
   "source": [
    "dpath = HOME / 'operational/VCSN/data/NC/MONTHLY/' / var_name.upper()"
   ]
  },
  {
   "cell_type": "code",
   "execution_count": 11,
   "metadata": {},
   "outputs": [
    {
     "data": {
      "text/plain": [
       "'TMEAN'"
      ]
     },
     "execution_count": 11,
     "metadata": {},
     "output_type": "execute_result"
    }
   ],
   "source": [
    "var_name.upper()"
   ]
  },
  {
   "cell_type": "code",
   "execution_count": 12,
   "metadata": {},
   "outputs": [
    {
     "data": {
      "text/plain": [
       "PosixPath('/home/nicolasf/operational/VCSN/data/NC/MONTHLY/TMEAN')"
      ]
     },
     "execution_count": 12,
     "metadata": {},
     "output_type": "execute_result"
    }
   ],
   "source": [
    "dpath"
   ]
  },
  {
   "cell_type": "code",
   "execution_count": 13,
   "metadata": {
    "collapsed": false,
    "jupyter": {
     "outputs_hidden": false
    }
   },
   "outputs": [],
   "source": [
    "dset = salem.open_xr_dataset(dpath / f'VCSN_gridded_{var_name}_1979-01_2019-12.nc') "
   ]
  },
  {
   "cell_type": "code",
   "execution_count": 14,
   "metadata": {},
   "outputs": [
    {
     "data": {
      "text/html": [
       "<div><svg style=\"position: absolute; width: 0; height: 0; overflow: hidden\">\n",
       "<defs>\n",
       "<symbol id=\"icon-database\" viewBox=\"0 0 32 32\">\n",
       "<title>Show/Hide data repr</title>\n",
       "<path d=\"M16 0c-8.837 0-16 2.239-16 5v4c0 2.761 7.163 5 16 5s16-2.239 16-5v-4c0-2.761-7.163-5-16-5z\"></path>\n",
       "<path d=\"M16 17c-8.837 0-16-2.239-16-5v6c0 2.761 7.163 5 16 5s16-2.239 16-5v-6c0 2.761-7.163 5-16 5z\"></path>\n",
       "<path d=\"M16 26c-8.837 0-16-2.239-16-5v6c0 2.761 7.163 5 16 5s16-2.239 16-5v-6c0 2.761-7.163 5-16 5z\"></path>\n",
       "</symbol>\n",
       "<symbol id=\"icon-file-text2\" viewBox=\"0 0 32 32\">\n",
       "<title>Show/Hide attributes</title>\n",
       "<path d=\"M28.681 7.159c-0.694-0.947-1.662-2.053-2.724-3.116s-2.169-2.030-3.116-2.724c-1.612-1.182-2.393-1.319-2.841-1.319h-15.5c-1.378 0-2.5 1.121-2.5 2.5v27c0 1.378 1.122 2.5 2.5 2.5h23c1.378 0 2.5-1.122 2.5-2.5v-19.5c0-0.448-0.137-1.23-1.319-2.841zM24.543 5.457c0.959 0.959 1.712 1.825 2.268 2.543h-4.811v-4.811c0.718 0.556 1.584 1.309 2.543 2.268zM28 29.5c0 0.271-0.229 0.5-0.5 0.5h-23c-0.271 0-0.5-0.229-0.5-0.5v-27c0-0.271 0.229-0.5 0.5-0.5 0 0 15.499-0 15.5 0v7c0 0.552 0.448 1 1 1h7v19.5z\"></path>\n",
       "<path d=\"M23 26h-14c-0.552 0-1-0.448-1-1s0.448-1 1-1h14c0.552 0 1 0.448 1 1s-0.448 1-1 1z\"></path>\n",
       "<path d=\"M23 22h-14c-0.552 0-1-0.448-1-1s0.448-1 1-1h14c0.552 0 1 0.448 1 1s-0.448 1-1 1z\"></path>\n",
       "<path d=\"M23 18h-14c-0.552 0-1-0.448-1-1s0.448-1 1-1h14c0.552 0 1 0.448 1 1s-0.448 1-1 1z\"></path>\n",
       "</symbol>\n",
       "</defs>\n",
       "</svg>\n",
       "<style>/* CSS stylesheet for displaying xarray objects in jupyterlab.\n",
       " *\n",
       " */\n",
       "\n",
       ":root {\n",
       "  --xr-font-color0: var(--jp-content-font-color0, rgba(0, 0, 0, 1));\n",
       "  --xr-font-color2: var(--jp-content-font-color2, rgba(0, 0, 0, 0.54));\n",
       "  --xr-font-color3: var(--jp-content-font-color3, rgba(0, 0, 0, 0.38));\n",
       "  --xr-border-color: var(--jp-border-color2, #e0e0e0);\n",
       "  --xr-disabled-color: var(--jp-layout-color3, #bdbdbd);\n",
       "  --xr-background-color: var(--jp-layout-color0, white);\n",
       "  --xr-background-color-row-even: var(--jp-layout-color1, white);\n",
       "  --xr-background-color-row-odd: var(--jp-layout-color2, #eeeeee);\n",
       "}\n",
       "\n",
       ".xr-wrap {\n",
       "  min-width: 300px;\n",
       "  max-width: 700px;\n",
       "}\n",
       "\n",
       ".xr-header {\n",
       "  padding-top: 6px;\n",
       "  padding-bottom: 6px;\n",
       "  margin-bottom: 4px;\n",
       "  border-bottom: solid 1px var(--xr-border-color);\n",
       "}\n",
       "\n",
       ".xr-header > div,\n",
       ".xr-header > ul {\n",
       "  display: inline;\n",
       "  margin-top: 0;\n",
       "  margin-bottom: 0;\n",
       "}\n",
       "\n",
       ".xr-obj-type,\n",
       ".xr-array-name {\n",
       "  margin-left: 2px;\n",
       "  margin-right: 10px;\n",
       "}\n",
       "\n",
       ".xr-obj-type {\n",
       "  color: var(--xr-font-color2);\n",
       "}\n",
       "\n",
       ".xr-sections {\n",
       "  padding-left: 0 !important;\n",
       "  display: grid;\n",
       "  grid-template-columns: 150px auto auto 1fr 20px 20px;\n",
       "}\n",
       "\n",
       ".xr-section-item {\n",
       "  display: contents;\n",
       "}\n",
       "\n",
       ".xr-section-item input {\n",
       "  display: none;\n",
       "}\n",
       "\n",
       ".xr-section-item input + label {\n",
       "  color: var(--xr-disabled-color);\n",
       "}\n",
       "\n",
       ".xr-section-item input:enabled + label {\n",
       "  cursor: pointer;\n",
       "  color: var(--xr-font-color2);\n",
       "}\n",
       "\n",
       ".xr-section-item input:enabled + label:hover {\n",
       "  color: var(--xr-font-color0);\n",
       "}\n",
       "\n",
       ".xr-section-summary {\n",
       "  grid-column: 1;\n",
       "  color: var(--xr-font-color2);\n",
       "  font-weight: 500;\n",
       "}\n",
       "\n",
       ".xr-section-summary > span {\n",
       "  display: inline-block;\n",
       "  padding-left: 0.5em;\n",
       "}\n",
       "\n",
       ".xr-section-summary-in:disabled + label {\n",
       "  color: var(--xr-font-color2);\n",
       "}\n",
       "\n",
       ".xr-section-summary-in + label:before {\n",
       "  display: inline-block;\n",
       "  content: '►';\n",
       "  font-size: 11px;\n",
       "  width: 15px;\n",
       "  text-align: center;\n",
       "}\n",
       "\n",
       ".xr-section-summary-in:disabled + label:before {\n",
       "  color: var(--xr-disabled-color);\n",
       "}\n",
       "\n",
       ".xr-section-summary-in:checked + label:before {\n",
       "  content: '▼';\n",
       "}\n",
       "\n",
       ".xr-section-summary-in:checked + label > span {\n",
       "  display: none;\n",
       "}\n",
       "\n",
       ".xr-section-summary,\n",
       ".xr-section-inline-details {\n",
       "  padding-top: 4px;\n",
       "  padding-bottom: 4px;\n",
       "}\n",
       "\n",
       ".xr-section-inline-details {\n",
       "  grid-column: 2 / -1;\n",
       "}\n",
       "\n",
       ".xr-section-details {\n",
       "  display: none;\n",
       "  grid-column: 1 / -1;\n",
       "  margin-bottom: 5px;\n",
       "}\n",
       "\n",
       ".xr-section-summary-in:checked ~ .xr-section-details {\n",
       "  display: contents;\n",
       "}\n",
       "\n",
       ".xr-array-wrap {\n",
       "  grid-column: 1 / -1;\n",
       "  display: grid;\n",
       "  grid-template-columns: 20px auto;\n",
       "}\n",
       "\n",
       ".xr-array-wrap > label {\n",
       "  grid-column: 1;\n",
       "  vertical-align: top;\n",
       "}\n",
       "\n",
       ".xr-preview {\n",
       "  color: var(--xr-font-color3);\n",
       "}\n",
       "\n",
       ".xr-array-preview,\n",
       ".xr-array-data {\n",
       "  padding: 0 5px !important;\n",
       "  grid-column: 2;\n",
       "}\n",
       "\n",
       ".xr-array-data,\n",
       ".xr-array-in:checked ~ .xr-array-preview {\n",
       "  display: none;\n",
       "}\n",
       "\n",
       ".xr-array-in:checked ~ .xr-array-data,\n",
       ".xr-array-preview {\n",
       "  display: inline-block;\n",
       "}\n",
       "\n",
       ".xr-dim-list {\n",
       "  display: inline-block !important;\n",
       "  list-style: none;\n",
       "  padding: 0 !important;\n",
       "  margin: 0;\n",
       "}\n",
       "\n",
       ".xr-dim-list li {\n",
       "  display: inline-block;\n",
       "  padding: 0;\n",
       "  margin: 0;\n",
       "}\n",
       "\n",
       ".xr-dim-list:before {\n",
       "  content: '(';\n",
       "}\n",
       "\n",
       ".xr-dim-list:after {\n",
       "  content: ')';\n",
       "}\n",
       "\n",
       ".xr-dim-list li:not(:last-child):after {\n",
       "  content: ',';\n",
       "  padding-right: 5px;\n",
       "}\n",
       "\n",
       ".xr-has-index {\n",
       "  font-weight: bold;\n",
       "}\n",
       "\n",
       ".xr-var-list,\n",
       ".xr-var-item {\n",
       "  display: contents;\n",
       "}\n",
       "\n",
       ".xr-var-item > div,\n",
       ".xr-var-item label,\n",
       ".xr-var-item > .xr-var-name span {\n",
       "  background-color: var(--xr-background-color-row-even);\n",
       "  margin-bottom: 0;\n",
       "}\n",
       "\n",
       ".xr-var-item > .xr-var-name:hover span {\n",
       "  padding-right: 5px;\n",
       "}\n",
       "\n",
       ".xr-var-list > li:nth-child(odd) > div,\n",
       ".xr-var-list > li:nth-child(odd) > label,\n",
       ".xr-var-list > li:nth-child(odd) > .xr-var-name span {\n",
       "  background-color: var(--xr-background-color-row-odd);\n",
       "}\n",
       "\n",
       ".xr-var-name {\n",
       "  grid-column: 1;\n",
       "}\n",
       "\n",
       ".xr-var-dims {\n",
       "  grid-column: 2;\n",
       "}\n",
       "\n",
       ".xr-var-dtype {\n",
       "  grid-column: 3;\n",
       "  text-align: right;\n",
       "  color: var(--xr-font-color2);\n",
       "}\n",
       "\n",
       ".xr-var-preview {\n",
       "  grid-column: 4;\n",
       "}\n",
       "\n",
       ".xr-var-name,\n",
       ".xr-var-dims,\n",
       ".xr-var-dtype,\n",
       ".xr-preview,\n",
       ".xr-attrs dt {\n",
       "  white-space: nowrap;\n",
       "  overflow: hidden;\n",
       "  text-overflow: ellipsis;\n",
       "  padding-right: 10px;\n",
       "}\n",
       "\n",
       ".xr-var-name:hover,\n",
       ".xr-var-dims:hover,\n",
       ".xr-var-dtype:hover,\n",
       ".xr-attrs dt:hover {\n",
       "  overflow: visible;\n",
       "  width: auto;\n",
       "  z-index: 1;\n",
       "}\n",
       "\n",
       ".xr-var-attrs,\n",
       ".xr-var-data {\n",
       "  display: none;\n",
       "  background-color: var(--xr-background-color) !important;\n",
       "  padding-bottom: 5px !important;\n",
       "}\n",
       "\n",
       ".xr-var-attrs-in:checked ~ .xr-var-attrs,\n",
       ".xr-var-data-in:checked ~ .xr-var-data {\n",
       "  display: block;\n",
       "}\n",
       "\n",
       ".xr-var-data > table {\n",
       "  float: right;\n",
       "}\n",
       "\n",
       ".xr-var-name span,\n",
       ".xr-var-data,\n",
       ".xr-attrs {\n",
       "  padding-left: 25px !important;\n",
       "}\n",
       "\n",
       ".xr-attrs,\n",
       ".xr-var-attrs,\n",
       ".xr-var-data {\n",
       "  grid-column: 1 / -1;\n",
       "}\n",
       "\n",
       "dl.xr-attrs {\n",
       "  padding: 0;\n",
       "  margin: 0;\n",
       "  display: grid;\n",
       "  grid-template-columns: 125px auto;\n",
       "}\n",
       "\n",
       ".xr-attrs dt, dd {\n",
       "  padding: 0;\n",
       "  margin: 0;\n",
       "  float: left;\n",
       "  padding-right: 10px;\n",
       "  width: auto;\n",
       "}\n",
       "\n",
       ".xr-attrs dt {\n",
       "  font-weight: normal;\n",
       "  grid-column: 1;\n",
       "}\n",
       "\n",
       ".xr-attrs dt:hover span {\n",
       "  display: inline-block;\n",
       "  background: var(--xr-background-color);\n",
       "  padding-right: 10px;\n",
       "}\n",
       "\n",
       ".xr-attrs dd {\n",
       "  grid-column: 2;\n",
       "  white-space: pre-wrap;\n",
       "  word-break: break-all;\n",
       "}\n",
       "\n",
       ".xr-icon-database,\n",
       ".xr-icon-file-text2 {\n",
       "  display: inline-block;\n",
       "  vertical-align: middle;\n",
       "  width: 1em;\n",
       "  height: 1.5em !important;\n",
       "  stroke-width: 0;\n",
       "  stroke: currentColor;\n",
       "  fill: currentColor;\n",
       "}\n",
       "</style><div class='xr-wrap'><div class='xr-header'><div class='xr-obj-type'>xarray.Dataset</div></div><ul class='xr-sections'><li class='xr-section-item'><input id='section-77945727-c901-46ff-8518-5773280f2379' class='xr-section-summary-in' type='checkbox' disabled ><label for='section-77945727-c901-46ff-8518-5773280f2379' class='xr-section-summary'  title='Expand/collapse section'>Dimensions:</label><div class='xr-section-inline-details'><ul class='xr-dim-list'><li><span class='xr-has-index'>lat</span>: 257</li><li><span class='xr-has-index'>lon</span>: 241</li><li><span class='xr-has-index'>time</span>: 492</li></ul></div><div class='xr-section-details'></div></li><li class='xr-section-item'><input id='section-1c9303cc-292a-4e8f-bd43-6625b3418efe' class='xr-section-summary-in' type='checkbox'  checked><label for='section-1c9303cc-292a-4e8f-bd43-6625b3418efe' class='xr-section-summary' >Coordinates: <span>(3)</span></label><div class='xr-section-inline-details'></div><div class='xr-section-details'><ul class='xr-var-list'><li class='xr-var-item'><div class='xr-var-name'><span class='xr-has-index'>time</span></div><div class='xr-var-dims'>(time)</div><div class='xr-var-dtype'>datetime64[ns]</div><div class='xr-var-preview xr-preview'>1979-01-31 ... 2019-12-31</div><input id='attrs-bacd71d4-a12a-44c6-acc1-ab35674f7dca' class='xr-var-attrs-in' type='checkbox' disabled><label for='attrs-bacd71d4-a12a-44c6-acc1-ab35674f7dca' title='Show/Hide attributes'><svg class='icon xr-icon-file-text2'><use xlink:href='#icon-file-text2'></use></svg></label><input id='data-9a9d8bcd-000a-4421-a050-7857c0e8ecd3' class='xr-var-data-in' type='checkbox'><label for='data-9a9d8bcd-000a-4421-a050-7857c0e8ecd3' title='Show/Hide data repr'><svg class='icon xr-icon-database'><use xlink:href='#icon-database'></use></svg></label><div class='xr-var-attrs'><dl class='xr-attrs'></dl></div><pre class='xr-var-data'>array([&#x27;1979-01-31T00:00:00.000000000&#x27;, &#x27;1979-02-28T00:00:00.000000000&#x27;,\n",
       "       &#x27;1979-03-31T00:00:00.000000000&#x27;, ..., &#x27;2019-10-31T00:00:00.000000000&#x27;,\n",
       "       &#x27;2019-11-30T00:00:00.000000000&#x27;, &#x27;2019-12-31T00:00:00.000000000&#x27;],\n",
       "      dtype=&#x27;datetime64[ns]&#x27;)</pre></li><li class='xr-var-item'><div class='xr-var-name'><span class='xr-has-index'>lon</span></div><div class='xr-var-dims'>(lon)</div><div class='xr-var-dtype'>float64</div><div class='xr-var-preview xr-preview'>166.5 166.5 166.6 ... 178.4 178.5</div><input id='attrs-cb26e8c4-9930-4752-9eb2-5558fb2503c5' class='xr-var-attrs-in' type='checkbox' disabled><label for='attrs-cb26e8c4-9930-4752-9eb2-5558fb2503c5' title='Show/Hide attributes'><svg class='icon xr-icon-file-text2'><use xlink:href='#icon-file-text2'></use></svg></label><input id='data-08c1a8ad-9be5-4376-b0f2-f6fdd1f2e309' class='xr-var-data-in' type='checkbox'><label for='data-08c1a8ad-9be5-4376-b0f2-f6fdd1f2e309' title='Show/Hide data repr'><svg class='icon xr-icon-database'><use xlink:href='#icon-database'></use></svg></label><div class='xr-var-attrs'><dl class='xr-attrs'></dl></div><pre class='xr-var-data'>array([166.475, 166.525, 166.575, ..., 178.375, 178.425, 178.475])</pre></li><li class='xr-var-item'><div class='xr-var-name'><span class='xr-has-index'>lat</span></div><div class='xr-var-dims'>(lat)</div><div class='xr-var-dtype'>float64</div><div class='xr-var-preview xr-preview'>-47.27 -47.23 ... -34.48 -34.42</div><input id='attrs-93a583c0-13e6-4c2e-aedc-2732fa6fd99e' class='xr-var-attrs-in' type='checkbox' disabled><label for='attrs-93a583c0-13e6-4c2e-aedc-2732fa6fd99e' title='Show/Hide attributes'><svg class='icon xr-icon-file-text2'><use xlink:href='#icon-file-text2'></use></svg></label><input id='data-87326ece-b883-4266-b74a-a5ea0852c45c' class='xr-var-data-in' type='checkbox'><label for='data-87326ece-b883-4266-b74a-a5ea0852c45c' title='Show/Hide data repr'><svg class='icon xr-icon-database'><use xlink:href='#icon-database'></use></svg></label><div class='xr-var-attrs'><dl class='xr-attrs'></dl></div><pre class='xr-var-data'>array([-47.275, -47.225, -47.175, ..., -34.525, -34.475, -34.425])</pre></li></ul></div></li><li class='xr-section-item'><input id='section-7733c77f-f649-4222-a18b-1234812b2246' class='xr-section-summary-in' type='checkbox'  checked><label for='section-7733c77f-f649-4222-a18b-1234812b2246' class='xr-section-summary' >Data variables: <span>(2)</span></label><div class='xr-section-inline-details'></div><div class='xr-section-details'><ul class='xr-var-list'><li class='xr-var-item'><div class='xr-var-name'><span>agent</span></div><div class='xr-var-dims'>(lat, lon)</div><div class='xr-var-dtype'>float32</div><div class='xr-var-preview xr-preview'>...</div><input id='attrs-cf2910f4-9a57-409d-a5fe-5ff5b694ec94' class='xr-var-attrs-in' type='checkbox' ><label for='attrs-cf2910f4-9a57-409d-a5fe-5ff5b694ec94' title='Show/Hide attributes'><svg class='icon xr-icon-file-text2'><use xlink:href='#icon-file-text2'></use></svg></label><input id='data-ba47d18d-8c98-41f2-b696-97b96ad87d04' class='xr-var-data-in' type='checkbox'><label for='data-ba47d18d-8c98-41f2-b696-97b96ad87d04' title='Show/Hide data repr'><svg class='icon xr-icon-database'><use xlink:href='#icon-database'></use></svg></label><div class='xr-var-attrs'><dl class='xr-attrs'><dt><span>pyproj_srs :</span></dt><dd>+proj=longlat +datum=WGS84 +no_defs</dd></dl></div><pre class='xr-var-data'>array([[nan, nan, nan, ..., nan, nan, nan],\n",
       "       [nan, nan, nan, ..., nan, nan, nan],\n",
       "       [nan, nan, nan, ..., nan, nan, nan],\n",
       "       ...,\n",
       "       [nan, nan, nan, ..., nan, nan, nan],\n",
       "       [nan, nan, nan, ..., nan, nan, nan],\n",
       "       [nan, nan, nan, ..., nan, nan, nan]], dtype=float32)</pre></li><li class='xr-var-item'><div class='xr-var-name'><span>Tmean</span></div><div class='xr-var-dims'>(time, lat, lon)</div><div class='xr-var-dtype'>float64</div><div class='xr-var-preview xr-preview'>...</div><input id='attrs-7f4ef67e-8798-481d-bc5a-8d787ced6769' class='xr-var-attrs-in' type='checkbox' ><label for='attrs-7f4ef67e-8798-481d-bc5a-8d787ced6769' title='Show/Hide attributes'><svg class='icon xr-icon-file-text2'><use xlink:href='#icon-file-text2'></use></svg></label><input id='data-38c95004-0e32-4878-ad5d-8fd2fd773681' class='xr-var-data-in' type='checkbox'><label for='data-38c95004-0e32-4878-ad5d-8fd2fd773681' title='Show/Hide data repr'><svg class='icon xr-icon-database'><use xlink:href='#icon-database'></use></svg></label><div class='xr-var-attrs'><dl class='xr-attrs'><dt><span>pyproj_srs :</span></dt><dd>+proj=longlat +datum=WGS84 +no_defs</dd></dl></div><pre class='xr-var-data'>[30473004 values with dtype=float64]</pre></li></ul></div></li><li class='xr-section-item'><input id='section-5a13d53a-fa21-40fa-910a-969ed5d5f495' class='xr-section-summary-in' type='checkbox'  checked><label for='section-5a13d53a-fa21-40fa-910a-969ed5d5f495' class='xr-section-summary' >Attributes: <span>(1)</span></label><div class='xr-section-inline-details'></div><div class='xr-section-details'><dl class='xr-attrs'><dt><span>pyproj_srs :</span></dt><dd>+proj=longlat +datum=WGS84 +no_defs</dd></dl></div></li></ul></div></div>"
      ],
      "text/plain": [
       "<xarray.Dataset>\n",
       "Dimensions:  (lat: 257, lon: 241, time: 492)\n",
       "Coordinates:\n",
       "  * time     (time) datetime64[ns] 1979-01-31 1979-02-28 ... 2019-12-31\n",
       "  * lon      (lon) float64 166.5 166.5 166.6 166.6 ... 178.3 178.4 178.4 178.5\n",
       "  * lat      (lat) float64 -47.27 -47.23 -47.17 -47.12 ... -34.52 -34.48 -34.42\n",
       "Data variables:\n",
       "    agent    (lat, lon) float32 ...\n",
       "    Tmean    (time, lat, lon) float64 ...\n",
       "Attributes:\n",
       "    pyproj_srs:  +proj=longlat +datum=WGS84 +no_defs"
      ]
     },
     "execution_count": 14,
     "metadata": {},
     "output_type": "execute_result"
    }
   ],
   "source": [
    "dset"
   ]
  },
  {
   "cell_type": "markdown",
   "metadata": {},
   "source": [
    "### calculates the seasonal average (or sum if Rain_bc is the variable )"
   ]
  },
  {
   "cell_type": "code",
   "execution_count": 15,
   "metadata": {},
   "outputs": [],
   "source": [
    "if var_name == 'Rain_bc': \n",
    "    dset = dset.rolling(time=3, min_periods=3).sum()\n",
    "else: \n",
    "    dset = dset.rolling(time=3, min_periods=3).mean()"
   ]
  },
  {
   "cell_type": "code",
   "execution_count": 16,
   "metadata": {},
   "outputs": [],
   "source": [
    "dset = dset.isel(time=slice(2,None))"
   ]
  },
  {
   "cell_type": "code",
   "execution_count": 17,
   "metadata": {},
   "outputs": [],
   "source": [
    "nz_regions = gpd.read_file(HOME / 'research' / 'Smart_Ideas' / 'data' / 'shapefiles' / 'NZ_regions' / 'NZ_6_regions' / 'NZ_regions_corrected.shp') "
   ]
  },
  {
   "cell_type": "code",
   "execution_count": 18,
   "metadata": {},
   "outputs": [
    {
     "data": {
      "text/html": [
       "<div>\n",
       "<style scoped>\n",
       "    .dataframe tbody tr th:only-of-type {\n",
       "        vertical-align: middle;\n",
       "    }\n",
       "\n",
       "    .dataframe tbody tr th {\n",
       "        vertical-align: top;\n",
       "    }\n",
       "\n",
       "    .dataframe thead th {\n",
       "        text-align: right;\n",
       "    }\n",
       "</style>\n",
       "<table border=\"1\" class=\"dataframe\">\n",
       "  <thead>\n",
       "    <tr style=\"text-align: right;\">\n",
       "      <th></th>\n",
       "      <th>OBJECTID</th>\n",
       "      <th>Id</th>\n",
       "      <th>gridcode</th>\n",
       "      <th>Shape_Leng</th>\n",
       "      <th>Shape_Area</th>\n",
       "      <th>Location</th>\n",
       "      <th>geometry</th>\n",
       "    </tr>\n",
       "  </thead>\n",
       "  <tbody>\n",
       "    <tr>\n",
       "      <th>0</th>\n",
       "      <td>1</td>\n",
       "      <td>1</td>\n",
       "      <td>1</td>\n",
       "      <td>85.215338</td>\n",
       "      <td>5.032753</td>\n",
       "      <td>NNI</td>\n",
       "      <td>MULTIPOLYGON (((174.70530 -38.17377, 174.70545...</td>\n",
       "    </tr>\n",
       "    <tr>\n",
       "      <th>1</th>\n",
       "      <td>2</td>\n",
       "      <td>2</td>\n",
       "      <td>2</td>\n",
       "      <td>12.336015</td>\n",
       "      <td>2.994028</td>\n",
       "      <td>WNI</td>\n",
       "      <td>MULTIPOLYGON (((175.13516 -41.37745, 175.13507...</td>\n",
       "    </tr>\n",
       "    <tr>\n",
       "      <th>2</th>\n",
       "      <td>3</td>\n",
       "      <td>3</td>\n",
       "      <td>3</td>\n",
       "      <td>14.235493</td>\n",
       "      <td>3.775388</td>\n",
       "      <td>ENI</td>\n",
       "      <td>MULTIPOLYGON (((175.85595 -41.35970, 175.85595...</td>\n",
       "    </tr>\n",
       "    <tr>\n",
       "      <th>3</th>\n",
       "      <td>4</td>\n",
       "      <td>4</td>\n",
       "      <td>4</td>\n",
       "      <td>34.656463</td>\n",
       "      <td>3.066280</td>\n",
       "      <td>NSI</td>\n",
       "      <td>MULTIPOLYGON (((171.32620 -42.12355, 171.32602...</td>\n",
       "    </tr>\n",
       "    <tr>\n",
       "      <th>4</th>\n",
       "      <td>5</td>\n",
       "      <td>5</td>\n",
       "      <td>6</td>\n",
       "      <td>20.191504</td>\n",
       "      <td>4.827228</td>\n",
       "      <td>ESI</td>\n",
       "      <td>MULTIPOLYGON (((170.21675 -46.05955, 170.21609...</td>\n",
       "    </tr>\n",
       "    <tr>\n",
       "      <th>5</th>\n",
       "      <td>6</td>\n",
       "      <td>6</td>\n",
       "      <td>5</td>\n",
       "      <td>42.941379</td>\n",
       "      <td>9.057410</td>\n",
       "      <td>WSI</td>\n",
       "      <td>MULTIPOLYGON (((169.20749 -46.66371, 169.20742...</td>\n",
       "    </tr>\n",
       "  </tbody>\n",
       "</table>\n",
       "</div>"
      ],
      "text/plain": [
       "   OBJECTID  Id  gridcode  Shape_Leng  Shape_Area Location  \\\n",
       "0         1   1         1   85.215338    5.032753      NNI   \n",
       "1         2   2         2   12.336015    2.994028      WNI   \n",
       "2         3   3         3   14.235493    3.775388      ENI   \n",
       "3         4   4         4   34.656463    3.066280      NSI   \n",
       "4         5   5         6   20.191504    4.827228      ESI   \n",
       "5         6   6         5   42.941379    9.057410      WSI   \n",
       "\n",
       "                                            geometry  \n",
       "0  MULTIPOLYGON (((174.70530 -38.17377, 174.70545...  \n",
       "1  MULTIPOLYGON (((175.13516 -41.37745, 175.13507...  \n",
       "2  MULTIPOLYGON (((175.85595 -41.35970, 175.85595...  \n",
       "3  MULTIPOLYGON (((171.32620 -42.12355, 171.32602...  \n",
       "4  MULTIPOLYGON (((170.21675 -46.05955, 170.21609...  \n",
       "5  MULTIPOLYGON (((169.20749 -46.66371, 169.20742...  "
      ]
     },
     "execution_count": 18,
     "metadata": {},
     "output_type": "execute_result"
    }
   ],
   "source": [
    "nz_regions"
   ]
  },
  {
   "cell_type": "markdown",
   "metadata": {},
   "source": [
    "#### checks that the crs is correct: should be epsg 4272 "
   ]
  },
  {
   "cell_type": "code",
   "execution_count": 19,
   "metadata": {},
   "outputs": [
    {
     "data": {
      "text/plain": [
       "<Geographic 2D CRS: EPSG:4272>\n",
       "Name: NZGD49\n",
       "Axis Info [ellipsoidal]:\n",
       "- Lat[north]: Geodetic latitude (degree)\n",
       "- Lon[east]: Geodetic longitude (degree)\n",
       "Area of Use:\n",
       "- name: New Zealand - onshore and nearshore\n",
       "- bounds: (165.87, -47.65, 179.27, -33.89)\n",
       "Datum: New Zealand Geodetic Datum 1949\n",
       "- Ellipsoid: International 1924\n",
       "- Prime Meridian: Greenwich"
      ]
     },
     "execution_count": 19,
     "metadata": {},
     "output_type": "execute_result"
    }
   ],
   "source": [
    "nz_regions.crs"
   ]
  },
  {
   "cell_type": "code",
   "execution_count": 20,
   "metadata": {},
   "outputs": [],
   "source": [
    "opath_root = HOME / 'research' / 'Smart_Ideas' / 'outputs' / 'targets' / 'NZ_regions' / 'NZ_6_regions' / 'CLIOPS'"
   ]
  },
  {
   "cell_type": "code",
   "execution_count": 21,
   "metadata": {},
   "outputs": [],
   "source": [
    "if not opath_root.exists(): \n",
    "    opath_root.mkdir(parents=True)"
   ]
  },
  {
   "cell_type": "markdown",
   "metadata": {},
   "source": [
    "### defines the number of quantiles we want "
   ]
  },
  {
   "cell_type": "code",
   "execution_count": 22,
   "metadata": {},
   "outputs": [],
   "source": [
    "num_quantiles = 3"
   ]
  },
  {
   "cell_type": "code",
   "execution_count": 23,
   "metadata": {},
   "outputs": [],
   "source": [
    "quant_values = np.linspace(0, 1, num_quantiles + 1, endpoint=True)"
   ]
  },
  {
   "cell_type": "code",
   "execution_count": 24,
   "metadata": {},
   "outputs": [],
   "source": [
    "quant_values = quant_values[1:-1]"
   ]
  },
  {
   "cell_type": "code",
   "execution_count": 25,
   "metadata": {},
   "outputs": [
    {
     "data": {
      "text/plain": [
       "array([0.33333333, 0.66666667])"
      ]
     },
     "execution_count": 25,
     "metadata": {},
     "output_type": "execute_result"
    }
   ],
   "source": [
    "quant_values"
   ]
  },
  {
   "cell_type": "code",
   "execution_count": 26,
   "metadata": {},
   "outputs": [],
   "source": [
    "col_labs = [f\"Q{int(x)}\" for x in (quant_values*100)]"
   ]
  },
  {
   "cell_type": "code",
   "execution_count": 27,
   "metadata": {},
   "outputs": [
    {
     "data": {
      "text/plain": [
       "['Q33', 'Q66']"
      ]
     },
     "execution_count": 27,
     "metadata": {},
     "output_type": "execute_result"
    }
   ],
   "source": [
    "col_labs"
   ]
  },
  {
   "cell_type": "code",
   "execution_count": 38,
   "metadata": {},
   "outputs": [
    {
     "name": "stdout",
     "output_type": "stream",
     "text": [
      "Writing /home/nicolasf/research/Smart_Ideas/code/ml4seas/utils/calculate_quantile.py\n"
     ]
    }
   ],
   "source": [
    "%%writefile /home/nicolasf/research/Smart_Ideas/code/ml4seas/utils/calculate_quantile.py \n",
    "def calculate_quantile(ts_series, quant_values): \n",
    "    \n",
    "    \"\"\"\n",
    "    given one Pandas Series containing seasonally aggregated values (Note: NOT a dataframe) \n",
    "    and a list of quantiles, calculates the quantile category for each season \n",
    "    \n",
    "    climatology by default is 1981 - 2010\n",
    "    \n",
    "    Parameters\n",
    "    ----------\n",
    "    \n",
    "    - ts_series : a Pandas Series, with datetime index \n",
    "    - quant_values : a list of quantiles (e.g. [0.3333, 0.66666] for terciles)\n",
    "    \n",
    "    Return\n",
    "    ------\n",
    "    \n",
    "    - ts_series_cat : a Pandas Series with the corresponding category \n",
    "    \n",
    "    \"\"\"\n",
    "    \n",
    "    ts_series_cat = []\n",
    "    \n",
    "    quantiles_list = []\n",
    "\n",
    "    for month in range(1, 13):\n",
    "\n",
    "        ts_series_m = ts_series[ts_series.index.month == month]\n",
    "\n",
    "        clim = ts_series_m.loc['1981':'2010']\n",
    "\n",
    "        quantiles = [clim.quantile(q=q) for q in quant_values.tolist()]\n",
    "\n",
    "        quantiles_list.append(quantiles.copy())\n",
    "\n",
    "        quantiles.insert(0, -np.inf)\n",
    "\n",
    "        quantiles.append(np.inf)\n",
    "\n",
    "        ts_series_m_cats = pd.cut(ts_series_m, quantiles, labels=list(range(1, num_quantiles + 1)))\n",
    "\n",
    "        ts_series_cat.append(ts_series_m_cats)\n",
    "\n",
    "        del(quantiles) \n",
    "        \n",
    "    ts_series_cat = pd.concat(ts_series_cat)\n",
    "    \n",
    "    ts_series_cat = ts_series_cat.sort_index()\n",
    "    \n",
    "    return ts_series_cat "
   ]
  },
  {
   "cell_type": "code",
   "execution_count": 39,
   "metadata": {},
   "outputs": [
    {
     "name": "stdout",
     "output_type": "stream",
     "text": [
      "Writing /home/nicolasf/research/Smart_Ideas/code/ml4seas/utils/calculate_anomalies.py\n"
     ]
    }
   ],
   "source": [
    "%%writefile /home/nicolasf/research/Smart_Ideas/code/ml4seas/utils/calculate_anomalies.py \n",
    "def calculate_anomalies(ts_series): \n",
    "    \n",
    "    \"\"\"\n",
    "    given one Pandas Series containing seasonally aggregated values (Note: NOT a dataframe) \n",
    "    calculates the anomaly for each season \n",
    "    \n",
    "    climatology by default is 1981 - 2010\n",
    "    \n",
    "    Parameters\n",
    "    ----------\n",
    "    \n",
    "    - ts_series : a Pandas Series, with datetime index \n",
    "    \n",
    "    Return\n",
    "    ------\n",
    "    \n",
    "    - ts_series_anoms : Pandas Series with the corresponding anomalies \n",
    "    \n",
    "    \"\"\"\n",
    "    \n",
    "    def demean(x): \n",
    "        return x - x.loc['1981':'2010',].mean()\n",
    "    \n",
    "    ts_series_anoms = ts_series.groupby(ts_series.index.month).apply(demean) \n",
    "    \n",
    "    ts_series_anoms = ts_series_anoms.sort_index()\n",
    "    \n",
    "    return ts_series_anoms\n"
   ]
  },
  {
   "cell_type": "markdown",
   "metadata": {},
   "source": [
    "### loop over the regions "
   ]
  },
  {
   "cell_type": "code",
   "execution_count": 30,
   "metadata": {},
   "outputs": [
    {
     "name": "stdout",
     "output_type": "stream",
     "text": [
      "processing NNI\n",
      "successfully created /home/nicolasf/research/Smart_Ideas/outputs/targets/NZ_regions/NZ_6_regions/CLIOPS/TMEAN/NNI/TS_NZ_region_NNI_TMEAN_3_quantiles_anoms_cliops.csv\n",
      "processing ENI\n",
      "successfully created /home/nicolasf/research/Smart_Ideas/outputs/targets/NZ_regions/NZ_6_regions/CLIOPS/TMEAN/ENI/TS_NZ_region_ENI_TMEAN_3_quantiles_anoms_cliops.csv\n",
      "processing WNI\n",
      "successfully created /home/nicolasf/research/Smart_Ideas/outputs/targets/NZ_regions/NZ_6_regions/CLIOPS/TMEAN/WNI/TS_NZ_region_WNI_TMEAN_3_quantiles_anoms_cliops.csv\n",
      "processing NSI\n",
      "successfully created /home/nicolasf/research/Smart_Ideas/outputs/targets/NZ_regions/NZ_6_regions/CLIOPS/TMEAN/NSI/TS_NZ_region_NSI_TMEAN_3_quantiles_anoms_cliops.csv\n",
      "processing WSI\n",
      "successfully created /home/nicolasf/research/Smart_Ideas/outputs/targets/NZ_regions/NZ_6_regions/CLIOPS/TMEAN/WSI/TS_NZ_region_WSI_TMEAN_3_quantiles_anoms_cliops.csv\n",
      "processing ESI\n",
      "successfully created /home/nicolasf/research/Smart_Ideas/outputs/targets/NZ_regions/NZ_6_regions/CLIOPS/TMEAN/ESI/TS_NZ_region_ESI_TMEAN_3_quantiles_anoms_cliops.csv\n"
     ]
    }
   ],
   "source": [
    "for region_name in ['NNI','ENI','WNI','NSI','WSI','ESI']: \n",
    "    \n",
    "    print(f\"processing {region_name}\")\n",
    "    \n",
    "    shape = nz_regions.query(f\"Location == '{region_name}'\")\n",
    "    \n",
    "    region = dset.salem.subset(shape=shape)\n",
    "    \n",
    "    region = region.salem.roi(shape=shape, all_touched=True)\n",
    "    \n",
    "    region_stacked = region.stack(z=('lat','lon'))\n",
    "    \n",
    "    region_stacked = region_stacked.dropna(dim='z')\n",
    "    \n",
    "    n_points = len(region_stacked.z) \n",
    "    \n",
    "    df_cat = []\n",
    "    df_anoms = []\n",
    "    \n",
    "    for z in region_stacked.z.data: \n",
    "    \n",
    "        ts_series = region_stacked.sel(z=z).to_dataframe()[var_name]\n",
    "    \n",
    "        df_cat.append(calculate_quantile(ts_series, quant_values))\n",
    "    \n",
    "        df_anoms.append(calculate_anomalies(ts_series)) \n",
    "        \n",
    "    df_cat = pd.concat(df_cat, axis=1)\n",
    "        \n",
    "    df_anoms = pd.concat(df_anoms, axis=1) \n",
    "    \n",
    "    df_cat = df_cat.sort_index() \n",
    "    \n",
    "    df_anoms = df_anoms.sort_index() \n",
    "    \n",
    "    df_anoms = df_anoms.mean(axis=1)\n",
    "    \n",
    "    df_anoms = df_anoms.to_frame(name='anoms')\n",
    "        \n",
    "    df_cat_freq = df_cat.apply(pd.value_counts, axis=1) / n_points\n",
    "    \n",
    "    df_cat_freq = df_cat_freq.fillna(value=0)\n",
    "    \n",
    "    df_cat_freq.loc[:,'cat_3'] = df_cat_freq.idxmax(axis=1)\n",
    "    \n",
    "    df_cat_freq.loc[:,'n_points'] = n_points\n",
    "    \n",
    "    df = pd.concat([df_cat_freq, df_anoms], axis=1)\n",
    "    \n",
    "    opath = opath_root / big_var / region_name \n",
    "    \n",
    "    if not opath.exists(): \n",
    "        opath.mkdir(parents=True)\n",
    "        \n",
    "    fout = opath / f'TS_NZ_region_{region_name}_{big_var}_{num_quantiles}_quantiles_anoms_cliops.csv' \n",
    "    \n",
    "    df.to_csv(fout)\n",
    "    \n",
    "    if fout.exists(): \n",
    "        print(f\"successfully created {str(fout)}\")\n",
    "\n",
    "    else: \n",
    "        print(f\"something went wrong trying to save {str(fout)}\")"
   ]
  },
  {
   "cell_type": "markdown",
   "metadata": {},
   "source": [
    "### EOF "
   ]
  },
  {
   "cell_type": "markdown",
   "metadata": {},
   "source": [
    "### comparison with other definition "
   ]
  },
  {
   "cell_type": "code",
   "execution_count": 31,
   "metadata": {},
   "outputs": [
    {
     "data": {
      "text/plain": [
       "'Tmean'"
      ]
     },
     "execution_count": 31,
     "metadata": {},
     "output_type": "execute_result"
    }
   ],
   "source": [
    "var_name"
   ]
  },
  {
   "cell_type": "code",
   "execution_count": 32,
   "metadata": {},
   "outputs": [],
   "source": [
    "if var_name == 'Rain_bc': \n",
    "    var_name = var_name.split('_')[0]"
   ]
  },
  {
   "cell_type": "code",
   "execution_count": 33,
   "metadata": {},
   "outputs": [
    {
     "data": {
      "text/plain": [
       "PosixPath('/home/nicolasf/research/Smart_Ideas/outputs/targets/NZ_regions/NZ_6_regions/CLIOPS')"
      ]
     },
     "execution_count": 33,
     "metadata": {},
     "output_type": "execute_result"
    }
   ],
   "source": [
    "opath_root"
   ]
  },
  {
   "cell_type": "code",
   "execution_count": 34,
   "metadata": {},
   "outputs": [],
   "source": [
    "reg_match = {}\n",
    "\n",
    "for region_name in ['NNI','ENI','WNI','NSI','WSI','ESI']: \n",
    "    \n",
    "    df_cliops = pd.read_csv(opath_root / var_name.upper() / region_name / f\"TS_NZ_region_{region_name}_{var_name.upper()}_3_quantiles_anoms_cliops.csv\", index_col=0, parse_dates=True)\n",
    "    \n",
    "    df_orig = pd.read_csv(opath_root.parent / var_name.upper() / region_name / f\"TS_NZ_region_{region_name}_{var_name.upper()}_3_quantiles_anoms.csv\", index_col=0, parse_dates=True)\n",
    "    \n",
    "    reg_match[region_name] = (df_orig.cat_3 == df.cat_3).sum() / len(df)\n",
    "    "
   ]
  },
  {
   "cell_type": "code",
   "execution_count": 35,
   "metadata": {},
   "outputs": [
    {
     "data": {
      "text/plain": [
       "NNI    0.677551\n",
       "ENI    0.693878\n",
       "WNI    0.702041\n",
       "NSI    0.736735\n",
       "WSI    0.775510\n",
       "ESI    0.963265\n",
       "dtype: float64"
      ]
     },
     "execution_count": 35,
     "metadata": {},
     "output_type": "execute_result"
    }
   ],
   "source": [
    "pd.Series(reg_match)"
   ]
  },
  {
   "cell_type": "code",
   "execution_count": 36,
   "metadata": {},
   "outputs": [
    {
     "data": {
      "text/html": [
       "<div>\n",
       "<style scoped>\n",
       "    .dataframe tbody tr th:only-of-type {\n",
       "        vertical-align: middle;\n",
       "    }\n",
       "\n",
       "    .dataframe tbody tr th {\n",
       "        vertical-align: top;\n",
       "    }\n",
       "\n",
       "    .dataframe thead th {\n",
       "        text-align: right;\n",
       "    }\n",
       "</style>\n",
       "<table border=\"1\" class=\"dataframe\">\n",
       "  <thead>\n",
       "    <tr style=\"text-align: right;\">\n",
       "      <th></th>\n",
       "      <th>1</th>\n",
       "      <th>2</th>\n",
       "      <th>3</th>\n",
       "      <th>cat_3</th>\n",
       "      <th>n_points</th>\n",
       "      <th>anoms</th>\n",
       "    </tr>\n",
       "    <tr>\n",
       "      <th>time</th>\n",
       "      <th></th>\n",
       "      <th></th>\n",
       "      <th></th>\n",
       "      <th></th>\n",
       "      <th></th>\n",
       "      <th></th>\n",
       "    </tr>\n",
       "  </thead>\n",
       "  <tbody>\n",
       "    <tr>\n",
       "      <th>1979-03-31</th>\n",
       "      <td>0.4405</td>\n",
       "      <td>0.5175</td>\n",
       "      <td>0.0420</td>\n",
       "      <td>2</td>\n",
       "      <td>2000</td>\n",
       "      <td>-0.283684</td>\n",
       "    </tr>\n",
       "    <tr>\n",
       "      <th>1979-04-30</th>\n",
       "      <td>0.4115</td>\n",
       "      <td>0.5845</td>\n",
       "      <td>0.0040</td>\n",
       "      <td>2</td>\n",
       "      <td>2000</td>\n",
       "      <td>-0.320514</td>\n",
       "    </tr>\n",
       "    <tr>\n",
       "      <th>1979-05-31</th>\n",
       "      <td>0.9410</td>\n",
       "      <td>0.0590</td>\n",
       "      <td>0.0000</td>\n",
       "      <td>1</td>\n",
       "      <td>2000</td>\n",
       "      <td>-0.602066</td>\n",
       "    </tr>\n",
       "    <tr>\n",
       "      <th>1979-06-30</th>\n",
       "      <td>0.6845</td>\n",
       "      <td>0.3155</td>\n",
       "      <td>0.0000</td>\n",
       "      <td>1</td>\n",
       "      <td>2000</td>\n",
       "      <td>-0.318733</td>\n",
       "    </tr>\n",
       "    <tr>\n",
       "      <th>1979-07-31</th>\n",
       "      <td>0.0105</td>\n",
       "      <td>0.6995</td>\n",
       "      <td>0.2900</td>\n",
       "      <td>2</td>\n",
       "      <td>2000</td>\n",
       "      <td>0.091800</td>\n",
       "    </tr>\n",
       "    <tr>\n",
       "      <th>...</th>\n",
       "      <td>...</td>\n",
       "      <td>...</td>\n",
       "      <td>...</td>\n",
       "      <td>...</td>\n",
       "      <td>...</td>\n",
       "      <td>...</td>\n",
       "    </tr>\n",
       "    <tr>\n",
       "      <th>2019-08-31</th>\n",
       "      <td>0.0000</td>\n",
       "      <td>0.0175</td>\n",
       "      <td>0.9825</td>\n",
       "      <td>3</td>\n",
       "      <td>2000</td>\n",
       "      <td>0.707081</td>\n",
       "    </tr>\n",
       "    <tr>\n",
       "      <th>2019-09-30</th>\n",
       "      <td>0.0040</td>\n",
       "      <td>0.1685</td>\n",
       "      <td>0.8275</td>\n",
       "      <td>3</td>\n",
       "      <td>2000</td>\n",
       "      <td>0.524083</td>\n",
       "    </tr>\n",
       "    <tr>\n",
       "      <th>2019-10-31</th>\n",
       "      <td>0.8935</td>\n",
       "      <td>0.1065</td>\n",
       "      <td>0.0000</td>\n",
       "      <td>1</td>\n",
       "      <td>2000</td>\n",
       "      <td>-0.427972</td>\n",
       "    </tr>\n",
       "    <tr>\n",
       "      <th>2019-11-30</th>\n",
       "      <td>0.0075</td>\n",
       "      <td>0.4580</td>\n",
       "      <td>0.5345</td>\n",
       "      <td>3</td>\n",
       "      <td>2000</td>\n",
       "      <td>0.245044</td>\n",
       "    </tr>\n",
       "    <tr>\n",
       "      <th>2019-12-31</th>\n",
       "      <td>0.0080</td>\n",
       "      <td>0.3120</td>\n",
       "      <td>0.6800</td>\n",
       "      <td>3</td>\n",
       "      <td>2000</td>\n",
       "      <td>0.341288</td>\n",
       "    </tr>\n",
       "  </tbody>\n",
       "</table>\n",
       "<p>490 rows × 6 columns</p>\n",
       "</div>"
      ],
      "text/plain": [
       "                 1       2       3  cat_3  n_points     anoms\n",
       "time                                                         \n",
       "1979-03-31  0.4405  0.5175  0.0420      2      2000 -0.283684\n",
       "1979-04-30  0.4115  0.5845  0.0040      2      2000 -0.320514\n",
       "1979-05-31  0.9410  0.0590  0.0000      1      2000 -0.602066\n",
       "1979-06-30  0.6845  0.3155  0.0000      1      2000 -0.318733\n",
       "1979-07-31  0.0105  0.6995  0.2900      2      2000  0.091800\n",
       "...            ...     ...     ...    ...       ...       ...\n",
       "2019-08-31  0.0000  0.0175  0.9825      3      2000  0.707081\n",
       "2019-09-30  0.0040  0.1685  0.8275      3      2000  0.524083\n",
       "2019-10-31  0.8935  0.1065  0.0000      1      2000 -0.427972\n",
       "2019-11-30  0.0075  0.4580  0.5345      3      2000  0.245044\n",
       "2019-12-31  0.0080  0.3120  0.6800      3      2000  0.341288\n",
       "\n",
       "[490 rows x 6 columns]"
      ]
     },
     "execution_count": 36,
     "metadata": {},
     "output_type": "execute_result"
    }
   ],
   "source": [
    "df_cliops"
   ]
  },
  {
   "cell_type": "code",
   "execution_count": 37,
   "metadata": {},
   "outputs": [
    {
     "data": {
      "text/plain": [
       "<matplotlib.axes._subplots.AxesSubplot at 0x7f99da8db350>"
      ]
     },
     "execution_count": 37,
     "metadata": {},
     "output_type": "execute_result"
    },
    {
     "data": {
      "image/png": "[encoded data removed]",
      "text/plain": [
       "<Figure size 432x288 with 1 Axes>"
      ]
     },
     "metadata": {
      "needs_background": "light"
     },
     "output_type": "display_data"
    }
   ],
   "source": [
    "f, ax = plt.subplots()\n",
    "df_orig.cat_3.resample('A').mean().plot(ax=ax)\n",
    "df_cliops.cat_3.resample('A').mean().plot(ax=ax)"
   ]
  },
  {
   "cell_type": "code",
   "execution_count": null,
   "metadata": {},
   "outputs": [],
   "source": []
  }
 ],
 "metadata": {
  "kernelspec": {
   "display_name": "Python 3",
   "language": "python",
   "name": "python3"
  },
  "language_info": {
   "codemirror_mode": {
    "name": "ipython",
    "version": 3
   },
   "file_extension": ".py",
   "mimetype": "text/x-python",
   "name": "python",
   "nbconvert_exporter": "python",
   "pygments_lexer": "ipython3",
   "version": "3.7.6"
  },
  "latex_envs": {
   "bibliofile": "biblio.bib",
   "cite_by": "apalike",
   "current_citInitial": 1,
   "eqLabelWithNumbers": true,
   "eqNumInitial": 0
  }
 },
 "nbformat": 4,
 "nbformat_minor": 4
}
