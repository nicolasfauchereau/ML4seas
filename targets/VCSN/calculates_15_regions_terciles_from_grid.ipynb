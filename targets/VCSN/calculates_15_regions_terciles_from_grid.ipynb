{
 "cells": [
  {
   "cell_type": "markdown",
   "metadata": {},
   "source": [
    "# calculates the seasonal anomalies and the seasonal tercile categories from the gridded VCSN monthly files, using the NZ 6 regions shapefiles "
   ]
  },
  {
   "cell_type": "code",
   "execution_count": 1,
   "metadata": {},
   "outputs": [],
   "source": [
    "# Paramaters \n",
    "\n",
    "# var_name = 'Rain_bc'\n",
    "# var_name = 'Tmin_N'\n",
    "# var_name = 'Tmax_N'\n",
    "# var_name = 'Tmean_N'\n",
    "# var_name = 'SoilM'\n",
    "# var_name = 'Wind'\n",
    "var_name = 'Rad'"
   ]
  },
  {
   "cell_type": "markdown",
   "metadata": {},
   "source": [
    "in ['Agent', 'Lat', 'Longt', 'Date', 'MSLP', 'PET', 'Rain', 'RH', 'SoilM',\n",
    "       'ETmp', 'Rad', 'TMax', 'Tmin', 'VP', 'Wind', 'Rain_bc', 'Tmax_N',\n",
    "       'Tmin_N']"
   ]
  },
  {
   "cell_type": "code",
   "execution_count": 2,
   "metadata": {},
   "outputs": [],
   "source": [
    "import os\n",
    "import sys\n",
    "import pathlib"
   ]
  },
  {
   "cell_type": "code",
   "execution_count": 3,
   "metadata": {
    "collapsed": false,
    "jupyter": {
     "outputs_hidden": false
    }
   },
   "outputs": [],
   "source": [
    "%matplotlib inline\n",
    "from matplotlib import pyplot as plt\n",
    "import proplot as plot\n",
    "\n",
    "import numpy as np\n",
    "import pandas as pd\n",
    "from scipy.spatial import cKDTree\n",
    "from itertools import product"
   ]
  },
  {
   "cell_type": "code",
   "execution_count": 4,
   "metadata": {},
   "outputs": [],
   "source": [
    "import salem\n",
    "import geopandas as gpd"
   ]
  },
  {
   "cell_type": "code",
   "execution_count": 5,
   "metadata": {
    "collapsed": false,
    "jupyter": {
     "outputs_hidden": false
    }
   },
   "outputs": [],
   "source": [
    "import xarray as xr"
   ]
  },
  {
   "cell_type": "markdown",
   "metadata": {},
   "source": [
    "### function to calculate the anomalies with respect to the 1981 - 2010 climatology "
   ]
  },
  {
   "cell_type": "code",
   "execution_count": 6,
   "metadata": {
    "collapsed": false,
    "jupyter": {
     "outputs_hidden": false
    }
   },
   "outputs": [],
   "source": [
    "def demean(x): \n",
    "    return x - x.loc['1981':'2010',].mean()"
   ]
  },
  {
   "cell_type": "code",
   "execution_count": 7,
   "metadata": {},
   "outputs": [
    {
     "data": {
      "text/plain": [
       "'Rad'"
      ]
     },
     "execution_count": 7,
     "metadata": {},
     "output_type": "execute_result"
    }
   ],
   "source": [
    "var_name"
   ]
  },
  {
   "cell_type": "code",
   "execution_count": 8,
   "metadata": {},
   "outputs": [],
   "source": [
    "big_var = var_name.split('_')[0].upper()"
   ]
  },
  {
   "cell_type": "code",
   "execution_count": 9,
   "metadata": {},
   "outputs": [],
   "source": [
    "HOME = pathlib.Path.home()"
   ]
  },
  {
   "cell_type": "code",
   "execution_count": 10,
   "metadata": {},
   "outputs": [],
   "source": [
    "dpath = HOME / 'operational/VCSN/data/NC/MONTHLY/' / var_name.upper()"
   ]
  },
  {
   "cell_type": "code",
   "execution_count": 11,
   "metadata": {},
   "outputs": [
    {
     "data": {
      "text/plain": [
       "'RAD'"
      ]
     },
     "execution_count": 11,
     "metadata": {},
     "output_type": "execute_result"
    }
   ],
   "source": [
    "var_name.upper()"
   ]
  },
  {
   "cell_type": "code",
   "execution_count": 12,
   "metadata": {
    "collapsed": false,
    "jupyter": {
     "outputs_hidden": false
    }
   },
   "outputs": [],
   "source": [
    "dset = salem.open_xr_dataset(dpath / f'VCSN_gridded_{var_name}_1979-01_2019-12.nc') "
   ]
  },
  {
   "cell_type": "code",
   "execution_count": 13,
   "metadata": {},
   "outputs": [
    {
     "data": {
      "text/html": [
       "<pre>&lt;xarray.Dataset&gt;\n",
       "Dimensions:  (lat: 257, lon: 241, time: 492)\n",
       "Coordinates:\n",
       "  * time     (time) datetime64[ns] 1979-01-31 1979-02-28 ... 2019-12-31\n",
       "  * lat      (lat) float64 -47.27 -47.23 -47.17 -47.12 ... -34.52 -34.48 -34.42\n",
       "  * lon      (lon) float64 166.5 166.5 166.6 166.6 ... 178.3 178.4 178.4 178.5\n",
       "Data variables:\n",
       "    Rad      (time, lat, lon) float64 ...\n",
       "    agent    (lat, lon) float32 ...\n",
       "Attributes:\n",
       "    pyproj_srs:  +units=m +proj=latlong +datum=WGS84 </pre>"
      ],
      "text/plain": [
       "<xarray.Dataset>\n",
       "Dimensions:  (lat: 257, lon: 241, time: 492)\n",
       "Coordinates:\n",
       "  * time     (time) datetime64[ns] 1979-01-31 1979-02-28 ... 2019-12-31\n",
       "  * lat      (lat) float64 -47.27 -47.23 -47.17 -47.12 ... -34.52 -34.48 -34.42\n",
       "  * lon      (lon) float64 166.5 166.5 166.6 166.6 ... 178.3 178.4 178.4 178.5\n",
       "Data variables:\n",
       "    Rad      (time, lat, lon) float64 ...\n",
       "    agent    (lat, lon) float32 ...\n",
       "Attributes:\n",
       "    pyproj_srs:  +units=m +proj=latlong +datum=WGS84 "
      ]
     },
     "execution_count": 13,
     "metadata": {},
     "output_type": "execute_result"
    }
   ],
   "source": [
    "dset"
   ]
  },
  {
   "cell_type": "markdown",
   "metadata": {},
   "source": [
    "### calculates the seasonal average (or sum if Rain_bc is the variable )"
   ]
  },
  {
   "cell_type": "code",
   "execution_count": 14,
   "metadata": {},
   "outputs": [],
   "source": [
    "if var_name == 'Rain_bc': \n",
    "    dset = dset.rolling(time=3, min_periods=3).sum()\n",
    "else: \n",
    "    dset = dset.rolling(time=3, min_periods=3).mean()"
   ]
  },
  {
   "cell_type": "code",
   "execution_count": 15,
   "metadata": {},
   "outputs": [],
   "source": [
    "dset = dset.isel(time=slice(2,None))"
   ]
  },
  {
   "cell_type": "code",
   "execution_count": 16,
   "metadata": {},
   "outputs": [],
   "source": [
    "nz_regions = gpd.read_file(HOME / 'research' / 'Smart_Ideas' / 'data' / 'shapefiles' / 'NZ_regions' / 'NZ_15_regions' / 'svr.shp') "
   ]
  },
  {
   "cell_type": "code",
   "execution_count": 17,
   "metadata": {},
   "outputs": [
    {
     "data": {
      "text/html": [
       "<div>\n",
       "<style scoped>\n",
       "    .dataframe tbody tr th:only-of-type {\n",
       "        vertical-align: middle;\n",
       "    }\n",
       "\n",
       "    .dataframe tbody tr th {\n",
       "        vertical-align: top;\n",
       "    }\n",
       "\n",
       "    .dataframe thead th {\n",
       "        text-align: right;\n",
       "    }\n",
       "</style>\n",
       "<table border=\"1\" class=\"dataframe\">\n",
       "  <thead>\n",
       "    <tr style=\"text-align: right;\">\n",
       "      <th></th>\n",
       "      <th>REGC2018_V</th>\n",
       "      <th>REGC2018_1</th>\n",
       "      <th>LAND_AREA_</th>\n",
       "      <th>AREA_SQ_KM</th>\n",
       "      <th>Shape_Leng</th>\n",
       "      <th>geometry</th>\n",
       "    </tr>\n",
       "  </thead>\n",
       "  <tbody>\n",
       "    <tr>\n",
       "      <th>0</th>\n",
       "      <td>01</td>\n",
       "      <td>Northland Region</td>\n",
       "      <td>12500.561149</td>\n",
       "      <td>30084.256662</td>\n",
       "      <td>8.113957e+05</td>\n",
       "      <td>POLYGON ((173.12963 -34.21388, 173.14448 -34.2...</td>\n",
       "    </tr>\n",
       "    <tr>\n",
       "      <th>1</th>\n",
       "      <td>02</td>\n",
       "      <td>Auckland Region</td>\n",
       "      <td>4941.572557</td>\n",
       "      <td>16156.610062</td>\n",
       "      <td>6.596773e+05</td>\n",
       "      <td>POLYGON ((175.08383 -35.69983, 175.09081 -35.7...</td>\n",
       "    </tr>\n",
       "    <tr>\n",
       "      <th>2</th>\n",
       "      <td>03</td>\n",
       "      <td>Waikato Region</td>\n",
       "      <td>23900.036383</td>\n",
       "      <td>34888.470369</td>\n",
       "      <td>1.267144e+06</td>\n",
       "      <td>POLYGON ((176.02181 -36.37127, 176.02408 -36.3...</td>\n",
       "    </tr>\n",
       "    <tr>\n",
       "      <th>3</th>\n",
       "      <td>04</td>\n",
       "      <td>Bay of Plenty Region</td>\n",
       "      <td>12071.144689</td>\n",
       "      <td>21883.224262</td>\n",
       "      <td>1.092236e+06</td>\n",
       "      <td>POLYGON ((176.52044 -37.35487, 176.53142 -37.3...</td>\n",
       "    </tr>\n",
       "    <tr>\n",
       "      <th>4</th>\n",
       "      <td>05</td>\n",
       "      <td>Gisborne Region</td>\n",
       "      <td>8385.826619</td>\n",
       "      <td>13989.557664</td>\n",
       "      <td>6.944077e+05</td>\n",
       "      <td>POLYGON ((178.23342 -37.33333, 178.24408 -37.3...</td>\n",
       "    </tr>\n",
       "    <tr>\n",
       "      <th>5</th>\n",
       "      <td>06</td>\n",
       "      <td>Hawke's Bay Region</td>\n",
       "      <td>14137.524441</td>\n",
       "      <td>21444.171650</td>\n",
       "      <td>9.289156e+05</td>\n",
       "      <td>POLYGON ((177.12824 -38.58643, 177.27698 -38.6...</td>\n",
       "    </tr>\n",
       "    <tr>\n",
       "      <th>6</th>\n",
       "      <td>07</td>\n",
       "      <td>Taranaki Region</td>\n",
       "      <td>7254.480433</td>\n",
       "      <td>12696.957587</td>\n",
       "      <td>5.644504e+05</td>\n",
       "      <td>POLYGON ((174.61657 -38.72090, 174.61692 -38.7...</td>\n",
       "    </tr>\n",
       "    <tr>\n",
       "      <th>7</th>\n",
       "      <td>08</td>\n",
       "      <td>Manawatu-Wanganui Region</td>\n",
       "      <td>22220.608387</td>\n",
       "      <td>25322.161773</td>\n",
       "      <td>1.176537e+06</td>\n",
       "      <td>POLYGON ((175.54046 -38.47219, 175.56061 -38.4...</td>\n",
       "    </tr>\n",
       "    <tr>\n",
       "      <th>8</th>\n",
       "      <td>09</td>\n",
       "      <td>Wellington Region</td>\n",
       "      <td>8048.552772</td>\n",
       "      <td>15945.309245</td>\n",
       "      <td>5.791233e+05</td>\n",
       "      <td>POLYGON ((175.17321 -40.71964, 175.17339 -40.7...</td>\n",
       "    </tr>\n",
       "    <tr>\n",
       "      <th>9</th>\n",
       "      <td>12</td>\n",
       "      <td>West Coast Region</td>\n",
       "      <td>23245.455880</td>\n",
       "      <td>36339.585107</td>\n",
       "      <td>1.582115e+06</td>\n",
       "      <td>POLYGON ((172.24186 -40.82628, 172.24228 -40.8...</td>\n",
       "    </tr>\n",
       "    <tr>\n",
       "      <th>10</th>\n",
       "      <td>13</td>\n",
       "      <td>Canterbury Region</td>\n",
       "      <td>44504.499091</td>\n",
       "      <td>56773.869378</td>\n",
       "      <td>1.543746e+06</td>\n",
       "      <td>POLYGON ((173.75028 -41.90886, 173.75145 -41.9...</td>\n",
       "    </tr>\n",
       "    <tr>\n",
       "      <th>11</th>\n",
       "      <td>14</td>\n",
       "      <td>Otago Region</td>\n",
       "      <td>31186.309188</td>\n",
       "      <td>38514.280680</td>\n",
       "      <td>1.277190e+06</td>\n",
       "      <td>POLYGON ((169.67515 -43.95638, 169.67570 -43.9...</td>\n",
       "    </tr>\n",
       "    <tr>\n",
       "      <th>12</th>\n",
       "      <td>15</td>\n",
       "      <td>Southland Region</td>\n",
       "      <td>31196.060355</td>\n",
       "      <td>55238.075883</td>\n",
       "      <td>1.403323e+06</td>\n",
       "      <td>POLYGON ((168.05707 -44.25985, 168.05840 -44.2...</td>\n",
       "    </tr>\n",
       "    <tr>\n",
       "      <th>13</th>\n",
       "      <td>16</td>\n",
       "      <td>Tasman Region</td>\n",
       "      <td>9615.976035</td>\n",
       "      <td>14800.253699</td>\n",
       "      <td>7.594879e+05</td>\n",
       "      <td>POLYGON ((172.73937 -40.30129, 172.74776 -40.3...</td>\n",
       "    </tr>\n",
       "    <tr>\n",
       "      <th>14</th>\n",
       "      <td>17</td>\n",
       "      <td>Nelson Region</td>\n",
       "      <td>422.195242</td>\n",
       "      <td>1234.786256</td>\n",
       "      <td>1.702030e+05</td>\n",
       "      <td>POLYGON ((173.36103 -40.80538, 173.45623 -40.8...</td>\n",
       "    </tr>\n",
       "    <tr>\n",
       "      <th>15</th>\n",
       "      <td>18</td>\n",
       "      <td>Marlborough Region</td>\n",
       "      <td>10457.745485</td>\n",
       "      <td>17688.857278</td>\n",
       "      <td>7.669774e+05</td>\n",
       "      <td>POLYGON ((174.53968 -41.10539, 174.51479 -41.2...</td>\n",
       "    </tr>\n",
       "    <tr>\n",
       "      <th>16</th>\n",
       "      <td>99</td>\n",
       "      <td>Area Outside Region</td>\n",
       "      <td>798.913654</td>\n",
       "      <td>15759.500110</td>\n",
       "      <td>6.641213e+05</td>\n",
       "      <td>MULTIPOLYGON (((-176.37463 -43.55501, -176.361...</td>\n",
       "    </tr>\n",
       "  </tbody>\n",
       "</table>\n",
       "</div>"
      ],
      "text/plain": [
       "   REGC2018_V                REGC2018_1    LAND_AREA_    AREA_SQ_KM  \\\n",
       "0          01          Northland Region  12500.561149  30084.256662   \n",
       "1          02           Auckland Region   4941.572557  16156.610062   \n",
       "2          03            Waikato Region  23900.036383  34888.470369   \n",
       "3          04      Bay of Plenty Region  12071.144689  21883.224262   \n",
       "4          05           Gisborne Region   8385.826619  13989.557664   \n",
       "5          06        Hawke's Bay Region  14137.524441  21444.171650   \n",
       "6          07           Taranaki Region   7254.480433  12696.957587   \n",
       "7          08  Manawatu-Wanganui Region  22220.608387  25322.161773   \n",
       "8          09         Wellington Region   8048.552772  15945.309245   \n",
       "9          12         West Coast Region  23245.455880  36339.585107   \n",
       "10         13         Canterbury Region  44504.499091  56773.869378   \n",
       "11         14              Otago Region  31186.309188  38514.280680   \n",
       "12         15          Southland Region  31196.060355  55238.075883   \n",
       "13         16             Tasman Region   9615.976035  14800.253699   \n",
       "14         17             Nelson Region    422.195242   1234.786256   \n",
       "15         18        Marlborough Region  10457.745485  17688.857278   \n",
       "16         99       Area Outside Region    798.913654  15759.500110   \n",
       "\n",
       "      Shape_Leng                                           geometry  \n",
       "0   8.113957e+05  POLYGON ((173.12963 -34.21388, 173.14448 -34.2...  \n",
       "1   6.596773e+05  POLYGON ((175.08383 -35.69983, 175.09081 -35.7...  \n",
       "2   1.267144e+06  POLYGON ((176.02181 -36.37127, 176.02408 -36.3...  \n",
       "3   1.092236e+06  POLYGON ((176.52044 -37.35487, 176.53142 -37.3...  \n",
       "4   6.944077e+05  POLYGON ((178.23342 -37.33333, 178.24408 -37.3...  \n",
       "5   9.289156e+05  POLYGON ((177.12824 -38.58643, 177.27698 -38.6...  \n",
       "6   5.644504e+05  POLYGON ((174.61657 -38.72090, 174.61692 -38.7...  \n",
       "7   1.176537e+06  POLYGON ((175.54046 -38.47219, 175.56061 -38.4...  \n",
       "8   5.791233e+05  POLYGON ((175.17321 -40.71964, 175.17339 -40.7...  \n",
       "9   1.582115e+06  POLYGON ((172.24186 -40.82628, 172.24228 -40.8...  \n",
       "10  1.543746e+06  POLYGON ((173.75028 -41.90886, 173.75145 -41.9...  \n",
       "11  1.277190e+06  POLYGON ((169.67515 -43.95638, 169.67570 -43.9...  \n",
       "12  1.403323e+06  POLYGON ((168.05707 -44.25985, 168.05840 -44.2...  \n",
       "13  7.594879e+05  POLYGON ((172.73937 -40.30129, 172.74776 -40.3...  \n",
       "14  1.702030e+05  POLYGON ((173.36103 -40.80538, 173.45623 -40.8...  \n",
       "15  7.669774e+05  POLYGON ((174.53968 -41.10539, 174.51479 -41.2...  \n",
       "16  6.641213e+05  MULTIPOLYGON (((-176.37463 -43.55501, -176.361...  "
      ]
     },
     "execution_count": 17,
     "metadata": {},
     "output_type": "execute_result"
    }
   ],
   "source": [
    "nz_regions"
   ]
  },
  {
   "cell_type": "code",
   "execution_count": 18,
   "metadata": {},
   "outputs": [],
   "source": [
    "nz_regions = nz_regions.drop(16, axis=0)"
   ]
  },
  {
   "cell_type": "code",
   "execution_count": 19,
   "metadata": {},
   "outputs": [
    {
     "data": {
      "image/png": "[encoded data removed]",
      "text/plain": [
       "<Figure size 640x480 with 1 Axes>"
      ]
     },
     "metadata": {
      "image/png": {
       "height": 480,
       "width": 640
      }
     },
     "output_type": "display_data"
    }
   ],
   "source": [
    "f, ax = plt.subplots()\n",
    "nz_regions.plot(cmap=plt.cm.Accent, figsize=(10,15), lw=2, edgecolor=\"black\", linewidth=.5, ax=ax)\n",
    "ax.set_title('NZ Regions')\n",
    "ax.set_ylabel('Latitude')\n",
    "ax.set_xlabel('Longitude')\n",
    "f.savefig(HOME / 'research' / 'Smart_Ideas' / 'figures' / 'NZ_15_regions_loc.png', dpi=200, bbox_inches='tight')"
   ]
  },
  {
   "cell_type": "markdown",
   "metadata": {},
   "source": [
    "### sanitize the names "
   ]
  },
  {
   "cell_type": "code",
   "execution_count": 20,
   "metadata": {},
   "outputs": [],
   "source": [
    "nz_regions.loc[:,'REGC2018_1'] = nz_regions.loc[:,'REGC2018_1'].str.replace(' Region','').str.replace(\"'\",'').str.replace(' ','_')"
   ]
  },
  {
   "cell_type": "markdown",
   "metadata": {},
   "source": [
    "### create the output folder if not existing "
   ]
  },
  {
   "cell_type": "code",
   "execution_count": 21,
   "metadata": {},
   "outputs": [],
   "source": [
    "opath_root = HOME / 'research' / 'Smart_Ideas' / 'outputs' / 'targets' / 'NZ_regions' / 'NZ_15_regions'"
   ]
  },
  {
   "cell_type": "code",
   "execution_count": 22,
   "metadata": {},
   "outputs": [],
   "source": [
    "if not opath_root.exists(): \n",
    "    opath_root.mkdir(parents=True)"
   ]
  },
  {
   "cell_type": "markdown",
   "metadata": {},
   "source": [
    "### defines the number of quantiles we want "
   ]
  },
  {
   "cell_type": "code",
   "execution_count": 23,
   "metadata": {},
   "outputs": [],
   "source": [
    "num_quantiles = 3"
   ]
  },
  {
   "cell_type": "code",
   "execution_count": 24,
   "metadata": {},
   "outputs": [],
   "source": [
    "quant_values = np.linspace(0, 1, num_quantiles + 1, endpoint=True)"
   ]
  },
  {
   "cell_type": "code",
   "execution_count": 25,
   "metadata": {},
   "outputs": [],
   "source": [
    "quant_values = quant_values[1:-1]"
   ]
  },
  {
   "cell_type": "code",
   "execution_count": 26,
   "metadata": {},
   "outputs": [
    {
     "data": {
      "text/plain": [
       "array([0.33333333, 0.66666667])"
      ]
     },
     "execution_count": 26,
     "metadata": {},
     "output_type": "execute_result"
    }
   ],
   "source": [
    "quant_values"
   ]
  },
  {
   "cell_type": "code",
   "execution_count": 27,
   "metadata": {},
   "outputs": [],
   "source": [
    "col_labs = [f\"Q{int(x)}\" for x in (quant_values*100)]"
   ]
  },
  {
   "cell_type": "code",
   "execution_count": 28,
   "metadata": {},
   "outputs": [
    {
     "data": {
      "text/plain": [
       "['Q33', 'Q66']"
      ]
     },
     "execution_count": 28,
     "metadata": {},
     "output_type": "execute_result"
    }
   ],
   "source": [
    "col_labs"
   ]
  },
  {
   "cell_type": "code",
   "execution_count": 29,
   "metadata": {},
   "outputs": [
    {
     "name": "stdout",
     "output_type": "stream",
     "text": [
      "region Northland processed for variable RAD\n",
      "region Auckland processed for variable RAD\n",
      "region Waikato processed for variable RAD\n",
      "region Bay_of_Plenty processed for variable RAD\n",
      "region Gisborne processed for variable RAD\n",
      "region Hawkes_Bay processed for variable RAD\n",
      "region Taranaki processed for variable RAD\n",
      "region Manawatu-Wanganui processed for variable RAD\n",
      "region Wellington processed for variable RAD\n",
      "region West_Coast processed for variable RAD\n",
      "region Canterbury processed for variable RAD\n",
      "region Otago processed for variable RAD\n",
      "region Southland processed for variable RAD\n",
      "region Tasman processed for variable RAD\n",
      "region Nelson processed for variable RAD\n",
      "region Marlborough processed for variable RAD\n"
     ]
    }
   ],
   "source": [
    "# f, axes = plt.subplots(nrows=3, ncols=2)\n",
    "# axes = axes.flatten()\n",
    "\n",
    "quantiles_dict = {}\n",
    "\n",
    "for i, region_name in enumerate(nz_regions.loc[:,'REGC2018_1']): \n",
    "    \n",
    "    shape = nz_regions.query(f\"REGC2018_1 == '{region_name}'\")\n",
    "    \n",
    "    region = dset.salem.subset(shape=shape)\n",
    "\n",
    "    region = region.salem.roi(shape=shape, all_touched=True)\n",
    "    \n",
    "#     region[var_name].isel(time=0).plot(ax=axes[i])\n",
    "    \n",
    "    ts = region.mean(dim=['lat','lon'])\n",
    "    \n",
    "    ts_df = ts[var_name].to_dataframe()\n",
    "            \n",
    "    ts_series = ts_df.loc[:,var_name]\n",
    "    \n",
    "    ts_series_cat = []\n",
    "    \n",
    "    quantiles_list = []\n",
    "    \n",
    "    for month in range(1, 13):\n",
    "        \n",
    "        ts_series_m = ts_series[ts_series.index.month == month]\n",
    "        \n",
    "        clim = ts_series_m.loc['1981':'2010']\n",
    "        \n",
    "        quantiles = [clim.quantile(q=q) for q in quant_values.tolist()]\n",
    "        \n",
    "        quantiles_list.append(quantiles.copy())\n",
    "        \n",
    "        quantiles.insert(0, -np.inf)\n",
    "        \n",
    "        quantiles.append(np.inf)\n",
    "        \n",
    "        ts_series_m_cats = pd.cut(ts_series_m, quantiles, labels=list(range(1, num_quantiles + 1)))\n",
    "        \n",
    "        ts_series_cat.append(ts_series_m_cats)\n",
    "        \n",
    "        del(quantiles)\n",
    "     \n",
    "    quantiles_dict[region_name]  = np.array(quantiles_list)\n",
    "    \n",
    "    ts_series_cat = pd.concat(ts_series_cat, axis=0)\n",
    "    \n",
    "    ts_series_cat = ts_series_cat.sort_index()\n",
    "    \n",
    "    ts_df.loc[:,f'cat_{num_quantiles}'] = ts_series_cat\n",
    "    \n",
    "    ts_df.loc[:,'anomalies'] = ts_df.loc[:,var_name].groupby(ts_df.index.month).apply(demean)\n",
    "    \n",
    "    opath = opath_root / big_var / region_name \n",
    "    \n",
    "    if not opath.exists(): \n",
    "        opath.mkdir(parents=True)\n",
    "        \n",
    "    ts_df.to_csv(opath / f'TS_NZ_region_{region_name}_{big_var}_{num_quantiles}_quantiles_anoms.csv')\n",
    "    \n",
    "    #descriptive statistics per quantile category \n",
    "    \n",
    "    ts_df.groupby(ts_df.loc[:,f'cat_{num_quantiles}']).describe().to_csv(opath / f'descriptive_stats_{region_name}__{big_var}_{num_quantiles}.csv')\n",
    "    \n",
    "    print(f\"region {region_name} processed for variable {big_var}\")\n",
    "    "
   ]
  },
  {
   "cell_type": "markdown",
   "metadata": {},
   "source": [
    "### saves the climatological terciles calculated from the VCSN regional aggregates"
   ]
  },
  {
   "cell_type": "code",
   "execution_count": 30,
   "metadata": {},
   "outputs": [],
   "source": [
    "quantiles_list = []\n",
    "for region_name in nz_regions.loc[:,'REGC2018_1']: \n",
    "    df = pd.DataFrame(quantiles_dict[region_name])\n",
    "    df.index = range(1, 13)\n",
    "    df.index.name = 'season'\n",
    "    df.columns = pd.MultiIndex.from_product([[region_name],col_labs])\n",
    "    quantiles_list.append(df)"
   ]
  },
  {
   "cell_type": "code",
   "execution_count": 31,
   "metadata": {},
   "outputs": [],
   "source": [
    "quantiles_df = pd.concat(quantiles_list, axis=1)"
   ]
  },
  {
   "cell_type": "code",
   "execution_count": 32,
   "metadata": {},
   "outputs": [
    {
     "data": {
      "text/html": [
       "<div>\n",
       "<style scoped>\n",
       "    .dataframe tbody tr th:only-of-type {\n",
       "        vertical-align: middle;\n",
       "    }\n",
       "\n",
       "    .dataframe tbody tr th {\n",
       "        vertical-align: top;\n",
       "    }\n",
       "\n",
       "    .dataframe thead tr th {\n",
       "        text-align: left;\n",
       "    }\n",
       "\n",
       "    .dataframe thead tr:last-of-type th {\n",
       "        text-align: right;\n",
       "    }\n",
       "</style>\n",
       "<table border=\"1\" class=\"dataframe\">\n",
       "  <thead>\n",
       "    <tr>\n",
       "      <th></th>\n",
       "      <th colspan=\"2\" halign=\"left\">Northland</th>\n",
       "      <th colspan=\"2\" halign=\"left\">Auckland</th>\n",
       "      <th colspan=\"2\" halign=\"left\">Waikato</th>\n",
       "      <th colspan=\"2\" halign=\"left\">Bay_of_Plenty</th>\n",
       "      <th colspan=\"2\" halign=\"left\">Gisborne</th>\n",
       "      <th>...</th>\n",
       "      <th colspan=\"2\" halign=\"left\">Otago</th>\n",
       "      <th colspan=\"2\" halign=\"left\">Southland</th>\n",
       "      <th colspan=\"2\" halign=\"left\">Tasman</th>\n",
       "      <th colspan=\"2\" halign=\"left\">Nelson</th>\n",
       "      <th colspan=\"2\" halign=\"left\">Marlborough</th>\n",
       "    </tr>\n",
       "    <tr>\n",
       "      <th></th>\n",
       "      <th>Q33</th>\n",
       "      <th>Q66</th>\n",
       "      <th>Q33</th>\n",
       "      <th>Q66</th>\n",
       "      <th>Q33</th>\n",
       "      <th>Q66</th>\n",
       "      <th>Q33</th>\n",
       "      <th>Q66</th>\n",
       "      <th>Q33</th>\n",
       "      <th>Q66</th>\n",
       "      <th>...</th>\n",
       "      <th>Q33</th>\n",
       "      <th>Q66</th>\n",
       "      <th>Q33</th>\n",
       "      <th>Q66</th>\n",
       "      <th>Q33</th>\n",
       "      <th>Q66</th>\n",
       "      <th>Q33</th>\n",
       "      <th>Q66</th>\n",
       "      <th>Q33</th>\n",
       "      <th>Q66</th>\n",
       "    </tr>\n",
       "    <tr>\n",
       "      <th>season</th>\n",
       "      <th></th>\n",
       "      <th></th>\n",
       "      <th></th>\n",
       "      <th></th>\n",
       "      <th></th>\n",
       "      <th></th>\n",
       "      <th></th>\n",
       "      <th></th>\n",
       "      <th></th>\n",
       "      <th></th>\n",
       "      <th></th>\n",
       "      <th></th>\n",
       "      <th></th>\n",
       "      <th></th>\n",
       "      <th></th>\n",
       "      <th></th>\n",
       "      <th></th>\n",
       "      <th></th>\n",
       "      <th></th>\n",
       "      <th></th>\n",
       "      <th></th>\n",
       "    </tr>\n",
       "  </thead>\n",
       "  <tbody>\n",
       "    <tr>\n",
       "      <th>1</th>\n",
       "      <td>20.663740</td>\n",
       "      <td>21.212656</td>\n",
       "      <td>20.256165</td>\n",
       "      <td>21.845097</td>\n",
       "      <td>20.425301</td>\n",
       "      <td>21.600550</td>\n",
       "      <td>21.016595</td>\n",
       "      <td>22.012252</td>\n",
       "      <td>21.290071</td>\n",
       "      <td>22.261552</td>\n",
       "      <td>...</td>\n",
       "      <td>20.670685</td>\n",
       "      <td>21.514597</td>\n",
       "      <td>19.655592</td>\n",
       "      <td>20.442887</td>\n",
       "      <td>21.210806</td>\n",
       "      <td>22.263376</td>\n",
       "      <td>22.746648</td>\n",
       "      <td>23.706495</td>\n",
       "      <td>21.806316</td>\n",
       "      <td>23.021129</td>\n",
       "    </tr>\n",
       "    <tr>\n",
       "      <th>2</th>\n",
       "      <td>20.294603</td>\n",
       "      <td>20.724896</td>\n",
       "      <td>20.113982</td>\n",
       "      <td>21.296532</td>\n",
       "      <td>20.425835</td>\n",
       "      <td>21.377016</td>\n",
       "      <td>20.874964</td>\n",
       "      <td>21.582768</td>\n",
       "      <td>20.825593</td>\n",
       "      <td>21.612813</td>\n",
       "      <td>...</td>\n",
       "      <td>19.887439</td>\n",
       "      <td>21.017526</td>\n",
       "      <td>19.295348</td>\n",
       "      <td>19.933071</td>\n",
       "      <td>20.902102</td>\n",
       "      <td>21.792567</td>\n",
       "      <td>22.391750</td>\n",
       "      <td>23.310298</td>\n",
       "      <td>21.306169</td>\n",
       "      <td>22.193503</td>\n",
       "    </tr>\n",
       "    <tr>\n",
       "      <th>3</th>\n",
       "      <td>18.334375</td>\n",
       "      <td>19.025963</td>\n",
       "      <td>18.551103</td>\n",
       "      <td>19.508163</td>\n",
       "      <td>18.534392</td>\n",
       "      <td>19.188385</td>\n",
       "      <td>18.715515</td>\n",
       "      <td>19.418105</td>\n",
       "      <td>18.713831</td>\n",
       "      <td>19.170557</td>\n",
       "      <td>...</td>\n",
       "      <td>17.728924</td>\n",
       "      <td>18.197092</td>\n",
       "      <td>16.615007</td>\n",
       "      <td>17.075652</td>\n",
       "      <td>18.863827</td>\n",
       "      <td>19.726140</td>\n",
       "      <td>20.274391</td>\n",
       "      <td>20.907864</td>\n",
       "      <td>19.334546</td>\n",
       "      <td>19.949252</td>\n",
       "    </tr>\n",
       "    <tr>\n",
       "      <th>4</th>\n",
       "      <td>15.006131</td>\n",
       "      <td>15.563398</td>\n",
       "      <td>15.065487</td>\n",
       "      <td>16.040138</td>\n",
       "      <td>15.195916</td>\n",
       "      <td>15.534124</td>\n",
       "      <td>15.340539</td>\n",
       "      <td>15.789159</td>\n",
       "      <td>14.969428</td>\n",
       "      <td>15.716033</td>\n",
       "      <td>...</td>\n",
       "      <td>13.890374</td>\n",
       "      <td>14.253225</td>\n",
       "      <td>12.607570</td>\n",
       "      <td>13.056404</td>\n",
       "      <td>14.982872</td>\n",
       "      <td>15.862038</td>\n",
       "      <td>16.191015</td>\n",
       "      <td>16.758325</td>\n",
       "      <td>15.355144</td>\n",
       "      <td>15.843859</td>\n",
       "    </tr>\n",
       "    <tr>\n",
       "      <th>5</th>\n",
       "      <td>11.393145</td>\n",
       "      <td>11.970681</td>\n",
       "      <td>11.407900</td>\n",
       "      <td>12.284566</td>\n",
       "      <td>11.208754</td>\n",
       "      <td>11.821025</td>\n",
       "      <td>11.454709</td>\n",
       "      <td>11.886972</td>\n",
       "      <td>11.239604</td>\n",
       "      <td>11.590638</td>\n",
       "      <td>...</td>\n",
       "      <td>9.634496</td>\n",
       "      <td>9.825296</td>\n",
       "      <td>8.415422</td>\n",
       "      <td>8.821983</td>\n",
       "      <td>10.960980</td>\n",
       "      <td>11.461281</td>\n",
       "      <td>11.754322</td>\n",
       "      <td>12.233068</td>\n",
       "      <td>11.236248</td>\n",
       "      <td>11.538609</td>\n",
       "    </tr>\n",
       "    <tr>\n",
       "      <th>6</th>\n",
       "      <td>8.799880</td>\n",
       "      <td>9.036213</td>\n",
       "      <td>8.446227</td>\n",
       "      <td>8.982111</td>\n",
       "      <td>8.151418</td>\n",
       "      <td>8.641281</td>\n",
       "      <td>8.299115</td>\n",
       "      <td>8.572105</td>\n",
       "      <td>8.179131</td>\n",
       "      <td>8.405870</td>\n",
       "      <td>...</td>\n",
       "      <td>6.383074</td>\n",
       "      <td>6.489532</td>\n",
       "      <td>5.458513</td>\n",
       "      <td>5.648472</td>\n",
       "      <td>7.504269</td>\n",
       "      <td>7.880965</td>\n",
       "      <td>8.109907</td>\n",
       "      <td>8.624740</td>\n",
       "      <td>7.745591</td>\n",
       "      <td>8.011283</td>\n",
       "    </tr>\n",
       "    <tr>\n",
       "      <th>7</th>\n",
       "      <td>7.495414</td>\n",
       "      <td>7.890550</td>\n",
       "      <td>7.066766</td>\n",
       "      <td>7.665736</td>\n",
       "      <td>6.703756</td>\n",
       "      <td>7.093990</td>\n",
       "      <td>6.870430</td>\n",
       "      <td>7.130850</td>\n",
       "      <td>6.787816</td>\n",
       "      <td>6.952111</td>\n",
       "      <td>...</td>\n",
       "      <td>4.944306</td>\n",
       "      <td>5.099302</td>\n",
       "      <td>4.148327</td>\n",
       "      <td>4.320745</td>\n",
       "      <td>6.116240</td>\n",
       "      <td>6.362116</td>\n",
       "      <td>6.635980</td>\n",
       "      <td>6.849969</td>\n",
       "      <td>6.189628</td>\n",
       "      <td>6.402336</td>\n",
       "    </tr>\n",
       "    <tr>\n",
       "      <th>8</th>\n",
       "      <td>8.005472</td>\n",
       "      <td>8.519393</td>\n",
       "      <td>7.728579</td>\n",
       "      <td>8.179217</td>\n",
       "      <td>7.090238</td>\n",
       "      <td>7.595303</td>\n",
       "      <td>7.365745</td>\n",
       "      <td>7.767720</td>\n",
       "      <td>7.389165</td>\n",
       "      <td>7.648497</td>\n",
       "      <td>...</td>\n",
       "      <td>5.601068</td>\n",
       "      <td>5.865881</td>\n",
       "      <td>4.862988</td>\n",
       "      <td>5.014584</td>\n",
       "      <td>6.624614</td>\n",
       "      <td>6.851734</td>\n",
       "      <td>7.205447</td>\n",
       "      <td>7.450462</td>\n",
       "      <td>6.805579</td>\n",
       "      <td>7.007786</td>\n",
       "    </tr>\n",
       "    <tr>\n",
       "      <th>9</th>\n",
       "      <td>10.172037</td>\n",
       "      <td>10.695267</td>\n",
       "      <td>9.982872</td>\n",
       "      <td>10.363734</td>\n",
       "      <td>9.389730</td>\n",
       "      <td>9.762944</td>\n",
       "      <td>9.587890</td>\n",
       "      <td>9.982694</td>\n",
       "      <td>9.763315</td>\n",
       "      <td>10.150956</td>\n",
       "      <td>...</td>\n",
       "      <td>8.067242</td>\n",
       "      <td>8.351364</td>\n",
       "      <td>7.117991</td>\n",
       "      <td>7.480218</td>\n",
       "      <td>8.945806</td>\n",
       "      <td>9.371010</td>\n",
       "      <td>9.682940</td>\n",
       "      <td>10.148777</td>\n",
       "      <td>9.339270</td>\n",
       "      <td>9.736640</td>\n",
       "    </tr>\n",
       "    <tr>\n",
       "      <th>10</th>\n",
       "      <td>13.196326</td>\n",
       "      <td>13.859008</td>\n",
       "      <td>13.161588</td>\n",
       "      <td>13.556023</td>\n",
       "      <td>12.339401</td>\n",
       "      <td>13.039823</td>\n",
       "      <td>12.847550</td>\n",
       "      <td>13.457895</td>\n",
       "      <td>13.408261</td>\n",
       "      <td>13.971033</td>\n",
       "      <td>...</td>\n",
       "      <td>11.820824</td>\n",
       "      <td>12.268029</td>\n",
       "      <td>10.876968</td>\n",
       "      <td>11.140249</td>\n",
       "      <td>12.443883</td>\n",
       "      <td>13.015925</td>\n",
       "      <td>13.260604</td>\n",
       "      <td>13.917602</td>\n",
       "      <td>12.925198</td>\n",
       "      <td>13.554457</td>\n",
       "    </tr>\n",
       "    <tr>\n",
       "      <th>11</th>\n",
       "      <td>16.488030</td>\n",
       "      <td>17.035614</td>\n",
       "      <td>16.281458</td>\n",
       "      <td>16.913227</td>\n",
       "      <td>15.787821</td>\n",
       "      <td>16.593228</td>\n",
       "      <td>16.440711</td>\n",
       "      <td>17.136329</td>\n",
       "      <td>16.931250</td>\n",
       "      <td>17.574852</td>\n",
       "      <td>...</td>\n",
       "      <td>15.893635</td>\n",
       "      <td>16.476806</td>\n",
       "      <td>14.874270</td>\n",
       "      <td>15.404490</td>\n",
       "      <td>16.340142</td>\n",
       "      <td>17.253926</td>\n",
       "      <td>17.258240</td>\n",
       "      <td>18.339731</td>\n",
       "      <td>16.935819</td>\n",
       "      <td>17.589680</td>\n",
       "    </tr>\n",
       "    <tr>\n",
       "      <th>12</th>\n",
       "      <td>19.134734</td>\n",
       "      <td>19.657450</td>\n",
       "      <td>18.888810</td>\n",
       "      <td>19.766438</td>\n",
       "      <td>18.589451</td>\n",
       "      <td>19.755868</td>\n",
       "      <td>19.322119</td>\n",
       "      <td>20.119337</td>\n",
       "      <td>19.821763</td>\n",
       "      <td>20.676162</td>\n",
       "      <td>...</td>\n",
       "      <td>18.982730</td>\n",
       "      <td>19.697474</td>\n",
       "      <td>18.202669</td>\n",
       "      <td>18.680025</td>\n",
       "      <td>19.385308</td>\n",
       "      <td>20.196238</td>\n",
       "      <td>20.562019</td>\n",
       "      <td>21.827962</td>\n",
       "      <td>19.905570</td>\n",
       "      <td>20.589634</td>\n",
       "    </tr>\n",
       "  </tbody>\n",
       "</table>\n",
       "<p>12 rows × 32 columns</p>\n",
       "</div>"
      ],
      "text/plain": [
       "        Northland              Auckland               Waikato             \\\n",
       "              Q33        Q66        Q33        Q66        Q33        Q66   \n",
       "season                                                                     \n",
       "1       20.663740  21.212656  20.256165  21.845097  20.425301  21.600550   \n",
       "2       20.294603  20.724896  20.113982  21.296532  20.425835  21.377016   \n",
       "3       18.334375  19.025963  18.551103  19.508163  18.534392  19.188385   \n",
       "4       15.006131  15.563398  15.065487  16.040138  15.195916  15.534124   \n",
       "5       11.393145  11.970681  11.407900  12.284566  11.208754  11.821025   \n",
       "6        8.799880   9.036213   8.446227   8.982111   8.151418   8.641281   \n",
       "7        7.495414   7.890550   7.066766   7.665736   6.703756   7.093990   \n",
       "8        8.005472   8.519393   7.728579   8.179217   7.090238   7.595303   \n",
       "9       10.172037  10.695267   9.982872  10.363734   9.389730   9.762944   \n",
       "10      13.196326  13.859008  13.161588  13.556023  12.339401  13.039823   \n",
       "11      16.488030  17.035614  16.281458  16.913227  15.787821  16.593228   \n",
       "12      19.134734  19.657450  18.888810  19.766438  18.589451  19.755868   \n",
       "\n",
       "       Bay_of_Plenty              Gisborne             ...      Otago  \\\n",
       "                 Q33        Q66        Q33        Q66  ...        Q33   \n",
       "season                                                 ...              \n",
       "1          21.016595  22.012252  21.290071  22.261552  ...  20.670685   \n",
       "2          20.874964  21.582768  20.825593  21.612813  ...  19.887439   \n",
       "3          18.715515  19.418105  18.713831  19.170557  ...  17.728924   \n",
       "4          15.340539  15.789159  14.969428  15.716033  ...  13.890374   \n",
       "5          11.454709  11.886972  11.239604  11.590638  ...   9.634496   \n",
       "6           8.299115   8.572105   8.179131   8.405870  ...   6.383074   \n",
       "7           6.870430   7.130850   6.787816   6.952111  ...   4.944306   \n",
       "8           7.365745   7.767720   7.389165   7.648497  ...   5.601068   \n",
       "9           9.587890   9.982694   9.763315  10.150956  ...   8.067242   \n",
       "10         12.847550  13.457895  13.408261  13.971033  ...  11.820824   \n",
       "11         16.440711  17.136329  16.931250  17.574852  ...  15.893635   \n",
       "12         19.322119  20.119337  19.821763  20.676162  ...  18.982730   \n",
       "\n",
       "                   Southland                Tasman                Nelson  \\\n",
       "              Q66        Q33        Q66        Q33        Q66        Q33   \n",
       "season                                                                     \n",
       "1       21.514597  19.655592  20.442887  21.210806  22.263376  22.746648   \n",
       "2       21.017526  19.295348  19.933071  20.902102  21.792567  22.391750   \n",
       "3       18.197092  16.615007  17.075652  18.863827  19.726140  20.274391   \n",
       "4       14.253225  12.607570  13.056404  14.982872  15.862038  16.191015   \n",
       "5        9.825296   8.415422   8.821983  10.960980  11.461281  11.754322   \n",
       "6        6.489532   5.458513   5.648472   7.504269   7.880965   8.109907   \n",
       "7        5.099302   4.148327   4.320745   6.116240   6.362116   6.635980   \n",
       "8        5.865881   4.862988   5.014584   6.624614   6.851734   7.205447   \n",
       "9        8.351364   7.117991   7.480218   8.945806   9.371010   9.682940   \n",
       "10      12.268029  10.876968  11.140249  12.443883  13.015925  13.260604   \n",
       "11      16.476806  14.874270  15.404490  16.340142  17.253926  17.258240   \n",
       "12      19.697474  18.202669  18.680025  19.385308  20.196238  20.562019   \n",
       "\n",
       "                  Marlborough             \n",
       "              Q66         Q33        Q66  \n",
       "season                                    \n",
       "1       23.706495   21.806316  23.021129  \n",
       "2       23.310298   21.306169  22.193503  \n",
       "3       20.907864   19.334546  19.949252  \n",
       "4       16.758325   15.355144  15.843859  \n",
       "5       12.233068   11.236248  11.538609  \n",
       "6        8.624740    7.745591   8.011283  \n",
       "7        6.849969    6.189628   6.402336  \n",
       "8        7.450462    6.805579   7.007786  \n",
       "9       10.148777    9.339270   9.736640  \n",
       "10      13.917602   12.925198  13.554457  \n",
       "11      18.339731   16.935819  17.589680  \n",
       "12      21.827962   19.905570  20.589634  \n",
       "\n",
       "[12 rows x 32 columns]"
      ]
     },
     "execution_count": 32,
     "metadata": {},
     "output_type": "execute_result"
    }
   ],
   "source": [
    "quantiles_df"
   ]
  },
  {
   "cell_type": "code",
   "execution_count": 33,
   "metadata": {},
   "outputs": [],
   "source": [
    "quantiles_df.to_csv(opath.parent / f'Climatological_quantiles_{num_quantiles}_cat_{big_var}.csv')"
   ]
  }
 ],
 "metadata": {
  "kernelspec": {
   "display_name": "Python 3",
   "language": "python",
   "name": "python3"
  },
  "language_info": {
   "codemirror_mode": {
    "name": "ipython",
    "version": 3
   },
   "file_extension": ".py",
   "mimetype": "text/x-python",
   "name": "python",
   "nbconvert_exporter": "python",
   "pygments_lexer": "ipython3",
   "version": "3.7.5"
  },
  "latex_envs": {
   "bibliofile": "biblio.bib",
   "cite_by": "apalike",
   "current_citInitial": 1,
   "eqLabelWithNumbers": true,
   "eqNumInitial": 0
  }
 },
 "nbformat": 4,
 "nbformat_minor": 4
}
