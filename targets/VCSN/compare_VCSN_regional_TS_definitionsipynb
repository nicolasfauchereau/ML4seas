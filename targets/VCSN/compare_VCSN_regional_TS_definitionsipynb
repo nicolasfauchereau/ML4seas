{
 "cells": [
  {
   "cell_type": "markdown",
   "metadata": {},
   "source": [
    "## compare the time series of tercile categories derived from the gridded VCSN according to the 2 methods below: \n",
    "\n",
    "\n",
    "1) regional averages, then calculation of climatological terciles, then attribution to category   \n",
    "2) calculation of the tercile categories for each grid point in the region, then calculation of the tercile category for the region is the mode (most frequent category)  "
   ]
  },
  {
   "cell_type": "markdown",
   "metadata": {},
   "source": [
    "### choose the variable name here "
   ]
  },
  {
   "cell_type": "code",
   "execution_count": 302,
   "metadata": {},
   "outputs": [],
   "source": [
    "var_name = 'TMEAN'"
   ]
  },
  {
   "cell_type": "markdown",
   "metadata": {},
   "source": [
    "### imports "
   ]
  },
  {
   "cell_type": "code",
   "execution_count": 303,
   "metadata": {},
   "outputs": [],
   "source": [
    "import pathlib\n",
    "import sys"
   ]
  },
  {
   "cell_type": "code",
   "execution_count": 304,
   "metadata": {},
   "outputs": [],
   "source": [
    "%matplotlib inline"
   ]
  },
  {
   "cell_type": "code",
   "execution_count": 305,
   "metadata": {},
   "outputs": [],
   "source": [
    "from matplotlib import pyplot as plt"
   ]
  },
  {
   "cell_type": "code",
   "execution_count": 306,
   "metadata": {},
   "outputs": [],
   "source": [
    "import numpy as np"
   ]
  },
  {
   "cell_type": "code",
   "execution_count": 307,
   "metadata": {},
   "outputs": [],
   "source": [
    "import pandas as pd\n",
    "import seaborn as sns"
   ]
  },
  {
   "cell_type": "markdown",
   "metadata": {},
   "source": [
    "### reads the data (csv from probs.lst file)"
   ]
  },
  {
   "cell_type": "code",
   "execution_count": 308,
   "metadata": {},
   "outputs": [],
   "source": [
    "HOME = pathlib.Path.home()"
   ]
  },
  {
   "cell_type": "code",
   "execution_count": 309,
   "metadata": {},
   "outputs": [],
   "source": [
    "target_path_freq=  HOME  / 'research' / 'Smart_Ideas' / 'outputs' / 'targets' / 'NZ_regions' / 'NZ_6_regions' / 'CLIOPS' / var_name \n",
    "target_path_ave =  HOME  / 'research' / 'Smart_Ideas' / 'outputs' / 'targets' / 'NZ_regions' / 'NZ_6_regions' / var_name"
   ]
  },
  {
   "cell_type": "code",
   "execution_count": 310,
   "metadata": {},
   "outputs": [],
   "source": [
    "regions = ['NNI','WNI','ENI','NSI','WSI','ESI']"
   ]
  },
  {
   "cell_type": "markdown",
   "metadata": {},
   "source": [
    "### selects the region here "
   ]
  },
  {
   "cell_type": "code",
   "execution_count": 311,
   "metadata": {},
   "outputs": [],
   "source": [
    "matches = {}\n",
    "disprecancies_dict = {}\n",
    "\n",
    "\n",
    "for region_name in regions: \n",
    "    \n",
    "    vcsn_freq = pd.read_csv(target_path_freq.joinpath(f'{region_name}/TS_NZ_region_{region_name}_{var_name}_3_quantiles_anoms_cliops.csv'), parse_dates=True, index_col=0)\n",
    "    vcsn_ave = pd.read_csv(target_path_ave.joinpath(f'{region_name}/TS_NZ_region_{region_name}_{var_name}_3_quantiles_anoms.csv'), parse_dates=True, index_col=0)\n",
    "    \n",
    "    match_fraction = (vcsn_ave.cat_3 == vcsn_freq.cat_3).sum() / len(vcsn_ave)\n",
    "    \n",
    "    matches[region_name] = match_fraction\n",
    "    \n",
    "    disprecancies_freq = vcsn_freq.loc[vcsn_ave.cat_3 != vcsn_freq.cat_3,['1','2','3','cat_3']]\n",
    "    disprecancies_ave = vcsn_ave.loc[vcsn_ave.cat_3 != vcsn_freq.cat_3,['cat_3']]\n",
    "    disprecancies_ave.columns = ['cat_3_ave']\n",
    "    disprecancies_freq.loc[:,'cat_3_ave'] = disprecancies_ave\n",
    "    \n",
    "    freq = [] \n",
    "    ave = [] \n",
    "    for i, row in disprecancies_freq.iterrows(): \n",
    "        freq.append(row.loc[['1','2','3']].rank().iloc[int(row.cat_3) - 1])\n",
    "        ave.append(row.loc[['1','2','3']].rank().iloc[int(row.cat_3_ave) - 1])\n",
    "    \n",
    "    freq = np.array(freq)\n",
    "    ave = np.array(ave)\n",
    "    \n",
    "    disprecancies_dict[region_name] = pd.value_counts(ave) / len(ave)"
   ]
  },
  {
   "cell_type": "code",
   "execution_count": 312,
   "metadata": {},
   "outputs": [
    {
     "data": {
      "text/html": [
       "<div>\n",
       "<style scoped>\n",
       "    .dataframe tbody tr th:only-of-type {\n",
       "        vertical-align: middle;\n",
       "    }\n",
       "\n",
       "    .dataframe tbody tr th {\n",
       "        vertical-align: top;\n",
       "    }\n",
       "\n",
       "    .dataframe thead th {\n",
       "        text-align: right;\n",
       "    }\n",
       "</style>\n",
       "<table border=\"1\" class=\"dataframe\">\n",
       "  <thead>\n",
       "    <tr style=\"text-align: right;\">\n",
       "      <th></th>\n",
       "      <th>NNI</th>\n",
       "      <th>WNI</th>\n",
       "      <th>ENI</th>\n",
       "      <th>NSI</th>\n",
       "      <th>WSI</th>\n",
       "      <th>ESI</th>\n",
       "    </tr>\n",
       "  </thead>\n",
       "  <tbody>\n",
       "    <tr>\n",
       "      <th>1.0</th>\n",
       "      <td>NaN</td>\n",
       "      <td>NaN</td>\n",
       "      <td>NaN</td>\n",
       "      <td>6.25</td>\n",
       "      <td>3.846154</td>\n",
       "      <td>NaN</td>\n",
       "    </tr>\n",
       "    <tr>\n",
       "      <th>2.0</th>\n",
       "      <td>100.0</td>\n",
       "      <td>100.0</td>\n",
       "      <td>100.0</td>\n",
       "      <td>93.75</td>\n",
       "      <td>96.153846</td>\n",
       "      <td>100.0</td>\n",
       "    </tr>\n",
       "  </tbody>\n",
       "</table>\n",
       "</div>"
      ],
      "text/plain": [
       "       NNI    WNI    ENI    NSI        WSI    ESI\n",
       "1.0    NaN    NaN    NaN   6.25   3.846154    NaN\n",
       "2.0  100.0  100.0  100.0  93.75  96.153846  100.0"
      ]
     },
     "execution_count": 312,
     "metadata": {},
     "output_type": "execute_result"
    }
   ],
   "source": [
    "pd.DataFrame(disprecancies_dict) * 100"
   ]
  },
  {
   "cell_type": "code",
   "execution_count": 313,
   "metadata": {},
   "outputs": [
    {
     "data": {
      "text/plain": [
       "NNI    0.951020\n",
       "WNI    0.953061\n",
       "ENI    0.946939\n",
       "NSI    0.934694\n",
       "WSI    0.946939\n",
       "ESI    0.963265\n",
       "dtype: float64"
      ]
     },
     "execution_count": 313,
     "metadata": {},
     "output_type": "execute_result"
    }
   ],
   "source": [
    "pd.Series(matches)"
   ]
  },
  {
   "cell_type": "code",
   "execution_count": null,
   "metadata": {},
   "outputs": [],
   "source": []
  }
 ],
 "metadata": {
  "anaconda-cloud": {},
  "kernelspec": {
   "display_name": "Python 3",
   "language": "python",
   "name": "python3"
  },
  "language_info": {
   "codemirror_mode": {
    "name": "ipython",
    "version": 3
   },
   "file_extension": ".py",
   "mimetype": "text/x-python",
   "name": "python",
   "nbconvert_exporter": "python",
   "pygments_lexer": "ipython3",
   "version": "3.7.6"
  },
  "latex_envs": {
   "LaTeX_envs_menu_present": true,
   "autocomplete": true,
   "bibliofile": "biblio.bib",
   "cite_by": "apalike",
   "current_citInitial": 1,
   "eqLabelWithNumbers": true,
   "eqNumInitial": 0,
   "hotkeys": {
    "equation": "Ctrl-E",
    "itemize": "Ctrl-I"
   },
   "labels_anchors": false,
   "latex_user_defs": false,
   "report_style_numbering": false,
   "user_envs_cfg": false
  },
  "nav_menu": {},
  "toc": {
   "colors": {
    "hover_highlight": "#DAA520",
    "running_highlight": "#FF0000",
    "selected_highlight": "#FFD700"
   },
   "moveMenuLeft": true,
   "nav_menu": {
    "height": "248px",
    "width": "252px"
   },
   "navigate_menu": true,
   "number_sections": true,
   "sideBar": true,
   "threshold": 4,
   "toc_cell": false,
   "toc_section_display": "block",
   "toc_window_display": false,
   "widenNotebook": false
  }
 },
 "nbformat": 4,
 "nbformat_minor": 4
}
