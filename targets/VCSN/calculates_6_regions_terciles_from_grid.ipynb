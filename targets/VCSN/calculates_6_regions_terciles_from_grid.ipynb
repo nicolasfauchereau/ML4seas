{
 "cells": [
  {
   "cell_type": "markdown",
   "metadata": {},
   "source": [
    "# calculates the seasonal anomalies and the seasonal tercile categories from the gridded VCSN monthly files, using the NZ 6 regions shapefiles "
   ]
  },
  {
   "cell_type": "code",
   "execution_count": 1,
   "metadata": {},
   "outputs": [],
   "source": [
    "# Paramaters \n",
    "\n",
    "var_name = 'Tmax_N'"
   ]
  },
  {
   "cell_type": "code",
   "execution_count": 2,
   "metadata": {},
   "outputs": [],
   "source": [
    "import os\n",
    "import sys\n",
    "import pathlib"
   ]
  },
  {
   "cell_type": "code",
   "execution_count": 3,
   "metadata": {
    "collapsed": false,
    "jupyter": {
     "outputs_hidden": false
    }
   },
   "outputs": [],
   "source": [
    "%matplotlib inline\n",
    "from matplotlib import pyplot as plt\n",
    "\n",
    "import numpy as np\n",
    "import pandas as pd\n",
    "from scipy.spatial import cKDTree\n",
    "from itertools import product"
   ]
  },
  {
   "cell_type": "code",
   "execution_count": 4,
   "metadata": {},
   "outputs": [],
   "source": [
    "import salem\n",
    "import geopandas as gpd"
   ]
  },
  {
   "cell_type": "code",
   "execution_count": 5,
   "metadata": {
    "collapsed": false,
    "jupyter": {
     "outputs_hidden": false
    }
   },
   "outputs": [],
   "source": [
    "import xarray as xr"
   ]
  },
  {
   "cell_type": "markdown",
   "metadata": {},
   "source": [
    "### function to calculate the anomalies with respect to the 1981 - 2010 climatology "
   ]
  },
  {
   "cell_type": "code",
   "execution_count": 6,
   "metadata": {
    "collapsed": false,
    "jupyter": {
     "outputs_hidden": false
    }
   },
   "outputs": [],
   "source": [
    "def demean(x): \n",
    "    return x - x.loc['1981':'2010',].mean()"
   ]
  },
  {
   "cell_type": "code",
   "execution_count": 7,
   "metadata": {},
   "outputs": [
    {
     "data": {
      "text/plain": [
       "'Tmin_N'"
      ]
     },
     "execution_count": 7,
     "metadata": {},
     "output_type": "execute_result"
    }
   ],
   "source": [
    "var_name"
   ]
  },
  {
   "cell_type": "code",
   "execution_count": 8,
   "metadata": {},
   "outputs": [],
   "source": [
    "big_var = var_name.split('_')[0].upper()"
   ]
  },
  {
   "cell_type": "code",
   "execution_count": 9,
   "metadata": {},
   "outputs": [],
   "source": [
    "HOME = pathlib.Path.home()"
   ]
  },
  {
   "cell_type": "code",
   "execution_count": 10,
   "metadata": {},
   "outputs": [],
   "source": [
    "dpath = HOME / 'operational/VCSN/data/NC/MONTHLY/' / var_name.upper()"
   ]
  },
  {
   "cell_type": "code",
   "execution_count": 11,
   "metadata": {},
   "outputs": [
    {
     "data": {
      "text/plain": [
       "'TMIN_N'"
      ]
     },
     "execution_count": 11,
     "metadata": {},
     "output_type": "execute_result"
    }
   ],
   "source": [
    "var_name.upper()"
   ]
  },
  {
   "cell_type": "code",
   "execution_count": 12,
   "metadata": {
    "collapsed": false,
    "jupyter": {
     "outputs_hidden": false
    }
   },
   "outputs": [],
   "source": [
    "dset = salem.open_xr_dataset(dpath / f'VCSN_gridded_{var_name}_1979-01_2019-12.nc') "
   ]
  },
  {
   "cell_type": "code",
   "execution_count": 13,
   "metadata": {},
   "outputs": [
    {
     "data": {
      "text/html": [
       "<pre>&lt;xarray.Dataset&gt;\n",
       "Dimensions:  (lat: 257, lon: 241, time: 492)\n",
       "Coordinates:\n",
       "  * time     (time) datetime64[ns] 1979-01-31 1979-02-28 ... 2019-12-31\n",
       "  * lon      (lon) float64 166.5 166.5 166.6 166.6 ... 178.3 178.4 178.4 178.5\n",
       "  * lat      (lat) float64 -47.27 -47.23 -47.17 -47.12 ... -34.52 -34.48 -34.42\n",
       "Data variables:\n",
       "    Tmin_N   (time, lat, lon) float64 ...\n",
       "    agent    (lat, lon) float32 ...\n",
       "Attributes:\n",
       "    pyproj_srs:  +units=m +proj=latlong +datum=WGS84 </pre>"
      ],
      "text/plain": [
       "<xarray.Dataset>\n",
       "Dimensions:  (lat: 257, lon: 241, time: 492)\n",
       "Coordinates:\n",
       "  * time     (time) datetime64[ns] 1979-01-31 1979-02-28 ... 2019-12-31\n",
       "  * lon      (lon) float64 166.5 166.5 166.6 166.6 ... 178.3 178.4 178.4 178.5\n",
       "  * lat      (lat) float64 -47.27 -47.23 -47.17 -47.12 ... -34.52 -34.48 -34.42\n",
       "Data variables:\n",
       "    Tmin_N   (time, lat, lon) float64 ...\n",
       "    agent    (lat, lon) float32 ...\n",
       "Attributes:\n",
       "    pyproj_srs:  +units=m +proj=latlong +datum=WGS84 "
      ]
     },
     "execution_count": 13,
     "metadata": {},
     "output_type": "execute_result"
    }
   ],
   "source": [
    "dset"
   ]
  },
  {
   "cell_type": "markdown",
   "metadata": {},
   "source": [
    "### calculates the seasonal average (or sum if Rain_bc is the variable )"
   ]
  },
  {
   "cell_type": "code",
   "execution_count": 14,
   "metadata": {},
   "outputs": [],
   "source": [
    "if var_name == 'Rain_bc': \n",
    "    dset = dset.rolling(time=3, min_periods=3).sum()\n",
    "else: \n",
    "    dset = dset.rolling(time=3, min_periods=3).mean()"
   ]
  },
  {
   "cell_type": "code",
   "execution_count": 15,
   "metadata": {},
   "outputs": [],
   "source": [
    "dset = dset.isel(time=slice(2,None))"
   ]
  },
  {
   "cell_type": "code",
   "execution_count": 16,
   "metadata": {},
   "outputs": [],
   "source": [
    "nz_regions = gpd.read_file(HOME / 'research' / 'Smart_Ideas' / 'data' / 'shapefiles' / 'NZ_regions' / 'NZ_regions_corrected.shp') "
   ]
  },
  {
   "cell_type": "code",
   "execution_count": 17,
   "metadata": {},
   "outputs": [
    {
     "data": {
      "text/html": [
       "<div>\n",
       "<style scoped>\n",
       "    .dataframe tbody tr th:only-of-type {\n",
       "        vertical-align: middle;\n",
       "    }\n",
       "\n",
       "    .dataframe tbody tr th {\n",
       "        vertical-align: top;\n",
       "    }\n",
       "\n",
       "    .dataframe thead th {\n",
       "        text-align: right;\n",
       "    }\n",
       "</style>\n",
       "<table border=\"1\" class=\"dataframe\">\n",
       "  <thead>\n",
       "    <tr style=\"text-align: right;\">\n",
       "      <th></th>\n",
       "      <th>OBJECTID</th>\n",
       "      <th>Id</th>\n",
       "      <th>gridcode</th>\n",
       "      <th>Shape_Leng</th>\n",
       "      <th>Shape_Area</th>\n",
       "      <th>Location</th>\n",
       "      <th>geometry</th>\n",
       "    </tr>\n",
       "  </thead>\n",
       "  <tbody>\n",
       "    <tr>\n",
       "      <th>0</th>\n",
       "      <td>1</td>\n",
       "      <td>1</td>\n",
       "      <td>1</td>\n",
       "      <td>85.215338</td>\n",
       "      <td>5.032753</td>\n",
       "      <td>NNI</td>\n",
       "      <td>MULTIPOLYGON (((174.70530 -38.17377, 174.70545...</td>\n",
       "    </tr>\n",
       "    <tr>\n",
       "      <th>1</th>\n",
       "      <td>2</td>\n",
       "      <td>2</td>\n",
       "      <td>2</td>\n",
       "      <td>12.336015</td>\n",
       "      <td>2.994028</td>\n",
       "      <td>WNI</td>\n",
       "      <td>MULTIPOLYGON (((175.13516 -41.37745, 175.13507...</td>\n",
       "    </tr>\n",
       "    <tr>\n",
       "      <th>2</th>\n",
       "      <td>3</td>\n",
       "      <td>3</td>\n",
       "      <td>3</td>\n",
       "      <td>14.235493</td>\n",
       "      <td>3.775388</td>\n",
       "      <td>ENI</td>\n",
       "      <td>MULTIPOLYGON (((175.85595 -41.35970, 175.85595...</td>\n",
       "    </tr>\n",
       "    <tr>\n",
       "      <th>3</th>\n",
       "      <td>4</td>\n",
       "      <td>4</td>\n",
       "      <td>4</td>\n",
       "      <td>34.656463</td>\n",
       "      <td>3.066280</td>\n",
       "      <td>NSI</td>\n",
       "      <td>MULTIPOLYGON (((171.32620 -42.12355, 171.32602...</td>\n",
       "    </tr>\n",
       "    <tr>\n",
       "      <th>4</th>\n",
       "      <td>5</td>\n",
       "      <td>5</td>\n",
       "      <td>6</td>\n",
       "      <td>20.191504</td>\n",
       "      <td>4.827228</td>\n",
       "      <td>ESI</td>\n",
       "      <td>MULTIPOLYGON (((170.21675 -46.05955, 170.21609...</td>\n",
       "    </tr>\n",
       "    <tr>\n",
       "      <th>5</th>\n",
       "      <td>6</td>\n",
       "      <td>6</td>\n",
       "      <td>5</td>\n",
       "      <td>42.941379</td>\n",
       "      <td>9.057410</td>\n",
       "      <td>WSI</td>\n",
       "      <td>MULTIPOLYGON (((169.20749 -46.66371, 169.20742...</td>\n",
       "    </tr>\n",
       "  </tbody>\n",
       "</table>\n",
       "</div>"
      ],
      "text/plain": [
       "   OBJECTID  Id  gridcode  Shape_Leng  Shape_Area Location  \\\n",
       "0         1   1         1   85.215338    5.032753      NNI   \n",
       "1         2   2         2   12.336015    2.994028      WNI   \n",
       "2         3   3         3   14.235493    3.775388      ENI   \n",
       "3         4   4         4   34.656463    3.066280      NSI   \n",
       "4         5   5         6   20.191504    4.827228      ESI   \n",
       "5         6   6         5   42.941379    9.057410      WSI   \n",
       "\n",
       "                                            geometry  \n",
       "0  MULTIPOLYGON (((174.70530 -38.17377, 174.70545...  \n",
       "1  MULTIPOLYGON (((175.13516 -41.37745, 175.13507...  \n",
       "2  MULTIPOLYGON (((175.85595 -41.35970, 175.85595...  \n",
       "3  MULTIPOLYGON (((171.32620 -42.12355, 171.32602...  \n",
       "4  MULTIPOLYGON (((170.21675 -46.05955, 170.21609...  \n",
       "5  MULTIPOLYGON (((169.20749 -46.66371, 169.20742...  "
      ]
     },
     "execution_count": 17,
     "metadata": {},
     "output_type": "execute_result"
    }
   ],
   "source": [
    "nz_regions"
   ]
  },
  {
   "cell_type": "code",
   "execution_count": 18,
   "metadata": {},
   "outputs": [],
   "source": [
    "opath_root = HOME / 'research' / 'Smart_Ideas' / 'outputs' / 'targets' / 'NZ_regions'"
   ]
  },
  {
   "cell_type": "markdown",
   "metadata": {},
   "source": [
    "### defines the number of quantiles we want "
   ]
  },
  {
   "cell_type": "code",
   "execution_count": 19,
   "metadata": {},
   "outputs": [],
   "source": [
    "num_quantiles = 3"
   ]
  },
  {
   "cell_type": "code",
   "execution_count": 20,
   "metadata": {},
   "outputs": [],
   "source": [
    "quant_values = np.linspace(0, 1, num_quantiles + 1, endpoint=True)"
   ]
  },
  {
   "cell_type": "code",
   "execution_count": 21,
   "metadata": {},
   "outputs": [],
   "source": [
    "quant_values = quant_values[1:-1]"
   ]
  },
  {
   "cell_type": "code",
   "execution_count": 22,
   "metadata": {},
   "outputs": [
    {
     "data": {
      "text/plain": [
       "array([0.33333333, 0.66666667])"
      ]
     },
     "execution_count": 22,
     "metadata": {},
     "output_type": "execute_result"
    }
   ],
   "source": [
    "quant_values"
   ]
  },
  {
   "cell_type": "code",
   "execution_count": 23,
   "metadata": {},
   "outputs": [],
   "source": [
    "col_labs = [f\"Q{int(x)}\" for x in (quant_values*100)]"
   ]
  },
  {
   "cell_type": "code",
   "execution_count": 24,
   "metadata": {},
   "outputs": [
    {
     "data": {
      "text/plain": [
       "['Q33', 'Q66']"
      ]
     },
     "execution_count": 24,
     "metadata": {},
     "output_type": "execute_result"
    }
   ],
   "source": [
    "col_labs"
   ]
  },
  {
   "cell_type": "code",
   "execution_count": 25,
   "metadata": {},
   "outputs": [],
   "source": [
    "# f, axes = plt.subplots(nrows=3, ncols=2)\n",
    "# axes = axes.flatten()\n",
    "\n",
    "quantiles_dict = {}\n",
    "\n",
    "for i, region_name in enumerate(['NNI','ENI','WNI','NSI','WSI','ESI']): \n",
    "    \n",
    "    shape = nz_regions.query(f\"Location == '{region_name}'\")\n",
    "    \n",
    "    region = dset.salem.subset(shape=shape)\n",
    "\n",
    "    region = region.salem.roi(shape=shape, all_touched=True)\n",
    "    \n",
    "#     region[var_name].isel(time=0).plot(ax=axes[i])\n",
    "    \n",
    "    ts = region.mean(dim=['lat','lon'])\n",
    "    \n",
    "    ts_df = ts[var_name].to_dataframe()\n",
    "            \n",
    "    ts_series = ts_df.loc[:,var_name]\n",
    "    \n",
    "    ts_series_cat = []\n",
    "    \n",
    "    quantiles_list = []\n",
    "    \n",
    "    for month in range(1, 13):\n",
    "        \n",
    "        ts_series_m = ts_series[ts_series.index.month == month]\n",
    "        \n",
    "        clim = ts_series_m.loc['1981':'2010']\n",
    "        \n",
    "        quantiles = [clim.quantile(q=q) for q in quant_values.tolist()]\n",
    "        \n",
    "        quantiles_list.append(quantiles.copy())\n",
    "        \n",
    "        quantiles.insert(0, -np.inf)\n",
    "        \n",
    "        quantiles.append(np.inf)\n",
    "        \n",
    "        ts_series_m_cats = pd.cut(ts_series_m, quantiles, labels=list(range(1, num_quantiles + 1)))\n",
    "        \n",
    "        ts_series_cat.append(ts_series_m_cats)\n",
    "        \n",
    "        del(quantiles)\n",
    "     \n",
    "    quantiles_dict[region_name]  = np.array(quantiles_list)\n",
    "    \n",
    "    ts_series_cat = pd.concat(ts_series_cat, axis=0)\n",
    "    \n",
    "    ts_series_cat = ts_series_cat.sort_index()\n",
    "    \n",
    "    ts_df.loc[:,f'cat_{num_quantiles}'] = ts_series_cat\n",
    "    \n",
    "    ts_df.loc[:,'anomalies'] = ts_df.loc[:,var_name].groupby(ts_df.index.month).apply(demean)\n",
    "    \n",
    "    opath = opath_root / big_var / region_name \n",
    "    \n",
    "    if not opath.exists(): \n",
    "        opath.mkdir(parents=True)\n",
    "        \n",
    "    ts_df.to_csv(opath / f'TS_NZ_region_{region_name}_{big_var}_{num_quantiles}_quantiles_anoms.csv')"
   ]
  },
  {
   "cell_type": "code",
   "execution_count": 26,
   "metadata": {},
   "outputs": [
    {
     "data": {
      "text/plain": [
       "PosixPath('/home/nicolasf/research/Smart_Ideas/outputs/targets/NZ_regions/TMIN/ESI')"
      ]
     },
     "execution_count": 26,
     "metadata": {},
     "output_type": "execute_result"
    }
   ],
   "source": [
    "opath"
   ]
  },
  {
   "cell_type": "markdown",
   "metadata": {},
   "source": [
    "### descriptive statistics per quantile category "
   ]
  },
  {
   "cell_type": "code",
   "execution_count": 28,
   "metadata": {},
   "outputs": [
    {
     "data": {
      "text/html": [
       "<div>\n",
       "<style scoped>\n",
       "    .dataframe tbody tr th:only-of-type {\n",
       "        vertical-align: middle;\n",
       "    }\n",
       "\n",
       "    .dataframe tbody tr th {\n",
       "        vertical-align: top;\n",
       "    }\n",
       "\n",
       "    .dataframe thead tr th {\n",
       "        text-align: left;\n",
       "    }\n",
       "\n",
       "    .dataframe thead tr:last-of-type th {\n",
       "        text-align: right;\n",
       "    }\n",
       "</style>\n",
       "<table border=\"1\" class=\"dataframe\">\n",
       "  <thead>\n",
       "    <tr>\n",
       "      <th></th>\n",
       "      <th colspan=\"8\" halign=\"left\">Tmin_N</th>\n",
       "      <th colspan=\"8\" halign=\"left\">anomalies</th>\n",
       "    </tr>\n",
       "    <tr>\n",
       "      <th></th>\n",
       "      <th>count</th>\n",
       "      <th>mean</th>\n",
       "      <th>std</th>\n",
       "      <th>min</th>\n",
       "      <th>25%</th>\n",
       "      <th>50%</th>\n",
       "      <th>75%</th>\n",
       "      <th>max</th>\n",
       "      <th>count</th>\n",
       "      <th>mean</th>\n",
       "      <th>std</th>\n",
       "      <th>min</th>\n",
       "      <th>25%</th>\n",
       "      <th>50%</th>\n",
       "      <th>75%</th>\n",
       "      <th>max</th>\n",
       "    </tr>\n",
       "    <tr>\n",
       "      <th>cat_3</th>\n",
       "      <th></th>\n",
       "      <th></th>\n",
       "      <th></th>\n",
       "      <th></th>\n",
       "      <th></th>\n",
       "      <th></th>\n",
       "      <th></th>\n",
       "      <th></th>\n",
       "      <th></th>\n",
       "      <th></th>\n",
       "      <th></th>\n",
       "      <th></th>\n",
       "      <th></th>\n",
       "      <th></th>\n",
       "      <th></th>\n",
       "      <th></th>\n",
       "    </tr>\n",
       "  </thead>\n",
       "  <tbody>\n",
       "    <tr>\n",
       "      <th>1</th>\n",
       "      <td>142.0</td>\n",
       "      <td>3.342237</td>\n",
       "      <td>3.064059</td>\n",
       "      <td>-1.292898</td>\n",
       "      <td>0.416693</td>\n",
       "      <td>3.262845</td>\n",
       "      <td>6.321358</td>\n",
       "      <td>8.097552</td>\n",
       "      <td>142.0</td>\n",
       "      <td>-0.638409</td>\n",
       "      <td>0.337881</td>\n",
       "      <td>-1.946637</td>\n",
       "      <td>-0.789420</td>\n",
       "      <td>-0.587705</td>\n",
       "      <td>-0.390996</td>\n",
       "      <td>-0.155974</td>\n",
       "    </tr>\n",
       "    <tr>\n",
       "      <th>2</th>\n",
       "      <td>159.0</td>\n",
       "      <td>3.952612</td>\n",
       "      <td>3.097816</td>\n",
       "      <td>-0.823625</td>\n",
       "      <td>1.608417</td>\n",
       "      <td>3.994755</td>\n",
       "      <td>6.855854</td>\n",
       "      <td>8.678777</td>\n",
       "      <td>159.0</td>\n",
       "      <td>0.000395</td>\n",
       "      <td>0.182356</td>\n",
       "      <td>-0.506556</td>\n",
       "      <td>-0.125788</td>\n",
       "      <td>-0.001974</td>\n",
       "      <td>0.151964</td>\n",
       "      <td>0.322817</td>\n",
       "    </tr>\n",
       "    <tr>\n",
       "      <th>3</th>\n",
       "      <td>189.0</td>\n",
       "      <td>4.553926</td>\n",
       "      <td>3.193595</td>\n",
       "      <td>-0.213385</td>\n",
       "      <td>1.228260</td>\n",
       "      <td>4.661782</td>\n",
       "      <td>7.382531</td>\n",
       "      <td>10.269038</td>\n",
       "      <td>189.0</td>\n",
       "      <td>0.711017</td>\n",
       "      <td>0.359114</td>\n",
       "      <td>0.191316</td>\n",
       "      <td>0.421492</td>\n",
       "      <td>0.632335</td>\n",
       "      <td>0.954141</td>\n",
       "      <td>2.283398</td>\n",
       "    </tr>\n",
       "  </tbody>\n",
       "</table>\n",
       "</div>"
      ],
      "text/plain": [
       "      Tmin_N                                                              \\\n",
       "       count      mean       std       min       25%       50%       75%   \n",
       "cat_3                                                                      \n",
       "1      142.0  3.342237  3.064059 -1.292898  0.416693  3.262845  6.321358   \n",
       "2      159.0  3.952612  3.097816 -0.823625  1.608417  3.994755  6.855854   \n",
       "3      189.0  4.553926  3.193595 -0.213385  1.228260  4.661782  7.382531   \n",
       "\n",
       "                 anomalies                                                    \\\n",
       "             max     count      mean       std       min       25%       50%   \n",
       "cat_3                                                                          \n",
       "1       8.097552     142.0 -0.638409  0.337881 -1.946637 -0.789420 -0.587705   \n",
       "2       8.678777     159.0  0.000395  0.182356 -0.506556 -0.125788 -0.001974   \n",
       "3      10.269038     189.0  0.711017  0.359114  0.191316  0.421492  0.632335   \n",
       "\n",
       "                           \n",
       "            75%       max  \n",
       "cat_3                      \n",
       "1     -0.390996 -0.155974  \n",
       "2      0.151964  0.322817  \n",
       "3      0.954141  2.283398  "
      ]
     },
     "execution_count": 28,
     "metadata": {},
     "output_type": "execute_result"
    }
   ],
   "source": [
    "ts_df.groupby(ts_df.loc[:,f'cat_{num_quantiles}']).describe()"
   ]
  },
  {
   "cell_type": "markdown",
   "metadata": {},
   "source": [
    "### saves the climatological terciles calculated from the VCSN regional aggregates"
   ]
  },
  {
   "cell_type": "code",
   "execution_count": 33,
   "metadata": {},
   "outputs": [],
   "source": [
    "quantiles_list = []\n",
    "for region_name in ['NNI','ENI','WNI','NSI','WSI','ESI']: \n",
    "    df = pd.DataFrame(quantiles_dict[region_name])\n",
    "    df.index = range(1, 13)\n",
    "    df.index.name = 'season'\n",
    "    df.columns = pd.MultiIndex.from_product([[region_name],col_labs])\n",
    "    quantiles_list.append(df)"
   ]
  },
  {
   "cell_type": "code",
   "execution_count": 34,
   "metadata": {},
   "outputs": [],
   "source": [
    "quantiles_df = pd.concat(quantiles_list, axis=1)"
   ]
  },
  {
   "cell_type": "code",
   "execution_count": 35,
   "metadata": {},
   "outputs": [],
   "source": [
    "quantiles_df.to_csv(opath / f'Climatological_quantiles_{num_quantiles}_cat_{big_var}.csv')"
   ]
  },
  {
   "cell_type": "code",
   "execution_count": 36,
   "metadata": {},
   "outputs": [
    {
     "data": {
      "text/html": [
       "<div>\n",
       "<style scoped>\n",
       "    .dataframe tbody tr th:only-of-type {\n",
       "        vertical-align: middle;\n",
       "    }\n",
       "\n",
       "    .dataframe tbody tr th {\n",
       "        vertical-align: top;\n",
       "    }\n",
       "\n",
       "    .dataframe thead tr th {\n",
       "        text-align: left;\n",
       "    }\n",
       "\n",
       "    .dataframe thead tr:last-of-type th {\n",
       "        text-align: right;\n",
       "    }\n",
       "</style>\n",
       "<table border=\"1\" class=\"dataframe\">\n",
       "  <thead>\n",
       "    <tr>\n",
       "      <th></th>\n",
       "      <th colspan=\"2\" halign=\"left\">NNI</th>\n",
       "      <th colspan=\"2\" halign=\"left\">ENI</th>\n",
       "      <th colspan=\"2\" halign=\"left\">WNI</th>\n",
       "      <th colspan=\"2\" halign=\"left\">NSI</th>\n",
       "      <th colspan=\"2\" halign=\"left\">WSI</th>\n",
       "      <th colspan=\"2\" halign=\"left\">ESI</th>\n",
       "    </tr>\n",
       "    <tr>\n",
       "      <th></th>\n",
       "      <th>Q33</th>\n",
       "      <th>Q66</th>\n",
       "      <th>Q33</th>\n",
       "      <th>Q66</th>\n",
       "      <th>Q33</th>\n",
       "      <th>Q66</th>\n",
       "      <th>Q33</th>\n",
       "      <th>Q66</th>\n",
       "      <th>Q33</th>\n",
       "      <th>Q66</th>\n",
       "      <th>Q33</th>\n",
       "      <th>Q66</th>\n",
       "    </tr>\n",
       "    <tr>\n",
       "      <th>season</th>\n",
       "      <th></th>\n",
       "      <th></th>\n",
       "      <th></th>\n",
       "      <th></th>\n",
       "      <th></th>\n",
       "      <th></th>\n",
       "      <th></th>\n",
       "      <th></th>\n",
       "      <th></th>\n",
       "      <th></th>\n",
       "      <th></th>\n",
       "      <th></th>\n",
       "    </tr>\n",
       "  </thead>\n",
       "  <tbody>\n",
       "    <tr>\n",
       "      <th>1</th>\n",
       "      <td>11.516223</td>\n",
       "      <td>12.109048</td>\n",
       "      <td>9.856536</td>\n",
       "      <td>10.553417</td>\n",
       "      <td>9.533938</td>\n",
       "      <td>9.999897</td>\n",
       "      <td>7.621007</td>\n",
       "      <td>8.154330</td>\n",
       "      <td>6.145022</td>\n",
       "      <td>6.731300</td>\n",
       "      <td>6.944198</td>\n",
       "      <td>7.612741</td>\n",
       "    </tr>\n",
       "    <tr>\n",
       "      <th>2</th>\n",
       "      <td>12.639627</td>\n",
       "      <td>13.419392</td>\n",
       "      <td>11.190426</td>\n",
       "      <td>11.681550</td>\n",
       "      <td>10.824943</td>\n",
       "      <td>11.350316</td>\n",
       "      <td>8.829933</td>\n",
       "      <td>9.356988</td>\n",
       "      <td>7.248262</td>\n",
       "      <td>7.772681</td>\n",
       "      <td>8.200124</td>\n",
       "      <td>8.688083</td>\n",
       "    </tr>\n",
       "    <tr>\n",
       "      <th>3</th>\n",
       "      <td>12.585074</td>\n",
       "      <td>13.210424</td>\n",
       "      <td>10.904919</td>\n",
       "      <td>11.305773</td>\n",
       "      <td>10.366581</td>\n",
       "      <td>11.020865</td>\n",
       "      <td>8.547318</td>\n",
       "      <td>9.255278</td>\n",
       "      <td>7.072506</td>\n",
       "      <td>7.543045</td>\n",
       "      <td>7.902332</td>\n",
       "      <td>8.279801</td>\n",
       "    </tr>\n",
       "    <tr>\n",
       "      <th>4</th>\n",
       "      <td>11.388393</td>\n",
       "      <td>12.076220</td>\n",
       "      <td>9.608146</td>\n",
       "      <td>9.892460</td>\n",
       "      <td>9.068532</td>\n",
       "      <td>9.627204</td>\n",
       "      <td>7.255774</td>\n",
       "      <td>7.799666</td>\n",
       "      <td>5.709272</td>\n",
       "      <td>6.138740</td>\n",
       "      <td>6.267179</td>\n",
       "      <td>6.775882</td>\n",
       "    </tr>\n",
       "    <tr>\n",
       "      <th>5</th>\n",
       "      <td>9.475544</td>\n",
       "      <td>10.318611</td>\n",
       "      <td>7.339551</td>\n",
       "      <td>8.120237</td>\n",
       "      <td>7.161288</td>\n",
       "      <td>7.740512</td>\n",
       "      <td>5.309367</td>\n",
       "      <td>5.852381</td>\n",
       "      <td>3.807051</td>\n",
       "      <td>4.386944</td>\n",
       "      <td>3.980672</td>\n",
       "      <td>4.555353</td>\n",
       "    </tr>\n",
       "    <tr>\n",
       "      <th>6</th>\n",
       "      <td>7.652583</td>\n",
       "      <td>7.983185</td>\n",
       "      <td>5.425689</td>\n",
       "      <td>5.998115</td>\n",
       "      <td>5.361454</td>\n",
       "      <td>5.808841</td>\n",
       "      <td>3.100452</td>\n",
       "      <td>3.561086</td>\n",
       "      <td>1.665419</td>\n",
       "      <td>2.166541</td>\n",
       "      <td>1.590907</td>\n",
       "      <td>1.991700</td>\n",
       "    </tr>\n",
       "    <tr>\n",
       "      <th>7</th>\n",
       "      <td>5.804997</td>\n",
       "      <td>6.408428</td>\n",
       "      <td>3.891522</td>\n",
       "      <td>4.489663</td>\n",
       "      <td>3.649837</td>\n",
       "      <td>4.386715</td>\n",
       "      <td>1.191843</td>\n",
       "      <td>1.920403</td>\n",
       "      <td>-0.106561</td>\n",
       "      <td>0.411596</td>\n",
       "      <td>-0.284084</td>\n",
       "      <td>0.178960</td>\n",
       "    </tr>\n",
       "    <tr>\n",
       "      <th>8</th>\n",
       "      <td>5.172896</td>\n",
       "      <td>5.762249</td>\n",
       "      <td>3.312354</td>\n",
       "      <td>3.815831</td>\n",
       "      <td>3.230375</td>\n",
       "      <td>3.720983</td>\n",
       "      <td>0.589611</td>\n",
       "      <td>1.121071</td>\n",
       "      <td>-0.713333</td>\n",
       "      <td>-0.187846</td>\n",
       "      <td>-0.853196</td>\n",
       "      <td>-0.256720</td>\n",
       "    </tr>\n",
       "    <tr>\n",
       "      <th>9</th>\n",
       "      <td>5.645431</td>\n",
       "      <td>6.241430</td>\n",
       "      <td>3.866058</td>\n",
       "      <td>4.316897</td>\n",
       "      <td>3.673118</td>\n",
       "      <td>4.222692</td>\n",
       "      <td>1.305102</td>\n",
       "      <td>1.732145</td>\n",
       "      <td>-0.203557</td>\n",
       "      <td>0.456920</td>\n",
       "      <td>0.050943</td>\n",
       "      <td>0.546799</td>\n",
       "    </tr>\n",
       "    <tr>\n",
       "      <th>10</th>\n",
       "      <td>6.818699</td>\n",
       "      <td>7.382453</td>\n",
       "      <td>4.954365</td>\n",
       "      <td>5.393970</td>\n",
       "      <td>4.966552</td>\n",
       "      <td>5.406251</td>\n",
       "      <td>2.645582</td>\n",
       "      <td>3.076779</td>\n",
       "      <td>1.349065</td>\n",
       "      <td>1.742883</td>\n",
       "      <td>1.718465</td>\n",
       "      <td>2.138675</td>\n",
       "    </tr>\n",
       "    <tr>\n",
       "      <th>11</th>\n",
       "      <td>8.366342</td>\n",
       "      <td>8.850353</td>\n",
       "      <td>6.382915</td>\n",
       "      <td>6.900542</td>\n",
       "      <td>6.319391</td>\n",
       "      <td>6.810699</td>\n",
       "      <td>4.165664</td>\n",
       "      <td>4.584396</td>\n",
       "      <td>2.751319</td>\n",
       "      <td>3.332142</td>\n",
       "      <td>3.459051</td>\n",
       "      <td>4.002738</td>\n",
       "    </tr>\n",
       "    <tr>\n",
       "      <th>12</th>\n",
       "      <td>10.000006</td>\n",
       "      <td>10.654690</td>\n",
       "      <td>8.212291</td>\n",
       "      <td>8.944344</td>\n",
       "      <td>7.966808</td>\n",
       "      <td>8.700820</td>\n",
       "      <td>6.014050</td>\n",
       "      <td>6.603610</td>\n",
       "      <td>4.355125</td>\n",
       "      <td>5.281040</td>\n",
       "      <td>5.102020</td>\n",
       "      <td>5.921433</td>\n",
       "    </tr>\n",
       "  </tbody>\n",
       "</table>\n",
       "</div>"
      ],
      "text/plain": [
       "              NNI                   ENI                   WNI             \\\n",
       "              Q33        Q66        Q33        Q66        Q33        Q66   \n",
       "season                                                                     \n",
       "1       11.516223  12.109048   9.856536  10.553417   9.533938   9.999897   \n",
       "2       12.639627  13.419392  11.190426  11.681550  10.824943  11.350316   \n",
       "3       12.585074  13.210424  10.904919  11.305773  10.366581  11.020865   \n",
       "4       11.388393  12.076220   9.608146   9.892460   9.068532   9.627204   \n",
       "5        9.475544  10.318611   7.339551   8.120237   7.161288   7.740512   \n",
       "6        7.652583   7.983185   5.425689   5.998115   5.361454   5.808841   \n",
       "7        5.804997   6.408428   3.891522   4.489663   3.649837   4.386715   \n",
       "8        5.172896   5.762249   3.312354   3.815831   3.230375   3.720983   \n",
       "9        5.645431   6.241430   3.866058   4.316897   3.673118   4.222692   \n",
       "10       6.818699   7.382453   4.954365   5.393970   4.966552   5.406251   \n",
       "11       8.366342   8.850353   6.382915   6.900542   6.319391   6.810699   \n",
       "12      10.000006  10.654690   8.212291   8.944344   7.966808   8.700820   \n",
       "\n",
       "             NSI                 WSI                 ESI            \n",
       "             Q33       Q66       Q33       Q66       Q33       Q66  \n",
       "season                                                              \n",
       "1       7.621007  8.154330  6.145022  6.731300  6.944198  7.612741  \n",
       "2       8.829933  9.356988  7.248262  7.772681  8.200124  8.688083  \n",
       "3       8.547318  9.255278  7.072506  7.543045  7.902332  8.279801  \n",
       "4       7.255774  7.799666  5.709272  6.138740  6.267179  6.775882  \n",
       "5       5.309367  5.852381  3.807051  4.386944  3.980672  4.555353  \n",
       "6       3.100452  3.561086  1.665419  2.166541  1.590907  1.991700  \n",
       "7       1.191843  1.920403 -0.106561  0.411596 -0.284084  0.178960  \n",
       "8       0.589611  1.121071 -0.713333 -0.187846 -0.853196 -0.256720  \n",
       "9       1.305102  1.732145 -0.203557  0.456920  0.050943  0.546799  \n",
       "10      2.645582  3.076779  1.349065  1.742883  1.718465  2.138675  \n",
       "11      4.165664  4.584396  2.751319  3.332142  3.459051  4.002738  \n",
       "12      6.014050  6.603610  4.355125  5.281040  5.102020  5.921433  "
      ]
     },
     "execution_count": 36,
     "metadata": {},
     "output_type": "execute_result"
    }
   ],
   "source": [
    "quantiles_df"
   ]
  },
  {
   "cell_type": "code",
   "execution_count": null,
   "metadata": {},
   "outputs": [],
   "source": []
  }
 ],
 "metadata": {
  "kernelspec": {
   "display_name": "Python 3",
   "language": "python",
   "name": "python3"
  },
  "language_info": {
   "codemirror_mode": {
    "name": "ipython",
    "version": 3
   },
   "file_extension": ".py",
   "mimetype": "text/x-python",
   "name": "python",
   "nbconvert_exporter": "python",
   "pygments_lexer": "ipython3",
   "version": "3.7.5"
  },
  "latex_envs": {
   "bibliofile": "biblio.bib",
   "cite_by": "apalike",
   "current_citInitial": 1,
   "eqLabelWithNumbers": true,
   "eqNumInitial": 0
  }
 },
 "nbformat": 4,
 "nbformat_minor": 4
}
