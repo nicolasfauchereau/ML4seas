{
 "cells": [
  {
   "cell_type": "markdown",
   "metadata": {},
   "source": [
    "# calculates the seasonal anomalies and the seasonal tercile categories from the gridded VCSN monthly files, using the NZ 6 regions shapefiles "
   ]
  },
  {
   "cell_type": "code",
   "execution_count": 1,
   "metadata": {},
   "outputs": [],
   "source": [
    "# Paramaters \n",
    "\n",
    "var_name = 'Rain_bc'\n",
    "# var_name = 'Tmin_N'\n",
    "# var_name = 'Tmax_N'\n",
    "# var_name = 'Tmean_N'\n",
    "# var_name = 'SoilM'\n",
    "# var_name = 'Wind'\n",
    "# var_name = 'Rad'"
   ]
  },
  {
   "cell_type": "markdown",
   "metadata": {},
   "source": [
    "in ['Agent', 'Lat', 'Longt', 'Date', 'MSLP', 'PET', 'Rain', 'RH', 'SoilM',\n",
    "       'ETmp', 'Rad', 'TMax', 'Tmin', 'VP', 'Wind', 'Rain_bc', 'Tmax_N',\n",
    "       'Tmin_N']"
   ]
  },
  {
   "cell_type": "code",
   "execution_count": 2,
   "metadata": {},
   "outputs": [],
   "source": [
    "import os\n",
    "import sys\n",
    "import pathlib"
   ]
  },
  {
   "cell_type": "code",
   "execution_count": 3,
   "metadata": {
    "collapsed": false,
    "jupyter": {
     "outputs_hidden": false
    }
   },
   "outputs": [],
   "source": [
    "%matplotlib inline\n",
    "from matplotlib import pyplot as plt\n",
    "\n",
    "import numpy as np\n",
    "import pandas as pd\n",
    "from scipy.spatial import cKDTree\n",
    "from itertools import product"
   ]
  },
  {
   "cell_type": "code",
   "execution_count": 4,
   "metadata": {},
   "outputs": [],
   "source": [
    "import salem\n",
    "import geopandas as gpd"
   ]
  },
  {
   "cell_type": "code",
   "execution_count": 5,
   "metadata": {
    "collapsed": false,
    "jupyter": {
     "outputs_hidden": false
    }
   },
   "outputs": [],
   "source": [
    "import xarray as xr"
   ]
  },
  {
   "cell_type": "markdown",
   "metadata": {},
   "source": [
    "### function to calculate the anomalies with respect to the 1981 - 2010 climatology "
   ]
  },
  {
   "cell_type": "code",
   "execution_count": 6,
   "metadata": {
    "collapsed": false,
    "jupyter": {
     "outputs_hidden": false
    }
   },
   "outputs": [],
   "source": [
    "def demean(x): \n",
    "    return x - x.loc['1981':'2010',].mean()"
   ]
  },
  {
   "cell_type": "code",
   "execution_count": 7,
   "metadata": {},
   "outputs": [
    {
     "data": {
      "text/plain": [
       "'Rain_bc'"
      ]
     },
     "execution_count": 7,
     "metadata": {},
     "output_type": "execute_result"
    }
   ],
   "source": [
    "var_name"
   ]
  },
  {
   "cell_type": "code",
   "execution_count": 8,
   "metadata": {},
   "outputs": [],
   "source": [
    "big_var = var_name.split('_')[0].upper()"
   ]
  },
  {
   "cell_type": "code",
   "execution_count": 9,
   "metadata": {},
   "outputs": [],
   "source": [
    "HOME = pathlib.Path.home()"
   ]
  },
  {
   "cell_type": "code",
   "execution_count": 10,
   "metadata": {},
   "outputs": [],
   "source": [
    "dpath = HOME / 'operational/VCSN/data/NC/MONTHLY/' / var_name.upper()"
   ]
  },
  {
   "cell_type": "code",
   "execution_count": 11,
   "metadata": {},
   "outputs": [
    {
     "data": {
      "text/plain": [
       "'RAIN_BC'"
      ]
     },
     "execution_count": 11,
     "metadata": {},
     "output_type": "execute_result"
    }
   ],
   "source": [
    "var_name.upper()"
   ]
  },
  {
   "cell_type": "code",
   "execution_count": 12,
   "metadata": {},
   "outputs": [
    {
     "data": {
      "text/plain": [
       "PosixPath('/home/nicolasf/operational/VCSN/data/NC/MONTHLY/RAIN_BC')"
      ]
     },
     "execution_count": 12,
     "metadata": {},
     "output_type": "execute_result"
    }
   ],
   "source": [
    "dpath"
   ]
  },
  {
   "cell_type": "code",
   "execution_count": 13,
   "metadata": {
    "collapsed": false,
    "jupyter": {
     "outputs_hidden": false
    }
   },
   "outputs": [],
   "source": [
    "dset = salem.open_xr_dataset(dpath / f'VCSN_gridded_{var_name}_1979-01_2019-12.nc') "
   ]
  },
  {
   "cell_type": "code",
   "execution_count": 14,
   "metadata": {},
   "outputs": [
    {
     "data": {
      "text/html": [
       "<pre>&lt;xarray.Dataset&gt;\n",
       "Dimensions:  (lat: 257, lon: 241, time: 492)\n",
       "Coordinates:\n",
       "  * time     (time) datetime64[ns] 1979-01-31 1979-02-28 ... 2019-12-31\n",
       "  * lat      (lat) float64 -47.27 -47.23 -47.17 -47.12 ... -34.52 -34.48 -34.42\n",
       "  * lon      (lon) float64 166.5 166.5 166.6 166.6 ... 178.3 178.4 178.4 178.5\n",
       "Data variables:\n",
       "    Rain_bc  (time, lat, lon) float64 ...\n",
       "    agent    (lat, lon) float32 ...\n",
       "Attributes:\n",
       "    pyproj_srs:  +units=m +proj=latlong +datum=WGS84 </pre>"
      ],
      "text/plain": [
       "<xarray.Dataset>\n",
       "Dimensions:  (lat: 257, lon: 241, time: 492)\n",
       "Coordinates:\n",
       "  * time     (time) datetime64[ns] 1979-01-31 1979-02-28 ... 2019-12-31\n",
       "  * lat      (lat) float64 -47.27 -47.23 -47.17 -47.12 ... -34.52 -34.48 -34.42\n",
       "  * lon      (lon) float64 166.5 166.5 166.6 166.6 ... 178.3 178.4 178.4 178.5\n",
       "Data variables:\n",
       "    Rain_bc  (time, lat, lon) float64 ...\n",
       "    agent    (lat, lon) float32 ...\n",
       "Attributes:\n",
       "    pyproj_srs:  +units=m +proj=latlong +datum=WGS84 "
      ]
     },
     "execution_count": 14,
     "metadata": {},
     "output_type": "execute_result"
    }
   ],
   "source": [
    "dset"
   ]
  },
  {
   "cell_type": "markdown",
   "metadata": {},
   "source": [
    "### calculates the seasonal average (or sum if Rain_bc is the variable )"
   ]
  },
  {
   "cell_type": "code",
   "execution_count": 15,
   "metadata": {},
   "outputs": [],
   "source": [
    "if var_name == 'Rain_bc': \n",
    "    dset = dset.rolling(time=3, min_periods=3).sum()\n",
    "else: \n",
    "    dset = dset.rolling(time=3, min_periods=3).mean()"
   ]
  },
  {
   "cell_type": "code",
   "execution_count": 16,
   "metadata": {},
   "outputs": [],
   "source": [
    "dset = dset.isel(time=slice(2,None))"
   ]
  },
  {
   "cell_type": "code",
   "execution_count": 17,
   "metadata": {},
   "outputs": [],
   "source": [
    "nz_regions = gpd.read_file(HOME / 'research' / 'Smart_Ideas' / 'data' / 'shapefiles' / 'NZ_regions' / 'NZ_6_regions' / 'NZ_regions_corrected.shp') "
   ]
  },
  {
   "cell_type": "code",
   "execution_count": 18,
   "metadata": {},
   "outputs": [
    {
     "data": {
      "text/html": [
       "<div>\n",
       "<style scoped>\n",
       "    .dataframe tbody tr th:only-of-type {\n",
       "        vertical-align: middle;\n",
       "    }\n",
       "\n",
       "    .dataframe tbody tr th {\n",
       "        vertical-align: top;\n",
       "    }\n",
       "\n",
       "    .dataframe thead th {\n",
       "        text-align: right;\n",
       "    }\n",
       "</style>\n",
       "<table border=\"1\" class=\"dataframe\">\n",
       "  <thead>\n",
       "    <tr style=\"text-align: right;\">\n",
       "      <th></th>\n",
       "      <th>OBJECTID</th>\n",
       "      <th>Id</th>\n",
       "      <th>gridcode</th>\n",
       "      <th>Shape_Leng</th>\n",
       "      <th>Shape_Area</th>\n",
       "      <th>Location</th>\n",
       "      <th>geometry</th>\n",
       "    </tr>\n",
       "  </thead>\n",
       "  <tbody>\n",
       "    <tr>\n",
       "      <th>0</th>\n",
       "      <td>1</td>\n",
       "      <td>1</td>\n",
       "      <td>1</td>\n",
       "      <td>85.215338</td>\n",
       "      <td>5.032753</td>\n",
       "      <td>NNI</td>\n",
       "      <td>MULTIPOLYGON (((174.70530 -38.17377, 174.70545...</td>\n",
       "    </tr>\n",
       "    <tr>\n",
       "      <th>1</th>\n",
       "      <td>2</td>\n",
       "      <td>2</td>\n",
       "      <td>2</td>\n",
       "      <td>12.336015</td>\n",
       "      <td>2.994028</td>\n",
       "      <td>WNI</td>\n",
       "      <td>MULTIPOLYGON (((175.13516 -41.37745, 175.13507...</td>\n",
       "    </tr>\n",
       "    <tr>\n",
       "      <th>2</th>\n",
       "      <td>3</td>\n",
       "      <td>3</td>\n",
       "      <td>3</td>\n",
       "      <td>14.235493</td>\n",
       "      <td>3.775388</td>\n",
       "      <td>ENI</td>\n",
       "      <td>MULTIPOLYGON (((175.85595 -41.35970, 175.85595...</td>\n",
       "    </tr>\n",
       "    <tr>\n",
       "      <th>3</th>\n",
       "      <td>4</td>\n",
       "      <td>4</td>\n",
       "      <td>4</td>\n",
       "      <td>34.656463</td>\n",
       "      <td>3.066280</td>\n",
       "      <td>NSI</td>\n",
       "      <td>MULTIPOLYGON (((171.32620 -42.12355, 171.32602...</td>\n",
       "    </tr>\n",
       "    <tr>\n",
       "      <th>4</th>\n",
       "      <td>5</td>\n",
       "      <td>5</td>\n",
       "      <td>6</td>\n",
       "      <td>20.191504</td>\n",
       "      <td>4.827228</td>\n",
       "      <td>ESI</td>\n",
       "      <td>MULTIPOLYGON (((170.21675 -46.05955, 170.21609...</td>\n",
       "    </tr>\n",
       "    <tr>\n",
       "      <th>5</th>\n",
       "      <td>6</td>\n",
       "      <td>6</td>\n",
       "      <td>5</td>\n",
       "      <td>42.941379</td>\n",
       "      <td>9.057410</td>\n",
       "      <td>WSI</td>\n",
       "      <td>MULTIPOLYGON (((169.20749 -46.66371, 169.20742...</td>\n",
       "    </tr>\n",
       "  </tbody>\n",
       "</table>\n",
       "</div>"
      ],
      "text/plain": [
       "   OBJECTID  Id  gridcode  Shape_Leng  Shape_Area Location  \\\n",
       "0         1   1         1   85.215338    5.032753      NNI   \n",
       "1         2   2         2   12.336015    2.994028      WNI   \n",
       "2         3   3         3   14.235493    3.775388      ENI   \n",
       "3         4   4         4   34.656463    3.066280      NSI   \n",
       "4         5   5         6   20.191504    4.827228      ESI   \n",
       "5         6   6         5   42.941379    9.057410      WSI   \n",
       "\n",
       "                                            geometry  \n",
       "0  MULTIPOLYGON (((174.70530 -38.17377, 174.70545...  \n",
       "1  MULTIPOLYGON (((175.13516 -41.37745, 175.13507...  \n",
       "2  MULTIPOLYGON (((175.85595 -41.35970, 175.85595...  \n",
       "3  MULTIPOLYGON (((171.32620 -42.12355, 171.32602...  \n",
       "4  MULTIPOLYGON (((170.21675 -46.05955, 170.21609...  \n",
       "5  MULTIPOLYGON (((169.20749 -46.66371, 169.20742...  "
      ]
     },
     "execution_count": 18,
     "metadata": {},
     "output_type": "execute_result"
    }
   ],
   "source": [
    "nz_regions"
   ]
  },
  {
   "cell_type": "code",
   "execution_count": 19,
   "metadata": {},
   "outputs": [],
   "source": [
    "opath_root = HOME / 'research' / 'Smart_Ideas' / 'outputs' / 'targets' / 'NZ_regions' / 'NZ_6_regions'"
   ]
  },
  {
   "cell_type": "code",
   "execution_count": 20,
   "metadata": {},
   "outputs": [],
   "source": [
    "if not opath_root.exists(): \n",
    "    opath_root.mkdir(parents=True)"
   ]
  },
  {
   "cell_type": "markdown",
   "metadata": {},
   "source": [
    "### defines the number of quantiles we want "
   ]
  },
  {
   "cell_type": "code",
   "execution_count": 21,
   "metadata": {},
   "outputs": [],
   "source": [
    "num_quantiles = 3"
   ]
  },
  {
   "cell_type": "code",
   "execution_count": 22,
   "metadata": {},
   "outputs": [],
   "source": [
    "quant_values = np.linspace(0, 1, num_quantiles + 1, endpoint=True)"
   ]
  },
  {
   "cell_type": "code",
   "execution_count": 23,
   "metadata": {},
   "outputs": [],
   "source": [
    "quant_values = quant_values[1:-1]"
   ]
  },
  {
   "cell_type": "code",
   "execution_count": 24,
   "metadata": {},
   "outputs": [
    {
     "data": {
      "text/plain": [
       "array([0.33333333, 0.66666667])"
      ]
     },
     "execution_count": 24,
     "metadata": {},
     "output_type": "execute_result"
    }
   ],
   "source": [
    "quant_values"
   ]
  },
  {
   "cell_type": "code",
   "execution_count": 25,
   "metadata": {},
   "outputs": [],
   "source": [
    "col_labs = [f\"Q{int(x)}\" for x in (quant_values*100)]"
   ]
  },
  {
   "cell_type": "code",
   "execution_count": 26,
   "metadata": {},
   "outputs": [
    {
     "data": {
      "text/plain": [
       "['Q33', 'Q66']"
      ]
     },
     "execution_count": 26,
     "metadata": {},
     "output_type": "execute_result"
    }
   ],
   "source": [
    "col_labs"
   ]
  },
  {
   "cell_type": "code",
   "execution_count": 27,
   "metadata": {},
   "outputs": [
    {
     "name": "stdout",
     "output_type": "stream",
     "text": [
      "region NNI processed for variable RAIN\n",
      "region ENI processed for variable RAIN\n",
      "region WNI processed for variable RAIN\n",
      "region NSI processed for variable RAIN\n",
      "region WSI processed for variable RAIN\n",
      "region ESI processed for variable RAIN\n"
     ]
    }
   ],
   "source": [
    "# f, axes = plt.subplots(nrows=3, ncols=2)\n",
    "# axes = axes.flatten()\n",
    "\n",
    "quantiles_dict = {}\n",
    "\n",
    "for i, region_name in enumerate(['NNI','ENI','WNI','NSI','WSI','ESI']): \n",
    "    \n",
    "    shape = nz_regions.query(f\"Location == '{region_name}'\")\n",
    "    \n",
    "    region = dset.salem.subset(shape=shape)\n",
    "\n",
    "    region = region.salem.roi(shape=shape, all_touched=True)\n",
    "    \n",
    "#     region[var_name].isel(time=0).plot(ax=axes[i])\n",
    "    \n",
    "    ts = region.mean(dim=['lat','lon'])\n",
    "    \n",
    "    ts_df = ts[var_name].to_dataframe()\n",
    "            \n",
    "    ts_series = ts_df.loc[:,var_name]\n",
    "    \n",
    "    ts_series_cat = []\n",
    "    \n",
    "    quantiles_list = []\n",
    "    \n",
    "    for month in range(1, 13):\n",
    "        \n",
    "        ts_series_m = ts_series[ts_series.index.month == month]\n",
    "        \n",
    "        clim = ts_series_m.loc['1981':'2010']\n",
    "        \n",
    "        quantiles = [clim.quantile(q=q) for q in quant_values.tolist()]\n",
    "        \n",
    "        quantiles_list.append(quantiles.copy())\n",
    "        \n",
    "        quantiles.insert(0, -np.inf)\n",
    "        \n",
    "        quantiles.append(np.inf)\n",
    "        \n",
    "        ts_series_m_cats = pd.cut(ts_series_m, quantiles, labels=list(range(1, num_quantiles + 1)))\n",
    "        \n",
    "        ts_series_cat.append(ts_series_m_cats)\n",
    "        \n",
    "        del(quantiles)\n",
    "     \n",
    "    quantiles_dict[region_name]  = np.array(quantiles_list)\n",
    "    \n",
    "    ts_series_cat = pd.concat(ts_series_cat, axis=0)\n",
    "    \n",
    "    ts_series_cat = ts_series_cat.sort_index()\n",
    "    \n",
    "    ts_df.loc[:,f'cat_{num_quantiles}'] = ts_series_cat\n",
    "    \n",
    "    ts_df.loc[:,'anomalies'] = ts_df.loc[:,var_name].groupby(ts_df.index.month).apply(demean)\n",
    "    \n",
    "    opath = opath_root / big_var / region_name \n",
    "    \n",
    "    if not opath.exists(): \n",
    "        opath.mkdir(parents=True)\n",
    "        \n",
    "    ts_df.to_csv(opath / f'TS_NZ_region_{region_name}_{big_var}_{num_quantiles}_quantiles_anoms.csv')\n",
    "    \n",
    "    #descriptive statistics per quantile category \n",
    "    \n",
    "    ts_df.groupby(ts_df.loc[:,f'cat_{num_quantiles}']).describe().to_csv(opath / f'descriptive_stats_{region_name}__{big_var}_{num_quantiles}.csv')\n",
    "    \n",
    "    print(f\"region {region_name} processed for variable {big_var}\")\n",
    "    "
   ]
  },
  {
   "cell_type": "markdown",
   "metadata": {},
   "source": [
    "### saves the climatological terciles calculated from the VCSN regional aggregates"
   ]
  },
  {
   "cell_type": "code",
   "execution_count": 28,
   "metadata": {},
   "outputs": [],
   "source": [
    "quantiles_list = []\n",
    "for region_name in ['NNI','ENI','WNI','NSI','WSI','ESI']: \n",
    "    df = pd.DataFrame(quantiles_dict[region_name])\n",
    "    df.index = range(1, 13)\n",
    "    df.index.name = 'season'\n",
    "    df.columns = pd.MultiIndex.from_product([[region_name],col_labs])\n",
    "    quantiles_list.append(df)"
   ]
  },
  {
   "cell_type": "code",
   "execution_count": 29,
   "metadata": {},
   "outputs": [],
   "source": [
    "quantiles_df = pd.concat(quantiles_list, axis=1)"
   ]
  },
  {
   "cell_type": "code",
   "execution_count": 30,
   "metadata": {},
   "outputs": [
    {
     "data": {
      "text/html": [
       "<div>\n",
       "<style scoped>\n",
       "    .dataframe tbody tr th:only-of-type {\n",
       "        vertical-align: middle;\n",
       "    }\n",
       "\n",
       "    .dataframe tbody tr th {\n",
       "        vertical-align: top;\n",
       "    }\n",
       "\n",
       "    .dataframe thead tr th {\n",
       "        text-align: left;\n",
       "    }\n",
       "\n",
       "    .dataframe thead tr:last-of-type th {\n",
       "        text-align: right;\n",
       "    }\n",
       "</style>\n",
       "<table border=\"1\" class=\"dataframe\">\n",
       "  <thead>\n",
       "    <tr>\n",
       "      <th></th>\n",
       "      <th colspan=\"2\" halign=\"left\">NNI</th>\n",
       "      <th colspan=\"2\" halign=\"left\">ENI</th>\n",
       "      <th colspan=\"2\" halign=\"left\">WNI</th>\n",
       "      <th colspan=\"2\" halign=\"left\">NSI</th>\n",
       "      <th colspan=\"2\" halign=\"left\">WSI</th>\n",
       "      <th colspan=\"2\" halign=\"left\">ESI</th>\n",
       "    </tr>\n",
       "    <tr>\n",
       "      <th></th>\n",
       "      <th>Q33</th>\n",
       "      <th>Q66</th>\n",
       "      <th>Q33</th>\n",
       "      <th>Q66</th>\n",
       "      <th>Q33</th>\n",
       "      <th>Q66</th>\n",
       "      <th>Q33</th>\n",
       "      <th>Q66</th>\n",
       "      <th>Q33</th>\n",
       "      <th>Q66</th>\n",
       "      <th>Q33</th>\n",
       "      <th>Q66</th>\n",
       "    </tr>\n",
       "    <tr>\n",
       "      <th>season</th>\n",
       "      <th></th>\n",
       "      <th></th>\n",
       "      <th></th>\n",
       "      <th></th>\n",
       "      <th></th>\n",
       "      <th></th>\n",
       "      <th></th>\n",
       "      <th></th>\n",
       "      <th></th>\n",
       "      <th></th>\n",
       "      <th></th>\n",
       "      <th></th>\n",
       "    </tr>\n",
       "  </thead>\n",
       "  <tbody>\n",
       "    <tr>\n",
       "      <th>1</th>\n",
       "      <td>240.299546</td>\n",
       "      <td>278.529469</td>\n",
       "      <td>265.411789</td>\n",
       "      <td>307.376860</td>\n",
       "      <td>330.177509</td>\n",
       "      <td>377.324029</td>\n",
       "      <td>414.024039</td>\n",
       "      <td>501.015876</td>\n",
       "      <td>622.472699</td>\n",
       "      <td>773.931314</td>\n",
       "      <td>152.919959</td>\n",
       "      <td>180.243479</td>\n",
       "    </tr>\n",
       "    <tr>\n",
       "      <th>2</th>\n",
       "      <td>208.414508</td>\n",
       "      <td>279.729167</td>\n",
       "      <td>235.260423</td>\n",
       "      <td>284.496569</td>\n",
       "      <td>280.653530</td>\n",
       "      <td>343.018331</td>\n",
       "      <td>371.357113</td>\n",
       "      <td>432.859094</td>\n",
       "      <td>589.754267</td>\n",
       "      <td>707.413070</td>\n",
       "      <td>146.467965</td>\n",
       "      <td>175.910272</td>\n",
       "    </tr>\n",
       "    <tr>\n",
       "      <th>3</th>\n",
       "      <td>217.093619</td>\n",
       "      <td>277.925908</td>\n",
       "      <td>240.173050</td>\n",
       "      <td>302.892519</td>\n",
       "      <td>242.881341</td>\n",
       "      <td>314.612834</td>\n",
       "      <td>331.816089</td>\n",
       "      <td>411.656688</td>\n",
       "      <td>530.911738</td>\n",
       "      <td>644.961253</td>\n",
       "      <td>137.784267</td>\n",
       "      <td>167.271257</td>\n",
       "    </tr>\n",
       "    <tr>\n",
       "      <th>4</th>\n",
       "      <td>235.801031</td>\n",
       "      <td>300.832563</td>\n",
       "      <td>248.861859</td>\n",
       "      <td>328.553242</td>\n",
       "      <td>251.985956</td>\n",
       "      <td>311.712658</td>\n",
       "      <td>336.380184</td>\n",
       "      <td>421.582449</td>\n",
       "      <td>531.844084</td>\n",
       "      <td>599.625668</td>\n",
       "      <td>138.677794</td>\n",
       "      <td>171.876955</td>\n",
       "    </tr>\n",
       "    <tr>\n",
       "      <th>5</th>\n",
       "      <td>260.802915</td>\n",
       "      <td>321.998845</td>\n",
       "      <td>278.948414</td>\n",
       "      <td>355.041013</td>\n",
       "      <td>303.589914</td>\n",
       "      <td>345.130635</td>\n",
       "      <td>361.742840</td>\n",
       "      <td>467.804978</td>\n",
       "      <td>571.618630</td>\n",
       "      <td>683.189705</td>\n",
       "      <td>140.414387</td>\n",
       "      <td>176.716967</td>\n",
       "    </tr>\n",
       "    <tr>\n",
       "      <th>6</th>\n",
       "      <td>331.203163</td>\n",
       "      <td>384.842877</td>\n",
       "      <td>310.147596</td>\n",
       "      <td>398.181329</td>\n",
       "      <td>369.926425</td>\n",
       "      <td>425.016314</td>\n",
       "      <td>443.447936</td>\n",
       "      <td>517.646237</td>\n",
       "      <td>559.705826</td>\n",
       "      <td>671.157257</td>\n",
       "      <td>136.499035</td>\n",
       "      <td>166.867917</td>\n",
       "    </tr>\n",
       "    <tr>\n",
       "      <th>7</th>\n",
       "      <td>359.751829</td>\n",
       "      <td>436.828122</td>\n",
       "      <td>365.192579</td>\n",
       "      <td>439.146340</td>\n",
       "      <td>406.718835</td>\n",
       "      <td>479.052824</td>\n",
       "      <td>442.162067</td>\n",
       "      <td>543.142652</td>\n",
       "      <td>560.588640</td>\n",
       "      <td>655.220968</td>\n",
       "      <td>138.438272</td>\n",
       "      <td>177.386182</td>\n",
       "    </tr>\n",
       "    <tr>\n",
       "      <th>8</th>\n",
       "      <td>372.300646</td>\n",
       "      <td>454.474422</td>\n",
       "      <td>374.852164</td>\n",
       "      <td>474.410912</td>\n",
       "      <td>403.485174</td>\n",
       "      <td>507.590066</td>\n",
       "      <td>467.729087</td>\n",
       "      <td>547.045742</td>\n",
       "      <td>539.477812</td>\n",
       "      <td>618.242451</td>\n",
       "      <td>139.523552</td>\n",
       "      <td>175.198259</td>\n",
       "    </tr>\n",
       "    <tr>\n",
       "      <th>9</th>\n",
       "      <td>353.006064</td>\n",
       "      <td>429.441543</td>\n",
       "      <td>360.959266</td>\n",
       "      <td>432.599541</td>\n",
       "      <td>397.529148</td>\n",
       "      <td>483.466389</td>\n",
       "      <td>440.142368</td>\n",
       "      <td>586.402972</td>\n",
       "      <td>536.917401</td>\n",
       "      <td>644.072579</td>\n",
       "      <td>128.072254</td>\n",
       "      <td>174.521510</td>\n",
       "    </tr>\n",
       "    <tr>\n",
       "      <th>10</th>\n",
       "      <td>308.492464</td>\n",
       "      <td>372.854084</td>\n",
       "      <td>307.653262</td>\n",
       "      <td>368.606942</td>\n",
       "      <td>408.646672</td>\n",
       "      <td>478.449823</td>\n",
       "      <td>502.794527</td>\n",
       "      <td>593.916678</td>\n",
       "      <td>589.867466</td>\n",
       "      <td>701.939899</td>\n",
       "      <td>134.134995</td>\n",
       "      <td>174.366936</td>\n",
       "    </tr>\n",
       "    <tr>\n",
       "      <th>11</th>\n",
       "      <td>270.272360</td>\n",
       "      <td>328.409873</td>\n",
       "      <td>294.132336</td>\n",
       "      <td>330.928267</td>\n",
       "      <td>369.163616</td>\n",
       "      <td>442.701488</td>\n",
       "      <td>481.375749</td>\n",
       "      <td>579.969120</td>\n",
       "      <td>592.753012</td>\n",
       "      <td>735.954344</td>\n",
       "      <td>152.428142</td>\n",
       "      <td>176.524153</td>\n",
       "    </tr>\n",
       "    <tr>\n",
       "      <th>12</th>\n",
       "      <td>261.143344</td>\n",
       "      <td>327.164356</td>\n",
       "      <td>268.611390</td>\n",
       "      <td>331.226551</td>\n",
       "      <td>385.219289</td>\n",
       "      <td>430.686409</td>\n",
       "      <td>486.391743</td>\n",
       "      <td>590.314367</td>\n",
       "      <td>647.430893</td>\n",
       "      <td>784.724860</td>\n",
       "      <td>157.987227</td>\n",
       "      <td>198.990662</td>\n",
       "    </tr>\n",
       "  </tbody>\n",
       "</table>\n",
       "</div>"
      ],
      "text/plain": [
       "               NNI                     ENI                     WNI  \\\n",
       "               Q33         Q66         Q33         Q66         Q33   \n",
       "season                                                               \n",
       "1       240.299546  278.529469  265.411789  307.376860  330.177509   \n",
       "2       208.414508  279.729167  235.260423  284.496569  280.653530   \n",
       "3       217.093619  277.925908  240.173050  302.892519  242.881341   \n",
       "4       235.801031  300.832563  248.861859  328.553242  251.985956   \n",
       "5       260.802915  321.998845  278.948414  355.041013  303.589914   \n",
       "6       331.203163  384.842877  310.147596  398.181329  369.926425   \n",
       "7       359.751829  436.828122  365.192579  439.146340  406.718835   \n",
       "8       372.300646  454.474422  374.852164  474.410912  403.485174   \n",
       "9       353.006064  429.441543  360.959266  432.599541  397.529148   \n",
       "10      308.492464  372.854084  307.653262  368.606942  408.646672   \n",
       "11      270.272360  328.409873  294.132336  330.928267  369.163616   \n",
       "12      261.143344  327.164356  268.611390  331.226551  385.219289   \n",
       "\n",
       "                           NSI                     WSI              \\\n",
       "               Q66         Q33         Q66         Q33         Q66   \n",
       "season                                                               \n",
       "1       377.324029  414.024039  501.015876  622.472699  773.931314   \n",
       "2       343.018331  371.357113  432.859094  589.754267  707.413070   \n",
       "3       314.612834  331.816089  411.656688  530.911738  644.961253   \n",
       "4       311.712658  336.380184  421.582449  531.844084  599.625668   \n",
       "5       345.130635  361.742840  467.804978  571.618630  683.189705   \n",
       "6       425.016314  443.447936  517.646237  559.705826  671.157257   \n",
       "7       479.052824  442.162067  543.142652  560.588640  655.220968   \n",
       "8       507.590066  467.729087  547.045742  539.477812  618.242451   \n",
       "9       483.466389  440.142368  586.402972  536.917401  644.072579   \n",
       "10      478.449823  502.794527  593.916678  589.867466  701.939899   \n",
       "11      442.701488  481.375749  579.969120  592.753012  735.954344   \n",
       "12      430.686409  486.391743  590.314367  647.430893  784.724860   \n",
       "\n",
       "               ESI              \n",
       "               Q33         Q66  \n",
       "season                          \n",
       "1       152.919959  180.243479  \n",
       "2       146.467965  175.910272  \n",
       "3       137.784267  167.271257  \n",
       "4       138.677794  171.876955  \n",
       "5       140.414387  176.716967  \n",
       "6       136.499035  166.867917  \n",
       "7       138.438272  177.386182  \n",
       "8       139.523552  175.198259  \n",
       "9       128.072254  174.521510  \n",
       "10      134.134995  174.366936  \n",
       "11      152.428142  176.524153  \n",
       "12      157.987227  198.990662  "
      ]
     },
     "execution_count": 30,
     "metadata": {},
     "output_type": "execute_result"
    }
   ],
   "source": [
    "quantiles_df"
   ]
  },
  {
   "cell_type": "code",
   "execution_count": 31,
   "metadata": {},
   "outputs": [],
   "source": [
    "quantiles_df.to_csv(opath.parent / f'Climatological_quantiles_{num_quantiles}_cat_{big_var}.csv')"
   ]
  }
 ],
 "metadata": {
  "kernelspec": {
   "display_name": "Python 3",
   "language": "python",
   "name": "python3"
  },
  "language_info": {
   "codemirror_mode": {
    "name": "ipython",
    "version": 3
   },
   "file_extension": ".py",
   "mimetype": "text/x-python",
   "name": "python",
   "nbconvert_exporter": "python",
   "pygments_lexer": "ipython3",
   "version": "3.7.5"
  },
  "latex_envs": {
   "bibliofile": "biblio.bib",
   "cite_by": "apalike",
   "current_citInitial": 1,
   "eqLabelWithNumbers": true,
   "eqNumInitial": 0
  }
 },
 "nbformat": 4,
 "nbformat_minor": 4
}
