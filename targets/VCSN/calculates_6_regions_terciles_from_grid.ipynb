{
 "cells": [
  {
   "cell_type": "markdown",
   "metadata": {},
   "source": [
    "# calculates the seasonal anomalies and the seasonal tercile categories from the gridded VCSN monthly files, using the NZ 6 regions shapefiles "
   ]
  },
  {
   "cell_type": "code",
   "execution_count": 1,
   "metadata": {},
   "outputs": [],
   "source": [
    "# Paramaters \n",
    "\n",
    "# var_name = 'Rain_bc'\n",
    "# var_name = 'Tmin_N'\n",
    "# var_name = 'Tmax_N'\n",
    "# var_name = 'Tmean_N'\n",
    "# var_name = 'SoilM'\n",
    "# var_name = 'Wind'\n",
    "var_name = 'Rad'"
   ]
  },
  {
   "cell_type": "markdown",
   "metadata": {},
   "source": [
    "in ['Agent', 'Lat', 'Longt', 'Date', 'MSLP', 'PET', 'Rain', 'RH', 'SoilM',\n",
    "       'ETmp', 'Rad', 'TMax', 'Tmin', 'VP', 'Wind', 'Rain_bc', 'Tmax_N',\n",
    "       'Tmin_N']"
   ]
  },
  {
   "cell_type": "code",
   "execution_count": 2,
   "metadata": {},
   "outputs": [],
   "source": [
    "import os\n",
    "import sys\n",
    "import pathlib"
   ]
  },
  {
   "cell_type": "code",
   "execution_count": 3,
   "metadata": {
    "collapsed": false,
    "jupyter": {
     "outputs_hidden": false
    }
   },
   "outputs": [],
   "source": [
    "%matplotlib inline\n",
    "from matplotlib import pyplot as plt\n",
    "\n",
    "import numpy as np\n",
    "import pandas as pd\n",
    "from scipy.spatial import cKDTree\n",
    "from itertools import product"
   ]
  },
  {
   "cell_type": "code",
   "execution_count": 4,
   "metadata": {},
   "outputs": [],
   "source": [
    "import salem\n",
    "import geopandas as gpd"
   ]
  },
  {
   "cell_type": "code",
   "execution_count": 5,
   "metadata": {
    "collapsed": false,
    "jupyter": {
     "outputs_hidden": false
    }
   },
   "outputs": [],
   "source": [
    "import xarray as xr"
   ]
  },
  {
   "cell_type": "markdown",
   "metadata": {},
   "source": [
    "### function to calculate the anomalies with respect to the 1981 - 2010 climatology "
   ]
  },
  {
   "cell_type": "code",
   "execution_count": 6,
   "metadata": {
    "collapsed": false,
    "jupyter": {
     "outputs_hidden": false
    }
   },
   "outputs": [],
   "source": [
    "def demean(x): \n",
    "    return x - x.loc['1981':'2010',].mean()"
   ]
  },
  {
   "cell_type": "code",
   "execution_count": 7,
   "metadata": {},
   "outputs": [
    {
     "data": {
      "text/plain": [
       "'Rad'"
      ]
     },
     "execution_count": 7,
     "metadata": {},
     "output_type": "execute_result"
    }
   ],
   "source": [
    "var_name"
   ]
  },
  {
   "cell_type": "code",
   "execution_count": 8,
   "metadata": {},
   "outputs": [],
   "source": [
    "big_var = var_name.split('_')[0].upper()"
   ]
  },
  {
   "cell_type": "code",
   "execution_count": 9,
   "metadata": {},
   "outputs": [],
   "source": [
    "HOME = pathlib.Path.home()"
   ]
  },
  {
   "cell_type": "code",
   "execution_count": 10,
   "metadata": {},
   "outputs": [],
   "source": [
    "dpath = HOME / 'operational/VCSN/data/NC/MONTHLY/' / var_name.upper()"
   ]
  },
  {
   "cell_type": "code",
   "execution_count": 11,
   "metadata": {},
   "outputs": [
    {
     "data": {
      "text/plain": [
       "'RAD'"
      ]
     },
     "execution_count": 11,
     "metadata": {},
     "output_type": "execute_result"
    }
   ],
   "source": [
    "var_name.upper()"
   ]
  },
  {
   "cell_type": "code",
   "execution_count": 12,
   "metadata": {},
   "outputs": [
    {
     "data": {
      "text/plain": [
       "PosixPath('/home/nicolasf/operational/VCSN/data/NC/MONTHLY/RAD')"
      ]
     },
     "execution_count": 12,
     "metadata": {},
     "output_type": "execute_result"
    }
   ],
   "source": [
    "dpath"
   ]
  },
  {
   "cell_type": "code",
   "execution_count": 13,
   "metadata": {
    "collapsed": false,
    "jupyter": {
     "outputs_hidden": false
    }
   },
   "outputs": [],
   "source": [
    "dset = salem.open_xr_dataset(dpath / f'VCSN_gridded_{var_name}_1979-01_2019-12.nc') "
   ]
  },
  {
   "cell_type": "code",
   "execution_count": 14,
   "metadata": {},
   "outputs": [
    {
     "data": {
      "text/html": [
       "<pre>&lt;xarray.Dataset&gt;\n",
       "Dimensions:  (lat: 257, lon: 241, time: 492)\n",
       "Coordinates:\n",
       "  * time     (time) datetime64[ns] 1979-01-31 1979-02-28 ... 2019-12-31\n",
       "  * lat      (lat) float64 -47.27 -47.23 -47.17 -47.12 ... -34.52 -34.48 -34.42\n",
       "  * lon      (lon) float64 166.5 166.5 166.6 166.6 ... 178.3 178.4 178.4 178.5\n",
       "Data variables:\n",
       "    Rad      (time, lat, lon) float64 ...\n",
       "    agent    (lat, lon) float32 ...\n",
       "Attributes:\n",
       "    pyproj_srs:  +units=m +proj=latlong +datum=WGS84 </pre>"
      ],
      "text/plain": [
       "<xarray.Dataset>\n",
       "Dimensions:  (lat: 257, lon: 241, time: 492)\n",
       "Coordinates:\n",
       "  * time     (time) datetime64[ns] 1979-01-31 1979-02-28 ... 2019-12-31\n",
       "  * lat      (lat) float64 -47.27 -47.23 -47.17 -47.12 ... -34.52 -34.48 -34.42\n",
       "  * lon      (lon) float64 166.5 166.5 166.6 166.6 ... 178.3 178.4 178.4 178.5\n",
       "Data variables:\n",
       "    Rad      (time, lat, lon) float64 ...\n",
       "    agent    (lat, lon) float32 ...\n",
       "Attributes:\n",
       "    pyproj_srs:  +units=m +proj=latlong +datum=WGS84 "
      ]
     },
     "execution_count": 14,
     "metadata": {},
     "output_type": "execute_result"
    }
   ],
   "source": [
    "dset"
   ]
  },
  {
   "cell_type": "markdown",
   "metadata": {},
   "source": [
    "### calculates the seasonal average (or sum if Rain_bc is the variable )"
   ]
  },
  {
   "cell_type": "code",
   "execution_count": 15,
   "metadata": {},
   "outputs": [],
   "source": [
    "if var_name == 'Rain_bc': \n",
    "    dset = dset.rolling(time=3, min_periods=3).sum()\n",
    "else: \n",
    "    dset = dset.rolling(time=3, min_periods=3).mean()"
   ]
  },
  {
   "cell_type": "code",
   "execution_count": 16,
   "metadata": {},
   "outputs": [],
   "source": [
    "dset = dset.isel(time=slice(2,None))"
   ]
  },
  {
   "cell_type": "code",
   "execution_count": 17,
   "metadata": {},
   "outputs": [],
   "source": [
    "nz_regions = gpd.read_file(HOME / 'research' / 'Smart_Ideas' / 'data' / 'shapefiles' / 'NZ_regions' / 'NZ_6_regions' / 'NZ_regions_corrected.shp') "
   ]
  },
  {
   "cell_type": "code",
   "execution_count": 18,
   "metadata": {},
   "outputs": [
    {
     "data": {
      "text/html": [
       "<div>\n",
       "<style scoped>\n",
       "    .dataframe tbody tr th:only-of-type {\n",
       "        vertical-align: middle;\n",
       "    }\n",
       "\n",
       "    .dataframe tbody tr th {\n",
       "        vertical-align: top;\n",
       "    }\n",
       "\n",
       "    .dataframe thead th {\n",
       "        text-align: right;\n",
       "    }\n",
       "</style>\n",
       "<table border=\"1\" class=\"dataframe\">\n",
       "  <thead>\n",
       "    <tr style=\"text-align: right;\">\n",
       "      <th></th>\n",
       "      <th>OBJECTID</th>\n",
       "      <th>Id</th>\n",
       "      <th>gridcode</th>\n",
       "      <th>Shape_Leng</th>\n",
       "      <th>Shape_Area</th>\n",
       "      <th>Location</th>\n",
       "      <th>geometry</th>\n",
       "    </tr>\n",
       "  </thead>\n",
       "  <tbody>\n",
       "    <tr>\n",
       "      <th>0</th>\n",
       "      <td>1</td>\n",
       "      <td>1</td>\n",
       "      <td>1</td>\n",
       "      <td>85.215338</td>\n",
       "      <td>5.032753</td>\n",
       "      <td>NNI</td>\n",
       "      <td>MULTIPOLYGON (((174.70530 -38.17377, 174.70545...</td>\n",
       "    </tr>\n",
       "    <tr>\n",
       "      <th>1</th>\n",
       "      <td>2</td>\n",
       "      <td>2</td>\n",
       "      <td>2</td>\n",
       "      <td>12.336015</td>\n",
       "      <td>2.994028</td>\n",
       "      <td>WNI</td>\n",
       "      <td>MULTIPOLYGON (((175.13516 -41.37745, 175.13507...</td>\n",
       "    </tr>\n",
       "    <tr>\n",
       "      <th>2</th>\n",
       "      <td>3</td>\n",
       "      <td>3</td>\n",
       "      <td>3</td>\n",
       "      <td>14.235493</td>\n",
       "      <td>3.775388</td>\n",
       "      <td>ENI</td>\n",
       "      <td>MULTIPOLYGON (((175.85595 -41.35970, 175.85595...</td>\n",
       "    </tr>\n",
       "    <tr>\n",
       "      <th>3</th>\n",
       "      <td>4</td>\n",
       "      <td>4</td>\n",
       "      <td>4</td>\n",
       "      <td>34.656463</td>\n",
       "      <td>3.066280</td>\n",
       "      <td>NSI</td>\n",
       "      <td>MULTIPOLYGON (((171.32620 -42.12355, 171.32602...</td>\n",
       "    </tr>\n",
       "    <tr>\n",
       "      <th>4</th>\n",
       "      <td>5</td>\n",
       "      <td>5</td>\n",
       "      <td>6</td>\n",
       "      <td>20.191504</td>\n",
       "      <td>4.827228</td>\n",
       "      <td>ESI</td>\n",
       "      <td>MULTIPOLYGON (((170.21675 -46.05955, 170.21609...</td>\n",
       "    </tr>\n",
       "    <tr>\n",
       "      <th>5</th>\n",
       "      <td>6</td>\n",
       "      <td>6</td>\n",
       "      <td>5</td>\n",
       "      <td>42.941379</td>\n",
       "      <td>9.057410</td>\n",
       "      <td>WSI</td>\n",
       "      <td>MULTIPOLYGON (((169.20749 -46.66371, 169.20742...</td>\n",
       "    </tr>\n",
       "  </tbody>\n",
       "</table>\n",
       "</div>"
      ],
      "text/plain": [
       "   OBJECTID  Id  gridcode  Shape_Leng  Shape_Area Location  \\\n",
       "0         1   1         1   85.215338    5.032753      NNI   \n",
       "1         2   2         2   12.336015    2.994028      WNI   \n",
       "2         3   3         3   14.235493    3.775388      ENI   \n",
       "3         4   4         4   34.656463    3.066280      NSI   \n",
       "4         5   5         6   20.191504    4.827228      ESI   \n",
       "5         6   6         5   42.941379    9.057410      WSI   \n",
       "\n",
       "                                            geometry  \n",
       "0  MULTIPOLYGON (((174.70530 -38.17377, 174.70545...  \n",
       "1  MULTIPOLYGON (((175.13516 -41.37745, 175.13507...  \n",
       "2  MULTIPOLYGON (((175.85595 -41.35970, 175.85595...  \n",
       "3  MULTIPOLYGON (((171.32620 -42.12355, 171.32602...  \n",
       "4  MULTIPOLYGON (((170.21675 -46.05955, 170.21609...  \n",
       "5  MULTIPOLYGON (((169.20749 -46.66371, 169.20742...  "
      ]
     },
     "execution_count": 18,
     "metadata": {},
     "output_type": "execute_result"
    }
   ],
   "source": [
    "nz_regions"
   ]
  },
  {
   "cell_type": "code",
   "execution_count": 19,
   "metadata": {},
   "outputs": [],
   "source": [
    "nz_regions = nz_regions.to_crs(epsg=4326)"
   ]
  },
  {
   "cell_type": "code",
   "execution_count": 20,
   "metadata": {},
   "outputs": [],
   "source": [
    "opath_root = HOME / 'research' / 'Smart_Ideas' / 'outputs' / 'targets' / 'NZ_regions' / 'NZ_6_regions'"
   ]
  },
  {
   "cell_type": "code",
   "execution_count": 21,
   "metadata": {},
   "outputs": [],
   "source": [
    "if not opath_root.exists(): \n",
    "    opath_root.mkdir(parents=True)"
   ]
  },
  {
   "cell_type": "markdown",
   "metadata": {},
   "source": [
    "### defines the number of quantiles we want "
   ]
  },
  {
   "cell_type": "code",
   "execution_count": 22,
   "metadata": {},
   "outputs": [],
   "source": [
    "num_quantiles = 3"
   ]
  },
  {
   "cell_type": "code",
   "execution_count": 23,
   "metadata": {},
   "outputs": [],
   "source": [
    "quant_values = np.linspace(0, 1, num_quantiles + 1, endpoint=True)"
   ]
  },
  {
   "cell_type": "code",
   "execution_count": 24,
   "metadata": {},
   "outputs": [],
   "source": [
    "quant_values = quant_values[1:-1]"
   ]
  },
  {
   "cell_type": "code",
   "execution_count": 25,
   "metadata": {},
   "outputs": [
    {
     "data": {
      "text/plain": [
       "array([0.33333333, 0.66666667])"
      ]
     },
     "execution_count": 25,
     "metadata": {},
     "output_type": "execute_result"
    }
   ],
   "source": [
    "quant_values"
   ]
  },
  {
   "cell_type": "code",
   "execution_count": 26,
   "metadata": {},
   "outputs": [],
   "source": [
    "col_labs = [f\"Q{int(x)}\" for x in (quant_values*100)]"
   ]
  },
  {
   "cell_type": "code",
   "execution_count": 27,
   "metadata": {},
   "outputs": [
    {
     "data": {
      "text/plain": [
       "['Q33', 'Q66']"
      ]
     },
     "execution_count": 27,
     "metadata": {},
     "output_type": "execute_result"
    }
   ],
   "source": [
    "col_labs"
   ]
  },
  {
   "cell_type": "code",
   "execution_count": 28,
   "metadata": {},
   "outputs": [
    {
     "name": "stdout",
     "output_type": "stream",
     "text": [
      "region NNI processed for variable RAD\n",
      "region ENI processed for variable RAD\n",
      "region WNI processed for variable RAD\n",
      "region NSI processed for variable RAD\n",
      "region WSI processed for variable RAD\n",
      "region ESI processed for variable RAD\n"
     ]
    }
   ],
   "source": [
    "# f, axes = plt.subplots(nrows=3, ncols=2)\n",
    "# axes = axes.flatten()\n",
    "\n",
    "quantiles_dict = {}\n",
    "\n",
    "for i, region_name in enumerate(['NNI','ENI','WNI','NSI','WSI','ESI']): \n",
    "    \n",
    "    shape = nz_regions.query(f\"Location == '{region_name}'\")\n",
    "    \n",
    "    region = dset.salem.subset(shape=shape)\n",
    "\n",
    "    region = region.salem.roi(shape=shape, all_touched=True)\n",
    "    \n",
    "#     region[var_name].isel(time=0).plot(ax=axes[i])\n",
    "    \n",
    "    ts = region.mean(dim=['lat','lon'])\n",
    "    \n",
    "    ts_df = ts[var_name].to_dataframe()\n",
    "            \n",
    "    ts_series = ts_df.loc[:,var_name]\n",
    "    \n",
    "    ts_series_cat = []\n",
    "    \n",
    "    quantiles_list = []\n",
    "    \n",
    "    for month in range(1, 13):\n",
    "        \n",
    "        ts_series_m = ts_series[ts_series.index.month == month]\n",
    "        \n",
    "        clim = ts_series_m.loc['1981':'2010']\n",
    "        \n",
    "        quantiles = [clim.quantile(q=q) for q in quant_values.tolist()]\n",
    "        \n",
    "        quantiles_list.append(quantiles.copy())\n",
    "        \n",
    "        quantiles.insert(0, -np.inf)\n",
    "        \n",
    "        quantiles.append(np.inf)\n",
    "        \n",
    "        ts_series_m_cats = pd.cut(ts_series_m, quantiles, labels=list(range(1, num_quantiles + 1)))\n",
    "        \n",
    "        ts_series_cat.append(ts_series_m_cats)\n",
    "        \n",
    "        del(quantiles)\n",
    "     \n",
    "    quantiles_dict[region_name]  = np.array(quantiles_list)\n",
    "    \n",
    "    ts_series_cat = pd.concat(ts_series_cat, axis=0)\n",
    "    \n",
    "    ts_series_cat = ts_series_cat.sort_index()\n",
    "    \n",
    "    ts_df.loc[:,f'cat_{num_quantiles}'] = ts_series_cat\n",
    "    \n",
    "    ts_df.loc[:,'anomalies'] = ts_df.loc[:,var_name].groupby(ts_df.index.month).apply(demean)\n",
    "    \n",
    "    opath = opath_root / big_var / region_name \n",
    "    \n",
    "    if not opath.exists(): \n",
    "        opath.mkdir(parents=True)\n",
    "        \n",
    "    ts_df.to_csv(opath / f'TS_NZ_region_{region_name}_{big_var}_{num_quantiles}_quantiles_anoms.csv')\n",
    "    \n",
    "    #descriptive statistics per quantile category \n",
    "    \n",
    "    ts_df.groupby(ts_df.loc[:,f'cat_{num_quantiles}']).describe().to_csv(opath / f'descriptive_stats_{region_name}__{big_var}_{num_quantiles}.csv')\n",
    "    \n",
    "    print(f\"region {region_name} processed for variable {big_var}\")\n",
    "    "
   ]
  },
  {
   "cell_type": "markdown",
   "metadata": {},
   "source": [
    "### saves the climatological terciles calculated from the VCSN regional aggregates"
   ]
  },
  {
   "cell_type": "code",
   "execution_count": 29,
   "metadata": {},
   "outputs": [],
   "source": [
    "quantiles_list = []\n",
    "for region_name in ['NNI','ENI','WNI','NSI','WSI','ESI']: \n",
    "    df = pd.DataFrame(quantiles_dict[region_name])\n",
    "    df.index = range(1, 13)\n",
    "    df.index.name = 'season'\n",
    "    df.columns = pd.MultiIndex.from_product([[region_name],col_labs])\n",
    "    quantiles_list.append(df)"
   ]
  },
  {
   "cell_type": "code",
   "execution_count": 30,
   "metadata": {},
   "outputs": [],
   "source": [
    "quantiles_df = pd.concat(quantiles_list, axis=1)"
   ]
  },
  {
   "cell_type": "code",
   "execution_count": 31,
   "metadata": {},
   "outputs": [
    {
     "data": {
      "text/html": [
       "<div>\n",
       "<style scoped>\n",
       "    .dataframe tbody tr th:only-of-type {\n",
       "        vertical-align: middle;\n",
       "    }\n",
       "\n",
       "    .dataframe tbody tr th {\n",
       "        vertical-align: top;\n",
       "    }\n",
       "\n",
       "    .dataframe thead tr th {\n",
       "        text-align: left;\n",
       "    }\n",
       "\n",
       "    .dataframe thead tr:last-of-type th {\n",
       "        text-align: right;\n",
       "    }\n",
       "</style>\n",
       "<table border=\"1\" class=\"dataframe\">\n",
       "  <thead>\n",
       "    <tr>\n",
       "      <th></th>\n",
       "      <th colspan=\"2\" halign=\"left\">NNI</th>\n",
       "      <th colspan=\"2\" halign=\"left\">ENI</th>\n",
       "      <th colspan=\"2\" halign=\"left\">WNI</th>\n",
       "      <th colspan=\"2\" halign=\"left\">NSI</th>\n",
       "      <th colspan=\"2\" halign=\"left\">WSI</th>\n",
       "      <th colspan=\"2\" halign=\"left\">ESI</th>\n",
       "    </tr>\n",
       "    <tr>\n",
       "      <th></th>\n",
       "      <th>Q33</th>\n",
       "      <th>Q66</th>\n",
       "      <th>Q33</th>\n",
       "      <th>Q66</th>\n",
       "      <th>Q33</th>\n",
       "      <th>Q66</th>\n",
       "      <th>Q33</th>\n",
       "      <th>Q66</th>\n",
       "      <th>Q33</th>\n",
       "      <th>Q66</th>\n",
       "      <th>Q33</th>\n",
       "      <th>Q66</th>\n",
       "    </tr>\n",
       "    <tr>\n",
       "      <th>season</th>\n",
       "      <th></th>\n",
       "      <th></th>\n",
       "      <th></th>\n",
       "      <th></th>\n",
       "      <th></th>\n",
       "      <th></th>\n",
       "      <th></th>\n",
       "      <th></th>\n",
       "      <th></th>\n",
       "      <th></th>\n",
       "      <th></th>\n",
       "      <th></th>\n",
       "    </tr>\n",
       "  </thead>\n",
       "  <tbody>\n",
       "    <tr>\n",
       "      <th>1</th>\n",
       "      <td>20.819861</td>\n",
       "      <td>21.448777</td>\n",
       "      <td>21.272664</td>\n",
       "      <td>22.093260</td>\n",
       "      <td>21.061377</td>\n",
       "      <td>21.954414</td>\n",
       "      <td>21.189076</td>\n",
       "      <td>22.129736</td>\n",
       "      <td>20.154535</td>\n",
       "      <td>20.865758</td>\n",
       "      <td>20.922953</td>\n",
       "      <td>21.672560</td>\n",
       "    </tr>\n",
       "    <tr>\n",
       "      <th>2</th>\n",
       "      <td>20.480753</td>\n",
       "      <td>21.125412</td>\n",
       "      <td>20.665280</td>\n",
       "      <td>21.526482</td>\n",
       "      <td>21.078526</td>\n",
       "      <td>21.689622</td>\n",
       "      <td>21.043352</td>\n",
       "      <td>21.626373</td>\n",
       "      <td>19.806858</td>\n",
       "      <td>20.562944</td>\n",
       "      <td>20.032605</td>\n",
       "      <td>20.962803</td>\n",
       "    </tr>\n",
       "    <tr>\n",
       "      <th>3</th>\n",
       "      <td>18.572889</td>\n",
       "      <td>18.958652</td>\n",
       "      <td>18.603052</td>\n",
       "      <td>19.332622</td>\n",
       "      <td>19.013971</td>\n",
       "      <td>19.439964</td>\n",
       "      <td>18.832629</td>\n",
       "      <td>19.492998</td>\n",
       "      <td>17.472209</td>\n",
       "      <td>17.852039</td>\n",
       "      <td>17.412796</td>\n",
       "      <td>18.277333</td>\n",
       "    </tr>\n",
       "    <tr>\n",
       "      <th>4</th>\n",
       "      <td>15.025882</td>\n",
       "      <td>15.663719</td>\n",
       "      <td>14.744609</td>\n",
       "      <td>15.530685</td>\n",
       "      <td>15.031409</td>\n",
       "      <td>15.667694</td>\n",
       "      <td>15.032954</td>\n",
       "      <td>15.511761</td>\n",
       "      <td>13.562990</td>\n",
       "      <td>13.992223</td>\n",
       "      <td>13.715287</td>\n",
       "      <td>14.449117</td>\n",
       "    </tr>\n",
       "    <tr>\n",
       "      <th>5</th>\n",
       "      <td>11.358929</td>\n",
       "      <td>11.905582</td>\n",
       "      <td>10.866251</td>\n",
       "      <td>11.288323</td>\n",
       "      <td>11.044009</td>\n",
       "      <td>11.461646</td>\n",
       "      <td>10.939759</td>\n",
       "      <td>11.288740</td>\n",
       "      <td>9.324501</td>\n",
       "      <td>9.602324</td>\n",
       "      <td>9.892127</td>\n",
       "      <td>10.260901</td>\n",
       "    </tr>\n",
       "    <tr>\n",
       "      <th>6</th>\n",
       "      <td>8.391971</td>\n",
       "      <td>8.798104</td>\n",
       "      <td>7.900180</td>\n",
       "      <td>8.078208</td>\n",
       "      <td>7.782832</td>\n",
       "      <td>8.125428</td>\n",
       "      <td>7.473459</td>\n",
       "      <td>7.837181</td>\n",
       "      <td>6.090252</td>\n",
       "      <td>6.357443</td>\n",
       "      <td>6.795269</td>\n",
       "      <td>6.950532</td>\n",
       "    </tr>\n",
       "    <tr>\n",
       "      <th>7</th>\n",
       "      <td>7.102749</td>\n",
       "      <td>7.360209</td>\n",
       "      <td>6.291280</td>\n",
       "      <td>6.563954</td>\n",
       "      <td>6.243780</td>\n",
       "      <td>6.523703</td>\n",
       "      <td>6.041460</td>\n",
       "      <td>6.227390</td>\n",
       "      <td>4.729674</td>\n",
       "      <td>4.932998</td>\n",
       "      <td>5.303289</td>\n",
       "      <td>5.529248</td>\n",
       "    </tr>\n",
       "    <tr>\n",
       "      <th>8</th>\n",
       "      <td>7.591970</td>\n",
       "      <td>7.857803</td>\n",
       "      <td>6.862727</td>\n",
       "      <td>7.224760</td>\n",
       "      <td>6.737661</td>\n",
       "      <td>7.022261</td>\n",
       "      <td>6.590289</td>\n",
       "      <td>6.753570</td>\n",
       "      <td>5.486626</td>\n",
       "      <td>5.622386</td>\n",
       "      <td>5.912735</td>\n",
       "      <td>6.098620</td>\n",
       "    </tr>\n",
       "    <tr>\n",
       "      <th>9</th>\n",
       "      <td>9.640261</td>\n",
       "      <td>10.085765</td>\n",
       "      <td>9.260263</td>\n",
       "      <td>9.588825</td>\n",
       "      <td>8.921246</td>\n",
       "      <td>9.418377</td>\n",
       "      <td>8.963753</td>\n",
       "      <td>9.318676</td>\n",
       "      <td>7.721255</td>\n",
       "      <td>8.108533</td>\n",
       "      <td>8.357364</td>\n",
       "      <td>8.691005</td>\n",
       "    </tr>\n",
       "    <tr>\n",
       "      <th>10</th>\n",
       "      <td>12.782385</td>\n",
       "      <td>13.270705</td>\n",
       "      <td>12.838525</td>\n",
       "      <td>13.245889</td>\n",
       "      <td>12.157535</td>\n",
       "      <td>12.691356</td>\n",
       "      <td>12.496631</td>\n",
       "      <td>13.039063</td>\n",
       "      <td>11.372999</td>\n",
       "      <td>11.867254</td>\n",
       "      <td>12.098492</td>\n",
       "      <td>12.697809</td>\n",
       "    </tr>\n",
       "    <tr>\n",
       "      <th>11</th>\n",
       "      <td>16.124317</td>\n",
       "      <td>16.841248</td>\n",
       "      <td>16.448748</td>\n",
       "      <td>17.237479</td>\n",
       "      <td>15.766186</td>\n",
       "      <td>16.616366</td>\n",
       "      <td>16.345861</td>\n",
       "      <td>17.191047</td>\n",
       "      <td>15.288408</td>\n",
       "      <td>16.090857</td>\n",
       "      <td>16.006178</td>\n",
       "      <td>16.824448</td>\n",
       "    </tr>\n",
       "    <tr>\n",
       "      <th>12</th>\n",
       "      <td>18.794326</td>\n",
       "      <td>19.676577</td>\n",
       "      <td>19.506112</td>\n",
       "      <td>20.327347</td>\n",
       "      <td>18.926835</td>\n",
       "      <td>19.691404</td>\n",
       "      <td>19.238440</td>\n",
       "      <td>20.169825</td>\n",
       "      <td>18.482232</td>\n",
       "      <td>19.176596</td>\n",
       "      <td>19.078350</td>\n",
       "      <td>19.997285</td>\n",
       "    </tr>\n",
       "  </tbody>\n",
       "</table>\n",
       "</div>"
      ],
      "text/plain": [
       "              NNI                   ENI                   WNI             \\\n",
       "              Q33        Q66        Q33        Q66        Q33        Q66   \n",
       "season                                                                     \n",
       "1       20.819861  21.448777  21.272664  22.093260  21.061377  21.954414   \n",
       "2       20.480753  21.125412  20.665280  21.526482  21.078526  21.689622   \n",
       "3       18.572889  18.958652  18.603052  19.332622  19.013971  19.439964   \n",
       "4       15.025882  15.663719  14.744609  15.530685  15.031409  15.667694   \n",
       "5       11.358929  11.905582  10.866251  11.288323  11.044009  11.461646   \n",
       "6        8.391971   8.798104   7.900180   8.078208   7.782832   8.125428   \n",
       "7        7.102749   7.360209   6.291280   6.563954   6.243780   6.523703   \n",
       "8        7.591970   7.857803   6.862727   7.224760   6.737661   7.022261   \n",
       "9        9.640261  10.085765   9.260263   9.588825   8.921246   9.418377   \n",
       "10      12.782385  13.270705  12.838525  13.245889  12.157535  12.691356   \n",
       "11      16.124317  16.841248  16.448748  17.237479  15.766186  16.616366   \n",
       "12      18.794326  19.676577  19.506112  20.327347  18.926835  19.691404   \n",
       "\n",
       "              NSI                   WSI                   ESI             \n",
       "              Q33        Q66        Q33        Q66        Q33        Q66  \n",
       "season                                                                    \n",
       "1       21.189076  22.129736  20.154535  20.865758  20.922953  21.672560  \n",
       "2       21.043352  21.626373  19.806858  20.562944  20.032605  20.962803  \n",
       "3       18.832629  19.492998  17.472209  17.852039  17.412796  18.277333  \n",
       "4       15.032954  15.511761  13.562990  13.992223  13.715287  14.449117  \n",
       "5       10.939759  11.288740   9.324501   9.602324   9.892127  10.260901  \n",
       "6        7.473459   7.837181   6.090252   6.357443   6.795269   6.950532  \n",
       "7        6.041460   6.227390   4.729674   4.932998   5.303289   5.529248  \n",
       "8        6.590289   6.753570   5.486626   5.622386   5.912735   6.098620  \n",
       "9        8.963753   9.318676   7.721255   8.108533   8.357364   8.691005  \n",
       "10      12.496631  13.039063  11.372999  11.867254  12.098492  12.697809  \n",
       "11      16.345861  17.191047  15.288408  16.090857  16.006178  16.824448  \n",
       "12      19.238440  20.169825  18.482232  19.176596  19.078350  19.997285  "
      ]
     },
     "execution_count": 31,
     "metadata": {},
     "output_type": "execute_result"
    }
   ],
   "source": [
    "quantiles_df"
   ]
  },
  {
   "cell_type": "code",
   "execution_count": 32,
   "metadata": {},
   "outputs": [],
   "source": [
    "quantiles_df.to_csv(opath.parent / f'Climatological_quantiles_{num_quantiles}_cat_{big_var}.csv')"
   ]
  },
  {
   "cell_type": "code",
   "execution_count": null,
   "metadata": {},
   "outputs": [],
   "source": []
  }
 ],
 "metadata": {
  "kernelspec": {
   "display_name": "Python 3",
   "language": "python",
   "name": "python3"
  },
  "language_info": {
   "codemirror_mode": {
    "name": "ipython",
    "version": 3
   },
   "file_extension": ".py",
   "mimetype": "text/x-python",
   "name": "python",
   "nbconvert_exporter": "python",
   "pygments_lexer": "ipython3",
   "version": "3.7.5"
  },
  "latex_envs": {
   "bibliofile": "biblio.bib",
   "cite_by": "apalike",
   "current_citInitial": 1,
   "eqLabelWithNumbers": true,
   "eqNumInitial": 0
  }
 },
 "nbformat": 4,
 "nbformat_minor": 4
}
