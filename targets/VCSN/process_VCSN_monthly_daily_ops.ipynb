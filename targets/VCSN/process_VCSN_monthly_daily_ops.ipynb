{
 "cells": [
  {
   "cell_type": "code",
   "execution_count": null,
   "metadata": {},
   "outputs": [],
   "source": [
    "#Parameters\n",
    "\n",
    "VAR_NAME = 'Tmin_N'\n",
    "\n",
    "CLEAN_UP_ZIP = False\n",
    "\n",
    "UNZIP = False\n",
    "\n",
    "MONTHLY = True\n",
    "\n",
    "LOCAL = True"
   ]
  },
  {
   "cell_type": "markdown",
   "metadata": {},
   "source": [
    "in ['Agent', 'Lat', 'Longt', 'Date', 'MSLP', 'PET', 'Rain', 'RH', 'SoilM',\n",
    "       'ETmp', 'Rad', 'TMax', 'Tmin', 'VP', 'Wind', 'Rain_bc', 'Tmax_N',\n",
    "       'Tmin_N']"
   ]
  },
  {
   "cell_type": "code",
   "execution_count": 2,
   "metadata": {},
   "outputs": [],
   "source": [
    "%matplotlib inline\n",
    "from matplotlib import pyplot as plt"
   ]
  },
  {
   "cell_type": "code",
   "execution_count": 3,
   "metadata": {},
   "outputs": [],
   "source": [
    "from datetime import datetime"
   ]
  },
  {
   "cell_type": "code",
   "execution_count": 4,
   "metadata": {},
   "outputs": [],
   "source": [
    "from subprocess import call"
   ]
  },
  {
   "cell_type": "code",
   "execution_count": 5,
   "metadata": {},
   "outputs": [],
   "source": [
    "import pathlib\n",
    "import shutil"
   ]
  },
  {
   "cell_type": "code",
   "execution_count": 6,
   "metadata": {},
   "outputs": [],
   "source": [
    "import numpy as np\n",
    "import pandas as pd"
   ]
  },
  {
   "cell_type": "code",
   "execution_count": 7,
   "metadata": {},
   "outputs": [],
   "source": [
    "import xarray as xr"
   ]
  },
  {
   "cell_type": "code",
   "execution_count": 8,
   "metadata": {},
   "outputs": [
    {
     "data": {
      "text/plain": [
       "'0.15.0'"
      ]
     },
     "execution_count": 8,
     "metadata": {},
     "output_type": "execute_result"
    }
   ],
   "source": [
    "xr.__version__"
   ]
  },
  {
   "cell_type": "code",
   "execution_count": 9,
   "metadata": {},
   "outputs": [],
   "source": [
    "import pyresample\n",
    "from pyresample import geometry"
   ]
  },
  {
   "cell_type": "code",
   "execution_count": 10,
   "metadata": {},
   "outputs": [
    {
     "data": {
      "text/plain": [
       "'1.14.0'"
      ]
     },
     "execution_count": 10,
     "metadata": {},
     "output_type": "execute_result"
    }
   ],
   "source": [
    "pyresample.__version__"
   ]
  },
  {
   "cell_type": "code",
   "execution_count": 11,
   "metadata": {},
   "outputs": [],
   "source": [
    "HOME = pathlib.Path.home()"
   ]
  },
  {
   "cell_type": "code",
   "execution_count": 12,
   "metadata": {},
   "outputs": [],
   "source": [
    "dpath_dat = HOME / 'drives' / 'well_groups' / 'CLIMATE' / 'vcsn_data'"
   ]
  },
  {
   "cell_type": "code",
   "execution_count": 13,
   "metadata": {},
   "outputs": [
    {
     "data": {
      "text/plain": [
       "PosixPath('/home/nicolasf/drives/well_groups/CLIMATE/vcsn_data')"
      ]
     },
     "execution_count": 13,
     "metadata": {},
     "output_type": "execute_result"
    }
   ],
   "source": [
    "dpath_dat"
   ]
  },
  {
   "cell_type": "code",
   "execution_count": 14,
   "metadata": {},
   "outputs": [],
   "source": [
    "PWD = pathlib.Path.cwd()"
   ]
  },
  {
   "cell_type": "code",
   "execution_count": 15,
   "metadata": {},
   "outputs": [],
   "source": [
    "tmp_path = PWD.parent / 'tmp'"
   ]
  },
  {
   "cell_type": "code",
   "execution_count": 16,
   "metadata": {},
   "outputs": [],
   "source": [
    "if not LOCAL: \n",
    "    lfiles_zip = list(dpath_dat.glob(\"*.zip\"))\n",
    "    lfiles_zip.sort()\n",
    "    \n",
    "    ### selects years \n",
    "\n",
    "    lfiles_zip = lfiles_zip[1979 - 1960:2019 - 1960 + 1]\n",
    "\n",
    "    if UNZIP: \n",
    "        if not tmp_path.exists(): \n",
    "            tmp_path.mkdir(parents=True)\n",
    "            for fname in lfiles_zip: \n",
    "                cm = f\"unzip {str(fname)} -d {str(tmp_path)}\"\n",
    "                call(cm, shell=True)"
   ]
  },
  {
   "cell_type": "markdown",
   "metadata": {},
   "source": [
    "### list files "
   ]
  },
  {
   "cell_type": "code",
   "execution_count": 17,
   "metadata": {},
   "outputs": [],
   "source": [
    "dat_files = list(tmp_path.glob(\"*.dat\"))"
   ]
  },
  {
   "cell_type": "code",
   "execution_count": 18,
   "metadata": {},
   "outputs": [],
   "source": [
    "dat_files.sort()"
   ]
  },
  {
   "cell_type": "code",
   "execution_count": 19,
   "metadata": {},
   "outputs": [
    {
     "data": {
      "text/plain": [
       "[PosixPath('/home/nicolasf/operational/VCSN/tmp/19790101_vcsn.dat'),\n",
       " PosixPath('/home/nicolasf/operational/VCSN/tmp/19790102_vcsn.dat'),\n",
       " PosixPath('/home/nicolasf/operational/VCSN/tmp/19790103_vcsn.dat'),\n",
       " PosixPath('/home/nicolasf/operational/VCSN/tmp/19790104_vcsn.dat'),\n",
       " PosixPath('/home/nicolasf/operational/VCSN/tmp/19790105_vcsn.dat'),\n",
       " PosixPath('/home/nicolasf/operational/VCSN/tmp/19790106_vcsn.dat'),\n",
       " PosixPath('/home/nicolasf/operational/VCSN/tmp/19790107_vcsn.dat'),\n",
       " PosixPath('/home/nicolasf/operational/VCSN/tmp/19790108_vcsn.dat'),\n",
       " PosixPath('/home/nicolasf/operational/VCSN/tmp/19790109_vcsn.dat'),\n",
       " PosixPath('/home/nicolasf/operational/VCSN/tmp/19790110_vcsn.dat')]"
      ]
     },
     "execution_count": 19,
     "metadata": {},
     "output_type": "execute_result"
    }
   ],
   "source": [
    "dat_files[:10]"
   ]
  },
  {
   "cell_type": "code",
   "execution_count": 20,
   "metadata": {},
   "outputs": [
    {
     "data": {
      "text/plain": [
       "[PosixPath('/home/nicolasf/operational/VCSN/tmp/20191222_vcsn.dat'),\n",
       " PosixPath('/home/nicolasf/operational/VCSN/tmp/20191223_vcsn.dat'),\n",
       " PosixPath('/home/nicolasf/operational/VCSN/tmp/20191224_vcsn.dat'),\n",
       " PosixPath('/home/nicolasf/operational/VCSN/tmp/20191225_vcsn.dat'),\n",
       " PosixPath('/home/nicolasf/operational/VCSN/tmp/20191226_vcsn.dat'),\n",
       " PosixPath('/home/nicolasf/operational/VCSN/tmp/20191227_vcsn.dat'),\n",
       " PosixPath('/home/nicolasf/operational/VCSN/tmp/20191228_vcsn.dat'),\n",
       " PosixPath('/home/nicolasf/operational/VCSN/tmp/20191229_vcsn.dat'),\n",
       " PosixPath('/home/nicolasf/operational/VCSN/tmp/20191230_vcsn.dat'),\n",
       " PosixPath('/home/nicolasf/operational/VCSN/tmp/20191231_vcsn.dat')]"
      ]
     },
     "execution_count": 20,
     "metadata": {},
     "output_type": "execute_result"
    }
   ],
   "source": [
    "dat_files[-10:]"
   ]
  },
  {
   "cell_type": "code",
   "execution_count": 21,
   "metadata": {},
   "outputs": [
    {
     "data": {
      "text/plain": [
       "14975"
      ]
     },
     "execution_count": 21,
     "metadata": {},
     "output_type": "execute_result"
    }
   ],
   "source": [
    "dat_files.__len__()"
   ]
  },
  {
   "cell_type": "code",
   "execution_count": 22,
   "metadata": {},
   "outputs": [
    {
     "data": {
      "text/plain": [
       "14975"
      ]
     },
     "execution_count": 22,
     "metadata": {},
     "output_type": "execute_result"
    }
   ],
   "source": [
    "len(dat_files)"
   ]
  },
  {
   "cell_type": "code",
   "execution_count": 23,
   "metadata": {},
   "outputs": [
    {
     "data": {
      "text/plain": [
       "PosixPath('/home/nicolasf/operational/VCSN/tmp/19790101_vcsn.dat')"
      ]
     },
     "execution_count": 23,
     "metadata": {},
     "output_type": "execute_result"
    }
   ],
   "source": [
    "dat_files[0]"
   ]
  },
  {
   "cell_type": "code",
   "execution_count": 24,
   "metadata": {},
   "outputs": [
    {
     "data": {
      "text/plain": [
       "PosixPath('/home/nicolasf/operational/VCSN/tmp/20191231_vcsn.dat')"
      ]
     },
     "execution_count": 24,
     "metadata": {},
     "output_type": "execute_result"
    }
   ],
   "source": [
    "dat_files[-1]"
   ]
  },
  {
   "cell_type": "markdown",
   "metadata": {},
   "source": [
    "### get the agents and define the swaths and grid, all taken from the LAST DAT file "
   ]
  },
  {
   "cell_type": "code",
   "execution_count": 25,
   "metadata": {},
   "outputs": [],
   "source": [
    "data = pd.read_csv(dat_files[-1], sep=',', na_values=['######','####','###']) \n",
    "\n",
    "lon = data.loc[:,'Longt'].values\n",
    "lat = data.loc[:,'Lat'].values\n",
    "\n",
    "lon4grid = np.sort(np.unique(lon))\n",
    "lat4grid = np.sort(np.unique(lat))\n",
    "\n",
    "xs, ys = np.meshgrid(lon4grid, lat4grid)\n",
    "\n",
    "swath_def_out = geometry.GridDefinition(lons=xs, lats=ys)\n",
    "\n",
    "swath_def_in = geometry.SwathDefinition(lons=lon, lats=lat)\n",
    "\n",
    "agents_in = data.loc[:,'Agent'].values.astype(np.float32)\n",
    "        \n",
    "agents = pyresample.kd_tree.resample_nearest(swath_def_in, agents_in, swath_def_out, radius_of_influence=1, fill_value=np.nan)"
   ]
  },
  {
   "cell_type": "markdown",
   "metadata": {},
   "source": [
    "### Now process the data itself "
   ]
  },
  {
   "cell_type": "code",
   "execution_count": null,
   "metadata": {},
   "outputs": [],
   "source": [
    "ld = []\n",
    "\n",
    "for i, fname in enumerate(dat_files):\n",
    "    \n",
    "    data = pd.read_csv(fname, sep=',', na_values=['######','####','###']) \n",
    "    \n",
    "    date = data.loc[:,'Date']\n",
    "    date = date.unique()[0]\n",
    "    date = datetime.strptime(date, \"%d/%m/%Y\")\n",
    "        \n",
    "    data_in = data.loc[:,VAR_NAME].values\n",
    "    \n",
    "    result = pyresample.kd_tree.resample_nearest(swath_def_in, data_in, swath_def_out, radius_of_influence=10, \\\n",
    "                                             fill_value=np.nan)\n",
    "    \n",
    "    d = {}\n",
    "    d['time'] = (('time'), np.array(date).reshape(-1))\n",
    "    d['lat'] = (('lat'), lat4grid)\n",
    "    d['lon'] = (('lon'), lon4grid)\n",
    "    d[VAR_NAME] = (('time','lat','lon'), result[np.newaxis,...])\n",
    "    \n",
    "    dset = xr.Dataset(d)\n",
    "    \n",
    "#     print(f\"regridded VCSN data for variable {VAR_NAME}, date {date:%Y-%m-%d}\")\n",
    "    \n",
    "    ld.append(dset)"
   ]
  },
  {
   "cell_type": "markdown",
   "metadata": {},
   "source": [
    "### concatenates along the time dimension "
   ]
  },
  {
   "cell_type": "code",
   "execution_count": null,
   "metadata": {},
   "outputs": [],
   "source": [
    "dset = xr.concat(ld, dim='time')"
   ]
  },
  {
   "cell_type": "code",
   "execution_count": null,
   "metadata": {},
   "outputs": [],
   "source": [
    "dset"
   ]
  },
  {
   "cell_type": "code",
   "execution_count": null,
   "metadata": {},
   "outputs": [],
   "source": [
    "if VAR_NAME == 'TMax': \n",
    "    dset = dset.rename({'TMax':'Tmax'})\n",
    "    VAR_NAME = 'Tmax'"
   ]
  },
  {
   "cell_type": "code",
   "execution_count": null,
   "metadata": {},
   "outputs": [],
   "source": [
    "dset"
   ]
  },
  {
   "cell_type": "code",
   "execution_count": null,
   "metadata": {},
   "outputs": [],
   "source": [
    "nc_path = PWD.parent / 'data' / 'NC'"
   ]
  },
  {
   "cell_type": "code",
   "execution_count": null,
   "metadata": {},
   "outputs": [],
   "source": [
    "if not nc_path.exists(): \n",
    "    nc_path.mkdir(parents=True)"
   ]
  },
  {
   "cell_type": "code",
   "execution_count": null,
   "metadata": {},
   "outputs": [],
   "source": [
    "date_start = dset.time[0].data"
   ]
  },
  {
   "cell_type": "code",
   "execution_count": null,
   "metadata": {},
   "outputs": [],
   "source": [
    "date_end = dset.time[-1].data"
   ]
  },
  {
   "cell_type": "code",
   "execution_count": null,
   "metadata": {},
   "outputs": [],
   "source": [
    "dset"
   ]
  },
  {
   "cell_type": "code",
   "execution_count": null,
   "metadata": {},
   "outputs": [],
   "source": [
    "if MONTHLY: \n",
    "    \n",
    "    if VAR_NAME == 'Rain_bc':\n",
    "        \n",
    "        dset = dset.resample({'time':'1M'}).sum() # if rainfall: sum \n",
    "    \n",
    "    else: \n",
    "        \n",
    "        dset = dset.resample({'time':'1M'}).mean() # else: mean \n",
    "        \n",
    "    nc_path = PWD.parent / 'data' / 'NC' / 'MONTHLY' / VAR_NAME.upper()\n",
    "\n",
    "else: \n",
    "    \n",
    "    nc_path = PWD.parent / 'data' / 'NC' / 'DAILY' / VAR_NAME.upper() "
   ]
  },
  {
   "cell_type": "markdown",
   "metadata": {},
   "source": [
    "### set the field with the agent numbers"
   ]
  },
  {
   "cell_type": "code",
   "execution_count": null,
   "metadata": {},
   "outputs": [],
   "source": [
    "dset['agent'] = (('lat','lon'), agents)"
   ]
  },
  {
   "cell_type": "markdown",
   "metadata": {},
   "source": [
    "### if the output path does not exist, create it "
   ]
  },
  {
   "cell_type": "code",
   "execution_count": null,
   "metadata": {},
   "outputs": [],
   "source": [
    "if not nc_path.exists(): \n",
    "    \n",
    "    nc_path.mkdir(parents=True)"
   ]
  },
  {
   "cell_type": "code",
   "execution_count": null,
   "metadata": {},
   "outputs": [],
   "source": [
    "if MONTHLY: \n",
    "    \n",
    "    dset.to_netcdf(nc_path / f\"VCSN_gridded_{VAR_NAME}_{pd.to_datetime(date_start):%Y-%m}_{pd.to_datetime(date_end):%Y-%m}.nc\")\n",
    "\n",
    "else: \n",
    "    \n",
    "    dates = pd.date_range(start=pd.to_datetime(dset.time[0].data), end=pd.to_datetime(dset.time[-1].data), freq='MS')   \n",
    "    \n",
    "    for date in dates: \n",
    "        \n",
    "        sub = dset.sel(time=f\"{date:%Y-%m}\")\n",
    "        sub.to_netcdf(nc_path / f\"VCSN_gridded_daily_{VAR_NAME}_{date:%Y-%m}.nc\")\n",
    "        sub.close()"
   ]
  },
  {
   "cell_type": "code",
   "execution_count": null,
   "metadata": {},
   "outputs": [],
   "source": [
    "dset.close()"
   ]
  },
  {
   "cell_type": "markdown",
   "metadata": {},
   "source": [
    "### clean up if variable is set to True "
   ]
  },
  {
   "cell_type": "code",
   "execution_count": null,
   "metadata": {},
   "outputs": [],
   "source": [
    "tmp_path"
   ]
  },
  {
   "cell_type": "code",
   "execution_count": null,
   "metadata": {},
   "outputs": [],
   "source": [
    "if CLEAN_UP_ZIP: \n",
    "    shutil.rmtree(tmp_path)"
   ]
  }
 ],
 "metadata": {
  "kernelspec": {
   "display_name": "Python 3",
   "language": "python",
   "name": "python3"
  },
  "language_info": {
   "codemirror_mode": {
    "name": "ipython",
    "version": 3
   },
   "file_extension": ".py",
   "mimetype": "text/x-python",
   "name": "python",
   "nbconvert_exporter": "python",
   "pygments_lexer": "ipython3",
   "version": "3.7.5"
  },
  "latex_envs": {
   "LaTeX_envs_menu_present": true,
   "autocomplete": true,
   "bibliofile": "biblio.bib",
   "cite_by": "apalike",
   "current_citInitial": 1,
   "eqLabelWithNumbers": true,
   "eqNumInitial": 1,
   "hotkeys": {
    "equation": "Ctrl-E",
    "itemize": "Ctrl-I"
   },
   "labels_anchors": false,
   "latex_user_defs": false,
   "report_style_numbering": false,
   "user_envs_cfg": false
  }
 },
 "nbformat": 4,
 "nbformat_minor": 4
}
