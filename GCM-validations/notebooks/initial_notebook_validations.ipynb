{
 "cells": [
  {
   "cell_type": "markdown",
   "metadata": {},
   "source": [
    "# Imports "
   ]
  },
  {
   "cell_type": "code",
   "execution_count": 1,
   "metadata": {
    "colab": {},
    "colab_type": "code",
    "id": "Cs0QY6LgXvdj"
   },
   "outputs": [],
   "source": [
    "import xarray as xr             # to open and manipulate data arrays \n",
    "import xskillscore as xs        # calculating skill scores\n",
    "import climpred\n",
    "import xesmf as xe              # regridding\n",
    "import numpy as np\n",
    "import pandas as pd\n",
    "      \n",
    "import os\n",
    "from pathlib import Path"
   ]
  },
  {
   "cell_type": "code",
   "execution_count": 2,
   "metadata": {
    "colab": {},
    "colab_type": "code",
    "id": "xMFSAMUoXvdl"
   },
   "outputs": [],
   "source": [
    "# Plot and mapping\n",
    "import matplotlib.pyplot as plt\n",
    "import cartopy.crs as ccrs\n",
    "import cartopy\n",
    "\n",
    "# Increase the size of the output figures\n",
    "plt.rcParams[\"figure.figsize\"] = (16,8)"
   ]
  },
  {
   "cell_type": "code",
   "execution_count": 3,
   "metadata": {
    "colab": {},
    "colab_type": "code",
    "id": "9_7TYBmuXvdo"
   },
   "outputs": [],
   "source": [
    "# To minimise the warnings\n",
    "import warnings\n",
    "warnings.simplefilter(action='ignore', category=FutureWarning)"
   ]
  },
  {
   "cell_type": "markdown",
   "metadata": {},
   "source": [
    "# PARAMETERS "
   ]
  },
  {
   "cell_type": "code",
   "execution_count": 4,
   "metadata": {},
   "outputs": [],
   "source": [
    "#Parameters \n",
    "\n",
    "stage_in = 'processed'\n",
    "period = 'hindcasts'\n",
    "provider = 'CDS'\n",
    "GCM = 'ECMWF'\n",
    "var_name = 'T2M'\n",
    "\n",
    "reanalysis = 'ERA5'"
   ]
  },
  {
   "cell_type": "markdown",
   "metadata": {},
   "source": [
    "### Domain for selection "
   ]
  },
  {
   "cell_type": "code",
   "execution_count": 5,
   "metadata": {},
   "outputs": [],
   "source": [
    "lat_min = -60 \n",
    "lat_max = 40 \n",
    "lon_min = 120 \n",
    "lon_max = 240"
   ]
  },
  {
   "cell_type": "code",
   "execution_count": 6,
   "metadata": {},
   "outputs": [],
   "source": [
    "local = True "
   ]
  },
  {
   "cell_type": "code",
   "execution_count": 7,
   "metadata": {},
   "outputs": [],
   "source": [
    "HOME = Path.home()"
   ]
  },
  {
   "cell_type": "code",
   "execution_count": 8,
   "metadata": {},
   "outputs": [],
   "source": [
    "if local: \n",
    "    r_path = Path('research/Smart_Ideas')\n",
    "else:\n",
    "    r_path = Path('drives/auck_projects/END19101/Working')"
   ]
  },
  {
   "cell_type": "code",
   "execution_count": 9,
   "metadata": {},
   "outputs": [
    {
     "data": {
      "text/plain": [
       "PosixPath('research/Smart_Ideas')"
      ]
     },
     "execution_count": 9,
     "metadata": {},
     "output_type": "execute_result"
    }
   ],
   "source": [
    "r_path"
   ]
  },
  {
   "cell_type": "markdown",
   "metadata": {},
   "source": [
    "### paths to the GCM forecasts (seasonal anomalies will be loaded)"
   ]
  },
  {
   "cell_type": "code",
   "execution_count": 10,
   "metadata": {},
   "outputs": [],
   "source": [
    "dpath_gcm = HOME /  r_path / 'data'/ 'GCMs'/ 'processed' / period / provider / GCM / var_name"
   ]
  },
  {
   "cell_type": "code",
   "execution_count": 11,
   "metadata": {},
   "outputs": [
    {
     "data": {
      "text/plain": [
       "PosixPath('/home/nicolasf/research/Smart_Ideas/data/GCMs/processed/hindcasts/CDS/ECMWF/T2M')"
      ]
     },
     "execution_count": 11,
     "metadata": {},
     "output_type": "execute_result"
    }
   ],
   "source": [
    "dpath_gcm"
   ]
  },
  {
   "cell_type": "markdown",
   "metadata": {},
   "source": [
    "### path to the ERA5 reanalysis (seasonal anomalies will be loaded )"
   ]
  },
  {
   "cell_type": "code",
   "execution_count": 12,
   "metadata": {},
   "outputs": [],
   "source": [
    "dpath_era = HOME / r_path / 'data' / 'REANALYSIS' / stage_in / reanalysis / var_name"
   ]
  },
  {
   "cell_type": "code",
   "execution_count": 13,
   "metadata": {},
   "outputs": [
    {
     "data": {
      "text/plain": [
       "PosixPath('/home/nicolasf/research/Smart_Ideas/data/REANALYSIS/processed/ERA5/T2M')"
      ]
     },
     "execution_count": 13,
     "metadata": {},
     "output_type": "execute_result"
    }
   ],
   "source": [
    "dpath_era"
   ]
  },
  {
   "cell_type": "markdown",
   "metadata": {},
   "source": [
    "### list the files for the GCM outputs "
   ]
  },
  {
   "cell_type": "code",
   "execution_count": 14,
   "metadata": {},
   "outputs": [],
   "source": [
    "lfiles_gcm = list(dpath_gcm.glob(f\"{GCM}_{var_name}_seasonal_anomalies_????_??.nc\"))"
   ]
  },
  {
   "cell_type": "code",
   "execution_count": 15,
   "metadata": {},
   "outputs": [],
   "source": [
    "lfiles_gcm.sort()"
   ]
  },
  {
   "cell_type": "code",
   "execution_count": 16,
   "metadata": {},
   "outputs": [
    {
     "data": {
      "text/plain": [
       "288"
      ]
     },
     "execution_count": 16,
     "metadata": {},
     "output_type": "execute_result"
    }
   ],
   "source": [
    "len(lfiles_gcm)"
   ]
  },
  {
   "cell_type": "code",
   "execution_count": 17,
   "metadata": {},
   "outputs": [
    {
     "data": {
      "text/plain": [
       "PosixPath('/home/nicolasf/research/Smart_Ideas/data/GCMs/processed/hindcasts/CDS/ECMWF/T2M/ECMWF_T2M_seasonal_anomalies_1993_01.nc')"
      ]
     },
     "execution_count": 17,
     "metadata": {},
     "output_type": "execute_result"
    }
   ],
   "source": [
    "lfiles_gcm[0]"
   ]
  },
  {
   "cell_type": "code",
   "execution_count": 18,
   "metadata": {},
   "outputs": [
    {
     "data": {
      "text/plain": [
       "PosixPath('/home/nicolasf/research/Smart_Ideas/data/GCMs/processed/hindcasts/CDS/ECMWF/T2M/ECMWF_T2M_seasonal_anomalies_2016_12.nc')"
      ]
     },
     "execution_count": 18,
     "metadata": {},
     "output_type": "execute_result"
    }
   ],
   "source": [
    "lfiles_gcm[-1]"
   ]
  },
  {
   "cell_type": "markdown",
   "metadata": {},
   "source": [
    "### list the files for the ERA5 reanalyses "
   ]
  },
  {
   "cell_type": "code",
   "execution_count": 19,
   "metadata": {},
   "outputs": [],
   "source": [
    "lfiles_era = list(dpath_era.glob(f\"{reanalysis}_seasonal_anomalies_{var_name}_????_??.nc\"))"
   ]
  },
  {
   "cell_type": "code",
   "execution_count": 20,
   "metadata": {},
   "outputs": [],
   "source": [
    "lfiles_era.sort()"
   ]
  },
  {
   "cell_type": "code",
   "execution_count": 21,
   "metadata": {},
   "outputs": [
    {
     "data": {
      "text/plain": [
       "454"
      ]
     },
     "execution_count": 21,
     "metadata": {},
     "output_type": "execute_result"
    }
   ],
   "source": [
    "len(lfiles_era)"
   ]
  },
  {
   "cell_type": "markdown",
   "metadata": {},
   "source": [
    "### restrict the list of files to post 1993 "
   ]
  },
  {
   "cell_type": "code",
   "execution_count": 22,
   "metadata": {},
   "outputs": [],
   "source": [
    "lfiles_era = [x for x in lfiles_era if int(x.name.split('_')[-2]) >= 1993]"
   ]
  },
  {
   "cell_type": "code",
   "execution_count": 23,
   "metadata": {},
   "outputs": [
    {
     "data": {
      "text/plain": [
       "288"
      ]
     },
     "execution_count": 23,
     "metadata": {},
     "output_type": "execute_result"
    }
   ],
   "source": [
    "len(lfiles_era)"
   ]
  },
  {
   "cell_type": "code",
   "execution_count": 24,
   "metadata": {},
   "outputs": [
    {
     "data": {
      "text/plain": [
       "PosixPath('/home/nicolasf/research/Smart_Ideas/data/REANALYSIS/processed/ERA5/T2M/ERA5_seasonal_anomalies_T2M_1993_01.nc')"
      ]
     },
     "execution_count": 24,
     "metadata": {},
     "output_type": "execute_result"
    }
   ],
   "source": [
    "lfiles_era[0]"
   ]
  },
  {
   "cell_type": "code",
   "execution_count": 25,
   "metadata": {},
   "outputs": [
    {
     "data": {
      "text/plain": [
       "PosixPath('/home/nicolasf/research/Smart_Ideas/data/REANALYSIS/processed/ERA5/T2M/ERA5_seasonal_anomalies_T2M_2016_12.nc')"
      ]
     },
     "execution_count": 25,
     "metadata": {},
     "output_type": "execute_result"
    }
   ],
   "source": [
    "lfiles_era[-1]"
   ]
  },
  {
   "cell_type": "markdown",
   "metadata": {},
   "source": [
    "### opens the GCM ensemble "
   ]
  },
  {
   "cell_type": "code",
   "execution_count": 26,
   "metadata": {},
   "outputs": [],
   "source": [
    "dset_gcm_ensemble = xr.open_mfdataset(lfiles_gcm, combine='nested', concat_dim='time')"
   ]
  },
  {
   "cell_type": "code",
   "execution_count": 27,
   "metadata": {},
   "outputs": [
    {
     "data": {
      "text/html": [
       "<pre>&lt;xarray.Dataset&gt;\n",
       "Dimensions:     (lat: 181, lon: 360, member: 25, step: 3, time: 288)\n",
       "Coordinates:\n",
       "    surface     int64 0\n",
       "  * lat         (lat) float64 -90.0 -89.0 -88.0 -87.0 ... 87.0 88.0 89.0 90.0\n",
       "  * step        (step) int64 3 4 5\n",
       "  * lon         (lon) float64 0.0 1.0 2.0 3.0 4.0 ... 356.0 357.0 358.0 359.0\n",
       "  * member      (member) int64 0 1 2 3 4 5 6 7 8 ... 16 17 18 19 20 21 22 23 24\n",
       "  * time        (time) datetime64[ns] 1993-01-01 1993-02-01 ... 2016-12-01\n",
       "    valid_time  (time, step) datetime64[ns] dask.array&lt;chunksize=(1, 3), meta=np.ndarray&gt;\n",
       "    month       (time) int64 1 2 3 4 5 6 7 8 9 10 11 ... 3 4 5 6 7 8 9 10 11 12\n",
       "Data variables:\n",
       "    t2m         (time, member, step, lat, lon) float32 dask.array&lt;chunksize=(1, 25, 3, 181, 360), meta=np.ndarray&gt;</pre>"
      ],
      "text/plain": [
       "<xarray.Dataset>\n",
       "Dimensions:     (lat: 181, lon: 360, member: 25, step: 3, time: 288)\n",
       "Coordinates:\n",
       "    surface     int64 0\n",
       "  * lat         (lat) float64 -90.0 -89.0 -88.0 -87.0 ... 87.0 88.0 89.0 90.0\n",
       "  * step        (step) int64 3 4 5\n",
       "  * lon         (lon) float64 0.0 1.0 2.0 3.0 4.0 ... 356.0 357.0 358.0 359.0\n",
       "  * member      (member) int64 0 1 2 3 4 5 6 7 8 ... 16 17 18 19 20 21 22 23 24\n",
       "  * time        (time) datetime64[ns] 1993-01-01 1993-02-01 ... 2016-12-01\n",
       "    valid_time  (time, step) datetime64[ns] dask.array<chunksize=(1, 3), meta=np.ndarray>\n",
       "    month       (time) int64 1 2 3 4 5 6 7 8 9 10 11 ... 3 4 5 6 7 8 9 10 11 12\n",
       "Data variables:\n",
       "    t2m         (time, member, step, lat, lon) float32 dask.array<chunksize=(1, 25, 3, 181, 360), meta=np.ndarray>"
      ]
     },
     "execution_count": 27,
     "metadata": {},
     "output_type": "execute_result"
    }
   ],
   "source": [
    "dset_gcm_ensemble"
   ]
  },
  {
   "cell_type": "markdown",
   "metadata": {},
   "source": [
    "### select the first 3 months period: step 3 = 4 months leadtime, i.e. init time 1993-01 for 1993-02 to 1993-04 average"
   ]
  },
  {
   "cell_type": "code",
   "execution_count": 28,
   "metadata": {},
   "outputs": [],
   "source": [
    "dset_gcm_ensemble = dset_gcm_ensemble.sel(step=3)"
   ]
  },
  {
   "cell_type": "markdown",
   "metadata": {},
   "source": [
    "### calculates the ensemble mean "
   ]
  },
  {
   "cell_type": "code",
   "execution_count": 29,
   "metadata": {},
   "outputs": [],
   "source": [
    "dset_gcm_em = dset_gcm_ensemble.mean('member')"
   ]
  },
  {
   "cell_type": "code",
   "execution_count": 30,
   "metadata": {},
   "outputs": [
    {
     "data": {
      "text/html": [
       "<pre>&lt;xarray.Dataset&gt;\n",
       "Dimensions:     (lat: 181, lon: 360, time: 288)\n",
       "Coordinates:\n",
       "    surface     int64 0\n",
       "  * lat         (lat) float64 -90.0 -89.0 -88.0 -87.0 ... 87.0 88.0 89.0 90.0\n",
       "    step        int64 3\n",
       "  * lon         (lon) float64 0.0 1.0 2.0 3.0 4.0 ... 356.0 357.0 358.0 359.0\n",
       "  * time        (time) datetime64[ns] 1993-01-01 1993-02-01 ... 2016-12-01\n",
       "    valid_time  (time) datetime64[ns] dask.array&lt;chunksize=(1,), meta=np.ndarray&gt;\n",
       "    month       (time) int64 1 2 3 4 5 6 7 8 9 10 11 ... 3 4 5 6 7 8 9 10 11 12\n",
       "Data variables:\n",
       "    t2m         (time, lat, lon) float32 dask.array&lt;chunksize=(1, 181, 360), meta=np.ndarray&gt;</pre>"
      ],
      "text/plain": [
       "<xarray.Dataset>\n",
       "Dimensions:     (lat: 181, lon: 360, time: 288)\n",
       "Coordinates:\n",
       "    surface     int64 0\n",
       "  * lat         (lat) float64 -90.0 -89.0 -88.0 -87.0 ... 87.0 88.0 89.0 90.0\n",
       "    step        int64 3\n",
       "  * lon         (lon) float64 0.0 1.0 2.0 3.0 4.0 ... 356.0 357.0 358.0 359.0\n",
       "  * time        (time) datetime64[ns] 1993-01-01 1993-02-01 ... 2016-12-01\n",
       "    valid_time  (time) datetime64[ns] dask.array<chunksize=(1,), meta=np.ndarray>\n",
       "    month       (time) int64 1 2 3 4 5 6 7 8 9 10 11 ... 3 4 5 6 7 8 9 10 11 12\n",
       "Data variables:\n",
       "    t2m         (time, lat, lon) float32 dask.array<chunksize=(1, 181, 360), meta=np.ndarray>"
      ]
     },
     "execution_count": 30,
     "metadata": {},
     "output_type": "execute_result"
    }
   ],
   "source": [
    "dset_gcm_em"
   ]
  },
  {
   "cell_type": "markdown",
   "metadata": {},
   "source": [
    "### set the time to be the actual forecast valid time instead of the initialisation time "
   ]
  },
  {
   "cell_type": "code",
   "execution_count": 31,
   "metadata": {},
   "outputs": [],
   "source": [
    "forecast_valid_time = pd.to_datetime(dset_gcm_em.time.data)"
   ]
  },
  {
   "cell_type": "code",
   "execution_count": 32,
   "metadata": {},
   "outputs": [],
   "source": [
    "forecast_valid_time = forecast_valid_time.shift(3, freq='MS')"
   ]
  },
  {
   "cell_type": "code",
   "execution_count": 33,
   "metadata": {},
   "outputs": [],
   "source": [
    "dset_gcm_em['time'] = forecast_valid_time"
   ]
  },
  {
   "cell_type": "code",
   "execution_count": 34,
   "metadata": {},
   "outputs": [],
   "source": [
    "dset_gcm_ensemble['time'] = forecast_valid_time"
   ]
  },
  {
   "cell_type": "markdown",
   "metadata": {},
   "source": [
    "### read the ERA 5 seasonal anomalies "
   ]
  },
  {
   "cell_type": "code",
   "execution_count": 35,
   "metadata": {},
   "outputs": [],
   "source": [
    "dset_era = xr.open_mfdataset(lfiles_era, combine='nested', concat_dim='time')"
   ]
  },
  {
   "cell_type": "code",
   "execution_count": 36,
   "metadata": {},
   "outputs": [],
   "source": [
    "dset_era = dset_era.sel(time=slice('1993','2016'))"
   ]
  },
  {
   "cell_type": "code",
   "execution_count": 37,
   "metadata": {},
   "outputs": [
    {
     "data": {
      "text/html": [
       "<pre>&lt;xarray.Dataset&gt;\n",
       "Dimensions:    (latitude: 721, longitude: 1440, time: 288)\n",
       "Coordinates:\n",
       "  * longitude  (longitude) float32 0.0 0.25 0.5 0.75 ... 359.25 359.5 359.75\n",
       "  * latitude   (latitude) float32 90.0 89.75 89.5 89.25 ... -89.5 -89.75 -90.0\n",
       "  * time       (time) datetime64[ns] 1993-01-01 1993-02-01 ... 2016-12-01\n",
       "    month      (time) int64 1 2 3 4 5 6 7 8 9 10 11 ... 2 3 4 5 6 7 8 9 10 11 12\n",
       "Data variables:\n",
       "    t2m        (time, latitude, longitude) float32 dask.array&lt;chunksize=(1, 721, 1440), meta=np.ndarray&gt;</pre>"
      ],
      "text/plain": [
       "<xarray.Dataset>\n",
       "Dimensions:    (latitude: 721, longitude: 1440, time: 288)\n",
       "Coordinates:\n",
       "  * longitude  (longitude) float32 0.0 0.25 0.5 0.75 ... 359.25 359.5 359.75\n",
       "  * latitude   (latitude) float32 90.0 89.75 89.5 89.25 ... -89.5 -89.75 -90.0\n",
       "  * time       (time) datetime64[ns] 1993-01-01 1993-02-01 ... 2016-12-01\n",
       "    month      (time) int64 1 2 3 4 5 6 7 8 9 10 11 ... 2 3 4 5 6 7 8 9 10 11 12\n",
       "Data variables:\n",
       "    t2m        (time, latitude, longitude) float32 dask.array<chunksize=(1, 721, 1440), meta=np.ndarray>"
      ]
     },
     "execution_count": 37,
     "metadata": {},
     "output_type": "execute_result"
    }
   ],
   "source": [
    "dset_era"
   ]
  },
  {
   "cell_type": "markdown",
   "metadata": {},
   "source": [
    "### sort by latitude to go from -90 to 90 "
   ]
  },
  {
   "cell_type": "code",
   "execution_count": 38,
   "metadata": {},
   "outputs": [],
   "source": [
    "dset_era = dset_era.sortby('latitude')"
   ]
  },
  {
   "cell_type": "markdown",
   "metadata": {},
   "source": [
    "### rename the dimensions "
   ]
  },
  {
   "cell_type": "code",
   "execution_count": 39,
   "metadata": {},
   "outputs": [],
   "source": [
    "dset_era = dset_era.rename({'latitude':'lat', 'longitude':'lon'})"
   ]
  },
  {
   "cell_type": "markdown",
   "metadata": {},
   "source": [
    "### interpolate "
   ]
  },
  {
   "cell_type": "markdown",
   "metadata": {},
   "source": [
    "### create the grid template, from the GCM "
   ]
  },
  {
   "cell_type": "code",
   "execution_count": 40,
   "metadata": {},
   "outputs": [],
   "source": [
    "grid_out = dset_gcm_em[['lat','lon']]"
   ]
  },
  {
   "cell_type": "code",
   "execution_count": 41,
   "metadata": {},
   "outputs": [
    {
     "data": {
      "text/html": [
       "<pre>&lt;xarray.Dataset&gt;\n",
       "Dimensions:  (lat: 181, lon: 360)\n",
       "Coordinates:\n",
       "  * lat      (lat) float64 -90.0 -89.0 -88.0 -87.0 -86.0 ... 87.0 88.0 89.0 90.0\n",
       "  * lon      (lon) float64 0.0 1.0 2.0 3.0 4.0 ... 355.0 356.0 357.0 358.0 359.0\n",
       "    surface  int64 0\n",
       "    step     int64 3\n",
       "Data variables:\n",
       "    *empty*</pre>"
      ],
      "text/plain": [
       "<xarray.Dataset>\n",
       "Dimensions:  (lat: 181, lon: 360)\n",
       "Coordinates:\n",
       "  * lat      (lat) float64 -90.0 -89.0 -88.0 -87.0 -86.0 ... 87.0 88.0 89.0 90.0\n",
       "  * lon      (lon) float64 0.0 1.0 2.0 3.0 4.0 ... 355.0 356.0 357.0 358.0 359.0\n",
       "    surface  int64 0\n",
       "    step     int64 3\n",
       "Data variables:\n",
       "    *empty*"
      ]
     },
     "execution_count": 41,
     "metadata": {},
     "output_type": "execute_result"
    }
   ],
   "source": [
    "grid_out"
   ]
  },
  {
   "cell_type": "markdown",
   "metadata": {},
   "source": [
    "### initialize the regridder"
   ]
  },
  {
   "cell_type": "code",
   "execution_count": 42,
   "metadata": {},
   "outputs": [
    {
     "name": "stdout",
     "output_type": "stream",
     "text": [
      "Reuse existing file: bilinear_721x1440_181x360.nc\n"
     ]
    }
   ],
   "source": [
    "regridder = xe.Regridder(dset_era, grid_out, 'bilinear', reuse_weights=True)"
   ]
  },
  {
   "cell_type": "markdown",
   "metadata": {},
   "source": [
    "### now interpolate "
   ]
  },
  {
   "cell_type": "code",
   "execution_count": 43,
   "metadata": {},
   "outputs": [
    {
     "name": "stdout",
     "output_type": "stream",
     "text": [
      "using dimensions ('lat', 'lon') from data variable t2m as the horizontal dimensions for this dataset.\n"
     ]
    }
   ],
   "source": [
    "dset_era_interp = regridder(dset_era)"
   ]
  },
  {
   "cell_type": "markdown",
   "metadata": {},
   "source": [
    "### checks the dimensions "
   ]
  },
  {
   "cell_type": "code",
   "execution_count": 44,
   "metadata": {},
   "outputs": [
    {
     "data": {
      "text/html": [
       "<pre>&lt;xarray.Dataset&gt;\n",
       "Dimensions:  (lat: 181, lon: 360, time: 288)\n",
       "Coordinates:\n",
       "  * time     (time) datetime64[ns] 1993-01-01 1993-02-01 ... 2016-12-01\n",
       "    month    (time) int64 1 2 3 4 5 6 7 8 9 10 11 ... 2 3 4 5 6 7 8 9 10 11 12\n",
       "  * lon      (lon) float64 0.0 1.0 2.0 3.0 4.0 ... 355.0 356.0 357.0 358.0 359.0\n",
       "  * lat      (lat) float64 -90.0 -89.0 -88.0 -87.0 -86.0 ... 87.0 88.0 89.0 90.0\n",
       "Data variables:\n",
       "    t2m      (time, lat, lon) float64 dask.array&lt;chunksize=(1, 181, 360), meta=np.ndarray&gt;\n",
       "Attributes:\n",
       "    regrid_method:  bilinear</pre>"
      ],
      "text/plain": [
       "<xarray.Dataset>\n",
       "Dimensions:  (lat: 181, lon: 360, time: 288)\n",
       "Coordinates:\n",
       "  * time     (time) datetime64[ns] 1993-01-01 1993-02-01 ... 2016-12-01\n",
       "    month    (time) int64 1 2 3 4 5 6 7 8 9 10 11 ... 2 3 4 5 6 7 8 9 10 11 12\n",
       "  * lon      (lon) float64 0.0 1.0 2.0 3.0 4.0 ... 355.0 356.0 357.0 358.0 359.0\n",
       "  * lat      (lat) float64 -90.0 -89.0 -88.0 -87.0 -86.0 ... 87.0 88.0 89.0 90.0\n",
       "Data variables:\n",
       "    t2m      (time, lat, lon) float64 dask.array<chunksize=(1, 181, 360), meta=np.ndarray>\n",
       "Attributes:\n",
       "    regrid_method:  bilinear"
      ]
     },
     "execution_count": 44,
     "metadata": {},
     "output_type": "execute_result"
    }
   ],
   "source": [
    "dset_era_interp"
   ]
  },
  {
   "cell_type": "code",
   "execution_count": 45,
   "metadata": {},
   "outputs": [
    {
     "data": {
      "text/html": [
       "<pre>&lt;xarray.Dataset&gt;\n",
       "Dimensions:     (lat: 181, lon: 360, time: 288)\n",
       "Coordinates:\n",
       "    surface     int64 0\n",
       "  * lat         (lat) float64 -90.0 -89.0 -88.0 -87.0 ... 87.0 88.0 89.0 90.0\n",
       "    step        int64 3\n",
       "  * lon         (lon) float64 0.0 1.0 2.0 3.0 4.0 ... 356.0 357.0 358.0 359.0\n",
       "  * time        (time) datetime64[ns] 1993-04-01 1993-05-01 ... 2017-03-01\n",
       "    valid_time  (time) datetime64[ns] dask.array&lt;chunksize=(1,), meta=np.ndarray&gt;\n",
       "    month       (time) int64 1 2 3 4 5 6 7 8 9 10 11 ... 3 4 5 6 7 8 9 10 11 12\n",
       "Data variables:\n",
       "    t2m         (time, lat, lon) float32 dask.array&lt;chunksize=(1, 181, 360), meta=np.ndarray&gt;</pre>"
      ],
      "text/plain": [
       "<xarray.Dataset>\n",
       "Dimensions:     (lat: 181, lon: 360, time: 288)\n",
       "Coordinates:\n",
       "    surface     int64 0\n",
       "  * lat         (lat) float64 -90.0 -89.0 -88.0 -87.0 ... 87.0 88.0 89.0 90.0\n",
       "    step        int64 3\n",
       "  * lon         (lon) float64 0.0 1.0 2.0 3.0 4.0 ... 356.0 357.0 358.0 359.0\n",
       "  * time        (time) datetime64[ns] 1993-04-01 1993-05-01 ... 2017-03-01\n",
       "    valid_time  (time) datetime64[ns] dask.array<chunksize=(1,), meta=np.ndarray>\n",
       "    month       (time) int64 1 2 3 4 5 6 7 8 9 10 11 ... 3 4 5 6 7 8 9 10 11 12\n",
       "Data variables:\n",
       "    t2m         (time, lat, lon) float32 dask.array<chunksize=(1, 181, 360), meta=np.ndarray>"
      ]
     },
     "execution_count": 45,
     "metadata": {},
     "output_type": "execute_result"
    }
   ],
   "source": [
    "dset_gcm_em"
   ]
  },
  {
   "cell_type": "markdown",
   "metadata": {},
   "source": [
    "### rechunk "
   ]
  },
  {
   "cell_type": "code",
   "execution_count": 46,
   "metadata": {},
   "outputs": [],
   "source": [
    "dset_gcm_em = dset_gcm_em.chunk({'time': -1, 'lat':6, 'lon':6}) "
   ]
  },
  {
   "cell_type": "code",
   "execution_count": 47,
   "metadata": {},
   "outputs": [],
   "source": [
    "dset_gcm_ensemble = dset_gcm_ensemble.chunk({'time': -1, 'lat':6, 'lon':6}) "
   ]
  },
  {
   "cell_type": "code",
   "execution_count": 48,
   "metadata": {},
   "outputs": [],
   "source": [
    "dset_era_interp = dset_era_interp.chunk({'time': -1, 'lat':6, 'lon':6}) "
   ]
  },
  {
   "cell_type": "code",
   "execution_count": 49,
   "metadata": {},
   "outputs": [],
   "source": [
    "sub_gcm_em = dset_gcm_em.sel(lat=slice(lat_min, lat_max), lon=slice(lon_min, lon_max))"
   ]
  },
  {
   "cell_type": "code",
   "execution_count": 50,
   "metadata": {},
   "outputs": [],
   "source": [
    "sub_gcm_ensemble = dset_gcm_ensemble.sel(lat=slice(lat_min, lat_max), lon=slice(lon_min, lon_max))"
   ]
  },
  {
   "cell_type": "code",
   "execution_count": 51,
   "metadata": {},
   "outputs": [],
   "source": [
    "sub_era_interp = dset_era_interp.sel(lat=slice(lat_min, lat_max), lon=slice(lon_min, lon_max))"
   ]
  },
  {
   "cell_type": "markdown",
   "metadata": {},
   "source": [
    "### align along the time dimension"
   ]
  },
  {
   "cell_type": "code",
   "execution_count": 52,
   "metadata": {},
   "outputs": [],
   "source": [
    "sub_gcm_em, sub_era_interp = xr.align(sub_gcm_em, sub_era_interp, join='inner', indexes=[0])"
   ]
  },
  {
   "cell_type": "code",
   "execution_count": 53,
   "metadata": {},
   "outputs": [],
   "source": [
    "sub_gcm_ensemble, sub_era_interp = xr.align(sub_gcm_ensemble, sub_era_interp, join='inner', indexes=[0])"
   ]
  },
  {
   "cell_type": "markdown",
   "metadata": {},
   "source": [
    "### Pearson's R "
   ]
  },
  {
   "cell_type": "code",
   "execution_count": 54,
   "metadata": {},
   "outputs": [],
   "source": [
    "r = xs.pearson_r(sub_era_interp, sub_gcm_em, \"time\")"
   ]
  },
  {
   "cell_type": "code",
   "execution_count": 55,
   "metadata": {},
   "outputs": [
    {
     "data": {
      "text/html": [
       "<pre>&lt;xarray.Dataset&gt;\n",
       "Dimensions:  (lat: 101, lon: 121)\n",
       "Coordinates:\n",
       "  * lon      (lon) float64 120.0 121.0 122.0 123.0 ... 237.0 238.0 239.0 240.0\n",
       "  * lat      (lat) float64 -60.0 -59.0 -58.0 -57.0 -56.0 ... 37.0 38.0 39.0 40.0\n",
       "    surface  int64 0\n",
       "    step     int64 3\n",
       "Data variables:\n",
       "    t2m      (lat, lon) float64 dask.array&lt;chunksize=(6, 6), meta=np.ndarray&gt;</pre>"
      ],
      "text/plain": [
       "<xarray.Dataset>\n",
       "Dimensions:  (lat: 101, lon: 121)\n",
       "Coordinates:\n",
       "  * lon      (lon) float64 120.0 121.0 122.0 123.0 ... 237.0 238.0 239.0 240.0\n",
       "  * lat      (lat) float64 -60.0 -59.0 -58.0 -57.0 -56.0 ... 37.0 38.0 39.0 40.0\n",
       "    surface  int64 0\n",
       "    step     int64 3\n",
       "Data variables:\n",
       "    t2m      (lat, lon) float64 dask.array<chunksize=(6, 6), meta=np.ndarray>"
      ]
     },
     "execution_count": 55,
     "metadata": {},
     "output_type": "execute_result"
    }
   ],
   "source": [
    "r"
   ]
  },
  {
   "cell_type": "code",
   "execution_count": 56,
   "metadata": {},
   "outputs": [
    {
     "data": {
      "text/html": [
       "<pre>&lt;xarray.Dataset&gt;\n",
       "Dimensions:  (lat: 101, lon: 121)\n",
       "Coordinates:\n",
       "  * lon      (lon) float64 120.0 121.0 122.0 123.0 ... 237.0 238.0 239.0 240.0\n",
       "  * lat      (lat) float64 -60.0 -59.0 -58.0 -57.0 -56.0 ... 37.0 38.0 39.0 40.0\n",
       "    surface  int64 0\n",
       "    step     int64 3\n",
       "Data variables:\n",
       "    t2m      (lat, lon) float64 0.4172 0.4241 0.4324 ... 0.3801 0.3342 0.3264</pre>"
      ],
      "text/plain": [
       "<xarray.Dataset>\n",
       "Dimensions:  (lat: 101, lon: 121)\n",
       "Coordinates:\n",
       "  * lon      (lon) float64 120.0 121.0 122.0 123.0 ... 237.0 238.0 239.0 240.0\n",
       "  * lat      (lat) float64 -60.0 -59.0 -58.0 -57.0 -56.0 ... 37.0 38.0 39.0 40.0\n",
       "    surface  int64 0\n",
       "    step     int64 3\n",
       "Data variables:\n",
       "    t2m      (lat, lon) float64 0.4172 0.4241 0.4324 ... 0.3801 0.3342 0.3264"
      ]
     },
     "execution_count": 56,
     "metadata": {},
     "output_type": "execute_result"
    }
   ],
   "source": [
    "r.compute()"
   ]
  },
  {
   "cell_type": "markdown",
   "metadata": {},
   "source": [
    "# 1.    Pearson correlation between observations and ensemble mean"
   ]
  },
  {
   "cell_type": "code",
   "execution_count": 57,
   "metadata": {},
   "outputs": [
    {
     "data": {
      "image/png": "[encoded data removed]",
      "text/plain": [
       "<Figure size 1152x576 with 2 Axes>"
      ]
     },
     "metadata": {
      "needs_background": "light"
     },
     "output_type": "display_data"
    }
   ],
   "source": [
    "ax = plt.axes(projection=ccrs.PlateCarree(central_longitude=180))\n",
    "p = r[var_name.lower()].plot.contourf(ax=ax, transform=ccrs.PlateCarree(), levels = [-1, 0, 0.3, 0.5, 0.6, 0.8, 0.9, 1], cmap = 'gnuplot')\n",
    "ax.coastlines();"
   ]
  },
  {
   "cell_type": "markdown",
   "metadata": {},
   "source": [
    "# 2.    Continuous Ranked Probability score (CRPS)"
   ]
  },
  {
   "cell_type": "code",
   "execution_count": 58,
   "metadata": {},
   "outputs": [],
   "source": [
    "crps_ensemble = xs.crps_ensemble(sub_era_interp, sub_gcm_ensemble)"
   ]
  },
  {
   "cell_type": "code",
   "execution_count": 59,
   "metadata": {},
   "outputs": [
    {
     "data": {
      "image/png": "[encoded data removed]",
      "text/plain": [
       "<Figure size 1152x576 with 2 Axes>"
      ]
     },
     "metadata": {
      "needs_background": "light"
     },
     "output_type": "display_data"
    }
   ],
   "source": [
    "ax = plt.axes(projection=ccrs.PlateCarree(central_longitude=180))\n",
    "p = crps_ensemble[var_name.lower()].mean('time').plot.contourf(ax=ax, transform=ccrs.PlateCarree())\n",
    "ax.coastlines();"
   ]
  },
  {
   "cell_type": "markdown",
   "metadata": {},
   "source": [
    "# 3.    Brier Skill Score for the upper tercile"
   ]
  },
  {
   "cell_type": "code",
   "execution_count": 60,
   "metadata": {},
   "outputs": [],
   "source": [
    "brier_score = xs.brier_score(sub_era_interp >  sub_era_interp.quantile(2/3, dim = 'time'), (sub_gcm_ensemble > sub_gcm_ensemble.quantile(2/3, dim = 'time')).mean(\"member\"))"
   ]
  },
  {
   "cell_type": "code",
   "execution_count": 61,
   "metadata": {},
   "outputs": [
    {
     "data": {
      "text/html": [
       "<pre>&lt;xarray.Dataset&gt;\n",
       "Dimensions:     (lat: 101, lon: 121, time: 285)\n",
       "Coordinates:\n",
       "  * time        (time) datetime64[ns] 1993-04-01 1993-05-01 ... 2016-12-01\n",
       "  * lon         (lon) float64 120.0 121.0 122.0 123.0 ... 238.0 239.0 240.0\n",
       "  * lat         (lat) float64 -60.0 -59.0 -58.0 -57.0 ... 37.0 38.0 39.0 40.0\n",
       "    quantile    float64 0.6667\n",
       "    surface     int64 0\n",
       "    step        int64 3\n",
       "    valid_time  (time) datetime64[ns] 1993-05-01 1993-06-01 ... 2017-01-01\n",
       "Data variables:\n",
       "    t2m         (time, lat, lon) float64 0.64 0.64 0.5776 ... 0.36 0.2704 0.4096</pre>"
      ],
      "text/plain": [
       "<xarray.Dataset>\n",
       "Dimensions:     (lat: 101, lon: 121, time: 285)\n",
       "Coordinates:\n",
       "  * time        (time) datetime64[ns] 1993-04-01 1993-05-01 ... 2016-12-01\n",
       "  * lon         (lon) float64 120.0 121.0 122.0 123.0 ... 238.0 239.0 240.0\n",
       "  * lat         (lat) float64 -60.0 -59.0 -58.0 -57.0 ... 37.0 38.0 39.0 40.0\n",
       "    quantile    float64 0.6667\n",
       "    surface     int64 0\n",
       "    step        int64 3\n",
       "    valid_time  (time) datetime64[ns] 1993-05-01 1993-06-01 ... 2017-01-01\n",
       "Data variables:\n",
       "    t2m         (time, lat, lon) float64 0.64 0.64 0.5776 ... 0.36 0.2704 0.4096"
      ]
     },
     "execution_count": 61,
     "metadata": {},
     "output_type": "execute_result"
    }
   ],
   "source": [
    "brier_score.compute()"
   ]
  },
  {
   "cell_type": "code",
   "execution_count": 62,
   "metadata": {},
   "outputs": [],
   "source": [
    "baseline = xs.brier_score(sub_era_interp >  sub_era_interp.quantile(2/3, dim = 'time'), 2/3)"
   ]
  },
  {
   "cell_type": "code",
   "execution_count": 63,
   "metadata": {},
   "outputs": [
    {
     "data": {
      "text/html": [
       "<pre>&lt;xarray.Dataset&gt;\n",
       "Dimensions:   (lat: 101, lon: 121, time: 285)\n",
       "Coordinates:\n",
       "  * time      (time) datetime64[ns] 1993-04-01 1993-05-01 ... 2016-12-01\n",
       "    month     (time) int64 4 5 6 7 8 9 10 11 12 1 2 ... 2 3 4 5 6 7 8 9 10 11 12\n",
       "  * lon       (lon) float64 120.0 121.0 122.0 123.0 ... 237.0 238.0 239.0 240.0\n",
       "  * lat       (lat) float64 -60.0 -59.0 -58.0 -57.0 ... 37.0 38.0 39.0 40.0\n",
       "    quantile  float64 0.6667\n",
       "Data variables:\n",
       "    t2m       (time, lat, lon) float64 0.1111 0.1111 0.1111 ... 0.4444 0.4444</pre>"
      ],
      "text/plain": [
       "<xarray.Dataset>\n",
       "Dimensions:   (lat: 101, lon: 121, time: 285)\n",
       "Coordinates:\n",
       "  * time      (time) datetime64[ns] 1993-04-01 1993-05-01 ... 2016-12-01\n",
       "    month     (time) int64 4 5 6 7 8 9 10 11 12 1 2 ... 2 3 4 5 6 7 8 9 10 11 12\n",
       "  * lon       (lon) float64 120.0 121.0 122.0 123.0 ... 237.0 238.0 239.0 240.0\n",
       "  * lat       (lat) float64 -60.0 -59.0 -58.0 -57.0 ... 37.0 38.0 39.0 40.0\n",
       "    quantile  float64 0.6667\n",
       "Data variables:\n",
       "    t2m       (time, lat, lon) float64 0.1111 0.1111 0.1111 ... 0.4444 0.4444"
      ]
     },
     "execution_count": 63,
     "metadata": {},
     "output_type": "execute_result"
    }
   ],
   "source": [
    "baseline.compute()"
   ]
  },
  {
   "cell_type": "code",
   "execution_count": 64,
   "metadata": {},
   "outputs": [
    {
     "data": {
      "image/png": "[encoded data removed]",
      "text/plain": [
       "<Figure size 1152x576 with 2 Axes>"
      ]
     },
     "metadata": {
      "needs_background": "light"
     },
     "output_type": "display_data"
    }
   ],
   "source": [
    "ax = plt.axes(projection=ccrs.PlateCarree(central_longitude=180))\n",
    "(1 - (brier_score/baseline)).mean(dim = 'time')[var_name.lower()].plot.contourf(ax=ax, transform=ccrs.PlateCarree(), levels = [0, 0.01, 0.05, 0.1, 0.2, 0.3,  1], cmap = 'YlOrBr')\n",
    "ax.coastlines();"
   ]
  }
 ],
 "metadata": {
  "colab": {
   "collapsed_sections": [],
   "name": "regrid_and_skillscores.ipynb",
   "provenance": []
  },
  "kernelspec": {
   "display_name": "Python 3",
   "language": "python",
   "name": "python3"
  },
  "language_info": {
   "codemirror_mode": {
    "name": "ipython",
    "version": 3
   },
   "file_extension": ".py",
   "mimetype": "text/x-python",
   "name": "python",
   "nbconvert_exporter": "python",
   "pygments_lexer": "ipython3",
   "version": "3.7.5"
  }
 },
 "nbformat": 4,
 "nbformat_minor": 4
}
