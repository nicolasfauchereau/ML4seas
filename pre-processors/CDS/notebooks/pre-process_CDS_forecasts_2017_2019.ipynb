{
 "cells": [
  {
   "cell_type": "code",
   "execution_count": 33,
   "metadata": {
    "execution_event_id": "8e0d2f00-8399-45ed-952d-40ea7cad4112",
    "last_executed_text": "%matplotlib inline\nfrom matplotlib import pyplot as plt",
    "papermill": {
     "duration": 0.243226,
     "end_time": "2020-02-03T20:08:15.615117",
     "exception": false,
     "start_time": "2020-02-03T20:08:15.371891",
     "status": "completed"
    },
    "persistent_id": "b0a728df-f474-4bbd-9e52-7cdbe3f5a140",
    "tags": []
   },
   "outputs": [],
   "source": [
    "%matplotlib inline\n",
    "from matplotlib import pyplot as plt"
   ]
  },
  {
   "cell_type": "code",
   "execution_count": 34,
   "metadata": {
    "execution_event_id": "9cfb1535-bf65-49e6-8a75-7dd69185bda7",
    "last_executed_text": "import numpy as np\nimport pandas as pd\nimport xarray as xr",
    "papermill": {
     "duration": 0.431698,
     "end_time": "2020-02-03T20:08:16.065342",
     "exception": false,
     "start_time": "2020-02-03T20:08:15.633644",
     "status": "completed"
    },
    "persistent_id": "3052e537-b7af-4235-80cb-24fe1a737849",
    "tags": []
   },
   "outputs": [],
   "source": [
    "import numpy as np\n",
    "import pandas as pd\n",
    "import xarray as xr"
   ]
  },
  {
   "cell_type": "code",
   "execution_count": 35,
   "metadata": {
    "execution_event_id": "74add2ea-0bf4-414c-8257-342aae37ede6",
    "last_executed_text": "import pathlib",
    "papermill": {
     "duration": 0.021616,
     "end_time": "2020-02-03T20:08:16.104400",
     "exception": false,
     "start_time": "2020-02-03T20:08:16.082784",
     "status": "completed"
    },
    "persistent_id": "71d0612c-bcb6-43fc-920b-d9edf8a838bb",
    "tags": []
   },
   "outputs": [],
   "source": [
    "import pathlib"
   ]
  },
  {
   "cell_type": "code",
   "execution_count": 36,
   "metadata": {
    "execution_event_id": "c4f0c4d9-8dff-4cc5-a435-7a2b9ae9962a",
    "last_executed_text": "HOME = pathlib.Path.home()",
    "papermill": {
     "duration": 0.021623,
     "end_time": "2020-02-03T20:08:16.143839",
     "exception": false,
     "start_time": "2020-02-03T20:08:16.122216",
     "status": "completed"
    },
    "persistent_id": "9e0f73d4-b23e-4ea8-b8b5-dcd3d0e4c4f3",
    "tags": []
   },
   "outputs": [],
   "source": [
    "HOME = pathlib.Path.home()"
   ]
  },
  {
   "cell_type": "code",
   "execution_count": 37,
   "metadata": {
    "execution_event_id": "a8ab13d8-7ab3-4c87-9fc9-353f0a7f6e72",
    "last_executed_text": "HOME",
    "papermill": {
     "duration": 0.023821,
     "end_time": "2020-02-03T20:08:16.185053",
     "exception": false,
     "start_time": "2020-02-03T20:08:16.161232",
     "status": "completed"
    },
    "persistent_id": "a2759133-9455-4ba4-93c2-937ed3c1653f",
    "tags": []
   },
   "outputs": [
    {
     "data": {
      "text/plain": [
       "PosixPath('/home/nicolasf')"
      ]
     },
     "execution_count": 37,
     "metadata": {},
     "output_type": "execute_result"
    }
   ],
   "source": [
    "HOME"
   ]
  },
  {
   "cell_type": "code",
   "execution_count": 38,
   "metadata": {
    "papermill": {
     "duration": 0.021871,
     "end_time": "2020-02-03T20:08:16.224383",
     "exception": false,
     "start_time": "2020-02-03T20:08:16.202512",
     "status": "completed"
    },
    "tags": []
   },
   "outputs": [],
   "source": [
    "provider = 'CDS'"
   ]
  },
  {
   "cell_type": "code",
   "execution_count": 39,
   "metadata": {
    "papermill": {
     "duration": 0.02175,
     "end_time": "2020-02-03T20:08:16.283890",
     "exception": false,
     "start_time": "2020-02-03T20:08:16.262140",
     "status": "completed"
    },
    "tags": [
     "parameters"
    ]
   },
   "outputs": [],
   "source": [
    "# Parameters\n",
    "GCM = \"CMCC\"\n",
    "var_name = \"PRECIP\""
   ]
  },
  {
   "cell_type": "markdown",
   "metadata": {
    "papermill": {
     "duration": 0.017498,
     "end_time": "2020-02-03T20:08:16.357627",
     "exception": false,
     "start_time": "2020-02-03T20:08:16.340129",
     "status": "completed"
    },
    "tags": []
   },
   "source": [
    "### INPUT PATH"
   ]
  },
  {
   "cell_type": "code",
   "execution_count": 40,
   "metadata": {
    "papermill": {
     "duration": 0.022128,
     "end_time": "2020-02-03T20:08:16.397177",
     "exception": false,
     "start_time": "2020-02-03T20:08:16.375049",
     "status": "completed"
    },
    "tags": []
   },
   "outputs": [],
   "source": [
    "dpath = HOME / 'drives' / 'auck_projects' / 'END19101' / 'Working' / 'data' / 'GCMs' / 'downloads' / 'forecasts' / provider / GCM / var_name"
   ]
  },
  {
   "cell_type": "code",
   "execution_count": 41,
   "metadata": {},
   "outputs": [
    {
     "data": {
      "text/plain": [
       "PosixPath('/home/nicolasf/drives/auck_projects/END19101/Working/data/GCMs/downloads/forecasts/CDS/CMCC/PRECIP')"
      ]
     },
     "execution_count": 41,
     "metadata": {},
     "output_type": "execute_result"
    }
   ],
   "source": [
    "dpath"
   ]
  },
  {
   "cell_type": "markdown",
   "metadata": {
    "papermill": {
     "duration": 0.017199,
     "end_time": "2020-02-03T20:08:16.431759",
     "exception": false,
     "start_time": "2020-02-03T20:08:16.414560",
     "status": "completed"
    },
    "tags": []
   },
   "source": [
    "### OUTPUT PATH "
   ]
  },
  {
   "cell_type": "code",
   "execution_count": 42,
   "metadata": {
    "papermill": {
     "duration": 0.021981,
     "end_time": "2020-02-03T20:08:16.471342",
     "exception": false,
     "start_time": "2020-02-03T20:08:16.449361",
     "status": "completed"
    },
    "tags": []
   },
   "outputs": [],
   "source": [
    "opath = HOME / 'drives' / 'auck_projects' / 'END19101' / 'Working' / 'data' / 'GCMs' / 'pre_processed' / 'forecasts' / provider / GCM / var_name"
   ]
  },
  {
   "cell_type": "code",
   "execution_count": 43,
   "metadata": {
    "papermill": {
     "duration": 0.023424,
     "end_time": "2020-02-03T20:08:16.512311",
     "exception": false,
     "start_time": "2020-02-03T20:08:16.488887",
     "status": "completed"
    },
    "tags": []
   },
   "outputs": [
    {
     "data": {
      "text/plain": [
       "PosixPath('/home/nicolasf/drives/auck_projects/END19101/Working/data/GCMs/pre_processed/forecasts/CDS/CMCC/PRECIP')"
      ]
     },
     "execution_count": 43,
     "metadata": {},
     "output_type": "execute_result"
    }
   ],
   "source": [
    "opath"
   ]
  },
  {
   "cell_type": "code",
   "execution_count": 44,
   "metadata": {
    "papermill": {
     "duration": 0.129382,
     "end_time": "2020-02-03T20:08:16.659192",
     "exception": false,
     "start_time": "2020-02-03T20:08:16.529810",
     "status": "completed"
    },
    "tags": []
   },
   "outputs": [],
   "source": [
    "if not opath.exists(): \n",
    "    opath.mkdir(parents=True)"
   ]
  },
  {
   "cell_type": "markdown",
   "metadata": {
    "papermill": {
     "duration": 0.018613,
     "end_time": "2020-02-03T20:08:16.725927",
     "exception": false,
     "start_time": "2020-02-03T20:08:16.707314",
     "status": "completed"
    },
    "tags": []
   },
   "source": [
    "### DICTIONNARY WITH VARIABLES NAMES TO REPLACE "
   ]
  },
  {
   "cell_type": "code",
   "execution_count": 45,
   "metadata": {
    "papermill": {
     "duration": 0.022443,
     "end_time": "2020-02-03T20:08:16.766842",
     "exception": false,
     "start_time": "2020-02-03T20:08:16.744399",
     "status": "completed"
    },
    "tags": []
   },
   "outputs": [],
   "source": [
    "dict_variables = {}\n",
    "dict_variables['PRECIP'] = {'tprate':'precip'}\n",
    "dict_variables['Z500'] = {'z':'z500'}\n",
    "dict_variables['SST'] = {'sst':'sst'}\n",
    "dict_variables['T2M'] = {'t2m':'t2m'}"
   ]
  },
  {
   "cell_type": "markdown",
   "metadata": {
    "papermill": {
     "duration": 0.01737,
     "end_time": "2020-02-03T20:08:16.802054",
     "exception": false,
     "start_time": "2020-02-03T20:08:16.784684",
     "status": "completed"
    },
    "tags": []
   },
   "source": [
    "### DICTIONNARY WITH DIMENSIONS NAMES TO REPLACE "
   ]
  },
  {
   "cell_type": "code",
   "execution_count": 46,
   "metadata": {
    "papermill": {
     "duration": 0.025075,
     "end_time": "2020-02-03T20:08:16.845580",
     "exception": false,
     "start_time": "2020-02-03T20:08:16.820505",
     "status": "completed"
    },
    "tags": []
   },
   "outputs": [],
   "source": [
    "dict_dims = {}\n",
    "dict_dims['latitude'] = 'lat'\n",
    "dict_dims['longitude'] = 'lon'\n",
    "dict_dims['number'] = 'member'"
   ]
  },
  {
   "cell_type": "markdown",
   "metadata": {
    "papermill": {
     "duration": 0.017636,
     "end_time": "2020-02-03T20:08:16.881317",
     "exception": false,
     "start_time": "2020-02-03T20:08:16.863681",
     "status": "completed"
    },
    "tags": []
   },
   "source": [
    "### DICTIONNARY WITH BACKEND PARAMETERS FOR GRIB READING, DEPENDS ON THE GCM"
   ]
  },
  {
   "cell_type": "code",
   "execution_count": 47,
   "metadata": {
    "papermill": {
     "duration": 0.024042,
     "end_time": "2020-02-03T20:08:16.922857",
     "exception": false,
     "start_time": "2020-02-03T20:08:16.898815",
     "status": "completed"
    },
    "tags": []
   },
   "outputs": [],
   "source": [
    "dict_backend = {}\n",
    "dict_backend['ECMWF'] = {'indexpath':''}\n",
    "dict_backend['UKMO'] = {'indexpath':'', 'filter_by_keys':{'longitudeOfFirstGridPointInDegrees': 0.5}}\n",
    "dict_backend['METEO_FRANCE'] = {'indexpath':''}\n",
    "dict_backend['DWD'] = {'indexpath':''}\n",
    "dict_backend['CMCC'] = {'indexpath':''}"
   ]
  },
  {
   "cell_type": "markdown",
   "metadata": {
    "papermill": {
     "duration": 0.017375,
     "end_time": "2020-02-03T20:08:16.958121",
     "exception": false,
     "start_time": "2020-02-03T20:08:16.940746",
     "status": "completed"
    },
    "tags": []
   },
   "source": [
    "### list of files "
   ]
  },
  {
   "cell_type": "code",
   "execution_count": 48,
   "metadata": {
    "execution_event_id": "bcc7cb4d-5998-4df4-8908-9b0030583070",
    "last_executed_text": "lfiles = list(dpath.glob(\"*.grib\"))",
    "papermill": {
     "duration": 0.361376,
     "end_time": "2020-02-03T20:08:17.338022",
     "exception": false,
     "start_time": "2020-02-03T20:08:16.976646",
     "status": "completed"
    },
    "persistent_id": "f1037f29-b67f-4a61-b217-a63908efcd96",
    "tags": []
   },
   "outputs": [],
   "source": [
    "lfiles = list(dpath.glob(f\"{GCM}_*_????_??.grib\"))"
   ]
  },
  {
   "cell_type": "code",
   "execution_count": 49,
   "metadata": {
    "papermill": {
     "duration": 0.023617,
     "end_time": "2020-02-03T20:08:17.404717",
     "exception": false,
     "start_time": "2020-02-03T20:08:17.381100",
     "status": "completed"
    },
    "tags": []
   },
   "outputs": [],
   "source": [
    "lfiles.sort()"
   ]
  },
  {
   "cell_type": "code",
   "execution_count": 50,
   "metadata": {
    "execution_event_id": "6bb96c62-642f-40e2-a853-729a851e24f4",
    "last_executed_text": "lfiles[0]",
    "papermill": {
     "duration": 0.023069,
     "end_time": "2020-02-03T20:08:17.445402",
     "exception": false,
     "start_time": "2020-02-03T20:08:17.422333",
     "status": "completed"
    },
    "persistent_id": "cccce960-9e1a-4a9b-bc15-3be2213ba5c5",
    "tags": []
   },
   "outputs": [
    {
     "data": {
      "text/plain": [
       "PosixPath('/home/nicolasf/drives/auck_projects/END19101/Working/data/GCMs/downloads/forecasts/CDS/CMCC/PRECIP/CMCC_PRECIP_2018_11.grib')"
      ]
     },
     "execution_count": 50,
     "metadata": {},
     "output_type": "execute_result"
    }
   ],
   "source": [
    "lfiles[0]"
   ]
  },
  {
   "cell_type": "code",
   "execution_count": 51,
   "metadata": {
    "papermill": {
     "duration": 0.023712,
     "end_time": "2020-02-03T20:08:17.487838",
     "exception": false,
     "start_time": "2020-02-03T20:08:17.464126",
     "status": "completed"
    },
    "tags": []
   },
   "outputs": [
    {
     "data": {
      "text/plain": [
       "PosixPath('/home/nicolasf/drives/auck_projects/END19101/Working/data/GCMs/downloads/forecasts/CDS/CMCC/PRECIP/CMCC_PRECIP_2019_12.grib')"
      ]
     },
     "execution_count": 51,
     "metadata": {},
     "output_type": "execute_result"
    }
   ],
   "source": [
    "lfiles[-1]"
   ]
  },
  {
   "cell_type": "code",
   "execution_count": 52,
   "metadata": {
    "papermill": {
     "duration": 0.023302,
     "end_time": "2020-02-03T20:08:17.530292",
     "exception": false,
     "start_time": "2020-02-03T20:08:17.506990",
     "status": "completed"
    },
    "tags": []
   },
   "outputs": [
    {
     "data": {
      "text/plain": [
       "14"
      ]
     },
     "execution_count": 52,
     "metadata": {},
     "output_type": "execute_result"
    }
   ],
   "source": [
    "len(lfiles)"
   ]
  },
  {
   "cell_type": "markdown",
   "metadata": {},
   "source": [
    "### read first and last files for testing "
   ]
  },
  {
   "cell_type": "code",
   "execution_count": 53,
   "metadata": {
    "papermill": {
     "duration": 3.115951,
     "end_time": "2020-02-03T20:08:20.664406",
     "exception": false,
     "start_time": "2020-02-03T20:08:17.548455",
     "status": "completed"
    },
    "tags": []
   },
   "outputs": [],
   "source": [
    "sub0 = xr.open_dataset(lfiles[0], engine='cfgrib', backend_kwargs=dict_backend[GCM])"
   ]
  },
  {
   "cell_type": "code",
   "execution_count": 54,
   "metadata": {
    "papermill": {
     "duration": 0.034098,
     "end_time": "2020-02-03T20:08:20.717844",
     "exception": false,
     "start_time": "2020-02-03T20:08:20.683746",
     "status": "completed"
    },
    "tags": []
   },
   "outputs": [
    {
     "data": {
      "text/html": [
       "<pre>&lt;xarray.Dataset&gt;\n",
       "Dimensions:     (latitude: 180, longitude: 360, number: 50, step: 5)\n",
       "Coordinates:\n",
       "  * number      (number) int64 0 1 2 3 4 5 6 7 8 ... 41 42 43 44 45 46 47 48 49\n",
       "    time        datetime64[ns] ...\n",
       "  * step        (step) timedelta64[ns] 61 days 92 days ... 151 days 180 days\n",
       "    surface     int64 ...\n",
       "  * latitude    (latitude) float64 89.5 88.5 87.5 86.5 ... -87.5 -88.5 -89.5\n",
       "  * longitude   (longitude) float64 0.5 1.5 2.5 3.5 ... 356.5 357.5 358.5 359.5\n",
       "    valid_time  (step) datetime64[ns] ...\n",
       "Data variables:\n",
       "    tprate      (number, step, latitude, longitude) float32 ...\n",
       "Attributes:\n",
       "    GRIB_edition:            1\n",
       "    GRIB_centre:             cnmc\n",
       "    GRIB_centreDescription:  Rome \n",
       "    GRIB_subCentre:          98\n",
       "    Conventions:             CF-1.7\n",
       "    institution:             Rome \n",
       "    history:                 2020-02-18T16:09:37 GRIB to CDM+CF via cfgrib-0....</pre>"
      ],
      "text/plain": [
       "<xarray.Dataset>\n",
       "Dimensions:     (latitude: 180, longitude: 360, number: 50, step: 5)\n",
       "Coordinates:\n",
       "  * number      (number) int64 0 1 2 3 4 5 6 7 8 ... 41 42 43 44 45 46 47 48 49\n",
       "    time        datetime64[ns] ...\n",
       "  * step        (step) timedelta64[ns] 61 days 92 days ... 151 days 180 days\n",
       "    surface     int64 ...\n",
       "  * latitude    (latitude) float64 89.5 88.5 87.5 86.5 ... -87.5 -88.5 -89.5\n",
       "  * longitude   (longitude) float64 0.5 1.5 2.5 3.5 ... 356.5 357.5 358.5 359.5\n",
       "    valid_time  (step) datetime64[ns] ...\n",
       "Data variables:\n",
       "    tprate      (number, step, latitude, longitude) float32 ...\n",
       "Attributes:\n",
       "    GRIB_edition:            1\n",
       "    GRIB_centre:             cnmc\n",
       "    GRIB_centreDescription:  Rome \n",
       "    GRIB_subCentre:          98\n",
       "    Conventions:             CF-1.7\n",
       "    institution:             Rome \n",
       "    history:                 2020-02-18T16:09:37 GRIB to CDM+CF via cfgrib-0...."
      ]
     },
     "execution_count": 54,
     "metadata": {},
     "output_type": "execute_result"
    }
   ],
   "source": [
    "sub0"
   ]
  },
  {
   "cell_type": "code",
   "execution_count": 55,
   "metadata": {},
   "outputs": [],
   "source": [
    "sub1 = xr.open_dataset(lfiles[-1], engine='cfgrib', backend_kwargs=dict_backend[GCM])"
   ]
  },
  {
   "cell_type": "code",
   "execution_count": 56,
   "metadata": {},
   "outputs": [
    {
     "data": {
      "text/html": [
       "<pre>&lt;xarray.Dataset&gt;\n",
       "Dimensions:     (latitude: 180, longitude: 360, number: 50, step: 5)\n",
       "Coordinates:\n",
       "  * number      (number) int64 0 1 2 3 4 5 6 7 8 ... 41 42 43 44 45 46 47 48 49\n",
       "    time        datetime64[ns] ...\n",
       "  * step        (step) timedelta64[ns] 62 days 91 days ... 152 days 182 days\n",
       "    surface     int64 ...\n",
       "  * latitude    (latitude) float64 89.5 88.5 87.5 86.5 ... -87.5 -88.5 -89.5\n",
       "  * longitude   (longitude) float64 0.5 1.5 2.5 3.5 ... 356.5 357.5 358.5 359.5\n",
       "    valid_time  (step) datetime64[ns] ...\n",
       "Data variables:\n",
       "    tprate      (number, step, latitude, longitude) float32 ...\n",
       "Attributes:\n",
       "    GRIB_edition:            1\n",
       "    GRIB_centre:             cnmc\n",
       "    GRIB_centreDescription:  Rome \n",
       "    GRIB_subCentre:          98\n",
       "    Conventions:             CF-1.7\n",
       "    institution:             Rome \n",
       "    history:                 2020-02-18T16:11:32 GRIB to CDM+CF via cfgrib-0....</pre>"
      ],
      "text/plain": [
       "<xarray.Dataset>\n",
       "Dimensions:     (latitude: 180, longitude: 360, number: 50, step: 5)\n",
       "Coordinates:\n",
       "  * number      (number) int64 0 1 2 3 4 5 6 7 8 ... 41 42 43 44 45 46 47 48 49\n",
       "    time        datetime64[ns] ...\n",
       "  * step        (step) timedelta64[ns] 62 days 91 days ... 152 days 182 days\n",
       "    surface     int64 ...\n",
       "  * latitude    (latitude) float64 89.5 88.5 87.5 86.5 ... -87.5 -88.5 -89.5\n",
       "  * longitude   (longitude) float64 0.5 1.5 2.5 3.5 ... 356.5 357.5 358.5 359.5\n",
       "    valid_time  (step) datetime64[ns] ...\n",
       "Data variables:\n",
       "    tprate      (number, step, latitude, longitude) float32 ...\n",
       "Attributes:\n",
       "    GRIB_edition:            1\n",
       "    GRIB_centre:             cnmc\n",
       "    GRIB_centreDescription:  Rome \n",
       "    GRIB_subCentre:          98\n",
       "    Conventions:             CF-1.7\n",
       "    institution:             Rome \n",
       "    history:                 2020-02-18T16:11:32 GRIB to CDM+CF via cfgrib-0...."
      ]
     },
     "execution_count": 56,
     "metadata": {},
     "output_type": "execute_result"
    }
   ],
   "source": [
    "sub1"
   ]
  },
  {
   "cell_type": "code",
   "execution_count": 57,
   "metadata": {},
   "outputs": [],
   "source": [
    "sub0.close() "
   ]
  },
  {
   "cell_type": "code",
   "execution_count": 58,
   "metadata": {
    "papermill": {
     "duration": 0.022858,
     "end_time": "2020-02-03T20:08:20.759385",
     "exception": false,
     "start_time": "2020-02-03T20:08:20.736527",
     "status": "completed"
    },
    "tags": []
   },
   "outputs": [],
   "source": [
    "sub1.close()"
   ]
  },
  {
   "cell_type": "markdown",
   "metadata": {},
   "source": [
    "### now loop over files and save processed netcdf files "
   ]
  },
  {
   "cell_type": "code",
   "execution_count": 59,
   "metadata": {
    "papermill": {
     "duration": 1620.051669,
     "end_time": "2020-02-03T20:35:20.829478",
     "exception": false,
     "start_time": "2020-02-03T20:08:20.777809",
     "status": "completed"
    },
    "tags": []
   },
   "outputs": [
    {
     "name": "stdout",
     "output_type": "stream",
     "text": [
      "/home/nicolasf/drives/auck_projects/END19101/Working/data/GCMs/downloads/forecasts/CDS/CMCC/PRECIP/CMCC_PRECIP_2018_11.grib: members = 50, lat = 180, lon = 360, step = 5\n",
      "/home/nicolasf/drives/auck_projects/END19101/Working/data/GCMs/downloads/forecasts/CDS/CMCC/PRECIP/CMCC_PRECIP_2018_12.grib: members = 50, lat = 180, lon = 360, step = 5\n",
      "/home/nicolasf/drives/auck_projects/END19101/Working/data/GCMs/downloads/forecasts/CDS/CMCC/PRECIP/CMCC_PRECIP_2019_01.grib: members = 50, lat = 180, lon = 360, step = 5\n",
      "/home/nicolasf/drives/auck_projects/END19101/Working/data/GCMs/downloads/forecasts/CDS/CMCC/PRECIP/CMCC_PRECIP_2019_02.grib: members = 50, lat = 180, lon = 360, step = 5\n",
      "/home/nicolasf/drives/auck_projects/END19101/Working/data/GCMs/downloads/forecasts/CDS/CMCC/PRECIP/CMCC_PRECIP_2019_03.grib: members = 50, lat = 180, lon = 360, step = 5\n",
      "/home/nicolasf/drives/auck_projects/END19101/Working/data/GCMs/downloads/forecasts/CDS/CMCC/PRECIP/CMCC_PRECIP_2019_04.grib: members = 50, lat = 180, lon = 360, step = 5\n",
      "/home/nicolasf/drives/auck_projects/END19101/Working/data/GCMs/downloads/forecasts/CDS/CMCC/PRECIP/CMCC_PRECIP_2019_05.grib: members = 50, lat = 180, lon = 360, step = 5\n",
      "/home/nicolasf/drives/auck_projects/END19101/Working/data/GCMs/downloads/forecasts/CDS/CMCC/PRECIP/CMCC_PRECIP_2019_06.grib: members = 50, lat = 180, lon = 360, step = 5\n",
      "/home/nicolasf/drives/auck_projects/END19101/Working/data/GCMs/downloads/forecasts/CDS/CMCC/PRECIP/CMCC_PRECIP_2019_07.grib: members = 50, lat = 180, lon = 360, step = 5\n",
      "/home/nicolasf/drives/auck_projects/END19101/Working/data/GCMs/downloads/forecasts/CDS/CMCC/PRECIP/CMCC_PRECIP_2019_08.grib: members = 50, lat = 180, lon = 360, step = 5\n",
      "/home/nicolasf/drives/auck_projects/END19101/Working/data/GCMs/downloads/forecasts/CDS/CMCC/PRECIP/CMCC_PRECIP_2019_09.grib: members = 50, lat = 180, lon = 360, step = 5\n",
      "/home/nicolasf/drives/auck_projects/END19101/Working/data/GCMs/downloads/forecasts/CDS/CMCC/PRECIP/CMCC_PRECIP_2019_10.grib: members = 50, lat = 180, lon = 360, step = 5\n",
      "/home/nicolasf/drives/auck_projects/END19101/Working/data/GCMs/downloads/forecasts/CDS/CMCC/PRECIP/CMCC_PRECIP_2019_11.grib: members = 50, lat = 180, lon = 360, step = 5\n",
      "/home/nicolasf/drives/auck_projects/END19101/Working/data/GCMs/downloads/forecasts/CDS/CMCC/PRECIP/CMCC_PRECIP_2019_12.grib: members = 50, lat = 180, lon = 360, step = 5\n"
     ]
    }
   ],
   "source": [
    "dlog = []\n",
    "dset = []\n",
    "\n",
    "for fname in lfiles: \n",
    "    \n",
    "#     print(f\"processing {str(fname)}\") \n",
    "    \n",
    "    try:\n",
    "        sub = xr.open_dataset(fname, engine='cfgrib', backend_kwargs=dict_backend[GCM])\n",
    "    except: \n",
    "        sub = xr.open_dataset(fname, engine='cfgrib', backend_kwargs={'indexpath':''})\n",
    "    \n",
    "    sub = sub.dropna(dim='step', how='all')\n",
    "    \n",
    "    if len(sub.step) != 5: \n",
    "        print(\"issue with time {:%Y-%m}\".format(pd.to_datetime(sub.time.data)))\n",
    "        pass \n",
    "    else: \n",
    "        sub['step'] = (('step'), np.arange(1, 6))\n",
    "    \n",
    "    sub = sub.rename(dict_variables[var_name])\n",
    "    \n",
    "    sub = sub.rename(dict_dims)\n",
    "\n",
    "    if sub.lat[0].data > sub.lat[-1].data: \n",
    "        sub = sub.sortby('lat')\n",
    "        \n",
    "    logtxt = f\"{str(fname)}: members = {sub.dims['member']}, lat = {sub.dims['lat']}, lon = {sub.dims['lon']}, step = {sub.dims['step']}\"\n",
    "    \n",
    "    print(logtxt)\n",
    "        \n",
    "    dlog.append(logtxt)\n",
    "    \n",
    "    dset.append(sub)"
   ]
  },
  {
   "cell_type": "markdown",
   "metadata": {
    "papermill": {
     "duration": 0.071378,
     "end_time": "2020-02-03T20:35:20.972695",
     "exception": false,
     "start_time": "2020-02-03T20:35:20.901317",
     "status": "completed"
    },
    "tags": []
   },
   "source": [
    "### checks that one can concatenate the dataset along the time dimension "
   ]
  },
  {
   "cell_type": "code",
   "execution_count": 60,
   "metadata": {
    "papermill": {
     "duration": 1.42793,
     "end_time": "2020-02-03T20:35:22.472428",
     "exception": false,
     "start_time": "2020-02-03T20:35:21.044498",
     "status": "completed"
    },
    "tags": []
   },
   "outputs": [],
   "source": [
    "dset_step = xr.concat(dset, 'time') "
   ]
  },
  {
   "cell_type": "code",
   "execution_count": 61,
   "metadata": {
    "papermill": {
     "duration": 0.089045,
     "end_time": "2020-02-03T20:35:22.656383",
     "exception": false,
     "start_time": "2020-02-03T20:35:22.567338",
     "status": "completed"
    },
    "tags": []
   },
   "outputs": [
    {
     "data": {
      "text/html": [
       "<pre>&lt;xarray.Dataset&gt;\n",
       "Dimensions:     (lat: 180, lon: 360, member: 50, step: 5, time: 14)\n",
       "Coordinates:\n",
       "    surface     int64 0\n",
       "  * step        (step) int64 1 2 3 4 5\n",
       "  * lon         (lon) float64 0.5 1.5 2.5 3.5 4.5 ... 356.5 357.5 358.5 359.5\n",
       "  * lat         (lat) float64 -89.5 -88.5 -87.5 -86.5 ... 86.5 87.5 88.5 89.5\n",
       "  * member      (member) int64 0 1 2 3 4 5 6 7 8 ... 41 42 43 44 45 46 47 48 49\n",
       "  * time        (time) datetime64[ns] 2018-11-01 2018-12-01 ... 2019-12-01\n",
       "    valid_time  (time, step) datetime64[ns] 2019-01-01 2019-02-01 ... 2020-05-31\n",
       "Data variables:\n",
       "    precip      (time, member, step, lat, lon) float32 2.570479e-10 ... 1.1134306e-08\n",
       "Attributes:\n",
       "    GRIB_edition:            1\n",
       "    GRIB_centre:             cnmc\n",
       "    GRIB_centreDescription:  Rome \n",
       "    GRIB_subCentre:          98\n",
       "    Conventions:             CF-1.7\n",
       "    institution:             Rome \n",
       "    history:                 2020-02-18T16:12:14 GRIB to CDM+CF via cfgrib-0....</pre>"
      ],
      "text/plain": [
       "<xarray.Dataset>\n",
       "Dimensions:     (lat: 180, lon: 360, member: 50, step: 5, time: 14)\n",
       "Coordinates:\n",
       "    surface     int64 0\n",
       "  * step        (step) int64 1 2 3 4 5\n",
       "  * lon         (lon) float64 0.5 1.5 2.5 3.5 4.5 ... 356.5 357.5 358.5 359.5\n",
       "  * lat         (lat) float64 -89.5 -88.5 -87.5 -86.5 ... 86.5 87.5 88.5 89.5\n",
       "  * member      (member) int64 0 1 2 3 4 5 6 7 8 ... 41 42 43 44 45 46 47 48 49\n",
       "  * time        (time) datetime64[ns] 2018-11-01 2018-12-01 ... 2019-12-01\n",
       "    valid_time  (time, step) datetime64[ns] 2019-01-01 2019-02-01 ... 2020-05-31\n",
       "Data variables:\n",
       "    precip      (time, member, step, lat, lon) float32 2.570479e-10 ... 1.1134306e-08\n",
       "Attributes:\n",
       "    GRIB_edition:            1\n",
       "    GRIB_centre:             cnmc\n",
       "    GRIB_centreDescription:  Rome \n",
       "    GRIB_subCentre:          98\n",
       "    Conventions:             CF-1.7\n",
       "    institution:             Rome \n",
       "    history:                 2020-02-18T16:12:14 GRIB to CDM+CF via cfgrib-0...."
      ]
     },
     "execution_count": 61,
     "metadata": {},
     "output_type": "execute_result"
    }
   ],
   "source": [
    "dset_step"
   ]
  },
  {
   "cell_type": "code",
   "execution_count": 62,
   "metadata": {
    "papermill": {
     "duration": 0.074622,
     "end_time": "2020-02-03T20:35:22.800874",
     "exception": false,
     "start_time": "2020-02-03T20:35:22.726252",
     "status": "completed"
    },
    "tags": []
   },
   "outputs": [
    {
     "data": {
      "text/plain": [
       "PosixPath('/home/nicolasf/drives/auck_projects/END19101/Working/data/GCMs/pre_processed/forecasts/CDS/CMCC/PRECIP')"
      ]
     },
     "execution_count": 62,
     "metadata": {},
     "output_type": "execute_result"
    }
   ],
   "source": [
    "opath"
   ]
  },
  {
   "cell_type": "code",
   "execution_count": 63,
   "metadata": {
    "execution_event_id": "a7248b3a-6c6d-458f-9596-47425ea26260",
    "last_executed_text": "dset_step",
    "papermill": {
     "duration": 1151.631967,
     "end_time": "2020-02-03T20:54:34.503636",
     "exception": false,
     "start_time": "2020-02-03T20:35:22.871669",
     "status": "completed"
    },
    "persistent_id": "54be97ad-56e8-439e-850f-05e804e18dd4",
    "tags": []
   },
   "outputs": [
    {
     "name": "stdout",
     "output_type": "stream",
     "text": [
      "saving /home/nicolasf/drives/auck_projects/END19101/Working/data/GCMs/pre_processed/forecasts/CDS/CMCC/PRECIP/CMCC_PRECIP_2018_11.nc\n",
      "saving /home/nicolasf/drives/auck_projects/END19101/Working/data/GCMs/pre_processed/forecasts/CDS/CMCC/PRECIP/CMCC_PRECIP_2018_12.nc\n",
      "saving /home/nicolasf/drives/auck_projects/END19101/Working/data/GCMs/pre_processed/forecasts/CDS/CMCC/PRECIP/CMCC_PRECIP_2019_01.nc\n",
      "saving /home/nicolasf/drives/auck_projects/END19101/Working/data/GCMs/pre_processed/forecasts/CDS/CMCC/PRECIP/CMCC_PRECIP_2019_02.nc\n",
      "saving /home/nicolasf/drives/auck_projects/END19101/Working/data/GCMs/pre_processed/forecasts/CDS/CMCC/PRECIP/CMCC_PRECIP_2019_03.nc\n",
      "saving /home/nicolasf/drives/auck_projects/END19101/Working/data/GCMs/pre_processed/forecasts/CDS/CMCC/PRECIP/CMCC_PRECIP_2019_04.nc\n",
      "saving /home/nicolasf/drives/auck_projects/END19101/Working/data/GCMs/pre_processed/forecasts/CDS/CMCC/PRECIP/CMCC_PRECIP_2019_05.nc\n",
      "saving /home/nicolasf/drives/auck_projects/END19101/Working/data/GCMs/pre_processed/forecasts/CDS/CMCC/PRECIP/CMCC_PRECIP_2019_06.nc\n",
      "saving /home/nicolasf/drives/auck_projects/END19101/Working/data/GCMs/pre_processed/forecasts/CDS/CMCC/PRECIP/CMCC_PRECIP_2019_07.nc\n",
      "saving /home/nicolasf/drives/auck_projects/END19101/Working/data/GCMs/pre_processed/forecasts/CDS/CMCC/PRECIP/CMCC_PRECIP_2019_08.nc\n",
      "saving /home/nicolasf/drives/auck_projects/END19101/Working/data/GCMs/pre_processed/forecasts/CDS/CMCC/PRECIP/CMCC_PRECIP_2019_09.nc\n",
      "saving /home/nicolasf/drives/auck_projects/END19101/Working/data/GCMs/pre_processed/forecasts/CDS/CMCC/PRECIP/CMCC_PRECIP_2019_10.nc\n",
      "saving /home/nicolasf/drives/auck_projects/END19101/Working/data/GCMs/pre_processed/forecasts/CDS/CMCC/PRECIP/CMCC_PRECIP_2019_11.nc\n",
      "saving /home/nicolasf/drives/auck_projects/END19101/Working/data/GCMs/pre_processed/forecasts/CDS/CMCC/PRECIP/CMCC_PRECIP_2019_12.nc\n"
     ]
    }
   ],
   "source": [
    "for date in pd.to_datetime(dset_step.time.data): \n",
    "    sub = dset_step.sel(time=date)\n",
    "    filename_out = pathlib.Path(opath / f\"{GCM}_{var_name}_{date:%Y_%m}.nc\")\n",
    "    print(f\"saving {filename_out}\")\n",
    "    sub.to_netcdf(filename_out)\n",
    "    sub.close()"
   ]
  },
  {
   "cell_type": "code",
   "execution_count": 64,
   "metadata": {
    "papermill": {
     "duration": 0.121112,
     "end_time": "2020-02-03T20:54:34.770717",
     "exception": false,
     "start_time": "2020-02-03T20:54:34.649605",
     "status": "completed"
    },
    "tags": []
   },
   "outputs": [],
   "source": [
    "dset_step.close()"
   ]
  },
  {
   "cell_type": "code",
   "execution_count": null,
   "metadata": {},
   "outputs": [],
   "source": []
  }
 ],
 "metadata": {
  "history": [
   {
    "cell": {
     "executionCount": 1,
     "executionEventId": "e371e486-dcfa-4fab-b885-72ae9334d832",
     "hasError": false,
     "id": "d7d6ab4f-4e14-41d0-9378-da0add4f1629",
     "outputs": [],
     "persistentId": "b0a728df-f474-4bbd-9e52-7cdbe3f5a140",
     "text": "%matplotlib inline\nfrom matplotlib import pyplot as plt"
    },
    "executionTime": "2019-12-15T21:14:41.573Z"
   },
   {
    "cell": {
     "executionCount": 2,
     "executionEventId": "2779f5bd-18f5-4817-83e5-7e0ec093987d",
     "hasError": false,
     "id": "ca5f5758-101a-452c-86f5-013b9cf439d3",
     "outputs": [],
     "persistentId": "3052e537-b7af-4235-80cb-24fe1a737849",
     "text": "import pandas as pd\nimport xarray as xr"
    },
    "executionTime": "2019-12-15T21:14:55.545Z"
   },
   {
    "cell": {
     "executionCount": 3,
     "executionEventId": "83511cc0-3b78-4a22-b353-a7dd8bac293b",
     "hasError": false,
     "id": "c33dfafa-c23c-4932-90f6-03a48b05616e",
     "outputs": [],
     "persistentId": "71d0612c-bcb6-43fc-920b-d9edf8a838bb",
     "text": "import pathlib"
    },
    "executionTime": "2019-12-15T21:14:58.995Z"
   },
   {
    "cell": {
     "executionCount": 4,
     "executionEventId": "70d3b713-f9a5-4600-af18-0f546067c014",
     "hasError": false,
     "id": "a4972559-fc48-4739-9663-833b4d105111",
     "outputs": [],
     "persistentId": "9e0f73d4-b23e-4ea8-b8b5-dcd3d0e4c4f3",
     "text": "HOME = pathlib.Path.home()"
    },
    "executionTime": "2019-12-15T21:15:05.414Z"
   },
   {
    "cell": {
     "executionCount": 5,
     "executionEventId": "3414151a-2251-4a1e-bc8e-9c5c1799f56e",
     "hasError": false,
     "id": "ddf5de48-21dc-4cad-ad8c-45fe813333ac",
     "outputs": [
      {
       "data": {
        "text/plain": "PosixPath('/home/nicolasf')"
       },
       "execution_count": 5,
       "metadata": {},
       "output_type": "execute_result"
      }
     ],
     "persistentId": "a2759133-9455-4ba4-93c2-937ed3c1653f",
     "text": "HOME"
    },
    "executionTime": "2019-12-15T21:15:07.141Z"
   },
   {
    "cell": {
     "executionCount": 6,
     "executionEventId": "c5170d10-236e-4feb-b2b2-a03c1c323054",
     "hasError": false,
     "id": "d684e3db-6a34-4e13-8750-54a9332cc90b",
     "outputs": [],
     "persistentId": "74cdeb9b-2d33-437a-9cbd-3bd39297bd30",
     "text": "GCM = 'ECMWF'"
    },
    "executionTime": "2019-12-15T21:16:43.505Z"
   },
   {
    "cell": {
     "executionCount": 7,
     "executionEventId": "345e0479-796a-438b-8ebc-df41a85bc59e",
     "hasError": false,
     "id": "23476de0-8531-4f04-bd3a-7f45ec2fdac1",
     "outputs": [],
     "persistentId": "6bb82ee7-5f40-4056-ae98-2b0870c8639d",
     "text": "var_name = 'Z500'"
    },
    "executionTime": "2019-12-15T21:16:51.234Z"
   },
   {
    "cell": {
     "executionCount": 8,
     "executionEventId": "75630d3f-72eb-47cf-a6e6-83a6066e09d3",
     "hasError": false,
     "id": "3d2b72e0-6d34-4717-ad35-2a9847e2cb71",
     "outputs": [],
     "persistentId": "c128a3a1-d7af-45a9-bcbb-608da37a3454",
     "text": "dpath = HOME / 'drives' / 'auck_projects' / 'END19101' / 'Working' / 'data' / 'hindcasts' / GCM / var_name "
    },
    "executionTime": "2019-12-15T21:16:55.723Z"
   },
   {
    "cell": {
     "executionCount": 9,
     "executionEventId": "11a325b0-c271-4446-9d97-73389cb60c5b",
     "hasError": false,
     "id": "cb4b76a8-679a-4693-ac5f-b90edeeaacad",
     "outputs": [
      {
       "data": {
        "text/plain": "<generator object Path.glob at 0x7f7203595b50>"
       },
       "execution_count": 9,
       "metadata": {},
       "output_type": "execute_result"
      }
     ],
     "persistentId": "f1037f29-b67f-4a61-b217-a63908efcd96",
     "text": "dpath.glob(\"*\")"
    },
    "executionTime": "2019-12-15T21:17:03.524Z"
   },
   {
    "cell": {
     "executionCount": 10,
     "executionEventId": "a347054b-3fd3-4ce8-a255-14f4ccdfc036",
     "hasError": false,
     "id": "cb4b76a8-679a-4693-ac5f-b90edeeaacad",
     "outputs": [
      {
       "data": {
        "text/plain": "[PosixPath('/home/nicolasf/drives/auck_projects/END19101/Working/data/hindcasts/ECMWF/Z500/Z500_hindcasts_1993_2016_ECMWF.grib')]"
       },
       "execution_count": 10,
       "metadata": {},
       "output_type": "execute_result"
      }
     ],
     "persistentId": "f1037f29-b67f-4a61-b217-a63908efcd96",
     "text": "list(dpath.glob(\"*\"))"
    },
    "executionTime": "2019-12-15T21:17:12.582Z"
   },
   {
    "cell": {
     "executionCount": 11,
     "executionEventId": "5ed8656f-1a89-4b88-ba21-7b270ee07e74",
     "hasError": false,
     "id": "cb4b76a8-679a-4693-ac5f-b90edeeaacad",
     "outputs": [
      {
       "data": {
        "text/plain": "[PosixPath('/home/nicolasf/drives/auck_projects/END19101/Working/data/hindcasts/ECMWF/Z500/Z500_hindcasts_1993_2016_ECMWF.grib')]"
       },
       "execution_count": 11,
       "metadata": {},
       "output_type": "execute_result"
      }
     ],
     "persistentId": "f1037f29-b67f-4a61-b217-a63908efcd96",
     "text": "list(dpath.glob(\"*.grib\"))"
    },
    "executionTime": "2019-12-15T21:17:17.879Z"
   },
   {
    "cell": {
     "executionCount": 12,
     "executionEventId": "0089ebac-1821-4844-9f46-b0046f2163a9",
     "hasError": false,
     "id": "cb4b76a8-679a-4693-ac5f-b90edeeaacad",
     "outputs": [],
     "persistentId": "f1037f29-b67f-4a61-b217-a63908efcd96",
     "text": "lfiles = list(dpath.glob(\"*.grib\"))"
    },
    "executionTime": "2019-12-15T21:17:22.542Z"
   },
   {
    "cell": {
     "executionCount": 13,
     "executionEventId": "ed6c000b-9a8c-4eef-98e8-e53455c5cb0a",
     "hasError": false,
     "id": "be73b7d1-2c48-4d46-af29-59a139ec2699",
     "outputs": [
      {
       "data": {
        "text/plain": "PosixPath('/home/nicolasf/drives/auck_projects/END19101/Working/data/hindcasts/ECMWF/Z500/Z500_hindcasts_1993_2016_ECMWF.grib')"
       },
       "execution_count": 13,
       "metadata": {},
       "output_type": "execute_result"
      }
     ],
     "persistentId": "cccce960-9e1a-4a9b-bc15-3be2213ba5c5",
     "text": "lfiles[0]"
    },
    "executionTime": "2019-12-15T21:17:26.336Z"
   },
   {
    "cell": {
     "executionCount": 14,
     "executionEventId": "087becab-0fca-4add-81db-b337c666759a",
     "hasError": false,
     "id": "5a811562-2e78-4388-86e0-b7c421282b85",
     "outputs": [
      {
       "name": "stderr",
       "output_type": "stream",
       "text": "skipping corrupted Message\nTraceback (most recent call last):\n  File \"/home/nicolasf/anaconda3/envs/pangeo/lib/python3.7/site-packages/cfgrib/messages.py\", line 214, in __iter__\n    yield self.message_from_file(file, errors=self.errors)\n  File \"/home/nicolasf/anaconda3/envs/pangeo/lib/python3.7/site-packages/cfgrib/messages.py\", line 229, in message_from_file\n    return self.message_class.from_file(file, offset, self.product_kind, **kwargs)\n  File \"/home/nicolasf/anaconda3/envs/pangeo/lib/python3.7/site-packages/cfgrib/messages.py\", line 70, in from_file\n    codes_id = eccodes.codes_new_from_file(file, product_kind=product_kind)\n  File \"/home/nicolasf/anaconda3/envs/pangeo/lib/python3.7/site-packages/cfgrib/bindings.py\", line 177, in codes_grib_new_from_file\n    retval = check_last(lib.codes_handle_new_from_file)(context, fileobj, product_kind)\n  File \"/home/nicolasf/anaconda3/envs/pangeo/lib/python3.7/site-packages/cfgrib/bindings.py\", line 151, in wrapper\n    raise GribInternalError(code[0])\ncfgrib.bindings.GribInternalError: ('Wrong message length (-23).', -23)\n"
      }
     ],
     "persistentId": "8362c48c-468b-4021-885c-3759c041ba5a",
     "text": "dset = xr.open_dataset(lfiles[0], engine='cfgrib', backend_kwargs={'indexpath':''})"
    },
    "executionTime": "2019-12-15T21:24:41.309Z"
   },
   {
    "cell": {
     "executionCount": 15,
     "executionEventId": "19d9d30f-76f5-4535-825b-040b5e04f0eb",
     "hasError": false,
     "id": "2e39fe98-31ea-45ad-8db0-10d899f941b9",
     "outputs": [
      {
       "data": {
        "text/plain": "<xarray.Dataset>\nDimensions:        (latitude: 181, longitude: 360, number: 25, step: 20, time: 288)\nCoordinates:\n  * number         (number) int64 0 1 2 3 4 5 6 7 8 ... 17 18 19 20 21 22 23 24\n  * time           (time) datetime64[ns] 1993-01-01 1993-02-01 ... 2016-12-01\n  * step           (step) timedelta64[ns] 59 days 60 days ... 183 days 184 days\n    isobaricInhPa  int64 ...\n  * latitude       (latitude) float64 90.0 89.0 88.0 87.0 ... -88.0 -89.0 -90.0\n  * longitude      (longitude) float64 0.0 1.0 2.0 3.0 ... 357.0 358.0 359.0\n    valid_time     (time, step) datetime64[ns] ...\nData variables:\n    z              (number, time, step, latitude, longitude) float32 ...\nAttributes:\n    GRIB_edition:            1\n    GRIB_centre:             ecmf\n    GRIB_centreDescription:  European Centre for Medium-Range Weather Forecasts\n    GRIB_subCentre:          0\n    Conventions:             CF-1.7\n    institution:             European Centre for Medium-Range Weather Forecasts\n    history:                 2019-12-16T10:24:41 GRIB to CDM+CF via cfgrib-0...."
       },
       "execution_count": 15,
       "metadata": {},
       "output_type": "execute_result"
      }
     ],
     "persistentId": "c30fdd25-2ff1-44af-8933-1e605e73bf26",
     "text": "dset"
    },
    "executionTime": "2019-12-15T21:24:41.326Z"
   },
   {
    "cell": {
     "executionCount": 16,
     "executionEventId": "8bd195d0-afd9-4dfa-a9e5-4d811d255dd2",
     "hasError": false,
     "id": "f6a5047b-821c-4bee-891c-d0be472bbdc7",
     "outputs": [],
     "persistentId": "4b35cdec-d549-4036-af75-5cd6f78cf39c",
     "text": "sub = dset.dropna(dim='step', how='all')"
    },
    "executionTime": "2019-12-15T21:28:07.541Z"
   },
   {
    "cell": {
     "executionCount": 17,
     "executionEventId": "9de86066-fbdb-4987-8ed7-c7475754486d",
     "hasError": false,
     "id": "53d39cc1-c2b5-4f7e-83de-28518c2c201f",
     "outputs": [
      {
       "data": {
        "text/plain": "<xarray.Dataset>\nDimensions:        (latitude: 181, longitude: 360, number: 25, step: 20, time: 288)\nCoordinates:\n  * number         (number) int64 0 1 2 3 4 5 6 7 8 ... 17 18 19 20 21 22 23 24\n  * time           (time) datetime64[ns] 1993-01-01 1993-02-01 ... 2016-12-01\n  * step           (step) timedelta64[ns] 59 days 60 days ... 183 days 184 days\n    isobaricInhPa  int64 ...\n  * latitude       (latitude) float64 90.0 89.0 88.0 87.0 ... -88.0 -89.0 -90.0\n  * longitude      (longitude) float64 0.0 1.0 2.0 3.0 ... 357.0 358.0 359.0\n    valid_time     (time, step) datetime64[ns] ...\nData variables:\n    z              (number, time, step, latitude, longitude) float32 49785.137 ... nan\nAttributes:\n    GRIB_edition:            1\n    GRIB_centre:             ecmf\n    GRIB_centreDescription:  European Centre for Medium-Range Weather Forecasts\n    GRIB_subCentre:          0\n    Conventions:             CF-1.7\n    institution:             European Centre for Medium-Range Weather Forecasts\n    history:                 2019-12-16T10:24:41 GRIB to CDM+CF via cfgrib-0...."
       },
       "execution_count": 17,
       "metadata": {},
       "output_type": "execute_result"
      }
     ],
     "persistentId": "2e370669-0fd8-4b56-8d62-f4b0e61b24c3",
     "text": "sub"
    },
    "executionTime": "2019-12-15T21:36:38.752Z"
   },
   {
    "cell": {
     "executionCount": 18,
     "executionEventId": "d2af656b-8cc5-476c-9cba-aad9c9ba4b64",
     "hasError": false,
     "id": "1c7830b1-1a0e-4588-b377-3a0fb4365687",
     "outputs": [],
     "persistentId": "3f99b8d8-c239-47f1-8ff5-d2ae9117d17c",
     "text": "sub = []"
    },
    "executionTime": "2019-12-15T21:36:51.321Z"
   },
   {
    "cell": {
     "executionCount": 19,
     "executionEventId": "f30805c4-c667-4fbd-b27d-29488361d8f2",
     "hasError": true,
     "id": "3f90d276-41f1-4135-b613-7041eca3bb37",
     "outputs": [
      {
       "ename": "NameError",
       "evalue": "name 't' is not defined",
       "output_type": "error",
       "traceback": [
        "\u001b[0;31m---------------------------------------------------------------------------\u001b[0m",
        "\u001b[0;31mNameError\u001b[0m                                 Traceback (most recent call last)",
        "\u001b[0;32m<ipython-input-19-89c72898b349>\u001b[0m in \u001b[0;36m<module>\u001b[0;34m\u001b[0m\n\u001b[0;32m----> 1\u001b[0;31m \u001b[0msub\u001b[0m \u001b[0;34m=\u001b[0m \u001b[0mdset\u001b[0m\u001b[0;34m.\u001b[0m\u001b[0misel\u001b[0m\u001b[0;34m(\u001b[0m\u001b[0mtime\u001b[0m\u001b[0;34m=\u001b[0m\u001b[0mt\u001b[0m\u001b[0;34m)\u001b[0m\u001b[0;34m\u001b[0m\u001b[0;34m\u001b[0m\u001b[0m\n\u001b[0m",
        "\u001b[0;31mNameError\u001b[0m: name 't' is not defined"
       ]
      }
     ],
     "persistentId": "c817b6cb-bdce-4948-950c-f3e95fbca88c",
     "text": "sub = dset.isel(time=t)"
    },
    "executionTime": "2019-12-15T21:37:35.542Z"
   },
   {
    "cell": {
     "executionCount": 20,
     "executionEventId": "534f258e-5454-45ab-a3e9-67caa20fdb30",
     "hasError": false,
     "id": "3f90d276-41f1-4135-b613-7041eca3bb37",
     "outputs": [],
     "persistentId": "c817b6cb-bdce-4948-950c-f3e95fbca88c",
     "text": "sub = dset.isel(time=0)"
    },
    "executionTime": "2019-12-15T21:37:39.107Z"
   },
   {
    "cell": {
     "executionCount": 21,
     "executionEventId": "3756efa3-482b-4992-99dc-e5056b5fa3f8",
     "hasError": false,
     "id": "97c4e9ab-7a57-4cb7-bc68-c80ac2306c5d",
     "outputs": [
      {
       "data": {
        "text/plain": "<xarray.Dataset>\nDimensions:        (latitude: 181, longitude: 360, number: 25, step: 20)\nCoordinates:\n  * number         (number) int64 0 1 2 3 4 5 6 7 8 ... 17 18 19 20 21 22 23 24\n    time           datetime64[ns] 1993-01-01\n  * step           (step) timedelta64[ns] 59 days 60 days ... 183 days 184 days\n    isobaricInhPa  int64 ...\n  * latitude       (latitude) float64 90.0 89.0 88.0 87.0 ... -88.0 -89.0 -90.0\n  * longitude      (longitude) float64 0.0 1.0 2.0 3.0 ... 357.0 358.0 359.0\n    valid_time     (step) datetime64[ns] ...\nData variables:\n    z              (number, step, latitude, longitude) float32 49785.137 ... nan\nAttributes:\n    GRIB_edition:            1\n    GRIB_centre:             ecmf\n    GRIB_centreDescription:  European Centre for Medium-Range Weather Forecasts\n    GRIB_subCentre:          0\n    Conventions:             CF-1.7\n    institution:             European Centre for Medium-Range Weather Forecasts\n    history:                 2019-12-16T10:24:41 GRIB to CDM+CF via cfgrib-0...."
       },
       "execution_count": 21,
       "metadata": {},
       "output_type": "execute_result"
      }
     ],
     "persistentId": "40fb7006-95cb-4ccb-83af-cbd313c3578a",
     "text": "sub"
    },
    "executionTime": "2019-12-15T21:37:41.099Z"
   },
   {
    "cell": {
     "executionCount": 22,
     "executionEventId": "e853ca88-07fe-4122-84fa-225c654aa3de",
     "hasError": false,
     "id": "2d75a44f-716b-4d54-b582-3fdff4145f95",
     "outputs": [],
     "persistentId": "803f720c-4894-442b-b867-f73e50de5fb9",
     "text": "sub = sub.dropna(dim='step', how='all')"
    },
    "executionTime": "2019-12-15T21:37:53.720Z"
   },
   {
    "cell": {
     "executionCount": 23,
     "executionEventId": "07ba54c9-418c-41b7-abd0-b714cc6ab159",
     "hasError": false,
     "id": "225e4d04-c39b-43dd-bf7f-7fe2c8aa9a81",
     "outputs": [
      {
       "data": {
        "text/plain": "<xarray.Dataset>\nDimensions:        (latitude: 181, longitude: 360, number: 25, step: 5)\nCoordinates:\n  * number         (number) int64 0 1 2 3 4 5 6 7 8 ... 17 18 19 20 21 22 23 24\n    time           datetime64[ns] 1993-01-01\n  * step           (step) timedelta64[ns] 59 days 90 days ... 151 days 181 days\n    isobaricInhPa  int64 ...\n  * latitude       (latitude) float64 90.0 89.0 88.0 87.0 ... -88.0 -89.0 -90.0\n  * longitude      (longitude) float64 0.0 1.0 2.0 3.0 ... 357.0 358.0 359.0\n    valid_time     (step) datetime64[ns] ...\nData variables:\n    z              (number, step, latitude, longitude) float32 49785.137 ... 49315.17\nAttributes:\n    GRIB_edition:            1\n    GRIB_centre:             ecmf\n    GRIB_centreDescription:  European Centre for Medium-Range Weather Forecasts\n    GRIB_subCentre:          0\n    Conventions:             CF-1.7\n    institution:             European Centre for Medium-Range Weather Forecasts\n    history:                 2019-12-16T10:24:41 GRIB to CDM+CF via cfgrib-0...."
       },
       "execution_count": 23,
       "metadata": {},
       "output_type": "execute_result"
      }
     ],
     "persistentId": "f7654388-6ccd-4528-a102-b867ad80282d",
     "text": "sub"
    },
    "executionTime": "2019-12-15T21:37:55.315Z"
   },
   {
    "cell": {
     "executionCount": 24,
     "executionEventId": "601d2ff3-55ab-4ff4-9aac-5c5d2174aa35",
     "hasError": false,
     "id": "225e4d04-c39b-43dd-bf7f-7fe2c8aa9a81",
     "outputs": [
      {
       "data": {
        "text/plain": "<xarray.DataArray 'step' (step: 5)>\narray([ 5097600000000000,  7776000000000000, 10368000000000000,\n       13046400000000000, 15638400000000000], dtype='timedelta64[ns]')\nCoordinates:\n    time           datetime64[ns] 1993-01-01\n  * step           (step) timedelta64[ns] 59 days 90 days ... 151 days 181 days\n    isobaricInhPa  int64 ...\n    valid_time     (step) datetime64[ns] ...\nAttributes:\n    long_name:      time since forecast_reference_time\n    standard_name:  forecast_period"
       },
       "execution_count": 24,
       "metadata": {},
       "output_type": "execute_result"
      }
     ],
     "persistentId": "f7654388-6ccd-4528-a102-b867ad80282d",
     "text": "sub.step"
    },
    "executionTime": "2019-12-15T21:37:58.745Z"
   },
   {
    "cell": {
     "executionCount": 25,
     "executionEventId": "38e5fcdf-8a38-4ebc-b527-587c3d3f484f",
     "hasError": false,
     "id": "3f90d276-41f1-4135-b613-7041eca3bb37",
     "outputs": [],
     "persistentId": "c817b6cb-bdce-4948-950c-f3e95fbca88c",
     "text": "sub = dset.isel(time=-1)"
    },
    "executionTime": "2019-12-15T21:38:23.059Z"
   },
   {
    "cell": {
     "executionCount": 26,
     "executionEventId": "91e2e0aa-ff60-4f0b-adfb-8866a4615a4a",
     "hasError": false,
     "id": "97c4e9ab-7a57-4cb7-bc68-c80ac2306c5d",
     "outputs": [
      {
       "data": {
        "text/plain": "<xarray.Dataset>\nDimensions:        (latitude: 181, longitude: 360, number: 25, step: 20)\nCoordinates:\n  * number         (number) int64 0 1 2 3 4 5 6 7 8 ... 17 18 19 20 21 22 23 24\n    time           datetime64[ns] 2016-12-01\n  * step           (step) timedelta64[ns] 59 days 60 days ... 183 days 184 days\n    isobaricInhPa  int64 ...\n  * latitude       (latitude) float64 90.0 89.0 88.0 87.0 ... -88.0 -89.0 -90.0\n  * longitude      (longitude) float64 0.0 1.0 2.0 3.0 ... 357.0 358.0 359.0\n    valid_time     (step) datetime64[ns] ...\nData variables:\n    z              (number, step, latitude, longitude) float32 nan nan ... nan\nAttributes:\n    GRIB_edition:            1\n    GRIB_centre:             ecmf\n    GRIB_centreDescription:  European Centre for Medium-Range Weather Forecasts\n    GRIB_subCentre:          0\n    Conventions:             CF-1.7\n    institution:             European Centre for Medium-Range Weather Forecasts\n    history:                 2019-12-16T10:24:41 GRIB to CDM+CF via cfgrib-0...."
       },
       "execution_count": 26,
       "metadata": {},
       "output_type": "execute_result"
      }
     ],
     "persistentId": "40fb7006-95cb-4ccb-83af-cbd313c3578a",
     "text": "sub"
    },
    "executionTime": "2019-12-15T21:38:23.550Z"
   },
   {
    "cell": {
     "executionCount": 27,
     "executionEventId": "5cd7c939-5cb5-46cb-af5c-f17ac182b698",
     "hasError": false,
     "id": "2d75a44f-716b-4d54-b582-3fdff4145f95",
     "outputs": [],
     "persistentId": "803f720c-4894-442b-b867-f73e50de5fb9",
     "text": "sub = sub.dropna(dim='step', how='all')"
    },
    "executionTime": "2019-12-15T21:38:24.012Z"
   },
   {
    "cell": {
     "executionCount": 28,
     "executionEventId": "22dbc44e-f5e9-4ced-9419-d51a7dbdd81a",
     "hasError": false,
     "id": "225e4d04-c39b-43dd-bf7f-7fe2c8aa9a81",
     "outputs": [
      {
       "data": {
        "text/plain": "<xarray.DataArray 'step' (step: 5)>\narray([ 5356800000000000,  7776000000000000, 10454400000000000,\n       13046400000000000, 15724800000000000], dtype='timedelta64[ns]')\nCoordinates:\n    time           datetime64[ns] 2016-12-01\n  * step           (step) timedelta64[ns] 62 days 90 days ... 151 days 182 days\n    isobaricInhPa  int64 ...\n    valid_time     (step) datetime64[ns] ...\nAttributes:\n    long_name:      time since forecast_reference_time\n    standard_name:  forecast_period"
       },
       "execution_count": 28,
       "metadata": {},
       "output_type": "execute_result"
      }
     ],
     "persistentId": "f7654388-6ccd-4528-a102-b867ad80282d",
     "text": "sub.step"
    },
    "executionTime": "2019-12-15T21:38:28.964Z"
   },
   {
    "cell": {
     "executionCount": 29,
     "executionEventId": "99958feb-91ea-46ed-b16d-7502ff10fcdd",
     "hasError": false,
     "id": "a906ddb1-99ab-4d71-8e00-43b41639b88f",
     "outputs": [
      {
       "data": {
        "text/plain": "<xarray.core.accessor_dt.DatetimeAccessor at 0x7f7203f55a10>"
       },
       "execution_count": 29,
       "metadata": {},
       "output_type": "execute_result"
      }
     ],
     "persistentId": "4ce511fe-aef8-4bf1-8cc5-f9f9371aa1c2",
     "text": "dset.time.dt"
    },
    "executionTime": "2019-12-15T21:39:09.262Z"
   },
   {
    "cell": {
     "executionCount": 30,
     "executionEventId": "02be70ea-d245-4b04-aa7b-a6139161e0a4",
     "hasError": true,
     "id": "a906ddb1-99ab-4d71-8e00-43b41639b88f",
     "outputs": [
      {
       "ename": "AttributeError",
       "evalue": "'DatetimeAccessor' object has no attribute 'data'",
       "output_type": "error",
       "traceback": [
        "\u001b[0;31m---------------------------------------------------------------------------\u001b[0m",
        "\u001b[0;31mAttributeError\u001b[0m                            Traceback (most recent call last)",
        "\u001b[0;32m<ipython-input-30-5110261e5cd8>\u001b[0m in \u001b[0;36m<module>\u001b[0;34m\u001b[0m\n\u001b[0;32m----> 1\u001b[0;31m \u001b[0mdset\u001b[0m\u001b[0;34m.\u001b[0m\u001b[0mtime\u001b[0m\u001b[0;34m.\u001b[0m\u001b[0mdt\u001b[0m\u001b[0;34m.\u001b[0m\u001b[0mdata\u001b[0m\u001b[0;34m\u001b[0m\u001b[0;34m\u001b[0m\u001b[0m\n\u001b[0m",
        "\u001b[0;31mAttributeError\u001b[0m: 'DatetimeAccessor' object has no attribute 'data'"
       ]
      }
     ],
     "persistentId": "4ce511fe-aef8-4bf1-8cc5-f9f9371aa1c2",
     "text": "dset.time.dt.data"
    },
    "executionTime": "2019-12-15T21:39:11.997Z"
   },
   {
    "cell": {
     "executionCount": 31,
     "executionEventId": "6a6733f6-e411-4514-bedd-2d989ba3c4b7",
     "hasError": false,
     "id": "a906ddb1-99ab-4d71-8e00-43b41639b88f",
     "outputs": [
      {
       "data": {
        "text/plain": "<xarray.DataArray 'year' (time: 288)>\narray([1993, 1993, 1993, 1993, 1993, 1993, 1993, 1993, 1993, 1993, 1993,\n       1993, 1994, 1994, 1994, 1994, 1994, 1994, 1994, 1994, 1994, 1994,\n       1994, 1994, 1995, 1995, 1995, 1995, 1995, 1995, 1995, 1995, 1995,\n       1995, 1995, 1995, 1996, 1996, 1996, 1996, 1996, 1996, 1996, 1996,\n       1996, 1996, 1996, 1996, 1997, 1997, 1997, 1997, 1997, 1997, 1997,\n       1997, 1997, 1997, 1997, 1997, 1998, 1998, 1998, 1998, 1998, 1998,\n       1998, 1998, 1998, 1998, 1998, 1998, 1999, 1999, 1999, 1999, 1999,\n       1999, 1999, 1999, 1999, 1999, 1999, 1999, 2000, 2000, 2000, 2000,\n       2000, 2000, 2000, 2000, 2000, 2000, 2000, 2000, 2001, 2001, 2001,\n       2001, 2001, 2001, 2001, 2001, 2001, 2001, 2001, 2001, 2002, 2002,\n       2002, 2002, 2002, 2002, 2002, 2002, 2002, 2002, 2002, 2002, 2003,\n       2003, 2003, 2003, 2003, 2003, 2003, 2003, 2003, 2003, 2003, 2003,\n       2004, 2004, 2004, 2004, 2004, 2004, 2004, 2004, 2004, 2004, 2004,\n       2004, 2005, 2005, 2005, 2005, 2005, 2005, 2005, 2005, 2005, 2005,\n       2005, 2005, 2006, 2006, 2006, 2006, 2006, 2006, 2006, 2006, 2006,\n       2006, 2006, 2006, 2007, 2007, 2007, 2007, 2007, 2007, 2007, 2007,\n       2007, 2007, 2007, 2007, 2008, 2008, 2008, 2008, 2008, 2008, 2008,\n       2008, 2008, 2008, 2008, 2008, 2009, 2009, 2009, 2009, 2009, 2009,\n       2009, 2009, 2009, 2009, 2009, 2009, 2010, 2010, 2010, 2010, 2010,\n       2010, 2010, 2010, 2010, 2010, 2010, 2010, 2011, 2011, 2011, 2011,\n       2011, 2011, 2011, 2011, 2011, 2011, 2011, 2011, 2012, 2012, 2012,\n       2012, 2012, 2012, 2012, 2012, 2012, 2012, 2012, 2012, 2013, 2013,\n       2013, 2013, 2013, 2013, 2013, 2013, 2013, 2013, 2013, 2013, 2014,\n       2014, 2014, 2014, 2014, 2014, 2014, 2014, 2014, 2014, 2014, 2014,\n       2015, 2015, 2015, 2015, 2015, 2015, 2015, 2015, 2015, 2015, 2015,\n       2015, 2016, 2016, 2016, 2016, 2016, 2016, 2016, 2016, 2016, 2016,\n       2016, 2016])\nCoordinates:\n  * time           (time) datetime64[ns] 1993-01-01 1993-02-01 ... 2016-12-01\n    isobaricInhPa  int64 ..."
       },
       "execution_count": 31,
       "metadata": {},
       "output_type": "execute_result"
      }
     ],
     "persistentId": "4ce511fe-aef8-4bf1-8cc5-f9f9371aa1c2",
     "text": "dset.time.dt.year"
    },
    "executionTime": "2019-12-15T21:39:14.868Z"
   },
   {
    "cell": {
     "executionCount": 32,
     "executionEventId": "d0ba6cf9-bef0-4e39-9495-1dbef19598b2",
     "hasError": false,
     "id": "a906ddb1-99ab-4d71-8e00-43b41639b88f",
     "outputs": [],
     "persistentId": "4ce511fe-aef8-4bf1-8cc5-f9f9371aa1c2",
     "text": "t = dset.time[0]"
    },
    "executionTime": "2019-12-15T21:39:24.095Z"
   },
   {
    "cell": {
     "executionCount": 33,
     "executionEventId": "4b1207f8-f6b3-4a56-8c1d-4293819a6cc7",
     "hasError": false,
     "id": "272af8a7-8281-468a-8d5a-5a059599f721",
     "outputs": [
      {
       "data": {
        "text/plain": "<xarray.DataArray 'time' ()>\narray('1993-01-01T00:00:00.000000000', dtype='datetime64[ns]')\nCoordinates:\n    time           datetime64[ns] 1993-01-01\n    isobaricInhPa  int64 ...\nAttributes:\n    long_name:      initial time of forecast\n    standard_name:  forecast_reference_time"
       },
       "execution_count": 33,
       "metadata": {},
       "output_type": "execute_result"
      }
     ],
     "persistentId": "117808f5-18a2-4e97-97a4-d21b20412fe3",
     "text": "t"
    },
    "executionTime": "2019-12-15T21:39:26.007Z"
   },
   {
    "cell": {
     "executionCount": 34,
     "executionEventId": "10e8b600-ce18-4092-8805-c81183e80e8c",
     "hasError": false,
     "id": "272af8a7-8281-468a-8d5a-5a059599f721",
     "outputs": [
      {
       "data": {
        "text/plain": "<xarray.core.accessor_dt.DatetimeAccessor at 0x7f7201e09250>"
       },
       "execution_count": 34,
       "metadata": {},
       "output_type": "execute_result"
      }
     ],
     "persistentId": "117808f5-18a2-4e97-97a4-d21b20412fe3",
     "text": "t.dt"
    },
    "executionTime": "2019-12-15T21:39:29.435Z"
   },
   {
    "cell": {
     "executionCount": 35,
     "executionEventId": "cd035e75-f803-4043-b346-cd61726e3ce7",
     "hasError": false,
     "id": "272af8a7-8281-468a-8d5a-5a059599f721",
     "outputs": [
      {
       "data": {
        "text/plain": "<xarray.DataArray 'year' ()>\narray(1993)\nCoordinates:\n    time           datetime64[ns] 1993-01-01\n    isobaricInhPa  int64 ..."
       },
       "execution_count": 35,
       "metadata": {},
       "output_type": "execute_result"
      }
     ],
     "persistentId": "117808f5-18a2-4e97-97a4-d21b20412fe3",
     "text": "t.dt.year"
    },
    "executionTime": "2019-12-15T21:39:33.751Z"
   },
   {
    "cell": {
     "executionCount": 36,
     "executionEventId": "2d4e58af-546b-4d39-8da5-cd1614e81db0",
     "hasError": true,
     "id": "272af8a7-8281-468a-8d5a-5a059599f721",
     "outputs": [
      {
       "ename": "ValueError",
       "evalue": "no valid index for a 0-dimensional object",
       "output_type": "error",
       "traceback": [
        "\u001b[0;31m---------------------------------------------------------------------------\u001b[0m",
        "\u001b[0;31mValueError\u001b[0m                                Traceback (most recent call last)",
        "\u001b[0;32m<ipython-input-36-d7adedfbeecd>\u001b[0m in \u001b[0;36m<module>\u001b[0;34m\u001b[0m\n\u001b[0;32m----> 1\u001b[0;31m \u001b[0mt\u001b[0m\u001b[0;34m.\u001b[0m\u001b[0mto_series\u001b[0m\u001b[0;34m(\u001b[0m\u001b[0;34m)\u001b[0m\u001b[0;34m\u001b[0m\u001b[0;34m\u001b[0m\u001b[0m\n\u001b[0m",
        "\u001b[0;32m~/anaconda3/envs/pangeo/lib/python3.7/site-packages/xarray/core/dataarray.py\u001b[0m in \u001b[0;36mto_series\u001b[0;34m(self)\u001b[0m\n\u001b[1;32m   2216\u001b[0m         \u001b[0;34m(\u001b[0m\u001b[0;32min\u001b[0m \u001b[0mthe\u001b[0m \u001b[0mform\u001b[0m \u001b[0mof\u001b[0m \u001b[0ma\u001b[0m \u001b[0;34m:\u001b[0m\u001b[0mpy\u001b[0m\u001b[0;34m:\u001b[0m\u001b[0;32mclass\u001b[0m\u001b[0;34m:\u001b[0m\u001b[0;31m`\u001b[0m\u001b[0mpandas\u001b[0m\u001b[0;34m.\u001b[0m\u001b[0mMultiIndex\u001b[0m\u001b[0;31m`\u001b[0m\u001b[0;34m)\u001b[0m\u001b[0;34m.\u001b[0m\u001b[0;34m\u001b[0m\u001b[0;34m\u001b[0m\u001b[0m\n\u001b[1;32m   2217\u001b[0m         \"\"\"\n\u001b[0;32m-> 2218\u001b[0;31m         \u001b[0mindex\u001b[0m \u001b[0;34m=\u001b[0m \u001b[0mself\u001b[0m\u001b[0;34m.\u001b[0m\u001b[0mcoords\u001b[0m\u001b[0;34m.\u001b[0m\u001b[0mto_index\u001b[0m\u001b[0;34m(\u001b[0m\u001b[0;34m)\u001b[0m\u001b[0;34m\u001b[0m\u001b[0;34m\u001b[0m\u001b[0m\n\u001b[0m\u001b[1;32m   2219\u001b[0m         \u001b[0;32mreturn\u001b[0m \u001b[0mpd\u001b[0m\u001b[0;34m.\u001b[0m\u001b[0mSeries\u001b[0m\u001b[0;34m(\u001b[0m\u001b[0mself\u001b[0m\u001b[0;34m.\u001b[0m\u001b[0mvalues\u001b[0m\u001b[0;34m.\u001b[0m\u001b[0mreshape\u001b[0m\u001b[0;34m(\u001b[0m\u001b[0;34m-\u001b[0m\u001b[0;36m1\u001b[0m\u001b[0;34m)\u001b[0m\u001b[0;34m,\u001b[0m \u001b[0mindex\u001b[0m\u001b[0;34m=\u001b[0m\u001b[0mindex\u001b[0m\u001b[0;34m,\u001b[0m \u001b[0mname\u001b[0m\u001b[0;34m=\u001b[0m\u001b[0mself\u001b[0m\u001b[0;34m.\u001b[0m\u001b[0mname\u001b[0m\u001b[0;34m)\u001b[0m\u001b[0;34m\u001b[0m\u001b[0;34m\u001b[0m\u001b[0m\n\u001b[1;32m   2220\u001b[0m \u001b[0;34m\u001b[0m\u001b[0m\n",
        "\u001b[0;32m~/anaconda3/envs/pangeo/lib/python3.7/site-packages/xarray/core/coordinates.py\u001b[0m in \u001b[0;36mto_index\u001b[0;34m(self, ordered_dims)\u001b[0m\n\u001b[1;32m    102\u001b[0m \u001b[0;34m\u001b[0m\u001b[0m\n\u001b[1;32m    103\u001b[0m         \u001b[0;32mif\u001b[0m \u001b[0mlen\u001b[0m\u001b[0;34m(\u001b[0m\u001b[0mordered_dims\u001b[0m\u001b[0;34m)\u001b[0m \u001b[0;34m==\u001b[0m \u001b[0;36m0\u001b[0m\u001b[0;34m:\u001b[0m\u001b[0;34m\u001b[0m\u001b[0;34m\u001b[0m\u001b[0m\n\u001b[0;32m--> 104\u001b[0;31m             \u001b[0;32mraise\u001b[0m \u001b[0mValueError\u001b[0m\u001b[0;34m(\u001b[0m\u001b[0;34m\"no valid index for a 0-dimensional object\"\u001b[0m\u001b[0;34m)\u001b[0m\u001b[0;34m\u001b[0m\u001b[0;34m\u001b[0m\u001b[0m\n\u001b[0m\u001b[1;32m    105\u001b[0m         \u001b[0;32melif\u001b[0m \u001b[0mlen\u001b[0m\u001b[0;34m(\u001b[0m\u001b[0mordered_dims\u001b[0m\u001b[0;34m)\u001b[0m \u001b[0;34m==\u001b[0m \u001b[0;36m1\u001b[0m\u001b[0;34m:\u001b[0m\u001b[0;34m\u001b[0m\u001b[0;34m\u001b[0m\u001b[0m\n\u001b[1;32m    106\u001b[0m             \u001b[0;34m(\u001b[0m\u001b[0mdim\u001b[0m\u001b[0;34m,\u001b[0m\u001b[0;34m)\u001b[0m \u001b[0;34m=\u001b[0m \u001b[0mordered_dims\u001b[0m\u001b[0;34m\u001b[0m\u001b[0;34m\u001b[0m\u001b[0m\n",
        "\u001b[0;31mValueError\u001b[0m: no valid index for a 0-dimensional object"
       ]
      }
     ],
     "persistentId": "117808f5-18a2-4e97-97a4-d21b20412fe3",
     "text": "t.to_series()"
    },
    "executionTime": "2019-12-15T21:39:44.726Z"
   },
   {
    "cell": {
     "executionCount": 37,
     "executionEventId": "6aad58f0-452a-4c01-96b4-3e0a6632e124",
     "hasError": false,
     "id": "272af8a7-8281-468a-8d5a-5a059599f721",
     "outputs": [],
     "persistentId": "117808f5-18a2-4e97-97a4-d21b20412fe3",
     "text": "import pandas as pd"
    },
    "executionTime": "2019-12-15T21:39:54.279Z"
   },
   {
    "cell": {
     "executionCount": 38,
     "executionEventId": "bd570e82-4ce5-4edd-ba4e-fdb8b6f0c81a",
     "hasError": true,
     "id": "82200079-a672-436a-9e8c-5f09054b534a",
     "outputs": [
      {
       "ename": "TypeError",
       "evalue": "len() of unsized object",
       "output_type": "error",
       "traceback": [
        "\u001b[0;31m---------------------------------------------------------------------------\u001b[0m",
        "\u001b[0;31mIndexError\u001b[0m                                Traceback (most recent call last)",
        "\u001b[0;32m~/anaconda3/envs/pangeo/lib/python3.7/site-packages/xarray/core/utils.py\u001b[0m in \u001b[0;36m__len__\u001b[0;34m(self)\u001b[0m\n\u001b[1;32m    499\u001b[0m         \u001b[0;32mtry\u001b[0m\u001b[0;34m:\u001b[0m\u001b[0;34m\u001b[0m\u001b[0;34m\u001b[0m\u001b[0m\n\u001b[0;32m--> 500\u001b[0;31m             \u001b[0;32mreturn\u001b[0m \u001b[0mself\u001b[0m\u001b[0;34m.\u001b[0m\u001b[0mshape\u001b[0m\u001b[0;34m[\u001b[0m\u001b[0;36m0\u001b[0m\u001b[0;34m]\u001b[0m\u001b[0;34m\u001b[0m\u001b[0;34m\u001b[0m\u001b[0m\n\u001b[0m\u001b[1;32m    501\u001b[0m         \u001b[0;32mexcept\u001b[0m \u001b[0mIndexError\u001b[0m\u001b[0;34m:\u001b[0m\u001b[0;34m\u001b[0m\u001b[0;34m\u001b[0m\u001b[0m\n",
        "\u001b[0;31mIndexError\u001b[0m: tuple index out of range",
        "\nDuring handling of the above exception, another exception occurred:\n",
        "\u001b[0;31mTypeError\u001b[0m                                 Traceback (most recent call last)",
        "\u001b[0;32m<ipython-input-38-d6761d0c1853>\u001b[0m in \u001b[0;36m<module>\u001b[0;34m\u001b[0m\n\u001b[0;32m----> 1\u001b[0;31m \u001b[0mpd\u001b[0m\u001b[0;34m.\u001b[0m\u001b[0mto_datetime\u001b[0m\u001b[0;34m(\u001b[0m\u001b[0mt\u001b[0m\u001b[0;34m)\u001b[0m\u001b[0;34m\u001b[0m\u001b[0;34m\u001b[0m\u001b[0m\n\u001b[0m",
        "\u001b[0;32m~/anaconda3/envs/pangeo/lib/python3.7/site-packages/pandas/util/_decorators.py\u001b[0m in \u001b[0;36mwrapper\u001b[0;34m(*args, **kwargs)\u001b[0m\n\u001b[1;32m    206\u001b[0m                 \u001b[0;32melse\u001b[0m\u001b[0;34m:\u001b[0m\u001b[0;34m\u001b[0m\u001b[0;34m\u001b[0m\u001b[0m\n\u001b[1;32m    207\u001b[0m                     \u001b[0mkwargs\u001b[0m\u001b[0;34m[\u001b[0m\u001b[0mnew_arg_name\u001b[0m\u001b[0;34m]\u001b[0m \u001b[0;34m=\u001b[0m \u001b[0mnew_arg_value\u001b[0m\u001b[0;34m\u001b[0m\u001b[0;34m\u001b[0m\u001b[0m\n\u001b[0;32m--> 208\u001b[0;31m             \u001b[0;32mreturn\u001b[0m \u001b[0mfunc\u001b[0m\u001b[0;34m(\u001b[0m\u001b[0;34m*\u001b[0m\u001b[0margs\u001b[0m\u001b[0;34m,\u001b[0m \u001b[0;34m**\u001b[0m\u001b[0mkwargs\u001b[0m\u001b[0;34m)\u001b[0m\u001b[0;34m\u001b[0m\u001b[0;34m\u001b[0m\u001b[0m\n\u001b[0m\u001b[1;32m    209\u001b[0m \u001b[0;34m\u001b[0m\u001b[0m\n\u001b[1;32m    210\u001b[0m         \u001b[0;32mreturn\u001b[0m \u001b[0mwrapper\u001b[0m\u001b[0;34m\u001b[0m\u001b[0;34m\u001b[0m\u001b[0m\n",
        "\u001b[0;32m~/anaconda3/envs/pangeo/lib/python3.7/site-packages/pandas/core/tools/datetimes.py\u001b[0m in \u001b[0;36mto_datetime\u001b[0;34m(arg, errors, dayfirst, yearfirst, utc, box, format, exact, unit, infer_datetime_format, origin, cache)\u001b[0m\n\u001b[1;32m    788\u001b[0m             \u001b[0mresult\u001b[0m \u001b[0;34m=\u001b[0m \u001b[0mconvert_listlike\u001b[0m\u001b[0;34m(\u001b[0m\u001b[0marg\u001b[0m\u001b[0;34m,\u001b[0m \u001b[0mbox\u001b[0m\u001b[0;34m,\u001b[0m \u001b[0mformat\u001b[0m\u001b[0;34m)\u001b[0m\u001b[0;34m\u001b[0m\u001b[0;34m\u001b[0m\u001b[0m\n\u001b[1;32m    789\u001b[0m     \u001b[0;32melif\u001b[0m \u001b[0mis_list_like\u001b[0m\u001b[0;34m(\u001b[0m\u001b[0marg\u001b[0m\u001b[0;34m)\u001b[0m\u001b[0;34m:\u001b[0m\u001b[0;34m\u001b[0m\u001b[0;34m\u001b[0m\u001b[0m\n\u001b[0;32m--> 790\u001b[0;31m         \u001b[0mcache_array\u001b[0m \u001b[0;34m=\u001b[0m \u001b[0m_maybe_cache\u001b[0m\u001b[0;34m(\u001b[0m\u001b[0marg\u001b[0m\u001b[0;34m,\u001b[0m \u001b[0mformat\u001b[0m\u001b[0;34m,\u001b[0m \u001b[0mcache\u001b[0m\u001b[0;34m,\u001b[0m \u001b[0mconvert_listlike\u001b[0m\u001b[0;34m)\u001b[0m\u001b[0;34m\u001b[0m\u001b[0;34m\u001b[0m\u001b[0m\n\u001b[0m\u001b[1;32m    791\u001b[0m         \u001b[0;32mif\u001b[0m \u001b[0;32mnot\u001b[0m \u001b[0mcache_array\u001b[0m\u001b[0;34m.\u001b[0m\u001b[0mempty\u001b[0m\u001b[0;34m:\u001b[0m\u001b[0;34m\u001b[0m\u001b[0;34m\u001b[0m\u001b[0m\n\u001b[1;32m    792\u001b[0m             \u001b[0mresult\u001b[0m \u001b[0;34m=\u001b[0m \u001b[0m_convert_and_box_cache\u001b[0m\u001b[0;34m(\u001b[0m\u001b[0marg\u001b[0m\u001b[0;34m,\u001b[0m \u001b[0mcache_array\u001b[0m\u001b[0;34m,\u001b[0m \u001b[0mbox\u001b[0m\u001b[0;34m)\u001b[0m\u001b[0;34m\u001b[0m\u001b[0;34m\u001b[0m\u001b[0m\n",
        "\u001b[0;32m~/anaconda3/envs/pangeo/lib/python3.7/site-packages/pandas/core/tools/datetimes.py\u001b[0m in \u001b[0;36m_maybe_cache\u001b[0;34m(arg, format, cache, convert_listlike)\u001b[0m\n\u001b[1;32m    149\u001b[0m     \u001b[0;32mif\u001b[0m \u001b[0mcache\u001b[0m\u001b[0;34m:\u001b[0m\u001b[0;34m\u001b[0m\u001b[0;34m\u001b[0m\u001b[0m\n\u001b[1;32m    150\u001b[0m         \u001b[0;31m# Perform a quicker unique check\u001b[0m\u001b[0;34m\u001b[0m\u001b[0;34m\u001b[0m\u001b[0;34m\u001b[0m\u001b[0m\n\u001b[0;32m--> 151\u001b[0;31m         \u001b[0;32mif\u001b[0m \u001b[0;32mnot\u001b[0m \u001b[0mshould_cache\u001b[0m\u001b[0;34m(\u001b[0m\u001b[0marg\u001b[0m\u001b[0;34m)\u001b[0m\u001b[0;34m:\u001b[0m\u001b[0;34m\u001b[0m\u001b[0;34m\u001b[0m\u001b[0m\n\u001b[0m\u001b[1;32m    152\u001b[0m             \u001b[0;32mreturn\u001b[0m \u001b[0mcache_array\u001b[0m\u001b[0;34m\u001b[0m\u001b[0;34m\u001b[0m\u001b[0m\n\u001b[1;32m    153\u001b[0m \u001b[0;34m\u001b[0m\u001b[0m\n",
        "\u001b[0;32m~/anaconda3/envs/pangeo/lib/python3.7/site-packages/pandas/core/tools/datetimes.py\u001b[0m in \u001b[0;36mshould_cache\u001b[0;34m(arg, unique_share, check_count)\u001b[0m\n\u001b[1;32m    103\u001b[0m     \u001b[0;32mif\u001b[0m \u001b[0mcheck_count\u001b[0m \u001b[0;32mis\u001b[0m \u001b[0;32mNone\u001b[0m\u001b[0;34m:\u001b[0m\u001b[0;34m\u001b[0m\u001b[0;34m\u001b[0m\u001b[0m\n\u001b[1;32m    104\u001b[0m         \u001b[0;31m# in this case, the gain from caching is negligible\u001b[0m\u001b[0;34m\u001b[0m\u001b[0;34m\u001b[0m\u001b[0;34m\u001b[0m\u001b[0m\n\u001b[0;32m--> 105\u001b[0;31m         \u001b[0;32mif\u001b[0m \u001b[0mlen\u001b[0m\u001b[0;34m(\u001b[0m\u001b[0marg\u001b[0m\u001b[0;34m)\u001b[0m \u001b[0;34m<=\u001b[0m \u001b[0;36m50\u001b[0m\u001b[0;34m:\u001b[0m\u001b[0;34m\u001b[0m\u001b[0;34m\u001b[0m\u001b[0m\n\u001b[0m\u001b[1;32m    106\u001b[0m             \u001b[0;32mreturn\u001b[0m \u001b[0;32mFalse\u001b[0m\u001b[0;34m\u001b[0m\u001b[0;34m\u001b[0m\u001b[0m\n\u001b[1;32m    107\u001b[0m \u001b[0;34m\u001b[0m\u001b[0m\n",
        "\u001b[0;32m~/anaconda3/envs/pangeo/lib/python3.7/site-packages/xarray/core/dataarray.py\u001b[0m in \u001b[0;36m__len__\u001b[0;34m(self)\u001b[0m\n\u001b[1;32m    551\u001b[0m \u001b[0;34m\u001b[0m\u001b[0m\n\u001b[1;32m    552\u001b[0m     \u001b[0;32mdef\u001b[0m \u001b[0m__len__\u001b[0m\u001b[0;34m(\u001b[0m\u001b[0mself\u001b[0m\u001b[0;34m)\u001b[0m \u001b[0;34m->\u001b[0m \u001b[0mint\u001b[0m\u001b[0;34m:\u001b[0m\u001b[0;34m\u001b[0m\u001b[0;34m\u001b[0m\u001b[0m\n\u001b[0;32m--> 553\u001b[0;31m         \u001b[0;32mreturn\u001b[0m \u001b[0mlen\u001b[0m\u001b[0;34m(\u001b[0m\u001b[0mself\u001b[0m\u001b[0;34m.\u001b[0m\u001b[0mvariable\u001b[0m\u001b[0;34m)\u001b[0m\u001b[0;34m\u001b[0m\u001b[0;34m\u001b[0m\u001b[0m\n\u001b[0m\u001b[1;32m    554\u001b[0m \u001b[0;34m\u001b[0m\u001b[0m\n\u001b[1;32m    555\u001b[0m     \u001b[0;34m@\u001b[0m\u001b[0mproperty\u001b[0m\u001b[0;34m\u001b[0m\u001b[0;34m\u001b[0m\u001b[0m\n",
        "\u001b[0;32m~/anaconda3/envs/pangeo/lib/python3.7/site-packages/xarray/core/utils.py\u001b[0m in \u001b[0;36m__len__\u001b[0;34m(self)\u001b[0m\n\u001b[1;32m    500\u001b[0m             \u001b[0;32mreturn\u001b[0m \u001b[0mself\u001b[0m\u001b[0;34m.\u001b[0m\u001b[0mshape\u001b[0m\u001b[0;34m[\u001b[0m\u001b[0;36m0\u001b[0m\u001b[0;34m]\u001b[0m\u001b[0;34m\u001b[0m\u001b[0;34m\u001b[0m\u001b[0m\n\u001b[1;32m    501\u001b[0m         \u001b[0;32mexcept\u001b[0m \u001b[0mIndexError\u001b[0m\u001b[0;34m:\u001b[0m\u001b[0;34m\u001b[0m\u001b[0;34m\u001b[0m\u001b[0m\n\u001b[0;32m--> 502\u001b[0;31m             \u001b[0;32mraise\u001b[0m \u001b[0mTypeError\u001b[0m\u001b[0;34m(\u001b[0m\u001b[0;34m\"len() of unsized object\"\u001b[0m\u001b[0;34m)\u001b[0m\u001b[0;34m\u001b[0m\u001b[0;34m\u001b[0m\u001b[0m\n\u001b[0m\u001b[1;32m    503\u001b[0m \u001b[0;34m\u001b[0m\u001b[0m\n\u001b[1;32m    504\u001b[0m \u001b[0;34m\u001b[0m\u001b[0m\n",
        "\u001b[0;31mTypeError\u001b[0m: len() of unsized object"
       ]
      }
     ],
     "persistentId": "8190b6ee-8b97-4814-b951-73b8bd6e6227",
     "text": "pd.to_datetime(t)"
    },
    "executionTime": "2019-12-15T21:39:58.930Z"
   },
   {
    "cell": {
     "executionCount": 39,
     "executionEventId": "14fab4b2-1b25-4796-82d2-5d3501c97fcf",
     "hasError": false,
     "id": "82200079-a672-436a-9e8c-5f09054b534a",
     "outputs": [
      {
       "data": {
        "text/plain": "<xarray.DataArray 'time' ()>\narray('1993-01-01T00:00:00.000000000', dtype='datetime64[ns]')\nCoordinates:\n    time           datetime64[ns] 1993-01-01\n    isobaricInhPa  int64 ...\nAttributes:\n    long_name:      initial time of forecast\n    standard_name:  forecast_reference_time"
       },
       "execution_count": 39,
       "metadata": {},
       "output_type": "execute_result"
      }
     ],
     "persistentId": "8190b6ee-8b97-4814-b951-73b8bd6e6227",
     "text": "t"
    },
    "executionTime": "2019-12-15T21:40:04.953Z"
   },
   {
    "cell": {
     "executionCount": 40,
     "executionEventId": "789c7b58-ee79-491b-86b3-d3f0333f179a",
     "hasError": true,
     "id": "82200079-a672-436a-9e8c-5f09054b534a",
     "outputs": [
      {
       "ename": "IndexError",
       "evalue": "too many indices",
       "output_type": "error",
       "traceback": [
        "\u001b[0;31m---------------------------------------------------------------------------\u001b[0m",
        "\u001b[0;31mIndexError\u001b[0m                                Traceback (most recent call last)",
        "\u001b[0;32m<ipython-input-40-a471f56f22a6>\u001b[0m in \u001b[0;36m<module>\u001b[0;34m\u001b[0m\n\u001b[0;32m----> 1\u001b[0;31m \u001b[0mt\u001b[0m\u001b[0;34m[\u001b[0m\u001b[0;36m0\u001b[0m\u001b[0;34m]\u001b[0m\u001b[0;34m\u001b[0m\u001b[0;34m\u001b[0m\u001b[0m\n\u001b[0m",
        "\u001b[0;32m~/anaconda3/envs/pangeo/lib/python3.7/site-packages/xarray/core/dataarray.py\u001b[0m in \u001b[0;36m__getitem__\u001b[0;34m(self, key)\u001b[0m\n\u001b[1;32m    639\u001b[0m         \u001b[0;32melse\u001b[0m\u001b[0;34m:\u001b[0m\u001b[0;34m\u001b[0m\u001b[0;34m\u001b[0m\u001b[0m\n\u001b[1;32m    640\u001b[0m             \u001b[0;31m# xarray-style array indexing\u001b[0m\u001b[0;34m\u001b[0m\u001b[0;34m\u001b[0m\u001b[0;34m\u001b[0m\u001b[0m\n\u001b[0;32m--> 641\u001b[0;31m             \u001b[0;32mreturn\u001b[0m \u001b[0mself\u001b[0m\u001b[0;34m.\u001b[0m\u001b[0misel\u001b[0m\u001b[0;34m(\u001b[0m\u001b[0mindexers\u001b[0m\u001b[0;34m=\u001b[0m\u001b[0mself\u001b[0m\u001b[0;34m.\u001b[0m\u001b[0m_item_key_to_dict\u001b[0m\u001b[0;34m(\u001b[0m\u001b[0mkey\u001b[0m\u001b[0;34m)\u001b[0m\u001b[0;34m)\u001b[0m\u001b[0;34m\u001b[0m\u001b[0;34m\u001b[0m\u001b[0m\n\u001b[0m\u001b[1;32m    642\u001b[0m \u001b[0;34m\u001b[0m\u001b[0m\n\u001b[1;32m    643\u001b[0m     \u001b[0;32mdef\u001b[0m \u001b[0m__setitem__\u001b[0m\u001b[0;34m(\u001b[0m\u001b[0mself\u001b[0m\u001b[0;34m,\u001b[0m \u001b[0mkey\u001b[0m\u001b[0;34m:\u001b[0m \u001b[0mAny\u001b[0m\u001b[0;34m,\u001b[0m \u001b[0mvalue\u001b[0m\u001b[0;34m:\u001b[0m \u001b[0mAny\u001b[0m\u001b[0;34m)\u001b[0m \u001b[0;34m->\u001b[0m \u001b[0;32mNone\u001b[0m\u001b[0;34m:\u001b[0m\u001b[0;34m\u001b[0m\u001b[0;34m\u001b[0m\u001b[0m\n",
        "\u001b[0;32m~/anaconda3/envs/pangeo/lib/python3.7/site-packages/xarray/core/dataarray.py\u001b[0m in \u001b[0;36m_item_key_to_dict\u001b[0;34m(self, key)\u001b[0m\n\u001b[1;32m    603\u001b[0m             \u001b[0;32mreturn\u001b[0m \u001b[0mkey\u001b[0m\u001b[0;34m\u001b[0m\u001b[0;34m\u001b[0m\u001b[0m\n\u001b[1;32m    604\u001b[0m         \u001b[0;32melse\u001b[0m\u001b[0;34m:\u001b[0m\u001b[0;34m\u001b[0m\u001b[0;34m\u001b[0m\u001b[0m\n\u001b[0;32m--> 605\u001b[0;31m             \u001b[0mkey\u001b[0m \u001b[0;34m=\u001b[0m \u001b[0mindexing\u001b[0m\u001b[0;34m.\u001b[0m\u001b[0mexpanded_indexer\u001b[0m\u001b[0;34m(\u001b[0m\u001b[0mkey\u001b[0m\u001b[0;34m,\u001b[0m \u001b[0mself\u001b[0m\u001b[0;34m.\u001b[0m\u001b[0mndim\u001b[0m\u001b[0;34m)\u001b[0m\u001b[0;34m\u001b[0m\u001b[0;34m\u001b[0m\u001b[0m\n\u001b[0m\u001b[1;32m    606\u001b[0m             \u001b[0;32mreturn\u001b[0m \u001b[0mdict\u001b[0m\u001b[0;34m(\u001b[0m\u001b[0mzip\u001b[0m\u001b[0;34m(\u001b[0m\u001b[0mself\u001b[0m\u001b[0;34m.\u001b[0m\u001b[0mdims\u001b[0m\u001b[0;34m,\u001b[0m \u001b[0mkey\u001b[0m\u001b[0;34m)\u001b[0m\u001b[0;34m)\u001b[0m\u001b[0;34m\u001b[0m\u001b[0;34m\u001b[0m\u001b[0m\n\u001b[1;32m    607\u001b[0m \u001b[0;34m\u001b[0m\u001b[0m\n",
        "\u001b[0;32m~/anaconda3/envs/pangeo/lib/python3.7/site-packages/xarray/core/indexing.py\u001b[0m in \u001b[0;36mexpanded_indexer\u001b[0;34m(key, ndim)\u001b[0m\n\u001b[1;32m     41\u001b[0m             \u001b[0mnew_key\u001b[0m\u001b[0;34m.\u001b[0m\u001b[0mappend\u001b[0m\u001b[0;34m(\u001b[0m\u001b[0mk\u001b[0m\u001b[0;34m)\u001b[0m\u001b[0;34m\u001b[0m\u001b[0;34m\u001b[0m\u001b[0m\n\u001b[1;32m     42\u001b[0m     \u001b[0;32mif\u001b[0m \u001b[0mlen\u001b[0m\u001b[0;34m(\u001b[0m\u001b[0mnew_key\u001b[0m\u001b[0;34m)\u001b[0m \u001b[0;34m>\u001b[0m \u001b[0mndim\u001b[0m\u001b[0;34m:\u001b[0m\u001b[0;34m\u001b[0m\u001b[0;34m\u001b[0m\u001b[0m\n\u001b[0;32m---> 43\u001b[0;31m         \u001b[0;32mraise\u001b[0m \u001b[0mIndexError\u001b[0m\u001b[0;34m(\u001b[0m\u001b[0;34m\"too many indices\"\u001b[0m\u001b[0;34m)\u001b[0m\u001b[0;34m\u001b[0m\u001b[0;34m\u001b[0m\u001b[0m\n\u001b[0m\u001b[1;32m     44\u001b[0m     \u001b[0mnew_key\u001b[0m\u001b[0;34m.\u001b[0m\u001b[0mextend\u001b[0m\u001b[0;34m(\u001b[0m\u001b[0;34m(\u001b[0m\u001b[0mndim\u001b[0m \u001b[0;34m-\u001b[0m \u001b[0mlen\u001b[0m\u001b[0;34m(\u001b[0m\u001b[0mnew_key\u001b[0m\u001b[0;34m)\u001b[0m\u001b[0;34m)\u001b[0m \u001b[0;34m*\u001b[0m \u001b[0;34m[\u001b[0m\u001b[0mslice\u001b[0m\u001b[0;34m(\u001b[0m\u001b[0;32mNone\u001b[0m\u001b[0;34m)\u001b[0m\u001b[0;34m]\u001b[0m\u001b[0;34m)\u001b[0m\u001b[0;34m\u001b[0m\u001b[0;34m\u001b[0m\u001b[0m\n\u001b[1;32m     45\u001b[0m     \u001b[0;32mreturn\u001b[0m \u001b[0mtuple\u001b[0m\u001b[0;34m(\u001b[0m\u001b[0mnew_key\u001b[0m\u001b[0;34m)\u001b[0m\u001b[0;34m\u001b[0m\u001b[0;34m\u001b[0m\u001b[0m\n",
        "\u001b[0;31mIndexError\u001b[0m: too many indices"
       ]
      }
     ],
     "persistentId": "8190b6ee-8b97-4814-b951-73b8bd6e6227",
     "text": "t[0]"
    },
    "executionTime": "2019-12-15T21:40:07.592Z"
   },
   {
    "cell": {
     "executionCount": 41,
     "executionEventId": "4ccbd934-1378-4450-98b1-3ca766951aaf",
     "hasError": false,
     "id": "82200079-a672-436a-9e8c-5f09054b534a",
     "outputs": [
      {
       "data": {
        "text/plain": "array('1993-01-01T00:00:00.000000000', dtype='datetime64[ns]')"
       },
       "execution_count": 41,
       "metadata": {},
       "output_type": "execute_result"
      }
     ],
     "persistentId": "8190b6ee-8b97-4814-b951-73b8bd6e6227",
     "text": "t.data"
    },
    "executionTime": "2019-12-15T21:40:10.662Z"
   },
   {
    "cell": {
     "executionCount": 42,
     "executionEventId": "e1fb5a28-c831-4c0c-9992-6dfe9707ce6f",
     "hasError": false,
     "id": "82200079-a672-436a-9e8c-5f09054b534a",
     "outputs": [
      {
       "data": {
        "text/plain": "Timestamp('1993-01-01 00:00:00')"
       },
       "execution_count": 42,
       "metadata": {},
       "output_type": "execute_result"
      }
     ],
     "persistentId": "8190b6ee-8b97-4814-b951-73b8bd6e6227",
     "text": "pd.to_datetime(t.data)"
    },
    "executionTime": "2019-12-15T21:40:19.076Z"
   },
   {
    "cell": {
     "executionCount": 43,
     "executionEventId": "cfaf3fd0-7da6-47b2-91a5-2714cec79b3c",
     "hasError": false,
     "id": "ca5f5758-101a-452c-86f5-013b9cf439d3",
     "outputs": [],
     "persistentId": "3052e537-b7af-4235-80cb-24fe1a737849",
     "text": "import numpy as np\nimport pandas as pd\nimport xarray as xr"
    },
    "executionTime": "2019-12-15T21:41:59.746Z"
   },
   {
    "cell": {
     "executionCount": 44,
     "executionEventId": "7c3712dc-0e2f-4d20-b1b9-539c9f2c0df6",
     "hasError": false,
     "id": "a547dae8-4d09-4330-a35e-21228ab840ac",
     "outputs": [],
     "persistentId": "d8b0453b-1c62-4694-b7fe-3bec177ab342",
     "text": "d = []"
    },
    "executionTime": "2019-12-15T21:42:41.897Z"
   },
   {
    "cell": {
     "executionCount": 45,
     "executionEventId": "08cad055-4035-4c7e-87f2-5dc1ed838ed6",
     "hasError": false,
     "id": "5e22de20-e67a-495e-9c4f-38580f0db1f7",
     "outputs": [],
     "persistentId": "766e357a-1cf4-4245-8610-f69a6f06953f",
     "text": "for t in dset.time: \n    sub = dset.sel(time=t)\n    sub = sub.dropna(dim='step', how='all')\n    if len(sub.step) != 5: \n        print(\"issue with time {:%Y-%m}\".format(pd.to_datetime(t.data)))\n        pass \n    else: \n        sub['step'] = (('step'), np.arange(1, 6))\n        d.append(sub)"
    },
    "executionTime": "2019-12-15T21:42:54.817Z"
   },
   {
    "cell": {
     "executionCount": 46,
     "executionEventId": "b34953c8-94bf-4676-afec-bacc82a24b44",
     "hasError": false,
     "id": "05bdab7d-8339-4e2d-9dc7-437fc9aa8515",
     "outputs": [],
     "persistentId": "15ce9f0b-8d84-4e15-b2c9-dd56463c3e83",
     "text": "dset_step = xr.concat(d, dim='time')"
    },
    "executionTime": "2019-12-15T23:12:06.092Z"
   },
   {
    "cell": {
     "executionCount": 47,
     "executionEventId": "a7248b3a-6c6d-458f-9596-47425ea26260",
     "hasError": false,
     "id": "ae8417f0-c691-4be5-82a6-4c9121b4ff58",
     "outputs": [
      {
       "data": {
        "text/plain": "<xarray.Dataset>\nDimensions:        (latitude: 181, longitude: 360, number: 25, step: 5, time: 288)\nCoordinates:\n    isobaricInhPa  int64 500\n  * latitude       (latitude) float64 90.0 89.0 88.0 87.0 ... -88.0 -89.0 -90.0\n  * step           (step) int64 1 2 3 4 5\n  * number         (number) int64 0 1 2 3 4 5 6 7 8 ... 17 18 19 20 21 22 23 24\n  * longitude      (longitude) float64 0.0 1.0 2.0 3.0 ... 357.0 358.0 359.0\n  * time           (time) datetime64[ns] 1993-01-01 1993-02-01 ... 2016-12-01\n    valid_time     (time, step) datetime64[ns] 1993-03-01 ... 2017-06-01\nData variables:\n    z              (time, number, step, latitude, longitude) float32 49785.137 ... 49763.41\nAttributes:\n    GRIB_edition:            1\n    GRIB_centre:             ecmf\n    GRIB_centreDescription:  European Centre for Medium-Range Weather Forecasts\n    GRIB_subCentre:          0\n    Conventions:             CF-1.7\n    institution:             European Centre for Medium-Range Weather Forecasts\n    history:                 2019-12-16T10:24:41 GRIB to CDM+CF via cfgrib-0...."
       },
       "execution_count": 47,
       "metadata": {},
       "output_type": "execute_result"
      }
     ],
     "persistentId": "54be97ad-56e8-439e-850f-05e804e18dd4",
     "text": "dset_step"
    },
    "executionTime": "2019-12-15T23:12:08.938Z"
   },
   {
    "cell": {
     "executionCount": 48,
     "executionEventId": "f4260075-9fe1-4178-b6e4-898150d8b95a",
     "hasError": false,
     "id": "ddc2e95f-b961-49d9-bdd7-6d245cb74a89",
     "outputs": [
      {
       "data": {
        "text/plain": "<xarray.Dataset>\nDimensions:        (lat: 181, lon: 360, number: 25, step: 20, time: 288)\nCoordinates:\n  * number         (number) int64 0 1 2 3 4 5 6 7 8 ... 17 18 19 20 21 22 23 24\n  * time           (time) datetime64[ns] 1993-01-01 1993-02-01 ... 2016-12-01\n  * step           (step) timedelta64[ns] 59 days 60 days ... 183 days 184 days\n    isobaricInhPa  int64 ...\n  * lat            (lat) float64 90.0 89.0 88.0 87.0 ... -87.0 -88.0 -89.0 -90.0\n  * lon            (lon) float64 0.0 1.0 2.0 3.0 4.0 ... 356.0 357.0 358.0 359.0\n    valid_time     (time, step) datetime64[ns] ...\nData variables:\n    z500           (number, time, step, lat, lon) float32 49785.137 ... nan\nAttributes:\n    GRIB_edition:            1\n    GRIB_centre:             ecmf\n    GRIB_centreDescription:  European Centre for Medium-Range Weather Forecasts\n    GRIB_subCentre:          0\n    Conventions:             CF-1.7\n    institution:             European Centre for Medium-Range Weather Forecasts\n    history:                 2019-12-16T10:24:41 GRIB to CDM+CF via cfgrib-0...."
       },
       "execution_count": 48,
       "metadata": {},
       "output_type": "execute_result"
      }
     ],
     "persistentId": "7e638790-b93b-40eb-875d-6368f59aa73e",
     "text": "dset.rename({'latitude':'lat', 'longitude':'lon','z':'z500'})"
    },
    "executionTime": "2019-12-15T23:13:16.422Z"
   },
   {
    "cell": {
     "executionCount": 49,
     "executionEventId": "7d567b05-7390-4127-be43-9a304e73d3cf",
     "hasError": false,
     "id": "ddc2e95f-b961-49d9-bdd7-6d245cb74a89",
     "outputs": [],
     "persistentId": "7e638790-b93b-40eb-875d-6368f59aa73e",
     "text": "dset = dset.rename({'latitude':'lat', 'longitude':'lon','z':'z500'})"
    },
    "executionTime": "2019-12-15T23:13:20.902Z"
   },
   {
    "cell": {
     "executionCount": 50,
     "executionEventId": "c865b27f-6505-4710-a7c0-7f4db6905936",
     "hasError": false,
     "id": "5fb70b64-58f9-4415-9bcb-e501864dbe61",
     "outputs": [
      {
       "data": {
        "text/plain": "<xarray.Dataset>\nDimensions:        (lat: 181, lon: 360, number: 25, step: 20, time: 288)\nCoordinates:\n  * number         (number) int64 0 1 2 3 4 5 6 7 8 ... 17 18 19 20 21 22 23 24\n  * time           (time) datetime64[ns] 1993-01-01 1993-02-01 ... 2016-12-01\n  * step           (step) timedelta64[ns] 59 days 60 days ... 183 days 184 days\n    isobaricInhPa  int64 ...\n  * lat            (lat) float64 90.0 89.0 88.0 87.0 ... -87.0 -88.0 -89.0 -90.0\n  * lon            (lon) float64 0.0 1.0 2.0 3.0 4.0 ... 356.0 357.0 358.0 359.0\n    valid_time     (time, step) datetime64[ns] ...\nData variables:\n    z500           (number, time, step, lat, lon) float32 49785.137 ... nan\nAttributes:\n    GRIB_edition:            1\n    GRIB_centre:             ecmf\n    GRIB_centreDescription:  European Centre for Medium-Range Weather Forecasts\n    GRIB_subCentre:          0\n    Conventions:             CF-1.7\n    institution:             European Centre for Medium-Range Weather Forecasts\n    history:                 2019-12-16T10:24:41 GRIB to CDM+CF via cfgrib-0...."
       },
       "execution_count": 50,
       "metadata": {},
       "output_type": "execute_result"
      }
     ],
     "persistentId": "c3001bab-c42d-42a9-9736-586f0365aff5",
     "text": "dset"
    },
    "executionTime": "2019-12-15T23:13:22.326Z"
   },
   {
    "cell": {
     "executionCount": 51,
     "executionEventId": "065a78c1-a855-4ab0-87cc-5aad0d0d971b",
     "hasError": false,
     "id": "ddc2e95f-b961-49d9-bdd7-6d245cb74a89",
     "outputs": [],
     "persistentId": "7e638790-b93b-40eb-875d-6368f59aa73e",
     "text": "dset_step = dset_step.rename({'latitude':'lat', 'longitude':'lon','z':'z500'})"
    },
    "executionTime": "2019-12-15T23:13:42.005Z"
   },
   {
    "cell": {
     "executionCount": 52,
     "executionEventId": "c9a740c3-8603-4518-bdd4-8a609938a323",
     "hasError": false,
     "id": "5fb70b64-58f9-4415-9bcb-e501864dbe61",
     "outputs": [
      {
       "data": {
        "text/plain": "<xarray.Dataset>\nDimensions:        (lat: 181, lon: 360, number: 25, step: 5, time: 288)\nCoordinates:\n    isobaricInhPa  int64 500\n  * lat            (lat) float64 90.0 89.0 88.0 87.0 ... -87.0 -88.0 -89.0 -90.0\n  * step           (step) int64 1 2 3 4 5\n  * number         (number) int64 0 1 2 3 4 5 6 7 8 ... 17 18 19 20 21 22 23 24\n  * lon            (lon) float64 0.0 1.0 2.0 3.0 4.0 ... 356.0 357.0 358.0 359.0\n  * time           (time) datetime64[ns] 1993-01-01 1993-02-01 ... 2016-12-01\n    valid_time     (time, step) datetime64[ns] 1993-03-01 ... 2017-06-01\nData variables:\n    z500           (time, number, step, lat, lon) float32 49785.137 ... 49763.41\nAttributes:\n    GRIB_edition:            1\n    GRIB_centre:             ecmf\n    GRIB_centreDescription:  European Centre for Medium-Range Weather Forecasts\n    GRIB_subCentre:          0\n    Conventions:             CF-1.7\n    institution:             European Centre for Medium-Range Weather Forecasts\n    history:                 2019-12-16T10:24:41 GRIB to CDM+CF via cfgrib-0...."
       },
       "execution_count": 52,
       "metadata": {},
       "output_type": "execute_result"
      }
     ],
     "persistentId": "c3001bab-c42d-42a9-9736-586f0365aff5",
     "text": "dset_step"
    },
    "executionTime": "2019-12-15T23:13:45.504Z"
   },
   {
    "cell": {
     "executionCount": 53,
     "executionEventId": "09ad9c3b-b501-4a65-a4d2-1d50787cff2e",
     "hasError": false,
     "id": "b962000d-757c-4baa-bf36-5831654f95e6",
     "outputs": [
      {
       "data": {
        "text/plain": "24.0"
       },
       "execution_count": 53,
       "metadata": {},
       "output_type": "execute_result"
      }
     ],
     "persistentId": "e2bd2bfc-3a62-4a40-b1e4-dea94486e823",
     "text": "288 / 12"
    },
    "executionTime": "2019-12-15T23:13:56.187Z"
   },
   {
    "cell": {
     "executionCount": 54,
     "executionEventId": "aaae545f-d8bc-4bf3-9e23-935603c0fa3f",
     "hasError": false,
     "id": "55591226-94ca-415e-8fd9-5c8d10b2113f",
     "outputs": [],
     "persistentId": "b5d34446-debe-474f-9314-6ac68a45ab7c",
     "text": "fname_out = lfiles[0]"
    },
    "executionTime": "2019-12-15T23:42:05.277Z"
   },
   {
    "cell": {
     "executionCount": 55,
     "executionEventId": "c6f6a8dd-ccdf-47ba-9fcc-809b5284c364",
     "hasError": false,
     "id": "9f02d65d-6f9c-4098-99d1-f87b55bfaa43",
     "outputs": [
      {
       "data": {
        "text/plain": "PosixPath('/home/nicolasf/drives/auck_projects/END19101/Working/data/hindcasts/ECMWF/Z500/Z500_hindcasts_1993_2016_ECMWF.grib')"
       },
       "execution_count": 55,
       "metadata": {},
       "output_type": "execute_result"
      }
     ],
     "persistentId": "8c003818-276d-4933-bc7e-c4ca2c012f92",
     "text": "fname_out"
    },
    "executionTime": "2019-12-15T23:42:07.521Z"
   },
   {
    "cell": {
     "executionCount": 56,
     "executionEventId": "a0f6fc4a-c1b6-4066-b53c-80adaf41c665",
     "hasError": false,
     "id": "9f02d65d-6f9c-4098-99d1-f87b55bfaa43",
     "outputs": [],
     "persistentId": "8c003818-276d-4933-bc7e-c4ca2c012f92",
     "text": "fname_out = str(fname_out)"
    },
    "executionTime": "2019-12-15T23:42:17.305Z"
   },
   {
    "cell": {
     "executionCount": 57,
     "executionEventId": "f82e7edc-2833-4cbb-9d34-920bdb9bf01e",
     "hasError": false,
     "id": "662cf3b9-97d2-4347-ade2-6a2bc7dad15e",
     "outputs": [
      {
       "data": {
        "text/plain": "'/home/nicolasf/drives/auck_projects/END19101/Working/data/hindcasts/ECMWF/Z500/Z500_hindcasts_1993_2016_ECMWF.grib'"
       },
       "execution_count": 57,
       "metadata": {},
       "output_type": "execute_result"
      }
     ],
     "persistentId": "ae207624-c3a9-4d50-a142-0ab6aaeeed96",
     "text": "fname_out"
    },
    "executionTime": "2019-12-15T23:42:19.569Z"
   },
   {
    "cell": {
     "executionCount": 58,
     "executionEventId": "703c9435-7a91-43e9-8fc6-eb2b8833a144",
     "hasError": false,
     "id": "662cf3b9-97d2-4347-ade2-6a2bc7dad15e",
     "outputs": [
      {
       "data": {
        "text/plain": "'/home/nicolasf/drives/auck_projects/END19101/Working/data/hindcasts/ECMWF/Z500/Z500_hindcasts_1993_2016_ECMWF.nc'"
       },
       "execution_count": 58,
       "metadata": {},
       "output_type": "execute_result"
      }
     ],
     "persistentId": "ae207624-c3a9-4d50-a142-0ab6aaeeed96",
     "text": "fname_out.replace('.grib','.nc')"
    },
    "executionTime": "2019-12-15T23:42:30.184Z"
   },
   {
    "cell": {
     "executionCount": 59,
     "executionEventId": "6920328a-93b7-4e4f-8f5a-1fa2dcffb1c3",
     "hasError": false,
     "id": "55591226-94ca-415e-8fd9-5c8d10b2113f",
     "outputs": [],
     "persistentId": "b5d34446-debe-474f-9314-6ac68a45ab7c",
     "text": "fname_out = lfiles[0]"
    },
    "executionTime": "2019-12-15T23:42:32.252Z"
   },
   {
    "cell": {
     "executionCount": 60,
     "executionEventId": "00c3a25f-4cef-48ba-92b2-c73ccfbe12b5",
     "hasError": false,
     "id": "69ef5472-f2a1-488f-b686-c1b92fe83b7c",
     "outputs": [
      {
       "data": {
        "text/plain": "PosixPath('/home/nicolasf/drives/auck_projects/END19101/Working/data/hindcasts/ECMWF/Z500')"
       },
       "execution_count": 60,
       "metadata": {},
       "output_type": "execute_result"
      }
     ],
     "persistentId": "9e677453-1663-4717-8874-2e2efc13f6be",
     "text": "dpath"
    },
    "executionTime": "2019-12-15T23:42:38.621Z"
   },
   {
    "cell": {
     "executionCount": 61,
     "executionEventId": "ec61575e-0ed7-4db5-bcec-04c4fbc8fb60",
     "hasError": false,
     "id": "55591226-94ca-415e-8fd9-5c8d10b2113f",
     "outputs": [],
     "persistentId": "b5d34446-debe-474f-9314-6ac68a45ab7c",
     "text": "fname_out = lfiles[0]"
    },
    "executionTime": "2019-12-15T23:42:41.197Z"
   },
   {
    "cell": {
     "executionCount": 62,
     "executionEventId": "e4b3acd0-9799-49d4-96b3-051aeae091f0",
     "hasError": false,
     "id": "69ef5472-f2a1-488f-b686-c1b92fe83b7c",
     "outputs": [
      {
       "data": {
        "text/plain": "PosixPath('/home/nicolasf/drives/auck_projects/END19101/Working/data/hindcasts/ECMWF/Z500')"
       },
       "execution_count": 62,
       "metadata": {},
       "output_type": "execute_result"
      }
     ],
     "persistentId": "9e677453-1663-4717-8874-2e2efc13f6be",
     "text": "dpath"
    },
    "executionTime": "2019-12-15T23:42:41.652Z"
   },
   {
    "cell": {
     "executionCount": 63,
     "executionEventId": "7a9ca8e6-4f24-4605-ac82-30d908edf102",
     "hasError": false,
     "id": "6d2654c5-f593-4543-9414-b58b19c86114",
     "outputs": [
      {
       "data": {
        "text/plain": "PosixPath('/home/nicolasf/drives/auck_projects/END19101/Working/data/hindcasts/ECMWF/Z500/Z500_hindcasts_1993_2016_ECMWF.grib')"
       },
       "execution_count": 63,
       "metadata": {},
       "output_type": "execute_result"
      }
     ],
     "persistentId": "0e8a88c7-5b4a-4510-b19a-578a7232f50f",
     "text": "fname_out"
    },
    "executionTime": "2019-12-15T23:42:43.280Z"
   },
   {
    "cell": {
     "executionCount": 64,
     "executionEventId": "dd48e134-e885-4498-8d5d-9415c9392bc5",
     "hasError": false,
     "id": "6d2654c5-f593-4543-9414-b58b19c86114",
     "outputs": [
      {
       "data": {
        "text/plain": "'Z500_hindcasts_1993_2016_ECMWF.grib'"
       },
       "execution_count": 64,
       "metadata": {},
       "output_type": "execute_result"
      }
     ],
     "persistentId": "0e8a88c7-5b4a-4510-b19a-578a7232f50f",
     "text": "fname_out.name"
    },
    "executionTime": "2019-12-15T23:42:46.109Z"
   },
   {
    "cell": {
     "executionCount": 65,
     "executionEventId": "9db4489f-fb25-4127-8ed7-f9a614997637",
     "hasError": false,
     "id": "6d2654c5-f593-4543-9414-b58b19c86114",
     "outputs": [
      {
       "data": {
        "text/plain": "'Z500_hindcasts_1993_2016_ECMWF.nc'"
       },
       "execution_count": 65,
       "metadata": {},
       "output_type": "execute_result"
      }
     ],
     "persistentId": "0e8a88c7-5b4a-4510-b19a-578a7232f50f",
     "text": "fname_out.name.replace('.grib','.nc')"
    },
    "executionTime": "2019-12-15T23:42:58.485Z"
   },
   {
    "cell": {
     "executionCount": 66,
     "executionEventId": "f286f68e-d3a4-47fa-a27c-d5548e08b715",
     "hasError": false,
     "id": "1d97caea-adfa-49de-91a3-cb85f4e33529",
     "outputs": [],
     "persistentId": "b18e51c8-5754-459c-b488-f34d92efe509",
     "text": "dset_step.to_netcdf(dpath / fname_out.name.replace('.grib','.nc'))"
    },
    "executionTime": "2019-12-15T23:59:25.525Z"
   },
   {
    "cell": {
     "executionCount": 67,
     "executionEventId": "8e0d2f00-8399-45ed-952d-40ea7cad4112",
     "hasError": false,
     "id": "de20cd1e-8462-4892-9182-36cc29913085",
     "outputs": [],
     "persistentId": "b0a728df-f474-4bbd-9e52-7cdbe3f5a140",
     "text": "%matplotlib inline\nfrom matplotlib import pyplot as plt"
    },
    "executionTime": "2019-12-16T00:09:34.742Z"
   },
   {
    "cell": {
     "executionCount": 68,
     "executionEventId": "9cfb1535-bf65-49e6-8a75-7dd69185bda7",
     "hasError": false,
     "id": "e6e13508-f2fb-4b3a-9f43-02e078528318",
     "outputs": [],
     "persistentId": "3052e537-b7af-4235-80cb-24fe1a737849",
     "text": "import numpy as np\nimport pandas as pd\nimport xarray as xr"
    },
    "executionTime": "2019-12-16T00:09:34.863Z"
   },
   {
    "cell": {
     "executionCount": 69,
     "executionEventId": "74add2ea-0bf4-414c-8257-342aae37ede6",
     "hasError": false,
     "id": "8fe06168-1912-4109-8938-466df13925f5",
     "outputs": [],
     "persistentId": "71d0612c-bcb6-43fc-920b-d9edf8a838bb",
     "text": "import pathlib"
    },
    "executionTime": "2019-12-16T00:09:35.045Z"
   },
   {
    "cell": {
     "executionCount": 70,
     "executionEventId": "c4f0c4d9-8dff-4cc5-a435-7a2b9ae9962a",
     "hasError": false,
     "id": "5ad74c05-69cb-4b24-ba3b-981395deea11",
     "outputs": [],
     "persistentId": "9e0f73d4-b23e-4ea8-b8b5-dcd3d0e4c4f3",
     "text": "HOME = pathlib.Path.home()"
    },
    "executionTime": "2019-12-16T00:09:35.241Z"
   },
   {
    "cell": {
     "executionCount": 71,
     "executionEventId": "a8ab13d8-7ab3-4c87-9fc9-353f0a7f6e72",
     "hasError": false,
     "id": "d7c1d537-9526-4e16-b271-f9ef431ed96e",
     "outputs": [
      {
       "data": {
        "text/plain": "PosixPath('/home/nicolasf')"
       },
       "execution_count": 71,
       "metadata": {},
       "output_type": "execute_result"
      }
     ],
     "persistentId": "a2759133-9455-4ba4-93c2-937ed3c1653f",
     "text": "HOME"
    },
    "executionTime": "2019-12-16T00:09:35.434Z"
   },
   {
    "cell": {
     "executionCount": 72,
     "executionEventId": "8d71feb1-e8a3-4540-9d63-0b01e3d6e00e",
     "hasError": false,
     "id": "d6390f85-e77c-47cc-bfe6-b63162e2b78f",
     "outputs": [],
     "persistentId": "74cdeb9b-2d33-437a-9cbd-3bd39297bd30",
     "text": "GCM = 'METEO_FRANCE'"
    },
    "executionTime": "2019-12-16T00:09:35.628Z"
   },
   {
    "cell": {
     "executionCount": 73,
     "executionEventId": "7e91fa0d-78df-4e40-aebb-f3ccd8f6b239",
     "hasError": false,
     "id": "32e4d1c7-90ca-4456-a70e-4d3cfd08332a",
     "outputs": [],
     "persistentId": "6bb82ee7-5f40-4056-ae98-2b0870c8639d",
     "text": "var_name = 'Z500'"
    },
    "executionTime": "2019-12-16T00:09:35.797Z"
   },
   {
    "cell": {
     "executionCount": 74,
     "executionEventId": "f6f8eb67-7286-4fad-8626-9df8225bf3b2",
     "hasError": false,
     "id": "a68ed348-eab5-4257-adaa-ae7522fb5d1c",
     "outputs": [],
     "persistentId": "c128a3a1-d7af-45a9-bcbb-608da37a3454",
     "text": "dpath = HOME / 'drives' / 'auck_projects' / 'END19101' / 'Working' / 'data' / 'hindcasts' / GCM / var_name "
    },
    "executionTime": "2019-12-16T00:09:35.962Z"
   },
   {
    "cell": {
     "executionCount": 75,
     "executionEventId": "bcc7cb4d-5998-4df4-8908-9b0030583070",
     "hasError": false,
     "id": "8a92e01c-6ca2-4d91-a26c-c1cc67d2ab96",
     "outputs": [],
     "persistentId": "f1037f29-b67f-4a61-b217-a63908efcd96",
     "text": "lfiles = list(dpath.glob(\"*.grib\"))"
    },
    "executionTime": "2019-12-16T00:09:36.316Z"
   },
   {
    "cell": {
     "executionCount": 76,
     "executionEventId": "6bb96c62-642f-40e2-a853-729a851e24f4",
     "hasError": false,
     "id": "fd9650ee-ec42-4aa3-bb0b-eb218594bb75",
     "outputs": [
      {
       "data": {
        "text/plain": "PosixPath('/home/nicolasf/drives/auck_projects/END19101/Working/data/hindcasts/METEO_FRANCE/Z500/Z500_hindcasts_1993_2016_METEO_FRANCE_system_6.grib')"
       },
       "execution_count": 76,
       "metadata": {},
       "output_type": "execute_result"
      }
     ],
     "persistentId": "cccce960-9e1a-4a9b-bc15-3be2213ba5c5",
     "text": "lfiles[0]"
    },
    "executionTime": "2019-12-16T00:09:36.342Z"
   },
   {
    "cell": {
     "executionCount": 77,
     "executionEventId": "f280d97e-9663-48c9-8ef9-5bba32da60ed",
     "hasError": false,
     "id": "5d99d3f2-7820-4d85-b246-274a83e56c24",
     "outputs": [
      {
       "name": "stderr",
       "output_type": "stream",
       "text": "skipping corrupted Message\nTraceback (most recent call last):\n  File \"/home/nicolasf/anaconda3/envs/pangeo/lib/python3.7/site-packages/cfgrib/messages.py\", line 214, in __iter__\n    yield self.message_from_file(file, errors=self.errors)\n  File \"/home/nicolasf/anaconda3/envs/pangeo/lib/python3.7/site-packages/cfgrib/messages.py\", line 229, in message_from_file\n    return self.message_class.from_file(file, offset, self.product_kind, **kwargs)\n  File \"/home/nicolasf/anaconda3/envs/pangeo/lib/python3.7/site-packages/cfgrib/messages.py\", line 70, in from_file\n    codes_id = eccodes.codes_new_from_file(file, product_kind=product_kind)\n  File \"/home/nicolasf/anaconda3/envs/pangeo/lib/python3.7/site-packages/cfgrib/bindings.py\", line 177, in codes_grib_new_from_file\n    retval = check_last(lib.codes_handle_new_from_file)(context, fileobj, product_kind)\n  File \"/home/nicolasf/anaconda3/envs/pangeo/lib/python3.7/site-packages/cfgrib/bindings.py\", line 151, in wrapper\n    raise GribInternalError(code[0])\ncfgrib.bindings.GribInternalError: ('Wrong message length (-23).', -23)\n"
      }
     ],
     "persistentId": "8362c48c-468b-4021-885c-3759c041ba5a",
     "text": "dset = xr.open_dataset(lfiles[0], engine='cfgrib', backend_kwargs={'indexpath':''})"
    },
    "executionTime": "2019-12-16T00:18:10.768Z"
   }
  ],
  "kernelspec": {
   "display_name": "Python 3",
   "language": "python",
   "name": "python3"
  },
  "language_info": {
   "codemirror_mode": {
    "name": "ipython",
    "version": 3
   },
   "file_extension": ".py",
   "mimetype": "text/x-python",
   "name": "python",
   "nbconvert_exporter": "python",
   "pygments_lexer": "ipython3",
   "version": "3.7.5"
  },
  "papermill": {
   "duration": 2781.173876,
   "end_time": "2020-02-03T20:54:35.997864",
   "environment_variables": {},
   "exception": null,
   "input_path": "./pre-process_CDS_hindcasts_1993_2016.ipynb",
   "output_path": "./pre-process_CDS_hindcasts_1993_2016.ipynb",
   "parameters": {
    "GCM": "DWD",
    "var_name": "PRECIP"
   },
   "start_time": "2020-02-03T20:08:14.823988",
   "version": "1.2.1"
  },
  "uuid": "00b46317-44a0-4506-8ed8-3559363c20ac"
 },
 "nbformat": 4,
 "nbformat_minor": 4
}
