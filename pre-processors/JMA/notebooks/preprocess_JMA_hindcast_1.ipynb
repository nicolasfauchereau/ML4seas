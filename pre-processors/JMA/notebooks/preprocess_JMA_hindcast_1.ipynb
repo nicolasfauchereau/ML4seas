{
 "cells": [
  {
   "cell_type": "markdown",
   "metadata": {},
   "source": [
    "### pre-process the JMA hindcasts, step 1, read grib, change variable and dimension names and saves to netcdf "
   ]
  },
  {
   "cell_type": "markdown",
   "metadata": {},
   "source": [
    "### note: need to use pygrib as xarray does not read all the dimensions "
   ]
  },
  {
   "cell_type": "code",
   "execution_count": 1,
   "metadata": {},
   "outputs": [],
   "source": [
    "# Parameters\n",
    "stage_in = \"downloads\"\n",
    "stage_out = \"pre_processed\"\n",
    "period = \"hindcasts\"\n",
    "provider = \"JMA\"\n",
    "GCM = \"JMA\"\n",
    "var_name = \"Z500\""
   ]
  },
  {
   "cell_type": "code",
   "execution_count": 2,
   "metadata": {
    "execution_event_id": "8dbe305b-94fb-4a3c-9c88-9fc20e3d5ceb",
    "last_executed_text": "%matplotlib inline\nimport matplotlib.pyplot as plt",
    "persistent_id": "088d5310-69ab-4273-a5f4-2d6fac0e0531"
   },
   "outputs": [],
   "source": [
    "%matplotlib inline\n",
    "import matplotlib.pyplot as plt"
   ]
  },
  {
   "cell_type": "code",
   "execution_count": 3,
   "metadata": {
    "execution_event_id": "744368c8-a6db-4310-bcca-3dd60c4bff07",
    "last_executed_text": "from datetime import datetime, timedelta",
    "persistent_id": "964d2acc-0943-42f6-a251-e8096402b978"
   },
   "outputs": [],
   "source": [
    "from datetime import datetime, timedelta"
   ]
  },
  {
   "cell_type": "code",
   "execution_count": 4,
   "metadata": {
    "execution_event_id": "99255954-3714-42dc-8d17-673c19faa207",
    "last_executed_text": "import pygrib\nimport numpy as np",
    "persistent_id": "e5f2a971-c026-461e-a183-46c5847a6346"
   },
   "outputs": [],
   "source": [
    "import pygrib\n",
    "import numpy as np"
   ]
  },
  {
   "cell_type": "code",
   "execution_count": 5,
   "metadata": {
    "execution_event_id": "0ca48ca2-eb19-4962-a3f3-d1c756440dc0",
    "last_executed_text": "import xarray as xr; print(xr.__version__)",
    "persistent_id": "2e1ba77f-1637-4f84-84c7-7389cfe01177"
   },
   "outputs": [
    {
     "name": "stdout",
     "output_type": "stream",
     "text": [
      "0.15.0\n"
     ]
    }
   ],
   "source": [
    "import xarray as xr; print(xr.__version__)"
   ]
  },
  {
   "cell_type": "code",
   "execution_count": 6,
   "metadata": {
    "execution_event_id": "e1856ad7-09b7-4bee-8e9a-0cc24a355795",
    "last_executed_text": "import dask ",
    "persistent_id": "06497818-d251-457d-994f-40495d38ad7b"
   },
   "outputs": [],
   "source": [
    "import dask "
   ]
  },
  {
   "cell_type": "code",
   "execution_count": 7,
   "metadata": {
    "execution_event_id": "9ad0433d-1d72-4e0e-b11f-5155197f54bd",
    "last_executed_text": "import os",
    "persistent_id": "a1bd5ea5-3ec3-4a13-a8e0-1442e6333130"
   },
   "outputs": [],
   "source": [
    "import os"
   ]
  },
  {
   "cell_type": "code",
   "execution_count": 8,
   "metadata": {
    "execution_event_id": "2693cf15-b6d4-4eb3-826a-8ac359197acb",
    "last_executed_text": "import pathlib",
    "persistent_id": "1adc13fc-410a-48d5-bec6-2c4a0c29ef43"
   },
   "outputs": [],
   "source": [
    "import pathlib"
   ]
  },
  {
   "cell_type": "markdown",
   "metadata": {
    "papermill": {
     "duration": 0.055871,
     "end_time": "2020-02-14T05:25:14.583485",
     "exception": false,
     "start_time": "2020-02-14T05:25:14.527614",
     "status": "completed"
    },
    "tags": []
   },
   "source": [
    "----- "
   ]
  },
  {
   "cell_type": "markdown",
   "metadata": {},
   "source": [
    "### paths definitions "
   ]
  },
  {
   "cell_type": "code",
   "execution_count": 9,
   "metadata": {
    "execution_event_id": "bc6295a9-63e7-443c-a951-3976d1872295",
    "last_executed_text": "HOME = pathlib.Path.home()",
    "papermill": {
     "duration": 0.06094,
     "end_time": "2020-02-14T05:25:14.003498",
     "exception": false,
     "start_time": "2020-02-14T05:25:13.942558",
     "status": "completed"
    },
    "persistent_id": "a1619992-4f28-4982-b5fb-3f6ef4012a1b",
    "tags": []
   },
   "outputs": [],
   "source": [
    "HOME = pathlib.Path.home()"
   ]
  },
  {
   "cell_type": "code",
   "execution_count": 10,
   "metadata": {
    "execution_event_id": "d56f7f6c-f3d1-4bd2-96bb-6e517efebf6a",
    "last_executed_text": "HOME",
    "papermill": {
     "duration": 0.063582,
     "end_time": "2020-02-14T05:25:14.122538",
     "exception": false,
     "start_time": "2020-02-14T05:25:14.058956",
     "status": "completed"
    },
    "persistent_id": "5bc9fad8-87a1-4e5e-9016-d184deec18e9",
    "tags": []
   },
   "outputs": [
    {
     "data": {
      "text/plain": [
       "PosixPath('/home/nicolasf')"
      ]
     },
     "execution_count": 10,
     "metadata": {},
     "output_type": "execute_result"
    }
   ],
   "source": [
    "HOME"
   ]
  },
  {
   "cell_type": "markdown",
   "metadata": {
    "papermill": {
     "duration": 0.05617,
     "end_time": "2020-02-14T05:25:14.695405",
     "exception": false,
     "start_time": "2020-02-14T05:25:14.639235",
     "status": "completed"
    },
    "tags": []
   },
   "source": [
    "### input path "
   ]
  },
  {
   "cell_type": "code",
   "execution_count": 11,
   "metadata": {
    "execution_event_id": "59723d67-1dc3-4ca1-85e7-46aa938e63fe",
    "last_executed_text": "dpath = HOME / 'research' / 'Smart_Ideas' / 'data' / 'GCMs' / 'NC' / GCM / var_name",
    "papermill": {
     "duration": 0.061021,
     "end_time": "2020-02-14T05:25:14.812673",
     "exception": false,
     "start_time": "2020-02-14T05:25:14.751652",
     "status": "completed"
    },
    "persistent_id": "a12fbd5a-67cb-43b0-a805-a75bf3ea1bb6",
    "tags": []
   },
   "outputs": [],
   "source": [
    "ipath = HOME / 'drives' / 'auck_projects' / 'END19101' / 'Working' / 'data' / 'GCMs' / stage_in / period / provider / GCM / var_name"
   ]
  },
  {
   "cell_type": "markdown",
   "metadata": {
    "papermill": {
     "duration": 0.054795,
     "end_time": "2020-02-14T05:25:14.923780",
     "exception": false,
     "start_time": "2020-02-14T05:25:14.868985",
     "status": "completed"
    },
    "tags": []
   },
   "source": [
    "### final output path "
   ]
  },
  {
   "cell_type": "code",
   "execution_count": 12,
   "metadata": {
    "papermill": {
     "duration": 0.060502,
     "end_time": "2020-02-14T05:25:15.039637",
     "exception": false,
     "start_time": "2020-02-14T05:25:14.979135",
     "status": "completed"
    },
    "tags": []
   },
   "outputs": [],
   "source": [
    "opath = HOME / 'drives' / 'auck_projects' / 'END19101' / 'Working' / 'data' / 'GCMs' / stage_out / period / provider / GCM / var_name"
   ]
  },
  {
   "cell_type": "markdown",
   "metadata": {},
   "source": [
    "### creates the output path if it doesnt already exists "
   ]
  },
  {
   "cell_type": "code",
   "execution_count": 59,
   "metadata": {},
   "outputs": [],
   "source": [
    "if not opath.exists(): \n",
    "    opath.mkdir(parents=True)"
   ]
  },
  {
   "cell_type": "markdown",
   "metadata": {},
   "source": [
    "### list ALL the files "
   ]
  },
  {
   "cell_type": "code",
   "execution_count": 23,
   "metadata": {},
   "outputs": [],
   "source": [
    "lfiles = list(ipath.glob('*'))"
   ]
  },
  {
   "cell_type": "code",
   "execution_count": 24,
   "metadata": {},
   "outputs": [],
   "source": [
    "lfiles.sort()"
   ]
  },
  {
   "cell_type": "code",
   "execution_count": 25,
   "metadata": {},
   "outputs": [
    {
     "data": {
      "text/plain": [
       "PosixPath('/home/nicolasf/drives/auck_projects/END19101/Working/data/GCMs/downloads/hindcasts/JMA/JMA/Z500/p500_Phh_em.201501')"
      ]
     },
     "execution_count": 25,
     "metadata": {},
     "output_type": "execute_result"
    }
   ],
   "source": [
    "lfiles[0]"
   ]
  },
  {
   "cell_type": "code",
   "execution_count": 26,
   "metadata": {},
   "outputs": [
    {
     "data": {
      "text/plain": [
       "PosixPath('/home/nicolasf/drives/auck_projects/END19101/Working/data/GCMs/downloads/hindcasts/JMA/JMA/Z500/p500_Phh_mon.20141227.grb2')"
      ]
     },
     "execution_count": 26,
     "metadata": {},
     "output_type": "execute_result"
    }
   ],
   "source": [
    "lfiles[-1]"
   ]
  },
  {
   "cell_type": "markdown",
   "metadata": {},
   "source": [
    "### need to separate between the Ptt_em (ensemble mean) and the Ptt_mon (all members) files "
   ]
  },
  {
   "cell_type": "code",
   "execution_count": 27,
   "metadata": {},
   "outputs": [],
   "source": [
    "if var_name == 'T2M': \n",
    "    lfiles_em = [x for x in lfiles if \"Ptt_em\" in str(x)]\n",
    "    lfiles_mon = [x for x in lfiles if \"Ptt_mon\" in str(x)] \n",
    "elif var_name == 'PRECIP': \n",
    "    lfiles_em = [x for x in lfiles if \"Prr_em\" in str(x)]\n",
    "    lfiles_mon = [x for x in lfiles if \"Prr_mon\" in str(x)]\n",
    "elif var_name == 'Z500': \n",
    "    lfiles_em = [x for x in lfiles if \"Phh_em\" in str(x)]\n",
    "    lfiles_mon = [x for x in lfiles if \"Phh_mon\" in str(x)]  "
   ]
  },
  {
   "cell_type": "code",
   "execution_count": 28,
   "metadata": {},
   "outputs": [],
   "source": [
    "lfiles_em.sort()"
   ]
  },
  {
   "cell_type": "code",
   "execution_count": 29,
   "metadata": {},
   "outputs": [],
   "source": [
    "lfiles_mon.sort()"
   ]
  },
  {
   "cell_type": "code",
   "execution_count": 30,
   "metadata": {},
   "outputs": [
    {
     "data": {
      "text/plain": [
       "[PosixPath('/home/nicolasf/drives/auck_projects/END19101/Working/data/GCMs/downloads/hindcasts/JMA/JMA/Z500/p500_Phh_em.201501'),\n",
       " PosixPath('/home/nicolasf/drives/auck_projects/END19101/Working/data/GCMs/downloads/hindcasts/JMA/JMA/Z500/p500_Phh_em.201502'),\n",
       " PosixPath('/home/nicolasf/drives/auck_projects/END19101/Working/data/GCMs/downloads/hindcasts/JMA/JMA/Z500/p500_Phh_em.201503'),\n",
       " PosixPath('/home/nicolasf/drives/auck_projects/END19101/Working/data/GCMs/downloads/hindcasts/JMA/JMA/Z500/p500_Phh_em.201504'),\n",
       " PosixPath('/home/nicolasf/drives/auck_projects/END19101/Working/data/GCMs/downloads/hindcasts/JMA/JMA/Z500/p500_Phh_em.201505'),\n",
       " PosixPath('/home/nicolasf/drives/auck_projects/END19101/Working/data/GCMs/downloads/hindcasts/JMA/JMA/Z500/p500_Phh_em.201506'),\n",
       " PosixPath('/home/nicolasf/drives/auck_projects/END19101/Working/data/GCMs/downloads/hindcasts/JMA/JMA/Z500/p500_Phh_em.201507'),\n",
       " PosixPath('/home/nicolasf/drives/auck_projects/END19101/Working/data/GCMs/downloads/hindcasts/JMA/JMA/Z500/p500_Phh_em.201508'),\n",
       " PosixPath('/home/nicolasf/drives/auck_projects/END19101/Working/data/GCMs/downloads/hindcasts/JMA/JMA/Z500/p500_Phh_em.201509'),\n",
       " PosixPath('/home/nicolasf/drives/auck_projects/END19101/Working/data/GCMs/downloads/hindcasts/JMA/JMA/Z500/p500_Phh_em.201510'),\n",
       " PosixPath('/home/nicolasf/drives/auck_projects/END19101/Working/data/GCMs/downloads/hindcasts/JMA/JMA/Z500/p500_Phh_em.201511'),\n",
       " PosixPath('/home/nicolasf/drives/auck_projects/END19101/Working/data/GCMs/downloads/hindcasts/JMA/JMA/Z500/p500_Phh_em.201512'),\n",
       " PosixPath('/home/nicolasf/drives/auck_projects/END19101/Working/data/GCMs/downloads/hindcasts/JMA/JMA/Z500/p500_Phh_em.201601'),\n",
       " PosixPath('/home/nicolasf/drives/auck_projects/END19101/Working/data/GCMs/downloads/hindcasts/JMA/JMA/Z500/p500_Phh_em.201602'),\n",
       " PosixPath('/home/nicolasf/drives/auck_projects/END19101/Working/data/GCMs/downloads/hindcasts/JMA/JMA/Z500/p500_Phh_em.201603'),\n",
       " PosixPath('/home/nicolasf/drives/auck_projects/END19101/Working/data/GCMs/downloads/hindcasts/JMA/JMA/Z500/p500_Phh_em.201604'),\n",
       " PosixPath('/home/nicolasf/drives/auck_projects/END19101/Working/data/GCMs/downloads/hindcasts/JMA/JMA/Z500/p500_Phh_em.201605'),\n",
       " PosixPath('/home/nicolasf/drives/auck_projects/END19101/Working/data/GCMs/downloads/hindcasts/JMA/JMA/Z500/p500_Phh_em.201606'),\n",
       " PosixPath('/home/nicolasf/drives/auck_projects/END19101/Working/data/GCMs/downloads/hindcasts/JMA/JMA/Z500/p500_Phh_em.201607'),\n",
       " PosixPath('/home/nicolasf/drives/auck_projects/END19101/Working/data/GCMs/downloads/hindcasts/JMA/JMA/Z500/p500_Phh_em.201608'),\n",
       " PosixPath('/home/nicolasf/drives/auck_projects/END19101/Working/data/GCMs/downloads/hindcasts/JMA/JMA/Z500/p500_Phh_em.201609'),\n",
       " PosixPath('/home/nicolasf/drives/auck_projects/END19101/Working/data/GCMs/downloads/hindcasts/JMA/JMA/Z500/p500_Phh_em.201610'),\n",
       " PosixPath('/home/nicolasf/drives/auck_projects/END19101/Working/data/GCMs/downloads/hindcasts/JMA/JMA/Z500/p500_Phh_em.201611'),\n",
       " PosixPath('/home/nicolasf/drives/auck_projects/END19101/Working/data/GCMs/downloads/hindcasts/JMA/JMA/Z500/p500_Phh_em.201612')]"
      ]
     },
     "execution_count": 30,
     "metadata": {},
     "output_type": "execute_result"
    }
   ],
   "source": [
    "lfiles_em"
   ]
  },
  {
   "cell_type": "code",
   "execution_count": 45,
   "metadata": {},
   "outputs": [
    {
     "data": {
      "text/plain": [
       "PosixPath('/home/nicolasf/drives/auck_projects/END19101/Working/data/GCMs/downloads/hindcasts/JMA/JMA/Z500/p500_Phh_mon.19790116.grb2')"
      ]
     },
     "execution_count": 45,
     "metadata": {},
     "output_type": "execute_result"
    }
   ],
   "source": [
    "lfiles_mon[5]"
   ]
  },
  {
   "cell_type": "code",
   "execution_count": 46,
   "metadata": {},
   "outputs": [
    {
     "data": {
      "text/plain": [
       "[PosixPath('/home/nicolasf/drives/auck_projects/END19101/Working/data/GCMs/downloads/hindcasts/JMA/JMA/Z500/p500_Phh_mon.20141028.grb2'),\n",
       " PosixPath('/home/nicolasf/drives/auck_projects/END19101/Working/data/GCMs/downloads/hindcasts/JMA/JMA/Z500/p500_Phh_mon.20141112.grb2'),\n",
       " PosixPath('/home/nicolasf/drives/auck_projects/END19101/Working/data/GCMs/downloads/hindcasts/JMA/JMA/Z500/p500_Phh_mon.20141127.grb2'),\n",
       " PosixPath('/home/nicolasf/drives/auck_projects/END19101/Working/data/GCMs/downloads/hindcasts/JMA/JMA/Z500/p500_Phh_mon.20141212.grb2'),\n",
       " PosixPath('/home/nicolasf/drives/auck_projects/END19101/Working/data/GCMs/downloads/hindcasts/JMA/JMA/Z500/p500_Phh_mon.20141227.grb2')]"
      ]
     },
     "execution_count": 46,
     "metadata": {},
     "output_type": "execute_result"
    }
   ],
   "source": [
    "lfiles_mon[-5:]"
   ]
  },
  {
   "cell_type": "markdown",
   "metadata": {},
   "source": [
    "### we only keep post 1979 "
   ]
  },
  {
   "cell_type": "code",
   "execution_count": 47,
   "metadata": {},
   "outputs": [],
   "source": [
    "lfiles_mon = lfiles_mon[5:]"
   ]
  },
  {
   "cell_type": "code",
   "execution_count": 48,
   "metadata": {},
   "outputs": [
    {
     "data": {
      "text/plain": [
       "[PosixPath('/home/nicolasf/drives/auck_projects/END19101/Working/data/GCMs/downloads/hindcasts/JMA/JMA/Z500/p500_Phh_mon.19790116.grb2'),\n",
       " PosixPath('/home/nicolasf/drives/auck_projects/END19101/Working/data/GCMs/downloads/hindcasts/JMA/JMA/Z500/p500_Phh_mon.19790131.grb2'),\n",
       " PosixPath('/home/nicolasf/drives/auck_projects/END19101/Working/data/GCMs/downloads/hindcasts/JMA/JMA/Z500/p500_Phh_mon.19790210.grb2'),\n",
       " PosixPath('/home/nicolasf/drives/auck_projects/END19101/Working/data/GCMs/downloads/hindcasts/JMA/JMA/Z500/p500_Phh_mon.19790225.grb2'),\n",
       " PosixPath('/home/nicolasf/drives/auck_projects/END19101/Working/data/GCMs/downloads/hindcasts/JMA/JMA/Z500/p500_Phh_mon.19790312.grb2')]"
      ]
     },
     "execution_count": 48,
     "metadata": {},
     "output_type": "execute_result"
    }
   ],
   "source": [
    "lfiles_mon[:5]"
   ]
  },
  {
   "cell_type": "markdown",
   "metadata": {},
   "source": [
    "### loops over the files in `lfiles_mon` and process "
   ]
  },
  {
   "cell_type": "code",
   "execution_count": 60,
   "metadata": {
    "persistent_id": "36c542a2-4c84-4893-ad19-711619f24c8b"
   },
   "outputs": [
    {
     "name": "stdout",
     "output_type": "stream",
     "text": [
      "processing /home/nicolasf/drives/auck_projects/END19101/Working/data/GCMs/downloads/hindcasts/JMA/JMA/Z500/p500_Phh_mon.19790116.grb2\n",
      "processing /home/nicolasf/drives/auck_projects/END19101/Working/data/GCMs/downloads/hindcasts/JMA/JMA/Z500/p500_Phh_mon.19790131.grb2\n",
      "processing /home/nicolasf/drives/auck_projects/END19101/Working/data/GCMs/downloads/hindcasts/JMA/JMA/Z500/p500_Phh_mon.19790210.grb2\n",
      "processing /home/nicolasf/drives/auck_projects/END19101/Working/data/GCMs/downloads/hindcasts/JMA/JMA/Z500/p500_Phh_mon.19790225.grb2\n",
      "processing /home/nicolasf/drives/auck_projects/END19101/Working/data/GCMs/downloads/hindcasts/JMA/JMA/Z500/p500_Phh_mon.19790312.grb2\n",
      "processing /home/nicolasf/drives/auck_projects/END19101/Working/data/GCMs/downloads/hindcasts/JMA/JMA/Z500/p500_Phh_mon.19790327.grb2\n",
      "processing /home/nicolasf/drives/auck_projects/END19101/Working/data/GCMs/downloads/hindcasts/JMA/JMA/Z500/p500_Phh_mon.19790411.grb2\n",
      "processing /home/nicolasf/drives/auck_projects/END19101/Working/data/GCMs/downloads/hindcasts/JMA/JMA/Z500/p500_Phh_mon.19790426.grb2\n",
      "processing /home/nicolasf/drives/auck_projects/END19101/Working/data/GCMs/downloads/hindcasts/JMA/JMA/Z500/p500_Phh_mon.19790516.grb2\n",
      "processing /home/nicolasf/drives/auck_projects/END19101/Working/data/GCMs/downloads/hindcasts/JMA/JMA/Z500/p500_Phh_mon.19790531.grb2\n",
      "processing /home/nicolasf/drives/auck_projects/END19101/Working/data/GCMs/downloads/hindcasts/JMA/JMA/Z500/p500_Phh_mon.19790615.grb2\n",
      "processing /home/nicolasf/drives/auck_projects/END19101/Working/data/GCMs/downloads/hindcasts/JMA/JMA/Z500/p500_Phh_mon.19790630.grb2\n",
      "processing /home/nicolasf/drives/auck_projects/END19101/Working/data/GCMs/downloads/hindcasts/JMA/JMA/Z500/p500_Phh_mon.19790715.grb2\n",
      "processing /home/nicolasf/drives/auck_projects/END19101/Working/data/GCMs/downloads/hindcasts/JMA/JMA/Z500/p500_Phh_mon.19790730.grb2\n",
      "processing /home/nicolasf/drives/auck_projects/END19101/Working/data/GCMs/downloads/hindcasts/JMA/JMA/Z500/p500_Phh_mon.19790814.grb2\n",
      "processing /home/nicolasf/drives/auck_projects/END19101/Working/data/GCMs/downloads/hindcasts/JMA/JMA/Z500/p500_Phh_mon.19790829.grb2\n",
      "processing /home/nicolasf/drives/auck_projects/END19101/Working/data/GCMs/downloads/hindcasts/JMA/JMA/Z500/p500_Phh_mon.19790913.grb2\n",
      "processing /home/nicolasf/drives/auck_projects/END19101/Working/data/GCMs/downloads/hindcasts/JMA/JMA/Z500/p500_Phh_mon.19790928.grb2\n",
      "processing /home/nicolasf/drives/auck_projects/END19101/Working/data/GCMs/downloads/hindcasts/JMA/JMA/Z500/p500_Phh_mon.19791013.grb2\n",
      "processing /home/nicolasf/drives/auck_projects/END19101/Working/data/GCMs/downloads/hindcasts/JMA/JMA/Z500/p500_Phh_mon.19791028.grb2\n",
      "processing /home/nicolasf/drives/auck_projects/END19101/Working/data/GCMs/downloads/hindcasts/JMA/JMA/Z500/p500_Phh_mon.19791112.grb2\n",
      "processing /home/nicolasf/drives/auck_projects/END19101/Working/data/GCMs/downloads/hindcasts/JMA/JMA/Z500/p500_Phh_mon.19791127.grb2\n",
      "processing /home/nicolasf/drives/auck_projects/END19101/Working/data/GCMs/downloads/hindcasts/JMA/JMA/Z500/p500_Phh_mon.19791212.grb2\n",
      "processing /home/nicolasf/drives/auck_projects/END19101/Working/data/GCMs/downloads/hindcasts/JMA/JMA/Z500/p500_Phh_mon.19791227.grb2\n",
      "processing /home/nicolasf/drives/auck_projects/END19101/Working/data/GCMs/downloads/hindcasts/JMA/JMA/Z500/p500_Phh_mon.19800116.grb2\n",
      "processing /home/nicolasf/drives/auck_projects/END19101/Working/data/GCMs/downloads/hindcasts/JMA/JMA/Z500/p500_Phh_mon.19800131.grb2\n",
      "processing /home/nicolasf/drives/auck_projects/END19101/Working/data/GCMs/downloads/hindcasts/JMA/JMA/Z500/p500_Phh_mon.19800210.grb2\n",
      "processing /home/nicolasf/drives/auck_projects/END19101/Working/data/GCMs/downloads/hindcasts/JMA/JMA/Z500/p500_Phh_mon.19800225.grb2\n",
      "processing /home/nicolasf/drives/auck_projects/END19101/Working/data/GCMs/downloads/hindcasts/JMA/JMA/Z500/p500_Phh_mon.19800312.grb2\n",
      "processing /home/nicolasf/drives/auck_projects/END19101/Working/data/GCMs/downloads/hindcasts/JMA/JMA/Z500/p500_Phh_mon.19800327.grb2\n",
      "processing /home/nicolasf/drives/auck_projects/END19101/Working/data/GCMs/downloads/hindcasts/JMA/JMA/Z500/p500_Phh_mon.19800411.grb2\n",
      "processing /home/nicolasf/drives/auck_projects/END19101/Working/data/GCMs/downloads/hindcasts/JMA/JMA/Z500/p500_Phh_mon.19800426.grb2\n",
      "processing /home/nicolasf/drives/auck_projects/END19101/Working/data/GCMs/downloads/hindcasts/JMA/JMA/Z500/p500_Phh_mon.19800516.grb2\n",
      "processing /home/nicolasf/drives/auck_projects/END19101/Working/data/GCMs/downloads/hindcasts/JMA/JMA/Z500/p500_Phh_mon.19800531.grb2\n",
      "processing /home/nicolasf/drives/auck_projects/END19101/Working/data/GCMs/downloads/hindcasts/JMA/JMA/Z500/p500_Phh_mon.19800615.grb2\n",
      "processing /home/nicolasf/drives/auck_projects/END19101/Working/data/GCMs/downloads/hindcasts/JMA/JMA/Z500/p500_Phh_mon.19800630.grb2\n",
      "processing /home/nicolasf/drives/auck_projects/END19101/Working/data/GCMs/downloads/hindcasts/JMA/JMA/Z500/p500_Phh_mon.19800715.grb2\n",
      "processing /home/nicolasf/drives/auck_projects/END19101/Working/data/GCMs/downloads/hindcasts/JMA/JMA/Z500/p500_Phh_mon.19800730.grb2\n",
      "processing /home/nicolasf/drives/auck_projects/END19101/Working/data/GCMs/downloads/hindcasts/JMA/JMA/Z500/p500_Phh_mon.19800814.grb2\n",
      "processing /home/nicolasf/drives/auck_projects/END19101/Working/data/GCMs/downloads/hindcasts/JMA/JMA/Z500/p500_Phh_mon.19800829.grb2\n",
      "processing /home/nicolasf/drives/auck_projects/END19101/Working/data/GCMs/downloads/hindcasts/JMA/JMA/Z500/p500_Phh_mon.19800913.grb2\n",
      "processing /home/nicolasf/drives/auck_projects/END19101/Working/data/GCMs/downloads/hindcasts/JMA/JMA/Z500/p500_Phh_mon.19800928.grb2\n",
      "processing /home/nicolasf/drives/auck_projects/END19101/Working/data/GCMs/downloads/hindcasts/JMA/JMA/Z500/p500_Phh_mon.19801013.grb2\n",
      "processing /home/nicolasf/drives/auck_projects/END19101/Working/data/GCMs/downloads/hindcasts/JMA/JMA/Z500/p500_Phh_mon.19801028.grb2\n",
      "processing /home/nicolasf/drives/auck_projects/END19101/Working/data/GCMs/downloads/hindcasts/JMA/JMA/Z500/p500_Phh_mon.19801112.grb2\n",
      "processing /home/nicolasf/drives/auck_projects/END19101/Working/data/GCMs/downloads/hindcasts/JMA/JMA/Z500/p500_Phh_mon.19801127.grb2\n",
      "processing /home/nicolasf/drives/auck_projects/END19101/Working/data/GCMs/downloads/hindcasts/JMA/JMA/Z500/p500_Phh_mon.19801212.grb2\n",
      "processing /home/nicolasf/drives/auck_projects/END19101/Working/data/GCMs/downloads/hindcasts/JMA/JMA/Z500/p500_Phh_mon.19801227.grb2\n",
      "processing /home/nicolasf/drives/auck_projects/END19101/Working/data/GCMs/downloads/hindcasts/JMA/JMA/Z500/p500_Phh_mon.19810116.grb2\n",
      "processing /home/nicolasf/drives/auck_projects/END19101/Working/data/GCMs/downloads/hindcasts/JMA/JMA/Z500/p500_Phh_mon.19810131.grb2\n",
      "processing /home/nicolasf/drives/auck_projects/END19101/Working/data/GCMs/downloads/hindcasts/JMA/JMA/Z500/p500_Phh_mon.19810210.grb2\n",
      "processing /home/nicolasf/drives/auck_projects/END19101/Working/data/GCMs/downloads/hindcasts/JMA/JMA/Z500/p500_Phh_mon.19810225.grb2\n",
      "processing /home/nicolasf/drives/auck_projects/END19101/Working/data/GCMs/downloads/hindcasts/JMA/JMA/Z500/p500_Phh_mon.19810312.grb2\n",
      "processing /home/nicolasf/drives/auck_projects/END19101/Working/data/GCMs/downloads/hindcasts/JMA/JMA/Z500/p500_Phh_mon.19810327.grb2\n",
      "processing /home/nicolasf/drives/auck_projects/END19101/Working/data/GCMs/downloads/hindcasts/JMA/JMA/Z500/p500_Phh_mon.19810411.grb2\n",
      "processing /home/nicolasf/drives/auck_projects/END19101/Working/data/GCMs/downloads/hindcasts/JMA/JMA/Z500/p500_Phh_mon.19810426.grb2\n",
      "processing /home/nicolasf/drives/auck_projects/END19101/Working/data/GCMs/downloads/hindcasts/JMA/JMA/Z500/p500_Phh_mon.19810516.grb2\n",
      "processing /home/nicolasf/drives/auck_projects/END19101/Working/data/GCMs/downloads/hindcasts/JMA/JMA/Z500/p500_Phh_mon.19810531.grb2\n",
      "processing /home/nicolasf/drives/auck_projects/END19101/Working/data/GCMs/downloads/hindcasts/JMA/JMA/Z500/p500_Phh_mon.19810615.grb2\n",
      "processing /home/nicolasf/drives/auck_projects/END19101/Working/data/GCMs/downloads/hindcasts/JMA/JMA/Z500/p500_Phh_mon.19810630.grb2\n",
      "processing /home/nicolasf/drives/auck_projects/END19101/Working/data/GCMs/downloads/hindcasts/JMA/JMA/Z500/p500_Phh_mon.19810715.grb2\n",
      "processing /home/nicolasf/drives/auck_projects/END19101/Working/data/GCMs/downloads/hindcasts/JMA/JMA/Z500/p500_Phh_mon.19810730.grb2\n",
      "processing /home/nicolasf/drives/auck_projects/END19101/Working/data/GCMs/downloads/hindcasts/JMA/JMA/Z500/p500_Phh_mon.19810814.grb2\n",
      "processing /home/nicolasf/drives/auck_projects/END19101/Working/data/GCMs/downloads/hindcasts/JMA/JMA/Z500/p500_Phh_mon.19810829.grb2\n",
      "processing /home/nicolasf/drives/auck_projects/END19101/Working/data/GCMs/downloads/hindcasts/JMA/JMA/Z500/p500_Phh_mon.19810913.grb2\n",
      "processing /home/nicolasf/drives/auck_projects/END19101/Working/data/GCMs/downloads/hindcasts/JMA/JMA/Z500/p500_Phh_mon.19810928.grb2\n",
      "processing /home/nicolasf/drives/auck_projects/END19101/Working/data/GCMs/downloads/hindcasts/JMA/JMA/Z500/p500_Phh_mon.19811013.grb2\n",
      "processing /home/nicolasf/drives/auck_projects/END19101/Working/data/GCMs/downloads/hindcasts/JMA/JMA/Z500/p500_Phh_mon.19811028.grb2\n",
      "processing /home/nicolasf/drives/auck_projects/END19101/Working/data/GCMs/downloads/hindcasts/JMA/JMA/Z500/p500_Phh_mon.19811112.grb2\n",
      "processing /home/nicolasf/drives/auck_projects/END19101/Working/data/GCMs/downloads/hindcasts/JMA/JMA/Z500/p500_Phh_mon.19811127.grb2\n",
      "processing /home/nicolasf/drives/auck_projects/END19101/Working/data/GCMs/downloads/hindcasts/JMA/JMA/Z500/p500_Phh_mon.19811212.grb2\n",
      "processing /home/nicolasf/drives/auck_projects/END19101/Working/data/GCMs/downloads/hindcasts/JMA/JMA/Z500/p500_Phh_mon.19811227.grb2\n",
      "processing /home/nicolasf/drives/auck_projects/END19101/Working/data/GCMs/downloads/hindcasts/JMA/JMA/Z500/p500_Phh_mon.19820116.grb2\n",
      "processing /home/nicolasf/drives/auck_projects/END19101/Working/data/GCMs/downloads/hindcasts/JMA/JMA/Z500/p500_Phh_mon.19820131.grb2\n",
      "processing /home/nicolasf/drives/auck_projects/END19101/Working/data/GCMs/downloads/hindcasts/JMA/JMA/Z500/p500_Phh_mon.19820210.grb2\n",
      "processing /home/nicolasf/drives/auck_projects/END19101/Working/data/GCMs/downloads/hindcasts/JMA/JMA/Z500/p500_Phh_mon.19820225.grb2\n",
      "processing /home/nicolasf/drives/auck_projects/END19101/Working/data/GCMs/downloads/hindcasts/JMA/JMA/Z500/p500_Phh_mon.19820312.grb2\n",
      "processing /home/nicolasf/drives/auck_projects/END19101/Working/data/GCMs/downloads/hindcasts/JMA/JMA/Z500/p500_Phh_mon.19820327.grb2\n",
      "processing /home/nicolasf/drives/auck_projects/END19101/Working/data/GCMs/downloads/hindcasts/JMA/JMA/Z500/p500_Phh_mon.19820411.grb2\n",
      "processing /home/nicolasf/drives/auck_projects/END19101/Working/data/GCMs/downloads/hindcasts/JMA/JMA/Z500/p500_Phh_mon.19820426.grb2\n",
      "processing /home/nicolasf/drives/auck_projects/END19101/Working/data/GCMs/downloads/hindcasts/JMA/JMA/Z500/p500_Phh_mon.19820516.grb2\n",
      "processing /home/nicolasf/drives/auck_projects/END19101/Working/data/GCMs/downloads/hindcasts/JMA/JMA/Z500/p500_Phh_mon.19820531.grb2\n",
      "processing /home/nicolasf/drives/auck_projects/END19101/Working/data/GCMs/downloads/hindcasts/JMA/JMA/Z500/p500_Phh_mon.19820615.grb2\n",
      "processing /home/nicolasf/drives/auck_projects/END19101/Working/data/GCMs/downloads/hindcasts/JMA/JMA/Z500/p500_Phh_mon.19820630.grb2\n",
      "processing /home/nicolasf/drives/auck_projects/END19101/Working/data/GCMs/downloads/hindcasts/JMA/JMA/Z500/p500_Phh_mon.19820715.grb2\n",
      "processing /home/nicolasf/drives/auck_projects/END19101/Working/data/GCMs/downloads/hindcasts/JMA/JMA/Z500/p500_Phh_mon.19820730.grb2\n",
      "processing /home/nicolasf/drives/auck_projects/END19101/Working/data/GCMs/downloads/hindcasts/JMA/JMA/Z500/p500_Phh_mon.19820814.grb2\n",
      "processing /home/nicolasf/drives/auck_projects/END19101/Working/data/GCMs/downloads/hindcasts/JMA/JMA/Z500/p500_Phh_mon.19820829.grb2\n",
      "processing /home/nicolasf/drives/auck_projects/END19101/Working/data/GCMs/downloads/hindcasts/JMA/JMA/Z500/p500_Phh_mon.19820913.grb2\n",
      "processing /home/nicolasf/drives/auck_projects/END19101/Working/data/GCMs/downloads/hindcasts/JMA/JMA/Z500/p500_Phh_mon.19820928.grb2\n",
      "processing /home/nicolasf/drives/auck_projects/END19101/Working/data/GCMs/downloads/hindcasts/JMA/JMA/Z500/p500_Phh_mon.19821013.grb2\n",
      "processing /home/nicolasf/drives/auck_projects/END19101/Working/data/GCMs/downloads/hindcasts/JMA/JMA/Z500/p500_Phh_mon.19821028.grb2\n",
      "processing /home/nicolasf/drives/auck_projects/END19101/Working/data/GCMs/downloads/hindcasts/JMA/JMA/Z500/p500_Phh_mon.19821112.grb2\n",
      "processing /home/nicolasf/drives/auck_projects/END19101/Working/data/GCMs/downloads/hindcasts/JMA/JMA/Z500/p500_Phh_mon.19821127.grb2\n",
      "processing /home/nicolasf/drives/auck_projects/END19101/Working/data/GCMs/downloads/hindcasts/JMA/JMA/Z500/p500_Phh_mon.19821212.grb2\n",
      "processing /home/nicolasf/drives/auck_projects/END19101/Working/data/GCMs/downloads/hindcasts/JMA/JMA/Z500/p500_Phh_mon.19821227.grb2\n",
      "processing /home/nicolasf/drives/auck_projects/END19101/Working/data/GCMs/downloads/hindcasts/JMA/JMA/Z500/p500_Phh_mon.19830116.grb2\n",
      "processing /home/nicolasf/drives/auck_projects/END19101/Working/data/GCMs/downloads/hindcasts/JMA/JMA/Z500/p500_Phh_mon.19830131.grb2\n",
      "processing /home/nicolasf/drives/auck_projects/END19101/Working/data/GCMs/downloads/hindcasts/JMA/JMA/Z500/p500_Phh_mon.19830210.grb2\n",
      "processing /home/nicolasf/drives/auck_projects/END19101/Working/data/GCMs/downloads/hindcasts/JMA/JMA/Z500/p500_Phh_mon.19830225.grb2\n",
      "processing /home/nicolasf/drives/auck_projects/END19101/Working/data/GCMs/downloads/hindcasts/JMA/JMA/Z500/p500_Phh_mon.19830312.grb2\n",
      "processing /home/nicolasf/drives/auck_projects/END19101/Working/data/GCMs/downloads/hindcasts/JMA/JMA/Z500/p500_Phh_mon.19830327.grb2\n",
      "processing /home/nicolasf/drives/auck_projects/END19101/Working/data/GCMs/downloads/hindcasts/JMA/JMA/Z500/p500_Phh_mon.19830411.grb2\n",
      "processing /home/nicolasf/drives/auck_projects/END19101/Working/data/GCMs/downloads/hindcasts/JMA/JMA/Z500/p500_Phh_mon.19830426.grb2\n",
      "processing /home/nicolasf/drives/auck_projects/END19101/Working/data/GCMs/downloads/hindcasts/JMA/JMA/Z500/p500_Phh_mon.19830516.grb2\n",
      "processing /home/nicolasf/drives/auck_projects/END19101/Working/data/GCMs/downloads/hindcasts/JMA/JMA/Z500/p500_Phh_mon.19830531.grb2\n",
      "processing /home/nicolasf/drives/auck_projects/END19101/Working/data/GCMs/downloads/hindcasts/JMA/JMA/Z500/p500_Phh_mon.19830615.grb2\n",
      "processing /home/nicolasf/drives/auck_projects/END19101/Working/data/GCMs/downloads/hindcasts/JMA/JMA/Z500/p500_Phh_mon.19830630.grb2\n",
      "processing /home/nicolasf/drives/auck_projects/END19101/Working/data/GCMs/downloads/hindcasts/JMA/JMA/Z500/p500_Phh_mon.19830715.grb2\n",
      "processing /home/nicolasf/drives/auck_projects/END19101/Working/data/GCMs/downloads/hindcasts/JMA/JMA/Z500/p500_Phh_mon.19830730.grb2\n",
      "processing /home/nicolasf/drives/auck_projects/END19101/Working/data/GCMs/downloads/hindcasts/JMA/JMA/Z500/p500_Phh_mon.19830814.grb2\n",
      "processing /home/nicolasf/drives/auck_projects/END19101/Working/data/GCMs/downloads/hindcasts/JMA/JMA/Z500/p500_Phh_mon.19830829.grb2\n",
      "processing /home/nicolasf/drives/auck_projects/END19101/Working/data/GCMs/downloads/hindcasts/JMA/JMA/Z500/p500_Phh_mon.19830913.grb2\n",
      "processing /home/nicolasf/drives/auck_projects/END19101/Working/data/GCMs/downloads/hindcasts/JMA/JMA/Z500/p500_Phh_mon.19830928.grb2\n",
      "processing /home/nicolasf/drives/auck_projects/END19101/Working/data/GCMs/downloads/hindcasts/JMA/JMA/Z500/p500_Phh_mon.19831013.grb2\n",
      "processing /home/nicolasf/drives/auck_projects/END19101/Working/data/GCMs/downloads/hindcasts/JMA/JMA/Z500/p500_Phh_mon.19831028.grb2\n",
      "processing /home/nicolasf/drives/auck_projects/END19101/Working/data/GCMs/downloads/hindcasts/JMA/JMA/Z500/p500_Phh_mon.19831112.grb2\n",
      "processing /home/nicolasf/drives/auck_projects/END19101/Working/data/GCMs/downloads/hindcasts/JMA/JMA/Z500/p500_Phh_mon.19831127.grb2\n",
      "processing /home/nicolasf/drives/auck_projects/END19101/Working/data/GCMs/downloads/hindcasts/JMA/JMA/Z500/p500_Phh_mon.19831212.grb2\n",
      "processing /home/nicolasf/drives/auck_projects/END19101/Working/data/GCMs/downloads/hindcasts/JMA/JMA/Z500/p500_Phh_mon.19831227.grb2\n",
      "processing /home/nicolasf/drives/auck_projects/END19101/Working/data/GCMs/downloads/hindcasts/JMA/JMA/Z500/p500_Phh_mon.19840116.grb2\n",
      "processing /home/nicolasf/drives/auck_projects/END19101/Working/data/GCMs/downloads/hindcasts/JMA/JMA/Z500/p500_Phh_mon.19840131.grb2\n",
      "processing /home/nicolasf/drives/auck_projects/END19101/Working/data/GCMs/downloads/hindcasts/JMA/JMA/Z500/p500_Phh_mon.19840210.grb2\n",
      "processing /home/nicolasf/drives/auck_projects/END19101/Working/data/GCMs/downloads/hindcasts/JMA/JMA/Z500/p500_Phh_mon.19840225.grb2\n",
      "processing /home/nicolasf/drives/auck_projects/END19101/Working/data/GCMs/downloads/hindcasts/JMA/JMA/Z500/p500_Phh_mon.19840312.grb2\n",
      "processing /home/nicolasf/drives/auck_projects/END19101/Working/data/GCMs/downloads/hindcasts/JMA/JMA/Z500/p500_Phh_mon.19840327.grb2\n",
      "processing /home/nicolasf/drives/auck_projects/END19101/Working/data/GCMs/downloads/hindcasts/JMA/JMA/Z500/p500_Phh_mon.19840411.grb2\n",
      "processing /home/nicolasf/drives/auck_projects/END19101/Working/data/GCMs/downloads/hindcasts/JMA/JMA/Z500/p500_Phh_mon.19840426.grb2\n",
      "processing /home/nicolasf/drives/auck_projects/END19101/Working/data/GCMs/downloads/hindcasts/JMA/JMA/Z500/p500_Phh_mon.19840516.grb2\n",
      "processing /home/nicolasf/drives/auck_projects/END19101/Working/data/GCMs/downloads/hindcasts/JMA/JMA/Z500/p500_Phh_mon.19840531.grb2\n",
      "processing /home/nicolasf/drives/auck_projects/END19101/Working/data/GCMs/downloads/hindcasts/JMA/JMA/Z500/p500_Phh_mon.19840615.grb2\n",
      "processing /home/nicolasf/drives/auck_projects/END19101/Working/data/GCMs/downloads/hindcasts/JMA/JMA/Z500/p500_Phh_mon.19840630.grb2\n",
      "processing /home/nicolasf/drives/auck_projects/END19101/Working/data/GCMs/downloads/hindcasts/JMA/JMA/Z500/p500_Phh_mon.19840715.grb2\n",
      "processing /home/nicolasf/drives/auck_projects/END19101/Working/data/GCMs/downloads/hindcasts/JMA/JMA/Z500/p500_Phh_mon.19840730.grb2\n",
      "processing /home/nicolasf/drives/auck_projects/END19101/Working/data/GCMs/downloads/hindcasts/JMA/JMA/Z500/p500_Phh_mon.19840814.grb2\n",
      "processing /home/nicolasf/drives/auck_projects/END19101/Working/data/GCMs/downloads/hindcasts/JMA/JMA/Z500/p500_Phh_mon.19840829.grb2\n",
      "processing /home/nicolasf/drives/auck_projects/END19101/Working/data/GCMs/downloads/hindcasts/JMA/JMA/Z500/p500_Phh_mon.19840913.grb2\n",
      "processing /home/nicolasf/drives/auck_projects/END19101/Working/data/GCMs/downloads/hindcasts/JMA/JMA/Z500/p500_Phh_mon.19840928.grb2\n",
      "processing /home/nicolasf/drives/auck_projects/END19101/Working/data/GCMs/downloads/hindcasts/JMA/JMA/Z500/p500_Phh_mon.19841013.grb2\n",
      "processing /home/nicolasf/drives/auck_projects/END19101/Working/data/GCMs/downloads/hindcasts/JMA/JMA/Z500/p500_Phh_mon.19841028.grb2\n",
      "processing /home/nicolasf/drives/auck_projects/END19101/Working/data/GCMs/downloads/hindcasts/JMA/JMA/Z500/p500_Phh_mon.19841112.grb2\n",
      "processing /home/nicolasf/drives/auck_projects/END19101/Working/data/GCMs/downloads/hindcasts/JMA/JMA/Z500/p500_Phh_mon.19841127.grb2\n",
      "processing /home/nicolasf/drives/auck_projects/END19101/Working/data/GCMs/downloads/hindcasts/JMA/JMA/Z500/p500_Phh_mon.19841212.grb2\n",
      "processing /home/nicolasf/drives/auck_projects/END19101/Working/data/GCMs/downloads/hindcasts/JMA/JMA/Z500/p500_Phh_mon.19841227.grb2\n",
      "processing /home/nicolasf/drives/auck_projects/END19101/Working/data/GCMs/downloads/hindcasts/JMA/JMA/Z500/p500_Phh_mon.19850116.grb2\n",
      "processing /home/nicolasf/drives/auck_projects/END19101/Working/data/GCMs/downloads/hindcasts/JMA/JMA/Z500/p500_Phh_mon.19850131.grb2\n",
      "processing /home/nicolasf/drives/auck_projects/END19101/Working/data/GCMs/downloads/hindcasts/JMA/JMA/Z500/p500_Phh_mon.19850210.grb2\n",
      "processing /home/nicolasf/drives/auck_projects/END19101/Working/data/GCMs/downloads/hindcasts/JMA/JMA/Z500/p500_Phh_mon.19850225.grb2\n",
      "processing /home/nicolasf/drives/auck_projects/END19101/Working/data/GCMs/downloads/hindcasts/JMA/JMA/Z500/p500_Phh_mon.19850312.grb2\n",
      "processing /home/nicolasf/drives/auck_projects/END19101/Working/data/GCMs/downloads/hindcasts/JMA/JMA/Z500/p500_Phh_mon.19850327.grb2\n",
      "processing /home/nicolasf/drives/auck_projects/END19101/Working/data/GCMs/downloads/hindcasts/JMA/JMA/Z500/p500_Phh_mon.19850411.grb2\n",
      "processing /home/nicolasf/drives/auck_projects/END19101/Working/data/GCMs/downloads/hindcasts/JMA/JMA/Z500/p500_Phh_mon.19850426.grb2\n",
      "processing /home/nicolasf/drives/auck_projects/END19101/Working/data/GCMs/downloads/hindcasts/JMA/JMA/Z500/p500_Phh_mon.19850516.grb2\n",
      "processing /home/nicolasf/drives/auck_projects/END19101/Working/data/GCMs/downloads/hindcasts/JMA/JMA/Z500/p500_Phh_mon.19850531.grb2\n",
      "processing /home/nicolasf/drives/auck_projects/END19101/Working/data/GCMs/downloads/hindcasts/JMA/JMA/Z500/p500_Phh_mon.19850615.grb2\n",
      "processing /home/nicolasf/drives/auck_projects/END19101/Working/data/GCMs/downloads/hindcasts/JMA/JMA/Z500/p500_Phh_mon.19850630.grb2\n",
      "processing /home/nicolasf/drives/auck_projects/END19101/Working/data/GCMs/downloads/hindcasts/JMA/JMA/Z500/p500_Phh_mon.19850715.grb2\n",
      "processing /home/nicolasf/drives/auck_projects/END19101/Working/data/GCMs/downloads/hindcasts/JMA/JMA/Z500/p500_Phh_mon.19850730.grb2\n",
      "processing /home/nicolasf/drives/auck_projects/END19101/Working/data/GCMs/downloads/hindcasts/JMA/JMA/Z500/p500_Phh_mon.19850814.grb2\n",
      "processing /home/nicolasf/drives/auck_projects/END19101/Working/data/GCMs/downloads/hindcasts/JMA/JMA/Z500/p500_Phh_mon.19850829.grb2\n",
      "processing /home/nicolasf/drives/auck_projects/END19101/Working/data/GCMs/downloads/hindcasts/JMA/JMA/Z500/p500_Phh_mon.19850913.grb2\n",
      "processing /home/nicolasf/drives/auck_projects/END19101/Working/data/GCMs/downloads/hindcasts/JMA/JMA/Z500/p500_Phh_mon.19850928.grb2\n",
      "processing /home/nicolasf/drives/auck_projects/END19101/Working/data/GCMs/downloads/hindcasts/JMA/JMA/Z500/p500_Phh_mon.19851013.grb2\n",
      "processing /home/nicolasf/drives/auck_projects/END19101/Working/data/GCMs/downloads/hindcasts/JMA/JMA/Z500/p500_Phh_mon.19851028.grb2\n",
      "processing /home/nicolasf/drives/auck_projects/END19101/Working/data/GCMs/downloads/hindcasts/JMA/JMA/Z500/p500_Phh_mon.19851112.grb2\n",
      "processing /home/nicolasf/drives/auck_projects/END19101/Working/data/GCMs/downloads/hindcasts/JMA/JMA/Z500/p500_Phh_mon.19851127.grb2\n",
      "processing /home/nicolasf/drives/auck_projects/END19101/Working/data/GCMs/downloads/hindcasts/JMA/JMA/Z500/p500_Phh_mon.19851212.grb2\n",
      "processing /home/nicolasf/drives/auck_projects/END19101/Working/data/GCMs/downloads/hindcasts/JMA/JMA/Z500/p500_Phh_mon.19851227.grb2\n",
      "processing /home/nicolasf/drives/auck_projects/END19101/Working/data/GCMs/downloads/hindcasts/JMA/JMA/Z500/p500_Phh_mon.19860116.grb2\n",
      "processing /home/nicolasf/drives/auck_projects/END19101/Working/data/GCMs/downloads/hindcasts/JMA/JMA/Z500/p500_Phh_mon.19860131.grb2\n",
      "processing /home/nicolasf/drives/auck_projects/END19101/Working/data/GCMs/downloads/hindcasts/JMA/JMA/Z500/p500_Phh_mon.19860210.grb2\n",
      "processing /home/nicolasf/drives/auck_projects/END19101/Working/data/GCMs/downloads/hindcasts/JMA/JMA/Z500/p500_Phh_mon.19860225.grb2\n",
      "processing /home/nicolasf/drives/auck_projects/END19101/Working/data/GCMs/downloads/hindcasts/JMA/JMA/Z500/p500_Phh_mon.19860312.grb2\n",
      "processing /home/nicolasf/drives/auck_projects/END19101/Working/data/GCMs/downloads/hindcasts/JMA/JMA/Z500/p500_Phh_mon.19860327.grb2\n",
      "processing /home/nicolasf/drives/auck_projects/END19101/Working/data/GCMs/downloads/hindcasts/JMA/JMA/Z500/p500_Phh_mon.19860411.grb2\n",
      "processing /home/nicolasf/drives/auck_projects/END19101/Working/data/GCMs/downloads/hindcasts/JMA/JMA/Z500/p500_Phh_mon.19860426.grb2\n",
      "processing /home/nicolasf/drives/auck_projects/END19101/Working/data/GCMs/downloads/hindcasts/JMA/JMA/Z500/p500_Phh_mon.19860516.grb2\n",
      "processing /home/nicolasf/drives/auck_projects/END19101/Working/data/GCMs/downloads/hindcasts/JMA/JMA/Z500/p500_Phh_mon.19860531.grb2\n",
      "processing /home/nicolasf/drives/auck_projects/END19101/Working/data/GCMs/downloads/hindcasts/JMA/JMA/Z500/p500_Phh_mon.19860615.grb2\n",
      "processing /home/nicolasf/drives/auck_projects/END19101/Working/data/GCMs/downloads/hindcasts/JMA/JMA/Z500/p500_Phh_mon.19860630.grb2\n",
      "processing /home/nicolasf/drives/auck_projects/END19101/Working/data/GCMs/downloads/hindcasts/JMA/JMA/Z500/p500_Phh_mon.19860715.grb2\n",
      "processing /home/nicolasf/drives/auck_projects/END19101/Working/data/GCMs/downloads/hindcasts/JMA/JMA/Z500/p500_Phh_mon.19860730.grb2\n",
      "processing /home/nicolasf/drives/auck_projects/END19101/Working/data/GCMs/downloads/hindcasts/JMA/JMA/Z500/p500_Phh_mon.19860814.grb2\n",
      "processing /home/nicolasf/drives/auck_projects/END19101/Working/data/GCMs/downloads/hindcasts/JMA/JMA/Z500/p500_Phh_mon.19860829.grb2\n",
      "processing /home/nicolasf/drives/auck_projects/END19101/Working/data/GCMs/downloads/hindcasts/JMA/JMA/Z500/p500_Phh_mon.19860913.grb2\n",
      "processing /home/nicolasf/drives/auck_projects/END19101/Working/data/GCMs/downloads/hindcasts/JMA/JMA/Z500/p500_Phh_mon.19860928.grb2\n",
      "processing /home/nicolasf/drives/auck_projects/END19101/Working/data/GCMs/downloads/hindcasts/JMA/JMA/Z500/p500_Phh_mon.19861013.grb2\n",
      "processing /home/nicolasf/drives/auck_projects/END19101/Working/data/GCMs/downloads/hindcasts/JMA/JMA/Z500/p500_Phh_mon.19861028.grb2\n",
      "processing /home/nicolasf/drives/auck_projects/END19101/Working/data/GCMs/downloads/hindcasts/JMA/JMA/Z500/p500_Phh_mon.19861112.grb2\n",
      "processing /home/nicolasf/drives/auck_projects/END19101/Working/data/GCMs/downloads/hindcasts/JMA/JMA/Z500/p500_Phh_mon.19861127.grb2\n",
      "processing /home/nicolasf/drives/auck_projects/END19101/Working/data/GCMs/downloads/hindcasts/JMA/JMA/Z500/p500_Phh_mon.19861212.grb2\n",
      "processing /home/nicolasf/drives/auck_projects/END19101/Working/data/GCMs/downloads/hindcasts/JMA/JMA/Z500/p500_Phh_mon.19861227.grb2\n",
      "processing /home/nicolasf/drives/auck_projects/END19101/Working/data/GCMs/downloads/hindcasts/JMA/JMA/Z500/p500_Phh_mon.19870116.grb2\n",
      "processing /home/nicolasf/drives/auck_projects/END19101/Working/data/GCMs/downloads/hindcasts/JMA/JMA/Z500/p500_Phh_mon.19870131.grb2\n",
      "processing /home/nicolasf/drives/auck_projects/END19101/Working/data/GCMs/downloads/hindcasts/JMA/JMA/Z500/p500_Phh_mon.19870210.grb2\n",
      "processing /home/nicolasf/drives/auck_projects/END19101/Working/data/GCMs/downloads/hindcasts/JMA/JMA/Z500/p500_Phh_mon.19870225.grb2\n",
      "processing /home/nicolasf/drives/auck_projects/END19101/Working/data/GCMs/downloads/hindcasts/JMA/JMA/Z500/p500_Phh_mon.19870312.grb2\n",
      "processing /home/nicolasf/drives/auck_projects/END19101/Working/data/GCMs/downloads/hindcasts/JMA/JMA/Z500/p500_Phh_mon.19870327.grb2\n",
      "processing /home/nicolasf/drives/auck_projects/END19101/Working/data/GCMs/downloads/hindcasts/JMA/JMA/Z500/p500_Phh_mon.19870411.grb2\n",
      "processing /home/nicolasf/drives/auck_projects/END19101/Working/data/GCMs/downloads/hindcasts/JMA/JMA/Z500/p500_Phh_mon.19870426.grb2\n",
      "processing /home/nicolasf/drives/auck_projects/END19101/Working/data/GCMs/downloads/hindcasts/JMA/JMA/Z500/p500_Phh_mon.19870516.grb2\n",
      "processing /home/nicolasf/drives/auck_projects/END19101/Working/data/GCMs/downloads/hindcasts/JMA/JMA/Z500/p500_Phh_mon.19870531.grb2\n",
      "processing /home/nicolasf/drives/auck_projects/END19101/Working/data/GCMs/downloads/hindcasts/JMA/JMA/Z500/p500_Phh_mon.19870615.grb2\n",
      "processing /home/nicolasf/drives/auck_projects/END19101/Working/data/GCMs/downloads/hindcasts/JMA/JMA/Z500/p500_Phh_mon.19870630.grb2\n",
      "processing /home/nicolasf/drives/auck_projects/END19101/Working/data/GCMs/downloads/hindcasts/JMA/JMA/Z500/p500_Phh_mon.19870715.grb2\n",
      "processing /home/nicolasf/drives/auck_projects/END19101/Working/data/GCMs/downloads/hindcasts/JMA/JMA/Z500/p500_Phh_mon.19870730.grb2\n",
      "processing /home/nicolasf/drives/auck_projects/END19101/Working/data/GCMs/downloads/hindcasts/JMA/JMA/Z500/p500_Phh_mon.19870814.grb2\n",
      "processing /home/nicolasf/drives/auck_projects/END19101/Working/data/GCMs/downloads/hindcasts/JMA/JMA/Z500/p500_Phh_mon.19870829.grb2\n",
      "processing /home/nicolasf/drives/auck_projects/END19101/Working/data/GCMs/downloads/hindcasts/JMA/JMA/Z500/p500_Phh_mon.19870913.grb2\n",
      "processing /home/nicolasf/drives/auck_projects/END19101/Working/data/GCMs/downloads/hindcasts/JMA/JMA/Z500/p500_Phh_mon.19870928.grb2\n",
      "processing /home/nicolasf/drives/auck_projects/END19101/Working/data/GCMs/downloads/hindcasts/JMA/JMA/Z500/p500_Phh_mon.19871013.grb2\n",
      "processing /home/nicolasf/drives/auck_projects/END19101/Working/data/GCMs/downloads/hindcasts/JMA/JMA/Z500/p500_Phh_mon.19871028.grb2\n",
      "processing /home/nicolasf/drives/auck_projects/END19101/Working/data/GCMs/downloads/hindcasts/JMA/JMA/Z500/p500_Phh_mon.19871112.grb2\n",
      "processing /home/nicolasf/drives/auck_projects/END19101/Working/data/GCMs/downloads/hindcasts/JMA/JMA/Z500/p500_Phh_mon.19871127.grb2\n",
      "processing /home/nicolasf/drives/auck_projects/END19101/Working/data/GCMs/downloads/hindcasts/JMA/JMA/Z500/p500_Phh_mon.19871212.grb2\n",
      "processing /home/nicolasf/drives/auck_projects/END19101/Working/data/GCMs/downloads/hindcasts/JMA/JMA/Z500/p500_Phh_mon.19871227.grb2\n",
      "processing /home/nicolasf/drives/auck_projects/END19101/Working/data/GCMs/downloads/hindcasts/JMA/JMA/Z500/p500_Phh_mon.19880116.grb2\n",
      "processing /home/nicolasf/drives/auck_projects/END19101/Working/data/GCMs/downloads/hindcasts/JMA/JMA/Z500/p500_Phh_mon.19880131.grb2\n",
      "processing /home/nicolasf/drives/auck_projects/END19101/Working/data/GCMs/downloads/hindcasts/JMA/JMA/Z500/p500_Phh_mon.19880210.grb2\n",
      "processing /home/nicolasf/drives/auck_projects/END19101/Working/data/GCMs/downloads/hindcasts/JMA/JMA/Z500/p500_Phh_mon.19880225.grb2\n",
      "processing /home/nicolasf/drives/auck_projects/END19101/Working/data/GCMs/downloads/hindcasts/JMA/JMA/Z500/p500_Phh_mon.19880312.grb2\n",
      "processing /home/nicolasf/drives/auck_projects/END19101/Working/data/GCMs/downloads/hindcasts/JMA/JMA/Z500/p500_Phh_mon.19880327.grb2\n",
      "processing /home/nicolasf/drives/auck_projects/END19101/Working/data/GCMs/downloads/hindcasts/JMA/JMA/Z500/p500_Phh_mon.19880411.grb2\n",
      "processing /home/nicolasf/drives/auck_projects/END19101/Working/data/GCMs/downloads/hindcasts/JMA/JMA/Z500/p500_Phh_mon.19880426.grb2\n",
      "processing /home/nicolasf/drives/auck_projects/END19101/Working/data/GCMs/downloads/hindcasts/JMA/JMA/Z500/p500_Phh_mon.19880516.grb2\n",
      "processing /home/nicolasf/drives/auck_projects/END19101/Working/data/GCMs/downloads/hindcasts/JMA/JMA/Z500/p500_Phh_mon.19880531.grb2\n",
      "processing /home/nicolasf/drives/auck_projects/END19101/Working/data/GCMs/downloads/hindcasts/JMA/JMA/Z500/p500_Phh_mon.19880615.grb2\n",
      "processing /home/nicolasf/drives/auck_projects/END19101/Working/data/GCMs/downloads/hindcasts/JMA/JMA/Z500/p500_Phh_mon.19880630.grb2\n",
      "processing /home/nicolasf/drives/auck_projects/END19101/Working/data/GCMs/downloads/hindcasts/JMA/JMA/Z500/p500_Phh_mon.19880715.grb2\n",
      "processing /home/nicolasf/drives/auck_projects/END19101/Working/data/GCMs/downloads/hindcasts/JMA/JMA/Z500/p500_Phh_mon.19880730.grb2\n",
      "processing /home/nicolasf/drives/auck_projects/END19101/Working/data/GCMs/downloads/hindcasts/JMA/JMA/Z500/p500_Phh_mon.19880814.grb2\n",
      "processing /home/nicolasf/drives/auck_projects/END19101/Working/data/GCMs/downloads/hindcasts/JMA/JMA/Z500/p500_Phh_mon.19880829.grb2\n",
      "processing /home/nicolasf/drives/auck_projects/END19101/Working/data/GCMs/downloads/hindcasts/JMA/JMA/Z500/p500_Phh_mon.19880913.grb2\n",
      "processing /home/nicolasf/drives/auck_projects/END19101/Working/data/GCMs/downloads/hindcasts/JMA/JMA/Z500/p500_Phh_mon.19880928.grb2\n",
      "processing /home/nicolasf/drives/auck_projects/END19101/Working/data/GCMs/downloads/hindcasts/JMA/JMA/Z500/p500_Phh_mon.19881013.grb2\n",
      "processing /home/nicolasf/drives/auck_projects/END19101/Working/data/GCMs/downloads/hindcasts/JMA/JMA/Z500/p500_Phh_mon.19881028.grb2\n",
      "processing /home/nicolasf/drives/auck_projects/END19101/Working/data/GCMs/downloads/hindcasts/JMA/JMA/Z500/p500_Phh_mon.19881112.grb2\n",
      "processing /home/nicolasf/drives/auck_projects/END19101/Working/data/GCMs/downloads/hindcasts/JMA/JMA/Z500/p500_Phh_mon.19881127.grb2\n",
      "processing /home/nicolasf/drives/auck_projects/END19101/Working/data/GCMs/downloads/hindcasts/JMA/JMA/Z500/p500_Phh_mon.19881212.grb2\n",
      "processing /home/nicolasf/drives/auck_projects/END19101/Working/data/GCMs/downloads/hindcasts/JMA/JMA/Z500/p500_Phh_mon.19881227.grb2\n",
      "processing /home/nicolasf/drives/auck_projects/END19101/Working/data/GCMs/downloads/hindcasts/JMA/JMA/Z500/p500_Phh_mon.19890116.grb2\n",
      "processing /home/nicolasf/drives/auck_projects/END19101/Working/data/GCMs/downloads/hindcasts/JMA/JMA/Z500/p500_Phh_mon.19890131.grb2\n",
      "processing /home/nicolasf/drives/auck_projects/END19101/Working/data/GCMs/downloads/hindcasts/JMA/JMA/Z500/p500_Phh_mon.19890210.grb2\n",
      "processing /home/nicolasf/drives/auck_projects/END19101/Working/data/GCMs/downloads/hindcasts/JMA/JMA/Z500/p500_Phh_mon.19890225.grb2\n",
      "processing /home/nicolasf/drives/auck_projects/END19101/Working/data/GCMs/downloads/hindcasts/JMA/JMA/Z500/p500_Phh_mon.19890312.grb2\n",
      "processing /home/nicolasf/drives/auck_projects/END19101/Working/data/GCMs/downloads/hindcasts/JMA/JMA/Z500/p500_Phh_mon.19890327.grb2\n",
      "processing /home/nicolasf/drives/auck_projects/END19101/Working/data/GCMs/downloads/hindcasts/JMA/JMA/Z500/p500_Phh_mon.19890411.grb2\n",
      "processing /home/nicolasf/drives/auck_projects/END19101/Working/data/GCMs/downloads/hindcasts/JMA/JMA/Z500/p500_Phh_mon.19890426.grb2\n",
      "processing /home/nicolasf/drives/auck_projects/END19101/Working/data/GCMs/downloads/hindcasts/JMA/JMA/Z500/p500_Phh_mon.19890516.grb2\n",
      "processing /home/nicolasf/drives/auck_projects/END19101/Working/data/GCMs/downloads/hindcasts/JMA/JMA/Z500/p500_Phh_mon.19890531.grb2\n",
      "processing /home/nicolasf/drives/auck_projects/END19101/Working/data/GCMs/downloads/hindcasts/JMA/JMA/Z500/p500_Phh_mon.19890615.grb2\n",
      "processing /home/nicolasf/drives/auck_projects/END19101/Working/data/GCMs/downloads/hindcasts/JMA/JMA/Z500/p500_Phh_mon.19890630.grb2\n",
      "processing /home/nicolasf/drives/auck_projects/END19101/Working/data/GCMs/downloads/hindcasts/JMA/JMA/Z500/p500_Phh_mon.19890715.grb2\n",
      "processing /home/nicolasf/drives/auck_projects/END19101/Working/data/GCMs/downloads/hindcasts/JMA/JMA/Z500/p500_Phh_mon.19890730.grb2\n",
      "processing /home/nicolasf/drives/auck_projects/END19101/Working/data/GCMs/downloads/hindcasts/JMA/JMA/Z500/p500_Phh_mon.19890814.grb2\n",
      "processing /home/nicolasf/drives/auck_projects/END19101/Working/data/GCMs/downloads/hindcasts/JMA/JMA/Z500/p500_Phh_mon.19890829.grb2\n",
      "processing /home/nicolasf/drives/auck_projects/END19101/Working/data/GCMs/downloads/hindcasts/JMA/JMA/Z500/p500_Phh_mon.19890913.grb2\n",
      "processing /home/nicolasf/drives/auck_projects/END19101/Working/data/GCMs/downloads/hindcasts/JMA/JMA/Z500/p500_Phh_mon.19890928.grb2\n",
      "processing /home/nicolasf/drives/auck_projects/END19101/Working/data/GCMs/downloads/hindcasts/JMA/JMA/Z500/p500_Phh_mon.19891013.grb2\n",
      "processing /home/nicolasf/drives/auck_projects/END19101/Working/data/GCMs/downloads/hindcasts/JMA/JMA/Z500/p500_Phh_mon.19891028.grb2\n",
      "processing /home/nicolasf/drives/auck_projects/END19101/Working/data/GCMs/downloads/hindcasts/JMA/JMA/Z500/p500_Phh_mon.19891112.grb2\n",
      "processing /home/nicolasf/drives/auck_projects/END19101/Working/data/GCMs/downloads/hindcasts/JMA/JMA/Z500/p500_Phh_mon.19891127.grb2\n",
      "processing /home/nicolasf/drives/auck_projects/END19101/Working/data/GCMs/downloads/hindcasts/JMA/JMA/Z500/p500_Phh_mon.19891212.grb2\n",
      "processing /home/nicolasf/drives/auck_projects/END19101/Working/data/GCMs/downloads/hindcasts/JMA/JMA/Z500/p500_Phh_mon.19891227.grb2\n",
      "processing /home/nicolasf/drives/auck_projects/END19101/Working/data/GCMs/downloads/hindcasts/JMA/JMA/Z500/p500_Phh_mon.19900116.grb2\n",
      "processing /home/nicolasf/drives/auck_projects/END19101/Working/data/GCMs/downloads/hindcasts/JMA/JMA/Z500/p500_Phh_mon.19900131.grb2\n",
      "processing /home/nicolasf/drives/auck_projects/END19101/Working/data/GCMs/downloads/hindcasts/JMA/JMA/Z500/p500_Phh_mon.19900210.grb2\n",
      "processing /home/nicolasf/drives/auck_projects/END19101/Working/data/GCMs/downloads/hindcasts/JMA/JMA/Z500/p500_Phh_mon.19900225.grb2\n",
      "processing /home/nicolasf/drives/auck_projects/END19101/Working/data/GCMs/downloads/hindcasts/JMA/JMA/Z500/p500_Phh_mon.19900312.grb2\n",
      "processing /home/nicolasf/drives/auck_projects/END19101/Working/data/GCMs/downloads/hindcasts/JMA/JMA/Z500/p500_Phh_mon.19900327.grb2\n",
      "processing /home/nicolasf/drives/auck_projects/END19101/Working/data/GCMs/downloads/hindcasts/JMA/JMA/Z500/p500_Phh_mon.19900411.grb2\n",
      "processing /home/nicolasf/drives/auck_projects/END19101/Working/data/GCMs/downloads/hindcasts/JMA/JMA/Z500/p500_Phh_mon.19900426.grb2\n",
      "processing /home/nicolasf/drives/auck_projects/END19101/Working/data/GCMs/downloads/hindcasts/JMA/JMA/Z500/p500_Phh_mon.19900516.grb2\n",
      "processing /home/nicolasf/drives/auck_projects/END19101/Working/data/GCMs/downloads/hindcasts/JMA/JMA/Z500/p500_Phh_mon.19900531.grb2\n",
      "processing /home/nicolasf/drives/auck_projects/END19101/Working/data/GCMs/downloads/hindcasts/JMA/JMA/Z500/p500_Phh_mon.19900615.grb2\n",
      "processing /home/nicolasf/drives/auck_projects/END19101/Working/data/GCMs/downloads/hindcasts/JMA/JMA/Z500/p500_Phh_mon.19900630.grb2\n",
      "processing /home/nicolasf/drives/auck_projects/END19101/Working/data/GCMs/downloads/hindcasts/JMA/JMA/Z500/p500_Phh_mon.19900715.grb2\n",
      "processing /home/nicolasf/drives/auck_projects/END19101/Working/data/GCMs/downloads/hindcasts/JMA/JMA/Z500/p500_Phh_mon.19900730.grb2\n",
      "processing /home/nicolasf/drives/auck_projects/END19101/Working/data/GCMs/downloads/hindcasts/JMA/JMA/Z500/p500_Phh_mon.19900814.grb2\n",
      "processing /home/nicolasf/drives/auck_projects/END19101/Working/data/GCMs/downloads/hindcasts/JMA/JMA/Z500/p500_Phh_mon.19900829.grb2\n",
      "processing /home/nicolasf/drives/auck_projects/END19101/Working/data/GCMs/downloads/hindcasts/JMA/JMA/Z500/p500_Phh_mon.19900913.grb2\n",
      "processing /home/nicolasf/drives/auck_projects/END19101/Working/data/GCMs/downloads/hindcasts/JMA/JMA/Z500/p500_Phh_mon.19900928.grb2\n",
      "processing /home/nicolasf/drives/auck_projects/END19101/Working/data/GCMs/downloads/hindcasts/JMA/JMA/Z500/p500_Phh_mon.19901013.grb2\n",
      "processing /home/nicolasf/drives/auck_projects/END19101/Working/data/GCMs/downloads/hindcasts/JMA/JMA/Z500/p500_Phh_mon.19901028.grb2\n",
      "processing /home/nicolasf/drives/auck_projects/END19101/Working/data/GCMs/downloads/hindcasts/JMA/JMA/Z500/p500_Phh_mon.19901112.grb2\n",
      "processing /home/nicolasf/drives/auck_projects/END19101/Working/data/GCMs/downloads/hindcasts/JMA/JMA/Z500/p500_Phh_mon.19901127.grb2\n",
      "processing /home/nicolasf/drives/auck_projects/END19101/Working/data/GCMs/downloads/hindcasts/JMA/JMA/Z500/p500_Phh_mon.19901212.grb2\n",
      "processing /home/nicolasf/drives/auck_projects/END19101/Working/data/GCMs/downloads/hindcasts/JMA/JMA/Z500/p500_Phh_mon.19901227.grb2\n",
      "processing /home/nicolasf/drives/auck_projects/END19101/Working/data/GCMs/downloads/hindcasts/JMA/JMA/Z500/p500_Phh_mon.19910116.grb2\n",
      "processing /home/nicolasf/drives/auck_projects/END19101/Working/data/GCMs/downloads/hindcasts/JMA/JMA/Z500/p500_Phh_mon.19910131.grb2\n",
      "processing /home/nicolasf/drives/auck_projects/END19101/Working/data/GCMs/downloads/hindcasts/JMA/JMA/Z500/p500_Phh_mon.19910210.grb2\n",
      "processing /home/nicolasf/drives/auck_projects/END19101/Working/data/GCMs/downloads/hindcasts/JMA/JMA/Z500/p500_Phh_mon.19910225.grb2\n",
      "processing /home/nicolasf/drives/auck_projects/END19101/Working/data/GCMs/downloads/hindcasts/JMA/JMA/Z500/p500_Phh_mon.19910312.grb2\n",
      "processing /home/nicolasf/drives/auck_projects/END19101/Working/data/GCMs/downloads/hindcasts/JMA/JMA/Z500/p500_Phh_mon.19910327.grb2\n",
      "processing /home/nicolasf/drives/auck_projects/END19101/Working/data/GCMs/downloads/hindcasts/JMA/JMA/Z500/p500_Phh_mon.19910411.grb2\n",
      "processing /home/nicolasf/drives/auck_projects/END19101/Working/data/GCMs/downloads/hindcasts/JMA/JMA/Z500/p500_Phh_mon.19910426.grb2\n",
      "processing /home/nicolasf/drives/auck_projects/END19101/Working/data/GCMs/downloads/hindcasts/JMA/JMA/Z500/p500_Phh_mon.19910516.grb2\n",
      "processing /home/nicolasf/drives/auck_projects/END19101/Working/data/GCMs/downloads/hindcasts/JMA/JMA/Z500/p500_Phh_mon.19910531.grb2\n",
      "processing /home/nicolasf/drives/auck_projects/END19101/Working/data/GCMs/downloads/hindcasts/JMA/JMA/Z500/p500_Phh_mon.19910615.grb2\n",
      "processing /home/nicolasf/drives/auck_projects/END19101/Working/data/GCMs/downloads/hindcasts/JMA/JMA/Z500/p500_Phh_mon.19910630.grb2\n",
      "processing /home/nicolasf/drives/auck_projects/END19101/Working/data/GCMs/downloads/hindcasts/JMA/JMA/Z500/p500_Phh_mon.19910715.grb2\n",
      "processing /home/nicolasf/drives/auck_projects/END19101/Working/data/GCMs/downloads/hindcasts/JMA/JMA/Z500/p500_Phh_mon.19910730.grb2\n",
      "processing /home/nicolasf/drives/auck_projects/END19101/Working/data/GCMs/downloads/hindcasts/JMA/JMA/Z500/p500_Phh_mon.19910814.grb2\n",
      "processing /home/nicolasf/drives/auck_projects/END19101/Working/data/GCMs/downloads/hindcasts/JMA/JMA/Z500/p500_Phh_mon.19910829.grb2\n",
      "processing /home/nicolasf/drives/auck_projects/END19101/Working/data/GCMs/downloads/hindcasts/JMA/JMA/Z500/p500_Phh_mon.19910913.grb2\n",
      "processing /home/nicolasf/drives/auck_projects/END19101/Working/data/GCMs/downloads/hindcasts/JMA/JMA/Z500/p500_Phh_mon.19910928.grb2\n",
      "processing /home/nicolasf/drives/auck_projects/END19101/Working/data/GCMs/downloads/hindcasts/JMA/JMA/Z500/p500_Phh_mon.19911013.grb2\n",
      "processing /home/nicolasf/drives/auck_projects/END19101/Working/data/GCMs/downloads/hindcasts/JMA/JMA/Z500/p500_Phh_mon.19911028.grb2\n",
      "processing /home/nicolasf/drives/auck_projects/END19101/Working/data/GCMs/downloads/hindcasts/JMA/JMA/Z500/p500_Phh_mon.19911112.grb2\n",
      "processing /home/nicolasf/drives/auck_projects/END19101/Working/data/GCMs/downloads/hindcasts/JMA/JMA/Z500/p500_Phh_mon.19911127.grb2\n",
      "processing /home/nicolasf/drives/auck_projects/END19101/Working/data/GCMs/downloads/hindcasts/JMA/JMA/Z500/p500_Phh_mon.19911212.grb2\n",
      "processing /home/nicolasf/drives/auck_projects/END19101/Working/data/GCMs/downloads/hindcasts/JMA/JMA/Z500/p500_Phh_mon.19911227.grb2\n",
      "processing /home/nicolasf/drives/auck_projects/END19101/Working/data/GCMs/downloads/hindcasts/JMA/JMA/Z500/p500_Phh_mon.19920116.grb2\n",
      "processing /home/nicolasf/drives/auck_projects/END19101/Working/data/GCMs/downloads/hindcasts/JMA/JMA/Z500/p500_Phh_mon.19920131.grb2\n",
      "processing /home/nicolasf/drives/auck_projects/END19101/Working/data/GCMs/downloads/hindcasts/JMA/JMA/Z500/p500_Phh_mon.19920210.grb2\n",
      "processing /home/nicolasf/drives/auck_projects/END19101/Working/data/GCMs/downloads/hindcasts/JMA/JMA/Z500/p500_Phh_mon.19920225.grb2\n",
      "processing /home/nicolasf/drives/auck_projects/END19101/Working/data/GCMs/downloads/hindcasts/JMA/JMA/Z500/p500_Phh_mon.19920312.grb2\n",
      "processing /home/nicolasf/drives/auck_projects/END19101/Working/data/GCMs/downloads/hindcasts/JMA/JMA/Z500/p500_Phh_mon.19920327.grb2\n",
      "processing /home/nicolasf/drives/auck_projects/END19101/Working/data/GCMs/downloads/hindcasts/JMA/JMA/Z500/p500_Phh_mon.19920411.grb2\n",
      "processing /home/nicolasf/drives/auck_projects/END19101/Working/data/GCMs/downloads/hindcasts/JMA/JMA/Z500/p500_Phh_mon.19920426.grb2\n",
      "processing /home/nicolasf/drives/auck_projects/END19101/Working/data/GCMs/downloads/hindcasts/JMA/JMA/Z500/p500_Phh_mon.19920516.grb2\n",
      "processing /home/nicolasf/drives/auck_projects/END19101/Working/data/GCMs/downloads/hindcasts/JMA/JMA/Z500/p500_Phh_mon.19920531.grb2\n",
      "processing /home/nicolasf/drives/auck_projects/END19101/Working/data/GCMs/downloads/hindcasts/JMA/JMA/Z500/p500_Phh_mon.19920615.grb2\n",
      "processing /home/nicolasf/drives/auck_projects/END19101/Working/data/GCMs/downloads/hindcasts/JMA/JMA/Z500/p500_Phh_mon.19920630.grb2\n",
      "processing /home/nicolasf/drives/auck_projects/END19101/Working/data/GCMs/downloads/hindcasts/JMA/JMA/Z500/p500_Phh_mon.19920715.grb2\n",
      "processing /home/nicolasf/drives/auck_projects/END19101/Working/data/GCMs/downloads/hindcasts/JMA/JMA/Z500/p500_Phh_mon.19920730.grb2\n",
      "processing /home/nicolasf/drives/auck_projects/END19101/Working/data/GCMs/downloads/hindcasts/JMA/JMA/Z500/p500_Phh_mon.19920814.grb2\n",
      "processing /home/nicolasf/drives/auck_projects/END19101/Working/data/GCMs/downloads/hindcasts/JMA/JMA/Z500/p500_Phh_mon.19920829.grb2\n",
      "processing /home/nicolasf/drives/auck_projects/END19101/Working/data/GCMs/downloads/hindcasts/JMA/JMA/Z500/p500_Phh_mon.19920913.grb2\n",
      "processing /home/nicolasf/drives/auck_projects/END19101/Working/data/GCMs/downloads/hindcasts/JMA/JMA/Z500/p500_Phh_mon.19920928.grb2\n",
      "processing /home/nicolasf/drives/auck_projects/END19101/Working/data/GCMs/downloads/hindcasts/JMA/JMA/Z500/p500_Phh_mon.19921013.grb2\n",
      "processing /home/nicolasf/drives/auck_projects/END19101/Working/data/GCMs/downloads/hindcasts/JMA/JMA/Z500/p500_Phh_mon.19921028.grb2\n",
      "processing /home/nicolasf/drives/auck_projects/END19101/Working/data/GCMs/downloads/hindcasts/JMA/JMA/Z500/p500_Phh_mon.19921112.grb2\n",
      "processing /home/nicolasf/drives/auck_projects/END19101/Working/data/GCMs/downloads/hindcasts/JMA/JMA/Z500/p500_Phh_mon.19921127.grb2\n",
      "processing /home/nicolasf/drives/auck_projects/END19101/Working/data/GCMs/downloads/hindcasts/JMA/JMA/Z500/p500_Phh_mon.19921212.grb2\n",
      "processing /home/nicolasf/drives/auck_projects/END19101/Working/data/GCMs/downloads/hindcasts/JMA/JMA/Z500/p500_Phh_mon.19921227.grb2\n",
      "processing /home/nicolasf/drives/auck_projects/END19101/Working/data/GCMs/downloads/hindcasts/JMA/JMA/Z500/p500_Phh_mon.19930116.grb2\n",
      "processing /home/nicolasf/drives/auck_projects/END19101/Working/data/GCMs/downloads/hindcasts/JMA/JMA/Z500/p500_Phh_mon.19930131.grb2\n",
      "processing /home/nicolasf/drives/auck_projects/END19101/Working/data/GCMs/downloads/hindcasts/JMA/JMA/Z500/p500_Phh_mon.19930210.grb2\n",
      "processing /home/nicolasf/drives/auck_projects/END19101/Working/data/GCMs/downloads/hindcasts/JMA/JMA/Z500/p500_Phh_mon.19930225.grb2\n",
      "processing /home/nicolasf/drives/auck_projects/END19101/Working/data/GCMs/downloads/hindcasts/JMA/JMA/Z500/p500_Phh_mon.19930312.grb2\n",
      "processing /home/nicolasf/drives/auck_projects/END19101/Working/data/GCMs/downloads/hindcasts/JMA/JMA/Z500/p500_Phh_mon.19930327.grb2\n",
      "processing /home/nicolasf/drives/auck_projects/END19101/Working/data/GCMs/downloads/hindcasts/JMA/JMA/Z500/p500_Phh_mon.19930411.grb2\n",
      "processing /home/nicolasf/drives/auck_projects/END19101/Working/data/GCMs/downloads/hindcasts/JMA/JMA/Z500/p500_Phh_mon.19930426.grb2\n",
      "processing /home/nicolasf/drives/auck_projects/END19101/Working/data/GCMs/downloads/hindcasts/JMA/JMA/Z500/p500_Phh_mon.19930516.grb2\n",
      "processing /home/nicolasf/drives/auck_projects/END19101/Working/data/GCMs/downloads/hindcasts/JMA/JMA/Z500/p500_Phh_mon.19930531.grb2\n",
      "processing /home/nicolasf/drives/auck_projects/END19101/Working/data/GCMs/downloads/hindcasts/JMA/JMA/Z500/p500_Phh_mon.19930615.grb2\n",
      "processing /home/nicolasf/drives/auck_projects/END19101/Working/data/GCMs/downloads/hindcasts/JMA/JMA/Z500/p500_Phh_mon.19930630.grb2\n",
      "processing /home/nicolasf/drives/auck_projects/END19101/Working/data/GCMs/downloads/hindcasts/JMA/JMA/Z500/p500_Phh_mon.19930715.grb2\n",
      "processing /home/nicolasf/drives/auck_projects/END19101/Working/data/GCMs/downloads/hindcasts/JMA/JMA/Z500/p500_Phh_mon.19930730.grb2\n",
      "processing /home/nicolasf/drives/auck_projects/END19101/Working/data/GCMs/downloads/hindcasts/JMA/JMA/Z500/p500_Phh_mon.19930814.grb2\n",
      "processing /home/nicolasf/drives/auck_projects/END19101/Working/data/GCMs/downloads/hindcasts/JMA/JMA/Z500/p500_Phh_mon.19930829.grb2\n",
      "processing /home/nicolasf/drives/auck_projects/END19101/Working/data/GCMs/downloads/hindcasts/JMA/JMA/Z500/p500_Phh_mon.19930913.grb2\n",
      "processing /home/nicolasf/drives/auck_projects/END19101/Working/data/GCMs/downloads/hindcasts/JMA/JMA/Z500/p500_Phh_mon.19930928.grb2\n",
      "processing /home/nicolasf/drives/auck_projects/END19101/Working/data/GCMs/downloads/hindcasts/JMA/JMA/Z500/p500_Phh_mon.19931013.grb2\n",
      "processing /home/nicolasf/drives/auck_projects/END19101/Working/data/GCMs/downloads/hindcasts/JMA/JMA/Z500/p500_Phh_mon.19931028.grb2\n",
      "processing /home/nicolasf/drives/auck_projects/END19101/Working/data/GCMs/downloads/hindcasts/JMA/JMA/Z500/p500_Phh_mon.19931112.grb2\n",
      "processing /home/nicolasf/drives/auck_projects/END19101/Working/data/GCMs/downloads/hindcasts/JMA/JMA/Z500/p500_Phh_mon.19931212.grb2\n",
      "processing /home/nicolasf/drives/auck_projects/END19101/Working/data/GCMs/downloads/hindcasts/JMA/JMA/Z500/p500_Phh_mon.19931227.grb2\n",
      "processing /home/nicolasf/drives/auck_projects/END19101/Working/data/GCMs/downloads/hindcasts/JMA/JMA/Z500/p500_Phh_mon.19940116.grb2\n",
      "processing /home/nicolasf/drives/auck_projects/END19101/Working/data/GCMs/downloads/hindcasts/JMA/JMA/Z500/p500_Phh_mon.19940131.grb2\n",
      "processing /home/nicolasf/drives/auck_projects/END19101/Working/data/GCMs/downloads/hindcasts/JMA/JMA/Z500/p500_Phh_mon.19940210.grb2\n",
      "processing /home/nicolasf/drives/auck_projects/END19101/Working/data/GCMs/downloads/hindcasts/JMA/JMA/Z500/p500_Phh_mon.19940225.grb2\n",
      "processing /home/nicolasf/drives/auck_projects/END19101/Working/data/GCMs/downloads/hindcasts/JMA/JMA/Z500/p500_Phh_mon.19940312.grb2\n",
      "processing /home/nicolasf/drives/auck_projects/END19101/Working/data/GCMs/downloads/hindcasts/JMA/JMA/Z500/p500_Phh_mon.19940327.grb2\n",
      "processing /home/nicolasf/drives/auck_projects/END19101/Working/data/GCMs/downloads/hindcasts/JMA/JMA/Z500/p500_Phh_mon.19940411.grb2\n",
      "processing /home/nicolasf/drives/auck_projects/END19101/Working/data/GCMs/downloads/hindcasts/JMA/JMA/Z500/p500_Phh_mon.19940426.grb2\n",
      "processing /home/nicolasf/drives/auck_projects/END19101/Working/data/GCMs/downloads/hindcasts/JMA/JMA/Z500/p500_Phh_mon.19940516.grb2\n",
      "processing /home/nicolasf/drives/auck_projects/END19101/Working/data/GCMs/downloads/hindcasts/JMA/JMA/Z500/p500_Phh_mon.19940531.grb2\n",
      "processing /home/nicolasf/drives/auck_projects/END19101/Working/data/GCMs/downloads/hindcasts/JMA/JMA/Z500/p500_Phh_mon.19940615.grb2\n",
      "processing /home/nicolasf/drives/auck_projects/END19101/Working/data/GCMs/downloads/hindcasts/JMA/JMA/Z500/p500_Phh_mon.19940630.grb2\n",
      "processing /home/nicolasf/drives/auck_projects/END19101/Working/data/GCMs/downloads/hindcasts/JMA/JMA/Z500/p500_Phh_mon.19940715.grb2\n",
      "processing /home/nicolasf/drives/auck_projects/END19101/Working/data/GCMs/downloads/hindcasts/JMA/JMA/Z500/p500_Phh_mon.19940730.grb2\n",
      "processing /home/nicolasf/drives/auck_projects/END19101/Working/data/GCMs/downloads/hindcasts/JMA/JMA/Z500/p500_Phh_mon.19940814.grb2\n",
      "processing /home/nicolasf/drives/auck_projects/END19101/Working/data/GCMs/downloads/hindcasts/JMA/JMA/Z500/p500_Phh_mon.19940829.grb2\n",
      "processing /home/nicolasf/drives/auck_projects/END19101/Working/data/GCMs/downloads/hindcasts/JMA/JMA/Z500/p500_Phh_mon.19940913.grb2\n",
      "processing /home/nicolasf/drives/auck_projects/END19101/Working/data/GCMs/downloads/hindcasts/JMA/JMA/Z500/p500_Phh_mon.19940928.grb2\n",
      "processing /home/nicolasf/drives/auck_projects/END19101/Working/data/GCMs/downloads/hindcasts/JMA/JMA/Z500/p500_Phh_mon.19941013.grb2\n",
      "processing /home/nicolasf/drives/auck_projects/END19101/Working/data/GCMs/downloads/hindcasts/JMA/JMA/Z500/p500_Phh_mon.19941028.grb2\n",
      "processing /home/nicolasf/drives/auck_projects/END19101/Working/data/GCMs/downloads/hindcasts/JMA/JMA/Z500/p500_Phh_mon.19941112.grb2\n",
      "processing /home/nicolasf/drives/auck_projects/END19101/Working/data/GCMs/downloads/hindcasts/JMA/JMA/Z500/p500_Phh_mon.19941127.grb2\n",
      "processing /home/nicolasf/drives/auck_projects/END19101/Working/data/GCMs/downloads/hindcasts/JMA/JMA/Z500/p500_Phh_mon.19941212.grb2\n",
      "processing /home/nicolasf/drives/auck_projects/END19101/Working/data/GCMs/downloads/hindcasts/JMA/JMA/Z500/p500_Phh_mon.19941227.grb2\n",
      "processing /home/nicolasf/drives/auck_projects/END19101/Working/data/GCMs/downloads/hindcasts/JMA/JMA/Z500/p500_Phh_mon.19950116.grb2\n",
      "processing /home/nicolasf/drives/auck_projects/END19101/Working/data/GCMs/downloads/hindcasts/JMA/JMA/Z500/p500_Phh_mon.19950131.grb2\n",
      "processing /home/nicolasf/drives/auck_projects/END19101/Working/data/GCMs/downloads/hindcasts/JMA/JMA/Z500/p500_Phh_mon.19950210.grb2\n",
      "processing /home/nicolasf/drives/auck_projects/END19101/Working/data/GCMs/downloads/hindcasts/JMA/JMA/Z500/p500_Phh_mon.19950225.grb2\n",
      "processing /home/nicolasf/drives/auck_projects/END19101/Working/data/GCMs/downloads/hindcasts/JMA/JMA/Z500/p500_Phh_mon.19950312.grb2\n",
      "processing /home/nicolasf/drives/auck_projects/END19101/Working/data/GCMs/downloads/hindcasts/JMA/JMA/Z500/p500_Phh_mon.19950327.grb2\n",
      "processing /home/nicolasf/drives/auck_projects/END19101/Working/data/GCMs/downloads/hindcasts/JMA/JMA/Z500/p500_Phh_mon.19950411.grb2\n",
      "processing /home/nicolasf/drives/auck_projects/END19101/Working/data/GCMs/downloads/hindcasts/JMA/JMA/Z500/p500_Phh_mon.19950426.grb2\n",
      "processing /home/nicolasf/drives/auck_projects/END19101/Working/data/GCMs/downloads/hindcasts/JMA/JMA/Z500/p500_Phh_mon.19950516.grb2\n",
      "processing /home/nicolasf/drives/auck_projects/END19101/Working/data/GCMs/downloads/hindcasts/JMA/JMA/Z500/p500_Phh_mon.19950531.grb2\n",
      "processing /home/nicolasf/drives/auck_projects/END19101/Working/data/GCMs/downloads/hindcasts/JMA/JMA/Z500/p500_Phh_mon.19950615.grb2\n",
      "processing /home/nicolasf/drives/auck_projects/END19101/Working/data/GCMs/downloads/hindcasts/JMA/JMA/Z500/p500_Phh_mon.19950630.grb2\n",
      "processing /home/nicolasf/drives/auck_projects/END19101/Working/data/GCMs/downloads/hindcasts/JMA/JMA/Z500/p500_Phh_mon.19950715.grb2\n",
      "processing /home/nicolasf/drives/auck_projects/END19101/Working/data/GCMs/downloads/hindcasts/JMA/JMA/Z500/p500_Phh_mon.19950730.grb2\n",
      "processing /home/nicolasf/drives/auck_projects/END19101/Working/data/GCMs/downloads/hindcasts/JMA/JMA/Z500/p500_Phh_mon.19950814.grb2\n",
      "processing /home/nicolasf/drives/auck_projects/END19101/Working/data/GCMs/downloads/hindcasts/JMA/JMA/Z500/p500_Phh_mon.19950829.grb2\n",
      "processing /home/nicolasf/drives/auck_projects/END19101/Working/data/GCMs/downloads/hindcasts/JMA/JMA/Z500/p500_Phh_mon.19950913.grb2\n",
      "processing /home/nicolasf/drives/auck_projects/END19101/Working/data/GCMs/downloads/hindcasts/JMA/JMA/Z500/p500_Phh_mon.19950928.grb2\n",
      "processing /home/nicolasf/drives/auck_projects/END19101/Working/data/GCMs/downloads/hindcasts/JMA/JMA/Z500/p500_Phh_mon.19951013.grb2\n",
      "processing /home/nicolasf/drives/auck_projects/END19101/Working/data/GCMs/downloads/hindcasts/JMA/JMA/Z500/p500_Phh_mon.19951028.grb2\n",
      "processing /home/nicolasf/drives/auck_projects/END19101/Working/data/GCMs/downloads/hindcasts/JMA/JMA/Z500/p500_Phh_mon.19951112.grb2\n",
      "processing /home/nicolasf/drives/auck_projects/END19101/Working/data/GCMs/downloads/hindcasts/JMA/JMA/Z500/p500_Phh_mon.19951127.grb2\n",
      "processing /home/nicolasf/drives/auck_projects/END19101/Working/data/GCMs/downloads/hindcasts/JMA/JMA/Z500/p500_Phh_mon.19951212.grb2\n",
      "processing /home/nicolasf/drives/auck_projects/END19101/Working/data/GCMs/downloads/hindcasts/JMA/JMA/Z500/p500_Phh_mon.19951227.grb2\n",
      "processing /home/nicolasf/drives/auck_projects/END19101/Working/data/GCMs/downloads/hindcasts/JMA/JMA/Z500/p500_Phh_mon.19960116.grb2\n",
      "processing /home/nicolasf/drives/auck_projects/END19101/Working/data/GCMs/downloads/hindcasts/JMA/JMA/Z500/p500_Phh_mon.19960131.grb2\n",
      "processing /home/nicolasf/drives/auck_projects/END19101/Working/data/GCMs/downloads/hindcasts/JMA/JMA/Z500/p500_Phh_mon.19960210.grb2\n",
      "processing /home/nicolasf/drives/auck_projects/END19101/Working/data/GCMs/downloads/hindcasts/JMA/JMA/Z500/p500_Phh_mon.19960225.grb2\n",
      "processing /home/nicolasf/drives/auck_projects/END19101/Working/data/GCMs/downloads/hindcasts/JMA/JMA/Z500/p500_Phh_mon.19960312.grb2\n",
      "processing /home/nicolasf/drives/auck_projects/END19101/Working/data/GCMs/downloads/hindcasts/JMA/JMA/Z500/p500_Phh_mon.19960327.grb2\n",
      "processing /home/nicolasf/drives/auck_projects/END19101/Working/data/GCMs/downloads/hindcasts/JMA/JMA/Z500/p500_Phh_mon.19960411.grb2\n",
      "processing /home/nicolasf/drives/auck_projects/END19101/Working/data/GCMs/downloads/hindcasts/JMA/JMA/Z500/p500_Phh_mon.19960426.grb2\n",
      "processing /home/nicolasf/drives/auck_projects/END19101/Working/data/GCMs/downloads/hindcasts/JMA/JMA/Z500/p500_Phh_mon.19960516.grb2\n",
      "processing /home/nicolasf/drives/auck_projects/END19101/Working/data/GCMs/downloads/hindcasts/JMA/JMA/Z500/p500_Phh_mon.19960531.grb2\n",
      "processing /home/nicolasf/drives/auck_projects/END19101/Working/data/GCMs/downloads/hindcasts/JMA/JMA/Z500/p500_Phh_mon.19960615.grb2\n",
      "processing /home/nicolasf/drives/auck_projects/END19101/Working/data/GCMs/downloads/hindcasts/JMA/JMA/Z500/p500_Phh_mon.19960630.grb2\n",
      "processing /home/nicolasf/drives/auck_projects/END19101/Working/data/GCMs/downloads/hindcasts/JMA/JMA/Z500/p500_Phh_mon.19960715.grb2\n",
      "processing /home/nicolasf/drives/auck_projects/END19101/Working/data/GCMs/downloads/hindcasts/JMA/JMA/Z500/p500_Phh_mon.19960730.grb2\n",
      "processing /home/nicolasf/drives/auck_projects/END19101/Working/data/GCMs/downloads/hindcasts/JMA/JMA/Z500/p500_Phh_mon.19960814.grb2\n",
      "processing /home/nicolasf/drives/auck_projects/END19101/Working/data/GCMs/downloads/hindcasts/JMA/JMA/Z500/p500_Phh_mon.19960829.grb2\n",
      "processing /home/nicolasf/drives/auck_projects/END19101/Working/data/GCMs/downloads/hindcasts/JMA/JMA/Z500/p500_Phh_mon.19960913.grb2\n",
      "processing /home/nicolasf/drives/auck_projects/END19101/Working/data/GCMs/downloads/hindcasts/JMA/JMA/Z500/p500_Phh_mon.19960928.grb2\n",
      "processing /home/nicolasf/drives/auck_projects/END19101/Working/data/GCMs/downloads/hindcasts/JMA/JMA/Z500/p500_Phh_mon.19961013.grb2\n",
      "processing /home/nicolasf/drives/auck_projects/END19101/Working/data/GCMs/downloads/hindcasts/JMA/JMA/Z500/p500_Phh_mon.19961028.grb2\n",
      "processing /home/nicolasf/drives/auck_projects/END19101/Working/data/GCMs/downloads/hindcasts/JMA/JMA/Z500/p500_Phh_mon.19961112.grb2\n",
      "processing /home/nicolasf/drives/auck_projects/END19101/Working/data/GCMs/downloads/hindcasts/JMA/JMA/Z500/p500_Phh_mon.19961127.grb2\n",
      "processing /home/nicolasf/drives/auck_projects/END19101/Working/data/GCMs/downloads/hindcasts/JMA/JMA/Z500/p500_Phh_mon.19961212.grb2\n",
      "processing /home/nicolasf/drives/auck_projects/END19101/Working/data/GCMs/downloads/hindcasts/JMA/JMA/Z500/p500_Phh_mon.19961227.grb2\n",
      "processing /home/nicolasf/drives/auck_projects/END19101/Working/data/GCMs/downloads/hindcasts/JMA/JMA/Z500/p500_Phh_mon.19970116.grb2\n",
      "processing /home/nicolasf/drives/auck_projects/END19101/Working/data/GCMs/downloads/hindcasts/JMA/JMA/Z500/p500_Phh_mon.19970131.grb2\n",
      "processing /home/nicolasf/drives/auck_projects/END19101/Working/data/GCMs/downloads/hindcasts/JMA/JMA/Z500/p500_Phh_mon.19970210.grb2\n",
      "processing /home/nicolasf/drives/auck_projects/END19101/Working/data/GCMs/downloads/hindcasts/JMA/JMA/Z500/p500_Phh_mon.19970225.grb2\n",
      "processing /home/nicolasf/drives/auck_projects/END19101/Working/data/GCMs/downloads/hindcasts/JMA/JMA/Z500/p500_Phh_mon.19970312.grb2\n",
      "processing /home/nicolasf/drives/auck_projects/END19101/Working/data/GCMs/downloads/hindcasts/JMA/JMA/Z500/p500_Phh_mon.19970327.grb2\n",
      "processing /home/nicolasf/drives/auck_projects/END19101/Working/data/GCMs/downloads/hindcasts/JMA/JMA/Z500/p500_Phh_mon.19970411.grb2\n",
      "processing /home/nicolasf/drives/auck_projects/END19101/Working/data/GCMs/downloads/hindcasts/JMA/JMA/Z500/p500_Phh_mon.19970426.grb2\n",
      "processing /home/nicolasf/drives/auck_projects/END19101/Working/data/GCMs/downloads/hindcasts/JMA/JMA/Z500/p500_Phh_mon.19970516.grb2\n",
      "processing /home/nicolasf/drives/auck_projects/END19101/Working/data/GCMs/downloads/hindcasts/JMA/JMA/Z500/p500_Phh_mon.19970531.grb2\n",
      "processing /home/nicolasf/drives/auck_projects/END19101/Working/data/GCMs/downloads/hindcasts/JMA/JMA/Z500/p500_Phh_mon.19970615.grb2\n",
      "processing /home/nicolasf/drives/auck_projects/END19101/Working/data/GCMs/downloads/hindcasts/JMA/JMA/Z500/p500_Phh_mon.19970630.grb2\n",
      "processing /home/nicolasf/drives/auck_projects/END19101/Working/data/GCMs/downloads/hindcasts/JMA/JMA/Z500/p500_Phh_mon.19970715.grb2\n",
      "processing /home/nicolasf/drives/auck_projects/END19101/Working/data/GCMs/downloads/hindcasts/JMA/JMA/Z500/p500_Phh_mon.19970730.grb2\n",
      "processing /home/nicolasf/drives/auck_projects/END19101/Working/data/GCMs/downloads/hindcasts/JMA/JMA/Z500/p500_Phh_mon.19970814.grb2\n",
      "processing /home/nicolasf/drives/auck_projects/END19101/Working/data/GCMs/downloads/hindcasts/JMA/JMA/Z500/p500_Phh_mon.19970829.grb2\n",
      "processing /home/nicolasf/drives/auck_projects/END19101/Working/data/GCMs/downloads/hindcasts/JMA/JMA/Z500/p500_Phh_mon.19970913.grb2\n",
      "processing /home/nicolasf/drives/auck_projects/END19101/Working/data/GCMs/downloads/hindcasts/JMA/JMA/Z500/p500_Phh_mon.19970928.grb2\n",
      "processing /home/nicolasf/drives/auck_projects/END19101/Working/data/GCMs/downloads/hindcasts/JMA/JMA/Z500/p500_Phh_mon.19971013.grb2\n",
      "processing /home/nicolasf/drives/auck_projects/END19101/Working/data/GCMs/downloads/hindcasts/JMA/JMA/Z500/p500_Phh_mon.19971028.grb2\n",
      "processing /home/nicolasf/drives/auck_projects/END19101/Working/data/GCMs/downloads/hindcasts/JMA/JMA/Z500/p500_Phh_mon.19971112.grb2\n",
      "processing /home/nicolasf/drives/auck_projects/END19101/Working/data/GCMs/downloads/hindcasts/JMA/JMA/Z500/p500_Phh_mon.19971127.grb2\n",
      "processing /home/nicolasf/drives/auck_projects/END19101/Working/data/GCMs/downloads/hindcasts/JMA/JMA/Z500/p500_Phh_mon.19971212.grb2\n",
      "processing /home/nicolasf/drives/auck_projects/END19101/Working/data/GCMs/downloads/hindcasts/JMA/JMA/Z500/p500_Phh_mon.19971227.grb2\n",
      "processing /home/nicolasf/drives/auck_projects/END19101/Working/data/GCMs/downloads/hindcasts/JMA/JMA/Z500/p500_Phh_mon.19980116.grb2\n",
      "processing /home/nicolasf/drives/auck_projects/END19101/Working/data/GCMs/downloads/hindcasts/JMA/JMA/Z500/p500_Phh_mon.19980131.grb2\n",
      "processing /home/nicolasf/drives/auck_projects/END19101/Working/data/GCMs/downloads/hindcasts/JMA/JMA/Z500/p500_Phh_mon.19980210.grb2\n",
      "processing /home/nicolasf/drives/auck_projects/END19101/Working/data/GCMs/downloads/hindcasts/JMA/JMA/Z500/p500_Phh_mon.19980225.grb2\n",
      "processing /home/nicolasf/drives/auck_projects/END19101/Working/data/GCMs/downloads/hindcasts/JMA/JMA/Z500/p500_Phh_mon.19980312.grb2\n",
      "processing /home/nicolasf/drives/auck_projects/END19101/Working/data/GCMs/downloads/hindcasts/JMA/JMA/Z500/p500_Phh_mon.19980327.grb2\n",
      "processing /home/nicolasf/drives/auck_projects/END19101/Working/data/GCMs/downloads/hindcasts/JMA/JMA/Z500/p500_Phh_mon.19980411.grb2\n",
      "processing /home/nicolasf/drives/auck_projects/END19101/Working/data/GCMs/downloads/hindcasts/JMA/JMA/Z500/p500_Phh_mon.19980426.grb2\n",
      "processing /home/nicolasf/drives/auck_projects/END19101/Working/data/GCMs/downloads/hindcasts/JMA/JMA/Z500/p500_Phh_mon.19980516.grb2\n",
      "processing /home/nicolasf/drives/auck_projects/END19101/Working/data/GCMs/downloads/hindcasts/JMA/JMA/Z500/p500_Phh_mon.19980531.grb2\n",
      "processing /home/nicolasf/drives/auck_projects/END19101/Working/data/GCMs/downloads/hindcasts/JMA/JMA/Z500/p500_Phh_mon.19980615.grb2\n",
      "processing /home/nicolasf/drives/auck_projects/END19101/Working/data/GCMs/downloads/hindcasts/JMA/JMA/Z500/p500_Phh_mon.19980630.grb2\n",
      "processing /home/nicolasf/drives/auck_projects/END19101/Working/data/GCMs/downloads/hindcasts/JMA/JMA/Z500/p500_Phh_mon.19980715.grb2\n",
      "processing /home/nicolasf/drives/auck_projects/END19101/Working/data/GCMs/downloads/hindcasts/JMA/JMA/Z500/p500_Phh_mon.19980730.grb2\n",
      "processing /home/nicolasf/drives/auck_projects/END19101/Working/data/GCMs/downloads/hindcasts/JMA/JMA/Z500/p500_Phh_mon.19980814.grb2\n",
      "processing /home/nicolasf/drives/auck_projects/END19101/Working/data/GCMs/downloads/hindcasts/JMA/JMA/Z500/p500_Phh_mon.19980829.grb2\n",
      "processing /home/nicolasf/drives/auck_projects/END19101/Working/data/GCMs/downloads/hindcasts/JMA/JMA/Z500/p500_Phh_mon.19980913.grb2\n",
      "processing /home/nicolasf/drives/auck_projects/END19101/Working/data/GCMs/downloads/hindcasts/JMA/JMA/Z500/p500_Phh_mon.19980928.grb2\n",
      "processing /home/nicolasf/drives/auck_projects/END19101/Working/data/GCMs/downloads/hindcasts/JMA/JMA/Z500/p500_Phh_mon.19981013.grb2\n",
      "processing /home/nicolasf/drives/auck_projects/END19101/Working/data/GCMs/downloads/hindcasts/JMA/JMA/Z500/p500_Phh_mon.19981028.grb2\n",
      "processing /home/nicolasf/drives/auck_projects/END19101/Working/data/GCMs/downloads/hindcasts/JMA/JMA/Z500/p500_Phh_mon.19981112.grb2\n",
      "processing /home/nicolasf/drives/auck_projects/END19101/Working/data/GCMs/downloads/hindcasts/JMA/JMA/Z500/p500_Phh_mon.19981127.grb2\n",
      "processing /home/nicolasf/drives/auck_projects/END19101/Working/data/GCMs/downloads/hindcasts/JMA/JMA/Z500/p500_Phh_mon.19981212.grb2\n",
      "processing /home/nicolasf/drives/auck_projects/END19101/Working/data/GCMs/downloads/hindcasts/JMA/JMA/Z500/p500_Phh_mon.19981227.grb2\n",
      "processing /home/nicolasf/drives/auck_projects/END19101/Working/data/GCMs/downloads/hindcasts/JMA/JMA/Z500/p500_Phh_mon.19990116.grb2\n",
      "processing /home/nicolasf/drives/auck_projects/END19101/Working/data/GCMs/downloads/hindcasts/JMA/JMA/Z500/p500_Phh_mon.19990131.grb2\n",
      "processing /home/nicolasf/drives/auck_projects/END19101/Working/data/GCMs/downloads/hindcasts/JMA/JMA/Z500/p500_Phh_mon.19990210.grb2\n",
      "processing /home/nicolasf/drives/auck_projects/END19101/Working/data/GCMs/downloads/hindcasts/JMA/JMA/Z500/p500_Phh_mon.19990225.grb2\n",
      "processing /home/nicolasf/drives/auck_projects/END19101/Working/data/GCMs/downloads/hindcasts/JMA/JMA/Z500/p500_Phh_mon.19990312.grb2\n",
      "processing /home/nicolasf/drives/auck_projects/END19101/Working/data/GCMs/downloads/hindcasts/JMA/JMA/Z500/p500_Phh_mon.19990327.grb2\n",
      "processing /home/nicolasf/drives/auck_projects/END19101/Working/data/GCMs/downloads/hindcasts/JMA/JMA/Z500/p500_Phh_mon.19990411.grb2\n",
      "processing /home/nicolasf/drives/auck_projects/END19101/Working/data/GCMs/downloads/hindcasts/JMA/JMA/Z500/p500_Phh_mon.19990426.grb2\n",
      "processing /home/nicolasf/drives/auck_projects/END19101/Working/data/GCMs/downloads/hindcasts/JMA/JMA/Z500/p500_Phh_mon.19990516.grb2\n",
      "processing /home/nicolasf/drives/auck_projects/END19101/Working/data/GCMs/downloads/hindcasts/JMA/JMA/Z500/p500_Phh_mon.19990531.grb2\n",
      "processing /home/nicolasf/drives/auck_projects/END19101/Working/data/GCMs/downloads/hindcasts/JMA/JMA/Z500/p500_Phh_mon.19990615.grb2\n",
      "processing /home/nicolasf/drives/auck_projects/END19101/Working/data/GCMs/downloads/hindcasts/JMA/JMA/Z500/p500_Phh_mon.19990630.grb2\n",
      "processing /home/nicolasf/drives/auck_projects/END19101/Working/data/GCMs/downloads/hindcasts/JMA/JMA/Z500/p500_Phh_mon.19990715.grb2\n",
      "processing /home/nicolasf/drives/auck_projects/END19101/Working/data/GCMs/downloads/hindcasts/JMA/JMA/Z500/p500_Phh_mon.19990730.grb2\n",
      "processing /home/nicolasf/drives/auck_projects/END19101/Working/data/GCMs/downloads/hindcasts/JMA/JMA/Z500/p500_Phh_mon.19990814.grb2\n",
      "processing /home/nicolasf/drives/auck_projects/END19101/Working/data/GCMs/downloads/hindcasts/JMA/JMA/Z500/p500_Phh_mon.19990829.grb2\n",
      "processing /home/nicolasf/drives/auck_projects/END19101/Working/data/GCMs/downloads/hindcasts/JMA/JMA/Z500/p500_Phh_mon.19990913.grb2\n",
      "processing /home/nicolasf/drives/auck_projects/END19101/Working/data/GCMs/downloads/hindcasts/JMA/JMA/Z500/p500_Phh_mon.19990928.grb2\n",
      "processing /home/nicolasf/drives/auck_projects/END19101/Working/data/GCMs/downloads/hindcasts/JMA/JMA/Z500/p500_Phh_mon.19991013.grb2\n",
      "processing /home/nicolasf/drives/auck_projects/END19101/Working/data/GCMs/downloads/hindcasts/JMA/JMA/Z500/p500_Phh_mon.19991028.grb2\n",
      "processing /home/nicolasf/drives/auck_projects/END19101/Working/data/GCMs/downloads/hindcasts/JMA/JMA/Z500/p500_Phh_mon.19991112.grb2\n",
      "processing /home/nicolasf/drives/auck_projects/END19101/Working/data/GCMs/downloads/hindcasts/JMA/JMA/Z500/p500_Phh_mon.19991127.grb2\n",
      "processing /home/nicolasf/drives/auck_projects/END19101/Working/data/GCMs/downloads/hindcasts/JMA/JMA/Z500/p500_Phh_mon.19991212.grb2\n",
      "processing /home/nicolasf/drives/auck_projects/END19101/Working/data/GCMs/downloads/hindcasts/JMA/JMA/Z500/p500_Phh_mon.19991227.grb2\n",
      "processing /home/nicolasf/drives/auck_projects/END19101/Working/data/GCMs/downloads/hindcasts/JMA/JMA/Z500/p500_Phh_mon.20000116.grb2\n",
      "processing /home/nicolasf/drives/auck_projects/END19101/Working/data/GCMs/downloads/hindcasts/JMA/JMA/Z500/p500_Phh_mon.20000131.grb2\n",
      "processing /home/nicolasf/drives/auck_projects/END19101/Working/data/GCMs/downloads/hindcasts/JMA/JMA/Z500/p500_Phh_mon.20000210.grb2\n",
      "processing /home/nicolasf/drives/auck_projects/END19101/Working/data/GCMs/downloads/hindcasts/JMA/JMA/Z500/p500_Phh_mon.20000225.grb2\n",
      "processing /home/nicolasf/drives/auck_projects/END19101/Working/data/GCMs/downloads/hindcasts/JMA/JMA/Z500/p500_Phh_mon.20000312.grb2\n",
      "processing /home/nicolasf/drives/auck_projects/END19101/Working/data/GCMs/downloads/hindcasts/JMA/JMA/Z500/p500_Phh_mon.20000327.grb2\n",
      "processing /home/nicolasf/drives/auck_projects/END19101/Working/data/GCMs/downloads/hindcasts/JMA/JMA/Z500/p500_Phh_mon.20000411.grb2\n",
      "processing /home/nicolasf/drives/auck_projects/END19101/Working/data/GCMs/downloads/hindcasts/JMA/JMA/Z500/p500_Phh_mon.20000426.grb2\n",
      "processing /home/nicolasf/drives/auck_projects/END19101/Working/data/GCMs/downloads/hindcasts/JMA/JMA/Z500/p500_Phh_mon.20000516.grb2\n",
      "processing /home/nicolasf/drives/auck_projects/END19101/Working/data/GCMs/downloads/hindcasts/JMA/JMA/Z500/p500_Phh_mon.20000531.grb2\n",
      "processing /home/nicolasf/drives/auck_projects/END19101/Working/data/GCMs/downloads/hindcasts/JMA/JMA/Z500/p500_Phh_mon.20000615.grb2\n",
      "processing /home/nicolasf/drives/auck_projects/END19101/Working/data/GCMs/downloads/hindcasts/JMA/JMA/Z500/p500_Phh_mon.20000630.grb2\n",
      "processing /home/nicolasf/drives/auck_projects/END19101/Working/data/GCMs/downloads/hindcasts/JMA/JMA/Z500/p500_Phh_mon.20000715.grb2\n",
      "processing /home/nicolasf/drives/auck_projects/END19101/Working/data/GCMs/downloads/hindcasts/JMA/JMA/Z500/p500_Phh_mon.20000730.grb2\n",
      "processing /home/nicolasf/drives/auck_projects/END19101/Working/data/GCMs/downloads/hindcasts/JMA/JMA/Z500/p500_Phh_mon.20000814.grb2\n",
      "processing /home/nicolasf/drives/auck_projects/END19101/Working/data/GCMs/downloads/hindcasts/JMA/JMA/Z500/p500_Phh_mon.20000829.grb2\n",
      "processing /home/nicolasf/drives/auck_projects/END19101/Working/data/GCMs/downloads/hindcasts/JMA/JMA/Z500/p500_Phh_mon.20000913.grb2\n",
      "processing /home/nicolasf/drives/auck_projects/END19101/Working/data/GCMs/downloads/hindcasts/JMA/JMA/Z500/p500_Phh_mon.20000928.grb2\n",
      "processing /home/nicolasf/drives/auck_projects/END19101/Working/data/GCMs/downloads/hindcasts/JMA/JMA/Z500/p500_Phh_mon.20001013.grb2\n",
      "processing /home/nicolasf/drives/auck_projects/END19101/Working/data/GCMs/downloads/hindcasts/JMA/JMA/Z500/p500_Phh_mon.20001028.grb2\n",
      "processing /home/nicolasf/drives/auck_projects/END19101/Working/data/GCMs/downloads/hindcasts/JMA/JMA/Z500/p500_Phh_mon.20001112.grb2\n",
      "processing /home/nicolasf/drives/auck_projects/END19101/Working/data/GCMs/downloads/hindcasts/JMA/JMA/Z500/p500_Phh_mon.20001127.grb2\n",
      "processing /home/nicolasf/drives/auck_projects/END19101/Working/data/GCMs/downloads/hindcasts/JMA/JMA/Z500/p500_Phh_mon.20001212.grb2\n",
      "processing /home/nicolasf/drives/auck_projects/END19101/Working/data/GCMs/downloads/hindcasts/JMA/JMA/Z500/p500_Phh_mon.20001227.grb2\n",
      "processing /home/nicolasf/drives/auck_projects/END19101/Working/data/GCMs/downloads/hindcasts/JMA/JMA/Z500/p500_Phh_mon.20010116.grb2\n",
      "processing /home/nicolasf/drives/auck_projects/END19101/Working/data/GCMs/downloads/hindcasts/JMA/JMA/Z500/p500_Phh_mon.20010131.grb2\n",
      "processing /home/nicolasf/drives/auck_projects/END19101/Working/data/GCMs/downloads/hindcasts/JMA/JMA/Z500/p500_Phh_mon.20010210.grb2\n",
      "processing /home/nicolasf/drives/auck_projects/END19101/Working/data/GCMs/downloads/hindcasts/JMA/JMA/Z500/p500_Phh_mon.20010225.grb2\n",
      "processing /home/nicolasf/drives/auck_projects/END19101/Working/data/GCMs/downloads/hindcasts/JMA/JMA/Z500/p500_Phh_mon.20010312.grb2\n",
      "processing /home/nicolasf/drives/auck_projects/END19101/Working/data/GCMs/downloads/hindcasts/JMA/JMA/Z500/p500_Phh_mon.20010327.grb2\n",
      "processing /home/nicolasf/drives/auck_projects/END19101/Working/data/GCMs/downloads/hindcasts/JMA/JMA/Z500/p500_Phh_mon.20010411.grb2\n",
      "processing /home/nicolasf/drives/auck_projects/END19101/Working/data/GCMs/downloads/hindcasts/JMA/JMA/Z500/p500_Phh_mon.20010426.grb2\n",
      "processing /home/nicolasf/drives/auck_projects/END19101/Working/data/GCMs/downloads/hindcasts/JMA/JMA/Z500/p500_Phh_mon.20010516.grb2\n",
      "processing /home/nicolasf/drives/auck_projects/END19101/Working/data/GCMs/downloads/hindcasts/JMA/JMA/Z500/p500_Phh_mon.20010531.grb2\n",
      "processing /home/nicolasf/drives/auck_projects/END19101/Working/data/GCMs/downloads/hindcasts/JMA/JMA/Z500/p500_Phh_mon.20010615.grb2\n",
      "processing /home/nicolasf/drives/auck_projects/END19101/Working/data/GCMs/downloads/hindcasts/JMA/JMA/Z500/p500_Phh_mon.20010630.grb2\n",
      "processing /home/nicolasf/drives/auck_projects/END19101/Working/data/GCMs/downloads/hindcasts/JMA/JMA/Z500/p500_Phh_mon.20010715.grb2\n",
      "processing /home/nicolasf/drives/auck_projects/END19101/Working/data/GCMs/downloads/hindcasts/JMA/JMA/Z500/p500_Phh_mon.20010730.grb2\n",
      "processing /home/nicolasf/drives/auck_projects/END19101/Working/data/GCMs/downloads/hindcasts/JMA/JMA/Z500/p500_Phh_mon.20010814.grb2\n",
      "processing /home/nicolasf/drives/auck_projects/END19101/Working/data/GCMs/downloads/hindcasts/JMA/JMA/Z500/p500_Phh_mon.20010829.grb2\n",
      "processing /home/nicolasf/drives/auck_projects/END19101/Working/data/GCMs/downloads/hindcasts/JMA/JMA/Z500/p500_Phh_mon.20010913.grb2\n",
      "processing /home/nicolasf/drives/auck_projects/END19101/Working/data/GCMs/downloads/hindcasts/JMA/JMA/Z500/p500_Phh_mon.20010928.grb2\n",
      "processing /home/nicolasf/drives/auck_projects/END19101/Working/data/GCMs/downloads/hindcasts/JMA/JMA/Z500/p500_Phh_mon.20011013.grb2\n",
      "processing /home/nicolasf/drives/auck_projects/END19101/Working/data/GCMs/downloads/hindcasts/JMA/JMA/Z500/p500_Phh_mon.20011028.grb2\n",
      "processing /home/nicolasf/drives/auck_projects/END19101/Working/data/GCMs/downloads/hindcasts/JMA/JMA/Z500/p500_Phh_mon.20011112.grb2\n",
      "processing /home/nicolasf/drives/auck_projects/END19101/Working/data/GCMs/downloads/hindcasts/JMA/JMA/Z500/p500_Phh_mon.20011127.grb2\n",
      "processing /home/nicolasf/drives/auck_projects/END19101/Working/data/GCMs/downloads/hindcasts/JMA/JMA/Z500/p500_Phh_mon.20011212.grb2\n",
      "processing /home/nicolasf/drives/auck_projects/END19101/Working/data/GCMs/downloads/hindcasts/JMA/JMA/Z500/p500_Phh_mon.20011227.grb2\n",
      "processing /home/nicolasf/drives/auck_projects/END19101/Working/data/GCMs/downloads/hindcasts/JMA/JMA/Z500/p500_Phh_mon.20020116.grb2\n",
      "processing /home/nicolasf/drives/auck_projects/END19101/Working/data/GCMs/downloads/hindcasts/JMA/JMA/Z500/p500_Phh_mon.20020131.grb2\n",
      "processing /home/nicolasf/drives/auck_projects/END19101/Working/data/GCMs/downloads/hindcasts/JMA/JMA/Z500/p500_Phh_mon.20020210.grb2\n",
      "processing /home/nicolasf/drives/auck_projects/END19101/Working/data/GCMs/downloads/hindcasts/JMA/JMA/Z500/p500_Phh_mon.20020225.grb2\n",
      "processing /home/nicolasf/drives/auck_projects/END19101/Working/data/GCMs/downloads/hindcasts/JMA/JMA/Z500/p500_Phh_mon.20020312.grb2\n",
      "processing /home/nicolasf/drives/auck_projects/END19101/Working/data/GCMs/downloads/hindcasts/JMA/JMA/Z500/p500_Phh_mon.20020327.grb2\n",
      "processing /home/nicolasf/drives/auck_projects/END19101/Working/data/GCMs/downloads/hindcasts/JMA/JMA/Z500/p500_Phh_mon.20020411.grb2\n",
      "processing /home/nicolasf/drives/auck_projects/END19101/Working/data/GCMs/downloads/hindcasts/JMA/JMA/Z500/p500_Phh_mon.20020426.grb2\n",
      "processing /home/nicolasf/drives/auck_projects/END19101/Working/data/GCMs/downloads/hindcasts/JMA/JMA/Z500/p500_Phh_mon.20020516.grb2\n",
      "processing /home/nicolasf/drives/auck_projects/END19101/Working/data/GCMs/downloads/hindcasts/JMA/JMA/Z500/p500_Phh_mon.20020531.grb2\n",
      "processing /home/nicolasf/drives/auck_projects/END19101/Working/data/GCMs/downloads/hindcasts/JMA/JMA/Z500/p500_Phh_mon.20020615.grb2\n",
      "processing /home/nicolasf/drives/auck_projects/END19101/Working/data/GCMs/downloads/hindcasts/JMA/JMA/Z500/p500_Phh_mon.20020630.grb2\n",
      "processing /home/nicolasf/drives/auck_projects/END19101/Working/data/GCMs/downloads/hindcasts/JMA/JMA/Z500/p500_Phh_mon.20020715.grb2\n",
      "processing /home/nicolasf/drives/auck_projects/END19101/Working/data/GCMs/downloads/hindcasts/JMA/JMA/Z500/p500_Phh_mon.20020730.grb2\n",
      "processing /home/nicolasf/drives/auck_projects/END19101/Working/data/GCMs/downloads/hindcasts/JMA/JMA/Z500/p500_Phh_mon.20020814.grb2\n",
      "processing /home/nicolasf/drives/auck_projects/END19101/Working/data/GCMs/downloads/hindcasts/JMA/JMA/Z500/p500_Phh_mon.20020829.grb2\n",
      "processing /home/nicolasf/drives/auck_projects/END19101/Working/data/GCMs/downloads/hindcasts/JMA/JMA/Z500/p500_Phh_mon.20020913.grb2\n",
      "processing /home/nicolasf/drives/auck_projects/END19101/Working/data/GCMs/downloads/hindcasts/JMA/JMA/Z500/p500_Phh_mon.20020928.grb2\n",
      "processing /home/nicolasf/drives/auck_projects/END19101/Working/data/GCMs/downloads/hindcasts/JMA/JMA/Z500/p500_Phh_mon.20021013.grb2\n",
      "processing /home/nicolasf/drives/auck_projects/END19101/Working/data/GCMs/downloads/hindcasts/JMA/JMA/Z500/p500_Phh_mon.20021028.grb2\n",
      "processing /home/nicolasf/drives/auck_projects/END19101/Working/data/GCMs/downloads/hindcasts/JMA/JMA/Z500/p500_Phh_mon.20021112.grb2\n",
      "processing /home/nicolasf/drives/auck_projects/END19101/Working/data/GCMs/downloads/hindcasts/JMA/JMA/Z500/p500_Phh_mon.20021127.grb2\n",
      "processing /home/nicolasf/drives/auck_projects/END19101/Working/data/GCMs/downloads/hindcasts/JMA/JMA/Z500/p500_Phh_mon.20021212.grb2\n",
      "processing /home/nicolasf/drives/auck_projects/END19101/Working/data/GCMs/downloads/hindcasts/JMA/JMA/Z500/p500_Phh_mon.20021227.grb2\n",
      "processing /home/nicolasf/drives/auck_projects/END19101/Working/data/GCMs/downloads/hindcasts/JMA/JMA/Z500/p500_Phh_mon.20030116.grb2\n",
      "processing /home/nicolasf/drives/auck_projects/END19101/Working/data/GCMs/downloads/hindcasts/JMA/JMA/Z500/p500_Phh_mon.20030131.grb2\n",
      "processing /home/nicolasf/drives/auck_projects/END19101/Working/data/GCMs/downloads/hindcasts/JMA/JMA/Z500/p500_Phh_mon.20030210.grb2\n",
      "processing /home/nicolasf/drives/auck_projects/END19101/Working/data/GCMs/downloads/hindcasts/JMA/JMA/Z500/p500_Phh_mon.20030225.grb2\n",
      "processing /home/nicolasf/drives/auck_projects/END19101/Working/data/GCMs/downloads/hindcasts/JMA/JMA/Z500/p500_Phh_mon.20030312.grb2\n",
      "processing /home/nicolasf/drives/auck_projects/END19101/Working/data/GCMs/downloads/hindcasts/JMA/JMA/Z500/p500_Phh_mon.20030327.grb2\n",
      "processing /home/nicolasf/drives/auck_projects/END19101/Working/data/GCMs/downloads/hindcasts/JMA/JMA/Z500/p500_Phh_mon.20030411.grb2\n",
      "processing /home/nicolasf/drives/auck_projects/END19101/Working/data/GCMs/downloads/hindcasts/JMA/JMA/Z500/p500_Phh_mon.20030426.grb2\n",
      "processing /home/nicolasf/drives/auck_projects/END19101/Working/data/GCMs/downloads/hindcasts/JMA/JMA/Z500/p500_Phh_mon.20030516.grb2\n",
      "processing /home/nicolasf/drives/auck_projects/END19101/Working/data/GCMs/downloads/hindcasts/JMA/JMA/Z500/p500_Phh_mon.20030531.grb2\n",
      "processing /home/nicolasf/drives/auck_projects/END19101/Working/data/GCMs/downloads/hindcasts/JMA/JMA/Z500/p500_Phh_mon.20030615.grb2\n",
      "processing /home/nicolasf/drives/auck_projects/END19101/Working/data/GCMs/downloads/hindcasts/JMA/JMA/Z500/p500_Phh_mon.20030630.grb2\n",
      "processing /home/nicolasf/drives/auck_projects/END19101/Working/data/GCMs/downloads/hindcasts/JMA/JMA/Z500/p500_Phh_mon.20030715.grb2\n",
      "processing /home/nicolasf/drives/auck_projects/END19101/Working/data/GCMs/downloads/hindcasts/JMA/JMA/Z500/p500_Phh_mon.20030730.grb2\n",
      "processing /home/nicolasf/drives/auck_projects/END19101/Working/data/GCMs/downloads/hindcasts/JMA/JMA/Z500/p500_Phh_mon.20030814.grb2\n",
      "processing /home/nicolasf/drives/auck_projects/END19101/Working/data/GCMs/downloads/hindcasts/JMA/JMA/Z500/p500_Phh_mon.20030829.grb2\n",
      "processing /home/nicolasf/drives/auck_projects/END19101/Working/data/GCMs/downloads/hindcasts/JMA/JMA/Z500/p500_Phh_mon.20030913.grb2\n",
      "processing /home/nicolasf/drives/auck_projects/END19101/Working/data/GCMs/downloads/hindcasts/JMA/JMA/Z500/p500_Phh_mon.20030928.grb2\n",
      "processing /home/nicolasf/drives/auck_projects/END19101/Working/data/GCMs/downloads/hindcasts/JMA/JMA/Z500/p500_Phh_mon.20031013.grb2\n",
      "processing /home/nicolasf/drives/auck_projects/END19101/Working/data/GCMs/downloads/hindcasts/JMA/JMA/Z500/p500_Phh_mon.20031028.grb2\n",
      "processing /home/nicolasf/drives/auck_projects/END19101/Working/data/GCMs/downloads/hindcasts/JMA/JMA/Z500/p500_Phh_mon.20031112.grb2\n",
      "processing /home/nicolasf/drives/auck_projects/END19101/Working/data/GCMs/downloads/hindcasts/JMA/JMA/Z500/p500_Phh_mon.20031127.grb2\n",
      "processing /home/nicolasf/drives/auck_projects/END19101/Working/data/GCMs/downloads/hindcasts/JMA/JMA/Z500/p500_Phh_mon.20031212.grb2\n",
      "processing /home/nicolasf/drives/auck_projects/END19101/Working/data/GCMs/downloads/hindcasts/JMA/JMA/Z500/p500_Phh_mon.20031227.grb2\n",
      "processing /home/nicolasf/drives/auck_projects/END19101/Working/data/GCMs/downloads/hindcasts/JMA/JMA/Z500/p500_Phh_mon.20040116.grb2\n",
      "processing /home/nicolasf/drives/auck_projects/END19101/Working/data/GCMs/downloads/hindcasts/JMA/JMA/Z500/p500_Phh_mon.20040131.grb2\n",
      "processing /home/nicolasf/drives/auck_projects/END19101/Working/data/GCMs/downloads/hindcasts/JMA/JMA/Z500/p500_Phh_mon.20040210.grb2\n",
      "processing /home/nicolasf/drives/auck_projects/END19101/Working/data/GCMs/downloads/hindcasts/JMA/JMA/Z500/p500_Phh_mon.20040225.grb2\n",
      "processing /home/nicolasf/drives/auck_projects/END19101/Working/data/GCMs/downloads/hindcasts/JMA/JMA/Z500/p500_Phh_mon.20040312.grb2\n",
      "processing /home/nicolasf/drives/auck_projects/END19101/Working/data/GCMs/downloads/hindcasts/JMA/JMA/Z500/p500_Phh_mon.20040327.grb2\n",
      "processing /home/nicolasf/drives/auck_projects/END19101/Working/data/GCMs/downloads/hindcasts/JMA/JMA/Z500/p500_Phh_mon.20040411.grb2\n",
      "processing /home/nicolasf/drives/auck_projects/END19101/Working/data/GCMs/downloads/hindcasts/JMA/JMA/Z500/p500_Phh_mon.20040426.grb2\n",
      "processing /home/nicolasf/drives/auck_projects/END19101/Working/data/GCMs/downloads/hindcasts/JMA/JMA/Z500/p500_Phh_mon.20040516.grb2\n",
      "processing /home/nicolasf/drives/auck_projects/END19101/Working/data/GCMs/downloads/hindcasts/JMA/JMA/Z500/p500_Phh_mon.20040531.grb2\n",
      "processing /home/nicolasf/drives/auck_projects/END19101/Working/data/GCMs/downloads/hindcasts/JMA/JMA/Z500/p500_Phh_mon.20040615.grb2\n",
      "processing /home/nicolasf/drives/auck_projects/END19101/Working/data/GCMs/downloads/hindcasts/JMA/JMA/Z500/p500_Phh_mon.20040630.grb2\n",
      "processing /home/nicolasf/drives/auck_projects/END19101/Working/data/GCMs/downloads/hindcasts/JMA/JMA/Z500/p500_Phh_mon.20040715.grb2\n",
      "processing /home/nicolasf/drives/auck_projects/END19101/Working/data/GCMs/downloads/hindcasts/JMA/JMA/Z500/p500_Phh_mon.20040730.grb2\n",
      "processing /home/nicolasf/drives/auck_projects/END19101/Working/data/GCMs/downloads/hindcasts/JMA/JMA/Z500/p500_Phh_mon.20040814.grb2\n",
      "processing /home/nicolasf/drives/auck_projects/END19101/Working/data/GCMs/downloads/hindcasts/JMA/JMA/Z500/p500_Phh_mon.20040829.grb2\n",
      "processing /home/nicolasf/drives/auck_projects/END19101/Working/data/GCMs/downloads/hindcasts/JMA/JMA/Z500/p500_Phh_mon.20040913.grb2\n",
      "processing /home/nicolasf/drives/auck_projects/END19101/Working/data/GCMs/downloads/hindcasts/JMA/JMA/Z500/p500_Phh_mon.20040928.grb2\n",
      "processing /home/nicolasf/drives/auck_projects/END19101/Working/data/GCMs/downloads/hindcasts/JMA/JMA/Z500/p500_Phh_mon.20041013.grb2\n",
      "processing /home/nicolasf/drives/auck_projects/END19101/Working/data/GCMs/downloads/hindcasts/JMA/JMA/Z500/p500_Phh_mon.20041028.grb2\n",
      "processing /home/nicolasf/drives/auck_projects/END19101/Working/data/GCMs/downloads/hindcasts/JMA/JMA/Z500/p500_Phh_mon.20041112.grb2\n",
      "processing /home/nicolasf/drives/auck_projects/END19101/Working/data/GCMs/downloads/hindcasts/JMA/JMA/Z500/p500_Phh_mon.20041127.grb2\n",
      "processing /home/nicolasf/drives/auck_projects/END19101/Working/data/GCMs/downloads/hindcasts/JMA/JMA/Z500/p500_Phh_mon.20041212.grb2\n",
      "processing /home/nicolasf/drives/auck_projects/END19101/Working/data/GCMs/downloads/hindcasts/JMA/JMA/Z500/p500_Phh_mon.20041227.grb2\n",
      "processing /home/nicolasf/drives/auck_projects/END19101/Working/data/GCMs/downloads/hindcasts/JMA/JMA/Z500/p500_Phh_mon.20050116.grb2\n",
      "processing /home/nicolasf/drives/auck_projects/END19101/Working/data/GCMs/downloads/hindcasts/JMA/JMA/Z500/p500_Phh_mon.20050131.grb2\n",
      "processing /home/nicolasf/drives/auck_projects/END19101/Working/data/GCMs/downloads/hindcasts/JMA/JMA/Z500/p500_Phh_mon.20050210.grb2\n",
      "processing /home/nicolasf/drives/auck_projects/END19101/Working/data/GCMs/downloads/hindcasts/JMA/JMA/Z500/p500_Phh_mon.20050225.grb2\n",
      "processing /home/nicolasf/drives/auck_projects/END19101/Working/data/GCMs/downloads/hindcasts/JMA/JMA/Z500/p500_Phh_mon.20050312.grb2\n",
      "processing /home/nicolasf/drives/auck_projects/END19101/Working/data/GCMs/downloads/hindcasts/JMA/JMA/Z500/p500_Phh_mon.20050327.grb2\n",
      "processing /home/nicolasf/drives/auck_projects/END19101/Working/data/GCMs/downloads/hindcasts/JMA/JMA/Z500/p500_Phh_mon.20050411.grb2\n",
      "processing /home/nicolasf/drives/auck_projects/END19101/Working/data/GCMs/downloads/hindcasts/JMA/JMA/Z500/p500_Phh_mon.20050426.grb2\n",
      "processing /home/nicolasf/drives/auck_projects/END19101/Working/data/GCMs/downloads/hindcasts/JMA/JMA/Z500/p500_Phh_mon.20050516.grb2\n",
      "processing /home/nicolasf/drives/auck_projects/END19101/Working/data/GCMs/downloads/hindcasts/JMA/JMA/Z500/p500_Phh_mon.20050531.grb2\n",
      "processing /home/nicolasf/drives/auck_projects/END19101/Working/data/GCMs/downloads/hindcasts/JMA/JMA/Z500/p500_Phh_mon.20050615.grb2\n",
      "processing /home/nicolasf/drives/auck_projects/END19101/Working/data/GCMs/downloads/hindcasts/JMA/JMA/Z500/p500_Phh_mon.20050630.grb2\n",
      "processing /home/nicolasf/drives/auck_projects/END19101/Working/data/GCMs/downloads/hindcasts/JMA/JMA/Z500/p500_Phh_mon.20050715.grb2\n",
      "processing /home/nicolasf/drives/auck_projects/END19101/Working/data/GCMs/downloads/hindcasts/JMA/JMA/Z500/p500_Phh_mon.20050730.grb2\n",
      "processing /home/nicolasf/drives/auck_projects/END19101/Working/data/GCMs/downloads/hindcasts/JMA/JMA/Z500/p500_Phh_mon.20050814.grb2\n",
      "processing /home/nicolasf/drives/auck_projects/END19101/Working/data/GCMs/downloads/hindcasts/JMA/JMA/Z500/p500_Phh_mon.20050829.grb2\n",
      "processing /home/nicolasf/drives/auck_projects/END19101/Working/data/GCMs/downloads/hindcasts/JMA/JMA/Z500/p500_Phh_mon.20050913.grb2\n",
      "processing /home/nicolasf/drives/auck_projects/END19101/Working/data/GCMs/downloads/hindcasts/JMA/JMA/Z500/p500_Phh_mon.20050928.grb2\n",
      "processing /home/nicolasf/drives/auck_projects/END19101/Working/data/GCMs/downloads/hindcasts/JMA/JMA/Z500/p500_Phh_mon.20051013.grb2\n",
      "processing /home/nicolasf/drives/auck_projects/END19101/Working/data/GCMs/downloads/hindcasts/JMA/JMA/Z500/p500_Phh_mon.20051028.grb2\n",
      "processing /home/nicolasf/drives/auck_projects/END19101/Working/data/GCMs/downloads/hindcasts/JMA/JMA/Z500/p500_Phh_mon.20051112.grb2\n",
      "processing /home/nicolasf/drives/auck_projects/END19101/Working/data/GCMs/downloads/hindcasts/JMA/JMA/Z500/p500_Phh_mon.20051127.grb2\n",
      "processing /home/nicolasf/drives/auck_projects/END19101/Working/data/GCMs/downloads/hindcasts/JMA/JMA/Z500/p500_Phh_mon.20051212.grb2\n",
      "processing /home/nicolasf/drives/auck_projects/END19101/Working/data/GCMs/downloads/hindcasts/JMA/JMA/Z500/p500_Phh_mon.20051227.grb2\n",
      "processing /home/nicolasf/drives/auck_projects/END19101/Working/data/GCMs/downloads/hindcasts/JMA/JMA/Z500/p500_Phh_mon.20060116.grb2\n",
      "processing /home/nicolasf/drives/auck_projects/END19101/Working/data/GCMs/downloads/hindcasts/JMA/JMA/Z500/p500_Phh_mon.20060131.grb2\n",
      "processing /home/nicolasf/drives/auck_projects/END19101/Working/data/GCMs/downloads/hindcasts/JMA/JMA/Z500/p500_Phh_mon.20060210.grb2\n",
      "processing /home/nicolasf/drives/auck_projects/END19101/Working/data/GCMs/downloads/hindcasts/JMA/JMA/Z500/p500_Phh_mon.20060225.grb2\n",
      "processing /home/nicolasf/drives/auck_projects/END19101/Working/data/GCMs/downloads/hindcasts/JMA/JMA/Z500/p500_Phh_mon.20060312.grb2\n",
      "processing /home/nicolasf/drives/auck_projects/END19101/Working/data/GCMs/downloads/hindcasts/JMA/JMA/Z500/p500_Phh_mon.20060327.grb2\n",
      "processing /home/nicolasf/drives/auck_projects/END19101/Working/data/GCMs/downloads/hindcasts/JMA/JMA/Z500/p500_Phh_mon.20060411.grb2\n",
      "processing /home/nicolasf/drives/auck_projects/END19101/Working/data/GCMs/downloads/hindcasts/JMA/JMA/Z500/p500_Phh_mon.20060426.grb2\n",
      "processing /home/nicolasf/drives/auck_projects/END19101/Working/data/GCMs/downloads/hindcasts/JMA/JMA/Z500/p500_Phh_mon.20060516.grb2\n",
      "processing /home/nicolasf/drives/auck_projects/END19101/Working/data/GCMs/downloads/hindcasts/JMA/JMA/Z500/p500_Phh_mon.20060531.grb2\n",
      "processing /home/nicolasf/drives/auck_projects/END19101/Working/data/GCMs/downloads/hindcasts/JMA/JMA/Z500/p500_Phh_mon.20060615.grb2\n",
      "processing /home/nicolasf/drives/auck_projects/END19101/Working/data/GCMs/downloads/hindcasts/JMA/JMA/Z500/p500_Phh_mon.20060630.grb2\n",
      "processing /home/nicolasf/drives/auck_projects/END19101/Working/data/GCMs/downloads/hindcasts/JMA/JMA/Z500/p500_Phh_mon.20060715.grb2\n",
      "processing /home/nicolasf/drives/auck_projects/END19101/Working/data/GCMs/downloads/hindcasts/JMA/JMA/Z500/p500_Phh_mon.20060730.grb2\n",
      "processing /home/nicolasf/drives/auck_projects/END19101/Working/data/GCMs/downloads/hindcasts/JMA/JMA/Z500/p500_Phh_mon.20060814.grb2\n",
      "processing /home/nicolasf/drives/auck_projects/END19101/Working/data/GCMs/downloads/hindcasts/JMA/JMA/Z500/p500_Phh_mon.20060829.grb2\n",
      "processing /home/nicolasf/drives/auck_projects/END19101/Working/data/GCMs/downloads/hindcasts/JMA/JMA/Z500/p500_Phh_mon.20060913.grb2\n",
      "processing /home/nicolasf/drives/auck_projects/END19101/Working/data/GCMs/downloads/hindcasts/JMA/JMA/Z500/p500_Phh_mon.20060928.grb2\n",
      "processing /home/nicolasf/drives/auck_projects/END19101/Working/data/GCMs/downloads/hindcasts/JMA/JMA/Z500/p500_Phh_mon.20061013.grb2\n",
      "processing /home/nicolasf/drives/auck_projects/END19101/Working/data/GCMs/downloads/hindcasts/JMA/JMA/Z500/p500_Phh_mon.20061028.grb2\n",
      "processing /home/nicolasf/drives/auck_projects/END19101/Working/data/GCMs/downloads/hindcasts/JMA/JMA/Z500/p500_Phh_mon.20061112.grb2\n",
      "processing /home/nicolasf/drives/auck_projects/END19101/Working/data/GCMs/downloads/hindcasts/JMA/JMA/Z500/p500_Phh_mon.20061127.grb2\n",
      "processing /home/nicolasf/drives/auck_projects/END19101/Working/data/GCMs/downloads/hindcasts/JMA/JMA/Z500/p500_Phh_mon.20061212.grb2\n",
      "processing /home/nicolasf/drives/auck_projects/END19101/Working/data/GCMs/downloads/hindcasts/JMA/JMA/Z500/p500_Phh_mon.20061227.grb2\n",
      "processing /home/nicolasf/drives/auck_projects/END19101/Working/data/GCMs/downloads/hindcasts/JMA/JMA/Z500/p500_Phh_mon.20070116.grb2\n",
      "processing /home/nicolasf/drives/auck_projects/END19101/Working/data/GCMs/downloads/hindcasts/JMA/JMA/Z500/p500_Phh_mon.20070131.grb2\n",
      "processing /home/nicolasf/drives/auck_projects/END19101/Working/data/GCMs/downloads/hindcasts/JMA/JMA/Z500/p500_Phh_mon.20070210.grb2\n",
      "processing /home/nicolasf/drives/auck_projects/END19101/Working/data/GCMs/downloads/hindcasts/JMA/JMA/Z500/p500_Phh_mon.20070225.grb2\n",
      "processing /home/nicolasf/drives/auck_projects/END19101/Working/data/GCMs/downloads/hindcasts/JMA/JMA/Z500/p500_Phh_mon.20070312.grb2\n",
      "processing /home/nicolasf/drives/auck_projects/END19101/Working/data/GCMs/downloads/hindcasts/JMA/JMA/Z500/p500_Phh_mon.20070327.grb2\n",
      "processing /home/nicolasf/drives/auck_projects/END19101/Working/data/GCMs/downloads/hindcasts/JMA/JMA/Z500/p500_Phh_mon.20070411.grb2\n",
      "processing /home/nicolasf/drives/auck_projects/END19101/Working/data/GCMs/downloads/hindcasts/JMA/JMA/Z500/p500_Phh_mon.20070426.grb2\n",
      "processing /home/nicolasf/drives/auck_projects/END19101/Working/data/GCMs/downloads/hindcasts/JMA/JMA/Z500/p500_Phh_mon.20070516.grb2\n",
      "processing /home/nicolasf/drives/auck_projects/END19101/Working/data/GCMs/downloads/hindcasts/JMA/JMA/Z500/p500_Phh_mon.20070531.grb2\n",
      "processing /home/nicolasf/drives/auck_projects/END19101/Working/data/GCMs/downloads/hindcasts/JMA/JMA/Z500/p500_Phh_mon.20070615.grb2\n",
      "processing /home/nicolasf/drives/auck_projects/END19101/Working/data/GCMs/downloads/hindcasts/JMA/JMA/Z500/p500_Phh_mon.20070630.grb2\n",
      "processing /home/nicolasf/drives/auck_projects/END19101/Working/data/GCMs/downloads/hindcasts/JMA/JMA/Z500/p500_Phh_mon.20070715.grb2\n",
      "processing /home/nicolasf/drives/auck_projects/END19101/Working/data/GCMs/downloads/hindcasts/JMA/JMA/Z500/p500_Phh_mon.20070730.grb2\n",
      "processing /home/nicolasf/drives/auck_projects/END19101/Working/data/GCMs/downloads/hindcasts/JMA/JMA/Z500/p500_Phh_mon.20070814.grb2\n",
      "processing /home/nicolasf/drives/auck_projects/END19101/Working/data/GCMs/downloads/hindcasts/JMA/JMA/Z500/p500_Phh_mon.20070829.grb2\n",
      "processing /home/nicolasf/drives/auck_projects/END19101/Working/data/GCMs/downloads/hindcasts/JMA/JMA/Z500/p500_Phh_mon.20070913.grb2\n",
      "processing /home/nicolasf/drives/auck_projects/END19101/Working/data/GCMs/downloads/hindcasts/JMA/JMA/Z500/p500_Phh_mon.20070928.grb2\n",
      "processing /home/nicolasf/drives/auck_projects/END19101/Working/data/GCMs/downloads/hindcasts/JMA/JMA/Z500/p500_Phh_mon.20071013.grb2\n",
      "processing /home/nicolasf/drives/auck_projects/END19101/Working/data/GCMs/downloads/hindcasts/JMA/JMA/Z500/p500_Phh_mon.20071028.grb2\n",
      "processing /home/nicolasf/drives/auck_projects/END19101/Working/data/GCMs/downloads/hindcasts/JMA/JMA/Z500/p500_Phh_mon.20071112.grb2\n",
      "processing /home/nicolasf/drives/auck_projects/END19101/Working/data/GCMs/downloads/hindcasts/JMA/JMA/Z500/p500_Phh_mon.20071127.grb2\n",
      "processing /home/nicolasf/drives/auck_projects/END19101/Working/data/GCMs/downloads/hindcasts/JMA/JMA/Z500/p500_Phh_mon.20071212.grb2\n",
      "processing /home/nicolasf/drives/auck_projects/END19101/Working/data/GCMs/downloads/hindcasts/JMA/JMA/Z500/p500_Phh_mon.20071227.grb2\n",
      "processing /home/nicolasf/drives/auck_projects/END19101/Working/data/GCMs/downloads/hindcasts/JMA/JMA/Z500/p500_Phh_mon.20080116.grb2\n",
      "processing /home/nicolasf/drives/auck_projects/END19101/Working/data/GCMs/downloads/hindcasts/JMA/JMA/Z500/p500_Phh_mon.20080131.grb2\n",
      "processing /home/nicolasf/drives/auck_projects/END19101/Working/data/GCMs/downloads/hindcasts/JMA/JMA/Z500/p500_Phh_mon.20080210.grb2\n",
      "processing /home/nicolasf/drives/auck_projects/END19101/Working/data/GCMs/downloads/hindcasts/JMA/JMA/Z500/p500_Phh_mon.20080225.grb2\n",
      "processing /home/nicolasf/drives/auck_projects/END19101/Working/data/GCMs/downloads/hindcasts/JMA/JMA/Z500/p500_Phh_mon.20080312.grb2\n",
      "processing /home/nicolasf/drives/auck_projects/END19101/Working/data/GCMs/downloads/hindcasts/JMA/JMA/Z500/p500_Phh_mon.20080327.grb2\n",
      "processing /home/nicolasf/drives/auck_projects/END19101/Working/data/GCMs/downloads/hindcasts/JMA/JMA/Z500/p500_Phh_mon.20080411.grb2\n",
      "processing /home/nicolasf/drives/auck_projects/END19101/Working/data/GCMs/downloads/hindcasts/JMA/JMA/Z500/p500_Phh_mon.20080426.grb2\n",
      "processing /home/nicolasf/drives/auck_projects/END19101/Working/data/GCMs/downloads/hindcasts/JMA/JMA/Z500/p500_Phh_mon.20080516.grb2\n",
      "processing /home/nicolasf/drives/auck_projects/END19101/Working/data/GCMs/downloads/hindcasts/JMA/JMA/Z500/p500_Phh_mon.20080531.grb2\n",
      "processing /home/nicolasf/drives/auck_projects/END19101/Working/data/GCMs/downloads/hindcasts/JMA/JMA/Z500/p500_Phh_mon.20080615.grb2\n",
      "processing /home/nicolasf/drives/auck_projects/END19101/Working/data/GCMs/downloads/hindcasts/JMA/JMA/Z500/p500_Phh_mon.20080630.grb2\n",
      "processing /home/nicolasf/drives/auck_projects/END19101/Working/data/GCMs/downloads/hindcasts/JMA/JMA/Z500/p500_Phh_mon.20080715.grb2\n",
      "processing /home/nicolasf/drives/auck_projects/END19101/Working/data/GCMs/downloads/hindcasts/JMA/JMA/Z500/p500_Phh_mon.20080730.grb2\n",
      "processing /home/nicolasf/drives/auck_projects/END19101/Working/data/GCMs/downloads/hindcasts/JMA/JMA/Z500/p500_Phh_mon.20080814.grb2\n",
      "processing /home/nicolasf/drives/auck_projects/END19101/Working/data/GCMs/downloads/hindcasts/JMA/JMA/Z500/p500_Phh_mon.20080829.grb2\n",
      "processing /home/nicolasf/drives/auck_projects/END19101/Working/data/GCMs/downloads/hindcasts/JMA/JMA/Z500/p500_Phh_mon.20080913.grb2\n",
      "processing /home/nicolasf/drives/auck_projects/END19101/Working/data/GCMs/downloads/hindcasts/JMA/JMA/Z500/p500_Phh_mon.20080928.grb2\n",
      "processing /home/nicolasf/drives/auck_projects/END19101/Working/data/GCMs/downloads/hindcasts/JMA/JMA/Z500/p500_Phh_mon.20081013.grb2\n",
      "processing /home/nicolasf/drives/auck_projects/END19101/Working/data/GCMs/downloads/hindcasts/JMA/JMA/Z500/p500_Phh_mon.20081028.grb2\n",
      "processing /home/nicolasf/drives/auck_projects/END19101/Working/data/GCMs/downloads/hindcasts/JMA/JMA/Z500/p500_Phh_mon.20081112.grb2\n",
      "processing /home/nicolasf/drives/auck_projects/END19101/Working/data/GCMs/downloads/hindcasts/JMA/JMA/Z500/p500_Phh_mon.20081127.grb2\n",
      "processing /home/nicolasf/drives/auck_projects/END19101/Working/data/GCMs/downloads/hindcasts/JMA/JMA/Z500/p500_Phh_mon.20081212.grb2\n",
      "processing /home/nicolasf/drives/auck_projects/END19101/Working/data/GCMs/downloads/hindcasts/JMA/JMA/Z500/p500_Phh_mon.20081227.grb2\n",
      "processing /home/nicolasf/drives/auck_projects/END19101/Working/data/GCMs/downloads/hindcasts/JMA/JMA/Z500/p500_Phh_mon.20090116.grb2\n",
      "processing /home/nicolasf/drives/auck_projects/END19101/Working/data/GCMs/downloads/hindcasts/JMA/JMA/Z500/p500_Phh_mon.20090131.grb2\n",
      "processing /home/nicolasf/drives/auck_projects/END19101/Working/data/GCMs/downloads/hindcasts/JMA/JMA/Z500/p500_Phh_mon.20090210.grb2\n",
      "processing /home/nicolasf/drives/auck_projects/END19101/Working/data/GCMs/downloads/hindcasts/JMA/JMA/Z500/p500_Phh_mon.20090225.grb2\n",
      "processing /home/nicolasf/drives/auck_projects/END19101/Working/data/GCMs/downloads/hindcasts/JMA/JMA/Z500/p500_Phh_mon.20090312.grb2\n",
      "processing /home/nicolasf/drives/auck_projects/END19101/Working/data/GCMs/downloads/hindcasts/JMA/JMA/Z500/p500_Phh_mon.20090327.grb2\n",
      "processing /home/nicolasf/drives/auck_projects/END19101/Working/data/GCMs/downloads/hindcasts/JMA/JMA/Z500/p500_Phh_mon.20090411.grb2\n",
      "processing /home/nicolasf/drives/auck_projects/END19101/Working/data/GCMs/downloads/hindcasts/JMA/JMA/Z500/p500_Phh_mon.20090426.grb2\n",
      "processing /home/nicolasf/drives/auck_projects/END19101/Working/data/GCMs/downloads/hindcasts/JMA/JMA/Z500/p500_Phh_mon.20090516.grb2\n",
      "processing /home/nicolasf/drives/auck_projects/END19101/Working/data/GCMs/downloads/hindcasts/JMA/JMA/Z500/p500_Phh_mon.20090531.grb2\n",
      "processing /home/nicolasf/drives/auck_projects/END19101/Working/data/GCMs/downloads/hindcasts/JMA/JMA/Z500/p500_Phh_mon.20090615.grb2\n",
      "processing /home/nicolasf/drives/auck_projects/END19101/Working/data/GCMs/downloads/hindcasts/JMA/JMA/Z500/p500_Phh_mon.20090630.grb2\n",
      "processing /home/nicolasf/drives/auck_projects/END19101/Working/data/GCMs/downloads/hindcasts/JMA/JMA/Z500/p500_Phh_mon.20090715.grb2\n",
      "processing /home/nicolasf/drives/auck_projects/END19101/Working/data/GCMs/downloads/hindcasts/JMA/JMA/Z500/p500_Phh_mon.20090730.grb2\n",
      "processing /home/nicolasf/drives/auck_projects/END19101/Working/data/GCMs/downloads/hindcasts/JMA/JMA/Z500/p500_Phh_mon.20090814.grb2\n",
      "processing /home/nicolasf/drives/auck_projects/END19101/Working/data/GCMs/downloads/hindcasts/JMA/JMA/Z500/p500_Phh_mon.20090829.grb2\n",
      "processing /home/nicolasf/drives/auck_projects/END19101/Working/data/GCMs/downloads/hindcasts/JMA/JMA/Z500/p500_Phh_mon.20090913.grb2\n",
      "processing /home/nicolasf/drives/auck_projects/END19101/Working/data/GCMs/downloads/hindcasts/JMA/JMA/Z500/p500_Phh_mon.20090928.grb2\n",
      "processing /home/nicolasf/drives/auck_projects/END19101/Working/data/GCMs/downloads/hindcasts/JMA/JMA/Z500/p500_Phh_mon.20091013.grb2\n",
      "processing /home/nicolasf/drives/auck_projects/END19101/Working/data/GCMs/downloads/hindcasts/JMA/JMA/Z500/p500_Phh_mon.20091028.grb2\n",
      "processing /home/nicolasf/drives/auck_projects/END19101/Working/data/GCMs/downloads/hindcasts/JMA/JMA/Z500/p500_Phh_mon.20091112.grb2\n",
      "processing /home/nicolasf/drives/auck_projects/END19101/Working/data/GCMs/downloads/hindcasts/JMA/JMA/Z500/p500_Phh_mon.20091127.grb2\n",
      "processing /home/nicolasf/drives/auck_projects/END19101/Working/data/GCMs/downloads/hindcasts/JMA/JMA/Z500/p500_Phh_mon.20091212.grb2\n",
      "processing /home/nicolasf/drives/auck_projects/END19101/Working/data/GCMs/downloads/hindcasts/JMA/JMA/Z500/p500_Phh_mon.20091227.grb2\n",
      "processing /home/nicolasf/drives/auck_projects/END19101/Working/data/GCMs/downloads/hindcasts/JMA/JMA/Z500/p500_Phh_mon.20100116.grb2\n",
      "processing /home/nicolasf/drives/auck_projects/END19101/Working/data/GCMs/downloads/hindcasts/JMA/JMA/Z500/p500_Phh_mon.20100131.grb2\n",
      "processing /home/nicolasf/drives/auck_projects/END19101/Working/data/GCMs/downloads/hindcasts/JMA/JMA/Z500/p500_Phh_mon.20100210.grb2\n",
      "processing /home/nicolasf/drives/auck_projects/END19101/Working/data/GCMs/downloads/hindcasts/JMA/JMA/Z500/p500_Phh_mon.20100225.grb2\n",
      "processing /home/nicolasf/drives/auck_projects/END19101/Working/data/GCMs/downloads/hindcasts/JMA/JMA/Z500/p500_Phh_mon.20100312.grb2\n",
      "processing /home/nicolasf/drives/auck_projects/END19101/Working/data/GCMs/downloads/hindcasts/JMA/JMA/Z500/p500_Phh_mon.20100327.grb2\n",
      "processing /home/nicolasf/drives/auck_projects/END19101/Working/data/GCMs/downloads/hindcasts/JMA/JMA/Z500/p500_Phh_mon.20100411.grb2\n",
      "processing /home/nicolasf/drives/auck_projects/END19101/Working/data/GCMs/downloads/hindcasts/JMA/JMA/Z500/p500_Phh_mon.20100426.grb2\n",
      "processing /home/nicolasf/drives/auck_projects/END19101/Working/data/GCMs/downloads/hindcasts/JMA/JMA/Z500/p500_Phh_mon.20100516.grb2\n",
      "processing /home/nicolasf/drives/auck_projects/END19101/Working/data/GCMs/downloads/hindcasts/JMA/JMA/Z500/p500_Phh_mon.20100531.grb2\n",
      "processing /home/nicolasf/drives/auck_projects/END19101/Working/data/GCMs/downloads/hindcasts/JMA/JMA/Z500/p500_Phh_mon.20100615.grb2\n",
      "processing /home/nicolasf/drives/auck_projects/END19101/Working/data/GCMs/downloads/hindcasts/JMA/JMA/Z500/p500_Phh_mon.20100630.grb2\n",
      "processing /home/nicolasf/drives/auck_projects/END19101/Working/data/GCMs/downloads/hindcasts/JMA/JMA/Z500/p500_Phh_mon.20100715.grb2\n",
      "processing /home/nicolasf/drives/auck_projects/END19101/Working/data/GCMs/downloads/hindcasts/JMA/JMA/Z500/p500_Phh_mon.20100730.grb2\n",
      "processing /home/nicolasf/drives/auck_projects/END19101/Working/data/GCMs/downloads/hindcasts/JMA/JMA/Z500/p500_Phh_mon.20100814.grb2\n",
      "processing /home/nicolasf/drives/auck_projects/END19101/Working/data/GCMs/downloads/hindcasts/JMA/JMA/Z500/p500_Phh_mon.20100829.grb2\n",
      "processing /home/nicolasf/drives/auck_projects/END19101/Working/data/GCMs/downloads/hindcasts/JMA/JMA/Z500/p500_Phh_mon.20100913.grb2\n",
      "processing /home/nicolasf/drives/auck_projects/END19101/Working/data/GCMs/downloads/hindcasts/JMA/JMA/Z500/p500_Phh_mon.20100928.grb2\n",
      "processing /home/nicolasf/drives/auck_projects/END19101/Working/data/GCMs/downloads/hindcasts/JMA/JMA/Z500/p500_Phh_mon.20101013.grb2\n",
      "processing /home/nicolasf/drives/auck_projects/END19101/Working/data/GCMs/downloads/hindcasts/JMA/JMA/Z500/p500_Phh_mon.20101028.grb2\n",
      "processing /home/nicolasf/drives/auck_projects/END19101/Working/data/GCMs/downloads/hindcasts/JMA/JMA/Z500/p500_Phh_mon.20101112.grb2\n",
      "processing /home/nicolasf/drives/auck_projects/END19101/Working/data/GCMs/downloads/hindcasts/JMA/JMA/Z500/p500_Phh_mon.20101127.grb2\n",
      "processing /home/nicolasf/drives/auck_projects/END19101/Working/data/GCMs/downloads/hindcasts/JMA/JMA/Z500/p500_Phh_mon.20101212.grb2\n",
      "processing /home/nicolasf/drives/auck_projects/END19101/Working/data/GCMs/downloads/hindcasts/JMA/JMA/Z500/p500_Phh_mon.20101227.grb2\n",
      "processing /home/nicolasf/drives/auck_projects/END19101/Working/data/GCMs/downloads/hindcasts/JMA/JMA/Z500/p500_Phh_mon.20110116.grb2\n",
      "processing /home/nicolasf/drives/auck_projects/END19101/Working/data/GCMs/downloads/hindcasts/JMA/JMA/Z500/p500_Phh_mon.20110131.grb2\n",
      "processing /home/nicolasf/drives/auck_projects/END19101/Working/data/GCMs/downloads/hindcasts/JMA/JMA/Z500/p500_Phh_mon.20110210.grb2\n",
      "processing /home/nicolasf/drives/auck_projects/END19101/Working/data/GCMs/downloads/hindcasts/JMA/JMA/Z500/p500_Phh_mon.20110225.grb2\n",
      "processing /home/nicolasf/drives/auck_projects/END19101/Working/data/GCMs/downloads/hindcasts/JMA/JMA/Z500/p500_Phh_mon.20110312.grb2\n",
      "processing /home/nicolasf/drives/auck_projects/END19101/Working/data/GCMs/downloads/hindcasts/JMA/JMA/Z500/p500_Phh_mon.20110327.grb2\n",
      "processing /home/nicolasf/drives/auck_projects/END19101/Working/data/GCMs/downloads/hindcasts/JMA/JMA/Z500/p500_Phh_mon.20110411.grb2\n",
      "processing /home/nicolasf/drives/auck_projects/END19101/Working/data/GCMs/downloads/hindcasts/JMA/JMA/Z500/p500_Phh_mon.20110426.grb2\n",
      "processing /home/nicolasf/drives/auck_projects/END19101/Working/data/GCMs/downloads/hindcasts/JMA/JMA/Z500/p500_Phh_mon.20110516.grb2\n",
      "processing /home/nicolasf/drives/auck_projects/END19101/Working/data/GCMs/downloads/hindcasts/JMA/JMA/Z500/p500_Phh_mon.20110531.grb2\n",
      "processing /home/nicolasf/drives/auck_projects/END19101/Working/data/GCMs/downloads/hindcasts/JMA/JMA/Z500/p500_Phh_mon.20110615.grb2\n",
      "processing /home/nicolasf/drives/auck_projects/END19101/Working/data/GCMs/downloads/hindcasts/JMA/JMA/Z500/p500_Phh_mon.20110630.grb2\n",
      "processing /home/nicolasf/drives/auck_projects/END19101/Working/data/GCMs/downloads/hindcasts/JMA/JMA/Z500/p500_Phh_mon.20110715.grb2\n",
      "processing /home/nicolasf/drives/auck_projects/END19101/Working/data/GCMs/downloads/hindcasts/JMA/JMA/Z500/p500_Phh_mon.20110730.grb2\n",
      "processing /home/nicolasf/drives/auck_projects/END19101/Working/data/GCMs/downloads/hindcasts/JMA/JMA/Z500/p500_Phh_mon.20110814.grb2\n",
      "processing /home/nicolasf/drives/auck_projects/END19101/Working/data/GCMs/downloads/hindcasts/JMA/JMA/Z500/p500_Phh_mon.20110829.grb2\n",
      "processing /home/nicolasf/drives/auck_projects/END19101/Working/data/GCMs/downloads/hindcasts/JMA/JMA/Z500/p500_Phh_mon.20110913.grb2\n",
      "processing /home/nicolasf/drives/auck_projects/END19101/Working/data/GCMs/downloads/hindcasts/JMA/JMA/Z500/p500_Phh_mon.20110928.grb2\n",
      "processing /home/nicolasf/drives/auck_projects/END19101/Working/data/GCMs/downloads/hindcasts/JMA/JMA/Z500/p500_Phh_mon.20111013.grb2\n",
      "processing /home/nicolasf/drives/auck_projects/END19101/Working/data/GCMs/downloads/hindcasts/JMA/JMA/Z500/p500_Phh_mon.20111028.grb2\n",
      "processing /home/nicolasf/drives/auck_projects/END19101/Working/data/GCMs/downloads/hindcasts/JMA/JMA/Z500/p500_Phh_mon.20111112.grb2\n",
      "processing /home/nicolasf/drives/auck_projects/END19101/Working/data/GCMs/downloads/hindcasts/JMA/JMA/Z500/p500_Phh_mon.20111127.grb2\n",
      "processing /home/nicolasf/drives/auck_projects/END19101/Working/data/GCMs/downloads/hindcasts/JMA/JMA/Z500/p500_Phh_mon.20111212.grb2\n",
      "processing /home/nicolasf/drives/auck_projects/END19101/Working/data/GCMs/downloads/hindcasts/JMA/JMA/Z500/p500_Phh_mon.20111227.grb2\n",
      "processing /home/nicolasf/drives/auck_projects/END19101/Working/data/GCMs/downloads/hindcasts/JMA/JMA/Z500/p500_Phh_mon.20120116.grb2\n",
      "processing /home/nicolasf/drives/auck_projects/END19101/Working/data/GCMs/downloads/hindcasts/JMA/JMA/Z500/p500_Phh_mon.20120131.grb2\n",
      "processing /home/nicolasf/drives/auck_projects/END19101/Working/data/GCMs/downloads/hindcasts/JMA/JMA/Z500/p500_Phh_mon.20120210.grb2\n",
      "processing /home/nicolasf/drives/auck_projects/END19101/Working/data/GCMs/downloads/hindcasts/JMA/JMA/Z500/p500_Phh_mon.20120225.grb2\n",
      "processing /home/nicolasf/drives/auck_projects/END19101/Working/data/GCMs/downloads/hindcasts/JMA/JMA/Z500/p500_Phh_mon.20120312.grb2\n",
      "processing /home/nicolasf/drives/auck_projects/END19101/Working/data/GCMs/downloads/hindcasts/JMA/JMA/Z500/p500_Phh_mon.20120327.grb2\n",
      "processing /home/nicolasf/drives/auck_projects/END19101/Working/data/GCMs/downloads/hindcasts/JMA/JMA/Z500/p500_Phh_mon.20120411.grb2\n",
      "processing /home/nicolasf/drives/auck_projects/END19101/Working/data/GCMs/downloads/hindcasts/JMA/JMA/Z500/p500_Phh_mon.20120426.grb2\n",
      "processing /home/nicolasf/drives/auck_projects/END19101/Working/data/GCMs/downloads/hindcasts/JMA/JMA/Z500/p500_Phh_mon.20120516.grb2\n",
      "processing /home/nicolasf/drives/auck_projects/END19101/Working/data/GCMs/downloads/hindcasts/JMA/JMA/Z500/p500_Phh_mon.20120531.grb2\n",
      "processing /home/nicolasf/drives/auck_projects/END19101/Working/data/GCMs/downloads/hindcasts/JMA/JMA/Z500/p500_Phh_mon.20120615.grb2\n",
      "processing /home/nicolasf/drives/auck_projects/END19101/Working/data/GCMs/downloads/hindcasts/JMA/JMA/Z500/p500_Phh_mon.20120630.grb2\n",
      "processing /home/nicolasf/drives/auck_projects/END19101/Working/data/GCMs/downloads/hindcasts/JMA/JMA/Z500/p500_Phh_mon.20120715.grb2\n",
      "processing /home/nicolasf/drives/auck_projects/END19101/Working/data/GCMs/downloads/hindcasts/JMA/JMA/Z500/p500_Phh_mon.20120730.grb2\n",
      "processing /home/nicolasf/drives/auck_projects/END19101/Working/data/GCMs/downloads/hindcasts/JMA/JMA/Z500/p500_Phh_mon.20120814.grb2\n",
      "processing /home/nicolasf/drives/auck_projects/END19101/Working/data/GCMs/downloads/hindcasts/JMA/JMA/Z500/p500_Phh_mon.20120829.grb2\n",
      "processing /home/nicolasf/drives/auck_projects/END19101/Working/data/GCMs/downloads/hindcasts/JMA/JMA/Z500/p500_Phh_mon.20120913.grb2\n",
      "processing /home/nicolasf/drives/auck_projects/END19101/Working/data/GCMs/downloads/hindcasts/JMA/JMA/Z500/p500_Phh_mon.20120928.grb2\n",
      "processing /home/nicolasf/drives/auck_projects/END19101/Working/data/GCMs/downloads/hindcasts/JMA/JMA/Z500/p500_Phh_mon.20121013.grb2\n",
      "processing /home/nicolasf/drives/auck_projects/END19101/Working/data/GCMs/downloads/hindcasts/JMA/JMA/Z500/p500_Phh_mon.20121028.grb2\n",
      "processing /home/nicolasf/drives/auck_projects/END19101/Working/data/GCMs/downloads/hindcasts/JMA/JMA/Z500/p500_Phh_mon.20121112.grb2\n",
      "processing /home/nicolasf/drives/auck_projects/END19101/Working/data/GCMs/downloads/hindcasts/JMA/JMA/Z500/p500_Phh_mon.20121127.grb2\n",
      "processing /home/nicolasf/drives/auck_projects/END19101/Working/data/GCMs/downloads/hindcasts/JMA/JMA/Z500/p500_Phh_mon.20121212.grb2\n",
      "processing /home/nicolasf/drives/auck_projects/END19101/Working/data/GCMs/downloads/hindcasts/JMA/JMA/Z500/p500_Phh_mon.20121227.grb2\n",
      "processing /home/nicolasf/drives/auck_projects/END19101/Working/data/GCMs/downloads/hindcasts/JMA/JMA/Z500/p500_Phh_mon.20130116.grb2\n",
      "processing /home/nicolasf/drives/auck_projects/END19101/Working/data/GCMs/downloads/hindcasts/JMA/JMA/Z500/p500_Phh_mon.20130131.grb2\n",
      "processing /home/nicolasf/drives/auck_projects/END19101/Working/data/GCMs/downloads/hindcasts/JMA/JMA/Z500/p500_Phh_mon.20130210.grb2\n",
      "processing /home/nicolasf/drives/auck_projects/END19101/Working/data/GCMs/downloads/hindcasts/JMA/JMA/Z500/p500_Phh_mon.20130225.grb2\n",
      "processing /home/nicolasf/drives/auck_projects/END19101/Working/data/GCMs/downloads/hindcasts/JMA/JMA/Z500/p500_Phh_mon.20130312.grb2\n",
      "processing /home/nicolasf/drives/auck_projects/END19101/Working/data/GCMs/downloads/hindcasts/JMA/JMA/Z500/p500_Phh_mon.20130327.grb2\n",
      "processing /home/nicolasf/drives/auck_projects/END19101/Working/data/GCMs/downloads/hindcasts/JMA/JMA/Z500/p500_Phh_mon.20130411.grb2\n",
      "processing /home/nicolasf/drives/auck_projects/END19101/Working/data/GCMs/downloads/hindcasts/JMA/JMA/Z500/p500_Phh_mon.20130426.grb2\n",
      "processing /home/nicolasf/drives/auck_projects/END19101/Working/data/GCMs/downloads/hindcasts/JMA/JMA/Z500/p500_Phh_mon.20130516.grb2\n",
      "processing /home/nicolasf/drives/auck_projects/END19101/Working/data/GCMs/downloads/hindcasts/JMA/JMA/Z500/p500_Phh_mon.20130531.grb2\n",
      "processing /home/nicolasf/drives/auck_projects/END19101/Working/data/GCMs/downloads/hindcasts/JMA/JMA/Z500/p500_Phh_mon.20130615.grb2\n",
      "processing /home/nicolasf/drives/auck_projects/END19101/Working/data/GCMs/downloads/hindcasts/JMA/JMA/Z500/p500_Phh_mon.20130630.grb2\n",
      "processing /home/nicolasf/drives/auck_projects/END19101/Working/data/GCMs/downloads/hindcasts/JMA/JMA/Z500/p500_Phh_mon.20130715.grb2\n",
      "processing /home/nicolasf/drives/auck_projects/END19101/Working/data/GCMs/downloads/hindcasts/JMA/JMA/Z500/p500_Phh_mon.20130730.grb2\n",
      "processing /home/nicolasf/drives/auck_projects/END19101/Working/data/GCMs/downloads/hindcasts/JMA/JMA/Z500/p500_Phh_mon.20130814.grb2\n",
      "processing /home/nicolasf/drives/auck_projects/END19101/Working/data/GCMs/downloads/hindcasts/JMA/JMA/Z500/p500_Phh_mon.20130829.grb2\n",
      "processing /home/nicolasf/drives/auck_projects/END19101/Working/data/GCMs/downloads/hindcasts/JMA/JMA/Z500/p500_Phh_mon.20130913.grb2\n",
      "processing /home/nicolasf/drives/auck_projects/END19101/Working/data/GCMs/downloads/hindcasts/JMA/JMA/Z500/p500_Phh_mon.20130928.grb2\n",
      "processing /home/nicolasf/drives/auck_projects/END19101/Working/data/GCMs/downloads/hindcasts/JMA/JMA/Z500/p500_Phh_mon.20131013.grb2\n",
      "processing /home/nicolasf/drives/auck_projects/END19101/Working/data/GCMs/downloads/hindcasts/JMA/JMA/Z500/p500_Phh_mon.20131028.grb2\n",
      "processing /home/nicolasf/drives/auck_projects/END19101/Working/data/GCMs/downloads/hindcasts/JMA/JMA/Z500/p500_Phh_mon.20131112.grb2\n",
      "processing /home/nicolasf/drives/auck_projects/END19101/Working/data/GCMs/downloads/hindcasts/JMA/JMA/Z500/p500_Phh_mon.20131127.grb2\n",
      "processing /home/nicolasf/drives/auck_projects/END19101/Working/data/GCMs/downloads/hindcasts/JMA/JMA/Z500/p500_Phh_mon.20131212.grb2\n",
      "processing /home/nicolasf/drives/auck_projects/END19101/Working/data/GCMs/downloads/hindcasts/JMA/JMA/Z500/p500_Phh_mon.20131227.grb2\n",
      "processing /home/nicolasf/drives/auck_projects/END19101/Working/data/GCMs/downloads/hindcasts/JMA/JMA/Z500/p500_Phh_mon.20140116.grb2\n",
      "processing /home/nicolasf/drives/auck_projects/END19101/Working/data/GCMs/downloads/hindcasts/JMA/JMA/Z500/p500_Phh_mon.20140131.grb2\n",
      "processing /home/nicolasf/drives/auck_projects/END19101/Working/data/GCMs/downloads/hindcasts/JMA/JMA/Z500/p500_Phh_mon.20140210.grb2\n",
      "processing /home/nicolasf/drives/auck_projects/END19101/Working/data/GCMs/downloads/hindcasts/JMA/JMA/Z500/p500_Phh_mon.20140225.grb2\n",
      "processing /home/nicolasf/drives/auck_projects/END19101/Working/data/GCMs/downloads/hindcasts/JMA/JMA/Z500/p500_Phh_mon.20140312.grb2\n",
      "processing /home/nicolasf/drives/auck_projects/END19101/Working/data/GCMs/downloads/hindcasts/JMA/JMA/Z500/p500_Phh_mon.20140327.grb2\n",
      "processing /home/nicolasf/drives/auck_projects/END19101/Working/data/GCMs/downloads/hindcasts/JMA/JMA/Z500/p500_Phh_mon.20140411.grb2\n",
      "processing /home/nicolasf/drives/auck_projects/END19101/Working/data/GCMs/downloads/hindcasts/JMA/JMA/Z500/p500_Phh_mon.20140426.grb2\n",
      "processing /home/nicolasf/drives/auck_projects/END19101/Working/data/GCMs/downloads/hindcasts/JMA/JMA/Z500/p500_Phh_mon.20140516.grb2\n",
      "processing /home/nicolasf/drives/auck_projects/END19101/Working/data/GCMs/downloads/hindcasts/JMA/JMA/Z500/p500_Phh_mon.20140531.grb2\n",
      "processing /home/nicolasf/drives/auck_projects/END19101/Working/data/GCMs/downloads/hindcasts/JMA/JMA/Z500/p500_Phh_mon.20140615.grb2\n",
      "processing /home/nicolasf/drives/auck_projects/END19101/Working/data/GCMs/downloads/hindcasts/JMA/JMA/Z500/p500_Phh_mon.20140630.grb2\n",
      "processing /home/nicolasf/drives/auck_projects/END19101/Working/data/GCMs/downloads/hindcasts/JMA/JMA/Z500/p500_Phh_mon.20140715.grb2\n",
      "processing /home/nicolasf/drives/auck_projects/END19101/Working/data/GCMs/downloads/hindcasts/JMA/JMA/Z500/p500_Phh_mon.20140730.grb2\n",
      "processing /home/nicolasf/drives/auck_projects/END19101/Working/data/GCMs/downloads/hindcasts/JMA/JMA/Z500/p500_Phh_mon.20140814.grb2\n",
      "processing /home/nicolasf/drives/auck_projects/END19101/Working/data/GCMs/downloads/hindcasts/JMA/JMA/Z500/p500_Phh_mon.20140829.grb2\n",
      "processing /home/nicolasf/drives/auck_projects/END19101/Working/data/GCMs/downloads/hindcasts/JMA/JMA/Z500/p500_Phh_mon.20140913.grb2\n",
      "processing /home/nicolasf/drives/auck_projects/END19101/Working/data/GCMs/downloads/hindcasts/JMA/JMA/Z500/p500_Phh_mon.20140928.grb2\n",
      "processing /home/nicolasf/drives/auck_projects/END19101/Working/data/GCMs/downloads/hindcasts/JMA/JMA/Z500/p500_Phh_mon.20141013.grb2\n",
      "processing /home/nicolasf/drives/auck_projects/END19101/Working/data/GCMs/downloads/hindcasts/JMA/JMA/Z500/p500_Phh_mon.20141028.grb2\n",
      "processing /home/nicolasf/drives/auck_projects/END19101/Working/data/GCMs/downloads/hindcasts/JMA/JMA/Z500/p500_Phh_mon.20141112.grb2\n",
      "processing /home/nicolasf/drives/auck_projects/END19101/Working/data/GCMs/downloads/hindcasts/JMA/JMA/Z500/p500_Phh_mon.20141127.grb2\n",
      "processing /home/nicolasf/drives/auck_projects/END19101/Working/data/GCMs/downloads/hindcasts/JMA/JMA/Z500/p500_Phh_mon.20141212.grb2\n",
      "processing /home/nicolasf/drives/auck_projects/END19101/Working/data/GCMs/downloads/hindcasts/JMA/JMA/Z500/p500_Phh_mon.20141227.grb2\n"
     ]
    }
   ],
   "source": [
    "for fname in lfiles_mon: \n",
    "\n",
    "    print(f\"processing {fname}\")\n",
    "\n",
    "    out_fname = fname.name.replace('.grb2','.nc')\n",
    "    out_fname = opath / out_fname\n",
    "\n",
    "    init_date = datetime.strptime(fname.name.split('.')[-2], \"%Y%m%d\")\n",
    "\n",
    "    grbs = pygrib.open(str(fname))\n",
    "\n",
    "    analDates = []\n",
    "    validDates = []\n",
    "    validityDates = []\n",
    "    data = []\n",
    "\n",
    "    for g in grbs: \n",
    "        data.append(g.values)\n",
    "        analDates.append(g.analDate)\n",
    "        validDates.append(g.validDate)\n",
    "        validityDates.append(datetime.strptime(str(g.validityDate), \"%Y%m%d\"))   \n",
    "\n",
    "    data = np.array(data)\n",
    "\n",
    "    data_reshaped = np.reshape(data, (len(np.unique(validDates)), data.shape[0] // len(np.unique(validDates)), data.shape[-2], data.shape[-1]))\n",
    "\n",
    "    data_reshaped = data_reshaped[np.newaxis, ...]\n",
    "\n",
    "    lats,lons = g.latlons()\n",
    "\n",
    "    lats = lats[:,0]\n",
    "    lons = lons[0,:]\n",
    "\n",
    "    nmembers =  g.numberOfForecastsInEnsemble\n",
    "\n",
    "    if nmembers != data_reshaped.shape[2]:\n",
    "        print('oups, data shape doesnt match the number of ensemble members')\n",
    "    if len(np.unique(validDates)) != 7: \n",
    "        print('oups, issue with the number of steps')\n",
    "\n",
    "    d = {}\n",
    "\n",
    "    d['time'] = (('time'), np.array(init_date).reshape(1,))\n",
    "    d['step'] = (('step'), [1,2,3,4,5,6,7])\n",
    "    d['lat'] = (('lat'), lats)\n",
    "    d['lon'] = (('lon'), lons)\n",
    "    d['member'] = (('member'), list(range(0, nmembers)))\n",
    "    d[var_name.lower()] = (('time', 'step', 'member', 'lat','lon'), data_reshaped)\n",
    "\n",
    "\n",
    "    dset = xr.Dataset(d)\n",
    "\n",
    "    # calculate the ensemble mean as the files contained in Ptt_em list do not have the members \n",
    "\n",
    "    dset = dset.mean('member')\n",
    "\n",
    "    ### mask the land values (np.nan)\n",
    "\n",
    "    dset[var_name.lower()] = dset[var_name.lower()].where(dset[var_name.lower()] < -9999, np.nan)\n",
    "\n",
    "    dset.to_netcdf(out_fname, unlimited_dims='time')\n",
    "\n",
    "    dset.close()\n"
   ]
  },
  {
   "cell_type": "markdown",
   "metadata": {},
   "source": [
    "### now process the other files to 2016 "
   ]
  },
  {
   "cell_type": "code",
   "execution_count": null,
   "metadata": {
    "persistent_id": "3734360d-14e4-4c33-87b1-b81064021c3c"
   },
   "outputs": [],
   "source": [
    "for fname in lfiles_em: \n",
    "\n",
    "    print(f\"processing {fname}\")\n",
    "\n",
    "    init_date = datetime.strptime(fname.name.split('.')[-1], \"%Y%m\")\n",
    "\n",
    "    fname.name.replace('em','mon').split('.')[0] + f\".{init_date:%Y%m%d}.nc\"\n",
    "\n",
    "    out_fname = opath / out_fname\n",
    "\n",
    "    grbs = pygrib.open(str(fname))\n",
    "\n",
    "    analDates = []\n",
    "    validDates = []\n",
    "    validityDates = []\n",
    "    data = []\n",
    "\n",
    "    for g in grbs: \n",
    "        data.append(g.values)\n",
    "        analDates.append(g.analDate)\n",
    "        validDates.append(g.validDate)\n",
    "        validityDates.append(datetime.strptime(str(g.validityDate), \"%Y%m%d\"))   \n",
    "\n",
    "    data = np.array(data)\n",
    "\n",
    "    data = data[1:,...]\n",
    "\n",
    "    data_reshaped = data[np.newaxis, ...]\n",
    "\n",
    "    lats,lons = g.latlons()\n",
    "\n",
    "    lats = lats[:,0]\n",
    "    lons = lons[0,:]\n",
    "\n",
    "    d = {}\n",
    "\n",
    "    d['time'] = (('time'), np.array(init_date).reshape(1,))\n",
    "    d['step'] = (('step'), [1,2,3])\n",
    "    d['lat'] = (('lat'), lats)\n",
    "    d['lon'] = (('lon'), lons)\n",
    "    d[var_name.lower()] = (('time', 'step', 'lat','lon'), data_reshaped)\n",
    "\n",
    "\n",
    "    dset = xr.Dataset(d)\n",
    "\n",
    "    ### mask the land values (np.nan)\n",
    "\n",
    "    # dset[var_name.lower()] = dset[var_name.lower()].where(dset[var_name.lower()] < -9999, np.nan)\n",
    "\n",
    "    dset.to_netcdf(out_fname, unlimited_dims='time')\n",
    "\n",
    "    # dset.close()\n"
   ]
  },
  {
   "cell_type": "code",
   "execution_count": null,
   "metadata": {},
   "outputs": [],
   "source": []
  }
 ],
 "metadata": {
  "history": [
   {
    "cell": {
     "executionCount": 1,
     "executionEventId": "8dbe305b-94fb-4a3c-9c88-9fc20e3d5ceb",
     "hasError": false,
     "id": "e7cfbe95-2da7-46a0-b297-c536c62fff63",
     "outputs": [],
     "persistentId": "088d5310-69ab-4273-a5f4-2d6fac0e0531",
     "text": "%matplotlib inline\nimport matplotlib.pyplot as plt"
    },
    "executionTime": "2019-12-06T03:40:08.972Z"
   },
   {
    "cell": {
     "executionCount": 2,
     "executionEventId": "744368c8-a6db-4310-bcca-3dd60c4bff07",
     "hasError": false,
     "id": "07cd702d-9c9c-40ce-9917-048c364c9a1c",
     "outputs": [],
     "persistentId": "964d2acc-0943-42f6-a251-e8096402b978",
     "text": "from datetime import datetime, timedelta"
    },
    "executionTime": "2019-12-06T03:40:08.979Z"
   },
   {
    "cell": {
     "executionCount": 3,
     "executionEventId": "99255954-3714-42dc-8d17-673c19faa207",
     "hasError": false,
     "id": "dc1100b5-0b8d-4155-b5c3-b500c286ffe0",
     "outputs": [],
     "persistentId": "e5f2a971-c026-461e-a183-46c5847a6346",
     "text": "import pygrib\nimport numpy as np"
    },
    "executionTime": "2019-12-06T03:40:09.343Z"
   },
   {
    "cell": {
     "executionCount": 4,
     "executionEventId": "0ca48ca2-eb19-4962-a3f3-d1c756440dc0",
     "hasError": false,
     "id": "02c62c39-d7a3-4095-9c79-fddf8ea32e20",
     "outputs": [
      {
       "name": "stdout",
       "output_type": "stream",
       "text": "0.14.0\n"
      }
     ],
     "persistentId": "2e1ba77f-1637-4f84-84c7-7389cfe01177",
     "text": "import xarray as xr; print(xr.__version__)"
    },
    "executionTime": "2019-12-06T03:40:09.718Z"
   },
   {
    "cell": {
     "executionCount": 5,
     "executionEventId": "e1856ad7-09b7-4bee-8e9a-0cc24a355795",
     "hasError": false,
     "id": "0b3fb53f-14e2-413f-893b-a0bd0c485b24",
     "outputs": [],
     "persistentId": "06497818-d251-457d-994f-40495d38ad7b",
     "text": "import dask "
    },
    "executionTime": "2019-12-06T03:40:09.733Z"
   },
   {
    "cell": {
     "executionCount": 6,
     "executionEventId": "9ad0433d-1d72-4e0e-b11f-5155197f54bd",
     "hasError": false,
     "id": "3a59483c-9d8e-41aa-8982-d97a0af328c8",
     "outputs": [],
     "persistentId": "a1bd5ea5-3ec3-4a13-a8e0-1442e6333130",
     "text": "import os"
    },
    "executionTime": "2019-12-06T03:40:09.953Z"
   },
   {
    "cell": {
     "executionCount": 7,
     "executionEventId": "2693cf15-b6d4-4eb3-826a-8ac359197acb",
     "hasError": false,
     "id": "56963ae3-9443-4ef2-9259-e111ca803d4c",
     "outputs": [],
     "persistentId": "1adc13fc-410a-48d5-bec6-2c4a0c29ef43",
     "text": "import pathlib"
    },
    "executionTime": "2019-12-06T03:40:10.270Z"
   },
   {
    "cell": {
     "executionCount": 8,
     "executionEventId": "9878c3ec-0ef0-4e0c-a31e-e18ff9c06a40",
     "hasError": false,
     "id": "02c2d93b-db05-4411-afaf-c9198b3efc5d",
     "outputs": [],
     "persistentId": "ccd510dd-a5fc-486c-868f-c2bcbff7b6f7",
     "text": "var = 'PRECIP'"
    },
    "executionTime": "2019-12-06T03:40:10.640Z"
   },
   {
    "cell": {
     "executionCount": 9,
     "executionEventId": "2f10efb3-d769-400a-ba1f-0404f44b07e5",
     "hasError": false,
     "id": "3b47435c-b55f-4838-8866-632d0c0484c0",
     "outputs": [],
     "persistentId": "c11a11b1-1b6b-45d6-b9b5-be424b0cc17c",
     "text": "model = 'JMA'"
    },
    "executionTime": "2019-12-06T03:40:10.980Z"
   },
   {
    "cell": {
     "executionCount": 10,
     "executionEventId": "79bd2503-c761-46b2-b48e-89f9d81e1b4c",
     "hasError": false,
     "id": "f15b9c5a-5e69-48a3-ab4b-aa7fcf04cea3",
     "outputs": [],
     "persistentId": "23be47d6-42a0-41a2-bc96-cca73a224c86",
     "text": "dpath = pathlib.Path(f'/home/nicolasf/drives/auck_projects/END19101/Working/data/hindcasts/{model}/{var}/')"
    },
    "executionTime": "2019-12-06T03:40:11.294Z"
   },
   {
    "cell": {
     "executionCount": 11,
     "executionEventId": "d7e4b2f0-8e00-477a-a7dc-e472a051bca1",
     "hasError": false,
     "id": "c81c7bef-802c-418e-84b2-7b701e41d971",
     "outputs": [],
     "persistentId": "ce02a8b8-53d7-4d79-89fd-d0ddb0d76858",
     "text": "lfiles = list(dpath.glob(\"*.grb2\"))"
    },
    "executionTime": "2019-12-06T03:40:12.783Z"
   },
   {
    "cell": {
     "executionCount": 12,
     "executionEventId": "eaa73de9-7408-4fc3-a0c5-f05e74d62d6e",
     "hasError": false,
     "id": "938b80e1-4226-4df5-9438-da65fc096c10",
     "outputs": [
      {
       "data": {
        "text/plain": "864"
       },
       "execution_count": 12,
       "metadata": {},
       "output_type": "execute_result"
      }
     ],
     "persistentId": "8d554718-971d-44b2-9fd0-f71d3f3a4aff",
     "text": "len(lfiles)"
    },
    "executionTime": "2019-12-06T03:40:12.800Z"
   },
   {
    "cell": {
     "executionCount": 13,
     "executionEventId": "975cb05a-4208-49f3-a29a-fab4c791f7b6",
     "hasError": false,
     "id": "94099f13-9f46-4066-9f2c-7311b6a3fa51",
     "outputs": [],
     "persistentId": "cee09749-c24e-4684-b1bf-eb678be08681",
     "text": "fname = lfiles[0]"
    },
    "executionTime": "2019-12-06T03:40:29.925Z"
   },
   {
    "cell": {
     "executionCount": 14,
     "executionEventId": "7e9eb9e5-0863-46d2-97a3-0364b7544e9a",
     "hasError": false,
     "id": "3b5770ec-b9e0-4f4f-a219-2463ba5bbc71",
     "outputs": [],
     "persistentId": "e2fec641-39b4-4980-984e-c614df7a2180",
     "text": "grbs = pygrib.open(str(fname))\n\nanalDates = []\nvalidDates = []\nvalidityDates = []\ndata = []\n\nfor g in grbs: \n    data.append(g.values)\n    analDates.append(g.analDate)\n    validDates.append(g.validDate)\n    validityDates.append(datetime.strptime(str(g.validityDate), \"%Y%m%d\"))   \n\ndata = np.array(data)"
    },
    "executionTime": "2019-12-06T03:40:49.988Z"
   },
   {
    "cell": {
     "executionCount": 15,
     "executionEventId": "897b1020-06cd-4272-8513-2ad8682cddfb",
     "hasError": false,
     "id": "e4c6d265-b2fb-4377-b4f5-7002eae813bc",
     "outputs": [
      {
       "data": {
        "text/plain": "[datetime.datetime(1979, 2, 28, 0, 0),\n datetime.datetime(1979, 3, 31, 0, 0),\n datetime.datetime(1979, 4, 30, 0, 0),\n datetime.datetime(1979, 5, 31, 0, 0),\n datetime.datetime(1979, 6, 30, 0, 0),\n datetime.datetime(1979, 7, 31, 0, 0),\n datetime.datetime(1979, 8, 31, 0, 0),\n datetime.datetime(1979, 2, 28, 0, 0),\n datetime.datetime(1979, 3, 31, 0, 0),\n datetime.datetime(1979, 4, 30, 0, 0),\n datetime.datetime(1979, 5, 31, 0, 0),\n datetime.datetime(1979, 6, 30, 0, 0),\n datetime.datetime(1979, 7, 31, 0, 0),\n datetime.datetime(1979, 8, 31, 0, 0),\n datetime.datetime(1979, 2, 28, 0, 0),\n datetime.datetime(1979, 3, 31, 0, 0),\n datetime.datetime(1979, 4, 30, 0, 0),\n datetime.datetime(1979, 5, 31, 0, 0),\n datetime.datetime(1979, 6, 30, 0, 0),\n datetime.datetime(1979, 7, 31, 0, 0),\n datetime.datetime(1979, 8, 31, 0, 0),\n datetime.datetime(1979, 2, 28, 0, 0),\n datetime.datetime(1979, 3, 31, 0, 0),\n datetime.datetime(1979, 4, 30, 0, 0),\n datetime.datetime(1979, 5, 31, 0, 0),\n datetime.datetime(1979, 6, 30, 0, 0),\n datetime.datetime(1979, 7, 31, 0, 0),\n datetime.datetime(1979, 8, 31, 0, 0),\n datetime.datetime(1979, 2, 28, 0, 0),\n datetime.datetime(1979, 3, 31, 0, 0),\n datetime.datetime(1979, 4, 30, 0, 0),\n datetime.datetime(1979, 5, 31, 0, 0),\n datetime.datetime(1979, 6, 30, 0, 0),\n datetime.datetime(1979, 7, 31, 0, 0),\n datetime.datetime(1979, 8, 31, 0, 0)]"
       },
       "execution_count": 15,
       "metadata": {},
       "output_type": "execute_result"
      }
     ],
     "persistentId": "4f8c6789-34e7-4ea1-bb83-2f25505072f7",
     "text": "validityDates"
    },
    "executionTime": "2019-12-06T03:40:56.299Z"
   },
   {
    "cell": {
     "executionCount": 16,
     "executionEventId": "0b63e4fa-d8b7-4aca-9cba-6387dd87b268",
     "hasError": false,
     "id": "11715212-f8ec-410c-b7a4-ba8fce27f5a2",
     "outputs": [
      {
       "data": {
        "text/plain": "PosixPath('/home/nicolasf/drives/auck_projects/END19101/Working/data/hindcasts/JMA/PRECIP/surf_Prr_mon.19790116.grb2')"
       },
       "execution_count": 16,
       "metadata": {},
       "output_type": "execute_result"
      }
     ],
     "persistentId": "15c60c4e-280d-48dc-89fa-f9e3180a4d8b",
     "text": "fname"
    },
    "executionTime": "2019-12-06T03:41:08.369Z"
   }
  ],
  "kernelspec": {
   "display_name": "Python 3",
   "language": "python",
   "name": "python3"
  },
  "language_info": {
   "codemirror_mode": {
    "name": "ipython",
    "version": 3
   },
   "file_extension": ".py",
   "mimetype": "text/x-python",
   "name": "python",
   "nbconvert_exporter": "python",
   "pygments_lexer": "ipython3",
   "version": "3.7.5"
  },
  "toc": {
   "colors": {
    "hover_highlight": "#DAA520",
    "running_highlight": "#FF0000",
    "selected_highlight": "#FFD700"
   },
   "moveMenuLeft": true,
   "nav_menu": {
    "height": "98px",
    "width": "252px"
   },
   "navigate_menu": true,
   "number_sections": true,
   "sideBar": true,
   "threshold": 4,
   "toc_cell": false,
   "toc_section_display": "block",
   "toc_window_display": false,
   "widenNotebook": false
  },
  "uuid": "828c272b-a808-4ae3-9e8b-84f4416fce44"
 },
 "nbformat": 4,
 "nbformat_minor": 4
}
