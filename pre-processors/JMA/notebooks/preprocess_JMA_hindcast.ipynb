{
 "cells": [
  {
   "cell_type": "markdown",
   "metadata": {},
   "source": [
    "### pre-process the JMA hindcasts, step 1, read grib, change variable and dimension names and saves to netcdf "
   ]
  },
  {
   "cell_type": "markdown",
   "metadata": {},
   "source": [
    "### note: need to use pygrib as xarray does not read all the dimensions "
   ]
  },
  {
   "cell_type": "code",
   "execution_count": 112,
   "metadata": {},
   "outputs": [],
   "source": [
    "# Parameters\n",
    "stage_in = \"downloads\"\n",
    "stage_out = \"pre_processed\"\n",
    "period = \"hindcasts\"\n",
    "provider = \"JMA\"\n",
    "GCM = \"JMA\"\n",
    "var_name = \"PRECIP\""
   ]
  },
  {
   "cell_type": "code",
   "execution_count": 113,
   "metadata": {
    "execution_event_id": "8dbe305b-94fb-4a3c-9c88-9fc20e3d5ceb",
    "last_executed_text": "%matplotlib inline\nimport matplotlib.pyplot as plt",
    "persistent_id": "088d5310-69ab-4273-a5f4-2d6fac0e0531"
   },
   "outputs": [],
   "source": [
    "%matplotlib inline\n",
    "import matplotlib.pyplot as plt"
   ]
  },
  {
   "cell_type": "code",
   "execution_count": 114,
   "metadata": {
    "execution_event_id": "744368c8-a6db-4310-bcca-3dd60c4bff07",
    "last_executed_text": "from datetime import datetime, timedelta",
    "persistent_id": "964d2acc-0943-42f6-a251-e8096402b978"
   },
   "outputs": [],
   "source": [
    "from datetime import datetime, timedelta"
   ]
  },
  {
   "cell_type": "code",
   "execution_count": 115,
   "metadata": {
    "execution_event_id": "99255954-3714-42dc-8d17-673c19faa207",
    "last_executed_text": "import pygrib\nimport numpy as np",
    "persistent_id": "e5f2a971-c026-461e-a183-46c5847a6346"
   },
   "outputs": [],
   "source": [
    "import pygrib\n",
    "import numpy as np\n",
    "import pandas as pd"
   ]
  },
  {
   "cell_type": "code",
   "execution_count": 116,
   "metadata": {
    "execution_event_id": "0ca48ca2-eb19-4962-a3f3-d1c756440dc0",
    "last_executed_text": "import xarray as xr; print(xr.__version__)",
    "persistent_id": "2e1ba77f-1637-4f84-84c7-7389cfe01177"
   },
   "outputs": [
    {
     "name": "stdout",
     "output_type": "stream",
     "text": [
      "0.15.0\n"
     ]
    }
   ],
   "source": [
    "import xarray as xr; print(xr.__version__)"
   ]
  },
  {
   "cell_type": "code",
   "execution_count": 117,
   "metadata": {
    "execution_event_id": "e1856ad7-09b7-4bee-8e9a-0cc24a355795",
    "last_executed_text": "import dask ",
    "persistent_id": "06497818-d251-457d-994f-40495d38ad7b"
   },
   "outputs": [],
   "source": [
    "import dask "
   ]
  },
  {
   "cell_type": "code",
   "execution_count": 118,
   "metadata": {
    "execution_event_id": "9ad0433d-1d72-4e0e-b11f-5155197f54bd",
    "last_executed_text": "import os",
    "persistent_id": "a1bd5ea5-3ec3-4a13-a8e0-1442e6333130"
   },
   "outputs": [],
   "source": [
    "import os"
   ]
  },
  {
   "cell_type": "code",
   "execution_count": 119,
   "metadata": {
    "execution_event_id": "2693cf15-b6d4-4eb3-826a-8ac359197acb",
    "last_executed_text": "import pathlib",
    "persistent_id": "1adc13fc-410a-48d5-bec6-2c4a0c29ef43"
   },
   "outputs": [],
   "source": [
    "import pathlib"
   ]
  },
  {
   "cell_type": "markdown",
   "metadata": {
    "papermill": {
     "duration": 0.055871,
     "end_time": "2020-02-14T05:25:14.583485",
     "exception": false,
     "start_time": "2020-02-14T05:25:14.527614",
     "status": "completed"
    },
    "tags": []
   },
   "source": [
    "----- "
   ]
  },
  {
   "cell_type": "markdown",
   "metadata": {},
   "source": [
    "### paths definitions "
   ]
  },
  {
   "cell_type": "code",
   "execution_count": 120,
   "metadata": {
    "execution_event_id": "bc6295a9-63e7-443c-a951-3976d1872295",
    "last_executed_text": "HOME = pathlib.Path.home()",
    "papermill": {
     "duration": 0.06094,
     "end_time": "2020-02-14T05:25:14.003498",
     "exception": false,
     "start_time": "2020-02-14T05:25:13.942558",
     "status": "completed"
    },
    "persistent_id": "a1619992-4f28-4982-b5fb-3f6ef4012a1b",
    "tags": []
   },
   "outputs": [],
   "source": [
    "HOME = pathlib.Path.home()"
   ]
  },
  {
   "cell_type": "code",
   "execution_count": 121,
   "metadata": {
    "execution_event_id": "d56f7f6c-f3d1-4bd2-96bb-6e517efebf6a",
    "last_executed_text": "HOME",
    "papermill": {
     "duration": 0.063582,
     "end_time": "2020-02-14T05:25:14.122538",
     "exception": false,
     "start_time": "2020-02-14T05:25:14.058956",
     "status": "completed"
    },
    "persistent_id": "5bc9fad8-87a1-4e5e-9016-d184deec18e9",
    "tags": []
   },
   "outputs": [
    {
     "data": {
      "text/plain": [
       "PosixPath('/home/nicolasf')"
      ]
     },
     "execution_count": 121,
     "metadata": {},
     "output_type": "execute_result"
    }
   ],
   "source": [
    "HOME"
   ]
  },
  {
   "cell_type": "markdown",
   "metadata": {
    "papermill": {
     "duration": 0.05617,
     "end_time": "2020-02-14T05:25:14.695405",
     "exception": false,
     "start_time": "2020-02-14T05:25:14.639235",
     "status": "completed"
    },
    "tags": []
   },
   "source": [
    "### input path "
   ]
  },
  {
   "cell_type": "code",
   "execution_count": 122,
   "metadata": {
    "execution_event_id": "59723d67-1dc3-4ca1-85e7-46aa938e63fe",
    "last_executed_text": "dpath = HOME / 'research' / 'Smart_Ideas' / 'data' / 'GCMs' / 'NC' / GCM / var_name",
    "papermill": {
     "duration": 0.061021,
     "end_time": "2020-02-14T05:25:14.812673",
     "exception": false,
     "start_time": "2020-02-14T05:25:14.751652",
     "status": "completed"
    },
    "persistent_id": "a12fbd5a-67cb-43b0-a805-a75bf3ea1bb6",
    "tags": []
   },
   "outputs": [],
   "source": [
    "ipath = HOME / 'drives' / 'auck_projects' / 'END19101' / 'Working' / 'data' / 'GCMs' / stage_in / period / provider / GCM / var_name"
   ]
  },
  {
   "cell_type": "markdown",
   "metadata": {
    "papermill": {
     "duration": 0.054795,
     "end_time": "2020-02-14T05:25:14.923780",
     "exception": false,
     "start_time": "2020-02-14T05:25:14.868985",
     "status": "completed"
    },
    "tags": []
   },
   "source": [
    "### final output path "
   ]
  },
  {
   "cell_type": "code",
   "execution_count": 123,
   "metadata": {
    "papermill": {
     "duration": 0.060502,
     "end_time": "2020-02-14T05:25:15.039637",
     "exception": false,
     "start_time": "2020-02-14T05:25:14.979135",
     "status": "completed"
    },
    "tags": []
   },
   "outputs": [],
   "source": [
    "opath = HOME / 'drives' / 'auck_projects' / 'END19101' / 'Working' / 'data' / 'GCMs' / stage_out / period / provider / GCM / var_name"
   ]
  },
  {
   "cell_type": "markdown",
   "metadata": {},
   "source": [
    "### creates the output path if it doesnt already exists "
   ]
  },
  {
   "cell_type": "code",
   "execution_count": 124,
   "metadata": {},
   "outputs": [],
   "source": [
    "if not opath.exists(): \n",
    "    opath.mkdir(parents=True)"
   ]
  },
  {
   "cell_type": "markdown",
   "metadata": {},
   "source": [
    "### list ALL the files "
   ]
  },
  {
   "cell_type": "code",
   "execution_count": 125,
   "metadata": {},
   "outputs": [],
   "source": [
    "lfiles = list(ipath.glob('*'))"
   ]
  },
  {
   "cell_type": "code",
   "execution_count": 126,
   "metadata": {},
   "outputs": [],
   "source": [
    "lfiles.sort()"
   ]
  },
  {
   "cell_type": "code",
   "execution_count": 127,
   "metadata": {},
   "outputs": [
    {
     "data": {
      "text/plain": [
       "PosixPath('/home/nicolasf/drives/auck_projects/END19101/Working/data/GCMs/downloads/hindcasts/JMA/JMA/PRECIP/surf_Prr_em.201501')"
      ]
     },
     "execution_count": 127,
     "metadata": {},
     "output_type": "execute_result"
    }
   ],
   "source": [
    "lfiles[0]"
   ]
  },
  {
   "cell_type": "code",
   "execution_count": 128,
   "metadata": {},
   "outputs": [
    {
     "data": {
      "text/plain": [
       "PosixPath('/home/nicolasf/drives/auck_projects/END19101/Working/data/GCMs/downloads/hindcasts/JMA/JMA/PRECIP/surf_Prr_mon.20141227.grb2')"
      ]
     },
     "execution_count": 128,
     "metadata": {},
     "output_type": "execute_result"
    }
   ],
   "source": [
    "lfiles[-1]"
   ]
  },
  {
   "cell_type": "markdown",
   "metadata": {},
   "source": [
    "### need to separate between the Ptt_em (ensemble mean) and the Ptt_mon (all members) files "
   ]
  },
  {
   "cell_type": "code",
   "execution_count": 129,
   "metadata": {},
   "outputs": [],
   "source": [
    "if var_name == 'T2M': \n",
    "    lfiles_em = [x for x in lfiles if \"Ptt_em\" in str(x)]\n",
    "    lfiles_mon = [x for x in lfiles if \"Ptt_mon\" in str(x)] \n",
    "elif var_name == 'PRECIP': \n",
    "    lfiles_em = [x for x in lfiles if \"Prr_em\" in str(x)]\n",
    "    lfiles_mon = [x for x in lfiles if \"Prr_mon\" in str(x)]\n",
    "elif var_name == 'Z500': \n",
    "    lfiles_em = [x for x in lfiles if \"Phh_em\" in str(x)]\n",
    "    lfiles_mon = [x for x in lfiles if \"Phh_mon\" in str(x)]  "
   ]
  },
  {
   "cell_type": "code",
   "execution_count": 130,
   "metadata": {},
   "outputs": [],
   "source": [
    "lfiles_em.sort()"
   ]
  },
  {
   "cell_type": "code",
   "execution_count": 131,
   "metadata": {},
   "outputs": [],
   "source": [
    "lfiles_mon.sort()"
   ]
  },
  {
   "cell_type": "code",
   "execution_count": 132,
   "metadata": {},
   "outputs": [
    {
     "data": {
      "text/plain": [
       "[PosixPath('/home/nicolasf/drives/auck_projects/END19101/Working/data/GCMs/downloads/hindcasts/JMA/JMA/PRECIP/surf_Prr_em.201501'),\n",
       " PosixPath('/home/nicolasf/drives/auck_projects/END19101/Working/data/GCMs/downloads/hindcasts/JMA/JMA/PRECIP/surf_Prr_em.201502'),\n",
       " PosixPath('/home/nicolasf/drives/auck_projects/END19101/Working/data/GCMs/downloads/hindcasts/JMA/JMA/PRECIP/surf_Prr_em.201503'),\n",
       " PosixPath('/home/nicolasf/drives/auck_projects/END19101/Working/data/GCMs/downloads/hindcasts/JMA/JMA/PRECIP/surf_Prr_em.201504'),\n",
       " PosixPath('/home/nicolasf/drives/auck_projects/END19101/Working/data/GCMs/downloads/hindcasts/JMA/JMA/PRECIP/surf_Prr_em.201505'),\n",
       " PosixPath('/home/nicolasf/drives/auck_projects/END19101/Working/data/GCMs/downloads/hindcasts/JMA/JMA/PRECIP/surf_Prr_em.201506'),\n",
       " PosixPath('/home/nicolasf/drives/auck_projects/END19101/Working/data/GCMs/downloads/hindcasts/JMA/JMA/PRECIP/surf_Prr_em.201507'),\n",
       " PosixPath('/home/nicolasf/drives/auck_projects/END19101/Working/data/GCMs/downloads/hindcasts/JMA/JMA/PRECIP/surf_Prr_em.201508'),\n",
       " PosixPath('/home/nicolasf/drives/auck_projects/END19101/Working/data/GCMs/downloads/hindcasts/JMA/JMA/PRECIP/surf_Prr_em.201509'),\n",
       " PosixPath('/home/nicolasf/drives/auck_projects/END19101/Working/data/GCMs/downloads/hindcasts/JMA/JMA/PRECIP/surf_Prr_em.201510'),\n",
       " PosixPath('/home/nicolasf/drives/auck_projects/END19101/Working/data/GCMs/downloads/hindcasts/JMA/JMA/PRECIP/surf_Prr_em.201511'),\n",
       " PosixPath('/home/nicolasf/drives/auck_projects/END19101/Working/data/GCMs/downloads/hindcasts/JMA/JMA/PRECIP/surf_Prr_em.201512'),\n",
       " PosixPath('/home/nicolasf/drives/auck_projects/END19101/Working/data/GCMs/downloads/hindcasts/JMA/JMA/PRECIP/surf_Prr_em.201601'),\n",
       " PosixPath('/home/nicolasf/drives/auck_projects/END19101/Working/data/GCMs/downloads/hindcasts/JMA/JMA/PRECIP/surf_Prr_em.201602'),\n",
       " PosixPath('/home/nicolasf/drives/auck_projects/END19101/Working/data/GCMs/downloads/hindcasts/JMA/JMA/PRECIP/surf_Prr_em.201603'),\n",
       " PosixPath('/home/nicolasf/drives/auck_projects/END19101/Working/data/GCMs/downloads/hindcasts/JMA/JMA/PRECIP/surf_Prr_em.201604'),\n",
       " PosixPath('/home/nicolasf/drives/auck_projects/END19101/Working/data/GCMs/downloads/hindcasts/JMA/JMA/PRECIP/surf_Prr_em.201605'),\n",
       " PosixPath('/home/nicolasf/drives/auck_projects/END19101/Working/data/GCMs/downloads/hindcasts/JMA/JMA/PRECIP/surf_Prr_em.201606'),\n",
       " PosixPath('/home/nicolasf/drives/auck_projects/END19101/Working/data/GCMs/downloads/hindcasts/JMA/JMA/PRECIP/surf_Prr_em.201607'),\n",
       " PosixPath('/home/nicolasf/drives/auck_projects/END19101/Working/data/GCMs/downloads/hindcasts/JMA/JMA/PRECIP/surf_Prr_em.201608'),\n",
       " PosixPath('/home/nicolasf/drives/auck_projects/END19101/Working/data/GCMs/downloads/hindcasts/JMA/JMA/PRECIP/surf_Prr_em.201609'),\n",
       " PosixPath('/home/nicolasf/drives/auck_projects/END19101/Working/data/GCMs/downloads/hindcasts/JMA/JMA/PRECIP/surf_Prr_em.201610'),\n",
       " PosixPath('/home/nicolasf/drives/auck_projects/END19101/Working/data/GCMs/downloads/hindcasts/JMA/JMA/PRECIP/surf_Prr_em.201611'),\n",
       " PosixPath('/home/nicolasf/drives/auck_projects/END19101/Working/data/GCMs/downloads/hindcasts/JMA/JMA/PRECIP/surf_Prr_em.201612')]"
      ]
     },
     "execution_count": 132,
     "metadata": {},
     "output_type": "execute_result"
    }
   ],
   "source": [
    "lfiles_em"
   ]
  },
  {
   "cell_type": "code",
   "execution_count": 133,
   "metadata": {},
   "outputs": [
    {
     "data": {
      "text/plain": [
       "PosixPath('/home/nicolasf/drives/auck_projects/END19101/Working/data/GCMs/downloads/hindcasts/JMA/JMA/PRECIP/surf_Prr_mon.19790327.grb2')"
      ]
     },
     "execution_count": 133,
     "metadata": {},
     "output_type": "execute_result"
    }
   ],
   "source": [
    "lfiles_mon[5]"
   ]
  },
  {
   "cell_type": "code",
   "execution_count": 134,
   "metadata": {},
   "outputs": [
    {
     "data": {
      "text/plain": [
       "[PosixPath('/home/nicolasf/drives/auck_projects/END19101/Working/data/GCMs/downloads/hindcasts/JMA/JMA/PRECIP/surf_Prr_mon.20141028.grb2'),\n",
       " PosixPath('/home/nicolasf/drives/auck_projects/END19101/Working/data/GCMs/downloads/hindcasts/JMA/JMA/PRECIP/surf_Prr_mon.20141112.grb2'),\n",
       " PosixPath('/home/nicolasf/drives/auck_projects/END19101/Working/data/GCMs/downloads/hindcasts/JMA/JMA/PRECIP/surf_Prr_mon.20141127.grb2'),\n",
       " PosixPath('/home/nicolasf/drives/auck_projects/END19101/Working/data/GCMs/downloads/hindcasts/JMA/JMA/PRECIP/surf_Prr_mon.20141212.grb2'),\n",
       " PosixPath('/home/nicolasf/drives/auck_projects/END19101/Working/data/GCMs/downloads/hindcasts/JMA/JMA/PRECIP/surf_Prr_mon.20141227.grb2')]"
      ]
     },
     "execution_count": 134,
     "metadata": {},
     "output_type": "execute_result"
    }
   ],
   "source": [
    "lfiles_mon[-5:]"
   ]
  },
  {
   "cell_type": "markdown",
   "metadata": {},
   "source": [
    "### we only keep post 1979 "
   ]
  },
  {
   "cell_type": "code",
   "execution_count": 135,
   "metadata": {},
   "outputs": [],
   "source": [
    "if '1974' in str(lfiles_mon[0]): \n",
    "    lfiles_mon = lfiles_mon[5:]"
   ]
  },
  {
   "cell_type": "code",
   "execution_count": 136,
   "metadata": {},
   "outputs": [
    {
     "data": {
      "text/plain": [
       "[PosixPath('/home/nicolasf/drives/auck_projects/END19101/Working/data/GCMs/downloads/hindcasts/JMA/JMA/PRECIP/surf_Prr_mon.19790116.grb2'),\n",
       " PosixPath('/home/nicolasf/drives/auck_projects/END19101/Working/data/GCMs/downloads/hindcasts/JMA/JMA/PRECIP/surf_Prr_mon.19790131.grb2'),\n",
       " PosixPath('/home/nicolasf/drives/auck_projects/END19101/Working/data/GCMs/downloads/hindcasts/JMA/JMA/PRECIP/surf_Prr_mon.19790210.grb2'),\n",
       " PosixPath('/home/nicolasf/drives/auck_projects/END19101/Working/data/GCMs/downloads/hindcasts/JMA/JMA/PRECIP/surf_Prr_mon.19790225.grb2'),\n",
       " PosixPath('/home/nicolasf/drives/auck_projects/END19101/Working/data/GCMs/downloads/hindcasts/JMA/JMA/PRECIP/surf_Prr_mon.19790312.grb2')]"
      ]
     },
     "execution_count": 136,
     "metadata": {},
     "output_type": "execute_result"
    }
   ],
   "source": [
    "lfiles_mon[:5]"
   ]
  },
  {
   "cell_type": "markdown",
   "metadata": {},
   "source": [
    "### now select only the first initialisations of each month "
   ]
  },
  {
   "cell_type": "code",
   "execution_count": 137,
   "metadata": {},
   "outputs": [],
   "source": [
    "dates =  [datetime.strptime(fname.name.split('.')[-2], \"%Y%m%d\") for fname in lfiles_mon]"
   ]
  },
  {
   "cell_type": "code",
   "execution_count": 138,
   "metadata": {},
   "outputs": [],
   "source": [
    "index = pd.Series(np.arange(len(dates)), index = dates) "
   ]
  },
  {
   "cell_type": "code",
   "execution_count": 139,
   "metadata": {},
   "outputs": [],
   "source": [
    "index = index[(index.index.day >= 10) & (index.index.day <= 16)]"
   ]
  },
  {
   "cell_type": "code",
   "execution_count": 140,
   "metadata": {},
   "outputs": [
    {
     "data": {
      "text/plain": [
       "1979-01-16      0\n",
       "1979-02-10      2\n",
       "1979-03-12      4\n",
       "1979-04-11      6\n",
       "1979-05-16      8\n",
       "             ... \n",
       "2014-08-14    854\n",
       "2014-09-13    856\n",
       "2014-10-13    858\n",
       "2014-11-12    860\n",
       "2014-12-12    862\n",
       "Length: 432, dtype: int64"
      ]
     },
     "execution_count": 140,
     "metadata": {},
     "output_type": "execute_result"
    }
   ],
   "source": [
    "index"
   ]
  },
  {
   "cell_type": "code",
   "execution_count": 141,
   "metadata": {},
   "outputs": [],
   "source": [
    "lfiles_mon = np.array(lfiles_mon)[index.values]"
   ]
  },
  {
   "cell_type": "code",
   "execution_count": 142,
   "metadata": {},
   "outputs": [],
   "source": [
    "lfiles_mon = lfiles_mon.tolist()"
   ]
  },
  {
   "cell_type": "markdown",
   "metadata": {},
   "source": [
    "### loops over the files in `lfiles_mon` and process "
   ]
  },
  {
   "cell_type": "code",
   "execution_count": null,
   "metadata": {
    "persistent_id": "36c542a2-4c84-4893-ad19-711619f24c8b"
   },
   "outputs": [
    {
     "name": "stdout",
     "output_type": "stream",
     "text": [
      "processing /home/nicolasf/drives/auck_projects/END19101/Working/data/GCMs/downloads/hindcasts/JMA/JMA/PRECIP/surf_Prr_mon.19790116.grb2\n",
      "processing /home/nicolasf/drives/auck_projects/END19101/Working/data/GCMs/downloads/hindcasts/JMA/JMA/PRECIP/surf_Prr_mon.19790210.grb2\n",
      "processing /home/nicolasf/drives/auck_projects/END19101/Working/data/GCMs/downloads/hindcasts/JMA/JMA/PRECIP/surf_Prr_mon.19790312.grb2\n"
     ]
    }
   ],
   "source": [
    "for fname in lfiles_mon: \n",
    "\n",
    "    print(f\"processing {fname}\")\n",
    "    \n",
    "    # get the date: \n",
    "    date_orig = datetime.strptime(fname.name.split('.')[-2], \"%Y%m%d\")\n",
    "    \n",
    "    date_init = datetime(date_orig.year, date_orig.month, 1)\n",
    "    \n",
    "    out_fname = f\"{GCM}_{var_name}_{date_init:%Y_%m}.nc\"\n",
    "    \n",
    "    out_fname = opath / out_fname\n",
    "\n",
    "    grbs = pygrib.open(str(fname))\n",
    "\n",
    "    analDates = []\n",
    "    validDates = []\n",
    "    validityDates = []\n",
    "    data = []\n",
    "\n",
    "    for g in grbs: \n",
    "        data.append(g.values)\n",
    "        analDates.append(g.analDate)\n",
    "        validDates.append(g.validDate)\n",
    "        validityDates.append(datetime.strptime(str(g.validityDate), \"%Y%m%d\"))   \n",
    "\n",
    "    data = np.array(data)\n",
    "\n",
    "    data_reshaped = np.reshape(data, (len(np.unique(validDates)), data.shape[0] // len(np.unique(validDates)), data.shape[-2], data.shape[-1]))\n",
    "\n",
    "    data_reshaped = data_reshaped[np.newaxis, ...]\n",
    "\n",
    "    lats,lons = g.latlons()\n",
    "\n",
    "    lats = lats[:,0]\n",
    "    lons = lons[0,:]\n",
    "\n",
    "    nmembers =  g.numberOfForecastsInEnsemble\n",
    "\n",
    "    if nmembers != data_reshaped.shape[2]:\n",
    "        print('oups, data shape doesnt match the number of ensemble members')\n",
    "    if len(np.unique(validDates)) != 7: \n",
    "        print('oups, issue with the number of steps')\n",
    "\n",
    "    d = {}\n",
    "\n",
    "    d['time'] = (('time'), np.array(date_init).reshape(1,))\n",
    "    d['step'] = (('step'), [1,2,3,4,5,6,7])\n",
    "    d['lat'] = (('lat'), lats)\n",
    "    d['lon'] = (('lon'), lons)\n",
    "    d['member'] = (('member'), list(range(0, nmembers)))\n",
    "    d[var_name.lower()] = (('time', 'step', 'member', 'lat','lon'), data_reshaped)\n",
    "    \n",
    "    dset = xr.Dataset(d)\n",
    "\n",
    "    dset = dset.sel(step=slice(1,3))\n",
    "    \n",
    "    # calculate the ensemble mean as the files contained in Ptt_em list do not have the members \n",
    "\n",
    "    dset = dset.mean('member')\n",
    "    \n",
    "    dset = dset.sortby('lat')\n",
    "\n",
    "    ### mask the land values (np.nan)\n",
    "\n",
    "    dset[var_name.lower()] = dset[var_name.lower()].where(dset[var_name.lower()] < -9999, np.nan)\n",
    "\n",
    "    dset.to_netcdf(out_fname, unlimited_dims='time')\n",
    "\n",
    "    dset.close()\n"
   ]
  },
  {
   "cell_type": "markdown",
   "metadata": {},
   "source": [
    "### now process the other files to 2016 "
   ]
  },
  {
   "cell_type": "code",
   "execution_count": null,
   "metadata": {
    "persistent_id": "3734360d-14e4-4c33-87b1-b81064021c3c"
   },
   "outputs": [],
   "source": [
    "for fname in lfiles_em: \n",
    "\n",
    "    print(f\"processing {fname}\")\n",
    "\n",
    "    date_orig = datetime.strptime(fname.name.split('.')[-1], \"%Y%m\")\n",
    "\n",
    "    date_init = datetime(date_orig.year, date_orig.month, 1)\n",
    "\n",
    "    out_fname = f\"{GCM}_{var_name}_{date_init:%Y_%m}.nc\"\n",
    "\n",
    "    out_fname = opath / out_fname\n",
    "\n",
    "    grbs = pygrib.open(str(fname))\n",
    "\n",
    "    analDates = []\n",
    "    validDates = []\n",
    "    validityDates = []\n",
    "    data = []\n",
    "\n",
    "    for g in grbs: \n",
    "        data.append(g.values)\n",
    "        analDates.append(g.analDate)\n",
    "        validDates.append(g.validDate)\n",
    "        validityDates.append(datetime.strptime(str(g.validityDate), \"%Y%m%d\"))   \n",
    "\n",
    "    data = np.array(data)\n",
    "\n",
    "    data = data[1:,...]\n",
    "\n",
    "    data_reshaped = data[np.newaxis, ...]\n",
    "\n",
    "    lats,lons = g.latlons()\n",
    "\n",
    "    lats = lats[:,0]\n",
    "    lons = lons[0,:]\n",
    "\n",
    "    d = {}\n",
    "\n",
    "    d['time'] = (('time'), np.array(date_init).reshape(1,))\n",
    "    d['step'] = (('step'), [1,2,3])\n",
    "    d['lat'] = (('lat'), lats)\n",
    "    d['lon'] = (('lon'), lons)\n",
    "    d[var_name.lower()] = (('time', 'step', 'lat','lon'), data_reshaped)\n",
    "\n",
    "\n",
    "    dset = xr.Dataset(d)\n",
    "\n",
    "    dset = dset.sortby('lat')\n",
    "    \n",
    "    ### mask the land values (np.nan)\n",
    "\n",
    "    # dset[var_name.lower()] = dset[var_name.lower()].where(dset[var_name.lower()] < -9999, np.nan)\n",
    "\n",
    "    dset.to_netcdf(out_fname, unlimited_dims='time')\n",
    "\n",
    "    dset.close()\n"
   ]
  },
  {
   "cell_type": "code",
   "execution_count": null,
   "metadata": {},
   "outputs": [],
   "source": []
  }
 ],
 "metadata": {
  "history": [
   {
    "cell": {
     "executionCount": 1,
     "executionEventId": "8dbe305b-94fb-4a3c-9c88-9fc20e3d5ceb",
     "hasError": false,
     "id": "e7cfbe95-2da7-46a0-b297-c536c62fff63",
     "outputs": [],
     "persistentId": "088d5310-69ab-4273-a5f4-2d6fac0e0531",
     "text": "%matplotlib inline\nimport matplotlib.pyplot as plt"
    },
    "executionTime": "2019-12-06T03:40:08.972Z"
   },
   {
    "cell": {
     "executionCount": 2,
     "executionEventId": "744368c8-a6db-4310-bcca-3dd60c4bff07",
     "hasError": false,
     "id": "07cd702d-9c9c-40ce-9917-048c364c9a1c",
     "outputs": [],
     "persistentId": "964d2acc-0943-42f6-a251-e8096402b978",
     "text": "from datetime import datetime, timedelta"
    },
    "executionTime": "2019-12-06T03:40:08.979Z"
   },
   {
    "cell": {
     "executionCount": 3,
     "executionEventId": "99255954-3714-42dc-8d17-673c19faa207",
     "hasError": false,
     "id": "dc1100b5-0b8d-4155-b5c3-b500c286ffe0",
     "outputs": [],
     "persistentId": "e5f2a971-c026-461e-a183-46c5847a6346",
     "text": "import pygrib\nimport numpy as np"
    },
    "executionTime": "2019-12-06T03:40:09.343Z"
   },
   {
    "cell": {
     "executionCount": 4,
     "executionEventId": "0ca48ca2-eb19-4962-a3f3-d1c756440dc0",
     "hasError": false,
     "id": "02c62c39-d7a3-4095-9c79-fddf8ea32e20",
     "outputs": [
      {
       "name": "stdout",
       "output_type": "stream",
       "text": "0.14.0\n"
      }
     ],
     "persistentId": "2e1ba77f-1637-4f84-84c7-7389cfe01177",
     "text": "import xarray as xr; print(xr.__version__)"
    },
    "executionTime": "2019-12-06T03:40:09.718Z"
   },
   {
    "cell": {
     "executionCount": 5,
     "executionEventId": "e1856ad7-09b7-4bee-8e9a-0cc24a355795",
     "hasError": false,
     "id": "0b3fb53f-14e2-413f-893b-a0bd0c485b24",
     "outputs": [],
     "persistentId": "06497818-d251-457d-994f-40495d38ad7b",
     "text": "import dask "
    },
    "executionTime": "2019-12-06T03:40:09.733Z"
   },
   {
    "cell": {
     "executionCount": 6,
     "executionEventId": "9ad0433d-1d72-4e0e-b11f-5155197f54bd",
     "hasError": false,
     "id": "3a59483c-9d8e-41aa-8982-d97a0af328c8",
     "outputs": [],
     "persistentId": "a1bd5ea5-3ec3-4a13-a8e0-1442e6333130",
     "text": "import os"
    },
    "executionTime": "2019-12-06T03:40:09.953Z"
   },
   {
    "cell": {
     "executionCount": 7,
     "executionEventId": "2693cf15-b6d4-4eb3-826a-8ac359197acb",
     "hasError": false,
     "id": "56963ae3-9443-4ef2-9259-e111ca803d4c",
     "outputs": [],
     "persistentId": "1adc13fc-410a-48d5-bec6-2c4a0c29ef43",
     "text": "import pathlib"
    },
    "executionTime": "2019-12-06T03:40:10.270Z"
   },
   {
    "cell": {
     "executionCount": 8,
     "executionEventId": "9878c3ec-0ef0-4e0c-a31e-e18ff9c06a40",
     "hasError": false,
     "id": "02c2d93b-db05-4411-afaf-c9198b3efc5d",
     "outputs": [],
     "persistentId": "ccd510dd-a5fc-486c-868f-c2bcbff7b6f7",
     "text": "var = 'PRECIP'"
    },
    "executionTime": "2019-12-06T03:40:10.640Z"
   },
   {
    "cell": {
     "executionCount": 9,
     "executionEventId": "2f10efb3-d769-400a-ba1f-0404f44b07e5",
     "hasError": false,
     "id": "3b47435c-b55f-4838-8866-632d0c0484c0",
     "outputs": [],
     "persistentId": "c11a11b1-1b6b-45d6-b9b5-be424b0cc17c",
     "text": "model = 'JMA'"
    },
    "executionTime": "2019-12-06T03:40:10.980Z"
   },
   {
    "cell": {
     "executionCount": 10,
     "executionEventId": "79bd2503-c761-46b2-b48e-89f9d81e1b4c",
     "hasError": false,
     "id": "f15b9c5a-5e69-48a3-ab4b-aa7fcf04cea3",
     "outputs": [],
     "persistentId": "23be47d6-42a0-41a2-bc96-cca73a224c86",
     "text": "dpath = pathlib.Path(f'/home/nicolasf/drives/auck_projects/END19101/Working/data/hindcasts/{model}/{var}/')"
    },
    "executionTime": "2019-12-06T03:40:11.294Z"
   },
   {
    "cell": {
     "executionCount": 11,
     "executionEventId": "d7e4b2f0-8e00-477a-a7dc-e472a051bca1",
     "hasError": false,
     "id": "c81c7bef-802c-418e-84b2-7b701e41d971",
     "outputs": [],
     "persistentId": "ce02a8b8-53d7-4d79-89fd-d0ddb0d76858",
     "text": "lfiles = list(dpath.glob(\"*.grb2\"))"
    },
    "executionTime": "2019-12-06T03:40:12.783Z"
   },
   {
    "cell": {
     "executionCount": 12,
     "executionEventId": "eaa73de9-7408-4fc3-a0c5-f05e74d62d6e",
     "hasError": false,
     "id": "938b80e1-4226-4df5-9438-da65fc096c10",
     "outputs": [
      {
       "data": {
        "text/plain": "864"
       },
       "execution_count": 12,
       "metadata": {},
       "output_type": "execute_result"
      }
     ],
     "persistentId": "8d554718-971d-44b2-9fd0-f71d3f3a4aff",
     "text": "len(lfiles)"
    },
    "executionTime": "2019-12-06T03:40:12.800Z"
   },
   {
    "cell": {
     "executionCount": 13,
     "executionEventId": "975cb05a-4208-49f3-a29a-fab4c791f7b6",
     "hasError": false,
     "id": "94099f13-9f46-4066-9f2c-7311b6a3fa51",
     "outputs": [],
     "persistentId": "cee09749-c24e-4684-b1bf-eb678be08681",
     "text": "fname = lfiles[0]"
    },
    "executionTime": "2019-12-06T03:40:29.925Z"
   },
   {
    "cell": {
     "executionCount": 14,
     "executionEventId": "7e9eb9e5-0863-46d2-97a3-0364b7544e9a",
     "hasError": false,
     "id": "3b5770ec-b9e0-4f4f-a219-2463ba5bbc71",
     "outputs": [],
     "persistentId": "e2fec641-39b4-4980-984e-c614df7a2180",
     "text": "grbs = pygrib.open(str(fname))\n\nanalDates = []\nvalidDates = []\nvalidityDates = []\ndata = []\n\nfor g in grbs: \n    data.append(g.values)\n    analDates.append(g.analDate)\n    validDates.append(g.validDate)\n    validityDates.append(datetime.strptime(str(g.validityDate), \"%Y%m%d\"))   \n\ndata = np.array(data)"
    },
    "executionTime": "2019-12-06T03:40:49.988Z"
   },
   {
    "cell": {
     "executionCount": 15,
     "executionEventId": "897b1020-06cd-4272-8513-2ad8682cddfb",
     "hasError": false,
     "id": "e4c6d265-b2fb-4377-b4f5-7002eae813bc",
     "outputs": [
      {
       "data": {
        "text/plain": "[datetime.datetime(1979, 2, 28, 0, 0),\n datetime.datetime(1979, 3, 31, 0, 0),\n datetime.datetime(1979, 4, 30, 0, 0),\n datetime.datetime(1979, 5, 31, 0, 0),\n datetime.datetime(1979, 6, 30, 0, 0),\n datetime.datetime(1979, 7, 31, 0, 0),\n datetime.datetime(1979, 8, 31, 0, 0),\n datetime.datetime(1979, 2, 28, 0, 0),\n datetime.datetime(1979, 3, 31, 0, 0),\n datetime.datetime(1979, 4, 30, 0, 0),\n datetime.datetime(1979, 5, 31, 0, 0),\n datetime.datetime(1979, 6, 30, 0, 0),\n datetime.datetime(1979, 7, 31, 0, 0),\n datetime.datetime(1979, 8, 31, 0, 0),\n datetime.datetime(1979, 2, 28, 0, 0),\n datetime.datetime(1979, 3, 31, 0, 0),\n datetime.datetime(1979, 4, 30, 0, 0),\n datetime.datetime(1979, 5, 31, 0, 0),\n datetime.datetime(1979, 6, 30, 0, 0),\n datetime.datetime(1979, 7, 31, 0, 0),\n datetime.datetime(1979, 8, 31, 0, 0),\n datetime.datetime(1979, 2, 28, 0, 0),\n datetime.datetime(1979, 3, 31, 0, 0),\n datetime.datetime(1979, 4, 30, 0, 0),\n datetime.datetime(1979, 5, 31, 0, 0),\n datetime.datetime(1979, 6, 30, 0, 0),\n datetime.datetime(1979, 7, 31, 0, 0),\n datetime.datetime(1979, 8, 31, 0, 0),\n datetime.datetime(1979, 2, 28, 0, 0),\n datetime.datetime(1979, 3, 31, 0, 0),\n datetime.datetime(1979, 4, 30, 0, 0),\n datetime.datetime(1979, 5, 31, 0, 0),\n datetime.datetime(1979, 6, 30, 0, 0),\n datetime.datetime(1979, 7, 31, 0, 0),\n datetime.datetime(1979, 8, 31, 0, 0)]"
       },
       "execution_count": 15,
       "metadata": {},
       "output_type": "execute_result"
      }
     ],
     "persistentId": "4f8c6789-34e7-4ea1-bb83-2f25505072f7",
     "text": "validityDates"
    },
    "executionTime": "2019-12-06T03:40:56.299Z"
   },
   {
    "cell": {
     "executionCount": 16,
     "executionEventId": "0b63e4fa-d8b7-4aca-9cba-6387dd87b268",
     "hasError": false,
     "id": "11715212-f8ec-410c-b7a4-ba8fce27f5a2",
     "outputs": [
      {
       "data": {
        "text/plain": "PosixPath('/home/nicolasf/drives/auck_projects/END19101/Working/data/hindcasts/JMA/PRECIP/surf_Prr_mon.19790116.grb2')"
       },
       "execution_count": 16,
       "metadata": {},
       "output_type": "execute_result"
      }
     ],
     "persistentId": "15c60c4e-280d-48dc-89fa-f9e3180a4d8b",
     "text": "fname"
    },
    "executionTime": "2019-12-06T03:41:08.369Z"
   }
  ],
  "kernelspec": {
   "display_name": "Python 3",
   "language": "python",
   "name": "python3"
  },
  "language_info": {
   "codemirror_mode": {
    "name": "ipython",
    "version": 3
   },
   "file_extension": ".py",
   "mimetype": "text/x-python",
   "name": "python",
   "nbconvert_exporter": "python",
   "pygments_lexer": "ipython3",
   "version": "3.7.5"
  },
  "toc": {
   "colors": {
    "hover_highlight": "#DAA520",
    "running_highlight": "#FF0000",
    "selected_highlight": "#FFD700"
   },
   "moveMenuLeft": true,
   "nav_menu": {
    "height": "98px",
    "width": "252px"
   },
   "navigate_menu": true,
   "number_sections": true,
   "sideBar": true,
   "threshold": 4,
   "toc_cell": false,
   "toc_section_display": "block",
   "toc_window_display": false,
   "widenNotebook": false
  },
  "uuid": "828c272b-a808-4ae3-9e8b-84f4416fce44"
 },
 "nbformat": 4,
 "nbformat_minor": 4
}
