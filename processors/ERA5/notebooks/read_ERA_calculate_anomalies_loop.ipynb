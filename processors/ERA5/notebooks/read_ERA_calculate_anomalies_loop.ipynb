{
 "cells": [
  {
   "cell_type": "code",
   "execution_count": 1,
   "metadata": {},
   "outputs": [],
   "source": [
    "nb_name = 'read_ERA_calculate_anomalies_loop.ipynb'"
   ]
  },
  {
   "cell_type": "code",
   "execution_count": 2,
   "metadata": {},
   "outputs": [],
   "source": [
    "%matplotlib inline\n",
    "from matplotlib import pyplot as plt"
   ]
  },
  {
   "cell_type": "code",
   "execution_count": 3,
   "metadata": {},
   "outputs": [],
   "source": [
    "import numpy as np\n",
    "import pandas as pd\n",
    "import xarray as xr"
   ]
  },
  {
   "cell_type": "code",
   "execution_count": 4,
   "metadata": {},
   "outputs": [],
   "source": [
    "import pathlib"
   ]
  },
  {
   "cell_type": "code",
   "execution_count": 5,
   "metadata": {},
   "outputs": [],
   "source": [
    "HOME = pathlib.Path.home()"
   ]
  },
  {
   "cell_type": "code",
   "execution_count": 6,
   "metadata": {},
   "outputs": [
    {
     "data": {
      "text/plain": [
       "PosixPath('/home/nicolasf')"
      ]
     },
     "execution_count": 6,
     "metadata": {},
     "output_type": "execute_result"
    }
   ],
   "source": [
    "HOME"
   ]
  },
  {
   "cell_type": "code",
   "execution_count": 7,
   "metadata": {},
   "outputs": [],
   "source": [
    "var_dict_replace = {}\n",
    "var_dict_replace['T2M'] = None \n",
    "var_dict_replace['PRECIP'] = {'tp':'precip'} \n",
    "var_dict_replace['SST'] = None"
   ]
  },
  {
   "cell_type": "code",
   "execution_count": 8,
   "metadata": {},
   "outputs": [],
   "source": [
    "dim_dict_replace = {}\n",
    "dim_dict_replace['latitude'] = 'lat'\n",
    "dim_dict_replace['longitude'] = 'lon'"
   ]
  },
  {
   "cell_type": "code",
   "execution_count": 9,
   "metadata": {},
   "outputs": [],
   "source": [
    "var_name = 'SST'"
   ]
  },
  {
   "cell_type": "code",
   "execution_count": 10,
   "metadata": {},
   "outputs": [],
   "source": [
    "dpath = HOME / 'drives' / 'auck_projects' / 'END19101' / 'Working' / 'data' / 'REANALYSIS' / 'downloads' / 'ERA5' / var_name"
   ]
  },
  {
   "cell_type": "code",
   "execution_count": 11,
   "metadata": {},
   "outputs": [],
   "source": [
    "lfiles = list(dpath.glob(\"*.nc\"))"
   ]
  },
  {
   "cell_type": "code",
   "execution_count": 12,
   "metadata": {},
   "outputs": [],
   "source": [
    "lfiles.sort()"
   ]
  },
  {
   "cell_type": "code",
   "execution_count": 13,
   "metadata": {},
   "outputs": [
    {
     "data": {
      "text/plain": [
       "[PosixPath('/home/nicolasf/drives/auck_projects/END19101/Working/data/REANALYSIS/downloads/ERA5/SST/ERA5_monthly_SST_2016_06.nc'),\n",
       " PosixPath('/home/nicolasf/drives/auck_projects/END19101/Working/data/REANALYSIS/downloads/ERA5/SST/ERA5_monthly_SST_2016_07.nc'),\n",
       " PosixPath('/home/nicolasf/drives/auck_projects/END19101/Working/data/REANALYSIS/downloads/ERA5/SST/ERA5_monthly_SST_2016_08.nc'),\n",
       " PosixPath('/home/nicolasf/drives/auck_projects/END19101/Working/data/REANALYSIS/downloads/ERA5/SST/ERA5_monthly_SST_2016_09.nc'),\n",
       " PosixPath('/home/nicolasf/drives/auck_projects/END19101/Working/data/REANALYSIS/downloads/ERA5/SST/ERA5_monthly_SST_2016_10.nc'),\n",
       " PosixPath('/home/nicolasf/drives/auck_projects/END19101/Working/data/REANALYSIS/downloads/ERA5/SST/ERA5_monthly_SST_2016_11.nc'),\n",
       " PosixPath('/home/nicolasf/drives/auck_projects/END19101/Working/data/REANALYSIS/downloads/ERA5/SST/ERA5_monthly_SST_2016_12.nc')]"
      ]
     },
     "execution_count": 13,
     "metadata": {},
     "output_type": "execute_result"
    }
   ],
   "source": [
    "lfiles[:10]"
   ]
  },
  {
   "cell_type": "code",
   "execution_count": 14,
   "metadata": {},
   "outputs": [
    {
     "data": {
      "text/plain": [
       "[PosixPath('/home/nicolasf/drives/auck_projects/END19101/Working/data/REANALYSIS/downloads/ERA5/SST/ERA5_monthly_SST_2016_06.nc'),\n",
       " PosixPath('/home/nicolasf/drives/auck_projects/END19101/Working/data/REANALYSIS/downloads/ERA5/SST/ERA5_monthly_SST_2016_07.nc'),\n",
       " PosixPath('/home/nicolasf/drives/auck_projects/END19101/Working/data/REANALYSIS/downloads/ERA5/SST/ERA5_monthly_SST_2016_08.nc'),\n",
       " PosixPath('/home/nicolasf/drives/auck_projects/END19101/Working/data/REANALYSIS/downloads/ERA5/SST/ERA5_monthly_SST_2016_09.nc'),\n",
       " PosixPath('/home/nicolasf/drives/auck_projects/END19101/Working/data/REANALYSIS/downloads/ERA5/SST/ERA5_monthly_SST_2016_10.nc'),\n",
       " PosixPath('/home/nicolasf/drives/auck_projects/END19101/Working/data/REANALYSIS/downloads/ERA5/SST/ERA5_monthly_SST_2016_11.nc'),\n",
       " PosixPath('/home/nicolasf/drives/auck_projects/END19101/Working/data/REANALYSIS/downloads/ERA5/SST/ERA5_monthly_SST_2016_12.nc')]"
      ]
     },
     "execution_count": 14,
     "metadata": {},
     "output_type": "execute_result"
    }
   ],
   "source": [
    "lfiles[-10:]"
   ]
  },
  {
   "cell_type": "code",
   "execution_count": 15,
   "metadata": {},
   "outputs": [],
   "source": [
    "dset = xr.open_mfdataset(lfiles, concat_dim='time', combine='nested')"
   ]
  },
  {
   "cell_type": "code",
   "execution_count": 16,
   "metadata": {},
   "outputs": [
    {
     "data": {
      "text/plain": [
       "1.893762052"
      ]
     },
     "execution_count": 16,
     "metadata": {},
     "output_type": "execute_result"
    }
   ],
   "source": [
    "dset.nbytes / 1e9"
   ]
  },
  {
   "cell_type": "markdown",
   "metadata": {},
   "source": [
    "### replace variable names if needed"
   ]
  },
  {
   "cell_type": "code",
   "execution_count": 17,
   "metadata": {},
   "outputs": [],
   "source": [
    "if var_dict_replace[var_name] is not None: \n",
    "    dset = dset.rename_vars(var_dict_replace[var_name])"
   ]
  },
  {
   "cell_type": "code",
   "execution_count": 18,
   "metadata": {},
   "outputs": [
    {
     "data": {
      "text/html": [
       "<pre>&lt;xarray.Dataset&gt;\n",
       "Dimensions:    (latitude: 721, longitude: 1440, time: 456)\n",
       "Coordinates:\n",
       "  * latitude   (latitude) float32 90.0 89.75 89.5 89.25 ... -89.5 -89.75 -90.0\n",
       "  * longitude  (longitude) float32 0.0 0.25 0.5 0.75 ... 359.25 359.5 359.75\n",
       "  * time       (time) datetime64[ns] 1979-01-01 1979-02-01 ... 2016-12-01\n",
       "Data variables:\n",
       "    precip     (time, latitude, longitude) float32 dask.array&lt;chunksize=(1, 721, 1440), meta=np.ndarray&gt;\n",
       "Attributes:\n",
       "    Conventions:  CF-1.6\n",
       "    history:      2020-01-17 11:32:43 GMT by grib_to_netcdf-2.15.0: /opt/ecmw...</pre>"
      ],
      "text/plain": [
       "<xarray.Dataset>\n",
       "Dimensions:    (latitude: 721, longitude: 1440, time: 456)\n",
       "Coordinates:\n",
       "  * latitude   (latitude) float32 90.0 89.75 89.5 89.25 ... -89.5 -89.75 -90.0\n",
       "  * longitude  (longitude) float32 0.0 0.25 0.5 0.75 ... 359.25 359.5 359.75\n",
       "  * time       (time) datetime64[ns] 1979-01-01 1979-02-01 ... 2016-12-01\n",
       "Data variables:\n",
       "    precip     (time, latitude, longitude) float32 dask.array<chunksize=(1, 721, 1440), meta=np.ndarray>\n",
       "Attributes:\n",
       "    Conventions:  CF-1.6\n",
       "    history:      2020-01-17 11:32:43 GMT by grib_to_netcdf-2.15.0: /opt/ecmw..."
      ]
     },
     "execution_count": 18,
     "metadata": {},
     "output_type": "execute_result"
    }
   ],
   "source": [
    "dset"
   ]
  },
  {
   "cell_type": "code",
   "execution_count": 19,
   "metadata": {},
   "outputs": [],
   "source": [
    "dset = dset.rename(dim_dict_replace) "
   ]
  },
  {
   "cell_type": "code",
   "execution_count": 20,
   "metadata": {},
   "outputs": [
    {
     "data": {
      "text/html": [
       "<pre>&lt;xarray.Dataset&gt;\n",
       "Dimensions:  (lat: 721, lon: 1440, time: 456)\n",
       "Coordinates:\n",
       "  * lat      (lat) float32 90.0 89.75 89.5 89.25 ... -89.25 -89.5 -89.75 -90.0\n",
       "  * lon      (lon) float32 0.0 0.25 0.5 0.75 1.0 ... 359.0 359.25 359.5 359.75\n",
       "  * time     (time) datetime64[ns] 1979-01-01 1979-02-01 ... 2016-12-01\n",
       "Data variables:\n",
       "    precip   (time, lat, lon) float32 dask.array&lt;chunksize=(1, 721, 1440), meta=np.ndarray&gt;\n",
       "Attributes:\n",
       "    Conventions:  CF-1.6\n",
       "    history:      2020-01-17 11:32:43 GMT by grib_to_netcdf-2.15.0: /opt/ecmw...</pre>"
      ],
      "text/plain": [
       "<xarray.Dataset>\n",
       "Dimensions:  (lat: 721, lon: 1440, time: 456)\n",
       "Coordinates:\n",
       "  * lat      (lat) float32 90.0 89.75 89.5 89.25 ... -89.25 -89.5 -89.75 -90.0\n",
       "  * lon      (lon) float32 0.0 0.25 0.5 0.75 1.0 ... 359.0 359.25 359.5 359.75\n",
       "  * time     (time) datetime64[ns] 1979-01-01 1979-02-01 ... 2016-12-01\n",
       "Data variables:\n",
       "    precip   (time, lat, lon) float32 dask.array<chunksize=(1, 721, 1440), meta=np.ndarray>\n",
       "Attributes:\n",
       "    Conventions:  CF-1.6\n",
       "    history:      2020-01-17 11:32:43 GMT by grib_to_netcdf-2.15.0: /opt/ecmw..."
      ]
     },
     "execution_count": 20,
     "metadata": {},
     "output_type": "execute_result"
    }
   ],
   "source": [
    "dset"
   ]
  },
  {
   "cell_type": "markdown",
   "metadata": {},
   "source": [
    "### make sure that there are no values below zero "
   ]
  },
  {
   "cell_type": "code",
   "execution_count": 21,
   "metadata": {},
   "outputs": [],
   "source": [
    "if var_name == 'PRECIP': \n",
    "    dset[var_name.lower()] = dset[var_name.lower()].clip(min=0.)"
   ]
  },
  {
   "cell_type": "markdown",
   "metadata": {},
   "source": [
    "### calculate the monthly climatology "
   ]
  },
  {
   "cell_type": "code",
   "execution_count": 22,
   "metadata": {},
   "outputs": [],
   "source": [
    "clim_m = dset.sel(time=slice('1993','2016'))"
   ]
  },
  {
   "cell_type": "code",
   "execution_count": 23,
   "metadata": {},
   "outputs": [],
   "source": [
    "clim_m = clim_m.groupby(clim_m.time.dt.month).mean()"
   ]
  },
  {
   "cell_type": "markdown",
   "metadata": {},
   "source": [
    "### calculate the monthly anomalies "
   ]
  },
  {
   "cell_type": "code",
   "execution_count": 24,
   "metadata": {},
   "outputs": [],
   "source": [
    "anoms_m = dset.groupby(dset.time.dt.month) - clim_m"
   ]
  },
  {
   "cell_type": "markdown",
   "metadata": {},
   "source": [
    "### calculate the seasonal averages from the monthly dataset "
   ]
  },
  {
   "cell_type": "code",
   "execution_count": 25,
   "metadata": {},
   "outputs": [],
   "source": [
    "dset_rm = dset.rolling(time=3, min_periods=3).mean()"
   ]
  },
  {
   "cell_type": "code",
   "execution_count": 26,
   "metadata": {},
   "outputs": [
    {
     "data": {
      "text/plain": [
       "<matplotlib.collections.QuadMesh at 0x7f48dd620210>"
      ]
     },
     "execution_count": 26,
     "metadata": {},
     "output_type": "execute_result"
    },
    {
     "data": {
      "image/png": "[encoded data removed]",
      "text/plain": [
       "<Figure size 432x288 with 2 Axes>"
      ]
     },
     "metadata": {
      "needs_background": "light"
     },
     "output_type": "display_data"
    }
   ],
   "source": [
    "dset_rm.isel(time=2)[var_name.lower()].plot()"
   ]
  },
  {
   "cell_type": "markdown",
   "metadata": {},
   "source": [
    "### removes the first 2 data points"
   ]
  },
  {
   "cell_type": "code",
   "execution_count": 27,
   "metadata": {},
   "outputs": [],
   "source": [
    "dset_rm = dset_rm.isel(time=slice(2,None))"
   ]
  },
  {
   "cell_type": "markdown",
   "metadata": {},
   "source": [
    "### calculate the seasonal climatology "
   ]
  },
  {
   "cell_type": "code",
   "execution_count": 28,
   "metadata": {},
   "outputs": [],
   "source": [
    "clim_s = dset_rm.sel(time=slice('1993','2016'))"
   ]
  },
  {
   "cell_type": "code",
   "execution_count": 29,
   "metadata": {},
   "outputs": [],
   "source": [
    "clim_s = clim_s.groupby(clim_s.time.dt.month).mean()"
   ]
  },
  {
   "cell_type": "code",
   "execution_count": 30,
   "metadata": {},
   "outputs": [
    {
     "data": {
      "text/plain": [
       "<matplotlib.collections.QuadMesh at 0x7f48dd4c7c90>"
      ]
     },
     "execution_count": 30,
     "metadata": {},
     "output_type": "execute_result"
    },
    {
     "data": {
      "image/png": "[encoded data removed]",
      "text/plain": [
       "<Figure size 432x288 with 2 Axes>"
      ]
     },
     "metadata": {
      "needs_background": "light"
     },
     "output_type": "display_data"
    }
   ],
   "source": [
    "clim_s.sel(month=1)[var_name.lower()].plot(vmin=0)"
   ]
  },
  {
   "cell_type": "markdown",
   "metadata": {},
   "source": [
    "### calculate the seasonal anomalies "
   ]
  },
  {
   "cell_type": "code",
   "execution_count": 31,
   "metadata": {},
   "outputs": [],
   "source": [
    "anoms_s = dset_rm.groupby(dset_rm.time.dt.month) - clim_s"
   ]
  },
  {
   "cell_type": "code",
   "execution_count": 32,
   "metadata": {},
   "outputs": [
    {
     "data": {
      "text/html": [
       "<pre>&lt;xarray.Dataset&gt;\n",
       "Dimensions:  (lat: 721, lon: 1440, time: 454)\n",
       "Coordinates:\n",
       "  * lon      (lon) float32 0.0 0.25 0.5 0.75 1.0 ... 359.0 359.25 359.5 359.75\n",
       "  * lat      (lat) float32 90.0 89.75 89.5 89.25 ... -89.25 -89.5 -89.75 -90.0\n",
       "  * time     (time) datetime64[ns] 1979-03-01 1979-04-01 ... 2016-12-01\n",
       "    month    (time) int64 3 4 5 6 7 8 9 10 11 12 1 ... 2 3 4 5 6 7 8 9 10 11 12\n",
       "Data variables:\n",
       "    precip   (time, lat, lon) float32 dask.array&lt;chunksize=(1, 721, 1440), meta=np.ndarray&gt;</pre>"
      ],
      "text/plain": [
       "<xarray.Dataset>\n",
       "Dimensions:  (lat: 721, lon: 1440, time: 454)\n",
       "Coordinates:\n",
       "  * lon      (lon) float32 0.0 0.25 0.5 0.75 1.0 ... 359.0 359.25 359.5 359.75\n",
       "  * lat      (lat) float32 90.0 89.75 89.5 89.25 ... -89.25 -89.5 -89.75 -90.0\n",
       "  * time     (time) datetime64[ns] 1979-03-01 1979-04-01 ... 2016-12-01\n",
       "    month    (time) int64 3 4 5 6 7 8 9 10 11 12 1 ... 2 3 4 5 6 7 8 9 10 11 12\n",
       "Data variables:\n",
       "    precip   (time, lat, lon) float32 dask.array<chunksize=(1, 721, 1440), meta=np.ndarray>"
      ]
     },
     "execution_count": 32,
     "metadata": {},
     "output_type": "execute_result"
    }
   ],
   "source": [
    "anoms_s"
   ]
  },
  {
   "cell_type": "markdown",
   "metadata": {},
   "source": [
    "### saves the climatologies as one file (each)"
   ]
  },
  {
   "cell_type": "code",
   "execution_count": 33,
   "metadata": {},
   "outputs": [
    {
     "data": {
      "text/plain": [
       "PosixPath('/home/nicolasf/drives/auck_projects/END19101/Working/data/REANALYSIS/downloads/ERA5/PRECIP')"
      ]
     },
     "execution_count": 33,
     "metadata": {},
     "output_type": "execute_result"
    }
   ],
   "source": [
    "dpath"
   ]
  },
  {
   "cell_type": "code",
   "execution_count": 34,
   "metadata": {},
   "outputs": [],
   "source": [
    "dpath_clim = pathlib.Path(str(dpath).replace('downloads','processed')) / 'CLIMATOLOGY'"
   ]
  },
  {
   "cell_type": "code",
   "execution_count": 35,
   "metadata": {},
   "outputs": [],
   "source": [
    "dpath_anoms = pathlib.Path(str(dpath).replace('downloads','processed'))"
   ]
  },
  {
   "cell_type": "code",
   "execution_count": 36,
   "metadata": {},
   "outputs": [
    {
     "data": {
      "text/plain": [
       "PosixPath('/home/nicolasf/drives/auck_projects/END19101/Working/data/REANALYSIS/processed/ERA5/PRECIP/CLIMATOLOGY')"
      ]
     },
     "execution_count": 36,
     "metadata": {},
     "output_type": "execute_result"
    }
   ],
   "source": [
    "dpath_clim"
   ]
  },
  {
   "cell_type": "code",
   "execution_count": 37,
   "metadata": {},
   "outputs": [],
   "source": [
    "if not dpath_clim.exists(): \n",
    "    dpath_clim.mkdir(parents=True)"
   ]
  },
  {
   "cell_type": "code",
   "execution_count": 38,
   "metadata": {},
   "outputs": [
    {
     "data": {
      "text/plain": [
       "'PRECIP'"
      ]
     },
     "execution_count": 38,
     "metadata": {},
     "output_type": "execute_result"
    }
   ],
   "source": [
    "var_name"
   ]
  },
  {
   "cell_type": "markdown",
   "metadata": {},
   "source": [
    "### monthly climatology "
   ]
  },
  {
   "cell_type": "code",
   "execution_count": 39,
   "metadata": {},
   "outputs": [],
   "source": [
    "clim_m.to_netcdf(dpath_clim / f'CLIMATOLOGY_MONTHLY_ERA5_{var_name}_1993_2016.nc')"
   ]
  },
  {
   "cell_type": "markdown",
   "metadata": {},
   "source": [
    "### seasonal climatology "
   ]
  },
  {
   "cell_type": "code",
   "execution_count": 40,
   "metadata": {},
   "outputs": [],
   "source": [
    "clim_s.to_netcdf(dpath_clim / f'CLIMATOLOGY_SEASONAL_ERA5_{var_name}_1993_2016.nc')"
   ]
  },
  {
   "cell_type": "markdown",
   "metadata": {},
   "source": [
    "### now saves the anomalies (one file per month and season) in the processed PATH "
   ]
  },
  {
   "cell_type": "code",
   "execution_count": 41,
   "metadata": {},
   "outputs": [
    {
     "name": "stdout",
     "output_type": "stream",
     "text": [
      "saving the monthly anomalies for date 1979_01\n",
      "saving the monthly anomalies for date 1979_02\n",
      "saving the monthly anomalies for date 1979_03\n",
      "saving the monthly anomalies for date 1979_04\n",
      "saving the monthly anomalies for date 1979_05\n",
      "saving the monthly anomalies for date 1979_06\n",
      "saving the monthly anomalies for date 1979_07\n",
      "saving the monthly anomalies for date 1979_08\n",
      "saving the monthly anomalies for date 1979_09\n",
      "saving the monthly anomalies for date 1979_10\n",
      "saving the monthly anomalies for date 1979_11\n",
      "saving the monthly anomalies for date 1979_12\n",
      "saving the monthly anomalies for date 1980_01\n",
      "saving the monthly anomalies for date 1980_02\n",
      "saving the monthly anomalies for date 1980_03\n",
      "saving the monthly anomalies for date 1980_04\n",
      "saving the monthly anomalies for date 1980_05\n",
      "saving the monthly anomalies for date 1980_06\n",
      "saving the monthly anomalies for date 1980_07\n",
      "saving the monthly anomalies for date 1980_08\n",
      "saving the monthly anomalies for date 1980_09\n",
      "saving the monthly anomalies for date 1980_10\n",
      "saving the monthly anomalies for date 1980_11\n",
      "saving the monthly anomalies for date 1980_12\n",
      "saving the monthly anomalies for date 1981_01\n",
      "saving the monthly anomalies for date 1981_02\n",
      "saving the monthly anomalies for date 1981_03\n",
      "saving the monthly anomalies for date 1981_04\n",
      "saving the monthly anomalies for date 1981_05\n",
      "saving the monthly anomalies for date 1981_06\n",
      "saving the monthly anomalies for date 1981_07\n",
      "saving the monthly anomalies for date 1981_08\n",
      "saving the monthly anomalies for date 1981_09\n",
      "saving the monthly anomalies for date 1981_10\n",
      "saving the monthly anomalies for date 1981_11\n",
      "saving the monthly anomalies for date 1981_12\n",
      "saving the monthly anomalies for date 1982_01\n",
      "saving the monthly anomalies for date 1982_02\n",
      "saving the monthly anomalies for date 1982_03\n",
      "saving the monthly anomalies for date 1982_04\n",
      "saving the monthly anomalies for date 1982_05\n",
      "saving the monthly anomalies for date 1982_06\n",
      "saving the monthly anomalies for date 1982_07\n",
      "saving the monthly anomalies for date 1982_08\n",
      "saving the monthly anomalies for date 1982_09\n",
      "saving the monthly anomalies for date 1982_10\n",
      "saving the monthly anomalies for date 1982_11\n",
      "saving the monthly anomalies for date 1982_12\n",
      "saving the monthly anomalies for date 1983_01\n",
      "saving the monthly anomalies for date 1983_02\n",
      "saving the monthly anomalies for date 1983_03\n",
      "saving the monthly anomalies for date 1983_04\n",
      "saving the monthly anomalies for date 1983_05\n",
      "saving the monthly anomalies for date 1983_06\n",
      "saving the monthly anomalies for date 1983_07\n",
      "saving the monthly anomalies for date 1983_08\n",
      "saving the monthly anomalies for date 1983_09\n",
      "saving the monthly anomalies for date 1983_10\n",
      "saving the monthly anomalies for date 1983_11\n",
      "saving the monthly anomalies for date 1983_12\n",
      "saving the monthly anomalies for date 1984_01\n",
      "saving the monthly anomalies for date 1984_02\n",
      "saving the monthly anomalies for date 1984_03\n",
      "saving the monthly anomalies for date 1984_04\n",
      "saving the monthly anomalies for date 1984_05\n",
      "saving the monthly anomalies for date 1984_06\n",
      "saving the monthly anomalies for date 1984_07\n",
      "saving the monthly anomalies for date 1984_08\n",
      "saving the monthly anomalies for date 1984_09\n",
      "saving the monthly anomalies for date 1984_10\n",
      "saving the monthly anomalies for date 1984_11\n",
      "saving the monthly anomalies for date 1984_12\n",
      "saving the monthly anomalies for date 1985_01\n",
      "saving the monthly anomalies for date 1985_02\n",
      "saving the monthly anomalies for date 1985_03\n",
      "saving the monthly anomalies for date 1985_04\n",
      "saving the monthly anomalies for date 1985_05\n",
      "saving the monthly anomalies for date 1985_06\n",
      "saving the monthly anomalies for date 1985_07\n",
      "saving the monthly anomalies for date 1985_08\n",
      "saving the monthly anomalies for date 1985_09\n",
      "saving the monthly anomalies for date 1985_10\n",
      "saving the monthly anomalies for date 1985_11\n",
      "saving the monthly anomalies for date 1985_12\n",
      "saving the monthly anomalies for date 1986_01\n",
      "saving the monthly anomalies for date 1986_02\n",
      "saving the monthly anomalies for date 1986_03\n",
      "saving the monthly anomalies for date 1986_04\n",
      "saving the monthly anomalies for date 1986_05\n",
      "saving the monthly anomalies for date 1986_06\n",
      "saving the monthly anomalies for date 1986_07\n",
      "saving the monthly anomalies for date 1986_08\n",
      "saving the monthly anomalies for date 1986_09\n",
      "saving the monthly anomalies for date 1986_10\n",
      "saving the monthly anomalies for date 1986_11\n",
      "saving the monthly anomalies for date 1986_12\n",
      "saving the monthly anomalies for date 1987_01\n",
      "saving the monthly anomalies for date 1987_02\n",
      "saving the monthly anomalies for date 1987_03\n",
      "saving the monthly anomalies for date 1987_04\n",
      "saving the monthly anomalies for date 1987_05\n",
      "saving the monthly anomalies for date 1987_06\n",
      "saving the monthly anomalies for date 1987_07\n",
      "saving the monthly anomalies for date 1987_08\n",
      "saving the monthly anomalies for date 1987_09\n",
      "saving the monthly anomalies for date 1987_10\n",
      "saving the monthly anomalies for date 1987_11\n",
      "saving the monthly anomalies for date 1987_12\n",
      "saving the monthly anomalies for date 1988_01\n",
      "saving the monthly anomalies for date 1988_02\n",
      "saving the monthly anomalies for date 1988_03\n",
      "saving the monthly anomalies for date 1988_04\n",
      "saving the monthly anomalies for date 1988_05\n",
      "saving the monthly anomalies for date 1988_06\n",
      "saving the monthly anomalies for date 1988_07\n",
      "saving the monthly anomalies for date 1988_08\n",
      "saving the monthly anomalies for date 1988_09\n",
      "saving the monthly anomalies for date 1988_10\n",
      "saving the monthly anomalies for date 1988_11\n",
      "saving the monthly anomalies for date 1988_12\n",
      "saving the monthly anomalies for date 1989_01\n",
      "saving the monthly anomalies for date 1989_02\n",
      "saving the monthly anomalies for date 1989_03\n",
      "saving the monthly anomalies for date 1989_04\n",
      "saving the monthly anomalies for date 1989_05\n",
      "saving the monthly anomalies for date 1989_06\n",
      "saving the monthly anomalies for date 1989_07\n",
      "saving the monthly anomalies for date 1989_08\n",
      "saving the monthly anomalies for date 1989_09\n",
      "saving the monthly anomalies for date 1989_10\n",
      "saving the monthly anomalies for date 1989_11\n",
      "saving the monthly anomalies for date 1989_12\n",
      "saving the monthly anomalies for date 1990_01\n",
      "saving the monthly anomalies for date 1990_02\n",
      "saving the monthly anomalies for date 1990_03\n",
      "saving the monthly anomalies for date 1990_04\n",
      "saving the monthly anomalies for date 1990_05\n",
      "saving the monthly anomalies for date 1990_06\n",
      "saving the monthly anomalies for date 1990_07\n",
      "saving the monthly anomalies for date 1990_08\n",
      "saving the monthly anomalies for date 1990_09\n",
      "saving the monthly anomalies for date 1990_10\n",
      "saving the monthly anomalies for date 1990_11\n",
      "saving the monthly anomalies for date 1990_12\n",
      "saving the monthly anomalies for date 1991_01\n",
      "saving the monthly anomalies for date 1991_02\n",
      "saving the monthly anomalies for date 1991_03\n",
      "saving the monthly anomalies for date 1991_04\n",
      "saving the monthly anomalies for date 1991_05\n",
      "saving the monthly anomalies for date 1991_06\n",
      "saving the monthly anomalies for date 1991_07\n",
      "saving the monthly anomalies for date 1991_08\n",
      "saving the monthly anomalies for date 1991_09\n",
      "saving the monthly anomalies for date 1991_10\n",
      "saving the monthly anomalies for date 1991_11\n",
      "saving the monthly anomalies for date 1991_12\n",
      "saving the monthly anomalies for date 1992_01\n",
      "saving the monthly anomalies for date 1992_02\n",
      "saving the monthly anomalies for date 1992_03\n",
      "saving the monthly anomalies for date 1992_04\n",
      "saving the monthly anomalies for date 1992_05\n",
      "saving the monthly anomalies for date 1992_06\n",
      "saving the monthly anomalies for date 1992_07\n",
      "saving the monthly anomalies for date 1992_08\n",
      "saving the monthly anomalies for date 1992_09\n",
      "saving the monthly anomalies for date 1992_10\n",
      "saving the monthly anomalies for date 1992_11\n",
      "saving the monthly anomalies for date 1992_12\n",
      "saving the monthly anomalies for date 1993_01\n",
      "saving the monthly anomalies for date 1993_02\n",
      "saving the monthly anomalies for date 1993_03\n",
      "saving the monthly anomalies for date 1993_04\n",
      "saving the monthly anomalies for date 1993_05\n",
      "saving the monthly anomalies for date 1993_06\n",
      "saving the monthly anomalies for date 1993_07\n",
      "saving the monthly anomalies for date 1993_08\n",
      "saving the monthly anomalies for date 1993_09\n",
      "saving the monthly anomalies for date 1993_10\n",
      "saving the monthly anomalies for date 1993_11\n",
      "saving the monthly anomalies for date 1993_12\n",
      "saving the monthly anomalies for date 1994_01\n",
      "saving the monthly anomalies for date 1994_02\n",
      "saving the monthly anomalies for date 1994_03\n",
      "saving the monthly anomalies for date 1994_04\n",
      "saving the monthly anomalies for date 1994_05\n",
      "saving the monthly anomalies for date 1994_06\n",
      "saving the monthly anomalies for date 1994_07\n",
      "saving the monthly anomalies for date 1994_08\n",
      "saving the monthly anomalies for date 1994_09\n",
      "saving the monthly anomalies for date 1994_10\n",
      "saving the monthly anomalies for date 1994_11\n",
      "saving the monthly anomalies for date 1994_12\n",
      "saving the monthly anomalies for date 1995_01\n",
      "saving the monthly anomalies for date 1995_02\n",
      "saving the monthly anomalies for date 1995_03\n",
      "saving the monthly anomalies for date 1995_04\n",
      "saving the monthly anomalies for date 1995_05\n",
      "saving the monthly anomalies for date 1995_06\n",
      "saving the monthly anomalies for date 1995_07\n",
      "saving the monthly anomalies for date 1995_08\n",
      "saving the monthly anomalies for date 1995_09\n",
      "saving the monthly anomalies for date 1995_10\n",
      "saving the monthly anomalies for date 1995_11\n",
      "saving the monthly anomalies for date 1995_12\n",
      "saving the monthly anomalies for date 1996_01\n",
      "saving the monthly anomalies for date 1996_02\n",
      "saving the monthly anomalies for date 1996_03\n",
      "saving the monthly anomalies for date 1996_04\n",
      "saving the monthly anomalies for date 1996_05\n",
      "saving the monthly anomalies for date 1996_06\n",
      "saving the monthly anomalies for date 1996_07\n",
      "saving the monthly anomalies for date 1996_08\n",
      "saving the monthly anomalies for date 1996_09\n",
      "saving the monthly anomalies for date 1996_10\n",
      "saving the monthly anomalies for date 1996_11\n",
      "saving the monthly anomalies for date 1996_12\n",
      "saving the monthly anomalies for date 1997_01\n",
      "saving the monthly anomalies for date 1997_02\n",
      "saving the monthly anomalies for date 1997_03\n",
      "saving the monthly anomalies for date 1997_04\n",
      "saving the monthly anomalies for date 1997_05\n",
      "saving the monthly anomalies for date 1997_06\n",
      "saving the monthly anomalies for date 1997_07\n",
      "saving the monthly anomalies for date 1997_08\n",
      "saving the monthly anomalies for date 1997_09\n",
      "saving the monthly anomalies for date 1997_10\n",
      "saving the monthly anomalies for date 1997_11\n",
      "saving the monthly anomalies for date 1997_12\n",
      "saving the monthly anomalies for date 1998_01\n",
      "saving the monthly anomalies for date 1998_02\n",
      "saving the monthly anomalies for date 1998_03\n",
      "saving the monthly anomalies for date 1998_04\n",
      "saving the monthly anomalies for date 1998_05\n",
      "saving the monthly anomalies for date 1998_06\n",
      "saving the monthly anomalies for date 1998_07\n",
      "saving the monthly anomalies for date 1998_08\n",
      "saving the monthly anomalies for date 1998_09\n",
      "saving the monthly anomalies for date 1998_10\n",
      "saving the monthly anomalies for date 1998_11\n",
      "saving the monthly anomalies for date 1998_12\n",
      "saving the monthly anomalies for date 1999_01\n",
      "saving the monthly anomalies for date 1999_02\n",
      "saving the monthly anomalies for date 1999_03\n",
      "saving the monthly anomalies for date 1999_04\n",
      "saving the monthly anomalies for date 1999_05\n",
      "saving the monthly anomalies for date 1999_06\n",
      "saving the monthly anomalies for date 1999_07\n",
      "saving the monthly anomalies for date 1999_08\n",
      "saving the monthly anomalies for date 1999_09\n",
      "saving the monthly anomalies for date 1999_10\n",
      "saving the monthly anomalies for date 1999_11\n",
      "saving the monthly anomalies for date 1999_12\n",
      "saving the monthly anomalies for date 2000_01\n",
      "saving the monthly anomalies for date 2000_02\n",
      "saving the monthly anomalies for date 2000_03\n",
      "saving the monthly anomalies for date 2000_04\n",
      "saving the monthly anomalies for date 2000_05\n",
      "saving the monthly anomalies for date 2000_06\n",
      "saving the monthly anomalies for date 2000_07\n",
      "saving the monthly anomalies for date 2000_08\n",
      "saving the monthly anomalies for date 2000_09\n",
      "saving the monthly anomalies for date 2000_10\n",
      "saving the monthly anomalies for date 2000_11\n",
      "saving the monthly anomalies for date 2000_12\n",
      "saving the monthly anomalies for date 2001_01\n",
      "saving the monthly anomalies for date 2001_02\n",
      "saving the monthly anomalies for date 2001_03\n",
      "saving the monthly anomalies for date 2001_04\n",
      "saving the monthly anomalies for date 2001_05\n",
      "saving the monthly anomalies for date 2001_06\n",
      "saving the monthly anomalies for date 2001_07\n",
      "saving the monthly anomalies for date 2001_08\n",
      "saving the monthly anomalies for date 2001_09\n",
      "saving the monthly anomalies for date 2001_10\n",
      "saving the monthly anomalies for date 2001_11\n",
      "saving the monthly anomalies for date 2001_12\n",
      "saving the monthly anomalies for date 2002_01\n",
      "saving the monthly anomalies for date 2002_02\n",
      "saving the monthly anomalies for date 2002_03\n",
      "saving the monthly anomalies for date 2002_04\n",
      "saving the monthly anomalies for date 2002_05\n",
      "saving the monthly anomalies for date 2002_06\n",
      "saving the monthly anomalies for date 2002_07\n",
      "saving the monthly anomalies for date 2002_08\n",
      "saving the monthly anomalies for date 2002_09\n",
      "saving the monthly anomalies for date 2002_10\n",
      "saving the monthly anomalies for date 2002_11\n",
      "saving the monthly anomalies for date 2002_12\n",
      "saving the monthly anomalies for date 2003_01\n",
      "saving the monthly anomalies for date 2003_02\n",
      "saving the monthly anomalies for date 2003_03\n",
      "saving the monthly anomalies for date 2003_04\n",
      "saving the monthly anomalies for date 2003_05\n",
      "saving the monthly anomalies for date 2003_06\n",
      "saving the monthly anomalies for date 2003_07\n",
      "saving the monthly anomalies for date 2003_08\n",
      "saving the monthly anomalies for date 2003_09\n",
      "saving the monthly anomalies for date 2003_10\n",
      "saving the monthly anomalies for date 2003_11\n",
      "saving the monthly anomalies for date 2003_12\n",
      "saving the monthly anomalies for date 2004_01\n",
      "saving the monthly anomalies for date 2004_02\n",
      "saving the monthly anomalies for date 2004_03\n",
      "saving the monthly anomalies for date 2004_04\n",
      "saving the monthly anomalies for date 2004_05\n",
      "saving the monthly anomalies for date 2004_06\n",
      "saving the monthly anomalies for date 2004_07\n",
      "saving the monthly anomalies for date 2004_08\n",
      "saving the monthly anomalies for date 2004_09\n",
      "saving the monthly anomalies for date 2004_10\n",
      "saving the monthly anomalies for date 2004_11\n",
      "saving the monthly anomalies for date 2004_12\n",
      "saving the monthly anomalies for date 2005_01\n",
      "saving the monthly anomalies for date 2005_02\n",
      "saving the monthly anomalies for date 2005_03\n",
      "saving the monthly anomalies for date 2005_04\n",
      "saving the monthly anomalies for date 2005_05\n",
      "saving the monthly anomalies for date 2005_06\n",
      "saving the monthly anomalies for date 2005_07\n",
      "saving the monthly anomalies for date 2005_08\n",
      "saving the monthly anomalies for date 2005_09\n",
      "saving the monthly anomalies for date 2005_10\n",
      "saving the monthly anomalies for date 2005_11\n",
      "saving the monthly anomalies for date 2005_12\n",
      "saving the monthly anomalies for date 2006_01\n",
      "saving the monthly anomalies for date 2006_02\n",
      "saving the monthly anomalies for date 2006_03\n",
      "saving the monthly anomalies for date 2006_04\n",
      "saving the monthly anomalies for date 2006_05\n",
      "saving the monthly anomalies for date 2006_06\n",
      "saving the monthly anomalies for date 2006_07\n",
      "saving the monthly anomalies for date 2006_08\n",
      "saving the monthly anomalies for date 2006_09\n",
      "saving the monthly anomalies for date 2006_10\n",
      "saving the monthly anomalies for date 2006_11\n",
      "saving the monthly anomalies for date 2006_12\n",
      "saving the monthly anomalies for date 2007_01\n",
      "saving the monthly anomalies for date 2007_02\n",
      "saving the monthly anomalies for date 2007_03\n",
      "saving the monthly anomalies for date 2007_04\n",
      "saving the monthly anomalies for date 2007_05\n",
      "saving the monthly anomalies for date 2007_06\n",
      "saving the monthly anomalies for date 2007_07\n",
      "saving the monthly anomalies for date 2007_08\n",
      "saving the monthly anomalies for date 2007_09\n",
      "saving the monthly anomalies for date 2007_10\n",
      "saving the monthly anomalies for date 2007_11\n",
      "saving the monthly anomalies for date 2007_12\n",
      "saving the monthly anomalies for date 2008_01\n",
      "saving the monthly anomalies for date 2008_02\n",
      "saving the monthly anomalies for date 2008_03\n",
      "saving the monthly anomalies for date 2008_04\n",
      "saving the monthly anomalies for date 2008_05\n",
      "saving the monthly anomalies for date 2008_06\n",
      "saving the monthly anomalies for date 2008_07\n",
      "saving the monthly anomalies for date 2008_08\n",
      "saving the monthly anomalies for date 2008_09\n",
      "saving the monthly anomalies for date 2008_10\n",
      "saving the monthly anomalies for date 2008_11\n",
      "saving the monthly anomalies for date 2008_12\n",
      "saving the monthly anomalies for date 2009_01\n",
      "saving the monthly anomalies for date 2009_02\n",
      "saving the monthly anomalies for date 2009_03\n",
      "saving the monthly anomalies for date 2009_04\n",
      "saving the monthly anomalies for date 2009_05\n",
      "saving the monthly anomalies for date 2009_06\n",
      "saving the monthly anomalies for date 2009_07\n",
      "saving the monthly anomalies for date 2009_08\n",
      "saving the monthly anomalies for date 2009_09\n",
      "saving the monthly anomalies for date 2009_10\n",
      "saving the monthly anomalies for date 2009_11\n",
      "saving the monthly anomalies for date 2009_12\n",
      "saving the monthly anomalies for date 2010_01\n",
      "saving the monthly anomalies for date 2010_02\n",
      "saving the monthly anomalies for date 2010_03\n",
      "saving the monthly anomalies for date 2010_04\n",
      "saving the monthly anomalies for date 2010_05\n",
      "saving the monthly anomalies for date 2010_06\n",
      "saving the monthly anomalies for date 2010_07\n",
      "saving the monthly anomalies for date 2010_08\n",
      "saving the monthly anomalies for date 2010_09\n",
      "saving the monthly anomalies for date 2010_10\n",
      "saving the monthly anomalies for date 2010_11\n",
      "saving the monthly anomalies for date 2010_12\n",
      "saving the monthly anomalies for date 2011_01\n",
      "saving the monthly anomalies for date 2011_02\n",
      "saving the monthly anomalies for date 2011_03\n",
      "saving the monthly anomalies for date 2011_04\n",
      "saving the monthly anomalies for date 2011_05\n",
      "saving the monthly anomalies for date 2011_06\n",
      "saving the monthly anomalies for date 2011_07\n",
      "saving the monthly anomalies for date 2011_08\n",
      "saving the monthly anomalies for date 2011_09\n",
      "saving the monthly anomalies for date 2011_10\n",
      "saving the monthly anomalies for date 2011_11\n",
      "saving the monthly anomalies for date 2011_12\n",
      "saving the monthly anomalies for date 2012_01\n",
      "saving the monthly anomalies for date 2012_02\n",
      "saving the monthly anomalies for date 2012_03\n",
      "saving the monthly anomalies for date 2012_04\n",
      "saving the monthly anomalies for date 2012_05\n",
      "saving the monthly anomalies for date 2012_06\n",
      "saving the monthly anomalies for date 2012_07\n",
      "saving the monthly anomalies for date 2012_08\n",
      "saving the monthly anomalies for date 2012_09\n",
      "saving the monthly anomalies for date 2012_10\n",
      "saving the monthly anomalies for date 2012_11\n",
      "saving the monthly anomalies for date 2012_12\n",
      "saving the monthly anomalies for date 2013_01\n",
      "saving the monthly anomalies for date 2013_02\n",
      "saving the monthly anomalies for date 2013_03\n",
      "saving the monthly anomalies for date 2013_04\n",
      "saving the monthly anomalies for date 2013_05\n",
      "saving the monthly anomalies for date 2013_06\n",
      "saving the monthly anomalies for date 2013_07\n",
      "saving the monthly anomalies for date 2013_08\n",
      "saving the monthly anomalies for date 2013_09\n",
      "saving the monthly anomalies for date 2013_10\n",
      "saving the monthly anomalies for date 2013_11\n",
      "saving the monthly anomalies for date 2013_12\n",
      "saving the monthly anomalies for date 2014_01\n",
      "saving the monthly anomalies for date 2014_02\n",
      "saving the monthly anomalies for date 2014_03\n",
      "saving the monthly anomalies for date 2014_04\n",
      "saving the monthly anomalies for date 2014_05\n",
      "saving the monthly anomalies for date 2014_06\n",
      "saving the monthly anomalies for date 2014_07\n",
      "saving the monthly anomalies for date 2014_08\n",
      "saving the monthly anomalies for date 2014_09\n",
      "saving the monthly anomalies for date 2014_10\n",
      "saving the monthly anomalies for date 2014_11\n",
      "saving the monthly anomalies for date 2014_12\n",
      "saving the monthly anomalies for date 2015_01\n",
      "saving the monthly anomalies for date 2015_02\n",
      "saving the monthly anomalies for date 2015_03\n",
      "saving the monthly anomalies for date 2015_04\n",
      "saving the monthly anomalies for date 2015_05\n",
      "saving the monthly anomalies for date 2015_06\n",
      "saving the monthly anomalies for date 2015_07\n",
      "saving the monthly anomalies for date 2015_08\n",
      "saving the monthly anomalies for date 2015_09\n",
      "saving the monthly anomalies for date 2015_10\n",
      "saving the monthly anomalies for date 2015_11\n",
      "saving the monthly anomalies for date 2015_12\n",
      "saving the monthly anomalies for date 2016_01\n",
      "saving the monthly anomalies for date 2016_02\n",
      "saving the monthly anomalies for date 2016_03\n",
      "saving the monthly anomalies for date 2016_04\n",
      "saving the monthly anomalies for date 2016_05\n",
      "saving the monthly anomalies for date 2016_06\n",
      "saving the monthly anomalies for date 2016_07\n",
      "saving the monthly anomalies for date 2016_08\n",
      "saving the monthly anomalies for date 2016_09\n",
      "saving the monthly anomalies for date 2016_10\n",
      "saving the monthly anomalies for date 2016_11\n",
      "saving the monthly anomalies for date 2016_12\n"
     ]
    }
   ],
   "source": [
    "for date in pd.to_datetime(anoms_m.time.data): \n",
    "    print(f\"saving the monthly anomalies for date {date:%Y_%m}\") \n",
    "    sub_m = anoms_m.sel(time = date)\n",
    "    sub_m.to_netcdf(dpath_anoms / f\"ERA5_monthly_anomalies_{var_name}_{date:%Y_%m}.nc\")\n",
    "    sub_m.close() "
   ]
  },
  {
   "cell_type": "code",
   "execution_count": 42,
   "metadata": {},
   "outputs": [
    {
     "name": "stdout",
     "output_type": "stream",
     "text": [
      "saving the seasonal anomalies for date 1979_03\n",
      "saving the seasonal anomalies for date 1979_04\n",
      "saving the seasonal anomalies for date 1979_05\n",
      "saving the seasonal anomalies for date 1979_06\n",
      "saving the seasonal anomalies for date 1979_07\n",
      "saving the seasonal anomalies for date 1979_08\n",
      "saving the seasonal anomalies for date 1979_09\n",
      "saving the seasonal anomalies for date 1979_10\n",
      "saving the seasonal anomalies for date 1979_11\n",
      "saving the seasonal anomalies for date 1979_12\n",
      "saving the seasonal anomalies for date 1980_01\n",
      "saving the seasonal anomalies for date 1980_02\n",
      "saving the seasonal anomalies for date 1980_03\n",
      "saving the seasonal anomalies for date 1980_04\n",
      "saving the seasonal anomalies for date 1980_05\n",
      "saving the seasonal anomalies for date 1980_06\n",
      "saving the seasonal anomalies for date 1980_07\n",
      "saving the seasonal anomalies for date 1980_08\n",
      "saving the seasonal anomalies for date 1980_09\n",
      "saving the seasonal anomalies for date 1980_10\n",
      "saving the seasonal anomalies for date 1980_11\n",
      "saving the seasonal anomalies for date 1980_12\n",
      "saving the seasonal anomalies for date 1981_01\n",
      "saving the seasonal anomalies for date 1981_02\n",
      "saving the seasonal anomalies for date 1981_03\n",
      "saving the seasonal anomalies for date 1981_04\n",
      "saving the seasonal anomalies for date 1981_05\n",
      "saving the seasonal anomalies for date 1981_06\n",
      "saving the seasonal anomalies for date 1981_07\n",
      "saving the seasonal anomalies for date 1981_08\n",
      "saving the seasonal anomalies for date 1981_09\n",
      "saving the seasonal anomalies for date 1981_10\n",
      "saving the seasonal anomalies for date 1981_11\n",
      "saving the seasonal anomalies for date 1981_12\n",
      "saving the seasonal anomalies for date 1982_01\n",
      "saving the seasonal anomalies for date 1982_02\n",
      "saving the seasonal anomalies for date 1982_03\n",
      "saving the seasonal anomalies for date 1982_04\n",
      "saving the seasonal anomalies for date 1982_05\n",
      "saving the seasonal anomalies for date 1982_06\n",
      "saving the seasonal anomalies for date 1982_07\n",
      "saving the seasonal anomalies for date 1982_08\n",
      "saving the seasonal anomalies for date 1982_09\n",
      "saving the seasonal anomalies for date 1982_10\n",
      "saving the seasonal anomalies for date 1982_11\n",
      "saving the seasonal anomalies for date 1982_12\n",
      "saving the seasonal anomalies for date 1983_01\n",
      "saving the seasonal anomalies for date 1983_02\n",
      "saving the seasonal anomalies for date 1983_03\n",
      "saving the seasonal anomalies for date 1983_04\n",
      "saving the seasonal anomalies for date 1983_05\n",
      "saving the seasonal anomalies for date 1983_06\n",
      "saving the seasonal anomalies for date 1983_07\n",
      "saving the seasonal anomalies for date 1983_08\n",
      "saving the seasonal anomalies for date 1983_09\n",
      "saving the seasonal anomalies for date 1983_10\n",
      "saving the seasonal anomalies for date 1983_11\n",
      "saving the seasonal anomalies for date 1983_12\n",
      "saving the seasonal anomalies for date 1984_01\n",
      "saving the seasonal anomalies for date 1984_02\n",
      "saving the seasonal anomalies for date 1984_03\n",
      "saving the seasonal anomalies for date 1984_04\n",
      "saving the seasonal anomalies for date 1984_05\n",
      "saving the seasonal anomalies for date 1984_06\n",
      "saving the seasonal anomalies for date 1984_07\n",
      "saving the seasonal anomalies for date 1984_08\n",
      "saving the seasonal anomalies for date 1984_09\n",
      "saving the seasonal anomalies for date 1984_10\n",
      "saving the seasonal anomalies for date 1984_11\n",
      "saving the seasonal anomalies for date 1984_12\n",
      "saving the seasonal anomalies for date 1985_01\n",
      "saving the seasonal anomalies for date 1985_02\n",
      "saving the seasonal anomalies for date 1985_03\n",
      "saving the seasonal anomalies for date 1985_04\n",
      "saving the seasonal anomalies for date 1985_05\n",
      "saving the seasonal anomalies for date 1985_06\n",
      "saving the seasonal anomalies for date 1985_07\n",
      "saving the seasonal anomalies for date 1985_08\n",
      "saving the seasonal anomalies for date 1985_09\n",
      "saving the seasonal anomalies for date 1985_10\n",
      "saving the seasonal anomalies for date 1985_11\n",
      "saving the seasonal anomalies for date 1985_12\n",
      "saving the seasonal anomalies for date 1986_01\n",
      "saving the seasonal anomalies for date 1986_02\n",
      "saving the seasonal anomalies for date 1986_03\n",
      "saving the seasonal anomalies for date 1986_04\n",
      "saving the seasonal anomalies for date 1986_05\n",
      "saving the seasonal anomalies for date 1986_06\n",
      "saving the seasonal anomalies for date 1986_07\n",
      "saving the seasonal anomalies for date 1986_08\n",
      "saving the seasonal anomalies for date 1986_09\n",
      "saving the seasonal anomalies for date 1986_10\n",
      "saving the seasonal anomalies for date 1986_11\n",
      "saving the seasonal anomalies for date 1986_12\n",
      "saving the seasonal anomalies for date 1987_01\n",
      "saving the seasonal anomalies for date 1987_02\n",
      "saving the seasonal anomalies for date 1987_03\n",
      "saving the seasonal anomalies for date 1987_04\n",
      "saving the seasonal anomalies for date 1987_05\n",
      "saving the seasonal anomalies for date 1987_06\n",
      "saving the seasonal anomalies for date 1987_07\n",
      "saving the seasonal anomalies for date 1987_08\n",
      "saving the seasonal anomalies for date 1987_09\n",
      "saving the seasonal anomalies for date 1987_10\n",
      "saving the seasonal anomalies for date 1987_11\n",
      "saving the seasonal anomalies for date 1987_12\n",
      "saving the seasonal anomalies for date 1988_01\n",
      "saving the seasonal anomalies for date 1988_02\n",
      "saving the seasonal anomalies for date 1988_03\n",
      "saving the seasonal anomalies for date 1988_04\n",
      "saving the seasonal anomalies for date 1988_05\n",
      "saving the seasonal anomalies for date 1988_06\n",
      "saving the seasonal anomalies for date 1988_07\n",
      "saving the seasonal anomalies for date 1988_08\n",
      "saving the seasonal anomalies for date 1988_09\n",
      "saving the seasonal anomalies for date 1988_10\n",
      "saving the seasonal anomalies for date 1988_11\n",
      "saving the seasonal anomalies for date 1988_12\n",
      "saving the seasonal anomalies for date 1989_01\n",
      "saving the seasonal anomalies for date 1989_02\n",
      "saving the seasonal anomalies for date 1989_03\n",
      "saving the seasonal anomalies for date 1989_04\n",
      "saving the seasonal anomalies for date 1989_05\n",
      "saving the seasonal anomalies for date 1989_06\n",
      "saving the seasonal anomalies for date 1989_07\n",
      "saving the seasonal anomalies for date 1989_08\n",
      "saving the seasonal anomalies for date 1989_09\n",
      "saving the seasonal anomalies for date 1989_10\n",
      "saving the seasonal anomalies for date 1989_11\n",
      "saving the seasonal anomalies for date 1989_12\n",
      "saving the seasonal anomalies for date 1990_01\n",
      "saving the seasonal anomalies for date 1990_02\n",
      "saving the seasonal anomalies for date 1990_03\n",
      "saving the seasonal anomalies for date 1990_04\n",
      "saving the seasonal anomalies for date 1990_05\n",
      "saving the seasonal anomalies for date 1990_06\n",
      "saving the seasonal anomalies for date 1990_07\n",
      "saving the seasonal anomalies for date 1990_08\n",
      "saving the seasonal anomalies for date 1990_09\n",
      "saving the seasonal anomalies for date 1990_10\n",
      "saving the seasonal anomalies for date 1990_11\n",
      "saving the seasonal anomalies for date 1990_12\n",
      "saving the seasonal anomalies for date 1991_01\n",
      "saving the seasonal anomalies for date 1991_02\n",
      "saving the seasonal anomalies for date 1991_03\n",
      "saving the seasonal anomalies for date 1991_04\n",
      "saving the seasonal anomalies for date 1991_05\n",
      "saving the seasonal anomalies for date 1991_06\n",
      "saving the seasonal anomalies for date 1991_07\n",
      "saving the seasonal anomalies for date 1991_08\n",
      "saving the seasonal anomalies for date 1991_09\n",
      "saving the seasonal anomalies for date 1991_10\n",
      "saving the seasonal anomalies for date 1991_11\n",
      "saving the seasonal anomalies for date 1991_12\n",
      "saving the seasonal anomalies for date 1992_01\n",
      "saving the seasonal anomalies for date 1992_02\n",
      "saving the seasonal anomalies for date 1992_03\n",
      "saving the seasonal anomalies for date 1992_04\n",
      "saving the seasonal anomalies for date 1992_05\n",
      "saving the seasonal anomalies for date 1992_06\n",
      "saving the seasonal anomalies for date 1992_07\n",
      "saving the seasonal anomalies for date 1992_08\n",
      "saving the seasonal anomalies for date 1992_09\n",
      "saving the seasonal anomalies for date 1992_10\n",
      "saving the seasonal anomalies for date 1992_11\n",
      "saving the seasonal anomalies for date 1992_12\n",
      "saving the seasonal anomalies for date 1993_01\n",
      "saving the seasonal anomalies for date 1993_02\n",
      "saving the seasonal anomalies for date 1993_03\n",
      "saving the seasonal anomalies for date 1993_04\n",
      "saving the seasonal anomalies for date 1993_05\n",
      "saving the seasonal anomalies for date 1993_06\n",
      "saving the seasonal anomalies for date 1993_07\n",
      "saving the seasonal anomalies for date 1993_08\n",
      "saving the seasonal anomalies for date 1993_09\n",
      "saving the seasonal anomalies for date 1993_10\n",
      "saving the seasonal anomalies for date 1993_11\n",
      "saving the seasonal anomalies for date 1993_12\n",
      "saving the seasonal anomalies for date 1994_01\n",
      "saving the seasonal anomalies for date 1994_02\n",
      "saving the seasonal anomalies for date 1994_03\n",
      "saving the seasonal anomalies for date 1994_04\n",
      "saving the seasonal anomalies for date 1994_05\n",
      "saving the seasonal anomalies for date 1994_06\n",
      "saving the seasonal anomalies for date 1994_07\n",
      "saving the seasonal anomalies for date 1994_08\n",
      "saving the seasonal anomalies for date 1994_09\n",
      "saving the seasonal anomalies for date 1994_10\n",
      "saving the seasonal anomalies for date 1994_11\n",
      "saving the seasonal anomalies for date 1994_12\n",
      "saving the seasonal anomalies for date 1995_01\n",
      "saving the seasonal anomalies for date 1995_02\n",
      "saving the seasonal anomalies for date 1995_03\n",
      "saving the seasonal anomalies for date 1995_04\n",
      "saving the seasonal anomalies for date 1995_05\n",
      "saving the seasonal anomalies for date 1995_06\n",
      "saving the seasonal anomalies for date 1995_07\n",
      "saving the seasonal anomalies for date 1995_08\n",
      "saving the seasonal anomalies for date 1995_09\n",
      "saving the seasonal anomalies for date 1995_10\n",
      "saving the seasonal anomalies for date 1995_11\n",
      "saving the seasonal anomalies for date 1995_12\n",
      "saving the seasonal anomalies for date 1996_01\n",
      "saving the seasonal anomalies for date 1996_02\n",
      "saving the seasonal anomalies for date 1996_03\n",
      "saving the seasonal anomalies for date 1996_04\n",
      "saving the seasonal anomalies for date 1996_05\n",
      "saving the seasonal anomalies for date 1996_06\n",
      "saving the seasonal anomalies for date 1996_07\n",
      "saving the seasonal anomalies for date 1996_08\n",
      "saving the seasonal anomalies for date 1996_09\n",
      "saving the seasonal anomalies for date 1996_10\n",
      "saving the seasonal anomalies for date 1996_11\n",
      "saving the seasonal anomalies for date 1996_12\n",
      "saving the seasonal anomalies for date 1997_01\n",
      "saving the seasonal anomalies for date 1997_02\n",
      "saving the seasonal anomalies for date 1997_03\n",
      "saving the seasonal anomalies for date 1997_04\n",
      "saving the seasonal anomalies for date 1997_05\n",
      "saving the seasonal anomalies for date 1997_06\n",
      "saving the seasonal anomalies for date 1997_07\n",
      "saving the seasonal anomalies for date 1997_08\n",
      "saving the seasonal anomalies for date 1997_09\n",
      "saving the seasonal anomalies for date 1997_10\n",
      "saving the seasonal anomalies for date 1997_11\n",
      "saving the seasonal anomalies for date 1997_12\n",
      "saving the seasonal anomalies for date 1998_01\n",
      "saving the seasonal anomalies for date 1998_02\n",
      "saving the seasonal anomalies for date 1998_03\n",
      "saving the seasonal anomalies for date 1998_04\n",
      "saving the seasonal anomalies for date 1998_05\n",
      "saving the seasonal anomalies for date 1998_06\n",
      "saving the seasonal anomalies for date 1998_07\n",
      "saving the seasonal anomalies for date 1998_08\n",
      "saving the seasonal anomalies for date 1998_09\n",
      "saving the seasonal anomalies for date 1998_10\n",
      "saving the seasonal anomalies for date 1998_11\n",
      "saving the seasonal anomalies for date 1998_12\n",
      "saving the seasonal anomalies for date 1999_01\n",
      "saving the seasonal anomalies for date 1999_02\n",
      "saving the seasonal anomalies for date 1999_03\n",
      "saving the seasonal anomalies for date 1999_04\n",
      "saving the seasonal anomalies for date 1999_05\n",
      "saving the seasonal anomalies for date 1999_06\n",
      "saving the seasonal anomalies for date 1999_07\n",
      "saving the seasonal anomalies for date 1999_08\n",
      "saving the seasonal anomalies for date 1999_09\n",
      "saving the seasonal anomalies for date 1999_10\n",
      "saving the seasonal anomalies for date 1999_11\n",
      "saving the seasonal anomalies for date 1999_12\n",
      "saving the seasonal anomalies for date 2000_01\n",
      "saving the seasonal anomalies for date 2000_02\n",
      "saving the seasonal anomalies for date 2000_03\n",
      "saving the seasonal anomalies for date 2000_04\n",
      "saving the seasonal anomalies for date 2000_05\n",
      "saving the seasonal anomalies for date 2000_06\n",
      "saving the seasonal anomalies for date 2000_07\n",
      "saving the seasonal anomalies for date 2000_08\n",
      "saving the seasonal anomalies for date 2000_09\n",
      "saving the seasonal anomalies for date 2000_10\n",
      "saving the seasonal anomalies for date 2000_11\n",
      "saving the seasonal anomalies for date 2000_12\n",
      "saving the seasonal anomalies for date 2001_01\n",
      "saving the seasonal anomalies for date 2001_02\n",
      "saving the seasonal anomalies for date 2001_03\n",
      "saving the seasonal anomalies for date 2001_04\n",
      "saving the seasonal anomalies for date 2001_05\n",
      "saving the seasonal anomalies for date 2001_06\n",
      "saving the seasonal anomalies for date 2001_07\n",
      "saving the seasonal anomalies for date 2001_08\n",
      "saving the seasonal anomalies for date 2001_09\n",
      "saving the seasonal anomalies for date 2001_10\n",
      "saving the seasonal anomalies for date 2001_11\n",
      "saving the seasonal anomalies for date 2001_12\n",
      "saving the seasonal anomalies for date 2002_01\n",
      "saving the seasonal anomalies for date 2002_02\n",
      "saving the seasonal anomalies for date 2002_03\n",
      "saving the seasonal anomalies for date 2002_04\n",
      "saving the seasonal anomalies for date 2002_05\n",
      "saving the seasonal anomalies for date 2002_06\n",
      "saving the seasonal anomalies for date 2002_07\n",
      "saving the seasonal anomalies for date 2002_08\n",
      "saving the seasonal anomalies for date 2002_09\n",
      "saving the seasonal anomalies for date 2002_10\n",
      "saving the seasonal anomalies for date 2002_11\n",
      "saving the seasonal anomalies for date 2002_12\n",
      "saving the seasonal anomalies for date 2003_01\n",
      "saving the seasonal anomalies for date 2003_02\n",
      "saving the seasonal anomalies for date 2003_03\n",
      "saving the seasonal anomalies for date 2003_04\n",
      "saving the seasonal anomalies for date 2003_05\n",
      "saving the seasonal anomalies for date 2003_06\n",
      "saving the seasonal anomalies for date 2003_07\n",
      "saving the seasonal anomalies for date 2003_08\n",
      "saving the seasonal anomalies for date 2003_09\n",
      "saving the seasonal anomalies for date 2003_10\n",
      "saving the seasonal anomalies for date 2003_11\n",
      "saving the seasonal anomalies for date 2003_12\n",
      "saving the seasonal anomalies for date 2004_01\n",
      "saving the seasonal anomalies for date 2004_02\n",
      "saving the seasonal anomalies for date 2004_03\n",
      "saving the seasonal anomalies for date 2004_04\n",
      "saving the seasonal anomalies for date 2004_05\n",
      "saving the seasonal anomalies for date 2004_06\n",
      "saving the seasonal anomalies for date 2004_07\n",
      "saving the seasonal anomalies for date 2004_08\n",
      "saving the seasonal anomalies for date 2004_09\n",
      "saving the seasonal anomalies for date 2004_10\n",
      "saving the seasonal anomalies for date 2004_11\n",
      "saving the seasonal anomalies for date 2004_12\n",
      "saving the seasonal anomalies for date 2005_01\n",
      "saving the seasonal anomalies for date 2005_02\n",
      "saving the seasonal anomalies for date 2005_03\n",
      "saving the seasonal anomalies for date 2005_04\n",
      "saving the seasonal anomalies for date 2005_05\n",
      "saving the seasonal anomalies for date 2005_06\n",
      "saving the seasonal anomalies for date 2005_07\n",
      "saving the seasonal anomalies for date 2005_08\n",
      "saving the seasonal anomalies for date 2005_09\n",
      "saving the seasonal anomalies for date 2005_10\n",
      "saving the seasonal anomalies for date 2005_11\n",
      "saving the seasonal anomalies for date 2005_12\n",
      "saving the seasonal anomalies for date 2006_01\n",
      "saving the seasonal anomalies for date 2006_02\n",
      "saving the seasonal anomalies for date 2006_03\n",
      "saving the seasonal anomalies for date 2006_04\n",
      "saving the seasonal anomalies for date 2006_05\n",
      "saving the seasonal anomalies for date 2006_06\n",
      "saving the seasonal anomalies for date 2006_07\n",
      "saving the seasonal anomalies for date 2006_08\n",
      "saving the seasonal anomalies for date 2006_09\n",
      "saving the seasonal anomalies for date 2006_10\n",
      "saving the seasonal anomalies for date 2006_11\n",
      "saving the seasonal anomalies for date 2006_12\n",
      "saving the seasonal anomalies for date 2007_01\n",
      "saving the seasonal anomalies for date 2007_02\n",
      "saving the seasonal anomalies for date 2007_03\n",
      "saving the seasonal anomalies for date 2007_04\n",
      "saving the seasonal anomalies for date 2007_05\n",
      "saving the seasonal anomalies for date 2007_06\n",
      "saving the seasonal anomalies for date 2007_07\n",
      "saving the seasonal anomalies for date 2007_08\n",
      "saving the seasonal anomalies for date 2007_09\n",
      "saving the seasonal anomalies for date 2007_10\n",
      "saving the seasonal anomalies for date 2007_11\n",
      "saving the seasonal anomalies for date 2007_12\n",
      "saving the seasonal anomalies for date 2008_01\n",
      "saving the seasonal anomalies for date 2008_02\n",
      "saving the seasonal anomalies for date 2008_03\n",
      "saving the seasonal anomalies for date 2008_04\n",
      "saving the seasonal anomalies for date 2008_05\n",
      "saving the seasonal anomalies for date 2008_06\n",
      "saving the seasonal anomalies for date 2008_07\n",
      "saving the seasonal anomalies for date 2008_08\n",
      "saving the seasonal anomalies for date 2008_09\n",
      "saving the seasonal anomalies for date 2008_10\n",
      "saving the seasonal anomalies for date 2008_11\n",
      "saving the seasonal anomalies for date 2008_12\n",
      "saving the seasonal anomalies for date 2009_01\n",
      "saving the seasonal anomalies for date 2009_02\n",
      "saving the seasonal anomalies for date 2009_03\n",
      "saving the seasonal anomalies for date 2009_04\n",
      "saving the seasonal anomalies for date 2009_05\n",
      "saving the seasonal anomalies for date 2009_06\n",
      "saving the seasonal anomalies for date 2009_07\n",
      "saving the seasonal anomalies for date 2009_08\n",
      "saving the seasonal anomalies for date 2009_09\n",
      "saving the seasonal anomalies for date 2009_10\n",
      "saving the seasonal anomalies for date 2009_11\n",
      "saving the seasonal anomalies for date 2009_12\n",
      "saving the seasonal anomalies for date 2010_01\n",
      "saving the seasonal anomalies for date 2010_02\n",
      "saving the seasonal anomalies for date 2010_03\n",
      "saving the seasonal anomalies for date 2010_04\n",
      "saving the seasonal anomalies for date 2010_05\n",
      "saving the seasonal anomalies for date 2010_06\n",
      "saving the seasonal anomalies for date 2010_07\n",
      "saving the seasonal anomalies for date 2010_08\n",
      "saving the seasonal anomalies for date 2010_09\n",
      "saving the seasonal anomalies for date 2010_10\n",
      "saving the seasonal anomalies for date 2010_11\n",
      "saving the seasonal anomalies for date 2010_12\n",
      "saving the seasonal anomalies for date 2011_01\n",
      "saving the seasonal anomalies for date 2011_02\n",
      "saving the seasonal anomalies for date 2011_03\n",
      "saving the seasonal anomalies for date 2011_04\n",
      "saving the seasonal anomalies for date 2011_05\n",
      "saving the seasonal anomalies for date 2011_06\n",
      "saving the seasonal anomalies for date 2011_07\n",
      "saving the seasonal anomalies for date 2011_08\n",
      "saving the seasonal anomalies for date 2011_09\n",
      "saving the seasonal anomalies for date 2011_10\n",
      "saving the seasonal anomalies for date 2011_11\n",
      "saving the seasonal anomalies for date 2011_12\n",
      "saving the seasonal anomalies for date 2012_01\n",
      "saving the seasonal anomalies for date 2012_02\n",
      "saving the seasonal anomalies for date 2012_03\n",
      "saving the seasonal anomalies for date 2012_04\n",
      "saving the seasonal anomalies for date 2012_05\n",
      "saving the seasonal anomalies for date 2012_06\n",
      "saving the seasonal anomalies for date 2012_07\n",
      "saving the seasonal anomalies for date 2012_08\n",
      "saving the seasonal anomalies for date 2012_09\n",
      "saving the seasonal anomalies for date 2012_10\n",
      "saving the seasonal anomalies for date 2012_11\n",
      "saving the seasonal anomalies for date 2012_12\n",
      "saving the seasonal anomalies for date 2013_01\n",
      "saving the seasonal anomalies for date 2013_02\n",
      "saving the seasonal anomalies for date 2013_03\n",
      "saving the seasonal anomalies for date 2013_04\n",
      "saving the seasonal anomalies for date 2013_05\n",
      "saving the seasonal anomalies for date 2013_06\n",
      "saving the seasonal anomalies for date 2013_07\n",
      "saving the seasonal anomalies for date 2013_08\n",
      "saving the seasonal anomalies for date 2013_09\n",
      "saving the seasonal anomalies for date 2013_10\n",
      "saving the seasonal anomalies for date 2013_11\n",
      "saving the seasonal anomalies for date 2013_12\n",
      "saving the seasonal anomalies for date 2014_01\n",
      "saving the seasonal anomalies for date 2014_02\n",
      "saving the seasonal anomalies for date 2014_03\n",
      "saving the seasonal anomalies for date 2014_04\n",
      "saving the seasonal anomalies for date 2014_05\n",
      "saving the seasonal anomalies for date 2014_06\n",
      "saving the seasonal anomalies for date 2014_07\n",
      "saving the seasonal anomalies for date 2014_08\n",
      "saving the seasonal anomalies for date 2014_09\n",
      "saving the seasonal anomalies for date 2014_10\n",
      "saving the seasonal anomalies for date 2014_11\n",
      "saving the seasonal anomalies for date 2014_12\n",
      "saving the seasonal anomalies for date 2015_01\n",
      "saving the seasonal anomalies for date 2015_02\n",
      "saving the seasonal anomalies for date 2015_03\n",
      "saving the seasonal anomalies for date 2015_04\n",
      "saving the seasonal anomalies for date 2015_05\n",
      "saving the seasonal anomalies for date 2015_06\n",
      "saving the seasonal anomalies for date 2015_07\n",
      "saving the seasonal anomalies for date 2015_08\n",
      "saving the seasonal anomalies for date 2015_09\n",
      "saving the seasonal anomalies for date 2015_10\n",
      "saving the seasonal anomalies for date 2015_11\n",
      "saving the seasonal anomalies for date 2015_12\n",
      "saving the seasonal anomalies for date 2016_01\n",
      "saving the seasonal anomalies for date 2016_02\n",
      "saving the seasonal anomalies for date 2016_03\n",
      "saving the seasonal anomalies for date 2016_04\n",
      "saving the seasonal anomalies for date 2016_05\n",
      "saving the seasonal anomalies for date 2016_06\n",
      "saving the seasonal anomalies for date 2016_07\n",
      "saving the seasonal anomalies for date 2016_08\n",
      "saving the seasonal anomalies for date 2016_09\n",
      "saving the seasonal anomalies for date 2016_10\n",
      "saving the seasonal anomalies for date 2016_11\n",
      "saving the seasonal anomalies for date 2016_12\n"
     ]
    }
   ],
   "source": [
    "for date in pd.to_datetime(anoms_s.time.data): \n",
    "    print(f\"saving the seasonal anomalies for date {date:%Y_%m}\") \n",
    "    sub_s = anoms_s.sel(time = date)\n",
    "    sub_s.to_netcdf(dpath_anoms / f\"ERA5_seasonal_anomalies_{var_name}_{date:%Y_%m}.nc\")\n",
    "    sub_s.close() "
   ]
  },
  {
   "cell_type": "code",
   "execution_count": null,
   "metadata": {},
   "outputs": [],
   "source": []
  }
 ],
 "metadata": {
  "kernelspec": {
   "display_name": "Python 3",
   "language": "python",
   "name": "python3"
  },
  "language_info": {
   "codemirror_mode": {
    "name": "ipython",
    "version": 3
   },
   "file_extension": ".py",
   "mimetype": "text/x-python",
   "name": "python",
   "nbconvert_exporter": "python",
   "pygments_lexer": "ipython3",
   "version": "3.7.5"
  }
 },
 "nbformat": 4,
 "nbformat_minor": 4
}
