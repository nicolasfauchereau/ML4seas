{
 "cells": [
  {
   "cell_type": "markdown",
   "metadata": {},
   "source": [
    "### fixes the missing seasonal averaged anomalies of CMCC "
   ]
  },
  {
   "cell_type": "code",
   "execution_count": 1,
   "metadata": {},
   "outputs": [],
   "source": [
    "%matplotlib inline"
   ]
  },
  {
   "cell_type": "code",
   "execution_count": 2,
   "metadata": {},
   "outputs": [],
   "source": [
    "import os\n",
    "import sys\n",
    "import pathlib"
   ]
  },
  {
   "cell_type": "code",
   "execution_count": 3,
   "metadata": {},
   "outputs": [],
   "source": [
    "import numpy as np\n",
    "import pandas as pd \n",
    "import xarray as xr"
   ]
  },
  {
   "cell_type": "markdown",
   "metadata": {},
   "source": [
    "### input path "
   ]
  },
  {
   "cell_type": "code",
   "execution_count": 4,
   "metadata": {},
   "outputs": [],
   "source": [
    "dpath = pathlib.Path('/home/nicolasf/drives/ham_projects/END19101/Working/data/GCMs/processed/hindcasts/CDS/CMCC/T2M')"
   ]
  },
  {
   "cell_type": "markdown",
   "metadata": {},
   "source": [
    "### output path "
   ]
  },
  {
   "cell_type": "code",
   "execution_count": 5,
   "metadata": {},
   "outputs": [],
   "source": [
    "opath = pathlib.Path('/home/nicolasf/research/Smart_Ideas/data/GCMs/processed/hindcasts/CDS/CMCC/T2M') "
   ]
  },
  {
   "cell_type": "code",
   "execution_count": 6,
   "metadata": {},
   "outputs": [],
   "source": [
    "if not opath.exists(): \n",
    "    opath.mkdir(parents=True)"
   ]
  },
  {
   "cell_type": "markdown",
   "metadata": {},
   "source": [
    "### read the monthly anomalies "
   ]
  },
  {
   "cell_type": "code",
   "execution_count": 7,
   "metadata": {},
   "outputs": [],
   "source": [
    "lfiles = list(dpath.glob(\"CMCC_T2M_monthly_anomalies_interp_????_??.nc\")) "
   ]
  },
  {
   "cell_type": "code",
   "execution_count": 8,
   "metadata": {},
   "outputs": [],
   "source": [
    "lfiles.sort()"
   ]
  },
  {
   "cell_type": "code",
   "execution_count": 9,
   "metadata": {},
   "outputs": [
    {
     "data": {
      "text/plain": [
       "PosixPath('/home/nicolasf/drives/ham_projects/END19101/Working/data/GCMs/processed/hindcasts/CDS/CMCC/T2M/CMCC_T2M_monthly_anomalies_interp_1993_01.nc')"
      ]
     },
     "execution_count": 9,
     "metadata": {},
     "output_type": "execute_result"
    }
   ],
   "source": [
    "lfiles[0]"
   ]
  },
  {
   "cell_type": "code",
   "execution_count": 10,
   "metadata": {},
   "outputs": [
    {
     "data": {
      "text/plain": [
       "PosixPath('/home/nicolasf/drives/ham_projects/END19101/Working/data/GCMs/processed/hindcasts/CDS/CMCC/T2M/CMCC_T2M_monthly_anomalies_interp_2016_12.nc')"
      ]
     },
     "execution_count": 10,
     "metadata": {},
     "output_type": "execute_result"
    }
   ],
   "source": [
    "lfiles[-1]"
   ]
  },
  {
   "cell_type": "code",
   "execution_count": 11,
   "metadata": {},
   "outputs": [
    {
     "data": {
      "text/plain": [
       "288"
      ]
     },
     "execution_count": 11,
     "metadata": {},
     "output_type": "execute_result"
    }
   ],
   "source": [
    "len(lfiles)"
   ]
  },
  {
   "cell_type": "code",
   "execution_count": 12,
   "metadata": {},
   "outputs": [
    {
     "data": {
      "text/plain": [
       "288"
      ]
     },
     "execution_count": 12,
     "metadata": {},
     "output_type": "execute_result"
    }
   ],
   "source": [
    "len(pd.date_range(start='1993-01-01', end='2016-12-01', freq='MS'))"
   ]
  },
  {
   "cell_type": "code",
   "execution_count": 13,
   "metadata": {},
   "outputs": [
    {
     "name": "stdout",
     "output_type": "stream",
     "text": [
      "trying to save /home/nicolasf/drives/ham_projects/END19101/Working/data/GCMs/processed/hindcasts/CDS/CMCC/T2M/CMCC_T2M_seasonal_anomalies_interp_1993_01.nc\n",
      "trying to save /home/nicolasf/drives/ham_projects/END19101/Working/data/GCMs/processed/hindcasts/CDS/CMCC/T2M/CMCC_T2M_seasonal_anomalies_interp_1993_02.nc\n",
      "trying to save /home/nicolasf/drives/ham_projects/END19101/Working/data/GCMs/processed/hindcasts/CDS/CMCC/T2M/CMCC_T2M_seasonal_anomalies_interp_1993_03.nc\n",
      "trying to save /home/nicolasf/drives/ham_projects/END19101/Working/data/GCMs/processed/hindcasts/CDS/CMCC/T2M/CMCC_T2M_seasonal_anomalies_interp_1993_04.nc\n",
      "trying to save /home/nicolasf/drives/ham_projects/END19101/Working/data/GCMs/processed/hindcasts/CDS/CMCC/T2M/CMCC_T2M_seasonal_anomalies_interp_1993_05.nc\n",
      "trying to save /home/nicolasf/drives/ham_projects/END19101/Working/data/GCMs/processed/hindcasts/CDS/CMCC/T2M/CMCC_T2M_seasonal_anomalies_interp_1993_06.nc\n",
      "trying to save /home/nicolasf/drives/ham_projects/END19101/Working/data/GCMs/processed/hindcasts/CDS/CMCC/T2M/CMCC_T2M_seasonal_anomalies_interp_1993_07.nc\n",
      "trying to save /home/nicolasf/drives/ham_projects/END19101/Working/data/GCMs/processed/hindcasts/CDS/CMCC/T2M/CMCC_T2M_seasonal_anomalies_interp_1993_08.nc\n",
      "trying to save /home/nicolasf/drives/ham_projects/END19101/Working/data/GCMs/processed/hindcasts/CDS/CMCC/T2M/CMCC_T2M_seasonal_anomalies_interp_1993_09.nc\n",
      "trying to save /home/nicolasf/drives/ham_projects/END19101/Working/data/GCMs/processed/hindcasts/CDS/CMCC/T2M/CMCC_T2M_seasonal_anomalies_interp_1993_10.nc\n",
      "trying to save /home/nicolasf/drives/ham_projects/END19101/Working/data/GCMs/processed/hindcasts/CDS/CMCC/T2M/CMCC_T2M_seasonal_anomalies_interp_1993_11.nc\n",
      "trying to save /home/nicolasf/drives/ham_projects/END19101/Working/data/GCMs/processed/hindcasts/CDS/CMCC/T2M/CMCC_T2M_seasonal_anomalies_interp_1993_12.nc\n",
      "trying to save /home/nicolasf/drives/ham_projects/END19101/Working/data/GCMs/processed/hindcasts/CDS/CMCC/T2M/CMCC_T2M_seasonal_anomalies_interp_1994_01.nc\n",
      "trying to save /home/nicolasf/drives/ham_projects/END19101/Working/data/GCMs/processed/hindcasts/CDS/CMCC/T2M/CMCC_T2M_seasonal_anomalies_interp_1994_02.nc\n",
      "trying to save /home/nicolasf/drives/ham_projects/END19101/Working/data/GCMs/processed/hindcasts/CDS/CMCC/T2M/CMCC_T2M_seasonal_anomalies_interp_1994_03.nc\n",
      "trying to save /home/nicolasf/drives/ham_projects/END19101/Working/data/GCMs/processed/hindcasts/CDS/CMCC/T2M/CMCC_T2M_seasonal_anomalies_interp_1994_04.nc\n",
      "trying to save /home/nicolasf/drives/ham_projects/END19101/Working/data/GCMs/processed/hindcasts/CDS/CMCC/T2M/CMCC_T2M_seasonal_anomalies_interp_1994_05.nc\n",
      "trying to save /home/nicolasf/drives/ham_projects/END19101/Working/data/GCMs/processed/hindcasts/CDS/CMCC/T2M/CMCC_T2M_seasonal_anomalies_interp_1994_06.nc\n",
      "trying to save /home/nicolasf/drives/ham_projects/END19101/Working/data/GCMs/processed/hindcasts/CDS/CMCC/T2M/CMCC_T2M_seasonal_anomalies_interp_1994_07.nc\n",
      "trying to save /home/nicolasf/drives/ham_projects/END19101/Working/data/GCMs/processed/hindcasts/CDS/CMCC/T2M/CMCC_T2M_seasonal_anomalies_interp_1994_08.nc\n",
      "trying to save /home/nicolasf/drives/ham_projects/END19101/Working/data/GCMs/processed/hindcasts/CDS/CMCC/T2M/CMCC_T2M_seasonal_anomalies_interp_1994_09.nc\n",
      "trying to save /home/nicolasf/drives/ham_projects/END19101/Working/data/GCMs/processed/hindcasts/CDS/CMCC/T2M/CMCC_T2M_seasonal_anomalies_interp_1994_10.nc\n",
      "trying to save /home/nicolasf/drives/ham_projects/END19101/Working/data/GCMs/processed/hindcasts/CDS/CMCC/T2M/CMCC_T2M_seasonal_anomalies_interp_1994_11.nc\n",
      "trying to save /home/nicolasf/drives/ham_projects/END19101/Working/data/GCMs/processed/hindcasts/CDS/CMCC/T2M/CMCC_T2M_seasonal_anomalies_interp_1994_12.nc\n",
      "trying to save /home/nicolasf/drives/ham_projects/END19101/Working/data/GCMs/processed/hindcasts/CDS/CMCC/T2M/CMCC_T2M_seasonal_anomalies_interp_1995_01.nc\n",
      "trying to save /home/nicolasf/drives/ham_projects/END19101/Working/data/GCMs/processed/hindcasts/CDS/CMCC/T2M/CMCC_T2M_seasonal_anomalies_interp_1995_02.nc\n",
      "trying to save /home/nicolasf/drives/ham_projects/END19101/Working/data/GCMs/processed/hindcasts/CDS/CMCC/T2M/CMCC_T2M_seasonal_anomalies_interp_1995_03.nc\n",
      "trying to save /home/nicolasf/drives/ham_projects/END19101/Working/data/GCMs/processed/hindcasts/CDS/CMCC/T2M/CMCC_T2M_seasonal_anomalies_interp_1995_04.nc\n",
      "trying to save /home/nicolasf/drives/ham_projects/END19101/Working/data/GCMs/processed/hindcasts/CDS/CMCC/T2M/CMCC_T2M_seasonal_anomalies_interp_1995_05.nc\n",
      "trying to save /home/nicolasf/drives/ham_projects/END19101/Working/data/GCMs/processed/hindcasts/CDS/CMCC/T2M/CMCC_T2M_seasonal_anomalies_interp_1995_06.nc\n",
      "trying to save /home/nicolasf/drives/ham_projects/END19101/Working/data/GCMs/processed/hindcasts/CDS/CMCC/T2M/CMCC_T2M_seasonal_anomalies_interp_1995_07.nc\n",
      "trying to save /home/nicolasf/drives/ham_projects/END19101/Working/data/GCMs/processed/hindcasts/CDS/CMCC/T2M/CMCC_T2M_seasonal_anomalies_interp_1995_08.nc\n",
      "trying to save /home/nicolasf/drives/ham_projects/END19101/Working/data/GCMs/processed/hindcasts/CDS/CMCC/T2M/CMCC_T2M_seasonal_anomalies_interp_1995_09.nc\n",
      "trying to save /home/nicolasf/drives/ham_projects/END19101/Working/data/GCMs/processed/hindcasts/CDS/CMCC/T2M/CMCC_T2M_seasonal_anomalies_interp_1995_10.nc\n",
      "trying to save /home/nicolasf/drives/ham_projects/END19101/Working/data/GCMs/processed/hindcasts/CDS/CMCC/T2M/CMCC_T2M_seasonal_anomalies_interp_1995_11.nc\n",
      "trying to save /home/nicolasf/drives/ham_projects/END19101/Working/data/GCMs/processed/hindcasts/CDS/CMCC/T2M/CMCC_T2M_seasonal_anomalies_interp_1995_12.nc\n",
      "trying to save /home/nicolasf/drives/ham_projects/END19101/Working/data/GCMs/processed/hindcasts/CDS/CMCC/T2M/CMCC_T2M_seasonal_anomalies_interp_1996_01.nc\n",
      "trying to save /home/nicolasf/drives/ham_projects/END19101/Working/data/GCMs/processed/hindcasts/CDS/CMCC/T2M/CMCC_T2M_seasonal_anomalies_interp_1996_02.nc\n",
      "trying to save /home/nicolasf/drives/ham_projects/END19101/Working/data/GCMs/processed/hindcasts/CDS/CMCC/T2M/CMCC_T2M_seasonal_anomalies_interp_1996_03.nc\n",
      "trying to save /home/nicolasf/drives/ham_projects/END19101/Working/data/GCMs/processed/hindcasts/CDS/CMCC/T2M/CMCC_T2M_seasonal_anomalies_interp_1996_04.nc\n",
      "trying to save /home/nicolasf/drives/ham_projects/END19101/Working/data/GCMs/processed/hindcasts/CDS/CMCC/T2M/CMCC_T2M_seasonal_anomalies_interp_1996_05.nc\n",
      "trying to save /home/nicolasf/drives/ham_projects/END19101/Working/data/GCMs/processed/hindcasts/CDS/CMCC/T2M/CMCC_T2M_seasonal_anomalies_interp_1996_06.nc\n",
      "trying to save /home/nicolasf/drives/ham_projects/END19101/Working/data/GCMs/processed/hindcasts/CDS/CMCC/T2M/CMCC_T2M_seasonal_anomalies_interp_1996_07.nc\n",
      "trying to save /home/nicolasf/drives/ham_projects/END19101/Working/data/GCMs/processed/hindcasts/CDS/CMCC/T2M/CMCC_T2M_seasonal_anomalies_interp_1996_08.nc\n",
      "trying to save /home/nicolasf/drives/ham_projects/END19101/Working/data/GCMs/processed/hindcasts/CDS/CMCC/T2M/CMCC_T2M_seasonal_anomalies_interp_1996_09.nc\n",
      "trying to save /home/nicolasf/drives/ham_projects/END19101/Working/data/GCMs/processed/hindcasts/CDS/CMCC/T2M/CMCC_T2M_seasonal_anomalies_interp_1996_10.nc\n",
      "trying to save /home/nicolasf/drives/ham_projects/END19101/Working/data/GCMs/processed/hindcasts/CDS/CMCC/T2M/CMCC_T2M_seasonal_anomalies_interp_1996_11.nc\n",
      "trying to save /home/nicolasf/drives/ham_projects/END19101/Working/data/GCMs/processed/hindcasts/CDS/CMCC/T2M/CMCC_T2M_seasonal_anomalies_interp_1996_12.nc\n",
      "trying to save /home/nicolasf/drives/ham_projects/END19101/Working/data/GCMs/processed/hindcasts/CDS/CMCC/T2M/CMCC_T2M_seasonal_anomalies_interp_1997_01.nc\n",
      "trying to save /home/nicolasf/drives/ham_projects/END19101/Working/data/GCMs/processed/hindcasts/CDS/CMCC/T2M/CMCC_T2M_seasonal_anomalies_interp_1997_02.nc\n",
      "trying to save /home/nicolasf/drives/ham_projects/END19101/Working/data/GCMs/processed/hindcasts/CDS/CMCC/T2M/CMCC_T2M_seasonal_anomalies_interp_1997_03.nc\n",
      "trying to save /home/nicolasf/drives/ham_projects/END19101/Working/data/GCMs/processed/hindcasts/CDS/CMCC/T2M/CMCC_T2M_seasonal_anomalies_interp_1997_04.nc\n",
      "trying to save /home/nicolasf/drives/ham_projects/END19101/Working/data/GCMs/processed/hindcasts/CDS/CMCC/T2M/CMCC_T2M_seasonal_anomalies_interp_1997_05.nc\n",
      "trying to save /home/nicolasf/drives/ham_projects/END19101/Working/data/GCMs/processed/hindcasts/CDS/CMCC/T2M/CMCC_T2M_seasonal_anomalies_interp_1997_06.nc\n",
      "trying to save /home/nicolasf/drives/ham_projects/END19101/Working/data/GCMs/processed/hindcasts/CDS/CMCC/T2M/CMCC_T2M_seasonal_anomalies_interp_1997_07.nc\n",
      "trying to save /home/nicolasf/drives/ham_projects/END19101/Working/data/GCMs/processed/hindcasts/CDS/CMCC/T2M/CMCC_T2M_seasonal_anomalies_interp_1997_08.nc\n",
      "trying to save /home/nicolasf/drives/ham_projects/END19101/Working/data/GCMs/processed/hindcasts/CDS/CMCC/T2M/CMCC_T2M_seasonal_anomalies_interp_1997_09.nc\n",
      "trying to save /home/nicolasf/drives/ham_projects/END19101/Working/data/GCMs/processed/hindcasts/CDS/CMCC/T2M/CMCC_T2M_seasonal_anomalies_interp_1997_10.nc\n",
      "trying to save /home/nicolasf/drives/ham_projects/END19101/Working/data/GCMs/processed/hindcasts/CDS/CMCC/T2M/CMCC_T2M_seasonal_anomalies_interp_1997_11.nc\n",
      "trying to save /home/nicolasf/drives/ham_projects/END19101/Working/data/GCMs/processed/hindcasts/CDS/CMCC/T2M/CMCC_T2M_seasonal_anomalies_interp_1997_12.nc\n",
      "trying to save /home/nicolasf/drives/ham_projects/END19101/Working/data/GCMs/processed/hindcasts/CDS/CMCC/T2M/CMCC_T2M_seasonal_anomalies_interp_1998_01.nc\n",
      "trying to save /home/nicolasf/drives/ham_projects/END19101/Working/data/GCMs/processed/hindcasts/CDS/CMCC/T2M/CMCC_T2M_seasonal_anomalies_interp_1998_02.nc\n",
      "trying to save /home/nicolasf/drives/ham_projects/END19101/Working/data/GCMs/processed/hindcasts/CDS/CMCC/T2M/CMCC_T2M_seasonal_anomalies_interp_1998_03.nc\n",
      "trying to save /home/nicolasf/drives/ham_projects/END19101/Working/data/GCMs/processed/hindcasts/CDS/CMCC/T2M/CMCC_T2M_seasonal_anomalies_interp_1998_04.nc\n",
      "trying to save /home/nicolasf/drives/ham_projects/END19101/Working/data/GCMs/processed/hindcasts/CDS/CMCC/T2M/CMCC_T2M_seasonal_anomalies_interp_1998_05.nc\n",
      "trying to save /home/nicolasf/drives/ham_projects/END19101/Working/data/GCMs/processed/hindcasts/CDS/CMCC/T2M/CMCC_T2M_seasonal_anomalies_interp_1998_06.nc\n",
      "trying to save /home/nicolasf/drives/ham_projects/END19101/Working/data/GCMs/processed/hindcasts/CDS/CMCC/T2M/CMCC_T2M_seasonal_anomalies_interp_1998_07.nc\n",
      "trying to save /home/nicolasf/drives/ham_projects/END19101/Working/data/GCMs/processed/hindcasts/CDS/CMCC/T2M/CMCC_T2M_seasonal_anomalies_interp_1998_08.nc\n",
      "trying to save /home/nicolasf/drives/ham_projects/END19101/Working/data/GCMs/processed/hindcasts/CDS/CMCC/T2M/CMCC_T2M_seasonal_anomalies_interp_1998_09.nc\n",
      "trying to save /home/nicolasf/drives/ham_projects/END19101/Working/data/GCMs/processed/hindcasts/CDS/CMCC/T2M/CMCC_T2M_seasonal_anomalies_interp_1998_10.nc\n",
      "trying to save /home/nicolasf/drives/ham_projects/END19101/Working/data/GCMs/processed/hindcasts/CDS/CMCC/T2M/CMCC_T2M_seasonal_anomalies_interp_1998_11.nc\n",
      "trying to save /home/nicolasf/drives/ham_projects/END19101/Working/data/GCMs/processed/hindcasts/CDS/CMCC/T2M/CMCC_T2M_seasonal_anomalies_interp_1998_12.nc\n",
      "trying to save /home/nicolasf/drives/ham_projects/END19101/Working/data/GCMs/processed/hindcasts/CDS/CMCC/T2M/CMCC_T2M_seasonal_anomalies_interp_1999_01.nc\n",
      "trying to save /home/nicolasf/drives/ham_projects/END19101/Working/data/GCMs/processed/hindcasts/CDS/CMCC/T2M/CMCC_T2M_seasonal_anomalies_interp_1999_02.nc\n",
      "trying to save /home/nicolasf/drives/ham_projects/END19101/Working/data/GCMs/processed/hindcasts/CDS/CMCC/T2M/CMCC_T2M_seasonal_anomalies_interp_1999_03.nc\n",
      "trying to save /home/nicolasf/drives/ham_projects/END19101/Working/data/GCMs/processed/hindcasts/CDS/CMCC/T2M/CMCC_T2M_seasonal_anomalies_interp_1999_04.nc\n",
      "trying to save /home/nicolasf/drives/ham_projects/END19101/Working/data/GCMs/processed/hindcasts/CDS/CMCC/T2M/CMCC_T2M_seasonal_anomalies_interp_1999_05.nc\n",
      "trying to save /home/nicolasf/drives/ham_projects/END19101/Working/data/GCMs/processed/hindcasts/CDS/CMCC/T2M/CMCC_T2M_seasonal_anomalies_interp_1999_06.nc\n",
      "trying to save /home/nicolasf/drives/ham_projects/END19101/Working/data/GCMs/processed/hindcasts/CDS/CMCC/T2M/CMCC_T2M_seasonal_anomalies_interp_1999_07.nc\n",
      "trying to save /home/nicolasf/drives/ham_projects/END19101/Working/data/GCMs/processed/hindcasts/CDS/CMCC/T2M/CMCC_T2M_seasonal_anomalies_interp_1999_08.nc\n",
      "trying to save /home/nicolasf/drives/ham_projects/END19101/Working/data/GCMs/processed/hindcasts/CDS/CMCC/T2M/CMCC_T2M_seasonal_anomalies_interp_1999_09.nc\n",
      "trying to save /home/nicolasf/drives/ham_projects/END19101/Working/data/GCMs/processed/hindcasts/CDS/CMCC/T2M/CMCC_T2M_seasonal_anomalies_interp_1999_10.nc\n",
      "trying to save /home/nicolasf/drives/ham_projects/END19101/Working/data/GCMs/processed/hindcasts/CDS/CMCC/T2M/CMCC_T2M_seasonal_anomalies_interp_1999_11.nc\n",
      "trying to save /home/nicolasf/drives/ham_projects/END19101/Working/data/GCMs/processed/hindcasts/CDS/CMCC/T2M/CMCC_T2M_seasonal_anomalies_interp_1999_12.nc\n",
      "trying to save /home/nicolasf/drives/ham_projects/END19101/Working/data/GCMs/processed/hindcasts/CDS/CMCC/T2M/CMCC_T2M_seasonal_anomalies_interp_2000_01.nc\n",
      "trying to save /home/nicolasf/drives/ham_projects/END19101/Working/data/GCMs/processed/hindcasts/CDS/CMCC/T2M/CMCC_T2M_seasonal_anomalies_interp_2000_02.nc\n",
      "trying to save /home/nicolasf/drives/ham_projects/END19101/Working/data/GCMs/processed/hindcasts/CDS/CMCC/T2M/CMCC_T2M_seasonal_anomalies_interp_2000_03.nc\n",
      "trying to save /home/nicolasf/drives/ham_projects/END19101/Working/data/GCMs/processed/hindcasts/CDS/CMCC/T2M/CMCC_T2M_seasonal_anomalies_interp_2000_04.nc\n",
      "trying to save /home/nicolasf/drives/ham_projects/END19101/Working/data/GCMs/processed/hindcasts/CDS/CMCC/T2M/CMCC_T2M_seasonal_anomalies_interp_2000_05.nc\n",
      "trying to save /home/nicolasf/drives/ham_projects/END19101/Working/data/GCMs/processed/hindcasts/CDS/CMCC/T2M/CMCC_T2M_seasonal_anomalies_interp_2000_06.nc\n",
      "trying to save /home/nicolasf/drives/ham_projects/END19101/Working/data/GCMs/processed/hindcasts/CDS/CMCC/T2M/CMCC_T2M_seasonal_anomalies_interp_2000_07.nc\n",
      "trying to save /home/nicolasf/drives/ham_projects/END19101/Working/data/GCMs/processed/hindcasts/CDS/CMCC/T2M/CMCC_T2M_seasonal_anomalies_interp_2000_08.nc\n",
      "trying to save /home/nicolasf/drives/ham_projects/END19101/Working/data/GCMs/processed/hindcasts/CDS/CMCC/T2M/CMCC_T2M_seasonal_anomalies_interp_2000_09.nc\n",
      "trying to save /home/nicolasf/drives/ham_projects/END19101/Working/data/GCMs/processed/hindcasts/CDS/CMCC/T2M/CMCC_T2M_seasonal_anomalies_interp_2000_10.nc\n",
      "trying to save /home/nicolasf/drives/ham_projects/END19101/Working/data/GCMs/processed/hindcasts/CDS/CMCC/T2M/CMCC_T2M_seasonal_anomalies_interp_2000_11.nc\n",
      "trying to save /home/nicolasf/drives/ham_projects/END19101/Working/data/GCMs/processed/hindcasts/CDS/CMCC/T2M/CMCC_T2M_seasonal_anomalies_interp_2000_12.nc\n",
      "trying to save /home/nicolasf/drives/ham_projects/END19101/Working/data/GCMs/processed/hindcasts/CDS/CMCC/T2M/CMCC_T2M_seasonal_anomalies_interp_2001_01.nc\n",
      "trying to save /home/nicolasf/drives/ham_projects/END19101/Working/data/GCMs/processed/hindcasts/CDS/CMCC/T2M/CMCC_T2M_seasonal_anomalies_interp_2001_02.nc\n",
      "trying to save /home/nicolasf/drives/ham_projects/END19101/Working/data/GCMs/processed/hindcasts/CDS/CMCC/T2M/CMCC_T2M_seasonal_anomalies_interp_2001_03.nc\n",
      "trying to save /home/nicolasf/drives/ham_projects/END19101/Working/data/GCMs/processed/hindcasts/CDS/CMCC/T2M/CMCC_T2M_seasonal_anomalies_interp_2001_04.nc\n",
      "trying to save /home/nicolasf/drives/ham_projects/END19101/Working/data/GCMs/processed/hindcasts/CDS/CMCC/T2M/CMCC_T2M_seasonal_anomalies_interp_2001_05.nc\n",
      "trying to save /home/nicolasf/drives/ham_projects/END19101/Working/data/GCMs/processed/hindcasts/CDS/CMCC/T2M/CMCC_T2M_seasonal_anomalies_interp_2001_06.nc\n",
      "trying to save /home/nicolasf/drives/ham_projects/END19101/Working/data/GCMs/processed/hindcasts/CDS/CMCC/T2M/CMCC_T2M_seasonal_anomalies_interp_2001_07.nc\n",
      "trying to save /home/nicolasf/drives/ham_projects/END19101/Working/data/GCMs/processed/hindcasts/CDS/CMCC/T2M/CMCC_T2M_seasonal_anomalies_interp_2001_08.nc\n",
      "trying to save /home/nicolasf/drives/ham_projects/END19101/Working/data/GCMs/processed/hindcasts/CDS/CMCC/T2M/CMCC_T2M_seasonal_anomalies_interp_2001_09.nc\n",
      "trying to save /home/nicolasf/drives/ham_projects/END19101/Working/data/GCMs/processed/hindcasts/CDS/CMCC/T2M/CMCC_T2M_seasonal_anomalies_interp_2001_10.nc\n",
      "trying to save /home/nicolasf/drives/ham_projects/END19101/Working/data/GCMs/processed/hindcasts/CDS/CMCC/T2M/CMCC_T2M_seasonal_anomalies_interp_2001_11.nc\n",
      "trying to save /home/nicolasf/drives/ham_projects/END19101/Working/data/GCMs/processed/hindcasts/CDS/CMCC/T2M/CMCC_T2M_seasonal_anomalies_interp_2001_12.nc\n",
      "trying to save /home/nicolasf/drives/ham_projects/END19101/Working/data/GCMs/processed/hindcasts/CDS/CMCC/T2M/CMCC_T2M_seasonal_anomalies_interp_2002_01.nc\n",
      "trying to save /home/nicolasf/drives/ham_projects/END19101/Working/data/GCMs/processed/hindcasts/CDS/CMCC/T2M/CMCC_T2M_seasonal_anomalies_interp_2002_02.nc\n",
      "trying to save /home/nicolasf/drives/ham_projects/END19101/Working/data/GCMs/processed/hindcasts/CDS/CMCC/T2M/CMCC_T2M_seasonal_anomalies_interp_2002_03.nc\n",
      "trying to save /home/nicolasf/drives/ham_projects/END19101/Working/data/GCMs/processed/hindcasts/CDS/CMCC/T2M/CMCC_T2M_seasonal_anomalies_interp_2002_04.nc\n",
      "trying to save /home/nicolasf/drives/ham_projects/END19101/Working/data/GCMs/processed/hindcasts/CDS/CMCC/T2M/CMCC_T2M_seasonal_anomalies_interp_2002_05.nc\n",
      "trying to save /home/nicolasf/drives/ham_projects/END19101/Working/data/GCMs/processed/hindcasts/CDS/CMCC/T2M/CMCC_T2M_seasonal_anomalies_interp_2002_06.nc\n",
      "trying to save /home/nicolasf/drives/ham_projects/END19101/Working/data/GCMs/processed/hindcasts/CDS/CMCC/T2M/CMCC_T2M_seasonal_anomalies_interp_2002_07.nc\n",
      "trying to save /home/nicolasf/drives/ham_projects/END19101/Working/data/GCMs/processed/hindcasts/CDS/CMCC/T2M/CMCC_T2M_seasonal_anomalies_interp_2002_08.nc\n",
      "trying to save /home/nicolasf/drives/ham_projects/END19101/Working/data/GCMs/processed/hindcasts/CDS/CMCC/T2M/CMCC_T2M_seasonal_anomalies_interp_2002_09.nc\n",
      "trying to save /home/nicolasf/drives/ham_projects/END19101/Working/data/GCMs/processed/hindcasts/CDS/CMCC/T2M/CMCC_T2M_seasonal_anomalies_interp_2002_10.nc\n",
      "trying to save /home/nicolasf/drives/ham_projects/END19101/Working/data/GCMs/processed/hindcasts/CDS/CMCC/T2M/CMCC_T2M_seasonal_anomalies_interp_2002_11.nc\n",
      "trying to save /home/nicolasf/drives/ham_projects/END19101/Working/data/GCMs/processed/hindcasts/CDS/CMCC/T2M/CMCC_T2M_seasonal_anomalies_interp_2002_12.nc\n",
      "trying to save /home/nicolasf/drives/ham_projects/END19101/Working/data/GCMs/processed/hindcasts/CDS/CMCC/T2M/CMCC_T2M_seasonal_anomalies_interp_2003_01.nc\n",
      "trying to save /home/nicolasf/drives/ham_projects/END19101/Working/data/GCMs/processed/hindcasts/CDS/CMCC/T2M/CMCC_T2M_seasonal_anomalies_interp_2003_02.nc\n",
      "trying to save /home/nicolasf/drives/ham_projects/END19101/Working/data/GCMs/processed/hindcasts/CDS/CMCC/T2M/CMCC_T2M_seasonal_anomalies_interp_2003_03.nc\n",
      "trying to save /home/nicolasf/drives/ham_projects/END19101/Working/data/GCMs/processed/hindcasts/CDS/CMCC/T2M/CMCC_T2M_seasonal_anomalies_interp_2003_04.nc\n",
      "trying to save /home/nicolasf/drives/ham_projects/END19101/Working/data/GCMs/processed/hindcasts/CDS/CMCC/T2M/CMCC_T2M_seasonal_anomalies_interp_2003_05.nc\n",
      "trying to save /home/nicolasf/drives/ham_projects/END19101/Working/data/GCMs/processed/hindcasts/CDS/CMCC/T2M/CMCC_T2M_seasonal_anomalies_interp_2003_06.nc\n",
      "trying to save /home/nicolasf/drives/ham_projects/END19101/Working/data/GCMs/processed/hindcasts/CDS/CMCC/T2M/CMCC_T2M_seasonal_anomalies_interp_2003_07.nc\n",
      "trying to save /home/nicolasf/drives/ham_projects/END19101/Working/data/GCMs/processed/hindcasts/CDS/CMCC/T2M/CMCC_T2M_seasonal_anomalies_interp_2003_08.nc\n",
      "trying to save /home/nicolasf/drives/ham_projects/END19101/Working/data/GCMs/processed/hindcasts/CDS/CMCC/T2M/CMCC_T2M_seasonal_anomalies_interp_2003_09.nc\n",
      "trying to save /home/nicolasf/drives/ham_projects/END19101/Working/data/GCMs/processed/hindcasts/CDS/CMCC/T2M/CMCC_T2M_seasonal_anomalies_interp_2003_10.nc\n",
      "trying to save /home/nicolasf/drives/ham_projects/END19101/Working/data/GCMs/processed/hindcasts/CDS/CMCC/T2M/CMCC_T2M_seasonal_anomalies_interp_2003_11.nc\n",
      "trying to save /home/nicolasf/drives/ham_projects/END19101/Working/data/GCMs/processed/hindcasts/CDS/CMCC/T2M/CMCC_T2M_seasonal_anomalies_interp_2003_12.nc\n",
      "trying to save /home/nicolasf/drives/ham_projects/END19101/Working/data/GCMs/processed/hindcasts/CDS/CMCC/T2M/CMCC_T2M_seasonal_anomalies_interp_2004_01.nc\n",
      "trying to save /home/nicolasf/drives/ham_projects/END19101/Working/data/GCMs/processed/hindcasts/CDS/CMCC/T2M/CMCC_T2M_seasonal_anomalies_interp_2004_02.nc\n",
      "trying to save /home/nicolasf/drives/ham_projects/END19101/Working/data/GCMs/processed/hindcasts/CDS/CMCC/T2M/CMCC_T2M_seasonal_anomalies_interp_2004_03.nc\n",
      "trying to save /home/nicolasf/drives/ham_projects/END19101/Working/data/GCMs/processed/hindcasts/CDS/CMCC/T2M/CMCC_T2M_seasonal_anomalies_interp_2004_04.nc\n",
      "trying to save /home/nicolasf/drives/ham_projects/END19101/Working/data/GCMs/processed/hindcasts/CDS/CMCC/T2M/CMCC_T2M_seasonal_anomalies_interp_2004_05.nc\n",
      "trying to save /home/nicolasf/drives/ham_projects/END19101/Working/data/GCMs/processed/hindcasts/CDS/CMCC/T2M/CMCC_T2M_seasonal_anomalies_interp_2004_06.nc\n",
      "trying to save /home/nicolasf/drives/ham_projects/END19101/Working/data/GCMs/processed/hindcasts/CDS/CMCC/T2M/CMCC_T2M_seasonal_anomalies_interp_2004_07.nc\n",
      "trying to save /home/nicolasf/drives/ham_projects/END19101/Working/data/GCMs/processed/hindcasts/CDS/CMCC/T2M/CMCC_T2M_seasonal_anomalies_interp_2004_08.nc\n",
      "trying to save /home/nicolasf/drives/ham_projects/END19101/Working/data/GCMs/processed/hindcasts/CDS/CMCC/T2M/CMCC_T2M_seasonal_anomalies_interp_2004_09.nc\n",
      "trying to save /home/nicolasf/drives/ham_projects/END19101/Working/data/GCMs/processed/hindcasts/CDS/CMCC/T2M/CMCC_T2M_seasonal_anomalies_interp_2004_10.nc\n",
      "trying to save /home/nicolasf/drives/ham_projects/END19101/Working/data/GCMs/processed/hindcasts/CDS/CMCC/T2M/CMCC_T2M_seasonal_anomalies_interp_2004_11.nc\n",
      "trying to save /home/nicolasf/drives/ham_projects/END19101/Working/data/GCMs/processed/hindcasts/CDS/CMCC/T2M/CMCC_T2M_seasonal_anomalies_interp_2004_12.nc\n",
      "trying to save /home/nicolasf/drives/ham_projects/END19101/Working/data/GCMs/processed/hindcasts/CDS/CMCC/T2M/CMCC_T2M_seasonal_anomalies_interp_2005_01.nc\n",
      "trying to save /home/nicolasf/drives/ham_projects/END19101/Working/data/GCMs/processed/hindcasts/CDS/CMCC/T2M/CMCC_T2M_seasonal_anomalies_interp_2005_02.nc\n",
      "trying to save /home/nicolasf/drives/ham_projects/END19101/Working/data/GCMs/processed/hindcasts/CDS/CMCC/T2M/CMCC_T2M_seasonal_anomalies_interp_2005_03.nc\n",
      "trying to save /home/nicolasf/drives/ham_projects/END19101/Working/data/GCMs/processed/hindcasts/CDS/CMCC/T2M/CMCC_T2M_seasonal_anomalies_interp_2005_04.nc\n",
      "trying to save /home/nicolasf/drives/ham_projects/END19101/Working/data/GCMs/processed/hindcasts/CDS/CMCC/T2M/CMCC_T2M_seasonal_anomalies_interp_2005_05.nc\n",
      "trying to save /home/nicolasf/drives/ham_projects/END19101/Working/data/GCMs/processed/hindcasts/CDS/CMCC/T2M/CMCC_T2M_seasonal_anomalies_interp_2005_06.nc\n",
      "trying to save /home/nicolasf/drives/ham_projects/END19101/Working/data/GCMs/processed/hindcasts/CDS/CMCC/T2M/CMCC_T2M_seasonal_anomalies_interp_2005_07.nc\n",
      "trying to save /home/nicolasf/drives/ham_projects/END19101/Working/data/GCMs/processed/hindcasts/CDS/CMCC/T2M/CMCC_T2M_seasonal_anomalies_interp_2005_08.nc\n",
      "trying to save /home/nicolasf/drives/ham_projects/END19101/Working/data/GCMs/processed/hindcasts/CDS/CMCC/T2M/CMCC_T2M_seasonal_anomalies_interp_2005_09.nc\n",
      "trying to save /home/nicolasf/drives/ham_projects/END19101/Working/data/GCMs/processed/hindcasts/CDS/CMCC/T2M/CMCC_T2M_seasonal_anomalies_interp_2005_10.nc\n",
      "trying to save /home/nicolasf/drives/ham_projects/END19101/Working/data/GCMs/processed/hindcasts/CDS/CMCC/T2M/CMCC_T2M_seasonal_anomalies_interp_2005_11.nc\n",
      "trying to save /home/nicolasf/drives/ham_projects/END19101/Working/data/GCMs/processed/hindcasts/CDS/CMCC/T2M/CMCC_T2M_seasonal_anomalies_interp_2005_12.nc\n",
      "trying to save /home/nicolasf/drives/ham_projects/END19101/Working/data/GCMs/processed/hindcasts/CDS/CMCC/T2M/CMCC_T2M_seasonal_anomalies_interp_2006_01.nc\n",
      "trying to save /home/nicolasf/drives/ham_projects/END19101/Working/data/GCMs/processed/hindcasts/CDS/CMCC/T2M/CMCC_T2M_seasonal_anomalies_interp_2006_02.nc\n",
      "trying to save /home/nicolasf/drives/ham_projects/END19101/Working/data/GCMs/processed/hindcasts/CDS/CMCC/T2M/CMCC_T2M_seasonal_anomalies_interp_2006_03.nc\n",
      "trying to save /home/nicolasf/drives/ham_projects/END19101/Working/data/GCMs/processed/hindcasts/CDS/CMCC/T2M/CMCC_T2M_seasonal_anomalies_interp_2006_04.nc\n",
      "trying to save /home/nicolasf/drives/ham_projects/END19101/Working/data/GCMs/processed/hindcasts/CDS/CMCC/T2M/CMCC_T2M_seasonal_anomalies_interp_2006_05.nc\n",
      "trying to save /home/nicolasf/drives/ham_projects/END19101/Working/data/GCMs/processed/hindcasts/CDS/CMCC/T2M/CMCC_T2M_seasonal_anomalies_interp_2006_06.nc\n",
      "trying to save /home/nicolasf/drives/ham_projects/END19101/Working/data/GCMs/processed/hindcasts/CDS/CMCC/T2M/CMCC_T2M_seasonal_anomalies_interp_2006_07.nc\n",
      "trying to save /home/nicolasf/drives/ham_projects/END19101/Working/data/GCMs/processed/hindcasts/CDS/CMCC/T2M/CMCC_T2M_seasonal_anomalies_interp_2006_08.nc\n",
      "trying to save /home/nicolasf/drives/ham_projects/END19101/Working/data/GCMs/processed/hindcasts/CDS/CMCC/T2M/CMCC_T2M_seasonal_anomalies_interp_2006_09.nc\n",
      "trying to save /home/nicolasf/drives/ham_projects/END19101/Working/data/GCMs/processed/hindcasts/CDS/CMCC/T2M/CMCC_T2M_seasonal_anomalies_interp_2006_10.nc\n",
      "trying to save /home/nicolasf/drives/ham_projects/END19101/Working/data/GCMs/processed/hindcasts/CDS/CMCC/T2M/CMCC_T2M_seasonal_anomalies_interp_2006_11.nc\n",
      "trying to save /home/nicolasf/drives/ham_projects/END19101/Working/data/GCMs/processed/hindcasts/CDS/CMCC/T2M/CMCC_T2M_seasonal_anomalies_interp_2006_12.nc\n",
      "trying to save /home/nicolasf/drives/ham_projects/END19101/Working/data/GCMs/processed/hindcasts/CDS/CMCC/T2M/CMCC_T2M_seasonal_anomalies_interp_2007_01.nc\n",
      "trying to save /home/nicolasf/drives/ham_projects/END19101/Working/data/GCMs/processed/hindcasts/CDS/CMCC/T2M/CMCC_T2M_seasonal_anomalies_interp_2007_02.nc\n",
      "trying to save /home/nicolasf/drives/ham_projects/END19101/Working/data/GCMs/processed/hindcasts/CDS/CMCC/T2M/CMCC_T2M_seasonal_anomalies_interp_2007_03.nc\n",
      "trying to save /home/nicolasf/drives/ham_projects/END19101/Working/data/GCMs/processed/hindcasts/CDS/CMCC/T2M/CMCC_T2M_seasonal_anomalies_interp_2007_04.nc\n",
      "trying to save /home/nicolasf/drives/ham_projects/END19101/Working/data/GCMs/processed/hindcasts/CDS/CMCC/T2M/CMCC_T2M_seasonal_anomalies_interp_2007_05.nc\n",
      "trying to save /home/nicolasf/drives/ham_projects/END19101/Working/data/GCMs/processed/hindcasts/CDS/CMCC/T2M/CMCC_T2M_seasonal_anomalies_interp_2007_06.nc\n",
      "trying to save /home/nicolasf/drives/ham_projects/END19101/Working/data/GCMs/processed/hindcasts/CDS/CMCC/T2M/CMCC_T2M_seasonal_anomalies_interp_2007_07.nc\n",
      "trying to save /home/nicolasf/drives/ham_projects/END19101/Working/data/GCMs/processed/hindcasts/CDS/CMCC/T2M/CMCC_T2M_seasonal_anomalies_interp_2007_08.nc\n",
      "trying to save /home/nicolasf/drives/ham_projects/END19101/Working/data/GCMs/processed/hindcasts/CDS/CMCC/T2M/CMCC_T2M_seasonal_anomalies_interp_2007_09.nc\n",
      "trying to save /home/nicolasf/drives/ham_projects/END19101/Working/data/GCMs/processed/hindcasts/CDS/CMCC/T2M/CMCC_T2M_seasonal_anomalies_interp_2007_10.nc\n",
      "trying to save /home/nicolasf/drives/ham_projects/END19101/Working/data/GCMs/processed/hindcasts/CDS/CMCC/T2M/CMCC_T2M_seasonal_anomalies_interp_2007_11.nc\n",
      "trying to save /home/nicolasf/drives/ham_projects/END19101/Working/data/GCMs/processed/hindcasts/CDS/CMCC/T2M/CMCC_T2M_seasonal_anomalies_interp_2007_12.nc\n",
      "trying to save /home/nicolasf/drives/ham_projects/END19101/Working/data/GCMs/processed/hindcasts/CDS/CMCC/T2M/CMCC_T2M_seasonal_anomalies_interp_2008_01.nc\n",
      "trying to save /home/nicolasf/drives/ham_projects/END19101/Working/data/GCMs/processed/hindcasts/CDS/CMCC/T2M/CMCC_T2M_seasonal_anomalies_interp_2008_02.nc\n",
      "trying to save /home/nicolasf/drives/ham_projects/END19101/Working/data/GCMs/processed/hindcasts/CDS/CMCC/T2M/CMCC_T2M_seasonal_anomalies_interp_2008_03.nc\n",
      "trying to save /home/nicolasf/drives/ham_projects/END19101/Working/data/GCMs/processed/hindcasts/CDS/CMCC/T2M/CMCC_T2M_seasonal_anomalies_interp_2008_04.nc\n",
      "trying to save /home/nicolasf/drives/ham_projects/END19101/Working/data/GCMs/processed/hindcasts/CDS/CMCC/T2M/CMCC_T2M_seasonal_anomalies_interp_2008_05.nc\n",
      "trying to save /home/nicolasf/drives/ham_projects/END19101/Working/data/GCMs/processed/hindcasts/CDS/CMCC/T2M/CMCC_T2M_seasonal_anomalies_interp_2008_06.nc\n",
      "trying to save /home/nicolasf/drives/ham_projects/END19101/Working/data/GCMs/processed/hindcasts/CDS/CMCC/T2M/CMCC_T2M_seasonal_anomalies_interp_2008_07.nc\n",
      "trying to save /home/nicolasf/drives/ham_projects/END19101/Working/data/GCMs/processed/hindcasts/CDS/CMCC/T2M/CMCC_T2M_seasonal_anomalies_interp_2008_08.nc\n",
      "trying to save /home/nicolasf/drives/ham_projects/END19101/Working/data/GCMs/processed/hindcasts/CDS/CMCC/T2M/CMCC_T2M_seasonal_anomalies_interp_2008_09.nc\n",
      "trying to save /home/nicolasf/drives/ham_projects/END19101/Working/data/GCMs/processed/hindcasts/CDS/CMCC/T2M/CMCC_T2M_seasonal_anomalies_interp_2008_10.nc\n",
      "trying to save /home/nicolasf/drives/ham_projects/END19101/Working/data/GCMs/processed/hindcasts/CDS/CMCC/T2M/CMCC_T2M_seasonal_anomalies_interp_2008_11.nc\n",
      "trying to save /home/nicolasf/drives/ham_projects/END19101/Working/data/GCMs/processed/hindcasts/CDS/CMCC/T2M/CMCC_T2M_seasonal_anomalies_interp_2008_12.nc\n",
      "trying to save /home/nicolasf/drives/ham_projects/END19101/Working/data/GCMs/processed/hindcasts/CDS/CMCC/T2M/CMCC_T2M_seasonal_anomalies_interp_2009_01.nc\n",
      "trying to save /home/nicolasf/drives/ham_projects/END19101/Working/data/GCMs/processed/hindcasts/CDS/CMCC/T2M/CMCC_T2M_seasonal_anomalies_interp_2009_02.nc\n",
      "trying to save /home/nicolasf/drives/ham_projects/END19101/Working/data/GCMs/processed/hindcasts/CDS/CMCC/T2M/CMCC_T2M_seasonal_anomalies_interp_2009_03.nc\n",
      "trying to save /home/nicolasf/drives/ham_projects/END19101/Working/data/GCMs/processed/hindcasts/CDS/CMCC/T2M/CMCC_T2M_seasonal_anomalies_interp_2009_04.nc\n",
      "trying to save /home/nicolasf/drives/ham_projects/END19101/Working/data/GCMs/processed/hindcasts/CDS/CMCC/T2M/CMCC_T2M_seasonal_anomalies_interp_2009_05.nc\n",
      "trying to save /home/nicolasf/drives/ham_projects/END19101/Working/data/GCMs/processed/hindcasts/CDS/CMCC/T2M/CMCC_T2M_seasonal_anomalies_interp_2009_06.nc\n",
      "trying to save /home/nicolasf/drives/ham_projects/END19101/Working/data/GCMs/processed/hindcasts/CDS/CMCC/T2M/CMCC_T2M_seasonal_anomalies_interp_2009_07.nc\n",
      "trying to save /home/nicolasf/drives/ham_projects/END19101/Working/data/GCMs/processed/hindcasts/CDS/CMCC/T2M/CMCC_T2M_seasonal_anomalies_interp_2009_08.nc\n",
      "trying to save /home/nicolasf/drives/ham_projects/END19101/Working/data/GCMs/processed/hindcasts/CDS/CMCC/T2M/CMCC_T2M_seasonal_anomalies_interp_2009_09.nc\n",
      "trying to save /home/nicolasf/drives/ham_projects/END19101/Working/data/GCMs/processed/hindcasts/CDS/CMCC/T2M/CMCC_T2M_seasonal_anomalies_interp_2009_10.nc\n",
      "trying to save /home/nicolasf/drives/ham_projects/END19101/Working/data/GCMs/processed/hindcasts/CDS/CMCC/T2M/CMCC_T2M_seasonal_anomalies_interp_2009_11.nc\n",
      "trying to save /home/nicolasf/drives/ham_projects/END19101/Working/data/GCMs/processed/hindcasts/CDS/CMCC/T2M/CMCC_T2M_seasonal_anomalies_interp_2009_12.nc\n",
      "trying to save /home/nicolasf/drives/ham_projects/END19101/Working/data/GCMs/processed/hindcasts/CDS/CMCC/T2M/CMCC_T2M_seasonal_anomalies_interp_2010_01.nc\n",
      "trying to save /home/nicolasf/drives/ham_projects/END19101/Working/data/GCMs/processed/hindcasts/CDS/CMCC/T2M/CMCC_T2M_seasonal_anomalies_interp_2010_02.nc\n",
      "trying to save /home/nicolasf/drives/ham_projects/END19101/Working/data/GCMs/processed/hindcasts/CDS/CMCC/T2M/CMCC_T2M_seasonal_anomalies_interp_2010_03.nc\n",
      "trying to save /home/nicolasf/drives/ham_projects/END19101/Working/data/GCMs/processed/hindcasts/CDS/CMCC/T2M/CMCC_T2M_seasonal_anomalies_interp_2010_04.nc\n",
      "trying to save /home/nicolasf/drives/ham_projects/END19101/Working/data/GCMs/processed/hindcasts/CDS/CMCC/T2M/CMCC_T2M_seasonal_anomalies_interp_2010_05.nc\n",
      "trying to save /home/nicolasf/drives/ham_projects/END19101/Working/data/GCMs/processed/hindcasts/CDS/CMCC/T2M/CMCC_T2M_seasonal_anomalies_interp_2010_06.nc\n",
      "trying to save /home/nicolasf/drives/ham_projects/END19101/Working/data/GCMs/processed/hindcasts/CDS/CMCC/T2M/CMCC_T2M_seasonal_anomalies_interp_2010_07.nc\n",
      "trying to save /home/nicolasf/drives/ham_projects/END19101/Working/data/GCMs/processed/hindcasts/CDS/CMCC/T2M/CMCC_T2M_seasonal_anomalies_interp_2010_08.nc\n",
      "trying to save /home/nicolasf/drives/ham_projects/END19101/Working/data/GCMs/processed/hindcasts/CDS/CMCC/T2M/CMCC_T2M_seasonal_anomalies_interp_2010_09.nc\n",
      "trying to save /home/nicolasf/drives/ham_projects/END19101/Working/data/GCMs/processed/hindcasts/CDS/CMCC/T2M/CMCC_T2M_seasonal_anomalies_interp_2010_10.nc\n",
      "trying to save /home/nicolasf/drives/ham_projects/END19101/Working/data/GCMs/processed/hindcasts/CDS/CMCC/T2M/CMCC_T2M_seasonal_anomalies_interp_2010_11.nc\n",
      "trying to save /home/nicolasf/drives/ham_projects/END19101/Working/data/GCMs/processed/hindcasts/CDS/CMCC/T2M/CMCC_T2M_seasonal_anomalies_interp_2010_12.nc\n",
      "trying to save /home/nicolasf/drives/ham_projects/END19101/Working/data/GCMs/processed/hindcasts/CDS/CMCC/T2M/CMCC_T2M_seasonal_anomalies_interp_2011_01.nc\n",
      "trying to save /home/nicolasf/drives/ham_projects/END19101/Working/data/GCMs/processed/hindcasts/CDS/CMCC/T2M/CMCC_T2M_seasonal_anomalies_interp_2011_02.nc\n",
      "trying to save /home/nicolasf/drives/ham_projects/END19101/Working/data/GCMs/processed/hindcasts/CDS/CMCC/T2M/CMCC_T2M_seasonal_anomalies_interp_2011_03.nc\n",
      "trying to save /home/nicolasf/drives/ham_projects/END19101/Working/data/GCMs/processed/hindcasts/CDS/CMCC/T2M/CMCC_T2M_seasonal_anomalies_interp_2011_04.nc\n",
      "trying to save /home/nicolasf/drives/ham_projects/END19101/Working/data/GCMs/processed/hindcasts/CDS/CMCC/T2M/CMCC_T2M_seasonal_anomalies_interp_2011_05.nc\n",
      "trying to save /home/nicolasf/drives/ham_projects/END19101/Working/data/GCMs/processed/hindcasts/CDS/CMCC/T2M/CMCC_T2M_seasonal_anomalies_interp_2011_06.nc\n",
      "trying to save /home/nicolasf/drives/ham_projects/END19101/Working/data/GCMs/processed/hindcasts/CDS/CMCC/T2M/CMCC_T2M_seasonal_anomalies_interp_2011_07.nc\n",
      "trying to save /home/nicolasf/drives/ham_projects/END19101/Working/data/GCMs/processed/hindcasts/CDS/CMCC/T2M/CMCC_T2M_seasonal_anomalies_interp_2011_08.nc\n",
      "trying to save /home/nicolasf/drives/ham_projects/END19101/Working/data/GCMs/processed/hindcasts/CDS/CMCC/T2M/CMCC_T2M_seasonal_anomalies_interp_2011_09.nc\n",
      "trying to save /home/nicolasf/drives/ham_projects/END19101/Working/data/GCMs/processed/hindcasts/CDS/CMCC/T2M/CMCC_T2M_seasonal_anomalies_interp_2011_10.nc\n",
      "trying to save /home/nicolasf/drives/ham_projects/END19101/Working/data/GCMs/processed/hindcasts/CDS/CMCC/T2M/CMCC_T2M_seasonal_anomalies_interp_2011_11.nc\n",
      "trying to save /home/nicolasf/drives/ham_projects/END19101/Working/data/GCMs/processed/hindcasts/CDS/CMCC/T2M/CMCC_T2M_seasonal_anomalies_interp_2011_12.nc\n",
      "trying to save /home/nicolasf/drives/ham_projects/END19101/Working/data/GCMs/processed/hindcasts/CDS/CMCC/T2M/CMCC_T2M_seasonal_anomalies_interp_2012_01.nc\n",
      "trying to save /home/nicolasf/drives/ham_projects/END19101/Working/data/GCMs/processed/hindcasts/CDS/CMCC/T2M/CMCC_T2M_seasonal_anomalies_interp_2012_02.nc\n",
      "trying to save /home/nicolasf/drives/ham_projects/END19101/Working/data/GCMs/processed/hindcasts/CDS/CMCC/T2M/CMCC_T2M_seasonal_anomalies_interp_2012_03.nc\n",
      "trying to save /home/nicolasf/drives/ham_projects/END19101/Working/data/GCMs/processed/hindcasts/CDS/CMCC/T2M/CMCC_T2M_seasonal_anomalies_interp_2012_04.nc\n",
      "trying to save /home/nicolasf/drives/ham_projects/END19101/Working/data/GCMs/processed/hindcasts/CDS/CMCC/T2M/CMCC_T2M_seasonal_anomalies_interp_2012_05.nc\n",
      "trying to save /home/nicolasf/drives/ham_projects/END19101/Working/data/GCMs/processed/hindcasts/CDS/CMCC/T2M/CMCC_T2M_seasonal_anomalies_interp_2012_06.nc\n",
      "trying to save /home/nicolasf/drives/ham_projects/END19101/Working/data/GCMs/processed/hindcasts/CDS/CMCC/T2M/CMCC_T2M_seasonal_anomalies_interp_2012_07.nc\n",
      "trying to save /home/nicolasf/drives/ham_projects/END19101/Working/data/GCMs/processed/hindcasts/CDS/CMCC/T2M/CMCC_T2M_seasonal_anomalies_interp_2012_08.nc\n",
      "trying to save /home/nicolasf/drives/ham_projects/END19101/Working/data/GCMs/processed/hindcasts/CDS/CMCC/T2M/CMCC_T2M_seasonal_anomalies_interp_2012_09.nc\n",
      "trying to save /home/nicolasf/drives/ham_projects/END19101/Working/data/GCMs/processed/hindcasts/CDS/CMCC/T2M/CMCC_T2M_seasonal_anomalies_interp_2012_10.nc\n",
      "trying to save /home/nicolasf/drives/ham_projects/END19101/Working/data/GCMs/processed/hindcasts/CDS/CMCC/T2M/CMCC_T2M_seasonal_anomalies_interp_2012_11.nc\n",
      "trying to save /home/nicolasf/drives/ham_projects/END19101/Working/data/GCMs/processed/hindcasts/CDS/CMCC/T2M/CMCC_T2M_seasonal_anomalies_interp_2012_12.nc\n",
      "trying to save /home/nicolasf/drives/ham_projects/END19101/Working/data/GCMs/processed/hindcasts/CDS/CMCC/T2M/CMCC_T2M_seasonal_anomalies_interp_2013_01.nc\n",
      "trying to save /home/nicolasf/drives/ham_projects/END19101/Working/data/GCMs/processed/hindcasts/CDS/CMCC/T2M/CMCC_T2M_seasonal_anomalies_interp_2013_02.nc\n",
      "trying to save /home/nicolasf/drives/ham_projects/END19101/Working/data/GCMs/processed/hindcasts/CDS/CMCC/T2M/CMCC_T2M_seasonal_anomalies_interp_2013_03.nc\n",
      "trying to save /home/nicolasf/drives/ham_projects/END19101/Working/data/GCMs/processed/hindcasts/CDS/CMCC/T2M/CMCC_T2M_seasonal_anomalies_interp_2013_04.nc\n",
      "trying to save /home/nicolasf/drives/ham_projects/END19101/Working/data/GCMs/processed/hindcasts/CDS/CMCC/T2M/CMCC_T2M_seasonal_anomalies_interp_2013_05.nc\n",
      "trying to save /home/nicolasf/drives/ham_projects/END19101/Working/data/GCMs/processed/hindcasts/CDS/CMCC/T2M/CMCC_T2M_seasonal_anomalies_interp_2013_06.nc\n",
      "trying to save /home/nicolasf/drives/ham_projects/END19101/Working/data/GCMs/processed/hindcasts/CDS/CMCC/T2M/CMCC_T2M_seasonal_anomalies_interp_2013_07.nc\n",
      "trying to save /home/nicolasf/drives/ham_projects/END19101/Working/data/GCMs/processed/hindcasts/CDS/CMCC/T2M/CMCC_T2M_seasonal_anomalies_interp_2013_08.nc\n",
      "trying to save /home/nicolasf/drives/ham_projects/END19101/Working/data/GCMs/processed/hindcasts/CDS/CMCC/T2M/CMCC_T2M_seasonal_anomalies_interp_2013_09.nc\n",
      "trying to save /home/nicolasf/drives/ham_projects/END19101/Working/data/GCMs/processed/hindcasts/CDS/CMCC/T2M/CMCC_T2M_seasonal_anomalies_interp_2013_10.nc\n",
      "trying to save /home/nicolasf/drives/ham_projects/END19101/Working/data/GCMs/processed/hindcasts/CDS/CMCC/T2M/CMCC_T2M_seasonal_anomalies_interp_2013_11.nc\n",
      "trying to save /home/nicolasf/drives/ham_projects/END19101/Working/data/GCMs/processed/hindcasts/CDS/CMCC/T2M/CMCC_T2M_seasonal_anomalies_interp_2013_12.nc\n",
      "trying to save /home/nicolasf/drives/ham_projects/END19101/Working/data/GCMs/processed/hindcasts/CDS/CMCC/T2M/CMCC_T2M_seasonal_anomalies_interp_2014_01.nc\n",
      "trying to save /home/nicolasf/drives/ham_projects/END19101/Working/data/GCMs/processed/hindcasts/CDS/CMCC/T2M/CMCC_T2M_seasonal_anomalies_interp_2014_02.nc\n",
      "trying to save /home/nicolasf/drives/ham_projects/END19101/Working/data/GCMs/processed/hindcasts/CDS/CMCC/T2M/CMCC_T2M_seasonal_anomalies_interp_2014_03.nc\n",
      "trying to save /home/nicolasf/drives/ham_projects/END19101/Working/data/GCMs/processed/hindcasts/CDS/CMCC/T2M/CMCC_T2M_seasonal_anomalies_interp_2014_04.nc\n",
      "trying to save /home/nicolasf/drives/ham_projects/END19101/Working/data/GCMs/processed/hindcasts/CDS/CMCC/T2M/CMCC_T2M_seasonal_anomalies_interp_2014_05.nc\n",
      "trying to save /home/nicolasf/drives/ham_projects/END19101/Working/data/GCMs/processed/hindcasts/CDS/CMCC/T2M/CMCC_T2M_seasonal_anomalies_interp_2014_06.nc\n",
      "trying to save /home/nicolasf/drives/ham_projects/END19101/Working/data/GCMs/processed/hindcasts/CDS/CMCC/T2M/CMCC_T2M_seasonal_anomalies_interp_2014_07.nc\n",
      "trying to save /home/nicolasf/drives/ham_projects/END19101/Working/data/GCMs/processed/hindcasts/CDS/CMCC/T2M/CMCC_T2M_seasonal_anomalies_interp_2014_08.nc\n",
      "trying to save /home/nicolasf/drives/ham_projects/END19101/Working/data/GCMs/processed/hindcasts/CDS/CMCC/T2M/CMCC_T2M_seasonal_anomalies_interp_2014_09.nc\n",
      "trying to save /home/nicolasf/drives/ham_projects/END19101/Working/data/GCMs/processed/hindcasts/CDS/CMCC/T2M/CMCC_T2M_seasonal_anomalies_interp_2014_10.nc\n",
      "trying to save /home/nicolasf/drives/ham_projects/END19101/Working/data/GCMs/processed/hindcasts/CDS/CMCC/T2M/CMCC_T2M_seasonal_anomalies_interp_2014_11.nc\n",
      "trying to save /home/nicolasf/drives/ham_projects/END19101/Working/data/GCMs/processed/hindcasts/CDS/CMCC/T2M/CMCC_T2M_seasonal_anomalies_interp_2014_12.nc\n",
      "trying to save /home/nicolasf/drives/ham_projects/END19101/Working/data/GCMs/processed/hindcasts/CDS/CMCC/T2M/CMCC_T2M_seasonal_anomalies_interp_2015_01.nc\n",
      "trying to save /home/nicolasf/drives/ham_projects/END19101/Working/data/GCMs/processed/hindcasts/CDS/CMCC/T2M/CMCC_T2M_seasonal_anomalies_interp_2015_02.nc\n",
      "trying to save /home/nicolasf/drives/ham_projects/END19101/Working/data/GCMs/processed/hindcasts/CDS/CMCC/T2M/CMCC_T2M_seasonal_anomalies_interp_2015_03.nc\n",
      "trying to save /home/nicolasf/drives/ham_projects/END19101/Working/data/GCMs/processed/hindcasts/CDS/CMCC/T2M/CMCC_T2M_seasonal_anomalies_interp_2015_04.nc\n",
      "trying to save /home/nicolasf/drives/ham_projects/END19101/Working/data/GCMs/processed/hindcasts/CDS/CMCC/T2M/CMCC_T2M_seasonal_anomalies_interp_2015_05.nc\n",
      "trying to save /home/nicolasf/drives/ham_projects/END19101/Working/data/GCMs/processed/hindcasts/CDS/CMCC/T2M/CMCC_T2M_seasonal_anomalies_interp_2015_06.nc\n",
      "trying to save /home/nicolasf/drives/ham_projects/END19101/Working/data/GCMs/processed/hindcasts/CDS/CMCC/T2M/CMCC_T2M_seasonal_anomalies_interp_2015_07.nc\n",
      "trying to save /home/nicolasf/drives/ham_projects/END19101/Working/data/GCMs/processed/hindcasts/CDS/CMCC/T2M/CMCC_T2M_seasonal_anomalies_interp_2015_08.nc\n",
      "trying to save /home/nicolasf/drives/ham_projects/END19101/Working/data/GCMs/processed/hindcasts/CDS/CMCC/T2M/CMCC_T2M_seasonal_anomalies_interp_2015_09.nc\n",
      "trying to save /home/nicolasf/drives/ham_projects/END19101/Working/data/GCMs/processed/hindcasts/CDS/CMCC/T2M/CMCC_T2M_seasonal_anomalies_interp_2015_10.nc\n",
      "trying to save /home/nicolasf/drives/ham_projects/END19101/Working/data/GCMs/processed/hindcasts/CDS/CMCC/T2M/CMCC_T2M_seasonal_anomalies_interp_2015_11.nc\n",
      "trying to save /home/nicolasf/drives/ham_projects/END19101/Working/data/GCMs/processed/hindcasts/CDS/CMCC/T2M/CMCC_T2M_seasonal_anomalies_interp_2015_12.nc\n",
      "trying to save /home/nicolasf/drives/ham_projects/END19101/Working/data/GCMs/processed/hindcasts/CDS/CMCC/T2M/CMCC_T2M_seasonal_anomalies_interp_2016_01.nc\n",
      "trying to save /home/nicolasf/drives/ham_projects/END19101/Working/data/GCMs/processed/hindcasts/CDS/CMCC/T2M/CMCC_T2M_seasonal_anomalies_interp_2016_02.nc\n",
      "trying to save /home/nicolasf/drives/ham_projects/END19101/Working/data/GCMs/processed/hindcasts/CDS/CMCC/T2M/CMCC_T2M_seasonal_anomalies_interp_2016_03.nc\n",
      "trying to save /home/nicolasf/drives/ham_projects/END19101/Working/data/GCMs/processed/hindcasts/CDS/CMCC/T2M/CMCC_T2M_seasonal_anomalies_interp_2016_04.nc\n",
      "trying to save /home/nicolasf/drives/ham_projects/END19101/Working/data/GCMs/processed/hindcasts/CDS/CMCC/T2M/CMCC_T2M_seasonal_anomalies_interp_2016_05.nc\n",
      "trying to save /home/nicolasf/drives/ham_projects/END19101/Working/data/GCMs/processed/hindcasts/CDS/CMCC/T2M/CMCC_T2M_seasonal_anomalies_interp_2016_06.nc\n",
      "trying to save /home/nicolasf/drives/ham_projects/END19101/Working/data/GCMs/processed/hindcasts/CDS/CMCC/T2M/CMCC_T2M_seasonal_anomalies_interp_2016_07.nc\n",
      "trying to save /home/nicolasf/drives/ham_projects/END19101/Working/data/GCMs/processed/hindcasts/CDS/CMCC/T2M/CMCC_T2M_seasonal_anomalies_interp_2016_08.nc\n",
      "trying to save /home/nicolasf/drives/ham_projects/END19101/Working/data/GCMs/processed/hindcasts/CDS/CMCC/T2M/CMCC_T2M_seasonal_anomalies_interp_2016_09.nc\n",
      "trying to save /home/nicolasf/drives/ham_projects/END19101/Working/data/GCMs/processed/hindcasts/CDS/CMCC/T2M/CMCC_T2M_seasonal_anomalies_interp_2016_10.nc\n",
      "trying to save /home/nicolasf/drives/ham_projects/END19101/Working/data/GCMs/processed/hindcasts/CDS/CMCC/T2M/CMCC_T2M_seasonal_anomalies_interp_2016_11.nc\n",
      "trying to save /home/nicolasf/drives/ham_projects/END19101/Working/data/GCMs/processed/hindcasts/CDS/CMCC/T2M/CMCC_T2M_seasonal_anomalies_interp_2016_12.nc\n"
     ]
    }
   ],
   "source": [
    "for fname in lfiles: \n",
    "    dset = xr.open_dataset(fname) \n",
    "    dset_s = dset[['t2m']].rolling(step=3, min_periods=3).mean()\n",
    "    dset_s = dset_s.sel(step=slice(3, None))\n",
    "    dset_s['forecast_valid_time'] = dset['forecast_valid_time'].sel(step=slice(3, None))\n",
    "    dset_s.to_netcdf(opath / fname.name.replace('monthly','seasonal'))\n",
    "    print(f\"trying to save {str(fname).replace('monthly','seasonal')}\")\n",
    "    dset_s.close() \n",
    "    dset.close() "
   ]
  },
  {
   "cell_type": "code",
   "execution_count": null,
   "metadata": {},
   "outputs": [],
   "source": []
  }
 ],
 "metadata": {
  "kernelspec": {
   "display_name": "Python 3",
   "language": "python",
   "name": "python3"
  },
  "language_info": {
   "codemirror_mode": {
    "name": "ipython",
    "version": 3
   },
   "file_extension": ".py",
   "mimetype": "text/x-python",
   "name": "python",
   "nbconvert_exporter": "python",
   "pygments_lexer": "ipython3",
   "version": "3.7.6"
  }
 },
 "nbformat": 4,
 "nbformat_minor": 4
}
