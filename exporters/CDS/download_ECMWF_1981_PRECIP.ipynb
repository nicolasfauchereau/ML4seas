{
 "cells": [
  {
   "cell_type": "code",
   "execution_count": null,
   "metadata": {},
   "outputs": [],
   "source": [
    "%matplotlib inline"
   ]
  },
  {
   "cell_type": "code",
   "execution_count": null,
   "metadata": {},
   "outputs": [],
   "source": [
    "import cdsapi\n",
    "import os\n",
    "import urllib\n",
    "import pathlib\n",
    "import argparse\n",
    "from datetime import datetime\n",
    "import multiprocessing\n",
    "from multiprocessing.pool import Pool"
   ]
  },
  {
   "cell_type": "code",
   "execution_count": null,
   "metadata": {},
   "outputs": [],
   "source": [
    "import numpy as np\n",
    "import pandas as pd\n",
    "import xarray as xr"
   ]
  },
  {
   "cell_type": "code",
   "execution_count": null,
   "metadata": {},
   "outputs": [],
   "source": [
    "# grib_params = {'engine':'cfgrib', 'backend_kwargs':{'indexpath':''}}"
   ]
  },
  {
   "cell_type": "code",
   "execution_count": null,
   "metadata": {},
   "outputs": [],
   "source": [
    "dates = pd.date_range(start='1997-03-01', end='2019-12-01', freq='MS')"
   ]
  },
  {
   "cell_type": "code",
   "execution_count": null,
   "metadata": {},
   "outputs": [],
   "source": [
    "opath = pathlib.Path('/media/nicolasf/END19101/data/GCMs/downloads/ECMWF/PRECIP/')"
   ]
  },
  {
   "cell_type": "code",
   "execution_count": null,
   "metadata": {},
   "outputs": [],
   "source": [
    "if not opath.exists():\n",
    "    opath.mkdir(parents=True)"
   ]
  },
  {
   "cell_type": "code",
   "execution_count": null,
   "metadata": {},
   "outputs": [],
   "source": [
    "for date in dates: \n",
    "    \n",
    "    year = date.year \n",
    "    \n",
    "    month = date.month \n",
    "    \n",
    "    print(f\"downloading and processing {year} {str(month).zfill(2)}\")\n",
    "    \n",
    "    while not opath.joinpath(f'CDS_ECMWF_PRECIP_{year}_{str(month).zfill(2)}.nc').exists():\n",
    "    \n",
    "        \n",
    "        c = cdsapi.Client(timeout=60, sleep_max=30)\n",
    "        \n",
    "        \n",
    "        for step in range(1, 7):\n",
    "\n",
    "            data = c.retrieve(\n",
    "                'seasonal-monthly-single-levels',\n",
    "                {\n",
    "                    'originating_centre': 'ecmwf',\n",
    "                    'system': '5',\n",
    "                    'variable': 'total_precipitation',\n",
    "                    'product_type': 'monthly_mean',\n",
    "                    'year': str(year),\n",
    "                    'month': str(month).zfill(2),\n",
    "                    'leadtime_month': str(step),\n",
    "                    'format': 'netcdf',\n",
    "                },\n",
    "                f'{str(opath)}/download_{step}.nc')\n",
    "\n",
    "            data.delete()\n",
    "\n",
    "        lfiles = list(opath.glob(\"download_?.nc\"))\n",
    "\n",
    "        lfiles.sort()\n",
    "\n",
    "        dset = xr.open_mfdataset(lfiles, concat_dim=['time']) \n",
    "\n",
    "        dset = dset.rename({'time':'step'})\n",
    "\n",
    "        dset['time'] = (('time'), [datetime(year,month,1)])\n",
    "\n",
    "        dset.to_netcdf(opath.joinpath(f'CDS_ECMWF_PRECIP_{year}_{str(month).zfill(2)}.nc'))\n",
    "\n",
    "        if opath.joinpath(f'CDS_ECMWF_PRECIP_{year}_{str(month).zfill(2)}.nc').exists(): \n",
    "            print(f\"{str(opath.joinpath(f'CDS_ECMWF_PRECIP_{year}_{str(month).zfill(2)}.nc'))} has been saved OK ...\")\n",
    "\n",
    "            [fname.unlink(missing_ok=False) for fname in lfiles] \n",
    "\n",
    "        dset.close()\n",
    "        "
   ]
  },
  {
   "cell_type": "code",
   "execution_count": null,
   "metadata": {},
   "outputs": [],
   "source": []
  }
 ],
 "metadata": {
  "kernelspec": {
   "display_name": "Python 3",
   "language": "python",
   "name": "python3"
  },
  "language_info": {
   "codemirror_mode": {
    "name": "ipython",
    "version": 3
   },
   "file_extension": ".py",
   "mimetype": "text/x-python",
   "name": "python",
   "nbconvert_exporter": "python",
   "pygments_lexer": "ipython3",
   "version": "3.8.5"
  }
 },
 "nbformat": 4,
 "nbformat_minor": 4
}
