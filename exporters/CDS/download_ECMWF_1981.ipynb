{
 "cells": [
  {
   "cell_type": "code",
   "execution_count": 1,
   "metadata": {},
   "outputs": [],
   "source": [
    "%matplotlib inline"
   ]
  },
  {
   "cell_type": "code",
   "execution_count": 2,
   "metadata": {},
   "outputs": [],
   "source": [
    "import cdsapi\n",
    "import os\n",
    "import urllib\n",
    "import pathlib\n",
    "import argparse\n",
    "from datetime import datetime\n",
    "import multiprocessing\n",
    "from multiprocessing.pool import Pool"
   ]
  },
  {
   "cell_type": "code",
   "execution_count": 3,
   "metadata": {},
   "outputs": [],
   "source": [
    "import numpy as np\n",
    "import pandas as pd\n",
    "import xarray as xr"
   ]
  },
  {
   "cell_type": "code",
   "execution_count": 4,
   "metadata": {},
   "outputs": [],
   "source": [
    "# grib_params = {'engine':'cfgrib', 'backend_kwargs':{'indexpath':''}}"
   ]
  },
  {
   "cell_type": "code",
   "execution_count": 5,
   "metadata": {},
   "outputs": [],
   "source": [
    "dates = pd.date_range(start='1990-03-01', end='2019-12-01', freq='MS')"
   ]
  },
  {
   "cell_type": "code",
   "execution_count": 6,
   "metadata": {},
   "outputs": [],
   "source": [
    "c = cdsapi.Client()"
   ]
  },
  {
   "cell_type": "code",
   "execution_count": 7,
   "metadata": {},
   "outputs": [],
   "source": [
    "opath = pathlib.Path('/media/nicolasf/END19101/data/GCMs/downloads/ECMWF/PRECIP/')"
   ]
  },
  {
   "cell_type": "code",
   "execution_count": 8,
   "metadata": {},
   "outputs": [],
   "source": [
    "if not opath.exists():\n",
    "    opath.mkdir(parents=True)"
   ]
  },
  {
   "cell_type": "code",
   "execution_count": null,
   "metadata": {},
   "outputs": [
    {
     "name": "stdout",
     "output_type": "stream",
     "text": [
      "downloading and processing 1990 03\n"
     ]
    },
    {
     "name": "stderr",
     "output_type": "stream",
     "text": [
      "2020-09-05 21:17:22,344 INFO Welcome to the CDS\n",
      "2020-09-05 21:17:22,345 INFO Sending request to https://cds.climate.copernicus.eu/api/v2/resources/seasonal-monthly-single-levels\n",
      "2020-09-05 21:17:23,775 INFO Request is completed\n",
      "2020-09-05 21:17:23,776 INFO Downloading http://136.156.132.153/cache-compute-0002/cache/data0/adaptor.mars.external-1599297118.1221259-9232-17-51c87ce2-c520-4252-902e-cf61e2afa3a3.nc to /media/nicolasf/END19101/data/GCMs/downloads/ECMWF/PRECIP/download_1.nc (3.1M)\n",
      "2020-09-05 21:17:34,751 INFO Download rate 290.3K/s \n",
      "2020-09-05 21:17:39,752 INFO Welcome to the CDS\n",
      "2020-09-05 21:17:39,753 INFO Sending request to https://cds.climate.copernicus.eu/api/v2/resources/seasonal-monthly-single-levels\n",
      "2020-09-05 21:17:41,285 INFO Request is completed\n",
      "2020-09-05 21:17:41,287 INFO Downloading http://136.156.133.39/cache-compute-0012/cache/data3/adaptor.mars.external-1599297141.8856213-7470-3-88466500-7d4e-4b0d-8724-8940d48c9646.nc to /media/nicolasf/END19101/data/GCMs/downloads/ECMWF/PRECIP/download_2.nc (3.1M)\n",
      "2020-09-05 21:17:48,264 INFO Download rate 456.6K/s \n",
      "2020-09-05 21:17:49,889 INFO Welcome to the CDS\n",
      "2020-09-05 21:17:49,891 INFO Sending request to https://cds.climate.copernicus.eu/api/v2/resources/seasonal-monthly-single-levels\n",
      "2020-09-05 21:17:51,423 INFO Request is queued\n",
      "2020-09-05 21:17:52,755 INFO Request is running\n",
      "2020-09-05 21:17:57,156 INFO Request is completed\n",
      "2020-09-05 21:17:57,157 INFO Downloading http://136.156.133.42/cache-compute-0014/cache/data1/adaptor.mars.external-1599297472.41367-1074-28-583431b9-401f-4055-88f6-2716684cbf44.nc to /media/nicolasf/END19101/data/GCMs/downloads/ECMWF/PRECIP/download_3.nc (3.1M)\n",
      "2020-09-05 21:18:05,531 INFO Download rate 380.4K/s \n",
      "2020-09-05 21:18:07,094 INFO Welcome to the CDS\n",
      "2020-09-05 21:18:07,096 INFO Sending request to https://cds.climate.copernicus.eu/api/v2/resources/seasonal-monthly-single-levels\n",
      "2020-09-05 21:18:08,358 INFO Request is queued\n",
      "2020-09-05 21:18:09,650 INFO Request is running\n",
      "2020-09-05 21:18:17,717 INFO Request is completed\n",
      "2020-09-05 21:18:17,719 INFO Downloading http://136.156.132.236/cache-compute-0007/cache/data3/adaptor.mars.external-1599297489.2002635-26103-27-54b9d68f-3fc5-417c-bb5f-e62a6664b17c.nc to /media/nicolasf/END19101/data/GCMs/downloads/ECMWF/PRECIP/download_4.nc (3.1M)\n",
      "2020-09-05 21:18:24,408 INFO Download rate 476.2K/s \n",
      "2020-09-05 21:18:26,164 INFO Welcome to the CDS\n",
      "2020-09-05 21:18:26,167 INFO Sending request to https://cds.climate.copernicus.eu/api/v2/resources/seasonal-monthly-single-levels\n",
      "2020-09-05 21:18:27,672 INFO Request is queued\n",
      "2020-09-05 21:18:29,004 INFO Request is running\n",
      "2020-09-05 21:18:33,406 INFO Request is completed\n",
      "2020-09-05 21:18:33,407 INFO Downloading http://136.156.132.153/cache-compute-0002/cache/data9/adaptor.mars.external-1599297508.9172573-13195-9-97f9b499-98ae-48ca-914c-3685624d7a6f.nc to /media/nicolasf/END19101/data/GCMs/downloads/ECMWF/PRECIP/download_5.nc (3.1M)\n",
      "2020-09-05 21:18:44,024 INFO Download rate 300K/s   \n",
      "2020-09-05 21:18:45,698 INFO Welcome to the CDS\n",
      "2020-09-05 21:18:45,700 INFO Sending request to https://cds.climate.copernicus.eu/api/v2/resources/seasonal-monthly-single-levels\n",
      "2020-09-05 21:18:47,129 INFO Request is queued\n",
      "2020-09-05 21:18:50,302 INFO Request is running\n",
      "2020-09-05 21:19:01,977 INFO Request is completed\n",
      "2020-09-05 21:19:01,978 INFO Downloading http://136.156.132.105/cache-compute-0000/cache/data2/adaptor.mars.external-1599297529.5118685-12278-3-07436b9f-b590-4f7a-97e7-8cd9af6e29bd.nc to /media/nicolasf/END19101/data/GCMs/downloads/ECMWF/PRECIP/download_6.nc (3.1M)\n",
      "2020-09-05 21:19:09,672 INFO Download rate 414K/s   \n",
      "2020-09-05 21:19:40,076 WARNING DELETE https://cds.climate.copernicus.eu/api/v2/tasks/07436b9f-b590-4f7a-97e7-8cd9af6e29bd returns 504 Gateway Time-out\n"
     ]
    },
    {
     "name": "stdout",
     "output_type": "stream",
     "text": [
      "/media/nicolasf/END19101/data/GCMs/downloads/ECMWF/PRECIP/CDS_ECMWF_PRECIP_1990_03.nc has been saved OK ...\n",
      "downloading and processing 1990 04\n"
     ]
    },
    {
     "name": "stderr",
     "output_type": "stream",
     "text": [
      "2020-09-05 21:19:41,622 INFO Welcome to the CDS\n",
      "2020-09-05 21:19:41,624 INFO Sending request to https://cds.climate.copernicus.eu/api/v2/resources/seasonal-monthly-single-levels\n",
      "2020-09-05 21:19:57,581 INFO Request is queued\n",
      "2020-09-05 21:19:58,867 INFO Request is running\n",
      "2020-09-05 21:20:03,315 INFO Request is completed\n",
      "2020-09-05 21:20:03,317 INFO Downloading http://136.156.132.236/cache-compute-0007/cache/data9/adaptor.mars.external-1599297598.3882947-31258-29-f5ecd079-557f-4800-a6ee-f1d4005c3ad9.nc to /media/nicolasf/END19101/data/GCMs/downloads/ECMWF/PRECIP/download_1.nc (3.1M)\n",
      "2020-09-05 21:20:09,979 INFO Download rate 478.2K/s \n",
      "2020-09-05 21:20:11,817 INFO Welcome to the CDS\n",
      "2020-09-05 21:20:11,818 INFO Sending request to https://cds.climate.copernicus.eu/api/v2/resources/seasonal-monthly-single-levels\n",
      "2020-09-05 21:20:13,862 INFO Request is queued\n",
      "2020-09-05 21:20:15,193 INFO Request is running\n",
      "2020-09-05 21:20:17,036 INFO Request is completed\n",
      "2020-09-05 21:20:17,038 INFO Downloading http://136.156.133.46/cache-compute-0015/cache/data5/adaptor.mars.external-1599297614.027404-25665-37-db63eb02-f43c-4791-b076-df92f99ef82a.nc to /media/nicolasf/END19101/data/GCMs/downloads/ECMWF/PRECIP/download_2.nc (3.1M)\n",
      "2020-09-05 21:20:24,529 INFO Download rate 425.3K/s \n",
      "2020-09-05 21:20:26,794 INFO Welcome to the CDS\n",
      "2020-09-05 21:20:26,794 INFO Sending request to https://cds.climate.copernicus.eu/api/v2/resources/seasonal-monthly-single-levels\n",
      "2020-09-05 21:20:28,132 INFO Request is queued\n",
      "2020-09-05 21:20:31,372 INFO Request is running\n",
      "2020-09-05 21:20:43,045 INFO Request is completed\n",
      "2020-09-05 21:20:43,046 INFO Downloading http://136.156.132.110/cache-compute-0001/cache/data5/adaptor.mars.external-1599297629.835669-4836-1-04f81442-8d0a-46df-9f65-d45f8759b483.nc to /media/nicolasf/END19101/data/GCMs/downloads/ECMWF/PRECIP/download_3.nc (3.1M)\n",
      "2020-09-05 21:20:51,153 INFO Download rate 392.9K/s \n",
      "2020-09-05 21:20:53,187 INFO Welcome to the CDS\n",
      "2020-09-05 21:20:53,189 INFO Sending request to https://cds.climate.copernicus.eu/api/v2/resources/seasonal-monthly-single-levels\n",
      "2020-09-05 21:20:55,027 INFO Request is queued\n",
      "2020-09-05 21:20:56,303 INFO Request is running\n",
      "2020-09-05 21:21:09,671 INFO Request is completed\n",
      "2020-09-05 21:21:09,673 INFO Downloading http://136.156.132.110/cache-compute-0001/cache/data9/adaptor.mars.external-1599297656.119919-17119-17-88f6041d-54e2-43e6-ad28-6fd72ef0a7b6.nc to /media/nicolasf/END19101/data/GCMs/downloads/ECMWF/PRECIP/download_4.nc (3.1M)\n",
      "2020-09-05 21:21:18,076 INFO Download rate 379.1K/s \n",
      "2020-09-05 21:21:19,811 INFO Welcome to the CDS\n",
      "2020-09-05 21:21:19,812 INFO Sending request to https://cds.climate.copernicus.eu/api/v2/resources/seasonal-monthly-single-levels\n",
      "2020-09-05 21:21:21,342 INFO Request is queued\n",
      "2020-09-05 21:21:22,676 INFO Request is running\n",
      "2020-09-05 21:21:30,867 INFO Request is completed\n",
      "2020-09-05 21:21:30,869 INFO Downloading http://136.156.133.25/cache-compute-0008/cache/data4/adaptor.mars.external-1599297682.3032115-28259-35-b997cbfa-8012-4abc-aaf0-a4ced7d255b3.nc to /media/nicolasf/END19101/data/GCMs/downloads/ECMWF/PRECIP/download_5.nc (3.1M)\n",
      "2020-09-05 21:21:38,984 INFO Download rate 392.6K/s \n",
      "2020-09-05 21:21:40,701 INFO Welcome to the CDS\n",
      "2020-09-05 21:21:40,702 INFO Sending request to https://cds.climate.copernicus.eu/api/v2/resources/seasonal-monthly-single-levels\n",
      "2020-09-05 21:21:42,131 INFO Request is queued\n",
      "2020-09-05 21:21:43,463 INFO Request is running\n",
      "2020-09-05 21:21:56,979 INFO Request is completed\n",
      "2020-09-05 21:21:56,981 INFO Downloading http://136.156.132.236/cache-compute-0007/cache/data9/adaptor.mars.external-1599297702.7238874-5510-9-0af50f9d-c82b-405c-a7e2-f2748f976682.nc to /media/nicolasf/END19101/data/GCMs/downloads/ECMWF/PRECIP/download_6.nc (3.1M)\n",
      "2020-09-05 21:22:02,871 INFO Download rate 540.9K/s \n"
     ]
    },
    {
     "name": "stdout",
     "output_type": "stream",
     "text": [
      "/media/nicolasf/END19101/data/GCMs/downloads/ECMWF/PRECIP/CDS_ECMWF_PRECIP_1990_04.nc has been saved OK ...\n",
      "downloading and processing 1990 05\n"
     ]
    },
    {
     "name": "stderr",
     "output_type": "stream",
     "text": [
      "2020-09-05 21:22:04,557 INFO Welcome to the CDS\n",
      "2020-09-05 21:22:04,558 INFO Sending request to https://cds.climate.copernicus.eu/api/v2/resources/seasonal-monthly-single-levels\n",
      "2020-09-05 21:22:05,891 INFO Request is queued\n",
      "2020-09-05 21:22:07,162 INFO Request is running\n",
      "2020-09-05 21:22:40,191 INFO Request is completed\n",
      "2020-09-05 21:22:40,193 INFO Downloading http://136.156.132.105/cache-compute-0000/cache/data5/adaptor.mars.external-1599297726.9061399-12066-21-41380b48-0fca-4683-920b-f6df4d1e11cf.nc to /media/nicolasf/END19101/data/GCMs/downloads/ECMWF/PRECIP/download_1.nc (3.1M)\n",
      "2020-09-05 21:22:49,113 INFO Download rate 357.1K/s \n",
      "2020-09-05 21:22:50,846 INFO Welcome to the CDS\n",
      "2020-09-05 21:22:50,848 INFO Sending request to https://cds.climate.copernicus.eu/api/v2/resources/seasonal-monthly-single-levels\n",
      "2020-09-05 21:22:55,761 INFO Request is queued\n",
      "2020-09-05 21:22:57,089 INFO Request is running\n",
      "2020-09-05 21:23:30,062 INFO Request is completed\n",
      "2020-09-05 21:23:30,064 INFO Downloading http://136.156.132.236/cache-compute-0007/cache/data4/adaptor.mars.external-1599297776.3198586-6433-11-5625c734-260c-4dec-8801-e6b3c7e1dab5.nc to /media/nicolasf/END19101/data/GCMs/downloads/ECMWF/PRECIP/download_2.nc (3.1M)\n",
      "2020-09-05 21:23:36,695 INFO Download rate 480.4K/s \n",
      "2020-09-05 21:23:38,356 INFO Welcome to the CDS\n",
      "2020-09-05 21:23:38,356 INFO Sending request to https://cds.climate.copernicus.eu/api/v2/resources/seasonal-monthly-single-levels\n",
      "2020-09-05 21:23:39,789 INFO Request is queued\n",
      "2020-09-05 21:23:41,120 INFO Request is running\n",
      "2020-09-05 21:24:02,625 INFO Request is completed\n",
      "2020-09-05 21:24:02,627 INFO Downloading http://136.156.132.153/cache-compute-0002/cache/data8/adaptor.mars.external-1599297820.9338243-14749-21-13f9112d-9454-4f54-9496-277fcd9cc5e6.nc to /media/nicolasf/END19101/data/GCMs/downloads/ECMWF/PRECIP/download_3.nc (3.1M)\n",
      "2020-09-05 21:24:13,389 INFO Download rate 296K/s   \n",
      "2020-09-05 21:24:15,223 INFO Welcome to the CDS\n",
      "2020-09-05 21:24:15,225 INFO Sending request to https://cds.climate.copernicus.eu/api/v2/resources/seasonal-monthly-single-levels\n",
      "2020-09-05 21:24:16,636 INFO Request is queued\n",
      "2020-09-05 21:24:19,764 INFO Request is running\n",
      "2020-09-05 21:27:11,350 INFO Request is completed\n",
      "2020-09-05 21:27:11,352 INFO Downloading http://136.156.133.41/cache-compute-0013/cache/data9/adaptor.mars.external-1599297858.0744967-16210-30-aa199142-19f8-47b0-98c9-8c5355d35fb9.nc to /media/nicolasf/END19101/data/GCMs/downloads/ECMWF/PRECIP/download_4.nc (3.1M)\n",
      "2020-09-05 21:27:18,325 INFO Download rate 456.9K/s \n",
      "2020-09-05 21:27:19,959 INFO Welcome to the CDS\n",
      "2020-09-05 21:27:19,961 INFO Sending request to https://cds.climate.copernicus.eu/api/v2/resources/seasonal-monthly-single-levels\n",
      "2020-09-05 21:27:21,487 INFO Request is queued\n",
      "2020-09-05 21:27:22,819 INFO Request is running\n",
      "2020-09-05 21:29:18,237 INFO Request is completed\n",
      "2020-09-05 21:29:18,237 INFO Downloading http://136.156.132.198/cache-compute-0003/cache/data1/adaptor.mars.external-1599298042.2324493-21974-24-10cc5e76-7c66-49d0-845d-8f40aa6928de.nc to /media/nicolasf/END19101/data/GCMs/downloads/ECMWF/PRECIP/download_5.nc (3.1M)\n",
      "2020-09-05 21:29:26,132 INFO Download rate 403.4K/s \n",
      "2020-09-05 21:29:28,480 INFO Welcome to the CDS\n",
      "2020-09-05 21:29:28,482 INFO Sending request to https://cds.climate.copernicus.eu/api/v2/resources/seasonal-monthly-single-levels\n",
      "2020-09-05 21:29:29,769 INFO Request is queued\n",
      "2020-09-05 21:29:31,139 INFO Request is running\n",
      "2020-09-05 21:30:47,947 INFO Request is completed\n",
      "2020-09-05 21:30:47,948 INFO Downloading http://136.156.133.39/cache-compute-0012/cache/data6/adaptor.mars.external-1599298170.7815957-13433-20-bf39300c-bc0d-4560-8d75-62159030802e.nc to /media/nicolasf/END19101/data/GCMs/downloads/ECMWF/PRECIP/download_6.nc (3.1M)\n",
      "2020-09-05 21:30:54,621 INFO Download rate 477.4K/s \n"
     ]
    },
    {
     "name": "stdout",
     "output_type": "stream",
     "text": [
      "/media/nicolasf/END19101/data/GCMs/downloads/ECMWF/PRECIP/CDS_ECMWF_PRECIP_1990_05.nc has been saved OK ...\n",
      "downloading and processing 1990 06\n"
     ]
    },
    {
     "name": "stderr",
     "output_type": "stream",
     "text": [
      "2020-09-05 21:30:57,745 INFO Welcome to the CDS\n",
      "2020-09-05 21:30:57,747 INFO Sending request to https://cds.climate.copernicus.eu/api/v2/resources/seasonal-monthly-single-levels\n",
      "2020-09-05 21:30:59,833 INFO Request is queued\n",
      "2020-09-05 21:31:01,159 INFO Request is running\n",
      "2020-09-05 21:31:22,665 INFO Request is completed\n",
      "2020-09-05 21:31:22,666 INFO Downloading http://136.156.132.210/cache-compute-0005/cache/data8/adaptor.mars.external-1599298260.948264-775-11-05f30e48-3a9a-46d9-af96-a18e6382bddb.nc to /media/nicolasf/END19101/data/GCMs/downloads/ECMWF/PRECIP/download_1.nc (3.1M)\n",
      "2020-09-05 21:31:29,545 INFO Download rate 463.2K/s \n",
      "2020-09-05 21:31:31,166 INFO Welcome to the CDS\n",
      "2020-09-05 21:31:31,167 INFO Sending request to https://cds.climate.copernicus.eu/api/v2/resources/seasonal-monthly-single-levels\n",
      "2020-09-05 21:31:32,700 INFO Request is queued\n",
      "2020-09-05 21:31:34,032 INFO Request is running\n",
      "2020-09-05 21:31:35,978 INFO Request is completed\n",
      "2020-09-05 21:31:35,980 INFO Downloading http://136.156.133.39/cache-compute-0012/cache/data1/adaptor.mars.external-1599298293.4491427-8628-9-f1cdb1da-fe52-4ac4-81a6-f3fe45448c75.nc to /media/nicolasf/END19101/data/GCMs/downloads/ECMWF/PRECIP/download_2.nc (3.1M)\n",
      "2020-09-05 21:31:42,853 INFO Download rate 463.5K/s \n",
      "2020-09-05 21:31:44,685 INFO Welcome to the CDS\n",
      "2020-09-05 21:31:44,687 INFO Sending request to https://cds.climate.copernicus.eu/api/v2/resources/seasonal-monthly-single-levels\n",
      "2020-09-05 21:31:46,217 INFO Request is queued\n",
      "2020-09-05 21:31:49,393 INFO Request is running\n",
      "2020-09-05 21:31:55,640 INFO Request is completed\n",
      "2020-09-05 21:31:55,642 INFO Downloading http://136.156.132.153/cache-compute-0002/cache/data9/adaptor.mars.external-1599298308.3136065-18330-29-c3b9230b-a24c-4c67-925b-b48dd2577bb4.nc to /media/nicolasf/END19101/data/GCMs/downloads/ECMWF/PRECIP/download_3.nc (3.1M)\n",
      "2020-09-05 21:32:05,897 INFO Download rate 310.7K/s \n",
      "2020-09-05 21:32:07,522 INFO Welcome to the CDS\n",
      "2020-09-05 21:32:07,523 INFO Sending request to https://cds.climate.copernicus.eu/api/v2/resources/seasonal-monthly-single-levels\n",
      "2020-09-05 21:32:09,055 INFO Request is queued\n",
      "2020-09-05 21:32:10,387 INFO Request is running\n",
      "2020-09-05 21:32:18,476 INFO Request is completed\n",
      "2020-09-05 21:32:18,477 INFO Downloading http://136.156.133.42/cache-compute-0014/cache/data9/adaptor.mars.external-1599298330.6821237-5752-11-ca885f32-3c77-4c93-b69d-907a1bb460a8.nc to /media/nicolasf/END19101/data/GCMs/downloads/ECMWF/PRECIP/download_4.nc (3.1M)\n",
      "2020-09-05 21:32:26,780 INFO Download rate 383.6K/s \n",
      "2020-09-05 21:32:28,311 INFO Welcome to the CDS\n",
      "2020-09-05 21:32:28,313 INFO Sending request to https://cds.climate.copernicus.eu/api/v2/resources/seasonal-monthly-single-levels\n",
      "2020-09-05 21:32:29,844 INFO Request is queued\n",
      "2020-09-05 21:32:31,176 INFO Request is running\n",
      "2020-09-05 21:33:04,357 INFO Request is completed\n",
      "2020-09-05 21:33:04,359 INFO Downloading http://136.156.133.32/cache-compute-0009/cache/data2/adaptor.mars.external-1599298350.3473349-6756-21-ee9739bc-8412-45c0-af6e-864cdd14fa92.nc to /media/nicolasf/END19101/data/GCMs/downloads/ECMWF/PRECIP/download_5.nc (3.1M)\n",
      "2020-09-05 21:33:13,577 INFO Download rate 345.6K/s \n",
      "2020-09-05 21:33:15,215 INFO Welcome to the CDS\n",
      "2020-09-05 21:33:15,216 INFO Sending request to https://cds.climate.copernicus.eu/api/v2/resources/seasonal-monthly-single-levels\n",
      "2020-09-05 21:33:16,473 INFO Request is queued\n",
      "2020-09-05 21:33:17,771 INFO Request is running\n",
      "2020-09-05 21:33:39,096 INFO Request is completed\n",
      "2020-09-05 21:33:39,096 INFO Downloading http://136.156.132.235/cache-compute-0006/cache/data3/adaptor.mars.external-1599298397.6029506-927-11-73d0776b-993f-4b42-95df-37592843f2cb.nc to /media/nicolasf/END19101/data/GCMs/downloads/ECMWF/PRECIP/download_6.nc (3.1M)\n",
      "2020-09-05 21:33:47,376 INFO Download rate 384.7K/s \n"
     ]
    },
    {
     "name": "stdout",
     "output_type": "stream",
     "text": [
      "/media/nicolasf/END19101/data/GCMs/downloads/ECMWF/PRECIP/CDS_ECMWF_PRECIP_1990_06.nc has been saved OK ...\n",
      "downloading and processing 1990 07\n"
     ]
    },
    {
     "name": "stderr",
     "output_type": "stream",
     "text": [
      "2020-09-05 21:33:49,729 INFO Welcome to the CDS\n",
      "2020-09-05 21:33:49,731 INFO Sending request to https://cds.climate.copernicus.eu/api/v2/resources/seasonal-monthly-single-levels\n",
      "2020-09-05 21:33:53,512 INFO Request is queued\n",
      "2020-09-05 21:33:54,844 INFO Request is running\n",
      "2020-09-05 21:33:56,686 INFO Request is completed\n",
      "2020-09-05 21:33:56,688 INFO Downloading http://136.156.133.32/cache-compute-0009/cache/data2/adaptor.mars.external-1599298434.1980615-11419-3-b78fa901-4508-428e-9789-33a8ff10d2c5.nc to /media/nicolasf/END19101/data/GCMs/downloads/ECMWF/PRECIP/download_1.nc (3.1M)\n",
      "2020-09-05 21:34:05,473 INFO Download rate 362.6K/s \n",
      "2020-09-05 21:34:07,444 INFO Welcome to the CDS\n",
      "2020-09-05 21:34:07,446 INFO Sending request to https://cds.climate.copernicus.eu/api/v2/resources/seasonal-monthly-single-levels\n",
      "2020-09-05 21:34:09,347 INFO Request is queued\n",
      "2020-09-05 21:34:10,717 INFO Request is running\n",
      "2020-09-05 21:34:43,896 INFO Request is completed\n",
      "2020-09-05 21:34:43,898 INFO Downloading http://136.156.133.39/cache-compute-0012/cache/data1/adaptor.mars.external-1599298450.0652063-19117-9-a218267f-62b1-4454-ae5a-965712fb7e13.nc to /media/nicolasf/END19101/data/GCMs/downloads/ECMWF/PRECIP/download_2.nc (3.1M)\n",
      "2020-09-05 21:34:50,708 INFO Download rate 467.7K/s \n",
      "2020-09-05 21:34:52,296 INFO Welcome to the CDS\n",
      "2020-09-05 21:34:52,297 INFO Sending request to https://cds.climate.copernicus.eu/api/v2/resources/seasonal-monthly-single-levels\n",
      "2020-09-05 21:34:54,341 INFO Request is queued\n",
      "2020-09-05 21:34:55,673 INFO Request is running\n",
      "2020-09-05 21:35:46,364 INFO Request is completed\n",
      "2020-09-05 21:35:46,366 INFO Downloading http://136.156.132.198/cache-compute-0003/cache/data5/adaptor.mars.external-1599298495.0119548-25898-21-d8195459-310b-4f3f-ae3b-4919f96eb975.nc to /media/nicolasf/END19101/data/GCMs/downloads/ECMWF/PRECIP/download_3.nc (3.1M)\n",
      "2020-09-05 21:35:53,853 INFO Download rate 425.5K/s \n",
      "2020-09-05 21:35:56,096 INFO Welcome to the CDS\n",
      "2020-09-05 21:35:56,098 INFO Sending request to https://cds.climate.copernicus.eu/api/v2/resources/seasonal-monthly-single-levels\n",
      "2020-09-05 21:35:57,730 INFO Request is queued\n",
      "2020-09-05 21:35:59,062 INFO Request is running\n",
      "2020-09-05 21:36:20,465 INFO Request is completed\n",
      "2020-09-05 21:36:20,468 INFO Downloading http://136.156.132.105/cache-compute-0000/cache/data6/adaptor.mars.external-1599298558.6483285-18034-35-7c6b6804-b0e2-4f48-86f5-8bb20434e843.nc to /media/nicolasf/END19101/data/GCMs/downloads/ECMWF/PRECIP/download_4.nc (3.1M)\n",
      "2020-09-05 21:36:28,013 INFO Download rate 422.2K/s \n",
      "2020-09-05 21:36:29,697 INFO Welcome to the CDS\n",
      "2020-09-05 21:36:29,699 INFO Sending request to https://cds.climate.copernicus.eu/api/v2/resources/seasonal-monthly-single-levels\n",
      "2020-09-05 21:36:30,941 INFO Request is queued\n",
      "2020-09-05 21:36:34,290 INFO Request is running\n",
      "2020-09-05 21:36:36,851 INFO Request is completed\n",
      "2020-09-05 21:36:36,853 INFO Downloading http://136.156.133.42/cache-compute-0014/cache/data7/adaptor.mars.external-1599298592.8557768-535-21-862df6e8-ecd7-4c80-b716-4243b1ad83b9.nc to /media/nicolasf/END19101/data/GCMs/downloads/ECMWF/PRECIP/download_5.nc (3.1M)\n",
      "2020-09-05 21:36:45,368 INFO Download rate 374.1K/s \n",
      "2020-09-05 21:36:46,992 INFO Welcome to the CDS\n",
      "2020-09-05 21:36:46,993 INFO Sending request to https://cds.climate.copernicus.eu/api/v2/resources/seasonal-monthly-single-levels\n",
      "2020-09-05 21:36:48,423 INFO Request is queued\n",
      "2020-09-05 21:36:49,756 INFO Request is running\n",
      "2020-09-05 21:37:11,054 INFO Request is completed\n",
      "2020-09-05 21:37:11,056 INFO Downloading http://136.156.133.36/cache-compute-0010/cache/data4/adaptor.mars.external-1599298609.3932145-28867-7-46f203ca-443e-4004-b441-0dd2ebca1847.nc to /media/nicolasf/END19101/data/GCMs/downloads/ECMWF/PRECIP/download_6.nc (3.1M)\n",
      "2020-09-05 21:37:19,057 INFO Download rate 398.2K/s \n"
     ]
    },
    {
     "name": "stdout",
     "output_type": "stream",
     "text": [
      "/media/nicolasf/END19101/data/GCMs/downloads/ECMWF/PRECIP/CDS_ECMWF_PRECIP_1990_07.nc has been saved OK ...\n",
      "downloading and processing 1990 08\n"
     ]
    },
    {
     "name": "stderr",
     "output_type": "stream",
     "text": [
      "2020-09-05 21:37:21,093 INFO Welcome to the CDS\n",
      "2020-09-05 21:37:21,095 INFO Sending request to https://cds.climate.copernicus.eu/api/v2/resources/seasonal-monthly-single-levels\n",
      "2020-09-05 21:37:23,036 INFO Request is queued\n",
      "2020-09-05 21:37:24,323 INFO Request is running\n",
      "2020-09-05 21:37:45,770 INFO Request is completed\n",
      "2020-09-05 21:37:45,773 INFO Downloading http://136.156.133.36/cache-compute-0010/cache/data1/adaptor.mars.external-1599298643.9386747-27221-39-d49fd32c-41dd-439f-9bbc-de60bbb8aca9.nc to /media/nicolasf/END19101/data/GCMs/downloads/ECMWF/PRECIP/download_1.nc (3.1M)\n",
      "2020-09-05 21:37:54,076 INFO Download rate 383.6K/s \n",
      "2020-09-05 21:37:55,604 INFO Welcome to the CDS\n",
      "2020-09-05 21:37:55,605 INFO Sending request to https://cds.climate.copernicus.eu/api/v2/resources/seasonal-monthly-single-levels\n",
      "2020-09-05 21:37:56,922 INFO Request is queued\n",
      "2020-09-05 21:38:00,107 INFO Request is running\n",
      "2020-09-05 21:38:06,354 INFO Request is completed\n",
      "2020-09-05 21:38:06,356 INFO Downloading http://136.156.132.105/cache-compute-0000/cache/data5/adaptor.mars.external-1599298678.1941-23907-21-7f5d3aab-bf30-40dc-b8fc-4fcc321db3a1.nc to /media/nicolasf/END19101/data/GCMs/downloads/ECMWF/PRECIP/download_2.nc (3.1M)\n",
      "2020-09-05 21:38:14,357 INFO Download rate 398.2K/s \n",
      "2020-09-05 21:38:15,881 INFO Welcome to the CDS\n",
      "2020-09-05 21:38:15,883 INFO Sending request to https://cds.climate.copernicus.eu/api/v2/resources/seasonal-monthly-single-levels\n",
      "2020-09-05 21:38:17,132 INFO Request is queued\n",
      "2020-09-05 21:38:20,281 INFO Request is running\n",
      "2020-09-05 21:38:26,499 INFO Request is completed\n",
      "2020-09-05 21:38:26,501 INFO Downloading http://136.156.133.37/cache-compute-0011/cache/data4/adaptor.mars.external-1599298698.4272914-7017-29-12e971b4-4351-4804-8980-358bf35ab9f2.nc to /media/nicolasf/END19101/data/GCMs/downloads/ECMWF/PRECIP/download_3.nc (3.1M)\n",
      "2020-09-05 21:38:31,556 INFO Download rate 630.4K/s \n",
      "2020-09-05 21:38:33,494 INFO Welcome to the CDS\n",
      "2020-09-05 21:38:33,496 INFO Sending request to https://cds.climate.copernicus.eu/api/v2/resources/seasonal-monthly-single-levels\n",
      "2020-09-05 21:38:34,925 INFO Request is queued\n",
      "2020-09-05 21:38:36,256 INFO Request is running\n",
      "2020-09-05 21:38:40,660 INFO Request is completed\n",
      "2020-09-05 21:38:40,661 INFO Downloading http://136.156.132.110/cache-compute-0001/cache/data0/adaptor.mars.external-1599298715.3282344-15844-9-03af3b46-1312-4181-b6db-8081bdf46ec7.nc to /media/nicolasf/END19101/data/GCMs/downloads/ECMWF/PRECIP/download_4.nc (3.1M)\n",
      "2020-09-05 21:38:48,557 INFO Download rate 403.5K/s \n",
      "2020-09-05 21:38:50,548 INFO Welcome to the CDS\n",
      "2020-09-05 21:38:50,549 INFO Sending request to https://cds.climate.copernicus.eu/api/v2/resources/seasonal-monthly-single-levels\n",
      "2020-09-05 21:38:54,280 INFO Request is queued\n",
      "2020-09-05 21:38:55,612 INFO Request is running\n",
      "2020-09-05 21:39:09,128 INFO Request is completed\n",
      "2020-09-05 21:39:09,130 INFO Downloading http://136.156.132.110/cache-compute-0001/cache/data3/adaptor.mars.external-1599298735.057341-16389-19-2096688e-9d98-4102-a5ab-e0bb749af0f7.nc to /media/nicolasf/END19101/data/GCMs/downloads/ECMWF/PRECIP/download_5.nc (3.1M)\n",
      "2020-09-05 21:39:17,224 INFO Download rate 393.6K/s \n",
      "2020-09-05 21:39:19,269 INFO Welcome to the CDS\n",
      "2020-09-05 21:39:19,271 INFO Sending request to https://cds.climate.copernicus.eu/api/v2/resources/seasonal-monthly-single-levels\n",
      "2020-09-05 21:39:20,495 INFO Request is queued\n",
      "2020-09-05 21:39:21,818 INFO Request is running\n",
      "2020-09-05 21:39:29,896 INFO Request is completed\n",
      "2020-09-05 21:39:29,898 INFO Downloading http://136.156.133.41/cache-compute-0013/cache/data1/adaptor.mars.external-1599298761.720132-9405-33-3bce2c0c-c92b-476b-aa70-43011b025f5b.nc to /media/nicolasf/END19101/data/GCMs/downloads/ECMWF/PRECIP/download_6.nc (3.1M)\n",
      "2020-09-05 21:39:36,405 INFO Download rate 489.6K/s \n"
     ]
    },
    {
     "name": "stdout",
     "output_type": "stream",
     "text": [
      "/media/nicolasf/END19101/data/GCMs/downloads/ECMWF/PRECIP/CDS_ECMWF_PRECIP_1990_08.nc has been saved OK ...\n",
      "downloading and processing 1990 09\n"
     ]
    },
    {
     "name": "stderr",
     "output_type": "stream",
     "text": [
      "2020-09-05 21:39:40,058 INFO Welcome to the CDS\n",
      "2020-09-05 21:39:40,060 INFO Sending request to https://cds.climate.copernicus.eu/api/v2/resources/seasonal-monthly-single-levels\n",
      "2020-09-05 21:39:41,666 INFO Request is queued\n",
      "2020-09-05 21:39:44,868 INFO Request is running\n",
      "2020-09-05 21:40:16,152 INFO Request is completed\n",
      "2020-09-05 21:40:16,153 INFO Downloading http://136.156.132.105/cache-compute-0000/cache/data4/adaptor.mars.external-1599298782.8691733-23907-33-a01a2062-1488-4973-bf54-7782fc48f217.nc to /media/nicolasf/END19101/data/GCMs/downloads/ECMWF/PRECIP/download_1.nc (3.1M)\n",
      "2020-09-05 21:40:24,196 INFO Download rate 396.1K/s \n",
      "2020-09-05 21:40:26,244 INFO Welcome to the CDS\n",
      "2020-09-05 21:40:26,246 INFO Sending request to https://cds.climate.copernicus.eu/api/v2/resources/seasonal-monthly-single-levels\n",
      "2020-09-05 21:40:40,884 INFO Request is queued\n",
      "2020-09-05 21:41:15,498 INFO Request is completed\n",
      "2020-09-05 21:41:15,500 INFO Downloading http://136.156.133.37/cache-compute-0011/cache/data4/adaptor.mars.external-1599298864.4932582-9217-7-aa617768-08bc-4649-a1b7-416590fa0357.nc to /media/nicolasf/END19101/data/GCMs/downloads/ECMWF/PRECIP/download_2.nc (3.1M)\n",
      "2020-09-05 21:41:20,541 INFO Download rate 632K/s   \n",
      "2020-09-05 21:41:22,360 INFO Welcome to the CDS\n",
      "2020-09-05 21:41:22,361 INFO Sending request to https://cds.climate.copernicus.eu/api/v2/resources/seasonal-monthly-single-levels\n",
      "2020-09-05 21:41:23,893 INFO Request is queued\n",
      "2020-09-05 21:41:27,068 INFO Request is running\n",
      "2020-09-05 21:41:33,314 INFO Request is completed\n",
      "2020-09-05 21:41:33,316 INFO Downloading http://136.156.133.42/cache-compute-0014/cache/data0/adaptor.mars.external-1599298885.5458694-19541-37-072d9d10-e3fd-42eb-9901-a4098672cf33.nc to /media/nicolasf/END19101/data/GCMs/downloads/ECMWF/PRECIP/download_3.nc (3.1M)\n",
      "2020-09-05 21:41:41,819 INFO Download rate 374.6K/s \n",
      "2020-09-05 21:41:43,558 INFO Welcome to the CDS\n",
      "2020-09-05 21:41:43,560 INFO Sending request to https://cds.climate.copernicus.eu/api/v2/resources/seasonal-monthly-single-levels\n",
      "2020-09-05 21:41:48,778 INFO Request is queued\n",
      "2020-09-05 21:41:50,108 INFO Request is running\n",
      "2020-09-05 21:41:58,197 INFO Request is completed\n",
      "2020-09-05 21:41:58,198 INFO Downloading http://136.156.133.46/cache-compute-0015/cache/data7/adaptor.mars.external-1599298909.4210656-22003-1-184a13a3-f51e-4ff7-92a8-9d507eb5bee9.nc to /media/nicolasf/END19101/data/GCMs/downloads/ECMWF/PRECIP/download_4.nc (3.1M)\n",
      "2020-09-05 21:42:06,091 INFO Download rate 403.5K/s \n",
      "2020-09-05 21:42:07,726 INFO Welcome to the CDS\n",
      "2020-09-05 21:42:07,727 INFO Sending request to https://cds.climate.copernicus.eu/api/v2/resources/seasonal-monthly-single-levels\n"
     ]
    }
   ],
   "source": [
    "for date in dates: \n",
    "    \n",
    "    year = date.year \n",
    "    \n",
    "    month = date.month \n",
    "    \n",
    "    print(f\"downloading and processing {year} {str(month).zfill(2)}\")\n",
    "    \n",
    "    for step in range(1, 7):\n",
    "\n",
    "        c = cdsapi.Client()\n",
    "        \n",
    "        data = c.retrieve(\n",
    "            'seasonal-monthly-single-levels',\n",
    "            {\n",
    "                'originating_centre': 'ecmwf',\n",
    "                'system': '5',\n",
    "                'variable': 'total_precipitation',\n",
    "                'product_type': 'monthly_mean',\n",
    "                'year': str(year),\n",
    "                'month': str(month).zfill(2),\n",
    "                'leadtime_month': str(step),\n",
    "                'format': 'netcdf',\n",
    "            },\n",
    "            f'{str(opath)}/download_{step}.nc')\n",
    "        \n",
    "        data.delete()\n",
    "    \n",
    "    lfiles = list(opath.glob(\"download_?.nc\"))\n",
    "    \n",
    "    lfiles.sort()\n",
    "    \n",
    "    dset = xr.open_mfdataset(lfiles, concat_dim=['time']) \n",
    "    \n",
    "    dset = dset.rename({'time':'step'})\n",
    "    \n",
    "    dset['time'] = (('time'), [datetime(year,month,1)])\n",
    "    \n",
    "    dset.to_netcdf(opath.joinpath(f'CDS_ECMWF_PRECIP_{year}_{str(month).zfill(2)}.nc'))\n",
    "    \n",
    "    if opath.joinpath(f'CDS_ECMWF_PRECIP_{year}_{str(month).zfill(2)}.nc').exists(): \n",
    "        print(f\"{str(opath.joinpath(f'CDS_ECMWF_PRECIP_{year}_{str(month).zfill(2)}.nc'))} has been saved OK ...\")\n",
    "    \n",
    "        [fname.unlink(missing_ok=False) for fname in lfiles] \n",
    "    \n",
    "    dset.close()\n",
    "        "
   ]
  },
  {
   "cell_type": "code",
   "execution_count": null,
   "metadata": {},
   "outputs": [],
   "source": []
  }
 ],
 "metadata": {
  "kernelspec": {
   "display_name": "Python 3",
   "language": "python",
   "name": "python3"
  },
  "language_info": {
   "codemirror_mode": {
    "name": "ipython",
    "version": 3
   },
   "file_extension": ".py",
   "mimetype": "text/x-python",
   "name": "python",
   "nbconvert_exporter": "python",
   "pygments_lexer": "ipython3",
   "version": "3.8.5"
  }
 },
 "nbformat": 4,
 "nbformat_minor": 4
}
