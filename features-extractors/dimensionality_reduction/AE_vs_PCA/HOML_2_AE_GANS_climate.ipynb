{
 "cells": [
  {
   "cell_type": "markdown",
   "metadata": {},
   "source": [
    "# IMPORTS"
   ]
  },
  {
   "cell_type": "code",
   "execution_count": 1,
   "metadata": {},
   "outputs": [],
   "source": [
    "# Parameters \n",
    "\n",
    "provider = 'CDS'\n",
    "GCM = 'DWD'\n",
    "stage_in = \"processed\"\n",
    "period = \"hindcasts\"\n",
    "var_name = \"T2M\""
   ]
  },
  {
   "cell_type": "code",
   "execution_count": 2,
   "metadata": {},
   "outputs": [],
   "source": [
    "%matplotlib inline\n",
    "from matplotlib import pyplot as plt \n",
    "import proplot as plot"
   ]
  },
  {
   "cell_type": "code",
   "execution_count": 3,
   "metadata": {},
   "outputs": [],
   "source": [
    "import os\n",
    "import sys \n",
    "import pathlib"
   ]
  },
  {
   "cell_type": "code",
   "execution_count": 4,
   "metadata": {},
   "outputs": [],
   "source": [
    "import numpy as np \n",
    "import pandas as pd "
   ]
  },
  {
   "cell_type": "code",
   "execution_count": 5,
   "metadata": {},
   "outputs": [],
   "source": [
    "import xarray as xr"
   ]
  },
  {
   "cell_type": "markdown",
   "metadata": {},
   "source": [
    "### ML "
   ]
  },
  {
   "cell_type": "code",
   "execution_count": 6,
   "metadata": {},
   "outputs": [],
   "source": [
    "import sklearn\n",
    "from sklearn.metrics import mean_squared_error as MSE"
   ]
  },
  {
   "cell_type": "code",
   "execution_count": 7,
   "metadata": {},
   "outputs": [],
   "source": [
    "import tensorflow as tf\n",
    "from tensorflow import keras\n",
    "assert tf.__version__ >= \"2.0\""
   ]
  },
  {
   "cell_type": "code",
   "execution_count": 8,
   "metadata": {},
   "outputs": [],
   "source": [
    "if not tf.test.is_gpu_available():\n",
    "    print(\"No GPU was detected\")"
   ]
  },
  {
   "cell_type": "markdown",
   "metadata": {},
   "source": [
    "### random seeds for reproducibility "
   ]
  },
  {
   "cell_type": "code",
   "execution_count": 9,
   "metadata": {},
   "outputs": [],
   "source": [
    "np.random.seed(42)\n",
    "tf.random.set_seed(42)"
   ]
  },
  {
   "cell_type": "markdown",
   "metadata": {},
   "source": [
    "### data loading "
   ]
  },
  {
   "cell_type": "code",
   "execution_count": 10,
   "metadata": {},
   "outputs": [],
   "source": [
    "HOME = pathlib.Path.home()"
   ]
  },
  {
   "cell_type": "code",
   "execution_count": 11,
   "metadata": {},
   "outputs": [],
   "source": [
    "local = True "
   ]
  },
  {
   "cell_type": "code",
   "execution_count": 12,
   "metadata": {},
   "outputs": [],
   "source": [
    "if local: \n",
    "    dirin = pathlib.Path('research/Smart_Ideas')\n",
    "else: \n",
    "    dirin = pathlib.Path('drives/auck_projects/END19101/Working')"
   ]
  },
  {
   "cell_type": "code",
   "execution_count": 13,
   "metadata": {},
   "outputs": [],
   "source": [
    "ipath = HOME / dirin / 'data' / 'GCMs' / stage_in / period / provider / GCM / var_name"
   ]
  },
  {
   "cell_type": "code",
   "execution_count": 14,
   "metadata": {},
   "outputs": [
    {
     "data": {
      "text/plain": [
       "PosixPath('/home/nicolasf/research/Smart_Ideas/data/GCMs/processed/hindcasts/CDS/DWD/T2M')"
      ]
     },
     "execution_count": 14,
     "metadata": {},
     "output_type": "execute_result"
    }
   ],
   "source": [
    "ipath"
   ]
  },
  {
   "cell_type": "markdown",
   "metadata": {},
   "source": [
    "### loading the forecasts "
   ]
  },
  {
   "cell_type": "code",
   "execution_count": 15,
   "metadata": {},
   "outputs": [],
   "source": [
    "lfiles_nc = list(ipath.glob(f\"{GCM}_{var_name}_seasonal_anomalies_interp_????_??.nc\"))"
   ]
  },
  {
   "cell_type": "code",
   "execution_count": 16,
   "metadata": {},
   "outputs": [
    {
     "data": {
      "text/plain": [
       "288"
      ]
     },
     "execution_count": 16,
     "metadata": {},
     "output_type": "execute_result"
    }
   ],
   "source": [
    "len(lfiles_nc)"
   ]
  },
  {
   "cell_type": "code",
   "execution_count": 17,
   "metadata": {},
   "outputs": [],
   "source": [
    "lfiles_nc.sort()"
   ]
  },
  {
   "cell_type": "markdown",
   "metadata": {},
   "source": [
    "### opens the dataset "
   ]
  },
  {
   "cell_type": "code",
   "execution_count": 18,
   "metadata": {},
   "outputs": [],
   "source": [
    "dset = xr.open_mfdataset(lfiles_nc, combine='nested', concat_dim='time')"
   ]
  },
  {
   "cell_type": "code",
   "execution_count": 19,
   "metadata": {},
   "outputs": [
    {
     "data": {
      "text/html": [
       "<pre>&lt;xarray.Dataset&gt;\n",
       "Dimensions:     (lat: 73, lon: 144, member: 30, step: 3, time: 288)\n",
       "Coordinates:\n",
       "    surface     int64 0\n",
       "  * step        (step) int64 3 4 5\n",
       "  * member      (member) int64 0 1 2 3 4 5 6 7 8 ... 21 22 23 24 25 26 27 28 29\n",
       "  * lat         (lat) float64 -90.0 -87.5 -85.0 -82.5 ... 82.5 85.0 87.5 90.0\n",
       "  * lon         (lon) float64 0.0 2.5 5.0 7.5 10.0 ... 350.0 352.5 355.0 357.5\n",
       "  * time        (time) datetime64[ns] 1993-01-01 1993-02-01 ... 2016-12-01\n",
       "    month       (time) int64 1 2 3 4 5 6 7 8 9 10 11 ... 3 4 5 6 7 8 9 10 11 12\n",
       "    valid_time  (time, step) datetime64[ns] dask.array&lt;chunksize=(1, 3), meta=np.ndarray&gt;\n",
       "Data variables:\n",
       "    t2m         (time, member, step, lat, lon) float64 dask.array&lt;chunksize=(1, 30, 3, 73, 144), meta=np.ndarray&gt;\n",
       "Attributes:\n",
       "    regrid_method:  bilinear</pre>"
      ],
      "text/plain": [
       "<xarray.Dataset>\n",
       "Dimensions:     (lat: 73, lon: 144, member: 30, step: 3, time: 288)\n",
       "Coordinates:\n",
       "    surface     int64 0\n",
       "  * step        (step) int64 3 4 5\n",
       "  * member      (member) int64 0 1 2 3 4 5 6 7 8 ... 21 22 23 24 25 26 27 28 29\n",
       "  * lat         (lat) float64 -90.0 -87.5 -85.0 -82.5 ... 82.5 85.0 87.5 90.0\n",
       "  * lon         (lon) float64 0.0 2.5 5.0 7.5 10.0 ... 350.0 352.5 355.0 357.5\n",
       "  * time        (time) datetime64[ns] 1993-01-01 1993-02-01 ... 2016-12-01\n",
       "    month       (time) int64 1 2 3 4 5 6 7 8 9 10 11 ... 3 4 5 6 7 8 9 10 11 12\n",
       "    valid_time  (time, step) datetime64[ns] dask.array<chunksize=(1, 3), meta=np.ndarray>\n",
       "Data variables:\n",
       "    t2m         (time, member, step, lat, lon) float64 dask.array<chunksize=(1, 30, 3, 73, 144), meta=np.ndarray>\n",
       "Attributes:\n",
       "    regrid_method:  bilinear"
      ]
     },
     "execution_count": 19,
     "metadata": {},
     "output_type": "execute_result"
    }
   ],
   "source": [
    "dset"
   ]
  },
  {
   "cell_type": "markdown",
   "metadata": {},
   "source": [
    "### only select step 3, and restrict geographical coverage "
   ]
  },
  {
   "cell_type": "code",
   "execution_count": 20,
   "metadata": {},
   "outputs": [],
   "source": [
    "dset = dset.sel(step=3, lat=slice(-65, 65), lon=slice(90, 220))"
   ]
  },
  {
   "cell_type": "code",
   "execution_count": 21,
   "metadata": {},
   "outputs": [],
   "source": [
    "nx, ny = len(dset.lon), len(dset.lat)"
   ]
  },
  {
   "cell_type": "code",
   "execution_count": 22,
   "metadata": {},
   "outputs": [
    {
     "data": {
      "text/plain": [
       "(53, 53)"
      ]
     },
     "execution_count": 22,
     "metadata": {},
     "output_type": "execute_result"
    }
   ],
   "source": [
    "nx, ny"
   ]
  },
  {
   "cell_type": "markdown",
   "metadata": {},
   "source": [
    "### calculates the ensemble mean "
   ]
  },
  {
   "cell_type": "code",
   "execution_count": 23,
   "metadata": {},
   "outputs": [],
   "source": [
    "dset = dset.mean('member')"
   ]
  },
  {
   "cell_type": "code",
   "execution_count": 24,
   "metadata": {},
   "outputs": [
    {
     "data": {
      "text/html": [
       "<pre>&lt;xarray.Dataset&gt;\n",
       "Dimensions:     (lat: 53, lon: 53, time: 288)\n",
       "Coordinates:\n",
       "    surface     int64 0\n",
       "    step        int64 3\n",
       "  * lat         (lat) float64 -65.0 -62.5 -60.0 -57.5 ... 57.5 60.0 62.5 65.0\n",
       "  * lon         (lon) float64 90.0 92.5 95.0 97.5 ... 212.5 215.0 217.5 220.0\n",
       "  * time        (time) datetime64[ns] 1993-01-01 1993-02-01 ... 2016-12-01\n",
       "    month       (time) int64 1 2 3 4 5 6 7 8 9 10 11 ... 3 4 5 6 7 8 9 10 11 12\n",
       "    valid_time  (time) datetime64[ns] dask.array&lt;chunksize=(1,), meta=np.ndarray&gt;\n",
       "Data variables:\n",
       "    t2m         (time, lat, lon) float64 dask.array&lt;chunksize=(1, 53, 53), meta=np.ndarray&gt;</pre>"
      ],
      "text/plain": [
       "<xarray.Dataset>\n",
       "Dimensions:     (lat: 53, lon: 53, time: 288)\n",
       "Coordinates:\n",
       "    surface     int64 0\n",
       "    step        int64 3\n",
       "  * lat         (lat) float64 -65.0 -62.5 -60.0 -57.5 ... 57.5 60.0 62.5 65.0\n",
       "  * lon         (lon) float64 90.0 92.5 95.0 97.5 ... 212.5 215.0 217.5 220.0\n",
       "  * time        (time) datetime64[ns] 1993-01-01 1993-02-01 ... 2016-12-01\n",
       "    month       (time) int64 1 2 3 4 5 6 7 8 9 10 11 ... 3 4 5 6 7 8 9 10 11 12\n",
       "    valid_time  (time) datetime64[ns] dask.array<chunksize=(1,), meta=np.ndarray>\n",
       "Data variables:\n",
       "    t2m         (time, lat, lon) float64 dask.array<chunksize=(1, 53, 53), meta=np.ndarray>"
      ]
     },
     "execution_count": 24,
     "metadata": {},
     "output_type": "execute_result"
    }
   ],
   "source": [
    "dset"
   ]
  },
  {
   "cell_type": "markdown",
   "metadata": {},
   "source": [
    "### load in memory "
   ]
  },
  {
   "cell_type": "code",
   "execution_count": 25,
   "metadata": {},
   "outputs": [
    {
     "data": {
      "text/html": [
       "<pre>&lt;xarray.Dataset&gt;\n",
       "Dimensions:     (lat: 53, lon: 53, time: 288)\n",
       "Coordinates:\n",
       "    surface     int64 0\n",
       "    step        int64 3\n",
       "  * lat         (lat) float64 -65.0 -62.5 -60.0 -57.5 ... 57.5 60.0 62.5 65.0\n",
       "  * lon         (lon) float64 90.0 92.5 95.0 97.5 ... 212.5 215.0 217.5 220.0\n",
       "  * time        (time) datetime64[ns] 1993-01-01 1993-02-01 ... 2016-12-01\n",
       "    month       (time) int64 1 2 3 4 5 6 7 8 9 10 11 ... 3 4 5 6 7 8 9 10 11 12\n",
       "    valid_time  (time) datetime64[ns] 1993-05-01 1993-06-01 ... 2017-04-01\n",
       "Data variables:\n",
       "    t2m         (time, lat, lon) float64 0.1702 0.2047 0.2736 ... 0.7505 0.818</pre>"
      ],
      "text/plain": [
       "<xarray.Dataset>\n",
       "Dimensions:     (lat: 53, lon: 53, time: 288)\n",
       "Coordinates:\n",
       "    surface     int64 0\n",
       "    step        int64 3\n",
       "  * lat         (lat) float64 -65.0 -62.5 -60.0 -57.5 ... 57.5 60.0 62.5 65.0\n",
       "  * lon         (lon) float64 90.0 92.5 95.0 97.5 ... 212.5 215.0 217.5 220.0\n",
       "  * time        (time) datetime64[ns] 1993-01-01 1993-02-01 ... 2016-12-01\n",
       "    month       (time) int64 1 2 3 4 5 6 7 8 9 10 11 ... 3 4 5 6 7 8 9 10 11 12\n",
       "    valid_time  (time) datetime64[ns] 1993-05-01 1993-06-01 ... 2017-04-01\n",
       "Data variables:\n",
       "    t2m         (time, lat, lon) float64 0.1702 0.2047 0.2736 ... 0.7505 0.818"
      ]
     },
     "execution_count": 25,
     "metadata": {},
     "output_type": "execute_result"
    }
   ],
   "source": [
    "dset.compute()"
   ]
  },
  {
   "cell_type": "code",
   "execution_count": 26,
   "metadata": {},
   "outputs": [
    {
     "data": {
      "text/html": [
       "<pre>&lt;xarray.Dataset&gt;\n",
       "Dimensions:     (lat: 53, lon: 53, time: 288)\n",
       "Coordinates:\n",
       "    surface     int64 0\n",
       "    step        int64 3\n",
       "  * lat         (lat) float64 -65.0 -62.5 -60.0 -57.5 ... 57.5 60.0 62.5 65.0\n",
       "  * lon         (lon) float64 90.0 92.5 95.0 97.5 ... 212.5 215.0 217.5 220.0\n",
       "  * time        (time) datetime64[ns] 1993-01-01 1993-02-01 ... 2016-12-01\n",
       "    month       (time) int64 1 2 3 4 5 6 7 8 9 10 11 ... 3 4 5 6 7 8 9 10 11 12\n",
       "    valid_time  (time) datetime64[ns] 1993-05-01 1993-06-01 ... 2017-04-01\n",
       "Data variables:\n",
       "    t2m         (time, lat, lon) float64 0.1702 0.2047 0.2736 ... 0.7505 0.818</pre>"
      ],
      "text/plain": [
       "<xarray.Dataset>\n",
       "Dimensions:     (lat: 53, lon: 53, time: 288)\n",
       "Coordinates:\n",
       "    surface     int64 0\n",
       "    step        int64 3\n",
       "  * lat         (lat) float64 -65.0 -62.5 -60.0 -57.5 ... 57.5 60.0 62.5 65.0\n",
       "  * lon         (lon) float64 90.0 92.5 95.0 97.5 ... 212.5 215.0 217.5 220.0\n",
       "  * time        (time) datetime64[ns] 1993-01-01 1993-02-01 ... 2016-12-01\n",
       "    month       (time) int64 1 2 3 4 5 6 7 8 9 10 11 ... 3 4 5 6 7 8 9 10 11 12\n",
       "    valid_time  (time) datetime64[ns] 1993-05-01 1993-06-01 ... 2017-04-01\n",
       "Data variables:\n",
       "    t2m         (time, lat, lon) float64 0.1702 0.2047 0.2736 ... 0.7505 0.818"
      ]
     },
     "execution_count": 26,
     "metadata": {},
     "output_type": "execute_result"
    }
   ],
   "source": [
    "dset.load()"
   ]
  },
  {
   "cell_type": "code",
   "execution_count": 27,
   "metadata": {},
   "outputs": [],
   "source": [
    "dset_train = dset.sel(time=slice(None, '2010'))"
   ]
  },
  {
   "cell_type": "code",
   "execution_count": 28,
   "metadata": {},
   "outputs": [],
   "source": [
    "dset_valid = dset.sel(time=slice('2011', None))"
   ]
  },
  {
   "cell_type": "code",
   "execution_count": 29,
   "metadata": {},
   "outputs": [
    {
     "data": {
      "text/plain": [
       "Frozen(SortedKeysDict({'lat': 53, 'lon': 53, 'time': 216}))"
      ]
     },
     "execution_count": 29,
     "metadata": {},
     "output_type": "execute_result"
    }
   ],
   "source": [
    "dset_train.dims"
   ]
  },
  {
   "cell_type": "code",
   "execution_count": 30,
   "metadata": {},
   "outputs": [
    {
     "data": {
      "text/plain": [
       "Frozen(SortedKeysDict({'lat': 53, 'lon': 53, 'time': 72}))"
      ]
     },
     "execution_count": 30,
     "metadata": {},
     "output_type": "execute_result"
    }
   ],
   "source": [
    "dset_valid.dims"
   ]
  },
  {
   "cell_type": "code",
   "execution_count": 31,
   "metadata": {},
   "outputs": [],
   "source": [
    "X_train = dset_train[var_name.lower()].data.astype(np.float32)"
   ]
  },
  {
   "cell_type": "code",
   "execution_count": 32,
   "metadata": {},
   "outputs": [],
   "source": [
    "X_valid = dset_valid[var_name.lower()].data.astype(np.float32)"
   ]
  },
  {
   "cell_type": "markdown",
   "metadata": {},
   "source": [
    "### defines the number of encodings here "
   ]
  },
  {
   "cell_type": "code",
   "execution_count": 33,
   "metadata": {},
   "outputs": [],
   "source": [
    "n_codings = 20"
   ]
  },
  {
   "cell_type": "markdown",
   "metadata": {},
   "source": [
    "### selects the activation function "
   ]
  },
  {
   "cell_type": "code",
   "execution_count": 34,
   "metadata": {},
   "outputs": [],
   "source": [
    "activation_function = 'selu'"
   ]
  },
  {
   "cell_type": "code",
   "execution_count": 35,
   "metadata": {},
   "outputs": [],
   "source": [
    "optimizer = 'adam'"
   ]
  },
  {
   "cell_type": "markdown",
   "metadata": {},
   "source": [
    "### defines the encoder "
   ]
  },
  {
   "cell_type": "code",
   "execution_count": 36,
   "metadata": {},
   "outputs": [],
   "source": [
    "stacked_encoder = keras.models.Sequential([\n",
    "    keras.layers.Flatten(input_shape=[ny, nx]),\n",
    "    keras.layers.Dense(100, activation=activation_function),\n",
    "    keras.layers.Dense(n_codings, activation=activation_function),\n",
    "])"
   ]
  },
  {
   "cell_type": "markdown",
   "metadata": {},
   "source": [
    "### defines the decoder "
   ]
  },
  {
   "cell_type": "code",
   "execution_count": 37,
   "metadata": {},
   "outputs": [],
   "source": [
    "stacked_decoder = keras.models.Sequential([\n",
    "    keras.layers.Dense(100, activation=activation_function, input_shape=[n_codings]),\n",
    "    keras.layers.Dense(ny * nx),\n",
    "    keras.layers.Reshape([ny, nx])\n",
    "])"
   ]
  },
  {
   "cell_type": "code",
   "execution_count": 38,
   "metadata": {},
   "outputs": [],
   "source": [
    "stacked_ae = keras.models.Sequential([stacked_encoder, stacked_decoder])"
   ]
  },
  {
   "cell_type": "code",
   "execution_count": 39,
   "metadata": {},
   "outputs": [],
   "source": [
    "stacked_ae.compile(loss='mean_squared_error',\n",
    "              optimizer=optimizer,\n",
    "              metrics=['mae','mse'])"
   ]
  },
  {
   "cell_type": "code",
   "execution_count": 40,
   "metadata": {},
   "outputs": [
    {
     "name": "stdout",
     "output_type": "stream",
     "text": [
      "Train on 216 samples, validate on 72 samples\n",
      "Epoch 1/20\n",
      "216/216 [==============================] - 1s 4ms/sample - loss: 0.2483 - mae: 0.3644 - mse: 0.2483 - val_loss: 0.2591 - val_mae: 0.3767 - val_mse: 0.2591\n",
      "Epoch 2/20\n",
      "216/216 [==============================] - 0s 149us/sample - loss: 0.1843 - mae: 0.3092 - mse: 0.1843 - val_loss: 0.2121 - val_mae: 0.3382 - val_mse: 0.2121\n",
      "Epoch 3/20\n",
      "216/216 [==============================] - 0s 139us/sample - loss: 0.1412 - mae: 0.2710 - mse: 0.1412 - val_loss: 0.1810 - val_mae: 0.3116 - val_mse: 0.1810\n",
      "Epoch 4/20\n",
      "216/216 [==============================] - 0s 150us/sample - loss: 0.1181 - mae: 0.2482 - mse: 0.1181 - val_loss: 0.1653 - val_mae: 0.2979 - val_mse: 0.1653\n",
      "Epoch 5/20\n",
      "216/216 [==============================] - 0s 142us/sample - loss: 0.1036 - mae: 0.2328 - mse: 0.1036 - val_loss: 0.1530 - val_mae: 0.2869 - val_mse: 0.1530\n",
      "Epoch 6/20\n",
      "216/216 [==============================] - 0s 142us/sample - loss: 0.0919 - mae: 0.2196 - mse: 0.0919 - val_loss: 0.1452 - val_mae: 0.2798 - val_mse: 0.1452\n",
      "Epoch 7/20\n",
      "216/216 [==============================] - 0s 133us/sample - loss: 0.0827 - mae: 0.2086 - mse: 0.0827 - val_loss: 0.1363 - val_mae: 0.2705 - val_mse: 0.1363\n",
      "Epoch 8/20\n",
      "216/216 [==============================] - 0s 144us/sample - loss: 0.0751 - mae: 0.1986 - mse: 0.0751 - val_loss: 0.1293 - val_mae: 0.2636 - val_mse: 0.1293\n",
      "Epoch 9/20\n",
      "216/216 [==============================] - 0s 138us/sample - loss: 0.0692 - mae: 0.1907 - mse: 0.0692 - val_loss: 0.1224 - val_mae: 0.2549 - val_mse: 0.1224\n",
      "Epoch 10/20\n",
      "216/216 [==============================] - 0s 138us/sample - loss: 0.0650 - mae: 0.1854 - mse: 0.0650 - val_loss: 0.1226 - val_mae: 0.2571 - val_mse: 0.1226\n",
      "Epoch 11/20\n",
      "216/216 [==============================] - 0s 140us/sample - loss: 0.0622 - mae: 0.1816 - mse: 0.0622 - val_loss: 0.1173 - val_mae: 0.2495 - val_mse: 0.1173\n",
      "Epoch 12/20\n",
      "216/216 [==============================] - 0s 148us/sample - loss: 0.0609 - mae: 0.1798 - mse: 0.0609 - val_loss: 0.1304 - val_mae: 0.2647 - val_mse: 0.1304\n",
      "Epoch 13/20\n",
      "216/216 [==============================] - 0s 149us/sample - loss: 0.0588 - mae: 0.1763 - mse: 0.0588 - val_loss: 0.1173 - val_mae: 0.2497 - val_mse: 0.1173\n",
      "Epoch 14/20\n",
      "216/216 [==============================] - 0s 153us/sample - loss: 0.0566 - mae: 0.1740 - mse: 0.0566 - val_loss: 0.1161 - val_mae: 0.2486 - val_mse: 0.1161\n",
      "Epoch 15/20\n",
      "216/216 [==============================] - 0s 153us/sample - loss: 0.0533 - mae: 0.1684 - mse: 0.0533 - val_loss: 0.1150 - val_mae: 0.2474 - val_mse: 0.1150\n",
      "Epoch 16/20\n",
      "216/216 [==============================] - 0s 154us/sample - loss: 0.0517 - mae: 0.1660 - mse: 0.0517 - val_loss: 0.1120 - val_mae: 0.2436 - val_mse: 0.1120\n",
      "Epoch 17/20\n",
      "216/216 [==============================] - 0s 158us/sample - loss: 0.0498 - mae: 0.1627 - mse: 0.0498 - val_loss: 0.1114 - val_mae: 0.2433 - val_mse: 0.1114\n",
      "Epoch 18/20\n",
      "216/216 [==============================] - 0s 149us/sample - loss: 0.0480 - mae: 0.1598 - mse: 0.0480 - val_loss: 0.1105 - val_mae: 0.2419 - val_mse: 0.1105\n",
      "Epoch 19/20\n",
      "216/216 [==============================] - 0s 149us/sample - loss: 0.0463 - mae: 0.1570 - mse: 0.0463 - val_loss: 0.1110 - val_mae: 0.2427 - val_mse: 0.1110\n",
      "Epoch 20/20\n",
      "216/216 [==============================] - 0s 152us/sample - loss: 0.0451 - mae: 0.1551 - mse: 0.0451 - val_loss: 0.1108 - val_mae: 0.2420 - val_mse: 0.1108\n"
     ]
    }
   ],
   "source": [
    "history = stacked_ae.fit(X_train, X_train, epochs=20,\n",
    "                         validation_data=[X_valid, X_valid])"
   ]
  },
  {
   "cell_type": "code",
   "execution_count": 41,
   "metadata": {},
   "outputs": [],
   "source": [
    "last_mse = history.history['val_mse'][-1]"
   ]
  },
  {
   "cell_type": "code",
   "execution_count": 42,
   "metadata": {},
   "outputs": [],
   "source": [
    "last_mae = history.history['val_mae'][-1]"
   ]
  },
  {
   "cell_type": "markdown",
   "metadata": {},
   "source": [
    "### look at the codings "
   ]
  },
  {
   "cell_type": "code",
   "execution_count": 43,
   "metadata": {},
   "outputs": [],
   "source": [
    "codings = stacked_encoder.predict(X_valid)"
   ]
  },
  {
   "cell_type": "code",
   "execution_count": 44,
   "metadata": {},
   "outputs": [],
   "source": [
    "reconstructions = stacked_ae.predict(X_valid)"
   ]
  },
  {
   "cell_type": "code",
   "execution_count": 45,
   "metadata": {},
   "outputs": [
    {
     "data": {
      "text/plain": [
       "(72, 20)"
      ]
     },
     "execution_count": 45,
     "metadata": {},
     "output_type": "execute_result"
    }
   ],
   "source": [
    "codings.shape"
   ]
  },
  {
   "cell_type": "code",
   "execution_count": 46,
   "metadata": {},
   "outputs": [
    {
     "data": {
      "text/plain": [
       "(72, 53, 53)"
      ]
     },
     "execution_count": 46,
     "metadata": {},
     "output_type": "execute_result"
    }
   ],
   "source": [
    "reconstructions.shape"
   ]
  },
  {
   "cell_type": "markdown",
   "metadata": {},
   "source": [
    "### add the reconstructions to the dset_valid dataset "
   ]
  },
  {
   "cell_type": "code",
   "execution_count": 47,
   "metadata": {},
   "outputs": [],
   "source": [
    "dset_valid[var_name.lower() + '_recons'] = (('time','lat','lon'), reconstructions)"
   ]
  },
  {
   "cell_type": "code",
   "execution_count": 48,
   "metadata": {},
   "outputs": [
    {
     "data": {
      "text/html": [
       "<pre>&lt;xarray.Dataset&gt;\n",
       "Dimensions:     (lat: 53, lon: 53, time: 72)\n",
       "Coordinates:\n",
       "    surface     int64 0\n",
       "    step        int64 3\n",
       "  * lat         (lat) float64 -65.0 -62.5 -60.0 -57.5 ... 57.5 60.0 62.5 65.0\n",
       "  * lon         (lon) float64 90.0 92.5 95.0 97.5 ... 212.5 215.0 217.5 220.0\n",
       "  * time        (time) datetime64[ns] 2011-01-01 2011-02-01 ... 2016-12-01\n",
       "    month       (time) int64 1 2 3 4 5 6 7 8 9 10 11 ... 3 4 5 6 7 8 9 10 11 12\n",
       "    valid_time  (time) datetime64[ns] 2011-05-01 2011-06-01 ... 2017-04-01\n",
       "Data variables:\n",
       "    t2m         (time, lat, lon) float64 0.3599 0.4714 0.5659 ... 0.7505 0.818\n",
       "    t2m_recons  (time, lat, lon) float32 0.3455241 0.40939397 ... 0.44529048</pre>"
      ],
      "text/plain": [
       "<xarray.Dataset>\n",
       "Dimensions:     (lat: 53, lon: 53, time: 72)\n",
       "Coordinates:\n",
       "    surface     int64 0\n",
       "    step        int64 3\n",
       "  * lat         (lat) float64 -65.0 -62.5 -60.0 -57.5 ... 57.5 60.0 62.5 65.0\n",
       "  * lon         (lon) float64 90.0 92.5 95.0 97.5 ... 212.5 215.0 217.5 220.0\n",
       "  * time        (time) datetime64[ns] 2011-01-01 2011-02-01 ... 2016-12-01\n",
       "    month       (time) int64 1 2 3 4 5 6 7 8 9 10 11 ... 3 4 5 6 7 8 9 10 11 12\n",
       "    valid_time  (time) datetime64[ns] 2011-05-01 2011-06-01 ... 2017-04-01\n",
       "Data variables:\n",
       "    t2m         (time, lat, lon) float64 0.3599 0.4714 0.5659 ... 0.7505 0.818\n",
       "    t2m_recons  (time, lat, lon) float32 0.3455241 0.40939397 ... 0.44529048"
      ]
     },
     "execution_count": 48,
     "metadata": {},
     "output_type": "execute_result"
    }
   ],
   "source": [
    "dset_valid"
   ]
  },
  {
   "cell_type": "code",
   "execution_count": 54,
   "metadata": {},
   "outputs": [],
   "source": [
    "i = 0"
   ]
  },
  {
   "cell_type": "code",
   "execution_count": 55,
   "metadata": {},
   "outputs": [
    {
     "data": {
      "text/plain": [
       "0.24"
      ]
     },
     "execution_count": 55,
     "metadata": {},
     "output_type": "execute_result"
    }
   ],
   "source": [
    "np.round(last_mae, 2)"
   ]
  },
  {
   "cell_type": "code",
   "execution_count": 56,
   "metadata": {},
   "outputs": [
    {
     "data": {
      "text/plain": [
       "Text(0.5, 1.0, 'reconstruction with stacked AE\\n20 codings\\nMAE = 0.24, MSE = 0.11')"
      ]
     },
     "execution_count": 56,
     "metadata": {},
     "output_type": "execute_result"
    },
    {
     "data": {
      "image/png": "[encoded data removed]",
      "text/plain": [
       "<Figure size 1200x600 with 4 Axes>"
      ]
     },
     "metadata": {
      "image/png": {
       "height": 600,
       "width": 1200
      }
     },
     "output_type": "display_data"
    }
   ],
   "source": [
    "f, axes = plt.subplots(ncols=2, figsize=(12, 6))\n",
    "\n",
    "dset_valid.isel(time=i)[var_name.lower()].plot(ax=axes[0], vmin=-4, vmax=4, cmap=plt.cm.RdBu_r)\n",
    "\n",
    "dset_valid.isel(time=i)[var_name.lower() + '_recons'].plot(ax=axes[1], vmin=-4,  vmax=4, cmap=plt.cm.RdBu_r)\n",
    "\n",
    "axes[0].set_title('original field')\n",
    "\n",
    "axes[1].set_title(f'reconstruction with stacked AE\\n{n_codings} codings\\nMAE = {last_mae:4.2f}, MSE = {last_mse:4.2f}')"
   ]
  },
  {
   "cell_type": "code",
   "execution_count": 52,
   "metadata": {},
   "outputs": [
    {
     "data": {
      "text/plain": [
       "(72, 20)"
      ]
     },
     "execution_count": 52,
     "metadata": {},
     "output_type": "execute_result"
    }
   ],
   "source": [
    "codings.shape"
   ]
  },
  {
   "cell_type": "code",
   "execution_count": 53,
   "metadata": {},
   "outputs": [
    {
     "data": {
      "image/png": "[encoded data removed]",
      "text/plain": [
       "<Figure size 640x480 with 1 Axes>"
      ]
     },
     "metadata": {
      "image/png": {
       "height": 480,
       "width": 640
      }
     },
     "output_type": "display_data"
    }
   ],
   "source": [
    "plt.imshow(codings.T)\n",
    "plt.tight_layout()"
   ]
  },
  {
   "cell_type": "markdown",
   "metadata": {},
   "source": [
    "### PCA "
   ]
  },
  {
   "cell_type": "code",
   "execution_count": 58,
   "metadata": {},
   "outputs": [],
   "source": [
    "from sklearn.decomposition import pca"
   ]
  },
  {
   "cell_type": "code",
   "execution_count": 59,
   "metadata": {},
   "outputs": [],
   "source": [
    "skpca = pca.PCA()"
   ]
  },
  {
   "cell_type": "code",
   "execution_count": 62,
   "metadata": {},
   "outputs": [
    {
     "data": {
      "text/plain": [
       "PCA(copy=True, iterated_power='auto', n_components=None, random_state=None,\n",
       "    svd_solver='auto', tol=0.0, whiten=False)"
      ]
     },
     "execution_count": 62,
     "metadata": {},
     "output_type": "execute_result"
    }
   ],
   "source": [
    "skpca.fit(X_train.reshape(X_train.shape[0],X_train.shape[1] * X_train.shape[2]))"
   ]
  },
  {
   "cell_type": "code",
   "execution_count": 61,
   "metadata": {},
   "outputs": [
    {
     "data": {
      "text/plain": [
       "(216, 53, 53)"
      ]
     },
     "execution_count": 61,
     "metadata": {},
     "output_type": "execute_result"
    }
   ],
   "source": [
    "X_train.shape"
   ]
  },
  {
   "cell_type": "code",
   "execution_count": 63,
   "metadata": {},
   "outputs": [],
   "source": [
    "PCs = skpca.transform(X_valid.reshape(X_valid.shape[0],X_valid.shape[1] * X_valid.shape[2]))"
   ]
  },
  {
   "cell_type": "code",
   "execution_count": 64,
   "metadata": {},
   "outputs": [
    {
     "data": {
      "text/plain": [
       "(72, 216)"
      ]
     },
     "execution_count": 64,
     "metadata": {},
     "output_type": "execute_result"
    }
   ],
   "source": [
    "PCs.shape"
   ]
  },
  {
   "cell_type": "code",
   "execution_count": 68,
   "metadata": {},
   "outputs": [],
   "source": [
    "PCs = PCs[:,:n_codings]"
   ]
  },
  {
   "cell_type": "code",
   "execution_count": 65,
   "metadata": {},
   "outputs": [],
   "source": [
    "EOFs = skpca.components_"
   ]
  },
  {
   "cell_type": "code",
   "execution_count": 66,
   "metadata": {},
   "outputs": [],
   "source": [
    "EOFs = EOFs[:n_codings,:]"
   ]
  },
  {
   "cell_type": "code",
   "execution_count": 72,
   "metadata": {},
   "outputs": [
    {
     "data": {
      "text/plain": [
       "(20, 2809)"
      ]
     },
     "execution_count": 72,
     "metadata": {},
     "output_type": "execute_result"
    }
   ],
   "source": [
    "EOFs.shape"
   ]
  },
  {
   "cell_type": "code",
   "execution_count": 70,
   "metadata": {},
   "outputs": [
    {
     "data": {
      "text/plain": [
       "(72, 20)"
      ]
     },
     "execution_count": 70,
     "metadata": {},
     "output_type": "execute_result"
    }
   ],
   "source": [
    "PCs.shape"
   ]
  },
  {
   "cell_type": "code",
   "execution_count": 74,
   "metadata": {},
   "outputs": [],
   "source": [
    "recons_pca = np.dot(PCs, EOFs)"
   ]
  },
  {
   "cell_type": "code",
   "execution_count": 76,
   "metadata": {},
   "outputs": [
    {
     "data": {
      "text/plain": [
       "(72, 2809)"
      ]
     },
     "execution_count": 76,
     "metadata": {},
     "output_type": "execute_result"
    }
   ],
   "source": [
    "recons_pca.shape"
   ]
  },
  {
   "cell_type": "code",
   "execution_count": 78,
   "metadata": {},
   "outputs": [],
   "source": [
    "recons_pca = recons_pca.reshape(recons_pca.shape[0], ny, nx)"
   ]
  },
  {
   "cell_type": "code",
   "execution_count": 79,
   "metadata": {},
   "outputs": [
    {
     "data": {
      "text/plain": [
       "(72, 53, 53)"
      ]
     },
     "execution_count": 79,
     "metadata": {},
     "output_type": "execute_result"
    }
   ],
   "source": [
    "recons_pca.shape"
   ]
  },
  {
   "cell_type": "code",
   "execution_count": null,
   "metadata": {},
   "outputs": [],
   "source": []
  }
 ],
 "metadata": {
  "kernelspec": {
   "display_name": "Python 3",
   "language": "python",
   "name": "python3"
  },
  "language_info": {
   "codemirror_mode": {
    "name": "ipython",
    "version": 3
   },
   "file_extension": ".py",
   "mimetype": "text/x-python",
   "name": "python",
   "nbconvert_exporter": "python",
   "pygments_lexer": "ipython3",
   "version": "3.7.5"
  },
  "nav_menu": {
   "height": "381px",
   "width": "453px"
  },
  "toc": {
   "navigate_menu": true,
   "number_sections": true,
   "sideBar": true,
   "threshold": 6,
   "toc_cell": false,
   "toc_section_display": "block",
   "toc_window_display": false
  }
 },
 "nbformat": 4,
 "nbformat_minor": 4
}
